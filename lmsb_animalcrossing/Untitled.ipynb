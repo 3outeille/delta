{
 "cells": [
  {
   "cell_type": "code",
   "execution_count": 149,
   "id": "170fbe28-6b3c-4dcc-b4aa-f6f8b2c6aa34",
   "metadata": {},
   "outputs": [],
   "source": [
    "#--------- IMPORTS --------------\n",
    "\n",
    "import numpy as np\n",
    "import pandas as pd\n",
    "%matplotlib inline\n",
    "%config InlineBackend.figure_format = 'retina'\n",
    "\n",
    "import matplotlib.pyplot as plt\n",
    "import seaborn as sns\n",
    "import plotly\n",
    "import plotly.offline as py\n",
    "import plotly.graph_objects as go\n",
    "\n",
    "#--------- IMPORTS --------------"
   ]
  },
  {
   "cell_type": "code",
   "execution_count": 150,
   "id": "225182fb-20bd-4a8e-bd64-8c18fd59edc0",
   "metadata": {},
   "outputs": [
    {
     "data": {
      "text/html": [
       "<div>\n",
       "<style scoped>\n",
       "    .dataframe tbody tr th:only-of-type {\n",
       "        vertical-align: middle;\n",
       "    }\n",
       "\n",
       "    .dataframe tbody tr th {\n",
       "        vertical-align: top;\n",
       "    }\n",
       "\n",
       "    .dataframe thead th {\n",
       "        text-align: right;\n",
       "    }\n",
       "</style>\n",
       "<table border=\"1\" class=\"dataframe\">\n",
       "  <thead>\n",
       "    <tr style=\"text-align: right;\">\n",
       "      <th></th>\n",
       "      <th>_id</th>\n",
       "      <th>Name</th>\n",
       "      <th>Icon Image</th>\n",
       "      <th>Sell</th>\n",
       "      <th>Where/How</th>\n",
       "      <th>Shadow</th>\n",
       "      <th>Catch Difficulty</th>\n",
       "      <th>Vision</th>\n",
       "      <th>Total Catches to Unlock</th>\n",
       "      <th>Spawn Rates</th>\n",
       "      <th>...</th>\n",
       "      <th>SH May</th>\n",
       "      <th>SH Jun</th>\n",
       "      <th>SH Jul</th>\n",
       "      <th>SH Aug</th>\n",
       "      <th>SH Sep</th>\n",
       "      <th>SH Oct</th>\n",
       "      <th>SH Nov</th>\n",
       "      <th>SH Dec</th>\n",
       "      <th>Size</th>\n",
       "      <th>Surface</th>\n",
       "    </tr>\n",
       "  </thead>\n",
       "  <tbody>\n",
       "    <tr>\n",
       "      <th>0</th>\n",
       "      <td>56.0</td>\n",
       "      <td>ANCHOVY</td>\n",
       "      <td>https://acnhcdn.com/latest/MenuIcon/Fish81.png</td>\n",
       "      <td>200.0</td>\n",
       "      <td>Sea</td>\n",
       "      <td>Small</td>\n",
       "      <td>Very Easy</td>\n",
       "      <td>Very Wide</td>\n",
       "      <td>0.0</td>\n",
       "      <td>2–5</td>\n",
       "      <td>...</td>\n",
       "      <td>4 AM – 9 PM</td>\n",
       "      <td>4 AM – 9 PM</td>\n",
       "      <td>4 AM – 9 PM</td>\n",
       "      <td>4 AM – 9 PM</td>\n",
       "      <td>4 AM – 9 PM</td>\n",
       "      <td>4 AM – 9 PM</td>\n",
       "      <td>4 AM – 9 PM</td>\n",
       "      <td>4 AM – 9 PM</td>\n",
       "      <td>1x1</td>\n",
       "      <td>No</td>\n",
       "    </tr>\n",
       "    <tr>\n",
       "      <th>1</th>\n",
       "      <td>36.0</td>\n",
       "      <td>ANGELFISH</td>\n",
       "      <td>https://acnhcdn.com/latest/MenuIcon/Fish30.png</td>\n",
       "      <td>3000.0</td>\n",
       "      <td>River</td>\n",
       "      <td>Small</td>\n",
       "      <td>Easy</td>\n",
       "      <td>Medium</td>\n",
       "      <td>20.0</td>\n",
       "      <td>2–5</td>\n",
       "      <td>...</td>\n",
       "      <td>NaN</td>\n",
       "      <td>NaN</td>\n",
       "      <td>NaN</td>\n",
       "      <td>NaN</td>\n",
       "      <td>NaN</td>\n",
       "      <td>NaN</td>\n",
       "      <td>4 PM – 9 AM</td>\n",
       "      <td>4 PM – 9 AM</td>\n",
       "      <td>1x1</td>\n",
       "      <td>Yes</td>\n",
       "    </tr>\n",
       "    <tr>\n",
       "      <th>2</th>\n",
       "      <td>44.0</td>\n",
       "      <td>ARAPAIMA</td>\n",
       "      <td>https://acnhcdn.com/latest/MenuIcon/Fish36.png</td>\n",
       "      <td>10000.0</td>\n",
       "      <td>River</td>\n",
       "      <td>XX-Large</td>\n",
       "      <td>Very Hard</td>\n",
       "      <td>Narrow</td>\n",
       "      <td>50.0</td>\n",
       "      <td>1</td>\n",
       "      <td>...</td>\n",
       "      <td>NaN</td>\n",
       "      <td>NaN</td>\n",
       "      <td>NaN</td>\n",
       "      <td>NaN</td>\n",
       "      <td>NaN</td>\n",
       "      <td>NaN</td>\n",
       "      <td>NaN</td>\n",
       "      <td>4 PM – 9 AM</td>\n",
       "      <td>3x2</td>\n",
       "      <td>No</td>\n",
       "    </tr>\n",
       "    <tr>\n",
       "      <th>3</th>\n",
       "      <td>41.0</td>\n",
       "      <td>AROWANA</td>\n",
       "      <td>https://acnhcdn.com/latest/MenuIcon/Fish33.png</td>\n",
       "      <td>10000.0</td>\n",
       "      <td>River</td>\n",
       "      <td>Large</td>\n",
       "      <td>Very Hard</td>\n",
       "      <td>Medium</td>\n",
       "      <td>50.0</td>\n",
       "      <td>1–2</td>\n",
       "      <td>...</td>\n",
       "      <td>NaN</td>\n",
       "      <td>NaN</td>\n",
       "      <td>NaN</td>\n",
       "      <td>NaN</td>\n",
       "      <td>NaN</td>\n",
       "      <td>NaN</td>\n",
       "      <td>NaN</td>\n",
       "      <td>4 PM – 9 AM</td>\n",
       "      <td>2x1</td>\n",
       "      <td>Yes</td>\n",
       "    </tr>\n",
       "    <tr>\n",
       "      <th>4</th>\n",
       "      <td>58.0</td>\n",
       "      <td>BARRED KNIFEJAW</td>\n",
       "      <td>https://acnhcdn.com/latest/MenuIcon/Fish47.png</td>\n",
       "      <td>5000.0</td>\n",
       "      <td>Sea</td>\n",
       "      <td>Medium</td>\n",
       "      <td>Hard</td>\n",
       "      <td>Medium</td>\n",
       "      <td>20.0</td>\n",
       "      <td>3–5</td>\n",
       "      <td>...</td>\n",
       "      <td>All day</td>\n",
       "      <td>NaN</td>\n",
       "      <td>NaN</td>\n",
       "      <td>NaN</td>\n",
       "      <td>All day</td>\n",
       "      <td>All day</td>\n",
       "      <td>All day</td>\n",
       "      <td>All day</td>\n",
       "      <td>1x1</td>\n",
       "      <td>Yes</td>\n",
       "    </tr>\n",
       "    <tr>\n",
       "      <th>...</th>\n",
       "      <td>...</td>\n",
       "      <td>...</td>\n",
       "      <td>...</td>\n",
       "      <td>...</td>\n",
       "      <td>...</td>\n",
       "      <td>...</td>\n",
       "      <td>...</td>\n",
       "      <td>...</td>\n",
       "      <td>...</td>\n",
       "      <td>...</td>\n",
       "      <td>...</td>\n",
       "      <td>...</td>\n",
       "      <td>...</td>\n",
       "      <td>...</td>\n",
       "      <td>...</td>\n",
       "      <td>...</td>\n",
       "      <td>...</td>\n",
       "      <td>...</td>\n",
       "      <td>...</td>\n",
       "      <td>...</td>\n",
       "      <td>...</td>\n",
       "    </tr>\n",
       "    <tr>\n",
       "      <th>75</th>\n",
       "      <td>23.0</td>\n",
       "      <td>TILAPIA</td>\n",
       "      <td>https://acnhcdn.com/latest/MenuIcon/Fish76.png</td>\n",
       "      <td>800.0</td>\n",
       "      <td>River</td>\n",
       "      <td>Medium</td>\n",
       "      <td>Hard</td>\n",
       "      <td>Medium</td>\n",
       "      <td>0.0</td>\n",
       "      <td>7–9</td>\n",
       "      <td>...</td>\n",
       "      <td>NaN</td>\n",
       "      <td>NaN</td>\n",
       "      <td>NaN</td>\n",
       "      <td>NaN</td>\n",
       "      <td>NaN</td>\n",
       "      <td>NaN</td>\n",
       "      <td>NaN</td>\n",
       "      <td>All day</td>\n",
       "      <td>1x1</td>\n",
       "      <td>Yes</td>\n",
       "    </tr>\n",
       "    <tr>\n",
       "      <th>76</th>\n",
       "      <td>66.0</td>\n",
       "      <td>TUNA</td>\n",
       "      <td>https://acnhcdn.com/latest/MenuIcon/Fish57.png</td>\n",
       "      <td>7000.0</td>\n",
       "      <td>Pier</td>\n",
       "      <td>XX-Large</td>\n",
       "      <td>Very Hard</td>\n",
       "      <td>Narrow</td>\n",
       "      <td>50.0</td>\n",
       "      <td>2</td>\n",
       "      <td>...</td>\n",
       "      <td>All day</td>\n",
       "      <td>All day</td>\n",
       "      <td>All day</td>\n",
       "      <td>All day</td>\n",
       "      <td>All day</td>\n",
       "      <td>All day</td>\n",
       "      <td>NaN</td>\n",
       "      <td>NaN</td>\n",
       "      <td>2x1</td>\n",
       "      <td>Yes</td>\n",
       "    </tr>\n",
       "    <tr>\n",
       "      <th>77</th>\n",
       "      <td>75.0</td>\n",
       "      <td>WHALE SHARK</td>\n",
       "      <td>https://acnhcdn.com/latest/MenuIcon/Fish72.png</td>\n",
       "      <td>13000.0</td>\n",
       "      <td>Sea</td>\n",
       "      <td>X-Large w/Fin</td>\n",
       "      <td>Very Hard</td>\n",
       "      <td>Very Narrow</td>\n",
       "      <td>50.0</td>\n",
       "      <td>1</td>\n",
       "      <td>...</td>\n",
       "      <td>NaN</td>\n",
       "      <td>NaN</td>\n",
       "      <td>NaN</td>\n",
       "      <td>NaN</td>\n",
       "      <td>NaN</td>\n",
       "      <td>NaN</td>\n",
       "      <td>NaN</td>\n",
       "      <td>All day</td>\n",
       "      <td>3x2</td>\n",
       "      <td>No</td>\n",
       "    </tr>\n",
       "    <tr>\n",
       "      <th>78</th>\n",
       "      <td>21.0</td>\n",
       "      <td>YELLOW PERCH</td>\n",
       "      <td>https://acnhcdn.com/latest/MenuIcon/Fish18.png</td>\n",
       "      <td>300.0</td>\n",
       "      <td>River</td>\n",
       "      <td>Medium</td>\n",
       "      <td>Medium</td>\n",
       "      <td>Narrow</td>\n",
       "      <td>0.0</td>\n",
       "      <td>7–10</td>\n",
       "      <td>...</td>\n",
       "      <td>All day</td>\n",
       "      <td>All day</td>\n",
       "      <td>All day</td>\n",
       "      <td>All day</td>\n",
       "      <td>All day</td>\n",
       "      <td>NaN</td>\n",
       "      <td>NaN</td>\n",
       "      <td>NaN</td>\n",
       "      <td>1x1</td>\n",
       "      <td>Yes</td>\n",
       "    </tr>\n",
       "    <tr>\n",
       "      <th>79</th>\n",
       "      <td>53.0</td>\n",
       "      <td>ZEBRA TURKEYFISH</td>\n",
       "      <td>https://acnhcdn.com/latest/MenuIcon/Fish44.png</td>\n",
       "      <td>500.0</td>\n",
       "      <td>Sea</td>\n",
       "      <td>Medium</td>\n",
       "      <td>Very Easy</td>\n",
       "      <td>Wide</td>\n",
       "      <td>0.0</td>\n",
       "      <td>6–8</td>\n",
       "      <td>...</td>\n",
       "      <td>All day</td>\n",
       "      <td>NaN</td>\n",
       "      <td>NaN</td>\n",
       "      <td>NaN</td>\n",
       "      <td>NaN</td>\n",
       "      <td>All day</td>\n",
       "      <td>All day</td>\n",
       "      <td>All day</td>\n",
       "      <td>1x1</td>\n",
       "      <td>Yes</td>\n",
       "    </tr>\n",
       "  </tbody>\n",
       "</table>\n",
       "<p>80 rows × 36 columns</p>\n",
       "</div>"
      ],
      "text/plain": [
       "     _id              Name                                      Icon Image  \\\n",
       "0   56.0           ANCHOVY  https://acnhcdn.com/latest/MenuIcon/Fish81.png   \n",
       "1   36.0         ANGELFISH  https://acnhcdn.com/latest/MenuIcon/Fish30.png   \n",
       "2   44.0          ARAPAIMA  https://acnhcdn.com/latest/MenuIcon/Fish36.png   \n",
       "3   41.0           AROWANA  https://acnhcdn.com/latest/MenuIcon/Fish33.png   \n",
       "4   58.0   BARRED KNIFEJAW  https://acnhcdn.com/latest/MenuIcon/Fish47.png   \n",
       "..   ...               ...                                             ...   \n",
       "75  23.0           TILAPIA  https://acnhcdn.com/latest/MenuIcon/Fish76.png   \n",
       "76  66.0              TUNA  https://acnhcdn.com/latest/MenuIcon/Fish57.png   \n",
       "77  75.0       WHALE SHARK  https://acnhcdn.com/latest/MenuIcon/Fish72.png   \n",
       "78  21.0      YELLOW PERCH  https://acnhcdn.com/latest/MenuIcon/Fish18.png   \n",
       "79  53.0  ZEBRA TURKEYFISH  https://acnhcdn.com/latest/MenuIcon/Fish44.png   \n",
       "\n",
       "       Sell Where/How         Shadow Catch Difficulty       Vision  \\\n",
       "0     200.0       Sea          Small        Very Easy    Very Wide   \n",
       "1    3000.0     River          Small             Easy       Medium   \n",
       "2   10000.0     River       XX-Large        Very Hard       Narrow   \n",
       "3   10000.0     River          Large        Very Hard       Medium   \n",
       "4    5000.0       Sea         Medium             Hard       Medium   \n",
       "..      ...       ...            ...              ...          ...   \n",
       "75    800.0     River         Medium             Hard       Medium   \n",
       "76   7000.0      Pier       XX-Large        Very Hard       Narrow   \n",
       "77  13000.0       Sea  X-Large w/Fin        Very Hard  Very Narrow   \n",
       "78    300.0     River         Medium           Medium       Narrow   \n",
       "79    500.0       Sea         Medium        Very Easy         Wide   \n",
       "\n",
       "    Total Catches to Unlock Spawn Rates  ...       SH May       SH Jun  \\\n",
       "0                       0.0         2–5  ...  4 AM – 9 PM  4 AM – 9 PM   \n",
       "1                      20.0         2–5  ...          NaN          NaN   \n",
       "2                      50.0           1  ...          NaN          NaN   \n",
       "3                      50.0         1–2  ...          NaN          NaN   \n",
       "4                      20.0         3–5  ...      All day          NaN   \n",
       "..                      ...         ...  ...          ...          ...   \n",
       "75                      0.0         7–9  ...          NaN          NaN   \n",
       "76                     50.0           2  ...      All day      All day   \n",
       "77                     50.0           1  ...          NaN          NaN   \n",
       "78                      0.0        7–10  ...      All day      All day   \n",
       "79                      0.0         6–8  ...      All day          NaN   \n",
       "\n",
       "         SH Jul       SH Aug       SH Sep       SH Oct       SH Nov  \\\n",
       "0   4 AM – 9 PM  4 AM – 9 PM  4 AM – 9 PM  4 AM – 9 PM  4 AM – 9 PM   \n",
       "1           NaN          NaN          NaN          NaN  4 PM – 9 AM   \n",
       "2           NaN          NaN          NaN          NaN          NaN   \n",
       "3           NaN          NaN          NaN          NaN          NaN   \n",
       "4           NaN          NaN      All day      All day      All day   \n",
       "..          ...          ...          ...          ...          ...   \n",
       "75          NaN          NaN          NaN          NaN          NaN   \n",
       "76      All day      All day      All day      All day          NaN   \n",
       "77          NaN          NaN          NaN          NaN          NaN   \n",
       "78      All day      All day      All day          NaN          NaN   \n",
       "79          NaN          NaN          NaN      All day      All day   \n",
       "\n",
       "         SH Dec Size Surface  \n",
       "0   4 AM – 9 PM  1x1      No  \n",
       "1   4 PM – 9 AM  1x1     Yes  \n",
       "2   4 PM – 9 AM  3x2      No  \n",
       "3   4 PM – 9 AM  2x1     Yes  \n",
       "4       All day  1x1     Yes  \n",
       "..          ...  ...     ...  \n",
       "75      All day  1x1     Yes  \n",
       "76          NaN  2x1     Yes  \n",
       "77      All day  3x2      No  \n",
       "78          NaN  1x1     Yes  \n",
       "79      All day  1x1     Yes  \n",
       "\n",
       "[80 rows x 36 columns]"
      ]
     },
     "execution_count": 150,
     "metadata": {},
     "output_type": "execute_result"
    }
   ],
   "source": [
    "#--------- Display Fish DB --------------\n",
    "\n",
    "fish = pd.read_csv(\"data/fish.csv\", sep=',')\n",
    "fish = fish.iloc[:, :-12]\n",
    "fish = fish.drop(columns=['Critterpedia Image', 'Furniture Image'])\n",
    "fish[\"Name\"] = fish[\"Name\"].apply(lambda x: x.upper())\n",
    "fish"
   ]
  },
  {
   "cell_type": "code",
   "execution_count": 151,
   "id": "670c4a51-9bc6-463a-ae4b-e1f6b3216f07",
   "metadata": {},
   "outputs": [
    {
     "data": {
      "text/plain": [
       "[685, 1040, 2240, 5058, 8935]"
      ]
     },
     "execution_count": 151,
     "metadata": {},
     "output_type": "execute_result"
    }
   ],
   "source": [
    "#--------- Mean functions for correlations --------------\n",
    "\n",
    "def get_mean(difficulty):\n",
    "    mask = fish['Catch Difficulty'] == difficulty\n",
    "    filtered_fish = fish[mask]\n",
    "    return int(filtered_fish[\"Sell\"].mean())\n",
    "\n",
    "mean = []\n",
    "list_difficulty = [\"Very Easy\", \"Easy\", \"Medium\", \"Hard\", \"Very Hard\"]\n",
    "\n",
    "for i in list_difficulty :\n",
    "    mean.append(get_mean(i))\n",
    "mean\n",
    "\n",
    "#----------------------------\n",
    "\n",
    "def get_mean_vision(vision):\n",
    "    mask = fish['Vision'] == vision\n",
    "    filtered_fish = fish[mask]\n",
    "    return int(filtered_fish[\"Sell\"].mean())\n",
    "\n",
    "mean_vision = []\n",
    "list_vision = [\"Very Wide\", \"Wide\", \"Medium\", \"Narrow\", \"Very Narrow\"]\n",
    "\n",
    "for i in list_vision:\n",
    "    mean_vision.append(get_mean_vision(i))\n",
    "mean_vision"
   ]
  },
  {
   "cell_type": "code",
   "execution_count": 152,
   "id": "e93e402d-287f-4f49-a5aa-ab57a0c6b4a2",
   "metadata": {},
   "outputs": [
    {
     "data": {
      "application/vnd.plotly.v1+json": {
       "config": {
        "linkText": "Export to plot.ly",
        "modeBarButtonsToRemove": [
         "sendDataToCloud"
        ],
        "plotlyServerURL": "https://plot.ly",
        "scrollZoom": true,
        "showLink": false
       },
       "data": [
        {
         "line": {
          "color": "dodgerblue"
         },
         "mode": "lines",
         "name": "Prix moyen",
         "type": "scatter",
         "x": [
          "Very Easy",
          "Easy",
          "Medium",
          "Hard",
          "Very Hard"
         ],
         "y": [
          780,
          1062,
          1195,
          4265,
          11464
         ]
        },
        {
         "mode": "markers",
         "name": "Prix unitaire",
         "text": [
          "Nom du poisson : ANCHOVY",
          "Nom du poisson : ANGELFISH",
          "Nom du poisson : ARAPAIMA",
          "Nom du poisson : AROWANA",
          "Nom du poisson : BARRED KNIFEJAW",
          "Nom du poisson : BARRELEYE",
          "Nom du poisson : BETTA",
          "Nom du poisson : BITTERLING",
          "Nom du poisson : BLACK BASS",
          "Nom du poisson : BLOWFISH",
          "Nom du poisson : BLUE MARLIN",
          "Nom du poisson : BLUEGILL",
          "Nom du poisson : BUTTERFLY FISH",
          "Nom du poisson : CARP",
          "Nom du poisson : CATFISH",
          "Nom du poisson : CHAR",
          "Nom du poisson : CHERRY SALMON",
          "Nom du poisson : CLOWN FISH",
          "Nom du poisson : COELACANTH",
          "Nom du poisson : CRAWFISH",
          "Nom du poisson : CRUCIAN CARP",
          "Nom du poisson : DAB",
          "Nom du poisson : DACE",
          "Nom du poisson : DORADO",
          "Nom du poisson : FOOTBALL FISH",
          "Nom du poisson : FRESHWATER GOBY",
          "Nom du poisson : FROG",
          "Nom du poisson : GAR",
          "Nom du poisson : GIANT SNAKEHEAD",
          "Nom du poisson : GIANT TREVALLY",
          "Nom du poisson : GOLDEN TROUT",
          "Nom du poisson : GOLDFISH",
          "Nom du poisson : GREAT WHITE SHARK",
          "Nom du poisson : GUPPY",
          "Nom du poisson : HAMMERHEAD SHARK",
          "Nom du poisson : HORSE MACKEREL",
          "Nom du poisson : KILLIFISH",
          "Nom du poisson : KING SALMON",
          "Nom du poisson : KOI",
          "Nom du poisson : LOACH",
          "Nom du poisson : MAHI-MAHI",
          "Nom du poisson : MITTEN CRAB",
          "Nom du poisson : MORAY EEL",
          "Nom du poisson : NAPOLEONFISH",
          "Nom du poisson : NEON TETRA",
          "Nom du poisson : NIBBLE FISH",
          "Nom du poisson : OARFISH",
          "Nom du poisson : OCEAN SUNFISH",
          "Nom du poisson : OLIVE FLOUNDER",
          "Nom du poisson : PALE CHUB",
          "Nom du poisson : PIKE",
          "Nom du poisson : PIRANHA",
          "Nom du poisson : POND SMELT",
          "Nom du poisson : POP-EYED GOLDFISH",
          "Nom du poisson : PUFFER FISH",
          "Nom du poisson : RAINBOWFISH",
          "Nom du poisson : RANCHU GOLDFISH",
          "Nom du poisson : RAY",
          "Nom du poisson : RED SNAPPER",
          "Nom du poisson : RIBBON EEL",
          "Nom du poisson : SADDLED BICHIR",
          "Nom du poisson : SALMON",
          "Nom du poisson : SAW SHARK",
          "Nom du poisson : SEA BASS",
          "Nom du poisson : SEA BUTTERFLY",
          "Nom du poisson : SEA HORSE",
          "Nom du poisson : SNAPPING TURTLE",
          "Nom du poisson : SOFT-SHELLED TURTLE",
          "Nom du poisson : SQUID",
          "Nom du poisson : STRINGFISH",
          "Nom du poisson : STURGEON",
          "Nom du poisson : SUCKERFISH",
          "Nom du poisson : SURGEONFISH",
          "Nom du poisson : SWEETFISH",
          "Nom du poisson : TADPOLE",
          "Nom du poisson : TILAPIA",
          "Nom du poisson : TUNA",
          "Nom du poisson : WHALE SHARK",
          "Nom du poisson : YELLOW PERCH",
          "Nom du poisson : ZEBRA TURKEYFISH"
         ],
         "type": "scatter",
         "x": [
          "Very Easy",
          "Easy",
          "Very Hard",
          "Very Hard",
          "Hard",
          "Very Hard",
          "Hard",
          "Hard",
          "Medium",
          "Medium",
          "Very Hard",
          "Very Easy",
          "Easy",
          "Very Easy",
          "Medium",
          "Hard",
          "Medium",
          "Medium",
          "Very Hard",
          "Very Easy",
          "Very Easy",
          "Easy",
          "Easy",
          "Very Hard",
          "Very Easy",
          "Very Easy",
          "Easy",
          "Hard",
          "Hard",
          "Very Hard",
          "Very Hard",
          "Easy",
          "Very Hard",
          "Easy",
          "Hard",
          "Very Easy",
          "Medium",
          "Hard",
          "Easy",
          "Easy",
          "Very Hard",
          "Hard",
          "Easy",
          "Hard",
          "Easy",
          "Medium",
          "Hard",
          "Hard",
          "Medium",
          "Easy",
          "Medium",
          "Very Easy",
          "Easy",
          "Easy",
          "Easy",
          "Hard",
          "Hard",
          "Easy",
          "Hard",
          "Hard",
          "Hard",
          "Medium",
          "Hard",
          "Easy",
          "Easy",
          "Medium",
          "Hard",
          "Hard",
          "Easy",
          "Very Hard",
          "Very Hard",
          "Very Easy",
          "Easy",
          "Hard",
          "Easy",
          "Hard",
          "Very Hard",
          "Very Hard",
          "Medium",
          "Very Easy"
         ],
         "y": [
          200,
          3000,
          10000,
          10000,
          5000,
          15000,
          2500,
          900,
          400,
          5000,
          10000,
          180,
          1000,
          300,
          800,
          3800,
          1000,
          650,
          15000,
          200,
          160,
          300,
          240,
          15000,
          2500,
          400,
          120,
          6000,
          5500,
          4500,
          15000,
          1300,
          15000,
          1300,
          8000,
          150,
          300,
          1800,
          4000,
          400,
          6000,
          2000,
          2000,
          10000,
          500,
          1500,
          9000,
          4000,
          800,
          200,
          1800,
          2500,
          400,
          1300,
          250,
          800,
          4500,
          3000,
          3000,
          600,
          4000,
          700,
          12000,
          400,
          1000,
          1100,
          5000,
          3750,
          500,
          15000,
          10000,
          1500,
          1000,
          900,
          100,
          800,
          7000,
          13000,
          300,
          500
         ]
        }
       ],
       "layout": {
        "autosize": true,
        "dragmode": "pan",
        "template": {
         "data": {
          "bar": [
           {
            "error_x": {
             "color": "#2a3f5f"
            },
            "error_y": {
             "color": "#2a3f5f"
            },
            "marker": {
             "line": {
              "color": "#E5ECF6",
              "width": 0.5
             },
             "pattern": {
              "fillmode": "overlay",
              "size": 10,
              "solidity": 0.2
             }
            },
            "type": "bar"
           }
          ],
          "barpolar": [
           {
            "marker": {
             "line": {
              "color": "#E5ECF6",
              "width": 0.5
             },
             "pattern": {
              "fillmode": "overlay",
              "size": 10,
              "solidity": 0.2
             }
            },
            "type": "barpolar"
           }
          ],
          "carpet": [
           {
            "aaxis": {
             "endlinecolor": "#2a3f5f",
             "gridcolor": "white",
             "linecolor": "white",
             "minorgridcolor": "white",
             "startlinecolor": "#2a3f5f"
            },
            "baxis": {
             "endlinecolor": "#2a3f5f",
             "gridcolor": "white",
             "linecolor": "white",
             "minorgridcolor": "white",
             "startlinecolor": "#2a3f5f"
            },
            "type": "carpet"
           }
          ],
          "choropleth": [
           {
            "colorbar": {
             "outlinewidth": 0,
             "ticks": ""
            },
            "type": "choropleth"
           }
          ],
          "contour": [
           {
            "colorbar": {
             "outlinewidth": 0,
             "ticks": ""
            },
            "colorscale": [
             [
              0,
              "#0d0887"
             ],
             [
              0.1111111111111111,
              "#46039f"
             ],
             [
              0.2222222222222222,
              "#7201a8"
             ],
             [
              0.3333333333333333,
              "#9c179e"
             ],
             [
              0.4444444444444444,
              "#bd3786"
             ],
             [
              0.5555555555555556,
              "#d8576b"
             ],
             [
              0.6666666666666666,
              "#ed7953"
             ],
             [
              0.7777777777777778,
              "#fb9f3a"
             ],
             [
              0.8888888888888888,
              "#fdca26"
             ],
             [
              1,
              "#f0f921"
             ]
            ],
            "type": "contour"
           }
          ],
          "contourcarpet": [
           {
            "colorbar": {
             "outlinewidth": 0,
             "ticks": ""
            },
            "type": "contourcarpet"
           }
          ],
          "heatmap": [
           {
            "colorbar": {
             "outlinewidth": 0,
             "ticks": ""
            },
            "colorscale": [
             [
              0,
              "#0d0887"
             ],
             [
              0.1111111111111111,
              "#46039f"
             ],
             [
              0.2222222222222222,
              "#7201a8"
             ],
             [
              0.3333333333333333,
              "#9c179e"
             ],
             [
              0.4444444444444444,
              "#bd3786"
             ],
             [
              0.5555555555555556,
              "#d8576b"
             ],
             [
              0.6666666666666666,
              "#ed7953"
             ],
             [
              0.7777777777777778,
              "#fb9f3a"
             ],
             [
              0.8888888888888888,
              "#fdca26"
             ],
             [
              1,
              "#f0f921"
             ]
            ],
            "type": "heatmap"
           }
          ],
          "heatmapgl": [
           {
            "colorbar": {
             "outlinewidth": 0,
             "ticks": ""
            },
            "colorscale": [
             [
              0,
              "#0d0887"
             ],
             [
              0.1111111111111111,
              "#46039f"
             ],
             [
              0.2222222222222222,
              "#7201a8"
             ],
             [
              0.3333333333333333,
              "#9c179e"
             ],
             [
              0.4444444444444444,
              "#bd3786"
             ],
             [
              0.5555555555555556,
              "#d8576b"
             ],
             [
              0.6666666666666666,
              "#ed7953"
             ],
             [
              0.7777777777777778,
              "#fb9f3a"
             ],
             [
              0.8888888888888888,
              "#fdca26"
             ],
             [
              1,
              "#f0f921"
             ]
            ],
            "type": "heatmapgl"
           }
          ],
          "histogram": [
           {
            "marker": {
             "pattern": {
              "fillmode": "overlay",
              "size": 10,
              "solidity": 0.2
             }
            },
            "type": "histogram"
           }
          ],
          "histogram2d": [
           {
            "colorbar": {
             "outlinewidth": 0,
             "ticks": ""
            },
            "colorscale": [
             [
              0,
              "#0d0887"
             ],
             [
              0.1111111111111111,
              "#46039f"
             ],
             [
              0.2222222222222222,
              "#7201a8"
             ],
             [
              0.3333333333333333,
              "#9c179e"
             ],
             [
              0.4444444444444444,
              "#bd3786"
             ],
             [
              0.5555555555555556,
              "#d8576b"
             ],
             [
              0.6666666666666666,
              "#ed7953"
             ],
             [
              0.7777777777777778,
              "#fb9f3a"
             ],
             [
              0.8888888888888888,
              "#fdca26"
             ],
             [
              1,
              "#f0f921"
             ]
            ],
            "type": "histogram2d"
           }
          ],
          "histogram2dcontour": [
           {
            "colorbar": {
             "outlinewidth": 0,
             "ticks": ""
            },
            "colorscale": [
             [
              0,
              "#0d0887"
             ],
             [
              0.1111111111111111,
              "#46039f"
             ],
             [
              0.2222222222222222,
              "#7201a8"
             ],
             [
              0.3333333333333333,
              "#9c179e"
             ],
             [
              0.4444444444444444,
              "#bd3786"
             ],
             [
              0.5555555555555556,
              "#d8576b"
             ],
             [
              0.6666666666666666,
              "#ed7953"
             ],
             [
              0.7777777777777778,
              "#fb9f3a"
             ],
             [
              0.8888888888888888,
              "#fdca26"
             ],
             [
              1,
              "#f0f921"
             ]
            ],
            "type": "histogram2dcontour"
           }
          ],
          "mesh3d": [
           {
            "colorbar": {
             "outlinewidth": 0,
             "ticks": ""
            },
            "type": "mesh3d"
           }
          ],
          "parcoords": [
           {
            "line": {
             "colorbar": {
              "outlinewidth": 0,
              "ticks": ""
             }
            },
            "type": "parcoords"
           }
          ],
          "pie": [
           {
            "automargin": true,
            "type": "pie"
           }
          ],
          "scatter": [
           {
            "marker": {
             "colorbar": {
              "outlinewidth": 0,
              "ticks": ""
             }
            },
            "type": "scatter"
           }
          ],
          "scatter3d": [
           {
            "line": {
             "colorbar": {
              "outlinewidth": 0,
              "ticks": ""
             }
            },
            "marker": {
             "colorbar": {
              "outlinewidth": 0,
              "ticks": ""
             }
            },
            "type": "scatter3d"
           }
          ],
          "scattercarpet": [
           {
            "marker": {
             "colorbar": {
              "outlinewidth": 0,
              "ticks": ""
             }
            },
            "type": "scattercarpet"
           }
          ],
          "scattergeo": [
           {
            "marker": {
             "colorbar": {
              "outlinewidth": 0,
              "ticks": ""
             }
            },
            "type": "scattergeo"
           }
          ],
          "scattergl": [
           {
            "marker": {
             "colorbar": {
              "outlinewidth": 0,
              "ticks": ""
             }
            },
            "type": "scattergl"
           }
          ],
          "scattermapbox": [
           {
            "marker": {
             "colorbar": {
              "outlinewidth": 0,
              "ticks": ""
             }
            },
            "type": "scattermapbox"
           }
          ],
          "scatterpolar": [
           {
            "marker": {
             "colorbar": {
              "outlinewidth": 0,
              "ticks": ""
             }
            },
            "type": "scatterpolar"
           }
          ],
          "scatterpolargl": [
           {
            "marker": {
             "colorbar": {
              "outlinewidth": 0,
              "ticks": ""
             }
            },
            "type": "scatterpolargl"
           }
          ],
          "scatterternary": [
           {
            "marker": {
             "colorbar": {
              "outlinewidth": 0,
              "ticks": ""
             }
            },
            "type": "scatterternary"
           }
          ],
          "surface": [
           {
            "colorbar": {
             "outlinewidth": 0,
             "ticks": ""
            },
            "colorscale": [
             [
              0,
              "#0d0887"
             ],
             [
              0.1111111111111111,
              "#46039f"
             ],
             [
              0.2222222222222222,
              "#7201a8"
             ],
             [
              0.3333333333333333,
              "#9c179e"
             ],
             [
              0.4444444444444444,
              "#bd3786"
             ],
             [
              0.5555555555555556,
              "#d8576b"
             ],
             [
              0.6666666666666666,
              "#ed7953"
             ],
             [
              0.7777777777777778,
              "#fb9f3a"
             ],
             [
              0.8888888888888888,
              "#fdca26"
             ],
             [
              1,
              "#f0f921"
             ]
            ],
            "type": "surface"
           }
          ],
          "table": [
           {
            "cells": {
             "fill": {
              "color": "#EBF0F8"
             },
             "line": {
              "color": "white"
             }
            },
            "header": {
             "fill": {
              "color": "#C8D4E3"
             },
             "line": {
              "color": "white"
             }
            },
            "type": "table"
           }
          ]
         },
         "layout": {
          "annotationdefaults": {
           "arrowcolor": "#2a3f5f",
           "arrowhead": 0,
           "arrowwidth": 1
          },
          "autotypenumbers": "strict",
          "coloraxis": {
           "colorbar": {
            "outlinewidth": 0,
            "ticks": ""
           }
          },
          "colorscale": {
           "diverging": [
            [
             0,
             "#8e0152"
            ],
            [
             0.1,
             "#c51b7d"
            ],
            [
             0.2,
             "#de77ae"
            ],
            [
             0.3,
             "#f1b6da"
            ],
            [
             0.4,
             "#fde0ef"
            ],
            [
             0.5,
             "#f7f7f7"
            ],
            [
             0.6,
             "#e6f5d0"
            ],
            [
             0.7,
             "#b8e186"
            ],
            [
             0.8,
             "#7fbc41"
            ],
            [
             0.9,
             "#4d9221"
            ],
            [
             1,
             "#276419"
            ]
           ],
           "sequential": [
            [
             0,
             "#0d0887"
            ],
            [
             0.1111111111111111,
             "#46039f"
            ],
            [
             0.2222222222222222,
             "#7201a8"
            ],
            [
             0.3333333333333333,
             "#9c179e"
            ],
            [
             0.4444444444444444,
             "#bd3786"
            ],
            [
             0.5555555555555556,
             "#d8576b"
            ],
            [
             0.6666666666666666,
             "#ed7953"
            ],
            [
             0.7777777777777778,
             "#fb9f3a"
            ],
            [
             0.8888888888888888,
             "#fdca26"
            ],
            [
             1,
             "#f0f921"
            ]
           ],
           "sequentialminus": [
            [
             0,
             "#0d0887"
            ],
            [
             0.1111111111111111,
             "#46039f"
            ],
            [
             0.2222222222222222,
             "#7201a8"
            ],
            [
             0.3333333333333333,
             "#9c179e"
            ],
            [
             0.4444444444444444,
             "#bd3786"
            ],
            [
             0.5555555555555556,
             "#d8576b"
            ],
            [
             0.6666666666666666,
             "#ed7953"
            ],
            [
             0.7777777777777778,
             "#fb9f3a"
            ],
            [
             0.8888888888888888,
             "#fdca26"
            ],
            [
             1,
             "#f0f921"
            ]
           ]
          },
          "colorway": [
           "#636efa",
           "#EF553B",
           "#00cc96",
           "#ab63fa",
           "#FFA15A",
           "#19d3f3",
           "#FF6692",
           "#B6E880",
           "#FF97FF",
           "#FECB52"
          ],
          "font": {
           "color": "#2a3f5f"
          },
          "geo": {
           "bgcolor": "white",
           "lakecolor": "white",
           "landcolor": "#E5ECF6",
           "showlakes": true,
           "showland": true,
           "subunitcolor": "white"
          },
          "hoverlabel": {
           "align": "left"
          },
          "hovermode": "closest",
          "mapbox": {
           "style": "light"
          },
          "paper_bgcolor": "white",
          "plot_bgcolor": "#E5ECF6",
          "polar": {
           "angularaxis": {
            "gridcolor": "white",
            "linecolor": "white",
            "ticks": ""
           },
           "bgcolor": "#E5ECF6",
           "radialaxis": {
            "gridcolor": "white",
            "linecolor": "white",
            "ticks": ""
           }
          },
          "scene": {
           "xaxis": {
            "backgroundcolor": "#E5ECF6",
            "gridcolor": "white",
            "gridwidth": 2,
            "linecolor": "white",
            "showbackground": true,
            "ticks": "",
            "zerolinecolor": "white"
           },
           "yaxis": {
            "backgroundcolor": "#E5ECF6",
            "gridcolor": "white",
            "gridwidth": 2,
            "linecolor": "white",
            "showbackground": true,
            "ticks": "",
            "zerolinecolor": "white"
           },
           "zaxis": {
            "backgroundcolor": "#E5ECF6",
            "gridcolor": "white",
            "gridwidth": 2,
            "linecolor": "white",
            "showbackground": true,
            "ticks": "",
            "zerolinecolor": "white"
           }
          },
          "shapedefaults": {
           "line": {
            "color": "#2a3f5f"
           }
          },
          "ternary": {
           "aaxis": {
            "gridcolor": "white",
            "linecolor": "white",
            "ticks": ""
           },
           "baxis": {
            "gridcolor": "white",
            "linecolor": "white",
            "ticks": ""
           },
           "bgcolor": "#E5ECF6",
           "caxis": {
            "gridcolor": "white",
            "linecolor": "white",
            "ticks": ""
           }
          },
          "title": {
           "x": 0.05
          },
          "xaxis": {
           "automargin": true,
           "gridcolor": "white",
           "linecolor": "white",
           "ticks": "",
           "title": {
            "standoff": 15
           },
           "zerolinecolor": "white",
           "zerolinewidth": 2
          },
          "yaxis": {
           "automargin": true,
           "gridcolor": "white",
           "linecolor": "white",
           "ticks": "",
           "title": {
            "standoff": 15
           },
           "zerolinecolor": "white",
           "zerolinewidth": 2
          }
         }
        },
        "title": {
         "text": "Moyenne du prix de vente en fonction de la difficulté de pêche"
        },
        "xaxis": {
         "autorange": true,
         "range": [
          -0.23533113103665246,
          4.235331131036652
         ],
         "title": {
          "text": "Difficulté de pêche"
         },
         "type": "category"
        },
        "yaxis": {
         "range": [
          -1000,
          16000
         ],
         "title": {
          "text": "Prix de vente en clochettes"
         },
         "type": "linear"
        }
       }
      },
      "image/png": "[encoded data removed]",
      "text/html": [
       "<div>                            <div id=\"0b62a5f6-c677-4f06-9bf3-f1f953bbbe50\" class=\"plotly-graph-div\" style=\"height:525px; width:100%;\"></div>            <script type=\"text/javascript\">                require([\"plotly\"], function(Plotly) {                    window.PLOTLYENV=window.PLOTLYENV || {};                                    if (document.getElementById(\"0b62a5f6-c677-4f06-9bf3-f1f953bbbe50\")) {                    Plotly.newPlot(                        \"0b62a5f6-c677-4f06-9bf3-f1f953bbbe50\",                        [{\"line\":{\"color\":\"dodgerblue\"},\"mode\":\"lines\",\"name\":\"Prix moyen\",\"type\":\"scatter\",\"x\":[\"Very Easy\",\"Easy\",\"Medium\",\"Hard\",\"Very Hard\"],\"y\":[780,1062,1195,4265,11464]},{\"mode\":\"markers\",\"name\":\"Prix unitaire\",\"text\":[\"Nom du poisson : ANCHOVY\",\"Nom du poisson : ANGELFISH\",\"Nom du poisson : ARAPAIMA\",\"Nom du poisson : AROWANA\",\"Nom du poisson : BARRED KNIFEJAW\",\"Nom du poisson : BARRELEYE\",\"Nom du poisson : BETTA\",\"Nom du poisson : BITTERLING\",\"Nom du poisson : BLACK BASS\",\"Nom du poisson : BLOWFISH\",\"Nom du poisson : BLUE MARLIN\",\"Nom du poisson : BLUEGILL\",\"Nom du poisson : BUTTERFLY FISH\",\"Nom du poisson : CARP\",\"Nom du poisson : CATFISH\",\"Nom du poisson : CHAR\",\"Nom du poisson : CHERRY SALMON\",\"Nom du poisson : CLOWN FISH\",\"Nom du poisson : COELACANTH\",\"Nom du poisson : CRAWFISH\",\"Nom du poisson : CRUCIAN CARP\",\"Nom du poisson : DAB\",\"Nom du poisson : DACE\",\"Nom du poisson : DORADO\",\"Nom du poisson : FOOTBALL FISH\",\"Nom du poisson : FRESHWATER GOBY\",\"Nom du poisson : FROG\",\"Nom du poisson : GAR\",\"Nom du poisson : GIANT SNAKEHEAD\",\"Nom du poisson : GIANT TREVALLY\",\"Nom du poisson : GOLDEN TROUT\",\"Nom du poisson : GOLDFISH\",\"Nom du poisson : GREAT WHITE SHARK\",\"Nom du poisson : GUPPY\",\"Nom du poisson : HAMMERHEAD SHARK\",\"Nom du poisson : HORSE MACKEREL\",\"Nom du poisson : KILLIFISH\",\"Nom du poisson : KING SALMON\",\"Nom du poisson : KOI\",\"Nom du poisson : LOACH\",\"Nom du poisson : MAHI-MAHI\",\"Nom du poisson : MITTEN CRAB\",\"Nom du poisson : MORAY EEL\",\"Nom du poisson : NAPOLEONFISH\",\"Nom du poisson : NEON TETRA\",\"Nom du poisson : NIBBLE FISH\",\"Nom du poisson : OARFISH\",\"Nom du poisson : OCEAN SUNFISH\",\"Nom du poisson : OLIVE FLOUNDER\",\"Nom du poisson : PALE CHUB\",\"Nom du poisson : PIKE\",\"Nom du poisson : PIRANHA\",\"Nom du poisson : POND SMELT\",\"Nom du poisson : POP-EYED GOLDFISH\",\"Nom du poisson : PUFFER FISH\",\"Nom du poisson : RAINBOWFISH\",\"Nom du poisson : RANCHU GOLDFISH\",\"Nom du poisson : RAY\",\"Nom du poisson : RED SNAPPER\",\"Nom du poisson : RIBBON EEL\",\"Nom du poisson : SADDLED BICHIR\",\"Nom du poisson : SALMON\",\"Nom du poisson : SAW SHARK\",\"Nom du poisson : SEA BASS\",\"Nom du poisson : SEA BUTTERFLY\",\"Nom du poisson : SEA HORSE\",\"Nom du poisson : SNAPPING TURTLE\",\"Nom du poisson : SOFT-SHELLED TURTLE\",\"Nom du poisson : SQUID\",\"Nom du poisson : STRINGFISH\",\"Nom du poisson : STURGEON\",\"Nom du poisson : SUCKERFISH\",\"Nom du poisson : SURGEONFISH\",\"Nom du poisson : SWEETFISH\",\"Nom du poisson : TADPOLE\",\"Nom du poisson : TILAPIA\",\"Nom du poisson : TUNA\",\"Nom du poisson : WHALE SHARK\",\"Nom du poisson : YELLOW PERCH\",\"Nom du poisson : ZEBRA TURKEYFISH\"],\"type\":\"scatter\",\"x\":[\"Very Easy\",\"Easy\",\"Very Hard\",\"Very Hard\",\"Hard\",\"Very Hard\",\"Hard\",\"Hard\",\"Medium\",\"Medium\",\"Very Hard\",\"Very Easy\",\"Easy\",\"Very Easy\",\"Medium\",\"Hard\",\"Medium\",\"Medium\",\"Very Hard\",\"Very Easy\",\"Very Easy\",\"Easy\",\"Easy\",\"Very Hard\",\"Very Easy\",\"Very Easy\",\"Easy\",\"Hard\",\"Hard\",\"Very Hard\",\"Very Hard\",\"Easy\",\"Very Hard\",\"Easy\",\"Hard\",\"Very Easy\",\"Medium\",\"Hard\",\"Easy\",\"Easy\",\"Very Hard\",\"Hard\",\"Easy\",\"Hard\",\"Easy\",\"Medium\",\"Hard\",\"Hard\",\"Medium\",\"Easy\",\"Medium\",\"Very Easy\",\"Easy\",\"Easy\",\"Easy\",\"Hard\",\"Hard\",\"Easy\",\"Hard\",\"Hard\",\"Hard\",\"Medium\",\"Hard\",\"Easy\",\"Easy\",\"Medium\",\"Hard\",\"Hard\",\"Easy\",\"Very Hard\",\"Very Hard\",\"Very Easy\",\"Easy\",\"Hard\",\"Easy\",\"Hard\",\"Very Hard\",\"Very Hard\",\"Medium\",\"Very Easy\"],\"y\":[200.0,3000.0,10000.0,10000.0,5000.0,15000.0,2500.0,900.0,400.0,5000.0,10000.0,180.0,1000.0,300.0,800.0,3800.0,1000.0,650.0,15000.0,200.0,160.0,300.0,240.0,15000.0,2500.0,400.0,120.0,6000.0,5500.0,4500.0,15000.0,1300.0,15000.0,1300.0,8000.0,150.0,300.0,1800.0,4000.0,400.0,6000.0,2000.0,2000.0,10000.0,500.0,1500.0,9000.0,4000.0,800.0,200.0,1800.0,2500.0,400.0,1300.0,250.0,800.0,4500.0,3000.0,3000.0,600.0,4000.0,700.0,12000.0,400.0,1000.0,1100.0,5000.0,3750.0,500.0,15000.0,10000.0,1500.0,1000.0,900.0,100.0,800.0,7000.0,13000.0,300.0,500.0]}],                        {\"dragmode\":\"pan\",\"template\":{\"data\":{\"bar\":[{\"error_x\":{\"color\":\"#2a3f5f\"},\"error_y\":{\"color\":\"#2a3f5f\"},\"marker\":{\"line\":{\"color\":\"#E5ECF6\",\"width\":0.5},\"pattern\":{\"fillmode\":\"overlay\",\"size\":10,\"solidity\":0.2}},\"type\":\"bar\"}],\"barpolar\":[{\"marker\":{\"line\":{\"color\":\"#E5ECF6\",\"width\":0.5},\"pattern\":{\"fillmode\":\"overlay\",\"size\":10,\"solidity\":0.2}},\"type\":\"barpolar\"}],\"carpet\":[{\"aaxis\":{\"endlinecolor\":\"#2a3f5f\",\"gridcolor\":\"white\",\"linecolor\":\"white\",\"minorgridcolor\":\"white\",\"startlinecolor\":\"#2a3f5f\"},\"baxis\":{\"endlinecolor\":\"#2a3f5f\",\"gridcolor\":\"white\",\"linecolor\":\"white\",\"minorgridcolor\":\"white\",\"startlinecolor\":\"#2a3f5f\"},\"type\":\"carpet\"}],\"choropleth\":[{\"colorbar\":{\"outlinewidth\":0,\"ticks\":\"\"},\"type\":\"choropleth\"}],\"contour\":[{\"colorbar\":{\"outlinewidth\":0,\"ticks\":\"\"},\"colorscale\":[[0.0,\"#0d0887\"],[0.1111111111111111,\"#46039f\"],[0.2222222222222222,\"#7201a8\"],[0.3333333333333333,\"#9c179e\"],[0.4444444444444444,\"#bd3786\"],[0.5555555555555556,\"#d8576b\"],[0.6666666666666666,\"#ed7953\"],[0.7777777777777778,\"#fb9f3a\"],[0.8888888888888888,\"#fdca26\"],[1.0,\"#f0f921\"]],\"type\":\"contour\"}],\"contourcarpet\":[{\"colorbar\":{\"outlinewidth\":0,\"ticks\":\"\"},\"type\":\"contourcarpet\"}],\"heatmap\":[{\"colorbar\":{\"outlinewidth\":0,\"ticks\":\"\"},\"colorscale\":[[0.0,\"#0d0887\"],[0.1111111111111111,\"#46039f\"],[0.2222222222222222,\"#7201a8\"],[0.3333333333333333,\"#9c179e\"],[0.4444444444444444,\"#bd3786\"],[0.5555555555555556,\"#d8576b\"],[0.6666666666666666,\"#ed7953\"],[0.7777777777777778,\"#fb9f3a\"],[0.8888888888888888,\"#fdca26\"],[1.0,\"#f0f921\"]],\"type\":\"heatmap\"}],\"heatmapgl\":[{\"colorbar\":{\"outlinewidth\":0,\"ticks\":\"\"},\"colorscale\":[[0.0,\"#0d0887\"],[0.1111111111111111,\"#46039f\"],[0.2222222222222222,\"#7201a8\"],[0.3333333333333333,\"#9c179e\"],[0.4444444444444444,\"#bd3786\"],[0.5555555555555556,\"#d8576b\"],[0.6666666666666666,\"#ed7953\"],[0.7777777777777778,\"#fb9f3a\"],[0.8888888888888888,\"#fdca26\"],[1.0,\"#f0f921\"]],\"type\":\"heatmapgl\"}],\"histogram\":[{\"marker\":{\"pattern\":{\"fillmode\":\"overlay\",\"size\":10,\"solidity\":0.2}},\"type\":\"histogram\"}],\"histogram2d\":[{\"colorbar\":{\"outlinewidth\":0,\"ticks\":\"\"},\"colorscale\":[[0.0,\"#0d0887\"],[0.1111111111111111,\"#46039f\"],[0.2222222222222222,\"#7201a8\"],[0.3333333333333333,\"#9c179e\"],[0.4444444444444444,\"#bd3786\"],[0.5555555555555556,\"#d8576b\"],[0.6666666666666666,\"#ed7953\"],[0.7777777777777778,\"#fb9f3a\"],[0.8888888888888888,\"#fdca26\"],[1.0,\"#f0f921\"]],\"type\":\"histogram2d\"}],\"histogram2dcontour\":[{\"colorbar\":{\"outlinewidth\":0,\"ticks\":\"\"},\"colorscale\":[[0.0,\"#0d0887\"],[0.1111111111111111,\"#46039f\"],[0.2222222222222222,\"#7201a8\"],[0.3333333333333333,\"#9c179e\"],[0.4444444444444444,\"#bd3786\"],[0.5555555555555556,\"#d8576b\"],[0.6666666666666666,\"#ed7953\"],[0.7777777777777778,\"#fb9f3a\"],[0.8888888888888888,\"#fdca26\"],[1.0,\"#f0f921\"]],\"type\":\"histogram2dcontour\"}],\"mesh3d\":[{\"colorbar\":{\"outlinewidth\":0,\"ticks\":\"\"},\"type\":\"mesh3d\"}],\"parcoords\":[{\"line\":{\"colorbar\":{\"outlinewidth\":0,\"ticks\":\"\"}},\"type\":\"parcoords\"}],\"pie\":[{\"automargin\":true,\"type\":\"pie\"}],\"scatter\":[{\"marker\":{\"colorbar\":{\"outlinewidth\":0,\"ticks\":\"\"}},\"type\":\"scatter\"}],\"scatter3d\":[{\"line\":{\"colorbar\":{\"outlinewidth\":0,\"ticks\":\"\"}},\"marker\":{\"colorbar\":{\"outlinewidth\":0,\"ticks\":\"\"}},\"type\":\"scatter3d\"}],\"scattercarpet\":[{\"marker\":{\"colorbar\":{\"outlinewidth\":0,\"ticks\":\"\"}},\"type\":\"scattercarpet\"}],\"scattergeo\":[{\"marker\":{\"colorbar\":{\"outlinewidth\":0,\"ticks\":\"\"}},\"type\":\"scattergeo\"}],\"scattergl\":[{\"marker\":{\"colorbar\":{\"outlinewidth\":0,\"ticks\":\"\"}},\"type\":\"scattergl\"}],\"scattermapbox\":[{\"marker\":{\"colorbar\":{\"outlinewidth\":0,\"ticks\":\"\"}},\"type\":\"scattermapbox\"}],\"scatterpolar\":[{\"marker\":{\"colorbar\":{\"outlinewidth\":0,\"ticks\":\"\"}},\"type\":\"scatterpolar\"}],\"scatterpolargl\":[{\"marker\":{\"colorbar\":{\"outlinewidth\":0,\"ticks\":\"\"}},\"type\":\"scatterpolargl\"}],\"scatterternary\":[{\"marker\":{\"colorbar\":{\"outlinewidth\":0,\"ticks\":\"\"}},\"type\":\"scatterternary\"}],\"surface\":[{\"colorbar\":{\"outlinewidth\":0,\"ticks\":\"\"},\"colorscale\":[[0.0,\"#0d0887\"],[0.1111111111111111,\"#46039f\"],[0.2222222222222222,\"#7201a8\"],[0.3333333333333333,\"#9c179e\"],[0.4444444444444444,\"#bd3786\"],[0.5555555555555556,\"#d8576b\"],[0.6666666666666666,\"#ed7953\"],[0.7777777777777778,\"#fb9f3a\"],[0.8888888888888888,\"#fdca26\"],[1.0,\"#f0f921\"]],\"type\":\"surface\"}],\"table\":[{\"cells\":{\"fill\":{\"color\":\"#EBF0F8\"},\"line\":{\"color\":\"white\"}},\"header\":{\"fill\":{\"color\":\"#C8D4E3\"},\"line\":{\"color\":\"white\"}},\"type\":\"table\"}]},\"layout\":{\"annotationdefaults\":{\"arrowcolor\":\"#2a3f5f\",\"arrowhead\":0,\"arrowwidth\":1},\"autotypenumbers\":\"strict\",\"coloraxis\":{\"colorbar\":{\"outlinewidth\":0,\"ticks\":\"\"}},\"colorscale\":{\"diverging\":[[0,\"#8e0152\"],[0.1,\"#c51b7d\"],[0.2,\"#de77ae\"],[0.3,\"#f1b6da\"],[0.4,\"#fde0ef\"],[0.5,\"#f7f7f7\"],[0.6,\"#e6f5d0\"],[0.7,\"#b8e186\"],[0.8,\"#7fbc41\"],[0.9,\"#4d9221\"],[1,\"#276419\"]],\"sequential\":[[0.0,\"#0d0887\"],[0.1111111111111111,\"#46039f\"],[0.2222222222222222,\"#7201a8\"],[0.3333333333333333,\"#9c179e\"],[0.4444444444444444,\"#bd3786\"],[0.5555555555555556,\"#d8576b\"],[0.6666666666666666,\"#ed7953\"],[0.7777777777777778,\"#fb9f3a\"],[0.8888888888888888,\"#fdca26\"],[1.0,\"#f0f921\"]],\"sequentialminus\":[[0.0,\"#0d0887\"],[0.1111111111111111,\"#46039f\"],[0.2222222222222222,\"#7201a8\"],[0.3333333333333333,\"#9c179e\"],[0.4444444444444444,\"#bd3786\"],[0.5555555555555556,\"#d8576b\"],[0.6666666666666666,\"#ed7953\"],[0.7777777777777778,\"#fb9f3a\"],[0.8888888888888888,\"#fdca26\"],[1.0,\"#f0f921\"]]},\"colorway\":[\"#636efa\",\"#EF553B\",\"#00cc96\",\"#ab63fa\",\"#FFA15A\",\"#19d3f3\",\"#FF6692\",\"#B6E880\",\"#FF97FF\",\"#FECB52\"],\"font\":{\"color\":\"#2a3f5f\"},\"geo\":{\"bgcolor\":\"white\",\"lakecolor\":\"white\",\"landcolor\":\"#E5ECF6\",\"showlakes\":true,\"showland\":true,\"subunitcolor\":\"white\"},\"hoverlabel\":{\"align\":\"left\"},\"hovermode\":\"closest\",\"mapbox\":{\"style\":\"light\"},\"paper_bgcolor\":\"white\",\"plot_bgcolor\":\"#E5ECF6\",\"polar\":{\"angularaxis\":{\"gridcolor\":\"white\",\"linecolor\":\"white\",\"ticks\":\"\"},\"bgcolor\":\"#E5ECF6\",\"radialaxis\":{\"gridcolor\":\"white\",\"linecolor\":\"white\",\"ticks\":\"\"}},\"scene\":{\"xaxis\":{\"backgroundcolor\":\"#E5ECF6\",\"gridcolor\":\"white\",\"gridwidth\":2,\"linecolor\":\"white\",\"showbackground\":true,\"ticks\":\"\",\"zerolinecolor\":\"white\"},\"yaxis\":{\"backgroundcolor\":\"#E5ECF6\",\"gridcolor\":\"white\",\"gridwidth\":2,\"linecolor\":\"white\",\"showbackground\":true,\"ticks\":\"\",\"zerolinecolor\":\"white\"},\"zaxis\":{\"backgroundcolor\":\"#E5ECF6\",\"gridcolor\":\"white\",\"gridwidth\":2,\"linecolor\":\"white\",\"showbackground\":true,\"ticks\":\"\",\"zerolinecolor\":\"white\"}},\"shapedefaults\":{\"line\":{\"color\":\"#2a3f5f\"}},\"ternary\":{\"aaxis\":{\"gridcolor\":\"white\",\"linecolor\":\"white\",\"ticks\":\"\"},\"baxis\":{\"gridcolor\":\"white\",\"linecolor\":\"white\",\"ticks\":\"\"},\"bgcolor\":\"#E5ECF6\",\"caxis\":{\"gridcolor\":\"white\",\"linecolor\":\"white\",\"ticks\":\"\"}},\"title\":{\"x\":0.05},\"xaxis\":{\"automargin\":true,\"gridcolor\":\"white\",\"linecolor\":\"white\",\"ticks\":\"\",\"title\":{\"standoff\":15},\"zerolinecolor\":\"white\",\"zerolinewidth\":2},\"yaxis\":{\"automargin\":true,\"gridcolor\":\"white\",\"linecolor\":\"white\",\"ticks\":\"\",\"title\":{\"standoff\":15},\"zerolinecolor\":\"white\",\"zerolinewidth\":2}}},\"title\":{\"text\":\"Moyenne du prix de vente en fonction de la difficult\\u00e9 de p\\u00eache\"},\"xaxis\":{\"title\":{\"text\":\"Difficult\\u00e9 de p\\u00eache\"}},\"yaxis\":{\"range\":[-1000,16000],\"title\":{\"text\":\"Prix de vente en clochettes\"}}},                        {\"scrollZoom\": true, \"modeBarButtonsToRemove\": [\"sendDataToCloud\"], \"responsive\": true}                    ).then(function(){\n",
       "                            \n",
       "var gd = document.getElementById('0b62a5f6-c677-4f06-9bf3-f1f953bbbe50');\n",
       "var x = new MutationObserver(function (mutations, observer) {{\n",
       "        var display = window.getComputedStyle(gd).display;\n",
       "        if (!display || display === 'none') {{\n",
       "            console.log([gd, 'removed!']);\n",
       "            Plotly.purge(gd);\n",
       "            observer.disconnect();\n",
       "        }}\n",
       "}});\n",
       "\n",
       "// Listen for the removal of the full notebook cells\n",
       "var notebookContainer = gd.closest('#notebook-container');\n",
       "if (notebookContainer) {{\n",
       "    x.observe(notebookContainer, {childList: true});\n",
       "}}\n",
       "\n",
       "// Listen for the clearing of the current output cell\n",
       "var outputEl = gd.closest('.output');\n",
       "if (outputEl) {{\n",
       "    x.observe(outputEl, {childList: true});\n",
       "}}\n",
       "\n",
       "                        })                };                });            </script>        </div>"
      ]
     },
     "metadata": {},
     "output_type": "display_data"
    }
   ],
   "source": [
    "#--------- CATCH DIFFICULTY X SELL PRICE PLOT --------------\n",
    "\n",
    "trace1 = go.Scatter(\n",
    "    x = list_difficulty,\n",
    "    y = mean,\n",
    "    name = 'Prix moyen',\n",
    "    mode='lines',\n",
    "    line = {'color':'dodgerblue'}\n",
    ")\n",
    "\n",
    "trace2 = go.Scatter(\n",
    "    x = fish[\"Catch Difficulty\"],\n",
    "    y = fish[\"Sell\"],\n",
    "    text = \"Nom du poisson : \" + fish[\"Name\"],\n",
    "    name = \"Prix unitaire\",\n",
    "    mode = 'markers'\n",
    ")\n",
    "\n",
    "layout = go.Layout(\n",
    "    title = 'Moyenne du prix de vente en fonction de la difficulté de pêche',\n",
    "    yaxis = dict(\n",
    "        title = 'Prix de vente en clochettes',\n",
    "        range = (-1000, 16000),\n",
    "    ),\n",
    "    xaxis = dict(\n",
    "        title = 'Difficulté de pêche',\n",
    "    ),\n",
    "    dragmode = 'pan',\n",
    ")\n",
    "\n",
    "config = {\n",
    "    'scrollZoom': True,\n",
    "    'modeBarButtonsToRemove': ['sendDataToCloud',],\n",
    "    'showLink':False,\n",
    "}\n",
    "\n",
    "fig = go.Figure(data = [trace1, trace2], layout=layout)\n",
    "py.iplot(fig, config=config)"
   ]
  },
  {
   "cell_type": "code",
   "execution_count": 153,
   "id": "4697220f-2109-4d3b-9163-194d64fbaeac",
   "metadata": {},
   "outputs": [
    {
     "data": {
      "application/vnd.plotly.v1+json": {
       "config": {
        "linkText": "Export to plot.ly",
        "modeBarButtonsToRemove": [
         "sendDataToCloud"
        ],
        "plotlyServerURL": "https://plot.ly",
        "scrollZoom": true,
        "showLink": false
       },
       "data": [
        {
         "line": {
          "color": "dodgerblue"
         },
         "mode": "lines",
         "name": "Prix moyen",
         "type": "scatter",
         "x": [
          "Very Wide",
          "Wide",
          "Medium",
          "Narrow",
          "Very Narrow"
         ],
         "y": [
          685,
          1040,
          2240,
          5058,
          8935
         ]
        },
        {
         "mode": "markers",
         "name": "Prix unitaire",
         "text": [
          "Nom du poisson : ANCHOVY",
          "Nom du poisson : ANGELFISH",
          "Nom du poisson : ARAPAIMA",
          "Nom du poisson : AROWANA",
          "Nom du poisson : BARRED KNIFEJAW",
          "Nom du poisson : BARRELEYE",
          "Nom du poisson : BETTA",
          "Nom du poisson : BITTERLING",
          "Nom du poisson : BLACK BASS",
          "Nom du poisson : BLOWFISH",
          "Nom du poisson : BLUE MARLIN",
          "Nom du poisson : BLUEGILL",
          "Nom du poisson : BUTTERFLY FISH",
          "Nom du poisson : CARP",
          "Nom du poisson : CATFISH",
          "Nom du poisson : CHAR",
          "Nom du poisson : CHERRY SALMON",
          "Nom du poisson : CLOWN FISH",
          "Nom du poisson : COELACANTH",
          "Nom du poisson : CRAWFISH",
          "Nom du poisson : CRUCIAN CARP",
          "Nom du poisson : DAB",
          "Nom du poisson : DACE",
          "Nom du poisson : DORADO",
          "Nom du poisson : FOOTBALL FISH",
          "Nom du poisson : FRESHWATER GOBY",
          "Nom du poisson : FROG",
          "Nom du poisson : GAR",
          "Nom du poisson : GIANT SNAKEHEAD",
          "Nom du poisson : GIANT TREVALLY",
          "Nom du poisson : GOLDEN TROUT",
          "Nom du poisson : GOLDFISH",
          "Nom du poisson : GREAT WHITE SHARK",
          "Nom du poisson : GUPPY",
          "Nom du poisson : HAMMERHEAD SHARK",
          "Nom du poisson : HORSE MACKEREL",
          "Nom du poisson : KILLIFISH",
          "Nom du poisson : KING SALMON",
          "Nom du poisson : KOI",
          "Nom du poisson : LOACH",
          "Nom du poisson : MAHI-MAHI",
          "Nom du poisson : MITTEN CRAB",
          "Nom du poisson : MORAY EEL",
          "Nom du poisson : NAPOLEONFISH",
          "Nom du poisson : NEON TETRA",
          "Nom du poisson : NIBBLE FISH",
          "Nom du poisson : OARFISH",
          "Nom du poisson : OCEAN SUNFISH",
          "Nom du poisson : OLIVE FLOUNDER",
          "Nom du poisson : PALE CHUB",
          "Nom du poisson : PIKE",
          "Nom du poisson : PIRANHA",
          "Nom du poisson : POND SMELT",
          "Nom du poisson : POP-EYED GOLDFISH",
          "Nom du poisson : PUFFER FISH",
          "Nom du poisson : RAINBOWFISH",
          "Nom du poisson : RANCHU GOLDFISH",
          "Nom du poisson : RAY",
          "Nom du poisson : RED SNAPPER",
          "Nom du poisson : RIBBON EEL",
          "Nom du poisson : SADDLED BICHIR",
          "Nom du poisson : SALMON",
          "Nom du poisson : SAW SHARK",
          "Nom du poisson : SEA BASS",
          "Nom du poisson : SEA BUTTERFLY",
          "Nom du poisson : SEA HORSE",
          "Nom du poisson : SNAPPING TURTLE",
          "Nom du poisson : SOFT-SHELLED TURTLE",
          "Nom du poisson : SQUID",
          "Nom du poisson : STRINGFISH",
          "Nom du poisson : STURGEON",
          "Nom du poisson : SUCKERFISH",
          "Nom du poisson : SURGEONFISH",
          "Nom du poisson : SWEETFISH",
          "Nom du poisson : TADPOLE",
          "Nom du poisson : TILAPIA",
          "Nom du poisson : TUNA",
          "Nom du poisson : WHALE SHARK",
          "Nom du poisson : YELLOW PERCH",
          "Nom du poisson : ZEBRA TURKEYFISH"
         ],
         "type": "scatter",
         "x": [
          "Very Wide",
          "Medium",
          "Narrow",
          "Medium",
          "Medium",
          "Very Narrow",
          "Narrow",
          "Medium",
          "Medium",
          "Very Narrow",
          "Narrow",
          "Very Wide",
          "Medium",
          "Medium",
          "Medium",
          "Narrow",
          "Narrow",
          "Medium",
          "Very Narrow",
          "Very Wide",
          "Wide",
          "Medium",
          "Wide",
          "Narrow",
          "Wide",
          "Medium",
          "Very Wide",
          "Wide",
          "Medium",
          "Very Narrow",
          "Very Narrow",
          "Medium",
          "Narrow",
          "Medium",
          "Narrow",
          "Wide",
          "Medium",
          "Medium",
          "Medium",
          "Wide",
          "Very Narrow",
          "Narrow",
          "Medium",
          "Medium",
          "Medium",
          "Narrow",
          "Very Narrow",
          "Very Narrow",
          "Narrow",
          "Wide",
          "Medium",
          "Very Wide",
          "Wide",
          "Medium",
          "Medium",
          "Narrow",
          "Narrow",
          "Medium",
          "Medium",
          "Very Narrow",
          "Narrow",
          "Medium",
          "Very Narrow",
          "Wide",
          "Very Narrow",
          "Narrow",
          "Medium",
          "Narrow",
          "Wide",
          "Very Narrow",
          "Very Narrow",
          "Very Wide",
          "Medium",
          "Medium",
          "Very Wide",
          "Medium",
          "Narrow",
          "Very Narrow",
          "Narrow",
          "Wide"
         ],
         "y": [
          200,
          3000,
          10000,
          10000,
          5000,
          15000,
          2500,
          900,
          400,
          5000,
          10000,
          180,
          1000,
          300,
          800,
          3800,
          1000,
          650,
          15000,
          200,
          160,
          300,
          240,
          15000,
          2500,
          400,
          120,
          6000,
          5500,
          4500,
          15000,
          1300,
          15000,
          1300,
          8000,
          150,
          300,
          1800,
          4000,
          400,
          6000,
          2000,
          2000,
          10000,
          500,
          1500,
          9000,
          4000,
          800,
          200,
          1800,
          2500,
          400,
          1300,
          250,
          800,
          4500,
          3000,
          3000,
          600,
          4000,
          700,
          12000,
          400,
          1000,
          1100,
          5000,
          3750,
          500,
          15000,
          10000,
          1500,
          1000,
          900,
          100,
          800,
          7000,
          13000,
          300,
          500
         ]
        }
       ],
       "layout": {
        "autosize": true,
        "dragmode": "pan",
        "template": {
         "data": {
          "bar": [
           {
            "error_x": {
             "color": "#2a3f5f"
            },
            "error_y": {
             "color": "#2a3f5f"
            },
            "marker": {
             "line": {
              "color": "#E5ECF6",
              "width": 0.5
             },
             "pattern": {
              "fillmode": "overlay",
              "size": 10,
              "solidity": 0.2
             }
            },
            "type": "bar"
           }
          ],
          "barpolar": [
           {
            "marker": {
             "line": {
              "color": "#E5ECF6",
              "width": 0.5
             },
             "pattern": {
              "fillmode": "overlay",
              "size": 10,
              "solidity": 0.2
             }
            },
            "type": "barpolar"
           }
          ],
          "carpet": [
           {
            "aaxis": {
             "endlinecolor": "#2a3f5f",
             "gridcolor": "white",
             "linecolor": "white",
             "minorgridcolor": "white",
             "startlinecolor": "#2a3f5f"
            },
            "baxis": {
             "endlinecolor": "#2a3f5f",
             "gridcolor": "white",
             "linecolor": "white",
             "minorgridcolor": "white",
             "startlinecolor": "#2a3f5f"
            },
            "type": "carpet"
           }
          ],
          "choropleth": [
           {
            "colorbar": {
             "outlinewidth": 0,
             "ticks": ""
            },
            "type": "choropleth"
           }
          ],
          "contour": [
           {
            "colorbar": {
             "outlinewidth": 0,
             "ticks": ""
            },
            "colorscale": [
             [
              0,
              "#0d0887"
             ],
             [
              0.1111111111111111,
              "#46039f"
             ],
             [
              0.2222222222222222,
              "#7201a8"
             ],
             [
              0.3333333333333333,
              "#9c179e"
             ],
             [
              0.4444444444444444,
              "#bd3786"
             ],
             [
              0.5555555555555556,
              "#d8576b"
             ],
             [
              0.6666666666666666,
              "#ed7953"
             ],
             [
              0.7777777777777778,
              "#fb9f3a"
             ],
             [
              0.8888888888888888,
              "#fdca26"
             ],
             [
              1,
              "#f0f921"
             ]
            ],
            "type": "contour"
           }
          ],
          "contourcarpet": [
           {
            "colorbar": {
             "outlinewidth": 0,
             "ticks": ""
            },
            "type": "contourcarpet"
           }
          ],
          "heatmap": [
           {
            "colorbar": {
             "outlinewidth": 0,
             "ticks": ""
            },
            "colorscale": [
             [
              0,
              "#0d0887"
             ],
             [
              0.1111111111111111,
              "#46039f"
             ],
             [
              0.2222222222222222,
              "#7201a8"
             ],
             [
              0.3333333333333333,
              "#9c179e"
             ],
             [
              0.4444444444444444,
              "#bd3786"
             ],
             [
              0.5555555555555556,
              "#d8576b"
             ],
             [
              0.6666666666666666,
              "#ed7953"
             ],
             [
              0.7777777777777778,
              "#fb9f3a"
             ],
             [
              0.8888888888888888,
              "#fdca26"
             ],
             [
              1,
              "#f0f921"
             ]
            ],
            "type": "heatmap"
           }
          ],
          "heatmapgl": [
           {
            "colorbar": {
             "outlinewidth": 0,
             "ticks": ""
            },
            "colorscale": [
             [
              0,
              "#0d0887"
             ],
             [
              0.1111111111111111,
              "#46039f"
             ],
             [
              0.2222222222222222,
              "#7201a8"
             ],
             [
              0.3333333333333333,
              "#9c179e"
             ],
             [
              0.4444444444444444,
              "#bd3786"
             ],
             [
              0.5555555555555556,
              "#d8576b"
             ],
             [
              0.6666666666666666,
              "#ed7953"
             ],
             [
              0.7777777777777778,
              "#fb9f3a"
             ],
             [
              0.8888888888888888,
              "#fdca26"
             ],
             [
              1,
              "#f0f921"
             ]
            ],
            "type": "heatmapgl"
           }
          ],
          "histogram": [
           {
            "marker": {
             "pattern": {
              "fillmode": "overlay",
              "size": 10,
              "solidity": 0.2
             }
            },
            "type": "histogram"
           }
          ],
          "histogram2d": [
           {
            "colorbar": {
             "outlinewidth": 0,
             "ticks": ""
            },
            "colorscale": [
             [
              0,
              "#0d0887"
             ],
             [
              0.1111111111111111,
              "#46039f"
             ],
             [
              0.2222222222222222,
              "#7201a8"
             ],
             [
              0.3333333333333333,
              "#9c179e"
             ],
             [
              0.4444444444444444,
              "#bd3786"
             ],
             [
              0.5555555555555556,
              "#d8576b"
             ],
             [
              0.6666666666666666,
              "#ed7953"
             ],
             [
              0.7777777777777778,
              "#fb9f3a"
             ],
             [
              0.8888888888888888,
              "#fdca26"
             ],
             [
              1,
              "#f0f921"
             ]
            ],
            "type": "histogram2d"
           }
          ],
          "histogram2dcontour": [
           {
            "colorbar": {
             "outlinewidth": 0,
             "ticks": ""
            },
            "colorscale": [
             [
              0,
              "#0d0887"
             ],
             [
              0.1111111111111111,
              "#46039f"
             ],
             [
              0.2222222222222222,
              "#7201a8"
             ],
             [
              0.3333333333333333,
              "#9c179e"
             ],
             [
              0.4444444444444444,
              "#bd3786"
             ],
             [
              0.5555555555555556,
              "#d8576b"
             ],
             [
              0.6666666666666666,
              "#ed7953"
             ],
             [
              0.7777777777777778,
              "#fb9f3a"
             ],
             [
              0.8888888888888888,
              "#fdca26"
             ],
             [
              1,
              "#f0f921"
             ]
            ],
            "type": "histogram2dcontour"
           }
          ],
          "mesh3d": [
           {
            "colorbar": {
             "outlinewidth": 0,
             "ticks": ""
            },
            "type": "mesh3d"
           }
          ],
          "parcoords": [
           {
            "line": {
             "colorbar": {
              "outlinewidth": 0,
              "ticks": ""
             }
            },
            "type": "parcoords"
           }
          ],
          "pie": [
           {
            "automargin": true,
            "type": "pie"
           }
          ],
          "scatter": [
           {
            "marker": {
             "colorbar": {
              "outlinewidth": 0,
              "ticks": ""
             }
            },
            "type": "scatter"
           }
          ],
          "scatter3d": [
           {
            "line": {
             "colorbar": {
              "outlinewidth": 0,
              "ticks": ""
             }
            },
            "marker": {
             "colorbar": {
              "outlinewidth": 0,
              "ticks": ""
             }
            },
            "type": "scatter3d"
           }
          ],
          "scattercarpet": [
           {
            "marker": {
             "colorbar": {
              "outlinewidth": 0,
              "ticks": ""
             }
            },
            "type": "scattercarpet"
           }
          ],
          "scattergeo": [
           {
            "marker": {
             "colorbar": {
              "outlinewidth": 0,
              "ticks": ""
             }
            },
            "type": "scattergeo"
           }
          ],
          "scattergl": [
           {
            "marker": {
             "colorbar": {
              "outlinewidth": 0,
              "ticks": ""
             }
            },
            "type": "scattergl"
           }
          ],
          "scattermapbox": [
           {
            "marker": {
             "colorbar": {
              "outlinewidth": 0,
              "ticks": ""
             }
            },
            "type": "scattermapbox"
           }
          ],
          "scatterpolar": [
           {
            "marker": {
             "colorbar": {
              "outlinewidth": 0,
              "ticks": ""
             }
            },
            "type": "scatterpolar"
           }
          ],
          "scatterpolargl": [
           {
            "marker": {
             "colorbar": {
              "outlinewidth": 0,
              "ticks": ""
             }
            },
            "type": "scatterpolargl"
           }
          ],
          "scatterternary": [
           {
            "marker": {
             "colorbar": {
              "outlinewidth": 0,
              "ticks": ""
             }
            },
            "type": "scatterternary"
           }
          ],
          "surface": [
           {
            "colorbar": {
             "outlinewidth": 0,
             "ticks": ""
            },
            "colorscale": [
             [
              0,
              "#0d0887"
             ],
             [
              0.1111111111111111,
              "#46039f"
             ],
             [
              0.2222222222222222,
              "#7201a8"
             ],
             [
              0.3333333333333333,
              "#9c179e"
             ],
             [
              0.4444444444444444,
              "#bd3786"
             ],
             [
              0.5555555555555556,
              "#d8576b"
             ],
             [
              0.6666666666666666,
              "#ed7953"
             ],
             [
              0.7777777777777778,
              "#fb9f3a"
             ],
             [
              0.8888888888888888,
              "#fdca26"
             ],
             [
              1,
              "#f0f921"
             ]
            ],
            "type": "surface"
           }
          ],
          "table": [
           {
            "cells": {
             "fill": {
              "color": "#EBF0F8"
             },
             "line": {
              "color": "white"
             }
            },
            "header": {
             "fill": {
              "color": "#C8D4E3"
             },
             "line": {
              "color": "white"
             }
            },
            "type": "table"
           }
          ]
         },
         "layout": {
          "annotationdefaults": {
           "arrowcolor": "#2a3f5f",
           "arrowhead": 0,
           "arrowwidth": 1
          },
          "autotypenumbers": "strict",
          "coloraxis": {
           "colorbar": {
            "outlinewidth": 0,
            "ticks": ""
           }
          },
          "colorscale": {
           "diverging": [
            [
             0,
             "#8e0152"
            ],
            [
             0.1,
             "#c51b7d"
            ],
            [
             0.2,
             "#de77ae"
            ],
            [
             0.3,
             "#f1b6da"
            ],
            [
             0.4,
             "#fde0ef"
            ],
            [
             0.5,
             "#f7f7f7"
            ],
            [
             0.6,
             "#e6f5d0"
            ],
            [
             0.7,
             "#b8e186"
            ],
            [
             0.8,
             "#7fbc41"
            ],
            [
             0.9,
             "#4d9221"
            ],
            [
             1,
             "#276419"
            ]
           ],
           "sequential": [
            [
             0,
             "#0d0887"
            ],
            [
             0.1111111111111111,
             "#46039f"
            ],
            [
             0.2222222222222222,
             "#7201a8"
            ],
            [
             0.3333333333333333,
             "#9c179e"
            ],
            [
             0.4444444444444444,
             "#bd3786"
            ],
            [
             0.5555555555555556,
             "#d8576b"
            ],
            [
             0.6666666666666666,
             "#ed7953"
            ],
            [
             0.7777777777777778,
             "#fb9f3a"
            ],
            [
             0.8888888888888888,
             "#fdca26"
            ],
            [
             1,
             "#f0f921"
            ]
           ],
           "sequentialminus": [
            [
             0,
             "#0d0887"
            ],
            [
             0.1111111111111111,
             "#46039f"
            ],
            [
             0.2222222222222222,
             "#7201a8"
            ],
            [
             0.3333333333333333,
             "#9c179e"
            ],
            [
             0.4444444444444444,
             "#bd3786"
            ],
            [
             0.5555555555555556,
             "#d8576b"
            ],
            [
             0.6666666666666666,
             "#ed7953"
            ],
            [
             0.7777777777777778,
             "#fb9f3a"
            ],
            [
             0.8888888888888888,
             "#fdca26"
            ],
            [
             1,
             "#f0f921"
            ]
           ]
          },
          "colorway": [
           "#636efa",
           "#EF553B",
           "#00cc96",
           "#ab63fa",
           "#FFA15A",
           "#19d3f3",
           "#FF6692",
           "#B6E880",
           "#FF97FF",
           "#FECB52"
          ],
          "font": {
           "color": "#2a3f5f"
          },
          "geo": {
           "bgcolor": "white",
           "lakecolor": "white",
           "landcolor": "#E5ECF6",
           "showlakes": true,
           "showland": true,
           "subunitcolor": "white"
          },
          "hoverlabel": {
           "align": "left"
          },
          "hovermode": "closest",
          "mapbox": {
           "style": "light"
          },
          "paper_bgcolor": "white",
          "plot_bgcolor": "#E5ECF6",
          "polar": {
           "angularaxis": {
            "gridcolor": "white",
            "linecolor": "white",
            "ticks": ""
           },
           "bgcolor": "#E5ECF6",
           "radialaxis": {
            "gridcolor": "white",
            "linecolor": "white",
            "ticks": ""
           }
          },
          "scene": {
           "xaxis": {
            "backgroundcolor": "#E5ECF6",
            "gridcolor": "white",
            "gridwidth": 2,
            "linecolor": "white",
            "showbackground": true,
            "ticks": "",
            "zerolinecolor": "white"
           },
           "yaxis": {
            "backgroundcolor": "#E5ECF6",
            "gridcolor": "white",
            "gridwidth": 2,
            "linecolor": "white",
            "showbackground": true,
            "ticks": "",
            "zerolinecolor": "white"
           },
           "zaxis": {
            "backgroundcolor": "#E5ECF6",
            "gridcolor": "white",
            "gridwidth": 2,
            "linecolor": "white",
            "showbackground": true,
            "ticks": "",
            "zerolinecolor": "white"
           }
          },
          "shapedefaults": {
           "line": {
            "color": "#2a3f5f"
           }
          },
          "ternary": {
           "aaxis": {
            "gridcolor": "white",
            "linecolor": "white",
            "ticks": ""
           },
           "baxis": {
            "gridcolor": "white",
            "linecolor": "white",
            "ticks": ""
           },
           "bgcolor": "#E5ECF6",
           "caxis": {
            "gridcolor": "white",
            "linecolor": "white",
            "ticks": ""
           }
          },
          "title": {
           "x": 0.05
          },
          "xaxis": {
           "automargin": true,
           "gridcolor": "white",
           "linecolor": "white",
           "ticks": "",
           "title": {
            "standoff": 15
           },
           "zerolinecolor": "white",
           "zerolinewidth": 2
          },
          "yaxis": {
           "automargin": true,
           "gridcolor": "white",
           "linecolor": "white",
           "ticks": "",
           "title": {
            "standoff": 15
           },
           "zerolinecolor": "white",
           "zerolinewidth": 2
          }
         }
        },
        "title": {
         "text": "Moyenne du prix de vente en fonction de la largeur de vision du poisson"
        },
        "xaxis": {
         "autorange": false,
         "range": [
          -0.667220997183767,
          4.27362491939794
         ],
         "title": {
          "text": "Vision du poisson"
         },
         "type": "category"
        },
        "yaxis": {
         "autorange": false,
         "range": [
          -2446.2069200915475,
          16341.698687194472
         ],
         "title": {
          "text": "Prix de vente en clochettes"
         },
         "type": "linear"
        }
       }
      },
      "image/png": "[encoded data removed]",
      "text/html": [
       "<div>                            <div id=\"d33751a7-19ea-4f85-bd1b-9e717dcedadf\" class=\"plotly-graph-div\" style=\"height:525px; width:100%;\"></div>            <script type=\"text/javascript\">                require([\"plotly\"], function(Plotly) {                    window.PLOTLYENV=window.PLOTLYENV || {};                                    if (document.getElementById(\"d33751a7-19ea-4f85-bd1b-9e717dcedadf\")) {                    Plotly.newPlot(                        \"d33751a7-19ea-4f85-bd1b-9e717dcedadf\",                        [{\"line\":{\"color\":\"dodgerblue\"},\"mode\":\"lines\",\"name\":\"Prix moyen\",\"type\":\"scatter\",\"x\":[\"Very Wide\",\"Wide\",\"Medium\",\"Narrow\",\"Very Narrow\"],\"y\":[685,1040,2240,5058,8935]},{\"mode\":\"markers\",\"name\":\"Prix unitaire\",\"text\":[\"Nom du poisson : ANCHOVY\",\"Nom du poisson : ANGELFISH\",\"Nom du poisson : ARAPAIMA\",\"Nom du poisson : AROWANA\",\"Nom du poisson : BARRED KNIFEJAW\",\"Nom du poisson : BARRELEYE\",\"Nom du poisson : BETTA\",\"Nom du poisson : BITTERLING\",\"Nom du poisson : BLACK BASS\",\"Nom du poisson : BLOWFISH\",\"Nom du poisson : BLUE MARLIN\",\"Nom du poisson : BLUEGILL\",\"Nom du poisson : BUTTERFLY FISH\",\"Nom du poisson : CARP\",\"Nom du poisson : CATFISH\",\"Nom du poisson : CHAR\",\"Nom du poisson : CHERRY SALMON\",\"Nom du poisson : CLOWN FISH\",\"Nom du poisson : COELACANTH\",\"Nom du poisson : CRAWFISH\",\"Nom du poisson : CRUCIAN CARP\",\"Nom du poisson : DAB\",\"Nom du poisson : DACE\",\"Nom du poisson : DORADO\",\"Nom du poisson : FOOTBALL FISH\",\"Nom du poisson : FRESHWATER GOBY\",\"Nom du poisson : FROG\",\"Nom du poisson : GAR\",\"Nom du poisson : GIANT SNAKEHEAD\",\"Nom du poisson : GIANT TREVALLY\",\"Nom du poisson : GOLDEN TROUT\",\"Nom du poisson : GOLDFISH\",\"Nom du poisson : GREAT WHITE SHARK\",\"Nom du poisson : GUPPY\",\"Nom du poisson : HAMMERHEAD SHARK\",\"Nom du poisson : HORSE MACKEREL\",\"Nom du poisson : KILLIFISH\",\"Nom du poisson : KING SALMON\",\"Nom du poisson : KOI\",\"Nom du poisson : LOACH\",\"Nom du poisson : MAHI-MAHI\",\"Nom du poisson : MITTEN CRAB\",\"Nom du poisson : MORAY EEL\",\"Nom du poisson : NAPOLEONFISH\",\"Nom du poisson : NEON TETRA\",\"Nom du poisson : NIBBLE FISH\",\"Nom du poisson : OARFISH\",\"Nom du poisson : OCEAN SUNFISH\",\"Nom du poisson : OLIVE FLOUNDER\",\"Nom du poisson : PALE CHUB\",\"Nom du poisson : PIKE\",\"Nom du poisson : PIRANHA\",\"Nom du poisson : POND SMELT\",\"Nom du poisson : POP-EYED GOLDFISH\",\"Nom du poisson : PUFFER FISH\",\"Nom du poisson : RAINBOWFISH\",\"Nom du poisson : RANCHU GOLDFISH\",\"Nom du poisson : RAY\",\"Nom du poisson : RED SNAPPER\",\"Nom du poisson : RIBBON EEL\",\"Nom du poisson : SADDLED BICHIR\",\"Nom du poisson : SALMON\",\"Nom du poisson : SAW SHARK\",\"Nom du poisson : SEA BASS\",\"Nom du poisson : SEA BUTTERFLY\",\"Nom du poisson : SEA HORSE\",\"Nom du poisson : SNAPPING TURTLE\",\"Nom du poisson : SOFT-SHELLED TURTLE\",\"Nom du poisson : SQUID\",\"Nom du poisson : STRINGFISH\",\"Nom du poisson : STURGEON\",\"Nom du poisson : SUCKERFISH\",\"Nom du poisson : SURGEONFISH\",\"Nom du poisson : SWEETFISH\",\"Nom du poisson : TADPOLE\",\"Nom du poisson : TILAPIA\",\"Nom du poisson : TUNA\",\"Nom du poisson : WHALE SHARK\",\"Nom du poisson : YELLOW PERCH\",\"Nom du poisson : ZEBRA TURKEYFISH\"],\"type\":\"scatter\",\"x\":[\"Very Wide\",\"Medium\",\"Narrow\",\"Medium\",\"Medium\",\"Very Narrow\",\"Narrow\",\"Medium\",\"Medium\",\"Very Narrow\",\"Narrow\",\"Very Wide\",\"Medium\",\"Medium\",\"Medium\",\"Narrow\",\"Narrow\",\"Medium\",\"Very Narrow\",\"Very Wide\",\"Wide\",\"Medium\",\"Wide\",\"Narrow\",\"Wide\",\"Medium\",\"Very Wide\",\"Wide\",\"Medium\",\"Very Narrow\",\"Very Narrow\",\"Medium\",\"Narrow\",\"Medium\",\"Narrow\",\"Wide\",\"Medium\",\"Medium\",\"Medium\",\"Wide\",\"Very Narrow\",\"Narrow\",\"Medium\",\"Medium\",\"Medium\",\"Narrow\",\"Very Narrow\",\"Very Narrow\",\"Narrow\",\"Wide\",\"Medium\",\"Very Wide\",\"Wide\",\"Medium\",\"Medium\",\"Narrow\",\"Narrow\",\"Medium\",\"Medium\",\"Very Narrow\",\"Narrow\",\"Medium\",\"Very Narrow\",\"Wide\",\"Very Narrow\",\"Narrow\",\"Medium\",\"Narrow\",\"Wide\",\"Very Narrow\",\"Very Narrow\",\"Very Wide\",\"Medium\",\"Medium\",\"Very Wide\",\"Medium\",\"Narrow\",\"Very Narrow\",\"Narrow\",\"Wide\"],\"y\":[200.0,3000.0,10000.0,10000.0,5000.0,15000.0,2500.0,900.0,400.0,5000.0,10000.0,180.0,1000.0,300.0,800.0,3800.0,1000.0,650.0,15000.0,200.0,160.0,300.0,240.0,15000.0,2500.0,400.0,120.0,6000.0,5500.0,4500.0,15000.0,1300.0,15000.0,1300.0,8000.0,150.0,300.0,1800.0,4000.0,400.0,6000.0,2000.0,2000.0,10000.0,500.0,1500.0,9000.0,4000.0,800.0,200.0,1800.0,2500.0,400.0,1300.0,250.0,800.0,4500.0,3000.0,3000.0,600.0,4000.0,700.0,12000.0,400.0,1000.0,1100.0,5000.0,3750.0,500.0,15000.0,10000.0,1500.0,1000.0,900.0,100.0,800.0,7000.0,13000.0,300.0,500.0]}],                        {\"dragmode\":\"pan\",\"template\":{\"data\":{\"bar\":[{\"error_x\":{\"color\":\"#2a3f5f\"},\"error_y\":{\"color\":\"#2a3f5f\"},\"marker\":{\"line\":{\"color\":\"#E5ECF6\",\"width\":0.5},\"pattern\":{\"fillmode\":\"overlay\",\"size\":10,\"solidity\":0.2}},\"type\":\"bar\"}],\"barpolar\":[{\"marker\":{\"line\":{\"color\":\"#E5ECF6\",\"width\":0.5},\"pattern\":{\"fillmode\":\"overlay\",\"size\":10,\"solidity\":0.2}},\"type\":\"barpolar\"}],\"carpet\":[{\"aaxis\":{\"endlinecolor\":\"#2a3f5f\",\"gridcolor\":\"white\",\"linecolor\":\"white\",\"minorgridcolor\":\"white\",\"startlinecolor\":\"#2a3f5f\"},\"baxis\":{\"endlinecolor\":\"#2a3f5f\",\"gridcolor\":\"white\",\"linecolor\":\"white\",\"minorgridcolor\":\"white\",\"startlinecolor\":\"#2a3f5f\"},\"type\":\"carpet\"}],\"choropleth\":[{\"colorbar\":{\"outlinewidth\":0,\"ticks\":\"\"},\"type\":\"choropleth\"}],\"contour\":[{\"colorbar\":{\"outlinewidth\":0,\"ticks\":\"\"},\"colorscale\":[[0.0,\"#0d0887\"],[0.1111111111111111,\"#46039f\"],[0.2222222222222222,\"#7201a8\"],[0.3333333333333333,\"#9c179e\"],[0.4444444444444444,\"#bd3786\"],[0.5555555555555556,\"#d8576b\"],[0.6666666666666666,\"#ed7953\"],[0.7777777777777778,\"#fb9f3a\"],[0.8888888888888888,\"#fdca26\"],[1.0,\"#f0f921\"]],\"type\":\"contour\"}],\"contourcarpet\":[{\"colorbar\":{\"outlinewidth\":0,\"ticks\":\"\"},\"type\":\"contourcarpet\"}],\"heatmap\":[{\"colorbar\":{\"outlinewidth\":0,\"ticks\":\"\"},\"colorscale\":[[0.0,\"#0d0887\"],[0.1111111111111111,\"#46039f\"],[0.2222222222222222,\"#7201a8\"],[0.3333333333333333,\"#9c179e\"],[0.4444444444444444,\"#bd3786\"],[0.5555555555555556,\"#d8576b\"],[0.6666666666666666,\"#ed7953\"],[0.7777777777777778,\"#fb9f3a\"],[0.8888888888888888,\"#fdca26\"],[1.0,\"#f0f921\"]],\"type\":\"heatmap\"}],\"heatmapgl\":[{\"colorbar\":{\"outlinewidth\":0,\"ticks\":\"\"},\"colorscale\":[[0.0,\"#0d0887\"],[0.1111111111111111,\"#46039f\"],[0.2222222222222222,\"#7201a8\"],[0.3333333333333333,\"#9c179e\"],[0.4444444444444444,\"#bd3786\"],[0.5555555555555556,\"#d8576b\"],[0.6666666666666666,\"#ed7953\"],[0.7777777777777778,\"#fb9f3a\"],[0.8888888888888888,\"#fdca26\"],[1.0,\"#f0f921\"]],\"type\":\"heatmapgl\"}],\"histogram\":[{\"marker\":{\"pattern\":{\"fillmode\":\"overlay\",\"size\":10,\"solidity\":0.2}},\"type\":\"histogram\"}],\"histogram2d\":[{\"colorbar\":{\"outlinewidth\":0,\"ticks\":\"\"},\"colorscale\":[[0.0,\"#0d0887\"],[0.1111111111111111,\"#46039f\"],[0.2222222222222222,\"#7201a8\"],[0.3333333333333333,\"#9c179e\"],[0.4444444444444444,\"#bd3786\"],[0.5555555555555556,\"#d8576b\"],[0.6666666666666666,\"#ed7953\"],[0.7777777777777778,\"#fb9f3a\"],[0.8888888888888888,\"#fdca26\"],[1.0,\"#f0f921\"]],\"type\":\"histogram2d\"}],\"histogram2dcontour\":[{\"colorbar\":{\"outlinewidth\":0,\"ticks\":\"\"},\"colorscale\":[[0.0,\"#0d0887\"],[0.1111111111111111,\"#46039f\"],[0.2222222222222222,\"#7201a8\"],[0.3333333333333333,\"#9c179e\"],[0.4444444444444444,\"#bd3786\"],[0.5555555555555556,\"#d8576b\"],[0.6666666666666666,\"#ed7953\"],[0.7777777777777778,\"#fb9f3a\"],[0.8888888888888888,\"#fdca26\"],[1.0,\"#f0f921\"]],\"type\":\"histogram2dcontour\"}],\"mesh3d\":[{\"colorbar\":{\"outlinewidth\":0,\"ticks\":\"\"},\"type\":\"mesh3d\"}],\"parcoords\":[{\"line\":{\"colorbar\":{\"outlinewidth\":0,\"ticks\":\"\"}},\"type\":\"parcoords\"}],\"pie\":[{\"automargin\":true,\"type\":\"pie\"}],\"scatter\":[{\"marker\":{\"colorbar\":{\"outlinewidth\":0,\"ticks\":\"\"}},\"type\":\"scatter\"}],\"scatter3d\":[{\"line\":{\"colorbar\":{\"outlinewidth\":0,\"ticks\":\"\"}},\"marker\":{\"colorbar\":{\"outlinewidth\":0,\"ticks\":\"\"}},\"type\":\"scatter3d\"}],\"scattercarpet\":[{\"marker\":{\"colorbar\":{\"outlinewidth\":0,\"ticks\":\"\"}},\"type\":\"scattercarpet\"}],\"scattergeo\":[{\"marker\":{\"colorbar\":{\"outlinewidth\":0,\"ticks\":\"\"}},\"type\":\"scattergeo\"}],\"scattergl\":[{\"marker\":{\"colorbar\":{\"outlinewidth\":0,\"ticks\":\"\"}},\"type\":\"scattergl\"}],\"scattermapbox\":[{\"marker\":{\"colorbar\":{\"outlinewidth\":0,\"ticks\":\"\"}},\"type\":\"scattermapbox\"}],\"scatterpolar\":[{\"marker\":{\"colorbar\":{\"outlinewidth\":0,\"ticks\":\"\"}},\"type\":\"scatterpolar\"}],\"scatterpolargl\":[{\"marker\":{\"colorbar\":{\"outlinewidth\":0,\"ticks\":\"\"}},\"type\":\"scatterpolargl\"}],\"scatterternary\":[{\"marker\":{\"colorbar\":{\"outlinewidth\":0,\"ticks\":\"\"}},\"type\":\"scatterternary\"}],\"surface\":[{\"colorbar\":{\"outlinewidth\":0,\"ticks\":\"\"},\"colorscale\":[[0.0,\"#0d0887\"],[0.1111111111111111,\"#46039f\"],[0.2222222222222222,\"#7201a8\"],[0.3333333333333333,\"#9c179e\"],[0.4444444444444444,\"#bd3786\"],[0.5555555555555556,\"#d8576b\"],[0.6666666666666666,\"#ed7953\"],[0.7777777777777778,\"#fb9f3a\"],[0.8888888888888888,\"#fdca26\"],[1.0,\"#f0f921\"]],\"type\":\"surface\"}],\"table\":[{\"cells\":{\"fill\":{\"color\":\"#EBF0F8\"},\"line\":{\"color\":\"white\"}},\"header\":{\"fill\":{\"color\":\"#C8D4E3\"},\"line\":{\"color\":\"white\"}},\"type\":\"table\"}]},\"layout\":{\"annotationdefaults\":{\"arrowcolor\":\"#2a3f5f\",\"arrowhead\":0,\"arrowwidth\":1},\"autotypenumbers\":\"strict\",\"coloraxis\":{\"colorbar\":{\"outlinewidth\":0,\"ticks\":\"\"}},\"colorscale\":{\"diverging\":[[0,\"#8e0152\"],[0.1,\"#c51b7d\"],[0.2,\"#de77ae\"],[0.3,\"#f1b6da\"],[0.4,\"#fde0ef\"],[0.5,\"#f7f7f7\"],[0.6,\"#e6f5d0\"],[0.7,\"#b8e186\"],[0.8,\"#7fbc41\"],[0.9,\"#4d9221\"],[1,\"#276419\"]],\"sequential\":[[0.0,\"#0d0887\"],[0.1111111111111111,\"#46039f\"],[0.2222222222222222,\"#7201a8\"],[0.3333333333333333,\"#9c179e\"],[0.4444444444444444,\"#bd3786\"],[0.5555555555555556,\"#d8576b\"],[0.6666666666666666,\"#ed7953\"],[0.7777777777777778,\"#fb9f3a\"],[0.8888888888888888,\"#fdca26\"],[1.0,\"#f0f921\"]],\"sequentialminus\":[[0.0,\"#0d0887\"],[0.1111111111111111,\"#46039f\"],[0.2222222222222222,\"#7201a8\"],[0.3333333333333333,\"#9c179e\"],[0.4444444444444444,\"#bd3786\"],[0.5555555555555556,\"#d8576b\"],[0.6666666666666666,\"#ed7953\"],[0.7777777777777778,\"#fb9f3a\"],[0.8888888888888888,\"#fdca26\"],[1.0,\"#f0f921\"]]},\"colorway\":[\"#636efa\",\"#EF553B\",\"#00cc96\",\"#ab63fa\",\"#FFA15A\",\"#19d3f3\",\"#FF6692\",\"#B6E880\",\"#FF97FF\",\"#FECB52\"],\"font\":{\"color\":\"#2a3f5f\"},\"geo\":{\"bgcolor\":\"white\",\"lakecolor\":\"white\",\"landcolor\":\"#E5ECF6\",\"showlakes\":true,\"showland\":true,\"subunitcolor\":\"white\"},\"hoverlabel\":{\"align\":\"left\"},\"hovermode\":\"closest\",\"mapbox\":{\"style\":\"light\"},\"paper_bgcolor\":\"white\",\"plot_bgcolor\":\"#E5ECF6\",\"polar\":{\"angularaxis\":{\"gridcolor\":\"white\",\"linecolor\":\"white\",\"ticks\":\"\"},\"bgcolor\":\"#E5ECF6\",\"radialaxis\":{\"gridcolor\":\"white\",\"linecolor\":\"white\",\"ticks\":\"\"}},\"scene\":{\"xaxis\":{\"backgroundcolor\":\"#E5ECF6\",\"gridcolor\":\"white\",\"gridwidth\":2,\"linecolor\":\"white\",\"showbackground\":true,\"ticks\":\"\",\"zerolinecolor\":\"white\"},\"yaxis\":{\"backgroundcolor\":\"#E5ECF6\",\"gridcolor\":\"white\",\"gridwidth\":2,\"linecolor\":\"white\",\"showbackground\":true,\"ticks\":\"\",\"zerolinecolor\":\"white\"},\"zaxis\":{\"backgroundcolor\":\"#E5ECF6\",\"gridcolor\":\"white\",\"gridwidth\":2,\"linecolor\":\"white\",\"showbackground\":true,\"ticks\":\"\",\"zerolinecolor\":\"white\"}},\"shapedefaults\":{\"line\":{\"color\":\"#2a3f5f\"}},\"ternary\":{\"aaxis\":{\"gridcolor\":\"white\",\"linecolor\":\"white\",\"ticks\":\"\"},\"baxis\":{\"gridcolor\":\"white\",\"linecolor\":\"white\",\"ticks\":\"\"},\"bgcolor\":\"#E5ECF6\",\"caxis\":{\"gridcolor\":\"white\",\"linecolor\":\"white\",\"ticks\":\"\"}},\"title\":{\"x\":0.05},\"xaxis\":{\"automargin\":true,\"gridcolor\":\"white\",\"linecolor\":\"white\",\"ticks\":\"\",\"title\":{\"standoff\":15},\"zerolinecolor\":\"white\",\"zerolinewidth\":2},\"yaxis\":{\"automargin\":true,\"gridcolor\":\"white\",\"linecolor\":\"white\",\"ticks\":\"\",\"title\":{\"standoff\":15},\"zerolinecolor\":\"white\",\"zerolinewidth\":2}}},\"title\":{\"text\":\"Moyenne du prix de vente en fonction de la largeur de vision du poisson\"},\"xaxis\":{\"title\":{\"text\":\"Vision du poisson\"}},\"yaxis\":{\"range\":[-1000,16000],\"title\":{\"text\":\"Prix de vente en clochettes\"}}},                        {\"scrollZoom\": true, \"modeBarButtonsToRemove\": [\"sendDataToCloud\"], \"responsive\": true}                    ).then(function(){\n",
       "                            \n",
       "var gd = document.getElementById('d33751a7-19ea-4f85-bd1b-9e717dcedadf');\n",
       "var x = new MutationObserver(function (mutations, observer) {{\n",
       "        var display = window.getComputedStyle(gd).display;\n",
       "        if (!display || display === 'none') {{\n",
       "            console.log([gd, 'removed!']);\n",
       "            Plotly.purge(gd);\n",
       "            observer.disconnect();\n",
       "        }}\n",
       "}});\n",
       "\n",
       "// Listen for the removal of the full notebook cells\n",
       "var notebookContainer = gd.closest('#notebook-container');\n",
       "if (notebookContainer) {{\n",
       "    x.observe(notebookContainer, {childList: true});\n",
       "}}\n",
       "\n",
       "// Listen for the clearing of the current output cell\n",
       "var outputEl = gd.closest('.output');\n",
       "if (outputEl) {{\n",
       "    x.observe(outputEl, {childList: true});\n",
       "}}\n",
       "\n",
       "                        })                };                });            </script>        </div>"
      ]
     },
     "metadata": {},
     "output_type": "display_data"
    }
   ],
   "source": [
    "#--------- FISH VISION OF FISHING LINE X SELL PRICE PLOT --------------\n",
    "\n",
    "trace1 = go.Scatter(\n",
    "    x = list_vision,\n",
    "    y = mean_vision,\n",
    "    name = 'Prix moyen',\n",
    "    mode='lines',\n",
    "    line = {'color':'dodgerblue'}\n",
    ")\n",
    "\n",
    "trace2 = go.Scatter(\n",
    "    x = fish[\"Vision\"],\n",
    "    y = fish[\"Sell\"],\n",
    "    text = \"Nom du poisson : \" + fish[\"Name\"],\n",
    "    name = \"Prix unitaire\",\n",
    "    mode = 'markers'\n",
    ")\n",
    "\n",
    "layout = go.Layout(\n",
    "    title = 'Moyenne du prix de vente en fonction de la largeur de vision du poisson',\n",
    "    yaxis = dict(\n",
    "        title = 'Prix de vente en clochettes',\n",
    "        range = (-1000, 16000),\n",
    "    ),\n",
    "    xaxis = dict(\n",
    "        title = 'Vision du poisson',\n",
    "    ),\n",
    "    dragmode = 'pan',\n",
    ")\n",
    "\n",
    "config = {\n",
    "    'scrollZoom': True,\n",
    "    'modeBarButtonsToRemove': ['sendDataToCloud',],\n",
    "    'showLink':False,\n",
    "}\n",
    "\n",
    "fig = go.Figure(data = [trace1, trace2], layout=layout)\n",
    "py.iplot(fig, config=config)"
   ]
  },
  {
   "cell_type": "markdown",
   "id": "309471a7-7e9b-477c-a2eb-5e4c587b1010",
   "metadata": {},
   "source": [
    "Correlation evidente entre la vision des poissons de la ligne de peche (spotted de + ou - moins selon le poisson) et la difficulte de peche.\n",
    "=> En moyenne, + grande difficulte de peche = plus petite vision du poisson donc besoin de plus de precision dans le lancer de la ligne"
   ]
  },
  {
   "cell_type": "code",
   "execution_count": null,
   "id": "b1486a2e-f285-45ef-8cf0-8b929e547a6c",
   "metadata": {},
   "outputs": [],
   "source": []
  }
 ],
 "metadata": {
  "kernelspec": {
   "display_name": "Python 3 (ipykernel)",
   "language": "python",
   "name": "python3"
  },
  "language_info": {
   "codemirror_mode": {
    "name": "ipython",
    "version": 3
   },
   "file_extension": ".py",
   "mimetype": "text/x-python",
   "name": "python",
   "nbconvert_exporter": "python",
   "pygments_lexer": "ipython3",
   "version": "3.9.6"
  }
 },
 "nbformat": 4,
 "nbformat_minor": 5
}
