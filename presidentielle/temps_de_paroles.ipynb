{
 "cells": [
  {
   "cell_type": "code",
   "execution_count": 1,
   "metadata": {
    "collapsed": true,
    "pycharm": {
     "name": "#%%\n"
    }
   },
   "outputs": [],
   "source": [
    "import pandas as pd\n",
    "import plotly.express as px\n",
    "\n",
    "pd.options.plotting.backend = \"plotly\""
   ]
  },
  {
   "cell_type": "code",
   "execution_count": 12,
   "outputs": [],
   "source": [
    "df_pt1_arthaud = pd.read_csv(\"arthaud/premier_tour_1_arthaud.csv\", sep=\";\").fillna(0)\n",
    "df_pt2_arthaud = pd.read_csv(\"arthaud/premier_tour_2_arthaud.csv\", sep=\";\").fillna(0)\n",
    "df_sp1_arthaud = pd.read_csv(\"arthaud/seconde_periode_1_arthaud.csv\", sep=\";\").fillna(0)\n",
    "df_sp2_arthaud = pd.read_csv(\"arthaud/seconde_periode_2_arthaud.csv\", sep=\";\").fillna(0)\n",
    "df_sp3_arthaud = pd.read_csv(\"arthaud/seconde_periode_3_arthaud.csv\", sep=\";\").fillna(0)\n",
    "\n",
    "type = \"Total temps de parole\"\n",
    "df_pt1_arthaud = df_pt1_arthaud[df_pt1_arthaud['Candidat'] == type]\n",
    "df_pt2_arthaud = df_pt2_arthaud[df_pt2_arthaud['Candidat'] == type]\n",
    "df_sp1_arthaud = df_sp1_arthaud[df_sp1_arthaud['Candidat'] == type]\n",
    "df_sp2_arthaud = df_sp2_arthaud[df_sp2_arthaud['Candidat'] == type]\n",
    "df_sp3_arthaud = df_sp3_arthaud[df_sp3_arthaud['Candidat'] == type]\n",
    "\n",
    "df_pt1_arthaud.drop(['Détail des temps'], axis=1, inplace=True)\n",
    "df_pt2_arthaud.drop(['Détail des temps'], axis=1, inplace=True)\n",
    "df_sp1_arthaud.drop(['Détail des temps'], axis=1, inplace=True)\n",
    "df_sp2_arthaud.drop(['Détail des temps'], axis=1, inplace=True)\n",
    "df_sp3_arthaud.drop(['Détail des temps'], axis=1, inplace=True)\n",
    "\n",
    "for col in df_pt1_arthaud.columns[2:]:\n",
    "    df_pt1_arthaud[col] = pd.to_timedelta(df_pt1_arthaud[col]) / (60 * pd.Timedelta('1s'))\n",
    "    df_pt2_arthaud[col] = pd.to_timedelta(df_pt2_arthaud[col]) / (60 * pd.Timedelta('1s'))\n",
    "    df_sp1_arthaud[col] = pd.to_timedelta(df_sp1_arthaud[col]) / (60 * pd.Timedelta('1s'))\n",
    "    df_sp2_arthaud[col] = pd.to_timedelta(df_sp2_arthaud[col]) / (60 * pd.Timedelta('1s'))\n",
    "    df_sp3_arthaud[col] = pd.to_timedelta(df_sp3_arthaud[col]) / (60 * pd.Timedelta('1s'))\n",
    "\n",
    "df_sp1_arthaud[\"Période\"] = \"13/03/2022\"\n",
    "df_sp2_arthaud[\"Période\"] = \"20/03/2022\"\n",
    "df_sp3_arthaud[\"Période\"] = \"27/03/2022\"\n",
    "df_pt1_arthaud[\"Période\"] = \"03/04/2022\"\n",
    "df_pt2_arthaud[\"Période\"] = \"08/04/2022\"\n",
    "\n",
    "df_pt1_arthaud[\"Somme\"] = (\n",
    "            df_pt1_arthaud['Tranche (6h-9h)(durée)'] + df_pt1_arthaud['Tranche (6h-9h)(durée)'] + df_pt1_arthaud[\n",
    "        'Tranche (9h-18h)(durée)'] + df_pt1_arthaud['Tranche (18h-24h)(durée)'])\n",
    "\n",
    "df_pt2_arthaud[\"Somme\"] = (df_pt2_arthaud['Tranche (6h-9h)(durée)'] + df_pt2_arthaud['Tranche (6h-9h)(durée)'] +\n",
    "                         df_pt2_arthaud['Tranche (9h-18h)(durée)'] + df_pt2_arthaud['Tranche (18h-24h)(durée)'])\n",
    "\n",
    "df_sp1_arthaud[\"Somme\"] = (df_sp1_arthaud['Tranche (6h-9h)(durée)'] + df_sp1_arthaud['Tranche (6h-9h)(durée)'] +\n",
    "                         df_sp1_arthaud['Tranche (9h-18h)(durée)'] + df_sp1_arthaud['Tranche (18h-24h)(durée)'])\n",
    "\n",
    "df_sp2_arthaud[\"Somme\"] = (df_sp2_arthaud['Tranche (6h-9h)(durée)'] + df_sp2_arthaud['Tranche (6h-9h)(durée)'] +\n",
    "                         df_sp2_arthaud['Tranche (9h-18h)(durée)'] + df_sp2_arthaud['Tranche (18h-24h)(durée)'])\n",
    "\n",
    "df_sp3_arthaud[\"Somme\"] = (df_sp3_arthaud['Tranche (6h-9h)(durée)'] + df_sp3_arthaud['Tranche (6h-9h)(durée)'] +\n",
    "                         df_sp3_arthaud['Tranche (9h-18h)(durée)'] + df_sp3_arthaud['Tranche (18h-24h)(durée)'])\n",
    "\n",
    "df_sp1_arthaud['Période'] = pd.to_datetime(df_sp1_arthaud['Période'], dayfirst=True)\n",
    "df_sp2_arthaud['Période'] = pd.to_datetime(df_sp2_arthaud['Période'], dayfirst=True)\n",
    "df_sp3_arthaud['Période'] = pd.to_datetime(df_sp3_arthaud['Période'], dayfirst=True)\n",
    "df_pt1_arthaud['Période'] = pd.to_datetime(df_pt1_arthaud['Période'], dayfirst=True)\n",
    "df_pt2_arthaud['Période'] = pd.to_datetime(df_pt2_arthaud['Période'], dayfirst=True)\n",
    "\n",
    "l = ['Chaîne', 'Période', 'Somme']\n",
    "\n",
    "df_arthaud = pd.concat([df_sp1_arthaud[l], df_sp2_arthaud[l], df_sp3_arthaud[l], df_pt1_arthaud[l], df_pt2_arthaud[l]])"
   ],
   "metadata": {
    "collapsed": false,
    "pycharm": {
     "name": "#%%\n"
    }
   }
  },
  {
   "cell_type": "code",
   "execution_count": 13,
   "outputs": [],
   "source": [
    "df_pt1_dupont = pd.read_csv(\"dupont/premier_tour_1_dupont.csv\", sep=\";\").fillna(0)\n",
    "df_pt2_dupont = pd.read_csv(\"dupont/premier_tour_2_dupont.csv\", sep=\";\").fillna(0)\n",
    "df_sp1_dupont = pd.read_csv(\"dupont/seconde_periode_1_dupont.csv\", sep=\";\").fillna(0)\n",
    "df_sp2_dupont = pd.read_csv(\"dupont/seconde_periode_2_dupont.csv\", sep=\";\").fillna(0)\n",
    "df_sp3_dupont = pd.read_csv(\"dupont/seconde_periode_3_dupont.csv\", sep=\";\").fillna(0)\n",
    "\n",
    "type = \"Total temps de parole\"\n",
    "df_pt1_dupont = df_pt1_dupont[df_pt1_dupont['Candidat'] == type]\n",
    "df_pt2_dupont = df_pt2_dupont[df_pt2_dupont['Candidat'] == type]\n",
    "df_sp1_dupont = df_sp1_dupont[df_sp1_dupont['Candidat'] == type]\n",
    "df_sp2_dupont = df_sp2_dupont[df_sp2_dupont['Candidat'] == type]\n",
    "df_sp3_dupont = df_sp3_dupont[df_sp3_dupont['Candidat'] == type]\n",
    "\n",
    "df_pt1_dupont.drop(['Détail des temps'], axis=1, inplace=True)\n",
    "df_pt2_dupont.drop(['Détail des temps'], axis=1, inplace=True)\n",
    "df_sp1_dupont.drop(['Détail des temps'], axis=1, inplace=True)\n",
    "df_sp2_dupont.drop(['Détail des temps'], axis=1, inplace=True)\n",
    "df_sp3_dupont.drop(['Détail des temps'], axis=1, inplace=True)\n",
    "\n",
    "for col in df_pt1_dupont.columns[2:]:\n",
    "    df_pt1_dupont[col] = pd.to_timedelta(df_pt1_dupont[col]) / (60 * pd.Timedelta('1s'))\n",
    "    df_pt2_dupont[col] = pd.to_timedelta(df_pt2_dupont[col]) / (60 * pd.Timedelta('1s'))\n",
    "    df_sp1_dupont[col] = pd.to_timedelta(df_sp1_dupont[col]) / (60 * pd.Timedelta('1s'))\n",
    "    df_sp2_dupont[col] = pd.to_timedelta(df_sp2_dupont[col]) / (60 * pd.Timedelta('1s'))\n",
    "    df_sp3_dupont[col] = pd.to_timedelta(df_sp3_dupont[col]) / (60 * pd.Timedelta('1s'))\n",
    "\n",
    "df_sp1_dupont[\"Période\"] = \"13/03/2022\"\n",
    "df_sp2_dupont[\"Période\"] = \"20/03/2022\"\n",
    "df_sp3_dupont[\"Période\"] = \"27/03/2022\"\n",
    "df_pt1_dupont[\"Période\"] = \"03/04/2022\"\n",
    "df_pt2_dupont[\"Période\"] = \"08/04/2022\"\n",
    "\n",
    "df_pt1_dupont[\"Somme\"] = (\n",
    "            df_pt1_dupont['Tranche (6h-9h)(durée)'] + df_pt1_dupont['Tranche (6h-9h)(durée)'] + df_pt1_dupont[\n",
    "        'Tranche (9h-18h)(durée)'] + df_pt1_dupont['Tranche (18h-24h)(durée)'])\n",
    "\n",
    "df_pt2_dupont[\"Somme\"] = (df_pt2_dupont['Tranche (6h-9h)(durée)'] + df_pt2_dupont['Tranche (6h-9h)(durée)'] +\n",
    "                         df_pt2_dupont['Tranche (9h-18h)(durée)'] + df_pt2_dupont['Tranche (18h-24h)(durée)'])\n",
    "\n",
    "df_sp1_dupont[\"Somme\"] = (df_sp1_dupont['Tranche (6h-9h)(durée)'] + df_sp1_dupont['Tranche (6h-9h)(durée)'] +\n",
    "                         df_sp1_dupont['Tranche (9h-18h)(durée)'] + df_sp1_dupont['Tranche (18h-24h)(durée)'])\n",
    "\n",
    "df_sp2_dupont[\"Somme\"] = (df_sp2_dupont['Tranche (6h-9h)(durée)'] + df_sp2_dupont['Tranche (6h-9h)(durée)'] +\n",
    "                         df_sp2_dupont['Tranche (9h-18h)(durée)'] + df_sp2_dupont['Tranche (18h-24h)(durée)'])\n",
    "\n",
    "df_sp3_dupont[\"Somme\"] = (df_sp3_dupont['Tranche (6h-9h)(durée)'] + df_sp3_dupont['Tranche (6h-9h)(durée)'] +\n",
    "                         df_sp3_dupont['Tranche (9h-18h)(durée)'] + df_sp3_dupont['Tranche (18h-24h)(durée)'])\n",
    "\n",
    "df_sp1_dupont['Période'] = pd.to_datetime(df_sp1_dupont['Période'], dayfirst=True)\n",
    "df_sp2_dupont['Période'] = pd.to_datetime(df_sp2_dupont['Période'], dayfirst=True)\n",
    "df_sp3_dupont['Période'] = pd.to_datetime(df_sp3_dupont['Période'], dayfirst=True)\n",
    "df_pt1_dupont['Période'] = pd.to_datetime(df_pt1_dupont['Période'], dayfirst=True)\n",
    "df_pt2_dupont['Période'] = pd.to_datetime(df_pt2_dupont['Période'], dayfirst=True)\n",
    "\n",
    "l = ['Chaîne', 'Période', 'Somme']\n",
    "\n",
    "df_dupont = pd.concat([df_sp1_dupont[l], df_sp2_dupont[l], df_sp3_dupont[l], df_pt1_dupont[l], df_pt2_dupont[l]])"
   ],
   "metadata": {
    "collapsed": false,
    "pycharm": {
     "name": "#%%\n"
    }
   }
  },
  {
   "cell_type": "code",
   "execution_count": 14,
   "outputs": [],
   "source": [
    "df_pt1_hidalgo = pd.read_csv(\"hidalgo/premier_tour_1_hidalgo.csv\", sep=\";\").fillna(0)\n",
    "df_pt2_hidalgo = pd.read_csv(\"hidalgo/premier_tour_2_hidalgo.csv\", sep=\";\").fillna(0)\n",
    "df_sp1_hidalgo = pd.read_csv(\"hidalgo/seconde_periode_1_hidalgo.csv\", sep=\";\").fillna(0)\n",
    "df_sp2_hidalgo = pd.read_csv(\"hidalgo/seconde_periode_2_hidalgo.csv\", sep=\";\").fillna(0)\n",
    "df_sp3_hidalgo = pd.read_csv(\"hidalgo/seconde_periode_3_hidalgo.csv\", sep=\";\").fillna(0)\n",
    "\n",
    "type = \"Total temps de parole\"\n",
    "df_pt1_hidalgo = df_pt1_hidalgo[df_pt1_hidalgo['Candidat'] == type]\n",
    "df_pt2_hidalgo = df_pt2_hidalgo[df_pt2_hidalgo['Candidat'] == type]\n",
    "df_sp1_hidalgo = df_sp1_hidalgo[df_sp1_hidalgo['Candidat'] == type]\n",
    "df_sp2_hidalgo = df_sp2_hidalgo[df_sp2_hidalgo['Candidat'] == type]\n",
    "df_sp3_hidalgo = df_sp3_hidalgo[df_sp3_hidalgo['Candidat'] == type]\n",
    "\n",
    "df_pt1_hidalgo.drop(['Détail des temps'], axis=1, inplace=True)\n",
    "df_pt2_hidalgo.drop(['Détail des temps'], axis=1, inplace=True)\n",
    "df_sp1_hidalgo.drop(['Détail des temps'], axis=1, inplace=True)\n",
    "df_sp2_hidalgo.drop(['Détail des temps'], axis=1, inplace=True)\n",
    "df_sp3_hidalgo.drop(['Détail des temps'], axis=1, inplace=True)\n",
    "\n",
    "for col in df_pt1_hidalgo.columns[2:]:\n",
    "    df_pt1_hidalgo[col] = pd.to_timedelta(df_pt1_hidalgo[col]) / (60 * pd.Timedelta('1s'))\n",
    "    df_pt2_hidalgo[col] = pd.to_timedelta(df_pt2_hidalgo[col]) / (60 * pd.Timedelta('1s'))\n",
    "    df_sp1_hidalgo[col] = pd.to_timedelta(df_sp1_hidalgo[col]) / (60 * pd.Timedelta('1s'))\n",
    "    df_sp2_hidalgo[col] = pd.to_timedelta(df_sp2_hidalgo[col]) / (60 * pd.Timedelta('1s'))\n",
    "    df_sp3_hidalgo[col] = pd.to_timedelta(df_sp3_hidalgo[col]) / (60 * pd.Timedelta('1s'))\n",
    "\n",
    "df_sp1_hidalgo[\"Période\"] = \"13/03/2022\"\n",
    "df_sp2_hidalgo[\"Période\"] = \"20/03/2022\"\n",
    "df_sp3_hidalgo[\"Période\"] = \"27/03/2022\"\n",
    "df_pt1_hidalgo[\"Période\"] = \"03/04/2022\"\n",
    "df_pt2_hidalgo[\"Période\"] = \"08/04/2022\"\n",
    "\n",
    "df_pt1_hidalgo[\"Somme\"] = (\n",
    "            df_pt1_hidalgo['Tranche (6h-9h)(durée)'] + df_pt1_hidalgo['Tranche (6h-9h)(durée)'] + df_pt1_hidalgo[\n",
    "        'Tranche (9h-18h)(durée)'] + df_pt1_hidalgo['Tranche (18h-24h)(durée)'])\n",
    "\n",
    "df_pt2_hidalgo[\"Somme\"] = (df_pt2_hidalgo['Tranche (6h-9h)(durée)'] + df_pt2_hidalgo['Tranche (6h-9h)(durée)'] +\n",
    "                         df_pt2_hidalgo['Tranche (9h-18h)(durée)'] + df_pt2_hidalgo['Tranche (18h-24h)(durée)'])\n",
    "\n",
    "df_sp1_hidalgo[\"Somme\"] = (df_sp1_hidalgo['Tranche (6h-9h)(durée)'] + df_sp1_hidalgo['Tranche (6h-9h)(durée)'] +\n",
    "                         df_sp1_hidalgo['Tranche (9h-18h)(durée)'] + df_sp1_hidalgo['Tranche (18h-24h)(durée)'])\n",
    "\n",
    "df_sp2_hidalgo[\"Somme\"] = (df_sp2_hidalgo['Tranche (6h-9h)(durée)'] + df_sp2_hidalgo['Tranche (6h-9h)(durée)'] +\n",
    "                         df_sp2_hidalgo['Tranche (9h-18h)(durée)'] + df_sp2_hidalgo['Tranche (18h-24h)(durée)'])\n",
    "\n",
    "df_sp3_hidalgo[\"Somme\"] = (df_sp3_hidalgo['Tranche (6h-9h)(durée)'] + df_sp3_hidalgo['Tranche (6h-9h)(durée)'] +\n",
    "                         df_sp3_hidalgo['Tranche (9h-18h)(durée)'] + df_sp3_hidalgo['Tranche (18h-24h)(durée)'])\n",
    "\n",
    "df_sp1_hidalgo['Période'] = pd.to_datetime(df_sp1_hidalgo['Période'], dayfirst=True)\n",
    "df_sp2_hidalgo['Période'] = pd.to_datetime(df_sp2_hidalgo['Période'], dayfirst=True)\n",
    "df_sp3_hidalgo['Période'] = pd.to_datetime(df_sp3_hidalgo['Période'], dayfirst=True)\n",
    "df_pt1_hidalgo['Période'] = pd.to_datetime(df_pt1_hidalgo['Période'], dayfirst=True)\n",
    "df_pt2_hidalgo['Période'] = pd.to_datetime(df_pt2_hidalgo['Période'], dayfirst=True)\n",
    "\n",
    "l = ['Chaîne', 'Période', 'Somme']\n",
    "\n",
    "df_hidalgo = pd.concat([df_sp1_hidalgo[l], df_sp2_hidalgo[l], df_sp3_hidalgo[l], df_pt1_hidalgo[l], df_pt2_hidalgo[l]])"
   ],
   "metadata": {
    "collapsed": false,
    "pycharm": {
     "name": "#%%\n"
    }
   }
  },
  {
   "cell_type": "code",
   "execution_count": 15,
   "outputs": [],
   "source": [
    "df_pt1_jadot = pd.read_csv(\"jadot/premier_tour_1_jadot.csv\", sep=\";\").fillna(0)\n",
    "df_pt2_jadot = pd.read_csv(\"jadot/premier_tour_2_jadot.csv\", sep=\";\").fillna(0)\n",
    "df_sp1_jadot = pd.read_csv(\"jadot/seconde_periode_1_jadot.csv\", sep=\";\").fillna(0)\n",
    "df_sp2_jadot = pd.read_csv(\"jadot/seconde_periode_2_jadot.csv\", sep=\";\").fillna(0)\n",
    "df_sp3_jadot = pd.read_csv(\"jadot/seconde_periode_3_jadot.csv\", sep=\";\").fillna(0)\n",
    "\n",
    "type = \"Total temps de parole\"\n",
    "df_pt1_jadot = df_pt1_jadot[df_pt1_jadot['Candidat'] == type]\n",
    "df_pt2_jadot = df_pt2_jadot[df_pt2_jadot['Candidat'] == type]\n",
    "df_sp1_jadot = df_sp1_jadot[df_sp1_jadot['Candidat'] == type]\n",
    "df_sp2_jadot = df_sp2_jadot[df_sp2_jadot['Candidat'] == type]\n",
    "df_sp3_jadot = df_sp3_jadot[df_sp3_jadot['Candidat'] == type]\n",
    "\n",
    "df_pt1_jadot.drop(['Détail des temps'], axis=1, inplace=True)\n",
    "df_pt2_jadot.drop(['Détail des temps'], axis=1, inplace=True)\n",
    "df_sp1_jadot.drop(['Détail des temps'], axis=1, inplace=True)\n",
    "df_sp2_jadot.drop(['Détail des temps'], axis=1, inplace=True)\n",
    "df_sp3_jadot.drop(['Détail des temps'], axis=1, inplace=True)\n",
    "\n",
    "for col in df_pt1_jadot.columns[2:]:\n",
    "    df_pt1_jadot[col] = pd.to_timedelta(df_pt1_jadot[col]) / (60 * pd.Timedelta('1s'))\n",
    "    df_pt2_jadot[col] = pd.to_timedelta(df_pt2_jadot[col]) / (60 * pd.Timedelta('1s'))\n",
    "    df_sp1_jadot[col] = pd.to_timedelta(df_sp1_jadot[col]) / (60 * pd.Timedelta('1s'))\n",
    "    df_sp2_jadot[col] = pd.to_timedelta(df_sp2_jadot[col]) / (60 * pd.Timedelta('1s'))\n",
    "    df_sp3_jadot[col] = pd.to_timedelta(df_sp3_jadot[col]) / (60 * pd.Timedelta('1s'))\n",
    "\n",
    "df_sp1_jadot[\"Période\"] = \"13/03/2022\"\n",
    "df_sp2_jadot[\"Période\"] = \"20/03/2022\"\n",
    "df_sp3_jadot[\"Période\"] = \"27/03/2022\"\n",
    "df_pt1_jadot[\"Période\"] = \"03/04/2022\"\n",
    "df_pt2_jadot[\"Période\"] = \"08/04/2022\"\n",
    "\n",
    "df_pt1_jadot[\"Somme\"] = (\n",
    "            df_pt1_jadot['Tranche (6h-9h)(durée)'] + df_pt1_jadot['Tranche (6h-9h)(durée)'] + df_pt1_jadot[\n",
    "        'Tranche (9h-18h)(durée)'] + df_pt1_jadot['Tranche (18h-24h)(durée)'])\n",
    "\n",
    "df_pt2_jadot[\"Somme\"] = (df_pt2_jadot['Tranche (6h-9h)(durée)'] + df_pt2_jadot['Tranche (6h-9h)(durée)'] +\n",
    "                         df_pt2_jadot['Tranche (9h-18h)(durée)'] + df_pt2_jadot['Tranche (18h-24h)(durée)'])\n",
    "\n",
    "df_sp1_jadot[\"Somme\"] = (df_sp1_jadot['Tranche (6h-9h)(durée)'] + df_sp1_jadot['Tranche (6h-9h)(durée)'] +\n",
    "                         df_sp1_jadot['Tranche (9h-18h)(durée)'] + df_sp1_jadot['Tranche (18h-24h)(durée)'])\n",
    "\n",
    "df_sp2_jadot[\"Somme\"] = (df_sp2_jadot['Tranche (6h-9h)(durée)'] + df_sp2_jadot['Tranche (6h-9h)(durée)'] +\n",
    "                         df_sp2_jadot['Tranche (9h-18h)(durée)'] + df_sp2_jadot['Tranche (18h-24h)(durée)'])\n",
    "\n",
    "df_sp3_jadot[\"Somme\"] = (df_sp3_jadot['Tranche (6h-9h)(durée)'] + df_sp3_jadot['Tranche (6h-9h)(durée)'] +\n",
    "                         df_sp3_jadot['Tranche (9h-18h)(durée)'] + df_sp3_jadot['Tranche (18h-24h)(durée)'])\n",
    "\n",
    "df_sp1_jadot['Période'] = pd.to_datetime(df_sp1_jadot['Période'], dayfirst=True)\n",
    "df_sp2_jadot['Période'] = pd.to_datetime(df_sp2_jadot['Période'], dayfirst=True)\n",
    "df_sp3_jadot['Période'] = pd.to_datetime(df_sp3_jadot['Période'], dayfirst=True)\n",
    "df_pt1_jadot['Période'] = pd.to_datetime(df_pt1_jadot['Période'], dayfirst=True)\n",
    "df_pt2_jadot['Période'] = pd.to_datetime(df_pt2_jadot['Période'], dayfirst=True)\n",
    "\n",
    "l = ['Chaîne', 'Période', 'Somme']\n",
    "\n",
    "df_jadot = pd.concat([df_sp1_jadot[l], df_sp2_jadot[l], df_sp3_jadot[l], df_pt1_jadot[l], df_pt2_jadot[l]])"
   ],
   "metadata": {
    "collapsed": false,
    "pycharm": {
     "name": "#%%\n"
    }
   }
  },
  {
   "cell_type": "code",
   "execution_count": 16,
   "outputs": [],
   "source": [
    "df_pt1_lassalle = pd.read_csv(\"lassalle/premier_tour_1_lassalle.csv\", sep=\";\").fillna(0)\n",
    "df_pt2_lassalle = pd.read_csv(\"lassalle/premier_tour_2_lassalle.csv\", sep=\";\").fillna(0)\n",
    "df_sp1_lassalle = pd.read_csv(\"lassalle/seconde_periode_1_lassalle.csv\", sep=\";\").fillna(0)\n",
    "df_sp2_lassalle = pd.read_csv(\"lassalle/seconde_periode_2_lassalle.csv\", sep=\";\").fillna(0)\n",
    "df_sp3_lassalle = pd.read_csv(\"lassalle/seconde_periode_3_lassalle.csv\", sep=\";\").fillna(0)\n",
    "\n",
    "type = \"Total temps de parole\"\n",
    "df_pt1_lassalle = df_pt1_lassalle[df_pt1_lassalle['Candidat'] == type]\n",
    "df_pt2_lassalle = df_pt2_lassalle[df_pt2_lassalle['Candidat'] == type]\n",
    "df_sp1_lassalle = df_sp1_lassalle[df_sp1_lassalle['Candidat'] == type]\n",
    "df_sp2_lassalle = df_sp2_lassalle[df_sp2_lassalle['Candidat'] == type]\n",
    "df_sp3_lassalle = df_sp3_lassalle[df_sp3_lassalle['Candidat'] == type]\n",
    "\n",
    "df_pt1_lassalle.drop(['Détail des temps'], axis=1, inplace=True)\n",
    "df_pt2_lassalle.drop(['Détail des temps'], axis=1, inplace=True)\n",
    "df_sp1_lassalle.drop(['Détail des temps'], axis=1, inplace=True)\n",
    "df_sp2_lassalle.drop(['Détail des temps'], axis=1, inplace=True)\n",
    "df_sp3_lassalle.drop(['Détail des temps'], axis=1, inplace=True)\n",
    "\n",
    "for col in df_pt1_lassalle.columns[2:]:\n",
    "    df_pt1_lassalle[col] = pd.to_timedelta(df_pt1_lassalle[col]) / (60 * pd.Timedelta('1s'))\n",
    "    df_pt2_lassalle[col] = pd.to_timedelta(df_pt2_lassalle[col]) / (60 * pd.Timedelta('1s'))\n",
    "    df_sp1_lassalle[col] = pd.to_timedelta(df_sp1_lassalle[col]) / (60 * pd.Timedelta('1s'))\n",
    "    df_sp2_lassalle[col] = pd.to_timedelta(df_sp2_lassalle[col]) / (60 * pd.Timedelta('1s'))\n",
    "    df_sp3_lassalle[col] = pd.to_timedelta(df_sp3_lassalle[col]) / (60 * pd.Timedelta('1s'))\n",
    "\n",
    "df_sp1_lassalle[\"Période\"] = \"13/03/2022\"\n",
    "df_sp2_lassalle[\"Période\"] = \"20/03/2022\"\n",
    "df_sp3_lassalle[\"Période\"] = \"27/03/2022\"\n",
    "df_pt1_lassalle[\"Période\"] = \"03/04/2022\"\n",
    "df_pt2_lassalle[\"Période\"] = \"08/04/2022\"\n",
    "\n",
    "df_pt1_lassalle[\"Somme\"] = (\n",
    "            df_pt1_lassalle['Tranche (6h-9h)(durée)'] + df_pt1_lassalle['Tranche (6h-9h)(durée)'] + df_pt1_lassalle[\n",
    "        'Tranche (9h-18h)(durée)'] + df_pt1_lassalle['Tranche (18h-24h)(durée)'])\n",
    "\n",
    "df_pt2_lassalle[\"Somme\"] = (df_pt2_lassalle['Tranche (6h-9h)(durée)'] + df_pt2_lassalle['Tranche (6h-9h)(durée)'] +\n",
    "                         df_pt2_lassalle['Tranche (9h-18h)(durée)'] + df_pt2_lassalle['Tranche (18h-24h)(durée)'])\n",
    "\n",
    "df_sp1_lassalle[\"Somme\"] = (df_sp1_lassalle['Tranche (6h-9h)(durée)'] + df_sp1_lassalle['Tranche (6h-9h)(durée)'] +\n",
    "                         df_sp1_lassalle['Tranche (9h-18h)(durée)'] + df_sp1_lassalle['Tranche (18h-24h)(durée)'])\n",
    "\n",
    "df_sp2_lassalle[\"Somme\"] = (df_sp2_lassalle['Tranche (6h-9h)(durée)'] + df_sp2_lassalle['Tranche (6h-9h)(durée)'] +\n",
    "                         df_sp2_lassalle['Tranche (9h-18h)(durée)'] + df_sp2_lassalle['Tranche (18h-24h)(durée)'])\n",
    "\n",
    "df_sp3_lassalle[\"Somme\"] = (df_sp3_lassalle['Tranche (6h-9h)(durée)'] + df_sp3_lassalle['Tranche (6h-9h)(durée)'] +\n",
    "                         df_sp3_lassalle['Tranche (9h-18h)(durée)'] + df_sp3_lassalle['Tranche (18h-24h)(durée)'])\n",
    "\n",
    "df_sp1_lassalle['Période'] = pd.to_datetime(df_sp1_lassalle['Période'], dayfirst=True)\n",
    "df_sp2_lassalle['Période'] = pd.to_datetime(df_sp2_lassalle['Période'], dayfirst=True)\n",
    "df_sp3_lassalle['Période'] = pd.to_datetime(df_sp3_lassalle['Période'], dayfirst=True)\n",
    "df_pt1_lassalle['Période'] = pd.to_datetime(df_pt1_lassalle['Période'], dayfirst=True)\n",
    "df_pt2_lassalle['Période'] = pd.to_datetime(df_pt2_lassalle['Période'], dayfirst=True)\n",
    "\n",
    "l = ['Chaîne', 'Période', 'Somme']\n",
    "\n",
    "df_lassalle = pd.concat([df_sp1_lassalle[l], df_sp2_lassalle[l], df_sp3_lassalle[l], df_pt1_lassalle[l], df_pt2_lassalle[l]])"
   ],
   "metadata": {
    "collapsed": false,
    "pycharm": {
     "name": "#%%\n"
    }
   }
  },
  {
   "cell_type": "code",
   "execution_count": 17,
   "outputs": [],
   "source": [
    "df_pt1_lepen = pd.read_csv(\"lepen/premier_tour_1_lepen.csv\", sep=\";\").fillna(0)\n",
    "df_pt2_lepen = pd.read_csv(\"lepen/premier_tour_2_lepen.csv\", sep=\";\").fillna(0)\n",
    "df_sp1_lepen = pd.read_csv(\"lepen/seconde_periode_1_lepen.csv\", sep=\";\").fillna(0)\n",
    "df_sp2_lepen = pd.read_csv(\"lepen/seconde_periode_2_lepen.csv\", sep=\";\").fillna(0)\n",
    "df_sp3_lepen = pd.read_csv(\"lepen/seconde_periode_3_lepen.csv\", sep=\";\").fillna(0)\n",
    "\n",
    "type = \"Total temps de parole\"\n",
    "df_pt1_lepen = df_pt1_lepen[df_pt1_lepen['Candidat'] == type]\n",
    "df_pt2_lepen = df_pt2_lepen[df_pt2_lepen['Candidat'] == type]\n",
    "df_sp1_lepen = df_sp1_lepen[df_sp1_lepen['Candidat'] == type]\n",
    "df_sp2_lepen = df_sp2_lepen[df_sp2_lepen['Candidat'] == type]\n",
    "df_sp3_lepen = df_sp3_lepen[df_sp3_lepen['Candidat'] == type]\n",
    "\n",
    "df_pt1_lepen.drop(['Détail des temps'], axis=1, inplace=True)\n",
    "df_pt2_lepen.drop(['Détail des temps'], axis=1, inplace=True)\n",
    "df_sp1_lepen.drop(['Détail des temps'], axis=1, inplace=True)\n",
    "df_sp2_lepen.drop(['Détail des temps'], axis=1, inplace=True)\n",
    "df_sp3_lepen.drop(['Détail des temps'], axis=1, inplace=True)\n",
    "\n",
    "for col in df_pt1_lepen.columns[2:]:\n",
    "    df_pt1_lepen[col] = pd.to_timedelta(df_pt1_lepen[col]) / (60 * pd.Timedelta('1s'))\n",
    "    df_pt2_lepen[col] = pd.to_timedelta(df_pt2_lepen[col]) / (60 * pd.Timedelta('1s'))\n",
    "    df_sp1_lepen[col] = pd.to_timedelta(df_sp1_lepen[col]) / (60 * pd.Timedelta('1s'))\n",
    "    df_sp2_lepen[col] = pd.to_timedelta(df_sp2_lepen[col]) / (60 * pd.Timedelta('1s'))\n",
    "    df_sp3_lepen[col] = pd.to_timedelta(df_sp3_lepen[col]) / (60 * pd.Timedelta('1s'))\n",
    "\n",
    "df_sp1_lepen[\"Période\"] = \"13/03/2022\"\n",
    "df_sp2_lepen[\"Période\"] = \"20/03/2022\"\n",
    "df_sp3_lepen[\"Période\"] = \"27/03/2022\"\n",
    "df_pt1_lepen[\"Période\"] = \"03/04/2022\"\n",
    "df_pt2_lepen[\"Période\"] = \"08/04/2022\"\n",
    "\n",
    "df_pt1_lepen[\"Somme\"] = (\n",
    "            df_pt1_lepen['Tranche (6h-9h)(durée)'] + df_pt1_lepen['Tranche (6h-9h)(durée)'] + df_pt1_lepen[\n",
    "        'Tranche (9h-18h)(durée)'] + df_pt1_lepen['Tranche (18h-24h)(durée)'])\n",
    "\n",
    "df_pt2_lepen[\"Somme\"] = (df_pt2_lepen['Tranche (6h-9h)(durée)'] + df_pt2_lepen['Tranche (6h-9h)(durée)'] +\n",
    "                         df_pt2_lepen['Tranche (9h-18h)(durée)'] + df_pt2_lepen['Tranche (18h-24h)(durée)'])\n",
    "\n",
    "df_sp1_lepen[\"Somme\"] = (df_sp1_lepen['Tranche (6h-9h)(durée)'] + df_sp1_lepen['Tranche (6h-9h)(durée)'] +\n",
    "                         df_sp1_lepen['Tranche (9h-18h)(durée)'] + df_sp1_lepen['Tranche (18h-24h)(durée)'])\n",
    "\n",
    "df_sp2_lepen[\"Somme\"] = (df_sp2_lepen['Tranche (6h-9h)(durée)'] + df_sp2_lepen['Tranche (6h-9h)(durée)'] +\n",
    "                         df_sp2_lepen['Tranche (9h-18h)(durée)'] + df_sp2_lepen['Tranche (18h-24h)(durée)'])\n",
    "\n",
    "df_sp3_lepen[\"Somme\"] = (df_sp3_lepen['Tranche (6h-9h)(durée)'] + df_sp3_lepen['Tranche (6h-9h)(durée)'] +\n",
    "                         df_sp3_lepen['Tranche (9h-18h)(durée)'] + df_sp3_lepen['Tranche (18h-24h)(durée)'])\n",
    "\n",
    "df_sp1_lepen['Période'] = pd.to_datetime(df_sp1_lepen['Période'], dayfirst=True)\n",
    "df_sp2_lepen['Période'] = pd.to_datetime(df_sp2_lepen['Période'], dayfirst=True)\n",
    "df_sp3_lepen['Période'] = pd.to_datetime(df_sp3_lepen['Période'], dayfirst=True)\n",
    "df_pt1_lepen['Période'] = pd.to_datetime(df_pt1_lepen['Période'], dayfirst=True)\n",
    "df_pt2_lepen['Période'] = pd.to_datetime(df_pt2_lepen['Période'], dayfirst=True)\n",
    "\n",
    "l = ['Chaîne', 'Période', 'Somme']\n",
    "\n",
    "df_lepen = pd.concat([df_sp1_lepen[l], df_sp2_lepen[l], df_sp3_lepen[l], df_pt1_lepen[l], df_pt2_lepen[l]])"
   ],
   "metadata": {
    "collapsed": false,
    "pycharm": {
     "name": "#%%\n"
    }
   }
  },
  {
   "cell_type": "code",
   "execution_count": 18,
   "outputs": [],
   "source": [
    "df_pt1_macron = pd.read_csv(\"macron/premier_tour_1_macron.csv\", sep=\";\").fillna(0)\n",
    "df_pt2_macron = pd.read_csv(\"macron/premier_tour_2_macron.csv\", sep=\";\").fillna(0)\n",
    "df_sp1_macron = pd.read_csv(\"macron/seconde_periode_1_macron.csv\", sep=\";\").fillna(0)\n",
    "df_sp2_macron = pd.read_csv(\"macron/seconde_periode_2_macron.csv\", sep=\";\").fillna(0)\n",
    "df_sp3_macron = pd.read_csv(\"macron/seconde_periode_3_macron.csv\", sep=\";\").fillna(0)\n",
    "\n",
    "type = \"Total temps de parole\"\n",
    "df_pt1_macron = df_pt1_macron[df_pt1_macron['Candidat'] == type]\n",
    "df_pt2_macron = df_pt2_macron[df_pt2_macron['Candidat'] == type]\n",
    "df_sp1_macron = df_sp1_macron[df_sp1_macron['Candidat'] == type]\n",
    "df_sp2_macron = df_sp2_macron[df_sp2_macron['Candidat'] == type]\n",
    "df_sp3_macron = df_sp3_macron[df_sp3_macron['Candidat'] == type]\n",
    "\n",
    "df_pt1_macron.drop(['Détail des temps'], axis=1, inplace=True)\n",
    "df_pt2_macron.drop(['Détail des temps'], axis=1, inplace=True)\n",
    "df_sp1_macron.drop(['Détail des temps'], axis=1, inplace=True)\n",
    "df_sp2_macron.drop(['Détail des temps'], axis=1, inplace=True)\n",
    "df_sp3_macron.drop(['Détail des temps'], axis=1, inplace=True)\n",
    "\n",
    "for col in df_pt1_macron.columns[2:]:\n",
    "    df_pt1_macron[col] = pd.to_timedelta(df_pt1_macron[col]) / (60 * pd.Timedelta('1s'))\n",
    "    df_pt2_macron[col] = pd.to_timedelta(df_pt2_macron[col]) / (60 * pd.Timedelta('1s'))\n",
    "    df_sp1_macron[col] = pd.to_timedelta(df_sp1_macron[col]) / (60 * pd.Timedelta('1s'))\n",
    "    df_sp2_macron[col] = pd.to_timedelta(df_sp2_macron[col]) / (60 * pd.Timedelta('1s'))\n",
    "    df_sp3_macron[col] = pd.to_timedelta(df_sp3_macron[col]) / (60 * pd.Timedelta('1s'))\n",
    "\n",
    "df_sp1_macron[\"Période\"] = \"13/03/2022\"\n",
    "df_sp2_macron[\"Période\"] = \"20/03/2022\"\n",
    "df_sp3_macron[\"Période\"] = \"27/03/2022\"\n",
    "df_pt1_macron[\"Période\"] = \"03/04/2022\"\n",
    "df_pt2_macron[\"Période\"] = \"08/04/2022\"\n",
    "\n",
    "df_pt1_macron[\"Somme\"] = (\n",
    "            df_pt1_macron['Tranche (6h-9h)(durée)'] + df_pt1_macron['Tranche (6h-9h)(durée)'] + df_pt1_macron[\n",
    "        'Tranche (9h-18h)(durée)'] + df_pt1_macron['Tranche (18h-24h)(durée)'])\n",
    "\n",
    "df_pt2_macron[\"Somme\"] = (df_pt2_macron['Tranche (6h-9h)(durée)'] + df_pt2_macron['Tranche (6h-9h)(durée)'] +\n",
    "                         df_pt2_macron['Tranche (9h-18h)(durée)'] + df_pt2_macron['Tranche (18h-24h)(durée)'])\n",
    "\n",
    "df_sp1_macron[\"Somme\"] = (df_sp1_macron['Tranche (6h-9h)(durée)'] + df_sp1_macron['Tranche (6h-9h)(durée)'] +\n",
    "                         df_sp1_macron['Tranche (9h-18h)(durée)'] + df_sp1_macron['Tranche (18h-24h)(durée)'])\n",
    "\n",
    "df_sp2_macron[\"Somme\"] = (df_sp2_macron['Tranche (6h-9h)(durée)'] + df_sp2_macron['Tranche (6h-9h)(durée)'] +\n",
    "                         df_sp2_macron['Tranche (9h-18h)(durée)'] + df_sp2_macron['Tranche (18h-24h)(durée)'])\n",
    "\n",
    "df_sp3_macron[\"Somme\"] = (df_sp3_macron['Tranche (6h-9h)(durée)'] + df_sp3_macron['Tranche (6h-9h)(durée)'] +\n",
    "                         df_sp3_macron['Tranche (9h-18h)(durée)'] + df_sp3_macron['Tranche (18h-24h)(durée)'])\n",
    "\n",
    "df_sp1_macron['Période'] = pd.to_datetime(df_sp1_macron['Période'], dayfirst=True)\n",
    "df_sp2_macron['Période'] = pd.to_datetime(df_sp2_macron['Période'], dayfirst=True)\n",
    "df_sp3_macron['Période'] = pd.to_datetime(df_sp3_macron['Période'], dayfirst=True)\n",
    "df_pt1_macron['Période'] = pd.to_datetime(df_pt1_macron['Période'], dayfirst=True)\n",
    "df_pt2_macron['Période'] = pd.to_datetime(df_pt2_macron['Période'], dayfirst=True)\n",
    "\n",
    "l = ['Chaîne', 'Période', 'Somme']\n",
    "\n",
    "df_macron = pd.concat([df_sp1_macron[l], df_sp2_macron[l], df_sp3_macron[l], df_pt1_macron[l], df_pt2_macron[l]])"
   ],
   "metadata": {
    "collapsed": false,
    "pycharm": {
     "name": "#%%\n"
    }
   }
  },
  {
   "cell_type": "code",
   "execution_count": 3,
   "outputs": [],
   "source": [
    "df_pt1_melenchon = pd.read_csv(\"melenchon/premier_tour_1_melenchon.csv\", sep=\";\").fillna(0)\n",
    "df_pt2_melenchon = pd.read_csv(\"melenchon/premier_tour_2_melenchon.csv\", sep=\";\").fillna(0)\n",
    "df_sp1_melenchon = pd.read_csv(\"melenchon/seconde_periode_1_melenchon.csv\", sep=\";\").fillna(0)\n",
    "df_sp2_melenchon = pd.read_csv(\"melenchon/seconde_periode_2_melenchon.csv\", sep=\";\").fillna(0)\n",
    "df_sp3_melenchon = pd.read_csv(\"melenchon/seconde_periode_3_melenchon.csv\", sep=\";\").fillna(0)\n",
    "\n",
    "type = \"Total temps de parole\"\n",
    "df_pt1_melenchon = df_pt1_melenchon[df_pt1_melenchon['Candidat'] == type]\n",
    "df_pt2_melenchon = df_pt2_melenchon[df_pt2_melenchon['Candidat'] == type]\n",
    "df_sp1_melenchon = df_sp1_melenchon[df_sp1_melenchon['Candidat'] == type]\n",
    "df_sp2_melenchon = df_sp2_melenchon[df_sp2_melenchon['Candidat'] == type]\n",
    "df_sp3_melenchon = df_sp3_melenchon[df_sp3_melenchon['Candidat'] == type]\n",
    "\n",
    "df_pt1_melenchon.drop(['Détail des temps'], axis=1, inplace=True)\n",
    "df_pt2_melenchon.drop(['Détail des temps'], axis=1, inplace=True)\n",
    "df_sp1_melenchon.drop(['Détail des temps'], axis=1, inplace=True)\n",
    "df_sp2_melenchon.drop(['Détail des temps'], axis=1, inplace=True)\n",
    "df_sp3_melenchon.drop(['Détail des temps'], axis=1, inplace=True)\n",
    "\n",
    "for col in df_pt1_melenchon.columns[2:]:\n",
    "    df_pt1_melenchon[col] = pd.to_timedelta(df_pt1_melenchon[col]) / (60 * pd.Timedelta('1s'))\n",
    "    df_pt2_melenchon[col] = pd.to_timedelta(df_pt2_melenchon[col]) / (60 * pd.Timedelta('1s'))\n",
    "    df_sp1_melenchon[col] = pd.to_timedelta(df_sp1_melenchon[col]) / (60 * pd.Timedelta('1s'))\n",
    "    df_sp2_melenchon[col] = pd.to_timedelta(df_sp2_melenchon[col]) / (60 * pd.Timedelta('1s'))\n",
    "    df_sp3_melenchon[col] = pd.to_timedelta(df_sp3_melenchon[col]) / (60 * pd.Timedelta('1s'))\n",
    "\n",
    "df_sp1_melenchon[\"Période\"] = \"13/03/2022\"\n",
    "df_sp2_melenchon[\"Période\"] = \"20/03/2022\"\n",
    "df_sp3_melenchon[\"Période\"] = \"27/03/2022\"\n",
    "df_pt1_melenchon[\"Période\"] = \"03/04/2022\"\n",
    "df_pt2_melenchon[\"Période\"] = \"08/04/2022\"\n",
    "\n",
    "df_pt1_melenchon[\"Somme\"] = (\n",
    "            df_pt1_melenchon['Tranche (6h-9h)(durée)'] + df_pt1_melenchon['Tranche (6h-9h)(durée)'] + df_pt1_melenchon[\n",
    "        'Tranche (9h-18h)(durée)'] + df_pt1_melenchon['Tranche (18h-24h)(durée)'])\n",
    "\n",
    "df_pt2_melenchon[\"Somme\"] = (df_pt2_melenchon['Tranche (6h-9h)(durée)'] + df_pt2_melenchon['Tranche (6h-9h)(durée)'] +\n",
    "                         df_pt2_melenchon['Tranche (9h-18h)(durée)'] + df_pt2_melenchon['Tranche (18h-24h)(durée)'])\n",
    "\n",
    "df_sp1_melenchon[\"Somme\"] = (df_sp1_melenchon['Tranche (6h-9h)(durée)'] + df_sp1_melenchon['Tranche (6h-9h)(durée)'] +\n",
    "                         df_sp1_melenchon['Tranche (9h-18h)(durée)'] + df_sp1_melenchon['Tranche (18h-24h)(durée)'])\n",
    "\n",
    "df_sp2_melenchon[\"Somme\"] = (df_sp2_melenchon['Tranche (6h-9h)(durée)'] + df_sp2_melenchon['Tranche (6h-9h)(durée)'] +\n",
    "                         df_sp2_melenchon['Tranche (9h-18h)(durée)'] + df_sp2_melenchon['Tranche (18h-24h)(durée)'])\n",
    "\n",
    "df_sp3_melenchon[\"Somme\"] = (df_sp3_melenchon['Tranche (6h-9h)(durée)'] + df_sp3_melenchon['Tranche (6h-9h)(durée)'] +\n",
    "                         df_sp3_melenchon['Tranche (9h-18h)(durée)'] + df_sp3_melenchon['Tranche (18h-24h)(durée)'])\n",
    "\n",
    "df_sp1_melenchon['Période'] = pd.to_datetime(df_sp1_melenchon['Période'], dayfirst=True)\n",
    "df_sp2_melenchon['Période'] = pd.to_datetime(df_sp2_melenchon['Période'], dayfirst=True)\n",
    "df_sp3_melenchon['Période'] = pd.to_datetime(df_sp3_melenchon['Période'], dayfirst=True)\n",
    "df_pt1_melenchon['Période'] = pd.to_datetime(df_pt1_melenchon['Période'], dayfirst=True)\n",
    "df_pt2_melenchon['Période'] = pd.to_datetime(df_pt2_melenchon['Période'], dayfirst=True)\n",
    "\n",
    "l = ['Chaîne', 'Période', 'Somme']\n",
    "\n",
    "df_melenchon = pd.concat([df_sp1_melenchon[l], df_sp2_melenchon[l], df_sp3_melenchon[l], df_pt1_melenchon[l], df_pt2_melenchon[l]])"
   ],
   "metadata": {
    "collapsed": false,
    "pycharm": {
     "name": "#%%\n"
    }
   }
  },
  {
   "cell_type": "code",
   "execution_count": 20,
   "outputs": [],
   "source": [
    "df_pt1_pecresse = pd.read_csv(\"pecresse/premier_tour_1_pecresse.csv\", sep=\";\").fillna(0)\n",
    "df_pt2_pecresse = pd.read_csv(\"pecresse/premier_tour_2_pecresse.csv\", sep=\";\").fillna(0)\n",
    "df_sp1_pecresse = pd.read_csv(\"pecresse/seconde_periode_1_pecresse.csv\", sep=\";\").fillna(0)\n",
    "df_sp2_pecresse = pd.read_csv(\"pecresse/seconde_periode_2_pecresse.csv\", sep=\";\").fillna(0)\n",
    "df_sp3_pecresse = pd.read_csv(\"pecresse/seconde_periode_3_pecresse.csv\", sep=\";\").fillna(0)\n",
    "\n",
    "type = \"Total temps de parole\"\n",
    "df_pt1_pecresse = df_pt1_pecresse[df_pt1_pecresse['Candidat'] == type]\n",
    "df_pt2_pecresse = df_pt2_pecresse[df_pt2_pecresse['Candidat'] == type]\n",
    "df_sp1_pecresse = df_sp1_pecresse[df_sp1_pecresse['Candidat'] == type]\n",
    "df_sp2_pecresse = df_sp2_pecresse[df_sp2_pecresse['Candidat'] == type]\n",
    "df_sp3_pecresse = df_sp3_pecresse[df_sp3_pecresse['Candidat'] == type]\n",
    "\n",
    "df_pt1_pecresse.drop(['Détail des temps'], axis=1, inplace=True)\n",
    "df_pt2_pecresse.drop(['Détail des temps'], axis=1, inplace=True)\n",
    "df_sp1_pecresse.drop(['Détail des temps'], axis=1, inplace=True)\n",
    "df_sp2_pecresse.drop(['Détail des temps'], axis=1, inplace=True)\n",
    "df_sp3_pecresse.drop(['Détail des temps'], axis=1, inplace=True)\n",
    "\n",
    "for col in df_pt1_pecresse.columns[2:]:\n",
    "    df_pt1_pecresse[col] = pd.to_timedelta(df_pt1_pecresse[col]) / (60 * pd.Timedelta('1s'))\n",
    "    df_pt2_pecresse[col] = pd.to_timedelta(df_pt2_pecresse[col]) / (60 * pd.Timedelta('1s'))\n",
    "    df_sp1_pecresse[col] = pd.to_timedelta(df_sp1_pecresse[col]) / (60 * pd.Timedelta('1s'))\n",
    "    df_sp2_pecresse[col] = pd.to_timedelta(df_sp2_pecresse[col]) / (60 * pd.Timedelta('1s'))\n",
    "    df_sp3_pecresse[col] = pd.to_timedelta(df_sp3_pecresse[col]) / (60 * pd.Timedelta('1s'))\n",
    "\n",
    "df_sp1_pecresse[\"Période\"] = \"13/03/2022\"\n",
    "df_sp2_pecresse[\"Période\"] = \"20/03/2022\"\n",
    "df_sp3_pecresse[\"Période\"] = \"27/03/2022\"\n",
    "df_pt1_pecresse[\"Période\"] = \"03/04/2022\"\n",
    "df_pt2_pecresse[\"Période\"] = \"08/04/2022\"\n",
    "\n",
    "df_pt1_pecresse[\"Somme\"] = (\n",
    "            df_pt1_pecresse['Tranche (6h-9h)(durée)'] + df_pt1_pecresse['Tranche (6h-9h)(durée)'] + df_pt1_pecresse[\n",
    "        'Tranche (9h-18h)(durée)'] + df_pt1_pecresse['Tranche (18h-24h)(durée)'])\n",
    "\n",
    "df_pt2_pecresse[\"Somme\"] = (df_pt2_pecresse['Tranche (6h-9h)(durée)'] + df_pt2_pecresse['Tranche (6h-9h)(durée)'] +\n",
    "                         df_pt2_pecresse['Tranche (9h-18h)(durée)'] + df_pt2_pecresse['Tranche (18h-24h)(durée)'])\n",
    "\n",
    "df_sp1_pecresse[\"Somme\"] = (df_sp1_pecresse['Tranche (6h-9h)(durée)'] + df_sp1_pecresse['Tranche (6h-9h)(durée)'] +\n",
    "                         df_sp1_pecresse['Tranche (9h-18h)(durée)'] + df_sp1_pecresse['Tranche (18h-24h)(durée)'])\n",
    "\n",
    "df_sp2_pecresse[\"Somme\"] = (df_sp2_pecresse['Tranche (6h-9h)(durée)'] + df_sp2_pecresse['Tranche (6h-9h)(durée)'] +\n",
    "                         df_sp2_pecresse['Tranche (9h-18h)(durée)'] + df_sp2_pecresse['Tranche (18h-24h)(durée)'])\n",
    "\n",
    "df_sp3_pecresse[\"Somme\"] = (df_sp3_pecresse['Tranche (6h-9h)(durée)'] + df_sp3_pecresse['Tranche (6h-9h)(durée)'] +\n",
    "                         df_sp3_pecresse['Tranche (9h-18h)(durée)'] + df_sp3_pecresse['Tranche (18h-24h)(durée)'])\n",
    "\n",
    "df_sp1_pecresse['Période'] = pd.to_datetime(df_sp1_pecresse['Période'], dayfirst=True)\n",
    "df_sp2_pecresse['Période'] = pd.to_datetime(df_sp2_pecresse['Période'], dayfirst=True)\n",
    "df_sp3_pecresse['Période'] = pd.to_datetime(df_sp3_pecresse['Période'], dayfirst=True)\n",
    "df_pt1_pecresse['Période'] = pd.to_datetime(df_pt1_pecresse['Période'], dayfirst=True)\n",
    "df_pt2_pecresse['Période'] = pd.to_datetime(df_pt2_pecresse['Période'], dayfirst=True)\n",
    "\n",
    "l = ['Chaîne', 'Période', 'Somme']\n",
    "\n",
    "df_pecresse = pd.concat([df_sp1_pecresse[l], df_sp2_pecresse[l], df_sp3_pecresse[l], df_pt1_pecresse[l], df_pt2_pecresse[l]])"
   ],
   "metadata": {
    "collapsed": false,
    "pycharm": {
     "name": "#%%\n"
    }
   }
  },
  {
   "cell_type": "code",
   "execution_count": null,
   "outputs": [],
   "source": [
    "df_pt1_poutou = pd.read_csv(\"poutou/premier_tour_1_poutou.csv\", sep=\";\").fillna(0)\n",
    "df_pt2_poutou = pd.read_csv(\"poutou/premier_tour_2_poutou.csv\", sep=\";\").fillna(0)\n",
    "df_sp1_poutou = pd.read_csv(\"poutou/seconde_periode_1_poutou.csv\", sep=\";\").fillna(0)\n",
    "df_sp2_poutou = pd.read_csv(\"poutou/seconde_periode_2_poutou.csv\", sep=\";\").fillna(0)\n",
    "df_sp3_poutou = pd.read_csv(\"poutou/seconde_periode_3_poutou.csv\", sep=\";\").fillna(0)\n",
    "\n",
    "type = \"Total temps de parole\"\n",
    "df_pt1_poutou = df_pt1_poutou[df_pt1_poutou['Candidat'] == type]\n",
    "df_pt2_poutou = df_pt2_poutou[df_pt2_poutou['Candidat'] == type]\n",
    "df_sp1_poutou = df_sp1_poutou[df_sp1_poutou['Candidat'] == type]\n",
    "df_sp2_poutou = df_sp2_poutou[df_sp2_poutou['Candidat'] == type]\n",
    "df_sp3_poutou = df_sp3_poutou[df_sp3_poutou['Candidat'] == type]\n",
    "\n",
    "df_pt1_poutou.drop(['Détail des temps'], axis=1, inplace=True)\n",
    "df_pt2_poutou.drop(['Détail des temps'], axis=1, inplace=True)\n",
    "df_sp1_poutou.drop(['Détail des temps'], axis=1, inplace=True)\n",
    "df_sp2_poutou.drop(['Détail des temps'], axis=1, inplace=True)\n",
    "df_sp3_poutou.drop(['Détail des temps'], axis=1, inplace=True)\n",
    "\n",
    "for col in df_pt1_poutou.columns[2:]:\n",
    "    df_pt1_poutou[col] = pd.to_timedelta(df_pt1_poutou[col]) / (60 * pd.Timedelta('1s'))\n",
    "    df_pt2_poutou[col] = pd.to_timedelta(df_pt2_poutou[col]) / (60 * pd.Timedelta('1s'))\n",
    "    df_sp1_poutou[col] = pd.to_timedelta(df_sp1_poutou[col]) / (60 * pd.Timedelta('1s'))\n",
    "    df_sp2_poutou[col] = pd.to_timedelta(df_sp2_poutou[col]) / (60 * pd.Timedelta('1s'))\n",
    "    df_sp3_poutou[col] = pd.to_timedelta(df_sp3_poutou[col]) / (60 * pd.Timedelta('1s'))\n",
    "\n",
    "df_sp1_poutou[\"Période\"] = \"13/03/2022\"\n",
    "df_sp2_poutou[\"Période\"] = \"20/03/2022\"\n",
    "df_sp3_poutou[\"Période\"] = \"27/03/2022\"\n",
    "df_pt1_poutou[\"Période\"] = \"03/04/2022\"\n",
    "df_pt2_poutou[\"Période\"] = \"08/04/2022\"\n",
    "\n",
    "df_pt1_poutou[\"Somme\"] = (\n",
    "            df_pt1_poutou['Tranche (6h-9h)(durée)'] + df_pt1_poutou['Tranche (6h-9h)(durée)'] + df_pt1_poutou[\n",
    "        'Tranche (9h-18h)(durée)'] + df_pt1_poutou['Tranche (18h-24h)(durée)'])\n",
    "\n",
    "df_pt2_poutou[\"Somme\"] = (df_pt2_poutou['Tranche (6h-9h)(durée)'] + df_pt2_poutou['Tranche (6h-9h)(durée)'] +\n",
    "                         df_pt2_poutou['Tranche (9h-18h)(durée)'] + df_pt2_poutou['Tranche (18h-24h)(durée)'])\n",
    "\n",
    "df_sp1_poutou[\"Somme\"] = (df_sp1_poutou['Tranche (6h-9h)(durée)'] + df_sp1_poutou['Tranche (6h-9h)(durée)'] +\n",
    "                         df_sp1_poutou['Tranche (9h-18h)(durée)'] + df_sp1_poutou['Tranche (18h-24h)(durée)'])\n",
    "\n",
    "df_sp2_poutou[\"Somme\"] = (df_sp2_poutou['Tranche (6h-9h)(durée)'] + df_sp2_poutou['Tranche (6h-9h)(durée)'] +\n",
    "                         df_sp2_poutou['Tranche (9h-18h)(durée)'] + df_sp2_poutou['Tranche (18h-24h)(durée)'])\n",
    "\n",
    "df_sp3_poutou[\"Somme\"] = (df_sp3_poutou['Tranche (6h-9h)(durée)'] + df_sp3_poutou['Tranche (6h-9h)(durée)'] +\n",
    "                         df_sp3_poutou['Tranche (9h-18h)(durée)'] + df_sp3_poutou['Tranche (18h-24h)(durée)'])\n",
    "\n",
    "df_sp1_poutou['Période'] = pd.to_datetime(df_sp1_poutou['Période'], dayfirst=True)\n",
    "df_sp2_poutou['Période'] = pd.to_datetime(df_sp2_poutou['Période'], dayfirst=True)\n",
    "df_sp3_poutou['Période'] = pd.to_datetime(df_sp3_poutou['Période'], dayfirst=True)\n",
    "df_pt1_poutou['Période'] = pd.to_datetime(df_pt1_poutou['Période'], dayfirst=True)\n",
    "df_pt2_poutou['Période'] = pd.to_datetime(df_pt2_poutou['Période'], dayfirst=True)\n",
    "\n",
    "l = ['Chaîne', 'Période', 'Somme']\n",
    "\n",
    "df_poutou = pd.concat([df_sp1_poutou[l], df_sp2_poutou[l], df_sp3_poutou[l], df_pt1_poutou[l], df_pt2_poutou[l]])"
   ],
   "metadata": {
    "collapsed": false,
    "pycharm": {
     "name": "#%%\n"
    }
   }
  },
  {
   "cell_type": "code",
   "execution_count": 21,
   "outputs": [],
   "source": [
    "df_pt1_roussel = pd.read_csv(\"roussel/premier_tour_1_roussel.csv\", sep=\";\").fillna(0)\n",
    "df_pt2_roussel = pd.read_csv(\"roussel/premier_tour_2_roussel.csv\", sep=\";\").fillna(0)\n",
    "df_sp1_roussel = pd.read_csv(\"roussel/seconde_periode_1_roussel.csv\", sep=\";\").fillna(0)\n",
    "df_sp2_roussel = pd.read_csv(\"roussel/seconde_periode_2_roussel.csv\", sep=\";\").fillna(0)\n",
    "df_sp3_roussel = pd.read_csv(\"roussel/seconde_periode_3_roussel.csv\", sep=\";\").fillna(0)\n",
    "\n",
    "type = \"Total temps de parole\"\n",
    "df_pt1_roussel = df_pt1_roussel[df_pt1_roussel['Candidat'] == type]\n",
    "df_pt2_roussel = df_pt2_roussel[df_pt2_roussel['Candidat'] == type]\n",
    "df_sp1_roussel = df_sp1_roussel[df_sp1_roussel['Candidat'] == type]\n",
    "df_sp2_roussel = df_sp2_roussel[df_sp2_roussel['Candidat'] == type]\n",
    "df_sp3_roussel = df_sp3_roussel[df_sp3_roussel['Candidat'] == type]\n",
    "\n",
    "df_pt1_roussel.drop(['Détail des temps'], axis=1, inplace=True)\n",
    "df_pt2_roussel.drop(['Détail des temps'], axis=1, inplace=True)\n",
    "df_sp1_roussel.drop(['Détail des temps'], axis=1, inplace=True)\n",
    "df_sp2_roussel.drop(['Détail des temps'], axis=1, inplace=True)\n",
    "df_sp3_roussel.drop(['Détail des temps'], axis=1, inplace=True)\n",
    "\n",
    "for col in df_pt1_roussel.columns[2:]:\n",
    "    df_pt1_roussel[col] = pd.to_timedelta(df_pt1_roussel[col]) / (60 * pd.Timedelta('1s'))\n",
    "    df_pt2_roussel[col] = pd.to_timedelta(df_pt2_roussel[col]) / (60 * pd.Timedelta('1s'))\n",
    "    df_sp1_roussel[col] = pd.to_timedelta(df_sp1_roussel[col]) / (60 * pd.Timedelta('1s'))\n",
    "    df_sp2_roussel[col] = pd.to_timedelta(df_sp2_roussel[col]) / (60 * pd.Timedelta('1s'))\n",
    "    df_sp3_roussel[col] = pd.to_timedelta(df_sp3_roussel[col]) / (60 * pd.Timedelta('1s'))\n",
    "\n",
    "df_sp1_roussel[\"Période\"] = \"13/03/2022\"\n",
    "df_sp2_roussel[\"Période\"] = \"20/03/2022\"\n",
    "df_sp3_roussel[\"Période\"] = \"27/03/2022\"\n",
    "df_pt1_roussel[\"Période\"] = \"03/04/2022\"\n",
    "df_pt2_roussel[\"Période\"] = \"08/04/2022\"\n",
    "\n",
    "df_pt1_roussel[\"Somme\"] = (\n",
    "            df_pt1_roussel['Tranche (6h-9h)(durée)'] + df_pt1_roussel['Tranche (6h-9h)(durée)'] + df_pt1_roussel[\n",
    "        'Tranche (9h-18h)(durée)'] + df_pt1_roussel['Tranche (18h-24h)(durée)'])\n",
    "\n",
    "df_pt2_roussel[\"Somme\"] = (df_pt2_roussel['Tranche (6h-9h)(durée)'] + df_pt2_roussel['Tranche (6h-9h)(durée)'] +\n",
    "                         df_pt2_roussel['Tranche (9h-18h)(durée)'] + df_pt2_roussel['Tranche (18h-24h)(durée)'])\n",
    "\n",
    "df_sp1_roussel[\"Somme\"] = (df_sp1_roussel['Tranche (6h-9h)(durée)'] + df_sp1_roussel['Tranche (6h-9h)(durée)'] +\n",
    "                         df_sp1_roussel['Tranche (9h-18h)(durée)'] + df_sp1_roussel['Tranche (18h-24h)(durée)'])\n",
    "\n",
    "df_sp2_roussel[\"Somme\"] = (df_sp2_roussel['Tranche (6h-9h)(durée)'] + df_sp2_roussel['Tranche (6h-9h)(durée)'] +\n",
    "                         df_sp2_roussel['Tranche (9h-18h)(durée)'] + df_sp2_roussel['Tranche (18h-24h)(durée)'])\n",
    "\n",
    "df_sp3_roussel[\"Somme\"] = (df_sp3_roussel['Tranche (6h-9h)(durée)'] + df_sp3_roussel['Tranche (6h-9h)(durée)'] +\n",
    "                         df_sp3_roussel['Tranche (9h-18h)(durée)'] + df_sp3_roussel['Tranche (18h-24h)(durée)'])\n",
    "\n",
    "df_sp1_roussel['Période'] = pd.to_datetime(df_sp1_roussel['Période'], dayfirst=True)\n",
    "df_sp2_roussel['Période'] = pd.to_datetime(df_sp2_roussel['Période'], dayfirst=True)\n",
    "df_sp3_roussel['Période'] = pd.to_datetime(df_sp3_roussel['Période'], dayfirst=True)\n",
    "df_pt1_roussel['Période'] = pd.to_datetime(df_pt1_roussel['Période'], dayfirst=True)\n",
    "df_pt2_roussel['Période'] = pd.to_datetime(df_pt2_roussel['Période'], dayfirst=True)\n",
    "\n",
    "l = ['Chaîne', 'Période', 'Somme']\n",
    "\n",
    "df_roussel = pd.concat([df_sp1_roussel[l], df_sp2_roussel[l], df_sp3_roussel[l], df_pt1_roussel[l], df_pt2_roussel[l]])"
   ],
   "metadata": {
    "collapsed": false,
    "pycharm": {
     "name": "#%%\n"
    }
   }
  },
  {
   "cell_type": "code",
   "execution_count": 8,
   "outputs": [],
   "source": [
    "df_pt1_zemmour = pd.read_csv(\"zemmour/premier_tour_1_zemmour.csv\", sep=\";\").fillna(0)\n",
    "df_pt2_zemmour = pd.read_csv(\"zemmour/premier_tour_2_zemmour.csv\", sep=\";\").fillna(0)\n",
    "df_sp1_zemmour = pd.read_csv(\"zemmour/seconde_periode_1_zemmour.csv\", sep=\";\").fillna(0)\n",
    "df_sp2_zemmour = pd.read_csv(\"zemmour/seconde_periode_2_zemmour.csv\", sep=\";\").fillna(0)\n",
    "df_sp3_zemmour = pd.read_csv(\"zemmour/seconde_periode_3_zemmour.csv\", sep=\";\").fillna(0)\n",
    "\n",
    "type = \"Total temps de parole\"\n",
    "df_pt1_zemmour = df_pt1_zemmour[df_pt1_zemmour['Candidat'] == type]\n",
    "df_pt2_zemmour = df_pt2_zemmour[df_pt2_zemmour['Candidat'] == type]\n",
    "df_sp1_zemmour = df_sp1_zemmour[df_sp1_zemmour['Candidat'] == type]\n",
    "df_sp2_zemmour = df_sp2_zemmour[df_sp2_zemmour['Candidat'] == type]\n",
    "df_sp3_zemmour = df_sp3_zemmour[df_sp3_zemmour['Candidat'] == type]\n",
    "\n",
    "df_pt1_zemmour.drop(['Détail des temps'], axis=1, inplace=True)\n",
    "df_pt2_zemmour.drop(['Détail des temps'], axis=1, inplace=True)\n",
    "df_sp1_zemmour.drop(['Détail des temps'], axis=1, inplace=True)\n",
    "df_sp2_zemmour.drop(['Détail des temps'], axis=1, inplace=True)\n",
    "df_sp3_zemmour.drop(['Détail des temps'], axis=1, inplace=True)\n",
    "\n",
    "for col in df_pt1_zemmour.columns[2:]:\n",
    "    df_pt1_zemmour[col] = pd.to_timedelta(df_pt1_zemmour[col]) / (60 * pd.Timedelta('1s'))\n",
    "    df_pt2_zemmour[col] = pd.to_timedelta(df_pt2_zemmour[col]) / (60 * pd.Timedelta('1s'))\n",
    "    df_sp1_zemmour[col] = pd.to_timedelta(df_sp1_zemmour[col]) / (60 * pd.Timedelta('1s'))\n",
    "    df_sp2_zemmour[col] = pd.to_timedelta(df_sp2_zemmour[col]) / (60 * pd.Timedelta('1s'))\n",
    "    df_sp3_zemmour[col] = pd.to_timedelta(df_sp3_zemmour[col]) / (60 * pd.Timedelta('1s'))\n",
    "\n",
    "df_sp1_zemmour[\"Période\"] = \"13/03/2022\"\n",
    "df_sp2_zemmour[\"Période\"] = \"20/03/2022\"\n",
    "df_sp3_zemmour[\"Période\"] = \"27/03/2022\"\n",
    "df_pt1_zemmour[\"Période\"] = \"03/04/2022\"\n",
    "df_pt2_zemmour[\"Période\"] = \"08/04/2022\"\n",
    "\n",
    "df_pt1_zemmour[\"Somme\"] = (\n",
    "            df_pt1_zemmour['Tranche (6h-9h)(durée)'] + df_pt1_zemmour['Tranche (6h-9h)(durée)'] + df_pt1_zemmour[\n",
    "        'Tranche (9h-18h)(durée)'] + df_pt1_zemmour['Tranche (18h-24h)(durée)'])\n",
    "\n",
    "df_pt2_zemmour[\"Somme\"] = (df_pt2_zemmour['Tranche (6h-9h)(durée)'] + df_pt2_zemmour['Tranche (6h-9h)(durée)'] +\n",
    "                         df_pt2_zemmour['Tranche (9h-18h)(durée)'] + df_pt2_zemmour['Tranche (18h-24h)(durée)'])\n",
    "\n",
    "df_sp1_zemmour[\"Somme\"] = (df_sp1_zemmour['Tranche (6h-9h)(durée)'] + df_sp1_zemmour['Tranche (6h-9h)(durée)'] +\n",
    "                         df_sp1_zemmour['Tranche (9h-18h)(durée)'] + df_sp1_zemmour['Tranche (18h-24h)(durée)'])\n",
    "\n",
    "df_sp2_zemmour[\"Somme\"] = (df_sp2_zemmour['Tranche (6h-9h)(durée)'] + df_sp2_zemmour['Tranche (6h-9h)(durée)'] +\n",
    "                         df_sp2_zemmour['Tranche (9h-18h)(durée)'] + df_sp2_zemmour['Tranche (18h-24h)(durée)'])\n",
    "\n",
    "df_sp3_zemmour[\"Somme\"] = (df_sp3_zemmour['Tranche (6h-9h)(durée)'] + df_sp3_zemmour['Tranche (6h-9h)(durée)'] +\n",
    "                         df_sp3_zemmour['Tranche (9h-18h)(durée)'] + df_sp3_zemmour['Tranche (18h-24h)(durée)'])\n",
    "\n",
    "df_sp1_zemmour['Période'] = pd.to_datetime(df_sp1_zemmour['Période'], dayfirst=True)\n",
    "df_sp2_zemmour['Période'] = pd.to_datetime(df_sp2_zemmour['Période'], dayfirst=True)\n",
    "df_sp3_zemmour['Période'] = pd.to_datetime(df_sp3_zemmour['Période'], dayfirst=True)\n",
    "df_pt1_zemmour['Période'] = pd.to_datetime(df_pt1_zemmour['Période'], dayfirst=True)\n",
    "df_pt2_zemmour['Période'] = pd.to_datetime(df_pt2_zemmour['Période'], dayfirst=True)\n",
    "\n",
    "l = ['Chaîne', 'Période', 'Somme']\n",
    "\n",
    "df_zemmour = pd.concat([df_sp1_zemmour[l], df_sp2_zemmour[l], df_sp3_zemmour[l], df_pt1_zemmour[l], df_pt2_zemmour[l]])"
   ],
   "metadata": {
    "collapsed": false,
    "pycharm": {
     "name": "#%%\n"
    }
   }
  },
  {
   "cell_type": "code",
   "execution_count": 22,
   "outputs": [
    {
     "data": {
      "application/vnd.plotly.v1+json": {
       "data": [
        {
         "hovertemplate": "Chaîne=France2<br>Temps en jours=%{x}<br>Temps de parole en minutes=%{y}<extra></extra>",
         "legendgroup": "France2",
         "line": {
          "color": "#636efa",
          "dash": "solid"
         },
         "marker": {
          "symbol": "circle"
         },
         "mode": "lines",
         "name": "France2",
         "orientation": "v",
         "showlegend": true,
         "x": [
          "2022-03-13T00:00:00",
          "2022-03-20T00:00:00",
          "2022-03-27T00:00:00",
          "2022-04-03T00:00:00",
          "2022-04-08T00:00:00"
         ],
         "xaxis": "x",
         "y": [
          0.0,
          2.2666666666666666,
          15.466666666666665,
          31.616666666666664,
          32.733333333333334
         ],
         "yaxis": "y",
         "type": "scatter"
        },
        {
         "hovertemplate": "Chaîne=France3<br>Temps en jours=%{x}<br>Temps de parole en minutes=%{y}<extra></extra>",
         "legendgroup": "France3",
         "line": {
          "color": "#EF553B",
          "dash": "solid"
         },
         "marker": {
          "symbol": "circle"
         },
         "mode": "lines",
         "name": "France3",
         "orientation": "v",
         "showlegend": true,
         "x": [
          "2022-03-13T00:00:00",
          "2022-03-20T00:00:00",
          "2022-03-27T00:00:00",
          "2022-04-03T00:00:00",
          "2022-04-08T00:00:00"
         ],
         "xaxis": "x",
         "y": [
          0.0,
          7.733333333333333,
          8.083333333333334,
          1.4,
          2.3833333333333333
         ],
         "yaxis": "y",
         "type": "scatter"
        },
        {
         "hovertemplate": "Chaîne=M6<br>Temps en jours=%{x}<br>Temps de parole en minutes=%{y}<extra></extra>",
         "legendgroup": "M6",
         "line": {
          "color": "#00cc96",
          "dash": "solid"
         },
         "marker": {
          "symbol": "circle"
         },
         "mode": "lines",
         "name": "M6",
         "orientation": "v",
         "showlegend": true,
         "x": [
          "2022-03-13T00:00:00",
          "2022-03-20T00:00:00",
          "2022-03-27T00:00:00",
          "2022-04-03T00:00:00",
          "2022-04-08T00:00:00"
         ],
         "xaxis": "x",
         "y": [
          1.15,
          1.15,
          1.65,
          1.4666666666666668,
          2.4833333333333334
         ],
         "yaxis": "y",
         "type": "scatter"
        },
        {
         "hovertemplate": "Chaîne=Cnews<br>Temps en jours=%{x}<br>Temps de parole en minutes=%{y}<extra></extra>",
         "legendgroup": "Cnews",
         "line": {
          "color": "#ab63fa",
          "dash": "solid"
         },
         "marker": {
          "symbol": "circle"
         },
         "mode": "lines",
         "name": "Cnews",
         "orientation": "v",
         "showlegend": true,
         "x": [
          "2022-03-13T00:00:00",
          "2022-03-20T00:00:00",
          "2022-03-27T00:00:00",
          "2022-04-03T00:00:00",
          "2022-04-08T00:00:00"
         ],
         "xaxis": "x",
         "y": [
          6.266666666666667,
          10.383333333333333,
          55.75,
          61.38333333333333,
          83.96666666666665
         ],
         "yaxis": "y",
         "type": "scatter"
        },
        {
         "hovertemplate": "Chaîne=FranceinfoTV<br>Temps en jours=%{x}<br>Temps de parole en minutes=%{y}<extra></extra>",
         "legendgroup": "FranceinfoTV",
         "line": {
          "color": "#FFA15A",
          "dash": "solid"
         },
         "marker": {
          "symbol": "circle"
         },
         "mode": "lines",
         "name": "FranceinfoTV",
         "orientation": "v",
         "showlegend": true,
         "x": [
          "2022-03-13T00:00:00",
          "2022-03-20T00:00:00",
          "2022-03-27T00:00:00",
          "2022-04-03T00:00:00",
          "2022-04-08T00:00:00"
         ],
         "xaxis": "x",
         "y": [
          2.5666666666666664,
          20.933333333333334,
          48.1,
          116.31666666666665,
          181.38333333333333
         ],
         "yaxis": "y",
         "type": "scatter"
        },
        {
         "hovertemplate": "Chaîne=FranceInter<br>Temps en jours=%{x}<br>Temps de parole en minutes=%{y}<extra></extra>",
         "legendgroup": "FranceInter",
         "line": {
          "color": "#19d3f3",
          "dash": "solid"
         },
         "marker": {
          "symbol": "circle"
         },
         "mode": "lines",
         "name": "FranceInter",
         "orientation": "v",
         "showlegend": true,
         "x": [
          "2022-03-13T00:00:00",
          "2022-03-20T00:00:00",
          "2022-03-27T00:00:00",
          "2022-04-03T00:00:00",
          "2022-04-08T00:00:00"
         ],
         "xaxis": "x",
         "y": [
          0.5333333333333333,
          3.6,
          13.333333333333334,
          4.183333333333334,
          13.416666666666668
         ],
         "yaxis": "y",
         "type": "scatter"
        },
        {
         "hovertemplate": "Chaîne=FranceInfo<br>Temps en jours=%{x}<br>Temps de parole en minutes=%{y}<extra></extra>",
         "legendgroup": "FranceInfo",
         "line": {
          "color": "#FF6692",
          "dash": "solid"
         },
         "marker": {
          "symbol": "circle"
         },
         "mode": "lines",
         "name": "FranceInfo",
         "orientation": "v",
         "showlegend": true,
         "x": [
          "2022-03-13T00:00:00",
          "2022-03-20T00:00:00",
          "2022-03-27T00:00:00",
          "2022-04-03T00:00:00",
          "2022-04-08T00:00:00"
         ],
         "xaxis": "x",
         "y": [
          16.35,
          24.333333333333336,
          38.166666666666664,
          45.63333333333333,
          81.83333333333334
         ],
         "yaxis": "y",
         "type": "scatter"
        },
        {
         "hovertemplate": "Chaîne=FranceCulture<br>Temps en jours=%{x}<br>Temps de parole en minutes=%{y}<extra></extra>",
         "legendgroup": "FranceCulture",
         "line": {
          "color": "#B6E880",
          "dash": "solid"
         },
         "marker": {
          "symbol": "circle"
         },
         "mode": "lines",
         "name": "FranceCulture",
         "orientation": "v",
         "showlegend": true,
         "x": [
          "2022-03-13T00:00:00",
          "2022-03-20T00:00:00",
          "2022-03-27T00:00:00",
          "2022-04-03T00:00:00",
          "2022-04-08T00:00:00"
         ],
         "xaxis": "x",
         "y": [
          0.0,
          0.21666666666666667,
          0.35,
          10.816666666666666,
          11.733333333333334
         ],
         "yaxis": "y",
         "type": "scatter"
        },
        {
         "hovertemplate": "Chaîne=Europe1<br>Temps en jours=%{x}<br>Temps de parole en minutes=%{y}<extra></extra>",
         "legendgroup": "Europe1",
         "line": {
          "color": "#FF97FF",
          "dash": "solid"
         },
         "marker": {
          "symbol": "circle"
         },
         "mode": "lines",
         "name": "Europe1",
         "orientation": "v",
         "showlegend": true,
         "x": [
          "2022-03-13T00:00:00",
          "2022-03-20T00:00:00",
          "2022-03-27T00:00:00",
          "2022-04-03T00:00:00",
          "2022-04-08T00:00:00"
         ],
         "xaxis": "x",
         "y": [
          1.2,
          1.7999999999999998,
          12.799999999999999,
          14.5,
          45.25
         ],
         "yaxis": "y",
         "type": "scatter"
        },
        {
         "hovertemplate": "Chaîne=RMC<br>Temps en jours=%{x}<br>Temps de parole en minutes=%{y}<extra></extra>",
         "legendgroup": "RMC",
         "line": {
          "color": "#FECB52",
          "dash": "solid"
         },
         "marker": {
          "symbol": "circle"
         },
         "mode": "lines",
         "name": "RMC",
         "orientation": "v",
         "showlegend": true,
         "x": [
          "2022-03-13T00:00:00",
          "2022-03-20T00:00:00",
          "2022-03-27T00:00:00",
          "2022-04-03T00:00:00",
          "2022-04-08T00:00:00"
         ],
         "xaxis": "x",
         "y": [
          0.0,
          2.75,
          9.200000000000001,
          3.0,
          17.7
         ],
         "yaxis": "y",
         "type": "scatter"
        },
        {
         "hovertemplate": "Chaîne=SudRadio<br>Temps en jours=%{x}<br>Temps de parole en minutes=%{y}<extra></extra>",
         "legendgroup": "SudRadio",
         "line": {
          "color": "#636efa",
          "dash": "solid"
         },
         "marker": {
          "symbol": "circle"
         },
         "mode": "lines",
         "name": "SudRadio",
         "orientation": "v",
         "showlegend": true,
         "x": [
          "2022-03-13T00:00:00",
          "2022-03-20T00:00:00",
          "2022-03-27T00:00:00",
          "2022-04-03T00:00:00",
          "2022-04-08T00:00:00"
         ],
         "xaxis": "x",
         "y": [
          0.4,
          0.4,
          0.9333333333333333,
          0.7666666666666666,
          1.6666666666666667
         ],
         "yaxis": "y",
         "type": "scatter"
        },
        {
         "hovertemplate": "Chaîne=Euronews<br>Temps en jours=%{x}<br>Temps de parole en minutes=%{y}<extra></extra>",
         "legendgroup": "Euronews",
         "line": {
          "color": "#EF553B",
          "dash": "solid"
         },
         "marker": {
          "symbol": "circle"
         },
         "mode": "lines",
         "name": "Euronews",
         "orientation": "v",
         "showlegend": true,
         "x": [
          "2022-03-13T00:00:00",
          "2022-03-20T00:00:00",
          "2022-03-27T00:00:00"
         ],
         "xaxis": "x",
         "y": [
          0.0,
          0.0,
          0.0
         ],
         "yaxis": "y",
         "type": "scatter"
        },
        {
         "hovertemplate": "Chaîne=TF1<br>Temps en jours=%{x}<br>Temps de parole en minutes=%{y}<extra></extra>",
         "legendgroup": "TF1",
         "line": {
          "color": "#00cc96",
          "dash": "solid"
         },
         "marker": {
          "symbol": "circle"
         },
         "mode": "lines",
         "name": "TF1",
         "orientation": "v",
         "showlegend": true,
         "x": [
          "2022-03-20T00:00:00",
          "2022-03-27T00:00:00",
          "2022-04-03T00:00:00",
          "2022-04-08T00:00:00"
         ],
         "xaxis": "x",
         "y": [
          1.1166666666666667,
          1.6166666666666667,
          0.7333333333333333,
          10.65
         ],
         "yaxis": "y",
         "type": "scatter"
        },
        {
         "hovertemplate": "Chaîne=France5<br>Temps en jours=%{x}<br>Temps de parole en minutes=%{y}<extra></extra>",
         "legendgroup": "France5",
         "line": {
          "color": "#ab63fa",
          "dash": "solid"
         },
         "marker": {
          "symbol": "circle"
         },
         "mode": "lines",
         "name": "France5",
         "orientation": "v",
         "showlegend": true,
         "x": [
          "2022-03-20T00:00:00",
          "2022-03-27T00:00:00",
          "2022-04-03T00:00:00",
          "2022-04-08T00:00:00"
         ],
         "xaxis": "x",
         "y": [
          1.4666666666666666,
          14.266666666666667,
          5.75,
          11.766666666666666
         ],
         "yaxis": "y",
         "type": "scatter"
        },
        {
         "hovertemplate": "Chaîne=C8<br>Temps en jours=%{x}<br>Temps de parole en minutes=%{y}<extra></extra>",
         "legendgroup": "C8",
         "line": {
          "color": "#FFA15A",
          "dash": "solid"
         },
         "marker": {
          "symbol": "circle"
         },
         "mode": "lines",
         "name": "C8",
         "orientation": "v",
         "showlegend": true,
         "x": [
          "2022-03-20T00:00:00",
          "2022-03-27T00:00:00",
          "2022-04-03T00:00:00",
          "2022-04-08T00:00:00"
         ],
         "xaxis": "x",
         "y": [
          0.7333333333333333,
          11.366666666666667,
          1.3333333333333333,
          11.333333333333332
         ],
         "yaxis": "y",
         "type": "scatter"
        },
        {
         "hovertemplate": "Chaîne=TMC<br>Temps en jours=%{x}<br>Temps de parole en minutes=%{y}<extra></extra>",
         "legendgroup": "TMC",
         "line": {
          "color": "#19d3f3",
          "dash": "solid"
         },
         "marker": {
          "symbol": "circle"
         },
         "mode": "lines",
         "name": "TMC",
         "orientation": "v",
         "showlegend": true,
         "x": [
          "2022-03-20T00:00:00",
          "2022-03-27T00:00:00",
          "2022-04-03T00:00:00",
          "2022-04-08T00:00:00"
         ],
         "xaxis": "x",
         "y": [
          0.0,
          1.5166666666666666,
          9.366666666666667,
          18.016666666666666
         ],
         "yaxis": "y",
         "type": "scatter"
        },
        {
         "hovertemplate": "Chaîne=BFMTV<br>Temps en jours=%{x}<br>Temps de parole en minutes=%{y}<extra></extra>",
         "legendgroup": "BFMTV",
         "line": {
          "color": "#FF6692",
          "dash": "solid"
         },
         "marker": {
          "symbol": "circle"
         },
         "mode": "lines",
         "name": "BFMTV",
         "orientation": "v",
         "showlegend": true,
         "x": [
          "2022-03-20T00:00:00",
          "2022-03-27T00:00:00",
          "2022-04-03T00:00:00",
          "2022-04-08T00:00:00"
         ],
         "xaxis": "x",
         "y": [
          22.433333333333334,
          22.433333333333334,
          29.733333333333334,
          33.11666666666667
         ],
         "yaxis": "y",
         "type": "scatter"
        },
        {
         "hovertemplate": "Chaîne=RMCDecouverte<br>Temps en jours=%{x}<br>Temps de parole en minutes=%{y}<extra></extra>",
         "legendgroup": "RMCDecouverte",
         "line": {
          "color": "#B6E880",
          "dash": "solid"
         },
         "marker": {
          "symbol": "circle"
         },
         "mode": "lines",
         "name": "RMCDecouverte",
         "orientation": "v",
         "showlegend": true,
         "x": [
          "2022-03-20T00:00:00",
          "2022-03-27T00:00:00"
         ],
         "xaxis": "x",
         "y": [
          0.0,
          0.0
         ],
         "yaxis": "y",
         "type": "scatter"
        },
        {
         "hovertemplate": "Chaîne=LCI<br>Temps en jours=%{x}<br>Temps de parole en minutes=%{y}<extra></extra>",
         "legendgroup": "LCI",
         "line": {
          "color": "#FF97FF",
          "dash": "solid"
         },
         "marker": {
          "symbol": "circle"
         },
         "mode": "lines",
         "name": "LCI",
         "orientation": "v",
         "showlegend": true,
         "x": [
          "2022-03-20T00:00:00",
          "2022-03-27T00:00:00",
          "2022-04-03T00:00:00",
          "2022-04-08T00:00:00"
         ],
         "xaxis": "x",
         "y": [
          45.06666666666667,
          45.233333333333334,
          130.93333333333334,
          210.76666666666665
         ],
         "yaxis": "y",
         "type": "scatter"
        },
        {
         "hovertemplate": "Chaîne=RTL<br>Temps en jours=%{x}<br>Temps de parole en minutes=%{y}<extra></extra>",
         "legendgroup": "RTL",
         "line": {
          "color": "#FECB52",
          "dash": "solid"
         },
         "marker": {
          "symbol": "circle"
         },
         "mode": "lines",
         "name": "RTL",
         "orientation": "v",
         "showlegend": true,
         "x": [
          "2022-03-20T00:00:00",
          "2022-03-27T00:00:00",
          "2022-04-03T00:00:00",
          "2022-04-08T00:00:00"
         ],
         "xaxis": "x",
         "y": [
          3.0,
          7.683333333333334,
          10.1,
          15.4
         ],
         "yaxis": "y",
         "type": "scatter"
        },
        {
         "hovertemplate": "Chaîne=BFMBusiness<br>Temps en jours=%{x}<br>Temps de parole en minutes=%{y}<extra></extra>",
         "legendgroup": "BFMBusiness",
         "line": {
          "color": "#636efa",
          "dash": "solid"
         },
         "marker": {
          "symbol": "circle"
         },
         "mode": "lines",
         "name": "BFMBusiness",
         "orientation": "v",
         "showlegend": true,
         "x": [
          "2022-03-20T00:00:00",
          "2022-03-27T00:00:00"
         ],
         "xaxis": "x",
         "y": [
          0.0,
          2.7666666666666666
         ],
         "yaxis": "y",
         "type": "scatter"
        },
        {
         "hovertemplate": "Chaîne=RadioClassique<br>Temps en jours=%{x}<br>Temps de parole en minutes=%{y}<extra></extra>",
         "legendgroup": "RadioClassique",
         "line": {
          "color": "#EF553B",
          "dash": "solid"
         },
         "marker": {
          "symbol": "circle"
         },
         "mode": "lines",
         "name": "RadioClassique",
         "orientation": "v",
         "showlegend": true,
         "x": [
          "2022-03-20T00:00:00",
          "2022-03-27T00:00:00",
          "2022-04-03T00:00:00",
          "2022-04-08T00:00:00"
         ],
         "xaxis": "x",
         "y": [
          0.0,
          0.5333333333333333,
          0.0,
          0.0
         ],
         "yaxis": "y",
         "type": "scatter"
        },
        {
         "hovertemplate": "Chaîne=TV5Monde<br>Temps en jours=%{x}<br>Temps de parole en minutes=%{y}<extra></extra>",
         "legendgroup": "TV5Monde",
         "line": {
          "color": "#00cc96",
          "dash": "solid"
         },
         "marker": {
          "symbol": "circle"
         },
         "mode": "lines",
         "name": "TV5Monde",
         "orientation": "v",
         "showlegend": true,
         "x": [
          "2022-03-20T00:00:00",
          "2022-03-27T00:00:00",
          "2022-04-03T00:00:00",
          "2022-04-08T00:00:00"
         ],
         "xaxis": "x",
         "y": [
          0.0,
          13.2,
          29.766666666666666,
          30.616666666666667
         ],
         "yaxis": "y",
         "type": "scatter"
        },
        {
         "hovertemplate": "Chaîne=RFI<br>Temps en jours=%{x}<br>Temps de parole en minutes=%{y}<extra></extra>",
         "legendgroup": "RFI",
         "line": {
          "color": "#ab63fa",
          "dash": "solid"
         },
         "marker": {
          "symbol": "circle"
         },
         "mode": "lines",
         "name": "RFI",
         "orientation": "v",
         "showlegend": true,
         "x": [
          "2022-03-20T00:00:00",
          "2022-03-27T00:00:00",
          "2022-04-03T00:00:00",
          "2022-04-08T00:00:00"
         ],
         "xaxis": "x",
         "y": [
          1.4833333333333334,
          13.316666666666666,
          11.033333333333331,
          27.016666666666666
         ],
         "yaxis": "y",
         "type": "scatter"
        },
        {
         "hovertemplate": "Chaîne=France24<br>Temps en jours=%{x}<br>Temps de parole en minutes=%{y}<extra></extra>",
         "legendgroup": "France24",
         "line": {
          "color": "#FFA15A",
          "dash": "solid"
         },
         "marker": {
          "symbol": "circle"
         },
         "mode": "lines",
         "name": "France24",
         "orientation": "v",
         "showlegend": true,
         "x": [
          "2022-03-20T00:00:00",
          "2022-03-27T00:00:00",
          "2022-04-03T00:00:00",
          "2022-04-08T00:00:00"
         ],
         "xaxis": "x",
         "y": [
          0.4166666666666667,
          8.966666666666667,
          11.6,
          19.433333333333334
         ],
         "yaxis": "y",
         "type": "scatter"
        },
        {
         "hovertemplate": "Chaîne=RMC Story<br>Temps en jours=%{x}<br>Temps de parole en minutes=%{y}<extra></extra>",
         "legendgroup": "RMC Story",
         "line": {
          "color": "#19d3f3",
          "dash": "solid"
         },
         "marker": {
          "symbol": "circle"
         },
         "mode": "lines",
         "name": "RMC Story",
         "orientation": "v",
         "showlegend": true,
         "x": [
          "2022-03-20T00:00:00",
          "2022-03-27T00:00:00",
          "2022-04-03T00:00:00",
          "2022-04-08T00:00:00"
         ],
         "xaxis": "x",
         "y": [
          1.8333333333333333,
          6.133333333333334,
          0.9333333333333333,
          7.333333333333333
         ],
         "yaxis": "y",
         "type": "scatter"
        }
       ],
       "layout": {
        "template": {
         "data": {
          "histogram2dcontour": [
           {
            "type": "histogram2dcontour",
            "colorbar": {
             "outlinewidth": 0,
             "ticks": ""
            },
            "colorscale": [
             [
              0.0,
              "#0d0887"
             ],
             [
              0.1111111111111111,
              "#46039f"
             ],
             [
              0.2222222222222222,
              "#7201a8"
             ],
             [
              0.3333333333333333,
              "#9c179e"
             ],
             [
              0.4444444444444444,
              "#bd3786"
             ],
             [
              0.5555555555555556,
              "#d8576b"
             ],
             [
              0.6666666666666666,
              "#ed7953"
             ],
             [
              0.7777777777777778,
              "#fb9f3a"
             ],
             [
              0.8888888888888888,
              "#fdca26"
             ],
             [
              1.0,
              "#f0f921"
             ]
            ]
           }
          ],
          "choropleth": [
           {
            "type": "choropleth",
            "colorbar": {
             "outlinewidth": 0,
             "ticks": ""
            }
           }
          ],
          "histogram2d": [
           {
            "type": "histogram2d",
            "colorbar": {
             "outlinewidth": 0,
             "ticks": ""
            },
            "colorscale": [
             [
              0.0,
              "#0d0887"
             ],
             [
              0.1111111111111111,
              "#46039f"
             ],
             [
              0.2222222222222222,
              "#7201a8"
             ],
             [
              0.3333333333333333,
              "#9c179e"
             ],
             [
              0.4444444444444444,
              "#bd3786"
             ],
             [
              0.5555555555555556,
              "#d8576b"
             ],
             [
              0.6666666666666666,
              "#ed7953"
             ],
             [
              0.7777777777777778,
              "#fb9f3a"
             ],
             [
              0.8888888888888888,
              "#fdca26"
             ],
             [
              1.0,
              "#f0f921"
             ]
            ]
           }
          ],
          "heatmap": [
           {
            "type": "heatmap",
            "colorbar": {
             "outlinewidth": 0,
             "ticks": ""
            },
            "colorscale": [
             [
              0.0,
              "#0d0887"
             ],
             [
              0.1111111111111111,
              "#46039f"
             ],
             [
              0.2222222222222222,
              "#7201a8"
             ],
             [
              0.3333333333333333,
              "#9c179e"
             ],
             [
              0.4444444444444444,
              "#bd3786"
             ],
             [
              0.5555555555555556,
              "#d8576b"
             ],
             [
              0.6666666666666666,
              "#ed7953"
             ],
             [
              0.7777777777777778,
              "#fb9f3a"
             ],
             [
              0.8888888888888888,
              "#fdca26"
             ],
             [
              1.0,
              "#f0f921"
             ]
            ]
           }
          ],
          "heatmapgl": [
           {
            "type": "heatmapgl",
            "colorbar": {
             "outlinewidth": 0,
             "ticks": ""
            },
            "colorscale": [
             [
              0.0,
              "#0d0887"
             ],
             [
              0.1111111111111111,
              "#46039f"
             ],
             [
              0.2222222222222222,
              "#7201a8"
             ],
             [
              0.3333333333333333,
              "#9c179e"
             ],
             [
              0.4444444444444444,
              "#bd3786"
             ],
             [
              0.5555555555555556,
              "#d8576b"
             ],
             [
              0.6666666666666666,
              "#ed7953"
             ],
             [
              0.7777777777777778,
              "#fb9f3a"
             ],
             [
              0.8888888888888888,
              "#fdca26"
             ],
             [
              1.0,
              "#f0f921"
             ]
            ]
           }
          ],
          "contourcarpet": [
           {
            "type": "contourcarpet",
            "colorbar": {
             "outlinewidth": 0,
             "ticks": ""
            }
           }
          ],
          "contour": [
           {
            "type": "contour",
            "colorbar": {
             "outlinewidth": 0,
             "ticks": ""
            },
            "colorscale": [
             [
              0.0,
              "#0d0887"
             ],
             [
              0.1111111111111111,
              "#46039f"
             ],
             [
              0.2222222222222222,
              "#7201a8"
             ],
             [
              0.3333333333333333,
              "#9c179e"
             ],
             [
              0.4444444444444444,
              "#bd3786"
             ],
             [
              0.5555555555555556,
              "#d8576b"
             ],
             [
              0.6666666666666666,
              "#ed7953"
             ],
             [
              0.7777777777777778,
              "#fb9f3a"
             ],
             [
              0.8888888888888888,
              "#fdca26"
             ],
             [
              1.0,
              "#f0f921"
             ]
            ]
           }
          ],
          "surface": [
           {
            "type": "surface",
            "colorbar": {
             "outlinewidth": 0,
             "ticks": ""
            },
            "colorscale": [
             [
              0.0,
              "#0d0887"
             ],
             [
              0.1111111111111111,
              "#46039f"
             ],
             [
              0.2222222222222222,
              "#7201a8"
             ],
             [
              0.3333333333333333,
              "#9c179e"
             ],
             [
              0.4444444444444444,
              "#bd3786"
             ],
             [
              0.5555555555555556,
              "#d8576b"
             ],
             [
              0.6666666666666666,
              "#ed7953"
             ],
             [
              0.7777777777777778,
              "#fb9f3a"
             ],
             [
              0.8888888888888888,
              "#fdca26"
             ],
             [
              1.0,
              "#f0f921"
             ]
            ]
           }
          ],
          "mesh3d": [
           {
            "type": "mesh3d",
            "colorbar": {
             "outlinewidth": 0,
             "ticks": ""
            }
           }
          ],
          "scatter": [
           {
            "marker": {
             "line": {
              "color": "#283442"
             }
            },
            "type": "scatter"
           }
          ],
          "parcoords": [
           {
            "type": "parcoords",
            "line": {
             "colorbar": {
              "outlinewidth": 0,
              "ticks": ""
             }
            }
           }
          ],
          "scatterpolargl": [
           {
            "type": "scatterpolargl",
            "marker": {
             "colorbar": {
              "outlinewidth": 0,
              "ticks": ""
             }
            }
           }
          ],
          "bar": [
           {
            "error_x": {
             "color": "#f2f5fa"
            },
            "error_y": {
             "color": "#f2f5fa"
            },
            "marker": {
             "line": {
              "color": "rgb(17,17,17)",
              "width": 0.5
             },
             "pattern": {
              "fillmode": "overlay",
              "size": 10,
              "solidity": 0.2
             }
            },
            "type": "bar"
           }
          ],
          "scattergeo": [
           {
            "type": "scattergeo",
            "marker": {
             "colorbar": {
              "outlinewidth": 0,
              "ticks": ""
             }
            }
           }
          ],
          "scatterpolar": [
           {
            "type": "scatterpolar",
            "marker": {
             "colorbar": {
              "outlinewidth": 0,
              "ticks": ""
             }
            }
           }
          ],
          "histogram": [
           {
            "marker": {
             "pattern": {
              "fillmode": "overlay",
              "size": 10,
              "solidity": 0.2
             }
            },
            "type": "histogram"
           }
          ],
          "scattergl": [
           {
            "marker": {
             "line": {
              "color": "#283442"
             }
            },
            "type": "scattergl"
           }
          ],
          "scatter3d": [
           {
            "type": "scatter3d",
            "line": {
             "colorbar": {
              "outlinewidth": 0,
              "ticks": ""
             }
            },
            "marker": {
             "colorbar": {
              "outlinewidth": 0,
              "ticks": ""
             }
            }
           }
          ],
          "scattermapbox": [
           {
            "type": "scattermapbox",
            "marker": {
             "colorbar": {
              "outlinewidth": 0,
              "ticks": ""
             }
            }
           }
          ],
          "scatterternary": [
           {
            "type": "scatterternary",
            "marker": {
             "colorbar": {
              "outlinewidth": 0,
              "ticks": ""
             }
            }
           }
          ],
          "scattercarpet": [
           {
            "type": "scattercarpet",
            "marker": {
             "colorbar": {
              "outlinewidth": 0,
              "ticks": ""
             }
            }
           }
          ],
          "carpet": [
           {
            "aaxis": {
             "endlinecolor": "#A2B1C6",
             "gridcolor": "#506784",
             "linecolor": "#506784",
             "minorgridcolor": "#506784",
             "startlinecolor": "#A2B1C6"
            },
            "baxis": {
             "endlinecolor": "#A2B1C6",
             "gridcolor": "#506784",
             "linecolor": "#506784",
             "minorgridcolor": "#506784",
             "startlinecolor": "#A2B1C6"
            },
            "type": "carpet"
           }
          ],
          "table": [
           {
            "cells": {
             "fill": {
              "color": "#506784"
             },
             "line": {
              "color": "rgb(17,17,17)"
             }
            },
            "header": {
             "fill": {
              "color": "#2a3f5f"
             },
             "line": {
              "color": "rgb(17,17,17)"
             }
            },
            "type": "table"
           }
          ],
          "barpolar": [
           {
            "marker": {
             "line": {
              "color": "rgb(17,17,17)",
              "width": 0.5
             },
             "pattern": {
              "fillmode": "overlay",
              "size": 10,
              "solidity": 0.2
             }
            },
            "type": "barpolar"
           }
          ],
          "pie": [
           {
            "automargin": true,
            "type": "pie"
           }
          ]
         },
         "layout": {
          "autotypenumbers": "strict",
          "colorway": [
           "#636efa",
           "#EF553B",
           "#00cc96",
           "#ab63fa",
           "#FFA15A",
           "#19d3f3",
           "#FF6692",
           "#B6E880",
           "#FF97FF",
           "#FECB52"
          ],
          "font": {
           "color": "#f2f5fa"
          },
          "hovermode": "closest",
          "hoverlabel": {
           "align": "left"
          },
          "paper_bgcolor": "rgb(17,17,17)",
          "plot_bgcolor": "rgb(17,17,17)",
          "polar": {
           "bgcolor": "rgb(17,17,17)",
           "angularaxis": {
            "gridcolor": "#506784",
            "linecolor": "#506784",
            "ticks": ""
           },
           "radialaxis": {
            "gridcolor": "#506784",
            "linecolor": "#506784",
            "ticks": ""
           }
          },
          "ternary": {
           "bgcolor": "rgb(17,17,17)",
           "aaxis": {
            "gridcolor": "#506784",
            "linecolor": "#506784",
            "ticks": ""
           },
           "baxis": {
            "gridcolor": "#506784",
            "linecolor": "#506784",
            "ticks": ""
           },
           "caxis": {
            "gridcolor": "#506784",
            "linecolor": "#506784",
            "ticks": ""
           }
          },
          "coloraxis": {
           "colorbar": {
            "outlinewidth": 0,
            "ticks": ""
           }
          },
          "colorscale": {
           "sequential": [
            [
             0.0,
             "#0d0887"
            ],
            [
             0.1111111111111111,
             "#46039f"
            ],
            [
             0.2222222222222222,
             "#7201a8"
            ],
            [
             0.3333333333333333,
             "#9c179e"
            ],
            [
             0.4444444444444444,
             "#bd3786"
            ],
            [
             0.5555555555555556,
             "#d8576b"
            ],
            [
             0.6666666666666666,
             "#ed7953"
            ],
            [
             0.7777777777777778,
             "#fb9f3a"
            ],
            [
             0.8888888888888888,
             "#fdca26"
            ],
            [
             1.0,
             "#f0f921"
            ]
           ],
           "sequentialminus": [
            [
             0.0,
             "#0d0887"
            ],
            [
             0.1111111111111111,
             "#46039f"
            ],
            [
             0.2222222222222222,
             "#7201a8"
            ],
            [
             0.3333333333333333,
             "#9c179e"
            ],
            [
             0.4444444444444444,
             "#bd3786"
            ],
            [
             0.5555555555555556,
             "#d8576b"
            ],
            [
             0.6666666666666666,
             "#ed7953"
            ],
            [
             0.7777777777777778,
             "#fb9f3a"
            ],
            [
             0.8888888888888888,
             "#fdca26"
            ],
            [
             1.0,
             "#f0f921"
            ]
           ],
           "diverging": [
            [
             0,
             "#8e0152"
            ],
            [
             0.1,
             "#c51b7d"
            ],
            [
             0.2,
             "#de77ae"
            ],
            [
             0.3,
             "#f1b6da"
            ],
            [
             0.4,
             "#fde0ef"
            ],
            [
             0.5,
             "#f7f7f7"
            ],
            [
             0.6,
             "#e6f5d0"
            ],
            [
             0.7,
             "#b8e186"
            ],
            [
             0.8,
             "#7fbc41"
            ],
            [
             0.9,
             "#4d9221"
            ],
            [
             1,
             "#276419"
            ]
           ]
          },
          "xaxis": {
           "gridcolor": "#283442",
           "linecolor": "#506784",
           "ticks": "",
           "title": {
            "standoff": 15
           },
           "zerolinecolor": "#283442",
           "automargin": true,
           "zerolinewidth": 2
          },
          "yaxis": {
           "gridcolor": "#283442",
           "linecolor": "#506784",
           "ticks": "",
           "title": {
            "standoff": 15
           },
           "zerolinecolor": "#283442",
           "automargin": true,
           "zerolinewidth": 2
          },
          "scene": {
           "xaxis": {
            "backgroundcolor": "rgb(17,17,17)",
            "gridcolor": "#506784",
            "linecolor": "#506784",
            "showbackground": true,
            "ticks": "",
            "zerolinecolor": "#C8D4E3",
            "gridwidth": 2
           },
           "yaxis": {
            "backgroundcolor": "rgb(17,17,17)",
            "gridcolor": "#506784",
            "linecolor": "#506784",
            "showbackground": true,
            "ticks": "",
            "zerolinecolor": "#C8D4E3",
            "gridwidth": 2
           },
           "zaxis": {
            "backgroundcolor": "rgb(17,17,17)",
            "gridcolor": "#506784",
            "linecolor": "#506784",
            "showbackground": true,
            "ticks": "",
            "zerolinecolor": "#C8D4E3",
            "gridwidth": 2
           }
          },
          "shapedefaults": {
           "line": {
            "color": "#f2f5fa"
           }
          },
          "annotationdefaults": {
           "arrowcolor": "#f2f5fa",
           "arrowhead": 0,
           "arrowwidth": 1
          },
          "geo": {
           "bgcolor": "rgb(17,17,17)",
           "landcolor": "rgb(17,17,17)",
           "subunitcolor": "#506784",
           "showland": true,
           "showlakes": true,
           "lakecolor": "rgb(17,17,17)"
          },
          "title": {
           "x": 0.05
          },
          "updatemenudefaults": {
           "bgcolor": "#506784",
           "borderwidth": 0
          },
          "sliderdefaults": {
           "bgcolor": "#C8D4E3",
           "borderwidth": 1,
           "bordercolor": "rgb(17,17,17)",
           "tickwidth": 0
          },
          "mapbox": {
           "style": "dark"
          }
         }
        },
        "xaxis": {
         "anchor": "y",
         "domain": [
          0.0,
          1.0
         ],
         "title": {
          "text": "Temps en jours"
         }
        },
        "yaxis": {
         "anchor": "x",
         "domain": [
          0.0,
          1.0
         ],
         "title": {
          "text": "Temps de parole en minutes"
         }
        },
        "legend": {
         "title": {
          "text": "Chaîne"
         },
         "tracegroupgap": 0
        },
        "title": {
         "text": "Arthaud : Évolution du temps de parole en fonction du temps"
        }
       },
       "config": {
        "plotlyServerURL": "https://plot.ly"
       }
      },
      "text/html": "<div>                            <div id=\"c00f871a-0b53-4a61-beca-09c89000fd60\" class=\"plotly-graph-div\" style=\"height:525px; width:100%;\"></div>            <script type=\"text/javascript\">                require([\"plotly\"], function(Plotly) {                    window.PLOTLYENV=window.PLOTLYENV || {};                                    if (document.getElementById(\"c00f871a-0b53-4a61-beca-09c89000fd60\")) {                    Plotly.newPlot(                        \"c00f871a-0b53-4a61-beca-09c89000fd60\",                        [{\"hovertemplate\":\"Cha\\u00eene=France2<br>Temps en jours=%{x}<br>Temps de parole en minutes=%{y}<extra></extra>\",\"legendgroup\":\"France2\",\"line\":{\"color\":\"#636efa\",\"dash\":\"solid\"},\"marker\":{\"symbol\":\"circle\"},\"mode\":\"lines\",\"name\":\"France2\",\"orientation\":\"v\",\"showlegend\":true,\"x\":[\"2022-03-13T00:00:00\",\"2022-03-20T00:00:00\",\"2022-03-27T00:00:00\",\"2022-04-03T00:00:00\",\"2022-04-08T00:00:00\"],\"xaxis\":\"x\",\"y\":[0.0,2.2666666666666666,15.466666666666665,31.616666666666664,32.733333333333334],\"yaxis\":\"y\",\"type\":\"scatter\"},{\"hovertemplate\":\"Cha\\u00eene=France3<br>Temps en jours=%{x}<br>Temps de parole en minutes=%{y}<extra></extra>\",\"legendgroup\":\"France3\",\"line\":{\"color\":\"#EF553B\",\"dash\":\"solid\"},\"marker\":{\"symbol\":\"circle\"},\"mode\":\"lines\",\"name\":\"France3\",\"orientation\":\"v\",\"showlegend\":true,\"x\":[\"2022-03-13T00:00:00\",\"2022-03-20T00:00:00\",\"2022-03-27T00:00:00\",\"2022-04-03T00:00:00\",\"2022-04-08T00:00:00\"],\"xaxis\":\"x\",\"y\":[0.0,7.733333333333333,8.083333333333334,1.4,2.3833333333333333],\"yaxis\":\"y\",\"type\":\"scatter\"},{\"hovertemplate\":\"Cha\\u00eene=M6<br>Temps en jours=%{x}<br>Temps de parole en minutes=%{y}<extra></extra>\",\"legendgroup\":\"M6\",\"line\":{\"color\":\"#00cc96\",\"dash\":\"solid\"},\"marker\":{\"symbol\":\"circle\"},\"mode\":\"lines\",\"name\":\"M6\",\"orientation\":\"v\",\"showlegend\":true,\"x\":[\"2022-03-13T00:00:00\",\"2022-03-20T00:00:00\",\"2022-03-27T00:00:00\",\"2022-04-03T00:00:00\",\"2022-04-08T00:00:00\"],\"xaxis\":\"x\",\"y\":[1.15,1.15,1.65,1.4666666666666668,2.4833333333333334],\"yaxis\":\"y\",\"type\":\"scatter\"},{\"hovertemplate\":\"Cha\\u00eene=Cnews<br>Temps en jours=%{x}<br>Temps de parole en minutes=%{y}<extra></extra>\",\"legendgroup\":\"Cnews\",\"line\":{\"color\":\"#ab63fa\",\"dash\":\"solid\"},\"marker\":{\"symbol\":\"circle\"},\"mode\":\"lines\",\"name\":\"Cnews\",\"orientation\":\"v\",\"showlegend\":true,\"x\":[\"2022-03-13T00:00:00\",\"2022-03-20T00:00:00\",\"2022-03-27T00:00:00\",\"2022-04-03T00:00:00\",\"2022-04-08T00:00:00\"],\"xaxis\":\"x\",\"y\":[6.266666666666667,10.383333333333333,55.75,61.38333333333333,83.96666666666665],\"yaxis\":\"y\",\"type\":\"scatter\"},{\"hovertemplate\":\"Cha\\u00eene=FranceinfoTV<br>Temps en jours=%{x}<br>Temps de parole en minutes=%{y}<extra></extra>\",\"legendgroup\":\"FranceinfoTV\",\"line\":{\"color\":\"#FFA15A\",\"dash\":\"solid\"},\"marker\":{\"symbol\":\"circle\"},\"mode\":\"lines\",\"name\":\"FranceinfoTV\",\"orientation\":\"v\",\"showlegend\":true,\"x\":[\"2022-03-13T00:00:00\",\"2022-03-20T00:00:00\",\"2022-03-27T00:00:00\",\"2022-04-03T00:00:00\",\"2022-04-08T00:00:00\"],\"xaxis\":\"x\",\"y\":[2.5666666666666664,20.933333333333334,48.1,116.31666666666665,181.38333333333333],\"yaxis\":\"y\",\"type\":\"scatter\"},{\"hovertemplate\":\"Cha\\u00eene=FranceInter<br>Temps en jours=%{x}<br>Temps de parole en minutes=%{y}<extra></extra>\",\"legendgroup\":\"FranceInter\",\"line\":{\"color\":\"#19d3f3\",\"dash\":\"solid\"},\"marker\":{\"symbol\":\"circle\"},\"mode\":\"lines\",\"name\":\"FranceInter\",\"orientation\":\"v\",\"showlegend\":true,\"x\":[\"2022-03-13T00:00:00\",\"2022-03-20T00:00:00\",\"2022-03-27T00:00:00\",\"2022-04-03T00:00:00\",\"2022-04-08T00:00:00\"],\"xaxis\":\"x\",\"y\":[0.5333333333333333,3.6,13.333333333333334,4.183333333333334,13.416666666666668],\"yaxis\":\"y\",\"type\":\"scatter\"},{\"hovertemplate\":\"Cha\\u00eene=FranceInfo<br>Temps en jours=%{x}<br>Temps de parole en minutes=%{y}<extra></extra>\",\"legendgroup\":\"FranceInfo\",\"line\":{\"color\":\"#FF6692\",\"dash\":\"solid\"},\"marker\":{\"symbol\":\"circle\"},\"mode\":\"lines\",\"name\":\"FranceInfo\",\"orientation\":\"v\",\"showlegend\":true,\"x\":[\"2022-03-13T00:00:00\",\"2022-03-20T00:00:00\",\"2022-03-27T00:00:00\",\"2022-04-03T00:00:00\",\"2022-04-08T00:00:00\"],\"xaxis\":\"x\",\"y\":[16.35,24.333333333333336,38.166666666666664,45.63333333333333,81.83333333333334],\"yaxis\":\"y\",\"type\":\"scatter\"},{\"hovertemplate\":\"Cha\\u00eene=FranceCulture<br>Temps en jours=%{x}<br>Temps de parole en minutes=%{y}<extra></extra>\",\"legendgroup\":\"FranceCulture\",\"line\":{\"color\":\"#B6E880\",\"dash\":\"solid\"},\"marker\":{\"symbol\":\"circle\"},\"mode\":\"lines\",\"name\":\"FranceCulture\",\"orientation\":\"v\",\"showlegend\":true,\"x\":[\"2022-03-13T00:00:00\",\"2022-03-20T00:00:00\",\"2022-03-27T00:00:00\",\"2022-04-03T00:00:00\",\"2022-04-08T00:00:00\"],\"xaxis\":\"x\",\"y\":[0.0,0.21666666666666667,0.35,10.816666666666666,11.733333333333334],\"yaxis\":\"y\",\"type\":\"scatter\"},{\"hovertemplate\":\"Cha\\u00eene=Europe1<br>Temps en jours=%{x}<br>Temps de parole en minutes=%{y}<extra></extra>\",\"legendgroup\":\"Europe1\",\"line\":{\"color\":\"#FF97FF\",\"dash\":\"solid\"},\"marker\":{\"symbol\":\"circle\"},\"mode\":\"lines\",\"name\":\"Europe1\",\"orientation\":\"v\",\"showlegend\":true,\"x\":[\"2022-03-13T00:00:00\",\"2022-03-20T00:00:00\",\"2022-03-27T00:00:00\",\"2022-04-03T00:00:00\",\"2022-04-08T00:00:00\"],\"xaxis\":\"x\",\"y\":[1.2,1.7999999999999998,12.799999999999999,14.5,45.25],\"yaxis\":\"y\",\"type\":\"scatter\"},{\"hovertemplate\":\"Cha\\u00eene=RMC<br>Temps en jours=%{x}<br>Temps de parole en minutes=%{y}<extra></extra>\",\"legendgroup\":\"RMC\",\"line\":{\"color\":\"#FECB52\",\"dash\":\"solid\"},\"marker\":{\"symbol\":\"circle\"},\"mode\":\"lines\",\"name\":\"RMC\",\"orientation\":\"v\",\"showlegend\":true,\"x\":[\"2022-03-13T00:00:00\",\"2022-03-20T00:00:00\",\"2022-03-27T00:00:00\",\"2022-04-03T00:00:00\",\"2022-04-08T00:00:00\"],\"xaxis\":\"x\",\"y\":[0.0,2.75,9.200000000000001,3.0,17.7],\"yaxis\":\"y\",\"type\":\"scatter\"},{\"hovertemplate\":\"Cha\\u00eene=SudRadio<br>Temps en jours=%{x}<br>Temps de parole en minutes=%{y}<extra></extra>\",\"legendgroup\":\"SudRadio\",\"line\":{\"color\":\"#636efa\",\"dash\":\"solid\"},\"marker\":{\"symbol\":\"circle\"},\"mode\":\"lines\",\"name\":\"SudRadio\",\"orientation\":\"v\",\"showlegend\":true,\"x\":[\"2022-03-13T00:00:00\",\"2022-03-20T00:00:00\",\"2022-03-27T00:00:00\",\"2022-04-03T00:00:00\",\"2022-04-08T00:00:00\"],\"xaxis\":\"x\",\"y\":[0.4,0.4,0.9333333333333333,0.7666666666666666,1.6666666666666667],\"yaxis\":\"y\",\"type\":\"scatter\"},{\"hovertemplate\":\"Cha\\u00eene=Euronews<br>Temps en jours=%{x}<br>Temps de parole en minutes=%{y}<extra></extra>\",\"legendgroup\":\"Euronews\",\"line\":{\"color\":\"#EF553B\",\"dash\":\"solid\"},\"marker\":{\"symbol\":\"circle\"},\"mode\":\"lines\",\"name\":\"Euronews\",\"orientation\":\"v\",\"showlegend\":true,\"x\":[\"2022-03-13T00:00:00\",\"2022-03-20T00:00:00\",\"2022-03-27T00:00:00\"],\"xaxis\":\"x\",\"y\":[0.0,0.0,0.0],\"yaxis\":\"y\",\"type\":\"scatter\"},{\"hovertemplate\":\"Cha\\u00eene=TF1<br>Temps en jours=%{x}<br>Temps de parole en minutes=%{y}<extra></extra>\",\"legendgroup\":\"TF1\",\"line\":{\"color\":\"#00cc96\",\"dash\":\"solid\"},\"marker\":{\"symbol\":\"circle\"},\"mode\":\"lines\",\"name\":\"TF1\",\"orientation\":\"v\",\"showlegend\":true,\"x\":[\"2022-03-20T00:00:00\",\"2022-03-27T00:00:00\",\"2022-04-03T00:00:00\",\"2022-04-08T00:00:00\"],\"xaxis\":\"x\",\"y\":[1.1166666666666667,1.6166666666666667,0.7333333333333333,10.65],\"yaxis\":\"y\",\"type\":\"scatter\"},{\"hovertemplate\":\"Cha\\u00eene=France5<br>Temps en jours=%{x}<br>Temps de parole en minutes=%{y}<extra></extra>\",\"legendgroup\":\"France5\",\"line\":{\"color\":\"#ab63fa\",\"dash\":\"solid\"},\"marker\":{\"symbol\":\"circle\"},\"mode\":\"lines\",\"name\":\"France5\",\"orientation\":\"v\",\"showlegend\":true,\"x\":[\"2022-03-20T00:00:00\",\"2022-03-27T00:00:00\",\"2022-04-03T00:00:00\",\"2022-04-08T00:00:00\"],\"xaxis\":\"x\",\"y\":[1.4666666666666666,14.266666666666667,5.75,11.766666666666666],\"yaxis\":\"y\",\"type\":\"scatter\"},{\"hovertemplate\":\"Cha\\u00eene=C8<br>Temps en jours=%{x}<br>Temps de parole en minutes=%{y}<extra></extra>\",\"legendgroup\":\"C8\",\"line\":{\"color\":\"#FFA15A\",\"dash\":\"solid\"},\"marker\":{\"symbol\":\"circle\"},\"mode\":\"lines\",\"name\":\"C8\",\"orientation\":\"v\",\"showlegend\":true,\"x\":[\"2022-03-20T00:00:00\",\"2022-03-27T00:00:00\",\"2022-04-03T00:00:00\",\"2022-04-08T00:00:00\"],\"xaxis\":\"x\",\"y\":[0.7333333333333333,11.366666666666667,1.3333333333333333,11.333333333333332],\"yaxis\":\"y\",\"type\":\"scatter\"},{\"hovertemplate\":\"Cha\\u00eene=TMC<br>Temps en jours=%{x}<br>Temps de parole en minutes=%{y}<extra></extra>\",\"legendgroup\":\"TMC\",\"line\":{\"color\":\"#19d3f3\",\"dash\":\"solid\"},\"marker\":{\"symbol\":\"circle\"},\"mode\":\"lines\",\"name\":\"TMC\",\"orientation\":\"v\",\"showlegend\":true,\"x\":[\"2022-03-20T00:00:00\",\"2022-03-27T00:00:00\",\"2022-04-03T00:00:00\",\"2022-04-08T00:00:00\"],\"xaxis\":\"x\",\"y\":[0.0,1.5166666666666666,9.366666666666667,18.016666666666666],\"yaxis\":\"y\",\"type\":\"scatter\"},{\"hovertemplate\":\"Cha\\u00eene=BFMTV<br>Temps en jours=%{x}<br>Temps de parole en minutes=%{y}<extra></extra>\",\"legendgroup\":\"BFMTV\",\"line\":{\"color\":\"#FF6692\",\"dash\":\"solid\"},\"marker\":{\"symbol\":\"circle\"},\"mode\":\"lines\",\"name\":\"BFMTV\",\"orientation\":\"v\",\"showlegend\":true,\"x\":[\"2022-03-20T00:00:00\",\"2022-03-27T00:00:00\",\"2022-04-03T00:00:00\",\"2022-04-08T00:00:00\"],\"xaxis\":\"x\",\"y\":[22.433333333333334,22.433333333333334,29.733333333333334,33.11666666666667],\"yaxis\":\"y\",\"type\":\"scatter\"},{\"hovertemplate\":\"Cha\\u00eene=RMCDecouverte<br>Temps en jours=%{x}<br>Temps de parole en minutes=%{y}<extra></extra>\",\"legendgroup\":\"RMCDecouverte\",\"line\":{\"color\":\"#B6E880\",\"dash\":\"solid\"},\"marker\":{\"symbol\":\"circle\"},\"mode\":\"lines\",\"name\":\"RMCDecouverte\",\"orientation\":\"v\",\"showlegend\":true,\"x\":[\"2022-03-20T00:00:00\",\"2022-03-27T00:00:00\"],\"xaxis\":\"x\",\"y\":[0.0,0.0],\"yaxis\":\"y\",\"type\":\"scatter\"},{\"hovertemplate\":\"Cha\\u00eene=LCI<br>Temps en jours=%{x}<br>Temps de parole en minutes=%{y}<extra></extra>\",\"legendgroup\":\"LCI\",\"line\":{\"color\":\"#FF97FF\",\"dash\":\"solid\"},\"marker\":{\"symbol\":\"circle\"},\"mode\":\"lines\",\"name\":\"LCI\",\"orientation\":\"v\",\"showlegend\":true,\"x\":[\"2022-03-20T00:00:00\",\"2022-03-27T00:00:00\",\"2022-04-03T00:00:00\",\"2022-04-08T00:00:00\"],\"xaxis\":\"x\",\"y\":[45.06666666666667,45.233333333333334,130.93333333333334,210.76666666666665],\"yaxis\":\"y\",\"type\":\"scatter\"},{\"hovertemplate\":\"Cha\\u00eene=RTL<br>Temps en jours=%{x}<br>Temps de parole en minutes=%{y}<extra></extra>\",\"legendgroup\":\"RTL\",\"line\":{\"color\":\"#FECB52\",\"dash\":\"solid\"},\"marker\":{\"symbol\":\"circle\"},\"mode\":\"lines\",\"name\":\"RTL\",\"orientation\":\"v\",\"showlegend\":true,\"x\":[\"2022-03-20T00:00:00\",\"2022-03-27T00:00:00\",\"2022-04-03T00:00:00\",\"2022-04-08T00:00:00\"],\"xaxis\":\"x\",\"y\":[3.0,7.683333333333334,10.1,15.4],\"yaxis\":\"y\",\"type\":\"scatter\"},{\"hovertemplate\":\"Cha\\u00eene=BFMBusiness<br>Temps en jours=%{x}<br>Temps de parole en minutes=%{y}<extra></extra>\",\"legendgroup\":\"BFMBusiness\",\"line\":{\"color\":\"#636efa\",\"dash\":\"solid\"},\"marker\":{\"symbol\":\"circle\"},\"mode\":\"lines\",\"name\":\"BFMBusiness\",\"orientation\":\"v\",\"showlegend\":true,\"x\":[\"2022-03-20T00:00:00\",\"2022-03-27T00:00:00\"],\"xaxis\":\"x\",\"y\":[0.0,2.7666666666666666],\"yaxis\":\"y\",\"type\":\"scatter\"},{\"hovertemplate\":\"Cha\\u00eene=RadioClassique<br>Temps en jours=%{x}<br>Temps de parole en minutes=%{y}<extra></extra>\",\"legendgroup\":\"RadioClassique\",\"line\":{\"color\":\"#EF553B\",\"dash\":\"solid\"},\"marker\":{\"symbol\":\"circle\"},\"mode\":\"lines\",\"name\":\"RadioClassique\",\"orientation\":\"v\",\"showlegend\":true,\"x\":[\"2022-03-20T00:00:00\",\"2022-03-27T00:00:00\",\"2022-04-03T00:00:00\",\"2022-04-08T00:00:00\"],\"xaxis\":\"x\",\"y\":[0.0,0.5333333333333333,0.0,0.0],\"yaxis\":\"y\",\"type\":\"scatter\"},{\"hovertemplate\":\"Cha\\u00eene=TV5Monde<br>Temps en jours=%{x}<br>Temps de parole en minutes=%{y}<extra></extra>\",\"legendgroup\":\"TV5Monde\",\"line\":{\"color\":\"#00cc96\",\"dash\":\"solid\"},\"marker\":{\"symbol\":\"circle\"},\"mode\":\"lines\",\"name\":\"TV5Monde\",\"orientation\":\"v\",\"showlegend\":true,\"x\":[\"2022-03-20T00:00:00\",\"2022-03-27T00:00:00\",\"2022-04-03T00:00:00\",\"2022-04-08T00:00:00\"],\"xaxis\":\"x\",\"y\":[0.0,13.2,29.766666666666666,30.616666666666667],\"yaxis\":\"y\",\"type\":\"scatter\"},{\"hovertemplate\":\"Cha\\u00eene=RFI<br>Temps en jours=%{x}<br>Temps de parole en minutes=%{y}<extra></extra>\",\"legendgroup\":\"RFI\",\"line\":{\"color\":\"#ab63fa\",\"dash\":\"solid\"},\"marker\":{\"symbol\":\"circle\"},\"mode\":\"lines\",\"name\":\"RFI\",\"orientation\":\"v\",\"showlegend\":true,\"x\":[\"2022-03-20T00:00:00\",\"2022-03-27T00:00:00\",\"2022-04-03T00:00:00\",\"2022-04-08T00:00:00\"],\"xaxis\":\"x\",\"y\":[1.4833333333333334,13.316666666666666,11.033333333333331,27.016666666666666],\"yaxis\":\"y\",\"type\":\"scatter\"},{\"hovertemplate\":\"Cha\\u00eene=France24<br>Temps en jours=%{x}<br>Temps de parole en minutes=%{y}<extra></extra>\",\"legendgroup\":\"France24\",\"line\":{\"color\":\"#FFA15A\",\"dash\":\"solid\"},\"marker\":{\"symbol\":\"circle\"},\"mode\":\"lines\",\"name\":\"France24\",\"orientation\":\"v\",\"showlegend\":true,\"x\":[\"2022-03-20T00:00:00\",\"2022-03-27T00:00:00\",\"2022-04-03T00:00:00\",\"2022-04-08T00:00:00\"],\"xaxis\":\"x\",\"y\":[0.4166666666666667,8.966666666666667,11.6,19.433333333333334],\"yaxis\":\"y\",\"type\":\"scatter\"},{\"hovertemplate\":\"Cha\\u00eene=RMC Story<br>Temps en jours=%{x}<br>Temps de parole en minutes=%{y}<extra></extra>\",\"legendgroup\":\"RMC Story\",\"line\":{\"color\":\"#19d3f3\",\"dash\":\"solid\"},\"marker\":{\"symbol\":\"circle\"},\"mode\":\"lines\",\"name\":\"RMC Story\",\"orientation\":\"v\",\"showlegend\":true,\"x\":[\"2022-03-20T00:00:00\",\"2022-03-27T00:00:00\",\"2022-04-03T00:00:00\",\"2022-04-08T00:00:00\"],\"xaxis\":\"x\",\"y\":[1.8333333333333333,6.133333333333334,0.9333333333333333,7.333333333333333],\"yaxis\":\"y\",\"type\":\"scatter\"}],                        {\"template\":{\"data\":{\"histogram2dcontour\":[{\"type\":\"histogram2dcontour\",\"colorbar\":{\"outlinewidth\":0,\"ticks\":\"\"},\"colorscale\":[[0.0,\"#0d0887\"],[0.1111111111111111,\"#46039f\"],[0.2222222222222222,\"#7201a8\"],[0.3333333333333333,\"#9c179e\"],[0.4444444444444444,\"#bd3786\"],[0.5555555555555556,\"#d8576b\"],[0.6666666666666666,\"#ed7953\"],[0.7777777777777778,\"#fb9f3a\"],[0.8888888888888888,\"#fdca26\"],[1.0,\"#f0f921\"]]}],\"choropleth\":[{\"type\":\"choropleth\",\"colorbar\":{\"outlinewidth\":0,\"ticks\":\"\"}}],\"histogram2d\":[{\"type\":\"histogram2d\",\"colorbar\":{\"outlinewidth\":0,\"ticks\":\"\"},\"colorscale\":[[0.0,\"#0d0887\"],[0.1111111111111111,\"#46039f\"],[0.2222222222222222,\"#7201a8\"],[0.3333333333333333,\"#9c179e\"],[0.4444444444444444,\"#bd3786\"],[0.5555555555555556,\"#d8576b\"],[0.6666666666666666,\"#ed7953\"],[0.7777777777777778,\"#fb9f3a\"],[0.8888888888888888,\"#fdca26\"],[1.0,\"#f0f921\"]]}],\"heatmap\":[{\"type\":\"heatmap\",\"colorbar\":{\"outlinewidth\":0,\"ticks\":\"\"},\"colorscale\":[[0.0,\"#0d0887\"],[0.1111111111111111,\"#46039f\"],[0.2222222222222222,\"#7201a8\"],[0.3333333333333333,\"#9c179e\"],[0.4444444444444444,\"#bd3786\"],[0.5555555555555556,\"#d8576b\"],[0.6666666666666666,\"#ed7953\"],[0.7777777777777778,\"#fb9f3a\"],[0.8888888888888888,\"#fdca26\"],[1.0,\"#f0f921\"]]}],\"heatmapgl\":[{\"type\":\"heatmapgl\",\"colorbar\":{\"outlinewidth\":0,\"ticks\":\"\"},\"colorscale\":[[0.0,\"#0d0887\"],[0.1111111111111111,\"#46039f\"],[0.2222222222222222,\"#7201a8\"],[0.3333333333333333,\"#9c179e\"],[0.4444444444444444,\"#bd3786\"],[0.5555555555555556,\"#d8576b\"],[0.6666666666666666,\"#ed7953\"],[0.7777777777777778,\"#fb9f3a\"],[0.8888888888888888,\"#fdca26\"],[1.0,\"#f0f921\"]]}],\"contourcarpet\":[{\"type\":\"contourcarpet\",\"colorbar\":{\"outlinewidth\":0,\"ticks\":\"\"}}],\"contour\":[{\"type\":\"contour\",\"colorbar\":{\"outlinewidth\":0,\"ticks\":\"\"},\"colorscale\":[[0.0,\"#0d0887\"],[0.1111111111111111,\"#46039f\"],[0.2222222222222222,\"#7201a8\"],[0.3333333333333333,\"#9c179e\"],[0.4444444444444444,\"#bd3786\"],[0.5555555555555556,\"#d8576b\"],[0.6666666666666666,\"#ed7953\"],[0.7777777777777778,\"#fb9f3a\"],[0.8888888888888888,\"#fdca26\"],[1.0,\"#f0f921\"]]}],\"surface\":[{\"type\":\"surface\",\"colorbar\":{\"outlinewidth\":0,\"ticks\":\"\"},\"colorscale\":[[0.0,\"#0d0887\"],[0.1111111111111111,\"#46039f\"],[0.2222222222222222,\"#7201a8\"],[0.3333333333333333,\"#9c179e\"],[0.4444444444444444,\"#bd3786\"],[0.5555555555555556,\"#d8576b\"],[0.6666666666666666,\"#ed7953\"],[0.7777777777777778,\"#fb9f3a\"],[0.8888888888888888,\"#fdca26\"],[1.0,\"#f0f921\"]]}],\"mesh3d\":[{\"type\":\"mesh3d\",\"colorbar\":{\"outlinewidth\":0,\"ticks\":\"\"}}],\"scatter\":[{\"marker\":{\"line\":{\"color\":\"#283442\"}},\"type\":\"scatter\"}],\"parcoords\":[{\"type\":\"parcoords\",\"line\":{\"colorbar\":{\"outlinewidth\":0,\"ticks\":\"\"}}}],\"scatterpolargl\":[{\"type\":\"scatterpolargl\",\"marker\":{\"colorbar\":{\"outlinewidth\":0,\"ticks\":\"\"}}}],\"bar\":[{\"error_x\":{\"color\":\"#f2f5fa\"},\"error_y\":{\"color\":\"#f2f5fa\"},\"marker\":{\"line\":{\"color\":\"rgb(17,17,17)\",\"width\":0.5},\"pattern\":{\"fillmode\":\"overlay\",\"size\":10,\"solidity\":0.2}},\"type\":\"bar\"}],\"scattergeo\":[{\"type\":\"scattergeo\",\"marker\":{\"colorbar\":{\"outlinewidth\":0,\"ticks\":\"\"}}}],\"scatterpolar\":[{\"type\":\"scatterpolar\",\"marker\":{\"colorbar\":{\"outlinewidth\":0,\"ticks\":\"\"}}}],\"histogram\":[{\"marker\":{\"pattern\":{\"fillmode\":\"overlay\",\"size\":10,\"solidity\":0.2}},\"type\":\"histogram\"}],\"scattergl\":[{\"marker\":{\"line\":{\"color\":\"#283442\"}},\"type\":\"scattergl\"}],\"scatter3d\":[{\"type\":\"scatter3d\",\"line\":{\"colorbar\":{\"outlinewidth\":0,\"ticks\":\"\"}},\"marker\":{\"colorbar\":{\"outlinewidth\":0,\"ticks\":\"\"}}}],\"scattermapbox\":[{\"type\":\"scattermapbox\",\"marker\":{\"colorbar\":{\"outlinewidth\":0,\"ticks\":\"\"}}}],\"scatterternary\":[{\"type\":\"scatterternary\",\"marker\":{\"colorbar\":{\"outlinewidth\":0,\"ticks\":\"\"}}}],\"scattercarpet\":[{\"type\":\"scattercarpet\",\"marker\":{\"colorbar\":{\"outlinewidth\":0,\"ticks\":\"\"}}}],\"carpet\":[{\"aaxis\":{\"endlinecolor\":\"#A2B1C6\",\"gridcolor\":\"#506784\",\"linecolor\":\"#506784\",\"minorgridcolor\":\"#506784\",\"startlinecolor\":\"#A2B1C6\"},\"baxis\":{\"endlinecolor\":\"#A2B1C6\",\"gridcolor\":\"#506784\",\"linecolor\":\"#506784\",\"minorgridcolor\":\"#506784\",\"startlinecolor\":\"#A2B1C6\"},\"type\":\"carpet\"}],\"table\":[{\"cells\":{\"fill\":{\"color\":\"#506784\"},\"line\":{\"color\":\"rgb(17,17,17)\"}},\"header\":{\"fill\":{\"color\":\"#2a3f5f\"},\"line\":{\"color\":\"rgb(17,17,17)\"}},\"type\":\"table\"}],\"barpolar\":[{\"marker\":{\"line\":{\"color\":\"rgb(17,17,17)\",\"width\":0.5},\"pattern\":{\"fillmode\":\"overlay\",\"size\":10,\"solidity\":0.2}},\"type\":\"barpolar\"}],\"pie\":[{\"automargin\":true,\"type\":\"pie\"}]},\"layout\":{\"autotypenumbers\":\"strict\",\"colorway\":[\"#636efa\",\"#EF553B\",\"#00cc96\",\"#ab63fa\",\"#FFA15A\",\"#19d3f3\",\"#FF6692\",\"#B6E880\",\"#FF97FF\",\"#FECB52\"],\"font\":{\"color\":\"#f2f5fa\"},\"hovermode\":\"closest\",\"hoverlabel\":{\"align\":\"left\"},\"paper_bgcolor\":\"rgb(17,17,17)\",\"plot_bgcolor\":\"rgb(17,17,17)\",\"polar\":{\"bgcolor\":\"rgb(17,17,17)\",\"angularaxis\":{\"gridcolor\":\"#506784\",\"linecolor\":\"#506784\",\"ticks\":\"\"},\"radialaxis\":{\"gridcolor\":\"#506784\",\"linecolor\":\"#506784\",\"ticks\":\"\"}},\"ternary\":{\"bgcolor\":\"rgb(17,17,17)\",\"aaxis\":{\"gridcolor\":\"#506784\",\"linecolor\":\"#506784\",\"ticks\":\"\"},\"baxis\":{\"gridcolor\":\"#506784\",\"linecolor\":\"#506784\",\"ticks\":\"\"},\"caxis\":{\"gridcolor\":\"#506784\",\"linecolor\":\"#506784\",\"ticks\":\"\"}},\"coloraxis\":{\"colorbar\":{\"outlinewidth\":0,\"ticks\":\"\"}},\"colorscale\":{\"sequential\":[[0.0,\"#0d0887\"],[0.1111111111111111,\"#46039f\"],[0.2222222222222222,\"#7201a8\"],[0.3333333333333333,\"#9c179e\"],[0.4444444444444444,\"#bd3786\"],[0.5555555555555556,\"#d8576b\"],[0.6666666666666666,\"#ed7953\"],[0.7777777777777778,\"#fb9f3a\"],[0.8888888888888888,\"#fdca26\"],[1.0,\"#f0f921\"]],\"sequentialminus\":[[0.0,\"#0d0887\"],[0.1111111111111111,\"#46039f\"],[0.2222222222222222,\"#7201a8\"],[0.3333333333333333,\"#9c179e\"],[0.4444444444444444,\"#bd3786\"],[0.5555555555555556,\"#d8576b\"],[0.6666666666666666,\"#ed7953\"],[0.7777777777777778,\"#fb9f3a\"],[0.8888888888888888,\"#fdca26\"],[1.0,\"#f0f921\"]],\"diverging\":[[0,\"#8e0152\"],[0.1,\"#c51b7d\"],[0.2,\"#de77ae\"],[0.3,\"#f1b6da\"],[0.4,\"#fde0ef\"],[0.5,\"#f7f7f7\"],[0.6,\"#e6f5d0\"],[0.7,\"#b8e186\"],[0.8,\"#7fbc41\"],[0.9,\"#4d9221\"],[1,\"#276419\"]]},\"xaxis\":{\"gridcolor\":\"#283442\",\"linecolor\":\"#506784\",\"ticks\":\"\",\"title\":{\"standoff\":15},\"zerolinecolor\":\"#283442\",\"automargin\":true,\"zerolinewidth\":2},\"yaxis\":{\"gridcolor\":\"#283442\",\"linecolor\":\"#506784\",\"ticks\":\"\",\"title\":{\"standoff\":15},\"zerolinecolor\":\"#283442\",\"automargin\":true,\"zerolinewidth\":2},\"scene\":{\"xaxis\":{\"backgroundcolor\":\"rgb(17,17,17)\",\"gridcolor\":\"#506784\",\"linecolor\":\"#506784\",\"showbackground\":true,\"ticks\":\"\",\"zerolinecolor\":\"#C8D4E3\",\"gridwidth\":2},\"yaxis\":{\"backgroundcolor\":\"rgb(17,17,17)\",\"gridcolor\":\"#506784\",\"linecolor\":\"#506784\",\"showbackground\":true,\"ticks\":\"\",\"zerolinecolor\":\"#C8D4E3\",\"gridwidth\":2},\"zaxis\":{\"backgroundcolor\":\"rgb(17,17,17)\",\"gridcolor\":\"#506784\",\"linecolor\":\"#506784\",\"showbackground\":true,\"ticks\":\"\",\"zerolinecolor\":\"#C8D4E3\",\"gridwidth\":2}},\"shapedefaults\":{\"line\":{\"color\":\"#f2f5fa\"}},\"annotationdefaults\":{\"arrowcolor\":\"#f2f5fa\",\"arrowhead\":0,\"arrowwidth\":1},\"geo\":{\"bgcolor\":\"rgb(17,17,17)\",\"landcolor\":\"rgb(17,17,17)\",\"subunitcolor\":\"#506784\",\"showland\":true,\"showlakes\":true,\"lakecolor\":\"rgb(17,17,17)\"},\"title\":{\"x\":0.05},\"updatemenudefaults\":{\"bgcolor\":\"#506784\",\"borderwidth\":0},\"sliderdefaults\":{\"bgcolor\":\"#C8D4E3\",\"borderwidth\":1,\"bordercolor\":\"rgb(17,17,17)\",\"tickwidth\":0},\"mapbox\":{\"style\":\"dark\"}}},\"xaxis\":{\"anchor\":\"y\",\"domain\":[0.0,1.0],\"title\":{\"text\":\"Temps en jours\"}},\"yaxis\":{\"anchor\":\"x\",\"domain\":[0.0,1.0],\"title\":{\"text\":\"Temps de parole en minutes\"}},\"legend\":{\"title\":{\"text\":\"Cha\\u00eene\"},\"tracegroupgap\":0},\"title\":{\"text\":\"Arthaud : \\u00c9volution du temps de parole en fonction du temps\"}},                        {\"responsive\": true}                    ).then(function(){\n                            \nvar gd = document.getElementById('c00f871a-0b53-4a61-beca-09c89000fd60');\nvar x = new MutationObserver(function (mutations, observer) {{\n        var display = window.getComputedStyle(gd).display;\n        if (!display || display === 'none') {{\n            console.log([gd, 'removed!']);\n            Plotly.purge(gd);\n            observer.disconnect();\n        }}\n}});\n\n// Listen for the removal of the full notebook cells\nvar notebookContainer = gd.closest('#notebook-container');\nif (notebookContainer) {{\n    x.observe(notebookContainer, {childList: true});\n}}\n\n// Listen for the clearing of the current output cell\nvar outputEl = gd.closest('.output');\nif (outputEl) {{\n    x.observe(outputEl, {childList: true});\n}}\n\n                        })                };                });            </script>        </div>"
     },
     "metadata": {},
     "output_type": "display_data"
    }
   ],
   "source": [
    "px.line(df_arthaud, x='Période', y=\"Somme\", color='Chaîne', labels={\n",
    "    \"Période\": \"Temps en jours\",\n",
    "    \"Somme\": \"Temps de parole en minutes\",\n",
    "    \"Chaîne\": \"Chaîne\"\n",
    "}, title=\"Arthaud : Évolution du temps de parole en fonction du temps\")\n"
   ],
   "metadata": {
    "collapsed": false,
    "pycharm": {
     "name": "#%%\n"
    }
   }
  },
  {
   "cell_type": "code",
   "execution_count": 23,
   "outputs": [
    {
     "data": {
      "application/vnd.plotly.v1+json": {
       "data": [
        {
         "hovertemplate": "Chaîne=France3<br>Temps en jours=%{x}<br>Temps de parole en minutes=%{y}<extra></extra>",
         "legendgroup": "France3",
         "line": {
          "color": "#636efa",
          "dash": "solid"
         },
         "marker": {
          "symbol": "circle"
         },
         "mode": "lines",
         "name": "France3",
         "orientation": "v",
         "showlegend": true,
         "x": [
          "2022-03-13T00:00:00",
          "2022-03-20T00:00:00",
          "2022-03-27T00:00:00",
          "2022-04-03T00:00:00",
          "2022-04-08T00:00:00"
         ],
         "xaxis": "x",
         "y": [
          0.0,
          0.0,
          8.433333333333334,
          1.4333333333333333,
          2.3833333333333333
         ],
         "yaxis": "y",
         "type": "scatter"
        },
        {
         "hovertemplate": "Chaîne=France5<br>Temps en jours=%{x}<br>Temps de parole en minutes=%{y}<extra></extra>",
         "legendgroup": "France5",
         "line": {
          "color": "#EF553B",
          "dash": "solid"
         },
         "marker": {
          "symbol": "circle"
         },
         "mode": "lines",
         "name": "France5",
         "orientation": "v",
         "showlegend": true,
         "x": [
          "2022-03-13T00:00:00",
          "2022-03-20T00:00:00",
          "2022-03-27T00:00:00",
          "2022-04-03T00:00:00",
          "2022-04-08T00:00:00"
         ],
         "xaxis": "x",
         "y": [
          16.633333333333333,
          18.666666666666668,
          18.733333333333334,
          7.533333333333333,
          11.95
         ],
         "yaxis": "y",
         "type": "scatter"
        },
        {
         "hovertemplate": "Chaîne=M6<br>Temps en jours=%{x}<br>Temps de parole en minutes=%{y}<extra></extra>",
         "legendgroup": "M6",
         "line": {
          "color": "#00cc96",
          "dash": "solid"
         },
         "marker": {
          "symbol": "circle"
         },
         "mode": "lines",
         "name": "M6",
         "orientation": "v",
         "showlegend": true,
         "x": [
          "2022-03-13T00:00:00",
          "2022-03-20T00:00:00",
          "2022-03-27T00:00:00",
          "2022-04-03T00:00:00",
          "2022-04-08T00:00:00"
         ],
         "xaxis": "x",
         "y": [
          0.11666666666666667,
          0.8166666666666667,
          2.75,
          1.8,
          2.9833333333333334
         ],
         "yaxis": "y",
         "type": "scatter"
        },
        {
         "hovertemplate": "Chaîne=TMC<br>Temps en jours=%{x}<br>Temps de parole en minutes=%{y}<extra></extra>",
         "legendgroup": "TMC",
         "line": {
          "color": "#ab63fa",
          "dash": "solid"
         },
         "marker": {
          "symbol": "circle"
         },
         "mode": "lines",
         "name": "TMC",
         "orientation": "v",
         "showlegend": true,
         "x": [
          "2022-03-13T00:00:00",
          "2022-03-20T00:00:00",
          "2022-03-27T00:00:00",
          "2022-04-03T00:00:00",
          "2022-04-08T00:00:00"
         ],
         "xaxis": "x",
         "y": [
          0.6166666666666667,
          1.1333333333333333,
          4.833333333333333,
          8.066666666666666,
          17.983333333333334
         ],
         "yaxis": "y",
         "type": "scatter"
        },
        {
         "hovertemplate": "Chaîne=BFMTV<br>Temps en jours=%{x}<br>Temps de parole en minutes=%{y}<extra></extra>",
         "legendgroup": "BFMTV",
         "line": {
          "color": "#FFA15A",
          "dash": "solid"
         },
         "marker": {
          "symbol": "circle"
         },
         "mode": "lines",
         "name": "BFMTV",
         "orientation": "v",
         "showlegend": true,
         "x": [
          "2022-03-13T00:00:00",
          "2022-03-20T00:00:00",
          "2022-03-27T00:00:00",
          "2022-04-03T00:00:00",
          "2022-04-08T00:00:00"
         ],
         "xaxis": "x",
         "y": [
          27.266666666666666,
          34.483333333333334,
          38.516666666666666,
          32.55,
          33.349999999999994
         ],
         "yaxis": "y",
         "type": "scatter"
        },
        {
         "hovertemplate": "Chaîne=Cnews<br>Temps en jours=%{x}<br>Temps de parole en minutes=%{y}<extra></extra>",
         "legendgroup": "Cnews",
         "line": {
          "color": "#19d3f3",
          "dash": "solid"
         },
         "marker": {
          "symbol": "circle"
         },
         "mode": "lines",
         "name": "Cnews",
         "orientation": "v",
         "showlegend": true,
         "x": [
          "2022-03-13T00:00:00",
          "2022-03-20T00:00:00",
          "2022-03-27T00:00:00",
          "2022-04-03T00:00:00",
          "2022-04-08T00:00:00"
         ],
         "xaxis": "x",
         "y": [
          54.400000000000006,
          66.86666666666667,
          84.28333333333333,
          20.21666666666667,
          78.86666666666666
         ],
         "yaxis": "y",
         "type": "scatter"
        },
        {
         "hovertemplate": "Chaîne=FranceInter<br>Temps en jours=%{x}<br>Temps de parole en minutes=%{y}<extra></extra>",
         "legendgroup": "FranceInter",
         "line": {
          "color": "#FF6692",
          "dash": "solid"
         },
         "marker": {
          "symbol": "circle"
         },
         "mode": "lines",
         "name": "FranceInter",
         "orientation": "v",
         "showlegend": true,
         "x": [
          "2022-03-13T00:00:00",
          "2022-03-20T00:00:00",
          "2022-03-27T00:00:00",
          "2022-04-03T00:00:00",
          "2022-04-08T00:00:00"
         ],
         "xaxis": "x",
         "y": [
          0.5333333333333333,
          1.6833333333333331,
          9.533333333333333,
          3.1833333333333336,
          13.05
         ],
         "yaxis": "y",
         "type": "scatter"
        },
        {
         "hovertemplate": "Chaîne=FranceInfo<br>Temps en jours=%{x}<br>Temps de parole en minutes=%{y}<extra></extra>",
         "legendgroup": "FranceInfo",
         "line": {
          "color": "#B6E880",
          "dash": "solid"
         },
         "marker": {
          "symbol": "circle"
         },
         "mode": "lines",
         "name": "FranceInfo",
         "orientation": "v",
         "showlegend": true,
         "x": [
          "2022-03-13T00:00:00",
          "2022-03-20T00:00:00",
          "2022-03-27T00:00:00",
          "2022-04-03T00:00:00",
          "2022-04-08T00:00:00"
         ],
         "xaxis": "x",
         "y": [
          0.5333333333333333,
          35.03333333333333,
          38.11666666666667,
          63.56666666666667,
          75.24999999999999
         ],
         "yaxis": "y",
         "type": "scatter"
        },
        {
         "hovertemplate": "Chaîne=FranceCulture<br>Temps en jours=%{x}<br>Temps de parole en minutes=%{y}<extra></extra>",
         "legendgroup": "FranceCulture",
         "line": {
          "color": "#FF97FF",
          "dash": "solid"
         },
         "marker": {
          "symbol": "circle"
         },
         "mode": "lines",
         "name": "FranceCulture",
         "orientation": "v",
         "showlegend": true,
         "x": [
          "2022-03-13T00:00:00",
          "2022-03-20T00:00:00",
          "2022-03-27T00:00:00",
          "2022-04-03T00:00:00",
          "2022-04-08T00:00:00"
         ],
         "xaxis": "x",
         "y": [
          0.0,
          0.7,
          2.033333333333333,
          10.950000000000001,
          11.55
         ],
         "yaxis": "y",
         "type": "scatter"
        },
        {
         "hovertemplate": "Chaîne=RMC<br>Temps en jours=%{x}<br>Temps de parole en minutes=%{y}<extra></extra>",
         "legendgroup": "RMC",
         "line": {
          "color": "#FECB52",
          "dash": "solid"
         },
         "marker": {
          "symbol": "circle"
         },
         "mode": "lines",
         "name": "RMC",
         "orientation": "v",
         "showlegend": true,
         "x": [
          "2022-03-13T00:00:00",
          "2022-03-20T00:00:00",
          "2022-03-27T00:00:00",
          "2022-04-03T00:00:00",
          "2022-04-08T00:00:00"
         ],
         "xaxis": "x",
         "y": [
          0.0,
          0.6833333333333333,
          13.333333333333334,
          3.5,
          17.383333333333333
         ],
         "yaxis": "y",
         "type": "scatter"
        },
        {
         "hovertemplate": "Chaîne=BFMBusiness<br>Temps en jours=%{x}<br>Temps de parole en minutes=%{y}<extra></extra>",
         "legendgroup": "BFMBusiness",
         "line": {
          "color": "#636efa",
          "dash": "solid"
         },
         "marker": {
          "symbol": "circle"
         },
         "mode": "lines",
         "name": "BFMBusiness",
         "orientation": "v",
         "showlegend": true,
         "x": [
          "2022-03-13T00:00:00",
          "2022-03-20T00:00:00",
          "2022-03-27T00:00:00"
         ],
         "xaxis": "x",
         "y": [
          1.0333333333333334,
          1.0333333333333334,
          3.6333333333333333
         ],
         "yaxis": "y",
         "type": "scatter"
        },
        {
         "hovertemplate": "Chaîne=Euronews<br>Temps en jours=%{x}<br>Temps de parole en minutes=%{y}<extra></extra>",
         "legendgroup": "Euronews",
         "line": {
          "color": "#EF553B",
          "dash": "solid"
         },
         "marker": {
          "symbol": "circle"
         },
         "mode": "lines",
         "name": "Euronews",
         "orientation": "v",
         "showlegend": true,
         "x": [
          "2022-03-13T00:00:00",
          "2022-03-20T00:00:00",
          "2022-03-27T00:00:00"
         ],
         "xaxis": "x",
         "y": [
          0.0,
          0.0,
          0.0
         ],
         "yaxis": "y",
         "type": "scatter"
        },
        {
         "hovertemplate": "Chaîne=RMC Story<br>Temps en jours=%{x}<br>Temps de parole en minutes=%{y}<extra></extra>",
         "legendgroup": "RMC Story",
         "line": {
          "color": "#00cc96",
          "dash": "solid"
         },
         "marker": {
          "symbol": "circle"
         },
         "mode": "lines",
         "name": "RMC Story",
         "orientation": "v",
         "showlegend": true,
         "x": [
          "2022-03-13T00:00:00",
          "2022-03-20T00:00:00",
          "2022-03-27T00:00:00",
          "2022-04-03T00:00:00",
          "2022-04-08T00:00:00"
         ],
         "xaxis": "x",
         "y": [
          0.0,
          0.4,
          8.833333333333334,
          1.2,
          7.4
         ],
         "yaxis": "y",
         "type": "scatter"
        },
        {
         "hovertemplate": "Chaîne=TF1<br>Temps en jours=%{x}<br>Temps de parole en minutes=%{y}<extra></extra>",
         "legendgroup": "TF1",
         "line": {
          "color": "#ab63fa",
          "dash": "solid"
         },
         "marker": {
          "symbol": "circle"
         },
         "mode": "lines",
         "name": "TF1",
         "orientation": "v",
         "showlegend": true,
         "x": [
          "2022-03-20T00:00:00",
          "2022-03-27T00:00:00",
          "2022-04-03T00:00:00",
          "2022-04-08T00:00:00"
         ],
         "xaxis": "x",
         "y": [
          4.516666666666667,
          5.05,
          9.683333333333334,
          10.65
         ],
         "yaxis": "y",
         "type": "scatter"
        },
        {
         "hovertemplate": "Chaîne=France2<br>Temps en jours=%{x}<br>Temps de parole en minutes=%{y}<extra></extra>",
         "legendgroup": "France2",
         "line": {
          "color": "#FFA15A",
          "dash": "solid"
         },
         "marker": {
          "symbol": "circle"
         },
         "mode": "lines",
         "name": "France2",
         "orientation": "v",
         "showlegend": true,
         "x": [
          "2022-03-20T00:00:00",
          "2022-03-27T00:00:00",
          "2022-04-03T00:00:00",
          "2022-04-08T00:00:00"
         ],
         "xaxis": "x",
         "y": [
          16.65,
          19.049999999999997,
          24.983333333333334,
          32.88333333333333
         ],
         "yaxis": "y",
         "type": "scatter"
        },
        {
         "hovertemplate": "Chaîne=C8<br>Temps en jours=%{x}<br>Temps de parole en minutes=%{y}<extra></extra>",
         "legendgroup": "C8",
         "line": {
          "color": "#19d3f3",
          "dash": "solid"
         },
         "marker": {
          "symbol": "circle"
         },
         "mode": "lines",
         "name": "C8",
         "orientation": "v",
         "showlegend": true,
         "x": [
          "2022-03-20T00:00:00",
          "2022-03-27T00:00:00",
          "2022-04-03T00:00:00",
          "2022-04-08T00:00:00"
         ],
         "xaxis": "x",
         "y": [
          9.4,
          12.433333333333334,
          5.816666666666666,
          9.15
         ],
         "yaxis": "y",
         "type": "scatter"
        },
        {
         "hovertemplate": "Chaîne=LCI<br>Temps en jours=%{x}<br>Temps de parole en minutes=%{y}<extra></extra>",
         "legendgroup": "LCI",
         "line": {
          "color": "#FF6692",
          "dash": "solid"
         },
         "marker": {
          "symbol": "circle"
         },
         "mode": "lines",
         "name": "LCI",
         "orientation": "v",
         "showlegend": true,
         "x": [
          "2022-03-20T00:00:00",
          "2022-03-27T00:00:00",
          "2022-04-03T00:00:00",
          "2022-04-08T00:00:00"
         ],
         "xaxis": "x",
         "y": [
          0.0,
          79.33333333333334,
          142.66666666666666,
          210.56666666666666
         ],
         "yaxis": "y",
         "type": "scatter"
        },
        {
         "hovertemplate": "Chaîne=FranceinfoTV<br>Temps en jours=%{x}<br>Temps de parole en minutes=%{y}<extra></extra>",
         "legendgroup": "FranceinfoTV",
         "line": {
          "color": "#B6E880",
          "dash": "solid"
         },
         "marker": {
          "symbol": "circle"
         },
         "mode": "lines",
         "name": "FranceinfoTV",
         "orientation": "v",
         "showlegend": true,
         "x": [
          "2022-03-20T00:00:00",
          "2022-03-27T00:00:00",
          "2022-04-03T00:00:00",
          "2022-04-08T00:00:00"
         ],
         "xaxis": "x",
         "y": [
          57.199999999999996,
          87.5,
          105.60000000000001,
          182.16666666666669
         ],
         "yaxis": "y",
         "type": "scatter"
        },
        {
         "hovertemplate": "Chaîne=RTL<br>Temps en jours=%{x}<br>Temps de parole en minutes=%{y}<extra></extra>",
         "legendgroup": "RTL",
         "line": {
          "color": "#FF97FF",
          "dash": "solid"
         },
         "marker": {
          "symbol": "circle"
         },
         "mode": "lines",
         "name": "RTL",
         "orientation": "v",
         "showlegend": true,
         "x": [
          "2022-03-20T00:00:00",
          "2022-03-27T00:00:00",
          "2022-04-03T00:00:00",
          "2022-04-08T00:00:00"
         ],
         "xaxis": "x",
         "y": [
          5.45,
          57.21666666666667,
          10.55,
          15.466666666666665
         ],
         "yaxis": "y",
         "type": "scatter"
        },
        {
         "hovertemplate": "Chaîne=Europe1<br>Temps en jours=%{x}<br>Temps de parole en minutes=%{y}<extra></extra>",
         "legendgroup": "Europe1",
         "line": {
          "color": "#FECB52",
          "dash": "solid"
         },
         "marker": {
          "symbol": "circle"
         },
         "mode": "lines",
         "name": "Europe1",
         "orientation": "v",
         "showlegend": true,
         "x": [
          "2022-03-20T00:00:00",
          "2022-03-27T00:00:00",
          "2022-04-03T00:00:00",
          "2022-04-08T00:00:00"
         ],
         "xaxis": "x",
         "y": [
          1.25,
          11.383333333333333,
          42.833333333333336,
          50.38333333333334
         ],
         "yaxis": "y",
         "type": "scatter"
        },
        {
         "hovertemplate": "Chaîne=RadioClassique<br>Temps en jours=%{x}<br>Temps de parole en minutes=%{y}<extra></extra>",
         "legendgroup": "RadioClassique",
         "line": {
          "color": "#636efa",
          "dash": "solid"
         },
         "marker": {
          "symbol": "circle"
         },
         "mode": "lines",
         "name": "RadioClassique",
         "orientation": "v",
         "showlegend": true,
         "x": [
          "2022-03-20T00:00:00",
          "2022-03-27T00:00:00",
          "2022-04-03T00:00:00",
          "2022-04-08T00:00:00"
         ],
         "xaxis": "x",
         "y": [
          0.0,
          0.6166666666666667,
          0.0,
          0.0
         ],
         "yaxis": "y",
         "type": "scatter"
        },
        {
         "hovertemplate": "Chaîne=SudRadio<br>Temps en jours=%{x}<br>Temps de parole en minutes=%{y}<extra></extra>",
         "legendgroup": "SudRadio",
         "line": {
          "color": "#EF553B",
          "dash": "solid"
         },
         "marker": {
          "symbol": "circle"
         },
         "mode": "lines",
         "name": "SudRadio",
         "orientation": "v",
         "showlegend": true,
         "x": [
          "2022-03-20T00:00:00",
          "2022-03-27T00:00:00",
          "2022-04-03T00:00:00",
          "2022-04-08T00:00:00"
         ],
         "xaxis": "x",
         "y": [
          0.0,
          1.1333333333333333,
          0.7666666666666666,
          1.6666666666666667
         ],
         "yaxis": "y",
         "type": "scatter"
        },
        {
         "hovertemplate": "Chaîne=TV5Monde<br>Temps en jours=%{x}<br>Temps de parole en minutes=%{y}<extra></extra>",
         "legendgroup": "TV5Monde",
         "line": {
          "color": "#00cc96",
          "dash": "solid"
         },
         "marker": {
          "symbol": "circle"
         },
         "mode": "lines",
         "name": "TV5Monde",
         "orientation": "v",
         "showlegend": true,
         "x": [
          "2022-03-20T00:00:00",
          "2022-03-27T00:00:00",
          "2022-04-03T00:00:00",
          "2022-04-08T00:00:00"
         ],
         "xaxis": "x",
         "y": [
          16.65,
          16.65,
          22.833333333333332,
          30.666666666666668
         ],
         "yaxis": "y",
         "type": "scatter"
        },
        {
         "hovertemplate": "Chaîne=RFI<br>Temps en jours=%{x}<br>Temps de parole en minutes=%{y}<extra></extra>",
         "legendgroup": "RFI",
         "line": {
          "color": "#ab63fa",
          "dash": "solid"
         },
         "marker": {
          "symbol": "circle"
         },
         "mode": "lines",
         "name": "RFI",
         "orientation": "v",
         "showlegend": true,
         "x": [
          "2022-03-20T00:00:00",
          "2022-03-27T00:00:00",
          "2022-04-03T00:00:00",
          "2022-04-08T00:00:00"
         ],
         "xaxis": "x",
         "y": [
          0.6166666666666667,
          11.100000000000001,
          10.95,
          28.98333333333333
         ],
         "yaxis": "y",
         "type": "scatter"
        },
        {
         "hovertemplate": "Chaîne=France24<br>Temps en jours=%{x}<br>Temps de parole en minutes=%{y}<extra></extra>",
         "legendgroup": "France24",
         "line": {
          "color": "#FFA15A",
          "dash": "solid"
         },
         "marker": {
          "symbol": "circle"
         },
         "mode": "lines",
         "name": "France24",
         "orientation": "v",
         "showlegend": true,
         "x": [
          "2022-03-20T00:00:00",
          "2022-03-27T00:00:00",
          "2022-04-03T00:00:00",
          "2022-04-08T00:00:00"
         ],
         "xaxis": "x",
         "y": [
          0.18333333333333332,
          11.75,
          10.516666666666667,
          19.21666666666667
         ],
         "yaxis": "y",
         "type": "scatter"
        },
        {
         "hovertemplate": "Chaîne=RMCDecouverte<br>Temps en jours=%{x}<br>Temps de parole en minutes=%{y}<extra></extra>",
         "legendgroup": "RMCDecouverte",
         "line": {
          "color": "#19d3f3",
          "dash": "solid"
         },
         "marker": {
          "symbol": "circle"
         },
         "mode": "lines",
         "name": "RMCDecouverte",
         "orientation": "v",
         "showlegend": true,
         "x": [
          "2022-03-27T00:00:00"
         ],
         "xaxis": "x",
         "y": [
          0.0
         ],
         "yaxis": "y",
         "type": "scatter"
        }
       ],
       "layout": {
        "template": {
         "data": {
          "histogram2dcontour": [
           {
            "type": "histogram2dcontour",
            "colorbar": {
             "outlinewidth": 0,
             "ticks": ""
            },
            "colorscale": [
             [
              0.0,
              "#0d0887"
             ],
             [
              0.1111111111111111,
              "#46039f"
             ],
             [
              0.2222222222222222,
              "#7201a8"
             ],
             [
              0.3333333333333333,
              "#9c179e"
             ],
             [
              0.4444444444444444,
              "#bd3786"
             ],
             [
              0.5555555555555556,
              "#d8576b"
             ],
             [
              0.6666666666666666,
              "#ed7953"
             ],
             [
              0.7777777777777778,
              "#fb9f3a"
             ],
             [
              0.8888888888888888,
              "#fdca26"
             ],
             [
              1.0,
              "#f0f921"
             ]
            ]
           }
          ],
          "choropleth": [
           {
            "type": "choropleth",
            "colorbar": {
             "outlinewidth": 0,
             "ticks": ""
            }
           }
          ],
          "histogram2d": [
           {
            "type": "histogram2d",
            "colorbar": {
             "outlinewidth": 0,
             "ticks": ""
            },
            "colorscale": [
             [
              0.0,
              "#0d0887"
             ],
             [
              0.1111111111111111,
              "#46039f"
             ],
             [
              0.2222222222222222,
              "#7201a8"
             ],
             [
              0.3333333333333333,
              "#9c179e"
             ],
             [
              0.4444444444444444,
              "#bd3786"
             ],
             [
              0.5555555555555556,
              "#d8576b"
             ],
             [
              0.6666666666666666,
              "#ed7953"
             ],
             [
              0.7777777777777778,
              "#fb9f3a"
             ],
             [
              0.8888888888888888,
              "#fdca26"
             ],
             [
              1.0,
              "#f0f921"
             ]
            ]
           }
          ],
          "heatmap": [
           {
            "type": "heatmap",
            "colorbar": {
             "outlinewidth": 0,
             "ticks": ""
            },
            "colorscale": [
             [
              0.0,
              "#0d0887"
             ],
             [
              0.1111111111111111,
              "#46039f"
             ],
             [
              0.2222222222222222,
              "#7201a8"
             ],
             [
              0.3333333333333333,
              "#9c179e"
             ],
             [
              0.4444444444444444,
              "#bd3786"
             ],
             [
              0.5555555555555556,
              "#d8576b"
             ],
             [
              0.6666666666666666,
              "#ed7953"
             ],
             [
              0.7777777777777778,
              "#fb9f3a"
             ],
             [
              0.8888888888888888,
              "#fdca26"
             ],
             [
              1.0,
              "#f0f921"
             ]
            ]
           }
          ],
          "heatmapgl": [
           {
            "type": "heatmapgl",
            "colorbar": {
             "outlinewidth": 0,
             "ticks": ""
            },
            "colorscale": [
             [
              0.0,
              "#0d0887"
             ],
             [
              0.1111111111111111,
              "#46039f"
             ],
             [
              0.2222222222222222,
              "#7201a8"
             ],
             [
              0.3333333333333333,
              "#9c179e"
             ],
             [
              0.4444444444444444,
              "#bd3786"
             ],
             [
              0.5555555555555556,
              "#d8576b"
             ],
             [
              0.6666666666666666,
              "#ed7953"
             ],
             [
              0.7777777777777778,
              "#fb9f3a"
             ],
             [
              0.8888888888888888,
              "#fdca26"
             ],
             [
              1.0,
              "#f0f921"
             ]
            ]
           }
          ],
          "contourcarpet": [
           {
            "type": "contourcarpet",
            "colorbar": {
             "outlinewidth": 0,
             "ticks": ""
            }
           }
          ],
          "contour": [
           {
            "type": "contour",
            "colorbar": {
             "outlinewidth": 0,
             "ticks": ""
            },
            "colorscale": [
             [
              0.0,
              "#0d0887"
             ],
             [
              0.1111111111111111,
              "#46039f"
             ],
             [
              0.2222222222222222,
              "#7201a8"
             ],
             [
              0.3333333333333333,
              "#9c179e"
             ],
             [
              0.4444444444444444,
              "#bd3786"
             ],
             [
              0.5555555555555556,
              "#d8576b"
             ],
             [
              0.6666666666666666,
              "#ed7953"
             ],
             [
              0.7777777777777778,
              "#fb9f3a"
             ],
             [
              0.8888888888888888,
              "#fdca26"
             ],
             [
              1.0,
              "#f0f921"
             ]
            ]
           }
          ],
          "surface": [
           {
            "type": "surface",
            "colorbar": {
             "outlinewidth": 0,
             "ticks": ""
            },
            "colorscale": [
             [
              0.0,
              "#0d0887"
             ],
             [
              0.1111111111111111,
              "#46039f"
             ],
             [
              0.2222222222222222,
              "#7201a8"
             ],
             [
              0.3333333333333333,
              "#9c179e"
             ],
             [
              0.4444444444444444,
              "#bd3786"
             ],
             [
              0.5555555555555556,
              "#d8576b"
             ],
             [
              0.6666666666666666,
              "#ed7953"
             ],
             [
              0.7777777777777778,
              "#fb9f3a"
             ],
             [
              0.8888888888888888,
              "#fdca26"
             ],
             [
              1.0,
              "#f0f921"
             ]
            ]
           }
          ],
          "mesh3d": [
           {
            "type": "mesh3d",
            "colorbar": {
             "outlinewidth": 0,
             "ticks": ""
            }
           }
          ],
          "scatter": [
           {
            "marker": {
             "line": {
              "color": "#283442"
             }
            },
            "type": "scatter"
           }
          ],
          "parcoords": [
           {
            "type": "parcoords",
            "line": {
             "colorbar": {
              "outlinewidth": 0,
              "ticks": ""
             }
            }
           }
          ],
          "scatterpolargl": [
           {
            "type": "scatterpolargl",
            "marker": {
             "colorbar": {
              "outlinewidth": 0,
              "ticks": ""
             }
            }
           }
          ],
          "bar": [
           {
            "error_x": {
             "color": "#f2f5fa"
            },
            "error_y": {
             "color": "#f2f5fa"
            },
            "marker": {
             "line": {
              "color": "rgb(17,17,17)",
              "width": 0.5
             },
             "pattern": {
              "fillmode": "overlay",
              "size": 10,
              "solidity": 0.2
             }
            },
            "type": "bar"
           }
          ],
          "scattergeo": [
           {
            "type": "scattergeo",
            "marker": {
             "colorbar": {
              "outlinewidth": 0,
              "ticks": ""
             }
            }
           }
          ],
          "scatterpolar": [
           {
            "type": "scatterpolar",
            "marker": {
             "colorbar": {
              "outlinewidth": 0,
              "ticks": ""
             }
            }
           }
          ],
          "histogram": [
           {
            "marker": {
             "pattern": {
              "fillmode": "overlay",
              "size": 10,
              "solidity": 0.2
             }
            },
            "type": "histogram"
           }
          ],
          "scattergl": [
           {
            "marker": {
             "line": {
              "color": "#283442"
             }
            },
            "type": "scattergl"
           }
          ],
          "scatter3d": [
           {
            "type": "scatter3d",
            "line": {
             "colorbar": {
              "outlinewidth": 0,
              "ticks": ""
             }
            },
            "marker": {
             "colorbar": {
              "outlinewidth": 0,
              "ticks": ""
             }
            }
           }
          ],
          "scattermapbox": [
           {
            "type": "scattermapbox",
            "marker": {
             "colorbar": {
              "outlinewidth": 0,
              "ticks": ""
             }
            }
           }
          ],
          "scatterternary": [
           {
            "type": "scatterternary",
            "marker": {
             "colorbar": {
              "outlinewidth": 0,
              "ticks": ""
             }
            }
           }
          ],
          "scattercarpet": [
           {
            "type": "scattercarpet",
            "marker": {
             "colorbar": {
              "outlinewidth": 0,
              "ticks": ""
             }
            }
           }
          ],
          "carpet": [
           {
            "aaxis": {
             "endlinecolor": "#A2B1C6",
             "gridcolor": "#506784",
             "linecolor": "#506784",
             "minorgridcolor": "#506784",
             "startlinecolor": "#A2B1C6"
            },
            "baxis": {
             "endlinecolor": "#A2B1C6",
             "gridcolor": "#506784",
             "linecolor": "#506784",
             "minorgridcolor": "#506784",
             "startlinecolor": "#A2B1C6"
            },
            "type": "carpet"
           }
          ],
          "table": [
           {
            "cells": {
             "fill": {
              "color": "#506784"
             },
             "line": {
              "color": "rgb(17,17,17)"
             }
            },
            "header": {
             "fill": {
              "color": "#2a3f5f"
             },
             "line": {
              "color": "rgb(17,17,17)"
             }
            },
            "type": "table"
           }
          ],
          "barpolar": [
           {
            "marker": {
             "line": {
              "color": "rgb(17,17,17)",
              "width": 0.5
             },
             "pattern": {
              "fillmode": "overlay",
              "size": 10,
              "solidity": 0.2
             }
            },
            "type": "barpolar"
           }
          ],
          "pie": [
           {
            "automargin": true,
            "type": "pie"
           }
          ]
         },
         "layout": {
          "autotypenumbers": "strict",
          "colorway": [
           "#636efa",
           "#EF553B",
           "#00cc96",
           "#ab63fa",
           "#FFA15A",
           "#19d3f3",
           "#FF6692",
           "#B6E880",
           "#FF97FF",
           "#FECB52"
          ],
          "font": {
           "color": "#f2f5fa"
          },
          "hovermode": "closest",
          "hoverlabel": {
           "align": "left"
          },
          "paper_bgcolor": "rgb(17,17,17)",
          "plot_bgcolor": "rgb(17,17,17)",
          "polar": {
           "bgcolor": "rgb(17,17,17)",
           "angularaxis": {
            "gridcolor": "#506784",
            "linecolor": "#506784",
            "ticks": ""
           },
           "radialaxis": {
            "gridcolor": "#506784",
            "linecolor": "#506784",
            "ticks": ""
           }
          },
          "ternary": {
           "bgcolor": "rgb(17,17,17)",
           "aaxis": {
            "gridcolor": "#506784",
            "linecolor": "#506784",
            "ticks": ""
           },
           "baxis": {
            "gridcolor": "#506784",
            "linecolor": "#506784",
            "ticks": ""
           },
           "caxis": {
            "gridcolor": "#506784",
            "linecolor": "#506784",
            "ticks": ""
           }
          },
          "coloraxis": {
           "colorbar": {
            "outlinewidth": 0,
            "ticks": ""
           }
          },
          "colorscale": {
           "sequential": [
            [
             0.0,
             "#0d0887"
            ],
            [
             0.1111111111111111,
             "#46039f"
            ],
            [
             0.2222222222222222,
             "#7201a8"
            ],
            [
             0.3333333333333333,
             "#9c179e"
            ],
            [
             0.4444444444444444,
             "#bd3786"
            ],
            [
             0.5555555555555556,
             "#d8576b"
            ],
            [
             0.6666666666666666,
             "#ed7953"
            ],
            [
             0.7777777777777778,
             "#fb9f3a"
            ],
            [
             0.8888888888888888,
             "#fdca26"
            ],
            [
             1.0,
             "#f0f921"
            ]
           ],
           "sequentialminus": [
            [
             0.0,
             "#0d0887"
            ],
            [
             0.1111111111111111,
             "#46039f"
            ],
            [
             0.2222222222222222,
             "#7201a8"
            ],
            [
             0.3333333333333333,
             "#9c179e"
            ],
            [
             0.4444444444444444,
             "#bd3786"
            ],
            [
             0.5555555555555556,
             "#d8576b"
            ],
            [
             0.6666666666666666,
             "#ed7953"
            ],
            [
             0.7777777777777778,
             "#fb9f3a"
            ],
            [
             0.8888888888888888,
             "#fdca26"
            ],
            [
             1.0,
             "#f0f921"
            ]
           ],
           "diverging": [
            [
             0,
             "#8e0152"
            ],
            [
             0.1,
             "#c51b7d"
            ],
            [
             0.2,
             "#de77ae"
            ],
            [
             0.3,
             "#f1b6da"
            ],
            [
             0.4,
             "#fde0ef"
            ],
            [
             0.5,
             "#f7f7f7"
            ],
            [
             0.6,
             "#e6f5d0"
            ],
            [
             0.7,
             "#b8e186"
            ],
            [
             0.8,
             "#7fbc41"
            ],
            [
             0.9,
             "#4d9221"
            ],
            [
             1,
             "#276419"
            ]
           ]
          },
          "xaxis": {
           "gridcolor": "#283442",
           "linecolor": "#506784",
           "ticks": "",
           "title": {
            "standoff": 15
           },
           "zerolinecolor": "#283442",
           "automargin": true,
           "zerolinewidth": 2
          },
          "yaxis": {
           "gridcolor": "#283442",
           "linecolor": "#506784",
           "ticks": "",
           "title": {
            "standoff": 15
           },
           "zerolinecolor": "#283442",
           "automargin": true,
           "zerolinewidth": 2
          },
          "scene": {
           "xaxis": {
            "backgroundcolor": "rgb(17,17,17)",
            "gridcolor": "#506784",
            "linecolor": "#506784",
            "showbackground": true,
            "ticks": "",
            "zerolinecolor": "#C8D4E3",
            "gridwidth": 2
           },
           "yaxis": {
            "backgroundcolor": "rgb(17,17,17)",
            "gridcolor": "#506784",
            "linecolor": "#506784",
            "showbackground": true,
            "ticks": "",
            "zerolinecolor": "#C8D4E3",
            "gridwidth": 2
           },
           "zaxis": {
            "backgroundcolor": "rgb(17,17,17)",
            "gridcolor": "#506784",
            "linecolor": "#506784",
            "showbackground": true,
            "ticks": "",
            "zerolinecolor": "#C8D4E3",
            "gridwidth": 2
           }
          },
          "shapedefaults": {
           "line": {
            "color": "#f2f5fa"
           }
          },
          "annotationdefaults": {
           "arrowcolor": "#f2f5fa",
           "arrowhead": 0,
           "arrowwidth": 1
          },
          "geo": {
           "bgcolor": "rgb(17,17,17)",
           "landcolor": "rgb(17,17,17)",
           "subunitcolor": "#506784",
           "showland": true,
           "showlakes": true,
           "lakecolor": "rgb(17,17,17)"
          },
          "title": {
           "x": 0.05
          },
          "updatemenudefaults": {
           "bgcolor": "#506784",
           "borderwidth": 0
          },
          "sliderdefaults": {
           "bgcolor": "#C8D4E3",
           "borderwidth": 1,
           "bordercolor": "rgb(17,17,17)",
           "tickwidth": 0
          },
          "mapbox": {
           "style": "dark"
          }
         }
        },
        "xaxis": {
         "anchor": "y",
         "domain": [
          0.0,
          1.0
         ],
         "title": {
          "text": "Temps en jours"
         }
        },
        "yaxis": {
         "anchor": "x",
         "domain": [
          0.0,
          1.0
         ],
         "title": {
          "text": "Temps de parole en minutes"
         }
        },
        "legend": {
         "title": {
          "text": "Chaîne"
         },
         "tracegroupgap": 0
        },
        "title": {
         "text": "Dupont-Aignant : Évolution du temps de parole en fonction du temps"
        }
       },
       "config": {
        "plotlyServerURL": "https://plot.ly"
       }
      },
      "text/html": "<div>                            <div id=\"4bfd714f-296f-49a9-a368-955088854035\" class=\"plotly-graph-div\" style=\"height:525px; width:100%;\"></div>            <script type=\"text/javascript\">                require([\"plotly\"], function(Plotly) {                    window.PLOTLYENV=window.PLOTLYENV || {};                                    if (document.getElementById(\"4bfd714f-296f-49a9-a368-955088854035\")) {                    Plotly.newPlot(                        \"4bfd714f-296f-49a9-a368-955088854035\",                        [{\"hovertemplate\":\"Cha\\u00eene=France3<br>Temps en jours=%{x}<br>Temps de parole en minutes=%{y}<extra></extra>\",\"legendgroup\":\"France3\",\"line\":{\"color\":\"#636efa\",\"dash\":\"solid\"},\"marker\":{\"symbol\":\"circle\"},\"mode\":\"lines\",\"name\":\"France3\",\"orientation\":\"v\",\"showlegend\":true,\"x\":[\"2022-03-13T00:00:00\",\"2022-03-20T00:00:00\",\"2022-03-27T00:00:00\",\"2022-04-03T00:00:00\",\"2022-04-08T00:00:00\"],\"xaxis\":\"x\",\"y\":[0.0,0.0,8.433333333333334,1.4333333333333333,2.3833333333333333],\"yaxis\":\"y\",\"type\":\"scatter\"},{\"hovertemplate\":\"Cha\\u00eene=France5<br>Temps en jours=%{x}<br>Temps de parole en minutes=%{y}<extra></extra>\",\"legendgroup\":\"France5\",\"line\":{\"color\":\"#EF553B\",\"dash\":\"solid\"},\"marker\":{\"symbol\":\"circle\"},\"mode\":\"lines\",\"name\":\"France5\",\"orientation\":\"v\",\"showlegend\":true,\"x\":[\"2022-03-13T00:00:00\",\"2022-03-20T00:00:00\",\"2022-03-27T00:00:00\",\"2022-04-03T00:00:00\",\"2022-04-08T00:00:00\"],\"xaxis\":\"x\",\"y\":[16.633333333333333,18.666666666666668,18.733333333333334,7.533333333333333,11.95],\"yaxis\":\"y\",\"type\":\"scatter\"},{\"hovertemplate\":\"Cha\\u00eene=M6<br>Temps en jours=%{x}<br>Temps de parole en minutes=%{y}<extra></extra>\",\"legendgroup\":\"M6\",\"line\":{\"color\":\"#00cc96\",\"dash\":\"solid\"},\"marker\":{\"symbol\":\"circle\"},\"mode\":\"lines\",\"name\":\"M6\",\"orientation\":\"v\",\"showlegend\":true,\"x\":[\"2022-03-13T00:00:00\",\"2022-03-20T00:00:00\",\"2022-03-27T00:00:00\",\"2022-04-03T00:00:00\",\"2022-04-08T00:00:00\"],\"xaxis\":\"x\",\"y\":[0.11666666666666667,0.8166666666666667,2.75,1.8,2.9833333333333334],\"yaxis\":\"y\",\"type\":\"scatter\"},{\"hovertemplate\":\"Cha\\u00eene=TMC<br>Temps en jours=%{x}<br>Temps de parole en minutes=%{y}<extra></extra>\",\"legendgroup\":\"TMC\",\"line\":{\"color\":\"#ab63fa\",\"dash\":\"solid\"},\"marker\":{\"symbol\":\"circle\"},\"mode\":\"lines\",\"name\":\"TMC\",\"orientation\":\"v\",\"showlegend\":true,\"x\":[\"2022-03-13T00:00:00\",\"2022-03-20T00:00:00\",\"2022-03-27T00:00:00\",\"2022-04-03T00:00:00\",\"2022-04-08T00:00:00\"],\"xaxis\":\"x\",\"y\":[0.6166666666666667,1.1333333333333333,4.833333333333333,8.066666666666666,17.983333333333334],\"yaxis\":\"y\",\"type\":\"scatter\"},{\"hovertemplate\":\"Cha\\u00eene=BFMTV<br>Temps en jours=%{x}<br>Temps de parole en minutes=%{y}<extra></extra>\",\"legendgroup\":\"BFMTV\",\"line\":{\"color\":\"#FFA15A\",\"dash\":\"solid\"},\"marker\":{\"symbol\":\"circle\"},\"mode\":\"lines\",\"name\":\"BFMTV\",\"orientation\":\"v\",\"showlegend\":true,\"x\":[\"2022-03-13T00:00:00\",\"2022-03-20T00:00:00\",\"2022-03-27T00:00:00\",\"2022-04-03T00:00:00\",\"2022-04-08T00:00:00\"],\"xaxis\":\"x\",\"y\":[27.266666666666666,34.483333333333334,38.516666666666666,32.55,33.349999999999994],\"yaxis\":\"y\",\"type\":\"scatter\"},{\"hovertemplate\":\"Cha\\u00eene=Cnews<br>Temps en jours=%{x}<br>Temps de parole en minutes=%{y}<extra></extra>\",\"legendgroup\":\"Cnews\",\"line\":{\"color\":\"#19d3f3\",\"dash\":\"solid\"},\"marker\":{\"symbol\":\"circle\"},\"mode\":\"lines\",\"name\":\"Cnews\",\"orientation\":\"v\",\"showlegend\":true,\"x\":[\"2022-03-13T00:00:00\",\"2022-03-20T00:00:00\",\"2022-03-27T00:00:00\",\"2022-04-03T00:00:00\",\"2022-04-08T00:00:00\"],\"xaxis\":\"x\",\"y\":[54.400000000000006,66.86666666666667,84.28333333333333,20.21666666666667,78.86666666666666],\"yaxis\":\"y\",\"type\":\"scatter\"},{\"hovertemplate\":\"Cha\\u00eene=FranceInter<br>Temps en jours=%{x}<br>Temps de parole en minutes=%{y}<extra></extra>\",\"legendgroup\":\"FranceInter\",\"line\":{\"color\":\"#FF6692\",\"dash\":\"solid\"},\"marker\":{\"symbol\":\"circle\"},\"mode\":\"lines\",\"name\":\"FranceInter\",\"orientation\":\"v\",\"showlegend\":true,\"x\":[\"2022-03-13T00:00:00\",\"2022-03-20T00:00:00\",\"2022-03-27T00:00:00\",\"2022-04-03T00:00:00\",\"2022-04-08T00:00:00\"],\"xaxis\":\"x\",\"y\":[0.5333333333333333,1.6833333333333331,9.533333333333333,3.1833333333333336,13.05],\"yaxis\":\"y\",\"type\":\"scatter\"},{\"hovertemplate\":\"Cha\\u00eene=FranceInfo<br>Temps en jours=%{x}<br>Temps de parole en minutes=%{y}<extra></extra>\",\"legendgroup\":\"FranceInfo\",\"line\":{\"color\":\"#B6E880\",\"dash\":\"solid\"},\"marker\":{\"symbol\":\"circle\"},\"mode\":\"lines\",\"name\":\"FranceInfo\",\"orientation\":\"v\",\"showlegend\":true,\"x\":[\"2022-03-13T00:00:00\",\"2022-03-20T00:00:00\",\"2022-03-27T00:00:00\",\"2022-04-03T00:00:00\",\"2022-04-08T00:00:00\"],\"xaxis\":\"x\",\"y\":[0.5333333333333333,35.03333333333333,38.11666666666667,63.56666666666667,75.24999999999999],\"yaxis\":\"y\",\"type\":\"scatter\"},{\"hovertemplate\":\"Cha\\u00eene=FranceCulture<br>Temps en jours=%{x}<br>Temps de parole en minutes=%{y}<extra></extra>\",\"legendgroup\":\"FranceCulture\",\"line\":{\"color\":\"#FF97FF\",\"dash\":\"solid\"},\"marker\":{\"symbol\":\"circle\"},\"mode\":\"lines\",\"name\":\"FranceCulture\",\"orientation\":\"v\",\"showlegend\":true,\"x\":[\"2022-03-13T00:00:00\",\"2022-03-20T00:00:00\",\"2022-03-27T00:00:00\",\"2022-04-03T00:00:00\",\"2022-04-08T00:00:00\"],\"xaxis\":\"x\",\"y\":[0.0,0.7,2.033333333333333,10.950000000000001,11.55],\"yaxis\":\"y\",\"type\":\"scatter\"},{\"hovertemplate\":\"Cha\\u00eene=RMC<br>Temps en jours=%{x}<br>Temps de parole en minutes=%{y}<extra></extra>\",\"legendgroup\":\"RMC\",\"line\":{\"color\":\"#FECB52\",\"dash\":\"solid\"},\"marker\":{\"symbol\":\"circle\"},\"mode\":\"lines\",\"name\":\"RMC\",\"orientation\":\"v\",\"showlegend\":true,\"x\":[\"2022-03-13T00:00:00\",\"2022-03-20T00:00:00\",\"2022-03-27T00:00:00\",\"2022-04-03T00:00:00\",\"2022-04-08T00:00:00\"],\"xaxis\":\"x\",\"y\":[0.0,0.6833333333333333,13.333333333333334,3.5,17.383333333333333],\"yaxis\":\"y\",\"type\":\"scatter\"},{\"hovertemplate\":\"Cha\\u00eene=BFMBusiness<br>Temps en jours=%{x}<br>Temps de parole en minutes=%{y}<extra></extra>\",\"legendgroup\":\"BFMBusiness\",\"line\":{\"color\":\"#636efa\",\"dash\":\"solid\"},\"marker\":{\"symbol\":\"circle\"},\"mode\":\"lines\",\"name\":\"BFMBusiness\",\"orientation\":\"v\",\"showlegend\":true,\"x\":[\"2022-03-13T00:00:00\",\"2022-03-20T00:00:00\",\"2022-03-27T00:00:00\"],\"xaxis\":\"x\",\"y\":[1.0333333333333334,1.0333333333333334,3.6333333333333333],\"yaxis\":\"y\",\"type\":\"scatter\"},{\"hovertemplate\":\"Cha\\u00eene=Euronews<br>Temps en jours=%{x}<br>Temps de parole en minutes=%{y}<extra></extra>\",\"legendgroup\":\"Euronews\",\"line\":{\"color\":\"#EF553B\",\"dash\":\"solid\"},\"marker\":{\"symbol\":\"circle\"},\"mode\":\"lines\",\"name\":\"Euronews\",\"orientation\":\"v\",\"showlegend\":true,\"x\":[\"2022-03-13T00:00:00\",\"2022-03-20T00:00:00\",\"2022-03-27T00:00:00\"],\"xaxis\":\"x\",\"y\":[0.0,0.0,0.0],\"yaxis\":\"y\",\"type\":\"scatter\"},{\"hovertemplate\":\"Cha\\u00eene=RMC Story<br>Temps en jours=%{x}<br>Temps de parole en minutes=%{y}<extra></extra>\",\"legendgroup\":\"RMC Story\",\"line\":{\"color\":\"#00cc96\",\"dash\":\"solid\"},\"marker\":{\"symbol\":\"circle\"},\"mode\":\"lines\",\"name\":\"RMC Story\",\"orientation\":\"v\",\"showlegend\":true,\"x\":[\"2022-03-13T00:00:00\",\"2022-03-20T00:00:00\",\"2022-03-27T00:00:00\",\"2022-04-03T00:00:00\",\"2022-04-08T00:00:00\"],\"xaxis\":\"x\",\"y\":[0.0,0.4,8.833333333333334,1.2,7.4],\"yaxis\":\"y\",\"type\":\"scatter\"},{\"hovertemplate\":\"Cha\\u00eene=TF1<br>Temps en jours=%{x}<br>Temps de parole en minutes=%{y}<extra></extra>\",\"legendgroup\":\"TF1\",\"line\":{\"color\":\"#ab63fa\",\"dash\":\"solid\"},\"marker\":{\"symbol\":\"circle\"},\"mode\":\"lines\",\"name\":\"TF1\",\"orientation\":\"v\",\"showlegend\":true,\"x\":[\"2022-03-20T00:00:00\",\"2022-03-27T00:00:00\",\"2022-04-03T00:00:00\",\"2022-04-08T00:00:00\"],\"xaxis\":\"x\",\"y\":[4.516666666666667,5.05,9.683333333333334,10.65],\"yaxis\":\"y\",\"type\":\"scatter\"},{\"hovertemplate\":\"Cha\\u00eene=France2<br>Temps en jours=%{x}<br>Temps de parole en minutes=%{y}<extra></extra>\",\"legendgroup\":\"France2\",\"line\":{\"color\":\"#FFA15A\",\"dash\":\"solid\"},\"marker\":{\"symbol\":\"circle\"},\"mode\":\"lines\",\"name\":\"France2\",\"orientation\":\"v\",\"showlegend\":true,\"x\":[\"2022-03-20T00:00:00\",\"2022-03-27T00:00:00\",\"2022-04-03T00:00:00\",\"2022-04-08T00:00:00\"],\"xaxis\":\"x\",\"y\":[16.65,19.049999999999997,24.983333333333334,32.88333333333333],\"yaxis\":\"y\",\"type\":\"scatter\"},{\"hovertemplate\":\"Cha\\u00eene=C8<br>Temps en jours=%{x}<br>Temps de parole en minutes=%{y}<extra></extra>\",\"legendgroup\":\"C8\",\"line\":{\"color\":\"#19d3f3\",\"dash\":\"solid\"},\"marker\":{\"symbol\":\"circle\"},\"mode\":\"lines\",\"name\":\"C8\",\"orientation\":\"v\",\"showlegend\":true,\"x\":[\"2022-03-20T00:00:00\",\"2022-03-27T00:00:00\",\"2022-04-03T00:00:00\",\"2022-04-08T00:00:00\"],\"xaxis\":\"x\",\"y\":[9.4,12.433333333333334,5.816666666666666,9.15],\"yaxis\":\"y\",\"type\":\"scatter\"},{\"hovertemplate\":\"Cha\\u00eene=LCI<br>Temps en jours=%{x}<br>Temps de parole en minutes=%{y}<extra></extra>\",\"legendgroup\":\"LCI\",\"line\":{\"color\":\"#FF6692\",\"dash\":\"solid\"},\"marker\":{\"symbol\":\"circle\"},\"mode\":\"lines\",\"name\":\"LCI\",\"orientation\":\"v\",\"showlegend\":true,\"x\":[\"2022-03-20T00:00:00\",\"2022-03-27T00:00:00\",\"2022-04-03T00:00:00\",\"2022-04-08T00:00:00\"],\"xaxis\":\"x\",\"y\":[0.0,79.33333333333334,142.66666666666666,210.56666666666666],\"yaxis\":\"y\",\"type\":\"scatter\"},{\"hovertemplate\":\"Cha\\u00eene=FranceinfoTV<br>Temps en jours=%{x}<br>Temps de parole en minutes=%{y}<extra></extra>\",\"legendgroup\":\"FranceinfoTV\",\"line\":{\"color\":\"#B6E880\",\"dash\":\"solid\"},\"marker\":{\"symbol\":\"circle\"},\"mode\":\"lines\",\"name\":\"FranceinfoTV\",\"orientation\":\"v\",\"showlegend\":true,\"x\":[\"2022-03-20T00:00:00\",\"2022-03-27T00:00:00\",\"2022-04-03T00:00:00\",\"2022-04-08T00:00:00\"],\"xaxis\":\"x\",\"y\":[57.199999999999996,87.5,105.60000000000001,182.16666666666669],\"yaxis\":\"y\",\"type\":\"scatter\"},{\"hovertemplate\":\"Cha\\u00eene=RTL<br>Temps en jours=%{x}<br>Temps de parole en minutes=%{y}<extra></extra>\",\"legendgroup\":\"RTL\",\"line\":{\"color\":\"#FF97FF\",\"dash\":\"solid\"},\"marker\":{\"symbol\":\"circle\"},\"mode\":\"lines\",\"name\":\"RTL\",\"orientation\":\"v\",\"showlegend\":true,\"x\":[\"2022-03-20T00:00:00\",\"2022-03-27T00:00:00\",\"2022-04-03T00:00:00\",\"2022-04-08T00:00:00\"],\"xaxis\":\"x\",\"y\":[5.45,57.21666666666667,10.55,15.466666666666665],\"yaxis\":\"y\",\"type\":\"scatter\"},{\"hovertemplate\":\"Cha\\u00eene=Europe1<br>Temps en jours=%{x}<br>Temps de parole en minutes=%{y}<extra></extra>\",\"legendgroup\":\"Europe1\",\"line\":{\"color\":\"#FECB52\",\"dash\":\"solid\"},\"marker\":{\"symbol\":\"circle\"},\"mode\":\"lines\",\"name\":\"Europe1\",\"orientation\":\"v\",\"showlegend\":true,\"x\":[\"2022-03-20T00:00:00\",\"2022-03-27T00:00:00\",\"2022-04-03T00:00:00\",\"2022-04-08T00:00:00\"],\"xaxis\":\"x\",\"y\":[1.25,11.383333333333333,42.833333333333336,50.38333333333334],\"yaxis\":\"y\",\"type\":\"scatter\"},{\"hovertemplate\":\"Cha\\u00eene=RadioClassique<br>Temps en jours=%{x}<br>Temps de parole en minutes=%{y}<extra></extra>\",\"legendgroup\":\"RadioClassique\",\"line\":{\"color\":\"#636efa\",\"dash\":\"solid\"},\"marker\":{\"symbol\":\"circle\"},\"mode\":\"lines\",\"name\":\"RadioClassique\",\"orientation\":\"v\",\"showlegend\":true,\"x\":[\"2022-03-20T00:00:00\",\"2022-03-27T00:00:00\",\"2022-04-03T00:00:00\",\"2022-04-08T00:00:00\"],\"xaxis\":\"x\",\"y\":[0.0,0.6166666666666667,0.0,0.0],\"yaxis\":\"y\",\"type\":\"scatter\"},{\"hovertemplate\":\"Cha\\u00eene=SudRadio<br>Temps en jours=%{x}<br>Temps de parole en minutes=%{y}<extra></extra>\",\"legendgroup\":\"SudRadio\",\"line\":{\"color\":\"#EF553B\",\"dash\":\"solid\"},\"marker\":{\"symbol\":\"circle\"},\"mode\":\"lines\",\"name\":\"SudRadio\",\"orientation\":\"v\",\"showlegend\":true,\"x\":[\"2022-03-20T00:00:00\",\"2022-03-27T00:00:00\",\"2022-04-03T00:00:00\",\"2022-04-08T00:00:00\"],\"xaxis\":\"x\",\"y\":[0.0,1.1333333333333333,0.7666666666666666,1.6666666666666667],\"yaxis\":\"y\",\"type\":\"scatter\"},{\"hovertemplate\":\"Cha\\u00eene=TV5Monde<br>Temps en jours=%{x}<br>Temps de parole en minutes=%{y}<extra></extra>\",\"legendgroup\":\"TV5Monde\",\"line\":{\"color\":\"#00cc96\",\"dash\":\"solid\"},\"marker\":{\"symbol\":\"circle\"},\"mode\":\"lines\",\"name\":\"TV5Monde\",\"orientation\":\"v\",\"showlegend\":true,\"x\":[\"2022-03-20T00:00:00\",\"2022-03-27T00:00:00\",\"2022-04-03T00:00:00\",\"2022-04-08T00:00:00\"],\"xaxis\":\"x\",\"y\":[16.65,16.65,22.833333333333332,30.666666666666668],\"yaxis\":\"y\",\"type\":\"scatter\"},{\"hovertemplate\":\"Cha\\u00eene=RFI<br>Temps en jours=%{x}<br>Temps de parole en minutes=%{y}<extra></extra>\",\"legendgroup\":\"RFI\",\"line\":{\"color\":\"#ab63fa\",\"dash\":\"solid\"},\"marker\":{\"symbol\":\"circle\"},\"mode\":\"lines\",\"name\":\"RFI\",\"orientation\":\"v\",\"showlegend\":true,\"x\":[\"2022-03-20T00:00:00\",\"2022-03-27T00:00:00\",\"2022-04-03T00:00:00\",\"2022-04-08T00:00:00\"],\"xaxis\":\"x\",\"y\":[0.6166666666666667,11.100000000000001,10.95,28.98333333333333],\"yaxis\":\"y\",\"type\":\"scatter\"},{\"hovertemplate\":\"Cha\\u00eene=France24<br>Temps en jours=%{x}<br>Temps de parole en minutes=%{y}<extra></extra>\",\"legendgroup\":\"France24\",\"line\":{\"color\":\"#FFA15A\",\"dash\":\"solid\"},\"marker\":{\"symbol\":\"circle\"},\"mode\":\"lines\",\"name\":\"France24\",\"orientation\":\"v\",\"showlegend\":true,\"x\":[\"2022-03-20T00:00:00\",\"2022-03-27T00:00:00\",\"2022-04-03T00:00:00\",\"2022-04-08T00:00:00\"],\"xaxis\":\"x\",\"y\":[0.18333333333333332,11.75,10.516666666666667,19.21666666666667],\"yaxis\":\"y\",\"type\":\"scatter\"},{\"hovertemplate\":\"Cha\\u00eene=RMCDecouverte<br>Temps en jours=%{x}<br>Temps de parole en minutes=%{y}<extra></extra>\",\"legendgroup\":\"RMCDecouverte\",\"line\":{\"color\":\"#19d3f3\",\"dash\":\"solid\"},\"marker\":{\"symbol\":\"circle\"},\"mode\":\"lines\",\"name\":\"RMCDecouverte\",\"orientation\":\"v\",\"showlegend\":true,\"x\":[\"2022-03-27T00:00:00\"],\"xaxis\":\"x\",\"y\":[0.0],\"yaxis\":\"y\",\"type\":\"scatter\"}],                        {\"template\":{\"data\":{\"histogram2dcontour\":[{\"type\":\"histogram2dcontour\",\"colorbar\":{\"outlinewidth\":0,\"ticks\":\"\"},\"colorscale\":[[0.0,\"#0d0887\"],[0.1111111111111111,\"#46039f\"],[0.2222222222222222,\"#7201a8\"],[0.3333333333333333,\"#9c179e\"],[0.4444444444444444,\"#bd3786\"],[0.5555555555555556,\"#d8576b\"],[0.6666666666666666,\"#ed7953\"],[0.7777777777777778,\"#fb9f3a\"],[0.8888888888888888,\"#fdca26\"],[1.0,\"#f0f921\"]]}],\"choropleth\":[{\"type\":\"choropleth\",\"colorbar\":{\"outlinewidth\":0,\"ticks\":\"\"}}],\"histogram2d\":[{\"type\":\"histogram2d\",\"colorbar\":{\"outlinewidth\":0,\"ticks\":\"\"},\"colorscale\":[[0.0,\"#0d0887\"],[0.1111111111111111,\"#46039f\"],[0.2222222222222222,\"#7201a8\"],[0.3333333333333333,\"#9c179e\"],[0.4444444444444444,\"#bd3786\"],[0.5555555555555556,\"#d8576b\"],[0.6666666666666666,\"#ed7953\"],[0.7777777777777778,\"#fb9f3a\"],[0.8888888888888888,\"#fdca26\"],[1.0,\"#f0f921\"]]}],\"heatmap\":[{\"type\":\"heatmap\",\"colorbar\":{\"outlinewidth\":0,\"ticks\":\"\"},\"colorscale\":[[0.0,\"#0d0887\"],[0.1111111111111111,\"#46039f\"],[0.2222222222222222,\"#7201a8\"],[0.3333333333333333,\"#9c179e\"],[0.4444444444444444,\"#bd3786\"],[0.5555555555555556,\"#d8576b\"],[0.6666666666666666,\"#ed7953\"],[0.7777777777777778,\"#fb9f3a\"],[0.8888888888888888,\"#fdca26\"],[1.0,\"#f0f921\"]]}],\"heatmapgl\":[{\"type\":\"heatmapgl\",\"colorbar\":{\"outlinewidth\":0,\"ticks\":\"\"},\"colorscale\":[[0.0,\"#0d0887\"],[0.1111111111111111,\"#46039f\"],[0.2222222222222222,\"#7201a8\"],[0.3333333333333333,\"#9c179e\"],[0.4444444444444444,\"#bd3786\"],[0.5555555555555556,\"#d8576b\"],[0.6666666666666666,\"#ed7953\"],[0.7777777777777778,\"#fb9f3a\"],[0.8888888888888888,\"#fdca26\"],[1.0,\"#f0f921\"]]}],\"contourcarpet\":[{\"type\":\"contourcarpet\",\"colorbar\":{\"outlinewidth\":0,\"ticks\":\"\"}}],\"contour\":[{\"type\":\"contour\",\"colorbar\":{\"outlinewidth\":0,\"ticks\":\"\"},\"colorscale\":[[0.0,\"#0d0887\"],[0.1111111111111111,\"#46039f\"],[0.2222222222222222,\"#7201a8\"],[0.3333333333333333,\"#9c179e\"],[0.4444444444444444,\"#bd3786\"],[0.5555555555555556,\"#d8576b\"],[0.6666666666666666,\"#ed7953\"],[0.7777777777777778,\"#fb9f3a\"],[0.8888888888888888,\"#fdca26\"],[1.0,\"#f0f921\"]]}],\"surface\":[{\"type\":\"surface\",\"colorbar\":{\"outlinewidth\":0,\"ticks\":\"\"},\"colorscale\":[[0.0,\"#0d0887\"],[0.1111111111111111,\"#46039f\"],[0.2222222222222222,\"#7201a8\"],[0.3333333333333333,\"#9c179e\"],[0.4444444444444444,\"#bd3786\"],[0.5555555555555556,\"#d8576b\"],[0.6666666666666666,\"#ed7953\"],[0.7777777777777778,\"#fb9f3a\"],[0.8888888888888888,\"#fdca26\"],[1.0,\"#f0f921\"]]}],\"mesh3d\":[{\"type\":\"mesh3d\",\"colorbar\":{\"outlinewidth\":0,\"ticks\":\"\"}}],\"scatter\":[{\"marker\":{\"line\":{\"color\":\"#283442\"}},\"type\":\"scatter\"}],\"parcoords\":[{\"type\":\"parcoords\",\"line\":{\"colorbar\":{\"outlinewidth\":0,\"ticks\":\"\"}}}],\"scatterpolargl\":[{\"type\":\"scatterpolargl\",\"marker\":{\"colorbar\":{\"outlinewidth\":0,\"ticks\":\"\"}}}],\"bar\":[{\"error_x\":{\"color\":\"#f2f5fa\"},\"error_y\":{\"color\":\"#f2f5fa\"},\"marker\":{\"line\":{\"color\":\"rgb(17,17,17)\",\"width\":0.5},\"pattern\":{\"fillmode\":\"overlay\",\"size\":10,\"solidity\":0.2}},\"type\":\"bar\"}],\"scattergeo\":[{\"type\":\"scattergeo\",\"marker\":{\"colorbar\":{\"outlinewidth\":0,\"ticks\":\"\"}}}],\"scatterpolar\":[{\"type\":\"scatterpolar\",\"marker\":{\"colorbar\":{\"outlinewidth\":0,\"ticks\":\"\"}}}],\"histogram\":[{\"marker\":{\"pattern\":{\"fillmode\":\"overlay\",\"size\":10,\"solidity\":0.2}},\"type\":\"histogram\"}],\"scattergl\":[{\"marker\":{\"line\":{\"color\":\"#283442\"}},\"type\":\"scattergl\"}],\"scatter3d\":[{\"type\":\"scatter3d\",\"line\":{\"colorbar\":{\"outlinewidth\":0,\"ticks\":\"\"}},\"marker\":{\"colorbar\":{\"outlinewidth\":0,\"ticks\":\"\"}}}],\"scattermapbox\":[{\"type\":\"scattermapbox\",\"marker\":{\"colorbar\":{\"outlinewidth\":0,\"ticks\":\"\"}}}],\"scatterternary\":[{\"type\":\"scatterternary\",\"marker\":{\"colorbar\":{\"outlinewidth\":0,\"ticks\":\"\"}}}],\"scattercarpet\":[{\"type\":\"scattercarpet\",\"marker\":{\"colorbar\":{\"outlinewidth\":0,\"ticks\":\"\"}}}],\"carpet\":[{\"aaxis\":{\"endlinecolor\":\"#A2B1C6\",\"gridcolor\":\"#506784\",\"linecolor\":\"#506784\",\"minorgridcolor\":\"#506784\",\"startlinecolor\":\"#A2B1C6\"},\"baxis\":{\"endlinecolor\":\"#A2B1C6\",\"gridcolor\":\"#506784\",\"linecolor\":\"#506784\",\"minorgridcolor\":\"#506784\",\"startlinecolor\":\"#A2B1C6\"},\"type\":\"carpet\"}],\"table\":[{\"cells\":{\"fill\":{\"color\":\"#506784\"},\"line\":{\"color\":\"rgb(17,17,17)\"}},\"header\":{\"fill\":{\"color\":\"#2a3f5f\"},\"line\":{\"color\":\"rgb(17,17,17)\"}},\"type\":\"table\"}],\"barpolar\":[{\"marker\":{\"line\":{\"color\":\"rgb(17,17,17)\",\"width\":0.5},\"pattern\":{\"fillmode\":\"overlay\",\"size\":10,\"solidity\":0.2}},\"type\":\"barpolar\"}],\"pie\":[{\"automargin\":true,\"type\":\"pie\"}]},\"layout\":{\"autotypenumbers\":\"strict\",\"colorway\":[\"#636efa\",\"#EF553B\",\"#00cc96\",\"#ab63fa\",\"#FFA15A\",\"#19d3f3\",\"#FF6692\",\"#B6E880\",\"#FF97FF\",\"#FECB52\"],\"font\":{\"color\":\"#f2f5fa\"},\"hovermode\":\"closest\",\"hoverlabel\":{\"align\":\"left\"},\"paper_bgcolor\":\"rgb(17,17,17)\",\"plot_bgcolor\":\"rgb(17,17,17)\",\"polar\":{\"bgcolor\":\"rgb(17,17,17)\",\"angularaxis\":{\"gridcolor\":\"#506784\",\"linecolor\":\"#506784\",\"ticks\":\"\"},\"radialaxis\":{\"gridcolor\":\"#506784\",\"linecolor\":\"#506784\",\"ticks\":\"\"}},\"ternary\":{\"bgcolor\":\"rgb(17,17,17)\",\"aaxis\":{\"gridcolor\":\"#506784\",\"linecolor\":\"#506784\",\"ticks\":\"\"},\"baxis\":{\"gridcolor\":\"#506784\",\"linecolor\":\"#506784\",\"ticks\":\"\"},\"caxis\":{\"gridcolor\":\"#506784\",\"linecolor\":\"#506784\",\"ticks\":\"\"}},\"coloraxis\":{\"colorbar\":{\"outlinewidth\":0,\"ticks\":\"\"}},\"colorscale\":{\"sequential\":[[0.0,\"#0d0887\"],[0.1111111111111111,\"#46039f\"],[0.2222222222222222,\"#7201a8\"],[0.3333333333333333,\"#9c179e\"],[0.4444444444444444,\"#bd3786\"],[0.5555555555555556,\"#d8576b\"],[0.6666666666666666,\"#ed7953\"],[0.7777777777777778,\"#fb9f3a\"],[0.8888888888888888,\"#fdca26\"],[1.0,\"#f0f921\"]],\"sequentialminus\":[[0.0,\"#0d0887\"],[0.1111111111111111,\"#46039f\"],[0.2222222222222222,\"#7201a8\"],[0.3333333333333333,\"#9c179e\"],[0.4444444444444444,\"#bd3786\"],[0.5555555555555556,\"#d8576b\"],[0.6666666666666666,\"#ed7953\"],[0.7777777777777778,\"#fb9f3a\"],[0.8888888888888888,\"#fdca26\"],[1.0,\"#f0f921\"]],\"diverging\":[[0,\"#8e0152\"],[0.1,\"#c51b7d\"],[0.2,\"#de77ae\"],[0.3,\"#f1b6da\"],[0.4,\"#fde0ef\"],[0.5,\"#f7f7f7\"],[0.6,\"#e6f5d0\"],[0.7,\"#b8e186\"],[0.8,\"#7fbc41\"],[0.9,\"#4d9221\"],[1,\"#276419\"]]},\"xaxis\":{\"gridcolor\":\"#283442\",\"linecolor\":\"#506784\",\"ticks\":\"\",\"title\":{\"standoff\":15},\"zerolinecolor\":\"#283442\",\"automargin\":true,\"zerolinewidth\":2},\"yaxis\":{\"gridcolor\":\"#283442\",\"linecolor\":\"#506784\",\"ticks\":\"\",\"title\":{\"standoff\":15},\"zerolinecolor\":\"#283442\",\"automargin\":true,\"zerolinewidth\":2},\"scene\":{\"xaxis\":{\"backgroundcolor\":\"rgb(17,17,17)\",\"gridcolor\":\"#506784\",\"linecolor\":\"#506784\",\"showbackground\":true,\"ticks\":\"\",\"zerolinecolor\":\"#C8D4E3\",\"gridwidth\":2},\"yaxis\":{\"backgroundcolor\":\"rgb(17,17,17)\",\"gridcolor\":\"#506784\",\"linecolor\":\"#506784\",\"showbackground\":true,\"ticks\":\"\",\"zerolinecolor\":\"#C8D4E3\",\"gridwidth\":2},\"zaxis\":{\"backgroundcolor\":\"rgb(17,17,17)\",\"gridcolor\":\"#506784\",\"linecolor\":\"#506784\",\"showbackground\":true,\"ticks\":\"\",\"zerolinecolor\":\"#C8D4E3\",\"gridwidth\":2}},\"shapedefaults\":{\"line\":{\"color\":\"#f2f5fa\"}},\"annotationdefaults\":{\"arrowcolor\":\"#f2f5fa\",\"arrowhead\":0,\"arrowwidth\":1},\"geo\":{\"bgcolor\":\"rgb(17,17,17)\",\"landcolor\":\"rgb(17,17,17)\",\"subunitcolor\":\"#506784\",\"showland\":true,\"showlakes\":true,\"lakecolor\":\"rgb(17,17,17)\"},\"title\":{\"x\":0.05},\"updatemenudefaults\":{\"bgcolor\":\"#506784\",\"borderwidth\":0},\"sliderdefaults\":{\"bgcolor\":\"#C8D4E3\",\"borderwidth\":1,\"bordercolor\":\"rgb(17,17,17)\",\"tickwidth\":0},\"mapbox\":{\"style\":\"dark\"}}},\"xaxis\":{\"anchor\":\"y\",\"domain\":[0.0,1.0],\"title\":{\"text\":\"Temps en jours\"}},\"yaxis\":{\"anchor\":\"x\",\"domain\":[0.0,1.0],\"title\":{\"text\":\"Temps de parole en minutes\"}},\"legend\":{\"title\":{\"text\":\"Cha\\u00eene\"},\"tracegroupgap\":0},\"title\":{\"text\":\"Dupont-Aignant : \\u00c9volution du temps de parole en fonction du temps\"}},                        {\"responsive\": true}                    ).then(function(){\n                            \nvar gd = document.getElementById('4bfd714f-296f-49a9-a368-955088854035');\nvar x = new MutationObserver(function (mutations, observer) {{\n        var display = window.getComputedStyle(gd).display;\n        if (!display || display === 'none') {{\n            console.log([gd, 'removed!']);\n            Plotly.purge(gd);\n            observer.disconnect();\n        }}\n}});\n\n// Listen for the removal of the full notebook cells\nvar notebookContainer = gd.closest('#notebook-container');\nif (notebookContainer) {{\n    x.observe(notebookContainer, {childList: true});\n}}\n\n// Listen for the clearing of the current output cell\nvar outputEl = gd.closest('.output');\nif (outputEl) {{\n    x.observe(outputEl, {childList: true});\n}}\n\n                        })                };                });            </script>        </div>"
     },
     "metadata": {},
     "output_type": "display_data"
    }
   ],
   "source": [
    "px.line(df_dupont, x='Période', y=\"Somme\", color='Chaîne', labels={\n",
    "    \"Période\": \"Temps en jours\",\n",
    "    \"Somme\": \"Temps de parole en minutes\",\n",
    "    \"Chaîne\": \"Chaîne\"\n",
    "}, title=\"Dupont-Aignant : Évolution du temps de parole en fonction du temps\")\n"
   ],
   "metadata": {
    "collapsed": false,
    "pycharm": {
     "name": "#%%\n"
    }
   }
  },
  {
   "cell_type": "code",
   "execution_count": 24,
   "outputs": [
    {
     "data": {
      "application/vnd.plotly.v1+json": {
       "data": [
        {
         "hovertemplate": "Chaîne=TF1<br>Temps en jours=%{x}<br>Temps de parole en minutes=%{y}<extra></extra>",
         "legendgroup": "TF1",
         "line": {
          "color": "#636efa",
          "dash": "solid"
         },
         "marker": {
          "symbol": "circle"
         },
         "mode": "lines",
         "name": "TF1",
         "orientation": "v",
         "showlegend": true,
         "x": [
          "2022-03-13T00:00:00",
          "2022-03-20T00:00:00",
          "2022-03-27T00:00:00",
          "2022-04-03T00:00:00",
          "2022-04-08T00:00:00"
         ],
         "xaxis": "x",
         "y": [
          0.0,
          16.8,
          17.46666666666667,
          0.6833333333333333,
          10.8
         ],
         "yaxis": "y",
         "type": "scatter"
        },
        {
         "hovertemplate": "Chaîne=France2<br>Temps en jours=%{x}<br>Temps de parole en minutes=%{y}<extra></extra>",
         "legendgroup": "France2",
         "line": {
          "color": "#EF553B",
          "dash": "solid"
         },
         "marker": {
          "symbol": "circle"
         },
         "mode": "lines",
         "name": "France2",
         "orientation": "v",
         "showlegend": true,
         "x": [
          "2022-03-13T00:00:00",
          "2022-03-20T00:00:00",
          "2022-03-27T00:00:00",
          "2022-04-03T00:00:00",
          "2022-04-08T00:00:00"
         ],
         "xaxis": "x",
         "y": [
          0.0,
          42.483333333333334,
          54.65,
          0.5833333333333334,
          32.81666666666667
         ],
         "yaxis": "y",
         "type": "scatter"
        },
        {
         "hovertemplate": "Chaîne=France3<br>Temps en jours=%{x}<br>Temps de parole en minutes=%{y}<extra></extra>",
         "legendgroup": "France3",
         "line": {
          "color": "#00cc96",
          "dash": "solid"
         },
         "marker": {
          "symbol": "circle"
         },
         "mode": "lines",
         "name": "France3",
         "orientation": "v",
         "showlegend": true,
         "x": [
          "2022-03-13T00:00:00",
          "2022-03-20T00:00:00",
          "2022-03-27T00:00:00",
          "2022-04-03T00:00:00",
          "2022-04-08T00:00:00"
         ],
         "xaxis": "x",
         "y": [
          19.099999999999998,
          19.299999999999997,
          20.066666666666666,
          0.85,
          2.3833333333333333
         ],
         "yaxis": "y",
         "type": "scatter"
        },
        {
         "hovertemplate": "Chaîne=France5<br>Temps en jours=%{x}<br>Temps de parole en minutes=%{y}<extra></extra>",
         "legendgroup": "France5",
         "line": {
          "color": "#ab63fa",
          "dash": "solid"
         },
         "marker": {
          "symbol": "circle"
         },
         "mode": "lines",
         "name": "France5",
         "orientation": "v",
         "showlegend": true,
         "x": [
          "2022-03-13T00:00:00",
          "2022-03-20T00:00:00",
          "2022-03-27T00:00:00",
          "2022-04-03T00:00:00",
          "2022-04-08T00:00:00"
         ],
         "xaxis": "x",
         "y": [
          0.6,
          3.05,
          18.65,
          6.15,
          11.5
         ],
         "yaxis": "y",
         "type": "scatter"
        },
        {
         "hovertemplate": "Chaîne=M6<br>Temps en jours=%{x}<br>Temps de parole en minutes=%{y}<extra></extra>",
         "legendgroup": "M6",
         "line": {
          "color": "#FFA15A",
          "dash": "solid"
         },
         "marker": {
          "symbol": "circle"
         },
         "mode": "lines",
         "name": "M6",
         "orientation": "v",
         "showlegend": true,
         "x": [
          "2022-03-13T00:00:00",
          "2022-03-20T00:00:00",
          "2022-03-27T00:00:00",
          "2022-04-03T00:00:00",
          "2022-04-08T00:00:00"
         ],
         "xaxis": "x",
         "y": [
          1.5166666666666666,
          1.9,
          6.416666666666666,
          2.35,
          3.033333333333333
         ],
         "yaxis": "y",
         "type": "scatter"
        },
        {
         "hovertemplate": "Chaîne=TMC<br>Temps en jours=%{x}<br>Temps de parole en minutes=%{y}<extra></extra>",
         "legendgroup": "TMC",
         "line": {
          "color": "#19d3f3",
          "dash": "solid"
         },
         "marker": {
          "symbol": "circle"
         },
         "mode": "lines",
         "name": "TMC",
         "orientation": "v",
         "showlegend": true,
         "x": [
          "2022-03-13T00:00:00",
          "2022-03-20T00:00:00",
          "2022-03-27T00:00:00",
          "2022-04-03T00:00:00",
          "2022-04-08T00:00:00"
         ],
         "xaxis": "x",
         "y": [
          0.9833333333333333,
          3.85,
          8.383333333333333,
          7.216666666666667,
          17.933333333333334
         ],
         "yaxis": "y",
         "type": "scatter"
        },
        {
         "hovertemplate": "Chaîne=BFMTV<br>Temps en jours=%{x}<br>Temps de parole en minutes=%{y}<extra></extra>",
         "legendgroup": "BFMTV",
         "line": {
          "color": "#FF6692",
          "dash": "solid"
         },
         "marker": {
          "symbol": "circle"
         },
         "mode": "lines",
         "name": "BFMTV",
         "orientation": "v",
         "showlegend": true,
         "x": [
          "2022-03-13T00:00:00",
          "2022-03-20T00:00:00",
          "2022-03-27T00:00:00",
          "2022-04-03T00:00:00",
          "2022-04-08T00:00:00"
         ],
         "xaxis": "x",
         "y": [
          10.016666666666666,
          51.916666666666664,
          129.61666666666665,
          1.1,
          33.35
         ],
         "yaxis": "y",
         "type": "scatter"
        },
        {
         "hovertemplate": "Chaîne=Cnews<br>Temps en jours=%{x}<br>Temps de parole en minutes=%{y}<extra></extra>",
         "legendgroup": "Cnews",
         "line": {
          "color": "#B6E880",
          "dash": "solid"
         },
         "marker": {
          "symbol": "circle"
         },
         "mode": "lines",
         "name": "Cnews",
         "orientation": "v",
         "showlegend": true,
         "x": [
          "2022-03-13T00:00:00",
          "2022-03-20T00:00:00",
          "2022-03-27T00:00:00",
          "2022-04-03T00:00:00",
          "2022-04-08T00:00:00"
         ],
         "xaxis": "x",
         "y": [
          78.85000000000001,
          103.73333333333333,
          253.38333333333333,
          64.73333333333333,
          76.36666666666666
         ],
         "yaxis": "y",
         "type": "scatter"
        },
        {
         "hovertemplate": "Chaîne=LCI<br>Temps en jours=%{x}<br>Temps de parole en minutes=%{y}<extra></extra>",
         "legendgroup": "LCI",
         "line": {
          "color": "#FF97FF",
          "dash": "solid"
         },
         "marker": {
          "symbol": "circle"
         },
         "mode": "lines",
         "name": "LCI",
         "orientation": "v",
         "showlegend": true,
         "x": [
          "2022-03-13T00:00:00",
          "2022-03-20T00:00:00",
          "2022-03-27T00:00:00",
          "2022-04-03T00:00:00",
          "2022-04-08T00:00:00"
         ],
         "xaxis": "x",
         "y": [
          1.1666666666666667,
          37.1,
          175.96666666666664,
          203.66666666666669,
          210.56666666666666
         ],
         "yaxis": "y",
         "type": "scatter"
        },
        {
         "hovertemplate": "Chaîne=FranceinfoTV<br>Temps en jours=%{x}<br>Temps de parole en minutes=%{y}<extra></extra>",
         "legendgroup": "FranceinfoTV",
         "line": {
          "color": "#FECB52",
          "dash": "solid"
         },
         "marker": {
          "symbol": "circle"
         },
         "mode": "lines",
         "name": "FranceinfoTV",
         "orientation": "v",
         "showlegend": true,
         "x": [
          "2022-03-13T00:00:00",
          "2022-03-20T00:00:00",
          "2022-03-27T00:00:00",
          "2022-04-03T00:00:00",
          "2022-04-08T00:00:00"
         ],
         "xaxis": "x",
         "y": [
          11.966666666666667,
          35.36666666666667,
          141.85,
          96.33333333333333,
          183.98333333333332
         ],
         "yaxis": "y",
         "type": "scatter"
        },
        {
         "hovertemplate": "Chaîne=FranceInter<br>Temps en jours=%{x}<br>Temps de parole en minutes=%{y}<extra></extra>",
         "legendgroup": "FranceInter",
         "line": {
          "color": "#636efa",
          "dash": "solid"
         },
         "marker": {
          "symbol": "circle"
         },
         "mode": "lines",
         "name": "FranceInter",
         "orientation": "v",
         "showlegend": true,
         "x": [
          "2022-03-13T00:00:00",
          "2022-03-20T00:00:00",
          "2022-03-27T00:00:00",
          "2022-04-03T00:00:00",
          "2022-04-08T00:00:00"
         ],
         "xaxis": "x",
         "y": [
          2.3833333333333333,
          4.483333333333333,
          19.016666666666666,
          5.066666666666666,
          13.283333333333331
         ],
         "yaxis": "y",
         "type": "scatter"
        },
        {
         "hovertemplate": "Chaîne=FranceInfo<br>Temps en jours=%{x}<br>Temps de parole en minutes=%{y}<extra></extra>",
         "legendgroup": "FranceInfo",
         "line": {
          "color": "#EF553B",
          "dash": "solid"
         },
         "marker": {
          "symbol": "circle"
         },
         "mode": "lines",
         "name": "FranceInfo",
         "orientation": "v",
         "showlegend": true,
         "x": [
          "2022-03-13T00:00:00",
          "2022-03-20T00:00:00",
          "2022-03-27T00:00:00",
          "2022-04-03T00:00:00",
          "2022-04-08T00:00:00"
         ],
         "xaxis": "x",
         "y": [
          2.3833333333333333,
          42.55,
          84.83333333333333,
          37.016666666666666,
          76.33333333333333
         ],
         "yaxis": "y",
         "type": "scatter"
        },
        {
         "hovertemplate": "Chaîne=FranceCulture<br>Temps en jours=%{x}<br>Temps de parole en minutes=%{y}<extra></extra>",
         "legendgroup": "FranceCulture",
         "line": {
          "color": "#00cc96",
          "dash": "solid"
         },
         "marker": {
          "symbol": "circle"
         },
         "mode": "lines",
         "name": "FranceCulture",
         "orientation": "v",
         "showlegend": true,
         "x": [
          "2022-03-13T00:00:00",
          "2022-03-20T00:00:00",
          "2022-03-27T00:00:00",
          "2022-04-03T00:00:00",
          "2022-04-08T00:00:00"
         ],
         "xaxis": "x",
         "y": [
          0.4166666666666667,
          0.9333333333333333,
          21.433333333333334,
          10.783333333333333,
          11.1
         ],
         "yaxis": "y",
         "type": "scatter"
        },
        {
         "hovertemplate": "Chaîne=RTL<br>Temps en jours=%{x}<br>Temps de parole en minutes=%{y}<extra></extra>",
         "legendgroup": "RTL",
         "line": {
          "color": "#ab63fa",
          "dash": "solid"
         },
         "marker": {
          "symbol": "circle"
         },
         "mode": "lines",
         "name": "RTL",
         "orientation": "v",
         "showlegend": true,
         "x": [
          "2022-03-13T00:00:00",
          "2022-03-20T00:00:00",
          "2022-03-27T00:00:00",
          "2022-04-03T00:00:00",
          "2022-04-08T00:00:00"
         ],
         "xaxis": "x",
         "y": [
          1.1333333333333333,
          70.35000000000001,
          71.95,
          10.266666666666667,
          15.450000000000001
         ],
         "yaxis": "y",
         "type": "scatter"
        },
        {
         "hovertemplate": "Chaîne=Europe1<br>Temps en jours=%{x}<br>Temps de parole en minutes=%{y}<extra></extra>",
         "legendgroup": "Europe1",
         "line": {
          "color": "#FFA15A",
          "dash": "solid"
         },
         "marker": {
          "symbol": "circle"
         },
         "mode": "lines",
         "name": "Europe1",
         "orientation": "v",
         "showlegend": true,
         "x": [
          "2022-03-13T00:00:00",
          "2022-03-20T00:00:00",
          "2022-03-27T00:00:00",
          "2022-04-03T00:00:00",
          "2022-04-08T00:00:00"
         ],
         "xaxis": "x",
         "y": [
          35.65,
          37.36666666666667,
          38.61666666666667,
          2.2333333333333334,
          48.86666666666667
         ],
         "yaxis": "y",
         "type": "scatter"
        },
        {
         "hovertemplate": "Chaîne=RMC<br>Temps en jours=%{x}<br>Temps de parole en minutes=%{y}<extra></extra>",
         "legendgroup": "RMC",
         "line": {
          "color": "#19d3f3",
          "dash": "solid"
         },
         "marker": {
          "symbol": "circle"
         },
         "mode": "lines",
         "name": "RMC",
         "orientation": "v",
         "showlegend": true,
         "x": [
          "2022-03-13T00:00:00",
          "2022-03-20T00:00:00",
          "2022-03-27T00:00:00",
          "2022-04-03T00:00:00",
          "2022-04-08T00:00:00"
         ],
         "xaxis": "x",
         "y": [
          1.1833333333333333,
          17.183333333333334,
          52.53333333333333,
          3.0,
          17.766666666666666
         ],
         "yaxis": "y",
         "type": "scatter"
        },
        {
         "hovertemplate": "Chaîne=BFMBusiness<br>Temps en jours=%{x}<br>Temps de parole en minutes=%{y}<extra></extra>",
         "legendgroup": "BFMBusiness",
         "line": {
          "color": "#FF6692",
          "dash": "solid"
         },
         "marker": {
          "symbol": "circle"
         },
         "mode": "lines",
         "name": "BFMBusiness",
         "orientation": "v",
         "showlegend": true,
         "x": [
          "2022-03-13T00:00:00",
          "2022-03-20T00:00:00",
          "2022-03-27T00:00:00"
         ],
         "xaxis": "x",
         "y": [
          1.4333333333333333,
          1.9833333333333334,
          12.116666666666667
         ],
         "yaxis": "y",
         "type": "scatter"
        },
        {
         "hovertemplate": "Chaîne=RadioClassique<br>Temps en jours=%{x}<br>Temps de parole en minutes=%{y}<extra></extra>",
         "legendgroup": "RadioClassique",
         "line": {
          "color": "#B6E880",
          "dash": "solid"
         },
         "marker": {
          "symbol": "circle"
         },
         "mode": "lines",
         "name": "RadioClassique",
         "orientation": "v",
         "showlegend": true,
         "x": [
          "2022-03-13T00:00:00",
          "2022-03-20T00:00:00",
          "2022-03-27T00:00:00",
          "2022-04-03T00:00:00",
          "2022-04-08T00:00:00"
         ],
         "xaxis": "x",
         "y": [
          0.0,
          0.0,
          0.75,
          0.0,
          0.0
         ],
         "yaxis": "y",
         "type": "scatter"
        },
        {
         "hovertemplate": "Chaîne=SudRadio<br>Temps en jours=%{x}<br>Temps de parole en minutes=%{y}<extra></extra>",
         "legendgroup": "SudRadio",
         "line": {
          "color": "#FF97FF",
          "dash": "solid"
         },
         "marker": {
          "symbol": "circle"
         },
         "mode": "lines",
         "name": "SudRadio",
         "orientation": "v",
         "showlegend": true,
         "x": [
          "2022-03-13T00:00:00",
          "2022-03-20T00:00:00",
          "2022-03-27T00:00:00",
          "2022-04-03T00:00:00",
          "2022-04-08T00:00:00"
         ],
         "xaxis": "x",
         "y": [
          4.4,
          10.4,
          11.0,
          0.7666666666666666,
          1.6666666666666667
         ],
         "yaxis": "y",
         "type": "scatter"
        },
        {
         "hovertemplate": "Chaîne=TV5Monde<br>Temps en jours=%{x}<br>Temps de parole en minutes=%{y}<extra></extra>",
         "legendgroup": "TV5Monde",
         "line": {
          "color": "#FECB52",
          "dash": "solid"
         },
         "marker": {
          "symbol": "circle"
         },
         "mode": "lines",
         "name": "TV5Monde",
         "orientation": "v",
         "showlegend": true,
         "x": [
          "2022-03-13T00:00:00",
          "2022-03-20T00:00:00",
          "2022-03-27T00:00:00",
          "2022-04-03T00:00:00",
          "2022-04-08T00:00:00"
         ],
         "xaxis": "x",
         "y": [
          0.0,
          42.483333333333334,
          43.15,
          0.5833333333333334,
          32.083333333333336
         ],
         "yaxis": "y",
         "type": "scatter"
        },
        {
         "hovertemplate": "Chaîne=Euronews<br>Temps en jours=%{x}<br>Temps de parole en minutes=%{y}<extra></extra>",
         "legendgroup": "Euronews",
         "line": {
          "color": "#636efa",
          "dash": "solid"
         },
         "marker": {
          "symbol": "circle"
         },
         "mode": "lines",
         "name": "Euronews",
         "orientation": "v",
         "showlegend": true,
         "x": [
          "2022-03-13T00:00:00",
          "2022-03-20T00:00:00",
          "2022-03-27T00:00:00"
         ],
         "xaxis": "x",
         "y": [
          0.0,
          0.0,
          0.0
         ],
         "yaxis": "y",
         "type": "scatter"
        },
        {
         "hovertemplate": "Chaîne=RFI<br>Temps en jours=%{x}<br>Temps de parole en minutes=%{y}<extra></extra>",
         "legendgroup": "RFI",
         "line": {
          "color": "#EF553B",
          "dash": "solid"
         },
         "marker": {
          "symbol": "circle"
         },
         "mode": "lines",
         "name": "RFI",
         "orientation": "v",
         "showlegend": true,
         "x": [
          "2022-03-13T00:00:00",
          "2022-03-20T00:00:00",
          "2022-03-27T00:00:00",
          "2022-04-03T00:00:00",
          "2022-04-08T00:00:00"
         ],
         "xaxis": "x",
         "y": [
          0.0,
          8.0,
          24.46666666666667,
          5.133333333333333,
          20.349999999999998
         ],
         "yaxis": "y",
         "type": "scatter"
        },
        {
         "hovertemplate": "Chaîne=France24<br>Temps en jours=%{x}<br>Temps de parole en minutes=%{y}<extra></extra>",
         "legendgroup": "France24",
         "line": {
          "color": "#00cc96",
          "dash": "solid"
         },
         "marker": {
          "symbol": "circle"
         },
         "mode": "lines",
         "name": "France24",
         "orientation": "v",
         "showlegend": true,
         "x": [
          "2022-03-13T00:00:00",
          "2022-03-20T00:00:00",
          "2022-03-27T00:00:00",
          "2022-04-03T00:00:00",
          "2022-04-08T00:00:00"
         ],
         "xaxis": "x",
         "y": [
          0.2,
          2.5166666666666666,
          11.383333333333333,
          9.833333333333334,
          20.683333333333334
         ],
         "yaxis": "y",
         "type": "scatter"
        },
        {
         "hovertemplate": "Chaîne=RMC Story<br>Temps en jours=%{x}<br>Temps de parole en minutes=%{y}<extra></extra>",
         "legendgroup": "RMC Story",
         "line": {
          "color": "#ab63fa",
          "dash": "solid"
         },
         "marker": {
          "symbol": "circle"
         },
         "mode": "lines",
         "name": "RMC Story",
         "orientation": "v",
         "showlegend": true,
         "x": [
          "2022-03-13T00:00:00",
          "2022-03-20T00:00:00",
          "2022-03-27T00:00:00",
          "2022-04-03T00:00:00",
          "2022-04-08T00:00:00"
         ],
         "xaxis": "x",
         "y": [
          0.6333333333333333,
          10.933333333333334,
          33.266666666666666,
          0.0,
          7.2
         ],
         "yaxis": "y",
         "type": "scatter"
        },
        {
         "hovertemplate": "Chaîne=C8<br>Temps en jours=%{x}<br>Temps de parole en minutes=%{y}<extra></extra>",
         "legendgroup": "C8",
         "line": {
          "color": "#FFA15A",
          "dash": "solid"
         },
         "marker": {
          "symbol": "circle"
         },
         "mode": "lines",
         "name": "C8",
         "orientation": "v",
         "showlegend": true,
         "x": [
          "2022-03-20T00:00:00",
          "2022-03-27T00:00:00",
          "2022-04-03T00:00:00",
          "2022-04-08T00:00:00"
         ],
         "xaxis": "x",
         "y": [
          2.05,
          32.85,
          1.5,
          11.666666666666668
         ],
         "yaxis": "y",
         "type": "scatter"
        },
        {
         "hovertemplate": "Chaîne=RMCDecouverte<br>Temps en jours=%{x}<br>Temps de parole en minutes=%{y}<extra></extra>",
         "legendgroup": "RMCDecouverte",
         "line": {
          "color": "#19d3f3",
          "dash": "solid"
         },
         "marker": {
          "symbol": "circle"
         },
         "mode": "lines",
         "name": "RMCDecouverte",
         "orientation": "v",
         "showlegend": true,
         "x": [
          "2022-03-27T00:00:00"
         ],
         "xaxis": "x",
         "y": [
          0.0
         ],
         "yaxis": "y",
         "type": "scatter"
        }
       ],
       "layout": {
        "template": {
         "data": {
          "histogram2dcontour": [
           {
            "type": "histogram2dcontour",
            "colorbar": {
             "outlinewidth": 0,
             "ticks": ""
            },
            "colorscale": [
             [
              0.0,
              "#0d0887"
             ],
             [
              0.1111111111111111,
              "#46039f"
             ],
             [
              0.2222222222222222,
              "#7201a8"
             ],
             [
              0.3333333333333333,
              "#9c179e"
             ],
             [
              0.4444444444444444,
              "#bd3786"
             ],
             [
              0.5555555555555556,
              "#d8576b"
             ],
             [
              0.6666666666666666,
              "#ed7953"
             ],
             [
              0.7777777777777778,
              "#fb9f3a"
             ],
             [
              0.8888888888888888,
              "#fdca26"
             ],
             [
              1.0,
              "#f0f921"
             ]
            ]
           }
          ],
          "choropleth": [
           {
            "type": "choropleth",
            "colorbar": {
             "outlinewidth": 0,
             "ticks": ""
            }
           }
          ],
          "histogram2d": [
           {
            "type": "histogram2d",
            "colorbar": {
             "outlinewidth": 0,
             "ticks": ""
            },
            "colorscale": [
             [
              0.0,
              "#0d0887"
             ],
             [
              0.1111111111111111,
              "#46039f"
             ],
             [
              0.2222222222222222,
              "#7201a8"
             ],
             [
              0.3333333333333333,
              "#9c179e"
             ],
             [
              0.4444444444444444,
              "#bd3786"
             ],
             [
              0.5555555555555556,
              "#d8576b"
             ],
             [
              0.6666666666666666,
              "#ed7953"
             ],
             [
              0.7777777777777778,
              "#fb9f3a"
             ],
             [
              0.8888888888888888,
              "#fdca26"
             ],
             [
              1.0,
              "#f0f921"
             ]
            ]
           }
          ],
          "heatmap": [
           {
            "type": "heatmap",
            "colorbar": {
             "outlinewidth": 0,
             "ticks": ""
            },
            "colorscale": [
             [
              0.0,
              "#0d0887"
             ],
             [
              0.1111111111111111,
              "#46039f"
             ],
             [
              0.2222222222222222,
              "#7201a8"
             ],
             [
              0.3333333333333333,
              "#9c179e"
             ],
             [
              0.4444444444444444,
              "#bd3786"
             ],
             [
              0.5555555555555556,
              "#d8576b"
             ],
             [
              0.6666666666666666,
              "#ed7953"
             ],
             [
              0.7777777777777778,
              "#fb9f3a"
             ],
             [
              0.8888888888888888,
              "#fdca26"
             ],
             [
              1.0,
              "#f0f921"
             ]
            ]
           }
          ],
          "heatmapgl": [
           {
            "type": "heatmapgl",
            "colorbar": {
             "outlinewidth": 0,
             "ticks": ""
            },
            "colorscale": [
             [
              0.0,
              "#0d0887"
             ],
             [
              0.1111111111111111,
              "#46039f"
             ],
             [
              0.2222222222222222,
              "#7201a8"
             ],
             [
              0.3333333333333333,
              "#9c179e"
             ],
             [
              0.4444444444444444,
              "#bd3786"
             ],
             [
              0.5555555555555556,
              "#d8576b"
             ],
             [
              0.6666666666666666,
              "#ed7953"
             ],
             [
              0.7777777777777778,
              "#fb9f3a"
             ],
             [
              0.8888888888888888,
              "#fdca26"
             ],
             [
              1.0,
              "#f0f921"
             ]
            ]
           }
          ],
          "contourcarpet": [
           {
            "type": "contourcarpet",
            "colorbar": {
             "outlinewidth": 0,
             "ticks": ""
            }
           }
          ],
          "contour": [
           {
            "type": "contour",
            "colorbar": {
             "outlinewidth": 0,
             "ticks": ""
            },
            "colorscale": [
             [
              0.0,
              "#0d0887"
             ],
             [
              0.1111111111111111,
              "#46039f"
             ],
             [
              0.2222222222222222,
              "#7201a8"
             ],
             [
              0.3333333333333333,
              "#9c179e"
             ],
             [
              0.4444444444444444,
              "#bd3786"
             ],
             [
              0.5555555555555556,
              "#d8576b"
             ],
             [
              0.6666666666666666,
              "#ed7953"
             ],
             [
              0.7777777777777778,
              "#fb9f3a"
             ],
             [
              0.8888888888888888,
              "#fdca26"
             ],
             [
              1.0,
              "#f0f921"
             ]
            ]
           }
          ],
          "surface": [
           {
            "type": "surface",
            "colorbar": {
             "outlinewidth": 0,
             "ticks": ""
            },
            "colorscale": [
             [
              0.0,
              "#0d0887"
             ],
             [
              0.1111111111111111,
              "#46039f"
             ],
             [
              0.2222222222222222,
              "#7201a8"
             ],
             [
              0.3333333333333333,
              "#9c179e"
             ],
             [
              0.4444444444444444,
              "#bd3786"
             ],
             [
              0.5555555555555556,
              "#d8576b"
             ],
             [
              0.6666666666666666,
              "#ed7953"
             ],
             [
              0.7777777777777778,
              "#fb9f3a"
             ],
             [
              0.8888888888888888,
              "#fdca26"
             ],
             [
              1.0,
              "#f0f921"
             ]
            ]
           }
          ],
          "mesh3d": [
           {
            "type": "mesh3d",
            "colorbar": {
             "outlinewidth": 0,
             "ticks": ""
            }
           }
          ],
          "scatter": [
           {
            "marker": {
             "line": {
              "color": "#283442"
             }
            },
            "type": "scatter"
           }
          ],
          "parcoords": [
           {
            "type": "parcoords",
            "line": {
             "colorbar": {
              "outlinewidth": 0,
              "ticks": ""
             }
            }
           }
          ],
          "scatterpolargl": [
           {
            "type": "scatterpolargl",
            "marker": {
             "colorbar": {
              "outlinewidth": 0,
              "ticks": ""
             }
            }
           }
          ],
          "bar": [
           {
            "error_x": {
             "color": "#f2f5fa"
            },
            "error_y": {
             "color": "#f2f5fa"
            },
            "marker": {
             "line": {
              "color": "rgb(17,17,17)",
              "width": 0.5
             },
             "pattern": {
              "fillmode": "overlay",
              "size": 10,
              "solidity": 0.2
             }
            },
            "type": "bar"
           }
          ],
          "scattergeo": [
           {
            "type": "scattergeo",
            "marker": {
             "colorbar": {
              "outlinewidth": 0,
              "ticks": ""
             }
            }
           }
          ],
          "scatterpolar": [
           {
            "type": "scatterpolar",
            "marker": {
             "colorbar": {
              "outlinewidth": 0,
              "ticks": ""
             }
            }
           }
          ],
          "histogram": [
           {
            "marker": {
             "pattern": {
              "fillmode": "overlay",
              "size": 10,
              "solidity": 0.2
             }
            },
            "type": "histogram"
           }
          ],
          "scattergl": [
           {
            "marker": {
             "line": {
              "color": "#283442"
             }
            },
            "type": "scattergl"
           }
          ],
          "scatter3d": [
           {
            "type": "scatter3d",
            "line": {
             "colorbar": {
              "outlinewidth": 0,
              "ticks": ""
             }
            },
            "marker": {
             "colorbar": {
              "outlinewidth": 0,
              "ticks": ""
             }
            }
           }
          ],
          "scattermapbox": [
           {
            "type": "scattermapbox",
            "marker": {
             "colorbar": {
              "outlinewidth": 0,
              "ticks": ""
             }
            }
           }
          ],
          "scatterternary": [
           {
            "type": "scatterternary",
            "marker": {
             "colorbar": {
              "outlinewidth": 0,
              "ticks": ""
             }
            }
           }
          ],
          "scattercarpet": [
           {
            "type": "scattercarpet",
            "marker": {
             "colorbar": {
              "outlinewidth": 0,
              "ticks": ""
             }
            }
           }
          ],
          "carpet": [
           {
            "aaxis": {
             "endlinecolor": "#A2B1C6",
             "gridcolor": "#506784",
             "linecolor": "#506784",
             "minorgridcolor": "#506784",
             "startlinecolor": "#A2B1C6"
            },
            "baxis": {
             "endlinecolor": "#A2B1C6",
             "gridcolor": "#506784",
             "linecolor": "#506784",
             "minorgridcolor": "#506784",
             "startlinecolor": "#A2B1C6"
            },
            "type": "carpet"
           }
          ],
          "table": [
           {
            "cells": {
             "fill": {
              "color": "#506784"
             },
             "line": {
              "color": "rgb(17,17,17)"
             }
            },
            "header": {
             "fill": {
              "color": "#2a3f5f"
             },
             "line": {
              "color": "rgb(17,17,17)"
             }
            },
            "type": "table"
           }
          ],
          "barpolar": [
           {
            "marker": {
             "line": {
              "color": "rgb(17,17,17)",
              "width": 0.5
             },
             "pattern": {
              "fillmode": "overlay",
              "size": 10,
              "solidity": 0.2
             }
            },
            "type": "barpolar"
           }
          ],
          "pie": [
           {
            "automargin": true,
            "type": "pie"
           }
          ]
         },
         "layout": {
          "autotypenumbers": "strict",
          "colorway": [
           "#636efa",
           "#EF553B",
           "#00cc96",
           "#ab63fa",
           "#FFA15A",
           "#19d3f3",
           "#FF6692",
           "#B6E880",
           "#FF97FF",
           "#FECB52"
          ],
          "font": {
           "color": "#f2f5fa"
          },
          "hovermode": "closest",
          "hoverlabel": {
           "align": "left"
          },
          "paper_bgcolor": "rgb(17,17,17)",
          "plot_bgcolor": "rgb(17,17,17)",
          "polar": {
           "bgcolor": "rgb(17,17,17)",
           "angularaxis": {
            "gridcolor": "#506784",
            "linecolor": "#506784",
            "ticks": ""
           },
           "radialaxis": {
            "gridcolor": "#506784",
            "linecolor": "#506784",
            "ticks": ""
           }
          },
          "ternary": {
           "bgcolor": "rgb(17,17,17)",
           "aaxis": {
            "gridcolor": "#506784",
            "linecolor": "#506784",
            "ticks": ""
           },
           "baxis": {
            "gridcolor": "#506784",
            "linecolor": "#506784",
            "ticks": ""
           },
           "caxis": {
            "gridcolor": "#506784",
            "linecolor": "#506784",
            "ticks": ""
           }
          },
          "coloraxis": {
           "colorbar": {
            "outlinewidth": 0,
            "ticks": ""
           }
          },
          "colorscale": {
           "sequential": [
            [
             0.0,
             "#0d0887"
            ],
            [
             0.1111111111111111,
             "#46039f"
            ],
            [
             0.2222222222222222,
             "#7201a8"
            ],
            [
             0.3333333333333333,
             "#9c179e"
            ],
            [
             0.4444444444444444,
             "#bd3786"
            ],
            [
             0.5555555555555556,
             "#d8576b"
            ],
            [
             0.6666666666666666,
             "#ed7953"
            ],
            [
             0.7777777777777778,
             "#fb9f3a"
            ],
            [
             0.8888888888888888,
             "#fdca26"
            ],
            [
             1.0,
             "#f0f921"
            ]
           ],
           "sequentialminus": [
            [
             0.0,
             "#0d0887"
            ],
            [
             0.1111111111111111,
             "#46039f"
            ],
            [
             0.2222222222222222,
             "#7201a8"
            ],
            [
             0.3333333333333333,
             "#9c179e"
            ],
            [
             0.4444444444444444,
             "#bd3786"
            ],
            [
             0.5555555555555556,
             "#d8576b"
            ],
            [
             0.6666666666666666,
             "#ed7953"
            ],
            [
             0.7777777777777778,
             "#fb9f3a"
            ],
            [
             0.8888888888888888,
             "#fdca26"
            ],
            [
             1.0,
             "#f0f921"
            ]
           ],
           "diverging": [
            [
             0,
             "#8e0152"
            ],
            [
             0.1,
             "#c51b7d"
            ],
            [
             0.2,
             "#de77ae"
            ],
            [
             0.3,
             "#f1b6da"
            ],
            [
             0.4,
             "#fde0ef"
            ],
            [
             0.5,
             "#f7f7f7"
            ],
            [
             0.6,
             "#e6f5d0"
            ],
            [
             0.7,
             "#b8e186"
            ],
            [
             0.8,
             "#7fbc41"
            ],
            [
             0.9,
             "#4d9221"
            ],
            [
             1,
             "#276419"
            ]
           ]
          },
          "xaxis": {
           "gridcolor": "#283442",
           "linecolor": "#506784",
           "ticks": "",
           "title": {
            "standoff": 15
           },
           "zerolinecolor": "#283442",
           "automargin": true,
           "zerolinewidth": 2
          },
          "yaxis": {
           "gridcolor": "#283442",
           "linecolor": "#506784",
           "ticks": "",
           "title": {
            "standoff": 15
           },
           "zerolinecolor": "#283442",
           "automargin": true,
           "zerolinewidth": 2
          },
          "scene": {
           "xaxis": {
            "backgroundcolor": "rgb(17,17,17)",
            "gridcolor": "#506784",
            "linecolor": "#506784",
            "showbackground": true,
            "ticks": "",
            "zerolinecolor": "#C8D4E3",
            "gridwidth": 2
           },
           "yaxis": {
            "backgroundcolor": "rgb(17,17,17)",
            "gridcolor": "#506784",
            "linecolor": "#506784",
            "showbackground": true,
            "ticks": "",
            "zerolinecolor": "#C8D4E3",
            "gridwidth": 2
           },
           "zaxis": {
            "backgroundcolor": "rgb(17,17,17)",
            "gridcolor": "#506784",
            "linecolor": "#506784",
            "showbackground": true,
            "ticks": "",
            "zerolinecolor": "#C8D4E3",
            "gridwidth": 2
           }
          },
          "shapedefaults": {
           "line": {
            "color": "#f2f5fa"
           }
          },
          "annotationdefaults": {
           "arrowcolor": "#f2f5fa",
           "arrowhead": 0,
           "arrowwidth": 1
          },
          "geo": {
           "bgcolor": "rgb(17,17,17)",
           "landcolor": "rgb(17,17,17)",
           "subunitcolor": "#506784",
           "showland": true,
           "showlakes": true,
           "lakecolor": "rgb(17,17,17)"
          },
          "title": {
           "x": 0.05
          },
          "updatemenudefaults": {
           "bgcolor": "#506784",
           "borderwidth": 0
          },
          "sliderdefaults": {
           "bgcolor": "#C8D4E3",
           "borderwidth": 1,
           "bordercolor": "rgb(17,17,17)",
           "tickwidth": 0
          },
          "mapbox": {
           "style": "dark"
          }
         }
        },
        "xaxis": {
         "anchor": "y",
         "domain": [
          0.0,
          1.0
         ],
         "title": {
          "text": "Temps en jours"
         }
        },
        "yaxis": {
         "anchor": "x",
         "domain": [
          0.0,
          1.0
         ],
         "title": {
          "text": "Temps de parole en minutes"
         }
        },
        "legend": {
         "title": {
          "text": "Chaîne"
         },
         "tracegroupgap": 0
        },
        "title": {
         "text": "Hidalgo : Évolution du temps de parole en fonction du temps"
        }
       },
       "config": {
        "plotlyServerURL": "https://plot.ly"
       }
      },
      "text/html": "<div>                            <div id=\"98b613fc-558f-44bd-9a11-93fa8b8c749c\" class=\"plotly-graph-div\" style=\"height:525px; width:100%;\"></div>            <script type=\"text/javascript\">                require([\"plotly\"], function(Plotly) {                    window.PLOTLYENV=window.PLOTLYENV || {};                                    if (document.getElementById(\"98b613fc-558f-44bd-9a11-93fa8b8c749c\")) {                    Plotly.newPlot(                        \"98b613fc-558f-44bd-9a11-93fa8b8c749c\",                        [{\"hovertemplate\":\"Cha\\u00eene=TF1<br>Temps en jours=%{x}<br>Temps de parole en minutes=%{y}<extra></extra>\",\"legendgroup\":\"TF1\",\"line\":{\"color\":\"#636efa\",\"dash\":\"solid\"},\"marker\":{\"symbol\":\"circle\"},\"mode\":\"lines\",\"name\":\"TF1\",\"orientation\":\"v\",\"showlegend\":true,\"x\":[\"2022-03-13T00:00:00\",\"2022-03-20T00:00:00\",\"2022-03-27T00:00:00\",\"2022-04-03T00:00:00\",\"2022-04-08T00:00:00\"],\"xaxis\":\"x\",\"y\":[0.0,16.8,17.46666666666667,0.6833333333333333,10.8],\"yaxis\":\"y\",\"type\":\"scatter\"},{\"hovertemplate\":\"Cha\\u00eene=France2<br>Temps en jours=%{x}<br>Temps de parole en minutes=%{y}<extra></extra>\",\"legendgroup\":\"France2\",\"line\":{\"color\":\"#EF553B\",\"dash\":\"solid\"},\"marker\":{\"symbol\":\"circle\"},\"mode\":\"lines\",\"name\":\"France2\",\"orientation\":\"v\",\"showlegend\":true,\"x\":[\"2022-03-13T00:00:00\",\"2022-03-20T00:00:00\",\"2022-03-27T00:00:00\",\"2022-04-03T00:00:00\",\"2022-04-08T00:00:00\"],\"xaxis\":\"x\",\"y\":[0.0,42.483333333333334,54.65,0.5833333333333334,32.81666666666667],\"yaxis\":\"y\",\"type\":\"scatter\"},{\"hovertemplate\":\"Cha\\u00eene=France3<br>Temps en jours=%{x}<br>Temps de parole en minutes=%{y}<extra></extra>\",\"legendgroup\":\"France3\",\"line\":{\"color\":\"#00cc96\",\"dash\":\"solid\"},\"marker\":{\"symbol\":\"circle\"},\"mode\":\"lines\",\"name\":\"France3\",\"orientation\":\"v\",\"showlegend\":true,\"x\":[\"2022-03-13T00:00:00\",\"2022-03-20T00:00:00\",\"2022-03-27T00:00:00\",\"2022-04-03T00:00:00\",\"2022-04-08T00:00:00\"],\"xaxis\":\"x\",\"y\":[19.099999999999998,19.299999999999997,20.066666666666666,0.85,2.3833333333333333],\"yaxis\":\"y\",\"type\":\"scatter\"},{\"hovertemplate\":\"Cha\\u00eene=France5<br>Temps en jours=%{x}<br>Temps de parole en minutes=%{y}<extra></extra>\",\"legendgroup\":\"France5\",\"line\":{\"color\":\"#ab63fa\",\"dash\":\"solid\"},\"marker\":{\"symbol\":\"circle\"},\"mode\":\"lines\",\"name\":\"France5\",\"orientation\":\"v\",\"showlegend\":true,\"x\":[\"2022-03-13T00:00:00\",\"2022-03-20T00:00:00\",\"2022-03-27T00:00:00\",\"2022-04-03T00:00:00\",\"2022-04-08T00:00:00\"],\"xaxis\":\"x\",\"y\":[0.6,3.05,18.65,6.15,11.5],\"yaxis\":\"y\",\"type\":\"scatter\"},{\"hovertemplate\":\"Cha\\u00eene=M6<br>Temps en jours=%{x}<br>Temps de parole en minutes=%{y}<extra></extra>\",\"legendgroup\":\"M6\",\"line\":{\"color\":\"#FFA15A\",\"dash\":\"solid\"},\"marker\":{\"symbol\":\"circle\"},\"mode\":\"lines\",\"name\":\"M6\",\"orientation\":\"v\",\"showlegend\":true,\"x\":[\"2022-03-13T00:00:00\",\"2022-03-20T00:00:00\",\"2022-03-27T00:00:00\",\"2022-04-03T00:00:00\",\"2022-04-08T00:00:00\"],\"xaxis\":\"x\",\"y\":[1.5166666666666666,1.9,6.416666666666666,2.35,3.033333333333333],\"yaxis\":\"y\",\"type\":\"scatter\"},{\"hovertemplate\":\"Cha\\u00eene=TMC<br>Temps en jours=%{x}<br>Temps de parole en minutes=%{y}<extra></extra>\",\"legendgroup\":\"TMC\",\"line\":{\"color\":\"#19d3f3\",\"dash\":\"solid\"},\"marker\":{\"symbol\":\"circle\"},\"mode\":\"lines\",\"name\":\"TMC\",\"orientation\":\"v\",\"showlegend\":true,\"x\":[\"2022-03-13T00:00:00\",\"2022-03-20T00:00:00\",\"2022-03-27T00:00:00\",\"2022-04-03T00:00:00\",\"2022-04-08T00:00:00\"],\"xaxis\":\"x\",\"y\":[0.9833333333333333,3.85,8.383333333333333,7.216666666666667,17.933333333333334],\"yaxis\":\"y\",\"type\":\"scatter\"},{\"hovertemplate\":\"Cha\\u00eene=BFMTV<br>Temps en jours=%{x}<br>Temps de parole en minutes=%{y}<extra></extra>\",\"legendgroup\":\"BFMTV\",\"line\":{\"color\":\"#FF6692\",\"dash\":\"solid\"},\"marker\":{\"symbol\":\"circle\"},\"mode\":\"lines\",\"name\":\"BFMTV\",\"orientation\":\"v\",\"showlegend\":true,\"x\":[\"2022-03-13T00:00:00\",\"2022-03-20T00:00:00\",\"2022-03-27T00:00:00\",\"2022-04-03T00:00:00\",\"2022-04-08T00:00:00\"],\"xaxis\":\"x\",\"y\":[10.016666666666666,51.916666666666664,129.61666666666665,1.1,33.35],\"yaxis\":\"y\",\"type\":\"scatter\"},{\"hovertemplate\":\"Cha\\u00eene=Cnews<br>Temps en jours=%{x}<br>Temps de parole en minutes=%{y}<extra></extra>\",\"legendgroup\":\"Cnews\",\"line\":{\"color\":\"#B6E880\",\"dash\":\"solid\"},\"marker\":{\"symbol\":\"circle\"},\"mode\":\"lines\",\"name\":\"Cnews\",\"orientation\":\"v\",\"showlegend\":true,\"x\":[\"2022-03-13T00:00:00\",\"2022-03-20T00:00:00\",\"2022-03-27T00:00:00\",\"2022-04-03T00:00:00\",\"2022-04-08T00:00:00\"],\"xaxis\":\"x\",\"y\":[78.85000000000001,103.73333333333333,253.38333333333333,64.73333333333333,76.36666666666666],\"yaxis\":\"y\",\"type\":\"scatter\"},{\"hovertemplate\":\"Cha\\u00eene=LCI<br>Temps en jours=%{x}<br>Temps de parole en minutes=%{y}<extra></extra>\",\"legendgroup\":\"LCI\",\"line\":{\"color\":\"#FF97FF\",\"dash\":\"solid\"},\"marker\":{\"symbol\":\"circle\"},\"mode\":\"lines\",\"name\":\"LCI\",\"orientation\":\"v\",\"showlegend\":true,\"x\":[\"2022-03-13T00:00:00\",\"2022-03-20T00:00:00\",\"2022-03-27T00:00:00\",\"2022-04-03T00:00:00\",\"2022-04-08T00:00:00\"],\"xaxis\":\"x\",\"y\":[1.1666666666666667,37.1,175.96666666666664,203.66666666666669,210.56666666666666],\"yaxis\":\"y\",\"type\":\"scatter\"},{\"hovertemplate\":\"Cha\\u00eene=FranceinfoTV<br>Temps en jours=%{x}<br>Temps de parole en minutes=%{y}<extra></extra>\",\"legendgroup\":\"FranceinfoTV\",\"line\":{\"color\":\"#FECB52\",\"dash\":\"solid\"},\"marker\":{\"symbol\":\"circle\"},\"mode\":\"lines\",\"name\":\"FranceinfoTV\",\"orientation\":\"v\",\"showlegend\":true,\"x\":[\"2022-03-13T00:00:00\",\"2022-03-20T00:00:00\",\"2022-03-27T00:00:00\",\"2022-04-03T00:00:00\",\"2022-04-08T00:00:00\"],\"xaxis\":\"x\",\"y\":[11.966666666666667,35.36666666666667,141.85,96.33333333333333,183.98333333333332],\"yaxis\":\"y\",\"type\":\"scatter\"},{\"hovertemplate\":\"Cha\\u00eene=FranceInter<br>Temps en jours=%{x}<br>Temps de parole en minutes=%{y}<extra></extra>\",\"legendgroup\":\"FranceInter\",\"line\":{\"color\":\"#636efa\",\"dash\":\"solid\"},\"marker\":{\"symbol\":\"circle\"},\"mode\":\"lines\",\"name\":\"FranceInter\",\"orientation\":\"v\",\"showlegend\":true,\"x\":[\"2022-03-13T00:00:00\",\"2022-03-20T00:00:00\",\"2022-03-27T00:00:00\",\"2022-04-03T00:00:00\",\"2022-04-08T00:00:00\"],\"xaxis\":\"x\",\"y\":[2.3833333333333333,4.483333333333333,19.016666666666666,5.066666666666666,13.283333333333331],\"yaxis\":\"y\",\"type\":\"scatter\"},{\"hovertemplate\":\"Cha\\u00eene=FranceInfo<br>Temps en jours=%{x}<br>Temps de parole en minutes=%{y}<extra></extra>\",\"legendgroup\":\"FranceInfo\",\"line\":{\"color\":\"#EF553B\",\"dash\":\"solid\"},\"marker\":{\"symbol\":\"circle\"},\"mode\":\"lines\",\"name\":\"FranceInfo\",\"orientation\":\"v\",\"showlegend\":true,\"x\":[\"2022-03-13T00:00:00\",\"2022-03-20T00:00:00\",\"2022-03-27T00:00:00\",\"2022-04-03T00:00:00\",\"2022-04-08T00:00:00\"],\"xaxis\":\"x\",\"y\":[2.3833333333333333,42.55,84.83333333333333,37.016666666666666,76.33333333333333],\"yaxis\":\"y\",\"type\":\"scatter\"},{\"hovertemplate\":\"Cha\\u00eene=FranceCulture<br>Temps en jours=%{x}<br>Temps de parole en minutes=%{y}<extra></extra>\",\"legendgroup\":\"FranceCulture\",\"line\":{\"color\":\"#00cc96\",\"dash\":\"solid\"},\"marker\":{\"symbol\":\"circle\"},\"mode\":\"lines\",\"name\":\"FranceCulture\",\"orientation\":\"v\",\"showlegend\":true,\"x\":[\"2022-03-13T00:00:00\",\"2022-03-20T00:00:00\",\"2022-03-27T00:00:00\",\"2022-04-03T00:00:00\",\"2022-04-08T00:00:00\"],\"xaxis\":\"x\",\"y\":[0.4166666666666667,0.9333333333333333,21.433333333333334,10.783333333333333,11.1],\"yaxis\":\"y\",\"type\":\"scatter\"},{\"hovertemplate\":\"Cha\\u00eene=RTL<br>Temps en jours=%{x}<br>Temps de parole en minutes=%{y}<extra></extra>\",\"legendgroup\":\"RTL\",\"line\":{\"color\":\"#ab63fa\",\"dash\":\"solid\"},\"marker\":{\"symbol\":\"circle\"},\"mode\":\"lines\",\"name\":\"RTL\",\"orientation\":\"v\",\"showlegend\":true,\"x\":[\"2022-03-13T00:00:00\",\"2022-03-20T00:00:00\",\"2022-03-27T00:00:00\",\"2022-04-03T00:00:00\",\"2022-04-08T00:00:00\"],\"xaxis\":\"x\",\"y\":[1.1333333333333333,70.35000000000001,71.95,10.266666666666667,15.450000000000001],\"yaxis\":\"y\",\"type\":\"scatter\"},{\"hovertemplate\":\"Cha\\u00eene=Europe1<br>Temps en jours=%{x}<br>Temps de parole en minutes=%{y}<extra></extra>\",\"legendgroup\":\"Europe1\",\"line\":{\"color\":\"#FFA15A\",\"dash\":\"solid\"},\"marker\":{\"symbol\":\"circle\"},\"mode\":\"lines\",\"name\":\"Europe1\",\"orientation\":\"v\",\"showlegend\":true,\"x\":[\"2022-03-13T00:00:00\",\"2022-03-20T00:00:00\",\"2022-03-27T00:00:00\",\"2022-04-03T00:00:00\",\"2022-04-08T00:00:00\"],\"xaxis\":\"x\",\"y\":[35.65,37.36666666666667,38.61666666666667,2.2333333333333334,48.86666666666667],\"yaxis\":\"y\",\"type\":\"scatter\"},{\"hovertemplate\":\"Cha\\u00eene=RMC<br>Temps en jours=%{x}<br>Temps de parole en minutes=%{y}<extra></extra>\",\"legendgroup\":\"RMC\",\"line\":{\"color\":\"#19d3f3\",\"dash\":\"solid\"},\"marker\":{\"symbol\":\"circle\"},\"mode\":\"lines\",\"name\":\"RMC\",\"orientation\":\"v\",\"showlegend\":true,\"x\":[\"2022-03-13T00:00:00\",\"2022-03-20T00:00:00\",\"2022-03-27T00:00:00\",\"2022-04-03T00:00:00\",\"2022-04-08T00:00:00\"],\"xaxis\":\"x\",\"y\":[1.1833333333333333,17.183333333333334,52.53333333333333,3.0,17.766666666666666],\"yaxis\":\"y\",\"type\":\"scatter\"},{\"hovertemplate\":\"Cha\\u00eene=BFMBusiness<br>Temps en jours=%{x}<br>Temps de parole en minutes=%{y}<extra></extra>\",\"legendgroup\":\"BFMBusiness\",\"line\":{\"color\":\"#FF6692\",\"dash\":\"solid\"},\"marker\":{\"symbol\":\"circle\"},\"mode\":\"lines\",\"name\":\"BFMBusiness\",\"orientation\":\"v\",\"showlegend\":true,\"x\":[\"2022-03-13T00:00:00\",\"2022-03-20T00:00:00\",\"2022-03-27T00:00:00\"],\"xaxis\":\"x\",\"y\":[1.4333333333333333,1.9833333333333334,12.116666666666667],\"yaxis\":\"y\",\"type\":\"scatter\"},{\"hovertemplate\":\"Cha\\u00eene=RadioClassique<br>Temps en jours=%{x}<br>Temps de parole en minutes=%{y}<extra></extra>\",\"legendgroup\":\"RadioClassique\",\"line\":{\"color\":\"#B6E880\",\"dash\":\"solid\"},\"marker\":{\"symbol\":\"circle\"},\"mode\":\"lines\",\"name\":\"RadioClassique\",\"orientation\":\"v\",\"showlegend\":true,\"x\":[\"2022-03-13T00:00:00\",\"2022-03-20T00:00:00\",\"2022-03-27T00:00:00\",\"2022-04-03T00:00:00\",\"2022-04-08T00:00:00\"],\"xaxis\":\"x\",\"y\":[0.0,0.0,0.75,0.0,0.0],\"yaxis\":\"y\",\"type\":\"scatter\"},{\"hovertemplate\":\"Cha\\u00eene=SudRadio<br>Temps en jours=%{x}<br>Temps de parole en minutes=%{y}<extra></extra>\",\"legendgroup\":\"SudRadio\",\"line\":{\"color\":\"#FF97FF\",\"dash\":\"solid\"},\"marker\":{\"symbol\":\"circle\"},\"mode\":\"lines\",\"name\":\"SudRadio\",\"orientation\":\"v\",\"showlegend\":true,\"x\":[\"2022-03-13T00:00:00\",\"2022-03-20T00:00:00\",\"2022-03-27T00:00:00\",\"2022-04-03T00:00:00\",\"2022-04-08T00:00:00\"],\"xaxis\":\"x\",\"y\":[4.4,10.4,11.0,0.7666666666666666,1.6666666666666667],\"yaxis\":\"y\",\"type\":\"scatter\"},{\"hovertemplate\":\"Cha\\u00eene=TV5Monde<br>Temps en jours=%{x}<br>Temps de parole en minutes=%{y}<extra></extra>\",\"legendgroup\":\"TV5Monde\",\"line\":{\"color\":\"#FECB52\",\"dash\":\"solid\"},\"marker\":{\"symbol\":\"circle\"},\"mode\":\"lines\",\"name\":\"TV5Monde\",\"orientation\":\"v\",\"showlegend\":true,\"x\":[\"2022-03-13T00:00:00\",\"2022-03-20T00:00:00\",\"2022-03-27T00:00:00\",\"2022-04-03T00:00:00\",\"2022-04-08T00:00:00\"],\"xaxis\":\"x\",\"y\":[0.0,42.483333333333334,43.15,0.5833333333333334,32.083333333333336],\"yaxis\":\"y\",\"type\":\"scatter\"},{\"hovertemplate\":\"Cha\\u00eene=Euronews<br>Temps en jours=%{x}<br>Temps de parole en minutes=%{y}<extra></extra>\",\"legendgroup\":\"Euronews\",\"line\":{\"color\":\"#636efa\",\"dash\":\"solid\"},\"marker\":{\"symbol\":\"circle\"},\"mode\":\"lines\",\"name\":\"Euronews\",\"orientation\":\"v\",\"showlegend\":true,\"x\":[\"2022-03-13T00:00:00\",\"2022-03-20T00:00:00\",\"2022-03-27T00:00:00\"],\"xaxis\":\"x\",\"y\":[0.0,0.0,0.0],\"yaxis\":\"y\",\"type\":\"scatter\"},{\"hovertemplate\":\"Cha\\u00eene=RFI<br>Temps en jours=%{x}<br>Temps de parole en minutes=%{y}<extra></extra>\",\"legendgroup\":\"RFI\",\"line\":{\"color\":\"#EF553B\",\"dash\":\"solid\"},\"marker\":{\"symbol\":\"circle\"},\"mode\":\"lines\",\"name\":\"RFI\",\"orientation\":\"v\",\"showlegend\":true,\"x\":[\"2022-03-13T00:00:00\",\"2022-03-20T00:00:00\",\"2022-03-27T00:00:00\",\"2022-04-03T00:00:00\",\"2022-04-08T00:00:00\"],\"xaxis\":\"x\",\"y\":[0.0,8.0,24.46666666666667,5.133333333333333,20.349999999999998],\"yaxis\":\"y\",\"type\":\"scatter\"},{\"hovertemplate\":\"Cha\\u00eene=France24<br>Temps en jours=%{x}<br>Temps de parole en minutes=%{y}<extra></extra>\",\"legendgroup\":\"France24\",\"line\":{\"color\":\"#00cc96\",\"dash\":\"solid\"},\"marker\":{\"symbol\":\"circle\"},\"mode\":\"lines\",\"name\":\"France24\",\"orientation\":\"v\",\"showlegend\":true,\"x\":[\"2022-03-13T00:00:00\",\"2022-03-20T00:00:00\",\"2022-03-27T00:00:00\",\"2022-04-03T00:00:00\",\"2022-04-08T00:00:00\"],\"xaxis\":\"x\",\"y\":[0.2,2.5166666666666666,11.383333333333333,9.833333333333334,20.683333333333334],\"yaxis\":\"y\",\"type\":\"scatter\"},{\"hovertemplate\":\"Cha\\u00eene=RMC Story<br>Temps en jours=%{x}<br>Temps de parole en minutes=%{y}<extra></extra>\",\"legendgroup\":\"RMC Story\",\"line\":{\"color\":\"#ab63fa\",\"dash\":\"solid\"},\"marker\":{\"symbol\":\"circle\"},\"mode\":\"lines\",\"name\":\"RMC Story\",\"orientation\":\"v\",\"showlegend\":true,\"x\":[\"2022-03-13T00:00:00\",\"2022-03-20T00:00:00\",\"2022-03-27T00:00:00\",\"2022-04-03T00:00:00\",\"2022-04-08T00:00:00\"],\"xaxis\":\"x\",\"y\":[0.6333333333333333,10.933333333333334,33.266666666666666,0.0,7.2],\"yaxis\":\"y\",\"type\":\"scatter\"},{\"hovertemplate\":\"Cha\\u00eene=C8<br>Temps en jours=%{x}<br>Temps de parole en minutes=%{y}<extra></extra>\",\"legendgroup\":\"C8\",\"line\":{\"color\":\"#FFA15A\",\"dash\":\"solid\"},\"marker\":{\"symbol\":\"circle\"},\"mode\":\"lines\",\"name\":\"C8\",\"orientation\":\"v\",\"showlegend\":true,\"x\":[\"2022-03-20T00:00:00\",\"2022-03-27T00:00:00\",\"2022-04-03T00:00:00\",\"2022-04-08T00:00:00\"],\"xaxis\":\"x\",\"y\":[2.05,32.85,1.5,11.666666666666668],\"yaxis\":\"y\",\"type\":\"scatter\"},{\"hovertemplate\":\"Cha\\u00eene=RMCDecouverte<br>Temps en jours=%{x}<br>Temps de parole en minutes=%{y}<extra></extra>\",\"legendgroup\":\"RMCDecouverte\",\"line\":{\"color\":\"#19d3f3\",\"dash\":\"solid\"},\"marker\":{\"symbol\":\"circle\"},\"mode\":\"lines\",\"name\":\"RMCDecouverte\",\"orientation\":\"v\",\"showlegend\":true,\"x\":[\"2022-03-27T00:00:00\"],\"xaxis\":\"x\",\"y\":[0.0],\"yaxis\":\"y\",\"type\":\"scatter\"}],                        {\"template\":{\"data\":{\"histogram2dcontour\":[{\"type\":\"histogram2dcontour\",\"colorbar\":{\"outlinewidth\":0,\"ticks\":\"\"},\"colorscale\":[[0.0,\"#0d0887\"],[0.1111111111111111,\"#46039f\"],[0.2222222222222222,\"#7201a8\"],[0.3333333333333333,\"#9c179e\"],[0.4444444444444444,\"#bd3786\"],[0.5555555555555556,\"#d8576b\"],[0.6666666666666666,\"#ed7953\"],[0.7777777777777778,\"#fb9f3a\"],[0.8888888888888888,\"#fdca26\"],[1.0,\"#f0f921\"]]}],\"choropleth\":[{\"type\":\"choropleth\",\"colorbar\":{\"outlinewidth\":0,\"ticks\":\"\"}}],\"histogram2d\":[{\"type\":\"histogram2d\",\"colorbar\":{\"outlinewidth\":0,\"ticks\":\"\"},\"colorscale\":[[0.0,\"#0d0887\"],[0.1111111111111111,\"#46039f\"],[0.2222222222222222,\"#7201a8\"],[0.3333333333333333,\"#9c179e\"],[0.4444444444444444,\"#bd3786\"],[0.5555555555555556,\"#d8576b\"],[0.6666666666666666,\"#ed7953\"],[0.7777777777777778,\"#fb9f3a\"],[0.8888888888888888,\"#fdca26\"],[1.0,\"#f0f921\"]]}],\"heatmap\":[{\"type\":\"heatmap\",\"colorbar\":{\"outlinewidth\":0,\"ticks\":\"\"},\"colorscale\":[[0.0,\"#0d0887\"],[0.1111111111111111,\"#46039f\"],[0.2222222222222222,\"#7201a8\"],[0.3333333333333333,\"#9c179e\"],[0.4444444444444444,\"#bd3786\"],[0.5555555555555556,\"#d8576b\"],[0.6666666666666666,\"#ed7953\"],[0.7777777777777778,\"#fb9f3a\"],[0.8888888888888888,\"#fdca26\"],[1.0,\"#f0f921\"]]}],\"heatmapgl\":[{\"type\":\"heatmapgl\",\"colorbar\":{\"outlinewidth\":0,\"ticks\":\"\"},\"colorscale\":[[0.0,\"#0d0887\"],[0.1111111111111111,\"#46039f\"],[0.2222222222222222,\"#7201a8\"],[0.3333333333333333,\"#9c179e\"],[0.4444444444444444,\"#bd3786\"],[0.5555555555555556,\"#d8576b\"],[0.6666666666666666,\"#ed7953\"],[0.7777777777777778,\"#fb9f3a\"],[0.8888888888888888,\"#fdca26\"],[1.0,\"#f0f921\"]]}],\"contourcarpet\":[{\"type\":\"contourcarpet\",\"colorbar\":{\"outlinewidth\":0,\"ticks\":\"\"}}],\"contour\":[{\"type\":\"contour\",\"colorbar\":{\"outlinewidth\":0,\"ticks\":\"\"},\"colorscale\":[[0.0,\"#0d0887\"],[0.1111111111111111,\"#46039f\"],[0.2222222222222222,\"#7201a8\"],[0.3333333333333333,\"#9c179e\"],[0.4444444444444444,\"#bd3786\"],[0.5555555555555556,\"#d8576b\"],[0.6666666666666666,\"#ed7953\"],[0.7777777777777778,\"#fb9f3a\"],[0.8888888888888888,\"#fdca26\"],[1.0,\"#f0f921\"]]}],\"surface\":[{\"type\":\"surface\",\"colorbar\":{\"outlinewidth\":0,\"ticks\":\"\"},\"colorscale\":[[0.0,\"#0d0887\"],[0.1111111111111111,\"#46039f\"],[0.2222222222222222,\"#7201a8\"],[0.3333333333333333,\"#9c179e\"],[0.4444444444444444,\"#bd3786\"],[0.5555555555555556,\"#d8576b\"],[0.6666666666666666,\"#ed7953\"],[0.7777777777777778,\"#fb9f3a\"],[0.8888888888888888,\"#fdca26\"],[1.0,\"#f0f921\"]]}],\"mesh3d\":[{\"type\":\"mesh3d\",\"colorbar\":{\"outlinewidth\":0,\"ticks\":\"\"}}],\"scatter\":[{\"marker\":{\"line\":{\"color\":\"#283442\"}},\"type\":\"scatter\"}],\"parcoords\":[{\"type\":\"parcoords\",\"line\":{\"colorbar\":{\"outlinewidth\":0,\"ticks\":\"\"}}}],\"scatterpolargl\":[{\"type\":\"scatterpolargl\",\"marker\":{\"colorbar\":{\"outlinewidth\":0,\"ticks\":\"\"}}}],\"bar\":[{\"error_x\":{\"color\":\"#f2f5fa\"},\"error_y\":{\"color\":\"#f2f5fa\"},\"marker\":{\"line\":{\"color\":\"rgb(17,17,17)\",\"width\":0.5},\"pattern\":{\"fillmode\":\"overlay\",\"size\":10,\"solidity\":0.2}},\"type\":\"bar\"}],\"scattergeo\":[{\"type\":\"scattergeo\",\"marker\":{\"colorbar\":{\"outlinewidth\":0,\"ticks\":\"\"}}}],\"scatterpolar\":[{\"type\":\"scatterpolar\",\"marker\":{\"colorbar\":{\"outlinewidth\":0,\"ticks\":\"\"}}}],\"histogram\":[{\"marker\":{\"pattern\":{\"fillmode\":\"overlay\",\"size\":10,\"solidity\":0.2}},\"type\":\"histogram\"}],\"scattergl\":[{\"marker\":{\"line\":{\"color\":\"#283442\"}},\"type\":\"scattergl\"}],\"scatter3d\":[{\"type\":\"scatter3d\",\"line\":{\"colorbar\":{\"outlinewidth\":0,\"ticks\":\"\"}},\"marker\":{\"colorbar\":{\"outlinewidth\":0,\"ticks\":\"\"}}}],\"scattermapbox\":[{\"type\":\"scattermapbox\",\"marker\":{\"colorbar\":{\"outlinewidth\":0,\"ticks\":\"\"}}}],\"scatterternary\":[{\"type\":\"scatterternary\",\"marker\":{\"colorbar\":{\"outlinewidth\":0,\"ticks\":\"\"}}}],\"scattercarpet\":[{\"type\":\"scattercarpet\",\"marker\":{\"colorbar\":{\"outlinewidth\":0,\"ticks\":\"\"}}}],\"carpet\":[{\"aaxis\":{\"endlinecolor\":\"#A2B1C6\",\"gridcolor\":\"#506784\",\"linecolor\":\"#506784\",\"minorgridcolor\":\"#506784\",\"startlinecolor\":\"#A2B1C6\"},\"baxis\":{\"endlinecolor\":\"#A2B1C6\",\"gridcolor\":\"#506784\",\"linecolor\":\"#506784\",\"minorgridcolor\":\"#506784\",\"startlinecolor\":\"#A2B1C6\"},\"type\":\"carpet\"}],\"table\":[{\"cells\":{\"fill\":{\"color\":\"#506784\"},\"line\":{\"color\":\"rgb(17,17,17)\"}},\"header\":{\"fill\":{\"color\":\"#2a3f5f\"},\"line\":{\"color\":\"rgb(17,17,17)\"}},\"type\":\"table\"}],\"barpolar\":[{\"marker\":{\"line\":{\"color\":\"rgb(17,17,17)\",\"width\":0.5},\"pattern\":{\"fillmode\":\"overlay\",\"size\":10,\"solidity\":0.2}},\"type\":\"barpolar\"}],\"pie\":[{\"automargin\":true,\"type\":\"pie\"}]},\"layout\":{\"autotypenumbers\":\"strict\",\"colorway\":[\"#636efa\",\"#EF553B\",\"#00cc96\",\"#ab63fa\",\"#FFA15A\",\"#19d3f3\",\"#FF6692\",\"#B6E880\",\"#FF97FF\",\"#FECB52\"],\"font\":{\"color\":\"#f2f5fa\"},\"hovermode\":\"closest\",\"hoverlabel\":{\"align\":\"left\"},\"paper_bgcolor\":\"rgb(17,17,17)\",\"plot_bgcolor\":\"rgb(17,17,17)\",\"polar\":{\"bgcolor\":\"rgb(17,17,17)\",\"angularaxis\":{\"gridcolor\":\"#506784\",\"linecolor\":\"#506784\",\"ticks\":\"\"},\"radialaxis\":{\"gridcolor\":\"#506784\",\"linecolor\":\"#506784\",\"ticks\":\"\"}},\"ternary\":{\"bgcolor\":\"rgb(17,17,17)\",\"aaxis\":{\"gridcolor\":\"#506784\",\"linecolor\":\"#506784\",\"ticks\":\"\"},\"baxis\":{\"gridcolor\":\"#506784\",\"linecolor\":\"#506784\",\"ticks\":\"\"},\"caxis\":{\"gridcolor\":\"#506784\",\"linecolor\":\"#506784\",\"ticks\":\"\"}},\"coloraxis\":{\"colorbar\":{\"outlinewidth\":0,\"ticks\":\"\"}},\"colorscale\":{\"sequential\":[[0.0,\"#0d0887\"],[0.1111111111111111,\"#46039f\"],[0.2222222222222222,\"#7201a8\"],[0.3333333333333333,\"#9c179e\"],[0.4444444444444444,\"#bd3786\"],[0.5555555555555556,\"#d8576b\"],[0.6666666666666666,\"#ed7953\"],[0.7777777777777778,\"#fb9f3a\"],[0.8888888888888888,\"#fdca26\"],[1.0,\"#f0f921\"]],\"sequentialminus\":[[0.0,\"#0d0887\"],[0.1111111111111111,\"#46039f\"],[0.2222222222222222,\"#7201a8\"],[0.3333333333333333,\"#9c179e\"],[0.4444444444444444,\"#bd3786\"],[0.5555555555555556,\"#d8576b\"],[0.6666666666666666,\"#ed7953\"],[0.7777777777777778,\"#fb9f3a\"],[0.8888888888888888,\"#fdca26\"],[1.0,\"#f0f921\"]],\"diverging\":[[0,\"#8e0152\"],[0.1,\"#c51b7d\"],[0.2,\"#de77ae\"],[0.3,\"#f1b6da\"],[0.4,\"#fde0ef\"],[0.5,\"#f7f7f7\"],[0.6,\"#e6f5d0\"],[0.7,\"#b8e186\"],[0.8,\"#7fbc41\"],[0.9,\"#4d9221\"],[1,\"#276419\"]]},\"xaxis\":{\"gridcolor\":\"#283442\",\"linecolor\":\"#506784\",\"ticks\":\"\",\"title\":{\"standoff\":15},\"zerolinecolor\":\"#283442\",\"automargin\":true,\"zerolinewidth\":2},\"yaxis\":{\"gridcolor\":\"#283442\",\"linecolor\":\"#506784\",\"ticks\":\"\",\"title\":{\"standoff\":15},\"zerolinecolor\":\"#283442\",\"automargin\":true,\"zerolinewidth\":2},\"scene\":{\"xaxis\":{\"backgroundcolor\":\"rgb(17,17,17)\",\"gridcolor\":\"#506784\",\"linecolor\":\"#506784\",\"showbackground\":true,\"ticks\":\"\",\"zerolinecolor\":\"#C8D4E3\",\"gridwidth\":2},\"yaxis\":{\"backgroundcolor\":\"rgb(17,17,17)\",\"gridcolor\":\"#506784\",\"linecolor\":\"#506784\",\"showbackground\":true,\"ticks\":\"\",\"zerolinecolor\":\"#C8D4E3\",\"gridwidth\":2},\"zaxis\":{\"backgroundcolor\":\"rgb(17,17,17)\",\"gridcolor\":\"#506784\",\"linecolor\":\"#506784\",\"showbackground\":true,\"ticks\":\"\",\"zerolinecolor\":\"#C8D4E3\",\"gridwidth\":2}},\"shapedefaults\":{\"line\":{\"color\":\"#f2f5fa\"}},\"annotationdefaults\":{\"arrowcolor\":\"#f2f5fa\",\"arrowhead\":0,\"arrowwidth\":1},\"geo\":{\"bgcolor\":\"rgb(17,17,17)\",\"landcolor\":\"rgb(17,17,17)\",\"subunitcolor\":\"#506784\",\"showland\":true,\"showlakes\":true,\"lakecolor\":\"rgb(17,17,17)\"},\"title\":{\"x\":0.05},\"updatemenudefaults\":{\"bgcolor\":\"#506784\",\"borderwidth\":0},\"sliderdefaults\":{\"bgcolor\":\"#C8D4E3\",\"borderwidth\":1,\"bordercolor\":\"rgb(17,17,17)\",\"tickwidth\":0},\"mapbox\":{\"style\":\"dark\"}}},\"xaxis\":{\"anchor\":\"y\",\"domain\":[0.0,1.0],\"title\":{\"text\":\"Temps en jours\"}},\"yaxis\":{\"anchor\":\"x\",\"domain\":[0.0,1.0],\"title\":{\"text\":\"Temps de parole en minutes\"}},\"legend\":{\"title\":{\"text\":\"Cha\\u00eene\"},\"tracegroupgap\":0},\"title\":{\"text\":\"Hidalgo : \\u00c9volution du temps de parole en fonction du temps\"}},                        {\"responsive\": true}                    ).then(function(){\n                            \nvar gd = document.getElementById('98b613fc-558f-44bd-9a11-93fa8b8c749c');\nvar x = new MutationObserver(function (mutations, observer) {{\n        var display = window.getComputedStyle(gd).display;\n        if (!display || display === 'none') {{\n            console.log([gd, 'removed!']);\n            Plotly.purge(gd);\n            observer.disconnect();\n        }}\n}});\n\n// Listen for the removal of the full notebook cells\nvar notebookContainer = gd.closest('#notebook-container');\nif (notebookContainer) {{\n    x.observe(notebookContainer, {childList: true});\n}}\n\n// Listen for the clearing of the current output cell\nvar outputEl = gd.closest('.output');\nif (outputEl) {{\n    x.observe(outputEl, {childList: true});\n}}\n\n                        })                };                });            </script>        </div>"
     },
     "metadata": {},
     "output_type": "display_data"
    }
   ],
   "source": [
    "px.line(df_hidalgo, x='Période', y=\"Somme\", color='Chaîne', labels={\n",
    "    \"Période\": \"Temps en jours\",\n",
    "    \"Somme\": \"Temps de parole en minutes\",\n",
    "    \"Chaîne\": \"Chaîne\"\n",
    "}, title=\"Hidalgo : Évolution du temps de parole en fonction du temps\")\n"
   ],
   "metadata": {
    "collapsed": false,
    "pycharm": {
     "name": "#%%\n"
    }
   }
  },
  {
   "cell_type": "code",
   "execution_count": 25,
   "outputs": [
    {
     "data": {
      "application/vnd.plotly.v1+json": {
       "data": [
        {
         "hovertemplate": "Chaîne=TF1<br>Temps en jours=%{x}<br>Temps de parole en minutes=%{y}<extra></extra>",
         "legendgroup": "TF1",
         "line": {
          "color": "#636efa",
          "dash": "solid"
         },
         "marker": {
          "symbol": "circle"
         },
         "mode": "lines",
         "name": "TF1",
         "orientation": "v",
         "showlegend": true,
         "x": [
          "2022-03-13T00:00:00",
          "2022-03-20T00:00:00",
          "2022-03-27T00:00:00",
          "2022-04-03T00:00:00",
          "2022-04-08T00:00:00"
         ],
         "xaxis": "x",
         "y": [
          0.21666666666666667,
          16.816666666666666,
          18.383333333333333,
          0.7166666666666667,
          10.833333333333334
         ],
         "yaxis": "y",
         "type": "scatter"
        },
        {
         "hovertemplate": "Chaîne=France2<br>Temps en jours=%{x}<br>Temps de parole en minutes=%{y}<extra></extra>",
         "legendgroup": "France2",
         "line": {
          "color": "#EF553B",
          "dash": "solid"
         },
         "marker": {
          "symbol": "circle"
         },
         "mode": "lines",
         "name": "France2",
         "orientation": "v",
         "showlegend": true,
         "x": [
          "2022-03-13T00:00:00",
          "2022-03-20T00:00:00",
          "2022-03-27T00:00:00",
          "2022-04-03T00:00:00",
          "2022-04-08T00:00:00"
         ],
         "xaxis": "x",
         "y": [
          9.766666666666666,
          27.35,
          45.550000000000004,
          7.75,
          32.833333333333336
         ],
         "yaxis": "y",
         "type": "scatter"
        },
        {
         "hovertemplate": "Chaîne=France3<br>Temps en jours=%{x}<br>Temps de parole en minutes=%{y}<extra></extra>",
         "legendgroup": "France3",
         "line": {
          "color": "#00cc96",
          "dash": "solid"
         },
         "marker": {
          "symbol": "circle"
         },
         "mode": "lines",
         "name": "France3",
         "orientation": "v",
         "showlegend": true,
         "x": [
          "2022-03-13T00:00:00",
          "2022-03-20T00:00:00",
          "2022-03-27T00:00:00",
          "2022-04-03T00:00:00",
          "2022-04-08T00:00:00"
         ],
         "xaxis": "x",
         "y": [
          0.2833333333333333,
          14.45,
          15.25,
          1.5166666666666666,
          2.3833333333333333
         ],
         "yaxis": "y",
         "type": "scatter"
        },
        {
         "hovertemplate": "Chaîne=France5<br>Temps en jours=%{x}<br>Temps de parole en minutes=%{y}<extra></extra>",
         "legendgroup": "France5",
         "line": {
          "color": "#ab63fa",
          "dash": "solid"
         },
         "marker": {
          "symbol": "circle"
         },
         "mode": "lines",
         "name": "France5",
         "orientation": "v",
         "showlegend": true,
         "x": [
          "2022-03-13T00:00:00",
          "2022-03-20T00:00:00",
          "2022-03-27T00:00:00",
          "2022-04-03T00:00:00",
          "2022-04-08T00:00:00"
         ],
         "xaxis": "x",
         "y": [
          1.0333333333333334,
          3.7166666666666663,
          22.816666666666666,
          7.033333333333333,
          10.716666666666667
         ],
         "yaxis": "y",
         "type": "scatter"
        },
        {
         "hovertemplate": "Chaîne=M6<br>Temps en jours=%{x}<br>Temps de parole en minutes=%{y}<extra></extra>",
         "legendgroup": "M6",
         "line": {
          "color": "#FFA15A",
          "dash": "solid"
         },
         "marker": {
          "symbol": "circle"
         },
         "mode": "lines",
         "name": "M6",
         "orientation": "v",
         "showlegend": true,
         "x": [
          "2022-03-13T00:00:00",
          "2022-03-20T00:00:00",
          "2022-03-27T00:00:00",
          "2022-04-03T00:00:00",
          "2022-04-08T00:00:00"
         ],
         "xaxis": "x",
         "y": [
          0.3333333333333333,
          14.766666666666667,
          16.15,
          1.6,
          2.7333333333333334
         ],
         "yaxis": "y",
         "type": "scatter"
        },
        {
         "hovertemplate": "Chaîne=TMC<br>Temps en jours=%{x}<br>Temps de parole en minutes=%{y}<extra></extra>",
         "legendgroup": "TMC",
         "line": {
          "color": "#19d3f3",
          "dash": "solid"
         },
         "marker": {
          "symbol": "circle"
         },
         "mode": "lines",
         "name": "TMC",
         "orientation": "v",
         "showlegend": true,
         "x": [
          "2022-03-13T00:00:00",
          "2022-03-20T00:00:00",
          "2022-03-27T00:00:00",
          "2022-04-03T00:00:00",
          "2022-04-08T00:00:00"
         ],
         "xaxis": "x",
         "y": [
          1.9333333333333333,
          5.916666666666667,
          7.75,
          7.65,
          18.316666666666666
         ],
         "yaxis": "y",
         "type": "scatter"
        },
        {
         "hovertemplate": "Chaîne=BFMTV<br>Temps en jours=%{x}<br>Temps de parole en minutes=%{y}<extra></extra>",
         "legendgroup": "BFMTV",
         "line": {
          "color": "#FF6692",
          "dash": "solid"
         },
         "marker": {
          "symbol": "circle"
         },
         "mode": "lines",
         "name": "BFMTV",
         "orientation": "v",
         "showlegend": true,
         "x": [
          "2022-03-13T00:00:00",
          "2022-03-20T00:00:00",
          "2022-03-27T00:00:00",
          "2022-04-03T00:00:00",
          "2022-04-08T00:00:00"
         ],
         "xaxis": "x",
         "y": [
          11.9,
          48.2,
          146.8,
          2.55,
          33.2
         ],
         "yaxis": "y",
         "type": "scatter"
        },
        {
         "hovertemplate": "Chaîne=Cnews<br>Temps en jours=%{x}<br>Temps de parole en minutes=%{y}<extra></extra>",
         "legendgroup": "Cnews",
         "line": {
          "color": "#B6E880",
          "dash": "solid"
         },
         "marker": {
          "symbol": "circle"
         },
         "mode": "lines",
         "name": "Cnews",
         "orientation": "v",
         "showlegend": true,
         "x": [
          "2022-03-13T00:00:00",
          "2022-03-20T00:00:00",
          "2022-03-27T00:00:00",
          "2022-04-03T00:00:00",
          "2022-04-08T00:00:00"
         ],
         "xaxis": "x",
         "y": [
          21.15,
          111.46666666666667,
          276.1166666666667,
          27.583333333333336,
          82.35
         ],
         "yaxis": "y",
         "type": "scatter"
        },
        {
         "hovertemplate": "Chaîne=LCI<br>Temps en jours=%{x}<br>Temps de parole en minutes=%{y}<extra></extra>",
         "legendgroup": "LCI",
         "line": {
          "color": "#FF97FF",
          "dash": "solid"
         },
         "marker": {
          "symbol": "circle"
         },
         "mode": "lines",
         "name": "LCI",
         "orientation": "v",
         "showlegend": true,
         "x": [
          "2022-03-13T00:00:00",
          "2022-03-20T00:00:00",
          "2022-03-27T00:00:00",
          "2022-04-03T00:00:00",
          "2022-04-08T00:00:00"
         ],
         "xaxis": "x",
         "y": [
          9.9,
          80.96666666666667,
          188.58333333333334,
          156.98333333333335,
          210.66666666666666
         ],
         "yaxis": "y",
         "type": "scatter"
        },
        {
         "hovertemplate": "Chaîne=FranceinfoTV<br>Temps en jours=%{x}<br>Temps de parole en minutes=%{y}<extra></extra>",
         "legendgroup": "FranceinfoTV",
         "line": {
          "color": "#FECB52",
          "dash": "solid"
         },
         "marker": {
          "symbol": "circle"
         },
         "mode": "lines",
         "name": "FranceinfoTV",
         "orientation": "v",
         "showlegend": true,
         "x": [
          "2022-03-13T00:00:00",
          "2022-03-20T00:00:00",
          "2022-03-27T00:00:00",
          "2022-04-03T00:00:00",
          "2022-04-08T00:00:00"
         ],
         "xaxis": "x",
         "y": [
          11.45,
          56.75,
          134.38333333333335,
          132.83333333333334,
          183.58333333333334
         ],
         "yaxis": "y",
         "type": "scatter"
        },
        {
         "hovertemplate": "Chaîne=FranceInter<br>Temps en jours=%{x}<br>Temps de parole en minutes=%{y}<extra></extra>",
         "legendgroup": "FranceInter",
         "line": {
          "color": "#636efa",
          "dash": "solid"
         },
         "marker": {
          "symbol": "circle"
         },
         "mode": "lines",
         "name": "FranceInter",
         "orientation": "v",
         "showlegend": true,
         "x": [
          "2022-03-13T00:00:00",
          "2022-03-20T00:00:00",
          "2022-03-27T00:00:00",
          "2022-04-03T00:00:00",
          "2022-04-08T00:00:00"
         ],
         "xaxis": "x",
         "y": [
          2.9166666666666665,
          16.45,
          22.916666666666668,
          4.05,
          14.350000000000001
         ],
         "yaxis": "y",
         "type": "scatter"
        },
        {
         "hovertemplate": "Chaîne=FranceInfo<br>Temps en jours=%{x}<br>Temps de parole en minutes=%{y}<extra></extra>",
         "legendgroup": "FranceInfo",
         "line": {
          "color": "#EF553B",
          "dash": "solid"
         },
         "marker": {
          "symbol": "circle"
         },
         "mode": "lines",
         "name": "FranceInfo",
         "orientation": "v",
         "showlegend": true,
         "x": [
          "2022-03-13T00:00:00",
          "2022-03-20T00:00:00",
          "2022-03-27T00:00:00",
          "2022-04-03T00:00:00",
          "2022-04-08T00:00:00"
         ],
         "xaxis": "x",
         "y": [
          4.716666666666667,
          20.2,
          78.48333333333333,
          51.06666666666666,
          82.35
         ],
         "yaxis": "y",
         "type": "scatter"
        },
        {
         "hovertemplate": "Chaîne=FranceCulture<br>Temps en jours=%{x}<br>Temps de parole en minutes=%{y}<extra></extra>",
         "legendgroup": "FranceCulture",
         "line": {
          "color": "#00cc96",
          "dash": "solid"
         },
         "marker": {
          "symbol": "circle"
         },
         "mode": "lines",
         "name": "FranceCulture",
         "orientation": "v",
         "showlegend": true,
         "x": [
          "2022-03-13T00:00:00",
          "2022-03-20T00:00:00",
          "2022-03-27T00:00:00",
          "2022-04-03T00:00:00",
          "2022-04-08T00:00:00"
         ],
         "xaxis": "x",
         "y": [
          10.433333333333334,
          10.683333333333334,
          11.283333333333333,
          0.7666666666666667,
          10.933333333333334
         ],
         "yaxis": "y",
         "type": "scatter"
        },
        {
         "hovertemplate": "Chaîne=RTL<br>Temps en jours=%{x}<br>Temps de parole en minutes=%{y}<extra></extra>",
         "legendgroup": "RTL",
         "line": {
          "color": "#ab63fa",
          "dash": "solid"
         },
         "marker": {
          "symbol": "circle"
         },
         "mode": "lines",
         "name": "RTL",
         "orientation": "v",
         "showlegend": true,
         "x": [
          "2022-03-13T00:00:00",
          "2022-03-20T00:00:00",
          "2022-03-27T00:00:00",
          "2022-04-03T00:00:00",
          "2022-04-08T00:00:00"
         ],
         "xaxis": "x",
         "y": [
          0.2,
          97.85000000000001,
          105.01666666666667,
          12.616666666666667,
          15.700000000000001
         ],
         "yaxis": "y",
         "type": "scatter"
        },
        {
         "hovertemplate": "Chaîne=Europe1<br>Temps en jours=%{x}<br>Temps de parole en minutes=%{y}<extra></extra>",
         "legendgroup": "Europe1",
         "line": {
          "color": "#FFA15A",
          "dash": "solid"
         },
         "marker": {
          "symbol": "circle"
         },
         "mode": "lines",
         "name": "Europe1",
         "orientation": "v",
         "showlegend": true,
         "x": [
          "2022-03-13T00:00:00",
          "2022-03-20T00:00:00",
          "2022-03-27T00:00:00",
          "2022-04-03T00:00:00",
          "2022-04-08T00:00:00"
         ],
         "xaxis": "x",
         "y": [
          25.383333333333333,
          32.86666666666667,
          47.400000000000006,
          15.466666666666667,
          48.983333333333334
         ],
         "yaxis": "y",
         "type": "scatter"
        },
        {
         "hovertemplate": "Chaîne=RMC<br>Temps en jours=%{x}<br>Temps de parole en minutes=%{y}<extra></extra>",
         "legendgroup": "RMC",
         "line": {
          "color": "#19d3f3",
          "dash": "solid"
         },
         "marker": {
          "symbol": "circle"
         },
         "mode": "lines",
         "name": "RMC",
         "orientation": "v",
         "showlegend": true,
         "x": [
          "2022-03-13T00:00:00",
          "2022-03-20T00:00:00",
          "2022-03-27T00:00:00",
          "2022-04-03T00:00:00",
          "2022-04-08T00:00:00"
         ],
         "xaxis": "x",
         "y": [
          38.75,
          40.28333333333333,
          65.58333333333333,
          3.1333333333333333,
          17.233333333333334
         ],
         "yaxis": "y",
         "type": "scatter"
        },
        {
         "hovertemplate": "Chaîne=BFMBusiness<br>Temps en jours=%{x}<br>Temps de parole en minutes=%{y}<extra></extra>",
         "legendgroup": "BFMBusiness",
         "line": {
          "color": "#FF6692",
          "dash": "solid"
         },
         "marker": {
          "symbol": "circle"
         },
         "mode": "lines",
         "name": "BFMBusiness",
         "orientation": "v",
         "showlegend": true,
         "x": [
          "2022-03-13T00:00:00",
          "2022-03-20T00:00:00",
          "2022-03-27T00:00:00"
         ],
         "xaxis": "x",
         "y": [
          1.0666666666666667,
          1.0666666666666667,
          19.46666666666667
         ],
         "yaxis": "y",
         "type": "scatter"
        },
        {
         "hovertemplate": "Chaîne=RadioClassique<br>Temps en jours=%{x}<br>Temps de parole en minutes=%{y}<extra></extra>",
         "legendgroup": "RadioClassique",
         "line": {
          "color": "#B6E880",
          "dash": "solid"
         },
         "marker": {
          "symbol": "circle"
         },
         "mode": "lines",
         "name": "RadioClassique",
         "orientation": "v",
         "showlegend": true,
         "x": [
          "2022-03-13T00:00:00",
          "2022-03-20T00:00:00",
          "2022-03-27T00:00:00",
          "2022-04-03T00:00:00",
          "2022-04-08T00:00:00"
         ],
         "xaxis": "x",
         "y": [
          0.0,
          0.4666666666666667,
          0.8,
          0.0,
          0.0
         ],
         "yaxis": "y",
         "type": "scatter"
        },
        {
         "hovertemplate": "Chaîne=SudRadio<br>Temps en jours=%{x}<br>Temps de parole en minutes=%{y}<extra></extra>",
         "legendgroup": "SudRadio",
         "line": {
          "color": "#FF97FF",
          "dash": "solid"
         },
         "marker": {
          "symbol": "circle"
         },
         "mode": "lines",
         "name": "SudRadio",
         "orientation": "v",
         "showlegend": true,
         "x": [
          "2022-03-13T00:00:00",
          "2022-03-20T00:00:00",
          "2022-03-27T00:00:00",
          "2022-04-03T00:00:00",
          "2022-04-08T00:00:00"
         ],
         "xaxis": "x",
         "y": [
          8.0,
          10.5,
          10.5,
          0.7666666666666666,
          1.6666666666666667
         ],
         "yaxis": "y",
         "type": "scatter"
        },
        {
         "hovertemplate": "Chaîne=TV5Monde<br>Temps en jours=%{x}<br>Temps de parole en minutes=%{y}<extra></extra>",
         "legendgroup": "TV5Monde",
         "line": {
          "color": "#FECB52",
          "dash": "solid"
         },
         "marker": {
          "symbol": "circle"
         },
         "mode": "lines",
         "name": "TV5Monde",
         "orientation": "v",
         "showlegend": true,
         "x": [
          "2022-03-13T00:00:00",
          "2022-03-20T00:00:00",
          "2022-03-27T00:00:00",
          "2022-04-03T00:00:00",
          "2022-04-08T00:00:00"
         ],
         "xaxis": "x",
         "y": [
          0.16666666666666666,
          17.75,
          35.95,
          7.416666666666667,
          32.233333333333334
         ],
         "yaxis": "y",
         "type": "scatter"
        },
        {
         "hovertemplate": "Chaîne=Euronews<br>Temps en jours=%{x}<br>Temps de parole en minutes=%{y}<extra></extra>",
         "legendgroup": "Euronews",
         "line": {
          "color": "#636efa",
          "dash": "solid"
         },
         "marker": {
          "symbol": "circle"
         },
         "mode": "lines",
         "name": "Euronews",
         "orientation": "v",
         "showlegend": true,
         "x": [
          "2022-03-13T00:00:00",
          "2022-03-20T00:00:00",
          "2022-03-27T00:00:00"
         ],
         "xaxis": "x",
         "y": [
          0.0,
          0.0,
          0.0
         ],
         "yaxis": "y",
         "type": "scatter"
        },
        {
         "hovertemplate": "Chaîne=RFI<br>Temps en jours=%{x}<br>Temps de parole en minutes=%{y}<extra></extra>",
         "legendgroup": "RFI",
         "line": {
          "color": "#EF553B",
          "dash": "solid"
         },
         "marker": {
          "symbol": "circle"
         },
         "mode": "lines",
         "name": "RFI",
         "orientation": "v",
         "showlegend": true,
         "x": [
          "2022-03-13T00:00:00",
          "2022-03-20T00:00:00",
          "2022-03-27T00:00:00",
          "2022-04-03T00:00:00",
          "2022-04-08T00:00:00"
         ],
         "xaxis": "x",
         "y": [
          16.0,
          16.933333333333334,
          27.583333333333332,
          11.75,
          26.31666666666667
         ],
         "yaxis": "y",
         "type": "scatter"
        },
        {
         "hovertemplate": "Chaîne=France24<br>Temps en jours=%{x}<br>Temps de parole en minutes=%{y}<extra></extra>",
         "legendgroup": "France24",
         "line": {
          "color": "#00cc96",
          "dash": "solid"
         },
         "marker": {
          "symbol": "circle"
         },
         "mode": "lines",
         "name": "France24",
         "orientation": "v",
         "showlegend": true,
         "x": [
          "2022-03-13T00:00:00",
          "2022-03-20T00:00:00",
          "2022-03-27T00:00:00",
          "2022-04-03T00:00:00",
          "2022-04-08T00:00:00"
         ],
         "xaxis": "x",
         "y": [
          17.133333333333333,
          20.416666666666668,
          24.499999999999996,
          9.616666666666667,
          23.266666666666666
         ],
         "yaxis": "y",
         "type": "scatter"
        },
        {
         "hovertemplate": "Chaîne=RMC Story<br>Temps en jours=%{x}<br>Temps de parole en minutes=%{y}<extra></extra>",
         "legendgroup": "RMC Story",
         "line": {
          "color": "#ab63fa",
          "dash": "solid"
         },
         "marker": {
          "symbol": "circle"
         },
         "mode": "lines",
         "name": "RMC Story",
         "orientation": "v",
         "showlegend": true,
         "x": [
          "2022-03-13T00:00:00",
          "2022-03-20T00:00:00",
          "2022-03-27T00:00:00",
          "2022-04-03T00:00:00",
          "2022-04-08T00:00:00"
         ],
         "xaxis": "x",
         "y": [
          25.633333333333333,
          25.8,
          41.766666666666666,
          0.6,
          7.533333333333333
         ],
         "yaxis": "y",
         "type": "scatter"
        },
        {
         "hovertemplate": "Chaîne=C8<br>Temps en jours=%{x}<br>Temps de parole en minutes=%{y}<extra></extra>",
         "legendgroup": "C8",
         "line": {
          "color": "#FFA15A",
          "dash": "solid"
         },
         "marker": {
          "symbol": "circle"
         },
         "mode": "lines",
         "name": "C8",
         "orientation": "v",
         "showlegend": true,
         "x": [
          "2022-03-20T00:00:00",
          "2022-03-27T00:00:00",
          "2022-04-03T00:00:00",
          "2022-04-08T00:00:00"
         ],
         "xaxis": "x",
         "y": [
          17.96666666666667,
          45.96666666666667,
          10.066666666666666,
          10.9
         ],
         "yaxis": "y",
         "type": "scatter"
        },
        {
         "hovertemplate": "Chaîne=RMCDecouverte<br>Temps en jours=%{x}<br>Temps de parole en minutes=%{y}<extra></extra>",
         "legendgroup": "RMCDecouverte",
         "line": {
          "color": "#19d3f3",
          "dash": "solid"
         },
         "marker": {
          "symbol": "circle"
         },
         "mode": "lines",
         "name": "RMCDecouverte",
         "orientation": "v",
         "showlegend": true,
         "x": [
          "2022-03-20T00:00:00",
          "2022-03-27T00:00:00"
         ],
         "xaxis": "x",
         "y": [
          0.0,
          0.0
         ],
         "yaxis": "y",
         "type": "scatter"
        }
       ],
       "layout": {
        "template": {
         "data": {
          "histogram2dcontour": [
           {
            "type": "histogram2dcontour",
            "colorbar": {
             "outlinewidth": 0,
             "ticks": ""
            },
            "colorscale": [
             [
              0.0,
              "#0d0887"
             ],
             [
              0.1111111111111111,
              "#46039f"
             ],
             [
              0.2222222222222222,
              "#7201a8"
             ],
             [
              0.3333333333333333,
              "#9c179e"
             ],
             [
              0.4444444444444444,
              "#bd3786"
             ],
             [
              0.5555555555555556,
              "#d8576b"
             ],
             [
              0.6666666666666666,
              "#ed7953"
             ],
             [
              0.7777777777777778,
              "#fb9f3a"
             ],
             [
              0.8888888888888888,
              "#fdca26"
             ],
             [
              1.0,
              "#f0f921"
             ]
            ]
           }
          ],
          "choropleth": [
           {
            "type": "choropleth",
            "colorbar": {
             "outlinewidth": 0,
             "ticks": ""
            }
           }
          ],
          "histogram2d": [
           {
            "type": "histogram2d",
            "colorbar": {
             "outlinewidth": 0,
             "ticks": ""
            },
            "colorscale": [
             [
              0.0,
              "#0d0887"
             ],
             [
              0.1111111111111111,
              "#46039f"
             ],
             [
              0.2222222222222222,
              "#7201a8"
             ],
             [
              0.3333333333333333,
              "#9c179e"
             ],
             [
              0.4444444444444444,
              "#bd3786"
             ],
             [
              0.5555555555555556,
              "#d8576b"
             ],
             [
              0.6666666666666666,
              "#ed7953"
             ],
             [
              0.7777777777777778,
              "#fb9f3a"
             ],
             [
              0.8888888888888888,
              "#fdca26"
             ],
             [
              1.0,
              "#f0f921"
             ]
            ]
           }
          ],
          "heatmap": [
           {
            "type": "heatmap",
            "colorbar": {
             "outlinewidth": 0,
             "ticks": ""
            },
            "colorscale": [
             [
              0.0,
              "#0d0887"
             ],
             [
              0.1111111111111111,
              "#46039f"
             ],
             [
              0.2222222222222222,
              "#7201a8"
             ],
             [
              0.3333333333333333,
              "#9c179e"
             ],
             [
              0.4444444444444444,
              "#bd3786"
             ],
             [
              0.5555555555555556,
              "#d8576b"
             ],
             [
              0.6666666666666666,
              "#ed7953"
             ],
             [
              0.7777777777777778,
              "#fb9f3a"
             ],
             [
              0.8888888888888888,
              "#fdca26"
             ],
             [
              1.0,
              "#f0f921"
             ]
            ]
           }
          ],
          "heatmapgl": [
           {
            "type": "heatmapgl",
            "colorbar": {
             "outlinewidth": 0,
             "ticks": ""
            },
            "colorscale": [
             [
              0.0,
              "#0d0887"
             ],
             [
              0.1111111111111111,
              "#46039f"
             ],
             [
              0.2222222222222222,
              "#7201a8"
             ],
             [
              0.3333333333333333,
              "#9c179e"
             ],
             [
              0.4444444444444444,
              "#bd3786"
             ],
             [
              0.5555555555555556,
              "#d8576b"
             ],
             [
              0.6666666666666666,
              "#ed7953"
             ],
             [
              0.7777777777777778,
              "#fb9f3a"
             ],
             [
              0.8888888888888888,
              "#fdca26"
             ],
             [
              1.0,
              "#f0f921"
             ]
            ]
           }
          ],
          "contourcarpet": [
           {
            "type": "contourcarpet",
            "colorbar": {
             "outlinewidth": 0,
             "ticks": ""
            }
           }
          ],
          "contour": [
           {
            "type": "contour",
            "colorbar": {
             "outlinewidth": 0,
             "ticks": ""
            },
            "colorscale": [
             [
              0.0,
              "#0d0887"
             ],
             [
              0.1111111111111111,
              "#46039f"
             ],
             [
              0.2222222222222222,
              "#7201a8"
             ],
             [
              0.3333333333333333,
              "#9c179e"
             ],
             [
              0.4444444444444444,
              "#bd3786"
             ],
             [
              0.5555555555555556,
              "#d8576b"
             ],
             [
              0.6666666666666666,
              "#ed7953"
             ],
             [
              0.7777777777777778,
              "#fb9f3a"
             ],
             [
              0.8888888888888888,
              "#fdca26"
             ],
             [
              1.0,
              "#f0f921"
             ]
            ]
           }
          ],
          "surface": [
           {
            "type": "surface",
            "colorbar": {
             "outlinewidth": 0,
             "ticks": ""
            },
            "colorscale": [
             [
              0.0,
              "#0d0887"
             ],
             [
              0.1111111111111111,
              "#46039f"
             ],
             [
              0.2222222222222222,
              "#7201a8"
             ],
             [
              0.3333333333333333,
              "#9c179e"
             ],
             [
              0.4444444444444444,
              "#bd3786"
             ],
             [
              0.5555555555555556,
              "#d8576b"
             ],
             [
              0.6666666666666666,
              "#ed7953"
             ],
             [
              0.7777777777777778,
              "#fb9f3a"
             ],
             [
              0.8888888888888888,
              "#fdca26"
             ],
             [
              1.0,
              "#f0f921"
             ]
            ]
           }
          ],
          "mesh3d": [
           {
            "type": "mesh3d",
            "colorbar": {
             "outlinewidth": 0,
             "ticks": ""
            }
           }
          ],
          "scatter": [
           {
            "marker": {
             "line": {
              "color": "#283442"
             }
            },
            "type": "scatter"
           }
          ],
          "parcoords": [
           {
            "type": "parcoords",
            "line": {
             "colorbar": {
              "outlinewidth": 0,
              "ticks": ""
             }
            }
           }
          ],
          "scatterpolargl": [
           {
            "type": "scatterpolargl",
            "marker": {
             "colorbar": {
              "outlinewidth": 0,
              "ticks": ""
             }
            }
           }
          ],
          "bar": [
           {
            "error_x": {
             "color": "#f2f5fa"
            },
            "error_y": {
             "color": "#f2f5fa"
            },
            "marker": {
             "line": {
              "color": "rgb(17,17,17)",
              "width": 0.5
             },
             "pattern": {
              "fillmode": "overlay",
              "size": 10,
              "solidity": 0.2
             }
            },
            "type": "bar"
           }
          ],
          "scattergeo": [
           {
            "type": "scattergeo",
            "marker": {
             "colorbar": {
              "outlinewidth": 0,
              "ticks": ""
             }
            }
           }
          ],
          "scatterpolar": [
           {
            "type": "scatterpolar",
            "marker": {
             "colorbar": {
              "outlinewidth": 0,
              "ticks": ""
             }
            }
           }
          ],
          "histogram": [
           {
            "marker": {
             "pattern": {
              "fillmode": "overlay",
              "size": 10,
              "solidity": 0.2
             }
            },
            "type": "histogram"
           }
          ],
          "scattergl": [
           {
            "marker": {
             "line": {
              "color": "#283442"
             }
            },
            "type": "scattergl"
           }
          ],
          "scatter3d": [
           {
            "type": "scatter3d",
            "line": {
             "colorbar": {
              "outlinewidth": 0,
              "ticks": ""
             }
            },
            "marker": {
             "colorbar": {
              "outlinewidth": 0,
              "ticks": ""
             }
            }
           }
          ],
          "scattermapbox": [
           {
            "type": "scattermapbox",
            "marker": {
             "colorbar": {
              "outlinewidth": 0,
              "ticks": ""
             }
            }
           }
          ],
          "scatterternary": [
           {
            "type": "scatterternary",
            "marker": {
             "colorbar": {
              "outlinewidth": 0,
              "ticks": ""
             }
            }
           }
          ],
          "scattercarpet": [
           {
            "type": "scattercarpet",
            "marker": {
             "colorbar": {
              "outlinewidth": 0,
              "ticks": ""
             }
            }
           }
          ],
          "carpet": [
           {
            "aaxis": {
             "endlinecolor": "#A2B1C6",
             "gridcolor": "#506784",
             "linecolor": "#506784",
             "minorgridcolor": "#506784",
             "startlinecolor": "#A2B1C6"
            },
            "baxis": {
             "endlinecolor": "#A2B1C6",
             "gridcolor": "#506784",
             "linecolor": "#506784",
             "minorgridcolor": "#506784",
             "startlinecolor": "#A2B1C6"
            },
            "type": "carpet"
           }
          ],
          "table": [
           {
            "cells": {
             "fill": {
              "color": "#506784"
             },
             "line": {
              "color": "rgb(17,17,17)"
             }
            },
            "header": {
             "fill": {
              "color": "#2a3f5f"
             },
             "line": {
              "color": "rgb(17,17,17)"
             }
            },
            "type": "table"
           }
          ],
          "barpolar": [
           {
            "marker": {
             "line": {
              "color": "rgb(17,17,17)",
              "width": 0.5
             },
             "pattern": {
              "fillmode": "overlay",
              "size": 10,
              "solidity": 0.2
             }
            },
            "type": "barpolar"
           }
          ],
          "pie": [
           {
            "automargin": true,
            "type": "pie"
           }
          ]
         },
         "layout": {
          "autotypenumbers": "strict",
          "colorway": [
           "#636efa",
           "#EF553B",
           "#00cc96",
           "#ab63fa",
           "#FFA15A",
           "#19d3f3",
           "#FF6692",
           "#B6E880",
           "#FF97FF",
           "#FECB52"
          ],
          "font": {
           "color": "#f2f5fa"
          },
          "hovermode": "closest",
          "hoverlabel": {
           "align": "left"
          },
          "paper_bgcolor": "rgb(17,17,17)",
          "plot_bgcolor": "rgb(17,17,17)",
          "polar": {
           "bgcolor": "rgb(17,17,17)",
           "angularaxis": {
            "gridcolor": "#506784",
            "linecolor": "#506784",
            "ticks": ""
           },
           "radialaxis": {
            "gridcolor": "#506784",
            "linecolor": "#506784",
            "ticks": ""
           }
          },
          "ternary": {
           "bgcolor": "rgb(17,17,17)",
           "aaxis": {
            "gridcolor": "#506784",
            "linecolor": "#506784",
            "ticks": ""
           },
           "baxis": {
            "gridcolor": "#506784",
            "linecolor": "#506784",
            "ticks": ""
           },
           "caxis": {
            "gridcolor": "#506784",
            "linecolor": "#506784",
            "ticks": ""
           }
          },
          "coloraxis": {
           "colorbar": {
            "outlinewidth": 0,
            "ticks": ""
           }
          },
          "colorscale": {
           "sequential": [
            [
             0.0,
             "#0d0887"
            ],
            [
             0.1111111111111111,
             "#46039f"
            ],
            [
             0.2222222222222222,
             "#7201a8"
            ],
            [
             0.3333333333333333,
             "#9c179e"
            ],
            [
             0.4444444444444444,
             "#bd3786"
            ],
            [
             0.5555555555555556,
             "#d8576b"
            ],
            [
             0.6666666666666666,
             "#ed7953"
            ],
            [
             0.7777777777777778,
             "#fb9f3a"
            ],
            [
             0.8888888888888888,
             "#fdca26"
            ],
            [
             1.0,
             "#f0f921"
            ]
           ],
           "sequentialminus": [
            [
             0.0,
             "#0d0887"
            ],
            [
             0.1111111111111111,
             "#46039f"
            ],
            [
             0.2222222222222222,
             "#7201a8"
            ],
            [
             0.3333333333333333,
             "#9c179e"
            ],
            [
             0.4444444444444444,
             "#bd3786"
            ],
            [
             0.5555555555555556,
             "#d8576b"
            ],
            [
             0.6666666666666666,
             "#ed7953"
            ],
            [
             0.7777777777777778,
             "#fb9f3a"
            ],
            [
             0.8888888888888888,
             "#fdca26"
            ],
            [
             1.0,
             "#f0f921"
            ]
           ],
           "diverging": [
            [
             0,
             "#8e0152"
            ],
            [
             0.1,
             "#c51b7d"
            ],
            [
             0.2,
             "#de77ae"
            ],
            [
             0.3,
             "#f1b6da"
            ],
            [
             0.4,
             "#fde0ef"
            ],
            [
             0.5,
             "#f7f7f7"
            ],
            [
             0.6,
             "#e6f5d0"
            ],
            [
             0.7,
             "#b8e186"
            ],
            [
             0.8,
             "#7fbc41"
            ],
            [
             0.9,
             "#4d9221"
            ],
            [
             1,
             "#276419"
            ]
           ]
          },
          "xaxis": {
           "gridcolor": "#283442",
           "linecolor": "#506784",
           "ticks": "",
           "title": {
            "standoff": 15
           },
           "zerolinecolor": "#283442",
           "automargin": true,
           "zerolinewidth": 2
          },
          "yaxis": {
           "gridcolor": "#283442",
           "linecolor": "#506784",
           "ticks": "",
           "title": {
            "standoff": 15
           },
           "zerolinecolor": "#283442",
           "automargin": true,
           "zerolinewidth": 2
          },
          "scene": {
           "xaxis": {
            "backgroundcolor": "rgb(17,17,17)",
            "gridcolor": "#506784",
            "linecolor": "#506784",
            "showbackground": true,
            "ticks": "",
            "zerolinecolor": "#C8D4E3",
            "gridwidth": 2
           },
           "yaxis": {
            "backgroundcolor": "rgb(17,17,17)",
            "gridcolor": "#506784",
            "linecolor": "#506784",
            "showbackground": true,
            "ticks": "",
            "zerolinecolor": "#C8D4E3",
            "gridwidth": 2
           },
           "zaxis": {
            "backgroundcolor": "rgb(17,17,17)",
            "gridcolor": "#506784",
            "linecolor": "#506784",
            "showbackground": true,
            "ticks": "",
            "zerolinecolor": "#C8D4E3",
            "gridwidth": 2
           }
          },
          "shapedefaults": {
           "line": {
            "color": "#f2f5fa"
           }
          },
          "annotationdefaults": {
           "arrowcolor": "#f2f5fa",
           "arrowhead": 0,
           "arrowwidth": 1
          },
          "geo": {
           "bgcolor": "rgb(17,17,17)",
           "landcolor": "rgb(17,17,17)",
           "subunitcolor": "#506784",
           "showland": true,
           "showlakes": true,
           "lakecolor": "rgb(17,17,17)"
          },
          "title": {
           "x": 0.05
          },
          "updatemenudefaults": {
           "bgcolor": "#506784",
           "borderwidth": 0
          },
          "sliderdefaults": {
           "bgcolor": "#C8D4E3",
           "borderwidth": 1,
           "bordercolor": "rgb(17,17,17)",
           "tickwidth": 0
          },
          "mapbox": {
           "style": "dark"
          }
         }
        },
        "xaxis": {
         "anchor": "y",
         "domain": [
          0.0,
          1.0
         ],
         "title": {
          "text": "Temps en jours"
         }
        },
        "yaxis": {
         "anchor": "x",
         "domain": [
          0.0,
          1.0
         ],
         "title": {
          "text": "Temps de parole en minutes"
         }
        },
        "legend": {
         "title": {
          "text": "Chaîne"
         },
         "tracegroupgap": 0
        },
        "title": {
         "text": "Jadot : Évolution du temps de parole en fonction du temps"
        }
       },
       "config": {
        "plotlyServerURL": "https://plot.ly"
       }
      },
      "text/html": "<div>                            <div id=\"2ebf8dd6-3ab2-4f81-b1c1-3f4fa720bac5\" class=\"plotly-graph-div\" style=\"height:525px; width:100%;\"></div>            <script type=\"text/javascript\">                require([\"plotly\"], function(Plotly) {                    window.PLOTLYENV=window.PLOTLYENV || {};                                    if (document.getElementById(\"2ebf8dd6-3ab2-4f81-b1c1-3f4fa720bac5\")) {                    Plotly.newPlot(                        \"2ebf8dd6-3ab2-4f81-b1c1-3f4fa720bac5\",                        [{\"hovertemplate\":\"Cha\\u00eene=TF1<br>Temps en jours=%{x}<br>Temps de parole en minutes=%{y}<extra></extra>\",\"legendgroup\":\"TF1\",\"line\":{\"color\":\"#636efa\",\"dash\":\"solid\"},\"marker\":{\"symbol\":\"circle\"},\"mode\":\"lines\",\"name\":\"TF1\",\"orientation\":\"v\",\"showlegend\":true,\"x\":[\"2022-03-13T00:00:00\",\"2022-03-20T00:00:00\",\"2022-03-27T00:00:00\",\"2022-04-03T00:00:00\",\"2022-04-08T00:00:00\"],\"xaxis\":\"x\",\"y\":[0.21666666666666667,16.816666666666666,18.383333333333333,0.7166666666666667,10.833333333333334],\"yaxis\":\"y\",\"type\":\"scatter\"},{\"hovertemplate\":\"Cha\\u00eene=France2<br>Temps en jours=%{x}<br>Temps de parole en minutes=%{y}<extra></extra>\",\"legendgroup\":\"France2\",\"line\":{\"color\":\"#EF553B\",\"dash\":\"solid\"},\"marker\":{\"symbol\":\"circle\"},\"mode\":\"lines\",\"name\":\"France2\",\"orientation\":\"v\",\"showlegend\":true,\"x\":[\"2022-03-13T00:00:00\",\"2022-03-20T00:00:00\",\"2022-03-27T00:00:00\",\"2022-04-03T00:00:00\",\"2022-04-08T00:00:00\"],\"xaxis\":\"x\",\"y\":[9.766666666666666,27.35,45.550000000000004,7.75,32.833333333333336],\"yaxis\":\"y\",\"type\":\"scatter\"},{\"hovertemplate\":\"Cha\\u00eene=France3<br>Temps en jours=%{x}<br>Temps de parole en minutes=%{y}<extra></extra>\",\"legendgroup\":\"France3\",\"line\":{\"color\":\"#00cc96\",\"dash\":\"solid\"},\"marker\":{\"symbol\":\"circle\"},\"mode\":\"lines\",\"name\":\"France3\",\"orientation\":\"v\",\"showlegend\":true,\"x\":[\"2022-03-13T00:00:00\",\"2022-03-20T00:00:00\",\"2022-03-27T00:00:00\",\"2022-04-03T00:00:00\",\"2022-04-08T00:00:00\"],\"xaxis\":\"x\",\"y\":[0.2833333333333333,14.45,15.25,1.5166666666666666,2.3833333333333333],\"yaxis\":\"y\",\"type\":\"scatter\"},{\"hovertemplate\":\"Cha\\u00eene=France5<br>Temps en jours=%{x}<br>Temps de parole en minutes=%{y}<extra></extra>\",\"legendgroup\":\"France5\",\"line\":{\"color\":\"#ab63fa\",\"dash\":\"solid\"},\"marker\":{\"symbol\":\"circle\"},\"mode\":\"lines\",\"name\":\"France5\",\"orientation\":\"v\",\"showlegend\":true,\"x\":[\"2022-03-13T00:00:00\",\"2022-03-20T00:00:00\",\"2022-03-27T00:00:00\",\"2022-04-03T00:00:00\",\"2022-04-08T00:00:00\"],\"xaxis\":\"x\",\"y\":[1.0333333333333334,3.7166666666666663,22.816666666666666,7.033333333333333,10.716666666666667],\"yaxis\":\"y\",\"type\":\"scatter\"},{\"hovertemplate\":\"Cha\\u00eene=M6<br>Temps en jours=%{x}<br>Temps de parole en minutes=%{y}<extra></extra>\",\"legendgroup\":\"M6\",\"line\":{\"color\":\"#FFA15A\",\"dash\":\"solid\"},\"marker\":{\"symbol\":\"circle\"},\"mode\":\"lines\",\"name\":\"M6\",\"orientation\":\"v\",\"showlegend\":true,\"x\":[\"2022-03-13T00:00:00\",\"2022-03-20T00:00:00\",\"2022-03-27T00:00:00\",\"2022-04-03T00:00:00\",\"2022-04-08T00:00:00\"],\"xaxis\":\"x\",\"y\":[0.3333333333333333,14.766666666666667,16.15,1.6,2.7333333333333334],\"yaxis\":\"y\",\"type\":\"scatter\"},{\"hovertemplate\":\"Cha\\u00eene=TMC<br>Temps en jours=%{x}<br>Temps de parole en minutes=%{y}<extra></extra>\",\"legendgroup\":\"TMC\",\"line\":{\"color\":\"#19d3f3\",\"dash\":\"solid\"},\"marker\":{\"symbol\":\"circle\"},\"mode\":\"lines\",\"name\":\"TMC\",\"orientation\":\"v\",\"showlegend\":true,\"x\":[\"2022-03-13T00:00:00\",\"2022-03-20T00:00:00\",\"2022-03-27T00:00:00\",\"2022-04-03T00:00:00\",\"2022-04-08T00:00:00\"],\"xaxis\":\"x\",\"y\":[1.9333333333333333,5.916666666666667,7.75,7.65,18.316666666666666],\"yaxis\":\"y\",\"type\":\"scatter\"},{\"hovertemplate\":\"Cha\\u00eene=BFMTV<br>Temps en jours=%{x}<br>Temps de parole en minutes=%{y}<extra></extra>\",\"legendgroup\":\"BFMTV\",\"line\":{\"color\":\"#FF6692\",\"dash\":\"solid\"},\"marker\":{\"symbol\":\"circle\"},\"mode\":\"lines\",\"name\":\"BFMTV\",\"orientation\":\"v\",\"showlegend\":true,\"x\":[\"2022-03-13T00:00:00\",\"2022-03-20T00:00:00\",\"2022-03-27T00:00:00\",\"2022-04-03T00:00:00\",\"2022-04-08T00:00:00\"],\"xaxis\":\"x\",\"y\":[11.9,48.2,146.8,2.55,33.2],\"yaxis\":\"y\",\"type\":\"scatter\"},{\"hovertemplate\":\"Cha\\u00eene=Cnews<br>Temps en jours=%{x}<br>Temps de parole en minutes=%{y}<extra></extra>\",\"legendgroup\":\"Cnews\",\"line\":{\"color\":\"#B6E880\",\"dash\":\"solid\"},\"marker\":{\"symbol\":\"circle\"},\"mode\":\"lines\",\"name\":\"Cnews\",\"orientation\":\"v\",\"showlegend\":true,\"x\":[\"2022-03-13T00:00:00\",\"2022-03-20T00:00:00\",\"2022-03-27T00:00:00\",\"2022-04-03T00:00:00\",\"2022-04-08T00:00:00\"],\"xaxis\":\"x\",\"y\":[21.15,111.46666666666667,276.1166666666667,27.583333333333336,82.35],\"yaxis\":\"y\",\"type\":\"scatter\"},{\"hovertemplate\":\"Cha\\u00eene=LCI<br>Temps en jours=%{x}<br>Temps de parole en minutes=%{y}<extra></extra>\",\"legendgroup\":\"LCI\",\"line\":{\"color\":\"#FF97FF\",\"dash\":\"solid\"},\"marker\":{\"symbol\":\"circle\"},\"mode\":\"lines\",\"name\":\"LCI\",\"orientation\":\"v\",\"showlegend\":true,\"x\":[\"2022-03-13T00:00:00\",\"2022-03-20T00:00:00\",\"2022-03-27T00:00:00\",\"2022-04-03T00:00:00\",\"2022-04-08T00:00:00\"],\"xaxis\":\"x\",\"y\":[9.9,80.96666666666667,188.58333333333334,156.98333333333335,210.66666666666666],\"yaxis\":\"y\",\"type\":\"scatter\"},{\"hovertemplate\":\"Cha\\u00eene=FranceinfoTV<br>Temps en jours=%{x}<br>Temps de parole en minutes=%{y}<extra></extra>\",\"legendgroup\":\"FranceinfoTV\",\"line\":{\"color\":\"#FECB52\",\"dash\":\"solid\"},\"marker\":{\"symbol\":\"circle\"},\"mode\":\"lines\",\"name\":\"FranceinfoTV\",\"orientation\":\"v\",\"showlegend\":true,\"x\":[\"2022-03-13T00:00:00\",\"2022-03-20T00:00:00\",\"2022-03-27T00:00:00\",\"2022-04-03T00:00:00\",\"2022-04-08T00:00:00\"],\"xaxis\":\"x\",\"y\":[11.45,56.75,134.38333333333335,132.83333333333334,183.58333333333334],\"yaxis\":\"y\",\"type\":\"scatter\"},{\"hovertemplate\":\"Cha\\u00eene=FranceInter<br>Temps en jours=%{x}<br>Temps de parole en minutes=%{y}<extra></extra>\",\"legendgroup\":\"FranceInter\",\"line\":{\"color\":\"#636efa\",\"dash\":\"solid\"},\"marker\":{\"symbol\":\"circle\"},\"mode\":\"lines\",\"name\":\"FranceInter\",\"orientation\":\"v\",\"showlegend\":true,\"x\":[\"2022-03-13T00:00:00\",\"2022-03-20T00:00:00\",\"2022-03-27T00:00:00\",\"2022-04-03T00:00:00\",\"2022-04-08T00:00:00\"],\"xaxis\":\"x\",\"y\":[2.9166666666666665,16.45,22.916666666666668,4.05,14.350000000000001],\"yaxis\":\"y\",\"type\":\"scatter\"},{\"hovertemplate\":\"Cha\\u00eene=FranceInfo<br>Temps en jours=%{x}<br>Temps de parole en minutes=%{y}<extra></extra>\",\"legendgroup\":\"FranceInfo\",\"line\":{\"color\":\"#EF553B\",\"dash\":\"solid\"},\"marker\":{\"symbol\":\"circle\"},\"mode\":\"lines\",\"name\":\"FranceInfo\",\"orientation\":\"v\",\"showlegend\":true,\"x\":[\"2022-03-13T00:00:00\",\"2022-03-20T00:00:00\",\"2022-03-27T00:00:00\",\"2022-04-03T00:00:00\",\"2022-04-08T00:00:00\"],\"xaxis\":\"x\",\"y\":[4.716666666666667,20.2,78.48333333333333,51.06666666666666,82.35],\"yaxis\":\"y\",\"type\":\"scatter\"},{\"hovertemplate\":\"Cha\\u00eene=FranceCulture<br>Temps en jours=%{x}<br>Temps de parole en minutes=%{y}<extra></extra>\",\"legendgroup\":\"FranceCulture\",\"line\":{\"color\":\"#00cc96\",\"dash\":\"solid\"},\"marker\":{\"symbol\":\"circle\"},\"mode\":\"lines\",\"name\":\"FranceCulture\",\"orientation\":\"v\",\"showlegend\":true,\"x\":[\"2022-03-13T00:00:00\",\"2022-03-20T00:00:00\",\"2022-03-27T00:00:00\",\"2022-04-03T00:00:00\",\"2022-04-08T00:00:00\"],\"xaxis\":\"x\",\"y\":[10.433333333333334,10.683333333333334,11.283333333333333,0.7666666666666667,10.933333333333334],\"yaxis\":\"y\",\"type\":\"scatter\"},{\"hovertemplate\":\"Cha\\u00eene=RTL<br>Temps en jours=%{x}<br>Temps de parole en minutes=%{y}<extra></extra>\",\"legendgroup\":\"RTL\",\"line\":{\"color\":\"#ab63fa\",\"dash\":\"solid\"},\"marker\":{\"symbol\":\"circle\"},\"mode\":\"lines\",\"name\":\"RTL\",\"orientation\":\"v\",\"showlegend\":true,\"x\":[\"2022-03-13T00:00:00\",\"2022-03-20T00:00:00\",\"2022-03-27T00:00:00\",\"2022-04-03T00:00:00\",\"2022-04-08T00:00:00\"],\"xaxis\":\"x\",\"y\":[0.2,97.85000000000001,105.01666666666667,12.616666666666667,15.700000000000001],\"yaxis\":\"y\",\"type\":\"scatter\"},{\"hovertemplate\":\"Cha\\u00eene=Europe1<br>Temps en jours=%{x}<br>Temps de parole en minutes=%{y}<extra></extra>\",\"legendgroup\":\"Europe1\",\"line\":{\"color\":\"#FFA15A\",\"dash\":\"solid\"},\"marker\":{\"symbol\":\"circle\"},\"mode\":\"lines\",\"name\":\"Europe1\",\"orientation\":\"v\",\"showlegend\":true,\"x\":[\"2022-03-13T00:00:00\",\"2022-03-20T00:00:00\",\"2022-03-27T00:00:00\",\"2022-04-03T00:00:00\",\"2022-04-08T00:00:00\"],\"xaxis\":\"x\",\"y\":[25.383333333333333,32.86666666666667,47.400000000000006,15.466666666666667,48.983333333333334],\"yaxis\":\"y\",\"type\":\"scatter\"},{\"hovertemplate\":\"Cha\\u00eene=RMC<br>Temps en jours=%{x}<br>Temps de parole en minutes=%{y}<extra></extra>\",\"legendgroup\":\"RMC\",\"line\":{\"color\":\"#19d3f3\",\"dash\":\"solid\"},\"marker\":{\"symbol\":\"circle\"},\"mode\":\"lines\",\"name\":\"RMC\",\"orientation\":\"v\",\"showlegend\":true,\"x\":[\"2022-03-13T00:00:00\",\"2022-03-20T00:00:00\",\"2022-03-27T00:00:00\",\"2022-04-03T00:00:00\",\"2022-04-08T00:00:00\"],\"xaxis\":\"x\",\"y\":[38.75,40.28333333333333,65.58333333333333,3.1333333333333333,17.233333333333334],\"yaxis\":\"y\",\"type\":\"scatter\"},{\"hovertemplate\":\"Cha\\u00eene=BFMBusiness<br>Temps en jours=%{x}<br>Temps de parole en minutes=%{y}<extra></extra>\",\"legendgroup\":\"BFMBusiness\",\"line\":{\"color\":\"#FF6692\",\"dash\":\"solid\"},\"marker\":{\"symbol\":\"circle\"},\"mode\":\"lines\",\"name\":\"BFMBusiness\",\"orientation\":\"v\",\"showlegend\":true,\"x\":[\"2022-03-13T00:00:00\",\"2022-03-20T00:00:00\",\"2022-03-27T00:00:00\"],\"xaxis\":\"x\",\"y\":[1.0666666666666667,1.0666666666666667,19.46666666666667],\"yaxis\":\"y\",\"type\":\"scatter\"},{\"hovertemplate\":\"Cha\\u00eene=RadioClassique<br>Temps en jours=%{x}<br>Temps de parole en minutes=%{y}<extra></extra>\",\"legendgroup\":\"RadioClassique\",\"line\":{\"color\":\"#B6E880\",\"dash\":\"solid\"},\"marker\":{\"symbol\":\"circle\"},\"mode\":\"lines\",\"name\":\"RadioClassique\",\"orientation\":\"v\",\"showlegend\":true,\"x\":[\"2022-03-13T00:00:00\",\"2022-03-20T00:00:00\",\"2022-03-27T00:00:00\",\"2022-04-03T00:00:00\",\"2022-04-08T00:00:00\"],\"xaxis\":\"x\",\"y\":[0.0,0.4666666666666667,0.8,0.0,0.0],\"yaxis\":\"y\",\"type\":\"scatter\"},{\"hovertemplate\":\"Cha\\u00eene=SudRadio<br>Temps en jours=%{x}<br>Temps de parole en minutes=%{y}<extra></extra>\",\"legendgroup\":\"SudRadio\",\"line\":{\"color\":\"#FF97FF\",\"dash\":\"solid\"},\"marker\":{\"symbol\":\"circle\"},\"mode\":\"lines\",\"name\":\"SudRadio\",\"orientation\":\"v\",\"showlegend\":true,\"x\":[\"2022-03-13T00:00:00\",\"2022-03-20T00:00:00\",\"2022-03-27T00:00:00\",\"2022-04-03T00:00:00\",\"2022-04-08T00:00:00\"],\"xaxis\":\"x\",\"y\":[8.0,10.5,10.5,0.7666666666666666,1.6666666666666667],\"yaxis\":\"y\",\"type\":\"scatter\"},{\"hovertemplate\":\"Cha\\u00eene=TV5Monde<br>Temps en jours=%{x}<br>Temps de parole en minutes=%{y}<extra></extra>\",\"legendgroup\":\"TV5Monde\",\"line\":{\"color\":\"#FECB52\",\"dash\":\"solid\"},\"marker\":{\"symbol\":\"circle\"},\"mode\":\"lines\",\"name\":\"TV5Monde\",\"orientation\":\"v\",\"showlegend\":true,\"x\":[\"2022-03-13T00:00:00\",\"2022-03-20T00:00:00\",\"2022-03-27T00:00:00\",\"2022-04-03T00:00:00\",\"2022-04-08T00:00:00\"],\"xaxis\":\"x\",\"y\":[0.16666666666666666,17.75,35.95,7.416666666666667,32.233333333333334],\"yaxis\":\"y\",\"type\":\"scatter\"},{\"hovertemplate\":\"Cha\\u00eene=Euronews<br>Temps en jours=%{x}<br>Temps de parole en minutes=%{y}<extra></extra>\",\"legendgroup\":\"Euronews\",\"line\":{\"color\":\"#636efa\",\"dash\":\"solid\"},\"marker\":{\"symbol\":\"circle\"},\"mode\":\"lines\",\"name\":\"Euronews\",\"orientation\":\"v\",\"showlegend\":true,\"x\":[\"2022-03-13T00:00:00\",\"2022-03-20T00:00:00\",\"2022-03-27T00:00:00\"],\"xaxis\":\"x\",\"y\":[0.0,0.0,0.0],\"yaxis\":\"y\",\"type\":\"scatter\"},{\"hovertemplate\":\"Cha\\u00eene=RFI<br>Temps en jours=%{x}<br>Temps de parole en minutes=%{y}<extra></extra>\",\"legendgroup\":\"RFI\",\"line\":{\"color\":\"#EF553B\",\"dash\":\"solid\"},\"marker\":{\"symbol\":\"circle\"},\"mode\":\"lines\",\"name\":\"RFI\",\"orientation\":\"v\",\"showlegend\":true,\"x\":[\"2022-03-13T00:00:00\",\"2022-03-20T00:00:00\",\"2022-03-27T00:00:00\",\"2022-04-03T00:00:00\",\"2022-04-08T00:00:00\"],\"xaxis\":\"x\",\"y\":[16.0,16.933333333333334,27.583333333333332,11.75,26.31666666666667],\"yaxis\":\"y\",\"type\":\"scatter\"},{\"hovertemplate\":\"Cha\\u00eene=France24<br>Temps en jours=%{x}<br>Temps de parole en minutes=%{y}<extra></extra>\",\"legendgroup\":\"France24\",\"line\":{\"color\":\"#00cc96\",\"dash\":\"solid\"},\"marker\":{\"symbol\":\"circle\"},\"mode\":\"lines\",\"name\":\"France24\",\"orientation\":\"v\",\"showlegend\":true,\"x\":[\"2022-03-13T00:00:00\",\"2022-03-20T00:00:00\",\"2022-03-27T00:00:00\",\"2022-04-03T00:00:00\",\"2022-04-08T00:00:00\"],\"xaxis\":\"x\",\"y\":[17.133333333333333,20.416666666666668,24.499999999999996,9.616666666666667,23.266666666666666],\"yaxis\":\"y\",\"type\":\"scatter\"},{\"hovertemplate\":\"Cha\\u00eene=RMC Story<br>Temps en jours=%{x}<br>Temps de parole en minutes=%{y}<extra></extra>\",\"legendgroup\":\"RMC Story\",\"line\":{\"color\":\"#ab63fa\",\"dash\":\"solid\"},\"marker\":{\"symbol\":\"circle\"},\"mode\":\"lines\",\"name\":\"RMC Story\",\"orientation\":\"v\",\"showlegend\":true,\"x\":[\"2022-03-13T00:00:00\",\"2022-03-20T00:00:00\",\"2022-03-27T00:00:00\",\"2022-04-03T00:00:00\",\"2022-04-08T00:00:00\"],\"xaxis\":\"x\",\"y\":[25.633333333333333,25.8,41.766666666666666,0.6,7.533333333333333],\"yaxis\":\"y\",\"type\":\"scatter\"},{\"hovertemplate\":\"Cha\\u00eene=C8<br>Temps en jours=%{x}<br>Temps de parole en minutes=%{y}<extra></extra>\",\"legendgroup\":\"C8\",\"line\":{\"color\":\"#FFA15A\",\"dash\":\"solid\"},\"marker\":{\"symbol\":\"circle\"},\"mode\":\"lines\",\"name\":\"C8\",\"orientation\":\"v\",\"showlegend\":true,\"x\":[\"2022-03-20T00:00:00\",\"2022-03-27T00:00:00\",\"2022-04-03T00:00:00\",\"2022-04-08T00:00:00\"],\"xaxis\":\"x\",\"y\":[17.96666666666667,45.96666666666667,10.066666666666666,10.9],\"yaxis\":\"y\",\"type\":\"scatter\"},{\"hovertemplate\":\"Cha\\u00eene=RMCDecouverte<br>Temps en jours=%{x}<br>Temps de parole en minutes=%{y}<extra></extra>\",\"legendgroup\":\"RMCDecouverte\",\"line\":{\"color\":\"#19d3f3\",\"dash\":\"solid\"},\"marker\":{\"symbol\":\"circle\"},\"mode\":\"lines\",\"name\":\"RMCDecouverte\",\"orientation\":\"v\",\"showlegend\":true,\"x\":[\"2022-03-20T00:00:00\",\"2022-03-27T00:00:00\"],\"xaxis\":\"x\",\"y\":[0.0,0.0],\"yaxis\":\"y\",\"type\":\"scatter\"}],                        {\"template\":{\"data\":{\"histogram2dcontour\":[{\"type\":\"histogram2dcontour\",\"colorbar\":{\"outlinewidth\":0,\"ticks\":\"\"},\"colorscale\":[[0.0,\"#0d0887\"],[0.1111111111111111,\"#46039f\"],[0.2222222222222222,\"#7201a8\"],[0.3333333333333333,\"#9c179e\"],[0.4444444444444444,\"#bd3786\"],[0.5555555555555556,\"#d8576b\"],[0.6666666666666666,\"#ed7953\"],[0.7777777777777778,\"#fb9f3a\"],[0.8888888888888888,\"#fdca26\"],[1.0,\"#f0f921\"]]}],\"choropleth\":[{\"type\":\"choropleth\",\"colorbar\":{\"outlinewidth\":0,\"ticks\":\"\"}}],\"histogram2d\":[{\"type\":\"histogram2d\",\"colorbar\":{\"outlinewidth\":0,\"ticks\":\"\"},\"colorscale\":[[0.0,\"#0d0887\"],[0.1111111111111111,\"#46039f\"],[0.2222222222222222,\"#7201a8\"],[0.3333333333333333,\"#9c179e\"],[0.4444444444444444,\"#bd3786\"],[0.5555555555555556,\"#d8576b\"],[0.6666666666666666,\"#ed7953\"],[0.7777777777777778,\"#fb9f3a\"],[0.8888888888888888,\"#fdca26\"],[1.0,\"#f0f921\"]]}],\"heatmap\":[{\"type\":\"heatmap\",\"colorbar\":{\"outlinewidth\":0,\"ticks\":\"\"},\"colorscale\":[[0.0,\"#0d0887\"],[0.1111111111111111,\"#46039f\"],[0.2222222222222222,\"#7201a8\"],[0.3333333333333333,\"#9c179e\"],[0.4444444444444444,\"#bd3786\"],[0.5555555555555556,\"#d8576b\"],[0.6666666666666666,\"#ed7953\"],[0.7777777777777778,\"#fb9f3a\"],[0.8888888888888888,\"#fdca26\"],[1.0,\"#f0f921\"]]}],\"heatmapgl\":[{\"type\":\"heatmapgl\",\"colorbar\":{\"outlinewidth\":0,\"ticks\":\"\"},\"colorscale\":[[0.0,\"#0d0887\"],[0.1111111111111111,\"#46039f\"],[0.2222222222222222,\"#7201a8\"],[0.3333333333333333,\"#9c179e\"],[0.4444444444444444,\"#bd3786\"],[0.5555555555555556,\"#d8576b\"],[0.6666666666666666,\"#ed7953\"],[0.7777777777777778,\"#fb9f3a\"],[0.8888888888888888,\"#fdca26\"],[1.0,\"#f0f921\"]]}],\"contourcarpet\":[{\"type\":\"contourcarpet\",\"colorbar\":{\"outlinewidth\":0,\"ticks\":\"\"}}],\"contour\":[{\"type\":\"contour\",\"colorbar\":{\"outlinewidth\":0,\"ticks\":\"\"},\"colorscale\":[[0.0,\"#0d0887\"],[0.1111111111111111,\"#46039f\"],[0.2222222222222222,\"#7201a8\"],[0.3333333333333333,\"#9c179e\"],[0.4444444444444444,\"#bd3786\"],[0.5555555555555556,\"#d8576b\"],[0.6666666666666666,\"#ed7953\"],[0.7777777777777778,\"#fb9f3a\"],[0.8888888888888888,\"#fdca26\"],[1.0,\"#f0f921\"]]}],\"surface\":[{\"type\":\"surface\",\"colorbar\":{\"outlinewidth\":0,\"ticks\":\"\"},\"colorscale\":[[0.0,\"#0d0887\"],[0.1111111111111111,\"#46039f\"],[0.2222222222222222,\"#7201a8\"],[0.3333333333333333,\"#9c179e\"],[0.4444444444444444,\"#bd3786\"],[0.5555555555555556,\"#d8576b\"],[0.6666666666666666,\"#ed7953\"],[0.7777777777777778,\"#fb9f3a\"],[0.8888888888888888,\"#fdca26\"],[1.0,\"#f0f921\"]]}],\"mesh3d\":[{\"type\":\"mesh3d\",\"colorbar\":{\"outlinewidth\":0,\"ticks\":\"\"}}],\"scatter\":[{\"marker\":{\"line\":{\"color\":\"#283442\"}},\"type\":\"scatter\"}],\"parcoords\":[{\"type\":\"parcoords\",\"line\":{\"colorbar\":{\"outlinewidth\":0,\"ticks\":\"\"}}}],\"scatterpolargl\":[{\"type\":\"scatterpolargl\",\"marker\":{\"colorbar\":{\"outlinewidth\":0,\"ticks\":\"\"}}}],\"bar\":[{\"error_x\":{\"color\":\"#f2f5fa\"},\"error_y\":{\"color\":\"#f2f5fa\"},\"marker\":{\"line\":{\"color\":\"rgb(17,17,17)\",\"width\":0.5},\"pattern\":{\"fillmode\":\"overlay\",\"size\":10,\"solidity\":0.2}},\"type\":\"bar\"}],\"scattergeo\":[{\"type\":\"scattergeo\",\"marker\":{\"colorbar\":{\"outlinewidth\":0,\"ticks\":\"\"}}}],\"scatterpolar\":[{\"type\":\"scatterpolar\",\"marker\":{\"colorbar\":{\"outlinewidth\":0,\"ticks\":\"\"}}}],\"histogram\":[{\"marker\":{\"pattern\":{\"fillmode\":\"overlay\",\"size\":10,\"solidity\":0.2}},\"type\":\"histogram\"}],\"scattergl\":[{\"marker\":{\"line\":{\"color\":\"#283442\"}},\"type\":\"scattergl\"}],\"scatter3d\":[{\"type\":\"scatter3d\",\"line\":{\"colorbar\":{\"outlinewidth\":0,\"ticks\":\"\"}},\"marker\":{\"colorbar\":{\"outlinewidth\":0,\"ticks\":\"\"}}}],\"scattermapbox\":[{\"type\":\"scattermapbox\",\"marker\":{\"colorbar\":{\"outlinewidth\":0,\"ticks\":\"\"}}}],\"scatterternary\":[{\"type\":\"scatterternary\",\"marker\":{\"colorbar\":{\"outlinewidth\":0,\"ticks\":\"\"}}}],\"scattercarpet\":[{\"type\":\"scattercarpet\",\"marker\":{\"colorbar\":{\"outlinewidth\":0,\"ticks\":\"\"}}}],\"carpet\":[{\"aaxis\":{\"endlinecolor\":\"#A2B1C6\",\"gridcolor\":\"#506784\",\"linecolor\":\"#506784\",\"minorgridcolor\":\"#506784\",\"startlinecolor\":\"#A2B1C6\"},\"baxis\":{\"endlinecolor\":\"#A2B1C6\",\"gridcolor\":\"#506784\",\"linecolor\":\"#506784\",\"minorgridcolor\":\"#506784\",\"startlinecolor\":\"#A2B1C6\"},\"type\":\"carpet\"}],\"table\":[{\"cells\":{\"fill\":{\"color\":\"#506784\"},\"line\":{\"color\":\"rgb(17,17,17)\"}},\"header\":{\"fill\":{\"color\":\"#2a3f5f\"},\"line\":{\"color\":\"rgb(17,17,17)\"}},\"type\":\"table\"}],\"barpolar\":[{\"marker\":{\"line\":{\"color\":\"rgb(17,17,17)\",\"width\":0.5},\"pattern\":{\"fillmode\":\"overlay\",\"size\":10,\"solidity\":0.2}},\"type\":\"barpolar\"}],\"pie\":[{\"automargin\":true,\"type\":\"pie\"}]},\"layout\":{\"autotypenumbers\":\"strict\",\"colorway\":[\"#636efa\",\"#EF553B\",\"#00cc96\",\"#ab63fa\",\"#FFA15A\",\"#19d3f3\",\"#FF6692\",\"#B6E880\",\"#FF97FF\",\"#FECB52\"],\"font\":{\"color\":\"#f2f5fa\"},\"hovermode\":\"closest\",\"hoverlabel\":{\"align\":\"left\"},\"paper_bgcolor\":\"rgb(17,17,17)\",\"plot_bgcolor\":\"rgb(17,17,17)\",\"polar\":{\"bgcolor\":\"rgb(17,17,17)\",\"angularaxis\":{\"gridcolor\":\"#506784\",\"linecolor\":\"#506784\",\"ticks\":\"\"},\"radialaxis\":{\"gridcolor\":\"#506784\",\"linecolor\":\"#506784\",\"ticks\":\"\"}},\"ternary\":{\"bgcolor\":\"rgb(17,17,17)\",\"aaxis\":{\"gridcolor\":\"#506784\",\"linecolor\":\"#506784\",\"ticks\":\"\"},\"baxis\":{\"gridcolor\":\"#506784\",\"linecolor\":\"#506784\",\"ticks\":\"\"},\"caxis\":{\"gridcolor\":\"#506784\",\"linecolor\":\"#506784\",\"ticks\":\"\"}},\"coloraxis\":{\"colorbar\":{\"outlinewidth\":0,\"ticks\":\"\"}},\"colorscale\":{\"sequential\":[[0.0,\"#0d0887\"],[0.1111111111111111,\"#46039f\"],[0.2222222222222222,\"#7201a8\"],[0.3333333333333333,\"#9c179e\"],[0.4444444444444444,\"#bd3786\"],[0.5555555555555556,\"#d8576b\"],[0.6666666666666666,\"#ed7953\"],[0.7777777777777778,\"#fb9f3a\"],[0.8888888888888888,\"#fdca26\"],[1.0,\"#f0f921\"]],\"sequentialminus\":[[0.0,\"#0d0887\"],[0.1111111111111111,\"#46039f\"],[0.2222222222222222,\"#7201a8\"],[0.3333333333333333,\"#9c179e\"],[0.4444444444444444,\"#bd3786\"],[0.5555555555555556,\"#d8576b\"],[0.6666666666666666,\"#ed7953\"],[0.7777777777777778,\"#fb9f3a\"],[0.8888888888888888,\"#fdca26\"],[1.0,\"#f0f921\"]],\"diverging\":[[0,\"#8e0152\"],[0.1,\"#c51b7d\"],[0.2,\"#de77ae\"],[0.3,\"#f1b6da\"],[0.4,\"#fde0ef\"],[0.5,\"#f7f7f7\"],[0.6,\"#e6f5d0\"],[0.7,\"#b8e186\"],[0.8,\"#7fbc41\"],[0.9,\"#4d9221\"],[1,\"#276419\"]]},\"xaxis\":{\"gridcolor\":\"#283442\",\"linecolor\":\"#506784\",\"ticks\":\"\",\"title\":{\"standoff\":15},\"zerolinecolor\":\"#283442\",\"automargin\":true,\"zerolinewidth\":2},\"yaxis\":{\"gridcolor\":\"#283442\",\"linecolor\":\"#506784\",\"ticks\":\"\",\"title\":{\"standoff\":15},\"zerolinecolor\":\"#283442\",\"automargin\":true,\"zerolinewidth\":2},\"scene\":{\"xaxis\":{\"backgroundcolor\":\"rgb(17,17,17)\",\"gridcolor\":\"#506784\",\"linecolor\":\"#506784\",\"showbackground\":true,\"ticks\":\"\",\"zerolinecolor\":\"#C8D4E3\",\"gridwidth\":2},\"yaxis\":{\"backgroundcolor\":\"rgb(17,17,17)\",\"gridcolor\":\"#506784\",\"linecolor\":\"#506784\",\"showbackground\":true,\"ticks\":\"\",\"zerolinecolor\":\"#C8D4E3\",\"gridwidth\":2},\"zaxis\":{\"backgroundcolor\":\"rgb(17,17,17)\",\"gridcolor\":\"#506784\",\"linecolor\":\"#506784\",\"showbackground\":true,\"ticks\":\"\",\"zerolinecolor\":\"#C8D4E3\",\"gridwidth\":2}},\"shapedefaults\":{\"line\":{\"color\":\"#f2f5fa\"}},\"annotationdefaults\":{\"arrowcolor\":\"#f2f5fa\",\"arrowhead\":0,\"arrowwidth\":1},\"geo\":{\"bgcolor\":\"rgb(17,17,17)\",\"landcolor\":\"rgb(17,17,17)\",\"subunitcolor\":\"#506784\",\"showland\":true,\"showlakes\":true,\"lakecolor\":\"rgb(17,17,17)\"},\"title\":{\"x\":0.05},\"updatemenudefaults\":{\"bgcolor\":\"#506784\",\"borderwidth\":0},\"sliderdefaults\":{\"bgcolor\":\"#C8D4E3\",\"borderwidth\":1,\"bordercolor\":\"rgb(17,17,17)\",\"tickwidth\":0},\"mapbox\":{\"style\":\"dark\"}}},\"xaxis\":{\"anchor\":\"y\",\"domain\":[0.0,1.0],\"title\":{\"text\":\"Temps en jours\"}},\"yaxis\":{\"anchor\":\"x\",\"domain\":[0.0,1.0],\"title\":{\"text\":\"Temps de parole en minutes\"}},\"legend\":{\"title\":{\"text\":\"Cha\\u00eene\"},\"tracegroupgap\":0},\"title\":{\"text\":\"Jadot : \\u00c9volution du temps de parole en fonction du temps\"}},                        {\"responsive\": true}                    ).then(function(){\n                            \nvar gd = document.getElementById('2ebf8dd6-3ab2-4f81-b1c1-3f4fa720bac5');\nvar x = new MutationObserver(function (mutations, observer) {{\n        var display = window.getComputedStyle(gd).display;\n        if (!display || display === 'none') {{\n            console.log([gd, 'removed!']);\n            Plotly.purge(gd);\n            observer.disconnect();\n        }}\n}});\n\n// Listen for the removal of the full notebook cells\nvar notebookContainer = gd.closest('#notebook-container');\nif (notebookContainer) {{\n    x.observe(notebookContainer, {childList: true});\n}}\n\n// Listen for the clearing of the current output cell\nvar outputEl = gd.closest('.output');\nif (outputEl) {{\n    x.observe(outputEl, {childList: true});\n}}\n\n                        })                };                });            </script>        </div>"
     },
     "metadata": {},
     "output_type": "display_data"
    }
   ],
   "source": [
    "px.line(df_jadot, x='Période', y=\"Somme\", color='Chaîne', labels={\n",
    "    \"Période\": \"Temps en jours\",\n",
    "    \"Somme\": \"Temps de parole en minutes\",\n",
    "    \"Chaîne\": \"Chaîne\"\n",
    "}, title=\"Jadot : Évolution du temps de parole en fonction du temps\")\n"
   ],
   "metadata": {
    "collapsed": false,
    "pycharm": {
     "name": "#%%\n"
    }
   }
  },
  {
   "cell_type": "code",
   "execution_count": 26,
   "outputs": [
    {
     "data": {
      "application/vnd.plotly.v1+json": {
       "data": [
        {
         "hovertemplate": "Chaîne=France2<br>Temps en jours=%{x}<br>Temps de parole en minutes=%{y}<extra></extra>",
         "legendgroup": "France2",
         "line": {
          "color": "#636efa",
          "dash": "solid"
         },
         "marker": {
          "symbol": "circle"
         },
         "mode": "lines",
         "name": "France2",
         "orientation": "v",
         "showlegend": true,
         "x": [
          "2022-03-13T00:00:00",
          "2022-03-20T00:00:00",
          "2022-03-27T00:00:00",
          "2022-04-03T00:00:00",
          "2022-04-08T00:00:00"
         ],
         "xaxis": "x",
         "y": [
          0.0,
          0.0,
          15.916666666666666,
          31.866666666666664,
          32.81666666666667
         ],
         "yaxis": "y",
         "type": "scatter"
        },
        {
         "hovertemplate": "Chaîne=France3<br>Temps en jours=%{x}<br>Temps de parole en minutes=%{y}<extra></extra>",
         "legendgroup": "France3",
         "line": {
          "color": "#EF553B",
          "dash": "solid"
         },
         "marker": {
          "symbol": "circle"
         },
         "mode": "lines",
         "name": "France3",
         "orientation": "v",
         "showlegend": true,
         "x": [
          "2022-03-13T00:00:00",
          "2022-03-20T00:00:00",
          "2022-03-27T00:00:00",
          "2022-04-03T00:00:00",
          "2022-04-08T00:00:00"
         ],
         "xaxis": "x",
         "y": [
          0.0,
          0.0,
          10.283333333333333,
          0.9333333333333333,
          2.3833333333333333
         ],
         "yaxis": "y",
         "type": "scatter"
        },
        {
         "hovertemplate": "Chaîne=M6<br>Temps en jours=%{x}<br>Temps de parole en minutes=%{y}<extra></extra>",
         "legendgroup": "M6",
         "line": {
          "color": "#00cc96",
          "dash": "solid"
         },
         "marker": {
          "symbol": "circle"
         },
         "mode": "lines",
         "name": "M6",
         "orientation": "v",
         "showlegend": true,
         "x": [
          "2022-03-13T00:00:00",
          "2022-03-20T00:00:00",
          "2022-03-27T00:00:00",
          "2022-04-03T00:00:00",
          "2022-04-08T00:00:00"
         ],
         "xaxis": "x",
         "y": [
          3.95,
          4.033333333333333,
          4.416666666666666,
          1.7833333333333332,
          2.8
         ],
         "yaxis": "y",
         "type": "scatter"
        },
        {
         "hovertemplate": "Chaîne=TMC<br>Temps en jours=%{x}<br>Temps de parole en minutes=%{y}<extra></extra>",
         "legendgroup": "TMC",
         "line": {
          "color": "#ab63fa",
          "dash": "solid"
         },
         "marker": {
          "symbol": "circle"
         },
         "mode": "lines",
         "name": "TMC",
         "orientation": "v",
         "showlegend": true,
         "x": [
          "2022-03-13T00:00:00",
          "2022-03-20T00:00:00",
          "2022-03-27T00:00:00",
          "2022-04-03T00:00:00",
          "2022-04-08T00:00:00"
         ],
         "xaxis": "x",
         "y": [
          1.8,
          2.4,
          3.0833333333333335,
          11.066666666666666,
          18.55
         ],
         "yaxis": "y",
         "type": "scatter"
        },
        {
         "hovertemplate": "Chaîne=BFMTV<br>Temps en jours=%{x}<br>Temps de parole en minutes=%{y}<extra></extra>",
         "legendgroup": "BFMTV",
         "line": {
          "color": "#FFA15A",
          "dash": "solid"
         },
         "marker": {
          "symbol": "circle"
         },
         "mode": "lines",
         "name": "BFMTV",
         "orientation": "v",
         "showlegend": true,
         "x": [
          "2022-03-13T00:00:00",
          "2022-03-20T00:00:00",
          "2022-03-27T00:00:00",
          "2022-04-03T00:00:00",
          "2022-04-08T00:00:00"
         ],
         "xaxis": "x",
         "y": [
          37.833333333333336,
          37.833333333333336,
          47.46666666666667,
          29.916666666666664,
          33.25
         ],
         "yaxis": "y",
         "type": "scatter"
        },
        {
         "hovertemplate": "Chaîne=Cnews<br>Temps en jours=%{x}<br>Temps de parole en minutes=%{y}<extra></extra>",
         "legendgroup": "Cnews",
         "line": {
          "color": "#19d3f3",
          "dash": "solid"
         },
         "marker": {
          "symbol": "circle"
         },
         "mode": "lines",
         "name": "Cnews",
         "orientation": "v",
         "showlegend": true,
         "x": [
          "2022-03-13T00:00:00",
          "2022-03-20T00:00:00",
          "2022-03-27T00:00:00",
          "2022-04-03T00:00:00",
          "2022-04-08T00:00:00"
         ],
         "xaxis": "x",
         "y": [
          8.0,
          12.433333333333334,
          53.81666666666666,
          22.133333333333333,
          78.61666666666666
         ],
         "yaxis": "y",
         "type": "scatter"
        },
        {
         "hovertemplate": "Chaîne=LCI<br>Temps en jours=%{x}<br>Temps de parole en minutes=%{y}<extra></extra>",
         "legendgroup": "LCI",
         "line": {
          "color": "#FF6692",
          "dash": "solid"
         },
         "marker": {
          "symbol": "circle"
         },
         "mode": "lines",
         "name": "LCI",
         "orientation": "v",
         "showlegend": true,
         "x": [
          "2022-03-13T00:00:00",
          "2022-03-20T00:00:00",
          "2022-03-27T00:00:00",
          "2022-04-03T00:00:00",
          "2022-04-08T00:00:00"
         ],
         "xaxis": "x",
         "y": [
          25.566666666666666,
          25.75,
          28.366666666666667,
          112.73333333333332,
          210.68333333333334
         ],
         "yaxis": "y",
         "type": "scatter"
        },
        {
         "hovertemplate": "Chaîne=FranceinfoTV<br>Temps en jours=%{x}<br>Temps de parole en minutes=%{y}<extra></extra>",
         "legendgroup": "FranceinfoTV",
         "line": {
          "color": "#B6E880",
          "dash": "solid"
         },
         "marker": {
          "symbol": "circle"
         },
         "mode": "lines",
         "name": "FranceinfoTV",
         "orientation": "v",
         "showlegend": true,
         "x": [
          "2022-03-13T00:00:00",
          "2022-03-20T00:00:00",
          "2022-03-27T00:00:00",
          "2022-04-03T00:00:00",
          "2022-04-08T00:00:00"
         ],
         "xaxis": "x",
         "y": [
          0.6666666666666666,
          7.05,
          43.96666666666666,
          86.33333333333333,
          176.65
         ],
         "yaxis": "y",
         "type": "scatter"
        },
        {
         "hovertemplate": "Chaîne=FranceInter<br>Temps en jours=%{x}<br>Temps de parole en minutes=%{y}<extra></extra>",
         "legendgroup": "FranceInter",
         "line": {
          "color": "#FF97FF",
          "dash": "solid"
         },
         "marker": {
          "symbol": "circle"
         },
         "mode": "lines",
         "name": "FranceInter",
         "orientation": "v",
         "showlegend": true,
         "x": [
          "2022-03-13T00:00:00",
          "2022-03-20T00:00:00",
          "2022-03-27T00:00:00",
          "2022-04-03T00:00:00",
          "2022-04-08T00:00:00"
         ],
         "xaxis": "x",
         "y": [
          0.6166666666666667,
          3.7499999999999996,
          11.333333333333334,
          8.3,
          15.216666666666669
         ],
         "yaxis": "y",
         "type": "scatter"
        },
        {
         "hovertemplate": "Chaîne=FranceInfo<br>Temps en jours=%{x}<br>Temps de parole en minutes=%{y}<extra></extra>",
         "legendgroup": "FranceInfo",
         "line": {
          "color": "#FECB52",
          "dash": "solid"
         },
         "marker": {
          "symbol": "circle"
         },
         "mode": "lines",
         "name": "FranceInfo",
         "orientation": "v",
         "showlegend": true,
         "x": [
          "2022-03-13T00:00:00",
          "2022-03-20T00:00:00",
          "2022-03-27T00:00:00",
          "2022-04-03T00:00:00",
          "2022-04-08T00:00:00"
         ],
         "xaxis": "x",
         "y": [
          0.6833333333333333,
          10.35,
          20.95,
          56.8,
          80.06666666666668
         ],
         "yaxis": "y",
         "type": "scatter"
        },
        {
         "hovertemplate": "Chaîne=RTL<br>Temps en jours=%{x}<br>Temps de parole en minutes=%{y}<extra></extra>",
         "legendgroup": "RTL",
         "line": {
          "color": "#636efa",
          "dash": "solid"
         },
         "marker": {
          "symbol": "circle"
         },
         "mode": "lines",
         "name": "RTL",
         "orientation": "v",
         "showlegend": true,
         "x": [
          "2022-03-13T00:00:00",
          "2022-03-20T00:00:00",
          "2022-03-27T00:00:00",
          "2022-04-03T00:00:00",
          "2022-04-08T00:00:00"
         ],
         "xaxis": "x",
         "y": [
          0.0,
          3.6500000000000004,
          6.65,
          9.4,
          15.283333333333333
         ],
         "yaxis": "y",
         "type": "scatter"
        },
        {
         "hovertemplate": "Chaîne=Europe1<br>Temps en jours=%{x}<br>Temps de parole en minutes=%{y}<extra></extra>",
         "legendgroup": "Europe1",
         "line": {
          "color": "#EF553B",
          "dash": "solid"
         },
         "marker": {
          "symbol": "circle"
         },
         "mode": "lines",
         "name": "Europe1",
         "orientation": "v",
         "showlegend": true,
         "x": [
          "2022-03-13T00:00:00",
          "2022-03-20T00:00:00",
          "2022-03-27T00:00:00",
          "2022-04-03T00:00:00",
          "2022-04-08T00:00:00"
         ],
         "xaxis": "x",
         "y": [
          0.0,
          0.9666666666666667,
          13.766666666666667,
          0.0,
          39.05
         ],
         "yaxis": "y",
         "type": "scatter"
        },
        {
         "hovertemplate": "Chaîne=RadioClassique<br>Temps en jours=%{x}<br>Temps de parole en minutes=%{y}<extra></extra>",
         "legendgroup": "RadioClassique",
         "line": {
          "color": "#00cc96",
          "dash": "solid"
         },
         "marker": {
          "symbol": "circle"
         },
         "mode": "lines",
         "name": "RadioClassique",
         "orientation": "v",
         "showlegend": true,
         "x": [
          "2022-03-13T00:00:00",
          "2022-03-20T00:00:00",
          "2022-03-27T00:00:00",
          "2022-04-03T00:00:00",
          "2022-04-08T00:00:00"
         ],
         "xaxis": "x",
         "y": [
          0.0,
          0.0,
          0.6333333333333333,
          0.0,
          0.0
         ],
         "yaxis": "y",
         "type": "scatter"
        },
        {
         "hovertemplate": "Chaîne=SudRadio<br>Temps en jours=%{x}<br>Temps de parole en minutes=%{y}<extra></extra>",
         "legendgroup": "SudRadio",
         "line": {
          "color": "#ab63fa",
          "dash": "solid"
         },
         "marker": {
          "symbol": "circle"
         },
         "mode": "lines",
         "name": "SudRadio",
         "orientation": "v",
         "showlegend": true,
         "x": [
          "2022-03-13T00:00:00",
          "2022-03-20T00:00:00",
          "2022-03-27T00:00:00",
          "2022-04-03T00:00:00",
          "2022-04-08T00:00:00"
         ],
         "xaxis": "x",
         "y": [
          0.0,
          0.0,
          0.4,
          0.7666666666666666,
          1.6666666666666667
         ],
         "yaxis": "y",
         "type": "scatter"
        },
        {
         "hovertemplate": "Chaîne=TV5Monde<br>Temps en jours=%{x}<br>Temps de parole en minutes=%{y}<extra></extra>",
         "legendgroup": "TV5Monde",
         "line": {
          "color": "#FFA15A",
          "dash": "solid"
         },
         "marker": {
          "symbol": "circle"
         },
         "mode": "lines",
         "name": "TV5Monde",
         "orientation": "v",
         "showlegend": true,
         "x": [
          "2022-03-13T00:00:00",
          "2022-03-20T00:00:00",
          "2022-03-27T00:00:00",
          "2022-04-03T00:00:00",
          "2022-04-08T00:00:00"
         ],
         "xaxis": "x",
         "y": [
          0.0,
          0.4166666666666667,
          15.333333333333334,
          30.233333333333334,
          30.85
         ],
         "yaxis": "y",
         "type": "scatter"
        },
        {
         "hovertemplate": "Chaîne=Euronews<br>Temps en jours=%{x}<br>Temps de parole en minutes=%{y}<extra></extra>",
         "legendgroup": "Euronews",
         "line": {
          "color": "#19d3f3",
          "dash": "solid"
         },
         "marker": {
          "symbol": "circle"
         },
         "mode": "lines",
         "name": "Euronews",
         "orientation": "v",
         "showlegend": true,
         "x": [
          "2022-03-13T00:00:00",
          "2022-03-20T00:00:00",
          "2022-03-27T00:00:00"
         ],
         "xaxis": "x",
         "y": [
          0.0,
          0.0,
          0.0
         ],
         "yaxis": "y",
         "type": "scatter"
        },
        {
         "hovertemplate": "Chaîne=RMC Story<br>Temps en jours=%{x}<br>Temps de parole en minutes=%{y}<extra></extra>",
         "legendgroup": "RMC Story",
         "line": {
          "color": "#FF6692",
          "dash": "solid"
         },
         "marker": {
          "symbol": "circle"
         },
         "mode": "lines",
         "name": "RMC Story",
         "orientation": "v",
         "showlegend": true,
         "x": [
          "2022-03-13T00:00:00",
          "2022-03-20T00:00:00",
          "2022-03-27T00:00:00",
          "2022-04-03T00:00:00",
          "2022-04-08T00:00:00"
         ],
         "xaxis": "x",
         "y": [
          0.0,
          0.0,
          9.133333333333333,
          1.9666666666666666,
          6.866666666666666
         ],
         "yaxis": "y",
         "type": "scatter"
        },
        {
         "hovertemplate": "Chaîne=France5<br>Temps en jours=%{x}<br>Temps de parole en minutes=%{y}<extra></extra>",
         "legendgroup": "France5",
         "line": {
          "color": "#B6E880",
          "dash": "solid"
         },
         "marker": {
          "symbol": "circle"
         },
         "mode": "lines",
         "name": "France5",
         "orientation": "v",
         "showlegend": true,
         "x": [
          "2022-03-20T00:00:00",
          "2022-03-27T00:00:00",
          "2022-04-03T00:00:00",
          "2022-04-08T00:00:00"
         ],
         "xaxis": "x",
         "y": [
          3.6999999999999997,
          16.366666666666667,
          6.616666666666666,
          11.466666666666665
         ],
         "yaxis": "y",
         "type": "scatter"
        },
        {
         "hovertemplate": "Chaîne=C8<br>Temps en jours=%{x}<br>Temps de parole en minutes=%{y}<extra></extra>",
         "legendgroup": "C8",
         "line": {
          "color": "#FF97FF",
          "dash": "solid"
         },
         "marker": {
          "symbol": "circle"
         },
         "mode": "lines",
         "name": "C8",
         "orientation": "v",
         "showlegend": true,
         "x": [
          "2022-03-20T00:00:00",
          "2022-03-27T00:00:00",
          "2022-04-03T00:00:00",
          "2022-04-08T00:00:00"
         ],
         "xaxis": "x",
         "y": [
          1.0,
          10.383333333333333,
          1.3333333333333333,
          8.166666666666666
         ],
         "yaxis": "y",
         "type": "scatter"
        },
        {
         "hovertemplate": "Chaîne=FranceCulture<br>Temps en jours=%{x}<br>Temps de parole en minutes=%{y}<extra></extra>",
         "legendgroup": "FranceCulture",
         "line": {
          "color": "#FECB52",
          "dash": "solid"
         },
         "marker": {
          "symbol": "circle"
         },
         "mode": "lines",
         "name": "FranceCulture",
         "orientation": "v",
         "showlegend": true,
         "x": [
          "2022-03-20T00:00:00",
          "2022-03-27T00:00:00",
          "2022-04-03T00:00:00",
          "2022-04-08T00:00:00"
         ],
         "xaxis": "x",
         "y": [
          0.38333333333333336,
          1.0833333333333333,
          0.75,
          10.766666666666667
         ],
         "yaxis": "y",
         "type": "scatter"
        },
        {
         "hovertemplate": "Chaîne=RMC<br>Temps en jours=%{x}<br>Temps de parole en minutes=%{y}<extra></extra>",
         "legendgroup": "RMC",
         "line": {
          "color": "#636efa",
          "dash": "solid"
         },
         "marker": {
          "symbol": "circle"
         },
         "mode": "lines",
         "name": "RMC",
         "orientation": "v",
         "showlegend": true,
         "x": [
          "2022-03-20T00:00:00",
          "2022-03-27T00:00:00",
          "2022-04-03T00:00:00",
          "2022-04-08T00:00:00"
         ],
         "xaxis": "x",
         "y": [
          1.5166666666666666,
          15.466666666666665,
          5.666666666666666,
          17.133333333333333
         ],
         "yaxis": "y",
         "type": "scatter"
        },
        {
         "hovertemplate": "Chaîne=RFI<br>Temps en jours=%{x}<br>Temps de parole en minutes=%{y}<extra></extra>",
         "legendgroup": "RFI",
         "line": {
          "color": "#EF553B",
          "dash": "solid"
         },
         "marker": {
          "symbol": "circle"
         },
         "mode": "lines",
         "name": "RFI",
         "orientation": "v",
         "showlegend": true,
         "x": [
          "2022-03-20T00:00:00",
          "2022-03-27T00:00:00",
          "2022-04-03T00:00:00",
          "2022-04-08T00:00:00"
         ],
         "xaxis": "x",
         "y": [
          2.6,
          14.8,
          10.083333333333332,
          30.933333333333334
         ],
         "yaxis": "y",
         "type": "scatter"
        },
        {
         "hovertemplate": "Chaîne=France24<br>Temps en jours=%{x}<br>Temps de parole en minutes=%{y}<extra></extra>",
         "legendgroup": "France24",
         "line": {
          "color": "#00cc96",
          "dash": "solid"
         },
         "marker": {
          "symbol": "circle"
         },
         "mode": "lines",
         "name": "France24",
         "orientation": "v",
         "showlegend": true,
         "x": [
          "2022-03-20T00:00:00",
          "2022-03-27T00:00:00",
          "2022-04-03T00:00:00",
          "2022-04-08T00:00:00"
         ],
         "xaxis": "x",
         "y": [
          1.1166666666666667,
          7.2333333333333325,
          8.683333333333334,
          21.05
         ],
         "yaxis": "y",
         "type": "scatter"
        },
        {
         "hovertemplate": "Chaîne=TF1<br>Temps en jours=%{x}<br>Temps de parole en minutes=%{y}<extra></extra>",
         "legendgroup": "TF1",
         "line": {
          "color": "#ab63fa",
          "dash": "solid"
         },
         "marker": {
          "symbol": "circle"
         },
         "mode": "lines",
         "name": "TF1",
         "orientation": "v",
         "showlegend": true,
         "x": [
          "2022-03-27T00:00:00",
          "2022-04-03T00:00:00",
          "2022-04-08T00:00:00"
         ],
         "xaxis": "x",
         "y": [
          1.3833333333333333,
          0.7166666666666667,
          10.783333333333333
         ],
         "yaxis": "y",
         "type": "scatter"
        },
        {
         "hovertemplate": "Chaîne=RMCDecouverte<br>Temps en jours=%{x}<br>Temps de parole en minutes=%{y}<extra></extra>",
         "legendgroup": "RMCDecouverte",
         "line": {
          "color": "#FFA15A",
          "dash": "solid"
         },
         "marker": {
          "symbol": "circle"
         },
         "mode": "lines",
         "name": "RMCDecouverte",
         "orientation": "v",
         "showlegend": true,
         "x": [
          "2022-03-27T00:00:00"
         ],
         "xaxis": "x",
         "y": [
          0.0
         ],
         "yaxis": "y",
         "type": "scatter"
        },
        {
         "hovertemplate": "Chaîne=BFMBusiness<br>Temps en jours=%{x}<br>Temps de parole en minutes=%{y}<extra></extra>",
         "legendgroup": "BFMBusiness",
         "line": {
          "color": "#19d3f3",
          "dash": "solid"
         },
         "marker": {
          "symbol": "circle"
         },
         "mode": "lines",
         "name": "BFMBusiness",
         "orientation": "v",
         "showlegend": true,
         "x": [
          "2022-03-27T00:00:00"
         ],
         "xaxis": "x",
         "y": [
          2.5
         ],
         "yaxis": "y",
         "type": "scatter"
        }
       ],
       "layout": {
        "template": {
         "data": {
          "histogram2dcontour": [
           {
            "type": "histogram2dcontour",
            "colorbar": {
             "outlinewidth": 0,
             "ticks": ""
            },
            "colorscale": [
             [
              0.0,
              "#0d0887"
             ],
             [
              0.1111111111111111,
              "#46039f"
             ],
             [
              0.2222222222222222,
              "#7201a8"
             ],
             [
              0.3333333333333333,
              "#9c179e"
             ],
             [
              0.4444444444444444,
              "#bd3786"
             ],
             [
              0.5555555555555556,
              "#d8576b"
             ],
             [
              0.6666666666666666,
              "#ed7953"
             ],
             [
              0.7777777777777778,
              "#fb9f3a"
             ],
             [
              0.8888888888888888,
              "#fdca26"
             ],
             [
              1.0,
              "#f0f921"
             ]
            ]
           }
          ],
          "choropleth": [
           {
            "type": "choropleth",
            "colorbar": {
             "outlinewidth": 0,
             "ticks": ""
            }
           }
          ],
          "histogram2d": [
           {
            "type": "histogram2d",
            "colorbar": {
             "outlinewidth": 0,
             "ticks": ""
            },
            "colorscale": [
             [
              0.0,
              "#0d0887"
             ],
             [
              0.1111111111111111,
              "#46039f"
             ],
             [
              0.2222222222222222,
              "#7201a8"
             ],
             [
              0.3333333333333333,
              "#9c179e"
             ],
             [
              0.4444444444444444,
              "#bd3786"
             ],
             [
              0.5555555555555556,
              "#d8576b"
             ],
             [
              0.6666666666666666,
              "#ed7953"
             ],
             [
              0.7777777777777778,
              "#fb9f3a"
             ],
             [
              0.8888888888888888,
              "#fdca26"
             ],
             [
              1.0,
              "#f0f921"
             ]
            ]
           }
          ],
          "heatmap": [
           {
            "type": "heatmap",
            "colorbar": {
             "outlinewidth": 0,
             "ticks": ""
            },
            "colorscale": [
             [
              0.0,
              "#0d0887"
             ],
             [
              0.1111111111111111,
              "#46039f"
             ],
             [
              0.2222222222222222,
              "#7201a8"
             ],
             [
              0.3333333333333333,
              "#9c179e"
             ],
             [
              0.4444444444444444,
              "#bd3786"
             ],
             [
              0.5555555555555556,
              "#d8576b"
             ],
             [
              0.6666666666666666,
              "#ed7953"
             ],
             [
              0.7777777777777778,
              "#fb9f3a"
             ],
             [
              0.8888888888888888,
              "#fdca26"
             ],
             [
              1.0,
              "#f0f921"
             ]
            ]
           }
          ],
          "heatmapgl": [
           {
            "type": "heatmapgl",
            "colorbar": {
             "outlinewidth": 0,
             "ticks": ""
            },
            "colorscale": [
             [
              0.0,
              "#0d0887"
             ],
             [
              0.1111111111111111,
              "#46039f"
             ],
             [
              0.2222222222222222,
              "#7201a8"
             ],
             [
              0.3333333333333333,
              "#9c179e"
             ],
             [
              0.4444444444444444,
              "#bd3786"
             ],
             [
              0.5555555555555556,
              "#d8576b"
             ],
             [
              0.6666666666666666,
              "#ed7953"
             ],
             [
              0.7777777777777778,
              "#fb9f3a"
             ],
             [
              0.8888888888888888,
              "#fdca26"
             ],
             [
              1.0,
              "#f0f921"
             ]
            ]
           }
          ],
          "contourcarpet": [
           {
            "type": "contourcarpet",
            "colorbar": {
             "outlinewidth": 0,
             "ticks": ""
            }
           }
          ],
          "contour": [
           {
            "type": "contour",
            "colorbar": {
             "outlinewidth": 0,
             "ticks": ""
            },
            "colorscale": [
             [
              0.0,
              "#0d0887"
             ],
             [
              0.1111111111111111,
              "#46039f"
             ],
             [
              0.2222222222222222,
              "#7201a8"
             ],
             [
              0.3333333333333333,
              "#9c179e"
             ],
             [
              0.4444444444444444,
              "#bd3786"
             ],
             [
              0.5555555555555556,
              "#d8576b"
             ],
             [
              0.6666666666666666,
              "#ed7953"
             ],
             [
              0.7777777777777778,
              "#fb9f3a"
             ],
             [
              0.8888888888888888,
              "#fdca26"
             ],
             [
              1.0,
              "#f0f921"
             ]
            ]
           }
          ],
          "surface": [
           {
            "type": "surface",
            "colorbar": {
             "outlinewidth": 0,
             "ticks": ""
            },
            "colorscale": [
             [
              0.0,
              "#0d0887"
             ],
             [
              0.1111111111111111,
              "#46039f"
             ],
             [
              0.2222222222222222,
              "#7201a8"
             ],
             [
              0.3333333333333333,
              "#9c179e"
             ],
             [
              0.4444444444444444,
              "#bd3786"
             ],
             [
              0.5555555555555556,
              "#d8576b"
             ],
             [
              0.6666666666666666,
              "#ed7953"
             ],
             [
              0.7777777777777778,
              "#fb9f3a"
             ],
             [
              0.8888888888888888,
              "#fdca26"
             ],
             [
              1.0,
              "#f0f921"
             ]
            ]
           }
          ],
          "mesh3d": [
           {
            "type": "mesh3d",
            "colorbar": {
             "outlinewidth": 0,
             "ticks": ""
            }
           }
          ],
          "scatter": [
           {
            "marker": {
             "line": {
              "color": "#283442"
             }
            },
            "type": "scatter"
           }
          ],
          "parcoords": [
           {
            "type": "parcoords",
            "line": {
             "colorbar": {
              "outlinewidth": 0,
              "ticks": ""
             }
            }
           }
          ],
          "scatterpolargl": [
           {
            "type": "scatterpolargl",
            "marker": {
             "colorbar": {
              "outlinewidth": 0,
              "ticks": ""
             }
            }
           }
          ],
          "bar": [
           {
            "error_x": {
             "color": "#f2f5fa"
            },
            "error_y": {
             "color": "#f2f5fa"
            },
            "marker": {
             "line": {
              "color": "rgb(17,17,17)",
              "width": 0.5
             },
             "pattern": {
              "fillmode": "overlay",
              "size": 10,
              "solidity": 0.2
             }
            },
            "type": "bar"
           }
          ],
          "scattergeo": [
           {
            "type": "scattergeo",
            "marker": {
             "colorbar": {
              "outlinewidth": 0,
              "ticks": ""
             }
            }
           }
          ],
          "scatterpolar": [
           {
            "type": "scatterpolar",
            "marker": {
             "colorbar": {
              "outlinewidth": 0,
              "ticks": ""
             }
            }
           }
          ],
          "histogram": [
           {
            "marker": {
             "pattern": {
              "fillmode": "overlay",
              "size": 10,
              "solidity": 0.2
             }
            },
            "type": "histogram"
           }
          ],
          "scattergl": [
           {
            "marker": {
             "line": {
              "color": "#283442"
             }
            },
            "type": "scattergl"
           }
          ],
          "scatter3d": [
           {
            "type": "scatter3d",
            "line": {
             "colorbar": {
              "outlinewidth": 0,
              "ticks": ""
             }
            },
            "marker": {
             "colorbar": {
              "outlinewidth": 0,
              "ticks": ""
             }
            }
           }
          ],
          "scattermapbox": [
           {
            "type": "scattermapbox",
            "marker": {
             "colorbar": {
              "outlinewidth": 0,
              "ticks": ""
             }
            }
           }
          ],
          "scatterternary": [
           {
            "type": "scatterternary",
            "marker": {
             "colorbar": {
              "outlinewidth": 0,
              "ticks": ""
             }
            }
           }
          ],
          "scattercarpet": [
           {
            "type": "scattercarpet",
            "marker": {
             "colorbar": {
              "outlinewidth": 0,
              "ticks": ""
             }
            }
           }
          ],
          "carpet": [
           {
            "aaxis": {
             "endlinecolor": "#A2B1C6",
             "gridcolor": "#506784",
             "linecolor": "#506784",
             "minorgridcolor": "#506784",
             "startlinecolor": "#A2B1C6"
            },
            "baxis": {
             "endlinecolor": "#A2B1C6",
             "gridcolor": "#506784",
             "linecolor": "#506784",
             "minorgridcolor": "#506784",
             "startlinecolor": "#A2B1C6"
            },
            "type": "carpet"
           }
          ],
          "table": [
           {
            "cells": {
             "fill": {
              "color": "#506784"
             },
             "line": {
              "color": "rgb(17,17,17)"
             }
            },
            "header": {
             "fill": {
              "color": "#2a3f5f"
             },
             "line": {
              "color": "rgb(17,17,17)"
             }
            },
            "type": "table"
           }
          ],
          "barpolar": [
           {
            "marker": {
             "line": {
              "color": "rgb(17,17,17)",
              "width": 0.5
             },
             "pattern": {
              "fillmode": "overlay",
              "size": 10,
              "solidity": 0.2
             }
            },
            "type": "barpolar"
           }
          ],
          "pie": [
           {
            "automargin": true,
            "type": "pie"
           }
          ]
         },
         "layout": {
          "autotypenumbers": "strict",
          "colorway": [
           "#636efa",
           "#EF553B",
           "#00cc96",
           "#ab63fa",
           "#FFA15A",
           "#19d3f3",
           "#FF6692",
           "#B6E880",
           "#FF97FF",
           "#FECB52"
          ],
          "font": {
           "color": "#f2f5fa"
          },
          "hovermode": "closest",
          "hoverlabel": {
           "align": "left"
          },
          "paper_bgcolor": "rgb(17,17,17)",
          "plot_bgcolor": "rgb(17,17,17)",
          "polar": {
           "bgcolor": "rgb(17,17,17)",
           "angularaxis": {
            "gridcolor": "#506784",
            "linecolor": "#506784",
            "ticks": ""
           },
           "radialaxis": {
            "gridcolor": "#506784",
            "linecolor": "#506784",
            "ticks": ""
           }
          },
          "ternary": {
           "bgcolor": "rgb(17,17,17)",
           "aaxis": {
            "gridcolor": "#506784",
            "linecolor": "#506784",
            "ticks": ""
           },
           "baxis": {
            "gridcolor": "#506784",
            "linecolor": "#506784",
            "ticks": ""
           },
           "caxis": {
            "gridcolor": "#506784",
            "linecolor": "#506784",
            "ticks": ""
           }
          },
          "coloraxis": {
           "colorbar": {
            "outlinewidth": 0,
            "ticks": ""
           }
          },
          "colorscale": {
           "sequential": [
            [
             0.0,
             "#0d0887"
            ],
            [
             0.1111111111111111,
             "#46039f"
            ],
            [
             0.2222222222222222,
             "#7201a8"
            ],
            [
             0.3333333333333333,
             "#9c179e"
            ],
            [
             0.4444444444444444,
             "#bd3786"
            ],
            [
             0.5555555555555556,
             "#d8576b"
            ],
            [
             0.6666666666666666,
             "#ed7953"
            ],
            [
             0.7777777777777778,
             "#fb9f3a"
            ],
            [
             0.8888888888888888,
             "#fdca26"
            ],
            [
             1.0,
             "#f0f921"
            ]
           ],
           "sequentialminus": [
            [
             0.0,
             "#0d0887"
            ],
            [
             0.1111111111111111,
             "#46039f"
            ],
            [
             0.2222222222222222,
             "#7201a8"
            ],
            [
             0.3333333333333333,
             "#9c179e"
            ],
            [
             0.4444444444444444,
             "#bd3786"
            ],
            [
             0.5555555555555556,
             "#d8576b"
            ],
            [
             0.6666666666666666,
             "#ed7953"
            ],
            [
             0.7777777777777778,
             "#fb9f3a"
            ],
            [
             0.8888888888888888,
             "#fdca26"
            ],
            [
             1.0,
             "#f0f921"
            ]
           ],
           "diverging": [
            [
             0,
             "#8e0152"
            ],
            [
             0.1,
             "#c51b7d"
            ],
            [
             0.2,
             "#de77ae"
            ],
            [
             0.3,
             "#f1b6da"
            ],
            [
             0.4,
             "#fde0ef"
            ],
            [
             0.5,
             "#f7f7f7"
            ],
            [
             0.6,
             "#e6f5d0"
            ],
            [
             0.7,
             "#b8e186"
            ],
            [
             0.8,
             "#7fbc41"
            ],
            [
             0.9,
             "#4d9221"
            ],
            [
             1,
             "#276419"
            ]
           ]
          },
          "xaxis": {
           "gridcolor": "#283442",
           "linecolor": "#506784",
           "ticks": "",
           "title": {
            "standoff": 15
           },
           "zerolinecolor": "#283442",
           "automargin": true,
           "zerolinewidth": 2
          },
          "yaxis": {
           "gridcolor": "#283442",
           "linecolor": "#506784",
           "ticks": "",
           "title": {
            "standoff": 15
           },
           "zerolinecolor": "#283442",
           "automargin": true,
           "zerolinewidth": 2
          },
          "scene": {
           "xaxis": {
            "backgroundcolor": "rgb(17,17,17)",
            "gridcolor": "#506784",
            "linecolor": "#506784",
            "showbackground": true,
            "ticks": "",
            "zerolinecolor": "#C8D4E3",
            "gridwidth": 2
           },
           "yaxis": {
            "backgroundcolor": "rgb(17,17,17)",
            "gridcolor": "#506784",
            "linecolor": "#506784",
            "showbackground": true,
            "ticks": "",
            "zerolinecolor": "#C8D4E3",
            "gridwidth": 2
           },
           "zaxis": {
            "backgroundcolor": "rgb(17,17,17)",
            "gridcolor": "#506784",
            "linecolor": "#506784",
            "showbackground": true,
            "ticks": "",
            "zerolinecolor": "#C8D4E3",
            "gridwidth": 2
           }
          },
          "shapedefaults": {
           "line": {
            "color": "#f2f5fa"
           }
          },
          "annotationdefaults": {
           "arrowcolor": "#f2f5fa",
           "arrowhead": 0,
           "arrowwidth": 1
          },
          "geo": {
           "bgcolor": "rgb(17,17,17)",
           "landcolor": "rgb(17,17,17)",
           "subunitcolor": "#506784",
           "showland": true,
           "showlakes": true,
           "lakecolor": "rgb(17,17,17)"
          },
          "title": {
           "x": 0.05
          },
          "updatemenudefaults": {
           "bgcolor": "#506784",
           "borderwidth": 0
          },
          "sliderdefaults": {
           "bgcolor": "#C8D4E3",
           "borderwidth": 1,
           "bordercolor": "rgb(17,17,17)",
           "tickwidth": 0
          },
          "mapbox": {
           "style": "dark"
          }
         }
        },
        "xaxis": {
         "anchor": "y",
         "domain": [
          0.0,
          1.0
         ],
         "title": {
          "text": "Temps en jours"
         }
        },
        "yaxis": {
         "anchor": "x",
         "domain": [
          0.0,
          1.0
         ],
         "title": {
          "text": "Temps de parole en minutes"
         }
        },
        "legend": {
         "title": {
          "text": "Chaîne"
         },
         "tracegroupgap": 0
        },
        "title": {
         "text": "Lassalle : Évolution du temps de parole en fonction du temps"
        }
       },
       "config": {
        "plotlyServerURL": "https://plot.ly"
       }
      },
      "text/html": "<div>                            <div id=\"ea9fc3af-d680-4d4b-a465-f3864b36f2ee\" class=\"plotly-graph-div\" style=\"height:525px; width:100%;\"></div>            <script type=\"text/javascript\">                require([\"plotly\"], function(Plotly) {                    window.PLOTLYENV=window.PLOTLYENV || {};                                    if (document.getElementById(\"ea9fc3af-d680-4d4b-a465-f3864b36f2ee\")) {                    Plotly.newPlot(                        \"ea9fc3af-d680-4d4b-a465-f3864b36f2ee\",                        [{\"hovertemplate\":\"Cha\\u00eene=France2<br>Temps en jours=%{x}<br>Temps de parole en minutes=%{y}<extra></extra>\",\"legendgroup\":\"France2\",\"line\":{\"color\":\"#636efa\",\"dash\":\"solid\"},\"marker\":{\"symbol\":\"circle\"},\"mode\":\"lines\",\"name\":\"France2\",\"orientation\":\"v\",\"showlegend\":true,\"x\":[\"2022-03-13T00:00:00\",\"2022-03-20T00:00:00\",\"2022-03-27T00:00:00\",\"2022-04-03T00:00:00\",\"2022-04-08T00:00:00\"],\"xaxis\":\"x\",\"y\":[0.0,0.0,15.916666666666666,31.866666666666664,32.81666666666667],\"yaxis\":\"y\",\"type\":\"scatter\"},{\"hovertemplate\":\"Cha\\u00eene=France3<br>Temps en jours=%{x}<br>Temps de parole en minutes=%{y}<extra></extra>\",\"legendgroup\":\"France3\",\"line\":{\"color\":\"#EF553B\",\"dash\":\"solid\"},\"marker\":{\"symbol\":\"circle\"},\"mode\":\"lines\",\"name\":\"France3\",\"orientation\":\"v\",\"showlegend\":true,\"x\":[\"2022-03-13T00:00:00\",\"2022-03-20T00:00:00\",\"2022-03-27T00:00:00\",\"2022-04-03T00:00:00\",\"2022-04-08T00:00:00\"],\"xaxis\":\"x\",\"y\":[0.0,0.0,10.283333333333333,0.9333333333333333,2.3833333333333333],\"yaxis\":\"y\",\"type\":\"scatter\"},{\"hovertemplate\":\"Cha\\u00eene=M6<br>Temps en jours=%{x}<br>Temps de parole en minutes=%{y}<extra></extra>\",\"legendgroup\":\"M6\",\"line\":{\"color\":\"#00cc96\",\"dash\":\"solid\"},\"marker\":{\"symbol\":\"circle\"},\"mode\":\"lines\",\"name\":\"M6\",\"orientation\":\"v\",\"showlegend\":true,\"x\":[\"2022-03-13T00:00:00\",\"2022-03-20T00:00:00\",\"2022-03-27T00:00:00\",\"2022-04-03T00:00:00\",\"2022-04-08T00:00:00\"],\"xaxis\":\"x\",\"y\":[3.95,4.033333333333333,4.416666666666666,1.7833333333333332,2.8],\"yaxis\":\"y\",\"type\":\"scatter\"},{\"hovertemplate\":\"Cha\\u00eene=TMC<br>Temps en jours=%{x}<br>Temps de parole en minutes=%{y}<extra></extra>\",\"legendgroup\":\"TMC\",\"line\":{\"color\":\"#ab63fa\",\"dash\":\"solid\"},\"marker\":{\"symbol\":\"circle\"},\"mode\":\"lines\",\"name\":\"TMC\",\"orientation\":\"v\",\"showlegend\":true,\"x\":[\"2022-03-13T00:00:00\",\"2022-03-20T00:00:00\",\"2022-03-27T00:00:00\",\"2022-04-03T00:00:00\",\"2022-04-08T00:00:00\"],\"xaxis\":\"x\",\"y\":[1.8,2.4,3.0833333333333335,11.066666666666666,18.55],\"yaxis\":\"y\",\"type\":\"scatter\"},{\"hovertemplate\":\"Cha\\u00eene=BFMTV<br>Temps en jours=%{x}<br>Temps de parole en minutes=%{y}<extra></extra>\",\"legendgroup\":\"BFMTV\",\"line\":{\"color\":\"#FFA15A\",\"dash\":\"solid\"},\"marker\":{\"symbol\":\"circle\"},\"mode\":\"lines\",\"name\":\"BFMTV\",\"orientation\":\"v\",\"showlegend\":true,\"x\":[\"2022-03-13T00:00:00\",\"2022-03-20T00:00:00\",\"2022-03-27T00:00:00\",\"2022-04-03T00:00:00\",\"2022-04-08T00:00:00\"],\"xaxis\":\"x\",\"y\":[37.833333333333336,37.833333333333336,47.46666666666667,29.916666666666664,33.25],\"yaxis\":\"y\",\"type\":\"scatter\"},{\"hovertemplate\":\"Cha\\u00eene=Cnews<br>Temps en jours=%{x}<br>Temps de parole en minutes=%{y}<extra></extra>\",\"legendgroup\":\"Cnews\",\"line\":{\"color\":\"#19d3f3\",\"dash\":\"solid\"},\"marker\":{\"symbol\":\"circle\"},\"mode\":\"lines\",\"name\":\"Cnews\",\"orientation\":\"v\",\"showlegend\":true,\"x\":[\"2022-03-13T00:00:00\",\"2022-03-20T00:00:00\",\"2022-03-27T00:00:00\",\"2022-04-03T00:00:00\",\"2022-04-08T00:00:00\"],\"xaxis\":\"x\",\"y\":[8.0,12.433333333333334,53.81666666666666,22.133333333333333,78.61666666666666],\"yaxis\":\"y\",\"type\":\"scatter\"},{\"hovertemplate\":\"Cha\\u00eene=LCI<br>Temps en jours=%{x}<br>Temps de parole en minutes=%{y}<extra></extra>\",\"legendgroup\":\"LCI\",\"line\":{\"color\":\"#FF6692\",\"dash\":\"solid\"},\"marker\":{\"symbol\":\"circle\"},\"mode\":\"lines\",\"name\":\"LCI\",\"orientation\":\"v\",\"showlegend\":true,\"x\":[\"2022-03-13T00:00:00\",\"2022-03-20T00:00:00\",\"2022-03-27T00:00:00\",\"2022-04-03T00:00:00\",\"2022-04-08T00:00:00\"],\"xaxis\":\"x\",\"y\":[25.566666666666666,25.75,28.366666666666667,112.73333333333332,210.68333333333334],\"yaxis\":\"y\",\"type\":\"scatter\"},{\"hovertemplate\":\"Cha\\u00eene=FranceinfoTV<br>Temps en jours=%{x}<br>Temps de parole en minutes=%{y}<extra></extra>\",\"legendgroup\":\"FranceinfoTV\",\"line\":{\"color\":\"#B6E880\",\"dash\":\"solid\"},\"marker\":{\"symbol\":\"circle\"},\"mode\":\"lines\",\"name\":\"FranceinfoTV\",\"orientation\":\"v\",\"showlegend\":true,\"x\":[\"2022-03-13T00:00:00\",\"2022-03-20T00:00:00\",\"2022-03-27T00:00:00\",\"2022-04-03T00:00:00\",\"2022-04-08T00:00:00\"],\"xaxis\":\"x\",\"y\":[0.6666666666666666,7.05,43.96666666666666,86.33333333333333,176.65],\"yaxis\":\"y\",\"type\":\"scatter\"},{\"hovertemplate\":\"Cha\\u00eene=FranceInter<br>Temps en jours=%{x}<br>Temps de parole en minutes=%{y}<extra></extra>\",\"legendgroup\":\"FranceInter\",\"line\":{\"color\":\"#FF97FF\",\"dash\":\"solid\"},\"marker\":{\"symbol\":\"circle\"},\"mode\":\"lines\",\"name\":\"FranceInter\",\"orientation\":\"v\",\"showlegend\":true,\"x\":[\"2022-03-13T00:00:00\",\"2022-03-20T00:00:00\",\"2022-03-27T00:00:00\",\"2022-04-03T00:00:00\",\"2022-04-08T00:00:00\"],\"xaxis\":\"x\",\"y\":[0.6166666666666667,3.7499999999999996,11.333333333333334,8.3,15.216666666666669],\"yaxis\":\"y\",\"type\":\"scatter\"},{\"hovertemplate\":\"Cha\\u00eene=FranceInfo<br>Temps en jours=%{x}<br>Temps de parole en minutes=%{y}<extra></extra>\",\"legendgroup\":\"FranceInfo\",\"line\":{\"color\":\"#FECB52\",\"dash\":\"solid\"},\"marker\":{\"symbol\":\"circle\"},\"mode\":\"lines\",\"name\":\"FranceInfo\",\"orientation\":\"v\",\"showlegend\":true,\"x\":[\"2022-03-13T00:00:00\",\"2022-03-20T00:00:00\",\"2022-03-27T00:00:00\",\"2022-04-03T00:00:00\",\"2022-04-08T00:00:00\"],\"xaxis\":\"x\",\"y\":[0.6833333333333333,10.35,20.95,56.8,80.06666666666668],\"yaxis\":\"y\",\"type\":\"scatter\"},{\"hovertemplate\":\"Cha\\u00eene=RTL<br>Temps en jours=%{x}<br>Temps de parole en minutes=%{y}<extra></extra>\",\"legendgroup\":\"RTL\",\"line\":{\"color\":\"#636efa\",\"dash\":\"solid\"},\"marker\":{\"symbol\":\"circle\"},\"mode\":\"lines\",\"name\":\"RTL\",\"orientation\":\"v\",\"showlegend\":true,\"x\":[\"2022-03-13T00:00:00\",\"2022-03-20T00:00:00\",\"2022-03-27T00:00:00\",\"2022-04-03T00:00:00\",\"2022-04-08T00:00:00\"],\"xaxis\":\"x\",\"y\":[0.0,3.6500000000000004,6.65,9.4,15.283333333333333],\"yaxis\":\"y\",\"type\":\"scatter\"},{\"hovertemplate\":\"Cha\\u00eene=Europe1<br>Temps en jours=%{x}<br>Temps de parole en minutes=%{y}<extra></extra>\",\"legendgroup\":\"Europe1\",\"line\":{\"color\":\"#EF553B\",\"dash\":\"solid\"},\"marker\":{\"symbol\":\"circle\"},\"mode\":\"lines\",\"name\":\"Europe1\",\"orientation\":\"v\",\"showlegend\":true,\"x\":[\"2022-03-13T00:00:00\",\"2022-03-20T00:00:00\",\"2022-03-27T00:00:00\",\"2022-04-03T00:00:00\",\"2022-04-08T00:00:00\"],\"xaxis\":\"x\",\"y\":[0.0,0.9666666666666667,13.766666666666667,0.0,39.05],\"yaxis\":\"y\",\"type\":\"scatter\"},{\"hovertemplate\":\"Cha\\u00eene=RadioClassique<br>Temps en jours=%{x}<br>Temps de parole en minutes=%{y}<extra></extra>\",\"legendgroup\":\"RadioClassique\",\"line\":{\"color\":\"#00cc96\",\"dash\":\"solid\"},\"marker\":{\"symbol\":\"circle\"},\"mode\":\"lines\",\"name\":\"RadioClassique\",\"orientation\":\"v\",\"showlegend\":true,\"x\":[\"2022-03-13T00:00:00\",\"2022-03-20T00:00:00\",\"2022-03-27T00:00:00\",\"2022-04-03T00:00:00\",\"2022-04-08T00:00:00\"],\"xaxis\":\"x\",\"y\":[0.0,0.0,0.6333333333333333,0.0,0.0],\"yaxis\":\"y\",\"type\":\"scatter\"},{\"hovertemplate\":\"Cha\\u00eene=SudRadio<br>Temps en jours=%{x}<br>Temps de parole en minutes=%{y}<extra></extra>\",\"legendgroup\":\"SudRadio\",\"line\":{\"color\":\"#ab63fa\",\"dash\":\"solid\"},\"marker\":{\"symbol\":\"circle\"},\"mode\":\"lines\",\"name\":\"SudRadio\",\"orientation\":\"v\",\"showlegend\":true,\"x\":[\"2022-03-13T00:00:00\",\"2022-03-20T00:00:00\",\"2022-03-27T00:00:00\",\"2022-04-03T00:00:00\",\"2022-04-08T00:00:00\"],\"xaxis\":\"x\",\"y\":[0.0,0.0,0.4,0.7666666666666666,1.6666666666666667],\"yaxis\":\"y\",\"type\":\"scatter\"},{\"hovertemplate\":\"Cha\\u00eene=TV5Monde<br>Temps en jours=%{x}<br>Temps de parole en minutes=%{y}<extra></extra>\",\"legendgroup\":\"TV5Monde\",\"line\":{\"color\":\"#FFA15A\",\"dash\":\"solid\"},\"marker\":{\"symbol\":\"circle\"},\"mode\":\"lines\",\"name\":\"TV5Monde\",\"orientation\":\"v\",\"showlegend\":true,\"x\":[\"2022-03-13T00:00:00\",\"2022-03-20T00:00:00\",\"2022-03-27T00:00:00\",\"2022-04-03T00:00:00\",\"2022-04-08T00:00:00\"],\"xaxis\":\"x\",\"y\":[0.0,0.4166666666666667,15.333333333333334,30.233333333333334,30.85],\"yaxis\":\"y\",\"type\":\"scatter\"},{\"hovertemplate\":\"Cha\\u00eene=Euronews<br>Temps en jours=%{x}<br>Temps de parole en minutes=%{y}<extra></extra>\",\"legendgroup\":\"Euronews\",\"line\":{\"color\":\"#19d3f3\",\"dash\":\"solid\"},\"marker\":{\"symbol\":\"circle\"},\"mode\":\"lines\",\"name\":\"Euronews\",\"orientation\":\"v\",\"showlegend\":true,\"x\":[\"2022-03-13T00:00:00\",\"2022-03-20T00:00:00\",\"2022-03-27T00:00:00\"],\"xaxis\":\"x\",\"y\":[0.0,0.0,0.0],\"yaxis\":\"y\",\"type\":\"scatter\"},{\"hovertemplate\":\"Cha\\u00eene=RMC Story<br>Temps en jours=%{x}<br>Temps de parole en minutes=%{y}<extra></extra>\",\"legendgroup\":\"RMC Story\",\"line\":{\"color\":\"#FF6692\",\"dash\":\"solid\"},\"marker\":{\"symbol\":\"circle\"},\"mode\":\"lines\",\"name\":\"RMC Story\",\"orientation\":\"v\",\"showlegend\":true,\"x\":[\"2022-03-13T00:00:00\",\"2022-03-20T00:00:00\",\"2022-03-27T00:00:00\",\"2022-04-03T00:00:00\",\"2022-04-08T00:00:00\"],\"xaxis\":\"x\",\"y\":[0.0,0.0,9.133333333333333,1.9666666666666666,6.866666666666666],\"yaxis\":\"y\",\"type\":\"scatter\"},{\"hovertemplate\":\"Cha\\u00eene=France5<br>Temps en jours=%{x}<br>Temps de parole en minutes=%{y}<extra></extra>\",\"legendgroup\":\"France5\",\"line\":{\"color\":\"#B6E880\",\"dash\":\"solid\"},\"marker\":{\"symbol\":\"circle\"},\"mode\":\"lines\",\"name\":\"France5\",\"orientation\":\"v\",\"showlegend\":true,\"x\":[\"2022-03-20T00:00:00\",\"2022-03-27T00:00:00\",\"2022-04-03T00:00:00\",\"2022-04-08T00:00:00\"],\"xaxis\":\"x\",\"y\":[3.6999999999999997,16.366666666666667,6.616666666666666,11.466666666666665],\"yaxis\":\"y\",\"type\":\"scatter\"},{\"hovertemplate\":\"Cha\\u00eene=C8<br>Temps en jours=%{x}<br>Temps de parole en minutes=%{y}<extra></extra>\",\"legendgroup\":\"C8\",\"line\":{\"color\":\"#FF97FF\",\"dash\":\"solid\"},\"marker\":{\"symbol\":\"circle\"},\"mode\":\"lines\",\"name\":\"C8\",\"orientation\":\"v\",\"showlegend\":true,\"x\":[\"2022-03-20T00:00:00\",\"2022-03-27T00:00:00\",\"2022-04-03T00:00:00\",\"2022-04-08T00:00:00\"],\"xaxis\":\"x\",\"y\":[1.0,10.383333333333333,1.3333333333333333,8.166666666666666],\"yaxis\":\"y\",\"type\":\"scatter\"},{\"hovertemplate\":\"Cha\\u00eene=FranceCulture<br>Temps en jours=%{x}<br>Temps de parole en minutes=%{y}<extra></extra>\",\"legendgroup\":\"FranceCulture\",\"line\":{\"color\":\"#FECB52\",\"dash\":\"solid\"},\"marker\":{\"symbol\":\"circle\"},\"mode\":\"lines\",\"name\":\"FranceCulture\",\"orientation\":\"v\",\"showlegend\":true,\"x\":[\"2022-03-20T00:00:00\",\"2022-03-27T00:00:00\",\"2022-04-03T00:00:00\",\"2022-04-08T00:00:00\"],\"xaxis\":\"x\",\"y\":[0.38333333333333336,1.0833333333333333,0.75,10.766666666666667],\"yaxis\":\"y\",\"type\":\"scatter\"},{\"hovertemplate\":\"Cha\\u00eene=RMC<br>Temps en jours=%{x}<br>Temps de parole en minutes=%{y}<extra></extra>\",\"legendgroup\":\"RMC\",\"line\":{\"color\":\"#636efa\",\"dash\":\"solid\"},\"marker\":{\"symbol\":\"circle\"},\"mode\":\"lines\",\"name\":\"RMC\",\"orientation\":\"v\",\"showlegend\":true,\"x\":[\"2022-03-20T00:00:00\",\"2022-03-27T00:00:00\",\"2022-04-03T00:00:00\",\"2022-04-08T00:00:00\"],\"xaxis\":\"x\",\"y\":[1.5166666666666666,15.466666666666665,5.666666666666666,17.133333333333333],\"yaxis\":\"y\",\"type\":\"scatter\"},{\"hovertemplate\":\"Cha\\u00eene=RFI<br>Temps en jours=%{x}<br>Temps de parole en minutes=%{y}<extra></extra>\",\"legendgroup\":\"RFI\",\"line\":{\"color\":\"#EF553B\",\"dash\":\"solid\"},\"marker\":{\"symbol\":\"circle\"},\"mode\":\"lines\",\"name\":\"RFI\",\"orientation\":\"v\",\"showlegend\":true,\"x\":[\"2022-03-20T00:00:00\",\"2022-03-27T00:00:00\",\"2022-04-03T00:00:00\",\"2022-04-08T00:00:00\"],\"xaxis\":\"x\",\"y\":[2.6,14.8,10.083333333333332,30.933333333333334],\"yaxis\":\"y\",\"type\":\"scatter\"},{\"hovertemplate\":\"Cha\\u00eene=France24<br>Temps en jours=%{x}<br>Temps de parole en minutes=%{y}<extra></extra>\",\"legendgroup\":\"France24\",\"line\":{\"color\":\"#00cc96\",\"dash\":\"solid\"},\"marker\":{\"symbol\":\"circle\"},\"mode\":\"lines\",\"name\":\"France24\",\"orientation\":\"v\",\"showlegend\":true,\"x\":[\"2022-03-20T00:00:00\",\"2022-03-27T00:00:00\",\"2022-04-03T00:00:00\",\"2022-04-08T00:00:00\"],\"xaxis\":\"x\",\"y\":[1.1166666666666667,7.2333333333333325,8.683333333333334,21.05],\"yaxis\":\"y\",\"type\":\"scatter\"},{\"hovertemplate\":\"Cha\\u00eene=TF1<br>Temps en jours=%{x}<br>Temps de parole en minutes=%{y}<extra></extra>\",\"legendgroup\":\"TF1\",\"line\":{\"color\":\"#ab63fa\",\"dash\":\"solid\"},\"marker\":{\"symbol\":\"circle\"},\"mode\":\"lines\",\"name\":\"TF1\",\"orientation\":\"v\",\"showlegend\":true,\"x\":[\"2022-03-27T00:00:00\",\"2022-04-03T00:00:00\",\"2022-04-08T00:00:00\"],\"xaxis\":\"x\",\"y\":[1.3833333333333333,0.7166666666666667,10.783333333333333],\"yaxis\":\"y\",\"type\":\"scatter\"},{\"hovertemplate\":\"Cha\\u00eene=RMCDecouverte<br>Temps en jours=%{x}<br>Temps de parole en minutes=%{y}<extra></extra>\",\"legendgroup\":\"RMCDecouverte\",\"line\":{\"color\":\"#FFA15A\",\"dash\":\"solid\"},\"marker\":{\"symbol\":\"circle\"},\"mode\":\"lines\",\"name\":\"RMCDecouverte\",\"orientation\":\"v\",\"showlegend\":true,\"x\":[\"2022-03-27T00:00:00\"],\"xaxis\":\"x\",\"y\":[0.0],\"yaxis\":\"y\",\"type\":\"scatter\"},{\"hovertemplate\":\"Cha\\u00eene=BFMBusiness<br>Temps en jours=%{x}<br>Temps de parole en minutes=%{y}<extra></extra>\",\"legendgroup\":\"BFMBusiness\",\"line\":{\"color\":\"#19d3f3\",\"dash\":\"solid\"},\"marker\":{\"symbol\":\"circle\"},\"mode\":\"lines\",\"name\":\"BFMBusiness\",\"orientation\":\"v\",\"showlegend\":true,\"x\":[\"2022-03-27T00:00:00\"],\"xaxis\":\"x\",\"y\":[2.5],\"yaxis\":\"y\",\"type\":\"scatter\"}],                        {\"template\":{\"data\":{\"histogram2dcontour\":[{\"type\":\"histogram2dcontour\",\"colorbar\":{\"outlinewidth\":0,\"ticks\":\"\"},\"colorscale\":[[0.0,\"#0d0887\"],[0.1111111111111111,\"#46039f\"],[0.2222222222222222,\"#7201a8\"],[0.3333333333333333,\"#9c179e\"],[0.4444444444444444,\"#bd3786\"],[0.5555555555555556,\"#d8576b\"],[0.6666666666666666,\"#ed7953\"],[0.7777777777777778,\"#fb9f3a\"],[0.8888888888888888,\"#fdca26\"],[1.0,\"#f0f921\"]]}],\"choropleth\":[{\"type\":\"choropleth\",\"colorbar\":{\"outlinewidth\":0,\"ticks\":\"\"}}],\"histogram2d\":[{\"type\":\"histogram2d\",\"colorbar\":{\"outlinewidth\":0,\"ticks\":\"\"},\"colorscale\":[[0.0,\"#0d0887\"],[0.1111111111111111,\"#46039f\"],[0.2222222222222222,\"#7201a8\"],[0.3333333333333333,\"#9c179e\"],[0.4444444444444444,\"#bd3786\"],[0.5555555555555556,\"#d8576b\"],[0.6666666666666666,\"#ed7953\"],[0.7777777777777778,\"#fb9f3a\"],[0.8888888888888888,\"#fdca26\"],[1.0,\"#f0f921\"]]}],\"heatmap\":[{\"type\":\"heatmap\",\"colorbar\":{\"outlinewidth\":0,\"ticks\":\"\"},\"colorscale\":[[0.0,\"#0d0887\"],[0.1111111111111111,\"#46039f\"],[0.2222222222222222,\"#7201a8\"],[0.3333333333333333,\"#9c179e\"],[0.4444444444444444,\"#bd3786\"],[0.5555555555555556,\"#d8576b\"],[0.6666666666666666,\"#ed7953\"],[0.7777777777777778,\"#fb9f3a\"],[0.8888888888888888,\"#fdca26\"],[1.0,\"#f0f921\"]]}],\"heatmapgl\":[{\"type\":\"heatmapgl\",\"colorbar\":{\"outlinewidth\":0,\"ticks\":\"\"},\"colorscale\":[[0.0,\"#0d0887\"],[0.1111111111111111,\"#46039f\"],[0.2222222222222222,\"#7201a8\"],[0.3333333333333333,\"#9c179e\"],[0.4444444444444444,\"#bd3786\"],[0.5555555555555556,\"#d8576b\"],[0.6666666666666666,\"#ed7953\"],[0.7777777777777778,\"#fb9f3a\"],[0.8888888888888888,\"#fdca26\"],[1.0,\"#f0f921\"]]}],\"contourcarpet\":[{\"type\":\"contourcarpet\",\"colorbar\":{\"outlinewidth\":0,\"ticks\":\"\"}}],\"contour\":[{\"type\":\"contour\",\"colorbar\":{\"outlinewidth\":0,\"ticks\":\"\"},\"colorscale\":[[0.0,\"#0d0887\"],[0.1111111111111111,\"#46039f\"],[0.2222222222222222,\"#7201a8\"],[0.3333333333333333,\"#9c179e\"],[0.4444444444444444,\"#bd3786\"],[0.5555555555555556,\"#d8576b\"],[0.6666666666666666,\"#ed7953\"],[0.7777777777777778,\"#fb9f3a\"],[0.8888888888888888,\"#fdca26\"],[1.0,\"#f0f921\"]]}],\"surface\":[{\"type\":\"surface\",\"colorbar\":{\"outlinewidth\":0,\"ticks\":\"\"},\"colorscale\":[[0.0,\"#0d0887\"],[0.1111111111111111,\"#46039f\"],[0.2222222222222222,\"#7201a8\"],[0.3333333333333333,\"#9c179e\"],[0.4444444444444444,\"#bd3786\"],[0.5555555555555556,\"#d8576b\"],[0.6666666666666666,\"#ed7953\"],[0.7777777777777778,\"#fb9f3a\"],[0.8888888888888888,\"#fdca26\"],[1.0,\"#f0f921\"]]}],\"mesh3d\":[{\"type\":\"mesh3d\",\"colorbar\":{\"outlinewidth\":0,\"ticks\":\"\"}}],\"scatter\":[{\"marker\":{\"line\":{\"color\":\"#283442\"}},\"type\":\"scatter\"}],\"parcoords\":[{\"type\":\"parcoords\",\"line\":{\"colorbar\":{\"outlinewidth\":0,\"ticks\":\"\"}}}],\"scatterpolargl\":[{\"type\":\"scatterpolargl\",\"marker\":{\"colorbar\":{\"outlinewidth\":0,\"ticks\":\"\"}}}],\"bar\":[{\"error_x\":{\"color\":\"#f2f5fa\"},\"error_y\":{\"color\":\"#f2f5fa\"},\"marker\":{\"line\":{\"color\":\"rgb(17,17,17)\",\"width\":0.5},\"pattern\":{\"fillmode\":\"overlay\",\"size\":10,\"solidity\":0.2}},\"type\":\"bar\"}],\"scattergeo\":[{\"type\":\"scattergeo\",\"marker\":{\"colorbar\":{\"outlinewidth\":0,\"ticks\":\"\"}}}],\"scatterpolar\":[{\"type\":\"scatterpolar\",\"marker\":{\"colorbar\":{\"outlinewidth\":0,\"ticks\":\"\"}}}],\"histogram\":[{\"marker\":{\"pattern\":{\"fillmode\":\"overlay\",\"size\":10,\"solidity\":0.2}},\"type\":\"histogram\"}],\"scattergl\":[{\"marker\":{\"line\":{\"color\":\"#283442\"}},\"type\":\"scattergl\"}],\"scatter3d\":[{\"type\":\"scatter3d\",\"line\":{\"colorbar\":{\"outlinewidth\":0,\"ticks\":\"\"}},\"marker\":{\"colorbar\":{\"outlinewidth\":0,\"ticks\":\"\"}}}],\"scattermapbox\":[{\"type\":\"scattermapbox\",\"marker\":{\"colorbar\":{\"outlinewidth\":0,\"ticks\":\"\"}}}],\"scatterternary\":[{\"type\":\"scatterternary\",\"marker\":{\"colorbar\":{\"outlinewidth\":0,\"ticks\":\"\"}}}],\"scattercarpet\":[{\"type\":\"scattercarpet\",\"marker\":{\"colorbar\":{\"outlinewidth\":0,\"ticks\":\"\"}}}],\"carpet\":[{\"aaxis\":{\"endlinecolor\":\"#A2B1C6\",\"gridcolor\":\"#506784\",\"linecolor\":\"#506784\",\"minorgridcolor\":\"#506784\",\"startlinecolor\":\"#A2B1C6\"},\"baxis\":{\"endlinecolor\":\"#A2B1C6\",\"gridcolor\":\"#506784\",\"linecolor\":\"#506784\",\"minorgridcolor\":\"#506784\",\"startlinecolor\":\"#A2B1C6\"},\"type\":\"carpet\"}],\"table\":[{\"cells\":{\"fill\":{\"color\":\"#506784\"},\"line\":{\"color\":\"rgb(17,17,17)\"}},\"header\":{\"fill\":{\"color\":\"#2a3f5f\"},\"line\":{\"color\":\"rgb(17,17,17)\"}},\"type\":\"table\"}],\"barpolar\":[{\"marker\":{\"line\":{\"color\":\"rgb(17,17,17)\",\"width\":0.5},\"pattern\":{\"fillmode\":\"overlay\",\"size\":10,\"solidity\":0.2}},\"type\":\"barpolar\"}],\"pie\":[{\"automargin\":true,\"type\":\"pie\"}]},\"layout\":{\"autotypenumbers\":\"strict\",\"colorway\":[\"#636efa\",\"#EF553B\",\"#00cc96\",\"#ab63fa\",\"#FFA15A\",\"#19d3f3\",\"#FF6692\",\"#B6E880\",\"#FF97FF\",\"#FECB52\"],\"font\":{\"color\":\"#f2f5fa\"},\"hovermode\":\"closest\",\"hoverlabel\":{\"align\":\"left\"},\"paper_bgcolor\":\"rgb(17,17,17)\",\"plot_bgcolor\":\"rgb(17,17,17)\",\"polar\":{\"bgcolor\":\"rgb(17,17,17)\",\"angularaxis\":{\"gridcolor\":\"#506784\",\"linecolor\":\"#506784\",\"ticks\":\"\"},\"radialaxis\":{\"gridcolor\":\"#506784\",\"linecolor\":\"#506784\",\"ticks\":\"\"}},\"ternary\":{\"bgcolor\":\"rgb(17,17,17)\",\"aaxis\":{\"gridcolor\":\"#506784\",\"linecolor\":\"#506784\",\"ticks\":\"\"},\"baxis\":{\"gridcolor\":\"#506784\",\"linecolor\":\"#506784\",\"ticks\":\"\"},\"caxis\":{\"gridcolor\":\"#506784\",\"linecolor\":\"#506784\",\"ticks\":\"\"}},\"coloraxis\":{\"colorbar\":{\"outlinewidth\":0,\"ticks\":\"\"}},\"colorscale\":{\"sequential\":[[0.0,\"#0d0887\"],[0.1111111111111111,\"#46039f\"],[0.2222222222222222,\"#7201a8\"],[0.3333333333333333,\"#9c179e\"],[0.4444444444444444,\"#bd3786\"],[0.5555555555555556,\"#d8576b\"],[0.6666666666666666,\"#ed7953\"],[0.7777777777777778,\"#fb9f3a\"],[0.8888888888888888,\"#fdca26\"],[1.0,\"#f0f921\"]],\"sequentialminus\":[[0.0,\"#0d0887\"],[0.1111111111111111,\"#46039f\"],[0.2222222222222222,\"#7201a8\"],[0.3333333333333333,\"#9c179e\"],[0.4444444444444444,\"#bd3786\"],[0.5555555555555556,\"#d8576b\"],[0.6666666666666666,\"#ed7953\"],[0.7777777777777778,\"#fb9f3a\"],[0.8888888888888888,\"#fdca26\"],[1.0,\"#f0f921\"]],\"diverging\":[[0,\"#8e0152\"],[0.1,\"#c51b7d\"],[0.2,\"#de77ae\"],[0.3,\"#f1b6da\"],[0.4,\"#fde0ef\"],[0.5,\"#f7f7f7\"],[0.6,\"#e6f5d0\"],[0.7,\"#b8e186\"],[0.8,\"#7fbc41\"],[0.9,\"#4d9221\"],[1,\"#276419\"]]},\"xaxis\":{\"gridcolor\":\"#283442\",\"linecolor\":\"#506784\",\"ticks\":\"\",\"title\":{\"standoff\":15},\"zerolinecolor\":\"#283442\",\"automargin\":true,\"zerolinewidth\":2},\"yaxis\":{\"gridcolor\":\"#283442\",\"linecolor\":\"#506784\",\"ticks\":\"\",\"title\":{\"standoff\":15},\"zerolinecolor\":\"#283442\",\"automargin\":true,\"zerolinewidth\":2},\"scene\":{\"xaxis\":{\"backgroundcolor\":\"rgb(17,17,17)\",\"gridcolor\":\"#506784\",\"linecolor\":\"#506784\",\"showbackground\":true,\"ticks\":\"\",\"zerolinecolor\":\"#C8D4E3\",\"gridwidth\":2},\"yaxis\":{\"backgroundcolor\":\"rgb(17,17,17)\",\"gridcolor\":\"#506784\",\"linecolor\":\"#506784\",\"showbackground\":true,\"ticks\":\"\",\"zerolinecolor\":\"#C8D4E3\",\"gridwidth\":2},\"zaxis\":{\"backgroundcolor\":\"rgb(17,17,17)\",\"gridcolor\":\"#506784\",\"linecolor\":\"#506784\",\"showbackground\":true,\"ticks\":\"\",\"zerolinecolor\":\"#C8D4E3\",\"gridwidth\":2}},\"shapedefaults\":{\"line\":{\"color\":\"#f2f5fa\"}},\"annotationdefaults\":{\"arrowcolor\":\"#f2f5fa\",\"arrowhead\":0,\"arrowwidth\":1},\"geo\":{\"bgcolor\":\"rgb(17,17,17)\",\"landcolor\":\"rgb(17,17,17)\",\"subunitcolor\":\"#506784\",\"showland\":true,\"showlakes\":true,\"lakecolor\":\"rgb(17,17,17)\"},\"title\":{\"x\":0.05},\"updatemenudefaults\":{\"bgcolor\":\"#506784\",\"borderwidth\":0},\"sliderdefaults\":{\"bgcolor\":\"#C8D4E3\",\"borderwidth\":1,\"bordercolor\":\"rgb(17,17,17)\",\"tickwidth\":0},\"mapbox\":{\"style\":\"dark\"}}},\"xaxis\":{\"anchor\":\"y\",\"domain\":[0.0,1.0],\"title\":{\"text\":\"Temps en jours\"}},\"yaxis\":{\"anchor\":\"x\",\"domain\":[0.0,1.0],\"title\":{\"text\":\"Temps de parole en minutes\"}},\"legend\":{\"title\":{\"text\":\"Cha\\u00eene\"},\"tracegroupgap\":0},\"title\":{\"text\":\"Lassalle : \\u00c9volution du temps de parole en fonction du temps\"}},                        {\"responsive\": true}                    ).then(function(){\n                            \nvar gd = document.getElementById('ea9fc3af-d680-4d4b-a465-f3864b36f2ee');\nvar x = new MutationObserver(function (mutations, observer) {{\n        var display = window.getComputedStyle(gd).display;\n        if (!display || display === 'none') {{\n            console.log([gd, 'removed!']);\n            Plotly.purge(gd);\n            observer.disconnect();\n        }}\n}});\n\n// Listen for the removal of the full notebook cells\nvar notebookContainer = gd.closest('#notebook-container');\nif (notebookContainer) {{\n    x.observe(notebookContainer, {childList: true});\n}}\n\n// Listen for the clearing of the current output cell\nvar outputEl = gd.closest('.output');\nif (outputEl) {{\n    x.observe(outputEl, {childList: true});\n}}\n\n                        })                };                });            </script>        </div>"
     },
     "metadata": {},
     "output_type": "display_data"
    }
   ],
   "source": [
    "px.line(df_lassalle, x='Période', y=\"Somme\", color='Chaîne', labels={\n",
    "    \"Période\": \"Temps en jours\",\n",
    "    \"Somme\": \"Temps de parole en minutes\",\n",
    "    \"Chaîne\": \"Chaîne\"\n",
    "}, title=\"Lassalle : Évolution du temps de parole en fonction du temps\")\n"
   ],
   "metadata": {
    "collapsed": false,
    "pycharm": {
     "name": "#%%\n"
    }
   }
  },
  {
   "cell_type": "code",
   "execution_count": 27,
   "outputs": [
    {
     "data": {
      "application/vnd.plotly.v1+json": {
       "data": [
        {
         "hovertemplate": "Chaîne=TF1<br>Temps en jours=%{x}<br>Temps de parole en minutes=%{y}<extra></extra>",
         "legendgroup": "TF1",
         "line": {
          "color": "#636efa",
          "dash": "solid"
         },
         "marker": {
          "symbol": "circle"
         },
         "mode": "lines",
         "name": "TF1",
         "orientation": "v",
         "showlegend": true,
         "x": [
          "2022-03-13T00:00:00",
          "2022-03-20T00:00:00",
          "2022-03-27T00:00:00",
          "2022-04-03T00:00:00",
          "2022-04-08T00:00:00"
         ],
         "xaxis": "x",
         "y": [
          47.75,
          26.166666666666668,
          0.55,
          10.816666666666666,
          0.75
         ],
         "yaxis": "y",
         "type": "scatter"
        },
        {
         "hovertemplate": "Chaîne=France2<br>Temps en jours=%{x}<br>Temps de parole en minutes=%{y}<extra></extra>",
         "legendgroup": "France2",
         "line": {
          "color": "#EF553B",
          "dash": "solid"
         },
         "marker": {
          "symbol": "circle"
         },
         "mode": "lines",
         "name": "France2",
         "orientation": "v",
         "showlegend": true,
         "x": [
          "2022-03-13T00:00:00",
          "2022-03-20T00:00:00",
          "2022-03-27T00:00:00",
          "2022-04-03T00:00:00",
          "2022-04-08T00:00:00"
         ],
         "xaxis": "x",
         "y": [
          74.43333333333334,
          0.8,
          0.36666666666666664,
          32.766666666666666,
          24.883333333333333
         ],
         "yaxis": "y",
         "type": "scatter"
        },
        {
         "hovertemplate": "Chaîne=France3<br>Temps en jours=%{x}<br>Temps de parole en minutes=%{y}<extra></extra>",
         "legendgroup": "France3",
         "line": {
          "color": "#00cc96",
          "dash": "solid"
         },
         "marker": {
          "symbol": "circle"
         },
         "mode": "lines",
         "name": "France3",
         "orientation": "v",
         "showlegend": true,
         "x": [
          "2022-03-13T00:00:00",
          "2022-03-20T00:00:00",
          "2022-03-27T00:00:00",
          "2022-04-03T00:00:00",
          "2022-04-08T00:00:00"
         ],
         "xaxis": "x",
         "y": [
          20.866666666666667,
          2.433333333333333,
          1.15,
          2.3833333333333333,
          1.5666666666666669
         ],
         "yaxis": "y",
         "type": "scatter"
        },
        {
         "hovertemplate": "Chaîne=France5<br>Temps en jours=%{x}<br>Temps de parole en minutes=%{y}<extra></extra>",
         "legendgroup": "France5",
         "line": {
          "color": "#ab63fa",
          "dash": "solid"
         },
         "marker": {
          "symbol": "circle"
         },
         "mode": "lines",
         "name": "France5",
         "orientation": "v",
         "showlegend": true,
         "x": [
          "2022-03-13T00:00:00",
          "2022-03-20T00:00:00",
          "2022-03-27T00:00:00",
          "2022-04-03T00:00:00",
          "2022-04-08T00:00:00"
         ],
         "xaxis": "x",
         "y": [
          58.483333333333334,
          28.46666666666667,
          2.533333333333333,
          11.516666666666667,
          8.0
         ],
         "yaxis": "y",
         "type": "scatter"
        },
        {
         "hovertemplate": "Chaîne=M6<br>Temps en jours=%{x}<br>Temps de parole en minutes=%{y}<extra></extra>",
         "legendgroup": "M6",
         "line": {
          "color": "#FFA15A",
          "dash": "solid"
         },
         "marker": {
          "symbol": "circle"
         },
         "mode": "lines",
         "name": "M6",
         "orientation": "v",
         "showlegend": true,
         "x": [
          "2022-03-13T00:00:00",
          "2022-03-20T00:00:00",
          "2022-03-27T00:00:00",
          "2022-04-03T00:00:00",
          "2022-04-08T00:00:00"
         ],
         "xaxis": "x",
         "y": [
          23.23333333333333,
          2.3833333333333333,
          1.1333333333333333,
          2.65,
          1.4833333333333334
         ],
         "yaxis": "y",
         "type": "scatter"
        },
        {
         "hovertemplate": "Chaîne=C8<br>Temps en jours=%{x}<br>Temps de parole en minutes=%{y}<extra></extra>",
         "legendgroup": "C8",
         "line": {
          "color": "#19d3f3",
          "dash": "solid"
         },
         "marker": {
          "symbol": "circle"
         },
         "mode": "lines",
         "name": "C8",
         "orientation": "v",
         "showlegend": true,
         "x": [
          "2022-03-13T00:00:00",
          "2022-03-20T00:00:00",
          "2022-03-27T00:00:00",
          "2022-04-03T00:00:00",
          "2022-04-08T00:00:00"
         ],
         "xaxis": "x",
         "y": [
          157.01666666666668,
          106.88333333333333,
          0.0,
          11.1,
          1.8666666666666667
         ],
         "yaxis": "y",
         "type": "scatter"
        },
        {
         "hovertemplate": "Chaîne=TMC<br>Temps en jours=%{x}<br>Temps de parole en minutes=%{y}<extra></extra>",
         "legendgroup": "TMC",
         "line": {
          "color": "#FF6692",
          "dash": "solid"
         },
         "marker": {
          "symbol": "circle"
         },
         "mode": "lines",
         "name": "TMC",
         "orientation": "v",
         "showlegend": true,
         "x": [
          "2022-03-13T00:00:00",
          "2022-03-20T00:00:00",
          "2022-03-27T00:00:00",
          "2022-04-03T00:00:00",
          "2022-04-08T00:00:00"
         ],
         "xaxis": "x",
         "y": [
          21.0,
          9.166666666666666,
          4.5,
          17.966666666666665,
          7.683333333333334
         ],
         "yaxis": "y",
         "type": "scatter"
        },
        {
         "hovertemplate": "Chaîne=BFMTV<br>Temps en jours=%{x}<br>Temps de parole en minutes=%{y}<extra></extra>",
         "legendgroup": "BFMTV",
         "line": {
          "color": "#B6E880",
          "dash": "solid"
         },
         "marker": {
          "symbol": "circle"
         },
         "mode": "lines",
         "name": "BFMTV",
         "orientation": "v",
         "showlegend": true,
         "x": [
          "2022-03-13T00:00:00",
          "2022-03-20T00:00:00",
          "2022-03-27T00:00:00",
          "2022-04-03T00:00:00",
          "2022-04-08T00:00:00"
         ],
         "xaxis": "x",
         "y": [
          353.6166666666667,
          90.85000000000001,
          79.21666666666667,
          33.3,
          2.3
         ],
         "yaxis": "y",
         "type": "scatter"
        },
        {
         "hovertemplate": "Chaîne=Cnews<br>Temps en jours=%{x}<br>Temps de parole en minutes=%{y}<extra></extra>",
         "legendgroup": "Cnews",
         "line": {
          "color": "#FF97FF",
          "dash": "solid"
         },
         "marker": {
          "symbol": "circle"
         },
         "mode": "lines",
         "name": "Cnews",
         "orientation": "v",
         "showlegend": true,
         "x": [
          "2022-03-13T00:00:00",
          "2022-03-20T00:00:00",
          "2022-03-27T00:00:00",
          "2022-04-03T00:00:00",
          "2022-04-08T00:00:00"
         ],
         "xaxis": "x",
         "y": [
          861.05,
          417.8,
          188.1833333333333,
          80.16666666666666,
          61.26666666666667
         ],
         "yaxis": "y",
         "type": "scatter"
        },
        {
         "hovertemplate": "Chaîne=RMCDecouverte<br>Temps en jours=%{x}<br>Temps de parole en minutes=%{y}<extra></extra>",
         "legendgroup": "RMCDecouverte",
         "line": {
          "color": "#FECB52",
          "dash": "solid"
         },
         "marker": {
          "symbol": "circle"
         },
         "mode": "lines",
         "name": "RMCDecouverte",
         "orientation": "v",
         "showlegend": true,
         "x": [
          "2022-03-13T00:00:00",
          "2022-03-20T00:00:00"
         ],
         "xaxis": "x",
         "y": [
          0.0,
          0.0
         ],
         "yaxis": "y",
         "type": "scatter"
        },
        {
         "hovertemplate": "Chaîne=LCI<br>Temps en jours=%{x}<br>Temps de parole en minutes=%{y}<extra></extra>",
         "legendgroup": "LCI",
         "line": {
          "color": "#636efa",
          "dash": "solid"
         },
         "marker": {
          "symbol": "circle"
         },
         "mode": "lines",
         "name": "LCI",
         "orientation": "v",
         "showlegend": true,
         "x": [
          "2022-03-13T00:00:00",
          "2022-03-20T00:00:00",
          "2022-03-27T00:00:00",
          "2022-04-03T00:00:00",
          "2022-04-08T00:00:00"
         ],
         "xaxis": "x",
         "y": [
          427.2666666666667,
          43.050000000000004,
          4.35,
          211.33333333333334,
          98.16666666666667
         ],
         "yaxis": "y",
         "type": "scatter"
        },
        {
         "hovertemplate": "Chaîne=FranceinfoTV<br>Temps en jours=%{x}<br>Temps de parole en minutes=%{y}<extra></extra>",
         "legendgroup": "FranceinfoTV",
         "line": {
          "color": "#EF553B",
          "dash": "solid"
         },
         "marker": {
          "symbol": "circle"
         },
         "mode": "lines",
         "name": "FranceinfoTV",
         "orientation": "v",
         "showlegend": true,
         "x": [
          "2022-03-13T00:00:00",
          "2022-03-20T00:00:00",
          "2022-03-27T00:00:00",
          "2022-04-03T00:00:00",
          "2022-04-08T00:00:00"
         ],
         "xaxis": "x",
         "y": [
          345.51666666666665,
          94.16666666666667,
          37.43333333333334,
          185.26666666666665,
          118.28333333333332
         ],
         "yaxis": "y",
         "type": "scatter"
        },
        {
         "hovertemplate": "Chaîne=FranceInter<br>Temps en jours=%{x}<br>Temps de parole en minutes=%{y}<extra></extra>",
         "legendgroup": "FranceInter",
         "line": {
          "color": "#00cc96",
          "dash": "solid"
         },
         "marker": {
          "symbol": "circle"
         },
         "mode": "lines",
         "name": "FranceInter",
         "orientation": "v",
         "showlegend": true,
         "x": [
          "2022-03-13T00:00:00",
          "2022-03-20T00:00:00",
          "2022-03-27T00:00:00",
          "2022-04-03T00:00:00",
          "2022-04-08T00:00:00"
         ],
         "xaxis": "x",
         "y": [
          41.36666666666667,
          31.13333333333333,
          3.5,
          13.283333333333333,
          5.483333333333333
         ],
         "yaxis": "y",
         "type": "scatter"
        },
        {
         "hovertemplate": "Chaîne=FranceInfo<br>Temps en jours=%{x}<br>Temps de parole en minutes=%{y}<extra></extra>",
         "legendgroup": "FranceInfo",
         "line": {
          "color": "#ab63fa",
          "dash": "solid"
         },
         "marker": {
          "symbol": "circle"
         },
         "mode": "lines",
         "name": "FranceInfo",
         "orientation": "v",
         "showlegend": true,
         "x": [
          "2022-03-13T00:00:00",
          "2022-03-20T00:00:00",
          "2022-03-27T00:00:00",
          "2022-04-03T00:00:00",
          "2022-04-08T00:00:00"
         ],
         "xaxis": "x",
         "y": [
          143.45,
          78.3,
          16.166666666666668,
          76.31666666666666,
          15.333333333333332
         ],
         "yaxis": "y",
         "type": "scatter"
        },
        {
         "hovertemplate": "Chaîne=FranceCulture<br>Temps en jours=%{x}<br>Temps de parole en minutes=%{y}<extra></extra>",
         "legendgroup": "FranceCulture",
         "line": {
          "color": "#FFA15A",
          "dash": "solid"
         },
         "marker": {
          "symbol": "circle"
         },
         "mode": "lines",
         "name": "FranceCulture",
         "orientation": "v",
         "showlegend": true,
         "x": [
          "2022-03-13T00:00:00",
          "2022-03-20T00:00:00",
          "2022-03-27T00:00:00",
          "2022-04-03T00:00:00",
          "2022-04-08T00:00:00"
         ],
         "xaxis": "x",
         "y": [
          46.1,
          44.916666666666664,
          0.36666666666666664,
          10.5,
          0.5833333333333334
         ],
         "yaxis": "y",
         "type": "scatter"
        },
        {
         "hovertemplate": "Chaîne=RTL<br>Temps en jours=%{x}<br>Temps de parole en minutes=%{y}<extra></extra>",
         "legendgroup": "RTL",
         "line": {
          "color": "#19d3f3",
          "dash": "solid"
         },
         "marker": {
          "symbol": "circle"
         },
         "mode": "lines",
         "name": "RTL",
         "orientation": "v",
         "showlegend": true,
         "x": [
          "2022-03-13T00:00:00",
          "2022-03-20T00:00:00",
          "2022-03-27T00:00:00",
          "2022-04-03T00:00:00",
          "2022-04-08T00:00:00"
         ],
         "xaxis": "x",
         "y": [
          201.9333333333333,
          13.316666666666666,
          4.716666666666667,
          15.516666666666666,
          10.666666666666668
         ],
         "yaxis": "y",
         "type": "scatter"
        },
        {
         "hovertemplate": "Chaîne=Europe1<br>Temps en jours=%{x}<br>Temps de parole en minutes=%{y}<extra></extra>",
         "legendgroup": "Europe1",
         "line": {
          "color": "#FF6692",
          "dash": "solid"
         },
         "marker": {
          "symbol": "circle"
         },
         "mode": "lines",
         "name": "Europe1",
         "orientation": "v",
         "showlegend": true,
         "x": [
          "2022-03-13T00:00:00",
          "2022-03-20T00:00:00",
          "2022-03-27T00:00:00",
          "2022-04-03T00:00:00",
          "2022-04-08T00:00:00"
         ],
         "xaxis": "x",
         "y": [
          80.06666666666666,
          57.45,
          26.266666666666666,
          65.53333333333333,
          59.166666666666664
         ],
         "yaxis": "y",
         "type": "scatter"
        },
        {
         "hovertemplate": "Chaîne=RMC<br>Temps en jours=%{x}<br>Temps de parole en minutes=%{y}<extra></extra>",
         "legendgroup": "RMC",
         "line": {
          "color": "#B6E880",
          "dash": "solid"
         },
         "marker": {
          "symbol": "circle"
         },
         "mode": "lines",
         "name": "RMC",
         "orientation": "v",
         "showlegend": true,
         "x": [
          "2022-03-13T00:00:00",
          "2022-03-20T00:00:00",
          "2022-03-27T00:00:00",
          "2022-04-03T00:00:00",
          "2022-04-08T00:00:00"
         ],
         "xaxis": "x",
         "y": [
          194.68333333333334,
          182.36666666666667,
          102.15,
          17.0,
          11.55
         ],
         "yaxis": "y",
         "type": "scatter"
        },
        {
         "hovertemplate": "Chaîne=BFMBusiness<br>Temps en jours=%{x}<br>Temps de parole en minutes=%{y}<extra></extra>",
         "legendgroup": "BFMBusiness",
         "line": {
          "color": "#FF97FF",
          "dash": "solid"
         },
         "marker": {
          "symbol": "circle"
         },
         "mode": "lines",
         "name": "BFMBusiness",
         "orientation": "v",
         "showlegend": true,
         "x": [
          "2022-03-13T00:00:00",
          "2022-03-20T00:00:00",
          "2022-03-27T00:00:00"
         ],
         "xaxis": "x",
         "y": [
          33.81666666666666,
          0.85,
          0.4166666666666667
         ],
         "yaxis": "y",
         "type": "scatter"
        },
        {
         "hovertemplate": "Chaîne=RadioClassique<br>Temps en jours=%{x}<br>Temps de parole en minutes=%{y}<extra></extra>",
         "legendgroup": "RadioClassique",
         "line": {
          "color": "#FECB52",
          "dash": "solid"
         },
         "marker": {
          "symbol": "circle"
         },
         "mode": "lines",
         "name": "RadioClassique",
         "orientation": "v",
         "showlegend": true,
         "x": [
          "2022-03-13T00:00:00",
          "2022-03-20T00:00:00",
          "2022-03-27T00:00:00",
          "2022-04-03T00:00:00",
          "2022-04-08T00:00:00"
         ],
         "xaxis": "x",
         "y": [
          1.7,
          0.0,
          0.0,
          0.0,
          0.0
         ],
         "yaxis": "y",
         "type": "scatter"
        },
        {
         "hovertemplate": "Chaîne=SudRadio<br>Temps en jours=%{x}<br>Temps de parole en minutes=%{y}<extra></extra>",
         "legendgroup": "SudRadio",
         "line": {
          "color": "#636efa",
          "dash": "solid"
         },
         "marker": {
          "symbol": "circle"
         },
         "mode": "lines",
         "name": "SudRadio",
         "orientation": "v",
         "showlegend": true,
         "x": [
          "2022-03-13T00:00:00",
          "2022-03-20T00:00:00",
          "2022-03-27T00:00:00",
          "2022-04-03T00:00:00",
          "2022-04-08T00:00:00"
         ],
         "xaxis": "x",
         "y": [
          20.05,
          18.383333333333333,
          18.383333333333333,
          1.6666666666666667,
          0.7666666666666666
         ],
         "yaxis": "y",
         "type": "scatter"
        },
        {
         "hovertemplate": "Chaîne=TV5Monde<br>Temps en jours=%{x}<br>Temps de parole en minutes=%{y}<extra></extra>",
         "legendgroup": "TV5Monde",
         "line": {
          "color": "#EF553B",
          "dash": "solid"
         },
         "marker": {
          "symbol": "circle"
         },
         "mode": "lines",
         "name": "TV5Monde",
         "orientation": "v",
         "showlegend": true,
         "x": [
          "2022-03-13T00:00:00",
          "2022-03-20T00:00:00",
          "2022-03-27T00:00:00",
          "2022-04-03T00:00:00",
          "2022-04-08T00:00:00"
         ],
         "xaxis": "x",
         "y": [
          60.9,
          0.8,
          0.36666666666666664,
          30.383333333333333,
          23.216666666666665
         ],
         "yaxis": "y",
         "type": "scatter"
        },
        {
         "hovertemplate": "Chaîne=Euronews<br>Temps en jours=%{x}<br>Temps de parole en minutes=%{y}<extra></extra>",
         "legendgroup": "Euronews",
         "line": {
          "color": "#00cc96",
          "dash": "solid"
         },
         "marker": {
          "symbol": "circle"
         },
         "mode": "lines",
         "name": "Euronews",
         "orientation": "v",
         "showlegend": true,
         "x": [
          "2022-03-13T00:00:00",
          "2022-03-20T00:00:00",
          "2022-03-27T00:00:00"
         ],
         "xaxis": "x",
         "y": [
          0.0,
          0.0,
          0.0
         ],
         "yaxis": "y",
         "type": "scatter"
        },
        {
         "hovertemplate": "Chaîne=RFI<br>Temps en jours=%{x}<br>Temps de parole en minutes=%{y}<extra></extra>",
         "legendgroup": "RFI",
         "line": {
          "color": "#ab63fa",
          "dash": "solid"
         },
         "marker": {
          "symbol": "circle"
         },
         "mode": "lines",
         "name": "RFI",
         "orientation": "v",
         "showlegend": true,
         "x": [
          "2022-03-13T00:00:00",
          "2022-03-20T00:00:00",
          "2022-03-27T00:00:00",
          "2022-04-03T00:00:00",
          "2022-04-08T00:00:00"
         ],
         "xaxis": "x",
         "y": [
          60.6,
          25.45,
          1.2666666666666666,
          21.35,
          11.166666666666668
         ],
         "yaxis": "y",
         "type": "scatter"
        },
        {
         "hovertemplate": "Chaîne=France24<br>Temps en jours=%{x}<br>Temps de parole en minutes=%{y}<extra></extra>",
         "legendgroup": "France24",
         "line": {
          "color": "#FFA15A",
          "dash": "solid"
         },
         "marker": {
          "symbol": "circle"
         },
         "mode": "lines",
         "name": "France24",
         "orientation": "v",
         "showlegend": true,
         "x": [
          "2022-03-13T00:00:00",
          "2022-03-20T00:00:00",
          "2022-03-27T00:00:00",
          "2022-04-03T00:00:00",
          "2022-04-08T00:00:00"
         ],
         "xaxis": "x",
         "y": [
          38.36666666666667,
          23.900000000000002,
          2.4,
          20.233333333333334,
          9.566666666666666
         ],
         "yaxis": "y",
         "type": "scatter"
        },
        {
         "hovertemplate": "Chaîne=RMC Story<br>Temps en jours=%{x}<br>Temps de parole en minutes=%{y}<extra></extra>",
         "legendgroup": "RMC Story",
         "line": {
          "color": "#19d3f3",
          "dash": "solid"
         },
         "marker": {
          "symbol": "circle"
         },
         "mode": "lines",
         "name": "RMC Story",
         "orientation": "v",
         "showlegend": true,
         "x": [
          "2022-03-13T00:00:00",
          "2022-03-20T00:00:00",
          "2022-03-27T00:00:00",
          "2022-04-03T00:00:00",
          "2022-04-08T00:00:00"
         ],
         "xaxis": "x",
         "y": [
          123.83333333333333,
          117.2,
          64.43333333333334,
          7.566666666666666,
          7.566666666666666
         ],
         "yaxis": "y",
         "type": "scatter"
        }
       ],
       "layout": {
        "template": {
         "data": {
          "histogram2dcontour": [
           {
            "type": "histogram2dcontour",
            "colorbar": {
             "outlinewidth": 0,
             "ticks": ""
            },
            "colorscale": [
             [
              0.0,
              "#0d0887"
             ],
             [
              0.1111111111111111,
              "#46039f"
             ],
             [
              0.2222222222222222,
              "#7201a8"
             ],
             [
              0.3333333333333333,
              "#9c179e"
             ],
             [
              0.4444444444444444,
              "#bd3786"
             ],
             [
              0.5555555555555556,
              "#d8576b"
             ],
             [
              0.6666666666666666,
              "#ed7953"
             ],
             [
              0.7777777777777778,
              "#fb9f3a"
             ],
             [
              0.8888888888888888,
              "#fdca26"
             ],
             [
              1.0,
              "#f0f921"
             ]
            ]
           }
          ],
          "choropleth": [
           {
            "type": "choropleth",
            "colorbar": {
             "outlinewidth": 0,
             "ticks": ""
            }
           }
          ],
          "histogram2d": [
           {
            "type": "histogram2d",
            "colorbar": {
             "outlinewidth": 0,
             "ticks": ""
            },
            "colorscale": [
             [
              0.0,
              "#0d0887"
             ],
             [
              0.1111111111111111,
              "#46039f"
             ],
             [
              0.2222222222222222,
              "#7201a8"
             ],
             [
              0.3333333333333333,
              "#9c179e"
             ],
             [
              0.4444444444444444,
              "#bd3786"
             ],
             [
              0.5555555555555556,
              "#d8576b"
             ],
             [
              0.6666666666666666,
              "#ed7953"
             ],
             [
              0.7777777777777778,
              "#fb9f3a"
             ],
             [
              0.8888888888888888,
              "#fdca26"
             ],
             [
              1.0,
              "#f0f921"
             ]
            ]
           }
          ],
          "heatmap": [
           {
            "type": "heatmap",
            "colorbar": {
             "outlinewidth": 0,
             "ticks": ""
            },
            "colorscale": [
             [
              0.0,
              "#0d0887"
             ],
             [
              0.1111111111111111,
              "#46039f"
             ],
             [
              0.2222222222222222,
              "#7201a8"
             ],
             [
              0.3333333333333333,
              "#9c179e"
             ],
             [
              0.4444444444444444,
              "#bd3786"
             ],
             [
              0.5555555555555556,
              "#d8576b"
             ],
             [
              0.6666666666666666,
              "#ed7953"
             ],
             [
              0.7777777777777778,
              "#fb9f3a"
             ],
             [
              0.8888888888888888,
              "#fdca26"
             ],
             [
              1.0,
              "#f0f921"
             ]
            ]
           }
          ],
          "heatmapgl": [
           {
            "type": "heatmapgl",
            "colorbar": {
             "outlinewidth": 0,
             "ticks": ""
            },
            "colorscale": [
             [
              0.0,
              "#0d0887"
             ],
             [
              0.1111111111111111,
              "#46039f"
             ],
             [
              0.2222222222222222,
              "#7201a8"
             ],
             [
              0.3333333333333333,
              "#9c179e"
             ],
             [
              0.4444444444444444,
              "#bd3786"
             ],
             [
              0.5555555555555556,
              "#d8576b"
             ],
             [
              0.6666666666666666,
              "#ed7953"
             ],
             [
              0.7777777777777778,
              "#fb9f3a"
             ],
             [
              0.8888888888888888,
              "#fdca26"
             ],
             [
              1.0,
              "#f0f921"
             ]
            ]
           }
          ],
          "contourcarpet": [
           {
            "type": "contourcarpet",
            "colorbar": {
             "outlinewidth": 0,
             "ticks": ""
            }
           }
          ],
          "contour": [
           {
            "type": "contour",
            "colorbar": {
             "outlinewidth": 0,
             "ticks": ""
            },
            "colorscale": [
             [
              0.0,
              "#0d0887"
             ],
             [
              0.1111111111111111,
              "#46039f"
             ],
             [
              0.2222222222222222,
              "#7201a8"
             ],
             [
              0.3333333333333333,
              "#9c179e"
             ],
             [
              0.4444444444444444,
              "#bd3786"
             ],
             [
              0.5555555555555556,
              "#d8576b"
             ],
             [
              0.6666666666666666,
              "#ed7953"
             ],
             [
              0.7777777777777778,
              "#fb9f3a"
             ],
             [
              0.8888888888888888,
              "#fdca26"
             ],
             [
              1.0,
              "#f0f921"
             ]
            ]
           }
          ],
          "surface": [
           {
            "type": "surface",
            "colorbar": {
             "outlinewidth": 0,
             "ticks": ""
            },
            "colorscale": [
             [
              0.0,
              "#0d0887"
             ],
             [
              0.1111111111111111,
              "#46039f"
             ],
             [
              0.2222222222222222,
              "#7201a8"
             ],
             [
              0.3333333333333333,
              "#9c179e"
             ],
             [
              0.4444444444444444,
              "#bd3786"
             ],
             [
              0.5555555555555556,
              "#d8576b"
             ],
             [
              0.6666666666666666,
              "#ed7953"
             ],
             [
              0.7777777777777778,
              "#fb9f3a"
             ],
             [
              0.8888888888888888,
              "#fdca26"
             ],
             [
              1.0,
              "#f0f921"
             ]
            ]
           }
          ],
          "mesh3d": [
           {
            "type": "mesh3d",
            "colorbar": {
             "outlinewidth": 0,
             "ticks": ""
            }
           }
          ],
          "scatter": [
           {
            "marker": {
             "line": {
              "color": "#283442"
             }
            },
            "type": "scatter"
           }
          ],
          "parcoords": [
           {
            "type": "parcoords",
            "line": {
             "colorbar": {
              "outlinewidth": 0,
              "ticks": ""
             }
            }
           }
          ],
          "scatterpolargl": [
           {
            "type": "scatterpolargl",
            "marker": {
             "colorbar": {
              "outlinewidth": 0,
              "ticks": ""
             }
            }
           }
          ],
          "bar": [
           {
            "error_x": {
             "color": "#f2f5fa"
            },
            "error_y": {
             "color": "#f2f5fa"
            },
            "marker": {
             "line": {
              "color": "rgb(17,17,17)",
              "width": 0.5
             },
             "pattern": {
              "fillmode": "overlay",
              "size": 10,
              "solidity": 0.2
             }
            },
            "type": "bar"
           }
          ],
          "scattergeo": [
           {
            "type": "scattergeo",
            "marker": {
             "colorbar": {
              "outlinewidth": 0,
              "ticks": ""
             }
            }
           }
          ],
          "scatterpolar": [
           {
            "type": "scatterpolar",
            "marker": {
             "colorbar": {
              "outlinewidth": 0,
              "ticks": ""
             }
            }
           }
          ],
          "histogram": [
           {
            "marker": {
             "pattern": {
              "fillmode": "overlay",
              "size": 10,
              "solidity": 0.2
             }
            },
            "type": "histogram"
           }
          ],
          "scattergl": [
           {
            "marker": {
             "line": {
              "color": "#283442"
             }
            },
            "type": "scattergl"
           }
          ],
          "scatter3d": [
           {
            "type": "scatter3d",
            "line": {
             "colorbar": {
              "outlinewidth": 0,
              "ticks": ""
             }
            },
            "marker": {
             "colorbar": {
              "outlinewidth": 0,
              "ticks": ""
             }
            }
           }
          ],
          "scattermapbox": [
           {
            "type": "scattermapbox",
            "marker": {
             "colorbar": {
              "outlinewidth": 0,
              "ticks": ""
             }
            }
           }
          ],
          "scatterternary": [
           {
            "type": "scatterternary",
            "marker": {
             "colorbar": {
              "outlinewidth": 0,
              "ticks": ""
             }
            }
           }
          ],
          "scattercarpet": [
           {
            "type": "scattercarpet",
            "marker": {
             "colorbar": {
              "outlinewidth": 0,
              "ticks": ""
             }
            }
           }
          ],
          "carpet": [
           {
            "aaxis": {
             "endlinecolor": "#A2B1C6",
             "gridcolor": "#506784",
             "linecolor": "#506784",
             "minorgridcolor": "#506784",
             "startlinecolor": "#A2B1C6"
            },
            "baxis": {
             "endlinecolor": "#A2B1C6",
             "gridcolor": "#506784",
             "linecolor": "#506784",
             "minorgridcolor": "#506784",
             "startlinecolor": "#A2B1C6"
            },
            "type": "carpet"
           }
          ],
          "table": [
           {
            "cells": {
             "fill": {
              "color": "#506784"
             },
             "line": {
              "color": "rgb(17,17,17)"
             }
            },
            "header": {
             "fill": {
              "color": "#2a3f5f"
             },
             "line": {
              "color": "rgb(17,17,17)"
             }
            },
            "type": "table"
           }
          ],
          "barpolar": [
           {
            "marker": {
             "line": {
              "color": "rgb(17,17,17)",
              "width": 0.5
             },
             "pattern": {
              "fillmode": "overlay",
              "size": 10,
              "solidity": 0.2
             }
            },
            "type": "barpolar"
           }
          ],
          "pie": [
           {
            "automargin": true,
            "type": "pie"
           }
          ]
         },
         "layout": {
          "autotypenumbers": "strict",
          "colorway": [
           "#636efa",
           "#EF553B",
           "#00cc96",
           "#ab63fa",
           "#FFA15A",
           "#19d3f3",
           "#FF6692",
           "#B6E880",
           "#FF97FF",
           "#FECB52"
          ],
          "font": {
           "color": "#f2f5fa"
          },
          "hovermode": "closest",
          "hoverlabel": {
           "align": "left"
          },
          "paper_bgcolor": "rgb(17,17,17)",
          "plot_bgcolor": "rgb(17,17,17)",
          "polar": {
           "bgcolor": "rgb(17,17,17)",
           "angularaxis": {
            "gridcolor": "#506784",
            "linecolor": "#506784",
            "ticks": ""
           },
           "radialaxis": {
            "gridcolor": "#506784",
            "linecolor": "#506784",
            "ticks": ""
           }
          },
          "ternary": {
           "bgcolor": "rgb(17,17,17)",
           "aaxis": {
            "gridcolor": "#506784",
            "linecolor": "#506784",
            "ticks": ""
           },
           "baxis": {
            "gridcolor": "#506784",
            "linecolor": "#506784",
            "ticks": ""
           },
           "caxis": {
            "gridcolor": "#506784",
            "linecolor": "#506784",
            "ticks": ""
           }
          },
          "coloraxis": {
           "colorbar": {
            "outlinewidth": 0,
            "ticks": ""
           }
          },
          "colorscale": {
           "sequential": [
            [
             0.0,
             "#0d0887"
            ],
            [
             0.1111111111111111,
             "#46039f"
            ],
            [
             0.2222222222222222,
             "#7201a8"
            ],
            [
             0.3333333333333333,
             "#9c179e"
            ],
            [
             0.4444444444444444,
             "#bd3786"
            ],
            [
             0.5555555555555556,
             "#d8576b"
            ],
            [
             0.6666666666666666,
             "#ed7953"
            ],
            [
             0.7777777777777778,
             "#fb9f3a"
            ],
            [
             0.8888888888888888,
             "#fdca26"
            ],
            [
             1.0,
             "#f0f921"
            ]
           ],
           "sequentialminus": [
            [
             0.0,
             "#0d0887"
            ],
            [
             0.1111111111111111,
             "#46039f"
            ],
            [
             0.2222222222222222,
             "#7201a8"
            ],
            [
             0.3333333333333333,
             "#9c179e"
            ],
            [
             0.4444444444444444,
             "#bd3786"
            ],
            [
             0.5555555555555556,
             "#d8576b"
            ],
            [
             0.6666666666666666,
             "#ed7953"
            ],
            [
             0.7777777777777778,
             "#fb9f3a"
            ],
            [
             0.8888888888888888,
             "#fdca26"
            ],
            [
             1.0,
             "#f0f921"
            ]
           ],
           "diverging": [
            [
             0,
             "#8e0152"
            ],
            [
             0.1,
             "#c51b7d"
            ],
            [
             0.2,
             "#de77ae"
            ],
            [
             0.3,
             "#f1b6da"
            ],
            [
             0.4,
             "#fde0ef"
            ],
            [
             0.5,
             "#f7f7f7"
            ],
            [
             0.6,
             "#e6f5d0"
            ],
            [
             0.7,
             "#b8e186"
            ],
            [
             0.8,
             "#7fbc41"
            ],
            [
             0.9,
             "#4d9221"
            ],
            [
             1,
             "#276419"
            ]
           ]
          },
          "xaxis": {
           "gridcolor": "#283442",
           "linecolor": "#506784",
           "ticks": "",
           "title": {
            "standoff": 15
           },
           "zerolinecolor": "#283442",
           "automargin": true,
           "zerolinewidth": 2
          },
          "yaxis": {
           "gridcolor": "#283442",
           "linecolor": "#506784",
           "ticks": "",
           "title": {
            "standoff": 15
           },
           "zerolinecolor": "#283442",
           "automargin": true,
           "zerolinewidth": 2
          },
          "scene": {
           "xaxis": {
            "backgroundcolor": "rgb(17,17,17)",
            "gridcolor": "#506784",
            "linecolor": "#506784",
            "showbackground": true,
            "ticks": "",
            "zerolinecolor": "#C8D4E3",
            "gridwidth": 2
           },
           "yaxis": {
            "backgroundcolor": "rgb(17,17,17)",
            "gridcolor": "#506784",
            "linecolor": "#506784",
            "showbackground": true,
            "ticks": "",
            "zerolinecolor": "#C8D4E3",
            "gridwidth": 2
           },
           "zaxis": {
            "backgroundcolor": "rgb(17,17,17)",
            "gridcolor": "#506784",
            "linecolor": "#506784",
            "showbackground": true,
            "ticks": "",
            "zerolinecolor": "#C8D4E3",
            "gridwidth": 2
           }
          },
          "shapedefaults": {
           "line": {
            "color": "#f2f5fa"
           }
          },
          "annotationdefaults": {
           "arrowcolor": "#f2f5fa",
           "arrowhead": 0,
           "arrowwidth": 1
          },
          "geo": {
           "bgcolor": "rgb(17,17,17)",
           "landcolor": "rgb(17,17,17)",
           "subunitcolor": "#506784",
           "showland": true,
           "showlakes": true,
           "lakecolor": "rgb(17,17,17)"
          },
          "title": {
           "x": 0.05
          },
          "updatemenudefaults": {
           "bgcolor": "#506784",
           "borderwidth": 0
          },
          "sliderdefaults": {
           "bgcolor": "#C8D4E3",
           "borderwidth": 1,
           "bordercolor": "rgb(17,17,17)",
           "tickwidth": 0
          },
          "mapbox": {
           "style": "dark"
          }
         }
        },
        "xaxis": {
         "anchor": "y",
         "domain": [
          0.0,
          1.0
         ],
         "title": {
          "text": "Temps en jours"
         }
        },
        "yaxis": {
         "anchor": "x",
         "domain": [
          0.0,
          1.0
         ],
         "title": {
          "text": "Temps de parole en minutes"
         }
        },
        "legend": {
         "title": {
          "text": "Chaîne"
         },
         "tracegroupgap": 0
        },
        "title": {
         "text": "Lepen : Évolution du temps de parole en fonction du temps"
        }
       },
       "config": {
        "plotlyServerURL": "https://plot.ly"
       }
      },
      "text/html": "<div>                            <div id=\"0b0dd9bd-b481-42a1-a427-279d16f9153b\" class=\"plotly-graph-div\" style=\"height:525px; width:100%;\"></div>            <script type=\"text/javascript\">                require([\"plotly\"], function(Plotly) {                    window.PLOTLYENV=window.PLOTLYENV || {};                                    if (document.getElementById(\"0b0dd9bd-b481-42a1-a427-279d16f9153b\")) {                    Plotly.newPlot(                        \"0b0dd9bd-b481-42a1-a427-279d16f9153b\",                        [{\"hovertemplate\":\"Cha\\u00eene=TF1<br>Temps en jours=%{x}<br>Temps de parole en minutes=%{y}<extra></extra>\",\"legendgroup\":\"TF1\",\"line\":{\"color\":\"#636efa\",\"dash\":\"solid\"},\"marker\":{\"symbol\":\"circle\"},\"mode\":\"lines\",\"name\":\"TF1\",\"orientation\":\"v\",\"showlegend\":true,\"x\":[\"2022-03-13T00:00:00\",\"2022-03-20T00:00:00\",\"2022-03-27T00:00:00\",\"2022-04-03T00:00:00\",\"2022-04-08T00:00:00\"],\"xaxis\":\"x\",\"y\":[47.75,26.166666666666668,0.55,10.816666666666666,0.75],\"yaxis\":\"y\",\"type\":\"scatter\"},{\"hovertemplate\":\"Cha\\u00eene=France2<br>Temps en jours=%{x}<br>Temps de parole en minutes=%{y}<extra></extra>\",\"legendgroup\":\"France2\",\"line\":{\"color\":\"#EF553B\",\"dash\":\"solid\"},\"marker\":{\"symbol\":\"circle\"},\"mode\":\"lines\",\"name\":\"France2\",\"orientation\":\"v\",\"showlegend\":true,\"x\":[\"2022-03-13T00:00:00\",\"2022-03-20T00:00:00\",\"2022-03-27T00:00:00\",\"2022-04-03T00:00:00\",\"2022-04-08T00:00:00\"],\"xaxis\":\"x\",\"y\":[74.43333333333334,0.8,0.36666666666666664,32.766666666666666,24.883333333333333],\"yaxis\":\"y\",\"type\":\"scatter\"},{\"hovertemplate\":\"Cha\\u00eene=France3<br>Temps en jours=%{x}<br>Temps de parole en minutes=%{y}<extra></extra>\",\"legendgroup\":\"France3\",\"line\":{\"color\":\"#00cc96\",\"dash\":\"solid\"},\"marker\":{\"symbol\":\"circle\"},\"mode\":\"lines\",\"name\":\"France3\",\"orientation\":\"v\",\"showlegend\":true,\"x\":[\"2022-03-13T00:00:00\",\"2022-03-20T00:00:00\",\"2022-03-27T00:00:00\",\"2022-04-03T00:00:00\",\"2022-04-08T00:00:00\"],\"xaxis\":\"x\",\"y\":[20.866666666666667,2.433333333333333,1.15,2.3833333333333333,1.5666666666666669],\"yaxis\":\"y\",\"type\":\"scatter\"},{\"hovertemplate\":\"Cha\\u00eene=France5<br>Temps en jours=%{x}<br>Temps de parole en minutes=%{y}<extra></extra>\",\"legendgroup\":\"France5\",\"line\":{\"color\":\"#ab63fa\",\"dash\":\"solid\"},\"marker\":{\"symbol\":\"circle\"},\"mode\":\"lines\",\"name\":\"France5\",\"orientation\":\"v\",\"showlegend\":true,\"x\":[\"2022-03-13T00:00:00\",\"2022-03-20T00:00:00\",\"2022-03-27T00:00:00\",\"2022-04-03T00:00:00\",\"2022-04-08T00:00:00\"],\"xaxis\":\"x\",\"y\":[58.483333333333334,28.46666666666667,2.533333333333333,11.516666666666667,8.0],\"yaxis\":\"y\",\"type\":\"scatter\"},{\"hovertemplate\":\"Cha\\u00eene=M6<br>Temps en jours=%{x}<br>Temps de parole en minutes=%{y}<extra></extra>\",\"legendgroup\":\"M6\",\"line\":{\"color\":\"#FFA15A\",\"dash\":\"solid\"},\"marker\":{\"symbol\":\"circle\"},\"mode\":\"lines\",\"name\":\"M6\",\"orientation\":\"v\",\"showlegend\":true,\"x\":[\"2022-03-13T00:00:00\",\"2022-03-20T00:00:00\",\"2022-03-27T00:00:00\",\"2022-04-03T00:00:00\",\"2022-04-08T00:00:00\"],\"xaxis\":\"x\",\"y\":[23.23333333333333,2.3833333333333333,1.1333333333333333,2.65,1.4833333333333334],\"yaxis\":\"y\",\"type\":\"scatter\"},{\"hovertemplate\":\"Cha\\u00eene=C8<br>Temps en jours=%{x}<br>Temps de parole en minutes=%{y}<extra></extra>\",\"legendgroup\":\"C8\",\"line\":{\"color\":\"#19d3f3\",\"dash\":\"solid\"},\"marker\":{\"symbol\":\"circle\"},\"mode\":\"lines\",\"name\":\"C8\",\"orientation\":\"v\",\"showlegend\":true,\"x\":[\"2022-03-13T00:00:00\",\"2022-03-20T00:00:00\",\"2022-03-27T00:00:00\",\"2022-04-03T00:00:00\",\"2022-04-08T00:00:00\"],\"xaxis\":\"x\",\"y\":[157.01666666666668,106.88333333333333,0.0,11.1,1.8666666666666667],\"yaxis\":\"y\",\"type\":\"scatter\"},{\"hovertemplate\":\"Cha\\u00eene=TMC<br>Temps en jours=%{x}<br>Temps de parole en minutes=%{y}<extra></extra>\",\"legendgroup\":\"TMC\",\"line\":{\"color\":\"#FF6692\",\"dash\":\"solid\"},\"marker\":{\"symbol\":\"circle\"},\"mode\":\"lines\",\"name\":\"TMC\",\"orientation\":\"v\",\"showlegend\":true,\"x\":[\"2022-03-13T00:00:00\",\"2022-03-20T00:00:00\",\"2022-03-27T00:00:00\",\"2022-04-03T00:00:00\",\"2022-04-08T00:00:00\"],\"xaxis\":\"x\",\"y\":[21.0,9.166666666666666,4.5,17.966666666666665,7.683333333333334],\"yaxis\":\"y\",\"type\":\"scatter\"},{\"hovertemplate\":\"Cha\\u00eene=BFMTV<br>Temps en jours=%{x}<br>Temps de parole en minutes=%{y}<extra></extra>\",\"legendgroup\":\"BFMTV\",\"line\":{\"color\":\"#B6E880\",\"dash\":\"solid\"},\"marker\":{\"symbol\":\"circle\"},\"mode\":\"lines\",\"name\":\"BFMTV\",\"orientation\":\"v\",\"showlegend\":true,\"x\":[\"2022-03-13T00:00:00\",\"2022-03-20T00:00:00\",\"2022-03-27T00:00:00\",\"2022-04-03T00:00:00\",\"2022-04-08T00:00:00\"],\"xaxis\":\"x\",\"y\":[353.6166666666667,90.85000000000001,79.21666666666667,33.3,2.3],\"yaxis\":\"y\",\"type\":\"scatter\"},{\"hovertemplate\":\"Cha\\u00eene=Cnews<br>Temps en jours=%{x}<br>Temps de parole en minutes=%{y}<extra></extra>\",\"legendgroup\":\"Cnews\",\"line\":{\"color\":\"#FF97FF\",\"dash\":\"solid\"},\"marker\":{\"symbol\":\"circle\"},\"mode\":\"lines\",\"name\":\"Cnews\",\"orientation\":\"v\",\"showlegend\":true,\"x\":[\"2022-03-13T00:00:00\",\"2022-03-20T00:00:00\",\"2022-03-27T00:00:00\",\"2022-04-03T00:00:00\",\"2022-04-08T00:00:00\"],\"xaxis\":\"x\",\"y\":[861.05,417.8,188.1833333333333,80.16666666666666,61.26666666666667],\"yaxis\":\"y\",\"type\":\"scatter\"},{\"hovertemplate\":\"Cha\\u00eene=RMCDecouverte<br>Temps en jours=%{x}<br>Temps de parole en minutes=%{y}<extra></extra>\",\"legendgroup\":\"RMCDecouverte\",\"line\":{\"color\":\"#FECB52\",\"dash\":\"solid\"},\"marker\":{\"symbol\":\"circle\"},\"mode\":\"lines\",\"name\":\"RMCDecouverte\",\"orientation\":\"v\",\"showlegend\":true,\"x\":[\"2022-03-13T00:00:00\",\"2022-03-20T00:00:00\"],\"xaxis\":\"x\",\"y\":[0.0,0.0],\"yaxis\":\"y\",\"type\":\"scatter\"},{\"hovertemplate\":\"Cha\\u00eene=LCI<br>Temps en jours=%{x}<br>Temps de parole en minutes=%{y}<extra></extra>\",\"legendgroup\":\"LCI\",\"line\":{\"color\":\"#636efa\",\"dash\":\"solid\"},\"marker\":{\"symbol\":\"circle\"},\"mode\":\"lines\",\"name\":\"LCI\",\"orientation\":\"v\",\"showlegend\":true,\"x\":[\"2022-03-13T00:00:00\",\"2022-03-20T00:00:00\",\"2022-03-27T00:00:00\",\"2022-04-03T00:00:00\",\"2022-04-08T00:00:00\"],\"xaxis\":\"x\",\"y\":[427.2666666666667,43.050000000000004,4.35,211.33333333333334,98.16666666666667],\"yaxis\":\"y\",\"type\":\"scatter\"},{\"hovertemplate\":\"Cha\\u00eene=FranceinfoTV<br>Temps en jours=%{x}<br>Temps de parole en minutes=%{y}<extra></extra>\",\"legendgroup\":\"FranceinfoTV\",\"line\":{\"color\":\"#EF553B\",\"dash\":\"solid\"},\"marker\":{\"symbol\":\"circle\"},\"mode\":\"lines\",\"name\":\"FranceinfoTV\",\"orientation\":\"v\",\"showlegend\":true,\"x\":[\"2022-03-13T00:00:00\",\"2022-03-20T00:00:00\",\"2022-03-27T00:00:00\",\"2022-04-03T00:00:00\",\"2022-04-08T00:00:00\"],\"xaxis\":\"x\",\"y\":[345.51666666666665,94.16666666666667,37.43333333333334,185.26666666666665,118.28333333333332],\"yaxis\":\"y\",\"type\":\"scatter\"},{\"hovertemplate\":\"Cha\\u00eene=FranceInter<br>Temps en jours=%{x}<br>Temps de parole en minutes=%{y}<extra></extra>\",\"legendgroup\":\"FranceInter\",\"line\":{\"color\":\"#00cc96\",\"dash\":\"solid\"},\"marker\":{\"symbol\":\"circle\"},\"mode\":\"lines\",\"name\":\"FranceInter\",\"orientation\":\"v\",\"showlegend\":true,\"x\":[\"2022-03-13T00:00:00\",\"2022-03-20T00:00:00\",\"2022-03-27T00:00:00\",\"2022-04-03T00:00:00\",\"2022-04-08T00:00:00\"],\"xaxis\":\"x\",\"y\":[41.36666666666667,31.13333333333333,3.5,13.283333333333333,5.483333333333333],\"yaxis\":\"y\",\"type\":\"scatter\"},{\"hovertemplate\":\"Cha\\u00eene=FranceInfo<br>Temps en jours=%{x}<br>Temps de parole en minutes=%{y}<extra></extra>\",\"legendgroup\":\"FranceInfo\",\"line\":{\"color\":\"#ab63fa\",\"dash\":\"solid\"},\"marker\":{\"symbol\":\"circle\"},\"mode\":\"lines\",\"name\":\"FranceInfo\",\"orientation\":\"v\",\"showlegend\":true,\"x\":[\"2022-03-13T00:00:00\",\"2022-03-20T00:00:00\",\"2022-03-27T00:00:00\",\"2022-04-03T00:00:00\",\"2022-04-08T00:00:00\"],\"xaxis\":\"x\",\"y\":[143.45,78.3,16.166666666666668,76.31666666666666,15.333333333333332],\"yaxis\":\"y\",\"type\":\"scatter\"},{\"hovertemplate\":\"Cha\\u00eene=FranceCulture<br>Temps en jours=%{x}<br>Temps de parole en minutes=%{y}<extra></extra>\",\"legendgroup\":\"FranceCulture\",\"line\":{\"color\":\"#FFA15A\",\"dash\":\"solid\"},\"marker\":{\"symbol\":\"circle\"},\"mode\":\"lines\",\"name\":\"FranceCulture\",\"orientation\":\"v\",\"showlegend\":true,\"x\":[\"2022-03-13T00:00:00\",\"2022-03-20T00:00:00\",\"2022-03-27T00:00:00\",\"2022-04-03T00:00:00\",\"2022-04-08T00:00:00\"],\"xaxis\":\"x\",\"y\":[46.1,44.916666666666664,0.36666666666666664,10.5,0.5833333333333334],\"yaxis\":\"y\",\"type\":\"scatter\"},{\"hovertemplate\":\"Cha\\u00eene=RTL<br>Temps en jours=%{x}<br>Temps de parole en minutes=%{y}<extra></extra>\",\"legendgroup\":\"RTL\",\"line\":{\"color\":\"#19d3f3\",\"dash\":\"solid\"},\"marker\":{\"symbol\":\"circle\"},\"mode\":\"lines\",\"name\":\"RTL\",\"orientation\":\"v\",\"showlegend\":true,\"x\":[\"2022-03-13T00:00:00\",\"2022-03-20T00:00:00\",\"2022-03-27T00:00:00\",\"2022-04-03T00:00:00\",\"2022-04-08T00:00:00\"],\"xaxis\":\"x\",\"y\":[201.9333333333333,13.316666666666666,4.716666666666667,15.516666666666666,10.666666666666668],\"yaxis\":\"y\",\"type\":\"scatter\"},{\"hovertemplate\":\"Cha\\u00eene=Europe1<br>Temps en jours=%{x}<br>Temps de parole en minutes=%{y}<extra></extra>\",\"legendgroup\":\"Europe1\",\"line\":{\"color\":\"#FF6692\",\"dash\":\"solid\"},\"marker\":{\"symbol\":\"circle\"},\"mode\":\"lines\",\"name\":\"Europe1\",\"orientation\":\"v\",\"showlegend\":true,\"x\":[\"2022-03-13T00:00:00\",\"2022-03-20T00:00:00\",\"2022-03-27T00:00:00\",\"2022-04-03T00:00:00\",\"2022-04-08T00:00:00\"],\"xaxis\":\"x\",\"y\":[80.06666666666666,57.45,26.266666666666666,65.53333333333333,59.166666666666664],\"yaxis\":\"y\",\"type\":\"scatter\"},{\"hovertemplate\":\"Cha\\u00eene=RMC<br>Temps en jours=%{x}<br>Temps de parole en minutes=%{y}<extra></extra>\",\"legendgroup\":\"RMC\",\"line\":{\"color\":\"#B6E880\",\"dash\":\"solid\"},\"marker\":{\"symbol\":\"circle\"},\"mode\":\"lines\",\"name\":\"RMC\",\"orientation\":\"v\",\"showlegend\":true,\"x\":[\"2022-03-13T00:00:00\",\"2022-03-20T00:00:00\",\"2022-03-27T00:00:00\",\"2022-04-03T00:00:00\",\"2022-04-08T00:00:00\"],\"xaxis\":\"x\",\"y\":[194.68333333333334,182.36666666666667,102.15,17.0,11.55],\"yaxis\":\"y\",\"type\":\"scatter\"},{\"hovertemplate\":\"Cha\\u00eene=BFMBusiness<br>Temps en jours=%{x}<br>Temps de parole en minutes=%{y}<extra></extra>\",\"legendgroup\":\"BFMBusiness\",\"line\":{\"color\":\"#FF97FF\",\"dash\":\"solid\"},\"marker\":{\"symbol\":\"circle\"},\"mode\":\"lines\",\"name\":\"BFMBusiness\",\"orientation\":\"v\",\"showlegend\":true,\"x\":[\"2022-03-13T00:00:00\",\"2022-03-20T00:00:00\",\"2022-03-27T00:00:00\"],\"xaxis\":\"x\",\"y\":[33.81666666666666,0.85,0.4166666666666667],\"yaxis\":\"y\",\"type\":\"scatter\"},{\"hovertemplate\":\"Cha\\u00eene=RadioClassique<br>Temps en jours=%{x}<br>Temps de parole en minutes=%{y}<extra></extra>\",\"legendgroup\":\"RadioClassique\",\"line\":{\"color\":\"#FECB52\",\"dash\":\"solid\"},\"marker\":{\"symbol\":\"circle\"},\"mode\":\"lines\",\"name\":\"RadioClassique\",\"orientation\":\"v\",\"showlegend\":true,\"x\":[\"2022-03-13T00:00:00\",\"2022-03-20T00:00:00\",\"2022-03-27T00:00:00\",\"2022-04-03T00:00:00\",\"2022-04-08T00:00:00\"],\"xaxis\":\"x\",\"y\":[1.7,0.0,0.0,0.0,0.0],\"yaxis\":\"y\",\"type\":\"scatter\"},{\"hovertemplate\":\"Cha\\u00eene=SudRadio<br>Temps en jours=%{x}<br>Temps de parole en minutes=%{y}<extra></extra>\",\"legendgroup\":\"SudRadio\",\"line\":{\"color\":\"#636efa\",\"dash\":\"solid\"},\"marker\":{\"symbol\":\"circle\"},\"mode\":\"lines\",\"name\":\"SudRadio\",\"orientation\":\"v\",\"showlegend\":true,\"x\":[\"2022-03-13T00:00:00\",\"2022-03-20T00:00:00\",\"2022-03-27T00:00:00\",\"2022-04-03T00:00:00\",\"2022-04-08T00:00:00\"],\"xaxis\":\"x\",\"y\":[20.05,18.383333333333333,18.383333333333333,1.6666666666666667,0.7666666666666666],\"yaxis\":\"y\",\"type\":\"scatter\"},{\"hovertemplate\":\"Cha\\u00eene=TV5Monde<br>Temps en jours=%{x}<br>Temps de parole en minutes=%{y}<extra></extra>\",\"legendgroup\":\"TV5Monde\",\"line\":{\"color\":\"#EF553B\",\"dash\":\"solid\"},\"marker\":{\"symbol\":\"circle\"},\"mode\":\"lines\",\"name\":\"TV5Monde\",\"orientation\":\"v\",\"showlegend\":true,\"x\":[\"2022-03-13T00:00:00\",\"2022-03-20T00:00:00\",\"2022-03-27T00:00:00\",\"2022-04-03T00:00:00\",\"2022-04-08T00:00:00\"],\"xaxis\":\"x\",\"y\":[60.9,0.8,0.36666666666666664,30.383333333333333,23.216666666666665],\"yaxis\":\"y\",\"type\":\"scatter\"},{\"hovertemplate\":\"Cha\\u00eene=Euronews<br>Temps en jours=%{x}<br>Temps de parole en minutes=%{y}<extra></extra>\",\"legendgroup\":\"Euronews\",\"line\":{\"color\":\"#00cc96\",\"dash\":\"solid\"},\"marker\":{\"symbol\":\"circle\"},\"mode\":\"lines\",\"name\":\"Euronews\",\"orientation\":\"v\",\"showlegend\":true,\"x\":[\"2022-03-13T00:00:00\",\"2022-03-20T00:00:00\",\"2022-03-27T00:00:00\"],\"xaxis\":\"x\",\"y\":[0.0,0.0,0.0],\"yaxis\":\"y\",\"type\":\"scatter\"},{\"hovertemplate\":\"Cha\\u00eene=RFI<br>Temps en jours=%{x}<br>Temps de parole en minutes=%{y}<extra></extra>\",\"legendgroup\":\"RFI\",\"line\":{\"color\":\"#ab63fa\",\"dash\":\"solid\"},\"marker\":{\"symbol\":\"circle\"},\"mode\":\"lines\",\"name\":\"RFI\",\"orientation\":\"v\",\"showlegend\":true,\"x\":[\"2022-03-13T00:00:00\",\"2022-03-20T00:00:00\",\"2022-03-27T00:00:00\",\"2022-04-03T00:00:00\",\"2022-04-08T00:00:00\"],\"xaxis\":\"x\",\"y\":[60.6,25.45,1.2666666666666666,21.35,11.166666666666668],\"yaxis\":\"y\",\"type\":\"scatter\"},{\"hovertemplate\":\"Cha\\u00eene=France24<br>Temps en jours=%{x}<br>Temps de parole en minutes=%{y}<extra></extra>\",\"legendgroup\":\"France24\",\"line\":{\"color\":\"#FFA15A\",\"dash\":\"solid\"},\"marker\":{\"symbol\":\"circle\"},\"mode\":\"lines\",\"name\":\"France24\",\"orientation\":\"v\",\"showlegend\":true,\"x\":[\"2022-03-13T00:00:00\",\"2022-03-20T00:00:00\",\"2022-03-27T00:00:00\",\"2022-04-03T00:00:00\",\"2022-04-08T00:00:00\"],\"xaxis\":\"x\",\"y\":[38.36666666666667,23.900000000000002,2.4,20.233333333333334,9.566666666666666],\"yaxis\":\"y\",\"type\":\"scatter\"},{\"hovertemplate\":\"Cha\\u00eene=RMC Story<br>Temps en jours=%{x}<br>Temps de parole en minutes=%{y}<extra></extra>\",\"legendgroup\":\"RMC Story\",\"line\":{\"color\":\"#19d3f3\",\"dash\":\"solid\"},\"marker\":{\"symbol\":\"circle\"},\"mode\":\"lines\",\"name\":\"RMC Story\",\"orientation\":\"v\",\"showlegend\":true,\"x\":[\"2022-03-13T00:00:00\",\"2022-03-20T00:00:00\",\"2022-03-27T00:00:00\",\"2022-04-03T00:00:00\",\"2022-04-08T00:00:00\"],\"xaxis\":\"x\",\"y\":[123.83333333333333,117.2,64.43333333333334,7.566666666666666,7.566666666666666],\"yaxis\":\"y\",\"type\":\"scatter\"}],                        {\"template\":{\"data\":{\"histogram2dcontour\":[{\"type\":\"histogram2dcontour\",\"colorbar\":{\"outlinewidth\":0,\"ticks\":\"\"},\"colorscale\":[[0.0,\"#0d0887\"],[0.1111111111111111,\"#46039f\"],[0.2222222222222222,\"#7201a8\"],[0.3333333333333333,\"#9c179e\"],[0.4444444444444444,\"#bd3786\"],[0.5555555555555556,\"#d8576b\"],[0.6666666666666666,\"#ed7953\"],[0.7777777777777778,\"#fb9f3a\"],[0.8888888888888888,\"#fdca26\"],[1.0,\"#f0f921\"]]}],\"choropleth\":[{\"type\":\"choropleth\",\"colorbar\":{\"outlinewidth\":0,\"ticks\":\"\"}}],\"histogram2d\":[{\"type\":\"histogram2d\",\"colorbar\":{\"outlinewidth\":0,\"ticks\":\"\"},\"colorscale\":[[0.0,\"#0d0887\"],[0.1111111111111111,\"#46039f\"],[0.2222222222222222,\"#7201a8\"],[0.3333333333333333,\"#9c179e\"],[0.4444444444444444,\"#bd3786\"],[0.5555555555555556,\"#d8576b\"],[0.6666666666666666,\"#ed7953\"],[0.7777777777777778,\"#fb9f3a\"],[0.8888888888888888,\"#fdca26\"],[1.0,\"#f0f921\"]]}],\"heatmap\":[{\"type\":\"heatmap\",\"colorbar\":{\"outlinewidth\":0,\"ticks\":\"\"},\"colorscale\":[[0.0,\"#0d0887\"],[0.1111111111111111,\"#46039f\"],[0.2222222222222222,\"#7201a8\"],[0.3333333333333333,\"#9c179e\"],[0.4444444444444444,\"#bd3786\"],[0.5555555555555556,\"#d8576b\"],[0.6666666666666666,\"#ed7953\"],[0.7777777777777778,\"#fb9f3a\"],[0.8888888888888888,\"#fdca26\"],[1.0,\"#f0f921\"]]}],\"heatmapgl\":[{\"type\":\"heatmapgl\",\"colorbar\":{\"outlinewidth\":0,\"ticks\":\"\"},\"colorscale\":[[0.0,\"#0d0887\"],[0.1111111111111111,\"#46039f\"],[0.2222222222222222,\"#7201a8\"],[0.3333333333333333,\"#9c179e\"],[0.4444444444444444,\"#bd3786\"],[0.5555555555555556,\"#d8576b\"],[0.6666666666666666,\"#ed7953\"],[0.7777777777777778,\"#fb9f3a\"],[0.8888888888888888,\"#fdca26\"],[1.0,\"#f0f921\"]]}],\"contourcarpet\":[{\"type\":\"contourcarpet\",\"colorbar\":{\"outlinewidth\":0,\"ticks\":\"\"}}],\"contour\":[{\"type\":\"contour\",\"colorbar\":{\"outlinewidth\":0,\"ticks\":\"\"},\"colorscale\":[[0.0,\"#0d0887\"],[0.1111111111111111,\"#46039f\"],[0.2222222222222222,\"#7201a8\"],[0.3333333333333333,\"#9c179e\"],[0.4444444444444444,\"#bd3786\"],[0.5555555555555556,\"#d8576b\"],[0.6666666666666666,\"#ed7953\"],[0.7777777777777778,\"#fb9f3a\"],[0.8888888888888888,\"#fdca26\"],[1.0,\"#f0f921\"]]}],\"surface\":[{\"type\":\"surface\",\"colorbar\":{\"outlinewidth\":0,\"ticks\":\"\"},\"colorscale\":[[0.0,\"#0d0887\"],[0.1111111111111111,\"#46039f\"],[0.2222222222222222,\"#7201a8\"],[0.3333333333333333,\"#9c179e\"],[0.4444444444444444,\"#bd3786\"],[0.5555555555555556,\"#d8576b\"],[0.6666666666666666,\"#ed7953\"],[0.7777777777777778,\"#fb9f3a\"],[0.8888888888888888,\"#fdca26\"],[1.0,\"#f0f921\"]]}],\"mesh3d\":[{\"type\":\"mesh3d\",\"colorbar\":{\"outlinewidth\":0,\"ticks\":\"\"}}],\"scatter\":[{\"marker\":{\"line\":{\"color\":\"#283442\"}},\"type\":\"scatter\"}],\"parcoords\":[{\"type\":\"parcoords\",\"line\":{\"colorbar\":{\"outlinewidth\":0,\"ticks\":\"\"}}}],\"scatterpolargl\":[{\"type\":\"scatterpolargl\",\"marker\":{\"colorbar\":{\"outlinewidth\":0,\"ticks\":\"\"}}}],\"bar\":[{\"error_x\":{\"color\":\"#f2f5fa\"},\"error_y\":{\"color\":\"#f2f5fa\"},\"marker\":{\"line\":{\"color\":\"rgb(17,17,17)\",\"width\":0.5},\"pattern\":{\"fillmode\":\"overlay\",\"size\":10,\"solidity\":0.2}},\"type\":\"bar\"}],\"scattergeo\":[{\"type\":\"scattergeo\",\"marker\":{\"colorbar\":{\"outlinewidth\":0,\"ticks\":\"\"}}}],\"scatterpolar\":[{\"type\":\"scatterpolar\",\"marker\":{\"colorbar\":{\"outlinewidth\":0,\"ticks\":\"\"}}}],\"histogram\":[{\"marker\":{\"pattern\":{\"fillmode\":\"overlay\",\"size\":10,\"solidity\":0.2}},\"type\":\"histogram\"}],\"scattergl\":[{\"marker\":{\"line\":{\"color\":\"#283442\"}},\"type\":\"scattergl\"}],\"scatter3d\":[{\"type\":\"scatter3d\",\"line\":{\"colorbar\":{\"outlinewidth\":0,\"ticks\":\"\"}},\"marker\":{\"colorbar\":{\"outlinewidth\":0,\"ticks\":\"\"}}}],\"scattermapbox\":[{\"type\":\"scattermapbox\",\"marker\":{\"colorbar\":{\"outlinewidth\":0,\"ticks\":\"\"}}}],\"scatterternary\":[{\"type\":\"scatterternary\",\"marker\":{\"colorbar\":{\"outlinewidth\":0,\"ticks\":\"\"}}}],\"scattercarpet\":[{\"type\":\"scattercarpet\",\"marker\":{\"colorbar\":{\"outlinewidth\":0,\"ticks\":\"\"}}}],\"carpet\":[{\"aaxis\":{\"endlinecolor\":\"#A2B1C6\",\"gridcolor\":\"#506784\",\"linecolor\":\"#506784\",\"minorgridcolor\":\"#506784\",\"startlinecolor\":\"#A2B1C6\"},\"baxis\":{\"endlinecolor\":\"#A2B1C6\",\"gridcolor\":\"#506784\",\"linecolor\":\"#506784\",\"minorgridcolor\":\"#506784\",\"startlinecolor\":\"#A2B1C6\"},\"type\":\"carpet\"}],\"table\":[{\"cells\":{\"fill\":{\"color\":\"#506784\"},\"line\":{\"color\":\"rgb(17,17,17)\"}},\"header\":{\"fill\":{\"color\":\"#2a3f5f\"},\"line\":{\"color\":\"rgb(17,17,17)\"}},\"type\":\"table\"}],\"barpolar\":[{\"marker\":{\"line\":{\"color\":\"rgb(17,17,17)\",\"width\":0.5},\"pattern\":{\"fillmode\":\"overlay\",\"size\":10,\"solidity\":0.2}},\"type\":\"barpolar\"}],\"pie\":[{\"automargin\":true,\"type\":\"pie\"}]},\"layout\":{\"autotypenumbers\":\"strict\",\"colorway\":[\"#636efa\",\"#EF553B\",\"#00cc96\",\"#ab63fa\",\"#FFA15A\",\"#19d3f3\",\"#FF6692\",\"#B6E880\",\"#FF97FF\",\"#FECB52\"],\"font\":{\"color\":\"#f2f5fa\"},\"hovermode\":\"closest\",\"hoverlabel\":{\"align\":\"left\"},\"paper_bgcolor\":\"rgb(17,17,17)\",\"plot_bgcolor\":\"rgb(17,17,17)\",\"polar\":{\"bgcolor\":\"rgb(17,17,17)\",\"angularaxis\":{\"gridcolor\":\"#506784\",\"linecolor\":\"#506784\",\"ticks\":\"\"},\"radialaxis\":{\"gridcolor\":\"#506784\",\"linecolor\":\"#506784\",\"ticks\":\"\"}},\"ternary\":{\"bgcolor\":\"rgb(17,17,17)\",\"aaxis\":{\"gridcolor\":\"#506784\",\"linecolor\":\"#506784\",\"ticks\":\"\"},\"baxis\":{\"gridcolor\":\"#506784\",\"linecolor\":\"#506784\",\"ticks\":\"\"},\"caxis\":{\"gridcolor\":\"#506784\",\"linecolor\":\"#506784\",\"ticks\":\"\"}},\"coloraxis\":{\"colorbar\":{\"outlinewidth\":0,\"ticks\":\"\"}},\"colorscale\":{\"sequential\":[[0.0,\"#0d0887\"],[0.1111111111111111,\"#46039f\"],[0.2222222222222222,\"#7201a8\"],[0.3333333333333333,\"#9c179e\"],[0.4444444444444444,\"#bd3786\"],[0.5555555555555556,\"#d8576b\"],[0.6666666666666666,\"#ed7953\"],[0.7777777777777778,\"#fb9f3a\"],[0.8888888888888888,\"#fdca26\"],[1.0,\"#f0f921\"]],\"sequentialminus\":[[0.0,\"#0d0887\"],[0.1111111111111111,\"#46039f\"],[0.2222222222222222,\"#7201a8\"],[0.3333333333333333,\"#9c179e\"],[0.4444444444444444,\"#bd3786\"],[0.5555555555555556,\"#d8576b\"],[0.6666666666666666,\"#ed7953\"],[0.7777777777777778,\"#fb9f3a\"],[0.8888888888888888,\"#fdca26\"],[1.0,\"#f0f921\"]],\"diverging\":[[0,\"#8e0152\"],[0.1,\"#c51b7d\"],[0.2,\"#de77ae\"],[0.3,\"#f1b6da\"],[0.4,\"#fde0ef\"],[0.5,\"#f7f7f7\"],[0.6,\"#e6f5d0\"],[0.7,\"#b8e186\"],[0.8,\"#7fbc41\"],[0.9,\"#4d9221\"],[1,\"#276419\"]]},\"xaxis\":{\"gridcolor\":\"#283442\",\"linecolor\":\"#506784\",\"ticks\":\"\",\"title\":{\"standoff\":15},\"zerolinecolor\":\"#283442\",\"automargin\":true,\"zerolinewidth\":2},\"yaxis\":{\"gridcolor\":\"#283442\",\"linecolor\":\"#506784\",\"ticks\":\"\",\"title\":{\"standoff\":15},\"zerolinecolor\":\"#283442\",\"automargin\":true,\"zerolinewidth\":2},\"scene\":{\"xaxis\":{\"backgroundcolor\":\"rgb(17,17,17)\",\"gridcolor\":\"#506784\",\"linecolor\":\"#506784\",\"showbackground\":true,\"ticks\":\"\",\"zerolinecolor\":\"#C8D4E3\",\"gridwidth\":2},\"yaxis\":{\"backgroundcolor\":\"rgb(17,17,17)\",\"gridcolor\":\"#506784\",\"linecolor\":\"#506784\",\"showbackground\":true,\"ticks\":\"\",\"zerolinecolor\":\"#C8D4E3\",\"gridwidth\":2},\"zaxis\":{\"backgroundcolor\":\"rgb(17,17,17)\",\"gridcolor\":\"#506784\",\"linecolor\":\"#506784\",\"showbackground\":true,\"ticks\":\"\",\"zerolinecolor\":\"#C8D4E3\",\"gridwidth\":2}},\"shapedefaults\":{\"line\":{\"color\":\"#f2f5fa\"}},\"annotationdefaults\":{\"arrowcolor\":\"#f2f5fa\",\"arrowhead\":0,\"arrowwidth\":1},\"geo\":{\"bgcolor\":\"rgb(17,17,17)\",\"landcolor\":\"rgb(17,17,17)\",\"subunitcolor\":\"#506784\",\"showland\":true,\"showlakes\":true,\"lakecolor\":\"rgb(17,17,17)\"},\"title\":{\"x\":0.05},\"updatemenudefaults\":{\"bgcolor\":\"#506784\",\"borderwidth\":0},\"sliderdefaults\":{\"bgcolor\":\"#C8D4E3\",\"borderwidth\":1,\"bordercolor\":\"rgb(17,17,17)\",\"tickwidth\":0},\"mapbox\":{\"style\":\"dark\"}}},\"xaxis\":{\"anchor\":\"y\",\"domain\":[0.0,1.0],\"title\":{\"text\":\"Temps en jours\"}},\"yaxis\":{\"anchor\":\"x\",\"domain\":[0.0,1.0],\"title\":{\"text\":\"Temps de parole en minutes\"}},\"legend\":{\"title\":{\"text\":\"Cha\\u00eene\"},\"tracegroupgap\":0},\"title\":{\"text\":\"Lepen : \\u00c9volution du temps de parole en fonction du temps\"}},                        {\"responsive\": true}                    ).then(function(){\n                            \nvar gd = document.getElementById('0b0dd9bd-b481-42a1-a427-279d16f9153b');\nvar x = new MutationObserver(function (mutations, observer) {{\n        var display = window.getComputedStyle(gd).display;\n        if (!display || display === 'none') {{\n            console.log([gd, 'removed!']);\n            Plotly.purge(gd);\n            observer.disconnect();\n        }}\n}});\n\n// Listen for the removal of the full notebook cells\nvar notebookContainer = gd.closest('#notebook-container');\nif (notebookContainer) {{\n    x.observe(notebookContainer, {childList: true});\n}}\n\n// Listen for the clearing of the current output cell\nvar outputEl = gd.closest('.output');\nif (outputEl) {{\n    x.observe(outputEl, {childList: true});\n}}\n\n                        })                };                });            </script>        </div>"
     },
     "metadata": {},
     "output_type": "display_data"
    }
   ],
   "source": [
    "px.line(df_lepen, x='Période', y=\"Somme\", color='Chaîne', labels={\n",
    "    \"Période\": \"Temps en jours\",\n",
    "    \"Somme\": \"Temps de parole en minutes\",\n",
    "    \"Chaîne\": \"Chaîne\"\n",
    "}, title=\"Lepen : Évolution du temps de parole en fonction du temps\")\n"
   ],
   "metadata": {
    "collapsed": false,
    "pycharm": {
     "name": "#%%\n"
    }
   }
  },
  {
   "cell_type": "code",
   "execution_count": 28,
   "outputs": [
    {
     "data": {
      "application/vnd.plotly.v1+json": {
       "data": [
        {
         "hovertemplate": "Chaîne=TF1<br>Temps en jours=%{x}<br>Temps de parole en minutes=%{y}<extra></extra>",
         "legendgroup": "TF1",
         "line": {
          "color": "#636efa",
          "dash": "solid"
         },
         "marker": {
          "symbol": "circle"
         },
         "mode": "lines",
         "name": "TF1",
         "orientation": "v",
         "showlegend": true,
         "x": [
          "2022-03-13T00:00:00",
          "2022-03-20T00:00:00",
          "2022-03-27T00:00:00",
          "2022-04-03T00:00:00",
          "2022-04-08T00:00:00"
         ],
         "xaxis": "x",
         "y": [
          1.6166666666666667,
          39.166666666666664,
          62.4,
          10.700000000000001,
          0.6833333333333333
         ],
         "yaxis": "y",
         "type": "scatter"
        },
        {
         "hovertemplate": "Chaîne=France2<br>Temps en jours=%{x}<br>Temps de parole en minutes=%{y}<extra></extra>",
         "legendgroup": "France2",
         "line": {
          "color": "#EF553B",
          "dash": "solid"
         },
         "marker": {
          "symbol": "circle"
         },
         "mode": "lines",
         "name": "France2",
         "orientation": "v",
         "showlegend": true,
         "x": [
          "2022-03-13T00:00:00",
          "2022-03-20T00:00:00",
          "2022-03-27T00:00:00",
          "2022-04-03T00:00:00",
          "2022-04-08T00:00:00"
         ],
         "xaxis": "x",
         "y": [
          0.6833333333333333,
          31.716666666666665,
          73.36666666666667,
          32.766666666666666,
          1.7166666666666666
         ],
         "yaxis": "y",
         "type": "scatter"
        },
        {
         "hovertemplate": "Chaîne=France3<br>Temps en jours=%{x}<br>Temps de parole en minutes=%{y}<extra></extra>",
         "legendgroup": "France3",
         "line": {
          "color": "#00cc96",
          "dash": "solid"
         },
         "marker": {
          "symbol": "circle"
         },
         "mode": "lines",
         "name": "France3",
         "orientation": "v",
         "showlegend": true,
         "x": [
          "2022-03-13T00:00:00",
          "2022-03-20T00:00:00",
          "2022-03-27T00:00:00",
          "2022-04-03T00:00:00",
          "2022-04-08T00:00:00"
         ],
         "xaxis": "x",
         "y": [
          0.9,
          1.3,
          32.08333333333333,
          2.3833333333333333,
          1.2166666666666668
         ],
         "yaxis": "y",
         "type": "scatter"
        },
        {
         "hovertemplate": "Chaîne=France5<br>Temps en jours=%{x}<br>Temps de parole en minutes=%{y}<extra></extra>",
         "legendgroup": "France5",
         "line": {
          "color": "#ab63fa",
          "dash": "solid"
         },
         "marker": {
          "symbol": "circle"
         },
         "mode": "lines",
         "name": "France5",
         "orientation": "v",
         "showlegend": true,
         "x": [
          "2022-03-13T00:00:00",
          "2022-03-20T00:00:00",
          "2022-03-27T00:00:00",
          "2022-04-03T00:00:00",
          "2022-04-08T00:00:00"
         ],
         "xaxis": "x",
         "y": [
          5.666666666666667,
          53.63333333333333,
          86.76666666666667,
          11.783333333333333,
          8.416666666666666
         ],
         "yaxis": "y",
         "type": "scatter"
        },
        {
         "hovertemplate": "Chaîne=M6<br>Temps en jours=%{x}<br>Temps de parole en minutes=%{y}<extra></extra>",
         "legendgroup": "M6",
         "line": {
          "color": "#FFA15A",
          "dash": "solid"
         },
         "marker": {
          "symbol": "circle"
         },
         "mode": "lines",
         "name": "M6",
         "orientation": "v",
         "showlegend": true,
         "x": [
          "2022-03-13T00:00:00",
          "2022-03-20T00:00:00",
          "2022-03-27T00:00:00",
          "2022-04-03T00:00:00",
          "2022-04-08T00:00:00"
         ],
         "xaxis": "x",
         "y": [
          2.6166666666666667,
          4.933333333333334,
          28.416666666666668,
          2.7333333333333334,
          1.9000000000000001
         ],
         "yaxis": "y",
         "type": "scatter"
        },
        {
         "hovertemplate": "Chaîne=C8<br>Temps en jours=%{x}<br>Temps de parole en minutes=%{y}<extra></extra>",
         "legendgroup": "C8",
         "line": {
          "color": "#19d3f3",
          "dash": "solid"
         },
         "marker": {
          "symbol": "circle"
         },
         "mode": "lines",
         "name": "C8",
         "orientation": "v",
         "showlegend": true,
         "x": [
          "2022-03-13T00:00:00",
          "2022-03-20T00:00:00",
          "2022-03-27T00:00:00",
          "2022-04-03T00:00:00",
          "2022-04-08T00:00:00"
         ],
         "xaxis": "x",
         "y": [
          18.366666666666667,
          56.56666666666667,
          222.93333333333334,
          10.933333333333334,
          9.783333333333333
         ],
         "yaxis": "y",
         "type": "scatter"
        },
        {
         "hovertemplate": "Chaîne=TMC<br>Temps en jours=%{x}<br>Temps de parole en minutes=%{y}<extra></extra>",
         "legendgroup": "TMC",
         "line": {
          "color": "#FF6692",
          "dash": "solid"
         },
         "marker": {
          "symbol": "circle"
         },
         "mode": "lines",
         "name": "TMC",
         "orientation": "v",
         "showlegend": true,
         "x": [
          "2022-03-13T00:00:00",
          "2022-03-20T00:00:00",
          "2022-03-27T00:00:00",
          "2022-04-03T00:00:00",
          "2022-04-08T00:00:00"
         ],
         "xaxis": "x",
         "y": [
          4.733333333333333,
          13.983333333333333,
          30.5,
          18.3,
          11.216666666666667
         ],
         "yaxis": "y",
         "type": "scatter"
        },
        {
         "hovertemplate": "Chaîne=BFMTV<br>Temps en jours=%{x}<br>Temps de parole en minutes=%{y}<extra></extra>",
         "legendgroup": "BFMTV",
         "line": {
          "color": "#B6E880",
          "dash": "solid"
         },
         "marker": {
          "symbol": "circle"
         },
         "mode": "lines",
         "name": "BFMTV",
         "orientation": "v",
         "showlegend": true,
         "x": [
          "2022-03-13T00:00:00",
          "2022-03-20T00:00:00",
          "2022-03-27T00:00:00",
          "2022-04-03T00:00:00",
          "2022-04-08T00:00:00"
         ],
         "xaxis": "x",
         "y": [
          27.866666666666667,
          463.3833333333334,
          571.1,
          32.93333333333334,
          13.75
         ],
         "yaxis": "y",
         "type": "scatter"
        },
        {
         "hovertemplate": "Chaîne=Cnews<br>Temps en jours=%{x}<br>Temps de parole en minutes=%{y}<extra></extra>",
         "legendgroup": "Cnews",
         "line": {
          "color": "#FF97FF",
          "dash": "solid"
         },
         "marker": {
          "symbol": "circle"
         },
         "mode": "lines",
         "name": "Cnews",
         "orientation": "v",
         "showlegend": true,
         "x": [
          "2022-03-13T00:00:00",
          "2022-03-20T00:00:00",
          "2022-03-27T00:00:00",
          "2022-04-03T00:00:00",
          "2022-04-08T00:00:00"
         ],
         "xaxis": "x",
         "y": [
          235.98333333333335,
          702.4333333333334,
          927.65,
          79.15,
          63.01666666666666
         ],
         "yaxis": "y",
         "type": "scatter"
        },
        {
         "hovertemplate": "Chaîne=RMCDecouverte<br>Temps en jours=%{x}<br>Temps de parole en minutes=%{y}<extra></extra>",
         "legendgroup": "RMCDecouverte",
         "line": {
          "color": "#FECB52",
          "dash": "solid"
         },
         "marker": {
          "symbol": "circle"
         },
         "mode": "lines",
         "name": "RMCDecouverte",
         "orientation": "v",
         "showlegend": true,
         "x": [
          "2022-03-13T00:00:00",
          "2022-03-20T00:00:00",
          "2022-03-27T00:00:00"
         ],
         "xaxis": "x",
         "y": [
          0.0,
          0.0,
          0.0
         ],
         "yaxis": "y",
         "type": "scatter"
        },
        {
         "hovertemplate": "Chaîne=LCI<br>Temps en jours=%{x}<br>Temps de parole en minutes=%{y}<extra></extra>",
         "legendgroup": "LCI",
         "line": {
          "color": "#636efa",
          "dash": "solid"
         },
         "marker": {
          "symbol": "circle"
         },
         "mode": "lines",
         "name": "LCI",
         "orientation": "v",
         "showlegend": true,
         "x": [
          "2022-03-13T00:00:00",
          "2022-03-20T00:00:00",
          "2022-03-27T00:00:00",
          "2022-04-03T00:00:00",
          "2022-04-08T00:00:00"
         ],
         "xaxis": "x",
         "y": [
          55.949999999999996,
          499.8,
          510.78333333333336,
          211.65,
          181.98333333333332
         ],
         "yaxis": "y",
         "type": "scatter"
        },
        {
         "hovertemplate": "Chaîne=FranceinfoTV<br>Temps en jours=%{x}<br>Temps de parole en minutes=%{y}<extra></extra>",
         "legendgroup": "FranceinfoTV",
         "line": {
          "color": "#EF553B",
          "dash": "solid"
         },
         "marker": {
          "symbol": "circle"
         },
         "mode": "lines",
         "name": "FranceinfoTV",
         "orientation": "v",
         "showlegend": true,
         "x": [
          "2022-03-13T00:00:00",
          "2022-03-20T00:00:00",
          "2022-03-27T00:00:00",
          "2022-04-03T00:00:00",
          "2022-04-08T00:00:00"
         ],
         "xaxis": "x",
         "y": [
          64.58333333333333,
          383.3166666666667,
          473.15000000000003,
          184.28333333333333,
          139.25
         ],
         "yaxis": "y",
         "type": "scatter"
        },
        {
         "hovertemplate": "Chaîne=FranceInter<br>Temps en jours=%{x}<br>Temps de parole en minutes=%{y}<extra></extra>",
         "legendgroup": "FranceInter",
         "line": {
          "color": "#00cc96",
          "dash": "solid"
         },
         "marker": {
          "symbol": "circle"
         },
         "mode": "lines",
         "name": "FranceInter",
         "orientation": "v",
         "showlegend": true,
         "x": [
          "2022-03-13T00:00:00",
          "2022-03-20T00:00:00",
          "2022-03-27T00:00:00",
          "2022-04-03T00:00:00",
          "2022-04-08T00:00:00"
         ],
         "xaxis": "x",
         "y": [
          17.383333333333333,
          27.033333333333335,
          69.41666666666666,
          14.450000000000001,
          10.383333333333333
         ],
         "yaxis": "y",
         "type": "scatter"
        },
        {
         "hovertemplate": "Chaîne=FranceInfo<br>Temps en jours=%{x}<br>Temps de parole en minutes=%{y}<extra></extra>",
         "legendgroup": "FranceInfo",
         "line": {
          "color": "#ab63fa",
          "dash": "solid"
         },
         "marker": {
          "symbol": "circle"
         },
         "mode": "lines",
         "name": "FranceInfo",
         "orientation": "v",
         "showlegend": true,
         "x": [
          "2022-03-13T00:00:00",
          "2022-03-20T00:00:00",
          "2022-03-27T00:00:00",
          "2022-04-03T00:00:00",
          "2022-04-08T00:00:00"
         ],
         "xaxis": "x",
         "y": [
          37.46666666666667,
          99.18333333333334,
          179.7,
          81.06666666666666,
          48.51666666666666
         ],
         "yaxis": "y",
         "type": "scatter"
        },
        {
         "hovertemplate": "Chaîne=FranceCulture<br>Temps en jours=%{x}<br>Temps de parole en minutes=%{y}<extra></extra>",
         "legendgroup": "FranceCulture",
         "line": {
          "color": "#FFA15A",
          "dash": "solid"
         },
         "marker": {
          "symbol": "circle"
         },
         "mode": "lines",
         "name": "FranceCulture",
         "orientation": "v",
         "showlegend": true,
         "x": [
          "2022-03-13T00:00:00",
          "2022-03-20T00:00:00",
          "2022-03-27T00:00:00",
          "2022-04-03T00:00:00",
          "2022-04-08T00:00:00"
         ],
         "xaxis": "x",
         "y": [
          32.75,
          45.9,
          47.46666666666666,
          10.266666666666666,
          10.149999999999999
         ],
         "yaxis": "y",
         "type": "scatter"
        },
        {
         "hovertemplate": "Chaîne=RTL<br>Temps en jours=%{x}<br>Temps de parole en minutes=%{y}<extra></extra>",
         "legendgroup": "RTL",
         "line": {
          "color": "#19d3f3",
          "dash": "solid"
         },
         "marker": {
          "symbol": "circle"
         },
         "mode": "lines",
         "name": "RTL",
         "orientation": "v",
         "showlegend": true,
         "x": [
          "2022-03-13T00:00:00",
          "2022-03-20T00:00:00",
          "2022-03-27T00:00:00",
          "2022-04-03T00:00:00",
          "2022-04-08T00:00:00"
         ],
         "xaxis": "x",
         "y": [
          9.166666666666666,
          90.51666666666667,
          249.76666666666665,
          15.45,
          9.85
         ],
         "yaxis": "y",
         "type": "scatter"
        },
        {
         "hovertemplate": "Chaîne=Europe1<br>Temps en jours=%{x}<br>Temps de parole en minutes=%{y}<extra></extra>",
         "legendgroup": "Europe1",
         "line": {
          "color": "#FF6692",
          "dash": "solid"
         },
         "marker": {
          "symbol": "circle"
         },
         "mode": "lines",
         "name": "Europe1",
         "orientation": "v",
         "showlegend": true,
         "x": [
          "2022-03-13T00:00:00",
          "2022-03-20T00:00:00",
          "2022-03-27T00:00:00",
          "2022-04-03T00:00:00",
          "2022-04-08T00:00:00"
         ],
         "xaxis": "x",
         "y": [
          39.63333333333333,
          133.85,
          242.8,
          58.3,
          34.766666666666666
         ],
         "yaxis": "y",
         "type": "scatter"
        },
        {
         "hovertemplate": "Chaîne=RMC<br>Temps en jours=%{x}<br>Temps de parole en minutes=%{y}<extra></extra>",
         "legendgroup": "RMC",
         "line": {
          "color": "#B6E880",
          "dash": "solid"
         },
         "marker": {
          "symbol": "circle"
         },
         "mode": "lines",
         "name": "RMC",
         "orientation": "v",
         "showlegend": true,
         "x": [
          "2022-03-13T00:00:00",
          "2022-03-20T00:00:00",
          "2022-03-27T00:00:00",
          "2022-04-03T00:00:00",
          "2022-04-08T00:00:00"
         ],
         "xaxis": "x",
         "y": [
          19.4,
          120.55,
          260.1166666666667,
          17.8,
          8.166666666666666
         ],
         "yaxis": "y",
         "type": "scatter"
        },
        {
         "hovertemplate": "Chaîne=BFMBusiness<br>Temps en jours=%{x}<br>Temps de parole en minutes=%{y}<extra></extra>",
         "legendgroup": "BFMBusiness",
         "line": {
          "color": "#FF97FF",
          "dash": "solid"
         },
         "marker": {
          "symbol": "circle"
         },
         "mode": "lines",
         "name": "BFMBusiness",
         "orientation": "v",
         "showlegend": true,
         "x": [
          "2022-03-13T00:00:00",
          "2022-03-20T00:00:00",
          "2022-03-27T00:00:00"
         ],
         "xaxis": "x",
         "y": [
          21.883333333333333,
          43.2,
          69.4
         ],
         "yaxis": "y",
         "type": "scatter"
        },
        {
         "hovertemplate": "Chaîne=RadioClassique<br>Temps en jours=%{x}<br>Temps de parole en minutes=%{y}<extra></extra>",
         "legendgroup": "RadioClassique",
         "line": {
          "color": "#FECB52",
          "dash": "solid"
         },
         "marker": {
          "symbol": "circle"
         },
         "mode": "lines",
         "name": "RadioClassique",
         "orientation": "v",
         "showlegend": true,
         "x": [
          "2022-03-13T00:00:00",
          "2022-03-20T00:00:00",
          "2022-03-27T00:00:00",
          "2022-04-03T00:00:00",
          "2022-04-08T00:00:00"
         ],
         "xaxis": "x",
         "y": [
          0.0,
          0.0,
          0.0,
          0.0,
          0.0
         ],
         "yaxis": "y",
         "type": "scatter"
        },
        {
         "hovertemplate": "Chaîne=SudRadio<br>Temps en jours=%{x}<br>Temps de parole en minutes=%{y}<extra></extra>",
         "legendgroup": "SudRadio",
         "line": {
          "color": "#636efa",
          "dash": "solid"
         },
         "marker": {
          "symbol": "circle"
         },
         "mode": "lines",
         "name": "SudRadio",
         "orientation": "v",
         "showlegend": true,
         "x": [
          "2022-03-13T00:00:00",
          "2022-03-20T00:00:00",
          "2022-03-27T00:00:00",
          "2022-04-03T00:00:00",
          "2022-04-08T00:00:00"
         ],
         "xaxis": "x",
         "y": [
          4.0,
          20.433333333333334,
          50.5,
          1.6666666666666667,
          0.7666666666666666
         ],
         "yaxis": "y",
         "type": "scatter"
        },
        {
         "hovertemplate": "Chaîne=TV5Monde<br>Temps en jours=%{x}<br>Temps de parole en minutes=%{y}<extra></extra>",
         "legendgroup": "TV5Monde",
         "line": {
          "color": "#EF553B",
          "dash": "solid"
         },
         "marker": {
          "symbol": "circle"
         },
         "mode": "lines",
         "name": "TV5Monde",
         "orientation": "v",
         "showlegend": true,
         "x": [
          "2022-03-13T00:00:00",
          "2022-03-20T00:00:00",
          "2022-03-27T00:00:00",
          "2022-04-03T00:00:00",
          "2022-04-08T00:00:00"
         ],
         "xaxis": "x",
         "y": [
          0.65,
          25.066666666666666,
          64.76666666666667,
          32.11666666666667,
          1.0666666666666667
         ],
         "yaxis": "y",
         "type": "scatter"
        },
        {
         "hovertemplate": "Chaîne=Euronews<br>Temps en jours=%{x}<br>Temps de parole en minutes=%{y}<extra></extra>",
         "legendgroup": "Euronews",
         "line": {
          "color": "#00cc96",
          "dash": "solid"
         },
         "marker": {
          "symbol": "circle"
         },
         "mode": "lines",
         "name": "Euronews",
         "orientation": "v",
         "showlegend": true,
         "x": [
          "2022-03-13T00:00:00",
          "2022-03-20T00:00:00",
          "2022-03-27T00:00:00"
         ],
         "xaxis": "x",
         "y": [
          0.0,
          0.0,
          0.0
         ],
         "yaxis": "y",
         "type": "scatter"
        },
        {
         "hovertemplate": "Chaîne=RFI<br>Temps en jours=%{x}<br>Temps de parole en minutes=%{y}<extra></extra>",
         "legendgroup": "RFI",
         "line": {
          "color": "#ab63fa",
          "dash": "solid"
         },
         "marker": {
          "symbol": "circle"
         },
         "mode": "lines",
         "name": "RFI",
         "orientation": "v",
         "showlegend": true,
         "x": [
          "2022-03-13T00:00:00",
          "2022-03-20T00:00:00",
          "2022-03-27T00:00:00",
          "2022-04-03T00:00:00",
          "2022-04-08T00:00:00"
         ],
         "xaxis": "x",
         "y": [
          0.7333333333333333,
          14.216666666666667,
          44.51666666666667,
          21.666666666666664,
          10.399999999999999
         ],
         "yaxis": "y",
         "type": "scatter"
        },
        {
         "hovertemplate": "Chaîne=France24<br>Temps en jours=%{x}<br>Temps de parole en minutes=%{y}<extra></extra>",
         "legendgroup": "France24",
         "line": {
          "color": "#FFA15A",
          "dash": "solid"
         },
         "marker": {
          "symbol": "circle"
         },
         "mode": "lines",
         "name": "France24",
         "orientation": "v",
         "showlegend": true,
         "x": [
          "2022-03-13T00:00:00",
          "2022-03-20T00:00:00",
          "2022-03-27T00:00:00",
          "2022-04-03T00:00:00",
          "2022-04-08T00:00:00"
         ],
         "xaxis": "x",
         "y": [
          13.916666666666666,
          31.55,
          50.05,
          20.316666666666666,
          13.066666666666666
         ],
         "yaxis": "y",
         "type": "scatter"
        },
        {
         "hovertemplate": "Chaîne=RMC Story<br>Temps en jours=%{x}<br>Temps de parole en minutes=%{y}<extra></extra>",
         "legendgroup": "RMC Story",
         "line": {
          "color": "#19d3f3",
          "dash": "solid"
         },
         "marker": {
          "symbol": "circle"
         },
         "mode": "lines",
         "name": "RMC Story",
         "orientation": "v",
         "showlegend": true,
         "x": [
          "2022-03-13T00:00:00",
          "2022-03-20T00:00:00",
          "2022-03-27T00:00:00",
          "2022-04-03T00:00:00",
          "2022-04-08T00:00:00"
         ],
         "xaxis": "x",
         "y": [
          2.7333333333333334,
          65.53333333333333,
          153.2,
          7.766666666666667,
          2.933333333333333
         ],
         "yaxis": "y",
         "type": "scatter"
        }
       ],
       "layout": {
        "template": {
         "data": {
          "histogram2dcontour": [
           {
            "type": "histogram2dcontour",
            "colorbar": {
             "outlinewidth": 0,
             "ticks": ""
            },
            "colorscale": [
             [
              0.0,
              "#0d0887"
             ],
             [
              0.1111111111111111,
              "#46039f"
             ],
             [
              0.2222222222222222,
              "#7201a8"
             ],
             [
              0.3333333333333333,
              "#9c179e"
             ],
             [
              0.4444444444444444,
              "#bd3786"
             ],
             [
              0.5555555555555556,
              "#d8576b"
             ],
             [
              0.6666666666666666,
              "#ed7953"
             ],
             [
              0.7777777777777778,
              "#fb9f3a"
             ],
             [
              0.8888888888888888,
              "#fdca26"
             ],
             [
              1.0,
              "#f0f921"
             ]
            ]
           }
          ],
          "choropleth": [
           {
            "type": "choropleth",
            "colorbar": {
             "outlinewidth": 0,
             "ticks": ""
            }
           }
          ],
          "histogram2d": [
           {
            "type": "histogram2d",
            "colorbar": {
             "outlinewidth": 0,
             "ticks": ""
            },
            "colorscale": [
             [
              0.0,
              "#0d0887"
             ],
             [
              0.1111111111111111,
              "#46039f"
             ],
             [
              0.2222222222222222,
              "#7201a8"
             ],
             [
              0.3333333333333333,
              "#9c179e"
             ],
             [
              0.4444444444444444,
              "#bd3786"
             ],
             [
              0.5555555555555556,
              "#d8576b"
             ],
             [
              0.6666666666666666,
              "#ed7953"
             ],
             [
              0.7777777777777778,
              "#fb9f3a"
             ],
             [
              0.8888888888888888,
              "#fdca26"
             ],
             [
              1.0,
              "#f0f921"
             ]
            ]
           }
          ],
          "heatmap": [
           {
            "type": "heatmap",
            "colorbar": {
             "outlinewidth": 0,
             "ticks": ""
            },
            "colorscale": [
             [
              0.0,
              "#0d0887"
             ],
             [
              0.1111111111111111,
              "#46039f"
             ],
             [
              0.2222222222222222,
              "#7201a8"
             ],
             [
              0.3333333333333333,
              "#9c179e"
             ],
             [
              0.4444444444444444,
              "#bd3786"
             ],
             [
              0.5555555555555556,
              "#d8576b"
             ],
             [
              0.6666666666666666,
              "#ed7953"
             ],
             [
              0.7777777777777778,
              "#fb9f3a"
             ],
             [
              0.8888888888888888,
              "#fdca26"
             ],
             [
              1.0,
              "#f0f921"
             ]
            ]
           }
          ],
          "heatmapgl": [
           {
            "type": "heatmapgl",
            "colorbar": {
             "outlinewidth": 0,
             "ticks": ""
            },
            "colorscale": [
             [
              0.0,
              "#0d0887"
             ],
             [
              0.1111111111111111,
              "#46039f"
             ],
             [
              0.2222222222222222,
              "#7201a8"
             ],
             [
              0.3333333333333333,
              "#9c179e"
             ],
             [
              0.4444444444444444,
              "#bd3786"
             ],
             [
              0.5555555555555556,
              "#d8576b"
             ],
             [
              0.6666666666666666,
              "#ed7953"
             ],
             [
              0.7777777777777778,
              "#fb9f3a"
             ],
             [
              0.8888888888888888,
              "#fdca26"
             ],
             [
              1.0,
              "#f0f921"
             ]
            ]
           }
          ],
          "contourcarpet": [
           {
            "type": "contourcarpet",
            "colorbar": {
             "outlinewidth": 0,
             "ticks": ""
            }
           }
          ],
          "contour": [
           {
            "type": "contour",
            "colorbar": {
             "outlinewidth": 0,
             "ticks": ""
            },
            "colorscale": [
             [
              0.0,
              "#0d0887"
             ],
             [
              0.1111111111111111,
              "#46039f"
             ],
             [
              0.2222222222222222,
              "#7201a8"
             ],
             [
              0.3333333333333333,
              "#9c179e"
             ],
             [
              0.4444444444444444,
              "#bd3786"
             ],
             [
              0.5555555555555556,
              "#d8576b"
             ],
             [
              0.6666666666666666,
              "#ed7953"
             ],
             [
              0.7777777777777778,
              "#fb9f3a"
             ],
             [
              0.8888888888888888,
              "#fdca26"
             ],
             [
              1.0,
              "#f0f921"
             ]
            ]
           }
          ],
          "surface": [
           {
            "type": "surface",
            "colorbar": {
             "outlinewidth": 0,
             "ticks": ""
            },
            "colorscale": [
             [
              0.0,
              "#0d0887"
             ],
             [
              0.1111111111111111,
              "#46039f"
             ],
             [
              0.2222222222222222,
              "#7201a8"
             ],
             [
              0.3333333333333333,
              "#9c179e"
             ],
             [
              0.4444444444444444,
              "#bd3786"
             ],
             [
              0.5555555555555556,
              "#d8576b"
             ],
             [
              0.6666666666666666,
              "#ed7953"
             ],
             [
              0.7777777777777778,
              "#fb9f3a"
             ],
             [
              0.8888888888888888,
              "#fdca26"
             ],
             [
              1.0,
              "#f0f921"
             ]
            ]
           }
          ],
          "mesh3d": [
           {
            "type": "mesh3d",
            "colorbar": {
             "outlinewidth": 0,
             "ticks": ""
            }
           }
          ],
          "scatter": [
           {
            "marker": {
             "line": {
              "color": "#283442"
             }
            },
            "type": "scatter"
           }
          ],
          "parcoords": [
           {
            "type": "parcoords",
            "line": {
             "colorbar": {
              "outlinewidth": 0,
              "ticks": ""
             }
            }
           }
          ],
          "scatterpolargl": [
           {
            "type": "scatterpolargl",
            "marker": {
             "colorbar": {
              "outlinewidth": 0,
              "ticks": ""
             }
            }
           }
          ],
          "bar": [
           {
            "error_x": {
             "color": "#f2f5fa"
            },
            "error_y": {
             "color": "#f2f5fa"
            },
            "marker": {
             "line": {
              "color": "rgb(17,17,17)",
              "width": 0.5
             },
             "pattern": {
              "fillmode": "overlay",
              "size": 10,
              "solidity": 0.2
             }
            },
            "type": "bar"
           }
          ],
          "scattergeo": [
           {
            "type": "scattergeo",
            "marker": {
             "colorbar": {
              "outlinewidth": 0,
              "ticks": ""
             }
            }
           }
          ],
          "scatterpolar": [
           {
            "type": "scatterpolar",
            "marker": {
             "colorbar": {
              "outlinewidth": 0,
              "ticks": ""
             }
            }
           }
          ],
          "histogram": [
           {
            "marker": {
             "pattern": {
              "fillmode": "overlay",
              "size": 10,
              "solidity": 0.2
             }
            },
            "type": "histogram"
           }
          ],
          "scattergl": [
           {
            "marker": {
             "line": {
              "color": "#283442"
             }
            },
            "type": "scattergl"
           }
          ],
          "scatter3d": [
           {
            "type": "scatter3d",
            "line": {
             "colorbar": {
              "outlinewidth": 0,
              "ticks": ""
             }
            },
            "marker": {
             "colorbar": {
              "outlinewidth": 0,
              "ticks": ""
             }
            }
           }
          ],
          "scattermapbox": [
           {
            "type": "scattermapbox",
            "marker": {
             "colorbar": {
              "outlinewidth": 0,
              "ticks": ""
             }
            }
           }
          ],
          "scatterternary": [
           {
            "type": "scatterternary",
            "marker": {
             "colorbar": {
              "outlinewidth": 0,
              "ticks": ""
             }
            }
           }
          ],
          "scattercarpet": [
           {
            "type": "scattercarpet",
            "marker": {
             "colorbar": {
              "outlinewidth": 0,
              "ticks": ""
             }
            }
           }
          ],
          "carpet": [
           {
            "aaxis": {
             "endlinecolor": "#A2B1C6",
             "gridcolor": "#506784",
             "linecolor": "#506784",
             "minorgridcolor": "#506784",
             "startlinecolor": "#A2B1C6"
            },
            "baxis": {
             "endlinecolor": "#A2B1C6",
             "gridcolor": "#506784",
             "linecolor": "#506784",
             "minorgridcolor": "#506784",
             "startlinecolor": "#A2B1C6"
            },
            "type": "carpet"
           }
          ],
          "table": [
           {
            "cells": {
             "fill": {
              "color": "#506784"
             },
             "line": {
              "color": "rgb(17,17,17)"
             }
            },
            "header": {
             "fill": {
              "color": "#2a3f5f"
             },
             "line": {
              "color": "rgb(17,17,17)"
             }
            },
            "type": "table"
           }
          ],
          "barpolar": [
           {
            "marker": {
             "line": {
              "color": "rgb(17,17,17)",
              "width": 0.5
             },
             "pattern": {
              "fillmode": "overlay",
              "size": 10,
              "solidity": 0.2
             }
            },
            "type": "barpolar"
           }
          ],
          "pie": [
           {
            "automargin": true,
            "type": "pie"
           }
          ]
         },
         "layout": {
          "autotypenumbers": "strict",
          "colorway": [
           "#636efa",
           "#EF553B",
           "#00cc96",
           "#ab63fa",
           "#FFA15A",
           "#19d3f3",
           "#FF6692",
           "#B6E880",
           "#FF97FF",
           "#FECB52"
          ],
          "font": {
           "color": "#f2f5fa"
          },
          "hovermode": "closest",
          "hoverlabel": {
           "align": "left"
          },
          "paper_bgcolor": "rgb(17,17,17)",
          "plot_bgcolor": "rgb(17,17,17)",
          "polar": {
           "bgcolor": "rgb(17,17,17)",
           "angularaxis": {
            "gridcolor": "#506784",
            "linecolor": "#506784",
            "ticks": ""
           },
           "radialaxis": {
            "gridcolor": "#506784",
            "linecolor": "#506784",
            "ticks": ""
           }
          },
          "ternary": {
           "bgcolor": "rgb(17,17,17)",
           "aaxis": {
            "gridcolor": "#506784",
            "linecolor": "#506784",
            "ticks": ""
           },
           "baxis": {
            "gridcolor": "#506784",
            "linecolor": "#506784",
            "ticks": ""
           },
           "caxis": {
            "gridcolor": "#506784",
            "linecolor": "#506784",
            "ticks": ""
           }
          },
          "coloraxis": {
           "colorbar": {
            "outlinewidth": 0,
            "ticks": ""
           }
          },
          "colorscale": {
           "sequential": [
            [
             0.0,
             "#0d0887"
            ],
            [
             0.1111111111111111,
             "#46039f"
            ],
            [
             0.2222222222222222,
             "#7201a8"
            ],
            [
             0.3333333333333333,
             "#9c179e"
            ],
            [
             0.4444444444444444,
             "#bd3786"
            ],
            [
             0.5555555555555556,
             "#d8576b"
            ],
            [
             0.6666666666666666,
             "#ed7953"
            ],
            [
             0.7777777777777778,
             "#fb9f3a"
            ],
            [
             0.8888888888888888,
             "#fdca26"
            ],
            [
             1.0,
             "#f0f921"
            ]
           ],
           "sequentialminus": [
            [
             0.0,
             "#0d0887"
            ],
            [
             0.1111111111111111,
             "#46039f"
            ],
            [
             0.2222222222222222,
             "#7201a8"
            ],
            [
             0.3333333333333333,
             "#9c179e"
            ],
            [
             0.4444444444444444,
             "#bd3786"
            ],
            [
             0.5555555555555556,
             "#d8576b"
            ],
            [
             0.6666666666666666,
             "#ed7953"
            ],
            [
             0.7777777777777778,
             "#fb9f3a"
            ],
            [
             0.8888888888888888,
             "#fdca26"
            ],
            [
             1.0,
             "#f0f921"
            ]
           ],
           "diverging": [
            [
             0,
             "#8e0152"
            ],
            [
             0.1,
             "#c51b7d"
            ],
            [
             0.2,
             "#de77ae"
            ],
            [
             0.3,
             "#f1b6da"
            ],
            [
             0.4,
             "#fde0ef"
            ],
            [
             0.5,
             "#f7f7f7"
            ],
            [
             0.6,
             "#e6f5d0"
            ],
            [
             0.7,
             "#b8e186"
            ],
            [
             0.8,
             "#7fbc41"
            ],
            [
             0.9,
             "#4d9221"
            ],
            [
             1,
             "#276419"
            ]
           ]
          },
          "xaxis": {
           "gridcolor": "#283442",
           "linecolor": "#506784",
           "ticks": "",
           "title": {
            "standoff": 15
           },
           "zerolinecolor": "#283442",
           "automargin": true,
           "zerolinewidth": 2
          },
          "yaxis": {
           "gridcolor": "#283442",
           "linecolor": "#506784",
           "ticks": "",
           "title": {
            "standoff": 15
           },
           "zerolinecolor": "#283442",
           "automargin": true,
           "zerolinewidth": 2
          },
          "scene": {
           "xaxis": {
            "backgroundcolor": "rgb(17,17,17)",
            "gridcolor": "#506784",
            "linecolor": "#506784",
            "showbackground": true,
            "ticks": "",
            "zerolinecolor": "#C8D4E3",
            "gridwidth": 2
           },
           "yaxis": {
            "backgroundcolor": "rgb(17,17,17)",
            "gridcolor": "#506784",
            "linecolor": "#506784",
            "showbackground": true,
            "ticks": "",
            "zerolinecolor": "#C8D4E3",
            "gridwidth": 2
           },
           "zaxis": {
            "backgroundcolor": "rgb(17,17,17)",
            "gridcolor": "#506784",
            "linecolor": "#506784",
            "showbackground": true,
            "ticks": "",
            "zerolinecolor": "#C8D4E3",
            "gridwidth": 2
           }
          },
          "shapedefaults": {
           "line": {
            "color": "#f2f5fa"
           }
          },
          "annotationdefaults": {
           "arrowcolor": "#f2f5fa",
           "arrowhead": 0,
           "arrowwidth": 1
          },
          "geo": {
           "bgcolor": "rgb(17,17,17)",
           "landcolor": "rgb(17,17,17)",
           "subunitcolor": "#506784",
           "showland": true,
           "showlakes": true,
           "lakecolor": "rgb(17,17,17)"
          },
          "title": {
           "x": 0.05
          },
          "updatemenudefaults": {
           "bgcolor": "#506784",
           "borderwidth": 0
          },
          "sliderdefaults": {
           "bgcolor": "#C8D4E3",
           "borderwidth": 1,
           "bordercolor": "rgb(17,17,17)",
           "tickwidth": 0
          },
          "mapbox": {
           "style": "dark"
          }
         }
        },
        "xaxis": {
         "anchor": "y",
         "domain": [
          0.0,
          1.0
         ],
         "title": {
          "text": "Temps en jours"
         }
        },
        "yaxis": {
         "anchor": "x",
         "domain": [
          0.0,
          1.0
         ],
         "title": {
          "text": "Temps de parole en minutes"
         }
        },
        "legend": {
         "title": {
          "text": "Chaîne"
         },
         "tracegroupgap": 0
        },
        "title": {
         "text": "Macron : Évolution du temps de parole en fonction du temps"
        }
       },
       "config": {
        "plotlyServerURL": "https://plot.ly"
       }
      },
      "text/html": "<div>                            <div id=\"30c15bc3-554b-4f00-99bd-5e64aee7c762\" class=\"plotly-graph-div\" style=\"height:525px; width:100%;\"></div>            <script type=\"text/javascript\">                require([\"plotly\"], function(Plotly) {                    window.PLOTLYENV=window.PLOTLYENV || {};                                    if (document.getElementById(\"30c15bc3-554b-4f00-99bd-5e64aee7c762\")) {                    Plotly.newPlot(                        \"30c15bc3-554b-4f00-99bd-5e64aee7c762\",                        [{\"hovertemplate\":\"Cha\\u00eene=TF1<br>Temps en jours=%{x}<br>Temps de parole en minutes=%{y}<extra></extra>\",\"legendgroup\":\"TF1\",\"line\":{\"color\":\"#636efa\",\"dash\":\"solid\"},\"marker\":{\"symbol\":\"circle\"},\"mode\":\"lines\",\"name\":\"TF1\",\"orientation\":\"v\",\"showlegend\":true,\"x\":[\"2022-03-13T00:00:00\",\"2022-03-20T00:00:00\",\"2022-03-27T00:00:00\",\"2022-04-03T00:00:00\",\"2022-04-08T00:00:00\"],\"xaxis\":\"x\",\"y\":[1.6166666666666667,39.166666666666664,62.4,10.700000000000001,0.6833333333333333],\"yaxis\":\"y\",\"type\":\"scatter\"},{\"hovertemplate\":\"Cha\\u00eene=France2<br>Temps en jours=%{x}<br>Temps de parole en minutes=%{y}<extra></extra>\",\"legendgroup\":\"France2\",\"line\":{\"color\":\"#EF553B\",\"dash\":\"solid\"},\"marker\":{\"symbol\":\"circle\"},\"mode\":\"lines\",\"name\":\"France2\",\"orientation\":\"v\",\"showlegend\":true,\"x\":[\"2022-03-13T00:00:00\",\"2022-03-20T00:00:00\",\"2022-03-27T00:00:00\",\"2022-04-03T00:00:00\",\"2022-04-08T00:00:00\"],\"xaxis\":\"x\",\"y\":[0.6833333333333333,31.716666666666665,73.36666666666667,32.766666666666666,1.7166666666666666],\"yaxis\":\"y\",\"type\":\"scatter\"},{\"hovertemplate\":\"Cha\\u00eene=France3<br>Temps en jours=%{x}<br>Temps de parole en minutes=%{y}<extra></extra>\",\"legendgroup\":\"France3\",\"line\":{\"color\":\"#00cc96\",\"dash\":\"solid\"},\"marker\":{\"symbol\":\"circle\"},\"mode\":\"lines\",\"name\":\"France3\",\"orientation\":\"v\",\"showlegend\":true,\"x\":[\"2022-03-13T00:00:00\",\"2022-03-20T00:00:00\",\"2022-03-27T00:00:00\",\"2022-04-03T00:00:00\",\"2022-04-08T00:00:00\"],\"xaxis\":\"x\",\"y\":[0.9,1.3,32.08333333333333,2.3833333333333333,1.2166666666666668],\"yaxis\":\"y\",\"type\":\"scatter\"},{\"hovertemplate\":\"Cha\\u00eene=France5<br>Temps en jours=%{x}<br>Temps de parole en minutes=%{y}<extra></extra>\",\"legendgroup\":\"France5\",\"line\":{\"color\":\"#ab63fa\",\"dash\":\"solid\"},\"marker\":{\"symbol\":\"circle\"},\"mode\":\"lines\",\"name\":\"France5\",\"orientation\":\"v\",\"showlegend\":true,\"x\":[\"2022-03-13T00:00:00\",\"2022-03-20T00:00:00\",\"2022-03-27T00:00:00\",\"2022-04-03T00:00:00\",\"2022-04-08T00:00:00\"],\"xaxis\":\"x\",\"y\":[5.666666666666667,53.63333333333333,86.76666666666667,11.783333333333333,8.416666666666666],\"yaxis\":\"y\",\"type\":\"scatter\"},{\"hovertemplate\":\"Cha\\u00eene=M6<br>Temps en jours=%{x}<br>Temps de parole en minutes=%{y}<extra></extra>\",\"legendgroup\":\"M6\",\"line\":{\"color\":\"#FFA15A\",\"dash\":\"solid\"},\"marker\":{\"symbol\":\"circle\"},\"mode\":\"lines\",\"name\":\"M6\",\"orientation\":\"v\",\"showlegend\":true,\"x\":[\"2022-03-13T00:00:00\",\"2022-03-20T00:00:00\",\"2022-03-27T00:00:00\",\"2022-04-03T00:00:00\",\"2022-04-08T00:00:00\"],\"xaxis\":\"x\",\"y\":[2.6166666666666667,4.933333333333334,28.416666666666668,2.7333333333333334,1.9000000000000001],\"yaxis\":\"y\",\"type\":\"scatter\"},{\"hovertemplate\":\"Cha\\u00eene=C8<br>Temps en jours=%{x}<br>Temps de parole en minutes=%{y}<extra></extra>\",\"legendgroup\":\"C8\",\"line\":{\"color\":\"#19d3f3\",\"dash\":\"solid\"},\"marker\":{\"symbol\":\"circle\"},\"mode\":\"lines\",\"name\":\"C8\",\"orientation\":\"v\",\"showlegend\":true,\"x\":[\"2022-03-13T00:00:00\",\"2022-03-20T00:00:00\",\"2022-03-27T00:00:00\",\"2022-04-03T00:00:00\",\"2022-04-08T00:00:00\"],\"xaxis\":\"x\",\"y\":[18.366666666666667,56.56666666666667,222.93333333333334,10.933333333333334,9.783333333333333],\"yaxis\":\"y\",\"type\":\"scatter\"},{\"hovertemplate\":\"Cha\\u00eene=TMC<br>Temps en jours=%{x}<br>Temps de parole en minutes=%{y}<extra></extra>\",\"legendgroup\":\"TMC\",\"line\":{\"color\":\"#FF6692\",\"dash\":\"solid\"},\"marker\":{\"symbol\":\"circle\"},\"mode\":\"lines\",\"name\":\"TMC\",\"orientation\":\"v\",\"showlegend\":true,\"x\":[\"2022-03-13T00:00:00\",\"2022-03-20T00:00:00\",\"2022-03-27T00:00:00\",\"2022-04-03T00:00:00\",\"2022-04-08T00:00:00\"],\"xaxis\":\"x\",\"y\":[4.733333333333333,13.983333333333333,30.5,18.3,11.216666666666667],\"yaxis\":\"y\",\"type\":\"scatter\"},{\"hovertemplate\":\"Cha\\u00eene=BFMTV<br>Temps en jours=%{x}<br>Temps de parole en minutes=%{y}<extra></extra>\",\"legendgroup\":\"BFMTV\",\"line\":{\"color\":\"#B6E880\",\"dash\":\"solid\"},\"marker\":{\"symbol\":\"circle\"},\"mode\":\"lines\",\"name\":\"BFMTV\",\"orientation\":\"v\",\"showlegend\":true,\"x\":[\"2022-03-13T00:00:00\",\"2022-03-20T00:00:00\",\"2022-03-27T00:00:00\",\"2022-04-03T00:00:00\",\"2022-04-08T00:00:00\"],\"xaxis\":\"x\",\"y\":[27.866666666666667,463.3833333333334,571.1,32.93333333333334,13.75],\"yaxis\":\"y\",\"type\":\"scatter\"},{\"hovertemplate\":\"Cha\\u00eene=Cnews<br>Temps en jours=%{x}<br>Temps de parole en minutes=%{y}<extra></extra>\",\"legendgroup\":\"Cnews\",\"line\":{\"color\":\"#FF97FF\",\"dash\":\"solid\"},\"marker\":{\"symbol\":\"circle\"},\"mode\":\"lines\",\"name\":\"Cnews\",\"orientation\":\"v\",\"showlegend\":true,\"x\":[\"2022-03-13T00:00:00\",\"2022-03-20T00:00:00\",\"2022-03-27T00:00:00\",\"2022-04-03T00:00:00\",\"2022-04-08T00:00:00\"],\"xaxis\":\"x\",\"y\":[235.98333333333335,702.4333333333334,927.65,79.15,63.01666666666666],\"yaxis\":\"y\",\"type\":\"scatter\"},{\"hovertemplate\":\"Cha\\u00eene=RMCDecouverte<br>Temps en jours=%{x}<br>Temps de parole en minutes=%{y}<extra></extra>\",\"legendgroup\":\"RMCDecouverte\",\"line\":{\"color\":\"#FECB52\",\"dash\":\"solid\"},\"marker\":{\"symbol\":\"circle\"},\"mode\":\"lines\",\"name\":\"RMCDecouverte\",\"orientation\":\"v\",\"showlegend\":true,\"x\":[\"2022-03-13T00:00:00\",\"2022-03-20T00:00:00\",\"2022-03-27T00:00:00\"],\"xaxis\":\"x\",\"y\":[0.0,0.0,0.0],\"yaxis\":\"y\",\"type\":\"scatter\"},{\"hovertemplate\":\"Cha\\u00eene=LCI<br>Temps en jours=%{x}<br>Temps de parole en minutes=%{y}<extra></extra>\",\"legendgroup\":\"LCI\",\"line\":{\"color\":\"#636efa\",\"dash\":\"solid\"},\"marker\":{\"symbol\":\"circle\"},\"mode\":\"lines\",\"name\":\"LCI\",\"orientation\":\"v\",\"showlegend\":true,\"x\":[\"2022-03-13T00:00:00\",\"2022-03-20T00:00:00\",\"2022-03-27T00:00:00\",\"2022-04-03T00:00:00\",\"2022-04-08T00:00:00\"],\"xaxis\":\"x\",\"y\":[55.949999999999996,499.8,510.78333333333336,211.65,181.98333333333332],\"yaxis\":\"y\",\"type\":\"scatter\"},{\"hovertemplate\":\"Cha\\u00eene=FranceinfoTV<br>Temps en jours=%{x}<br>Temps de parole en minutes=%{y}<extra></extra>\",\"legendgroup\":\"FranceinfoTV\",\"line\":{\"color\":\"#EF553B\",\"dash\":\"solid\"},\"marker\":{\"symbol\":\"circle\"},\"mode\":\"lines\",\"name\":\"FranceinfoTV\",\"orientation\":\"v\",\"showlegend\":true,\"x\":[\"2022-03-13T00:00:00\",\"2022-03-20T00:00:00\",\"2022-03-27T00:00:00\",\"2022-04-03T00:00:00\",\"2022-04-08T00:00:00\"],\"xaxis\":\"x\",\"y\":[64.58333333333333,383.3166666666667,473.15000000000003,184.28333333333333,139.25],\"yaxis\":\"y\",\"type\":\"scatter\"},{\"hovertemplate\":\"Cha\\u00eene=FranceInter<br>Temps en jours=%{x}<br>Temps de parole en minutes=%{y}<extra></extra>\",\"legendgroup\":\"FranceInter\",\"line\":{\"color\":\"#00cc96\",\"dash\":\"solid\"},\"marker\":{\"symbol\":\"circle\"},\"mode\":\"lines\",\"name\":\"FranceInter\",\"orientation\":\"v\",\"showlegend\":true,\"x\":[\"2022-03-13T00:00:00\",\"2022-03-20T00:00:00\",\"2022-03-27T00:00:00\",\"2022-04-03T00:00:00\",\"2022-04-08T00:00:00\"],\"xaxis\":\"x\",\"y\":[17.383333333333333,27.033333333333335,69.41666666666666,14.450000000000001,10.383333333333333],\"yaxis\":\"y\",\"type\":\"scatter\"},{\"hovertemplate\":\"Cha\\u00eene=FranceInfo<br>Temps en jours=%{x}<br>Temps de parole en minutes=%{y}<extra></extra>\",\"legendgroup\":\"FranceInfo\",\"line\":{\"color\":\"#ab63fa\",\"dash\":\"solid\"},\"marker\":{\"symbol\":\"circle\"},\"mode\":\"lines\",\"name\":\"FranceInfo\",\"orientation\":\"v\",\"showlegend\":true,\"x\":[\"2022-03-13T00:00:00\",\"2022-03-20T00:00:00\",\"2022-03-27T00:00:00\",\"2022-04-03T00:00:00\",\"2022-04-08T00:00:00\"],\"xaxis\":\"x\",\"y\":[37.46666666666667,99.18333333333334,179.7,81.06666666666666,48.51666666666666],\"yaxis\":\"y\",\"type\":\"scatter\"},{\"hovertemplate\":\"Cha\\u00eene=FranceCulture<br>Temps en jours=%{x}<br>Temps de parole en minutes=%{y}<extra></extra>\",\"legendgroup\":\"FranceCulture\",\"line\":{\"color\":\"#FFA15A\",\"dash\":\"solid\"},\"marker\":{\"symbol\":\"circle\"},\"mode\":\"lines\",\"name\":\"FranceCulture\",\"orientation\":\"v\",\"showlegend\":true,\"x\":[\"2022-03-13T00:00:00\",\"2022-03-20T00:00:00\",\"2022-03-27T00:00:00\",\"2022-04-03T00:00:00\",\"2022-04-08T00:00:00\"],\"xaxis\":\"x\",\"y\":[32.75,45.9,47.46666666666666,10.266666666666666,10.149999999999999],\"yaxis\":\"y\",\"type\":\"scatter\"},{\"hovertemplate\":\"Cha\\u00eene=RTL<br>Temps en jours=%{x}<br>Temps de parole en minutes=%{y}<extra></extra>\",\"legendgroup\":\"RTL\",\"line\":{\"color\":\"#19d3f3\",\"dash\":\"solid\"},\"marker\":{\"symbol\":\"circle\"},\"mode\":\"lines\",\"name\":\"RTL\",\"orientation\":\"v\",\"showlegend\":true,\"x\":[\"2022-03-13T00:00:00\",\"2022-03-20T00:00:00\",\"2022-03-27T00:00:00\",\"2022-04-03T00:00:00\",\"2022-04-08T00:00:00\"],\"xaxis\":\"x\",\"y\":[9.166666666666666,90.51666666666667,249.76666666666665,15.45,9.85],\"yaxis\":\"y\",\"type\":\"scatter\"},{\"hovertemplate\":\"Cha\\u00eene=Europe1<br>Temps en jours=%{x}<br>Temps de parole en minutes=%{y}<extra></extra>\",\"legendgroup\":\"Europe1\",\"line\":{\"color\":\"#FF6692\",\"dash\":\"solid\"},\"marker\":{\"symbol\":\"circle\"},\"mode\":\"lines\",\"name\":\"Europe1\",\"orientation\":\"v\",\"showlegend\":true,\"x\":[\"2022-03-13T00:00:00\",\"2022-03-20T00:00:00\",\"2022-03-27T00:00:00\",\"2022-04-03T00:00:00\",\"2022-04-08T00:00:00\"],\"xaxis\":\"x\",\"y\":[39.63333333333333,133.85,242.8,58.3,34.766666666666666],\"yaxis\":\"y\",\"type\":\"scatter\"},{\"hovertemplate\":\"Cha\\u00eene=RMC<br>Temps en jours=%{x}<br>Temps de parole en minutes=%{y}<extra></extra>\",\"legendgroup\":\"RMC\",\"line\":{\"color\":\"#B6E880\",\"dash\":\"solid\"},\"marker\":{\"symbol\":\"circle\"},\"mode\":\"lines\",\"name\":\"RMC\",\"orientation\":\"v\",\"showlegend\":true,\"x\":[\"2022-03-13T00:00:00\",\"2022-03-20T00:00:00\",\"2022-03-27T00:00:00\",\"2022-04-03T00:00:00\",\"2022-04-08T00:00:00\"],\"xaxis\":\"x\",\"y\":[19.4,120.55,260.1166666666667,17.8,8.166666666666666],\"yaxis\":\"y\",\"type\":\"scatter\"},{\"hovertemplate\":\"Cha\\u00eene=BFMBusiness<br>Temps en jours=%{x}<br>Temps de parole en minutes=%{y}<extra></extra>\",\"legendgroup\":\"BFMBusiness\",\"line\":{\"color\":\"#FF97FF\",\"dash\":\"solid\"},\"marker\":{\"symbol\":\"circle\"},\"mode\":\"lines\",\"name\":\"BFMBusiness\",\"orientation\":\"v\",\"showlegend\":true,\"x\":[\"2022-03-13T00:00:00\",\"2022-03-20T00:00:00\",\"2022-03-27T00:00:00\"],\"xaxis\":\"x\",\"y\":[21.883333333333333,43.2,69.4],\"yaxis\":\"y\",\"type\":\"scatter\"},{\"hovertemplate\":\"Cha\\u00eene=RadioClassique<br>Temps en jours=%{x}<br>Temps de parole en minutes=%{y}<extra></extra>\",\"legendgroup\":\"RadioClassique\",\"line\":{\"color\":\"#FECB52\",\"dash\":\"solid\"},\"marker\":{\"symbol\":\"circle\"},\"mode\":\"lines\",\"name\":\"RadioClassique\",\"orientation\":\"v\",\"showlegend\":true,\"x\":[\"2022-03-13T00:00:00\",\"2022-03-20T00:00:00\",\"2022-03-27T00:00:00\",\"2022-04-03T00:00:00\",\"2022-04-08T00:00:00\"],\"xaxis\":\"x\",\"y\":[0.0,0.0,0.0,0.0,0.0],\"yaxis\":\"y\",\"type\":\"scatter\"},{\"hovertemplate\":\"Cha\\u00eene=SudRadio<br>Temps en jours=%{x}<br>Temps de parole en minutes=%{y}<extra></extra>\",\"legendgroup\":\"SudRadio\",\"line\":{\"color\":\"#636efa\",\"dash\":\"solid\"},\"marker\":{\"symbol\":\"circle\"},\"mode\":\"lines\",\"name\":\"SudRadio\",\"orientation\":\"v\",\"showlegend\":true,\"x\":[\"2022-03-13T00:00:00\",\"2022-03-20T00:00:00\",\"2022-03-27T00:00:00\",\"2022-04-03T00:00:00\",\"2022-04-08T00:00:00\"],\"xaxis\":\"x\",\"y\":[4.0,20.433333333333334,50.5,1.6666666666666667,0.7666666666666666],\"yaxis\":\"y\",\"type\":\"scatter\"},{\"hovertemplate\":\"Cha\\u00eene=TV5Monde<br>Temps en jours=%{x}<br>Temps de parole en minutes=%{y}<extra></extra>\",\"legendgroup\":\"TV5Monde\",\"line\":{\"color\":\"#EF553B\",\"dash\":\"solid\"},\"marker\":{\"symbol\":\"circle\"},\"mode\":\"lines\",\"name\":\"TV5Monde\",\"orientation\":\"v\",\"showlegend\":true,\"x\":[\"2022-03-13T00:00:00\",\"2022-03-20T00:00:00\",\"2022-03-27T00:00:00\",\"2022-04-03T00:00:00\",\"2022-04-08T00:00:00\"],\"xaxis\":\"x\",\"y\":[0.65,25.066666666666666,64.76666666666667,32.11666666666667,1.0666666666666667],\"yaxis\":\"y\",\"type\":\"scatter\"},{\"hovertemplate\":\"Cha\\u00eene=Euronews<br>Temps en jours=%{x}<br>Temps de parole en minutes=%{y}<extra></extra>\",\"legendgroup\":\"Euronews\",\"line\":{\"color\":\"#00cc96\",\"dash\":\"solid\"},\"marker\":{\"symbol\":\"circle\"},\"mode\":\"lines\",\"name\":\"Euronews\",\"orientation\":\"v\",\"showlegend\":true,\"x\":[\"2022-03-13T00:00:00\",\"2022-03-20T00:00:00\",\"2022-03-27T00:00:00\"],\"xaxis\":\"x\",\"y\":[0.0,0.0,0.0],\"yaxis\":\"y\",\"type\":\"scatter\"},{\"hovertemplate\":\"Cha\\u00eene=RFI<br>Temps en jours=%{x}<br>Temps de parole en minutes=%{y}<extra></extra>\",\"legendgroup\":\"RFI\",\"line\":{\"color\":\"#ab63fa\",\"dash\":\"solid\"},\"marker\":{\"symbol\":\"circle\"},\"mode\":\"lines\",\"name\":\"RFI\",\"orientation\":\"v\",\"showlegend\":true,\"x\":[\"2022-03-13T00:00:00\",\"2022-03-20T00:00:00\",\"2022-03-27T00:00:00\",\"2022-04-03T00:00:00\",\"2022-04-08T00:00:00\"],\"xaxis\":\"x\",\"y\":[0.7333333333333333,14.216666666666667,44.51666666666667,21.666666666666664,10.399999999999999],\"yaxis\":\"y\",\"type\":\"scatter\"},{\"hovertemplate\":\"Cha\\u00eene=France24<br>Temps en jours=%{x}<br>Temps de parole en minutes=%{y}<extra></extra>\",\"legendgroup\":\"France24\",\"line\":{\"color\":\"#FFA15A\",\"dash\":\"solid\"},\"marker\":{\"symbol\":\"circle\"},\"mode\":\"lines\",\"name\":\"France24\",\"orientation\":\"v\",\"showlegend\":true,\"x\":[\"2022-03-13T00:00:00\",\"2022-03-20T00:00:00\",\"2022-03-27T00:00:00\",\"2022-04-03T00:00:00\",\"2022-04-08T00:00:00\"],\"xaxis\":\"x\",\"y\":[13.916666666666666,31.55,50.05,20.316666666666666,13.066666666666666],\"yaxis\":\"y\",\"type\":\"scatter\"},{\"hovertemplate\":\"Cha\\u00eene=RMC Story<br>Temps en jours=%{x}<br>Temps de parole en minutes=%{y}<extra></extra>\",\"legendgroup\":\"RMC Story\",\"line\":{\"color\":\"#19d3f3\",\"dash\":\"solid\"},\"marker\":{\"symbol\":\"circle\"},\"mode\":\"lines\",\"name\":\"RMC Story\",\"orientation\":\"v\",\"showlegend\":true,\"x\":[\"2022-03-13T00:00:00\",\"2022-03-20T00:00:00\",\"2022-03-27T00:00:00\",\"2022-04-03T00:00:00\",\"2022-04-08T00:00:00\"],\"xaxis\":\"x\",\"y\":[2.7333333333333334,65.53333333333333,153.2,7.766666666666667,2.933333333333333],\"yaxis\":\"y\",\"type\":\"scatter\"}],                        {\"template\":{\"data\":{\"histogram2dcontour\":[{\"type\":\"histogram2dcontour\",\"colorbar\":{\"outlinewidth\":0,\"ticks\":\"\"},\"colorscale\":[[0.0,\"#0d0887\"],[0.1111111111111111,\"#46039f\"],[0.2222222222222222,\"#7201a8\"],[0.3333333333333333,\"#9c179e\"],[0.4444444444444444,\"#bd3786\"],[0.5555555555555556,\"#d8576b\"],[0.6666666666666666,\"#ed7953\"],[0.7777777777777778,\"#fb9f3a\"],[0.8888888888888888,\"#fdca26\"],[1.0,\"#f0f921\"]]}],\"choropleth\":[{\"type\":\"choropleth\",\"colorbar\":{\"outlinewidth\":0,\"ticks\":\"\"}}],\"histogram2d\":[{\"type\":\"histogram2d\",\"colorbar\":{\"outlinewidth\":0,\"ticks\":\"\"},\"colorscale\":[[0.0,\"#0d0887\"],[0.1111111111111111,\"#46039f\"],[0.2222222222222222,\"#7201a8\"],[0.3333333333333333,\"#9c179e\"],[0.4444444444444444,\"#bd3786\"],[0.5555555555555556,\"#d8576b\"],[0.6666666666666666,\"#ed7953\"],[0.7777777777777778,\"#fb9f3a\"],[0.8888888888888888,\"#fdca26\"],[1.0,\"#f0f921\"]]}],\"heatmap\":[{\"type\":\"heatmap\",\"colorbar\":{\"outlinewidth\":0,\"ticks\":\"\"},\"colorscale\":[[0.0,\"#0d0887\"],[0.1111111111111111,\"#46039f\"],[0.2222222222222222,\"#7201a8\"],[0.3333333333333333,\"#9c179e\"],[0.4444444444444444,\"#bd3786\"],[0.5555555555555556,\"#d8576b\"],[0.6666666666666666,\"#ed7953\"],[0.7777777777777778,\"#fb9f3a\"],[0.8888888888888888,\"#fdca26\"],[1.0,\"#f0f921\"]]}],\"heatmapgl\":[{\"type\":\"heatmapgl\",\"colorbar\":{\"outlinewidth\":0,\"ticks\":\"\"},\"colorscale\":[[0.0,\"#0d0887\"],[0.1111111111111111,\"#46039f\"],[0.2222222222222222,\"#7201a8\"],[0.3333333333333333,\"#9c179e\"],[0.4444444444444444,\"#bd3786\"],[0.5555555555555556,\"#d8576b\"],[0.6666666666666666,\"#ed7953\"],[0.7777777777777778,\"#fb9f3a\"],[0.8888888888888888,\"#fdca26\"],[1.0,\"#f0f921\"]]}],\"contourcarpet\":[{\"type\":\"contourcarpet\",\"colorbar\":{\"outlinewidth\":0,\"ticks\":\"\"}}],\"contour\":[{\"type\":\"contour\",\"colorbar\":{\"outlinewidth\":0,\"ticks\":\"\"},\"colorscale\":[[0.0,\"#0d0887\"],[0.1111111111111111,\"#46039f\"],[0.2222222222222222,\"#7201a8\"],[0.3333333333333333,\"#9c179e\"],[0.4444444444444444,\"#bd3786\"],[0.5555555555555556,\"#d8576b\"],[0.6666666666666666,\"#ed7953\"],[0.7777777777777778,\"#fb9f3a\"],[0.8888888888888888,\"#fdca26\"],[1.0,\"#f0f921\"]]}],\"surface\":[{\"type\":\"surface\",\"colorbar\":{\"outlinewidth\":0,\"ticks\":\"\"},\"colorscale\":[[0.0,\"#0d0887\"],[0.1111111111111111,\"#46039f\"],[0.2222222222222222,\"#7201a8\"],[0.3333333333333333,\"#9c179e\"],[0.4444444444444444,\"#bd3786\"],[0.5555555555555556,\"#d8576b\"],[0.6666666666666666,\"#ed7953\"],[0.7777777777777778,\"#fb9f3a\"],[0.8888888888888888,\"#fdca26\"],[1.0,\"#f0f921\"]]}],\"mesh3d\":[{\"type\":\"mesh3d\",\"colorbar\":{\"outlinewidth\":0,\"ticks\":\"\"}}],\"scatter\":[{\"marker\":{\"line\":{\"color\":\"#283442\"}},\"type\":\"scatter\"}],\"parcoords\":[{\"type\":\"parcoords\",\"line\":{\"colorbar\":{\"outlinewidth\":0,\"ticks\":\"\"}}}],\"scatterpolargl\":[{\"type\":\"scatterpolargl\",\"marker\":{\"colorbar\":{\"outlinewidth\":0,\"ticks\":\"\"}}}],\"bar\":[{\"error_x\":{\"color\":\"#f2f5fa\"},\"error_y\":{\"color\":\"#f2f5fa\"},\"marker\":{\"line\":{\"color\":\"rgb(17,17,17)\",\"width\":0.5},\"pattern\":{\"fillmode\":\"overlay\",\"size\":10,\"solidity\":0.2}},\"type\":\"bar\"}],\"scattergeo\":[{\"type\":\"scattergeo\",\"marker\":{\"colorbar\":{\"outlinewidth\":0,\"ticks\":\"\"}}}],\"scatterpolar\":[{\"type\":\"scatterpolar\",\"marker\":{\"colorbar\":{\"outlinewidth\":0,\"ticks\":\"\"}}}],\"histogram\":[{\"marker\":{\"pattern\":{\"fillmode\":\"overlay\",\"size\":10,\"solidity\":0.2}},\"type\":\"histogram\"}],\"scattergl\":[{\"marker\":{\"line\":{\"color\":\"#283442\"}},\"type\":\"scattergl\"}],\"scatter3d\":[{\"type\":\"scatter3d\",\"line\":{\"colorbar\":{\"outlinewidth\":0,\"ticks\":\"\"}},\"marker\":{\"colorbar\":{\"outlinewidth\":0,\"ticks\":\"\"}}}],\"scattermapbox\":[{\"type\":\"scattermapbox\",\"marker\":{\"colorbar\":{\"outlinewidth\":0,\"ticks\":\"\"}}}],\"scatterternary\":[{\"type\":\"scatterternary\",\"marker\":{\"colorbar\":{\"outlinewidth\":0,\"ticks\":\"\"}}}],\"scattercarpet\":[{\"type\":\"scattercarpet\",\"marker\":{\"colorbar\":{\"outlinewidth\":0,\"ticks\":\"\"}}}],\"carpet\":[{\"aaxis\":{\"endlinecolor\":\"#A2B1C6\",\"gridcolor\":\"#506784\",\"linecolor\":\"#506784\",\"minorgridcolor\":\"#506784\",\"startlinecolor\":\"#A2B1C6\"},\"baxis\":{\"endlinecolor\":\"#A2B1C6\",\"gridcolor\":\"#506784\",\"linecolor\":\"#506784\",\"minorgridcolor\":\"#506784\",\"startlinecolor\":\"#A2B1C6\"},\"type\":\"carpet\"}],\"table\":[{\"cells\":{\"fill\":{\"color\":\"#506784\"},\"line\":{\"color\":\"rgb(17,17,17)\"}},\"header\":{\"fill\":{\"color\":\"#2a3f5f\"},\"line\":{\"color\":\"rgb(17,17,17)\"}},\"type\":\"table\"}],\"barpolar\":[{\"marker\":{\"line\":{\"color\":\"rgb(17,17,17)\",\"width\":0.5},\"pattern\":{\"fillmode\":\"overlay\",\"size\":10,\"solidity\":0.2}},\"type\":\"barpolar\"}],\"pie\":[{\"automargin\":true,\"type\":\"pie\"}]},\"layout\":{\"autotypenumbers\":\"strict\",\"colorway\":[\"#636efa\",\"#EF553B\",\"#00cc96\",\"#ab63fa\",\"#FFA15A\",\"#19d3f3\",\"#FF6692\",\"#B6E880\",\"#FF97FF\",\"#FECB52\"],\"font\":{\"color\":\"#f2f5fa\"},\"hovermode\":\"closest\",\"hoverlabel\":{\"align\":\"left\"},\"paper_bgcolor\":\"rgb(17,17,17)\",\"plot_bgcolor\":\"rgb(17,17,17)\",\"polar\":{\"bgcolor\":\"rgb(17,17,17)\",\"angularaxis\":{\"gridcolor\":\"#506784\",\"linecolor\":\"#506784\",\"ticks\":\"\"},\"radialaxis\":{\"gridcolor\":\"#506784\",\"linecolor\":\"#506784\",\"ticks\":\"\"}},\"ternary\":{\"bgcolor\":\"rgb(17,17,17)\",\"aaxis\":{\"gridcolor\":\"#506784\",\"linecolor\":\"#506784\",\"ticks\":\"\"},\"baxis\":{\"gridcolor\":\"#506784\",\"linecolor\":\"#506784\",\"ticks\":\"\"},\"caxis\":{\"gridcolor\":\"#506784\",\"linecolor\":\"#506784\",\"ticks\":\"\"}},\"coloraxis\":{\"colorbar\":{\"outlinewidth\":0,\"ticks\":\"\"}},\"colorscale\":{\"sequential\":[[0.0,\"#0d0887\"],[0.1111111111111111,\"#46039f\"],[0.2222222222222222,\"#7201a8\"],[0.3333333333333333,\"#9c179e\"],[0.4444444444444444,\"#bd3786\"],[0.5555555555555556,\"#d8576b\"],[0.6666666666666666,\"#ed7953\"],[0.7777777777777778,\"#fb9f3a\"],[0.8888888888888888,\"#fdca26\"],[1.0,\"#f0f921\"]],\"sequentialminus\":[[0.0,\"#0d0887\"],[0.1111111111111111,\"#46039f\"],[0.2222222222222222,\"#7201a8\"],[0.3333333333333333,\"#9c179e\"],[0.4444444444444444,\"#bd3786\"],[0.5555555555555556,\"#d8576b\"],[0.6666666666666666,\"#ed7953\"],[0.7777777777777778,\"#fb9f3a\"],[0.8888888888888888,\"#fdca26\"],[1.0,\"#f0f921\"]],\"diverging\":[[0,\"#8e0152\"],[0.1,\"#c51b7d\"],[0.2,\"#de77ae\"],[0.3,\"#f1b6da\"],[0.4,\"#fde0ef\"],[0.5,\"#f7f7f7\"],[0.6,\"#e6f5d0\"],[0.7,\"#b8e186\"],[0.8,\"#7fbc41\"],[0.9,\"#4d9221\"],[1,\"#276419\"]]},\"xaxis\":{\"gridcolor\":\"#283442\",\"linecolor\":\"#506784\",\"ticks\":\"\",\"title\":{\"standoff\":15},\"zerolinecolor\":\"#283442\",\"automargin\":true,\"zerolinewidth\":2},\"yaxis\":{\"gridcolor\":\"#283442\",\"linecolor\":\"#506784\",\"ticks\":\"\",\"title\":{\"standoff\":15},\"zerolinecolor\":\"#283442\",\"automargin\":true,\"zerolinewidth\":2},\"scene\":{\"xaxis\":{\"backgroundcolor\":\"rgb(17,17,17)\",\"gridcolor\":\"#506784\",\"linecolor\":\"#506784\",\"showbackground\":true,\"ticks\":\"\",\"zerolinecolor\":\"#C8D4E3\",\"gridwidth\":2},\"yaxis\":{\"backgroundcolor\":\"rgb(17,17,17)\",\"gridcolor\":\"#506784\",\"linecolor\":\"#506784\",\"showbackground\":true,\"ticks\":\"\",\"zerolinecolor\":\"#C8D4E3\",\"gridwidth\":2},\"zaxis\":{\"backgroundcolor\":\"rgb(17,17,17)\",\"gridcolor\":\"#506784\",\"linecolor\":\"#506784\",\"showbackground\":true,\"ticks\":\"\",\"zerolinecolor\":\"#C8D4E3\",\"gridwidth\":2}},\"shapedefaults\":{\"line\":{\"color\":\"#f2f5fa\"}},\"annotationdefaults\":{\"arrowcolor\":\"#f2f5fa\",\"arrowhead\":0,\"arrowwidth\":1},\"geo\":{\"bgcolor\":\"rgb(17,17,17)\",\"landcolor\":\"rgb(17,17,17)\",\"subunitcolor\":\"#506784\",\"showland\":true,\"showlakes\":true,\"lakecolor\":\"rgb(17,17,17)\"},\"title\":{\"x\":0.05},\"updatemenudefaults\":{\"bgcolor\":\"#506784\",\"borderwidth\":0},\"sliderdefaults\":{\"bgcolor\":\"#C8D4E3\",\"borderwidth\":1,\"bordercolor\":\"rgb(17,17,17)\",\"tickwidth\":0},\"mapbox\":{\"style\":\"dark\"}}},\"xaxis\":{\"anchor\":\"y\",\"domain\":[0.0,1.0],\"title\":{\"text\":\"Temps en jours\"}},\"yaxis\":{\"anchor\":\"x\",\"domain\":[0.0,1.0],\"title\":{\"text\":\"Temps de parole en minutes\"}},\"legend\":{\"title\":{\"text\":\"Cha\\u00eene\"},\"tracegroupgap\":0},\"title\":{\"text\":\"Macron : \\u00c9volution du temps de parole en fonction du temps\"}},                        {\"responsive\": true}                    ).then(function(){\n                            \nvar gd = document.getElementById('30c15bc3-554b-4f00-99bd-5e64aee7c762');\nvar x = new MutationObserver(function (mutations, observer) {{\n        var display = window.getComputedStyle(gd).display;\n        if (!display || display === 'none') {{\n            console.log([gd, 'removed!']);\n            Plotly.purge(gd);\n            observer.disconnect();\n        }}\n}});\n\n// Listen for the removal of the full notebook cells\nvar notebookContainer = gd.closest('#notebook-container');\nif (notebookContainer) {{\n    x.observe(notebookContainer, {childList: true});\n}}\n\n// Listen for the clearing of the current output cell\nvar outputEl = gd.closest('.output');\nif (outputEl) {{\n    x.observe(outputEl, {childList: true});\n}}\n\n                        })                };                });            </script>        </div>"
     },
     "metadata": {},
     "output_type": "display_data"
    }
   ],
   "source": [
    "px.line(df_macron, x='Période', y=\"Somme\", color='Chaîne', labels={\n",
    "    \"Période\": \"Temps en jours\",\n",
    "    \"Somme\": \"Temps de parole en minutes\",\n",
    "    \"Chaîne\": \"Chaîne\"\n",
    "}, title=\"Macron : Évolution du temps de parole en fonction du temps\")\n"
   ],
   "metadata": {
    "collapsed": false,
    "pycharm": {
     "name": "#%%\n"
    }
   }
  },
  {
   "cell_type": "code",
   "execution_count": 11,
   "outputs": [
    {
     "data": {
      "application/vnd.plotly.v1+json": {
       "data": [
        {
         "hovertemplate": "Chaîne=TF1<br>Temps en jours=%{x}<br>Temps de parole en minutes=%{y}<extra></extra>",
         "legendgroup": "TF1",
         "line": {
          "color": "#636efa",
          "dash": "solid"
         },
         "marker": {
          "symbol": "circle"
         },
         "mode": "lines",
         "name": "TF1",
         "orientation": "v",
         "showlegend": true,
         "x": [
          "2022-03-13T00:00:00",
          "2022-03-20T00:00:00",
          "2022-03-27T00:00:00",
          "2022-04-03T00:00:00",
          "2022-04-08T00:00:00"
         ],
         "xaxis": "x",
         "y": [
          0.55,
          21.8,
          32.083333333333336,
          0.75,
          10.833333333333334
         ],
         "yaxis": "y",
         "type": "scatter"
        },
        {
         "hovertemplate": "Chaîne=France2<br>Temps en jours=%{x}<br>Temps de parole en minutes=%{y}<extra></extra>",
         "legendgroup": "France2",
         "line": {
          "color": "#EF553B",
          "dash": "solid"
         },
         "marker": {
          "symbol": "circle"
         },
         "mode": "lines",
         "name": "France2",
         "orientation": "v",
         "showlegend": true,
         "x": [
          "2022-03-13T00:00:00",
          "2022-03-20T00:00:00",
          "2022-03-27T00:00:00",
          "2022-04-03T00:00:00",
          "2022-04-08T00:00:00"
         ],
         "xaxis": "x",
         "y": [
          0.4666666666666667,
          1.2,
          74.28333333333333,
          24.633333333333333,
          32.78333333333333
         ],
         "yaxis": "y",
         "type": "scatter"
        },
        {
         "hovertemplate": "Chaîne=France3<br>Temps en jours=%{x}<br>Temps de parole en minutes=%{y}<extra></extra>",
         "legendgroup": "France3",
         "line": {
          "color": "#00cc96",
          "dash": "solid"
         },
         "marker": {
          "symbol": "circle"
         },
         "mode": "lines",
         "name": "France3",
         "orientation": "v",
         "showlegend": true,
         "x": [
          "2022-03-13T00:00:00",
          "2022-03-20T00:00:00",
          "2022-03-27T00:00:00",
          "2022-04-03T00:00:00",
          "2022-04-08T00:00:00"
         ],
         "xaxis": "x",
         "y": [
          0.8833333333333333,
          19.983333333333334,
          21.316666666666666,
          1.0833333333333335,
          2.3833333333333333
         ],
         "yaxis": "y",
         "type": "scatter"
        },
        {
         "hovertemplate": "Chaîne=France5<br>Temps en jours=%{x}<br>Temps de parole en minutes=%{y}<extra></extra>",
         "legendgroup": "France5",
         "line": {
          "color": "#ab63fa",
          "dash": "solid"
         },
         "marker": {
          "symbol": "circle"
         },
         "mode": "lines",
         "name": "France5",
         "orientation": "v",
         "showlegend": true,
         "x": [
          "2022-03-13T00:00:00",
          "2022-03-20T00:00:00",
          "2022-03-27T00:00:00",
          "2022-04-03T00:00:00",
          "2022-04-08T00:00:00"
         ],
         "xaxis": "x",
         "y": [
          24.1,
          29.233333333333334,
          37.63333333333333,
          7.1,
          10.95
         ],
         "yaxis": "y",
         "type": "scatter"
        },
        {
         "hovertemplate": "Chaîne=M6<br>Temps en jours=%{x}<br>Temps de parole en minutes=%{y}<extra></extra>",
         "legendgroup": "M6",
         "line": {
          "color": "#FFA15A",
          "dash": "solid"
         },
         "marker": {
          "symbol": "circle"
         },
         "mode": "lines",
         "name": "M6",
         "orientation": "v",
         "showlegend": true,
         "x": [
          "2022-03-13T00:00:00",
          "2022-03-20T00:00:00",
          "2022-03-27T00:00:00",
          "2022-04-03T00:00:00",
          "2022-04-08T00:00:00"
         ],
         "xaxis": "x",
         "y": [
          0.5,
          2.0166666666666666,
          24.46666666666667,
          2.4,
          2.9833333333333334
         ],
         "yaxis": "y",
         "type": "scatter"
        },
        {
         "hovertemplate": "Chaîne=C8<br>Temps en jours=%{x}<br>Temps de parole en minutes=%{y}<extra></extra>",
         "legendgroup": "C8",
         "line": {
          "color": "#19d3f3",
          "dash": "solid"
         },
         "marker": {
          "symbol": "circle"
         },
         "mode": "lines",
         "name": "C8",
         "orientation": "v",
         "showlegend": true,
         "x": [
          "2022-03-13T00:00:00",
          "2022-03-20T00:00:00",
          "2022-03-27T00:00:00",
          "2022-04-03T00:00:00",
          "2022-04-08T00:00:00"
         ],
         "xaxis": "x",
         "y": [
          1.65,
          5.25,
          100.08333333333333,
          1.3666666666666667,
          9.933333333333334
         ],
         "yaxis": "y",
         "type": "scatter"
        },
        {
         "hovertemplate": "Chaîne=TMC<br>Temps en jours=%{x}<br>Temps de parole en minutes=%{y}<extra></extra>",
         "legendgroup": "TMC",
         "line": {
          "color": "#FF6692",
          "dash": "solid"
         },
         "marker": {
          "symbol": "circle"
         },
         "mode": "lines",
         "name": "TMC",
         "orientation": "v",
         "showlegend": true,
         "x": [
          "2022-03-13T00:00:00",
          "2022-03-20T00:00:00",
          "2022-03-27T00:00:00",
          "2022-04-03T00:00:00",
          "2022-04-08T00:00:00"
         ],
         "xaxis": "x",
         "y": [
          4.85,
          7.033333333333333,
          15.866666666666667,
          8.016666666666667,
          18.0
         ],
         "yaxis": "y",
         "type": "scatter"
        },
        {
         "hovertemplate": "Chaîne=BFMTV<br>Temps en jours=%{x}<br>Temps de parole en minutes=%{y}<extra></extra>",
         "legendgroup": "BFMTV",
         "line": {
          "color": "#B6E880",
          "dash": "solid"
         },
         "marker": {
          "symbol": "circle"
         },
         "mode": "lines",
         "name": "BFMTV",
         "orientation": "v",
         "showlegend": true,
         "x": [
          "2022-03-13T00:00:00",
          "2022-03-20T00:00:00",
          "2022-03-27T00:00:00",
          "2022-04-03T00:00:00",
          "2022-04-08T00:00:00"
         ],
         "xaxis": "x",
         "y": [
          15.383333333333335,
          143.8,
          228.03333333333336,
          12.133333333333333,
          33.21666666666666
         ],
         "yaxis": "y",
         "type": "scatter"
        },
        {
         "hovertemplate": "Chaîne=Cnews<br>Temps en jours=%{x}<br>Temps de parole en minutes=%{y}<extra></extra>",
         "legendgroup": "Cnews",
         "line": {
          "color": "#FF97FF",
          "dash": "solid"
         },
         "marker": {
          "symbol": "circle"
         },
         "mode": "lines",
         "name": "Cnews",
         "orientation": "v",
         "showlegend": true,
         "x": [
          "2022-03-13T00:00:00",
          "2022-03-20T00:00:00",
          "2022-03-27T00:00:00",
          "2022-04-03T00:00:00",
          "2022-04-08T00:00:00"
         ],
         "xaxis": "x",
         "y": [
          99.29999999999998,
          440.3333333333333,
          525.4,
          70.38333333333334,
          81.38333333333334
         ],
         "yaxis": "y",
         "type": "scatter"
        },
        {
         "hovertemplate": "Chaîne=LCI<br>Temps en jours=%{x}<br>Temps de parole en minutes=%{y}<extra></extra>",
         "legendgroup": "LCI",
         "line": {
          "color": "#FECB52",
          "dash": "solid"
         },
         "marker": {
          "symbol": "circle"
         },
         "mode": "lines",
         "name": "LCI",
         "orientation": "v",
         "showlegend": true,
         "x": [
          "2022-03-13T00:00:00",
          "2022-03-20T00:00:00",
          "2022-03-27T00:00:00",
          "2022-04-03T00:00:00",
          "2022-04-08T00:00:00"
         ],
         "xaxis": "x",
         "y": [
          7.1000000000000005,
          229.66666666666669,
          306.35,
          128.16666666666666,
          211.08333333333334
         ],
         "yaxis": "y",
         "type": "scatter"
        },
        {
         "hovertemplate": "Chaîne=FranceinfoTV<br>Temps en jours=%{x}<br>Temps de parole en minutes=%{y}<extra></extra>",
         "legendgroup": "FranceinfoTV",
         "line": {
          "color": "#636efa",
          "dash": "solid"
         },
         "marker": {
          "symbol": "circle"
         },
         "mode": "lines",
         "name": "FranceinfoTV",
         "orientation": "v",
         "showlegend": true,
         "x": [
          "2022-03-13T00:00:00",
          "2022-03-20T00:00:00",
          "2022-03-27T00:00:00",
          "2022-04-03T00:00:00",
          "2022-04-08T00:00:00"
         ],
         "xaxis": "x",
         "y": [
          27.633333333333333,
          191.06666666666666,
          298.8833333333333,
          143.93333333333334,
          184.35
         ],
         "yaxis": "y",
         "type": "scatter"
        },
        {
         "hovertemplate": "Chaîne=FranceInter<br>Temps en jours=%{x}<br>Temps de parole en minutes=%{y}<extra></extra>",
         "legendgroup": "FranceInter",
         "line": {
          "color": "#EF553B",
          "dash": "solid"
         },
         "marker": {
          "symbol": "circle"
         },
         "mode": "lines",
         "name": "FranceInter",
         "orientation": "v",
         "showlegend": true,
         "x": [
          "2022-03-13T00:00:00",
          "2022-03-20T00:00:00",
          "2022-03-27T00:00:00",
          "2022-04-03T00:00:00",
          "2022-04-08T00:00:00"
         ],
         "xaxis": "x",
         "y": [
          5.083333333333333,
          29.349999999999998,
          32.849999999999994,
          10.766666666666666,
          14.416666666666668
         ],
         "yaxis": "y",
         "type": "scatter"
        },
        {
         "hovertemplate": "Chaîne=FranceInfo<br>Temps en jours=%{x}<br>Temps de parole en minutes=%{y}<extra></extra>",
         "legendgroup": "FranceInfo",
         "line": {
          "color": "#00cc96",
          "dash": "solid"
         },
         "marker": {
          "symbol": "circle"
         },
         "mode": "lines",
         "name": "FranceInfo",
         "orientation": "v",
         "showlegend": true,
         "x": [
          "2022-03-13T00:00:00",
          "2022-03-20T00:00:00",
          "2022-03-27T00:00:00",
          "2022-04-03T00:00:00",
          "2022-04-08T00:00:00"
         ],
         "xaxis": "x",
         "y": [
          6.65,
          51.349999999999994,
          104.41666666666667,
          60.45,
          85.71666666666665
         ],
         "yaxis": "y",
         "type": "scatter"
        },
        {
         "hovertemplate": "Chaîne=FranceCulture<br>Temps en jours=%{x}<br>Temps de parole en minutes=%{y}<extra></extra>",
         "legendgroup": "FranceCulture",
         "line": {
          "color": "#ab63fa",
          "dash": "solid"
         },
         "marker": {
          "symbol": "circle"
         },
         "mode": "lines",
         "name": "FranceCulture",
         "orientation": "v",
         "showlegend": true,
         "x": [
          "2022-03-13T00:00:00",
          "2022-03-20T00:00:00",
          "2022-03-27T00:00:00",
          "2022-04-03T00:00:00",
          "2022-04-08T00:00:00"
         ],
         "xaxis": "x",
         "y": [
          30.51666666666667,
          31.26666666666667,
          44.083333333333336,
          0.45,
          9.1
         ],
         "yaxis": "y",
         "type": "scatter"
        },
        {
         "hovertemplate": "Chaîne=RTL<br>Temps en jours=%{x}<br>Temps de parole en minutes=%{y}<extra></extra>",
         "legendgroup": "RTL",
         "line": {
          "color": "#FFA15A",
          "dash": "solid"
         },
         "marker": {
          "symbol": "circle"
         },
         "mode": "lines",
         "name": "RTL",
         "orientation": "v",
         "showlegend": true,
         "x": [
          "2022-03-13T00:00:00",
          "2022-03-20T00:00:00",
          "2022-03-27T00:00:00",
          "2022-04-03T00:00:00",
          "2022-04-08T00:00:00"
         ],
         "xaxis": "x",
         "y": [
          6.133333333333334,
          119.9,
          129.31666666666666,
          11.649999999999999,
          15.416666666666668
         ],
         "yaxis": "y",
         "type": "scatter"
        },
        {
         "hovertemplate": "Chaîne=Europe1<br>Temps en jours=%{x}<br>Temps de parole en minutes=%{y}<extra></extra>",
         "legendgroup": "Europe1",
         "line": {
          "color": "#19d3f3",
          "dash": "solid"
         },
         "marker": {
          "symbol": "circle"
         },
         "mode": "lines",
         "name": "Europe1",
         "orientation": "v",
         "showlegend": true,
         "x": [
          "2022-03-13T00:00:00",
          "2022-03-20T00:00:00",
          "2022-03-27T00:00:00",
          "2022-04-03T00:00:00",
          "2022-04-08T00:00:00"
         ],
         "xaxis": "x",
         "y": [
          55.03333333333333,
          102.53333333333333,
          142.70000000000002,
          17.083333333333332,
          51.016666666666666
         ],
         "yaxis": "y",
         "type": "scatter"
        },
        {
         "hovertemplate": "Chaîne=RMC<br>Temps en jours=%{x}<br>Temps de parole en minutes=%{y}<extra></extra>",
         "legendgroup": "RMC",
         "line": {
          "color": "#FF6692",
          "dash": "solid"
         },
         "marker": {
          "symbol": "circle"
         },
         "mode": "lines",
         "name": "RMC",
         "orientation": "v",
         "showlegend": true,
         "x": [
          "2022-03-13T00:00:00",
          "2022-03-20T00:00:00",
          "2022-03-27T00:00:00",
          "2022-04-03T00:00:00",
          "2022-04-08T00:00:00"
         ],
         "xaxis": "x",
         "y": [
          140.08333333333334,
          140.41666666666669,
          143.21666666666667,
          8.25,
          17.133333333333333
         ],
         "yaxis": "y",
         "type": "scatter"
        },
        {
         "hovertemplate": "Chaîne=BFMBusiness<br>Temps en jours=%{x}<br>Temps de parole en minutes=%{y}<extra></extra>",
         "legendgroup": "BFMBusiness",
         "line": {
          "color": "#B6E880",
          "dash": "solid"
         },
         "marker": {
          "symbol": "circle"
         },
         "mode": "lines",
         "name": "BFMBusiness",
         "orientation": "v",
         "showlegend": true,
         "x": [
          "2022-03-13T00:00:00",
          "2022-03-20T00:00:00",
          "2022-03-27T00:00:00"
         ],
         "xaxis": "x",
         "y": [
          2.0833333333333335,
          2.0833333333333335,
          27.46666666666667
         ],
         "yaxis": "y",
         "type": "scatter"
        },
        {
         "hovertemplate": "Chaîne=RadioClassique<br>Temps en jours=%{x}<br>Temps de parole en minutes=%{y}<extra></extra>",
         "legendgroup": "RadioClassique",
         "line": {
          "color": "#FF97FF",
          "dash": "solid"
         },
         "marker": {
          "symbol": "circle"
         },
         "mode": "lines",
         "name": "RadioClassique",
         "orientation": "v",
         "showlegend": true,
         "x": [
          "2022-03-13T00:00:00",
          "2022-03-20T00:00:00",
          "2022-03-27T00:00:00",
          "2022-04-03T00:00:00",
          "2022-04-08T00:00:00"
         ],
         "xaxis": "x",
         "y": [
          0.0,
          0.0,
          0.0,
          0.0,
          0.0
         ],
         "yaxis": "y",
         "type": "scatter"
        },
        {
         "hovertemplate": "Chaîne=SudRadio<br>Temps en jours=%{x}<br>Temps de parole en minutes=%{y}<extra></extra>",
         "legendgroup": "SudRadio",
         "line": {
          "color": "#FECB52",
          "dash": "solid"
         },
         "marker": {
          "symbol": "circle"
         },
         "mode": "lines",
         "name": "SudRadio",
         "orientation": "v",
         "showlegend": true,
         "x": [
          "2022-03-13T00:00:00",
          "2022-03-20T00:00:00",
          "2022-03-27T00:00:00",
          "2022-04-03T00:00:00",
          "2022-04-08T00:00:00"
         ],
         "xaxis": "x",
         "y": [
          0.0,
          22.466666666666665,
          25.716666666666665,
          0.7666666666666666,
          1.6666666666666667
         ],
         "yaxis": "y",
         "type": "scatter"
        },
        {
         "hovertemplate": "Chaîne=TV5Monde<br>Temps en jours=%{x}<br>Temps de parole en minutes=%{y}<extra></extra>",
         "legendgroup": "TV5Monde",
         "line": {
          "color": "#636efa",
          "dash": "solid"
         },
         "marker": {
          "symbol": "circle"
         },
         "mode": "lines",
         "name": "TV5Monde",
         "orientation": "v",
         "showlegend": true,
         "x": [
          "2022-03-13T00:00:00",
          "2022-03-20T00:00:00",
          "2022-03-27T00:00:00",
          "2022-04-03T00:00:00",
          "2022-04-08T00:00:00"
         ],
         "xaxis": "x",
         "y": [
          0.6166666666666667,
          2.15,
          63.333333333333336,
          23.4,
          30.816666666666666
         ],
         "yaxis": "y",
         "type": "scatter"
        },
        {
         "hovertemplate": "Chaîne=Euronews<br>Temps en jours=%{x}<br>Temps de parole en minutes=%{y}<extra></extra>",
         "legendgroup": "Euronews",
         "line": {
          "color": "#EF553B",
          "dash": "solid"
         },
         "marker": {
          "symbol": "circle"
         },
         "mode": "lines",
         "name": "Euronews",
         "orientation": "v",
         "showlegend": true,
         "x": [
          "2022-03-13T00:00:00",
          "2022-03-20T00:00:00",
          "2022-03-27T00:00:00"
         ],
         "xaxis": "x",
         "y": [
          0.0,
          0.0,
          0.0
         ],
         "yaxis": "y",
         "type": "scatter"
        },
        {
         "hovertemplate": "Chaîne=RFI<br>Temps en jours=%{x}<br>Temps de parole en minutes=%{y}<extra></extra>",
         "legendgroup": "RFI",
         "line": {
          "color": "#00cc96",
          "dash": "solid"
         },
         "marker": {
          "symbol": "circle"
         },
         "mode": "lines",
         "name": "RFI",
         "orientation": "v",
         "showlegend": true,
         "x": [
          "2022-03-13T00:00:00",
          "2022-03-20T00:00:00",
          "2022-03-27T00:00:00",
          "2022-04-03T00:00:00",
          "2022-04-08T00:00:00"
         ],
         "xaxis": "x",
         "y": [
          8.0,
          11.35,
          48.150000000000006,
          10.416666666666668,
          20.016666666666666
         ],
         "yaxis": "y",
         "type": "scatter"
        },
        {
         "hovertemplate": "Chaîne=France24<br>Temps en jours=%{x}<br>Temps de parole en minutes=%{y}<extra></extra>",
         "legendgroup": "France24",
         "line": {
          "color": "#ab63fa",
          "dash": "solid"
         },
         "marker": {
          "symbol": "circle"
         },
         "mode": "lines",
         "name": "France24",
         "orientation": "v",
         "showlegend": true,
         "x": [
          "2022-03-13T00:00:00",
          "2022-03-20T00:00:00",
          "2022-03-27T00:00:00",
          "2022-04-03T00:00:00",
          "2022-04-08T00:00:00"
         ],
         "xaxis": "x",
         "y": [
          0.26666666666666666,
          3.1,
          28.56666666666667,
          13.733333333333334,
          19.3
         ],
         "yaxis": "y",
         "type": "scatter"
        },
        {
         "hovertemplate": "Chaîne=RMC Story<br>Temps en jours=%{x}<br>Temps de parole en minutes=%{y}<extra></extra>",
         "legendgroup": "RMC Story",
         "line": {
          "color": "#FFA15A",
          "dash": "solid"
         },
         "marker": {
          "symbol": "circle"
         },
         "mode": "lines",
         "name": "RMC Story",
         "orientation": "v",
         "showlegend": true,
         "x": [
          "2022-03-13T00:00:00",
          "2022-03-20T00:00:00",
          "2022-03-27T00:00:00",
          "2022-04-03T00:00:00",
          "2022-04-08T00:00:00"
         ],
         "xaxis": "x",
         "y": [
          91.16666666666667,
          91.33333333333333,
          91.33333333333333,
          1.7,
          7.4
         ],
         "yaxis": "y",
         "type": "scatter"
        },
        {
         "hovertemplate": "Chaîne=RMCDecouverte<br>Temps en jours=%{x}<br>Temps de parole en minutes=%{y}<extra></extra>",
         "legendgroup": "RMCDecouverte",
         "line": {
          "color": "#19d3f3",
          "dash": "solid"
         },
         "marker": {
          "symbol": "circle"
         },
         "mode": "lines",
         "name": "RMCDecouverte",
         "orientation": "v",
         "showlegend": true,
         "x": [
          "2022-03-27T00:00:00"
         ],
         "xaxis": "x",
         "y": [
          0.0
         ],
         "yaxis": "y",
         "type": "scatter"
        }
       ],
       "layout": {
        "template": {
         "data": {
          "histogram2dcontour": [
           {
            "type": "histogram2dcontour",
            "colorbar": {
             "outlinewidth": 0,
             "ticks": ""
            },
            "colorscale": [
             [
              0.0,
              "#0d0887"
             ],
             [
              0.1111111111111111,
              "#46039f"
             ],
             [
              0.2222222222222222,
              "#7201a8"
             ],
             [
              0.3333333333333333,
              "#9c179e"
             ],
             [
              0.4444444444444444,
              "#bd3786"
             ],
             [
              0.5555555555555556,
              "#d8576b"
             ],
             [
              0.6666666666666666,
              "#ed7953"
             ],
             [
              0.7777777777777778,
              "#fb9f3a"
             ],
             [
              0.8888888888888888,
              "#fdca26"
             ],
             [
              1.0,
              "#f0f921"
             ]
            ]
           }
          ],
          "choropleth": [
           {
            "type": "choropleth",
            "colorbar": {
             "outlinewidth": 0,
             "ticks": ""
            }
           }
          ],
          "histogram2d": [
           {
            "type": "histogram2d",
            "colorbar": {
             "outlinewidth": 0,
             "ticks": ""
            },
            "colorscale": [
             [
              0.0,
              "#0d0887"
             ],
             [
              0.1111111111111111,
              "#46039f"
             ],
             [
              0.2222222222222222,
              "#7201a8"
             ],
             [
              0.3333333333333333,
              "#9c179e"
             ],
             [
              0.4444444444444444,
              "#bd3786"
             ],
             [
              0.5555555555555556,
              "#d8576b"
             ],
             [
              0.6666666666666666,
              "#ed7953"
             ],
             [
              0.7777777777777778,
              "#fb9f3a"
             ],
             [
              0.8888888888888888,
              "#fdca26"
             ],
             [
              1.0,
              "#f0f921"
             ]
            ]
           }
          ],
          "heatmap": [
           {
            "type": "heatmap",
            "colorbar": {
             "outlinewidth": 0,
             "ticks": ""
            },
            "colorscale": [
             [
              0.0,
              "#0d0887"
             ],
             [
              0.1111111111111111,
              "#46039f"
             ],
             [
              0.2222222222222222,
              "#7201a8"
             ],
             [
              0.3333333333333333,
              "#9c179e"
             ],
             [
              0.4444444444444444,
              "#bd3786"
             ],
             [
              0.5555555555555556,
              "#d8576b"
             ],
             [
              0.6666666666666666,
              "#ed7953"
             ],
             [
              0.7777777777777778,
              "#fb9f3a"
             ],
             [
              0.8888888888888888,
              "#fdca26"
             ],
             [
              1.0,
              "#f0f921"
             ]
            ]
           }
          ],
          "heatmapgl": [
           {
            "type": "heatmapgl",
            "colorbar": {
             "outlinewidth": 0,
             "ticks": ""
            },
            "colorscale": [
             [
              0.0,
              "#0d0887"
             ],
             [
              0.1111111111111111,
              "#46039f"
             ],
             [
              0.2222222222222222,
              "#7201a8"
             ],
             [
              0.3333333333333333,
              "#9c179e"
             ],
             [
              0.4444444444444444,
              "#bd3786"
             ],
             [
              0.5555555555555556,
              "#d8576b"
             ],
             [
              0.6666666666666666,
              "#ed7953"
             ],
             [
              0.7777777777777778,
              "#fb9f3a"
             ],
             [
              0.8888888888888888,
              "#fdca26"
             ],
             [
              1.0,
              "#f0f921"
             ]
            ]
           }
          ],
          "contourcarpet": [
           {
            "type": "contourcarpet",
            "colorbar": {
             "outlinewidth": 0,
             "ticks": ""
            }
           }
          ],
          "contour": [
           {
            "type": "contour",
            "colorbar": {
             "outlinewidth": 0,
             "ticks": ""
            },
            "colorscale": [
             [
              0.0,
              "#0d0887"
             ],
             [
              0.1111111111111111,
              "#46039f"
             ],
             [
              0.2222222222222222,
              "#7201a8"
             ],
             [
              0.3333333333333333,
              "#9c179e"
             ],
             [
              0.4444444444444444,
              "#bd3786"
             ],
             [
              0.5555555555555556,
              "#d8576b"
             ],
             [
              0.6666666666666666,
              "#ed7953"
             ],
             [
              0.7777777777777778,
              "#fb9f3a"
             ],
             [
              0.8888888888888888,
              "#fdca26"
             ],
             [
              1.0,
              "#f0f921"
             ]
            ]
           }
          ],
          "surface": [
           {
            "type": "surface",
            "colorbar": {
             "outlinewidth": 0,
             "ticks": ""
            },
            "colorscale": [
             [
              0.0,
              "#0d0887"
             ],
             [
              0.1111111111111111,
              "#46039f"
             ],
             [
              0.2222222222222222,
              "#7201a8"
             ],
             [
              0.3333333333333333,
              "#9c179e"
             ],
             [
              0.4444444444444444,
              "#bd3786"
             ],
             [
              0.5555555555555556,
              "#d8576b"
             ],
             [
              0.6666666666666666,
              "#ed7953"
             ],
             [
              0.7777777777777778,
              "#fb9f3a"
             ],
             [
              0.8888888888888888,
              "#fdca26"
             ],
             [
              1.0,
              "#f0f921"
             ]
            ]
           }
          ],
          "mesh3d": [
           {
            "type": "mesh3d",
            "colorbar": {
             "outlinewidth": 0,
             "ticks": ""
            }
           }
          ],
          "scatter": [
           {
            "marker": {
             "line": {
              "color": "#283442"
             }
            },
            "type": "scatter"
           }
          ],
          "parcoords": [
           {
            "type": "parcoords",
            "line": {
             "colorbar": {
              "outlinewidth": 0,
              "ticks": ""
             }
            }
           }
          ],
          "scatterpolargl": [
           {
            "type": "scatterpolargl",
            "marker": {
             "colorbar": {
              "outlinewidth": 0,
              "ticks": ""
             }
            }
           }
          ],
          "bar": [
           {
            "error_x": {
             "color": "#f2f5fa"
            },
            "error_y": {
             "color": "#f2f5fa"
            },
            "marker": {
             "line": {
              "color": "rgb(17,17,17)",
              "width": 0.5
             },
             "pattern": {
              "fillmode": "overlay",
              "size": 10,
              "solidity": 0.2
             }
            },
            "type": "bar"
           }
          ],
          "scattergeo": [
           {
            "type": "scattergeo",
            "marker": {
             "colorbar": {
              "outlinewidth": 0,
              "ticks": ""
             }
            }
           }
          ],
          "scatterpolar": [
           {
            "type": "scatterpolar",
            "marker": {
             "colorbar": {
              "outlinewidth": 0,
              "ticks": ""
             }
            }
           }
          ],
          "histogram": [
           {
            "marker": {
             "pattern": {
              "fillmode": "overlay",
              "size": 10,
              "solidity": 0.2
             }
            },
            "type": "histogram"
           }
          ],
          "scattergl": [
           {
            "marker": {
             "line": {
              "color": "#283442"
             }
            },
            "type": "scattergl"
           }
          ],
          "scatter3d": [
           {
            "type": "scatter3d",
            "line": {
             "colorbar": {
              "outlinewidth": 0,
              "ticks": ""
             }
            },
            "marker": {
             "colorbar": {
              "outlinewidth": 0,
              "ticks": ""
             }
            }
           }
          ],
          "scattermapbox": [
           {
            "type": "scattermapbox",
            "marker": {
             "colorbar": {
              "outlinewidth": 0,
              "ticks": ""
             }
            }
           }
          ],
          "scatterternary": [
           {
            "type": "scatterternary",
            "marker": {
             "colorbar": {
              "outlinewidth": 0,
              "ticks": ""
             }
            }
           }
          ],
          "scattercarpet": [
           {
            "type": "scattercarpet",
            "marker": {
             "colorbar": {
              "outlinewidth": 0,
              "ticks": ""
             }
            }
           }
          ],
          "carpet": [
           {
            "aaxis": {
             "endlinecolor": "#A2B1C6",
             "gridcolor": "#506784",
             "linecolor": "#506784",
             "minorgridcolor": "#506784",
             "startlinecolor": "#A2B1C6"
            },
            "baxis": {
             "endlinecolor": "#A2B1C6",
             "gridcolor": "#506784",
             "linecolor": "#506784",
             "minorgridcolor": "#506784",
             "startlinecolor": "#A2B1C6"
            },
            "type": "carpet"
           }
          ],
          "table": [
           {
            "cells": {
             "fill": {
              "color": "#506784"
             },
             "line": {
              "color": "rgb(17,17,17)"
             }
            },
            "header": {
             "fill": {
              "color": "#2a3f5f"
             },
             "line": {
              "color": "rgb(17,17,17)"
             }
            },
            "type": "table"
           }
          ],
          "barpolar": [
           {
            "marker": {
             "line": {
              "color": "rgb(17,17,17)",
              "width": 0.5
             },
             "pattern": {
              "fillmode": "overlay",
              "size": 10,
              "solidity": 0.2
             }
            },
            "type": "barpolar"
           }
          ],
          "pie": [
           {
            "automargin": true,
            "type": "pie"
           }
          ]
         },
         "layout": {
          "autotypenumbers": "strict",
          "colorway": [
           "#636efa",
           "#EF553B",
           "#00cc96",
           "#ab63fa",
           "#FFA15A",
           "#19d3f3",
           "#FF6692",
           "#B6E880",
           "#FF97FF",
           "#FECB52"
          ],
          "font": {
           "color": "#f2f5fa"
          },
          "hovermode": "closest",
          "hoverlabel": {
           "align": "left"
          },
          "paper_bgcolor": "rgb(17,17,17)",
          "plot_bgcolor": "rgb(17,17,17)",
          "polar": {
           "bgcolor": "rgb(17,17,17)",
           "angularaxis": {
            "gridcolor": "#506784",
            "linecolor": "#506784",
            "ticks": ""
           },
           "radialaxis": {
            "gridcolor": "#506784",
            "linecolor": "#506784",
            "ticks": ""
           }
          },
          "ternary": {
           "bgcolor": "rgb(17,17,17)",
           "aaxis": {
            "gridcolor": "#506784",
            "linecolor": "#506784",
            "ticks": ""
           },
           "baxis": {
            "gridcolor": "#506784",
            "linecolor": "#506784",
            "ticks": ""
           },
           "caxis": {
            "gridcolor": "#506784",
            "linecolor": "#506784",
            "ticks": ""
           }
          },
          "coloraxis": {
           "colorbar": {
            "outlinewidth": 0,
            "ticks": ""
           }
          },
          "colorscale": {
           "sequential": [
            [
             0.0,
             "#0d0887"
            ],
            [
             0.1111111111111111,
             "#46039f"
            ],
            [
             0.2222222222222222,
             "#7201a8"
            ],
            [
             0.3333333333333333,
             "#9c179e"
            ],
            [
             0.4444444444444444,
             "#bd3786"
            ],
            [
             0.5555555555555556,
             "#d8576b"
            ],
            [
             0.6666666666666666,
             "#ed7953"
            ],
            [
             0.7777777777777778,
             "#fb9f3a"
            ],
            [
             0.8888888888888888,
             "#fdca26"
            ],
            [
             1.0,
             "#f0f921"
            ]
           ],
           "sequentialminus": [
            [
             0.0,
             "#0d0887"
            ],
            [
             0.1111111111111111,
             "#46039f"
            ],
            [
             0.2222222222222222,
             "#7201a8"
            ],
            [
             0.3333333333333333,
             "#9c179e"
            ],
            [
             0.4444444444444444,
             "#bd3786"
            ],
            [
             0.5555555555555556,
             "#d8576b"
            ],
            [
             0.6666666666666666,
             "#ed7953"
            ],
            [
             0.7777777777777778,
             "#fb9f3a"
            ],
            [
             0.8888888888888888,
             "#fdca26"
            ],
            [
             1.0,
             "#f0f921"
            ]
           ],
           "diverging": [
            [
             0,
             "#8e0152"
            ],
            [
             0.1,
             "#c51b7d"
            ],
            [
             0.2,
             "#de77ae"
            ],
            [
             0.3,
             "#f1b6da"
            ],
            [
             0.4,
             "#fde0ef"
            ],
            [
             0.5,
             "#f7f7f7"
            ],
            [
             0.6,
             "#e6f5d0"
            ],
            [
             0.7,
             "#b8e186"
            ],
            [
             0.8,
             "#7fbc41"
            ],
            [
             0.9,
             "#4d9221"
            ],
            [
             1,
             "#276419"
            ]
           ]
          },
          "xaxis": {
           "gridcolor": "#283442",
           "linecolor": "#506784",
           "ticks": "",
           "title": {
            "standoff": 15
           },
           "zerolinecolor": "#283442",
           "automargin": true,
           "zerolinewidth": 2
          },
          "yaxis": {
           "gridcolor": "#283442",
           "linecolor": "#506784",
           "ticks": "",
           "title": {
            "standoff": 15
           },
           "zerolinecolor": "#283442",
           "automargin": true,
           "zerolinewidth": 2
          },
          "scene": {
           "xaxis": {
            "backgroundcolor": "rgb(17,17,17)",
            "gridcolor": "#506784",
            "linecolor": "#506784",
            "showbackground": true,
            "ticks": "",
            "zerolinecolor": "#C8D4E3",
            "gridwidth": 2
           },
           "yaxis": {
            "backgroundcolor": "rgb(17,17,17)",
            "gridcolor": "#506784",
            "linecolor": "#506784",
            "showbackground": true,
            "ticks": "",
            "zerolinecolor": "#C8D4E3",
            "gridwidth": 2
           },
           "zaxis": {
            "backgroundcolor": "rgb(17,17,17)",
            "gridcolor": "#506784",
            "linecolor": "#506784",
            "showbackground": true,
            "ticks": "",
            "zerolinecolor": "#C8D4E3",
            "gridwidth": 2
           }
          },
          "shapedefaults": {
           "line": {
            "color": "#f2f5fa"
           }
          },
          "annotationdefaults": {
           "arrowcolor": "#f2f5fa",
           "arrowhead": 0,
           "arrowwidth": 1
          },
          "geo": {
           "bgcolor": "rgb(17,17,17)",
           "landcolor": "rgb(17,17,17)",
           "subunitcolor": "#506784",
           "showland": true,
           "showlakes": true,
           "lakecolor": "rgb(17,17,17)"
          },
          "title": {
           "x": 0.05
          },
          "updatemenudefaults": {
           "bgcolor": "#506784",
           "borderwidth": 0
          },
          "sliderdefaults": {
           "bgcolor": "#C8D4E3",
           "borderwidth": 1,
           "bordercolor": "rgb(17,17,17)",
           "tickwidth": 0
          },
          "mapbox": {
           "style": "dark"
          }
         }
        },
        "xaxis": {
         "anchor": "y",
         "domain": [
          0.0,
          1.0
         ],
         "title": {
          "text": "Temps en jours"
         }
        },
        "yaxis": {
         "anchor": "x",
         "domain": [
          0.0,
          1.0
         ],
         "title": {
          "text": "Temps de parole en minutes"
         }
        },
        "legend": {
         "title": {
          "text": "Chaîne"
         },
         "tracegroupgap": 0
        },
        "title": {
         "text": "Melenchon : Évolution du temps de parole en fonction du temps"
        }
       },
       "config": {
        "plotlyServerURL": "https://plot.ly"
       }
      },
      "text/html": "<div>                            <div id=\"8b712f5d-6c68-4094-8498-422aeb44d7b6\" class=\"plotly-graph-div\" style=\"height:525px; width:100%;\"></div>            <script type=\"text/javascript\">                require([\"plotly\"], function(Plotly) {                    window.PLOTLYENV=window.PLOTLYENV || {};                                    if (document.getElementById(\"8b712f5d-6c68-4094-8498-422aeb44d7b6\")) {                    Plotly.newPlot(                        \"8b712f5d-6c68-4094-8498-422aeb44d7b6\",                        [{\"hovertemplate\":\"Cha\\u00eene=TF1<br>Temps en jours=%{x}<br>Temps de parole en minutes=%{y}<extra></extra>\",\"legendgroup\":\"TF1\",\"line\":{\"color\":\"#636efa\",\"dash\":\"solid\"},\"marker\":{\"symbol\":\"circle\"},\"mode\":\"lines\",\"name\":\"TF1\",\"orientation\":\"v\",\"showlegend\":true,\"x\":[\"2022-03-13T00:00:00\",\"2022-03-20T00:00:00\",\"2022-03-27T00:00:00\",\"2022-04-03T00:00:00\",\"2022-04-08T00:00:00\"],\"xaxis\":\"x\",\"y\":[0.55,21.8,32.083333333333336,0.75,10.833333333333334],\"yaxis\":\"y\",\"type\":\"scatter\"},{\"hovertemplate\":\"Cha\\u00eene=France2<br>Temps en jours=%{x}<br>Temps de parole en minutes=%{y}<extra></extra>\",\"legendgroup\":\"France2\",\"line\":{\"color\":\"#EF553B\",\"dash\":\"solid\"},\"marker\":{\"symbol\":\"circle\"},\"mode\":\"lines\",\"name\":\"France2\",\"orientation\":\"v\",\"showlegend\":true,\"x\":[\"2022-03-13T00:00:00\",\"2022-03-20T00:00:00\",\"2022-03-27T00:00:00\",\"2022-04-03T00:00:00\",\"2022-04-08T00:00:00\"],\"xaxis\":\"x\",\"y\":[0.4666666666666667,1.2,74.28333333333333,24.633333333333333,32.78333333333333],\"yaxis\":\"y\",\"type\":\"scatter\"},{\"hovertemplate\":\"Cha\\u00eene=France3<br>Temps en jours=%{x}<br>Temps de parole en minutes=%{y}<extra></extra>\",\"legendgroup\":\"France3\",\"line\":{\"color\":\"#00cc96\",\"dash\":\"solid\"},\"marker\":{\"symbol\":\"circle\"},\"mode\":\"lines\",\"name\":\"France3\",\"orientation\":\"v\",\"showlegend\":true,\"x\":[\"2022-03-13T00:00:00\",\"2022-03-20T00:00:00\",\"2022-03-27T00:00:00\",\"2022-04-03T00:00:00\",\"2022-04-08T00:00:00\"],\"xaxis\":\"x\",\"y\":[0.8833333333333333,19.983333333333334,21.316666666666666,1.0833333333333335,2.3833333333333333],\"yaxis\":\"y\",\"type\":\"scatter\"},{\"hovertemplate\":\"Cha\\u00eene=France5<br>Temps en jours=%{x}<br>Temps de parole en minutes=%{y}<extra></extra>\",\"legendgroup\":\"France5\",\"line\":{\"color\":\"#ab63fa\",\"dash\":\"solid\"},\"marker\":{\"symbol\":\"circle\"},\"mode\":\"lines\",\"name\":\"France5\",\"orientation\":\"v\",\"showlegend\":true,\"x\":[\"2022-03-13T00:00:00\",\"2022-03-20T00:00:00\",\"2022-03-27T00:00:00\",\"2022-04-03T00:00:00\",\"2022-04-08T00:00:00\"],\"xaxis\":\"x\",\"y\":[24.1,29.233333333333334,37.63333333333333,7.1,10.95],\"yaxis\":\"y\",\"type\":\"scatter\"},{\"hovertemplate\":\"Cha\\u00eene=M6<br>Temps en jours=%{x}<br>Temps de parole en minutes=%{y}<extra></extra>\",\"legendgroup\":\"M6\",\"line\":{\"color\":\"#FFA15A\",\"dash\":\"solid\"},\"marker\":{\"symbol\":\"circle\"},\"mode\":\"lines\",\"name\":\"M6\",\"orientation\":\"v\",\"showlegend\":true,\"x\":[\"2022-03-13T00:00:00\",\"2022-03-20T00:00:00\",\"2022-03-27T00:00:00\",\"2022-04-03T00:00:00\",\"2022-04-08T00:00:00\"],\"xaxis\":\"x\",\"y\":[0.5,2.0166666666666666,24.46666666666667,2.4,2.9833333333333334],\"yaxis\":\"y\",\"type\":\"scatter\"},{\"hovertemplate\":\"Cha\\u00eene=C8<br>Temps en jours=%{x}<br>Temps de parole en minutes=%{y}<extra></extra>\",\"legendgroup\":\"C8\",\"line\":{\"color\":\"#19d3f3\",\"dash\":\"solid\"},\"marker\":{\"symbol\":\"circle\"},\"mode\":\"lines\",\"name\":\"C8\",\"orientation\":\"v\",\"showlegend\":true,\"x\":[\"2022-03-13T00:00:00\",\"2022-03-20T00:00:00\",\"2022-03-27T00:00:00\",\"2022-04-03T00:00:00\",\"2022-04-08T00:00:00\"],\"xaxis\":\"x\",\"y\":[1.65,5.25,100.08333333333333,1.3666666666666667,9.933333333333334],\"yaxis\":\"y\",\"type\":\"scatter\"},{\"hovertemplate\":\"Cha\\u00eene=TMC<br>Temps en jours=%{x}<br>Temps de parole en minutes=%{y}<extra></extra>\",\"legendgroup\":\"TMC\",\"line\":{\"color\":\"#FF6692\",\"dash\":\"solid\"},\"marker\":{\"symbol\":\"circle\"},\"mode\":\"lines\",\"name\":\"TMC\",\"orientation\":\"v\",\"showlegend\":true,\"x\":[\"2022-03-13T00:00:00\",\"2022-03-20T00:00:00\",\"2022-03-27T00:00:00\",\"2022-04-03T00:00:00\",\"2022-04-08T00:00:00\"],\"xaxis\":\"x\",\"y\":[4.85,7.033333333333333,15.866666666666667,8.016666666666667,18.0],\"yaxis\":\"y\",\"type\":\"scatter\"},{\"hovertemplate\":\"Cha\\u00eene=BFMTV<br>Temps en jours=%{x}<br>Temps de parole en minutes=%{y}<extra></extra>\",\"legendgroup\":\"BFMTV\",\"line\":{\"color\":\"#B6E880\",\"dash\":\"solid\"},\"marker\":{\"symbol\":\"circle\"},\"mode\":\"lines\",\"name\":\"BFMTV\",\"orientation\":\"v\",\"showlegend\":true,\"x\":[\"2022-03-13T00:00:00\",\"2022-03-20T00:00:00\",\"2022-03-27T00:00:00\",\"2022-04-03T00:00:00\",\"2022-04-08T00:00:00\"],\"xaxis\":\"x\",\"y\":[15.383333333333335,143.8,228.03333333333336,12.133333333333333,33.21666666666666],\"yaxis\":\"y\",\"type\":\"scatter\"},{\"hovertemplate\":\"Cha\\u00eene=Cnews<br>Temps en jours=%{x}<br>Temps de parole en minutes=%{y}<extra></extra>\",\"legendgroup\":\"Cnews\",\"line\":{\"color\":\"#FF97FF\",\"dash\":\"solid\"},\"marker\":{\"symbol\":\"circle\"},\"mode\":\"lines\",\"name\":\"Cnews\",\"orientation\":\"v\",\"showlegend\":true,\"x\":[\"2022-03-13T00:00:00\",\"2022-03-20T00:00:00\",\"2022-03-27T00:00:00\",\"2022-04-03T00:00:00\",\"2022-04-08T00:00:00\"],\"xaxis\":\"x\",\"y\":[99.29999999999998,440.3333333333333,525.4,70.38333333333334,81.38333333333334],\"yaxis\":\"y\",\"type\":\"scatter\"},{\"hovertemplate\":\"Cha\\u00eene=LCI<br>Temps en jours=%{x}<br>Temps de parole en minutes=%{y}<extra></extra>\",\"legendgroup\":\"LCI\",\"line\":{\"color\":\"#FECB52\",\"dash\":\"solid\"},\"marker\":{\"symbol\":\"circle\"},\"mode\":\"lines\",\"name\":\"LCI\",\"orientation\":\"v\",\"showlegend\":true,\"x\":[\"2022-03-13T00:00:00\",\"2022-03-20T00:00:00\",\"2022-03-27T00:00:00\",\"2022-04-03T00:00:00\",\"2022-04-08T00:00:00\"],\"xaxis\":\"x\",\"y\":[7.1000000000000005,229.66666666666669,306.35,128.16666666666666,211.08333333333334],\"yaxis\":\"y\",\"type\":\"scatter\"},{\"hovertemplate\":\"Cha\\u00eene=FranceinfoTV<br>Temps en jours=%{x}<br>Temps de parole en minutes=%{y}<extra></extra>\",\"legendgroup\":\"FranceinfoTV\",\"line\":{\"color\":\"#636efa\",\"dash\":\"solid\"},\"marker\":{\"symbol\":\"circle\"},\"mode\":\"lines\",\"name\":\"FranceinfoTV\",\"orientation\":\"v\",\"showlegend\":true,\"x\":[\"2022-03-13T00:00:00\",\"2022-03-20T00:00:00\",\"2022-03-27T00:00:00\",\"2022-04-03T00:00:00\",\"2022-04-08T00:00:00\"],\"xaxis\":\"x\",\"y\":[27.633333333333333,191.06666666666666,298.8833333333333,143.93333333333334,184.35],\"yaxis\":\"y\",\"type\":\"scatter\"},{\"hovertemplate\":\"Cha\\u00eene=FranceInter<br>Temps en jours=%{x}<br>Temps de parole en minutes=%{y}<extra></extra>\",\"legendgroup\":\"FranceInter\",\"line\":{\"color\":\"#EF553B\",\"dash\":\"solid\"},\"marker\":{\"symbol\":\"circle\"},\"mode\":\"lines\",\"name\":\"FranceInter\",\"orientation\":\"v\",\"showlegend\":true,\"x\":[\"2022-03-13T00:00:00\",\"2022-03-20T00:00:00\",\"2022-03-27T00:00:00\",\"2022-04-03T00:00:00\",\"2022-04-08T00:00:00\"],\"xaxis\":\"x\",\"y\":[5.083333333333333,29.349999999999998,32.849999999999994,10.766666666666666,14.416666666666668],\"yaxis\":\"y\",\"type\":\"scatter\"},{\"hovertemplate\":\"Cha\\u00eene=FranceInfo<br>Temps en jours=%{x}<br>Temps de parole en minutes=%{y}<extra></extra>\",\"legendgroup\":\"FranceInfo\",\"line\":{\"color\":\"#00cc96\",\"dash\":\"solid\"},\"marker\":{\"symbol\":\"circle\"},\"mode\":\"lines\",\"name\":\"FranceInfo\",\"orientation\":\"v\",\"showlegend\":true,\"x\":[\"2022-03-13T00:00:00\",\"2022-03-20T00:00:00\",\"2022-03-27T00:00:00\",\"2022-04-03T00:00:00\",\"2022-04-08T00:00:00\"],\"xaxis\":\"x\",\"y\":[6.65,51.349999999999994,104.41666666666667,60.45,85.71666666666665],\"yaxis\":\"y\",\"type\":\"scatter\"},{\"hovertemplate\":\"Cha\\u00eene=FranceCulture<br>Temps en jours=%{x}<br>Temps de parole en minutes=%{y}<extra></extra>\",\"legendgroup\":\"FranceCulture\",\"line\":{\"color\":\"#ab63fa\",\"dash\":\"solid\"},\"marker\":{\"symbol\":\"circle\"},\"mode\":\"lines\",\"name\":\"FranceCulture\",\"orientation\":\"v\",\"showlegend\":true,\"x\":[\"2022-03-13T00:00:00\",\"2022-03-20T00:00:00\",\"2022-03-27T00:00:00\",\"2022-04-03T00:00:00\",\"2022-04-08T00:00:00\"],\"xaxis\":\"x\",\"y\":[30.51666666666667,31.26666666666667,44.083333333333336,0.45,9.1],\"yaxis\":\"y\",\"type\":\"scatter\"},{\"hovertemplate\":\"Cha\\u00eene=RTL<br>Temps en jours=%{x}<br>Temps de parole en minutes=%{y}<extra></extra>\",\"legendgroup\":\"RTL\",\"line\":{\"color\":\"#FFA15A\",\"dash\":\"solid\"},\"marker\":{\"symbol\":\"circle\"},\"mode\":\"lines\",\"name\":\"RTL\",\"orientation\":\"v\",\"showlegend\":true,\"x\":[\"2022-03-13T00:00:00\",\"2022-03-20T00:00:00\",\"2022-03-27T00:00:00\",\"2022-04-03T00:00:00\",\"2022-04-08T00:00:00\"],\"xaxis\":\"x\",\"y\":[6.133333333333334,119.9,129.31666666666666,11.649999999999999,15.416666666666668],\"yaxis\":\"y\",\"type\":\"scatter\"},{\"hovertemplate\":\"Cha\\u00eene=Europe1<br>Temps en jours=%{x}<br>Temps de parole en minutes=%{y}<extra></extra>\",\"legendgroup\":\"Europe1\",\"line\":{\"color\":\"#19d3f3\",\"dash\":\"solid\"},\"marker\":{\"symbol\":\"circle\"},\"mode\":\"lines\",\"name\":\"Europe1\",\"orientation\":\"v\",\"showlegend\":true,\"x\":[\"2022-03-13T00:00:00\",\"2022-03-20T00:00:00\",\"2022-03-27T00:00:00\",\"2022-04-03T00:00:00\",\"2022-04-08T00:00:00\"],\"xaxis\":\"x\",\"y\":[55.03333333333333,102.53333333333333,142.70000000000002,17.083333333333332,51.016666666666666],\"yaxis\":\"y\",\"type\":\"scatter\"},{\"hovertemplate\":\"Cha\\u00eene=RMC<br>Temps en jours=%{x}<br>Temps de parole en minutes=%{y}<extra></extra>\",\"legendgroup\":\"RMC\",\"line\":{\"color\":\"#FF6692\",\"dash\":\"solid\"},\"marker\":{\"symbol\":\"circle\"},\"mode\":\"lines\",\"name\":\"RMC\",\"orientation\":\"v\",\"showlegend\":true,\"x\":[\"2022-03-13T00:00:00\",\"2022-03-20T00:00:00\",\"2022-03-27T00:00:00\",\"2022-04-03T00:00:00\",\"2022-04-08T00:00:00\"],\"xaxis\":\"x\",\"y\":[140.08333333333334,140.41666666666669,143.21666666666667,8.25,17.133333333333333],\"yaxis\":\"y\",\"type\":\"scatter\"},{\"hovertemplate\":\"Cha\\u00eene=BFMBusiness<br>Temps en jours=%{x}<br>Temps de parole en minutes=%{y}<extra></extra>\",\"legendgroup\":\"BFMBusiness\",\"line\":{\"color\":\"#B6E880\",\"dash\":\"solid\"},\"marker\":{\"symbol\":\"circle\"},\"mode\":\"lines\",\"name\":\"BFMBusiness\",\"orientation\":\"v\",\"showlegend\":true,\"x\":[\"2022-03-13T00:00:00\",\"2022-03-20T00:00:00\",\"2022-03-27T00:00:00\"],\"xaxis\":\"x\",\"y\":[2.0833333333333335,2.0833333333333335,27.46666666666667],\"yaxis\":\"y\",\"type\":\"scatter\"},{\"hovertemplate\":\"Cha\\u00eene=RadioClassique<br>Temps en jours=%{x}<br>Temps de parole en minutes=%{y}<extra></extra>\",\"legendgroup\":\"RadioClassique\",\"line\":{\"color\":\"#FF97FF\",\"dash\":\"solid\"},\"marker\":{\"symbol\":\"circle\"},\"mode\":\"lines\",\"name\":\"RadioClassique\",\"orientation\":\"v\",\"showlegend\":true,\"x\":[\"2022-03-13T00:00:00\",\"2022-03-20T00:00:00\",\"2022-03-27T00:00:00\",\"2022-04-03T00:00:00\",\"2022-04-08T00:00:00\"],\"xaxis\":\"x\",\"y\":[0.0,0.0,0.0,0.0,0.0],\"yaxis\":\"y\",\"type\":\"scatter\"},{\"hovertemplate\":\"Cha\\u00eene=SudRadio<br>Temps en jours=%{x}<br>Temps de parole en minutes=%{y}<extra></extra>\",\"legendgroup\":\"SudRadio\",\"line\":{\"color\":\"#FECB52\",\"dash\":\"solid\"},\"marker\":{\"symbol\":\"circle\"},\"mode\":\"lines\",\"name\":\"SudRadio\",\"orientation\":\"v\",\"showlegend\":true,\"x\":[\"2022-03-13T00:00:00\",\"2022-03-20T00:00:00\",\"2022-03-27T00:00:00\",\"2022-04-03T00:00:00\",\"2022-04-08T00:00:00\"],\"xaxis\":\"x\",\"y\":[0.0,22.466666666666665,25.716666666666665,0.7666666666666666,1.6666666666666667],\"yaxis\":\"y\",\"type\":\"scatter\"},{\"hovertemplate\":\"Cha\\u00eene=TV5Monde<br>Temps en jours=%{x}<br>Temps de parole en minutes=%{y}<extra></extra>\",\"legendgroup\":\"TV5Monde\",\"line\":{\"color\":\"#636efa\",\"dash\":\"solid\"},\"marker\":{\"symbol\":\"circle\"},\"mode\":\"lines\",\"name\":\"TV5Monde\",\"orientation\":\"v\",\"showlegend\":true,\"x\":[\"2022-03-13T00:00:00\",\"2022-03-20T00:00:00\",\"2022-03-27T00:00:00\",\"2022-04-03T00:00:00\",\"2022-04-08T00:00:00\"],\"xaxis\":\"x\",\"y\":[0.6166666666666667,2.15,63.333333333333336,23.4,30.816666666666666],\"yaxis\":\"y\",\"type\":\"scatter\"},{\"hovertemplate\":\"Cha\\u00eene=Euronews<br>Temps en jours=%{x}<br>Temps de parole en minutes=%{y}<extra></extra>\",\"legendgroup\":\"Euronews\",\"line\":{\"color\":\"#EF553B\",\"dash\":\"solid\"},\"marker\":{\"symbol\":\"circle\"},\"mode\":\"lines\",\"name\":\"Euronews\",\"orientation\":\"v\",\"showlegend\":true,\"x\":[\"2022-03-13T00:00:00\",\"2022-03-20T00:00:00\",\"2022-03-27T00:00:00\"],\"xaxis\":\"x\",\"y\":[0.0,0.0,0.0],\"yaxis\":\"y\",\"type\":\"scatter\"},{\"hovertemplate\":\"Cha\\u00eene=RFI<br>Temps en jours=%{x}<br>Temps de parole en minutes=%{y}<extra></extra>\",\"legendgroup\":\"RFI\",\"line\":{\"color\":\"#00cc96\",\"dash\":\"solid\"},\"marker\":{\"symbol\":\"circle\"},\"mode\":\"lines\",\"name\":\"RFI\",\"orientation\":\"v\",\"showlegend\":true,\"x\":[\"2022-03-13T00:00:00\",\"2022-03-20T00:00:00\",\"2022-03-27T00:00:00\",\"2022-04-03T00:00:00\",\"2022-04-08T00:00:00\"],\"xaxis\":\"x\",\"y\":[8.0,11.35,48.150000000000006,10.416666666666668,20.016666666666666],\"yaxis\":\"y\",\"type\":\"scatter\"},{\"hovertemplate\":\"Cha\\u00eene=France24<br>Temps en jours=%{x}<br>Temps de parole en minutes=%{y}<extra></extra>\",\"legendgroup\":\"France24\",\"line\":{\"color\":\"#ab63fa\",\"dash\":\"solid\"},\"marker\":{\"symbol\":\"circle\"},\"mode\":\"lines\",\"name\":\"France24\",\"orientation\":\"v\",\"showlegend\":true,\"x\":[\"2022-03-13T00:00:00\",\"2022-03-20T00:00:00\",\"2022-03-27T00:00:00\",\"2022-04-03T00:00:00\",\"2022-04-08T00:00:00\"],\"xaxis\":\"x\",\"y\":[0.26666666666666666,3.1,28.56666666666667,13.733333333333334,19.3],\"yaxis\":\"y\",\"type\":\"scatter\"},{\"hovertemplate\":\"Cha\\u00eene=RMC Story<br>Temps en jours=%{x}<br>Temps de parole en minutes=%{y}<extra></extra>\",\"legendgroup\":\"RMC Story\",\"line\":{\"color\":\"#FFA15A\",\"dash\":\"solid\"},\"marker\":{\"symbol\":\"circle\"},\"mode\":\"lines\",\"name\":\"RMC Story\",\"orientation\":\"v\",\"showlegend\":true,\"x\":[\"2022-03-13T00:00:00\",\"2022-03-20T00:00:00\",\"2022-03-27T00:00:00\",\"2022-04-03T00:00:00\",\"2022-04-08T00:00:00\"],\"xaxis\":\"x\",\"y\":[91.16666666666667,91.33333333333333,91.33333333333333,1.7,7.4],\"yaxis\":\"y\",\"type\":\"scatter\"},{\"hovertemplate\":\"Cha\\u00eene=RMCDecouverte<br>Temps en jours=%{x}<br>Temps de parole en minutes=%{y}<extra></extra>\",\"legendgroup\":\"RMCDecouverte\",\"line\":{\"color\":\"#19d3f3\",\"dash\":\"solid\"},\"marker\":{\"symbol\":\"circle\"},\"mode\":\"lines\",\"name\":\"RMCDecouverte\",\"orientation\":\"v\",\"showlegend\":true,\"x\":[\"2022-03-27T00:00:00\"],\"xaxis\":\"x\",\"y\":[0.0],\"yaxis\":\"y\",\"type\":\"scatter\"}],                        {\"template\":{\"data\":{\"histogram2dcontour\":[{\"type\":\"histogram2dcontour\",\"colorbar\":{\"outlinewidth\":0,\"ticks\":\"\"},\"colorscale\":[[0.0,\"#0d0887\"],[0.1111111111111111,\"#46039f\"],[0.2222222222222222,\"#7201a8\"],[0.3333333333333333,\"#9c179e\"],[0.4444444444444444,\"#bd3786\"],[0.5555555555555556,\"#d8576b\"],[0.6666666666666666,\"#ed7953\"],[0.7777777777777778,\"#fb9f3a\"],[0.8888888888888888,\"#fdca26\"],[1.0,\"#f0f921\"]]}],\"choropleth\":[{\"type\":\"choropleth\",\"colorbar\":{\"outlinewidth\":0,\"ticks\":\"\"}}],\"histogram2d\":[{\"type\":\"histogram2d\",\"colorbar\":{\"outlinewidth\":0,\"ticks\":\"\"},\"colorscale\":[[0.0,\"#0d0887\"],[0.1111111111111111,\"#46039f\"],[0.2222222222222222,\"#7201a8\"],[0.3333333333333333,\"#9c179e\"],[0.4444444444444444,\"#bd3786\"],[0.5555555555555556,\"#d8576b\"],[0.6666666666666666,\"#ed7953\"],[0.7777777777777778,\"#fb9f3a\"],[0.8888888888888888,\"#fdca26\"],[1.0,\"#f0f921\"]]}],\"heatmap\":[{\"type\":\"heatmap\",\"colorbar\":{\"outlinewidth\":0,\"ticks\":\"\"},\"colorscale\":[[0.0,\"#0d0887\"],[0.1111111111111111,\"#46039f\"],[0.2222222222222222,\"#7201a8\"],[0.3333333333333333,\"#9c179e\"],[0.4444444444444444,\"#bd3786\"],[0.5555555555555556,\"#d8576b\"],[0.6666666666666666,\"#ed7953\"],[0.7777777777777778,\"#fb9f3a\"],[0.8888888888888888,\"#fdca26\"],[1.0,\"#f0f921\"]]}],\"heatmapgl\":[{\"type\":\"heatmapgl\",\"colorbar\":{\"outlinewidth\":0,\"ticks\":\"\"},\"colorscale\":[[0.0,\"#0d0887\"],[0.1111111111111111,\"#46039f\"],[0.2222222222222222,\"#7201a8\"],[0.3333333333333333,\"#9c179e\"],[0.4444444444444444,\"#bd3786\"],[0.5555555555555556,\"#d8576b\"],[0.6666666666666666,\"#ed7953\"],[0.7777777777777778,\"#fb9f3a\"],[0.8888888888888888,\"#fdca26\"],[1.0,\"#f0f921\"]]}],\"contourcarpet\":[{\"type\":\"contourcarpet\",\"colorbar\":{\"outlinewidth\":0,\"ticks\":\"\"}}],\"contour\":[{\"type\":\"contour\",\"colorbar\":{\"outlinewidth\":0,\"ticks\":\"\"},\"colorscale\":[[0.0,\"#0d0887\"],[0.1111111111111111,\"#46039f\"],[0.2222222222222222,\"#7201a8\"],[0.3333333333333333,\"#9c179e\"],[0.4444444444444444,\"#bd3786\"],[0.5555555555555556,\"#d8576b\"],[0.6666666666666666,\"#ed7953\"],[0.7777777777777778,\"#fb9f3a\"],[0.8888888888888888,\"#fdca26\"],[1.0,\"#f0f921\"]]}],\"surface\":[{\"type\":\"surface\",\"colorbar\":{\"outlinewidth\":0,\"ticks\":\"\"},\"colorscale\":[[0.0,\"#0d0887\"],[0.1111111111111111,\"#46039f\"],[0.2222222222222222,\"#7201a8\"],[0.3333333333333333,\"#9c179e\"],[0.4444444444444444,\"#bd3786\"],[0.5555555555555556,\"#d8576b\"],[0.6666666666666666,\"#ed7953\"],[0.7777777777777778,\"#fb9f3a\"],[0.8888888888888888,\"#fdca26\"],[1.0,\"#f0f921\"]]}],\"mesh3d\":[{\"type\":\"mesh3d\",\"colorbar\":{\"outlinewidth\":0,\"ticks\":\"\"}}],\"scatter\":[{\"marker\":{\"line\":{\"color\":\"#283442\"}},\"type\":\"scatter\"}],\"parcoords\":[{\"type\":\"parcoords\",\"line\":{\"colorbar\":{\"outlinewidth\":0,\"ticks\":\"\"}}}],\"scatterpolargl\":[{\"type\":\"scatterpolargl\",\"marker\":{\"colorbar\":{\"outlinewidth\":0,\"ticks\":\"\"}}}],\"bar\":[{\"error_x\":{\"color\":\"#f2f5fa\"},\"error_y\":{\"color\":\"#f2f5fa\"},\"marker\":{\"line\":{\"color\":\"rgb(17,17,17)\",\"width\":0.5},\"pattern\":{\"fillmode\":\"overlay\",\"size\":10,\"solidity\":0.2}},\"type\":\"bar\"}],\"scattergeo\":[{\"type\":\"scattergeo\",\"marker\":{\"colorbar\":{\"outlinewidth\":0,\"ticks\":\"\"}}}],\"scatterpolar\":[{\"type\":\"scatterpolar\",\"marker\":{\"colorbar\":{\"outlinewidth\":0,\"ticks\":\"\"}}}],\"histogram\":[{\"marker\":{\"pattern\":{\"fillmode\":\"overlay\",\"size\":10,\"solidity\":0.2}},\"type\":\"histogram\"}],\"scattergl\":[{\"marker\":{\"line\":{\"color\":\"#283442\"}},\"type\":\"scattergl\"}],\"scatter3d\":[{\"type\":\"scatter3d\",\"line\":{\"colorbar\":{\"outlinewidth\":0,\"ticks\":\"\"}},\"marker\":{\"colorbar\":{\"outlinewidth\":0,\"ticks\":\"\"}}}],\"scattermapbox\":[{\"type\":\"scattermapbox\",\"marker\":{\"colorbar\":{\"outlinewidth\":0,\"ticks\":\"\"}}}],\"scatterternary\":[{\"type\":\"scatterternary\",\"marker\":{\"colorbar\":{\"outlinewidth\":0,\"ticks\":\"\"}}}],\"scattercarpet\":[{\"type\":\"scattercarpet\",\"marker\":{\"colorbar\":{\"outlinewidth\":0,\"ticks\":\"\"}}}],\"carpet\":[{\"aaxis\":{\"endlinecolor\":\"#A2B1C6\",\"gridcolor\":\"#506784\",\"linecolor\":\"#506784\",\"minorgridcolor\":\"#506784\",\"startlinecolor\":\"#A2B1C6\"},\"baxis\":{\"endlinecolor\":\"#A2B1C6\",\"gridcolor\":\"#506784\",\"linecolor\":\"#506784\",\"minorgridcolor\":\"#506784\",\"startlinecolor\":\"#A2B1C6\"},\"type\":\"carpet\"}],\"table\":[{\"cells\":{\"fill\":{\"color\":\"#506784\"},\"line\":{\"color\":\"rgb(17,17,17)\"}},\"header\":{\"fill\":{\"color\":\"#2a3f5f\"},\"line\":{\"color\":\"rgb(17,17,17)\"}},\"type\":\"table\"}],\"barpolar\":[{\"marker\":{\"line\":{\"color\":\"rgb(17,17,17)\",\"width\":0.5},\"pattern\":{\"fillmode\":\"overlay\",\"size\":10,\"solidity\":0.2}},\"type\":\"barpolar\"}],\"pie\":[{\"automargin\":true,\"type\":\"pie\"}]},\"layout\":{\"autotypenumbers\":\"strict\",\"colorway\":[\"#636efa\",\"#EF553B\",\"#00cc96\",\"#ab63fa\",\"#FFA15A\",\"#19d3f3\",\"#FF6692\",\"#B6E880\",\"#FF97FF\",\"#FECB52\"],\"font\":{\"color\":\"#f2f5fa\"},\"hovermode\":\"closest\",\"hoverlabel\":{\"align\":\"left\"},\"paper_bgcolor\":\"rgb(17,17,17)\",\"plot_bgcolor\":\"rgb(17,17,17)\",\"polar\":{\"bgcolor\":\"rgb(17,17,17)\",\"angularaxis\":{\"gridcolor\":\"#506784\",\"linecolor\":\"#506784\",\"ticks\":\"\"},\"radialaxis\":{\"gridcolor\":\"#506784\",\"linecolor\":\"#506784\",\"ticks\":\"\"}},\"ternary\":{\"bgcolor\":\"rgb(17,17,17)\",\"aaxis\":{\"gridcolor\":\"#506784\",\"linecolor\":\"#506784\",\"ticks\":\"\"},\"baxis\":{\"gridcolor\":\"#506784\",\"linecolor\":\"#506784\",\"ticks\":\"\"},\"caxis\":{\"gridcolor\":\"#506784\",\"linecolor\":\"#506784\",\"ticks\":\"\"}},\"coloraxis\":{\"colorbar\":{\"outlinewidth\":0,\"ticks\":\"\"}},\"colorscale\":{\"sequential\":[[0.0,\"#0d0887\"],[0.1111111111111111,\"#46039f\"],[0.2222222222222222,\"#7201a8\"],[0.3333333333333333,\"#9c179e\"],[0.4444444444444444,\"#bd3786\"],[0.5555555555555556,\"#d8576b\"],[0.6666666666666666,\"#ed7953\"],[0.7777777777777778,\"#fb9f3a\"],[0.8888888888888888,\"#fdca26\"],[1.0,\"#f0f921\"]],\"sequentialminus\":[[0.0,\"#0d0887\"],[0.1111111111111111,\"#46039f\"],[0.2222222222222222,\"#7201a8\"],[0.3333333333333333,\"#9c179e\"],[0.4444444444444444,\"#bd3786\"],[0.5555555555555556,\"#d8576b\"],[0.6666666666666666,\"#ed7953\"],[0.7777777777777778,\"#fb9f3a\"],[0.8888888888888888,\"#fdca26\"],[1.0,\"#f0f921\"]],\"diverging\":[[0,\"#8e0152\"],[0.1,\"#c51b7d\"],[0.2,\"#de77ae\"],[0.3,\"#f1b6da\"],[0.4,\"#fde0ef\"],[0.5,\"#f7f7f7\"],[0.6,\"#e6f5d0\"],[0.7,\"#b8e186\"],[0.8,\"#7fbc41\"],[0.9,\"#4d9221\"],[1,\"#276419\"]]},\"xaxis\":{\"gridcolor\":\"#283442\",\"linecolor\":\"#506784\",\"ticks\":\"\",\"title\":{\"standoff\":15},\"zerolinecolor\":\"#283442\",\"automargin\":true,\"zerolinewidth\":2},\"yaxis\":{\"gridcolor\":\"#283442\",\"linecolor\":\"#506784\",\"ticks\":\"\",\"title\":{\"standoff\":15},\"zerolinecolor\":\"#283442\",\"automargin\":true,\"zerolinewidth\":2},\"scene\":{\"xaxis\":{\"backgroundcolor\":\"rgb(17,17,17)\",\"gridcolor\":\"#506784\",\"linecolor\":\"#506784\",\"showbackground\":true,\"ticks\":\"\",\"zerolinecolor\":\"#C8D4E3\",\"gridwidth\":2},\"yaxis\":{\"backgroundcolor\":\"rgb(17,17,17)\",\"gridcolor\":\"#506784\",\"linecolor\":\"#506784\",\"showbackground\":true,\"ticks\":\"\",\"zerolinecolor\":\"#C8D4E3\",\"gridwidth\":2},\"zaxis\":{\"backgroundcolor\":\"rgb(17,17,17)\",\"gridcolor\":\"#506784\",\"linecolor\":\"#506784\",\"showbackground\":true,\"ticks\":\"\",\"zerolinecolor\":\"#C8D4E3\",\"gridwidth\":2}},\"shapedefaults\":{\"line\":{\"color\":\"#f2f5fa\"}},\"annotationdefaults\":{\"arrowcolor\":\"#f2f5fa\",\"arrowhead\":0,\"arrowwidth\":1},\"geo\":{\"bgcolor\":\"rgb(17,17,17)\",\"landcolor\":\"rgb(17,17,17)\",\"subunitcolor\":\"#506784\",\"showland\":true,\"showlakes\":true,\"lakecolor\":\"rgb(17,17,17)\"},\"title\":{\"x\":0.05},\"updatemenudefaults\":{\"bgcolor\":\"#506784\",\"borderwidth\":0},\"sliderdefaults\":{\"bgcolor\":\"#C8D4E3\",\"borderwidth\":1,\"bordercolor\":\"rgb(17,17,17)\",\"tickwidth\":0},\"mapbox\":{\"style\":\"dark\"}}},\"xaxis\":{\"anchor\":\"y\",\"domain\":[0.0,1.0],\"title\":{\"text\":\"Temps en jours\"}},\"yaxis\":{\"anchor\":\"x\",\"domain\":[0.0,1.0],\"title\":{\"text\":\"Temps de parole en minutes\"}},\"legend\":{\"title\":{\"text\":\"Cha\\u00eene\"},\"tracegroupgap\":0},\"title\":{\"text\":\"Melenchon : \\u00c9volution du temps de parole en fonction du temps\"}},                        {\"responsive\": true}                    ).then(function(){\n                            \nvar gd = document.getElementById('8b712f5d-6c68-4094-8498-422aeb44d7b6');\nvar x = new MutationObserver(function (mutations, observer) {{\n        var display = window.getComputedStyle(gd).display;\n        if (!display || display === 'none') {{\n            console.log([gd, 'removed!']);\n            Plotly.purge(gd);\n            observer.disconnect();\n        }}\n}});\n\n// Listen for the removal of the full notebook cells\nvar notebookContainer = gd.closest('#notebook-container');\nif (notebookContainer) {{\n    x.observe(notebookContainer, {childList: true});\n}}\n\n// Listen for the clearing of the current output cell\nvar outputEl = gd.closest('.output');\nif (outputEl) {{\n    x.observe(outputEl, {childList: true});\n}}\n\n                        })                };                });            </script>        </div>"
     },
     "metadata": {},
     "output_type": "display_data"
    }
   ],
   "source": [
    "px.line(df_melenchon, x='Période', y=\"Somme\", color='Chaîne', labels={\n",
    "    \"Période\": \"Temps en jours\",\n",
    "    \"Somme\": \"Temps de parole en minutes\",\n",
    "    \"Chaîne\": \"Chaîne\"\n",
    "}, title=\"Melenchon : Évolution du temps de parole en fonction du temps\")\n"
   ],
   "metadata": {
    "collapsed": false,
    "pycharm": {
     "name": "#%%\n"
    }
   }
  },
  {
   "cell_type": "code",
   "execution_count": 29,
   "outputs": [
    {
     "data": {
      "application/vnd.plotly.v1+json": {
       "data": [
        {
         "hovertemplate": "Chaîne=TF1<br>Temps en jours=%{x}<br>Temps de parole en minutes=%{y}<extra></extra>",
         "legendgroup": "TF1",
         "line": {
          "color": "#636efa",
          "dash": "solid"
         },
         "marker": {
          "symbol": "circle"
         },
         "mode": "lines",
         "name": "TF1",
         "orientation": "v",
         "showlegend": true,
         "x": [
          "2022-03-13T00:00:00",
          "2022-03-20T00:00:00",
          "2022-03-27T00:00:00",
          "2022-04-03T00:00:00",
          "2022-04-08T00:00:00"
         ],
         "xaxis": "x",
         "y": [
          10.733333333333333,
          39.93333333333333,
          46.88333333333333,
          0.7166666666666667,
          10.85
         ],
         "yaxis": "y",
         "type": "scatter"
        },
        {
         "hovertemplate": "Chaîne=France2<br>Temps en jours=%{x}<br>Temps de parole en minutes=%{y}<extra></extra>",
         "legendgroup": "France2",
         "line": {
          "color": "#EF553B",
          "dash": "solid"
         },
         "marker": {
          "symbol": "circle"
         },
         "mode": "lines",
         "name": "France2",
         "orientation": "v",
         "showlegend": true,
         "x": [
          "2022-03-13T00:00:00",
          "2022-03-20T00:00:00",
          "2022-03-27T00:00:00",
          "2022-04-03T00:00:00",
          "2022-04-08T00:00:00"
         ],
         "xaxis": "x",
         "y": [
          0.15,
          7.95,
          80.6,
          7.683333333333334,
          32.766666666666666
         ],
         "yaxis": "y",
         "type": "scatter"
        },
        {
         "hovertemplate": "Chaîne=France3<br>Temps en jours=%{x}<br>Temps de parole en minutes=%{y}<extra></extra>",
         "legendgroup": "France3",
         "line": {
          "color": "#00cc96",
          "dash": "solid"
         },
         "marker": {
          "symbol": "circle"
         },
         "mode": "lines",
         "name": "France3",
         "orientation": "v",
         "showlegend": true,
         "x": [
          "2022-03-13T00:00:00",
          "2022-03-20T00:00:00",
          "2022-03-27T00:00:00",
          "2022-04-03T00:00:00",
          "2022-04-08T00:00:00"
         ],
         "xaxis": "x",
         "y": [
          2.15,
          23.400000000000002,
          24.316666666666666,
          1.2166666666666668,
          2.3833333333333333
         ],
         "yaxis": "y",
         "type": "scatter"
        },
        {
         "hovertemplate": "Chaîne=France5<br>Temps en jours=%{x}<br>Temps de parole en minutes=%{y}<extra></extra>",
         "legendgroup": "France5",
         "line": {
          "color": "#ab63fa",
          "dash": "solid"
         },
         "marker": {
          "symbol": "circle"
         },
         "mode": "lines",
         "name": "France5",
         "orientation": "v",
         "showlegend": true,
         "x": [
          "2022-03-13T00:00:00",
          "2022-03-20T00:00:00",
          "2022-03-27T00:00:00",
          "2022-04-03T00:00:00",
          "2022-04-08T00:00:00"
         ],
         "xaxis": "x",
         "y": [
          4.716666666666667,
          10.200000000000001,
          49.400000000000006,
          8.066666666666666,
          11.866666666666667
         ],
         "yaxis": "y",
         "type": "scatter"
        },
        {
         "hovertemplate": "Chaîne=M6<br>Temps en jours=%{x}<br>Temps de parole en minutes=%{y}<extra></extra>",
         "legendgroup": "M6",
         "line": {
          "color": "#FFA15A",
          "dash": "solid"
         },
         "marker": {
          "symbol": "circle"
         },
         "mode": "lines",
         "name": "M6",
         "orientation": "v",
         "showlegend": true,
         "x": [
          "2022-03-13T00:00:00",
          "2022-03-20T00:00:00",
          "2022-03-27T00:00:00",
          "2022-04-03T00:00:00",
          "2022-04-08T00:00:00"
         ],
         "xaxis": "x",
         "y": [
          1.2333333333333334,
          3.55,
          22.233333333333334,
          1.3833333333333333,
          2.7666666666666666
         ],
         "yaxis": "y",
         "type": "scatter"
        },
        {
         "hovertemplate": "Chaîne=C8<br>Temps en jours=%{x}<br>Temps de parole en minutes=%{y}<extra></extra>",
         "legendgroup": "C8",
         "line": {
          "color": "#19d3f3",
          "dash": "solid"
         },
         "marker": {
          "symbol": "circle"
         },
         "mode": "lines",
         "name": "C8",
         "orientation": "v",
         "showlegend": true,
         "x": [
          "2022-03-13T00:00:00",
          "2022-03-20T00:00:00",
          "2022-03-27T00:00:00",
          "2022-04-03T00:00:00",
          "2022-04-08T00:00:00"
         ],
         "xaxis": "x",
         "y": [
          0.5833333333333334,
          17.916666666666668,
          144.48333333333332,
          1.0,
          11.383333333333333
         ],
         "yaxis": "y",
         "type": "scatter"
        },
        {
         "hovertemplate": "Chaîne=TMC<br>Temps en jours=%{x}<br>Temps de parole en minutes=%{y}<extra></extra>",
         "legendgroup": "TMC",
         "line": {
          "color": "#FF6692",
          "dash": "solid"
         },
         "marker": {
          "symbol": "circle"
         },
         "mode": "lines",
         "name": "TMC",
         "orientation": "v",
         "showlegend": true,
         "x": [
          "2022-03-13T00:00:00",
          "2022-03-20T00:00:00",
          "2022-03-27T00:00:00",
          "2022-04-03T00:00:00",
          "2022-04-08T00:00:00"
         ],
         "xaxis": "x",
         "y": [
          7.183333333333334,
          10.383333333333333,
          17.5,
          10.583333333333334,
          18.3
         ],
         "yaxis": "y",
         "type": "scatter"
        },
        {
         "hovertemplate": "Chaîne=BFMTV<br>Temps en jours=%{x}<br>Temps de parole en minutes=%{y}<extra></extra>",
         "legendgroup": "BFMTV",
         "line": {
          "color": "#B6E880",
          "dash": "solid"
         },
         "marker": {
          "symbol": "circle"
         },
         "mode": "lines",
         "name": "BFMTV",
         "orientation": "v",
         "showlegend": true,
         "x": [
          "2022-03-13T00:00:00",
          "2022-03-20T00:00:00",
          "2022-03-27T00:00:00",
          "2022-04-03T00:00:00",
          "2022-04-08T00:00:00"
         ],
         "xaxis": "x",
         "y": [
          0.6,
          215.21666666666667,
          389.6333333333333,
          3.8166666666666664,
          33.1
         ],
         "yaxis": "y",
         "type": "scatter"
        },
        {
         "hovertemplate": "Chaîne=Cnews<br>Temps en jours=%{x}<br>Temps de parole en minutes=%{y}<extra></extra>",
         "legendgroup": "Cnews",
         "line": {
          "color": "#FF97FF",
          "dash": "solid"
         },
         "marker": {
          "symbol": "circle"
         },
         "mode": "lines",
         "name": "Cnews",
         "orientation": "v",
         "showlegend": true,
         "x": [
          "2022-03-13T00:00:00",
          "2022-03-20T00:00:00",
          "2022-03-27T00:00:00",
          "2022-04-03T00:00:00",
          "2022-04-08T00:00:00"
         ],
         "xaxis": "x",
         "y": [
          290.0,
          530.3666666666667,
          726.35,
          66.45,
          83.83333333333334
         ],
         "yaxis": "y",
         "type": "scatter"
        },
        {
         "hovertemplate": "Chaîne=RMCDecouverte<br>Temps en jours=%{x}<br>Temps de parole en minutes=%{y}<extra></extra>",
         "legendgroup": "RMCDecouverte",
         "line": {
          "color": "#FECB52",
          "dash": "solid"
         },
         "marker": {
          "symbol": "circle"
         },
         "mode": "lines",
         "name": "RMCDecouverte",
         "orientation": "v",
         "showlegend": true,
         "x": [
          "2022-03-13T00:00:00",
          "2022-03-20T00:00:00",
          "2022-03-27T00:00:00"
         ],
         "xaxis": "x",
         "y": [
          0.0,
          0.0,
          0.0
         ],
         "yaxis": "y",
         "type": "scatter"
        },
        {
         "hovertemplate": "Chaîne=LCI<br>Temps en jours=%{x}<br>Temps de parole en minutes=%{y}<extra></extra>",
         "legendgroup": "LCI",
         "line": {
          "color": "#636efa",
          "dash": "solid"
         },
         "marker": {
          "symbol": "circle"
         },
         "mode": "lines",
         "name": "LCI",
         "orientation": "v",
         "showlegend": true,
         "x": [
          "2022-03-13T00:00:00",
          "2022-03-20T00:00:00",
          "2022-03-27T00:00:00",
          "2022-04-03T00:00:00",
          "2022-04-08T00:00:00"
         ],
         "xaxis": "x",
         "y": [
          38.833333333333336,
          234.25,
          434.3333333333333,
          97.86666666666666,
          210.70000000000002
         ],
         "yaxis": "y",
         "type": "scatter"
        },
        {
         "hovertemplate": "Chaîne=FranceinfoTV<br>Temps en jours=%{x}<br>Temps de parole en minutes=%{y}<extra></extra>",
         "legendgroup": "FranceinfoTV",
         "line": {
          "color": "#EF553B",
          "dash": "solid"
         },
         "marker": {
          "symbol": "circle"
         },
         "mode": "lines",
         "name": "FranceinfoTV",
         "orientation": "v",
         "showlegend": true,
         "x": [
          "2022-03-13T00:00:00",
          "2022-03-20T00:00:00",
          "2022-03-27T00:00:00",
          "2022-04-03T00:00:00",
          "2022-04-08T00:00:00"
         ],
         "xaxis": "x",
         "y": [
          43.86666666666667,
          134.2,
          310.24999999999994,
          107.30000000000001,
          183.71666666666667
         ],
         "yaxis": "y",
         "type": "scatter"
        },
        {
         "hovertemplate": "Chaîne=FranceInter<br>Temps en jours=%{x}<br>Temps de parole en minutes=%{y}<extra></extra>",
         "legendgroup": "FranceInter",
         "line": {
          "color": "#00cc96",
          "dash": "solid"
         },
         "marker": {
          "symbol": "circle"
         },
         "mode": "lines",
         "name": "FranceInter",
         "orientation": "v",
         "showlegend": true,
         "x": [
          "2022-03-13T00:00:00",
          "2022-03-20T00:00:00",
          "2022-03-27T00:00:00",
          "2022-04-03T00:00:00",
          "2022-04-08T00:00:00"
         ],
         "xaxis": "x",
         "y": [
          2.1166666666666667,
          11.266666666666666,
          39.21666666666667,
          7.5,
          13.1
         ],
         "yaxis": "y",
         "type": "scatter"
        },
        {
         "hovertemplate": "Chaîne=FranceInfo<br>Temps en jours=%{x}<br>Temps de parole en minutes=%{y}<extra></extra>",
         "legendgroup": "FranceInfo",
         "line": {
          "color": "#ab63fa",
          "dash": "solid"
         },
         "marker": {
          "symbol": "circle"
         },
         "mode": "lines",
         "name": "FranceInfo",
         "orientation": "v",
         "showlegend": true,
         "x": [
          "2022-03-13T00:00:00",
          "2022-03-20T00:00:00",
          "2022-03-27T00:00:00",
          "2022-04-03T00:00:00",
          "2022-04-08T00:00:00"
         ],
         "xaxis": "x",
         "y": [
          11.433333333333334,
          74.56666666666666,
          149.2,
          29.2,
          80.51666666666665
         ],
         "yaxis": "y",
         "type": "scatter"
        },
        {
         "hovertemplate": "Chaîne=FranceCulture<br>Temps en jours=%{x}<br>Temps de parole en minutes=%{y}<extra></extra>",
         "legendgroup": "FranceCulture",
         "line": {
          "color": "#FFA15A",
          "dash": "solid"
         },
         "marker": {
          "symbol": "circle"
         },
         "mode": "lines",
         "name": "FranceCulture",
         "orientation": "v",
         "showlegend": true,
         "x": [
          "2022-03-13T00:00:00",
          "2022-03-20T00:00:00",
          "2022-03-27T00:00:00",
          "2022-04-03T00:00:00",
          "2022-04-08T00:00:00"
         ],
         "xaxis": "x",
         "y": [
          0.35,
          2.7,
          37.900000000000006,
          11.216666666666667,
          11.883333333333333
         ],
         "yaxis": "y",
         "type": "scatter"
        },
        {
         "hovertemplate": "Chaîne=RTL<br>Temps en jours=%{x}<br>Temps de parole en minutes=%{y}<extra></extra>",
         "legendgroup": "RTL",
         "line": {
          "color": "#19d3f3",
          "dash": "solid"
         },
         "marker": {
          "symbol": "circle"
         },
         "mode": "lines",
         "name": "RTL",
         "orientation": "v",
         "showlegend": true,
         "x": [
          "2022-03-13T00:00:00",
          "2022-03-20T00:00:00",
          "2022-03-27T00:00:00",
          "2022-04-03T00:00:00",
          "2022-04-08T00:00:00"
         ],
         "xaxis": "x",
         "y": [
          3.9833333333333334,
          75.31666666666668,
          135.70000000000002,
          12.0,
          15.466666666666665
         ],
         "yaxis": "y",
         "type": "scatter"
        },
        {
         "hovertemplate": "Chaîne=Europe1<br>Temps en jours=%{x}<br>Temps de parole en minutes=%{y}<extra></extra>",
         "legendgroup": "Europe1",
         "line": {
          "color": "#FF6692",
          "dash": "solid"
         },
         "marker": {
          "symbol": "circle"
         },
         "mode": "lines",
         "name": "Europe1",
         "orientation": "v",
         "showlegend": true,
         "x": [
          "2022-03-13T00:00:00",
          "2022-03-20T00:00:00",
          "2022-03-27T00:00:00",
          "2022-04-03T00:00:00",
          "2022-04-08T00:00:00"
         ],
         "xaxis": "x",
         "y": [
          89.08333333333333,
          115.05,
          139.7,
          57.10000000000001,
          63.36666666666667
         ],
         "yaxis": "y",
         "type": "scatter"
        },
        {
         "hovertemplate": "Chaîne=RMC<br>Temps en jours=%{x}<br>Temps de parole en minutes=%{y}<extra></extra>",
         "legendgroup": "RMC",
         "line": {
          "color": "#B6E880",
          "dash": "solid"
         },
         "marker": {
          "symbol": "circle"
         },
         "mode": "lines",
         "name": "RMC",
         "orientation": "v",
         "showlegend": true,
         "x": [
          "2022-03-13T00:00:00",
          "2022-03-20T00:00:00",
          "2022-03-27T00:00:00",
          "2022-04-03T00:00:00",
          "2022-04-08T00:00:00"
         ],
         "xaxis": "x",
         "y": [
          8.05,
          59.366666666666674,
          191.55,
          3.9333333333333336,
          17.666666666666664
         ],
         "yaxis": "y",
         "type": "scatter"
        },
        {
         "hovertemplate": "Chaîne=BFMBusiness<br>Temps en jours=%{x}<br>Temps de parole en minutes=%{y}<extra></extra>",
         "legendgroup": "BFMBusiness",
         "line": {
          "color": "#FF97FF",
          "dash": "solid"
         },
         "marker": {
          "symbol": "circle"
         },
         "mode": "lines",
         "name": "BFMBusiness",
         "orientation": "v",
         "showlegend": true,
         "x": [
          "2022-03-13T00:00:00",
          "2022-03-20T00:00:00",
          "2022-03-27T00:00:00"
         ],
         "xaxis": "x",
         "y": [
          34.88333333333333,
          34.88333333333333,
          42.66666666666667
         ],
         "yaxis": "y",
         "type": "scatter"
        },
        {
         "hovertemplate": "Chaîne=RadioClassique<br>Temps en jours=%{x}<br>Temps de parole en minutes=%{y}<extra></extra>",
         "legendgroup": "RadioClassique",
         "line": {
          "color": "#FECB52",
          "dash": "solid"
         },
         "marker": {
          "symbol": "circle"
         },
         "mode": "lines",
         "name": "RadioClassique",
         "orientation": "v",
         "showlegend": true,
         "x": [
          "2022-03-13T00:00:00",
          "2022-03-20T00:00:00",
          "2022-03-27T00:00:00",
          "2022-04-03T00:00:00",
          "2022-04-08T00:00:00"
         ],
         "xaxis": "x",
         "y": [
          0.0,
          0.43333333333333335,
          0.43333333333333335,
          0.0,
          0.0
         ],
         "yaxis": "y",
         "type": "scatter"
        },
        {
         "hovertemplate": "Chaîne=SudRadio<br>Temps en jours=%{x}<br>Temps de parole en minutes=%{y}<extra></extra>",
         "legendgroup": "SudRadio",
         "line": {
          "color": "#636efa",
          "dash": "solid"
         },
         "marker": {
          "symbol": "circle"
         },
         "mode": "lines",
         "name": "SudRadio",
         "orientation": "v",
         "showlegend": true,
         "x": [
          "2022-03-13T00:00:00",
          "2022-03-20T00:00:00",
          "2022-03-27T00:00:00",
          "2022-04-03T00:00:00",
          "2022-04-08T00:00:00"
         ],
         "xaxis": "x",
         "y": [
          38.333333333333336,
          43.833333333333336,
          46.63333333333333,
          0.7666666666666666,
          1.6666666666666667
         ],
         "yaxis": "y",
         "type": "scatter"
        },
        {
         "hovertemplate": "Chaîne=TV5Monde<br>Temps en jours=%{x}<br>Temps de parole en minutes=%{y}<extra></extra>",
         "legendgroup": "TV5Monde",
         "line": {
          "color": "#EF553B",
          "dash": "solid"
         },
         "marker": {
          "symbol": "circle"
         },
         "mode": "lines",
         "name": "TV5Monde",
         "orientation": "v",
         "showlegend": true,
         "x": [
          "2022-03-13T00:00:00",
          "2022-03-20T00:00:00",
          "2022-03-27T00:00:00",
          "2022-04-03T00:00:00",
          "2022-04-08T00:00:00"
         ],
         "xaxis": "x",
         "y": [
          13.916666666666668,
          17.866666666666667,
          88.51666666666667,
          7.683333333333334,
          32.03333333333333
         ],
         "yaxis": "y",
         "type": "scatter"
        },
        {
         "hovertemplate": "Chaîne=Euronews<br>Temps en jours=%{x}<br>Temps de parole en minutes=%{y}<extra></extra>",
         "legendgroup": "Euronews",
         "line": {
          "color": "#00cc96",
          "dash": "solid"
         },
         "marker": {
          "symbol": "circle"
         },
         "mode": "lines",
         "name": "Euronews",
         "orientation": "v",
         "showlegend": true,
         "x": [
          "2022-03-13T00:00:00",
          "2022-03-20T00:00:00",
          "2022-03-27T00:00:00"
         ],
         "xaxis": "x",
         "y": [
          0.0,
          0.0,
          0.0
         ],
         "yaxis": "y",
         "type": "scatter"
        },
        {
         "hovertemplate": "Chaîne=RFI<br>Temps en jours=%{x}<br>Temps de parole en minutes=%{y}<extra></extra>",
         "legendgroup": "RFI",
         "line": {
          "color": "#ab63fa",
          "dash": "solid"
         },
         "marker": {
          "symbol": "circle"
         },
         "mode": "lines",
         "name": "RFI",
         "orientation": "v",
         "showlegend": true,
         "x": [
          "2022-03-13T00:00:00",
          "2022-03-20T00:00:00",
          "2022-03-27T00:00:00",
          "2022-04-03T00:00:00",
          "2022-04-08T00:00:00"
         ],
         "xaxis": "x",
         "y": [
          1.0833333333333333,
          26.95,
          43.5,
          4.416666666666667,
          11.516666666666666
         ],
         "yaxis": "y",
         "type": "scatter"
        },
        {
         "hovertemplate": "Chaîne=France24<br>Temps en jours=%{x}<br>Temps de parole en minutes=%{y}<extra></extra>",
         "legendgroup": "France24",
         "line": {
          "color": "#FFA15A",
          "dash": "solid"
         },
         "marker": {
          "symbol": "circle"
         },
         "mode": "lines",
         "name": "France24",
         "orientation": "v",
         "showlegend": true,
         "x": [
          "2022-03-13T00:00:00",
          "2022-03-20T00:00:00",
          "2022-03-27T00:00:00",
          "2022-04-03T00:00:00",
          "2022-04-08T00:00:00"
         ],
         "xaxis": "x",
         "y": [
          3.466666666666667,
          19.816666666666666,
          33.46666666666667,
          11.883333333333333,
          20.233333333333334
         ],
         "yaxis": "y",
         "type": "scatter"
        },
        {
         "hovertemplate": "Chaîne=RMC Story<br>Temps en jours=%{x}<br>Temps de parole en minutes=%{y}<extra></extra>",
         "legendgroup": "RMC Story",
         "line": {
          "color": "#19d3f3",
          "dash": "solid"
         },
         "marker": {
          "symbol": "circle"
         },
         "mode": "lines",
         "name": "RMC Story",
         "orientation": "v",
         "showlegend": true,
         "x": [
          "2022-03-13T00:00:00",
          "2022-03-20T00:00:00",
          "2022-03-27T00:00:00",
          "2022-04-03T00:00:00",
          "2022-04-08T00:00:00"
         ],
         "xaxis": "x",
         "y": [
          2.4,
          35.6,
          121.73333333333333,
          0.9,
          7.433333333333334
         ],
         "yaxis": "y",
         "type": "scatter"
        }
       ],
       "layout": {
        "template": {
         "data": {
          "histogram2dcontour": [
           {
            "type": "histogram2dcontour",
            "colorbar": {
             "outlinewidth": 0,
             "ticks": ""
            },
            "colorscale": [
             [
              0.0,
              "#0d0887"
             ],
             [
              0.1111111111111111,
              "#46039f"
             ],
             [
              0.2222222222222222,
              "#7201a8"
             ],
             [
              0.3333333333333333,
              "#9c179e"
             ],
             [
              0.4444444444444444,
              "#bd3786"
             ],
             [
              0.5555555555555556,
              "#d8576b"
             ],
             [
              0.6666666666666666,
              "#ed7953"
             ],
             [
              0.7777777777777778,
              "#fb9f3a"
             ],
             [
              0.8888888888888888,
              "#fdca26"
             ],
             [
              1.0,
              "#f0f921"
             ]
            ]
           }
          ],
          "choropleth": [
           {
            "type": "choropleth",
            "colorbar": {
             "outlinewidth": 0,
             "ticks": ""
            }
           }
          ],
          "histogram2d": [
           {
            "type": "histogram2d",
            "colorbar": {
             "outlinewidth": 0,
             "ticks": ""
            },
            "colorscale": [
             [
              0.0,
              "#0d0887"
             ],
             [
              0.1111111111111111,
              "#46039f"
             ],
             [
              0.2222222222222222,
              "#7201a8"
             ],
             [
              0.3333333333333333,
              "#9c179e"
             ],
             [
              0.4444444444444444,
              "#bd3786"
             ],
             [
              0.5555555555555556,
              "#d8576b"
             ],
             [
              0.6666666666666666,
              "#ed7953"
             ],
             [
              0.7777777777777778,
              "#fb9f3a"
             ],
             [
              0.8888888888888888,
              "#fdca26"
             ],
             [
              1.0,
              "#f0f921"
             ]
            ]
           }
          ],
          "heatmap": [
           {
            "type": "heatmap",
            "colorbar": {
             "outlinewidth": 0,
             "ticks": ""
            },
            "colorscale": [
             [
              0.0,
              "#0d0887"
             ],
             [
              0.1111111111111111,
              "#46039f"
             ],
             [
              0.2222222222222222,
              "#7201a8"
             ],
             [
              0.3333333333333333,
              "#9c179e"
             ],
             [
              0.4444444444444444,
              "#bd3786"
             ],
             [
              0.5555555555555556,
              "#d8576b"
             ],
             [
              0.6666666666666666,
              "#ed7953"
             ],
             [
              0.7777777777777778,
              "#fb9f3a"
             ],
             [
              0.8888888888888888,
              "#fdca26"
             ],
             [
              1.0,
              "#f0f921"
             ]
            ]
           }
          ],
          "heatmapgl": [
           {
            "type": "heatmapgl",
            "colorbar": {
             "outlinewidth": 0,
             "ticks": ""
            },
            "colorscale": [
             [
              0.0,
              "#0d0887"
             ],
             [
              0.1111111111111111,
              "#46039f"
             ],
             [
              0.2222222222222222,
              "#7201a8"
             ],
             [
              0.3333333333333333,
              "#9c179e"
             ],
             [
              0.4444444444444444,
              "#bd3786"
             ],
             [
              0.5555555555555556,
              "#d8576b"
             ],
             [
              0.6666666666666666,
              "#ed7953"
             ],
             [
              0.7777777777777778,
              "#fb9f3a"
             ],
             [
              0.8888888888888888,
              "#fdca26"
             ],
             [
              1.0,
              "#f0f921"
             ]
            ]
           }
          ],
          "contourcarpet": [
           {
            "type": "contourcarpet",
            "colorbar": {
             "outlinewidth": 0,
             "ticks": ""
            }
           }
          ],
          "contour": [
           {
            "type": "contour",
            "colorbar": {
             "outlinewidth": 0,
             "ticks": ""
            },
            "colorscale": [
             [
              0.0,
              "#0d0887"
             ],
             [
              0.1111111111111111,
              "#46039f"
             ],
             [
              0.2222222222222222,
              "#7201a8"
             ],
             [
              0.3333333333333333,
              "#9c179e"
             ],
             [
              0.4444444444444444,
              "#bd3786"
             ],
             [
              0.5555555555555556,
              "#d8576b"
             ],
             [
              0.6666666666666666,
              "#ed7953"
             ],
             [
              0.7777777777777778,
              "#fb9f3a"
             ],
             [
              0.8888888888888888,
              "#fdca26"
             ],
             [
              1.0,
              "#f0f921"
             ]
            ]
           }
          ],
          "surface": [
           {
            "type": "surface",
            "colorbar": {
             "outlinewidth": 0,
             "ticks": ""
            },
            "colorscale": [
             [
              0.0,
              "#0d0887"
             ],
             [
              0.1111111111111111,
              "#46039f"
             ],
             [
              0.2222222222222222,
              "#7201a8"
             ],
             [
              0.3333333333333333,
              "#9c179e"
             ],
             [
              0.4444444444444444,
              "#bd3786"
             ],
             [
              0.5555555555555556,
              "#d8576b"
             ],
             [
              0.6666666666666666,
              "#ed7953"
             ],
             [
              0.7777777777777778,
              "#fb9f3a"
             ],
             [
              0.8888888888888888,
              "#fdca26"
             ],
             [
              1.0,
              "#f0f921"
             ]
            ]
           }
          ],
          "mesh3d": [
           {
            "type": "mesh3d",
            "colorbar": {
             "outlinewidth": 0,
             "ticks": ""
            }
           }
          ],
          "scatter": [
           {
            "marker": {
             "line": {
              "color": "#283442"
             }
            },
            "type": "scatter"
           }
          ],
          "parcoords": [
           {
            "type": "parcoords",
            "line": {
             "colorbar": {
              "outlinewidth": 0,
              "ticks": ""
             }
            }
           }
          ],
          "scatterpolargl": [
           {
            "type": "scatterpolargl",
            "marker": {
             "colorbar": {
              "outlinewidth": 0,
              "ticks": ""
             }
            }
           }
          ],
          "bar": [
           {
            "error_x": {
             "color": "#f2f5fa"
            },
            "error_y": {
             "color": "#f2f5fa"
            },
            "marker": {
             "line": {
              "color": "rgb(17,17,17)",
              "width": 0.5
             },
             "pattern": {
              "fillmode": "overlay",
              "size": 10,
              "solidity": 0.2
             }
            },
            "type": "bar"
           }
          ],
          "scattergeo": [
           {
            "type": "scattergeo",
            "marker": {
             "colorbar": {
              "outlinewidth": 0,
              "ticks": ""
             }
            }
           }
          ],
          "scatterpolar": [
           {
            "type": "scatterpolar",
            "marker": {
             "colorbar": {
              "outlinewidth": 0,
              "ticks": ""
             }
            }
           }
          ],
          "histogram": [
           {
            "marker": {
             "pattern": {
              "fillmode": "overlay",
              "size": 10,
              "solidity": 0.2
             }
            },
            "type": "histogram"
           }
          ],
          "scattergl": [
           {
            "marker": {
             "line": {
              "color": "#283442"
             }
            },
            "type": "scattergl"
           }
          ],
          "scatter3d": [
           {
            "type": "scatter3d",
            "line": {
             "colorbar": {
              "outlinewidth": 0,
              "ticks": ""
             }
            },
            "marker": {
             "colorbar": {
              "outlinewidth": 0,
              "ticks": ""
             }
            }
           }
          ],
          "scattermapbox": [
           {
            "type": "scattermapbox",
            "marker": {
             "colorbar": {
              "outlinewidth": 0,
              "ticks": ""
             }
            }
           }
          ],
          "scatterternary": [
           {
            "type": "scatterternary",
            "marker": {
             "colorbar": {
              "outlinewidth": 0,
              "ticks": ""
             }
            }
           }
          ],
          "scattercarpet": [
           {
            "type": "scattercarpet",
            "marker": {
             "colorbar": {
              "outlinewidth": 0,
              "ticks": ""
             }
            }
           }
          ],
          "carpet": [
           {
            "aaxis": {
             "endlinecolor": "#A2B1C6",
             "gridcolor": "#506784",
             "linecolor": "#506784",
             "minorgridcolor": "#506784",
             "startlinecolor": "#A2B1C6"
            },
            "baxis": {
             "endlinecolor": "#A2B1C6",
             "gridcolor": "#506784",
             "linecolor": "#506784",
             "minorgridcolor": "#506784",
             "startlinecolor": "#A2B1C6"
            },
            "type": "carpet"
           }
          ],
          "table": [
           {
            "cells": {
             "fill": {
              "color": "#506784"
             },
             "line": {
              "color": "rgb(17,17,17)"
             }
            },
            "header": {
             "fill": {
              "color": "#2a3f5f"
             },
             "line": {
              "color": "rgb(17,17,17)"
             }
            },
            "type": "table"
           }
          ],
          "barpolar": [
           {
            "marker": {
             "line": {
              "color": "rgb(17,17,17)",
              "width": 0.5
             },
             "pattern": {
              "fillmode": "overlay",
              "size": 10,
              "solidity": 0.2
             }
            },
            "type": "barpolar"
           }
          ],
          "pie": [
           {
            "automargin": true,
            "type": "pie"
           }
          ]
         },
         "layout": {
          "autotypenumbers": "strict",
          "colorway": [
           "#636efa",
           "#EF553B",
           "#00cc96",
           "#ab63fa",
           "#FFA15A",
           "#19d3f3",
           "#FF6692",
           "#B6E880",
           "#FF97FF",
           "#FECB52"
          ],
          "font": {
           "color": "#f2f5fa"
          },
          "hovermode": "closest",
          "hoverlabel": {
           "align": "left"
          },
          "paper_bgcolor": "rgb(17,17,17)",
          "plot_bgcolor": "rgb(17,17,17)",
          "polar": {
           "bgcolor": "rgb(17,17,17)",
           "angularaxis": {
            "gridcolor": "#506784",
            "linecolor": "#506784",
            "ticks": ""
           },
           "radialaxis": {
            "gridcolor": "#506784",
            "linecolor": "#506784",
            "ticks": ""
           }
          },
          "ternary": {
           "bgcolor": "rgb(17,17,17)",
           "aaxis": {
            "gridcolor": "#506784",
            "linecolor": "#506784",
            "ticks": ""
           },
           "baxis": {
            "gridcolor": "#506784",
            "linecolor": "#506784",
            "ticks": ""
           },
           "caxis": {
            "gridcolor": "#506784",
            "linecolor": "#506784",
            "ticks": ""
           }
          },
          "coloraxis": {
           "colorbar": {
            "outlinewidth": 0,
            "ticks": ""
           }
          },
          "colorscale": {
           "sequential": [
            [
             0.0,
             "#0d0887"
            ],
            [
             0.1111111111111111,
             "#46039f"
            ],
            [
             0.2222222222222222,
             "#7201a8"
            ],
            [
             0.3333333333333333,
             "#9c179e"
            ],
            [
             0.4444444444444444,
             "#bd3786"
            ],
            [
             0.5555555555555556,
             "#d8576b"
            ],
            [
             0.6666666666666666,
             "#ed7953"
            ],
            [
             0.7777777777777778,
             "#fb9f3a"
            ],
            [
             0.8888888888888888,
             "#fdca26"
            ],
            [
             1.0,
             "#f0f921"
            ]
           ],
           "sequentialminus": [
            [
             0.0,
             "#0d0887"
            ],
            [
             0.1111111111111111,
             "#46039f"
            ],
            [
             0.2222222222222222,
             "#7201a8"
            ],
            [
             0.3333333333333333,
             "#9c179e"
            ],
            [
             0.4444444444444444,
             "#bd3786"
            ],
            [
             0.5555555555555556,
             "#d8576b"
            ],
            [
             0.6666666666666666,
             "#ed7953"
            ],
            [
             0.7777777777777778,
             "#fb9f3a"
            ],
            [
             0.8888888888888888,
             "#fdca26"
            ],
            [
             1.0,
             "#f0f921"
            ]
           ],
           "diverging": [
            [
             0,
             "#8e0152"
            ],
            [
             0.1,
             "#c51b7d"
            ],
            [
             0.2,
             "#de77ae"
            ],
            [
             0.3,
             "#f1b6da"
            ],
            [
             0.4,
             "#fde0ef"
            ],
            [
             0.5,
             "#f7f7f7"
            ],
            [
             0.6,
             "#e6f5d0"
            ],
            [
             0.7,
             "#b8e186"
            ],
            [
             0.8,
             "#7fbc41"
            ],
            [
             0.9,
             "#4d9221"
            ],
            [
             1,
             "#276419"
            ]
           ]
          },
          "xaxis": {
           "gridcolor": "#283442",
           "linecolor": "#506784",
           "ticks": "",
           "title": {
            "standoff": 15
           },
           "zerolinecolor": "#283442",
           "automargin": true,
           "zerolinewidth": 2
          },
          "yaxis": {
           "gridcolor": "#283442",
           "linecolor": "#506784",
           "ticks": "",
           "title": {
            "standoff": 15
           },
           "zerolinecolor": "#283442",
           "automargin": true,
           "zerolinewidth": 2
          },
          "scene": {
           "xaxis": {
            "backgroundcolor": "rgb(17,17,17)",
            "gridcolor": "#506784",
            "linecolor": "#506784",
            "showbackground": true,
            "ticks": "",
            "zerolinecolor": "#C8D4E3",
            "gridwidth": 2
           },
           "yaxis": {
            "backgroundcolor": "rgb(17,17,17)",
            "gridcolor": "#506784",
            "linecolor": "#506784",
            "showbackground": true,
            "ticks": "",
            "zerolinecolor": "#C8D4E3",
            "gridwidth": 2
           },
           "zaxis": {
            "backgroundcolor": "rgb(17,17,17)",
            "gridcolor": "#506784",
            "linecolor": "#506784",
            "showbackground": true,
            "ticks": "",
            "zerolinecolor": "#C8D4E3",
            "gridwidth": 2
           }
          },
          "shapedefaults": {
           "line": {
            "color": "#f2f5fa"
           }
          },
          "annotationdefaults": {
           "arrowcolor": "#f2f5fa",
           "arrowhead": 0,
           "arrowwidth": 1
          },
          "geo": {
           "bgcolor": "rgb(17,17,17)",
           "landcolor": "rgb(17,17,17)",
           "subunitcolor": "#506784",
           "showland": true,
           "showlakes": true,
           "lakecolor": "rgb(17,17,17)"
          },
          "title": {
           "x": 0.05
          },
          "updatemenudefaults": {
           "bgcolor": "#506784",
           "borderwidth": 0
          },
          "sliderdefaults": {
           "bgcolor": "#C8D4E3",
           "borderwidth": 1,
           "bordercolor": "rgb(17,17,17)",
           "tickwidth": 0
          },
          "mapbox": {
           "style": "dark"
          }
         }
        },
        "xaxis": {
         "anchor": "y",
         "domain": [
          0.0,
          1.0
         ],
         "title": {
          "text": "Temps en jours"
         }
        },
        "yaxis": {
         "anchor": "x",
         "domain": [
          0.0,
          1.0
         ],
         "title": {
          "text": "Temps de parole en minutes"
         }
        },
        "legend": {
         "title": {
          "text": "Chaîne"
         },
         "tracegroupgap": 0
        },
        "title": {
         "text": "Pecresse : Évolution du temps de parole en fonction du temps"
        }
       },
       "config": {
        "plotlyServerURL": "https://plot.ly"
       }
      },
      "text/html": "<div>                            <div id=\"29be492b-250b-4507-8b3b-019ad8ef1377\" class=\"plotly-graph-div\" style=\"height:525px; width:100%;\"></div>            <script type=\"text/javascript\">                require([\"plotly\"], function(Plotly) {                    window.PLOTLYENV=window.PLOTLYENV || {};                                    if (document.getElementById(\"29be492b-250b-4507-8b3b-019ad8ef1377\")) {                    Plotly.newPlot(                        \"29be492b-250b-4507-8b3b-019ad8ef1377\",                        [{\"hovertemplate\":\"Cha\\u00eene=TF1<br>Temps en jours=%{x}<br>Temps de parole en minutes=%{y}<extra></extra>\",\"legendgroup\":\"TF1\",\"line\":{\"color\":\"#636efa\",\"dash\":\"solid\"},\"marker\":{\"symbol\":\"circle\"},\"mode\":\"lines\",\"name\":\"TF1\",\"orientation\":\"v\",\"showlegend\":true,\"x\":[\"2022-03-13T00:00:00\",\"2022-03-20T00:00:00\",\"2022-03-27T00:00:00\",\"2022-04-03T00:00:00\",\"2022-04-08T00:00:00\"],\"xaxis\":\"x\",\"y\":[10.733333333333333,39.93333333333333,46.88333333333333,0.7166666666666667,10.85],\"yaxis\":\"y\",\"type\":\"scatter\"},{\"hovertemplate\":\"Cha\\u00eene=France2<br>Temps en jours=%{x}<br>Temps de parole en minutes=%{y}<extra></extra>\",\"legendgroup\":\"France2\",\"line\":{\"color\":\"#EF553B\",\"dash\":\"solid\"},\"marker\":{\"symbol\":\"circle\"},\"mode\":\"lines\",\"name\":\"France2\",\"orientation\":\"v\",\"showlegend\":true,\"x\":[\"2022-03-13T00:00:00\",\"2022-03-20T00:00:00\",\"2022-03-27T00:00:00\",\"2022-04-03T00:00:00\",\"2022-04-08T00:00:00\"],\"xaxis\":\"x\",\"y\":[0.15,7.95,80.6,7.683333333333334,32.766666666666666],\"yaxis\":\"y\",\"type\":\"scatter\"},{\"hovertemplate\":\"Cha\\u00eene=France3<br>Temps en jours=%{x}<br>Temps de parole en minutes=%{y}<extra></extra>\",\"legendgroup\":\"France3\",\"line\":{\"color\":\"#00cc96\",\"dash\":\"solid\"},\"marker\":{\"symbol\":\"circle\"},\"mode\":\"lines\",\"name\":\"France3\",\"orientation\":\"v\",\"showlegend\":true,\"x\":[\"2022-03-13T00:00:00\",\"2022-03-20T00:00:00\",\"2022-03-27T00:00:00\",\"2022-04-03T00:00:00\",\"2022-04-08T00:00:00\"],\"xaxis\":\"x\",\"y\":[2.15,23.400000000000002,24.316666666666666,1.2166666666666668,2.3833333333333333],\"yaxis\":\"y\",\"type\":\"scatter\"},{\"hovertemplate\":\"Cha\\u00eene=France5<br>Temps en jours=%{x}<br>Temps de parole en minutes=%{y}<extra></extra>\",\"legendgroup\":\"France5\",\"line\":{\"color\":\"#ab63fa\",\"dash\":\"solid\"},\"marker\":{\"symbol\":\"circle\"},\"mode\":\"lines\",\"name\":\"France5\",\"orientation\":\"v\",\"showlegend\":true,\"x\":[\"2022-03-13T00:00:00\",\"2022-03-20T00:00:00\",\"2022-03-27T00:00:00\",\"2022-04-03T00:00:00\",\"2022-04-08T00:00:00\"],\"xaxis\":\"x\",\"y\":[4.716666666666667,10.200000000000001,49.400000000000006,8.066666666666666,11.866666666666667],\"yaxis\":\"y\",\"type\":\"scatter\"},{\"hovertemplate\":\"Cha\\u00eene=M6<br>Temps en jours=%{x}<br>Temps de parole en minutes=%{y}<extra></extra>\",\"legendgroup\":\"M6\",\"line\":{\"color\":\"#FFA15A\",\"dash\":\"solid\"},\"marker\":{\"symbol\":\"circle\"},\"mode\":\"lines\",\"name\":\"M6\",\"orientation\":\"v\",\"showlegend\":true,\"x\":[\"2022-03-13T00:00:00\",\"2022-03-20T00:00:00\",\"2022-03-27T00:00:00\",\"2022-04-03T00:00:00\",\"2022-04-08T00:00:00\"],\"xaxis\":\"x\",\"y\":[1.2333333333333334,3.55,22.233333333333334,1.3833333333333333,2.7666666666666666],\"yaxis\":\"y\",\"type\":\"scatter\"},{\"hovertemplate\":\"Cha\\u00eene=C8<br>Temps en jours=%{x}<br>Temps de parole en minutes=%{y}<extra></extra>\",\"legendgroup\":\"C8\",\"line\":{\"color\":\"#19d3f3\",\"dash\":\"solid\"},\"marker\":{\"symbol\":\"circle\"},\"mode\":\"lines\",\"name\":\"C8\",\"orientation\":\"v\",\"showlegend\":true,\"x\":[\"2022-03-13T00:00:00\",\"2022-03-20T00:00:00\",\"2022-03-27T00:00:00\",\"2022-04-03T00:00:00\",\"2022-04-08T00:00:00\"],\"xaxis\":\"x\",\"y\":[0.5833333333333334,17.916666666666668,144.48333333333332,1.0,11.383333333333333],\"yaxis\":\"y\",\"type\":\"scatter\"},{\"hovertemplate\":\"Cha\\u00eene=TMC<br>Temps en jours=%{x}<br>Temps de parole en minutes=%{y}<extra></extra>\",\"legendgroup\":\"TMC\",\"line\":{\"color\":\"#FF6692\",\"dash\":\"solid\"},\"marker\":{\"symbol\":\"circle\"},\"mode\":\"lines\",\"name\":\"TMC\",\"orientation\":\"v\",\"showlegend\":true,\"x\":[\"2022-03-13T00:00:00\",\"2022-03-20T00:00:00\",\"2022-03-27T00:00:00\",\"2022-04-03T00:00:00\",\"2022-04-08T00:00:00\"],\"xaxis\":\"x\",\"y\":[7.183333333333334,10.383333333333333,17.5,10.583333333333334,18.3],\"yaxis\":\"y\",\"type\":\"scatter\"},{\"hovertemplate\":\"Cha\\u00eene=BFMTV<br>Temps en jours=%{x}<br>Temps de parole en minutes=%{y}<extra></extra>\",\"legendgroup\":\"BFMTV\",\"line\":{\"color\":\"#B6E880\",\"dash\":\"solid\"},\"marker\":{\"symbol\":\"circle\"},\"mode\":\"lines\",\"name\":\"BFMTV\",\"orientation\":\"v\",\"showlegend\":true,\"x\":[\"2022-03-13T00:00:00\",\"2022-03-20T00:00:00\",\"2022-03-27T00:00:00\",\"2022-04-03T00:00:00\",\"2022-04-08T00:00:00\"],\"xaxis\":\"x\",\"y\":[0.6,215.21666666666667,389.6333333333333,3.8166666666666664,33.1],\"yaxis\":\"y\",\"type\":\"scatter\"},{\"hovertemplate\":\"Cha\\u00eene=Cnews<br>Temps en jours=%{x}<br>Temps de parole en minutes=%{y}<extra></extra>\",\"legendgroup\":\"Cnews\",\"line\":{\"color\":\"#FF97FF\",\"dash\":\"solid\"},\"marker\":{\"symbol\":\"circle\"},\"mode\":\"lines\",\"name\":\"Cnews\",\"orientation\":\"v\",\"showlegend\":true,\"x\":[\"2022-03-13T00:00:00\",\"2022-03-20T00:00:00\",\"2022-03-27T00:00:00\",\"2022-04-03T00:00:00\",\"2022-04-08T00:00:00\"],\"xaxis\":\"x\",\"y\":[290.0,530.3666666666667,726.35,66.45,83.83333333333334],\"yaxis\":\"y\",\"type\":\"scatter\"},{\"hovertemplate\":\"Cha\\u00eene=RMCDecouverte<br>Temps en jours=%{x}<br>Temps de parole en minutes=%{y}<extra></extra>\",\"legendgroup\":\"RMCDecouverte\",\"line\":{\"color\":\"#FECB52\",\"dash\":\"solid\"},\"marker\":{\"symbol\":\"circle\"},\"mode\":\"lines\",\"name\":\"RMCDecouverte\",\"orientation\":\"v\",\"showlegend\":true,\"x\":[\"2022-03-13T00:00:00\",\"2022-03-20T00:00:00\",\"2022-03-27T00:00:00\"],\"xaxis\":\"x\",\"y\":[0.0,0.0,0.0],\"yaxis\":\"y\",\"type\":\"scatter\"},{\"hovertemplate\":\"Cha\\u00eene=LCI<br>Temps en jours=%{x}<br>Temps de parole en minutes=%{y}<extra></extra>\",\"legendgroup\":\"LCI\",\"line\":{\"color\":\"#636efa\",\"dash\":\"solid\"},\"marker\":{\"symbol\":\"circle\"},\"mode\":\"lines\",\"name\":\"LCI\",\"orientation\":\"v\",\"showlegend\":true,\"x\":[\"2022-03-13T00:00:00\",\"2022-03-20T00:00:00\",\"2022-03-27T00:00:00\",\"2022-04-03T00:00:00\",\"2022-04-08T00:00:00\"],\"xaxis\":\"x\",\"y\":[38.833333333333336,234.25,434.3333333333333,97.86666666666666,210.70000000000002],\"yaxis\":\"y\",\"type\":\"scatter\"},{\"hovertemplate\":\"Cha\\u00eene=FranceinfoTV<br>Temps en jours=%{x}<br>Temps de parole en minutes=%{y}<extra></extra>\",\"legendgroup\":\"FranceinfoTV\",\"line\":{\"color\":\"#EF553B\",\"dash\":\"solid\"},\"marker\":{\"symbol\":\"circle\"},\"mode\":\"lines\",\"name\":\"FranceinfoTV\",\"orientation\":\"v\",\"showlegend\":true,\"x\":[\"2022-03-13T00:00:00\",\"2022-03-20T00:00:00\",\"2022-03-27T00:00:00\",\"2022-04-03T00:00:00\",\"2022-04-08T00:00:00\"],\"xaxis\":\"x\",\"y\":[43.86666666666667,134.2,310.24999999999994,107.30000000000001,183.71666666666667],\"yaxis\":\"y\",\"type\":\"scatter\"},{\"hovertemplate\":\"Cha\\u00eene=FranceInter<br>Temps en jours=%{x}<br>Temps de parole en minutes=%{y}<extra></extra>\",\"legendgroup\":\"FranceInter\",\"line\":{\"color\":\"#00cc96\",\"dash\":\"solid\"},\"marker\":{\"symbol\":\"circle\"},\"mode\":\"lines\",\"name\":\"FranceInter\",\"orientation\":\"v\",\"showlegend\":true,\"x\":[\"2022-03-13T00:00:00\",\"2022-03-20T00:00:00\",\"2022-03-27T00:00:00\",\"2022-04-03T00:00:00\",\"2022-04-08T00:00:00\"],\"xaxis\":\"x\",\"y\":[2.1166666666666667,11.266666666666666,39.21666666666667,7.5,13.1],\"yaxis\":\"y\",\"type\":\"scatter\"},{\"hovertemplate\":\"Cha\\u00eene=FranceInfo<br>Temps en jours=%{x}<br>Temps de parole en minutes=%{y}<extra></extra>\",\"legendgroup\":\"FranceInfo\",\"line\":{\"color\":\"#ab63fa\",\"dash\":\"solid\"},\"marker\":{\"symbol\":\"circle\"},\"mode\":\"lines\",\"name\":\"FranceInfo\",\"orientation\":\"v\",\"showlegend\":true,\"x\":[\"2022-03-13T00:00:00\",\"2022-03-20T00:00:00\",\"2022-03-27T00:00:00\",\"2022-04-03T00:00:00\",\"2022-04-08T00:00:00\"],\"xaxis\":\"x\",\"y\":[11.433333333333334,74.56666666666666,149.2,29.2,80.51666666666665],\"yaxis\":\"y\",\"type\":\"scatter\"},{\"hovertemplate\":\"Cha\\u00eene=FranceCulture<br>Temps en jours=%{x}<br>Temps de parole en minutes=%{y}<extra></extra>\",\"legendgroup\":\"FranceCulture\",\"line\":{\"color\":\"#FFA15A\",\"dash\":\"solid\"},\"marker\":{\"symbol\":\"circle\"},\"mode\":\"lines\",\"name\":\"FranceCulture\",\"orientation\":\"v\",\"showlegend\":true,\"x\":[\"2022-03-13T00:00:00\",\"2022-03-20T00:00:00\",\"2022-03-27T00:00:00\",\"2022-04-03T00:00:00\",\"2022-04-08T00:00:00\"],\"xaxis\":\"x\",\"y\":[0.35,2.7,37.900000000000006,11.216666666666667,11.883333333333333],\"yaxis\":\"y\",\"type\":\"scatter\"},{\"hovertemplate\":\"Cha\\u00eene=RTL<br>Temps en jours=%{x}<br>Temps de parole en minutes=%{y}<extra></extra>\",\"legendgroup\":\"RTL\",\"line\":{\"color\":\"#19d3f3\",\"dash\":\"solid\"},\"marker\":{\"symbol\":\"circle\"},\"mode\":\"lines\",\"name\":\"RTL\",\"orientation\":\"v\",\"showlegend\":true,\"x\":[\"2022-03-13T00:00:00\",\"2022-03-20T00:00:00\",\"2022-03-27T00:00:00\",\"2022-04-03T00:00:00\",\"2022-04-08T00:00:00\"],\"xaxis\":\"x\",\"y\":[3.9833333333333334,75.31666666666668,135.70000000000002,12.0,15.466666666666665],\"yaxis\":\"y\",\"type\":\"scatter\"},{\"hovertemplate\":\"Cha\\u00eene=Europe1<br>Temps en jours=%{x}<br>Temps de parole en minutes=%{y}<extra></extra>\",\"legendgroup\":\"Europe1\",\"line\":{\"color\":\"#FF6692\",\"dash\":\"solid\"},\"marker\":{\"symbol\":\"circle\"},\"mode\":\"lines\",\"name\":\"Europe1\",\"orientation\":\"v\",\"showlegend\":true,\"x\":[\"2022-03-13T00:00:00\",\"2022-03-20T00:00:00\",\"2022-03-27T00:00:00\",\"2022-04-03T00:00:00\",\"2022-04-08T00:00:00\"],\"xaxis\":\"x\",\"y\":[89.08333333333333,115.05,139.7,57.10000000000001,63.36666666666667],\"yaxis\":\"y\",\"type\":\"scatter\"},{\"hovertemplate\":\"Cha\\u00eene=RMC<br>Temps en jours=%{x}<br>Temps de parole en minutes=%{y}<extra></extra>\",\"legendgroup\":\"RMC\",\"line\":{\"color\":\"#B6E880\",\"dash\":\"solid\"},\"marker\":{\"symbol\":\"circle\"},\"mode\":\"lines\",\"name\":\"RMC\",\"orientation\":\"v\",\"showlegend\":true,\"x\":[\"2022-03-13T00:00:00\",\"2022-03-20T00:00:00\",\"2022-03-27T00:00:00\",\"2022-04-03T00:00:00\",\"2022-04-08T00:00:00\"],\"xaxis\":\"x\",\"y\":[8.05,59.366666666666674,191.55,3.9333333333333336,17.666666666666664],\"yaxis\":\"y\",\"type\":\"scatter\"},{\"hovertemplate\":\"Cha\\u00eene=BFMBusiness<br>Temps en jours=%{x}<br>Temps de parole en minutes=%{y}<extra></extra>\",\"legendgroup\":\"BFMBusiness\",\"line\":{\"color\":\"#FF97FF\",\"dash\":\"solid\"},\"marker\":{\"symbol\":\"circle\"},\"mode\":\"lines\",\"name\":\"BFMBusiness\",\"orientation\":\"v\",\"showlegend\":true,\"x\":[\"2022-03-13T00:00:00\",\"2022-03-20T00:00:00\",\"2022-03-27T00:00:00\"],\"xaxis\":\"x\",\"y\":[34.88333333333333,34.88333333333333,42.66666666666667],\"yaxis\":\"y\",\"type\":\"scatter\"},{\"hovertemplate\":\"Cha\\u00eene=RadioClassique<br>Temps en jours=%{x}<br>Temps de parole en minutes=%{y}<extra></extra>\",\"legendgroup\":\"RadioClassique\",\"line\":{\"color\":\"#FECB52\",\"dash\":\"solid\"},\"marker\":{\"symbol\":\"circle\"},\"mode\":\"lines\",\"name\":\"RadioClassique\",\"orientation\":\"v\",\"showlegend\":true,\"x\":[\"2022-03-13T00:00:00\",\"2022-03-20T00:00:00\",\"2022-03-27T00:00:00\",\"2022-04-03T00:00:00\",\"2022-04-08T00:00:00\"],\"xaxis\":\"x\",\"y\":[0.0,0.43333333333333335,0.43333333333333335,0.0,0.0],\"yaxis\":\"y\",\"type\":\"scatter\"},{\"hovertemplate\":\"Cha\\u00eene=SudRadio<br>Temps en jours=%{x}<br>Temps de parole en minutes=%{y}<extra></extra>\",\"legendgroup\":\"SudRadio\",\"line\":{\"color\":\"#636efa\",\"dash\":\"solid\"},\"marker\":{\"symbol\":\"circle\"},\"mode\":\"lines\",\"name\":\"SudRadio\",\"orientation\":\"v\",\"showlegend\":true,\"x\":[\"2022-03-13T00:00:00\",\"2022-03-20T00:00:00\",\"2022-03-27T00:00:00\",\"2022-04-03T00:00:00\",\"2022-04-08T00:00:00\"],\"xaxis\":\"x\",\"y\":[38.333333333333336,43.833333333333336,46.63333333333333,0.7666666666666666,1.6666666666666667],\"yaxis\":\"y\",\"type\":\"scatter\"},{\"hovertemplate\":\"Cha\\u00eene=TV5Monde<br>Temps en jours=%{x}<br>Temps de parole en minutes=%{y}<extra></extra>\",\"legendgroup\":\"TV5Monde\",\"line\":{\"color\":\"#EF553B\",\"dash\":\"solid\"},\"marker\":{\"symbol\":\"circle\"},\"mode\":\"lines\",\"name\":\"TV5Monde\",\"orientation\":\"v\",\"showlegend\":true,\"x\":[\"2022-03-13T00:00:00\",\"2022-03-20T00:00:00\",\"2022-03-27T00:00:00\",\"2022-04-03T00:00:00\",\"2022-04-08T00:00:00\"],\"xaxis\":\"x\",\"y\":[13.916666666666668,17.866666666666667,88.51666666666667,7.683333333333334,32.03333333333333],\"yaxis\":\"y\",\"type\":\"scatter\"},{\"hovertemplate\":\"Cha\\u00eene=Euronews<br>Temps en jours=%{x}<br>Temps de parole en minutes=%{y}<extra></extra>\",\"legendgroup\":\"Euronews\",\"line\":{\"color\":\"#00cc96\",\"dash\":\"solid\"},\"marker\":{\"symbol\":\"circle\"},\"mode\":\"lines\",\"name\":\"Euronews\",\"orientation\":\"v\",\"showlegend\":true,\"x\":[\"2022-03-13T00:00:00\",\"2022-03-20T00:00:00\",\"2022-03-27T00:00:00\"],\"xaxis\":\"x\",\"y\":[0.0,0.0,0.0],\"yaxis\":\"y\",\"type\":\"scatter\"},{\"hovertemplate\":\"Cha\\u00eene=RFI<br>Temps en jours=%{x}<br>Temps de parole en minutes=%{y}<extra></extra>\",\"legendgroup\":\"RFI\",\"line\":{\"color\":\"#ab63fa\",\"dash\":\"solid\"},\"marker\":{\"symbol\":\"circle\"},\"mode\":\"lines\",\"name\":\"RFI\",\"orientation\":\"v\",\"showlegend\":true,\"x\":[\"2022-03-13T00:00:00\",\"2022-03-20T00:00:00\",\"2022-03-27T00:00:00\",\"2022-04-03T00:00:00\",\"2022-04-08T00:00:00\"],\"xaxis\":\"x\",\"y\":[1.0833333333333333,26.95,43.5,4.416666666666667,11.516666666666666],\"yaxis\":\"y\",\"type\":\"scatter\"},{\"hovertemplate\":\"Cha\\u00eene=France24<br>Temps en jours=%{x}<br>Temps de parole en minutes=%{y}<extra></extra>\",\"legendgroup\":\"France24\",\"line\":{\"color\":\"#FFA15A\",\"dash\":\"solid\"},\"marker\":{\"symbol\":\"circle\"},\"mode\":\"lines\",\"name\":\"France24\",\"orientation\":\"v\",\"showlegend\":true,\"x\":[\"2022-03-13T00:00:00\",\"2022-03-20T00:00:00\",\"2022-03-27T00:00:00\",\"2022-04-03T00:00:00\",\"2022-04-08T00:00:00\"],\"xaxis\":\"x\",\"y\":[3.466666666666667,19.816666666666666,33.46666666666667,11.883333333333333,20.233333333333334],\"yaxis\":\"y\",\"type\":\"scatter\"},{\"hovertemplate\":\"Cha\\u00eene=RMC Story<br>Temps en jours=%{x}<br>Temps de parole en minutes=%{y}<extra></extra>\",\"legendgroup\":\"RMC Story\",\"line\":{\"color\":\"#19d3f3\",\"dash\":\"solid\"},\"marker\":{\"symbol\":\"circle\"},\"mode\":\"lines\",\"name\":\"RMC Story\",\"orientation\":\"v\",\"showlegend\":true,\"x\":[\"2022-03-13T00:00:00\",\"2022-03-20T00:00:00\",\"2022-03-27T00:00:00\",\"2022-04-03T00:00:00\",\"2022-04-08T00:00:00\"],\"xaxis\":\"x\",\"y\":[2.4,35.6,121.73333333333333,0.9,7.433333333333334],\"yaxis\":\"y\",\"type\":\"scatter\"}],                        {\"template\":{\"data\":{\"histogram2dcontour\":[{\"type\":\"histogram2dcontour\",\"colorbar\":{\"outlinewidth\":0,\"ticks\":\"\"},\"colorscale\":[[0.0,\"#0d0887\"],[0.1111111111111111,\"#46039f\"],[0.2222222222222222,\"#7201a8\"],[0.3333333333333333,\"#9c179e\"],[0.4444444444444444,\"#bd3786\"],[0.5555555555555556,\"#d8576b\"],[0.6666666666666666,\"#ed7953\"],[0.7777777777777778,\"#fb9f3a\"],[0.8888888888888888,\"#fdca26\"],[1.0,\"#f0f921\"]]}],\"choropleth\":[{\"type\":\"choropleth\",\"colorbar\":{\"outlinewidth\":0,\"ticks\":\"\"}}],\"histogram2d\":[{\"type\":\"histogram2d\",\"colorbar\":{\"outlinewidth\":0,\"ticks\":\"\"},\"colorscale\":[[0.0,\"#0d0887\"],[0.1111111111111111,\"#46039f\"],[0.2222222222222222,\"#7201a8\"],[0.3333333333333333,\"#9c179e\"],[0.4444444444444444,\"#bd3786\"],[0.5555555555555556,\"#d8576b\"],[0.6666666666666666,\"#ed7953\"],[0.7777777777777778,\"#fb9f3a\"],[0.8888888888888888,\"#fdca26\"],[1.0,\"#f0f921\"]]}],\"heatmap\":[{\"type\":\"heatmap\",\"colorbar\":{\"outlinewidth\":0,\"ticks\":\"\"},\"colorscale\":[[0.0,\"#0d0887\"],[0.1111111111111111,\"#46039f\"],[0.2222222222222222,\"#7201a8\"],[0.3333333333333333,\"#9c179e\"],[0.4444444444444444,\"#bd3786\"],[0.5555555555555556,\"#d8576b\"],[0.6666666666666666,\"#ed7953\"],[0.7777777777777778,\"#fb9f3a\"],[0.8888888888888888,\"#fdca26\"],[1.0,\"#f0f921\"]]}],\"heatmapgl\":[{\"type\":\"heatmapgl\",\"colorbar\":{\"outlinewidth\":0,\"ticks\":\"\"},\"colorscale\":[[0.0,\"#0d0887\"],[0.1111111111111111,\"#46039f\"],[0.2222222222222222,\"#7201a8\"],[0.3333333333333333,\"#9c179e\"],[0.4444444444444444,\"#bd3786\"],[0.5555555555555556,\"#d8576b\"],[0.6666666666666666,\"#ed7953\"],[0.7777777777777778,\"#fb9f3a\"],[0.8888888888888888,\"#fdca26\"],[1.0,\"#f0f921\"]]}],\"contourcarpet\":[{\"type\":\"contourcarpet\",\"colorbar\":{\"outlinewidth\":0,\"ticks\":\"\"}}],\"contour\":[{\"type\":\"contour\",\"colorbar\":{\"outlinewidth\":0,\"ticks\":\"\"},\"colorscale\":[[0.0,\"#0d0887\"],[0.1111111111111111,\"#46039f\"],[0.2222222222222222,\"#7201a8\"],[0.3333333333333333,\"#9c179e\"],[0.4444444444444444,\"#bd3786\"],[0.5555555555555556,\"#d8576b\"],[0.6666666666666666,\"#ed7953\"],[0.7777777777777778,\"#fb9f3a\"],[0.8888888888888888,\"#fdca26\"],[1.0,\"#f0f921\"]]}],\"surface\":[{\"type\":\"surface\",\"colorbar\":{\"outlinewidth\":0,\"ticks\":\"\"},\"colorscale\":[[0.0,\"#0d0887\"],[0.1111111111111111,\"#46039f\"],[0.2222222222222222,\"#7201a8\"],[0.3333333333333333,\"#9c179e\"],[0.4444444444444444,\"#bd3786\"],[0.5555555555555556,\"#d8576b\"],[0.6666666666666666,\"#ed7953\"],[0.7777777777777778,\"#fb9f3a\"],[0.8888888888888888,\"#fdca26\"],[1.0,\"#f0f921\"]]}],\"mesh3d\":[{\"type\":\"mesh3d\",\"colorbar\":{\"outlinewidth\":0,\"ticks\":\"\"}}],\"scatter\":[{\"marker\":{\"line\":{\"color\":\"#283442\"}},\"type\":\"scatter\"}],\"parcoords\":[{\"type\":\"parcoords\",\"line\":{\"colorbar\":{\"outlinewidth\":0,\"ticks\":\"\"}}}],\"scatterpolargl\":[{\"type\":\"scatterpolargl\",\"marker\":{\"colorbar\":{\"outlinewidth\":0,\"ticks\":\"\"}}}],\"bar\":[{\"error_x\":{\"color\":\"#f2f5fa\"},\"error_y\":{\"color\":\"#f2f5fa\"},\"marker\":{\"line\":{\"color\":\"rgb(17,17,17)\",\"width\":0.5},\"pattern\":{\"fillmode\":\"overlay\",\"size\":10,\"solidity\":0.2}},\"type\":\"bar\"}],\"scattergeo\":[{\"type\":\"scattergeo\",\"marker\":{\"colorbar\":{\"outlinewidth\":0,\"ticks\":\"\"}}}],\"scatterpolar\":[{\"type\":\"scatterpolar\",\"marker\":{\"colorbar\":{\"outlinewidth\":0,\"ticks\":\"\"}}}],\"histogram\":[{\"marker\":{\"pattern\":{\"fillmode\":\"overlay\",\"size\":10,\"solidity\":0.2}},\"type\":\"histogram\"}],\"scattergl\":[{\"marker\":{\"line\":{\"color\":\"#283442\"}},\"type\":\"scattergl\"}],\"scatter3d\":[{\"type\":\"scatter3d\",\"line\":{\"colorbar\":{\"outlinewidth\":0,\"ticks\":\"\"}},\"marker\":{\"colorbar\":{\"outlinewidth\":0,\"ticks\":\"\"}}}],\"scattermapbox\":[{\"type\":\"scattermapbox\",\"marker\":{\"colorbar\":{\"outlinewidth\":0,\"ticks\":\"\"}}}],\"scatterternary\":[{\"type\":\"scatterternary\",\"marker\":{\"colorbar\":{\"outlinewidth\":0,\"ticks\":\"\"}}}],\"scattercarpet\":[{\"type\":\"scattercarpet\",\"marker\":{\"colorbar\":{\"outlinewidth\":0,\"ticks\":\"\"}}}],\"carpet\":[{\"aaxis\":{\"endlinecolor\":\"#A2B1C6\",\"gridcolor\":\"#506784\",\"linecolor\":\"#506784\",\"minorgridcolor\":\"#506784\",\"startlinecolor\":\"#A2B1C6\"},\"baxis\":{\"endlinecolor\":\"#A2B1C6\",\"gridcolor\":\"#506784\",\"linecolor\":\"#506784\",\"minorgridcolor\":\"#506784\",\"startlinecolor\":\"#A2B1C6\"},\"type\":\"carpet\"}],\"table\":[{\"cells\":{\"fill\":{\"color\":\"#506784\"},\"line\":{\"color\":\"rgb(17,17,17)\"}},\"header\":{\"fill\":{\"color\":\"#2a3f5f\"},\"line\":{\"color\":\"rgb(17,17,17)\"}},\"type\":\"table\"}],\"barpolar\":[{\"marker\":{\"line\":{\"color\":\"rgb(17,17,17)\",\"width\":0.5},\"pattern\":{\"fillmode\":\"overlay\",\"size\":10,\"solidity\":0.2}},\"type\":\"barpolar\"}],\"pie\":[{\"automargin\":true,\"type\":\"pie\"}]},\"layout\":{\"autotypenumbers\":\"strict\",\"colorway\":[\"#636efa\",\"#EF553B\",\"#00cc96\",\"#ab63fa\",\"#FFA15A\",\"#19d3f3\",\"#FF6692\",\"#B6E880\",\"#FF97FF\",\"#FECB52\"],\"font\":{\"color\":\"#f2f5fa\"},\"hovermode\":\"closest\",\"hoverlabel\":{\"align\":\"left\"},\"paper_bgcolor\":\"rgb(17,17,17)\",\"plot_bgcolor\":\"rgb(17,17,17)\",\"polar\":{\"bgcolor\":\"rgb(17,17,17)\",\"angularaxis\":{\"gridcolor\":\"#506784\",\"linecolor\":\"#506784\",\"ticks\":\"\"},\"radialaxis\":{\"gridcolor\":\"#506784\",\"linecolor\":\"#506784\",\"ticks\":\"\"}},\"ternary\":{\"bgcolor\":\"rgb(17,17,17)\",\"aaxis\":{\"gridcolor\":\"#506784\",\"linecolor\":\"#506784\",\"ticks\":\"\"},\"baxis\":{\"gridcolor\":\"#506784\",\"linecolor\":\"#506784\",\"ticks\":\"\"},\"caxis\":{\"gridcolor\":\"#506784\",\"linecolor\":\"#506784\",\"ticks\":\"\"}},\"coloraxis\":{\"colorbar\":{\"outlinewidth\":0,\"ticks\":\"\"}},\"colorscale\":{\"sequential\":[[0.0,\"#0d0887\"],[0.1111111111111111,\"#46039f\"],[0.2222222222222222,\"#7201a8\"],[0.3333333333333333,\"#9c179e\"],[0.4444444444444444,\"#bd3786\"],[0.5555555555555556,\"#d8576b\"],[0.6666666666666666,\"#ed7953\"],[0.7777777777777778,\"#fb9f3a\"],[0.8888888888888888,\"#fdca26\"],[1.0,\"#f0f921\"]],\"sequentialminus\":[[0.0,\"#0d0887\"],[0.1111111111111111,\"#46039f\"],[0.2222222222222222,\"#7201a8\"],[0.3333333333333333,\"#9c179e\"],[0.4444444444444444,\"#bd3786\"],[0.5555555555555556,\"#d8576b\"],[0.6666666666666666,\"#ed7953\"],[0.7777777777777778,\"#fb9f3a\"],[0.8888888888888888,\"#fdca26\"],[1.0,\"#f0f921\"]],\"diverging\":[[0,\"#8e0152\"],[0.1,\"#c51b7d\"],[0.2,\"#de77ae\"],[0.3,\"#f1b6da\"],[0.4,\"#fde0ef\"],[0.5,\"#f7f7f7\"],[0.6,\"#e6f5d0\"],[0.7,\"#b8e186\"],[0.8,\"#7fbc41\"],[0.9,\"#4d9221\"],[1,\"#276419\"]]},\"xaxis\":{\"gridcolor\":\"#283442\",\"linecolor\":\"#506784\",\"ticks\":\"\",\"title\":{\"standoff\":15},\"zerolinecolor\":\"#283442\",\"automargin\":true,\"zerolinewidth\":2},\"yaxis\":{\"gridcolor\":\"#283442\",\"linecolor\":\"#506784\",\"ticks\":\"\",\"title\":{\"standoff\":15},\"zerolinecolor\":\"#283442\",\"automargin\":true,\"zerolinewidth\":2},\"scene\":{\"xaxis\":{\"backgroundcolor\":\"rgb(17,17,17)\",\"gridcolor\":\"#506784\",\"linecolor\":\"#506784\",\"showbackground\":true,\"ticks\":\"\",\"zerolinecolor\":\"#C8D4E3\",\"gridwidth\":2},\"yaxis\":{\"backgroundcolor\":\"rgb(17,17,17)\",\"gridcolor\":\"#506784\",\"linecolor\":\"#506784\",\"showbackground\":true,\"ticks\":\"\",\"zerolinecolor\":\"#C8D4E3\",\"gridwidth\":2},\"zaxis\":{\"backgroundcolor\":\"rgb(17,17,17)\",\"gridcolor\":\"#506784\",\"linecolor\":\"#506784\",\"showbackground\":true,\"ticks\":\"\",\"zerolinecolor\":\"#C8D4E3\",\"gridwidth\":2}},\"shapedefaults\":{\"line\":{\"color\":\"#f2f5fa\"}},\"annotationdefaults\":{\"arrowcolor\":\"#f2f5fa\",\"arrowhead\":0,\"arrowwidth\":1},\"geo\":{\"bgcolor\":\"rgb(17,17,17)\",\"landcolor\":\"rgb(17,17,17)\",\"subunitcolor\":\"#506784\",\"showland\":true,\"showlakes\":true,\"lakecolor\":\"rgb(17,17,17)\"},\"title\":{\"x\":0.05},\"updatemenudefaults\":{\"bgcolor\":\"#506784\",\"borderwidth\":0},\"sliderdefaults\":{\"bgcolor\":\"#C8D4E3\",\"borderwidth\":1,\"bordercolor\":\"rgb(17,17,17)\",\"tickwidth\":0},\"mapbox\":{\"style\":\"dark\"}}},\"xaxis\":{\"anchor\":\"y\",\"domain\":[0.0,1.0],\"title\":{\"text\":\"Temps en jours\"}},\"yaxis\":{\"anchor\":\"x\",\"domain\":[0.0,1.0],\"title\":{\"text\":\"Temps de parole en minutes\"}},\"legend\":{\"title\":{\"text\":\"Cha\\u00eene\"},\"tracegroupgap\":0},\"title\":{\"text\":\"Pecresse : \\u00c9volution du temps de parole en fonction du temps\"}},                        {\"responsive\": true}                    ).then(function(){\n                            \nvar gd = document.getElementById('29be492b-250b-4507-8b3b-019ad8ef1377');\nvar x = new MutationObserver(function (mutations, observer) {{\n        var display = window.getComputedStyle(gd).display;\n        if (!display || display === 'none') {{\n            console.log([gd, 'removed!']);\n            Plotly.purge(gd);\n            observer.disconnect();\n        }}\n}});\n\n// Listen for the removal of the full notebook cells\nvar notebookContainer = gd.closest('#notebook-container');\nif (notebookContainer) {{\n    x.observe(notebookContainer, {childList: true});\n}}\n\n// Listen for the clearing of the current output cell\nvar outputEl = gd.closest('.output');\nif (outputEl) {{\n    x.observe(outputEl, {childList: true});\n}}\n\n                        })                };                });            </script>        </div>"
     },
     "metadata": {},
     "output_type": "display_data"
    }
   ],
   "source": [
    "px.line(df_pecresse, x='Période', y=\"Somme\", color='Chaîne', labels={\n",
    "    \"Période\": \"Temps en jours\",\n",
    "    \"Somme\": \"Temps de parole en minutes\",\n",
    "    \"Chaîne\": \"Chaîne\"\n",
    "}, title=\"Pecresse : Évolution du temps de parole en fonction du temps\")\n"
   ],
   "metadata": {
    "collapsed": false,
    "pycharm": {
     "name": "#%%\n"
    }
   }
  },
  {
   "cell_type": "code",
   "execution_count": 30,
   "outputs": [
    {
     "data": {
      "application/vnd.plotly.v1+json": {
       "data": [
        {
         "hovertemplate": "Chaîne=France2<br>Temps en jours=%{x}<br>Temps de parole en minutes=%{y}<extra></extra>",
         "legendgroup": "France2",
         "line": {
          "color": "#636efa",
          "dash": "solid"
         },
         "marker": {
          "symbol": "circle"
         },
         "mode": "lines",
         "name": "France2",
         "orientation": "v",
         "showlegend": true,
         "x": [
          "2022-03-13T00:00:00",
          "2022-03-20T00:00:00",
          "2022-03-27T00:00:00",
          "2022-04-03T00:00:00",
          "2022-04-08T00:00:00"
         ],
         "xaxis": "x",
         "y": [
          0.13333333333333333,
          0.13333333333333333,
          0.13333333333333333,
          7.583333333333333,
          32.81666666666667
         ],
         "yaxis": "y",
         "type": "scatter"
        },
        {
         "hovertemplate": "Chaîne=France3<br>Temps en jours=%{x}<br>Temps de parole en minutes=%{y}<extra></extra>",
         "legendgroup": "France3",
         "line": {
          "color": "#EF553B",
          "dash": "solid"
         },
         "marker": {
          "symbol": "circle"
         },
         "mode": "lines",
         "name": "France3",
         "orientation": "v",
         "showlegend": true,
         "x": [
          "2022-03-13T00:00:00",
          "2022-03-20T00:00:00",
          "2022-03-27T00:00:00",
          "2022-04-03T00:00:00",
          "2022-04-08T00:00:00"
         ],
         "xaxis": "x",
         "y": [
          0.0,
          0.3,
          0.3,
          1.6166666666666667,
          2.3833333333333333
         ],
         "yaxis": "y",
         "type": "scatter"
        },
        {
         "hovertemplate": "Chaîne=M6<br>Temps en jours=%{x}<br>Temps de parole en minutes=%{y}<extra></extra>",
         "legendgroup": "M6",
         "line": {
          "color": "#00cc96",
          "dash": "solid"
         },
         "marker": {
          "symbol": "circle"
         },
         "mode": "lines",
         "name": "M6",
         "orientation": "v",
         "showlegend": true,
         "x": [
          "2022-03-13T00:00:00",
          "2022-03-20T00:00:00",
          "2022-03-27T00:00:00",
          "2022-04-03T00:00:00",
          "2022-04-08T00:00:00"
         ],
         "xaxis": "x",
         "y": [
          0.9666666666666666,
          1.0833333333333333,
          1.0833333333333333,
          1.5499999999999998,
          2.85
         ],
         "yaxis": "y",
         "type": "scatter"
        },
        {
         "hovertemplate": "Chaîne=BFMTV<br>Temps en jours=%{x}<br>Temps de parole en minutes=%{y}<extra></extra>",
         "legendgroup": "BFMTV",
         "line": {
          "color": "#ab63fa",
          "dash": "solid"
         },
         "marker": {
          "symbol": "circle"
         },
         "mode": "lines",
         "name": "BFMTV",
         "orientation": "v",
         "showlegend": true,
         "x": [
          "2022-03-13T00:00:00",
          "2022-03-20T00:00:00",
          "2022-03-27T00:00:00",
          "2022-04-03T00:00:00",
          "2022-04-08T00:00:00"
         ],
         "xaxis": "x",
         "y": [
          0.0,
          13.533333333333333,
          13.533333333333333,
          31.13333333333333,
          32.63333333333333
         ],
         "yaxis": "y",
         "type": "scatter"
        },
        {
         "hovertemplate": "Chaîne=Cnews<br>Temps en jours=%{x}<br>Temps de parole en minutes=%{y}<extra></extra>",
         "legendgroup": "Cnews",
         "line": {
          "color": "#FFA15A",
          "dash": "solid"
         },
         "marker": {
          "symbol": "circle"
         },
         "mode": "lines",
         "name": "Cnews",
         "orientation": "v",
         "showlegend": true,
         "x": [
          "2022-03-13T00:00:00",
          "2022-03-20T00:00:00",
          "2022-03-27T00:00:00",
          "2022-04-03T00:00:00",
          "2022-04-08T00:00:00"
         ],
         "xaxis": "x",
         "y": [
          14.6,
          24.45,
          24.45,
          60.083333333333336,
          84.81666666666668
         ],
         "yaxis": "y",
         "type": "scatter"
        },
        {
         "hovertemplate": "Chaîne=FranceinfoTV<br>Temps en jours=%{x}<br>Temps de parole en minutes=%{y}<extra></extra>",
         "legendgroup": "FranceinfoTV",
         "line": {
          "color": "#19d3f3",
          "dash": "solid"
         },
         "marker": {
          "symbol": "circle"
         },
         "mode": "lines",
         "name": "FranceinfoTV",
         "orientation": "v",
         "showlegend": true,
         "x": [
          "2022-03-13T00:00:00",
          "2022-03-20T00:00:00",
          "2022-03-27T00:00:00",
          "2022-04-03T00:00:00",
          "2022-04-08T00:00:00"
         ],
         "xaxis": "x",
         "y": [
          1.0166666666666666,
          35.516666666666666,
          35.516666666666666,
          134.40000000000003,
          180.83333333333334
         ],
         "yaxis": "y",
         "type": "scatter"
        },
        {
         "hovertemplate": "Chaîne=FranceInter<br>Temps en jours=%{x}<br>Temps de parole en minutes=%{y}<extra></extra>",
         "legendgroup": "FranceInter",
         "line": {
          "color": "#FF6692",
          "dash": "solid"
         },
         "marker": {
          "symbol": "circle"
         },
         "mode": "lines",
         "name": "FranceInter",
         "orientation": "v",
         "showlegend": true,
         "x": [
          "2022-03-13T00:00:00",
          "2022-03-20T00:00:00",
          "2022-03-27T00:00:00",
          "2022-04-03T00:00:00",
          "2022-04-08T00:00:00"
         ],
         "xaxis": "x",
         "y": [
          1.1166666666666667,
          11.016666666666667,
          11.016666666666667,
          4.4,
          14.083333333333332
         ],
         "yaxis": "y",
         "type": "scatter"
        },
        {
         "hovertemplate": "Chaîne=FranceInfo<br>Temps en jours=%{x}<br>Temps de parole en minutes=%{y}<extra></extra>",
         "legendgroup": "FranceInfo",
         "line": {
          "color": "#B6E880",
          "dash": "solid"
         },
         "marker": {
          "symbol": "circle"
         },
         "mode": "lines",
         "name": "FranceInfo",
         "orientation": "v",
         "showlegend": true,
         "x": [
          "2022-03-13T00:00:00",
          "2022-03-20T00:00:00",
          "2022-03-27T00:00:00",
          "2022-04-03T00:00:00",
          "2022-04-08T00:00:00"
         ],
         "xaxis": "x",
         "y": [
          0.6166666666666667,
          17.316666666666666,
          17.316666666666666,
          65.71666666666667,
          81.41666666666666
         ],
         "yaxis": "y",
         "type": "scatter"
        },
        {
         "hovertemplate": "Chaîne=RTL<br>Temps en jours=%{x}<br>Temps de parole en minutes=%{y}<extra></extra>",
         "legendgroup": "RTL",
         "line": {
          "color": "#FF97FF",
          "dash": "solid"
         },
         "marker": {
          "symbol": "circle"
         },
         "mode": "lines",
         "name": "RTL",
         "orientation": "v",
         "showlegend": true,
         "x": [
          "2022-03-13T00:00:00",
          "2022-03-20T00:00:00",
          "2022-03-27T00:00:00",
          "2022-04-03T00:00:00",
          "2022-04-08T00:00:00"
         ],
         "xaxis": "x",
         "y": [
          0.0,
          3.8333333333333335,
          3.8333333333333335,
          10.233333333333333,
          15.416666666666668
         ],
         "yaxis": "y",
         "type": "scatter"
        },
        {
         "hovertemplate": "Chaîne=RMC<br>Temps en jours=%{x}<br>Temps de parole en minutes=%{y}<extra></extra>",
         "legendgroup": "RMC",
         "line": {
          "color": "#FECB52",
          "dash": "solid"
         },
         "marker": {
          "symbol": "circle"
         },
         "mode": "lines",
         "name": "RMC",
         "orientation": "v",
         "showlegend": true,
         "x": [
          "2022-03-13T00:00:00",
          "2022-03-20T00:00:00",
          "2022-03-27T00:00:00",
          "2022-04-03T00:00:00",
          "2022-04-08T00:00:00"
         ],
         "xaxis": "x",
         "y": [
          0.7666666666666667,
          0.7666666666666667,
          0.7666666666666667,
          0.48333333333333334,
          16.733333333333334
         ],
         "yaxis": "y",
         "type": "scatter"
        },
        {
         "hovertemplate": "Chaîne=RadioClassique<br>Temps en jours=%{x}<br>Temps de parole en minutes=%{y}<extra></extra>",
         "legendgroup": "RadioClassique",
         "line": {
          "color": "#636efa",
          "dash": "solid"
         },
         "marker": {
          "symbol": "circle"
         },
         "mode": "lines",
         "name": "RadioClassique",
         "orientation": "v",
         "showlegend": true,
         "x": [
          "2022-03-13T00:00:00",
          "2022-03-20T00:00:00",
          "2022-03-27T00:00:00",
          "2022-04-03T00:00:00",
          "2022-04-08T00:00:00"
         ],
         "xaxis": "x",
         "y": [
          0.0,
          0.0,
          0.0,
          0.0,
          0.0
         ],
         "yaxis": "y",
         "type": "scatter"
        },
        {
         "hovertemplate": "Chaîne=SudRadio<br>Temps en jours=%{x}<br>Temps de parole en minutes=%{y}<extra></extra>",
         "legendgroup": "SudRadio",
         "line": {
          "color": "#EF553B",
          "dash": "solid"
         },
         "marker": {
          "symbol": "circle"
         },
         "mode": "lines",
         "name": "SudRadio",
         "orientation": "v",
         "showlegend": true,
         "x": [
          "2022-03-13T00:00:00",
          "2022-03-20T00:00:00",
          "2022-03-27T00:00:00",
          "2022-04-03T00:00:00",
          "2022-04-08T00:00:00"
         ],
         "xaxis": "x",
         "y": [
          0.0,
          0.0,
          0.0,
          0.7666666666666666,
          1.6666666666666667
         ],
         "yaxis": "y",
         "type": "scatter"
        },
        {
         "hovertemplate": "Chaîne=TV5Monde<br>Temps en jours=%{x}<br>Temps de parole en minutes=%{y}<extra></extra>",
         "legendgroup": "TV5Monde",
         "line": {
          "color": "#00cc96",
          "dash": "solid"
         },
         "marker": {
          "symbol": "circle"
         },
         "mode": "lines",
         "name": "TV5Monde",
         "orientation": "v",
         "showlegend": true,
         "x": [
          "2022-03-13T00:00:00",
          "2022-03-20T00:00:00",
          "2022-03-27T00:00:00",
          "2022-04-03T00:00:00",
          "2022-04-08T00:00:00"
         ],
         "xaxis": "x",
         "y": [
          0.13333333333333333,
          0.13333333333333333,
          0.13333333333333333,
          7.583333333333333,
          32.083333333333336
         ],
         "yaxis": "y",
         "type": "scatter"
        },
        {
         "hovertemplate": "Chaîne=Euronews<br>Temps en jours=%{x}<br>Temps de parole en minutes=%{y}<extra></extra>",
         "legendgroup": "Euronews",
         "line": {
          "color": "#ab63fa",
          "dash": "solid"
         },
         "marker": {
          "symbol": "circle"
         },
         "mode": "lines",
         "name": "Euronews",
         "orientation": "v",
         "showlegend": true,
         "x": [
          "2022-03-13T00:00:00",
          "2022-03-20T00:00:00",
          "2022-03-27T00:00:00"
         ],
         "xaxis": "x",
         "y": [
          0.0,
          0.0,
          0.0
         ],
         "yaxis": "y",
         "type": "scatter"
        },
        {
         "hovertemplate": "Chaîne=France24<br>Temps en jours=%{x}<br>Temps de parole en minutes=%{y}<extra></extra>",
         "legendgroup": "France24",
         "line": {
          "color": "#FFA15A",
          "dash": "solid"
         },
         "marker": {
          "symbol": "circle"
         },
         "mode": "lines",
         "name": "France24",
         "orientation": "v",
         "showlegend": true,
         "x": [
          "2022-03-13T00:00:00",
          "2022-03-20T00:00:00",
          "2022-03-27T00:00:00",
          "2022-04-03T00:00:00",
          "2022-04-08T00:00:00"
         ],
         "xaxis": "x",
         "y": [
          0.0,
          3.1999999999999997,
          3.1999999999999997,
          11.466666666666667,
          23.0
         ],
         "yaxis": "y",
         "type": "scatter"
        },
        {
         "hovertemplate": "Chaîne=RMC Story<br>Temps en jours=%{x}<br>Temps de parole en minutes=%{y}<extra></extra>",
         "legendgroup": "RMC Story",
         "line": {
          "color": "#19d3f3",
          "dash": "solid"
         },
         "marker": {
          "symbol": "circle"
         },
         "mode": "lines",
         "name": "RMC Story",
         "orientation": "v",
         "showlegend": true,
         "x": [
          "2022-03-13T00:00:00",
          "2022-03-20T00:00:00",
          "2022-03-27T00:00:00",
          "2022-04-03T00:00:00",
          "2022-04-08T00:00:00"
         ],
         "xaxis": "x",
         "y": [
          0.0,
          0.0,
          0.0,
          0.0,
          6.866666666666666
         ],
         "yaxis": "y",
         "type": "scatter"
        },
        {
         "hovertemplate": "Chaîne=TF1<br>Temps en jours=%{x}<br>Temps de parole en minutes=%{y}<extra></extra>",
         "legendgroup": "TF1",
         "line": {
          "color": "#FF6692",
          "dash": "solid"
         },
         "marker": {
          "symbol": "circle"
         },
         "mode": "lines",
         "name": "TF1",
         "orientation": "v",
         "showlegend": true,
         "x": [
          "2022-03-20T00:00:00",
          "2022-03-27T00:00:00",
          "2022-04-03T00:00:00",
          "2022-04-08T00:00:00"
         ],
         "xaxis": "x",
         "y": [
          1.05,
          1.05,
          9.916666666666666,
          10.883333333333333
         ],
         "yaxis": "y",
         "type": "scatter"
        },
        {
         "hovertemplate": "Chaîne=France5<br>Temps en jours=%{x}<br>Temps de parole en minutes=%{y}<extra></extra>",
         "legendgroup": "France5",
         "line": {
          "color": "#B6E880",
          "dash": "solid"
         },
         "marker": {
          "symbol": "circle"
         },
         "mode": "lines",
         "name": "France5",
         "orientation": "v",
         "showlegend": true,
         "x": [
          "2022-03-20T00:00:00",
          "2022-03-27T00:00:00",
          "2022-04-03T00:00:00",
          "2022-04-08T00:00:00"
         ],
         "xaxis": "x",
         "y": [
          1.6,
          1.6,
          5.949999999999999,
          11.7
         ],
         "yaxis": "y",
         "type": "scatter"
        },
        {
         "hovertemplate": "Chaîne=C8<br>Temps en jours=%{x}<br>Temps de parole en minutes=%{y}<extra></extra>",
         "legendgroup": "C8",
         "line": {
          "color": "#FF97FF",
          "dash": "solid"
         },
         "marker": {
          "symbol": "circle"
         },
         "mode": "lines",
         "name": "C8",
         "orientation": "v",
         "showlegend": true,
         "x": [
          "2022-03-20T00:00:00",
          "2022-03-27T00:00:00",
          "2022-04-03T00:00:00",
          "2022-04-08T00:00:00"
         ],
         "xaxis": "x",
         "y": [
          0.7,
          0.7,
          11.016666666666667,
          11.833333333333334
         ],
         "yaxis": "y",
         "type": "scatter"
        },
        {
         "hovertemplate": "Chaîne=TMC<br>Temps en jours=%{x}<br>Temps de parole en minutes=%{y}<extra></extra>",
         "legendgroup": "TMC",
         "line": {
          "color": "#FECB52",
          "dash": "solid"
         },
         "marker": {
          "symbol": "circle"
         },
         "mode": "lines",
         "name": "TMC",
         "orientation": "v",
         "showlegend": true,
         "x": [
          "2022-03-20T00:00:00",
          "2022-03-27T00:00:00",
          "2022-04-03T00:00:00",
          "2022-04-08T00:00:00"
         ],
         "xaxis": "x",
         "y": [
          2.5,
          2.5,
          10.466666666666667,
          18.766666666666666
         ],
         "yaxis": "y",
         "type": "scatter"
        },
        {
         "hovertemplate": "Chaîne=RMCDecouverte<br>Temps en jours=%{x}<br>Temps de parole en minutes=%{y}<extra></extra>",
         "legendgroup": "RMCDecouverte",
         "line": {
          "color": "#636efa",
          "dash": "solid"
         },
         "marker": {
          "symbol": "circle"
         },
         "mode": "lines",
         "name": "RMCDecouverte",
         "orientation": "v",
         "showlegend": true,
         "x": [
          "2022-03-20T00:00:00",
          "2022-03-27T00:00:00"
         ],
         "xaxis": "x",
         "y": [
          0.0,
          0.0
         ],
         "yaxis": "y",
         "type": "scatter"
        },
        {
         "hovertemplate": "Chaîne=LCI<br>Temps en jours=%{x}<br>Temps de parole en minutes=%{y}<extra></extra>",
         "legendgroup": "LCI",
         "line": {
          "color": "#EF553B",
          "dash": "solid"
         },
         "marker": {
          "symbol": "circle"
         },
         "mode": "lines",
         "name": "LCI",
         "orientation": "v",
         "showlegend": true,
         "x": [
          "2022-03-20T00:00:00",
          "2022-03-27T00:00:00",
          "2022-04-03T00:00:00",
          "2022-04-08T00:00:00"
         ],
         "xaxis": "x",
         "y": [
          4.0,
          4.0,
          143.73333333333335,
          210.55
         ],
         "yaxis": "y",
         "type": "scatter"
        },
        {
         "hovertemplate": "Chaîne=FranceCulture<br>Temps en jours=%{x}<br>Temps de parole en minutes=%{y}<extra></extra>",
         "legendgroup": "FranceCulture",
         "line": {
          "color": "#00cc96",
          "dash": "solid"
         },
         "marker": {
          "symbol": "circle"
         },
         "mode": "lines",
         "name": "FranceCulture",
         "orientation": "v",
         "showlegend": true,
         "x": [
          "2022-03-20T00:00:00",
          "2022-03-27T00:00:00",
          "2022-04-03T00:00:00",
          "2022-04-08T00:00:00"
         ],
         "xaxis": "x",
         "y": [
          1.8,
          1.8,
          11.716666666666667,
          12.033333333333333
         ],
         "yaxis": "y",
         "type": "scatter"
        },
        {
         "hovertemplate": "Chaîne=BFMBusiness<br>Temps en jours=%{x}<br>Temps de parole en minutes=%{y}<extra></extra>",
         "legendgroup": "BFMBusiness",
         "line": {
          "color": "#ab63fa",
          "dash": "solid"
         },
         "marker": {
          "symbol": "circle"
         },
         "mode": "lines",
         "name": "BFMBusiness",
         "orientation": "v",
         "showlegend": true,
         "x": [
          "2022-03-20T00:00:00",
          "2022-03-27T00:00:00"
         ],
         "xaxis": "x",
         "y": [
          0.0,
          0.0
         ],
         "yaxis": "y",
         "type": "scatter"
        },
        {
         "hovertemplate": "Chaîne=RFI<br>Temps en jours=%{x}<br>Temps de parole en minutes=%{y}<extra></extra>",
         "legendgroup": "RFI",
         "line": {
          "color": "#FFA15A",
          "dash": "solid"
         },
         "marker": {
          "symbol": "circle"
         },
         "mode": "lines",
         "name": "RFI",
         "orientation": "v",
         "showlegend": true,
         "x": [
          "2022-03-20T00:00:00",
          "2022-03-27T00:00:00",
          "2022-04-03T00:00:00",
          "2022-04-08T00:00:00"
         ],
         "xaxis": "x",
         "y": [
          1.3333333333333333,
          1.3333333333333333,
          17.1,
          26.21666666666667
         ],
         "yaxis": "y",
         "type": "scatter"
        },
        {
         "hovertemplate": "Chaîne=Europe1<br>Temps en jours=%{x}<br>Temps de parole en minutes=%{y}<extra></extra>",
         "legendgroup": "Europe1",
         "line": {
          "color": "#19d3f3",
          "dash": "solid"
         },
         "marker": {
          "symbol": "circle"
         },
         "mode": "lines",
         "name": "Europe1",
         "orientation": "v",
         "showlegend": true,
         "x": [
          "2022-04-03T00:00:00",
          "2022-04-08T00:00:00"
         ],
         "xaxis": "x",
         "y": [
          2.9333333333333336,
          3.95
         ],
         "yaxis": "y",
         "type": "scatter"
        }
       ],
       "layout": {
        "template": {
         "data": {
          "histogram2dcontour": [
           {
            "type": "histogram2dcontour",
            "colorbar": {
             "outlinewidth": 0,
             "ticks": ""
            },
            "colorscale": [
             [
              0.0,
              "#0d0887"
             ],
             [
              0.1111111111111111,
              "#46039f"
             ],
             [
              0.2222222222222222,
              "#7201a8"
             ],
             [
              0.3333333333333333,
              "#9c179e"
             ],
             [
              0.4444444444444444,
              "#bd3786"
             ],
             [
              0.5555555555555556,
              "#d8576b"
             ],
             [
              0.6666666666666666,
              "#ed7953"
             ],
             [
              0.7777777777777778,
              "#fb9f3a"
             ],
             [
              0.8888888888888888,
              "#fdca26"
             ],
             [
              1.0,
              "#f0f921"
             ]
            ]
           }
          ],
          "choropleth": [
           {
            "type": "choropleth",
            "colorbar": {
             "outlinewidth": 0,
             "ticks": ""
            }
           }
          ],
          "histogram2d": [
           {
            "type": "histogram2d",
            "colorbar": {
             "outlinewidth": 0,
             "ticks": ""
            },
            "colorscale": [
             [
              0.0,
              "#0d0887"
             ],
             [
              0.1111111111111111,
              "#46039f"
             ],
             [
              0.2222222222222222,
              "#7201a8"
             ],
             [
              0.3333333333333333,
              "#9c179e"
             ],
             [
              0.4444444444444444,
              "#bd3786"
             ],
             [
              0.5555555555555556,
              "#d8576b"
             ],
             [
              0.6666666666666666,
              "#ed7953"
             ],
             [
              0.7777777777777778,
              "#fb9f3a"
             ],
             [
              0.8888888888888888,
              "#fdca26"
             ],
             [
              1.0,
              "#f0f921"
             ]
            ]
           }
          ],
          "heatmap": [
           {
            "type": "heatmap",
            "colorbar": {
             "outlinewidth": 0,
             "ticks": ""
            },
            "colorscale": [
             [
              0.0,
              "#0d0887"
             ],
             [
              0.1111111111111111,
              "#46039f"
             ],
             [
              0.2222222222222222,
              "#7201a8"
             ],
             [
              0.3333333333333333,
              "#9c179e"
             ],
             [
              0.4444444444444444,
              "#bd3786"
             ],
             [
              0.5555555555555556,
              "#d8576b"
             ],
             [
              0.6666666666666666,
              "#ed7953"
             ],
             [
              0.7777777777777778,
              "#fb9f3a"
             ],
             [
              0.8888888888888888,
              "#fdca26"
             ],
             [
              1.0,
              "#f0f921"
             ]
            ]
           }
          ],
          "heatmapgl": [
           {
            "type": "heatmapgl",
            "colorbar": {
             "outlinewidth": 0,
             "ticks": ""
            },
            "colorscale": [
             [
              0.0,
              "#0d0887"
             ],
             [
              0.1111111111111111,
              "#46039f"
             ],
             [
              0.2222222222222222,
              "#7201a8"
             ],
             [
              0.3333333333333333,
              "#9c179e"
             ],
             [
              0.4444444444444444,
              "#bd3786"
             ],
             [
              0.5555555555555556,
              "#d8576b"
             ],
             [
              0.6666666666666666,
              "#ed7953"
             ],
             [
              0.7777777777777778,
              "#fb9f3a"
             ],
             [
              0.8888888888888888,
              "#fdca26"
             ],
             [
              1.0,
              "#f0f921"
             ]
            ]
           }
          ],
          "contourcarpet": [
           {
            "type": "contourcarpet",
            "colorbar": {
             "outlinewidth": 0,
             "ticks": ""
            }
           }
          ],
          "contour": [
           {
            "type": "contour",
            "colorbar": {
             "outlinewidth": 0,
             "ticks": ""
            },
            "colorscale": [
             [
              0.0,
              "#0d0887"
             ],
             [
              0.1111111111111111,
              "#46039f"
             ],
             [
              0.2222222222222222,
              "#7201a8"
             ],
             [
              0.3333333333333333,
              "#9c179e"
             ],
             [
              0.4444444444444444,
              "#bd3786"
             ],
             [
              0.5555555555555556,
              "#d8576b"
             ],
             [
              0.6666666666666666,
              "#ed7953"
             ],
             [
              0.7777777777777778,
              "#fb9f3a"
             ],
             [
              0.8888888888888888,
              "#fdca26"
             ],
             [
              1.0,
              "#f0f921"
             ]
            ]
           }
          ],
          "surface": [
           {
            "type": "surface",
            "colorbar": {
             "outlinewidth": 0,
             "ticks": ""
            },
            "colorscale": [
             [
              0.0,
              "#0d0887"
             ],
             [
              0.1111111111111111,
              "#46039f"
             ],
             [
              0.2222222222222222,
              "#7201a8"
             ],
             [
              0.3333333333333333,
              "#9c179e"
             ],
             [
              0.4444444444444444,
              "#bd3786"
             ],
             [
              0.5555555555555556,
              "#d8576b"
             ],
             [
              0.6666666666666666,
              "#ed7953"
             ],
             [
              0.7777777777777778,
              "#fb9f3a"
             ],
             [
              0.8888888888888888,
              "#fdca26"
             ],
             [
              1.0,
              "#f0f921"
             ]
            ]
           }
          ],
          "mesh3d": [
           {
            "type": "mesh3d",
            "colorbar": {
             "outlinewidth": 0,
             "ticks": ""
            }
           }
          ],
          "scatter": [
           {
            "marker": {
             "line": {
              "color": "#283442"
             }
            },
            "type": "scatter"
           }
          ],
          "parcoords": [
           {
            "type": "parcoords",
            "line": {
             "colorbar": {
              "outlinewidth": 0,
              "ticks": ""
             }
            }
           }
          ],
          "scatterpolargl": [
           {
            "type": "scatterpolargl",
            "marker": {
             "colorbar": {
              "outlinewidth": 0,
              "ticks": ""
             }
            }
           }
          ],
          "bar": [
           {
            "error_x": {
             "color": "#f2f5fa"
            },
            "error_y": {
             "color": "#f2f5fa"
            },
            "marker": {
             "line": {
              "color": "rgb(17,17,17)",
              "width": 0.5
             },
             "pattern": {
              "fillmode": "overlay",
              "size": 10,
              "solidity": 0.2
             }
            },
            "type": "bar"
           }
          ],
          "scattergeo": [
           {
            "type": "scattergeo",
            "marker": {
             "colorbar": {
              "outlinewidth": 0,
              "ticks": ""
             }
            }
           }
          ],
          "scatterpolar": [
           {
            "type": "scatterpolar",
            "marker": {
             "colorbar": {
              "outlinewidth": 0,
              "ticks": ""
             }
            }
           }
          ],
          "histogram": [
           {
            "marker": {
             "pattern": {
              "fillmode": "overlay",
              "size": 10,
              "solidity": 0.2
             }
            },
            "type": "histogram"
           }
          ],
          "scattergl": [
           {
            "marker": {
             "line": {
              "color": "#283442"
             }
            },
            "type": "scattergl"
           }
          ],
          "scatter3d": [
           {
            "type": "scatter3d",
            "line": {
             "colorbar": {
              "outlinewidth": 0,
              "ticks": ""
             }
            },
            "marker": {
             "colorbar": {
              "outlinewidth": 0,
              "ticks": ""
             }
            }
           }
          ],
          "scattermapbox": [
           {
            "type": "scattermapbox",
            "marker": {
             "colorbar": {
              "outlinewidth": 0,
              "ticks": ""
             }
            }
           }
          ],
          "scatterternary": [
           {
            "type": "scatterternary",
            "marker": {
             "colorbar": {
              "outlinewidth": 0,
              "ticks": ""
             }
            }
           }
          ],
          "scattercarpet": [
           {
            "type": "scattercarpet",
            "marker": {
             "colorbar": {
              "outlinewidth": 0,
              "ticks": ""
             }
            }
           }
          ],
          "carpet": [
           {
            "aaxis": {
             "endlinecolor": "#A2B1C6",
             "gridcolor": "#506784",
             "linecolor": "#506784",
             "minorgridcolor": "#506784",
             "startlinecolor": "#A2B1C6"
            },
            "baxis": {
             "endlinecolor": "#A2B1C6",
             "gridcolor": "#506784",
             "linecolor": "#506784",
             "minorgridcolor": "#506784",
             "startlinecolor": "#A2B1C6"
            },
            "type": "carpet"
           }
          ],
          "table": [
           {
            "cells": {
             "fill": {
              "color": "#506784"
             },
             "line": {
              "color": "rgb(17,17,17)"
             }
            },
            "header": {
             "fill": {
              "color": "#2a3f5f"
             },
             "line": {
              "color": "rgb(17,17,17)"
             }
            },
            "type": "table"
           }
          ],
          "barpolar": [
           {
            "marker": {
             "line": {
              "color": "rgb(17,17,17)",
              "width": 0.5
             },
             "pattern": {
              "fillmode": "overlay",
              "size": 10,
              "solidity": 0.2
             }
            },
            "type": "barpolar"
           }
          ],
          "pie": [
           {
            "automargin": true,
            "type": "pie"
           }
          ]
         },
         "layout": {
          "autotypenumbers": "strict",
          "colorway": [
           "#636efa",
           "#EF553B",
           "#00cc96",
           "#ab63fa",
           "#FFA15A",
           "#19d3f3",
           "#FF6692",
           "#B6E880",
           "#FF97FF",
           "#FECB52"
          ],
          "font": {
           "color": "#f2f5fa"
          },
          "hovermode": "closest",
          "hoverlabel": {
           "align": "left"
          },
          "paper_bgcolor": "rgb(17,17,17)",
          "plot_bgcolor": "rgb(17,17,17)",
          "polar": {
           "bgcolor": "rgb(17,17,17)",
           "angularaxis": {
            "gridcolor": "#506784",
            "linecolor": "#506784",
            "ticks": ""
           },
           "radialaxis": {
            "gridcolor": "#506784",
            "linecolor": "#506784",
            "ticks": ""
           }
          },
          "ternary": {
           "bgcolor": "rgb(17,17,17)",
           "aaxis": {
            "gridcolor": "#506784",
            "linecolor": "#506784",
            "ticks": ""
           },
           "baxis": {
            "gridcolor": "#506784",
            "linecolor": "#506784",
            "ticks": ""
           },
           "caxis": {
            "gridcolor": "#506784",
            "linecolor": "#506784",
            "ticks": ""
           }
          },
          "coloraxis": {
           "colorbar": {
            "outlinewidth": 0,
            "ticks": ""
           }
          },
          "colorscale": {
           "sequential": [
            [
             0.0,
             "#0d0887"
            ],
            [
             0.1111111111111111,
             "#46039f"
            ],
            [
             0.2222222222222222,
             "#7201a8"
            ],
            [
             0.3333333333333333,
             "#9c179e"
            ],
            [
             0.4444444444444444,
             "#bd3786"
            ],
            [
             0.5555555555555556,
             "#d8576b"
            ],
            [
             0.6666666666666666,
             "#ed7953"
            ],
            [
             0.7777777777777778,
             "#fb9f3a"
            ],
            [
             0.8888888888888888,
             "#fdca26"
            ],
            [
             1.0,
             "#f0f921"
            ]
           ],
           "sequentialminus": [
            [
             0.0,
             "#0d0887"
            ],
            [
             0.1111111111111111,
             "#46039f"
            ],
            [
             0.2222222222222222,
             "#7201a8"
            ],
            [
             0.3333333333333333,
             "#9c179e"
            ],
            [
             0.4444444444444444,
             "#bd3786"
            ],
            [
             0.5555555555555556,
             "#d8576b"
            ],
            [
             0.6666666666666666,
             "#ed7953"
            ],
            [
             0.7777777777777778,
             "#fb9f3a"
            ],
            [
             0.8888888888888888,
             "#fdca26"
            ],
            [
             1.0,
             "#f0f921"
            ]
           ],
           "diverging": [
            [
             0,
             "#8e0152"
            ],
            [
             0.1,
             "#c51b7d"
            ],
            [
             0.2,
             "#de77ae"
            ],
            [
             0.3,
             "#f1b6da"
            ],
            [
             0.4,
             "#fde0ef"
            ],
            [
             0.5,
             "#f7f7f7"
            ],
            [
             0.6,
             "#e6f5d0"
            ],
            [
             0.7,
             "#b8e186"
            ],
            [
             0.8,
             "#7fbc41"
            ],
            [
             0.9,
             "#4d9221"
            ],
            [
             1,
             "#276419"
            ]
           ]
          },
          "xaxis": {
           "gridcolor": "#283442",
           "linecolor": "#506784",
           "ticks": "",
           "title": {
            "standoff": 15
           },
           "zerolinecolor": "#283442",
           "automargin": true,
           "zerolinewidth": 2
          },
          "yaxis": {
           "gridcolor": "#283442",
           "linecolor": "#506784",
           "ticks": "",
           "title": {
            "standoff": 15
           },
           "zerolinecolor": "#283442",
           "automargin": true,
           "zerolinewidth": 2
          },
          "scene": {
           "xaxis": {
            "backgroundcolor": "rgb(17,17,17)",
            "gridcolor": "#506784",
            "linecolor": "#506784",
            "showbackground": true,
            "ticks": "",
            "zerolinecolor": "#C8D4E3",
            "gridwidth": 2
           },
           "yaxis": {
            "backgroundcolor": "rgb(17,17,17)",
            "gridcolor": "#506784",
            "linecolor": "#506784",
            "showbackground": true,
            "ticks": "",
            "zerolinecolor": "#C8D4E3",
            "gridwidth": 2
           },
           "zaxis": {
            "backgroundcolor": "rgb(17,17,17)",
            "gridcolor": "#506784",
            "linecolor": "#506784",
            "showbackground": true,
            "ticks": "",
            "zerolinecolor": "#C8D4E3",
            "gridwidth": 2
           }
          },
          "shapedefaults": {
           "line": {
            "color": "#f2f5fa"
           }
          },
          "annotationdefaults": {
           "arrowcolor": "#f2f5fa",
           "arrowhead": 0,
           "arrowwidth": 1
          },
          "geo": {
           "bgcolor": "rgb(17,17,17)",
           "landcolor": "rgb(17,17,17)",
           "subunitcolor": "#506784",
           "showland": true,
           "showlakes": true,
           "lakecolor": "rgb(17,17,17)"
          },
          "title": {
           "x": 0.05
          },
          "updatemenudefaults": {
           "bgcolor": "#506784",
           "borderwidth": 0
          },
          "sliderdefaults": {
           "bgcolor": "#C8D4E3",
           "borderwidth": 1,
           "bordercolor": "rgb(17,17,17)",
           "tickwidth": 0
          },
          "mapbox": {
           "style": "dark"
          }
         }
        },
        "xaxis": {
         "anchor": "y",
         "domain": [
          0.0,
          1.0
         ],
         "title": {
          "text": "Temps en jours"
         }
        },
        "yaxis": {
         "anchor": "x",
         "domain": [
          0.0,
          1.0
         ],
         "title": {
          "text": "Temps de parole en minutes"
         }
        },
        "legend": {
         "title": {
          "text": "Chaîne"
         },
         "tracegroupgap": 0
        },
        "title": {
         "text": "Poutou : Évolution du temps de parole en fonction du temps"
        }
       },
       "config": {
        "plotlyServerURL": "https://plot.ly"
       }
      },
      "text/html": "<div>                            <div id=\"0ab7586d-e624-4bb0-8d95-5104696d5992\" class=\"plotly-graph-div\" style=\"height:525px; width:100%;\"></div>            <script type=\"text/javascript\">                require([\"plotly\"], function(Plotly) {                    window.PLOTLYENV=window.PLOTLYENV || {};                                    if (document.getElementById(\"0ab7586d-e624-4bb0-8d95-5104696d5992\")) {                    Plotly.newPlot(                        \"0ab7586d-e624-4bb0-8d95-5104696d5992\",                        [{\"hovertemplate\":\"Cha\\u00eene=France2<br>Temps en jours=%{x}<br>Temps de parole en minutes=%{y}<extra></extra>\",\"legendgroup\":\"France2\",\"line\":{\"color\":\"#636efa\",\"dash\":\"solid\"},\"marker\":{\"symbol\":\"circle\"},\"mode\":\"lines\",\"name\":\"France2\",\"orientation\":\"v\",\"showlegend\":true,\"x\":[\"2022-03-13T00:00:00\",\"2022-03-20T00:00:00\",\"2022-03-27T00:00:00\",\"2022-04-03T00:00:00\",\"2022-04-08T00:00:00\"],\"xaxis\":\"x\",\"y\":[0.13333333333333333,0.13333333333333333,0.13333333333333333,7.583333333333333,32.81666666666667],\"yaxis\":\"y\",\"type\":\"scatter\"},{\"hovertemplate\":\"Cha\\u00eene=France3<br>Temps en jours=%{x}<br>Temps de parole en minutes=%{y}<extra></extra>\",\"legendgroup\":\"France3\",\"line\":{\"color\":\"#EF553B\",\"dash\":\"solid\"},\"marker\":{\"symbol\":\"circle\"},\"mode\":\"lines\",\"name\":\"France3\",\"orientation\":\"v\",\"showlegend\":true,\"x\":[\"2022-03-13T00:00:00\",\"2022-03-20T00:00:00\",\"2022-03-27T00:00:00\",\"2022-04-03T00:00:00\",\"2022-04-08T00:00:00\"],\"xaxis\":\"x\",\"y\":[0.0,0.3,0.3,1.6166666666666667,2.3833333333333333],\"yaxis\":\"y\",\"type\":\"scatter\"},{\"hovertemplate\":\"Cha\\u00eene=M6<br>Temps en jours=%{x}<br>Temps de parole en minutes=%{y}<extra></extra>\",\"legendgroup\":\"M6\",\"line\":{\"color\":\"#00cc96\",\"dash\":\"solid\"},\"marker\":{\"symbol\":\"circle\"},\"mode\":\"lines\",\"name\":\"M6\",\"orientation\":\"v\",\"showlegend\":true,\"x\":[\"2022-03-13T00:00:00\",\"2022-03-20T00:00:00\",\"2022-03-27T00:00:00\",\"2022-04-03T00:00:00\",\"2022-04-08T00:00:00\"],\"xaxis\":\"x\",\"y\":[0.9666666666666666,1.0833333333333333,1.0833333333333333,1.5499999999999998,2.85],\"yaxis\":\"y\",\"type\":\"scatter\"},{\"hovertemplate\":\"Cha\\u00eene=BFMTV<br>Temps en jours=%{x}<br>Temps de parole en minutes=%{y}<extra></extra>\",\"legendgroup\":\"BFMTV\",\"line\":{\"color\":\"#ab63fa\",\"dash\":\"solid\"},\"marker\":{\"symbol\":\"circle\"},\"mode\":\"lines\",\"name\":\"BFMTV\",\"orientation\":\"v\",\"showlegend\":true,\"x\":[\"2022-03-13T00:00:00\",\"2022-03-20T00:00:00\",\"2022-03-27T00:00:00\",\"2022-04-03T00:00:00\",\"2022-04-08T00:00:00\"],\"xaxis\":\"x\",\"y\":[0.0,13.533333333333333,13.533333333333333,31.13333333333333,32.63333333333333],\"yaxis\":\"y\",\"type\":\"scatter\"},{\"hovertemplate\":\"Cha\\u00eene=Cnews<br>Temps en jours=%{x}<br>Temps de parole en minutes=%{y}<extra></extra>\",\"legendgroup\":\"Cnews\",\"line\":{\"color\":\"#FFA15A\",\"dash\":\"solid\"},\"marker\":{\"symbol\":\"circle\"},\"mode\":\"lines\",\"name\":\"Cnews\",\"orientation\":\"v\",\"showlegend\":true,\"x\":[\"2022-03-13T00:00:00\",\"2022-03-20T00:00:00\",\"2022-03-27T00:00:00\",\"2022-04-03T00:00:00\",\"2022-04-08T00:00:00\"],\"xaxis\":\"x\",\"y\":[14.6,24.45,24.45,60.083333333333336,84.81666666666668],\"yaxis\":\"y\",\"type\":\"scatter\"},{\"hovertemplate\":\"Cha\\u00eene=FranceinfoTV<br>Temps en jours=%{x}<br>Temps de parole en minutes=%{y}<extra></extra>\",\"legendgroup\":\"FranceinfoTV\",\"line\":{\"color\":\"#19d3f3\",\"dash\":\"solid\"},\"marker\":{\"symbol\":\"circle\"},\"mode\":\"lines\",\"name\":\"FranceinfoTV\",\"orientation\":\"v\",\"showlegend\":true,\"x\":[\"2022-03-13T00:00:00\",\"2022-03-20T00:00:00\",\"2022-03-27T00:00:00\",\"2022-04-03T00:00:00\",\"2022-04-08T00:00:00\"],\"xaxis\":\"x\",\"y\":[1.0166666666666666,35.516666666666666,35.516666666666666,134.40000000000003,180.83333333333334],\"yaxis\":\"y\",\"type\":\"scatter\"},{\"hovertemplate\":\"Cha\\u00eene=FranceInter<br>Temps en jours=%{x}<br>Temps de parole en minutes=%{y}<extra></extra>\",\"legendgroup\":\"FranceInter\",\"line\":{\"color\":\"#FF6692\",\"dash\":\"solid\"},\"marker\":{\"symbol\":\"circle\"},\"mode\":\"lines\",\"name\":\"FranceInter\",\"orientation\":\"v\",\"showlegend\":true,\"x\":[\"2022-03-13T00:00:00\",\"2022-03-20T00:00:00\",\"2022-03-27T00:00:00\",\"2022-04-03T00:00:00\",\"2022-04-08T00:00:00\"],\"xaxis\":\"x\",\"y\":[1.1166666666666667,11.016666666666667,11.016666666666667,4.4,14.083333333333332],\"yaxis\":\"y\",\"type\":\"scatter\"},{\"hovertemplate\":\"Cha\\u00eene=FranceInfo<br>Temps en jours=%{x}<br>Temps de parole en minutes=%{y}<extra></extra>\",\"legendgroup\":\"FranceInfo\",\"line\":{\"color\":\"#B6E880\",\"dash\":\"solid\"},\"marker\":{\"symbol\":\"circle\"},\"mode\":\"lines\",\"name\":\"FranceInfo\",\"orientation\":\"v\",\"showlegend\":true,\"x\":[\"2022-03-13T00:00:00\",\"2022-03-20T00:00:00\",\"2022-03-27T00:00:00\",\"2022-04-03T00:00:00\",\"2022-04-08T00:00:00\"],\"xaxis\":\"x\",\"y\":[0.6166666666666667,17.316666666666666,17.316666666666666,65.71666666666667,81.41666666666666],\"yaxis\":\"y\",\"type\":\"scatter\"},{\"hovertemplate\":\"Cha\\u00eene=RTL<br>Temps en jours=%{x}<br>Temps de parole en minutes=%{y}<extra></extra>\",\"legendgroup\":\"RTL\",\"line\":{\"color\":\"#FF97FF\",\"dash\":\"solid\"},\"marker\":{\"symbol\":\"circle\"},\"mode\":\"lines\",\"name\":\"RTL\",\"orientation\":\"v\",\"showlegend\":true,\"x\":[\"2022-03-13T00:00:00\",\"2022-03-20T00:00:00\",\"2022-03-27T00:00:00\",\"2022-04-03T00:00:00\",\"2022-04-08T00:00:00\"],\"xaxis\":\"x\",\"y\":[0.0,3.8333333333333335,3.8333333333333335,10.233333333333333,15.416666666666668],\"yaxis\":\"y\",\"type\":\"scatter\"},{\"hovertemplate\":\"Cha\\u00eene=RMC<br>Temps en jours=%{x}<br>Temps de parole en minutes=%{y}<extra></extra>\",\"legendgroup\":\"RMC\",\"line\":{\"color\":\"#FECB52\",\"dash\":\"solid\"},\"marker\":{\"symbol\":\"circle\"},\"mode\":\"lines\",\"name\":\"RMC\",\"orientation\":\"v\",\"showlegend\":true,\"x\":[\"2022-03-13T00:00:00\",\"2022-03-20T00:00:00\",\"2022-03-27T00:00:00\",\"2022-04-03T00:00:00\",\"2022-04-08T00:00:00\"],\"xaxis\":\"x\",\"y\":[0.7666666666666667,0.7666666666666667,0.7666666666666667,0.48333333333333334,16.733333333333334],\"yaxis\":\"y\",\"type\":\"scatter\"},{\"hovertemplate\":\"Cha\\u00eene=RadioClassique<br>Temps en jours=%{x}<br>Temps de parole en minutes=%{y}<extra></extra>\",\"legendgroup\":\"RadioClassique\",\"line\":{\"color\":\"#636efa\",\"dash\":\"solid\"},\"marker\":{\"symbol\":\"circle\"},\"mode\":\"lines\",\"name\":\"RadioClassique\",\"orientation\":\"v\",\"showlegend\":true,\"x\":[\"2022-03-13T00:00:00\",\"2022-03-20T00:00:00\",\"2022-03-27T00:00:00\",\"2022-04-03T00:00:00\",\"2022-04-08T00:00:00\"],\"xaxis\":\"x\",\"y\":[0.0,0.0,0.0,0.0,0.0],\"yaxis\":\"y\",\"type\":\"scatter\"},{\"hovertemplate\":\"Cha\\u00eene=SudRadio<br>Temps en jours=%{x}<br>Temps de parole en minutes=%{y}<extra></extra>\",\"legendgroup\":\"SudRadio\",\"line\":{\"color\":\"#EF553B\",\"dash\":\"solid\"},\"marker\":{\"symbol\":\"circle\"},\"mode\":\"lines\",\"name\":\"SudRadio\",\"orientation\":\"v\",\"showlegend\":true,\"x\":[\"2022-03-13T00:00:00\",\"2022-03-20T00:00:00\",\"2022-03-27T00:00:00\",\"2022-04-03T00:00:00\",\"2022-04-08T00:00:00\"],\"xaxis\":\"x\",\"y\":[0.0,0.0,0.0,0.7666666666666666,1.6666666666666667],\"yaxis\":\"y\",\"type\":\"scatter\"},{\"hovertemplate\":\"Cha\\u00eene=TV5Monde<br>Temps en jours=%{x}<br>Temps de parole en minutes=%{y}<extra></extra>\",\"legendgroup\":\"TV5Monde\",\"line\":{\"color\":\"#00cc96\",\"dash\":\"solid\"},\"marker\":{\"symbol\":\"circle\"},\"mode\":\"lines\",\"name\":\"TV5Monde\",\"orientation\":\"v\",\"showlegend\":true,\"x\":[\"2022-03-13T00:00:00\",\"2022-03-20T00:00:00\",\"2022-03-27T00:00:00\",\"2022-04-03T00:00:00\",\"2022-04-08T00:00:00\"],\"xaxis\":\"x\",\"y\":[0.13333333333333333,0.13333333333333333,0.13333333333333333,7.583333333333333,32.083333333333336],\"yaxis\":\"y\",\"type\":\"scatter\"},{\"hovertemplate\":\"Cha\\u00eene=Euronews<br>Temps en jours=%{x}<br>Temps de parole en minutes=%{y}<extra></extra>\",\"legendgroup\":\"Euronews\",\"line\":{\"color\":\"#ab63fa\",\"dash\":\"solid\"},\"marker\":{\"symbol\":\"circle\"},\"mode\":\"lines\",\"name\":\"Euronews\",\"orientation\":\"v\",\"showlegend\":true,\"x\":[\"2022-03-13T00:00:00\",\"2022-03-20T00:00:00\",\"2022-03-27T00:00:00\"],\"xaxis\":\"x\",\"y\":[0.0,0.0,0.0],\"yaxis\":\"y\",\"type\":\"scatter\"},{\"hovertemplate\":\"Cha\\u00eene=France24<br>Temps en jours=%{x}<br>Temps de parole en minutes=%{y}<extra></extra>\",\"legendgroup\":\"France24\",\"line\":{\"color\":\"#FFA15A\",\"dash\":\"solid\"},\"marker\":{\"symbol\":\"circle\"},\"mode\":\"lines\",\"name\":\"France24\",\"orientation\":\"v\",\"showlegend\":true,\"x\":[\"2022-03-13T00:00:00\",\"2022-03-20T00:00:00\",\"2022-03-27T00:00:00\",\"2022-04-03T00:00:00\",\"2022-04-08T00:00:00\"],\"xaxis\":\"x\",\"y\":[0.0,3.1999999999999997,3.1999999999999997,11.466666666666667,23.0],\"yaxis\":\"y\",\"type\":\"scatter\"},{\"hovertemplate\":\"Cha\\u00eene=RMC Story<br>Temps en jours=%{x}<br>Temps de parole en minutes=%{y}<extra></extra>\",\"legendgroup\":\"RMC Story\",\"line\":{\"color\":\"#19d3f3\",\"dash\":\"solid\"},\"marker\":{\"symbol\":\"circle\"},\"mode\":\"lines\",\"name\":\"RMC Story\",\"orientation\":\"v\",\"showlegend\":true,\"x\":[\"2022-03-13T00:00:00\",\"2022-03-20T00:00:00\",\"2022-03-27T00:00:00\",\"2022-04-03T00:00:00\",\"2022-04-08T00:00:00\"],\"xaxis\":\"x\",\"y\":[0.0,0.0,0.0,0.0,6.866666666666666],\"yaxis\":\"y\",\"type\":\"scatter\"},{\"hovertemplate\":\"Cha\\u00eene=TF1<br>Temps en jours=%{x}<br>Temps de parole en minutes=%{y}<extra></extra>\",\"legendgroup\":\"TF1\",\"line\":{\"color\":\"#FF6692\",\"dash\":\"solid\"},\"marker\":{\"symbol\":\"circle\"},\"mode\":\"lines\",\"name\":\"TF1\",\"orientation\":\"v\",\"showlegend\":true,\"x\":[\"2022-03-20T00:00:00\",\"2022-03-27T00:00:00\",\"2022-04-03T00:00:00\",\"2022-04-08T00:00:00\"],\"xaxis\":\"x\",\"y\":[1.05,1.05,9.916666666666666,10.883333333333333],\"yaxis\":\"y\",\"type\":\"scatter\"},{\"hovertemplate\":\"Cha\\u00eene=France5<br>Temps en jours=%{x}<br>Temps de parole en minutes=%{y}<extra></extra>\",\"legendgroup\":\"France5\",\"line\":{\"color\":\"#B6E880\",\"dash\":\"solid\"},\"marker\":{\"symbol\":\"circle\"},\"mode\":\"lines\",\"name\":\"France5\",\"orientation\":\"v\",\"showlegend\":true,\"x\":[\"2022-03-20T00:00:00\",\"2022-03-27T00:00:00\",\"2022-04-03T00:00:00\",\"2022-04-08T00:00:00\"],\"xaxis\":\"x\",\"y\":[1.6,1.6,5.949999999999999,11.7],\"yaxis\":\"y\",\"type\":\"scatter\"},{\"hovertemplate\":\"Cha\\u00eene=C8<br>Temps en jours=%{x}<br>Temps de parole en minutes=%{y}<extra></extra>\",\"legendgroup\":\"C8\",\"line\":{\"color\":\"#FF97FF\",\"dash\":\"solid\"},\"marker\":{\"symbol\":\"circle\"},\"mode\":\"lines\",\"name\":\"C8\",\"orientation\":\"v\",\"showlegend\":true,\"x\":[\"2022-03-20T00:00:00\",\"2022-03-27T00:00:00\",\"2022-04-03T00:00:00\",\"2022-04-08T00:00:00\"],\"xaxis\":\"x\",\"y\":[0.7,0.7,11.016666666666667,11.833333333333334],\"yaxis\":\"y\",\"type\":\"scatter\"},{\"hovertemplate\":\"Cha\\u00eene=TMC<br>Temps en jours=%{x}<br>Temps de parole en minutes=%{y}<extra></extra>\",\"legendgroup\":\"TMC\",\"line\":{\"color\":\"#FECB52\",\"dash\":\"solid\"},\"marker\":{\"symbol\":\"circle\"},\"mode\":\"lines\",\"name\":\"TMC\",\"orientation\":\"v\",\"showlegend\":true,\"x\":[\"2022-03-20T00:00:00\",\"2022-03-27T00:00:00\",\"2022-04-03T00:00:00\",\"2022-04-08T00:00:00\"],\"xaxis\":\"x\",\"y\":[2.5,2.5,10.466666666666667,18.766666666666666],\"yaxis\":\"y\",\"type\":\"scatter\"},{\"hovertemplate\":\"Cha\\u00eene=RMCDecouverte<br>Temps en jours=%{x}<br>Temps de parole en minutes=%{y}<extra></extra>\",\"legendgroup\":\"RMCDecouverte\",\"line\":{\"color\":\"#636efa\",\"dash\":\"solid\"},\"marker\":{\"symbol\":\"circle\"},\"mode\":\"lines\",\"name\":\"RMCDecouverte\",\"orientation\":\"v\",\"showlegend\":true,\"x\":[\"2022-03-20T00:00:00\",\"2022-03-27T00:00:00\"],\"xaxis\":\"x\",\"y\":[0.0,0.0],\"yaxis\":\"y\",\"type\":\"scatter\"},{\"hovertemplate\":\"Cha\\u00eene=LCI<br>Temps en jours=%{x}<br>Temps de parole en minutes=%{y}<extra></extra>\",\"legendgroup\":\"LCI\",\"line\":{\"color\":\"#EF553B\",\"dash\":\"solid\"},\"marker\":{\"symbol\":\"circle\"},\"mode\":\"lines\",\"name\":\"LCI\",\"orientation\":\"v\",\"showlegend\":true,\"x\":[\"2022-03-20T00:00:00\",\"2022-03-27T00:00:00\",\"2022-04-03T00:00:00\",\"2022-04-08T00:00:00\"],\"xaxis\":\"x\",\"y\":[4.0,4.0,143.73333333333335,210.55],\"yaxis\":\"y\",\"type\":\"scatter\"},{\"hovertemplate\":\"Cha\\u00eene=FranceCulture<br>Temps en jours=%{x}<br>Temps de parole en minutes=%{y}<extra></extra>\",\"legendgroup\":\"FranceCulture\",\"line\":{\"color\":\"#00cc96\",\"dash\":\"solid\"},\"marker\":{\"symbol\":\"circle\"},\"mode\":\"lines\",\"name\":\"FranceCulture\",\"orientation\":\"v\",\"showlegend\":true,\"x\":[\"2022-03-20T00:00:00\",\"2022-03-27T00:00:00\",\"2022-04-03T00:00:00\",\"2022-04-08T00:00:00\"],\"xaxis\":\"x\",\"y\":[1.8,1.8,11.716666666666667,12.033333333333333],\"yaxis\":\"y\",\"type\":\"scatter\"},{\"hovertemplate\":\"Cha\\u00eene=BFMBusiness<br>Temps en jours=%{x}<br>Temps de parole en minutes=%{y}<extra></extra>\",\"legendgroup\":\"BFMBusiness\",\"line\":{\"color\":\"#ab63fa\",\"dash\":\"solid\"},\"marker\":{\"symbol\":\"circle\"},\"mode\":\"lines\",\"name\":\"BFMBusiness\",\"orientation\":\"v\",\"showlegend\":true,\"x\":[\"2022-03-20T00:00:00\",\"2022-03-27T00:00:00\"],\"xaxis\":\"x\",\"y\":[0.0,0.0],\"yaxis\":\"y\",\"type\":\"scatter\"},{\"hovertemplate\":\"Cha\\u00eene=RFI<br>Temps en jours=%{x}<br>Temps de parole en minutes=%{y}<extra></extra>\",\"legendgroup\":\"RFI\",\"line\":{\"color\":\"#FFA15A\",\"dash\":\"solid\"},\"marker\":{\"symbol\":\"circle\"},\"mode\":\"lines\",\"name\":\"RFI\",\"orientation\":\"v\",\"showlegend\":true,\"x\":[\"2022-03-20T00:00:00\",\"2022-03-27T00:00:00\",\"2022-04-03T00:00:00\",\"2022-04-08T00:00:00\"],\"xaxis\":\"x\",\"y\":[1.3333333333333333,1.3333333333333333,17.1,26.21666666666667],\"yaxis\":\"y\",\"type\":\"scatter\"},{\"hovertemplate\":\"Cha\\u00eene=Europe1<br>Temps en jours=%{x}<br>Temps de parole en minutes=%{y}<extra></extra>\",\"legendgroup\":\"Europe1\",\"line\":{\"color\":\"#19d3f3\",\"dash\":\"solid\"},\"marker\":{\"symbol\":\"circle\"},\"mode\":\"lines\",\"name\":\"Europe1\",\"orientation\":\"v\",\"showlegend\":true,\"x\":[\"2022-04-03T00:00:00\",\"2022-04-08T00:00:00\"],\"xaxis\":\"x\",\"y\":[2.9333333333333336,3.95],\"yaxis\":\"y\",\"type\":\"scatter\"}],                        {\"template\":{\"data\":{\"histogram2dcontour\":[{\"type\":\"histogram2dcontour\",\"colorbar\":{\"outlinewidth\":0,\"ticks\":\"\"},\"colorscale\":[[0.0,\"#0d0887\"],[0.1111111111111111,\"#46039f\"],[0.2222222222222222,\"#7201a8\"],[0.3333333333333333,\"#9c179e\"],[0.4444444444444444,\"#bd3786\"],[0.5555555555555556,\"#d8576b\"],[0.6666666666666666,\"#ed7953\"],[0.7777777777777778,\"#fb9f3a\"],[0.8888888888888888,\"#fdca26\"],[1.0,\"#f0f921\"]]}],\"choropleth\":[{\"type\":\"choropleth\",\"colorbar\":{\"outlinewidth\":0,\"ticks\":\"\"}}],\"histogram2d\":[{\"type\":\"histogram2d\",\"colorbar\":{\"outlinewidth\":0,\"ticks\":\"\"},\"colorscale\":[[0.0,\"#0d0887\"],[0.1111111111111111,\"#46039f\"],[0.2222222222222222,\"#7201a8\"],[0.3333333333333333,\"#9c179e\"],[0.4444444444444444,\"#bd3786\"],[0.5555555555555556,\"#d8576b\"],[0.6666666666666666,\"#ed7953\"],[0.7777777777777778,\"#fb9f3a\"],[0.8888888888888888,\"#fdca26\"],[1.0,\"#f0f921\"]]}],\"heatmap\":[{\"type\":\"heatmap\",\"colorbar\":{\"outlinewidth\":0,\"ticks\":\"\"},\"colorscale\":[[0.0,\"#0d0887\"],[0.1111111111111111,\"#46039f\"],[0.2222222222222222,\"#7201a8\"],[0.3333333333333333,\"#9c179e\"],[0.4444444444444444,\"#bd3786\"],[0.5555555555555556,\"#d8576b\"],[0.6666666666666666,\"#ed7953\"],[0.7777777777777778,\"#fb9f3a\"],[0.8888888888888888,\"#fdca26\"],[1.0,\"#f0f921\"]]}],\"heatmapgl\":[{\"type\":\"heatmapgl\",\"colorbar\":{\"outlinewidth\":0,\"ticks\":\"\"},\"colorscale\":[[0.0,\"#0d0887\"],[0.1111111111111111,\"#46039f\"],[0.2222222222222222,\"#7201a8\"],[0.3333333333333333,\"#9c179e\"],[0.4444444444444444,\"#bd3786\"],[0.5555555555555556,\"#d8576b\"],[0.6666666666666666,\"#ed7953\"],[0.7777777777777778,\"#fb9f3a\"],[0.8888888888888888,\"#fdca26\"],[1.0,\"#f0f921\"]]}],\"contourcarpet\":[{\"type\":\"contourcarpet\",\"colorbar\":{\"outlinewidth\":0,\"ticks\":\"\"}}],\"contour\":[{\"type\":\"contour\",\"colorbar\":{\"outlinewidth\":0,\"ticks\":\"\"},\"colorscale\":[[0.0,\"#0d0887\"],[0.1111111111111111,\"#46039f\"],[0.2222222222222222,\"#7201a8\"],[0.3333333333333333,\"#9c179e\"],[0.4444444444444444,\"#bd3786\"],[0.5555555555555556,\"#d8576b\"],[0.6666666666666666,\"#ed7953\"],[0.7777777777777778,\"#fb9f3a\"],[0.8888888888888888,\"#fdca26\"],[1.0,\"#f0f921\"]]}],\"surface\":[{\"type\":\"surface\",\"colorbar\":{\"outlinewidth\":0,\"ticks\":\"\"},\"colorscale\":[[0.0,\"#0d0887\"],[0.1111111111111111,\"#46039f\"],[0.2222222222222222,\"#7201a8\"],[0.3333333333333333,\"#9c179e\"],[0.4444444444444444,\"#bd3786\"],[0.5555555555555556,\"#d8576b\"],[0.6666666666666666,\"#ed7953\"],[0.7777777777777778,\"#fb9f3a\"],[0.8888888888888888,\"#fdca26\"],[1.0,\"#f0f921\"]]}],\"mesh3d\":[{\"type\":\"mesh3d\",\"colorbar\":{\"outlinewidth\":0,\"ticks\":\"\"}}],\"scatter\":[{\"marker\":{\"line\":{\"color\":\"#283442\"}},\"type\":\"scatter\"}],\"parcoords\":[{\"type\":\"parcoords\",\"line\":{\"colorbar\":{\"outlinewidth\":0,\"ticks\":\"\"}}}],\"scatterpolargl\":[{\"type\":\"scatterpolargl\",\"marker\":{\"colorbar\":{\"outlinewidth\":0,\"ticks\":\"\"}}}],\"bar\":[{\"error_x\":{\"color\":\"#f2f5fa\"},\"error_y\":{\"color\":\"#f2f5fa\"},\"marker\":{\"line\":{\"color\":\"rgb(17,17,17)\",\"width\":0.5},\"pattern\":{\"fillmode\":\"overlay\",\"size\":10,\"solidity\":0.2}},\"type\":\"bar\"}],\"scattergeo\":[{\"type\":\"scattergeo\",\"marker\":{\"colorbar\":{\"outlinewidth\":0,\"ticks\":\"\"}}}],\"scatterpolar\":[{\"type\":\"scatterpolar\",\"marker\":{\"colorbar\":{\"outlinewidth\":0,\"ticks\":\"\"}}}],\"histogram\":[{\"marker\":{\"pattern\":{\"fillmode\":\"overlay\",\"size\":10,\"solidity\":0.2}},\"type\":\"histogram\"}],\"scattergl\":[{\"marker\":{\"line\":{\"color\":\"#283442\"}},\"type\":\"scattergl\"}],\"scatter3d\":[{\"type\":\"scatter3d\",\"line\":{\"colorbar\":{\"outlinewidth\":0,\"ticks\":\"\"}},\"marker\":{\"colorbar\":{\"outlinewidth\":0,\"ticks\":\"\"}}}],\"scattermapbox\":[{\"type\":\"scattermapbox\",\"marker\":{\"colorbar\":{\"outlinewidth\":0,\"ticks\":\"\"}}}],\"scatterternary\":[{\"type\":\"scatterternary\",\"marker\":{\"colorbar\":{\"outlinewidth\":0,\"ticks\":\"\"}}}],\"scattercarpet\":[{\"type\":\"scattercarpet\",\"marker\":{\"colorbar\":{\"outlinewidth\":0,\"ticks\":\"\"}}}],\"carpet\":[{\"aaxis\":{\"endlinecolor\":\"#A2B1C6\",\"gridcolor\":\"#506784\",\"linecolor\":\"#506784\",\"minorgridcolor\":\"#506784\",\"startlinecolor\":\"#A2B1C6\"},\"baxis\":{\"endlinecolor\":\"#A2B1C6\",\"gridcolor\":\"#506784\",\"linecolor\":\"#506784\",\"minorgridcolor\":\"#506784\",\"startlinecolor\":\"#A2B1C6\"},\"type\":\"carpet\"}],\"table\":[{\"cells\":{\"fill\":{\"color\":\"#506784\"},\"line\":{\"color\":\"rgb(17,17,17)\"}},\"header\":{\"fill\":{\"color\":\"#2a3f5f\"},\"line\":{\"color\":\"rgb(17,17,17)\"}},\"type\":\"table\"}],\"barpolar\":[{\"marker\":{\"line\":{\"color\":\"rgb(17,17,17)\",\"width\":0.5},\"pattern\":{\"fillmode\":\"overlay\",\"size\":10,\"solidity\":0.2}},\"type\":\"barpolar\"}],\"pie\":[{\"automargin\":true,\"type\":\"pie\"}]},\"layout\":{\"autotypenumbers\":\"strict\",\"colorway\":[\"#636efa\",\"#EF553B\",\"#00cc96\",\"#ab63fa\",\"#FFA15A\",\"#19d3f3\",\"#FF6692\",\"#B6E880\",\"#FF97FF\",\"#FECB52\"],\"font\":{\"color\":\"#f2f5fa\"},\"hovermode\":\"closest\",\"hoverlabel\":{\"align\":\"left\"},\"paper_bgcolor\":\"rgb(17,17,17)\",\"plot_bgcolor\":\"rgb(17,17,17)\",\"polar\":{\"bgcolor\":\"rgb(17,17,17)\",\"angularaxis\":{\"gridcolor\":\"#506784\",\"linecolor\":\"#506784\",\"ticks\":\"\"},\"radialaxis\":{\"gridcolor\":\"#506784\",\"linecolor\":\"#506784\",\"ticks\":\"\"}},\"ternary\":{\"bgcolor\":\"rgb(17,17,17)\",\"aaxis\":{\"gridcolor\":\"#506784\",\"linecolor\":\"#506784\",\"ticks\":\"\"},\"baxis\":{\"gridcolor\":\"#506784\",\"linecolor\":\"#506784\",\"ticks\":\"\"},\"caxis\":{\"gridcolor\":\"#506784\",\"linecolor\":\"#506784\",\"ticks\":\"\"}},\"coloraxis\":{\"colorbar\":{\"outlinewidth\":0,\"ticks\":\"\"}},\"colorscale\":{\"sequential\":[[0.0,\"#0d0887\"],[0.1111111111111111,\"#46039f\"],[0.2222222222222222,\"#7201a8\"],[0.3333333333333333,\"#9c179e\"],[0.4444444444444444,\"#bd3786\"],[0.5555555555555556,\"#d8576b\"],[0.6666666666666666,\"#ed7953\"],[0.7777777777777778,\"#fb9f3a\"],[0.8888888888888888,\"#fdca26\"],[1.0,\"#f0f921\"]],\"sequentialminus\":[[0.0,\"#0d0887\"],[0.1111111111111111,\"#46039f\"],[0.2222222222222222,\"#7201a8\"],[0.3333333333333333,\"#9c179e\"],[0.4444444444444444,\"#bd3786\"],[0.5555555555555556,\"#d8576b\"],[0.6666666666666666,\"#ed7953\"],[0.7777777777777778,\"#fb9f3a\"],[0.8888888888888888,\"#fdca26\"],[1.0,\"#f0f921\"]],\"diverging\":[[0,\"#8e0152\"],[0.1,\"#c51b7d\"],[0.2,\"#de77ae\"],[0.3,\"#f1b6da\"],[0.4,\"#fde0ef\"],[0.5,\"#f7f7f7\"],[0.6,\"#e6f5d0\"],[0.7,\"#b8e186\"],[0.8,\"#7fbc41\"],[0.9,\"#4d9221\"],[1,\"#276419\"]]},\"xaxis\":{\"gridcolor\":\"#283442\",\"linecolor\":\"#506784\",\"ticks\":\"\",\"title\":{\"standoff\":15},\"zerolinecolor\":\"#283442\",\"automargin\":true,\"zerolinewidth\":2},\"yaxis\":{\"gridcolor\":\"#283442\",\"linecolor\":\"#506784\",\"ticks\":\"\",\"title\":{\"standoff\":15},\"zerolinecolor\":\"#283442\",\"automargin\":true,\"zerolinewidth\":2},\"scene\":{\"xaxis\":{\"backgroundcolor\":\"rgb(17,17,17)\",\"gridcolor\":\"#506784\",\"linecolor\":\"#506784\",\"showbackground\":true,\"ticks\":\"\",\"zerolinecolor\":\"#C8D4E3\",\"gridwidth\":2},\"yaxis\":{\"backgroundcolor\":\"rgb(17,17,17)\",\"gridcolor\":\"#506784\",\"linecolor\":\"#506784\",\"showbackground\":true,\"ticks\":\"\",\"zerolinecolor\":\"#C8D4E3\",\"gridwidth\":2},\"zaxis\":{\"backgroundcolor\":\"rgb(17,17,17)\",\"gridcolor\":\"#506784\",\"linecolor\":\"#506784\",\"showbackground\":true,\"ticks\":\"\",\"zerolinecolor\":\"#C8D4E3\",\"gridwidth\":2}},\"shapedefaults\":{\"line\":{\"color\":\"#f2f5fa\"}},\"annotationdefaults\":{\"arrowcolor\":\"#f2f5fa\",\"arrowhead\":0,\"arrowwidth\":1},\"geo\":{\"bgcolor\":\"rgb(17,17,17)\",\"landcolor\":\"rgb(17,17,17)\",\"subunitcolor\":\"#506784\",\"showland\":true,\"showlakes\":true,\"lakecolor\":\"rgb(17,17,17)\"},\"title\":{\"x\":0.05},\"updatemenudefaults\":{\"bgcolor\":\"#506784\",\"borderwidth\":0},\"sliderdefaults\":{\"bgcolor\":\"#C8D4E3\",\"borderwidth\":1,\"bordercolor\":\"rgb(17,17,17)\",\"tickwidth\":0},\"mapbox\":{\"style\":\"dark\"}}},\"xaxis\":{\"anchor\":\"y\",\"domain\":[0.0,1.0],\"title\":{\"text\":\"Temps en jours\"}},\"yaxis\":{\"anchor\":\"x\",\"domain\":[0.0,1.0],\"title\":{\"text\":\"Temps de parole en minutes\"}},\"legend\":{\"title\":{\"text\":\"Cha\\u00eene\"},\"tracegroupgap\":0},\"title\":{\"text\":\"Poutou : \\u00c9volution du temps de parole en fonction du temps\"}},                        {\"responsive\": true}                    ).then(function(){\n                            \nvar gd = document.getElementById('0ab7586d-e624-4bb0-8d95-5104696d5992');\nvar x = new MutationObserver(function (mutations, observer) {{\n        var display = window.getComputedStyle(gd).display;\n        if (!display || display === 'none') {{\n            console.log([gd, 'removed!']);\n            Plotly.purge(gd);\n            observer.disconnect();\n        }}\n}});\n\n// Listen for the removal of the full notebook cells\nvar notebookContainer = gd.closest('#notebook-container');\nif (notebookContainer) {{\n    x.observe(notebookContainer, {childList: true});\n}}\n\n// Listen for the clearing of the current output cell\nvar outputEl = gd.closest('.output');\nif (outputEl) {{\n    x.observe(outputEl, {childList: true});\n}}\n\n                        })                };                });            </script>        </div>"
     },
     "metadata": {},
     "output_type": "display_data"
    }
   ],
   "source": [
    "px.line(df_poutou, x='Période', y=\"Somme\", color='Chaîne', labels={\n",
    "    \"Période\": \"Temps en jours\",\n",
    "    \"Somme\": \"Temps de parole en minutes\",\n",
    "    \"Chaîne\": \"Chaîne\"\n",
    "}, title=\"Poutou : Évolution du temps de parole en fonction du temps\")\n"
   ],
   "metadata": {
    "collapsed": false,
    "pycharm": {
     "name": "#%%\n"
    }
   }
  },
  {
   "cell_type": "code",
   "execution_count": 31,
   "outputs": [
    {
     "data": {
      "application/vnd.plotly.v1+json": {
       "data": [
        {
         "hovertemplate": "Chaîne=France2<br>Temps en jours=%{x}<br>Temps de parole en minutes=%{y}<extra></extra>",
         "legendgroup": "France2",
         "line": {
          "color": "#636efa",
          "dash": "solid"
         },
         "marker": {
          "symbol": "circle"
         },
         "mode": "lines",
         "name": "France2",
         "orientation": "v",
         "showlegend": true,
         "x": [
          "2022-03-13T00:00:00",
          "2022-03-20T00:00:00",
          "2022-03-27T00:00:00",
          "2022-04-03T00:00:00",
          "2022-04-08T00:00:00"
         ],
         "xaxis": "x",
         "y": [
          0.21666666666666667,
          0.6166666666666667,
          43.53333333333333,
          24.4,
          32.800000000000004
         ],
         "yaxis": "y",
         "type": "scatter"
        },
        {
         "hovertemplate": "Chaîne=France3<br>Temps en jours=%{x}<br>Temps de parole en minutes=%{y}<extra></extra>",
         "legendgroup": "France3",
         "line": {
          "color": "#EF553B",
          "dash": "solid"
         },
         "marker": {
          "symbol": "circle"
         },
         "mode": "lines",
         "name": "France3",
         "orientation": "v",
         "showlegend": true,
         "x": [
          "2022-03-13T00:00:00",
          "2022-03-20T00:00:00",
          "2022-03-27T00:00:00",
          "2022-04-03T00:00:00",
          "2022-04-08T00:00:00"
         ],
         "xaxis": "x",
         "y": [
          17.083333333333332,
          17.183333333333334,
          17.98333333333333,
          1.5166666666666666,
          2.3833333333333333
         ],
         "yaxis": "y",
         "type": "scatter"
        },
        {
         "hovertemplate": "Chaîne=France5<br>Temps en jours=%{x}<br>Temps de parole en minutes=%{y}<extra></extra>",
         "legendgroup": "France5",
         "line": {
          "color": "#00cc96",
          "dash": "solid"
         },
         "marker": {
          "symbol": "circle"
         },
         "mode": "lines",
         "name": "France5",
         "orientation": "v",
         "showlegend": true,
         "x": [
          "2022-03-13T00:00:00",
          "2022-03-20T00:00:00",
          "2022-03-27T00:00:00",
          "2022-04-03T00:00:00",
          "2022-04-08T00:00:00"
         ],
         "xaxis": "x",
         "y": [
          0.36666666666666664,
          2.0833333333333335,
          18.233333333333334,
          6.233333333333333,
          10.450000000000001
         ],
         "yaxis": "y",
         "type": "scatter"
        },
        {
         "hovertemplate": "Chaîne=M6<br>Temps en jours=%{x}<br>Temps de parole en minutes=%{y}<extra></extra>",
         "legendgroup": "M6",
         "line": {
          "color": "#ab63fa",
          "dash": "solid"
         },
         "marker": {
          "symbol": "circle"
         },
         "mode": "lines",
         "name": "M6",
         "orientation": "v",
         "showlegend": true,
         "x": [
          "2022-03-13T00:00:00",
          "2022-03-20T00:00:00",
          "2022-03-27T00:00:00",
          "2022-04-03T00:00:00",
          "2022-04-08T00:00:00"
         ],
         "xaxis": "x",
         "y": [
          1.2000000000000002,
          1.8,
          6.199999999999999,
          0.8500000000000001,
          2.8166666666666664
         ],
         "yaxis": "y",
         "type": "scatter"
        },
        {
         "hovertemplate": "Chaîne=TMC<br>Temps en jours=%{x}<br>Temps de parole en minutes=%{y}<extra></extra>",
         "legendgroup": "TMC",
         "line": {
          "color": "#FFA15A",
          "dash": "solid"
         },
         "marker": {
          "symbol": "circle"
         },
         "mode": "lines",
         "name": "TMC",
         "orientation": "v",
         "showlegend": true,
         "x": [
          "2022-03-13T00:00:00",
          "2022-03-20T00:00:00",
          "2022-03-27T00:00:00",
          "2022-04-03T00:00:00",
          "2022-04-08T00:00:00"
         ],
         "xaxis": "x",
         "y": [
          3.1666666666666665,
          4.016666666666667,
          4.65,
          8.45,
          18.566666666666666
         ],
         "yaxis": "y",
         "type": "scatter"
        },
        {
         "hovertemplate": "Chaîne=BFMTV<br>Temps en jours=%{x}<br>Temps de parole en minutes=%{y}<extra></extra>",
         "legendgroup": "BFMTV",
         "line": {
          "color": "#19d3f3",
          "dash": "solid"
         },
         "marker": {
          "symbol": "circle"
         },
         "mode": "lines",
         "name": "BFMTV",
         "orientation": "v",
         "showlegend": true,
         "x": [
          "2022-03-13T00:00:00",
          "2022-03-20T00:00:00",
          "2022-03-27T00:00:00",
          "2022-04-03T00:00:00",
          "2022-04-08T00:00:00"
         ],
         "xaxis": "x",
         "y": [
          21.683333333333334,
          33.21666666666667,
          77.93333333333334,
          0.8,
          33.56666666666667
         ],
         "yaxis": "y",
         "type": "scatter"
        },
        {
         "hovertemplate": "Chaîne=Cnews<br>Temps en jours=%{x}<br>Temps de parole en minutes=%{y}<extra></extra>",
         "legendgroup": "Cnews",
         "line": {
          "color": "#FF6692",
          "dash": "solid"
         },
         "marker": {
          "symbol": "circle"
         },
         "mode": "lines",
         "name": "Cnews",
         "orientation": "v",
         "showlegend": true,
         "x": [
          "2022-03-13T00:00:00",
          "2022-03-20T00:00:00",
          "2022-03-27T00:00:00",
          "2022-04-03T00:00:00",
          "2022-04-08T00:00:00"
         ],
         "xaxis": "x",
         "y": [
          98.38333333333334,
          119.39999999999999,
          235.53333333333336,
          21.983333333333334,
          83.05
         ],
         "yaxis": "y",
         "type": "scatter"
        },
        {
         "hovertemplate": "Chaîne=LCI<br>Temps en jours=%{x}<br>Temps de parole en minutes=%{y}<extra></extra>",
         "legendgroup": "LCI",
         "line": {
          "color": "#B6E880",
          "dash": "solid"
         },
         "marker": {
          "symbol": "circle"
         },
         "mode": "lines",
         "name": "LCI",
         "orientation": "v",
         "showlegend": true,
         "x": [
          "2022-03-13T00:00:00",
          "2022-03-20T00:00:00",
          "2022-03-27T00:00:00",
          "2022-04-03T00:00:00",
          "2022-04-08T00:00:00"
         ],
         "xaxis": "x",
         "y": [
          0.21666666666666667,
          16.21666666666667,
          130.51666666666665,
          161.0,
          211.31666666666666
         ],
         "yaxis": "y",
         "type": "scatter"
        },
        {
         "hovertemplate": "Chaîne=FranceinfoTV<br>Temps en jours=%{x}<br>Temps de parole en minutes=%{y}<extra></extra>",
         "legendgroup": "FranceinfoTV",
         "line": {
          "color": "#FF97FF",
          "dash": "solid"
         },
         "marker": {
          "symbol": "circle"
         },
         "mode": "lines",
         "name": "FranceinfoTV",
         "orientation": "v",
         "showlegend": true,
         "x": [
          "2022-03-13T00:00:00",
          "2022-03-20T00:00:00",
          "2022-03-27T00:00:00",
          "2022-04-03T00:00:00",
          "2022-04-08T00:00:00"
         ],
         "xaxis": "x",
         "y": [
          1.3666666666666667,
          43.616666666666674,
          102.3,
          149.01666666666668,
          183.91666666666666
         ],
         "yaxis": "y",
         "type": "scatter"
        },
        {
         "hovertemplate": "Chaîne=FranceInter<br>Temps en jours=%{x}<br>Temps de parole en minutes=%{y}<extra></extra>",
         "legendgroup": "FranceInter",
         "line": {
          "color": "#FECB52",
          "dash": "solid"
         },
         "marker": {
          "symbol": "circle"
         },
         "mode": "lines",
         "name": "FranceInter",
         "orientation": "v",
         "showlegend": true,
         "x": [
          "2022-03-13T00:00:00",
          "2022-03-20T00:00:00",
          "2022-03-27T00:00:00",
          "2022-04-03T00:00:00",
          "2022-04-08T00:00:00"
         ],
         "xaxis": "x",
         "y": [
          1.4166666666666667,
          14.333333333333334,
          15.466666666666667,
          3.4833333333333334,
          14.583333333333334
         ],
         "yaxis": "y",
         "type": "scatter"
        },
        {
         "hovertemplate": "Chaîne=FranceInfo<br>Temps en jours=%{x}<br>Temps de parole en minutes=%{y}<extra></extra>",
         "legendgroup": "FranceInfo",
         "line": {
          "color": "#636efa",
          "dash": "solid"
         },
         "marker": {
          "symbol": "circle"
         },
         "mode": "lines",
         "name": "FranceInfo",
         "orientation": "v",
         "showlegend": true,
         "x": [
          "2022-03-13T00:00:00",
          "2022-03-20T00:00:00",
          "2022-03-27T00:00:00",
          "2022-04-03T00:00:00",
          "2022-04-08T00:00:00"
         ],
         "xaxis": "x",
         "y": [
          15.55,
          50.75,
          68.81666666666666,
          47.43333333333333,
          85.68333333333334
         ],
         "yaxis": "y",
         "type": "scatter"
        },
        {
         "hovertemplate": "Chaîne=FranceCulture<br>Temps en jours=%{x}<br>Temps de parole en minutes=%{y}<extra></extra>",
         "legendgroup": "FranceCulture",
         "line": {
          "color": "#EF553B",
          "dash": "solid"
         },
         "marker": {
          "symbol": "circle"
         },
         "mode": "lines",
         "name": "FranceCulture",
         "orientation": "v",
         "showlegend": true,
         "x": [
          "2022-03-13T00:00:00",
          "2022-03-20T00:00:00",
          "2022-03-27T00:00:00",
          "2022-04-03T00:00:00",
          "2022-04-08T00:00:00"
         ],
         "xaxis": "x",
         "y": [
          1.3499999999999999,
          9.65,
          11.133333333333333,
          10.666666666666666,
          11.383333333333333
         ],
         "yaxis": "y",
         "type": "scatter"
        },
        {
         "hovertemplate": "Chaîne=RTL<br>Temps en jours=%{x}<br>Temps de parole en minutes=%{y}<extra></extra>",
         "legendgroup": "RTL",
         "line": {
          "color": "#00cc96",
          "dash": "solid"
         },
         "marker": {
          "symbol": "circle"
         },
         "mode": "lines",
         "name": "RTL",
         "orientation": "v",
         "showlegend": true,
         "x": [
          "2022-03-13T00:00:00",
          "2022-03-20T00:00:00",
          "2022-03-27T00:00:00",
          "2022-04-03T00:00:00",
          "2022-04-08T00:00:00"
         ],
         "xaxis": "x",
         "y": [
          0.35,
          23.816666666666666,
          25.1,
          12.133333333333333,
          15.683333333333334
         ],
         "yaxis": "y",
         "type": "scatter"
        },
        {
         "hovertemplate": "Chaîne=Europe1<br>Temps en jours=%{x}<br>Temps de parole en minutes=%{y}<extra></extra>",
         "legendgroup": "Europe1",
         "line": {
          "color": "#ab63fa",
          "dash": "solid"
         },
         "marker": {
          "symbol": "circle"
         },
         "mode": "lines",
         "name": "Europe1",
         "orientation": "v",
         "showlegend": true,
         "x": [
          "2022-03-13T00:00:00",
          "2022-03-20T00:00:00",
          "2022-03-27T00:00:00",
          "2022-04-03T00:00:00",
          "2022-04-08T00:00:00"
         ],
         "xaxis": "x",
         "y": [
          0.0,
          39.43333333333334,
          46.16666666666667,
          1.5333333333333332,
          51.13333333333333
         ],
         "yaxis": "y",
         "type": "scatter"
        },
        {
         "hovertemplate": "Chaîne=RMC<br>Temps en jours=%{x}<br>Temps de parole en minutes=%{y}<extra></extra>",
         "legendgroup": "RMC",
         "line": {
          "color": "#FFA15A",
          "dash": "solid"
         },
         "marker": {
          "symbol": "circle"
         },
         "mode": "lines",
         "name": "RMC",
         "orientation": "v",
         "showlegend": true,
         "x": [
          "2022-03-13T00:00:00",
          "2022-03-20T00:00:00",
          "2022-03-27T00:00:00",
          "2022-04-03T00:00:00",
          "2022-04-08T00:00:00"
         ],
         "xaxis": "x",
         "y": [
          0.0,
          19.866666666666667,
          37.766666666666666,
          4.35,
          17.21666666666667
         ],
         "yaxis": "y",
         "type": "scatter"
        },
        {
         "hovertemplate": "Chaîne=RadioClassique<br>Temps en jours=%{x}<br>Temps de parole en minutes=%{y}<extra></extra>",
         "legendgroup": "RadioClassique",
         "line": {
          "color": "#19d3f3",
          "dash": "solid"
         },
         "marker": {
          "symbol": "circle"
         },
         "mode": "lines",
         "name": "RadioClassique",
         "orientation": "v",
         "showlegend": true,
         "x": [
          "2022-03-13T00:00:00",
          "2022-03-20T00:00:00",
          "2022-03-27T00:00:00",
          "2022-04-03T00:00:00",
          "2022-04-08T00:00:00"
         ],
         "xaxis": "x",
         "y": [
          0.0,
          0.18333333333333332,
          0.7333333333333333,
          0.0,
          0.0
         ],
         "yaxis": "y",
         "type": "scatter"
        },
        {
         "hovertemplate": "Chaîne=SudRadio<br>Temps en jours=%{x}<br>Temps de parole en minutes=%{y}<extra></extra>",
         "legendgroup": "SudRadio",
         "line": {
          "color": "#FF6692",
          "dash": "solid"
         },
         "marker": {
          "symbol": "circle"
         },
         "mode": "lines",
         "name": "SudRadio",
         "orientation": "v",
         "showlegend": true,
         "x": [
          "2022-03-13T00:00:00",
          "2022-03-20T00:00:00",
          "2022-03-27T00:00:00",
          "2022-04-03T00:00:00",
          "2022-04-08T00:00:00"
         ],
         "xaxis": "x",
         "y": [
          0.0,
          0.0,
          3.2666666666666666,
          0.7666666666666666,
          1.6666666666666667
         ],
         "yaxis": "y",
         "type": "scatter"
        },
        {
         "hovertemplate": "Chaîne=TV5Monde<br>Temps en jours=%{x}<br>Temps de parole en minutes=%{y}<extra></extra>",
         "legendgroup": "TV5Monde",
         "line": {
          "color": "#B6E880",
          "dash": "solid"
         },
         "marker": {
          "symbol": "circle"
         },
         "mode": "lines",
         "name": "TV5Monde",
         "orientation": "v",
         "showlegend": true,
         "x": [
          "2022-03-13T00:00:00",
          "2022-03-20T00:00:00",
          "2022-03-27T00:00:00",
          "2022-04-03T00:00:00",
          "2022-04-08T00:00:00"
         ],
         "xaxis": "x",
         "y": [
          0.43333333333333335,
          0.8333333333333334,
          40.88333333333333,
          22.766666666666666,
          30.433333333333334
         ],
         "yaxis": "y",
         "type": "scatter"
        },
        {
         "hovertemplate": "Chaîne=Euronews<br>Temps en jours=%{x}<br>Temps de parole en minutes=%{y}<extra></extra>",
         "legendgroup": "Euronews",
         "line": {
          "color": "#FF97FF",
          "dash": "solid"
         },
         "marker": {
          "symbol": "circle"
         },
         "mode": "lines",
         "name": "Euronews",
         "orientation": "v",
         "showlegend": true,
         "x": [
          "2022-03-13T00:00:00",
          "2022-03-20T00:00:00",
          "2022-03-27T00:00:00"
         ],
         "xaxis": "x",
         "y": [
          0.0,
          0.0,
          0.0
         ],
         "yaxis": "y",
         "type": "scatter"
        },
        {
         "hovertemplate": "Chaîne=RFI<br>Temps en jours=%{x}<br>Temps de parole en minutes=%{y}<extra></extra>",
         "legendgroup": "RFI",
         "line": {
          "color": "#FECB52",
          "dash": "solid"
         },
         "marker": {
          "symbol": "circle"
         },
         "mode": "lines",
         "name": "RFI",
         "orientation": "v",
         "showlegend": true,
         "x": [
          "2022-03-13T00:00:00",
          "2022-03-20T00:00:00",
          "2022-03-27T00:00:00",
          "2022-04-03T00:00:00",
          "2022-04-08T00:00:00"
         ],
         "xaxis": "x",
         "y": [
          1.3,
          1.3,
          14.316666666666666,
          11.2,
          24.116666666666667
         ],
         "yaxis": "y",
         "type": "scatter"
        },
        {
         "hovertemplate": "Chaîne=France24<br>Temps en jours=%{x}<br>Temps de parole en minutes=%{y}<extra></extra>",
         "legendgroup": "France24",
         "line": {
          "color": "#636efa",
          "dash": "solid"
         },
         "marker": {
          "symbol": "circle"
         },
         "mode": "lines",
         "name": "France24",
         "orientation": "v",
         "showlegend": true,
         "x": [
          "2022-03-13T00:00:00",
          "2022-03-20T00:00:00",
          "2022-03-27T00:00:00",
          "2022-04-03T00:00:00",
          "2022-04-08T00:00:00"
         ],
         "xaxis": "x",
         "y": [
          0.0,
          4.4,
          14.366666666666665,
          11.983333333333334,
          21.56666666666667
         ],
         "yaxis": "y",
         "type": "scatter"
        },
        {
         "hovertemplate": "Chaîne=RMC Story<br>Temps en jours=%{x}<br>Temps de parole en minutes=%{y}<extra></extra>",
         "legendgroup": "RMC Story",
         "line": {
          "color": "#EF553B",
          "dash": "solid"
         },
         "marker": {
          "symbol": "circle"
         },
         "mode": "lines",
         "name": "RMC Story",
         "orientation": "v",
         "showlegend": true,
         "x": [
          "2022-03-13T00:00:00",
          "2022-03-20T00:00:00",
          "2022-03-27T00:00:00",
          "2022-04-03T00:00:00",
          "2022-04-08T00:00:00"
         ],
         "xaxis": "x",
         "y": [
          0.0,
          12.966666666666667,
          24.9,
          1.8,
          7.366666666666666
         ],
         "yaxis": "y",
         "type": "scatter"
        },
        {
         "hovertemplate": "Chaîne=TF1<br>Temps en jours=%{x}<br>Temps de parole en minutes=%{y}<extra></extra>",
         "legendgroup": "TF1",
         "line": {
          "color": "#00cc96",
          "dash": "solid"
         },
         "marker": {
          "symbol": "circle"
         },
         "mode": "lines",
         "name": "TF1",
         "orientation": "v",
         "showlegend": true,
         "x": [
          "2022-03-20T00:00:00",
          "2022-03-27T00:00:00",
          "2022-04-03T00:00:00",
          "2022-04-08T00:00:00"
         ],
         "xaxis": "x",
         "y": [
          15.183333333333334,
          15.183333333333334,
          0.7166666666666667,
          10.716666666666667
         ],
         "yaxis": "y",
         "type": "scatter"
        },
        {
         "hovertemplate": "Chaîne=C8<br>Temps en jours=%{x}<br>Temps de parole en minutes=%{y}<extra></extra>",
         "legendgroup": "C8",
         "line": {
          "color": "#ab63fa",
          "dash": "solid"
         },
         "marker": {
          "symbol": "circle"
         },
         "mode": "lines",
         "name": "C8",
         "orientation": "v",
         "showlegend": true,
         "x": [
          "2022-03-20T00:00:00",
          "2022-03-27T00:00:00",
          "2022-04-03T00:00:00",
          "2022-04-08T00:00:00"
         ],
         "xaxis": "x",
         "y": [
          2.0,
          42.13333333333333,
          8.166666666666666,
          10.5
         ],
         "yaxis": "y",
         "type": "scatter"
        },
        {
         "hovertemplate": "Chaîne=BFMBusiness<br>Temps en jours=%{x}<br>Temps de parole en minutes=%{y}<extra></extra>",
         "legendgroup": "BFMBusiness",
         "line": {
          "color": "#FFA15A",
          "dash": "solid"
         },
         "marker": {
          "symbol": "circle"
         },
         "mode": "lines",
         "name": "BFMBusiness",
         "orientation": "v",
         "showlegend": true,
         "x": [
          "2022-03-20T00:00:00",
          "2022-03-27T00:00:00"
         ],
         "xaxis": "x",
         "y": [
          15.9,
          17.1
         ],
         "yaxis": "y",
         "type": "scatter"
        },
        {
         "hovertemplate": "Chaîne=RMCDecouverte<br>Temps en jours=%{x}<br>Temps de parole en minutes=%{y}<extra></extra>",
         "legendgroup": "RMCDecouverte",
         "line": {
          "color": "#19d3f3",
          "dash": "solid"
         },
         "marker": {
          "symbol": "circle"
         },
         "mode": "lines",
         "name": "RMCDecouverte",
         "orientation": "v",
         "showlegend": true,
         "x": [
          "2022-03-27T00:00:00"
         ],
         "xaxis": "x",
         "y": [
          0.0
         ],
         "yaxis": "y",
         "type": "scatter"
        }
       ],
       "layout": {
        "template": {
         "data": {
          "histogram2dcontour": [
           {
            "type": "histogram2dcontour",
            "colorbar": {
             "outlinewidth": 0,
             "ticks": ""
            },
            "colorscale": [
             [
              0.0,
              "#0d0887"
             ],
             [
              0.1111111111111111,
              "#46039f"
             ],
             [
              0.2222222222222222,
              "#7201a8"
             ],
             [
              0.3333333333333333,
              "#9c179e"
             ],
             [
              0.4444444444444444,
              "#bd3786"
             ],
             [
              0.5555555555555556,
              "#d8576b"
             ],
             [
              0.6666666666666666,
              "#ed7953"
             ],
             [
              0.7777777777777778,
              "#fb9f3a"
             ],
             [
              0.8888888888888888,
              "#fdca26"
             ],
             [
              1.0,
              "#f0f921"
             ]
            ]
           }
          ],
          "choropleth": [
           {
            "type": "choropleth",
            "colorbar": {
             "outlinewidth": 0,
             "ticks": ""
            }
           }
          ],
          "histogram2d": [
           {
            "type": "histogram2d",
            "colorbar": {
             "outlinewidth": 0,
             "ticks": ""
            },
            "colorscale": [
             [
              0.0,
              "#0d0887"
             ],
             [
              0.1111111111111111,
              "#46039f"
             ],
             [
              0.2222222222222222,
              "#7201a8"
             ],
             [
              0.3333333333333333,
              "#9c179e"
             ],
             [
              0.4444444444444444,
              "#bd3786"
             ],
             [
              0.5555555555555556,
              "#d8576b"
             ],
             [
              0.6666666666666666,
              "#ed7953"
             ],
             [
              0.7777777777777778,
              "#fb9f3a"
             ],
             [
              0.8888888888888888,
              "#fdca26"
             ],
             [
              1.0,
              "#f0f921"
             ]
            ]
           }
          ],
          "heatmap": [
           {
            "type": "heatmap",
            "colorbar": {
             "outlinewidth": 0,
             "ticks": ""
            },
            "colorscale": [
             [
              0.0,
              "#0d0887"
             ],
             [
              0.1111111111111111,
              "#46039f"
             ],
             [
              0.2222222222222222,
              "#7201a8"
             ],
             [
              0.3333333333333333,
              "#9c179e"
             ],
             [
              0.4444444444444444,
              "#bd3786"
             ],
             [
              0.5555555555555556,
              "#d8576b"
             ],
             [
              0.6666666666666666,
              "#ed7953"
             ],
             [
              0.7777777777777778,
              "#fb9f3a"
             ],
             [
              0.8888888888888888,
              "#fdca26"
             ],
             [
              1.0,
              "#f0f921"
             ]
            ]
           }
          ],
          "heatmapgl": [
           {
            "type": "heatmapgl",
            "colorbar": {
             "outlinewidth": 0,
             "ticks": ""
            },
            "colorscale": [
             [
              0.0,
              "#0d0887"
             ],
             [
              0.1111111111111111,
              "#46039f"
             ],
             [
              0.2222222222222222,
              "#7201a8"
             ],
             [
              0.3333333333333333,
              "#9c179e"
             ],
             [
              0.4444444444444444,
              "#bd3786"
             ],
             [
              0.5555555555555556,
              "#d8576b"
             ],
             [
              0.6666666666666666,
              "#ed7953"
             ],
             [
              0.7777777777777778,
              "#fb9f3a"
             ],
             [
              0.8888888888888888,
              "#fdca26"
             ],
             [
              1.0,
              "#f0f921"
             ]
            ]
           }
          ],
          "contourcarpet": [
           {
            "type": "contourcarpet",
            "colorbar": {
             "outlinewidth": 0,
             "ticks": ""
            }
           }
          ],
          "contour": [
           {
            "type": "contour",
            "colorbar": {
             "outlinewidth": 0,
             "ticks": ""
            },
            "colorscale": [
             [
              0.0,
              "#0d0887"
             ],
             [
              0.1111111111111111,
              "#46039f"
             ],
             [
              0.2222222222222222,
              "#7201a8"
             ],
             [
              0.3333333333333333,
              "#9c179e"
             ],
             [
              0.4444444444444444,
              "#bd3786"
             ],
             [
              0.5555555555555556,
              "#d8576b"
             ],
             [
              0.6666666666666666,
              "#ed7953"
             ],
             [
              0.7777777777777778,
              "#fb9f3a"
             ],
             [
              0.8888888888888888,
              "#fdca26"
             ],
             [
              1.0,
              "#f0f921"
             ]
            ]
           }
          ],
          "surface": [
           {
            "type": "surface",
            "colorbar": {
             "outlinewidth": 0,
             "ticks": ""
            },
            "colorscale": [
             [
              0.0,
              "#0d0887"
             ],
             [
              0.1111111111111111,
              "#46039f"
             ],
             [
              0.2222222222222222,
              "#7201a8"
             ],
             [
              0.3333333333333333,
              "#9c179e"
             ],
             [
              0.4444444444444444,
              "#bd3786"
             ],
             [
              0.5555555555555556,
              "#d8576b"
             ],
             [
              0.6666666666666666,
              "#ed7953"
             ],
             [
              0.7777777777777778,
              "#fb9f3a"
             ],
             [
              0.8888888888888888,
              "#fdca26"
             ],
             [
              1.0,
              "#f0f921"
             ]
            ]
           }
          ],
          "mesh3d": [
           {
            "type": "mesh3d",
            "colorbar": {
             "outlinewidth": 0,
             "ticks": ""
            }
           }
          ],
          "scatter": [
           {
            "marker": {
             "line": {
              "color": "#283442"
             }
            },
            "type": "scatter"
           }
          ],
          "parcoords": [
           {
            "type": "parcoords",
            "line": {
             "colorbar": {
              "outlinewidth": 0,
              "ticks": ""
             }
            }
           }
          ],
          "scatterpolargl": [
           {
            "type": "scatterpolargl",
            "marker": {
             "colorbar": {
              "outlinewidth": 0,
              "ticks": ""
             }
            }
           }
          ],
          "bar": [
           {
            "error_x": {
             "color": "#f2f5fa"
            },
            "error_y": {
             "color": "#f2f5fa"
            },
            "marker": {
             "line": {
              "color": "rgb(17,17,17)",
              "width": 0.5
             },
             "pattern": {
              "fillmode": "overlay",
              "size": 10,
              "solidity": 0.2
             }
            },
            "type": "bar"
           }
          ],
          "scattergeo": [
           {
            "type": "scattergeo",
            "marker": {
             "colorbar": {
              "outlinewidth": 0,
              "ticks": ""
             }
            }
           }
          ],
          "scatterpolar": [
           {
            "type": "scatterpolar",
            "marker": {
             "colorbar": {
              "outlinewidth": 0,
              "ticks": ""
             }
            }
           }
          ],
          "histogram": [
           {
            "marker": {
             "pattern": {
              "fillmode": "overlay",
              "size": 10,
              "solidity": 0.2
             }
            },
            "type": "histogram"
           }
          ],
          "scattergl": [
           {
            "marker": {
             "line": {
              "color": "#283442"
             }
            },
            "type": "scattergl"
           }
          ],
          "scatter3d": [
           {
            "type": "scatter3d",
            "line": {
             "colorbar": {
              "outlinewidth": 0,
              "ticks": ""
             }
            },
            "marker": {
             "colorbar": {
              "outlinewidth": 0,
              "ticks": ""
             }
            }
           }
          ],
          "scattermapbox": [
           {
            "type": "scattermapbox",
            "marker": {
             "colorbar": {
              "outlinewidth": 0,
              "ticks": ""
             }
            }
           }
          ],
          "scatterternary": [
           {
            "type": "scatterternary",
            "marker": {
             "colorbar": {
              "outlinewidth": 0,
              "ticks": ""
             }
            }
           }
          ],
          "scattercarpet": [
           {
            "type": "scattercarpet",
            "marker": {
             "colorbar": {
              "outlinewidth": 0,
              "ticks": ""
             }
            }
           }
          ],
          "carpet": [
           {
            "aaxis": {
             "endlinecolor": "#A2B1C6",
             "gridcolor": "#506784",
             "linecolor": "#506784",
             "minorgridcolor": "#506784",
             "startlinecolor": "#A2B1C6"
            },
            "baxis": {
             "endlinecolor": "#A2B1C6",
             "gridcolor": "#506784",
             "linecolor": "#506784",
             "minorgridcolor": "#506784",
             "startlinecolor": "#A2B1C6"
            },
            "type": "carpet"
           }
          ],
          "table": [
           {
            "cells": {
             "fill": {
              "color": "#506784"
             },
             "line": {
              "color": "rgb(17,17,17)"
             }
            },
            "header": {
             "fill": {
              "color": "#2a3f5f"
             },
             "line": {
              "color": "rgb(17,17,17)"
             }
            },
            "type": "table"
           }
          ],
          "barpolar": [
           {
            "marker": {
             "line": {
              "color": "rgb(17,17,17)",
              "width": 0.5
             },
             "pattern": {
              "fillmode": "overlay",
              "size": 10,
              "solidity": 0.2
             }
            },
            "type": "barpolar"
           }
          ],
          "pie": [
           {
            "automargin": true,
            "type": "pie"
           }
          ]
         },
         "layout": {
          "autotypenumbers": "strict",
          "colorway": [
           "#636efa",
           "#EF553B",
           "#00cc96",
           "#ab63fa",
           "#FFA15A",
           "#19d3f3",
           "#FF6692",
           "#B6E880",
           "#FF97FF",
           "#FECB52"
          ],
          "font": {
           "color": "#f2f5fa"
          },
          "hovermode": "closest",
          "hoverlabel": {
           "align": "left"
          },
          "paper_bgcolor": "rgb(17,17,17)",
          "plot_bgcolor": "rgb(17,17,17)",
          "polar": {
           "bgcolor": "rgb(17,17,17)",
           "angularaxis": {
            "gridcolor": "#506784",
            "linecolor": "#506784",
            "ticks": ""
           },
           "radialaxis": {
            "gridcolor": "#506784",
            "linecolor": "#506784",
            "ticks": ""
           }
          },
          "ternary": {
           "bgcolor": "rgb(17,17,17)",
           "aaxis": {
            "gridcolor": "#506784",
            "linecolor": "#506784",
            "ticks": ""
           },
           "baxis": {
            "gridcolor": "#506784",
            "linecolor": "#506784",
            "ticks": ""
           },
           "caxis": {
            "gridcolor": "#506784",
            "linecolor": "#506784",
            "ticks": ""
           }
          },
          "coloraxis": {
           "colorbar": {
            "outlinewidth": 0,
            "ticks": ""
           }
          },
          "colorscale": {
           "sequential": [
            [
             0.0,
             "#0d0887"
            ],
            [
             0.1111111111111111,
             "#46039f"
            ],
            [
             0.2222222222222222,
             "#7201a8"
            ],
            [
             0.3333333333333333,
             "#9c179e"
            ],
            [
             0.4444444444444444,
             "#bd3786"
            ],
            [
             0.5555555555555556,
             "#d8576b"
            ],
            [
             0.6666666666666666,
             "#ed7953"
            ],
            [
             0.7777777777777778,
             "#fb9f3a"
            ],
            [
             0.8888888888888888,
             "#fdca26"
            ],
            [
             1.0,
             "#f0f921"
            ]
           ],
           "sequentialminus": [
            [
             0.0,
             "#0d0887"
            ],
            [
             0.1111111111111111,
             "#46039f"
            ],
            [
             0.2222222222222222,
             "#7201a8"
            ],
            [
             0.3333333333333333,
             "#9c179e"
            ],
            [
             0.4444444444444444,
             "#bd3786"
            ],
            [
             0.5555555555555556,
             "#d8576b"
            ],
            [
             0.6666666666666666,
             "#ed7953"
            ],
            [
             0.7777777777777778,
             "#fb9f3a"
            ],
            [
             0.8888888888888888,
             "#fdca26"
            ],
            [
             1.0,
             "#f0f921"
            ]
           ],
           "diverging": [
            [
             0,
             "#8e0152"
            ],
            [
             0.1,
             "#c51b7d"
            ],
            [
             0.2,
             "#de77ae"
            ],
            [
             0.3,
             "#f1b6da"
            ],
            [
             0.4,
             "#fde0ef"
            ],
            [
             0.5,
             "#f7f7f7"
            ],
            [
             0.6,
             "#e6f5d0"
            ],
            [
             0.7,
             "#b8e186"
            ],
            [
             0.8,
             "#7fbc41"
            ],
            [
             0.9,
             "#4d9221"
            ],
            [
             1,
             "#276419"
            ]
           ]
          },
          "xaxis": {
           "gridcolor": "#283442",
           "linecolor": "#506784",
           "ticks": "",
           "title": {
            "standoff": 15
           },
           "zerolinecolor": "#283442",
           "automargin": true,
           "zerolinewidth": 2
          },
          "yaxis": {
           "gridcolor": "#283442",
           "linecolor": "#506784",
           "ticks": "",
           "title": {
            "standoff": 15
           },
           "zerolinecolor": "#283442",
           "automargin": true,
           "zerolinewidth": 2
          },
          "scene": {
           "xaxis": {
            "backgroundcolor": "rgb(17,17,17)",
            "gridcolor": "#506784",
            "linecolor": "#506784",
            "showbackground": true,
            "ticks": "",
            "zerolinecolor": "#C8D4E3",
            "gridwidth": 2
           },
           "yaxis": {
            "backgroundcolor": "rgb(17,17,17)",
            "gridcolor": "#506784",
            "linecolor": "#506784",
            "showbackground": true,
            "ticks": "",
            "zerolinecolor": "#C8D4E3",
            "gridwidth": 2
           },
           "zaxis": {
            "backgroundcolor": "rgb(17,17,17)",
            "gridcolor": "#506784",
            "linecolor": "#506784",
            "showbackground": true,
            "ticks": "",
            "zerolinecolor": "#C8D4E3",
            "gridwidth": 2
           }
          },
          "shapedefaults": {
           "line": {
            "color": "#f2f5fa"
           }
          },
          "annotationdefaults": {
           "arrowcolor": "#f2f5fa",
           "arrowhead": 0,
           "arrowwidth": 1
          },
          "geo": {
           "bgcolor": "rgb(17,17,17)",
           "landcolor": "rgb(17,17,17)",
           "subunitcolor": "#506784",
           "showland": true,
           "showlakes": true,
           "lakecolor": "rgb(17,17,17)"
          },
          "title": {
           "x": 0.05
          },
          "updatemenudefaults": {
           "bgcolor": "#506784",
           "borderwidth": 0
          },
          "sliderdefaults": {
           "bgcolor": "#C8D4E3",
           "borderwidth": 1,
           "bordercolor": "rgb(17,17,17)",
           "tickwidth": 0
          },
          "mapbox": {
           "style": "dark"
          }
         }
        },
        "xaxis": {
         "anchor": "y",
         "domain": [
          0.0,
          1.0
         ],
         "title": {
          "text": "Temps en jours"
         }
        },
        "yaxis": {
         "anchor": "x",
         "domain": [
          0.0,
          1.0
         ],
         "title": {
          "text": "Temps de parole en minutes"
         }
        },
        "legend": {
         "title": {
          "text": "Chaîne"
         },
         "tracegroupgap": 0
        },
        "title": {
         "text": "Roussel : Évolution du temps de parole en fonction du temps"
        }
       },
       "config": {
        "plotlyServerURL": "https://plot.ly"
       }
      },
      "text/html": "<div>                            <div id=\"0e390b9b-8797-4f5b-b829-2596f93c6c99\" class=\"plotly-graph-div\" style=\"height:525px; width:100%;\"></div>            <script type=\"text/javascript\">                require([\"plotly\"], function(Plotly) {                    window.PLOTLYENV=window.PLOTLYENV || {};                                    if (document.getElementById(\"0e390b9b-8797-4f5b-b829-2596f93c6c99\")) {                    Plotly.newPlot(                        \"0e390b9b-8797-4f5b-b829-2596f93c6c99\",                        [{\"hovertemplate\":\"Cha\\u00eene=France2<br>Temps en jours=%{x}<br>Temps de parole en minutes=%{y}<extra></extra>\",\"legendgroup\":\"France2\",\"line\":{\"color\":\"#636efa\",\"dash\":\"solid\"},\"marker\":{\"symbol\":\"circle\"},\"mode\":\"lines\",\"name\":\"France2\",\"orientation\":\"v\",\"showlegend\":true,\"x\":[\"2022-03-13T00:00:00\",\"2022-03-20T00:00:00\",\"2022-03-27T00:00:00\",\"2022-04-03T00:00:00\",\"2022-04-08T00:00:00\"],\"xaxis\":\"x\",\"y\":[0.21666666666666667,0.6166666666666667,43.53333333333333,24.4,32.800000000000004],\"yaxis\":\"y\",\"type\":\"scatter\"},{\"hovertemplate\":\"Cha\\u00eene=France3<br>Temps en jours=%{x}<br>Temps de parole en minutes=%{y}<extra></extra>\",\"legendgroup\":\"France3\",\"line\":{\"color\":\"#EF553B\",\"dash\":\"solid\"},\"marker\":{\"symbol\":\"circle\"},\"mode\":\"lines\",\"name\":\"France3\",\"orientation\":\"v\",\"showlegend\":true,\"x\":[\"2022-03-13T00:00:00\",\"2022-03-20T00:00:00\",\"2022-03-27T00:00:00\",\"2022-04-03T00:00:00\",\"2022-04-08T00:00:00\"],\"xaxis\":\"x\",\"y\":[17.083333333333332,17.183333333333334,17.98333333333333,1.5166666666666666,2.3833333333333333],\"yaxis\":\"y\",\"type\":\"scatter\"},{\"hovertemplate\":\"Cha\\u00eene=France5<br>Temps en jours=%{x}<br>Temps de parole en minutes=%{y}<extra></extra>\",\"legendgroup\":\"France5\",\"line\":{\"color\":\"#00cc96\",\"dash\":\"solid\"},\"marker\":{\"symbol\":\"circle\"},\"mode\":\"lines\",\"name\":\"France5\",\"orientation\":\"v\",\"showlegend\":true,\"x\":[\"2022-03-13T00:00:00\",\"2022-03-20T00:00:00\",\"2022-03-27T00:00:00\",\"2022-04-03T00:00:00\",\"2022-04-08T00:00:00\"],\"xaxis\":\"x\",\"y\":[0.36666666666666664,2.0833333333333335,18.233333333333334,6.233333333333333,10.450000000000001],\"yaxis\":\"y\",\"type\":\"scatter\"},{\"hovertemplate\":\"Cha\\u00eene=M6<br>Temps en jours=%{x}<br>Temps de parole en minutes=%{y}<extra></extra>\",\"legendgroup\":\"M6\",\"line\":{\"color\":\"#ab63fa\",\"dash\":\"solid\"},\"marker\":{\"symbol\":\"circle\"},\"mode\":\"lines\",\"name\":\"M6\",\"orientation\":\"v\",\"showlegend\":true,\"x\":[\"2022-03-13T00:00:00\",\"2022-03-20T00:00:00\",\"2022-03-27T00:00:00\",\"2022-04-03T00:00:00\",\"2022-04-08T00:00:00\"],\"xaxis\":\"x\",\"y\":[1.2000000000000002,1.8,6.199999999999999,0.8500000000000001,2.8166666666666664],\"yaxis\":\"y\",\"type\":\"scatter\"},{\"hovertemplate\":\"Cha\\u00eene=TMC<br>Temps en jours=%{x}<br>Temps de parole en minutes=%{y}<extra></extra>\",\"legendgroup\":\"TMC\",\"line\":{\"color\":\"#FFA15A\",\"dash\":\"solid\"},\"marker\":{\"symbol\":\"circle\"},\"mode\":\"lines\",\"name\":\"TMC\",\"orientation\":\"v\",\"showlegend\":true,\"x\":[\"2022-03-13T00:00:00\",\"2022-03-20T00:00:00\",\"2022-03-27T00:00:00\",\"2022-04-03T00:00:00\",\"2022-04-08T00:00:00\"],\"xaxis\":\"x\",\"y\":[3.1666666666666665,4.016666666666667,4.65,8.45,18.566666666666666],\"yaxis\":\"y\",\"type\":\"scatter\"},{\"hovertemplate\":\"Cha\\u00eene=BFMTV<br>Temps en jours=%{x}<br>Temps de parole en minutes=%{y}<extra></extra>\",\"legendgroup\":\"BFMTV\",\"line\":{\"color\":\"#19d3f3\",\"dash\":\"solid\"},\"marker\":{\"symbol\":\"circle\"},\"mode\":\"lines\",\"name\":\"BFMTV\",\"orientation\":\"v\",\"showlegend\":true,\"x\":[\"2022-03-13T00:00:00\",\"2022-03-20T00:00:00\",\"2022-03-27T00:00:00\",\"2022-04-03T00:00:00\",\"2022-04-08T00:00:00\"],\"xaxis\":\"x\",\"y\":[21.683333333333334,33.21666666666667,77.93333333333334,0.8,33.56666666666667],\"yaxis\":\"y\",\"type\":\"scatter\"},{\"hovertemplate\":\"Cha\\u00eene=Cnews<br>Temps en jours=%{x}<br>Temps de parole en minutes=%{y}<extra></extra>\",\"legendgroup\":\"Cnews\",\"line\":{\"color\":\"#FF6692\",\"dash\":\"solid\"},\"marker\":{\"symbol\":\"circle\"},\"mode\":\"lines\",\"name\":\"Cnews\",\"orientation\":\"v\",\"showlegend\":true,\"x\":[\"2022-03-13T00:00:00\",\"2022-03-20T00:00:00\",\"2022-03-27T00:00:00\",\"2022-04-03T00:00:00\",\"2022-04-08T00:00:00\"],\"xaxis\":\"x\",\"y\":[98.38333333333334,119.39999999999999,235.53333333333336,21.983333333333334,83.05],\"yaxis\":\"y\",\"type\":\"scatter\"},{\"hovertemplate\":\"Cha\\u00eene=LCI<br>Temps en jours=%{x}<br>Temps de parole en minutes=%{y}<extra></extra>\",\"legendgroup\":\"LCI\",\"line\":{\"color\":\"#B6E880\",\"dash\":\"solid\"},\"marker\":{\"symbol\":\"circle\"},\"mode\":\"lines\",\"name\":\"LCI\",\"orientation\":\"v\",\"showlegend\":true,\"x\":[\"2022-03-13T00:00:00\",\"2022-03-20T00:00:00\",\"2022-03-27T00:00:00\",\"2022-04-03T00:00:00\",\"2022-04-08T00:00:00\"],\"xaxis\":\"x\",\"y\":[0.21666666666666667,16.21666666666667,130.51666666666665,161.0,211.31666666666666],\"yaxis\":\"y\",\"type\":\"scatter\"},{\"hovertemplate\":\"Cha\\u00eene=FranceinfoTV<br>Temps en jours=%{x}<br>Temps de parole en minutes=%{y}<extra></extra>\",\"legendgroup\":\"FranceinfoTV\",\"line\":{\"color\":\"#FF97FF\",\"dash\":\"solid\"},\"marker\":{\"symbol\":\"circle\"},\"mode\":\"lines\",\"name\":\"FranceinfoTV\",\"orientation\":\"v\",\"showlegend\":true,\"x\":[\"2022-03-13T00:00:00\",\"2022-03-20T00:00:00\",\"2022-03-27T00:00:00\",\"2022-04-03T00:00:00\",\"2022-04-08T00:00:00\"],\"xaxis\":\"x\",\"y\":[1.3666666666666667,43.616666666666674,102.3,149.01666666666668,183.91666666666666],\"yaxis\":\"y\",\"type\":\"scatter\"},{\"hovertemplate\":\"Cha\\u00eene=FranceInter<br>Temps en jours=%{x}<br>Temps de parole en minutes=%{y}<extra></extra>\",\"legendgroup\":\"FranceInter\",\"line\":{\"color\":\"#FECB52\",\"dash\":\"solid\"},\"marker\":{\"symbol\":\"circle\"},\"mode\":\"lines\",\"name\":\"FranceInter\",\"orientation\":\"v\",\"showlegend\":true,\"x\":[\"2022-03-13T00:00:00\",\"2022-03-20T00:00:00\",\"2022-03-27T00:00:00\",\"2022-04-03T00:00:00\",\"2022-04-08T00:00:00\"],\"xaxis\":\"x\",\"y\":[1.4166666666666667,14.333333333333334,15.466666666666667,3.4833333333333334,14.583333333333334],\"yaxis\":\"y\",\"type\":\"scatter\"},{\"hovertemplate\":\"Cha\\u00eene=FranceInfo<br>Temps en jours=%{x}<br>Temps de parole en minutes=%{y}<extra></extra>\",\"legendgroup\":\"FranceInfo\",\"line\":{\"color\":\"#636efa\",\"dash\":\"solid\"},\"marker\":{\"symbol\":\"circle\"},\"mode\":\"lines\",\"name\":\"FranceInfo\",\"orientation\":\"v\",\"showlegend\":true,\"x\":[\"2022-03-13T00:00:00\",\"2022-03-20T00:00:00\",\"2022-03-27T00:00:00\",\"2022-04-03T00:00:00\",\"2022-04-08T00:00:00\"],\"xaxis\":\"x\",\"y\":[15.55,50.75,68.81666666666666,47.43333333333333,85.68333333333334],\"yaxis\":\"y\",\"type\":\"scatter\"},{\"hovertemplate\":\"Cha\\u00eene=FranceCulture<br>Temps en jours=%{x}<br>Temps de parole en minutes=%{y}<extra></extra>\",\"legendgroup\":\"FranceCulture\",\"line\":{\"color\":\"#EF553B\",\"dash\":\"solid\"},\"marker\":{\"symbol\":\"circle\"},\"mode\":\"lines\",\"name\":\"FranceCulture\",\"orientation\":\"v\",\"showlegend\":true,\"x\":[\"2022-03-13T00:00:00\",\"2022-03-20T00:00:00\",\"2022-03-27T00:00:00\",\"2022-04-03T00:00:00\",\"2022-04-08T00:00:00\"],\"xaxis\":\"x\",\"y\":[1.3499999999999999,9.65,11.133333333333333,10.666666666666666,11.383333333333333],\"yaxis\":\"y\",\"type\":\"scatter\"},{\"hovertemplate\":\"Cha\\u00eene=RTL<br>Temps en jours=%{x}<br>Temps de parole en minutes=%{y}<extra></extra>\",\"legendgroup\":\"RTL\",\"line\":{\"color\":\"#00cc96\",\"dash\":\"solid\"},\"marker\":{\"symbol\":\"circle\"},\"mode\":\"lines\",\"name\":\"RTL\",\"orientation\":\"v\",\"showlegend\":true,\"x\":[\"2022-03-13T00:00:00\",\"2022-03-20T00:00:00\",\"2022-03-27T00:00:00\",\"2022-04-03T00:00:00\",\"2022-04-08T00:00:00\"],\"xaxis\":\"x\",\"y\":[0.35,23.816666666666666,25.1,12.133333333333333,15.683333333333334],\"yaxis\":\"y\",\"type\":\"scatter\"},{\"hovertemplate\":\"Cha\\u00eene=Europe1<br>Temps en jours=%{x}<br>Temps de parole en minutes=%{y}<extra></extra>\",\"legendgroup\":\"Europe1\",\"line\":{\"color\":\"#ab63fa\",\"dash\":\"solid\"},\"marker\":{\"symbol\":\"circle\"},\"mode\":\"lines\",\"name\":\"Europe1\",\"orientation\":\"v\",\"showlegend\":true,\"x\":[\"2022-03-13T00:00:00\",\"2022-03-20T00:00:00\",\"2022-03-27T00:00:00\",\"2022-04-03T00:00:00\",\"2022-04-08T00:00:00\"],\"xaxis\":\"x\",\"y\":[0.0,39.43333333333334,46.16666666666667,1.5333333333333332,51.13333333333333],\"yaxis\":\"y\",\"type\":\"scatter\"},{\"hovertemplate\":\"Cha\\u00eene=RMC<br>Temps en jours=%{x}<br>Temps de parole en minutes=%{y}<extra></extra>\",\"legendgroup\":\"RMC\",\"line\":{\"color\":\"#FFA15A\",\"dash\":\"solid\"},\"marker\":{\"symbol\":\"circle\"},\"mode\":\"lines\",\"name\":\"RMC\",\"orientation\":\"v\",\"showlegend\":true,\"x\":[\"2022-03-13T00:00:00\",\"2022-03-20T00:00:00\",\"2022-03-27T00:00:00\",\"2022-04-03T00:00:00\",\"2022-04-08T00:00:00\"],\"xaxis\":\"x\",\"y\":[0.0,19.866666666666667,37.766666666666666,4.35,17.21666666666667],\"yaxis\":\"y\",\"type\":\"scatter\"},{\"hovertemplate\":\"Cha\\u00eene=RadioClassique<br>Temps en jours=%{x}<br>Temps de parole en minutes=%{y}<extra></extra>\",\"legendgroup\":\"RadioClassique\",\"line\":{\"color\":\"#19d3f3\",\"dash\":\"solid\"},\"marker\":{\"symbol\":\"circle\"},\"mode\":\"lines\",\"name\":\"RadioClassique\",\"orientation\":\"v\",\"showlegend\":true,\"x\":[\"2022-03-13T00:00:00\",\"2022-03-20T00:00:00\",\"2022-03-27T00:00:00\",\"2022-04-03T00:00:00\",\"2022-04-08T00:00:00\"],\"xaxis\":\"x\",\"y\":[0.0,0.18333333333333332,0.7333333333333333,0.0,0.0],\"yaxis\":\"y\",\"type\":\"scatter\"},{\"hovertemplate\":\"Cha\\u00eene=SudRadio<br>Temps en jours=%{x}<br>Temps de parole en minutes=%{y}<extra></extra>\",\"legendgroup\":\"SudRadio\",\"line\":{\"color\":\"#FF6692\",\"dash\":\"solid\"},\"marker\":{\"symbol\":\"circle\"},\"mode\":\"lines\",\"name\":\"SudRadio\",\"orientation\":\"v\",\"showlegend\":true,\"x\":[\"2022-03-13T00:00:00\",\"2022-03-20T00:00:00\",\"2022-03-27T00:00:00\",\"2022-04-03T00:00:00\",\"2022-04-08T00:00:00\"],\"xaxis\":\"x\",\"y\":[0.0,0.0,3.2666666666666666,0.7666666666666666,1.6666666666666667],\"yaxis\":\"y\",\"type\":\"scatter\"},{\"hovertemplate\":\"Cha\\u00eene=TV5Monde<br>Temps en jours=%{x}<br>Temps de parole en minutes=%{y}<extra></extra>\",\"legendgroup\":\"TV5Monde\",\"line\":{\"color\":\"#B6E880\",\"dash\":\"solid\"},\"marker\":{\"symbol\":\"circle\"},\"mode\":\"lines\",\"name\":\"TV5Monde\",\"orientation\":\"v\",\"showlegend\":true,\"x\":[\"2022-03-13T00:00:00\",\"2022-03-20T00:00:00\",\"2022-03-27T00:00:00\",\"2022-04-03T00:00:00\",\"2022-04-08T00:00:00\"],\"xaxis\":\"x\",\"y\":[0.43333333333333335,0.8333333333333334,40.88333333333333,22.766666666666666,30.433333333333334],\"yaxis\":\"y\",\"type\":\"scatter\"},{\"hovertemplate\":\"Cha\\u00eene=Euronews<br>Temps en jours=%{x}<br>Temps de parole en minutes=%{y}<extra></extra>\",\"legendgroup\":\"Euronews\",\"line\":{\"color\":\"#FF97FF\",\"dash\":\"solid\"},\"marker\":{\"symbol\":\"circle\"},\"mode\":\"lines\",\"name\":\"Euronews\",\"orientation\":\"v\",\"showlegend\":true,\"x\":[\"2022-03-13T00:00:00\",\"2022-03-20T00:00:00\",\"2022-03-27T00:00:00\"],\"xaxis\":\"x\",\"y\":[0.0,0.0,0.0],\"yaxis\":\"y\",\"type\":\"scatter\"},{\"hovertemplate\":\"Cha\\u00eene=RFI<br>Temps en jours=%{x}<br>Temps de parole en minutes=%{y}<extra></extra>\",\"legendgroup\":\"RFI\",\"line\":{\"color\":\"#FECB52\",\"dash\":\"solid\"},\"marker\":{\"symbol\":\"circle\"},\"mode\":\"lines\",\"name\":\"RFI\",\"orientation\":\"v\",\"showlegend\":true,\"x\":[\"2022-03-13T00:00:00\",\"2022-03-20T00:00:00\",\"2022-03-27T00:00:00\",\"2022-04-03T00:00:00\",\"2022-04-08T00:00:00\"],\"xaxis\":\"x\",\"y\":[1.3,1.3,14.316666666666666,11.2,24.116666666666667],\"yaxis\":\"y\",\"type\":\"scatter\"},{\"hovertemplate\":\"Cha\\u00eene=France24<br>Temps en jours=%{x}<br>Temps de parole en minutes=%{y}<extra></extra>\",\"legendgroup\":\"France24\",\"line\":{\"color\":\"#636efa\",\"dash\":\"solid\"},\"marker\":{\"symbol\":\"circle\"},\"mode\":\"lines\",\"name\":\"France24\",\"orientation\":\"v\",\"showlegend\":true,\"x\":[\"2022-03-13T00:00:00\",\"2022-03-20T00:00:00\",\"2022-03-27T00:00:00\",\"2022-04-03T00:00:00\",\"2022-04-08T00:00:00\"],\"xaxis\":\"x\",\"y\":[0.0,4.4,14.366666666666665,11.983333333333334,21.56666666666667],\"yaxis\":\"y\",\"type\":\"scatter\"},{\"hovertemplate\":\"Cha\\u00eene=RMC Story<br>Temps en jours=%{x}<br>Temps de parole en minutes=%{y}<extra></extra>\",\"legendgroup\":\"RMC Story\",\"line\":{\"color\":\"#EF553B\",\"dash\":\"solid\"},\"marker\":{\"symbol\":\"circle\"},\"mode\":\"lines\",\"name\":\"RMC Story\",\"orientation\":\"v\",\"showlegend\":true,\"x\":[\"2022-03-13T00:00:00\",\"2022-03-20T00:00:00\",\"2022-03-27T00:00:00\",\"2022-04-03T00:00:00\",\"2022-04-08T00:00:00\"],\"xaxis\":\"x\",\"y\":[0.0,12.966666666666667,24.9,1.8,7.366666666666666],\"yaxis\":\"y\",\"type\":\"scatter\"},{\"hovertemplate\":\"Cha\\u00eene=TF1<br>Temps en jours=%{x}<br>Temps de parole en minutes=%{y}<extra></extra>\",\"legendgroup\":\"TF1\",\"line\":{\"color\":\"#00cc96\",\"dash\":\"solid\"},\"marker\":{\"symbol\":\"circle\"},\"mode\":\"lines\",\"name\":\"TF1\",\"orientation\":\"v\",\"showlegend\":true,\"x\":[\"2022-03-20T00:00:00\",\"2022-03-27T00:00:00\",\"2022-04-03T00:00:00\",\"2022-04-08T00:00:00\"],\"xaxis\":\"x\",\"y\":[15.183333333333334,15.183333333333334,0.7166666666666667,10.716666666666667],\"yaxis\":\"y\",\"type\":\"scatter\"},{\"hovertemplate\":\"Cha\\u00eene=C8<br>Temps en jours=%{x}<br>Temps de parole en minutes=%{y}<extra></extra>\",\"legendgroup\":\"C8\",\"line\":{\"color\":\"#ab63fa\",\"dash\":\"solid\"},\"marker\":{\"symbol\":\"circle\"},\"mode\":\"lines\",\"name\":\"C8\",\"orientation\":\"v\",\"showlegend\":true,\"x\":[\"2022-03-20T00:00:00\",\"2022-03-27T00:00:00\",\"2022-04-03T00:00:00\",\"2022-04-08T00:00:00\"],\"xaxis\":\"x\",\"y\":[2.0,42.13333333333333,8.166666666666666,10.5],\"yaxis\":\"y\",\"type\":\"scatter\"},{\"hovertemplate\":\"Cha\\u00eene=BFMBusiness<br>Temps en jours=%{x}<br>Temps de parole en minutes=%{y}<extra></extra>\",\"legendgroup\":\"BFMBusiness\",\"line\":{\"color\":\"#FFA15A\",\"dash\":\"solid\"},\"marker\":{\"symbol\":\"circle\"},\"mode\":\"lines\",\"name\":\"BFMBusiness\",\"orientation\":\"v\",\"showlegend\":true,\"x\":[\"2022-03-20T00:00:00\",\"2022-03-27T00:00:00\"],\"xaxis\":\"x\",\"y\":[15.9,17.1],\"yaxis\":\"y\",\"type\":\"scatter\"},{\"hovertemplate\":\"Cha\\u00eene=RMCDecouverte<br>Temps en jours=%{x}<br>Temps de parole en minutes=%{y}<extra></extra>\",\"legendgroup\":\"RMCDecouverte\",\"line\":{\"color\":\"#19d3f3\",\"dash\":\"solid\"},\"marker\":{\"symbol\":\"circle\"},\"mode\":\"lines\",\"name\":\"RMCDecouverte\",\"orientation\":\"v\",\"showlegend\":true,\"x\":[\"2022-03-27T00:00:00\"],\"xaxis\":\"x\",\"y\":[0.0],\"yaxis\":\"y\",\"type\":\"scatter\"}],                        {\"template\":{\"data\":{\"histogram2dcontour\":[{\"type\":\"histogram2dcontour\",\"colorbar\":{\"outlinewidth\":0,\"ticks\":\"\"},\"colorscale\":[[0.0,\"#0d0887\"],[0.1111111111111111,\"#46039f\"],[0.2222222222222222,\"#7201a8\"],[0.3333333333333333,\"#9c179e\"],[0.4444444444444444,\"#bd3786\"],[0.5555555555555556,\"#d8576b\"],[0.6666666666666666,\"#ed7953\"],[0.7777777777777778,\"#fb9f3a\"],[0.8888888888888888,\"#fdca26\"],[1.0,\"#f0f921\"]]}],\"choropleth\":[{\"type\":\"choropleth\",\"colorbar\":{\"outlinewidth\":0,\"ticks\":\"\"}}],\"histogram2d\":[{\"type\":\"histogram2d\",\"colorbar\":{\"outlinewidth\":0,\"ticks\":\"\"},\"colorscale\":[[0.0,\"#0d0887\"],[0.1111111111111111,\"#46039f\"],[0.2222222222222222,\"#7201a8\"],[0.3333333333333333,\"#9c179e\"],[0.4444444444444444,\"#bd3786\"],[0.5555555555555556,\"#d8576b\"],[0.6666666666666666,\"#ed7953\"],[0.7777777777777778,\"#fb9f3a\"],[0.8888888888888888,\"#fdca26\"],[1.0,\"#f0f921\"]]}],\"heatmap\":[{\"type\":\"heatmap\",\"colorbar\":{\"outlinewidth\":0,\"ticks\":\"\"},\"colorscale\":[[0.0,\"#0d0887\"],[0.1111111111111111,\"#46039f\"],[0.2222222222222222,\"#7201a8\"],[0.3333333333333333,\"#9c179e\"],[0.4444444444444444,\"#bd3786\"],[0.5555555555555556,\"#d8576b\"],[0.6666666666666666,\"#ed7953\"],[0.7777777777777778,\"#fb9f3a\"],[0.8888888888888888,\"#fdca26\"],[1.0,\"#f0f921\"]]}],\"heatmapgl\":[{\"type\":\"heatmapgl\",\"colorbar\":{\"outlinewidth\":0,\"ticks\":\"\"},\"colorscale\":[[0.0,\"#0d0887\"],[0.1111111111111111,\"#46039f\"],[0.2222222222222222,\"#7201a8\"],[0.3333333333333333,\"#9c179e\"],[0.4444444444444444,\"#bd3786\"],[0.5555555555555556,\"#d8576b\"],[0.6666666666666666,\"#ed7953\"],[0.7777777777777778,\"#fb9f3a\"],[0.8888888888888888,\"#fdca26\"],[1.0,\"#f0f921\"]]}],\"contourcarpet\":[{\"type\":\"contourcarpet\",\"colorbar\":{\"outlinewidth\":0,\"ticks\":\"\"}}],\"contour\":[{\"type\":\"contour\",\"colorbar\":{\"outlinewidth\":0,\"ticks\":\"\"},\"colorscale\":[[0.0,\"#0d0887\"],[0.1111111111111111,\"#46039f\"],[0.2222222222222222,\"#7201a8\"],[0.3333333333333333,\"#9c179e\"],[0.4444444444444444,\"#bd3786\"],[0.5555555555555556,\"#d8576b\"],[0.6666666666666666,\"#ed7953\"],[0.7777777777777778,\"#fb9f3a\"],[0.8888888888888888,\"#fdca26\"],[1.0,\"#f0f921\"]]}],\"surface\":[{\"type\":\"surface\",\"colorbar\":{\"outlinewidth\":0,\"ticks\":\"\"},\"colorscale\":[[0.0,\"#0d0887\"],[0.1111111111111111,\"#46039f\"],[0.2222222222222222,\"#7201a8\"],[0.3333333333333333,\"#9c179e\"],[0.4444444444444444,\"#bd3786\"],[0.5555555555555556,\"#d8576b\"],[0.6666666666666666,\"#ed7953\"],[0.7777777777777778,\"#fb9f3a\"],[0.8888888888888888,\"#fdca26\"],[1.0,\"#f0f921\"]]}],\"mesh3d\":[{\"type\":\"mesh3d\",\"colorbar\":{\"outlinewidth\":0,\"ticks\":\"\"}}],\"scatter\":[{\"marker\":{\"line\":{\"color\":\"#283442\"}},\"type\":\"scatter\"}],\"parcoords\":[{\"type\":\"parcoords\",\"line\":{\"colorbar\":{\"outlinewidth\":0,\"ticks\":\"\"}}}],\"scatterpolargl\":[{\"type\":\"scatterpolargl\",\"marker\":{\"colorbar\":{\"outlinewidth\":0,\"ticks\":\"\"}}}],\"bar\":[{\"error_x\":{\"color\":\"#f2f5fa\"},\"error_y\":{\"color\":\"#f2f5fa\"},\"marker\":{\"line\":{\"color\":\"rgb(17,17,17)\",\"width\":0.5},\"pattern\":{\"fillmode\":\"overlay\",\"size\":10,\"solidity\":0.2}},\"type\":\"bar\"}],\"scattergeo\":[{\"type\":\"scattergeo\",\"marker\":{\"colorbar\":{\"outlinewidth\":0,\"ticks\":\"\"}}}],\"scatterpolar\":[{\"type\":\"scatterpolar\",\"marker\":{\"colorbar\":{\"outlinewidth\":0,\"ticks\":\"\"}}}],\"histogram\":[{\"marker\":{\"pattern\":{\"fillmode\":\"overlay\",\"size\":10,\"solidity\":0.2}},\"type\":\"histogram\"}],\"scattergl\":[{\"marker\":{\"line\":{\"color\":\"#283442\"}},\"type\":\"scattergl\"}],\"scatter3d\":[{\"type\":\"scatter3d\",\"line\":{\"colorbar\":{\"outlinewidth\":0,\"ticks\":\"\"}},\"marker\":{\"colorbar\":{\"outlinewidth\":0,\"ticks\":\"\"}}}],\"scattermapbox\":[{\"type\":\"scattermapbox\",\"marker\":{\"colorbar\":{\"outlinewidth\":0,\"ticks\":\"\"}}}],\"scatterternary\":[{\"type\":\"scatterternary\",\"marker\":{\"colorbar\":{\"outlinewidth\":0,\"ticks\":\"\"}}}],\"scattercarpet\":[{\"type\":\"scattercarpet\",\"marker\":{\"colorbar\":{\"outlinewidth\":0,\"ticks\":\"\"}}}],\"carpet\":[{\"aaxis\":{\"endlinecolor\":\"#A2B1C6\",\"gridcolor\":\"#506784\",\"linecolor\":\"#506784\",\"minorgridcolor\":\"#506784\",\"startlinecolor\":\"#A2B1C6\"},\"baxis\":{\"endlinecolor\":\"#A2B1C6\",\"gridcolor\":\"#506784\",\"linecolor\":\"#506784\",\"minorgridcolor\":\"#506784\",\"startlinecolor\":\"#A2B1C6\"},\"type\":\"carpet\"}],\"table\":[{\"cells\":{\"fill\":{\"color\":\"#506784\"},\"line\":{\"color\":\"rgb(17,17,17)\"}},\"header\":{\"fill\":{\"color\":\"#2a3f5f\"},\"line\":{\"color\":\"rgb(17,17,17)\"}},\"type\":\"table\"}],\"barpolar\":[{\"marker\":{\"line\":{\"color\":\"rgb(17,17,17)\",\"width\":0.5},\"pattern\":{\"fillmode\":\"overlay\",\"size\":10,\"solidity\":0.2}},\"type\":\"barpolar\"}],\"pie\":[{\"automargin\":true,\"type\":\"pie\"}]},\"layout\":{\"autotypenumbers\":\"strict\",\"colorway\":[\"#636efa\",\"#EF553B\",\"#00cc96\",\"#ab63fa\",\"#FFA15A\",\"#19d3f3\",\"#FF6692\",\"#B6E880\",\"#FF97FF\",\"#FECB52\"],\"font\":{\"color\":\"#f2f5fa\"},\"hovermode\":\"closest\",\"hoverlabel\":{\"align\":\"left\"},\"paper_bgcolor\":\"rgb(17,17,17)\",\"plot_bgcolor\":\"rgb(17,17,17)\",\"polar\":{\"bgcolor\":\"rgb(17,17,17)\",\"angularaxis\":{\"gridcolor\":\"#506784\",\"linecolor\":\"#506784\",\"ticks\":\"\"},\"radialaxis\":{\"gridcolor\":\"#506784\",\"linecolor\":\"#506784\",\"ticks\":\"\"}},\"ternary\":{\"bgcolor\":\"rgb(17,17,17)\",\"aaxis\":{\"gridcolor\":\"#506784\",\"linecolor\":\"#506784\",\"ticks\":\"\"},\"baxis\":{\"gridcolor\":\"#506784\",\"linecolor\":\"#506784\",\"ticks\":\"\"},\"caxis\":{\"gridcolor\":\"#506784\",\"linecolor\":\"#506784\",\"ticks\":\"\"}},\"coloraxis\":{\"colorbar\":{\"outlinewidth\":0,\"ticks\":\"\"}},\"colorscale\":{\"sequential\":[[0.0,\"#0d0887\"],[0.1111111111111111,\"#46039f\"],[0.2222222222222222,\"#7201a8\"],[0.3333333333333333,\"#9c179e\"],[0.4444444444444444,\"#bd3786\"],[0.5555555555555556,\"#d8576b\"],[0.6666666666666666,\"#ed7953\"],[0.7777777777777778,\"#fb9f3a\"],[0.8888888888888888,\"#fdca26\"],[1.0,\"#f0f921\"]],\"sequentialminus\":[[0.0,\"#0d0887\"],[0.1111111111111111,\"#46039f\"],[0.2222222222222222,\"#7201a8\"],[0.3333333333333333,\"#9c179e\"],[0.4444444444444444,\"#bd3786\"],[0.5555555555555556,\"#d8576b\"],[0.6666666666666666,\"#ed7953\"],[0.7777777777777778,\"#fb9f3a\"],[0.8888888888888888,\"#fdca26\"],[1.0,\"#f0f921\"]],\"diverging\":[[0,\"#8e0152\"],[0.1,\"#c51b7d\"],[0.2,\"#de77ae\"],[0.3,\"#f1b6da\"],[0.4,\"#fde0ef\"],[0.5,\"#f7f7f7\"],[0.6,\"#e6f5d0\"],[0.7,\"#b8e186\"],[0.8,\"#7fbc41\"],[0.9,\"#4d9221\"],[1,\"#276419\"]]},\"xaxis\":{\"gridcolor\":\"#283442\",\"linecolor\":\"#506784\",\"ticks\":\"\",\"title\":{\"standoff\":15},\"zerolinecolor\":\"#283442\",\"automargin\":true,\"zerolinewidth\":2},\"yaxis\":{\"gridcolor\":\"#283442\",\"linecolor\":\"#506784\",\"ticks\":\"\",\"title\":{\"standoff\":15},\"zerolinecolor\":\"#283442\",\"automargin\":true,\"zerolinewidth\":2},\"scene\":{\"xaxis\":{\"backgroundcolor\":\"rgb(17,17,17)\",\"gridcolor\":\"#506784\",\"linecolor\":\"#506784\",\"showbackground\":true,\"ticks\":\"\",\"zerolinecolor\":\"#C8D4E3\",\"gridwidth\":2},\"yaxis\":{\"backgroundcolor\":\"rgb(17,17,17)\",\"gridcolor\":\"#506784\",\"linecolor\":\"#506784\",\"showbackground\":true,\"ticks\":\"\",\"zerolinecolor\":\"#C8D4E3\",\"gridwidth\":2},\"zaxis\":{\"backgroundcolor\":\"rgb(17,17,17)\",\"gridcolor\":\"#506784\",\"linecolor\":\"#506784\",\"showbackground\":true,\"ticks\":\"\",\"zerolinecolor\":\"#C8D4E3\",\"gridwidth\":2}},\"shapedefaults\":{\"line\":{\"color\":\"#f2f5fa\"}},\"annotationdefaults\":{\"arrowcolor\":\"#f2f5fa\",\"arrowhead\":0,\"arrowwidth\":1},\"geo\":{\"bgcolor\":\"rgb(17,17,17)\",\"landcolor\":\"rgb(17,17,17)\",\"subunitcolor\":\"#506784\",\"showland\":true,\"showlakes\":true,\"lakecolor\":\"rgb(17,17,17)\"},\"title\":{\"x\":0.05},\"updatemenudefaults\":{\"bgcolor\":\"#506784\",\"borderwidth\":0},\"sliderdefaults\":{\"bgcolor\":\"#C8D4E3\",\"borderwidth\":1,\"bordercolor\":\"rgb(17,17,17)\",\"tickwidth\":0},\"mapbox\":{\"style\":\"dark\"}}},\"xaxis\":{\"anchor\":\"y\",\"domain\":[0.0,1.0],\"title\":{\"text\":\"Temps en jours\"}},\"yaxis\":{\"anchor\":\"x\",\"domain\":[0.0,1.0],\"title\":{\"text\":\"Temps de parole en minutes\"}},\"legend\":{\"title\":{\"text\":\"Cha\\u00eene\"},\"tracegroupgap\":0},\"title\":{\"text\":\"Roussel : \\u00c9volution du temps de parole en fonction du temps\"}},                        {\"responsive\": true}                    ).then(function(){\n                            \nvar gd = document.getElementById('0e390b9b-8797-4f5b-b829-2596f93c6c99');\nvar x = new MutationObserver(function (mutations, observer) {{\n        var display = window.getComputedStyle(gd).display;\n        if (!display || display === 'none') {{\n            console.log([gd, 'removed!']);\n            Plotly.purge(gd);\n            observer.disconnect();\n        }}\n}});\n\n// Listen for the removal of the full notebook cells\nvar notebookContainer = gd.closest('#notebook-container');\nif (notebookContainer) {{\n    x.observe(notebookContainer, {childList: true});\n}}\n\n// Listen for the clearing of the current output cell\nvar outputEl = gd.closest('.output');\nif (outputEl) {{\n    x.observe(outputEl, {childList: true});\n}}\n\n                        })                };                });            </script>        </div>"
     },
     "metadata": {},
     "output_type": "display_data"
    }
   ],
   "source": [
    "px.line(df_roussel, x='Période', y=\"Somme\", color='Chaîne', labels={\n",
    "    \"Période\": \"Temps en jours\",\n",
    "    \"Somme\": \"Temps de parole en minutes\",\n",
    "    \"Chaîne\": \"Chaîne\"\n",
    "}, title=\"Roussel : Évolution du temps de parole en fonction du temps\")\n"
   ],
   "metadata": {
    "collapsed": false,
    "pycharm": {
     "name": "#%%\n"
    }
   }
  },
  {
   "cell_type": "code",
   "execution_count": 9,
   "outputs": [
    {
     "data": {
      "application/vnd.plotly.v1+json": {
       "data": [
        {
         "hovertemplate": "Chaîne=TF1<br>Temps en jours=%{x}<br>Temps de parole en minutes=%{y}<extra></extra>",
         "legendgroup": "TF1",
         "line": {
          "color": "#636efa",
          "dash": "solid"
         },
         "marker": {
          "symbol": "circle"
         },
         "mode": "lines",
         "name": "TF1",
         "orientation": "v",
         "showlegend": true,
         "x": [
          "2022-03-13T00:00:00",
          "2022-03-20T00:00:00",
          "2022-03-27T00:00:00",
          "2022-04-03T00:00:00",
          "2022-04-08T00:00:00"
         ],
         "xaxis": "x",
         "y": [
          10.65,
          29.683333333333334,
          29.9,
          0.7166666666666667,
          10.85
         ],
         "yaxis": "y",
         "type": "scatter"
        },
        {
         "hovertemplate": "Chaîne=France2<br>Temps en jours=%{x}<br>Temps de parole en minutes=%{y}<extra></extra>",
         "legendgroup": "France2",
         "line": {
          "color": "#EF553B",
          "dash": "solid"
         },
         "marker": {
          "symbol": "circle"
         },
         "mode": "lines",
         "name": "France2",
         "orientation": "v",
         "showlegend": true,
         "x": [
          "2022-03-13T00:00:00",
          "2022-03-20T00:00:00",
          "2022-03-27T00:00:00",
          "2022-04-03T00:00:00",
          "2022-04-08T00:00:00"
         ],
         "xaxis": "x",
         "y": [
          0.4666666666666667,
          67.39999999999999,
          68.28333333333333,
          7.516666666666667,
          32.81666666666667
         ],
         "yaxis": "y",
         "type": "scatter"
        },
        {
         "hovertemplate": "Chaîne=France3<br>Temps en jours=%{x}<br>Temps de parole en minutes=%{y}<extra></extra>",
         "legendgroup": "France3",
         "line": {
          "color": "#00cc96",
          "dash": "solid"
         },
         "marker": {
          "symbol": "circle"
         },
         "mode": "lines",
         "name": "France3",
         "orientation": "v",
         "showlegend": true,
         "x": [
          "2022-03-13T00:00:00",
          "2022-03-20T00:00:00",
          "2022-03-27T00:00:00",
          "2022-04-03T00:00:00",
          "2022-04-08T00:00:00"
         ],
         "xaxis": "x",
         "y": [
          16.183333333333334,
          16.233333333333334,
          17.383333333333333,
          1.2333333333333334,
          2.3833333333333333
         ],
         "yaxis": "y",
         "type": "scatter"
        },
        {
         "hovertemplate": "Chaîne=France5<br>Temps en jours=%{x}<br>Temps de parole en minutes=%{y}<extra></extra>",
         "legendgroup": "France5",
         "line": {
          "color": "#ab63fa",
          "dash": "solid"
         },
         "marker": {
          "symbol": "circle"
         },
         "mode": "lines",
         "name": "France5",
         "orientation": "v",
         "showlegend": true,
         "x": [
          "2022-03-13T00:00:00",
          "2022-03-20T00:00:00",
          "2022-03-27T00:00:00",
          "2022-04-03T00:00:00",
          "2022-04-08T00:00:00"
         ],
         "xaxis": "x",
         "y": [
          29.266666666666666,
          32.833333333333336,
          36.08333333333333,
          7.8,
          11.483333333333334
         ],
         "yaxis": "y",
         "type": "scatter"
        },
        {
         "hovertemplate": "Chaîne=M6<br>Temps en jours=%{x}<br>Temps de parole en minutes=%{y}<extra></extra>",
         "legendgroup": "M6",
         "line": {
          "color": "#FFA15A",
          "dash": "solid"
         },
         "marker": {
          "symbol": "circle"
         },
         "mode": "lines",
         "name": "M6",
         "orientation": "v",
         "showlegend": true,
         "x": [
          "2022-03-13T00:00:00",
          "2022-03-20T00:00:00",
          "2022-03-27T00:00:00",
          "2022-04-03T00:00:00",
          "2022-04-08T00:00:00"
         ],
         "xaxis": "x",
         "y": [
          2.416666666666667,
          3.1666666666666665,
          19.266666666666666,
          1.1833333333333333,
          2.9833333333333334
         ],
         "yaxis": "y",
         "type": "scatter"
        },
        {
         "hovertemplate": "Chaîne=C8<br>Temps en jours=%{x}<br>Temps de parole en minutes=%{y}<extra></extra>",
         "legendgroup": "C8",
         "line": {
          "color": "#19d3f3",
          "dash": "solid"
         },
         "marker": {
          "symbol": "circle"
         },
         "mode": "lines",
         "name": "C8",
         "orientation": "v",
         "showlegend": true,
         "x": [
          "2022-03-13T00:00:00",
          "2022-03-20T00:00:00",
          "2022-03-27T00:00:00",
          "2022-04-03T00:00:00",
          "2022-04-08T00:00:00"
         ],
         "xaxis": "x",
         "y": [
          6.933333333333334,
          53.96666666666667,
          106.73333333333333,
          10.133333333333333,
          10.633333333333333
         ],
         "yaxis": "y",
         "type": "scatter"
        },
        {
         "hovertemplate": "Chaîne=TMC<br>Temps en jours=%{x}<br>Temps de parole en minutes=%{y}<extra></extra>",
         "legendgroup": "TMC",
         "line": {
          "color": "#FF6692",
          "dash": "solid"
         },
         "marker": {
          "symbol": "circle"
         },
         "mode": "lines",
         "name": "TMC",
         "orientation": "v",
         "showlegend": true,
         "x": [
          "2022-03-13T00:00:00",
          "2022-03-20T00:00:00",
          "2022-03-27T00:00:00",
          "2022-04-03T00:00:00",
          "2022-04-08T00:00:00"
         ],
         "xaxis": "x",
         "y": [
          3.433333333333333,
          9.15,
          12.283333333333333,
          9.3,
          18.383333333333333
         ],
         "yaxis": "y",
         "type": "scatter"
        },
        {
         "hovertemplate": "Chaîne=BFMTV<br>Temps en jours=%{x}<br>Temps de parole en minutes=%{y}<extra></extra>",
         "legendgroup": "BFMTV",
         "line": {
          "color": "#B6E880",
          "dash": "solid"
         },
         "marker": {
          "symbol": "circle"
         },
         "mode": "lines",
         "name": "BFMTV",
         "orientation": "v",
         "showlegend": true,
         "x": [
          "2022-03-13T00:00:00",
          "2022-03-20T00:00:00",
          "2022-03-27T00:00:00",
          "2022-04-03T00:00:00",
          "2022-04-08T00:00:00"
         ],
         "xaxis": "x",
         "y": [
          60.11666666666666,
          60.31666666666666,
          219.95,
          8.850000000000001,
          32.75
         ],
         "yaxis": "y",
         "type": "scatter"
        },
        {
         "hovertemplate": "Chaîne=Cnews<br>Temps en jours=%{x}<br>Temps de parole en minutes=%{y}<extra></extra>",
         "legendgroup": "Cnews",
         "line": {
          "color": "#FF97FF",
          "dash": "solid"
         },
         "marker": {
          "symbol": "circle"
         },
         "mode": "lines",
         "name": "Cnews",
         "orientation": "v",
         "showlegend": true,
         "x": [
          "2022-03-13T00:00:00",
          "2022-03-20T00:00:00",
          "2022-03-27T00:00:00",
          "2022-04-03T00:00:00",
          "2022-04-08T00:00:00"
         ],
         "xaxis": "x",
         "y": [
          15.016666666666666,
          110.33333333333334,
          399.2333333333333,
          17.55,
          69.51666666666667
         ],
         "yaxis": "y",
         "type": "scatter"
        },
        {
         "hovertemplate": "Chaîne=RMCDecouverte<br>Temps en jours=%{x}<br>Temps de parole en minutes=%{y}<extra></extra>",
         "legendgroup": "RMCDecouverte",
         "line": {
          "color": "#FECB52",
          "dash": "solid"
         },
         "marker": {
          "symbol": "circle"
         },
         "mode": "lines",
         "name": "RMCDecouverte",
         "orientation": "v",
         "showlegend": true,
         "x": [
          "2022-03-13T00:00:00",
          "2022-03-20T00:00:00",
          "2022-03-27T00:00:00"
         ],
         "xaxis": "x",
         "y": [
          0.0,
          0.0,
          0.0
         ],
         "yaxis": "y",
         "type": "scatter"
        },
        {
         "hovertemplate": "Chaîne=LCI<br>Temps en jours=%{x}<br>Temps de parole en minutes=%{y}<extra></extra>",
         "legendgroup": "LCI",
         "line": {
          "color": "#636efa",
          "dash": "solid"
         },
         "marker": {
          "symbol": "circle"
         },
         "mode": "lines",
         "name": "LCI",
         "orientation": "v",
         "showlegend": true,
         "x": [
          "2022-03-13T00:00:00",
          "2022-03-20T00:00:00",
          "2022-03-27T00:00:00",
          "2022-04-03T00:00:00",
          "2022-04-08T00:00:00"
         ],
         "xaxis": "x",
         "y": [
          146.91666666666669,
          149.28333333333333,
          270.85,
          90.61666666666667,
          210.38333333333333
         ],
         "yaxis": "y",
         "type": "scatter"
        },
        {
         "hovertemplate": "Chaîne=FranceinfoTV<br>Temps en jours=%{x}<br>Temps de parole en minutes=%{y}<extra></extra>",
         "legendgroup": "FranceinfoTV",
         "line": {
          "color": "#EF553B",
          "dash": "solid"
         },
         "marker": {
          "symbol": "circle"
         },
         "mode": "lines",
         "name": "FranceinfoTV",
         "orientation": "v",
         "showlegend": true,
         "x": [
          "2022-03-13T00:00:00",
          "2022-03-20T00:00:00",
          "2022-03-27T00:00:00",
          "2022-04-03T00:00:00",
          "2022-04-08T00:00:00"
         ],
         "xaxis": "x",
         "y": [
          8.600000000000001,
          53.88333333333333,
          140.6,
          128.86666666666667,
          184.38333333333335
         ],
         "yaxis": "y",
         "type": "scatter"
        },
        {
         "hovertemplate": "Chaîne=FranceInter<br>Temps en jours=%{x}<br>Temps de parole en minutes=%{y}<extra></extra>",
         "legendgroup": "FranceInter",
         "line": {
          "color": "#00cc96",
          "dash": "solid"
         },
         "marker": {
          "symbol": "circle"
         },
         "mode": "lines",
         "name": "FranceInter",
         "orientation": "v",
         "showlegend": true,
         "x": [
          "2022-03-13T00:00:00",
          "2022-03-20T00:00:00",
          "2022-03-27T00:00:00",
          "2022-04-03T00:00:00",
          "2022-04-08T00:00:00"
         ],
         "xaxis": "x",
         "y": [
          1.9,
          18.51666666666667,
          32.15,
          7.6,
          14.166666666666666
         ],
         "yaxis": "y",
         "type": "scatter"
        },
        {
         "hovertemplate": "Chaîne=FranceInfo<br>Temps en jours=%{x}<br>Temps de parole en minutes=%{y}<extra></extra>",
         "legendgroup": "FranceInfo",
         "line": {
          "color": "#ab63fa",
          "dash": "solid"
         },
         "marker": {
          "symbol": "circle"
         },
         "mode": "lines",
         "name": "FranceInfo",
         "orientation": "v",
         "showlegend": true,
         "x": [
          "2022-03-13T00:00:00",
          "2022-03-20T00:00:00",
          "2022-03-27T00:00:00",
          "2022-04-03T00:00:00",
          "2022-04-08T00:00:00"
         ],
         "xaxis": "x",
         "y": [
          23.2,
          26.733333333333334,
          89.63333333333333,
          30.51666666666667,
          74.93333333333332
         ],
         "yaxis": "y",
         "type": "scatter"
        },
        {
         "hovertemplate": "Chaîne=FranceCulture<br>Temps en jours=%{x}<br>Temps de parole en minutes=%{y}<extra></extra>",
         "legendgroup": "FranceCulture",
         "line": {
          "color": "#FFA15A",
          "dash": "solid"
         },
         "marker": {
          "symbol": "circle"
         },
         "mode": "lines",
         "name": "FranceCulture",
         "orientation": "v",
         "showlegend": true,
         "x": [
          "2022-03-13T00:00:00",
          "2022-03-20T00:00:00",
          "2022-03-27T00:00:00",
          "2022-04-03T00:00:00",
          "2022-04-08T00:00:00"
         ],
         "xaxis": "x",
         "y": [
          9.549999999999999,
          30.783333333333335,
          30.983333333333334,
          0.8,
          10.516666666666667
         ],
         "yaxis": "y",
         "type": "scatter"
        },
        {
         "hovertemplate": "Chaîne=RTL<br>Temps en jours=%{x}<br>Temps de parole en minutes=%{y}<extra></extra>",
         "legendgroup": "RTL",
         "line": {
          "color": "#19d3f3",
          "dash": "solid"
         },
         "marker": {
          "symbol": "circle"
         },
         "mode": "lines",
         "name": "RTL",
         "orientation": "v",
         "showlegend": true,
         "x": [
          "2022-03-13T00:00:00",
          "2022-03-20T00:00:00",
          "2022-03-27T00:00:00",
          "2022-04-03T00:00:00",
          "2022-04-08T00:00:00"
         ],
         "xaxis": "x",
         "y": [
          118.28333333333333,
          120.03333333333333,
          121.61666666666666,
          9.65,
          15.299999999999999
         ],
         "yaxis": "y",
         "type": "scatter"
        },
        {
         "hovertemplate": "Chaîne=Europe1<br>Temps en jours=%{x}<br>Temps de parole en minutes=%{y}<extra></extra>",
         "legendgroup": "Europe1",
         "line": {
          "color": "#FF6692",
          "dash": "solid"
         },
         "marker": {
          "symbol": "circle"
         },
         "mode": "lines",
         "name": "Europe1",
         "orientation": "v",
         "showlegend": true,
         "x": [
          "2022-03-13T00:00:00",
          "2022-03-20T00:00:00",
          "2022-03-27T00:00:00",
          "2022-04-03T00:00:00",
          "2022-04-08T00:00:00"
         ],
         "xaxis": "x",
         "y": [
          15.566666666666666,
          113.11666666666666,
          126.01666666666667,
          19.266666666666666,
          47.11666666666667
         ],
         "yaxis": "y",
         "type": "scatter"
        },
        {
         "hovertemplate": "Chaîne=RMC<br>Temps en jours=%{x}<br>Temps de parole en minutes=%{y}<extra></extra>",
         "legendgroup": "RMC",
         "line": {
          "color": "#B6E880",
          "dash": "solid"
         },
         "marker": {
          "symbol": "circle"
         },
         "mode": "lines",
         "name": "RMC",
         "orientation": "v",
         "showlegend": true,
         "x": [
          "2022-03-13T00:00:00",
          "2022-03-20T00:00:00",
          "2022-03-27T00:00:00",
          "2022-04-03T00:00:00",
          "2022-04-08T00:00:00"
         ],
         "xaxis": "x",
         "y": [
          64.61666666666667,
          66.51666666666667,
          179.35000000000002,
          5.616666666666667,
          17.083333333333336
         ],
         "yaxis": "y",
         "type": "scatter"
        },
        {
         "hovertemplate": "Chaîne=BFMBusiness<br>Temps en jours=%{x}<br>Temps de parole en minutes=%{y}<extra></extra>",
         "legendgroup": "BFMBusiness",
         "line": {
          "color": "#FF97FF",
          "dash": "solid"
         },
         "marker": {
          "symbol": "circle"
         },
         "mode": "lines",
         "name": "BFMBusiness",
         "orientation": "v",
         "showlegend": true,
         "x": [
          "2022-03-13T00:00:00",
          "2022-03-20T00:00:00",
          "2022-03-27T00:00:00"
         ],
         "xaxis": "x",
         "y": [
          1.0,
          1.8166666666666667,
          18.433333333333334
         ],
         "yaxis": "y",
         "type": "scatter"
        },
        {
         "hovertemplate": "Chaîne=RadioClassique<br>Temps en jours=%{x}<br>Temps de parole en minutes=%{y}<extra></extra>",
         "legendgroup": "RadioClassique",
         "line": {
          "color": "#FECB52",
          "dash": "solid"
         },
         "marker": {
          "symbol": "circle"
         },
         "mode": "lines",
         "name": "RadioClassique",
         "orientation": "v",
         "showlegend": true,
         "x": [
          "2022-03-13T00:00:00",
          "2022-03-20T00:00:00",
          "2022-03-27T00:00:00",
          "2022-04-03T00:00:00",
          "2022-04-08T00:00:00"
         ],
         "xaxis": "x",
         "y": [
          0.0,
          0.0,
          0.0,
          0.0,
          0.0
         ],
         "yaxis": "y",
         "type": "scatter"
        },
        {
         "hovertemplate": "Chaîne=SudRadio<br>Temps en jours=%{x}<br>Temps de parole en minutes=%{y}<extra></extra>",
         "legendgroup": "SudRadio",
         "line": {
          "color": "#636efa",
          "dash": "solid"
         },
         "marker": {
          "symbol": "circle"
         },
         "mode": "lines",
         "name": "SudRadio",
         "orientation": "v",
         "showlegend": true,
         "x": [
          "2022-03-13T00:00:00",
          "2022-03-20T00:00:00",
          "2022-03-27T00:00:00",
          "2022-04-03T00:00:00",
          "2022-04-08T00:00:00"
         ],
         "xaxis": "x",
         "y": [
          0.0,
          17.666666666666668,
          19.166666666666668,
          0.7666666666666666,
          1.6666666666666667
         ],
         "yaxis": "y",
         "type": "scatter"
        },
        {
         "hovertemplate": "Chaîne=TV5Monde<br>Temps en jours=%{x}<br>Temps de parole en minutes=%{y}<extra></extra>",
         "legendgroup": "TV5Monde",
         "line": {
          "color": "#EF553B",
          "dash": "solid"
         },
         "marker": {
          "symbol": "circle"
         },
         "mode": "lines",
         "name": "TV5Monde",
         "orientation": "v",
         "showlegend": true,
         "x": [
          "2022-03-13T00:00:00",
          "2022-03-20T00:00:00",
          "2022-03-27T00:00:00",
          "2022-04-03T00:00:00",
          "2022-04-08T00:00:00"
         ],
         "xaxis": "x",
         "y": [
          0.0,
          59.53333333333333,
          60.1,
          7.516666666666667,
          32.083333333333336
         ],
         "yaxis": "y",
         "type": "scatter"
        },
        {
         "hovertemplate": "Chaîne=Euronews<br>Temps en jours=%{x}<br>Temps de parole en minutes=%{y}<extra></extra>",
         "legendgroup": "Euronews",
         "line": {
          "color": "#00cc96",
          "dash": "solid"
         },
         "marker": {
          "symbol": "circle"
         },
         "mode": "lines",
         "name": "Euronews",
         "orientation": "v",
         "showlegend": true,
         "x": [
          "2022-03-13T00:00:00",
          "2022-03-20T00:00:00",
          "2022-03-27T00:00:00"
         ],
         "xaxis": "x",
         "y": [
          0.0,
          0.0,
          0.0
         ],
         "yaxis": "y",
         "type": "scatter"
        },
        {
         "hovertemplate": "Chaîne=RFI<br>Temps en jours=%{x}<br>Temps de parole en minutes=%{y}<extra></extra>",
         "legendgroup": "RFI",
         "line": {
          "color": "#ab63fa",
          "dash": "solid"
         },
         "marker": {
          "symbol": "circle"
         },
         "mode": "lines",
         "name": "RFI",
         "orientation": "v",
         "showlegend": true,
         "x": [
          "2022-03-13T00:00:00",
          "2022-03-20T00:00:00",
          "2022-03-27T00:00:00",
          "2022-04-03T00:00:00",
          "2022-04-08T00:00:00"
         ],
         "xaxis": "x",
         "y": [
          17.683333333333334,
          18.71666666666667,
          25.916666666666668,
          15.8,
          23.816666666666666
         ],
         "yaxis": "y",
         "type": "scatter"
        },
        {
         "hovertemplate": "Chaîne=France24<br>Temps en jours=%{x}<br>Temps de parole en minutes=%{y}<extra></extra>",
         "legendgroup": "France24",
         "line": {
          "color": "#FFA15A",
          "dash": "solid"
         },
         "marker": {
          "symbol": "circle"
         },
         "mode": "lines",
         "name": "France24",
         "orientation": "v",
         "showlegend": true,
         "x": [
          "2022-03-13T00:00:00",
          "2022-03-20T00:00:00",
          "2022-03-27T00:00:00",
          "2022-04-03T00:00:00",
          "2022-04-08T00:00:00"
         ],
         "xaxis": "x",
         "y": [
          18.816666666666666,
          21.2,
          25.583333333333332,
          8.466666666666667,
          19.23333333333333
         ],
         "yaxis": "y",
         "type": "scatter"
        },
        {
         "hovertemplate": "Chaîne=RMC Story<br>Temps en jours=%{x}<br>Temps de parole en minutes=%{y}<extra></extra>",
         "legendgroup": "RMC Story",
         "line": {
          "color": "#19d3f3",
          "dash": "solid"
         },
         "marker": {
          "symbol": "circle"
         },
         "mode": "lines",
         "name": "RMC Story",
         "orientation": "v",
         "showlegend": true,
         "x": [
          "2022-03-13T00:00:00",
          "2022-03-20T00:00:00",
          "2022-03-27T00:00:00",
          "2022-04-03T00:00:00",
          "2022-04-08T00:00:00"
         ],
         "xaxis": "x",
         "y": [
          10.866666666666667,
          11.566666666666666,
          86.36666666666666,
          2.433333333333333,
          7.4
         ],
         "yaxis": "y",
         "type": "scatter"
        }
       ],
       "layout": {
        "template": {
         "data": {
          "histogram2dcontour": [
           {
            "type": "histogram2dcontour",
            "colorbar": {
             "outlinewidth": 0,
             "ticks": ""
            },
            "colorscale": [
             [
              0.0,
              "#0d0887"
             ],
             [
              0.1111111111111111,
              "#46039f"
             ],
             [
              0.2222222222222222,
              "#7201a8"
             ],
             [
              0.3333333333333333,
              "#9c179e"
             ],
             [
              0.4444444444444444,
              "#bd3786"
             ],
             [
              0.5555555555555556,
              "#d8576b"
             ],
             [
              0.6666666666666666,
              "#ed7953"
             ],
             [
              0.7777777777777778,
              "#fb9f3a"
             ],
             [
              0.8888888888888888,
              "#fdca26"
             ],
             [
              1.0,
              "#f0f921"
             ]
            ]
           }
          ],
          "choropleth": [
           {
            "type": "choropleth",
            "colorbar": {
             "outlinewidth": 0,
             "ticks": ""
            }
           }
          ],
          "histogram2d": [
           {
            "type": "histogram2d",
            "colorbar": {
             "outlinewidth": 0,
             "ticks": ""
            },
            "colorscale": [
             [
              0.0,
              "#0d0887"
             ],
             [
              0.1111111111111111,
              "#46039f"
             ],
             [
              0.2222222222222222,
              "#7201a8"
             ],
             [
              0.3333333333333333,
              "#9c179e"
             ],
             [
              0.4444444444444444,
              "#bd3786"
             ],
             [
              0.5555555555555556,
              "#d8576b"
             ],
             [
              0.6666666666666666,
              "#ed7953"
             ],
             [
              0.7777777777777778,
              "#fb9f3a"
             ],
             [
              0.8888888888888888,
              "#fdca26"
             ],
             [
              1.0,
              "#f0f921"
             ]
            ]
           }
          ],
          "heatmap": [
           {
            "type": "heatmap",
            "colorbar": {
             "outlinewidth": 0,
             "ticks": ""
            },
            "colorscale": [
             [
              0.0,
              "#0d0887"
             ],
             [
              0.1111111111111111,
              "#46039f"
             ],
             [
              0.2222222222222222,
              "#7201a8"
             ],
             [
              0.3333333333333333,
              "#9c179e"
             ],
             [
              0.4444444444444444,
              "#bd3786"
             ],
             [
              0.5555555555555556,
              "#d8576b"
             ],
             [
              0.6666666666666666,
              "#ed7953"
             ],
             [
              0.7777777777777778,
              "#fb9f3a"
             ],
             [
              0.8888888888888888,
              "#fdca26"
             ],
             [
              1.0,
              "#f0f921"
             ]
            ]
           }
          ],
          "heatmapgl": [
           {
            "type": "heatmapgl",
            "colorbar": {
             "outlinewidth": 0,
             "ticks": ""
            },
            "colorscale": [
             [
              0.0,
              "#0d0887"
             ],
             [
              0.1111111111111111,
              "#46039f"
             ],
             [
              0.2222222222222222,
              "#7201a8"
             ],
             [
              0.3333333333333333,
              "#9c179e"
             ],
             [
              0.4444444444444444,
              "#bd3786"
             ],
             [
              0.5555555555555556,
              "#d8576b"
             ],
             [
              0.6666666666666666,
              "#ed7953"
             ],
             [
              0.7777777777777778,
              "#fb9f3a"
             ],
             [
              0.8888888888888888,
              "#fdca26"
             ],
             [
              1.0,
              "#f0f921"
             ]
            ]
           }
          ],
          "contourcarpet": [
           {
            "type": "contourcarpet",
            "colorbar": {
             "outlinewidth": 0,
             "ticks": ""
            }
           }
          ],
          "contour": [
           {
            "type": "contour",
            "colorbar": {
             "outlinewidth": 0,
             "ticks": ""
            },
            "colorscale": [
             [
              0.0,
              "#0d0887"
             ],
             [
              0.1111111111111111,
              "#46039f"
             ],
             [
              0.2222222222222222,
              "#7201a8"
             ],
             [
              0.3333333333333333,
              "#9c179e"
             ],
             [
              0.4444444444444444,
              "#bd3786"
             ],
             [
              0.5555555555555556,
              "#d8576b"
             ],
             [
              0.6666666666666666,
              "#ed7953"
             ],
             [
              0.7777777777777778,
              "#fb9f3a"
             ],
             [
              0.8888888888888888,
              "#fdca26"
             ],
             [
              1.0,
              "#f0f921"
             ]
            ]
           }
          ],
          "surface": [
           {
            "type": "surface",
            "colorbar": {
             "outlinewidth": 0,
             "ticks": ""
            },
            "colorscale": [
             [
              0.0,
              "#0d0887"
             ],
             [
              0.1111111111111111,
              "#46039f"
             ],
             [
              0.2222222222222222,
              "#7201a8"
             ],
             [
              0.3333333333333333,
              "#9c179e"
             ],
             [
              0.4444444444444444,
              "#bd3786"
             ],
             [
              0.5555555555555556,
              "#d8576b"
             ],
             [
              0.6666666666666666,
              "#ed7953"
             ],
             [
              0.7777777777777778,
              "#fb9f3a"
             ],
             [
              0.8888888888888888,
              "#fdca26"
             ],
             [
              1.0,
              "#f0f921"
             ]
            ]
           }
          ],
          "mesh3d": [
           {
            "type": "mesh3d",
            "colorbar": {
             "outlinewidth": 0,
             "ticks": ""
            }
           }
          ],
          "scatter": [
           {
            "marker": {
             "line": {
              "color": "#283442"
             }
            },
            "type": "scatter"
           }
          ],
          "parcoords": [
           {
            "type": "parcoords",
            "line": {
             "colorbar": {
              "outlinewidth": 0,
              "ticks": ""
             }
            }
           }
          ],
          "scatterpolargl": [
           {
            "type": "scatterpolargl",
            "marker": {
             "colorbar": {
              "outlinewidth": 0,
              "ticks": ""
             }
            }
           }
          ],
          "bar": [
           {
            "error_x": {
             "color": "#f2f5fa"
            },
            "error_y": {
             "color": "#f2f5fa"
            },
            "marker": {
             "line": {
              "color": "rgb(17,17,17)",
              "width": 0.5
             },
             "pattern": {
              "fillmode": "overlay",
              "size": 10,
              "solidity": 0.2
             }
            },
            "type": "bar"
           }
          ],
          "scattergeo": [
           {
            "type": "scattergeo",
            "marker": {
             "colorbar": {
              "outlinewidth": 0,
              "ticks": ""
             }
            }
           }
          ],
          "scatterpolar": [
           {
            "type": "scatterpolar",
            "marker": {
             "colorbar": {
              "outlinewidth": 0,
              "ticks": ""
             }
            }
           }
          ],
          "histogram": [
           {
            "marker": {
             "pattern": {
              "fillmode": "overlay",
              "size": 10,
              "solidity": 0.2
             }
            },
            "type": "histogram"
           }
          ],
          "scattergl": [
           {
            "marker": {
             "line": {
              "color": "#283442"
             }
            },
            "type": "scattergl"
           }
          ],
          "scatter3d": [
           {
            "type": "scatter3d",
            "line": {
             "colorbar": {
              "outlinewidth": 0,
              "ticks": ""
             }
            },
            "marker": {
             "colorbar": {
              "outlinewidth": 0,
              "ticks": ""
             }
            }
           }
          ],
          "scattermapbox": [
           {
            "type": "scattermapbox",
            "marker": {
             "colorbar": {
              "outlinewidth": 0,
              "ticks": ""
             }
            }
           }
          ],
          "scatterternary": [
           {
            "type": "scatterternary",
            "marker": {
             "colorbar": {
              "outlinewidth": 0,
              "ticks": ""
             }
            }
           }
          ],
          "scattercarpet": [
           {
            "type": "scattercarpet",
            "marker": {
             "colorbar": {
              "outlinewidth": 0,
              "ticks": ""
             }
            }
           }
          ],
          "carpet": [
           {
            "aaxis": {
             "endlinecolor": "#A2B1C6",
             "gridcolor": "#506784",
             "linecolor": "#506784",
             "minorgridcolor": "#506784",
             "startlinecolor": "#A2B1C6"
            },
            "baxis": {
             "endlinecolor": "#A2B1C6",
             "gridcolor": "#506784",
             "linecolor": "#506784",
             "minorgridcolor": "#506784",
             "startlinecolor": "#A2B1C6"
            },
            "type": "carpet"
           }
          ],
          "table": [
           {
            "cells": {
             "fill": {
              "color": "#506784"
             },
             "line": {
              "color": "rgb(17,17,17)"
             }
            },
            "header": {
             "fill": {
              "color": "#2a3f5f"
             },
             "line": {
              "color": "rgb(17,17,17)"
             }
            },
            "type": "table"
           }
          ],
          "barpolar": [
           {
            "marker": {
             "line": {
              "color": "rgb(17,17,17)",
              "width": 0.5
             },
             "pattern": {
              "fillmode": "overlay",
              "size": 10,
              "solidity": 0.2
             }
            },
            "type": "barpolar"
           }
          ],
          "pie": [
           {
            "automargin": true,
            "type": "pie"
           }
          ]
         },
         "layout": {
          "autotypenumbers": "strict",
          "colorway": [
           "#636efa",
           "#EF553B",
           "#00cc96",
           "#ab63fa",
           "#FFA15A",
           "#19d3f3",
           "#FF6692",
           "#B6E880",
           "#FF97FF",
           "#FECB52"
          ],
          "font": {
           "color": "#f2f5fa"
          },
          "hovermode": "closest",
          "hoverlabel": {
           "align": "left"
          },
          "paper_bgcolor": "rgb(17,17,17)",
          "plot_bgcolor": "rgb(17,17,17)",
          "polar": {
           "bgcolor": "rgb(17,17,17)",
           "angularaxis": {
            "gridcolor": "#506784",
            "linecolor": "#506784",
            "ticks": ""
           },
           "radialaxis": {
            "gridcolor": "#506784",
            "linecolor": "#506784",
            "ticks": ""
           }
          },
          "ternary": {
           "bgcolor": "rgb(17,17,17)",
           "aaxis": {
            "gridcolor": "#506784",
            "linecolor": "#506784",
            "ticks": ""
           },
           "baxis": {
            "gridcolor": "#506784",
            "linecolor": "#506784",
            "ticks": ""
           },
           "caxis": {
            "gridcolor": "#506784",
            "linecolor": "#506784",
            "ticks": ""
           }
          },
          "coloraxis": {
           "colorbar": {
            "outlinewidth": 0,
            "ticks": ""
           }
          },
          "colorscale": {
           "sequential": [
            [
             0.0,
             "#0d0887"
            ],
            [
             0.1111111111111111,
             "#46039f"
            ],
            [
             0.2222222222222222,
             "#7201a8"
            ],
            [
             0.3333333333333333,
             "#9c179e"
            ],
            [
             0.4444444444444444,
             "#bd3786"
            ],
            [
             0.5555555555555556,
             "#d8576b"
            ],
            [
             0.6666666666666666,
             "#ed7953"
            ],
            [
             0.7777777777777778,
             "#fb9f3a"
            ],
            [
             0.8888888888888888,
             "#fdca26"
            ],
            [
             1.0,
             "#f0f921"
            ]
           ],
           "sequentialminus": [
            [
             0.0,
             "#0d0887"
            ],
            [
             0.1111111111111111,
             "#46039f"
            ],
            [
             0.2222222222222222,
             "#7201a8"
            ],
            [
             0.3333333333333333,
             "#9c179e"
            ],
            [
             0.4444444444444444,
             "#bd3786"
            ],
            [
             0.5555555555555556,
             "#d8576b"
            ],
            [
             0.6666666666666666,
             "#ed7953"
            ],
            [
             0.7777777777777778,
             "#fb9f3a"
            ],
            [
             0.8888888888888888,
             "#fdca26"
            ],
            [
             1.0,
             "#f0f921"
            ]
           ],
           "diverging": [
            [
             0,
             "#8e0152"
            ],
            [
             0.1,
             "#c51b7d"
            ],
            [
             0.2,
             "#de77ae"
            ],
            [
             0.3,
             "#f1b6da"
            ],
            [
             0.4,
             "#fde0ef"
            ],
            [
             0.5,
             "#f7f7f7"
            ],
            [
             0.6,
             "#e6f5d0"
            ],
            [
             0.7,
             "#b8e186"
            ],
            [
             0.8,
             "#7fbc41"
            ],
            [
             0.9,
             "#4d9221"
            ],
            [
             1,
             "#276419"
            ]
           ]
          },
          "xaxis": {
           "gridcolor": "#283442",
           "linecolor": "#506784",
           "ticks": "",
           "title": {
            "standoff": 15
           },
           "zerolinecolor": "#283442",
           "automargin": true,
           "zerolinewidth": 2
          },
          "yaxis": {
           "gridcolor": "#283442",
           "linecolor": "#506784",
           "ticks": "",
           "title": {
            "standoff": 15
           },
           "zerolinecolor": "#283442",
           "automargin": true,
           "zerolinewidth": 2
          },
          "scene": {
           "xaxis": {
            "backgroundcolor": "rgb(17,17,17)",
            "gridcolor": "#506784",
            "linecolor": "#506784",
            "showbackground": true,
            "ticks": "",
            "zerolinecolor": "#C8D4E3",
            "gridwidth": 2
           },
           "yaxis": {
            "backgroundcolor": "rgb(17,17,17)",
            "gridcolor": "#506784",
            "linecolor": "#506784",
            "showbackground": true,
            "ticks": "",
            "zerolinecolor": "#C8D4E3",
            "gridwidth": 2
           },
           "zaxis": {
            "backgroundcolor": "rgb(17,17,17)",
            "gridcolor": "#506784",
            "linecolor": "#506784",
            "showbackground": true,
            "ticks": "",
            "zerolinecolor": "#C8D4E3",
            "gridwidth": 2
           }
          },
          "shapedefaults": {
           "line": {
            "color": "#f2f5fa"
           }
          },
          "annotationdefaults": {
           "arrowcolor": "#f2f5fa",
           "arrowhead": 0,
           "arrowwidth": 1
          },
          "geo": {
           "bgcolor": "rgb(17,17,17)",
           "landcolor": "rgb(17,17,17)",
           "subunitcolor": "#506784",
           "showland": true,
           "showlakes": true,
           "lakecolor": "rgb(17,17,17)"
          },
          "title": {
           "x": 0.05
          },
          "updatemenudefaults": {
           "bgcolor": "#506784",
           "borderwidth": 0
          },
          "sliderdefaults": {
           "bgcolor": "#C8D4E3",
           "borderwidth": 1,
           "bordercolor": "rgb(17,17,17)",
           "tickwidth": 0
          },
          "mapbox": {
           "style": "dark"
          }
         }
        },
        "xaxis": {
         "anchor": "y",
         "domain": [
          0.0,
          1.0
         ],
         "title": {
          "text": "Temps en jours"
         }
        },
        "yaxis": {
         "anchor": "x",
         "domain": [
          0.0,
          1.0
         ],
         "title": {
          "text": "Temps de parole en minutes"
         }
        },
        "legend": {
         "title": {
          "text": "Chaîne"
         },
         "tracegroupgap": 0
        },
        "title": {
         "text": "Zemmour : Évolution du temps de parole en fonction du temps"
        }
       },
       "config": {
        "plotlyServerURL": "https://plot.ly"
       }
      },
      "text/html": "<div>                            <div id=\"12783964-617d-4c64-b5da-54136086aa4b\" class=\"plotly-graph-div\" style=\"height:525px; width:100%;\"></div>            <script type=\"text/javascript\">                require([\"plotly\"], function(Plotly) {                    window.PLOTLYENV=window.PLOTLYENV || {};                                    if (document.getElementById(\"12783964-617d-4c64-b5da-54136086aa4b\")) {                    Plotly.newPlot(                        \"12783964-617d-4c64-b5da-54136086aa4b\",                        [{\"hovertemplate\":\"Cha\\u00eene=TF1<br>Temps en jours=%{x}<br>Temps de parole en minutes=%{y}<extra></extra>\",\"legendgroup\":\"TF1\",\"line\":{\"color\":\"#636efa\",\"dash\":\"solid\"},\"marker\":{\"symbol\":\"circle\"},\"mode\":\"lines\",\"name\":\"TF1\",\"orientation\":\"v\",\"showlegend\":true,\"x\":[\"2022-03-13T00:00:00\",\"2022-03-20T00:00:00\",\"2022-03-27T00:00:00\",\"2022-04-03T00:00:00\",\"2022-04-08T00:00:00\"],\"xaxis\":\"x\",\"y\":[10.65,29.683333333333334,29.9,0.7166666666666667,10.85],\"yaxis\":\"y\",\"type\":\"scatter\"},{\"hovertemplate\":\"Cha\\u00eene=France2<br>Temps en jours=%{x}<br>Temps de parole en minutes=%{y}<extra></extra>\",\"legendgroup\":\"France2\",\"line\":{\"color\":\"#EF553B\",\"dash\":\"solid\"},\"marker\":{\"symbol\":\"circle\"},\"mode\":\"lines\",\"name\":\"France2\",\"orientation\":\"v\",\"showlegend\":true,\"x\":[\"2022-03-13T00:00:00\",\"2022-03-20T00:00:00\",\"2022-03-27T00:00:00\",\"2022-04-03T00:00:00\",\"2022-04-08T00:00:00\"],\"xaxis\":\"x\",\"y\":[0.4666666666666667,67.39999999999999,68.28333333333333,7.516666666666667,32.81666666666667],\"yaxis\":\"y\",\"type\":\"scatter\"},{\"hovertemplate\":\"Cha\\u00eene=France3<br>Temps en jours=%{x}<br>Temps de parole en minutes=%{y}<extra></extra>\",\"legendgroup\":\"France3\",\"line\":{\"color\":\"#00cc96\",\"dash\":\"solid\"},\"marker\":{\"symbol\":\"circle\"},\"mode\":\"lines\",\"name\":\"France3\",\"orientation\":\"v\",\"showlegend\":true,\"x\":[\"2022-03-13T00:00:00\",\"2022-03-20T00:00:00\",\"2022-03-27T00:00:00\",\"2022-04-03T00:00:00\",\"2022-04-08T00:00:00\"],\"xaxis\":\"x\",\"y\":[16.183333333333334,16.233333333333334,17.383333333333333,1.2333333333333334,2.3833333333333333],\"yaxis\":\"y\",\"type\":\"scatter\"},{\"hovertemplate\":\"Cha\\u00eene=France5<br>Temps en jours=%{x}<br>Temps de parole en minutes=%{y}<extra></extra>\",\"legendgroup\":\"France5\",\"line\":{\"color\":\"#ab63fa\",\"dash\":\"solid\"},\"marker\":{\"symbol\":\"circle\"},\"mode\":\"lines\",\"name\":\"France5\",\"orientation\":\"v\",\"showlegend\":true,\"x\":[\"2022-03-13T00:00:00\",\"2022-03-20T00:00:00\",\"2022-03-27T00:00:00\",\"2022-04-03T00:00:00\",\"2022-04-08T00:00:00\"],\"xaxis\":\"x\",\"y\":[29.266666666666666,32.833333333333336,36.08333333333333,7.8,11.483333333333334],\"yaxis\":\"y\",\"type\":\"scatter\"},{\"hovertemplate\":\"Cha\\u00eene=M6<br>Temps en jours=%{x}<br>Temps de parole en minutes=%{y}<extra></extra>\",\"legendgroup\":\"M6\",\"line\":{\"color\":\"#FFA15A\",\"dash\":\"solid\"},\"marker\":{\"symbol\":\"circle\"},\"mode\":\"lines\",\"name\":\"M6\",\"orientation\":\"v\",\"showlegend\":true,\"x\":[\"2022-03-13T00:00:00\",\"2022-03-20T00:00:00\",\"2022-03-27T00:00:00\",\"2022-04-03T00:00:00\",\"2022-04-08T00:00:00\"],\"xaxis\":\"x\",\"y\":[2.416666666666667,3.1666666666666665,19.266666666666666,1.1833333333333333,2.9833333333333334],\"yaxis\":\"y\",\"type\":\"scatter\"},{\"hovertemplate\":\"Cha\\u00eene=C8<br>Temps en jours=%{x}<br>Temps de parole en minutes=%{y}<extra></extra>\",\"legendgroup\":\"C8\",\"line\":{\"color\":\"#19d3f3\",\"dash\":\"solid\"},\"marker\":{\"symbol\":\"circle\"},\"mode\":\"lines\",\"name\":\"C8\",\"orientation\":\"v\",\"showlegend\":true,\"x\":[\"2022-03-13T00:00:00\",\"2022-03-20T00:00:00\",\"2022-03-27T00:00:00\",\"2022-04-03T00:00:00\",\"2022-04-08T00:00:00\"],\"xaxis\":\"x\",\"y\":[6.933333333333334,53.96666666666667,106.73333333333333,10.133333333333333,10.633333333333333],\"yaxis\":\"y\",\"type\":\"scatter\"},{\"hovertemplate\":\"Cha\\u00eene=TMC<br>Temps en jours=%{x}<br>Temps de parole en minutes=%{y}<extra></extra>\",\"legendgroup\":\"TMC\",\"line\":{\"color\":\"#FF6692\",\"dash\":\"solid\"},\"marker\":{\"symbol\":\"circle\"},\"mode\":\"lines\",\"name\":\"TMC\",\"orientation\":\"v\",\"showlegend\":true,\"x\":[\"2022-03-13T00:00:00\",\"2022-03-20T00:00:00\",\"2022-03-27T00:00:00\",\"2022-04-03T00:00:00\",\"2022-04-08T00:00:00\"],\"xaxis\":\"x\",\"y\":[3.433333333333333,9.15,12.283333333333333,9.3,18.383333333333333],\"yaxis\":\"y\",\"type\":\"scatter\"},{\"hovertemplate\":\"Cha\\u00eene=BFMTV<br>Temps en jours=%{x}<br>Temps de parole en minutes=%{y}<extra></extra>\",\"legendgroup\":\"BFMTV\",\"line\":{\"color\":\"#B6E880\",\"dash\":\"solid\"},\"marker\":{\"symbol\":\"circle\"},\"mode\":\"lines\",\"name\":\"BFMTV\",\"orientation\":\"v\",\"showlegend\":true,\"x\":[\"2022-03-13T00:00:00\",\"2022-03-20T00:00:00\",\"2022-03-27T00:00:00\",\"2022-04-03T00:00:00\",\"2022-04-08T00:00:00\"],\"xaxis\":\"x\",\"y\":[60.11666666666666,60.31666666666666,219.95,8.850000000000001,32.75],\"yaxis\":\"y\",\"type\":\"scatter\"},{\"hovertemplate\":\"Cha\\u00eene=Cnews<br>Temps en jours=%{x}<br>Temps de parole en minutes=%{y}<extra></extra>\",\"legendgroup\":\"Cnews\",\"line\":{\"color\":\"#FF97FF\",\"dash\":\"solid\"},\"marker\":{\"symbol\":\"circle\"},\"mode\":\"lines\",\"name\":\"Cnews\",\"orientation\":\"v\",\"showlegend\":true,\"x\":[\"2022-03-13T00:00:00\",\"2022-03-20T00:00:00\",\"2022-03-27T00:00:00\",\"2022-04-03T00:00:00\",\"2022-04-08T00:00:00\"],\"xaxis\":\"x\",\"y\":[15.016666666666666,110.33333333333334,399.2333333333333,17.55,69.51666666666667],\"yaxis\":\"y\",\"type\":\"scatter\"},{\"hovertemplate\":\"Cha\\u00eene=RMCDecouverte<br>Temps en jours=%{x}<br>Temps de parole en minutes=%{y}<extra></extra>\",\"legendgroup\":\"RMCDecouverte\",\"line\":{\"color\":\"#FECB52\",\"dash\":\"solid\"},\"marker\":{\"symbol\":\"circle\"},\"mode\":\"lines\",\"name\":\"RMCDecouverte\",\"orientation\":\"v\",\"showlegend\":true,\"x\":[\"2022-03-13T00:00:00\",\"2022-03-20T00:00:00\",\"2022-03-27T00:00:00\"],\"xaxis\":\"x\",\"y\":[0.0,0.0,0.0],\"yaxis\":\"y\",\"type\":\"scatter\"},{\"hovertemplate\":\"Cha\\u00eene=LCI<br>Temps en jours=%{x}<br>Temps de parole en minutes=%{y}<extra></extra>\",\"legendgroup\":\"LCI\",\"line\":{\"color\":\"#636efa\",\"dash\":\"solid\"},\"marker\":{\"symbol\":\"circle\"},\"mode\":\"lines\",\"name\":\"LCI\",\"orientation\":\"v\",\"showlegend\":true,\"x\":[\"2022-03-13T00:00:00\",\"2022-03-20T00:00:00\",\"2022-03-27T00:00:00\",\"2022-04-03T00:00:00\",\"2022-04-08T00:00:00\"],\"xaxis\":\"x\",\"y\":[146.91666666666669,149.28333333333333,270.85,90.61666666666667,210.38333333333333],\"yaxis\":\"y\",\"type\":\"scatter\"},{\"hovertemplate\":\"Cha\\u00eene=FranceinfoTV<br>Temps en jours=%{x}<br>Temps de parole en minutes=%{y}<extra></extra>\",\"legendgroup\":\"FranceinfoTV\",\"line\":{\"color\":\"#EF553B\",\"dash\":\"solid\"},\"marker\":{\"symbol\":\"circle\"},\"mode\":\"lines\",\"name\":\"FranceinfoTV\",\"orientation\":\"v\",\"showlegend\":true,\"x\":[\"2022-03-13T00:00:00\",\"2022-03-20T00:00:00\",\"2022-03-27T00:00:00\",\"2022-04-03T00:00:00\",\"2022-04-08T00:00:00\"],\"xaxis\":\"x\",\"y\":[8.600000000000001,53.88333333333333,140.6,128.86666666666667,184.38333333333335],\"yaxis\":\"y\",\"type\":\"scatter\"},{\"hovertemplate\":\"Cha\\u00eene=FranceInter<br>Temps en jours=%{x}<br>Temps de parole en minutes=%{y}<extra></extra>\",\"legendgroup\":\"FranceInter\",\"line\":{\"color\":\"#00cc96\",\"dash\":\"solid\"},\"marker\":{\"symbol\":\"circle\"},\"mode\":\"lines\",\"name\":\"FranceInter\",\"orientation\":\"v\",\"showlegend\":true,\"x\":[\"2022-03-13T00:00:00\",\"2022-03-20T00:00:00\",\"2022-03-27T00:00:00\",\"2022-04-03T00:00:00\",\"2022-04-08T00:00:00\"],\"xaxis\":\"x\",\"y\":[1.9,18.51666666666667,32.15,7.6,14.166666666666666],\"yaxis\":\"y\",\"type\":\"scatter\"},{\"hovertemplate\":\"Cha\\u00eene=FranceInfo<br>Temps en jours=%{x}<br>Temps de parole en minutes=%{y}<extra></extra>\",\"legendgroup\":\"FranceInfo\",\"line\":{\"color\":\"#ab63fa\",\"dash\":\"solid\"},\"marker\":{\"symbol\":\"circle\"},\"mode\":\"lines\",\"name\":\"FranceInfo\",\"orientation\":\"v\",\"showlegend\":true,\"x\":[\"2022-03-13T00:00:00\",\"2022-03-20T00:00:00\",\"2022-03-27T00:00:00\",\"2022-04-03T00:00:00\",\"2022-04-08T00:00:00\"],\"xaxis\":\"x\",\"y\":[23.2,26.733333333333334,89.63333333333333,30.51666666666667,74.93333333333332],\"yaxis\":\"y\",\"type\":\"scatter\"},{\"hovertemplate\":\"Cha\\u00eene=FranceCulture<br>Temps en jours=%{x}<br>Temps de parole en minutes=%{y}<extra></extra>\",\"legendgroup\":\"FranceCulture\",\"line\":{\"color\":\"#FFA15A\",\"dash\":\"solid\"},\"marker\":{\"symbol\":\"circle\"},\"mode\":\"lines\",\"name\":\"FranceCulture\",\"orientation\":\"v\",\"showlegend\":true,\"x\":[\"2022-03-13T00:00:00\",\"2022-03-20T00:00:00\",\"2022-03-27T00:00:00\",\"2022-04-03T00:00:00\",\"2022-04-08T00:00:00\"],\"xaxis\":\"x\",\"y\":[9.549999999999999,30.783333333333335,30.983333333333334,0.8,10.516666666666667],\"yaxis\":\"y\",\"type\":\"scatter\"},{\"hovertemplate\":\"Cha\\u00eene=RTL<br>Temps en jours=%{x}<br>Temps de parole en minutes=%{y}<extra></extra>\",\"legendgroup\":\"RTL\",\"line\":{\"color\":\"#19d3f3\",\"dash\":\"solid\"},\"marker\":{\"symbol\":\"circle\"},\"mode\":\"lines\",\"name\":\"RTL\",\"orientation\":\"v\",\"showlegend\":true,\"x\":[\"2022-03-13T00:00:00\",\"2022-03-20T00:00:00\",\"2022-03-27T00:00:00\",\"2022-04-03T00:00:00\",\"2022-04-08T00:00:00\"],\"xaxis\":\"x\",\"y\":[118.28333333333333,120.03333333333333,121.61666666666666,9.65,15.299999999999999],\"yaxis\":\"y\",\"type\":\"scatter\"},{\"hovertemplate\":\"Cha\\u00eene=Europe1<br>Temps en jours=%{x}<br>Temps de parole en minutes=%{y}<extra></extra>\",\"legendgroup\":\"Europe1\",\"line\":{\"color\":\"#FF6692\",\"dash\":\"solid\"},\"marker\":{\"symbol\":\"circle\"},\"mode\":\"lines\",\"name\":\"Europe1\",\"orientation\":\"v\",\"showlegend\":true,\"x\":[\"2022-03-13T00:00:00\",\"2022-03-20T00:00:00\",\"2022-03-27T00:00:00\",\"2022-04-03T00:00:00\",\"2022-04-08T00:00:00\"],\"xaxis\":\"x\",\"y\":[15.566666666666666,113.11666666666666,126.01666666666667,19.266666666666666,47.11666666666667],\"yaxis\":\"y\",\"type\":\"scatter\"},{\"hovertemplate\":\"Cha\\u00eene=RMC<br>Temps en jours=%{x}<br>Temps de parole en minutes=%{y}<extra></extra>\",\"legendgroup\":\"RMC\",\"line\":{\"color\":\"#B6E880\",\"dash\":\"solid\"},\"marker\":{\"symbol\":\"circle\"},\"mode\":\"lines\",\"name\":\"RMC\",\"orientation\":\"v\",\"showlegend\":true,\"x\":[\"2022-03-13T00:00:00\",\"2022-03-20T00:00:00\",\"2022-03-27T00:00:00\",\"2022-04-03T00:00:00\",\"2022-04-08T00:00:00\"],\"xaxis\":\"x\",\"y\":[64.61666666666667,66.51666666666667,179.35000000000002,5.616666666666667,17.083333333333336],\"yaxis\":\"y\",\"type\":\"scatter\"},{\"hovertemplate\":\"Cha\\u00eene=BFMBusiness<br>Temps en jours=%{x}<br>Temps de parole en minutes=%{y}<extra></extra>\",\"legendgroup\":\"BFMBusiness\",\"line\":{\"color\":\"#FF97FF\",\"dash\":\"solid\"},\"marker\":{\"symbol\":\"circle\"},\"mode\":\"lines\",\"name\":\"BFMBusiness\",\"orientation\":\"v\",\"showlegend\":true,\"x\":[\"2022-03-13T00:00:00\",\"2022-03-20T00:00:00\",\"2022-03-27T00:00:00\"],\"xaxis\":\"x\",\"y\":[1.0,1.8166666666666667,18.433333333333334],\"yaxis\":\"y\",\"type\":\"scatter\"},{\"hovertemplate\":\"Cha\\u00eene=RadioClassique<br>Temps en jours=%{x}<br>Temps de parole en minutes=%{y}<extra></extra>\",\"legendgroup\":\"RadioClassique\",\"line\":{\"color\":\"#FECB52\",\"dash\":\"solid\"},\"marker\":{\"symbol\":\"circle\"},\"mode\":\"lines\",\"name\":\"RadioClassique\",\"orientation\":\"v\",\"showlegend\":true,\"x\":[\"2022-03-13T00:00:00\",\"2022-03-20T00:00:00\",\"2022-03-27T00:00:00\",\"2022-04-03T00:00:00\",\"2022-04-08T00:00:00\"],\"xaxis\":\"x\",\"y\":[0.0,0.0,0.0,0.0,0.0],\"yaxis\":\"y\",\"type\":\"scatter\"},{\"hovertemplate\":\"Cha\\u00eene=SudRadio<br>Temps en jours=%{x}<br>Temps de parole en minutes=%{y}<extra></extra>\",\"legendgroup\":\"SudRadio\",\"line\":{\"color\":\"#636efa\",\"dash\":\"solid\"},\"marker\":{\"symbol\":\"circle\"},\"mode\":\"lines\",\"name\":\"SudRadio\",\"orientation\":\"v\",\"showlegend\":true,\"x\":[\"2022-03-13T00:00:00\",\"2022-03-20T00:00:00\",\"2022-03-27T00:00:00\",\"2022-04-03T00:00:00\",\"2022-04-08T00:00:00\"],\"xaxis\":\"x\",\"y\":[0.0,17.666666666666668,19.166666666666668,0.7666666666666666,1.6666666666666667],\"yaxis\":\"y\",\"type\":\"scatter\"},{\"hovertemplate\":\"Cha\\u00eene=TV5Monde<br>Temps en jours=%{x}<br>Temps de parole en minutes=%{y}<extra></extra>\",\"legendgroup\":\"TV5Monde\",\"line\":{\"color\":\"#EF553B\",\"dash\":\"solid\"},\"marker\":{\"symbol\":\"circle\"},\"mode\":\"lines\",\"name\":\"TV5Monde\",\"orientation\":\"v\",\"showlegend\":true,\"x\":[\"2022-03-13T00:00:00\",\"2022-03-20T00:00:00\",\"2022-03-27T00:00:00\",\"2022-04-03T00:00:00\",\"2022-04-08T00:00:00\"],\"xaxis\":\"x\",\"y\":[0.0,59.53333333333333,60.1,7.516666666666667,32.083333333333336],\"yaxis\":\"y\",\"type\":\"scatter\"},{\"hovertemplate\":\"Cha\\u00eene=Euronews<br>Temps en jours=%{x}<br>Temps de parole en minutes=%{y}<extra></extra>\",\"legendgroup\":\"Euronews\",\"line\":{\"color\":\"#00cc96\",\"dash\":\"solid\"},\"marker\":{\"symbol\":\"circle\"},\"mode\":\"lines\",\"name\":\"Euronews\",\"orientation\":\"v\",\"showlegend\":true,\"x\":[\"2022-03-13T00:00:00\",\"2022-03-20T00:00:00\",\"2022-03-27T00:00:00\"],\"xaxis\":\"x\",\"y\":[0.0,0.0,0.0],\"yaxis\":\"y\",\"type\":\"scatter\"},{\"hovertemplate\":\"Cha\\u00eene=RFI<br>Temps en jours=%{x}<br>Temps de parole en minutes=%{y}<extra></extra>\",\"legendgroup\":\"RFI\",\"line\":{\"color\":\"#ab63fa\",\"dash\":\"solid\"},\"marker\":{\"symbol\":\"circle\"},\"mode\":\"lines\",\"name\":\"RFI\",\"orientation\":\"v\",\"showlegend\":true,\"x\":[\"2022-03-13T00:00:00\",\"2022-03-20T00:00:00\",\"2022-03-27T00:00:00\",\"2022-04-03T00:00:00\",\"2022-04-08T00:00:00\"],\"xaxis\":\"x\",\"y\":[17.683333333333334,18.71666666666667,25.916666666666668,15.8,23.816666666666666],\"yaxis\":\"y\",\"type\":\"scatter\"},{\"hovertemplate\":\"Cha\\u00eene=France24<br>Temps en jours=%{x}<br>Temps de parole en minutes=%{y}<extra></extra>\",\"legendgroup\":\"France24\",\"line\":{\"color\":\"#FFA15A\",\"dash\":\"solid\"},\"marker\":{\"symbol\":\"circle\"},\"mode\":\"lines\",\"name\":\"France24\",\"orientation\":\"v\",\"showlegend\":true,\"x\":[\"2022-03-13T00:00:00\",\"2022-03-20T00:00:00\",\"2022-03-27T00:00:00\",\"2022-04-03T00:00:00\",\"2022-04-08T00:00:00\"],\"xaxis\":\"x\",\"y\":[18.816666666666666,21.2,25.583333333333332,8.466666666666667,19.23333333333333],\"yaxis\":\"y\",\"type\":\"scatter\"},{\"hovertemplate\":\"Cha\\u00eene=RMC Story<br>Temps en jours=%{x}<br>Temps de parole en minutes=%{y}<extra></extra>\",\"legendgroup\":\"RMC Story\",\"line\":{\"color\":\"#19d3f3\",\"dash\":\"solid\"},\"marker\":{\"symbol\":\"circle\"},\"mode\":\"lines\",\"name\":\"RMC Story\",\"orientation\":\"v\",\"showlegend\":true,\"x\":[\"2022-03-13T00:00:00\",\"2022-03-20T00:00:00\",\"2022-03-27T00:00:00\",\"2022-04-03T00:00:00\",\"2022-04-08T00:00:00\"],\"xaxis\":\"x\",\"y\":[10.866666666666667,11.566666666666666,86.36666666666666,2.433333333333333,7.4],\"yaxis\":\"y\",\"type\":\"scatter\"}],                        {\"template\":{\"data\":{\"histogram2dcontour\":[{\"type\":\"histogram2dcontour\",\"colorbar\":{\"outlinewidth\":0,\"ticks\":\"\"},\"colorscale\":[[0.0,\"#0d0887\"],[0.1111111111111111,\"#46039f\"],[0.2222222222222222,\"#7201a8\"],[0.3333333333333333,\"#9c179e\"],[0.4444444444444444,\"#bd3786\"],[0.5555555555555556,\"#d8576b\"],[0.6666666666666666,\"#ed7953\"],[0.7777777777777778,\"#fb9f3a\"],[0.8888888888888888,\"#fdca26\"],[1.0,\"#f0f921\"]]}],\"choropleth\":[{\"type\":\"choropleth\",\"colorbar\":{\"outlinewidth\":0,\"ticks\":\"\"}}],\"histogram2d\":[{\"type\":\"histogram2d\",\"colorbar\":{\"outlinewidth\":0,\"ticks\":\"\"},\"colorscale\":[[0.0,\"#0d0887\"],[0.1111111111111111,\"#46039f\"],[0.2222222222222222,\"#7201a8\"],[0.3333333333333333,\"#9c179e\"],[0.4444444444444444,\"#bd3786\"],[0.5555555555555556,\"#d8576b\"],[0.6666666666666666,\"#ed7953\"],[0.7777777777777778,\"#fb9f3a\"],[0.8888888888888888,\"#fdca26\"],[1.0,\"#f0f921\"]]}],\"heatmap\":[{\"type\":\"heatmap\",\"colorbar\":{\"outlinewidth\":0,\"ticks\":\"\"},\"colorscale\":[[0.0,\"#0d0887\"],[0.1111111111111111,\"#46039f\"],[0.2222222222222222,\"#7201a8\"],[0.3333333333333333,\"#9c179e\"],[0.4444444444444444,\"#bd3786\"],[0.5555555555555556,\"#d8576b\"],[0.6666666666666666,\"#ed7953\"],[0.7777777777777778,\"#fb9f3a\"],[0.8888888888888888,\"#fdca26\"],[1.0,\"#f0f921\"]]}],\"heatmapgl\":[{\"type\":\"heatmapgl\",\"colorbar\":{\"outlinewidth\":0,\"ticks\":\"\"},\"colorscale\":[[0.0,\"#0d0887\"],[0.1111111111111111,\"#46039f\"],[0.2222222222222222,\"#7201a8\"],[0.3333333333333333,\"#9c179e\"],[0.4444444444444444,\"#bd3786\"],[0.5555555555555556,\"#d8576b\"],[0.6666666666666666,\"#ed7953\"],[0.7777777777777778,\"#fb9f3a\"],[0.8888888888888888,\"#fdca26\"],[1.0,\"#f0f921\"]]}],\"contourcarpet\":[{\"type\":\"contourcarpet\",\"colorbar\":{\"outlinewidth\":0,\"ticks\":\"\"}}],\"contour\":[{\"type\":\"contour\",\"colorbar\":{\"outlinewidth\":0,\"ticks\":\"\"},\"colorscale\":[[0.0,\"#0d0887\"],[0.1111111111111111,\"#46039f\"],[0.2222222222222222,\"#7201a8\"],[0.3333333333333333,\"#9c179e\"],[0.4444444444444444,\"#bd3786\"],[0.5555555555555556,\"#d8576b\"],[0.6666666666666666,\"#ed7953\"],[0.7777777777777778,\"#fb9f3a\"],[0.8888888888888888,\"#fdca26\"],[1.0,\"#f0f921\"]]}],\"surface\":[{\"type\":\"surface\",\"colorbar\":{\"outlinewidth\":0,\"ticks\":\"\"},\"colorscale\":[[0.0,\"#0d0887\"],[0.1111111111111111,\"#46039f\"],[0.2222222222222222,\"#7201a8\"],[0.3333333333333333,\"#9c179e\"],[0.4444444444444444,\"#bd3786\"],[0.5555555555555556,\"#d8576b\"],[0.6666666666666666,\"#ed7953\"],[0.7777777777777778,\"#fb9f3a\"],[0.8888888888888888,\"#fdca26\"],[1.0,\"#f0f921\"]]}],\"mesh3d\":[{\"type\":\"mesh3d\",\"colorbar\":{\"outlinewidth\":0,\"ticks\":\"\"}}],\"scatter\":[{\"marker\":{\"line\":{\"color\":\"#283442\"}},\"type\":\"scatter\"}],\"parcoords\":[{\"type\":\"parcoords\",\"line\":{\"colorbar\":{\"outlinewidth\":0,\"ticks\":\"\"}}}],\"scatterpolargl\":[{\"type\":\"scatterpolargl\",\"marker\":{\"colorbar\":{\"outlinewidth\":0,\"ticks\":\"\"}}}],\"bar\":[{\"error_x\":{\"color\":\"#f2f5fa\"},\"error_y\":{\"color\":\"#f2f5fa\"},\"marker\":{\"line\":{\"color\":\"rgb(17,17,17)\",\"width\":0.5},\"pattern\":{\"fillmode\":\"overlay\",\"size\":10,\"solidity\":0.2}},\"type\":\"bar\"}],\"scattergeo\":[{\"type\":\"scattergeo\",\"marker\":{\"colorbar\":{\"outlinewidth\":0,\"ticks\":\"\"}}}],\"scatterpolar\":[{\"type\":\"scatterpolar\",\"marker\":{\"colorbar\":{\"outlinewidth\":0,\"ticks\":\"\"}}}],\"histogram\":[{\"marker\":{\"pattern\":{\"fillmode\":\"overlay\",\"size\":10,\"solidity\":0.2}},\"type\":\"histogram\"}],\"scattergl\":[{\"marker\":{\"line\":{\"color\":\"#283442\"}},\"type\":\"scattergl\"}],\"scatter3d\":[{\"type\":\"scatter3d\",\"line\":{\"colorbar\":{\"outlinewidth\":0,\"ticks\":\"\"}},\"marker\":{\"colorbar\":{\"outlinewidth\":0,\"ticks\":\"\"}}}],\"scattermapbox\":[{\"type\":\"scattermapbox\",\"marker\":{\"colorbar\":{\"outlinewidth\":0,\"ticks\":\"\"}}}],\"scatterternary\":[{\"type\":\"scatterternary\",\"marker\":{\"colorbar\":{\"outlinewidth\":0,\"ticks\":\"\"}}}],\"scattercarpet\":[{\"type\":\"scattercarpet\",\"marker\":{\"colorbar\":{\"outlinewidth\":0,\"ticks\":\"\"}}}],\"carpet\":[{\"aaxis\":{\"endlinecolor\":\"#A2B1C6\",\"gridcolor\":\"#506784\",\"linecolor\":\"#506784\",\"minorgridcolor\":\"#506784\",\"startlinecolor\":\"#A2B1C6\"},\"baxis\":{\"endlinecolor\":\"#A2B1C6\",\"gridcolor\":\"#506784\",\"linecolor\":\"#506784\",\"minorgridcolor\":\"#506784\",\"startlinecolor\":\"#A2B1C6\"},\"type\":\"carpet\"}],\"table\":[{\"cells\":{\"fill\":{\"color\":\"#506784\"},\"line\":{\"color\":\"rgb(17,17,17)\"}},\"header\":{\"fill\":{\"color\":\"#2a3f5f\"},\"line\":{\"color\":\"rgb(17,17,17)\"}},\"type\":\"table\"}],\"barpolar\":[{\"marker\":{\"line\":{\"color\":\"rgb(17,17,17)\",\"width\":0.5},\"pattern\":{\"fillmode\":\"overlay\",\"size\":10,\"solidity\":0.2}},\"type\":\"barpolar\"}],\"pie\":[{\"automargin\":true,\"type\":\"pie\"}]},\"layout\":{\"autotypenumbers\":\"strict\",\"colorway\":[\"#636efa\",\"#EF553B\",\"#00cc96\",\"#ab63fa\",\"#FFA15A\",\"#19d3f3\",\"#FF6692\",\"#B6E880\",\"#FF97FF\",\"#FECB52\"],\"font\":{\"color\":\"#f2f5fa\"},\"hovermode\":\"closest\",\"hoverlabel\":{\"align\":\"left\"},\"paper_bgcolor\":\"rgb(17,17,17)\",\"plot_bgcolor\":\"rgb(17,17,17)\",\"polar\":{\"bgcolor\":\"rgb(17,17,17)\",\"angularaxis\":{\"gridcolor\":\"#506784\",\"linecolor\":\"#506784\",\"ticks\":\"\"},\"radialaxis\":{\"gridcolor\":\"#506784\",\"linecolor\":\"#506784\",\"ticks\":\"\"}},\"ternary\":{\"bgcolor\":\"rgb(17,17,17)\",\"aaxis\":{\"gridcolor\":\"#506784\",\"linecolor\":\"#506784\",\"ticks\":\"\"},\"baxis\":{\"gridcolor\":\"#506784\",\"linecolor\":\"#506784\",\"ticks\":\"\"},\"caxis\":{\"gridcolor\":\"#506784\",\"linecolor\":\"#506784\",\"ticks\":\"\"}},\"coloraxis\":{\"colorbar\":{\"outlinewidth\":0,\"ticks\":\"\"}},\"colorscale\":{\"sequential\":[[0.0,\"#0d0887\"],[0.1111111111111111,\"#46039f\"],[0.2222222222222222,\"#7201a8\"],[0.3333333333333333,\"#9c179e\"],[0.4444444444444444,\"#bd3786\"],[0.5555555555555556,\"#d8576b\"],[0.6666666666666666,\"#ed7953\"],[0.7777777777777778,\"#fb9f3a\"],[0.8888888888888888,\"#fdca26\"],[1.0,\"#f0f921\"]],\"sequentialminus\":[[0.0,\"#0d0887\"],[0.1111111111111111,\"#46039f\"],[0.2222222222222222,\"#7201a8\"],[0.3333333333333333,\"#9c179e\"],[0.4444444444444444,\"#bd3786\"],[0.5555555555555556,\"#d8576b\"],[0.6666666666666666,\"#ed7953\"],[0.7777777777777778,\"#fb9f3a\"],[0.8888888888888888,\"#fdca26\"],[1.0,\"#f0f921\"]],\"diverging\":[[0,\"#8e0152\"],[0.1,\"#c51b7d\"],[0.2,\"#de77ae\"],[0.3,\"#f1b6da\"],[0.4,\"#fde0ef\"],[0.5,\"#f7f7f7\"],[0.6,\"#e6f5d0\"],[0.7,\"#b8e186\"],[0.8,\"#7fbc41\"],[0.9,\"#4d9221\"],[1,\"#276419\"]]},\"xaxis\":{\"gridcolor\":\"#283442\",\"linecolor\":\"#506784\",\"ticks\":\"\",\"title\":{\"standoff\":15},\"zerolinecolor\":\"#283442\",\"automargin\":true,\"zerolinewidth\":2},\"yaxis\":{\"gridcolor\":\"#283442\",\"linecolor\":\"#506784\",\"ticks\":\"\",\"title\":{\"standoff\":15},\"zerolinecolor\":\"#283442\",\"automargin\":true,\"zerolinewidth\":2},\"scene\":{\"xaxis\":{\"backgroundcolor\":\"rgb(17,17,17)\",\"gridcolor\":\"#506784\",\"linecolor\":\"#506784\",\"showbackground\":true,\"ticks\":\"\",\"zerolinecolor\":\"#C8D4E3\",\"gridwidth\":2},\"yaxis\":{\"backgroundcolor\":\"rgb(17,17,17)\",\"gridcolor\":\"#506784\",\"linecolor\":\"#506784\",\"showbackground\":true,\"ticks\":\"\",\"zerolinecolor\":\"#C8D4E3\",\"gridwidth\":2},\"zaxis\":{\"backgroundcolor\":\"rgb(17,17,17)\",\"gridcolor\":\"#506784\",\"linecolor\":\"#506784\",\"showbackground\":true,\"ticks\":\"\",\"zerolinecolor\":\"#C8D4E3\",\"gridwidth\":2}},\"shapedefaults\":{\"line\":{\"color\":\"#f2f5fa\"}},\"annotationdefaults\":{\"arrowcolor\":\"#f2f5fa\",\"arrowhead\":0,\"arrowwidth\":1},\"geo\":{\"bgcolor\":\"rgb(17,17,17)\",\"landcolor\":\"rgb(17,17,17)\",\"subunitcolor\":\"#506784\",\"showland\":true,\"showlakes\":true,\"lakecolor\":\"rgb(17,17,17)\"},\"title\":{\"x\":0.05},\"updatemenudefaults\":{\"bgcolor\":\"#506784\",\"borderwidth\":0},\"sliderdefaults\":{\"bgcolor\":\"#C8D4E3\",\"borderwidth\":1,\"bordercolor\":\"rgb(17,17,17)\",\"tickwidth\":0},\"mapbox\":{\"style\":\"dark\"}}},\"xaxis\":{\"anchor\":\"y\",\"domain\":[0.0,1.0],\"title\":{\"text\":\"Temps en jours\"}},\"yaxis\":{\"anchor\":\"x\",\"domain\":[0.0,1.0],\"title\":{\"text\":\"Temps de parole en minutes\"}},\"legend\":{\"title\":{\"text\":\"Cha\\u00eene\"},\"tracegroupgap\":0},\"title\":{\"text\":\"Zemmour : \\u00c9volution du temps de parole en fonction du temps\"}},                        {\"responsive\": true}                    ).then(function(){\n                            \nvar gd = document.getElementById('12783964-617d-4c64-b5da-54136086aa4b');\nvar x = new MutationObserver(function (mutations, observer) {{\n        var display = window.getComputedStyle(gd).display;\n        if (!display || display === 'none') {{\n            console.log([gd, 'removed!']);\n            Plotly.purge(gd);\n            observer.disconnect();\n        }}\n}});\n\n// Listen for the removal of the full notebook cells\nvar notebookContainer = gd.closest('#notebook-container');\nif (notebookContainer) {{\n    x.observe(notebookContainer, {childList: true});\n}}\n\n// Listen for the clearing of the current output cell\nvar outputEl = gd.closest('.output');\nif (outputEl) {{\n    x.observe(outputEl, {childList: true});\n}}\n\n                        })                };                });            </script>        </div>"
     },
     "metadata": {},
     "output_type": "display_data"
    }
   ],
   "source": [
    "px.line(df_zemmour, x='Période', y=\"Somme\", color='Chaîne', labels={\n",
    "    \"Période\": \"Temps en jours\",\n",
    "    \"Somme\": \"Temps de parole en minutes\",\n",
    "    \"Chaîne\": \"Chaîne\"\n",
    "}, title=\"Zemmour : Évolution du temps de parole en fonction du temps\")\n"
   ],
   "metadata": {
    "collapsed": false,
    "pycharm": {
     "name": "#%%\n"
    }
   }
  }
 ],
 "metadata": {
  "kernelspec": {
   "display_name": "Python 3",
   "language": "python",
   "name": "python3"
  },
  "language_info": {
   "codemirror_mode": {
    "name": "ipython",
    "version": 2
   },
   "file_extension": ".py",
   "mimetype": "text/x-python",
   "name": "python",
   "nbconvert_exporter": "python",
   "pygments_lexer": "ipython2",
   "version": "2.7.6"
  }
 },
 "nbformat": 4,
 "nbformat_minor": 0
}