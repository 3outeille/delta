{
 "cells": [
  {
   "cell_type": "code",
   "execution_count": 27,
   "metadata": {
    "collapsed": true,
    "pycharm": {
     "name": "#%%\n"
    }
   },
   "outputs": [],
   "source": [
    "import pandas as pd\n",
    "import plotly.express as px\n",
    "pd.options.plotting.backend = \"plotly\""
   ]
  },
  {
   "cell_type": "code",
   "execution_count": 28,
   "outputs": [],
   "source": [
    "df_pt1_poutou = pd.read_csv(\"poutou/premier_tour_1_poutou.csv\", sep=\";\").fillna(0)\n",
    "df_pt2_poutou = pd.read_csv(\"poutou/premier_tour_2_poutou.csv\", sep=\";\").fillna(0)\n",
    "df_sp1_poutou = pd.read_csv(\"poutou/seconde_periode_1_poutou.csv\", sep=\";\").fillna(0)\n",
    "df_sp2_poutou = pd.read_csv(\"poutou/seconde_periode_2_poutou.csv\", sep=\";\").fillna(0)\n",
    "df_sp3_poutou = pd.read_csv(\"poutou/seconde_periode_3_poutou.csv\", sep=\";\").fillna(0)\n",
    "\n",
    "df_pt1_melenchon = pd.read_csv(\"melenchon/premier_tour_1_melenchon.csv\", sep=\";\").fillna(0)\n",
    "df_pt2_melenchon = pd.read_csv(\"melenchon/premier_tour_2_melenchon.csv\", sep=\";\").fillna(0)\n",
    "df_sp1_melenchon = pd.read_csv(\"melenchon/seconde_periode_1_melenchon.csv\", sep=\";\").fillna(0)\n",
    "df_sp2_melenchon = pd.read_csv(\"melenchon/seconde_periode_2_melenchon.csv\", sep=\";\").fillna(0)\n",
    "df_sp3_melenchon = pd.read_csv(\"melenchon/seconde_periode_3_melenchon.csv\", sep=\";\").fillna(0)\n",
    "\n",
    "# l = [df_pt1_poutou, df_pt2_poutou, df_sp1_poutou, df_sp2_poutou, df_sp3_poutou]"
   ],
   "metadata": {
    "collapsed": false,
    "pycharm": {
     "name": "#%%\n"
    }
   }
  },
  {
   "cell_type": "code",
   "execution_count": 29,
   "outputs": [],
   "source": [
    "type = \"Total temps de parole\"\n",
    "df_pt1_poutou= df_pt1_poutou[df_pt1_poutou.Candidat == type]\n",
    "df_pt2_poutou= df_pt2_poutou[df_pt2_poutou.Candidat == type]\n",
    "df_sp1_poutou= df_sp1_poutou[df_sp1_poutou.Candidat == type]\n",
    "df_sp2_poutou= df_sp2_poutou[df_sp2_poutou.Candidat == type]\n",
    "df_sp3_poutou= df_sp3_poutou[df_sp3_poutou.Candidat == type]\n",
    "df_pt1_melenchon= df_pt1_melenchon[df_pt1_melenchon.Candidat == type]\n",
    "df_pt2_melenchon= df_pt2_melenchon[df_pt2_melenchon.Candidat == type]\n",
    "df_sp1_melenchon= df_sp1_melenchon[df_sp1_melenchon.Candidat == type]\n",
    "df_sp2_melenchon= df_sp2_melenchon[df_sp2_melenchon.Candidat == type]\n",
    "df_sp3_melenchon= df_sp3_melenchon[df_sp3_melenchon.Candidat == type]"
   ],
   "metadata": {
    "collapsed": false,
    "pycharm": {
     "name": "#%%\n"
    }
   }
  },
  {
   "cell_type": "code",
   "execution_count": 30,
   "outputs": [],
   "source": [
    "del df_pt1_poutou['Détail des temps']\n",
    "del df_pt2_poutou['Détail des temps']\n",
    "del df_sp1_poutou['Détail des temps']\n",
    "del df_sp2_poutou['Détail des temps']\n",
    "del df_sp3_poutou['Détail des temps']\n",
    "del df_pt1_melenchon['Détail des temps']\n",
    "del df_pt2_melenchon['Détail des temps']\n",
    "del df_sp1_melenchon['Détail des temps']\n",
    "del df_sp2_melenchon['Détail des temps']\n",
    "del df_sp3_melenchon['Détail des temps']"
   ],
   "metadata": {
    "collapsed": false,
    "pycharm": {
     "name": "#%%\n"
    }
   }
  },
  {
   "cell_type": "code",
   "execution_count": 31,
   "outputs": [
    {
     "data": {
      "text/plain": "             Chaîne               Candidat Tranche (6h-9h)(durée)  \\\n2               TF1  Total temps de parole               00:00:00   \n6           France2  Total temps de parole               00:05:57   \n10          France3  Total temps de parole               00:09:51   \n14          France5  Total temps de parole               00:02:06   \n18               M6  Total temps de parole               00:01:39   \n22               C8  Total temps de parole               00:09:44   \n26              TMC  Total temps de parole               00:00:00   \n30            BFMTV  Total temps de parole               01:15:54   \n34            Cnews  Total temps de parole               03:14:59   \n38    RMCDecouverte  Total temps de parole               00:00:00   \n42              LCI  Total temps de parole               02:00:09   \n46     FranceinfoTV  Total temps de parole               01:59:53   \n50      FranceInter  Total temps de parole               00:13:44   \n54       FranceInfo  Total temps de parole               00:29:32   \n58    FranceCulture  Total temps de parole               00:20:15   \n62              RTL  Total temps de parole               00:57:54   \n66          Europe1  Total temps de parole               00:48:43   \n70              RMC  Total temps de parole               00:47:20   \n74      BFMBusiness  Total temps de parole               00:00:58   \n78   RadioClassique  Total temps de parole               00:00:00   \n82         SudRadio  Total temps de parole               00:11:29   \n86         TV5Monde  Total temps de parole               00:00:00   \n90         Euronews  Total temps de parole               00:00:00   \n94              RFI  Total temps de parole               00:09:54   \n98         France24  Total temps de parole               00:03:42   \n102       RMC Story  Total temps de parole               00:45:40   \n\n    Tranche (9h-18h)(durée) Tranche (18h-24h)(durée)  Tranche (0h-6h)(durée)  \n2                  00:32:05                 00:00:00                     0.0  \n6                  01:02:23                 00:00:00                     0.0  \n10                 00:01:37                 00:00:00                     0.0  \n14                 00:18:59                 00:14:27                     0.0  \n18                 00:21:10                 00:00:00                     0.0  \n22                 01:20:37                 00:00:00                     0.0  \n26                 00:15:52                 00:00:00                     0.0  \n30                 00:52:03                 00:24:11                     0.0  \n34                 01:55:32                 00:19:54                     0.0  \n38                 00:00:00                 00:00:00                     0.0  \n42                 01:04:16                 00:01:47                     0.0  \n46                 00:59:07                 00:00:00                     0.0  \n50                 00:04:21                 00:01:02                     0.0  \n54                 00:21:16                 00:24:05                     0.0  \n58                 00:03:35                 00:00:00                     0.0  \n62                 00:10:23                 00:03:08                     0.0  \n66                 00:43:44                 00:01:32                     0.0  \n70                 00:00:00                 00:48:33                     0.0  \n74                 00:16:57                 00:08:35                     0.0  \n78                 00:00:00                 00:00:00                     0.0  \n82                 00:02:45                 00:00:00                     0.0  \n86                 01:03:20                 00:00:00                     0.0  \n90                 00:00:00                 00:00:00                     0.0  \n94                 00:27:02                 00:01:19                     0.0  \n98                 00:21:10                 00:00:00                     0.0  \n102                00:00:00                 00:00:00                     0.0  ",
      "text/html": "<div>\n<style scoped>\n    .dataframe tbody tr th:only-of-type {\n        vertical-align: middle;\n    }\n\n    .dataframe tbody tr th {\n        vertical-align: top;\n    }\n\n    .dataframe thead th {\n        text-align: right;\n    }\n</style>\n<table border=\"1\" class=\"dataframe\">\n  <thead>\n    <tr style=\"text-align: right;\">\n      <th></th>\n      <th>Chaîne</th>\n      <th>Candidat</th>\n      <th>Tranche (6h-9h)(durée)</th>\n      <th>Tranche (9h-18h)(durée)</th>\n      <th>Tranche (18h-24h)(durée)</th>\n      <th>Tranche (0h-6h)(durée)</th>\n    </tr>\n  </thead>\n  <tbody>\n    <tr>\n      <th>2</th>\n      <td>TF1</td>\n      <td>Total temps de parole</td>\n      <td>00:00:00</td>\n      <td>00:32:05</td>\n      <td>00:00:00</td>\n      <td>0.0</td>\n    </tr>\n    <tr>\n      <th>6</th>\n      <td>France2</td>\n      <td>Total temps de parole</td>\n      <td>00:05:57</td>\n      <td>01:02:23</td>\n      <td>00:00:00</td>\n      <td>0.0</td>\n    </tr>\n    <tr>\n      <th>10</th>\n      <td>France3</td>\n      <td>Total temps de parole</td>\n      <td>00:09:51</td>\n      <td>00:01:37</td>\n      <td>00:00:00</td>\n      <td>0.0</td>\n    </tr>\n    <tr>\n      <th>14</th>\n      <td>France5</td>\n      <td>Total temps de parole</td>\n      <td>00:02:06</td>\n      <td>00:18:59</td>\n      <td>00:14:27</td>\n      <td>0.0</td>\n    </tr>\n    <tr>\n      <th>18</th>\n      <td>M6</td>\n      <td>Total temps de parole</td>\n      <td>00:01:39</td>\n      <td>00:21:10</td>\n      <td>00:00:00</td>\n      <td>0.0</td>\n    </tr>\n    <tr>\n      <th>22</th>\n      <td>C8</td>\n      <td>Total temps de parole</td>\n      <td>00:09:44</td>\n      <td>01:20:37</td>\n      <td>00:00:00</td>\n      <td>0.0</td>\n    </tr>\n    <tr>\n      <th>26</th>\n      <td>TMC</td>\n      <td>Total temps de parole</td>\n      <td>00:00:00</td>\n      <td>00:15:52</td>\n      <td>00:00:00</td>\n      <td>0.0</td>\n    </tr>\n    <tr>\n      <th>30</th>\n      <td>BFMTV</td>\n      <td>Total temps de parole</td>\n      <td>01:15:54</td>\n      <td>00:52:03</td>\n      <td>00:24:11</td>\n      <td>0.0</td>\n    </tr>\n    <tr>\n      <th>34</th>\n      <td>Cnews</td>\n      <td>Total temps de parole</td>\n      <td>03:14:59</td>\n      <td>01:55:32</td>\n      <td>00:19:54</td>\n      <td>0.0</td>\n    </tr>\n    <tr>\n      <th>38</th>\n      <td>RMCDecouverte</td>\n      <td>Total temps de parole</td>\n      <td>00:00:00</td>\n      <td>00:00:00</td>\n      <td>00:00:00</td>\n      <td>0.0</td>\n    </tr>\n    <tr>\n      <th>42</th>\n      <td>LCI</td>\n      <td>Total temps de parole</td>\n      <td>02:00:09</td>\n      <td>01:04:16</td>\n      <td>00:01:47</td>\n      <td>0.0</td>\n    </tr>\n    <tr>\n      <th>46</th>\n      <td>FranceinfoTV</td>\n      <td>Total temps de parole</td>\n      <td>01:59:53</td>\n      <td>00:59:07</td>\n      <td>00:00:00</td>\n      <td>0.0</td>\n    </tr>\n    <tr>\n      <th>50</th>\n      <td>FranceInter</td>\n      <td>Total temps de parole</td>\n      <td>00:13:44</td>\n      <td>00:04:21</td>\n      <td>00:01:02</td>\n      <td>0.0</td>\n    </tr>\n    <tr>\n      <th>54</th>\n      <td>FranceInfo</td>\n      <td>Total temps de parole</td>\n      <td>00:29:32</td>\n      <td>00:21:16</td>\n      <td>00:24:05</td>\n      <td>0.0</td>\n    </tr>\n    <tr>\n      <th>58</th>\n      <td>FranceCulture</td>\n      <td>Total temps de parole</td>\n      <td>00:20:15</td>\n      <td>00:03:35</td>\n      <td>00:00:00</td>\n      <td>0.0</td>\n    </tr>\n    <tr>\n      <th>62</th>\n      <td>RTL</td>\n      <td>Total temps de parole</td>\n      <td>00:57:54</td>\n      <td>00:10:23</td>\n      <td>00:03:08</td>\n      <td>0.0</td>\n    </tr>\n    <tr>\n      <th>66</th>\n      <td>Europe1</td>\n      <td>Total temps de parole</td>\n      <td>00:48:43</td>\n      <td>00:43:44</td>\n      <td>00:01:32</td>\n      <td>0.0</td>\n    </tr>\n    <tr>\n      <th>70</th>\n      <td>RMC</td>\n      <td>Total temps de parole</td>\n      <td>00:47:20</td>\n      <td>00:00:00</td>\n      <td>00:48:33</td>\n      <td>0.0</td>\n    </tr>\n    <tr>\n      <th>74</th>\n      <td>BFMBusiness</td>\n      <td>Total temps de parole</td>\n      <td>00:00:58</td>\n      <td>00:16:57</td>\n      <td>00:08:35</td>\n      <td>0.0</td>\n    </tr>\n    <tr>\n      <th>78</th>\n      <td>RadioClassique</td>\n      <td>Total temps de parole</td>\n      <td>00:00:00</td>\n      <td>00:00:00</td>\n      <td>00:00:00</td>\n      <td>0.0</td>\n    </tr>\n    <tr>\n      <th>82</th>\n      <td>SudRadio</td>\n      <td>Total temps de parole</td>\n      <td>00:11:29</td>\n      <td>00:02:45</td>\n      <td>00:00:00</td>\n      <td>0.0</td>\n    </tr>\n    <tr>\n      <th>86</th>\n      <td>TV5Monde</td>\n      <td>Total temps de parole</td>\n      <td>00:00:00</td>\n      <td>01:03:20</td>\n      <td>00:00:00</td>\n      <td>0.0</td>\n    </tr>\n    <tr>\n      <th>90</th>\n      <td>Euronews</td>\n      <td>Total temps de parole</td>\n      <td>00:00:00</td>\n      <td>00:00:00</td>\n      <td>00:00:00</td>\n      <td>0.0</td>\n    </tr>\n    <tr>\n      <th>94</th>\n      <td>RFI</td>\n      <td>Total temps de parole</td>\n      <td>00:09:54</td>\n      <td>00:27:02</td>\n      <td>00:01:19</td>\n      <td>0.0</td>\n    </tr>\n    <tr>\n      <th>98</th>\n      <td>France24</td>\n      <td>Total temps de parole</td>\n      <td>00:03:42</td>\n      <td>00:21:10</td>\n      <td>00:00:00</td>\n      <td>0.0</td>\n    </tr>\n    <tr>\n      <th>102</th>\n      <td>RMC Story</td>\n      <td>Total temps de parole</td>\n      <td>00:45:40</td>\n      <td>00:00:00</td>\n      <td>00:00:00</td>\n      <td>0.0</td>\n    </tr>\n  </tbody>\n</table>\n</div>"
     },
     "execution_count": 31,
     "metadata": {},
     "output_type": "execute_result"
    }
   ],
   "source": [
    "df_sp3_melenchon"
   ],
   "metadata": {
    "collapsed": false,
    "pycharm": {
     "name": "#%%\n"
    }
   }
  },
  {
   "cell_type": "code",
   "execution_count": 32,
   "outputs": [],
   "source": [
    "for col in df_pt1_poutou.columns[2:-1]:\n",
    "    df_pt1_poutou[col] = pd.to_timedelta(df_pt1_poutou[col])/pd.Timedelta('1s')\n",
    "    df_pt2_poutou[col] = pd.to_timedelta(df_pt2_poutou[col]) / pd.Timedelta('1s')\n",
    "    df_sp1_poutou[col] = pd.to_timedelta(df_sp1_poutou[col])/pd.Timedelta('1s')\n",
    "    df_sp2_poutou[col] = pd.to_timedelta(df_sp2_poutou[col]) / pd.Timedelta('1s')\n",
    "    df_sp3_poutou[col] = pd.to_timedelta(df_sp3_poutou[col])/pd.Timedelta('1s')\n",
    "    df_pt1_melenchon[col] = pd.to_timedelta(df_pt1_melenchon[col])/pd.Timedelta('1s')\n",
    "    df_pt1_melenchon[col] = pd.to_timedelta(df_pt1_melenchon[col]) / pd.Timedelta('1s')\n",
    "    df_sp1_melenchon[col] = pd.to_timedelta(df_sp1_melenchon[col])/pd.Timedelta('1s')\n",
    "    df_sp2_melenchon[col] = pd.to_timedelta(df_sp2_melenchon[col]) / pd.Timedelta('1s')\n",
    "    df_sp3_melenchon[col] = pd.to_timedelta(df_sp3_melenchon[col])/pd.Timedelta('1s')"
   ],
   "metadata": {
    "collapsed": false,
    "pycharm": {
     "name": "#%%\n"
    }
   }
  },
  {
   "cell_type": "code",
   "execution_count": 33,
   "outputs": [
    {
     "data": {
      "text/plain": "             Chaîne               Candidat  Tranche (6h-9h)(durée)  \\\n2               TF1  Total temps de parole                     0.0   \n6           France2  Total temps de parole                   357.0   \n10          France3  Total temps de parole                   591.0   \n14          France5  Total temps de parole                   126.0   \n18               M6  Total temps de parole                    99.0   \n22               C8  Total temps de parole                   584.0   \n26              TMC  Total temps de parole                     0.0   \n30            BFMTV  Total temps de parole                  4554.0   \n34            Cnews  Total temps de parole                 11699.0   \n38    RMCDecouverte  Total temps de parole                     0.0   \n42              LCI  Total temps de parole                  7209.0   \n46     FranceinfoTV  Total temps de parole                  7193.0   \n50      FranceInter  Total temps de parole                   824.0   \n54       FranceInfo  Total temps de parole                  1772.0   \n58    FranceCulture  Total temps de parole                  1215.0   \n62              RTL  Total temps de parole                  3474.0   \n66          Europe1  Total temps de parole                  2923.0   \n70              RMC  Total temps de parole                  2840.0   \n74      BFMBusiness  Total temps de parole                    58.0   \n78   RadioClassique  Total temps de parole                     0.0   \n82         SudRadio  Total temps de parole                   689.0   \n86         TV5Monde  Total temps de parole                     0.0   \n90         Euronews  Total temps de parole                     0.0   \n94              RFI  Total temps de parole                   594.0   \n98         France24  Total temps de parole                   222.0   \n102       RMC Story  Total temps de parole                  2740.0   \n\n     Tranche (9h-18h)(durée)  Tranche (18h-24h)(durée)  Tranche (0h-6h)(durée)  \n2                     1925.0                       0.0                     0.0  \n6                     3743.0                       0.0                     0.0  \n10                      97.0                       0.0                     0.0  \n14                    1139.0                     867.0                     0.0  \n18                    1270.0                       0.0                     0.0  \n22                    4837.0                       0.0                     0.0  \n26                     952.0                       0.0                     0.0  \n30                    3123.0                    1451.0                     0.0  \n34                    6932.0                    1194.0                     0.0  \n38                       0.0                       0.0                     0.0  \n42                    3856.0                     107.0                     0.0  \n46                    3547.0                       0.0                     0.0  \n50                     261.0                      62.0                     0.0  \n54                    1276.0                    1445.0                     0.0  \n58                     215.0                       0.0                     0.0  \n62                     623.0                     188.0                     0.0  \n66                    2624.0                      92.0                     0.0  \n70                       0.0                    2913.0                     0.0  \n74                    1017.0                     515.0                     0.0  \n78                       0.0                       0.0                     0.0  \n82                     165.0                       0.0                     0.0  \n86                    3800.0                       0.0                     0.0  \n90                       0.0                       0.0                     0.0  \n94                    1622.0                      79.0                     0.0  \n98                    1270.0                       0.0                     0.0  \n102                      0.0                       0.0                     0.0  ",
      "text/html": "<div>\n<style scoped>\n    .dataframe tbody tr th:only-of-type {\n        vertical-align: middle;\n    }\n\n    .dataframe tbody tr th {\n        vertical-align: top;\n    }\n\n    .dataframe thead th {\n        text-align: right;\n    }\n</style>\n<table border=\"1\" class=\"dataframe\">\n  <thead>\n    <tr style=\"text-align: right;\">\n      <th></th>\n      <th>Chaîne</th>\n      <th>Candidat</th>\n      <th>Tranche (6h-9h)(durée)</th>\n      <th>Tranche (9h-18h)(durée)</th>\n      <th>Tranche (18h-24h)(durée)</th>\n      <th>Tranche (0h-6h)(durée)</th>\n    </tr>\n  </thead>\n  <tbody>\n    <tr>\n      <th>2</th>\n      <td>TF1</td>\n      <td>Total temps de parole</td>\n      <td>0.0</td>\n      <td>1925.0</td>\n      <td>0.0</td>\n      <td>0.0</td>\n    </tr>\n    <tr>\n      <th>6</th>\n      <td>France2</td>\n      <td>Total temps de parole</td>\n      <td>357.0</td>\n      <td>3743.0</td>\n      <td>0.0</td>\n      <td>0.0</td>\n    </tr>\n    <tr>\n      <th>10</th>\n      <td>France3</td>\n      <td>Total temps de parole</td>\n      <td>591.0</td>\n      <td>97.0</td>\n      <td>0.0</td>\n      <td>0.0</td>\n    </tr>\n    <tr>\n      <th>14</th>\n      <td>France5</td>\n      <td>Total temps de parole</td>\n      <td>126.0</td>\n      <td>1139.0</td>\n      <td>867.0</td>\n      <td>0.0</td>\n    </tr>\n    <tr>\n      <th>18</th>\n      <td>M6</td>\n      <td>Total temps de parole</td>\n      <td>99.0</td>\n      <td>1270.0</td>\n      <td>0.0</td>\n      <td>0.0</td>\n    </tr>\n    <tr>\n      <th>22</th>\n      <td>C8</td>\n      <td>Total temps de parole</td>\n      <td>584.0</td>\n      <td>4837.0</td>\n      <td>0.0</td>\n      <td>0.0</td>\n    </tr>\n    <tr>\n      <th>26</th>\n      <td>TMC</td>\n      <td>Total temps de parole</td>\n      <td>0.0</td>\n      <td>952.0</td>\n      <td>0.0</td>\n      <td>0.0</td>\n    </tr>\n    <tr>\n      <th>30</th>\n      <td>BFMTV</td>\n      <td>Total temps de parole</td>\n      <td>4554.0</td>\n      <td>3123.0</td>\n      <td>1451.0</td>\n      <td>0.0</td>\n    </tr>\n    <tr>\n      <th>34</th>\n      <td>Cnews</td>\n      <td>Total temps de parole</td>\n      <td>11699.0</td>\n      <td>6932.0</td>\n      <td>1194.0</td>\n      <td>0.0</td>\n    </tr>\n    <tr>\n      <th>38</th>\n      <td>RMCDecouverte</td>\n      <td>Total temps de parole</td>\n      <td>0.0</td>\n      <td>0.0</td>\n      <td>0.0</td>\n      <td>0.0</td>\n    </tr>\n    <tr>\n      <th>42</th>\n      <td>LCI</td>\n      <td>Total temps de parole</td>\n      <td>7209.0</td>\n      <td>3856.0</td>\n      <td>107.0</td>\n      <td>0.0</td>\n    </tr>\n    <tr>\n      <th>46</th>\n      <td>FranceinfoTV</td>\n      <td>Total temps de parole</td>\n      <td>7193.0</td>\n      <td>3547.0</td>\n      <td>0.0</td>\n      <td>0.0</td>\n    </tr>\n    <tr>\n      <th>50</th>\n      <td>FranceInter</td>\n      <td>Total temps de parole</td>\n      <td>824.0</td>\n      <td>261.0</td>\n      <td>62.0</td>\n      <td>0.0</td>\n    </tr>\n    <tr>\n      <th>54</th>\n      <td>FranceInfo</td>\n      <td>Total temps de parole</td>\n      <td>1772.0</td>\n      <td>1276.0</td>\n      <td>1445.0</td>\n      <td>0.0</td>\n    </tr>\n    <tr>\n      <th>58</th>\n      <td>FranceCulture</td>\n      <td>Total temps de parole</td>\n      <td>1215.0</td>\n      <td>215.0</td>\n      <td>0.0</td>\n      <td>0.0</td>\n    </tr>\n    <tr>\n      <th>62</th>\n      <td>RTL</td>\n      <td>Total temps de parole</td>\n      <td>3474.0</td>\n      <td>623.0</td>\n      <td>188.0</td>\n      <td>0.0</td>\n    </tr>\n    <tr>\n      <th>66</th>\n      <td>Europe1</td>\n      <td>Total temps de parole</td>\n      <td>2923.0</td>\n      <td>2624.0</td>\n      <td>92.0</td>\n      <td>0.0</td>\n    </tr>\n    <tr>\n      <th>70</th>\n      <td>RMC</td>\n      <td>Total temps de parole</td>\n      <td>2840.0</td>\n      <td>0.0</td>\n      <td>2913.0</td>\n      <td>0.0</td>\n    </tr>\n    <tr>\n      <th>74</th>\n      <td>BFMBusiness</td>\n      <td>Total temps de parole</td>\n      <td>58.0</td>\n      <td>1017.0</td>\n      <td>515.0</td>\n      <td>0.0</td>\n    </tr>\n    <tr>\n      <th>78</th>\n      <td>RadioClassique</td>\n      <td>Total temps de parole</td>\n      <td>0.0</td>\n      <td>0.0</td>\n      <td>0.0</td>\n      <td>0.0</td>\n    </tr>\n    <tr>\n      <th>82</th>\n      <td>SudRadio</td>\n      <td>Total temps de parole</td>\n      <td>689.0</td>\n      <td>165.0</td>\n      <td>0.0</td>\n      <td>0.0</td>\n    </tr>\n    <tr>\n      <th>86</th>\n      <td>TV5Monde</td>\n      <td>Total temps de parole</td>\n      <td>0.0</td>\n      <td>3800.0</td>\n      <td>0.0</td>\n      <td>0.0</td>\n    </tr>\n    <tr>\n      <th>90</th>\n      <td>Euronews</td>\n      <td>Total temps de parole</td>\n      <td>0.0</td>\n      <td>0.0</td>\n      <td>0.0</td>\n      <td>0.0</td>\n    </tr>\n    <tr>\n      <th>94</th>\n      <td>RFI</td>\n      <td>Total temps de parole</td>\n      <td>594.0</td>\n      <td>1622.0</td>\n      <td>79.0</td>\n      <td>0.0</td>\n    </tr>\n    <tr>\n      <th>98</th>\n      <td>France24</td>\n      <td>Total temps de parole</td>\n      <td>222.0</td>\n      <td>1270.0</td>\n      <td>0.0</td>\n      <td>0.0</td>\n    </tr>\n    <tr>\n      <th>102</th>\n      <td>RMC Story</td>\n      <td>Total temps de parole</td>\n      <td>2740.0</td>\n      <td>0.0</td>\n      <td>0.0</td>\n      <td>0.0</td>\n    </tr>\n  </tbody>\n</table>\n</div>"
     },
     "execution_count": 33,
     "metadata": {},
     "output_type": "execute_result"
    }
   ],
   "source": [
    "df_sp3_melenchon"
   ],
   "metadata": {
    "collapsed": false,
    "pycharm": {
     "name": "#%%\n"
    }
   }
  },
  {
   "cell_type": "code",
   "execution_count": 34,
   "outputs": [],
   "source": [
    "df_sp1_poutou[\"Période\"] = 1\n",
    "df_sp2_poutou[\"Période\"] = 2\n",
    "df_sp3_poutou[\"Période\"] = 3\n",
    "df_pt1_poutou[\"Période\"] = 4\n",
    "df_pt2_poutou[\"Période\"] = 5\n",
    "\n",
    "df_pt1_poutou[\"Somme\"] = (df_pt1_poutou['Tranche (6h-9h)(durée)']  + df_pt1_poutou['Tranche (6h-9h)(durée)'] + df_pt1_poutou['Tranche (9h-18h)(durée)'] + df_pt1_poutou['Tranche (18h-24h)(durée)'])\n",
    "\n",
    "df_pt2_poutou[\"Somme\"] = df_pt2_poutou['Tranche (6h-9h)(durée)']  + df_pt2_poutou['Tranche (6h-9h)(durée)'] + df_pt2_poutou['Tranche (9h-18h)(durée)'] + df_pt2_poutou['Tranche (18h-24h)(durée)']\n",
    "\n",
    "df_sp1_poutou[\"Somme\"] = df_sp1_poutou['Tranche (6h-9h)(durée)']  + df_sp1_poutou['Tranche (6h-9h)(durée)'] + df_sp1_poutou['Tranche (9h-18h)(durée)'] + df_sp1_poutou['Tranche (18h-24h)(durée)']\n",
    "\n",
    "df_sp2_poutou[\"Somme\"] = df_sp2_poutou['Tranche (6h-9h)(durée)']  + df_sp2_poutou['Tranche (6h-9h)(durée)'] + df_sp2_poutou['Tranche (9h-18h)(durée)'] + df_sp2_poutou['Tranche (18h-24h)(durée)']\n",
    "\n",
    "df_sp3_poutou[\"Somme\"] = df_sp3_poutou['Tranche (6h-9h)(durée)']  + df_sp3_poutou['Tranche (6h-9h)(durée)'] + df_sp3_poutou['Tranche (9h-18h)(durée)'] + df_sp3_poutou['Tranche (18h-24h)(durée)']"
   ],
   "metadata": {
    "collapsed": false,
    "pycharm": {
     "name": "#%%\n"
    }
   }
  },
  {
   "cell_type": "code",
   "execution_count": 35,
   "outputs": [],
   "source": [
    "df_sp1_melenchon[\"Période\"] = 1\n",
    "df_sp2_melenchon[\"Période\"] = 2\n",
    "df_sp3_melenchon[\"Période\"] = 3\n",
    "df_pt1_melenchon[\"Période\"] = 4\n",
    "df_pt2_melenchon[\"Période\"] = 5\n",
    "\n",
    "df_pt1_melenchon[\"Somme\"] = (df_pt1_melenchon['Tranche (6h-9h)(durée)']  + df_pt1_melenchon['Tranche (6h-9h)(durée)'] + df_pt1_melenchon['Tranche (9h-18h)(durée)'] + df_pt1_melenchon['Tranche (18h-24h)(durée)'])\n",
    "\n",
    "df_pt2_melenchon[\"Somme\"] = df_pt2_melenchon['Tranche (6h-9h)(durée)']  + df_pt2_melenchon['Tranche (6h-9h)(durée)'] + df_pt2_melenchon['Tranche (9h-18h)(durée)'] + df_pt2_melenchon['Tranche (18h-24h)(durée)']\n",
    "\n",
    "df_sp1_melenchon[\"Somme\"] = df_sp1_melenchon['Tranche (6h-9h)(durée)']  + df_sp1_melenchon['Tranche (6h-9h)(durée)'] + df_sp1_melenchon['Tranche (9h-18h)(durée)'] + df_sp1_melenchon['Tranche (18h-24h)(durée)']\n",
    "\n",
    "df_sp2_melenchon[\"Somme\"] = df_sp2_melenchon['Tranche (6h-9h)(durée)']  + df_sp2_melenchon['Tranche (6h-9h)(durée)'] + df_sp2_melenchon['Tranche (9h-18h)(durée)'] + df_sp2_melenchon['Tranche (18h-24h)(durée)']\n",
    "\n",
    "df_sp3_melenchon[\"Somme\"] = df_sp3_melenchon['Tranche (6h-9h)(durée)']  + df_sp3_melenchon['Tranche (6h-9h)(durée)'] + df_sp3_melenchon['Tranche (9h-18h)(durée)'] + df_sp3_melenchon['Tranche (18h-24h)(durée)']"
   ],
   "metadata": {
    "collapsed": false,
    "pycharm": {
     "name": "#%%\n"
    }
   }
  },
  {
   "cell_type": "code",
   "execution_count": 35,
   "outputs": [],
   "source": [],
   "metadata": {
    "collapsed": false,
    "pycharm": {
     "name": "#%%\n"
    }
   }
  },
  {
   "cell_type": "code",
   "execution_count": 36,
   "outputs": [],
   "source": [
    "l = ['Chaîne', 'Période', 'Somme']\n",
    "\n",
    "df_poutou = pd.concat([df_sp1_poutou[l], df_sp2_poutou[l], df_sp3_poutou[l], df_pt1_poutou[l], df_pt2_poutou[l]])\n",
    "df_melenchon = pd.concat([df_sp1_melenchon[l], df_sp2_melenchon[l], df_sp3_melenchon[l], df_pt1_melenchon[l], df_pt2_melenchon[l]])"
   ],
   "metadata": {
    "collapsed": false,
    "pycharm": {
     "name": "#%%\n"
    }
   }
  },
  {
   "cell_type": "code",
   "execution_count": 37,
   "outputs": [
    {
     "data": {
      "application/vnd.plotly.v1+json": {
       "data": [
        {
         "hovertemplate": "Chaîne=France2<br>Période=%{x}<br>Somme=%{y}<extra></extra>",
         "legendgroup": "France2",
         "line": {
          "color": "#636efa",
          "dash": "solid"
         },
         "marker": {
          "symbol": "circle"
         },
         "mode": "lines",
         "name": "France2",
         "orientation": "v",
         "showlegend": true,
         "x": [
          1,
          2,
          3,
          4,
          5
         ],
         "xaxis": "x",
         "y": [
          8.0,
          8.0,
          8.0,
          455.0,
          1969.0
         ],
         "yaxis": "y",
         "type": "scatter"
        },
        {
         "hovertemplate": "Chaîne=France3<br>Période=%{x}<br>Somme=%{y}<extra></extra>",
         "legendgroup": "France3",
         "line": {
          "color": "#EF553B",
          "dash": "solid"
         },
         "marker": {
          "symbol": "circle"
         },
         "mode": "lines",
         "name": "France3",
         "orientation": "v",
         "showlegend": true,
         "x": [
          1,
          2,
          3,
          4,
          5
         ],
         "xaxis": "x",
         "y": [
          0.0,
          18.0,
          18.0,
          97.0,
          143.0
         ],
         "yaxis": "y",
         "type": "scatter"
        },
        {
         "hovertemplate": "Chaîne=M6<br>Période=%{x}<br>Somme=%{y}<extra></extra>",
         "legendgroup": "M6",
         "line": {
          "color": "#00cc96",
          "dash": "solid"
         },
         "marker": {
          "symbol": "circle"
         },
         "mode": "lines",
         "name": "M6",
         "orientation": "v",
         "showlegend": true,
         "x": [
          1,
          2,
          3,
          4,
          5
         ],
         "xaxis": "x",
         "y": [
          58.0,
          65.0,
          65.0,
          93.0,
          171.0
         ],
         "yaxis": "y",
         "type": "scatter"
        },
        {
         "hovertemplate": "Chaîne=BFMTV<br>Période=%{x}<br>Somme=%{y}<extra></extra>",
         "legendgroup": "BFMTV",
         "line": {
          "color": "#ab63fa",
          "dash": "solid"
         },
         "marker": {
          "symbol": "circle"
         },
         "mode": "lines",
         "name": "BFMTV",
         "orientation": "v",
         "showlegend": true,
         "x": [
          1,
          2,
          3,
          4,
          5
         ],
         "xaxis": "x",
         "y": [
          0.0,
          812.0,
          812.0,
          1868.0,
          1958.0
         ],
         "yaxis": "y",
         "type": "scatter"
        },
        {
         "hovertemplate": "Chaîne=Cnews<br>Période=%{x}<br>Somme=%{y}<extra></extra>",
         "legendgroup": "Cnews",
         "line": {
          "color": "#FFA15A",
          "dash": "solid"
         },
         "marker": {
          "symbol": "circle"
         },
         "mode": "lines",
         "name": "Cnews",
         "orientation": "v",
         "showlegend": true,
         "x": [
          1,
          2,
          3,
          4,
          5
         ],
         "xaxis": "x",
         "y": [
          876.0,
          1467.0,
          1467.0,
          3605.0,
          5089.0
         ],
         "yaxis": "y",
         "type": "scatter"
        },
        {
         "hovertemplate": "Chaîne=FranceinfoTV<br>Période=%{x}<br>Somme=%{y}<extra></extra>",
         "legendgroup": "FranceinfoTV",
         "line": {
          "color": "#19d3f3",
          "dash": "solid"
         },
         "marker": {
          "symbol": "circle"
         },
         "mode": "lines",
         "name": "FranceinfoTV",
         "orientation": "v",
         "showlegend": true,
         "x": [
          1,
          2,
          3,
          4,
          5
         ],
         "xaxis": "x",
         "y": [
          61.0,
          2131.0,
          2131.0,
          8064.0,
          10850.0
         ],
         "yaxis": "y",
         "type": "scatter"
        },
        {
         "hovertemplate": "Chaîne=FranceInter<br>Période=%{x}<br>Somme=%{y}<extra></extra>",
         "legendgroup": "FranceInter",
         "line": {
          "color": "#FF6692",
          "dash": "solid"
         },
         "marker": {
          "symbol": "circle"
         },
         "mode": "lines",
         "name": "FranceInter",
         "orientation": "v",
         "showlegend": true,
         "x": [
          1,
          2,
          3,
          4,
          5
         ],
         "xaxis": "x",
         "y": [
          67.0,
          661.0,
          661.0,
          264.0,
          845.0
         ],
         "yaxis": "y",
         "type": "scatter"
        },
        {
         "hovertemplate": "Chaîne=FranceInfo<br>Période=%{x}<br>Somme=%{y}<extra></extra>",
         "legendgroup": "FranceInfo",
         "line": {
          "color": "#B6E880",
          "dash": "solid"
         },
         "marker": {
          "symbol": "circle"
         },
         "mode": "lines",
         "name": "FranceInfo",
         "orientation": "v",
         "showlegend": true,
         "x": [
          1,
          2,
          3,
          4,
          5
         ],
         "xaxis": "x",
         "y": [
          37.0,
          1039.0,
          1039.0,
          3943.0,
          4885.0
         ],
         "yaxis": "y",
         "type": "scatter"
        },
        {
         "hovertemplate": "Chaîne=RTL<br>Période=%{x}<br>Somme=%{y}<extra></extra>",
         "legendgroup": "RTL",
         "line": {
          "color": "#FF97FF",
          "dash": "solid"
         },
         "marker": {
          "symbol": "circle"
         },
         "mode": "lines",
         "name": "RTL",
         "orientation": "v",
         "showlegend": true,
         "x": [
          1,
          2,
          3,
          4,
          5
         ],
         "xaxis": "x",
         "y": [
          0.0,
          230.0,
          230.0,
          614.0,
          925.0
         ],
         "yaxis": "y",
         "type": "scatter"
        },
        {
         "hovertemplate": "Chaîne=RMC<br>Période=%{x}<br>Somme=%{y}<extra></extra>",
         "legendgroup": "RMC",
         "line": {
          "color": "#FECB52",
          "dash": "solid"
         },
         "marker": {
          "symbol": "circle"
         },
         "mode": "lines",
         "name": "RMC",
         "orientation": "v",
         "showlegend": true,
         "x": [
          1,
          2,
          3,
          4,
          5
         ],
         "xaxis": "x",
         "y": [
          46.0,
          46.0,
          46.0,
          29.0,
          1004.0
         ],
         "yaxis": "y",
         "type": "scatter"
        },
        {
         "hovertemplate": "Chaîne=RadioClassique<br>Période=%{x}<br>Somme=%{y}<extra></extra>",
         "legendgroup": "RadioClassique",
         "line": {
          "color": "#636efa",
          "dash": "solid"
         },
         "marker": {
          "symbol": "circle"
         },
         "mode": "lines",
         "name": "RadioClassique",
         "orientation": "v",
         "showlegend": true,
         "x": [
          1,
          2,
          3,
          4,
          5
         ],
         "xaxis": "x",
         "y": [
          0.0,
          0.0,
          0.0,
          0.0,
          0.0
         ],
         "yaxis": "y",
         "type": "scatter"
        },
        {
         "hovertemplate": "Chaîne=SudRadio<br>Période=%{x}<br>Somme=%{y}<extra></extra>",
         "legendgroup": "SudRadio",
         "line": {
          "color": "#EF553B",
          "dash": "solid"
         },
         "marker": {
          "symbol": "circle"
         },
         "mode": "lines",
         "name": "SudRadio",
         "orientation": "v",
         "showlegend": true,
         "x": [
          1,
          2,
          3,
          4,
          5
         ],
         "xaxis": "x",
         "y": [
          0.0,
          0.0,
          0.0,
          46.0,
          100.0
         ],
         "yaxis": "y",
         "type": "scatter"
        },
        {
         "hovertemplate": "Chaîne=TV5Monde<br>Période=%{x}<br>Somme=%{y}<extra></extra>",
         "legendgroup": "TV5Monde",
         "line": {
          "color": "#00cc96",
          "dash": "solid"
         },
         "marker": {
          "symbol": "circle"
         },
         "mode": "lines",
         "name": "TV5Monde",
         "orientation": "v",
         "showlegend": true,
         "x": [
          1,
          2,
          3,
          4,
          5
         ],
         "xaxis": "x",
         "y": [
          8.0,
          8.0,
          8.0,
          455.0,
          1925.0
         ],
         "yaxis": "y",
         "type": "scatter"
        },
        {
         "hovertemplate": "Chaîne=Euronews<br>Période=%{x}<br>Somme=%{y}<extra></extra>",
         "legendgroup": "Euronews",
         "line": {
          "color": "#ab63fa",
          "dash": "solid"
         },
         "marker": {
          "symbol": "circle"
         },
         "mode": "lines",
         "name": "Euronews",
         "orientation": "v",
         "showlegend": true,
         "x": [
          1,
          2,
          3
         ],
         "xaxis": "x",
         "y": [
          0.0,
          0.0,
          0.0
         ],
         "yaxis": "y",
         "type": "scatter"
        },
        {
         "hovertemplate": "Chaîne=France24<br>Période=%{x}<br>Somme=%{y}<extra></extra>",
         "legendgroup": "France24",
         "line": {
          "color": "#FFA15A",
          "dash": "solid"
         },
         "marker": {
          "symbol": "circle"
         },
         "mode": "lines",
         "name": "France24",
         "orientation": "v",
         "showlegend": true,
         "x": [
          1,
          2,
          3,
          4,
          5
         ],
         "xaxis": "x",
         "y": [
          0.0,
          192.0,
          192.0,
          688.0,
          1380.0
         ],
         "yaxis": "y",
         "type": "scatter"
        },
        {
         "hovertemplate": "Chaîne=RMC Story<br>Période=%{x}<br>Somme=%{y}<extra></extra>",
         "legendgroup": "RMC Story",
         "line": {
          "color": "#19d3f3",
          "dash": "solid"
         },
         "marker": {
          "symbol": "circle"
         },
         "mode": "lines",
         "name": "RMC Story",
         "orientation": "v",
         "showlegend": true,
         "x": [
          1,
          2,
          3,
          4,
          5
         ],
         "xaxis": "x",
         "y": [
          0.0,
          0.0,
          0.0,
          0.0,
          412.0
         ],
         "yaxis": "y",
         "type": "scatter"
        },
        {
         "hovertemplate": "Chaîne=TF1<br>Période=%{x}<br>Somme=%{y}<extra></extra>",
         "legendgroup": "TF1",
         "line": {
          "color": "#FF6692",
          "dash": "solid"
         },
         "marker": {
          "symbol": "circle"
         },
         "mode": "lines",
         "name": "TF1",
         "orientation": "v",
         "showlegend": true,
         "x": [
          2,
          3,
          4,
          5
         ],
         "xaxis": "x",
         "y": [
          63.0,
          63.0,
          595.0,
          653.0
         ],
         "yaxis": "y",
         "type": "scatter"
        },
        {
         "hovertemplate": "Chaîne=France5<br>Période=%{x}<br>Somme=%{y}<extra></extra>",
         "legendgroup": "France5",
         "line": {
          "color": "#B6E880",
          "dash": "solid"
         },
         "marker": {
          "symbol": "circle"
         },
         "mode": "lines",
         "name": "France5",
         "orientation": "v",
         "showlegend": true,
         "x": [
          2,
          3,
          4,
          5
         ],
         "xaxis": "x",
         "y": [
          96.0,
          96.0,
          357.0,
          702.0
         ],
         "yaxis": "y",
         "type": "scatter"
        },
        {
         "hovertemplate": "Chaîne=C8<br>Période=%{x}<br>Somme=%{y}<extra></extra>",
         "legendgroup": "C8",
         "line": {
          "color": "#FF97FF",
          "dash": "solid"
         },
         "marker": {
          "symbol": "circle"
         },
         "mode": "lines",
         "name": "C8",
         "orientation": "v",
         "showlegend": true,
         "x": [
          2,
          3,
          4,
          5
         ],
         "xaxis": "x",
         "y": [
          42.0,
          42.0,
          661.0,
          710.0
         ],
         "yaxis": "y",
         "type": "scatter"
        },
        {
         "hovertemplate": "Chaîne=TMC<br>Période=%{x}<br>Somme=%{y}<extra></extra>",
         "legendgroup": "TMC",
         "line": {
          "color": "#FECB52",
          "dash": "solid"
         },
         "marker": {
          "symbol": "circle"
         },
         "mode": "lines",
         "name": "TMC",
         "orientation": "v",
         "showlegend": true,
         "x": [
          2,
          3,
          4,
          5
         ],
         "xaxis": "x",
         "y": [
          150.0,
          150.0,
          628.0,
          1126.0
         ],
         "yaxis": "y",
         "type": "scatter"
        },
        {
         "hovertemplate": "Chaîne=RMCDecouverte<br>Période=%{x}<br>Somme=%{y}<extra></extra>",
         "legendgroup": "RMCDecouverte",
         "line": {
          "color": "#636efa",
          "dash": "solid"
         },
         "marker": {
          "symbol": "circle"
         },
         "mode": "lines",
         "name": "RMCDecouverte",
         "orientation": "v",
         "showlegend": true,
         "x": [
          2,
          3
         ],
         "xaxis": "x",
         "y": [
          0.0,
          0.0
         ],
         "yaxis": "y",
         "type": "scatter"
        },
        {
         "hovertemplate": "Chaîne=LCI<br>Période=%{x}<br>Somme=%{y}<extra></extra>",
         "legendgroup": "LCI",
         "line": {
          "color": "#EF553B",
          "dash": "solid"
         },
         "marker": {
          "symbol": "circle"
         },
         "mode": "lines",
         "name": "LCI",
         "orientation": "v",
         "showlegend": true,
         "x": [
          2,
          3,
          4,
          5
         ],
         "xaxis": "x",
         "y": [
          240.0,
          240.0,
          8624.0,
          12633.0
         ],
         "yaxis": "y",
         "type": "scatter"
        },
        {
         "hovertemplate": "Chaîne=FranceCulture<br>Période=%{x}<br>Somme=%{y}<extra></extra>",
         "legendgroup": "FranceCulture",
         "line": {
          "color": "#00cc96",
          "dash": "solid"
         },
         "marker": {
          "symbol": "circle"
         },
         "mode": "lines",
         "name": "FranceCulture",
         "orientation": "v",
         "showlegend": true,
         "x": [
          2,
          3,
          4,
          5
         ],
         "xaxis": "x",
         "y": [
          108.0,
          108.0,
          703.0,
          722.0
         ],
         "yaxis": "y",
         "type": "scatter"
        },
        {
         "hovertemplate": "Chaîne=BFMBusiness<br>Période=%{x}<br>Somme=%{y}<extra></extra>",
         "legendgroup": "BFMBusiness",
         "line": {
          "color": "#ab63fa",
          "dash": "solid"
         },
         "marker": {
          "symbol": "circle"
         },
         "mode": "lines",
         "name": "BFMBusiness",
         "orientation": "v",
         "showlegend": true,
         "x": [
          2,
          3
         ],
         "xaxis": "x",
         "y": [
          0.0,
          0.0
         ],
         "yaxis": "y",
         "type": "scatter"
        },
        {
         "hovertemplate": "Chaîne=RFI<br>Période=%{x}<br>Somme=%{y}<extra></extra>",
         "legendgroup": "RFI",
         "line": {
          "color": "#FFA15A",
          "dash": "solid"
         },
         "marker": {
          "symbol": "circle"
         },
         "mode": "lines",
         "name": "RFI",
         "orientation": "v",
         "showlegend": true,
         "x": [
          2,
          3,
          4,
          5
         ],
         "xaxis": "x",
         "y": [
          80.0,
          80.0,
          1026.0,
          1573.0
         ],
         "yaxis": "y",
         "type": "scatter"
        },
        {
         "hovertemplate": "Chaîne=Europe1<br>Période=%{x}<br>Somme=%{y}<extra></extra>",
         "legendgroup": "Europe1",
         "line": {
          "color": "#19d3f3",
          "dash": "solid"
         },
         "marker": {
          "symbol": "circle"
         },
         "mode": "lines",
         "name": "Europe1",
         "orientation": "v",
         "showlegend": true,
         "x": [
          4,
          5
         ],
         "xaxis": "x",
         "y": [
          176.0,
          237.0
         ],
         "yaxis": "y",
         "type": "scatter"
        }
       ],
       "layout": {
        "template": {
         "data": {
          "histogram2dcontour": [
           {
            "type": "histogram2dcontour",
            "colorbar": {
             "outlinewidth": 0,
             "ticks": ""
            },
            "colorscale": [
             [
              0.0,
              "#0d0887"
             ],
             [
              0.1111111111111111,
              "#46039f"
             ],
             [
              0.2222222222222222,
              "#7201a8"
             ],
             [
              0.3333333333333333,
              "#9c179e"
             ],
             [
              0.4444444444444444,
              "#bd3786"
             ],
             [
              0.5555555555555556,
              "#d8576b"
             ],
             [
              0.6666666666666666,
              "#ed7953"
             ],
             [
              0.7777777777777778,
              "#fb9f3a"
             ],
             [
              0.8888888888888888,
              "#fdca26"
             ],
             [
              1.0,
              "#f0f921"
             ]
            ]
           }
          ],
          "choropleth": [
           {
            "type": "choropleth",
            "colorbar": {
             "outlinewidth": 0,
             "ticks": ""
            }
           }
          ],
          "histogram2d": [
           {
            "type": "histogram2d",
            "colorbar": {
             "outlinewidth": 0,
             "ticks": ""
            },
            "colorscale": [
             [
              0.0,
              "#0d0887"
             ],
             [
              0.1111111111111111,
              "#46039f"
             ],
             [
              0.2222222222222222,
              "#7201a8"
             ],
             [
              0.3333333333333333,
              "#9c179e"
             ],
             [
              0.4444444444444444,
              "#bd3786"
             ],
             [
              0.5555555555555556,
              "#d8576b"
             ],
             [
              0.6666666666666666,
              "#ed7953"
             ],
             [
              0.7777777777777778,
              "#fb9f3a"
             ],
             [
              0.8888888888888888,
              "#fdca26"
             ],
             [
              1.0,
              "#f0f921"
             ]
            ]
           }
          ],
          "heatmap": [
           {
            "type": "heatmap",
            "colorbar": {
             "outlinewidth": 0,
             "ticks": ""
            },
            "colorscale": [
             [
              0.0,
              "#0d0887"
             ],
             [
              0.1111111111111111,
              "#46039f"
             ],
             [
              0.2222222222222222,
              "#7201a8"
             ],
             [
              0.3333333333333333,
              "#9c179e"
             ],
             [
              0.4444444444444444,
              "#bd3786"
             ],
             [
              0.5555555555555556,
              "#d8576b"
             ],
             [
              0.6666666666666666,
              "#ed7953"
             ],
             [
              0.7777777777777778,
              "#fb9f3a"
             ],
             [
              0.8888888888888888,
              "#fdca26"
             ],
             [
              1.0,
              "#f0f921"
             ]
            ]
           }
          ],
          "heatmapgl": [
           {
            "type": "heatmapgl",
            "colorbar": {
             "outlinewidth": 0,
             "ticks": ""
            },
            "colorscale": [
             [
              0.0,
              "#0d0887"
             ],
             [
              0.1111111111111111,
              "#46039f"
             ],
             [
              0.2222222222222222,
              "#7201a8"
             ],
             [
              0.3333333333333333,
              "#9c179e"
             ],
             [
              0.4444444444444444,
              "#bd3786"
             ],
             [
              0.5555555555555556,
              "#d8576b"
             ],
             [
              0.6666666666666666,
              "#ed7953"
             ],
             [
              0.7777777777777778,
              "#fb9f3a"
             ],
             [
              0.8888888888888888,
              "#fdca26"
             ],
             [
              1.0,
              "#f0f921"
             ]
            ]
           }
          ],
          "contourcarpet": [
           {
            "type": "contourcarpet",
            "colorbar": {
             "outlinewidth": 0,
             "ticks": ""
            }
           }
          ],
          "contour": [
           {
            "type": "contour",
            "colorbar": {
             "outlinewidth": 0,
             "ticks": ""
            },
            "colorscale": [
             [
              0.0,
              "#0d0887"
             ],
             [
              0.1111111111111111,
              "#46039f"
             ],
             [
              0.2222222222222222,
              "#7201a8"
             ],
             [
              0.3333333333333333,
              "#9c179e"
             ],
             [
              0.4444444444444444,
              "#bd3786"
             ],
             [
              0.5555555555555556,
              "#d8576b"
             ],
             [
              0.6666666666666666,
              "#ed7953"
             ],
             [
              0.7777777777777778,
              "#fb9f3a"
             ],
             [
              0.8888888888888888,
              "#fdca26"
             ],
             [
              1.0,
              "#f0f921"
             ]
            ]
           }
          ],
          "surface": [
           {
            "type": "surface",
            "colorbar": {
             "outlinewidth": 0,
             "ticks": ""
            },
            "colorscale": [
             [
              0.0,
              "#0d0887"
             ],
             [
              0.1111111111111111,
              "#46039f"
             ],
             [
              0.2222222222222222,
              "#7201a8"
             ],
             [
              0.3333333333333333,
              "#9c179e"
             ],
             [
              0.4444444444444444,
              "#bd3786"
             ],
             [
              0.5555555555555556,
              "#d8576b"
             ],
             [
              0.6666666666666666,
              "#ed7953"
             ],
             [
              0.7777777777777778,
              "#fb9f3a"
             ],
             [
              0.8888888888888888,
              "#fdca26"
             ],
             [
              1.0,
              "#f0f921"
             ]
            ]
           }
          ],
          "mesh3d": [
           {
            "type": "mesh3d",
            "colorbar": {
             "outlinewidth": 0,
             "ticks": ""
            }
           }
          ],
          "scatter": [
           {
            "marker": {
             "line": {
              "color": "#283442"
             }
            },
            "type": "scatter"
           }
          ],
          "parcoords": [
           {
            "type": "parcoords",
            "line": {
             "colorbar": {
              "outlinewidth": 0,
              "ticks": ""
             }
            }
           }
          ],
          "scatterpolargl": [
           {
            "type": "scatterpolargl",
            "marker": {
             "colorbar": {
              "outlinewidth": 0,
              "ticks": ""
             }
            }
           }
          ],
          "bar": [
           {
            "error_x": {
             "color": "#f2f5fa"
            },
            "error_y": {
             "color": "#f2f5fa"
            },
            "marker": {
             "line": {
              "color": "rgb(17,17,17)",
              "width": 0.5
             },
             "pattern": {
              "fillmode": "overlay",
              "size": 10,
              "solidity": 0.2
             }
            },
            "type": "bar"
           }
          ],
          "scattergeo": [
           {
            "type": "scattergeo",
            "marker": {
             "colorbar": {
              "outlinewidth": 0,
              "ticks": ""
             }
            }
           }
          ],
          "scatterpolar": [
           {
            "type": "scatterpolar",
            "marker": {
             "colorbar": {
              "outlinewidth": 0,
              "ticks": ""
             }
            }
           }
          ],
          "histogram": [
           {
            "marker": {
             "pattern": {
              "fillmode": "overlay",
              "size": 10,
              "solidity": 0.2
             }
            },
            "type": "histogram"
           }
          ],
          "scattergl": [
           {
            "marker": {
             "line": {
              "color": "#283442"
             }
            },
            "type": "scattergl"
           }
          ],
          "scatter3d": [
           {
            "type": "scatter3d",
            "line": {
             "colorbar": {
              "outlinewidth": 0,
              "ticks": ""
             }
            },
            "marker": {
             "colorbar": {
              "outlinewidth": 0,
              "ticks": ""
             }
            }
           }
          ],
          "scattermapbox": [
           {
            "type": "scattermapbox",
            "marker": {
             "colorbar": {
              "outlinewidth": 0,
              "ticks": ""
             }
            }
           }
          ],
          "scatterternary": [
           {
            "type": "scatterternary",
            "marker": {
             "colorbar": {
              "outlinewidth": 0,
              "ticks": ""
             }
            }
           }
          ],
          "scattercarpet": [
           {
            "type": "scattercarpet",
            "marker": {
             "colorbar": {
              "outlinewidth": 0,
              "ticks": ""
             }
            }
           }
          ],
          "carpet": [
           {
            "aaxis": {
             "endlinecolor": "#A2B1C6",
             "gridcolor": "#506784",
             "linecolor": "#506784",
             "minorgridcolor": "#506784",
             "startlinecolor": "#A2B1C6"
            },
            "baxis": {
             "endlinecolor": "#A2B1C6",
             "gridcolor": "#506784",
             "linecolor": "#506784",
             "minorgridcolor": "#506784",
             "startlinecolor": "#A2B1C6"
            },
            "type": "carpet"
           }
          ],
          "table": [
           {
            "cells": {
             "fill": {
              "color": "#506784"
             },
             "line": {
              "color": "rgb(17,17,17)"
             }
            },
            "header": {
             "fill": {
              "color": "#2a3f5f"
             },
             "line": {
              "color": "rgb(17,17,17)"
             }
            },
            "type": "table"
           }
          ],
          "barpolar": [
           {
            "marker": {
             "line": {
              "color": "rgb(17,17,17)",
              "width": 0.5
             },
             "pattern": {
              "fillmode": "overlay",
              "size": 10,
              "solidity": 0.2
             }
            },
            "type": "barpolar"
           }
          ],
          "pie": [
           {
            "automargin": true,
            "type": "pie"
           }
          ]
         },
         "layout": {
          "autotypenumbers": "strict",
          "colorway": [
           "#636efa",
           "#EF553B",
           "#00cc96",
           "#ab63fa",
           "#FFA15A",
           "#19d3f3",
           "#FF6692",
           "#B6E880",
           "#FF97FF",
           "#FECB52"
          ],
          "font": {
           "color": "#f2f5fa"
          },
          "hovermode": "closest",
          "hoverlabel": {
           "align": "left"
          },
          "paper_bgcolor": "rgb(17,17,17)",
          "plot_bgcolor": "rgb(17,17,17)",
          "polar": {
           "bgcolor": "rgb(17,17,17)",
           "angularaxis": {
            "gridcolor": "#506784",
            "linecolor": "#506784",
            "ticks": ""
           },
           "radialaxis": {
            "gridcolor": "#506784",
            "linecolor": "#506784",
            "ticks": ""
           }
          },
          "ternary": {
           "bgcolor": "rgb(17,17,17)",
           "aaxis": {
            "gridcolor": "#506784",
            "linecolor": "#506784",
            "ticks": ""
           },
           "baxis": {
            "gridcolor": "#506784",
            "linecolor": "#506784",
            "ticks": ""
           },
           "caxis": {
            "gridcolor": "#506784",
            "linecolor": "#506784",
            "ticks": ""
           }
          },
          "coloraxis": {
           "colorbar": {
            "outlinewidth": 0,
            "ticks": ""
           }
          },
          "colorscale": {
           "sequential": [
            [
             0.0,
             "#0d0887"
            ],
            [
             0.1111111111111111,
             "#46039f"
            ],
            [
             0.2222222222222222,
             "#7201a8"
            ],
            [
             0.3333333333333333,
             "#9c179e"
            ],
            [
             0.4444444444444444,
             "#bd3786"
            ],
            [
             0.5555555555555556,
             "#d8576b"
            ],
            [
             0.6666666666666666,
             "#ed7953"
            ],
            [
             0.7777777777777778,
             "#fb9f3a"
            ],
            [
             0.8888888888888888,
             "#fdca26"
            ],
            [
             1.0,
             "#f0f921"
            ]
           ],
           "sequentialminus": [
            [
             0.0,
             "#0d0887"
            ],
            [
             0.1111111111111111,
             "#46039f"
            ],
            [
             0.2222222222222222,
             "#7201a8"
            ],
            [
             0.3333333333333333,
             "#9c179e"
            ],
            [
             0.4444444444444444,
             "#bd3786"
            ],
            [
             0.5555555555555556,
             "#d8576b"
            ],
            [
             0.6666666666666666,
             "#ed7953"
            ],
            [
             0.7777777777777778,
             "#fb9f3a"
            ],
            [
             0.8888888888888888,
             "#fdca26"
            ],
            [
             1.0,
             "#f0f921"
            ]
           ],
           "diverging": [
            [
             0,
             "#8e0152"
            ],
            [
             0.1,
             "#c51b7d"
            ],
            [
             0.2,
             "#de77ae"
            ],
            [
             0.3,
             "#f1b6da"
            ],
            [
             0.4,
             "#fde0ef"
            ],
            [
             0.5,
             "#f7f7f7"
            ],
            [
             0.6,
             "#e6f5d0"
            ],
            [
             0.7,
             "#b8e186"
            ],
            [
             0.8,
             "#7fbc41"
            ],
            [
             0.9,
             "#4d9221"
            ],
            [
             1,
             "#276419"
            ]
           ]
          },
          "xaxis": {
           "gridcolor": "#283442",
           "linecolor": "#506784",
           "ticks": "",
           "title": {
            "standoff": 15
           },
           "zerolinecolor": "#283442",
           "automargin": true,
           "zerolinewidth": 2
          },
          "yaxis": {
           "gridcolor": "#283442",
           "linecolor": "#506784",
           "ticks": "",
           "title": {
            "standoff": 15
           },
           "zerolinecolor": "#283442",
           "automargin": true,
           "zerolinewidth": 2
          },
          "scene": {
           "xaxis": {
            "backgroundcolor": "rgb(17,17,17)",
            "gridcolor": "#506784",
            "linecolor": "#506784",
            "showbackground": true,
            "ticks": "",
            "zerolinecolor": "#C8D4E3",
            "gridwidth": 2
           },
           "yaxis": {
            "backgroundcolor": "rgb(17,17,17)",
            "gridcolor": "#506784",
            "linecolor": "#506784",
            "showbackground": true,
            "ticks": "",
            "zerolinecolor": "#C8D4E3",
            "gridwidth": 2
           },
           "zaxis": {
            "backgroundcolor": "rgb(17,17,17)",
            "gridcolor": "#506784",
            "linecolor": "#506784",
            "showbackground": true,
            "ticks": "",
            "zerolinecolor": "#C8D4E3",
            "gridwidth": 2
           }
          },
          "shapedefaults": {
           "line": {
            "color": "#f2f5fa"
           }
          },
          "annotationdefaults": {
           "arrowcolor": "#f2f5fa",
           "arrowhead": 0,
           "arrowwidth": 1
          },
          "geo": {
           "bgcolor": "rgb(17,17,17)",
           "landcolor": "rgb(17,17,17)",
           "subunitcolor": "#506784",
           "showland": true,
           "showlakes": true,
           "lakecolor": "rgb(17,17,17)"
          },
          "title": {
           "x": 0.05
          },
          "updatemenudefaults": {
           "bgcolor": "#506784",
           "borderwidth": 0
          },
          "sliderdefaults": {
           "bgcolor": "#C8D4E3",
           "borderwidth": 1,
           "bordercolor": "rgb(17,17,17)",
           "tickwidth": 0
          },
          "mapbox": {
           "style": "dark"
          }
         }
        },
        "xaxis": {
         "anchor": "y",
         "domain": [
          0.0,
          1.0
         ],
         "title": {
          "text": "Période"
         }
        },
        "yaxis": {
         "anchor": "x",
         "domain": [
          0.0,
          1.0
         ],
         "title": {
          "text": "Somme"
         }
        },
        "legend": {
         "title": {
          "text": "Chaîne"
         },
         "tracegroupgap": 0
        },
        "margin": {
         "t": 60
        }
       },
       "config": {
        "plotlyServerURL": "https://plot.ly"
       }
      },
      "text/html": "<div>                            <div id=\"d686abd2-713c-4986-8aaf-19468de71e7d\" class=\"plotly-graph-div\" style=\"height:525px; width:100%;\"></div>            <script type=\"text/javascript\">                require([\"plotly\"], function(Plotly) {                    window.PLOTLYENV=window.PLOTLYENV || {};                                    if (document.getElementById(\"d686abd2-713c-4986-8aaf-19468de71e7d\")) {                    Plotly.newPlot(                        \"d686abd2-713c-4986-8aaf-19468de71e7d\",                        [{\"hovertemplate\":\"Cha\\u00eene=France2<br>P\\u00e9riode=%{x}<br>Somme=%{y}<extra></extra>\",\"legendgroup\":\"France2\",\"line\":{\"color\":\"#636efa\",\"dash\":\"solid\"},\"marker\":{\"symbol\":\"circle\"},\"mode\":\"lines\",\"name\":\"France2\",\"orientation\":\"v\",\"showlegend\":true,\"x\":[1,2,3,4,5],\"xaxis\":\"x\",\"y\":[8.0,8.0,8.0,455.0,1969.0],\"yaxis\":\"y\",\"type\":\"scatter\"},{\"hovertemplate\":\"Cha\\u00eene=France3<br>P\\u00e9riode=%{x}<br>Somme=%{y}<extra></extra>\",\"legendgroup\":\"France3\",\"line\":{\"color\":\"#EF553B\",\"dash\":\"solid\"},\"marker\":{\"symbol\":\"circle\"},\"mode\":\"lines\",\"name\":\"France3\",\"orientation\":\"v\",\"showlegend\":true,\"x\":[1,2,3,4,5],\"xaxis\":\"x\",\"y\":[0.0,18.0,18.0,97.0,143.0],\"yaxis\":\"y\",\"type\":\"scatter\"},{\"hovertemplate\":\"Cha\\u00eene=M6<br>P\\u00e9riode=%{x}<br>Somme=%{y}<extra></extra>\",\"legendgroup\":\"M6\",\"line\":{\"color\":\"#00cc96\",\"dash\":\"solid\"},\"marker\":{\"symbol\":\"circle\"},\"mode\":\"lines\",\"name\":\"M6\",\"orientation\":\"v\",\"showlegend\":true,\"x\":[1,2,3,4,5],\"xaxis\":\"x\",\"y\":[58.0,65.0,65.0,93.0,171.0],\"yaxis\":\"y\",\"type\":\"scatter\"},{\"hovertemplate\":\"Cha\\u00eene=BFMTV<br>P\\u00e9riode=%{x}<br>Somme=%{y}<extra></extra>\",\"legendgroup\":\"BFMTV\",\"line\":{\"color\":\"#ab63fa\",\"dash\":\"solid\"},\"marker\":{\"symbol\":\"circle\"},\"mode\":\"lines\",\"name\":\"BFMTV\",\"orientation\":\"v\",\"showlegend\":true,\"x\":[1,2,3,4,5],\"xaxis\":\"x\",\"y\":[0.0,812.0,812.0,1868.0,1958.0],\"yaxis\":\"y\",\"type\":\"scatter\"},{\"hovertemplate\":\"Cha\\u00eene=Cnews<br>P\\u00e9riode=%{x}<br>Somme=%{y}<extra></extra>\",\"legendgroup\":\"Cnews\",\"line\":{\"color\":\"#FFA15A\",\"dash\":\"solid\"},\"marker\":{\"symbol\":\"circle\"},\"mode\":\"lines\",\"name\":\"Cnews\",\"orientation\":\"v\",\"showlegend\":true,\"x\":[1,2,3,4,5],\"xaxis\":\"x\",\"y\":[876.0,1467.0,1467.0,3605.0,5089.0],\"yaxis\":\"y\",\"type\":\"scatter\"},{\"hovertemplate\":\"Cha\\u00eene=FranceinfoTV<br>P\\u00e9riode=%{x}<br>Somme=%{y}<extra></extra>\",\"legendgroup\":\"FranceinfoTV\",\"line\":{\"color\":\"#19d3f3\",\"dash\":\"solid\"},\"marker\":{\"symbol\":\"circle\"},\"mode\":\"lines\",\"name\":\"FranceinfoTV\",\"orientation\":\"v\",\"showlegend\":true,\"x\":[1,2,3,4,5],\"xaxis\":\"x\",\"y\":[61.0,2131.0,2131.0,8064.0,10850.0],\"yaxis\":\"y\",\"type\":\"scatter\"},{\"hovertemplate\":\"Cha\\u00eene=FranceInter<br>P\\u00e9riode=%{x}<br>Somme=%{y}<extra></extra>\",\"legendgroup\":\"FranceInter\",\"line\":{\"color\":\"#FF6692\",\"dash\":\"solid\"},\"marker\":{\"symbol\":\"circle\"},\"mode\":\"lines\",\"name\":\"FranceInter\",\"orientation\":\"v\",\"showlegend\":true,\"x\":[1,2,3,4,5],\"xaxis\":\"x\",\"y\":[67.0,661.0,661.0,264.0,845.0],\"yaxis\":\"y\",\"type\":\"scatter\"},{\"hovertemplate\":\"Cha\\u00eene=FranceInfo<br>P\\u00e9riode=%{x}<br>Somme=%{y}<extra></extra>\",\"legendgroup\":\"FranceInfo\",\"line\":{\"color\":\"#B6E880\",\"dash\":\"solid\"},\"marker\":{\"symbol\":\"circle\"},\"mode\":\"lines\",\"name\":\"FranceInfo\",\"orientation\":\"v\",\"showlegend\":true,\"x\":[1,2,3,4,5],\"xaxis\":\"x\",\"y\":[37.0,1039.0,1039.0,3943.0,4885.0],\"yaxis\":\"y\",\"type\":\"scatter\"},{\"hovertemplate\":\"Cha\\u00eene=RTL<br>P\\u00e9riode=%{x}<br>Somme=%{y}<extra></extra>\",\"legendgroup\":\"RTL\",\"line\":{\"color\":\"#FF97FF\",\"dash\":\"solid\"},\"marker\":{\"symbol\":\"circle\"},\"mode\":\"lines\",\"name\":\"RTL\",\"orientation\":\"v\",\"showlegend\":true,\"x\":[1,2,3,4,5],\"xaxis\":\"x\",\"y\":[0.0,230.0,230.0,614.0,925.0],\"yaxis\":\"y\",\"type\":\"scatter\"},{\"hovertemplate\":\"Cha\\u00eene=RMC<br>P\\u00e9riode=%{x}<br>Somme=%{y}<extra></extra>\",\"legendgroup\":\"RMC\",\"line\":{\"color\":\"#FECB52\",\"dash\":\"solid\"},\"marker\":{\"symbol\":\"circle\"},\"mode\":\"lines\",\"name\":\"RMC\",\"orientation\":\"v\",\"showlegend\":true,\"x\":[1,2,3,4,5],\"xaxis\":\"x\",\"y\":[46.0,46.0,46.0,29.0,1004.0],\"yaxis\":\"y\",\"type\":\"scatter\"},{\"hovertemplate\":\"Cha\\u00eene=RadioClassique<br>P\\u00e9riode=%{x}<br>Somme=%{y}<extra></extra>\",\"legendgroup\":\"RadioClassique\",\"line\":{\"color\":\"#636efa\",\"dash\":\"solid\"},\"marker\":{\"symbol\":\"circle\"},\"mode\":\"lines\",\"name\":\"RadioClassique\",\"orientation\":\"v\",\"showlegend\":true,\"x\":[1,2,3,4,5],\"xaxis\":\"x\",\"y\":[0.0,0.0,0.0,0.0,0.0],\"yaxis\":\"y\",\"type\":\"scatter\"},{\"hovertemplate\":\"Cha\\u00eene=SudRadio<br>P\\u00e9riode=%{x}<br>Somme=%{y}<extra></extra>\",\"legendgroup\":\"SudRadio\",\"line\":{\"color\":\"#EF553B\",\"dash\":\"solid\"},\"marker\":{\"symbol\":\"circle\"},\"mode\":\"lines\",\"name\":\"SudRadio\",\"orientation\":\"v\",\"showlegend\":true,\"x\":[1,2,3,4,5],\"xaxis\":\"x\",\"y\":[0.0,0.0,0.0,46.0,100.0],\"yaxis\":\"y\",\"type\":\"scatter\"},{\"hovertemplate\":\"Cha\\u00eene=TV5Monde<br>P\\u00e9riode=%{x}<br>Somme=%{y}<extra></extra>\",\"legendgroup\":\"TV5Monde\",\"line\":{\"color\":\"#00cc96\",\"dash\":\"solid\"},\"marker\":{\"symbol\":\"circle\"},\"mode\":\"lines\",\"name\":\"TV5Monde\",\"orientation\":\"v\",\"showlegend\":true,\"x\":[1,2,3,4,5],\"xaxis\":\"x\",\"y\":[8.0,8.0,8.0,455.0,1925.0],\"yaxis\":\"y\",\"type\":\"scatter\"},{\"hovertemplate\":\"Cha\\u00eene=Euronews<br>P\\u00e9riode=%{x}<br>Somme=%{y}<extra></extra>\",\"legendgroup\":\"Euronews\",\"line\":{\"color\":\"#ab63fa\",\"dash\":\"solid\"},\"marker\":{\"symbol\":\"circle\"},\"mode\":\"lines\",\"name\":\"Euronews\",\"orientation\":\"v\",\"showlegend\":true,\"x\":[1,2,3],\"xaxis\":\"x\",\"y\":[0.0,0.0,0.0],\"yaxis\":\"y\",\"type\":\"scatter\"},{\"hovertemplate\":\"Cha\\u00eene=France24<br>P\\u00e9riode=%{x}<br>Somme=%{y}<extra></extra>\",\"legendgroup\":\"France24\",\"line\":{\"color\":\"#FFA15A\",\"dash\":\"solid\"},\"marker\":{\"symbol\":\"circle\"},\"mode\":\"lines\",\"name\":\"France24\",\"orientation\":\"v\",\"showlegend\":true,\"x\":[1,2,3,4,5],\"xaxis\":\"x\",\"y\":[0.0,192.0,192.0,688.0,1380.0],\"yaxis\":\"y\",\"type\":\"scatter\"},{\"hovertemplate\":\"Cha\\u00eene=RMC Story<br>P\\u00e9riode=%{x}<br>Somme=%{y}<extra></extra>\",\"legendgroup\":\"RMC Story\",\"line\":{\"color\":\"#19d3f3\",\"dash\":\"solid\"},\"marker\":{\"symbol\":\"circle\"},\"mode\":\"lines\",\"name\":\"RMC Story\",\"orientation\":\"v\",\"showlegend\":true,\"x\":[1,2,3,4,5],\"xaxis\":\"x\",\"y\":[0.0,0.0,0.0,0.0,412.0],\"yaxis\":\"y\",\"type\":\"scatter\"},{\"hovertemplate\":\"Cha\\u00eene=TF1<br>P\\u00e9riode=%{x}<br>Somme=%{y}<extra></extra>\",\"legendgroup\":\"TF1\",\"line\":{\"color\":\"#FF6692\",\"dash\":\"solid\"},\"marker\":{\"symbol\":\"circle\"},\"mode\":\"lines\",\"name\":\"TF1\",\"orientation\":\"v\",\"showlegend\":true,\"x\":[2,3,4,5],\"xaxis\":\"x\",\"y\":[63.0,63.0,595.0,653.0],\"yaxis\":\"y\",\"type\":\"scatter\"},{\"hovertemplate\":\"Cha\\u00eene=France5<br>P\\u00e9riode=%{x}<br>Somme=%{y}<extra></extra>\",\"legendgroup\":\"France5\",\"line\":{\"color\":\"#B6E880\",\"dash\":\"solid\"},\"marker\":{\"symbol\":\"circle\"},\"mode\":\"lines\",\"name\":\"France5\",\"orientation\":\"v\",\"showlegend\":true,\"x\":[2,3,4,5],\"xaxis\":\"x\",\"y\":[96.0,96.0,357.0,702.0],\"yaxis\":\"y\",\"type\":\"scatter\"},{\"hovertemplate\":\"Cha\\u00eene=C8<br>P\\u00e9riode=%{x}<br>Somme=%{y}<extra></extra>\",\"legendgroup\":\"C8\",\"line\":{\"color\":\"#FF97FF\",\"dash\":\"solid\"},\"marker\":{\"symbol\":\"circle\"},\"mode\":\"lines\",\"name\":\"C8\",\"orientation\":\"v\",\"showlegend\":true,\"x\":[2,3,4,5],\"xaxis\":\"x\",\"y\":[42.0,42.0,661.0,710.0],\"yaxis\":\"y\",\"type\":\"scatter\"},{\"hovertemplate\":\"Cha\\u00eene=TMC<br>P\\u00e9riode=%{x}<br>Somme=%{y}<extra></extra>\",\"legendgroup\":\"TMC\",\"line\":{\"color\":\"#FECB52\",\"dash\":\"solid\"},\"marker\":{\"symbol\":\"circle\"},\"mode\":\"lines\",\"name\":\"TMC\",\"orientation\":\"v\",\"showlegend\":true,\"x\":[2,3,4,5],\"xaxis\":\"x\",\"y\":[150.0,150.0,628.0,1126.0],\"yaxis\":\"y\",\"type\":\"scatter\"},{\"hovertemplate\":\"Cha\\u00eene=RMCDecouverte<br>P\\u00e9riode=%{x}<br>Somme=%{y}<extra></extra>\",\"legendgroup\":\"RMCDecouverte\",\"line\":{\"color\":\"#636efa\",\"dash\":\"solid\"},\"marker\":{\"symbol\":\"circle\"},\"mode\":\"lines\",\"name\":\"RMCDecouverte\",\"orientation\":\"v\",\"showlegend\":true,\"x\":[2,3],\"xaxis\":\"x\",\"y\":[0.0,0.0],\"yaxis\":\"y\",\"type\":\"scatter\"},{\"hovertemplate\":\"Cha\\u00eene=LCI<br>P\\u00e9riode=%{x}<br>Somme=%{y}<extra></extra>\",\"legendgroup\":\"LCI\",\"line\":{\"color\":\"#EF553B\",\"dash\":\"solid\"},\"marker\":{\"symbol\":\"circle\"},\"mode\":\"lines\",\"name\":\"LCI\",\"orientation\":\"v\",\"showlegend\":true,\"x\":[2,3,4,5],\"xaxis\":\"x\",\"y\":[240.0,240.0,8624.0,12633.0],\"yaxis\":\"y\",\"type\":\"scatter\"},{\"hovertemplate\":\"Cha\\u00eene=FranceCulture<br>P\\u00e9riode=%{x}<br>Somme=%{y}<extra></extra>\",\"legendgroup\":\"FranceCulture\",\"line\":{\"color\":\"#00cc96\",\"dash\":\"solid\"},\"marker\":{\"symbol\":\"circle\"},\"mode\":\"lines\",\"name\":\"FranceCulture\",\"orientation\":\"v\",\"showlegend\":true,\"x\":[2,3,4,5],\"xaxis\":\"x\",\"y\":[108.0,108.0,703.0,722.0],\"yaxis\":\"y\",\"type\":\"scatter\"},{\"hovertemplate\":\"Cha\\u00eene=BFMBusiness<br>P\\u00e9riode=%{x}<br>Somme=%{y}<extra></extra>\",\"legendgroup\":\"BFMBusiness\",\"line\":{\"color\":\"#ab63fa\",\"dash\":\"solid\"},\"marker\":{\"symbol\":\"circle\"},\"mode\":\"lines\",\"name\":\"BFMBusiness\",\"orientation\":\"v\",\"showlegend\":true,\"x\":[2,3],\"xaxis\":\"x\",\"y\":[0.0,0.0],\"yaxis\":\"y\",\"type\":\"scatter\"},{\"hovertemplate\":\"Cha\\u00eene=RFI<br>P\\u00e9riode=%{x}<br>Somme=%{y}<extra></extra>\",\"legendgroup\":\"RFI\",\"line\":{\"color\":\"#FFA15A\",\"dash\":\"solid\"},\"marker\":{\"symbol\":\"circle\"},\"mode\":\"lines\",\"name\":\"RFI\",\"orientation\":\"v\",\"showlegend\":true,\"x\":[2,3,4,5],\"xaxis\":\"x\",\"y\":[80.0,80.0,1026.0,1573.0],\"yaxis\":\"y\",\"type\":\"scatter\"},{\"hovertemplate\":\"Cha\\u00eene=Europe1<br>P\\u00e9riode=%{x}<br>Somme=%{y}<extra></extra>\",\"legendgroup\":\"Europe1\",\"line\":{\"color\":\"#19d3f3\",\"dash\":\"solid\"},\"marker\":{\"symbol\":\"circle\"},\"mode\":\"lines\",\"name\":\"Europe1\",\"orientation\":\"v\",\"showlegend\":true,\"x\":[4,5],\"xaxis\":\"x\",\"y\":[176.0,237.0],\"yaxis\":\"y\",\"type\":\"scatter\"}],                        {\"template\":{\"data\":{\"histogram2dcontour\":[{\"type\":\"histogram2dcontour\",\"colorbar\":{\"outlinewidth\":0,\"ticks\":\"\"},\"colorscale\":[[0.0,\"#0d0887\"],[0.1111111111111111,\"#46039f\"],[0.2222222222222222,\"#7201a8\"],[0.3333333333333333,\"#9c179e\"],[0.4444444444444444,\"#bd3786\"],[0.5555555555555556,\"#d8576b\"],[0.6666666666666666,\"#ed7953\"],[0.7777777777777778,\"#fb9f3a\"],[0.8888888888888888,\"#fdca26\"],[1.0,\"#f0f921\"]]}],\"choropleth\":[{\"type\":\"choropleth\",\"colorbar\":{\"outlinewidth\":0,\"ticks\":\"\"}}],\"histogram2d\":[{\"type\":\"histogram2d\",\"colorbar\":{\"outlinewidth\":0,\"ticks\":\"\"},\"colorscale\":[[0.0,\"#0d0887\"],[0.1111111111111111,\"#46039f\"],[0.2222222222222222,\"#7201a8\"],[0.3333333333333333,\"#9c179e\"],[0.4444444444444444,\"#bd3786\"],[0.5555555555555556,\"#d8576b\"],[0.6666666666666666,\"#ed7953\"],[0.7777777777777778,\"#fb9f3a\"],[0.8888888888888888,\"#fdca26\"],[1.0,\"#f0f921\"]]}],\"heatmap\":[{\"type\":\"heatmap\",\"colorbar\":{\"outlinewidth\":0,\"ticks\":\"\"},\"colorscale\":[[0.0,\"#0d0887\"],[0.1111111111111111,\"#46039f\"],[0.2222222222222222,\"#7201a8\"],[0.3333333333333333,\"#9c179e\"],[0.4444444444444444,\"#bd3786\"],[0.5555555555555556,\"#d8576b\"],[0.6666666666666666,\"#ed7953\"],[0.7777777777777778,\"#fb9f3a\"],[0.8888888888888888,\"#fdca26\"],[1.0,\"#f0f921\"]]}],\"heatmapgl\":[{\"type\":\"heatmapgl\",\"colorbar\":{\"outlinewidth\":0,\"ticks\":\"\"},\"colorscale\":[[0.0,\"#0d0887\"],[0.1111111111111111,\"#46039f\"],[0.2222222222222222,\"#7201a8\"],[0.3333333333333333,\"#9c179e\"],[0.4444444444444444,\"#bd3786\"],[0.5555555555555556,\"#d8576b\"],[0.6666666666666666,\"#ed7953\"],[0.7777777777777778,\"#fb9f3a\"],[0.8888888888888888,\"#fdca26\"],[1.0,\"#f0f921\"]]}],\"contourcarpet\":[{\"type\":\"contourcarpet\",\"colorbar\":{\"outlinewidth\":0,\"ticks\":\"\"}}],\"contour\":[{\"type\":\"contour\",\"colorbar\":{\"outlinewidth\":0,\"ticks\":\"\"},\"colorscale\":[[0.0,\"#0d0887\"],[0.1111111111111111,\"#46039f\"],[0.2222222222222222,\"#7201a8\"],[0.3333333333333333,\"#9c179e\"],[0.4444444444444444,\"#bd3786\"],[0.5555555555555556,\"#d8576b\"],[0.6666666666666666,\"#ed7953\"],[0.7777777777777778,\"#fb9f3a\"],[0.8888888888888888,\"#fdca26\"],[1.0,\"#f0f921\"]]}],\"surface\":[{\"type\":\"surface\",\"colorbar\":{\"outlinewidth\":0,\"ticks\":\"\"},\"colorscale\":[[0.0,\"#0d0887\"],[0.1111111111111111,\"#46039f\"],[0.2222222222222222,\"#7201a8\"],[0.3333333333333333,\"#9c179e\"],[0.4444444444444444,\"#bd3786\"],[0.5555555555555556,\"#d8576b\"],[0.6666666666666666,\"#ed7953\"],[0.7777777777777778,\"#fb9f3a\"],[0.8888888888888888,\"#fdca26\"],[1.0,\"#f0f921\"]]}],\"mesh3d\":[{\"type\":\"mesh3d\",\"colorbar\":{\"outlinewidth\":0,\"ticks\":\"\"}}],\"scatter\":[{\"marker\":{\"line\":{\"color\":\"#283442\"}},\"type\":\"scatter\"}],\"parcoords\":[{\"type\":\"parcoords\",\"line\":{\"colorbar\":{\"outlinewidth\":0,\"ticks\":\"\"}}}],\"scatterpolargl\":[{\"type\":\"scatterpolargl\",\"marker\":{\"colorbar\":{\"outlinewidth\":0,\"ticks\":\"\"}}}],\"bar\":[{\"error_x\":{\"color\":\"#f2f5fa\"},\"error_y\":{\"color\":\"#f2f5fa\"},\"marker\":{\"line\":{\"color\":\"rgb(17,17,17)\",\"width\":0.5},\"pattern\":{\"fillmode\":\"overlay\",\"size\":10,\"solidity\":0.2}},\"type\":\"bar\"}],\"scattergeo\":[{\"type\":\"scattergeo\",\"marker\":{\"colorbar\":{\"outlinewidth\":0,\"ticks\":\"\"}}}],\"scatterpolar\":[{\"type\":\"scatterpolar\",\"marker\":{\"colorbar\":{\"outlinewidth\":0,\"ticks\":\"\"}}}],\"histogram\":[{\"marker\":{\"pattern\":{\"fillmode\":\"overlay\",\"size\":10,\"solidity\":0.2}},\"type\":\"histogram\"}],\"scattergl\":[{\"marker\":{\"line\":{\"color\":\"#283442\"}},\"type\":\"scattergl\"}],\"scatter3d\":[{\"type\":\"scatter3d\",\"line\":{\"colorbar\":{\"outlinewidth\":0,\"ticks\":\"\"}},\"marker\":{\"colorbar\":{\"outlinewidth\":0,\"ticks\":\"\"}}}],\"scattermapbox\":[{\"type\":\"scattermapbox\",\"marker\":{\"colorbar\":{\"outlinewidth\":0,\"ticks\":\"\"}}}],\"scatterternary\":[{\"type\":\"scatterternary\",\"marker\":{\"colorbar\":{\"outlinewidth\":0,\"ticks\":\"\"}}}],\"scattercarpet\":[{\"type\":\"scattercarpet\",\"marker\":{\"colorbar\":{\"outlinewidth\":0,\"ticks\":\"\"}}}],\"carpet\":[{\"aaxis\":{\"endlinecolor\":\"#A2B1C6\",\"gridcolor\":\"#506784\",\"linecolor\":\"#506784\",\"minorgridcolor\":\"#506784\",\"startlinecolor\":\"#A2B1C6\"},\"baxis\":{\"endlinecolor\":\"#A2B1C6\",\"gridcolor\":\"#506784\",\"linecolor\":\"#506784\",\"minorgridcolor\":\"#506784\",\"startlinecolor\":\"#A2B1C6\"},\"type\":\"carpet\"}],\"table\":[{\"cells\":{\"fill\":{\"color\":\"#506784\"},\"line\":{\"color\":\"rgb(17,17,17)\"}},\"header\":{\"fill\":{\"color\":\"#2a3f5f\"},\"line\":{\"color\":\"rgb(17,17,17)\"}},\"type\":\"table\"}],\"barpolar\":[{\"marker\":{\"line\":{\"color\":\"rgb(17,17,17)\",\"width\":0.5},\"pattern\":{\"fillmode\":\"overlay\",\"size\":10,\"solidity\":0.2}},\"type\":\"barpolar\"}],\"pie\":[{\"automargin\":true,\"type\":\"pie\"}]},\"layout\":{\"autotypenumbers\":\"strict\",\"colorway\":[\"#636efa\",\"#EF553B\",\"#00cc96\",\"#ab63fa\",\"#FFA15A\",\"#19d3f3\",\"#FF6692\",\"#B6E880\",\"#FF97FF\",\"#FECB52\"],\"font\":{\"color\":\"#f2f5fa\"},\"hovermode\":\"closest\",\"hoverlabel\":{\"align\":\"left\"},\"paper_bgcolor\":\"rgb(17,17,17)\",\"plot_bgcolor\":\"rgb(17,17,17)\",\"polar\":{\"bgcolor\":\"rgb(17,17,17)\",\"angularaxis\":{\"gridcolor\":\"#506784\",\"linecolor\":\"#506784\",\"ticks\":\"\"},\"radialaxis\":{\"gridcolor\":\"#506784\",\"linecolor\":\"#506784\",\"ticks\":\"\"}},\"ternary\":{\"bgcolor\":\"rgb(17,17,17)\",\"aaxis\":{\"gridcolor\":\"#506784\",\"linecolor\":\"#506784\",\"ticks\":\"\"},\"baxis\":{\"gridcolor\":\"#506784\",\"linecolor\":\"#506784\",\"ticks\":\"\"},\"caxis\":{\"gridcolor\":\"#506784\",\"linecolor\":\"#506784\",\"ticks\":\"\"}},\"coloraxis\":{\"colorbar\":{\"outlinewidth\":0,\"ticks\":\"\"}},\"colorscale\":{\"sequential\":[[0.0,\"#0d0887\"],[0.1111111111111111,\"#46039f\"],[0.2222222222222222,\"#7201a8\"],[0.3333333333333333,\"#9c179e\"],[0.4444444444444444,\"#bd3786\"],[0.5555555555555556,\"#d8576b\"],[0.6666666666666666,\"#ed7953\"],[0.7777777777777778,\"#fb9f3a\"],[0.8888888888888888,\"#fdca26\"],[1.0,\"#f0f921\"]],\"sequentialminus\":[[0.0,\"#0d0887\"],[0.1111111111111111,\"#46039f\"],[0.2222222222222222,\"#7201a8\"],[0.3333333333333333,\"#9c179e\"],[0.4444444444444444,\"#bd3786\"],[0.5555555555555556,\"#d8576b\"],[0.6666666666666666,\"#ed7953\"],[0.7777777777777778,\"#fb9f3a\"],[0.8888888888888888,\"#fdca26\"],[1.0,\"#f0f921\"]],\"diverging\":[[0,\"#8e0152\"],[0.1,\"#c51b7d\"],[0.2,\"#de77ae\"],[0.3,\"#f1b6da\"],[0.4,\"#fde0ef\"],[0.5,\"#f7f7f7\"],[0.6,\"#e6f5d0\"],[0.7,\"#b8e186\"],[0.8,\"#7fbc41\"],[0.9,\"#4d9221\"],[1,\"#276419\"]]},\"xaxis\":{\"gridcolor\":\"#283442\",\"linecolor\":\"#506784\",\"ticks\":\"\",\"title\":{\"standoff\":15},\"zerolinecolor\":\"#283442\",\"automargin\":true,\"zerolinewidth\":2},\"yaxis\":{\"gridcolor\":\"#283442\",\"linecolor\":\"#506784\",\"ticks\":\"\",\"title\":{\"standoff\":15},\"zerolinecolor\":\"#283442\",\"automargin\":true,\"zerolinewidth\":2},\"scene\":{\"xaxis\":{\"backgroundcolor\":\"rgb(17,17,17)\",\"gridcolor\":\"#506784\",\"linecolor\":\"#506784\",\"showbackground\":true,\"ticks\":\"\",\"zerolinecolor\":\"#C8D4E3\",\"gridwidth\":2},\"yaxis\":{\"backgroundcolor\":\"rgb(17,17,17)\",\"gridcolor\":\"#506784\",\"linecolor\":\"#506784\",\"showbackground\":true,\"ticks\":\"\",\"zerolinecolor\":\"#C8D4E3\",\"gridwidth\":2},\"zaxis\":{\"backgroundcolor\":\"rgb(17,17,17)\",\"gridcolor\":\"#506784\",\"linecolor\":\"#506784\",\"showbackground\":true,\"ticks\":\"\",\"zerolinecolor\":\"#C8D4E3\",\"gridwidth\":2}},\"shapedefaults\":{\"line\":{\"color\":\"#f2f5fa\"}},\"annotationdefaults\":{\"arrowcolor\":\"#f2f5fa\",\"arrowhead\":0,\"arrowwidth\":1},\"geo\":{\"bgcolor\":\"rgb(17,17,17)\",\"landcolor\":\"rgb(17,17,17)\",\"subunitcolor\":\"#506784\",\"showland\":true,\"showlakes\":true,\"lakecolor\":\"rgb(17,17,17)\"},\"title\":{\"x\":0.05},\"updatemenudefaults\":{\"bgcolor\":\"#506784\",\"borderwidth\":0},\"sliderdefaults\":{\"bgcolor\":\"#C8D4E3\",\"borderwidth\":1,\"bordercolor\":\"rgb(17,17,17)\",\"tickwidth\":0},\"mapbox\":{\"style\":\"dark\"}}},\"xaxis\":{\"anchor\":\"y\",\"domain\":[0.0,1.0],\"title\":{\"text\":\"P\\u00e9riode\"}},\"yaxis\":{\"anchor\":\"x\",\"domain\":[0.0,1.0],\"title\":{\"text\":\"Somme\"}},\"legend\":{\"title\":{\"text\":\"Cha\\u00eene\"},\"tracegroupgap\":0},\"margin\":{\"t\":60}},                        {\"responsive\": true}                    ).then(function(){\n                            \nvar gd = document.getElementById('d686abd2-713c-4986-8aaf-19468de71e7d');\nvar x = new MutationObserver(function (mutations, observer) {{\n        var display = window.getComputedStyle(gd).display;\n        if (!display || display === 'none') {{\n            console.log([gd, 'removed!']);\n            Plotly.purge(gd);\n            observer.disconnect();\n        }}\n}});\n\n// Listen for the removal of the full notebook cells\nvar notebookContainer = gd.closest('#notebook-container');\nif (notebookContainer) {{\n    x.observe(notebookContainer, {childList: true});\n}}\n\n// Listen for the clearing of the current output cell\nvar outputEl = gd.closest('.output');\nif (outputEl) {{\n    x.observe(outputEl, {childList: true});\n}}\n\n                        })                };                });            </script>        </div>"
     },
     "metadata": {},
     "output_type": "display_data"
    }
   ],
   "source": [
    "px.line(df_poutou, x='Période', y=\"Somme\", color='Chaîne')\n"
   ],
   "metadata": {
    "collapsed": false,
    "pycharm": {
     "name": "#%%\n"
    }
   }
  },
  {
   "cell_type": "code",
   "execution_count": 38,
   "outputs": [
    {
     "data": {
      "application/vnd.plotly.v1+json": {
       "data": [
        {
         "hovertemplate": "Chaîne=TF1<br>Période=%{x}<br>Somme=%{y}<extra></extra>",
         "legendgroup": "TF1",
         "line": {
          "color": "#636efa",
          "dash": "solid"
         },
         "marker": {
          "symbol": "circle"
         },
         "mode": "lines",
         "name": "TF1",
         "orientation": "h",
         "showlegend": true,
         "x": [
          1,
          2,
          3,
          4,
          5
         ],
         "xaxis": "x",
         "y": [
          33.0,
          1308.0,
          1925.0,
          4.5E-8,
          "00:00:2900:00:2900:09:5200:00:00"
         ],
         "yaxis": "y",
         "type": "scatter"
        },
        {
         "hovertemplate": "Chaîne=France2<br>Période=%{x}<br>Somme=%{y}<extra></extra>",
         "legendgroup": "France2",
         "line": {
          "color": "#EF553B",
          "dash": "solid"
         },
         "marker": {
          "symbol": "circle"
         },
         "mode": "lines",
         "name": "France2",
         "orientation": "h",
         "showlegend": true,
         "x": [
          1,
          2,
          3,
          4,
          5
         ],
         "xaxis": "x",
         "y": [
          28.0,
          72.0,
          4457.0,
          1.478E-6,
          "00:00:2200:00:2200:32:0300:00:00"
         ],
         "yaxis": "y",
         "type": "scatter"
        },
        {
         "hovertemplate": "Chaîne=France3<br>Période=%{x}<br>Somme=%{y}<extra></extra>",
         "legendgroup": "France3",
         "line": {
          "color": "#00cc96",
          "dash": "solid"
         },
         "marker": {
          "symbol": "circle"
         },
         "mode": "lines",
         "name": "France3",
         "orientation": "h",
         "showlegend": true,
         "x": [
          1,
          2,
          3,
          4,
          5
         ],
         "xaxis": "x",
         "y": [
          53.0,
          1199.0,
          1279.0,
          6.5E-8,
          "00:00:4500:00:4500:00:5300:00:00"
         ],
         "yaxis": "y",
         "type": "scatter"
        },
        {
         "hovertemplate": "Chaîne=France5<br>Période=%{x}<br>Somme=%{y}<extra></extra>",
         "legendgroup": "France5",
         "line": {
          "color": "#ab63fa",
          "dash": "solid"
         },
         "marker": {
          "symbol": "circle"
         },
         "mode": "lines",
         "name": "France5",
         "orientation": "h",
         "showlegend": true,
         "x": [
          1,
          2,
          3,
          4,
          5
         ],
         "xaxis": "x",
         "y": [
          1446.0,
          1754.0,
          2258.0,
          4.2600000000000003E-7,
          "00:01:3600:01:3600:05:1100:02:34"
         ],
         "yaxis": "y",
         "type": "scatter"
        },
        {
         "hovertemplate": "Chaîne=M6<br>Période=%{x}<br>Somme=%{y}<extra></extra>",
         "legendgroup": "M6",
         "line": {
          "color": "#FFA15A",
          "dash": "solid"
         },
         "marker": {
          "symbol": "circle"
         },
         "mode": "lines",
         "name": "M6",
         "orientation": "h",
         "showlegend": true,
         "x": [
          1,
          2,
          3,
          4,
          5
         ],
         "xaxis": "x",
         "y": [
          30.0,
          121.0,
          1468.0,
          1.44E-7,
          "00:01:0100:01:0100:00:5700:00:00"
         ],
         "yaxis": "y",
         "type": "scatter"
        },
        {
         "hovertemplate": "Chaîne=C8<br>Période=%{x}<br>Somme=%{y}<extra></extra>",
         "legendgroup": "C8",
         "line": {
          "color": "#19d3f3",
          "dash": "solid"
         },
         "marker": {
          "symbol": "circle"
         },
         "mode": "lines",
         "name": "C8",
         "orientation": "h",
         "showlegend": true,
         "x": [
          1,
          2,
          3,
          4,
          5
         ],
         "xaxis": "x",
         "y": [
          99.0,
          315.0,
          6005.0,
          8.2E-8,
          "00:00:5600:00:5600:08:0400:00:00"
         ],
         "yaxis": "y",
         "type": "scatter"
        },
        {
         "hovertemplate": "Chaîne=TMC<br>Période=%{x}<br>Somme=%{y}<extra></extra>",
         "legendgroup": "TMC",
         "line": {
          "color": "#FF6692",
          "dash": "solid"
         },
         "marker": {
          "symbol": "circle"
         },
         "mode": "lines",
         "name": "TMC",
         "orientation": "h",
         "showlegend": true,
         "x": [
          1,
          2,
          3,
          4,
          5
         ],
         "xaxis": "x",
         "y": [
          291.0,
          422.0,
          952.0,
          4.81E-7,
          "00:00:0000:00:0000:18:0000:00:00"
         ],
         "yaxis": "y",
         "type": "scatter"
        },
        {
         "hovertemplate": "Chaîne=BFMTV<br>Période=%{x}<br>Somme=%{y}<extra></extra>",
         "legendgroup": "BFMTV",
         "line": {
          "color": "#B6E880",
          "dash": "solid"
         },
         "marker": {
          "symbol": "circle"
         },
         "mode": "lines",
         "name": "BFMTV",
         "orientation": "h",
         "showlegend": true,
         "x": [
          1,
          2,
          3,
          4,
          5
         ],
         "xaxis": "x",
         "y": [
          923.0,
          8628.0,
          13682.0,
          7.28E-7,
          "00:10:0000:10:0000:09:5500:03:18"
         ],
         "yaxis": "y",
         "type": "scatter"
        },
        {
         "hovertemplate": "Chaîne=Cnews<br>Période=%{x}<br>Somme=%{y}<extra></extra>",
         "legendgroup": "Cnews",
         "line": {
          "color": "#FF97FF",
          "dash": "solid"
         },
         "marker": {
          "symbol": "circle"
         },
         "mode": "lines",
         "name": "Cnews",
         "orientation": "h",
         "showlegend": true,
         "x": [
          1,
          2,
          3,
          4,
          5
         ],
         "xaxis": "x",
         "y": [
          5958.0,
          26420.0,
          31524.0,
          4.222999999999999E-6,
          "00:32:0600:32:0600:08:4600:08:25"
         ],
         "yaxis": "y",
         "type": "scatter"
        },
        {
         "hovertemplate": "Chaîne=LCI<br>Période=%{x}<br>Somme=%{y}<extra></extra>",
         "legendgroup": "LCI",
         "line": {
          "color": "#FECB52",
          "dash": "solid"
         },
         "marker": {
          "symbol": "circle"
         },
         "mode": "lines",
         "name": "LCI",
         "orientation": "h",
         "showlegend": true,
         "x": [
          1,
          2,
          3,
          4,
          5
         ],
         "xaxis": "x",
         "y": [
          426.0,
          13780.0,
          18381.0,
          7.69E-6,
          "01:30:1301:30:1300:30:3900:00:00"
         ],
         "yaxis": "y",
         "type": "scatter"
        },
        {
         "hovertemplate": "Chaîne=FranceinfoTV<br>Période=%{x}<br>Somme=%{y}<extra></extra>",
         "legendgroup": "FranceinfoTV",
         "line": {
          "color": "#636efa",
          "dash": "solid"
         },
         "marker": {
          "symbol": "circle"
         },
         "mode": "lines",
         "name": "FranceinfoTV",
         "orientation": "h",
         "showlegend": true,
         "x": [
          1,
          2,
          3,
          4,
          5
         ],
         "xaxis": "x",
         "y": [
          1658.0,
          11464.0,
          17933.0,
          8.636E-6,
          "01:17:3701:17:3700:25:2100:03:46"
         ],
         "yaxis": "y",
         "type": "scatter"
        },
        {
         "hovertemplate": "Chaîne=FranceInter<br>Période=%{x}<br>Somme=%{y}<extra></extra>",
         "legendgroup": "FranceInter",
         "line": {
          "color": "#EF553B",
          "dash": "solid"
         },
         "marker": {
          "symbol": "circle"
         },
         "mode": "lines",
         "name": "FranceInter",
         "orientation": "h",
         "showlegend": true,
         "x": [
          1,
          2,
          3,
          4,
          5
         ],
         "xaxis": "x",
         "y": [
          305.0,
          1761.0,
          1971.0,
          6.46E-7,
          "00:04:4200:04:4200:04:0000:01:01"
         ],
         "yaxis": "y",
         "type": "scatter"
        },
        {
         "hovertemplate": "Chaîne=FranceInfo<br>Période=%{x}<br>Somme=%{y}<extra></extra>",
         "legendgroup": "FranceInfo",
         "line": {
          "color": "#00cc96",
          "dash": "solid"
         },
         "marker": {
          "symbol": "circle"
         },
         "mode": "lines",
         "name": "FranceInfo",
         "orientation": "h",
         "showlegend": true,
         "x": [
          1,
          2,
          3,
          4,
          5
         ],
         "xaxis": "x",
         "y": [
          399.0,
          3081.0,
          6265.0,
          3.627E-6,
          "00:29:3500:29:3500:18:0000:08:33"
         ],
         "yaxis": "y",
         "type": "scatter"
        },
        {
         "hovertemplate": "Chaîne=FranceCulture<br>Période=%{x}<br>Somme=%{y}<extra></extra>",
         "legendgroup": "FranceCulture",
         "line": {
          "color": "#ab63fa",
          "dash": "solid"
         },
         "marker": {
          "symbol": "circle"
         },
         "mode": "lines",
         "name": "FranceCulture",
         "orientation": "h",
         "showlegend": true,
         "x": [
          1,
          2,
          3,
          4,
          5
         ],
         "xaxis": "x",
         "y": [
          1831.0,
          1876.0,
          2645.0,
          2.7E-8,
          "00:03:5900:03:5900:01:0800:00:00"
         ],
         "yaxis": "y",
         "type": "scatter"
        },
        {
         "hovertemplate": "Chaîne=RTL<br>Période=%{x}<br>Somme=%{y}<extra></extra>",
         "legendgroup": "RTL",
         "line": {
          "color": "#FFA15A",
          "dash": "solid"
         },
         "marker": {
          "symbol": "circle"
         },
         "mode": "lines",
         "name": "RTL",
         "orientation": "h",
         "showlegend": true,
         "x": [
          1,
          2,
          3,
          4,
          5
         ],
         "xaxis": "x",
         "y": [
          368.0,
          7194.0,
          7759.0,
          6.99E-7,
          "00:04:4400:04:4400:02:5600:03:01"
         ],
         "yaxis": "y",
         "type": "scatter"
        },
        {
         "hovertemplate": "Chaîne=Europe1<br>Période=%{x}<br>Somme=%{y}<extra></extra>",
         "legendgroup": "Europe1",
         "line": {
          "color": "#19d3f3",
          "dash": "solid"
         },
         "marker": {
          "symbol": "circle"
         },
         "mode": "lines",
         "name": "Europe1",
         "orientation": "h",
         "showlegend": true,
         "x": [
          1,
          2,
          3,
          4,
          5
         ],
         "xaxis": "x",
         "y": [
          3302.0,
          6152.0,
          8562.0,
          1.025E-6,
          "00:20:5300:20:5300:07:1700:01:58"
         ],
         "yaxis": "y",
         "type": "scatter"
        },
        {
         "hovertemplate": "Chaîne=RMC<br>Période=%{x}<br>Somme=%{y}<extra></extra>",
         "legendgroup": "RMC",
         "line": {
          "color": "#FF6692",
          "dash": "solid"
         },
         "marker": {
          "symbol": "circle"
         },
         "mode": "lines",
         "name": "RMC",
         "orientation": "h",
         "showlegend": true,
         "x": [
          1,
          2,
          3,
          4,
          5
         ],
         "xaxis": "x",
         "y": [
          8405.0,
          8425.0,
          8593.0,
          4.95E-7,
          "00:04:5400:04:5400:00:0000:07:20"
         ],
         "yaxis": "y",
         "type": "scatter"
        },
        {
         "hovertemplate": "Chaîne=BFMBusiness<br>Période=%{x}<br>Somme=%{y}<extra></extra>",
         "legendgroup": "BFMBusiness",
         "line": {
          "color": "#B6E880",
          "dash": "solid"
         },
         "marker": {
          "symbol": "circle"
         },
         "mode": "lines",
         "name": "BFMBusiness",
         "orientation": "h",
         "showlegend": true,
         "x": [
          1,
          2,
          3
         ],
         "xaxis": "x",
         "y": [
          125.0,
          125.0,
          1648.0
         ],
         "yaxis": "y",
         "type": "scatter"
        },
        {
         "hovertemplate": "Chaîne=RadioClassique<br>Période=%{x}<br>Somme=%{y}<extra></extra>",
         "legendgroup": "RadioClassique",
         "line": {
          "color": "#FF97FF",
          "dash": "solid"
         },
         "marker": {
          "symbol": "circle"
         },
         "mode": "lines",
         "name": "RadioClassique",
         "orientation": "h",
         "showlegend": true,
         "x": [
          1,
          2,
          3,
          4,
          5
         ],
         "xaxis": "x",
         "y": [
          0.0,
          0.0,
          0.0,
          0.0,
          "00:00:0000:00:0000:00:0000:00:00"
         ],
         "yaxis": "y",
         "type": "scatter"
        },
        {
         "hovertemplate": "Chaîne=SudRadio<br>Période=%{x}<br>Somme=%{y}<extra></extra>",
         "legendgroup": "SudRadio",
         "line": {
          "color": "#FECB52",
          "dash": "solid"
         },
         "marker": {
          "symbol": "circle"
         },
         "mode": "lines",
         "name": "SudRadio",
         "orientation": "h",
         "showlegend": true,
         "x": [
          1,
          2,
          3,
          4,
          5
         ],
         "xaxis": "x",
         "y": [
          0.0,
          1348.0,
          1543.0,
          4.6E-8,
          "00:00:4500:00:4500:00:1000:00:00"
         ],
         "yaxis": "y",
         "type": "scatter"
        },
        {
         "hovertemplate": "Chaîne=TV5Monde<br>Période=%{x}<br>Somme=%{y}<extra></extra>",
         "legendgroup": "TV5Monde",
         "line": {
          "color": "#636efa",
          "dash": "solid"
         },
         "marker": {
          "symbol": "circle"
         },
         "mode": "lines",
         "name": "TV5Monde",
         "orientation": "h",
         "showlegend": true,
         "x": [
          1,
          2,
          3,
          4,
          5
         ],
         "xaxis": "x",
         "y": [
          37.0,
          129.0,
          3800.0,
          1.404E-6,
          "00:00:1900:00:1900:30:1100:00:00"
         ],
         "yaxis": "y",
         "type": "scatter"
        },
        {
         "hovertemplate": "Chaîne=Euronews<br>Période=%{x}<br>Somme=%{y}<extra></extra>",
         "legendgroup": "Euronews",
         "line": {
          "color": "#EF553B",
          "dash": "solid"
         },
         "marker": {
          "symbol": "circle"
         },
         "mode": "lines",
         "name": "Euronews",
         "orientation": "h",
         "showlegend": true,
         "x": [
          1,
          2,
          3
         ],
         "xaxis": "x",
         "y": [
          0.0,
          0.0,
          0.0
         ],
         "yaxis": "y",
         "type": "scatter"
        },
        {
         "hovertemplate": "Chaîne=RFI<br>Période=%{x}<br>Somme=%{y}<extra></extra>",
         "legendgroup": "RFI",
         "line": {
          "color": "#00cc96",
          "dash": "solid"
         },
         "marker": {
          "symbol": "circle"
         },
         "mode": "lines",
         "name": "RFI",
         "orientation": "h",
         "showlegend": true,
         "x": [
          1,
          2,
          3,
          4,
          5
         ],
         "xaxis": "x",
         "y": [
          480.0,
          681.0,
          2889.0,
          6.249999999999999E-7,
          "00:07:0400:07:0400:02:1900:03:34"
         ],
         "yaxis": "y",
         "type": "scatter"
        },
        {
         "hovertemplate": "Chaîne=France24<br>Période=%{x}<br>Somme=%{y}<extra></extra>",
         "legendgroup": "France24",
         "line": {
          "color": "#ab63fa",
          "dash": "solid"
         },
         "marker": {
          "symbol": "circle"
         },
         "mode": "lines",
         "name": "France24",
         "orientation": "h",
         "showlegend": true,
         "x": [
          1,
          2,
          3,
          4,
          5
         ],
         "xaxis": "x",
         "y": [
          16.0,
          186.0,
          1714.0,
          8.24E-7,
          "00:05:3800:05:3800:04:3900:03:23"
         ],
         "yaxis": "y",
         "type": "scatter"
        },
        {
         "hovertemplate": "Chaîne=RMC Story<br>Période=%{x}<br>Somme=%{y}<extra></extra>",
         "legendgroup": "RMC Story",
         "line": {
          "color": "#FFA15A",
          "dash": "solid"
         },
         "marker": {
          "symbol": "circle"
         },
         "mode": "lines",
         "name": "RMC Story",
         "orientation": "h",
         "showlegend": true,
         "x": [
          1,
          2,
          3,
          4,
          5
         ],
         "xaxis": "x",
         "y": [
          5470.0,
          5480.0,
          5480.0,
          1.02E-7,
          "00:03:4200:03:4200:00:0000:00:00"
         ],
         "yaxis": "y",
         "type": "scatter"
        },
        {
         "hovertemplate": "Chaîne=RMCDecouverte<br>Période=%{x}<br>Somme=%{y}<extra></extra>",
         "legendgroup": "RMCDecouverte",
         "line": {
          "color": "#19d3f3",
          "dash": "solid"
         },
         "marker": {
          "symbol": "circle"
         },
         "mode": "lines",
         "name": "RMCDecouverte",
         "orientation": "h",
         "showlegend": true,
         "x": [
          3
         ],
         "xaxis": "x",
         "y": [
          0.0
         ],
         "yaxis": "y",
         "type": "scatter"
        }
       ],
       "layout": {
        "template": {
         "data": {
          "histogram2dcontour": [
           {
            "type": "histogram2dcontour",
            "colorbar": {
             "outlinewidth": 0,
             "ticks": ""
            },
            "colorscale": [
             [
              0.0,
              "#0d0887"
             ],
             [
              0.1111111111111111,
              "#46039f"
             ],
             [
              0.2222222222222222,
              "#7201a8"
             ],
             [
              0.3333333333333333,
              "#9c179e"
             ],
             [
              0.4444444444444444,
              "#bd3786"
             ],
             [
              0.5555555555555556,
              "#d8576b"
             ],
             [
              0.6666666666666666,
              "#ed7953"
             ],
             [
              0.7777777777777778,
              "#fb9f3a"
             ],
             [
              0.8888888888888888,
              "#fdca26"
             ],
             [
              1.0,
              "#f0f921"
             ]
            ]
           }
          ],
          "choropleth": [
           {
            "type": "choropleth",
            "colorbar": {
             "outlinewidth": 0,
             "ticks": ""
            }
           }
          ],
          "histogram2d": [
           {
            "type": "histogram2d",
            "colorbar": {
             "outlinewidth": 0,
             "ticks": ""
            },
            "colorscale": [
             [
              0.0,
              "#0d0887"
             ],
             [
              0.1111111111111111,
              "#46039f"
             ],
             [
              0.2222222222222222,
              "#7201a8"
             ],
             [
              0.3333333333333333,
              "#9c179e"
             ],
             [
              0.4444444444444444,
              "#bd3786"
             ],
             [
              0.5555555555555556,
              "#d8576b"
             ],
             [
              0.6666666666666666,
              "#ed7953"
             ],
             [
              0.7777777777777778,
              "#fb9f3a"
             ],
             [
              0.8888888888888888,
              "#fdca26"
             ],
             [
              1.0,
              "#f0f921"
             ]
            ]
           }
          ],
          "heatmap": [
           {
            "type": "heatmap",
            "colorbar": {
             "outlinewidth": 0,
             "ticks": ""
            },
            "colorscale": [
             [
              0.0,
              "#0d0887"
             ],
             [
              0.1111111111111111,
              "#46039f"
             ],
             [
              0.2222222222222222,
              "#7201a8"
             ],
             [
              0.3333333333333333,
              "#9c179e"
             ],
             [
              0.4444444444444444,
              "#bd3786"
             ],
             [
              0.5555555555555556,
              "#d8576b"
             ],
             [
              0.6666666666666666,
              "#ed7953"
             ],
             [
              0.7777777777777778,
              "#fb9f3a"
             ],
             [
              0.8888888888888888,
              "#fdca26"
             ],
             [
              1.0,
              "#f0f921"
             ]
            ]
           }
          ],
          "heatmapgl": [
           {
            "type": "heatmapgl",
            "colorbar": {
             "outlinewidth": 0,
             "ticks": ""
            },
            "colorscale": [
             [
              0.0,
              "#0d0887"
             ],
             [
              0.1111111111111111,
              "#46039f"
             ],
             [
              0.2222222222222222,
              "#7201a8"
             ],
             [
              0.3333333333333333,
              "#9c179e"
             ],
             [
              0.4444444444444444,
              "#bd3786"
             ],
             [
              0.5555555555555556,
              "#d8576b"
             ],
             [
              0.6666666666666666,
              "#ed7953"
             ],
             [
              0.7777777777777778,
              "#fb9f3a"
             ],
             [
              0.8888888888888888,
              "#fdca26"
             ],
             [
              1.0,
              "#f0f921"
             ]
            ]
           }
          ],
          "contourcarpet": [
           {
            "type": "contourcarpet",
            "colorbar": {
             "outlinewidth": 0,
             "ticks": ""
            }
           }
          ],
          "contour": [
           {
            "type": "contour",
            "colorbar": {
             "outlinewidth": 0,
             "ticks": ""
            },
            "colorscale": [
             [
              0.0,
              "#0d0887"
             ],
             [
              0.1111111111111111,
              "#46039f"
             ],
             [
              0.2222222222222222,
              "#7201a8"
             ],
             [
              0.3333333333333333,
              "#9c179e"
             ],
             [
              0.4444444444444444,
              "#bd3786"
             ],
             [
              0.5555555555555556,
              "#d8576b"
             ],
             [
              0.6666666666666666,
              "#ed7953"
             ],
             [
              0.7777777777777778,
              "#fb9f3a"
             ],
             [
              0.8888888888888888,
              "#fdca26"
             ],
             [
              1.0,
              "#f0f921"
             ]
            ]
           }
          ],
          "surface": [
           {
            "type": "surface",
            "colorbar": {
             "outlinewidth": 0,
             "ticks": ""
            },
            "colorscale": [
             [
              0.0,
              "#0d0887"
             ],
             [
              0.1111111111111111,
              "#46039f"
             ],
             [
              0.2222222222222222,
              "#7201a8"
             ],
             [
              0.3333333333333333,
              "#9c179e"
             ],
             [
              0.4444444444444444,
              "#bd3786"
             ],
             [
              0.5555555555555556,
              "#d8576b"
             ],
             [
              0.6666666666666666,
              "#ed7953"
             ],
             [
              0.7777777777777778,
              "#fb9f3a"
             ],
             [
              0.8888888888888888,
              "#fdca26"
             ],
             [
              1.0,
              "#f0f921"
             ]
            ]
           }
          ],
          "mesh3d": [
           {
            "type": "mesh3d",
            "colorbar": {
             "outlinewidth": 0,
             "ticks": ""
            }
           }
          ],
          "scatter": [
           {
            "marker": {
             "line": {
              "color": "#283442"
             }
            },
            "type": "scatter"
           }
          ],
          "parcoords": [
           {
            "type": "parcoords",
            "line": {
             "colorbar": {
              "outlinewidth": 0,
              "ticks": ""
             }
            }
           }
          ],
          "scatterpolargl": [
           {
            "type": "scatterpolargl",
            "marker": {
             "colorbar": {
              "outlinewidth": 0,
              "ticks": ""
             }
            }
           }
          ],
          "bar": [
           {
            "error_x": {
             "color": "#f2f5fa"
            },
            "error_y": {
             "color": "#f2f5fa"
            },
            "marker": {
             "line": {
              "color": "rgb(17,17,17)",
              "width": 0.5
             },
             "pattern": {
              "fillmode": "overlay",
              "size": 10,
              "solidity": 0.2
             }
            },
            "type": "bar"
           }
          ],
          "scattergeo": [
           {
            "type": "scattergeo",
            "marker": {
             "colorbar": {
              "outlinewidth": 0,
              "ticks": ""
             }
            }
           }
          ],
          "scatterpolar": [
           {
            "type": "scatterpolar",
            "marker": {
             "colorbar": {
              "outlinewidth": 0,
              "ticks": ""
             }
            }
           }
          ],
          "histogram": [
           {
            "marker": {
             "pattern": {
              "fillmode": "overlay",
              "size": 10,
              "solidity": 0.2
             }
            },
            "type": "histogram"
           }
          ],
          "scattergl": [
           {
            "marker": {
             "line": {
              "color": "#283442"
             }
            },
            "type": "scattergl"
           }
          ],
          "scatter3d": [
           {
            "type": "scatter3d",
            "line": {
             "colorbar": {
              "outlinewidth": 0,
              "ticks": ""
             }
            },
            "marker": {
             "colorbar": {
              "outlinewidth": 0,
              "ticks": ""
             }
            }
           }
          ],
          "scattermapbox": [
           {
            "type": "scattermapbox",
            "marker": {
             "colorbar": {
              "outlinewidth": 0,
              "ticks": ""
             }
            }
           }
          ],
          "scatterternary": [
           {
            "type": "scatterternary",
            "marker": {
             "colorbar": {
              "outlinewidth": 0,
              "ticks": ""
             }
            }
           }
          ],
          "scattercarpet": [
           {
            "type": "scattercarpet",
            "marker": {
             "colorbar": {
              "outlinewidth": 0,
              "ticks": ""
             }
            }
           }
          ],
          "carpet": [
           {
            "aaxis": {
             "endlinecolor": "#A2B1C6",
             "gridcolor": "#506784",
             "linecolor": "#506784",
             "minorgridcolor": "#506784",
             "startlinecolor": "#A2B1C6"
            },
            "baxis": {
             "endlinecolor": "#A2B1C6",
             "gridcolor": "#506784",
             "linecolor": "#506784",
             "minorgridcolor": "#506784",
             "startlinecolor": "#A2B1C6"
            },
            "type": "carpet"
           }
          ],
          "table": [
           {
            "cells": {
             "fill": {
              "color": "#506784"
             },
             "line": {
              "color": "rgb(17,17,17)"
             }
            },
            "header": {
             "fill": {
              "color": "#2a3f5f"
             },
             "line": {
              "color": "rgb(17,17,17)"
             }
            },
            "type": "table"
           }
          ],
          "barpolar": [
           {
            "marker": {
             "line": {
              "color": "rgb(17,17,17)",
              "width": 0.5
             },
             "pattern": {
              "fillmode": "overlay",
              "size": 10,
              "solidity": 0.2
             }
            },
            "type": "barpolar"
           }
          ],
          "pie": [
           {
            "automargin": true,
            "type": "pie"
           }
          ]
         },
         "layout": {
          "autotypenumbers": "strict",
          "colorway": [
           "#636efa",
           "#EF553B",
           "#00cc96",
           "#ab63fa",
           "#FFA15A",
           "#19d3f3",
           "#FF6692",
           "#B6E880",
           "#FF97FF",
           "#FECB52"
          ],
          "font": {
           "color": "#f2f5fa"
          },
          "hovermode": "closest",
          "hoverlabel": {
           "align": "left"
          },
          "paper_bgcolor": "rgb(17,17,17)",
          "plot_bgcolor": "rgb(17,17,17)",
          "polar": {
           "bgcolor": "rgb(17,17,17)",
           "angularaxis": {
            "gridcolor": "#506784",
            "linecolor": "#506784",
            "ticks": ""
           },
           "radialaxis": {
            "gridcolor": "#506784",
            "linecolor": "#506784",
            "ticks": ""
           }
          },
          "ternary": {
           "bgcolor": "rgb(17,17,17)",
           "aaxis": {
            "gridcolor": "#506784",
            "linecolor": "#506784",
            "ticks": ""
           },
           "baxis": {
            "gridcolor": "#506784",
            "linecolor": "#506784",
            "ticks": ""
           },
           "caxis": {
            "gridcolor": "#506784",
            "linecolor": "#506784",
            "ticks": ""
           }
          },
          "coloraxis": {
           "colorbar": {
            "outlinewidth": 0,
            "ticks": ""
           }
          },
          "colorscale": {
           "sequential": [
            [
             0.0,
             "#0d0887"
            ],
            [
             0.1111111111111111,
             "#46039f"
            ],
            [
             0.2222222222222222,
             "#7201a8"
            ],
            [
             0.3333333333333333,
             "#9c179e"
            ],
            [
             0.4444444444444444,
             "#bd3786"
            ],
            [
             0.5555555555555556,
             "#d8576b"
            ],
            [
             0.6666666666666666,
             "#ed7953"
            ],
            [
             0.7777777777777778,
             "#fb9f3a"
            ],
            [
             0.8888888888888888,
             "#fdca26"
            ],
            [
             1.0,
             "#f0f921"
            ]
           ],
           "sequentialminus": [
            [
             0.0,
             "#0d0887"
            ],
            [
             0.1111111111111111,
             "#46039f"
            ],
            [
             0.2222222222222222,
             "#7201a8"
            ],
            [
             0.3333333333333333,
             "#9c179e"
            ],
            [
             0.4444444444444444,
             "#bd3786"
            ],
            [
             0.5555555555555556,
             "#d8576b"
            ],
            [
             0.6666666666666666,
             "#ed7953"
            ],
            [
             0.7777777777777778,
             "#fb9f3a"
            ],
            [
             0.8888888888888888,
             "#fdca26"
            ],
            [
             1.0,
             "#f0f921"
            ]
           ],
           "diverging": [
            [
             0,
             "#8e0152"
            ],
            [
             0.1,
             "#c51b7d"
            ],
            [
             0.2,
             "#de77ae"
            ],
            [
             0.3,
             "#f1b6da"
            ],
            [
             0.4,
             "#fde0ef"
            ],
            [
             0.5,
             "#f7f7f7"
            ],
            [
             0.6,
             "#e6f5d0"
            ],
            [
             0.7,
             "#b8e186"
            ],
            [
             0.8,
             "#7fbc41"
            ],
            [
             0.9,
             "#4d9221"
            ],
            [
             1,
             "#276419"
            ]
           ]
          },
          "xaxis": {
           "gridcolor": "#283442",
           "linecolor": "#506784",
           "ticks": "",
           "title": {
            "standoff": 15
           },
           "zerolinecolor": "#283442",
           "automargin": true,
           "zerolinewidth": 2
          },
          "yaxis": {
           "gridcolor": "#283442",
           "linecolor": "#506784",
           "ticks": "",
           "title": {
            "standoff": 15
           },
           "zerolinecolor": "#283442",
           "automargin": true,
           "zerolinewidth": 2
          },
          "scene": {
           "xaxis": {
            "backgroundcolor": "rgb(17,17,17)",
            "gridcolor": "#506784",
            "linecolor": "#506784",
            "showbackground": true,
            "ticks": "",
            "zerolinecolor": "#C8D4E3",
            "gridwidth": 2
           },
           "yaxis": {
            "backgroundcolor": "rgb(17,17,17)",
            "gridcolor": "#506784",
            "linecolor": "#506784",
            "showbackground": true,
            "ticks": "",
            "zerolinecolor": "#C8D4E3",
            "gridwidth": 2
           },
           "zaxis": {
            "backgroundcolor": "rgb(17,17,17)",
            "gridcolor": "#506784",
            "linecolor": "#506784",
            "showbackground": true,
            "ticks": "",
            "zerolinecolor": "#C8D4E3",
            "gridwidth": 2
           }
          },
          "shapedefaults": {
           "line": {
            "color": "#f2f5fa"
           }
          },
          "annotationdefaults": {
           "arrowcolor": "#f2f5fa",
           "arrowhead": 0,
           "arrowwidth": 1
          },
          "geo": {
           "bgcolor": "rgb(17,17,17)",
           "landcolor": "rgb(17,17,17)",
           "subunitcolor": "#506784",
           "showland": true,
           "showlakes": true,
           "lakecolor": "rgb(17,17,17)"
          },
          "title": {
           "x": 0.05
          },
          "updatemenudefaults": {
           "bgcolor": "#506784",
           "borderwidth": 0
          },
          "sliderdefaults": {
           "bgcolor": "#C8D4E3",
           "borderwidth": 1,
           "bordercolor": "rgb(17,17,17)",
           "tickwidth": 0
          },
          "mapbox": {
           "style": "dark"
          }
         }
        },
        "xaxis": {
         "anchor": "y",
         "domain": [
          0.0,
          1.0
         ],
         "title": {
          "text": "Période"
         }
        },
        "yaxis": {
         "anchor": "x",
         "domain": [
          0.0,
          1.0
         ],
         "title": {
          "text": "Somme"
         }
        },
        "legend": {
         "title": {
          "text": "Chaîne"
         },
         "tracegroupgap": 0
        },
        "margin": {
         "t": 60
        }
       },
       "config": {
        "plotlyServerURL": "https://plot.ly"
       }
      },
      "text/html": "<div>                            <div id=\"a6801ef2-08ea-41b3-8395-8258fd9be2a5\" class=\"plotly-graph-div\" style=\"height:525px; width:100%;\"></div>            <script type=\"text/javascript\">                require([\"plotly\"], function(Plotly) {                    window.PLOTLYENV=window.PLOTLYENV || {};                                    if (document.getElementById(\"a6801ef2-08ea-41b3-8395-8258fd9be2a5\")) {                    Plotly.newPlot(                        \"a6801ef2-08ea-41b3-8395-8258fd9be2a5\",                        [{\"hovertemplate\":\"Cha\\u00eene=TF1<br>P\\u00e9riode=%{x}<br>Somme=%{y}<extra></extra>\",\"legendgroup\":\"TF1\",\"line\":{\"color\":\"#636efa\",\"dash\":\"solid\"},\"marker\":{\"symbol\":\"circle\"},\"mode\":\"lines\",\"name\":\"TF1\",\"orientation\":\"h\",\"showlegend\":true,\"x\":[1,2,3,4,5],\"xaxis\":\"x\",\"y\":[33.0,1308.0,1925.0,4.5e-08,\"00:00:2900:00:2900:09:5200:00:00\"],\"yaxis\":\"y\",\"type\":\"scatter\"},{\"hovertemplate\":\"Cha\\u00eene=France2<br>P\\u00e9riode=%{x}<br>Somme=%{y}<extra></extra>\",\"legendgroup\":\"France2\",\"line\":{\"color\":\"#EF553B\",\"dash\":\"solid\"},\"marker\":{\"symbol\":\"circle\"},\"mode\":\"lines\",\"name\":\"France2\",\"orientation\":\"h\",\"showlegend\":true,\"x\":[1,2,3,4,5],\"xaxis\":\"x\",\"y\":[28.0,72.0,4457.0,1.478e-06,\"00:00:2200:00:2200:32:0300:00:00\"],\"yaxis\":\"y\",\"type\":\"scatter\"},{\"hovertemplate\":\"Cha\\u00eene=France3<br>P\\u00e9riode=%{x}<br>Somme=%{y}<extra></extra>\",\"legendgroup\":\"France3\",\"line\":{\"color\":\"#00cc96\",\"dash\":\"solid\"},\"marker\":{\"symbol\":\"circle\"},\"mode\":\"lines\",\"name\":\"France3\",\"orientation\":\"h\",\"showlegend\":true,\"x\":[1,2,3,4,5],\"xaxis\":\"x\",\"y\":[53.0,1199.0,1279.0,6.5e-08,\"00:00:4500:00:4500:00:5300:00:00\"],\"yaxis\":\"y\",\"type\":\"scatter\"},{\"hovertemplate\":\"Cha\\u00eene=France5<br>P\\u00e9riode=%{x}<br>Somme=%{y}<extra></extra>\",\"legendgroup\":\"France5\",\"line\":{\"color\":\"#ab63fa\",\"dash\":\"solid\"},\"marker\":{\"symbol\":\"circle\"},\"mode\":\"lines\",\"name\":\"France5\",\"orientation\":\"h\",\"showlegend\":true,\"x\":[1,2,3,4,5],\"xaxis\":\"x\",\"y\":[1446.0,1754.0,2258.0,4.2600000000000003e-07,\"00:01:3600:01:3600:05:1100:02:34\"],\"yaxis\":\"y\",\"type\":\"scatter\"},{\"hovertemplate\":\"Cha\\u00eene=M6<br>P\\u00e9riode=%{x}<br>Somme=%{y}<extra></extra>\",\"legendgroup\":\"M6\",\"line\":{\"color\":\"#FFA15A\",\"dash\":\"solid\"},\"marker\":{\"symbol\":\"circle\"},\"mode\":\"lines\",\"name\":\"M6\",\"orientation\":\"h\",\"showlegend\":true,\"x\":[1,2,3,4,5],\"xaxis\":\"x\",\"y\":[30.0,121.0,1468.0,1.44e-07,\"00:01:0100:01:0100:00:5700:00:00\"],\"yaxis\":\"y\",\"type\":\"scatter\"},{\"hovertemplate\":\"Cha\\u00eene=C8<br>P\\u00e9riode=%{x}<br>Somme=%{y}<extra></extra>\",\"legendgroup\":\"C8\",\"line\":{\"color\":\"#19d3f3\",\"dash\":\"solid\"},\"marker\":{\"symbol\":\"circle\"},\"mode\":\"lines\",\"name\":\"C8\",\"orientation\":\"h\",\"showlegend\":true,\"x\":[1,2,3,4,5],\"xaxis\":\"x\",\"y\":[99.0,315.0,6005.0,8.2e-08,\"00:00:5600:00:5600:08:0400:00:00\"],\"yaxis\":\"y\",\"type\":\"scatter\"},{\"hovertemplate\":\"Cha\\u00eene=TMC<br>P\\u00e9riode=%{x}<br>Somme=%{y}<extra></extra>\",\"legendgroup\":\"TMC\",\"line\":{\"color\":\"#FF6692\",\"dash\":\"solid\"},\"marker\":{\"symbol\":\"circle\"},\"mode\":\"lines\",\"name\":\"TMC\",\"orientation\":\"h\",\"showlegend\":true,\"x\":[1,2,3,4,5],\"xaxis\":\"x\",\"y\":[291.0,422.0,952.0,4.81e-07,\"00:00:0000:00:0000:18:0000:00:00\"],\"yaxis\":\"y\",\"type\":\"scatter\"},{\"hovertemplate\":\"Cha\\u00eene=BFMTV<br>P\\u00e9riode=%{x}<br>Somme=%{y}<extra></extra>\",\"legendgroup\":\"BFMTV\",\"line\":{\"color\":\"#B6E880\",\"dash\":\"solid\"},\"marker\":{\"symbol\":\"circle\"},\"mode\":\"lines\",\"name\":\"BFMTV\",\"orientation\":\"h\",\"showlegend\":true,\"x\":[1,2,3,4,5],\"xaxis\":\"x\",\"y\":[923.0,8628.0,13682.0,7.28e-07,\"00:10:0000:10:0000:09:5500:03:18\"],\"yaxis\":\"y\",\"type\":\"scatter\"},{\"hovertemplate\":\"Cha\\u00eene=Cnews<br>P\\u00e9riode=%{x}<br>Somme=%{y}<extra></extra>\",\"legendgroup\":\"Cnews\",\"line\":{\"color\":\"#FF97FF\",\"dash\":\"solid\"},\"marker\":{\"symbol\":\"circle\"},\"mode\":\"lines\",\"name\":\"Cnews\",\"orientation\":\"h\",\"showlegend\":true,\"x\":[1,2,3,4,5],\"xaxis\":\"x\",\"y\":[5958.0,26420.0,31524.0,4.222999999999999e-06,\"00:32:0600:32:0600:08:4600:08:25\"],\"yaxis\":\"y\",\"type\":\"scatter\"},{\"hovertemplate\":\"Cha\\u00eene=LCI<br>P\\u00e9riode=%{x}<br>Somme=%{y}<extra></extra>\",\"legendgroup\":\"LCI\",\"line\":{\"color\":\"#FECB52\",\"dash\":\"solid\"},\"marker\":{\"symbol\":\"circle\"},\"mode\":\"lines\",\"name\":\"LCI\",\"orientation\":\"h\",\"showlegend\":true,\"x\":[1,2,3,4,5],\"xaxis\":\"x\",\"y\":[426.0,13780.0,18381.0,7.69e-06,\"01:30:1301:30:1300:30:3900:00:00\"],\"yaxis\":\"y\",\"type\":\"scatter\"},{\"hovertemplate\":\"Cha\\u00eene=FranceinfoTV<br>P\\u00e9riode=%{x}<br>Somme=%{y}<extra></extra>\",\"legendgroup\":\"FranceinfoTV\",\"line\":{\"color\":\"#636efa\",\"dash\":\"solid\"},\"marker\":{\"symbol\":\"circle\"},\"mode\":\"lines\",\"name\":\"FranceinfoTV\",\"orientation\":\"h\",\"showlegend\":true,\"x\":[1,2,3,4,5],\"xaxis\":\"x\",\"y\":[1658.0,11464.0,17933.0,8.636e-06,\"01:17:3701:17:3700:25:2100:03:46\"],\"yaxis\":\"y\",\"type\":\"scatter\"},{\"hovertemplate\":\"Cha\\u00eene=FranceInter<br>P\\u00e9riode=%{x}<br>Somme=%{y}<extra></extra>\",\"legendgroup\":\"FranceInter\",\"line\":{\"color\":\"#EF553B\",\"dash\":\"solid\"},\"marker\":{\"symbol\":\"circle\"},\"mode\":\"lines\",\"name\":\"FranceInter\",\"orientation\":\"h\",\"showlegend\":true,\"x\":[1,2,3,4,5],\"xaxis\":\"x\",\"y\":[305.0,1761.0,1971.0,6.46e-07,\"00:04:4200:04:4200:04:0000:01:01\"],\"yaxis\":\"y\",\"type\":\"scatter\"},{\"hovertemplate\":\"Cha\\u00eene=FranceInfo<br>P\\u00e9riode=%{x}<br>Somme=%{y}<extra></extra>\",\"legendgroup\":\"FranceInfo\",\"line\":{\"color\":\"#00cc96\",\"dash\":\"solid\"},\"marker\":{\"symbol\":\"circle\"},\"mode\":\"lines\",\"name\":\"FranceInfo\",\"orientation\":\"h\",\"showlegend\":true,\"x\":[1,2,3,4,5],\"xaxis\":\"x\",\"y\":[399.0,3081.0,6265.0,3.627e-06,\"00:29:3500:29:3500:18:0000:08:33\"],\"yaxis\":\"y\",\"type\":\"scatter\"},{\"hovertemplate\":\"Cha\\u00eene=FranceCulture<br>P\\u00e9riode=%{x}<br>Somme=%{y}<extra></extra>\",\"legendgroup\":\"FranceCulture\",\"line\":{\"color\":\"#ab63fa\",\"dash\":\"solid\"},\"marker\":{\"symbol\":\"circle\"},\"mode\":\"lines\",\"name\":\"FranceCulture\",\"orientation\":\"h\",\"showlegend\":true,\"x\":[1,2,3,4,5],\"xaxis\":\"x\",\"y\":[1831.0,1876.0,2645.0,2.7e-08,\"00:03:5900:03:5900:01:0800:00:00\"],\"yaxis\":\"y\",\"type\":\"scatter\"},{\"hovertemplate\":\"Cha\\u00eene=RTL<br>P\\u00e9riode=%{x}<br>Somme=%{y}<extra></extra>\",\"legendgroup\":\"RTL\",\"line\":{\"color\":\"#FFA15A\",\"dash\":\"solid\"},\"marker\":{\"symbol\":\"circle\"},\"mode\":\"lines\",\"name\":\"RTL\",\"orientation\":\"h\",\"showlegend\":true,\"x\":[1,2,3,4,5],\"xaxis\":\"x\",\"y\":[368.0,7194.0,7759.0,6.99e-07,\"00:04:4400:04:4400:02:5600:03:01\"],\"yaxis\":\"y\",\"type\":\"scatter\"},{\"hovertemplate\":\"Cha\\u00eene=Europe1<br>P\\u00e9riode=%{x}<br>Somme=%{y}<extra></extra>\",\"legendgroup\":\"Europe1\",\"line\":{\"color\":\"#19d3f3\",\"dash\":\"solid\"},\"marker\":{\"symbol\":\"circle\"},\"mode\":\"lines\",\"name\":\"Europe1\",\"orientation\":\"h\",\"showlegend\":true,\"x\":[1,2,3,4,5],\"xaxis\":\"x\",\"y\":[3302.0,6152.0,8562.0,1.025e-06,\"00:20:5300:20:5300:07:1700:01:58\"],\"yaxis\":\"y\",\"type\":\"scatter\"},{\"hovertemplate\":\"Cha\\u00eene=RMC<br>P\\u00e9riode=%{x}<br>Somme=%{y}<extra></extra>\",\"legendgroup\":\"RMC\",\"line\":{\"color\":\"#FF6692\",\"dash\":\"solid\"},\"marker\":{\"symbol\":\"circle\"},\"mode\":\"lines\",\"name\":\"RMC\",\"orientation\":\"h\",\"showlegend\":true,\"x\":[1,2,3,4,5],\"xaxis\":\"x\",\"y\":[8405.0,8425.0,8593.0,4.95e-07,\"00:04:5400:04:5400:00:0000:07:20\"],\"yaxis\":\"y\",\"type\":\"scatter\"},{\"hovertemplate\":\"Cha\\u00eene=BFMBusiness<br>P\\u00e9riode=%{x}<br>Somme=%{y}<extra></extra>\",\"legendgroup\":\"BFMBusiness\",\"line\":{\"color\":\"#B6E880\",\"dash\":\"solid\"},\"marker\":{\"symbol\":\"circle\"},\"mode\":\"lines\",\"name\":\"BFMBusiness\",\"orientation\":\"h\",\"showlegend\":true,\"x\":[1,2,3],\"xaxis\":\"x\",\"y\":[125.0,125.0,1648.0],\"yaxis\":\"y\",\"type\":\"scatter\"},{\"hovertemplate\":\"Cha\\u00eene=RadioClassique<br>P\\u00e9riode=%{x}<br>Somme=%{y}<extra></extra>\",\"legendgroup\":\"RadioClassique\",\"line\":{\"color\":\"#FF97FF\",\"dash\":\"solid\"},\"marker\":{\"symbol\":\"circle\"},\"mode\":\"lines\",\"name\":\"RadioClassique\",\"orientation\":\"h\",\"showlegend\":true,\"x\":[1,2,3,4,5],\"xaxis\":\"x\",\"y\":[0.0,0.0,0.0,0.0,\"00:00:0000:00:0000:00:0000:00:00\"],\"yaxis\":\"y\",\"type\":\"scatter\"},{\"hovertemplate\":\"Cha\\u00eene=SudRadio<br>P\\u00e9riode=%{x}<br>Somme=%{y}<extra></extra>\",\"legendgroup\":\"SudRadio\",\"line\":{\"color\":\"#FECB52\",\"dash\":\"solid\"},\"marker\":{\"symbol\":\"circle\"},\"mode\":\"lines\",\"name\":\"SudRadio\",\"orientation\":\"h\",\"showlegend\":true,\"x\":[1,2,3,4,5],\"xaxis\":\"x\",\"y\":[0.0,1348.0,1543.0,4.6e-08,\"00:00:4500:00:4500:00:1000:00:00\"],\"yaxis\":\"y\",\"type\":\"scatter\"},{\"hovertemplate\":\"Cha\\u00eene=TV5Monde<br>P\\u00e9riode=%{x}<br>Somme=%{y}<extra></extra>\",\"legendgroup\":\"TV5Monde\",\"line\":{\"color\":\"#636efa\",\"dash\":\"solid\"},\"marker\":{\"symbol\":\"circle\"},\"mode\":\"lines\",\"name\":\"TV5Monde\",\"orientation\":\"h\",\"showlegend\":true,\"x\":[1,2,3,4,5],\"xaxis\":\"x\",\"y\":[37.0,129.0,3800.0,1.404e-06,\"00:00:1900:00:1900:30:1100:00:00\"],\"yaxis\":\"y\",\"type\":\"scatter\"},{\"hovertemplate\":\"Cha\\u00eene=Euronews<br>P\\u00e9riode=%{x}<br>Somme=%{y}<extra></extra>\",\"legendgroup\":\"Euronews\",\"line\":{\"color\":\"#EF553B\",\"dash\":\"solid\"},\"marker\":{\"symbol\":\"circle\"},\"mode\":\"lines\",\"name\":\"Euronews\",\"orientation\":\"h\",\"showlegend\":true,\"x\":[1,2,3],\"xaxis\":\"x\",\"y\":[0.0,0.0,0.0],\"yaxis\":\"y\",\"type\":\"scatter\"},{\"hovertemplate\":\"Cha\\u00eene=RFI<br>P\\u00e9riode=%{x}<br>Somme=%{y}<extra></extra>\",\"legendgroup\":\"RFI\",\"line\":{\"color\":\"#00cc96\",\"dash\":\"solid\"},\"marker\":{\"symbol\":\"circle\"},\"mode\":\"lines\",\"name\":\"RFI\",\"orientation\":\"h\",\"showlegend\":true,\"x\":[1,2,3,4,5],\"xaxis\":\"x\",\"y\":[480.0,681.0,2889.0,6.249999999999999e-07,\"00:07:0400:07:0400:02:1900:03:34\"],\"yaxis\":\"y\",\"type\":\"scatter\"},{\"hovertemplate\":\"Cha\\u00eene=France24<br>P\\u00e9riode=%{x}<br>Somme=%{y}<extra></extra>\",\"legendgroup\":\"France24\",\"line\":{\"color\":\"#ab63fa\",\"dash\":\"solid\"},\"marker\":{\"symbol\":\"circle\"},\"mode\":\"lines\",\"name\":\"France24\",\"orientation\":\"h\",\"showlegend\":true,\"x\":[1,2,3,4,5],\"xaxis\":\"x\",\"y\":[16.0,186.0,1714.0,8.24e-07,\"00:05:3800:05:3800:04:3900:03:23\"],\"yaxis\":\"y\",\"type\":\"scatter\"},{\"hovertemplate\":\"Cha\\u00eene=RMC Story<br>P\\u00e9riode=%{x}<br>Somme=%{y}<extra></extra>\",\"legendgroup\":\"RMC Story\",\"line\":{\"color\":\"#FFA15A\",\"dash\":\"solid\"},\"marker\":{\"symbol\":\"circle\"},\"mode\":\"lines\",\"name\":\"RMC Story\",\"orientation\":\"h\",\"showlegend\":true,\"x\":[1,2,3,4,5],\"xaxis\":\"x\",\"y\":[5470.0,5480.0,5480.0,1.02e-07,\"00:03:4200:03:4200:00:0000:00:00\"],\"yaxis\":\"y\",\"type\":\"scatter\"},{\"hovertemplate\":\"Cha\\u00eene=RMCDecouverte<br>P\\u00e9riode=%{x}<br>Somme=%{y}<extra></extra>\",\"legendgroup\":\"RMCDecouverte\",\"line\":{\"color\":\"#19d3f3\",\"dash\":\"solid\"},\"marker\":{\"symbol\":\"circle\"},\"mode\":\"lines\",\"name\":\"RMCDecouverte\",\"orientation\":\"h\",\"showlegend\":true,\"x\":[3],\"xaxis\":\"x\",\"y\":[0.0],\"yaxis\":\"y\",\"type\":\"scatter\"}],                        {\"template\":{\"data\":{\"histogram2dcontour\":[{\"type\":\"histogram2dcontour\",\"colorbar\":{\"outlinewidth\":0,\"ticks\":\"\"},\"colorscale\":[[0.0,\"#0d0887\"],[0.1111111111111111,\"#46039f\"],[0.2222222222222222,\"#7201a8\"],[0.3333333333333333,\"#9c179e\"],[0.4444444444444444,\"#bd3786\"],[0.5555555555555556,\"#d8576b\"],[0.6666666666666666,\"#ed7953\"],[0.7777777777777778,\"#fb9f3a\"],[0.8888888888888888,\"#fdca26\"],[1.0,\"#f0f921\"]]}],\"choropleth\":[{\"type\":\"choropleth\",\"colorbar\":{\"outlinewidth\":0,\"ticks\":\"\"}}],\"histogram2d\":[{\"type\":\"histogram2d\",\"colorbar\":{\"outlinewidth\":0,\"ticks\":\"\"},\"colorscale\":[[0.0,\"#0d0887\"],[0.1111111111111111,\"#46039f\"],[0.2222222222222222,\"#7201a8\"],[0.3333333333333333,\"#9c179e\"],[0.4444444444444444,\"#bd3786\"],[0.5555555555555556,\"#d8576b\"],[0.6666666666666666,\"#ed7953\"],[0.7777777777777778,\"#fb9f3a\"],[0.8888888888888888,\"#fdca26\"],[1.0,\"#f0f921\"]]}],\"heatmap\":[{\"type\":\"heatmap\",\"colorbar\":{\"outlinewidth\":0,\"ticks\":\"\"},\"colorscale\":[[0.0,\"#0d0887\"],[0.1111111111111111,\"#46039f\"],[0.2222222222222222,\"#7201a8\"],[0.3333333333333333,\"#9c179e\"],[0.4444444444444444,\"#bd3786\"],[0.5555555555555556,\"#d8576b\"],[0.6666666666666666,\"#ed7953\"],[0.7777777777777778,\"#fb9f3a\"],[0.8888888888888888,\"#fdca26\"],[1.0,\"#f0f921\"]]}],\"heatmapgl\":[{\"type\":\"heatmapgl\",\"colorbar\":{\"outlinewidth\":0,\"ticks\":\"\"},\"colorscale\":[[0.0,\"#0d0887\"],[0.1111111111111111,\"#46039f\"],[0.2222222222222222,\"#7201a8\"],[0.3333333333333333,\"#9c179e\"],[0.4444444444444444,\"#bd3786\"],[0.5555555555555556,\"#d8576b\"],[0.6666666666666666,\"#ed7953\"],[0.7777777777777778,\"#fb9f3a\"],[0.8888888888888888,\"#fdca26\"],[1.0,\"#f0f921\"]]}],\"contourcarpet\":[{\"type\":\"contourcarpet\",\"colorbar\":{\"outlinewidth\":0,\"ticks\":\"\"}}],\"contour\":[{\"type\":\"contour\",\"colorbar\":{\"outlinewidth\":0,\"ticks\":\"\"},\"colorscale\":[[0.0,\"#0d0887\"],[0.1111111111111111,\"#46039f\"],[0.2222222222222222,\"#7201a8\"],[0.3333333333333333,\"#9c179e\"],[0.4444444444444444,\"#bd3786\"],[0.5555555555555556,\"#d8576b\"],[0.6666666666666666,\"#ed7953\"],[0.7777777777777778,\"#fb9f3a\"],[0.8888888888888888,\"#fdca26\"],[1.0,\"#f0f921\"]]}],\"surface\":[{\"type\":\"surface\",\"colorbar\":{\"outlinewidth\":0,\"ticks\":\"\"},\"colorscale\":[[0.0,\"#0d0887\"],[0.1111111111111111,\"#46039f\"],[0.2222222222222222,\"#7201a8\"],[0.3333333333333333,\"#9c179e\"],[0.4444444444444444,\"#bd3786\"],[0.5555555555555556,\"#d8576b\"],[0.6666666666666666,\"#ed7953\"],[0.7777777777777778,\"#fb9f3a\"],[0.8888888888888888,\"#fdca26\"],[1.0,\"#f0f921\"]]}],\"mesh3d\":[{\"type\":\"mesh3d\",\"colorbar\":{\"outlinewidth\":0,\"ticks\":\"\"}}],\"scatter\":[{\"marker\":{\"line\":{\"color\":\"#283442\"}},\"type\":\"scatter\"}],\"parcoords\":[{\"type\":\"parcoords\",\"line\":{\"colorbar\":{\"outlinewidth\":0,\"ticks\":\"\"}}}],\"scatterpolargl\":[{\"type\":\"scatterpolargl\",\"marker\":{\"colorbar\":{\"outlinewidth\":0,\"ticks\":\"\"}}}],\"bar\":[{\"error_x\":{\"color\":\"#f2f5fa\"},\"error_y\":{\"color\":\"#f2f5fa\"},\"marker\":{\"line\":{\"color\":\"rgb(17,17,17)\",\"width\":0.5},\"pattern\":{\"fillmode\":\"overlay\",\"size\":10,\"solidity\":0.2}},\"type\":\"bar\"}],\"scattergeo\":[{\"type\":\"scattergeo\",\"marker\":{\"colorbar\":{\"outlinewidth\":0,\"ticks\":\"\"}}}],\"scatterpolar\":[{\"type\":\"scatterpolar\",\"marker\":{\"colorbar\":{\"outlinewidth\":0,\"ticks\":\"\"}}}],\"histogram\":[{\"marker\":{\"pattern\":{\"fillmode\":\"overlay\",\"size\":10,\"solidity\":0.2}},\"type\":\"histogram\"}],\"scattergl\":[{\"marker\":{\"line\":{\"color\":\"#283442\"}},\"type\":\"scattergl\"}],\"scatter3d\":[{\"type\":\"scatter3d\",\"line\":{\"colorbar\":{\"outlinewidth\":0,\"ticks\":\"\"}},\"marker\":{\"colorbar\":{\"outlinewidth\":0,\"ticks\":\"\"}}}],\"scattermapbox\":[{\"type\":\"scattermapbox\",\"marker\":{\"colorbar\":{\"outlinewidth\":0,\"ticks\":\"\"}}}],\"scatterternary\":[{\"type\":\"scatterternary\",\"marker\":{\"colorbar\":{\"outlinewidth\":0,\"ticks\":\"\"}}}],\"scattercarpet\":[{\"type\":\"scattercarpet\",\"marker\":{\"colorbar\":{\"outlinewidth\":0,\"ticks\":\"\"}}}],\"carpet\":[{\"aaxis\":{\"endlinecolor\":\"#A2B1C6\",\"gridcolor\":\"#506784\",\"linecolor\":\"#506784\",\"minorgridcolor\":\"#506784\",\"startlinecolor\":\"#A2B1C6\"},\"baxis\":{\"endlinecolor\":\"#A2B1C6\",\"gridcolor\":\"#506784\",\"linecolor\":\"#506784\",\"minorgridcolor\":\"#506784\",\"startlinecolor\":\"#A2B1C6\"},\"type\":\"carpet\"}],\"table\":[{\"cells\":{\"fill\":{\"color\":\"#506784\"},\"line\":{\"color\":\"rgb(17,17,17)\"}},\"header\":{\"fill\":{\"color\":\"#2a3f5f\"},\"line\":{\"color\":\"rgb(17,17,17)\"}},\"type\":\"table\"}],\"barpolar\":[{\"marker\":{\"line\":{\"color\":\"rgb(17,17,17)\",\"width\":0.5},\"pattern\":{\"fillmode\":\"overlay\",\"size\":10,\"solidity\":0.2}},\"type\":\"barpolar\"}],\"pie\":[{\"automargin\":true,\"type\":\"pie\"}]},\"layout\":{\"autotypenumbers\":\"strict\",\"colorway\":[\"#636efa\",\"#EF553B\",\"#00cc96\",\"#ab63fa\",\"#FFA15A\",\"#19d3f3\",\"#FF6692\",\"#B6E880\",\"#FF97FF\",\"#FECB52\"],\"font\":{\"color\":\"#f2f5fa\"},\"hovermode\":\"closest\",\"hoverlabel\":{\"align\":\"left\"},\"paper_bgcolor\":\"rgb(17,17,17)\",\"plot_bgcolor\":\"rgb(17,17,17)\",\"polar\":{\"bgcolor\":\"rgb(17,17,17)\",\"angularaxis\":{\"gridcolor\":\"#506784\",\"linecolor\":\"#506784\",\"ticks\":\"\"},\"radialaxis\":{\"gridcolor\":\"#506784\",\"linecolor\":\"#506784\",\"ticks\":\"\"}},\"ternary\":{\"bgcolor\":\"rgb(17,17,17)\",\"aaxis\":{\"gridcolor\":\"#506784\",\"linecolor\":\"#506784\",\"ticks\":\"\"},\"baxis\":{\"gridcolor\":\"#506784\",\"linecolor\":\"#506784\",\"ticks\":\"\"},\"caxis\":{\"gridcolor\":\"#506784\",\"linecolor\":\"#506784\",\"ticks\":\"\"}},\"coloraxis\":{\"colorbar\":{\"outlinewidth\":0,\"ticks\":\"\"}},\"colorscale\":{\"sequential\":[[0.0,\"#0d0887\"],[0.1111111111111111,\"#46039f\"],[0.2222222222222222,\"#7201a8\"],[0.3333333333333333,\"#9c179e\"],[0.4444444444444444,\"#bd3786\"],[0.5555555555555556,\"#d8576b\"],[0.6666666666666666,\"#ed7953\"],[0.7777777777777778,\"#fb9f3a\"],[0.8888888888888888,\"#fdca26\"],[1.0,\"#f0f921\"]],\"sequentialminus\":[[0.0,\"#0d0887\"],[0.1111111111111111,\"#46039f\"],[0.2222222222222222,\"#7201a8\"],[0.3333333333333333,\"#9c179e\"],[0.4444444444444444,\"#bd3786\"],[0.5555555555555556,\"#d8576b\"],[0.6666666666666666,\"#ed7953\"],[0.7777777777777778,\"#fb9f3a\"],[0.8888888888888888,\"#fdca26\"],[1.0,\"#f0f921\"]],\"diverging\":[[0,\"#8e0152\"],[0.1,\"#c51b7d\"],[0.2,\"#de77ae\"],[0.3,\"#f1b6da\"],[0.4,\"#fde0ef\"],[0.5,\"#f7f7f7\"],[0.6,\"#e6f5d0\"],[0.7,\"#b8e186\"],[0.8,\"#7fbc41\"],[0.9,\"#4d9221\"],[1,\"#276419\"]]},\"xaxis\":{\"gridcolor\":\"#283442\",\"linecolor\":\"#506784\",\"ticks\":\"\",\"title\":{\"standoff\":15},\"zerolinecolor\":\"#283442\",\"automargin\":true,\"zerolinewidth\":2},\"yaxis\":{\"gridcolor\":\"#283442\",\"linecolor\":\"#506784\",\"ticks\":\"\",\"title\":{\"standoff\":15},\"zerolinecolor\":\"#283442\",\"automargin\":true,\"zerolinewidth\":2},\"scene\":{\"xaxis\":{\"backgroundcolor\":\"rgb(17,17,17)\",\"gridcolor\":\"#506784\",\"linecolor\":\"#506784\",\"showbackground\":true,\"ticks\":\"\",\"zerolinecolor\":\"#C8D4E3\",\"gridwidth\":2},\"yaxis\":{\"backgroundcolor\":\"rgb(17,17,17)\",\"gridcolor\":\"#506784\",\"linecolor\":\"#506784\",\"showbackground\":true,\"ticks\":\"\",\"zerolinecolor\":\"#C8D4E3\",\"gridwidth\":2},\"zaxis\":{\"backgroundcolor\":\"rgb(17,17,17)\",\"gridcolor\":\"#506784\",\"linecolor\":\"#506784\",\"showbackground\":true,\"ticks\":\"\",\"zerolinecolor\":\"#C8D4E3\",\"gridwidth\":2}},\"shapedefaults\":{\"line\":{\"color\":\"#f2f5fa\"}},\"annotationdefaults\":{\"arrowcolor\":\"#f2f5fa\",\"arrowhead\":0,\"arrowwidth\":1},\"geo\":{\"bgcolor\":\"rgb(17,17,17)\",\"landcolor\":\"rgb(17,17,17)\",\"subunitcolor\":\"#506784\",\"showland\":true,\"showlakes\":true,\"lakecolor\":\"rgb(17,17,17)\"},\"title\":{\"x\":0.05},\"updatemenudefaults\":{\"bgcolor\":\"#506784\",\"borderwidth\":0},\"sliderdefaults\":{\"bgcolor\":\"#C8D4E3\",\"borderwidth\":1,\"bordercolor\":\"rgb(17,17,17)\",\"tickwidth\":0},\"mapbox\":{\"style\":\"dark\"}}},\"xaxis\":{\"anchor\":\"y\",\"domain\":[0.0,1.0],\"title\":{\"text\":\"P\\u00e9riode\"}},\"yaxis\":{\"anchor\":\"x\",\"domain\":[0.0,1.0],\"title\":{\"text\":\"Somme\"}},\"legend\":{\"title\":{\"text\":\"Cha\\u00eene\"},\"tracegroupgap\":0},\"margin\":{\"t\":60}},                        {\"responsive\": true}                    ).then(function(){\n                            \nvar gd = document.getElementById('a6801ef2-08ea-41b3-8395-8258fd9be2a5');\nvar x = new MutationObserver(function (mutations, observer) {{\n        var display = window.getComputedStyle(gd).display;\n        if (!display || display === 'none') {{\n            console.log([gd, 'removed!']);\n            Plotly.purge(gd);\n            observer.disconnect();\n        }}\n}});\n\n// Listen for the removal of the full notebook cells\nvar notebookContainer = gd.closest('#notebook-container');\nif (notebookContainer) {{\n    x.observe(notebookContainer, {childList: true});\n}}\n\n// Listen for the clearing of the current output cell\nvar outputEl = gd.closest('.output');\nif (outputEl) {{\n    x.observe(outputEl, {childList: true});\n}}\n\n                        })                };                });            </script>        </div>"
     },
     "metadata": {},
     "output_type": "display_data"
    }
   ],
   "source": [
    "px.line(df_melenchon, x='Période', y=\"Somme\", color='Chaîne')"
   ],
   "metadata": {
    "collapsed": false,
    "pycharm": {
     "name": "#%%\n"
    }
   }
  },
  {
   "cell_type": "code",
   "execution_count": 38,
   "outputs": [],
   "source": [],
   "metadata": {
    "collapsed": false,
    "pycharm": {
     "name": "#%%\n"
    }
   }
  }
 ],
 "metadata": {
  "kernelspec": {
   "display_name": "Python 3",
   "language": "python",
   "name": "python3"
  },
  "language_info": {
   "codemirror_mode": {
    "name": "ipython",
    "version": 2
   },
   "file_extension": ".py",
   "mimetype": "text/x-python",
   "name": "python",
   "nbconvert_exporter": "python",
   "pygments_lexer": "ipython2",
   "version": "2.7.6"
  }
 },
 "nbformat": 4,
 "nbformat_minor": 0
}