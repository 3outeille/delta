{
 "cells": [
  {
   "cell_type": "code",
   "execution_count": 15,
   "id": "33cff7b3",
   "metadata": {},
   "outputs": [],
   "source": [
    "import numpy as np               # bibliothèque qui ajoute les tables\n",
    "import pandas as pd              # bibliothèque qui ajoute les tableaux (tableurs)\n",
    "import matplotlib.pyplot as plt  # bibliothèque graphique pour tracer des courbes"
   ]
  },
  {
   "cell_type": "code",
   "execution_count": 16,
   "id": "39fcd7a0",
   "metadata": {},
   "outputs": [],
   "source": [
    "# DATASETS\n",
    "# https://www.kaggle.com/datasets/ravnitlotay/leagueoflegends-champions-game-champions-outcome/code\n",
    "# STEP 1 : Identify how to extract data\n",
    "# STEP 2 : Automate to apply on multiple dataset\n",
    "#"
   ]
  },
  {
   "cell_type": "code",
   "execution_count": 2,
   "id": "06093d76",
   "metadata": {},
   "outputs": [],
   "source": [
    "# commandes magiques Jupyter pour voir les graphiques dans cette page :\n",
    "%matplotlib inline                           \n",
    "%config InlineBackend.figure_format = 'retina'"
   ]
  },
  {
   "cell_type": "code",
   "execution_count": 65,
   "id": "afe5e0d7",
   "metadata": {},
   "outputs": [
    {
     "name": "stdout",
     "output_type": "stream",
     "text": [
      "(5960, 319)\n"
     ]
    },
    {
     "data": {
      "text/html": [
       "<div>\n",
       "<style scoped>\n",
       "    .dataframe tbody tr th:only-of-type {\n",
       "        vertical-align: middle;\n",
       "    }\n",
       "\n",
       "    .dataframe tbody tr th {\n",
       "        vertical-align: top;\n",
       "    }\n",
       "\n",
       "    .dataframe thead th {\n",
       "        text-align: right;\n",
       "    }\n",
       "</style>\n",
       "<table border=\"1\" class=\"dataframe\">\n",
       "  <thead>\n",
       "    <tr style=\"text-align: right;\">\n",
       "      <th></th>\n",
       "      <th>aatrox_blue</th>\n",
       "      <th>aatrox_red</th>\n",
       "      <th>ahri_blue</th>\n",
       "      <th>ahri_red</th>\n",
       "      <th>akali_blue</th>\n",
       "      <th>akali_red</th>\n",
       "      <th>akshan_blue</th>\n",
       "      <th>akshan_red</th>\n",
       "      <th>alistar_blue</th>\n",
       "      <th>alistar_red</th>\n",
       "      <th>...</th>\n",
       "      <th>zeri_red</th>\n",
       "      <th>ziggs_blue</th>\n",
       "      <th>ziggs_red</th>\n",
       "      <th>zilean_blue</th>\n",
       "      <th>zilean_red</th>\n",
       "      <th>zoe_blue</th>\n",
       "      <th>zoe_red</th>\n",
       "      <th>zyra_blue</th>\n",
       "      <th>zyra_red</th>\n",
       "      <th>blue_team_win</th>\n",
       "    </tr>\n",
       "  </thead>\n",
       "  <tbody>\n",
       "    <tr>\n",
       "      <th>0</th>\n",
       "      <td>0.0</td>\n",
       "      <td>0.0</td>\n",
       "      <td>0.0</td>\n",
       "      <td>0.0</td>\n",
       "      <td>0.0</td>\n",
       "      <td>0.0</td>\n",
       "      <td>0.0</td>\n",
       "      <td>0.0</td>\n",
       "      <td>0.0</td>\n",
       "      <td>0.0</td>\n",
       "      <td>...</td>\n",
       "      <td>0.0</td>\n",
       "      <td>0.0</td>\n",
       "      <td>0.0</td>\n",
       "      <td>0.0</td>\n",
       "      <td>0.0</td>\n",
       "      <td>0.0</td>\n",
       "      <td>0.0</td>\n",
       "      <td>0.0</td>\n",
       "      <td>0.0</td>\n",
       "      <td>1.0</td>\n",
       "    </tr>\n",
       "    <tr>\n",
       "      <th>1</th>\n",
       "      <td>0.0</td>\n",
       "      <td>0.0</td>\n",
       "      <td>0.0</td>\n",
       "      <td>0.0</td>\n",
       "      <td>1.0</td>\n",
       "      <td>0.0</td>\n",
       "      <td>0.0</td>\n",
       "      <td>0.0</td>\n",
       "      <td>1.0</td>\n",
       "      <td>0.0</td>\n",
       "      <td>...</td>\n",
       "      <td>0.0</td>\n",
       "      <td>0.0</td>\n",
       "      <td>0.0</td>\n",
       "      <td>0.0</td>\n",
       "      <td>0.0</td>\n",
       "      <td>0.0</td>\n",
       "      <td>0.0</td>\n",
       "      <td>0.0</td>\n",
       "      <td>0.0</td>\n",
       "      <td>0.0</td>\n",
       "    </tr>\n",
       "    <tr>\n",
       "      <th>2</th>\n",
       "      <td>0.0</td>\n",
       "      <td>0.0</td>\n",
       "      <td>0.0</td>\n",
       "      <td>0.0</td>\n",
       "      <td>0.0</td>\n",
       "      <td>0.0</td>\n",
       "      <td>0.0</td>\n",
       "      <td>0.0</td>\n",
       "      <td>0.0</td>\n",
       "      <td>0.0</td>\n",
       "      <td>...</td>\n",
       "      <td>0.0</td>\n",
       "      <td>0.0</td>\n",
       "      <td>0.0</td>\n",
       "      <td>0.0</td>\n",
       "      <td>0.0</td>\n",
       "      <td>0.0</td>\n",
       "      <td>0.0</td>\n",
       "      <td>0.0</td>\n",
       "      <td>0.0</td>\n",
       "      <td>1.0</td>\n",
       "    </tr>\n",
       "    <tr>\n",
       "      <th>3</th>\n",
       "      <td>0.0</td>\n",
       "      <td>0.0</td>\n",
       "      <td>0.0</td>\n",
       "      <td>0.0</td>\n",
       "      <td>0.0</td>\n",
       "      <td>0.0</td>\n",
       "      <td>0.0</td>\n",
       "      <td>0.0</td>\n",
       "      <td>0.0</td>\n",
       "      <td>0.0</td>\n",
       "      <td>...</td>\n",
       "      <td>0.0</td>\n",
       "      <td>0.0</td>\n",
       "      <td>0.0</td>\n",
       "      <td>0.0</td>\n",
       "      <td>0.0</td>\n",
       "      <td>0.0</td>\n",
       "      <td>0.0</td>\n",
       "      <td>0.0</td>\n",
       "      <td>0.0</td>\n",
       "      <td>0.0</td>\n",
       "    </tr>\n",
       "    <tr>\n",
       "      <th>4</th>\n",
       "      <td>0.0</td>\n",
       "      <td>1.0</td>\n",
       "      <td>0.0</td>\n",
       "      <td>0.0</td>\n",
       "      <td>0.0</td>\n",
       "      <td>0.0</td>\n",
       "      <td>0.0</td>\n",
       "      <td>0.0</td>\n",
       "      <td>0.0</td>\n",
       "      <td>0.0</td>\n",
       "      <td>...</td>\n",
       "      <td>0.0</td>\n",
       "      <td>0.0</td>\n",
       "      <td>0.0</td>\n",
       "      <td>0.0</td>\n",
       "      <td>0.0</td>\n",
       "      <td>0.0</td>\n",
       "      <td>0.0</td>\n",
       "      <td>0.0</td>\n",
       "      <td>0.0</td>\n",
       "      <td>0.0</td>\n",
       "    </tr>\n",
       "  </tbody>\n",
       "</table>\n",
       "<p>5 rows × 319 columns</p>\n",
       "</div>"
      ],
      "text/plain": [
       "   aatrox_blue  aatrox_red  ahri_blue  ahri_red  akali_blue  akali_red  \\\n",
       "0          0.0         0.0        0.0       0.0         0.0        0.0   \n",
       "1          0.0         0.0        0.0       0.0         1.0        0.0   \n",
       "2          0.0         0.0        0.0       0.0         0.0        0.0   \n",
       "3          0.0         0.0        0.0       0.0         0.0        0.0   \n",
       "4          0.0         1.0        0.0       0.0         0.0        0.0   \n",
       "\n",
       "   akshan_blue  akshan_red  alistar_blue  alistar_red  ...  zeri_red  \\\n",
       "0          0.0         0.0           0.0          0.0  ...       0.0   \n",
       "1          0.0         0.0           1.0          0.0  ...       0.0   \n",
       "2          0.0         0.0           0.0          0.0  ...       0.0   \n",
       "3          0.0         0.0           0.0          0.0  ...       0.0   \n",
       "4          0.0         0.0           0.0          0.0  ...       0.0   \n",
       "\n",
       "   ziggs_blue  ziggs_red  zilean_blue  zilean_red  zoe_blue  zoe_red  \\\n",
       "0         0.0        0.0          0.0         0.0       0.0      0.0   \n",
       "1         0.0        0.0          0.0         0.0       0.0      0.0   \n",
       "2         0.0        0.0          0.0         0.0       0.0      0.0   \n",
       "3         0.0        0.0          0.0         0.0       0.0      0.0   \n",
       "4         0.0        0.0          0.0         0.0       0.0      0.0   \n",
       "\n",
       "   zyra_blue  zyra_red  blue_team_win  \n",
       "0        0.0       0.0            1.0  \n",
       "1        0.0       0.0            0.0  \n",
       "2        0.0       0.0            1.0  \n",
       "3        0.0       0.0            0.0  \n",
       "4        0.0       0.0            0.0  \n",
       "\n",
       "[5 rows x 319 columns]"
      ]
     },
     "execution_count": 65,
     "metadata": {},
     "output_type": "execute_result"
    }
   ],
   "source": [
    "# Load Challenger Data\n",
    "games = pd.read_csv(\"./Champions_games/Challenger/lol_Challenger_data.csv\")\n",
    "print(games.shape)\n",
    "games.head()"
   ]
  },
  {
   "cell_type": "code",
   "execution_count": 68,
   "id": "d2fecb46",
   "metadata": {},
   "outputs": [
    {
     "name": "stdout",
     "output_type": "stream",
     "text": [
      "10.0\n",
      "318 columns with 2 columns per champions\n",
      "159 columns with cleaned data\n"
     ]
    },
    {
     "data": {
      "text/plain": [
       "10.0"
      ]
     },
     "execution_count": 68,
     "metadata": {},
     "output_type": "execute_result"
    }
   ],
   "source": [
    "# The mean value of each champions represents the pick rate by challenger player\n",
    "dc = games.describe()\n",
    "\n",
    "pick_rate = dc.iloc[1].drop(\"blue_team_win\")\n",
    "print(pick_rate.sum())\n",
    "print(len(pick_rate), \"columns with 2 columns per champions\")\n",
    "new_columns = [s.split(\"_\")[0] for s in pick_rate.index.values]\n",
    "clean_pick_rate = pick_rate.groupby(new_columns).sum()\n",
    "print(len(clean_pick_rate), \"columns with cleaned data\")\n",
    "clean_pick_rate.sum()\n",
    "\n",
    "\n",
    "#champion_pick = games.drop(\"blue_team_win\", axis=1).apply(lambda x:x.sum()/5960,axis=0)\n",
    "#champion_pick.sum()\n"
   ]
  },
  {
   "cell_type": "code",
   "execution_count": 84,
   "id": "a64075e5",
   "metadata": {},
   "outputs": [],
   "source": [
    "#Get champs winrates\n",
    "blue_columns = [e for e in games.columns if \"_blue\" in e]\n",
    "red_columns = [e for e in games.columns if \"_red\" in e]\n",
    "champ_winrate = []\n",
    "for blue_champ, red_champ in zip(blue_columns,red_columns):\n",
    "    b_localgames = games[games[blue_champ] == 1]\n",
    "    b_total = b_localgames.shape[0]\n",
    "    r_localgames = games[games[red_champ] == 1]\n",
    "    r_total = r_localgames.shape[0]\n",
    "    champ_winrate.append((b_localgames[\"blue_team_win\"].sum() + (r_total - r_localgames[\"blue_team_win\"].sum()) ) / (b_total + r_total))\n"
   ]
  },
  {
   "cell_type": "code",
   "execution_count": 111,
   "id": "e2c3e462",
   "metadata": {},
   "outputs": [],
   "source": [
    "champ_win_rate = pd.DataFrame(champ_winrate,index=clean_pick_rate.index,columns=[\"Challenger_WinRate\"])"
   ]
  },
  {
   "cell_type": "code",
   "execution_count": 117,
   "id": "f4b5acaa",
   "metadata": {
    "scrolled": true
   },
   "outputs": [
    {
     "data": {
      "text/plain": [
       "<BarContainer object of 159 artists>"
      ]
     },
     "execution_count": 117,
     "metadata": {},
     "output_type": "execute_result"
    },
    {
     "data": {
      "image/png": "[encoded data removed]",
      "text/plain": [
       "<Figure size 432x288 with 1 Axes>"
      ]
     },
     "metadata": {
      "image/png": {
       "height": 248,
       "width": 372
      },
      "needs_background": "light"
     },
     "output_type": "display_data"
    }
   ],
   "source": [
    "# Visualize win rates\n",
    "plt.bar(champ_win_rate.index,champ_win_rate[\"Challenger_WinRate\"],0.2)"
   ]
  },
  {
   "cell_type": "code",
   "execution_count": 149,
   "id": "682e9bff",
   "metadata": {},
   "outputs": [],
   "source": [
    "# Automate process\n",
    "def get_dataset_winrate(csv_path, *args):\n",
    "    lgame = pd.read_csv(csv_path, *args)\n",
    "    clean_game = lgame.drop(\"blue_team_win\",axis=1)\n",
    "    #columns = np.unique([s.split(\"_\")[0] for s in clean_game.columns.values])\n",
    "    \n",
    "    #Get champs winrates\n",
    "    blue_columns = [e for e in clean_game.columns if \"_blue\" in e]\n",
    "    red_columns = [e for e in clean_game.columns if \"_red\" in e]\n",
    "    champ_winrate = []\n",
    "    for blue_champ, red_champ in zip(blue_columns,red_columns):\n",
    "        b_localgames = lgame[lgame[blue_champ] == 1]\n",
    "        b_total = b_localgames.shape[0]\n",
    "        r_localgames = lgame[lgame[red_champ] == 1]\n",
    "        r_total = r_localgames.shape[0]\n",
    "        champ_winrate.append((b_localgames[\"blue_team_win\"].sum() + (r_total - r_localgames[\"blue_team_win\"].sum()) ) / (b_total + r_total))\n",
    "    return champ_winrate\n",
    "\n",
    "\n",
    "champ_win_rate[\"Grandmaster_WinRate\"] = get_dataset_winrate(\"./Champions_games/GrandMaster/lol_GrandMaster_data.csv\")\n",
    "champ_win_rate[\"Master_WinRate\"] = get_dataset_winrate(\"./Champions_games/Master/lol_Master_data.csv\")\n"
   ]
  },
  {
   "cell_type": "code",
   "execution_count": 114,
   "id": "0c90d146",
   "metadata": {},
   "outputs": [
    {
     "data": {
      "text/html": [
       "<div>\n",
       "<style scoped>\n",
       "    .dataframe tbody tr th:only-of-type {\n",
       "        vertical-align: middle;\n",
       "    }\n",
       "\n",
       "    .dataframe tbody tr th {\n",
       "        vertical-align: top;\n",
       "    }\n",
       "\n",
       "    .dataframe thead th {\n",
       "        text-align: right;\n",
       "    }\n",
       "</style>\n",
       "<table border=\"1\" class=\"dataframe\">\n",
       "  <thead>\n",
       "    <tr style=\"text-align: right;\">\n",
       "      <th></th>\n",
       "      <th>Challenger_WinRate</th>\n",
       "      <th>Grandmaster_WinRate</th>\n",
       "      <th>Master_WinRate</th>\n",
       "    </tr>\n",
       "  </thead>\n",
       "  <tbody>\n",
       "    <tr>\n",
       "      <th>aatrox</th>\n",
       "      <td>0.479079</td>\n",
       "      <td>0.469713</td>\n",
       "      <td>0.478843</td>\n",
       "    </tr>\n",
       "    <tr>\n",
       "      <th>ahri</th>\n",
       "      <td>0.503462</td>\n",
       "      <td>0.513208</td>\n",
       "      <td>0.522539</td>\n",
       "    </tr>\n",
       "    <tr>\n",
       "      <th>akali</th>\n",
       "      <td>0.467780</td>\n",
       "      <td>0.526250</td>\n",
       "      <td>0.500000</td>\n",
       "    </tr>\n",
       "    <tr>\n",
       "      <th>akshan</th>\n",
       "      <td>0.445513</td>\n",
       "      <td>0.497613</td>\n",
       "      <td>0.518892</td>\n",
       "    </tr>\n",
       "    <tr>\n",
       "      <th>alistar</th>\n",
       "      <td>0.552632</td>\n",
       "      <td>0.516620</td>\n",
       "      <td>0.502012</td>\n",
       "    </tr>\n",
       "  </tbody>\n",
       "</table>\n",
       "</div>"
      ],
      "text/plain": [
       "         Challenger_WinRate  Grandmaster_WinRate  Master_WinRate\n",
       "aatrox             0.479079             0.469713        0.478843\n",
       "ahri               0.503462             0.513208        0.522539\n",
       "akali              0.467780             0.526250        0.500000\n",
       "akshan             0.445513             0.497613        0.518892\n",
       "alistar            0.552632             0.516620        0.502012"
      ]
     },
     "execution_count": 114,
     "metadata": {},
     "output_type": "execute_result"
    }
   ],
   "source": [
    "champ_win_rate.head()"
   ]
  },
  {
   "cell_type": "code",
   "execution_count": 132,
   "id": "65845049",
   "metadata": {},
   "outputs": [
    {
     "data": {
      "image/png": "[encoded data removed]",
      "text/plain": [
       "<Figure size 432x288 with 1 Axes>"
      ]
     },
     "metadata": {
      "image/png": {
       "height": 318,
       "width": 469
      },
      "needs_background": "light"
     },
     "output_type": "display_data"
    }
   ],
   "source": [
    "# Show all Champs Winrate by ranks\n",
    "def show_all_champs():\n",
    "    fig = plt.figure()\n",
    "    ax = fig.add_axes([0,0,1,1])\n",
    "    ax.bar(champ_win_rate.index, champ_win_rate[\"Challenger_WinRate\"], color = 'b',alpha=0.33)\n",
    "    ax.bar(champ_win_rate.index, champ_win_rate[\"Grandmaster_WinRate\"], color = 'g',alpha=0.33)\n",
    "    ax.bar(champ_win_rate.index, champ_win_rate[\"Master_WinRate\"], color = 'r',alpha=0.33)\n",
    "    ax.legend(labels=['Challenger', 'Grandmaster','Master'])\n",
    "    plt.savefig(\"test.jpg\", dpi=1200)\n",
    "show_all_champs()"
   ]
  },
  {
   "cell_type": "code",
   "execution_count": 147,
   "id": "03421d0e",
   "metadata": {},
   "outputs": [
    {
     "data": {
      "text/html": [
       "<div>\n",
       "<style scoped>\n",
       "    .dataframe tbody tr th:only-of-type {\n",
       "        vertical-align: middle;\n",
       "    }\n",
       "\n",
       "    .dataframe tbody tr th {\n",
       "        vertical-align: top;\n",
       "    }\n",
       "\n",
       "    .dataframe thead th {\n",
       "        text-align: right;\n",
       "    }\n",
       "</style>\n",
       "<table border=\"1\" class=\"dataframe\">\n",
       "  <thead>\n",
       "    <tr style=\"text-align: right;\">\n",
       "      <th></th>\n",
       "      <th>Challenger_WinRate</th>\n",
       "      <th>Grandmaster_WinRate</th>\n",
       "      <th>Master_WinRate</th>\n",
       "    </tr>\n",
       "  </thead>\n",
       "  <tbody>\n",
       "    <tr>\n",
       "      <th>aatrox</th>\n",
       "      <td>0.479079</td>\n",
       "      <td>0.469713</td>\n",
       "      <td>0.478843</td>\n",
       "    </tr>\n",
       "    <tr>\n",
       "      <th>ahri</th>\n",
       "      <td>0.503462</td>\n",
       "      <td>0.513208</td>\n",
       "      <td>0.522539</td>\n",
       "    </tr>\n",
       "  </tbody>\n",
       "</table>\n",
       "</div>"
      ],
      "text/plain": [
       "        Challenger_WinRate  Grandmaster_WinRate  Master_WinRate\n",
       "aatrox            0.479079             0.469713        0.478843\n",
       "ahri              0.503462             0.513208        0.522539"
      ]
     },
     "execution_count": 147,
     "metadata": {},
     "output_type": "execute_result"
    }
   ],
   "source": [
    "champ_win_rate.loc[[\"aatrox\",\"ahri\"]]"
   ]
  },
  {
   "cell_type": "code",
   "execution_count": 157,
   "id": "9e7e2d2f",
   "metadata": {},
   "outputs": [
    {
     "data": {
      "image/png": "[encoded data removed]",
      "text/plain": [
       "<Figure size 432x288 with 1 Axes>"
      ]
     },
     "metadata": {
      "image/png": {
       "height": 334,
       "width": 482
      },
      "needs_background": "light"
     },
     "output_type": "display_data"
    }
   ],
   "source": [
    "# Show specific champs per ranks\n",
    "def show_specific_champs(*args):\n",
    "    fig = plt.figure()\n",
    "    ax = fig.add_axes([0,0,1,1])\n",
    "    champ_win_rate_tmp = champ_win_rate.loc[list(args)]\n",
    "    ind = np.arange(len(champ_win_rate_tmp.index))\n",
    "    ax.bar(ind, champ_win_rate_tmp[\"Challenger_WinRate\"], color = 'b',width=0.25)\n",
    "    ax.bar(ind+0.25, champ_win_rate_tmp[\"Grandmaster_WinRate\"], color = 'g',width=0.25)\n",
    "    ax.bar(ind+0.5, champ_win_rate_tmp[\"Master_WinRate\"], color = 'r',width=0.25)\n",
    "    ax.legend(labels=['Challenger', 'Grandmaster','Master'])\n",
    "    ax.set_ylabel(\"Win Rate\")\n",
    "    ax.set_title(\"{} : Winrate by ranks\".format(\", \".join(list(args))))\n",
    "    plt.savefig(\"test.jpg\", dpi=1200)\n",
    "\n",
    "show_specific_champs(\"aatrox\",\"ahri\")"
   ]
  },
  {
   "cell_type": "code",
   "execution_count": null,
   "id": "a4807c82",
   "metadata": {},
   "outputs": [],
   "source": []
  }
 ],
 "metadata": {
  "kernelspec": {
   "display_name": "Python 3",
   "language": "python",
   "name": "python3"
  },
  "language_info": {
   "codemirror_mode": {
    "name": "ipython",
    "version": 3
   },
   "file_extension": ".py",
   "mimetype": "text/x-python",
   "name": "python",
   "nbconvert_exporter": "python",
   "pygments_lexer": "ipython3",
   "version": "3.6.8"
  }
 },
 "nbformat": 4,
 "nbformat_minor": 5
}
