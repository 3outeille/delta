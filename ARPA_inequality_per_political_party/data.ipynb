{
 "cells": [
  {
   "cell_type": "code",
   "execution_count": 53,
   "metadata": {},
   "outputs": [],
   "source": [
    "import pandas as pd\n",
    "import numpy as np"
   ]
  },
  {
   "cell_type": "markdown",
   "metadata": {},
   "source": [
    "## Chargement des données sur la politique mondiale"
   ]
  },
  {
   "cell_type": "code",
   "execution_count": 54,
   "metadata": {},
   "outputs": [
    {
     "data": {
      "text/html": [
       "<div>\n",
       "<style scoped>\n",
       "    .dataframe tbody tr th:only-of-type {\n",
       "        vertical-align: middle;\n",
       "    }\n",
       "\n",
       "    .dataframe tbody tr th {\n",
       "        vertical-align: top;\n",
       "    }\n",
       "\n",
       "    .dataframe thead th {\n",
       "        text-align: right;\n",
       "    }\n",
       "</style>\n",
       "<table border=\"1\" class=\"dataframe\">\n",
       "  <thead>\n",
       "    <tr style=\"text-align: right;\">\n",
       "      <th></th>\n",
       "      <th>year</th>\n",
       "      <th>country</th>\n",
       "      <th>iso</th>\n",
       "      <th>eu</th>\n",
       "      <th>gov_right1</th>\n",
       "      <th>gov_cent1</th>\n",
       "      <th>gov_left1</th>\n",
       "      <th>gov_right3</th>\n",
       "      <th>gov_cent3</th>\n",
       "      <th>gov_left3</th>\n",
       "    </tr>\n",
       "  </thead>\n",
       "  <tbody>\n",
       "    <tr>\n",
       "      <th>100</th>\n",
       "      <td>2000</td>\n",
       "      <td>Austria</td>\n",
       "      <td>AUT</td>\n",
       "      <td>1</td>\n",
       "      <td>45.36</td>\n",
       "      <td>49.64</td>\n",
       "      <td>4.29</td>\n",
       "      <td>25.760000</td>\n",
       "      <td>28.40</td>\n",
       "      <td>3.6</td>\n",
       "    </tr>\n",
       "    <tr>\n",
       "      <th>101</th>\n",
       "      <td>2001</td>\n",
       "      <td>Austria</td>\n",
       "      <td>AUT</td>\n",
       "      <td>1</td>\n",
       "      <td>50.00</td>\n",
       "      <td>50.00</td>\n",
       "      <td>0.00</td>\n",
       "      <td>28.400000</td>\n",
       "      <td>28.40</td>\n",
       "      <td>0.0</td>\n",
       "    </tr>\n",
       "    <tr>\n",
       "      <th>102</th>\n",
       "      <td>2002</td>\n",
       "      <td>Austria</td>\n",
       "      <td>AUT</td>\n",
       "      <td>1</td>\n",
       "      <td>50.00</td>\n",
       "      <td>50.00</td>\n",
       "      <td>0.00</td>\n",
       "      <td>28.400000</td>\n",
       "      <td>28.40</td>\n",
       "      <td>0.0</td>\n",
       "    </tr>\n",
       "    <tr>\n",
       "      <th>103</th>\n",
       "      <td>2003</td>\n",
       "      <td>Austria</td>\n",
       "      <td>AUT</td>\n",
       "      <td>1</td>\n",
       "      <td>28.97</td>\n",
       "      <td>64.02</td>\n",
       "      <td>0.00</td>\n",
       "      <td>12.760000</td>\n",
       "      <td>40.85</td>\n",
       "      <td>0.0</td>\n",
       "    </tr>\n",
       "    <tr>\n",
       "      <th>104</th>\n",
       "      <td>2004</td>\n",
       "      <td>Austria</td>\n",
       "      <td>AUT</td>\n",
       "      <td>1</td>\n",
       "      <td>25.00</td>\n",
       "      <td>66.67</td>\n",
       "      <td>0.00</td>\n",
       "      <td>9.800000</td>\n",
       "      <td>43.20</td>\n",
       "      <td>0.0</td>\n",
       "    </tr>\n",
       "    <tr>\n",
       "      <th>...</th>\n",
       "      <td>...</td>\n",
       "      <td>...</td>\n",
       "      <td>...</td>\n",
       "      <td>...</td>\n",
       "      <td>...</td>\n",
       "      <td>...</td>\n",
       "      <td>...</td>\n",
       "      <td>...</td>\n",
       "      <td>...</td>\n",
       "      <td>...</td>\n",
       "    </tr>\n",
       "    <tr>\n",
       "      <th>1693</th>\n",
       "      <td>2015</td>\n",
       "      <td>United Kingdom</td>\n",
       "      <td>GBR</td>\n",
       "      <td>1</td>\n",
       "      <td>100.00</td>\n",
       "      <td>0.00</td>\n",
       "      <td>0.00</td>\n",
       "      <td>52.639726</td>\n",
       "      <td>0.00</td>\n",
       "      <td>0.0</td>\n",
       "    </tr>\n",
       "    <tr>\n",
       "      <th>1694</th>\n",
       "      <td>2016</td>\n",
       "      <td>United Kingdom</td>\n",
       "      <td>GBR</td>\n",
       "      <td>1</td>\n",
       "      <td>100.00</td>\n",
       "      <td>0.00</td>\n",
       "      <td>0.00</td>\n",
       "      <td>50.810000</td>\n",
       "      <td>0.00</td>\n",
       "      <td>0.0</td>\n",
       "    </tr>\n",
       "    <tr>\n",
       "      <th>1695</th>\n",
       "      <td>2017</td>\n",
       "      <td>United Kingdom</td>\n",
       "      <td>GBR</td>\n",
       "      <td>1</td>\n",
       "      <td>100.00</td>\n",
       "      <td>0.00</td>\n",
       "      <td>0.00</td>\n",
       "      <td>49.640000</td>\n",
       "      <td>0.00</td>\n",
       "      <td>0.0</td>\n",
       "    </tr>\n",
       "    <tr>\n",
       "      <th>1696</th>\n",
       "      <td>2018</td>\n",
       "      <td>United Kingdom</td>\n",
       "      <td>GBR</td>\n",
       "      <td>1</td>\n",
       "      <td>100.00</td>\n",
       "      <td>0.00</td>\n",
       "      <td>0.00</td>\n",
       "      <td>48.800000</td>\n",
       "      <td>0.00</td>\n",
       "      <td>0.0</td>\n",
       "    </tr>\n",
       "    <tr>\n",
       "      <th>1697</th>\n",
       "      <td>2019</td>\n",
       "      <td>United Kingdom</td>\n",
       "      <td>GBR</td>\n",
       "      <td>1</td>\n",
       "      <td>100.00</td>\n",
       "      <td>0.00</td>\n",
       "      <td>0.00</td>\n",
       "      <td>48.020000</td>\n",
       "      <td>0.00</td>\n",
       "      <td>0.0</td>\n",
       "    </tr>\n",
       "  </tbody>\n",
       "</table>\n",
       "<p>493 rows × 10 columns</p>\n",
       "</div>"
      ],
      "text/plain": [
       "      year         country  iso  eu  gov_right1  gov_cent1  gov_left1  \\\n",
       "100   2000         Austria  AUT   1       45.36      49.64       4.29   \n",
       "101   2001         Austria  AUT   1       50.00      50.00       0.00   \n",
       "102   2002         Austria  AUT   1       50.00      50.00       0.00   \n",
       "103   2003         Austria  AUT   1       28.97      64.02       0.00   \n",
       "104   2004         Austria  AUT   1       25.00      66.67       0.00   \n",
       "...    ...             ...  ...  ..         ...        ...        ...   \n",
       "1693  2015  United Kingdom  GBR   1      100.00       0.00       0.00   \n",
       "1694  2016  United Kingdom  GBR   1      100.00       0.00       0.00   \n",
       "1695  2017  United Kingdom  GBR   1      100.00       0.00       0.00   \n",
       "1696  2018  United Kingdom  GBR   1      100.00       0.00       0.00   \n",
       "1697  2019  United Kingdom  GBR   1      100.00       0.00       0.00   \n",
       "\n",
       "      gov_right3  gov_cent3  gov_left3  \n",
       "100    25.760000      28.40        3.6  \n",
       "101    28.400000      28.40        0.0  \n",
       "102    28.400000      28.40        0.0  \n",
       "103    12.760000      40.85        0.0  \n",
       "104     9.800000      43.20        0.0  \n",
       "...          ...        ...        ...  \n",
       "1693   52.639726       0.00        0.0  \n",
       "1694   50.810000       0.00        0.0  \n",
       "1695   49.640000       0.00        0.0  \n",
       "1696   48.800000       0.00        0.0  \n",
       "1697   48.020000       0.00        0.0  \n",
       "\n",
       "[493 rows x 10 columns]"
      ]
     },
     "execution_count": 54,
     "metadata": {},
     "output_type": "execute_result"
    }
   ],
   "source": [
    "columns = ['eu', 'year', 'country', 'iso', 'gov_right1', 'gov_cent1', 'gov_left1', 'gov_right3', 'gov_cent3', 'gov_left3']\n",
    "df1 = pd.read_excel('./data/politique_mondiale.xlsx', usecols=columns, skipfooter=1, dtype={'year': int})\n",
    "df1 = df1[(df1.eu == 1) & (df1.year >= 2000)]\n",
    "df1"
   ]
  },
  {
   "cell_type": "markdown",
   "metadata": {},
   "source": [
    "## Formattage des noms de pays du dataframe en français"
   ]
  },
  {
   "cell_type": "code",
   "execution_count": 55,
   "metadata": {},
   "outputs": [
    {
     "data": {
      "text/html": [
       "<div>\n",
       "<style scoped>\n",
       "    .dataframe tbody tr th:only-of-type {\n",
       "        vertical-align: middle;\n",
       "    }\n",
       "\n",
       "    .dataframe tbody tr th {\n",
       "        vertical-align: top;\n",
       "    }\n",
       "\n",
       "    .dataframe thead th {\n",
       "        text-align: right;\n",
       "    }\n",
       "</style>\n",
       "<table border=\"1\" class=\"dataframe\">\n",
       "  <thead>\n",
       "    <tr style=\"text-align: right;\">\n",
       "      <th></th>\n",
       "      <th>year</th>\n",
       "      <th>country</th>\n",
       "      <th>iso</th>\n",
       "      <th>eu</th>\n",
       "      <th>gov_right1</th>\n",
       "      <th>gov_cent1</th>\n",
       "      <th>gov_left1</th>\n",
       "      <th>gov_right3</th>\n",
       "      <th>gov_cent3</th>\n",
       "      <th>gov_left3</th>\n",
       "    </tr>\n",
       "  </thead>\n",
       "  <tbody>\n",
       "    <tr>\n",
       "      <th>100</th>\n",
       "      <td>2000</td>\n",
       "      <td>Autriche</td>\n",
       "      <td>AUT</td>\n",
       "      <td>1</td>\n",
       "      <td>45.36</td>\n",
       "      <td>49.64</td>\n",
       "      <td>4.29</td>\n",
       "      <td>25.760000</td>\n",
       "      <td>28.40</td>\n",
       "      <td>3.6</td>\n",
       "    </tr>\n",
       "    <tr>\n",
       "      <th>101</th>\n",
       "      <td>2001</td>\n",
       "      <td>Autriche</td>\n",
       "      <td>AUT</td>\n",
       "      <td>1</td>\n",
       "      <td>50.00</td>\n",
       "      <td>50.00</td>\n",
       "      <td>0.00</td>\n",
       "      <td>28.400000</td>\n",
       "      <td>28.40</td>\n",
       "      <td>0.0</td>\n",
       "    </tr>\n",
       "    <tr>\n",
       "      <th>102</th>\n",
       "      <td>2002</td>\n",
       "      <td>Autriche</td>\n",
       "      <td>AUT</td>\n",
       "      <td>1</td>\n",
       "      <td>50.00</td>\n",
       "      <td>50.00</td>\n",
       "      <td>0.00</td>\n",
       "      <td>28.400000</td>\n",
       "      <td>28.40</td>\n",
       "      <td>0.0</td>\n",
       "    </tr>\n",
       "    <tr>\n",
       "      <th>103</th>\n",
       "      <td>2003</td>\n",
       "      <td>Autriche</td>\n",
       "      <td>AUT</td>\n",
       "      <td>1</td>\n",
       "      <td>28.97</td>\n",
       "      <td>64.02</td>\n",
       "      <td>0.00</td>\n",
       "      <td>12.760000</td>\n",
       "      <td>40.85</td>\n",
       "      <td>0.0</td>\n",
       "    </tr>\n",
       "    <tr>\n",
       "      <th>104</th>\n",
       "      <td>2004</td>\n",
       "      <td>Autriche</td>\n",
       "      <td>AUT</td>\n",
       "      <td>1</td>\n",
       "      <td>25.00</td>\n",
       "      <td>66.67</td>\n",
       "      <td>0.00</td>\n",
       "      <td>9.800000</td>\n",
       "      <td>43.20</td>\n",
       "      <td>0.0</td>\n",
       "    </tr>\n",
       "    <tr>\n",
       "      <th>...</th>\n",
       "      <td>...</td>\n",
       "      <td>...</td>\n",
       "      <td>...</td>\n",
       "      <td>...</td>\n",
       "      <td>...</td>\n",
       "      <td>...</td>\n",
       "      <td>...</td>\n",
       "      <td>...</td>\n",
       "      <td>...</td>\n",
       "      <td>...</td>\n",
       "    </tr>\n",
       "    <tr>\n",
       "      <th>1693</th>\n",
       "      <td>2015</td>\n",
       "      <td>Royaume-Uni</td>\n",
       "      <td>GBR</td>\n",
       "      <td>1</td>\n",
       "      <td>100.00</td>\n",
       "      <td>0.00</td>\n",
       "      <td>0.00</td>\n",
       "      <td>52.639726</td>\n",
       "      <td>0.00</td>\n",
       "      <td>0.0</td>\n",
       "    </tr>\n",
       "    <tr>\n",
       "      <th>1694</th>\n",
       "      <td>2016</td>\n",
       "      <td>Royaume-Uni</td>\n",
       "      <td>GBR</td>\n",
       "      <td>1</td>\n",
       "      <td>100.00</td>\n",
       "      <td>0.00</td>\n",
       "      <td>0.00</td>\n",
       "      <td>50.810000</td>\n",
       "      <td>0.00</td>\n",
       "      <td>0.0</td>\n",
       "    </tr>\n",
       "    <tr>\n",
       "      <th>1695</th>\n",
       "      <td>2017</td>\n",
       "      <td>Royaume-Uni</td>\n",
       "      <td>GBR</td>\n",
       "      <td>1</td>\n",
       "      <td>100.00</td>\n",
       "      <td>0.00</td>\n",
       "      <td>0.00</td>\n",
       "      <td>49.640000</td>\n",
       "      <td>0.00</td>\n",
       "      <td>0.0</td>\n",
       "    </tr>\n",
       "    <tr>\n",
       "      <th>1696</th>\n",
       "      <td>2018</td>\n",
       "      <td>Royaume-Uni</td>\n",
       "      <td>GBR</td>\n",
       "      <td>1</td>\n",
       "      <td>100.00</td>\n",
       "      <td>0.00</td>\n",
       "      <td>0.00</td>\n",
       "      <td>48.800000</td>\n",
       "      <td>0.00</td>\n",
       "      <td>0.0</td>\n",
       "    </tr>\n",
       "    <tr>\n",
       "      <th>1697</th>\n",
       "      <td>2019</td>\n",
       "      <td>Royaume-Uni</td>\n",
       "      <td>GBR</td>\n",
       "      <td>1</td>\n",
       "      <td>100.00</td>\n",
       "      <td>0.00</td>\n",
       "      <td>0.00</td>\n",
       "      <td>48.020000</td>\n",
       "      <td>0.00</td>\n",
       "      <td>0.0</td>\n",
       "    </tr>\n",
       "  </tbody>\n",
       "</table>\n",
       "<p>493 rows × 10 columns</p>\n",
       "</div>"
      ],
      "text/plain": [
       "      year      country  iso  eu  gov_right1  gov_cent1  gov_left1  \\\n",
       "100   2000     Autriche  AUT   1       45.36      49.64       4.29   \n",
       "101   2001     Autriche  AUT   1       50.00      50.00       0.00   \n",
       "102   2002     Autriche  AUT   1       50.00      50.00       0.00   \n",
       "103   2003     Autriche  AUT   1       28.97      64.02       0.00   \n",
       "104   2004     Autriche  AUT   1       25.00      66.67       0.00   \n",
       "...    ...          ...  ...  ..         ...        ...        ...   \n",
       "1693  2015  Royaume-Uni  GBR   1      100.00       0.00       0.00   \n",
       "1694  2016  Royaume-Uni  GBR   1      100.00       0.00       0.00   \n",
       "1695  2017  Royaume-Uni  GBR   1      100.00       0.00       0.00   \n",
       "1696  2018  Royaume-Uni  GBR   1      100.00       0.00       0.00   \n",
       "1697  2019  Royaume-Uni  GBR   1      100.00       0.00       0.00   \n",
       "\n",
       "      gov_right3  gov_cent3  gov_left3  \n",
       "100    25.760000      28.40        3.6  \n",
       "101    28.400000      28.40        0.0  \n",
       "102    28.400000      28.40        0.0  \n",
       "103    12.760000      40.85        0.0  \n",
       "104     9.800000      43.20        0.0  \n",
       "...          ...        ...        ...  \n",
       "1693   52.639726       0.00        0.0  \n",
       "1694   50.810000       0.00        0.0  \n",
       "1695   49.640000       0.00        0.0  \n",
       "1696   48.800000       0.00        0.0  \n",
       "1697   48.020000       0.00        0.0  \n",
       "\n",
       "[493 rows x 10 columns]"
      ]
     },
     "execution_count": 55,
     "metadata": {},
     "output_type": "execute_result"
    }
   ],
   "source": [
    "country_name_en = df1['country'].unique().tolist()\n",
    "country_name_fr = ['Autriche', 'Belgique', 'Bulgarie', 'Croatie', 'Chypre', 'République tchèque', 'Danemark', 'Estonie', 'Finlande', 'France', 'Allemagne', 'Grèce', 'Hongrie', 'Irlande', 'Italie', 'Lettonie', 'Lituanie', 'Luxembourg', 'Malte', 'Pays-Bas', 'Pologne', 'Portugal', 'Roumanie', 'Slovaquie', 'Slovénie', 'Espagne', 'Suède', 'Royaume-Uni']\n",
    "df1 = df1.replace(country_name_en, country_name_fr)\n",
    "df1"
   ]
  },
  {
   "cell_type": "markdown",
   "metadata": {},
   "source": [
    "## Chargement des données sur les inégalités en Europe"
   ]
  },
  {
   "cell_type": "code",
   "execution_count": 56,
   "metadata": {},
   "outputs": [
    {
     "data": {
      "text/html": [
       "<div>\n",
       "<style scoped>\n",
       "    .dataframe tbody tr th:only-of-type {\n",
       "        vertical-align: middle;\n",
       "    }\n",
       "\n",
       "    .dataframe tbody tr th {\n",
       "        vertical-align: top;\n",
       "    }\n",
       "\n",
       "    .dataframe thead th {\n",
       "        text-align: right;\n",
       "    }\n",
       "</style>\n",
       "<table border=\"1\" class=\"dataframe\">\n",
       "  <thead>\n",
       "    <tr style=\"text-align: right;\">\n",
       "      <th></th>\n",
       "      <th>country</th>\n",
       "      <th>year</th>\n",
       "      <th>geni</th>\n",
       "    </tr>\n",
       "  </thead>\n",
       "  <tbody>\n",
       "    <tr>\n",
       "      <th>0</th>\n",
       "      <td>Allemagne</td>\n",
       "      <td>2000</td>\n",
       "      <td>0.436821</td>\n",
       "    </tr>\n",
       "    <tr>\n",
       "      <th>1</th>\n",
       "      <td>Allemagne</td>\n",
       "      <td>2001</td>\n",
       "      <td>0.439630</td>\n",
       "    </tr>\n",
       "    <tr>\n",
       "      <th>2</th>\n",
       "      <td>Allemagne</td>\n",
       "      <td>2002</td>\n",
       "      <td>0.443165</td>\n",
       "    </tr>\n",
       "    <tr>\n",
       "      <th>3</th>\n",
       "      <td>Allemagne</td>\n",
       "      <td>2003</td>\n",
       "      <td>0.434784</td>\n",
       "    </tr>\n",
       "    <tr>\n",
       "      <th>4</th>\n",
       "      <td>Allemagne</td>\n",
       "      <td>2004</td>\n",
       "      <td>0.446877</td>\n",
       "    </tr>\n",
       "    <tr>\n",
       "      <th>...</th>\n",
       "      <td>...</td>\n",
       "      <td>...</td>\n",
       "      <td>...</td>\n",
       "    </tr>\n",
       "    <tr>\n",
       "      <th>555</th>\n",
       "      <td>Suède</td>\n",
       "      <td>2015</td>\n",
       "      <td>0.408765</td>\n",
       "    </tr>\n",
       "    <tr>\n",
       "      <th>556</th>\n",
       "      <td>Suède</td>\n",
       "      <td>2016</td>\n",
       "      <td>0.392907</td>\n",
       "    </tr>\n",
       "    <tr>\n",
       "      <th>557</th>\n",
       "      <td>Suède</td>\n",
       "      <td>2017</td>\n",
       "      <td>0.399593</td>\n",
       "    </tr>\n",
       "    <tr>\n",
       "      <th>558</th>\n",
       "      <td>Suède</td>\n",
       "      <td>2018</td>\n",
       "      <td>0.394447</td>\n",
       "    </tr>\n",
       "    <tr>\n",
       "      <th>559</th>\n",
       "      <td>Suède</td>\n",
       "      <td>2019</td>\n",
       "      <td>0.395844</td>\n",
       "    </tr>\n",
       "  </tbody>\n",
       "</table>\n",
       "<p>560 rows × 3 columns</p>\n",
       "</div>"
      ],
      "text/plain": [
       "       country  year      geni\n",
       "0    Allemagne  2000  0.436821\n",
       "1    Allemagne  2001  0.439630\n",
       "2    Allemagne  2002  0.443165\n",
       "3    Allemagne  2003  0.434784\n",
       "4    Allemagne  2004  0.446877\n",
       "..         ...   ...       ...\n",
       "555      Suède  2015  0.408765\n",
       "556      Suède  2016  0.392907\n",
       "557      Suède  2017  0.399593\n",
       "558      Suède  2018  0.394447\n",
       "559      Suède  2019  0.395844\n",
       "\n",
       "[560 rows x 3 columns]"
      ]
     },
     "execution_count": 56,
     "metadata": {},
     "output_type": "execute_result"
    }
   ],
   "source": [
    "df2 = pd.read_excel('./data/inegalite_europe.xlsx', header=None, names=['country', 'def', 'pall', 'year', 'gini'], usecols=['country', 'year', 'gini'])\n",
    "df2"
   ]
  },
  {
   "cell_type": "markdown",
   "metadata": {},
   "source": [
    "## Fusion des deux dataframes"
   ]
  },
  {
   "cell_type": "code",
   "execution_count": 57,
   "metadata": {},
   "outputs": [
    {
     "data": {
      "text/html": [
       "<div>\n",
       "<style scoped>\n",
       "    .dataframe tbody tr th:only-of-type {\n",
       "        vertical-align: middle;\n",
       "    }\n",
       "\n",
       "    .dataframe tbody tr th {\n",
       "        vertical-align: top;\n",
       "    }\n",
       "\n",
       "    .dataframe thead th {\n",
       "        text-align: right;\n",
       "    }\n",
       "</style>\n",
       "<table border=\"1\" class=\"dataframe\">\n",
       "  <thead>\n",
       "    <tr style=\"text-align: right;\">\n",
       "      <th></th>\n",
       "      <th>year</th>\n",
       "      <th>country</th>\n",
       "      <th>iso</th>\n",
       "      <th>eu</th>\n",
       "      <th>gov_right1</th>\n",
       "      <th>gov_cent1</th>\n",
       "      <th>gov_left1</th>\n",
       "      <th>gov_right3</th>\n",
       "      <th>gov_cent3</th>\n",
       "      <th>gov_left3</th>\n",
       "      <th>geni</th>\n",
       "    </tr>\n",
       "  </thead>\n",
       "  <tbody>\n",
       "    <tr>\n",
       "      <th>0</th>\n",
       "      <td>2000</td>\n",
       "      <td>Autriche</td>\n",
       "      <td>AUT</td>\n",
       "      <td>1</td>\n",
       "      <td>45.36</td>\n",
       "      <td>49.64</td>\n",
       "      <td>4.29</td>\n",
       "      <td>25.760000</td>\n",
       "      <td>28.40</td>\n",
       "      <td>3.6</td>\n",
       "      <td>0.445938</td>\n",
       "    </tr>\n",
       "    <tr>\n",
       "      <th>1</th>\n",
       "      <td>2001</td>\n",
       "      <td>Autriche</td>\n",
       "      <td>AUT</td>\n",
       "      <td>1</td>\n",
       "      <td>50.00</td>\n",
       "      <td>50.00</td>\n",
       "      <td>0.00</td>\n",
       "      <td>28.400000</td>\n",
       "      <td>28.40</td>\n",
       "      <td>0.0</td>\n",
       "      <td>0.432687</td>\n",
       "    </tr>\n",
       "    <tr>\n",
       "      <th>2</th>\n",
       "      <td>2002</td>\n",
       "      <td>Autriche</td>\n",
       "      <td>AUT</td>\n",
       "      <td>1</td>\n",
       "      <td>50.00</td>\n",
       "      <td>50.00</td>\n",
       "      <td>0.00</td>\n",
       "      <td>28.400000</td>\n",
       "      <td>28.40</td>\n",
       "      <td>0.0</td>\n",
       "      <td>0.448204</td>\n",
       "    </tr>\n",
       "    <tr>\n",
       "      <th>3</th>\n",
       "      <td>2003</td>\n",
       "      <td>Autriche</td>\n",
       "      <td>AUT</td>\n",
       "      <td>1</td>\n",
       "      <td>28.97</td>\n",
       "      <td>64.02</td>\n",
       "      <td>0.00</td>\n",
       "      <td>12.760000</td>\n",
       "      <td>40.85</td>\n",
       "      <td>0.0</td>\n",
       "      <td>0.458622</td>\n",
       "    </tr>\n",
       "    <tr>\n",
       "      <th>4</th>\n",
       "      <td>2004</td>\n",
       "      <td>Autriche</td>\n",
       "      <td>AUT</td>\n",
       "      <td>1</td>\n",
       "      <td>25.00</td>\n",
       "      <td>66.67</td>\n",
       "      <td>0.00</td>\n",
       "      <td>9.800000</td>\n",
       "      <td>43.20</td>\n",
       "      <td>0.0</td>\n",
       "      <td>0.442338</td>\n",
       "    </tr>\n",
       "    <tr>\n",
       "      <th>...</th>\n",
       "      <td>...</td>\n",
       "      <td>...</td>\n",
       "      <td>...</td>\n",
       "      <td>...</td>\n",
       "      <td>...</td>\n",
       "      <td>...</td>\n",
       "      <td>...</td>\n",
       "      <td>...</td>\n",
       "      <td>...</td>\n",
       "      <td>...</td>\n",
       "      <td>...</td>\n",
       "    </tr>\n",
       "    <tr>\n",
       "      <th>488</th>\n",
       "      <td>2015</td>\n",
       "      <td>Royaume-Uni</td>\n",
       "      <td>GBR</td>\n",
       "      <td>1</td>\n",
       "      <td>100.00</td>\n",
       "      <td>0.00</td>\n",
       "      <td>0.00</td>\n",
       "      <td>52.639726</td>\n",
       "      <td>0.00</td>\n",
       "      <td>0.0</td>\n",
       "      <td>0.469553</td>\n",
       "    </tr>\n",
       "    <tr>\n",
       "      <th>489</th>\n",
       "      <td>2016</td>\n",
       "      <td>Royaume-Uni</td>\n",
       "      <td>GBR</td>\n",
       "      <td>1</td>\n",
       "      <td>100.00</td>\n",
       "      <td>0.00</td>\n",
       "      <td>0.00</td>\n",
       "      <td>50.810000</td>\n",
       "      <td>0.00</td>\n",
       "      <td>0.0</td>\n",
       "      <td>0.467841</td>\n",
       "    </tr>\n",
       "    <tr>\n",
       "      <th>490</th>\n",
       "      <td>2017</td>\n",
       "      <td>Royaume-Uni</td>\n",
       "      <td>GBR</td>\n",
       "      <td>1</td>\n",
       "      <td>100.00</td>\n",
       "      <td>0.00</td>\n",
       "      <td>0.00</td>\n",
       "      <td>49.640000</td>\n",
       "      <td>0.00</td>\n",
       "      <td>0.0</td>\n",
       "      <td>0.466156</td>\n",
       "    </tr>\n",
       "    <tr>\n",
       "      <th>491</th>\n",
       "      <td>2018</td>\n",
       "      <td>Royaume-Uni</td>\n",
       "      <td>GBR</td>\n",
       "      <td>1</td>\n",
       "      <td>100.00</td>\n",
       "      <td>0.00</td>\n",
       "      <td>0.00</td>\n",
       "      <td>48.800000</td>\n",
       "      <td>0.00</td>\n",
       "      <td>0.0</td>\n",
       "      <td>0.467227</td>\n",
       "    </tr>\n",
       "    <tr>\n",
       "      <th>492</th>\n",
       "      <td>2019</td>\n",
       "      <td>Royaume-Uni</td>\n",
       "      <td>GBR</td>\n",
       "      <td>1</td>\n",
       "      <td>100.00</td>\n",
       "      <td>0.00</td>\n",
       "      <td>0.00</td>\n",
       "      <td>48.020000</td>\n",
       "      <td>0.00</td>\n",
       "      <td>0.0</td>\n",
       "      <td>0.464900</td>\n",
       "    </tr>\n",
       "  </tbody>\n",
       "</table>\n",
       "<p>493 rows × 11 columns</p>\n",
       "</div>"
      ],
      "text/plain": [
       "     year      country  iso  eu  gov_right1  gov_cent1  gov_left1  gov_right3  \\\n",
       "0    2000     Autriche  AUT   1       45.36      49.64       4.29   25.760000   \n",
       "1    2001     Autriche  AUT   1       50.00      50.00       0.00   28.400000   \n",
       "2    2002     Autriche  AUT   1       50.00      50.00       0.00   28.400000   \n",
       "3    2003     Autriche  AUT   1       28.97      64.02       0.00   12.760000   \n",
       "4    2004     Autriche  AUT   1       25.00      66.67       0.00    9.800000   \n",
       "..    ...          ...  ...  ..         ...        ...        ...         ...   \n",
       "488  2015  Royaume-Uni  GBR   1      100.00       0.00       0.00   52.639726   \n",
       "489  2016  Royaume-Uni  GBR   1      100.00       0.00       0.00   50.810000   \n",
       "490  2017  Royaume-Uni  GBR   1      100.00       0.00       0.00   49.640000   \n",
       "491  2018  Royaume-Uni  GBR   1      100.00       0.00       0.00   48.800000   \n",
       "492  2019  Royaume-Uni  GBR   1      100.00       0.00       0.00   48.020000   \n",
       "\n",
       "     gov_cent3  gov_left3      geni  \n",
       "0        28.40        3.6  0.445938  \n",
       "1        28.40        0.0  0.432687  \n",
       "2        28.40        0.0  0.448204  \n",
       "3        40.85        0.0  0.458622  \n",
       "4        43.20        0.0  0.442338  \n",
       "..         ...        ...       ...  \n",
       "488       0.00        0.0  0.469553  \n",
       "489       0.00        0.0  0.467841  \n",
       "490       0.00        0.0  0.466156  \n",
       "491       0.00        0.0  0.467227  \n",
       "492       0.00        0.0  0.464900  \n",
       "\n",
       "[493 rows x 11 columns]"
      ]
     },
     "execution_count": 57,
     "metadata": {},
     "output_type": "execute_result"
    }
   ],
   "source": [
    "df = pd.merge(df1, df2)\n",
    "df"
   ]
  },
  {
   "cell_type": "markdown",
   "metadata": {},
   "source": [
    "## Ajout d'une colonne représentant le parti politique majeur"
   ]
  },
  {
   "cell_type": "code",
   "execution_count": 58,
   "metadata": {},
   "outputs": [
    {
     "data": {
      "text/html": [
       "<div>\n",
       "<style scoped>\n",
       "    .dataframe tbody tr th:only-of-type {\n",
       "        vertical-align: middle;\n",
       "    }\n",
       "\n",
       "    .dataframe tbody tr th {\n",
       "        vertical-align: top;\n",
       "    }\n",
       "\n",
       "    .dataframe thead th {\n",
       "        text-align: right;\n",
       "    }\n",
       "</style>\n",
       "<table border=\"1\" class=\"dataframe\">\n",
       "  <thead>\n",
       "    <tr style=\"text-align: right;\">\n",
       "      <th></th>\n",
       "      <th>year</th>\n",
       "      <th>country</th>\n",
       "      <th>iso</th>\n",
       "      <th>eu</th>\n",
       "      <th>gov_right1</th>\n",
       "      <th>gov_cent1</th>\n",
       "      <th>gov_left1</th>\n",
       "      <th>gov_right3</th>\n",
       "      <th>gov_cent3</th>\n",
       "      <th>gov_left3</th>\n",
       "      <th>geni</th>\n",
       "      <th>color</th>\n",
       "    </tr>\n",
       "  </thead>\n",
       "  <tbody>\n",
       "    <tr>\n",
       "      <th>0</th>\n",
       "      <td>2000</td>\n",
       "      <td>Autriche</td>\n",
       "      <td>AUT</td>\n",
       "      <td>1</td>\n",
       "      <td>45.36</td>\n",
       "      <td>49.64</td>\n",
       "      <td>4.29</td>\n",
       "      <td>25.760000</td>\n",
       "      <td>28.40</td>\n",
       "      <td>3.6</td>\n",
       "      <td>0.445938</td>\n",
       "      <td>centre</td>\n",
       "    </tr>\n",
       "    <tr>\n",
       "      <th>1</th>\n",
       "      <td>2001</td>\n",
       "      <td>Autriche</td>\n",
       "      <td>AUT</td>\n",
       "      <td>1</td>\n",
       "      <td>50.00</td>\n",
       "      <td>50.00</td>\n",
       "      <td>0.00</td>\n",
       "      <td>28.400000</td>\n",
       "      <td>28.40</td>\n",
       "      <td>0.0</td>\n",
       "      <td>0.432687</td>\n",
       "      <td>centre</td>\n",
       "    </tr>\n",
       "    <tr>\n",
       "      <th>2</th>\n",
       "      <td>2002</td>\n",
       "      <td>Autriche</td>\n",
       "      <td>AUT</td>\n",
       "      <td>1</td>\n",
       "      <td>50.00</td>\n",
       "      <td>50.00</td>\n",
       "      <td>0.00</td>\n",
       "      <td>28.400000</td>\n",
       "      <td>28.40</td>\n",
       "      <td>0.0</td>\n",
       "      <td>0.448204</td>\n",
       "      <td>centre</td>\n",
       "    </tr>\n",
       "    <tr>\n",
       "      <th>3</th>\n",
       "      <td>2003</td>\n",
       "      <td>Autriche</td>\n",
       "      <td>AUT</td>\n",
       "      <td>1</td>\n",
       "      <td>28.97</td>\n",
       "      <td>64.02</td>\n",
       "      <td>0.00</td>\n",
       "      <td>12.760000</td>\n",
       "      <td>40.85</td>\n",
       "      <td>0.0</td>\n",
       "      <td>0.458622</td>\n",
       "      <td>centre</td>\n",
       "    </tr>\n",
       "    <tr>\n",
       "      <th>4</th>\n",
       "      <td>2004</td>\n",
       "      <td>Autriche</td>\n",
       "      <td>AUT</td>\n",
       "      <td>1</td>\n",
       "      <td>25.00</td>\n",
       "      <td>66.67</td>\n",
       "      <td>0.00</td>\n",
       "      <td>9.800000</td>\n",
       "      <td>43.20</td>\n",
       "      <td>0.0</td>\n",
       "      <td>0.442338</td>\n",
       "      <td>centre</td>\n",
       "    </tr>\n",
       "    <tr>\n",
       "      <th>...</th>\n",
       "      <td>...</td>\n",
       "      <td>...</td>\n",
       "      <td>...</td>\n",
       "      <td>...</td>\n",
       "      <td>...</td>\n",
       "      <td>...</td>\n",
       "      <td>...</td>\n",
       "      <td>...</td>\n",
       "      <td>...</td>\n",
       "      <td>...</td>\n",
       "      <td>...</td>\n",
       "      <td>...</td>\n",
       "    </tr>\n",
       "    <tr>\n",
       "      <th>488</th>\n",
       "      <td>2015</td>\n",
       "      <td>Royaume-Uni</td>\n",
       "      <td>GBR</td>\n",
       "      <td>1</td>\n",
       "      <td>100.00</td>\n",
       "      <td>0.00</td>\n",
       "      <td>0.00</td>\n",
       "      <td>52.639726</td>\n",
       "      <td>0.00</td>\n",
       "      <td>0.0</td>\n",
       "      <td>0.469553</td>\n",
       "      <td>droite</td>\n",
       "    </tr>\n",
       "    <tr>\n",
       "      <th>489</th>\n",
       "      <td>2016</td>\n",
       "      <td>Royaume-Uni</td>\n",
       "      <td>GBR</td>\n",
       "      <td>1</td>\n",
       "      <td>100.00</td>\n",
       "      <td>0.00</td>\n",
       "      <td>0.00</td>\n",
       "      <td>50.810000</td>\n",
       "      <td>0.00</td>\n",
       "      <td>0.0</td>\n",
       "      <td>0.467841</td>\n",
       "      <td>droite</td>\n",
       "    </tr>\n",
       "    <tr>\n",
       "      <th>490</th>\n",
       "      <td>2017</td>\n",
       "      <td>Royaume-Uni</td>\n",
       "      <td>GBR</td>\n",
       "      <td>1</td>\n",
       "      <td>100.00</td>\n",
       "      <td>0.00</td>\n",
       "      <td>0.00</td>\n",
       "      <td>49.640000</td>\n",
       "      <td>0.00</td>\n",
       "      <td>0.0</td>\n",
       "      <td>0.466156</td>\n",
       "      <td>droite</td>\n",
       "    </tr>\n",
       "    <tr>\n",
       "      <th>491</th>\n",
       "      <td>2018</td>\n",
       "      <td>Royaume-Uni</td>\n",
       "      <td>GBR</td>\n",
       "      <td>1</td>\n",
       "      <td>100.00</td>\n",
       "      <td>0.00</td>\n",
       "      <td>0.00</td>\n",
       "      <td>48.800000</td>\n",
       "      <td>0.00</td>\n",
       "      <td>0.0</td>\n",
       "      <td>0.467227</td>\n",
       "      <td>droite</td>\n",
       "    </tr>\n",
       "    <tr>\n",
       "      <th>492</th>\n",
       "      <td>2019</td>\n",
       "      <td>Royaume-Uni</td>\n",
       "      <td>GBR</td>\n",
       "      <td>1</td>\n",
       "      <td>100.00</td>\n",
       "      <td>0.00</td>\n",
       "      <td>0.00</td>\n",
       "      <td>48.020000</td>\n",
       "      <td>0.00</td>\n",
       "      <td>0.0</td>\n",
       "      <td>0.464900</td>\n",
       "      <td>droite</td>\n",
       "    </tr>\n",
       "  </tbody>\n",
       "</table>\n",
       "<p>493 rows × 12 columns</p>\n",
       "</div>"
      ],
      "text/plain": [
       "     year      country  iso  eu  gov_right1  gov_cent1  gov_left1  gov_right3  \\\n",
       "0    2000     Autriche  AUT   1       45.36      49.64       4.29   25.760000   \n",
       "1    2001     Autriche  AUT   1       50.00      50.00       0.00   28.400000   \n",
       "2    2002     Autriche  AUT   1       50.00      50.00       0.00   28.400000   \n",
       "3    2003     Autriche  AUT   1       28.97      64.02       0.00   12.760000   \n",
       "4    2004     Autriche  AUT   1       25.00      66.67       0.00    9.800000   \n",
       "..    ...          ...  ...  ..         ...        ...        ...         ...   \n",
       "488  2015  Royaume-Uni  GBR   1      100.00       0.00       0.00   52.639726   \n",
       "489  2016  Royaume-Uni  GBR   1      100.00       0.00       0.00   50.810000   \n",
       "490  2017  Royaume-Uni  GBR   1      100.00       0.00       0.00   49.640000   \n",
       "491  2018  Royaume-Uni  GBR   1      100.00       0.00       0.00   48.800000   \n",
       "492  2019  Royaume-Uni  GBR   1      100.00       0.00       0.00   48.020000   \n",
       "\n",
       "     gov_cent3  gov_left3      geni   color  \n",
       "0        28.40        3.6  0.445938  centre  \n",
       "1        28.40        0.0  0.432687  centre  \n",
       "2        28.40        0.0  0.448204  centre  \n",
       "3        40.85        0.0  0.458622  centre  \n",
       "4        43.20        0.0  0.442338  centre  \n",
       "..         ...        ...       ...     ...  \n",
       "488       0.00        0.0  0.469553  droite  \n",
       "489       0.00        0.0  0.467841  droite  \n",
       "490       0.00        0.0  0.466156  droite  \n",
       "491       0.00        0.0  0.467227  droite  \n",
       "492       0.00        0.0  0.464900  droite  \n",
       "\n",
       "[493 rows x 12 columns]"
      ]
     },
     "execution_count": 58,
     "metadata": {},
     "output_type": "execute_result"
    }
   ],
   "source": [
    "def color_party(left, mid, right):\n",
    "    values = [left, mid, right]\n",
    "    parties = ['gauche', 'centre', 'droite']\n",
    "    return parties[values.index(max(values))]\n",
    "\n",
    "df['color'] = df.apply(lambda x: color_party(x['gov_left1'], x['gov_cent1'], x['gov_right1']), axis=1)\n",
    "df"
   ]
  },
  {
   "cell_type": "markdown",
   "metadata": {},
   "source": [
    "## Fonction pour extraire les données dans un unique dataframe"
   ]
  },
  {
   "cell_type": "code",
   "execution_count": 59,
   "metadata": {},
   "outputs": [],
   "source": [
    "def extract_data():\n",
    "    country_name_fr = [\n",
    "        'Autriche', 'Belgique', 'Bulgarie', 'Croatie', 'Chypre', 'République tchèque', 'Danemark', 'Estonie',\n",
    "        'Finlande', 'France', 'Allemagne', 'Grèce', 'Hongrie', 'Irlande', 'Italie', 'Lettonie', 'Lituanie',\n",
    "        'Luxembourg', 'Malte', 'Pays-Bas', 'Pologne', 'Portugal', 'Roumanie', 'Slovaquie', 'Slovénie', 'Espagne',\n",
    "        'Suède', 'Royaume-Uni'\n",
    "    ]\n",
    "    columns = ['eu', 'year', 'country', 'iso', 'gov_right1', 'gov_cent1', 'gov_left1', 'gov_right3', 'gov_cent3', 'gov_left3']\n",
    "    \n",
    "    df1 = pd.read_excel('./data/politique_mondiale.xlsx', usecols=columns, skipfooter=1, dtype={'year': int}).query('(eu == 1) & (year >= 2000)')\n",
    "    df1 = df1.replace(df1['country'].unique().tolist(), country_name_fr)\n",
    "    df1['color'] = df1.apply(lambda x: color_party(x['gov_left1'], x['gov_cent1'], x['gov_right1']), axis=1)\n",
    "\n",
    "    df2 = pd.read_excel('./data/inegalite_europe.xlsx', header=None, names=['country', 'def', 'pall', 'year', 'gini'], usecols=['country', 'year', 'gini'])\n",
    "    return pd.merge(df1, df2)\n",
    "\n",
    "df = extract_data()"
   ]
  },
  {
   "cell_type": "code",
   "execution_count": 60,
   "metadata": {},
   "outputs": [
    {
     "data": {
      "application/vnd.plotly.v1+json": {
       "config": {
        "plotlyServerURL": "https://plot.ly"
       },
       "data": [
        {
         "customdata": [
          [
           0.445938127181349
          ],
          [
           0.48157607693387
          ],
          [
           0.459348632102632
          ]
         ],
         "geo": "geo",
         "hovertemplate": "<b>%{hovertext}</b><br><br>color=centre<br>year=2000<br>gini_display=%{marker.size}<br>iso=%{location}<br>gini=%{customdata[0]}<extra></extra>",
         "hovertext": [
          "Autriche",
          "Luxembourg",
          "Espagne"
         ],
         "ids": [
          "Autriche",
          "Luxembourg",
          "Espagne"
         ],
         "legendgroup": "centre",
         "locations": [
          "AUT",
          "LUX",
          "ESP"
         ],
         "marker": {
          "color": "orange",
          "size": [
           0.007864074762343616,
           0.012473531469223417,
           0.009394086710550292
          ],
          "sizemode": "area",
          "sizeref": 0.00008220833806065717,
          "symbol": "circle"
         },
         "mode": "markers",
         "name": "centre",
         "showlegend": true,
         "type": "scattergeo"
        },
        {
         "customdata": [
          [
           0.454210186021074
          ],
          [
           0.409965610619835
          ],
          [
           0.439338070306441
          ],
          [
           0.448740803667583
          ],
          [
           0.436820529852348
          ],
          [
           0.542492569618666
          ],
          [
           0.425894431013866
          ],
          [
           0.381893577459484
          ],
          [
           0.492261661221216
          ],
          [
           0.390859593419169
          ],
          [
           0.478116162537798
          ]
         ],
         "geo": "geo",
         "hovertemplate": "<b>%{hovertext}</b><br><br>color=gauche<br>year=2000<br>gini_display=%{marker.size}<br>iso=%{location}<br>gini=%{customdata[0]}<extra></extra>",
         "hovertext": [
          "Belgique",
          "Danemark",
          "Finlande",
          "France",
          "Allemagne",
          "Grèce",
          "Italie",
          "Pays-Bas",
          "Portugal",
          "Suède",
          "Royaume-Uni"
         ],
         "ids": [
          "Belgique",
          "Danemark",
          "Finlande",
          "France",
          "Allemagne",
          "Grèce",
          "Italie",
          "Pays-Bas",
          "Portugal",
          "Suède",
          "Royaume-Uni"
         ],
         "legendgroup": "gauche",
         "locations": [
          "BEL",
          "DNK",
          "FIN",
          "FRA",
          "DEU",
          "GRC",
          "ITA",
          "NLD",
          "PRT",
          "SWE",
          "GBR"
         ],
         "marker": {
          "color": "red",
          "size": [
           0.00878094417912749,
           0.00474771420845378,
           0.007191061929834215,
           0.008165322988498392,
           0.006947335109146461,
           0.025489585008168482,
           0.005967765751101518,
           0.003102088100721641,
           0.014229055646141289,
           0.0035655346029341266,
           0.011945395974771783
          ],
          "sizemode": "area",
          "sizeref": 0.00008220833806065717,
          "symbol": "circle"
         },
         "mode": "markers",
         "name": "gauche",
         "showlegend": true,
         "type": "scattergeo"
        },
        {
         "customdata": [
          [
           0.462704056213987
          ]
         ],
         "geo": "geo",
         "hovertemplate": "<b>%{hovertext}</b><br><br>color=droite<br>year=2000<br>gini_display=%{marker.size}<br>iso=%{location}<br>gini=%{customdata[0]}<extra></extra>",
         "hovertext": [
          "Irlande"
         ],
         "ids": [
          "Irlande"
         ],
         "legendgroup": "droite",
         "locations": [
          "IRL"
         ],
         "marker": {
          "color": "blue",
          "size": [
           0.009813407655415789
          ],
          "sizemode": "area",
          "sizeref": 0.00008220833806065717,
          "symbol": "circle"
         },
         "mode": "markers",
         "name": "droite",
         "showlegend": true,
         "type": "scattergeo"
        }
       ],
       "frames": [
        {
         "data": [
          {
           "customdata": [
            [
             0.445938127181349
            ],
            [
             0.48157607693387
            ],
            [
             0.459348632102632
            ]
           ],
           "geo": "geo",
           "hovertemplate": "<b>%{hovertext}</b><br><br>color=centre<br>year=2000<br>gini_display=%{marker.size}<br>iso=%{location}<br>gini=%{customdata[0]}<extra></extra>",
           "hovertext": [
            "Autriche",
            "Luxembourg",
            "Espagne"
           ],
           "ids": [
            "Autriche",
            "Luxembourg",
            "Espagne"
           ],
           "legendgroup": "centre",
           "locations": [
            "AUT",
            "LUX",
            "ESP"
           ],
           "marker": {
            "color": "orange",
            "size": [
             0.007864074762343616,
             0.012473531469223417,
             0.009394086710550292
            ],
            "sizemode": "area",
            "sizeref": 0.00008220833806065717,
            "symbol": "circle"
           },
           "mode": "markers",
           "name": "centre",
           "showlegend": true,
           "type": "scattergeo"
          },
          {
           "customdata": [
            [
             0.454210186021074
            ],
            [
             0.409965610619835
            ],
            [
             0.439338070306441
            ],
            [
             0.448740803667583
            ],
            [
             0.436820529852348
            ],
            [
             0.542492569618666
            ],
            [
             0.425894431013866
            ],
            [
             0.381893577459484
            ],
            [
             0.492261661221216
            ],
            [
             0.390859593419169
            ],
            [
             0.478116162537798
            ]
           ],
           "geo": "geo",
           "hovertemplate": "<b>%{hovertext}</b><br><br>color=gauche<br>year=2000<br>gini_display=%{marker.size}<br>iso=%{location}<br>gini=%{customdata[0]}<extra></extra>",
           "hovertext": [
            "Belgique",
            "Danemark",
            "Finlande",
            "France",
            "Allemagne",
            "Grèce",
            "Italie",
            "Pays-Bas",
            "Portugal",
            "Suède",
            "Royaume-Uni"
           ],
           "ids": [
            "Belgique",
            "Danemark",
            "Finlande",
            "France",
            "Allemagne",
            "Grèce",
            "Italie",
            "Pays-Bas",
            "Portugal",
            "Suède",
            "Royaume-Uni"
           ],
           "legendgroup": "gauche",
           "locations": [
            "BEL",
            "DNK",
            "FIN",
            "FRA",
            "DEU",
            "GRC",
            "ITA",
            "NLD",
            "PRT",
            "SWE",
            "GBR"
           ],
           "marker": {
            "color": "red",
            "size": [
             0.00878094417912749,
             0.00474771420845378,
             0.007191061929834215,
             0.008165322988498392,
             0.006947335109146461,
             0.025489585008168482,
             0.005967765751101518,
             0.003102088100721641,
             0.014229055646141289,
             0.0035655346029341266,
             0.011945395974771783
            ],
            "sizemode": "area",
            "sizeref": 0.00008220833806065717,
            "symbol": "circle"
           },
           "mode": "markers",
           "name": "gauche",
           "showlegend": true,
           "type": "scattergeo"
          },
          {
           "customdata": [
            [
             0.462704056213987
            ]
           ],
           "geo": "geo",
           "hovertemplate": "<b>%{hovertext}</b><br><br>color=droite<br>year=2000<br>gini_display=%{marker.size}<br>iso=%{location}<br>gini=%{customdata[0]}<extra></extra>",
           "hovertext": [
            "Irlande"
           ],
           "ids": [
            "Irlande"
           ],
           "legendgroup": "droite",
           "locations": [
            "IRL"
           ],
           "marker": {
            "color": "blue",
            "size": [
             0.009813407655415789
            ],
            "sizemode": "area",
            "sizeref": 0.00008220833806065717,
            "symbol": "circle"
           },
           "mode": "markers",
           "name": "droite",
           "showlegend": true,
           "type": "scattergeo"
          }
         ],
         "name": "2000"
        },
        {
         "data": [
          {
           "customdata": [
            [
             0.4326867766429
            ],
            [
             0.485764176302545
            ],
            [
             0.455378915765955
            ]
           ],
           "geo": "geo",
           "hovertemplate": "<b>%{hovertext}</b><br><br>color=centre<br>year=2001<br>gini_display=%{marker.size}<br>iso=%{location}<br>gini=%{customdata[0]}<extra></extra>",
           "hovertext": [
            "Autriche",
            "Luxembourg",
            "Espagne"
           ],
           "ids": [
            "Autriche",
            "Luxembourg",
            "Espagne"
           ],
           "legendgroup": "centre",
           "locations": [
            "AUT",
            "LUX",
            "ESP"
           ],
           "marker": {
            "color": "orange",
            "size": [
             0.006562083275643521,
             0.013138715301658681,
             0.008917384898473548
            ],
            "sizemode": "area",
            "sizeref": 0.00008220833806065717,
            "symbol": "circle"
           },
           "mode": "markers",
           "name": "centre",
           "showlegend": true,
           "type": "scattergeo"
          },
          {
           "customdata": [
            [
             0.447147684664572
            ],
            [
             0.395248886689018
            ],
            [
             0.43189095935665
            ],
            [
             0.446746906408436
            ],
            [
             0.439629918616589
            ],
            [
             0.538748678376884
            ],
            [
             0.395766083736225
            ],
            [
             0.511308462921138
            ],
            [
             0.380900981883764
            ],
            [
             0.485098113127901
            ]
           ],
           "geo": "geo",
           "hovertemplate": "<b>%{hovertext}</b><br><br>color=gauche<br>year=2001<br>gini_display=%{marker.size}<br>iso=%{location}<br>gini=%{customdata[0]}<extra></extra>",
           "hovertext": [
            "Belgique",
            "Danemark",
            "Finlande",
            "France",
            "Allemagne",
            "Grèce",
            "Pays-Bas",
            "Portugal",
            "Suède",
            "Royaume-Uni"
           ],
           "ids": [
            "Belgique",
            "Danemark",
            "Finlande",
            "France",
            "Allemagne",
            "Grèce",
            "Pays-Bas",
            "Portugal",
            "Suède",
            "Royaume-Uni"
           ],
           "legendgroup": "gauche",
           "locations": [
            "BEL",
            "DNK",
            "FIN",
            "FRA",
            "DEU",
            "GRC",
            "NLD",
            "PRT",
            "SWE",
            "GBR"
           ],
           "marker": {
            "color": "red",
            "size": [
             0.007992928312828699,
             0.0038126236006343554,
             0.006489999735825824,
             0.007950040167956286,
             0.007219771316119822,
             0.02445216438254597,
             0.0038426554060898197,
             0.017868902784326963,
             0.003054024755751821,
             0.01303099302128255
            ],
            "sizemode": "area",
            "sizeref": 0.00008220833806065717,
            "symbol": "circle"
           },
           "mode": "markers",
           "name": "gauche",
           "showlegend": true,
           "type": "scattergeo"
          },
          {
           "customdata": [
            [
             0.454247334450617
            ],
            [
             0.433940256501559
            ]
           ],
           "geo": "geo",
           "hovertemplate": "<b>%{hovertext}</b><br><br>color=droite<br>year=2001<br>gini_display=%{marker.size}<br>iso=%{location}<br>gini=%{customdata[0]}<extra></extra>",
           "hovertext": [
            "Irlande",
            "Italie"
           ],
           "ids": [
            "Irlande",
            "Italie"
           ],
           "legendgroup": "droite",
           "locations": [
            "IRL",
            "ITA"
           ],
           "marker": {
            "color": "blue",
            "size": [
             0.008785254055924398,
             0.0066769734321276645
            ],
            "sizemode": "area",
            "sizeref": 0.00008220833806065717,
            "symbol": "circle"
           },
           "mode": "markers",
           "name": "droite",
           "showlegend": true,
           "type": "scattergeo"
          }
         ],
         "name": "2001"
        },
        {
         "data": [
          {
           "customdata": [
            [
             0.448203833557837
            ],
            [
             0.472996700273796
            ],
            [
             0.454969932245977
            ]
           ],
           "geo": "geo",
           "hovertemplate": "<b>%{hovertext}</b><br><br>color=centre<br>year=2002<br>gini_display=%{marker.size}<br>iso=%{location}<br>gini=%{customdata[0]}<extra></extra>",
           "hovertext": [
            "Autriche",
            "Luxembourg",
            "Espagne"
           ],
           "ids": [
            "Autriche",
            "Luxembourg",
            "Espagne"
           ],
           "legendgroup": "centre",
           "locations": [
            "AUT",
            "LUX",
            "ESP"
           ],
           "marker": {
            "color": "orange",
            "size": [
             0.008106873584053525,
             0.011198211509554891,
             0.008869439535861856
            ],
            "sizemode": "area",
            "sizeref": 0.00008220833806065717,
            "symbol": "circle"
           },
           "mode": "markers",
           "name": "centre",
           "showlegend": true,
           "type": "scattergeo"
          },
          {
           "customdata": [
            [
             0.44361157323254
            ],
            [
             0.443165097523508
            ],
            [
             0.516023873198716
            ],
            [
             0.383387285157321
            ],
            [
             0.487286479376394
            ]
           ],
           "geo": "geo",
           "hovertemplate": "<b>%{hovertext}</b><br><br>color=gauche<br>year=2002<br>gini_display=%{marker.size}<br>iso=%{location}<br>gini=%{customdata[0]}<extra></extra>",
           "hovertext": [
            "Belgique",
            "Allemagne",
            "Grèce",
            "Suède",
            "Royaume-Uni"
           ],
           "ids": [
            "Belgique",
            "Allemagne",
            "Grèce",
            "Suède",
            "Royaume-Uni"
           ],
           "legendgroup": "gauche",
           "locations": [
            "BEL",
            "DEU",
            "GRC",
            "SWE",
            "GBR"
           ],
           "marker": {
            "color": "red",
            "size": [
             0.007621092041495103,
             0.00757518590213966,
             0.018880729276246663,
             0.003175603220906774,
             0.013387706036946306
            ],
            "sizemode": "area",
            "sizeref": 0.00008220833806065717,
            "symbol": "circle"
           },
           "mode": "markers",
           "name": "gauche",
           "showlegend": true,
           "type": "scattergeo"
          },
          {
           "customdata": [
            [
             0.394814165564469
            ],
            [
             0.427480886131413
            ],
            [
             0.440876438874863
            ],
            [
             0.451737691457136
            ],
            [
             0.427724104066137
            ],
            [
             0.394843732235024
            ],
            [
             0.501937909551647
            ]
           ],
           "geo": "geo",
           "hovertemplate": "<b>%{hovertext}</b><br><br>color=droite<br>year=2002<br>gini_display=%{marker.size}<br>iso=%{location}<br>gini=%{customdata[0]}<extra></extra>",
           "hovertext": [
            "Danemark",
            "Finlande",
            "France",
            "Irlande",
            "Italie",
            "Pays-Bas",
            "Portugal"
           ],
           "ids": [
            "Danemark",
            "Finlande",
            "France",
            "Irlande",
            "Italie",
            "Pays-Bas",
            "Portugal"
           ],
           "legendgroup": "droite",
           "locations": [
            "DNK",
            "FIN",
            "FRA",
            "IRL",
            "ITA",
            "NLD",
            "PRT"
           ],
           "marker": {
            "color": "blue",
            "size": [
             0.003787532413118535,
             0.006102393458881349,
             0.007343470260809953,
             0.008498024303015597,
             0.0061232550830575185,
             0.0037892345661909685,
             0.015991897063512287
            ],
            "sizemode": "area",
            "sizeref": 0.00008220833806065717,
            "symbol": "circle"
           },
           "mode": "markers",
           "name": "droite",
           "showlegend": true,
           "type": "scattergeo"
          }
         ],
         "name": "2002"
        },
        {
         "data": [
          {
           "customdata": [
            [
             0.458622256891109
            ],
            [
             0.463606638601519
            ],
            [
             0.399636108090286
            ],
            [
             0.459168458884129
            ]
           ],
           "geo": "geo",
           "hovertemplate": "<b>%{hovertext}</b><br><br>color=centre<br>year=2003<br>gini_display=%{marker.size}<br>iso=%{location}<br>gini=%{customdata[0]}<extra></extra>",
           "hovertext": [
            "Autriche",
            "Luxembourg",
            "Pays-Bas",
            "Espagne"
           ],
           "ids": [
            "Autriche",
            "Luxembourg",
            "Pays-Bas",
            "Espagne"
           ],
           "legendgroup": "centre",
           "locations": [
            "AUT",
            "LUX",
            "NLD",
            "ESP"
           ],
           "marker": {
            "color": "orange",
            "size": [
             0.009305308223817647,
             0.009928825482168955,
             0.004073693267683311,
             0.009372000166140926
            ],
            "sizemode": "area",
            "sizeref": 0.00008220833806065717,
            "symbol": "circle"
           },
           "mode": "markers",
           "name": "centre",
           "showlegend": true,
           "type": "scattergeo"
          },
          {
           "customdata": [
            [
             0.445012660574052
            ],
            [
             0.423355460552699
            ],
            [
             0.434784092213601
            ],
            [
             0.49406005633379
            ],
            [
             0.394498018561663
            ],
            [
             0.49705408259279
            ]
           ],
           "geo": "geo",
           "hovertemplate": "<b>%{hovertext}</b><br><br>color=gauche<br>year=2003<br>gini_display=%{marker.size}<br>iso=%{location}<br>gini=%{customdata[0]}<extra></extra>",
           "hovertext": [
            "Belgique",
            "Finlande",
            "Allemagne",
            "Grèce",
            "Suède",
            "Royaume-Uni"
           ],
           "ids": [
            "Belgique",
            "Finlande",
            "Allemagne",
            "Grèce",
            "Suède",
            "Royaume-Uni"
           ],
           "legendgroup": "gauche",
           "locations": [
            "BEL",
            "FIN",
            "DEU",
            "GRC",
            "SWE",
            "GBR"
           ],
           "marker": {
            "color": "red",
            "size": [
             0.007766658341768811,
             0.005757460866524391,
             0.0067552569817872325,
             0.014543819009798108,
             0.0037693716285285314,
             0.015080712880609021
            ],
            "sizemode": "area",
            "sizeref": 0.00008220833806065717,
            "symbol": "circle"
           },
           "mode": "markers",
           "name": "gauche",
           "showlegend": true,
           "type": "scattergeo"
          },
          {
           "customdata": [
            [
             0.381413041283842
            ],
            [
             0.444119184616937
            ],
            [
             0.461950740487932
            ],
            [
             0.425701436856283
            ],
            [
             0.493931734176522
            ]
           ],
           "geo": "geo",
           "hovertemplate": "<b>%{hovertext}</b><br><br>color=droite<br>year=2003<br>gini_display=%{marker.size}<br>iso=%{location}<br>gini=%{customdata[0]}<extra></extra>",
           "hovertext": [
            "Danemark",
            "France",
            "Irlande",
            "Italie",
            "Portugal"
           ],
           "ids": [
            "Danemark",
            "France",
            "Irlande",
            "Italie",
            "Portugal"
           ],
           "legendgroup": "droite",
           "locations": [
            "DNK",
            "FRA",
            "IRL",
            "ITA",
            "PRT"
           ],
           "marker": {
            "color": "blue",
            "size": [
             0.0030787415312499146,
             0.0076735654694284105,
             0.009717935351858442,
             0.005951558355387296,
             0.014521168935642108
            ],
            "sizemode": "area",
            "sizeref": 0.00008220833806065717,
            "symbol": "circle"
           },
           "mode": "markers",
           "name": "droite",
           "showlegend": true,
           "type": "scattergeo"
          }
         ],
         "name": "2003"
        },
        {
         "data": [
          {
           "customdata": [
            [
             0.442337704859938
            ],
            [
             0.501922918494213
            ],
            [
             0.494719863577814
            ],
            [
             0.414503086499014
            ],
            [
             0.401779088237018
            ],
            [
             0.419075115154833
            ]
           ],
           "geo": "geo",
           "hovertemplate": "<b>%{hovertext}</b><br><br>color=centre<br>year=2004<br>gini_display=%{marker.size}<br>iso=%{location}<br>gini=%{customdata[0]}<extra></extra>",
           "hovertext": [
            "Autriche",
            "Lettonie",
            "Luxembourg",
            "Malte",
            "Pays-Bas",
            "Slovaquie"
           ],
           "ids": [
            "Autriche",
            "Lettonie",
            "Luxembourg",
            "Malte",
            "Pays-Bas",
            "Slovaquie"
           ],
           "legendgroup": "centre",
           "locations": [
            "AUT",
            "LVA",
            "LUX",
            "MLT",
            "NLD",
            "SVK"
           ],
           "marker": {
            "color": "orange",
            "size": [
             0.007490723408069271,
             0.015989031559112882,
             0.014660746650562063,
             0.005071852473647849,
             0.004206529832666781,
             0.0054169052370089945
            ],
            "sizemode": "area",
            "sizeref": 0.00008220833806065717,
            "symbol": "circle"
           },
           "mode": "markers",
           "name": "centre",
           "showlegend": true,
           "type": "scattergeo"
          },
          {
           "customdata": [
            [
             0.448110492463551
            ],
            [
             0.430282952958516
            ],
            [
             0.386322095350273
            ],
            [
             0.431039602482564
            ],
            [
             0.446877097667752
            ],
            [
             0.396764686632441
            ],
            [
             0.487737895055103
            ],
            [
             0.471029965217461
            ],
            [
             0.455545684967099
            ],
            [
             0.398803377056851
            ],
            [
             0.490320315857602
            ]
           ],
           "geo": "geo",
           "hovertemplate": "<b>%{hovertext}</b><br><br>color=gauche<br>year=2004<br>gini_display=%{marker.size}<br>iso=%{location}<br>gini=%{customdata[0]}<extra></extra>",
           "hovertext": [
            "Belgique",
            "Chypre",
            "République tchèque",
            "Finlande",
            "Allemagne",
            "Hongrie",
            "Lituanie",
            "Pologne",
            "Espagne",
            "Suède",
            "Royaume-Uni"
           ],
           "ids": [
            "Belgique",
            "Chypre",
            "République tchèque",
            "Finlande",
            "Allemagne",
            "Hongrie",
            "Lituanie",
            "Pologne",
            "Espagne",
            "Suède",
            "Royaume-Uni"
           ],
           "legendgroup": "gauche",
           "locations": [
            "BEL",
            "CYP",
            "CZE",
            "FIN",
            "DEU",
            "HUN",
            "LTU",
            "POL",
            "ESP",
            "SWE",
            "GBR"
           ],
           "marker": {
            "color": "red",
            "size": [
             0.00809674903088504,
             0.006346362026964886,
             0.003324277634175458,
             0.006413617286601118,
             0.00796395113305382,
             0.0039011986867948023,
             0.013462291739481916,
             0.010921724505102155,
             0.00893699723441332,
             0.004023027150152903,
             0.013895664781581602
            ],
            "sizemode": "area",
            "sizeref": 0.00008220833806065717,
            "symbol": "circle"
           },
           "mode": "markers",
           "name": "gauche",
           "showlegend": true,
           "type": "scattergeo"
          },
          {
           "customdata": [
            [
             0.389492157101735
            ],
            [
             0.541388818311887
            ],
            [
             0.445853209274382
            ],
            [
             0.500441543804129
            ],
            [
             0.468437913858349
            ],
            [
             0.426104916423229
            ],
            [
             0.512328738973283
            ],
            [
             0.414404902166842
            ]
           ],
           "geo": "geo",
           "hovertemplate": "<b>%{hovertext}</b><br><br>color=droite<br>year=2004<br>gini_display=%{marker.size}<br>iso=%{location}<br>gini=%{customdata[0]}<extra></extra>",
           "hovertext": [
            "Danemark",
            "Estonie",
            "France",
            "Grèce",
            "Irlande",
            "Italie",
            "Portugal",
            "Slovénie"
           ],
           "ids": [
            "Danemark",
            "Estonie",
            "France",
            "Grèce",
            "Irlande",
            "Italie",
            "Portugal",
            "Slovénie"
           ],
           "legendgroup": "droite",
           "locations": [
            "DNK",
            "EST",
            "FRA",
            "GRC",
            "IRL",
            "ITA",
            "PRT",
            "SVN"
           ],
           "marker": {
            "color": "blue",
            "size": [
             0.003491341271532557,
             0.025179997949565096,
             0.007855093925402595,
             0.015707972454499026,
             0.010566039485714118,
             0.0059854839538683955,
             0.018083908848029587,
             0.005064648450346241
            ],
            "sizemode": "area",
            "sizeref": 0.00008220833806065717,
            "symbol": "circle"
           },
           "mode": "markers",
           "name": "droite",
           "showlegend": true,
           "type": "scattergeo"
          }
         ],
         "name": "2004"
        },
        {
         "data": [
          {
           "customdata": [
            [
             0.455517612322483
            ],
            [
             0.505662778629315
            ],
            [
             0.414503086499014
            ],
            [
             0.407589705554227
            ],
            [
             0.412626708249054
            ]
           ],
           "geo": "geo",
           "hovertemplate": "<b>%{hovertext}</b><br><br>color=centre<br>year=2005<br>gini_display=%{marker.size}<br>iso=%{location}<br>gini=%{customdata[0]}<extra></extra>",
           "hovertext": [
            "Autriche",
            "Luxembourg",
            "Malte",
            "Pays-Bas",
            "Slovaquie"
           ],
           "ids": [
            "Autriche",
            "Luxembourg",
            "Malte",
            "Pays-Bas",
            "Slovaquie"
           ],
           "legendgroup": "centre",
           "locations": [
            "AUT",
            "LUX",
            "MLT",
            "NLD",
            "SVK"
           ],
           "marker": {
            "color": "orange",
            "size": [
             0.008933693330889484,
             0.016717291708732842,
             0.005071852473647849,
             0.0045849989366655445,
             0.0049356460975721085
            ],
            "sizemode": "area",
            "sizeref": 0.00008220833806065717,
            "symbol": "circle"
           },
           "mode": "markers",
           "name": "centre",
           "showlegend": true,
           "type": "scattergeo"
          },
          {
           "customdata": [
            [
             0.445445179005965
            ],
            [
             0.425734359807918
            ],
            [
             0.387353181663379
            ],
            [
             0.422956228344482
            ],
            [
             0.466909360710098
            ],
            [
             0.415640718682088
            ],
            [
             0.490571842493656
            ],
            [
             0.478316203383031
            ],
            [
             0.505381233428848
            ],
            [
             0.452058954782409
            ],
            [
             0.409903142146725
            ],
            [
             0.497581819158633
            ]
           ],
           "geo": "geo",
           "hovertemplate": "<b>%{hovertext}</b><br><br>color=gauche<br>year=2005<br>gini_display=%{marker.size}<br>iso=%{location}<br>gini=%{customdata[0]}<extra></extra>",
           "hovertext": [
            "Belgique",
            "Chypre",
            "République tchèque",
            "Finlande",
            "Allemagne",
            "Hongrie",
            "Lituanie",
            "Pologne",
            "Portugal",
            "Espagne",
            "Suède",
            "Royaume-Uni"
           ],
           "ids": [
            "Belgique",
            "Chypre",
            "République tchèque",
            "Finlande",
            "Allemagne",
            "Hongrie",
            "Lituanie",
            "Pologne",
            "Portugal",
            "Espagne",
            "Suède",
            "Royaume-Uni"
           ],
           "legendgroup": "gauche",
           "locations": [
            "BEL",
            "CYP",
            "CZE",
            "FIN",
            "DEU",
            "HUN",
            "LTU",
            "POL",
            "PRT",
            "ESP",
            "SWE",
            "GBR"
           ],
           "marker": {
            "color": "red",
            "size": [
             0.007812060138747685,
             0.005954320583645825,
             0.003377868708175338,
             0.005724961203262562,
             0.010360852360078825,
             0.005155947927215822,
             0.01393848921865807,
             0.011975414637262862,
             0.016661521814658766,
             0.008534350190417785,
             0.004743375266454902,
             0.015177037992517916
            ],
            "sizemode": "area",
            "sizeref": 0.00008220833806065717,
            "symbol": "circle"
           },
           "mode": "markers",
           "name": "gauche",
           "showlegend": true,
           "type": "scattergeo"
          },
          {
           "customdata": [
            [
             0.402490460710126
            ],
            [
             0.562453676525294
            ],
            [
             0.441474119608714
            ],
            [
             0.50453130255087
            ],
            [
             0.469414349281742
            ],
            [
             0.426190078969643
            ],
            [
             0.522818523006533
            ],
            [
             0.417908875715464
            ]
           ],
           "geo": "geo",
           "hovertemplate": "<b>%{hovertext}</b><br><br>color=droite<br>year=2005<br>gini_display=%{marker.size}<br>iso=%{location}<br>gini=%{customdata[0]}<extra></extra>",
           "hovertext": [
            "Danemark",
            "Estonie",
            "France",
            "Grèce",
            "Irlande",
            "Italie",
            "Lettonie",
            "Slovénie"
           ],
           "ids": [
            "Danemark",
            "Estonie",
            "France",
            "Grèce",
            "Irlande",
            "Italie",
            "Lettonie",
            "Slovénie"
           ],
           "legendgroup": "droite",
           "locations": [
            "DNK",
            "EST",
            "FRA",
            "GRC",
            "IRL",
            "ITA",
            "LVA",
            "SVN"
           ],
           "marker": {
            "color": "blue",
            "size": [
             0.004251415490023801,
             0.03166070342011002,
             0.007403404778874667,
             0.016494102823600996,
             0.010698876321342286,
             0.005992665196769167,
             0.020422353773674996,
             0.00532708430377213
            ],
            "sizemode": "area",
            "sizeref": 0.00008220833806065717,
            "symbol": "circle"
           },
           "mode": "markers",
           "name": "droite",
           "showlegend": true,
           "type": "scattergeo"
          }
         ],
         "name": "2005"
        },
        {
         "data": [
          {
           "customdata": [
            [
             0.474334351222078
            ],
            [
             0.461728409322657
            ],
            [
             0.414503086499014
            ],
            [
             0.411292980157342
            ],
            [
             0.415825554643764
            ]
           ],
           "geo": "geo",
           "hovertemplate": "<b>%{hovertext}</b><br><br>color=centre<br>year=2006<br>gini_display=%{marker.size}<br>iso=%{location}<br>gini=%{customdata[0]}<extra></extra>",
           "hovertext": [
            "Autriche",
            "Luxembourg",
            "Malte",
            "Pays-Bas",
            "Slovaquie"
           ],
           "ids": [
            "Autriche",
            "Luxembourg",
            "Malte",
            "Pays-Bas",
            "Slovaquie"
           ],
           "legendgroup": "centre",
           "locations": [
            "AUT",
            "LUX",
            "MLT",
            "NLD",
            "SVK"
           ],
           "marker": {
            "color": "orange",
            "size": [
             0.011389573563648694,
             0.00968990636485405,
             0.005071852473647849,
             0.004840695704155138,
             0.005169720370842363
            ],
            "sizemode": "area",
            "sizeref": 0.00008220833806065717,
            "symbol": "circle"
           },
           "mode": "markers",
           "name": "centre",
           "showlegend": true,
           "type": "scattergeo"
          },
          {
           "customdata": [
            [
             0.447883566669781
            ],
            [
             0.393016695028628
            ],
            [
             0.433826940459554
            ],
            [
             0.471523933149392
            ],
            [
             0.429996872940347
            ],
            [
             0.427278663827808
            ],
            [
             0.469579837445242
            ],
            [
             0.514382948562937
            ],
            [
             0.45819213005127
            ],
            [
             0.418795706442879
            ],
            [
             0.501202499723476
            ]
           ],
           "geo": "geo",
           "hovertemplate": "<b>%{hovertext}</b><br><br>color=gauche<br>year=2006<br>gini_display=%{marker.size}<br>iso=%{location}<br>gini=%{customdata[0]}<extra></extra>",
           "hovertext": [
            "Belgique",
            "République tchèque",
            "Finlande",
            "Allemagne",
            "Hongrie",
            "Italie",
            "Lituanie",
            "Portugal",
            "Espagne",
            "Suède",
            "Royaume-Uni"
           ],
           "ids": [
            "Belgique",
            "République tchèque",
            "Finlande",
            "Allemagne",
            "Hongrie",
            "Italie",
            "Lituanie",
            "Portugal",
            "Espagne",
            "Suède",
            "Royaume-Uni"
           ],
           "legendgroup": "gauche",
           "locations": [
            "BEL",
            "CZE",
            "FIN",
            "DEU",
            "HUN",
            "ITA",
            "LTU",
            "PRT",
            "ESP",
            "SWE",
            "GBR"
           ],
           "marker": {
            "color": "red",
            "size": [
             0.008072178707154683,
             0.0036852418588463206,
             0.006666518798000908,
             0.010990626436422873,
             0.00632108723151211,
             0.006085093295082477,
             0.010721527080970237,
             0.018523343548487226,
             0.009253067975478613,
             0.005395271740922237,
             0.015851828683289475
            ],
            "sizemode": "area",
            "sizeref": 0.00008220833806065717,
            "symbol": "circle"
           },
           "mode": "markers",
           "name": "gauche",
           "showlegend": true,
           "type": "scattergeo"
          },
          {
           "customdata": [
            [
             0.440315463121642
            ],
            [
             0.406607988342785
            ],
            [
             0.533622717517844
            ],
            [
             0.441013630383289
            ],
            [
             0.493920237149172
            ],
            [
             0.478147911738446
            ],
            [
             0.495904611932534
            ],
            [
             0.478716404080799
            ],
            [
             0.419689658502319
            ]
           ],
           "geo": "geo",
           "hovertemplate": "<b>%{hovertext}</b><br><br>color=droite<br>year=2006<br>gini_display=%{marker.size}<br>iso=%{location}<br>gini=%{customdata[0]}<extra></extra>",
           "hovertext": [
            "Chypre",
            "Danemark",
            "Estonie",
            "France",
            "Grèce",
            "Irlande",
            "Lettonie",
            "Pologne",
            "Slovénie"
           ],
           "ids": [
            "Chypre",
            "Danemark",
            "Estonie",
            "France",
            "Grèce",
            "Irlande",
            "Lettonie",
            "Pologne",
            "Slovénie"
           ],
           "legendgroup": "droite",
           "locations": [
            "CYP",
            "DNK",
            "EST",
            "FRA",
            "GRC",
            "IRL",
            "LVA",
            "POL",
            "SVN"
           ],
           "marker": {
            "color": "blue",
            "size": [
             0.00728758485149329,
             0.004519136298654077,
             0.0230890392046243,
             0.007357191735821803,
             0.014519141037249389,
             0.011950156153616337,
             0.014872668007803975,
             0.012035658532139231,
             0.005464741306109296
            ],
            "sizemode": "area",
            "sizeref": 0.00008220833806065717,
            "symbol": "circle"
           },
           "mode": "markers",
           "name": "droite",
           "showlegend": true,
           "type": "scattergeo"
          }
         ],
         "name": "2006"
        },
        {
         "data": [
          {
           "customdata": [
            [
             0.456117807416403
            ],
            [
             0.432370235141015
            ],
            [
             0.49640924672957
            ],
            [
             0.423672651237611
            ],
            [
             0.423454668933928
            ]
           ],
           "geo": "geo",
           "hovertemplate": "<b>%{hovertext}</b><br><br>color=centre<br>year=2007<br>gini_display=%{marker.size}<br>iso=%{location}<br>gini=%{customdata[0]}<extra></extra>",
           "hovertext": [
            "Autriche",
            "Finlande",
            "Luxembourg",
            "Malte",
            "Pays-Bas"
           ],
           "ids": [
            "Autriche",
            "Finlande",
            "Luxembourg",
            "Malte",
            "Pays-Bas"
           ],
           "legendgroup": "centre",
           "locations": [
            "AUT",
            "FIN",
            "LUX",
            "MLT",
            "NLD"
           ],
           "marker": {
            "color": "orange",
            "size": [
             0.009004553191385958,
             0.0065333320887365496,
             0.014963706304624437,
             0.0057833913742856525,
             0.005765560770627745
            ],
            "sizemode": "area",
            "sizeref": 0.00008220833806065717,
            "symbol": "circle"
           },
           "mode": "markers",
           "name": "centre",
           "showlegend": true,
           "type": "scattergeo"
          },
          {
           "customdata": [
            [
             0.453517260764624
            ],
            [
             0.468849851100725
            ],
            [
             0.482442835602477
            ],
            [
             0.439101378320087
            ],
            [
             0.428758539924374
            ],
            [
             0.490354763775521
            ],
            [
             0.512846351929815
            ],
            [
             0.412755996429613
            ],
            [
             0.459486595920428
            ],
            [
             0.498690825813846
            ]
           ],
           "geo": "geo",
           "hovertemplate": "<b>%{hovertext}</b><br><br>color=gauche<br>year=2007<br>gini_display=%{marker.size}<br>iso=%{location}<br>gini=%{customdata[0]}<extra></extra>",
           "hovertext": [
            "Belgique",
            "Bulgarie",
            "Allemagne",
            "Hongrie",
            "Italie",
            "Lituanie",
            "Portugal",
            "Slovaquie",
            "Espagne",
            "Royaume-Uni"
           ],
           "ids": [
            "Belgique",
            "Bulgarie",
            "Allemagne",
            "Hongrie",
            "Italie",
            "Lituanie",
            "Portugal",
            "Slovaquie",
            "Espagne",
            "Royaume-Uni"
           ],
           "legendgroup": "gauche",
           "locations": [
            "BEL",
            "BGR",
            "DEU",
            "HUN",
            "ITA",
            "LTU",
            "PRT",
            "SVK",
            "ESP",
            "GBR"
           ],
           "marker": {
            "color": "red",
            "size": [
             0.008700874913832037,
             0.010621911888521593,
             0.012608841005902533,
             0.007167848244944916,
             0.006212647315671724,
             0.013901523328987453,
             0.018193808674559435,
             0.004944932274476547,
             0.009411028321204794,
             0.015381131057479248
            ],
            "sizemode": "area",
            "sizeref": 0.00008220833806065717,
            "symbol": "circle"
           },
           "mode": "markers",
           "name": "gauche",
           "showlegend": true,
           "type": "scattergeo"
          },
          {
           "customdata": [
            [
             0.432361735470176
            ],
            [
             0.391468934250156
            ],
            [
             0.40060881502999
            ],
            [
             0.518974476730349
            ],
            [
             0.445245810019252
            ],
            [
             0.482738320384808
            ],
            [
             0.480614355455518
            ],
            [
             0.527685185476399
            ],
            [
             0.478664298584647
            ],
            [
             0.56601678469552
            ],
            [
             0.418407265605904
            ],
            [
             0.418830683335486
            ]
           ],
           "geo": "geo",
           "hovertemplate": "<b>%{hovertext}</b><br><br>color=droite<br>year=2007<br>gini_display=%{marker.size}<br>iso=%{location}<br>gini=%{customdata[0]}<extra></extra>",
           "hovertext": [
            "Chypre",
            "République tchèque",
            "Danemark",
            "Estonie",
            "France",
            "Grèce",
            "Irlande",
            "Lettonie",
            "Pologne",
            "Roumanie",
            "Slovénie",
            "Suède"
           ],
           "ids": [
            "Chypre",
            "République tchèque",
            "Danemark",
            "Estonie",
            "France",
            "Grèce",
            "Irlande",
            "Lettonie",
            "Pologne",
            "Roumanie",
            "Slovénie",
            "Suède"
           ],
           "legendgroup": "droite",
           "locations": [
            "CYP",
            "CZE",
            "DNK",
            "EST",
            "FRA",
            "GRC",
            "IRL",
            "LVA",
            "POL",
            "ROU",
            "SVN",
            "SWE"
           ],
           "marker": {
            "color": "blue",
            "size": [
             0.0065325615207556175,
             0.0035990163619590643,
             0.004133548216422764,
             0.01953781522799778,
             0.0077911048215324585,
             0.012655247707142523,
             0.012324815637474614,
             0.021589839330036737,
             0.01202780060207754,
             0.032883335224262865,
             0.0053653159857846395,
             0.005397975912574308
            ],
            "sizemode": "area",
            "sizeref": 0.00008220833806065717,
            "symbol": "circle"
           },
           "mode": "markers",
           "name": "droite",
           "showlegend": true,
           "type": "scattergeo"
          }
         ],
         "name": "2007"
        },
        {
         "data": [
          {
           "customdata": [
            [
             0.489348104061463
            ],
            [
             0.42179454786527
            ],
            [
             0.397749414101923
            ]
           ],
           "geo": "geo",
           "hovertemplate": "<b>%{hovertext}</b><br><br>color=centre<br>year=2008<br>gini_display=%{marker.size}<br>iso=%{location}<br>gini=%{customdata[0]}<extra></extra>",
           "hovertext": [
            "Luxembourg",
            "Malte",
            "Pays-Bas"
           ],
           "ids": [
            "Luxembourg",
            "Malte",
            "Pays-Bas"
           ],
           "legendgroup": "centre",
           "locations": [
            "LUX",
            "MLT",
            "NLD"
           ],
           "marker": {
            "color": "orange",
            "size": [
             0.013731167347920606,
             0.005631262474484352,
             0.003959654485028041
            ],
            "sizemode": "area",
            "sizeref": 0.00008220833806065717,
            "symbol": "circle"
           },
           "mode": "markers",
           "name": "centre",
           "showlegend": true,
           "type": "scattergeo"
          },
          {
           "customdata": [
            [
             0.456398848608722
            ],
            [
             0.46095831002245
            ],
            [
             0.462967606408235
            ],
            [
             0.483723815971082
            ],
            [
             0.428664044877699
            ],
            [
             0.492500876696742
            ],
            [
             0.496615146910877
            ],
            [
             0.404771795763875
            ],
            [
             0.458982794387037
            ],
            [
             0.488280475293095
            ]
           ],
           "geo": "geo",
           "hovertemplate": "<b>%{hovertext}</b><br><br>color=gauche<br>year=2008<br>gini_display=%{marker.size}<br>iso=%{location}<br>gini=%{customdata[0]}<extra></extra>",
           "hovertext": [
            "Autriche",
            "Bulgarie",
            "Chypre",
            "Allemagne",
            "Hongrie",
            "Lituanie",
            "Portugal",
            "Slovaquie",
            "Espagne",
            "Royaume-Uni"
           ],
           "ids": [
            "Autriche",
            "Bulgarie",
            "Chypre",
            "Allemagne",
            "Hongrie",
            "Lituanie",
            "Portugal",
            "Slovaquie",
            "Espagne",
            "Royaume-Uni"
           ],
           "legendgroup": "gauche",
           "locations": [
            "AUT",
            "BGR",
            "CYP",
            "DEU",
            "HUN",
            "LTU",
            "PRT",
            "SVK",
            "ESP",
            "GBR"
           ],
           "marker": {
            "color": "red",
            "size": [
             0.009037893943317825,
             0.009593341228622265,
             0.009846992981936933,
             0.012811052811406863,
             0.006204436525997755,
             0.0142705938988405,
             0.01500098473764164,
             0.004398063152451886,
             0.009349285761736739,
             0.013552398141964048
            ],
            "sizemode": "area",
            "sizeref": 0.00008220833806065717,
            "symbol": "circle"
           },
           "mode": "markers",
           "name": "gauche",
           "showlegend": true,
           "type": "scattergeo"
          },
          {
           "customdata": [
            [
             0.43665234340796
            ],
            [
             0.407874512386925
            ],
            [
             0.403534773882633
            ],
            [
             0.498158041584226
            ],
            [
             0.44657839581242
            ],
            [
             0.441112721595864
            ],
            [
             0.457937282397726
            ],
            [
             0.451636976035857
            ],
            [
             0.426892712735325
            ],
            [
             0.515145125688486
            ],
            [
             0.484800319250752
            ],
            [
             0.560994045728521
            ],
            [
             0.417620926474646
            ],
            [
             0.411994520335881
            ]
           ],
           "geo": "geo",
           "hovertemplate": "<b>%{hovertext}</b><br><br>color=droite<br>year=2008<br>gini_display=%{marker.size}<br>iso=%{location}<br>gini=%{customdata[0]}<extra></extra>",
           "hovertext": [
            "Belgique",
            "République tchèque",
            "Danemark",
            "Estonie",
            "Finlande",
            "France",
            "Grèce",
            "Irlande",
            "Italie",
            "Lettonie",
            "Pologne",
            "Roumanie",
            "Slovénie",
            "Suède"
           ],
           "ids": [
            "Belgique",
            "République tchèque",
            "Danemark",
            "Estonie",
            "Finlande",
            "France",
            "Grèce",
            "Irlande",
            "Italie",
            "Lettonie",
            "Pologne",
            "Roumanie",
            "Slovénie",
            "Suède"
           ],
           "legendgroup": "droite",
           "locations": [
            "BEL",
            "CZE",
            "DNK",
            "EST",
            "FIN",
            "FRA",
            "GRC",
            "IRL",
            "ITA",
            "LVA",
            "POL",
            "ROU",
            "SVN",
            "SWE"
           ],
           "marker": {
            "color": "blue",
            "size": [
             0.006931301199756279,
             0.004604255394315934,
             0.00431803135196031,
             0.015282797976734734,
             0.007932064844539495,
             0.007367115819408509,
             0.009222231399033963,
             0.008486662773446353,
             0.0060521885210694055,
             0.018688634448961367,
             0.012983069528873016,
             0.03117091211176743,
             0.005305099271483674,
             0.004890447926104153
            ],
            "sizemode": "area",
            "sizeref": 0.00008220833806065717,
            "symbol": "circle"
           },
           "mode": "markers",
           "name": "droite",
           "showlegend": true,
           "type": "scattergeo"
          }
         ],
         "name": "2008"
        },
        {
         "data": [
          {
           "customdata": [
            [
             0.484840150619064
            ],
            [
             0.441342839430522
            ],
            [
             0.434525154458273
            ],
            [
             0.398814202622868
            ]
           ],
           "geo": "geo",
           "hovertemplate": "<b>%{hovertext}</b><br><br>color=centre<br>year=2009<br>gini_display=%{marker.size}<br>iso=%{location}<br>gini=%{customdata[0]}<extra></extra>",
           "hovertext": [
            "Allemagne",
            "Luxembourg",
            "Malte",
            "Pays-Bas"
           ],
           "ids": [
            "Allemagne",
            "Luxembourg",
            "Malte",
            "Pays-Bas"
           ],
           "legendgroup": "centre",
           "locations": [
            "DEU",
            "LUX",
            "MLT",
            "NLD"
           ],
           "marker": {
            "color": "orange",
            "size": [
             0.012989471005542796,
             0.00739020539076883,
             0.006731154138605373,
             0.004023682427978692
            ],
            "sizemode": "area",
            "sizeref": 0.00008220833806065717,
            "symbol": "circle"
           },
           "mode": "markers",
           "name": "centre",
           "showlegend": true,
           "type": "scattergeo"
          },
          {
           "customdata": [
            [
             0.448019272298659
            ],
            [
             0.46795606807256
            ],
            [
             0.420567094710265
            ],
            [
             0.48952039960962
            ],
            [
             0.397780767166481
            ],
            [
             0.412318177316044
            ],
            [
             0.469573180858831
            ],
            [
             0.506127928006578
            ]
           ],
           "geo": "geo",
           "hovertemplate": "<b>%{hovertext}</b><br><br>color=gauche<br>year=2009<br>gini_display=%{marker.size}<br>iso=%{location}<br>gini=%{customdata[0]}<extra></extra>",
           "hovertext": [
            "Autriche",
            "Chypre",
            "Hongrie",
            "Portugal",
            "Slovaquie",
            "Slovénie",
            "Espagne",
            "Royaume-Uni"
           ],
           "ids": [
            "Autriche",
            "Chypre",
            "Hongrie",
            "Portugal",
            "Slovaquie",
            "Slovénie",
            "Espagne",
            "Royaume-Uni"
           ],
           "legendgroup": "gauche",
           "locations": [
            "AUT",
            "CYP",
            "HUN",
            "PRT",
            "SVK",
            "SVN",
            "ESP",
            "GBR"
           ],
           "marker": {
            "color": "red",
            "size": [
             0.008086864714166923,
             0.010500996152382387,
             0.0055336507048574235,
             0.013760200697735408,
             0.003961527600602938,
             0.004913544439340617,
             0.010720615207377025,
             0.016809771630188996
            ],
            "sizemode": "area",
            "sizeref": 0.00008220833806065717,
            "symbol": "circle"
           },
           "mode": "markers",
           "name": "gauche",
           "showlegend": true,
           "type": "scattergeo"
          },
          {
           "customdata": [
            [
             0.432058443350269
            ],
            [
             0.465792231972667
            ],
            [
             0.38404262063699
            ],
            [
             0.394311855503268
            ],
            [
             0.47025066221506
            ],
            [
             0.435721220014807
            ],
            [
             0.428486522352689
            ],
            [
             0.451078409240747
            ],
            [
             0.43489179583533
            ],
            [
             0.423865166946269
            ],
            [
             0.499885500411461
            ],
            [
             0.493787576321855
            ],
            [
             0.474417200911766
            ],
            [
             0.55863543997576
            ],
            [
             0.40343340719301
            ]
           ],
           "geo": "geo",
           "hovertemplate": "<b>%{hovertext}</b><br><br>color=droite<br>year=2009<br>gini_display=%{marker.size}<br>iso=%{location}<br>gini=%{customdata[0]}<extra></extra>",
           "hovertext": [
            "Belgique",
            "Bulgarie",
            "République tchèque",
            "Danemark",
            "Estonie",
            "Finlande",
            "France",
            "Grèce",
            "Irlande",
            "Italie",
            "Lettonie",
            "Lituanie",
            "Pologne",
            "Roumanie",
            "Suède"
           ],
           "ids": [
            "Belgique",
            "Bulgarie",
            "République tchèque",
            "Danemark",
            "Estonie",
            "Finlande",
            "France",
            "Grèce",
            "Irlande",
            "Italie",
            "Lettonie",
            "Lituanie",
            "Pologne",
            "Roumanie",
            "Suède"
           ],
           "legendgroup": "droite",
           "locations": [
            "BEL",
            "BGR",
            "CZE",
            "DNK",
            "EST",
            "FIN",
            "FRA",
            "GRC",
            "IRL",
            "ITA",
            "LVA",
            "LTU",
            "POL",
            "ROU",
            "SWE"
           ],
           "marker": {
            "color": "blue",
            "size": [
             0.006505115015180952,
             0.010213002756455695,
             0.0032083116438171677,
             0.0037587116446106653,
             0.010813754227882048,
             0.006843090221200853,
             0.006189035828693249,
             0.008423881349333863,
             0.006765303573390228,
             0.0057991770417327275,
             0.015603543614167856,
             0.014495758779349275,
             0.011401514947703863,
             0.030392813418897893,
             0.004311527380717414
            ],
            "sizemode": "area",
            "sizeref": 0.00008220833806065717,
            "symbol": "circle"
           },
           "mode": "markers",
           "name": "droite",
           "showlegend": true,
           "type": "scattergeo"
          }
         ],
         "name": "2009"
        },
        {
         "data": [
          {
           "customdata": [
            [
             0.439574862959046
            ],
            [
             0.480157067207045
            ],
            [
             0.473922620036284
            ],
            [
             0.427720793732052
            ],
            [
             0.406254911327976
            ]
           ],
           "geo": "geo",
           "hovertemplate": "<b>%{hovertext}</b><br><br>color=centre<br>year=2010<br>gini_display=%{marker.size}<br>iso=%{location}<br>gini=%{customdata[0]}<extra></extra>",
           "hovertext": [
            "Belgique",
            "Allemagne",
            "Luxembourg",
            "Malte",
            "Pays-Bas"
           ],
           "ids": [
            "Belgique",
            "Allemagne",
            "Luxembourg",
            "Malte",
            "Pays-Bas"
           ],
           "legendgroup": "centre",
           "locations": [
            "BEL",
            "DEU",
            "LUX",
            "MLT",
            "NLD"
           ],
           "marker": {
            "color": "orange",
            "size": [
             0.007214348143374213,
             0.012254622925010358,
             0.011330383946770342,
             0.006122970746108137,
             0.004495642269577918
            ],
            "sizemode": "area",
            "sizeref": 0.00008220833806065717,
            "symbol": "circle"
           },
           "mode": "markers",
           "name": "centre",
           "showlegend": true,
           "type": "scattergeo"
          },
          {
           "customdata": [
            [
             0.452107944820788
            ],
            [
             0.455765334798192
            ],
            [
             0.46459236318182
            ],
            [
             0.493993448308872
            ],
            [
             0.417508831020534
            ],
            [
             0.414635324893904
            ],
            [
             0.455527445368489
            ]
           ],
           "geo": "geo",
           "hovertemplate": "<b>%{hovertext}</b><br><br>color=gauche<br>year=2010<br>gini_display=%{marker.size}<br>iso=%{location}<br>gini=%{customdata[0]}<extra></extra>",
           "hovertext": [
            "Autriche",
            "Chypre",
            "Grèce",
            "Portugal",
            "Slovaquie",
            "Slovénie",
            "Espagne"
           ],
           "ids": [
            "Autriche",
            "Chypre",
            "Grèce",
            "Portugal",
            "Slovaquie",
            "Slovénie",
            "Espagne"
           ],
           "legendgroup": "gauche",
           "locations": [
            "AUT",
            "CYP",
            "GRC",
            "PRT",
            "SVK",
            "SVN",
            "ESP"
           ],
           "marker": {
            "color": "red",
            "size": [
             0.008539900945638966,
             0.00896288325780168,
             0.01005616522728003,
             0.014532058391645229,
             0.005296561213636034,
             0.005081568620128438,
             0.008934850478134478
            ],
            "sizemode": "area",
            "sizeref": 0.00008220833806065717,
            "symbol": "circle"
           },
           "mode": "markers",
           "name": "gauche",
           "showlegend": true,
           "type": "scattergeo"
          },
          {
           "customdata": [
            [
             0.4674141965166
            ],
            [
             0.387148829293182
            ],
            [
             0.417157609859089
            ],
            [
             0.487443889096102
            ],
            [
             0.441971762801089
            ],
            [
             0.434769689025973
            ],
            [
             0.427248158190505
            ],
            [
             0.441877989994051
            ],
            [
             0.429653747336138
            ],
            [
             0.483201788926334
            ],
            [
             0.469047476556249
            ],
            [
             0.47342944443519
            ],
            [
             0.516378420447545
            ],
            [
             0.419470831337669
            ],
            [
             0.465462509455271
            ]
           ],
           "geo": "geo",
           "hovertemplate": "<b>%{hovertext}</b><br><br>color=droite<br>year=2010<br>gini_display=%{marker.size}<br>iso=%{location}<br>gini=%{customdata[0]}<extra></extra>",
           "hovertext": [
            "Bulgarie",
            "République tchèque",
            "Danemark",
            "Estonie",
            "Finlande",
            "France",
            "Hongrie",
            "Irlande",
            "Italie",
            "Lettonie",
            "Lituanie",
            "Pologne",
            "Roumanie",
            "Suède",
            "Royaume-Uni"
           ],
           "ids": [
            "Bulgarie",
            "République tchèque",
            "Danemark",
            "Estonie",
            "Finlande",
            "France",
            "Hongrie",
            "Irlande",
            "Italie",
            "Lettonie",
            "Lituanie",
            "Pologne",
            "Roumanie",
            "Suède",
            "Royaume-Uni"
           ],
           "legendgroup": "droite",
           "locations": [
            "BGR",
            "CZE",
            "DNK",
            "EST",
            "FIN",
            "FRA",
            "HUN",
            "IRL",
            "ITA",
            "LVA",
            "LTU",
            "POL",
            "ROU",
            "SWE",
            "GBR"
           ],
           "marker": {
            "color": "blue",
            "size": [
             0.010428249014681288,
             0.0033671906126739913,
             0.0052698836008417274,
             0.013413675043780774,
             0.00745361817014394,
             0.006753914395737073,
             0.006082487082295953,
             0.007444134631267321,
             0.006290883226502749,
             0.012728323387275437,
             0.010648803740523582,
             0.011259823669889346,
             0.018958697989359122,
             0.005447667602315533,
             0.010169702292949275
            ],
            "sizemode": "area",
            "sizeref": 0.00008220833806065717,
            "symbol": "circle"
           },
           "mode": "markers",
           "name": "droite",
           "showlegend": true,
           "type": "scattergeo"
          }
         ],
         "name": "2010"
        },
        {
         "data": [
          {
           "customdata": [
            [
             0.482741725538581
            ],
            [
             0.444188383349012
            ],
            [
             0.468094014047246
            ],
            [
             0.439282957742634
            ],
            [
             0.405282739815594
            ],
            [
             0.405913786438138
            ]
           ],
           "geo": "geo",
           "hovertemplate": "<b>%{hovertext}</b><br><br>color=centre<br>year=2011<br>gini_display=%{marker.size}<br>iso=%{location}<br>gini=%{customdata[0]}<extra></extra>",
           "hovertext": [
            "Allemagne",
            "Irlande",
            "Luxembourg",
            "Malte",
            "Pays-Bas",
            "Slovaquie"
           ],
           "ids": [
            "Allemagne",
            "Irlande",
            "Luxembourg",
            "Malte",
            "Pays-Bas",
            "Slovaquie"
           ],
           "legendgroup": "centre",
           "locations": [
            "DEU",
            "IRL",
            "LUX",
            "MLT",
            "NLD",
            "SVK"
           ],
           "marker": {
            "color": "orange",
            "size": [
             0.012655783324340414,
             0.007680742027911977,
             0.010519583001102107,
             0.007185651150064879,
             0.004431478538714022,
             0.004473040305967471
            ],
            "sizemode": "area",
            "sizeref": 0.00008220833806065717,
            "symbol": "circle"
           },
           "mode": "markers",
           "name": "centre",
           "showlegend": true,
           "type": "scattergeo"
          },
          {
           "customdata": [
            [
             0.44313161634097
            ],
            [
             0.491301772897014
            ],
            [
             0.453192449351753
            ],
            [
             0.408384275242069
            ],
            [
             0.453722837552554
            ]
           ],
           "geo": "geo",
           "hovertemplate": "<b>%{hovertext}</b><br><br>color=gauche<br>year=2011<br>gini_display=%{marker.size}<br>iso=%{location}<br>gini=%{customdata[0]}<extra></extra>",
           "hovertext": [
            "Autriche",
            "Chypre",
            "Grèce",
            "Slovénie",
            "Espagne"
           ],
           "ids": [
            "Autriche",
            "Chypre",
            "Grèce",
            "Slovénie",
            "Espagne"
           ],
           "legendgroup": "gauche",
           "locations": [
            "AUT",
            "CYP",
            "GRC",
            "SVN",
            "ESP"
           ],
           "marker": {
            "color": "red",
            "size": [
             0.007571752712778025,
             0.014063388941691502,
             0.008663552126350756,
             0.004638889930199347,
             0.008724566089191792
            ],
            "sizemode": "area",
            "sizeref": 0.00008220833806065717,
            "symbol": "circle"
           },
           "mode": "markers",
           "name": "gauche",
           "showlegend": true,
           "type": "scattergeo"
          },
          {
           "customdata": [
            [
             0.432704073850916
            ],
            [
             0.46767738451372
            ],
            [
             0.373859652142272
            ],
            [
             0.41941251960678
            ],
            [
             0.499295004001667
            ],
            [
             0.440090944135026
            ],
            [
             0.439953973555678
            ],
            [
             0.420259790209116
            ],
            [
             0.431048878054602
            ],
            [
             0.50652749989608
            ],
            [
             0.468693284741754
            ],
            [
             0.476827135275038
            ],
            [
             0.497640779948002
            ],
            [
             0.525074240469557
            ],
            [
             0.412802015450232
            ],
            [
             0.473092164787289
            ]
           ],
           "geo": "geo",
           "hovertemplate": "<b>%{hovertext}</b><br><br>color=droite<br>year=2011<br>gini_display=%{marker.size}<br>iso=%{location}<br>gini=%{customdata[0]}<extra></extra>",
           "hovertext": [
            "Belgique",
            "Bulgarie",
            "République tchèque",
            "Danemark",
            "Estonie",
            "Finlande",
            "France",
            "Hongrie",
            "Italie",
            "Lettonie",
            "Lituanie",
            "Pologne",
            "Portugal",
            "Roumanie",
            "Suède",
            "Royaume-Uni"
           ],
           "ids": [
            "Belgique",
            "Bulgarie",
            "République tchèque",
            "Danemark",
            "Estonie",
            "Finlande",
            "France",
            "Hongrie",
            "Italie",
            "Lettonie",
            "Lituanie",
            "Pologne",
            "Portugal",
            "Roumanie",
            "Suède",
            "Royaume-Uni"
           ],
           "legendgroup": "droite",
           "locations": [
            "BEL",
            "BGR",
            "CZE",
            "DNK",
            "EST",
            "FIN",
            "FRA",
            "HUN",
            "ITA",
            "LVA",
            "LTU",
            "POL",
            "PRT",
            "ROU",
            "SWE",
            "GBR"
           ],
           "marker": {
            "color": "blue",
            "size": [
             0.0065636573990511815,
             0.010463529796487467,
             0.0027305591282161803,
             0.005443125414500861,
             0.01549327833089456,
             0.007265317405270665,
             0.0072517607424067215,
             0.005509434653186182,
             0.006414445421686676,
             0.01688955362654233,
             0.010600647345360715,
             0.0117534610806017,
             0.01518783157743386,
             0.020956766618392915,
             0.004948241121056098,
             0.011211779105642377
            ],
            "sizemode": "area",
            "sizeref": 0.00008220833806065717,
            "symbol": "circle"
           },
           "mode": "markers",
           "name": "droite",
           "showlegend": true,
           "type": "scattergeo"
          }
         ],
         "name": "2011"
        },
        {
         "data": [
          {
           "customdata": [
            [
             0.482124414368769
            ],
            [
             0.438357060163984
            ],
            [
             0.455863520976045
            ],
            [
             0.448775582053788
            ],
            [
             0.453894367358785
            ]
           ],
           "geo": "geo",
           "hovertemplate": "<b>%{hovertext}</b><br><br>color=centre<br>year=2012<br>gini_display=%{marker.size}<br>iso=%{location}<br>gini=%{customdata[0]}<extra></extra>",
           "hovertext": [
            "Allemagne",
            "Irlande",
            "Luxembourg",
            "Malte",
            "Espagne"
           ],
           "ids": [
            "Allemagne",
            "Irlande",
            "Luxembourg",
            "Malte",
            "Espagne"
           ],
           "legendgroup": "centre",
           "locations": [
            "DEU",
            "IRL",
            "LUX",
            "MLT",
            "ESP"
           ],
           "marker": {
            "color": "orange",
            "size": [
             0.012558990908467842,
             0.00709525541934817,
             0.008974474819746482,
             0.008169120705779073,
             0.008744374722838611
            ],
            "sizemode": "area",
            "sizeref": 0.00008220833806065717,
            "symbol": "circle"
           },
           "mode": "markers",
           "name": "centre",
           "showlegend": true,
           "type": "scattergeo"
          },
          {
           "customdata": [
            [
             0.425455120841482
            ],
            [
             0.433726731930966
            ],
            [
             0.495880331446308
            ],
            [
             0.42114639805034
            ],
            [
             0.434591710656981
            ],
            [
             0.432253317820137
            ],
            [
             0.433339452463804
            ],
            [
             0.39950535386625
            ]
           ],
           "geo": "geo",
           "hovertemplate": "<b>%{hovertext}</b><br><br>color=gauche<br>year=2012<br>gini_display=%{marker.size}<br>iso=%{location}<br>gini=%{customdata[0]}<extra></extra>",
           "hovertext": [
            "Autriche",
            "Belgique",
            "Chypre",
            "Danemark",
            "Finlande",
            "France",
            "Italie",
            "Slovaquie"
           ],
           "ids": [
            "Autriche",
            "Belgique",
            "Chypre",
            "Danemark",
            "Finlande",
            "France",
            "Italie",
            "Slovaquie"
           ],
           "legendgroup": "gauche",
           "locations": [
            "AUT",
            "BEL",
            "CYP",
            "DNK",
            "FIN",
            "FRA",
            "ITA",
            "SVK"
           ],
           "marker": {
            "color": "red",
            "size": [
             0.005930926357236812,
             0.006657284843311363,
             0.01486829936832122,
             0.005579541907104738,
             0.0067373425713787615,
             0.00652273917433536,
             0.006621698179277593,
             0.004065702741893173
            ],
            "sizemode": "area",
            "sizeref": 0.00008220833806065717,
            "symbol": "circle"
           },
           "mode": "markers",
           "name": "gauche",
           "showlegend": true,
           "type": "scattergeo"
          },
          {
           "customdata": [
            [
             0.488458850048239
            ],
            [
             0.387611794490652
            ],
            [
             0.513708132016639
            ],
            [
             0.456526482294835
            ],
            [
             0.412163844063713
            ],
            [
             0.505406681329973
            ],
            [
             0.490482220787765
            ],
            [
             0.407849383559335
            ],
            [
             0.472727749251568
            ],
            [
             0.48289201104614
            ],
            [
             0.537944736683244
            ],
            [
             0.414849436324614
            ],
            [
             0.392278426957219
            ],
            [
             0.484626031031574
            ]
           ],
           "geo": "geo",
           "hovertemplate": "<b>%{hovertext}</b><br><br>color=droite<br>year=2012<br>gini_display=%{marker.size}<br>iso=%{location}<br>gini=%{customdata[0]}<extra></extra>",
           "hovertext": [
            "Bulgarie",
            "République tchèque",
            "Estonie",
            "Grèce",
            "Hongrie",
            "Lettonie",
            "Lituanie",
            "Pays-Bas",
            "Pologne",
            "Portugal",
            "Roumanie",
            "Slovénie",
            "Suède",
            "Royaume-Uni"
           ],
           "ids": [
            "Bulgarie",
            "République tchèque",
            "Estonie",
            "Grèce",
            "Hongrie",
            "Lettonie",
            "Lituanie",
            "Pays-Bas",
            "Pologne",
            "Portugal",
            "Roumanie",
            "Slovénie",
            "Suède",
            "Royaume-Uni"
           ],
           "legendgroup": "droite",
           "locations": [
            "BGR",
            "CZE",
            "EST",
            "GRC",
            "HUN",
            "LVA",
            "LTU",
            "NLD",
            "POL",
            "PRT",
            "ROU",
            "SVN",
            "SWE",
            "GBR"
           ],
           "marker": {
            "color": "blue",
            "size": [
             0.013582130412661285,
             0.003391422533129787,
             0.018378016793809883,
             0.009053069439520075,
             0.004902519739338416,
             0.01666655628104332,
             0.013923217806635106,
             0.004602553669140063,
             0.011160061234563132,
             0.012679441462385772,
             0.02423404868801251,
             0.005097333231943075,
             0.0036439008436939084,
             0.012955089803176426
            ],
            "sizemode": "area",
            "sizeref": 0.00008220833806065717,
            "symbol": "circle"
           },
           "mode": "markers",
           "name": "droite",
           "showlegend": true,
           "type": "scattergeo"
          }
         ],
         "name": "2012"
        },
        {
         "data": [
          {
           "customdata": [
            [
             0.495995904852776
            ],
            [
             0.451325234627941
            ],
            [
             0.449212301862072
            ],
            [
             0.456974485364391
            ]
           ],
           "geo": "geo",
           "hovertemplate": "<b>%{hovertext}</b><br><br>color=centre<br>year=2013<br>gini_display=%{marker.size}<br>iso=%{location}<br>gini=%{customdata[0]}<extra></extra>",
           "hovertext": [
            "Allemagne",
            "Irlande",
            "Luxembourg",
            "Espagne"
           ],
           "ids": [
            "Allemagne",
            "Irlande",
            "Luxembourg",
            "Espagne"
           ],
           "legendgroup": "centre",
           "locations": [
            "DEU",
            "IRL",
            "LUX",
            "ESP"
           ],
           "marker": {
            "color": "orange",
            "size": [
             0.014889103358154573,
             0.008451575969226972,
             0.008216934905370133,
             0.009106504667734236
            ],
            "sizemode": "area",
            "sizeref": 0.00008220833806065717,
            "symbol": "circle"
           },
           "mode": "markers",
           "name": "centre",
           "showlegend": true,
           "type": "scattergeo"
          },
          {
           "customdata": [
            [
             0.425356293956506
            ],
            [
             0.435816913867446
            ],
            [
             0.477201318304264
            ],
            [
             0.431739684395481
            ],
            [
             0.430887593050865
            ],
            [
             0.429906378871358
            ],
            [
             0.430428446433033
            ],
            [
             0.498708055628555
            ],
            [
             0.450259290489484
            ],
            [
             0.5306191921131
            ],
            [
             0.419760000146695
            ],
            [
             0.413796266387696
            ]
           ],
           "geo": "geo",
           "hovertemplate": "<b>%{hovertext}</b><br><br>color=gauche<br>year=2013<br>gini_display=%{marker.size}<br>iso=%{location}<br>gini=%{customdata[0]}<extra></extra>",
           "hovertext": [
            "Autriche",
            "Belgique",
            "Croatie",
            "Danemark",
            "Finlande",
            "France",
            "Italie",
            "Lituanie",
            "Malte",
            "Roumanie",
            "Slovaquie",
            "Slovénie"
           ],
           "ids": [
            "Autriche",
            "Belgique",
            "Croatie",
            "Danemark",
            "Finlande",
            "France",
            "Italie",
            "Lituanie",
            "Malte",
            "Roumanie",
            "Slovaquie",
            "Slovénie"
           ],
           "legendgroup": "gauche",
           "locations": [
            "AUT",
            "BEL",
            "HRV",
            "DNK",
            "FIN",
            "FRA",
            "ITA",
            "LTU",
            "MLT",
            "ROU",
            "SVK",
            "SVN"
           ],
           "marker": {
            "color": "red",
            "size": [
             0.005922665161013386,
             0.00685211252196696,
             0.0118089098892129,
             0.006476372474463435,
             0.006400058376807761,
             0.006313109684708636,
             0.006359248456493908,
             0.01538431985000705,
             0.008332514843208448,
             0.022320181627308464,
             0.00547023908264059,
             0.005020181358476428
            ],
            "sizemode": "area",
            "sizeref": 0.00008220833806065717,
            "symbol": "circle"
           },
           "mode": "markers",
           "name": "gauche",
           "showlegend": true,
           "type": "scattergeo"
          },
          {
           "customdata": [
            [
             0.468963071813974
            ],
            [
             0.524803432537936
            ],
            [
             0.376067203598044
            ],
            [
             0.521752432632042
            ],
            [
             0.461220376211905
            ],
            [
             0.425298143720653
            ],
            [
             0.504337659553059
            ],
            [
             0.404580406622435
            ],
            [
             0.472029159475696
            ],
            [
             0.494249205642184
            ],
            [
             0.394379125265161
            ],
            [
             0.499662323943774
            ]
           ],
           "geo": "geo",
           "hovertemplate": "<b>%{hovertext}</b><br><br>color=droite<br>year=2013<br>gini_display=%{marker.size}<br>iso=%{location}<br>gini=%{customdata[0]}<extra></extra>",
           "hovertext": [
            "Bulgarie",
            "Chypre",
            "République tchèque",
            "Estonie",
            "Grèce",
            "Hongrie",
            "Lettonie",
            "Pays-Bas",
            "Pologne",
            "Portugal",
            "Suède",
            "Royaume-Uni"
           ],
           "ids": [
            "Bulgarie",
            "Chypre",
            "République tchèque",
            "Estonie",
            "Grèce",
            "Hongrie",
            "Lettonie",
            "Pays-Bas",
            "Pologne",
            "Portugal",
            "Suède",
            "Royaume-Uni"
           ],
           "legendgroup": "droite",
           "locations": [
            "BGR",
            "CYP",
            "CZE",
            "EST",
            "GRC",
            "HUN",
            "LVA",
            "NLD",
            "POL",
            "PRT",
            "SWE",
            "GBR"
           ],
           "marker": {
            "color": "blue",
            "size": [
             0.010637311446115372,
             0.020891999250421366,
             0.0028287382592386244,
             0.02017376212615713,
             0.009626112084571066,
             0.005917808714396998,
             0.016456155868927538,
             0.004385600616864862,
             0.011061473094998787,
             0.014577259328646402,
             0.0037625607122681475,
             0.015561792541796505
            ],
            "sizemode": "area",
            "sizeref": 0.00008220833806065717,
            "symbol": "circle"
           },
           "mode": "markers",
           "name": "droite",
           "showlegend": true,
           "type": "scattergeo"
          }
         ],
         "name": "2013"
        },
        {
         "data": [
          {
           "customdata": [
            [
             0.4993390734748
            ],
            [
             0.456686093176405
            ],
            [
             0.459053388723788
            ]
           ],
           "geo": "geo",
           "hovertemplate": "<b>%{hovertext}</b><br><br>color=centre<br>year=2014<br>gini_display=%{marker.size}<br>iso=%{location}<br>gini=%{customdata[0]}<extra></extra>",
           "hovertext": [
            "Allemagne",
            "Irlande",
            "Espagne"
           ],
           "ids": [
            "Allemagne",
            "Irlande",
            "Espagne"
           ],
           "legendgroup": "centre",
           "locations": [
            "DEU",
            "IRL",
            "ESP"
           ],
           "marker": {
            "color": "orange",
            "size": [
             0.0155014850778487,
             0.00907207686206191,
             0.009357916940989508
            ],
            "sizemode": "area",
            "sizeref": 0.00008220833806065717,
            "symbol": "circle"
           },
           "mode": "markers",
           "name": "centre",
           "showlegend": true,
           "type": "scattergeo"
          },
          {
           "customdata": [
            [
             0.443200681366972
            ],
            [
             0.483181688037831
            ],
            [
             0.389123272284173
            ],
            [
             0.437624332173428
            ],
            [
             0.430799548673498
            ],
            [
             0.432435964652145
            ],
            [
             0.53043672179556
            ],
            [
             0.441606576879273
            ],
            [
             0.451653600117474
            ],
            [
             0.544686334591745
            ],
            [
             0.392768597467658
            ],
            [
             0.418440006635278
            ]
           ],
           "geo": "geo",
           "hovertemplate": "<b>%{hovertext}</b><br><br>color=gauche<br>year=2014<br>gini_display=%{marker.size}<br>iso=%{location}<br>gini=%{customdata[0]}<extra></extra>",
           "hovertext": [
            "Autriche",
            "Croatie",
            "République tchèque",
            "Danemark",
            "France",
            "Italie",
            "Lituanie",
            "Luxembourg",
            "Malte",
            "Roumanie",
            "Slovaquie",
            "Slovénie"
           ],
           "ids": [
            "Autriche",
            "Croatie",
            "République tchèque",
            "Danemark",
            "France",
            "Italie",
            "Lituanie",
            "Luxembourg",
            "Malte",
            "Roumanie",
            "Slovaquie",
            "Slovénie"
           ],
           "legendgroup": "gauche",
           "locations": [
            "AUT",
            "HRV",
            "CZE",
            "DNK",
            "FRA",
            "ITA",
            "LTU",
            "LUX",
            "MLT",
            "ROU",
            "SVK",
            "SVN"
           ],
           "marker": {
            "color": "red",
            "size": [
             0.007578836122061922,
             0.012725146776486519,
             0.0034715484637865696,
             0.007024392429550902,
             0.006392215940946569,
             0.0065392935901968105,
             0.022274168167019024,
             0.007416742421107863,
             0.008488537234113112,
             0.026114329373576547,
             0.0036713056902857423,
             0.0053678355453382395
            ],
            "sizemode": "area",
            "sizeref": 0.00008220833806065717,
            "symbol": "circle"
           },
           "mode": "markers",
           "name": "gauche",
           "showlegend": true,
           "type": "scattergeo"
          },
          {
           "customdata": [
            [
             0.438072660064591
            ],
            [
             0.490425556578472
            ],
            [
             0.498159702687779
            ],
            [
             0.517284143665066
            ],
            [
             0.434512419824658
            ],
            [
             0.485840760644585
            ],
            [
             0.424246757394357
            ],
            [
             0.491740660055242
            ],
            [
             0.412359309489703
            ],
            [
             0.476920888778068
            ],
            [
             0.49264961749134
            ],
            [
             0.400261451461564
            ],
            [
             0.479583613229799
            ]
           ],
           "geo": "geo",
           "hovertemplate": "<b>%{hovertext}</b><br><br>color=droite<br>year=2014<br>gini_display=%{marker.size}<br>iso=%{location}<br>gini=%{customdata[0]}<extra></extra>",
           "hovertext": [
            "Belgique",
            "Bulgarie",
            "Chypre",
            "Estonie",
            "Finlande",
            "Grèce",
            "Hongrie",
            "Lettonie",
            "Pays-Bas",
            "Pologne",
            "Portugal",
            "Suède",
            "Royaume-Uni"
           ],
           "ids": [
            "Belgique",
            "Bulgarie",
            "Chypre",
            "Estonie",
            "Finlande",
            "Grèce",
            "Hongrie",
            "Lettonie",
            "Pays-Bas",
            "Pologne",
            "Portugal",
            "Suède",
            "Royaume-Uni"
           ],
           "legendgroup": "droite",
           "locations": [
            "BEL",
            "BGR",
            "CYP",
            "EST",
            "FIN",
            "GRC",
            "HUN",
            "LVA",
            "NLD",
            "POL",
            "PRT",
            "SWE",
            "GBR"
           ],
           "marker": {
            "color": "blue",
            "size": [
             0.0070676803476778065,
             0.013913569502174086,
             0.015283103741406102,
             0.019159095269739253,
             0.0067299706052601944,
             0.013151148699520391,
             0.005830572361224016,
             0.014138935686652362,
             0.0049164861748993,
             0.011767333654465568,
             0.014296472708717131,
             0.0041120898497227065,
             0.012167070158000642
            ],
            "sizemode": "area",
            "sizeref": 0.00008220833806065717,
            "symbol": "circle"
           },
           "mode": "markers",
           "name": "droite",
           "showlegend": true,
           "type": "scattergeo"
          }
         ],
         "name": "2014"
        },
        {
         "data": [
          {
           "customdata": [
            [
             0.49772516265525
            ],
            [
             0.474064760364733
            ],
            [
             0.460750414104829
            ]
           ],
           "geo": "geo",
           "hovertemplate": "<b>%{hovertext}</b><br><br>color=centre<br>year=2015<br>gini_display=%{marker.size}<br>iso=%{location}<br>gini=%{customdata[0]}<extra></extra>",
           "hovertext": [
            "Allemagne",
            "Irlande",
            "Espagne"
           ],
           "ids": [
            "Allemagne",
            "Irlande",
            "Espagne"
           ],
           "legendgroup": "centre",
           "locations": [
            "DEU",
            "IRL",
            "ESP"
           ],
           "marker": {
            "color": "orange",
            "size": [
             0.01520329012268182,
             0.011350788702473018,
             0.009567410435644349
            ],
            "sizemode": "area",
            "sizeref": 0.00008220833806065717,
            "symbol": "circle"
           },
           "mode": "markers",
           "name": "centre",
           "showlegend": true,
           "type": "scattergeo"
          },
          {
           "customdata": [
            [
             0.437138406056443
            ],
            [
             0.480653790709678
            ],
            [
             0.396589692752819
            ],
            [
             0.427879522243888
            ],
            [
             0.482804410625732
            ],
            [
             0.434023822422658
            ],
            [
             0.500929173558204
            ],
            [
             0.442637773741136
            ],
            [
             0.458347572668822
            ],
            [
             0.541353908844883
            ],
            [
             0.408080583395226
            ],
            [
             0.408764978551328
            ]
           ],
           "geo": "geo",
           "hovertemplate": "<b>%{hovertext}</b><br><br>color=gauche<br>year=2015<br>gini_display=%{marker.size}<br>iso=%{location}<br>gini=%{customdata[0]}<extra></extra>",
           "hovertext": [
            "Autriche",
            "Croatie",
            "République tchèque",
            "France",
            "Grèce",
            "Italie",
            "Lituanie",
            "Luxembourg",
            "Malte",
            "Roumanie",
            "Slovaquie",
            "Suède"
           ],
           "ids": [
            "Autriche",
            "Croatie",
            "République tchèque",
            "France",
            "Grèce",
            "Italie",
            "Lituanie",
            "Luxembourg",
            "Malte",
            "Roumanie",
            "Slovaquie",
            "Suède"
           ],
           "legendgroup": "gauche",
           "locations": [
            "AUT",
            "HRV",
            "CZE",
            "FRA",
            "GRC",
            "ITA",
            "LTU",
            "LUX",
            "MLT",
            "ROU",
            "SVK",
            "SWE"
           ],
           "marker": {
            "color": "red",
            "size": [
             0.006977723983812756,
             0.012330884519213553,
             0.003890886273283629,
             0.0061366169214672065,
             0.012665646815587113,
             0.0066846920448400664,
             0.01580003145377934,
             0.007521264079693823,
             0.009271918690462082,
             0.02517025768243297,
             0.004618230321559827,
             0.004664897224995011
            ],
            "sizemode": "area",
            "sizeref": 0.00008220833806065717,
            "symbol": "circle"
           },
           "mode": "markers",
           "name": "gauche",
           "showlegend": true,
           "type": "scattergeo"
          },
          {
           "customdata": [
            [
             0.438342591899117
            ],
            [
             0.499969634466097
            ],
            [
             0.499298332083818
            ],
            [
             0.434380321932594
            ],
            [
             0.493329881236633
            ],
            [
             0.442216896539044
            ],
            [
             0.426094991723126
            ],
            [
             0.483826533554684
            ],
            [
             0.410798299753815
            ],
            [
             0.481245429393297
            ],
            [
             0.490690120368249
            ],
            [
             0.410436218099039
            ],
            [
             0.469553368743313
            ]
           ],
           "geo": "geo",
           "hovertemplate": "<b>%{hovertext}</b><br><br>color=droite<br>year=2015<br>gini_display=%{marker.size}<br>iso=%{location}<br>gini=%{customdata[0]}<extra></extra>",
           "hovertext": [
            "Belgique",
            "Bulgarie",
            "Chypre",
            "Danemark",
            "Estonie",
            "Finlande",
            "Hongrie",
            "Lettonie",
            "Pays-Bas",
            "Pologne",
            "Portugal",
            "Slovénie",
            "Royaume-Uni"
           ],
           "ids": [
            "Belgique",
            "Bulgarie",
            "Chypre",
            "Danemark",
            "Estonie",
            "Finlande",
            "Hongrie",
            "Lettonie",
            "Pays-Bas",
            "Pologne",
            "Portugal",
            "Slovénie",
            "Royaume-Uni"
           ],
           "legendgroup": "droite",
           "locations": [
            "BEL",
            "BGR",
            "CYP",
            "DNK",
            "EST",
            "FIN",
            "HUN",
            "LVA",
            "NLD",
            "POL",
            "PRT",
            "SVN",
            "GBR"
           ],
           "marker": {
            "color": "blue",
            "size": [
             0.007093850433680121,
             0.015619307326759738,
             0.015493897969728209,
             0.006717703896904748,
             0.014415328052122162,
             0.007478456887899788,
             0.005984647530649942,
             0.012827383855574921,
             0.004805867850531254,
             0.01242223403400258,
             0.013958664965826794,
             0.004780508154077247,
             0.010717901564351234
            ],
            "sizemode": "area",
            "sizeref": 0.00008220833806065717,
            "symbol": "circle"
           },
           "mode": "markers",
           "name": "droite",
           "showlegend": true,
           "type": "scattergeo"
          }
         ],
         "name": "2015"
        },
        {
         "data": [
          {
           "customdata": [
            [
             0.472101218559255
            ],
            [
             0.4957418439351
            ],
            [
             0.474201301570886
            ],
            [
             0.46098676041683
            ]
           ],
           "geo": "geo",
           "hovertemplate": "<b>%{hovertext}</b><br><br>color=centre<br>year=2016<br>gini_display=%{marker.size}<br>iso=%{location}<br>gini=%{customdata[0]}<extra></extra>",
           "hovertext": [
            "Croatie",
            "Allemagne",
            "Irlande",
            "Espagne"
           ],
           "ids": [
            "Croatie",
            "Allemagne",
            "Irlande",
            "Espagne"
           ],
           "legendgroup": "centre",
           "locations": [
            "HRV",
            "DEU",
            "IRL",
            "ESP"
           ],
           "marker": {
            "color": "orange",
            "size": [
             0.011071608704568362,
             0.014843402595188043,
             0.011370418511525713,
             0.009596894388889637
            ],
            "sizemode": "area",
            "sizeref": 0.00008220833806065717,
            "symbol": "circle"
           },
           "mode": "markers",
           "name": "centre",
           "showlegend": true,
           "type": "scattergeo"
          },
          {
           "customdata": [
            [
             0.443169152329737
            ],
            [
             0.384245569235446
            ],
            [
             0.425261403653334
            ],
            [
             0.473336277400392
            ],
            [
             0.443609337660561
            ],
            [
             0.498674887828116
            ],
            [
             0.450835138806408
            ],
            [
             0.453610815151516
            ],
            [
             0.49020079168525
            ],
            [
             0.507706840254325
            ],
            [
             0.390732822838736
            ],
            [
             0.392907320669785
            ]
           ],
           "geo": "geo",
           "hovertemplate": "<b>%{hovertext}</b><br><br>color=gauche<br>year=2016<br>gini_display=%{marker.size}<br>iso=%{location}<br>gini=%{customdata[0]}<extra></extra>",
           "hovertext": [
            "Autriche",
            "République tchèque",
            "France",
            "Grèce",
            "Italie",
            "Lituanie",
            "Luxembourg",
            "Malte",
            "Portugal",
            "Roumanie",
            "Slovaquie",
            "Suède"
           ],
           "ids": [
            "Autriche",
            "République tchèque",
            "France",
            "Grèce",
            "Italie",
            "Lituanie",
            "Luxembourg",
            "Malte",
            "Portugal",
            "Roumanie",
            "Slovaquie",
            "Suède"
           ],
           "legendgroup": "gauche",
           "locations": [
            "AUT",
            "CZE",
            "FRA",
            "GRC",
            "ITA",
            "LTU",
            "LUX",
            "MLT",
            "PRT",
            "ROU",
            "SVK",
            "SWE"
           ],
           "marker": {
            "color": "red",
            "size": [
             0.007575601773521614,
             0.00321849775039387,
             0.005914742059953689,
             0.01124653516293583,
             0.007620861606318971,
             0.015378181839463125,
             0.00839665964820747,
             0.008711649695730166,
             0.013875353292009444,
             0.01712687341068472,
             0.0035586015985801227,
             0.003679092644673895
            ],
            "sizemode": "area",
            "sizeref": 0.00008220833806065717,
            "symbol": "circle"
           },
           "mode": "markers",
           "name": "gauche",
           "showlegend": true,
           "type": "scattergeo"
          },
          {
           "customdata": [
            [
             0.43836143687655
            ],
            [
             0.523361512448624
            ],
            [
             0.481060062034853
            ],
            [
             0.437305911992254
            ],
            [
             0.494436417916368
            ],
            [
             0.43993182645022
            ],
            [
             0.422658423124716
            ],
            [
             0.472338558892448
            ],
            [
             0.411141706503771
            ],
            [
             0.48054368020307
            ],
            [
             0.41273022695365
            ],
            [
             0.467841345390973
            ]
           ],
           "geo": "geo",
           "hovertemplate": "<b>%{hovertext}</b><br><br>color=droite<br>year=2016<br>gini_display=%{marker.size}<br>iso=%{location}<br>gini=%{customdata[0]}<extra></extra>",
           "hovertext": [
            "Belgique",
            "Bulgarie",
            "Chypre",
            "Danemark",
            "Estonie",
            "Finlande",
            "Hongrie",
            "Lettonie",
            "Pays-Bas",
            "Pologne",
            "Slovénie",
            "Royaume-Uni"
           ],
           "ids": [
            "Belgique",
            "Bulgarie",
            "Chypre",
            "Danemark",
            "Estonie",
            "Finlande",
            "Hongrie",
            "Lettonie",
            "Pays-Bas",
            "Pologne",
            "Slovénie",
            "Royaume-Uni"
           ],
           "legendgroup": "droite",
           "locations": [
            "BEL",
            "BGR",
            "CYP",
            "DNK",
            "EST",
            "FIN",
            "HUN",
            "LVA",
            "NLD",
            "POL",
            "SVN",
            "GBR"
           ],
           "marker": {
            "color": "blue",
            "size": [
             0.0070956804792573335,
             0.020549946285539734,
             0.012393552696006657,
             0.006993782016122117,
             0.014610420261454012,
             0.007249570713782559,
             0.00570081792427927,
             0.01110504701013802,
             0.0048300230678405215,
             0.012313945309336214,
             0.004943080210396475,
             0.01048555926321541
            ],
            "sizemode": "area",
            "sizeref": 0.00008220833806065717,
            "symbol": "circle"
           },
           "mode": "markers",
           "name": "droite",
           "showlegend": true,
           "type": "scattergeo"
          }
         ],
         "name": "2016"
        },
        {
         "data": [
          {
           "customdata": [
            [
             0.433120645528014
            ],
            [
             0.474846215414914
            ],
            [
             0.492377208558437
            ],
            [
             0.467409339280614
            ],
            [
             0.45782647661504
            ]
           ],
           "geo": "geo",
           "hovertemplate": "<b>%{hovertext}</b><br><br>color=centre<br>year=2017<br>gini_display=%{marker.size}<br>iso=%{location}<br>gini=%{customdata[0]}<extra></extra>",
           "hovertext": [
            "Autriche",
            "Croatie",
            "Allemagne",
            "Irlande",
            "Espagne"
           ],
           "ids": [
            "Autriche",
            "Croatie",
            "Allemagne",
            "Irlande",
            "Espagne"
           ],
           "legendgroup": "centre",
           "locations": [
            "AUT",
            "HRV",
            "DEU",
            "IRL",
            "ESP"
           ],
           "marker": {
            "color": "orange",
            "size": [
             0.006601662443948068,
             0.011463517170793627,
             0.014249107111391558,
             0.010427598827106343,
             0.009208850632861282
            ],
            "sizemode": "area",
            "sizeref": 0.00008220833806065717,
            "symbol": "circle"
           },
           "mode": "markers",
           "name": "centre",
           "showlegend": true,
           "type": "scattergeo"
          },
          {
           "customdata": [
            [
             0.385000074975807
            ],
            [
             0.486379761082297
            ],
            [
             0.422789547595379
            ],
            [
             0.461004291154019
            ],
            [
             0.4487073913764
            ],
            [
             0.508267370566859
            ],
            [
             0.458156927145492
            ],
            [
             0.461691912284898
            ],
            [
             0.490035943516098
            ],
            [
             0.516734801223127
            ],
            [
             0.375749261302076
            ],
            [
             0.399592759135164
            ]
           ],
           "geo": "geo",
           "hovertemplate": "<b>%{hovertext}</b><br><br>color=gauche<br>year=2017<br>gini_display=%{marker.size}<br>iso=%{location}<br>gini=%{customdata[0]}<extra></extra>",
           "hovertext": [
            "République tchèque",
            "Estonie",
            "France",
            "Grèce",
            "Italie",
            "Lituanie",
            "Luxembourg",
            "Malte",
            "Portugal",
            "Roumanie",
            "Slovaquie",
            "Suède"
           ],
           "ids": [
            "République tchèque",
            "Estonie",
            "France",
            "Grèce",
            "Italie",
            "Lituanie",
            "Luxembourg",
            "Malte",
            "Portugal",
            "Roumanie",
            "Slovaquie",
            "Suède"
           ],
           "legendgroup": "gauche",
           "locations": [
            "CZE",
            "EST",
            "FRA",
            "GRC",
            "ITA",
            "LTU",
            "LUX",
            "MLT",
            "PRT",
            "ROU",
            "SVK",
            "SWE"
           ],
           "marker": {
            "color": "red",
            "size": [
             0.003256603494079851,
             0.013238932575922405,
             0.005711437801241233,
             0.009599084342834883,
             0.008161675831372853,
             0.017240639868593283,
             0.009248803314875178,
             0.009685311676812067,
             0.0138473802104685,
             0.01903734012722052,
             0.002814419380867857,
             0.0040710427194075
            ],
            "sizemode": "area",
            "sizeref": 0.00008220833806065717,
            "symbol": "circle"
           },
           "mode": "markers",
           "name": "gauche",
           "showlegend": true,
           "type": "scattergeo"
          },
          {
           "customdata": [
            [
             0.436300436869372
            ],
            [
             0.54172079772087
            ],
            [
             0.469584312178853
            ],
            [
             0.43891721225269
            ],
            [
             0.444810835415119
            ],
            [
             0.428011301920435
            ],
            [
             0.492970886118288
            ],
            [
             0.419135703493486
            ],
            [
             0.476103392066847
            ],
            [
             0.409085275470973
            ],
            [
             0.466155535103226
            ]
           ],
           "geo": "geo",
           "hovertemplate": "<b>%{hovertext}</b><br><br>color=droite<br>year=2017<br>gini_display=%{marker.size}<br>iso=%{location}<br>gini=%{customdata[0]}<extra></extra>",
           "hovertext": [
            "Belgique",
            "Bulgarie",
            "Chypre",
            "Danemark",
            "Finlande",
            "Hongrie",
            "Lettonie",
            "Pays-Bas",
            "Pologne",
            "Slovénie",
            "Royaume-Uni"
           ],
           "ids": [
            "Belgique",
            "Bulgarie",
            "Chypre",
            "Danemark",
            "Finlande",
            "Hongrie",
            "Lettonie",
            "Pays-Bas",
            "Pologne",
            "Slovénie",
            "Royaume-Uni"
           ],
           "legendgroup": "droite",
           "locations": [
            "BEL",
            "BGR",
            "CYP",
            "DNK",
            "FIN",
            "HUN",
            "LVA",
            "NLD",
            "POL",
            "SVN",
            "GBR"
           ],
           "marker": {
            "color": "blue",
            "size": [
             0.00689785224075964,
             0.02527278227474167,
             0.010722140102868294,
             0.007149829293810364,
             0.0077455479644532,
             0.006147965503354221,
             0.014352502420725607,
             0.005421605873128189,
             0.0116468277908716,
             0.004686871938446979,
             0.01026089095419495
            ],
            "sizemode": "area",
            "sizeref": 0.00008220833806065717,
            "symbol": "circle"
           },
           "mode": "markers",
           "name": "droite",
           "showlegend": true,
           "type": "scattergeo"
          }
         ],
         "name": "2017"
        },
        {
         "data": [
          {
           "customdata": [
            [
             0.435762914381186
            ],
            [
             0.481560818450141
            ],
            [
             0.486983218987973
            ],
            [
             0.46364953628796
            ],
            [
             0.449644478786548
            ],
            [
             0.414779997046641
            ]
           ],
           "geo": "geo",
           "hovertemplate": "<b>%{hovertext}</b><br><br>color=centre<br>year=2018<br>gini_display=%{marker.size}<br>iso=%{location}<br>gini=%{customdata[0]}<extra></extra>",
           "hovertext": [
            "Autriche",
            "Croatie",
            "Allemagne",
            "Irlande",
            "Italie",
            "Pays-Bas"
           ],
           "ids": [
            "Autriche",
            "Croatie",
            "Allemagne",
            "Irlande",
            "Italie",
            "Pays-Bas"
           ],
           "legendgroup": "centre",
           "locations": [
            "AUT",
            "HRV",
            "DEU",
            "IRL",
            "ITA",
            "NLD"
           ],
           "marker": {
            "color": "orange",
            "size": [
             0.006847020072152131,
             0.012471160353497218,
             0.013337793105631978,
             0.009934339063892463,
             0.008264481090382123,
             0.005092216092687769
            ],
            "sizemode": "area",
            "sizeref": 0.00008220833806065717,
            "symbol": "circle"
           },
           "mode": "markers",
           "name": "centre",
           "showlegend": true,
           "type": "scattergeo"
          },
          {
           "customdata": [
            [
             0.489454056274944
            ],
            [
             0.446845297511601
            ],
            [
             0.49558846683037
            ],
            [
             0.454956533076192
            ],
            [
             0.450710197792821
            ],
            [
             0.48082782536089
            ],
            [
             0.539490648211416
            ],
            [
             0.384133585197347
            ],
            [
             0.451672163705098
            ],
            [
             0.39444728383365
            ]
           ],
           "geo": "geo",
           "hovertemplate": "<b>%{hovertext}</b><br><br>color=gauche<br>year=2018<br>gini_display=%{marker.size}<br>iso=%{location}<br>gini=%{customdata[0]}<extra></extra>",
           "hovertext": [
            "Estonie",
            "Grèce",
            "Lituanie",
            "Luxembourg",
            "Malte",
            "Portugal",
            "Roumanie",
            "Slovaquie",
            "Espagne",
            "Suède"
           ],
           "ids": [
            "Estonie",
            "Grèce",
            "Lituanie",
            "Luxembourg",
            "Malte",
            "Portugal",
            "Roumanie",
            "Slovaquie",
            "Espagne",
            "Suède"
           ],
           "legendgroup": "gauche",
           "locations": [
            "EST",
            "GRC",
            "LTU",
            "LUX",
            "MLT",
            "PRT",
            "ROU",
            "SVK",
            "ESP",
            "SWE"
           ],
           "marker": {
            "color": "red",
            "size": [
             0.013749015198411391,
             0.007960551408512729,
             0.01481586958036029,
             0.008867872385576063,
             0.008382707400406609,
             0.01235769730697485,
             0.024654915868356,
             0.0032128738800709794,
             0.008490630792945526,
             0.0037664639854970965
            ],
            "sizemode": "area",
            "sizeref": 0.00008220833806065717,
            "symbol": "circle"
           },
           "mode": "markers",
           "name": "gauche",
           "showlegend": true,
           "type": "scattergeo"
          },
          {
           "customdata": [
            [
             0.449255826110651
            ],
            [
             0.541026009793953
            ],
            [
             0.483529293698485
            ],
            [
             0.379555372761906
            ],
            [
             0.439923373161847
            ],
            [
             0.442734662603805
            ],
            [
             0.423803335658341
            ],
            [
             0.436270948308799
            ],
            [
             0.490558079267597
            ],
            [
             0.481860643496901
            ],
            [
             0.407493281730659
            ],
            [
             0.467226517127884
            ]
           ],
           "geo": "geo",
           "hovertemplate": "<b>%{hovertext}</b><br><br>color=droite<br>year=2018<br>gini_display=%{marker.size}<br>iso=%{location}<br>gini=%{customdata[0]}<extra></extra>",
           "hovertext": [
            "Belgique",
            "Bulgarie",
            "Chypre",
            "République tchèque",
            "Danemark",
            "Finlande",
            "France",
            "Hongrie",
            "Lettonie",
            "Pologne",
            "Slovénie",
            "Royaume-Uni"
           ],
           "ids": [
            "Belgique",
            "Bulgarie",
            "Chypre",
            "République tchèque",
            "Danemark",
            "Finlande",
            "France",
            "Hongrie",
            "Lettonie",
            "Pologne",
            "Slovénie",
            "Royaume-Uni"
           ],
           "legendgroup": "droite",
           "locations": [
            "BEL",
            "BGR",
            "CYP",
            "CZE",
            "DNK",
            "FIN",
            "FRA",
            "HUN",
            "LVA",
            "POL",
            "SVN",
            "GBR"
           ],
           "marker": {
            "color": "blue",
            "size": [
             0.008221712903064117,
             0.025078922059392883,
             0.012780173234694043,
             0.002989860051912943,
             0.007248734951089148,
             0.007531147451504737,
             0.005794103166274061,
             0.0068950554518976935,
             0.013936143077604483,
             0.012517821016589806,
             0.004578494723238576,
             0.010403150883371329
            ],
            "sizemode": "area",
            "sizeref": 0.00008220833806065717,
            "symbol": "circle"
           },
           "mode": "markers",
           "name": "droite",
           "showlegend": true,
           "type": "scattergeo"
          }
         ],
         "name": "2018"
        },
        {
         "data": [
          {
           "customdata": [
            [
             0.439271374356039
            ],
            [
             0.480072015316146
            ],
            [
             0.486287752911942
            ],
            [
             0.461003717672611
            ],
            [
             0.446965424892184
            ],
            [
             0.41275506915265
            ]
           ],
           "geo": "geo",
           "hovertemplate": "<b>%{hovertext}</b><br><br>color=centre<br>year=2019<br>gini_display=%{marker.size}<br>iso=%{location}<br>gini=%{customdata[0]}<extra></extra>",
           "hovertext": [
            "Autriche",
            "Croatie",
            "Allemagne",
            "Irlande",
            "Italie",
            "Pays-Bas"
           ],
           "ids": [
            "Autriche",
            "Croatie",
            "Allemagne",
            "Irlande",
            "Italie",
            "Pays-Bas"
           ],
           "legendgroup": "centre",
           "locations": [
            "AUT",
            "HRV",
            "DEU",
            "IRL",
            "ITA",
            "NLD"
           ],
           "marker": {
            "color": "orange",
            "size": [
             0.0071845143608456315,
             0.012241604467393297,
             0.013223913274424995,
             0.00959901269648291,
             0.007973400461107984,
             0.004944865620626784
            ],
            "sizemode": "area",
            "sizeref": 0.00008220833806065717,
            "symbol": "circle"
           },
           "mode": "markers",
           "name": "centre",
           "showlegend": true,
           "type": "scattergeo"
          },
          {
           "customdata": [
            [
             0.44306767749832
            ],
            [
             0.441068138632488
            ],
            [
             0.444897302923557
            ],
            [
             0.490761352923283
            ],
            [
             0.457150223388872
            ],
            [
             0.449226636832968
            ],
            [
             0.478866970840979
            ],
            [
             0.544620032782824
            ],
            [
             0.379810900801768
            ],
            [
             0.453554355265538
            ],
            [
             0.39584387844857
            ]
           ],
           "geo": "geo",
           "hovertemplate": "<b>%{hovertext}</b><br><br>color=gauche<br>year=2019<br>gini_display=%{marker.size}<br>iso=%{location}<br>gini=%{customdata[0]}<extra></extra>",
           "hovertext": [
            "Danemark",
            "Finlande",
            "Grèce",
            "Lituanie",
            "Luxembourg",
            "Malte",
            "Portugal",
            "Roumanie",
            "Slovaquie",
            "Espagne",
            "Suède"
           ],
           "ids": [
            "Danemark",
            "Finlande",
            "Grèce",
            "Lituanie",
            "Luxembourg",
            "Malte",
            "Portugal",
            "Roumanie",
            "Slovaquie",
            "Espagne",
            "Suède"
           ],
           "legendgroup": "gauche",
           "locations": [
            "DNK",
            "FIN",
            "GRC",
            "LTU",
            "LUX",
            "MLT",
            "PRT",
            "ROU",
            "SVK",
            "ESP",
            "SWE"
           ],
           "marker": {
            "color": "red",
            "size": [
             0.00756519997108344,
             0.007362649411709988,
             0.007754586374632762,
             0.013970827496776847,
             0.009127537332798991,
             0.00821850831179321,
             0.012058389263048528,
             0.026095262615063414,
             0.0030019575767401036,
             0.008705145806852109,
             0.0038471896786294465
            ],
            "sizemode": "area",
            "sizeref": 0.00008220833806065717,
            "symbol": "circle"
           },
           "mode": "markers",
           "name": "gauche",
           "showlegend": true,
           "type": "scattergeo"
          },
          {
           "customdata": [
            [
             0.449587011639702
            ],
            [
             0.541152845333301
            ],
            [
             0.479961777890431
            ],
            [
             0.37722489480926
            ],
            [
             0.478351452846113
            ],
            [
             0.425979136972874
            ],
            [
             0.438962348202551
            ],
            [
             0.480693590645736
            ],
            [
             0.483533203375217
            ],
            [
             0.407147775002285
            ],
            [
             0.464900380916347
            ]
           ],
           "geo": "geo",
           "hovertemplate": "<b>%{hovertext}</b><br><br>color=droite<br>year=2019<br>gini_display=%{marker.size}<br>iso=%{location}<br>gini=%{customdata[0]}<extra></extra>",
           "hovertext": [
            "Belgique",
            "Bulgarie",
            "Chypre",
            "République tchèque",
            "Estonie",
            "France",
            "Hongrie",
            "Lettonie",
            "Pologne",
            "Slovénie",
            "Royaume-Uni"
           ],
           "ids": [
            "Belgique",
            "Bulgarie",
            "Chypre",
            "République tchèque",
            "Estonie",
            "France",
            "Hongrie",
            "Lettonie",
            "Pologne",
            "Slovénie",
            "Royaume-Uni"
           ],
           "legendgroup": "droite",
           "locations": [
            "BEL",
            "BGR",
            "CYP",
            "CZE",
            "EST",
            "FRA",
            "HUN",
            "LVA",
            "POL",
            "SVN",
            "GBR"
           ],
           "marker": {
            "color": "blue",
            "size": [
             0.008258145626061782,
             0.025114219033113654,
             0.012224748140049747,
             0.0028813902125275357,
             0.01198071077457504,
             0.0059748908511298784,
             0.0071542419343428474,
             0.012337012048380332,
             0.012780793267729743,
             0.00455525186613118,
             0.01009623410446674
            ],
            "sizemode": "area",
            "sizeref": 0.00008220833806065717,
            "symbol": "circle"
           },
           "mode": "markers",
           "name": "droite",
           "showlegend": true,
           "type": "scattergeo"
          }
         ],
         "name": "2019"
        }
       ],
       "layout": {
        "geo": {
         "center": {},
         "domain": {
          "x": [
           0,
           1
          ],
          "y": [
           0,
           1
          ]
         },
         "scope": "europe"
        },
        "legend": {
         "itemsizing": "constant",
         "title": {
          "text": "color"
         },
         "tracegroupgap": 0
        },
        "margin": {
         "t": 60
        },
        "sliders": [
         {
          "active": 0,
          "currentvalue": {
           "prefix": "year="
          },
          "len": 0.9,
          "pad": {
           "b": 10,
           "t": 60
          },
          "steps": [
           {
            "args": [
             [
              "2000"
             ],
             {
              "frame": {
               "duration": 0,
               "redraw": true
              },
              "fromcurrent": true,
              "mode": "immediate",
              "transition": {
               "duration": 0,
               "easing": "linear"
              }
             }
            ],
            "label": "2000",
            "method": "animate"
           },
           {
            "args": [
             [
              "2001"
             ],
             {
              "frame": {
               "duration": 0,
               "redraw": true
              },
              "fromcurrent": true,
              "mode": "immediate",
              "transition": {
               "duration": 0,
               "easing": "linear"
              }
             }
            ],
            "label": "2001",
            "method": "animate"
           },
           {
            "args": [
             [
              "2002"
             ],
             {
              "frame": {
               "duration": 0,
               "redraw": true
              },
              "fromcurrent": true,
              "mode": "immediate",
              "transition": {
               "duration": 0,
               "easing": "linear"
              }
             }
            ],
            "label": "2002",
            "method": "animate"
           },
           {
            "args": [
             [
              "2003"
             ],
             {
              "frame": {
               "duration": 0,
               "redraw": true
              },
              "fromcurrent": true,
              "mode": "immediate",
              "transition": {
               "duration": 0,
               "easing": "linear"
              }
             }
            ],
            "label": "2003",
            "method": "animate"
           },
           {
            "args": [
             [
              "2004"
             ],
             {
              "frame": {
               "duration": 0,
               "redraw": true
              },
              "fromcurrent": true,
              "mode": "immediate",
              "transition": {
               "duration": 0,
               "easing": "linear"
              }
             }
            ],
            "label": "2004",
            "method": "animate"
           },
           {
            "args": [
             [
              "2005"
             ],
             {
              "frame": {
               "duration": 0,
               "redraw": true
              },
              "fromcurrent": true,
              "mode": "immediate",
              "transition": {
               "duration": 0,
               "easing": "linear"
              }
             }
            ],
            "label": "2005",
            "method": "animate"
           },
           {
            "args": [
             [
              "2006"
             ],
             {
              "frame": {
               "duration": 0,
               "redraw": true
              },
              "fromcurrent": true,
              "mode": "immediate",
              "transition": {
               "duration": 0,
               "easing": "linear"
              }
             }
            ],
            "label": "2006",
            "method": "animate"
           },
           {
            "args": [
             [
              "2007"
             ],
             {
              "frame": {
               "duration": 0,
               "redraw": true
              },
              "fromcurrent": true,
              "mode": "immediate",
              "transition": {
               "duration": 0,
               "easing": "linear"
              }
             }
            ],
            "label": "2007",
            "method": "animate"
           },
           {
            "args": [
             [
              "2008"
             ],
             {
              "frame": {
               "duration": 0,
               "redraw": true
              },
              "fromcurrent": true,
              "mode": "immediate",
              "transition": {
               "duration": 0,
               "easing": "linear"
              }
             }
            ],
            "label": "2008",
            "method": "animate"
           },
           {
            "args": [
             [
              "2009"
             ],
             {
              "frame": {
               "duration": 0,
               "redraw": true
              },
              "fromcurrent": true,
              "mode": "immediate",
              "transition": {
               "duration": 0,
               "easing": "linear"
              }
             }
            ],
            "label": "2009",
            "method": "animate"
           },
           {
            "args": [
             [
              "2010"
             ],
             {
              "frame": {
               "duration": 0,
               "redraw": true
              },
              "fromcurrent": true,
              "mode": "immediate",
              "transition": {
               "duration": 0,
               "easing": "linear"
              }
             }
            ],
            "label": "2010",
            "method": "animate"
           },
           {
            "args": [
             [
              "2011"
             ],
             {
              "frame": {
               "duration": 0,
               "redraw": true
              },
              "fromcurrent": true,
              "mode": "immediate",
              "transition": {
               "duration": 0,
               "easing": "linear"
              }
             }
            ],
            "label": "2011",
            "method": "animate"
           },
           {
            "args": [
             [
              "2012"
             ],
             {
              "frame": {
               "duration": 0,
               "redraw": true
              },
              "fromcurrent": true,
              "mode": "immediate",
              "transition": {
               "duration": 0,
               "easing": "linear"
              }
             }
            ],
            "label": "2012",
            "method": "animate"
           },
           {
            "args": [
             [
              "2013"
             ],
             {
              "frame": {
               "duration": 0,
               "redraw": true
              },
              "fromcurrent": true,
              "mode": "immediate",
              "transition": {
               "duration": 0,
               "easing": "linear"
              }
             }
            ],
            "label": "2013",
            "method": "animate"
           },
           {
            "args": [
             [
              "2014"
             ],
             {
              "frame": {
               "duration": 0,
               "redraw": true
              },
              "fromcurrent": true,
              "mode": "immediate",
              "transition": {
               "duration": 0,
               "easing": "linear"
              }
             }
            ],
            "label": "2014",
            "method": "animate"
           },
           {
            "args": [
             [
              "2015"
             ],
             {
              "frame": {
               "duration": 0,
               "redraw": true
              },
              "fromcurrent": true,
              "mode": "immediate",
              "transition": {
               "duration": 0,
               "easing": "linear"
              }
             }
            ],
            "label": "2015",
            "method": "animate"
           },
           {
            "args": [
             [
              "2016"
             ],
             {
              "frame": {
               "duration": 0,
               "redraw": true
              },
              "fromcurrent": true,
              "mode": "immediate",
              "transition": {
               "duration": 0,
               "easing": "linear"
              }
             }
            ],
            "label": "2016",
            "method": "animate"
           },
           {
            "args": [
             [
              "2017"
             ],
             {
              "frame": {
               "duration": 0,
               "redraw": true
              },
              "fromcurrent": true,
              "mode": "immediate",
              "transition": {
               "duration": 0,
               "easing": "linear"
              }
             }
            ],
            "label": "2017",
            "method": "animate"
           },
           {
            "args": [
             [
              "2018"
             ],
             {
              "frame": {
               "duration": 0,
               "redraw": true
              },
              "fromcurrent": true,
              "mode": "immediate",
              "transition": {
               "duration": 0,
               "easing": "linear"
              }
             }
            ],
            "label": "2018",
            "method": "animate"
           },
           {
            "args": [
             [
              "2019"
             ],
             {
              "frame": {
               "duration": 0,
               "redraw": true
              },
              "fromcurrent": true,
              "mode": "immediate",
              "transition": {
               "duration": 0,
               "easing": "linear"
              }
             }
            ],
            "label": "2019",
            "method": "animate"
           }
          ],
          "x": 0.1,
          "xanchor": "left",
          "y": 0,
          "yanchor": "top"
         }
        ],
        "template": {
         "data": {
          "bar": [
           {
            "error_x": {
             "color": "#2a3f5f"
            },
            "error_y": {
             "color": "#2a3f5f"
            },
            "marker": {
             "line": {
              "color": "#E5ECF6",
              "width": 0.5
             },
             "pattern": {
              "fillmode": "overlay",
              "size": 10,
              "solidity": 0.2
             }
            },
            "type": "bar"
           }
          ],
          "barpolar": [
           {
            "marker": {
             "line": {
              "color": "#E5ECF6",
              "width": 0.5
             },
             "pattern": {
              "fillmode": "overlay",
              "size": 10,
              "solidity": 0.2
             }
            },
            "type": "barpolar"
           }
          ],
          "carpet": [
           {
            "aaxis": {
             "endlinecolor": "#2a3f5f",
             "gridcolor": "white",
             "linecolor": "white",
             "minorgridcolor": "white",
             "startlinecolor": "#2a3f5f"
            },
            "baxis": {
             "endlinecolor": "#2a3f5f",
             "gridcolor": "white",
             "linecolor": "white",
             "minorgridcolor": "white",
             "startlinecolor": "#2a3f5f"
            },
            "type": "carpet"
           }
          ],
          "choropleth": [
           {
            "colorbar": {
             "outlinewidth": 0,
             "ticks": ""
            },
            "type": "choropleth"
           }
          ],
          "contour": [
           {
            "colorbar": {
             "outlinewidth": 0,
             "ticks": ""
            },
            "colorscale": [
             [
              0,
              "#0d0887"
             ],
             [
              0.1111111111111111,
              "#46039f"
             ],
             [
              0.2222222222222222,
              "#7201a8"
             ],
             [
              0.3333333333333333,
              "#9c179e"
             ],
             [
              0.4444444444444444,
              "#bd3786"
             ],
             [
              0.5555555555555556,
              "#d8576b"
             ],
             [
              0.6666666666666666,
              "#ed7953"
             ],
             [
              0.7777777777777778,
              "#fb9f3a"
             ],
             [
              0.8888888888888888,
              "#fdca26"
             ],
             [
              1,
              "#f0f921"
             ]
            ],
            "type": "contour"
           }
          ],
          "contourcarpet": [
           {
            "colorbar": {
             "outlinewidth": 0,
             "ticks": ""
            },
            "type": "contourcarpet"
           }
          ],
          "heatmap": [
           {
            "colorbar": {
             "outlinewidth": 0,
             "ticks": ""
            },
            "colorscale": [
             [
              0,
              "#0d0887"
             ],
             [
              0.1111111111111111,
              "#46039f"
             ],
             [
              0.2222222222222222,
              "#7201a8"
             ],
             [
              0.3333333333333333,
              "#9c179e"
             ],
             [
              0.4444444444444444,
              "#bd3786"
             ],
             [
              0.5555555555555556,
              "#d8576b"
             ],
             [
              0.6666666666666666,
              "#ed7953"
             ],
             [
              0.7777777777777778,
              "#fb9f3a"
             ],
             [
              0.8888888888888888,
              "#fdca26"
             ],
             [
              1,
              "#f0f921"
             ]
            ],
            "type": "heatmap"
           }
          ],
          "heatmapgl": [
           {
            "colorbar": {
             "outlinewidth": 0,
             "ticks": ""
            },
            "colorscale": [
             [
              0,
              "#0d0887"
             ],
             [
              0.1111111111111111,
              "#46039f"
             ],
             [
              0.2222222222222222,
              "#7201a8"
             ],
             [
              0.3333333333333333,
              "#9c179e"
             ],
             [
              0.4444444444444444,
              "#bd3786"
             ],
             [
              0.5555555555555556,
              "#d8576b"
             ],
             [
              0.6666666666666666,
              "#ed7953"
             ],
             [
              0.7777777777777778,
              "#fb9f3a"
             ],
             [
              0.8888888888888888,
              "#fdca26"
             ],
             [
              1,
              "#f0f921"
             ]
            ],
            "type": "heatmapgl"
           }
          ],
          "histogram": [
           {
            "marker": {
             "pattern": {
              "fillmode": "overlay",
              "size": 10,
              "solidity": 0.2
             }
            },
            "type": "histogram"
           }
          ],
          "histogram2d": [
           {
            "colorbar": {
             "outlinewidth": 0,
             "ticks": ""
            },
            "colorscale": [
             [
              0,
              "#0d0887"
             ],
             [
              0.1111111111111111,
              "#46039f"
             ],
             [
              0.2222222222222222,
              "#7201a8"
             ],
             [
              0.3333333333333333,
              "#9c179e"
             ],
             [
              0.4444444444444444,
              "#bd3786"
             ],
             [
              0.5555555555555556,
              "#d8576b"
             ],
             [
              0.6666666666666666,
              "#ed7953"
             ],
             [
              0.7777777777777778,
              "#fb9f3a"
             ],
             [
              0.8888888888888888,
              "#fdca26"
             ],
             [
              1,
              "#f0f921"
             ]
            ],
            "type": "histogram2d"
           }
          ],
          "histogram2dcontour": [
           {
            "colorbar": {
             "outlinewidth": 0,
             "ticks": ""
            },
            "colorscale": [
             [
              0,
              "#0d0887"
             ],
             [
              0.1111111111111111,
              "#46039f"
             ],
             [
              0.2222222222222222,
              "#7201a8"
             ],
             [
              0.3333333333333333,
              "#9c179e"
             ],
             [
              0.4444444444444444,
              "#bd3786"
             ],
             [
              0.5555555555555556,
              "#d8576b"
             ],
             [
              0.6666666666666666,
              "#ed7953"
             ],
             [
              0.7777777777777778,
              "#fb9f3a"
             ],
             [
              0.8888888888888888,
              "#fdca26"
             ],
             [
              1,
              "#f0f921"
             ]
            ],
            "type": "histogram2dcontour"
           }
          ],
          "mesh3d": [
           {
            "colorbar": {
             "outlinewidth": 0,
             "ticks": ""
            },
            "type": "mesh3d"
           }
          ],
          "parcoords": [
           {
            "line": {
             "colorbar": {
              "outlinewidth": 0,
              "ticks": ""
             }
            },
            "type": "parcoords"
           }
          ],
          "pie": [
           {
            "automargin": true,
            "type": "pie"
           }
          ],
          "scatter": [
           {
            "marker": {
             "colorbar": {
              "outlinewidth": 0,
              "ticks": ""
             }
            },
            "type": "scatter"
           }
          ],
          "scatter3d": [
           {
            "line": {
             "colorbar": {
              "outlinewidth": 0,
              "ticks": ""
             }
            },
            "marker": {
             "colorbar": {
              "outlinewidth": 0,
              "ticks": ""
             }
            },
            "type": "scatter3d"
           }
          ],
          "scattercarpet": [
           {
            "marker": {
             "colorbar": {
              "outlinewidth": 0,
              "ticks": ""
             }
            },
            "type": "scattercarpet"
           }
          ],
          "scattergeo": [
           {
            "marker": {
             "colorbar": {
              "outlinewidth": 0,
              "ticks": ""
             }
            },
            "type": "scattergeo"
           }
          ],
          "scattergl": [
           {
            "marker": {
             "colorbar": {
              "outlinewidth": 0,
              "ticks": ""
             }
            },
            "type": "scattergl"
           }
          ],
          "scattermapbox": [
           {
            "marker": {
             "colorbar": {
              "outlinewidth": 0,
              "ticks": ""
             }
            },
            "type": "scattermapbox"
           }
          ],
          "scatterpolar": [
           {
            "marker": {
             "colorbar": {
              "outlinewidth": 0,
              "ticks": ""
             }
            },
            "type": "scatterpolar"
           }
          ],
          "scatterpolargl": [
           {
            "marker": {
             "colorbar": {
              "outlinewidth": 0,
              "ticks": ""
             }
            },
            "type": "scatterpolargl"
           }
          ],
          "scatterternary": [
           {
            "marker": {
             "colorbar": {
              "outlinewidth": 0,
              "ticks": ""
             }
            },
            "type": "scatterternary"
           }
          ],
          "surface": [
           {
            "colorbar": {
             "outlinewidth": 0,
             "ticks": ""
            },
            "colorscale": [
             [
              0,
              "#0d0887"
             ],
             [
              0.1111111111111111,
              "#46039f"
             ],
             [
              0.2222222222222222,
              "#7201a8"
             ],
             [
              0.3333333333333333,
              "#9c179e"
             ],
             [
              0.4444444444444444,
              "#bd3786"
             ],
             [
              0.5555555555555556,
              "#d8576b"
             ],
             [
              0.6666666666666666,
              "#ed7953"
             ],
             [
              0.7777777777777778,
              "#fb9f3a"
             ],
             [
              0.8888888888888888,
              "#fdca26"
             ],
             [
              1,
              "#f0f921"
             ]
            ],
            "type": "surface"
           }
          ],
          "table": [
           {
            "cells": {
             "fill": {
              "color": "#EBF0F8"
             },
             "line": {
              "color": "white"
             }
            },
            "header": {
             "fill": {
              "color": "#C8D4E3"
             },
             "line": {
              "color": "white"
             }
            },
            "type": "table"
           }
          ]
         },
         "layout": {
          "annotationdefaults": {
           "arrowcolor": "#2a3f5f",
           "arrowhead": 0,
           "arrowwidth": 1
          },
          "autotypenumbers": "strict",
          "coloraxis": {
           "colorbar": {
            "outlinewidth": 0,
            "ticks": ""
           }
          },
          "colorscale": {
           "diverging": [
            [
             0,
             "#8e0152"
            ],
            [
             0.1,
             "#c51b7d"
            ],
            [
             0.2,
             "#de77ae"
            ],
            [
             0.3,
             "#f1b6da"
            ],
            [
             0.4,
             "#fde0ef"
            ],
            [
             0.5,
             "#f7f7f7"
            ],
            [
             0.6,
             "#e6f5d0"
            ],
            [
             0.7,
             "#b8e186"
            ],
            [
             0.8,
             "#7fbc41"
            ],
            [
             0.9,
             "#4d9221"
            ],
            [
             1,
             "#276419"
            ]
           ],
           "sequential": [
            [
             0,
             "#0d0887"
            ],
            [
             0.1111111111111111,
             "#46039f"
            ],
            [
             0.2222222222222222,
             "#7201a8"
            ],
            [
             0.3333333333333333,
             "#9c179e"
            ],
            [
             0.4444444444444444,
             "#bd3786"
            ],
            [
             0.5555555555555556,
             "#d8576b"
            ],
            [
             0.6666666666666666,
             "#ed7953"
            ],
            [
             0.7777777777777778,
             "#fb9f3a"
            ],
            [
             0.8888888888888888,
             "#fdca26"
            ],
            [
             1,
             "#f0f921"
            ]
           ],
           "sequentialminus": [
            [
             0,
             "#0d0887"
            ],
            [
             0.1111111111111111,
             "#46039f"
            ],
            [
             0.2222222222222222,
             "#7201a8"
            ],
            [
             0.3333333333333333,
             "#9c179e"
            ],
            [
             0.4444444444444444,
             "#bd3786"
            ],
            [
             0.5555555555555556,
             "#d8576b"
            ],
            [
             0.6666666666666666,
             "#ed7953"
            ],
            [
             0.7777777777777778,
             "#fb9f3a"
            ],
            [
             0.8888888888888888,
             "#fdca26"
            ],
            [
             1,
             "#f0f921"
            ]
           ]
          },
          "colorway": [
           "#636efa",
           "#EF553B",
           "#00cc96",
           "#ab63fa",
           "#FFA15A",
           "#19d3f3",
           "#FF6692",
           "#B6E880",
           "#FF97FF",
           "#FECB52"
          ],
          "font": {
           "color": "#2a3f5f"
          },
          "geo": {
           "bgcolor": "white",
           "lakecolor": "white",
           "landcolor": "#E5ECF6",
           "showlakes": true,
           "showland": true,
           "subunitcolor": "white"
          },
          "hoverlabel": {
           "align": "left"
          },
          "hovermode": "closest",
          "mapbox": {
           "style": "light"
          },
          "paper_bgcolor": "white",
          "plot_bgcolor": "#E5ECF6",
          "polar": {
           "angularaxis": {
            "gridcolor": "white",
            "linecolor": "white",
            "ticks": ""
           },
           "bgcolor": "#E5ECF6",
           "radialaxis": {
            "gridcolor": "white",
            "linecolor": "white",
            "ticks": ""
           }
          },
          "scene": {
           "xaxis": {
            "backgroundcolor": "#E5ECF6",
            "gridcolor": "white",
            "gridwidth": 2,
            "linecolor": "white",
            "showbackground": true,
            "ticks": "",
            "zerolinecolor": "white"
           },
           "yaxis": {
            "backgroundcolor": "#E5ECF6",
            "gridcolor": "white",
            "gridwidth": 2,
            "linecolor": "white",
            "showbackground": true,
            "ticks": "",
            "zerolinecolor": "white"
           },
           "zaxis": {
            "backgroundcolor": "#E5ECF6",
            "gridcolor": "white",
            "gridwidth": 2,
            "linecolor": "white",
            "showbackground": true,
            "ticks": "",
            "zerolinecolor": "white"
           }
          },
          "shapedefaults": {
           "line": {
            "color": "#2a3f5f"
           }
          },
          "ternary": {
           "aaxis": {
            "gridcolor": "white",
            "linecolor": "white",
            "ticks": ""
           },
           "baxis": {
            "gridcolor": "white",
            "linecolor": "white",
            "ticks": ""
           },
           "bgcolor": "#E5ECF6",
           "caxis": {
            "gridcolor": "white",
            "linecolor": "white",
            "ticks": ""
           }
          },
          "title": {
           "x": 0.05
          },
          "xaxis": {
           "automargin": true,
           "gridcolor": "white",
           "linecolor": "white",
           "ticks": "",
           "title": {
            "standoff": 15
           },
           "zerolinecolor": "white",
           "zerolinewidth": 2
          },
          "yaxis": {
           "automargin": true,
           "gridcolor": "white",
           "linecolor": "white",
           "ticks": "",
           "title": {
            "standoff": 15
           },
           "zerolinecolor": "white",
           "zerolinewidth": 2
          }
         }
        },
        "updatemenus": [
         {
          "buttons": [
           {
            "args": [
             null,
             {
              "frame": {
               "duration": 500,
               "redraw": true
              },
              "fromcurrent": true,
              "mode": "immediate",
              "transition": {
               "duration": 500,
               "easing": "linear"
              }
             }
            ],
            "label": "&#9654;",
            "method": "animate"
           },
           {
            "args": [
             [
              null
             ],
             {
              "frame": {
               "duration": 0,
               "redraw": true
              },
              "fromcurrent": true,
              "mode": "immediate",
              "transition": {
               "duration": 0,
               "easing": "linear"
              }
             }
            ],
            "label": "&#9724;",
            "method": "animate"
           }
          ],
          "direction": "left",
          "pad": {
           "r": 10,
           "t": 70
          },
          "showactive": false,
          "type": "buttons",
          "x": 0.1,
          "xanchor": "right",
          "y": 0,
          "yanchor": "top"
         }
        ]
       }
      }
     },
     "metadata": {},
     "output_type": "display_data"
    }
   ],
   "source": [
    "import plotly.express as px\n",
    "\n",
    "# A displayable gini coefficient\n",
    "df['gini_display'] = df['gini'] ** 6\n",
    "fig = px.scatter_geo(df, locations=\"iso\", hover_name=\"country\", hover_data=['gini'], scope='europe',\n",
    "                     size=\"gini_display\", color='color', color_discrete_sequence=[\"orange\", \"red\", \"blue\"],\n",
    "                     animation_frame=\"year\", animation_group=\"country\")\n",
    "fig.show()"
   ]
  },
  {
   "cell_type": "markdown",
   "metadata": {},
   "source": [
    "##  Fonction pour colorier en fonction du parti majoritaire"
   ]
  },
  {
   "cell_type": "code",
   "execution_count": null,
   "metadata": {},
   "outputs": [],
   "source": []
  },
  {
   "cell_type": "code",
   "execution_count": null,
   "metadata": {},
   "outputs": [],
   "source": []
  }
 ],
 "metadata": {
  "interpreter": {
   "hash": "31f2aee4e71d21fbe5cf8b01ff0e069b9275f58929596ceb00d14d90e3e16cd6"
  },
  "kernelspec": {
   "display_name": "Python 3",
   "language": "python",
   "name": "python3"
  },
  "language_info": {
   "codemirror_mode": {
    "name": "ipython",
    "version": 3
   },
   "file_extension": ".py",
   "mimetype": "text/x-python",
   "name": "python",
   "nbconvert_exporter": "python",
   "pygments_lexer": "ipython3",
   "version": "3.8.10"
  }
 },
 "nbformat": 4,
 "nbformat_minor": 2
}
