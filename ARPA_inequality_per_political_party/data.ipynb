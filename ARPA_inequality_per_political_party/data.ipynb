{
 "cells": [
  {
   "cell_type": "code",
   "execution_count": 52,
   "metadata": {},
   "outputs": [],
   "source": [
    "import pandas as pd"
   ]
  },
  {
   "cell_type": "markdown",
   "metadata": {},
   "source": [
    "## Chargement des données sur la politique mondiale"
   ]
  },
  {
   "cell_type": "code",
   "execution_count": 53,
   "metadata": {},
   "outputs": [
    {
     "data": {
      "text/html": [
       "<div>\n",
       "<style scoped>\n",
       "    .dataframe tbody tr th:only-of-type {\n",
       "        vertical-align: middle;\n",
       "    }\n",
       "\n",
       "    .dataframe tbody tr th {\n",
       "        vertical-align: top;\n",
       "    }\n",
       "\n",
       "    .dataframe thead th {\n",
       "        text-align: right;\n",
       "    }\n",
       "</style>\n",
       "<table border=\"1\" class=\"dataframe\">\n",
       "  <thead>\n",
       "    <tr style=\"text-align: right;\">\n",
       "      <th></th>\n",
       "      <th>year</th>\n",
       "      <th>country</th>\n",
       "      <th>iso</th>\n",
       "      <th>eu</th>\n",
       "      <th>gov_right1</th>\n",
       "      <th>gov_cent1</th>\n",
       "      <th>gov_left1</th>\n",
       "      <th>gov_right3</th>\n",
       "      <th>gov_cent3</th>\n",
       "      <th>gov_left3</th>\n",
       "    </tr>\n",
       "  </thead>\n",
       "  <tbody>\n",
       "    <tr>\n",
       "      <th>100</th>\n",
       "      <td>2000</td>\n",
       "      <td>Austria</td>\n",
       "      <td>AUT</td>\n",
       "      <td>1</td>\n",
       "      <td>45.36</td>\n",
       "      <td>49.64</td>\n",
       "      <td>4.29</td>\n",
       "      <td>25.760000</td>\n",
       "      <td>28.40</td>\n",
       "      <td>3.6</td>\n",
       "    </tr>\n",
       "    <tr>\n",
       "      <th>101</th>\n",
       "      <td>2001</td>\n",
       "      <td>Austria</td>\n",
       "      <td>AUT</td>\n",
       "      <td>1</td>\n",
       "      <td>50.00</td>\n",
       "      <td>50.00</td>\n",
       "      <td>0.00</td>\n",
       "      <td>28.400000</td>\n",
       "      <td>28.40</td>\n",
       "      <td>0.0</td>\n",
       "    </tr>\n",
       "    <tr>\n",
       "      <th>102</th>\n",
       "      <td>2002</td>\n",
       "      <td>Austria</td>\n",
       "      <td>AUT</td>\n",
       "      <td>1</td>\n",
       "      <td>50.00</td>\n",
       "      <td>50.00</td>\n",
       "      <td>0.00</td>\n",
       "      <td>28.400000</td>\n",
       "      <td>28.40</td>\n",
       "      <td>0.0</td>\n",
       "    </tr>\n",
       "    <tr>\n",
       "      <th>103</th>\n",
       "      <td>2003</td>\n",
       "      <td>Austria</td>\n",
       "      <td>AUT</td>\n",
       "      <td>1</td>\n",
       "      <td>28.97</td>\n",
       "      <td>64.02</td>\n",
       "      <td>0.00</td>\n",
       "      <td>12.760000</td>\n",
       "      <td>40.85</td>\n",
       "      <td>0.0</td>\n",
       "    </tr>\n",
       "    <tr>\n",
       "      <th>104</th>\n",
       "      <td>2004</td>\n",
       "      <td>Austria</td>\n",
       "      <td>AUT</td>\n",
       "      <td>1</td>\n",
       "      <td>25.00</td>\n",
       "      <td>66.67</td>\n",
       "      <td>0.00</td>\n",
       "      <td>9.800000</td>\n",
       "      <td>43.20</td>\n",
       "      <td>0.0</td>\n",
       "    </tr>\n",
       "    <tr>\n",
       "      <th>...</th>\n",
       "      <td>...</td>\n",
       "      <td>...</td>\n",
       "      <td>...</td>\n",
       "      <td>...</td>\n",
       "      <td>...</td>\n",
       "      <td>...</td>\n",
       "      <td>...</td>\n",
       "      <td>...</td>\n",
       "      <td>...</td>\n",
       "      <td>...</td>\n",
       "    </tr>\n",
       "    <tr>\n",
       "      <th>1693</th>\n",
       "      <td>2015</td>\n",
       "      <td>United Kingdom</td>\n",
       "      <td>GBR</td>\n",
       "      <td>1</td>\n",
       "      <td>100.00</td>\n",
       "      <td>0.00</td>\n",
       "      <td>0.00</td>\n",
       "      <td>52.639726</td>\n",
       "      <td>0.00</td>\n",
       "      <td>0.0</td>\n",
       "    </tr>\n",
       "    <tr>\n",
       "      <th>1694</th>\n",
       "      <td>2016</td>\n",
       "      <td>United Kingdom</td>\n",
       "      <td>GBR</td>\n",
       "      <td>1</td>\n",
       "      <td>100.00</td>\n",
       "      <td>0.00</td>\n",
       "      <td>0.00</td>\n",
       "      <td>50.810000</td>\n",
       "      <td>0.00</td>\n",
       "      <td>0.0</td>\n",
       "    </tr>\n",
       "    <tr>\n",
       "      <th>1695</th>\n",
       "      <td>2017</td>\n",
       "      <td>United Kingdom</td>\n",
       "      <td>GBR</td>\n",
       "      <td>1</td>\n",
       "      <td>100.00</td>\n",
       "      <td>0.00</td>\n",
       "      <td>0.00</td>\n",
       "      <td>49.640000</td>\n",
       "      <td>0.00</td>\n",
       "      <td>0.0</td>\n",
       "    </tr>\n",
       "    <tr>\n",
       "      <th>1696</th>\n",
       "      <td>2018</td>\n",
       "      <td>United Kingdom</td>\n",
       "      <td>GBR</td>\n",
       "      <td>1</td>\n",
       "      <td>100.00</td>\n",
       "      <td>0.00</td>\n",
       "      <td>0.00</td>\n",
       "      <td>48.800000</td>\n",
       "      <td>0.00</td>\n",
       "      <td>0.0</td>\n",
       "    </tr>\n",
       "    <tr>\n",
       "      <th>1697</th>\n",
       "      <td>2019</td>\n",
       "      <td>United Kingdom</td>\n",
       "      <td>GBR</td>\n",
       "      <td>1</td>\n",
       "      <td>100.00</td>\n",
       "      <td>0.00</td>\n",
       "      <td>0.00</td>\n",
       "      <td>48.020000</td>\n",
       "      <td>0.00</td>\n",
       "      <td>0.0</td>\n",
       "    </tr>\n",
       "  </tbody>\n",
       "</table>\n",
       "<p>493 rows × 10 columns</p>\n",
       "</div>"
      ],
      "text/plain": [
       "      year         country  iso  eu  gov_right1  gov_cent1  gov_left1  \\\n",
       "100   2000         Austria  AUT   1       45.36      49.64       4.29   \n",
       "101   2001         Austria  AUT   1       50.00      50.00       0.00   \n",
       "102   2002         Austria  AUT   1       50.00      50.00       0.00   \n",
       "103   2003         Austria  AUT   1       28.97      64.02       0.00   \n",
       "104   2004         Austria  AUT   1       25.00      66.67       0.00   \n",
       "...    ...             ...  ...  ..         ...        ...        ...   \n",
       "1693  2015  United Kingdom  GBR   1      100.00       0.00       0.00   \n",
       "1694  2016  United Kingdom  GBR   1      100.00       0.00       0.00   \n",
       "1695  2017  United Kingdom  GBR   1      100.00       0.00       0.00   \n",
       "1696  2018  United Kingdom  GBR   1      100.00       0.00       0.00   \n",
       "1697  2019  United Kingdom  GBR   1      100.00       0.00       0.00   \n",
       "\n",
       "      gov_right3  gov_cent3  gov_left3  \n",
       "100    25.760000      28.40        3.6  \n",
       "101    28.400000      28.40        0.0  \n",
       "102    28.400000      28.40        0.0  \n",
       "103    12.760000      40.85        0.0  \n",
       "104     9.800000      43.20        0.0  \n",
       "...          ...        ...        ...  \n",
       "1693   52.639726       0.00        0.0  \n",
       "1694   50.810000       0.00        0.0  \n",
       "1695   49.640000       0.00        0.0  \n",
       "1696   48.800000       0.00        0.0  \n",
       "1697   48.020000       0.00        0.0  \n",
       "\n",
       "[493 rows x 10 columns]"
      ]
     },
     "execution_count": 53,
     "metadata": {},
     "output_type": "execute_result"
    }
   ],
   "source": [
    "columns = ['eu', 'year', 'country', 'iso', 'gov_right1', 'gov_cent1', 'gov_left1', 'gov_right3', 'gov_cent3', 'gov_left3']\n",
    "df1 = pd.read_excel('./data/politique_mondiale.xlsx', usecols=columns, skipfooter=1, dtype={'year': int})\n",
    "df1 = df1[(df1.eu == 1) & (df1.year >= 2000)]\n",
    "df1"
   ]
  },
  {
   "cell_type": "markdown",
   "metadata": {},
   "source": [
    "## Formattage des noms de pays du dataframe en français"
   ]
  },
  {
   "cell_type": "code",
   "execution_count": 54,
   "metadata": {},
   "outputs": [
    {
     "data": {
      "text/html": [
       "<div>\n",
       "<style scoped>\n",
       "    .dataframe tbody tr th:only-of-type {\n",
       "        vertical-align: middle;\n",
       "    }\n",
       "\n",
       "    .dataframe tbody tr th {\n",
       "        vertical-align: top;\n",
       "    }\n",
       "\n",
       "    .dataframe thead th {\n",
       "        text-align: right;\n",
       "    }\n",
       "</style>\n",
       "<table border=\"1\" class=\"dataframe\">\n",
       "  <thead>\n",
       "    <tr style=\"text-align: right;\">\n",
       "      <th></th>\n",
       "      <th>year</th>\n",
       "      <th>country</th>\n",
       "      <th>iso</th>\n",
       "      <th>eu</th>\n",
       "      <th>gov_right1</th>\n",
       "      <th>gov_cent1</th>\n",
       "      <th>gov_left1</th>\n",
       "      <th>gov_right3</th>\n",
       "      <th>gov_cent3</th>\n",
       "      <th>gov_left3</th>\n",
       "    </tr>\n",
       "  </thead>\n",
       "  <tbody>\n",
       "    <tr>\n",
       "      <th>100</th>\n",
       "      <td>2000</td>\n",
       "      <td>Autriche</td>\n",
       "      <td>AUT</td>\n",
       "      <td>1</td>\n",
       "      <td>45.36</td>\n",
       "      <td>49.64</td>\n",
       "      <td>4.29</td>\n",
       "      <td>25.760000</td>\n",
       "      <td>28.40</td>\n",
       "      <td>3.6</td>\n",
       "    </tr>\n",
       "    <tr>\n",
       "      <th>101</th>\n",
       "      <td>2001</td>\n",
       "      <td>Autriche</td>\n",
       "      <td>AUT</td>\n",
       "      <td>1</td>\n",
       "      <td>50.00</td>\n",
       "      <td>50.00</td>\n",
       "      <td>0.00</td>\n",
       "      <td>28.400000</td>\n",
       "      <td>28.40</td>\n",
       "      <td>0.0</td>\n",
       "    </tr>\n",
       "    <tr>\n",
       "      <th>102</th>\n",
       "      <td>2002</td>\n",
       "      <td>Autriche</td>\n",
       "      <td>AUT</td>\n",
       "      <td>1</td>\n",
       "      <td>50.00</td>\n",
       "      <td>50.00</td>\n",
       "      <td>0.00</td>\n",
       "      <td>28.400000</td>\n",
       "      <td>28.40</td>\n",
       "      <td>0.0</td>\n",
       "    </tr>\n",
       "    <tr>\n",
       "      <th>103</th>\n",
       "      <td>2003</td>\n",
       "      <td>Autriche</td>\n",
       "      <td>AUT</td>\n",
       "      <td>1</td>\n",
       "      <td>28.97</td>\n",
       "      <td>64.02</td>\n",
       "      <td>0.00</td>\n",
       "      <td>12.760000</td>\n",
       "      <td>40.85</td>\n",
       "      <td>0.0</td>\n",
       "    </tr>\n",
       "    <tr>\n",
       "      <th>104</th>\n",
       "      <td>2004</td>\n",
       "      <td>Autriche</td>\n",
       "      <td>AUT</td>\n",
       "      <td>1</td>\n",
       "      <td>25.00</td>\n",
       "      <td>66.67</td>\n",
       "      <td>0.00</td>\n",
       "      <td>9.800000</td>\n",
       "      <td>43.20</td>\n",
       "      <td>0.0</td>\n",
       "    </tr>\n",
       "    <tr>\n",
       "      <th>...</th>\n",
       "      <td>...</td>\n",
       "      <td>...</td>\n",
       "      <td>...</td>\n",
       "      <td>...</td>\n",
       "      <td>...</td>\n",
       "      <td>...</td>\n",
       "      <td>...</td>\n",
       "      <td>...</td>\n",
       "      <td>...</td>\n",
       "      <td>...</td>\n",
       "    </tr>\n",
       "    <tr>\n",
       "      <th>1693</th>\n",
       "      <td>2015</td>\n",
       "      <td>Royaume-Uni</td>\n",
       "      <td>GBR</td>\n",
       "      <td>1</td>\n",
       "      <td>100.00</td>\n",
       "      <td>0.00</td>\n",
       "      <td>0.00</td>\n",
       "      <td>52.639726</td>\n",
       "      <td>0.00</td>\n",
       "      <td>0.0</td>\n",
       "    </tr>\n",
       "    <tr>\n",
       "      <th>1694</th>\n",
       "      <td>2016</td>\n",
       "      <td>Royaume-Uni</td>\n",
       "      <td>GBR</td>\n",
       "      <td>1</td>\n",
       "      <td>100.00</td>\n",
       "      <td>0.00</td>\n",
       "      <td>0.00</td>\n",
       "      <td>50.810000</td>\n",
       "      <td>0.00</td>\n",
       "      <td>0.0</td>\n",
       "    </tr>\n",
       "    <tr>\n",
       "      <th>1695</th>\n",
       "      <td>2017</td>\n",
       "      <td>Royaume-Uni</td>\n",
       "      <td>GBR</td>\n",
       "      <td>1</td>\n",
       "      <td>100.00</td>\n",
       "      <td>0.00</td>\n",
       "      <td>0.00</td>\n",
       "      <td>49.640000</td>\n",
       "      <td>0.00</td>\n",
       "      <td>0.0</td>\n",
       "    </tr>\n",
       "    <tr>\n",
       "      <th>1696</th>\n",
       "      <td>2018</td>\n",
       "      <td>Royaume-Uni</td>\n",
       "      <td>GBR</td>\n",
       "      <td>1</td>\n",
       "      <td>100.00</td>\n",
       "      <td>0.00</td>\n",
       "      <td>0.00</td>\n",
       "      <td>48.800000</td>\n",
       "      <td>0.00</td>\n",
       "      <td>0.0</td>\n",
       "    </tr>\n",
       "    <tr>\n",
       "      <th>1697</th>\n",
       "      <td>2019</td>\n",
       "      <td>Royaume-Uni</td>\n",
       "      <td>GBR</td>\n",
       "      <td>1</td>\n",
       "      <td>100.00</td>\n",
       "      <td>0.00</td>\n",
       "      <td>0.00</td>\n",
       "      <td>48.020000</td>\n",
       "      <td>0.00</td>\n",
       "      <td>0.0</td>\n",
       "    </tr>\n",
       "  </tbody>\n",
       "</table>\n",
       "<p>493 rows × 10 columns</p>\n",
       "</div>"
      ],
      "text/plain": [
       "      year      country  iso  eu  gov_right1  gov_cent1  gov_left1  \\\n",
       "100   2000     Autriche  AUT   1       45.36      49.64       4.29   \n",
       "101   2001     Autriche  AUT   1       50.00      50.00       0.00   \n",
       "102   2002     Autriche  AUT   1       50.00      50.00       0.00   \n",
       "103   2003     Autriche  AUT   1       28.97      64.02       0.00   \n",
       "104   2004     Autriche  AUT   1       25.00      66.67       0.00   \n",
       "...    ...          ...  ...  ..         ...        ...        ...   \n",
       "1693  2015  Royaume-Uni  GBR   1      100.00       0.00       0.00   \n",
       "1694  2016  Royaume-Uni  GBR   1      100.00       0.00       0.00   \n",
       "1695  2017  Royaume-Uni  GBR   1      100.00       0.00       0.00   \n",
       "1696  2018  Royaume-Uni  GBR   1      100.00       0.00       0.00   \n",
       "1697  2019  Royaume-Uni  GBR   1      100.00       0.00       0.00   \n",
       "\n",
       "      gov_right3  gov_cent3  gov_left3  \n",
       "100    25.760000      28.40        3.6  \n",
       "101    28.400000      28.40        0.0  \n",
       "102    28.400000      28.40        0.0  \n",
       "103    12.760000      40.85        0.0  \n",
       "104     9.800000      43.20        0.0  \n",
       "...          ...        ...        ...  \n",
       "1693   52.639726       0.00        0.0  \n",
       "1694   50.810000       0.00        0.0  \n",
       "1695   49.640000       0.00        0.0  \n",
       "1696   48.800000       0.00        0.0  \n",
       "1697   48.020000       0.00        0.0  \n",
       "\n",
       "[493 rows x 10 columns]"
      ]
     },
     "execution_count": 54,
     "metadata": {},
     "output_type": "execute_result"
    }
   ],
   "source": [
    "country_name_en = df1['country'].unique().tolist()\n",
    "country_name_fr = ['Autriche', 'Belgique', 'Bulgarie', 'Croatie', 'Chypre', 'République tchèque', 'Danemark', 'Estonie', 'Finlande', 'France', 'Allemagne', 'Grèce', 'Hongrie', 'Irlande', 'Italie', 'Lettonie', 'Lituanie', 'Luxembourg', 'Malte', 'Pays-Bas', 'Pologne', 'Portugal', 'Roumanie', 'Slovaquie', 'Slovénie', 'Espagne', 'Suède', 'Royaume-Uni']\n",
    "df1 = df1.replace(country_name_en, country_name_fr)\n",
    "df1"
   ]
  },
  {
   "cell_type": "markdown",
   "metadata": {},
   "source": [
    "## Chargement des données sur les inégalités en Europe"
   ]
  },
  {
   "cell_type": "code",
   "execution_count": 55,
   "metadata": {},
   "outputs": [
    {
     "data": {
      "text/html": [
       "<div>\n",
       "<style scoped>\n",
       "    .dataframe tbody tr th:only-of-type {\n",
       "        vertical-align: middle;\n",
       "    }\n",
       "\n",
       "    .dataframe tbody tr th {\n",
       "        vertical-align: top;\n",
       "    }\n",
       "\n",
       "    .dataframe thead th {\n",
       "        text-align: right;\n",
       "    }\n",
       "</style>\n",
       "<table border=\"1\" class=\"dataframe\">\n",
       "  <thead>\n",
       "    <tr style=\"text-align: right;\">\n",
       "      <th></th>\n",
       "      <th>country</th>\n",
       "      <th>year</th>\n",
       "      <th>geni</th>\n",
       "    </tr>\n",
       "  </thead>\n",
       "  <tbody>\n",
       "    <tr>\n",
       "      <th>0</th>\n",
       "      <td>Allemagne</td>\n",
       "      <td>2000</td>\n",
       "      <td>0.436821</td>\n",
       "    </tr>\n",
       "    <tr>\n",
       "      <th>1</th>\n",
       "      <td>Allemagne</td>\n",
       "      <td>2001</td>\n",
       "      <td>0.439630</td>\n",
       "    </tr>\n",
       "    <tr>\n",
       "      <th>2</th>\n",
       "      <td>Allemagne</td>\n",
       "      <td>2002</td>\n",
       "      <td>0.443165</td>\n",
       "    </tr>\n",
       "    <tr>\n",
       "      <th>3</th>\n",
       "      <td>Allemagne</td>\n",
       "      <td>2003</td>\n",
       "      <td>0.434784</td>\n",
       "    </tr>\n",
       "    <tr>\n",
       "      <th>4</th>\n",
       "      <td>Allemagne</td>\n",
       "      <td>2004</td>\n",
       "      <td>0.446877</td>\n",
       "    </tr>\n",
       "    <tr>\n",
       "      <th>...</th>\n",
       "      <td>...</td>\n",
       "      <td>...</td>\n",
       "      <td>...</td>\n",
       "    </tr>\n",
       "    <tr>\n",
       "      <th>555</th>\n",
       "      <td>Suède</td>\n",
       "      <td>2015</td>\n",
       "      <td>0.408765</td>\n",
       "    </tr>\n",
       "    <tr>\n",
       "      <th>556</th>\n",
       "      <td>Suède</td>\n",
       "      <td>2016</td>\n",
       "      <td>0.392907</td>\n",
       "    </tr>\n",
       "    <tr>\n",
       "      <th>557</th>\n",
       "      <td>Suède</td>\n",
       "      <td>2017</td>\n",
       "      <td>0.399593</td>\n",
       "    </tr>\n",
       "    <tr>\n",
       "      <th>558</th>\n",
       "      <td>Suède</td>\n",
       "      <td>2018</td>\n",
       "      <td>0.394447</td>\n",
       "    </tr>\n",
       "    <tr>\n",
       "      <th>559</th>\n",
       "      <td>Suède</td>\n",
       "      <td>2019</td>\n",
       "      <td>0.395844</td>\n",
       "    </tr>\n",
       "  </tbody>\n",
       "</table>\n",
       "<p>560 rows × 3 columns</p>\n",
       "</div>"
      ],
      "text/plain": [
       "       country  year      geni\n",
       "0    Allemagne  2000  0.436821\n",
       "1    Allemagne  2001  0.439630\n",
       "2    Allemagne  2002  0.443165\n",
       "3    Allemagne  2003  0.434784\n",
       "4    Allemagne  2004  0.446877\n",
       "..         ...   ...       ...\n",
       "555      Suède  2015  0.408765\n",
       "556      Suède  2016  0.392907\n",
       "557      Suède  2017  0.399593\n",
       "558      Suède  2018  0.394447\n",
       "559      Suède  2019  0.395844\n",
       "\n",
       "[560 rows x 3 columns]"
      ]
     },
     "execution_count": 55,
     "metadata": {},
     "output_type": "execute_result"
    }
   ],
   "source": [
    "df2 = pd.read_excel('./data/inegalite_europe.xlsx', header=None, names=['country', 'def', 'pall', 'year', 'geni'], usecols=['country', 'year', 'geni'])\n",
    "df2"
   ]
  },
  {
   "cell_type": "markdown",
   "metadata": {},
   "source": [
    "## Fusion des deux dataframes"
   ]
  },
  {
   "cell_type": "code",
   "execution_count": 56,
   "metadata": {},
   "outputs": [
    {
     "data": {
      "text/html": [
       "<div>\n",
       "<style scoped>\n",
       "    .dataframe tbody tr th:only-of-type {\n",
       "        vertical-align: middle;\n",
       "    }\n",
       "\n",
       "    .dataframe tbody tr th {\n",
       "        vertical-align: top;\n",
       "    }\n",
       "\n",
       "    .dataframe thead th {\n",
       "        text-align: right;\n",
       "    }\n",
       "</style>\n",
       "<table border=\"1\" class=\"dataframe\">\n",
       "  <thead>\n",
       "    <tr style=\"text-align: right;\">\n",
       "      <th></th>\n",
       "      <th>year</th>\n",
       "      <th>country</th>\n",
       "      <th>iso</th>\n",
       "      <th>eu</th>\n",
       "      <th>gov_right1</th>\n",
       "      <th>gov_cent1</th>\n",
       "      <th>gov_left1</th>\n",
       "      <th>gov_right3</th>\n",
       "      <th>gov_cent3</th>\n",
       "      <th>gov_left3</th>\n",
       "      <th>geni</th>\n",
       "    </tr>\n",
       "  </thead>\n",
       "  <tbody>\n",
       "    <tr>\n",
       "      <th>0</th>\n",
       "      <td>2000</td>\n",
       "      <td>Autriche</td>\n",
       "      <td>AUT</td>\n",
       "      <td>1</td>\n",
       "      <td>45.36</td>\n",
       "      <td>49.64</td>\n",
       "      <td>4.29</td>\n",
       "      <td>25.760000</td>\n",
       "      <td>28.40</td>\n",
       "      <td>3.6</td>\n",
       "      <td>0.445938</td>\n",
       "    </tr>\n",
       "    <tr>\n",
       "      <th>1</th>\n",
       "      <td>2001</td>\n",
       "      <td>Autriche</td>\n",
       "      <td>AUT</td>\n",
       "      <td>1</td>\n",
       "      <td>50.00</td>\n",
       "      <td>50.00</td>\n",
       "      <td>0.00</td>\n",
       "      <td>28.400000</td>\n",
       "      <td>28.40</td>\n",
       "      <td>0.0</td>\n",
       "      <td>0.432687</td>\n",
       "    </tr>\n",
       "    <tr>\n",
       "      <th>2</th>\n",
       "      <td>2002</td>\n",
       "      <td>Autriche</td>\n",
       "      <td>AUT</td>\n",
       "      <td>1</td>\n",
       "      <td>50.00</td>\n",
       "      <td>50.00</td>\n",
       "      <td>0.00</td>\n",
       "      <td>28.400000</td>\n",
       "      <td>28.40</td>\n",
       "      <td>0.0</td>\n",
       "      <td>0.448204</td>\n",
       "    </tr>\n",
       "    <tr>\n",
       "      <th>3</th>\n",
       "      <td>2003</td>\n",
       "      <td>Autriche</td>\n",
       "      <td>AUT</td>\n",
       "      <td>1</td>\n",
       "      <td>28.97</td>\n",
       "      <td>64.02</td>\n",
       "      <td>0.00</td>\n",
       "      <td>12.760000</td>\n",
       "      <td>40.85</td>\n",
       "      <td>0.0</td>\n",
       "      <td>0.458622</td>\n",
       "    </tr>\n",
       "    <tr>\n",
       "      <th>4</th>\n",
       "      <td>2004</td>\n",
       "      <td>Autriche</td>\n",
       "      <td>AUT</td>\n",
       "      <td>1</td>\n",
       "      <td>25.00</td>\n",
       "      <td>66.67</td>\n",
       "      <td>0.00</td>\n",
       "      <td>9.800000</td>\n",
       "      <td>43.20</td>\n",
       "      <td>0.0</td>\n",
       "      <td>0.442338</td>\n",
       "    </tr>\n",
       "    <tr>\n",
       "      <th>...</th>\n",
       "      <td>...</td>\n",
       "      <td>...</td>\n",
       "      <td>...</td>\n",
       "      <td>...</td>\n",
       "      <td>...</td>\n",
       "      <td>...</td>\n",
       "      <td>...</td>\n",
       "      <td>...</td>\n",
       "      <td>...</td>\n",
       "      <td>...</td>\n",
       "      <td>...</td>\n",
       "    </tr>\n",
       "    <tr>\n",
       "      <th>488</th>\n",
       "      <td>2015</td>\n",
       "      <td>Royaume-Uni</td>\n",
       "      <td>GBR</td>\n",
       "      <td>1</td>\n",
       "      <td>100.00</td>\n",
       "      <td>0.00</td>\n",
       "      <td>0.00</td>\n",
       "      <td>52.639726</td>\n",
       "      <td>0.00</td>\n",
       "      <td>0.0</td>\n",
       "      <td>0.469553</td>\n",
       "    </tr>\n",
       "    <tr>\n",
       "      <th>489</th>\n",
       "      <td>2016</td>\n",
       "      <td>Royaume-Uni</td>\n",
       "      <td>GBR</td>\n",
       "      <td>1</td>\n",
       "      <td>100.00</td>\n",
       "      <td>0.00</td>\n",
       "      <td>0.00</td>\n",
       "      <td>50.810000</td>\n",
       "      <td>0.00</td>\n",
       "      <td>0.0</td>\n",
       "      <td>0.467841</td>\n",
       "    </tr>\n",
       "    <tr>\n",
       "      <th>490</th>\n",
       "      <td>2017</td>\n",
       "      <td>Royaume-Uni</td>\n",
       "      <td>GBR</td>\n",
       "      <td>1</td>\n",
       "      <td>100.00</td>\n",
       "      <td>0.00</td>\n",
       "      <td>0.00</td>\n",
       "      <td>49.640000</td>\n",
       "      <td>0.00</td>\n",
       "      <td>0.0</td>\n",
       "      <td>0.466156</td>\n",
       "    </tr>\n",
       "    <tr>\n",
       "      <th>491</th>\n",
       "      <td>2018</td>\n",
       "      <td>Royaume-Uni</td>\n",
       "      <td>GBR</td>\n",
       "      <td>1</td>\n",
       "      <td>100.00</td>\n",
       "      <td>0.00</td>\n",
       "      <td>0.00</td>\n",
       "      <td>48.800000</td>\n",
       "      <td>0.00</td>\n",
       "      <td>0.0</td>\n",
       "      <td>0.467227</td>\n",
       "    </tr>\n",
       "    <tr>\n",
       "      <th>492</th>\n",
       "      <td>2019</td>\n",
       "      <td>Royaume-Uni</td>\n",
       "      <td>GBR</td>\n",
       "      <td>1</td>\n",
       "      <td>100.00</td>\n",
       "      <td>0.00</td>\n",
       "      <td>0.00</td>\n",
       "      <td>48.020000</td>\n",
       "      <td>0.00</td>\n",
       "      <td>0.0</td>\n",
       "      <td>0.464900</td>\n",
       "    </tr>\n",
       "  </tbody>\n",
       "</table>\n",
       "<p>493 rows × 11 columns</p>\n",
       "</div>"
      ],
      "text/plain": [
       "     year      country  iso  eu  gov_right1  gov_cent1  gov_left1  gov_right3  \\\n",
       "0    2000     Autriche  AUT   1       45.36      49.64       4.29   25.760000   \n",
       "1    2001     Autriche  AUT   1       50.00      50.00       0.00   28.400000   \n",
       "2    2002     Autriche  AUT   1       50.00      50.00       0.00   28.400000   \n",
       "3    2003     Autriche  AUT   1       28.97      64.02       0.00   12.760000   \n",
       "4    2004     Autriche  AUT   1       25.00      66.67       0.00    9.800000   \n",
       "..    ...          ...  ...  ..         ...        ...        ...         ...   \n",
       "488  2015  Royaume-Uni  GBR   1      100.00       0.00       0.00   52.639726   \n",
       "489  2016  Royaume-Uni  GBR   1      100.00       0.00       0.00   50.810000   \n",
       "490  2017  Royaume-Uni  GBR   1      100.00       0.00       0.00   49.640000   \n",
       "491  2018  Royaume-Uni  GBR   1      100.00       0.00       0.00   48.800000   \n",
       "492  2019  Royaume-Uni  GBR   1      100.00       0.00       0.00   48.020000   \n",
       "\n",
       "     gov_cent3  gov_left3      geni  \n",
       "0        28.40        3.6  0.445938  \n",
       "1        28.40        0.0  0.432687  \n",
       "2        28.40        0.0  0.448204  \n",
       "3        40.85        0.0  0.458622  \n",
       "4        43.20        0.0  0.442338  \n",
       "..         ...        ...       ...  \n",
       "488       0.00        0.0  0.469553  \n",
       "489       0.00        0.0  0.467841  \n",
       "490       0.00        0.0  0.466156  \n",
       "491       0.00        0.0  0.467227  \n",
       "492       0.00        0.0  0.464900  \n",
       "\n",
       "[493 rows x 11 columns]"
      ]
     },
     "execution_count": 56,
     "metadata": {},
     "output_type": "execute_result"
    }
   ],
   "source": [
    "df = pd.merge(df1, df2)\n",
    "df"
   ]
  },
  {
   "cell_type": "markdown",
   "metadata": {},
   "source": [
    "## Fonction pour extraire les données dans un unique dataframe"
   ]
  },
  {
   "cell_type": "code",
   "execution_count": 57,
   "metadata": {},
   "outputs": [],
   "source": [
    "def extract_data():\n",
    "    country_name_fr = [\n",
    "        'Autriche', 'Belgique', 'Bulgarie', 'Croatie', 'Chypre', 'République tchèque', 'Danemark', 'Estonie',\n",
    "        'Finlande', 'France', 'Allemagne', 'Grèce', 'Hongrie', 'Irlande', 'Italie', 'Lettonie', 'Lituanie',\n",
    "        'Luxembourg', 'Malte', 'Pays-Bas', 'Pologne', 'Portugal', 'Roumanie', 'Slovaquie', 'Slovénie', 'Espagne',\n",
    "        'Suède', 'Royaume-Uni'\n",
    "    ]\n",
    "    columns = ['eu', 'year', 'country', 'gov_right1', 'gov_cent1', 'gov_left1', 'gov_right3', 'gov_cent3', 'gov_left3']\n",
    "    \n",
    "    df1 = pd.read_excel('./data/politique_mondiale.xlsx', usecols=columns, skipfooter=1, dtype={'year': int}).query('(eu == 1) & (year >= 2000)')\n",
    "    df1 = df1.replace(df1['country'].unique().tolist(), country_name_fr)\n",
    "    \n",
    "    df2 = pd.read_excel('./data/inegalite_europe.xlsx', header=None, names=['country', 'def', 'pall', 'year', 'geni'], usecols=['country', 'year', 'geni'])\n",
    "    \n",
    "    return pd.merge(df1, df2)"
   ]
  },
  {
   "cell_type": "code",
   "execution_count": 60,
   "metadata": {},
   "outputs": [
    {
     "data": {
      "application/vnd.plotly.v1+json": {
       "config": {
        "plotlyServerURL": "https://plot.ly"
       },
       "data": [
        {
         "geo": "geo",
         "hovertemplate": "<b>%{hovertext}</b><br><br>year=2000<br>geni=%{marker.size}<br>iso=%{location}<extra></extra>",
         "hovertext": [
          "Autriche",
          "Belgique",
          "Danemark",
          "Finlande",
          "France",
          "Allemagne",
          "Grèce",
          "Irlande",
          "Italie",
          "Luxembourg",
          "Pays-Bas",
          "Portugal",
          "Espagne",
          "Suède",
          "Royaume-Uni"
         ],
         "ids": [
          "Autriche",
          "Belgique",
          "Danemark",
          "Finlande",
          "France",
          "Allemagne",
          "Grèce",
          "Irlande",
          "Italie",
          "Luxembourg",
          "Pays-Bas",
          "Portugal",
          "Espagne",
          "Suède",
          "Royaume-Uni"
         ],
         "legendgroup": "",
         "locations": [
          "AUT",
          "BEL",
          "DNK",
          "FIN",
          "FRA",
          "DEU",
          "GRC",
          "IRL",
          "ITA",
          "LUX",
          "NLD",
          "PRT",
          "ESP",
          "SWE",
          "GBR"
         ],
         "marker": {
          "color": "#636efa",
          "size": [
           0.445938127181349,
           0.454210186021074,
           0.409965610619835,
           0.439338070306441,
           0.448740803667583,
           0.436820529852348,
           0.542492569618666,
           0.462704056213987,
           0.425894431013866,
           0.48157607693387,
           0.381893577459484,
           0.492261661221216,
           0.459348632102632,
           0.390859593419169,
           0.478116162537798
          ],
          "sizemode": "area",
          "sizeref": 0.0014150419617387998,
          "symbol": "circle"
         },
         "mode": "markers",
         "name": "",
         "showlegend": false,
         "type": "scattergeo"
        }
       ],
       "frames": [
        {
         "data": [
          {
           "geo": "geo",
           "hovertemplate": "<b>%{hovertext}</b><br><br>year=2000<br>geni=%{marker.size}<br>iso=%{location}<extra></extra>",
           "hovertext": [
            "Autriche",
            "Belgique",
            "Danemark",
            "Finlande",
            "France",
            "Allemagne",
            "Grèce",
            "Irlande",
            "Italie",
            "Luxembourg",
            "Pays-Bas",
            "Portugal",
            "Espagne",
            "Suède",
            "Royaume-Uni"
           ],
           "ids": [
            "Autriche",
            "Belgique",
            "Danemark",
            "Finlande",
            "France",
            "Allemagne",
            "Grèce",
            "Irlande",
            "Italie",
            "Luxembourg",
            "Pays-Bas",
            "Portugal",
            "Espagne",
            "Suède",
            "Royaume-Uni"
           ],
           "legendgroup": "",
           "locations": [
            "AUT",
            "BEL",
            "DNK",
            "FIN",
            "FRA",
            "DEU",
            "GRC",
            "IRL",
            "ITA",
            "LUX",
            "NLD",
            "PRT",
            "ESP",
            "SWE",
            "GBR"
           ],
           "marker": {
            "color": "#636efa",
            "size": [
             0.445938127181349,
             0.454210186021074,
             0.409965610619835,
             0.439338070306441,
             0.448740803667583,
             0.436820529852348,
             0.542492569618666,
             0.462704056213987,
             0.425894431013866,
             0.48157607693387,
             0.381893577459484,
             0.492261661221216,
             0.459348632102632,
             0.390859593419169,
             0.478116162537798
            ],
            "sizemode": "area",
            "sizeref": 0.0014150419617387998,
            "symbol": "circle"
           },
           "mode": "markers",
           "name": "",
           "showlegend": false,
           "type": "scattergeo"
          }
         ],
         "name": "2000"
        },
        {
         "data": [
          {
           "geo": "geo",
           "hovertemplate": "<b>%{hovertext}</b><br><br>year=2001<br>geni=%{marker.size}<br>iso=%{location}<extra></extra>",
           "hovertext": [
            "Autriche",
            "Belgique",
            "Danemark",
            "Finlande",
            "France",
            "Allemagne",
            "Grèce",
            "Irlande",
            "Italie",
            "Luxembourg",
            "Pays-Bas",
            "Portugal",
            "Espagne",
            "Suède",
            "Royaume-Uni"
           ],
           "ids": [
            "Autriche",
            "Belgique",
            "Danemark",
            "Finlande",
            "France",
            "Allemagne",
            "Grèce",
            "Irlande",
            "Italie",
            "Luxembourg",
            "Pays-Bas",
            "Portugal",
            "Espagne",
            "Suède",
            "Royaume-Uni"
           ],
           "legendgroup": "",
           "locations": [
            "AUT",
            "BEL",
            "DNK",
            "FIN",
            "FRA",
            "DEU",
            "GRC",
            "IRL",
            "ITA",
            "LUX",
            "NLD",
            "PRT",
            "ESP",
            "SWE",
            "GBR"
           ],
           "marker": {
            "color": "#636efa",
            "size": [
             0.4326867766429,
             0.447147684664572,
             0.395248886689018,
             0.43189095935665,
             0.446746906408436,
             0.439629918616589,
             0.538748678376884,
             0.454247334450617,
             0.433940256501559,
             0.485764176302545,
             0.395766083736225,
             0.511308462921138,
             0.455378915765955,
             0.380900981883764,
             0.485098113127901
            ],
            "sizemode": "area",
            "sizeref": 0.0014150419617387998,
            "symbol": "circle"
           },
           "mode": "markers",
           "name": "",
           "showlegend": false,
           "type": "scattergeo"
          }
         ],
         "name": "2001"
        },
        {
         "data": [
          {
           "geo": "geo",
           "hovertemplate": "<b>%{hovertext}</b><br><br>year=2002<br>geni=%{marker.size}<br>iso=%{location}<extra></extra>",
           "hovertext": [
            "Autriche",
            "Belgique",
            "Danemark",
            "Finlande",
            "France",
            "Allemagne",
            "Grèce",
            "Irlande",
            "Italie",
            "Luxembourg",
            "Pays-Bas",
            "Portugal",
            "Espagne",
            "Suède",
            "Royaume-Uni"
           ],
           "ids": [
            "Autriche",
            "Belgique",
            "Danemark",
            "Finlande",
            "France",
            "Allemagne",
            "Grèce",
            "Irlande",
            "Italie",
            "Luxembourg",
            "Pays-Bas",
            "Portugal",
            "Espagne",
            "Suède",
            "Royaume-Uni"
           ],
           "legendgroup": "",
           "locations": [
            "AUT",
            "BEL",
            "DNK",
            "FIN",
            "FRA",
            "DEU",
            "GRC",
            "IRL",
            "ITA",
            "LUX",
            "NLD",
            "PRT",
            "ESP",
            "SWE",
            "GBR"
           ],
           "marker": {
            "color": "#636efa",
            "size": [
             0.448203833557837,
             0.44361157323254,
             0.394814165564469,
             0.427480886131413,
             0.440876438874863,
             0.443165097523508,
             0.516023873198716,
             0.451737691457136,
             0.427724104066137,
             0.472996700273796,
             0.394843732235024,
             0.501937909551647,
             0.454969932245977,
             0.383387285157321,
             0.487286479376394
            ],
            "sizemode": "area",
            "sizeref": 0.0014150419617387998,
            "symbol": "circle"
           },
           "mode": "markers",
           "name": "",
           "showlegend": false,
           "type": "scattergeo"
          }
         ],
         "name": "2002"
        },
        {
         "data": [
          {
           "geo": "geo",
           "hovertemplate": "<b>%{hovertext}</b><br><br>year=2003<br>geni=%{marker.size}<br>iso=%{location}<extra></extra>",
           "hovertext": [
            "Autriche",
            "Belgique",
            "Danemark",
            "Finlande",
            "France",
            "Allemagne",
            "Grèce",
            "Irlande",
            "Italie",
            "Luxembourg",
            "Pays-Bas",
            "Portugal",
            "Espagne",
            "Suède",
            "Royaume-Uni"
           ],
           "ids": [
            "Autriche",
            "Belgique",
            "Danemark",
            "Finlande",
            "France",
            "Allemagne",
            "Grèce",
            "Irlande",
            "Italie",
            "Luxembourg",
            "Pays-Bas",
            "Portugal",
            "Espagne",
            "Suède",
            "Royaume-Uni"
           ],
           "legendgroup": "",
           "locations": [
            "AUT",
            "BEL",
            "DNK",
            "FIN",
            "FRA",
            "DEU",
            "GRC",
            "IRL",
            "ITA",
            "LUX",
            "NLD",
            "PRT",
            "ESP",
            "SWE",
            "GBR"
           ],
           "marker": {
            "color": "#636efa",
            "size": [
             0.458622256891109,
             0.445012660574052,
             0.381413041283842,
             0.423355460552699,
             0.444119184616937,
             0.434784092213601,
             0.49406005633379,
             0.461950740487932,
             0.425701436856283,
             0.463606638601519,
             0.399636108090286,
             0.493931734176522,
             0.459168458884129,
             0.394498018561663,
             0.49705408259279
            ],
            "sizemode": "area",
            "sizeref": 0.0014150419617387998,
            "symbol": "circle"
           },
           "mode": "markers",
           "name": "",
           "showlegend": false,
           "type": "scattergeo"
          }
         ],
         "name": "2003"
        },
        {
         "data": [
          {
           "geo": "geo",
           "hovertemplate": "<b>%{hovertext}</b><br><br>year=2004<br>geni=%{marker.size}<br>iso=%{location}<extra></extra>",
           "hovertext": [
            "Autriche",
            "Belgique",
            "Chypre",
            "République tchèque",
            "Danemark",
            "Estonie",
            "Finlande",
            "France",
            "Allemagne",
            "Grèce",
            "Hongrie",
            "Irlande",
            "Italie",
            "Lettonie",
            "Lituanie",
            "Luxembourg",
            "Malte",
            "Pays-Bas",
            "Pologne",
            "Portugal",
            "Slovaquie",
            "Slovénie",
            "Espagne",
            "Suède",
            "Royaume-Uni"
           ],
           "ids": [
            "Autriche",
            "Belgique",
            "Chypre",
            "République tchèque",
            "Danemark",
            "Estonie",
            "Finlande",
            "France",
            "Allemagne",
            "Grèce",
            "Hongrie",
            "Irlande",
            "Italie",
            "Lettonie",
            "Lituanie",
            "Luxembourg",
            "Malte",
            "Pays-Bas",
            "Pologne",
            "Portugal",
            "Slovaquie",
            "Slovénie",
            "Espagne",
            "Suède",
            "Royaume-Uni"
           ],
           "legendgroup": "",
           "locations": [
            "AUT",
            "BEL",
            "CYP",
            "CZE",
            "DNK",
            "EST",
            "FIN",
            "FRA",
            "DEU",
            "GRC",
            "HUN",
            "IRL",
            "ITA",
            "LVA",
            "LTU",
            "LUX",
            "MLT",
            "NLD",
            "POL",
            "PRT",
            "SVK",
            "SVN",
            "ESP",
            "SWE",
            "GBR"
           ],
           "marker": {
            "color": "#636efa",
            "size": [
             0.442337704859938,
             0.448110492463551,
             0.430282952958516,
             0.386322095350273,
             0.389492157101735,
             0.541388818311887,
             0.431039602482564,
             0.445853209274382,
             0.446877097667752,
             0.500441543804129,
             0.396764686632441,
             0.468437913858349,
             0.426104916423229,
             0.501922918494213,
             0.487737895055103,
             0.494719863577814,
             0.414503086499014,
             0.401779088237018,
             0.471029965217461,
             0.512328738973283,
             0.419075115154833,
             0.414404902166842,
             0.455545684967099,
             0.398803377056851,
             0.490320315857602
            ],
            "sizemode": "area",
            "sizeref": 0.0014150419617387998,
            "symbol": "circle"
           },
           "mode": "markers",
           "name": "",
           "showlegend": false,
           "type": "scattergeo"
          }
         ],
         "name": "2004"
        },
        {
         "data": [
          {
           "geo": "geo",
           "hovertemplate": "<b>%{hovertext}</b><br><br>year=2005<br>geni=%{marker.size}<br>iso=%{location}<extra></extra>",
           "hovertext": [
            "Autriche",
            "Belgique",
            "Chypre",
            "République tchèque",
            "Danemark",
            "Estonie",
            "Finlande",
            "France",
            "Allemagne",
            "Grèce",
            "Hongrie",
            "Irlande",
            "Italie",
            "Lettonie",
            "Lituanie",
            "Luxembourg",
            "Malte",
            "Pays-Bas",
            "Pologne",
            "Portugal",
            "Slovaquie",
            "Slovénie",
            "Espagne",
            "Suède",
            "Royaume-Uni"
           ],
           "ids": [
            "Autriche",
            "Belgique",
            "Chypre",
            "République tchèque",
            "Danemark",
            "Estonie",
            "Finlande",
            "France",
            "Allemagne",
            "Grèce",
            "Hongrie",
            "Irlande",
            "Italie",
            "Lettonie",
            "Lituanie",
            "Luxembourg",
            "Malte",
            "Pays-Bas",
            "Pologne",
            "Portugal",
            "Slovaquie",
            "Slovénie",
            "Espagne",
            "Suède",
            "Royaume-Uni"
           ],
           "legendgroup": "",
           "locations": [
            "AUT",
            "BEL",
            "CYP",
            "CZE",
            "DNK",
            "EST",
            "FIN",
            "FRA",
            "DEU",
            "GRC",
            "HUN",
            "IRL",
            "ITA",
            "LVA",
            "LTU",
            "LUX",
            "MLT",
            "NLD",
            "POL",
            "PRT",
            "SVK",
            "SVN",
            "ESP",
            "SWE",
            "GBR"
           ],
           "marker": {
            "color": "#636efa",
            "size": [
             0.455517612322483,
             0.445445179005965,
             0.425734359807918,
             0.387353181663379,
             0.402490460710126,
             0.562453676525294,
             0.422956228344482,
             0.441474119608714,
             0.466909360710098,
             0.50453130255087,
             0.415640718682088,
             0.469414349281742,
             0.426190078969643,
             0.522818523006533,
             0.490571842493656,
             0.505662778629315,
             0.414503086499014,
             0.407589705554227,
             0.478316203383031,
             0.505381233428848,
             0.412626708249054,
             0.417908875715464,
             0.452058954782409,
             0.409903142146725,
             0.497581819158633
            ],
            "sizemode": "area",
            "sizeref": 0.0014150419617387998,
            "symbol": "circle"
           },
           "mode": "markers",
           "name": "",
           "showlegend": false,
           "type": "scattergeo"
          }
         ],
         "name": "2005"
        },
        {
         "data": [
          {
           "geo": "geo",
           "hovertemplate": "<b>%{hovertext}</b><br><br>year=2006<br>geni=%{marker.size}<br>iso=%{location}<extra></extra>",
           "hovertext": [
            "Autriche",
            "Belgique",
            "Chypre",
            "République tchèque",
            "Danemark",
            "Estonie",
            "Finlande",
            "France",
            "Allemagne",
            "Grèce",
            "Hongrie",
            "Irlande",
            "Italie",
            "Lettonie",
            "Lituanie",
            "Luxembourg",
            "Malte",
            "Pays-Bas",
            "Pologne",
            "Portugal",
            "Slovaquie",
            "Slovénie",
            "Espagne",
            "Suède",
            "Royaume-Uni"
           ],
           "ids": [
            "Autriche",
            "Belgique",
            "Chypre",
            "République tchèque",
            "Danemark",
            "Estonie",
            "Finlande",
            "France",
            "Allemagne",
            "Grèce",
            "Hongrie",
            "Irlande",
            "Italie",
            "Lettonie",
            "Lituanie",
            "Luxembourg",
            "Malte",
            "Pays-Bas",
            "Pologne",
            "Portugal",
            "Slovaquie",
            "Slovénie",
            "Espagne",
            "Suède",
            "Royaume-Uni"
           ],
           "legendgroup": "",
           "locations": [
            "AUT",
            "BEL",
            "CYP",
            "CZE",
            "DNK",
            "EST",
            "FIN",
            "FRA",
            "DEU",
            "GRC",
            "HUN",
            "IRL",
            "ITA",
            "LVA",
            "LTU",
            "LUX",
            "MLT",
            "NLD",
            "POL",
            "PRT",
            "SVK",
            "SVN",
            "ESP",
            "SWE",
            "GBR"
           ],
           "marker": {
            "color": "#636efa",
            "size": [
             0.474334351222078,
             0.447883566669781,
             0.440315463121642,
             0.393016695028628,
             0.406607988342785,
             0.533622717517844,
             0.433826940459554,
             0.441013630383289,
             0.471523933149392,
             0.493920237149172,
             0.429996872940347,
             0.478147911738446,
             0.427278663827808,
             0.495904611932534,
             0.469579837445242,
             0.461728409322657,
             0.414503086499014,
             0.411292980157342,
             0.478716404080799,
             0.514382948562937,
             0.415825554643764,
             0.419689658502319,
             0.45819213005127,
             0.418795706442879,
             0.501202499723476
            ],
            "sizemode": "area",
            "sizeref": 0.0014150419617387998,
            "symbol": "circle"
           },
           "mode": "markers",
           "name": "",
           "showlegend": false,
           "type": "scattergeo"
          }
         ],
         "name": "2006"
        },
        {
         "data": [
          {
           "geo": "geo",
           "hovertemplate": "<b>%{hovertext}</b><br><br>year=2007<br>geni=%{marker.size}<br>iso=%{location}<extra></extra>",
           "hovertext": [
            "Autriche",
            "Belgique",
            "Bulgarie",
            "Chypre",
            "République tchèque",
            "Danemark",
            "Estonie",
            "Finlande",
            "France",
            "Allemagne",
            "Grèce",
            "Hongrie",
            "Irlande",
            "Italie",
            "Lettonie",
            "Lituanie",
            "Luxembourg",
            "Malte",
            "Pays-Bas",
            "Pologne",
            "Portugal",
            "Roumanie",
            "Slovaquie",
            "Slovénie",
            "Espagne",
            "Suède",
            "Royaume-Uni"
           ],
           "ids": [
            "Autriche",
            "Belgique",
            "Bulgarie",
            "Chypre",
            "République tchèque",
            "Danemark",
            "Estonie",
            "Finlande",
            "France",
            "Allemagne",
            "Grèce",
            "Hongrie",
            "Irlande",
            "Italie",
            "Lettonie",
            "Lituanie",
            "Luxembourg",
            "Malte",
            "Pays-Bas",
            "Pologne",
            "Portugal",
            "Roumanie",
            "Slovaquie",
            "Slovénie",
            "Espagne",
            "Suède",
            "Royaume-Uni"
           ],
           "legendgroup": "",
           "locations": [
            "AUT",
            "BEL",
            "BGR",
            "CYP",
            "CZE",
            "DNK",
            "EST",
            "FIN",
            "FRA",
            "DEU",
            "GRC",
            "HUN",
            "IRL",
            "ITA",
            "LVA",
            "LTU",
            "LUX",
            "MLT",
            "NLD",
            "POL",
            "PRT",
            "ROU",
            "SVK",
            "SVN",
            "ESP",
            "SWE",
            "GBR"
           ],
           "marker": {
            "color": "#636efa",
            "size": [
             0.456117807416403,
             0.453517260764624,
             0.468849851100725,
             0.432361735470176,
             0.391468934250156,
             0.40060881502999,
             0.518974476730349,
             0.432370235141015,
             0.445245810019252,
             0.482442835602477,
             0.482738320384808,
             0.439101378320087,
             0.480614355455518,
             0.428758539924374,
             0.527685185476399,
             0.490354763775521,
             0.49640924672957,
             0.423672651237611,
             0.423454668933928,
             0.478664298584647,
             0.512846351929815,
             0.56601678469552,
             0.412755996429613,
             0.418407265605904,
             0.459486595920428,
             0.418830683335486,
             0.498690825813846
            ],
            "sizemode": "area",
            "sizeref": 0.0014150419617387998,
            "symbol": "circle"
           },
           "mode": "markers",
           "name": "",
           "showlegend": false,
           "type": "scattergeo"
          }
         ],
         "name": "2007"
        },
        {
         "data": [
          {
           "geo": "geo",
           "hovertemplate": "<b>%{hovertext}</b><br><br>year=2008<br>geni=%{marker.size}<br>iso=%{location}<extra></extra>",
           "hovertext": [
            "Autriche",
            "Belgique",
            "Bulgarie",
            "Chypre",
            "République tchèque",
            "Danemark",
            "Estonie",
            "Finlande",
            "France",
            "Allemagne",
            "Grèce",
            "Hongrie",
            "Irlande",
            "Italie",
            "Lettonie",
            "Lituanie",
            "Luxembourg",
            "Malte",
            "Pays-Bas",
            "Pologne",
            "Portugal",
            "Roumanie",
            "Slovaquie",
            "Slovénie",
            "Espagne",
            "Suède",
            "Royaume-Uni"
           ],
           "ids": [
            "Autriche",
            "Belgique",
            "Bulgarie",
            "Chypre",
            "République tchèque",
            "Danemark",
            "Estonie",
            "Finlande",
            "France",
            "Allemagne",
            "Grèce",
            "Hongrie",
            "Irlande",
            "Italie",
            "Lettonie",
            "Lituanie",
            "Luxembourg",
            "Malte",
            "Pays-Bas",
            "Pologne",
            "Portugal",
            "Roumanie",
            "Slovaquie",
            "Slovénie",
            "Espagne",
            "Suède",
            "Royaume-Uni"
           ],
           "legendgroup": "",
           "locations": [
            "AUT",
            "BEL",
            "BGR",
            "CYP",
            "CZE",
            "DNK",
            "EST",
            "FIN",
            "FRA",
            "DEU",
            "GRC",
            "HUN",
            "IRL",
            "ITA",
            "LVA",
            "LTU",
            "LUX",
            "MLT",
            "NLD",
            "POL",
            "PRT",
            "ROU",
            "SVK",
            "SVN",
            "ESP",
            "SWE",
            "GBR"
           ],
           "marker": {
            "color": "#636efa",
            "size": [
             0.456398848608722,
             0.43665234340796,
             0.46095831002245,
             0.462967606408235,
             0.407874512386925,
             0.403534773882633,
             0.498158041584226,
             0.44657839581242,
             0.441112721595864,
             0.483723815971082,
             0.457937282397726,
             0.428664044877699,
             0.451636976035857,
             0.426892712735325,
             0.515145125688486,
             0.492500876696742,
             0.489348104061463,
             0.42179454786527,
             0.397749414101923,
             0.484800319250752,
             0.496615146910877,
             0.560994045728521,
             0.404771795763875,
             0.417620926474646,
             0.458982794387037,
             0.411994520335881,
             0.488280475293095
            ],
            "sizemode": "area",
            "sizeref": 0.0014150419617387998,
            "symbol": "circle"
           },
           "mode": "markers",
           "name": "",
           "showlegend": false,
           "type": "scattergeo"
          }
         ],
         "name": "2008"
        },
        {
         "data": [
          {
           "geo": "geo",
           "hovertemplate": "<b>%{hovertext}</b><br><br>year=2009<br>geni=%{marker.size}<br>iso=%{location}<extra></extra>",
           "hovertext": [
            "Autriche",
            "Belgique",
            "Bulgarie",
            "Chypre",
            "République tchèque",
            "Danemark",
            "Estonie",
            "Finlande",
            "France",
            "Allemagne",
            "Grèce",
            "Hongrie",
            "Irlande",
            "Italie",
            "Lettonie",
            "Lituanie",
            "Luxembourg",
            "Malte",
            "Pays-Bas",
            "Pologne",
            "Portugal",
            "Roumanie",
            "Slovaquie",
            "Slovénie",
            "Espagne",
            "Suède",
            "Royaume-Uni"
           ],
           "ids": [
            "Autriche",
            "Belgique",
            "Bulgarie",
            "Chypre",
            "République tchèque",
            "Danemark",
            "Estonie",
            "Finlande",
            "France",
            "Allemagne",
            "Grèce",
            "Hongrie",
            "Irlande",
            "Italie",
            "Lettonie",
            "Lituanie",
            "Luxembourg",
            "Malte",
            "Pays-Bas",
            "Pologne",
            "Portugal",
            "Roumanie",
            "Slovaquie",
            "Slovénie",
            "Espagne",
            "Suède",
            "Royaume-Uni"
           ],
           "legendgroup": "",
           "locations": [
            "AUT",
            "BEL",
            "BGR",
            "CYP",
            "CZE",
            "DNK",
            "EST",
            "FIN",
            "FRA",
            "DEU",
            "GRC",
            "HUN",
            "IRL",
            "ITA",
            "LVA",
            "LTU",
            "LUX",
            "MLT",
            "NLD",
            "POL",
            "PRT",
            "ROU",
            "SVK",
            "SVN",
            "ESP",
            "SWE",
            "GBR"
           ],
           "marker": {
            "color": "#636efa",
            "size": [
             0.448019272298659,
             0.432058443350269,
             0.465792231972667,
             0.46795606807256,
             0.38404262063699,
             0.394311855503268,
             0.47025066221506,
             0.435721220014807,
             0.428486522352689,
             0.484840150619064,
             0.451078409240747,
             0.420567094710265,
             0.43489179583533,
             0.423865166946269,
             0.499885500411461,
             0.493787576321855,
             0.441342839430522,
             0.434525154458273,
             0.398814202622868,
             0.474417200911766,
             0.48952039960962,
             0.55863543997576,
             0.397780767166481,
             0.412318177316044,
             0.469573180858831,
             0.40343340719301,
             0.506127928006578
            ],
            "sizemode": "area",
            "sizeref": 0.0014150419617387998,
            "symbol": "circle"
           },
           "mode": "markers",
           "name": "",
           "showlegend": false,
           "type": "scattergeo"
          }
         ],
         "name": "2009"
        },
        {
         "data": [
          {
           "geo": "geo",
           "hovertemplate": "<b>%{hovertext}</b><br><br>year=2010<br>geni=%{marker.size}<br>iso=%{location}<extra></extra>",
           "hovertext": [
            "Autriche",
            "Belgique",
            "Bulgarie",
            "Chypre",
            "République tchèque",
            "Danemark",
            "Estonie",
            "Finlande",
            "France",
            "Allemagne",
            "Grèce",
            "Hongrie",
            "Irlande",
            "Italie",
            "Lettonie",
            "Lituanie",
            "Luxembourg",
            "Malte",
            "Pays-Bas",
            "Pologne",
            "Portugal",
            "Roumanie",
            "Slovaquie",
            "Slovénie",
            "Espagne",
            "Suède",
            "Royaume-Uni"
           ],
           "ids": [
            "Autriche",
            "Belgique",
            "Bulgarie",
            "Chypre",
            "République tchèque",
            "Danemark",
            "Estonie",
            "Finlande",
            "France",
            "Allemagne",
            "Grèce",
            "Hongrie",
            "Irlande",
            "Italie",
            "Lettonie",
            "Lituanie",
            "Luxembourg",
            "Malte",
            "Pays-Bas",
            "Pologne",
            "Portugal",
            "Roumanie",
            "Slovaquie",
            "Slovénie",
            "Espagne",
            "Suède",
            "Royaume-Uni"
           ],
           "legendgroup": "",
           "locations": [
            "AUT",
            "BEL",
            "BGR",
            "CYP",
            "CZE",
            "DNK",
            "EST",
            "FIN",
            "FRA",
            "DEU",
            "GRC",
            "HUN",
            "IRL",
            "ITA",
            "LVA",
            "LTU",
            "LUX",
            "MLT",
            "NLD",
            "POL",
            "PRT",
            "ROU",
            "SVK",
            "SVN",
            "ESP",
            "SWE",
            "GBR"
           ],
           "marker": {
            "color": "#636efa",
            "size": [
             0.452107944820788,
             0.439574862959046,
             0.4674141965166,
             0.455765334798192,
             0.387148829293182,
             0.417157609859089,
             0.487443889096102,
             0.441971762801089,
             0.434769689025973,
             0.480157067207045,
             0.46459236318182,
             0.427248158190505,
             0.441877989994051,
             0.429653747336138,
             0.483201788926334,
             0.469047476556249,
             0.473922620036284,
             0.427720793732052,
             0.406254911327976,
             0.47342944443519,
             0.493993448308872,
             0.516378420447545,
             0.417508831020534,
             0.414635324893904,
             0.455527445368489,
             0.419470831337669,
             0.465462509455271
            ],
            "sizemode": "area",
            "sizeref": 0.0014150419617387998,
            "symbol": "circle"
           },
           "mode": "markers",
           "name": "",
           "showlegend": false,
           "type": "scattergeo"
          }
         ],
         "name": "2010"
        },
        {
         "data": [
          {
           "geo": "geo",
           "hovertemplate": "<b>%{hovertext}</b><br><br>year=2011<br>geni=%{marker.size}<br>iso=%{location}<extra></extra>",
           "hovertext": [
            "Autriche",
            "Belgique",
            "Bulgarie",
            "Chypre",
            "République tchèque",
            "Danemark",
            "Estonie",
            "Finlande",
            "France",
            "Allemagne",
            "Grèce",
            "Hongrie",
            "Irlande",
            "Italie",
            "Lettonie",
            "Lituanie",
            "Luxembourg",
            "Malte",
            "Pays-Bas",
            "Pologne",
            "Portugal",
            "Roumanie",
            "Slovaquie",
            "Slovénie",
            "Espagne",
            "Suède",
            "Royaume-Uni"
           ],
           "ids": [
            "Autriche",
            "Belgique",
            "Bulgarie",
            "Chypre",
            "République tchèque",
            "Danemark",
            "Estonie",
            "Finlande",
            "France",
            "Allemagne",
            "Grèce",
            "Hongrie",
            "Irlande",
            "Italie",
            "Lettonie",
            "Lituanie",
            "Luxembourg",
            "Malte",
            "Pays-Bas",
            "Pologne",
            "Portugal",
            "Roumanie",
            "Slovaquie",
            "Slovénie",
            "Espagne",
            "Suède",
            "Royaume-Uni"
           ],
           "legendgroup": "",
           "locations": [
            "AUT",
            "BEL",
            "BGR",
            "CYP",
            "CZE",
            "DNK",
            "EST",
            "FIN",
            "FRA",
            "DEU",
            "GRC",
            "HUN",
            "IRL",
            "ITA",
            "LVA",
            "LTU",
            "LUX",
            "MLT",
            "NLD",
            "POL",
            "PRT",
            "ROU",
            "SVK",
            "SVN",
            "ESP",
            "SWE",
            "GBR"
           ],
           "marker": {
            "color": "#636efa",
            "size": [
             0.44313161634097,
             0.432704073850916,
             0.46767738451372,
             0.491301772897014,
             0.373859652142272,
             0.41941251960678,
             0.499295004001667,
             0.440090944135026,
             0.439953973555678,
             0.482741725538581,
             0.453192449351753,
             0.420259790209116,
             0.444188383349012,
             0.431048878054602,
             0.50652749989608,
             0.468693284741754,
             0.468094014047246,
             0.439282957742634,
             0.405282739815594,
             0.476827135275038,
             0.497640779948002,
             0.525074240469557,
             0.405913786438138,
             0.408384275242069,
             0.453722837552554,
             0.412802015450232,
             0.473092164787289
            ],
            "sizemode": "area",
            "sizeref": 0.0014150419617387998,
            "symbol": "circle"
           },
           "mode": "markers",
           "name": "",
           "showlegend": false,
           "type": "scattergeo"
          }
         ],
         "name": "2011"
        },
        {
         "data": [
          {
           "geo": "geo",
           "hovertemplate": "<b>%{hovertext}</b><br><br>year=2012<br>geni=%{marker.size}<br>iso=%{location}<extra></extra>",
           "hovertext": [
            "Autriche",
            "Belgique",
            "Bulgarie",
            "Chypre",
            "République tchèque",
            "Danemark",
            "Estonie",
            "Finlande",
            "France",
            "Allemagne",
            "Grèce",
            "Hongrie",
            "Irlande",
            "Italie",
            "Lettonie",
            "Lituanie",
            "Luxembourg",
            "Malte",
            "Pays-Bas",
            "Pologne",
            "Portugal",
            "Roumanie",
            "Slovaquie",
            "Slovénie",
            "Espagne",
            "Suède",
            "Royaume-Uni"
           ],
           "ids": [
            "Autriche",
            "Belgique",
            "Bulgarie",
            "Chypre",
            "République tchèque",
            "Danemark",
            "Estonie",
            "Finlande",
            "France",
            "Allemagne",
            "Grèce",
            "Hongrie",
            "Irlande",
            "Italie",
            "Lettonie",
            "Lituanie",
            "Luxembourg",
            "Malte",
            "Pays-Bas",
            "Pologne",
            "Portugal",
            "Roumanie",
            "Slovaquie",
            "Slovénie",
            "Espagne",
            "Suède",
            "Royaume-Uni"
           ],
           "legendgroup": "",
           "locations": [
            "AUT",
            "BEL",
            "BGR",
            "CYP",
            "CZE",
            "DNK",
            "EST",
            "FIN",
            "FRA",
            "DEU",
            "GRC",
            "HUN",
            "IRL",
            "ITA",
            "LVA",
            "LTU",
            "LUX",
            "MLT",
            "NLD",
            "POL",
            "PRT",
            "ROU",
            "SVK",
            "SVN",
            "ESP",
            "SWE",
            "GBR"
           ],
           "marker": {
            "color": "#636efa",
            "size": [
             0.425455120841482,
             0.433726731930966,
             0.488458850048239,
             0.495880331446308,
             0.387611794490652,
             0.42114639805034,
             0.513708132016639,
             0.434591710656981,
             0.432253317820137,
             0.482124414368769,
             0.456526482294835,
             0.412163844063713,
             0.438357060163984,
             0.433339452463804,
             0.505406681329973,
             0.490482220787765,
             0.455863520976045,
             0.448775582053788,
             0.407849383559335,
             0.472727749251568,
             0.48289201104614,
             0.537944736683244,
             0.39950535386625,
             0.414849436324614,
             0.453894367358785,
             0.392278426957219,
             0.484626031031574
            ],
            "sizemode": "area",
            "sizeref": 0.0014150419617387998,
            "symbol": "circle"
           },
           "mode": "markers",
           "name": "",
           "showlegend": false,
           "type": "scattergeo"
          }
         ],
         "name": "2012"
        },
        {
         "data": [
          {
           "geo": "geo",
           "hovertemplate": "<b>%{hovertext}</b><br><br>year=2013<br>geni=%{marker.size}<br>iso=%{location}<extra></extra>",
           "hovertext": [
            "Autriche",
            "Belgique",
            "Bulgarie",
            "Croatie",
            "Chypre",
            "République tchèque",
            "Danemark",
            "Estonie",
            "Finlande",
            "France",
            "Allemagne",
            "Grèce",
            "Hongrie",
            "Irlande",
            "Italie",
            "Lettonie",
            "Lituanie",
            "Luxembourg",
            "Malte",
            "Pays-Bas",
            "Pologne",
            "Portugal",
            "Roumanie",
            "Slovaquie",
            "Slovénie",
            "Espagne",
            "Suède",
            "Royaume-Uni"
           ],
           "ids": [
            "Autriche",
            "Belgique",
            "Bulgarie",
            "Croatie",
            "Chypre",
            "République tchèque",
            "Danemark",
            "Estonie",
            "Finlande",
            "France",
            "Allemagne",
            "Grèce",
            "Hongrie",
            "Irlande",
            "Italie",
            "Lettonie",
            "Lituanie",
            "Luxembourg",
            "Malte",
            "Pays-Bas",
            "Pologne",
            "Portugal",
            "Roumanie",
            "Slovaquie",
            "Slovénie",
            "Espagne",
            "Suède",
            "Royaume-Uni"
           ],
           "legendgroup": "",
           "locations": [
            "AUT",
            "BEL",
            "BGR",
            "HRV",
            "CYP",
            "CZE",
            "DNK",
            "EST",
            "FIN",
            "FRA",
            "DEU",
            "GRC",
            "HUN",
            "IRL",
            "ITA",
            "LVA",
            "LTU",
            "LUX",
            "MLT",
            "NLD",
            "POL",
            "PRT",
            "ROU",
            "SVK",
            "SVN",
            "ESP",
            "SWE",
            "GBR"
           ],
           "marker": {
            "color": "#636efa",
            "size": [
             0.425356293956506,
             0.435816913867446,
             0.468963071813974,
             0.477201318304264,
             0.524803432537936,
             0.376067203598044,
             0.431739684395481,
             0.521752432632042,
             0.430887593050865,
             0.429906378871358,
             0.495995904852776,
             0.461220376211905,
             0.425298143720653,
             0.451325234627941,
             0.430428446433033,
             0.504337659553059,
             0.498708055628555,
             0.449212301862072,
             0.450259290489484,
             0.404580406622435,
             0.472029159475696,
             0.494249205642184,
             0.5306191921131,
             0.419760000146695,
             0.413796266387696,
             0.456974485364391,
             0.394379125265161,
             0.499662323943774
            ],
            "sizemode": "area",
            "sizeref": 0.0014150419617387998,
            "symbol": "circle"
           },
           "mode": "markers",
           "name": "",
           "showlegend": false,
           "type": "scattergeo"
          }
         ],
         "name": "2013"
        },
        {
         "data": [
          {
           "geo": "geo",
           "hovertemplate": "<b>%{hovertext}</b><br><br>year=2014<br>geni=%{marker.size}<br>iso=%{location}<extra></extra>",
           "hovertext": [
            "Autriche",
            "Belgique",
            "Bulgarie",
            "Croatie",
            "Chypre",
            "République tchèque",
            "Danemark",
            "Estonie",
            "Finlande",
            "France",
            "Allemagne",
            "Grèce",
            "Hongrie",
            "Irlande",
            "Italie",
            "Lettonie",
            "Lituanie",
            "Luxembourg",
            "Malte",
            "Pays-Bas",
            "Pologne",
            "Portugal",
            "Roumanie",
            "Slovaquie",
            "Slovénie",
            "Espagne",
            "Suède",
            "Royaume-Uni"
           ],
           "ids": [
            "Autriche",
            "Belgique",
            "Bulgarie",
            "Croatie",
            "Chypre",
            "République tchèque",
            "Danemark",
            "Estonie",
            "Finlande",
            "France",
            "Allemagne",
            "Grèce",
            "Hongrie",
            "Irlande",
            "Italie",
            "Lettonie",
            "Lituanie",
            "Luxembourg",
            "Malte",
            "Pays-Bas",
            "Pologne",
            "Portugal",
            "Roumanie",
            "Slovaquie",
            "Slovénie",
            "Espagne",
            "Suède",
            "Royaume-Uni"
           ],
           "legendgroup": "",
           "locations": [
            "AUT",
            "BEL",
            "BGR",
            "HRV",
            "CYP",
            "CZE",
            "DNK",
            "EST",
            "FIN",
            "FRA",
            "DEU",
            "GRC",
            "HUN",
            "IRL",
            "ITA",
            "LVA",
            "LTU",
            "LUX",
            "MLT",
            "NLD",
            "POL",
            "PRT",
            "ROU",
            "SVK",
            "SVN",
            "ESP",
            "SWE",
            "GBR"
           ],
           "marker": {
            "color": "#636efa",
            "size": [
             0.443200681366972,
             0.438072660064591,
             0.490425556578472,
             0.483181688037831,
             0.498159702687779,
             0.389123272284173,
             0.437624332173428,
             0.517284143665066,
             0.434512419824658,
             0.430799548673498,
             0.4993390734748,
             0.485840760644585,
             0.424246757394357,
             0.456686093176405,
             0.432435964652145,
             0.491740660055242,
             0.53043672179556,
             0.441606576879273,
             0.451653600117474,
             0.412359309489703,
             0.476920888778068,
             0.49264961749134,
             0.544686334591745,
             0.392768597467658,
             0.418440006635278,
             0.459053388723788,
             0.400261451461564,
             0.479583613229799
            ],
            "sizemode": "area",
            "sizeref": 0.0014150419617387998,
            "symbol": "circle"
           },
           "mode": "markers",
           "name": "",
           "showlegend": false,
           "type": "scattergeo"
          }
         ],
         "name": "2014"
        },
        {
         "data": [
          {
           "geo": "geo",
           "hovertemplate": "<b>%{hovertext}</b><br><br>year=2015<br>geni=%{marker.size}<br>iso=%{location}<extra></extra>",
           "hovertext": [
            "Autriche",
            "Belgique",
            "Bulgarie",
            "Croatie",
            "Chypre",
            "République tchèque",
            "Danemark",
            "Estonie",
            "Finlande",
            "France",
            "Allemagne",
            "Grèce",
            "Hongrie",
            "Irlande",
            "Italie",
            "Lettonie",
            "Lituanie",
            "Luxembourg",
            "Malte",
            "Pays-Bas",
            "Pologne",
            "Portugal",
            "Roumanie",
            "Slovaquie",
            "Slovénie",
            "Espagne",
            "Suède",
            "Royaume-Uni"
           ],
           "ids": [
            "Autriche",
            "Belgique",
            "Bulgarie",
            "Croatie",
            "Chypre",
            "République tchèque",
            "Danemark",
            "Estonie",
            "Finlande",
            "France",
            "Allemagne",
            "Grèce",
            "Hongrie",
            "Irlande",
            "Italie",
            "Lettonie",
            "Lituanie",
            "Luxembourg",
            "Malte",
            "Pays-Bas",
            "Pologne",
            "Portugal",
            "Roumanie",
            "Slovaquie",
            "Slovénie",
            "Espagne",
            "Suède",
            "Royaume-Uni"
           ],
           "legendgroup": "",
           "locations": [
            "AUT",
            "BEL",
            "BGR",
            "HRV",
            "CYP",
            "CZE",
            "DNK",
            "EST",
            "FIN",
            "FRA",
            "DEU",
            "GRC",
            "HUN",
            "IRL",
            "ITA",
            "LVA",
            "LTU",
            "LUX",
            "MLT",
            "NLD",
            "POL",
            "PRT",
            "ROU",
            "SVK",
            "SVN",
            "ESP",
            "SWE",
            "GBR"
           ],
           "marker": {
            "color": "#636efa",
            "size": [
             0.437138406056443,
             0.438342591899117,
             0.499969634466097,
             0.480653790709678,
             0.499298332083818,
             0.396589692752819,
             0.434380321932594,
             0.493329881236633,
             0.442216896539044,
             0.427879522243888,
             0.49772516265525,
             0.482804410625732,
             0.426094991723126,
             0.474064760364733,
             0.434023822422658,
             0.483826533554684,
             0.500929173558204,
             0.442637773741136,
             0.458347572668822,
             0.410798299753815,
             0.481245429393297,
             0.490690120368249,
             0.541353908844883,
             0.408080583395226,
             0.410436218099039,
             0.460750414104829,
             0.408764978551328,
             0.469553368743313
            ],
            "sizemode": "area",
            "sizeref": 0.0014150419617387998,
            "symbol": "circle"
           },
           "mode": "markers",
           "name": "",
           "showlegend": false,
           "type": "scattergeo"
          }
         ],
         "name": "2015"
        },
        {
         "data": [
          {
           "geo": "geo",
           "hovertemplate": "<b>%{hovertext}</b><br><br>year=2016<br>geni=%{marker.size}<br>iso=%{location}<extra></extra>",
           "hovertext": [
            "Autriche",
            "Belgique",
            "Bulgarie",
            "Croatie",
            "Chypre",
            "République tchèque",
            "Danemark",
            "Estonie",
            "Finlande",
            "France",
            "Allemagne",
            "Grèce",
            "Hongrie",
            "Irlande",
            "Italie",
            "Lettonie",
            "Lituanie",
            "Luxembourg",
            "Malte",
            "Pays-Bas",
            "Pologne",
            "Portugal",
            "Roumanie",
            "Slovaquie",
            "Slovénie",
            "Espagne",
            "Suède",
            "Royaume-Uni"
           ],
           "ids": [
            "Autriche",
            "Belgique",
            "Bulgarie",
            "Croatie",
            "Chypre",
            "République tchèque",
            "Danemark",
            "Estonie",
            "Finlande",
            "France",
            "Allemagne",
            "Grèce",
            "Hongrie",
            "Irlande",
            "Italie",
            "Lettonie",
            "Lituanie",
            "Luxembourg",
            "Malte",
            "Pays-Bas",
            "Pologne",
            "Portugal",
            "Roumanie",
            "Slovaquie",
            "Slovénie",
            "Espagne",
            "Suède",
            "Royaume-Uni"
           ],
           "legendgroup": "",
           "locations": [
            "AUT",
            "BEL",
            "BGR",
            "HRV",
            "CYP",
            "CZE",
            "DNK",
            "EST",
            "FIN",
            "FRA",
            "DEU",
            "GRC",
            "HUN",
            "IRL",
            "ITA",
            "LVA",
            "LTU",
            "LUX",
            "MLT",
            "NLD",
            "POL",
            "PRT",
            "ROU",
            "SVK",
            "SVN",
            "ESP",
            "SWE",
            "GBR"
           ],
           "marker": {
            "color": "#636efa",
            "size": [
             0.443169152329737,
             0.43836143687655,
             0.523361512448624,
             0.472101218559255,
             0.481060062034853,
             0.384245569235446,
             0.437305911992254,
             0.494436417916368,
             0.43993182645022,
             0.425261403653334,
             0.4957418439351,
             0.473336277400392,
             0.422658423124716,
             0.474201301570886,
             0.443609337660561,
             0.472338558892448,
             0.498674887828116,
             0.450835138806408,
             0.453610815151516,
             0.411141706503771,
             0.48054368020307,
             0.49020079168525,
             0.507706840254325,
             0.390732822838736,
             0.41273022695365,
             0.46098676041683,
             0.392907320669785,
             0.467841345390973
            ],
            "sizemode": "area",
            "sizeref": 0.0014150419617387998,
            "symbol": "circle"
           },
           "mode": "markers",
           "name": "",
           "showlegend": false,
           "type": "scattergeo"
          }
         ],
         "name": "2016"
        },
        {
         "data": [
          {
           "geo": "geo",
           "hovertemplate": "<b>%{hovertext}</b><br><br>year=2017<br>geni=%{marker.size}<br>iso=%{location}<extra></extra>",
           "hovertext": [
            "Autriche",
            "Belgique",
            "Bulgarie",
            "Croatie",
            "Chypre",
            "République tchèque",
            "Danemark",
            "Estonie",
            "Finlande",
            "France",
            "Allemagne",
            "Grèce",
            "Hongrie",
            "Irlande",
            "Italie",
            "Lettonie",
            "Lituanie",
            "Luxembourg",
            "Malte",
            "Pays-Bas",
            "Pologne",
            "Portugal",
            "Roumanie",
            "Slovaquie",
            "Slovénie",
            "Espagne",
            "Suède",
            "Royaume-Uni"
           ],
           "ids": [
            "Autriche",
            "Belgique",
            "Bulgarie",
            "Croatie",
            "Chypre",
            "République tchèque",
            "Danemark",
            "Estonie",
            "Finlande",
            "France",
            "Allemagne",
            "Grèce",
            "Hongrie",
            "Irlande",
            "Italie",
            "Lettonie",
            "Lituanie",
            "Luxembourg",
            "Malte",
            "Pays-Bas",
            "Pologne",
            "Portugal",
            "Roumanie",
            "Slovaquie",
            "Slovénie",
            "Espagne",
            "Suède",
            "Royaume-Uni"
           ],
           "legendgroup": "",
           "locations": [
            "AUT",
            "BEL",
            "BGR",
            "HRV",
            "CYP",
            "CZE",
            "DNK",
            "EST",
            "FIN",
            "FRA",
            "DEU",
            "GRC",
            "HUN",
            "IRL",
            "ITA",
            "LVA",
            "LTU",
            "LUX",
            "MLT",
            "NLD",
            "POL",
            "PRT",
            "ROU",
            "SVK",
            "SVN",
            "ESP",
            "SWE",
            "GBR"
           ],
           "marker": {
            "color": "#636efa",
            "size": [
             0.433120645528014,
             0.436300436869372,
             0.54172079772087,
             0.474846215414914,
             0.469584312178853,
             0.385000074975807,
             0.43891721225269,
             0.486379761082297,
             0.444810835415119,
             0.422789547595379,
             0.492377208558437,
             0.461004291154019,
             0.428011301920435,
             0.467409339280614,
             0.4487073913764,
             0.492970886118288,
             0.508267370566859,
             0.458156927145492,
             0.461691912284898,
             0.419135703493486,
             0.476103392066847,
             0.490035943516098,
             0.516734801223127,
             0.375749261302076,
             0.409085275470973,
             0.45782647661504,
             0.399592759135164,
             0.466155535103226
            ],
            "sizemode": "area",
            "sizeref": 0.0014150419617387998,
            "symbol": "circle"
           },
           "mode": "markers",
           "name": "",
           "showlegend": false,
           "type": "scattergeo"
          }
         ],
         "name": "2017"
        },
        {
         "data": [
          {
           "geo": "geo",
           "hovertemplate": "<b>%{hovertext}</b><br><br>year=2018<br>geni=%{marker.size}<br>iso=%{location}<extra></extra>",
           "hovertext": [
            "Autriche",
            "Belgique",
            "Bulgarie",
            "Croatie",
            "Chypre",
            "République tchèque",
            "Danemark",
            "Estonie",
            "Finlande",
            "France",
            "Allemagne",
            "Grèce",
            "Hongrie",
            "Irlande",
            "Italie",
            "Lettonie",
            "Lituanie",
            "Luxembourg",
            "Malte",
            "Pays-Bas",
            "Pologne",
            "Portugal",
            "Roumanie",
            "Slovaquie",
            "Slovénie",
            "Espagne",
            "Suède",
            "Royaume-Uni"
           ],
           "ids": [
            "Autriche",
            "Belgique",
            "Bulgarie",
            "Croatie",
            "Chypre",
            "République tchèque",
            "Danemark",
            "Estonie",
            "Finlande",
            "France",
            "Allemagne",
            "Grèce",
            "Hongrie",
            "Irlande",
            "Italie",
            "Lettonie",
            "Lituanie",
            "Luxembourg",
            "Malte",
            "Pays-Bas",
            "Pologne",
            "Portugal",
            "Roumanie",
            "Slovaquie",
            "Slovénie",
            "Espagne",
            "Suède",
            "Royaume-Uni"
           ],
           "legendgroup": "",
           "locations": [
            "AUT",
            "BEL",
            "BGR",
            "HRV",
            "CYP",
            "CZE",
            "DNK",
            "EST",
            "FIN",
            "FRA",
            "DEU",
            "GRC",
            "HUN",
            "IRL",
            "ITA",
            "LVA",
            "LTU",
            "LUX",
            "MLT",
            "NLD",
            "POL",
            "PRT",
            "ROU",
            "SVK",
            "SVN",
            "ESP",
            "SWE",
            "GBR"
           ],
           "marker": {
            "color": "#636efa",
            "size": [
             0.435762914381186,
             0.449255826110651,
             0.541026009793953,
             0.481560818450141,
             0.483529293698485,
             0.379555372761906,
             0.439923373161847,
             0.489454056274944,
             0.442734662603805,
             0.423803335658341,
             0.486983218987973,
             0.446845297511601,
             0.436270948308799,
             0.46364953628796,
             0.449644478786548,
             0.490558079267597,
             0.49558846683037,
             0.454956533076192,
             0.450710197792821,
             0.414779997046641,
             0.481860643496901,
             0.48082782536089,
             0.539490648211416,
             0.384133585197347,
             0.407493281730659,
             0.451672163705098,
             0.39444728383365,
             0.467226517127884
            ],
            "sizemode": "area",
            "sizeref": 0.0014150419617387998,
            "symbol": "circle"
           },
           "mode": "markers",
           "name": "",
           "showlegend": false,
           "type": "scattergeo"
          }
         ],
         "name": "2018"
        },
        {
         "data": [
          {
           "geo": "geo",
           "hovertemplate": "<b>%{hovertext}</b><br><br>year=2019<br>geni=%{marker.size}<br>iso=%{location}<extra></extra>",
           "hovertext": [
            "Autriche",
            "Belgique",
            "Bulgarie",
            "Croatie",
            "Chypre",
            "République tchèque",
            "Danemark",
            "Estonie",
            "Finlande",
            "France",
            "Allemagne",
            "Grèce",
            "Hongrie",
            "Irlande",
            "Italie",
            "Lettonie",
            "Lituanie",
            "Luxembourg",
            "Malte",
            "Pays-Bas",
            "Pologne",
            "Portugal",
            "Roumanie",
            "Slovaquie",
            "Slovénie",
            "Espagne",
            "Suède",
            "Royaume-Uni"
           ],
           "ids": [
            "Autriche",
            "Belgique",
            "Bulgarie",
            "Croatie",
            "Chypre",
            "République tchèque",
            "Danemark",
            "Estonie",
            "Finlande",
            "France",
            "Allemagne",
            "Grèce",
            "Hongrie",
            "Irlande",
            "Italie",
            "Lettonie",
            "Lituanie",
            "Luxembourg",
            "Malte",
            "Pays-Bas",
            "Pologne",
            "Portugal",
            "Roumanie",
            "Slovaquie",
            "Slovénie",
            "Espagne",
            "Suède",
            "Royaume-Uni"
           ],
           "legendgroup": "",
           "locations": [
            "AUT",
            "BEL",
            "BGR",
            "HRV",
            "CYP",
            "CZE",
            "DNK",
            "EST",
            "FIN",
            "FRA",
            "DEU",
            "GRC",
            "HUN",
            "IRL",
            "ITA",
            "LVA",
            "LTU",
            "LUX",
            "MLT",
            "NLD",
            "POL",
            "PRT",
            "ROU",
            "SVK",
            "SVN",
            "ESP",
            "SWE",
            "GBR"
           ],
           "marker": {
            "color": "#636efa",
            "size": [
             0.439271374356039,
             0.449587011639702,
             0.541152845333301,
             0.480072015316146,
             0.479961777890431,
             0.37722489480926,
             0.44306767749832,
             0.478351452846113,
             0.441068138632488,
             0.425979136972874,
             0.486287752911942,
             0.444897302923557,
             0.438962348202551,
             0.461003717672611,
             0.446965424892184,
             0.480693590645736,
             0.490761352923283,
             0.457150223388872,
             0.449226636832968,
             0.41275506915265,
             0.483533203375217,
             0.478866970840979,
             0.544620032782824,
             0.379810900801768,
             0.407147775002285,
             0.453554355265538,
             0.39584387844857,
             0.464900380916347
            ],
            "sizemode": "area",
            "sizeref": 0.0014150419617387998,
            "symbol": "circle"
           },
           "mode": "markers",
           "name": "",
           "showlegend": false,
           "type": "scattergeo"
          }
         ],
         "name": "2019"
        }
       ],
       "layout": {
        "geo": {
         "center": {},
         "domain": {
          "x": [
           0,
           1
          ],
          "y": [
           0,
           1
          ]
         },
         "scope": "europe"
        },
        "legend": {
         "itemsizing": "constant",
         "tracegroupgap": 0
        },
        "margin": {
         "t": 60
        },
        "sliders": [
         {
          "active": 0,
          "currentvalue": {
           "prefix": "year="
          },
          "len": 0.9,
          "pad": {
           "b": 10,
           "t": 60
          },
          "steps": [
           {
            "args": [
             [
              "2000"
             ],
             {
              "frame": {
               "duration": 0,
               "redraw": true
              },
              "fromcurrent": true,
              "mode": "immediate",
              "transition": {
               "duration": 0,
               "easing": "linear"
              }
             }
            ],
            "label": "2000",
            "method": "animate"
           },
           {
            "args": [
             [
              "2001"
             ],
             {
              "frame": {
               "duration": 0,
               "redraw": true
              },
              "fromcurrent": true,
              "mode": "immediate",
              "transition": {
               "duration": 0,
               "easing": "linear"
              }
             }
            ],
            "label": "2001",
            "method": "animate"
           },
           {
            "args": [
             [
              "2002"
             ],
             {
              "frame": {
               "duration": 0,
               "redraw": true
              },
              "fromcurrent": true,
              "mode": "immediate",
              "transition": {
               "duration": 0,
               "easing": "linear"
              }
             }
            ],
            "label": "2002",
            "method": "animate"
           },
           {
            "args": [
             [
              "2003"
             ],
             {
              "frame": {
               "duration": 0,
               "redraw": true
              },
              "fromcurrent": true,
              "mode": "immediate",
              "transition": {
               "duration": 0,
               "easing": "linear"
              }
             }
            ],
            "label": "2003",
            "method": "animate"
           },
           {
            "args": [
             [
              "2004"
             ],
             {
              "frame": {
               "duration": 0,
               "redraw": true
              },
              "fromcurrent": true,
              "mode": "immediate",
              "transition": {
               "duration": 0,
               "easing": "linear"
              }
             }
            ],
            "label": "2004",
            "method": "animate"
           },
           {
            "args": [
             [
              "2005"
             ],
             {
              "frame": {
               "duration": 0,
               "redraw": true
              },
              "fromcurrent": true,
              "mode": "immediate",
              "transition": {
               "duration": 0,
               "easing": "linear"
              }
             }
            ],
            "label": "2005",
            "method": "animate"
           },
           {
            "args": [
             [
              "2006"
             ],
             {
              "frame": {
               "duration": 0,
               "redraw": true
              },
              "fromcurrent": true,
              "mode": "immediate",
              "transition": {
               "duration": 0,
               "easing": "linear"
              }
             }
            ],
            "label": "2006",
            "method": "animate"
           },
           {
            "args": [
             [
              "2007"
             ],
             {
              "frame": {
               "duration": 0,
               "redraw": true
              },
              "fromcurrent": true,
              "mode": "immediate",
              "transition": {
               "duration": 0,
               "easing": "linear"
              }
             }
            ],
            "label": "2007",
            "method": "animate"
           },
           {
            "args": [
             [
              "2008"
             ],
             {
              "frame": {
               "duration": 0,
               "redraw": true
              },
              "fromcurrent": true,
              "mode": "immediate",
              "transition": {
               "duration": 0,
               "easing": "linear"
              }
             }
            ],
            "label": "2008",
            "method": "animate"
           },
           {
            "args": [
             [
              "2009"
             ],
             {
              "frame": {
               "duration": 0,
               "redraw": true
              },
              "fromcurrent": true,
              "mode": "immediate",
              "transition": {
               "duration": 0,
               "easing": "linear"
              }
             }
            ],
            "label": "2009",
            "method": "animate"
           },
           {
            "args": [
             [
              "2010"
             ],
             {
              "frame": {
               "duration": 0,
               "redraw": true
              },
              "fromcurrent": true,
              "mode": "immediate",
              "transition": {
               "duration": 0,
               "easing": "linear"
              }
             }
            ],
            "label": "2010",
            "method": "animate"
           },
           {
            "args": [
             [
              "2011"
             ],
             {
              "frame": {
               "duration": 0,
               "redraw": true
              },
              "fromcurrent": true,
              "mode": "immediate",
              "transition": {
               "duration": 0,
               "easing": "linear"
              }
             }
            ],
            "label": "2011",
            "method": "animate"
           },
           {
            "args": [
             [
              "2012"
             ],
             {
              "frame": {
               "duration": 0,
               "redraw": true
              },
              "fromcurrent": true,
              "mode": "immediate",
              "transition": {
               "duration": 0,
               "easing": "linear"
              }
             }
            ],
            "label": "2012",
            "method": "animate"
           },
           {
            "args": [
             [
              "2013"
             ],
             {
              "frame": {
               "duration": 0,
               "redraw": true
              },
              "fromcurrent": true,
              "mode": "immediate",
              "transition": {
               "duration": 0,
               "easing": "linear"
              }
             }
            ],
            "label": "2013",
            "method": "animate"
           },
           {
            "args": [
             [
              "2014"
             ],
             {
              "frame": {
               "duration": 0,
               "redraw": true
              },
              "fromcurrent": true,
              "mode": "immediate",
              "transition": {
               "duration": 0,
               "easing": "linear"
              }
             }
            ],
            "label": "2014",
            "method": "animate"
           },
           {
            "args": [
             [
              "2015"
             ],
             {
              "frame": {
               "duration": 0,
               "redraw": true
              },
              "fromcurrent": true,
              "mode": "immediate",
              "transition": {
               "duration": 0,
               "easing": "linear"
              }
             }
            ],
            "label": "2015",
            "method": "animate"
           },
           {
            "args": [
             [
              "2016"
             ],
             {
              "frame": {
               "duration": 0,
               "redraw": true
              },
              "fromcurrent": true,
              "mode": "immediate",
              "transition": {
               "duration": 0,
               "easing": "linear"
              }
             }
            ],
            "label": "2016",
            "method": "animate"
           },
           {
            "args": [
             [
              "2017"
             ],
             {
              "frame": {
               "duration": 0,
               "redraw": true
              },
              "fromcurrent": true,
              "mode": "immediate",
              "transition": {
               "duration": 0,
               "easing": "linear"
              }
             }
            ],
            "label": "2017",
            "method": "animate"
           },
           {
            "args": [
             [
              "2018"
             ],
             {
              "frame": {
               "duration": 0,
               "redraw": true
              },
              "fromcurrent": true,
              "mode": "immediate",
              "transition": {
               "duration": 0,
               "easing": "linear"
              }
             }
            ],
            "label": "2018",
            "method": "animate"
           },
           {
            "args": [
             [
              "2019"
             ],
             {
              "frame": {
               "duration": 0,
               "redraw": true
              },
              "fromcurrent": true,
              "mode": "immediate",
              "transition": {
               "duration": 0,
               "easing": "linear"
              }
             }
            ],
            "label": "2019",
            "method": "animate"
           }
          ],
          "x": 0.1,
          "xanchor": "left",
          "y": 0,
          "yanchor": "top"
         }
        ],
        "template": {
         "data": {
          "bar": [
           {
            "error_x": {
             "color": "#2a3f5f"
            },
            "error_y": {
             "color": "#2a3f5f"
            },
            "marker": {
             "line": {
              "color": "#E5ECF6",
              "width": 0.5
             },
             "pattern": {
              "fillmode": "overlay",
              "size": 10,
              "solidity": 0.2
             }
            },
            "type": "bar"
           }
          ],
          "barpolar": [
           {
            "marker": {
             "line": {
              "color": "#E5ECF6",
              "width": 0.5
             },
             "pattern": {
              "fillmode": "overlay",
              "size": 10,
              "solidity": 0.2
             }
            },
            "type": "barpolar"
           }
          ],
          "carpet": [
           {
            "aaxis": {
             "endlinecolor": "#2a3f5f",
             "gridcolor": "white",
             "linecolor": "white",
             "minorgridcolor": "white",
             "startlinecolor": "#2a3f5f"
            },
            "baxis": {
             "endlinecolor": "#2a3f5f",
             "gridcolor": "white",
             "linecolor": "white",
             "minorgridcolor": "white",
             "startlinecolor": "#2a3f5f"
            },
            "type": "carpet"
           }
          ],
          "choropleth": [
           {
            "colorbar": {
             "outlinewidth": 0,
             "ticks": ""
            },
            "type": "choropleth"
           }
          ],
          "contour": [
           {
            "colorbar": {
             "outlinewidth": 0,
             "ticks": ""
            },
            "colorscale": [
             [
              0,
              "#0d0887"
             ],
             [
              0.1111111111111111,
              "#46039f"
             ],
             [
              0.2222222222222222,
              "#7201a8"
             ],
             [
              0.3333333333333333,
              "#9c179e"
             ],
             [
              0.4444444444444444,
              "#bd3786"
             ],
             [
              0.5555555555555556,
              "#d8576b"
             ],
             [
              0.6666666666666666,
              "#ed7953"
             ],
             [
              0.7777777777777778,
              "#fb9f3a"
             ],
             [
              0.8888888888888888,
              "#fdca26"
             ],
             [
              1,
              "#f0f921"
             ]
            ],
            "type": "contour"
           }
          ],
          "contourcarpet": [
           {
            "colorbar": {
             "outlinewidth": 0,
             "ticks": ""
            },
            "type": "contourcarpet"
           }
          ],
          "heatmap": [
           {
            "colorbar": {
             "outlinewidth": 0,
             "ticks": ""
            },
            "colorscale": [
             [
              0,
              "#0d0887"
             ],
             [
              0.1111111111111111,
              "#46039f"
             ],
             [
              0.2222222222222222,
              "#7201a8"
             ],
             [
              0.3333333333333333,
              "#9c179e"
             ],
             [
              0.4444444444444444,
              "#bd3786"
             ],
             [
              0.5555555555555556,
              "#d8576b"
             ],
             [
              0.6666666666666666,
              "#ed7953"
             ],
             [
              0.7777777777777778,
              "#fb9f3a"
             ],
             [
              0.8888888888888888,
              "#fdca26"
             ],
             [
              1,
              "#f0f921"
             ]
            ],
            "type": "heatmap"
           }
          ],
          "heatmapgl": [
           {
            "colorbar": {
             "outlinewidth": 0,
             "ticks": ""
            },
            "colorscale": [
             [
              0,
              "#0d0887"
             ],
             [
              0.1111111111111111,
              "#46039f"
             ],
             [
              0.2222222222222222,
              "#7201a8"
             ],
             [
              0.3333333333333333,
              "#9c179e"
             ],
             [
              0.4444444444444444,
              "#bd3786"
             ],
             [
              0.5555555555555556,
              "#d8576b"
             ],
             [
              0.6666666666666666,
              "#ed7953"
             ],
             [
              0.7777777777777778,
              "#fb9f3a"
             ],
             [
              0.8888888888888888,
              "#fdca26"
             ],
             [
              1,
              "#f0f921"
             ]
            ],
            "type": "heatmapgl"
           }
          ],
          "histogram": [
           {
            "marker": {
             "pattern": {
              "fillmode": "overlay",
              "size": 10,
              "solidity": 0.2
             }
            },
            "type": "histogram"
           }
          ],
          "histogram2d": [
           {
            "colorbar": {
             "outlinewidth": 0,
             "ticks": ""
            },
            "colorscale": [
             [
              0,
              "#0d0887"
             ],
             [
              0.1111111111111111,
              "#46039f"
             ],
             [
              0.2222222222222222,
              "#7201a8"
             ],
             [
              0.3333333333333333,
              "#9c179e"
             ],
             [
              0.4444444444444444,
              "#bd3786"
             ],
             [
              0.5555555555555556,
              "#d8576b"
             ],
             [
              0.6666666666666666,
              "#ed7953"
             ],
             [
              0.7777777777777778,
              "#fb9f3a"
             ],
             [
              0.8888888888888888,
              "#fdca26"
             ],
             [
              1,
              "#f0f921"
             ]
            ],
            "type": "histogram2d"
           }
          ],
          "histogram2dcontour": [
           {
            "colorbar": {
             "outlinewidth": 0,
             "ticks": ""
            },
            "colorscale": [
             [
              0,
              "#0d0887"
             ],
             [
              0.1111111111111111,
              "#46039f"
             ],
             [
              0.2222222222222222,
              "#7201a8"
             ],
             [
              0.3333333333333333,
              "#9c179e"
             ],
             [
              0.4444444444444444,
              "#bd3786"
             ],
             [
              0.5555555555555556,
              "#d8576b"
             ],
             [
              0.6666666666666666,
              "#ed7953"
             ],
             [
              0.7777777777777778,
              "#fb9f3a"
             ],
             [
              0.8888888888888888,
              "#fdca26"
             ],
             [
              1,
              "#f0f921"
             ]
            ],
            "type": "histogram2dcontour"
           }
          ],
          "mesh3d": [
           {
            "colorbar": {
             "outlinewidth": 0,
             "ticks": ""
            },
            "type": "mesh3d"
           }
          ],
          "parcoords": [
           {
            "line": {
             "colorbar": {
              "outlinewidth": 0,
              "ticks": ""
             }
            },
            "type": "parcoords"
           }
          ],
          "pie": [
           {
            "automargin": true,
            "type": "pie"
           }
          ],
          "scatter": [
           {
            "marker": {
             "colorbar": {
              "outlinewidth": 0,
              "ticks": ""
             }
            },
            "type": "scatter"
           }
          ],
          "scatter3d": [
           {
            "line": {
             "colorbar": {
              "outlinewidth": 0,
              "ticks": ""
             }
            },
            "marker": {
             "colorbar": {
              "outlinewidth": 0,
              "ticks": ""
             }
            },
            "type": "scatter3d"
           }
          ],
          "scattercarpet": [
           {
            "marker": {
             "colorbar": {
              "outlinewidth": 0,
              "ticks": ""
             }
            },
            "type": "scattercarpet"
           }
          ],
          "scattergeo": [
           {
            "marker": {
             "colorbar": {
              "outlinewidth": 0,
              "ticks": ""
             }
            },
            "type": "scattergeo"
           }
          ],
          "scattergl": [
           {
            "marker": {
             "colorbar": {
              "outlinewidth": 0,
              "ticks": ""
             }
            },
            "type": "scattergl"
           }
          ],
          "scattermapbox": [
           {
            "marker": {
             "colorbar": {
              "outlinewidth": 0,
              "ticks": ""
             }
            },
            "type": "scattermapbox"
           }
          ],
          "scatterpolar": [
           {
            "marker": {
             "colorbar": {
              "outlinewidth": 0,
              "ticks": ""
             }
            },
            "type": "scatterpolar"
           }
          ],
          "scatterpolargl": [
           {
            "marker": {
             "colorbar": {
              "outlinewidth": 0,
              "ticks": ""
             }
            },
            "type": "scatterpolargl"
           }
          ],
          "scatterternary": [
           {
            "marker": {
             "colorbar": {
              "outlinewidth": 0,
              "ticks": ""
             }
            },
            "type": "scatterternary"
           }
          ],
          "surface": [
           {
            "colorbar": {
             "outlinewidth": 0,
             "ticks": ""
            },
            "colorscale": [
             [
              0,
              "#0d0887"
             ],
             [
              0.1111111111111111,
              "#46039f"
             ],
             [
              0.2222222222222222,
              "#7201a8"
             ],
             [
              0.3333333333333333,
              "#9c179e"
             ],
             [
              0.4444444444444444,
              "#bd3786"
             ],
             [
              0.5555555555555556,
              "#d8576b"
             ],
             [
              0.6666666666666666,
              "#ed7953"
             ],
             [
              0.7777777777777778,
              "#fb9f3a"
             ],
             [
              0.8888888888888888,
              "#fdca26"
             ],
             [
              1,
              "#f0f921"
             ]
            ],
            "type": "surface"
           }
          ],
          "table": [
           {
            "cells": {
             "fill": {
              "color": "#EBF0F8"
             },
             "line": {
              "color": "white"
             }
            },
            "header": {
             "fill": {
              "color": "#C8D4E3"
             },
             "line": {
              "color": "white"
             }
            },
            "type": "table"
           }
          ]
         },
         "layout": {
          "annotationdefaults": {
           "arrowcolor": "#2a3f5f",
           "arrowhead": 0,
           "arrowwidth": 1
          },
          "autotypenumbers": "strict",
          "coloraxis": {
           "colorbar": {
            "outlinewidth": 0,
            "ticks": ""
           }
          },
          "colorscale": {
           "diverging": [
            [
             0,
             "#8e0152"
            ],
            [
             0.1,
             "#c51b7d"
            ],
            [
             0.2,
             "#de77ae"
            ],
            [
             0.3,
             "#f1b6da"
            ],
            [
             0.4,
             "#fde0ef"
            ],
            [
             0.5,
             "#f7f7f7"
            ],
            [
             0.6,
             "#e6f5d0"
            ],
            [
             0.7,
             "#b8e186"
            ],
            [
             0.8,
             "#7fbc41"
            ],
            [
             0.9,
             "#4d9221"
            ],
            [
             1,
             "#276419"
            ]
           ],
           "sequential": [
            [
             0,
             "#0d0887"
            ],
            [
             0.1111111111111111,
             "#46039f"
            ],
            [
             0.2222222222222222,
             "#7201a8"
            ],
            [
             0.3333333333333333,
             "#9c179e"
            ],
            [
             0.4444444444444444,
             "#bd3786"
            ],
            [
             0.5555555555555556,
             "#d8576b"
            ],
            [
             0.6666666666666666,
             "#ed7953"
            ],
            [
             0.7777777777777778,
             "#fb9f3a"
            ],
            [
             0.8888888888888888,
             "#fdca26"
            ],
            [
             1,
             "#f0f921"
            ]
           ],
           "sequentialminus": [
            [
             0,
             "#0d0887"
            ],
            [
             0.1111111111111111,
             "#46039f"
            ],
            [
             0.2222222222222222,
             "#7201a8"
            ],
            [
             0.3333333333333333,
             "#9c179e"
            ],
            [
             0.4444444444444444,
             "#bd3786"
            ],
            [
             0.5555555555555556,
             "#d8576b"
            ],
            [
             0.6666666666666666,
             "#ed7953"
            ],
            [
             0.7777777777777778,
             "#fb9f3a"
            ],
            [
             0.8888888888888888,
             "#fdca26"
            ],
            [
             1,
             "#f0f921"
            ]
           ]
          },
          "colorway": [
           "#636efa",
           "#EF553B",
           "#00cc96",
           "#ab63fa",
           "#FFA15A",
           "#19d3f3",
           "#FF6692",
           "#B6E880",
           "#FF97FF",
           "#FECB52"
          ],
          "font": {
           "color": "#2a3f5f"
          },
          "geo": {
           "bgcolor": "white",
           "lakecolor": "white",
           "landcolor": "#E5ECF6",
           "showlakes": true,
           "showland": true,
           "subunitcolor": "white"
          },
          "hoverlabel": {
           "align": "left"
          },
          "hovermode": "closest",
          "mapbox": {
           "style": "light"
          },
          "paper_bgcolor": "white",
          "plot_bgcolor": "#E5ECF6",
          "polar": {
           "angularaxis": {
            "gridcolor": "white",
            "linecolor": "white",
            "ticks": ""
           },
           "bgcolor": "#E5ECF6",
           "radialaxis": {
            "gridcolor": "white",
            "linecolor": "white",
            "ticks": ""
           }
          },
          "scene": {
           "xaxis": {
            "backgroundcolor": "#E5ECF6",
            "gridcolor": "white",
            "gridwidth": 2,
            "linecolor": "white",
            "showbackground": true,
            "ticks": "",
            "zerolinecolor": "white"
           },
           "yaxis": {
            "backgroundcolor": "#E5ECF6",
            "gridcolor": "white",
            "gridwidth": 2,
            "linecolor": "white",
            "showbackground": true,
            "ticks": "",
            "zerolinecolor": "white"
           },
           "zaxis": {
            "backgroundcolor": "#E5ECF6",
            "gridcolor": "white",
            "gridwidth": 2,
            "linecolor": "white",
            "showbackground": true,
            "ticks": "",
            "zerolinecolor": "white"
           }
          },
          "shapedefaults": {
           "line": {
            "color": "#2a3f5f"
           }
          },
          "ternary": {
           "aaxis": {
            "gridcolor": "white",
            "linecolor": "white",
            "ticks": ""
           },
           "baxis": {
            "gridcolor": "white",
            "linecolor": "white",
            "ticks": ""
           },
           "bgcolor": "#E5ECF6",
           "caxis": {
            "gridcolor": "white",
            "linecolor": "white",
            "ticks": ""
           }
          },
          "title": {
           "x": 0.05
          },
          "xaxis": {
           "automargin": true,
           "gridcolor": "white",
           "linecolor": "white",
           "ticks": "",
           "title": {
            "standoff": 15
           },
           "zerolinecolor": "white",
           "zerolinewidth": 2
          },
          "yaxis": {
           "automargin": true,
           "gridcolor": "white",
           "linecolor": "white",
           "ticks": "",
           "title": {
            "standoff": 15
           },
           "zerolinecolor": "white",
           "zerolinewidth": 2
          }
         }
        },
        "updatemenus": [
         {
          "buttons": [
           {
            "args": [
             null,
             {
              "frame": {
               "duration": 500,
               "redraw": true
              },
              "fromcurrent": true,
              "mode": "immediate",
              "transition": {
               "duration": 500,
               "easing": "linear"
              }
             }
            ],
            "label": "&#9654;",
            "method": "animate"
           },
           {
            "args": [
             [
              null
             ],
             {
              "frame": {
               "duration": 0,
               "redraw": true
              },
              "fromcurrent": true,
              "mode": "immediate",
              "transition": {
               "duration": 0,
               "easing": "linear"
              }
             }
            ],
            "label": "&#9724;",
            "method": "animate"
           }
          ],
          "direction": "left",
          "pad": {
           "r": 10,
           "t": 70
          },
          "showactive": false,
          "type": "buttons",
          "x": 0.1,
          "xanchor": "right",
          "y": 0,
          "yanchor": "top"
         }
        ]
       }
      }
     },
     "metadata": {},
     "output_type": "display_data"
    }
   ],
   "source": [
    "import plotly.express as px\n",
    "\n",
    "fig = px.scatter_geo(df, locations=\"iso\", hover_name=\"country\", size=\"geni\", animation_frame=\"year\", scope='europe', animation_group=\"country\")\n",
    "fig.show()"
   ]
  }
 ],
 "metadata": {
  "interpreter": {
   "hash": "31f2aee4e71d21fbe5cf8b01ff0e069b9275f58929596ceb00d14d90e3e16cd6"
  },
  "kernelspec": {
   "display_name": "Python 3.8.10 64-bit",
   "language": "python",
   "name": "python3"
  },
  "language_info": {
   "codemirror_mode": {
    "name": "ipython",
    "version": 3
   },
   "file_extension": ".py",
   "mimetype": "text/x-python",
   "name": "python",
   "nbconvert_exporter": "python",
   "pygments_lexer": "ipython3",
   "version": "3.9.5"
  },
  "orig_nbformat": 4
 },
 "nbformat": 4,
 "nbformat_minor": 2
}
