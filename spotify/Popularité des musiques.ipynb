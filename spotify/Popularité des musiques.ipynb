{
 "cells": [
  {
   "cell_type": "markdown",
   "metadata": {},
   "source": [
    "# Mise en valeur des caractéristiques musicales qui influent sur la popularité d'une musique\n",
    "\n",
    "Voici les deux bases de données sur lesquelles on a pu travailler :\n",
    "- Popularité, genre et caractéristiques : (https://www.kaggle.com/zaheenhamidani/ultimate-spotify-tracks-db)\n",
    "- Régions, nombre d'écoutes et évolution de la popularité : (https://www.kaggle.com/dhruvildave/spotify-charts)\n",
    "\n",
    "Les fichiers qui y sont liés sont dans le dossier resources et sont nommés SpotifyFeatures.csv, charts.csv."
   ]
  },
  {
   "cell_type": "code",
   "execution_count": 2,
   "metadata": {},
   "outputs": [
    {
     "ename": "ModuleNotFoundError",
     "evalue": "No module named 'plotly_express'",
     "output_type": "error",
     "traceback": [
      "\u001b[0;31m---------------------------------------------------------------------------\u001b[0m",
      "\u001b[0;31mModuleNotFoundError\u001b[0m                       Traceback (most recent call last)",
      "\u001b[1;32m/home/ambrosinot/Documents/PYBD/delta_spotify/spotify/Popularité des musiques.ipynb Cell 2'\u001b[0m in \u001b[0;36m<cell line: 1>\u001b[0;34m()\u001b[0m\n\u001b[0;32m----> <a href='vscode-notebook-cell:/home/ambrosinot/Documents/PYBD/delta_spotify/spotify/Popularit%C3%A9%20des%20musiques.ipynb#ch0000001?line=0'>1</a>\u001b[0m \u001b[39mimport\u001b[39;00m \u001b[39mplotly_express\u001b[39;00m \u001b[39mas\u001b[39;00m \u001b[39mpx\u001b[39;00m\n\u001b[1;32m      <a href='vscode-notebook-cell:/home/ambrosinot/Documents/PYBD/delta_spotify/spotify/Popularit%C3%A9%20des%20musiques.ipynb#ch0000001?line=1'>2</a>\u001b[0m \u001b[39mimport\u001b[39;00m \u001b[39mpandas\u001b[39;00m \u001b[39mas\u001b[39;00m \u001b[39mpd\u001b[39;00m\n\u001b[1;32m      <a href='vscode-notebook-cell:/home/ambrosinot/Documents/PYBD/delta_spotify/spotify/Popularit%C3%A9%20des%20musiques.ipynb#ch0000001?line=2'>3</a>\u001b[0m \u001b[39mimport\u001b[39;00m \u001b[39mplotly\u001b[39;00m \u001b[39mas\u001b[39;00m \u001b[39mpt\u001b[39;00m\n",
      "\u001b[0;31mModuleNotFoundError\u001b[0m: No module named 'plotly_express'"
     ]
    }
   ],
   "source": [
    "import plotly_express as px\n",
    "import pandas as pd\n",
    "import plotly as pt\n",
    "import numpy as np\n",
    "import plotly.graph_objects as go\n",
    "\n",
    "import dash\n",
    "from dash import dcc\n",
    "from dash import html\n",
    "\n",
    "pd.options.plotting.backend = \"plotly\""
   ]
  },
  {
   "cell_type": "markdown",
   "metadata": {},
   "source": [
    "Début de la database **SpotifyFeatures.csv**"
   ]
  },
  {
   "cell_type": "code",
   "execution_count": null,
   "metadata": {},
   "outputs": [],
   "source": [
    "df = pd.read_csv(\"resources/SpotifyFeatures.csv\")\n",
    "\n",
    "df.head()"
   ]
  },
  {
   "cell_type": "markdown",
   "metadata": {},
   "source": [
    "\n",
    "Début de la database **charts.csv**"
   ]
  },
  {
   "cell_type": "code",
   "execution_count": null,
   "metadata": {},
   "outputs": [],
   "source": [
    "df2 = pd.read_csv(\"resources/charts.csv\")\n",
    "\n",
    "df2.head()"
   ]
  },
  {
   "cell_type": "code",
   "execution_count": null,
   "metadata": {},
   "outputs": [],
   "source": [
    "df2.drop(columns=['Unnamed: 0'])"
   ]
  },
  {
   "cell_type": "markdown",
   "metadata": {},
   "source": [
    "## Découpage des bases de données\n",
    "\n",
    "La base de données initialement récuperée sur kaggle avait une taille de 3GB de données, cela ne rendant pas pertinant l'utilisation de l'entièreté de cette dernière. En effet, cette base de données est mise à jour depuis début 2017 jusq'à fin 2021 où chaque jour des nouvelles données\n",
    "\n",
    "decembre database pas a jour donc on choisi novembre\n",
    "\n",
    "\n",
    "Ligne pour avoir les dates :\n",
    "np.unique(df2.date)\n",
    "\n",
    "Ligne pour couper les dates dont on a pas besoin\n",
    "df2 = df2.drop(df2[df2.date != \"2021-11-30\"].index)\n",
    "\n",
    "Ligne pour réinitialiser l'index\n",
    "df2 = df2.reset_index(inplace=True)\n",
    "\n",
    "Ligne pour supprimer l'ancienne colonne d'index\n",
    "df2 = df2.drop(columns=['index', 'level_0'])\n",
    "\n",
    "Ligne pour réecrire la base données\n",
    "df2.to_csv(\"resources/charts.csv\")"
   ]
  },
  {
   "cell_type": "markdown",
   "metadata": {},
   "source": [
    "\n",
    "## Merging"
   ]
  },
  {
   "cell_type": "code",
   "execution_count": null,
   "metadata": {},
   "outputs": [],
   "source": [
    "df.rename(columns={'artist_name':'artist', 'track_name':'title'})\n",
    "# pd.merge(df, df2, on='artist', how='')\n",
    "# df.set_index('artist').join(df2.set_index('artist'), lsuffix='_left', how='outer')"
   ]
  }
 ],
 "metadata": {
  "interpreter": {
   "hash": "916dbcbb3f70747c44a77c7bcd40155683ae19c65e1c03b4aa3499c5328201f1"
  },
  "kernelspec": {
   "display_name": "Python 3.8.10 64-bit",
   "language": "python",
   "name": "python3"
  },
  "language_info": {
   "codemirror_mode": {
    "name": "ipython",
    "version": 3
   },
   "file_extension": ".py",
   "mimetype": "text/x-python",
   "name": "python",
   "nbconvert_exporter": "python",
   "pygments_lexer": "ipython3",
   "version": "3.8.10"
  },
  "orig_nbformat": 4
 },
 "nbformat": 4,
 "nbformat_minor": 2
}
