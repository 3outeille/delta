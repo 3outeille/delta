{
 "cells": [
  {
   "cell_type": "markdown",
   "metadata": {},
   "source": [
    "# Mise en valeur des caractéristiques musicales qui influent sur la popularité d'une musique\n",
    "\n",
    "Voici les deux bases de données sur lesquelles on a pu travailler :\n",
    "- Popularité, genre et caractéristiques : (https://www.kaggle.com/zaheenhamidani/ultimate-spotify-tracks-db)\n",
    "- Régions, nombre d'écoutes et évolution de la popularité : (https://www.kaggle.com/dhruvildave/spotify-charts)\n",
    "\n",
    "Les fichiers qui y sont liés sont dans le dossier resources et sont nommés SpotifyFeatures.csv, charts.csv."
   ]
  },
  {
   "cell_type": "code",
   "execution_count": 18,
   "metadata": {},
   "outputs": [],
   "source": [
    "import plotly_express as px\n",
    "import pandas as pd\n",
    "import plotly as pt\n",
    "import numpy as np\n",
    "import plotly.graph_objects as go\n",
    "\n",
    "import dash\n",
    "from dash import dcc\n",
    "from dash import html\n",
    "\n",
    "pd.options.plotting.backend = \"plotly\""
   ]
  },
  {
   "cell_type": "markdown",
   "metadata": {},
   "source": [
    "Début de la database **SpotifyFeatures.csv**"
   ]
  },
  {
   "cell_type": "code",
   "execution_count": 19,
   "metadata": {},
   "outputs": [
    {
     "data": {
      "text/html": [
       "<div>\n",
       "<style scoped>\n",
       "    .dataframe tbody tr th:only-of-type {\n",
       "        vertical-align: middle;\n",
       "    }\n",
       "\n",
       "    .dataframe tbody tr th {\n",
       "        vertical-align: top;\n",
       "    }\n",
       "\n",
       "    .dataframe thead th {\n",
       "        text-align: right;\n",
       "    }\n",
       "</style>\n",
       "<table border=\"1\" class=\"dataframe\">\n",
       "  <thead>\n",
       "    <tr style=\"text-align: right;\">\n",
       "      <th></th>\n",
       "      <th>genre</th>\n",
       "      <th>artist_name</th>\n",
       "      <th>track_name</th>\n",
       "      <th>track_id</th>\n",
       "      <th>popularity</th>\n",
       "      <th>acousticness</th>\n",
       "      <th>danceability</th>\n",
       "      <th>duration_ms</th>\n",
       "      <th>energy</th>\n",
       "      <th>instrumentalness</th>\n",
       "      <th>key</th>\n",
       "      <th>liveness</th>\n",
       "      <th>loudness</th>\n",
       "      <th>mode</th>\n",
       "      <th>speechiness</th>\n",
       "      <th>tempo</th>\n",
       "      <th>time_signature</th>\n",
       "      <th>valence</th>\n",
       "    </tr>\n",
       "  </thead>\n",
       "  <tbody>\n",
       "    <tr>\n",
       "      <th>0</th>\n",
       "      <td>Movie</td>\n",
       "      <td>Henri Salvador</td>\n",
       "      <td>C'est beau de faire un Show</td>\n",
       "      <td>0BRjO6ga9RKCKjfDqeFgWV</td>\n",
       "      <td>0</td>\n",
       "      <td>0.611</td>\n",
       "      <td>0.389</td>\n",
       "      <td>99373</td>\n",
       "      <td>0.910</td>\n",
       "      <td>0.000</td>\n",
       "      <td>C#</td>\n",
       "      <td>0.3460</td>\n",
       "      <td>-1.828</td>\n",
       "      <td>Major</td>\n",
       "      <td>0.0525</td>\n",
       "      <td>166.969</td>\n",
       "      <td>4/4</td>\n",
       "      <td>0.814</td>\n",
       "    </tr>\n",
       "    <tr>\n",
       "      <th>1</th>\n",
       "      <td>Movie</td>\n",
       "      <td>Martin &amp; les fées</td>\n",
       "      <td>Perdu d'avance (par Gad Elmaleh)</td>\n",
       "      <td>0BjC1NfoEOOusryehmNudP</td>\n",
       "      <td>1</td>\n",
       "      <td>0.246</td>\n",
       "      <td>0.590</td>\n",
       "      <td>137373</td>\n",
       "      <td>0.737</td>\n",
       "      <td>0.000</td>\n",
       "      <td>F#</td>\n",
       "      <td>0.1510</td>\n",
       "      <td>-5.559</td>\n",
       "      <td>Minor</td>\n",
       "      <td>0.0868</td>\n",
       "      <td>174.003</td>\n",
       "      <td>4/4</td>\n",
       "      <td>0.816</td>\n",
       "    </tr>\n",
       "    <tr>\n",
       "      <th>2</th>\n",
       "      <td>Movie</td>\n",
       "      <td>Joseph Williams</td>\n",
       "      <td>Don't Let Me Be Lonely Tonight</td>\n",
       "      <td>0CoSDzoNIKCRs124s9uTVy</td>\n",
       "      <td>3</td>\n",
       "      <td>0.952</td>\n",
       "      <td>0.663</td>\n",
       "      <td>170267</td>\n",
       "      <td>0.131</td>\n",
       "      <td>0.000</td>\n",
       "      <td>C</td>\n",
       "      <td>0.1030</td>\n",
       "      <td>-13.879</td>\n",
       "      <td>Minor</td>\n",
       "      <td>0.0362</td>\n",
       "      <td>99.488</td>\n",
       "      <td>5/4</td>\n",
       "      <td>0.368</td>\n",
       "    </tr>\n",
       "    <tr>\n",
       "      <th>3</th>\n",
       "      <td>Movie</td>\n",
       "      <td>Henri Salvador</td>\n",
       "      <td>Dis-moi Monsieur Gordon Cooper</td>\n",
       "      <td>0Gc6TVm52BwZD07Ki6tIvf</td>\n",
       "      <td>0</td>\n",
       "      <td>0.703</td>\n",
       "      <td>0.240</td>\n",
       "      <td>152427</td>\n",
       "      <td>0.326</td>\n",
       "      <td>0.000</td>\n",
       "      <td>C#</td>\n",
       "      <td>0.0985</td>\n",
       "      <td>-12.178</td>\n",
       "      <td>Major</td>\n",
       "      <td>0.0395</td>\n",
       "      <td>171.758</td>\n",
       "      <td>4/4</td>\n",
       "      <td>0.227</td>\n",
       "    </tr>\n",
       "    <tr>\n",
       "      <th>4</th>\n",
       "      <td>Movie</td>\n",
       "      <td>Fabien Nataf</td>\n",
       "      <td>Ouverture</td>\n",
       "      <td>0IuslXpMROHdEPvSl1fTQK</td>\n",
       "      <td>4</td>\n",
       "      <td>0.950</td>\n",
       "      <td>0.331</td>\n",
       "      <td>82625</td>\n",
       "      <td>0.225</td>\n",
       "      <td>0.123</td>\n",
       "      <td>F</td>\n",
       "      <td>0.2020</td>\n",
       "      <td>-21.150</td>\n",
       "      <td>Major</td>\n",
       "      <td>0.0456</td>\n",
       "      <td>140.576</td>\n",
       "      <td>4/4</td>\n",
       "      <td>0.390</td>\n",
       "    </tr>\n",
       "  </tbody>\n",
       "</table>\n",
       "</div>"
      ],
      "text/plain": [
       "   genre        artist_name                        track_name  \\\n",
       "0  Movie     Henri Salvador       C'est beau de faire un Show   \n",
       "1  Movie  Martin & les fées  Perdu d'avance (par Gad Elmaleh)   \n",
       "2  Movie    Joseph Williams    Don't Let Me Be Lonely Tonight   \n",
       "3  Movie     Henri Salvador    Dis-moi Monsieur Gordon Cooper   \n",
       "4  Movie       Fabien Nataf                         Ouverture   \n",
       "\n",
       "                 track_id  popularity  acousticness  danceability  \\\n",
       "0  0BRjO6ga9RKCKjfDqeFgWV           0         0.611         0.389   \n",
       "1  0BjC1NfoEOOusryehmNudP           1         0.246         0.590   \n",
       "2  0CoSDzoNIKCRs124s9uTVy           3         0.952         0.663   \n",
       "3  0Gc6TVm52BwZD07Ki6tIvf           0         0.703         0.240   \n",
       "4  0IuslXpMROHdEPvSl1fTQK           4         0.950         0.331   \n",
       "\n",
       "   duration_ms  energy  instrumentalness key  liveness  loudness   mode  \\\n",
       "0        99373   0.910             0.000  C#    0.3460    -1.828  Major   \n",
       "1       137373   0.737             0.000  F#    0.1510    -5.559  Minor   \n",
       "2       170267   0.131             0.000   C    0.1030   -13.879  Minor   \n",
       "3       152427   0.326             0.000  C#    0.0985   -12.178  Major   \n",
       "4        82625   0.225             0.123   F    0.2020   -21.150  Major   \n",
       "\n",
       "   speechiness    tempo time_signature  valence  \n",
       "0       0.0525  166.969            4/4    0.814  \n",
       "1       0.0868  174.003            4/4    0.816  \n",
       "2       0.0362   99.488            5/4    0.368  \n",
       "3       0.0395  171.758            4/4    0.227  \n",
       "4       0.0456  140.576            4/4    0.390  "
      ]
     },
     "execution_count": 19,
     "metadata": {},
     "output_type": "execute_result"
    }
   ],
   "source": [
    "df = pd.read_csv(\"data/SpotifyFeatures.csv\")\n",
    "\n",
    "df.head()"
   ]
  },
  {
   "cell_type": "markdown",
   "metadata": {},
   "source": [
    "\n",
    "Début de la database **charts.csv**"
   ]
  },
  {
   "cell_type": "code",
   "execution_count": 20,
   "metadata": {},
   "outputs": [
    {
     "data": {
      "text/html": [
       "<div>\n",
       "<style scoped>\n",
       "    .dataframe tbody tr th:only-of-type {\n",
       "        vertical-align: middle;\n",
       "    }\n",
       "\n",
       "    .dataframe tbody tr th {\n",
       "        vertical-align: top;\n",
       "    }\n",
       "\n",
       "    .dataframe thead th {\n",
       "        text-align: right;\n",
       "    }\n",
       "</style>\n",
       "<table border=\"1\" class=\"dataframe\">\n",
       "  <thead>\n",
       "    <tr style=\"text-align: right;\">\n",
       "      <th></th>\n",
       "      <th>Unnamed: 0</th>\n",
       "      <th>title</th>\n",
       "      <th>rank</th>\n",
       "      <th>date</th>\n",
       "      <th>artist</th>\n",
       "      <th>url</th>\n",
       "      <th>region</th>\n",
       "      <th>chart</th>\n",
       "      <th>trend</th>\n",
       "      <th>streams</th>\n",
       "    </tr>\n",
       "  </thead>\n",
       "  <tbody>\n",
       "    <tr>\n",
       "      <th>0</th>\n",
       "      <td>0</td>\n",
       "      <td>Bar</td>\n",
       "      <td>1</td>\n",
       "      <td>2021-11-30</td>\n",
       "      <td>TINI, L-Gante</td>\n",
       "      <td>https://open.spotify.com/track/0lJE8f0lx8mUSfM...</td>\n",
       "      <td>Argentina</td>\n",
       "      <td>top200</td>\n",
       "      <td>SAME_POSITION</td>\n",
       "      <td>491835.0</td>\n",
       "    </tr>\n",
       "    <tr>\n",
       "      <th>1</th>\n",
       "      <td>1</td>\n",
       "      <td>Salimo de Noche</td>\n",
       "      <td>2</td>\n",
       "      <td>2021-11-30</td>\n",
       "      <td>Tiago PZK, Trueno</td>\n",
       "      <td>https://open.spotify.com/track/6P096SaOzrgGxs8...</td>\n",
       "      <td>Argentina</td>\n",
       "      <td>top200</td>\n",
       "      <td>SAME_POSITION</td>\n",
       "      <td>379567.0</td>\n",
       "    </tr>\n",
       "    <tr>\n",
       "      <th>2</th>\n",
       "      <td>2</td>\n",
       "      <td>DANCE CRIP</td>\n",
       "      <td>3</td>\n",
       "      <td>2021-11-30</td>\n",
       "      <td>Trueno</td>\n",
       "      <td>https://open.spotify.com/track/1kjs5eR4DMzyB0g...</td>\n",
       "      <td>Argentina</td>\n",
       "      <td>top200</td>\n",
       "      <td>SAME_POSITION</td>\n",
       "      <td>366315.0</td>\n",
       "    </tr>\n",
       "    <tr>\n",
       "      <th>3</th>\n",
       "      <td>3</td>\n",
       "      <td>Una Vaina Loca</td>\n",
       "      <td>4</td>\n",
       "      <td>2021-11-30</td>\n",
       "      <td>Fuego, Manuel Turizo, Duki</td>\n",
       "      <td>https://open.spotify.com/track/2qEoAz0i6yEz5dP...</td>\n",
       "      <td>Argentina</td>\n",
       "      <td>top200</td>\n",
       "      <td>SAME_POSITION</td>\n",
       "      <td>269979.0</td>\n",
       "    </tr>\n",
       "    <tr>\n",
       "      <th>4</th>\n",
       "      <td>4</td>\n",
       "      <td>Antes de Ti</td>\n",
       "      <td>5</td>\n",
       "      <td>2021-11-30</td>\n",
       "      <td>Rusherking, Maria Becerra</td>\n",
       "      <td>https://open.spotify.com/track/23R68uWGdp07SwQ...</td>\n",
       "      <td>Argentina</td>\n",
       "      <td>top200</td>\n",
       "      <td>SAME_POSITION</td>\n",
       "      <td>249624.0</td>\n",
       "    </tr>\n",
       "  </tbody>\n",
       "</table>\n",
       "</div>"
      ],
      "text/plain": [
       "   Unnamed: 0            title  rank        date                      artist  \\\n",
       "0           0              Bar     1  2021-11-30               TINI, L-Gante   \n",
       "1           1  Salimo de Noche     2  2021-11-30           Tiago PZK, Trueno   \n",
       "2           2       DANCE CRIP     3  2021-11-30                      Trueno   \n",
       "3           3   Una Vaina Loca     4  2021-11-30  Fuego, Manuel Turizo, Duki   \n",
       "4           4      Antes de Ti     5  2021-11-30   Rusherking, Maria Becerra   \n",
       "\n",
       "                                                 url     region   chart  \\\n",
       "0  https://open.spotify.com/track/0lJE8f0lx8mUSfM...  Argentina  top200   \n",
       "1  https://open.spotify.com/track/6P096SaOzrgGxs8...  Argentina  top200   \n",
       "2  https://open.spotify.com/track/1kjs5eR4DMzyB0g...  Argentina  top200   \n",
       "3  https://open.spotify.com/track/2qEoAz0i6yEz5dP...  Argentina  top200   \n",
       "4  https://open.spotify.com/track/23R68uWGdp07SwQ...  Argentina  top200   \n",
       "\n",
       "           trend   streams  \n",
       "0  SAME_POSITION  491835.0  \n",
       "1  SAME_POSITION  379567.0  \n",
       "2  SAME_POSITION  366315.0  \n",
       "3  SAME_POSITION  269979.0  \n",
       "4  SAME_POSITION  249624.0  "
      ]
     },
     "execution_count": 20,
     "metadata": {},
     "output_type": "execute_result"
    }
   ],
   "source": [
    "df2 = pd.read_csv(\"data/charts.csv\")\n",
    "\n",
    "df2.head()"
   ]
  },
  {
   "cell_type": "code",
   "execution_count": 21,
   "metadata": {},
   "outputs": [
    {
     "data": {
      "text/html": [
       "<div>\n",
       "<style scoped>\n",
       "    .dataframe tbody tr th:only-of-type {\n",
       "        vertical-align: middle;\n",
       "    }\n",
       "\n",
       "    .dataframe tbody tr th {\n",
       "        vertical-align: top;\n",
       "    }\n",
       "\n",
       "    .dataframe thead th {\n",
       "        text-align: right;\n",
       "    }\n",
       "</style>\n",
       "<table border=\"1\" class=\"dataframe\">\n",
       "  <thead>\n",
       "    <tr style=\"text-align: right;\">\n",
       "      <th></th>\n",
       "      <th>title</th>\n",
       "      <th>rank</th>\n",
       "      <th>date</th>\n",
       "      <th>artist</th>\n",
       "      <th>url</th>\n",
       "      <th>region</th>\n",
       "      <th>chart</th>\n",
       "      <th>trend</th>\n",
       "      <th>streams</th>\n",
       "    </tr>\n",
       "  </thead>\n",
       "  <tbody>\n",
       "    <tr>\n",
       "      <th>0</th>\n",
       "      <td>Bar</td>\n",
       "      <td>1</td>\n",
       "      <td>2021-11-30</td>\n",
       "      <td>TINI, L-Gante</td>\n",
       "      <td>https://open.spotify.com/track/0lJE8f0lx8mUSfM...</td>\n",
       "      <td>Argentina</td>\n",
       "      <td>top200</td>\n",
       "      <td>SAME_POSITION</td>\n",
       "      <td>491835.0</td>\n",
       "    </tr>\n",
       "    <tr>\n",
       "      <th>1</th>\n",
       "      <td>Salimo de Noche</td>\n",
       "      <td>2</td>\n",
       "      <td>2021-11-30</td>\n",
       "      <td>Tiago PZK, Trueno</td>\n",
       "      <td>https://open.spotify.com/track/6P096SaOzrgGxs8...</td>\n",
       "      <td>Argentina</td>\n",
       "      <td>top200</td>\n",
       "      <td>SAME_POSITION</td>\n",
       "      <td>379567.0</td>\n",
       "    </tr>\n",
       "    <tr>\n",
       "      <th>2</th>\n",
       "      <td>DANCE CRIP</td>\n",
       "      <td>3</td>\n",
       "      <td>2021-11-30</td>\n",
       "      <td>Trueno</td>\n",
       "      <td>https://open.spotify.com/track/1kjs5eR4DMzyB0g...</td>\n",
       "      <td>Argentina</td>\n",
       "      <td>top200</td>\n",
       "      <td>SAME_POSITION</td>\n",
       "      <td>366315.0</td>\n",
       "    </tr>\n",
       "    <tr>\n",
       "      <th>3</th>\n",
       "      <td>Una Vaina Loca</td>\n",
       "      <td>4</td>\n",
       "      <td>2021-11-30</td>\n",
       "      <td>Fuego, Manuel Turizo, Duki</td>\n",
       "      <td>https://open.spotify.com/track/2qEoAz0i6yEz5dP...</td>\n",
       "      <td>Argentina</td>\n",
       "      <td>top200</td>\n",
       "      <td>SAME_POSITION</td>\n",
       "      <td>269979.0</td>\n",
       "    </tr>\n",
       "    <tr>\n",
       "      <th>4</th>\n",
       "      <td>Antes de Ti</td>\n",
       "      <td>5</td>\n",
       "      <td>2021-11-30</td>\n",
       "      <td>Rusherking, Maria Becerra</td>\n",
       "      <td>https://open.spotify.com/track/23R68uWGdp07SwQ...</td>\n",
       "      <td>Argentina</td>\n",
       "      <td>top200</td>\n",
       "      <td>SAME_POSITION</td>\n",
       "      <td>249624.0</td>\n",
       "    </tr>\n",
       "    <tr>\n",
       "      <th>...</th>\n",
       "      <td>...</td>\n",
       "      <td>...</td>\n",
       "      <td>...</td>\n",
       "      <td>...</td>\n",
       "      <td>...</td>\n",
       "      <td>...</td>\n",
       "      <td>...</td>\n",
       "      <td>...</td>\n",
       "      <td>...</td>\n",
       "    </tr>\n",
       "    <tr>\n",
       "      <th>16815</th>\n",
       "      <td>Our Love (From the series Arcane League of Leg...</td>\n",
       "      <td>46</td>\n",
       "      <td>2021-11-30</td>\n",
       "      <td>Curtis Harding, Jazmine Sullivan</td>\n",
       "      <td>https://open.spotify.com/track/4OiGC4aSeZV2O71...</td>\n",
       "      <td>Vietnam</td>\n",
       "      <td>viral50</td>\n",
       "      <td>MOVE_DOWN</td>\n",
       "      <td>NaN</td>\n",
       "    </tr>\n",
       "    <tr>\n",
       "      <th>16816</th>\n",
       "      <td>Nuestra Canción</td>\n",
       "      <td>47</td>\n",
       "      <td>2021-11-30</td>\n",
       "      <td>Monsieur Periné, Vicente Garcia</td>\n",
       "      <td>https://open.spotify.com/track/5reQI13tWWYDLMr...</td>\n",
       "      <td>Vietnam</td>\n",
       "      <td>viral50</td>\n",
       "      <td>MOVE_DOWN</td>\n",
       "      <td>NaN</td>\n",
       "    </tr>\n",
       "    <tr>\n",
       "      <th>16817</th>\n",
       "      <td>Bananza (Belly Dancer)</td>\n",
       "      <td>48</td>\n",
       "      <td>2021-11-30</td>\n",
       "      <td>Akon</td>\n",
       "      <td>https://open.spotify.com/track/0dNPpDFdvzj6XFI...</td>\n",
       "      <td>Vietnam</td>\n",
       "      <td>viral50</td>\n",
       "      <td>NEW_ENTRY</td>\n",
       "      <td>NaN</td>\n",
       "    </tr>\n",
       "    <tr>\n",
       "      <th>16818</th>\n",
       "      <td>ONLY</td>\n",
       "      <td>49</td>\n",
       "      <td>2021-11-30</td>\n",
       "      <td>LeeHi</td>\n",
       "      <td>https://open.spotify.com/track/6TBJkXHPhu3EsMk...</td>\n",
       "      <td>Vietnam</td>\n",
       "      <td>viral50</td>\n",
       "      <td>MOVE_UP</td>\n",
       "      <td>NaN</td>\n",
       "    </tr>\n",
       "    <tr>\n",
       "      <th>16819</th>\n",
       "      <td>Biết Em</td>\n",
       "      <td>50</td>\n",
       "      <td>2021-11-30</td>\n",
       "      <td>Lynk Nguyen</td>\n",
       "      <td>https://open.spotify.com/track/51qM6DVbqylA3dI...</td>\n",
       "      <td>Vietnam</td>\n",
       "      <td>viral50</td>\n",
       "      <td>NEW_ENTRY</td>\n",
       "      <td>NaN</td>\n",
       "    </tr>\n",
       "  </tbody>\n",
       "</table>\n",
       "<p>16820 rows × 9 columns</p>\n",
       "</div>"
      ],
      "text/plain": [
       "                                                   title  rank        date  \\\n",
       "0                                                    Bar     1  2021-11-30   \n",
       "1                                        Salimo de Noche     2  2021-11-30   \n",
       "2                                             DANCE CRIP     3  2021-11-30   \n",
       "3                                         Una Vaina Loca     4  2021-11-30   \n",
       "4                                            Antes de Ti     5  2021-11-30   \n",
       "...                                                  ...   ...         ...   \n",
       "16815  Our Love (From the series Arcane League of Leg...    46  2021-11-30   \n",
       "16816                                    Nuestra Canción    47  2021-11-30   \n",
       "16817                             Bananza (Belly Dancer)    48  2021-11-30   \n",
       "16818                                               ONLY    49  2021-11-30   \n",
       "16819                                            Biết Em    50  2021-11-30   \n",
       "\n",
       "                                 artist  \\\n",
       "0                         TINI, L-Gante   \n",
       "1                     Tiago PZK, Trueno   \n",
       "2                                Trueno   \n",
       "3            Fuego, Manuel Turizo, Duki   \n",
       "4             Rusherking, Maria Becerra   \n",
       "...                                 ...   \n",
       "16815  Curtis Harding, Jazmine Sullivan   \n",
       "16816   Monsieur Periné, Vicente Garcia   \n",
       "16817                              Akon   \n",
       "16818                             LeeHi   \n",
       "16819                       Lynk Nguyen   \n",
       "\n",
       "                                                     url     region    chart  \\\n",
       "0      https://open.spotify.com/track/0lJE8f0lx8mUSfM...  Argentina   top200   \n",
       "1      https://open.spotify.com/track/6P096SaOzrgGxs8...  Argentina   top200   \n",
       "2      https://open.spotify.com/track/1kjs5eR4DMzyB0g...  Argentina   top200   \n",
       "3      https://open.spotify.com/track/2qEoAz0i6yEz5dP...  Argentina   top200   \n",
       "4      https://open.spotify.com/track/23R68uWGdp07SwQ...  Argentina   top200   \n",
       "...                                                  ...        ...      ...   \n",
       "16815  https://open.spotify.com/track/4OiGC4aSeZV2O71...    Vietnam  viral50   \n",
       "16816  https://open.spotify.com/track/5reQI13tWWYDLMr...    Vietnam  viral50   \n",
       "16817  https://open.spotify.com/track/0dNPpDFdvzj6XFI...    Vietnam  viral50   \n",
       "16818  https://open.spotify.com/track/6TBJkXHPhu3EsMk...    Vietnam  viral50   \n",
       "16819  https://open.spotify.com/track/51qM6DVbqylA3dI...    Vietnam  viral50   \n",
       "\n",
       "               trend   streams  \n",
       "0      SAME_POSITION  491835.0  \n",
       "1      SAME_POSITION  379567.0  \n",
       "2      SAME_POSITION  366315.0  \n",
       "3      SAME_POSITION  269979.0  \n",
       "4      SAME_POSITION  249624.0  \n",
       "...              ...       ...  \n",
       "16815      MOVE_DOWN       NaN  \n",
       "16816      MOVE_DOWN       NaN  \n",
       "16817      NEW_ENTRY       NaN  \n",
       "16818        MOVE_UP       NaN  \n",
       "16819      NEW_ENTRY       NaN  \n",
       "\n",
       "[16820 rows x 9 columns]"
      ]
     },
     "execution_count": 21,
     "metadata": {},
     "output_type": "execute_result"
    }
   ],
   "source": [
    "df2.drop(columns=['Unnamed: 0'])"
   ]
  },
  {
   "cell_type": "markdown",
   "metadata": {},
   "source": [
    "## Découpage des bases de données\n",
    "\n",
    "La base de données initialement récuperée sur kaggle avait une taille de 3GB de données, cela ne rendant pas pertinant l'utilisation de l'entièreté de cette dernière. En effet, cette base de données est mise à jour depuis début 2017 jusq'à fin 2021 où chaque jour des nouvelles données\n",
    "\n",
    "decembre database pas a jour donc on choisi novembre\n",
    "\n",
    "\n",
    "Ligne pour avoir les dates :\n",
    "np.unique(df2.date)\n",
    "\n",
    "Ligne pour couper les dates dont on a pas besoin\n",
    "df2 = df2.drop(df2[df2.date != \"2021-11-30\"].index)\n",
    "\n",
    "Ligne pour réinitialiser l'index\n",
    "df2 = df2.reset_index(inplace=True)\n",
    "\n",
    "Ligne pour supprimer l'ancienne colonne d'index\n",
    "df2 = df2.drop(columns=['index', 'level_0'])\n",
    "\n",
    "Ligne pour réecrire la base données\n",
    "df2.to_csv(\"resources/charts.csv\")"
   ]
  },
  {
   "cell_type": "markdown",
   "metadata": {},
   "source": [
    "\n",
    "## Merging"
   ]
  },
  {
   "cell_type": "code",
   "execution_count": 22,
   "metadata": {},
   "outputs": [],
   "source": [
    "df = df.rename(columns={'artist_name':'artist', 'track_name':'title'})\n",
    "# pd.merge(df, df2, on='artist', how='')\n",
    "# df.set_index('artist').join(df2.set_index('artist'), lsuffix='_left', how='outer')"
   ]
  },
  {
   "cell_type": "code",
   "execution_count": 23,
   "metadata": {},
   "outputs": [],
   "source": [
    "dfmean = df.drop(columns=['artist', 'title', 'track_id', 'key', 'mode', 'time_signature'])"
   ]
  },
  {
   "cell_type": "code",
   "execution_count": 24,
   "metadata": {},
   "outputs": [],
   "source": [
    "dfmean = dfmean.groupby(['genre']).mean()"
   ]
  },
  {
   "cell_type": "markdown",
   "metadata": {},
   "source": [
    "## Affichage"
   ]
  },
  {
   "cell_type": "code",
   "execution_count": 25,
   "metadata": {},
   "outputs": [
    {
     "data": {
      "application/vnd.plotly.v1+json": {
       "config": {
        "plotlyServerURL": "https://plot.ly"
       },
       "data": [
        {
         "hovertemplate": "<b>%{hovertext}</b><br><br>genre=A Capella<br>popularity=%{x}<br>danceability=%{y}<extra></extra>",
         "hovertext": [
          "A Capella"
         ],
         "legendgroup": "A Capella",
         "marker": {
          "color": "#EF553B",
          "symbol": "circle"
         },
         "mode": "markers",
         "name": "A Capella",
         "orientation": "v",
         "showlegend": true,
         "type": "scatter",
         "x": [
          9.302521008403362
         ],
         "xaxis": "x",
         "y": [
          0.41225210084033614
         ],
         "yaxis": "y"
        },
        {
         "hovertemplate": "<b>%{hovertext}</b><br><br>genre=Alternative<br>popularity=%{x}<br>danceability=%{y}<extra></extra>",
         "hovertext": [
          "Alternative"
         ],
         "legendgroup": "Alternative",
         "marker": {
          "color": "#00cc96",
          "symbol": "circle"
         },
         "mode": "markers",
         "name": "Alternative",
         "orientation": "v",
         "showlegend": true,
         "type": "scatter",
         "x": [
          50.21342977437116
         ],
         "xaxis": "x",
         "y": [
          0.5418984454280471
         ],
         "yaxis": "y"
        },
        {
         "hovertemplate": "<b>%{hovertext}</b><br><br>genre=Anime<br>popularity=%{x}<br>danceability=%{y}<extra></extra>",
         "hovertext": [
          "Anime"
         ],
         "legendgroup": "Anime",
         "marker": {
          "color": "#ab63fa",
          "symbol": "circle"
         },
         "mode": "markers",
         "name": "Anime",
         "orientation": "v",
         "showlegend": true,
         "type": "scatter",
         "x": [
          24.25872873769024
         ],
         "xaxis": "x",
         "y": [
          0.47209009623992837
         ],
         "yaxis": "y"
        },
        {
         "hovertemplate": "<b>%{hovertext}</b><br><br>genre=Blues<br>popularity=%{x}<br>danceability=%{y}<extra></extra>",
         "hovertext": [
          "Blues"
         ],
         "legendgroup": "Blues",
         "marker": {
          "color": "#FFA15A",
          "symbol": "circle"
         },
         "mode": "markers",
         "name": "Blues",
         "orientation": "v",
         "showlegend": true,
         "type": "scatter",
         "x": [
          34.742879308434
         ],
         "xaxis": "x",
         "y": [
          0.5282318519339466
         ],
         "yaxis": "y"
        },
        {
         "hovertemplate": "<b>%{hovertext}</b><br><br>genre=Children's Music<br>popularity=%{x}<br>danceability=%{y}<extra></extra>",
         "hovertext": [
          "Children's Music"
         ],
         "legendgroup": "Children's Music",
         "marker": {
          "color": "#19d3f3",
          "symbol": "circle"
         },
         "mode": "markers",
         "name": "Children's Music",
         "orientation": "v",
         "showlegend": true,
         "type": "scatter",
         "x": [
          4.252637423653526
         ],
         "xaxis": "x",
         "y": [
          0.6974754950953174
         ],
         "yaxis": "y"
        },
        {
         "hovertemplate": "<b>%{hovertext}</b><br><br>genre=Children’s Music<br>popularity=%{x}<br>danceability=%{y}<extra></extra>",
         "hovertext": [
          "Children’s Music"
         ],
         "legendgroup": "Children’s Music",
         "marker": {
          "color": "#FF6692",
          "symbol": "circle"
         },
         "mode": "markers",
         "name": "Children’s Music",
         "orientation": "v",
         "showlegend": true,
         "type": "scatter",
         "x": [
          54.65903988025232
         ],
         "xaxis": "x",
         "y": [
          0.5418431840051321
         ],
         "yaxis": "y"
        },
        {
         "hovertemplate": "<b>%{hovertext}</b><br><br>genre=Classical<br>popularity=%{x}<br>danceability=%{y}<extra></extra>",
         "hovertext": [
          "Classical"
         ],
         "legendgroup": "Classical",
         "marker": {
          "color": "#B6E880",
          "symbol": "circle"
         },
         "mode": "markers",
         "name": "Classical",
         "orientation": "v",
         "showlegend": true,
         "type": "scatter",
         "x": [
          29.28219533275713
         ],
         "xaxis": "x",
         "y": [
          0.3059580380293863
         ],
         "yaxis": "y"
        },
        {
         "hovertemplate": "<b>%{hovertext}</b><br><br>genre=Comedy<br>popularity=%{x}<br>danceability=%{y}<extra></extra>",
         "hovertext": [
          "Comedy"
         ],
         "legendgroup": "Comedy",
         "marker": {
          "color": "#FF97FF",
          "symbol": "circle"
         },
         "mode": "markers",
         "name": "Comedy",
         "orientation": "v",
         "showlegend": true,
         "type": "scatter",
         "x": [
          21.342629893606034
         ],
         "xaxis": "x",
         "y": [
          0.5590382191922322
         ],
         "yaxis": "y"
        },
        {
         "hovertemplate": "<b>%{hovertext}</b><br><br>genre=Country<br>popularity=%{x}<br>danceability=%{y}<extra></extra>",
         "hovertext": [
          "Country"
         ],
         "legendgroup": "Country",
         "marker": {
          "color": "#FECB52",
          "symbol": "circle"
         },
         "mode": "markers",
         "name": "Country",
         "orientation": "v",
         "showlegend": true,
         "type": "scatter",
         "x": [
          46.100415512465375
         ],
         "xaxis": "x",
         "y": [
          0.5770384349030471
         ],
         "yaxis": "y"
        },
        {
         "hovertemplate": "<b>%{hovertext}</b><br><br>genre=Dance<br>popularity=%{x}<br>danceability=%{y}<extra></extra>",
         "hovertext": [
          "Dance"
         ],
         "legendgroup": "Dance",
         "marker": {
          "color": "#636efa",
          "symbol": "circle"
         },
         "mode": "markers",
         "name": "Dance",
         "orientation": "v",
         "showlegend": true,
         "type": "scatter",
         "x": [
          57.27525571773359
         ],
         "xaxis": "x",
         "y": [
          0.6381911274566142
         ],
         "yaxis": "y"
        },
        {
         "hovertemplate": "<b>%{hovertext}</b><br><br>genre=Electronic<br>popularity=%{x}<br>danceability=%{y}<extra></extra>",
         "hovertext": [
          "Electronic"
         ],
         "legendgroup": "Electronic",
         "marker": {
          "color": "#EF553B",
          "symbol": "circle"
         },
         "mode": "markers",
         "name": "Electronic",
         "orientation": "v",
         "showlegend": true,
         "type": "scatter",
         "x": [
          38.05609469979738
         ],
         "xaxis": "x",
         "y": [
          0.6195421989975471
         ],
         "yaxis": "y"
        },
        {
         "hovertemplate": "<b>%{hovertext}</b><br><br>genre=Folk<br>popularity=%{x}<br>danceability=%{y}<extra></extra>",
         "hovertext": [
          "Folk"
         ],
         "legendgroup": "Folk",
         "marker": {
          "color": "#00cc96",
          "symbol": "circle"
         },
         "mode": "markers",
         "name": "Folk",
         "orientation": "v",
         "showlegend": true,
         "type": "scatter",
         "x": [
          49.94020862458329
         ],
         "xaxis": "x",
         "y": [
          0.5272760511882999
         ],
         "yaxis": "y"
        },
        {
         "hovertemplate": "<b>%{hovertext}</b><br><br>genre=Hip-Hop<br>popularity=%{x}<br>danceability=%{y}<extra></extra>",
         "hovertext": [
          "Hip-Hop"
         ],
         "legendgroup": "Hip-Hop",
         "marker": {
          "color": "#ab63fa",
          "symbol": "circle"
         },
         "mode": "markers",
         "name": "Hip-Hop",
         "orientation": "v",
         "showlegend": true,
         "type": "scatter",
         "x": [
          58.42313071543841
         ],
         "xaxis": "x",
         "y": [
          0.7188080688542227
         ],
         "yaxis": "y"
        },
        {
         "hovertemplate": "<b>%{hovertext}</b><br><br>genre=Indie<br>popularity=%{x}<br>danceability=%{y}<extra></extra>",
         "hovertext": [
          "Indie"
         ],
         "legendgroup": "Indie",
         "marker": {
          "color": "#FFA15A",
          "symbol": "circle"
         },
         "mode": "markers",
         "name": "Indie",
         "orientation": "v",
         "showlegend": true,
         "type": "scatter",
         "x": [
          54.701561353871945
         ],
         "xaxis": "x",
         "y": [
          0.5668210939955989
         ],
         "yaxis": "y"
        },
        {
         "hovertemplate": "<b>%{hovertext}</b><br><br>genre=Jazz<br>popularity=%{x}<br>danceability=%{y}<extra></extra>",
         "hovertext": [
          "Jazz"
         ],
         "legendgroup": "Jazz",
         "marker": {
          "color": "#19d3f3",
          "symbol": "circle"
         },
         "mode": "markers",
         "name": "Jazz",
         "orientation": "v",
         "showlegend": true,
         "type": "scatter",
         "x": [
          40.82438301027434
         ],
         "xaxis": "x",
         "y": [
          0.585637559580553
         ],
         "yaxis": "y"
        },
        {
         "hovertemplate": "<b>%{hovertext}</b><br><br>genre=Movie<br>popularity=%{x}<br>danceability=%{y}<extra></extra>",
         "hovertext": [
          "Movie"
         ],
         "legendgroup": "Movie",
         "marker": {
          "color": "gold",
          "symbol": "circle"
         },
         "mode": "markers",
         "name": "Movie",
         "orientation": "v",
         "showlegend": true,
         "type": "scatter",
         "x": [
          12.174096848578017
         ],
         "xaxis": "x",
         "y": [
          0.49118640789136564
         ],
         "yaxis": "y"
        },
        {
         "hovertemplate": "<b>%{hovertext}</b><br><br>genre=Opera<br>popularity=%{x}<br>danceability=%{y}<extra></extra>",
         "hovertext": [
          "Opera"
         ],
         "legendgroup": "Opera",
         "marker": {
          "color": "#FF6692",
          "symbol": "circle"
         },
         "mode": "markers",
         "name": "Opera",
         "orientation": "v",
         "showlegend": true,
         "type": "scatter",
         "x": [
          13.335628019323671
         ],
         "xaxis": "x",
         "y": [
          0.2906496376811594
         ],
         "yaxis": "y"
        },
        {
         "hovertemplate": "<b>%{hovertext}</b><br><br>genre=Pop<br>popularity=%{x}<br>danceability=%{y}<extra></extra>",
         "hovertext": [
          "Pop"
         ],
         "legendgroup": "Pop",
         "marker": {
          "color": "#B6E880",
          "symbol": "circle"
         },
         "mode": "markers",
         "name": "Pop",
         "orientation": "v",
         "showlegend": true,
         "type": "scatter",
         "x": [
          66.59066695077776
         ],
         "xaxis": "x",
         "y": [
          0.6402357766886853
         ],
         "yaxis": "y"
        },
        {
         "hovertemplate": "<b>%{hovertext}</b><br><br>genre=R&B<br>popularity=%{x}<br>danceability=%{y}<extra></extra>",
         "hovertext": [
          "R&B"
         ],
         "legendgroup": "R&B",
         "marker": {
          "color": "#FF97FF",
          "symbol": "circle"
         },
         "mode": "markers",
         "name": "R&B",
         "orientation": "v",
         "showlegend": true,
         "type": "scatter",
         "x": [
          52.30871886120996
         ],
         "xaxis": "x",
         "y": [
          0.6421246663701067
         ],
         "yaxis": "y"
        },
        {
         "hovertemplate": "<b>%{hovertext}</b><br><br>genre=Rap<br>popularity=%{x}<br>danceability=%{y}<extra></extra>",
         "hovertext": [
          "Rap"
         ],
         "legendgroup": "Rap",
         "marker": {
          "color": "#FECB52",
          "symbol": "circle"
         },
         "mode": "markers",
         "name": "Rap",
         "orientation": "v",
         "showlegend": true,
         "type": "scatter",
         "x": [
          60.53379549393414
         ],
         "xaxis": "x",
         "y": [
          0.6972442590987868
         ],
         "yaxis": "y"
        },
        {
         "hovertemplate": "<b>%{hovertext}</b><br><br>genre=Reggae<br>popularity=%{x}<br>danceability=%{y}<extra></extra>",
         "hovertext": [
          "Reggae"
         ],
         "legendgroup": "Reggae",
         "marker": {
          "color": "#636efa",
          "symbol": "circle"
         },
         "mode": "markers",
         "name": "Reggae",
         "orientation": "v",
         "showlegend": true,
         "type": "scatter",
         "x": [
          35.5893284688177
         ],
         "xaxis": "x",
         "y": [
          0.6992714627750543
         ],
         "yaxis": "y"
        },
        {
         "hovertemplate": "<b>%{hovertext}</b><br><br>genre=Reggaeton<br>popularity=%{x}<br>danceability=%{y}<extra></extra>",
         "hovertext": [
          "Reggaeton"
         ],
         "legendgroup": "Reggaeton",
         "marker": {
          "color": "#EF553B",
          "symbol": "circle"
         },
         "mode": "markers",
         "name": "Reggaeton",
         "orientation": "v",
         "showlegend": true,
         "type": "scatter",
         "x": [
          37.742914752996526
         ],
         "xaxis": "x",
         "y": [
          0.7312601097793211
         ],
         "yaxis": "y"
        },
        {
         "hovertemplate": "<b>%{hovertext}</b><br><br>genre=Rock<br>popularity=%{x}<br>danceability=%{y}<extra></extra>",
         "hovertext": [
          "Rock"
         ],
         "legendgroup": "Rock",
         "marker": {
          "color": "#00cc96",
          "symbol": "circle"
         },
         "mode": "markers",
         "name": "Rock",
         "orientation": "v",
         "showlegend": true,
         "type": "scatter",
         "x": [
          59.61939171699741
         ],
         "xaxis": "x",
         "y": [
          0.5382921807592753
         ],
         "yaxis": "y"
        },
        {
         "hovertemplate": "<b>%{hovertext}</b><br><br>genre=Ska<br>popularity=%{x}<br>danceability=%{y}<extra></extra>",
         "hovertext": [
          "Ska"
         ],
         "legendgroup": "Ska",
         "marker": {
          "color": "#ab63fa",
          "symbol": "circle"
         },
         "mode": "markers",
         "name": "Ska",
         "orientation": "v",
         "showlegend": true,
         "type": "scatter",
         "x": [
          28.6123506874014
         ],
         "xaxis": "x",
         "y": [
          0.526798985801217
         ],
         "yaxis": "y"
        },
        {
         "hovertemplate": "<b>%{hovertext}</b><br><br>genre=Soul<br>popularity=%{x}<br>danceability=%{y}<extra></extra>",
         "hovertext": [
          "Soul"
         ],
         "legendgroup": "Soul",
         "marker": {
          "color": "#FFA15A",
          "symbol": "circle"
         },
         "mode": "markers",
         "name": "Soul",
         "orientation": "v",
         "showlegend": true,
         "type": "scatter",
         "x": [
          47.02783584552756
         ],
         "xaxis": "x",
         "y": [
          0.6176450654637474
         ],
         "yaxis": "y"
        },
        {
         "hovertemplate": "<b>%{hovertext}</b><br><br>genre=Soundtrack<br>popularity=%{x}<br>danceability=%{y}<extra></extra>",
         "hovertext": [
          "Soundtrack"
         ],
         "legendgroup": "Soundtrack",
         "marker": {
          "color": "#19d3f3",
          "symbol": "circle"
         },
         "mode": "markers",
         "name": "Soundtrack",
         "orientation": "v",
         "showlegend": true,
         "type": "scatter",
         "x": [
          33.954799917064065
         ],
         "xaxis": "x",
         "y": [
          0.2656161310387726
         ],
         "yaxis": "y"
        },
        {
         "hovertemplate": "<b>%{hovertext}</b><br><br>genre=World<br>popularity=%{x}<br>danceability=%{y}<extra></extra>",
         "hovertext": [
          "World"
         ],
         "legendgroup": "World",
         "marker": {
          "color": "#FF6692",
          "symbol": "circle"
         },
         "mode": "markers",
         "name": "World",
         "orientation": "v",
         "showlegend": true,
         "type": "scatter",
         "x": [
          35.5240765171504
         ],
         "xaxis": "x",
         "y": [
          0.4432933157431838
         ],
         "yaxis": "y"
        }
       ],
       "layout": {
        "legend": {
         "title": {
          "text": "genre"
         },
         "tracegroupgap": 0
        },
        "template": {
         "data": {
          "bar": [
           {
            "error_x": {
             "color": "#2a3f5f"
            },
            "error_y": {
             "color": "#2a3f5f"
            },
            "marker": {
             "line": {
              "color": "#E5ECF6",
              "width": 0.5
             },
             "pattern": {
              "fillmode": "overlay",
              "size": 10,
              "solidity": 0.2
             }
            },
            "type": "bar"
           }
          ],
          "barpolar": [
           {
            "marker": {
             "line": {
              "color": "#E5ECF6",
              "width": 0.5
             },
             "pattern": {
              "fillmode": "overlay",
              "size": 10,
              "solidity": 0.2
             }
            },
            "type": "barpolar"
           }
          ],
          "carpet": [
           {
            "aaxis": {
             "endlinecolor": "#2a3f5f",
             "gridcolor": "white",
             "linecolor": "white",
             "minorgridcolor": "white",
             "startlinecolor": "#2a3f5f"
            },
            "baxis": {
             "endlinecolor": "#2a3f5f",
             "gridcolor": "white",
             "linecolor": "white",
             "minorgridcolor": "white",
             "startlinecolor": "#2a3f5f"
            },
            "type": "carpet"
           }
          ],
          "choropleth": [
           {
            "colorbar": {
             "outlinewidth": 0,
             "ticks": ""
            },
            "type": "choropleth"
           }
          ],
          "contour": [
           {
            "colorbar": {
             "outlinewidth": 0,
             "ticks": ""
            },
            "colorscale": [
             [
              0,
              "#0d0887"
             ],
             [
              0.1111111111111111,
              "#46039f"
             ],
             [
              0.2222222222222222,
              "#7201a8"
             ],
             [
              0.3333333333333333,
              "#9c179e"
             ],
             [
              0.4444444444444444,
              "#bd3786"
             ],
             [
              0.5555555555555556,
              "#d8576b"
             ],
             [
              0.6666666666666666,
              "#ed7953"
             ],
             [
              0.7777777777777778,
              "#fb9f3a"
             ],
             [
              0.8888888888888888,
              "#fdca26"
             ],
             [
              1,
              "#f0f921"
             ]
            ],
            "type": "contour"
           }
          ],
          "contourcarpet": [
           {
            "colorbar": {
             "outlinewidth": 0,
             "ticks": ""
            },
            "type": "contourcarpet"
           }
          ],
          "heatmap": [
           {
            "colorbar": {
             "outlinewidth": 0,
             "ticks": ""
            },
            "colorscale": [
             [
              0,
              "#0d0887"
             ],
             [
              0.1111111111111111,
              "#46039f"
             ],
             [
              0.2222222222222222,
              "#7201a8"
             ],
             [
              0.3333333333333333,
              "#9c179e"
             ],
             [
              0.4444444444444444,
              "#bd3786"
             ],
             [
              0.5555555555555556,
              "#d8576b"
             ],
             [
              0.6666666666666666,
              "#ed7953"
             ],
             [
              0.7777777777777778,
              "#fb9f3a"
             ],
             [
              0.8888888888888888,
              "#fdca26"
             ],
             [
              1,
              "#f0f921"
             ]
            ],
            "type": "heatmap"
           }
          ],
          "heatmapgl": [
           {
            "colorbar": {
             "outlinewidth": 0,
             "ticks": ""
            },
            "colorscale": [
             [
              0,
              "#0d0887"
             ],
             [
              0.1111111111111111,
              "#46039f"
             ],
             [
              0.2222222222222222,
              "#7201a8"
             ],
             [
              0.3333333333333333,
              "#9c179e"
             ],
             [
              0.4444444444444444,
              "#bd3786"
             ],
             [
              0.5555555555555556,
              "#d8576b"
             ],
             [
              0.6666666666666666,
              "#ed7953"
             ],
             [
              0.7777777777777778,
              "#fb9f3a"
             ],
             [
              0.8888888888888888,
              "#fdca26"
             ],
             [
              1,
              "#f0f921"
             ]
            ],
            "type": "heatmapgl"
           }
          ],
          "histogram": [
           {
            "marker": {
             "pattern": {
              "fillmode": "overlay",
              "size": 10,
              "solidity": 0.2
             }
            },
            "type": "histogram"
           }
          ],
          "histogram2d": [
           {
            "colorbar": {
             "outlinewidth": 0,
             "ticks": ""
            },
            "colorscale": [
             [
              0,
              "#0d0887"
             ],
             [
              0.1111111111111111,
              "#46039f"
             ],
             [
              0.2222222222222222,
              "#7201a8"
             ],
             [
              0.3333333333333333,
              "#9c179e"
             ],
             [
              0.4444444444444444,
              "#bd3786"
             ],
             [
              0.5555555555555556,
              "#d8576b"
             ],
             [
              0.6666666666666666,
              "#ed7953"
             ],
             [
              0.7777777777777778,
              "#fb9f3a"
             ],
             [
              0.8888888888888888,
              "#fdca26"
             ],
             [
              1,
              "#f0f921"
             ]
            ],
            "type": "histogram2d"
           }
          ],
          "histogram2dcontour": [
           {
            "colorbar": {
             "outlinewidth": 0,
             "ticks": ""
            },
            "colorscale": [
             [
              0,
              "#0d0887"
             ],
             [
              0.1111111111111111,
              "#46039f"
             ],
             [
              0.2222222222222222,
              "#7201a8"
             ],
             [
              0.3333333333333333,
              "#9c179e"
             ],
             [
              0.4444444444444444,
              "#bd3786"
             ],
             [
              0.5555555555555556,
              "#d8576b"
             ],
             [
              0.6666666666666666,
              "#ed7953"
             ],
             [
              0.7777777777777778,
              "#fb9f3a"
             ],
             [
              0.8888888888888888,
              "#fdca26"
             ],
             [
              1,
              "#f0f921"
             ]
            ],
            "type": "histogram2dcontour"
           }
          ],
          "mesh3d": [
           {
            "colorbar": {
             "outlinewidth": 0,
             "ticks": ""
            },
            "type": "mesh3d"
           }
          ],
          "parcoords": [
           {
            "line": {
             "colorbar": {
              "outlinewidth": 0,
              "ticks": ""
             }
            },
            "type": "parcoords"
           }
          ],
          "pie": [
           {
            "automargin": true,
            "type": "pie"
           }
          ],
          "scatter": [
           {
            "fillpattern": {
             "fillmode": "overlay",
             "size": 10,
             "solidity": 0.2
            },
            "type": "scatter"
           }
          ],
          "scatter3d": [
           {
            "line": {
             "colorbar": {
              "outlinewidth": 0,
              "ticks": ""
             }
            },
            "marker": {
             "colorbar": {
              "outlinewidth": 0,
              "ticks": ""
             }
            },
            "type": "scatter3d"
           }
          ],
          "scattercarpet": [
           {
            "marker": {
             "colorbar": {
              "outlinewidth": 0,
              "ticks": ""
             }
            },
            "type": "scattercarpet"
           }
          ],
          "scattergeo": [
           {
            "marker": {
             "colorbar": {
              "outlinewidth": 0,
              "ticks": ""
             }
            },
            "type": "scattergeo"
           }
          ],
          "scattergl": [
           {
            "marker": {
             "colorbar": {
              "outlinewidth": 0,
              "ticks": ""
             }
            },
            "type": "scattergl"
           }
          ],
          "scattermapbox": [
           {
            "marker": {
             "colorbar": {
              "outlinewidth": 0,
              "ticks": ""
             }
            },
            "type": "scattermapbox"
           }
          ],
          "scatterpolar": [
           {
            "marker": {
             "colorbar": {
              "outlinewidth": 0,
              "ticks": ""
             }
            },
            "type": "scatterpolar"
           }
          ],
          "scatterpolargl": [
           {
            "marker": {
             "colorbar": {
              "outlinewidth": 0,
              "ticks": ""
             }
            },
            "type": "scatterpolargl"
           }
          ],
          "scatterternary": [
           {
            "marker": {
             "colorbar": {
              "outlinewidth": 0,
              "ticks": ""
             }
            },
            "type": "scatterternary"
           }
          ],
          "surface": [
           {
            "colorbar": {
             "outlinewidth": 0,
             "ticks": ""
            },
            "colorscale": [
             [
              0,
              "#0d0887"
             ],
             [
              0.1111111111111111,
              "#46039f"
             ],
             [
              0.2222222222222222,
              "#7201a8"
             ],
             [
              0.3333333333333333,
              "#9c179e"
             ],
             [
              0.4444444444444444,
              "#bd3786"
             ],
             [
              0.5555555555555556,
              "#d8576b"
             ],
             [
              0.6666666666666666,
              "#ed7953"
             ],
             [
              0.7777777777777778,
              "#fb9f3a"
             ],
             [
              0.8888888888888888,
              "#fdca26"
             ],
             [
              1,
              "#f0f921"
             ]
            ],
            "type": "surface"
           }
          ],
          "table": [
           {
            "cells": {
             "fill": {
              "color": "#EBF0F8"
             },
             "line": {
              "color": "white"
             }
            },
            "header": {
             "fill": {
              "color": "#C8D4E3"
             },
             "line": {
              "color": "white"
             }
            },
            "type": "table"
           }
          ]
         },
         "layout": {
          "annotationdefaults": {
           "arrowcolor": "#2a3f5f",
           "arrowhead": 0,
           "arrowwidth": 1
          },
          "autotypenumbers": "strict",
          "coloraxis": {
           "colorbar": {
            "outlinewidth": 0,
            "ticks": ""
           }
          },
          "colorscale": {
           "diverging": [
            [
             0,
             "#8e0152"
            ],
            [
             0.1,
             "#c51b7d"
            ],
            [
             0.2,
             "#de77ae"
            ],
            [
             0.3,
             "#f1b6da"
            ],
            [
             0.4,
             "#fde0ef"
            ],
            [
             0.5,
             "#f7f7f7"
            ],
            [
             0.6,
             "#e6f5d0"
            ],
            [
             0.7,
             "#b8e186"
            ],
            [
             0.8,
             "#7fbc41"
            ],
            [
             0.9,
             "#4d9221"
            ],
            [
             1,
             "#276419"
            ]
           ],
           "sequential": [
            [
             0,
             "#0d0887"
            ],
            [
             0.1111111111111111,
             "#46039f"
            ],
            [
             0.2222222222222222,
             "#7201a8"
            ],
            [
             0.3333333333333333,
             "#9c179e"
            ],
            [
             0.4444444444444444,
             "#bd3786"
            ],
            [
             0.5555555555555556,
             "#d8576b"
            ],
            [
             0.6666666666666666,
             "#ed7953"
            ],
            [
             0.7777777777777778,
             "#fb9f3a"
            ],
            [
             0.8888888888888888,
             "#fdca26"
            ],
            [
             1,
             "#f0f921"
            ]
           ],
           "sequentialminus": [
            [
             0,
             "#0d0887"
            ],
            [
             0.1111111111111111,
             "#46039f"
            ],
            [
             0.2222222222222222,
             "#7201a8"
            ],
            [
             0.3333333333333333,
             "#9c179e"
            ],
            [
             0.4444444444444444,
             "#bd3786"
            ],
            [
             0.5555555555555556,
             "#d8576b"
            ],
            [
             0.6666666666666666,
             "#ed7953"
            ],
            [
             0.7777777777777778,
             "#fb9f3a"
            ],
            [
             0.8888888888888888,
             "#fdca26"
            ],
            [
             1,
             "#f0f921"
            ]
           ]
          },
          "colorway": [
           "#636efa",
           "#EF553B",
           "#00cc96",
           "#ab63fa",
           "#FFA15A",
           "#19d3f3",
           "#FF6692",
           "#B6E880",
           "#FF97FF",
           "#FECB52"
          ],
          "font": {
           "color": "#2a3f5f"
          },
          "geo": {
           "bgcolor": "white",
           "lakecolor": "white",
           "landcolor": "#E5ECF6",
           "showlakes": true,
           "showland": true,
           "subunitcolor": "white"
          },
          "hoverlabel": {
           "align": "left"
          },
          "hovermode": "closest",
          "mapbox": {
           "style": "light"
          },
          "paper_bgcolor": "white",
          "plot_bgcolor": "#E5ECF6",
          "polar": {
           "angularaxis": {
            "gridcolor": "white",
            "linecolor": "white",
            "ticks": ""
           },
           "bgcolor": "#E5ECF6",
           "radialaxis": {
            "gridcolor": "white",
            "linecolor": "white",
            "ticks": ""
           }
          },
          "scene": {
           "xaxis": {
            "backgroundcolor": "#E5ECF6",
            "gridcolor": "white",
            "gridwidth": 2,
            "linecolor": "white",
            "showbackground": true,
            "ticks": "",
            "zerolinecolor": "white"
           },
           "yaxis": {
            "backgroundcolor": "#E5ECF6",
            "gridcolor": "white",
            "gridwidth": 2,
            "linecolor": "white",
            "showbackground": true,
            "ticks": "",
            "zerolinecolor": "white"
           },
           "zaxis": {
            "backgroundcolor": "#E5ECF6",
            "gridcolor": "white",
            "gridwidth": 2,
            "linecolor": "white",
            "showbackground": true,
            "ticks": "",
            "zerolinecolor": "white"
           }
          },
          "shapedefaults": {
           "line": {
            "color": "#2a3f5f"
           }
          },
          "ternary": {
           "aaxis": {
            "gridcolor": "white",
            "linecolor": "white",
            "ticks": ""
           },
           "baxis": {
            "gridcolor": "white",
            "linecolor": "white",
            "ticks": ""
           },
           "bgcolor": "#E5ECF6",
           "caxis": {
            "gridcolor": "white",
            "linecolor": "white",
            "ticks": ""
           }
          },
          "title": {
           "x": 0.05
          },
          "xaxis": {
           "automargin": true,
           "gridcolor": "white",
           "linecolor": "white",
           "ticks": "",
           "title": {
            "standoff": 15
           },
           "zerolinecolor": "white",
           "zerolinewidth": 2
          },
          "yaxis": {
           "automargin": true,
           "gridcolor": "white",
           "linecolor": "white",
           "ticks": "",
           "title": {
            "standoff": 15
           },
           "zerolinecolor": "white",
           "zerolinewidth": 2
          }
         }
        },
        "title": {
         "text": "Popularity of genres through the dance"
        },
        "xaxis": {
         "anchor": "y",
         "domain": [
          0,
          1
         ],
         "title": {
          "text": "popularity"
         }
        },
        "yaxis": {
         "anchor": "x",
         "domain": [
          0,
          1
         ],
         "title": {
          "text": "danceability"
         }
        }
       }
      }
     },
     "metadata": {},
     "output_type": "display_data"
    }
   ],
   "source": [
    "custom_color = {'Movie':'gold'}\n",
    "\n",
    "fig = px.scatter(dfmean, x='popularity', y='danceability', color=dfmean.index, hover_name=dfmean.index, log_x=False,\n",
    "                 color_discrete_map=custom_color, title=\"Popularity of genres through the dance\"\n",
    "                )\n",
    "fig"
   ]
  }
 ],
 "metadata": {
  "interpreter": {
   "hash": "916dbcbb3f70747c44a77c7bcd40155683ae19c65e1c03b4aa3499c5328201f1"
  },
  "kernelspec": {
   "display_name": "Python 3.8.10 64-bit",
   "language": "python",
   "name": "python3"
  },
  "language_info": {
   "codemirror_mode": {
    "name": "ipython",
    "version": 3
   },
   "file_extension": ".py",
   "mimetype": "text/x-python",
   "name": "python",
   "nbconvert_exporter": "python",
   "pygments_lexer": "ipython3",
   "version": "3.8.10"
  },
  "orig_nbformat": 4
 },
 "nbformat": 4,
 "nbformat_minor": 2
}
