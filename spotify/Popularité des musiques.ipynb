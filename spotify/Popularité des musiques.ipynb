{
 "cells": [
  {
   "cell_type": "markdown",
   "metadata": {},
   "source": [
    "# Mise en valeur des caractéristiques musicales qui influent sur la popularité d'une musique\n",
    "\n",
    "Voici les deux bases de données sur lesquelles on a pu travailler :\n",
    "- Popularité, genre et caractéristiques : (https://www.kaggle.com/zaheenhamidani/ultimate-spotify-tracks-db)\n",
    "- Régions, nombre d'écoutes et évolution de la popularité : (https://www.kaggle.com/dhruvildave/spotify-charts)\n",
    "\n",
    "Les fichiers qui y sont liés sont dans le dossier resources et sont nommés SpotifyFeatures.csv, charts.csv."
   ]
  },
  {
   "cell_type": "code",
   "execution_count": 19,
   "metadata": {},
   "outputs": [
    {
     "ename": "ImportError",
     "evalue": "Plotly express requires pandas to be installed.",
     "output_type": "error",
     "traceback": [
      "\u001b[0;31m---------------------------------------------------------------------------\u001b[0m",
      "\u001b[0;31mImportError\u001b[0m                               Traceback (most recent call last)",
      "\u001b[1;32m/home/ambrosinot/Documents/PYBD/delta_spotify/spotify/Popularité des musiques.ipynb Cell 2'\u001b[0m in \u001b[0;36m<cell line: 1>\u001b[0;34m()\u001b[0m\n\u001b[0;32m----> <a href='vscode-notebook-cell:/home/ambrosinot/Documents/PYBD/delta_spotify/spotify/Popularit%C3%A9%20des%20musiques.ipynb#ch0000001?line=0'>1</a>\u001b[0m \u001b[39mimport\u001b[39;00m \u001b[39mplotly_express\u001b[39;00m \u001b[39mas\u001b[39;00m \u001b[39mpx\u001b[39;00m\n\u001b[1;32m      <a href='vscode-notebook-cell:/home/ambrosinot/Documents/PYBD/delta_spotify/spotify/Popularit%C3%A9%20des%20musiques.ipynb#ch0000001?line=1'>2</a>\u001b[0m \u001b[39mimport\u001b[39;00m \u001b[39mpandas\u001b[39;00m \u001b[39mas\u001b[39;00m \u001b[39mpd\u001b[39;00m\n\u001b[1;32m      <a href='vscode-notebook-cell:/home/ambrosinot/Documents/PYBD/delta_spotify/spotify/Popularit%C3%A9%20des%20musiques.ipynb#ch0000001?line=2'>3</a>\u001b[0m \u001b[39mimport\u001b[39;00m \u001b[39mplotly\u001b[39;00m \u001b[39mas\u001b[39;00m \u001b[39mpt\u001b[39;00m\n",
      "File \u001b[0;32m~/.local/lib/python3.8/site-packages/plotly_express/__init__.py:7\u001b[0m, in \u001b[0;36m<module>\u001b[0;34m\u001b[0m\n\u001b[1;32m      <a href='file:///home/ambrosinot/.local/lib/python3.8/site-packages/plotly_express/__init__.py?line=0'>1</a>\u001b[0m \u001b[39m\"\"\"\u001b[39;00m\n\u001b[1;32m      <a href='file:///home/ambrosinot/.local/lib/python3.8/site-packages/plotly_express/__init__.py?line=1'>2</a>\u001b[0m \u001b[39m`plotly_express` is now an alias for `plotly.express`\u001b[39;00m\n\u001b[1;32m      <a href='file:///home/ambrosinot/.local/lib/python3.8/site-packages/plotly_express/__init__.py?line=2'>3</a>\u001b[0m \u001b[39m\"\"\"\u001b[39;00m\n\u001b[1;32m      <a href='file:///home/ambrosinot/.local/lib/python3.8/site-packages/plotly_express/__init__.py?line=4'>5</a>\u001b[0m __version__ \u001b[39m=\u001b[39m \u001b[39m\"\u001b[39m\u001b[39m0.4.1\u001b[39m\u001b[39m\"\u001b[39m  \u001b[39m# sync with setup.py!\u001b[39;00m\n\u001b[0;32m----> <a href='file:///home/ambrosinot/.local/lib/python3.8/site-packages/plotly_express/__init__.py?line=6'>7</a>\u001b[0m \u001b[39mfrom\u001b[39;00m \u001b[39mplotly\u001b[39;00m\u001b[39m.\u001b[39;00m\u001b[39mexpress\u001b[39;00m \u001b[39mimport\u001b[39;00m \u001b[39m*\u001b[39m\n",
      "File \u001b[0;32m~/.local/lib/python3.8/site-packages/plotly/express/__init__.py:10\u001b[0m, in \u001b[0;36m<module>\u001b[0;34m\u001b[0m\n\u001b[1;32m      <a href='file:///home/ambrosinot/.local/lib/python3.8/site-packages/plotly/express/__init__.py?line=7'>8</a>\u001b[0m pd \u001b[39m=\u001b[39m optional_imports\u001b[39m.\u001b[39mget_module(\u001b[39m\"\u001b[39m\u001b[39mpandas\u001b[39m\u001b[39m\"\u001b[39m)\n\u001b[1;32m      <a href='file:///home/ambrosinot/.local/lib/python3.8/site-packages/plotly/express/__init__.py?line=8'>9</a>\u001b[0m \u001b[39mif\u001b[39;00m pd \u001b[39mis\u001b[39;00m \u001b[39mNone\u001b[39;00m:\n\u001b[0;32m---> <a href='file:///home/ambrosinot/.local/lib/python3.8/site-packages/plotly/express/__init__.py?line=9'>10</a>\u001b[0m     \u001b[39mraise\u001b[39;00m \u001b[39mImportError\u001b[39;00m(\n\u001b[1;32m     <a href='file:///home/ambrosinot/.local/lib/python3.8/site-packages/plotly/express/__init__.py?line=10'>11</a>\u001b[0m         \u001b[39m\"\"\"\\\u001b[39;00m\n\u001b[1;32m     <a href='file:///home/ambrosinot/.local/lib/python3.8/site-packages/plotly/express/__init__.py?line=11'>12</a>\u001b[0m \u001b[39mPlotly express requires pandas to be installed.\"\"\"\u001b[39;00m\n\u001b[1;32m     <a href='file:///home/ambrosinot/.local/lib/python3.8/site-packages/plotly/express/__init__.py?line=12'>13</a>\u001b[0m     )\n\u001b[1;32m     <a href='file:///home/ambrosinot/.local/lib/python3.8/site-packages/plotly/express/__init__.py?line=14'>15</a>\u001b[0m \u001b[39mfrom\u001b[39;00m \u001b[39m.\u001b[39;00m\u001b[39m_imshow\u001b[39;00m \u001b[39mimport\u001b[39;00m imshow\n\u001b[1;32m     <a href='file:///home/ambrosinot/.local/lib/python3.8/site-packages/plotly/express/__init__.py?line=15'>16</a>\u001b[0m \u001b[39mfrom\u001b[39;00m \u001b[39m.\u001b[39;00m\u001b[39m_chart_types\u001b[39;00m \u001b[39mimport\u001b[39;00m (  \u001b[39m# noqa: F401\u001b[39;00m\n\u001b[1;32m     <a href='file:///home/ambrosinot/.local/lib/python3.8/site-packages/plotly/express/__init__.py?line=16'>17</a>\u001b[0m     scatter,\n\u001b[1;32m     <a href='file:///home/ambrosinot/.local/lib/python3.8/site-packages/plotly/express/__init__.py?line=17'>18</a>\u001b[0m     scatter_3d,\n\u001b[0;32m   (...)\u001b[0m\n\u001b[1;32m     <a href='file:///home/ambrosinot/.local/lib/python3.8/site-packages/plotly/express/__init__.py?line=50'>51</a>\u001b[0m     density_mapbox,\n\u001b[1;32m     <a href='file:///home/ambrosinot/.local/lib/python3.8/site-packages/plotly/express/__init__.py?line=51'>52</a>\u001b[0m )\n",
      "\u001b[0;31mImportError\u001b[0m: Plotly express requires pandas to be installed."
     ]
    }
   ],
   "source": [
    "import plotly_express as px\n",
    "import pandas as pd\n",
    "import plotly as pt\n",
    "import numpy as np\n",
    "import plotly.graph_objects as go\n",
    "\n",
    "import dash\n",
    "from dash import dcc\n",
    "from dash import html\n",
    "\n",
    "pd.options.plotting.backend = \"plotly\""
   ]
  },
  {
   "cell_type": "markdown",
   "metadata": {},
   "source": [
    "Début de la database **SpotifyFeatures.csv**"
   ]
  },
  {
   "cell_type": "code",
   "execution_count": null,
   "metadata": {},
   "outputs": [],
   "source": [
    "df = pd.read_csv(\"data/SpotifyFeatures.csv\")\n",
    "\n",
    "df.head()"
   ]
  },
  {
   "cell_type": "markdown",
   "metadata": {},
   "source": [
    "\n",
    "Début de la database **charts.csv**"
   ]
  },
  {
   "cell_type": "code",
   "execution_count": null,
   "metadata": {},
   "outputs": [],
   "source": [
    "df2 = pd.read_csv(\"data/charts.csv\")\n",
    "\n",
    "df2.head()"
   ]
  },
  {
   "cell_type": "code",
   "execution_count": null,
   "metadata": {},
   "outputs": [],
   "source": [
    "df2.drop(columns=['Unnamed: 0'])"
   ]
  },
  {
   "cell_type": "markdown",
   "metadata": {},
   "source": [
    "## Découpage des bases de données\n",
    "\n",
    "La base de données initialement récuperée sur kaggle avait une taille de 3GB de données, cela ne rendant pas pertinant l'utilisation de l'entièreté de cette dernière. En effet, cette base de données est mise à jour depuis début 2017 jusq'à fin 2021 où chaque jour des nouvelles données\n",
    "\n",
    "decembre database pas a jour donc on choisi novembre\n",
    "\n",
    "\n",
    "Ligne pour avoir les dates :\n",
    "np.unique(df2.date)\n",
    "\n",
    "Ligne pour couper les dates dont on a pas besoin\n",
    "df2 = df2.drop(df2[df2.date != \"2021-11-30\"].index)\n",
    "\n",
    "Ligne pour réinitialiser l'index\n",
    "df2 = df2.reset_index(inplace=True)\n",
    "\n",
    "Ligne pour supprimer l'ancienne colonne d'index\n",
    "df2 = df2.drop(columns=['index', 'level_0'])\n",
    "\n",
    "Ligne pour réecrire la base données\n",
    "df2.to_csv(\"resources/charts.csv\")"
   ]
  },
  {
   "cell_type": "markdown",
   "metadata": {},
   "source": [
    "\n",
    "## Merging"
   ]
  },
  {
   "cell_type": "code",
   "execution_count": null,
   "metadata": {},
   "outputs": [],
   "source": [
    "df.rename(columns={'artist_name':'artist', 'track_name':'title'})\n",
    "# pd.merge(df, df2, on='artist', how='')\n",
    "# df.set_index('artist').join(df2.set_index('artist'), lsuffix='_left', how='outer')"
   ]
  },
  {
   "cell_type": "code",
   "execution_count": null,
   "metadata": {},
   "outputs": [],
   "source": [
    "dfmean = df.drop(columns=['artist', 'title', 'track_id', 'key', 'mode', 'time_signature'])"
   ]
  },
  {
   "cell_type": "code",
   "execution_count": null,
   "metadata": {},
   "outputs": [],
   "source": [
    "dfmean = dfmean.groupby(['genre']).mean()"
   ]
  },
  {
   "cell_type": "markdown",
   "metadata": {},
   "source": [
    "## Affichage"
   ]
  },
  {
   "cell_type": "code",
   "execution_count": null,
   "metadata": {},
   "outputs": [],
   "source": [
    "custom_color = {'Movie':'gold'}\n",
    "\n",
    "fig = px.scatter(dfmean, x='popularity', y='danceability', color=dfmean.index, hover_name=dfmean.index, log_x=False,\n",
    "                 color_discrete_map=custom_color, title=\"Popularity of genres through the dance\"\n",
    "                )\n",
    "fig"
   ]
  }
 ],
 "metadata": {
  "interpreter": {
   "hash": "916dbcbb3f70747c44a77c7bcd40155683ae19c65e1c03b4aa3499c5328201f1"
  },
  "kernelspec": {
   "display_name": "Python 3.8.10 64-bit",
   "language": "python",
   "name": "python3"
  },
  "language_info": {
   "codemirror_mode": {
    "name": "ipython",
    "version": 3
   },
   "file_extension": ".py",
   "mimetype": "text/x-python",
   "name": "python",
   "nbconvert_exporter": "python",
   "pygments_lexer": "ipython3",
   "version": "3.8.10"
  },
  "orig_nbformat": 4
 },
 "nbformat": 4,
 "nbformat_minor": 2
}
