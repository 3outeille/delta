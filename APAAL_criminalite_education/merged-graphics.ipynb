{
 "cells": [
  {
   "cell_type": "code",
   "execution_count": null,
   "metadata": {},
   "outputs": [],
   "source": [
    "import pandas as pd\n",
    "import numpy as np\n",
    "import datetime\n",
    "import plotly.express as px\n",
    "import json"
   ]
  },
  {
   "cell_type": "markdown",
   "metadata": {},
   "source": [
    "# Get CSV files "
   ]
  },
  {
   "cell_type": "code",
   "execution_count": null,
   "metadata": {},
   "outputs": [],
   "source": [
    "# Crime data\n",
    "crimes_csv = \"data/reductedDB_2015-2017.csv\"\n",
    "crimes_df = pd.read_csv(crimes_csv, parse_dates=[0])\n",
    "\n",
    "# School data\n",
    "education_csv = \"data/education.csv\"\n",
    "education_df = pd.read_csv(education_csv)"
   ]
  },
  {
   "cell_type": "markdown",
   "metadata": {},
   "source": [
    "# Get Geojson files"
   ]
  },
  {
   "cell_type": "code",
   "execution_count": null,
   "metadata": {},
   "outputs": [],
   "source": [
    "zip_codes = json.load(open('data/zip_codes.geojson'))\n",
    "geo_wards = json.load(open('data/ward-map/boudaries-wards.geojson'))"
   ]
  },
  {
   "cell_type": "markdown",
   "metadata": {},
   "source": [
    "# Load DB"
   ]
  },
  {
   "cell_type": "code",
   "execution_count": null,
   "metadata": {},
   "outputs": [],
   "source": [
    "# Crime DB\n",
    "ward_count = crimes_df.drop(crimes_df.columns.difference(['Ward', 'IUCR']), axis=1)\n",
    "ward_count = ward_count.groupby(by='Ward', as_index=False).count()\n",
    "ward_count = ward_count.rename(columns={'IUCR':'Nb of crimes'})\n",
    "\n",
    "# School DB\n",
    "attendance_zip = education_df.groupby('zip', as_index=False).mean()"
   ]
  },
  {
   "cell_type": "code",
   "execution_count": null,
   "metadata": {},
   "outputs": [],
   "source": [
    "# Crime map\n",
    "fig = px.choropleth_mapbox(ward_count, geojson=geo_wards, \n",
    "                           locations='Ward', featureidkey = 'properties.ward',\n",
    "                           color='Nb of crimes', color_continuous_scale=['green', 'yellow', 'red'],\n",
    "                           mapbox_style=\"carto-positron\",\n",
    "                           zoom=9, center = {\"lat\": 41.8375, \"lon\": -87.5440}, # Chicago : 41° 52′ 55″ N, 87° 34′ 40″ O\n",
    "                           opacity=0.5,\n",
    "                           labels={'Crimes':'Crime repartition between Chicago wards between 2015 and 2017'}\n",
    "                          )\n",
    "fig.update_layout(margin={\"r\":0,\"t\":0,\"l\":0,\"b\":0})\n",
    "fig"
   ]
  },
  {
   "cell_type": "code",
   "execution_count": null,
   "metadata": {},
   "outputs": [],
   "source": [
    "# School map\n",
    "fig = px.choropleth_mapbox(attendance_zip, geojson=zip_codes, \n",
    "                           locations='zip', featureidkey = 'properties.zip',\n",
    "                           color='suspension', color_continuous_scale=['green', 'yellow' ,'red'],\n",
    "                           mapbox_style=\"carto-positron\",\n",
    "                           zoom=9, center = {\"lat\": 41.8375, \"lon\": -87.5440}, # Chicago : 41° 52′ 55″ N, 87° 34′ 40″ O\n",
    "                           opacity=0.5,\n",
    "                           labels={'suspension':'Student average suspension (%)'}\n",
    "                          )\n",
    "fig.update_layout(margin={\"r\":0,\"t\":0,\"l\":0,\"b\":0})\n",
    "fig"
   ]
  }
 ],
 "metadata": {
  "kernelspec": {
   "display_name": "Python 3",
   "language": "python",
   "name": "python3"
  },
  "language_info": {
   "codemirror_mode": {
    "name": "ipython",
    "version": 3
   },
   "file_extension": ".py",
   "mimetype": "text/x-python",
   "name": "python",
   "nbconvert_exporter": "python",
   "pygments_lexer": "ipython3",
   "version": "3.8.10"
  }
 },
 "nbformat": 4,
 "nbformat_minor": 4
}
