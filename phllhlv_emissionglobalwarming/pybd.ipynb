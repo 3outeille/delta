{
 "cells": [
  {
   "cell_type": "code",
   "execution_count": 17,
   "metadata": {
    "pycharm": {
     "name": "#%%\n"
    }
   },
   "outputs": [],
   "source": [
    "import pandas as pd\n",
    "import numpy as np\n",
    "import matplotlib.pyplot as plt\n",
    "import plotly.offline as py"
   ]
  },
  {
   "cell_type": "code",
   "execution_count": 18,
   "metadata": {
    "collapsed": false,
    "jupyter": {
     "outputs_hidden": false
    },
    "pycharm": {
     "name": "#%%\n"
    }
   },
   "outputs": [],
   "source": [
    "temp_country = pd.read_csv('data/bad_global_land_temperatures_by_country.csv')"
   ]
  },
  {
   "cell_type": "code",
   "execution_count": 19,
   "metadata": {
    "collapsed": false,
    "jupyter": {
     "outputs_hidden": false
    },
    "pycharm": {
     "name": "#%%\n"
    }
   },
   "outputs": [],
   "source": [
    "#Removing the duplicated countries and countries for which no information about the temperature\n",
    "temp_country_clean = temp_country[~temp_country['Country'].isin(\n",
    "    ['Denmark', 'Antarctica', 'France', 'Europe', 'Netherlands', 'United Kingdom', 'Africa', 'South America'])]\n",
    "temp_country_clean = temp_country_clean.replace(\n",
    "    ['Denmark (Europe)', 'France (Europe)', 'Netherlands (Europe)', 'United Kingdom (Europe)'],\n",
    "    ['Denmark', 'France', 'Netherlands', 'United Kingdom'])"
   ]
  },
  {
   "cell_type": "code",
   "execution_count": 20,
   "metadata": {
    "collapsed": false,
    "jupyter": {
     "outputs_hidden": false
    },
    "pycharm": {
     "name": "#%%\n"
    }
   },
   "outputs": [],
   "source": [
    "temp_country_clean['dt'] = pd.to_datetime(temp_country_clean['dt'])"
   ]
  },
  {
   "cell_type": "code",
   "execution_count": 21,
   "metadata": {
    "collapsed": false,
    "jupyter": {
     "outputs_hidden": false
    },
    "pycharm": {
     "name": "#%%\n"
    }
   },
   "outputs": [
    {
     "data": {
      "text/plain": "               dt  AverageTemperature  AverageTemperatureUncertainty   Country\n1874   1900-01-01              -3.026                          0.538     Åland\n1875   1900-02-01              -8.063                          0.657     Åland\n1876   1900-03-01              -3.196                          0.467     Åland\n1877   1900-04-01               0.781                          0.224     Åland\n1878   1900-05-01               4.960                          0.503     Åland\n...           ...                 ...                            ...       ...\n577457 2013-05-01              19.059                          1.022  Zimbabwe\n577458 2013-06-01              17.613                          0.473  Zimbabwe\n577459 2013-07-01              17.000                          0.453  Zimbabwe\n577460 2013-08-01              19.759                          0.717  Zimbabwe\n577461 2013-09-01                 NaN                            NaN  Zimbabwe\n\n[319549 rows x 4 columns]",
      "text/html": "<div>\n<style scoped>\n    .dataframe tbody tr th:only-of-type {\n        vertical-align: middle;\n    }\n\n    .dataframe tbody tr th {\n        vertical-align: top;\n    }\n\n    .dataframe thead th {\n        text-align: right;\n    }\n</style>\n<table border=\"1\" class=\"dataframe\">\n  <thead>\n    <tr style=\"text-align: right;\">\n      <th></th>\n      <th>dt</th>\n      <th>AverageTemperature</th>\n      <th>AverageTemperatureUncertainty</th>\n      <th>Country</th>\n    </tr>\n  </thead>\n  <tbody>\n    <tr>\n      <th>1874</th>\n      <td>1900-01-01</td>\n      <td>-3.026</td>\n      <td>0.538</td>\n      <td>Åland</td>\n    </tr>\n    <tr>\n      <th>1875</th>\n      <td>1900-02-01</td>\n      <td>-8.063</td>\n      <td>0.657</td>\n      <td>Åland</td>\n    </tr>\n    <tr>\n      <th>1876</th>\n      <td>1900-03-01</td>\n      <td>-3.196</td>\n      <td>0.467</td>\n      <td>Åland</td>\n    </tr>\n    <tr>\n      <th>1877</th>\n      <td>1900-04-01</td>\n      <td>0.781</td>\n      <td>0.224</td>\n      <td>Åland</td>\n    </tr>\n    <tr>\n      <th>1878</th>\n      <td>1900-05-01</td>\n      <td>4.960</td>\n      <td>0.503</td>\n      <td>Åland</td>\n    </tr>\n    <tr>\n      <th>...</th>\n      <td>...</td>\n      <td>...</td>\n      <td>...</td>\n      <td>...</td>\n    </tr>\n    <tr>\n      <th>577457</th>\n      <td>2013-05-01</td>\n      <td>19.059</td>\n      <td>1.022</td>\n      <td>Zimbabwe</td>\n    </tr>\n    <tr>\n      <th>577458</th>\n      <td>2013-06-01</td>\n      <td>17.613</td>\n      <td>0.473</td>\n      <td>Zimbabwe</td>\n    </tr>\n    <tr>\n      <th>577459</th>\n      <td>2013-07-01</td>\n      <td>17.000</td>\n      <td>0.453</td>\n      <td>Zimbabwe</td>\n    </tr>\n    <tr>\n      <th>577460</th>\n      <td>2013-08-01</td>\n      <td>19.759</td>\n      <td>0.717</td>\n      <td>Zimbabwe</td>\n    </tr>\n    <tr>\n      <th>577461</th>\n      <td>2013-09-01</td>\n      <td>NaN</td>\n      <td>NaN</td>\n      <td>Zimbabwe</td>\n    </tr>\n  </tbody>\n</table>\n<p>319549 rows × 4 columns</p>\n</div>"
     },
     "execution_count": 21,
     "metadata": {},
     "output_type": "execute_result"
    }
   ],
   "source": [
    "start_date = pd.to_datetime('1900-1-1')\n",
    "end_date = pd.to_datetime('2013-1-1')\n",
    "mask = temp_country_clean['dt'] >= start_date\n",
    "temp_country_1900 = temp_country_clean.loc[mask]\n",
    "temp_country_1900"
   ]
  },
  {
   "cell_type": "code",
   "execution_count": 22,
   "metadata": {
    "collapsed": false,
    "jupyter": {
     "outputs_hidden": false
    },
    "pycharm": {
     "name": "#%%\n"
    }
   },
   "outputs": [
    {
     "data": {
      "text/plain": "       Year         Country  AverageTemperature\n0      1900     Afghanistan           13.749333\n1      1900         Albania           13.068583\n2      1900         Algeria           22.864167\n3      1900  American Samoa           26.273500\n4      1900         Andorra           11.348333\n...     ...             ...                 ...\n26683  2013  Western Sahara           23.744250\n26684  2013           Yemen           28.129750\n26685  2013          Zambia           21.196000\n26686  2013        Zimbabwe           20.710750\n26687  2013           Åland            6.229750\n\n[26688 rows x 3 columns]",
      "text/html": "<div>\n<style scoped>\n    .dataframe tbody tr th:only-of-type {\n        vertical-align: middle;\n    }\n\n    .dataframe tbody tr th {\n        vertical-align: top;\n    }\n\n    .dataframe thead th {\n        text-align: right;\n    }\n</style>\n<table border=\"1\" class=\"dataframe\">\n  <thead>\n    <tr style=\"text-align: right;\">\n      <th></th>\n      <th>Year</th>\n      <th>Country</th>\n      <th>AverageTemperature</th>\n    </tr>\n  </thead>\n  <tbody>\n    <tr>\n      <th>0</th>\n      <td>1900</td>\n      <td>Afghanistan</td>\n      <td>13.749333</td>\n    </tr>\n    <tr>\n      <th>1</th>\n      <td>1900</td>\n      <td>Albania</td>\n      <td>13.068583</td>\n    </tr>\n    <tr>\n      <th>2</th>\n      <td>1900</td>\n      <td>Algeria</td>\n      <td>22.864167</td>\n    </tr>\n    <tr>\n      <th>3</th>\n      <td>1900</td>\n      <td>American Samoa</td>\n      <td>26.273500</td>\n    </tr>\n    <tr>\n      <th>4</th>\n      <td>1900</td>\n      <td>Andorra</td>\n      <td>11.348333</td>\n    </tr>\n    <tr>\n      <th>...</th>\n      <td>...</td>\n      <td>...</td>\n      <td>...</td>\n    </tr>\n    <tr>\n      <th>26683</th>\n      <td>2013</td>\n      <td>Western Sahara</td>\n      <td>23.744250</td>\n    </tr>\n    <tr>\n      <th>26684</th>\n      <td>2013</td>\n      <td>Yemen</td>\n      <td>28.129750</td>\n    </tr>\n    <tr>\n      <th>26685</th>\n      <td>2013</td>\n      <td>Zambia</td>\n      <td>21.196000</td>\n    </tr>\n    <tr>\n      <th>26686</th>\n      <td>2013</td>\n      <td>Zimbabwe</td>\n      <td>20.710750</td>\n    </tr>\n    <tr>\n      <th>26687</th>\n      <td>2013</td>\n      <td>Åland</td>\n      <td>6.229750</td>\n    </tr>\n  </tbody>\n</table>\n<p>26688 rows × 3 columns</p>\n</div>"
     },
     "execution_count": 22,
     "metadata": {},
     "output_type": "execute_result"
    }
   ],
   "source": [
    "temp_country_yearly = temp_country_1900.groupby([pd.Grouper(key='dt', freq='Y'), 'Country'])[\n",
    "    'AverageTemperature'].mean().reset_index(name='Year')\n",
    "temp_country_yearly.rename(columns={'dt': 'Year', 'Year': 'AverageTemperature'}, inplace=True)\n",
    "temp_country_yearly['Year'] = pd.DatetimeIndex(temp_country_yearly['Year']).year\n",
    "temp_country_yearly"
   ]
  },
  {
   "cell_type": "code",
   "execution_count": 23,
   "metadata": {
    "collapsed": false,
    "jupyter": {
     "outputs_hidden": false
    },
    "pycharm": {
     "name": "#%%\n"
    }
   },
   "outputs": [],
   "source": [
    "countries = np.unique(temp_country_yearly['Country'])\n",
    "temp_dif_lst = []\n",
    "for country in countries:\n",
    "    country_temp = temp_country_yearly[(temp_country_yearly['Country'] == country) & (\n",
    "                (temp_country_yearly['Year'] == 2013) | (temp_country_yearly['Year'] == 1900))][\n",
    "        'AverageTemperature'].diff()\n",
    "    country_temp.drop(index=country_temp.index[0], axis=0,\n",
    "                      inplace=True)\n",
    "    temp_dif_country = country_temp.values\n",
    "    if len(temp_dif_country) > 0:\n",
    "        temp_dif_lst.append(temp_dif_country[0])\n"
   ]
  },
  {
   "cell_type": "code",
   "execution_count": 24,
   "metadata": {
    "collapsed": false,
    "jupyter": {
     "outputs_hidden": false
    },
    "pycharm": {
     "name": "#%%\n"
    }
   },
   "outputs": [
    {
     "data": {
      "application/vnd.plotly.v1+json": {
       "data": [
        {
         "type": "choropleth",
         "locations": [
          "Afghanistan",
          "Albania",
          "Algeria",
          "American Samoa",
          "Andorra",
          "Angola",
          "Anguilla",
          "Antigua And Barbuda",
          "Argentina",
          "Armenia",
          "Aruba",
          "Asia",
          "Australia",
          "Austria",
          "Azerbaijan",
          "Bahamas",
          "Bahrain",
          "Baker Island",
          "Bangladesh",
          "Barbados",
          "Belarus",
          "Belgium",
          "Belize",
          "Benin",
          "Bhutan",
          "Bolivia",
          "Bonaire, Saint Eustatius And Saba",
          "Bosnia And Herzegovina",
          "Botswana",
          "Brazil",
          "British Virgin Islands",
          "Bulgaria",
          "Burkina Faso",
          "Burma",
          "Burundi",
          "Cambodia",
          "Cameroon",
          "Canada",
          "Cape Verde",
          "Cayman Islands",
          "Central African Republic",
          "Chad",
          "Chile",
          "China",
          "Christmas Island",
          "Colombia",
          "Comoros",
          "Congo",
          "Congo (Democratic Republic Of The)",
          "Costa Rica",
          "Croatia",
          "Cuba",
          "Curaçao",
          "Cyprus",
          "Czech Republic",
          "Côte D'Ivoire",
          "Denmark",
          "Djibouti",
          "Dominica",
          "Dominican Republic",
          "Ecuador",
          "Egypt",
          "El Salvador",
          "Equatorial Guinea",
          "Eritrea",
          "Estonia",
          "Ethiopia",
          "Falkland Islands (Islas Malvinas)",
          "Faroe Islands",
          "Federated States Of Micronesia",
          "Fiji",
          "Finland",
          "France",
          "French Guiana",
          "French Polynesia",
          "French Southern And Antarctic Lands",
          "Gabon",
          "Gambia",
          "Gaza Strip",
          "Georgia",
          "Germany",
          "Ghana",
          "Greece",
          "Greenland",
          "Grenada",
          "Guadeloupe",
          "Guam",
          "Guatemala",
          "Guernsey",
          "Guinea",
          "Guinea Bissau",
          "Guyana",
          "Haiti",
          "Heard Island And Mcdonald Islands",
          "Honduras",
          "Hong Kong",
          "Hungary",
          "Iceland",
          "India",
          "Indonesia",
          "Iran",
          "Iraq",
          "Ireland",
          "Isle Of Man",
          "Israel",
          "Italy",
          "Jamaica",
          "Japan",
          "Jersey",
          "Jordan",
          "Kazakhstan",
          "Kenya",
          "Kingman Reef",
          "Kiribati",
          "Kuwait",
          "Kyrgyzstan",
          "Laos",
          "Latvia",
          "Lebanon",
          "Lesotho",
          "Liberia",
          "Libya",
          "Liechtenstein",
          "Lithuania",
          "Luxembourg",
          "Macau",
          "Macedonia",
          "Madagascar",
          "Malawi",
          "Malaysia",
          "Mali",
          "Malta",
          "Martinique",
          "Mauritania",
          "Mauritius",
          "Mayotte",
          "Mexico",
          "Moldova",
          "Monaco",
          "Mongolia",
          "Montenegro",
          "Montserrat",
          "Morocco",
          "Mozambique",
          "Namibia",
          "Nepal",
          "Netherlands",
          "New Caledonia",
          "New Zealand",
          "Nicaragua",
          "Niger",
          "Nigeria",
          "Niue",
          "North America",
          "North Korea",
          "Northern Mariana Islands",
          "Norway",
          "Oceania",
          "Oman",
          "Pakistan",
          "Palau",
          "Palestina",
          "Palmyra Atoll",
          "Panama",
          "Papua New Guinea",
          "Paraguay",
          "Peru",
          "Philippines",
          "Poland",
          "Portugal",
          "Puerto Rico",
          "Qatar",
          "Reunion",
          "Romania",
          "Russia",
          "Rwanda",
          "Saint Barthélemy",
          "Saint Kitts And Nevis",
          "Saint Lucia",
          "Saint Martin",
          "Saint Pierre And Miquelon",
          "Saint Vincent And The Grenadines",
          "Samoa",
          "San Marino",
          "Sao Tome And Principe",
          "Saudi Arabia",
          "Senegal",
          "Serbia",
          "Seychelles",
          "Sierra Leone",
          "Singapore",
          "Sint Maarten",
          "Slovakia",
          "Slovenia",
          "Solomon Islands",
          "Somalia",
          "South Africa",
          "South Georgia And The South Sandwich Isla",
          "South Korea",
          "Spain",
          "Sri Lanka",
          "Sudan",
          "Suriname",
          "Svalbard And Jan Mayen",
          "Swaziland",
          "Sweden",
          "Switzerland",
          "Syria",
          "Taiwan",
          "Tajikistan",
          "Tanzania",
          "Thailand",
          "Timor Leste",
          "Togo",
          "Tonga",
          "Trinidad And Tobago",
          "Tunisia",
          "Turkey",
          "Turkmenistan",
          "Turks And Caicas Islands",
          "Uganda",
          "Ukraine",
          "United Arab Emirates",
          "United Kingdom",
          "United States",
          "Uruguay",
          "Uzbekistan",
          "Venezuela",
          "Vietnam",
          "Virgin Islands",
          "Western Sahara",
          "Yemen",
          "Zambia",
          "Zimbabwe",
          "Åland"
         ],
         "z": [
          2.7842916666666664,
          1.9252916666666664,
          2.257333333333335,
          1.2437500000000021,
          0.9595416666666647,
          0.7179583333333319,
          0.9562499999999972,
          1.0197083333333339,
          -0.350125000000002,
          3.0999999999999996,
          0.5133333333333319,
          2.9063749999999997,
          0.3762916666666669,
          1.384875000000001,
          3.5913749999999993,
          0.9542500000000018,
          2.026125000000004,
          1.2012499999999982,
          0.7484166666666674,
          0.9719583333333333,
          2.4465000000000003,
          0.27279166666666477,
          1.6649166666666666,
          1.130874999999996,
          1.3148750000000007,
          -0.47237499999999955,
          0.6956249999999997,
          1.9697499999999994,
          -0.19566666666666777,
          0.4432916666666671,
          1.198166666666669,
          2.449041666666666,
          1.40475,
          1.2509583333333296,
          0.782,
          1.628375000000002,
          1.1842916666666667,
          3.3780833333333327,
          0.4794166666666655,
          0.9664722222222224,
          1.157041666666668,
          1.5081666666666713,
          0.5723749999999992,
          2.850833333333333,
          1.402583333333336,
          0.7064999999999984,
          0.6907916666666658,
          0.851541666666666,
          0.8642083333333339,
          1.041305555555553,
          1.7620833333333312,
          0.9064444444444497,
          0.6652499999999968,
          1.3292916666666699,
          1.3075,
          1.1608750000000008,
          0.7723750000000003,
          2.2009166666666644,
          1.0172916666666687,
          0.5302500000000023,
          0.3575416666666662,
          1.707499999999996,
          1.2554444444444428,
          0.8794999999999966,
          2.0724166666666655,
          2.7264999999999997,
          1.8378333333333323,
          1.5642500000000004,
          0.6442083333333342,
          null,
          1.5217916666666653,
          4.063625000000001,
          0.5231666666666666,
          0.8463750000000019,
          1.2427083333333329,
          0.7761666666666684,
          1.2617083333333348,
          1.3415000000000035,
          2.8214583333333323,
          0.7831666666666681,
          1.0841666666666647,
          2.0459166666666686,
          2.882583333333331,
          0.9966250000000052,
          1.0357500000000037,
          1.4299999999999997,
          -0.279791666666668,
          1.3064999999999998,
          1.2204999999999977,
          0.7608333333333341,
          0.5103888888888868,
          1.348749999999999,
          1.4052916666666668,
          1.9952500000000004,
          1.556166666666667,
          1.0454166666666644,
          0.7324166666666656,
          3.4193333333333342,
          2.535333333333334,
          0.6475833333333334,
          -0.18795833333333256,
          1.3620416666666664,
          1.1669999999999998,
          0.925416666666667,
          1.491083333333334,
          -0.279791666666668,
          1.760625000000001,
          4.460749999999998,
          0.805416666666666,
          0.8439583333333331,
          0.9929583333333305,
          2.1763750000000037,
          3.501125,
          1.8760833333333302,
          2.3268750000000002,
          1.301083333333331,
          -0.0697083333333346,
          0.9809166666666655,
          2.1431666666666658,
          1.0025416666666676,
          1.9565833333333345,
          0.4133333333333322,
          1.4350833333333384,
          2.3812083333333334,
          0.04391666666666438,
          -0.3379583333333329,
          1.1885000000000012,
          1.686,
          0.9497916666666661,
          1.0172916666666687,
          1.6670833333333341,
          0.8482083333333321,
          0.6345000000000027,
          1.6976388888888927,
          2.51225,
          1.1513333333333335,
          3.9770833333333333,
          2.1571250000000006,
          1.0393333333333352,
          1.7378333333333345,
          -0.276250000000001,
          0.6578750000000007,
          0.9255000000000013,
          0.11616666666666653,
          1.2507083333333355,
          1.1176666666666666,
          1.1528055555555596,
          2.015041666666665,
          1.4704583333333332,
          1.2750833333333311,
          2.7547222222222225,
          1.755250000000001,
          2.6654583333333335,
          0.41608333333332936,
          1.4476249999999986,
          1.5662916666666682,
          0.5133750000000035,
          1.3168749999999996,
          0.8507916666666695,
          0.9771666666666654,
          0.5324583333333344,
          -0.9252499999999984,
          -0.037000000000002586,
          1.1654166666666654,
          1.5154583333333331,
          1.1775000000000002,
          0.9131388888888843,
          1.8369166666666707,
          1.0039583333333297,
          2.2648333333333337,
          3.611208333333332,
          0.8682916666666642,
          0.9562499999999972,
          1.0135000000000005,
          0.9899999999999984,
          0.9562499999999972,
          2.498944444444443,
          0.9992916666666645,
          1.2017500000000005,
          0.9507916666666674,
          0.9066666666666663,
          2.2518333333333302,
          1.4456666666666642,
          2.330541666666665,
          0.8502916666666671,
          0.9888333333333357,
          1.0712916666666672,
          0.9562499999999972,
          1.635208333333333,
          1.6039166666666667,
          0.9996666666666663,
          1.267125,
          -0.06062499999999815,
          1.011625,
          2.167833333333334,
          1.2294583333333353,
          0.9328750000000028,
          1.6839166666666685,
          0.818833333333334,
          2.6094166666666654,
          0.10291666666666544,
          2.8643333333333327,
          0.8723333333333327,
          1.9280416666666653,
          1.2724166666666683,
          3.0158750000000003,
          0.37333333333333485,
          1.7646249999999988,
          0.03049999999999997,
          0.9536666666666633,
          1.4271250000000002,
          1.039125000000002,
          2.0464583333333337,
          2.112874999999999,
          4.688666666666668,
          0.645638888888886,
          1.0507083333333327,
          3.0941666666666654,
          1.7827083333333356,
          0.3844999999999992,
          2.2755277777777785,
          -1.0261250000000004,
          4.773250000000001,
          0.7896250000000009,
          1.714458333333333,
          1.198166666666669,
          1.4804999999999993,
          2.139166666666668,
          -0.17808333333333337,
          -0.5650833333333338,
          1.681916666666666
         ],
         "locationmode": "country names",
         "text": [
          "Afghanistan",
          "Albania",
          "Algeria",
          "American Samoa",
          "Andorra",
          "Angola",
          "Anguilla",
          "Antigua And Barbuda",
          "Argentina",
          "Armenia",
          "Aruba",
          "Asia",
          "Australia",
          "Austria",
          "Azerbaijan",
          "Bahamas",
          "Bahrain",
          "Baker Island",
          "Bangladesh",
          "Barbados",
          "Belarus",
          "Belgium",
          "Belize",
          "Benin",
          "Bhutan",
          "Bolivia",
          "Bonaire, Saint Eustatius And Saba",
          "Bosnia And Herzegovina",
          "Botswana",
          "Brazil",
          "British Virgin Islands",
          "Bulgaria",
          "Burkina Faso",
          "Burma",
          "Burundi",
          "Cambodia",
          "Cameroon",
          "Canada",
          "Cape Verde",
          "Cayman Islands",
          "Central African Republic",
          "Chad",
          "Chile",
          "China",
          "Christmas Island",
          "Colombia",
          "Comoros",
          "Congo",
          "Congo (Democratic Republic Of The)",
          "Costa Rica",
          "Croatia",
          "Cuba",
          "Curaçao",
          "Cyprus",
          "Czech Republic",
          "Côte D'Ivoire",
          "Denmark",
          "Djibouti",
          "Dominica",
          "Dominican Republic",
          "Ecuador",
          "Egypt",
          "El Salvador",
          "Equatorial Guinea",
          "Eritrea",
          "Estonia",
          "Ethiopia",
          "Falkland Islands (Islas Malvinas)",
          "Faroe Islands",
          "Federated States Of Micronesia",
          "Fiji",
          "Finland",
          "France",
          "French Guiana",
          "French Polynesia",
          "French Southern And Antarctic Lands",
          "Gabon",
          "Gambia",
          "Gaza Strip",
          "Georgia",
          "Germany",
          "Ghana",
          "Greece",
          "Greenland",
          "Grenada",
          "Guadeloupe",
          "Guam",
          "Guatemala",
          "Guernsey",
          "Guinea",
          "Guinea Bissau",
          "Guyana",
          "Haiti",
          "Heard Island And Mcdonald Islands",
          "Honduras",
          "Hong Kong",
          "Hungary",
          "Iceland",
          "India",
          "Indonesia",
          "Iran",
          "Iraq",
          "Ireland",
          "Isle Of Man",
          "Israel",
          "Italy",
          "Jamaica",
          "Japan",
          "Jersey",
          "Jordan",
          "Kazakhstan",
          "Kenya",
          "Kingman Reef",
          "Kiribati",
          "Kuwait",
          "Kyrgyzstan",
          "Laos",
          "Latvia",
          "Lebanon",
          "Lesotho",
          "Liberia",
          "Libya",
          "Liechtenstein",
          "Lithuania",
          "Luxembourg",
          "Macau",
          "Macedonia",
          "Madagascar",
          "Malawi",
          "Malaysia",
          "Mali",
          "Malta",
          "Martinique",
          "Mauritania",
          "Mauritius",
          "Mayotte",
          "Mexico",
          "Moldova",
          "Monaco",
          "Mongolia",
          "Montenegro",
          "Montserrat",
          "Morocco",
          "Mozambique",
          "Namibia",
          "Nepal",
          "Netherlands",
          "New Caledonia",
          "New Zealand",
          "Nicaragua",
          "Niger",
          "Nigeria",
          "Niue",
          "North America",
          "North Korea",
          "Northern Mariana Islands",
          "Norway",
          "Oceania",
          "Oman",
          "Pakistan",
          "Palau",
          "Palestina",
          "Palmyra Atoll",
          "Panama",
          "Papua New Guinea",
          "Paraguay",
          "Peru",
          "Philippines",
          "Poland",
          "Portugal",
          "Puerto Rico",
          "Qatar",
          "Reunion",
          "Romania",
          "Russia",
          "Rwanda",
          "Saint Barthélemy",
          "Saint Kitts And Nevis",
          "Saint Lucia",
          "Saint Martin",
          "Saint Pierre And Miquelon",
          "Saint Vincent And The Grenadines",
          "Samoa",
          "San Marino",
          "Sao Tome And Principe",
          "Saudi Arabia",
          "Senegal",
          "Serbia",
          "Seychelles",
          "Sierra Leone",
          "Singapore",
          "Sint Maarten",
          "Slovakia",
          "Slovenia",
          "Solomon Islands",
          "Somalia",
          "South Africa",
          "South Georgia And The South Sandwich Isla",
          "South Korea",
          "Spain",
          "Sri Lanka",
          "Sudan",
          "Suriname",
          "Svalbard And Jan Mayen",
          "Swaziland",
          "Sweden",
          "Switzerland",
          "Syria",
          "Taiwan",
          "Tajikistan",
          "Tanzania",
          "Thailand",
          "Timor Leste",
          "Togo",
          "Tonga",
          "Trinidad And Tobago",
          "Tunisia",
          "Turkey",
          "Turkmenistan",
          "Turks And Caicas Islands",
          "Uganda",
          "Ukraine",
          "United Arab Emirates",
          "United Kingdom",
          "United States",
          "Uruguay",
          "Uzbekistan",
          "Venezuela",
          "Vietnam",
          "Virgin Islands",
          "Western Sahara",
          "Yemen",
          "Zambia",
          "Zimbabwe",
          "Åland"
         ],
         "marker": {
          "line": {
           "color": "rgb(0,0,0)",
           "width": 1
          }
         },
         "colorbar": {
          "autotick": true,
          "tickprefix": "",
          "title": "# Temperature \nDifferences,\n°C"
         }
        }
       ],
       "layout": {
        "title": "Temperature differences in countries (1900 - 2013)",
        "geo": {
         "showframe": false,
         "showocean": true,
         "oceancolor": "rgb(0,255,255)",
         "projection": {
          "type": "orthographic",
          "rotation": {
           "lon": 60,
           "lat": 10
          }
         },
         "lonaxis": {
          "showgrid": true,
          "gridcolor": "rgb(102, 102, 102)"
         },
         "lataxis": {
          "showgrid": true,
          "gridcolor": "rgb(102, 102, 102)"
         }
        }
       },
       "config": {
        "showLink": false,
        "linkText": "Export to plot.ly",
        "plotlyServerURL": "https://plot.ly"
       }
      },
      "text/html": "<div>                            <div id=\"6ae1a35d-82b1-41bb-8031-9edede0b32e9\" class=\"plotly-graph-div\" style=\"height:525px; width:100%;\"></div>            <script type=\"text/javascript\">                require([\"plotly\"], function(Plotly) {                    window.PLOTLYENV=window.PLOTLYENV || {};                                    if (document.getElementById(\"6ae1a35d-82b1-41bb-8031-9edede0b32e9\")) {                    Plotly.newPlot(                        \"6ae1a35d-82b1-41bb-8031-9edede0b32e9\",                        [{\"type\":\"choropleth\",\"locations\":[\"Afghanistan\",\"Albania\",\"Algeria\",\"American Samoa\",\"Andorra\",\"Angola\",\"Anguilla\",\"Antigua And Barbuda\",\"Argentina\",\"Armenia\",\"Aruba\",\"Asia\",\"Australia\",\"Austria\",\"Azerbaijan\",\"Bahamas\",\"Bahrain\",\"Baker Island\",\"Bangladesh\",\"Barbados\",\"Belarus\",\"Belgium\",\"Belize\",\"Benin\",\"Bhutan\",\"Bolivia\",\"Bonaire, Saint Eustatius And Saba\",\"Bosnia And Herzegovina\",\"Botswana\",\"Brazil\",\"British Virgin Islands\",\"Bulgaria\",\"Burkina Faso\",\"Burma\",\"Burundi\",\"Cambodia\",\"Cameroon\",\"Canada\",\"Cape Verde\",\"Cayman Islands\",\"Central African Republic\",\"Chad\",\"Chile\",\"China\",\"Christmas Island\",\"Colombia\",\"Comoros\",\"Congo\",\"Congo (Democratic Republic Of The)\",\"Costa Rica\",\"Croatia\",\"Cuba\",\"Cura\\u00e7ao\",\"Cyprus\",\"Czech Republic\",\"C\\u00f4te D'Ivoire\",\"Denmark\",\"Djibouti\",\"Dominica\",\"Dominican Republic\",\"Ecuador\",\"Egypt\",\"El Salvador\",\"Equatorial Guinea\",\"Eritrea\",\"Estonia\",\"Ethiopia\",\"Falkland Islands (Islas Malvinas)\",\"Faroe Islands\",\"Federated States Of Micronesia\",\"Fiji\",\"Finland\",\"France\",\"French Guiana\",\"French Polynesia\",\"French Southern And Antarctic Lands\",\"Gabon\",\"Gambia\",\"Gaza Strip\",\"Georgia\",\"Germany\",\"Ghana\",\"Greece\",\"Greenland\",\"Grenada\",\"Guadeloupe\",\"Guam\",\"Guatemala\",\"Guernsey\",\"Guinea\",\"Guinea Bissau\",\"Guyana\",\"Haiti\",\"Heard Island And Mcdonald Islands\",\"Honduras\",\"Hong Kong\",\"Hungary\",\"Iceland\",\"India\",\"Indonesia\",\"Iran\",\"Iraq\",\"Ireland\",\"Isle Of Man\",\"Israel\",\"Italy\",\"Jamaica\",\"Japan\",\"Jersey\",\"Jordan\",\"Kazakhstan\",\"Kenya\",\"Kingman Reef\",\"Kiribati\",\"Kuwait\",\"Kyrgyzstan\",\"Laos\",\"Latvia\",\"Lebanon\",\"Lesotho\",\"Liberia\",\"Libya\",\"Liechtenstein\",\"Lithuania\",\"Luxembourg\",\"Macau\",\"Macedonia\",\"Madagascar\",\"Malawi\",\"Malaysia\",\"Mali\",\"Malta\",\"Martinique\",\"Mauritania\",\"Mauritius\",\"Mayotte\",\"Mexico\",\"Moldova\",\"Monaco\",\"Mongolia\",\"Montenegro\",\"Montserrat\",\"Morocco\",\"Mozambique\",\"Namibia\",\"Nepal\",\"Netherlands\",\"New Caledonia\",\"New Zealand\",\"Nicaragua\",\"Niger\",\"Nigeria\",\"Niue\",\"North America\",\"North Korea\",\"Northern Mariana Islands\",\"Norway\",\"Oceania\",\"Oman\",\"Pakistan\",\"Palau\",\"Palestina\",\"Palmyra Atoll\",\"Panama\",\"Papua New Guinea\",\"Paraguay\",\"Peru\",\"Philippines\",\"Poland\",\"Portugal\",\"Puerto Rico\",\"Qatar\",\"Reunion\",\"Romania\",\"Russia\",\"Rwanda\",\"Saint Barth\\u00e9lemy\",\"Saint Kitts And Nevis\",\"Saint Lucia\",\"Saint Martin\",\"Saint Pierre And Miquelon\",\"Saint Vincent And The Grenadines\",\"Samoa\",\"San Marino\",\"Sao Tome And Principe\",\"Saudi Arabia\",\"Senegal\",\"Serbia\",\"Seychelles\",\"Sierra Leone\",\"Singapore\",\"Sint Maarten\",\"Slovakia\",\"Slovenia\",\"Solomon Islands\",\"Somalia\",\"South Africa\",\"South Georgia And The South Sandwich Isla\",\"South Korea\",\"Spain\",\"Sri Lanka\",\"Sudan\",\"Suriname\",\"Svalbard And Jan Mayen\",\"Swaziland\",\"Sweden\",\"Switzerland\",\"Syria\",\"Taiwan\",\"Tajikistan\",\"Tanzania\",\"Thailand\",\"Timor Leste\",\"Togo\",\"Tonga\",\"Trinidad And Tobago\",\"Tunisia\",\"Turkey\",\"Turkmenistan\",\"Turks And Caicas Islands\",\"Uganda\",\"Ukraine\",\"United Arab Emirates\",\"United Kingdom\",\"United States\",\"Uruguay\",\"Uzbekistan\",\"Venezuela\",\"Vietnam\",\"Virgin Islands\",\"Western Sahara\",\"Yemen\",\"Zambia\",\"Zimbabwe\",\"\\u00c5land\"],\"z\":[2.7842916666666664,1.9252916666666664,2.257333333333335,1.2437500000000021,0.9595416666666647,0.7179583333333319,0.9562499999999972,1.0197083333333339,-0.350125000000002,3.0999999999999996,0.5133333333333319,2.9063749999999997,0.3762916666666669,1.384875000000001,3.5913749999999993,0.9542500000000018,2.026125000000004,1.2012499999999982,0.7484166666666674,0.9719583333333333,2.4465000000000003,0.27279166666666477,1.6649166666666666,1.130874999999996,1.3148750000000007,-0.47237499999999955,0.6956249999999997,1.9697499999999994,-0.19566666666666777,0.4432916666666671,1.198166666666669,2.449041666666666,1.40475,1.2509583333333296,0.782,1.628375000000002,1.1842916666666667,3.3780833333333327,0.4794166666666655,0.9664722222222224,1.157041666666668,1.5081666666666713,0.5723749999999992,2.850833333333333,1.402583333333336,0.7064999999999984,0.6907916666666658,0.851541666666666,0.8642083333333339,1.041305555555553,1.7620833333333312,0.9064444444444497,0.6652499999999968,1.3292916666666699,1.3075,1.1608750000000008,0.7723750000000003,2.2009166666666644,1.0172916666666687,0.5302500000000023,0.3575416666666662,1.707499999999996,1.2554444444444428,0.8794999999999966,2.0724166666666655,2.7264999999999997,1.8378333333333323,1.5642500000000004,0.6442083333333342,null,1.5217916666666653,4.063625000000001,0.5231666666666666,0.8463750000000019,1.2427083333333329,0.7761666666666684,1.2617083333333348,1.3415000000000035,2.8214583333333323,0.7831666666666681,1.0841666666666647,2.0459166666666686,2.882583333333331,0.9966250000000052,1.0357500000000037,1.4299999999999997,-0.279791666666668,1.3064999999999998,1.2204999999999977,0.7608333333333341,0.5103888888888868,1.348749999999999,1.4052916666666668,1.9952500000000004,1.556166666666667,1.0454166666666644,0.7324166666666656,3.4193333333333342,2.535333333333334,0.6475833333333334,-0.18795833333333256,1.3620416666666664,1.1669999999999998,0.925416666666667,1.491083333333334,-0.279791666666668,1.760625000000001,4.460749999999998,0.805416666666666,0.8439583333333331,0.9929583333333305,2.1763750000000037,3.501125,1.8760833333333302,2.3268750000000002,1.301083333333331,-0.0697083333333346,0.9809166666666655,2.1431666666666658,1.0025416666666676,1.9565833333333345,0.4133333333333322,1.4350833333333384,2.3812083333333334,0.04391666666666438,-0.3379583333333329,1.1885000000000012,1.686,0.9497916666666661,1.0172916666666687,1.6670833333333341,0.8482083333333321,0.6345000000000027,1.6976388888888927,2.51225,1.1513333333333335,3.9770833333333333,2.1571250000000006,1.0393333333333352,1.7378333333333345,-0.276250000000001,0.6578750000000007,0.9255000000000013,0.11616666666666653,1.2507083333333355,1.1176666666666666,1.1528055555555596,2.015041666666665,1.4704583333333332,1.2750833333333311,2.7547222222222225,1.755250000000001,2.6654583333333335,0.41608333333332936,1.4476249999999986,1.5662916666666682,0.5133750000000035,1.3168749999999996,0.8507916666666695,0.9771666666666654,0.5324583333333344,-0.9252499999999984,-0.037000000000002586,1.1654166666666654,1.5154583333333331,1.1775000000000002,0.9131388888888843,1.8369166666666707,1.0039583333333297,2.2648333333333337,3.611208333333332,0.8682916666666642,0.9562499999999972,1.0135000000000005,0.9899999999999984,0.9562499999999972,2.498944444444443,0.9992916666666645,1.2017500000000005,0.9507916666666674,0.9066666666666663,2.2518333333333302,1.4456666666666642,2.330541666666665,0.8502916666666671,0.9888333333333357,1.0712916666666672,0.9562499999999972,1.635208333333333,1.6039166666666667,0.9996666666666663,1.267125,-0.06062499999999815,1.011625,2.167833333333334,1.2294583333333353,0.9328750000000028,1.6839166666666685,0.818833333333334,2.6094166666666654,0.10291666666666544,2.8643333333333327,0.8723333333333327,1.9280416666666653,1.2724166666666683,3.0158750000000003,0.37333333333333485,1.7646249999999988,0.03049999999999997,0.9536666666666633,1.4271250000000002,1.039125000000002,2.0464583333333337,2.112874999999999,4.688666666666668,0.645638888888886,1.0507083333333327,3.0941666666666654,1.7827083333333356,0.3844999999999992,2.2755277777777785,-1.0261250000000004,4.773250000000001,0.7896250000000009,1.714458333333333,1.198166666666669,1.4804999999999993,2.139166666666668,-0.17808333333333337,-0.5650833333333338,1.681916666666666],\"locationmode\":\"country names\",\"text\":[\"Afghanistan\",\"Albania\",\"Algeria\",\"American Samoa\",\"Andorra\",\"Angola\",\"Anguilla\",\"Antigua And Barbuda\",\"Argentina\",\"Armenia\",\"Aruba\",\"Asia\",\"Australia\",\"Austria\",\"Azerbaijan\",\"Bahamas\",\"Bahrain\",\"Baker Island\",\"Bangladesh\",\"Barbados\",\"Belarus\",\"Belgium\",\"Belize\",\"Benin\",\"Bhutan\",\"Bolivia\",\"Bonaire, Saint Eustatius And Saba\",\"Bosnia And Herzegovina\",\"Botswana\",\"Brazil\",\"British Virgin Islands\",\"Bulgaria\",\"Burkina Faso\",\"Burma\",\"Burundi\",\"Cambodia\",\"Cameroon\",\"Canada\",\"Cape Verde\",\"Cayman Islands\",\"Central African Republic\",\"Chad\",\"Chile\",\"China\",\"Christmas Island\",\"Colombia\",\"Comoros\",\"Congo\",\"Congo (Democratic Republic Of The)\",\"Costa Rica\",\"Croatia\",\"Cuba\",\"Cura\\u00e7ao\",\"Cyprus\",\"Czech Republic\",\"C\\u00f4te D'Ivoire\",\"Denmark\",\"Djibouti\",\"Dominica\",\"Dominican Republic\",\"Ecuador\",\"Egypt\",\"El Salvador\",\"Equatorial Guinea\",\"Eritrea\",\"Estonia\",\"Ethiopia\",\"Falkland Islands (Islas Malvinas)\",\"Faroe Islands\",\"Federated States Of Micronesia\",\"Fiji\",\"Finland\",\"France\",\"French Guiana\",\"French Polynesia\",\"French Southern And Antarctic Lands\",\"Gabon\",\"Gambia\",\"Gaza Strip\",\"Georgia\",\"Germany\",\"Ghana\",\"Greece\",\"Greenland\",\"Grenada\",\"Guadeloupe\",\"Guam\",\"Guatemala\",\"Guernsey\",\"Guinea\",\"Guinea Bissau\",\"Guyana\",\"Haiti\",\"Heard Island And Mcdonald Islands\",\"Honduras\",\"Hong Kong\",\"Hungary\",\"Iceland\",\"India\",\"Indonesia\",\"Iran\",\"Iraq\",\"Ireland\",\"Isle Of Man\",\"Israel\",\"Italy\",\"Jamaica\",\"Japan\",\"Jersey\",\"Jordan\",\"Kazakhstan\",\"Kenya\",\"Kingman Reef\",\"Kiribati\",\"Kuwait\",\"Kyrgyzstan\",\"Laos\",\"Latvia\",\"Lebanon\",\"Lesotho\",\"Liberia\",\"Libya\",\"Liechtenstein\",\"Lithuania\",\"Luxembourg\",\"Macau\",\"Macedonia\",\"Madagascar\",\"Malawi\",\"Malaysia\",\"Mali\",\"Malta\",\"Martinique\",\"Mauritania\",\"Mauritius\",\"Mayotte\",\"Mexico\",\"Moldova\",\"Monaco\",\"Mongolia\",\"Montenegro\",\"Montserrat\",\"Morocco\",\"Mozambique\",\"Namibia\",\"Nepal\",\"Netherlands\",\"New Caledonia\",\"New Zealand\",\"Nicaragua\",\"Niger\",\"Nigeria\",\"Niue\",\"North America\",\"North Korea\",\"Northern Mariana Islands\",\"Norway\",\"Oceania\",\"Oman\",\"Pakistan\",\"Palau\",\"Palestina\",\"Palmyra Atoll\",\"Panama\",\"Papua New Guinea\",\"Paraguay\",\"Peru\",\"Philippines\",\"Poland\",\"Portugal\",\"Puerto Rico\",\"Qatar\",\"Reunion\",\"Romania\",\"Russia\",\"Rwanda\",\"Saint Barth\\u00e9lemy\",\"Saint Kitts And Nevis\",\"Saint Lucia\",\"Saint Martin\",\"Saint Pierre And Miquelon\",\"Saint Vincent And The Grenadines\",\"Samoa\",\"San Marino\",\"Sao Tome And Principe\",\"Saudi Arabia\",\"Senegal\",\"Serbia\",\"Seychelles\",\"Sierra Leone\",\"Singapore\",\"Sint Maarten\",\"Slovakia\",\"Slovenia\",\"Solomon Islands\",\"Somalia\",\"South Africa\",\"South Georgia And The South Sandwich Isla\",\"South Korea\",\"Spain\",\"Sri Lanka\",\"Sudan\",\"Suriname\",\"Svalbard And Jan Mayen\",\"Swaziland\",\"Sweden\",\"Switzerland\",\"Syria\",\"Taiwan\",\"Tajikistan\",\"Tanzania\",\"Thailand\",\"Timor Leste\",\"Togo\",\"Tonga\",\"Trinidad And Tobago\",\"Tunisia\",\"Turkey\",\"Turkmenistan\",\"Turks And Caicas Islands\",\"Uganda\",\"Ukraine\",\"United Arab Emirates\",\"United Kingdom\",\"United States\",\"Uruguay\",\"Uzbekistan\",\"Venezuela\",\"Vietnam\",\"Virgin Islands\",\"Western Sahara\",\"Yemen\",\"Zambia\",\"Zimbabwe\",\"\\u00c5land\"],\"marker\":{\"line\":{\"color\":\"rgb(0,0,0)\",\"width\":1}},\"colorbar\":{\"autotick\":true,\"tickprefix\":\"\",\"title\":\"# Temperature \\nDifferences,\\n\\u00b0C\"}}],                        {\"title\":\"Temperature differences in countries (1900 - 2013)\",\"geo\":{\"showframe\":false,\"showocean\":true,\"oceancolor\":\"rgb(0,255,255)\",\"projection\":{\"type\":\"orthographic\",\"rotation\":{\"lon\":60,\"lat\":10}},\"lonaxis\":{\"showgrid\":true,\"gridcolor\":\"rgb(102, 102, 102)\"},\"lataxis\":{\"showgrid\":true,\"gridcolor\":\"rgb(102, 102, 102)\"}}},                        {\"responsive\": true}                    ).then(function(){\n                            \nvar gd = document.getElementById('6ae1a35d-82b1-41bb-8031-9edede0b32e9');\nvar x = new MutationObserver(function (mutations, observer) {{\n        var display = window.getComputedStyle(gd).display;\n        if (!display || display === 'none') {{\n            console.log([gd, 'removed!']);\n            Plotly.purge(gd);\n            observer.disconnect();\n        }}\n}});\n\n// Listen for the removal of the full notebook cells\nvar notebookContainer = gd.closest('#notebook-container');\nif (notebookContainer) {{\n    x.observe(notebookContainer, {childList: true});\n}}\n\n// Listen for the clearing of the current output cell\nvar outputEl = gd.closest('.output');\nif (outputEl) {{\n    x.observe(outputEl, {childList: true});\n}}\n\n                        })                };                });            </script>        </div>"
     },
     "metadata": {},
     "output_type": "display_data"
    }
   ],
   "source": [
    "data = [dict(type='choropleth', locations=countries, z=temp_dif_lst, locationmode='country names', text=countries,\n",
    "             marker=dict(line=dict(color='rgb(0,0,0)', width=1)),\n",
    "             colorbar=dict(autotick=True, tickprefix='', title='# Temperature \\nDifferences,\\n°C'))]\n",
    "layout = dict(title='Temperature differences in countries (1900 - 2013)',\n",
    "              geo=dict(showframe=False, showocean=True, oceancolor='rgb(0,255,255)',\n",
    "                       projection=dict(type='orthographic', rotation=dict(lon=60, lat=10), ),\n",
    "                       lonaxis=dict(showgrid=True, gridcolor='rgb(102, 102, 102)'),\n",
    "                       lataxis=dict(showgrid=True, gridcolor='rgb(102, 102, 102)')), )\n",
    "fig = dict(data=data, layout=layout)\n",
    "py.iplot(fig, validate=False, filename='worldmap')"
   ]
  },
  {
   "cell_type": "code",
   "execution_count": 25,
   "metadata": {
    "collapsed": false,
    "jupyter": {
     "outputs_hidden": false
    },
    "pycharm": {
     "name": "#%%\n"
    }
   },
   "outputs": [
    {
     "data": {
      "text/plain": "                               Country Data source                Sector  Gas  \\\n0                                World        CAIT  Total including LUCF  CO2   \n1                                World        CAIT  Total excluding LUCF  CO2   \n2                                World        CAIT                Energy  CO2   \n3                                World        CAIT      Electricity/Heat  CO2   \n4                                China        CAIT  Total excluding LUCF  CO2   \n...                                ...         ...                   ...  ...   \n2302  Saint Vincent and the Grenadines        CAIT    Fugitive Emissions  CO2   \n2303                           Vanuatu        CAIT    Fugitive Emissions  CO2   \n2304                             Samoa        CAIT    Fugitive Emissions  CO2   \n2305                            Zambia        CAIT    Fugitive Emissions  CO2   \n2306                          Zimbabwe        CAIT    Fugitive Emissions  CO2   \n\n        Unit      2018      2017      2016      2015      2014  ...      1999  \\\n0     MtCO₂e  36441.55  35588.70  35160.60  34521.91  34558.59  ...  24957.30   \n1     MtCO₂e  35248.74  34542.44  34081.00  34038.49  34098.75  ...  23398.99   \n2     MtCO₂e  33746.74  33070.44  32620.00  32608.49  32627.75  ...  22714.09   \n3     MtCO₂e  15590.95  15167.36  14949.51  15009.83  15232.52  ...  10134.66   \n4     MtCO₂e  10313.46  10017.77   9814.31   9830.43   9894.94  ...   3149.20   \n...      ...       ...       ...       ...       ...       ...  ...       ...   \n2302  MtCO₂e       NaN       NaN       NaN       NaN      0.00  ...      0.00   \n2303  MtCO₂e       NaN       NaN       NaN       NaN      0.00  ...      0.00   \n2304  MtCO₂e       NaN       NaN       NaN       NaN      0.00  ...      0.00   \n2305  MtCO₂e       NaN       NaN       NaN       NaN      0.00  ...      0.00   \n2306  MtCO₂e       NaN       NaN       NaN       NaN      0.00  ...      0.00   \n\n          1998      1997      1996      1995      1994      1993      1992  \\\n0     24895.32  25292.92  24214.92  23890.22  23260.29  23124.00  22988.29   \n1     23240.47  23082.12  22694.41  22215.88  21591.78  21455.52  21319.81   \n2     22584.68  22423.32  22054.72  21589.48  20999.68  20899.32  20783.81   \n3     10080.66   9853.19   9586.39   9231.22   9042.50   8945.80   8894.60   \n4      3232.12   3128.65   3064.88   3084.87   2763.90   2643.53   2418.18   \n...        ...       ...       ...       ...       ...       ...       ...   \n2302      0.00      0.00      0.00      0.00      0.00      0.00      0.00   \n2303      0.00      0.00      0.00      0.00      0.00      0.00      0.00   \n2304      0.00      0.00      0.00      0.00      0.00      0.00      0.00   \n2305      0.00      0.00      0.00      0.00      0.00      0.00      0.00   \n2306      0.00      0.00      0.00      0.00      0.00      0.00      0.00   \n\n          1991      1990  \n0     23056.40  22849.92  \n1     21387.92  21181.44  \n2     20873.62  20680.14  \n3      8735.04   8596.17  \n4      2302.19   2173.36  \n...        ...       ...  \n2302      0.00      0.00  \n2303      0.00      0.00  \n2304      0.00      0.00  \n2305      0.00      0.00  \n2306      0.00      0.00  \n\n[2307 rows x 34 columns]",
      "text/html": "<div>\n<style scoped>\n    .dataframe tbody tr th:only-of-type {\n        vertical-align: middle;\n    }\n\n    .dataframe tbody tr th {\n        vertical-align: top;\n    }\n\n    .dataframe thead th {\n        text-align: right;\n    }\n</style>\n<table border=\"1\" class=\"dataframe\">\n  <thead>\n    <tr style=\"text-align: right;\">\n      <th></th>\n      <th>Country</th>\n      <th>Data source</th>\n      <th>Sector</th>\n      <th>Gas</th>\n      <th>Unit</th>\n      <th>2018</th>\n      <th>2017</th>\n      <th>2016</th>\n      <th>2015</th>\n      <th>2014</th>\n      <th>...</th>\n      <th>1999</th>\n      <th>1998</th>\n      <th>1997</th>\n      <th>1996</th>\n      <th>1995</th>\n      <th>1994</th>\n      <th>1993</th>\n      <th>1992</th>\n      <th>1991</th>\n      <th>1990</th>\n    </tr>\n  </thead>\n  <tbody>\n    <tr>\n      <th>0</th>\n      <td>World</td>\n      <td>CAIT</td>\n      <td>Total including LUCF</td>\n      <td>CO2</td>\n      <td>MtCO₂e</td>\n      <td>36441.55</td>\n      <td>35588.70</td>\n      <td>35160.60</td>\n      <td>34521.91</td>\n      <td>34558.59</td>\n      <td>...</td>\n      <td>24957.30</td>\n      <td>24895.32</td>\n      <td>25292.92</td>\n      <td>24214.92</td>\n      <td>23890.22</td>\n      <td>23260.29</td>\n      <td>23124.00</td>\n      <td>22988.29</td>\n      <td>23056.40</td>\n      <td>22849.92</td>\n    </tr>\n    <tr>\n      <th>1</th>\n      <td>World</td>\n      <td>CAIT</td>\n      <td>Total excluding LUCF</td>\n      <td>CO2</td>\n      <td>MtCO₂e</td>\n      <td>35248.74</td>\n      <td>34542.44</td>\n      <td>34081.00</td>\n      <td>34038.49</td>\n      <td>34098.75</td>\n      <td>...</td>\n      <td>23398.99</td>\n      <td>23240.47</td>\n      <td>23082.12</td>\n      <td>22694.41</td>\n      <td>22215.88</td>\n      <td>21591.78</td>\n      <td>21455.52</td>\n      <td>21319.81</td>\n      <td>21387.92</td>\n      <td>21181.44</td>\n    </tr>\n    <tr>\n      <th>2</th>\n      <td>World</td>\n      <td>CAIT</td>\n      <td>Energy</td>\n      <td>CO2</td>\n      <td>MtCO₂e</td>\n      <td>33746.74</td>\n      <td>33070.44</td>\n      <td>32620.00</td>\n      <td>32608.49</td>\n      <td>32627.75</td>\n      <td>...</td>\n      <td>22714.09</td>\n      <td>22584.68</td>\n      <td>22423.32</td>\n      <td>22054.72</td>\n      <td>21589.48</td>\n      <td>20999.68</td>\n      <td>20899.32</td>\n      <td>20783.81</td>\n      <td>20873.62</td>\n      <td>20680.14</td>\n    </tr>\n    <tr>\n      <th>3</th>\n      <td>World</td>\n      <td>CAIT</td>\n      <td>Electricity/Heat</td>\n      <td>CO2</td>\n      <td>MtCO₂e</td>\n      <td>15590.95</td>\n      <td>15167.36</td>\n      <td>14949.51</td>\n      <td>15009.83</td>\n      <td>15232.52</td>\n      <td>...</td>\n      <td>10134.66</td>\n      <td>10080.66</td>\n      <td>9853.19</td>\n      <td>9586.39</td>\n      <td>9231.22</td>\n      <td>9042.50</td>\n      <td>8945.80</td>\n      <td>8894.60</td>\n      <td>8735.04</td>\n      <td>8596.17</td>\n    </tr>\n    <tr>\n      <th>4</th>\n      <td>China</td>\n      <td>CAIT</td>\n      <td>Total excluding LUCF</td>\n      <td>CO2</td>\n      <td>MtCO₂e</td>\n      <td>10313.46</td>\n      <td>10017.77</td>\n      <td>9814.31</td>\n      <td>9830.43</td>\n      <td>9894.94</td>\n      <td>...</td>\n      <td>3149.20</td>\n      <td>3232.12</td>\n      <td>3128.65</td>\n      <td>3064.88</td>\n      <td>3084.87</td>\n      <td>2763.90</td>\n      <td>2643.53</td>\n      <td>2418.18</td>\n      <td>2302.19</td>\n      <td>2173.36</td>\n    </tr>\n    <tr>\n      <th>...</th>\n      <td>...</td>\n      <td>...</td>\n      <td>...</td>\n      <td>...</td>\n      <td>...</td>\n      <td>...</td>\n      <td>...</td>\n      <td>...</td>\n      <td>...</td>\n      <td>...</td>\n      <td>...</td>\n      <td>...</td>\n      <td>...</td>\n      <td>...</td>\n      <td>...</td>\n      <td>...</td>\n      <td>...</td>\n      <td>...</td>\n      <td>...</td>\n      <td>...</td>\n      <td>...</td>\n    </tr>\n    <tr>\n      <th>2302</th>\n      <td>Saint Vincent and the Grenadines</td>\n      <td>CAIT</td>\n      <td>Fugitive Emissions</td>\n      <td>CO2</td>\n      <td>MtCO₂e</td>\n      <td>NaN</td>\n      <td>NaN</td>\n      <td>NaN</td>\n      <td>NaN</td>\n      <td>0.00</td>\n      <td>...</td>\n      <td>0.00</td>\n      <td>0.00</td>\n      <td>0.00</td>\n      <td>0.00</td>\n      <td>0.00</td>\n      <td>0.00</td>\n      <td>0.00</td>\n      <td>0.00</td>\n      <td>0.00</td>\n      <td>0.00</td>\n    </tr>\n    <tr>\n      <th>2303</th>\n      <td>Vanuatu</td>\n      <td>CAIT</td>\n      <td>Fugitive Emissions</td>\n      <td>CO2</td>\n      <td>MtCO₂e</td>\n      <td>NaN</td>\n      <td>NaN</td>\n      <td>NaN</td>\n      <td>NaN</td>\n      <td>0.00</td>\n      <td>...</td>\n      <td>0.00</td>\n      <td>0.00</td>\n      <td>0.00</td>\n      <td>0.00</td>\n      <td>0.00</td>\n      <td>0.00</td>\n      <td>0.00</td>\n      <td>0.00</td>\n      <td>0.00</td>\n      <td>0.00</td>\n    </tr>\n    <tr>\n      <th>2304</th>\n      <td>Samoa</td>\n      <td>CAIT</td>\n      <td>Fugitive Emissions</td>\n      <td>CO2</td>\n      <td>MtCO₂e</td>\n      <td>NaN</td>\n      <td>NaN</td>\n      <td>NaN</td>\n      <td>NaN</td>\n      <td>0.00</td>\n      <td>...</td>\n      <td>0.00</td>\n      <td>0.00</td>\n      <td>0.00</td>\n      <td>0.00</td>\n      <td>0.00</td>\n      <td>0.00</td>\n      <td>0.00</td>\n      <td>0.00</td>\n      <td>0.00</td>\n      <td>0.00</td>\n    </tr>\n    <tr>\n      <th>2305</th>\n      <td>Zambia</td>\n      <td>CAIT</td>\n      <td>Fugitive Emissions</td>\n      <td>CO2</td>\n      <td>MtCO₂e</td>\n      <td>NaN</td>\n      <td>NaN</td>\n      <td>NaN</td>\n      <td>NaN</td>\n      <td>0.00</td>\n      <td>...</td>\n      <td>0.00</td>\n      <td>0.00</td>\n      <td>0.00</td>\n      <td>0.00</td>\n      <td>0.00</td>\n      <td>0.00</td>\n      <td>0.00</td>\n      <td>0.00</td>\n      <td>0.00</td>\n      <td>0.00</td>\n    </tr>\n    <tr>\n      <th>2306</th>\n      <td>Zimbabwe</td>\n      <td>CAIT</td>\n      <td>Fugitive Emissions</td>\n      <td>CO2</td>\n      <td>MtCO₂e</td>\n      <td>NaN</td>\n      <td>NaN</td>\n      <td>NaN</td>\n      <td>NaN</td>\n      <td>0.00</td>\n      <td>...</td>\n      <td>0.00</td>\n      <td>0.00</td>\n      <td>0.00</td>\n      <td>0.00</td>\n      <td>0.00</td>\n      <td>0.00</td>\n      <td>0.00</td>\n      <td>0.00</td>\n      <td>0.00</td>\n      <td>0.00</td>\n    </tr>\n  </tbody>\n</table>\n<p>2307 rows × 34 columns</p>\n</div>"
     },
     "execution_count": 25,
     "metadata": {},
     "output_type": "execute_result"
    }
   ],
   "source": [
    "emission = pd.read_csv('data/bad_historical_emission_by_country.csv')\n",
    "emission"
   ]
  },
  {
   "cell_type": "code",
   "execution_count": 26,
   "metadata": {
    "collapsed": false,
    "jupyter": {
     "outputs_hidden": false
    },
    "pycharm": {
     "name": "#%%\n"
    }
   },
   "outputs": [
    {
     "name": "stderr",
     "output_type": "stream",
     "text": [
      "/var/folders/st/5wgrjpj9129bgxw_hskwwwlh0000gn/T/ipykernel_94554/1476003398.py:2: UserWarning:\n",
      "\n",
      "Boolean Series key will be reindexed to match DataFrame index.\n",
      "\n"
     ]
    },
    {
     "data": {
      "text/plain": "                  Country Data source                Sector  Gas    Unit  \\\n5                   China        CAIT  Total including LUCF  CO2  MtCO₂e   \n12          United States        CAIT  Total including LUCF  CO2  MtCO₂e   \n17    European Union (27)        CAIT  Total including LUCF  CO2  MtCO₂e   \n19                  India        CAIT  Total including LUCF  CO2  MtCO₂e   \n27              Indonesia        CAIT  Total including LUCF  CO2  MtCO₂e   \n...                   ...         ...                   ...  ...     ...   \n1788                Nauru        CAIT  Total including LUCF  CO2  MtCO₂e   \n1934               Tuvalu        CAIT  Total including LUCF  CO2  MtCO₂e   \n2041                 Niue        CAIT  Total including LUCF  CO2  MtCO₂e   \n2125                 Fiji        CAIT  Total including LUCF  CO2  MtCO₂e   \n2148                Ghana        CAIT  Total including LUCF  CO2  MtCO₂e   \n\n         2018     2017     2016     2015     2014  ...     1998     1997  \\\n5     9663.36  9367.67  9164.21  9120.27  9184.77  ...  2882.75  2779.27   \n12    4749.57  4581.90  4656.84  4563.52  4683.35  ...  5172.06  5129.29   \n17    2636.99  2692.12  2669.54  2321.61  2263.78  ...  3134.03  3142.23   \n19    2400.25  2267.16  2149.01  2085.38  2072.03  ...   618.73   600.38   \n27    1269.55  1081.11  1068.10  1574.76  1539.23  ...   907.96  1484.56   \n...       ...      ...      ...      ...      ...  ...      ...      ...   \n1788     0.07     0.07     0.06     0.05     0.05  ...     0.10     0.10   \n1934     0.01     0.01     0.01     0.01     0.01  ...     0.01     0.01   \n2041     0.00     0.00     0.00     0.00     0.00  ...     0.01     0.01   \n2125    -0.65    -0.73    -0.81    -1.03    -1.24  ...    -1.76    -1.74   \n2148    -8.82   -10.15   -10.82    44.53    43.77  ...    15.98    14.18   \n\n         1996     1995     1994     1993     1992     1991     1990      Mean  \n5     2715.50  2735.48  2414.50  2294.12  2068.77  1952.78  1823.96  5405.082  \n12    4864.46  4708.31  4654.52  4581.76  4461.62  4389.50  4426.40  4900.768  \n17    3210.93  3113.68  3060.09  3072.40  3133.06  3247.48  3286.44  2946.370  \n19     555.60   519.98   466.79   431.31   409.09   386.17   341.32  1192.656  \n27     772.38   909.21   881.31   869.88   855.30   846.23   832.39  1002.294  \n...       ...      ...      ...      ...      ...      ...      ...       ...  \n1788     0.10     0.11     0.11     0.11     0.12     0.13     0.13     0.076  \n1934     0.01     0.01     0.01     0.01     0.01     0.00     0.00     0.009  \n2041     0.01     0.01     0.01     0.01     0.01     0.01     0.01     0.007  \n2125    -1.72    -1.78    -1.79    -1.79    -1.78    -1.81    -1.81    -1.454  \n2148    13.98    13.60    13.34    13.07    12.96    12.44    12.67    30.434  \n\n[194 rows x 35 columns]",
      "text/html": "<div>\n<style scoped>\n    .dataframe tbody tr th:only-of-type {\n        vertical-align: middle;\n    }\n\n    .dataframe tbody tr th {\n        vertical-align: top;\n    }\n\n    .dataframe thead th {\n        text-align: right;\n    }\n</style>\n<table border=\"1\" class=\"dataframe\">\n  <thead>\n    <tr style=\"text-align: right;\">\n      <th></th>\n      <th>Country</th>\n      <th>Data source</th>\n      <th>Sector</th>\n      <th>Gas</th>\n      <th>Unit</th>\n      <th>2018</th>\n      <th>2017</th>\n      <th>2016</th>\n      <th>2015</th>\n      <th>2014</th>\n      <th>...</th>\n      <th>1998</th>\n      <th>1997</th>\n      <th>1996</th>\n      <th>1995</th>\n      <th>1994</th>\n      <th>1993</th>\n      <th>1992</th>\n      <th>1991</th>\n      <th>1990</th>\n      <th>Mean</th>\n    </tr>\n  </thead>\n  <tbody>\n    <tr>\n      <th>5</th>\n      <td>China</td>\n      <td>CAIT</td>\n      <td>Total including LUCF</td>\n      <td>CO2</td>\n      <td>MtCO₂e</td>\n      <td>9663.36</td>\n      <td>9367.67</td>\n      <td>9164.21</td>\n      <td>9120.27</td>\n      <td>9184.77</td>\n      <td>...</td>\n      <td>2882.75</td>\n      <td>2779.27</td>\n      <td>2715.50</td>\n      <td>2735.48</td>\n      <td>2414.50</td>\n      <td>2294.12</td>\n      <td>2068.77</td>\n      <td>1952.78</td>\n      <td>1823.96</td>\n      <td>5405.082</td>\n    </tr>\n    <tr>\n      <th>12</th>\n      <td>United States</td>\n      <td>CAIT</td>\n      <td>Total including LUCF</td>\n      <td>CO2</td>\n      <td>MtCO₂e</td>\n      <td>4749.57</td>\n      <td>4581.90</td>\n      <td>4656.84</td>\n      <td>4563.52</td>\n      <td>4683.35</td>\n      <td>...</td>\n      <td>5172.06</td>\n      <td>5129.29</td>\n      <td>4864.46</td>\n      <td>4708.31</td>\n      <td>4654.52</td>\n      <td>4581.76</td>\n      <td>4461.62</td>\n      <td>4389.50</td>\n      <td>4426.40</td>\n      <td>4900.768</td>\n    </tr>\n    <tr>\n      <th>17</th>\n      <td>European Union (27)</td>\n      <td>CAIT</td>\n      <td>Total including LUCF</td>\n      <td>CO2</td>\n      <td>MtCO₂e</td>\n      <td>2636.99</td>\n      <td>2692.12</td>\n      <td>2669.54</td>\n      <td>2321.61</td>\n      <td>2263.78</td>\n      <td>...</td>\n      <td>3134.03</td>\n      <td>3142.23</td>\n      <td>3210.93</td>\n      <td>3113.68</td>\n      <td>3060.09</td>\n      <td>3072.40</td>\n      <td>3133.06</td>\n      <td>3247.48</td>\n      <td>3286.44</td>\n      <td>2946.370</td>\n    </tr>\n    <tr>\n      <th>19</th>\n      <td>India</td>\n      <td>CAIT</td>\n      <td>Total including LUCF</td>\n      <td>CO2</td>\n      <td>MtCO₂e</td>\n      <td>2400.25</td>\n      <td>2267.16</td>\n      <td>2149.01</td>\n      <td>2085.38</td>\n      <td>2072.03</td>\n      <td>...</td>\n      <td>618.73</td>\n      <td>600.38</td>\n      <td>555.60</td>\n      <td>519.98</td>\n      <td>466.79</td>\n      <td>431.31</td>\n      <td>409.09</td>\n      <td>386.17</td>\n      <td>341.32</td>\n      <td>1192.656</td>\n    </tr>\n    <tr>\n      <th>27</th>\n      <td>Indonesia</td>\n      <td>CAIT</td>\n      <td>Total including LUCF</td>\n      <td>CO2</td>\n      <td>MtCO₂e</td>\n      <td>1269.55</td>\n      <td>1081.11</td>\n      <td>1068.10</td>\n      <td>1574.76</td>\n      <td>1539.23</td>\n      <td>...</td>\n      <td>907.96</td>\n      <td>1484.56</td>\n      <td>772.38</td>\n      <td>909.21</td>\n      <td>881.31</td>\n      <td>869.88</td>\n      <td>855.30</td>\n      <td>846.23</td>\n      <td>832.39</td>\n      <td>1002.294</td>\n    </tr>\n    <tr>\n      <th>...</th>\n      <td>...</td>\n      <td>...</td>\n      <td>...</td>\n      <td>...</td>\n      <td>...</td>\n      <td>...</td>\n      <td>...</td>\n      <td>...</td>\n      <td>...</td>\n      <td>...</td>\n      <td>...</td>\n      <td>...</td>\n      <td>...</td>\n      <td>...</td>\n      <td>...</td>\n      <td>...</td>\n      <td>...</td>\n      <td>...</td>\n      <td>...</td>\n      <td>...</td>\n      <td>...</td>\n    </tr>\n    <tr>\n      <th>1788</th>\n      <td>Nauru</td>\n      <td>CAIT</td>\n      <td>Total including LUCF</td>\n      <td>CO2</td>\n      <td>MtCO₂e</td>\n      <td>0.07</td>\n      <td>0.07</td>\n      <td>0.06</td>\n      <td>0.05</td>\n      <td>0.05</td>\n      <td>...</td>\n      <td>0.10</td>\n      <td>0.10</td>\n      <td>0.10</td>\n      <td>0.11</td>\n      <td>0.11</td>\n      <td>0.11</td>\n      <td>0.12</td>\n      <td>0.13</td>\n      <td>0.13</td>\n      <td>0.076</td>\n    </tr>\n    <tr>\n      <th>1934</th>\n      <td>Tuvalu</td>\n      <td>CAIT</td>\n      <td>Total including LUCF</td>\n      <td>CO2</td>\n      <td>MtCO₂e</td>\n      <td>0.01</td>\n      <td>0.01</td>\n      <td>0.01</td>\n      <td>0.01</td>\n      <td>0.01</td>\n      <td>...</td>\n      <td>0.01</td>\n      <td>0.01</td>\n      <td>0.01</td>\n      <td>0.01</td>\n      <td>0.01</td>\n      <td>0.01</td>\n      <td>0.01</td>\n      <td>0.00</td>\n      <td>0.00</td>\n      <td>0.009</td>\n    </tr>\n    <tr>\n      <th>2041</th>\n      <td>Niue</td>\n      <td>CAIT</td>\n      <td>Total including LUCF</td>\n      <td>CO2</td>\n      <td>MtCO₂e</td>\n      <td>0.00</td>\n      <td>0.00</td>\n      <td>0.00</td>\n      <td>0.00</td>\n      <td>0.00</td>\n      <td>...</td>\n      <td>0.01</td>\n      <td>0.01</td>\n      <td>0.01</td>\n      <td>0.01</td>\n      <td>0.01</td>\n      <td>0.01</td>\n      <td>0.01</td>\n      <td>0.01</td>\n      <td>0.01</td>\n      <td>0.007</td>\n    </tr>\n    <tr>\n      <th>2125</th>\n      <td>Fiji</td>\n      <td>CAIT</td>\n      <td>Total including LUCF</td>\n      <td>CO2</td>\n      <td>MtCO₂e</td>\n      <td>-0.65</td>\n      <td>-0.73</td>\n      <td>-0.81</td>\n      <td>-1.03</td>\n      <td>-1.24</td>\n      <td>...</td>\n      <td>-1.76</td>\n      <td>-1.74</td>\n      <td>-1.72</td>\n      <td>-1.78</td>\n      <td>-1.79</td>\n      <td>-1.79</td>\n      <td>-1.78</td>\n      <td>-1.81</td>\n      <td>-1.81</td>\n      <td>-1.454</td>\n    </tr>\n    <tr>\n      <th>2148</th>\n      <td>Ghana</td>\n      <td>CAIT</td>\n      <td>Total including LUCF</td>\n      <td>CO2</td>\n      <td>MtCO₂e</td>\n      <td>-8.82</td>\n      <td>-10.15</td>\n      <td>-10.82</td>\n      <td>44.53</td>\n      <td>43.77</td>\n      <td>...</td>\n      <td>15.98</td>\n      <td>14.18</td>\n      <td>13.98</td>\n      <td>13.60</td>\n      <td>13.34</td>\n      <td>13.07</td>\n      <td>12.96</td>\n      <td>12.44</td>\n      <td>12.67</td>\n      <td>30.434</td>\n    </tr>\n  </tbody>\n</table>\n<p>194 rows × 35 columns</p>\n</div>"
     },
     "execution_count": 26,
     "metadata": {},
     "output_type": "execute_result"
    }
   ],
   "source": [
    "emission['Mean'] = emission.iloc[:, 5:34].mean(axis=1).round(decimals=3)\n",
    "total_emission = emission.iloc[1:,:][emission['Sector'] == 'Total including LUCF']\n",
    "total_emission"
   ]
  },
  {
   "cell_type": "code",
   "execution_count": 27,
   "outputs": [],
   "source": [
    "countries_emission = np.unique(total_emission['Country'])\n",
    "mean_emission_lst = []\n",
    "for country in countries_emission:\n",
    "    mean_total_emission = total_emission[(total_emission['Country'] == country)]['Mean']\n",
    "    if len(mean_total_emission.values) > 0:\n",
    "        mean_emission_lst.append(mean_total_emission.values[0])"
   ],
   "metadata": {
    "collapsed": false,
    "pycharm": {
     "name": "#%%\n"
    }
   }
  },
  {
   "cell_type": "code",
   "execution_count": 28,
   "outputs": [],
   "source": [
    "emission_countries_yearly = total_emission.melt(id_vars=[\"Country\"], value_vars=total_emission.iloc[:,5:34], var_name=\"Year\", value_name=\"TotalEmission\")"
   ],
   "metadata": {
    "collapsed": false,
    "pycharm": {
     "name": "#%%\n"
    }
   }
  },
  {
   "cell_type": "code",
   "execution_count": 29,
   "outputs": [
    {
     "data": {
      "application/vnd.plotly.v1+json": {
       "data": [
        {
         "type": "choropleth",
         "locations": [
          "Afghanistan",
          "Albania",
          "Algeria",
          "Andorra",
          "Angola",
          "Antigua and Barbuda",
          "Argentina",
          "Armenia",
          "Australia",
          "Austria",
          "Azerbaijan",
          "Bahamas",
          "Bahrain",
          "Bangladesh",
          "Barbados",
          "Belarus",
          "Belgium",
          "Belize",
          "Benin",
          "Bhutan",
          "Bolivia",
          "Bosnia and Herzegovina",
          "Botswana",
          "Brazil",
          "Brunei",
          "Bulgaria",
          "Burkina Faso",
          "Burundi",
          "Cambodia",
          "Cameroon",
          "Canada",
          "Cape Verde",
          "Central African Republic",
          "Chad",
          "Chile",
          "China",
          "Colombia",
          "Comoros",
          "Cook Islands",
          "Costa Rica",
          "Croatia",
          "Cuba",
          "Cyprus",
          "Czech Republic",
          "Côte d'Ivoire",
          "Democratic Republic of the Congo",
          "Denmark",
          "Djibouti",
          "Dominica",
          "Dominican Republic",
          "Ecuador",
          "Egypt",
          "El Salvador",
          "Equatorial Guinea",
          "Eritrea",
          "Estonia",
          "Eswatini",
          "Ethiopia",
          "European Union (27)",
          "Fiji",
          "Finland",
          "France",
          "Gabon",
          "Gambia",
          "Georgia",
          "Germany",
          "Ghana",
          "Greece",
          "Grenada",
          "Guatemala",
          "Guinea",
          "Guinea-Bissau",
          "Guyana",
          "Haiti",
          "Honduras",
          "Hungary",
          "Iceland",
          "India",
          "Indonesia",
          "Iran",
          "Iraq",
          "Ireland",
          "Israel",
          "Italy",
          "Jamaica",
          "Japan",
          "Jordan",
          "Kazakhstan",
          "Kenya",
          "Kiribati",
          "Kuwait",
          "Kyrgyzstan",
          "Laos",
          "Latvia",
          "Lebanon",
          "Lesotho",
          "Liberia",
          "Libya",
          "Liechtenstein",
          "Lithuania",
          "Luxembourg",
          "Macedonia",
          "Madagascar",
          "Malawi",
          "Malaysia",
          "Maldives",
          "Mali",
          "Malta",
          "Marshall Islands",
          "Mauritania",
          "Mauritius",
          "Mexico",
          "Micronesia",
          "Moldova",
          "Mongolia",
          "Montenegro",
          "Morocco",
          "Mozambique",
          "Myanmar",
          "Namibia",
          "Nauru",
          "Nepal",
          "Netherlands",
          "New Zealand",
          "Nicaragua",
          "Niger",
          "Nigeria",
          "Niue",
          "North Korea",
          "Norway",
          "Oman",
          "Pakistan",
          "Palau",
          "Panama",
          "Papua New Guinea",
          "Paraguay",
          "Peru",
          "Philippines",
          "Poland",
          "Portugal",
          "Qatar",
          "Republic of Congo",
          "Romania",
          "Russia",
          "Rwanda",
          "Saint Kitts and Nevis",
          "Saint Lucia",
          "Saint Vincent and the Grenadines",
          "Samoa",
          "Sao Tome and Principe",
          "Saudi Arabia",
          "Senegal",
          "Serbia",
          "Seychelles",
          "Sierra Leone",
          "Singapore",
          "Slovakia",
          "Slovenia",
          "Solomon Islands",
          "Somalia",
          "South Africa",
          "South Korea",
          "South Sudan",
          "Spain",
          "Sri Lanka",
          "Sudan",
          "Suriname",
          "Sweden",
          "Switzerland",
          "Syria",
          "Tajikistan",
          "Tanzania",
          "Thailand",
          "Timor-Leste",
          "Togo",
          "Tonga",
          "Trinidad and Tobago",
          "Tunisia",
          "Turkey",
          "Turkmenistan",
          "Tuvalu",
          "Uganda",
          "Ukraine",
          "United Arab Emirates",
          "United Kingdom",
          "United States",
          "Uruguay",
          "Uzbekistan",
          "Vanuatu",
          "Venezuela",
          "Vietnam",
          "Yemen",
          "Zambia",
          "Zimbabwe"
         ],
         "z": [
          3.06,
          3.363,
          96.911,
          0.486,
          45.504,
          0.43,
          209.526,
          5.75,
          369.665,
          56.563,
          35.628,
          2.369,
          20.463,
          59.362,
          1.439,
          35.712,
          104.398,
          5.631,
          15.494,
          -4.639,
          78.038,
          16.995,
          45.725,
          1196.711,
          6.707,
          26.952,
          15.506,
          3.692,
          20.909,
          50.465,
          667.629,
          0.111,
          14.207,
          16.229,
          19.064,
          5405.082,
          144.359,
          0.188,
          0.046,
          4.816,
          16.968,
          16.392,
          6.679,
          111.178,
          45.421,
          434.021,
          50.996,
          0.419,
          0.167,
          14.01,
          57.04,
          154.51,
          6.927,
          8.881,
          1.033,
          16.193,
          0.91,
          35.783,
          2946.37,
          -1.454,
          30.359,
          303.724,
          8.99,
          0.878,
          0.523,
          783.668,
          30.434,
          84.57,
          0.258,
          22.833,
          12.928,
          1.701,
          11.917,
          2.11,
          12.088,
          55.011,
          2.089,
          1192.656,
          1002.294,
          402.968,
          106.339,
          36.539,
          57.71,
          373.668,
          8.26,
          1098.454,
          18.292,
          186.809,
          14.211,
          0.048,
          59.447,
          7.422,
          14.029,
          -1.484,
          17.832,
          1.913,
          14.103,
          45.104,
          0.22,
          13.276,
          9.614,
          8.788,
          23.201,
          9.177,
          222.863,
          0.76,
          1.948,
          2.342,
          0.117,
          1.943,
          2.788,
          392.824,
          0.099,
          9.963,
          16.865,
          -0.446,
          39.442,
          51.0,
          136.8,
          13.236,
          0.076,
          2.806,
          162.878,
          8.107,
          23.403,
          3.975,
          137.374,
          0.007,
          68.732,
          17.222,
          35.878,
          126.897,
          0.206,
          11.932,
          38.863,
          56.281,
          104.895,
          81.657,
          277.151,
          53.9,
          43.373,
          12.935,
          45.612,
          1033.449,
          3.111,
          0.225,
          0.237,
          0.22,
          0.284,
          0.145,
          338.159,
          10.769,
          35.008,
          0.463,
          3.929,
          40.091,
          30.48,
          6.87,
          3.97,
          17.963,
          356.283,
          424.426,
          7.567,
          247.163,
          15.083,
          31.885,
          6.897,
          41.097,
          41.213,
          40.12,
          3.763,
          58.946,
          190.541,
          0.666,
          3.166,
          0.115,
          17.471,
          21.984,
          215.867,
          48.535,
          0.009,
          18.432,
          300.891,
          122.649,
          486.986,
          4900.768,
          -3.973,
          108.729,
          0.102,
          252.493,
          72.137,
          15.36,
          24.677,
          31.435
         ],
         "locationmode": "country names",
         "text": "Mean emission",
         "marker": {
          "line": {
           "color": "rgb(0,0,0)",
           "width": 1
          }
         },
         "colorbar": {
          "autotick": true,
          "tickprefix": "",
          "title": "Mean\nEmission,\n(MtCO₂e)"
         }
        }
       ],
       "layout": {
        "title": "Mean CO2 emission in countries (1990 - 2018)",
        "geo": {
         "showframe": false,
         "showocean": true,
         "oceancolor": "rgb(0,255,255)",
         "projection": {
          "type": "orthographic",
          "rotation": {
           "lon": 60,
           "lat": 10
          }
         },
         "lonaxis": {
          "showgrid": true,
          "gridcolor": "rgb(102, 102, 102)"
         },
         "lataxis": {
          "showgrid": true,
          "gridcolor": "rgb(102, 102, 102)"
         }
        }
       },
       "config": {
        "showLink": false,
        "linkText": "Export to plot.ly",
        "plotlyServerURL": "https://plot.ly"
       }
      },
      "text/html": "<div>                            <div id=\"c3a3eb02-53ad-40ef-a727-34765609ef64\" class=\"plotly-graph-div\" style=\"height:525px; width:100%;\"></div>            <script type=\"text/javascript\">                require([\"plotly\"], function(Plotly) {                    window.PLOTLYENV=window.PLOTLYENV || {};                                    if (document.getElementById(\"c3a3eb02-53ad-40ef-a727-34765609ef64\")) {                    Plotly.newPlot(                        \"c3a3eb02-53ad-40ef-a727-34765609ef64\",                        [{\"type\":\"choropleth\",\"locations\":[\"Afghanistan\",\"Albania\",\"Algeria\",\"Andorra\",\"Angola\",\"Antigua and Barbuda\",\"Argentina\",\"Armenia\",\"Australia\",\"Austria\",\"Azerbaijan\",\"Bahamas\",\"Bahrain\",\"Bangladesh\",\"Barbados\",\"Belarus\",\"Belgium\",\"Belize\",\"Benin\",\"Bhutan\",\"Bolivia\",\"Bosnia and Herzegovina\",\"Botswana\",\"Brazil\",\"Brunei\",\"Bulgaria\",\"Burkina Faso\",\"Burundi\",\"Cambodia\",\"Cameroon\",\"Canada\",\"Cape Verde\",\"Central African Republic\",\"Chad\",\"Chile\",\"China\",\"Colombia\",\"Comoros\",\"Cook Islands\",\"Costa Rica\",\"Croatia\",\"Cuba\",\"Cyprus\",\"Czech Republic\",\"C\\u00f4te d'Ivoire\",\"Democratic Republic of the Congo\",\"Denmark\",\"Djibouti\",\"Dominica\",\"Dominican Republic\",\"Ecuador\",\"Egypt\",\"El Salvador\",\"Equatorial Guinea\",\"Eritrea\",\"Estonia\",\"Eswatini\",\"Ethiopia\",\"European Union (27)\",\"Fiji\",\"Finland\",\"France\",\"Gabon\",\"Gambia\",\"Georgia\",\"Germany\",\"Ghana\",\"Greece\",\"Grenada\",\"Guatemala\",\"Guinea\",\"Guinea-Bissau\",\"Guyana\",\"Haiti\",\"Honduras\",\"Hungary\",\"Iceland\",\"India\",\"Indonesia\",\"Iran\",\"Iraq\",\"Ireland\",\"Israel\",\"Italy\",\"Jamaica\",\"Japan\",\"Jordan\",\"Kazakhstan\",\"Kenya\",\"Kiribati\",\"Kuwait\",\"Kyrgyzstan\",\"Laos\",\"Latvia\",\"Lebanon\",\"Lesotho\",\"Liberia\",\"Libya\",\"Liechtenstein\",\"Lithuania\",\"Luxembourg\",\"Macedonia\",\"Madagascar\",\"Malawi\",\"Malaysia\",\"Maldives\",\"Mali\",\"Malta\",\"Marshall Islands\",\"Mauritania\",\"Mauritius\",\"Mexico\",\"Micronesia\",\"Moldova\",\"Mongolia\",\"Montenegro\",\"Morocco\",\"Mozambique\",\"Myanmar\",\"Namibia\",\"Nauru\",\"Nepal\",\"Netherlands\",\"New Zealand\",\"Nicaragua\",\"Niger\",\"Nigeria\",\"Niue\",\"North Korea\",\"Norway\",\"Oman\",\"Pakistan\",\"Palau\",\"Panama\",\"Papua New Guinea\",\"Paraguay\",\"Peru\",\"Philippines\",\"Poland\",\"Portugal\",\"Qatar\",\"Republic of Congo\",\"Romania\",\"Russia\",\"Rwanda\",\"Saint Kitts and Nevis\",\"Saint Lucia\",\"Saint Vincent and the Grenadines\",\"Samoa\",\"Sao Tome and Principe\",\"Saudi Arabia\",\"Senegal\",\"Serbia\",\"Seychelles\",\"Sierra Leone\",\"Singapore\",\"Slovakia\",\"Slovenia\",\"Solomon Islands\",\"Somalia\",\"South Africa\",\"South Korea\",\"South Sudan\",\"Spain\",\"Sri Lanka\",\"Sudan\",\"Suriname\",\"Sweden\",\"Switzerland\",\"Syria\",\"Tajikistan\",\"Tanzania\",\"Thailand\",\"Timor-Leste\",\"Togo\",\"Tonga\",\"Trinidad and Tobago\",\"Tunisia\",\"Turkey\",\"Turkmenistan\",\"Tuvalu\",\"Uganda\",\"Ukraine\",\"United Arab Emirates\",\"United Kingdom\",\"United States\",\"Uruguay\",\"Uzbekistan\",\"Vanuatu\",\"Venezuela\",\"Vietnam\",\"Yemen\",\"Zambia\",\"Zimbabwe\"],\"z\":[3.06,3.363,96.911,0.486,45.504,0.43,209.526,5.75,369.665,56.563,35.628,2.369,20.463,59.362,1.439,35.712,104.398,5.631,15.494,-4.639,78.038,16.995,45.725,1196.711,6.707,26.952,15.506,3.692,20.909,50.465,667.629,0.111,14.207,16.229,19.064,5405.082,144.359,0.188,0.046,4.816,16.968,16.392,6.679,111.178,45.421,434.021,50.996,0.419,0.167,14.01,57.04,154.51,6.927,8.881,1.033,16.193,0.91,35.783,2946.37,-1.454,30.359,303.724,8.99,0.878,0.523,783.668,30.434,84.57,0.258,22.833,12.928,1.701,11.917,2.11,12.088,55.011,2.089,1192.656,1002.294,402.968,106.339,36.539,57.71,373.668,8.26,1098.454,18.292,186.809,14.211,0.048,59.447,7.422,14.029,-1.484,17.832,1.913,14.103,45.104,0.22,13.276,9.614,8.788,23.201,9.177,222.863,0.76,1.948,2.342,0.117,1.943,2.788,392.824,0.099,9.963,16.865,-0.446,39.442,51.0,136.8,13.236,0.076,2.806,162.878,8.107,23.403,3.975,137.374,0.007,68.732,17.222,35.878,126.897,0.206,11.932,38.863,56.281,104.895,81.657,277.151,53.9,43.373,12.935,45.612,1033.449,3.111,0.225,0.237,0.22,0.284,0.145,338.159,10.769,35.008,0.463,3.929,40.091,30.48,6.87,3.97,17.963,356.283,424.426,7.567,247.163,15.083,31.885,6.897,41.097,41.213,40.12,3.763,58.946,190.541,0.666,3.166,0.115,17.471,21.984,215.867,48.535,0.009,18.432,300.891,122.649,486.986,4900.768,-3.973,108.729,0.102,252.493,72.137,15.36,24.677,31.435],\"locationmode\":\"country names\",\"text\":\"Mean emission\",\"marker\":{\"line\":{\"color\":\"rgb(0,0,0)\",\"width\":1}},\"colorbar\":{\"autotick\":true,\"tickprefix\":\"\",\"title\":\"Mean\\nEmission,\\n(MtCO\\u2082e)\"}}],                        {\"title\":\"Mean CO2 emission in countries (1990 - 2018)\",\"geo\":{\"showframe\":false,\"showocean\":true,\"oceancolor\":\"rgb(0,255,255)\",\"projection\":{\"type\":\"orthographic\",\"rotation\":{\"lon\":60,\"lat\":10}},\"lonaxis\":{\"showgrid\":true,\"gridcolor\":\"rgb(102, 102, 102)\"},\"lataxis\":{\"showgrid\":true,\"gridcolor\":\"rgb(102, 102, 102)\"}}},                        {\"responsive\": true}                    ).then(function(){\n                            \nvar gd = document.getElementById('c3a3eb02-53ad-40ef-a727-34765609ef64');\nvar x = new MutationObserver(function (mutations, observer) {{\n        var display = window.getComputedStyle(gd).display;\n        if (!display || display === 'none') {{\n            console.log([gd, 'removed!']);\n            Plotly.purge(gd);\n            observer.disconnect();\n        }}\n}});\n\n// Listen for the removal of the full notebook cells\nvar notebookContainer = gd.closest('#notebook-container');\nif (notebookContainer) {{\n    x.observe(notebookContainer, {childList: true});\n}}\n\n// Listen for the clearing of the current output cell\nvar outputEl = gd.closest('.output');\nif (outputEl) {{\n    x.observe(outputEl, {childList: true});\n}}\n\n                        })                };                });            </script>        </div>"
     },
     "metadata": {},
     "output_type": "display_data"
    }
   ],
   "source": [
    "data_emission = [dict(type='choropleth', locations=countries_emission, z=mean_emission_lst, locationmode='country names', text='Mean emission',\n",
    "             marker=dict(line=dict(color='rgb(0,0,0)', width=1)),\n",
    "             colorbar=dict(autotick=True, tickprefix='', title='Mean\\nEmission,\\n(MtCO₂e)'))]\n",
    "layout = dict(title='Mean CO2 emission in countries (1990 - 2018)',\n",
    "              geo=dict(showframe=False, showocean=True, oceancolor='rgb(0,255,255)',\n",
    "                       projection=dict(type='orthographic', rotation=dict(lon=60, lat=10), ),\n",
    "                       lonaxis=dict(showgrid=True, gridcolor='rgb(102, 102, 102)'),\n",
    "                       lataxis=dict(showgrid=True, gridcolor='rgb(102, 102, 102)')), )\n",
    "fig_emission = dict(data=data_emission, layout=layout)\n",
    "py.iplot(fig_emission, validate=False, filename='worldmap')\n"
   ],
   "metadata": {
    "collapsed": false,
    "pycharm": {
     "name": "#%%\n"
    }
   }
  },
  {
   "cell_type": "code",
   "execution_count": 30,
   "outputs": [
    {
     "data": {
      "application/vnd.plotly.v1+json": {
       "data": [
        {
         "name": "Average Temperature",
         "x": [
          1900,
          1901,
          1902,
          1903,
          1904,
          1905,
          1906,
          1907,
          1908,
          1909,
          1910,
          1911,
          1912,
          1913,
          1914,
          1915,
          1916,
          1917,
          1918,
          1919,
          1920,
          1921,
          1922,
          1923,
          1924,
          1925,
          1926,
          1927,
          1928,
          1929,
          1930,
          1931,
          1932,
          1933,
          1934,
          1935,
          1936,
          1937,
          1938,
          1939,
          1940,
          1941,
          1942,
          1943,
          1944,
          1945,
          1946,
          1947,
          1948,
          1949,
          1950,
          1951,
          1952,
          1953,
          1954,
          1955,
          1956,
          1957,
          1958,
          1959,
          1960,
          1961,
          1962,
          1963,
          1964,
          1965,
          1966,
          1967,
          1968,
          1969,
          1970,
          1971,
          1972,
          1973,
          1974,
          1975,
          1976,
          1977,
          1978,
          1979,
          1980,
          1981,
          1982,
          1983,
          1984,
          1985,
          1986,
          1987,
          1988,
          1989,
          1990,
          1991,
          1992,
          1993,
          1994,
          1995,
          1996,
          1997,
          1998,
          1999,
          2000,
          2001,
          2002,
          2003,
          2004,
          2005,
          2006,
          2007,
          2008,
          2009,
          2010,
          2011,
          2012,
          2013
         ],
         "y": [
          9.021583333333334,
          8.494916666666667,
          8.453999999999999,
          7.977250000000001,
          8.200666666666665,
          8.402333333333333,
          8.560083333333333,
          8.394,
          8.755583333333334,
          8.221833333333334,
          8.757916666666667,
          8.737916666666667,
          8.140916666666667,
          8.552166666666666,
          8.8765,
          8.648249999999999,
          8.180083333333334,
          7.669499999999999,
          8.50125,
          8.538,
          8.1845,
          9.595666666666666,
          8.768166666666668,
          8.760333333333334,
          8.052333333333333,
          9.016416666666666,
          9.14025,
          8.719333333333333,
          8.876,
          8.4395,
          8.737666666666668,
          9.56075,
          8.5395,
          9.030583333333334,
          9.826583333333334,
          8.7425,
          8.92225,
          8.73075,
          9.471833333333334,
          9.3075,
          9.097166666666668,
          9.266083333333333,
          8.919333333333332,
          9.0035,
          8.898166666666667,
          8.671249999999999,
          9.179583333333333,
          8.836083333333333,
          8.481666666666667,
          8.888083333333332,
          8.656416666666667,
          8.416583333333334,
          8.979416666666667,
          9.530416666666666,
          9.410583333333333,
          8.517166666666666,
          8.699916666666667,
          9.126333333333333,
          8.970166666666668,
          8.825333333333333,
          8.69225,
          8.642000000000001,
          8.9565,
          9.08,
          8.491666666666667,
          8.647666666666668,
          8.483,
          8.902,
          8.55325,
          8.770833333333334,
          8.673,
          8.4425,
          8.428083333333333,
          8.934666666666667,
          8.815916666666666,
          8.431,
          8.65125,
          9.269833333333333,
          8.751416666666666,
          8.571583333333333,
          9.1355,
          9.7215,
          8.5395,
          8.912333333333333,
          8.811166666666667,
          8.587000000000002,
          9.5595,
          9.628166666666667,
          9.275333333333334,
          8.873083333333334,
          9.521583333333334,
          9.493666666666666,
          9.056333333333333,
          8.86725,
          9.270333333333333,
          9.331000000000001,
          8.754333333333333,
          9.172916666666667,
          10.141166666666667,
          9.567,
          9.64975,
          9.785583333333333,
          9.816166666666666,
          9.755083333333333,
          9.6675,
          9.892666666666667,
          9.9745,
          9.8375,
          8.951416666666667,
          9.137083333333333,
          9.505583333333334,
          9.549916666666666,
          10.261083333333334,
          11.297111111111112
         ],
         "type": "scatter",
         "xaxis": "x",
         "yaxis": "y"
        },
        {
         "name": "Total Emission",
         "x": [
          "2018",
          "2017",
          "2016",
          "2015",
          "2014",
          "2013",
          "2012",
          "2011",
          "2010",
          "2009",
          "2008",
          "2007",
          "2006",
          "2005",
          "2004",
          "2003",
          "2002",
          "2001",
          "2000",
          "1999",
          "1998",
          "1997",
          "1996",
          "1995",
          "1994",
          "1993",
          "1992",
          "1991",
          "1990"
         ],
         "y": [
          4749.57,
          4581.9,
          4656.84,
          4563.52,
          4683.35,
          4670.34,
          4531.16,
          4753.12,
          4990.96,
          4757.65,
          5161.51,
          5338.52,
          5254.87,
          5354.45,
          5338.46,
          5258.12,
          5192.68,
          5347.79,
          5357.88,
          5191.66,
          5172.06,
          5129.29,
          4864.46,
          4708.31,
          4654.52,
          4581.76,
          4461.62,
          4389.5,
          4426.4
         ],
         "type": "scatter",
         "xaxis": "x",
         "yaxis": "y2"
        }
       ],
       "layout": {
        "template": {
         "data": {
          "histogram2dcontour": [
           {
            "type": "histogram2dcontour",
            "colorbar": {
             "outlinewidth": 0,
             "ticks": ""
            },
            "colorscale": [
             [
              0.0,
              "#0d0887"
             ],
             [
              0.1111111111111111,
              "#46039f"
             ],
             [
              0.2222222222222222,
              "#7201a8"
             ],
             [
              0.3333333333333333,
              "#9c179e"
             ],
             [
              0.4444444444444444,
              "#bd3786"
             ],
             [
              0.5555555555555556,
              "#d8576b"
             ],
             [
              0.6666666666666666,
              "#ed7953"
             ],
             [
              0.7777777777777778,
              "#fb9f3a"
             ],
             [
              0.8888888888888888,
              "#fdca26"
             ],
             [
              1.0,
              "#f0f921"
             ]
            ]
           }
          ],
          "choropleth": [
           {
            "type": "choropleth",
            "colorbar": {
             "outlinewidth": 0,
             "ticks": ""
            }
           }
          ],
          "histogram2d": [
           {
            "type": "histogram2d",
            "colorbar": {
             "outlinewidth": 0,
             "ticks": ""
            },
            "colorscale": [
             [
              0.0,
              "#0d0887"
             ],
             [
              0.1111111111111111,
              "#46039f"
             ],
             [
              0.2222222222222222,
              "#7201a8"
             ],
             [
              0.3333333333333333,
              "#9c179e"
             ],
             [
              0.4444444444444444,
              "#bd3786"
             ],
             [
              0.5555555555555556,
              "#d8576b"
             ],
             [
              0.6666666666666666,
              "#ed7953"
             ],
             [
              0.7777777777777778,
              "#fb9f3a"
             ],
             [
              0.8888888888888888,
              "#fdca26"
             ],
             [
              1.0,
              "#f0f921"
             ]
            ]
           }
          ],
          "heatmap": [
           {
            "type": "heatmap",
            "colorbar": {
             "outlinewidth": 0,
             "ticks": ""
            },
            "colorscale": [
             [
              0.0,
              "#0d0887"
             ],
             [
              0.1111111111111111,
              "#46039f"
             ],
             [
              0.2222222222222222,
              "#7201a8"
             ],
             [
              0.3333333333333333,
              "#9c179e"
             ],
             [
              0.4444444444444444,
              "#bd3786"
             ],
             [
              0.5555555555555556,
              "#d8576b"
             ],
             [
              0.6666666666666666,
              "#ed7953"
             ],
             [
              0.7777777777777778,
              "#fb9f3a"
             ],
             [
              0.8888888888888888,
              "#fdca26"
             ],
             [
              1.0,
              "#f0f921"
             ]
            ]
           }
          ],
          "heatmapgl": [
           {
            "type": "heatmapgl",
            "colorbar": {
             "outlinewidth": 0,
             "ticks": ""
            },
            "colorscale": [
             [
              0.0,
              "#0d0887"
             ],
             [
              0.1111111111111111,
              "#46039f"
             ],
             [
              0.2222222222222222,
              "#7201a8"
             ],
             [
              0.3333333333333333,
              "#9c179e"
             ],
             [
              0.4444444444444444,
              "#bd3786"
             ],
             [
              0.5555555555555556,
              "#d8576b"
             ],
             [
              0.6666666666666666,
              "#ed7953"
             ],
             [
              0.7777777777777778,
              "#fb9f3a"
             ],
             [
              0.8888888888888888,
              "#fdca26"
             ],
             [
              1.0,
              "#f0f921"
             ]
            ]
           }
          ],
          "contourcarpet": [
           {
            "type": "contourcarpet",
            "colorbar": {
             "outlinewidth": 0,
             "ticks": ""
            }
           }
          ],
          "contour": [
           {
            "type": "contour",
            "colorbar": {
             "outlinewidth": 0,
             "ticks": ""
            },
            "colorscale": [
             [
              0.0,
              "#0d0887"
             ],
             [
              0.1111111111111111,
              "#46039f"
             ],
             [
              0.2222222222222222,
              "#7201a8"
             ],
             [
              0.3333333333333333,
              "#9c179e"
             ],
             [
              0.4444444444444444,
              "#bd3786"
             ],
             [
              0.5555555555555556,
              "#d8576b"
             ],
             [
              0.6666666666666666,
              "#ed7953"
             ],
             [
              0.7777777777777778,
              "#fb9f3a"
             ],
             [
              0.8888888888888888,
              "#fdca26"
             ],
             [
              1.0,
              "#f0f921"
             ]
            ]
           }
          ],
          "surface": [
           {
            "type": "surface",
            "colorbar": {
             "outlinewidth": 0,
             "ticks": ""
            },
            "colorscale": [
             [
              0.0,
              "#0d0887"
             ],
             [
              0.1111111111111111,
              "#46039f"
             ],
             [
              0.2222222222222222,
              "#7201a8"
             ],
             [
              0.3333333333333333,
              "#9c179e"
             ],
             [
              0.4444444444444444,
              "#bd3786"
             ],
             [
              0.5555555555555556,
              "#d8576b"
             ],
             [
              0.6666666666666666,
              "#ed7953"
             ],
             [
              0.7777777777777778,
              "#fb9f3a"
             ],
             [
              0.8888888888888888,
              "#fdca26"
             ],
             [
              1.0,
              "#f0f921"
             ]
            ]
           }
          ],
          "mesh3d": [
           {
            "type": "mesh3d",
            "colorbar": {
             "outlinewidth": 0,
             "ticks": ""
            }
           }
          ],
          "scatter": [
           {
            "marker": {
             "line": {
              "color": "#283442"
             }
            },
            "type": "scatter"
           }
          ],
          "parcoords": [
           {
            "type": "parcoords",
            "line": {
             "colorbar": {
              "outlinewidth": 0,
              "ticks": ""
             }
            }
           }
          ],
          "scatterpolargl": [
           {
            "type": "scatterpolargl",
            "marker": {
             "colorbar": {
              "outlinewidth": 0,
              "ticks": ""
             }
            }
           }
          ],
          "bar": [
           {
            "error_x": {
             "color": "#f2f5fa"
            },
            "error_y": {
             "color": "#f2f5fa"
            },
            "marker": {
             "line": {
              "color": "rgb(17,17,17)",
              "width": 0.5
             },
             "pattern": {
              "fillmode": "overlay",
              "size": 10,
              "solidity": 0.2
             }
            },
            "type": "bar"
           }
          ],
          "scattergeo": [
           {
            "type": "scattergeo",
            "marker": {
             "colorbar": {
              "outlinewidth": 0,
              "ticks": ""
             }
            }
           }
          ],
          "scatterpolar": [
           {
            "type": "scatterpolar",
            "marker": {
             "colorbar": {
              "outlinewidth": 0,
              "ticks": ""
             }
            }
           }
          ],
          "histogram": [
           {
            "marker": {
             "pattern": {
              "fillmode": "overlay",
              "size": 10,
              "solidity": 0.2
             }
            },
            "type": "histogram"
           }
          ],
          "scattergl": [
           {
            "marker": {
             "line": {
              "color": "#283442"
             }
            },
            "type": "scattergl"
           }
          ],
          "scatter3d": [
           {
            "type": "scatter3d",
            "line": {
             "colorbar": {
              "outlinewidth": 0,
              "ticks": ""
             }
            },
            "marker": {
             "colorbar": {
              "outlinewidth": 0,
              "ticks": ""
             }
            }
           }
          ],
          "scattermapbox": [
           {
            "type": "scattermapbox",
            "marker": {
             "colorbar": {
              "outlinewidth": 0,
              "ticks": ""
             }
            }
           }
          ],
          "scatterternary": [
           {
            "type": "scatterternary",
            "marker": {
             "colorbar": {
              "outlinewidth": 0,
              "ticks": ""
             }
            }
           }
          ],
          "scattercarpet": [
           {
            "type": "scattercarpet",
            "marker": {
             "colorbar": {
              "outlinewidth": 0,
              "ticks": ""
             }
            }
           }
          ],
          "carpet": [
           {
            "aaxis": {
             "endlinecolor": "#A2B1C6",
             "gridcolor": "#506784",
             "linecolor": "#506784",
             "minorgridcolor": "#506784",
             "startlinecolor": "#A2B1C6"
            },
            "baxis": {
             "endlinecolor": "#A2B1C6",
             "gridcolor": "#506784",
             "linecolor": "#506784",
             "minorgridcolor": "#506784",
             "startlinecolor": "#A2B1C6"
            },
            "type": "carpet"
           }
          ],
          "table": [
           {
            "cells": {
             "fill": {
              "color": "#506784"
             },
             "line": {
              "color": "rgb(17,17,17)"
             }
            },
            "header": {
             "fill": {
              "color": "#2a3f5f"
             },
             "line": {
              "color": "rgb(17,17,17)"
             }
            },
            "type": "table"
           }
          ],
          "barpolar": [
           {
            "marker": {
             "line": {
              "color": "rgb(17,17,17)",
              "width": 0.5
             },
             "pattern": {
              "fillmode": "overlay",
              "size": 10,
              "solidity": 0.2
             }
            },
            "type": "barpolar"
           }
          ],
          "pie": [
           {
            "automargin": true,
            "type": "pie"
           }
          ]
         },
         "layout": {
          "autotypenumbers": "strict",
          "colorway": [
           "#636efa",
           "#EF553B",
           "#00cc96",
           "#ab63fa",
           "#FFA15A",
           "#19d3f3",
           "#FF6692",
           "#B6E880",
           "#FF97FF",
           "#FECB52"
          ],
          "font": {
           "color": "#f2f5fa"
          },
          "hovermode": "closest",
          "hoverlabel": {
           "align": "left"
          },
          "paper_bgcolor": "rgb(17,17,17)",
          "plot_bgcolor": "rgb(17,17,17)",
          "polar": {
           "bgcolor": "rgb(17,17,17)",
           "angularaxis": {
            "gridcolor": "#506784",
            "linecolor": "#506784",
            "ticks": ""
           },
           "radialaxis": {
            "gridcolor": "#506784",
            "linecolor": "#506784",
            "ticks": ""
           }
          },
          "ternary": {
           "bgcolor": "rgb(17,17,17)",
           "aaxis": {
            "gridcolor": "#506784",
            "linecolor": "#506784",
            "ticks": ""
           },
           "baxis": {
            "gridcolor": "#506784",
            "linecolor": "#506784",
            "ticks": ""
           },
           "caxis": {
            "gridcolor": "#506784",
            "linecolor": "#506784",
            "ticks": ""
           }
          },
          "coloraxis": {
           "colorbar": {
            "outlinewidth": 0,
            "ticks": ""
           }
          },
          "colorscale": {
           "sequential": [
            [
             0.0,
             "#0d0887"
            ],
            [
             0.1111111111111111,
             "#46039f"
            ],
            [
             0.2222222222222222,
             "#7201a8"
            ],
            [
             0.3333333333333333,
             "#9c179e"
            ],
            [
             0.4444444444444444,
             "#bd3786"
            ],
            [
             0.5555555555555556,
             "#d8576b"
            ],
            [
             0.6666666666666666,
             "#ed7953"
            ],
            [
             0.7777777777777778,
             "#fb9f3a"
            ],
            [
             0.8888888888888888,
             "#fdca26"
            ],
            [
             1.0,
             "#f0f921"
            ]
           ],
           "sequentialminus": [
            [
             0.0,
             "#0d0887"
            ],
            [
             0.1111111111111111,
             "#46039f"
            ],
            [
             0.2222222222222222,
             "#7201a8"
            ],
            [
             0.3333333333333333,
             "#9c179e"
            ],
            [
             0.4444444444444444,
             "#bd3786"
            ],
            [
             0.5555555555555556,
             "#d8576b"
            ],
            [
             0.6666666666666666,
             "#ed7953"
            ],
            [
             0.7777777777777778,
             "#fb9f3a"
            ],
            [
             0.8888888888888888,
             "#fdca26"
            ],
            [
             1.0,
             "#f0f921"
            ]
           ],
           "diverging": [
            [
             0,
             "#8e0152"
            ],
            [
             0.1,
             "#c51b7d"
            ],
            [
             0.2,
             "#de77ae"
            ],
            [
             0.3,
             "#f1b6da"
            ],
            [
             0.4,
             "#fde0ef"
            ],
            [
             0.5,
             "#f7f7f7"
            ],
            [
             0.6,
             "#e6f5d0"
            ],
            [
             0.7,
             "#b8e186"
            ],
            [
             0.8,
             "#7fbc41"
            ],
            [
             0.9,
             "#4d9221"
            ],
            [
             1,
             "#276419"
            ]
           ]
          },
          "xaxis": {
           "gridcolor": "#283442",
           "linecolor": "#506784",
           "ticks": "",
           "title": {
            "standoff": 15
           },
           "zerolinecolor": "#283442",
           "automargin": true,
           "zerolinewidth": 2
          },
          "yaxis": {
           "gridcolor": "#283442",
           "linecolor": "#506784",
           "ticks": "",
           "title": {
            "standoff": 15
           },
           "zerolinecolor": "#283442",
           "automargin": true,
           "zerolinewidth": 2
          },
          "scene": {
           "xaxis": {
            "backgroundcolor": "rgb(17,17,17)",
            "gridcolor": "#506784",
            "linecolor": "#506784",
            "showbackground": true,
            "ticks": "",
            "zerolinecolor": "#C8D4E3",
            "gridwidth": 2
           },
           "yaxis": {
            "backgroundcolor": "rgb(17,17,17)",
            "gridcolor": "#506784",
            "linecolor": "#506784",
            "showbackground": true,
            "ticks": "",
            "zerolinecolor": "#C8D4E3",
            "gridwidth": 2
           },
           "zaxis": {
            "backgroundcolor": "rgb(17,17,17)",
            "gridcolor": "#506784",
            "linecolor": "#506784",
            "showbackground": true,
            "ticks": "",
            "zerolinecolor": "#C8D4E3",
            "gridwidth": 2
           }
          },
          "shapedefaults": {
           "line": {
            "color": "#f2f5fa"
           }
          },
          "annotationdefaults": {
           "arrowcolor": "#f2f5fa",
           "arrowhead": 0,
           "arrowwidth": 1
          },
          "geo": {
           "bgcolor": "rgb(17,17,17)",
           "landcolor": "rgb(17,17,17)",
           "subunitcolor": "#506784",
           "showland": true,
           "showlakes": true,
           "lakecolor": "rgb(17,17,17)"
          },
          "title": {
           "x": 0.05
          },
          "updatemenudefaults": {
           "bgcolor": "#506784",
           "borderwidth": 0
          },
          "sliderdefaults": {
           "bgcolor": "#C8D4E3",
           "borderwidth": 1,
           "bordercolor": "rgb(17,17,17)",
           "tickwidth": 0
          },
          "mapbox": {
           "style": "dark"
          }
         }
        },
        "xaxis": {
         "anchor": "y",
         "domain": [
          0.0,
          0.94
         ],
         "title": {
          "text": "Year"
         }
        },
        "yaxis": {
         "anchor": "x",
         "domain": [
          0.0,
          1.0
         ],
         "title": {
          "text": "Temperature"
         }
        },
        "yaxis2": {
         "anchor": "x",
         "overlaying": "y",
         "side": "right",
         "title": {
          "text": "Total Emission"
         }
        },
        "title": {
         "text": "Average Temperature and Total Emission of the United States"
        }
       },
       "config": {
        "plotlyServerURL": "https://plot.ly"
       }
      },
      "text/html": "<div>                            <div id=\"51ec8ff4-781b-40a0-9562-6338126caf6a\" class=\"plotly-graph-div\" style=\"height:525px; width:100%;\"></div>            <script type=\"text/javascript\">                require([\"plotly\"], function(Plotly) {                    window.PLOTLYENV=window.PLOTLYENV || {};                                    if (document.getElementById(\"51ec8ff4-781b-40a0-9562-6338126caf6a\")) {                    Plotly.newPlot(                        \"51ec8ff4-781b-40a0-9562-6338126caf6a\",                        [{\"name\":\"Average Temperature\",\"x\":[1900,1901,1902,1903,1904,1905,1906,1907,1908,1909,1910,1911,1912,1913,1914,1915,1916,1917,1918,1919,1920,1921,1922,1923,1924,1925,1926,1927,1928,1929,1930,1931,1932,1933,1934,1935,1936,1937,1938,1939,1940,1941,1942,1943,1944,1945,1946,1947,1948,1949,1950,1951,1952,1953,1954,1955,1956,1957,1958,1959,1960,1961,1962,1963,1964,1965,1966,1967,1968,1969,1970,1971,1972,1973,1974,1975,1976,1977,1978,1979,1980,1981,1982,1983,1984,1985,1986,1987,1988,1989,1990,1991,1992,1993,1994,1995,1996,1997,1998,1999,2000,2001,2002,2003,2004,2005,2006,2007,2008,2009,2010,2011,2012,2013],\"y\":[9.021583333333334,8.494916666666667,8.453999999999999,7.977250000000001,8.200666666666665,8.402333333333333,8.560083333333333,8.394,8.755583333333334,8.221833333333334,8.757916666666667,8.737916666666667,8.140916666666667,8.552166666666666,8.8765,8.648249999999999,8.180083333333334,7.669499999999999,8.50125,8.538,8.1845,9.595666666666666,8.768166666666668,8.760333333333334,8.052333333333333,9.016416666666666,9.14025,8.719333333333333,8.876,8.4395,8.737666666666668,9.56075,8.5395,9.030583333333334,9.826583333333334,8.7425,8.92225,8.73075,9.471833333333334,9.3075,9.097166666666668,9.266083333333333,8.919333333333332,9.0035,8.898166666666667,8.671249999999999,9.179583333333333,8.836083333333333,8.481666666666667,8.888083333333332,8.656416666666667,8.416583333333334,8.979416666666667,9.530416666666666,9.410583333333333,8.517166666666666,8.699916666666667,9.126333333333333,8.970166666666668,8.825333333333333,8.69225,8.642000000000001,8.9565,9.08,8.491666666666667,8.647666666666668,8.483,8.902,8.55325,8.770833333333334,8.673,8.4425,8.428083333333333,8.934666666666667,8.815916666666666,8.431,8.65125,9.269833333333333,8.751416666666666,8.571583333333333,9.1355,9.7215,8.5395,8.912333333333333,8.811166666666667,8.587000000000002,9.5595,9.628166666666667,9.275333333333334,8.873083333333334,9.521583333333334,9.493666666666666,9.056333333333333,8.86725,9.270333333333333,9.331000000000001,8.754333333333333,9.172916666666667,10.141166666666667,9.567,9.64975,9.785583333333333,9.816166666666666,9.755083333333333,9.6675,9.892666666666667,9.9745,9.8375,8.951416666666667,9.137083333333333,9.505583333333334,9.549916666666666,10.261083333333334,11.297111111111112],\"type\":\"scatter\",\"xaxis\":\"x\",\"yaxis\":\"y\"},{\"name\":\"Total Emission\",\"x\":[\"2018\",\"2017\",\"2016\",\"2015\",\"2014\",\"2013\",\"2012\",\"2011\",\"2010\",\"2009\",\"2008\",\"2007\",\"2006\",\"2005\",\"2004\",\"2003\",\"2002\",\"2001\",\"2000\",\"1999\",\"1998\",\"1997\",\"1996\",\"1995\",\"1994\",\"1993\",\"1992\",\"1991\",\"1990\"],\"y\":[4749.57,4581.9,4656.84,4563.52,4683.35,4670.34,4531.16,4753.12,4990.96,4757.65,5161.51,5338.52,5254.87,5354.45,5338.46,5258.12,5192.68,5347.79,5357.88,5191.66,5172.06,5129.29,4864.46,4708.31,4654.52,4581.76,4461.62,4389.5,4426.4],\"type\":\"scatter\",\"xaxis\":\"x\",\"yaxis\":\"y2\"}],                        {\"template\":{\"data\":{\"histogram2dcontour\":[{\"type\":\"histogram2dcontour\",\"colorbar\":{\"outlinewidth\":0,\"ticks\":\"\"},\"colorscale\":[[0.0,\"#0d0887\"],[0.1111111111111111,\"#46039f\"],[0.2222222222222222,\"#7201a8\"],[0.3333333333333333,\"#9c179e\"],[0.4444444444444444,\"#bd3786\"],[0.5555555555555556,\"#d8576b\"],[0.6666666666666666,\"#ed7953\"],[0.7777777777777778,\"#fb9f3a\"],[0.8888888888888888,\"#fdca26\"],[1.0,\"#f0f921\"]]}],\"choropleth\":[{\"type\":\"choropleth\",\"colorbar\":{\"outlinewidth\":0,\"ticks\":\"\"}}],\"histogram2d\":[{\"type\":\"histogram2d\",\"colorbar\":{\"outlinewidth\":0,\"ticks\":\"\"},\"colorscale\":[[0.0,\"#0d0887\"],[0.1111111111111111,\"#46039f\"],[0.2222222222222222,\"#7201a8\"],[0.3333333333333333,\"#9c179e\"],[0.4444444444444444,\"#bd3786\"],[0.5555555555555556,\"#d8576b\"],[0.6666666666666666,\"#ed7953\"],[0.7777777777777778,\"#fb9f3a\"],[0.8888888888888888,\"#fdca26\"],[1.0,\"#f0f921\"]]}],\"heatmap\":[{\"type\":\"heatmap\",\"colorbar\":{\"outlinewidth\":0,\"ticks\":\"\"},\"colorscale\":[[0.0,\"#0d0887\"],[0.1111111111111111,\"#46039f\"],[0.2222222222222222,\"#7201a8\"],[0.3333333333333333,\"#9c179e\"],[0.4444444444444444,\"#bd3786\"],[0.5555555555555556,\"#d8576b\"],[0.6666666666666666,\"#ed7953\"],[0.7777777777777778,\"#fb9f3a\"],[0.8888888888888888,\"#fdca26\"],[1.0,\"#f0f921\"]]}],\"heatmapgl\":[{\"type\":\"heatmapgl\",\"colorbar\":{\"outlinewidth\":0,\"ticks\":\"\"},\"colorscale\":[[0.0,\"#0d0887\"],[0.1111111111111111,\"#46039f\"],[0.2222222222222222,\"#7201a8\"],[0.3333333333333333,\"#9c179e\"],[0.4444444444444444,\"#bd3786\"],[0.5555555555555556,\"#d8576b\"],[0.6666666666666666,\"#ed7953\"],[0.7777777777777778,\"#fb9f3a\"],[0.8888888888888888,\"#fdca26\"],[1.0,\"#f0f921\"]]}],\"contourcarpet\":[{\"type\":\"contourcarpet\",\"colorbar\":{\"outlinewidth\":0,\"ticks\":\"\"}}],\"contour\":[{\"type\":\"contour\",\"colorbar\":{\"outlinewidth\":0,\"ticks\":\"\"},\"colorscale\":[[0.0,\"#0d0887\"],[0.1111111111111111,\"#46039f\"],[0.2222222222222222,\"#7201a8\"],[0.3333333333333333,\"#9c179e\"],[0.4444444444444444,\"#bd3786\"],[0.5555555555555556,\"#d8576b\"],[0.6666666666666666,\"#ed7953\"],[0.7777777777777778,\"#fb9f3a\"],[0.8888888888888888,\"#fdca26\"],[1.0,\"#f0f921\"]]}],\"surface\":[{\"type\":\"surface\",\"colorbar\":{\"outlinewidth\":0,\"ticks\":\"\"},\"colorscale\":[[0.0,\"#0d0887\"],[0.1111111111111111,\"#46039f\"],[0.2222222222222222,\"#7201a8\"],[0.3333333333333333,\"#9c179e\"],[0.4444444444444444,\"#bd3786\"],[0.5555555555555556,\"#d8576b\"],[0.6666666666666666,\"#ed7953\"],[0.7777777777777778,\"#fb9f3a\"],[0.8888888888888888,\"#fdca26\"],[1.0,\"#f0f921\"]]}],\"mesh3d\":[{\"type\":\"mesh3d\",\"colorbar\":{\"outlinewidth\":0,\"ticks\":\"\"}}],\"scatter\":[{\"marker\":{\"line\":{\"color\":\"#283442\"}},\"type\":\"scatter\"}],\"parcoords\":[{\"type\":\"parcoords\",\"line\":{\"colorbar\":{\"outlinewidth\":0,\"ticks\":\"\"}}}],\"scatterpolargl\":[{\"type\":\"scatterpolargl\",\"marker\":{\"colorbar\":{\"outlinewidth\":0,\"ticks\":\"\"}}}],\"bar\":[{\"error_x\":{\"color\":\"#f2f5fa\"},\"error_y\":{\"color\":\"#f2f5fa\"},\"marker\":{\"line\":{\"color\":\"rgb(17,17,17)\",\"width\":0.5},\"pattern\":{\"fillmode\":\"overlay\",\"size\":10,\"solidity\":0.2}},\"type\":\"bar\"}],\"scattergeo\":[{\"type\":\"scattergeo\",\"marker\":{\"colorbar\":{\"outlinewidth\":0,\"ticks\":\"\"}}}],\"scatterpolar\":[{\"type\":\"scatterpolar\",\"marker\":{\"colorbar\":{\"outlinewidth\":0,\"ticks\":\"\"}}}],\"histogram\":[{\"marker\":{\"pattern\":{\"fillmode\":\"overlay\",\"size\":10,\"solidity\":0.2}},\"type\":\"histogram\"}],\"scattergl\":[{\"marker\":{\"line\":{\"color\":\"#283442\"}},\"type\":\"scattergl\"}],\"scatter3d\":[{\"type\":\"scatter3d\",\"line\":{\"colorbar\":{\"outlinewidth\":0,\"ticks\":\"\"}},\"marker\":{\"colorbar\":{\"outlinewidth\":0,\"ticks\":\"\"}}}],\"scattermapbox\":[{\"type\":\"scattermapbox\",\"marker\":{\"colorbar\":{\"outlinewidth\":0,\"ticks\":\"\"}}}],\"scatterternary\":[{\"type\":\"scatterternary\",\"marker\":{\"colorbar\":{\"outlinewidth\":0,\"ticks\":\"\"}}}],\"scattercarpet\":[{\"type\":\"scattercarpet\",\"marker\":{\"colorbar\":{\"outlinewidth\":0,\"ticks\":\"\"}}}],\"carpet\":[{\"aaxis\":{\"endlinecolor\":\"#A2B1C6\",\"gridcolor\":\"#506784\",\"linecolor\":\"#506784\",\"minorgridcolor\":\"#506784\",\"startlinecolor\":\"#A2B1C6\"},\"baxis\":{\"endlinecolor\":\"#A2B1C6\",\"gridcolor\":\"#506784\",\"linecolor\":\"#506784\",\"minorgridcolor\":\"#506784\",\"startlinecolor\":\"#A2B1C6\"},\"type\":\"carpet\"}],\"table\":[{\"cells\":{\"fill\":{\"color\":\"#506784\"},\"line\":{\"color\":\"rgb(17,17,17)\"}},\"header\":{\"fill\":{\"color\":\"#2a3f5f\"},\"line\":{\"color\":\"rgb(17,17,17)\"}},\"type\":\"table\"}],\"barpolar\":[{\"marker\":{\"line\":{\"color\":\"rgb(17,17,17)\",\"width\":0.5},\"pattern\":{\"fillmode\":\"overlay\",\"size\":10,\"solidity\":0.2}},\"type\":\"barpolar\"}],\"pie\":[{\"automargin\":true,\"type\":\"pie\"}]},\"layout\":{\"autotypenumbers\":\"strict\",\"colorway\":[\"#636efa\",\"#EF553B\",\"#00cc96\",\"#ab63fa\",\"#FFA15A\",\"#19d3f3\",\"#FF6692\",\"#B6E880\",\"#FF97FF\",\"#FECB52\"],\"font\":{\"color\":\"#f2f5fa\"},\"hovermode\":\"closest\",\"hoverlabel\":{\"align\":\"left\"},\"paper_bgcolor\":\"rgb(17,17,17)\",\"plot_bgcolor\":\"rgb(17,17,17)\",\"polar\":{\"bgcolor\":\"rgb(17,17,17)\",\"angularaxis\":{\"gridcolor\":\"#506784\",\"linecolor\":\"#506784\",\"ticks\":\"\"},\"radialaxis\":{\"gridcolor\":\"#506784\",\"linecolor\":\"#506784\",\"ticks\":\"\"}},\"ternary\":{\"bgcolor\":\"rgb(17,17,17)\",\"aaxis\":{\"gridcolor\":\"#506784\",\"linecolor\":\"#506784\",\"ticks\":\"\"},\"baxis\":{\"gridcolor\":\"#506784\",\"linecolor\":\"#506784\",\"ticks\":\"\"},\"caxis\":{\"gridcolor\":\"#506784\",\"linecolor\":\"#506784\",\"ticks\":\"\"}},\"coloraxis\":{\"colorbar\":{\"outlinewidth\":0,\"ticks\":\"\"}},\"colorscale\":{\"sequential\":[[0.0,\"#0d0887\"],[0.1111111111111111,\"#46039f\"],[0.2222222222222222,\"#7201a8\"],[0.3333333333333333,\"#9c179e\"],[0.4444444444444444,\"#bd3786\"],[0.5555555555555556,\"#d8576b\"],[0.6666666666666666,\"#ed7953\"],[0.7777777777777778,\"#fb9f3a\"],[0.8888888888888888,\"#fdca26\"],[1.0,\"#f0f921\"]],\"sequentialminus\":[[0.0,\"#0d0887\"],[0.1111111111111111,\"#46039f\"],[0.2222222222222222,\"#7201a8\"],[0.3333333333333333,\"#9c179e\"],[0.4444444444444444,\"#bd3786\"],[0.5555555555555556,\"#d8576b\"],[0.6666666666666666,\"#ed7953\"],[0.7777777777777778,\"#fb9f3a\"],[0.8888888888888888,\"#fdca26\"],[1.0,\"#f0f921\"]],\"diverging\":[[0,\"#8e0152\"],[0.1,\"#c51b7d\"],[0.2,\"#de77ae\"],[0.3,\"#f1b6da\"],[0.4,\"#fde0ef\"],[0.5,\"#f7f7f7\"],[0.6,\"#e6f5d0\"],[0.7,\"#b8e186\"],[0.8,\"#7fbc41\"],[0.9,\"#4d9221\"],[1,\"#276419\"]]},\"xaxis\":{\"gridcolor\":\"#283442\",\"linecolor\":\"#506784\",\"ticks\":\"\",\"title\":{\"standoff\":15},\"zerolinecolor\":\"#283442\",\"automargin\":true,\"zerolinewidth\":2},\"yaxis\":{\"gridcolor\":\"#283442\",\"linecolor\":\"#506784\",\"ticks\":\"\",\"title\":{\"standoff\":15},\"zerolinecolor\":\"#283442\",\"automargin\":true,\"zerolinewidth\":2},\"scene\":{\"xaxis\":{\"backgroundcolor\":\"rgb(17,17,17)\",\"gridcolor\":\"#506784\",\"linecolor\":\"#506784\",\"showbackground\":true,\"ticks\":\"\",\"zerolinecolor\":\"#C8D4E3\",\"gridwidth\":2},\"yaxis\":{\"backgroundcolor\":\"rgb(17,17,17)\",\"gridcolor\":\"#506784\",\"linecolor\":\"#506784\",\"showbackground\":true,\"ticks\":\"\",\"zerolinecolor\":\"#C8D4E3\",\"gridwidth\":2},\"zaxis\":{\"backgroundcolor\":\"rgb(17,17,17)\",\"gridcolor\":\"#506784\",\"linecolor\":\"#506784\",\"showbackground\":true,\"ticks\":\"\",\"zerolinecolor\":\"#C8D4E3\",\"gridwidth\":2}},\"shapedefaults\":{\"line\":{\"color\":\"#f2f5fa\"}},\"annotationdefaults\":{\"arrowcolor\":\"#f2f5fa\",\"arrowhead\":0,\"arrowwidth\":1},\"geo\":{\"bgcolor\":\"rgb(17,17,17)\",\"landcolor\":\"rgb(17,17,17)\",\"subunitcolor\":\"#506784\",\"showland\":true,\"showlakes\":true,\"lakecolor\":\"rgb(17,17,17)\"},\"title\":{\"x\":0.05},\"updatemenudefaults\":{\"bgcolor\":\"#506784\",\"borderwidth\":0},\"sliderdefaults\":{\"bgcolor\":\"#C8D4E3\",\"borderwidth\":1,\"bordercolor\":\"rgb(17,17,17)\",\"tickwidth\":0},\"mapbox\":{\"style\":\"dark\"}}},\"xaxis\":{\"anchor\":\"y\",\"domain\":[0.0,0.94],\"title\":{\"text\":\"Year\"}},\"yaxis\":{\"anchor\":\"x\",\"domain\":[0.0,1.0],\"title\":{\"text\":\"Temperature\"}},\"yaxis2\":{\"anchor\":\"x\",\"overlaying\":\"y\",\"side\":\"right\",\"title\":{\"text\":\"Total Emission\"}},\"title\":{\"text\":\"Average Temperature and Total Emission of the United States\"}},                        {\"responsive\": true}                    ).then(function(){\n                            \nvar gd = document.getElementById('51ec8ff4-781b-40a0-9562-6338126caf6a');\nvar x = new MutationObserver(function (mutations, observer) {{\n        var display = window.getComputedStyle(gd).display;\n        if (!display || display === 'none') {{\n            console.log([gd, 'removed!']);\n            Plotly.purge(gd);\n            observer.disconnect();\n        }}\n}});\n\n// Listen for the removal of the full notebook cells\nvar notebookContainer = gd.closest('#notebook-container');\nif (notebookContainer) {{\n    x.observe(notebookContainer, {childList: true});\n}}\n\n// Listen for the clearing of the current output cell\nvar outputEl = gd.closest('.output');\nif (outputEl) {{\n    x.observe(outputEl, {childList: true});\n}}\n\n                        })                };                });            </script>        </div>"
     },
     "metadata": {},
     "output_type": "display_data"
    }
   ],
   "source": [
    "import plotly.graph_objects as go\n",
    "from plotly.subplots import make_subplots\n",
    "\n",
    "fig = make_subplots(specs=[[{\"secondary_y\": True}]])\n",
    "\n",
    "us = temp_country_yearly[temp_country_yearly.Country == \"United States\"]\n",
    "us_emission = emission_countries_yearly[emission_countries_yearly[\"Country\"] == \"United States\"]\n",
    "\n",
    "fig.add_trace(go.Scatter(x=us.Year, y=us.AverageTemperature, name=\"Average Temperature\"), secondary_y=False)\n",
    "\n",
    "fig.add_trace(go.Scatter(x=us_emission.Year, y=us_emission.TotalEmission, name=\"Total Emission\"), secondary_y=True)\n",
    "\n",
    "fig.update_layout(title_text=\"Average Temperature and Total Emission of the United States\")\n",
    "\n",
    "fig.update_xaxes(title_text=\"Year\")\n",
    "fig.update_yaxes(title_text=\"Temperature\", secondary_y=False)\n",
    "fig.update_yaxes(title_text=\"Total Emission\", secondary_y=True)\n",
    "\n",
    "fig.show()"
   ],
   "metadata": {
    "collapsed": false,
    "pycharm": {
     "name": "#%%\n"
    }
   }
  },
  {
   "cell_type": "code",
   "execution_count": 30,
   "outputs": [],
   "source": [],
   "metadata": {
    "collapsed": false,
    "pycharm": {
     "name": "#%%\n"
    }
   }
  }
 ],
 "metadata": {
  "kernelspec": {
   "display_name": "Python 3 (ipykernel)",
   "language": "python",
   "name": "python3"
  },
  "language_info": {
   "codemirror_mode": {
    "name": "ipython",
    "version": 3
   },
   "file_extension": ".py",
   "mimetype": "text/x-python",
   "name": "python",
   "nbconvert_exporter": "python",
   "pygments_lexer": "ipython3",
   "version": "3.10.4"
  }
 },
 "nbformat": 4,
 "nbformat_minor": 4
}