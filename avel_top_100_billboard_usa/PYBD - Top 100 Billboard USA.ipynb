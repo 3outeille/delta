{
 "cells": [
  {
   "cell_type": "markdown",
   "metadata": {
    "pycharm": {
     "name": "#%% md\n"
    }
   },
   "source": [
    "# PYBD - Top 100 Billboard USA"
   ]
  },
  {
   "cell_type": "code",
   "execution_count": 86,
   "metadata": {
    "pycharm": {
     "name": "#%%\n"
    }
   },
   "outputs": [],
   "source": [
    "from collections import Counter\n",
    "\n",
    "from matplotlib import pyplot as plt\n",
    "import numpy as np\n",
    "import pandas as pd\n",
    "import plotly.express as px\n",
    "import plotly.graph_objects as go"
   ]
  },
  {
   "cell_type": "markdown",
   "metadata": {
    "pycharm": {
     "name": "#%% md\n"
    }
   },
   "source": [
    "## Importing the data and setting up dtypes"
   ]
  },
  {
   "cell_type": "code",
   "execution_count": 87,
   "metadata": {
    "pycharm": {
     "name": "#%%\n"
    }
   },
   "outputs": [],
   "source": [
    "df = pd.read_csv('data/top_100_billboard_usa.csv')\n",
    "df[\"date\"] = pd.to_datetime(df[\"date\"])"
   ]
  },
  {
   "cell_type": "code",
   "execution_count": 88,
   "metadata": {
    "pycharm": {
     "name": "#%%\n"
    }
   },
   "outputs": [
    {
     "data": {
      "text/plain": "['date', 'rank', 'song', 'artist', 'last-week', 'peak-rank', 'weeks-on-board']"
     },
     "execution_count": 88,
     "metadata": {},
     "output_type": "execute_result"
    }
   ],
   "source": [
    "list(df.columns)"
   ]
  },
  {
   "cell_type": "code",
   "execution_count": 89,
   "metadata": {
    "pycharm": {
     "name": "#%%\n"
    }
   },
   "outputs": [
    {
     "data": {
      "text/plain": "             date  rank                                 song  \\\n0      2021-11-06     1                           Easy On Me   \n1      2021-11-06     2                                 Stay   \n2      2021-11-06     3                        Industry Baby   \n3      2021-11-06     4                           Fancy Like   \n4      2021-11-06     5                           Bad Habits   \n...           ...   ...                                  ...   \n330082 1958-08-04    96                        Over And Over   \n330083 1958-08-04    97                     I Believe In You   \n330084 1958-08-04    98                      Little Serenade   \n330085 1958-08-04    99  I'll Get By (As Long As I Have You)   \n330086 1958-08-04   100                                 Judy   \n\n                               artist  last-week  peak-rank  weeks-on-board  \n0                               Adele        1.0          1               3  \n1       The Kid LAROI & Justin Bieber        2.0          1              16  \n2             Lil Nas X & Jack Harlow        3.0          1              14  \n3                        Walker Hayes        4.0          3              19  \n4                          Ed Sheeran        5.0          2              18  \n...                               ...        ...        ...             ...  \n330082                Thurston Harris        NaN         96               1  \n330083                Robert & Johnny        NaN         97               1  \n330084              The Ames Brothers        NaN         98               1  \n330085                 Billy Williams        NaN         99               1  \n330086                Frankie Vaughan        NaN        100               1  \n\n[330087 rows x 7 columns]",
      "text/html": "<div>\n<style scoped>\n    .dataframe tbody tr th:only-of-type {\n        vertical-align: middle;\n    }\n\n    .dataframe tbody tr th {\n        vertical-align: top;\n    }\n\n    .dataframe thead th {\n        text-align: right;\n    }\n</style>\n<table border=\"1\" class=\"dataframe\">\n  <thead>\n    <tr style=\"text-align: right;\">\n      <th></th>\n      <th>date</th>\n      <th>rank</th>\n      <th>song</th>\n      <th>artist</th>\n      <th>last-week</th>\n      <th>peak-rank</th>\n      <th>weeks-on-board</th>\n    </tr>\n  </thead>\n  <tbody>\n    <tr>\n      <th>0</th>\n      <td>2021-11-06</td>\n      <td>1</td>\n      <td>Easy On Me</td>\n      <td>Adele</td>\n      <td>1.0</td>\n      <td>1</td>\n      <td>3</td>\n    </tr>\n    <tr>\n      <th>1</th>\n      <td>2021-11-06</td>\n      <td>2</td>\n      <td>Stay</td>\n      <td>The Kid LAROI &amp; Justin Bieber</td>\n      <td>2.0</td>\n      <td>1</td>\n      <td>16</td>\n    </tr>\n    <tr>\n      <th>2</th>\n      <td>2021-11-06</td>\n      <td>3</td>\n      <td>Industry Baby</td>\n      <td>Lil Nas X &amp; Jack Harlow</td>\n      <td>3.0</td>\n      <td>1</td>\n      <td>14</td>\n    </tr>\n    <tr>\n      <th>3</th>\n      <td>2021-11-06</td>\n      <td>4</td>\n      <td>Fancy Like</td>\n      <td>Walker Hayes</td>\n      <td>4.0</td>\n      <td>3</td>\n      <td>19</td>\n    </tr>\n    <tr>\n      <th>4</th>\n      <td>2021-11-06</td>\n      <td>5</td>\n      <td>Bad Habits</td>\n      <td>Ed Sheeran</td>\n      <td>5.0</td>\n      <td>2</td>\n      <td>18</td>\n    </tr>\n    <tr>\n      <th>...</th>\n      <td>...</td>\n      <td>...</td>\n      <td>...</td>\n      <td>...</td>\n      <td>...</td>\n      <td>...</td>\n      <td>...</td>\n    </tr>\n    <tr>\n      <th>330082</th>\n      <td>1958-08-04</td>\n      <td>96</td>\n      <td>Over And Over</td>\n      <td>Thurston Harris</td>\n      <td>NaN</td>\n      <td>96</td>\n      <td>1</td>\n    </tr>\n    <tr>\n      <th>330083</th>\n      <td>1958-08-04</td>\n      <td>97</td>\n      <td>I Believe In You</td>\n      <td>Robert &amp; Johnny</td>\n      <td>NaN</td>\n      <td>97</td>\n      <td>1</td>\n    </tr>\n    <tr>\n      <th>330084</th>\n      <td>1958-08-04</td>\n      <td>98</td>\n      <td>Little Serenade</td>\n      <td>The Ames Brothers</td>\n      <td>NaN</td>\n      <td>98</td>\n      <td>1</td>\n    </tr>\n    <tr>\n      <th>330085</th>\n      <td>1958-08-04</td>\n      <td>99</td>\n      <td>I'll Get By (As Long As I Have You)</td>\n      <td>Billy Williams</td>\n      <td>NaN</td>\n      <td>99</td>\n      <td>1</td>\n    </tr>\n    <tr>\n      <th>330086</th>\n      <td>1958-08-04</td>\n      <td>100</td>\n      <td>Judy</td>\n      <td>Frankie Vaughan</td>\n      <td>NaN</td>\n      <td>100</td>\n      <td>1</td>\n    </tr>\n  </tbody>\n</table>\n<p>330087 rows × 7 columns</p>\n</div>"
     },
     "execution_count": 89,
     "metadata": {},
     "output_type": "execute_result"
    }
   ],
   "source": [
    "df"
   ]
  },
  {
   "cell_type": "code",
   "execution_count": 90,
   "metadata": {
    "pycharm": {
     "name": "#%%\n"
    }
   },
   "outputs": [
    {
     "data": {
      "text/plain": "330087"
     },
     "execution_count": 90,
     "metadata": {},
     "output_type": "execute_result"
    }
   ],
   "source": [
    "len(df)"
   ]
  },
  {
   "cell_type": "markdown",
   "metadata": {
    "pycharm": {
     "name": "#%% md\n"
    }
   },
   "source": [
    "## Tools"
   ]
  },
  {
   "cell_type": "code",
   "execution_count": 91,
   "metadata": {
    "pycharm": {
     "name": "#%%\n"
    }
   },
   "outputs": [],
   "source": [
    "def to_year_df(df: pd.DataFrame):\n",
    "    df = df.copy()\n",
    "    df[\"date\"] = df[\"date\"].dt.year\n",
    "    return df"
   ]
  },
  {
   "cell_type": "code",
   "execution_count": 92,
   "metadata": {
    "pycharm": {
     "name": "#%%\n"
    }
   },
   "outputs": [],
   "source": [
    "def to_decade(year):\n",
    "    decade = year//10 * 10\n",
    "    return decade"
   ]
  },
  {
   "cell_type": "code",
   "execution_count": 93,
   "metadata": {
    "pycharm": {
     "name": "#%%\n"
    }
   },
   "outputs": [],
   "source": [
    "def to_decade_df(df: pd.DataFrame):\n",
    "    df = df.copy()\n",
    "    df[\"date\"] = df[\"date\"].dt.year.apply(to_decade)\n",
    "    return df"
   ]
  },
  {
   "cell_type": "markdown",
   "metadata": {
    "pycharm": {
     "name": "#%% md\n"
    }
   },
   "source": [
    "## Data exploration"
   ]
  },
  {
   "cell_type": "code",
   "execution_count": 94,
   "metadata": {
    "pycharm": {
     "name": "#%%\n"
    }
   },
   "outputs": [
    {
     "name": "stdout",
     "output_type": "stream",
     "text": [
      "Number of artists: 10205\n"
     ]
    }
   ],
   "source": [
    "print(f\"Number of artists: {len(df['artist'].unique())}\")"
   ]
  },
  {
   "cell_type": "code",
   "execution_count": 95,
   "metadata": {
    "pycharm": {
     "name": "#%%\n"
    }
   },
   "outputs": [
    {
     "name": "stdout",
     "output_type": "stream",
     "text": [
      "Timescale of the dataset (approximately, in years): 63\n"
     ]
    }
   ],
   "source": [
    "nb_year = df.date.max().year - df.date.min().year\n",
    "print(f\"Timescale of the dataset (approximately, in years): {nb_year}\")"
   ]
  },
  {
   "cell_type": "code",
   "execution_count": 96,
   "metadata": {
    "pycharm": {
     "name": "#%%\n"
    }
   },
   "outputs": [
    {
     "name": "stdout",
     "output_type": "stream",
     "text": [
      "Number of distinct artists in the top 100 each week between 1958 and 2021 (63 years):\n",
      "  10205 with 24620 musics for 330087 entries\n"
     ]
    }
   ],
   "source": [
    "df_date_year = df[\"date\"].dt.year.unique()\n",
    "mini = df_date_year.min()\n",
    "maxi = df_date_year.max()\n",
    "artistes_distincts = len(df[\"artist\"].unique())\n",
    "unique_songs = len(df[\"song\"].unique())\n",
    "print(f\"Number of distinct artists in the top 100 each week between {mini} and {maxi} ({maxi - mini} years):\")\n",
    "print(f\"  {artistes_distincts} with {unique_songs} musics for {len(df)} entries\")"
   ]
  },
  {
   "cell_type": "code",
   "execution_count": 97,
   "metadata": {
    "pycharm": {
     "name": "#%%\n"
    }
   },
   "outputs": [
    {
     "name": "stdout",
     "output_type": "stream",
     "text": [
      "Number of songs: 29681\n"
     ]
    }
   ],
   "source": [
    "print(f'Number of songs: {len(df.groupby([\"artist\", \"song\"]))}')"
   ]
  },
  {
   "cell_type": "code",
   "execution_count": 98,
   "metadata": {
    "pycharm": {
     "name": "#%%\n"
    }
   },
   "outputs": [
    {
     "name": "stdout",
     "output_type": "stream",
     "text": [
      "There is 161.984126984127 new artists each year\n"
     ]
    }
   ],
   "source": [
    "print(f\"There is {artistes_distincts / (maxi - mini)} new artists each year\")"
   ]
  },
  {
   "cell_type": "markdown",
   "metadata": {
    "pycharm": {
     "name": "#%% md\n"
    }
   },
   "source": []
  },
  {
   "cell_type": "code",
   "execution_count": 99,
   "metadata": {
    "pycharm": {
     "name": "#%%\n"
    }
   },
   "outputs": [
    {
     "data": {
      "text/plain": "<Figure size 432x288 with 1 Axes>",
      "image/png": "[encoded data removed]"
     },
     "metadata": {
      "needs_background": "light"
     },
     "output_type": "display_data"
    }
   ],
   "source": [
    "to_year_df(df)[[\"date\", \"artist\"]].groupby([\"date\", \"artist\"], as_index=False).first().groupby(\"date\").count().plot()\n",
    "plt.title(\"Number of new artist in the billboard each year\")\n",
    "plt.show()"
   ]
  },
  {
   "cell_type": "code",
   "execution_count": 100,
   "metadata": {
    "pycharm": {
     "name": "#%%\n"
    }
   },
   "outputs": [
    {
     "data": {
      "text/plain": "<Figure size 432x288 with 1 Axes>",
      "image/png": "[encoded data removed]"
     },
     "metadata": {
      "needs_background": "light"
     },
     "output_type": "display_data"
    }
   ],
   "source": [
    "to_decade_df(df)[[\"date\", \"artist\"]].groupby([\"date\", \"artist\"], as_index=False).first().groupby(\"date\").count().plot.bar()\n",
    "plt.title(\"Number of new artist in the billboard each decade\")\n",
    "plt.show() # Lows in 2020 and 1950 are because the decade was/is not complete"
   ]
  },
  {
   "cell_type": "code",
   "execution_count": 101,
   "metadata": {
    "pycharm": {
     "name": "#%%\n"
    }
   },
   "outputs": [
    {
     "data": {
      "text/plain": "song                      artist                      \nBlinding Lights           The Weeknd                      90\nRadioactive               Imagine Dragons                 87\nSail                      AWOLNATION                      79\nI'm Yours                 Jason Mraz                      76\nHow Do I Live             LeAnn Rimes                     69\n                                                          ..\nI Won't Give Up           Jana Kramer                      1\nI Won't Back Down         Blake Shelton & Dia Frampton     1\nI Will Always Love You    Glee Cast                        1\nI Who Have Nothing        Jordin Sparks                    1\nTrap This Way (This Way)  Lil Uzi Vert                     1\nLength: 29681, dtype: int64"
     },
     "execution_count": 101,
     "metadata": {},
     "output_type": "execute_result"
    }
   ],
   "source": [
    "songdf = df[['song', \"artist\"]].value_counts()\n",
    "songdf # Songs that appear the most in the billboard"
   ]
  },
  {
   "cell_type": "code",
   "execution_count": 102,
   "metadata": {
    "pycharm": {
     "name": "#%%\n"
    }
   },
   "outputs": [
    {
     "data": {
      "text/plain": "                                                    artist\nsong                                                      \nHold On                                                 17\nYou                                                     15\nStay                                                    15\nForever                                                 14\nAngel                                                   14\n...                                                    ...\nI Can Never Go Home Anymore                              1\nI Can Make It Thru The Days (But Oh Those Lonel...       1\nI Can Make It Better                                     1\nI Can Love You Like That                                 1\n¿Dònde Està Santa Claus? (Where Is Santa Claus?)         1\n\n[24620 rows x 1 columns]",
      "text/html": "<div>\n<style scoped>\n    .dataframe tbody tr th:only-of-type {\n        vertical-align: middle;\n    }\n\n    .dataframe tbody tr th {\n        vertical-align: top;\n    }\n\n    .dataframe thead th {\n        text-align: right;\n    }\n</style>\n<table border=\"1\" class=\"dataframe\">\n  <thead>\n    <tr style=\"text-align: right;\">\n      <th></th>\n      <th>artist</th>\n    </tr>\n    <tr>\n      <th>song</th>\n      <th></th>\n    </tr>\n  </thead>\n  <tbody>\n    <tr>\n      <th>Hold On</th>\n      <td>17</td>\n    </tr>\n    <tr>\n      <th>You</th>\n      <td>15</td>\n    </tr>\n    <tr>\n      <th>Stay</th>\n      <td>15</td>\n    </tr>\n    <tr>\n      <th>Forever</th>\n      <td>14</td>\n    </tr>\n    <tr>\n      <th>Angel</th>\n      <td>14</td>\n    </tr>\n    <tr>\n      <th>...</th>\n      <td>...</td>\n    </tr>\n    <tr>\n      <th>I Can Never Go Home Anymore</th>\n      <td>1</td>\n    </tr>\n    <tr>\n      <th>I Can Make It Thru The Days (But Oh Those Lonely Nights)</th>\n      <td>1</td>\n    </tr>\n    <tr>\n      <th>I Can Make It Better</th>\n      <td>1</td>\n    </tr>\n    <tr>\n      <th>I Can Love You Like That</th>\n      <td>1</td>\n    </tr>\n    <tr>\n      <th>¿Dònde Està Santa Claus? (Where Is Santa Claus?)</th>\n      <td>1</td>\n    </tr>\n  </tbody>\n</table>\n<p>24620 rows × 1 columns</p>\n</div>"
     },
     "execution_count": 102,
     "metadata": {},
     "output_type": "execute_result"
    }
   ],
   "source": [
    "df[[\"artist\", \"song\"]].groupby([\"artist\",\"song\"], as_index=False).first().groupby([\"song\"], as_index=True).count().sort_values(by=\"artist\", ascending=False)\n",
    "# Song titles that are most used by artists"
   ]
  },
  {
   "cell_type": "code",
   "execution_count": 103,
   "metadata": {
    "pycharm": {
     "name": "#%%\n"
    }
   },
   "outputs": [
    {
     "data": {
      "text/plain": "artist\nGlee Cast                                                                    183\nTaylor Swift                                                                 120\nDrake                                                                        108\nThe Beatles                                                                   65\nAretha Franklin                                                               64\n                                                                            ... \nJibbs Featuring Chamillionaire                                                 1\nJibbs                                                                          1\nJhene Aiko Featuring Swae Lee Or Rae Sremmurd                                  1\nJhene Aiko Featuring H.E.R.                                                    1\nwill.i.am Featuring Miley Cyrus, French Montana, Wiz Khalifa & DJ Mustard      1\nName: song, Length: 10205, dtype: int64"
     },
     "execution_count": 103,
     "metadata": {},
     "output_type": "execute_result"
    }
   ],
   "source": [
    "df.groupby([\"artist\",\"song\"], as_index=False).first().groupby(\"artist\")[\"song\"].count().sort_values(ascending=False)\n",
    "# Artists that have the most songs in the billboard"
   ]
  },
  {
   "cell_type": "code",
   "execution_count": 104,
   "metadata": {
    "pycharm": {
     "name": "#%%\n"
    }
   },
   "outputs": [
    {
     "data": {
      "text/plain": "artist                                             song                  \nLil Nas X Featuring Billy Ray Cyrus                Old Town Road             19\nLuis Fonsi & Daddy Yankee Featuring Justin Bieber  Despacito                 16\nMariah Carey & Boyz II Men                         One Sweet Day             16\nMariah Carey                                       We Belong Together        14\nWhitney Houston                                    I Will Always Love You    14\n                                                                             ..\nRingo Starr                                        Photograph                 1\nRihanna Featuring Drake                            What's My Name?            1\nGlen Campbell                                      Southern Nights            1\nRihanna Featuring Britney Spears                   S&M                        1\nmatchbox twenty                                    Bent                       1\nLength: 1131, dtype: int64"
     },
     "execution_count": 104,
     "metadata": {},
     "output_type": "execute_result"
    }
   ],
   "source": [
    "df[df['rank']==1][['artist', 'song']].value_counts()\n",
    "# Songs that have been the longest in rank 1 of the billboard"
   ]
  },
  {
   "cell_type": "code",
   "execution_count": 105,
   "metadata": {
    "pycharm": {
     "name": "#%%\n"
    }
   },
   "outputs": [
    {
     "data": {
      "text/plain": "Mariah Carey                                          233\nMadonna                                               213\nThe Beatles                                           203\nWhitney Houston                                       161\nBruno Mars                                            150\n                                                     ... \nAriana Grande & Social House                            1\nPost Malone Featuring Ozzy Osbourne & Travis Scott      1\nDoja Cat                                                1\nCase & Joe                                              1\nTony Camillo's Bazuka                                   1\nName: artist, Length: 2487, dtype: int64"
     },
     "execution_count": 105,
     "metadata": {},
     "output_type": "execute_result"
    }
   ],
   "source": [
    "df_10 = df[df[\"rank\"] <= 10].copy()\n",
    "df_10[\"artist\"].value_counts()\n",
    "# Top 10 artists in the billboard"
   ]
  },
  {
   "cell_type": "code",
   "execution_count": 106,
   "metadata": {
    "pycharm": {
     "name": "#%%\n"
    }
   },
   "outputs": [
    {
     "data": {
      "text/plain": "             word  count\n0             The  39638\n1             You  34113\n2               I  25289\n3            Love  23953\n4              Me  21005\n...           ...    ...\n11944      Pickle      1\n11945  Midnighter      1\n11946    Barbecue      1\n11947          Op      1\n11948         (As      1\n\n[11949 rows x 2 columns]",
      "text/html": "<div>\n<style scoped>\n    .dataframe tbody tr th:only-of-type {\n        vertical-align: middle;\n    }\n\n    .dataframe tbody tr th {\n        vertical-align: top;\n    }\n\n    .dataframe thead th {\n        text-align: right;\n    }\n</style>\n<table border=\"1\" class=\"dataframe\">\n  <thead>\n    <tr style=\"text-align: right;\">\n      <th></th>\n      <th>word</th>\n      <th>count</th>\n    </tr>\n  </thead>\n  <tbody>\n    <tr>\n      <th>0</th>\n      <td>The</td>\n      <td>39638</td>\n    </tr>\n    <tr>\n      <th>1</th>\n      <td>You</td>\n      <td>34113</td>\n    </tr>\n    <tr>\n      <th>2</th>\n      <td>I</td>\n      <td>25289</td>\n    </tr>\n    <tr>\n      <th>3</th>\n      <td>Love</td>\n      <td>23953</td>\n    </tr>\n    <tr>\n      <th>4</th>\n      <td>Me</td>\n      <td>21005</td>\n    </tr>\n    <tr>\n      <th>...</th>\n      <td>...</td>\n      <td>...</td>\n    </tr>\n    <tr>\n      <th>11944</th>\n      <td>Pickle</td>\n      <td>1</td>\n    </tr>\n    <tr>\n      <th>11945</th>\n      <td>Midnighter</td>\n      <td>1</td>\n    </tr>\n    <tr>\n      <th>11946</th>\n      <td>Barbecue</td>\n      <td>1</td>\n    </tr>\n    <tr>\n      <th>11947</th>\n      <td>Op</td>\n      <td>1</td>\n    </tr>\n    <tr>\n      <th>11948</th>\n      <td>(As</td>\n      <td>1</td>\n    </tr>\n  </tbody>\n</table>\n<p>11949 rows × 2 columns</p>\n</div>"
     },
     "execution_count": 106,
     "metadata": {},
     "output_type": "execute_result"
    }
   ],
   "source": [
    "counter = Counter(\" \".join(df[\"song\"]).split()).most_common()\n",
    "pd.DataFrame.from_records(counter, columns=[\"word\", \"count\"])\n",
    "# Most common words in the billboard"
   ]
  },
  {
   "cell_type": "code",
   "execution_count": 107,
   "metadata": {
    "pycharm": {
     "name": "#%%\n"
    }
   },
   "outputs": [
    {
     "data": {
      "text/plain": "<Figure size 1440x720 with 1 Axes>",
      "image/png": "[encoded data removed]"
     },
     "metadata": {
      "needs_background": "light"
     },
     "output_type": "display_data"
    }
   ],
   "source": [
    "max_weeks_on_board = df.groupby(by=[\"artist\", \"song\"])[\"weeks-on-board\"].max().value_counts()\n",
    "max_weeks_on_board.reindex(list(range(1,max_weeks_on_board.index.max()+1)),fill_value=0).plot.bar(figsize=(20, 10))\n",
    "plt.title(\"Count of the max value of weeks-on-board for each song\")\n",
    "plt.show()"
   ]
  },
  {
   "cell_type": "code",
   "execution_count": 108,
   "metadata": {
    "pycharm": {
     "name": "#%%\n"
    }
   },
   "outputs": [
    {
     "data": {
      "text/plain": "<Figure size 1440x720 with 1 Axes>",
      "image/png": "[encoded data removed]"
     },
     "metadata": {
      "needs_background": "light"
     },
     "output_type": "display_data"
    }
   ],
   "source": [
    "# https://www.insider.com/every-no-1-song-debut-billboard-hot-100\n",
    "df_high = df[(df[\"rank\"] == 1) & (df[\"last-week\"].isnull()) & (df[\"weeks-on-board\"] == 1) & (df[\"date\"] != \"1958-08-04 00:00:00\")]\n",
    "df_high[\"date\"].dt.year.value_counts().sort_index().reindex(range(df.date.dt.year.min(), df.date.dt.year.max() + 1)).plot.bar(figsize=(20,10))\n",
    "plt.title(\"Meteoric entries in the billboard\")\n",
    "plt.show()"
   ]
  },
  {
   "cell_type": "code",
   "execution_count": 109,
   "metadata": {
    "pycharm": {
     "name": "#%%\n"
    }
   },
   "outputs": [
    {
     "data": {
      "application/vnd.plotly.v1+json": {
       "data": [
        {
         "alignmentgroup": "True",
         "hovertemplate": "year=1958<br>week=%{x}<br>count=%{y}<extra></extra>",
         "legendgroup": "",
         "marker": {
          "color": "#636efa",
          "pattern": {
           "shape": ""
          }
         },
         "name": "",
         "offsetgroup": "",
         "orientation": "v",
         "showlegend": false,
         "textposition": "auto",
         "x": [
          1,
          2,
          3,
          4,
          5,
          6,
          7,
          8,
          9,
          10,
          11,
          12,
          13,
          14,
          15,
          16,
          17,
          18,
          19,
          20,
          21,
          22
         ],
         "xaxis": "x",
         "y": [
          64,
          47,
          28,
          27,
          23,
          16,
          21,
          15,
          19,
          23,
          14,
          9,
          10,
          10,
          6,
          9,
          4,
          2,
          2,
          1,
          1,
          1
         ],
         "yaxis": "y",
         "type": "bar"
        }
       ],
       "layout": {
        "template": {
         "data": {
          "histogram2dcontour": [
           {
            "type": "histogram2dcontour",
            "colorbar": {
             "outlinewidth": 0,
             "ticks": ""
            },
            "colorscale": [
             [
              0.0,
              "#0d0887"
             ],
             [
              0.1111111111111111,
              "#46039f"
             ],
             [
              0.2222222222222222,
              "#7201a8"
             ],
             [
              0.3333333333333333,
              "#9c179e"
             ],
             [
              0.4444444444444444,
              "#bd3786"
             ],
             [
              0.5555555555555556,
              "#d8576b"
             ],
             [
              0.6666666666666666,
              "#ed7953"
             ],
             [
              0.7777777777777778,
              "#fb9f3a"
             ],
             [
              0.8888888888888888,
              "#fdca26"
             ],
             [
              1.0,
              "#f0f921"
             ]
            ]
           }
          ],
          "choropleth": [
           {
            "type": "choropleth",
            "colorbar": {
             "outlinewidth": 0,
             "ticks": ""
            }
           }
          ],
          "histogram2d": [
           {
            "type": "histogram2d",
            "colorbar": {
             "outlinewidth": 0,
             "ticks": ""
            },
            "colorscale": [
             [
              0.0,
              "#0d0887"
             ],
             [
              0.1111111111111111,
              "#46039f"
             ],
             [
              0.2222222222222222,
              "#7201a8"
             ],
             [
              0.3333333333333333,
              "#9c179e"
             ],
             [
              0.4444444444444444,
              "#bd3786"
             ],
             [
              0.5555555555555556,
              "#d8576b"
             ],
             [
              0.6666666666666666,
              "#ed7953"
             ],
             [
              0.7777777777777778,
              "#fb9f3a"
             ],
             [
              0.8888888888888888,
              "#fdca26"
             ],
             [
              1.0,
              "#f0f921"
             ]
            ]
           }
          ],
          "heatmap": [
           {
            "type": "heatmap",
            "colorbar": {
             "outlinewidth": 0,
             "ticks": ""
            },
            "colorscale": [
             [
              0.0,
              "#0d0887"
             ],
             [
              0.1111111111111111,
              "#46039f"
             ],
             [
              0.2222222222222222,
              "#7201a8"
             ],
             [
              0.3333333333333333,
              "#9c179e"
             ],
             [
              0.4444444444444444,
              "#bd3786"
             ],
             [
              0.5555555555555556,
              "#d8576b"
             ],
             [
              0.6666666666666666,
              "#ed7953"
             ],
             [
              0.7777777777777778,
              "#fb9f3a"
             ],
             [
              0.8888888888888888,
              "#fdca26"
             ],
             [
              1.0,
              "#f0f921"
             ]
            ]
           }
          ],
          "heatmapgl": [
           {
            "type": "heatmapgl",
            "colorbar": {
             "outlinewidth": 0,
             "ticks": ""
            },
            "colorscale": [
             [
              0.0,
              "#0d0887"
             ],
             [
              0.1111111111111111,
              "#46039f"
             ],
             [
              0.2222222222222222,
              "#7201a8"
             ],
             [
              0.3333333333333333,
              "#9c179e"
             ],
             [
              0.4444444444444444,
              "#bd3786"
             ],
             [
              0.5555555555555556,
              "#d8576b"
             ],
             [
              0.6666666666666666,
              "#ed7953"
             ],
             [
              0.7777777777777778,
              "#fb9f3a"
             ],
             [
              0.8888888888888888,
              "#fdca26"
             ],
             [
              1.0,
              "#f0f921"
             ]
            ]
           }
          ],
          "contourcarpet": [
           {
            "type": "contourcarpet",
            "colorbar": {
             "outlinewidth": 0,
             "ticks": ""
            }
           }
          ],
          "contour": [
           {
            "type": "contour",
            "colorbar": {
             "outlinewidth": 0,
             "ticks": ""
            },
            "colorscale": [
             [
              0.0,
              "#0d0887"
             ],
             [
              0.1111111111111111,
              "#46039f"
             ],
             [
              0.2222222222222222,
              "#7201a8"
             ],
             [
              0.3333333333333333,
              "#9c179e"
             ],
             [
              0.4444444444444444,
              "#bd3786"
             ],
             [
              0.5555555555555556,
              "#d8576b"
             ],
             [
              0.6666666666666666,
              "#ed7953"
             ],
             [
              0.7777777777777778,
              "#fb9f3a"
             ],
             [
              0.8888888888888888,
              "#fdca26"
             ],
             [
              1.0,
              "#f0f921"
             ]
            ]
           }
          ],
          "surface": [
           {
            "type": "surface",
            "colorbar": {
             "outlinewidth": 0,
             "ticks": ""
            },
            "colorscale": [
             [
              0.0,
              "#0d0887"
             ],
             [
              0.1111111111111111,
              "#46039f"
             ],
             [
              0.2222222222222222,
              "#7201a8"
             ],
             [
              0.3333333333333333,
              "#9c179e"
             ],
             [
              0.4444444444444444,
              "#bd3786"
             ],
             [
              0.5555555555555556,
              "#d8576b"
             ],
             [
              0.6666666666666666,
              "#ed7953"
             ],
             [
              0.7777777777777778,
              "#fb9f3a"
             ],
             [
              0.8888888888888888,
              "#fdca26"
             ],
             [
              1.0,
              "#f0f921"
             ]
            ]
           }
          ],
          "mesh3d": [
           {
            "type": "mesh3d",
            "colorbar": {
             "outlinewidth": 0,
             "ticks": ""
            }
           }
          ],
          "scatter": [
           {
            "marker": {
             "line": {
              "color": "#283442"
             }
            },
            "type": "scatter"
           }
          ],
          "parcoords": [
           {
            "type": "parcoords",
            "line": {
             "colorbar": {
              "outlinewidth": 0,
              "ticks": ""
             }
            }
           }
          ],
          "scatterpolargl": [
           {
            "type": "scatterpolargl",
            "marker": {
             "colorbar": {
              "outlinewidth": 0,
              "ticks": ""
             }
            }
           }
          ],
          "bar": [
           {
            "error_x": {
             "color": "#f2f5fa"
            },
            "error_y": {
             "color": "#f2f5fa"
            },
            "marker": {
             "line": {
              "color": "rgb(17,17,17)",
              "width": 0.5
             },
             "pattern": {
              "fillmode": "overlay",
              "size": 10,
              "solidity": 0.2
             }
            },
            "type": "bar"
           }
          ],
          "scattergeo": [
           {
            "type": "scattergeo",
            "marker": {
             "colorbar": {
              "outlinewidth": 0,
              "ticks": ""
             }
            }
           }
          ],
          "scatterpolar": [
           {
            "type": "scatterpolar",
            "marker": {
             "colorbar": {
              "outlinewidth": 0,
              "ticks": ""
             }
            }
           }
          ],
          "histogram": [
           {
            "marker": {
             "pattern": {
              "fillmode": "overlay",
              "size": 10,
              "solidity": 0.2
             }
            },
            "type": "histogram"
           }
          ],
          "scattergl": [
           {
            "marker": {
             "line": {
              "color": "#283442"
             }
            },
            "type": "scattergl"
           }
          ],
          "scatter3d": [
           {
            "type": "scatter3d",
            "line": {
             "colorbar": {
              "outlinewidth": 0,
              "ticks": ""
             }
            },
            "marker": {
             "colorbar": {
              "outlinewidth": 0,
              "ticks": ""
             }
            }
           }
          ],
          "scattermapbox": [
           {
            "type": "scattermapbox",
            "marker": {
             "colorbar": {
              "outlinewidth": 0,
              "ticks": ""
             }
            }
           }
          ],
          "scatterternary": [
           {
            "type": "scatterternary",
            "marker": {
             "colorbar": {
              "outlinewidth": 0,
              "ticks": ""
             }
            }
           }
          ],
          "scattercarpet": [
           {
            "type": "scattercarpet",
            "marker": {
             "colorbar": {
              "outlinewidth": 0,
              "ticks": ""
             }
            }
           }
          ],
          "carpet": [
           {
            "aaxis": {
             "endlinecolor": "#A2B1C6",
             "gridcolor": "#506784",
             "linecolor": "#506784",
             "minorgridcolor": "#506784",
             "startlinecolor": "#A2B1C6"
            },
            "baxis": {
             "endlinecolor": "#A2B1C6",
             "gridcolor": "#506784",
             "linecolor": "#506784",
             "minorgridcolor": "#506784",
             "startlinecolor": "#A2B1C6"
            },
            "type": "carpet"
           }
          ],
          "table": [
           {
            "cells": {
             "fill": {
              "color": "#506784"
             },
             "line": {
              "color": "rgb(17,17,17)"
             }
            },
            "header": {
             "fill": {
              "color": "#2a3f5f"
             },
             "line": {
              "color": "rgb(17,17,17)"
             }
            },
            "type": "table"
           }
          ],
          "barpolar": [
           {
            "marker": {
             "line": {
              "color": "rgb(17,17,17)",
              "width": 0.5
             },
             "pattern": {
              "fillmode": "overlay",
              "size": 10,
              "solidity": 0.2
             }
            },
            "type": "barpolar"
           }
          ],
          "pie": [
           {
            "automargin": true,
            "type": "pie"
           }
          ]
         },
         "layout": {
          "autotypenumbers": "strict",
          "colorway": [
           "#636efa",
           "#EF553B",
           "#00cc96",
           "#ab63fa",
           "#FFA15A",
           "#19d3f3",
           "#FF6692",
           "#B6E880",
           "#FF97FF",
           "#FECB52"
          ],
          "font": {
           "color": "#f2f5fa"
          },
          "hovermode": "closest",
          "hoverlabel": {
           "align": "left"
          },
          "paper_bgcolor": "rgb(17,17,17)",
          "plot_bgcolor": "rgb(17,17,17)",
          "polar": {
           "bgcolor": "rgb(17,17,17)",
           "angularaxis": {
            "gridcolor": "#506784",
            "linecolor": "#506784",
            "ticks": ""
           },
           "radialaxis": {
            "gridcolor": "#506784",
            "linecolor": "#506784",
            "ticks": ""
           }
          },
          "ternary": {
           "bgcolor": "rgb(17,17,17)",
           "aaxis": {
            "gridcolor": "#506784",
            "linecolor": "#506784",
            "ticks": ""
           },
           "baxis": {
            "gridcolor": "#506784",
            "linecolor": "#506784",
            "ticks": ""
           },
           "caxis": {
            "gridcolor": "#506784",
            "linecolor": "#506784",
            "ticks": ""
           }
          },
          "coloraxis": {
           "colorbar": {
            "outlinewidth": 0,
            "ticks": ""
           }
          },
          "colorscale": {
           "sequential": [
            [
             0.0,
             "#0d0887"
            ],
            [
             0.1111111111111111,
             "#46039f"
            ],
            [
             0.2222222222222222,
             "#7201a8"
            ],
            [
             0.3333333333333333,
             "#9c179e"
            ],
            [
             0.4444444444444444,
             "#bd3786"
            ],
            [
             0.5555555555555556,
             "#d8576b"
            ],
            [
             0.6666666666666666,
             "#ed7953"
            ],
            [
             0.7777777777777778,
             "#fb9f3a"
            ],
            [
             0.8888888888888888,
             "#fdca26"
            ],
            [
             1.0,
             "#f0f921"
            ]
           ],
           "sequentialminus": [
            [
             0.0,
             "#0d0887"
            ],
            [
             0.1111111111111111,
             "#46039f"
            ],
            [
             0.2222222222222222,
             "#7201a8"
            ],
            [
             0.3333333333333333,
             "#9c179e"
            ],
            [
             0.4444444444444444,
             "#bd3786"
            ],
            [
             0.5555555555555556,
             "#d8576b"
            ],
            [
             0.6666666666666666,
             "#ed7953"
            ],
            [
             0.7777777777777778,
             "#fb9f3a"
            ],
            [
             0.8888888888888888,
             "#fdca26"
            ],
            [
             1.0,
             "#f0f921"
            ]
           ],
           "diverging": [
            [
             0,
             "#8e0152"
            ],
            [
             0.1,
             "#c51b7d"
            ],
            [
             0.2,
             "#de77ae"
            ],
            [
             0.3,
             "#f1b6da"
            ],
            [
             0.4,
             "#fde0ef"
            ],
            [
             0.5,
             "#f7f7f7"
            ],
            [
             0.6,
             "#e6f5d0"
            ],
            [
             0.7,
             "#b8e186"
            ],
            [
             0.8,
             "#7fbc41"
            ],
            [
             0.9,
             "#4d9221"
            ],
            [
             1,
             "#276419"
            ]
           ]
          },
          "xaxis": {
           "gridcolor": "#283442",
           "linecolor": "#506784",
           "ticks": "",
           "title": {
            "standoff": 15
           },
           "zerolinecolor": "#283442",
           "automargin": true,
           "zerolinewidth": 2
          },
          "yaxis": {
           "gridcolor": "#283442",
           "linecolor": "#506784",
           "ticks": "",
           "title": {
            "standoff": 15
           },
           "zerolinecolor": "#283442",
           "automargin": true,
           "zerolinewidth": 2
          },
          "scene": {
           "xaxis": {
            "backgroundcolor": "rgb(17,17,17)",
            "gridcolor": "#506784",
            "linecolor": "#506784",
            "showbackground": true,
            "ticks": "",
            "zerolinecolor": "#C8D4E3",
            "gridwidth": 2
           },
           "yaxis": {
            "backgroundcolor": "rgb(17,17,17)",
            "gridcolor": "#506784",
            "linecolor": "#506784",
            "showbackground": true,
            "ticks": "",
            "zerolinecolor": "#C8D4E3",
            "gridwidth": 2
           },
           "zaxis": {
            "backgroundcolor": "rgb(17,17,17)",
            "gridcolor": "#506784",
            "linecolor": "#506784",
            "showbackground": true,
            "ticks": "",
            "zerolinecolor": "#C8D4E3",
            "gridwidth": 2
           }
          },
          "shapedefaults": {
           "line": {
            "color": "#f2f5fa"
           }
          },
          "annotationdefaults": {
           "arrowcolor": "#f2f5fa",
           "arrowhead": 0,
           "arrowwidth": 1
          },
          "geo": {
           "bgcolor": "rgb(17,17,17)",
           "landcolor": "rgb(17,17,17)",
           "subunitcolor": "#506784",
           "showland": true,
           "showlakes": true,
           "lakecolor": "rgb(17,17,17)"
          },
          "title": {
           "x": 0.05
          },
          "updatemenudefaults": {
           "bgcolor": "#506784",
           "borderwidth": 0
          },
          "sliderdefaults": {
           "bgcolor": "#C8D4E3",
           "borderwidth": 1,
           "bordercolor": "rgb(17,17,17)",
           "tickwidth": 0
          },
          "mapbox": {
           "style": "dark"
          }
         }
        },
        "xaxis": {
         "anchor": "y",
         "domain": [
          0.0,
          1.0
         ],
         "title": {
          "text": "week"
         },
         "range": [
          0,
          52
         ]
        },
        "yaxis": {
         "anchor": "x",
         "domain": [
          0.0,
          1.0
         ],
         "title": {
          "text": "count"
         },
         "range": [
          0,
          329
         ]
        },
        "legend": {
         "tracegroupgap": 0
        },
        "title": {
         "text": "Weeks on board count by year"
        },
        "barmode": "relative",
        "updatemenus": [
         {
          "buttons": [
           {
            "args": [
             null,
             {
              "frame": {
               "duration": 500,
               "redraw": true
              },
              "mode": "immediate",
              "fromcurrent": true,
              "transition": {
               "duration": 500,
               "easing": "linear"
              }
             }
            ],
            "label": "&#9654;",
            "method": "animate"
           },
           {
            "args": [
             [
              null
             ],
             {
              "frame": {
               "duration": 0,
               "redraw": true
              },
              "mode": "immediate",
              "fromcurrent": true,
              "transition": {
               "duration": 0,
               "easing": "linear"
              }
             }
            ],
            "label": "&#9724;",
            "method": "animate"
           }
          ],
          "direction": "left",
          "pad": {
           "r": 10,
           "t": 70
          },
          "showactive": false,
          "type": "buttons",
          "x": 0.1,
          "xanchor": "right",
          "y": 0,
          "yanchor": "top"
         }
        ],
        "sliders": [
         {
          "active": 0,
          "currentvalue": {
           "prefix": "year="
          },
          "len": 0.9,
          "pad": {
           "b": 10,
           "t": 60
          },
          "steps": [
           {
            "args": [
             [
              "1958"
             ],
             {
              "frame": {
               "duration": 0,
               "redraw": true
              },
              "mode": "immediate",
              "fromcurrent": true,
              "transition": {
               "duration": 0,
               "easing": "linear"
              }
             }
            ],
            "label": "1958",
            "method": "animate"
           },
           {
            "args": [
             [
              "1959"
             ],
             {
              "frame": {
               "duration": 0,
               "redraw": true
              },
              "mode": "immediate",
              "fromcurrent": true,
              "transition": {
               "duration": 0,
               "easing": "linear"
              }
             }
            ],
            "label": "1959",
            "method": "animate"
           },
           {
            "args": [
             [
              "1960"
             ],
             {
              "frame": {
               "duration": 0,
               "redraw": true
              },
              "mode": "immediate",
              "fromcurrent": true,
              "transition": {
               "duration": 0,
               "easing": "linear"
              }
             }
            ],
            "label": "1960",
            "method": "animate"
           },
           {
            "args": [
             [
              "1961"
             ],
             {
              "frame": {
               "duration": 0,
               "redraw": true
              },
              "mode": "immediate",
              "fromcurrent": true,
              "transition": {
               "duration": 0,
               "easing": "linear"
              }
             }
            ],
            "label": "1961",
            "method": "animate"
           },
           {
            "args": [
             [
              "1962"
             ],
             {
              "frame": {
               "duration": 0,
               "redraw": true
              },
              "mode": "immediate",
              "fromcurrent": true,
              "transition": {
               "duration": 0,
               "easing": "linear"
              }
             }
            ],
            "label": "1962",
            "method": "animate"
           },
           {
            "args": [
             [
              "1963"
             ],
             {
              "frame": {
               "duration": 0,
               "redraw": true
              },
              "mode": "immediate",
              "fromcurrent": true,
              "transition": {
               "duration": 0,
               "easing": "linear"
              }
             }
            ],
            "label": "1963",
            "method": "animate"
           },
           {
            "args": [
             [
              "1964"
             ],
             {
              "frame": {
               "duration": 0,
               "redraw": true
              },
              "mode": "immediate",
              "fromcurrent": true,
              "transition": {
               "duration": 0,
               "easing": "linear"
              }
             }
            ],
            "label": "1964",
            "method": "animate"
           },
           {
            "args": [
             [
              "1965"
             ],
             {
              "frame": {
               "duration": 0,
               "redraw": true
              },
              "mode": "immediate",
              "fromcurrent": true,
              "transition": {
               "duration": 0,
               "easing": "linear"
              }
             }
            ],
            "label": "1965",
            "method": "animate"
           },
           {
            "args": [
             [
              "1966"
             ],
             {
              "frame": {
               "duration": 0,
               "redraw": true
              },
              "mode": "immediate",
              "fromcurrent": true,
              "transition": {
               "duration": 0,
               "easing": "linear"
              }
             }
            ],
            "label": "1966",
            "method": "animate"
           },
           {
            "args": [
             [
              "1967"
             ],
             {
              "frame": {
               "duration": 0,
               "redraw": true
              },
              "mode": "immediate",
              "fromcurrent": true,
              "transition": {
               "duration": 0,
               "easing": "linear"
              }
             }
            ],
            "label": "1967",
            "method": "animate"
           },
           {
            "args": [
             [
              "1968"
             ],
             {
              "frame": {
               "duration": 0,
               "redraw": true
              },
              "mode": "immediate",
              "fromcurrent": true,
              "transition": {
               "duration": 0,
               "easing": "linear"
              }
             }
            ],
            "label": "1968",
            "method": "animate"
           },
           {
            "args": [
             [
              "1969"
             ],
             {
              "frame": {
               "duration": 0,
               "redraw": true
              },
              "mode": "immediate",
              "fromcurrent": true,
              "transition": {
               "duration": 0,
               "easing": "linear"
              }
             }
            ],
            "label": "1969",
            "method": "animate"
           },
           {
            "args": [
             [
              "1970"
             ],
             {
              "frame": {
               "duration": 0,
               "redraw": true
              },
              "mode": "immediate",
              "fromcurrent": true,
              "transition": {
               "duration": 0,
               "easing": "linear"
              }
             }
            ],
            "label": "1970",
            "method": "animate"
           },
           {
            "args": [
             [
              "1971"
             ],
             {
              "frame": {
               "duration": 0,
               "redraw": true
              },
              "mode": "immediate",
              "fromcurrent": true,
              "transition": {
               "duration": 0,
               "easing": "linear"
              }
             }
            ],
            "label": "1971",
            "method": "animate"
           },
           {
            "args": [
             [
              "1972"
             ],
             {
              "frame": {
               "duration": 0,
               "redraw": true
              },
              "mode": "immediate",
              "fromcurrent": true,
              "transition": {
               "duration": 0,
               "easing": "linear"
              }
             }
            ],
            "label": "1972",
            "method": "animate"
           },
           {
            "args": [
             [
              "1973"
             ],
             {
              "frame": {
               "duration": 0,
               "redraw": true
              },
              "mode": "immediate",
              "fromcurrent": true,
              "transition": {
               "duration": 0,
               "easing": "linear"
              }
             }
            ],
            "label": "1973",
            "method": "animate"
           },
           {
            "args": [
             [
              "1974"
             ],
             {
              "frame": {
               "duration": 0,
               "redraw": true
              },
              "mode": "immediate",
              "fromcurrent": true,
              "transition": {
               "duration": 0,
               "easing": "linear"
              }
             }
            ],
            "label": "1974",
            "method": "animate"
           },
           {
            "args": [
             [
              "1975"
             ],
             {
              "frame": {
               "duration": 0,
               "redraw": true
              },
              "mode": "immediate",
              "fromcurrent": true,
              "transition": {
               "duration": 0,
               "easing": "linear"
              }
             }
            ],
            "label": "1975",
            "method": "animate"
           },
           {
            "args": [
             [
              "1976"
             ],
             {
              "frame": {
               "duration": 0,
               "redraw": true
              },
              "mode": "immediate",
              "fromcurrent": true,
              "transition": {
               "duration": 0,
               "easing": "linear"
              }
             }
            ],
            "label": "1976",
            "method": "animate"
           },
           {
            "args": [
             [
              "1977"
             ],
             {
              "frame": {
               "duration": 0,
               "redraw": true
              },
              "mode": "immediate",
              "fromcurrent": true,
              "transition": {
               "duration": 0,
               "easing": "linear"
              }
             }
            ],
            "label": "1977",
            "method": "animate"
           },
           {
            "args": [
             [
              "1978"
             ],
             {
              "frame": {
               "duration": 0,
               "redraw": true
              },
              "mode": "immediate",
              "fromcurrent": true,
              "transition": {
               "duration": 0,
               "easing": "linear"
              }
             }
            ],
            "label": "1978",
            "method": "animate"
           },
           {
            "args": [
             [
              "1979"
             ],
             {
              "frame": {
               "duration": 0,
               "redraw": true
              },
              "mode": "immediate",
              "fromcurrent": true,
              "transition": {
               "duration": 0,
               "easing": "linear"
              }
             }
            ],
            "label": "1979",
            "method": "animate"
           },
           {
            "args": [
             [
              "1980"
             ],
             {
              "frame": {
               "duration": 0,
               "redraw": true
              },
              "mode": "immediate",
              "fromcurrent": true,
              "transition": {
               "duration": 0,
               "easing": "linear"
              }
             }
            ],
            "label": "1980",
            "method": "animate"
           },
           {
            "args": [
             [
              "1981"
             ],
             {
              "frame": {
               "duration": 0,
               "redraw": true
              },
              "mode": "immediate",
              "fromcurrent": true,
              "transition": {
               "duration": 0,
               "easing": "linear"
              }
             }
            ],
            "label": "1981",
            "method": "animate"
           },
           {
            "args": [
             [
              "1982"
             ],
             {
              "frame": {
               "duration": 0,
               "redraw": true
              },
              "mode": "immediate",
              "fromcurrent": true,
              "transition": {
               "duration": 0,
               "easing": "linear"
              }
             }
            ],
            "label": "1982",
            "method": "animate"
           },
           {
            "args": [
             [
              "1983"
             ],
             {
              "frame": {
               "duration": 0,
               "redraw": true
              },
              "mode": "immediate",
              "fromcurrent": true,
              "transition": {
               "duration": 0,
               "easing": "linear"
              }
             }
            ],
            "label": "1983",
            "method": "animate"
           },
           {
            "args": [
             [
              "1984"
             ],
             {
              "frame": {
               "duration": 0,
               "redraw": true
              },
              "mode": "immediate",
              "fromcurrent": true,
              "transition": {
               "duration": 0,
               "easing": "linear"
              }
             }
            ],
            "label": "1984",
            "method": "animate"
           },
           {
            "args": [
             [
              "1985"
             ],
             {
              "frame": {
               "duration": 0,
               "redraw": true
              },
              "mode": "immediate",
              "fromcurrent": true,
              "transition": {
               "duration": 0,
               "easing": "linear"
              }
             }
            ],
            "label": "1985",
            "method": "animate"
           },
           {
            "args": [
             [
              "1986"
             ],
             {
              "frame": {
               "duration": 0,
               "redraw": true
              },
              "mode": "immediate",
              "fromcurrent": true,
              "transition": {
               "duration": 0,
               "easing": "linear"
              }
             }
            ],
            "label": "1986",
            "method": "animate"
           },
           {
            "args": [
             [
              "1987"
             ],
             {
              "frame": {
               "duration": 0,
               "redraw": true
              },
              "mode": "immediate",
              "fromcurrent": true,
              "transition": {
               "duration": 0,
               "easing": "linear"
              }
             }
            ],
            "label": "1987",
            "method": "animate"
           },
           {
            "args": [
             [
              "1988"
             ],
             {
              "frame": {
               "duration": 0,
               "redraw": true
              },
              "mode": "immediate",
              "fromcurrent": true,
              "transition": {
               "duration": 0,
               "easing": "linear"
              }
             }
            ],
            "label": "1988",
            "method": "animate"
           },
           {
            "args": [
             [
              "1989"
             ],
             {
              "frame": {
               "duration": 0,
               "redraw": true
              },
              "mode": "immediate",
              "fromcurrent": true,
              "transition": {
               "duration": 0,
               "easing": "linear"
              }
             }
            ],
            "label": "1989",
            "method": "animate"
           },
           {
            "args": [
             [
              "1990"
             ],
             {
              "frame": {
               "duration": 0,
               "redraw": true
              },
              "mode": "immediate",
              "fromcurrent": true,
              "transition": {
               "duration": 0,
               "easing": "linear"
              }
             }
            ],
            "label": "1990",
            "method": "animate"
           },
           {
            "args": [
             [
              "1991"
             ],
             {
              "frame": {
               "duration": 0,
               "redraw": true
              },
              "mode": "immediate",
              "fromcurrent": true,
              "transition": {
               "duration": 0,
               "easing": "linear"
              }
             }
            ],
            "label": "1991",
            "method": "animate"
           },
           {
            "args": [
             [
              "1992"
             ],
             {
              "frame": {
               "duration": 0,
               "redraw": true
              },
              "mode": "immediate",
              "fromcurrent": true,
              "transition": {
               "duration": 0,
               "easing": "linear"
              }
             }
            ],
            "label": "1992",
            "method": "animate"
           },
           {
            "args": [
             [
              "1993"
             ],
             {
              "frame": {
               "duration": 0,
               "redraw": true
              },
              "mode": "immediate",
              "fromcurrent": true,
              "transition": {
               "duration": 0,
               "easing": "linear"
              }
             }
            ],
            "label": "1993",
            "method": "animate"
           },
           {
            "args": [
             [
              "1994"
             ],
             {
              "frame": {
               "duration": 0,
               "redraw": true
              },
              "mode": "immediate",
              "fromcurrent": true,
              "transition": {
               "duration": 0,
               "easing": "linear"
              }
             }
            ],
            "label": "1994",
            "method": "animate"
           },
           {
            "args": [
             [
              "1995"
             ],
             {
              "frame": {
               "duration": 0,
               "redraw": true
              },
              "mode": "immediate",
              "fromcurrent": true,
              "transition": {
               "duration": 0,
               "easing": "linear"
              }
             }
            ],
            "label": "1995",
            "method": "animate"
           },
           {
            "args": [
             [
              "1996"
             ],
             {
              "frame": {
               "duration": 0,
               "redraw": true
              },
              "mode": "immediate",
              "fromcurrent": true,
              "transition": {
               "duration": 0,
               "easing": "linear"
              }
             }
            ],
            "label": "1996",
            "method": "animate"
           },
           {
            "args": [
             [
              "1997"
             ],
             {
              "frame": {
               "duration": 0,
               "redraw": true
              },
              "mode": "immediate",
              "fromcurrent": true,
              "transition": {
               "duration": 0,
               "easing": "linear"
              }
             }
            ],
            "label": "1997",
            "method": "animate"
           },
           {
            "args": [
             [
              "1998"
             ],
             {
              "frame": {
               "duration": 0,
               "redraw": true
              },
              "mode": "immediate",
              "fromcurrent": true,
              "transition": {
               "duration": 0,
               "easing": "linear"
              }
             }
            ],
            "label": "1998",
            "method": "animate"
           },
           {
            "args": [
             [
              "1999"
             ],
             {
              "frame": {
               "duration": 0,
               "redraw": true
              },
              "mode": "immediate",
              "fromcurrent": true,
              "transition": {
               "duration": 0,
               "easing": "linear"
              }
             }
            ],
            "label": "1999",
            "method": "animate"
           },
           {
            "args": [
             [
              "2000"
             ],
             {
              "frame": {
               "duration": 0,
               "redraw": true
              },
              "mode": "immediate",
              "fromcurrent": true,
              "transition": {
               "duration": 0,
               "easing": "linear"
              }
             }
            ],
            "label": "2000",
            "method": "animate"
           },
           {
            "args": [
             [
              "2001"
             ],
             {
              "frame": {
               "duration": 0,
               "redraw": true
              },
              "mode": "immediate",
              "fromcurrent": true,
              "transition": {
               "duration": 0,
               "easing": "linear"
              }
             }
            ],
            "label": "2001",
            "method": "animate"
           },
           {
            "args": [
             [
              "2002"
             ],
             {
              "frame": {
               "duration": 0,
               "redraw": true
              },
              "mode": "immediate",
              "fromcurrent": true,
              "transition": {
               "duration": 0,
               "easing": "linear"
              }
             }
            ],
            "label": "2002",
            "method": "animate"
           },
           {
            "args": [
             [
              "2003"
             ],
             {
              "frame": {
               "duration": 0,
               "redraw": true
              },
              "mode": "immediate",
              "fromcurrent": true,
              "transition": {
               "duration": 0,
               "easing": "linear"
              }
             }
            ],
            "label": "2003",
            "method": "animate"
           },
           {
            "args": [
             [
              "2004"
             ],
             {
              "frame": {
               "duration": 0,
               "redraw": true
              },
              "mode": "immediate",
              "fromcurrent": true,
              "transition": {
               "duration": 0,
               "easing": "linear"
              }
             }
            ],
            "label": "2004",
            "method": "animate"
           },
           {
            "args": [
             [
              "2005"
             ],
             {
              "frame": {
               "duration": 0,
               "redraw": true
              },
              "mode": "immediate",
              "fromcurrent": true,
              "transition": {
               "duration": 0,
               "easing": "linear"
              }
             }
            ],
            "label": "2005",
            "method": "animate"
           },
           {
            "args": [
             [
              "2006"
             ],
             {
              "frame": {
               "duration": 0,
               "redraw": true
              },
              "mode": "immediate",
              "fromcurrent": true,
              "transition": {
               "duration": 0,
               "easing": "linear"
              }
             }
            ],
            "label": "2006",
            "method": "animate"
           },
           {
            "args": [
             [
              "2007"
             ],
             {
              "frame": {
               "duration": 0,
               "redraw": true
              },
              "mode": "immediate",
              "fromcurrent": true,
              "transition": {
               "duration": 0,
               "easing": "linear"
              }
             }
            ],
            "label": "2007",
            "method": "animate"
           },
           {
            "args": [
             [
              "2008"
             ],
             {
              "frame": {
               "duration": 0,
               "redraw": true
              },
              "mode": "immediate",
              "fromcurrent": true,
              "transition": {
               "duration": 0,
               "easing": "linear"
              }
             }
            ],
            "label": "2008",
            "method": "animate"
           },
           {
            "args": [
             [
              "2009"
             ],
             {
              "frame": {
               "duration": 0,
               "redraw": true
              },
              "mode": "immediate",
              "fromcurrent": true,
              "transition": {
               "duration": 0,
               "easing": "linear"
              }
             }
            ],
            "label": "2009",
            "method": "animate"
           },
           {
            "args": [
             [
              "2010"
             ],
             {
              "frame": {
               "duration": 0,
               "redraw": true
              },
              "mode": "immediate",
              "fromcurrent": true,
              "transition": {
               "duration": 0,
               "easing": "linear"
              }
             }
            ],
            "label": "2010",
            "method": "animate"
           },
           {
            "args": [
             [
              "2011"
             ],
             {
              "frame": {
               "duration": 0,
               "redraw": true
              },
              "mode": "immediate",
              "fromcurrent": true,
              "transition": {
               "duration": 0,
               "easing": "linear"
              }
             }
            ],
            "label": "2011",
            "method": "animate"
           },
           {
            "args": [
             [
              "2012"
             ],
             {
              "frame": {
               "duration": 0,
               "redraw": true
              },
              "mode": "immediate",
              "fromcurrent": true,
              "transition": {
               "duration": 0,
               "easing": "linear"
              }
             }
            ],
            "label": "2012",
            "method": "animate"
           },
           {
            "args": [
             [
              "2013"
             ],
             {
              "frame": {
               "duration": 0,
               "redraw": true
              },
              "mode": "immediate",
              "fromcurrent": true,
              "transition": {
               "duration": 0,
               "easing": "linear"
              }
             }
            ],
            "label": "2013",
            "method": "animate"
           },
           {
            "args": [
             [
              "2014"
             ],
             {
              "frame": {
               "duration": 0,
               "redraw": true
              },
              "mode": "immediate",
              "fromcurrent": true,
              "transition": {
               "duration": 0,
               "easing": "linear"
              }
             }
            ],
            "label": "2014",
            "method": "animate"
           },
           {
            "args": [
             [
              "2015"
             ],
             {
              "frame": {
               "duration": 0,
               "redraw": true
              },
              "mode": "immediate",
              "fromcurrent": true,
              "transition": {
               "duration": 0,
               "easing": "linear"
              }
             }
            ],
            "label": "2015",
            "method": "animate"
           },
           {
            "args": [
             [
              "2016"
             ],
             {
              "frame": {
               "duration": 0,
               "redraw": true
              },
              "mode": "immediate",
              "fromcurrent": true,
              "transition": {
               "duration": 0,
               "easing": "linear"
              }
             }
            ],
            "label": "2016",
            "method": "animate"
           },
           {
            "args": [
             [
              "2017"
             ],
             {
              "frame": {
               "duration": 0,
               "redraw": true
              },
              "mode": "immediate",
              "fromcurrent": true,
              "transition": {
               "duration": 0,
               "easing": "linear"
              }
             }
            ],
            "label": "2017",
            "method": "animate"
           },
           {
            "args": [
             [
              "2018"
             ],
             {
              "frame": {
               "duration": 0,
               "redraw": true
              },
              "mode": "immediate",
              "fromcurrent": true,
              "transition": {
               "duration": 0,
               "easing": "linear"
              }
             }
            ],
            "label": "2018",
            "method": "animate"
           },
           {
            "args": [
             [
              "2019"
             ],
             {
              "frame": {
               "duration": 0,
               "redraw": true
              },
              "mode": "immediate",
              "fromcurrent": true,
              "transition": {
               "duration": 0,
               "easing": "linear"
              }
             }
            ],
            "label": "2019",
            "method": "animate"
           },
           {
            "args": [
             [
              "2020"
             ],
             {
              "frame": {
               "duration": 0,
               "redraw": true
              },
              "mode": "immediate",
              "fromcurrent": true,
              "transition": {
               "duration": 0,
               "easing": "linear"
              }
             }
            ],
            "label": "2020",
            "method": "animate"
           },
           {
            "args": [
             [
              "2021"
             ],
             {
              "frame": {
               "duration": 0,
               "redraw": true
              },
              "mode": "immediate",
              "fromcurrent": true,
              "transition": {
               "duration": 0,
               "easing": "linear"
              }
             }
            ],
            "label": "2021",
            "method": "animate"
           }
          ],
          "x": 0.1,
          "xanchor": "left",
          "y": 0,
          "yanchor": "top"
         }
        ]
       },
       "frames": [
        {
         "data": [
          {
           "alignmentgroup": "True",
           "hovertemplate": "year=1958<br>week=%{x}<br>count=%{y}<extra></extra>",
           "legendgroup": "",
           "marker": {
            "color": "#636efa",
            "pattern": {
             "shape": ""
            }
           },
           "name": "",
           "offsetgroup": "",
           "orientation": "v",
           "showlegend": false,
           "textposition": "auto",
           "x": [
            1,
            2,
            3,
            4,
            5,
            6,
            7,
            8,
            9,
            10,
            11,
            12,
            13,
            14,
            15,
            16,
            17,
            18,
            19,
            20,
            21,
            22
           ],
           "xaxis": "x",
           "y": [
            64,
            47,
            28,
            27,
            23,
            16,
            21,
            15,
            19,
            23,
            14,
            9,
            10,
            10,
            6,
            9,
            4,
            2,
            2,
            1,
            1,
            1
           ],
           "yaxis": "y",
           "type": "bar"
          }
         ],
         "name": "1958"
        },
        {
         "data": [
          {
           "alignmentgroup": "True",
           "hovertemplate": "year=1959<br>week=%{x}<br>count=%{y}<extra></extra>",
           "legendgroup": "",
           "marker": {
            "color": "#636efa",
            "pattern": {
             "shape": ""
            }
           },
           "name": "",
           "offsetgroup": "",
           "orientation": "v",
           "showlegend": false,
           "textposition": "auto",
           "x": [
            1,
            2,
            3,
            4,
            5,
            6,
            7,
            8,
            9,
            10,
            11,
            12,
            13,
            14,
            15,
            16,
            17,
            18,
            19,
            20,
            21,
            22,
            23,
            24,
            25,
            26
           ],
           "xaxis": "x",
           "y": [
            50,
            54,
            44,
            40,
            39,
            43,
            35,
            42,
            42,
            23,
            26,
            40,
            44,
            18,
            30,
            33,
            19,
            9,
            10,
            7,
            8,
            1,
            2,
            2,
            1,
            1
           ],
           "yaxis": "y",
           "type": "bar"
          }
         ],
         "name": "1959"
        },
        {
         "data": [
          {
           "alignmentgroup": "True",
           "hovertemplate": "year=1960<br>week=%{x}<br>count=%{y}<extra></extra>",
           "legendgroup": "",
           "marker": {
            "color": "#636efa",
            "pattern": {
             "shape": ""
            }
           },
           "name": "",
           "offsetgroup": "",
           "orientation": "v",
           "showlegend": false,
           "textposition": "auto",
           "x": [
            1,
            2,
            3,
            4,
            5,
            6,
            7,
            8,
            9,
            10,
            11,
            12,
            13,
            14,
            15,
            16,
            17,
            18,
            19,
            20,
            21,
            22,
            23,
            24,
            25,
            26,
            27
           ],
           "xaxis": "x",
           "y": [
            46,
            63,
            52,
            40,
            32,
            52,
            41,
            42,
            40,
            35,
            41,
            26,
            38,
            26,
            33,
            18,
            16,
            14,
            6,
            7,
            5,
            3,
            2,
            2,
            0,
            2,
            1
           ],
           "yaxis": "y",
           "type": "bar"
          }
         ],
         "name": "1960"
        },
        {
         "data": [
          {
           "alignmentgroup": "True",
           "hovertemplate": "year=1961<br>week=%{x}<br>count=%{y}<extra></extra>",
           "legendgroup": "",
           "marker": {
            "color": "#636efa",
            "pattern": {
             "shape": ""
            }
           },
           "name": "",
           "offsetgroup": "",
           "orientation": "v",
           "showlegend": false,
           "textposition": "auto",
           "x": [
            1,
            2,
            3,
            4,
            5,
            6,
            7,
            8,
            9,
            10,
            11,
            12,
            13,
            14,
            15,
            16,
            17,
            18,
            19,
            20,
            21,
            22,
            23,
            24,
            25,
            26
           ],
           "xaxis": "x",
           "y": [
            60,
            69,
            66,
            59,
            59,
            63,
            66,
            55,
            44,
            41,
            41,
            39,
            28,
            25,
            24,
            17,
            10,
            6,
            2,
            3,
            1,
            0,
            3,
            0,
            1,
            1
           ],
           "yaxis": "y",
           "type": "bar"
          }
         ],
         "name": "1961"
        },
        {
         "data": [
          {
           "alignmentgroup": "True",
           "hovertemplate": "year=1962<br>week=%{x}<br>count=%{y}<extra></extra>",
           "legendgroup": "",
           "marker": {
            "color": "#636efa",
            "pattern": {
             "shape": ""
            }
           },
           "name": "",
           "offsetgroup": "",
           "orientation": "v",
           "showlegend": false,
           "textposition": "auto",
           "x": [
            1,
            2,
            3,
            4,
            5,
            6,
            7,
            8,
            9,
            10,
            11,
            12,
            13,
            14,
            15,
            16,
            17,
            18,
            19,
            20,
            21,
            22,
            23,
            24,
            25,
            26,
            27,
            28,
            29,
            30,
            31,
            32,
            33,
            34,
            35,
            36,
            37,
            38,
            39
           ],
           "xaxis": "x",
           "y": [
            97,
            54,
            42,
            52,
            42,
            48,
            52,
            67,
            54,
            46,
            54,
            32,
            29,
            40,
            18,
            13,
            8,
            8,
            3,
            0,
            3,
            0,
            3,
            0,
            0,
            1,
            0,
            1,
            0,
            0,
            0,
            0,
            0,
            0,
            0,
            0,
            0,
            0,
            1
           ],
           "yaxis": "y",
           "type": "bar"
          }
         ],
         "name": "1962"
        },
        {
         "data": [
          {
           "alignmentgroup": "True",
           "hovertemplate": "year=1963<br>week=%{x}<br>count=%{y}<extra></extra>",
           "legendgroup": "",
           "marker": {
            "color": "#636efa",
            "pattern": {
             "shape": ""
            }
           },
           "name": "",
           "offsetgroup": "",
           "orientation": "v",
           "showlegend": false,
           "textposition": "auto",
           "x": [
            1,
            2,
            3,
            4,
            5,
            6,
            7,
            8,
            9,
            10,
            11,
            12,
            13,
            14,
            15,
            16,
            17,
            18,
            19,
            20,
            21,
            22,
            23
           ],
           "xaxis": "x",
           "y": [
            61,
            51,
            49,
            40,
            47,
            62,
            75,
            66,
            67,
            47,
            44,
            37,
            39,
            27,
            16,
            15,
            5,
            4,
            0,
            1,
            0,
            0,
            1
           ],
           "yaxis": "y",
           "type": "bar"
          }
         ],
         "name": "1963"
        },
        {
         "data": [
          {
           "alignmentgroup": "True",
           "hovertemplate": "year=1964<br>week=%{x}<br>count=%{y}<extra></extra>",
           "legendgroup": "",
           "marker": {
            "color": "#636efa",
            "pattern": {
             "shape": ""
            }
           },
           "name": "",
           "offsetgroup": "",
           "orientation": "v",
           "showlegend": false,
           "textposition": "auto",
           "x": [
            1,
            2,
            3,
            4,
            5,
            6,
            7,
            8,
            9,
            10,
            11,
            12,
            13,
            14,
            15,
            16,
            17,
            18,
            19,
            20,
            21,
            22,
            23
           ],
           "xaxis": "x",
           "y": [
            56,
            65,
            71,
            44,
            61,
            69,
            84,
            73,
            70,
            63,
            50,
            27,
            31,
            20,
            14,
            6,
            3,
            0,
            2,
            0,
            0,
            1,
            1
           ],
           "yaxis": "y",
           "type": "bar"
          }
         ],
         "name": "1964"
        },
        {
         "data": [
          {
           "alignmentgroup": "True",
           "hovertemplate": "year=1965<br>week=%{x}<br>count=%{y}<extra></extra>",
           "legendgroup": "",
           "marker": {
            "color": "#636efa",
            "pattern": {
             "shape": ""
            }
           },
           "name": "",
           "offsetgroup": "",
           "orientation": "v",
           "showlegend": false,
           "textposition": "auto",
           "x": [
            1,
            2,
            3,
            4,
            5,
            6,
            7,
            8,
            9,
            10,
            11,
            12,
            13,
            14,
            15,
            16,
            17,
            18,
            19,
            20,
            21,
            22,
            23,
            24,
            25
           ],
           "xaxis": "x",
           "y": [
            50,
            53,
            64,
            57,
            51,
            67,
            105,
            74,
            77,
            46,
            56,
            35,
            28,
            24,
            9,
            2,
            0,
            1,
            0,
            0,
            0,
            0,
            0,
            0,
            1
           ],
           "yaxis": "y",
           "type": "bar"
          }
         ],
         "name": "1965"
        },
        {
         "data": [
          {
           "alignmentgroup": "True",
           "hovertemplate": "year=1966<br>week=%{x}<br>count=%{y}<extra></extra>",
           "legendgroup": "",
           "marker": {
            "color": "#636efa",
            "pattern": {
             "shape": ""
            }
           },
           "name": "",
           "offsetgroup": "",
           "orientation": "v",
           "showlegend": false,
           "textposition": "auto",
           "x": [
            1,
            2,
            3,
            4,
            5,
            6,
            7,
            8,
            9,
            10,
            11,
            12,
            13,
            14,
            15,
            16,
            17,
            18,
            19,
            20,
            21,
            22,
            23,
            24,
            25,
            26,
            27,
            28,
            29,
            30
           ],
           "xaxis": "x",
           "y": [
            50,
            84,
            48,
            52,
            68,
            87,
            82,
            106,
            65,
            36,
            49,
            34,
            25,
            23,
            12,
            4,
            3,
            1,
            1,
            0,
            0,
            0,
            0,
            0,
            0,
            0,
            0,
            0,
            1,
            1
           ],
           "yaxis": "y",
           "type": "bar"
          }
         ],
         "name": "1966"
        },
        {
         "data": [
          {
           "alignmentgroup": "True",
           "hovertemplate": "year=1967<br>week=%{x}<br>count=%{y}<extra></extra>",
           "legendgroup": "",
           "marker": {
            "color": "#636efa",
            "pattern": {
             "shape": ""
            }
           },
           "name": "",
           "offsetgroup": "",
           "orientation": "v",
           "showlegend": false,
           "textposition": "auto",
           "x": [
            1,
            2,
            3,
            4,
            5,
            6,
            7,
            8,
            9,
            10,
            11,
            12,
            13,
            14,
            15,
            16,
            17,
            18,
            19,
            20,
            21
           ],
           "xaxis": "x",
           "y": [
            50,
            76,
            60,
            67,
            69,
            95,
            91,
            70,
            62,
            41,
            39,
            40,
            15,
            20,
            16,
            8,
            7,
            0,
            0,
            0,
            1
           ],
           "yaxis": "y",
           "type": "bar"
          }
         ],
         "name": "1967"
        },
        {
         "data": [
          {
           "alignmentgroup": "True",
           "hovertemplate": "year=1968<br>week=%{x}<br>count=%{y}<extra></extra>",
           "legendgroup": "",
           "marker": {
            "color": "#636efa",
            "pattern": {
             "shape": ""
            }
           },
           "name": "",
           "offsetgroup": "",
           "orientation": "v",
           "showlegend": false,
           "textposition": "auto",
           "x": [
            1,
            2,
            3,
            4,
            5,
            6,
            7,
            8,
            9,
            10,
            11,
            12,
            13,
            14,
            15,
            16,
            17,
            18,
            19,
            20,
            21,
            22,
            23,
            24,
            25,
            26
           ],
           "xaxis": "x",
           "y": [
            29,
            70,
            61,
            48,
            71,
            87,
            74,
            69,
            49,
            41,
            33,
            38,
            28,
            30,
            18,
            12,
            8,
            3,
            0,
            0,
            0,
            1,
            1,
            0,
            0,
            1
           ],
           "yaxis": "y",
           "type": "bar"
          }
         ],
         "name": "1968"
        },
        {
         "data": [
          {
           "alignmentgroup": "True",
           "hovertemplate": "year=1969<br>week=%{x}<br>count=%{y}<extra></extra>",
           "legendgroup": "",
           "marker": {
            "color": "#636efa",
            "pattern": {
             "shape": ""
            }
           },
           "name": "",
           "offsetgroup": "",
           "orientation": "v",
           "showlegend": false,
           "textposition": "auto",
           "x": [
            1,
            2,
            3,
            4,
            5,
            6,
            7,
            8,
            9,
            10,
            11,
            12,
            13,
            14,
            15,
            16,
            17,
            18,
            19,
            20,
            21,
            22,
            23,
            24,
            25
           ],
           "xaxis": "x",
           "y": [
            32,
            67,
            55,
            64,
            51,
            83,
            62,
            68,
            47,
            52,
            39,
            34,
            36,
            28,
            17,
            12,
            5,
            1,
            3,
            1,
            1,
            1,
            2,
            0,
            1
           ],
           "yaxis": "y",
           "type": "bar"
          }
         ],
         "name": "1969"
        },
        {
         "data": [
          {
           "alignmentgroup": "True",
           "hovertemplate": "year=1970<br>week=%{x}<br>count=%{y}<extra></extra>",
           "legendgroup": "",
           "marker": {
            "color": "#636efa",
            "pattern": {
             "shape": ""
            }
           },
           "name": "",
           "offsetgroup": "",
           "orientation": "v",
           "showlegend": false,
           "textposition": "auto",
           "x": [
            1,
            2,
            3,
            4,
            5,
            6,
            7,
            8,
            9,
            10,
            11,
            12,
            13,
            14,
            15,
            16,
            17,
            18,
            19,
            20,
            21,
            22,
            23,
            24
           ],
           "xaxis": "x",
           "y": [
            30,
            70,
            59,
            50,
            45,
            51,
            60,
            75,
            52,
            30,
            30,
            36,
            30,
            41,
            31,
            13,
            10,
            6,
            1,
            3,
            1,
            2,
            1,
            1
           ],
           "yaxis": "y",
           "type": "bar"
          }
         ],
         "name": "1970"
        },
        {
         "data": [
          {
           "alignmentgroup": "True",
           "hovertemplate": "year=1971<br>week=%{x}<br>count=%{y}<extra></extra>",
           "legendgroup": "",
           "marker": {
            "color": "#636efa",
            "pattern": {
             "shape": ""
            }
           },
           "name": "",
           "offsetgroup": "",
           "orientation": "v",
           "showlegend": false,
           "textposition": "auto",
           "x": [
            1,
            2,
            3,
            4,
            5,
            6,
            7,
            8,
            9,
            10,
            11,
            12,
            13,
            14,
            15,
            16,
            17,
            18,
            19,
            20,
            21,
            22,
            23,
            24,
            25,
            26,
            27,
            28,
            29,
            30,
            31
           ],
           "xaxis": "x",
           "y": [
            21,
            55,
            57,
            51,
            51,
            65,
            55,
            54,
            46,
            34,
            41,
            45,
            33,
            27,
            17,
            13,
            15,
            8,
            4,
            4,
            1,
            1,
            1,
            2,
            0,
            1,
            0,
            0,
            0,
            0,
            1
           ],
           "yaxis": "y",
           "type": "bar"
          }
         ],
         "name": "1971"
        },
        {
         "data": [
          {
           "alignmentgroup": "True",
           "hovertemplate": "year=1972<br>week=%{x}<br>count=%{y}<extra></extra>",
           "legendgroup": "",
           "marker": {
            "color": "#636efa",
            "pattern": {
             "shape": ""
            }
           },
           "name": "",
           "offsetgroup": "",
           "orientation": "v",
           "showlegend": false,
           "textposition": "auto",
           "x": [
            1,
            2,
            3,
            4,
            5,
            6,
            7,
            8,
            9,
            10,
            11,
            12,
            13,
            14,
            15,
            16,
            17,
            18,
            19,
            20,
            21,
            22,
            23,
            24,
            25
           ],
           "xaxis": "x",
           "y": [
            13,
            42,
            44,
            50,
            54,
            33,
            55,
            61,
            59,
            53,
            49,
            38,
            32,
            26,
            21,
            18,
            8,
            9,
            6,
            3,
            3,
            2,
            0,
            0,
            1
           ],
           "yaxis": "y",
           "type": "bar"
          }
         ],
         "name": "1972"
        },
        {
         "data": [
          {
           "alignmentgroup": "True",
           "hovertemplate": "year=1973<br>week=%{x}<br>count=%{y}<extra></extra>",
           "legendgroup": "",
           "marker": {
            "color": "#636efa",
            "pattern": {
             "shape": ""
            }
           },
           "name": "",
           "offsetgroup": "",
           "orientation": "v",
           "showlegend": false,
           "textposition": "auto",
           "x": [
            1,
            2,
            3,
            4,
            5,
            6,
            7,
            8,
            9,
            10,
            11,
            12,
            13,
            14,
            15,
            16,
            17,
            18,
            19,
            20,
            21,
            22,
            23,
            24,
            25,
            26,
            27,
            28,
            29,
            30,
            31,
            32,
            33,
            34,
            35,
            36,
            37,
            38
           ],
           "xaxis": "x",
           "y": [
            11,
            21,
            33,
            33,
            46,
            44,
            45,
            56,
            36,
            43,
            31,
            34,
            31,
            25,
            27,
            32,
            9,
            13,
            10,
            10,
            4,
            4,
            4,
            0,
            0,
            0,
            0,
            0,
            0,
            0,
            0,
            0,
            0,
            0,
            0,
            0,
            0,
            1
           ],
           "yaxis": "y",
           "type": "bar"
          }
         ],
         "name": "1973"
        },
        {
         "data": [
          {
           "alignmentgroup": "True",
           "hovertemplate": "year=1974<br>week=%{x}<br>count=%{y}<extra></extra>",
           "legendgroup": "",
           "marker": {
            "color": "#636efa",
            "pattern": {
             "shape": ""
            }
           },
           "name": "",
           "offsetgroup": "",
           "orientation": "v",
           "showlegend": false,
           "textposition": "auto",
           "x": [
            1,
            2,
            3,
            4,
            5,
            6,
            7,
            8,
            9,
            10,
            11,
            12,
            13,
            14,
            15,
            16,
            17,
            18,
            19,
            20,
            21,
            22,
            23,
            24,
            25,
            26,
            27,
            28
           ],
           "xaxis": "x",
           "y": [
            8,
            26,
            24,
            51,
            41,
            41,
            52,
            39,
            34,
            25,
            26,
            26,
            38,
            26,
            25,
            23,
            22,
            20,
            14,
            10,
            5,
            5,
            3,
            1,
            3,
            0,
            0,
            1
           ],
           "yaxis": "y",
           "type": "bar"
          }
         ],
         "name": "1974"
        },
        {
         "data": [
          {
           "alignmentgroup": "True",
           "hovertemplate": "year=1975<br>week=%{x}<br>count=%{y}<extra></extra>",
           "legendgroup": "",
           "marker": {
            "color": "#636efa",
            "pattern": {
             "shape": ""
            }
           },
           "name": "",
           "offsetgroup": "",
           "orientation": "v",
           "showlegend": false,
           "textposition": "auto",
           "x": [
            1,
            2,
            3,
            4,
            5,
            6,
            7,
            8,
            9,
            10,
            11,
            12,
            13,
            14,
            15,
            16,
            17,
            18,
            19,
            20,
            21,
            22,
            23,
            24,
            25,
            26,
            27,
            28
           ],
           "xaxis": "x",
           "y": [
            20,
            38,
            50,
            49,
            49,
            55,
            53,
            37,
            37,
            39,
            31,
            20,
            17,
            18,
            23,
            27,
            32,
            24,
            11,
            7,
            5,
            0,
            3,
            0,
            1,
            0,
            1,
            1
           ],
           "yaxis": "y",
           "type": "bar"
          }
         ],
         "name": "1975"
        },
        {
         "data": [
          {
           "alignmentgroup": "True",
           "hovertemplate": "year=1976<br>week=%{x}<br>count=%{y}<extra></extra>",
           "legendgroup": "",
           "marker": {
            "color": "#636efa",
            "pattern": {
             "shape": ""
            }
           },
           "name": "",
           "offsetgroup": "",
           "orientation": "v",
           "showlegend": false,
           "textposition": "auto",
           "x": [
            1,
            2,
            3,
            4,
            5,
            6,
            7,
            8,
            9,
            10,
            11,
            12,
            13,
            14,
            15,
            16,
            17,
            18,
            19,
            20,
            21,
            22,
            23,
            24,
            25,
            26,
            27,
            28,
            29,
            30,
            31,
            32
           ],
           "xaxis": "x",
           "y": [
            18,
            34,
            49,
            63,
            46,
            49,
            35,
            44,
            36,
            28,
            21,
            23,
            15,
            19,
            20,
            25,
            20,
            10,
            10,
            17,
            10,
            5,
            5,
            4,
            3,
            2,
            2,
            5,
            1,
            0,
            0,
            1
           ],
           "yaxis": "y",
           "type": "bar"
          }
         ],
         "name": "1976"
        },
        {
         "data": [
          {
           "alignmentgroup": "True",
           "hovertemplate": "year=1977<br>week=%{x}<br>count=%{y}<extra></extra>",
           "legendgroup": "",
           "marker": {
            "color": "#636efa",
            "pattern": {
             "shape": ""
            }
           },
           "name": "",
           "offsetgroup": "",
           "orientation": "v",
           "showlegend": false,
           "textposition": "auto",
           "x": [
            1,
            2,
            3,
            4,
            5,
            6,
            7,
            8,
            9,
            10,
            11,
            12,
            13,
            14,
            15,
            16,
            17,
            18,
            19,
            20,
            21,
            22,
            23,
            24,
            25,
            26,
            27,
            28,
            29,
            30,
            31
           ],
           "xaxis": "x",
           "y": [
            2,
            25,
            43,
            45,
            40,
            34,
            57,
            27,
            24,
            27,
            26,
            24,
            20,
            17,
            19,
            16,
            17,
            14,
            13,
            19,
            20,
            16,
            6,
            7,
            3,
            3,
            4,
            1,
            1,
            0,
            1
           ],
           "yaxis": "y",
           "type": "bar"
          }
         ],
         "name": "1977"
        },
        {
         "data": [
          {
           "alignmentgroup": "True",
           "hovertemplate": "year=1978<br>week=%{x}<br>count=%{y}<extra></extra>",
           "legendgroup": "",
           "marker": {
            "color": "#636efa",
            "pattern": {
             "shape": ""
            }
           },
           "name": "",
           "offsetgroup": "",
           "orientation": "v",
           "showlegend": false,
           "textposition": "auto",
           "x": [
            1,
            2,
            3,
            4,
            5,
            6,
            7,
            8,
            9,
            10,
            11,
            12,
            13,
            14,
            15,
            16,
            17,
            18,
            19,
            20,
            21,
            22,
            23,
            24,
            25,
            26,
            27,
            28,
            29,
            30,
            31,
            32,
            33,
            34,
            35,
            36,
            37,
            38,
            39,
            40
           ],
           "xaxis": "x",
           "y": [
            0,
            14,
            26,
            35,
            36,
            28,
            36,
            42,
            23,
            37,
            32,
            24,
            21,
            30,
            19,
            20,
            19,
            18,
            12,
            13,
            8,
            10,
            7,
            2,
            6,
            2,
            6,
            3,
            2,
            1,
            0,
            1,
            1,
            0,
            0,
            0,
            0,
            0,
            0,
            1
           ],
           "yaxis": "y",
           "type": "bar"
          }
         ],
         "name": "1978"
        },
        {
         "data": [
          {
           "alignmentgroup": "True",
           "hovertemplate": "year=1979<br>week=%{x}<br>count=%{y}<extra></extra>",
           "legendgroup": "",
           "marker": {
            "color": "#636efa",
            "pattern": {
             "shape": ""
            }
           },
           "name": "",
           "offsetgroup": "",
           "orientation": "v",
           "showlegend": false,
           "textposition": "auto",
           "x": [
            1,
            2,
            3,
            4,
            5,
            6,
            7,
            8,
            9,
            10,
            11,
            12,
            13,
            14,
            15,
            16,
            17,
            18,
            19,
            20,
            21,
            22,
            23,
            24,
            25,
            26,
            27,
            28,
            29,
            30,
            31
           ],
           "xaxis": "x",
           "y": [
            0,
            28,
            30,
            46,
            42,
            42,
            37,
            40,
            29,
            32,
            30,
            29,
            22,
            23,
            22,
            22,
            14,
            16,
            18,
            14,
            14,
            8,
            6,
            2,
            2,
            2,
            2,
            0,
            0,
            0,
            2
           ],
           "yaxis": "y",
           "type": "bar"
          }
         ],
         "name": "1979"
        },
        {
         "data": [
          {
           "alignmentgroup": "True",
           "hovertemplate": "year=1980<br>week=%{x}<br>count=%{y}<extra></extra>",
           "legendgroup": "",
           "marker": {
            "color": "#636efa",
            "pattern": {
             "shape": ""
            }
           },
           "name": "",
           "offsetgroup": "",
           "orientation": "v",
           "showlegend": false,
           "textposition": "auto",
           "x": [
            1,
            2,
            3,
            4,
            5,
            6,
            7,
            8,
            9,
            10,
            11,
            12,
            13,
            14,
            15,
            16,
            17,
            18,
            19,
            20,
            21,
            22,
            23,
            24,
            25,
            26,
            27,
            28,
            29
           ],
           "xaxis": "x",
           "y": [
            5,
            17,
            31,
            35,
            34,
            45,
            27,
            38,
            29,
            28,
            30,
            19,
            28,
            32,
            19,
            25,
            20,
            12,
            18,
            7,
            15,
            5,
            10,
            3,
            10,
            2,
            2,
            0,
            1
           ],
           "yaxis": "y",
           "type": "bar"
          }
         ],
         "name": "1980"
        },
        {
         "data": [
          {
           "alignmentgroup": "True",
           "hovertemplate": "year=1981<br>week=%{x}<br>count=%{y}<extra></extra>",
           "legendgroup": "",
           "marker": {
            "color": "#636efa",
            "pattern": {
             "shape": ""
            }
           },
           "name": "",
           "offsetgroup": "",
           "orientation": "v",
           "showlegend": false,
           "textposition": "auto",
           "x": [
            1,
            2,
            3,
            4,
            5,
            6,
            7,
            8,
            9,
            10,
            11,
            12,
            13,
            14,
            15,
            16,
            17,
            18,
            19,
            20,
            21,
            22,
            23,
            24,
            25,
            26,
            27,
            28,
            29,
            30,
            31,
            32
           ],
           "xaxis": "x",
           "y": [
            6,
            11,
            26,
            27,
            35,
            32,
            36,
            33,
            23,
            22,
            22,
            23,
            24,
            22,
            11,
            20,
            18,
            18,
            19,
            20,
            13,
            12,
            14,
            6,
            5,
            6,
            3,
            2,
            1,
            1,
            1,
            1
           ],
           "yaxis": "y",
           "type": "bar"
          }
         ],
         "name": "1981"
        },
        {
         "data": [
          {
           "alignmentgroup": "True",
           "hovertemplate": "year=1982<br>week=%{x}<br>count=%{y}<extra></extra>",
           "legendgroup": "",
           "marker": {
            "color": "#636efa",
            "pattern": {
             "shape": ""
            }
           },
           "name": "",
           "offsetgroup": "",
           "orientation": "v",
           "showlegend": false,
           "textposition": "auto",
           "x": [
            1,
            2,
            3,
            4,
            5,
            6,
            7,
            8,
            9,
            10,
            11,
            12,
            13,
            14,
            15,
            16,
            17,
            18,
            19,
            20,
            21,
            22,
            23,
            24,
            25,
            26,
            27,
            28,
            29,
            30,
            31,
            32,
            33,
            34,
            35,
            36,
            37,
            38,
            39,
            40,
            41,
            42,
            43
           ],
           "xaxis": "x",
           "y": [
            7,
            16,
            23,
            16,
            31,
            25,
            38,
            36,
            34,
            30,
            37,
            26,
            21,
            36,
            25,
            20,
            19,
            14,
            16,
            11,
            9,
            7,
            8,
            8,
            8,
            1,
            2,
            3,
            1,
            1,
            0,
            0,
            0,
            0,
            0,
            0,
            0,
            0,
            0,
            0,
            0,
            0,
            1
           ],
           "yaxis": "y",
           "type": "bar"
          }
         ],
         "name": "1982"
        },
        {
         "data": [
          {
           "alignmentgroup": "True",
           "hovertemplate": "year=1983<br>week=%{x}<br>count=%{y}<extra></extra>",
           "legendgroup": "",
           "marker": {
            "color": "#636efa",
            "pattern": {
             "shape": ""
            }
           },
           "name": "",
           "offsetgroup": "",
           "orientation": "v",
           "showlegend": false,
           "textposition": "auto",
           "x": [
            1,
            2,
            3,
            4,
            5,
            6,
            7,
            8,
            9,
            10,
            11,
            12,
            13,
            14,
            15,
            16,
            17,
            18,
            19,
            20,
            21,
            22,
            23,
            24,
            25,
            26,
            27,
            28,
            29,
            30,
            31,
            32,
            33,
            34,
            35,
            36
           ],
           "xaxis": "x",
           "y": [
            0,
            15,
            20,
            44,
            36,
            38,
            28,
            30,
            32,
            25,
            28,
            35,
            28,
            23,
            21,
            33,
            14,
            21,
            11,
            12,
            11,
            10,
            7,
            4,
            6,
            3,
            5,
            0,
            2,
            0,
            0,
            1,
            0,
            0,
            0,
            1
           ],
           "yaxis": "y",
           "type": "bar"
          }
         ],
         "name": "1983"
        },
        {
         "data": [
          {
           "alignmentgroup": "True",
           "hovertemplate": "year=1984<br>week=%{x}<br>count=%{y}<extra></extra>",
           "legendgroup": "",
           "marker": {
            "color": "#636efa",
            "pattern": {
             "shape": ""
            }
           },
           "name": "",
           "offsetgroup": "",
           "orientation": "v",
           "showlegend": false,
           "textposition": "auto",
           "x": [
            1,
            2,
            3,
            4,
            5,
            6,
            7,
            8,
            9,
            10,
            11,
            12,
            13,
            14,
            15,
            16,
            17,
            18,
            19,
            20,
            21,
            22,
            23,
            24,
            25,
            26,
            27,
            28,
            29,
            30,
            31,
            32,
            33,
            34,
            35,
            36,
            37,
            38
           ],
           "xaxis": "x",
           "y": [
            1,
            18,
            26,
            28,
            36,
            36,
            33,
            26,
            23,
            25,
            24,
            33,
            28,
            28,
            25,
            23,
            20,
            15,
            15,
            10,
            17,
            9,
            5,
            8,
            6,
            2,
            1,
            1,
            3,
            1,
            0,
            0,
            0,
            0,
            0,
            0,
            0,
            1
           ],
           "yaxis": "y",
           "type": "bar"
          }
         ],
         "name": "1984"
        },
        {
         "data": [
          {
           "alignmentgroup": "True",
           "hovertemplate": "year=1985<br>week=%{x}<br>count=%{y}<extra></extra>",
           "legendgroup": "",
           "marker": {
            "color": "#636efa",
            "pattern": {
             "shape": ""
            }
           },
           "name": "",
           "offsetgroup": "",
           "orientation": "v",
           "showlegend": false,
           "textposition": "auto",
           "x": [
            1,
            2,
            3,
            4,
            5,
            6,
            7,
            8,
            9,
            10,
            11,
            12,
            13,
            14,
            15,
            16,
            17,
            18,
            19,
            20,
            21,
            22,
            23,
            24,
            25,
            26,
            27,
            28,
            29,
            30,
            31,
            32,
            33,
            34,
            35,
            36,
            37,
            38,
            39,
            40
           ],
           "xaxis": "x",
           "y": [
            6,
            17,
            19,
            20,
            32,
            32,
            20,
            26,
            20,
            24,
            30,
            22,
            26,
            17,
            27,
            23,
            30,
            20,
            29,
            11,
            13,
            12,
            7,
            7,
            6,
            3,
            1,
            0,
            0,
            0,
            0,
            0,
            0,
            0,
            0,
            0,
            0,
            0,
            0,
            1
           ],
           "yaxis": "y",
           "type": "bar"
          }
         ],
         "name": "1985"
        },
        {
         "data": [
          {
           "alignmentgroup": "True",
           "hovertemplate": "year=1986<br>week=%{x}<br>count=%{y}<extra></extra>",
           "legendgroup": "",
           "marker": {
            "color": "#636efa",
            "pattern": {
             "shape": ""
            }
           },
           "name": "",
           "offsetgroup": "",
           "orientation": "v",
           "showlegend": false,
           "textposition": "auto",
           "x": [
            1,
            2,
            3,
            4,
            5,
            6,
            7,
            8,
            9,
            10,
            11,
            12,
            13,
            14,
            15,
            16,
            17,
            18,
            19,
            20,
            21,
            22,
            23,
            24,
            25,
            26,
            27,
            28,
            29
           ],
           "xaxis": "x",
           "y": [
            9,
            9,
            16,
            31,
            22,
            24,
            20,
            22,
            33,
            23,
            27,
            22,
            29,
            31,
            23,
            25,
            18,
            21,
            16,
            25,
            16,
            14,
            10,
            6,
            2,
            2,
            4,
            0,
            1
           ],
           "yaxis": "y",
           "type": "bar"
          }
         ],
         "name": "1986"
        },
        {
         "data": [
          {
           "alignmentgroup": "True",
           "hovertemplate": "year=1987<br>week=%{x}<br>count=%{y}<extra></extra>",
           "legendgroup": "",
           "marker": {
            "color": "#636efa",
            "pattern": {
             "shape": ""
            }
           },
           "name": "",
           "offsetgroup": "",
           "orientation": "v",
           "showlegend": false,
           "textposition": "auto",
           "x": [
            1,
            2,
            3,
            4,
            5,
            6,
            7,
            8,
            9,
            10,
            11,
            12,
            13,
            14,
            15,
            16,
            17,
            18,
            19,
            20,
            21,
            22,
            23,
            24,
            25,
            26,
            27,
            28,
            29,
            30,
            31,
            32,
            33,
            34,
            35
           ],
           "xaxis": "x",
           "y": [
            5,
            16,
            12,
            21,
            24,
            28,
            25,
            22,
            25,
            25,
            26,
            20,
            29,
            27,
            18,
            24,
            24,
            31,
            21,
            15,
            20,
            10,
            9,
            5,
            2,
            4,
            1,
            1,
            1,
            0,
            0,
            0,
            0,
            0,
            1
           ],
           "yaxis": "y",
           "type": "bar"
          }
         ],
         "name": "1987"
        },
        {
         "data": [
          {
           "alignmentgroup": "True",
           "hovertemplate": "year=1988<br>week=%{x}<br>count=%{y}<extra></extra>",
           "legendgroup": "",
           "marker": {
            "color": "#636efa",
            "pattern": {
             "shape": ""
            }
           },
           "name": "",
           "offsetgroup": "",
           "orientation": "v",
           "showlegend": false,
           "textposition": "auto",
           "x": [
            1,
            2,
            3,
            4,
            5,
            6,
            7,
            8,
            9,
            10,
            11,
            12,
            13,
            14,
            15,
            16,
            17,
            18,
            19,
            20,
            21,
            22,
            23,
            24,
            25,
            26,
            27,
            28,
            29,
            30,
            31,
            32,
            33,
            34,
            35,
            36
           ],
           "xaxis": "x",
           "y": [
            2,
            15,
            21,
            23,
            19,
            18,
            18,
            26,
            22,
            28,
            28,
            23,
            23,
            17,
            20,
            19,
            23,
            26,
            21,
            18,
            26,
            11,
            8,
            7,
            10,
            3,
            3,
            2,
            1,
            2,
            0,
            0,
            0,
            1,
            0,
            1
           ],
           "yaxis": "y",
           "type": "bar"
          }
         ],
         "name": "1988"
        },
        {
         "data": [
          {
           "alignmentgroup": "True",
           "hovertemplate": "year=1989<br>week=%{x}<br>count=%{y}<extra></extra>",
           "legendgroup": "",
           "marker": {
            "color": "#636efa",
            "pattern": {
             "shape": ""
            }
           },
           "name": "",
           "offsetgroup": "",
           "orientation": "v",
           "showlegend": false,
           "textposition": "auto",
           "x": [
            1,
            2,
            3,
            4,
            5,
            6,
            7,
            8,
            9,
            10,
            11,
            12,
            13,
            14,
            15,
            16,
            17,
            18,
            19,
            20,
            21,
            22,
            23,
            24,
            25,
            26,
            27,
            28,
            29,
            30,
            31,
            32,
            33,
            34,
            35,
            36,
            37,
            38,
            39,
            40
           ],
           "xaxis": "x",
           "y": [
            1,
            9,
            16,
            26,
            20,
            29,
            26,
            24,
            22,
            25,
            20,
            19,
            27,
            31,
            18,
            23,
            26,
            27,
            16,
            20,
            14,
            9,
            7,
            6,
            10,
            5,
            2,
            4,
            1,
            0,
            0,
            0,
            0,
            0,
            0,
            1,
            1,
            0,
            0,
            1
           ],
           "yaxis": "y",
           "type": "bar"
          }
         ],
         "name": "1989"
        },
        {
         "data": [
          {
           "alignmentgroup": "True",
           "hovertemplate": "year=1990<br>week=%{x}<br>count=%{y}<extra></extra>",
           "legendgroup": "",
           "marker": {
            "color": "#636efa",
            "pattern": {
             "shape": ""
            }
           },
           "name": "",
           "offsetgroup": "",
           "orientation": "v",
           "showlegend": false,
           "textposition": "auto",
           "x": [
            1,
            2,
            3,
            4,
            5,
            6,
            7,
            8,
            9,
            10,
            11,
            12,
            13,
            14,
            15,
            16,
            17,
            18,
            19,
            20,
            21,
            22,
            23,
            24,
            25,
            26,
            27,
            28,
            29,
            30,
            31,
            32,
            33,
            34,
            35,
            36,
            37,
            38,
            39
           ],
           "xaxis": "x",
           "y": [
            2,
            10,
            16,
            21,
            27,
            22,
            26,
            21,
            27,
            18,
            25,
            22,
            26,
            18,
            25,
            26,
            21,
            23,
            12,
            16,
            18,
            14,
            13,
            8,
            5,
            3,
            5,
            1,
            1,
            1,
            0,
            0,
            0,
            0,
            0,
            0,
            0,
            0,
            1
           ],
           "yaxis": "y",
           "type": "bar"
          }
         ],
         "name": "1990"
        },
        {
         "data": [
          {
           "alignmentgroup": "True",
           "hovertemplate": "year=1991<br>week=%{x}<br>count=%{y}<extra></extra>",
           "legendgroup": "",
           "marker": {
            "color": "#636efa",
            "pattern": {
             "shape": ""
            }
           },
           "name": "",
           "offsetgroup": "",
           "orientation": "v",
           "showlegend": false,
           "textposition": "auto",
           "x": [
            1,
            2,
            3,
            4,
            5,
            6,
            7,
            8,
            9,
            10,
            11,
            12,
            13,
            14,
            15,
            16,
            17,
            18,
            19,
            20,
            21,
            22,
            23,
            24,
            25,
            26,
            27,
            28,
            29,
            30
           ],
           "xaxis": "x",
           "y": [
            0,
            14,
            12,
            25,
            25,
            26,
            21,
            27,
            13,
            26,
            35,
            15,
            25,
            24,
            26,
            25,
            15,
            16,
            23,
            18,
            11,
            13,
            16,
            5,
            11,
            4,
            1,
            0,
            2,
            2
           ],
           "yaxis": "y",
           "type": "bar"
          }
         ],
         "name": "1991"
        },
        {
         "data": [
          {
           "alignmentgroup": "True",
           "hovertemplate": "year=1992<br>week=%{x}<br>count=%{y}<extra></extra>",
           "legendgroup": "",
           "marker": {
            "color": "#636efa",
            "pattern": {
             "shape": ""
            }
           },
           "name": "",
           "offsetgroup": "",
           "orientation": "v",
           "showlegend": false,
           "textposition": "auto",
           "x": [
            1,
            2,
            3,
            4,
            5,
            6,
            7,
            8,
            9,
            10,
            11,
            12,
            13,
            14,
            15,
            16,
            17,
            18,
            19,
            20,
            21,
            22,
            23,
            24,
            25,
            26,
            27,
            28,
            29,
            30,
            31,
            32,
            33,
            34,
            35,
            36,
            37,
            38,
            39,
            40,
            41
           ],
           "xaxis": "x",
           "y": [
            13,
            20,
            19,
            15,
            15,
            18,
            19,
            25,
            14,
            11,
            22,
            12,
            20,
            15,
            17,
            10,
            16,
            15,
            13,
            105,
            8,
            5,
            1,
            4,
            4,
            5,
            2,
            3,
            0,
            2,
            0,
            0,
            1,
            0,
            0,
            0,
            1,
            0,
            0,
            0,
            2
           ],
           "yaxis": "y",
           "type": "bar"
          }
         ],
         "name": "1992"
        },
        {
         "data": [
          {
           "alignmentgroup": "True",
           "hovertemplate": "year=1993<br>week=%{x}<br>count=%{y}<extra></extra>",
           "legendgroup": "",
           "marker": {
            "color": "#636efa",
            "pattern": {
             "shape": ""
            }
           },
           "name": "",
           "offsetgroup": "",
           "orientation": "v",
           "showlegend": false,
           "textposition": "auto",
           "x": [
            1,
            2,
            3,
            4,
            5,
            6,
            7,
            8,
            9,
            10,
            11,
            12,
            13,
            14,
            15,
            16,
            17,
            18,
            19,
            20,
            21,
            22,
            23,
            24,
            25,
            26,
            27,
            28,
            29,
            30,
            31,
            32,
            33,
            34,
            35,
            36,
            37,
            38,
            39,
            40
           ],
           "xaxis": "x",
           "y": [
            8,
            22,
            19,
            17,
            18,
            9,
            11,
            18,
            19,
            23,
            27,
            24,
            10,
            9,
            15,
            13,
            21,
            7,
            10,
            69,
            4,
            11,
            10,
            7,
            8,
            6,
            5,
            4,
            3,
            4,
            2,
            1,
            1,
            0,
            1,
            0,
            0,
            1,
            1,
            1
           ],
           "yaxis": "y",
           "type": "bar"
          }
         ],
         "name": "1993"
        },
        {
         "data": [
          {
           "alignmentgroup": "True",
           "hovertemplate": "year=1994<br>week=%{x}<br>count=%{y}<extra></extra>",
           "legendgroup": "",
           "marker": {
            "color": "#636efa",
            "pattern": {
             "shape": ""
            }
           },
           "name": "",
           "offsetgroup": "",
           "orientation": "v",
           "showlegend": false,
           "textposition": "auto",
           "x": [
            1,
            2,
            3,
            4,
            5,
            6,
            7,
            8,
            9,
            10,
            11,
            12,
            13,
            14,
            15,
            16,
            17,
            18,
            19,
            20,
            21,
            22,
            23,
            24,
            25,
            26,
            27,
            28,
            29,
            30,
            31,
            32,
            33,
            34,
            35,
            36,
            37,
            38,
            39,
            40,
            41,
            42,
            43,
            44,
            45
           ],
           "xaxis": "x",
           "y": [
            5,
            14,
            19,
            15,
            16,
            23,
            17,
            15,
            13,
            21,
            16,
            13,
            15,
            20,
            15,
            16,
            11,
            10,
            14,
            70,
            11,
            9,
            8,
            6,
            5,
            8,
            4,
            3,
            5,
            3,
            3,
            2,
            1,
            1,
            1,
            1,
            0,
            0,
            0,
            0,
            1,
            0,
            0,
            1,
            1
           ],
           "yaxis": "y",
           "type": "bar"
          }
         ],
         "name": "1994"
        },
        {
         "data": [
          {
           "alignmentgroup": "True",
           "hovertemplate": "year=1995<br>week=%{x}<br>count=%{y}<extra></extra>",
           "legendgroup": "",
           "marker": {
            "color": "#636efa",
            "pattern": {
             "shape": ""
            }
           },
           "name": "",
           "offsetgroup": "",
           "orientation": "v",
           "showlegend": false,
           "textposition": "auto",
           "x": [
            1,
            2,
            3,
            4,
            5,
            6,
            7,
            8,
            9,
            10,
            11,
            12,
            13,
            14,
            15,
            16,
            17,
            18,
            19,
            20,
            21,
            22,
            23,
            24,
            25,
            26,
            27,
            28,
            29,
            30,
            31,
            32,
            33,
            34,
            35,
            36,
            37,
            38,
            39,
            40,
            41,
            42,
            43,
            44,
            45
           ],
           "xaxis": "x",
           "y": [
            10,
            18,
            13,
            15,
            14,
            10,
            23,
            15,
            24,
            20,
            18,
            14,
            15,
            16,
            16,
            12,
            10,
            18,
            9,
            65,
            7,
            8,
            5,
            2,
            4,
            4,
            9,
            3,
            5,
            7,
            2,
            3,
            2,
            2,
            2,
            1,
            0,
            2,
            0,
            1,
            1,
            1,
            0,
            2,
            2
           ],
           "yaxis": "y",
           "type": "bar"
          }
         ],
         "name": "1995"
        },
        {
         "data": [
          {
           "alignmentgroup": "True",
           "hovertemplate": "year=1996<br>week=%{x}<br>count=%{y}<extra></extra>",
           "legendgroup": "",
           "marker": {
            "color": "#636efa",
            "pattern": {
             "shape": ""
            }
           },
           "name": "",
           "offsetgroup": "",
           "orientation": "v",
           "showlegend": false,
           "textposition": "auto",
           "x": [
            1,
            2,
            3,
            4,
            5,
            6,
            7,
            8,
            9,
            10,
            11,
            12,
            13,
            14,
            15,
            16,
            17,
            18,
            19,
            20,
            21,
            22,
            23,
            24,
            25,
            26,
            27,
            28,
            29,
            30,
            31,
            32,
            33,
            34,
            35,
            36,
            37,
            38,
            39,
            40,
            41,
            42,
            43,
            44,
            45,
            46,
            47,
            48,
            49,
            50,
            51,
            52,
            53,
            54,
            55
           ],
           "xaxis": "x",
           "y": [
            6,
            11,
            15,
            13,
            21,
            6,
            14,
            21,
            12,
            15,
            13,
            15,
            16,
            19,
            14,
            9,
            7,
            15,
            9,
            95,
            4,
            4,
            3,
            3,
            1,
            5,
            1,
            4,
            2,
            3,
            1,
            4,
            4,
            3,
            0,
            4,
            0,
            3,
            3,
            1,
            0,
            1,
            0,
            1,
            0,
            1,
            1,
            0,
            1,
            0,
            0,
            0,
            0,
            1,
            1
           ],
           "yaxis": "y",
           "type": "bar"
          }
         ],
         "name": "1996"
        },
        {
         "data": [
          {
           "alignmentgroup": "True",
           "hovertemplate": "year=1997<br>week=%{x}<br>count=%{y}<extra></extra>",
           "legendgroup": "",
           "marker": {
            "color": "#636efa",
            "pattern": {
             "shape": ""
            }
           },
           "name": "",
           "offsetgroup": "",
           "orientation": "v",
           "showlegend": false,
           "textposition": "auto",
           "x": [
            1,
            2,
            3,
            4,
            5,
            6,
            7,
            8,
            9,
            10,
            11,
            12,
            13,
            14,
            15,
            16,
            17,
            18,
            19,
            20,
            21,
            22,
            23,
            24,
            25,
            26,
            27,
            28,
            29,
            30,
            31,
            32,
            33,
            34,
            35,
            36,
            37,
            38,
            39,
            40,
            41,
            42,
            43,
            44,
            45,
            46,
            47,
            48,
            49,
            50,
            51,
            52,
            53,
            54,
            55,
            56,
            57,
            58,
            59,
            60
           ],
           "xaxis": "x",
           "y": [
            5,
            13,
            24,
            20,
            17,
            10,
            11,
            16,
            18,
            15,
            16,
            15,
            10,
            14,
            20,
            12,
            18,
            17,
            19,
            69,
            4,
            5,
            4,
            2,
            7,
            4,
            3,
            4,
            3,
            5,
            2,
            1,
            2,
            2,
            2,
            0,
            0,
            1,
            1,
            2,
            2,
            2,
            1,
            0,
            0,
            0,
            0,
            1,
            0,
            0,
            0,
            0,
            0,
            0,
            1,
            0,
            1,
            0,
            0,
            1
           ],
           "yaxis": "y",
           "type": "bar"
          }
         ],
         "name": "1997"
        },
        {
         "data": [
          {
           "alignmentgroup": "True",
           "hovertemplate": "year=1998<br>week=%{x}<br>count=%{y}<extra></extra>",
           "legendgroup": "",
           "marker": {
            "color": "#636efa",
            "pattern": {
             "shape": ""
            }
           },
           "name": "",
           "offsetgroup": "",
           "orientation": "v",
           "showlegend": false,
           "textposition": "auto",
           "x": [
            1,
            2,
            3,
            4,
            5,
            6,
            7,
            8,
            9,
            10,
            11,
            12,
            13,
            14,
            15,
            16,
            17,
            18,
            19,
            20,
            21,
            22,
            23,
            24,
            25,
            26,
            27,
            28,
            29,
            30,
            31,
            32,
            33,
            34,
            35,
            36,
            37,
            38,
            39,
            40,
            41,
            42,
            43,
            44,
            45,
            46,
            47,
            48,
            49,
            50,
            51,
            52,
            53,
            54,
            55,
            56,
            57,
            58,
            59,
            60,
            61,
            62,
            63,
            64,
            65,
            66,
            67,
            68,
            69
           ],
           "xaxis": "x",
           "y": [
            13,
            18,
            12,
            63,
            16,
            14,
            18,
            10,
            10,
            17,
            12,
            14,
            23,
            14,
            12,
            19,
            8,
            10,
            17,
            79,
            4,
            4,
            4,
            9,
            2,
            2,
            4,
            4,
            0,
            1,
            4,
            2,
            2,
            0,
            1,
            1,
            0,
            0,
            0,
            0,
            2,
            2,
            2,
            0,
            0,
            2,
            1,
            0,
            0,
            0,
            0,
            2,
            0,
            0,
            0,
            1,
            0,
            0,
            0,
            0,
            0,
            0,
            0,
            0,
            1,
            0,
            0,
            0,
            1
           ],
           "yaxis": "y",
           "type": "bar"
          }
         ],
         "name": "1998"
        },
        {
         "data": [
          {
           "alignmentgroup": "True",
           "hovertemplate": "year=1999<br>week=%{x}<br>count=%{y}<extra></extra>",
           "legendgroup": "",
           "marker": {
            "color": "#636efa",
            "pattern": {
             "shape": ""
            }
           },
           "name": "",
           "offsetgroup": "",
           "orientation": "v",
           "showlegend": false,
           "textposition": "auto",
           "x": [
            1,
            2,
            3,
            4,
            5,
            6,
            7,
            8,
            9,
            10,
            11,
            12,
            13,
            14,
            15,
            16,
            17,
            18,
            19,
            20,
            21,
            22,
            23,
            24,
            25,
            26,
            27,
            28,
            29,
            30,
            31,
            32,
            33,
            34,
            35,
            36,
            37,
            38,
            39,
            40,
            41,
            42,
            43,
            44,
            45,
            46,
            47,
            48,
            49,
            50,
            51,
            52,
            53
           ],
           "xaxis": "x",
           "y": [
            7,
            11,
            12,
            17,
            16,
            18,
            10,
            13,
            15,
            30,
            15,
            19,
            14,
            23,
            12,
            17,
            20,
            11,
            11,
            70,
            8,
            6,
            2,
            2,
            7,
            2,
            2,
            9,
            2,
            2,
            3,
            2,
            2,
            1,
            2,
            0,
            1,
            0,
            0,
            1,
            0,
            0,
            0,
            0,
            0,
            0,
            0,
            1,
            0,
            0,
            0,
            0,
            1
           ],
           "yaxis": "y",
           "type": "bar"
          }
         ],
         "name": "1999"
        },
        {
         "data": [
          {
           "alignmentgroup": "True",
           "hovertemplate": "year=2000<br>week=%{x}<br>count=%{y}<extra></extra>",
           "legendgroup": "",
           "marker": {
            "color": "#636efa",
            "pattern": {
             "shape": ""
            }
           },
           "name": "",
           "offsetgroup": "",
           "orientation": "v",
           "showlegend": false,
           "textposition": "auto",
           "x": [
            1,
            2,
            3,
            4,
            5,
            6,
            7,
            8,
            9,
            10,
            11,
            12,
            13,
            14,
            15,
            16,
            17,
            18,
            19,
            20,
            21,
            22,
            23,
            24,
            25,
            26,
            27,
            28,
            29,
            30,
            31,
            32,
            33,
            34,
            35,
            36,
            37,
            38,
            39,
            40,
            41,
            42,
            43,
            44,
            45,
            46,
            47,
            48,
            49,
            50,
            51,
            52,
            53,
            54,
            55,
            56,
            57,
            58
           ],
           "xaxis": "x",
           "y": [
            12,
            13,
            14,
            15,
            19,
            15,
            13,
            10,
            15,
            9,
            18,
            14,
            16,
            13,
            13,
            10,
            17,
            7,
            15,
            85,
            9,
            6,
            3,
            7,
            3,
            6,
            4,
            3,
            2,
            1,
            1,
            8,
            1,
            3,
            1,
            1,
            2,
            0,
            1,
            1,
            1,
            1,
            0,
            1,
            0,
            0,
            0,
            0,
            0,
            0,
            0,
            0,
            1,
            0,
            1,
            0,
            1,
            1
           ],
           "yaxis": "y",
           "type": "bar"
          }
         ],
         "name": "2000"
        },
        {
         "data": [
          {
           "alignmentgroup": "True",
           "hovertemplate": "year=2001<br>week=%{x}<br>count=%{y}<extra></extra>",
           "legendgroup": "",
           "marker": {
            "color": "#636efa",
            "pattern": {
             "shape": ""
            }
           },
           "name": "",
           "offsetgroup": "",
           "orientation": "v",
           "showlegend": false,
           "textposition": "auto",
           "x": [
            1,
            2,
            3,
            4,
            5,
            6,
            7,
            8,
            9,
            10,
            11,
            12,
            13,
            14,
            15,
            16,
            17,
            18,
            19,
            20,
            21,
            22,
            23,
            24,
            25,
            26,
            27,
            28,
            29,
            30,
            31,
            32,
            33,
            34,
            35,
            36,
            37,
            38,
            39,
            40,
            41,
            42,
            43,
            44,
            45,
            46,
            47,
            48,
            49,
            50,
            51,
            52,
            53,
            54,
            55,
            56
           ],
           "xaxis": "x",
           "y": [
            8,
            11,
            12,
            9,
            10,
            6,
            8,
            9,
            12,
            21,
            11,
            16,
            7,
            19,
            16,
            9,
            13,
            14,
            13,
            90,
            13,
            9,
            6,
            6,
            6,
            3,
            3,
            4,
            5,
            1,
            1,
            2,
            2,
            1,
            0,
            0,
            0,
            1,
            3,
            0,
            0,
            2,
            0,
            0,
            0,
            0,
            2,
            1,
            0,
            0,
            0,
            0,
            1,
            0,
            0,
            1
           ],
           "yaxis": "y",
           "type": "bar"
          }
         ],
         "name": "2001"
        },
        {
         "data": [
          {
           "alignmentgroup": "True",
           "hovertemplate": "year=2002<br>week=%{x}<br>count=%{y}<extra></extra>",
           "legendgroup": "",
           "marker": {
            "color": "#636efa",
            "pattern": {
             "shape": ""
            }
           },
           "name": "",
           "offsetgroup": "",
           "orientation": "v",
           "showlegend": false,
           "textposition": "auto",
           "x": [
            1,
            2,
            3,
            4,
            5,
            6,
            7,
            8,
            9,
            10,
            11,
            12,
            13,
            14,
            15,
            16,
            17,
            18,
            19,
            20,
            21,
            22,
            23,
            24,
            25,
            26,
            27,
            28,
            29,
            30,
            31,
            32,
            33,
            34,
            35,
            36,
            37,
            38,
            39,
            40,
            41,
            42,
            43,
            44,
            45,
            46,
            47,
            48,
            49,
            50,
            51,
            52,
            53,
            54
           ],
           "xaxis": "x",
           "y": [
            9,
            10,
            13,
            15,
            15,
            9,
            13,
            14,
            10,
            5,
            15,
            13,
            12,
            11,
            11,
            9,
            11,
            14,
            16,
            106,
            8,
            4,
            5,
            8,
            5,
            4,
            4,
            2,
            2,
            3,
            4,
            2,
            1,
            2,
            3,
            0,
            0,
            2,
            1,
            0,
            2,
            1,
            0,
            0,
            1,
            1,
            0,
            0,
            1,
            0,
            0,
            0,
            1,
            1
           ],
           "yaxis": "y",
           "type": "bar"
          }
         ],
         "name": "2002"
        },
        {
         "data": [
          {
           "alignmentgroup": "True",
           "hovertemplate": "year=2003<br>week=%{x}<br>count=%{y}<extra></extra>",
           "legendgroup": "",
           "marker": {
            "color": "#636efa",
            "pattern": {
             "shape": ""
            }
           },
           "name": "",
           "offsetgroup": "",
           "orientation": "v",
           "showlegend": false,
           "textposition": "auto",
           "x": [
            1,
            2,
            3,
            4,
            5,
            6,
            7,
            8,
            9,
            10,
            11,
            12,
            13,
            14,
            15,
            16,
            17,
            18,
            19,
            20,
            21,
            22,
            23,
            24,
            25,
            26,
            27,
            28,
            29,
            30,
            31,
            32,
            33,
            34,
            35,
            36,
            37,
            38,
            39,
            40,
            41,
            42,
            43,
            44,
            45
           ],
           "xaxis": "x",
           "y": [
            8,
            11,
            14,
            11,
            17,
            13,
            9,
            18,
            15,
            19,
            14,
            9,
            14,
            12,
            11,
            8,
            11,
            9,
            14,
            109,
            5,
            7,
            8,
            2,
            4,
            3,
            5,
            1,
            4,
            3,
            2,
            2,
            1,
            2,
            2,
            2,
            1,
            0,
            1,
            0,
            1,
            1,
            0,
            0,
            1
           ],
           "yaxis": "y",
           "type": "bar"
          }
         ],
         "name": "2003"
        },
        {
         "data": [
          {
           "alignmentgroup": "True",
           "hovertemplate": "year=2004<br>week=%{x}<br>count=%{y}<extra></extra>",
           "legendgroup": "",
           "marker": {
            "color": "#636efa",
            "pattern": {
             "shape": ""
            }
           },
           "name": "",
           "offsetgroup": "",
           "orientation": "v",
           "showlegend": false,
           "textposition": "auto",
           "x": [
            1,
            2,
            3,
            4,
            5,
            6,
            7,
            8,
            9,
            10,
            11,
            12,
            13,
            14,
            15,
            16,
            17,
            18,
            19,
            20,
            21,
            22,
            23,
            24,
            25,
            26,
            27,
            28,
            29,
            30,
            31,
            32,
            33,
            34,
            35,
            36,
            37,
            38,
            39,
            40,
            41,
            42,
            43,
            44,
            45,
            46,
            47,
            48,
            49,
            50,
            51,
            52,
            53,
            54
           ],
           "xaxis": "x",
           "y": [
            8,
            9,
            12,
            14,
            21,
            12,
            11,
            9,
            11,
            15,
            10,
            15,
            14,
            16,
            13,
            16,
            14,
            22,
            8,
            78,
            9,
            7,
            4,
            2,
            5,
            5,
            5,
            6,
            2,
            6,
            0,
            4,
            1,
            0,
            1,
            1,
            0,
            1,
            2,
            1,
            1,
            0,
            2,
            0,
            2,
            0,
            0,
            0,
            0,
            1,
            1,
            0,
            0,
            1
           ],
           "yaxis": "y",
           "type": "bar"
          }
         ],
         "name": "2004"
        },
        {
         "data": [
          {
           "alignmentgroup": "True",
           "hovertemplate": "year=2005<br>week=%{x}<br>count=%{y}<extra></extra>",
           "legendgroup": "",
           "marker": {
            "color": "#636efa",
            "pattern": {
             "shape": ""
            }
           },
           "name": "",
           "offsetgroup": "",
           "orientation": "v",
           "showlegend": false,
           "textposition": "auto",
           "x": [
            1,
            2,
            3,
            4,
            5,
            6,
            7,
            8,
            9,
            10,
            11,
            12,
            13,
            14,
            15,
            16,
            17,
            18,
            19,
            20,
            21,
            22,
            23,
            24,
            25,
            26,
            27,
            28,
            29,
            30,
            31,
            32,
            33,
            34,
            35,
            36,
            37,
            38,
            39,
            40,
            41,
            42,
            43,
            44,
            45,
            46
           ],
           "xaxis": "x",
           "y": [
            27,
            19,
            11,
            17,
            18,
            11,
            20,
            15,
            16,
            10,
            21,
            13,
            15,
            14,
            9,
            13,
            11,
            10,
            17,
            83,
            8,
            8,
            9,
            3,
            3,
            3,
            7,
            4,
            3,
            1,
            4,
            3,
            0,
            2,
            1,
            2,
            0,
            5,
            1,
            0,
            1,
            0,
            0,
            0,
            0,
            3
           ],
           "yaxis": "y",
           "type": "bar"
          }
         ],
         "name": "2005"
        },
        {
         "data": [
          {
           "alignmentgroup": "True",
           "hovertemplate": "year=2006<br>week=%{x}<br>count=%{y}<extra></extra>",
           "legendgroup": "",
           "marker": {
            "color": "#636efa",
            "pattern": {
             "shape": ""
            }
           },
           "name": "",
           "offsetgroup": "",
           "orientation": "v",
           "showlegend": false,
           "textposition": "auto",
           "x": [
            1,
            2,
            3,
            4,
            5,
            6,
            7,
            8,
            9,
            10,
            11,
            12,
            13,
            14,
            15,
            16,
            17,
            18,
            19,
            20,
            21,
            22,
            23,
            24,
            25,
            26,
            27,
            28,
            29,
            30,
            31,
            32,
            33,
            34,
            35,
            36,
            37,
            38,
            39,
            40,
            41,
            42,
            43,
            44,
            45,
            46,
            47,
            48,
            49,
            50,
            51,
            52,
            53,
            54,
            55,
            56,
            57,
            58,
            59,
            60,
            61,
            62
           ],
           "xaxis": "x",
           "y": [
            46,
            33,
            26,
            17,
            19,
            18,
            17,
            6,
            8,
            8,
            15,
            16,
            9,
            17,
            14,
            19,
            10,
            14,
            18,
            64,
            7,
            5,
            4,
            5,
            5,
            8,
            2,
            9,
            2,
            2,
            6,
            1,
            2,
            1,
            0,
            2,
            2,
            2,
            3,
            1,
            0,
            3,
            2,
            0,
            1,
            1,
            0,
            0,
            0,
            0,
            0,
            0,
            0,
            0,
            0,
            0,
            0,
            0,
            0,
            0,
            0,
            1
           ],
           "yaxis": "y",
           "type": "bar"
          }
         ],
         "name": "2006"
        },
        {
         "data": [
          {
           "alignmentgroup": "True",
           "hovertemplate": "year=2007<br>week=%{x}<br>count=%{y}<extra></extra>",
           "legendgroup": "",
           "marker": {
            "color": "#636efa",
            "pattern": {
             "shape": ""
            }
           },
           "name": "",
           "offsetgroup": "",
           "orientation": "v",
           "showlegend": false,
           "textposition": "auto",
           "x": [
            1,
            2,
            3,
            4,
            5,
            6,
            7,
            8,
            9,
            10,
            11,
            12,
            13,
            14,
            15,
            16,
            17,
            18,
            19,
            20,
            21,
            22,
            23,
            24,
            25,
            26,
            27,
            28,
            29,
            30,
            31,
            32,
            33,
            34,
            35,
            36,
            37,
            38,
            39,
            40,
            41,
            42,
            43,
            44,
            45,
            46,
            47,
            48,
            49,
            50,
            51,
            52,
            53,
            54,
            55,
            56,
            57,
            58,
            59,
            60,
            61,
            62,
            63,
            64
           ],
           "xaxis": "x",
           "y": [
            43,
            36,
            18,
            18,
            11,
            19,
            12,
            11,
            14,
            10,
            8,
            15,
            14,
            10,
            12,
            17,
            13,
            12,
            12,
            75,
            9,
            12,
            10,
            7,
            4,
            6,
            2,
            4,
            5,
            6,
            0,
            0,
            3,
            0,
            3,
            2,
            1,
            0,
            0,
            2,
            0,
            0,
            1,
            0,
            2,
            0,
            0,
            0,
            0,
            0,
            1,
            0,
            0,
            0,
            0,
            0,
            0,
            1,
            0,
            0,
            0,
            0,
            0,
            1
           ],
           "yaxis": "y",
           "type": "bar"
          }
         ],
         "name": "2007"
        },
        {
         "data": [
          {
           "alignmentgroup": "True",
           "hovertemplate": "year=2008<br>week=%{x}<br>count=%{y}<extra></extra>",
           "legendgroup": "",
           "marker": {
            "color": "#636efa",
            "pattern": {
             "shape": ""
            }
           },
           "name": "",
           "offsetgroup": "",
           "orientation": "v",
           "showlegend": false,
           "textposition": "auto",
           "x": [
            1,
            2,
            3,
            4,
            5,
            6,
            7,
            8,
            9,
            10,
            11,
            12,
            13,
            14,
            15,
            16,
            17,
            18,
            19,
            20,
            21,
            22,
            23,
            24,
            25,
            26,
            27,
            28,
            29,
            30,
            31,
            32,
            33,
            34,
            35,
            36,
            37,
            38,
            39,
            40,
            41,
            42,
            43,
            44,
            45,
            46,
            47,
            48,
            49,
            50
           ],
           "xaxis": "x",
           "y": [
            91,
            32,
            27,
            15,
            15,
            7,
            11,
            12,
            16,
            14,
            17,
            11,
            12,
            13,
            15,
            8,
            23,
            11,
            11,
            72,
            8,
            6,
            7,
            5,
            7,
            5,
            7,
            4,
            2,
            5,
            2,
            2,
            1,
            0,
            4,
            2,
            0,
            1,
            2,
            1,
            1,
            0,
            0,
            0,
            0,
            0,
            2,
            2,
            1,
            1
           ],
           "yaxis": "y",
           "type": "bar"
          }
         ],
         "name": "2008"
        },
        {
         "data": [
          {
           "alignmentgroup": "True",
           "hovertemplate": "year=2009<br>week=%{x}<br>count=%{y}<extra></extra>",
           "legendgroup": "",
           "marker": {
            "color": "#636efa",
            "pattern": {
             "shape": ""
            }
           },
           "name": "",
           "offsetgroup": "",
           "orientation": "v",
           "showlegend": false,
           "textposition": "auto",
           "x": [
            1,
            2,
            3,
            4,
            5,
            6,
            7,
            8,
            9,
            10,
            11,
            12,
            13,
            14,
            15,
            16,
            17,
            18,
            19,
            20,
            21,
            22,
            23,
            24,
            25,
            26,
            27,
            28,
            29,
            30,
            31,
            32,
            33,
            34,
            35,
            36,
            37,
            38,
            39,
            40,
            41,
            42,
            43,
            44,
            45,
            46,
            47,
            48,
            49,
            50,
            51,
            52,
            53,
            54,
            55,
            56,
            57,
            58,
            59,
            60,
            61,
            62,
            63,
            64,
            65,
            66,
            67,
            68,
            69,
            70,
            71,
            72,
            73,
            74,
            75,
            76
           ],
           "xaxis": "x",
           "y": [
            110,
            43,
            28,
            12,
            11,
            17,
            16,
            16,
            19,
            19,
            18,
            9,
            11,
            8,
            16,
            13,
            13,
            20,
            10,
            63,
            7,
            9,
            8,
            8,
            3,
            4,
            6,
            3,
            1,
            2,
            6,
            0,
            1,
            2,
            2,
            1,
            2,
            0,
            3,
            1,
            1,
            0,
            0,
            0,
            0,
            1,
            0,
            0,
            2,
            0,
            1,
            0,
            0,
            0,
            0,
            0,
            0,
            0,
            0,
            0,
            0,
            0,
            0,
            0,
            0,
            0,
            0,
            0,
            0,
            0,
            0,
            0,
            0,
            0,
            0,
            1
           ],
           "yaxis": "y",
           "type": "bar"
          }
         ],
         "name": "2009"
        },
        {
         "data": [
          {
           "alignmentgroup": "True",
           "hovertemplate": "year=2010<br>week=%{x}<br>count=%{y}<extra></extra>",
           "legendgroup": "",
           "marker": {
            "color": "#636efa",
            "pattern": {
             "shape": ""
            }
           },
           "name": "",
           "offsetgroup": "",
           "orientation": "v",
           "showlegend": false,
           "textposition": "auto",
           "x": [
            1,
            2,
            3,
            4,
            5,
            6,
            7,
            8,
            9,
            10,
            11,
            12,
            13,
            14,
            15,
            16,
            17,
            18,
            19,
            20,
            21,
            22,
            23,
            24,
            25,
            26,
            27,
            28,
            29,
            30,
            31,
            32,
            33,
            34,
            35,
            36,
            37,
            38,
            39,
            40,
            41,
            42,
            43,
            44,
            45,
            46,
            47,
            48,
            49,
            50,
            51,
            52,
            53,
            54,
            55,
            56,
            57,
            58,
            59,
            60
           ],
           "xaxis": "x",
           "y": [
            186,
            36,
            23,
            13,
            18,
            14,
            11,
            8,
            5,
            11,
            15,
            8,
            18,
            10,
            14,
            14,
            8,
            21,
            12,
            70,
            10,
            4,
            3,
            5,
            7,
            3,
            5,
            6,
            5,
            4,
            4,
            1,
            2,
            4,
            0,
            0,
            0,
            1,
            0,
            2,
            0,
            0,
            1,
            1,
            0,
            0,
            0,
            0,
            0,
            1,
            0,
            0,
            0,
            1,
            0,
            1,
            1,
            0,
            0,
            1
           ],
           "yaxis": "y",
           "type": "bar"
          }
         ],
         "name": "2010"
        },
        {
         "data": [
          {
           "alignmentgroup": "True",
           "hovertemplate": "year=2011<br>week=%{x}<br>count=%{y}<extra></extra>",
           "legendgroup": "",
           "marker": {
            "color": "#636efa",
            "pattern": {
             "shape": ""
            }
           },
           "name": "",
           "offsetgroup": "",
           "orientation": "v",
           "showlegend": false,
           "textposition": "auto",
           "x": [
            1,
            2,
            3,
            4,
            5,
            6,
            7,
            8,
            9,
            10,
            11,
            12,
            13,
            14,
            15,
            16,
            17,
            18,
            19,
            20,
            21,
            22,
            23,
            24,
            25,
            26,
            27,
            28,
            29,
            30,
            31,
            32,
            33,
            34,
            35,
            36,
            37,
            38,
            39,
            40,
            41,
            42,
            43,
            44,
            45,
            46,
            47,
            48,
            49,
            50,
            51,
            52,
            53
           ],
           "xaxis": "x",
           "y": [
            185,
            52,
            22,
            16,
            13,
            14,
            10,
            10,
            13,
            13,
            11,
            15,
            8,
            10,
            13,
            9,
            7,
            22,
            14,
            68,
            9,
            6,
            8,
            10,
            4,
            6,
            6,
            2,
            4,
            4,
            4,
            1,
            5,
            3,
            1,
            3,
            0,
            2,
            2,
            0,
            0,
            0,
            0,
            0,
            0,
            0,
            1,
            2,
            0,
            1,
            0,
            0,
            1
           ],
           "yaxis": "y",
           "type": "bar"
          }
         ],
         "name": "2011"
        },
        {
         "data": [
          {
           "alignmentgroup": "True",
           "hovertemplate": "year=2012<br>week=%{x}<br>count=%{y}<extra></extra>",
           "legendgroup": "",
           "marker": {
            "color": "#636efa",
            "pattern": {
             "shape": ""
            }
           },
           "name": "",
           "offsetgroup": "",
           "orientation": "v",
           "showlegend": false,
           "textposition": "auto",
           "x": [
            1,
            2,
            3,
            4,
            5,
            6,
            7,
            8,
            9,
            10,
            11,
            12,
            13,
            14,
            15,
            16,
            17,
            18,
            19,
            20,
            21,
            22,
            23,
            24,
            25,
            26,
            27,
            28,
            29,
            30,
            31,
            32,
            33,
            34,
            35,
            36,
            37,
            38,
            39,
            40,
            41,
            42,
            43,
            44,
            45,
            46,
            47,
            48,
            49,
            50,
            51,
            52,
            53,
            54,
            55,
            56,
            57,
            58,
            59,
            60,
            61,
            62,
            63,
            64,
            65,
            66,
            67,
            68
           ],
           "xaxis": "x",
           "y": [
            106,
            30,
            15,
            12,
            6,
            13,
            10,
            9,
            15,
            10,
            14,
            10,
            7,
            6,
            13,
            6,
            9,
            13,
            11,
            72,
            2,
            11,
            9,
            7,
            7,
            9,
            2,
            3,
            5,
            2,
            2,
            4,
            1,
            3,
            2,
            3,
            4,
            2,
            3,
            1,
            1,
            3,
            3,
            1,
            1,
            0,
            0,
            0,
            1,
            1,
            0,
            1,
            0,
            0,
            0,
            0,
            0,
            0,
            0,
            0,
            0,
            0,
            0,
            0,
            1,
            0,
            0,
            1
           ],
           "yaxis": "y",
           "type": "bar"
          }
         ],
         "name": "2012"
        },
        {
         "data": [
          {
           "alignmentgroup": "True",
           "hovertemplate": "year=2013<br>week=%{x}<br>count=%{y}<extra></extra>",
           "legendgroup": "",
           "marker": {
            "color": "#636efa",
            "pattern": {
             "shape": ""
            }
           },
           "name": "",
           "offsetgroup": "",
           "orientation": "v",
           "showlegend": false,
           "textposition": "auto",
           "x": [
            1,
            2,
            3,
            4,
            5,
            6,
            7,
            8,
            9,
            10,
            11,
            12,
            13,
            14,
            15,
            16,
            17,
            18,
            19,
            20,
            21,
            22,
            23,
            24,
            25,
            26,
            27,
            28,
            29,
            30,
            31,
            32,
            33,
            34,
            35,
            36,
            37,
            38,
            39,
            40,
            41,
            42,
            43,
            44,
            45,
            46,
            47,
            48,
            49,
            50,
            51,
            52,
            53,
            54,
            55,
            56,
            57,
            58,
            59,
            60,
            61,
            62,
            63,
            64,
            65,
            66,
            67,
            68
           ],
           "xaxis": "x",
           "y": [
            98,
            39,
            22,
            9,
            12,
            11,
            8,
            14,
            16,
            9,
            7,
            11,
            14,
            7,
            15,
            15,
            3,
            6,
            8,
            81,
            10,
            10,
            3,
            8,
            4,
            8,
            6,
            3,
            6,
            3,
            1,
            2,
            5,
            1,
            2,
            3,
            0,
            0,
            2,
            1,
            0,
            2,
            0,
            2,
            0,
            1,
            1,
            1,
            1,
            1,
            0,
            0,
            0,
            1,
            0,
            1,
            1,
            0,
            1,
            0,
            0,
            1,
            0,
            0,
            0,
            0,
            1,
            1
           ],
           "yaxis": "y",
           "type": "bar"
          }
         ],
         "name": "2013"
        },
        {
         "data": [
          {
           "alignmentgroup": "True",
           "hovertemplate": "year=2014<br>week=%{x}<br>count=%{y}<extra></extra>",
           "legendgroup": "",
           "marker": {
            "color": "#636efa",
            "pattern": {
             "shape": ""
            }
           },
           "name": "",
           "offsetgroup": "",
           "orientation": "v",
           "showlegend": false,
           "textposition": "auto",
           "x": [
            1,
            2,
            3,
            4,
            5,
            6,
            7,
            8,
            9,
            10,
            11,
            12,
            13,
            14,
            15,
            16,
            17,
            18,
            19,
            20,
            21,
            22,
            23,
            24,
            25,
            26,
            27,
            28,
            29,
            30,
            31,
            32,
            33,
            34,
            35,
            36,
            37,
            38,
            39,
            40,
            41,
            42,
            43,
            44,
            45,
            46,
            47,
            48,
            49,
            50,
            51,
            52,
            53,
            54,
            55,
            56,
            57,
            58,
            59,
            60,
            61,
            62,
            63,
            64,
            65,
            66,
            67,
            68,
            69,
            70,
            71,
            72,
            73,
            74,
            75,
            76,
            77,
            78,
            79,
            80,
            81,
            82,
            83,
            84,
            85,
            86,
            87
           ],
           "xaxis": "x",
           "y": [
            77,
            27,
            31,
            9,
            11,
            13,
            9,
            13,
            11,
            11,
            13,
            11,
            8,
            8,
            9,
            9,
            11,
            17,
            15,
            75,
            10,
            7,
            5,
            3,
            7,
            4,
            4,
            3,
            4,
            1,
            2,
            3,
            4,
            2,
            1,
            4,
            2,
            1,
            2,
            0,
            0,
            1,
            2,
            1,
            0,
            0,
            1,
            1,
            0,
            0,
            0,
            0,
            2,
            0,
            0,
            0,
            1,
            0,
            1,
            0,
            1,
            0,
            0,
            0,
            0,
            0,
            0,
            1,
            0,
            0,
            0,
            0,
            0,
            0,
            0,
            0,
            0,
            0,
            1,
            0,
            0,
            0,
            0,
            0,
            0,
            0,
            1
           ],
           "yaxis": "y",
           "type": "bar"
          }
         ],
         "name": "2014"
        },
        {
         "data": [
          {
           "alignmentgroup": "True",
           "hovertemplate": "year=2015<br>week=%{x}<br>count=%{y}<extra></extra>",
           "legendgroup": "",
           "marker": {
            "color": "#636efa",
            "pattern": {
             "shape": ""
            }
           },
           "name": "",
           "offsetgroup": "",
           "orientation": "v",
           "showlegend": false,
           "textposition": "auto",
           "x": [
            1,
            2,
            3,
            4,
            5,
            6,
            7,
            8,
            9,
            10,
            11,
            12,
            13,
            14,
            15,
            16,
            17,
            18,
            19,
            20,
            21,
            22,
            23,
            24,
            25,
            26,
            27,
            28,
            29,
            30,
            31,
            32,
            33,
            34,
            35,
            36,
            37,
            38,
            39,
            40,
            41,
            42,
            43,
            44,
            45,
            46,
            47,
            48,
            49,
            50,
            51,
            52,
            53,
            54,
            55,
            56,
            57,
            58
           ],
           "xaxis": "x",
           "y": [
            101,
            36,
            24,
            17,
            11,
            15,
            11,
            13,
            9,
            10,
            9,
            12,
            10,
            11,
            12,
            11,
            12,
            15,
            8,
            66,
            5,
            8,
            6,
            4,
            8,
            4,
            4,
            0,
            4,
            5,
            5,
            4,
            1,
            3,
            3,
            4,
            2,
            0,
            1,
            1,
            3,
            2,
            1,
            1,
            0,
            1,
            2,
            0,
            0,
            1,
            0,
            0,
            1,
            1,
            1,
            0,
            0,
            1
           ],
           "yaxis": "y",
           "type": "bar"
          }
         ],
         "name": "2015"
        },
        {
         "data": [
          {
           "alignmentgroup": "True",
           "hovertemplate": "year=2016<br>week=%{x}<br>count=%{y}<extra></extra>",
           "legendgroup": "",
           "marker": {
            "color": "#636efa",
            "pattern": {
             "shape": ""
            }
           },
           "name": "",
           "offsetgroup": "",
           "orientation": "v",
           "showlegend": false,
           "textposition": "auto",
           "x": [
            1,
            2,
            3,
            4,
            5,
            6,
            7,
            8,
            9,
            10,
            11,
            12,
            13,
            14,
            15,
            16,
            17,
            18,
            19,
            20,
            21,
            22,
            23,
            24,
            25,
            26,
            27,
            28,
            29,
            30,
            31,
            32,
            33,
            34,
            35,
            36,
            37,
            38,
            39,
            40,
            41,
            42,
            43,
            44,
            45,
            46,
            47,
            48,
            49,
            50,
            51,
            52,
            53,
            54,
            55,
            56
           ],
           "xaxis": "x",
           "y": [
            108,
            38,
            21,
            12,
            14,
            13,
            11,
            14,
            13,
            15,
            12,
            14,
            9,
            18,
            12,
            14,
            13,
            14,
            14,
            56,
            5,
            6,
            5,
            8,
            4,
            11,
            7,
            2,
            1,
            3,
            3,
            3,
            0,
            5,
            3,
            5,
            2,
            1,
            3,
            2,
            2,
            1,
            0,
            2,
            2,
            1,
            0,
            2,
            0,
            0,
            1,
            4,
            0,
            0,
            0,
            1
           ],
           "yaxis": "y",
           "type": "bar"
          }
         ],
         "name": "2016"
        },
        {
         "data": [
          {
           "alignmentgroup": "True",
           "hovertemplate": "year=2017<br>week=%{x}<br>count=%{y}<extra></extra>",
           "legendgroup": "",
           "marker": {
            "color": "#636efa",
            "pattern": {
             "shape": ""
            }
           },
           "name": "",
           "offsetgroup": "",
           "orientation": "v",
           "showlegend": false,
           "textposition": "auto",
           "x": [
            1,
            2,
            3,
            4,
            5,
            6,
            7,
            8,
            9,
            10,
            11,
            12,
            13,
            14,
            15,
            16,
            17,
            18,
            19,
            20,
            21,
            22,
            23,
            24,
            25,
            26,
            27,
            28,
            29,
            30,
            31,
            32,
            33,
            34,
            35,
            36,
            37,
            38,
            39,
            40,
            41,
            42,
            43,
            44,
            45,
            46,
            47,
            48,
            49,
            50,
            51,
            52
           ],
           "xaxis": "x",
           "y": [
            137,
            62,
            27,
            27,
            12,
            7,
            10,
            13,
            7,
            11,
            12,
            14,
            11,
            16,
            10,
            15,
            9,
            13,
            16,
            42,
            9,
            11,
            9,
            2,
            5,
            5,
            4,
            6,
            3,
            2,
            4,
            1,
            5,
            5,
            1,
            2,
            2,
            0,
            5,
            0,
            2,
            0,
            2,
            1,
            1,
            0,
            0,
            2,
            1,
            1,
            0,
            5
           ],
           "yaxis": "y",
           "type": "bar"
          }
         ],
         "name": "2017"
        },
        {
         "data": [
          {
           "alignmentgroup": "True",
           "hovertemplate": "year=2018<br>week=%{x}<br>count=%{y}<extra></extra>",
           "legendgroup": "",
           "marker": {
            "color": "#636efa",
            "pattern": {
             "shape": ""
            }
           },
           "name": "",
           "offsetgroup": "",
           "orientation": "v",
           "showlegend": false,
           "textposition": "auto",
           "x": [
            1,
            2,
            3,
            4,
            5,
            6,
            7,
            8,
            9,
            10,
            11,
            12,
            13,
            14,
            15,
            16,
            17,
            18,
            19,
            20,
            21,
            22,
            23,
            24,
            25,
            26,
            27,
            28,
            29,
            30,
            31,
            32,
            33,
            34,
            35,
            36,
            37,
            38,
            39,
            40,
            41,
            42,
            43,
            44,
            45,
            46,
            47,
            48,
            49,
            50,
            51,
            52,
            53,
            54,
            55,
            56,
            57,
            58,
            59
           ],
           "xaxis": "x",
           "y": [
            216,
            66,
            48,
            27,
            26,
            22,
            15,
            20,
            14,
            12,
            7,
            16,
            8,
            14,
            10,
            6,
            7,
            11,
            12,
            50,
            11,
            11,
            9,
            6,
            4,
            4,
            4,
            2,
            7,
            3,
            1,
            1,
            1,
            2,
            3,
            3,
            2,
            2,
            1,
            3,
            2,
            2,
            0,
            2,
            1,
            1,
            0,
            1,
            0,
            0,
            0,
            5,
            0,
            1,
            0,
            0,
            1,
            0,
            1
           ],
           "yaxis": "y",
           "type": "bar"
          }
         ],
         "name": "2018"
        },
        {
         "data": [
          {
           "alignmentgroup": "True",
           "hovertemplate": "year=2019<br>week=%{x}<br>count=%{y}<extra></extra>",
           "legendgroup": "",
           "marker": {
            "color": "#636efa",
            "pattern": {
             "shape": ""
            }
           },
           "name": "",
           "offsetgroup": "",
           "orientation": "v",
           "showlegend": false,
           "textposition": "auto",
           "x": [
            1,
            2,
            3,
            4,
            5,
            6,
            7,
            8,
            9,
            10,
            11,
            12,
            13,
            14,
            15,
            16,
            17,
            18,
            19,
            20,
            21,
            22,
            23,
            24,
            25,
            26,
            27,
            28,
            29,
            30,
            31,
            32,
            33,
            34,
            35,
            36,
            37,
            38,
            39,
            40,
            41,
            42,
            43,
            44,
            45,
            46,
            47,
            48,
            49,
            50,
            51,
            52,
            53
           ],
           "xaxis": "x",
           "y": [
            175,
            60,
            40,
            29,
            15,
            24,
            13,
            14,
            12,
            10,
            18,
            10,
            14,
            12,
            10,
            19,
            11,
            6,
            10,
            44,
            7,
            4,
            6,
            1,
            7,
            6,
            9,
            3,
            4,
            1,
            3,
            2,
            3,
            0,
            3,
            1,
            1,
            2,
            0,
            1,
            0,
            1,
            2,
            1,
            2,
            0,
            0,
            3,
            0,
            1,
            2,
            7,
            1
           ],
           "yaxis": "y",
           "type": "bar"
          }
         ],
         "name": "2019"
        },
        {
         "data": [
          {
           "alignmentgroup": "True",
           "hovertemplate": "year=2020<br>week=%{x}<br>count=%{y}<extra></extra>",
           "legendgroup": "",
           "marker": {
            "color": "#636efa",
            "pattern": {
             "shape": ""
            }
           },
           "name": "",
           "offsetgroup": "",
           "orientation": "v",
           "showlegend": false,
           "textposition": "auto",
           "x": [
            1,
            2,
            3,
            4,
            5,
            6,
            7,
            8,
            9,
            10,
            11,
            12,
            13,
            14,
            15,
            16,
            17,
            18,
            19,
            20,
            21,
            22,
            23,
            24,
            25,
            26,
            27,
            28,
            29,
            30,
            31,
            32,
            33,
            34,
            35,
            36,
            37,
            38,
            39,
            40,
            41,
            42,
            43,
            44,
            45,
            46,
            47,
            48,
            49,
            50,
            51,
            52,
            53,
            54,
            55,
            56,
            57,
            58,
            59,
            60,
            61
           ],
           "xaxis": "x",
           "y": [
            329,
            97,
            29,
            23,
            14,
            16,
            21,
            13,
            11,
            15,
            15,
            9,
            10,
            8,
            15,
            9,
            8,
            14,
            13,
            42,
            10,
            7,
            4,
            3,
            8,
            7,
            3,
            4,
            1,
            3,
            2,
            3,
            2,
            2,
            2,
            3,
            4,
            4,
            2,
            0,
            1,
            3,
            0,
            2,
            2,
            2,
            1,
            0,
            1,
            1,
            1,
            2,
            0,
            1,
            1,
            0,
            0,
            0,
            0,
            0,
            1
           ],
           "yaxis": "y",
           "type": "bar"
          }
         ],
         "name": "2020"
        },
        {
         "data": [
          {
           "alignmentgroup": "True",
           "hovertemplate": "year=2021<br>week=%{x}<br>count=%{y}<extra></extra>",
           "legendgroup": "",
           "marker": {
            "color": "#636efa",
            "pattern": {
             "shape": ""
            }
           },
           "name": "",
           "offsetgroup": "",
           "orientation": "v",
           "showlegend": false,
           "textposition": "auto",
           "x": [
            1,
            2,
            3,
            4,
            5,
            6,
            7,
            8,
            9,
            10,
            11,
            12,
            13,
            14,
            15,
            16,
            17,
            18,
            19,
            20,
            21,
            22,
            23,
            24,
            25,
            26,
            27,
            28,
            29,
            30,
            31,
            32,
            33,
            34,
            35,
            36,
            37,
            38,
            39,
            40,
            41,
            42,
            43,
            44,
            45,
            46,
            47,
            48,
            49,
            50,
            51,
            52,
            53,
            54,
            55,
            56,
            57,
            58,
            59,
            60,
            61,
            62,
            63,
            64,
            65,
            66,
            67,
            68,
            69,
            70,
            71,
            72,
            73,
            74,
            75,
            76,
            77,
            78,
            79,
            80,
            81,
            82,
            83,
            84,
            85,
            86,
            87,
            88,
            89,
            90
           ],
           "xaxis": "x",
           "y": [
            238,
            63,
            35,
            30,
            24,
            11,
            16,
            16,
            12,
            6,
            9,
            14,
            14,
            14,
            11,
            8,
            14,
            8,
            5,
            43,
            5,
            10,
            8,
            6,
            6,
            2,
            5,
            4,
            7,
            2,
            2,
            2,
            0,
            3,
            1,
            1,
            0,
            2,
            2,
            1,
            1,
            2,
            1,
            1,
            1,
            1,
            0,
            0,
            0,
            0,
            1,
            4,
            0,
            0,
            0,
            1,
            0,
            0,
            0,
            0,
            0,
            1,
            0,
            0,
            0,
            0,
            0,
            0,
            0,
            0,
            0,
            0,
            0,
            0,
            0,
            0,
            0,
            0,
            0,
            0,
            0,
            0,
            0,
            0,
            0,
            0,
            0,
            0,
            0,
            1
           ],
           "yaxis": "y",
           "type": "bar"
          }
         ],
         "name": "2021"
        }
       ],
       "config": {
        "plotlyServerURL": "https://plot.ly"
       }
      },
      "text/html": "<div>                            <div id=\"29c800da-c4f0-46a8-84d8-32c3a6e2e5a3\" class=\"plotly-graph-div\" style=\"height:525px; width:100%;\"></div>            <script type=\"text/javascript\">                require([\"plotly\"], function(Plotly) {                    window.PLOTLYENV=window.PLOTLYENV || {};                                    if (document.getElementById(\"29c800da-c4f0-46a8-84d8-32c3a6e2e5a3\")) {                    Plotly.newPlot(                        \"29c800da-c4f0-46a8-84d8-32c3a6e2e5a3\",                        [{\"alignmentgroup\":\"True\",\"hovertemplate\":\"year=1958<br>week=%{x}<br>count=%{y}<extra></extra>\",\"legendgroup\":\"\",\"marker\":{\"color\":\"#636efa\",\"pattern\":{\"shape\":\"\"}},\"name\":\"\",\"offsetgroup\":\"\",\"orientation\":\"v\",\"showlegend\":false,\"textposition\":\"auto\",\"x\":[1,2,3,4,5,6,7,8,9,10,11,12,13,14,15,16,17,18,19,20,21,22],\"xaxis\":\"x\",\"y\":[64,47,28,27,23,16,21,15,19,23,14,9,10,10,6,9,4,2,2,1,1,1],\"yaxis\":\"y\",\"type\":\"bar\"}],                        {\"template\":{\"data\":{\"histogram2dcontour\":[{\"type\":\"histogram2dcontour\",\"colorbar\":{\"outlinewidth\":0,\"ticks\":\"\"},\"colorscale\":[[0.0,\"#0d0887\"],[0.1111111111111111,\"#46039f\"],[0.2222222222222222,\"#7201a8\"],[0.3333333333333333,\"#9c179e\"],[0.4444444444444444,\"#bd3786\"],[0.5555555555555556,\"#d8576b\"],[0.6666666666666666,\"#ed7953\"],[0.7777777777777778,\"#fb9f3a\"],[0.8888888888888888,\"#fdca26\"],[1.0,\"#f0f921\"]]}],\"choropleth\":[{\"type\":\"choropleth\",\"colorbar\":{\"outlinewidth\":0,\"ticks\":\"\"}}],\"histogram2d\":[{\"type\":\"histogram2d\",\"colorbar\":{\"outlinewidth\":0,\"ticks\":\"\"},\"colorscale\":[[0.0,\"#0d0887\"],[0.1111111111111111,\"#46039f\"],[0.2222222222222222,\"#7201a8\"],[0.3333333333333333,\"#9c179e\"],[0.4444444444444444,\"#bd3786\"],[0.5555555555555556,\"#d8576b\"],[0.6666666666666666,\"#ed7953\"],[0.7777777777777778,\"#fb9f3a\"],[0.8888888888888888,\"#fdca26\"],[1.0,\"#f0f921\"]]}],\"heatmap\":[{\"type\":\"heatmap\",\"colorbar\":{\"outlinewidth\":0,\"ticks\":\"\"},\"colorscale\":[[0.0,\"#0d0887\"],[0.1111111111111111,\"#46039f\"],[0.2222222222222222,\"#7201a8\"],[0.3333333333333333,\"#9c179e\"],[0.4444444444444444,\"#bd3786\"],[0.5555555555555556,\"#d8576b\"],[0.6666666666666666,\"#ed7953\"],[0.7777777777777778,\"#fb9f3a\"],[0.8888888888888888,\"#fdca26\"],[1.0,\"#f0f921\"]]}],\"heatmapgl\":[{\"type\":\"heatmapgl\",\"colorbar\":{\"outlinewidth\":0,\"ticks\":\"\"},\"colorscale\":[[0.0,\"#0d0887\"],[0.1111111111111111,\"#46039f\"],[0.2222222222222222,\"#7201a8\"],[0.3333333333333333,\"#9c179e\"],[0.4444444444444444,\"#bd3786\"],[0.5555555555555556,\"#d8576b\"],[0.6666666666666666,\"#ed7953\"],[0.7777777777777778,\"#fb9f3a\"],[0.8888888888888888,\"#fdca26\"],[1.0,\"#f0f921\"]]}],\"contourcarpet\":[{\"type\":\"contourcarpet\",\"colorbar\":{\"outlinewidth\":0,\"ticks\":\"\"}}],\"contour\":[{\"type\":\"contour\",\"colorbar\":{\"outlinewidth\":0,\"ticks\":\"\"},\"colorscale\":[[0.0,\"#0d0887\"],[0.1111111111111111,\"#46039f\"],[0.2222222222222222,\"#7201a8\"],[0.3333333333333333,\"#9c179e\"],[0.4444444444444444,\"#bd3786\"],[0.5555555555555556,\"#d8576b\"],[0.6666666666666666,\"#ed7953\"],[0.7777777777777778,\"#fb9f3a\"],[0.8888888888888888,\"#fdca26\"],[1.0,\"#f0f921\"]]}],\"surface\":[{\"type\":\"surface\",\"colorbar\":{\"outlinewidth\":0,\"ticks\":\"\"},\"colorscale\":[[0.0,\"#0d0887\"],[0.1111111111111111,\"#46039f\"],[0.2222222222222222,\"#7201a8\"],[0.3333333333333333,\"#9c179e\"],[0.4444444444444444,\"#bd3786\"],[0.5555555555555556,\"#d8576b\"],[0.6666666666666666,\"#ed7953\"],[0.7777777777777778,\"#fb9f3a\"],[0.8888888888888888,\"#fdca26\"],[1.0,\"#f0f921\"]]}],\"mesh3d\":[{\"type\":\"mesh3d\",\"colorbar\":{\"outlinewidth\":0,\"ticks\":\"\"}}],\"scatter\":[{\"marker\":{\"line\":{\"color\":\"#283442\"}},\"type\":\"scatter\"}],\"parcoords\":[{\"type\":\"parcoords\",\"line\":{\"colorbar\":{\"outlinewidth\":0,\"ticks\":\"\"}}}],\"scatterpolargl\":[{\"type\":\"scatterpolargl\",\"marker\":{\"colorbar\":{\"outlinewidth\":0,\"ticks\":\"\"}}}],\"bar\":[{\"error_x\":{\"color\":\"#f2f5fa\"},\"error_y\":{\"color\":\"#f2f5fa\"},\"marker\":{\"line\":{\"color\":\"rgb(17,17,17)\",\"width\":0.5},\"pattern\":{\"fillmode\":\"overlay\",\"size\":10,\"solidity\":0.2}},\"type\":\"bar\"}],\"scattergeo\":[{\"type\":\"scattergeo\",\"marker\":{\"colorbar\":{\"outlinewidth\":0,\"ticks\":\"\"}}}],\"scatterpolar\":[{\"type\":\"scatterpolar\",\"marker\":{\"colorbar\":{\"outlinewidth\":0,\"ticks\":\"\"}}}],\"histogram\":[{\"marker\":{\"pattern\":{\"fillmode\":\"overlay\",\"size\":10,\"solidity\":0.2}},\"type\":\"histogram\"}],\"scattergl\":[{\"marker\":{\"line\":{\"color\":\"#283442\"}},\"type\":\"scattergl\"}],\"scatter3d\":[{\"type\":\"scatter3d\",\"line\":{\"colorbar\":{\"outlinewidth\":0,\"ticks\":\"\"}},\"marker\":{\"colorbar\":{\"outlinewidth\":0,\"ticks\":\"\"}}}],\"scattermapbox\":[{\"type\":\"scattermapbox\",\"marker\":{\"colorbar\":{\"outlinewidth\":0,\"ticks\":\"\"}}}],\"scatterternary\":[{\"type\":\"scatterternary\",\"marker\":{\"colorbar\":{\"outlinewidth\":0,\"ticks\":\"\"}}}],\"scattercarpet\":[{\"type\":\"scattercarpet\",\"marker\":{\"colorbar\":{\"outlinewidth\":0,\"ticks\":\"\"}}}],\"carpet\":[{\"aaxis\":{\"endlinecolor\":\"#A2B1C6\",\"gridcolor\":\"#506784\",\"linecolor\":\"#506784\",\"minorgridcolor\":\"#506784\",\"startlinecolor\":\"#A2B1C6\"},\"baxis\":{\"endlinecolor\":\"#A2B1C6\",\"gridcolor\":\"#506784\",\"linecolor\":\"#506784\",\"minorgridcolor\":\"#506784\",\"startlinecolor\":\"#A2B1C6\"},\"type\":\"carpet\"}],\"table\":[{\"cells\":{\"fill\":{\"color\":\"#506784\"},\"line\":{\"color\":\"rgb(17,17,17)\"}},\"header\":{\"fill\":{\"color\":\"#2a3f5f\"},\"line\":{\"color\":\"rgb(17,17,17)\"}},\"type\":\"table\"}],\"barpolar\":[{\"marker\":{\"line\":{\"color\":\"rgb(17,17,17)\",\"width\":0.5},\"pattern\":{\"fillmode\":\"overlay\",\"size\":10,\"solidity\":0.2}},\"type\":\"barpolar\"}],\"pie\":[{\"automargin\":true,\"type\":\"pie\"}]},\"layout\":{\"autotypenumbers\":\"strict\",\"colorway\":[\"#636efa\",\"#EF553B\",\"#00cc96\",\"#ab63fa\",\"#FFA15A\",\"#19d3f3\",\"#FF6692\",\"#B6E880\",\"#FF97FF\",\"#FECB52\"],\"font\":{\"color\":\"#f2f5fa\"},\"hovermode\":\"closest\",\"hoverlabel\":{\"align\":\"left\"},\"paper_bgcolor\":\"rgb(17,17,17)\",\"plot_bgcolor\":\"rgb(17,17,17)\",\"polar\":{\"bgcolor\":\"rgb(17,17,17)\",\"angularaxis\":{\"gridcolor\":\"#506784\",\"linecolor\":\"#506784\",\"ticks\":\"\"},\"radialaxis\":{\"gridcolor\":\"#506784\",\"linecolor\":\"#506784\",\"ticks\":\"\"}},\"ternary\":{\"bgcolor\":\"rgb(17,17,17)\",\"aaxis\":{\"gridcolor\":\"#506784\",\"linecolor\":\"#506784\",\"ticks\":\"\"},\"baxis\":{\"gridcolor\":\"#506784\",\"linecolor\":\"#506784\",\"ticks\":\"\"},\"caxis\":{\"gridcolor\":\"#506784\",\"linecolor\":\"#506784\",\"ticks\":\"\"}},\"coloraxis\":{\"colorbar\":{\"outlinewidth\":0,\"ticks\":\"\"}},\"colorscale\":{\"sequential\":[[0.0,\"#0d0887\"],[0.1111111111111111,\"#46039f\"],[0.2222222222222222,\"#7201a8\"],[0.3333333333333333,\"#9c179e\"],[0.4444444444444444,\"#bd3786\"],[0.5555555555555556,\"#d8576b\"],[0.6666666666666666,\"#ed7953\"],[0.7777777777777778,\"#fb9f3a\"],[0.8888888888888888,\"#fdca26\"],[1.0,\"#f0f921\"]],\"sequentialminus\":[[0.0,\"#0d0887\"],[0.1111111111111111,\"#46039f\"],[0.2222222222222222,\"#7201a8\"],[0.3333333333333333,\"#9c179e\"],[0.4444444444444444,\"#bd3786\"],[0.5555555555555556,\"#d8576b\"],[0.6666666666666666,\"#ed7953\"],[0.7777777777777778,\"#fb9f3a\"],[0.8888888888888888,\"#fdca26\"],[1.0,\"#f0f921\"]],\"diverging\":[[0,\"#8e0152\"],[0.1,\"#c51b7d\"],[0.2,\"#de77ae\"],[0.3,\"#f1b6da\"],[0.4,\"#fde0ef\"],[0.5,\"#f7f7f7\"],[0.6,\"#e6f5d0\"],[0.7,\"#b8e186\"],[0.8,\"#7fbc41\"],[0.9,\"#4d9221\"],[1,\"#276419\"]]},\"xaxis\":{\"gridcolor\":\"#283442\",\"linecolor\":\"#506784\",\"ticks\":\"\",\"title\":{\"standoff\":15},\"zerolinecolor\":\"#283442\",\"automargin\":true,\"zerolinewidth\":2},\"yaxis\":{\"gridcolor\":\"#283442\",\"linecolor\":\"#506784\",\"ticks\":\"\",\"title\":{\"standoff\":15},\"zerolinecolor\":\"#283442\",\"automargin\":true,\"zerolinewidth\":2},\"scene\":{\"xaxis\":{\"backgroundcolor\":\"rgb(17,17,17)\",\"gridcolor\":\"#506784\",\"linecolor\":\"#506784\",\"showbackground\":true,\"ticks\":\"\",\"zerolinecolor\":\"#C8D4E3\",\"gridwidth\":2},\"yaxis\":{\"backgroundcolor\":\"rgb(17,17,17)\",\"gridcolor\":\"#506784\",\"linecolor\":\"#506784\",\"showbackground\":true,\"ticks\":\"\",\"zerolinecolor\":\"#C8D4E3\",\"gridwidth\":2},\"zaxis\":{\"backgroundcolor\":\"rgb(17,17,17)\",\"gridcolor\":\"#506784\",\"linecolor\":\"#506784\",\"showbackground\":true,\"ticks\":\"\",\"zerolinecolor\":\"#C8D4E3\",\"gridwidth\":2}},\"shapedefaults\":{\"line\":{\"color\":\"#f2f5fa\"}},\"annotationdefaults\":{\"arrowcolor\":\"#f2f5fa\",\"arrowhead\":0,\"arrowwidth\":1},\"geo\":{\"bgcolor\":\"rgb(17,17,17)\",\"landcolor\":\"rgb(17,17,17)\",\"subunitcolor\":\"#506784\",\"showland\":true,\"showlakes\":true,\"lakecolor\":\"rgb(17,17,17)\"},\"title\":{\"x\":0.05},\"updatemenudefaults\":{\"bgcolor\":\"#506784\",\"borderwidth\":0},\"sliderdefaults\":{\"bgcolor\":\"#C8D4E3\",\"borderwidth\":1,\"bordercolor\":\"rgb(17,17,17)\",\"tickwidth\":0},\"mapbox\":{\"style\":\"dark\"}}},\"xaxis\":{\"anchor\":\"y\",\"domain\":[0.0,1.0],\"title\":{\"text\":\"week\"},\"range\":[0,52]},\"yaxis\":{\"anchor\":\"x\",\"domain\":[0.0,1.0],\"title\":{\"text\":\"count\"},\"range\":[0,329]},\"legend\":{\"tracegroupgap\":0},\"title\":{\"text\":\"Weeks on board count by year\"},\"barmode\":\"relative\",\"updatemenus\":[{\"buttons\":[{\"args\":[null,{\"frame\":{\"duration\":500,\"redraw\":true},\"mode\":\"immediate\",\"fromcurrent\":true,\"transition\":{\"duration\":500,\"easing\":\"linear\"}}],\"label\":\"&#9654;\",\"method\":\"animate\"},{\"args\":[[null],{\"frame\":{\"duration\":0,\"redraw\":true},\"mode\":\"immediate\",\"fromcurrent\":true,\"transition\":{\"duration\":0,\"easing\":\"linear\"}}],\"label\":\"&#9724;\",\"method\":\"animate\"}],\"direction\":\"left\",\"pad\":{\"r\":10,\"t\":70},\"showactive\":false,\"type\":\"buttons\",\"x\":0.1,\"xanchor\":\"right\",\"y\":0,\"yanchor\":\"top\"}],\"sliders\":[{\"active\":0,\"currentvalue\":{\"prefix\":\"year=\"},\"len\":0.9,\"pad\":{\"b\":10,\"t\":60},\"steps\":[{\"args\":[[\"1958\"],{\"frame\":{\"duration\":0,\"redraw\":true},\"mode\":\"immediate\",\"fromcurrent\":true,\"transition\":{\"duration\":0,\"easing\":\"linear\"}}],\"label\":\"1958\",\"method\":\"animate\"},{\"args\":[[\"1959\"],{\"frame\":{\"duration\":0,\"redraw\":true},\"mode\":\"immediate\",\"fromcurrent\":true,\"transition\":{\"duration\":0,\"easing\":\"linear\"}}],\"label\":\"1959\",\"method\":\"animate\"},{\"args\":[[\"1960\"],{\"frame\":{\"duration\":0,\"redraw\":true},\"mode\":\"immediate\",\"fromcurrent\":true,\"transition\":{\"duration\":0,\"easing\":\"linear\"}}],\"label\":\"1960\",\"method\":\"animate\"},{\"args\":[[\"1961\"],{\"frame\":{\"duration\":0,\"redraw\":true},\"mode\":\"immediate\",\"fromcurrent\":true,\"transition\":{\"duration\":0,\"easing\":\"linear\"}}],\"label\":\"1961\",\"method\":\"animate\"},{\"args\":[[\"1962\"],{\"frame\":{\"duration\":0,\"redraw\":true},\"mode\":\"immediate\",\"fromcurrent\":true,\"transition\":{\"duration\":0,\"easing\":\"linear\"}}],\"label\":\"1962\",\"method\":\"animate\"},{\"args\":[[\"1963\"],{\"frame\":{\"duration\":0,\"redraw\":true},\"mode\":\"immediate\",\"fromcurrent\":true,\"transition\":{\"duration\":0,\"easing\":\"linear\"}}],\"label\":\"1963\",\"method\":\"animate\"},{\"args\":[[\"1964\"],{\"frame\":{\"duration\":0,\"redraw\":true},\"mode\":\"immediate\",\"fromcurrent\":true,\"transition\":{\"duration\":0,\"easing\":\"linear\"}}],\"label\":\"1964\",\"method\":\"animate\"},{\"args\":[[\"1965\"],{\"frame\":{\"duration\":0,\"redraw\":true},\"mode\":\"immediate\",\"fromcurrent\":true,\"transition\":{\"duration\":0,\"easing\":\"linear\"}}],\"label\":\"1965\",\"method\":\"animate\"},{\"args\":[[\"1966\"],{\"frame\":{\"duration\":0,\"redraw\":true},\"mode\":\"immediate\",\"fromcurrent\":true,\"transition\":{\"duration\":0,\"easing\":\"linear\"}}],\"label\":\"1966\",\"method\":\"animate\"},{\"args\":[[\"1967\"],{\"frame\":{\"duration\":0,\"redraw\":true},\"mode\":\"immediate\",\"fromcurrent\":true,\"transition\":{\"duration\":0,\"easing\":\"linear\"}}],\"label\":\"1967\",\"method\":\"animate\"},{\"args\":[[\"1968\"],{\"frame\":{\"duration\":0,\"redraw\":true},\"mode\":\"immediate\",\"fromcurrent\":true,\"transition\":{\"duration\":0,\"easing\":\"linear\"}}],\"label\":\"1968\",\"method\":\"animate\"},{\"args\":[[\"1969\"],{\"frame\":{\"duration\":0,\"redraw\":true},\"mode\":\"immediate\",\"fromcurrent\":true,\"transition\":{\"duration\":0,\"easing\":\"linear\"}}],\"label\":\"1969\",\"method\":\"animate\"},{\"args\":[[\"1970\"],{\"frame\":{\"duration\":0,\"redraw\":true},\"mode\":\"immediate\",\"fromcurrent\":true,\"transition\":{\"duration\":0,\"easing\":\"linear\"}}],\"label\":\"1970\",\"method\":\"animate\"},{\"args\":[[\"1971\"],{\"frame\":{\"duration\":0,\"redraw\":true},\"mode\":\"immediate\",\"fromcurrent\":true,\"transition\":{\"duration\":0,\"easing\":\"linear\"}}],\"label\":\"1971\",\"method\":\"animate\"},{\"args\":[[\"1972\"],{\"frame\":{\"duration\":0,\"redraw\":true},\"mode\":\"immediate\",\"fromcurrent\":true,\"transition\":{\"duration\":0,\"easing\":\"linear\"}}],\"label\":\"1972\",\"method\":\"animate\"},{\"args\":[[\"1973\"],{\"frame\":{\"duration\":0,\"redraw\":true},\"mode\":\"immediate\",\"fromcurrent\":true,\"transition\":{\"duration\":0,\"easing\":\"linear\"}}],\"label\":\"1973\",\"method\":\"animate\"},{\"args\":[[\"1974\"],{\"frame\":{\"duration\":0,\"redraw\":true},\"mode\":\"immediate\",\"fromcurrent\":true,\"transition\":{\"duration\":0,\"easing\":\"linear\"}}],\"label\":\"1974\",\"method\":\"animate\"},{\"args\":[[\"1975\"],{\"frame\":{\"duration\":0,\"redraw\":true},\"mode\":\"immediate\",\"fromcurrent\":true,\"transition\":{\"duration\":0,\"easing\":\"linear\"}}],\"label\":\"1975\",\"method\":\"animate\"},{\"args\":[[\"1976\"],{\"frame\":{\"duration\":0,\"redraw\":true},\"mode\":\"immediate\",\"fromcurrent\":true,\"transition\":{\"duration\":0,\"easing\":\"linear\"}}],\"label\":\"1976\",\"method\":\"animate\"},{\"args\":[[\"1977\"],{\"frame\":{\"duration\":0,\"redraw\":true},\"mode\":\"immediate\",\"fromcurrent\":true,\"transition\":{\"duration\":0,\"easing\":\"linear\"}}],\"label\":\"1977\",\"method\":\"animate\"},{\"args\":[[\"1978\"],{\"frame\":{\"duration\":0,\"redraw\":true},\"mode\":\"immediate\",\"fromcurrent\":true,\"transition\":{\"duration\":0,\"easing\":\"linear\"}}],\"label\":\"1978\",\"method\":\"animate\"},{\"args\":[[\"1979\"],{\"frame\":{\"duration\":0,\"redraw\":true},\"mode\":\"immediate\",\"fromcurrent\":true,\"transition\":{\"duration\":0,\"easing\":\"linear\"}}],\"label\":\"1979\",\"method\":\"animate\"},{\"args\":[[\"1980\"],{\"frame\":{\"duration\":0,\"redraw\":true},\"mode\":\"immediate\",\"fromcurrent\":true,\"transition\":{\"duration\":0,\"easing\":\"linear\"}}],\"label\":\"1980\",\"method\":\"animate\"},{\"args\":[[\"1981\"],{\"frame\":{\"duration\":0,\"redraw\":true},\"mode\":\"immediate\",\"fromcurrent\":true,\"transition\":{\"duration\":0,\"easing\":\"linear\"}}],\"label\":\"1981\",\"method\":\"animate\"},{\"args\":[[\"1982\"],{\"frame\":{\"duration\":0,\"redraw\":true},\"mode\":\"immediate\",\"fromcurrent\":true,\"transition\":{\"duration\":0,\"easing\":\"linear\"}}],\"label\":\"1982\",\"method\":\"animate\"},{\"args\":[[\"1983\"],{\"frame\":{\"duration\":0,\"redraw\":true},\"mode\":\"immediate\",\"fromcurrent\":true,\"transition\":{\"duration\":0,\"easing\":\"linear\"}}],\"label\":\"1983\",\"method\":\"animate\"},{\"args\":[[\"1984\"],{\"frame\":{\"duration\":0,\"redraw\":true},\"mode\":\"immediate\",\"fromcurrent\":true,\"transition\":{\"duration\":0,\"easing\":\"linear\"}}],\"label\":\"1984\",\"method\":\"animate\"},{\"args\":[[\"1985\"],{\"frame\":{\"duration\":0,\"redraw\":true},\"mode\":\"immediate\",\"fromcurrent\":true,\"transition\":{\"duration\":0,\"easing\":\"linear\"}}],\"label\":\"1985\",\"method\":\"animate\"},{\"args\":[[\"1986\"],{\"frame\":{\"duration\":0,\"redraw\":true},\"mode\":\"immediate\",\"fromcurrent\":true,\"transition\":{\"duration\":0,\"easing\":\"linear\"}}],\"label\":\"1986\",\"method\":\"animate\"},{\"args\":[[\"1987\"],{\"frame\":{\"duration\":0,\"redraw\":true},\"mode\":\"immediate\",\"fromcurrent\":true,\"transition\":{\"duration\":0,\"easing\":\"linear\"}}],\"label\":\"1987\",\"method\":\"animate\"},{\"args\":[[\"1988\"],{\"frame\":{\"duration\":0,\"redraw\":true},\"mode\":\"immediate\",\"fromcurrent\":true,\"transition\":{\"duration\":0,\"easing\":\"linear\"}}],\"label\":\"1988\",\"method\":\"animate\"},{\"args\":[[\"1989\"],{\"frame\":{\"duration\":0,\"redraw\":true},\"mode\":\"immediate\",\"fromcurrent\":true,\"transition\":{\"duration\":0,\"easing\":\"linear\"}}],\"label\":\"1989\",\"method\":\"animate\"},{\"args\":[[\"1990\"],{\"frame\":{\"duration\":0,\"redraw\":true},\"mode\":\"immediate\",\"fromcurrent\":true,\"transition\":{\"duration\":0,\"easing\":\"linear\"}}],\"label\":\"1990\",\"method\":\"animate\"},{\"args\":[[\"1991\"],{\"frame\":{\"duration\":0,\"redraw\":true},\"mode\":\"immediate\",\"fromcurrent\":true,\"transition\":{\"duration\":0,\"easing\":\"linear\"}}],\"label\":\"1991\",\"method\":\"animate\"},{\"args\":[[\"1992\"],{\"frame\":{\"duration\":0,\"redraw\":true},\"mode\":\"immediate\",\"fromcurrent\":true,\"transition\":{\"duration\":0,\"easing\":\"linear\"}}],\"label\":\"1992\",\"method\":\"animate\"},{\"args\":[[\"1993\"],{\"frame\":{\"duration\":0,\"redraw\":true},\"mode\":\"immediate\",\"fromcurrent\":true,\"transition\":{\"duration\":0,\"easing\":\"linear\"}}],\"label\":\"1993\",\"method\":\"animate\"},{\"args\":[[\"1994\"],{\"frame\":{\"duration\":0,\"redraw\":true},\"mode\":\"immediate\",\"fromcurrent\":true,\"transition\":{\"duration\":0,\"easing\":\"linear\"}}],\"label\":\"1994\",\"method\":\"animate\"},{\"args\":[[\"1995\"],{\"frame\":{\"duration\":0,\"redraw\":true},\"mode\":\"immediate\",\"fromcurrent\":true,\"transition\":{\"duration\":0,\"easing\":\"linear\"}}],\"label\":\"1995\",\"method\":\"animate\"},{\"args\":[[\"1996\"],{\"frame\":{\"duration\":0,\"redraw\":true},\"mode\":\"immediate\",\"fromcurrent\":true,\"transition\":{\"duration\":0,\"easing\":\"linear\"}}],\"label\":\"1996\",\"method\":\"animate\"},{\"args\":[[\"1997\"],{\"frame\":{\"duration\":0,\"redraw\":true},\"mode\":\"immediate\",\"fromcurrent\":true,\"transition\":{\"duration\":0,\"easing\":\"linear\"}}],\"label\":\"1997\",\"method\":\"animate\"},{\"args\":[[\"1998\"],{\"frame\":{\"duration\":0,\"redraw\":true},\"mode\":\"immediate\",\"fromcurrent\":true,\"transition\":{\"duration\":0,\"easing\":\"linear\"}}],\"label\":\"1998\",\"method\":\"animate\"},{\"args\":[[\"1999\"],{\"frame\":{\"duration\":0,\"redraw\":true},\"mode\":\"immediate\",\"fromcurrent\":true,\"transition\":{\"duration\":0,\"easing\":\"linear\"}}],\"label\":\"1999\",\"method\":\"animate\"},{\"args\":[[\"2000\"],{\"frame\":{\"duration\":0,\"redraw\":true},\"mode\":\"immediate\",\"fromcurrent\":true,\"transition\":{\"duration\":0,\"easing\":\"linear\"}}],\"label\":\"2000\",\"method\":\"animate\"},{\"args\":[[\"2001\"],{\"frame\":{\"duration\":0,\"redraw\":true},\"mode\":\"immediate\",\"fromcurrent\":true,\"transition\":{\"duration\":0,\"easing\":\"linear\"}}],\"label\":\"2001\",\"method\":\"animate\"},{\"args\":[[\"2002\"],{\"frame\":{\"duration\":0,\"redraw\":true},\"mode\":\"immediate\",\"fromcurrent\":true,\"transition\":{\"duration\":0,\"easing\":\"linear\"}}],\"label\":\"2002\",\"method\":\"animate\"},{\"args\":[[\"2003\"],{\"frame\":{\"duration\":0,\"redraw\":true},\"mode\":\"immediate\",\"fromcurrent\":true,\"transition\":{\"duration\":0,\"easing\":\"linear\"}}],\"label\":\"2003\",\"method\":\"animate\"},{\"args\":[[\"2004\"],{\"frame\":{\"duration\":0,\"redraw\":true},\"mode\":\"immediate\",\"fromcurrent\":true,\"transition\":{\"duration\":0,\"easing\":\"linear\"}}],\"label\":\"2004\",\"method\":\"animate\"},{\"args\":[[\"2005\"],{\"frame\":{\"duration\":0,\"redraw\":true},\"mode\":\"immediate\",\"fromcurrent\":true,\"transition\":{\"duration\":0,\"easing\":\"linear\"}}],\"label\":\"2005\",\"method\":\"animate\"},{\"args\":[[\"2006\"],{\"frame\":{\"duration\":0,\"redraw\":true},\"mode\":\"immediate\",\"fromcurrent\":true,\"transition\":{\"duration\":0,\"easing\":\"linear\"}}],\"label\":\"2006\",\"method\":\"animate\"},{\"args\":[[\"2007\"],{\"frame\":{\"duration\":0,\"redraw\":true},\"mode\":\"immediate\",\"fromcurrent\":true,\"transition\":{\"duration\":0,\"easing\":\"linear\"}}],\"label\":\"2007\",\"method\":\"animate\"},{\"args\":[[\"2008\"],{\"frame\":{\"duration\":0,\"redraw\":true},\"mode\":\"immediate\",\"fromcurrent\":true,\"transition\":{\"duration\":0,\"easing\":\"linear\"}}],\"label\":\"2008\",\"method\":\"animate\"},{\"args\":[[\"2009\"],{\"frame\":{\"duration\":0,\"redraw\":true},\"mode\":\"immediate\",\"fromcurrent\":true,\"transition\":{\"duration\":0,\"easing\":\"linear\"}}],\"label\":\"2009\",\"method\":\"animate\"},{\"args\":[[\"2010\"],{\"frame\":{\"duration\":0,\"redraw\":true},\"mode\":\"immediate\",\"fromcurrent\":true,\"transition\":{\"duration\":0,\"easing\":\"linear\"}}],\"label\":\"2010\",\"method\":\"animate\"},{\"args\":[[\"2011\"],{\"frame\":{\"duration\":0,\"redraw\":true},\"mode\":\"immediate\",\"fromcurrent\":true,\"transition\":{\"duration\":0,\"easing\":\"linear\"}}],\"label\":\"2011\",\"method\":\"animate\"},{\"args\":[[\"2012\"],{\"frame\":{\"duration\":0,\"redraw\":true},\"mode\":\"immediate\",\"fromcurrent\":true,\"transition\":{\"duration\":0,\"easing\":\"linear\"}}],\"label\":\"2012\",\"method\":\"animate\"},{\"args\":[[\"2013\"],{\"frame\":{\"duration\":0,\"redraw\":true},\"mode\":\"immediate\",\"fromcurrent\":true,\"transition\":{\"duration\":0,\"easing\":\"linear\"}}],\"label\":\"2013\",\"method\":\"animate\"},{\"args\":[[\"2014\"],{\"frame\":{\"duration\":0,\"redraw\":true},\"mode\":\"immediate\",\"fromcurrent\":true,\"transition\":{\"duration\":0,\"easing\":\"linear\"}}],\"label\":\"2014\",\"method\":\"animate\"},{\"args\":[[\"2015\"],{\"frame\":{\"duration\":0,\"redraw\":true},\"mode\":\"immediate\",\"fromcurrent\":true,\"transition\":{\"duration\":0,\"easing\":\"linear\"}}],\"label\":\"2015\",\"method\":\"animate\"},{\"args\":[[\"2016\"],{\"frame\":{\"duration\":0,\"redraw\":true},\"mode\":\"immediate\",\"fromcurrent\":true,\"transition\":{\"duration\":0,\"easing\":\"linear\"}}],\"label\":\"2016\",\"method\":\"animate\"},{\"args\":[[\"2017\"],{\"frame\":{\"duration\":0,\"redraw\":true},\"mode\":\"immediate\",\"fromcurrent\":true,\"transition\":{\"duration\":0,\"easing\":\"linear\"}}],\"label\":\"2017\",\"method\":\"animate\"},{\"args\":[[\"2018\"],{\"frame\":{\"duration\":0,\"redraw\":true},\"mode\":\"immediate\",\"fromcurrent\":true,\"transition\":{\"duration\":0,\"easing\":\"linear\"}}],\"label\":\"2018\",\"method\":\"animate\"},{\"args\":[[\"2019\"],{\"frame\":{\"duration\":0,\"redraw\":true},\"mode\":\"immediate\",\"fromcurrent\":true,\"transition\":{\"duration\":0,\"easing\":\"linear\"}}],\"label\":\"2019\",\"method\":\"animate\"},{\"args\":[[\"2020\"],{\"frame\":{\"duration\":0,\"redraw\":true},\"mode\":\"immediate\",\"fromcurrent\":true,\"transition\":{\"duration\":0,\"easing\":\"linear\"}}],\"label\":\"2020\",\"method\":\"animate\"},{\"args\":[[\"2021\"],{\"frame\":{\"duration\":0,\"redraw\":true},\"mode\":\"immediate\",\"fromcurrent\":true,\"transition\":{\"duration\":0,\"easing\":\"linear\"}}],\"label\":\"2021\",\"method\":\"animate\"}],\"x\":0.1,\"xanchor\":\"left\",\"y\":0,\"yanchor\":\"top\"}]},                        {\"responsive\": true}                    ).then(function(){\n                            Plotly.addFrames('29c800da-c4f0-46a8-84d8-32c3a6e2e5a3', [{\"data\":[{\"alignmentgroup\":\"True\",\"hovertemplate\":\"year=1958<br>week=%{x}<br>count=%{y}<extra></extra>\",\"legendgroup\":\"\",\"marker\":{\"color\":\"#636efa\",\"pattern\":{\"shape\":\"\"}},\"name\":\"\",\"offsetgroup\":\"\",\"orientation\":\"v\",\"showlegend\":false,\"textposition\":\"auto\",\"x\":[1,2,3,4,5,6,7,8,9,10,11,12,13,14,15,16,17,18,19,20,21,22],\"xaxis\":\"x\",\"y\":[64,47,28,27,23,16,21,15,19,23,14,9,10,10,6,9,4,2,2,1,1,1],\"yaxis\":\"y\",\"type\":\"bar\"}],\"name\":\"1958\"},{\"data\":[{\"alignmentgroup\":\"True\",\"hovertemplate\":\"year=1959<br>week=%{x}<br>count=%{y}<extra></extra>\",\"legendgroup\":\"\",\"marker\":{\"color\":\"#636efa\",\"pattern\":{\"shape\":\"\"}},\"name\":\"\",\"offsetgroup\":\"\",\"orientation\":\"v\",\"showlegend\":false,\"textposition\":\"auto\",\"x\":[1,2,3,4,5,6,7,8,9,10,11,12,13,14,15,16,17,18,19,20,21,22,23,24,25,26],\"xaxis\":\"x\",\"y\":[50,54,44,40,39,43,35,42,42,23,26,40,44,18,30,33,19,9,10,7,8,1,2,2,1,1],\"yaxis\":\"y\",\"type\":\"bar\"}],\"name\":\"1959\"},{\"data\":[{\"alignmentgroup\":\"True\",\"hovertemplate\":\"year=1960<br>week=%{x}<br>count=%{y}<extra></extra>\",\"legendgroup\":\"\",\"marker\":{\"color\":\"#636efa\",\"pattern\":{\"shape\":\"\"}},\"name\":\"\",\"offsetgroup\":\"\",\"orientation\":\"v\",\"showlegend\":false,\"textposition\":\"auto\",\"x\":[1,2,3,4,5,6,7,8,9,10,11,12,13,14,15,16,17,18,19,20,21,22,23,24,25,26,27],\"xaxis\":\"x\",\"y\":[46,63,52,40,32,52,41,42,40,35,41,26,38,26,33,18,16,14,6,7,5,3,2,2,0,2,1],\"yaxis\":\"y\",\"type\":\"bar\"}],\"name\":\"1960\"},{\"data\":[{\"alignmentgroup\":\"True\",\"hovertemplate\":\"year=1961<br>week=%{x}<br>count=%{y}<extra></extra>\",\"legendgroup\":\"\",\"marker\":{\"color\":\"#636efa\",\"pattern\":{\"shape\":\"\"}},\"name\":\"\",\"offsetgroup\":\"\",\"orientation\":\"v\",\"showlegend\":false,\"textposition\":\"auto\",\"x\":[1,2,3,4,5,6,7,8,9,10,11,12,13,14,15,16,17,18,19,20,21,22,23,24,25,26],\"xaxis\":\"x\",\"y\":[60,69,66,59,59,63,66,55,44,41,41,39,28,25,24,17,10,6,2,3,1,0,3,0,1,1],\"yaxis\":\"y\",\"type\":\"bar\"}],\"name\":\"1961\"},{\"data\":[{\"alignmentgroup\":\"True\",\"hovertemplate\":\"year=1962<br>week=%{x}<br>count=%{y}<extra></extra>\",\"legendgroup\":\"\",\"marker\":{\"color\":\"#636efa\",\"pattern\":{\"shape\":\"\"}},\"name\":\"\",\"offsetgroup\":\"\",\"orientation\":\"v\",\"showlegend\":false,\"textposition\":\"auto\",\"x\":[1,2,3,4,5,6,7,8,9,10,11,12,13,14,15,16,17,18,19,20,21,22,23,24,25,26,27,28,29,30,31,32,33,34,35,36,37,38,39],\"xaxis\":\"x\",\"y\":[97,54,42,52,42,48,52,67,54,46,54,32,29,40,18,13,8,8,3,0,3,0,3,0,0,1,0,1,0,0,0,0,0,0,0,0,0,0,1],\"yaxis\":\"y\",\"type\":\"bar\"}],\"name\":\"1962\"},{\"data\":[{\"alignmentgroup\":\"True\",\"hovertemplate\":\"year=1963<br>week=%{x}<br>count=%{y}<extra></extra>\",\"legendgroup\":\"\",\"marker\":{\"color\":\"#636efa\",\"pattern\":{\"shape\":\"\"}},\"name\":\"\",\"offsetgroup\":\"\",\"orientation\":\"v\",\"showlegend\":false,\"textposition\":\"auto\",\"x\":[1,2,3,4,5,6,7,8,9,10,11,12,13,14,15,16,17,18,19,20,21,22,23],\"xaxis\":\"x\",\"y\":[61,51,49,40,47,62,75,66,67,47,44,37,39,27,16,15,5,4,0,1,0,0,1],\"yaxis\":\"y\",\"type\":\"bar\"}],\"name\":\"1963\"},{\"data\":[{\"alignmentgroup\":\"True\",\"hovertemplate\":\"year=1964<br>week=%{x}<br>count=%{y}<extra></extra>\",\"legendgroup\":\"\",\"marker\":{\"color\":\"#636efa\",\"pattern\":{\"shape\":\"\"}},\"name\":\"\",\"offsetgroup\":\"\",\"orientation\":\"v\",\"showlegend\":false,\"textposition\":\"auto\",\"x\":[1,2,3,4,5,6,7,8,9,10,11,12,13,14,15,16,17,18,19,20,21,22,23],\"xaxis\":\"x\",\"y\":[56,65,71,44,61,69,84,73,70,63,50,27,31,20,14,6,3,0,2,0,0,1,1],\"yaxis\":\"y\",\"type\":\"bar\"}],\"name\":\"1964\"},{\"data\":[{\"alignmentgroup\":\"True\",\"hovertemplate\":\"year=1965<br>week=%{x}<br>count=%{y}<extra></extra>\",\"legendgroup\":\"\",\"marker\":{\"color\":\"#636efa\",\"pattern\":{\"shape\":\"\"}},\"name\":\"\",\"offsetgroup\":\"\",\"orientation\":\"v\",\"showlegend\":false,\"textposition\":\"auto\",\"x\":[1,2,3,4,5,6,7,8,9,10,11,12,13,14,15,16,17,18,19,20,21,22,23,24,25],\"xaxis\":\"x\",\"y\":[50,53,64,57,51,67,105,74,77,46,56,35,28,24,9,2,0,1,0,0,0,0,0,0,1],\"yaxis\":\"y\",\"type\":\"bar\"}],\"name\":\"1965\"},{\"data\":[{\"alignmentgroup\":\"True\",\"hovertemplate\":\"year=1966<br>week=%{x}<br>count=%{y}<extra></extra>\",\"legendgroup\":\"\",\"marker\":{\"color\":\"#636efa\",\"pattern\":{\"shape\":\"\"}},\"name\":\"\",\"offsetgroup\":\"\",\"orientation\":\"v\",\"showlegend\":false,\"textposition\":\"auto\",\"x\":[1,2,3,4,5,6,7,8,9,10,11,12,13,14,15,16,17,18,19,20,21,22,23,24,25,26,27,28,29,30],\"xaxis\":\"x\",\"y\":[50,84,48,52,68,87,82,106,65,36,49,34,25,23,12,4,3,1,1,0,0,0,0,0,0,0,0,0,1,1],\"yaxis\":\"y\",\"type\":\"bar\"}],\"name\":\"1966\"},{\"data\":[{\"alignmentgroup\":\"True\",\"hovertemplate\":\"year=1967<br>week=%{x}<br>count=%{y}<extra></extra>\",\"legendgroup\":\"\",\"marker\":{\"color\":\"#636efa\",\"pattern\":{\"shape\":\"\"}},\"name\":\"\",\"offsetgroup\":\"\",\"orientation\":\"v\",\"showlegend\":false,\"textposition\":\"auto\",\"x\":[1,2,3,4,5,6,7,8,9,10,11,12,13,14,15,16,17,18,19,20,21],\"xaxis\":\"x\",\"y\":[50,76,60,67,69,95,91,70,62,41,39,40,15,20,16,8,7,0,0,0,1],\"yaxis\":\"y\",\"type\":\"bar\"}],\"name\":\"1967\"},{\"data\":[{\"alignmentgroup\":\"True\",\"hovertemplate\":\"year=1968<br>week=%{x}<br>count=%{y}<extra></extra>\",\"legendgroup\":\"\",\"marker\":{\"color\":\"#636efa\",\"pattern\":{\"shape\":\"\"}},\"name\":\"\",\"offsetgroup\":\"\",\"orientation\":\"v\",\"showlegend\":false,\"textposition\":\"auto\",\"x\":[1,2,3,4,5,6,7,8,9,10,11,12,13,14,15,16,17,18,19,20,21,22,23,24,25,26],\"xaxis\":\"x\",\"y\":[29,70,61,48,71,87,74,69,49,41,33,38,28,30,18,12,8,3,0,0,0,1,1,0,0,1],\"yaxis\":\"y\",\"type\":\"bar\"}],\"name\":\"1968\"},{\"data\":[{\"alignmentgroup\":\"True\",\"hovertemplate\":\"year=1969<br>week=%{x}<br>count=%{y}<extra></extra>\",\"legendgroup\":\"\",\"marker\":{\"color\":\"#636efa\",\"pattern\":{\"shape\":\"\"}},\"name\":\"\",\"offsetgroup\":\"\",\"orientation\":\"v\",\"showlegend\":false,\"textposition\":\"auto\",\"x\":[1,2,3,4,5,6,7,8,9,10,11,12,13,14,15,16,17,18,19,20,21,22,23,24,25],\"xaxis\":\"x\",\"y\":[32,67,55,64,51,83,62,68,47,52,39,34,36,28,17,12,5,1,3,1,1,1,2,0,1],\"yaxis\":\"y\",\"type\":\"bar\"}],\"name\":\"1969\"},{\"data\":[{\"alignmentgroup\":\"True\",\"hovertemplate\":\"year=1970<br>week=%{x}<br>count=%{y}<extra></extra>\",\"legendgroup\":\"\",\"marker\":{\"color\":\"#636efa\",\"pattern\":{\"shape\":\"\"}},\"name\":\"\",\"offsetgroup\":\"\",\"orientation\":\"v\",\"showlegend\":false,\"textposition\":\"auto\",\"x\":[1,2,3,4,5,6,7,8,9,10,11,12,13,14,15,16,17,18,19,20,21,22,23,24],\"xaxis\":\"x\",\"y\":[30,70,59,50,45,51,60,75,52,30,30,36,30,41,31,13,10,6,1,3,1,2,1,1],\"yaxis\":\"y\",\"type\":\"bar\"}],\"name\":\"1970\"},{\"data\":[{\"alignmentgroup\":\"True\",\"hovertemplate\":\"year=1971<br>week=%{x}<br>count=%{y}<extra></extra>\",\"legendgroup\":\"\",\"marker\":{\"color\":\"#636efa\",\"pattern\":{\"shape\":\"\"}},\"name\":\"\",\"offsetgroup\":\"\",\"orientation\":\"v\",\"showlegend\":false,\"textposition\":\"auto\",\"x\":[1,2,3,4,5,6,7,8,9,10,11,12,13,14,15,16,17,18,19,20,21,22,23,24,25,26,27,28,29,30,31],\"xaxis\":\"x\",\"y\":[21,55,57,51,51,65,55,54,46,34,41,45,33,27,17,13,15,8,4,4,1,1,1,2,0,1,0,0,0,0,1],\"yaxis\":\"y\",\"type\":\"bar\"}],\"name\":\"1971\"},{\"data\":[{\"alignmentgroup\":\"True\",\"hovertemplate\":\"year=1972<br>week=%{x}<br>count=%{y}<extra></extra>\",\"legendgroup\":\"\",\"marker\":{\"color\":\"#636efa\",\"pattern\":{\"shape\":\"\"}},\"name\":\"\",\"offsetgroup\":\"\",\"orientation\":\"v\",\"showlegend\":false,\"textposition\":\"auto\",\"x\":[1,2,3,4,5,6,7,8,9,10,11,12,13,14,15,16,17,18,19,20,21,22,23,24,25],\"xaxis\":\"x\",\"y\":[13,42,44,50,54,33,55,61,59,53,49,38,32,26,21,18,8,9,6,3,3,2,0,0,1],\"yaxis\":\"y\",\"type\":\"bar\"}],\"name\":\"1972\"},{\"data\":[{\"alignmentgroup\":\"True\",\"hovertemplate\":\"year=1973<br>week=%{x}<br>count=%{y}<extra></extra>\",\"legendgroup\":\"\",\"marker\":{\"color\":\"#636efa\",\"pattern\":{\"shape\":\"\"}},\"name\":\"\",\"offsetgroup\":\"\",\"orientation\":\"v\",\"showlegend\":false,\"textposition\":\"auto\",\"x\":[1,2,3,4,5,6,7,8,9,10,11,12,13,14,15,16,17,18,19,20,21,22,23,24,25,26,27,28,29,30,31,32,33,34,35,36,37,38],\"xaxis\":\"x\",\"y\":[11,21,33,33,46,44,45,56,36,43,31,34,31,25,27,32,9,13,10,10,4,4,4,0,0,0,0,0,0,0,0,0,0,0,0,0,0,1],\"yaxis\":\"y\",\"type\":\"bar\"}],\"name\":\"1973\"},{\"data\":[{\"alignmentgroup\":\"True\",\"hovertemplate\":\"year=1974<br>week=%{x}<br>count=%{y}<extra></extra>\",\"legendgroup\":\"\",\"marker\":{\"color\":\"#636efa\",\"pattern\":{\"shape\":\"\"}},\"name\":\"\",\"offsetgroup\":\"\",\"orientation\":\"v\",\"showlegend\":false,\"textposition\":\"auto\",\"x\":[1,2,3,4,5,6,7,8,9,10,11,12,13,14,15,16,17,18,19,20,21,22,23,24,25,26,27,28],\"xaxis\":\"x\",\"y\":[8,26,24,51,41,41,52,39,34,25,26,26,38,26,25,23,22,20,14,10,5,5,3,1,3,0,0,1],\"yaxis\":\"y\",\"type\":\"bar\"}],\"name\":\"1974\"},{\"data\":[{\"alignmentgroup\":\"True\",\"hovertemplate\":\"year=1975<br>week=%{x}<br>count=%{y}<extra></extra>\",\"legendgroup\":\"\",\"marker\":{\"color\":\"#636efa\",\"pattern\":{\"shape\":\"\"}},\"name\":\"\",\"offsetgroup\":\"\",\"orientation\":\"v\",\"showlegend\":false,\"textposition\":\"auto\",\"x\":[1,2,3,4,5,6,7,8,9,10,11,12,13,14,15,16,17,18,19,20,21,22,23,24,25,26,27,28],\"xaxis\":\"x\",\"y\":[20,38,50,49,49,55,53,37,37,39,31,20,17,18,23,27,32,24,11,7,5,0,3,0,1,0,1,1],\"yaxis\":\"y\",\"type\":\"bar\"}],\"name\":\"1975\"},{\"data\":[{\"alignmentgroup\":\"True\",\"hovertemplate\":\"year=1976<br>week=%{x}<br>count=%{y}<extra></extra>\",\"legendgroup\":\"\",\"marker\":{\"color\":\"#636efa\",\"pattern\":{\"shape\":\"\"}},\"name\":\"\",\"offsetgroup\":\"\",\"orientation\":\"v\",\"showlegend\":false,\"textposition\":\"auto\",\"x\":[1,2,3,4,5,6,7,8,9,10,11,12,13,14,15,16,17,18,19,20,21,22,23,24,25,26,27,28,29,30,31,32],\"xaxis\":\"x\",\"y\":[18,34,49,63,46,49,35,44,36,28,21,23,15,19,20,25,20,10,10,17,10,5,5,4,3,2,2,5,1,0,0,1],\"yaxis\":\"y\",\"type\":\"bar\"}],\"name\":\"1976\"},{\"data\":[{\"alignmentgroup\":\"True\",\"hovertemplate\":\"year=1977<br>week=%{x}<br>count=%{y}<extra></extra>\",\"legendgroup\":\"\",\"marker\":{\"color\":\"#636efa\",\"pattern\":{\"shape\":\"\"}},\"name\":\"\",\"offsetgroup\":\"\",\"orientation\":\"v\",\"showlegend\":false,\"textposition\":\"auto\",\"x\":[1,2,3,4,5,6,7,8,9,10,11,12,13,14,15,16,17,18,19,20,21,22,23,24,25,26,27,28,29,30,31],\"xaxis\":\"x\",\"y\":[2,25,43,45,40,34,57,27,24,27,26,24,20,17,19,16,17,14,13,19,20,16,6,7,3,3,4,1,1,0,1],\"yaxis\":\"y\",\"type\":\"bar\"}],\"name\":\"1977\"},{\"data\":[{\"alignmentgroup\":\"True\",\"hovertemplate\":\"year=1978<br>week=%{x}<br>count=%{y}<extra></extra>\",\"legendgroup\":\"\",\"marker\":{\"color\":\"#636efa\",\"pattern\":{\"shape\":\"\"}},\"name\":\"\",\"offsetgroup\":\"\",\"orientation\":\"v\",\"showlegend\":false,\"textposition\":\"auto\",\"x\":[1,2,3,4,5,6,7,8,9,10,11,12,13,14,15,16,17,18,19,20,21,22,23,24,25,26,27,28,29,30,31,32,33,34,35,36,37,38,39,40],\"xaxis\":\"x\",\"y\":[0,14,26,35,36,28,36,42,23,37,32,24,21,30,19,20,19,18,12,13,8,10,7,2,6,2,6,3,2,1,0,1,1,0,0,0,0,0,0,1],\"yaxis\":\"y\",\"type\":\"bar\"}],\"name\":\"1978\"},{\"data\":[{\"alignmentgroup\":\"True\",\"hovertemplate\":\"year=1979<br>week=%{x}<br>count=%{y}<extra></extra>\",\"legendgroup\":\"\",\"marker\":{\"color\":\"#636efa\",\"pattern\":{\"shape\":\"\"}},\"name\":\"\",\"offsetgroup\":\"\",\"orientation\":\"v\",\"showlegend\":false,\"textposition\":\"auto\",\"x\":[1,2,3,4,5,6,7,8,9,10,11,12,13,14,15,16,17,18,19,20,21,22,23,24,25,26,27,28,29,30,31],\"xaxis\":\"x\",\"y\":[0,28,30,46,42,42,37,40,29,32,30,29,22,23,22,22,14,16,18,14,14,8,6,2,2,2,2,0,0,0,2],\"yaxis\":\"y\",\"type\":\"bar\"}],\"name\":\"1979\"},{\"data\":[{\"alignmentgroup\":\"True\",\"hovertemplate\":\"year=1980<br>week=%{x}<br>count=%{y}<extra></extra>\",\"legendgroup\":\"\",\"marker\":{\"color\":\"#636efa\",\"pattern\":{\"shape\":\"\"}},\"name\":\"\",\"offsetgroup\":\"\",\"orientation\":\"v\",\"showlegend\":false,\"textposition\":\"auto\",\"x\":[1,2,3,4,5,6,7,8,9,10,11,12,13,14,15,16,17,18,19,20,21,22,23,24,25,26,27,28,29],\"xaxis\":\"x\",\"y\":[5,17,31,35,34,45,27,38,29,28,30,19,28,32,19,25,20,12,18,7,15,5,10,3,10,2,2,0,1],\"yaxis\":\"y\",\"type\":\"bar\"}],\"name\":\"1980\"},{\"data\":[{\"alignmentgroup\":\"True\",\"hovertemplate\":\"year=1981<br>week=%{x}<br>count=%{y}<extra></extra>\",\"legendgroup\":\"\",\"marker\":{\"color\":\"#636efa\",\"pattern\":{\"shape\":\"\"}},\"name\":\"\",\"offsetgroup\":\"\",\"orientation\":\"v\",\"showlegend\":false,\"textposition\":\"auto\",\"x\":[1,2,3,4,5,6,7,8,9,10,11,12,13,14,15,16,17,18,19,20,21,22,23,24,25,26,27,28,29,30,31,32],\"xaxis\":\"x\",\"y\":[6,11,26,27,35,32,36,33,23,22,22,23,24,22,11,20,18,18,19,20,13,12,14,6,5,6,3,2,1,1,1,1],\"yaxis\":\"y\",\"type\":\"bar\"}],\"name\":\"1981\"},{\"data\":[{\"alignmentgroup\":\"True\",\"hovertemplate\":\"year=1982<br>week=%{x}<br>count=%{y}<extra></extra>\",\"legendgroup\":\"\",\"marker\":{\"color\":\"#636efa\",\"pattern\":{\"shape\":\"\"}},\"name\":\"\",\"offsetgroup\":\"\",\"orientation\":\"v\",\"showlegend\":false,\"textposition\":\"auto\",\"x\":[1,2,3,4,5,6,7,8,9,10,11,12,13,14,15,16,17,18,19,20,21,22,23,24,25,26,27,28,29,30,31,32,33,34,35,36,37,38,39,40,41,42,43],\"xaxis\":\"x\",\"y\":[7,16,23,16,31,25,38,36,34,30,37,26,21,36,25,20,19,14,16,11,9,7,8,8,8,1,2,3,1,1,0,0,0,0,0,0,0,0,0,0,0,0,1],\"yaxis\":\"y\",\"type\":\"bar\"}],\"name\":\"1982\"},{\"data\":[{\"alignmentgroup\":\"True\",\"hovertemplate\":\"year=1983<br>week=%{x}<br>count=%{y}<extra></extra>\",\"legendgroup\":\"\",\"marker\":{\"color\":\"#636efa\",\"pattern\":{\"shape\":\"\"}},\"name\":\"\",\"offsetgroup\":\"\",\"orientation\":\"v\",\"showlegend\":false,\"textposition\":\"auto\",\"x\":[1,2,3,4,5,6,7,8,9,10,11,12,13,14,15,16,17,18,19,20,21,22,23,24,25,26,27,28,29,30,31,32,33,34,35,36],\"xaxis\":\"x\",\"y\":[0,15,20,44,36,38,28,30,32,25,28,35,28,23,21,33,14,21,11,12,11,10,7,4,6,3,5,0,2,0,0,1,0,0,0,1],\"yaxis\":\"y\",\"type\":\"bar\"}],\"name\":\"1983\"},{\"data\":[{\"alignmentgroup\":\"True\",\"hovertemplate\":\"year=1984<br>week=%{x}<br>count=%{y}<extra></extra>\",\"legendgroup\":\"\",\"marker\":{\"color\":\"#636efa\",\"pattern\":{\"shape\":\"\"}},\"name\":\"\",\"offsetgroup\":\"\",\"orientation\":\"v\",\"showlegend\":false,\"textposition\":\"auto\",\"x\":[1,2,3,4,5,6,7,8,9,10,11,12,13,14,15,16,17,18,19,20,21,22,23,24,25,26,27,28,29,30,31,32,33,34,35,36,37,38],\"xaxis\":\"x\",\"y\":[1,18,26,28,36,36,33,26,23,25,24,33,28,28,25,23,20,15,15,10,17,9,5,8,6,2,1,1,3,1,0,0,0,0,0,0,0,1],\"yaxis\":\"y\",\"type\":\"bar\"}],\"name\":\"1984\"},{\"data\":[{\"alignmentgroup\":\"True\",\"hovertemplate\":\"year=1985<br>week=%{x}<br>count=%{y}<extra></extra>\",\"legendgroup\":\"\",\"marker\":{\"color\":\"#636efa\",\"pattern\":{\"shape\":\"\"}},\"name\":\"\",\"offsetgroup\":\"\",\"orientation\":\"v\",\"showlegend\":false,\"textposition\":\"auto\",\"x\":[1,2,3,4,5,6,7,8,9,10,11,12,13,14,15,16,17,18,19,20,21,22,23,24,25,26,27,28,29,30,31,32,33,34,35,36,37,38,39,40],\"xaxis\":\"x\",\"y\":[6,17,19,20,32,32,20,26,20,24,30,22,26,17,27,23,30,20,29,11,13,12,7,7,6,3,1,0,0,0,0,0,0,0,0,0,0,0,0,1],\"yaxis\":\"y\",\"type\":\"bar\"}],\"name\":\"1985\"},{\"data\":[{\"alignmentgroup\":\"True\",\"hovertemplate\":\"year=1986<br>week=%{x}<br>count=%{y}<extra></extra>\",\"legendgroup\":\"\",\"marker\":{\"color\":\"#636efa\",\"pattern\":{\"shape\":\"\"}},\"name\":\"\",\"offsetgroup\":\"\",\"orientation\":\"v\",\"showlegend\":false,\"textposition\":\"auto\",\"x\":[1,2,3,4,5,6,7,8,9,10,11,12,13,14,15,16,17,18,19,20,21,22,23,24,25,26,27,28,29],\"xaxis\":\"x\",\"y\":[9,9,16,31,22,24,20,22,33,23,27,22,29,31,23,25,18,21,16,25,16,14,10,6,2,2,4,0,1],\"yaxis\":\"y\",\"type\":\"bar\"}],\"name\":\"1986\"},{\"data\":[{\"alignmentgroup\":\"True\",\"hovertemplate\":\"year=1987<br>week=%{x}<br>count=%{y}<extra></extra>\",\"legendgroup\":\"\",\"marker\":{\"color\":\"#636efa\",\"pattern\":{\"shape\":\"\"}},\"name\":\"\",\"offsetgroup\":\"\",\"orientation\":\"v\",\"showlegend\":false,\"textposition\":\"auto\",\"x\":[1,2,3,4,5,6,7,8,9,10,11,12,13,14,15,16,17,18,19,20,21,22,23,24,25,26,27,28,29,30,31,32,33,34,35],\"xaxis\":\"x\",\"y\":[5,16,12,21,24,28,25,22,25,25,26,20,29,27,18,24,24,31,21,15,20,10,9,5,2,4,1,1,1,0,0,0,0,0,1],\"yaxis\":\"y\",\"type\":\"bar\"}],\"name\":\"1987\"},{\"data\":[{\"alignmentgroup\":\"True\",\"hovertemplate\":\"year=1988<br>week=%{x}<br>count=%{y}<extra></extra>\",\"legendgroup\":\"\",\"marker\":{\"color\":\"#636efa\",\"pattern\":{\"shape\":\"\"}},\"name\":\"\",\"offsetgroup\":\"\",\"orientation\":\"v\",\"showlegend\":false,\"textposition\":\"auto\",\"x\":[1,2,3,4,5,6,7,8,9,10,11,12,13,14,15,16,17,18,19,20,21,22,23,24,25,26,27,28,29,30,31,32,33,34,35,36],\"xaxis\":\"x\",\"y\":[2,15,21,23,19,18,18,26,22,28,28,23,23,17,20,19,23,26,21,18,26,11,8,7,10,3,3,2,1,2,0,0,0,1,0,1],\"yaxis\":\"y\",\"type\":\"bar\"}],\"name\":\"1988\"},{\"data\":[{\"alignmentgroup\":\"True\",\"hovertemplate\":\"year=1989<br>week=%{x}<br>count=%{y}<extra></extra>\",\"legendgroup\":\"\",\"marker\":{\"color\":\"#636efa\",\"pattern\":{\"shape\":\"\"}},\"name\":\"\",\"offsetgroup\":\"\",\"orientation\":\"v\",\"showlegend\":false,\"textposition\":\"auto\",\"x\":[1,2,3,4,5,6,7,8,9,10,11,12,13,14,15,16,17,18,19,20,21,22,23,24,25,26,27,28,29,30,31,32,33,34,35,36,37,38,39,40],\"xaxis\":\"x\",\"y\":[1,9,16,26,20,29,26,24,22,25,20,19,27,31,18,23,26,27,16,20,14,9,7,6,10,5,2,4,1,0,0,0,0,0,0,1,1,0,0,1],\"yaxis\":\"y\",\"type\":\"bar\"}],\"name\":\"1989\"},{\"data\":[{\"alignmentgroup\":\"True\",\"hovertemplate\":\"year=1990<br>week=%{x}<br>count=%{y}<extra></extra>\",\"legendgroup\":\"\",\"marker\":{\"color\":\"#636efa\",\"pattern\":{\"shape\":\"\"}},\"name\":\"\",\"offsetgroup\":\"\",\"orientation\":\"v\",\"showlegend\":false,\"textposition\":\"auto\",\"x\":[1,2,3,4,5,6,7,8,9,10,11,12,13,14,15,16,17,18,19,20,21,22,23,24,25,26,27,28,29,30,31,32,33,34,35,36,37,38,39],\"xaxis\":\"x\",\"y\":[2,10,16,21,27,22,26,21,27,18,25,22,26,18,25,26,21,23,12,16,18,14,13,8,5,3,5,1,1,1,0,0,0,0,0,0,0,0,1],\"yaxis\":\"y\",\"type\":\"bar\"}],\"name\":\"1990\"},{\"data\":[{\"alignmentgroup\":\"True\",\"hovertemplate\":\"year=1991<br>week=%{x}<br>count=%{y}<extra></extra>\",\"legendgroup\":\"\",\"marker\":{\"color\":\"#636efa\",\"pattern\":{\"shape\":\"\"}},\"name\":\"\",\"offsetgroup\":\"\",\"orientation\":\"v\",\"showlegend\":false,\"textposition\":\"auto\",\"x\":[1,2,3,4,5,6,7,8,9,10,11,12,13,14,15,16,17,18,19,20,21,22,23,24,25,26,27,28,29,30],\"xaxis\":\"x\",\"y\":[0,14,12,25,25,26,21,27,13,26,35,15,25,24,26,25,15,16,23,18,11,13,16,5,11,4,1,0,2,2],\"yaxis\":\"y\",\"type\":\"bar\"}],\"name\":\"1991\"},{\"data\":[{\"alignmentgroup\":\"True\",\"hovertemplate\":\"year=1992<br>week=%{x}<br>count=%{y}<extra></extra>\",\"legendgroup\":\"\",\"marker\":{\"color\":\"#636efa\",\"pattern\":{\"shape\":\"\"}},\"name\":\"\",\"offsetgroup\":\"\",\"orientation\":\"v\",\"showlegend\":false,\"textposition\":\"auto\",\"x\":[1,2,3,4,5,6,7,8,9,10,11,12,13,14,15,16,17,18,19,20,21,22,23,24,25,26,27,28,29,30,31,32,33,34,35,36,37,38,39,40,41],\"xaxis\":\"x\",\"y\":[13,20,19,15,15,18,19,25,14,11,22,12,20,15,17,10,16,15,13,105,8,5,1,4,4,5,2,3,0,2,0,0,1,0,0,0,1,0,0,0,2],\"yaxis\":\"y\",\"type\":\"bar\"}],\"name\":\"1992\"},{\"data\":[{\"alignmentgroup\":\"True\",\"hovertemplate\":\"year=1993<br>week=%{x}<br>count=%{y}<extra></extra>\",\"legendgroup\":\"\",\"marker\":{\"color\":\"#636efa\",\"pattern\":{\"shape\":\"\"}},\"name\":\"\",\"offsetgroup\":\"\",\"orientation\":\"v\",\"showlegend\":false,\"textposition\":\"auto\",\"x\":[1,2,3,4,5,6,7,8,9,10,11,12,13,14,15,16,17,18,19,20,21,22,23,24,25,26,27,28,29,30,31,32,33,34,35,36,37,38,39,40],\"xaxis\":\"x\",\"y\":[8,22,19,17,18,9,11,18,19,23,27,24,10,9,15,13,21,7,10,69,4,11,10,7,8,6,5,4,3,4,2,1,1,0,1,0,0,1,1,1],\"yaxis\":\"y\",\"type\":\"bar\"}],\"name\":\"1993\"},{\"data\":[{\"alignmentgroup\":\"True\",\"hovertemplate\":\"year=1994<br>week=%{x}<br>count=%{y}<extra></extra>\",\"legendgroup\":\"\",\"marker\":{\"color\":\"#636efa\",\"pattern\":{\"shape\":\"\"}},\"name\":\"\",\"offsetgroup\":\"\",\"orientation\":\"v\",\"showlegend\":false,\"textposition\":\"auto\",\"x\":[1,2,3,4,5,6,7,8,9,10,11,12,13,14,15,16,17,18,19,20,21,22,23,24,25,26,27,28,29,30,31,32,33,34,35,36,37,38,39,40,41,42,43,44,45],\"xaxis\":\"x\",\"y\":[5,14,19,15,16,23,17,15,13,21,16,13,15,20,15,16,11,10,14,70,11,9,8,6,5,8,4,3,5,3,3,2,1,1,1,1,0,0,0,0,1,0,0,1,1],\"yaxis\":\"y\",\"type\":\"bar\"}],\"name\":\"1994\"},{\"data\":[{\"alignmentgroup\":\"True\",\"hovertemplate\":\"year=1995<br>week=%{x}<br>count=%{y}<extra></extra>\",\"legendgroup\":\"\",\"marker\":{\"color\":\"#636efa\",\"pattern\":{\"shape\":\"\"}},\"name\":\"\",\"offsetgroup\":\"\",\"orientation\":\"v\",\"showlegend\":false,\"textposition\":\"auto\",\"x\":[1,2,3,4,5,6,7,8,9,10,11,12,13,14,15,16,17,18,19,20,21,22,23,24,25,26,27,28,29,30,31,32,33,34,35,36,37,38,39,40,41,42,43,44,45],\"xaxis\":\"x\",\"y\":[10,18,13,15,14,10,23,15,24,20,18,14,15,16,16,12,10,18,9,65,7,8,5,2,4,4,9,3,5,7,2,3,2,2,2,1,0,2,0,1,1,1,0,2,2],\"yaxis\":\"y\",\"type\":\"bar\"}],\"name\":\"1995\"},{\"data\":[{\"alignmentgroup\":\"True\",\"hovertemplate\":\"year=1996<br>week=%{x}<br>count=%{y}<extra></extra>\",\"legendgroup\":\"\",\"marker\":{\"color\":\"#636efa\",\"pattern\":{\"shape\":\"\"}},\"name\":\"\",\"offsetgroup\":\"\",\"orientation\":\"v\",\"showlegend\":false,\"textposition\":\"auto\",\"x\":[1,2,3,4,5,6,7,8,9,10,11,12,13,14,15,16,17,18,19,20,21,22,23,24,25,26,27,28,29,30,31,32,33,34,35,36,37,38,39,40,41,42,43,44,45,46,47,48,49,50,51,52,53,54,55],\"xaxis\":\"x\",\"y\":[6,11,15,13,21,6,14,21,12,15,13,15,16,19,14,9,7,15,9,95,4,4,3,3,1,5,1,4,2,3,1,4,4,3,0,4,0,3,3,1,0,1,0,1,0,1,1,0,1,0,0,0,0,1,1],\"yaxis\":\"y\",\"type\":\"bar\"}],\"name\":\"1996\"},{\"data\":[{\"alignmentgroup\":\"True\",\"hovertemplate\":\"year=1997<br>week=%{x}<br>count=%{y}<extra></extra>\",\"legendgroup\":\"\",\"marker\":{\"color\":\"#636efa\",\"pattern\":{\"shape\":\"\"}},\"name\":\"\",\"offsetgroup\":\"\",\"orientation\":\"v\",\"showlegend\":false,\"textposition\":\"auto\",\"x\":[1,2,3,4,5,6,7,8,9,10,11,12,13,14,15,16,17,18,19,20,21,22,23,24,25,26,27,28,29,30,31,32,33,34,35,36,37,38,39,40,41,42,43,44,45,46,47,48,49,50,51,52,53,54,55,56,57,58,59,60],\"xaxis\":\"x\",\"y\":[5,13,24,20,17,10,11,16,18,15,16,15,10,14,20,12,18,17,19,69,4,5,4,2,7,4,3,4,3,5,2,1,2,2,2,0,0,1,1,2,2,2,1,0,0,0,0,1,0,0,0,0,0,0,1,0,1,0,0,1],\"yaxis\":\"y\",\"type\":\"bar\"}],\"name\":\"1997\"},{\"data\":[{\"alignmentgroup\":\"True\",\"hovertemplate\":\"year=1998<br>week=%{x}<br>count=%{y}<extra></extra>\",\"legendgroup\":\"\",\"marker\":{\"color\":\"#636efa\",\"pattern\":{\"shape\":\"\"}},\"name\":\"\",\"offsetgroup\":\"\",\"orientation\":\"v\",\"showlegend\":false,\"textposition\":\"auto\",\"x\":[1,2,3,4,5,6,7,8,9,10,11,12,13,14,15,16,17,18,19,20,21,22,23,24,25,26,27,28,29,30,31,32,33,34,35,36,37,38,39,40,41,42,43,44,45,46,47,48,49,50,51,52,53,54,55,56,57,58,59,60,61,62,63,64,65,66,67,68,69],\"xaxis\":\"x\",\"y\":[13,18,12,63,16,14,18,10,10,17,12,14,23,14,12,19,8,10,17,79,4,4,4,9,2,2,4,4,0,1,4,2,2,0,1,1,0,0,0,0,2,2,2,0,0,2,1,0,0,0,0,2,0,0,0,1,0,0,0,0,0,0,0,0,1,0,0,0,1],\"yaxis\":\"y\",\"type\":\"bar\"}],\"name\":\"1998\"},{\"data\":[{\"alignmentgroup\":\"True\",\"hovertemplate\":\"year=1999<br>week=%{x}<br>count=%{y}<extra></extra>\",\"legendgroup\":\"\",\"marker\":{\"color\":\"#636efa\",\"pattern\":{\"shape\":\"\"}},\"name\":\"\",\"offsetgroup\":\"\",\"orientation\":\"v\",\"showlegend\":false,\"textposition\":\"auto\",\"x\":[1,2,3,4,5,6,7,8,9,10,11,12,13,14,15,16,17,18,19,20,21,22,23,24,25,26,27,28,29,30,31,32,33,34,35,36,37,38,39,40,41,42,43,44,45,46,47,48,49,50,51,52,53],\"xaxis\":\"x\",\"y\":[7,11,12,17,16,18,10,13,15,30,15,19,14,23,12,17,20,11,11,70,8,6,2,2,7,2,2,9,2,2,3,2,2,1,2,0,1,0,0,1,0,0,0,0,0,0,0,1,0,0,0,0,1],\"yaxis\":\"y\",\"type\":\"bar\"}],\"name\":\"1999\"},{\"data\":[{\"alignmentgroup\":\"True\",\"hovertemplate\":\"year=2000<br>week=%{x}<br>count=%{y}<extra></extra>\",\"legendgroup\":\"\",\"marker\":{\"color\":\"#636efa\",\"pattern\":{\"shape\":\"\"}},\"name\":\"\",\"offsetgroup\":\"\",\"orientation\":\"v\",\"showlegend\":false,\"textposition\":\"auto\",\"x\":[1,2,3,4,5,6,7,8,9,10,11,12,13,14,15,16,17,18,19,20,21,22,23,24,25,26,27,28,29,30,31,32,33,34,35,36,37,38,39,40,41,42,43,44,45,46,47,48,49,50,51,52,53,54,55,56,57,58],\"xaxis\":\"x\",\"y\":[12,13,14,15,19,15,13,10,15,9,18,14,16,13,13,10,17,7,15,85,9,6,3,7,3,6,4,3,2,1,1,8,1,3,1,1,2,0,1,1,1,1,0,1,0,0,0,0,0,0,0,0,1,0,1,0,1,1],\"yaxis\":\"y\",\"type\":\"bar\"}],\"name\":\"2000\"},{\"data\":[{\"alignmentgroup\":\"True\",\"hovertemplate\":\"year=2001<br>week=%{x}<br>count=%{y}<extra></extra>\",\"legendgroup\":\"\",\"marker\":{\"color\":\"#636efa\",\"pattern\":{\"shape\":\"\"}},\"name\":\"\",\"offsetgroup\":\"\",\"orientation\":\"v\",\"showlegend\":false,\"textposition\":\"auto\",\"x\":[1,2,3,4,5,6,7,8,9,10,11,12,13,14,15,16,17,18,19,20,21,22,23,24,25,26,27,28,29,30,31,32,33,34,35,36,37,38,39,40,41,42,43,44,45,46,47,48,49,50,51,52,53,54,55,56],\"xaxis\":\"x\",\"y\":[8,11,12,9,10,6,8,9,12,21,11,16,7,19,16,9,13,14,13,90,13,9,6,6,6,3,3,4,5,1,1,2,2,1,0,0,0,1,3,0,0,2,0,0,0,0,2,1,0,0,0,0,1,0,0,1],\"yaxis\":\"y\",\"type\":\"bar\"}],\"name\":\"2001\"},{\"data\":[{\"alignmentgroup\":\"True\",\"hovertemplate\":\"year=2002<br>week=%{x}<br>count=%{y}<extra></extra>\",\"legendgroup\":\"\",\"marker\":{\"color\":\"#636efa\",\"pattern\":{\"shape\":\"\"}},\"name\":\"\",\"offsetgroup\":\"\",\"orientation\":\"v\",\"showlegend\":false,\"textposition\":\"auto\",\"x\":[1,2,3,4,5,6,7,8,9,10,11,12,13,14,15,16,17,18,19,20,21,22,23,24,25,26,27,28,29,30,31,32,33,34,35,36,37,38,39,40,41,42,43,44,45,46,47,48,49,50,51,52,53,54],\"xaxis\":\"x\",\"y\":[9,10,13,15,15,9,13,14,10,5,15,13,12,11,11,9,11,14,16,106,8,4,5,8,5,4,4,2,2,3,4,2,1,2,3,0,0,2,1,0,2,1,0,0,1,1,0,0,1,0,0,0,1,1],\"yaxis\":\"y\",\"type\":\"bar\"}],\"name\":\"2002\"},{\"data\":[{\"alignmentgroup\":\"True\",\"hovertemplate\":\"year=2003<br>week=%{x}<br>count=%{y}<extra></extra>\",\"legendgroup\":\"\",\"marker\":{\"color\":\"#636efa\",\"pattern\":{\"shape\":\"\"}},\"name\":\"\",\"offsetgroup\":\"\",\"orientation\":\"v\",\"showlegend\":false,\"textposition\":\"auto\",\"x\":[1,2,3,4,5,6,7,8,9,10,11,12,13,14,15,16,17,18,19,20,21,22,23,24,25,26,27,28,29,30,31,32,33,34,35,36,37,38,39,40,41,42,43,44,45],\"xaxis\":\"x\",\"y\":[8,11,14,11,17,13,9,18,15,19,14,9,14,12,11,8,11,9,14,109,5,7,8,2,4,3,5,1,4,3,2,2,1,2,2,2,1,0,1,0,1,1,0,0,1],\"yaxis\":\"y\",\"type\":\"bar\"}],\"name\":\"2003\"},{\"data\":[{\"alignmentgroup\":\"True\",\"hovertemplate\":\"year=2004<br>week=%{x}<br>count=%{y}<extra></extra>\",\"legendgroup\":\"\",\"marker\":{\"color\":\"#636efa\",\"pattern\":{\"shape\":\"\"}},\"name\":\"\",\"offsetgroup\":\"\",\"orientation\":\"v\",\"showlegend\":false,\"textposition\":\"auto\",\"x\":[1,2,3,4,5,6,7,8,9,10,11,12,13,14,15,16,17,18,19,20,21,22,23,24,25,26,27,28,29,30,31,32,33,34,35,36,37,38,39,40,41,42,43,44,45,46,47,48,49,50,51,52,53,54],\"xaxis\":\"x\",\"y\":[8,9,12,14,21,12,11,9,11,15,10,15,14,16,13,16,14,22,8,78,9,7,4,2,5,5,5,6,2,6,0,4,1,0,1,1,0,1,2,1,1,0,2,0,2,0,0,0,0,1,1,0,0,1],\"yaxis\":\"y\",\"type\":\"bar\"}],\"name\":\"2004\"},{\"data\":[{\"alignmentgroup\":\"True\",\"hovertemplate\":\"year=2005<br>week=%{x}<br>count=%{y}<extra></extra>\",\"legendgroup\":\"\",\"marker\":{\"color\":\"#636efa\",\"pattern\":{\"shape\":\"\"}},\"name\":\"\",\"offsetgroup\":\"\",\"orientation\":\"v\",\"showlegend\":false,\"textposition\":\"auto\",\"x\":[1,2,3,4,5,6,7,8,9,10,11,12,13,14,15,16,17,18,19,20,21,22,23,24,25,26,27,28,29,30,31,32,33,34,35,36,37,38,39,40,41,42,43,44,45,46],\"xaxis\":\"x\",\"y\":[27,19,11,17,18,11,20,15,16,10,21,13,15,14,9,13,11,10,17,83,8,8,9,3,3,3,7,4,3,1,4,3,0,2,1,2,0,5,1,0,1,0,0,0,0,3],\"yaxis\":\"y\",\"type\":\"bar\"}],\"name\":\"2005\"},{\"data\":[{\"alignmentgroup\":\"True\",\"hovertemplate\":\"year=2006<br>week=%{x}<br>count=%{y}<extra></extra>\",\"legendgroup\":\"\",\"marker\":{\"color\":\"#636efa\",\"pattern\":{\"shape\":\"\"}},\"name\":\"\",\"offsetgroup\":\"\",\"orientation\":\"v\",\"showlegend\":false,\"textposition\":\"auto\",\"x\":[1,2,3,4,5,6,7,8,9,10,11,12,13,14,15,16,17,18,19,20,21,22,23,24,25,26,27,28,29,30,31,32,33,34,35,36,37,38,39,40,41,42,43,44,45,46,47,48,49,50,51,52,53,54,55,56,57,58,59,60,61,62],\"xaxis\":\"x\",\"y\":[46,33,26,17,19,18,17,6,8,8,15,16,9,17,14,19,10,14,18,64,7,5,4,5,5,8,2,9,2,2,6,1,2,1,0,2,2,2,3,1,0,3,2,0,1,1,0,0,0,0,0,0,0,0,0,0,0,0,0,0,0,1],\"yaxis\":\"y\",\"type\":\"bar\"}],\"name\":\"2006\"},{\"data\":[{\"alignmentgroup\":\"True\",\"hovertemplate\":\"year=2007<br>week=%{x}<br>count=%{y}<extra></extra>\",\"legendgroup\":\"\",\"marker\":{\"color\":\"#636efa\",\"pattern\":{\"shape\":\"\"}},\"name\":\"\",\"offsetgroup\":\"\",\"orientation\":\"v\",\"showlegend\":false,\"textposition\":\"auto\",\"x\":[1,2,3,4,5,6,7,8,9,10,11,12,13,14,15,16,17,18,19,20,21,22,23,24,25,26,27,28,29,30,31,32,33,34,35,36,37,38,39,40,41,42,43,44,45,46,47,48,49,50,51,52,53,54,55,56,57,58,59,60,61,62,63,64],\"xaxis\":\"x\",\"y\":[43,36,18,18,11,19,12,11,14,10,8,15,14,10,12,17,13,12,12,75,9,12,10,7,4,6,2,4,5,6,0,0,3,0,3,2,1,0,0,2,0,0,1,0,2,0,0,0,0,0,1,0,0,0,0,0,0,1,0,0,0,0,0,1],\"yaxis\":\"y\",\"type\":\"bar\"}],\"name\":\"2007\"},{\"data\":[{\"alignmentgroup\":\"True\",\"hovertemplate\":\"year=2008<br>week=%{x}<br>count=%{y}<extra></extra>\",\"legendgroup\":\"\",\"marker\":{\"color\":\"#636efa\",\"pattern\":{\"shape\":\"\"}},\"name\":\"\",\"offsetgroup\":\"\",\"orientation\":\"v\",\"showlegend\":false,\"textposition\":\"auto\",\"x\":[1,2,3,4,5,6,7,8,9,10,11,12,13,14,15,16,17,18,19,20,21,22,23,24,25,26,27,28,29,30,31,32,33,34,35,36,37,38,39,40,41,42,43,44,45,46,47,48,49,50],\"xaxis\":\"x\",\"y\":[91,32,27,15,15,7,11,12,16,14,17,11,12,13,15,8,23,11,11,72,8,6,7,5,7,5,7,4,2,5,2,2,1,0,4,2,0,1,2,1,1,0,0,0,0,0,2,2,1,1],\"yaxis\":\"y\",\"type\":\"bar\"}],\"name\":\"2008\"},{\"data\":[{\"alignmentgroup\":\"True\",\"hovertemplate\":\"year=2009<br>week=%{x}<br>count=%{y}<extra></extra>\",\"legendgroup\":\"\",\"marker\":{\"color\":\"#636efa\",\"pattern\":{\"shape\":\"\"}},\"name\":\"\",\"offsetgroup\":\"\",\"orientation\":\"v\",\"showlegend\":false,\"textposition\":\"auto\",\"x\":[1,2,3,4,5,6,7,8,9,10,11,12,13,14,15,16,17,18,19,20,21,22,23,24,25,26,27,28,29,30,31,32,33,34,35,36,37,38,39,40,41,42,43,44,45,46,47,48,49,50,51,52,53,54,55,56,57,58,59,60,61,62,63,64,65,66,67,68,69,70,71,72,73,74,75,76],\"xaxis\":\"x\",\"y\":[110,43,28,12,11,17,16,16,19,19,18,9,11,8,16,13,13,20,10,63,7,9,8,8,3,4,6,3,1,2,6,0,1,2,2,1,2,0,3,1,1,0,0,0,0,1,0,0,2,0,1,0,0,0,0,0,0,0,0,0,0,0,0,0,0,0,0,0,0,0,0,0,0,0,0,1],\"yaxis\":\"y\",\"type\":\"bar\"}],\"name\":\"2009\"},{\"data\":[{\"alignmentgroup\":\"True\",\"hovertemplate\":\"year=2010<br>week=%{x}<br>count=%{y}<extra></extra>\",\"legendgroup\":\"\",\"marker\":{\"color\":\"#636efa\",\"pattern\":{\"shape\":\"\"}},\"name\":\"\",\"offsetgroup\":\"\",\"orientation\":\"v\",\"showlegend\":false,\"textposition\":\"auto\",\"x\":[1,2,3,4,5,6,7,8,9,10,11,12,13,14,15,16,17,18,19,20,21,22,23,24,25,26,27,28,29,30,31,32,33,34,35,36,37,38,39,40,41,42,43,44,45,46,47,48,49,50,51,52,53,54,55,56,57,58,59,60],\"xaxis\":\"x\",\"y\":[186,36,23,13,18,14,11,8,5,11,15,8,18,10,14,14,8,21,12,70,10,4,3,5,7,3,5,6,5,4,4,1,2,4,0,0,0,1,0,2,0,0,1,1,0,0,0,0,0,1,0,0,0,1,0,1,1,0,0,1],\"yaxis\":\"y\",\"type\":\"bar\"}],\"name\":\"2010\"},{\"data\":[{\"alignmentgroup\":\"True\",\"hovertemplate\":\"year=2011<br>week=%{x}<br>count=%{y}<extra></extra>\",\"legendgroup\":\"\",\"marker\":{\"color\":\"#636efa\",\"pattern\":{\"shape\":\"\"}},\"name\":\"\",\"offsetgroup\":\"\",\"orientation\":\"v\",\"showlegend\":false,\"textposition\":\"auto\",\"x\":[1,2,3,4,5,6,7,8,9,10,11,12,13,14,15,16,17,18,19,20,21,22,23,24,25,26,27,28,29,30,31,32,33,34,35,36,37,38,39,40,41,42,43,44,45,46,47,48,49,50,51,52,53],\"xaxis\":\"x\",\"y\":[185,52,22,16,13,14,10,10,13,13,11,15,8,10,13,9,7,22,14,68,9,6,8,10,4,6,6,2,4,4,4,1,5,3,1,3,0,2,2,0,0,0,0,0,0,0,1,2,0,1,0,0,1],\"yaxis\":\"y\",\"type\":\"bar\"}],\"name\":\"2011\"},{\"data\":[{\"alignmentgroup\":\"True\",\"hovertemplate\":\"year=2012<br>week=%{x}<br>count=%{y}<extra></extra>\",\"legendgroup\":\"\",\"marker\":{\"color\":\"#636efa\",\"pattern\":{\"shape\":\"\"}},\"name\":\"\",\"offsetgroup\":\"\",\"orientation\":\"v\",\"showlegend\":false,\"textposition\":\"auto\",\"x\":[1,2,3,4,5,6,7,8,9,10,11,12,13,14,15,16,17,18,19,20,21,22,23,24,25,26,27,28,29,30,31,32,33,34,35,36,37,38,39,40,41,42,43,44,45,46,47,48,49,50,51,52,53,54,55,56,57,58,59,60,61,62,63,64,65,66,67,68],\"xaxis\":\"x\",\"y\":[106,30,15,12,6,13,10,9,15,10,14,10,7,6,13,6,9,13,11,72,2,11,9,7,7,9,2,3,5,2,2,4,1,3,2,3,4,2,3,1,1,3,3,1,1,0,0,0,1,1,0,1,0,0,0,0,0,0,0,0,0,0,0,0,1,0,0,1],\"yaxis\":\"y\",\"type\":\"bar\"}],\"name\":\"2012\"},{\"data\":[{\"alignmentgroup\":\"True\",\"hovertemplate\":\"year=2013<br>week=%{x}<br>count=%{y}<extra></extra>\",\"legendgroup\":\"\",\"marker\":{\"color\":\"#636efa\",\"pattern\":{\"shape\":\"\"}},\"name\":\"\",\"offsetgroup\":\"\",\"orientation\":\"v\",\"showlegend\":false,\"textposition\":\"auto\",\"x\":[1,2,3,4,5,6,7,8,9,10,11,12,13,14,15,16,17,18,19,20,21,22,23,24,25,26,27,28,29,30,31,32,33,34,35,36,37,38,39,40,41,42,43,44,45,46,47,48,49,50,51,52,53,54,55,56,57,58,59,60,61,62,63,64,65,66,67,68],\"xaxis\":\"x\",\"y\":[98,39,22,9,12,11,8,14,16,9,7,11,14,7,15,15,3,6,8,81,10,10,3,8,4,8,6,3,6,3,1,2,5,1,2,3,0,0,2,1,0,2,0,2,0,1,1,1,1,1,0,0,0,1,0,1,1,0,1,0,0,1,0,0,0,0,1,1],\"yaxis\":\"y\",\"type\":\"bar\"}],\"name\":\"2013\"},{\"data\":[{\"alignmentgroup\":\"True\",\"hovertemplate\":\"year=2014<br>week=%{x}<br>count=%{y}<extra></extra>\",\"legendgroup\":\"\",\"marker\":{\"color\":\"#636efa\",\"pattern\":{\"shape\":\"\"}},\"name\":\"\",\"offsetgroup\":\"\",\"orientation\":\"v\",\"showlegend\":false,\"textposition\":\"auto\",\"x\":[1,2,3,4,5,6,7,8,9,10,11,12,13,14,15,16,17,18,19,20,21,22,23,24,25,26,27,28,29,30,31,32,33,34,35,36,37,38,39,40,41,42,43,44,45,46,47,48,49,50,51,52,53,54,55,56,57,58,59,60,61,62,63,64,65,66,67,68,69,70,71,72,73,74,75,76,77,78,79,80,81,82,83,84,85,86,87],\"xaxis\":\"x\",\"y\":[77,27,31,9,11,13,9,13,11,11,13,11,8,8,9,9,11,17,15,75,10,7,5,3,7,4,4,3,4,1,2,3,4,2,1,4,2,1,2,0,0,1,2,1,0,0,1,1,0,0,0,0,2,0,0,0,1,0,1,0,1,0,0,0,0,0,0,1,0,0,0,0,0,0,0,0,0,0,1,0,0,0,0,0,0,0,1],\"yaxis\":\"y\",\"type\":\"bar\"}],\"name\":\"2014\"},{\"data\":[{\"alignmentgroup\":\"True\",\"hovertemplate\":\"year=2015<br>week=%{x}<br>count=%{y}<extra></extra>\",\"legendgroup\":\"\",\"marker\":{\"color\":\"#636efa\",\"pattern\":{\"shape\":\"\"}},\"name\":\"\",\"offsetgroup\":\"\",\"orientation\":\"v\",\"showlegend\":false,\"textposition\":\"auto\",\"x\":[1,2,3,4,5,6,7,8,9,10,11,12,13,14,15,16,17,18,19,20,21,22,23,24,25,26,27,28,29,30,31,32,33,34,35,36,37,38,39,40,41,42,43,44,45,46,47,48,49,50,51,52,53,54,55,56,57,58],\"xaxis\":\"x\",\"y\":[101,36,24,17,11,15,11,13,9,10,9,12,10,11,12,11,12,15,8,66,5,8,6,4,8,4,4,0,4,5,5,4,1,3,3,4,2,0,1,1,3,2,1,1,0,1,2,0,0,1,0,0,1,1,1,0,0,1],\"yaxis\":\"y\",\"type\":\"bar\"}],\"name\":\"2015\"},{\"data\":[{\"alignmentgroup\":\"True\",\"hovertemplate\":\"year=2016<br>week=%{x}<br>count=%{y}<extra></extra>\",\"legendgroup\":\"\",\"marker\":{\"color\":\"#636efa\",\"pattern\":{\"shape\":\"\"}},\"name\":\"\",\"offsetgroup\":\"\",\"orientation\":\"v\",\"showlegend\":false,\"textposition\":\"auto\",\"x\":[1,2,3,4,5,6,7,8,9,10,11,12,13,14,15,16,17,18,19,20,21,22,23,24,25,26,27,28,29,30,31,32,33,34,35,36,37,38,39,40,41,42,43,44,45,46,47,48,49,50,51,52,53,54,55,56],\"xaxis\":\"x\",\"y\":[108,38,21,12,14,13,11,14,13,15,12,14,9,18,12,14,13,14,14,56,5,6,5,8,4,11,7,2,1,3,3,3,0,5,3,5,2,1,3,2,2,1,0,2,2,1,0,2,0,0,1,4,0,0,0,1],\"yaxis\":\"y\",\"type\":\"bar\"}],\"name\":\"2016\"},{\"data\":[{\"alignmentgroup\":\"True\",\"hovertemplate\":\"year=2017<br>week=%{x}<br>count=%{y}<extra></extra>\",\"legendgroup\":\"\",\"marker\":{\"color\":\"#636efa\",\"pattern\":{\"shape\":\"\"}},\"name\":\"\",\"offsetgroup\":\"\",\"orientation\":\"v\",\"showlegend\":false,\"textposition\":\"auto\",\"x\":[1,2,3,4,5,6,7,8,9,10,11,12,13,14,15,16,17,18,19,20,21,22,23,24,25,26,27,28,29,30,31,32,33,34,35,36,37,38,39,40,41,42,43,44,45,46,47,48,49,50,51,52],\"xaxis\":\"x\",\"y\":[137,62,27,27,12,7,10,13,7,11,12,14,11,16,10,15,9,13,16,42,9,11,9,2,5,5,4,6,3,2,4,1,5,5,1,2,2,0,5,0,2,0,2,1,1,0,0,2,1,1,0,5],\"yaxis\":\"y\",\"type\":\"bar\"}],\"name\":\"2017\"},{\"data\":[{\"alignmentgroup\":\"True\",\"hovertemplate\":\"year=2018<br>week=%{x}<br>count=%{y}<extra></extra>\",\"legendgroup\":\"\",\"marker\":{\"color\":\"#636efa\",\"pattern\":{\"shape\":\"\"}},\"name\":\"\",\"offsetgroup\":\"\",\"orientation\":\"v\",\"showlegend\":false,\"textposition\":\"auto\",\"x\":[1,2,3,4,5,6,7,8,9,10,11,12,13,14,15,16,17,18,19,20,21,22,23,24,25,26,27,28,29,30,31,32,33,34,35,36,37,38,39,40,41,42,43,44,45,46,47,48,49,50,51,52,53,54,55,56,57,58,59],\"xaxis\":\"x\",\"y\":[216,66,48,27,26,22,15,20,14,12,7,16,8,14,10,6,7,11,12,50,11,11,9,6,4,4,4,2,7,3,1,1,1,2,3,3,2,2,1,3,2,2,0,2,1,1,0,1,0,0,0,5,0,1,0,0,1,0,1],\"yaxis\":\"y\",\"type\":\"bar\"}],\"name\":\"2018\"},{\"data\":[{\"alignmentgroup\":\"True\",\"hovertemplate\":\"year=2019<br>week=%{x}<br>count=%{y}<extra></extra>\",\"legendgroup\":\"\",\"marker\":{\"color\":\"#636efa\",\"pattern\":{\"shape\":\"\"}},\"name\":\"\",\"offsetgroup\":\"\",\"orientation\":\"v\",\"showlegend\":false,\"textposition\":\"auto\",\"x\":[1,2,3,4,5,6,7,8,9,10,11,12,13,14,15,16,17,18,19,20,21,22,23,24,25,26,27,28,29,30,31,32,33,34,35,36,37,38,39,40,41,42,43,44,45,46,47,48,49,50,51,52,53],\"xaxis\":\"x\",\"y\":[175,60,40,29,15,24,13,14,12,10,18,10,14,12,10,19,11,6,10,44,7,4,6,1,7,6,9,3,4,1,3,2,3,0,3,1,1,2,0,1,0,1,2,1,2,0,0,3,0,1,2,7,1],\"yaxis\":\"y\",\"type\":\"bar\"}],\"name\":\"2019\"},{\"data\":[{\"alignmentgroup\":\"True\",\"hovertemplate\":\"year=2020<br>week=%{x}<br>count=%{y}<extra></extra>\",\"legendgroup\":\"\",\"marker\":{\"color\":\"#636efa\",\"pattern\":{\"shape\":\"\"}},\"name\":\"\",\"offsetgroup\":\"\",\"orientation\":\"v\",\"showlegend\":false,\"textposition\":\"auto\",\"x\":[1,2,3,4,5,6,7,8,9,10,11,12,13,14,15,16,17,18,19,20,21,22,23,24,25,26,27,28,29,30,31,32,33,34,35,36,37,38,39,40,41,42,43,44,45,46,47,48,49,50,51,52,53,54,55,56,57,58,59,60,61],\"xaxis\":\"x\",\"y\":[329,97,29,23,14,16,21,13,11,15,15,9,10,8,15,9,8,14,13,42,10,7,4,3,8,7,3,4,1,3,2,3,2,2,2,3,4,4,2,0,1,3,0,2,2,2,1,0,1,1,1,2,0,1,1,0,0,0,0,0,1],\"yaxis\":\"y\",\"type\":\"bar\"}],\"name\":\"2020\"},{\"data\":[{\"alignmentgroup\":\"True\",\"hovertemplate\":\"year=2021<br>week=%{x}<br>count=%{y}<extra></extra>\",\"legendgroup\":\"\",\"marker\":{\"color\":\"#636efa\",\"pattern\":{\"shape\":\"\"}},\"name\":\"\",\"offsetgroup\":\"\",\"orientation\":\"v\",\"showlegend\":false,\"textposition\":\"auto\",\"x\":[1,2,3,4,5,6,7,8,9,10,11,12,13,14,15,16,17,18,19,20,21,22,23,24,25,26,27,28,29,30,31,32,33,34,35,36,37,38,39,40,41,42,43,44,45,46,47,48,49,50,51,52,53,54,55,56,57,58,59,60,61,62,63,64,65,66,67,68,69,70,71,72,73,74,75,76,77,78,79,80,81,82,83,84,85,86,87,88,89,90],\"xaxis\":\"x\",\"y\":[238,63,35,30,24,11,16,16,12,6,9,14,14,14,11,8,14,8,5,43,5,10,8,6,6,2,5,4,7,2,2,2,0,3,1,1,0,2,2,1,1,2,1,1,1,1,0,0,0,0,1,4,0,0,0,1,0,0,0,0,0,1,0,0,0,0,0,0,0,0,0,0,0,0,0,0,0,0,0,0,0,0,0,0,0,0,0,0,0,1],\"yaxis\":\"y\",\"type\":\"bar\"}],\"name\":\"2021\"}]);\n                        }).then(function(){\n                            \nvar gd = document.getElementById('29c800da-c4f0-46a8-84d8-32c3a6e2e5a3');\nvar x = new MutationObserver(function (mutations, observer) {{\n        var display = window.getComputedStyle(gd).display;\n        if (!display || display === 'none') {{\n            console.log([gd, 'removed!']);\n            Plotly.purge(gd);\n            observer.disconnect();\n        }}\n}});\n\n// Listen for the removal of the full notebook cells\nvar notebookContainer = gd.closest('#notebook-container');\nif (notebookContainer) {{\n    x.observe(notebookContainer, {childList: true});\n}}\n\n// Listen for the clearing of the current output cell\nvar outputEl = gd.closest('.output');\nif (outputEl) {{\n    x.observe(outputEl, {childList: true});\n}}\n\n                        })                };                });            </script>        </div>"
     },
     "metadata": {},
     "output_type": "display_data"
    }
   ],
   "source": [
    "tmp_year_list = []\n",
    "for year in sorted(df.date.dt.year.unique(), reverse=False):\n",
    "    df_tmp = df[df[\"date\"].dt.year == year]\n",
    "    max_weeks_on_board_count = df_tmp.groupby(by=[\"artist\", \"song\"])[\"weeks-on-board\"].max().value_counts()\n",
    "    max_weeks_on_board_count = max_weeks_on_board_count.reindex(\n",
    "                list(range(1, max_weeks_on_board_count.index.max() + 1)),\n",
    "                fill_value=0\n",
    "            )\n",
    "\n",
    "    for week, count in max_weeks_on_board_count.items():\n",
    "        tmp_year_list.append((year, week, count))\n",
    "\n",
    "weeks_on_board_year = pd.DataFrame(data=tmp_year_list, columns=[\"year\", \"week\", \"count\"])\n",
    "weeks_on_board_year = weeks_on_board_year.sort_values([\"year\", \"week\"], ascending=True)\n",
    "px.bar(\n",
    "    weeks_on_board_year,\n",
    "    x=\"week\",\n",
    "    y=\"count\",\n",
    "    animation_frame=\"year\",\n",
    "    range_x=[0, 52],\n",
    "    range_y=[0, weeks_on_board_year[\"count\"].max()],\n",
    "    title=\"Weeks on board count by year\"\n",
    ")"
   ]
  },
  {
   "cell_type": "code",
   "execution_count": 110,
   "metadata": {
    "pycharm": {
     "name": "#%%\n"
    }
   },
   "outputs": [],
   "source": [
    "def show_music_of_artist(df, artist):\n",
    "    df_selected_artist = df[df[\"artist\"] == artist]\n",
    "    fig = go.Figure()\n",
    "\n",
    "    fig.update_yaxes(range=[100, 0])\n",
    "    fig.update_layout(\n",
    "        #title=f\"Songs ranking by {artist}\",\n",
    "        height=800,\n",
    "        xaxis_title=\"Date\",\n",
    "        yaxis_title=\"Classement\",\n",
    "        legend={\n",
    "            \"font\": {\"size\": 7},\n",
    "        }\n",
    "    )\n",
    "    for song in df_selected_artist[\"song\"].unique():\n",
    "        filtered_song_df = df_selected_artist[df_selected_artist[\"song\"] == song].copy()\n",
    "        tmp = go.Scatter()\n",
    "        fig.add_scatter(\n",
    "            x=filtered_song_df[\"date\"],\n",
    "            y=filtered_song_df[\"rank\"],\n",
    "            name=song,\n",
    "            mode='lines+markers',\n",
    "\n",
    "        )\n",
    "\n",
    "    return fig"
   ]
  },
  {
   "cell_type": "code",
   "execution_count": 111,
   "metadata": {
    "pycharm": {
     "name": "#%%\n"
    }
   },
   "outputs": [
    {
     "data": {
      "application/vnd.plotly.v1+json": {
       "data": [
        {
         "mode": "lines+markers",
         "name": "Thriller",
         "x": [
          "2020-11-14T00:00:00",
          "2019-11-09T00:00:00",
          "2018-11-10T00:00:00",
          "2015-11-21T00:00:00",
          "2014-11-15T00:00:00",
          "2013-11-16T00:00:00",
          "1984-05-12T00:00:00",
          "1984-05-05T00:00:00",
          "1984-04-28T00:00:00",
          "1984-04-21T00:00:00",
          "1984-04-14T00:00:00",
          "1984-04-07T00:00:00",
          "1984-03-31T00:00:00",
          "1984-03-24T00:00:00",
          "1984-03-17T00:00:00",
          "1984-03-10T00:00:00",
          "1984-03-03T00:00:00",
          "1984-02-25T00:00:00",
          "1984-02-18T00:00:00",
          "1984-02-11T00:00:00"
         ],
         "y": [
          48,
          44,
          31,
          45,
          35,
          42,
          99,
          96,
          77,
          69,
          47,
          23,
          15,
          11,
          6,
          4,
          4,
          5,
          7,
          20
         ],
         "type": "scatter"
        },
        {
         "mode": "lines+markers",
         "name": "Billie Jean",
         "x": [
          "2014-06-07T00:00:00",
          "1983-07-02T00:00:00",
          "1983-06-25T00:00:00",
          "1983-06-18T00:00:00",
          "1983-06-11T00:00:00",
          "1983-06-04T00:00:00",
          "1983-05-28T00:00:00",
          "1983-05-21T00:00:00",
          "1983-05-14T00:00:00",
          "1983-05-07T00:00:00",
          "1983-04-30T00:00:00",
          "1983-04-23T00:00:00",
          "1983-04-16T00:00:00",
          "1983-04-09T00:00:00",
          "1983-04-02T00:00:00",
          "1983-03-26T00:00:00",
          "1983-03-19T00:00:00",
          "1983-03-12T00:00:00",
          "1983-03-05T00:00:00",
          "1983-02-26T00:00:00",
          "1983-02-19T00:00:00",
          "1983-02-12T00:00:00",
          "1983-02-05T00:00:00",
          "1983-01-29T00:00:00",
          "1983-01-22T00:00:00"
         ],
         "y": [
          14,
          98,
          73,
          70,
          65,
          58,
          42,
          29,
          24,
          14,
          7,
          5,
          1,
          1,
          1,
          1,
          1,
          1,
          1,
          4,
          6,
          23,
          27,
          37,
          47
         ],
         "type": "scatter"
        },
        {
         "mode": "lines+markers",
         "name": "Slave To The Rhythm",
         "x": [
          "2014-06-07T00:00:00"
         ],
         "y": [
          45
         ],
         "type": "scatter"
        },
        {
         "mode": "lines+markers",
         "name": "One More Chance",
         "x": [
          "2004-01-03T00:00:00",
          "2003-12-27T00:00:00",
          "2003-12-20T00:00:00",
          "2003-12-13T00:00:00",
          "2003-12-06T00:00:00"
         ],
         "y": [
          100,
          100,
          98,
          83,
          95
         ],
         "type": "scatter"
        },
        {
         "mode": "lines+markers",
         "name": "Butterflies",
         "x": [
          "2002-03-30T00:00:00",
          "2002-03-23T00:00:00",
          "2002-03-16T00:00:00",
          "2002-03-09T00:00:00",
          "2002-03-02T00:00:00",
          "2002-02-23T00:00:00",
          "2002-02-16T00:00:00",
          "2002-02-09T00:00:00",
          "2002-02-02T00:00:00",
          "2002-01-26T00:00:00",
          "2002-01-19T00:00:00",
          "2002-01-12T00:00:00",
          "2002-01-05T00:00:00",
          "2001-12-29T00:00:00",
          "2001-12-22T00:00:00",
          "2001-12-15T00:00:00",
          "2001-12-08T00:00:00",
          "2001-12-01T00:00:00",
          "2001-11-24T00:00:00",
          "2001-11-17T00:00:00"
         ],
         "y": [
          54,
          52,
          34,
          35,
          29,
          21,
          17,
          15,
          14,
          14,
          16,
          17,
          19,
          21,
          26,
          30,
          32,
          33,
          49,
          60
         ],
         "type": "scatter"
        },
        {
         "mode": "lines+markers",
         "name": "You Rock My World",
         "x": [
          "2002-01-19T00:00:00",
          "2002-01-12T00:00:00",
          "2002-01-05T00:00:00",
          "2001-12-29T00:00:00",
          "2001-12-22T00:00:00",
          "2001-12-15T00:00:00",
          "2001-12-08T00:00:00",
          "2001-12-01T00:00:00",
          "2001-11-24T00:00:00",
          "2001-11-17T00:00:00",
          "2001-11-10T00:00:00",
          "2001-11-03T00:00:00",
          "2001-10-27T00:00:00",
          "2001-10-20T00:00:00",
          "2001-10-13T00:00:00",
          "2001-10-06T00:00:00",
          "2001-09-29T00:00:00",
          "2001-09-22T00:00:00",
          "2001-09-15T00:00:00",
          "2001-09-08T00:00:00"
         ],
         "y": [
          92,
          91,
          98,
          90,
          87,
          83,
          83,
          80,
          77,
          64,
          57,
          51,
          29,
          22,
          13,
          12,
          14,
          10,
          11,
          34
         ],
         "type": "scatter"
        },
        {
         "mode": "lines+markers",
         "name": "Stranger In Moscow",
         "x": [
          "1997-08-30T00:00:00",
          "1997-08-23T00:00:00"
         ],
         "y": [
          97,
          91
         ],
         "type": "scatter"
        },
        {
         "mode": "lines+markers",
         "name": "Blood On The Dance Floor",
         "x": [
          "1997-07-19T00:00:00",
          "1997-07-12T00:00:00",
          "1997-07-05T00:00:00",
          "1997-06-28T00:00:00",
          "1997-06-21T00:00:00",
          "1997-06-14T00:00:00",
          "1997-06-07T00:00:00",
          "1997-05-31T00:00:00",
          "1997-05-24T00:00:00",
          "1997-05-17T00:00:00",
          "1997-05-10T00:00:00"
         ],
         "y": [
          96,
          93,
          91,
          86,
          72,
          68,
          59,
          57,
          48,
          44,
          42
         ],
         "type": "scatter"
        },
        {
         "mode": "lines+markers",
         "name": "They Don't Care About Us",
         "x": [
          "1996-08-31T00:00:00",
          "1996-08-24T00:00:00",
          "1996-08-17T00:00:00",
          "1996-08-10T00:00:00",
          "1996-08-03T00:00:00",
          "1996-07-27T00:00:00",
          "1996-07-20T00:00:00",
          "1996-07-13T00:00:00",
          "1996-07-06T00:00:00",
          "1996-06-29T00:00:00",
          "1996-06-22T00:00:00",
          "1996-06-15T00:00:00",
          "1996-06-08T00:00:00"
         ],
         "y": [
          97,
          89,
          86,
          72,
          65,
          58,
          45,
          44,
          38,
          30,
          30,
          30,
          30
         ],
         "type": "scatter"
        },
        {
         "mode": "lines+markers",
         "name": "You Are Not Alone",
         "x": [
          "1996-01-13T00:00:00",
          "1996-01-06T00:00:00",
          "1995-12-30T00:00:00",
          "1995-12-23T00:00:00",
          "1995-12-16T00:00:00",
          "1995-12-09T00:00:00",
          "1995-12-02T00:00:00",
          "1995-11-25T00:00:00",
          "1995-11-18T00:00:00",
          "1995-11-11T00:00:00",
          "1995-11-04T00:00:00",
          "1995-10-28T00:00:00",
          "1995-10-21T00:00:00",
          "1995-10-14T00:00:00",
          "1995-10-07T00:00:00",
          "1995-09-30T00:00:00",
          "1995-09-23T00:00:00",
          "1995-09-16T00:00:00",
          "1995-09-09T00:00:00",
          "1995-09-02T00:00:00"
         ],
         "y": [
          59,
          56,
          57,
          54,
          51,
          42,
          36,
          28,
          19,
          13,
          8,
          5,
          5,
          3,
          3,
          3,
          2,
          2,
          2,
          1
         ],
         "type": "scatter"
        },
        {
         "mode": "lines+markers",
         "name": "Will You Be There",
         "x": [
          "1993-11-27T00:00:00",
          "1993-11-20T00:00:00",
          "1993-11-13T00:00:00",
          "1993-11-06T00:00:00",
          "1993-10-30T00:00:00",
          "1993-10-23T00:00:00",
          "1993-10-16T00:00:00",
          "1993-10-09T00:00:00",
          "1993-10-02T00:00:00",
          "1993-09-25T00:00:00",
          "1993-09-18T00:00:00",
          "1993-09-11T00:00:00",
          "1993-09-04T00:00:00",
          "1993-08-28T00:00:00",
          "1993-08-21T00:00:00",
          "1993-08-14T00:00:00",
          "1993-08-07T00:00:00",
          "1993-07-31T00:00:00",
          "1993-07-24T00:00:00",
          "1993-07-17T00:00:00"
         ],
         "y": [
          60,
          53,
          46,
          40,
          32,
          26,
          17,
          8,
          7,
          7,
          8,
          7,
          8,
          12,
          14,
          24,
          27,
          36,
          45,
          63
         ],
         "type": "scatter"
        },
        {
         "mode": "lines+markers",
         "name": "Who Is It",
         "x": [
          "1993-08-07T00:00:00",
          "1993-07-31T00:00:00",
          "1993-07-24T00:00:00",
          "1993-07-17T00:00:00",
          "1993-07-10T00:00:00",
          "1993-07-03T00:00:00",
          "1993-06-26T00:00:00",
          "1993-06-19T00:00:00",
          "1993-06-12T00:00:00",
          "1993-06-05T00:00:00",
          "1993-05-29T00:00:00",
          "1993-05-22T00:00:00",
          "1993-05-15T00:00:00",
          "1993-05-08T00:00:00",
          "1993-05-01T00:00:00",
          "1993-04-24T00:00:00",
          "1993-04-17T00:00:00",
          "1993-04-10T00:00:00"
         ],
         "y": [
          99,
          91,
          81,
          72,
          70,
          61,
          50,
          39,
          32,
          21,
          18,
          14,
          14,
          15,
          18,
          25,
          33,
          44
         ],
         "type": "scatter"
        },
        {
         "mode": "lines+markers",
         "name": "Heal The World",
         "x": [
          "1993-04-24T00:00:00",
          "1993-04-17T00:00:00",
          "1993-04-10T00:00:00",
          "1993-04-03T00:00:00",
          "1993-03-27T00:00:00",
          "1993-03-20T00:00:00",
          "1993-03-13T00:00:00",
          "1993-03-06T00:00:00",
          "1993-02-27T00:00:00",
          "1993-02-20T00:00:00",
          "1993-02-13T00:00:00",
          "1993-02-06T00:00:00",
          "1993-01-30T00:00:00",
          "1993-01-23T00:00:00",
          "1993-01-16T00:00:00",
          "1993-01-09T00:00:00",
          "1993-01-02T00:00:00",
          "1992-12-26T00:00:00",
          "1992-12-19T00:00:00",
          "1992-12-12T00:00:00"
         ],
         "y": [
          42,
          39,
          35,
          32,
          29,
          27,
          28,
          34,
          36,
          54,
          65,
          56,
          52,
          53,
          54,
          54,
          54,
          54,
          62,
          74
         ],
         "type": "scatter"
        },
        {
         "mode": "lines+markers",
         "name": "Jam",
         "x": [
          "1992-10-10T00:00:00",
          "1992-10-03T00:00:00",
          "1992-09-26T00:00:00",
          "1992-09-19T00:00:00",
          "1992-09-12T00:00:00",
          "1992-09-05T00:00:00",
          "1992-08-29T00:00:00",
          "1992-08-22T00:00:00",
          "1992-08-15T00:00:00",
          "1992-08-08T00:00:00",
          "1992-08-01T00:00:00",
          "1992-07-25T00:00:00",
          "1992-07-18T00:00:00",
          "1992-07-11T00:00:00"
         ],
         "y": [
          96,
          87,
          73,
          59,
          39,
          29,
          28,
          26,
          26,
          26,
          27,
          31,
          35,
          64
         ],
         "type": "scatter"
        },
        {
         "mode": "lines+markers",
         "name": "In The Closet",
         "x": [
          "1992-09-05T00:00:00",
          "1992-08-29T00:00:00",
          "1992-08-22T00:00:00",
          "1992-08-15T00:00:00",
          "1992-08-08T00:00:00",
          "1992-08-01T00:00:00",
          "1992-07-25T00:00:00",
          "1992-07-18T00:00:00",
          "1992-07-11T00:00:00",
          "1992-07-04T00:00:00",
          "1992-06-27T00:00:00",
          "1992-06-20T00:00:00",
          "1992-06-13T00:00:00",
          "1992-06-06T00:00:00",
          "1992-05-30T00:00:00",
          "1992-05-23T00:00:00",
          "1992-05-16T00:00:00",
          "1992-05-09T00:00:00",
          "1992-05-02T00:00:00",
          "1992-04-25T00:00:00"
         ],
         "y": [
          100,
          90,
          88,
          79,
          68,
          65,
          56,
          44,
          35,
          22,
          15,
          12,
          9,
          8,
          6,
          10,
          12,
          14,
          26,
          46
         ],
         "type": "scatter"
        },
        {
         "mode": "lines+markers",
         "name": "Remember The Time",
         "x": [
          "1992-06-06T00:00:00",
          "1992-05-30T00:00:00",
          "1992-05-23T00:00:00",
          "1992-05-16T00:00:00",
          "1992-05-09T00:00:00",
          "1992-05-02T00:00:00",
          "1992-04-25T00:00:00",
          "1992-04-18T00:00:00",
          "1992-04-11T00:00:00",
          "1992-04-04T00:00:00",
          "1992-03-28T00:00:00",
          "1992-03-21T00:00:00",
          "1992-03-14T00:00:00",
          "1992-03-07T00:00:00",
          "1992-02-29T00:00:00",
          "1992-02-22T00:00:00",
          "1992-02-15T00:00:00",
          "1992-02-08T00:00:00",
          "1992-02-01T00:00:00",
          "1992-01-25T00:00:00"
         ],
         "y": [
          52,
          49,
          45,
          34,
          27,
          23,
          16,
          11,
          4,
          3,
          3,
          4,
          3,
          3,
          4,
          5,
          8,
          13,
          20,
          53
         ],
         "type": "scatter"
        },
        {
         "mode": "lines+markers",
         "name": "Black Or White",
         "x": [
          "1992-04-04T00:00:00",
          "1992-03-28T00:00:00",
          "1992-03-21T00:00:00",
          "1992-03-14T00:00:00",
          "1992-03-07T00:00:00",
          "1992-02-29T00:00:00",
          "1992-02-22T00:00:00",
          "1992-02-15T00:00:00",
          "1992-02-08T00:00:00",
          "1992-02-01T00:00:00",
          "1992-01-25T00:00:00",
          "1992-01-18T00:00:00",
          "1992-01-11T00:00:00",
          "1992-01-04T00:00:00",
          "1991-12-28T00:00:00",
          "1991-12-21T00:00:00",
          "1991-12-14T00:00:00",
          "1991-12-07T00:00:00",
          "1991-11-30T00:00:00",
          "1991-11-23T00:00:00"
         ],
         "y": [
          83,
          75,
          71,
          61,
          52,
          35,
          29,
          20,
          15,
          9,
          4,
          1,
          1,
          1,
          1,
          1,
          1,
          1,
          3,
          35
         ],
         "type": "scatter"
        },
        {
         "mode": "lines+markers",
         "name": "Smooth Criminal",
         "x": [
          "1989-02-18T00:00:00",
          "1989-02-11T00:00:00",
          "1989-02-04T00:00:00",
          "1989-01-28T00:00:00",
          "1989-01-21T00:00:00",
          "1989-01-14T00:00:00",
          "1989-01-07T00:00:00",
          "1988-12-31T00:00:00",
          "1988-12-24T00:00:00",
          "1988-12-17T00:00:00",
          "1988-12-10T00:00:00",
          "1988-12-03T00:00:00",
          "1988-11-26T00:00:00",
          "1988-11-19T00:00:00",
          "1988-11-12T00:00:00"
         ],
         "y": [
          80,
          51,
          31,
          15,
          7,
          7,
          10,
          13,
          13,
          20,
          25,
          32,
          38,
          49,
          66
         ],
         "type": "scatter"
        },
        {
         "mode": "lines+markers",
         "name": "Another Part Of Me",
         "x": [
          "1988-10-15T00:00:00",
          "1988-10-08T00:00:00",
          "1988-10-01T00:00:00",
          "1988-09-24T00:00:00",
          "1988-09-17T00:00:00",
          "1988-09-10T00:00:00",
          "1988-09-03T00:00:00",
          "1988-08-27T00:00:00",
          "1988-08-20T00:00:00",
          "1988-08-13T00:00:00",
          "1988-08-06T00:00:00",
          "1988-07-30T00:00:00",
          "1988-07-23T00:00:00"
         ],
         "y": [
          96,
          83,
          45,
          30,
          12,
          11,
          12,
          17,
          20,
          25,
          31,
          43,
          54
         ],
         "type": "scatter"
        },
        {
         "mode": "lines+markers",
         "name": "Dirty Diana",
         "x": [
          "1988-08-06T00:00:00",
          "1988-07-30T00:00:00",
          "1988-07-23T00:00:00",
          "1988-07-16T00:00:00",
          "1988-07-09T00:00:00",
          "1988-07-02T00:00:00",
          "1988-06-25T00:00:00",
          "1988-06-18T00:00:00",
          "1988-06-11T00:00:00",
          "1988-06-04T00:00:00",
          "1988-05-28T00:00:00",
          "1988-05-21T00:00:00",
          "1988-05-14T00:00:00",
          "1988-05-07T00:00:00"
         ],
         "y": [
          77,
          51,
          30,
          15,
          5,
          1,
          2,
          4,
          8,
          12,
          17,
          29,
          40,
          53
         ],
         "type": "scatter"
        },
        {
         "mode": "lines+markers",
         "name": "Man In The Mirror",
         "x": [
          "1988-05-28T00:00:00",
          "1988-05-21T00:00:00",
          "1988-05-14T00:00:00",
          "1988-05-07T00:00:00",
          "1988-04-30T00:00:00",
          "1988-04-23T00:00:00",
          "1988-04-16T00:00:00",
          "1988-04-09T00:00:00",
          "1988-04-02T00:00:00",
          "1988-03-26T00:00:00",
          "1988-03-19T00:00:00",
          "1988-03-12T00:00:00",
          "1988-03-05T00:00:00",
          "1988-02-27T00:00:00",
          "1988-02-20T00:00:00",
          "1988-02-13T00:00:00",
          "1988-02-06T00:00:00"
         ],
         "y": [
          97,
          71,
          52,
          31,
          19,
          11,
          4,
          2,
          1,
          1,
          4,
          7,
          9,
          17,
          27,
          36,
          48
         ],
         "type": "scatter"
        },
        {
         "mode": "lines+markers",
         "name": "The Way You Make Me Feel",
         "x": [
          "1988-03-19T00:00:00",
          "1988-03-12T00:00:00",
          "1988-03-05T00:00:00",
          "1988-02-27T00:00:00",
          "1988-02-20T00:00:00",
          "1988-02-13T00:00:00",
          "1988-02-06T00:00:00",
          "1988-01-30T00:00:00",
          "1988-01-23T00:00:00",
          "1988-01-16T00:00:00",
          "1988-01-09T00:00:00",
          "1988-01-02T00:00:00",
          "1987-12-26T00:00:00",
          "1987-12-19T00:00:00",
          "1987-12-12T00:00:00",
          "1987-12-05T00:00:00",
          "1987-11-28T00:00:00",
          "1987-11-21T00:00:00"
         ],
         "y": [
          98,
          88,
          72,
          52,
          37,
          24,
          12,
          4,
          1,
          3,
          5,
          7,
          7,
          11,
          17,
          29,
          35,
          44
         ],
         "type": "scatter"
        },
        {
         "mode": "lines+markers",
         "name": "Bad",
         "x": [
          "1987-12-19T00:00:00",
          "1987-12-12T00:00:00",
          "1987-12-05T00:00:00",
          "1987-11-28T00:00:00",
          "1987-11-21T00:00:00",
          "1987-11-14T00:00:00",
          "1987-11-07T00:00:00",
          "1987-10-31T00:00:00",
          "1987-10-24T00:00:00",
          "1987-10-17T00:00:00",
          "1987-10-10T00:00:00",
          "1987-10-03T00:00:00",
          "1987-09-26T00:00:00",
          "1987-09-19T00:00:00"
         ],
         "y": [
          100,
          71,
          55,
          37,
          24,
          11,
          5,
          1,
          1,
          4,
          8,
          16,
          29,
          40
         ],
         "type": "scatter"
        },
        {
         "mode": "lines+markers",
         "name": "Farewell My Summer Love",
         "x": [
          "1984-08-11T00:00:00",
          "1984-08-04T00:00:00",
          "1984-07-28T00:00:00",
          "1984-07-21T00:00:00",
          "1984-07-14T00:00:00",
          "1984-07-07T00:00:00",
          "1984-06-30T00:00:00",
          "1984-06-23T00:00:00",
          "1984-06-16T00:00:00",
          "1984-06-09T00:00:00",
          "1984-06-02T00:00:00",
          "1984-05-26T00:00:00"
         ],
         "y": [
          81,
          68,
          65,
          59,
          55,
          38,
          38,
          40,
          43,
          51,
          58,
          81
         ],
         "type": "scatter"
        },
        {
         "mode": "lines+markers",
         "name": "P.Y.T. (Pretty Young Thing)",
         "x": [
          "1984-01-21T00:00:00",
          "1984-01-14T00:00:00",
          "1984-01-07T00:00:00",
          "1983-12-31T00:00:00",
          "1983-12-24T00:00:00",
          "1983-12-17T00:00:00",
          "1983-12-10T00:00:00",
          "1983-12-03T00:00:00",
          "1983-11-26T00:00:00",
          "1983-11-19T00:00:00",
          "1983-11-12T00:00:00",
          "1983-11-05T00:00:00",
          "1983-10-29T00:00:00",
          "1983-10-22T00:00:00",
          "1983-10-15T00:00:00",
          "1983-10-08T00:00:00"
         ],
         "y": [
          75,
          71,
          64,
          47,
          47,
          36,
          20,
          12,
          10,
          13,
          18,
          20,
          23,
          32,
          55,
          75
         ],
         "type": "scatter"
        },
        {
         "mode": "lines+markers",
         "name": "Human Nature",
         "x": [
          "1983-10-22T00:00:00",
          "1983-10-15T00:00:00",
          "1983-10-08T00:00:00",
          "1983-10-01T00:00:00",
          "1983-09-24T00:00:00",
          "1983-09-17T00:00:00",
          "1983-09-10T00:00:00",
          "1983-09-03T00:00:00",
          "1983-08-27T00:00:00",
          "1983-08-20T00:00:00",
          "1983-08-13T00:00:00",
          "1983-08-06T00:00:00",
          "1983-07-30T00:00:00",
          "1983-07-23T00:00:00"
         ],
         "y": [
          87,
          61,
          24,
          15,
          7,
          7,
          9,
          10,
          13,
          15,
          23,
          27,
          35,
          48
         ],
         "type": "scatter"
        },
        {
         "mode": "lines+markers",
         "name": "Wanna Be Startin' Somethin'",
         "x": [
          "1983-09-03T00:00:00",
          "1983-08-27T00:00:00",
          "1983-08-20T00:00:00",
          "1983-08-13T00:00:00",
          "1983-08-06T00:00:00",
          "1983-07-30T00:00:00",
          "1983-07-23T00:00:00",
          "1983-07-16T00:00:00",
          "1983-07-09T00:00:00",
          "1983-07-02T00:00:00",
          "1983-06-25T00:00:00",
          "1983-06-18T00:00:00",
          "1983-06-11T00:00:00",
          "1983-06-04T00:00:00",
          "1983-05-28T00:00:00"
         ],
         "y": [
          89,
          66,
          46,
          17,
          10,
          7,
          5,
          5,
          6,
          9,
          15,
          17,
          19,
          22,
          41
         ],
         "type": "scatter"
        },
        {
         "mode": "lines+markers",
         "name": "Beat It",
         "x": [
          "1983-08-13T00:00:00",
          "1983-08-06T00:00:00",
          "1983-07-30T00:00:00",
          "1983-07-23T00:00:00",
          "1983-07-16T00:00:00",
          "1983-07-09T00:00:00",
          "1983-07-02T00:00:00",
          "1983-06-25T00:00:00",
          "1983-06-18T00:00:00",
          "1983-06-11T00:00:00",
          "1983-06-04T00:00:00",
          "1983-05-28T00:00:00",
          "1983-05-21T00:00:00",
          "1983-05-14T00:00:00",
          "1983-05-07T00:00:00",
          "1983-04-30T00:00:00",
          "1983-04-23T00:00:00",
          "1983-04-16T00:00:00",
          "1983-04-09T00:00:00",
          "1983-04-02T00:00:00",
          "1983-03-26T00:00:00",
          "1983-03-19T00:00:00",
          "1983-03-12T00:00:00",
          "1983-03-05T00:00:00",
          "1983-02-26T00:00:00"
         ],
         "y": [
          99,
          87,
          74,
          53,
          33,
          24,
          16,
          11,
          11,
          6,
          6,
          3,
          2,
          1,
          1,
          1,
          2,
          5,
          10,
          14,
          15,
          24,
          44,
          65,
          78
         ],
         "type": "scatter"
        },
        {
         "mode": "lines+markers",
         "name": "One Day In Your Life",
         "x": [
          "1981-05-30T00:00:00",
          "1981-05-23T00:00:00",
          "1981-05-16T00:00:00",
          "1981-05-09T00:00:00",
          "1981-05-02T00:00:00",
          "1981-04-25T00:00:00",
          "1981-04-18T00:00:00"
         ],
         "y": [
          97,
          68,
          55,
          58,
          62,
          70,
          81
         ],
         "type": "scatter"
        },
        {
         "mode": "lines+markers",
         "name": "She's Out Of My Life",
         "x": [
          "1980-08-02T00:00:00",
          "1980-07-26T00:00:00",
          "1980-07-19T00:00:00",
          "1980-07-12T00:00:00",
          "1980-07-05T00:00:00",
          "1980-06-28T00:00:00",
          "1980-06-21T00:00:00",
          "1980-06-14T00:00:00",
          "1980-06-07T00:00:00",
          "1980-05-31T00:00:00",
          "1980-05-24T00:00:00",
          "1980-05-17T00:00:00",
          "1980-05-10T00:00:00",
          "1980-05-03T00:00:00",
          "1980-04-26T00:00:00",
          "1980-04-19T00:00:00"
         ],
         "y": [
          96,
          54,
          35,
          24,
          13,
          10,
          10,
          11,
          12,
          17,
          19,
          26,
          30,
          41,
          49,
          57
         ],
         "type": "scatter"
        },
        {
         "mode": "lines+markers",
         "name": "Off The Wall",
         "x": [
          "1980-06-07T00:00:00",
          "1980-05-31T00:00:00",
          "1980-05-24T00:00:00",
          "1980-05-17T00:00:00",
          "1980-05-10T00:00:00",
          "1980-05-03T00:00:00",
          "1980-04-26T00:00:00",
          "1980-04-19T00:00:00",
          "1980-04-12T00:00:00",
          "1980-04-05T00:00:00",
          "1980-03-29T00:00:00",
          "1980-03-22T00:00:00",
          "1980-03-15T00:00:00",
          "1980-03-08T00:00:00",
          "1980-03-01T00:00:00",
          "1980-02-23T00:00:00",
          "1980-02-16T00:00:00"
         ],
         "y": [
          100,
          98,
          100,
          70,
          59,
          30,
          16,
          10,
          10,
          12,
          14,
          17,
          20,
          29,
          33,
          37,
          53
         ],
         "type": "scatter"
        },
        {
         "mode": "lines+markers",
         "name": "Rock With You",
         "x": [
          "1980-04-12T00:00:00",
          "1980-04-05T00:00:00",
          "1980-03-29T00:00:00",
          "1980-03-22T00:00:00",
          "1980-03-15T00:00:00",
          "1980-03-08T00:00:00",
          "1980-03-01T00:00:00",
          "1980-02-23T00:00:00",
          "1980-02-16T00:00:00",
          "1980-02-09T00:00:00",
          "1980-02-02T00:00:00",
          "1980-01-26T00:00:00",
          "1980-01-19T00:00:00",
          "1980-01-12T00:00:00",
          "1980-01-05T00:00:00",
          "1979-12-29T00:00:00",
          "1979-12-22T00:00:00",
          "1979-12-15T00:00:00",
          "1979-12-08T00:00:00",
          "1979-12-01T00:00:00",
          "1979-11-24T00:00:00",
          "1979-11-17T00:00:00",
          "1979-11-10T00:00:00",
          "1979-11-03T00:00:00"
         ],
         "y": [
          96,
          54,
          38,
          30,
          27,
          14,
          8,
          5,
          5,
          1,
          1,
          1,
          1,
          2,
          3,
          11,
          11,
          12,
          21,
          29,
          35,
          59,
          64,
          76
         ],
         "type": "scatter"
        },
        {
         "mode": "lines+markers",
         "name": "Don't Stop 'til You Get Enough",
         "x": [
          "1979-12-15T00:00:00",
          "1979-12-08T00:00:00",
          "1979-12-01T00:00:00",
          "1979-11-24T00:00:00",
          "1979-11-17T00:00:00",
          "1979-11-10T00:00:00",
          "1979-11-03T00:00:00",
          "1979-10-27T00:00:00",
          "1979-10-20T00:00:00",
          "1979-10-13T00:00:00",
          "1979-10-06T00:00:00",
          "1979-09-29T00:00:00",
          "1979-09-22T00:00:00",
          "1979-09-15T00:00:00",
          "1979-09-08T00:00:00",
          "1979-09-01T00:00:00",
          "1979-08-25T00:00:00",
          "1979-08-18T00:00:00",
          "1979-08-11T00:00:00",
          "1979-08-04T00:00:00",
          "1979-07-28T00:00:00"
         ],
         "y": [
          98,
          84,
          64,
          47,
          13,
          12,
          6,
          3,
          2,
          1,
          2,
          4,
          12,
          28,
          32,
          35,
          54,
          64,
          73,
          77,
          87
         ],
         "type": "scatter"
        },
        {
         "mode": "lines+markers",
         "name": "You Can't Win (Part 1)",
         "x": [
          "1979-03-10T00:00:00",
          "1979-03-03T00:00:00",
          "1979-02-24T00:00:00"
         ],
         "y": [
          95,
          81,
          83
         ],
         "type": "scatter"
        },
        {
         "mode": "lines+markers",
         "name": "Just A Little Bit Of You",
         "x": [
          "1975-08-23T00:00:00",
          "1975-08-16T00:00:00",
          "1975-08-09T00:00:00",
          "1975-08-02T00:00:00",
          "1975-07-26T00:00:00",
          "1975-07-19T00:00:00",
          "1975-07-12T00:00:00",
          "1975-07-05T00:00:00",
          "1975-06-28T00:00:00",
          "1975-06-21T00:00:00",
          "1975-06-14T00:00:00",
          "1975-06-07T00:00:00"
         ],
         "y": [
          51,
          23,
          23,
          26,
          30,
          34,
          38,
          49,
          59,
          69,
          79,
          90
         ],
         "type": "scatter"
        },
        {
         "mode": "lines+markers",
         "name": "We're Almost There",
         "x": [
          "1975-04-19T00:00:00",
          "1975-04-12T00:00:00",
          "1975-04-05T00:00:00",
          "1975-03-29T00:00:00",
          "1975-03-22T00:00:00",
          "1975-03-15T00:00:00",
          "1975-03-08T00:00:00",
          "1975-03-01T00:00:00"
         ],
         "y": [
          73,
          57,
          54,
          58,
          58,
          68,
          78,
          89
         ],
         "type": "scatter"
        },
        {
         "mode": "lines+markers",
         "name": "With A Child's Heart",
         "x": [
          "1973-06-16T00:00:00",
          "1973-06-09T00:00:00",
          "1973-06-02T00:00:00",
          "1973-05-26T00:00:00",
          "1973-05-19T00:00:00",
          "1973-05-12T00:00:00",
          "1973-05-05T00:00:00"
         ],
         "y": [
          56,
          55,
          50,
          51,
          55,
          71,
          84
         ],
         "type": "scatter"
        },
        {
         "mode": "lines+markers",
         "name": "Ben",
         "x": [
          "1972-11-18T00:00:00",
          "1972-11-11T00:00:00",
          "1972-11-04T00:00:00",
          "1972-10-28T00:00:00",
          "1972-10-21T00:00:00",
          "1972-10-14T00:00:00",
          "1972-10-07T00:00:00",
          "1972-09-30T00:00:00",
          "1972-09-23T00:00:00",
          "1972-09-16T00:00:00",
          "1972-09-09T00:00:00",
          "1972-09-02T00:00:00",
          "1972-08-26T00:00:00",
          "1972-08-19T00:00:00",
          "1972-08-12T00:00:00",
          "1972-08-05T00:00:00"
         ],
         "y": [
          35,
          17,
          10,
          8,
          6,
          1,
          2,
          5,
          6,
          13,
          26,
          43,
          51,
          61,
          75,
          85
         ],
         "type": "scatter"
        },
        {
         "mode": "lines+markers",
         "name": "I Wanna Be Where You Are",
         "x": [
          "1972-08-05T00:00:00",
          "1972-07-29T00:00:00",
          "1972-07-22T00:00:00",
          "1972-07-15T00:00:00",
          "1972-07-08T00:00:00",
          "1972-07-01T00:00:00",
          "1972-06-24T00:00:00",
          "1972-06-17T00:00:00",
          "1972-06-10T00:00:00",
          "1972-06-03T00:00:00",
          "1972-05-27T00:00:00"
         ],
         "y": [
          37,
          24,
          16,
          16,
          18,
          21,
          27,
          33,
          38,
          49,
          59
         ],
         "type": "scatter"
        },
        {
         "mode": "lines+markers",
         "name": "Rockin' Robin",
         "x": [
          "1972-06-03T00:00:00",
          "1972-05-27T00:00:00",
          "1972-05-20T00:00:00",
          "1972-05-13T00:00:00",
          "1972-05-06T00:00:00",
          "1972-04-29T00:00:00",
          "1972-04-22T00:00:00",
          "1972-04-15T00:00:00",
          "1972-04-08T00:00:00",
          "1972-04-01T00:00:00",
          "1972-03-25T00:00:00",
          "1972-03-18T00:00:00",
          "1972-03-11T00:00:00"
         ],
         "y": [
          48,
          26,
          6,
          5,
          4,
          2,
          2,
          4,
          5,
          9,
          14,
          33,
          68
         ],
         "type": "scatter"
        },
        {
         "mode": "lines+markers",
         "name": "Got To Be There",
         "x": [
          "1972-01-29T00:00:00",
          "1972-01-22T00:00:00",
          "1972-01-15T00:00:00",
          "1972-01-08T00:00:00",
          "1972-01-01T00:00:00",
          "1971-12-25T00:00:00",
          "1971-12-18T00:00:00",
          "1971-12-11T00:00:00",
          "1971-12-04T00:00:00",
          "1971-11-27T00:00:00",
          "1971-11-20T00:00:00",
          "1971-11-13T00:00:00",
          "1971-11-06T00:00:00",
          "1971-10-30T00:00:00"
         ],
         "y": [
          31,
          15,
          8,
          5,
          5,
          5,
          5,
          4,
          6,
          7,
          9,
          13,
          39,
          89
         ],
         "type": "scatter"
        }
       ],
       "layout": {
        "template": {
         "data": {
          "histogram2dcontour": [
           {
            "type": "histogram2dcontour",
            "colorbar": {
             "outlinewidth": 0,
             "ticks": ""
            },
            "colorscale": [
             [
              0.0,
              "#0d0887"
             ],
             [
              0.1111111111111111,
              "#46039f"
             ],
             [
              0.2222222222222222,
              "#7201a8"
             ],
             [
              0.3333333333333333,
              "#9c179e"
             ],
             [
              0.4444444444444444,
              "#bd3786"
             ],
             [
              0.5555555555555556,
              "#d8576b"
             ],
             [
              0.6666666666666666,
              "#ed7953"
             ],
             [
              0.7777777777777778,
              "#fb9f3a"
             ],
             [
              0.8888888888888888,
              "#fdca26"
             ],
             [
              1.0,
              "#f0f921"
             ]
            ]
           }
          ],
          "choropleth": [
           {
            "type": "choropleth",
            "colorbar": {
             "outlinewidth": 0,
             "ticks": ""
            }
           }
          ],
          "histogram2d": [
           {
            "type": "histogram2d",
            "colorbar": {
             "outlinewidth": 0,
             "ticks": ""
            },
            "colorscale": [
             [
              0.0,
              "#0d0887"
             ],
             [
              0.1111111111111111,
              "#46039f"
             ],
             [
              0.2222222222222222,
              "#7201a8"
             ],
             [
              0.3333333333333333,
              "#9c179e"
             ],
             [
              0.4444444444444444,
              "#bd3786"
             ],
             [
              0.5555555555555556,
              "#d8576b"
             ],
             [
              0.6666666666666666,
              "#ed7953"
             ],
             [
              0.7777777777777778,
              "#fb9f3a"
             ],
             [
              0.8888888888888888,
              "#fdca26"
             ],
             [
              1.0,
              "#f0f921"
             ]
            ]
           }
          ],
          "heatmap": [
           {
            "type": "heatmap",
            "colorbar": {
             "outlinewidth": 0,
             "ticks": ""
            },
            "colorscale": [
             [
              0.0,
              "#0d0887"
             ],
             [
              0.1111111111111111,
              "#46039f"
             ],
             [
              0.2222222222222222,
              "#7201a8"
             ],
             [
              0.3333333333333333,
              "#9c179e"
             ],
             [
              0.4444444444444444,
              "#bd3786"
             ],
             [
              0.5555555555555556,
              "#d8576b"
             ],
             [
              0.6666666666666666,
              "#ed7953"
             ],
             [
              0.7777777777777778,
              "#fb9f3a"
             ],
             [
              0.8888888888888888,
              "#fdca26"
             ],
             [
              1.0,
              "#f0f921"
             ]
            ]
           }
          ],
          "heatmapgl": [
           {
            "type": "heatmapgl",
            "colorbar": {
             "outlinewidth": 0,
             "ticks": ""
            },
            "colorscale": [
             [
              0.0,
              "#0d0887"
             ],
             [
              0.1111111111111111,
              "#46039f"
             ],
             [
              0.2222222222222222,
              "#7201a8"
             ],
             [
              0.3333333333333333,
              "#9c179e"
             ],
             [
              0.4444444444444444,
              "#bd3786"
             ],
             [
              0.5555555555555556,
              "#d8576b"
             ],
             [
              0.6666666666666666,
              "#ed7953"
             ],
             [
              0.7777777777777778,
              "#fb9f3a"
             ],
             [
              0.8888888888888888,
              "#fdca26"
             ],
             [
              1.0,
              "#f0f921"
             ]
            ]
           }
          ],
          "contourcarpet": [
           {
            "type": "contourcarpet",
            "colorbar": {
             "outlinewidth": 0,
             "ticks": ""
            }
           }
          ],
          "contour": [
           {
            "type": "contour",
            "colorbar": {
             "outlinewidth": 0,
             "ticks": ""
            },
            "colorscale": [
             [
              0.0,
              "#0d0887"
             ],
             [
              0.1111111111111111,
              "#46039f"
             ],
             [
              0.2222222222222222,
              "#7201a8"
             ],
             [
              0.3333333333333333,
              "#9c179e"
             ],
             [
              0.4444444444444444,
              "#bd3786"
             ],
             [
              0.5555555555555556,
              "#d8576b"
             ],
             [
              0.6666666666666666,
              "#ed7953"
             ],
             [
              0.7777777777777778,
              "#fb9f3a"
             ],
             [
              0.8888888888888888,
              "#fdca26"
             ],
             [
              1.0,
              "#f0f921"
             ]
            ]
           }
          ],
          "surface": [
           {
            "type": "surface",
            "colorbar": {
             "outlinewidth": 0,
             "ticks": ""
            },
            "colorscale": [
             [
              0.0,
              "#0d0887"
             ],
             [
              0.1111111111111111,
              "#46039f"
             ],
             [
              0.2222222222222222,
              "#7201a8"
             ],
             [
              0.3333333333333333,
              "#9c179e"
             ],
             [
              0.4444444444444444,
              "#bd3786"
             ],
             [
              0.5555555555555556,
              "#d8576b"
             ],
             [
              0.6666666666666666,
              "#ed7953"
             ],
             [
              0.7777777777777778,
              "#fb9f3a"
             ],
             [
              0.8888888888888888,
              "#fdca26"
             ],
             [
              1.0,
              "#f0f921"
             ]
            ]
           }
          ],
          "mesh3d": [
           {
            "type": "mesh3d",
            "colorbar": {
             "outlinewidth": 0,
             "ticks": ""
            }
           }
          ],
          "scatter": [
           {
            "marker": {
             "line": {
              "color": "#283442"
             }
            },
            "type": "scatter"
           }
          ],
          "parcoords": [
           {
            "type": "parcoords",
            "line": {
             "colorbar": {
              "outlinewidth": 0,
              "ticks": ""
             }
            }
           }
          ],
          "scatterpolargl": [
           {
            "type": "scatterpolargl",
            "marker": {
             "colorbar": {
              "outlinewidth": 0,
              "ticks": ""
             }
            }
           }
          ],
          "bar": [
           {
            "error_x": {
             "color": "#f2f5fa"
            },
            "error_y": {
             "color": "#f2f5fa"
            },
            "marker": {
             "line": {
              "color": "rgb(17,17,17)",
              "width": 0.5
             },
             "pattern": {
              "fillmode": "overlay",
              "size": 10,
              "solidity": 0.2
             }
            },
            "type": "bar"
           }
          ],
          "scattergeo": [
           {
            "type": "scattergeo",
            "marker": {
             "colorbar": {
              "outlinewidth": 0,
              "ticks": ""
             }
            }
           }
          ],
          "scatterpolar": [
           {
            "type": "scatterpolar",
            "marker": {
             "colorbar": {
              "outlinewidth": 0,
              "ticks": ""
             }
            }
           }
          ],
          "histogram": [
           {
            "marker": {
             "pattern": {
              "fillmode": "overlay",
              "size": 10,
              "solidity": 0.2
             }
            },
            "type": "histogram"
           }
          ],
          "scattergl": [
           {
            "marker": {
             "line": {
              "color": "#283442"
             }
            },
            "type": "scattergl"
           }
          ],
          "scatter3d": [
           {
            "type": "scatter3d",
            "line": {
             "colorbar": {
              "outlinewidth": 0,
              "ticks": ""
             }
            },
            "marker": {
             "colorbar": {
              "outlinewidth": 0,
              "ticks": ""
             }
            }
           }
          ],
          "scattermapbox": [
           {
            "type": "scattermapbox",
            "marker": {
             "colorbar": {
              "outlinewidth": 0,
              "ticks": ""
             }
            }
           }
          ],
          "scatterternary": [
           {
            "type": "scatterternary",
            "marker": {
             "colorbar": {
              "outlinewidth": 0,
              "ticks": ""
             }
            }
           }
          ],
          "scattercarpet": [
           {
            "type": "scattercarpet",
            "marker": {
             "colorbar": {
              "outlinewidth": 0,
              "ticks": ""
             }
            }
           }
          ],
          "carpet": [
           {
            "aaxis": {
             "endlinecolor": "#A2B1C6",
             "gridcolor": "#506784",
             "linecolor": "#506784",
             "minorgridcolor": "#506784",
             "startlinecolor": "#A2B1C6"
            },
            "baxis": {
             "endlinecolor": "#A2B1C6",
             "gridcolor": "#506784",
             "linecolor": "#506784",
             "minorgridcolor": "#506784",
             "startlinecolor": "#A2B1C6"
            },
            "type": "carpet"
           }
          ],
          "table": [
           {
            "cells": {
             "fill": {
              "color": "#506784"
             },
             "line": {
              "color": "rgb(17,17,17)"
             }
            },
            "header": {
             "fill": {
              "color": "#2a3f5f"
             },
             "line": {
              "color": "rgb(17,17,17)"
             }
            },
            "type": "table"
           }
          ],
          "barpolar": [
           {
            "marker": {
             "line": {
              "color": "rgb(17,17,17)",
              "width": 0.5
             },
             "pattern": {
              "fillmode": "overlay",
              "size": 10,
              "solidity": 0.2
             }
            },
            "type": "barpolar"
           }
          ],
          "pie": [
           {
            "automargin": true,
            "type": "pie"
           }
          ]
         },
         "layout": {
          "autotypenumbers": "strict",
          "colorway": [
           "#636efa",
           "#EF553B",
           "#00cc96",
           "#ab63fa",
           "#FFA15A",
           "#19d3f3",
           "#FF6692",
           "#B6E880",
           "#FF97FF",
           "#FECB52"
          ],
          "font": {
           "color": "#f2f5fa"
          },
          "hovermode": "closest",
          "hoverlabel": {
           "align": "left"
          },
          "paper_bgcolor": "rgb(17,17,17)",
          "plot_bgcolor": "rgb(17,17,17)",
          "polar": {
           "bgcolor": "rgb(17,17,17)",
           "angularaxis": {
            "gridcolor": "#506784",
            "linecolor": "#506784",
            "ticks": ""
           },
           "radialaxis": {
            "gridcolor": "#506784",
            "linecolor": "#506784",
            "ticks": ""
           }
          },
          "ternary": {
           "bgcolor": "rgb(17,17,17)",
           "aaxis": {
            "gridcolor": "#506784",
            "linecolor": "#506784",
            "ticks": ""
           },
           "baxis": {
            "gridcolor": "#506784",
            "linecolor": "#506784",
            "ticks": ""
           },
           "caxis": {
            "gridcolor": "#506784",
            "linecolor": "#506784",
            "ticks": ""
           }
          },
          "coloraxis": {
           "colorbar": {
            "outlinewidth": 0,
            "ticks": ""
           }
          },
          "colorscale": {
           "sequential": [
            [
             0.0,
             "#0d0887"
            ],
            [
             0.1111111111111111,
             "#46039f"
            ],
            [
             0.2222222222222222,
             "#7201a8"
            ],
            [
             0.3333333333333333,
             "#9c179e"
            ],
            [
             0.4444444444444444,
             "#bd3786"
            ],
            [
             0.5555555555555556,
             "#d8576b"
            ],
            [
             0.6666666666666666,
             "#ed7953"
            ],
            [
             0.7777777777777778,
             "#fb9f3a"
            ],
            [
             0.8888888888888888,
             "#fdca26"
            ],
            [
             1.0,
             "#f0f921"
            ]
           ],
           "sequentialminus": [
            [
             0.0,
             "#0d0887"
            ],
            [
             0.1111111111111111,
             "#46039f"
            ],
            [
             0.2222222222222222,
             "#7201a8"
            ],
            [
             0.3333333333333333,
             "#9c179e"
            ],
            [
             0.4444444444444444,
             "#bd3786"
            ],
            [
             0.5555555555555556,
             "#d8576b"
            ],
            [
             0.6666666666666666,
             "#ed7953"
            ],
            [
             0.7777777777777778,
             "#fb9f3a"
            ],
            [
             0.8888888888888888,
             "#fdca26"
            ],
            [
             1.0,
             "#f0f921"
            ]
           ],
           "diverging": [
            [
             0,
             "#8e0152"
            ],
            [
             0.1,
             "#c51b7d"
            ],
            [
             0.2,
             "#de77ae"
            ],
            [
             0.3,
             "#f1b6da"
            ],
            [
             0.4,
             "#fde0ef"
            ],
            [
             0.5,
             "#f7f7f7"
            ],
            [
             0.6,
             "#e6f5d0"
            ],
            [
             0.7,
             "#b8e186"
            ],
            [
             0.8,
             "#7fbc41"
            ],
            [
             0.9,
             "#4d9221"
            ],
            [
             1,
             "#276419"
            ]
           ]
          },
          "xaxis": {
           "gridcolor": "#283442",
           "linecolor": "#506784",
           "ticks": "",
           "title": {
            "standoff": 15
           },
           "zerolinecolor": "#283442",
           "automargin": true,
           "zerolinewidth": 2
          },
          "yaxis": {
           "gridcolor": "#283442",
           "linecolor": "#506784",
           "ticks": "",
           "title": {
            "standoff": 15
           },
           "zerolinecolor": "#283442",
           "automargin": true,
           "zerolinewidth": 2
          },
          "scene": {
           "xaxis": {
            "backgroundcolor": "rgb(17,17,17)",
            "gridcolor": "#506784",
            "linecolor": "#506784",
            "showbackground": true,
            "ticks": "",
            "zerolinecolor": "#C8D4E3",
            "gridwidth": 2
           },
           "yaxis": {
            "backgroundcolor": "rgb(17,17,17)",
            "gridcolor": "#506784",
            "linecolor": "#506784",
            "showbackground": true,
            "ticks": "",
            "zerolinecolor": "#C8D4E3",
            "gridwidth": 2
           },
           "zaxis": {
            "backgroundcolor": "rgb(17,17,17)",
            "gridcolor": "#506784",
            "linecolor": "#506784",
            "showbackground": true,
            "ticks": "",
            "zerolinecolor": "#C8D4E3",
            "gridwidth": 2
           }
          },
          "shapedefaults": {
           "line": {
            "color": "#f2f5fa"
           }
          },
          "annotationdefaults": {
           "arrowcolor": "#f2f5fa",
           "arrowhead": 0,
           "arrowwidth": 1
          },
          "geo": {
           "bgcolor": "rgb(17,17,17)",
           "landcolor": "rgb(17,17,17)",
           "subunitcolor": "#506784",
           "showland": true,
           "showlakes": true,
           "lakecolor": "rgb(17,17,17)"
          },
          "title": {
           "x": 0.05
          },
          "updatemenudefaults": {
           "bgcolor": "#506784",
           "borderwidth": 0
          },
          "sliderdefaults": {
           "bgcolor": "#C8D4E3",
           "borderwidth": 1,
           "bordercolor": "rgb(17,17,17)",
           "tickwidth": 0
          },
          "mapbox": {
           "style": "dark"
          }
         }
        },
        "yaxis": {
         "range": [
          100,
          0
         ],
         "title": {
          "text": "Classement"
         }
        },
        "legend": {
         "font": {
          "size": 7
         }
        },
        "height": 800,
        "xaxis": {
         "title": {
          "text": "Date"
         }
        }
       },
       "config": {
        "plotlyServerURL": "https://plot.ly"
       }
      },
      "text/html": "<div>                            <div id=\"dd4f4df1-0d84-4dc6-a73a-3f296f6150a9\" class=\"plotly-graph-div\" style=\"height:800px; width:100%;\"></div>            <script type=\"text/javascript\">                require([\"plotly\"], function(Plotly) {                    window.PLOTLYENV=window.PLOTLYENV || {};                                    if (document.getElementById(\"dd4f4df1-0d84-4dc6-a73a-3f296f6150a9\")) {                    Plotly.newPlot(                        \"dd4f4df1-0d84-4dc6-a73a-3f296f6150a9\",                        [{\"mode\":\"lines+markers\",\"name\":\"Thriller\",\"x\":[\"2020-11-14T00:00:00\",\"2019-11-09T00:00:00\",\"2018-11-10T00:00:00\",\"2015-11-21T00:00:00\",\"2014-11-15T00:00:00\",\"2013-11-16T00:00:00\",\"1984-05-12T00:00:00\",\"1984-05-05T00:00:00\",\"1984-04-28T00:00:00\",\"1984-04-21T00:00:00\",\"1984-04-14T00:00:00\",\"1984-04-07T00:00:00\",\"1984-03-31T00:00:00\",\"1984-03-24T00:00:00\",\"1984-03-17T00:00:00\",\"1984-03-10T00:00:00\",\"1984-03-03T00:00:00\",\"1984-02-25T00:00:00\",\"1984-02-18T00:00:00\",\"1984-02-11T00:00:00\"],\"y\":[48,44,31,45,35,42,99,96,77,69,47,23,15,11,6,4,4,5,7,20],\"type\":\"scatter\"},{\"mode\":\"lines+markers\",\"name\":\"Billie Jean\",\"x\":[\"2014-06-07T00:00:00\",\"1983-07-02T00:00:00\",\"1983-06-25T00:00:00\",\"1983-06-18T00:00:00\",\"1983-06-11T00:00:00\",\"1983-06-04T00:00:00\",\"1983-05-28T00:00:00\",\"1983-05-21T00:00:00\",\"1983-05-14T00:00:00\",\"1983-05-07T00:00:00\",\"1983-04-30T00:00:00\",\"1983-04-23T00:00:00\",\"1983-04-16T00:00:00\",\"1983-04-09T00:00:00\",\"1983-04-02T00:00:00\",\"1983-03-26T00:00:00\",\"1983-03-19T00:00:00\",\"1983-03-12T00:00:00\",\"1983-03-05T00:00:00\",\"1983-02-26T00:00:00\",\"1983-02-19T00:00:00\",\"1983-02-12T00:00:00\",\"1983-02-05T00:00:00\",\"1983-01-29T00:00:00\",\"1983-01-22T00:00:00\"],\"y\":[14,98,73,70,65,58,42,29,24,14,7,5,1,1,1,1,1,1,1,4,6,23,27,37,47],\"type\":\"scatter\"},{\"mode\":\"lines+markers\",\"name\":\"Slave To The Rhythm\",\"x\":[\"2014-06-07T00:00:00\"],\"y\":[45],\"type\":\"scatter\"},{\"mode\":\"lines+markers\",\"name\":\"One More Chance\",\"x\":[\"2004-01-03T00:00:00\",\"2003-12-27T00:00:00\",\"2003-12-20T00:00:00\",\"2003-12-13T00:00:00\",\"2003-12-06T00:00:00\"],\"y\":[100,100,98,83,95],\"type\":\"scatter\"},{\"mode\":\"lines+markers\",\"name\":\"Butterflies\",\"x\":[\"2002-03-30T00:00:00\",\"2002-03-23T00:00:00\",\"2002-03-16T00:00:00\",\"2002-03-09T00:00:00\",\"2002-03-02T00:00:00\",\"2002-02-23T00:00:00\",\"2002-02-16T00:00:00\",\"2002-02-09T00:00:00\",\"2002-02-02T00:00:00\",\"2002-01-26T00:00:00\",\"2002-01-19T00:00:00\",\"2002-01-12T00:00:00\",\"2002-01-05T00:00:00\",\"2001-12-29T00:00:00\",\"2001-12-22T00:00:00\",\"2001-12-15T00:00:00\",\"2001-12-08T00:00:00\",\"2001-12-01T00:00:00\",\"2001-11-24T00:00:00\",\"2001-11-17T00:00:00\"],\"y\":[54,52,34,35,29,21,17,15,14,14,16,17,19,21,26,30,32,33,49,60],\"type\":\"scatter\"},{\"mode\":\"lines+markers\",\"name\":\"You Rock My World\",\"x\":[\"2002-01-19T00:00:00\",\"2002-01-12T00:00:00\",\"2002-01-05T00:00:00\",\"2001-12-29T00:00:00\",\"2001-12-22T00:00:00\",\"2001-12-15T00:00:00\",\"2001-12-08T00:00:00\",\"2001-12-01T00:00:00\",\"2001-11-24T00:00:00\",\"2001-11-17T00:00:00\",\"2001-11-10T00:00:00\",\"2001-11-03T00:00:00\",\"2001-10-27T00:00:00\",\"2001-10-20T00:00:00\",\"2001-10-13T00:00:00\",\"2001-10-06T00:00:00\",\"2001-09-29T00:00:00\",\"2001-09-22T00:00:00\",\"2001-09-15T00:00:00\",\"2001-09-08T00:00:00\"],\"y\":[92,91,98,90,87,83,83,80,77,64,57,51,29,22,13,12,14,10,11,34],\"type\":\"scatter\"},{\"mode\":\"lines+markers\",\"name\":\"Stranger In Moscow\",\"x\":[\"1997-08-30T00:00:00\",\"1997-08-23T00:00:00\"],\"y\":[97,91],\"type\":\"scatter\"},{\"mode\":\"lines+markers\",\"name\":\"Blood On The Dance Floor\",\"x\":[\"1997-07-19T00:00:00\",\"1997-07-12T00:00:00\",\"1997-07-05T00:00:00\",\"1997-06-28T00:00:00\",\"1997-06-21T00:00:00\",\"1997-06-14T00:00:00\",\"1997-06-07T00:00:00\",\"1997-05-31T00:00:00\",\"1997-05-24T00:00:00\",\"1997-05-17T00:00:00\",\"1997-05-10T00:00:00\"],\"y\":[96,93,91,86,72,68,59,57,48,44,42],\"type\":\"scatter\"},{\"mode\":\"lines+markers\",\"name\":\"They Don't Care About Us\",\"x\":[\"1996-08-31T00:00:00\",\"1996-08-24T00:00:00\",\"1996-08-17T00:00:00\",\"1996-08-10T00:00:00\",\"1996-08-03T00:00:00\",\"1996-07-27T00:00:00\",\"1996-07-20T00:00:00\",\"1996-07-13T00:00:00\",\"1996-07-06T00:00:00\",\"1996-06-29T00:00:00\",\"1996-06-22T00:00:00\",\"1996-06-15T00:00:00\",\"1996-06-08T00:00:00\"],\"y\":[97,89,86,72,65,58,45,44,38,30,30,30,30],\"type\":\"scatter\"},{\"mode\":\"lines+markers\",\"name\":\"You Are Not Alone\",\"x\":[\"1996-01-13T00:00:00\",\"1996-01-06T00:00:00\",\"1995-12-30T00:00:00\",\"1995-12-23T00:00:00\",\"1995-12-16T00:00:00\",\"1995-12-09T00:00:00\",\"1995-12-02T00:00:00\",\"1995-11-25T00:00:00\",\"1995-11-18T00:00:00\",\"1995-11-11T00:00:00\",\"1995-11-04T00:00:00\",\"1995-10-28T00:00:00\",\"1995-10-21T00:00:00\",\"1995-10-14T00:00:00\",\"1995-10-07T00:00:00\",\"1995-09-30T00:00:00\",\"1995-09-23T00:00:00\",\"1995-09-16T00:00:00\",\"1995-09-09T00:00:00\",\"1995-09-02T00:00:00\"],\"y\":[59,56,57,54,51,42,36,28,19,13,8,5,5,3,3,3,2,2,2,1],\"type\":\"scatter\"},{\"mode\":\"lines+markers\",\"name\":\"Will You Be There\",\"x\":[\"1993-11-27T00:00:00\",\"1993-11-20T00:00:00\",\"1993-11-13T00:00:00\",\"1993-11-06T00:00:00\",\"1993-10-30T00:00:00\",\"1993-10-23T00:00:00\",\"1993-10-16T00:00:00\",\"1993-10-09T00:00:00\",\"1993-10-02T00:00:00\",\"1993-09-25T00:00:00\",\"1993-09-18T00:00:00\",\"1993-09-11T00:00:00\",\"1993-09-04T00:00:00\",\"1993-08-28T00:00:00\",\"1993-08-21T00:00:00\",\"1993-08-14T00:00:00\",\"1993-08-07T00:00:00\",\"1993-07-31T00:00:00\",\"1993-07-24T00:00:00\",\"1993-07-17T00:00:00\"],\"y\":[60,53,46,40,32,26,17,8,7,7,8,7,8,12,14,24,27,36,45,63],\"type\":\"scatter\"},{\"mode\":\"lines+markers\",\"name\":\"Who Is It\",\"x\":[\"1993-08-07T00:00:00\",\"1993-07-31T00:00:00\",\"1993-07-24T00:00:00\",\"1993-07-17T00:00:00\",\"1993-07-10T00:00:00\",\"1993-07-03T00:00:00\",\"1993-06-26T00:00:00\",\"1993-06-19T00:00:00\",\"1993-06-12T00:00:00\",\"1993-06-05T00:00:00\",\"1993-05-29T00:00:00\",\"1993-05-22T00:00:00\",\"1993-05-15T00:00:00\",\"1993-05-08T00:00:00\",\"1993-05-01T00:00:00\",\"1993-04-24T00:00:00\",\"1993-04-17T00:00:00\",\"1993-04-10T00:00:00\"],\"y\":[99,91,81,72,70,61,50,39,32,21,18,14,14,15,18,25,33,44],\"type\":\"scatter\"},{\"mode\":\"lines+markers\",\"name\":\"Heal The World\",\"x\":[\"1993-04-24T00:00:00\",\"1993-04-17T00:00:00\",\"1993-04-10T00:00:00\",\"1993-04-03T00:00:00\",\"1993-03-27T00:00:00\",\"1993-03-20T00:00:00\",\"1993-03-13T00:00:00\",\"1993-03-06T00:00:00\",\"1993-02-27T00:00:00\",\"1993-02-20T00:00:00\",\"1993-02-13T00:00:00\",\"1993-02-06T00:00:00\",\"1993-01-30T00:00:00\",\"1993-01-23T00:00:00\",\"1993-01-16T00:00:00\",\"1993-01-09T00:00:00\",\"1993-01-02T00:00:00\",\"1992-12-26T00:00:00\",\"1992-12-19T00:00:00\",\"1992-12-12T00:00:00\"],\"y\":[42,39,35,32,29,27,28,34,36,54,65,56,52,53,54,54,54,54,62,74],\"type\":\"scatter\"},{\"mode\":\"lines+markers\",\"name\":\"Jam\",\"x\":[\"1992-10-10T00:00:00\",\"1992-10-03T00:00:00\",\"1992-09-26T00:00:00\",\"1992-09-19T00:00:00\",\"1992-09-12T00:00:00\",\"1992-09-05T00:00:00\",\"1992-08-29T00:00:00\",\"1992-08-22T00:00:00\",\"1992-08-15T00:00:00\",\"1992-08-08T00:00:00\",\"1992-08-01T00:00:00\",\"1992-07-25T00:00:00\",\"1992-07-18T00:00:00\",\"1992-07-11T00:00:00\"],\"y\":[96,87,73,59,39,29,28,26,26,26,27,31,35,64],\"type\":\"scatter\"},{\"mode\":\"lines+markers\",\"name\":\"In The Closet\",\"x\":[\"1992-09-05T00:00:00\",\"1992-08-29T00:00:00\",\"1992-08-22T00:00:00\",\"1992-08-15T00:00:00\",\"1992-08-08T00:00:00\",\"1992-08-01T00:00:00\",\"1992-07-25T00:00:00\",\"1992-07-18T00:00:00\",\"1992-07-11T00:00:00\",\"1992-07-04T00:00:00\",\"1992-06-27T00:00:00\",\"1992-06-20T00:00:00\",\"1992-06-13T00:00:00\",\"1992-06-06T00:00:00\",\"1992-05-30T00:00:00\",\"1992-05-23T00:00:00\",\"1992-05-16T00:00:00\",\"1992-05-09T00:00:00\",\"1992-05-02T00:00:00\",\"1992-04-25T00:00:00\"],\"y\":[100,90,88,79,68,65,56,44,35,22,15,12,9,8,6,10,12,14,26,46],\"type\":\"scatter\"},{\"mode\":\"lines+markers\",\"name\":\"Remember The Time\",\"x\":[\"1992-06-06T00:00:00\",\"1992-05-30T00:00:00\",\"1992-05-23T00:00:00\",\"1992-05-16T00:00:00\",\"1992-05-09T00:00:00\",\"1992-05-02T00:00:00\",\"1992-04-25T00:00:00\",\"1992-04-18T00:00:00\",\"1992-04-11T00:00:00\",\"1992-04-04T00:00:00\",\"1992-03-28T00:00:00\",\"1992-03-21T00:00:00\",\"1992-03-14T00:00:00\",\"1992-03-07T00:00:00\",\"1992-02-29T00:00:00\",\"1992-02-22T00:00:00\",\"1992-02-15T00:00:00\",\"1992-02-08T00:00:00\",\"1992-02-01T00:00:00\",\"1992-01-25T00:00:00\"],\"y\":[52,49,45,34,27,23,16,11,4,3,3,4,3,3,4,5,8,13,20,53],\"type\":\"scatter\"},{\"mode\":\"lines+markers\",\"name\":\"Black Or White\",\"x\":[\"1992-04-04T00:00:00\",\"1992-03-28T00:00:00\",\"1992-03-21T00:00:00\",\"1992-03-14T00:00:00\",\"1992-03-07T00:00:00\",\"1992-02-29T00:00:00\",\"1992-02-22T00:00:00\",\"1992-02-15T00:00:00\",\"1992-02-08T00:00:00\",\"1992-02-01T00:00:00\",\"1992-01-25T00:00:00\",\"1992-01-18T00:00:00\",\"1992-01-11T00:00:00\",\"1992-01-04T00:00:00\",\"1991-12-28T00:00:00\",\"1991-12-21T00:00:00\",\"1991-12-14T00:00:00\",\"1991-12-07T00:00:00\",\"1991-11-30T00:00:00\",\"1991-11-23T00:00:00\"],\"y\":[83,75,71,61,52,35,29,20,15,9,4,1,1,1,1,1,1,1,3,35],\"type\":\"scatter\"},{\"mode\":\"lines+markers\",\"name\":\"Smooth Criminal\",\"x\":[\"1989-02-18T00:00:00\",\"1989-02-11T00:00:00\",\"1989-02-04T00:00:00\",\"1989-01-28T00:00:00\",\"1989-01-21T00:00:00\",\"1989-01-14T00:00:00\",\"1989-01-07T00:00:00\",\"1988-12-31T00:00:00\",\"1988-12-24T00:00:00\",\"1988-12-17T00:00:00\",\"1988-12-10T00:00:00\",\"1988-12-03T00:00:00\",\"1988-11-26T00:00:00\",\"1988-11-19T00:00:00\",\"1988-11-12T00:00:00\"],\"y\":[80,51,31,15,7,7,10,13,13,20,25,32,38,49,66],\"type\":\"scatter\"},{\"mode\":\"lines+markers\",\"name\":\"Another Part Of Me\",\"x\":[\"1988-10-15T00:00:00\",\"1988-10-08T00:00:00\",\"1988-10-01T00:00:00\",\"1988-09-24T00:00:00\",\"1988-09-17T00:00:00\",\"1988-09-10T00:00:00\",\"1988-09-03T00:00:00\",\"1988-08-27T00:00:00\",\"1988-08-20T00:00:00\",\"1988-08-13T00:00:00\",\"1988-08-06T00:00:00\",\"1988-07-30T00:00:00\",\"1988-07-23T00:00:00\"],\"y\":[96,83,45,30,12,11,12,17,20,25,31,43,54],\"type\":\"scatter\"},{\"mode\":\"lines+markers\",\"name\":\"Dirty Diana\",\"x\":[\"1988-08-06T00:00:00\",\"1988-07-30T00:00:00\",\"1988-07-23T00:00:00\",\"1988-07-16T00:00:00\",\"1988-07-09T00:00:00\",\"1988-07-02T00:00:00\",\"1988-06-25T00:00:00\",\"1988-06-18T00:00:00\",\"1988-06-11T00:00:00\",\"1988-06-04T00:00:00\",\"1988-05-28T00:00:00\",\"1988-05-21T00:00:00\",\"1988-05-14T00:00:00\",\"1988-05-07T00:00:00\"],\"y\":[77,51,30,15,5,1,2,4,8,12,17,29,40,53],\"type\":\"scatter\"},{\"mode\":\"lines+markers\",\"name\":\"Man In The Mirror\",\"x\":[\"1988-05-28T00:00:00\",\"1988-05-21T00:00:00\",\"1988-05-14T00:00:00\",\"1988-05-07T00:00:00\",\"1988-04-30T00:00:00\",\"1988-04-23T00:00:00\",\"1988-04-16T00:00:00\",\"1988-04-09T00:00:00\",\"1988-04-02T00:00:00\",\"1988-03-26T00:00:00\",\"1988-03-19T00:00:00\",\"1988-03-12T00:00:00\",\"1988-03-05T00:00:00\",\"1988-02-27T00:00:00\",\"1988-02-20T00:00:00\",\"1988-02-13T00:00:00\",\"1988-02-06T00:00:00\"],\"y\":[97,71,52,31,19,11,4,2,1,1,4,7,9,17,27,36,48],\"type\":\"scatter\"},{\"mode\":\"lines+markers\",\"name\":\"The Way You Make Me Feel\",\"x\":[\"1988-03-19T00:00:00\",\"1988-03-12T00:00:00\",\"1988-03-05T00:00:00\",\"1988-02-27T00:00:00\",\"1988-02-20T00:00:00\",\"1988-02-13T00:00:00\",\"1988-02-06T00:00:00\",\"1988-01-30T00:00:00\",\"1988-01-23T00:00:00\",\"1988-01-16T00:00:00\",\"1988-01-09T00:00:00\",\"1988-01-02T00:00:00\",\"1987-12-26T00:00:00\",\"1987-12-19T00:00:00\",\"1987-12-12T00:00:00\",\"1987-12-05T00:00:00\",\"1987-11-28T00:00:00\",\"1987-11-21T00:00:00\"],\"y\":[98,88,72,52,37,24,12,4,1,3,5,7,7,11,17,29,35,44],\"type\":\"scatter\"},{\"mode\":\"lines+markers\",\"name\":\"Bad\",\"x\":[\"1987-12-19T00:00:00\",\"1987-12-12T00:00:00\",\"1987-12-05T00:00:00\",\"1987-11-28T00:00:00\",\"1987-11-21T00:00:00\",\"1987-11-14T00:00:00\",\"1987-11-07T00:00:00\",\"1987-10-31T00:00:00\",\"1987-10-24T00:00:00\",\"1987-10-17T00:00:00\",\"1987-10-10T00:00:00\",\"1987-10-03T00:00:00\",\"1987-09-26T00:00:00\",\"1987-09-19T00:00:00\"],\"y\":[100,71,55,37,24,11,5,1,1,4,8,16,29,40],\"type\":\"scatter\"},{\"mode\":\"lines+markers\",\"name\":\"Farewell My Summer Love\",\"x\":[\"1984-08-11T00:00:00\",\"1984-08-04T00:00:00\",\"1984-07-28T00:00:00\",\"1984-07-21T00:00:00\",\"1984-07-14T00:00:00\",\"1984-07-07T00:00:00\",\"1984-06-30T00:00:00\",\"1984-06-23T00:00:00\",\"1984-06-16T00:00:00\",\"1984-06-09T00:00:00\",\"1984-06-02T00:00:00\",\"1984-05-26T00:00:00\"],\"y\":[81,68,65,59,55,38,38,40,43,51,58,81],\"type\":\"scatter\"},{\"mode\":\"lines+markers\",\"name\":\"P.Y.T. (Pretty Young Thing)\",\"x\":[\"1984-01-21T00:00:00\",\"1984-01-14T00:00:00\",\"1984-01-07T00:00:00\",\"1983-12-31T00:00:00\",\"1983-12-24T00:00:00\",\"1983-12-17T00:00:00\",\"1983-12-10T00:00:00\",\"1983-12-03T00:00:00\",\"1983-11-26T00:00:00\",\"1983-11-19T00:00:00\",\"1983-11-12T00:00:00\",\"1983-11-05T00:00:00\",\"1983-10-29T00:00:00\",\"1983-10-22T00:00:00\",\"1983-10-15T00:00:00\",\"1983-10-08T00:00:00\"],\"y\":[75,71,64,47,47,36,20,12,10,13,18,20,23,32,55,75],\"type\":\"scatter\"},{\"mode\":\"lines+markers\",\"name\":\"Human Nature\",\"x\":[\"1983-10-22T00:00:00\",\"1983-10-15T00:00:00\",\"1983-10-08T00:00:00\",\"1983-10-01T00:00:00\",\"1983-09-24T00:00:00\",\"1983-09-17T00:00:00\",\"1983-09-10T00:00:00\",\"1983-09-03T00:00:00\",\"1983-08-27T00:00:00\",\"1983-08-20T00:00:00\",\"1983-08-13T00:00:00\",\"1983-08-06T00:00:00\",\"1983-07-30T00:00:00\",\"1983-07-23T00:00:00\"],\"y\":[87,61,24,15,7,7,9,10,13,15,23,27,35,48],\"type\":\"scatter\"},{\"mode\":\"lines+markers\",\"name\":\"Wanna Be Startin' Somethin'\",\"x\":[\"1983-09-03T00:00:00\",\"1983-08-27T00:00:00\",\"1983-08-20T00:00:00\",\"1983-08-13T00:00:00\",\"1983-08-06T00:00:00\",\"1983-07-30T00:00:00\",\"1983-07-23T00:00:00\",\"1983-07-16T00:00:00\",\"1983-07-09T00:00:00\",\"1983-07-02T00:00:00\",\"1983-06-25T00:00:00\",\"1983-06-18T00:00:00\",\"1983-06-11T00:00:00\",\"1983-06-04T00:00:00\",\"1983-05-28T00:00:00\"],\"y\":[89,66,46,17,10,7,5,5,6,9,15,17,19,22,41],\"type\":\"scatter\"},{\"mode\":\"lines+markers\",\"name\":\"Beat It\",\"x\":[\"1983-08-13T00:00:00\",\"1983-08-06T00:00:00\",\"1983-07-30T00:00:00\",\"1983-07-23T00:00:00\",\"1983-07-16T00:00:00\",\"1983-07-09T00:00:00\",\"1983-07-02T00:00:00\",\"1983-06-25T00:00:00\",\"1983-06-18T00:00:00\",\"1983-06-11T00:00:00\",\"1983-06-04T00:00:00\",\"1983-05-28T00:00:00\",\"1983-05-21T00:00:00\",\"1983-05-14T00:00:00\",\"1983-05-07T00:00:00\",\"1983-04-30T00:00:00\",\"1983-04-23T00:00:00\",\"1983-04-16T00:00:00\",\"1983-04-09T00:00:00\",\"1983-04-02T00:00:00\",\"1983-03-26T00:00:00\",\"1983-03-19T00:00:00\",\"1983-03-12T00:00:00\",\"1983-03-05T00:00:00\",\"1983-02-26T00:00:00\"],\"y\":[99,87,74,53,33,24,16,11,11,6,6,3,2,1,1,1,2,5,10,14,15,24,44,65,78],\"type\":\"scatter\"},{\"mode\":\"lines+markers\",\"name\":\"One Day In Your Life\",\"x\":[\"1981-05-30T00:00:00\",\"1981-05-23T00:00:00\",\"1981-05-16T00:00:00\",\"1981-05-09T00:00:00\",\"1981-05-02T00:00:00\",\"1981-04-25T00:00:00\",\"1981-04-18T00:00:00\"],\"y\":[97,68,55,58,62,70,81],\"type\":\"scatter\"},{\"mode\":\"lines+markers\",\"name\":\"She's Out Of My Life\",\"x\":[\"1980-08-02T00:00:00\",\"1980-07-26T00:00:00\",\"1980-07-19T00:00:00\",\"1980-07-12T00:00:00\",\"1980-07-05T00:00:00\",\"1980-06-28T00:00:00\",\"1980-06-21T00:00:00\",\"1980-06-14T00:00:00\",\"1980-06-07T00:00:00\",\"1980-05-31T00:00:00\",\"1980-05-24T00:00:00\",\"1980-05-17T00:00:00\",\"1980-05-10T00:00:00\",\"1980-05-03T00:00:00\",\"1980-04-26T00:00:00\",\"1980-04-19T00:00:00\"],\"y\":[96,54,35,24,13,10,10,11,12,17,19,26,30,41,49,57],\"type\":\"scatter\"},{\"mode\":\"lines+markers\",\"name\":\"Off The Wall\",\"x\":[\"1980-06-07T00:00:00\",\"1980-05-31T00:00:00\",\"1980-05-24T00:00:00\",\"1980-05-17T00:00:00\",\"1980-05-10T00:00:00\",\"1980-05-03T00:00:00\",\"1980-04-26T00:00:00\",\"1980-04-19T00:00:00\",\"1980-04-12T00:00:00\",\"1980-04-05T00:00:00\",\"1980-03-29T00:00:00\",\"1980-03-22T00:00:00\",\"1980-03-15T00:00:00\",\"1980-03-08T00:00:00\",\"1980-03-01T00:00:00\",\"1980-02-23T00:00:00\",\"1980-02-16T00:00:00\"],\"y\":[100,98,100,70,59,30,16,10,10,12,14,17,20,29,33,37,53],\"type\":\"scatter\"},{\"mode\":\"lines+markers\",\"name\":\"Rock With You\",\"x\":[\"1980-04-12T00:00:00\",\"1980-04-05T00:00:00\",\"1980-03-29T00:00:00\",\"1980-03-22T00:00:00\",\"1980-03-15T00:00:00\",\"1980-03-08T00:00:00\",\"1980-03-01T00:00:00\",\"1980-02-23T00:00:00\",\"1980-02-16T00:00:00\",\"1980-02-09T00:00:00\",\"1980-02-02T00:00:00\",\"1980-01-26T00:00:00\",\"1980-01-19T00:00:00\",\"1980-01-12T00:00:00\",\"1980-01-05T00:00:00\",\"1979-12-29T00:00:00\",\"1979-12-22T00:00:00\",\"1979-12-15T00:00:00\",\"1979-12-08T00:00:00\",\"1979-12-01T00:00:00\",\"1979-11-24T00:00:00\",\"1979-11-17T00:00:00\",\"1979-11-10T00:00:00\",\"1979-11-03T00:00:00\"],\"y\":[96,54,38,30,27,14,8,5,5,1,1,1,1,2,3,11,11,12,21,29,35,59,64,76],\"type\":\"scatter\"},{\"mode\":\"lines+markers\",\"name\":\"Don't Stop 'til You Get Enough\",\"x\":[\"1979-12-15T00:00:00\",\"1979-12-08T00:00:00\",\"1979-12-01T00:00:00\",\"1979-11-24T00:00:00\",\"1979-11-17T00:00:00\",\"1979-11-10T00:00:00\",\"1979-11-03T00:00:00\",\"1979-10-27T00:00:00\",\"1979-10-20T00:00:00\",\"1979-10-13T00:00:00\",\"1979-10-06T00:00:00\",\"1979-09-29T00:00:00\",\"1979-09-22T00:00:00\",\"1979-09-15T00:00:00\",\"1979-09-08T00:00:00\",\"1979-09-01T00:00:00\",\"1979-08-25T00:00:00\",\"1979-08-18T00:00:00\",\"1979-08-11T00:00:00\",\"1979-08-04T00:00:00\",\"1979-07-28T00:00:00\"],\"y\":[98,84,64,47,13,12,6,3,2,1,2,4,12,28,32,35,54,64,73,77,87],\"type\":\"scatter\"},{\"mode\":\"lines+markers\",\"name\":\"You Can't Win (Part 1)\",\"x\":[\"1979-03-10T00:00:00\",\"1979-03-03T00:00:00\",\"1979-02-24T00:00:00\"],\"y\":[95,81,83],\"type\":\"scatter\"},{\"mode\":\"lines+markers\",\"name\":\"Just A Little Bit Of You\",\"x\":[\"1975-08-23T00:00:00\",\"1975-08-16T00:00:00\",\"1975-08-09T00:00:00\",\"1975-08-02T00:00:00\",\"1975-07-26T00:00:00\",\"1975-07-19T00:00:00\",\"1975-07-12T00:00:00\",\"1975-07-05T00:00:00\",\"1975-06-28T00:00:00\",\"1975-06-21T00:00:00\",\"1975-06-14T00:00:00\",\"1975-06-07T00:00:00\"],\"y\":[51,23,23,26,30,34,38,49,59,69,79,90],\"type\":\"scatter\"},{\"mode\":\"lines+markers\",\"name\":\"We're Almost There\",\"x\":[\"1975-04-19T00:00:00\",\"1975-04-12T00:00:00\",\"1975-04-05T00:00:00\",\"1975-03-29T00:00:00\",\"1975-03-22T00:00:00\",\"1975-03-15T00:00:00\",\"1975-03-08T00:00:00\",\"1975-03-01T00:00:00\"],\"y\":[73,57,54,58,58,68,78,89],\"type\":\"scatter\"},{\"mode\":\"lines+markers\",\"name\":\"With A Child's Heart\",\"x\":[\"1973-06-16T00:00:00\",\"1973-06-09T00:00:00\",\"1973-06-02T00:00:00\",\"1973-05-26T00:00:00\",\"1973-05-19T00:00:00\",\"1973-05-12T00:00:00\",\"1973-05-05T00:00:00\"],\"y\":[56,55,50,51,55,71,84],\"type\":\"scatter\"},{\"mode\":\"lines+markers\",\"name\":\"Ben\",\"x\":[\"1972-11-18T00:00:00\",\"1972-11-11T00:00:00\",\"1972-11-04T00:00:00\",\"1972-10-28T00:00:00\",\"1972-10-21T00:00:00\",\"1972-10-14T00:00:00\",\"1972-10-07T00:00:00\",\"1972-09-30T00:00:00\",\"1972-09-23T00:00:00\",\"1972-09-16T00:00:00\",\"1972-09-09T00:00:00\",\"1972-09-02T00:00:00\",\"1972-08-26T00:00:00\",\"1972-08-19T00:00:00\",\"1972-08-12T00:00:00\",\"1972-08-05T00:00:00\"],\"y\":[35,17,10,8,6,1,2,5,6,13,26,43,51,61,75,85],\"type\":\"scatter\"},{\"mode\":\"lines+markers\",\"name\":\"I Wanna Be Where You Are\",\"x\":[\"1972-08-05T00:00:00\",\"1972-07-29T00:00:00\",\"1972-07-22T00:00:00\",\"1972-07-15T00:00:00\",\"1972-07-08T00:00:00\",\"1972-07-01T00:00:00\",\"1972-06-24T00:00:00\",\"1972-06-17T00:00:00\",\"1972-06-10T00:00:00\",\"1972-06-03T00:00:00\",\"1972-05-27T00:00:00\"],\"y\":[37,24,16,16,18,21,27,33,38,49,59],\"type\":\"scatter\"},{\"mode\":\"lines+markers\",\"name\":\"Rockin' Robin\",\"x\":[\"1972-06-03T00:00:00\",\"1972-05-27T00:00:00\",\"1972-05-20T00:00:00\",\"1972-05-13T00:00:00\",\"1972-05-06T00:00:00\",\"1972-04-29T00:00:00\",\"1972-04-22T00:00:00\",\"1972-04-15T00:00:00\",\"1972-04-08T00:00:00\",\"1972-04-01T00:00:00\",\"1972-03-25T00:00:00\",\"1972-03-18T00:00:00\",\"1972-03-11T00:00:00\"],\"y\":[48,26,6,5,4,2,2,4,5,9,14,33,68],\"type\":\"scatter\"},{\"mode\":\"lines+markers\",\"name\":\"Got To Be There\",\"x\":[\"1972-01-29T00:00:00\",\"1972-01-22T00:00:00\",\"1972-01-15T00:00:00\",\"1972-01-08T00:00:00\",\"1972-01-01T00:00:00\",\"1971-12-25T00:00:00\",\"1971-12-18T00:00:00\",\"1971-12-11T00:00:00\",\"1971-12-04T00:00:00\",\"1971-11-27T00:00:00\",\"1971-11-20T00:00:00\",\"1971-11-13T00:00:00\",\"1971-11-06T00:00:00\",\"1971-10-30T00:00:00\"],\"y\":[31,15,8,5,5,5,5,4,6,7,9,13,39,89],\"type\":\"scatter\"}],                        {\"template\":{\"data\":{\"histogram2dcontour\":[{\"type\":\"histogram2dcontour\",\"colorbar\":{\"outlinewidth\":0,\"ticks\":\"\"},\"colorscale\":[[0.0,\"#0d0887\"],[0.1111111111111111,\"#46039f\"],[0.2222222222222222,\"#7201a8\"],[0.3333333333333333,\"#9c179e\"],[0.4444444444444444,\"#bd3786\"],[0.5555555555555556,\"#d8576b\"],[0.6666666666666666,\"#ed7953\"],[0.7777777777777778,\"#fb9f3a\"],[0.8888888888888888,\"#fdca26\"],[1.0,\"#f0f921\"]]}],\"choropleth\":[{\"type\":\"choropleth\",\"colorbar\":{\"outlinewidth\":0,\"ticks\":\"\"}}],\"histogram2d\":[{\"type\":\"histogram2d\",\"colorbar\":{\"outlinewidth\":0,\"ticks\":\"\"},\"colorscale\":[[0.0,\"#0d0887\"],[0.1111111111111111,\"#46039f\"],[0.2222222222222222,\"#7201a8\"],[0.3333333333333333,\"#9c179e\"],[0.4444444444444444,\"#bd3786\"],[0.5555555555555556,\"#d8576b\"],[0.6666666666666666,\"#ed7953\"],[0.7777777777777778,\"#fb9f3a\"],[0.8888888888888888,\"#fdca26\"],[1.0,\"#f0f921\"]]}],\"heatmap\":[{\"type\":\"heatmap\",\"colorbar\":{\"outlinewidth\":0,\"ticks\":\"\"},\"colorscale\":[[0.0,\"#0d0887\"],[0.1111111111111111,\"#46039f\"],[0.2222222222222222,\"#7201a8\"],[0.3333333333333333,\"#9c179e\"],[0.4444444444444444,\"#bd3786\"],[0.5555555555555556,\"#d8576b\"],[0.6666666666666666,\"#ed7953\"],[0.7777777777777778,\"#fb9f3a\"],[0.8888888888888888,\"#fdca26\"],[1.0,\"#f0f921\"]]}],\"heatmapgl\":[{\"type\":\"heatmapgl\",\"colorbar\":{\"outlinewidth\":0,\"ticks\":\"\"},\"colorscale\":[[0.0,\"#0d0887\"],[0.1111111111111111,\"#46039f\"],[0.2222222222222222,\"#7201a8\"],[0.3333333333333333,\"#9c179e\"],[0.4444444444444444,\"#bd3786\"],[0.5555555555555556,\"#d8576b\"],[0.6666666666666666,\"#ed7953\"],[0.7777777777777778,\"#fb9f3a\"],[0.8888888888888888,\"#fdca26\"],[1.0,\"#f0f921\"]]}],\"contourcarpet\":[{\"type\":\"contourcarpet\",\"colorbar\":{\"outlinewidth\":0,\"ticks\":\"\"}}],\"contour\":[{\"type\":\"contour\",\"colorbar\":{\"outlinewidth\":0,\"ticks\":\"\"},\"colorscale\":[[0.0,\"#0d0887\"],[0.1111111111111111,\"#46039f\"],[0.2222222222222222,\"#7201a8\"],[0.3333333333333333,\"#9c179e\"],[0.4444444444444444,\"#bd3786\"],[0.5555555555555556,\"#d8576b\"],[0.6666666666666666,\"#ed7953\"],[0.7777777777777778,\"#fb9f3a\"],[0.8888888888888888,\"#fdca26\"],[1.0,\"#f0f921\"]]}],\"surface\":[{\"type\":\"surface\",\"colorbar\":{\"outlinewidth\":0,\"ticks\":\"\"},\"colorscale\":[[0.0,\"#0d0887\"],[0.1111111111111111,\"#46039f\"],[0.2222222222222222,\"#7201a8\"],[0.3333333333333333,\"#9c179e\"],[0.4444444444444444,\"#bd3786\"],[0.5555555555555556,\"#d8576b\"],[0.6666666666666666,\"#ed7953\"],[0.7777777777777778,\"#fb9f3a\"],[0.8888888888888888,\"#fdca26\"],[1.0,\"#f0f921\"]]}],\"mesh3d\":[{\"type\":\"mesh3d\",\"colorbar\":{\"outlinewidth\":0,\"ticks\":\"\"}}],\"scatter\":[{\"marker\":{\"line\":{\"color\":\"#283442\"}},\"type\":\"scatter\"}],\"parcoords\":[{\"type\":\"parcoords\",\"line\":{\"colorbar\":{\"outlinewidth\":0,\"ticks\":\"\"}}}],\"scatterpolargl\":[{\"type\":\"scatterpolargl\",\"marker\":{\"colorbar\":{\"outlinewidth\":0,\"ticks\":\"\"}}}],\"bar\":[{\"error_x\":{\"color\":\"#f2f5fa\"},\"error_y\":{\"color\":\"#f2f5fa\"},\"marker\":{\"line\":{\"color\":\"rgb(17,17,17)\",\"width\":0.5},\"pattern\":{\"fillmode\":\"overlay\",\"size\":10,\"solidity\":0.2}},\"type\":\"bar\"}],\"scattergeo\":[{\"type\":\"scattergeo\",\"marker\":{\"colorbar\":{\"outlinewidth\":0,\"ticks\":\"\"}}}],\"scatterpolar\":[{\"type\":\"scatterpolar\",\"marker\":{\"colorbar\":{\"outlinewidth\":0,\"ticks\":\"\"}}}],\"histogram\":[{\"marker\":{\"pattern\":{\"fillmode\":\"overlay\",\"size\":10,\"solidity\":0.2}},\"type\":\"histogram\"}],\"scattergl\":[{\"marker\":{\"line\":{\"color\":\"#283442\"}},\"type\":\"scattergl\"}],\"scatter3d\":[{\"type\":\"scatter3d\",\"line\":{\"colorbar\":{\"outlinewidth\":0,\"ticks\":\"\"}},\"marker\":{\"colorbar\":{\"outlinewidth\":0,\"ticks\":\"\"}}}],\"scattermapbox\":[{\"type\":\"scattermapbox\",\"marker\":{\"colorbar\":{\"outlinewidth\":0,\"ticks\":\"\"}}}],\"scatterternary\":[{\"type\":\"scatterternary\",\"marker\":{\"colorbar\":{\"outlinewidth\":0,\"ticks\":\"\"}}}],\"scattercarpet\":[{\"type\":\"scattercarpet\",\"marker\":{\"colorbar\":{\"outlinewidth\":0,\"ticks\":\"\"}}}],\"carpet\":[{\"aaxis\":{\"endlinecolor\":\"#A2B1C6\",\"gridcolor\":\"#506784\",\"linecolor\":\"#506784\",\"minorgridcolor\":\"#506784\",\"startlinecolor\":\"#A2B1C6\"},\"baxis\":{\"endlinecolor\":\"#A2B1C6\",\"gridcolor\":\"#506784\",\"linecolor\":\"#506784\",\"minorgridcolor\":\"#506784\",\"startlinecolor\":\"#A2B1C6\"},\"type\":\"carpet\"}],\"table\":[{\"cells\":{\"fill\":{\"color\":\"#506784\"},\"line\":{\"color\":\"rgb(17,17,17)\"}},\"header\":{\"fill\":{\"color\":\"#2a3f5f\"},\"line\":{\"color\":\"rgb(17,17,17)\"}},\"type\":\"table\"}],\"barpolar\":[{\"marker\":{\"line\":{\"color\":\"rgb(17,17,17)\",\"width\":0.5},\"pattern\":{\"fillmode\":\"overlay\",\"size\":10,\"solidity\":0.2}},\"type\":\"barpolar\"}],\"pie\":[{\"automargin\":true,\"type\":\"pie\"}]},\"layout\":{\"autotypenumbers\":\"strict\",\"colorway\":[\"#636efa\",\"#EF553B\",\"#00cc96\",\"#ab63fa\",\"#FFA15A\",\"#19d3f3\",\"#FF6692\",\"#B6E880\",\"#FF97FF\",\"#FECB52\"],\"font\":{\"color\":\"#f2f5fa\"},\"hovermode\":\"closest\",\"hoverlabel\":{\"align\":\"left\"},\"paper_bgcolor\":\"rgb(17,17,17)\",\"plot_bgcolor\":\"rgb(17,17,17)\",\"polar\":{\"bgcolor\":\"rgb(17,17,17)\",\"angularaxis\":{\"gridcolor\":\"#506784\",\"linecolor\":\"#506784\",\"ticks\":\"\"},\"radialaxis\":{\"gridcolor\":\"#506784\",\"linecolor\":\"#506784\",\"ticks\":\"\"}},\"ternary\":{\"bgcolor\":\"rgb(17,17,17)\",\"aaxis\":{\"gridcolor\":\"#506784\",\"linecolor\":\"#506784\",\"ticks\":\"\"},\"baxis\":{\"gridcolor\":\"#506784\",\"linecolor\":\"#506784\",\"ticks\":\"\"},\"caxis\":{\"gridcolor\":\"#506784\",\"linecolor\":\"#506784\",\"ticks\":\"\"}},\"coloraxis\":{\"colorbar\":{\"outlinewidth\":0,\"ticks\":\"\"}},\"colorscale\":{\"sequential\":[[0.0,\"#0d0887\"],[0.1111111111111111,\"#46039f\"],[0.2222222222222222,\"#7201a8\"],[0.3333333333333333,\"#9c179e\"],[0.4444444444444444,\"#bd3786\"],[0.5555555555555556,\"#d8576b\"],[0.6666666666666666,\"#ed7953\"],[0.7777777777777778,\"#fb9f3a\"],[0.8888888888888888,\"#fdca26\"],[1.0,\"#f0f921\"]],\"sequentialminus\":[[0.0,\"#0d0887\"],[0.1111111111111111,\"#46039f\"],[0.2222222222222222,\"#7201a8\"],[0.3333333333333333,\"#9c179e\"],[0.4444444444444444,\"#bd3786\"],[0.5555555555555556,\"#d8576b\"],[0.6666666666666666,\"#ed7953\"],[0.7777777777777778,\"#fb9f3a\"],[0.8888888888888888,\"#fdca26\"],[1.0,\"#f0f921\"]],\"diverging\":[[0,\"#8e0152\"],[0.1,\"#c51b7d\"],[0.2,\"#de77ae\"],[0.3,\"#f1b6da\"],[0.4,\"#fde0ef\"],[0.5,\"#f7f7f7\"],[0.6,\"#e6f5d0\"],[0.7,\"#b8e186\"],[0.8,\"#7fbc41\"],[0.9,\"#4d9221\"],[1,\"#276419\"]]},\"xaxis\":{\"gridcolor\":\"#283442\",\"linecolor\":\"#506784\",\"ticks\":\"\",\"title\":{\"standoff\":15},\"zerolinecolor\":\"#283442\",\"automargin\":true,\"zerolinewidth\":2},\"yaxis\":{\"gridcolor\":\"#283442\",\"linecolor\":\"#506784\",\"ticks\":\"\",\"title\":{\"standoff\":15},\"zerolinecolor\":\"#283442\",\"automargin\":true,\"zerolinewidth\":2},\"scene\":{\"xaxis\":{\"backgroundcolor\":\"rgb(17,17,17)\",\"gridcolor\":\"#506784\",\"linecolor\":\"#506784\",\"showbackground\":true,\"ticks\":\"\",\"zerolinecolor\":\"#C8D4E3\",\"gridwidth\":2},\"yaxis\":{\"backgroundcolor\":\"rgb(17,17,17)\",\"gridcolor\":\"#506784\",\"linecolor\":\"#506784\",\"showbackground\":true,\"ticks\":\"\",\"zerolinecolor\":\"#C8D4E3\",\"gridwidth\":2},\"zaxis\":{\"backgroundcolor\":\"rgb(17,17,17)\",\"gridcolor\":\"#506784\",\"linecolor\":\"#506784\",\"showbackground\":true,\"ticks\":\"\",\"zerolinecolor\":\"#C8D4E3\",\"gridwidth\":2}},\"shapedefaults\":{\"line\":{\"color\":\"#f2f5fa\"}},\"annotationdefaults\":{\"arrowcolor\":\"#f2f5fa\",\"arrowhead\":0,\"arrowwidth\":1},\"geo\":{\"bgcolor\":\"rgb(17,17,17)\",\"landcolor\":\"rgb(17,17,17)\",\"subunitcolor\":\"#506784\",\"showland\":true,\"showlakes\":true,\"lakecolor\":\"rgb(17,17,17)\"},\"title\":{\"x\":0.05},\"updatemenudefaults\":{\"bgcolor\":\"#506784\",\"borderwidth\":0},\"sliderdefaults\":{\"bgcolor\":\"#C8D4E3\",\"borderwidth\":1,\"bordercolor\":\"rgb(17,17,17)\",\"tickwidth\":0},\"mapbox\":{\"style\":\"dark\"}}},\"yaxis\":{\"range\":[100,0],\"title\":{\"text\":\"Classement\"}},\"legend\":{\"font\":{\"size\":7}},\"height\":800,\"xaxis\":{\"title\":{\"text\":\"Date\"}}},                        {\"responsive\": true}                    ).then(function(){\n                            \nvar gd = document.getElementById('dd4f4df1-0d84-4dc6-a73a-3f296f6150a9');\nvar x = new MutationObserver(function (mutations, observer) {{\n        var display = window.getComputedStyle(gd).display;\n        if (!display || display === 'none') {{\n            console.log([gd, 'removed!']);\n            Plotly.purge(gd);\n            observer.disconnect();\n        }}\n}});\n\n// Listen for the removal of the full notebook cells\nvar notebookContainer = gd.closest('#notebook-container');\nif (notebookContainer) {{\n    x.observe(notebookContainer, {childList: true});\n}}\n\n// Listen for the clearing of the current output cell\nvar outputEl = gd.closest('.output');\nif (outputEl) {{\n    x.observe(outputEl, {childList: true});\n}}\n\n                        })                };                });            </script>        </div>"
     },
     "metadata": {},
     "output_type": "display_data"
    }
   ],
   "source": [
    "show_music_of_artist(df, \"Michael Jackson\")"
   ]
  },
  {
   "cell_type": "code",
   "execution_count": 112,
   "metadata": {
    "pycharm": {
     "name": "#%%\n"
    }
   },
   "outputs": [
    {
     "data": {
      "application/vnd.plotly.v1+json": {
       "data": [
        {
         "mode": "lines+markers",
         "name": "Take My Breath",
         "x": [
          "2021-11-06T00:00:00",
          "2021-10-30T00:00:00",
          "2021-10-23T00:00:00",
          "2021-10-16T00:00:00",
          "2021-10-09T00:00:00",
          "2021-10-02T00:00:00",
          "2021-09-25T00:00:00",
          "2021-09-18T00:00:00",
          "2021-09-11T00:00:00",
          "2021-09-04T00:00:00",
          "2021-08-28T00:00:00",
          "2021-08-21T00:00:00"
         ],
         "y": [
          32,
          27,
          24,
          22,
          22,
          21,
          23,
          37,
          25,
          16,
          13,
          6
         ],
         "type": "scatter"
        },
        {
         "mode": "lines+markers",
         "name": "Blinding Lights",
         "x": [
          "2021-09-04T00:00:00",
          "2021-08-28T00:00:00",
          "2021-08-21T00:00:00",
          "2021-08-14T00:00:00",
          "2021-08-07T00:00:00",
          "2021-07-31T00:00:00",
          "2021-07-24T00:00:00",
          "2021-07-17T00:00:00",
          "2021-07-10T00:00:00",
          "2021-07-03T00:00:00",
          "2021-06-26T00:00:00",
          "2021-06-19T00:00:00",
          "2021-06-12T00:00:00",
          "2021-06-05T00:00:00",
          "2021-05-29T00:00:00",
          "2021-05-22T00:00:00",
          "2021-05-15T00:00:00",
          "2021-05-08T00:00:00",
          "2021-05-01T00:00:00",
          "2021-04-24T00:00:00",
          "2021-04-17T00:00:00",
          "2021-04-10T00:00:00",
          "2021-04-03T00:00:00",
          "2021-03-27T00:00:00",
          "2021-03-20T00:00:00",
          "2021-03-13T00:00:00",
          "2021-03-06T00:00:00",
          "2021-02-27T00:00:00",
          "2021-02-20T00:00:00",
          "2021-02-13T00:00:00",
          "2021-02-06T00:00:00",
          "2021-01-30T00:00:00",
          "2021-01-23T00:00:00",
          "2021-01-16T00:00:00",
          "2021-01-09T00:00:00",
          "2020-12-26T00:00:00",
          "2020-12-19T00:00:00",
          "2020-12-12T00:00:00",
          "2020-12-05T00:00:00",
          "2020-11-28T00:00:00",
          "2020-11-21T00:00:00",
          "2020-11-14T00:00:00",
          "2020-11-07T00:00:00",
          "2020-10-31T00:00:00",
          "2020-10-24T00:00:00",
          "2020-10-17T00:00:00",
          "2020-10-10T00:00:00",
          "2020-10-03T00:00:00",
          "2020-09-26T00:00:00",
          "2020-09-19T00:00:00",
          "2020-09-12T00:00:00",
          "2020-09-05T00:00:00",
          "2020-08-29T00:00:00",
          "2020-08-22T00:00:00",
          "2020-08-15T00:00:00",
          "2020-08-08T00:00:00",
          "2020-08-01T00:00:00",
          "2020-07-25T00:00:00",
          "2020-07-18T00:00:00",
          "2020-07-11T00:00:00",
          "2020-07-04T00:00:00",
          "2020-06-27T00:00:00",
          "2020-06-20T00:00:00",
          "2020-06-13T00:00:00",
          "2020-06-06T00:00:00",
          "2020-05-30T00:00:00",
          "2020-05-23T00:00:00",
          "2020-05-16T00:00:00",
          "2020-05-09T00:00:00",
          "2020-05-02T00:00:00",
          "2020-04-25T00:00:00",
          "2020-04-18T00:00:00",
          "2020-04-11T00:00:00",
          "2020-04-04T00:00:00",
          "2020-03-28T00:00:00",
          "2020-03-21T00:00:00",
          "2020-03-14T00:00:00",
          "2020-03-07T00:00:00",
          "2020-02-29T00:00:00",
          "2020-02-22T00:00:00",
          "2020-02-15T00:00:00",
          "2020-02-08T00:00:00",
          "2020-02-01T00:00:00",
          "2020-01-25T00:00:00",
          "2020-01-18T00:00:00",
          "2020-01-11T00:00:00",
          "2020-01-04T00:00:00",
          "2019-12-28T00:00:00",
          "2019-12-21T00:00:00",
          "2019-12-14T00:00:00"
         ],
         "y": [
          20,
          21,
          18,
          16,
          17,
          17,
          17,
          15,
          18,
          15,
          17,
          15,
          17,
          22,
          23,
          12,
          11,
          11,
          13,
          11,
          9,
          8,
          6,
          6,
          8,
          3,
          5,
          4,
          3,
          3,
          3,
          4,
          4,
          3,
          3,
          18,
          7,
          11,
          9,
          7,
          5,
          4,
          5,
          4,
          4,
          6,
          6,
          7,
          5,
          5,
          5,
          5,
          4,
          3,
          4,
          5,
          4,
          4,
          2,
          3,
          3,
          5,
          3,
          3,
          4,
          3,
          4,
          3,
          2,
          1,
          1,
          2,
          1,
          1,
          2,
          4,
          7,
          8,
          10,
          12,
          15,
          18,
          21,
          32,
          39,
          59,
          72,
          63,
          52,
          11
         ],
         "type": "scatter"
        },
        {
         "mode": "lines+markers",
         "name": "Save Your Tears",
         "x": [
          "2021-05-01T00:00:00",
          "2021-04-24T00:00:00",
          "2021-04-17T00:00:00",
          "2021-04-10T00:00:00",
          "2021-04-03T00:00:00",
          "2021-03-27T00:00:00",
          "2021-03-20T00:00:00",
          "2021-03-13T00:00:00",
          "2021-03-06T00:00:00",
          "2021-02-27T00:00:00",
          "2021-02-20T00:00:00",
          "2021-02-13T00:00:00",
          "2021-02-06T00:00:00",
          "2021-01-30T00:00:00",
          "2021-01-23T00:00:00",
          "2021-01-16T00:00:00",
          "2021-01-09T00:00:00",
          "2020-04-11T00:00:00",
          "2020-04-04T00:00:00"
         ],
         "y": [
          6,
          5,
          6,
          6,
          5,
          5,
          7,
          6,
          6,
          6,
          4,
          8,
          14,
          20,
          21,
          46,
          95,
          85,
          41
         ],
         "type": "scatter"
        },
        {
         "mode": "lines+markers",
         "name": "In Your Eyes",
         "x": [
          "2020-07-11T00:00:00",
          "2020-07-04T00:00:00",
          "2020-06-27T00:00:00",
          "2020-06-20T00:00:00",
          "2020-06-13T00:00:00",
          "2020-06-06T00:00:00",
          "2020-05-30T00:00:00",
          "2020-05-23T00:00:00",
          "2020-05-16T00:00:00",
          "2020-05-09T00:00:00",
          "2020-05-02T00:00:00",
          "2020-04-25T00:00:00",
          "2020-04-18T00:00:00",
          "2020-04-11T00:00:00",
          "2020-04-04T00:00:00"
         ],
         "y": [
          89,
          80,
          67,
          54,
          53,
          32,
          58,
          54,
          62,
          51,
          55,
          45,
          47,
          42,
          16
         ],
         "type": "scatter"
        },
        {
         "mode": "lines+markers",
         "name": "Heartless",
         "x": [
          "2020-05-09T00:00:00",
          "2020-05-02T00:00:00",
          "2020-04-25T00:00:00",
          "2020-04-18T00:00:00",
          "2020-04-11T00:00:00",
          "2020-04-04T00:00:00",
          "2020-03-28T00:00:00",
          "2020-03-21T00:00:00",
          "2020-03-14T00:00:00",
          "2020-03-07T00:00:00",
          "2020-02-29T00:00:00",
          "2020-02-22T00:00:00",
          "2020-02-15T00:00:00",
          "2020-02-08T00:00:00",
          "2020-02-01T00:00:00",
          "2020-01-25T00:00:00",
          "2020-01-18T00:00:00",
          "2020-01-11T00:00:00",
          "2020-01-04T00:00:00",
          "2019-12-28T00:00:00",
          "2019-12-21T00:00:00",
          "2019-12-14T00:00:00",
          "2019-12-07T00:00:00"
         ],
         "y": [
          37,
          28,
          21,
          19,
          12,
          4,
          16,
          21,
          17,
          13,
          14,
          17,
          17,
          19,
          19,
          18,
          17,
          20,
          39,
          26,
          17,
          1,
          32
         ],
         "type": "scatter"
        },
        {
         "mode": "lines+markers",
         "name": "After Hours",
         "x": [
          "2020-04-18T00:00:00",
          "2020-04-11T00:00:00",
          "2020-04-04T00:00:00",
          "2020-03-21T00:00:00",
          "2020-03-14T00:00:00",
          "2020-03-07T00:00:00",
          "2020-02-29T00:00:00"
         ],
         "y": [
          90,
          61,
          22,
          100,
          66,
          20,
          77
         ],
         "type": "scatter"
        },
        {
         "mode": "lines+markers",
         "name": "Alone Again",
         "x": [
          "2020-04-04T00:00:00"
         ],
         "y": [
          21
         ],
         "type": "scatter"
        },
        {
         "mode": "lines+markers",
         "name": "Scared To Live",
         "x": [
          "2020-04-04T00:00:00"
         ],
         "y": [
          24
         ],
         "type": "scatter"
        },
        {
         "mode": "lines+markers",
         "name": "Hardest To Love",
         "x": [
          "2020-04-04T00:00:00"
         ],
         "y": [
          25
         ],
         "type": "scatter"
        },
        {
         "mode": "lines+markers",
         "name": "Too Late",
         "x": [
          "2020-04-04T00:00:00"
         ],
         "y": [
          28
         ],
         "type": "scatter"
        },
        {
         "mode": "lines+markers",
         "name": "Snowchild",
         "x": [
          "2020-04-04T00:00:00"
         ],
         "y": [
          32
         ],
         "type": "scatter"
        },
        {
         "mode": "lines+markers",
         "name": "Escape From LA",
         "x": [
          "2020-04-04T00:00:00"
         ],
         "y": [
          39
         ],
         "type": "scatter"
        },
        {
         "mode": "lines+markers",
         "name": "Faith",
         "x": [
          "2020-04-04T00:00:00"
         ],
         "y": [
          45
         ],
         "type": "scatter"
        },
        {
         "mode": "lines+markers",
         "name": "Repeat After Me (Interlude)",
         "x": [
          "2020-04-04T00:00:00"
         ],
         "y": [
          69
         ],
         "type": "scatter"
        },
        {
         "mode": "lines+markers",
         "name": "Until I Bleed Out",
         "x": [
          "2020-04-04T00:00:00"
         ],
         "y": [
          80
         ],
         "type": "scatter"
        },
        {
         "mode": "lines+markers",
         "name": "Call Out My Name",
         "x": [
          "2018-08-11T00:00:00",
          "2018-08-04T00:00:00",
          "2018-07-28T00:00:00",
          "2018-07-21T00:00:00",
          "2018-07-14T00:00:00",
          "2018-07-07T00:00:00",
          "2018-06-30T00:00:00",
          "2018-06-23T00:00:00",
          "2018-06-16T00:00:00",
          "2018-06-09T00:00:00",
          "2018-06-02T00:00:00",
          "2018-05-26T00:00:00",
          "2018-05-19T00:00:00",
          "2018-05-12T00:00:00",
          "2018-05-05T00:00:00",
          "2018-04-28T00:00:00",
          "2018-04-21T00:00:00",
          "2018-04-14T00:00:00"
         ],
         "y": [
          95,
          89,
          95,
          95,
          90,
          78,
          73,
          54,
          52,
          40,
          30,
          32,
          29,
          32,
          19,
          17,
          20,
          4
         ],
         "type": "scatter"
        },
        {
         "mode": "lines+markers",
         "name": "Wasted Times",
         "x": [
          "2018-04-28T00:00:00",
          "2018-04-21T00:00:00",
          "2018-04-14T00:00:00"
         ],
         "y": [
          76,
          63,
          27
         ],
         "type": "scatter"
        },
        {
         "mode": "lines+markers",
         "name": "Try Me",
         "x": [
          "2018-04-21T00:00:00",
          "2018-04-14T00:00:00"
         ],
         "y": [
          74,
          26
         ],
         "type": "scatter"
        },
        {
         "mode": "lines+markers",
         "name": "Privilege",
         "x": [
          "2018-04-14T00:00:00"
         ],
         "y": [
          52
         ],
         "type": "scatter"
        },
        {
         "mode": "lines+markers",
         "name": "Reminder",
         "x": [
          "2017-09-23T00:00:00",
          "2017-09-09T00:00:00",
          "2017-09-02T00:00:00",
          "2017-08-26T00:00:00",
          "2017-08-19T00:00:00",
          "2017-08-12T00:00:00",
          "2017-08-05T00:00:00",
          "2017-07-29T00:00:00",
          "2017-07-22T00:00:00",
          "2017-07-15T00:00:00",
          "2017-07-08T00:00:00",
          "2017-07-01T00:00:00",
          "2017-03-11T00:00:00",
          "2017-01-07T00:00:00",
          "2016-12-31T00:00:00",
          "2016-12-24T00:00:00",
          "2016-12-17T00:00:00"
         ],
         "y": [
          99,
          87,
          76,
          65,
          73,
          100,
          90,
          99,
          91,
          93,
          87,
          97,
          77,
          95,
          78,
          50,
          31
         ],
         "type": "scatter"
        },
        {
         "mode": "lines+markers",
         "name": "Party Monster",
         "x": [
          "2017-04-15T00:00:00",
          "2017-04-08T00:00:00",
          "2017-04-01T00:00:00",
          "2017-03-25T00:00:00",
          "2017-03-18T00:00:00",
          "2017-03-11T00:00:00",
          "2017-03-04T00:00:00",
          "2017-02-25T00:00:00",
          "2017-02-18T00:00:00",
          "2017-02-11T00:00:00",
          "2017-02-04T00:00:00",
          "2017-01-28T00:00:00",
          "2017-01-21T00:00:00",
          "2017-01-14T00:00:00",
          "2017-01-07T00:00:00",
          "2016-12-31T00:00:00",
          "2016-12-24T00:00:00",
          "2016-12-17T00:00:00",
          "2016-12-10T00:00:00"
         ],
         "y": [
          98,
          99,
          77,
          76,
          67,
          64,
          58,
          60,
          55,
          50,
          36,
          47,
          49,
          53,
          49,
          53,
          29,
          16,
          39
         ],
         "type": "scatter"
        },
        {
         "mode": "lines+markers",
         "name": "Six Feet Under",
         "x": [
          "2017-01-07T00:00:00",
          "2016-12-31T00:00:00",
          "2016-12-24T00:00:00",
          "2016-12-17T00:00:00"
         ],
         "y": [
          94,
          81,
          55,
          34
         ],
         "type": "scatter"
        },
        {
         "mode": "lines+markers",
         "name": "Die For You",
         "x": [
          "2016-12-31T00:00:00",
          "2016-12-24T00:00:00",
          "2016-12-17T00:00:00"
         ],
         "y": [
          93,
          71,
          43
         ],
         "type": "scatter"
        },
        {
         "mode": "lines+markers",
         "name": "Secrets",
         "x": [
          "2016-12-24T00:00:00",
          "2016-12-17T00:00:00"
         ],
         "y": [
          66,
          47
         ],
         "type": "scatter"
        },
        {
         "mode": "lines+markers",
         "name": "True Colors",
         "x": [
          "2016-12-24T00:00:00",
          "2016-12-17T00:00:00"
         ],
         "y": [
          78,
          48
         ],
         "type": "scatter"
        },
        {
         "mode": "lines+markers",
         "name": "Rockin'",
         "x": [
          "2016-12-24T00:00:00",
          "2016-12-17T00:00:00"
         ],
         "y": [
          82,
          44
         ],
         "type": "scatter"
        },
        {
         "mode": "lines+markers",
         "name": "False Alarm",
         "x": [
          "2016-12-24T00:00:00",
          "2016-12-17T00:00:00",
          "2016-11-05T00:00:00",
          "2016-10-22T00:00:00"
         ],
         "y": [
          86,
          55,
          68,
          63
         ],
         "type": "scatter"
        },
        {
         "mode": "lines+markers",
         "name": "Attention",
         "x": [
          "2016-12-24T00:00:00",
          "2016-12-17T00:00:00"
         ],
         "y": [
          96,
          67
         ],
         "type": "scatter"
        },
        {
         "mode": "lines+markers",
         "name": "Ordinary Life",
         "x": [
          "2016-12-24T00:00:00",
          "2016-12-17T00:00:00"
         ],
         "y": [
          97,
          72
         ],
         "type": "scatter"
        },
        {
         "mode": "lines+markers",
         "name": "Nothing Without You",
         "x": [
          "2016-12-17T00:00:00"
         ],
         "y": [
          68
         ],
         "type": "scatter"
        },
        {
         "mode": "lines+markers",
         "name": "A Lonely Night",
         "x": [
          "2016-12-17T00:00:00"
         ],
         "y": [
          69
         ],
         "type": "scatter"
        },
        {
         "mode": "lines+markers",
         "name": "Love To Lay",
         "x": [
          "2016-12-17T00:00:00"
         ],
         "y": [
          71
         ],
         "type": "scatter"
        },
        {
         "mode": "lines+markers",
         "name": "Acquainted",
         "x": [
          "2016-05-14T00:00:00",
          "2016-05-07T00:00:00",
          "2016-04-30T00:00:00",
          "2016-04-23T00:00:00",
          "2016-04-16T00:00:00",
          "2016-04-09T00:00:00",
          "2016-04-02T00:00:00",
          "2016-03-26T00:00:00",
          "2016-03-19T00:00:00",
          "2016-03-12T00:00:00",
          "2016-03-05T00:00:00",
          "2016-02-27T00:00:00",
          "2016-02-20T00:00:00",
          "2016-02-13T00:00:00",
          "2016-02-06T00:00:00",
          "2015-10-03T00:00:00",
          "2015-09-26T00:00:00",
          "2015-09-19T00:00:00"
         ],
         "y": [
          92,
          75,
          72,
          77,
          70,
          73,
          76,
          77,
          75,
          76,
          82,
          95,
          98,
          99,
          100,
          77,
          72,
          60
         ],
         "type": "scatter"
        },
        {
         "mode": "lines+markers",
         "name": "The Hills",
         "x": [
          "2016-05-07T00:00:00",
          "2016-04-30T00:00:00",
          "2016-04-23T00:00:00",
          "2016-04-16T00:00:00",
          "2016-04-09T00:00:00",
          "2016-04-02T00:00:00",
          "2016-03-26T00:00:00",
          "2016-03-19T00:00:00",
          "2016-03-12T00:00:00",
          "2016-03-05T00:00:00",
          "2016-02-27T00:00:00",
          "2016-02-20T00:00:00",
          "2016-02-13T00:00:00",
          "2016-02-06T00:00:00",
          "2016-01-30T00:00:00",
          "2016-01-23T00:00:00",
          "2016-01-16T00:00:00",
          "2016-01-09T00:00:00",
          "2016-01-02T00:00:00",
          "2015-12-26T00:00:00",
          "2015-12-19T00:00:00",
          "2015-12-12T00:00:00",
          "2015-12-05T00:00:00",
          "2015-11-28T00:00:00",
          "2015-11-21T00:00:00",
          "2015-11-14T00:00:00",
          "2015-11-07T00:00:00",
          "2015-10-31T00:00:00",
          "2015-10-24T00:00:00",
          "2015-10-17T00:00:00",
          "2015-10-10T00:00:00",
          "2015-10-03T00:00:00",
          "2015-09-26T00:00:00",
          "2015-09-19T00:00:00",
          "2015-09-12T00:00:00",
          "2015-09-05T00:00:00",
          "2015-08-29T00:00:00",
          "2015-08-22T00:00:00",
          "2015-08-15T00:00:00",
          "2015-08-08T00:00:00",
          "2015-08-01T00:00:00",
          "2015-07-25T00:00:00",
          "2015-07-18T00:00:00",
          "2015-07-11T00:00:00",
          "2015-07-04T00:00:00",
          "2015-06-27T00:00:00",
          "2015-06-20T00:00:00",
          "2015-06-13T00:00:00"
         ],
         "y": [
          48,
          39,
          42,
          33,
          28,
          25,
          24,
          21,
          22,
          27,
          25,
          23,
          21,
          18,
          14,
          11,
          11,
          9,
          7,
          6,
          5,
          5,
          6,
          4,
          3,
          4,
          1,
          1,
          1,
          1,
          1,
          1,
          2,
          3,
          4,
          5,
          5,
          11,
          11,
          11,
          10,
          12,
          19,
          23,
          22,
          23,
          21,
          20
         ],
         "type": "scatter"
        },
        {
         "mode": "lines+markers",
         "name": "In The Night",
         "x": [
          "2016-04-09T00:00:00",
          "2016-04-02T00:00:00",
          "2016-03-26T00:00:00",
          "2016-03-19T00:00:00",
          "2016-03-12T00:00:00",
          "2016-03-05T00:00:00",
          "2016-02-27T00:00:00",
          "2016-02-20T00:00:00",
          "2016-02-13T00:00:00",
          "2016-02-06T00:00:00",
          "2016-01-30T00:00:00",
          "2016-01-23T00:00:00",
          "2016-01-16T00:00:00",
          "2016-01-09T00:00:00",
          "2016-01-02T00:00:00",
          "2015-12-26T00:00:00",
          "2015-12-19T00:00:00",
          "2015-12-12T00:00:00",
          "2015-12-05T00:00:00",
          "2015-09-19T00:00:00"
         ],
         "y": [
          52,
          47,
          36,
          28,
          19,
          15,
          14,
          16,
          13,
          13,
          15,
          16,
          20,
          15,
          12,
          19,
          37,
          54,
          86,
          100
         ],
         "type": "scatter"
        },
        {
         "mode": "lines+markers",
         "name": "Can't Feel My Face",
         "x": [
          "2016-04-02T00:00:00",
          "2016-03-26T00:00:00",
          "2016-03-19T00:00:00",
          "2016-03-12T00:00:00",
          "2016-03-05T00:00:00",
          "2016-02-27T00:00:00",
          "2016-02-20T00:00:00",
          "2016-02-13T00:00:00",
          "2016-02-06T00:00:00",
          "2016-01-30T00:00:00",
          "2016-01-23T00:00:00",
          "2016-01-16T00:00:00",
          "2016-01-09T00:00:00",
          "2016-01-02T00:00:00",
          "2015-12-26T00:00:00",
          "2015-12-19T00:00:00",
          "2015-12-12T00:00:00",
          "2015-12-05T00:00:00",
          "2015-11-28T00:00:00",
          "2015-11-21T00:00:00",
          "2015-11-14T00:00:00",
          "2015-11-07T00:00:00",
          "2015-10-31T00:00:00",
          "2015-10-24T00:00:00",
          "2015-10-17T00:00:00",
          "2015-10-10T00:00:00",
          "2015-10-03T00:00:00",
          "2015-09-26T00:00:00",
          "2015-09-19T00:00:00",
          "2015-09-12T00:00:00",
          "2015-09-05T00:00:00",
          "2015-08-29T00:00:00",
          "2015-08-22T00:00:00",
          "2015-08-15T00:00:00",
          "2015-08-08T00:00:00",
          "2015-08-01T00:00:00",
          "2015-07-25T00:00:00",
          "2015-07-18T00:00:00",
          "2015-07-11T00:00:00",
          "2015-07-04T00:00:00",
          "2015-06-27T00:00:00"
         ],
         "y": [
          50,
          45,
          39,
          38,
          32,
          42,
          42,
          35,
          32,
          27,
          24,
          24,
          21,
          15,
          15,
          16,
          17,
          17,
          12,
          14,
          10,
          7,
          7,
          6,
          4,
          3,
          3,
          1,
          2,
          1,
          2,
          2,
          1,
          2,
          2,
          2,
          3,
          6,
          6,
          12,
          24
         ],
         "type": "scatter"
        },
        {
         "mode": "lines+markers",
         "name": "Earned It (Fifty Shades Of Grey)",
         "x": [
          "2015-10-31T00:00:00",
          "2015-10-24T00:00:00",
          "2015-10-17T00:00:00",
          "2015-10-10T00:00:00",
          "2015-10-03T00:00:00",
          "2015-09-26T00:00:00",
          "2015-09-19T00:00:00",
          "2015-09-12T00:00:00",
          "2015-09-05T00:00:00",
          "2015-08-29T00:00:00",
          "2015-08-22T00:00:00",
          "2015-08-15T00:00:00",
          "2015-08-08T00:00:00",
          "2015-08-01T00:00:00",
          "2015-07-25T00:00:00",
          "2015-07-18T00:00:00",
          "2015-07-11T00:00:00",
          "2015-07-04T00:00:00",
          "2015-06-27T00:00:00",
          "2015-06-20T00:00:00",
          "2015-06-13T00:00:00",
          "2015-06-06T00:00:00",
          "2015-05-30T00:00:00",
          "2015-05-23T00:00:00",
          "2015-05-16T00:00:00",
          "2015-05-09T00:00:00",
          "2015-05-02T00:00:00",
          "2015-04-25T00:00:00",
          "2015-04-18T00:00:00",
          "2015-04-11T00:00:00",
          "2015-04-04T00:00:00",
          "2015-03-28T00:00:00",
          "2015-03-21T00:00:00",
          "2015-03-14T00:00:00",
          "2015-03-07T00:00:00",
          "2015-02-28T00:00:00",
          "2015-02-21T00:00:00",
          "2015-02-14T00:00:00",
          "2015-02-07T00:00:00",
          "2015-01-31T00:00:00",
          "2015-01-24T00:00:00",
          "2015-01-17T00:00:00",
          "2015-01-10T00:00:00"
         ],
         "y": [
          48,
          47,
          44,
          42,
          36,
          34,
          37,
          37,
          33,
          34,
          32,
          30,
          26,
          22,
          18,
          16,
          16,
          10,
          8,
          7,
          6,
          5,
          3,
          3,
          4,
          4,
          3,
          6,
          4,
          5,
          6,
          6,
          7,
          9,
          9,
          12,
          29,
          38,
          27,
          70,
          82,
          87,
          49
         ],
         "type": "scatter"
        },
        {
         "mode": "lines+markers",
         "name": "Tell Your Friends",
         "x": [
          "2015-10-03T00:00:00",
          "2015-09-26T00:00:00",
          "2015-09-19T00:00:00"
         ],
         "y": [
          79,
          70,
          54
         ],
         "type": "scatter"
        },
        {
         "mode": "lines+markers",
         "name": "Real Life",
         "x": [
          "2015-09-26T00:00:00",
          "2015-09-19T00:00:00"
         ],
         "y": [
          79,
          62
         ],
         "type": "scatter"
        },
        {
         "mode": "lines+markers",
         "name": "Shameless",
         "x": [
          "2015-09-26T00:00:00",
          "2015-09-19T00:00:00"
         ],
         "y": [
          99,
          79
         ],
         "type": "scatter"
        },
        {
         "mode": "lines+markers",
         "name": "Often",
         "x": [
          "2015-03-14T00:00:00",
          "2015-03-07T00:00:00",
          "2015-02-28T00:00:00",
          "2015-02-21T00:00:00",
          "2015-02-14T00:00:00",
          "2015-02-07T00:00:00",
          "2015-01-31T00:00:00",
          "2015-01-24T00:00:00",
          "2015-01-17T00:00:00",
          "2015-01-10T00:00:00",
          "2015-01-03T00:00:00",
          "2014-12-27T00:00:00",
          "2014-12-20T00:00:00",
          "2014-12-13T00:00:00",
          "2014-12-06T00:00:00",
          "2014-11-29T00:00:00",
          "2014-11-22T00:00:00",
          "2014-11-15T00:00:00",
          "2014-11-08T00:00:00",
          "2014-11-01T00:00:00"
         ],
         "y": [
          68,
          69,
          61,
          67,
          64,
          59,
          67,
          65,
          69,
          65,
          81,
          74,
          77,
          83,
          84,
          86,
          86,
          99,
          95,
          97
         ],
         "type": "scatter"
        },
        {
         "mode": "lines+markers",
         "name": "Where You Belong",
         "x": [
          "2015-02-28T00:00:00"
         ],
         "y": [
          95
         ],
         "type": "scatter"
        },
        {
         "mode": "lines+markers",
         "name": "Wicked Games",
         "x": [
          "2013-03-30T00:00:00",
          "2013-03-23T00:00:00",
          "2013-03-16T00:00:00",
          "2013-03-09T00:00:00",
          "2013-03-02T00:00:00",
          "2013-02-23T00:00:00",
          "2013-02-16T00:00:00",
          "2013-02-09T00:00:00",
          "2013-02-02T00:00:00",
          "2013-01-26T00:00:00",
          "2013-01-19T00:00:00",
          "2013-01-12T00:00:00",
          "2013-01-05T00:00:00",
          "2012-12-29T00:00:00",
          "2012-12-22T00:00:00",
          "2012-12-15T00:00:00",
          "2012-12-08T00:00:00",
          "2012-12-01T00:00:00",
          "2012-11-24T00:00:00",
          "2012-11-17T00:00:00"
         ],
         "y": [
          76,
          71,
          64,
          54,
          53,
          53,
          53,
          54,
          57,
          53,
          60,
          68,
          58,
          61,
          63,
          69,
          73,
          81,
          91,
          96
         ],
         "type": "scatter"
        }
       ],
       "layout": {
        "template": {
         "data": {
          "histogram2dcontour": [
           {
            "type": "histogram2dcontour",
            "colorbar": {
             "outlinewidth": 0,
             "ticks": ""
            },
            "colorscale": [
             [
              0.0,
              "#0d0887"
             ],
             [
              0.1111111111111111,
              "#46039f"
             ],
             [
              0.2222222222222222,
              "#7201a8"
             ],
             [
              0.3333333333333333,
              "#9c179e"
             ],
             [
              0.4444444444444444,
              "#bd3786"
             ],
             [
              0.5555555555555556,
              "#d8576b"
             ],
             [
              0.6666666666666666,
              "#ed7953"
             ],
             [
              0.7777777777777778,
              "#fb9f3a"
             ],
             [
              0.8888888888888888,
              "#fdca26"
             ],
             [
              1.0,
              "#f0f921"
             ]
            ]
           }
          ],
          "choropleth": [
           {
            "type": "choropleth",
            "colorbar": {
             "outlinewidth": 0,
             "ticks": ""
            }
           }
          ],
          "histogram2d": [
           {
            "type": "histogram2d",
            "colorbar": {
             "outlinewidth": 0,
             "ticks": ""
            },
            "colorscale": [
             [
              0.0,
              "#0d0887"
             ],
             [
              0.1111111111111111,
              "#46039f"
             ],
             [
              0.2222222222222222,
              "#7201a8"
             ],
             [
              0.3333333333333333,
              "#9c179e"
             ],
             [
              0.4444444444444444,
              "#bd3786"
             ],
             [
              0.5555555555555556,
              "#d8576b"
             ],
             [
              0.6666666666666666,
              "#ed7953"
             ],
             [
              0.7777777777777778,
              "#fb9f3a"
             ],
             [
              0.8888888888888888,
              "#fdca26"
             ],
             [
              1.0,
              "#f0f921"
             ]
            ]
           }
          ],
          "heatmap": [
           {
            "type": "heatmap",
            "colorbar": {
             "outlinewidth": 0,
             "ticks": ""
            },
            "colorscale": [
             [
              0.0,
              "#0d0887"
             ],
             [
              0.1111111111111111,
              "#46039f"
             ],
             [
              0.2222222222222222,
              "#7201a8"
             ],
             [
              0.3333333333333333,
              "#9c179e"
             ],
             [
              0.4444444444444444,
              "#bd3786"
             ],
             [
              0.5555555555555556,
              "#d8576b"
             ],
             [
              0.6666666666666666,
              "#ed7953"
             ],
             [
              0.7777777777777778,
              "#fb9f3a"
             ],
             [
              0.8888888888888888,
              "#fdca26"
             ],
             [
              1.0,
              "#f0f921"
             ]
            ]
           }
          ],
          "heatmapgl": [
           {
            "type": "heatmapgl",
            "colorbar": {
             "outlinewidth": 0,
             "ticks": ""
            },
            "colorscale": [
             [
              0.0,
              "#0d0887"
             ],
             [
              0.1111111111111111,
              "#46039f"
             ],
             [
              0.2222222222222222,
              "#7201a8"
             ],
             [
              0.3333333333333333,
              "#9c179e"
             ],
             [
              0.4444444444444444,
              "#bd3786"
             ],
             [
              0.5555555555555556,
              "#d8576b"
             ],
             [
              0.6666666666666666,
              "#ed7953"
             ],
             [
              0.7777777777777778,
              "#fb9f3a"
             ],
             [
              0.8888888888888888,
              "#fdca26"
             ],
             [
              1.0,
              "#f0f921"
             ]
            ]
           }
          ],
          "contourcarpet": [
           {
            "type": "contourcarpet",
            "colorbar": {
             "outlinewidth": 0,
             "ticks": ""
            }
           }
          ],
          "contour": [
           {
            "type": "contour",
            "colorbar": {
             "outlinewidth": 0,
             "ticks": ""
            },
            "colorscale": [
             [
              0.0,
              "#0d0887"
             ],
             [
              0.1111111111111111,
              "#46039f"
             ],
             [
              0.2222222222222222,
              "#7201a8"
             ],
             [
              0.3333333333333333,
              "#9c179e"
             ],
             [
              0.4444444444444444,
              "#bd3786"
             ],
             [
              0.5555555555555556,
              "#d8576b"
             ],
             [
              0.6666666666666666,
              "#ed7953"
             ],
             [
              0.7777777777777778,
              "#fb9f3a"
             ],
             [
              0.8888888888888888,
              "#fdca26"
             ],
             [
              1.0,
              "#f0f921"
             ]
            ]
           }
          ],
          "surface": [
           {
            "type": "surface",
            "colorbar": {
             "outlinewidth": 0,
             "ticks": ""
            },
            "colorscale": [
             [
              0.0,
              "#0d0887"
             ],
             [
              0.1111111111111111,
              "#46039f"
             ],
             [
              0.2222222222222222,
              "#7201a8"
             ],
             [
              0.3333333333333333,
              "#9c179e"
             ],
             [
              0.4444444444444444,
              "#bd3786"
             ],
             [
              0.5555555555555556,
              "#d8576b"
             ],
             [
              0.6666666666666666,
              "#ed7953"
             ],
             [
              0.7777777777777778,
              "#fb9f3a"
             ],
             [
              0.8888888888888888,
              "#fdca26"
             ],
             [
              1.0,
              "#f0f921"
             ]
            ]
           }
          ],
          "mesh3d": [
           {
            "type": "mesh3d",
            "colorbar": {
             "outlinewidth": 0,
             "ticks": ""
            }
           }
          ],
          "scatter": [
           {
            "marker": {
             "line": {
              "color": "#283442"
             }
            },
            "type": "scatter"
           }
          ],
          "parcoords": [
           {
            "type": "parcoords",
            "line": {
             "colorbar": {
              "outlinewidth": 0,
              "ticks": ""
             }
            }
           }
          ],
          "scatterpolargl": [
           {
            "type": "scatterpolargl",
            "marker": {
             "colorbar": {
              "outlinewidth": 0,
              "ticks": ""
             }
            }
           }
          ],
          "bar": [
           {
            "error_x": {
             "color": "#f2f5fa"
            },
            "error_y": {
             "color": "#f2f5fa"
            },
            "marker": {
             "line": {
              "color": "rgb(17,17,17)",
              "width": 0.5
             },
             "pattern": {
              "fillmode": "overlay",
              "size": 10,
              "solidity": 0.2
             }
            },
            "type": "bar"
           }
          ],
          "scattergeo": [
           {
            "type": "scattergeo",
            "marker": {
             "colorbar": {
              "outlinewidth": 0,
              "ticks": ""
             }
            }
           }
          ],
          "scatterpolar": [
           {
            "type": "scatterpolar",
            "marker": {
             "colorbar": {
              "outlinewidth": 0,
              "ticks": ""
             }
            }
           }
          ],
          "histogram": [
           {
            "marker": {
             "pattern": {
              "fillmode": "overlay",
              "size": 10,
              "solidity": 0.2
             }
            },
            "type": "histogram"
           }
          ],
          "scattergl": [
           {
            "marker": {
             "line": {
              "color": "#283442"
             }
            },
            "type": "scattergl"
           }
          ],
          "scatter3d": [
           {
            "type": "scatter3d",
            "line": {
             "colorbar": {
              "outlinewidth": 0,
              "ticks": ""
             }
            },
            "marker": {
             "colorbar": {
              "outlinewidth": 0,
              "ticks": ""
             }
            }
           }
          ],
          "scattermapbox": [
           {
            "type": "scattermapbox",
            "marker": {
             "colorbar": {
              "outlinewidth": 0,
              "ticks": ""
             }
            }
           }
          ],
          "scatterternary": [
           {
            "type": "scatterternary",
            "marker": {
             "colorbar": {
              "outlinewidth": 0,
              "ticks": ""
             }
            }
           }
          ],
          "scattercarpet": [
           {
            "type": "scattercarpet",
            "marker": {
             "colorbar": {
              "outlinewidth": 0,
              "ticks": ""
             }
            }
           }
          ],
          "carpet": [
           {
            "aaxis": {
             "endlinecolor": "#A2B1C6",
             "gridcolor": "#506784",
             "linecolor": "#506784",
             "minorgridcolor": "#506784",
             "startlinecolor": "#A2B1C6"
            },
            "baxis": {
             "endlinecolor": "#A2B1C6",
             "gridcolor": "#506784",
             "linecolor": "#506784",
             "minorgridcolor": "#506784",
             "startlinecolor": "#A2B1C6"
            },
            "type": "carpet"
           }
          ],
          "table": [
           {
            "cells": {
             "fill": {
              "color": "#506784"
             },
             "line": {
              "color": "rgb(17,17,17)"
             }
            },
            "header": {
             "fill": {
              "color": "#2a3f5f"
             },
             "line": {
              "color": "rgb(17,17,17)"
             }
            },
            "type": "table"
           }
          ],
          "barpolar": [
           {
            "marker": {
             "line": {
              "color": "rgb(17,17,17)",
              "width": 0.5
             },
             "pattern": {
              "fillmode": "overlay",
              "size": 10,
              "solidity": 0.2
             }
            },
            "type": "barpolar"
           }
          ],
          "pie": [
           {
            "automargin": true,
            "type": "pie"
           }
          ]
         },
         "layout": {
          "autotypenumbers": "strict",
          "colorway": [
           "#636efa",
           "#EF553B",
           "#00cc96",
           "#ab63fa",
           "#FFA15A",
           "#19d3f3",
           "#FF6692",
           "#B6E880",
           "#FF97FF",
           "#FECB52"
          ],
          "font": {
           "color": "#f2f5fa"
          },
          "hovermode": "closest",
          "hoverlabel": {
           "align": "left"
          },
          "paper_bgcolor": "rgb(17,17,17)",
          "plot_bgcolor": "rgb(17,17,17)",
          "polar": {
           "bgcolor": "rgb(17,17,17)",
           "angularaxis": {
            "gridcolor": "#506784",
            "linecolor": "#506784",
            "ticks": ""
           },
           "radialaxis": {
            "gridcolor": "#506784",
            "linecolor": "#506784",
            "ticks": ""
           }
          },
          "ternary": {
           "bgcolor": "rgb(17,17,17)",
           "aaxis": {
            "gridcolor": "#506784",
            "linecolor": "#506784",
            "ticks": ""
           },
           "baxis": {
            "gridcolor": "#506784",
            "linecolor": "#506784",
            "ticks": ""
           },
           "caxis": {
            "gridcolor": "#506784",
            "linecolor": "#506784",
            "ticks": ""
           }
          },
          "coloraxis": {
           "colorbar": {
            "outlinewidth": 0,
            "ticks": ""
           }
          },
          "colorscale": {
           "sequential": [
            [
             0.0,
             "#0d0887"
            ],
            [
             0.1111111111111111,
             "#46039f"
            ],
            [
             0.2222222222222222,
             "#7201a8"
            ],
            [
             0.3333333333333333,
             "#9c179e"
            ],
            [
             0.4444444444444444,
             "#bd3786"
            ],
            [
             0.5555555555555556,
             "#d8576b"
            ],
            [
             0.6666666666666666,
             "#ed7953"
            ],
            [
             0.7777777777777778,
             "#fb9f3a"
            ],
            [
             0.8888888888888888,
             "#fdca26"
            ],
            [
             1.0,
             "#f0f921"
            ]
           ],
           "sequentialminus": [
            [
             0.0,
             "#0d0887"
            ],
            [
             0.1111111111111111,
             "#46039f"
            ],
            [
             0.2222222222222222,
             "#7201a8"
            ],
            [
             0.3333333333333333,
             "#9c179e"
            ],
            [
             0.4444444444444444,
             "#bd3786"
            ],
            [
             0.5555555555555556,
             "#d8576b"
            ],
            [
             0.6666666666666666,
             "#ed7953"
            ],
            [
             0.7777777777777778,
             "#fb9f3a"
            ],
            [
             0.8888888888888888,
             "#fdca26"
            ],
            [
             1.0,
             "#f0f921"
            ]
           ],
           "diverging": [
            [
             0,
             "#8e0152"
            ],
            [
             0.1,
             "#c51b7d"
            ],
            [
             0.2,
             "#de77ae"
            ],
            [
             0.3,
             "#f1b6da"
            ],
            [
             0.4,
             "#fde0ef"
            ],
            [
             0.5,
             "#f7f7f7"
            ],
            [
             0.6,
             "#e6f5d0"
            ],
            [
             0.7,
             "#b8e186"
            ],
            [
             0.8,
             "#7fbc41"
            ],
            [
             0.9,
             "#4d9221"
            ],
            [
             1,
             "#276419"
            ]
           ]
          },
          "xaxis": {
           "gridcolor": "#283442",
           "linecolor": "#506784",
           "ticks": "",
           "title": {
            "standoff": 15
           },
           "zerolinecolor": "#283442",
           "automargin": true,
           "zerolinewidth": 2
          },
          "yaxis": {
           "gridcolor": "#283442",
           "linecolor": "#506784",
           "ticks": "",
           "title": {
            "standoff": 15
           },
           "zerolinecolor": "#283442",
           "automargin": true,
           "zerolinewidth": 2
          },
          "scene": {
           "xaxis": {
            "backgroundcolor": "rgb(17,17,17)",
            "gridcolor": "#506784",
            "linecolor": "#506784",
            "showbackground": true,
            "ticks": "",
            "zerolinecolor": "#C8D4E3",
            "gridwidth": 2
           },
           "yaxis": {
            "backgroundcolor": "rgb(17,17,17)",
            "gridcolor": "#506784",
            "linecolor": "#506784",
            "showbackground": true,
            "ticks": "",
            "zerolinecolor": "#C8D4E3",
            "gridwidth": 2
           },
           "zaxis": {
            "backgroundcolor": "rgb(17,17,17)",
            "gridcolor": "#506784",
            "linecolor": "#506784",
            "showbackground": true,
            "ticks": "",
            "zerolinecolor": "#C8D4E3",
            "gridwidth": 2
           }
          },
          "shapedefaults": {
           "line": {
            "color": "#f2f5fa"
           }
          },
          "annotationdefaults": {
           "arrowcolor": "#f2f5fa",
           "arrowhead": 0,
           "arrowwidth": 1
          },
          "geo": {
           "bgcolor": "rgb(17,17,17)",
           "landcolor": "rgb(17,17,17)",
           "subunitcolor": "#506784",
           "showland": true,
           "showlakes": true,
           "lakecolor": "rgb(17,17,17)"
          },
          "title": {
           "x": 0.05
          },
          "updatemenudefaults": {
           "bgcolor": "#506784",
           "borderwidth": 0
          },
          "sliderdefaults": {
           "bgcolor": "#C8D4E3",
           "borderwidth": 1,
           "bordercolor": "rgb(17,17,17)",
           "tickwidth": 0
          },
          "mapbox": {
           "style": "dark"
          }
         }
        },
        "yaxis": {
         "range": [
          100,
          0
         ],
         "title": {
          "text": "Classement"
         }
        },
        "legend": {
         "font": {
          "size": 7
         }
        },
        "height": 800,
        "xaxis": {
         "title": {
          "text": "Date"
         }
        }
       },
       "config": {
        "plotlyServerURL": "https://plot.ly"
       }
      },
      "text/html": "<div>                            <div id=\"0e66047d-0737-4f8a-88ab-3c0c845cc8fb\" class=\"plotly-graph-div\" style=\"height:800px; width:100%;\"></div>            <script type=\"text/javascript\">                require([\"plotly\"], function(Plotly) {                    window.PLOTLYENV=window.PLOTLYENV || {};                                    if (document.getElementById(\"0e66047d-0737-4f8a-88ab-3c0c845cc8fb\")) {                    Plotly.newPlot(                        \"0e66047d-0737-4f8a-88ab-3c0c845cc8fb\",                        [{\"mode\":\"lines+markers\",\"name\":\"Take My Breath\",\"x\":[\"2021-11-06T00:00:00\",\"2021-10-30T00:00:00\",\"2021-10-23T00:00:00\",\"2021-10-16T00:00:00\",\"2021-10-09T00:00:00\",\"2021-10-02T00:00:00\",\"2021-09-25T00:00:00\",\"2021-09-18T00:00:00\",\"2021-09-11T00:00:00\",\"2021-09-04T00:00:00\",\"2021-08-28T00:00:00\",\"2021-08-21T00:00:00\"],\"y\":[32,27,24,22,22,21,23,37,25,16,13,6],\"type\":\"scatter\"},{\"mode\":\"lines+markers\",\"name\":\"Blinding Lights\",\"x\":[\"2021-09-04T00:00:00\",\"2021-08-28T00:00:00\",\"2021-08-21T00:00:00\",\"2021-08-14T00:00:00\",\"2021-08-07T00:00:00\",\"2021-07-31T00:00:00\",\"2021-07-24T00:00:00\",\"2021-07-17T00:00:00\",\"2021-07-10T00:00:00\",\"2021-07-03T00:00:00\",\"2021-06-26T00:00:00\",\"2021-06-19T00:00:00\",\"2021-06-12T00:00:00\",\"2021-06-05T00:00:00\",\"2021-05-29T00:00:00\",\"2021-05-22T00:00:00\",\"2021-05-15T00:00:00\",\"2021-05-08T00:00:00\",\"2021-05-01T00:00:00\",\"2021-04-24T00:00:00\",\"2021-04-17T00:00:00\",\"2021-04-10T00:00:00\",\"2021-04-03T00:00:00\",\"2021-03-27T00:00:00\",\"2021-03-20T00:00:00\",\"2021-03-13T00:00:00\",\"2021-03-06T00:00:00\",\"2021-02-27T00:00:00\",\"2021-02-20T00:00:00\",\"2021-02-13T00:00:00\",\"2021-02-06T00:00:00\",\"2021-01-30T00:00:00\",\"2021-01-23T00:00:00\",\"2021-01-16T00:00:00\",\"2021-01-09T00:00:00\",\"2020-12-26T00:00:00\",\"2020-12-19T00:00:00\",\"2020-12-12T00:00:00\",\"2020-12-05T00:00:00\",\"2020-11-28T00:00:00\",\"2020-11-21T00:00:00\",\"2020-11-14T00:00:00\",\"2020-11-07T00:00:00\",\"2020-10-31T00:00:00\",\"2020-10-24T00:00:00\",\"2020-10-17T00:00:00\",\"2020-10-10T00:00:00\",\"2020-10-03T00:00:00\",\"2020-09-26T00:00:00\",\"2020-09-19T00:00:00\",\"2020-09-12T00:00:00\",\"2020-09-05T00:00:00\",\"2020-08-29T00:00:00\",\"2020-08-22T00:00:00\",\"2020-08-15T00:00:00\",\"2020-08-08T00:00:00\",\"2020-08-01T00:00:00\",\"2020-07-25T00:00:00\",\"2020-07-18T00:00:00\",\"2020-07-11T00:00:00\",\"2020-07-04T00:00:00\",\"2020-06-27T00:00:00\",\"2020-06-20T00:00:00\",\"2020-06-13T00:00:00\",\"2020-06-06T00:00:00\",\"2020-05-30T00:00:00\",\"2020-05-23T00:00:00\",\"2020-05-16T00:00:00\",\"2020-05-09T00:00:00\",\"2020-05-02T00:00:00\",\"2020-04-25T00:00:00\",\"2020-04-18T00:00:00\",\"2020-04-11T00:00:00\",\"2020-04-04T00:00:00\",\"2020-03-28T00:00:00\",\"2020-03-21T00:00:00\",\"2020-03-14T00:00:00\",\"2020-03-07T00:00:00\",\"2020-02-29T00:00:00\",\"2020-02-22T00:00:00\",\"2020-02-15T00:00:00\",\"2020-02-08T00:00:00\",\"2020-02-01T00:00:00\",\"2020-01-25T00:00:00\",\"2020-01-18T00:00:00\",\"2020-01-11T00:00:00\",\"2020-01-04T00:00:00\",\"2019-12-28T00:00:00\",\"2019-12-21T00:00:00\",\"2019-12-14T00:00:00\"],\"y\":[20,21,18,16,17,17,17,15,18,15,17,15,17,22,23,12,11,11,13,11,9,8,6,6,8,3,5,4,3,3,3,4,4,3,3,18,7,11,9,7,5,4,5,4,4,6,6,7,5,5,5,5,4,3,4,5,4,4,2,3,3,5,3,3,4,3,4,3,2,1,1,2,1,1,2,4,7,8,10,12,15,18,21,32,39,59,72,63,52,11],\"type\":\"scatter\"},{\"mode\":\"lines+markers\",\"name\":\"Save Your Tears\",\"x\":[\"2021-05-01T00:00:00\",\"2021-04-24T00:00:00\",\"2021-04-17T00:00:00\",\"2021-04-10T00:00:00\",\"2021-04-03T00:00:00\",\"2021-03-27T00:00:00\",\"2021-03-20T00:00:00\",\"2021-03-13T00:00:00\",\"2021-03-06T00:00:00\",\"2021-02-27T00:00:00\",\"2021-02-20T00:00:00\",\"2021-02-13T00:00:00\",\"2021-02-06T00:00:00\",\"2021-01-30T00:00:00\",\"2021-01-23T00:00:00\",\"2021-01-16T00:00:00\",\"2021-01-09T00:00:00\",\"2020-04-11T00:00:00\",\"2020-04-04T00:00:00\"],\"y\":[6,5,6,6,5,5,7,6,6,6,4,8,14,20,21,46,95,85,41],\"type\":\"scatter\"},{\"mode\":\"lines+markers\",\"name\":\"In Your Eyes\",\"x\":[\"2020-07-11T00:00:00\",\"2020-07-04T00:00:00\",\"2020-06-27T00:00:00\",\"2020-06-20T00:00:00\",\"2020-06-13T00:00:00\",\"2020-06-06T00:00:00\",\"2020-05-30T00:00:00\",\"2020-05-23T00:00:00\",\"2020-05-16T00:00:00\",\"2020-05-09T00:00:00\",\"2020-05-02T00:00:00\",\"2020-04-25T00:00:00\",\"2020-04-18T00:00:00\",\"2020-04-11T00:00:00\",\"2020-04-04T00:00:00\"],\"y\":[89,80,67,54,53,32,58,54,62,51,55,45,47,42,16],\"type\":\"scatter\"},{\"mode\":\"lines+markers\",\"name\":\"Heartless\",\"x\":[\"2020-05-09T00:00:00\",\"2020-05-02T00:00:00\",\"2020-04-25T00:00:00\",\"2020-04-18T00:00:00\",\"2020-04-11T00:00:00\",\"2020-04-04T00:00:00\",\"2020-03-28T00:00:00\",\"2020-03-21T00:00:00\",\"2020-03-14T00:00:00\",\"2020-03-07T00:00:00\",\"2020-02-29T00:00:00\",\"2020-02-22T00:00:00\",\"2020-02-15T00:00:00\",\"2020-02-08T00:00:00\",\"2020-02-01T00:00:00\",\"2020-01-25T00:00:00\",\"2020-01-18T00:00:00\",\"2020-01-11T00:00:00\",\"2020-01-04T00:00:00\",\"2019-12-28T00:00:00\",\"2019-12-21T00:00:00\",\"2019-12-14T00:00:00\",\"2019-12-07T00:00:00\"],\"y\":[37,28,21,19,12,4,16,21,17,13,14,17,17,19,19,18,17,20,39,26,17,1,32],\"type\":\"scatter\"},{\"mode\":\"lines+markers\",\"name\":\"After Hours\",\"x\":[\"2020-04-18T00:00:00\",\"2020-04-11T00:00:00\",\"2020-04-04T00:00:00\",\"2020-03-21T00:00:00\",\"2020-03-14T00:00:00\",\"2020-03-07T00:00:00\",\"2020-02-29T00:00:00\"],\"y\":[90,61,22,100,66,20,77],\"type\":\"scatter\"},{\"mode\":\"lines+markers\",\"name\":\"Alone Again\",\"x\":[\"2020-04-04T00:00:00\"],\"y\":[21],\"type\":\"scatter\"},{\"mode\":\"lines+markers\",\"name\":\"Scared To Live\",\"x\":[\"2020-04-04T00:00:00\"],\"y\":[24],\"type\":\"scatter\"},{\"mode\":\"lines+markers\",\"name\":\"Hardest To Love\",\"x\":[\"2020-04-04T00:00:00\"],\"y\":[25],\"type\":\"scatter\"},{\"mode\":\"lines+markers\",\"name\":\"Too Late\",\"x\":[\"2020-04-04T00:00:00\"],\"y\":[28],\"type\":\"scatter\"},{\"mode\":\"lines+markers\",\"name\":\"Snowchild\",\"x\":[\"2020-04-04T00:00:00\"],\"y\":[32],\"type\":\"scatter\"},{\"mode\":\"lines+markers\",\"name\":\"Escape From LA\",\"x\":[\"2020-04-04T00:00:00\"],\"y\":[39],\"type\":\"scatter\"},{\"mode\":\"lines+markers\",\"name\":\"Faith\",\"x\":[\"2020-04-04T00:00:00\"],\"y\":[45],\"type\":\"scatter\"},{\"mode\":\"lines+markers\",\"name\":\"Repeat After Me (Interlude)\",\"x\":[\"2020-04-04T00:00:00\"],\"y\":[69],\"type\":\"scatter\"},{\"mode\":\"lines+markers\",\"name\":\"Until I Bleed Out\",\"x\":[\"2020-04-04T00:00:00\"],\"y\":[80],\"type\":\"scatter\"},{\"mode\":\"lines+markers\",\"name\":\"Call Out My Name\",\"x\":[\"2018-08-11T00:00:00\",\"2018-08-04T00:00:00\",\"2018-07-28T00:00:00\",\"2018-07-21T00:00:00\",\"2018-07-14T00:00:00\",\"2018-07-07T00:00:00\",\"2018-06-30T00:00:00\",\"2018-06-23T00:00:00\",\"2018-06-16T00:00:00\",\"2018-06-09T00:00:00\",\"2018-06-02T00:00:00\",\"2018-05-26T00:00:00\",\"2018-05-19T00:00:00\",\"2018-05-12T00:00:00\",\"2018-05-05T00:00:00\",\"2018-04-28T00:00:00\",\"2018-04-21T00:00:00\",\"2018-04-14T00:00:00\"],\"y\":[95,89,95,95,90,78,73,54,52,40,30,32,29,32,19,17,20,4],\"type\":\"scatter\"},{\"mode\":\"lines+markers\",\"name\":\"Wasted Times\",\"x\":[\"2018-04-28T00:00:00\",\"2018-04-21T00:00:00\",\"2018-04-14T00:00:00\"],\"y\":[76,63,27],\"type\":\"scatter\"},{\"mode\":\"lines+markers\",\"name\":\"Try Me\",\"x\":[\"2018-04-21T00:00:00\",\"2018-04-14T00:00:00\"],\"y\":[74,26],\"type\":\"scatter\"},{\"mode\":\"lines+markers\",\"name\":\"Privilege\",\"x\":[\"2018-04-14T00:00:00\"],\"y\":[52],\"type\":\"scatter\"},{\"mode\":\"lines+markers\",\"name\":\"Reminder\",\"x\":[\"2017-09-23T00:00:00\",\"2017-09-09T00:00:00\",\"2017-09-02T00:00:00\",\"2017-08-26T00:00:00\",\"2017-08-19T00:00:00\",\"2017-08-12T00:00:00\",\"2017-08-05T00:00:00\",\"2017-07-29T00:00:00\",\"2017-07-22T00:00:00\",\"2017-07-15T00:00:00\",\"2017-07-08T00:00:00\",\"2017-07-01T00:00:00\",\"2017-03-11T00:00:00\",\"2017-01-07T00:00:00\",\"2016-12-31T00:00:00\",\"2016-12-24T00:00:00\",\"2016-12-17T00:00:00\"],\"y\":[99,87,76,65,73,100,90,99,91,93,87,97,77,95,78,50,31],\"type\":\"scatter\"},{\"mode\":\"lines+markers\",\"name\":\"Party Monster\",\"x\":[\"2017-04-15T00:00:00\",\"2017-04-08T00:00:00\",\"2017-04-01T00:00:00\",\"2017-03-25T00:00:00\",\"2017-03-18T00:00:00\",\"2017-03-11T00:00:00\",\"2017-03-04T00:00:00\",\"2017-02-25T00:00:00\",\"2017-02-18T00:00:00\",\"2017-02-11T00:00:00\",\"2017-02-04T00:00:00\",\"2017-01-28T00:00:00\",\"2017-01-21T00:00:00\",\"2017-01-14T00:00:00\",\"2017-01-07T00:00:00\",\"2016-12-31T00:00:00\",\"2016-12-24T00:00:00\",\"2016-12-17T00:00:00\",\"2016-12-10T00:00:00\"],\"y\":[98,99,77,76,67,64,58,60,55,50,36,47,49,53,49,53,29,16,39],\"type\":\"scatter\"},{\"mode\":\"lines+markers\",\"name\":\"Six Feet Under\",\"x\":[\"2017-01-07T00:00:00\",\"2016-12-31T00:00:00\",\"2016-12-24T00:00:00\",\"2016-12-17T00:00:00\"],\"y\":[94,81,55,34],\"type\":\"scatter\"},{\"mode\":\"lines+markers\",\"name\":\"Die For You\",\"x\":[\"2016-12-31T00:00:00\",\"2016-12-24T00:00:00\",\"2016-12-17T00:00:00\"],\"y\":[93,71,43],\"type\":\"scatter\"},{\"mode\":\"lines+markers\",\"name\":\"Secrets\",\"x\":[\"2016-12-24T00:00:00\",\"2016-12-17T00:00:00\"],\"y\":[66,47],\"type\":\"scatter\"},{\"mode\":\"lines+markers\",\"name\":\"True Colors\",\"x\":[\"2016-12-24T00:00:00\",\"2016-12-17T00:00:00\"],\"y\":[78,48],\"type\":\"scatter\"},{\"mode\":\"lines+markers\",\"name\":\"Rockin'\",\"x\":[\"2016-12-24T00:00:00\",\"2016-12-17T00:00:00\"],\"y\":[82,44],\"type\":\"scatter\"},{\"mode\":\"lines+markers\",\"name\":\"False Alarm\",\"x\":[\"2016-12-24T00:00:00\",\"2016-12-17T00:00:00\",\"2016-11-05T00:00:00\",\"2016-10-22T00:00:00\"],\"y\":[86,55,68,63],\"type\":\"scatter\"},{\"mode\":\"lines+markers\",\"name\":\"Attention\",\"x\":[\"2016-12-24T00:00:00\",\"2016-12-17T00:00:00\"],\"y\":[96,67],\"type\":\"scatter\"},{\"mode\":\"lines+markers\",\"name\":\"Ordinary Life\",\"x\":[\"2016-12-24T00:00:00\",\"2016-12-17T00:00:00\"],\"y\":[97,72],\"type\":\"scatter\"},{\"mode\":\"lines+markers\",\"name\":\"Nothing Without You\",\"x\":[\"2016-12-17T00:00:00\"],\"y\":[68],\"type\":\"scatter\"},{\"mode\":\"lines+markers\",\"name\":\"A Lonely Night\",\"x\":[\"2016-12-17T00:00:00\"],\"y\":[69],\"type\":\"scatter\"},{\"mode\":\"lines+markers\",\"name\":\"Love To Lay\",\"x\":[\"2016-12-17T00:00:00\"],\"y\":[71],\"type\":\"scatter\"},{\"mode\":\"lines+markers\",\"name\":\"Acquainted\",\"x\":[\"2016-05-14T00:00:00\",\"2016-05-07T00:00:00\",\"2016-04-30T00:00:00\",\"2016-04-23T00:00:00\",\"2016-04-16T00:00:00\",\"2016-04-09T00:00:00\",\"2016-04-02T00:00:00\",\"2016-03-26T00:00:00\",\"2016-03-19T00:00:00\",\"2016-03-12T00:00:00\",\"2016-03-05T00:00:00\",\"2016-02-27T00:00:00\",\"2016-02-20T00:00:00\",\"2016-02-13T00:00:00\",\"2016-02-06T00:00:00\",\"2015-10-03T00:00:00\",\"2015-09-26T00:00:00\",\"2015-09-19T00:00:00\"],\"y\":[92,75,72,77,70,73,76,77,75,76,82,95,98,99,100,77,72,60],\"type\":\"scatter\"},{\"mode\":\"lines+markers\",\"name\":\"The Hills\",\"x\":[\"2016-05-07T00:00:00\",\"2016-04-30T00:00:00\",\"2016-04-23T00:00:00\",\"2016-04-16T00:00:00\",\"2016-04-09T00:00:00\",\"2016-04-02T00:00:00\",\"2016-03-26T00:00:00\",\"2016-03-19T00:00:00\",\"2016-03-12T00:00:00\",\"2016-03-05T00:00:00\",\"2016-02-27T00:00:00\",\"2016-02-20T00:00:00\",\"2016-02-13T00:00:00\",\"2016-02-06T00:00:00\",\"2016-01-30T00:00:00\",\"2016-01-23T00:00:00\",\"2016-01-16T00:00:00\",\"2016-01-09T00:00:00\",\"2016-01-02T00:00:00\",\"2015-12-26T00:00:00\",\"2015-12-19T00:00:00\",\"2015-12-12T00:00:00\",\"2015-12-05T00:00:00\",\"2015-11-28T00:00:00\",\"2015-11-21T00:00:00\",\"2015-11-14T00:00:00\",\"2015-11-07T00:00:00\",\"2015-10-31T00:00:00\",\"2015-10-24T00:00:00\",\"2015-10-17T00:00:00\",\"2015-10-10T00:00:00\",\"2015-10-03T00:00:00\",\"2015-09-26T00:00:00\",\"2015-09-19T00:00:00\",\"2015-09-12T00:00:00\",\"2015-09-05T00:00:00\",\"2015-08-29T00:00:00\",\"2015-08-22T00:00:00\",\"2015-08-15T00:00:00\",\"2015-08-08T00:00:00\",\"2015-08-01T00:00:00\",\"2015-07-25T00:00:00\",\"2015-07-18T00:00:00\",\"2015-07-11T00:00:00\",\"2015-07-04T00:00:00\",\"2015-06-27T00:00:00\",\"2015-06-20T00:00:00\",\"2015-06-13T00:00:00\"],\"y\":[48,39,42,33,28,25,24,21,22,27,25,23,21,18,14,11,11,9,7,6,5,5,6,4,3,4,1,1,1,1,1,1,2,3,4,5,5,11,11,11,10,12,19,23,22,23,21,20],\"type\":\"scatter\"},{\"mode\":\"lines+markers\",\"name\":\"In The Night\",\"x\":[\"2016-04-09T00:00:00\",\"2016-04-02T00:00:00\",\"2016-03-26T00:00:00\",\"2016-03-19T00:00:00\",\"2016-03-12T00:00:00\",\"2016-03-05T00:00:00\",\"2016-02-27T00:00:00\",\"2016-02-20T00:00:00\",\"2016-02-13T00:00:00\",\"2016-02-06T00:00:00\",\"2016-01-30T00:00:00\",\"2016-01-23T00:00:00\",\"2016-01-16T00:00:00\",\"2016-01-09T00:00:00\",\"2016-01-02T00:00:00\",\"2015-12-26T00:00:00\",\"2015-12-19T00:00:00\",\"2015-12-12T00:00:00\",\"2015-12-05T00:00:00\",\"2015-09-19T00:00:00\"],\"y\":[52,47,36,28,19,15,14,16,13,13,15,16,20,15,12,19,37,54,86,100],\"type\":\"scatter\"},{\"mode\":\"lines+markers\",\"name\":\"Can't Feel My Face\",\"x\":[\"2016-04-02T00:00:00\",\"2016-03-26T00:00:00\",\"2016-03-19T00:00:00\",\"2016-03-12T00:00:00\",\"2016-03-05T00:00:00\",\"2016-02-27T00:00:00\",\"2016-02-20T00:00:00\",\"2016-02-13T00:00:00\",\"2016-02-06T00:00:00\",\"2016-01-30T00:00:00\",\"2016-01-23T00:00:00\",\"2016-01-16T00:00:00\",\"2016-01-09T00:00:00\",\"2016-01-02T00:00:00\",\"2015-12-26T00:00:00\",\"2015-12-19T00:00:00\",\"2015-12-12T00:00:00\",\"2015-12-05T00:00:00\",\"2015-11-28T00:00:00\",\"2015-11-21T00:00:00\",\"2015-11-14T00:00:00\",\"2015-11-07T00:00:00\",\"2015-10-31T00:00:00\",\"2015-10-24T00:00:00\",\"2015-10-17T00:00:00\",\"2015-10-10T00:00:00\",\"2015-10-03T00:00:00\",\"2015-09-26T00:00:00\",\"2015-09-19T00:00:00\",\"2015-09-12T00:00:00\",\"2015-09-05T00:00:00\",\"2015-08-29T00:00:00\",\"2015-08-22T00:00:00\",\"2015-08-15T00:00:00\",\"2015-08-08T00:00:00\",\"2015-08-01T00:00:00\",\"2015-07-25T00:00:00\",\"2015-07-18T00:00:00\",\"2015-07-11T00:00:00\",\"2015-07-04T00:00:00\",\"2015-06-27T00:00:00\"],\"y\":[50,45,39,38,32,42,42,35,32,27,24,24,21,15,15,16,17,17,12,14,10,7,7,6,4,3,3,1,2,1,2,2,1,2,2,2,3,6,6,12,24],\"type\":\"scatter\"},{\"mode\":\"lines+markers\",\"name\":\"Earned It (Fifty Shades Of Grey)\",\"x\":[\"2015-10-31T00:00:00\",\"2015-10-24T00:00:00\",\"2015-10-17T00:00:00\",\"2015-10-10T00:00:00\",\"2015-10-03T00:00:00\",\"2015-09-26T00:00:00\",\"2015-09-19T00:00:00\",\"2015-09-12T00:00:00\",\"2015-09-05T00:00:00\",\"2015-08-29T00:00:00\",\"2015-08-22T00:00:00\",\"2015-08-15T00:00:00\",\"2015-08-08T00:00:00\",\"2015-08-01T00:00:00\",\"2015-07-25T00:00:00\",\"2015-07-18T00:00:00\",\"2015-07-11T00:00:00\",\"2015-07-04T00:00:00\",\"2015-06-27T00:00:00\",\"2015-06-20T00:00:00\",\"2015-06-13T00:00:00\",\"2015-06-06T00:00:00\",\"2015-05-30T00:00:00\",\"2015-05-23T00:00:00\",\"2015-05-16T00:00:00\",\"2015-05-09T00:00:00\",\"2015-05-02T00:00:00\",\"2015-04-25T00:00:00\",\"2015-04-18T00:00:00\",\"2015-04-11T00:00:00\",\"2015-04-04T00:00:00\",\"2015-03-28T00:00:00\",\"2015-03-21T00:00:00\",\"2015-03-14T00:00:00\",\"2015-03-07T00:00:00\",\"2015-02-28T00:00:00\",\"2015-02-21T00:00:00\",\"2015-02-14T00:00:00\",\"2015-02-07T00:00:00\",\"2015-01-31T00:00:00\",\"2015-01-24T00:00:00\",\"2015-01-17T00:00:00\",\"2015-01-10T00:00:00\"],\"y\":[48,47,44,42,36,34,37,37,33,34,32,30,26,22,18,16,16,10,8,7,6,5,3,3,4,4,3,6,4,5,6,6,7,9,9,12,29,38,27,70,82,87,49],\"type\":\"scatter\"},{\"mode\":\"lines+markers\",\"name\":\"Tell Your Friends\",\"x\":[\"2015-10-03T00:00:00\",\"2015-09-26T00:00:00\",\"2015-09-19T00:00:00\"],\"y\":[79,70,54],\"type\":\"scatter\"},{\"mode\":\"lines+markers\",\"name\":\"Real Life\",\"x\":[\"2015-09-26T00:00:00\",\"2015-09-19T00:00:00\"],\"y\":[79,62],\"type\":\"scatter\"},{\"mode\":\"lines+markers\",\"name\":\"Shameless\",\"x\":[\"2015-09-26T00:00:00\",\"2015-09-19T00:00:00\"],\"y\":[99,79],\"type\":\"scatter\"},{\"mode\":\"lines+markers\",\"name\":\"Often\",\"x\":[\"2015-03-14T00:00:00\",\"2015-03-07T00:00:00\",\"2015-02-28T00:00:00\",\"2015-02-21T00:00:00\",\"2015-02-14T00:00:00\",\"2015-02-07T00:00:00\",\"2015-01-31T00:00:00\",\"2015-01-24T00:00:00\",\"2015-01-17T00:00:00\",\"2015-01-10T00:00:00\",\"2015-01-03T00:00:00\",\"2014-12-27T00:00:00\",\"2014-12-20T00:00:00\",\"2014-12-13T00:00:00\",\"2014-12-06T00:00:00\",\"2014-11-29T00:00:00\",\"2014-11-22T00:00:00\",\"2014-11-15T00:00:00\",\"2014-11-08T00:00:00\",\"2014-11-01T00:00:00\"],\"y\":[68,69,61,67,64,59,67,65,69,65,81,74,77,83,84,86,86,99,95,97],\"type\":\"scatter\"},{\"mode\":\"lines+markers\",\"name\":\"Where You Belong\",\"x\":[\"2015-02-28T00:00:00\"],\"y\":[95],\"type\":\"scatter\"},{\"mode\":\"lines+markers\",\"name\":\"Wicked Games\",\"x\":[\"2013-03-30T00:00:00\",\"2013-03-23T00:00:00\",\"2013-03-16T00:00:00\",\"2013-03-09T00:00:00\",\"2013-03-02T00:00:00\",\"2013-02-23T00:00:00\",\"2013-02-16T00:00:00\",\"2013-02-09T00:00:00\",\"2013-02-02T00:00:00\",\"2013-01-26T00:00:00\",\"2013-01-19T00:00:00\",\"2013-01-12T00:00:00\",\"2013-01-05T00:00:00\",\"2012-12-29T00:00:00\",\"2012-12-22T00:00:00\",\"2012-12-15T00:00:00\",\"2012-12-08T00:00:00\",\"2012-12-01T00:00:00\",\"2012-11-24T00:00:00\",\"2012-11-17T00:00:00\"],\"y\":[76,71,64,54,53,53,53,54,57,53,60,68,58,61,63,69,73,81,91,96],\"type\":\"scatter\"}],                        {\"template\":{\"data\":{\"histogram2dcontour\":[{\"type\":\"histogram2dcontour\",\"colorbar\":{\"outlinewidth\":0,\"ticks\":\"\"},\"colorscale\":[[0.0,\"#0d0887\"],[0.1111111111111111,\"#46039f\"],[0.2222222222222222,\"#7201a8\"],[0.3333333333333333,\"#9c179e\"],[0.4444444444444444,\"#bd3786\"],[0.5555555555555556,\"#d8576b\"],[0.6666666666666666,\"#ed7953\"],[0.7777777777777778,\"#fb9f3a\"],[0.8888888888888888,\"#fdca26\"],[1.0,\"#f0f921\"]]}],\"choropleth\":[{\"type\":\"choropleth\",\"colorbar\":{\"outlinewidth\":0,\"ticks\":\"\"}}],\"histogram2d\":[{\"type\":\"histogram2d\",\"colorbar\":{\"outlinewidth\":0,\"ticks\":\"\"},\"colorscale\":[[0.0,\"#0d0887\"],[0.1111111111111111,\"#46039f\"],[0.2222222222222222,\"#7201a8\"],[0.3333333333333333,\"#9c179e\"],[0.4444444444444444,\"#bd3786\"],[0.5555555555555556,\"#d8576b\"],[0.6666666666666666,\"#ed7953\"],[0.7777777777777778,\"#fb9f3a\"],[0.8888888888888888,\"#fdca26\"],[1.0,\"#f0f921\"]]}],\"heatmap\":[{\"type\":\"heatmap\",\"colorbar\":{\"outlinewidth\":0,\"ticks\":\"\"},\"colorscale\":[[0.0,\"#0d0887\"],[0.1111111111111111,\"#46039f\"],[0.2222222222222222,\"#7201a8\"],[0.3333333333333333,\"#9c179e\"],[0.4444444444444444,\"#bd3786\"],[0.5555555555555556,\"#d8576b\"],[0.6666666666666666,\"#ed7953\"],[0.7777777777777778,\"#fb9f3a\"],[0.8888888888888888,\"#fdca26\"],[1.0,\"#f0f921\"]]}],\"heatmapgl\":[{\"type\":\"heatmapgl\",\"colorbar\":{\"outlinewidth\":0,\"ticks\":\"\"},\"colorscale\":[[0.0,\"#0d0887\"],[0.1111111111111111,\"#46039f\"],[0.2222222222222222,\"#7201a8\"],[0.3333333333333333,\"#9c179e\"],[0.4444444444444444,\"#bd3786\"],[0.5555555555555556,\"#d8576b\"],[0.6666666666666666,\"#ed7953\"],[0.7777777777777778,\"#fb9f3a\"],[0.8888888888888888,\"#fdca26\"],[1.0,\"#f0f921\"]]}],\"contourcarpet\":[{\"type\":\"contourcarpet\",\"colorbar\":{\"outlinewidth\":0,\"ticks\":\"\"}}],\"contour\":[{\"type\":\"contour\",\"colorbar\":{\"outlinewidth\":0,\"ticks\":\"\"},\"colorscale\":[[0.0,\"#0d0887\"],[0.1111111111111111,\"#46039f\"],[0.2222222222222222,\"#7201a8\"],[0.3333333333333333,\"#9c179e\"],[0.4444444444444444,\"#bd3786\"],[0.5555555555555556,\"#d8576b\"],[0.6666666666666666,\"#ed7953\"],[0.7777777777777778,\"#fb9f3a\"],[0.8888888888888888,\"#fdca26\"],[1.0,\"#f0f921\"]]}],\"surface\":[{\"type\":\"surface\",\"colorbar\":{\"outlinewidth\":0,\"ticks\":\"\"},\"colorscale\":[[0.0,\"#0d0887\"],[0.1111111111111111,\"#46039f\"],[0.2222222222222222,\"#7201a8\"],[0.3333333333333333,\"#9c179e\"],[0.4444444444444444,\"#bd3786\"],[0.5555555555555556,\"#d8576b\"],[0.6666666666666666,\"#ed7953\"],[0.7777777777777778,\"#fb9f3a\"],[0.8888888888888888,\"#fdca26\"],[1.0,\"#f0f921\"]]}],\"mesh3d\":[{\"type\":\"mesh3d\",\"colorbar\":{\"outlinewidth\":0,\"ticks\":\"\"}}],\"scatter\":[{\"marker\":{\"line\":{\"color\":\"#283442\"}},\"type\":\"scatter\"}],\"parcoords\":[{\"type\":\"parcoords\",\"line\":{\"colorbar\":{\"outlinewidth\":0,\"ticks\":\"\"}}}],\"scatterpolargl\":[{\"type\":\"scatterpolargl\",\"marker\":{\"colorbar\":{\"outlinewidth\":0,\"ticks\":\"\"}}}],\"bar\":[{\"error_x\":{\"color\":\"#f2f5fa\"},\"error_y\":{\"color\":\"#f2f5fa\"},\"marker\":{\"line\":{\"color\":\"rgb(17,17,17)\",\"width\":0.5},\"pattern\":{\"fillmode\":\"overlay\",\"size\":10,\"solidity\":0.2}},\"type\":\"bar\"}],\"scattergeo\":[{\"type\":\"scattergeo\",\"marker\":{\"colorbar\":{\"outlinewidth\":0,\"ticks\":\"\"}}}],\"scatterpolar\":[{\"type\":\"scatterpolar\",\"marker\":{\"colorbar\":{\"outlinewidth\":0,\"ticks\":\"\"}}}],\"histogram\":[{\"marker\":{\"pattern\":{\"fillmode\":\"overlay\",\"size\":10,\"solidity\":0.2}},\"type\":\"histogram\"}],\"scattergl\":[{\"marker\":{\"line\":{\"color\":\"#283442\"}},\"type\":\"scattergl\"}],\"scatter3d\":[{\"type\":\"scatter3d\",\"line\":{\"colorbar\":{\"outlinewidth\":0,\"ticks\":\"\"}},\"marker\":{\"colorbar\":{\"outlinewidth\":0,\"ticks\":\"\"}}}],\"scattermapbox\":[{\"type\":\"scattermapbox\",\"marker\":{\"colorbar\":{\"outlinewidth\":0,\"ticks\":\"\"}}}],\"scatterternary\":[{\"type\":\"scatterternary\",\"marker\":{\"colorbar\":{\"outlinewidth\":0,\"ticks\":\"\"}}}],\"scattercarpet\":[{\"type\":\"scattercarpet\",\"marker\":{\"colorbar\":{\"outlinewidth\":0,\"ticks\":\"\"}}}],\"carpet\":[{\"aaxis\":{\"endlinecolor\":\"#A2B1C6\",\"gridcolor\":\"#506784\",\"linecolor\":\"#506784\",\"minorgridcolor\":\"#506784\",\"startlinecolor\":\"#A2B1C6\"},\"baxis\":{\"endlinecolor\":\"#A2B1C6\",\"gridcolor\":\"#506784\",\"linecolor\":\"#506784\",\"minorgridcolor\":\"#506784\",\"startlinecolor\":\"#A2B1C6\"},\"type\":\"carpet\"}],\"table\":[{\"cells\":{\"fill\":{\"color\":\"#506784\"},\"line\":{\"color\":\"rgb(17,17,17)\"}},\"header\":{\"fill\":{\"color\":\"#2a3f5f\"},\"line\":{\"color\":\"rgb(17,17,17)\"}},\"type\":\"table\"}],\"barpolar\":[{\"marker\":{\"line\":{\"color\":\"rgb(17,17,17)\",\"width\":0.5},\"pattern\":{\"fillmode\":\"overlay\",\"size\":10,\"solidity\":0.2}},\"type\":\"barpolar\"}],\"pie\":[{\"automargin\":true,\"type\":\"pie\"}]},\"layout\":{\"autotypenumbers\":\"strict\",\"colorway\":[\"#636efa\",\"#EF553B\",\"#00cc96\",\"#ab63fa\",\"#FFA15A\",\"#19d3f3\",\"#FF6692\",\"#B6E880\",\"#FF97FF\",\"#FECB52\"],\"font\":{\"color\":\"#f2f5fa\"},\"hovermode\":\"closest\",\"hoverlabel\":{\"align\":\"left\"},\"paper_bgcolor\":\"rgb(17,17,17)\",\"plot_bgcolor\":\"rgb(17,17,17)\",\"polar\":{\"bgcolor\":\"rgb(17,17,17)\",\"angularaxis\":{\"gridcolor\":\"#506784\",\"linecolor\":\"#506784\",\"ticks\":\"\"},\"radialaxis\":{\"gridcolor\":\"#506784\",\"linecolor\":\"#506784\",\"ticks\":\"\"}},\"ternary\":{\"bgcolor\":\"rgb(17,17,17)\",\"aaxis\":{\"gridcolor\":\"#506784\",\"linecolor\":\"#506784\",\"ticks\":\"\"},\"baxis\":{\"gridcolor\":\"#506784\",\"linecolor\":\"#506784\",\"ticks\":\"\"},\"caxis\":{\"gridcolor\":\"#506784\",\"linecolor\":\"#506784\",\"ticks\":\"\"}},\"coloraxis\":{\"colorbar\":{\"outlinewidth\":0,\"ticks\":\"\"}},\"colorscale\":{\"sequential\":[[0.0,\"#0d0887\"],[0.1111111111111111,\"#46039f\"],[0.2222222222222222,\"#7201a8\"],[0.3333333333333333,\"#9c179e\"],[0.4444444444444444,\"#bd3786\"],[0.5555555555555556,\"#d8576b\"],[0.6666666666666666,\"#ed7953\"],[0.7777777777777778,\"#fb9f3a\"],[0.8888888888888888,\"#fdca26\"],[1.0,\"#f0f921\"]],\"sequentialminus\":[[0.0,\"#0d0887\"],[0.1111111111111111,\"#46039f\"],[0.2222222222222222,\"#7201a8\"],[0.3333333333333333,\"#9c179e\"],[0.4444444444444444,\"#bd3786\"],[0.5555555555555556,\"#d8576b\"],[0.6666666666666666,\"#ed7953\"],[0.7777777777777778,\"#fb9f3a\"],[0.8888888888888888,\"#fdca26\"],[1.0,\"#f0f921\"]],\"diverging\":[[0,\"#8e0152\"],[0.1,\"#c51b7d\"],[0.2,\"#de77ae\"],[0.3,\"#f1b6da\"],[0.4,\"#fde0ef\"],[0.5,\"#f7f7f7\"],[0.6,\"#e6f5d0\"],[0.7,\"#b8e186\"],[0.8,\"#7fbc41\"],[0.9,\"#4d9221\"],[1,\"#276419\"]]},\"xaxis\":{\"gridcolor\":\"#283442\",\"linecolor\":\"#506784\",\"ticks\":\"\",\"title\":{\"standoff\":15},\"zerolinecolor\":\"#283442\",\"automargin\":true,\"zerolinewidth\":2},\"yaxis\":{\"gridcolor\":\"#283442\",\"linecolor\":\"#506784\",\"ticks\":\"\",\"title\":{\"standoff\":15},\"zerolinecolor\":\"#283442\",\"automargin\":true,\"zerolinewidth\":2},\"scene\":{\"xaxis\":{\"backgroundcolor\":\"rgb(17,17,17)\",\"gridcolor\":\"#506784\",\"linecolor\":\"#506784\",\"showbackground\":true,\"ticks\":\"\",\"zerolinecolor\":\"#C8D4E3\",\"gridwidth\":2},\"yaxis\":{\"backgroundcolor\":\"rgb(17,17,17)\",\"gridcolor\":\"#506784\",\"linecolor\":\"#506784\",\"showbackground\":true,\"ticks\":\"\",\"zerolinecolor\":\"#C8D4E3\",\"gridwidth\":2},\"zaxis\":{\"backgroundcolor\":\"rgb(17,17,17)\",\"gridcolor\":\"#506784\",\"linecolor\":\"#506784\",\"showbackground\":true,\"ticks\":\"\",\"zerolinecolor\":\"#C8D4E3\",\"gridwidth\":2}},\"shapedefaults\":{\"line\":{\"color\":\"#f2f5fa\"}},\"annotationdefaults\":{\"arrowcolor\":\"#f2f5fa\",\"arrowhead\":0,\"arrowwidth\":1},\"geo\":{\"bgcolor\":\"rgb(17,17,17)\",\"landcolor\":\"rgb(17,17,17)\",\"subunitcolor\":\"#506784\",\"showland\":true,\"showlakes\":true,\"lakecolor\":\"rgb(17,17,17)\"},\"title\":{\"x\":0.05},\"updatemenudefaults\":{\"bgcolor\":\"#506784\",\"borderwidth\":0},\"sliderdefaults\":{\"bgcolor\":\"#C8D4E3\",\"borderwidth\":1,\"bordercolor\":\"rgb(17,17,17)\",\"tickwidth\":0},\"mapbox\":{\"style\":\"dark\"}}},\"yaxis\":{\"range\":[100,0],\"title\":{\"text\":\"Classement\"}},\"legend\":{\"font\":{\"size\":7}},\"height\":800,\"xaxis\":{\"title\":{\"text\":\"Date\"}}},                        {\"responsive\": true}                    ).then(function(){\n                            \nvar gd = document.getElementById('0e66047d-0737-4f8a-88ab-3c0c845cc8fb');\nvar x = new MutationObserver(function (mutations, observer) {{\n        var display = window.getComputedStyle(gd).display;\n        if (!display || display === 'none') {{\n            console.log([gd, 'removed!']);\n            Plotly.purge(gd);\n            observer.disconnect();\n        }}\n}});\n\n// Listen for the removal of the full notebook cells\nvar notebookContainer = gd.closest('#notebook-container');\nif (notebookContainer) {{\n    x.observe(notebookContainer, {childList: true});\n}}\n\n// Listen for the clearing of the current output cell\nvar outputEl = gd.closest('.output');\nif (outputEl) {{\n    x.observe(outputEl, {childList: true});\n}}\n\n                        })                };                });            </script>        </div>"
     },
     "metadata": {},
     "output_type": "display_data"
    }
   ],
   "source": [
    "show_music_of_artist(df, \"The Weeknd\")"
   ]
  },
  {
   "cell_type": "code",
   "execution_count": 113,
   "metadata": {
    "pycharm": {
     "name": "#%%\n"
    }
   },
   "outputs": [
    {
     "data": {
      "application/vnd.plotly.v1+json": {
       "data": [
        {
         "mode": "lines+markers",
         "name": "Wildest Dreams (Taylor's Version)",
         "x": [
          "2021-10-02T00:00:00"
         ],
         "y": [
          37
         ],
         "type": "scatter"
        },
        {
         "mode": "lines+markers",
         "name": "Willow",
         "x": [
          "2021-05-08T00:00:00",
          "2021-05-01T00:00:00",
          "2021-04-24T00:00:00",
          "2021-04-17T00:00:00",
          "2021-04-10T00:00:00",
          "2021-04-03T00:00:00",
          "2021-03-27T00:00:00",
          "2021-03-20T00:00:00",
          "2021-03-13T00:00:00",
          "2021-03-06T00:00:00",
          "2021-02-27T00:00:00",
          "2021-02-20T00:00:00",
          "2021-02-13T00:00:00",
          "2021-02-06T00:00:00",
          "2021-01-30T00:00:00",
          "2021-01-23T00:00:00",
          "2021-01-16T00:00:00",
          "2021-01-09T00:00:00",
          "2021-01-02T00:00:00",
          "2020-12-26T00:00:00"
         ],
         "y": [
          61,
          60,
          62,
          60,
          59,
          50,
          39,
          42,
          32,
          29,
          25,
          29,
          29,
          28,
          28,
          29,
          22,
          23,
          38,
          1
         ],
         "type": "scatter"
        },
        {
         "mode": "lines+markers",
         "name": "Mr. Perfectly Fine (Taylor's Version) (From The Vault)",
         "x": [
          "2021-05-01T00:00:00",
          "2021-04-24T00:00:00",
          "2021-04-17T00:00:00"
         ],
         "y": [
          90,
          30,
          90
         ],
         "type": "scatter"
        },
        {
         "mode": "lines+markers",
         "name": "Love Story (Taylor's Version)",
         "x": [
          "2021-04-24T00:00:00",
          "2021-02-27T00:00:00"
         ],
         "y": [
          52,
          11
         ],
         "type": "scatter"
        },
        {
         "mode": "lines+markers",
         "name": "Forever & Always (Taylor's Version)",
         "x": [
          "2021-04-24T00:00:00"
         ],
         "y": [
          65
         ],
         "type": "scatter"
        },
        {
         "mode": "lines+markers",
         "name": "Fearless (Taylor's Version)",
         "x": [
          "2021-04-24T00:00:00"
         ],
         "y": [
          71
         ],
         "type": "scatter"
        },
        {
         "mode": "lines+markers",
         "name": "You Belong With Me (Taylor's Version)",
         "x": [
          "2021-04-24T00:00:00"
         ],
         "y": [
          75
         ],
         "type": "scatter"
        },
        {
         "mode": "lines+markers",
         "name": "Fifteen (Taylor's Version)",
         "x": [
          "2021-04-24T00:00:00"
         ],
         "y": [
          88
         ],
         "type": "scatter"
        },
        {
         "mode": "lines+markers",
         "name": "The Way I Loved You (Taylor's Version)",
         "x": [
          "2021-04-24T00:00:00"
         ],
         "y": [
          94
         ],
         "type": "scatter"
        },
        {
         "mode": "lines+markers",
         "name": "Champagne Problems",
         "x": [
          "2021-01-02T00:00:00",
          "2020-12-26T00:00:00"
         ],
         "y": [
          77,
          21
         ],
         "type": "scatter"
        },
        {
         "mode": "lines+markers",
         "name": "'Tis The Damn Season",
         "x": [
          "2021-01-02T00:00:00",
          "2020-12-26T00:00:00"
         ],
         "y": [
          91,
          39
         ],
         "type": "scatter"
        },
        {
         "mode": "lines+markers",
         "name": "Gold Rush",
         "x": [
          "2020-12-26T00:00:00"
         ],
         "y": [
          40
         ],
         "type": "scatter"
        },
        {
         "mode": "lines+markers",
         "name": "Tolerate It",
         "x": [
          "2020-12-26T00:00:00"
         ],
         "y": [
          45
         ],
         "type": "scatter"
        },
        {
         "mode": "lines+markers",
         "name": "Happiness",
         "x": [
          "2020-12-26T00:00:00"
         ],
         "y": [
          52
         ],
         "type": "scatter"
        },
        {
         "mode": "lines+markers",
         "name": "Ivy",
         "x": [
          "2020-12-26T00:00:00"
         ],
         "y": [
          61
         ],
         "type": "scatter"
        },
        {
         "mode": "lines+markers",
         "name": "Dorothea",
         "x": [
          "2020-12-26T00:00:00"
         ],
         "y": [
          67
         ],
         "type": "scatter"
        },
        {
         "mode": "lines+markers",
         "name": "Long Story Short",
         "x": [
          "2020-12-26T00:00:00"
         ],
         "y": [
          68
         ],
         "type": "scatter"
        },
        {
         "mode": "lines+markers",
         "name": "Cowboy Like Me",
         "x": [
          "2020-12-26T00:00:00"
         ],
         "y": [
          71
         ],
         "type": "scatter"
        },
        {
         "mode": "lines+markers",
         "name": "Marjorie",
         "x": [
          "2020-12-26T00:00:00"
         ],
         "y": [
          75
         ],
         "type": "scatter"
        },
        {
         "mode": "lines+markers",
         "name": "Closure",
         "x": [
          "2020-12-26T00:00:00"
         ],
         "y": [
          82
         ],
         "type": "scatter"
        },
        {
         "mode": "lines+markers",
         "name": "Cardigan",
         "x": [
          "2020-11-07T00:00:00",
          "2020-10-31T00:00:00",
          "2020-10-24T00:00:00",
          "2020-10-17T00:00:00",
          "2020-10-10T00:00:00",
          "2020-10-03T00:00:00",
          "2020-09-26T00:00:00",
          "2020-09-19T00:00:00",
          "2020-09-12T00:00:00",
          "2020-09-05T00:00:00",
          "2020-08-29T00:00:00",
          "2020-08-22T00:00:00",
          "2020-08-15T00:00:00",
          "2020-08-08T00:00:00"
         ],
         "y": [
          96,
          88,
          85,
          77,
          53,
          49,
          52,
          52,
          45,
          36,
          33,
          24,
          8,
          1
         ],
         "type": "scatter"
        },
        {
         "mode": "lines+markers",
         "name": "The 1",
         "x": [
          "2020-09-12T00:00:00",
          "2020-09-05T00:00:00",
          "2020-08-29T00:00:00",
          "2020-08-22T00:00:00",
          "2020-08-15T00:00:00",
          "2020-08-08T00:00:00"
         ],
         "y": [
          92,
          85,
          67,
          50,
          23,
          4
         ],
         "type": "scatter"
        },
        {
         "mode": "lines+markers",
         "name": "The Last Great American Dynasty",
         "x": [
          "2020-08-15T00:00:00",
          "2020-08-08T00:00:00"
         ],
         "y": [
          66,
          13
         ],
         "type": "scatter"
        },
        {
         "mode": "lines+markers",
         "name": "My Tears Ricochet",
         "x": [
          "2020-08-15T00:00:00",
          "2020-08-08T00:00:00"
         ],
         "y": [
          69,
          16
         ],
         "type": "scatter"
        },
        {
         "mode": "lines+markers",
         "name": "August",
         "x": [
          "2020-08-15T00:00:00",
          "2020-08-08T00:00:00"
         ],
         "y": [
          73,
          23
         ],
         "type": "scatter"
        },
        {
         "mode": "lines+markers",
         "name": "Invisible String",
         "x": [
          "2020-08-15T00:00:00",
          "2020-08-08T00:00:00"
         ],
         "y": [
          85,
          37
         ],
         "type": "scatter"
        },
        {
         "mode": "lines+markers",
         "name": "Betty",
         "x": [
          "2020-08-15T00:00:00",
          "2020-08-08T00:00:00"
         ],
         "y": [
          91,
          42
         ],
         "type": "scatter"
        },
        {
         "mode": "lines+markers",
         "name": "Mirrorball",
         "x": [
          "2020-08-15T00:00:00",
          "2020-08-08T00:00:00"
         ],
         "y": [
          93,
          26
         ],
         "type": "scatter"
        },
        {
         "mode": "lines+markers",
         "name": "Seven",
         "x": [
          "2020-08-15T00:00:00",
          "2020-08-08T00:00:00"
         ],
         "y": [
          98,
          35
         ],
         "type": "scatter"
        },
        {
         "mode": "lines+markers",
         "name": "This Is Me Trying",
         "x": [
          "2020-08-08T00:00:00"
         ],
         "y": [
          39
         ],
         "type": "scatter"
        },
        {
         "mode": "lines+markers",
         "name": "Illicit Affairs",
         "x": [
          "2020-08-08T00:00:00"
         ],
         "y": [
          44
         ],
         "type": "scatter"
        },
        {
         "mode": "lines+markers",
         "name": "Mad Woman",
         "x": [
          "2020-08-08T00:00:00"
         ],
         "y": [
          47
         ],
         "type": "scatter"
        },
        {
         "mode": "lines+markers",
         "name": "Epiphany",
         "x": [
          "2020-08-08T00:00:00"
         ],
         "y": [
          57
         ],
         "type": "scatter"
        },
        {
         "mode": "lines+markers",
         "name": "Peace",
         "x": [
          "2020-08-08T00:00:00"
         ],
         "y": [
          58
         ],
         "type": "scatter"
        },
        {
         "mode": "lines+markers",
         "name": "Hoax",
         "x": [
          "2020-08-08T00:00:00"
         ],
         "y": [
          71
         ],
         "type": "scatter"
        },
        {
         "mode": "lines+markers",
         "name": "The Man",
         "x": [
          "2020-04-25T00:00:00",
          "2020-04-18T00:00:00",
          "2020-04-11T00:00:00",
          "2020-03-14T00:00:00",
          "2020-03-07T00:00:00",
          "2019-09-21T00:00:00",
          "2019-09-14T00:00:00",
          "2019-09-07T00:00:00"
         ],
         "y": [
          88,
          88,
          90,
          85,
          92,
          96,
          61,
          23
         ],
         "type": "scatter"
        },
        {
         "mode": "lines+markers",
         "name": "Only The Young",
         "x": [
          "2020-02-15T00:00:00"
         ],
         "y": [
          50
         ],
         "type": "scatter"
        },
        {
         "mode": "lines+markers",
         "name": "Lover",
         "x": [
          "2020-01-25T00:00:00",
          "2020-01-18T00:00:00",
          "2020-01-11T00:00:00",
          "2020-01-04T00:00:00",
          "2019-12-28T00:00:00",
          "2019-12-21T00:00:00",
          "2019-12-14T00:00:00",
          "2019-12-07T00:00:00",
          "2019-11-30T00:00:00",
          "2019-11-23T00:00:00",
          "2019-11-16T00:00:00",
          "2019-11-09T00:00:00",
          "2019-11-02T00:00:00",
          "2019-10-26T00:00:00",
          "2019-10-19T00:00:00",
          "2019-10-12T00:00:00",
          "2019-10-05T00:00:00",
          "2019-09-28T00:00:00",
          "2019-09-21T00:00:00",
          "2019-09-14T00:00:00",
          "2019-09-07T00:00:00",
          "2019-08-31T00:00:00"
         ],
         "y": [
          50,
          36,
          34,
          57,
          48,
          40,
          32,
          19,
          15,
          26,
          43,
          48,
          38,
          37,
          34,
          45,
          44,
          49,
          49,
          23,
          10,
          19
         ],
         "type": "scatter"
        },
        {
         "mode": "lines+markers",
         "name": "Christmas Tree Farm",
         "x": [
          "2019-12-21T00:00:00"
         ],
         "y": [
          59
         ],
         "type": "scatter"
        },
        {
         "mode": "lines+markers",
         "name": "You Need To Calm Down",
         "x": [
          "2019-11-16T00:00:00",
          "2019-11-09T00:00:00",
          "2019-11-02T00:00:00",
          "2019-10-26T00:00:00",
          "2019-10-19T00:00:00",
          "2019-10-12T00:00:00",
          "2019-10-05T00:00:00",
          "2019-09-28T00:00:00",
          "2019-09-21T00:00:00",
          "2019-09-14T00:00:00",
          "2019-09-07T00:00:00",
          "2019-08-31T00:00:00",
          "2019-08-24T00:00:00",
          "2019-08-17T00:00:00",
          "2019-08-10T00:00:00",
          "2019-08-03T00:00:00",
          "2019-07-27T00:00:00",
          "2019-07-20T00:00:00",
          "2019-07-13T00:00:00",
          "2019-07-06T00:00:00",
          "2019-06-29T00:00:00"
         ],
         "y": [
          46,
          52,
          37,
          33,
          28,
          27,
          23,
          21,
          24,
          12,
          4,
          14,
          18,
          18,
          16,
          15,
          15,
          16,
          13,
          13,
          2
         ],
         "type": "scatter"
        },
        {
         "mode": "lines+markers",
         "name": "Cruel Summer",
         "x": [
          "2019-09-14T00:00:00",
          "2019-09-07T00:00:00"
         ],
         "y": [
          71,
          29
         ],
         "type": "scatter"
        },
        {
         "mode": "lines+markers",
         "name": "I Forgot That You Existed",
         "x": [
          "2019-09-14T00:00:00",
          "2019-09-07T00:00:00"
         ],
         "y": [
          74,
          28
         ],
         "type": "scatter"
        },
        {
         "mode": "lines+markers",
         "name": "The Archer",
         "x": [
          "2019-09-07T00:00:00",
          "2019-08-10T00:00:00",
          "2019-08-03T00:00:00"
         ],
         "y": [
          38,
          79,
          69
         ],
         "type": "scatter"
        },
        {
         "mode": "lines+markers",
         "name": "Paper Rings",
         "x": [
          "2019-09-07T00:00:00"
         ],
         "y": [
          45
         ],
         "type": "scatter"
        },
        {
         "mode": "lines+markers",
         "name": "Miss Americana & The Heartbreak Prince",
         "x": [
          "2019-09-07T00:00:00"
         ],
         "y": [
          49
         ],
         "type": "scatter"
        },
        {
         "mode": "lines+markers",
         "name": "I Think He Knows",
         "x": [
          "2019-09-07T00:00:00"
         ],
         "y": [
          51
         ],
         "type": "scatter"
        },
        {
         "mode": "lines+markers",
         "name": "Cornelia Street",
         "x": [
          "2019-09-07T00:00:00"
         ],
         "y": [
          57
         ],
         "type": "scatter"
        },
        {
         "mode": "lines+markers",
         "name": "London Boy",
         "x": [
          "2019-09-07T00:00:00"
         ],
         "y": [
          62
         ],
         "type": "scatter"
        },
        {
         "mode": "lines+markers",
         "name": "Death By A Thousand Cuts",
         "x": [
          "2019-09-07T00:00:00"
         ],
         "y": [
          67
         ],
         "type": "scatter"
        },
        {
         "mode": "lines+markers",
         "name": "Afterglow",
         "x": [
          "2019-09-07T00:00:00"
         ],
         "y": [
          75
         ],
         "type": "scatter"
        },
        {
         "mode": "lines+markers",
         "name": "False God",
         "x": [
          "2019-09-07T00:00:00"
         ],
         "y": [
          77
         ],
         "type": "scatter"
        },
        {
         "mode": "lines+markers",
         "name": "Daylight",
         "x": [
          "2019-09-07T00:00:00"
         ],
         "y": [
          89
         ],
         "type": "scatter"
        },
        {
         "mode": "lines+markers",
         "name": "It's Nice To Have A Friend",
         "x": [
          "2019-09-07T00:00:00"
         ],
         "y": [
          92
         ],
         "type": "scatter"
        },
        {
         "mode": "lines+markers",
         "name": "Delicate",
         "x": [
          "2018-11-17T00:00:00",
          "2018-11-10T00:00:00",
          "2018-11-03T00:00:00",
          "2018-10-27T00:00:00",
          "2018-10-20T00:00:00",
          "2018-10-13T00:00:00",
          "2018-10-06T00:00:00",
          "2018-09-29T00:00:00",
          "2018-09-22T00:00:00",
          "2018-09-15T00:00:00",
          "2018-09-08T00:00:00",
          "2018-09-01T00:00:00",
          "2018-08-25T00:00:00",
          "2018-08-18T00:00:00",
          "2018-08-11T00:00:00",
          "2018-08-04T00:00:00",
          "2018-07-28T00:00:00",
          "2018-07-21T00:00:00",
          "2018-07-14T00:00:00",
          "2018-07-07T00:00:00",
          "2018-06-30T00:00:00",
          "2018-06-23T00:00:00",
          "2018-06-16T00:00:00",
          "2018-06-09T00:00:00",
          "2018-06-02T00:00:00",
          "2018-05-26T00:00:00",
          "2018-05-19T00:00:00",
          "2018-05-12T00:00:00",
          "2018-05-05T00:00:00",
          "2018-04-28T00:00:00",
          "2018-04-21T00:00:00",
          "2018-04-14T00:00:00",
          "2018-04-07T00:00:00",
          "2018-03-31T00:00:00",
          "2018-03-24T00:00:00"
         ],
         "y": [
          49,
          43,
          38,
          34,
          33,
          37,
          29,
          27,
          25,
          29,
          25,
          19,
          16,
          17,
          13,
          12,
          12,
          15,
          23,
          20,
          27,
          25,
          37,
          28,
          34,
          36,
          46,
          56,
          52,
          51,
          54,
          46,
          52,
          66,
          84
         ],
         "type": "scatter"
        },
        {
         "mode": "lines+markers",
         "name": "...Ready For It?",
         "x": [
          "2018-01-27T00:00:00",
          "2018-01-20T00:00:00",
          "2018-01-13T00:00:00",
          "2018-01-06T00:00:00",
          "2017-12-30T00:00:00",
          "2017-12-23T00:00:00",
          "2017-12-16T00:00:00",
          "2017-12-09T00:00:00",
          "2017-12-02T00:00:00",
          "2017-11-25T00:00:00",
          "2017-11-18T00:00:00",
          "2017-11-11T00:00:00",
          "2017-11-04T00:00:00",
          "2017-10-28T00:00:00",
          "2017-10-21T00:00:00",
          "2017-10-14T00:00:00",
          "2017-10-07T00:00:00",
          "2017-09-30T00:00:00",
          "2017-09-23T00:00:00"
         ],
         "y": [
          96,
          80,
          58,
          61,
          37,
          43,
          31,
          24,
          18,
          30,
          19,
          46,
          52,
          53,
          47,
          39,
          34,
          21,
          4
         ],
         "type": "scatter"
        },
        {
         "mode": "lines+markers",
         "name": "Look What You Made Me Do",
         "x": [
          "2018-01-13T00:00:00",
          "2018-01-06T00:00:00",
          "2017-12-30T00:00:00",
          "2017-12-23T00:00:00",
          "2017-12-16T00:00:00",
          "2017-12-09T00:00:00",
          "2017-12-02T00:00:00",
          "2017-11-25T00:00:00",
          "2017-11-18T00:00:00",
          "2017-11-11T00:00:00",
          "2017-11-04T00:00:00",
          "2017-10-28T00:00:00",
          "2017-10-21T00:00:00",
          "2017-10-14T00:00:00",
          "2017-10-07T00:00:00",
          "2017-09-30T00:00:00",
          "2017-09-23T00:00:00",
          "2017-09-16T00:00:00",
          "2017-09-09T00:00:00"
         ],
         "y": [
          55,
          66,
          70,
          72,
          60,
          44,
          31,
          37,
          34,
          25,
          10,
          4,
          5,
          3,
          3,
          1,
          1,
          1,
          77
         ],
         "type": "scatter"
        },
        {
         "mode": "lines+markers",
         "name": "Call It What You Want",
         "x": [
          "2017-12-02T00:00:00",
          "2017-11-25T00:00:00"
         ],
         "y": [
          73,
          27
         ],
         "type": "scatter"
        },
        {
         "mode": "lines+markers",
         "name": "Gorgeous",
         "x": [
          "2017-12-02T00:00:00",
          "2017-11-25T00:00:00",
          "2017-11-18T00:00:00",
          "2017-11-11T00:00:00"
         ],
         "y": [
          89,
          85,
          69,
          13
         ],
         "type": "scatter"
        },
        {
         "mode": "lines+markers",
         "name": "New Romantics",
         "x": [
          "2016-05-07T00:00:00",
          "2016-04-30T00:00:00",
          "2016-04-23T00:00:00",
          "2016-04-16T00:00:00",
          "2016-04-09T00:00:00",
          "2016-04-02T00:00:00",
          "2016-03-26T00:00:00",
          "2015-03-21T00:00:00"
         ],
         "y": [
          78,
          46,
          62,
          61,
          62,
          69,
          73,
          71
         ],
         "type": "scatter"
        },
        {
         "mode": "lines+markers",
         "name": "Wildest Dreams",
         "x": [
          "2016-03-12T00:00:00",
          "2016-03-05T00:00:00",
          "2016-02-27T00:00:00",
          "2016-02-20T00:00:00",
          "2016-02-13T00:00:00",
          "2016-02-06T00:00:00",
          "2016-01-30T00:00:00",
          "2016-01-23T00:00:00",
          "2016-01-16T00:00:00",
          "2016-01-09T00:00:00",
          "2016-01-02T00:00:00",
          "2015-12-26T00:00:00",
          "2015-12-19T00:00:00",
          "2015-12-12T00:00:00",
          "2015-12-05T00:00:00",
          "2015-11-28T00:00:00",
          "2015-11-21T00:00:00",
          "2015-11-14T00:00:00",
          "2015-11-07T00:00:00",
          "2015-10-31T00:00:00",
          "2015-10-24T00:00:00",
          "2015-10-17T00:00:00",
          "2015-10-10T00:00:00",
          "2015-10-03T00:00:00",
          "2015-09-26T00:00:00",
          "2015-09-19T00:00:00",
          "2014-11-15T00:00:00"
         ],
         "y": [
          46,
          46,
          38,
          35,
          34,
          34,
          28,
          21,
          18,
          22,
          23,
          18,
          14,
          13,
          9,
          8,
          8,
          7,
          5,
          6,
          9,
          8,
          10,
          13,
          12,
          15,
          76
         ],
         "type": "scatter"
        },
        {
         "mode": "lines+markers",
         "name": "Out Of The Woods",
         "x": [
          "2016-03-12T00:00:00",
          "2016-03-05T00:00:00",
          "2016-02-27T00:00:00",
          "2016-02-20T00:00:00",
          "2016-02-13T00:00:00",
          "2016-02-06T00:00:00",
          "2016-01-30T00:00:00",
          "2016-01-23T00:00:00",
          "2014-11-08T00:00:00",
          "2014-11-01T00:00:00"
         ],
         "y": [
          77,
          53,
          51,
          49,
          44,
          50,
          55,
          46,
          77,
          18
         ],
         "type": "scatter"
        },
        {
         "mode": "lines+markers",
         "name": "Shake It Off",
         "x": [
          "2015-08-15T00:00:00",
          "2015-08-08T00:00:00",
          "2015-08-01T00:00:00",
          "2015-07-25T00:00:00",
          "2015-07-18T00:00:00",
          "2015-07-11T00:00:00",
          "2015-07-04T00:00:00",
          "2015-06-27T00:00:00",
          "2015-06-20T00:00:00",
          "2015-06-13T00:00:00",
          "2015-06-06T00:00:00",
          "2015-05-30T00:00:00",
          "2015-05-23T00:00:00",
          "2015-05-16T00:00:00",
          "2015-05-09T00:00:00",
          "2015-05-02T00:00:00",
          "2015-04-25T00:00:00",
          "2015-04-18T00:00:00",
          "2015-04-11T00:00:00",
          "2015-04-04T00:00:00",
          "2015-03-28T00:00:00",
          "2015-03-21T00:00:00",
          "2015-03-14T00:00:00",
          "2015-03-07T00:00:00",
          "2015-02-28T00:00:00",
          "2015-02-21T00:00:00",
          "2015-02-14T00:00:00",
          "2015-02-07T00:00:00",
          "2015-01-31T00:00:00",
          "2015-01-24T00:00:00",
          "2015-01-17T00:00:00",
          "2015-01-10T00:00:00",
          "2015-01-03T00:00:00",
          "2014-12-27T00:00:00",
          "2014-12-20T00:00:00",
          "2014-12-13T00:00:00",
          "2014-12-06T00:00:00",
          "2014-11-29T00:00:00",
          "2014-11-22T00:00:00",
          "2014-11-15T00:00:00",
          "2014-11-08T00:00:00",
          "2014-11-01T00:00:00",
          "2014-10-25T00:00:00",
          "2014-10-18T00:00:00",
          "2014-10-11T00:00:00",
          "2014-10-04T00:00:00",
          "2014-09-27T00:00:00",
          "2014-09-20T00:00:00",
          "2014-09-13T00:00:00",
          "2014-09-06T00:00:00"
         ],
         "y": [
          50,
          47,
          47,
          50,
          46,
          39,
          40,
          39,
          38,
          39,
          34,
          34,
          35,
          34,
          33,
          32,
          27,
          26,
          24,
          24,
          22,
          24,
          21,
          15,
          15,
          10,
          9,
          5,
          5,
          9,
          7,
          9,
          11,
          10,
          6,
          4,
          5,
          3,
          1,
          1,
          2,
          2,
          2,
          2,
          2,
          2,
          2,
          2,
          1,
          1
         ],
         "type": "scatter"
        },
        {
         "mode": "lines+markers",
         "name": "Style",
         "x": [
          "2015-08-01T00:00:00",
          "2015-07-25T00:00:00",
          "2015-07-18T00:00:00",
          "2015-07-11T00:00:00",
          "2015-07-04T00:00:00",
          "2015-06-27T00:00:00",
          "2015-06-20T00:00:00",
          "2015-06-13T00:00:00",
          "2015-06-06T00:00:00",
          "2015-05-30T00:00:00",
          "2015-05-23T00:00:00",
          "2015-05-16T00:00:00",
          "2015-05-09T00:00:00",
          "2015-05-02T00:00:00",
          "2015-04-25T00:00:00",
          "2015-04-18T00:00:00",
          "2015-04-11T00:00:00",
          "2015-04-04T00:00:00",
          "2015-03-28T00:00:00",
          "2015-03-21T00:00:00",
          "2015-03-14T00:00:00",
          "2015-03-07T00:00:00",
          "2015-02-28T00:00:00",
          "2015-02-21T00:00:00",
          "2015-02-14T00:00:00",
          "2015-02-07T00:00:00",
          "2015-01-31T00:00:00",
          "2015-01-24T00:00:00",
          "2015-01-17T00:00:00",
          "2015-01-10T00:00:00",
          "2014-12-27T00:00:00",
          "2014-11-15T00:00:00"
         ],
         "y": [
          48,
          48,
          48,
          41,
          38,
          34,
          31,
          27,
          23,
          20,
          17,
          15,
          12,
          12,
          10,
          7,
          7,
          7,
          7,
          6,
          7,
          8,
          10,
          18,
          29,
          37,
          52,
          72,
          71,
          84,
          76,
          60
         ],
         "type": "scatter"
        },
        {
         "mode": "lines+markers",
         "name": "Blank Space",
         "x": [
          "2015-07-18T00:00:00",
          "2015-07-11T00:00:00",
          "2015-07-04T00:00:00",
          "2015-06-27T00:00:00",
          "2015-06-20T00:00:00",
          "2015-06-13T00:00:00",
          "2015-06-06T00:00:00",
          "2015-05-30T00:00:00",
          "2015-05-23T00:00:00",
          "2015-05-16T00:00:00",
          "2015-05-09T00:00:00",
          "2015-05-02T00:00:00",
          "2015-04-25T00:00:00",
          "2015-04-18T00:00:00",
          "2015-04-11T00:00:00",
          "2015-04-04T00:00:00",
          "2015-03-28T00:00:00",
          "2015-03-21T00:00:00",
          "2015-03-14T00:00:00",
          "2015-03-07T00:00:00",
          "2015-02-28T00:00:00",
          "2015-02-21T00:00:00",
          "2015-02-14T00:00:00",
          "2015-02-07T00:00:00",
          "2015-01-31T00:00:00",
          "2015-01-24T00:00:00",
          "2015-01-17T00:00:00",
          "2015-01-10T00:00:00",
          "2015-01-03T00:00:00",
          "2014-12-27T00:00:00",
          "2014-12-20T00:00:00",
          "2014-12-13T00:00:00",
          "2014-12-06T00:00:00",
          "2014-11-29T00:00:00",
          "2014-11-22T00:00:00",
          "2014-11-15T00:00:00"
         ],
         "y": [
          50,
          45,
          42,
          42,
          37,
          35,
          32,
          29,
          26,
          25,
          24,
          23,
          19,
          17,
          13,
          11,
          12,
          10,
          8,
          7,
          7,
          5,
          4,
          4,
          3,
          2,
          2,
          1,
          1,
          1,
          1,
          1,
          1,
          1,
          13,
          18
         ],
         "type": "scatter"
        },
        {
         "mode": "lines+markers",
         "name": "You Are In Love",
         "x": [
          "2015-03-14T00:00:00"
         ],
         "y": [
          83
         ],
         "type": "scatter"
        },
        {
         "mode": "lines+markers",
         "name": "Wonderland",
         "x": [
          "2015-03-07T00:00:00"
         ],
         "y": [
          51
         ],
         "type": "scatter"
        },
        {
         "mode": "lines+markers",
         "name": "Welcome To New York",
         "x": [
          "2014-11-15T00:00:00",
          "2014-11-08T00:00:00"
         ],
         "y": [
          69,
          48
         ],
         "type": "scatter"
        },
        {
         "mode": "lines+markers",
         "name": "Red",
         "x": [
          "2013-12-14T00:00:00",
          "2013-12-07T00:00:00",
          "2013-11-30T00:00:00",
          "2013-11-23T00:00:00",
          "2013-11-16T00:00:00",
          "2013-11-09T00:00:00",
          "2013-11-02T00:00:00",
          "2013-10-26T00:00:00",
          "2013-10-19T00:00:00",
          "2013-10-12T00:00:00",
          "2013-10-05T00:00:00",
          "2013-09-28T00:00:00",
          "2013-09-21T00:00:00",
          "2013-09-14T00:00:00",
          "2013-09-07T00:00:00",
          "2013-08-31T00:00:00",
          "2013-08-24T00:00:00",
          "2013-01-12T00:00:00",
          "2012-11-17T00:00:00",
          "2012-11-03T00:00:00",
          "2012-10-27T00:00:00",
          "2012-10-20T00:00:00"
         ],
         "y": [
          51,
          53,
          51,
          32,
          76,
          76,
          73,
          73,
          73,
          75,
          76,
          76,
          76,
          82,
          86,
          85,
          100,
          80,
          89,
          77,
          54,
          6
         ],
         "type": "scatter"
        },
        {
         "mode": "lines+markers",
         "name": "Sweeter Than Fiction",
         "x": [
          "2013-11-09T00:00:00"
         ],
         "y": [
          34
         ],
         "type": "scatter"
        },
        {
         "mode": "lines+markers",
         "name": "22",
         "x": [
          "2013-07-27T00:00:00",
          "2013-07-20T00:00:00",
          "2013-07-13T00:00:00",
          "2013-07-06T00:00:00",
          "2013-06-29T00:00:00",
          "2013-06-22T00:00:00",
          "2013-06-15T00:00:00",
          "2013-06-08T00:00:00",
          "2013-06-01T00:00:00",
          "2013-05-25T00:00:00",
          "2013-05-18T00:00:00",
          "2013-05-11T00:00:00",
          "2013-05-04T00:00:00",
          "2013-04-27T00:00:00",
          "2013-04-20T00:00:00",
          "2013-04-13T00:00:00",
          "2013-04-06T00:00:00",
          "2013-03-30T00:00:00",
          "2013-01-12T00:00:00",
          "2012-11-10T00:00:00"
         ],
         "y": [
          65,
          55,
          49,
          41,
          32,
          26,
          24,
          23,
          26,
          25,
          21,
          20,
          24,
          32,
          34,
          33,
          26,
          64,
          84,
          44
         ],
         "type": "scatter"
        },
        {
         "mode": "lines+markers",
         "name": "I Knew You Were Trouble.",
         "x": [
          "2013-07-06T00:00:00",
          "2013-06-29T00:00:00",
          "2013-06-22T00:00:00",
          "2013-06-15T00:00:00",
          "2013-06-08T00:00:00",
          "2013-06-01T00:00:00",
          "2013-05-25T00:00:00",
          "2013-05-18T00:00:00",
          "2013-05-11T00:00:00",
          "2013-05-04T00:00:00",
          "2013-04-27T00:00:00",
          "2013-04-20T00:00:00",
          "2013-04-13T00:00:00",
          "2013-04-06T00:00:00",
          "2013-03-30T00:00:00",
          "2013-03-23T00:00:00",
          "2013-03-16T00:00:00",
          "2013-03-09T00:00:00",
          "2013-03-02T00:00:00",
          "2013-02-23T00:00:00",
          "2013-02-16T00:00:00",
          "2013-02-09T00:00:00",
          "2013-02-02T00:00:00",
          "2013-01-26T00:00:00",
          "2013-01-19T00:00:00",
          "2013-01-12T00:00:00",
          "2013-01-05T00:00:00",
          "2012-12-29T00:00:00",
          "2012-12-22T00:00:00",
          "2012-12-15T00:00:00",
          "2012-12-08T00:00:00",
          "2012-12-01T00:00:00",
          "2012-11-24T00:00:00",
          "2012-11-17T00:00:00",
          "2012-11-03T00:00:00",
          "2012-10-27T00:00:00"
         ],
         "y": [
          49,
          49,
          42,
          43,
          48,
          41,
          36,
          35,
          34,
          25,
          19,
          16,
          12,
          10,
          7,
          6,
          4,
          4,
          5,
          5,
          5,
          4,
          5,
          4,
          3,
          2,
          4,
          10,
          15,
          32,
          47,
          77,
          73,
          59,
          23,
          3
         ],
         "type": "scatter"
        },
        {
         "mode": "lines+markers",
         "name": "Begin Again",
         "x": [
          "2013-03-02T00:00:00",
          "2013-02-23T00:00:00",
          "2013-02-16T00:00:00",
          "2013-02-09T00:00:00",
          "2013-02-02T00:00:00",
          "2013-01-26T00:00:00",
          "2013-01-19T00:00:00",
          "2013-01-12T00:00:00",
          "2013-01-05T00:00:00",
          "2012-12-29T00:00:00",
          "2012-12-22T00:00:00",
          "2012-12-15T00:00:00",
          "2012-12-08T00:00:00",
          "2012-12-01T00:00:00",
          "2012-11-24T00:00:00",
          "2012-11-17T00:00:00",
          "2012-11-03T00:00:00",
          "2012-10-27T00:00:00",
          "2012-10-20T00:00:00",
          "2012-10-13T00:00:00"
         ],
         "y": [
          65,
          71,
          75,
          78,
          73,
          73,
          73,
          63,
          76,
          75,
          78,
          77,
          78,
          73,
          71,
          68,
          78,
          70,
          52,
          7
         ],
         "type": "scatter"
        },
        {
         "mode": "lines+markers",
         "name": "We Are Never Ever Getting Back Together",
         "x": [
          "2013-02-02T00:00:00",
          "2013-01-26T00:00:00",
          "2013-01-19T00:00:00",
          "2013-01-12T00:00:00",
          "2013-01-05T00:00:00",
          "2012-12-29T00:00:00",
          "2012-12-22T00:00:00",
          "2012-12-15T00:00:00",
          "2012-12-08T00:00:00",
          "2012-12-01T00:00:00",
          "2012-11-24T00:00:00",
          "2012-11-17T00:00:00",
          "2012-11-10T00:00:00",
          "2012-11-03T00:00:00",
          "2012-10-27T00:00:00",
          "2012-10-20T00:00:00",
          "2012-10-13T00:00:00",
          "2012-10-06T00:00:00",
          "2012-09-29T00:00:00",
          "2012-09-22T00:00:00",
          "2012-09-15T00:00:00",
          "2012-09-08T00:00:00",
          "2012-09-01T00:00:00",
          "2012-08-25T00:00:00"
         ],
         "y": [
          46,
          39,
          25,
          17,
          29,
          27,
          25,
          15,
          11,
          9,
          7,
          5,
          11,
          4,
          5,
          5,
          4,
          4,
          2,
          1,
          2,
          1,
          1,
          72
         ],
         "type": "scatter"
        },
        {
         "mode": "lines+markers",
         "name": "The Moment I Knew",
         "x": [
          "2013-01-26T00:00:00"
         ],
         "y": [
          64
         ],
         "type": "scatter"
        },
        {
         "mode": "lines+markers",
         "name": "I Almost Do",
         "x": [
          "2012-11-10T00:00:00"
         ],
         "y": [
          65
         ],
         "type": "scatter"
        },
        {
         "mode": "lines+markers",
         "name": "All Too Well",
         "x": [
          "2012-11-10T00:00:00"
         ],
         "y": [
          80
         ],
         "type": "scatter"
        },
        {
         "mode": "lines+markers",
         "name": "Stay Stay Stay",
         "x": [
          "2012-11-10T00:00:00"
         ],
         "y": [
          91
         ],
         "type": "scatter"
        },
        {
         "mode": "lines+markers",
         "name": "State Of Grace",
         "x": [
          "2012-11-03T00:00:00"
         ],
         "y": [
          13
         ],
         "type": "scatter"
        },
        {
         "mode": "lines+markers",
         "name": "Ronan",
         "x": [
          "2012-09-29T00:00:00",
          "2012-09-22T00:00:00"
         ],
         "y": [
          36,
          16
         ],
         "type": "scatter"
        },
        {
         "mode": "lines+markers",
         "name": "Eyes Open",
         "x": [
          "2012-06-30T00:00:00",
          "2012-06-23T00:00:00",
          "2012-06-16T00:00:00",
          "2012-06-09T00:00:00",
          "2012-06-02T00:00:00",
          "2012-05-26T00:00:00",
          "2012-05-19T00:00:00",
          "2012-05-12T00:00:00",
          "2012-05-05T00:00:00",
          "2012-04-28T00:00:00",
          "2012-04-21T00:00:00",
          "2012-04-14T00:00:00",
          "2012-04-07T00:00:00"
         ],
         "y": [
          93,
          87,
          75,
          60,
          45,
          36,
          23,
          20,
          21,
          23,
          29,
          26,
          19
         ],
         "type": "scatter"
        },
        {
         "mode": "lines+markers",
         "name": "Ours",
         "x": [
          "2012-04-07T00:00:00",
          "2012-03-31T00:00:00",
          "2012-03-24T00:00:00",
          "2012-03-17T00:00:00",
          "2012-03-10T00:00:00",
          "2012-03-03T00:00:00",
          "2012-02-25T00:00:00",
          "2012-02-18T00:00:00",
          "2012-02-11T00:00:00",
          "2012-02-04T00:00:00",
          "2012-01-28T00:00:00",
          "2012-01-21T00:00:00",
          "2012-01-14T00:00:00",
          "2012-01-07T00:00:00",
          "2011-12-31T00:00:00",
          "2011-12-24T00:00:00",
          "2011-12-17T00:00:00",
          "2011-12-10T00:00:00",
          "2011-12-03T00:00:00",
          "2011-11-26T00:00:00"
         ],
         "y": [
          42,
          41,
          39,
          48,
          45,
          46,
          47,
          42,
          46,
          44,
          47,
          43,
          43,
          45,
          47,
          65,
          83,
          81,
          56,
          13
         ],
         "type": "scatter"
        },
        {
         "mode": "lines+markers",
         "name": "Sparks Fly",
         "x": [
          "2011-12-24T00:00:00",
          "2011-12-17T00:00:00",
          "2011-12-10T00:00:00",
          "2011-12-03T00:00:00",
          "2011-11-26T00:00:00",
          "2011-11-19T00:00:00",
          "2011-11-12T00:00:00",
          "2011-11-05T00:00:00",
          "2011-10-29T00:00:00",
          "2011-10-22T00:00:00",
          "2011-10-15T00:00:00",
          "2011-10-08T00:00:00",
          "2011-10-01T00:00:00",
          "2011-09-24T00:00:00",
          "2011-09-17T00:00:00",
          "2011-09-10T00:00:00",
          "2011-09-03T00:00:00",
          "2011-08-27T00:00:00",
          "2010-11-20T00:00:00",
          "2010-11-13T00:00:00"
         ],
         "y": [
          85,
          65,
          55,
          54,
          49,
          42,
          46,
          49,
          50,
          54,
          60,
          59,
          57,
          64,
          68,
          67,
          70,
          84,
          78,
          17
         ],
         "type": "scatter"
        },
        {
         "mode": "lines+markers",
         "name": "If This Was A Movie",
         "x": [
          "2011-12-03T00:00:00",
          "2011-11-26T00:00:00"
         ],
         "y": [
          53,
          10
         ],
         "type": "scatter"
        },
        {
         "mode": "lines+markers",
         "name": "Superman",
         "x": [
          "2011-11-26T00:00:00"
         ],
         "y": [
          26
         ],
         "type": "scatter"
        },
        {
         "mode": "lines+markers",
         "name": "Haunted",
         "x": [
          "2011-11-26T00:00:00",
          "2010-11-13T00:00:00"
         ],
         "y": [
          98,
          63
         ],
         "type": "scatter"
        },
        {
         "mode": "lines+markers",
         "name": "Mean",
         "x": [
          "2011-08-13T00:00:00",
          "2011-08-06T00:00:00",
          "2011-07-30T00:00:00",
          "2011-07-23T00:00:00",
          "2011-07-16T00:00:00",
          "2011-07-09T00:00:00",
          "2011-07-02T00:00:00",
          "2011-06-25T00:00:00",
          "2011-06-18T00:00:00",
          "2011-06-11T00:00:00",
          "2011-06-04T00:00:00",
          "2011-05-28T00:00:00",
          "2011-05-21T00:00:00",
          "2011-05-14T00:00:00",
          "2011-05-07T00:00:00",
          "2011-04-30T00:00:00",
          "2011-04-23T00:00:00",
          "2011-04-16T00:00:00",
          "2011-04-09T00:00:00",
          "2010-11-06T00:00:00"
         ],
         "y": [
          63,
          61,
          55,
          44,
          39,
          34,
          31,
          37,
          33,
          39,
          34,
          37,
          46,
          54,
          50,
          51,
          48,
          67,
          90,
          11
         ],
         "type": "scatter"
        },
        {
         "mode": "lines+markers",
         "name": "The Story Of Us",
         "x": [
          "2011-08-06T00:00:00",
          "2011-07-30T00:00:00",
          "2011-07-23T00:00:00",
          "2011-07-16T00:00:00",
          "2011-07-09T00:00:00",
          "2011-07-02T00:00:00",
          "2011-06-25T00:00:00",
          "2011-06-18T00:00:00",
          "2011-06-11T00:00:00",
          "2011-06-04T00:00:00",
          "2011-05-28T00:00:00",
          "2010-11-13T00:00:00"
         ],
         "y": [
          97,
          83,
          69,
          72,
          67,
          67,
          66,
          72,
          77,
          88,
          98,
          41
         ],
         "type": "scatter"
        },
        {
         "mode": "lines+markers",
         "name": "Back To December",
         "x": [
          "2011-03-26T00:00:00",
          "2011-03-19T00:00:00",
          "2011-03-12T00:00:00",
          "2011-03-05T00:00:00",
          "2011-02-26T00:00:00",
          "2011-02-19T00:00:00",
          "2011-02-12T00:00:00",
          "2011-02-05T00:00:00",
          "2011-01-29T00:00:00",
          "2011-01-22T00:00:00",
          "2011-01-15T00:00:00",
          "2011-01-08T00:00:00",
          "2011-01-01T00:00:00",
          "2010-12-25T00:00:00",
          "2010-12-18T00:00:00",
          "2010-12-11T00:00:00",
          "2010-12-04T00:00:00",
          "2010-11-27T00:00:00",
          "2010-11-06T00:00:00",
          "2010-10-30T00:00:00"
         ],
         "y": [
          37,
          32,
          29,
          24,
          24,
          20,
          18,
          22,
          26,
          25,
          25,
          27,
          26,
          34,
          43,
          47,
          67,
          74,
          30,
          6
         ],
         "type": "scatter"
        },
        {
         "mode": "lines+markers",
         "name": "Mine",
         "x": [
          "2011-01-22T00:00:00",
          "2011-01-15T00:00:00",
          "2011-01-08T00:00:00",
          "2011-01-01T00:00:00",
          "2010-12-25T00:00:00",
          "2010-12-18T00:00:00",
          "2010-12-11T00:00:00",
          "2010-12-04T00:00:00",
          "2010-11-27T00:00:00",
          "2010-11-20T00:00:00",
          "2010-11-13T00:00:00",
          "2010-11-06T00:00:00",
          "2010-10-30T00:00:00",
          "2010-10-23T00:00:00",
          "2010-10-16T00:00:00",
          "2010-10-09T00:00:00",
          "2010-10-02T00:00:00",
          "2010-09-25T00:00:00",
          "2010-09-18T00:00:00",
          "2010-09-11T00:00:00",
          "2010-09-04T00:00:00",
          "2010-08-28T00:00:00",
          "2010-08-21T00:00:00"
         ],
         "y": [
          50,
          31,
          42,
          52,
          50,
          47,
          37,
          33,
          23,
          16,
          21,
          13,
          14,
          14,
          12,
          11,
          12,
          10,
          7,
          9,
          14,
          8,
          3
         ],
         "type": "scatter"
        },
        {
         "mode": "lines+markers",
         "name": "Innocent",
         "x": [
          "2010-11-13T00:00:00"
         ],
         "y": [
          27
         ],
         "type": "scatter"
        },
        {
         "mode": "lines+markers",
         "name": "Dear John",
         "x": [
          "2010-11-13T00:00:00"
         ],
         "y": [
          54
         ],
         "type": "scatter"
        },
        {
         "mode": "lines+markers",
         "name": "Better Than Revenge",
         "x": [
          "2010-11-13T00:00:00"
         ],
         "y": [
          56
         ],
         "type": "scatter"
        },
        {
         "mode": "lines+markers",
         "name": "Last Kiss",
         "x": [
          "2010-11-13T00:00:00"
         ],
         "y": [
          71
         ],
         "type": "scatter"
        },
        {
         "mode": "lines+markers",
         "name": "Enchanted",
         "x": [
          "2010-11-13T00:00:00"
         ],
         "y": [
          75
         ],
         "type": "scatter"
        },
        {
         "mode": "lines+markers",
         "name": "Never Grow Up",
         "x": [
          "2010-11-13T00:00:00"
         ],
         "y": [
          84
         ],
         "type": "scatter"
        },
        {
         "mode": "lines+markers",
         "name": "Long Live",
         "x": [
          "2010-11-13T00:00:00"
         ],
         "y": [
          85
         ],
         "type": "scatter"
        },
        {
         "mode": "lines+markers",
         "name": "Speak Now",
         "x": [
          "2010-11-06T00:00:00",
          "2010-10-30T00:00:00",
          "2010-10-23T00:00:00"
         ],
         "y": [
          86,
          45,
          8
         ],
         "type": "scatter"
        },
        {
         "mode": "lines+markers",
         "name": "Today Was A Fairytale",
         "x": [
          "2010-06-05T00:00:00",
          "2010-05-29T00:00:00",
          "2010-05-22T00:00:00",
          "2010-05-15T00:00:00",
          "2010-05-08T00:00:00",
          "2010-05-01T00:00:00",
          "2010-04-24T00:00:00",
          "2010-04-17T00:00:00",
          "2010-04-10T00:00:00",
          "2010-04-03T00:00:00",
          "2010-03-27T00:00:00",
          "2010-03-20T00:00:00",
          "2010-03-13T00:00:00",
          "2010-03-06T00:00:00",
          "2010-02-27T00:00:00",
          "2010-02-20T00:00:00",
          "2010-02-13T00:00:00",
          "2010-02-06T00:00:00"
         ],
         "y": [
          97,
          96,
          85,
          81,
          65,
          56,
          41,
          38,
          36,
          35,
          30,
          30,
          31,
          24,
          30,
          39,
          22,
          2
         ],
         "type": "scatter"
        },
        {
         "mode": "lines+markers",
         "name": "Fearless",
         "x": [
          "2010-05-01T00:00:00",
          "2010-04-24T00:00:00",
          "2010-04-17T00:00:00",
          "2010-04-10T00:00:00",
          "2010-04-03T00:00:00",
          "2010-03-27T00:00:00",
          "2010-03-20T00:00:00",
          "2010-03-13T00:00:00",
          "2010-02-27T00:00:00",
          "2010-02-20T00:00:00",
          "2009-05-16T00:00:00",
          "2008-11-22T00:00:00",
          "2008-11-15T00:00:00",
          "2008-11-08T00:00:00",
          "2008-11-01T00:00:00"
         ],
         "y": [
          84,
          78,
          76,
          76,
          77,
          77,
          87,
          94,
          97,
          99,
          95,
          98,
          79,
          38,
          9
         ],
         "type": "scatter"
        },
        {
         "mode": "lines+markers",
         "name": "You Belong With Me",
         "x": [
          "2010-04-17T00:00:00",
          "2010-04-10T00:00:00",
          "2010-04-03T00:00:00",
          "2010-03-27T00:00:00",
          "2010-03-20T00:00:00",
          "2010-03-13T00:00:00",
          "2010-03-06T00:00:00",
          "2010-02-27T00:00:00",
          "2010-02-20T00:00:00",
          "2010-02-13T00:00:00",
          "2010-02-06T00:00:00",
          "2010-01-30T00:00:00",
          "2010-01-23T00:00:00",
          "2010-01-16T00:00:00",
          "2010-01-09T00:00:00",
          "2010-01-02T00:00:00",
          "2009-12-26T00:00:00",
          "2009-12-19T00:00:00",
          "2009-12-12T00:00:00",
          "2009-12-05T00:00:00",
          "2009-11-28T00:00:00",
          "2009-11-21T00:00:00",
          "2009-11-14T00:00:00",
          "2009-11-07T00:00:00",
          "2009-10-31T00:00:00",
          "2009-10-24T00:00:00",
          "2009-10-17T00:00:00",
          "2009-10-10T00:00:00",
          "2009-10-03T00:00:00",
          "2009-09-26T00:00:00",
          "2009-09-19T00:00:00",
          "2009-09-12T00:00:00",
          "2009-09-05T00:00:00",
          "2009-08-29T00:00:00",
          "2009-08-22T00:00:00",
          "2009-08-15T00:00:00",
          "2009-08-08T00:00:00",
          "2009-08-01T00:00:00",
          "2009-07-25T00:00:00",
          "2009-07-18T00:00:00",
          "2009-07-11T00:00:00",
          "2009-07-04T00:00:00",
          "2009-06-27T00:00:00",
          "2009-06-20T00:00:00",
          "2009-06-13T00:00:00",
          "2009-06-06T00:00:00",
          "2009-05-30T00:00:00",
          "2009-05-23T00:00:00",
          "2009-05-16T00:00:00",
          "2008-11-22T00:00:00"
         ],
         "y": [
          50,
          45,
          45,
          39,
          36,
          33,
          35,
          29,
          27,
          26,
          27,
          22,
          16,
          17,
          19,
          22,
          22,
          18,
          18,
          15,
          14,
          13,
          14,
          11,
          10,
          8,
          7,
          6,
          4,
          6,
          6,
          5,
          4,
          4,
          2,
          3,
          4,
          3,
          6,
          9,
          11,
          16,
          18,
          32,
          41,
          47,
          46,
          50,
          87,
          12
         ],
         "type": "scatter"
        },
        {
         "mode": "lines+markers",
         "name": "Breathless",
         "x": [
          "2010-02-13T00:00:00"
         ],
         "y": [
          72
         ],
         "type": "scatter"
        },
        {
         "mode": "lines+markers",
         "name": "Fifteen",
         "x": [
          "2010-02-06T00:00:00",
          "2010-01-30T00:00:00",
          "2010-01-23T00:00:00",
          "2010-01-16T00:00:00",
          "2010-01-09T00:00:00",
          "2010-01-02T00:00:00",
          "2009-12-26T00:00:00",
          "2009-12-19T00:00:00",
          "2009-12-12T00:00:00",
          "2009-12-05T00:00:00",
          "2009-11-28T00:00:00",
          "2009-11-21T00:00:00",
          "2009-11-14T00:00:00",
          "2009-11-07T00:00:00",
          "2009-10-31T00:00:00",
          "2009-10-24T00:00:00",
          "2009-10-17T00:00:00",
          "2009-10-10T00:00:00",
          "2009-10-03T00:00:00",
          "2009-02-28T00:00:00",
          "2008-11-29T00:00:00"
         ],
         "y": [
          40,
          36,
          37,
          28,
          25,
          30,
          27,
          23,
          27,
          26,
          26,
          38,
          46,
          62,
          67,
          77,
          81,
          89,
          94,
          65,
          79
         ],
         "type": "scatter"
        },
        {
         "mode": "lines+markers",
         "name": "Jump Then Fall",
         "x": [
          "2009-11-28T00:00:00",
          "2009-11-21T00:00:00",
          "2009-11-14T00:00:00"
         ],
         "y": [
          91,
          41,
          10
         ],
         "type": "scatter"
        },
        {
         "mode": "lines+markers",
         "name": "Untouchable",
         "x": [
          "2009-11-21T00:00:00",
          "2009-11-14T00:00:00"
         ],
         "y": [
          69,
          19
         ],
         "type": "scatter"
        },
        {
         "mode": "lines+markers",
         "name": "The Other Side Of The Door",
         "x": [
          "2009-11-21T00:00:00",
          "2009-11-14T00:00:00"
         ],
         "y": [
          94,
          23
         ],
         "type": "scatter"
        },
        {
         "mode": "lines+markers",
         "name": "Forever & Always",
         "x": [
          "2009-11-21T00:00:00",
          "2009-11-14T00:00:00",
          "2008-11-29T00:00:00"
         ],
         "y": [
          100,
          34,
          49
         ],
         "type": "scatter"
        },
        {
         "mode": "lines+markers",
         "name": "Superstar",
         "x": [
          "2009-11-14T00:00:00"
         ],
         "y": [
          26
         ],
         "type": "scatter"
        },
        {
         "mode": "lines+markers",
         "name": "Come In With The Rain",
         "x": [
          "2009-11-14T00:00:00"
         ],
         "y": [
          30
         ],
         "type": "scatter"
        },
        {
         "mode": "lines+markers",
         "name": "Love Story",
         "x": [
          "2009-08-29T00:00:00",
          "2009-08-22T00:00:00",
          "2009-08-15T00:00:00",
          "2009-08-08T00:00:00",
          "2009-08-01T00:00:00",
          "2009-07-25T00:00:00",
          "2009-07-18T00:00:00",
          "2009-07-11T00:00:00",
          "2009-07-04T00:00:00",
          "2009-06-27T00:00:00",
          "2009-06-20T00:00:00",
          "2009-06-13T00:00:00",
          "2009-06-06T00:00:00",
          "2009-05-30T00:00:00",
          "2009-05-23T00:00:00",
          "2009-05-16T00:00:00",
          "2009-05-09T00:00:00",
          "2009-05-02T00:00:00",
          "2009-04-25T00:00:00",
          "2009-04-18T00:00:00",
          "2009-04-11T00:00:00",
          "2009-04-04T00:00:00",
          "2009-03-28T00:00:00",
          "2009-03-21T00:00:00",
          "2009-03-14T00:00:00",
          "2009-03-07T00:00:00",
          "2009-02-28T00:00:00",
          "2009-02-21T00:00:00",
          "2009-02-14T00:00:00",
          "2009-02-07T00:00:00",
          "2009-01-31T00:00:00",
          "2009-01-24T00:00:00",
          "2009-01-17T00:00:00",
          "2009-01-10T00:00:00",
          "2009-01-03T00:00:00",
          "2008-12-27T00:00:00",
          "2008-12-20T00:00:00",
          "2008-12-13T00:00:00",
          "2008-12-06T00:00:00",
          "2008-11-29T00:00:00",
          "2008-11-22T00:00:00",
          "2008-11-15T00:00:00",
          "2008-11-08T00:00:00",
          "2008-11-01T00:00:00",
          "2008-10-25T00:00:00",
          "2008-10-18T00:00:00",
          "2008-10-11T00:00:00",
          "2008-10-04T00:00:00",
          "2008-09-27T00:00:00"
         ],
         "y": [
          49,
          46,
          46,
          42,
          40,
          41,
          38,
          33,
          29,
          26,
          26,
          28,
          34,
          24,
          21,
          18,
          18,
          16,
          14,
          14,
          15,
          13,
          13,
          12,
          9,
          8,
          7,
          7,
          5,
          5,
          5,
          5,
          4,
          5,
          7,
          11,
          12,
          12,
          14,
          18,
          14,
          16,
          15,
          14,
          14,
          13,
          9,
          5,
          16
         ],
         "type": "scatter"
        },
        {
         "mode": "lines+markers",
         "name": "Crazier",
         "x": [
          "2009-05-30T00:00:00",
          "2009-05-23T00:00:00",
          "2009-05-16T00:00:00",
          "2009-05-09T00:00:00",
          "2009-05-02T00:00:00",
          "2009-04-25T00:00:00",
          "2009-04-18T00:00:00",
          "2009-04-11T00:00:00"
         ],
         "y": [
          90,
          66,
          61,
          38,
          17,
          38,
          69,
          72
         ],
         "type": "scatter"
        },
        {
         "mode": "lines+markers",
         "name": "White Horse",
         "x": [
          "2009-04-25T00:00:00",
          "2009-04-18T00:00:00",
          "2009-04-11T00:00:00",
          "2009-04-04T00:00:00",
          "2009-03-28T00:00:00",
          "2009-03-21T00:00:00",
          "2009-03-14T00:00:00",
          "2009-03-07T00:00:00",
          "2009-02-28T00:00:00",
          "2009-02-21T00:00:00",
          "2009-02-14T00:00:00",
          "2009-02-07T00:00:00",
          "2009-01-31T00:00:00",
          "2009-01-24T00:00:00",
          "2009-01-17T00:00:00",
          "2009-01-10T00:00:00",
          "2009-01-03T00:00:00",
          "2008-12-27T00:00:00",
          "2008-12-20T00:00:00",
          "2008-12-13T00:00:00",
          "2008-12-06T00:00:00",
          "2008-11-29T00:00:00"
         ],
         "y": [
          44,
          39,
          32,
          32,
          29,
          31,
          30,
          34,
          34,
          39,
          40,
          39,
          35,
          37,
          38,
          41,
          48,
          51,
          52,
          47,
          56,
          13
         ],
         "type": "scatter"
        },
        {
         "mode": "lines+markers",
         "name": "You're Not Sorry",
         "x": [
          "2009-04-04T00:00:00",
          "2009-03-28T00:00:00",
          "2009-03-21T00:00:00",
          "2008-11-22T00:00:00",
          "2008-11-15T00:00:00"
         ],
         "y": [
          95,
          40,
          67,
          35,
          11
         ],
         "type": "scatter"
        },
        {
         "mode": "lines+markers",
         "name": "The Way I Loved You",
         "x": [
          "2008-11-29T00:00:00"
         ],
         "y": [
          72
         ],
         "type": "scatter"
        },
        {
         "mode": "lines+markers",
         "name": "Hey Stephen",
         "x": [
          "2008-11-29T00:00:00"
         ],
         "y": [
          94
         ],
         "type": "scatter"
        },
        {
         "mode": "lines+markers",
         "name": "Should've Said No",
         "x": [
          "2008-10-18T00:00:00",
          "2008-10-11T00:00:00",
          "2008-10-04T00:00:00",
          "2008-09-27T00:00:00",
          "2008-09-20T00:00:00",
          "2008-09-13T00:00:00",
          "2008-09-06T00:00:00",
          "2008-08-30T00:00:00",
          "2008-08-23T00:00:00",
          "2008-08-16T00:00:00",
          "2008-08-09T00:00:00",
          "2008-08-02T00:00:00",
          "2008-07-26T00:00:00",
          "2008-07-19T00:00:00",
          "2008-07-12T00:00:00",
          "2008-07-05T00:00:00",
          "2008-06-28T00:00:00",
          "2008-06-21T00:00:00",
          "2008-06-14T00:00:00",
          "2008-06-07T00:00:00"
         ],
         "y": [
          90,
          82,
          83,
          66,
          61,
          51,
          40,
          35,
          37,
          38,
          33,
          34,
          38,
          46,
          55,
          64,
          65,
          75,
          84,
          84
         ],
         "type": "scatter"
        },
        {
         "mode": "lines+markers",
         "name": "Change",
         "x": [
          "2008-09-13T00:00:00",
          "2008-09-06T00:00:00",
          "2008-08-30T00:00:00"
         ],
         "y": [
          100,
          39,
          10
         ],
         "type": "scatter"
        },
        {
         "mode": "lines+markers",
         "name": "Picture To Burn",
         "x": [
          "2008-07-12T00:00:00",
          "2008-07-05T00:00:00",
          "2008-06-28T00:00:00",
          "2008-06-21T00:00:00",
          "2008-06-14T00:00:00",
          "2008-06-07T00:00:00",
          "2008-05-31T00:00:00",
          "2008-05-24T00:00:00",
          "2008-05-17T00:00:00",
          "2008-05-10T00:00:00",
          "2008-05-03T00:00:00",
          "2008-04-26T00:00:00",
          "2008-04-19T00:00:00",
          "2008-04-12T00:00:00",
          "2008-04-05T00:00:00",
          "2008-03-29T00:00:00",
          "2008-03-22T00:00:00",
          "2008-03-15T00:00:00",
          "2008-03-08T00:00:00",
          "2008-03-01T00:00:00"
         ],
         "y": [
          89,
          82,
          80,
          74,
          67,
          71,
          52,
          36,
          28,
          29,
          29,
          36,
          44,
          45,
          51,
          55,
          64,
          73,
          83,
          91
         ],
         "type": "scatter"
        },
        {
         "mode": "lines+markers",
         "name": "Our Song",
         "x": [
          "2008-06-14T00:00:00",
          "2008-06-07T00:00:00",
          "2008-05-31T00:00:00",
          "2008-05-24T00:00:00",
          "2008-05-17T00:00:00",
          "2008-05-10T00:00:00",
          "2008-05-03T00:00:00",
          "2008-04-26T00:00:00",
          "2008-04-19T00:00:00",
          "2008-04-12T00:00:00",
          "2008-04-05T00:00:00",
          "2008-03-29T00:00:00",
          "2008-03-22T00:00:00",
          "2008-03-15T00:00:00",
          "2008-03-08T00:00:00",
          "2008-03-01T00:00:00",
          "2008-02-23T00:00:00",
          "2008-02-16T00:00:00",
          "2008-02-09T00:00:00",
          "2008-02-02T00:00:00",
          "2008-01-26T00:00:00",
          "2008-01-19T00:00:00",
          "2008-01-12T00:00:00",
          "2008-01-05T00:00:00",
          "2007-12-29T00:00:00",
          "2007-12-22T00:00:00",
          "2007-12-15T00:00:00",
          "2007-12-08T00:00:00",
          "2007-12-01T00:00:00",
          "2007-11-24T00:00:00",
          "2007-11-17T00:00:00",
          "2007-11-10T00:00:00",
          "2007-11-03T00:00:00",
          "2007-10-27T00:00:00",
          "2007-10-20T00:00:00",
          "2007-10-13T00:00:00"
         ],
         "y": [
          48,
          48,
          39,
          34,
          29,
          31,
          28,
          28,
          28,
          33,
          39,
          39,
          39,
          39,
          35,
          30,
          29,
          31,
          24,
          16,
          20,
          16,
          17,
          26,
          21,
          22,
          24,
          23,
          28,
          24,
          36,
          39,
          46,
          56,
          67,
          86
         ],
         "type": "scatter"
        },
        {
         "mode": "lines+markers",
         "name": "Teardrops On My Guitar",
         "x": [
          "2008-05-17T00:00:00",
          "2008-05-10T00:00:00",
          "2008-05-03T00:00:00",
          "2008-04-26T00:00:00",
          "2008-04-19T00:00:00",
          "2008-04-12T00:00:00",
          "2008-04-05T00:00:00",
          "2008-03-29T00:00:00",
          "2008-03-22T00:00:00",
          "2008-03-15T00:00:00",
          "2008-03-08T00:00:00",
          "2008-03-01T00:00:00",
          "2008-02-23T00:00:00",
          "2008-02-16T00:00:00",
          "2008-02-09T00:00:00",
          "2008-02-02T00:00:00",
          "2008-01-26T00:00:00",
          "2008-01-19T00:00:00",
          "2008-01-12T00:00:00",
          "2008-01-05T00:00:00",
          "2007-12-29T00:00:00",
          "2007-12-22T00:00:00",
          "2007-12-15T00:00:00",
          "2007-09-08T00:00:00",
          "2007-09-01T00:00:00",
          "2007-08-25T00:00:00",
          "2007-08-18T00:00:00",
          "2007-08-11T00:00:00",
          "2007-08-04T00:00:00",
          "2007-07-28T00:00:00",
          "2007-07-21T00:00:00",
          "2007-07-14T00:00:00",
          "2007-07-07T00:00:00",
          "2007-06-30T00:00:00",
          "2007-06-23T00:00:00",
          "2007-06-16T00:00:00",
          "2007-06-09T00:00:00",
          "2007-06-02T00:00:00",
          "2007-05-26T00:00:00",
          "2007-05-19T00:00:00",
          "2007-05-12T00:00:00",
          "2007-05-05T00:00:00",
          "2007-04-28T00:00:00",
          "2007-04-21T00:00:00",
          "2007-04-14T00:00:00",
          "2007-04-07T00:00:00",
          "2007-03-31T00:00:00",
          "2007-03-24T00:00:00"
         ],
         "y": [
          49,
          48,
          38,
          29,
          26,
          26,
          22,
          22,
          20,
          22,
          16,
          13,
          15,
          15,
          15,
          14,
          17,
          18,
          19,
          23,
          24,
          30,
          44,
          50,
          49,
          38,
          34,
          33,
          39,
          40,
          41,
          42,
          45,
          42,
          42,
          49,
          46,
          44,
          51,
          50,
          53,
          56,
          52,
          60,
          70,
          78,
          77,
          93
         ],
         "type": "scatter"
        },
        {
         "mode": "lines+markers",
         "name": "Tim McGraw",
         "x": [
          "2007-02-03T00:00:00",
          "2007-01-27T00:00:00",
          "2007-01-20T00:00:00",
          "2007-01-13T00:00:00",
          "2007-01-06T00:00:00",
          "2006-12-30T00:00:00",
          "2006-12-23T00:00:00",
          "2006-12-16T00:00:00",
          "2006-12-09T00:00:00",
          "2006-12-02T00:00:00",
          "2006-11-25T00:00:00",
          "2006-11-18T00:00:00",
          "2006-11-11T00:00:00",
          "2006-11-04T00:00:00",
          "2006-10-28T00:00:00",
          "2006-10-21T00:00:00",
          "2006-10-14T00:00:00",
          "2006-10-07T00:00:00",
          "2006-09-30T00:00:00",
          "2006-09-23T00:00:00"
         ],
         "y": [
          43,
          40,
          43,
          40,
          48,
          45,
          46,
          44,
          45,
          48,
          47,
          51,
          51,
          61,
          65,
          68,
          72,
          77,
          87,
          86
         ],
         "type": "scatter"
        }
       ],
       "layout": {
        "template": {
         "data": {
          "histogram2dcontour": [
           {
            "type": "histogram2dcontour",
            "colorbar": {
             "outlinewidth": 0,
             "ticks": ""
            },
            "colorscale": [
             [
              0.0,
              "#0d0887"
             ],
             [
              0.1111111111111111,
              "#46039f"
             ],
             [
              0.2222222222222222,
              "#7201a8"
             ],
             [
              0.3333333333333333,
              "#9c179e"
             ],
             [
              0.4444444444444444,
              "#bd3786"
             ],
             [
              0.5555555555555556,
              "#d8576b"
             ],
             [
              0.6666666666666666,
              "#ed7953"
             ],
             [
              0.7777777777777778,
              "#fb9f3a"
             ],
             [
              0.8888888888888888,
              "#fdca26"
             ],
             [
              1.0,
              "#f0f921"
             ]
            ]
           }
          ],
          "choropleth": [
           {
            "type": "choropleth",
            "colorbar": {
             "outlinewidth": 0,
             "ticks": ""
            }
           }
          ],
          "histogram2d": [
           {
            "type": "histogram2d",
            "colorbar": {
             "outlinewidth": 0,
             "ticks": ""
            },
            "colorscale": [
             [
              0.0,
              "#0d0887"
             ],
             [
              0.1111111111111111,
              "#46039f"
             ],
             [
              0.2222222222222222,
              "#7201a8"
             ],
             [
              0.3333333333333333,
              "#9c179e"
             ],
             [
              0.4444444444444444,
              "#bd3786"
             ],
             [
              0.5555555555555556,
              "#d8576b"
             ],
             [
              0.6666666666666666,
              "#ed7953"
             ],
             [
              0.7777777777777778,
              "#fb9f3a"
             ],
             [
              0.8888888888888888,
              "#fdca26"
             ],
             [
              1.0,
              "#f0f921"
             ]
            ]
           }
          ],
          "heatmap": [
           {
            "type": "heatmap",
            "colorbar": {
             "outlinewidth": 0,
             "ticks": ""
            },
            "colorscale": [
             [
              0.0,
              "#0d0887"
             ],
             [
              0.1111111111111111,
              "#46039f"
             ],
             [
              0.2222222222222222,
              "#7201a8"
             ],
             [
              0.3333333333333333,
              "#9c179e"
             ],
             [
              0.4444444444444444,
              "#bd3786"
             ],
             [
              0.5555555555555556,
              "#d8576b"
             ],
             [
              0.6666666666666666,
              "#ed7953"
             ],
             [
              0.7777777777777778,
              "#fb9f3a"
             ],
             [
              0.8888888888888888,
              "#fdca26"
             ],
             [
              1.0,
              "#f0f921"
             ]
            ]
           }
          ],
          "heatmapgl": [
           {
            "type": "heatmapgl",
            "colorbar": {
             "outlinewidth": 0,
             "ticks": ""
            },
            "colorscale": [
             [
              0.0,
              "#0d0887"
             ],
             [
              0.1111111111111111,
              "#46039f"
             ],
             [
              0.2222222222222222,
              "#7201a8"
             ],
             [
              0.3333333333333333,
              "#9c179e"
             ],
             [
              0.4444444444444444,
              "#bd3786"
             ],
             [
              0.5555555555555556,
              "#d8576b"
             ],
             [
              0.6666666666666666,
              "#ed7953"
             ],
             [
              0.7777777777777778,
              "#fb9f3a"
             ],
             [
              0.8888888888888888,
              "#fdca26"
             ],
             [
              1.0,
              "#f0f921"
             ]
            ]
           }
          ],
          "contourcarpet": [
           {
            "type": "contourcarpet",
            "colorbar": {
             "outlinewidth": 0,
             "ticks": ""
            }
           }
          ],
          "contour": [
           {
            "type": "contour",
            "colorbar": {
             "outlinewidth": 0,
             "ticks": ""
            },
            "colorscale": [
             [
              0.0,
              "#0d0887"
             ],
             [
              0.1111111111111111,
              "#46039f"
             ],
             [
              0.2222222222222222,
              "#7201a8"
             ],
             [
              0.3333333333333333,
              "#9c179e"
             ],
             [
              0.4444444444444444,
              "#bd3786"
             ],
             [
              0.5555555555555556,
              "#d8576b"
             ],
             [
              0.6666666666666666,
              "#ed7953"
             ],
             [
              0.7777777777777778,
              "#fb9f3a"
             ],
             [
              0.8888888888888888,
              "#fdca26"
             ],
             [
              1.0,
              "#f0f921"
             ]
            ]
           }
          ],
          "surface": [
           {
            "type": "surface",
            "colorbar": {
             "outlinewidth": 0,
             "ticks": ""
            },
            "colorscale": [
             [
              0.0,
              "#0d0887"
             ],
             [
              0.1111111111111111,
              "#46039f"
             ],
             [
              0.2222222222222222,
              "#7201a8"
             ],
             [
              0.3333333333333333,
              "#9c179e"
             ],
             [
              0.4444444444444444,
              "#bd3786"
             ],
             [
              0.5555555555555556,
              "#d8576b"
             ],
             [
              0.6666666666666666,
              "#ed7953"
             ],
             [
              0.7777777777777778,
              "#fb9f3a"
             ],
             [
              0.8888888888888888,
              "#fdca26"
             ],
             [
              1.0,
              "#f0f921"
             ]
            ]
           }
          ],
          "mesh3d": [
           {
            "type": "mesh3d",
            "colorbar": {
             "outlinewidth": 0,
             "ticks": ""
            }
           }
          ],
          "scatter": [
           {
            "marker": {
             "line": {
              "color": "#283442"
             }
            },
            "type": "scatter"
           }
          ],
          "parcoords": [
           {
            "type": "parcoords",
            "line": {
             "colorbar": {
              "outlinewidth": 0,
              "ticks": ""
             }
            }
           }
          ],
          "scatterpolargl": [
           {
            "type": "scatterpolargl",
            "marker": {
             "colorbar": {
              "outlinewidth": 0,
              "ticks": ""
             }
            }
           }
          ],
          "bar": [
           {
            "error_x": {
             "color": "#f2f5fa"
            },
            "error_y": {
             "color": "#f2f5fa"
            },
            "marker": {
             "line": {
              "color": "rgb(17,17,17)",
              "width": 0.5
             },
             "pattern": {
              "fillmode": "overlay",
              "size": 10,
              "solidity": 0.2
             }
            },
            "type": "bar"
           }
          ],
          "scattergeo": [
           {
            "type": "scattergeo",
            "marker": {
             "colorbar": {
              "outlinewidth": 0,
              "ticks": ""
             }
            }
           }
          ],
          "scatterpolar": [
           {
            "type": "scatterpolar",
            "marker": {
             "colorbar": {
              "outlinewidth": 0,
              "ticks": ""
             }
            }
           }
          ],
          "histogram": [
           {
            "marker": {
             "pattern": {
              "fillmode": "overlay",
              "size": 10,
              "solidity": 0.2
             }
            },
            "type": "histogram"
           }
          ],
          "scattergl": [
           {
            "marker": {
             "line": {
              "color": "#283442"
             }
            },
            "type": "scattergl"
           }
          ],
          "scatter3d": [
           {
            "type": "scatter3d",
            "line": {
             "colorbar": {
              "outlinewidth": 0,
              "ticks": ""
             }
            },
            "marker": {
             "colorbar": {
              "outlinewidth": 0,
              "ticks": ""
             }
            }
           }
          ],
          "scattermapbox": [
           {
            "type": "scattermapbox",
            "marker": {
             "colorbar": {
              "outlinewidth": 0,
              "ticks": ""
             }
            }
           }
          ],
          "scatterternary": [
           {
            "type": "scatterternary",
            "marker": {
             "colorbar": {
              "outlinewidth": 0,
              "ticks": ""
             }
            }
           }
          ],
          "scattercarpet": [
           {
            "type": "scattercarpet",
            "marker": {
             "colorbar": {
              "outlinewidth": 0,
              "ticks": ""
             }
            }
           }
          ],
          "carpet": [
           {
            "aaxis": {
             "endlinecolor": "#A2B1C6",
             "gridcolor": "#506784",
             "linecolor": "#506784",
             "minorgridcolor": "#506784",
             "startlinecolor": "#A2B1C6"
            },
            "baxis": {
             "endlinecolor": "#A2B1C6",
             "gridcolor": "#506784",
             "linecolor": "#506784",
             "minorgridcolor": "#506784",
             "startlinecolor": "#A2B1C6"
            },
            "type": "carpet"
           }
          ],
          "table": [
           {
            "cells": {
             "fill": {
              "color": "#506784"
             },
             "line": {
              "color": "rgb(17,17,17)"
             }
            },
            "header": {
             "fill": {
              "color": "#2a3f5f"
             },
             "line": {
              "color": "rgb(17,17,17)"
             }
            },
            "type": "table"
           }
          ],
          "barpolar": [
           {
            "marker": {
             "line": {
              "color": "rgb(17,17,17)",
              "width": 0.5
             },
             "pattern": {
              "fillmode": "overlay",
              "size": 10,
              "solidity": 0.2
             }
            },
            "type": "barpolar"
           }
          ],
          "pie": [
           {
            "automargin": true,
            "type": "pie"
           }
          ]
         },
         "layout": {
          "autotypenumbers": "strict",
          "colorway": [
           "#636efa",
           "#EF553B",
           "#00cc96",
           "#ab63fa",
           "#FFA15A",
           "#19d3f3",
           "#FF6692",
           "#B6E880",
           "#FF97FF",
           "#FECB52"
          ],
          "font": {
           "color": "#f2f5fa"
          },
          "hovermode": "closest",
          "hoverlabel": {
           "align": "left"
          },
          "paper_bgcolor": "rgb(17,17,17)",
          "plot_bgcolor": "rgb(17,17,17)",
          "polar": {
           "bgcolor": "rgb(17,17,17)",
           "angularaxis": {
            "gridcolor": "#506784",
            "linecolor": "#506784",
            "ticks": ""
           },
           "radialaxis": {
            "gridcolor": "#506784",
            "linecolor": "#506784",
            "ticks": ""
           }
          },
          "ternary": {
           "bgcolor": "rgb(17,17,17)",
           "aaxis": {
            "gridcolor": "#506784",
            "linecolor": "#506784",
            "ticks": ""
           },
           "baxis": {
            "gridcolor": "#506784",
            "linecolor": "#506784",
            "ticks": ""
           },
           "caxis": {
            "gridcolor": "#506784",
            "linecolor": "#506784",
            "ticks": ""
           }
          },
          "coloraxis": {
           "colorbar": {
            "outlinewidth": 0,
            "ticks": ""
           }
          },
          "colorscale": {
           "sequential": [
            [
             0.0,
             "#0d0887"
            ],
            [
             0.1111111111111111,
             "#46039f"
            ],
            [
             0.2222222222222222,
             "#7201a8"
            ],
            [
             0.3333333333333333,
             "#9c179e"
            ],
            [
             0.4444444444444444,
             "#bd3786"
            ],
            [
             0.5555555555555556,
             "#d8576b"
            ],
            [
             0.6666666666666666,
             "#ed7953"
            ],
            [
             0.7777777777777778,
             "#fb9f3a"
            ],
            [
             0.8888888888888888,
             "#fdca26"
            ],
            [
             1.0,
             "#f0f921"
            ]
           ],
           "sequentialminus": [
            [
             0.0,
             "#0d0887"
            ],
            [
             0.1111111111111111,
             "#46039f"
            ],
            [
             0.2222222222222222,
             "#7201a8"
            ],
            [
             0.3333333333333333,
             "#9c179e"
            ],
            [
             0.4444444444444444,
             "#bd3786"
            ],
            [
             0.5555555555555556,
             "#d8576b"
            ],
            [
             0.6666666666666666,
             "#ed7953"
            ],
            [
             0.7777777777777778,
             "#fb9f3a"
            ],
            [
             0.8888888888888888,
             "#fdca26"
            ],
            [
             1.0,
             "#f0f921"
            ]
           ],
           "diverging": [
            [
             0,
             "#8e0152"
            ],
            [
             0.1,
             "#c51b7d"
            ],
            [
             0.2,
             "#de77ae"
            ],
            [
             0.3,
             "#f1b6da"
            ],
            [
             0.4,
             "#fde0ef"
            ],
            [
             0.5,
             "#f7f7f7"
            ],
            [
             0.6,
             "#e6f5d0"
            ],
            [
             0.7,
             "#b8e186"
            ],
            [
             0.8,
             "#7fbc41"
            ],
            [
             0.9,
             "#4d9221"
            ],
            [
             1,
             "#276419"
            ]
           ]
          },
          "xaxis": {
           "gridcolor": "#283442",
           "linecolor": "#506784",
           "ticks": "",
           "title": {
            "standoff": 15
           },
           "zerolinecolor": "#283442",
           "automargin": true,
           "zerolinewidth": 2
          },
          "yaxis": {
           "gridcolor": "#283442",
           "linecolor": "#506784",
           "ticks": "",
           "title": {
            "standoff": 15
           },
           "zerolinecolor": "#283442",
           "automargin": true,
           "zerolinewidth": 2
          },
          "scene": {
           "xaxis": {
            "backgroundcolor": "rgb(17,17,17)",
            "gridcolor": "#506784",
            "linecolor": "#506784",
            "showbackground": true,
            "ticks": "",
            "zerolinecolor": "#C8D4E3",
            "gridwidth": 2
           },
           "yaxis": {
            "backgroundcolor": "rgb(17,17,17)",
            "gridcolor": "#506784",
            "linecolor": "#506784",
            "showbackground": true,
            "ticks": "",
            "zerolinecolor": "#C8D4E3",
            "gridwidth": 2
           },
           "zaxis": {
            "backgroundcolor": "rgb(17,17,17)",
            "gridcolor": "#506784",
            "linecolor": "#506784",
            "showbackground": true,
            "ticks": "",
            "zerolinecolor": "#C8D4E3",
            "gridwidth": 2
           }
          },
          "shapedefaults": {
           "line": {
            "color": "#f2f5fa"
           }
          },
          "annotationdefaults": {
           "arrowcolor": "#f2f5fa",
           "arrowhead": 0,
           "arrowwidth": 1
          },
          "geo": {
           "bgcolor": "rgb(17,17,17)",
           "landcolor": "rgb(17,17,17)",
           "subunitcolor": "#506784",
           "showland": true,
           "showlakes": true,
           "lakecolor": "rgb(17,17,17)"
          },
          "title": {
           "x": 0.05
          },
          "updatemenudefaults": {
           "bgcolor": "#506784",
           "borderwidth": 0
          },
          "sliderdefaults": {
           "bgcolor": "#C8D4E3",
           "borderwidth": 1,
           "bordercolor": "rgb(17,17,17)",
           "tickwidth": 0
          },
          "mapbox": {
           "style": "dark"
          }
         }
        },
        "yaxis": {
         "range": [
          100,
          0
         ],
         "title": {
          "text": "Classement"
         }
        },
        "legend": {
         "font": {
          "size": 7
         }
        },
        "height": 800,
        "xaxis": {
         "title": {
          "text": "Date"
         }
        }
       },
       "config": {
        "plotlyServerURL": "https://plot.ly"
       }
      },
      "text/html": "<div>                            <div id=\"6f2473ce-3bd2-45ef-8100-dcaf5bcd9204\" class=\"plotly-graph-div\" style=\"height:800px; width:100%;\"></div>            <script type=\"text/javascript\">                require([\"plotly\"], function(Plotly) {                    window.PLOTLYENV=window.PLOTLYENV || {};                                    if (document.getElementById(\"6f2473ce-3bd2-45ef-8100-dcaf5bcd9204\")) {                    Plotly.newPlot(                        \"6f2473ce-3bd2-45ef-8100-dcaf5bcd9204\",                        [{\"mode\":\"lines+markers\",\"name\":\"Wildest Dreams (Taylor's Version)\",\"x\":[\"2021-10-02T00:00:00\"],\"y\":[37],\"type\":\"scatter\"},{\"mode\":\"lines+markers\",\"name\":\"Willow\",\"x\":[\"2021-05-08T00:00:00\",\"2021-05-01T00:00:00\",\"2021-04-24T00:00:00\",\"2021-04-17T00:00:00\",\"2021-04-10T00:00:00\",\"2021-04-03T00:00:00\",\"2021-03-27T00:00:00\",\"2021-03-20T00:00:00\",\"2021-03-13T00:00:00\",\"2021-03-06T00:00:00\",\"2021-02-27T00:00:00\",\"2021-02-20T00:00:00\",\"2021-02-13T00:00:00\",\"2021-02-06T00:00:00\",\"2021-01-30T00:00:00\",\"2021-01-23T00:00:00\",\"2021-01-16T00:00:00\",\"2021-01-09T00:00:00\",\"2021-01-02T00:00:00\",\"2020-12-26T00:00:00\"],\"y\":[61,60,62,60,59,50,39,42,32,29,25,29,29,28,28,29,22,23,38,1],\"type\":\"scatter\"},{\"mode\":\"lines+markers\",\"name\":\"Mr. Perfectly Fine (Taylor's Version) (From The Vault)\",\"x\":[\"2021-05-01T00:00:00\",\"2021-04-24T00:00:00\",\"2021-04-17T00:00:00\"],\"y\":[90,30,90],\"type\":\"scatter\"},{\"mode\":\"lines+markers\",\"name\":\"Love Story (Taylor's Version)\",\"x\":[\"2021-04-24T00:00:00\",\"2021-02-27T00:00:00\"],\"y\":[52,11],\"type\":\"scatter\"},{\"mode\":\"lines+markers\",\"name\":\"Forever & Always (Taylor's Version)\",\"x\":[\"2021-04-24T00:00:00\"],\"y\":[65],\"type\":\"scatter\"},{\"mode\":\"lines+markers\",\"name\":\"Fearless (Taylor's Version)\",\"x\":[\"2021-04-24T00:00:00\"],\"y\":[71],\"type\":\"scatter\"},{\"mode\":\"lines+markers\",\"name\":\"You Belong With Me (Taylor's Version)\",\"x\":[\"2021-04-24T00:00:00\"],\"y\":[75],\"type\":\"scatter\"},{\"mode\":\"lines+markers\",\"name\":\"Fifteen (Taylor's Version)\",\"x\":[\"2021-04-24T00:00:00\"],\"y\":[88],\"type\":\"scatter\"},{\"mode\":\"lines+markers\",\"name\":\"The Way I Loved You (Taylor's Version)\",\"x\":[\"2021-04-24T00:00:00\"],\"y\":[94],\"type\":\"scatter\"},{\"mode\":\"lines+markers\",\"name\":\"Champagne Problems\",\"x\":[\"2021-01-02T00:00:00\",\"2020-12-26T00:00:00\"],\"y\":[77,21],\"type\":\"scatter\"},{\"mode\":\"lines+markers\",\"name\":\"'Tis The Damn Season\",\"x\":[\"2021-01-02T00:00:00\",\"2020-12-26T00:00:00\"],\"y\":[91,39],\"type\":\"scatter\"},{\"mode\":\"lines+markers\",\"name\":\"Gold Rush\",\"x\":[\"2020-12-26T00:00:00\"],\"y\":[40],\"type\":\"scatter\"},{\"mode\":\"lines+markers\",\"name\":\"Tolerate It\",\"x\":[\"2020-12-26T00:00:00\"],\"y\":[45],\"type\":\"scatter\"},{\"mode\":\"lines+markers\",\"name\":\"Happiness\",\"x\":[\"2020-12-26T00:00:00\"],\"y\":[52],\"type\":\"scatter\"},{\"mode\":\"lines+markers\",\"name\":\"Ivy\",\"x\":[\"2020-12-26T00:00:00\"],\"y\":[61],\"type\":\"scatter\"},{\"mode\":\"lines+markers\",\"name\":\"Dorothea\",\"x\":[\"2020-12-26T00:00:00\"],\"y\":[67],\"type\":\"scatter\"},{\"mode\":\"lines+markers\",\"name\":\"Long Story Short\",\"x\":[\"2020-12-26T00:00:00\"],\"y\":[68],\"type\":\"scatter\"},{\"mode\":\"lines+markers\",\"name\":\"Cowboy Like Me\",\"x\":[\"2020-12-26T00:00:00\"],\"y\":[71],\"type\":\"scatter\"},{\"mode\":\"lines+markers\",\"name\":\"Marjorie\",\"x\":[\"2020-12-26T00:00:00\"],\"y\":[75],\"type\":\"scatter\"},{\"mode\":\"lines+markers\",\"name\":\"Closure\",\"x\":[\"2020-12-26T00:00:00\"],\"y\":[82],\"type\":\"scatter\"},{\"mode\":\"lines+markers\",\"name\":\"Cardigan\",\"x\":[\"2020-11-07T00:00:00\",\"2020-10-31T00:00:00\",\"2020-10-24T00:00:00\",\"2020-10-17T00:00:00\",\"2020-10-10T00:00:00\",\"2020-10-03T00:00:00\",\"2020-09-26T00:00:00\",\"2020-09-19T00:00:00\",\"2020-09-12T00:00:00\",\"2020-09-05T00:00:00\",\"2020-08-29T00:00:00\",\"2020-08-22T00:00:00\",\"2020-08-15T00:00:00\",\"2020-08-08T00:00:00\"],\"y\":[96,88,85,77,53,49,52,52,45,36,33,24,8,1],\"type\":\"scatter\"},{\"mode\":\"lines+markers\",\"name\":\"The 1\",\"x\":[\"2020-09-12T00:00:00\",\"2020-09-05T00:00:00\",\"2020-08-29T00:00:00\",\"2020-08-22T00:00:00\",\"2020-08-15T00:00:00\",\"2020-08-08T00:00:00\"],\"y\":[92,85,67,50,23,4],\"type\":\"scatter\"},{\"mode\":\"lines+markers\",\"name\":\"The Last Great American Dynasty\",\"x\":[\"2020-08-15T00:00:00\",\"2020-08-08T00:00:00\"],\"y\":[66,13],\"type\":\"scatter\"},{\"mode\":\"lines+markers\",\"name\":\"My Tears Ricochet\",\"x\":[\"2020-08-15T00:00:00\",\"2020-08-08T00:00:00\"],\"y\":[69,16],\"type\":\"scatter\"},{\"mode\":\"lines+markers\",\"name\":\"August\",\"x\":[\"2020-08-15T00:00:00\",\"2020-08-08T00:00:00\"],\"y\":[73,23],\"type\":\"scatter\"},{\"mode\":\"lines+markers\",\"name\":\"Invisible String\",\"x\":[\"2020-08-15T00:00:00\",\"2020-08-08T00:00:00\"],\"y\":[85,37],\"type\":\"scatter\"},{\"mode\":\"lines+markers\",\"name\":\"Betty\",\"x\":[\"2020-08-15T00:00:00\",\"2020-08-08T00:00:00\"],\"y\":[91,42],\"type\":\"scatter\"},{\"mode\":\"lines+markers\",\"name\":\"Mirrorball\",\"x\":[\"2020-08-15T00:00:00\",\"2020-08-08T00:00:00\"],\"y\":[93,26],\"type\":\"scatter\"},{\"mode\":\"lines+markers\",\"name\":\"Seven\",\"x\":[\"2020-08-15T00:00:00\",\"2020-08-08T00:00:00\"],\"y\":[98,35],\"type\":\"scatter\"},{\"mode\":\"lines+markers\",\"name\":\"This Is Me Trying\",\"x\":[\"2020-08-08T00:00:00\"],\"y\":[39],\"type\":\"scatter\"},{\"mode\":\"lines+markers\",\"name\":\"Illicit Affairs\",\"x\":[\"2020-08-08T00:00:00\"],\"y\":[44],\"type\":\"scatter\"},{\"mode\":\"lines+markers\",\"name\":\"Mad Woman\",\"x\":[\"2020-08-08T00:00:00\"],\"y\":[47],\"type\":\"scatter\"},{\"mode\":\"lines+markers\",\"name\":\"Epiphany\",\"x\":[\"2020-08-08T00:00:00\"],\"y\":[57],\"type\":\"scatter\"},{\"mode\":\"lines+markers\",\"name\":\"Peace\",\"x\":[\"2020-08-08T00:00:00\"],\"y\":[58],\"type\":\"scatter\"},{\"mode\":\"lines+markers\",\"name\":\"Hoax\",\"x\":[\"2020-08-08T00:00:00\"],\"y\":[71],\"type\":\"scatter\"},{\"mode\":\"lines+markers\",\"name\":\"The Man\",\"x\":[\"2020-04-25T00:00:00\",\"2020-04-18T00:00:00\",\"2020-04-11T00:00:00\",\"2020-03-14T00:00:00\",\"2020-03-07T00:00:00\",\"2019-09-21T00:00:00\",\"2019-09-14T00:00:00\",\"2019-09-07T00:00:00\"],\"y\":[88,88,90,85,92,96,61,23],\"type\":\"scatter\"},{\"mode\":\"lines+markers\",\"name\":\"Only The Young\",\"x\":[\"2020-02-15T00:00:00\"],\"y\":[50],\"type\":\"scatter\"},{\"mode\":\"lines+markers\",\"name\":\"Lover\",\"x\":[\"2020-01-25T00:00:00\",\"2020-01-18T00:00:00\",\"2020-01-11T00:00:00\",\"2020-01-04T00:00:00\",\"2019-12-28T00:00:00\",\"2019-12-21T00:00:00\",\"2019-12-14T00:00:00\",\"2019-12-07T00:00:00\",\"2019-11-30T00:00:00\",\"2019-11-23T00:00:00\",\"2019-11-16T00:00:00\",\"2019-11-09T00:00:00\",\"2019-11-02T00:00:00\",\"2019-10-26T00:00:00\",\"2019-10-19T00:00:00\",\"2019-10-12T00:00:00\",\"2019-10-05T00:00:00\",\"2019-09-28T00:00:00\",\"2019-09-21T00:00:00\",\"2019-09-14T00:00:00\",\"2019-09-07T00:00:00\",\"2019-08-31T00:00:00\"],\"y\":[50,36,34,57,48,40,32,19,15,26,43,48,38,37,34,45,44,49,49,23,10,19],\"type\":\"scatter\"},{\"mode\":\"lines+markers\",\"name\":\"Christmas Tree Farm\",\"x\":[\"2019-12-21T00:00:00\"],\"y\":[59],\"type\":\"scatter\"},{\"mode\":\"lines+markers\",\"name\":\"You Need To Calm Down\",\"x\":[\"2019-11-16T00:00:00\",\"2019-11-09T00:00:00\",\"2019-11-02T00:00:00\",\"2019-10-26T00:00:00\",\"2019-10-19T00:00:00\",\"2019-10-12T00:00:00\",\"2019-10-05T00:00:00\",\"2019-09-28T00:00:00\",\"2019-09-21T00:00:00\",\"2019-09-14T00:00:00\",\"2019-09-07T00:00:00\",\"2019-08-31T00:00:00\",\"2019-08-24T00:00:00\",\"2019-08-17T00:00:00\",\"2019-08-10T00:00:00\",\"2019-08-03T00:00:00\",\"2019-07-27T00:00:00\",\"2019-07-20T00:00:00\",\"2019-07-13T00:00:00\",\"2019-07-06T00:00:00\",\"2019-06-29T00:00:00\"],\"y\":[46,52,37,33,28,27,23,21,24,12,4,14,18,18,16,15,15,16,13,13,2],\"type\":\"scatter\"},{\"mode\":\"lines+markers\",\"name\":\"Cruel Summer\",\"x\":[\"2019-09-14T00:00:00\",\"2019-09-07T00:00:00\"],\"y\":[71,29],\"type\":\"scatter\"},{\"mode\":\"lines+markers\",\"name\":\"I Forgot That You Existed\",\"x\":[\"2019-09-14T00:00:00\",\"2019-09-07T00:00:00\"],\"y\":[74,28],\"type\":\"scatter\"},{\"mode\":\"lines+markers\",\"name\":\"The Archer\",\"x\":[\"2019-09-07T00:00:00\",\"2019-08-10T00:00:00\",\"2019-08-03T00:00:00\"],\"y\":[38,79,69],\"type\":\"scatter\"},{\"mode\":\"lines+markers\",\"name\":\"Paper Rings\",\"x\":[\"2019-09-07T00:00:00\"],\"y\":[45],\"type\":\"scatter\"},{\"mode\":\"lines+markers\",\"name\":\"Miss Americana & The Heartbreak Prince\",\"x\":[\"2019-09-07T00:00:00\"],\"y\":[49],\"type\":\"scatter\"},{\"mode\":\"lines+markers\",\"name\":\"I Think He Knows\",\"x\":[\"2019-09-07T00:00:00\"],\"y\":[51],\"type\":\"scatter\"},{\"mode\":\"lines+markers\",\"name\":\"Cornelia Street\",\"x\":[\"2019-09-07T00:00:00\"],\"y\":[57],\"type\":\"scatter\"},{\"mode\":\"lines+markers\",\"name\":\"London Boy\",\"x\":[\"2019-09-07T00:00:00\"],\"y\":[62],\"type\":\"scatter\"},{\"mode\":\"lines+markers\",\"name\":\"Death By A Thousand Cuts\",\"x\":[\"2019-09-07T00:00:00\"],\"y\":[67],\"type\":\"scatter\"},{\"mode\":\"lines+markers\",\"name\":\"Afterglow\",\"x\":[\"2019-09-07T00:00:00\"],\"y\":[75],\"type\":\"scatter\"},{\"mode\":\"lines+markers\",\"name\":\"False God\",\"x\":[\"2019-09-07T00:00:00\"],\"y\":[77],\"type\":\"scatter\"},{\"mode\":\"lines+markers\",\"name\":\"Daylight\",\"x\":[\"2019-09-07T00:00:00\"],\"y\":[89],\"type\":\"scatter\"},{\"mode\":\"lines+markers\",\"name\":\"It's Nice To Have A Friend\",\"x\":[\"2019-09-07T00:00:00\"],\"y\":[92],\"type\":\"scatter\"},{\"mode\":\"lines+markers\",\"name\":\"Delicate\",\"x\":[\"2018-11-17T00:00:00\",\"2018-11-10T00:00:00\",\"2018-11-03T00:00:00\",\"2018-10-27T00:00:00\",\"2018-10-20T00:00:00\",\"2018-10-13T00:00:00\",\"2018-10-06T00:00:00\",\"2018-09-29T00:00:00\",\"2018-09-22T00:00:00\",\"2018-09-15T00:00:00\",\"2018-09-08T00:00:00\",\"2018-09-01T00:00:00\",\"2018-08-25T00:00:00\",\"2018-08-18T00:00:00\",\"2018-08-11T00:00:00\",\"2018-08-04T00:00:00\",\"2018-07-28T00:00:00\",\"2018-07-21T00:00:00\",\"2018-07-14T00:00:00\",\"2018-07-07T00:00:00\",\"2018-06-30T00:00:00\",\"2018-06-23T00:00:00\",\"2018-06-16T00:00:00\",\"2018-06-09T00:00:00\",\"2018-06-02T00:00:00\",\"2018-05-26T00:00:00\",\"2018-05-19T00:00:00\",\"2018-05-12T00:00:00\",\"2018-05-05T00:00:00\",\"2018-04-28T00:00:00\",\"2018-04-21T00:00:00\",\"2018-04-14T00:00:00\",\"2018-04-07T00:00:00\",\"2018-03-31T00:00:00\",\"2018-03-24T00:00:00\"],\"y\":[49,43,38,34,33,37,29,27,25,29,25,19,16,17,13,12,12,15,23,20,27,25,37,28,34,36,46,56,52,51,54,46,52,66,84],\"type\":\"scatter\"},{\"mode\":\"lines+markers\",\"name\":\"...Ready For It?\",\"x\":[\"2018-01-27T00:00:00\",\"2018-01-20T00:00:00\",\"2018-01-13T00:00:00\",\"2018-01-06T00:00:00\",\"2017-12-30T00:00:00\",\"2017-12-23T00:00:00\",\"2017-12-16T00:00:00\",\"2017-12-09T00:00:00\",\"2017-12-02T00:00:00\",\"2017-11-25T00:00:00\",\"2017-11-18T00:00:00\",\"2017-11-11T00:00:00\",\"2017-11-04T00:00:00\",\"2017-10-28T00:00:00\",\"2017-10-21T00:00:00\",\"2017-10-14T00:00:00\",\"2017-10-07T00:00:00\",\"2017-09-30T00:00:00\",\"2017-09-23T00:00:00\"],\"y\":[96,80,58,61,37,43,31,24,18,30,19,46,52,53,47,39,34,21,4],\"type\":\"scatter\"},{\"mode\":\"lines+markers\",\"name\":\"Look What You Made Me Do\",\"x\":[\"2018-01-13T00:00:00\",\"2018-01-06T00:00:00\",\"2017-12-30T00:00:00\",\"2017-12-23T00:00:00\",\"2017-12-16T00:00:00\",\"2017-12-09T00:00:00\",\"2017-12-02T00:00:00\",\"2017-11-25T00:00:00\",\"2017-11-18T00:00:00\",\"2017-11-11T00:00:00\",\"2017-11-04T00:00:00\",\"2017-10-28T00:00:00\",\"2017-10-21T00:00:00\",\"2017-10-14T00:00:00\",\"2017-10-07T00:00:00\",\"2017-09-30T00:00:00\",\"2017-09-23T00:00:00\",\"2017-09-16T00:00:00\",\"2017-09-09T00:00:00\"],\"y\":[55,66,70,72,60,44,31,37,34,25,10,4,5,3,3,1,1,1,77],\"type\":\"scatter\"},{\"mode\":\"lines+markers\",\"name\":\"Call It What You Want\",\"x\":[\"2017-12-02T00:00:00\",\"2017-11-25T00:00:00\"],\"y\":[73,27],\"type\":\"scatter\"},{\"mode\":\"lines+markers\",\"name\":\"Gorgeous\",\"x\":[\"2017-12-02T00:00:00\",\"2017-11-25T00:00:00\",\"2017-11-18T00:00:00\",\"2017-11-11T00:00:00\"],\"y\":[89,85,69,13],\"type\":\"scatter\"},{\"mode\":\"lines+markers\",\"name\":\"New Romantics\",\"x\":[\"2016-05-07T00:00:00\",\"2016-04-30T00:00:00\",\"2016-04-23T00:00:00\",\"2016-04-16T00:00:00\",\"2016-04-09T00:00:00\",\"2016-04-02T00:00:00\",\"2016-03-26T00:00:00\",\"2015-03-21T00:00:00\"],\"y\":[78,46,62,61,62,69,73,71],\"type\":\"scatter\"},{\"mode\":\"lines+markers\",\"name\":\"Wildest Dreams\",\"x\":[\"2016-03-12T00:00:00\",\"2016-03-05T00:00:00\",\"2016-02-27T00:00:00\",\"2016-02-20T00:00:00\",\"2016-02-13T00:00:00\",\"2016-02-06T00:00:00\",\"2016-01-30T00:00:00\",\"2016-01-23T00:00:00\",\"2016-01-16T00:00:00\",\"2016-01-09T00:00:00\",\"2016-01-02T00:00:00\",\"2015-12-26T00:00:00\",\"2015-12-19T00:00:00\",\"2015-12-12T00:00:00\",\"2015-12-05T00:00:00\",\"2015-11-28T00:00:00\",\"2015-11-21T00:00:00\",\"2015-11-14T00:00:00\",\"2015-11-07T00:00:00\",\"2015-10-31T00:00:00\",\"2015-10-24T00:00:00\",\"2015-10-17T00:00:00\",\"2015-10-10T00:00:00\",\"2015-10-03T00:00:00\",\"2015-09-26T00:00:00\",\"2015-09-19T00:00:00\",\"2014-11-15T00:00:00\"],\"y\":[46,46,38,35,34,34,28,21,18,22,23,18,14,13,9,8,8,7,5,6,9,8,10,13,12,15,76],\"type\":\"scatter\"},{\"mode\":\"lines+markers\",\"name\":\"Out Of The Woods\",\"x\":[\"2016-03-12T00:00:00\",\"2016-03-05T00:00:00\",\"2016-02-27T00:00:00\",\"2016-02-20T00:00:00\",\"2016-02-13T00:00:00\",\"2016-02-06T00:00:00\",\"2016-01-30T00:00:00\",\"2016-01-23T00:00:00\",\"2014-11-08T00:00:00\",\"2014-11-01T00:00:00\"],\"y\":[77,53,51,49,44,50,55,46,77,18],\"type\":\"scatter\"},{\"mode\":\"lines+markers\",\"name\":\"Shake It Off\",\"x\":[\"2015-08-15T00:00:00\",\"2015-08-08T00:00:00\",\"2015-08-01T00:00:00\",\"2015-07-25T00:00:00\",\"2015-07-18T00:00:00\",\"2015-07-11T00:00:00\",\"2015-07-04T00:00:00\",\"2015-06-27T00:00:00\",\"2015-06-20T00:00:00\",\"2015-06-13T00:00:00\",\"2015-06-06T00:00:00\",\"2015-05-30T00:00:00\",\"2015-05-23T00:00:00\",\"2015-05-16T00:00:00\",\"2015-05-09T00:00:00\",\"2015-05-02T00:00:00\",\"2015-04-25T00:00:00\",\"2015-04-18T00:00:00\",\"2015-04-11T00:00:00\",\"2015-04-04T00:00:00\",\"2015-03-28T00:00:00\",\"2015-03-21T00:00:00\",\"2015-03-14T00:00:00\",\"2015-03-07T00:00:00\",\"2015-02-28T00:00:00\",\"2015-02-21T00:00:00\",\"2015-02-14T00:00:00\",\"2015-02-07T00:00:00\",\"2015-01-31T00:00:00\",\"2015-01-24T00:00:00\",\"2015-01-17T00:00:00\",\"2015-01-10T00:00:00\",\"2015-01-03T00:00:00\",\"2014-12-27T00:00:00\",\"2014-12-20T00:00:00\",\"2014-12-13T00:00:00\",\"2014-12-06T00:00:00\",\"2014-11-29T00:00:00\",\"2014-11-22T00:00:00\",\"2014-11-15T00:00:00\",\"2014-11-08T00:00:00\",\"2014-11-01T00:00:00\",\"2014-10-25T00:00:00\",\"2014-10-18T00:00:00\",\"2014-10-11T00:00:00\",\"2014-10-04T00:00:00\",\"2014-09-27T00:00:00\",\"2014-09-20T00:00:00\",\"2014-09-13T00:00:00\",\"2014-09-06T00:00:00\"],\"y\":[50,47,47,50,46,39,40,39,38,39,34,34,35,34,33,32,27,26,24,24,22,24,21,15,15,10,9,5,5,9,7,9,11,10,6,4,5,3,1,1,2,2,2,2,2,2,2,2,1,1],\"type\":\"scatter\"},{\"mode\":\"lines+markers\",\"name\":\"Style\",\"x\":[\"2015-08-01T00:00:00\",\"2015-07-25T00:00:00\",\"2015-07-18T00:00:00\",\"2015-07-11T00:00:00\",\"2015-07-04T00:00:00\",\"2015-06-27T00:00:00\",\"2015-06-20T00:00:00\",\"2015-06-13T00:00:00\",\"2015-06-06T00:00:00\",\"2015-05-30T00:00:00\",\"2015-05-23T00:00:00\",\"2015-05-16T00:00:00\",\"2015-05-09T00:00:00\",\"2015-05-02T00:00:00\",\"2015-04-25T00:00:00\",\"2015-04-18T00:00:00\",\"2015-04-11T00:00:00\",\"2015-04-04T00:00:00\",\"2015-03-28T00:00:00\",\"2015-03-21T00:00:00\",\"2015-03-14T00:00:00\",\"2015-03-07T00:00:00\",\"2015-02-28T00:00:00\",\"2015-02-21T00:00:00\",\"2015-02-14T00:00:00\",\"2015-02-07T00:00:00\",\"2015-01-31T00:00:00\",\"2015-01-24T00:00:00\",\"2015-01-17T00:00:00\",\"2015-01-10T00:00:00\",\"2014-12-27T00:00:00\",\"2014-11-15T00:00:00\"],\"y\":[48,48,48,41,38,34,31,27,23,20,17,15,12,12,10,7,7,7,7,6,7,8,10,18,29,37,52,72,71,84,76,60],\"type\":\"scatter\"},{\"mode\":\"lines+markers\",\"name\":\"Blank Space\",\"x\":[\"2015-07-18T00:00:00\",\"2015-07-11T00:00:00\",\"2015-07-04T00:00:00\",\"2015-06-27T00:00:00\",\"2015-06-20T00:00:00\",\"2015-06-13T00:00:00\",\"2015-06-06T00:00:00\",\"2015-05-30T00:00:00\",\"2015-05-23T00:00:00\",\"2015-05-16T00:00:00\",\"2015-05-09T00:00:00\",\"2015-05-02T00:00:00\",\"2015-04-25T00:00:00\",\"2015-04-18T00:00:00\",\"2015-04-11T00:00:00\",\"2015-04-04T00:00:00\",\"2015-03-28T00:00:00\",\"2015-03-21T00:00:00\",\"2015-03-14T00:00:00\",\"2015-03-07T00:00:00\",\"2015-02-28T00:00:00\",\"2015-02-21T00:00:00\",\"2015-02-14T00:00:00\",\"2015-02-07T00:00:00\",\"2015-01-31T00:00:00\",\"2015-01-24T00:00:00\",\"2015-01-17T00:00:00\",\"2015-01-10T00:00:00\",\"2015-01-03T00:00:00\",\"2014-12-27T00:00:00\",\"2014-12-20T00:00:00\",\"2014-12-13T00:00:00\",\"2014-12-06T00:00:00\",\"2014-11-29T00:00:00\",\"2014-11-22T00:00:00\",\"2014-11-15T00:00:00\"],\"y\":[50,45,42,42,37,35,32,29,26,25,24,23,19,17,13,11,12,10,8,7,7,5,4,4,3,2,2,1,1,1,1,1,1,1,13,18],\"type\":\"scatter\"},{\"mode\":\"lines+markers\",\"name\":\"You Are In Love\",\"x\":[\"2015-03-14T00:00:00\"],\"y\":[83],\"type\":\"scatter\"},{\"mode\":\"lines+markers\",\"name\":\"Wonderland\",\"x\":[\"2015-03-07T00:00:00\"],\"y\":[51],\"type\":\"scatter\"},{\"mode\":\"lines+markers\",\"name\":\"Welcome To New York\",\"x\":[\"2014-11-15T00:00:00\",\"2014-11-08T00:00:00\"],\"y\":[69,48],\"type\":\"scatter\"},{\"mode\":\"lines+markers\",\"name\":\"Red\",\"x\":[\"2013-12-14T00:00:00\",\"2013-12-07T00:00:00\",\"2013-11-30T00:00:00\",\"2013-11-23T00:00:00\",\"2013-11-16T00:00:00\",\"2013-11-09T00:00:00\",\"2013-11-02T00:00:00\",\"2013-10-26T00:00:00\",\"2013-10-19T00:00:00\",\"2013-10-12T00:00:00\",\"2013-10-05T00:00:00\",\"2013-09-28T00:00:00\",\"2013-09-21T00:00:00\",\"2013-09-14T00:00:00\",\"2013-09-07T00:00:00\",\"2013-08-31T00:00:00\",\"2013-08-24T00:00:00\",\"2013-01-12T00:00:00\",\"2012-11-17T00:00:00\",\"2012-11-03T00:00:00\",\"2012-10-27T00:00:00\",\"2012-10-20T00:00:00\"],\"y\":[51,53,51,32,76,76,73,73,73,75,76,76,76,82,86,85,100,80,89,77,54,6],\"type\":\"scatter\"},{\"mode\":\"lines+markers\",\"name\":\"Sweeter Than Fiction\",\"x\":[\"2013-11-09T00:00:00\"],\"y\":[34],\"type\":\"scatter\"},{\"mode\":\"lines+markers\",\"name\":\"22\",\"x\":[\"2013-07-27T00:00:00\",\"2013-07-20T00:00:00\",\"2013-07-13T00:00:00\",\"2013-07-06T00:00:00\",\"2013-06-29T00:00:00\",\"2013-06-22T00:00:00\",\"2013-06-15T00:00:00\",\"2013-06-08T00:00:00\",\"2013-06-01T00:00:00\",\"2013-05-25T00:00:00\",\"2013-05-18T00:00:00\",\"2013-05-11T00:00:00\",\"2013-05-04T00:00:00\",\"2013-04-27T00:00:00\",\"2013-04-20T00:00:00\",\"2013-04-13T00:00:00\",\"2013-04-06T00:00:00\",\"2013-03-30T00:00:00\",\"2013-01-12T00:00:00\",\"2012-11-10T00:00:00\"],\"y\":[65,55,49,41,32,26,24,23,26,25,21,20,24,32,34,33,26,64,84,44],\"type\":\"scatter\"},{\"mode\":\"lines+markers\",\"name\":\"I Knew You Were Trouble.\",\"x\":[\"2013-07-06T00:00:00\",\"2013-06-29T00:00:00\",\"2013-06-22T00:00:00\",\"2013-06-15T00:00:00\",\"2013-06-08T00:00:00\",\"2013-06-01T00:00:00\",\"2013-05-25T00:00:00\",\"2013-05-18T00:00:00\",\"2013-05-11T00:00:00\",\"2013-05-04T00:00:00\",\"2013-04-27T00:00:00\",\"2013-04-20T00:00:00\",\"2013-04-13T00:00:00\",\"2013-04-06T00:00:00\",\"2013-03-30T00:00:00\",\"2013-03-23T00:00:00\",\"2013-03-16T00:00:00\",\"2013-03-09T00:00:00\",\"2013-03-02T00:00:00\",\"2013-02-23T00:00:00\",\"2013-02-16T00:00:00\",\"2013-02-09T00:00:00\",\"2013-02-02T00:00:00\",\"2013-01-26T00:00:00\",\"2013-01-19T00:00:00\",\"2013-01-12T00:00:00\",\"2013-01-05T00:00:00\",\"2012-12-29T00:00:00\",\"2012-12-22T00:00:00\",\"2012-12-15T00:00:00\",\"2012-12-08T00:00:00\",\"2012-12-01T00:00:00\",\"2012-11-24T00:00:00\",\"2012-11-17T00:00:00\",\"2012-11-03T00:00:00\",\"2012-10-27T00:00:00\"],\"y\":[49,49,42,43,48,41,36,35,34,25,19,16,12,10,7,6,4,4,5,5,5,4,5,4,3,2,4,10,15,32,47,77,73,59,23,3],\"type\":\"scatter\"},{\"mode\":\"lines+markers\",\"name\":\"Begin Again\",\"x\":[\"2013-03-02T00:00:00\",\"2013-02-23T00:00:00\",\"2013-02-16T00:00:00\",\"2013-02-09T00:00:00\",\"2013-02-02T00:00:00\",\"2013-01-26T00:00:00\",\"2013-01-19T00:00:00\",\"2013-01-12T00:00:00\",\"2013-01-05T00:00:00\",\"2012-12-29T00:00:00\",\"2012-12-22T00:00:00\",\"2012-12-15T00:00:00\",\"2012-12-08T00:00:00\",\"2012-12-01T00:00:00\",\"2012-11-24T00:00:00\",\"2012-11-17T00:00:00\",\"2012-11-03T00:00:00\",\"2012-10-27T00:00:00\",\"2012-10-20T00:00:00\",\"2012-10-13T00:00:00\"],\"y\":[65,71,75,78,73,73,73,63,76,75,78,77,78,73,71,68,78,70,52,7],\"type\":\"scatter\"},{\"mode\":\"lines+markers\",\"name\":\"We Are Never Ever Getting Back Together\",\"x\":[\"2013-02-02T00:00:00\",\"2013-01-26T00:00:00\",\"2013-01-19T00:00:00\",\"2013-01-12T00:00:00\",\"2013-01-05T00:00:00\",\"2012-12-29T00:00:00\",\"2012-12-22T00:00:00\",\"2012-12-15T00:00:00\",\"2012-12-08T00:00:00\",\"2012-12-01T00:00:00\",\"2012-11-24T00:00:00\",\"2012-11-17T00:00:00\",\"2012-11-10T00:00:00\",\"2012-11-03T00:00:00\",\"2012-10-27T00:00:00\",\"2012-10-20T00:00:00\",\"2012-10-13T00:00:00\",\"2012-10-06T00:00:00\",\"2012-09-29T00:00:00\",\"2012-09-22T00:00:00\",\"2012-09-15T00:00:00\",\"2012-09-08T00:00:00\",\"2012-09-01T00:00:00\",\"2012-08-25T00:00:00\"],\"y\":[46,39,25,17,29,27,25,15,11,9,7,5,11,4,5,5,4,4,2,1,2,1,1,72],\"type\":\"scatter\"},{\"mode\":\"lines+markers\",\"name\":\"The Moment I Knew\",\"x\":[\"2013-01-26T00:00:00\"],\"y\":[64],\"type\":\"scatter\"},{\"mode\":\"lines+markers\",\"name\":\"I Almost Do\",\"x\":[\"2012-11-10T00:00:00\"],\"y\":[65],\"type\":\"scatter\"},{\"mode\":\"lines+markers\",\"name\":\"All Too Well\",\"x\":[\"2012-11-10T00:00:00\"],\"y\":[80],\"type\":\"scatter\"},{\"mode\":\"lines+markers\",\"name\":\"Stay Stay Stay\",\"x\":[\"2012-11-10T00:00:00\"],\"y\":[91],\"type\":\"scatter\"},{\"mode\":\"lines+markers\",\"name\":\"State Of Grace\",\"x\":[\"2012-11-03T00:00:00\"],\"y\":[13],\"type\":\"scatter\"},{\"mode\":\"lines+markers\",\"name\":\"Ronan\",\"x\":[\"2012-09-29T00:00:00\",\"2012-09-22T00:00:00\"],\"y\":[36,16],\"type\":\"scatter\"},{\"mode\":\"lines+markers\",\"name\":\"Eyes Open\",\"x\":[\"2012-06-30T00:00:00\",\"2012-06-23T00:00:00\",\"2012-06-16T00:00:00\",\"2012-06-09T00:00:00\",\"2012-06-02T00:00:00\",\"2012-05-26T00:00:00\",\"2012-05-19T00:00:00\",\"2012-05-12T00:00:00\",\"2012-05-05T00:00:00\",\"2012-04-28T00:00:00\",\"2012-04-21T00:00:00\",\"2012-04-14T00:00:00\",\"2012-04-07T00:00:00\"],\"y\":[93,87,75,60,45,36,23,20,21,23,29,26,19],\"type\":\"scatter\"},{\"mode\":\"lines+markers\",\"name\":\"Ours\",\"x\":[\"2012-04-07T00:00:00\",\"2012-03-31T00:00:00\",\"2012-03-24T00:00:00\",\"2012-03-17T00:00:00\",\"2012-03-10T00:00:00\",\"2012-03-03T00:00:00\",\"2012-02-25T00:00:00\",\"2012-02-18T00:00:00\",\"2012-02-11T00:00:00\",\"2012-02-04T00:00:00\",\"2012-01-28T00:00:00\",\"2012-01-21T00:00:00\",\"2012-01-14T00:00:00\",\"2012-01-07T00:00:00\",\"2011-12-31T00:00:00\",\"2011-12-24T00:00:00\",\"2011-12-17T00:00:00\",\"2011-12-10T00:00:00\",\"2011-12-03T00:00:00\",\"2011-11-26T00:00:00\"],\"y\":[42,41,39,48,45,46,47,42,46,44,47,43,43,45,47,65,83,81,56,13],\"type\":\"scatter\"},{\"mode\":\"lines+markers\",\"name\":\"Sparks Fly\",\"x\":[\"2011-12-24T00:00:00\",\"2011-12-17T00:00:00\",\"2011-12-10T00:00:00\",\"2011-12-03T00:00:00\",\"2011-11-26T00:00:00\",\"2011-11-19T00:00:00\",\"2011-11-12T00:00:00\",\"2011-11-05T00:00:00\",\"2011-10-29T00:00:00\",\"2011-10-22T00:00:00\",\"2011-10-15T00:00:00\",\"2011-10-08T00:00:00\",\"2011-10-01T00:00:00\",\"2011-09-24T00:00:00\",\"2011-09-17T00:00:00\",\"2011-09-10T00:00:00\",\"2011-09-03T00:00:00\",\"2011-08-27T00:00:00\",\"2010-11-20T00:00:00\",\"2010-11-13T00:00:00\"],\"y\":[85,65,55,54,49,42,46,49,50,54,60,59,57,64,68,67,70,84,78,17],\"type\":\"scatter\"},{\"mode\":\"lines+markers\",\"name\":\"If This Was A Movie\",\"x\":[\"2011-12-03T00:00:00\",\"2011-11-26T00:00:00\"],\"y\":[53,10],\"type\":\"scatter\"},{\"mode\":\"lines+markers\",\"name\":\"Superman\",\"x\":[\"2011-11-26T00:00:00\"],\"y\":[26],\"type\":\"scatter\"},{\"mode\":\"lines+markers\",\"name\":\"Haunted\",\"x\":[\"2011-11-26T00:00:00\",\"2010-11-13T00:00:00\"],\"y\":[98,63],\"type\":\"scatter\"},{\"mode\":\"lines+markers\",\"name\":\"Mean\",\"x\":[\"2011-08-13T00:00:00\",\"2011-08-06T00:00:00\",\"2011-07-30T00:00:00\",\"2011-07-23T00:00:00\",\"2011-07-16T00:00:00\",\"2011-07-09T00:00:00\",\"2011-07-02T00:00:00\",\"2011-06-25T00:00:00\",\"2011-06-18T00:00:00\",\"2011-06-11T00:00:00\",\"2011-06-04T00:00:00\",\"2011-05-28T00:00:00\",\"2011-05-21T00:00:00\",\"2011-05-14T00:00:00\",\"2011-05-07T00:00:00\",\"2011-04-30T00:00:00\",\"2011-04-23T00:00:00\",\"2011-04-16T00:00:00\",\"2011-04-09T00:00:00\",\"2010-11-06T00:00:00\"],\"y\":[63,61,55,44,39,34,31,37,33,39,34,37,46,54,50,51,48,67,90,11],\"type\":\"scatter\"},{\"mode\":\"lines+markers\",\"name\":\"The Story Of Us\",\"x\":[\"2011-08-06T00:00:00\",\"2011-07-30T00:00:00\",\"2011-07-23T00:00:00\",\"2011-07-16T00:00:00\",\"2011-07-09T00:00:00\",\"2011-07-02T00:00:00\",\"2011-06-25T00:00:00\",\"2011-06-18T00:00:00\",\"2011-06-11T00:00:00\",\"2011-06-04T00:00:00\",\"2011-05-28T00:00:00\",\"2010-11-13T00:00:00\"],\"y\":[97,83,69,72,67,67,66,72,77,88,98,41],\"type\":\"scatter\"},{\"mode\":\"lines+markers\",\"name\":\"Back To December\",\"x\":[\"2011-03-26T00:00:00\",\"2011-03-19T00:00:00\",\"2011-03-12T00:00:00\",\"2011-03-05T00:00:00\",\"2011-02-26T00:00:00\",\"2011-02-19T00:00:00\",\"2011-02-12T00:00:00\",\"2011-02-05T00:00:00\",\"2011-01-29T00:00:00\",\"2011-01-22T00:00:00\",\"2011-01-15T00:00:00\",\"2011-01-08T00:00:00\",\"2011-01-01T00:00:00\",\"2010-12-25T00:00:00\",\"2010-12-18T00:00:00\",\"2010-12-11T00:00:00\",\"2010-12-04T00:00:00\",\"2010-11-27T00:00:00\",\"2010-11-06T00:00:00\",\"2010-10-30T00:00:00\"],\"y\":[37,32,29,24,24,20,18,22,26,25,25,27,26,34,43,47,67,74,30,6],\"type\":\"scatter\"},{\"mode\":\"lines+markers\",\"name\":\"Mine\",\"x\":[\"2011-01-22T00:00:00\",\"2011-01-15T00:00:00\",\"2011-01-08T00:00:00\",\"2011-01-01T00:00:00\",\"2010-12-25T00:00:00\",\"2010-12-18T00:00:00\",\"2010-12-11T00:00:00\",\"2010-12-04T00:00:00\",\"2010-11-27T00:00:00\",\"2010-11-20T00:00:00\",\"2010-11-13T00:00:00\",\"2010-11-06T00:00:00\",\"2010-10-30T00:00:00\",\"2010-10-23T00:00:00\",\"2010-10-16T00:00:00\",\"2010-10-09T00:00:00\",\"2010-10-02T00:00:00\",\"2010-09-25T00:00:00\",\"2010-09-18T00:00:00\",\"2010-09-11T00:00:00\",\"2010-09-04T00:00:00\",\"2010-08-28T00:00:00\",\"2010-08-21T00:00:00\"],\"y\":[50,31,42,52,50,47,37,33,23,16,21,13,14,14,12,11,12,10,7,9,14,8,3],\"type\":\"scatter\"},{\"mode\":\"lines+markers\",\"name\":\"Innocent\",\"x\":[\"2010-11-13T00:00:00\"],\"y\":[27],\"type\":\"scatter\"},{\"mode\":\"lines+markers\",\"name\":\"Dear John\",\"x\":[\"2010-11-13T00:00:00\"],\"y\":[54],\"type\":\"scatter\"},{\"mode\":\"lines+markers\",\"name\":\"Better Than Revenge\",\"x\":[\"2010-11-13T00:00:00\"],\"y\":[56],\"type\":\"scatter\"},{\"mode\":\"lines+markers\",\"name\":\"Last Kiss\",\"x\":[\"2010-11-13T00:00:00\"],\"y\":[71],\"type\":\"scatter\"},{\"mode\":\"lines+markers\",\"name\":\"Enchanted\",\"x\":[\"2010-11-13T00:00:00\"],\"y\":[75],\"type\":\"scatter\"},{\"mode\":\"lines+markers\",\"name\":\"Never Grow Up\",\"x\":[\"2010-11-13T00:00:00\"],\"y\":[84],\"type\":\"scatter\"},{\"mode\":\"lines+markers\",\"name\":\"Long Live\",\"x\":[\"2010-11-13T00:00:00\"],\"y\":[85],\"type\":\"scatter\"},{\"mode\":\"lines+markers\",\"name\":\"Speak Now\",\"x\":[\"2010-11-06T00:00:00\",\"2010-10-30T00:00:00\",\"2010-10-23T00:00:00\"],\"y\":[86,45,8],\"type\":\"scatter\"},{\"mode\":\"lines+markers\",\"name\":\"Today Was A Fairytale\",\"x\":[\"2010-06-05T00:00:00\",\"2010-05-29T00:00:00\",\"2010-05-22T00:00:00\",\"2010-05-15T00:00:00\",\"2010-05-08T00:00:00\",\"2010-05-01T00:00:00\",\"2010-04-24T00:00:00\",\"2010-04-17T00:00:00\",\"2010-04-10T00:00:00\",\"2010-04-03T00:00:00\",\"2010-03-27T00:00:00\",\"2010-03-20T00:00:00\",\"2010-03-13T00:00:00\",\"2010-03-06T00:00:00\",\"2010-02-27T00:00:00\",\"2010-02-20T00:00:00\",\"2010-02-13T00:00:00\",\"2010-02-06T00:00:00\"],\"y\":[97,96,85,81,65,56,41,38,36,35,30,30,31,24,30,39,22,2],\"type\":\"scatter\"},{\"mode\":\"lines+markers\",\"name\":\"Fearless\",\"x\":[\"2010-05-01T00:00:00\",\"2010-04-24T00:00:00\",\"2010-04-17T00:00:00\",\"2010-04-10T00:00:00\",\"2010-04-03T00:00:00\",\"2010-03-27T00:00:00\",\"2010-03-20T00:00:00\",\"2010-03-13T00:00:00\",\"2010-02-27T00:00:00\",\"2010-02-20T00:00:00\",\"2009-05-16T00:00:00\",\"2008-11-22T00:00:00\",\"2008-11-15T00:00:00\",\"2008-11-08T00:00:00\",\"2008-11-01T00:00:00\"],\"y\":[84,78,76,76,77,77,87,94,97,99,95,98,79,38,9],\"type\":\"scatter\"},{\"mode\":\"lines+markers\",\"name\":\"You Belong With Me\",\"x\":[\"2010-04-17T00:00:00\",\"2010-04-10T00:00:00\",\"2010-04-03T00:00:00\",\"2010-03-27T00:00:00\",\"2010-03-20T00:00:00\",\"2010-03-13T00:00:00\",\"2010-03-06T00:00:00\",\"2010-02-27T00:00:00\",\"2010-02-20T00:00:00\",\"2010-02-13T00:00:00\",\"2010-02-06T00:00:00\",\"2010-01-30T00:00:00\",\"2010-01-23T00:00:00\",\"2010-01-16T00:00:00\",\"2010-01-09T00:00:00\",\"2010-01-02T00:00:00\",\"2009-12-26T00:00:00\",\"2009-12-19T00:00:00\",\"2009-12-12T00:00:00\",\"2009-12-05T00:00:00\",\"2009-11-28T00:00:00\",\"2009-11-21T00:00:00\",\"2009-11-14T00:00:00\",\"2009-11-07T00:00:00\",\"2009-10-31T00:00:00\",\"2009-10-24T00:00:00\",\"2009-10-17T00:00:00\",\"2009-10-10T00:00:00\",\"2009-10-03T00:00:00\",\"2009-09-26T00:00:00\",\"2009-09-19T00:00:00\",\"2009-09-12T00:00:00\",\"2009-09-05T00:00:00\",\"2009-08-29T00:00:00\",\"2009-08-22T00:00:00\",\"2009-08-15T00:00:00\",\"2009-08-08T00:00:00\",\"2009-08-01T00:00:00\",\"2009-07-25T00:00:00\",\"2009-07-18T00:00:00\",\"2009-07-11T00:00:00\",\"2009-07-04T00:00:00\",\"2009-06-27T00:00:00\",\"2009-06-20T00:00:00\",\"2009-06-13T00:00:00\",\"2009-06-06T00:00:00\",\"2009-05-30T00:00:00\",\"2009-05-23T00:00:00\",\"2009-05-16T00:00:00\",\"2008-11-22T00:00:00\"],\"y\":[50,45,45,39,36,33,35,29,27,26,27,22,16,17,19,22,22,18,18,15,14,13,14,11,10,8,7,6,4,6,6,5,4,4,2,3,4,3,6,9,11,16,18,32,41,47,46,50,87,12],\"type\":\"scatter\"},{\"mode\":\"lines+markers\",\"name\":\"Breathless\",\"x\":[\"2010-02-13T00:00:00\"],\"y\":[72],\"type\":\"scatter\"},{\"mode\":\"lines+markers\",\"name\":\"Fifteen\",\"x\":[\"2010-02-06T00:00:00\",\"2010-01-30T00:00:00\",\"2010-01-23T00:00:00\",\"2010-01-16T00:00:00\",\"2010-01-09T00:00:00\",\"2010-01-02T00:00:00\",\"2009-12-26T00:00:00\",\"2009-12-19T00:00:00\",\"2009-12-12T00:00:00\",\"2009-12-05T00:00:00\",\"2009-11-28T00:00:00\",\"2009-11-21T00:00:00\",\"2009-11-14T00:00:00\",\"2009-11-07T00:00:00\",\"2009-10-31T00:00:00\",\"2009-10-24T00:00:00\",\"2009-10-17T00:00:00\",\"2009-10-10T00:00:00\",\"2009-10-03T00:00:00\",\"2009-02-28T00:00:00\",\"2008-11-29T00:00:00\"],\"y\":[40,36,37,28,25,30,27,23,27,26,26,38,46,62,67,77,81,89,94,65,79],\"type\":\"scatter\"},{\"mode\":\"lines+markers\",\"name\":\"Jump Then Fall\",\"x\":[\"2009-11-28T00:00:00\",\"2009-11-21T00:00:00\",\"2009-11-14T00:00:00\"],\"y\":[91,41,10],\"type\":\"scatter\"},{\"mode\":\"lines+markers\",\"name\":\"Untouchable\",\"x\":[\"2009-11-21T00:00:00\",\"2009-11-14T00:00:00\"],\"y\":[69,19],\"type\":\"scatter\"},{\"mode\":\"lines+markers\",\"name\":\"The Other Side Of The Door\",\"x\":[\"2009-11-21T00:00:00\",\"2009-11-14T00:00:00\"],\"y\":[94,23],\"type\":\"scatter\"},{\"mode\":\"lines+markers\",\"name\":\"Forever & Always\",\"x\":[\"2009-11-21T00:00:00\",\"2009-11-14T00:00:00\",\"2008-11-29T00:00:00\"],\"y\":[100,34,49],\"type\":\"scatter\"},{\"mode\":\"lines+markers\",\"name\":\"Superstar\",\"x\":[\"2009-11-14T00:00:00\"],\"y\":[26],\"type\":\"scatter\"},{\"mode\":\"lines+markers\",\"name\":\"Come In With The Rain\",\"x\":[\"2009-11-14T00:00:00\"],\"y\":[30],\"type\":\"scatter\"},{\"mode\":\"lines+markers\",\"name\":\"Love Story\",\"x\":[\"2009-08-29T00:00:00\",\"2009-08-22T00:00:00\",\"2009-08-15T00:00:00\",\"2009-08-08T00:00:00\",\"2009-08-01T00:00:00\",\"2009-07-25T00:00:00\",\"2009-07-18T00:00:00\",\"2009-07-11T00:00:00\",\"2009-07-04T00:00:00\",\"2009-06-27T00:00:00\",\"2009-06-20T00:00:00\",\"2009-06-13T00:00:00\",\"2009-06-06T00:00:00\",\"2009-05-30T00:00:00\",\"2009-05-23T00:00:00\",\"2009-05-16T00:00:00\",\"2009-05-09T00:00:00\",\"2009-05-02T00:00:00\",\"2009-04-25T00:00:00\",\"2009-04-18T00:00:00\",\"2009-04-11T00:00:00\",\"2009-04-04T00:00:00\",\"2009-03-28T00:00:00\",\"2009-03-21T00:00:00\",\"2009-03-14T00:00:00\",\"2009-03-07T00:00:00\",\"2009-02-28T00:00:00\",\"2009-02-21T00:00:00\",\"2009-02-14T00:00:00\",\"2009-02-07T00:00:00\",\"2009-01-31T00:00:00\",\"2009-01-24T00:00:00\",\"2009-01-17T00:00:00\",\"2009-01-10T00:00:00\",\"2009-01-03T00:00:00\",\"2008-12-27T00:00:00\",\"2008-12-20T00:00:00\",\"2008-12-13T00:00:00\",\"2008-12-06T00:00:00\",\"2008-11-29T00:00:00\",\"2008-11-22T00:00:00\",\"2008-11-15T00:00:00\",\"2008-11-08T00:00:00\",\"2008-11-01T00:00:00\",\"2008-10-25T00:00:00\",\"2008-10-18T00:00:00\",\"2008-10-11T00:00:00\",\"2008-10-04T00:00:00\",\"2008-09-27T00:00:00\"],\"y\":[49,46,46,42,40,41,38,33,29,26,26,28,34,24,21,18,18,16,14,14,15,13,13,12,9,8,7,7,5,5,5,5,4,5,7,11,12,12,14,18,14,16,15,14,14,13,9,5,16],\"type\":\"scatter\"},{\"mode\":\"lines+markers\",\"name\":\"Crazier\",\"x\":[\"2009-05-30T00:00:00\",\"2009-05-23T00:00:00\",\"2009-05-16T00:00:00\",\"2009-05-09T00:00:00\",\"2009-05-02T00:00:00\",\"2009-04-25T00:00:00\",\"2009-04-18T00:00:00\",\"2009-04-11T00:00:00\"],\"y\":[90,66,61,38,17,38,69,72],\"type\":\"scatter\"},{\"mode\":\"lines+markers\",\"name\":\"White Horse\",\"x\":[\"2009-04-25T00:00:00\",\"2009-04-18T00:00:00\",\"2009-04-11T00:00:00\",\"2009-04-04T00:00:00\",\"2009-03-28T00:00:00\",\"2009-03-21T00:00:00\",\"2009-03-14T00:00:00\",\"2009-03-07T00:00:00\",\"2009-02-28T00:00:00\",\"2009-02-21T00:00:00\",\"2009-02-14T00:00:00\",\"2009-02-07T00:00:00\",\"2009-01-31T00:00:00\",\"2009-01-24T00:00:00\",\"2009-01-17T00:00:00\",\"2009-01-10T00:00:00\",\"2009-01-03T00:00:00\",\"2008-12-27T00:00:00\",\"2008-12-20T00:00:00\",\"2008-12-13T00:00:00\",\"2008-12-06T00:00:00\",\"2008-11-29T00:00:00\"],\"y\":[44,39,32,32,29,31,30,34,34,39,40,39,35,37,38,41,48,51,52,47,56,13],\"type\":\"scatter\"},{\"mode\":\"lines+markers\",\"name\":\"You're Not Sorry\",\"x\":[\"2009-04-04T00:00:00\",\"2009-03-28T00:00:00\",\"2009-03-21T00:00:00\",\"2008-11-22T00:00:00\",\"2008-11-15T00:00:00\"],\"y\":[95,40,67,35,11],\"type\":\"scatter\"},{\"mode\":\"lines+markers\",\"name\":\"The Way I Loved You\",\"x\":[\"2008-11-29T00:00:00\"],\"y\":[72],\"type\":\"scatter\"},{\"mode\":\"lines+markers\",\"name\":\"Hey Stephen\",\"x\":[\"2008-11-29T00:00:00\"],\"y\":[94],\"type\":\"scatter\"},{\"mode\":\"lines+markers\",\"name\":\"Should've Said No\",\"x\":[\"2008-10-18T00:00:00\",\"2008-10-11T00:00:00\",\"2008-10-04T00:00:00\",\"2008-09-27T00:00:00\",\"2008-09-20T00:00:00\",\"2008-09-13T00:00:00\",\"2008-09-06T00:00:00\",\"2008-08-30T00:00:00\",\"2008-08-23T00:00:00\",\"2008-08-16T00:00:00\",\"2008-08-09T00:00:00\",\"2008-08-02T00:00:00\",\"2008-07-26T00:00:00\",\"2008-07-19T00:00:00\",\"2008-07-12T00:00:00\",\"2008-07-05T00:00:00\",\"2008-06-28T00:00:00\",\"2008-06-21T00:00:00\",\"2008-06-14T00:00:00\",\"2008-06-07T00:00:00\"],\"y\":[90,82,83,66,61,51,40,35,37,38,33,34,38,46,55,64,65,75,84,84],\"type\":\"scatter\"},{\"mode\":\"lines+markers\",\"name\":\"Change\",\"x\":[\"2008-09-13T00:00:00\",\"2008-09-06T00:00:00\",\"2008-08-30T00:00:00\"],\"y\":[100,39,10],\"type\":\"scatter\"},{\"mode\":\"lines+markers\",\"name\":\"Picture To Burn\",\"x\":[\"2008-07-12T00:00:00\",\"2008-07-05T00:00:00\",\"2008-06-28T00:00:00\",\"2008-06-21T00:00:00\",\"2008-06-14T00:00:00\",\"2008-06-07T00:00:00\",\"2008-05-31T00:00:00\",\"2008-05-24T00:00:00\",\"2008-05-17T00:00:00\",\"2008-05-10T00:00:00\",\"2008-05-03T00:00:00\",\"2008-04-26T00:00:00\",\"2008-04-19T00:00:00\",\"2008-04-12T00:00:00\",\"2008-04-05T00:00:00\",\"2008-03-29T00:00:00\",\"2008-03-22T00:00:00\",\"2008-03-15T00:00:00\",\"2008-03-08T00:00:00\",\"2008-03-01T00:00:00\"],\"y\":[89,82,80,74,67,71,52,36,28,29,29,36,44,45,51,55,64,73,83,91],\"type\":\"scatter\"},{\"mode\":\"lines+markers\",\"name\":\"Our Song\",\"x\":[\"2008-06-14T00:00:00\",\"2008-06-07T00:00:00\",\"2008-05-31T00:00:00\",\"2008-05-24T00:00:00\",\"2008-05-17T00:00:00\",\"2008-05-10T00:00:00\",\"2008-05-03T00:00:00\",\"2008-04-26T00:00:00\",\"2008-04-19T00:00:00\",\"2008-04-12T00:00:00\",\"2008-04-05T00:00:00\",\"2008-03-29T00:00:00\",\"2008-03-22T00:00:00\",\"2008-03-15T00:00:00\",\"2008-03-08T00:00:00\",\"2008-03-01T00:00:00\",\"2008-02-23T00:00:00\",\"2008-02-16T00:00:00\",\"2008-02-09T00:00:00\",\"2008-02-02T00:00:00\",\"2008-01-26T00:00:00\",\"2008-01-19T00:00:00\",\"2008-01-12T00:00:00\",\"2008-01-05T00:00:00\",\"2007-12-29T00:00:00\",\"2007-12-22T00:00:00\",\"2007-12-15T00:00:00\",\"2007-12-08T00:00:00\",\"2007-12-01T00:00:00\",\"2007-11-24T00:00:00\",\"2007-11-17T00:00:00\",\"2007-11-10T00:00:00\",\"2007-11-03T00:00:00\",\"2007-10-27T00:00:00\",\"2007-10-20T00:00:00\",\"2007-10-13T00:00:00\"],\"y\":[48,48,39,34,29,31,28,28,28,33,39,39,39,39,35,30,29,31,24,16,20,16,17,26,21,22,24,23,28,24,36,39,46,56,67,86],\"type\":\"scatter\"},{\"mode\":\"lines+markers\",\"name\":\"Teardrops On My Guitar\",\"x\":[\"2008-05-17T00:00:00\",\"2008-05-10T00:00:00\",\"2008-05-03T00:00:00\",\"2008-04-26T00:00:00\",\"2008-04-19T00:00:00\",\"2008-04-12T00:00:00\",\"2008-04-05T00:00:00\",\"2008-03-29T00:00:00\",\"2008-03-22T00:00:00\",\"2008-03-15T00:00:00\",\"2008-03-08T00:00:00\",\"2008-03-01T00:00:00\",\"2008-02-23T00:00:00\",\"2008-02-16T00:00:00\",\"2008-02-09T00:00:00\",\"2008-02-02T00:00:00\",\"2008-01-26T00:00:00\",\"2008-01-19T00:00:00\",\"2008-01-12T00:00:00\",\"2008-01-05T00:00:00\",\"2007-12-29T00:00:00\",\"2007-12-22T00:00:00\",\"2007-12-15T00:00:00\",\"2007-09-08T00:00:00\",\"2007-09-01T00:00:00\",\"2007-08-25T00:00:00\",\"2007-08-18T00:00:00\",\"2007-08-11T00:00:00\",\"2007-08-04T00:00:00\",\"2007-07-28T00:00:00\",\"2007-07-21T00:00:00\",\"2007-07-14T00:00:00\",\"2007-07-07T00:00:00\",\"2007-06-30T00:00:00\",\"2007-06-23T00:00:00\",\"2007-06-16T00:00:00\",\"2007-06-09T00:00:00\",\"2007-06-02T00:00:00\",\"2007-05-26T00:00:00\",\"2007-05-19T00:00:00\",\"2007-05-12T00:00:00\",\"2007-05-05T00:00:00\",\"2007-04-28T00:00:00\",\"2007-04-21T00:00:00\",\"2007-04-14T00:00:00\",\"2007-04-07T00:00:00\",\"2007-03-31T00:00:00\",\"2007-03-24T00:00:00\"],\"y\":[49,48,38,29,26,26,22,22,20,22,16,13,15,15,15,14,17,18,19,23,24,30,44,50,49,38,34,33,39,40,41,42,45,42,42,49,46,44,51,50,53,56,52,60,70,78,77,93],\"type\":\"scatter\"},{\"mode\":\"lines+markers\",\"name\":\"Tim McGraw\",\"x\":[\"2007-02-03T00:00:00\",\"2007-01-27T00:00:00\",\"2007-01-20T00:00:00\",\"2007-01-13T00:00:00\",\"2007-01-06T00:00:00\",\"2006-12-30T00:00:00\",\"2006-12-23T00:00:00\",\"2006-12-16T00:00:00\",\"2006-12-09T00:00:00\",\"2006-12-02T00:00:00\",\"2006-11-25T00:00:00\",\"2006-11-18T00:00:00\",\"2006-11-11T00:00:00\",\"2006-11-04T00:00:00\",\"2006-10-28T00:00:00\",\"2006-10-21T00:00:00\",\"2006-10-14T00:00:00\",\"2006-10-07T00:00:00\",\"2006-09-30T00:00:00\",\"2006-09-23T00:00:00\"],\"y\":[43,40,43,40,48,45,46,44,45,48,47,51,51,61,65,68,72,77,87,86],\"type\":\"scatter\"}],                        {\"template\":{\"data\":{\"histogram2dcontour\":[{\"type\":\"histogram2dcontour\",\"colorbar\":{\"outlinewidth\":0,\"ticks\":\"\"},\"colorscale\":[[0.0,\"#0d0887\"],[0.1111111111111111,\"#46039f\"],[0.2222222222222222,\"#7201a8\"],[0.3333333333333333,\"#9c179e\"],[0.4444444444444444,\"#bd3786\"],[0.5555555555555556,\"#d8576b\"],[0.6666666666666666,\"#ed7953\"],[0.7777777777777778,\"#fb9f3a\"],[0.8888888888888888,\"#fdca26\"],[1.0,\"#f0f921\"]]}],\"choropleth\":[{\"type\":\"choropleth\",\"colorbar\":{\"outlinewidth\":0,\"ticks\":\"\"}}],\"histogram2d\":[{\"type\":\"histogram2d\",\"colorbar\":{\"outlinewidth\":0,\"ticks\":\"\"},\"colorscale\":[[0.0,\"#0d0887\"],[0.1111111111111111,\"#46039f\"],[0.2222222222222222,\"#7201a8\"],[0.3333333333333333,\"#9c179e\"],[0.4444444444444444,\"#bd3786\"],[0.5555555555555556,\"#d8576b\"],[0.6666666666666666,\"#ed7953\"],[0.7777777777777778,\"#fb9f3a\"],[0.8888888888888888,\"#fdca26\"],[1.0,\"#f0f921\"]]}],\"heatmap\":[{\"type\":\"heatmap\",\"colorbar\":{\"outlinewidth\":0,\"ticks\":\"\"},\"colorscale\":[[0.0,\"#0d0887\"],[0.1111111111111111,\"#46039f\"],[0.2222222222222222,\"#7201a8\"],[0.3333333333333333,\"#9c179e\"],[0.4444444444444444,\"#bd3786\"],[0.5555555555555556,\"#d8576b\"],[0.6666666666666666,\"#ed7953\"],[0.7777777777777778,\"#fb9f3a\"],[0.8888888888888888,\"#fdca26\"],[1.0,\"#f0f921\"]]}],\"heatmapgl\":[{\"type\":\"heatmapgl\",\"colorbar\":{\"outlinewidth\":0,\"ticks\":\"\"},\"colorscale\":[[0.0,\"#0d0887\"],[0.1111111111111111,\"#46039f\"],[0.2222222222222222,\"#7201a8\"],[0.3333333333333333,\"#9c179e\"],[0.4444444444444444,\"#bd3786\"],[0.5555555555555556,\"#d8576b\"],[0.6666666666666666,\"#ed7953\"],[0.7777777777777778,\"#fb9f3a\"],[0.8888888888888888,\"#fdca26\"],[1.0,\"#f0f921\"]]}],\"contourcarpet\":[{\"type\":\"contourcarpet\",\"colorbar\":{\"outlinewidth\":0,\"ticks\":\"\"}}],\"contour\":[{\"type\":\"contour\",\"colorbar\":{\"outlinewidth\":0,\"ticks\":\"\"},\"colorscale\":[[0.0,\"#0d0887\"],[0.1111111111111111,\"#46039f\"],[0.2222222222222222,\"#7201a8\"],[0.3333333333333333,\"#9c179e\"],[0.4444444444444444,\"#bd3786\"],[0.5555555555555556,\"#d8576b\"],[0.6666666666666666,\"#ed7953\"],[0.7777777777777778,\"#fb9f3a\"],[0.8888888888888888,\"#fdca26\"],[1.0,\"#f0f921\"]]}],\"surface\":[{\"type\":\"surface\",\"colorbar\":{\"outlinewidth\":0,\"ticks\":\"\"},\"colorscale\":[[0.0,\"#0d0887\"],[0.1111111111111111,\"#46039f\"],[0.2222222222222222,\"#7201a8\"],[0.3333333333333333,\"#9c179e\"],[0.4444444444444444,\"#bd3786\"],[0.5555555555555556,\"#d8576b\"],[0.6666666666666666,\"#ed7953\"],[0.7777777777777778,\"#fb9f3a\"],[0.8888888888888888,\"#fdca26\"],[1.0,\"#f0f921\"]]}],\"mesh3d\":[{\"type\":\"mesh3d\",\"colorbar\":{\"outlinewidth\":0,\"ticks\":\"\"}}],\"scatter\":[{\"marker\":{\"line\":{\"color\":\"#283442\"}},\"type\":\"scatter\"}],\"parcoords\":[{\"type\":\"parcoords\",\"line\":{\"colorbar\":{\"outlinewidth\":0,\"ticks\":\"\"}}}],\"scatterpolargl\":[{\"type\":\"scatterpolargl\",\"marker\":{\"colorbar\":{\"outlinewidth\":0,\"ticks\":\"\"}}}],\"bar\":[{\"error_x\":{\"color\":\"#f2f5fa\"},\"error_y\":{\"color\":\"#f2f5fa\"},\"marker\":{\"line\":{\"color\":\"rgb(17,17,17)\",\"width\":0.5},\"pattern\":{\"fillmode\":\"overlay\",\"size\":10,\"solidity\":0.2}},\"type\":\"bar\"}],\"scattergeo\":[{\"type\":\"scattergeo\",\"marker\":{\"colorbar\":{\"outlinewidth\":0,\"ticks\":\"\"}}}],\"scatterpolar\":[{\"type\":\"scatterpolar\",\"marker\":{\"colorbar\":{\"outlinewidth\":0,\"ticks\":\"\"}}}],\"histogram\":[{\"marker\":{\"pattern\":{\"fillmode\":\"overlay\",\"size\":10,\"solidity\":0.2}},\"type\":\"histogram\"}],\"scattergl\":[{\"marker\":{\"line\":{\"color\":\"#283442\"}},\"type\":\"scattergl\"}],\"scatter3d\":[{\"type\":\"scatter3d\",\"line\":{\"colorbar\":{\"outlinewidth\":0,\"ticks\":\"\"}},\"marker\":{\"colorbar\":{\"outlinewidth\":0,\"ticks\":\"\"}}}],\"scattermapbox\":[{\"type\":\"scattermapbox\",\"marker\":{\"colorbar\":{\"outlinewidth\":0,\"ticks\":\"\"}}}],\"scatterternary\":[{\"type\":\"scatterternary\",\"marker\":{\"colorbar\":{\"outlinewidth\":0,\"ticks\":\"\"}}}],\"scattercarpet\":[{\"type\":\"scattercarpet\",\"marker\":{\"colorbar\":{\"outlinewidth\":0,\"ticks\":\"\"}}}],\"carpet\":[{\"aaxis\":{\"endlinecolor\":\"#A2B1C6\",\"gridcolor\":\"#506784\",\"linecolor\":\"#506784\",\"minorgridcolor\":\"#506784\",\"startlinecolor\":\"#A2B1C6\"},\"baxis\":{\"endlinecolor\":\"#A2B1C6\",\"gridcolor\":\"#506784\",\"linecolor\":\"#506784\",\"minorgridcolor\":\"#506784\",\"startlinecolor\":\"#A2B1C6\"},\"type\":\"carpet\"}],\"table\":[{\"cells\":{\"fill\":{\"color\":\"#506784\"},\"line\":{\"color\":\"rgb(17,17,17)\"}},\"header\":{\"fill\":{\"color\":\"#2a3f5f\"},\"line\":{\"color\":\"rgb(17,17,17)\"}},\"type\":\"table\"}],\"barpolar\":[{\"marker\":{\"line\":{\"color\":\"rgb(17,17,17)\",\"width\":0.5},\"pattern\":{\"fillmode\":\"overlay\",\"size\":10,\"solidity\":0.2}},\"type\":\"barpolar\"}],\"pie\":[{\"automargin\":true,\"type\":\"pie\"}]},\"layout\":{\"autotypenumbers\":\"strict\",\"colorway\":[\"#636efa\",\"#EF553B\",\"#00cc96\",\"#ab63fa\",\"#FFA15A\",\"#19d3f3\",\"#FF6692\",\"#B6E880\",\"#FF97FF\",\"#FECB52\"],\"font\":{\"color\":\"#f2f5fa\"},\"hovermode\":\"closest\",\"hoverlabel\":{\"align\":\"left\"},\"paper_bgcolor\":\"rgb(17,17,17)\",\"plot_bgcolor\":\"rgb(17,17,17)\",\"polar\":{\"bgcolor\":\"rgb(17,17,17)\",\"angularaxis\":{\"gridcolor\":\"#506784\",\"linecolor\":\"#506784\",\"ticks\":\"\"},\"radialaxis\":{\"gridcolor\":\"#506784\",\"linecolor\":\"#506784\",\"ticks\":\"\"}},\"ternary\":{\"bgcolor\":\"rgb(17,17,17)\",\"aaxis\":{\"gridcolor\":\"#506784\",\"linecolor\":\"#506784\",\"ticks\":\"\"},\"baxis\":{\"gridcolor\":\"#506784\",\"linecolor\":\"#506784\",\"ticks\":\"\"},\"caxis\":{\"gridcolor\":\"#506784\",\"linecolor\":\"#506784\",\"ticks\":\"\"}},\"coloraxis\":{\"colorbar\":{\"outlinewidth\":0,\"ticks\":\"\"}},\"colorscale\":{\"sequential\":[[0.0,\"#0d0887\"],[0.1111111111111111,\"#46039f\"],[0.2222222222222222,\"#7201a8\"],[0.3333333333333333,\"#9c179e\"],[0.4444444444444444,\"#bd3786\"],[0.5555555555555556,\"#d8576b\"],[0.6666666666666666,\"#ed7953\"],[0.7777777777777778,\"#fb9f3a\"],[0.8888888888888888,\"#fdca26\"],[1.0,\"#f0f921\"]],\"sequentialminus\":[[0.0,\"#0d0887\"],[0.1111111111111111,\"#46039f\"],[0.2222222222222222,\"#7201a8\"],[0.3333333333333333,\"#9c179e\"],[0.4444444444444444,\"#bd3786\"],[0.5555555555555556,\"#d8576b\"],[0.6666666666666666,\"#ed7953\"],[0.7777777777777778,\"#fb9f3a\"],[0.8888888888888888,\"#fdca26\"],[1.0,\"#f0f921\"]],\"diverging\":[[0,\"#8e0152\"],[0.1,\"#c51b7d\"],[0.2,\"#de77ae\"],[0.3,\"#f1b6da\"],[0.4,\"#fde0ef\"],[0.5,\"#f7f7f7\"],[0.6,\"#e6f5d0\"],[0.7,\"#b8e186\"],[0.8,\"#7fbc41\"],[0.9,\"#4d9221\"],[1,\"#276419\"]]},\"xaxis\":{\"gridcolor\":\"#283442\",\"linecolor\":\"#506784\",\"ticks\":\"\",\"title\":{\"standoff\":15},\"zerolinecolor\":\"#283442\",\"automargin\":true,\"zerolinewidth\":2},\"yaxis\":{\"gridcolor\":\"#283442\",\"linecolor\":\"#506784\",\"ticks\":\"\",\"title\":{\"standoff\":15},\"zerolinecolor\":\"#283442\",\"automargin\":true,\"zerolinewidth\":2},\"scene\":{\"xaxis\":{\"backgroundcolor\":\"rgb(17,17,17)\",\"gridcolor\":\"#506784\",\"linecolor\":\"#506784\",\"showbackground\":true,\"ticks\":\"\",\"zerolinecolor\":\"#C8D4E3\",\"gridwidth\":2},\"yaxis\":{\"backgroundcolor\":\"rgb(17,17,17)\",\"gridcolor\":\"#506784\",\"linecolor\":\"#506784\",\"showbackground\":true,\"ticks\":\"\",\"zerolinecolor\":\"#C8D4E3\",\"gridwidth\":2},\"zaxis\":{\"backgroundcolor\":\"rgb(17,17,17)\",\"gridcolor\":\"#506784\",\"linecolor\":\"#506784\",\"showbackground\":true,\"ticks\":\"\",\"zerolinecolor\":\"#C8D4E3\",\"gridwidth\":2}},\"shapedefaults\":{\"line\":{\"color\":\"#f2f5fa\"}},\"annotationdefaults\":{\"arrowcolor\":\"#f2f5fa\",\"arrowhead\":0,\"arrowwidth\":1},\"geo\":{\"bgcolor\":\"rgb(17,17,17)\",\"landcolor\":\"rgb(17,17,17)\",\"subunitcolor\":\"#506784\",\"showland\":true,\"showlakes\":true,\"lakecolor\":\"rgb(17,17,17)\"},\"title\":{\"x\":0.05},\"updatemenudefaults\":{\"bgcolor\":\"#506784\",\"borderwidth\":0},\"sliderdefaults\":{\"bgcolor\":\"#C8D4E3\",\"borderwidth\":1,\"bordercolor\":\"rgb(17,17,17)\",\"tickwidth\":0},\"mapbox\":{\"style\":\"dark\"}}},\"yaxis\":{\"range\":[100,0],\"title\":{\"text\":\"Classement\"}},\"legend\":{\"font\":{\"size\":7}},\"height\":800,\"xaxis\":{\"title\":{\"text\":\"Date\"}}},                        {\"responsive\": true}                    ).then(function(){\n                            \nvar gd = document.getElementById('6f2473ce-3bd2-45ef-8100-dcaf5bcd9204');\nvar x = new MutationObserver(function (mutations, observer) {{\n        var display = window.getComputedStyle(gd).display;\n        if (!display || display === 'none') {{\n            console.log([gd, 'removed!']);\n            Plotly.purge(gd);\n            observer.disconnect();\n        }}\n}});\n\n// Listen for the removal of the full notebook cells\nvar notebookContainer = gd.closest('#notebook-container');\nif (notebookContainer) {{\n    x.observe(notebookContainer, {childList: true});\n}}\n\n// Listen for the clearing of the current output cell\nvar outputEl = gd.closest('.output');\nif (outputEl) {{\n    x.observe(outputEl, {childList: true});\n}}\n\n                        })                };                });            </script>        </div>"
     },
     "metadata": {},
     "output_type": "display_data"
    }
   ],
   "source": [
    "show_music_of_artist(df, \"Taylor Swift\")"
   ]
  }
 ],
 "metadata": {
  "kernelspec": {
   "display_name": "Python 3 (ipykernel)",
   "language": "python",
   "name": "python3"
  },
  "language_info": {
   "codemirror_mode": {
    "name": "ipython",
    "version": 3
   },
   "file_extension": ".py",
   "mimetype": "text/x-python",
   "name": "python",
   "nbconvert_exporter": "python",
   "pygments_lexer": "ipython3",
   "version": "3.10.4"
  }
 },
 "nbformat": 4,
 "nbformat_minor": 1
}