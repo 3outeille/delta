{
 "cells": [
  {
   "cell_type": "code",
   "execution_count": 84,
   "metadata": {
    "scrolled": true
   },
   "outputs": [],
   "source": [
    "import pandas as pd\n",
    "import pandas_datareader as pdr\n",
    "import plotly.graph_objects as go\n",
    "import numpy as np\n",
    "import dbf\n",
    "from simpledbf import Dbf5\n",
    "import plotly.express as px"
   ]
  },
  {
   "cell_type": "code",
   "execution_count": 85,
   "metadata": {},
   "outputs": [],
   "source": [
    "mar_14 = Dbf5('../data/data mariages 2014.dbf').to_dataframe()\n",
    "\n",
    "#mar_15 = Dbf5('../data/data mariages 2015.dbf').to_dataframe()\n",
    "\n",
    "#mar_16  = Dbf5('../data/data mariages 2016.dbf').to_dataframe()\n",
    "\n",
    "#mar_17 = Dbf5('../data/data mariages 2017.dbf').to_dataframe()\n",
    "\n",
    "#mar_18 = Dbf5('../data/data mariages 2018.dbf').to_dataframe()\n",
    "\n",
    "#mar_19 = Dbf5('../data/data mariages 2019.dbf').to_dataframe()\n",
    "\n",
    "#mar_20 = Dbf5('../data/data mariages 2020.dbf').to_dataframe()"
   ]
  },
  {
   "cell_type": "code",
   "execution_count": 86,
   "metadata": {},
   "outputs": [],
   "source": [
    "def filter_df(df):\n",
    "    df.drop(columns = ['ANAIS1', 'DEPNAIS1', 'INDNAT1', 'ETAMAT1', 'ANAIS2', 'DEPNAIS2', 'INDNAT2','ETAMAT2', 'JSEMAINE', 'DEPDOM', 'TUDOM', 'TUCOM', 'NBENFCOM'], axis=1, inplace=True)"
   ]
  },
  {
   "cell_type": "code",
   "execution_count": 87,
   "metadata": {},
   "outputs": [
    {
     "data": {
      "text/html": [
       "<div>\n",
       "<style scoped>\n",
       "    .dataframe tbody tr th:only-of-type {\n",
       "        vertical-align: middle;\n",
       "    }\n",
       "\n",
       "    .dataframe tbody tr th {\n",
       "        vertical-align: top;\n",
       "    }\n",
       "\n",
       "    .dataframe thead th {\n",
       "        text-align: right;\n",
       "    }\n",
       "</style>\n",
       "<table border=\"1\" class=\"dataframe\">\n",
       "  <thead>\n",
       "    <tr style=\"text-align: right;\">\n",
       "      <th></th>\n",
       "      <th>SEXE1</th>\n",
       "      <th>SEXE2</th>\n",
       "      <th>AMAR</th>\n",
       "      <th>MMAR</th>\n",
       "      <th>DEPMAR</th>\n",
       "    </tr>\n",
       "  </thead>\n",
       "  <tbody>\n",
       "    <tr>\n",
       "      <th>0</th>\n",
       "      <td>F</td>\n",
       "      <td>M</td>\n",
       "      <td>2014</td>\n",
       "      <td>02</td>\n",
       "      <td>01</td>\n",
       "    </tr>\n",
       "    <tr>\n",
       "      <th>1</th>\n",
       "      <td>M</td>\n",
       "      <td>F</td>\n",
       "      <td>2014</td>\n",
       "      <td>08</td>\n",
       "      <td>01</td>\n",
       "    </tr>\n",
       "    <tr>\n",
       "      <th>2</th>\n",
       "      <td>M</td>\n",
       "      <td>F</td>\n",
       "      <td>2014</td>\n",
       "      <td>08</td>\n",
       "      <td>01</td>\n",
       "    </tr>\n",
       "    <tr>\n",
       "      <th>3</th>\n",
       "      <td>M</td>\n",
       "      <td>F</td>\n",
       "      <td>2014</td>\n",
       "      <td>08</td>\n",
       "      <td>01</td>\n",
       "    </tr>\n",
       "    <tr>\n",
       "      <th>4</th>\n",
       "      <td>M</td>\n",
       "      <td>F</td>\n",
       "      <td>2014</td>\n",
       "      <td>05</td>\n",
       "      <td>01</td>\n",
       "    </tr>\n",
       "    <tr>\n",
       "      <th>...</th>\n",
       "      <td>...</td>\n",
       "      <td>...</td>\n",
       "      <td>...</td>\n",
       "      <td>...</td>\n",
       "      <td>...</td>\n",
       "    </tr>\n",
       "    <tr>\n",
       "      <th>225570</th>\n",
       "      <td>M</td>\n",
       "      <td>F</td>\n",
       "      <td>2014</td>\n",
       "      <td>07</td>\n",
       "      <td>01</td>\n",
       "    </tr>\n",
       "    <tr>\n",
       "      <th>233183</th>\n",
       "      <td>M</td>\n",
       "      <td>F</td>\n",
       "      <td>2014</td>\n",
       "      <td>10</td>\n",
       "      <td>01</td>\n",
       "    </tr>\n",
       "    <tr>\n",
       "      <th>233901</th>\n",
       "      <td>M</td>\n",
       "      <td>F</td>\n",
       "      <td>2014</td>\n",
       "      <td>10</td>\n",
       "      <td>01</td>\n",
       "    </tr>\n",
       "    <tr>\n",
       "      <th>234592</th>\n",
       "      <td>M</td>\n",
       "      <td>F</td>\n",
       "      <td>2014</td>\n",
       "      <td>06</td>\n",
       "      <td>01</td>\n",
       "    </tr>\n",
       "    <tr>\n",
       "      <th>241066</th>\n",
       "      <td>M</td>\n",
       "      <td>F</td>\n",
       "      <td>2014</td>\n",
       "      <td>07</td>\n",
       "      <td>01</td>\n",
       "    </tr>\n",
       "  </tbody>\n",
       "</table>\n",
       "<p>2340 rows × 5 columns</p>\n",
       "</div>"
      ],
      "text/plain": [
       "       SEXE1 SEXE2  AMAR MMAR DEPMAR\n",
       "0          F     M  2014   02     01\n",
       "1          M     F  2014   08     01\n",
       "2          M     F  2014   08     01\n",
       "3          M     F  2014   08     01\n",
       "4          M     F  2014   05     01\n",
       "...      ...   ...   ...  ...    ...\n",
       "225570     M     F  2014   07     01\n",
       "233183     M     F  2014   10     01\n",
       "233901     M     F  2014   10     01\n",
       "234592     M     F  2014   06     01\n",
       "241066     M     F  2014   07     01\n",
       "\n",
       "[2340 rows x 5 columns]"
      ]
     },
     "execution_count": 87,
     "metadata": {},
     "output_type": "execute_result"
    }
   ],
   "source": [
    "#df = pd.concat([mar_14, mar_15, mar_16, mar_17, mar_18, mar_19, mar_20])\n",
    "#filter_df(df)\n",
    "\n",
    "filter_df(mar_14)\n",
    "#mar_14 = mar_14.sort_values(by=['MMAR'])\n",
    "df = mar_14\n",
    "df = df.loc[df['DEPMAR'] == '01']\n",
    "df"
   ]
  },
  {
   "cell_type": "code",
   "execution_count": 88,
   "metadata": {},
   "outputs": [
    {
     "data": {
      "text/html": [
       "<div>\n",
       "<style scoped>\n",
       "    .dataframe tbody tr th:only-of-type {\n",
       "        vertical-align: middle;\n",
       "    }\n",
       "\n",
       "    .dataframe tbody tr th {\n",
       "        vertical-align: top;\n",
       "    }\n",
       "\n",
       "    .dataframe thead th {\n",
       "        text-align: right;\n",
       "    }\n",
       "</style>\n",
       "<table border=\"1\" class=\"dataframe\">\n",
       "  <thead>\n",
       "    <tr style=\"text-align: right;\">\n",
       "      <th></th>\n",
       "      <th>SEXE1</th>\n",
       "      <th>SEXE2</th>\n",
       "      <th>AMAR</th>\n",
       "      <th>MMAR</th>\n",
       "    </tr>\n",
       "  </thead>\n",
       "  <tbody>\n",
       "    <tr>\n",
       "      <th>0</th>\n",
       "      <td>F</td>\n",
       "      <td>M</td>\n",
       "      <td>2014</td>\n",
       "      <td>02</td>\n",
       "    </tr>\n",
       "    <tr>\n",
       "      <th>1</th>\n",
       "      <td>M</td>\n",
       "      <td>F</td>\n",
       "      <td>2014</td>\n",
       "      <td>08</td>\n",
       "    </tr>\n",
       "    <tr>\n",
       "      <th>2</th>\n",
       "      <td>M</td>\n",
       "      <td>F</td>\n",
       "      <td>2014</td>\n",
       "      <td>08</td>\n",
       "    </tr>\n",
       "    <tr>\n",
       "      <th>3</th>\n",
       "      <td>M</td>\n",
       "      <td>F</td>\n",
       "      <td>2014</td>\n",
       "      <td>08</td>\n",
       "    </tr>\n",
       "    <tr>\n",
       "      <th>4</th>\n",
       "      <td>M</td>\n",
       "      <td>F</td>\n",
       "      <td>2014</td>\n",
       "      <td>05</td>\n",
       "    </tr>\n",
       "    <tr>\n",
       "      <th>...</th>\n",
       "      <td>...</td>\n",
       "      <td>...</td>\n",
       "      <td>...</td>\n",
       "      <td>...</td>\n",
       "    </tr>\n",
       "    <tr>\n",
       "      <th>225570</th>\n",
       "      <td>M</td>\n",
       "      <td>F</td>\n",
       "      <td>2014</td>\n",
       "      <td>07</td>\n",
       "    </tr>\n",
       "    <tr>\n",
       "      <th>233183</th>\n",
       "      <td>M</td>\n",
       "      <td>F</td>\n",
       "      <td>2014</td>\n",
       "      <td>10</td>\n",
       "    </tr>\n",
       "    <tr>\n",
       "      <th>233901</th>\n",
       "      <td>M</td>\n",
       "      <td>F</td>\n",
       "      <td>2014</td>\n",
       "      <td>10</td>\n",
       "    </tr>\n",
       "    <tr>\n",
       "      <th>234592</th>\n",
       "      <td>M</td>\n",
       "      <td>F</td>\n",
       "      <td>2014</td>\n",
       "      <td>06</td>\n",
       "    </tr>\n",
       "    <tr>\n",
       "      <th>241066</th>\n",
       "      <td>M</td>\n",
       "      <td>F</td>\n",
       "      <td>2014</td>\n",
       "      <td>07</td>\n",
       "    </tr>\n",
       "  </tbody>\n",
       "</table>\n",
       "<p>2340 rows × 4 columns</p>\n",
       "</div>"
      ],
      "text/plain": [
       "       SEXE1 SEXE2  AMAR MMAR\n",
       "0          F     M  2014   02\n",
       "1          M     F  2014   08\n",
       "2          M     F  2014   08\n",
       "3          M     F  2014   08\n",
       "4          M     F  2014   05\n",
       "...      ...   ...   ...  ...\n",
       "225570     M     F  2014   07\n",
       "233183     M     F  2014   10\n",
       "233901     M     F  2014   10\n",
       "234592     M     F  2014   06\n",
       "241066     M     F  2014   07\n",
       "\n",
       "[2340 rows x 4 columns]"
      ]
     },
     "execution_count": 88,
     "metadata": {},
     "output_type": "execute_result"
    }
   ],
   "source": [
    "df = df.drop('DEPMAR', axis=1)\n",
    "df"
   ]
  },
  {
   "cell_type": "code",
   "execution_count": 89,
   "metadata": {},
   "outputs": [
    {
     "data": {
      "text/html": [
       "<div>\n",
       "<style scoped>\n",
       "    .dataframe tbody tr th:only-of-type {\n",
       "        vertical-align: middle;\n",
       "    }\n",
       "\n",
       "    .dataframe tbody tr th {\n",
       "        vertical-align: top;\n",
       "    }\n",
       "\n",
       "    .dataframe thead th {\n",
       "        text-align: right;\n",
       "    }\n",
       "</style>\n",
       "<table border=\"1\" class=\"dataframe\">\n",
       "  <thead>\n",
       "    <tr style=\"text-align: right;\">\n",
       "      <th></th>\n",
       "      <th>HH</th>\n",
       "      <th>FF</th>\n",
       "      <th>HF</th>\n",
       "      <th>TOTAL</th>\n",
       "    </tr>\n",
       "    <tr>\n",
       "      <th>MMAR</th>\n",
       "      <th></th>\n",
       "      <th></th>\n",
       "      <th></th>\n",
       "      <th></th>\n",
       "    </tr>\n",
       "  </thead>\n",
       "  <tbody>\n",
       "    <tr>\n",
       "      <th>02</th>\n",
       "      <td>2</td>\n",
       "      <td>1</td>\n",
       "      <td>61</td>\n",
       "      <td>64</td>\n",
       "    </tr>\n",
       "    <tr>\n",
       "      <th>03</th>\n",
       "      <td>5</td>\n",
       "      <td>6</td>\n",
       "      <td>132</td>\n",
       "      <td>143</td>\n",
       "    </tr>\n",
       "    <tr>\n",
       "      <th>05</th>\n",
       "      <td>2</td>\n",
       "      <td>6</td>\n",
       "      <td>234</td>\n",
       "      <td>242</td>\n",
       "    </tr>\n",
       "    <tr>\n",
       "      <th>06</th>\n",
       "      <td>4</td>\n",
       "      <td>6</td>\n",
       "      <td>354</td>\n",
       "      <td>364</td>\n",
       "    </tr>\n",
       "    <tr>\n",
       "      <th>07</th>\n",
       "      <td>6</td>\n",
       "      <td>7</td>\n",
       "      <td>367</td>\n",
       "      <td>380</td>\n",
       "    </tr>\n",
       "    <tr>\n",
       "      <th>08</th>\n",
       "      <td>6</td>\n",
       "      <td>8</td>\n",
       "      <td>342</td>\n",
       "      <td>356</td>\n",
       "    </tr>\n",
       "    <tr>\n",
       "      <th>09</th>\n",
       "      <td>2</td>\n",
       "      <td>3</td>\n",
       "      <td>272</td>\n",
       "      <td>277</td>\n",
       "    </tr>\n",
       "    <tr>\n",
       "      <th>10</th>\n",
       "      <td>3</td>\n",
       "      <td>1</td>\n",
       "      <td>138</td>\n",
       "      <td>142</td>\n",
       "    </tr>\n",
       "    <tr>\n",
       "      <th>11</th>\n",
       "      <td>5</td>\n",
       "      <td>1</td>\n",
       "      <td>76</td>\n",
       "      <td>82</td>\n",
       "    </tr>\n",
       "  </tbody>\n",
       "</table>\n",
       "</div>"
      ],
      "text/plain": [
       "      HH  FF   HF  TOTAL\n",
       "MMAR                    \n",
       "02     2   1   61     64\n",
       "03     5   6  132    143\n",
       "05     2   6  234    242\n",
       "06     4   6  354    364\n",
       "07     6   7  367    380\n",
       "08     6   8  342    356\n",
       "09     2   3  272    277\n",
       "10     3   1  138    142\n",
       "11     5   1   76     82"
      ]
     },
     "execution_count": 89,
     "metadata": {},
     "output_type": "execute_result"
    }
   ],
   "source": [
    "HH = df[(df['SEXE1'] == 'M') & (df['SEXE2'] == 'M')]\n",
    "graph = pd.DataFrame(HH.groupby('MMAR').size(), columns = ['HH'])\n",
    "\n",
    "FF = df[(df['SEXE1'] == 'F') & (df['SEXE2'] == 'F')]\n",
    "graph = graph.assign(FF = FF.groupby('MMAR').size())\n",
    "\n",
    "HF = df[((df['SEXE1'] == 'M') & (df['SEXE2'] == 'F')) | ((df['SEXE1'] == 'F') & (df['SEXE2'] == 'M'))]\n",
    "graph = graph.assign(HF = HF.groupby('MMAR').size())\n",
    "\n",
    "graph = graph.assign(TOTAL = df.groupby('MMAR').size().astype(int))\n",
    "\n",
    "graph"
   ]
  },
  {
   "cell_type": "code",
   "execution_count": 90,
   "metadata": {},
   "outputs": [
    {
     "data": {
      "text/html": [
       "<div>\n",
       "<style scoped>\n",
       "    .dataframe tbody tr th:only-of-type {\n",
       "        vertical-align: middle;\n",
       "    }\n",
       "\n",
       "    .dataframe tbody tr th {\n",
       "        vertical-align: top;\n",
       "    }\n",
       "\n",
       "    .dataframe thead th {\n",
       "        text-align: right;\n",
       "    }\n",
       "</style>\n",
       "<table border=\"1\" class=\"dataframe\">\n",
       "  <thead>\n",
       "    <tr style=\"text-align: right;\">\n",
       "      <th></th>\n",
       "      <th>HH</th>\n",
       "      <th>FF</th>\n",
       "      <th>HF</th>\n",
       "      <th>TOTAL</th>\n",
       "    </tr>\n",
       "    <tr>\n",
       "      <th>MMAR</th>\n",
       "      <th></th>\n",
       "      <th></th>\n",
       "      <th></th>\n",
       "      <th></th>\n",
       "    </tr>\n",
       "  </thead>\n",
       "  <tbody>\n",
       "    <tr>\n",
       "      <th>02</th>\n",
       "      <td>2.0</td>\n",
       "      <td>1.0</td>\n",
       "      <td>61.0</td>\n",
       "      <td>64.0</td>\n",
       "    </tr>\n",
       "    <tr>\n",
       "      <th>03</th>\n",
       "      <td>5.0</td>\n",
       "      <td>6.0</td>\n",
       "      <td>132.0</td>\n",
       "      <td>143.0</td>\n",
       "    </tr>\n",
       "    <tr>\n",
       "      <th>05</th>\n",
       "      <td>2.0</td>\n",
       "      <td>6.0</td>\n",
       "      <td>234.0</td>\n",
       "      <td>242.0</td>\n",
       "    </tr>\n",
       "    <tr>\n",
       "      <th>06</th>\n",
       "      <td>4.0</td>\n",
       "      <td>6.0</td>\n",
       "      <td>354.0</td>\n",
       "      <td>364.0</td>\n",
       "    </tr>\n",
       "    <tr>\n",
       "      <th>07</th>\n",
       "      <td>6.0</td>\n",
       "      <td>7.0</td>\n",
       "      <td>367.0</td>\n",
       "      <td>380.0</td>\n",
       "    </tr>\n",
       "    <tr>\n",
       "      <th>08</th>\n",
       "      <td>6.0</td>\n",
       "      <td>8.0</td>\n",
       "      <td>342.0</td>\n",
       "      <td>356.0</td>\n",
       "    </tr>\n",
       "    <tr>\n",
       "      <th>09</th>\n",
       "      <td>2.0</td>\n",
       "      <td>3.0</td>\n",
       "      <td>272.0</td>\n",
       "      <td>277.0</td>\n",
       "    </tr>\n",
       "    <tr>\n",
       "      <th>10</th>\n",
       "      <td>3.0</td>\n",
       "      <td>1.0</td>\n",
       "      <td>138.0</td>\n",
       "      <td>142.0</td>\n",
       "    </tr>\n",
       "    <tr>\n",
       "      <th>11</th>\n",
       "      <td>5.0</td>\n",
       "      <td>1.0</td>\n",
       "      <td>76.0</td>\n",
       "      <td>82.0</td>\n",
       "    </tr>\n",
       "    <tr>\n",
       "      <th>01</th>\n",
       "      <td>0.0</td>\n",
       "      <td>0.0</td>\n",
       "      <td>0.0</td>\n",
       "      <td>0.0</td>\n",
       "    </tr>\n",
       "    <tr>\n",
       "      <th>04</th>\n",
       "      <td>0.0</td>\n",
       "      <td>0.0</td>\n",
       "      <td>0.0</td>\n",
       "      <td>0.0</td>\n",
       "    </tr>\n",
       "    <tr>\n",
       "      <th>12</th>\n",
       "      <td>0.0</td>\n",
       "      <td>0.0</td>\n",
       "      <td>0.0</td>\n",
       "      <td>0.0</td>\n",
       "    </tr>\n",
       "  </tbody>\n",
       "</table>\n",
       "</div>"
      ],
      "text/plain": [
       "       HH   FF     HF  TOTAL\n",
       "MMAR                        \n",
       "02    2.0  1.0   61.0   64.0\n",
       "03    5.0  6.0  132.0  143.0\n",
       "05    2.0  6.0  234.0  242.0\n",
       "06    4.0  6.0  354.0  364.0\n",
       "07    6.0  7.0  367.0  380.0\n",
       "08    6.0  8.0  342.0  356.0\n",
       "09    2.0  3.0  272.0  277.0\n",
       "10    3.0  1.0  138.0  142.0\n",
       "11    5.0  1.0   76.0   82.0\n",
       "01    0.0  0.0    0.0    0.0\n",
       "04    0.0  0.0    0.0    0.0\n",
       "12    0.0  0.0    0.0    0.0"
      ]
     },
     "execution_count": 90,
     "metadata": {},
     "output_type": "execute_result"
    }
   ],
   "source": [
    "col = graph.iloc[:, graph.columns.get_level_values(0)=='MMAR']\n",
    "check = []\n",
    "for x in col.itertuples():\n",
    "    check.append(x.Index)\n",
    "\n",
    "for i in range(1, 13):\n",
    "    if i < 10:\n",
    "        s = \"0\" + str(i)\n",
    "    else:\n",
    "        s = str(i)\n",
    "    if s not in check :\n",
    "        graph.loc[s,:] = (0,0,0, 0)\n",
    "      \n",
    "graph"
   ]
  },
  {
   "cell_type": "code",
   "execution_count": 94,
   "metadata": {},
   "outputs": [
    {
     "data": {
      "text/html": [
       "<div>\n",
       "<style scoped>\n",
       "    .dataframe tbody tr th:only-of-type {\n",
       "        vertical-align: middle;\n",
       "    }\n",
       "\n",
       "    .dataframe tbody tr th {\n",
       "        vertical-align: top;\n",
       "    }\n",
       "\n",
       "    .dataframe thead th {\n",
       "        text-align: right;\n",
       "    }\n",
       "</style>\n",
       "<table border=\"1\" class=\"dataframe\">\n",
       "  <thead>\n",
       "    <tr style=\"text-align: right;\">\n",
       "      <th></th>\n",
       "      <th>MMAR</th>\n",
       "      <th>HH</th>\n",
       "      <th>FF</th>\n",
       "      <th>HF</th>\n",
       "      <th>TOTAL</th>\n",
       "    </tr>\n",
       "  </thead>\n",
       "  <tbody>\n",
       "    <tr>\n",
       "      <th>0</th>\n",
       "      <td>01</td>\n",
       "      <td>0.0</td>\n",
       "      <td>0.0</td>\n",
       "      <td>0.0</td>\n",
       "      <td>0.0</td>\n",
       "    </tr>\n",
       "    <tr>\n",
       "      <th>1</th>\n",
       "      <td>02</td>\n",
       "      <td>2.0</td>\n",
       "      <td>1.0</td>\n",
       "      <td>61.0</td>\n",
       "      <td>64.0</td>\n",
       "    </tr>\n",
       "    <tr>\n",
       "      <th>2</th>\n",
       "      <td>03</td>\n",
       "      <td>5.0</td>\n",
       "      <td>6.0</td>\n",
       "      <td>132.0</td>\n",
       "      <td>143.0</td>\n",
       "    </tr>\n",
       "    <tr>\n",
       "      <th>3</th>\n",
       "      <td>04</td>\n",
       "      <td>0.0</td>\n",
       "      <td>0.0</td>\n",
       "      <td>0.0</td>\n",
       "      <td>0.0</td>\n",
       "    </tr>\n",
       "    <tr>\n",
       "      <th>4</th>\n",
       "      <td>05</td>\n",
       "      <td>2.0</td>\n",
       "      <td>6.0</td>\n",
       "      <td>234.0</td>\n",
       "      <td>242.0</td>\n",
       "    </tr>\n",
       "    <tr>\n",
       "      <th>5</th>\n",
       "      <td>06</td>\n",
       "      <td>4.0</td>\n",
       "      <td>6.0</td>\n",
       "      <td>354.0</td>\n",
       "      <td>364.0</td>\n",
       "    </tr>\n",
       "    <tr>\n",
       "      <th>6</th>\n",
       "      <td>07</td>\n",
       "      <td>6.0</td>\n",
       "      <td>7.0</td>\n",
       "      <td>367.0</td>\n",
       "      <td>380.0</td>\n",
       "    </tr>\n",
       "    <tr>\n",
       "      <th>7</th>\n",
       "      <td>08</td>\n",
       "      <td>6.0</td>\n",
       "      <td>8.0</td>\n",
       "      <td>342.0</td>\n",
       "      <td>356.0</td>\n",
       "    </tr>\n",
       "    <tr>\n",
       "      <th>8</th>\n",
       "      <td>09</td>\n",
       "      <td>2.0</td>\n",
       "      <td>3.0</td>\n",
       "      <td>272.0</td>\n",
       "      <td>277.0</td>\n",
       "    </tr>\n",
       "    <tr>\n",
       "      <th>9</th>\n",
       "      <td>10</td>\n",
       "      <td>3.0</td>\n",
       "      <td>1.0</td>\n",
       "      <td>138.0</td>\n",
       "      <td>142.0</td>\n",
       "    </tr>\n",
       "    <tr>\n",
       "      <th>10</th>\n",
       "      <td>11</td>\n",
       "      <td>5.0</td>\n",
       "      <td>1.0</td>\n",
       "      <td>76.0</td>\n",
       "      <td>82.0</td>\n",
       "    </tr>\n",
       "    <tr>\n",
       "      <th>11</th>\n",
       "      <td>12</td>\n",
       "      <td>0.0</td>\n",
       "      <td>0.0</td>\n",
       "      <td>0.0</td>\n",
       "      <td>0.0</td>\n",
       "    </tr>\n",
       "  </tbody>\n",
       "</table>\n",
       "</div>"
      ],
      "text/plain": [
       "   MMAR   HH   FF     HF  TOTAL\n",
       "0    01  0.0  0.0    0.0    0.0\n",
       "1    02  2.0  1.0   61.0   64.0\n",
       "2    03  5.0  6.0  132.0  143.0\n",
       "3    04  0.0  0.0    0.0    0.0\n",
       "4    05  2.0  6.0  234.0  242.0\n",
       "5    06  4.0  6.0  354.0  364.0\n",
       "6    07  6.0  7.0  367.0  380.0\n",
       "7    08  6.0  8.0  342.0  356.0\n",
       "8    09  2.0  3.0  272.0  277.0\n",
       "9    10  3.0  1.0  138.0  142.0\n",
       "10   11  5.0  1.0   76.0   82.0\n",
       "11   12  0.0  0.0    0.0    0.0"
      ]
     },
     "execution_count": 94,
     "metadata": {},
     "output_type": "execute_result"
    }
   ],
   "source": [
    "graph = graph.sort_index(level=0)\n",
    "graph = graph.reset_index()\n",
    "graph"
   ]
  },
  {
   "cell_type": "code",
   "execution_count": 95,
   "metadata": {},
   "outputs": [
    {
     "data": {
      "application/vnd.plotly.v1+json": {
       "config": {
        "plotlyServerURL": "https://plot.ly"
       },
       "data": [
        {
         "alignmentgroup": "True",
         "bingroup": "x",
         "histfunc": "sum",
         "hovertemplate": "variable=HH<br>MMAR=%{x}<br>sum of value=%{y}<extra></extra>",
         "legendgroup": "HH",
         "marker": {
          "color": "#636efa",
          "pattern": {
           "shape": ""
          }
         },
         "name": "HH",
         "offsetgroup": "HH",
         "orientation": "v",
         "showlegend": true,
         "type": "histogram",
         "x": [
          "01",
          "02",
          "03",
          "04",
          "05",
          "06",
          "07",
          "08",
          "09",
          "10",
          "11",
          "12"
         ],
         "xaxis": "x",
         "y": [
          0,
          2,
          5,
          0,
          2,
          4,
          6,
          6,
          2,
          3,
          5,
          0
         ],
         "yaxis": "y"
        },
        {
         "alignmentgroup": "True",
         "bingroup": "x",
         "histfunc": "sum",
         "hovertemplate": "variable=FF<br>MMAR=%{x}<br>sum of value=%{y}<extra></extra>",
         "legendgroup": "FF",
         "marker": {
          "color": "#EF553B",
          "pattern": {
           "shape": ""
          }
         },
         "name": "FF",
         "offsetgroup": "FF",
         "orientation": "v",
         "showlegend": true,
         "type": "histogram",
         "x": [
          "01",
          "02",
          "03",
          "04",
          "05",
          "06",
          "07",
          "08",
          "09",
          "10",
          "11",
          "12"
         ],
         "xaxis": "x",
         "y": [
          0,
          1,
          6,
          0,
          6,
          6,
          7,
          8,
          3,
          1,
          1,
          0
         ],
         "yaxis": "y"
        },
        {
         "alignmentgroup": "True",
         "bingroup": "x",
         "histfunc": "sum",
         "hovertemplate": "variable=HF<br>MMAR=%{x}<br>sum of value=%{y}<extra></extra>",
         "legendgroup": "HF",
         "marker": {
          "color": "#00cc96",
          "pattern": {
           "shape": ""
          }
         },
         "name": "HF",
         "offsetgroup": "HF",
         "orientation": "v",
         "showlegend": true,
         "type": "histogram",
         "x": [
          "01",
          "02",
          "03",
          "04",
          "05",
          "06",
          "07",
          "08",
          "09",
          "10",
          "11",
          "12"
         ],
         "xaxis": "x",
         "y": [
          0,
          61,
          132,
          0,
          234,
          354,
          367,
          342,
          272,
          138,
          76,
          0
         ],
         "yaxis": "y"
        },
        {
         "alignmentgroup": "True",
         "bingroup": "x",
         "histfunc": "sum",
         "hovertemplate": "variable=TOTAL<br>MMAR=%{x}<br>sum of value=%{y}<extra></extra>",
         "legendgroup": "TOTAL",
         "marker": {
          "color": "#ab63fa",
          "pattern": {
           "shape": ""
          }
         },
         "name": "TOTAL",
         "offsetgroup": "TOTAL",
         "orientation": "v",
         "showlegend": true,
         "type": "histogram",
         "x": [
          "01",
          "02",
          "03",
          "04",
          "05",
          "06",
          "07",
          "08",
          "09",
          "10",
          "11",
          "12"
         ],
         "xaxis": "x",
         "y": [
          0,
          64,
          143,
          0,
          242,
          364,
          380,
          356,
          277,
          142,
          82,
          0
         ],
         "yaxis": "y"
        }
       ],
       "layout": {
        "barmode": "relative",
        "legend": {
         "title": {
          "text": "variable"
         },
         "tracegroupgap": 0
        },
        "margin": {
         "t": 60
        },
        "template": {
         "data": {
          "bar": [
           {
            "error_x": {
             "color": "#2a3f5f"
            },
            "error_y": {
             "color": "#2a3f5f"
            },
            "marker": {
             "line": {
              "color": "#E5ECF6",
              "width": 0.5
             },
             "pattern": {
              "fillmode": "overlay",
              "size": 10,
              "solidity": 0.2
             }
            },
            "type": "bar"
           }
          ],
          "barpolar": [
           {
            "marker": {
             "line": {
              "color": "#E5ECF6",
              "width": 0.5
             },
             "pattern": {
              "fillmode": "overlay",
              "size": 10,
              "solidity": 0.2
             }
            },
            "type": "barpolar"
           }
          ],
          "carpet": [
           {
            "aaxis": {
             "endlinecolor": "#2a3f5f",
             "gridcolor": "white",
             "linecolor": "white",
             "minorgridcolor": "white",
             "startlinecolor": "#2a3f5f"
            },
            "baxis": {
             "endlinecolor": "#2a3f5f",
             "gridcolor": "white",
             "linecolor": "white",
             "minorgridcolor": "white",
             "startlinecolor": "#2a3f5f"
            },
            "type": "carpet"
           }
          ],
          "choropleth": [
           {
            "colorbar": {
             "outlinewidth": 0,
             "ticks": ""
            },
            "type": "choropleth"
           }
          ],
          "contour": [
           {
            "colorbar": {
             "outlinewidth": 0,
             "ticks": ""
            },
            "colorscale": [
             [
              0,
              "#0d0887"
             ],
             [
              0.1111111111111111,
              "#46039f"
             ],
             [
              0.2222222222222222,
              "#7201a8"
             ],
             [
              0.3333333333333333,
              "#9c179e"
             ],
             [
              0.4444444444444444,
              "#bd3786"
             ],
             [
              0.5555555555555556,
              "#d8576b"
             ],
             [
              0.6666666666666666,
              "#ed7953"
             ],
             [
              0.7777777777777778,
              "#fb9f3a"
             ],
             [
              0.8888888888888888,
              "#fdca26"
             ],
             [
              1,
              "#f0f921"
             ]
            ],
            "type": "contour"
           }
          ],
          "contourcarpet": [
           {
            "colorbar": {
             "outlinewidth": 0,
             "ticks": ""
            },
            "type": "contourcarpet"
           }
          ],
          "heatmap": [
           {
            "colorbar": {
             "outlinewidth": 0,
             "ticks": ""
            },
            "colorscale": [
             [
              0,
              "#0d0887"
             ],
             [
              0.1111111111111111,
              "#46039f"
             ],
             [
              0.2222222222222222,
              "#7201a8"
             ],
             [
              0.3333333333333333,
              "#9c179e"
             ],
             [
              0.4444444444444444,
              "#bd3786"
             ],
             [
              0.5555555555555556,
              "#d8576b"
             ],
             [
              0.6666666666666666,
              "#ed7953"
             ],
             [
              0.7777777777777778,
              "#fb9f3a"
             ],
             [
              0.8888888888888888,
              "#fdca26"
             ],
             [
              1,
              "#f0f921"
             ]
            ],
            "type": "heatmap"
           }
          ],
          "heatmapgl": [
           {
            "colorbar": {
             "outlinewidth": 0,
             "ticks": ""
            },
            "colorscale": [
             [
              0,
              "#0d0887"
             ],
             [
              0.1111111111111111,
              "#46039f"
             ],
             [
              0.2222222222222222,
              "#7201a8"
             ],
             [
              0.3333333333333333,
              "#9c179e"
             ],
             [
              0.4444444444444444,
              "#bd3786"
             ],
             [
              0.5555555555555556,
              "#d8576b"
             ],
             [
              0.6666666666666666,
              "#ed7953"
             ],
             [
              0.7777777777777778,
              "#fb9f3a"
             ],
             [
              0.8888888888888888,
              "#fdca26"
             ],
             [
              1,
              "#f0f921"
             ]
            ],
            "type": "heatmapgl"
           }
          ],
          "histogram": [
           {
            "marker": {
             "pattern": {
              "fillmode": "overlay",
              "size": 10,
              "solidity": 0.2
             }
            },
            "type": "histogram"
           }
          ],
          "histogram2d": [
           {
            "colorbar": {
             "outlinewidth": 0,
             "ticks": ""
            },
            "colorscale": [
             [
              0,
              "#0d0887"
             ],
             [
              0.1111111111111111,
              "#46039f"
             ],
             [
              0.2222222222222222,
              "#7201a8"
             ],
             [
              0.3333333333333333,
              "#9c179e"
             ],
             [
              0.4444444444444444,
              "#bd3786"
             ],
             [
              0.5555555555555556,
              "#d8576b"
             ],
             [
              0.6666666666666666,
              "#ed7953"
             ],
             [
              0.7777777777777778,
              "#fb9f3a"
             ],
             [
              0.8888888888888888,
              "#fdca26"
             ],
             [
              1,
              "#f0f921"
             ]
            ],
            "type": "histogram2d"
           }
          ],
          "histogram2dcontour": [
           {
            "colorbar": {
             "outlinewidth": 0,
             "ticks": ""
            },
            "colorscale": [
             [
              0,
              "#0d0887"
             ],
             [
              0.1111111111111111,
              "#46039f"
             ],
             [
              0.2222222222222222,
              "#7201a8"
             ],
             [
              0.3333333333333333,
              "#9c179e"
             ],
             [
              0.4444444444444444,
              "#bd3786"
             ],
             [
              0.5555555555555556,
              "#d8576b"
             ],
             [
              0.6666666666666666,
              "#ed7953"
             ],
             [
              0.7777777777777778,
              "#fb9f3a"
             ],
             [
              0.8888888888888888,
              "#fdca26"
             ],
             [
              1,
              "#f0f921"
             ]
            ],
            "type": "histogram2dcontour"
           }
          ],
          "mesh3d": [
           {
            "colorbar": {
             "outlinewidth": 0,
             "ticks": ""
            },
            "type": "mesh3d"
           }
          ],
          "parcoords": [
           {
            "line": {
             "colorbar": {
              "outlinewidth": 0,
              "ticks": ""
             }
            },
            "type": "parcoords"
           }
          ],
          "pie": [
           {
            "automargin": true,
            "type": "pie"
           }
          ],
          "scatter": [
           {
            "marker": {
             "colorbar": {
              "outlinewidth": 0,
              "ticks": ""
             }
            },
            "type": "scatter"
           }
          ],
          "scatter3d": [
           {
            "line": {
             "colorbar": {
              "outlinewidth": 0,
              "ticks": ""
             }
            },
            "marker": {
             "colorbar": {
              "outlinewidth": 0,
              "ticks": ""
             }
            },
            "type": "scatter3d"
           }
          ],
          "scattercarpet": [
           {
            "marker": {
             "colorbar": {
              "outlinewidth": 0,
              "ticks": ""
             }
            },
            "type": "scattercarpet"
           }
          ],
          "scattergeo": [
           {
            "marker": {
             "colorbar": {
              "outlinewidth": 0,
              "ticks": ""
             }
            },
            "type": "scattergeo"
           }
          ],
          "scattergl": [
           {
            "marker": {
             "colorbar": {
              "outlinewidth": 0,
              "ticks": ""
             }
            },
            "type": "scattergl"
           }
          ],
          "scattermapbox": [
           {
            "marker": {
             "colorbar": {
              "outlinewidth": 0,
              "ticks": ""
             }
            },
            "type": "scattermapbox"
           }
          ],
          "scatterpolar": [
           {
            "marker": {
             "colorbar": {
              "outlinewidth": 0,
              "ticks": ""
             }
            },
            "type": "scatterpolar"
           }
          ],
          "scatterpolargl": [
           {
            "marker": {
             "colorbar": {
              "outlinewidth": 0,
              "ticks": ""
             }
            },
            "type": "scatterpolargl"
           }
          ],
          "scatterternary": [
           {
            "marker": {
             "colorbar": {
              "outlinewidth": 0,
              "ticks": ""
             }
            },
            "type": "scatterternary"
           }
          ],
          "surface": [
           {
            "colorbar": {
             "outlinewidth": 0,
             "ticks": ""
            },
            "colorscale": [
             [
              0,
              "#0d0887"
             ],
             [
              0.1111111111111111,
              "#46039f"
             ],
             [
              0.2222222222222222,
              "#7201a8"
             ],
             [
              0.3333333333333333,
              "#9c179e"
             ],
             [
              0.4444444444444444,
              "#bd3786"
             ],
             [
              0.5555555555555556,
              "#d8576b"
             ],
             [
              0.6666666666666666,
              "#ed7953"
             ],
             [
              0.7777777777777778,
              "#fb9f3a"
             ],
             [
              0.8888888888888888,
              "#fdca26"
             ],
             [
              1,
              "#f0f921"
             ]
            ],
            "type": "surface"
           }
          ],
          "table": [
           {
            "cells": {
             "fill": {
              "color": "#EBF0F8"
             },
             "line": {
              "color": "white"
             }
            },
            "header": {
             "fill": {
              "color": "#C8D4E3"
             },
             "line": {
              "color": "white"
             }
            },
            "type": "table"
           }
          ]
         },
         "layout": {
          "annotationdefaults": {
           "arrowcolor": "#2a3f5f",
           "arrowhead": 0,
           "arrowwidth": 1
          },
          "autotypenumbers": "strict",
          "coloraxis": {
           "colorbar": {
            "outlinewidth": 0,
            "ticks": ""
           }
          },
          "colorscale": {
           "diverging": [
            [
             0,
             "#8e0152"
            ],
            [
             0.1,
             "#c51b7d"
            ],
            [
             0.2,
             "#de77ae"
            ],
            [
             0.3,
             "#f1b6da"
            ],
            [
             0.4,
             "#fde0ef"
            ],
            [
             0.5,
             "#f7f7f7"
            ],
            [
             0.6,
             "#e6f5d0"
            ],
            [
             0.7,
             "#b8e186"
            ],
            [
             0.8,
             "#7fbc41"
            ],
            [
             0.9,
             "#4d9221"
            ],
            [
             1,
             "#276419"
            ]
           ],
           "sequential": [
            [
             0,
             "#0d0887"
            ],
            [
             0.1111111111111111,
             "#46039f"
            ],
            [
             0.2222222222222222,
             "#7201a8"
            ],
            [
             0.3333333333333333,
             "#9c179e"
            ],
            [
             0.4444444444444444,
             "#bd3786"
            ],
            [
             0.5555555555555556,
             "#d8576b"
            ],
            [
             0.6666666666666666,
             "#ed7953"
            ],
            [
             0.7777777777777778,
             "#fb9f3a"
            ],
            [
             0.8888888888888888,
             "#fdca26"
            ],
            [
             1,
             "#f0f921"
            ]
           ],
           "sequentialminus": [
            [
             0,
             "#0d0887"
            ],
            [
             0.1111111111111111,
             "#46039f"
            ],
            [
             0.2222222222222222,
             "#7201a8"
            ],
            [
             0.3333333333333333,
             "#9c179e"
            ],
            [
             0.4444444444444444,
             "#bd3786"
            ],
            [
             0.5555555555555556,
             "#d8576b"
            ],
            [
             0.6666666666666666,
             "#ed7953"
            ],
            [
             0.7777777777777778,
             "#fb9f3a"
            ],
            [
             0.8888888888888888,
             "#fdca26"
            ],
            [
             1,
             "#f0f921"
            ]
           ]
          },
          "colorway": [
           "#636efa",
           "#EF553B",
           "#00cc96",
           "#ab63fa",
           "#FFA15A",
           "#19d3f3",
           "#FF6692",
           "#B6E880",
           "#FF97FF",
           "#FECB52"
          ],
          "font": {
           "color": "#2a3f5f"
          },
          "geo": {
           "bgcolor": "white",
           "lakecolor": "white",
           "landcolor": "#E5ECF6",
           "showlakes": true,
           "showland": true,
           "subunitcolor": "white"
          },
          "hoverlabel": {
           "align": "left"
          },
          "hovermode": "closest",
          "mapbox": {
           "style": "light"
          },
          "paper_bgcolor": "white",
          "plot_bgcolor": "#E5ECF6",
          "polar": {
           "angularaxis": {
            "gridcolor": "white",
            "linecolor": "white",
            "ticks": ""
           },
           "bgcolor": "#E5ECF6",
           "radialaxis": {
            "gridcolor": "white",
            "linecolor": "white",
            "ticks": ""
           }
          },
          "scene": {
           "xaxis": {
            "backgroundcolor": "#E5ECF6",
            "gridcolor": "white",
            "gridwidth": 2,
            "linecolor": "white",
            "showbackground": true,
            "ticks": "",
            "zerolinecolor": "white"
           },
           "yaxis": {
            "backgroundcolor": "#E5ECF6",
            "gridcolor": "white",
            "gridwidth": 2,
            "linecolor": "white",
            "showbackground": true,
            "ticks": "",
            "zerolinecolor": "white"
           },
           "zaxis": {
            "backgroundcolor": "#E5ECF6",
            "gridcolor": "white",
            "gridwidth": 2,
            "linecolor": "white",
            "showbackground": true,
            "ticks": "",
            "zerolinecolor": "white"
           }
          },
          "shapedefaults": {
           "line": {
            "color": "#2a3f5f"
           }
          },
          "ternary": {
           "aaxis": {
            "gridcolor": "white",
            "linecolor": "white",
            "ticks": ""
           },
           "baxis": {
            "gridcolor": "white",
            "linecolor": "white",
            "ticks": ""
           },
           "bgcolor": "#E5ECF6",
           "caxis": {
            "gridcolor": "white",
            "linecolor": "white",
            "ticks": ""
           }
          },
          "title": {
           "x": 0.05
          },
          "xaxis": {
           "automargin": true,
           "gridcolor": "white",
           "linecolor": "white",
           "ticks": "",
           "title": {
            "standoff": 15
           },
           "zerolinecolor": "white",
           "zerolinewidth": 2
          },
          "yaxis": {
           "automargin": true,
           "gridcolor": "white",
           "linecolor": "white",
           "ticks": "",
           "title": {
            "standoff": 15
           },
           "zerolinecolor": "white",
           "zerolinewidth": 2
          }
         }
        },
        "xaxis": {
         "anchor": "y",
         "domain": [
          0,
          1
         ],
         "title": {
          "text": "MMAR"
         }
        },
        "yaxis": {
         "anchor": "x",
         "domain": [
          0,
          1
         ],
         "title": {
          "text": "sum of value"
         }
        }
       }
      },
      "text/html": [
       "<div>                            <div id=\"270dcd15-7f79-40d5-94fd-617c66ab1300\" class=\"plotly-graph-div\" style=\"height:525px; width:100%;\"></div>            <script type=\"text/javascript\">                require([\"plotly\"], function(Plotly) {                    window.PLOTLYENV=window.PLOTLYENV || {};                                    if (document.getElementById(\"270dcd15-7f79-40d5-94fd-617c66ab1300\")) {                    Plotly.newPlot(                        \"270dcd15-7f79-40d5-94fd-617c66ab1300\",                        [{\"alignmentgroup\":\"True\",\"bingroup\":\"x\",\"histfunc\":\"sum\",\"hovertemplate\":\"variable=HH<br>MMAR=%{x}<br>sum of value=%{y}<extra></extra>\",\"legendgroup\":\"HH\",\"marker\":{\"color\":\"#636efa\",\"pattern\":{\"shape\":\"\"}},\"name\":\"HH\",\"offsetgroup\":\"HH\",\"orientation\":\"v\",\"showlegend\":true,\"x\":[\"01\",\"02\",\"03\",\"04\",\"05\",\"06\",\"07\",\"08\",\"09\",\"10\",\"11\",\"12\"],\"xaxis\":\"x\",\"y\":[0.0,2.0,5.0,0.0,2.0,4.0,6.0,6.0,2.0,3.0,5.0,0.0],\"yaxis\":\"y\",\"type\":\"histogram\"},{\"alignmentgroup\":\"True\",\"bingroup\":\"x\",\"histfunc\":\"sum\",\"hovertemplate\":\"variable=FF<br>MMAR=%{x}<br>sum of value=%{y}<extra></extra>\",\"legendgroup\":\"FF\",\"marker\":{\"color\":\"#EF553B\",\"pattern\":{\"shape\":\"\"}},\"name\":\"FF\",\"offsetgroup\":\"FF\",\"orientation\":\"v\",\"showlegend\":true,\"x\":[\"01\",\"02\",\"03\",\"04\",\"05\",\"06\",\"07\",\"08\",\"09\",\"10\",\"11\",\"12\"],\"xaxis\":\"x\",\"y\":[0.0,1.0,6.0,0.0,6.0,6.0,7.0,8.0,3.0,1.0,1.0,0.0],\"yaxis\":\"y\",\"type\":\"histogram\"},{\"alignmentgroup\":\"True\",\"bingroup\":\"x\",\"histfunc\":\"sum\",\"hovertemplate\":\"variable=HF<br>MMAR=%{x}<br>sum of value=%{y}<extra></extra>\",\"legendgroup\":\"HF\",\"marker\":{\"color\":\"#00cc96\",\"pattern\":{\"shape\":\"\"}},\"name\":\"HF\",\"offsetgroup\":\"HF\",\"orientation\":\"v\",\"showlegend\":true,\"x\":[\"01\",\"02\",\"03\",\"04\",\"05\",\"06\",\"07\",\"08\",\"09\",\"10\",\"11\",\"12\"],\"xaxis\":\"x\",\"y\":[0.0,61.0,132.0,0.0,234.0,354.0,367.0,342.0,272.0,138.0,76.0,0.0],\"yaxis\":\"y\",\"type\":\"histogram\"},{\"alignmentgroup\":\"True\",\"bingroup\":\"x\",\"histfunc\":\"sum\",\"hovertemplate\":\"variable=TOTAL<br>MMAR=%{x}<br>sum of value=%{y}<extra></extra>\",\"legendgroup\":\"TOTAL\",\"marker\":{\"color\":\"#ab63fa\",\"pattern\":{\"shape\":\"\"}},\"name\":\"TOTAL\",\"offsetgroup\":\"TOTAL\",\"orientation\":\"v\",\"showlegend\":true,\"x\":[\"01\",\"02\",\"03\",\"04\",\"05\",\"06\",\"07\",\"08\",\"09\",\"10\",\"11\",\"12\"],\"xaxis\":\"x\",\"y\":[0.0,64.0,143.0,0.0,242.0,364.0,380.0,356.0,277.0,142.0,82.0,0.0],\"yaxis\":\"y\",\"type\":\"histogram\"}],                        {\"template\":{\"data\":{\"bar\":[{\"error_x\":{\"color\":\"#2a3f5f\"},\"error_y\":{\"color\":\"#2a3f5f\"},\"marker\":{\"line\":{\"color\":\"#E5ECF6\",\"width\":0.5},\"pattern\":{\"fillmode\":\"overlay\",\"size\":10,\"solidity\":0.2}},\"type\":\"bar\"}],\"barpolar\":[{\"marker\":{\"line\":{\"color\":\"#E5ECF6\",\"width\":0.5},\"pattern\":{\"fillmode\":\"overlay\",\"size\":10,\"solidity\":0.2}},\"type\":\"barpolar\"}],\"carpet\":[{\"aaxis\":{\"endlinecolor\":\"#2a3f5f\",\"gridcolor\":\"white\",\"linecolor\":\"white\",\"minorgridcolor\":\"white\",\"startlinecolor\":\"#2a3f5f\"},\"baxis\":{\"endlinecolor\":\"#2a3f5f\",\"gridcolor\":\"white\",\"linecolor\":\"white\",\"minorgridcolor\":\"white\",\"startlinecolor\":\"#2a3f5f\"},\"type\":\"carpet\"}],\"choropleth\":[{\"colorbar\":{\"outlinewidth\":0,\"ticks\":\"\"},\"type\":\"choropleth\"}],\"contour\":[{\"colorbar\":{\"outlinewidth\":0,\"ticks\":\"\"},\"colorscale\":[[0.0,\"#0d0887\"],[0.1111111111111111,\"#46039f\"],[0.2222222222222222,\"#7201a8\"],[0.3333333333333333,\"#9c179e\"],[0.4444444444444444,\"#bd3786\"],[0.5555555555555556,\"#d8576b\"],[0.6666666666666666,\"#ed7953\"],[0.7777777777777778,\"#fb9f3a\"],[0.8888888888888888,\"#fdca26\"],[1.0,\"#f0f921\"]],\"type\":\"contour\"}],\"contourcarpet\":[{\"colorbar\":{\"outlinewidth\":0,\"ticks\":\"\"},\"type\":\"contourcarpet\"}],\"heatmap\":[{\"colorbar\":{\"outlinewidth\":0,\"ticks\":\"\"},\"colorscale\":[[0.0,\"#0d0887\"],[0.1111111111111111,\"#46039f\"],[0.2222222222222222,\"#7201a8\"],[0.3333333333333333,\"#9c179e\"],[0.4444444444444444,\"#bd3786\"],[0.5555555555555556,\"#d8576b\"],[0.6666666666666666,\"#ed7953\"],[0.7777777777777778,\"#fb9f3a\"],[0.8888888888888888,\"#fdca26\"],[1.0,\"#f0f921\"]],\"type\":\"heatmap\"}],\"heatmapgl\":[{\"colorbar\":{\"outlinewidth\":0,\"ticks\":\"\"},\"colorscale\":[[0.0,\"#0d0887\"],[0.1111111111111111,\"#46039f\"],[0.2222222222222222,\"#7201a8\"],[0.3333333333333333,\"#9c179e\"],[0.4444444444444444,\"#bd3786\"],[0.5555555555555556,\"#d8576b\"],[0.6666666666666666,\"#ed7953\"],[0.7777777777777778,\"#fb9f3a\"],[0.8888888888888888,\"#fdca26\"],[1.0,\"#f0f921\"]],\"type\":\"heatmapgl\"}],\"histogram\":[{\"marker\":{\"pattern\":{\"fillmode\":\"overlay\",\"size\":10,\"solidity\":0.2}},\"type\":\"histogram\"}],\"histogram2d\":[{\"colorbar\":{\"outlinewidth\":0,\"ticks\":\"\"},\"colorscale\":[[0.0,\"#0d0887\"],[0.1111111111111111,\"#46039f\"],[0.2222222222222222,\"#7201a8\"],[0.3333333333333333,\"#9c179e\"],[0.4444444444444444,\"#bd3786\"],[0.5555555555555556,\"#d8576b\"],[0.6666666666666666,\"#ed7953\"],[0.7777777777777778,\"#fb9f3a\"],[0.8888888888888888,\"#fdca26\"],[1.0,\"#f0f921\"]],\"type\":\"histogram2d\"}],\"histogram2dcontour\":[{\"colorbar\":{\"outlinewidth\":0,\"ticks\":\"\"},\"colorscale\":[[0.0,\"#0d0887\"],[0.1111111111111111,\"#46039f\"],[0.2222222222222222,\"#7201a8\"],[0.3333333333333333,\"#9c179e\"],[0.4444444444444444,\"#bd3786\"],[0.5555555555555556,\"#d8576b\"],[0.6666666666666666,\"#ed7953\"],[0.7777777777777778,\"#fb9f3a\"],[0.8888888888888888,\"#fdca26\"],[1.0,\"#f0f921\"]],\"type\":\"histogram2dcontour\"}],\"mesh3d\":[{\"colorbar\":{\"outlinewidth\":0,\"ticks\":\"\"},\"type\":\"mesh3d\"}],\"parcoords\":[{\"line\":{\"colorbar\":{\"outlinewidth\":0,\"ticks\":\"\"}},\"type\":\"parcoords\"}],\"pie\":[{\"automargin\":true,\"type\":\"pie\"}],\"scatter\":[{\"marker\":{\"colorbar\":{\"outlinewidth\":0,\"ticks\":\"\"}},\"type\":\"scatter\"}],\"scatter3d\":[{\"line\":{\"colorbar\":{\"outlinewidth\":0,\"ticks\":\"\"}},\"marker\":{\"colorbar\":{\"outlinewidth\":0,\"ticks\":\"\"}},\"type\":\"scatter3d\"}],\"scattercarpet\":[{\"marker\":{\"colorbar\":{\"outlinewidth\":0,\"ticks\":\"\"}},\"type\":\"scattercarpet\"}],\"scattergeo\":[{\"marker\":{\"colorbar\":{\"outlinewidth\":0,\"ticks\":\"\"}},\"type\":\"scattergeo\"}],\"scattergl\":[{\"marker\":{\"colorbar\":{\"outlinewidth\":0,\"ticks\":\"\"}},\"type\":\"scattergl\"}],\"scattermapbox\":[{\"marker\":{\"colorbar\":{\"outlinewidth\":0,\"ticks\":\"\"}},\"type\":\"scattermapbox\"}],\"scatterpolar\":[{\"marker\":{\"colorbar\":{\"outlinewidth\":0,\"ticks\":\"\"}},\"type\":\"scatterpolar\"}],\"scatterpolargl\":[{\"marker\":{\"colorbar\":{\"outlinewidth\":0,\"ticks\":\"\"}},\"type\":\"scatterpolargl\"}],\"scatterternary\":[{\"marker\":{\"colorbar\":{\"outlinewidth\":0,\"ticks\":\"\"}},\"type\":\"scatterternary\"}],\"surface\":[{\"colorbar\":{\"outlinewidth\":0,\"ticks\":\"\"},\"colorscale\":[[0.0,\"#0d0887\"],[0.1111111111111111,\"#46039f\"],[0.2222222222222222,\"#7201a8\"],[0.3333333333333333,\"#9c179e\"],[0.4444444444444444,\"#bd3786\"],[0.5555555555555556,\"#d8576b\"],[0.6666666666666666,\"#ed7953\"],[0.7777777777777778,\"#fb9f3a\"],[0.8888888888888888,\"#fdca26\"],[1.0,\"#f0f921\"]],\"type\":\"surface\"}],\"table\":[{\"cells\":{\"fill\":{\"color\":\"#EBF0F8\"},\"line\":{\"color\":\"white\"}},\"header\":{\"fill\":{\"color\":\"#C8D4E3\"},\"line\":{\"color\":\"white\"}},\"type\":\"table\"}]},\"layout\":{\"annotationdefaults\":{\"arrowcolor\":\"#2a3f5f\",\"arrowhead\":0,\"arrowwidth\":1},\"autotypenumbers\":\"strict\",\"coloraxis\":{\"colorbar\":{\"outlinewidth\":0,\"ticks\":\"\"}},\"colorscale\":{\"diverging\":[[0,\"#8e0152\"],[0.1,\"#c51b7d\"],[0.2,\"#de77ae\"],[0.3,\"#f1b6da\"],[0.4,\"#fde0ef\"],[0.5,\"#f7f7f7\"],[0.6,\"#e6f5d0\"],[0.7,\"#b8e186\"],[0.8,\"#7fbc41\"],[0.9,\"#4d9221\"],[1,\"#276419\"]],\"sequential\":[[0.0,\"#0d0887\"],[0.1111111111111111,\"#46039f\"],[0.2222222222222222,\"#7201a8\"],[0.3333333333333333,\"#9c179e\"],[0.4444444444444444,\"#bd3786\"],[0.5555555555555556,\"#d8576b\"],[0.6666666666666666,\"#ed7953\"],[0.7777777777777778,\"#fb9f3a\"],[0.8888888888888888,\"#fdca26\"],[1.0,\"#f0f921\"]],\"sequentialminus\":[[0.0,\"#0d0887\"],[0.1111111111111111,\"#46039f\"],[0.2222222222222222,\"#7201a8\"],[0.3333333333333333,\"#9c179e\"],[0.4444444444444444,\"#bd3786\"],[0.5555555555555556,\"#d8576b\"],[0.6666666666666666,\"#ed7953\"],[0.7777777777777778,\"#fb9f3a\"],[0.8888888888888888,\"#fdca26\"],[1.0,\"#f0f921\"]]},\"colorway\":[\"#636efa\",\"#EF553B\",\"#00cc96\",\"#ab63fa\",\"#FFA15A\",\"#19d3f3\",\"#FF6692\",\"#B6E880\",\"#FF97FF\",\"#FECB52\"],\"font\":{\"color\":\"#2a3f5f\"},\"geo\":{\"bgcolor\":\"white\",\"lakecolor\":\"white\",\"landcolor\":\"#E5ECF6\",\"showlakes\":true,\"showland\":true,\"subunitcolor\":\"white\"},\"hoverlabel\":{\"align\":\"left\"},\"hovermode\":\"closest\",\"mapbox\":{\"style\":\"light\"},\"paper_bgcolor\":\"white\",\"plot_bgcolor\":\"#E5ECF6\",\"polar\":{\"angularaxis\":{\"gridcolor\":\"white\",\"linecolor\":\"white\",\"ticks\":\"\"},\"bgcolor\":\"#E5ECF6\",\"radialaxis\":{\"gridcolor\":\"white\",\"linecolor\":\"white\",\"ticks\":\"\"}},\"scene\":{\"xaxis\":{\"backgroundcolor\":\"#E5ECF6\",\"gridcolor\":\"white\",\"gridwidth\":2,\"linecolor\":\"white\",\"showbackground\":true,\"ticks\":\"\",\"zerolinecolor\":\"white\"},\"yaxis\":{\"backgroundcolor\":\"#E5ECF6\",\"gridcolor\":\"white\",\"gridwidth\":2,\"linecolor\":\"white\",\"showbackground\":true,\"ticks\":\"\",\"zerolinecolor\":\"white\"},\"zaxis\":{\"backgroundcolor\":\"#E5ECF6\",\"gridcolor\":\"white\",\"gridwidth\":2,\"linecolor\":\"white\",\"showbackground\":true,\"ticks\":\"\",\"zerolinecolor\":\"white\"}},\"shapedefaults\":{\"line\":{\"color\":\"#2a3f5f\"}},\"ternary\":{\"aaxis\":{\"gridcolor\":\"white\",\"linecolor\":\"white\",\"ticks\":\"\"},\"baxis\":{\"gridcolor\":\"white\",\"linecolor\":\"white\",\"ticks\":\"\"},\"bgcolor\":\"#E5ECF6\",\"caxis\":{\"gridcolor\":\"white\",\"linecolor\":\"white\",\"ticks\":\"\"}},\"title\":{\"x\":0.05},\"xaxis\":{\"automargin\":true,\"gridcolor\":\"white\",\"linecolor\":\"white\",\"ticks\":\"\",\"title\":{\"standoff\":15},\"zerolinecolor\":\"white\",\"zerolinewidth\":2},\"yaxis\":{\"automargin\":true,\"gridcolor\":\"white\",\"linecolor\":\"white\",\"ticks\":\"\",\"title\":{\"standoff\":15},\"zerolinecolor\":\"white\",\"zerolinewidth\":2}}},\"xaxis\":{\"anchor\":\"y\",\"domain\":[0.0,1.0],\"title\":{\"text\":\"MMAR\"}},\"yaxis\":{\"anchor\":\"x\",\"domain\":[0.0,1.0],\"title\":{\"text\":\"sum of value\"}},\"legend\":{\"title\":{\"text\":\"variable\"},\"tracegroupgap\":0},\"margin\":{\"t\":60},\"barmode\":\"relative\"},                        {\"responsive\": true}                    ).then(function(){\n",
       "                            \n",
       "var gd = document.getElementById('270dcd15-7f79-40d5-94fd-617c66ab1300');\n",
       "var x = new MutationObserver(function (mutations, observer) {{\n",
       "        var display = window.getComputedStyle(gd).display;\n",
       "        if (!display || display === 'none') {{\n",
       "            console.log([gd, 'removed!']);\n",
       "            Plotly.purge(gd);\n",
       "            observer.disconnect();\n",
       "        }}\n",
       "}});\n",
       "\n",
       "// Listen for the removal of the full notebook cells\n",
       "var notebookContainer = gd.closest('#notebook-container');\n",
       "if (notebookContainer) {{\n",
       "    x.observe(notebookContainer, {childList: true});\n",
       "}}\n",
       "\n",
       "// Listen for the clearing of the current output cell\n",
       "var outputEl = gd.closest('.output');\n",
       "if (outputEl) {{\n",
       "    x.observe(outputEl, {childList: true});\n",
       "}}\n",
       "\n",
       "                        })                };                });            </script>        </div>"
      ]
     },
     "metadata": {},
     "output_type": "display_data"
    }
   ],
   "source": [
    "fig = px.histogram(graph, x = 'MMAR', y = ['HH', 'FF', 'HF', 'TOTAL'])\n",
    "fig.show()"
   ]
  },
  {
   "cell_type": "code",
   "execution_count": 96,
   "metadata": {},
   "outputs": [
    {
     "data": {
      "application/vnd.plotly.v1+json": {
       "config": {
        "plotlyServerURL": "https://plot.ly"
       },
       "data": [
        {
         "alignmentgroup": "True",
         "bingroup": "x",
         "histfunc": "sum",
         "hovertemplate": "MMAR=%{x}<br>sum of TOTAL=%{y}<extra></extra>",
         "legendgroup": "",
         "marker": {
          "color": "#636efa",
          "pattern": {
           "shape": ""
          }
         },
         "name": "",
         "offsetgroup": "",
         "orientation": "v",
         "showlegend": false,
         "type": "histogram",
         "x": [
          "01",
          "02",
          "03",
          "04",
          "05",
          "06",
          "07",
          "08",
          "09",
          "10",
          "11",
          "12"
         ],
         "xaxis": "x",
         "y": [
          0,
          64,
          143,
          0,
          242,
          364,
          380,
          356,
          277,
          142,
          82,
          0
         ],
         "yaxis": "y"
        }
       ],
       "layout": {
        "barmode": "relative",
        "legend": {
         "tracegroupgap": 0
        },
        "margin": {
         "t": 60
        },
        "template": {
         "data": {
          "bar": [
           {
            "error_x": {
             "color": "#2a3f5f"
            },
            "error_y": {
             "color": "#2a3f5f"
            },
            "marker": {
             "line": {
              "color": "#E5ECF6",
              "width": 0.5
             },
             "pattern": {
              "fillmode": "overlay",
              "size": 10,
              "solidity": 0.2
             }
            },
            "type": "bar"
           }
          ],
          "barpolar": [
           {
            "marker": {
             "line": {
              "color": "#E5ECF6",
              "width": 0.5
             },
             "pattern": {
              "fillmode": "overlay",
              "size": 10,
              "solidity": 0.2
             }
            },
            "type": "barpolar"
           }
          ],
          "carpet": [
           {
            "aaxis": {
             "endlinecolor": "#2a3f5f",
             "gridcolor": "white",
             "linecolor": "white",
             "minorgridcolor": "white",
             "startlinecolor": "#2a3f5f"
            },
            "baxis": {
             "endlinecolor": "#2a3f5f",
             "gridcolor": "white",
             "linecolor": "white",
             "minorgridcolor": "white",
             "startlinecolor": "#2a3f5f"
            },
            "type": "carpet"
           }
          ],
          "choropleth": [
           {
            "colorbar": {
             "outlinewidth": 0,
             "ticks": ""
            },
            "type": "choropleth"
           }
          ],
          "contour": [
           {
            "colorbar": {
             "outlinewidth": 0,
             "ticks": ""
            },
            "colorscale": [
             [
              0,
              "#0d0887"
             ],
             [
              0.1111111111111111,
              "#46039f"
             ],
             [
              0.2222222222222222,
              "#7201a8"
             ],
             [
              0.3333333333333333,
              "#9c179e"
             ],
             [
              0.4444444444444444,
              "#bd3786"
             ],
             [
              0.5555555555555556,
              "#d8576b"
             ],
             [
              0.6666666666666666,
              "#ed7953"
             ],
             [
              0.7777777777777778,
              "#fb9f3a"
             ],
             [
              0.8888888888888888,
              "#fdca26"
             ],
             [
              1,
              "#f0f921"
             ]
            ],
            "type": "contour"
           }
          ],
          "contourcarpet": [
           {
            "colorbar": {
             "outlinewidth": 0,
             "ticks": ""
            },
            "type": "contourcarpet"
           }
          ],
          "heatmap": [
           {
            "colorbar": {
             "outlinewidth": 0,
             "ticks": ""
            },
            "colorscale": [
             [
              0,
              "#0d0887"
             ],
             [
              0.1111111111111111,
              "#46039f"
             ],
             [
              0.2222222222222222,
              "#7201a8"
             ],
             [
              0.3333333333333333,
              "#9c179e"
             ],
             [
              0.4444444444444444,
              "#bd3786"
             ],
             [
              0.5555555555555556,
              "#d8576b"
             ],
             [
              0.6666666666666666,
              "#ed7953"
             ],
             [
              0.7777777777777778,
              "#fb9f3a"
             ],
             [
              0.8888888888888888,
              "#fdca26"
             ],
             [
              1,
              "#f0f921"
             ]
            ],
            "type": "heatmap"
           }
          ],
          "heatmapgl": [
           {
            "colorbar": {
             "outlinewidth": 0,
             "ticks": ""
            },
            "colorscale": [
             [
              0,
              "#0d0887"
             ],
             [
              0.1111111111111111,
              "#46039f"
             ],
             [
              0.2222222222222222,
              "#7201a8"
             ],
             [
              0.3333333333333333,
              "#9c179e"
             ],
             [
              0.4444444444444444,
              "#bd3786"
             ],
             [
              0.5555555555555556,
              "#d8576b"
             ],
             [
              0.6666666666666666,
              "#ed7953"
             ],
             [
              0.7777777777777778,
              "#fb9f3a"
             ],
             [
              0.8888888888888888,
              "#fdca26"
             ],
             [
              1,
              "#f0f921"
             ]
            ],
            "type": "heatmapgl"
           }
          ],
          "histogram": [
           {
            "marker": {
             "pattern": {
              "fillmode": "overlay",
              "size": 10,
              "solidity": 0.2
             }
            },
            "type": "histogram"
           }
          ],
          "histogram2d": [
           {
            "colorbar": {
             "outlinewidth": 0,
             "ticks": ""
            },
            "colorscale": [
             [
              0,
              "#0d0887"
             ],
             [
              0.1111111111111111,
              "#46039f"
             ],
             [
              0.2222222222222222,
              "#7201a8"
             ],
             [
              0.3333333333333333,
              "#9c179e"
             ],
             [
              0.4444444444444444,
              "#bd3786"
             ],
             [
              0.5555555555555556,
              "#d8576b"
             ],
             [
              0.6666666666666666,
              "#ed7953"
             ],
             [
              0.7777777777777778,
              "#fb9f3a"
             ],
             [
              0.8888888888888888,
              "#fdca26"
             ],
             [
              1,
              "#f0f921"
             ]
            ],
            "type": "histogram2d"
           }
          ],
          "histogram2dcontour": [
           {
            "colorbar": {
             "outlinewidth": 0,
             "ticks": ""
            },
            "colorscale": [
             [
              0,
              "#0d0887"
             ],
             [
              0.1111111111111111,
              "#46039f"
             ],
             [
              0.2222222222222222,
              "#7201a8"
             ],
             [
              0.3333333333333333,
              "#9c179e"
             ],
             [
              0.4444444444444444,
              "#bd3786"
             ],
             [
              0.5555555555555556,
              "#d8576b"
             ],
             [
              0.6666666666666666,
              "#ed7953"
             ],
             [
              0.7777777777777778,
              "#fb9f3a"
             ],
             [
              0.8888888888888888,
              "#fdca26"
             ],
             [
              1,
              "#f0f921"
             ]
            ],
            "type": "histogram2dcontour"
           }
          ],
          "mesh3d": [
           {
            "colorbar": {
             "outlinewidth": 0,
             "ticks": ""
            },
            "type": "mesh3d"
           }
          ],
          "parcoords": [
           {
            "line": {
             "colorbar": {
              "outlinewidth": 0,
              "ticks": ""
             }
            },
            "type": "parcoords"
           }
          ],
          "pie": [
           {
            "automargin": true,
            "type": "pie"
           }
          ],
          "scatter": [
           {
            "marker": {
             "colorbar": {
              "outlinewidth": 0,
              "ticks": ""
             }
            },
            "type": "scatter"
           }
          ],
          "scatter3d": [
           {
            "line": {
             "colorbar": {
              "outlinewidth": 0,
              "ticks": ""
             }
            },
            "marker": {
             "colorbar": {
              "outlinewidth": 0,
              "ticks": ""
             }
            },
            "type": "scatter3d"
           }
          ],
          "scattercarpet": [
           {
            "marker": {
             "colorbar": {
              "outlinewidth": 0,
              "ticks": ""
             }
            },
            "type": "scattercarpet"
           }
          ],
          "scattergeo": [
           {
            "marker": {
             "colorbar": {
              "outlinewidth": 0,
              "ticks": ""
             }
            },
            "type": "scattergeo"
           }
          ],
          "scattergl": [
           {
            "marker": {
             "colorbar": {
              "outlinewidth": 0,
              "ticks": ""
             }
            },
            "type": "scattergl"
           }
          ],
          "scattermapbox": [
           {
            "marker": {
             "colorbar": {
              "outlinewidth": 0,
              "ticks": ""
             }
            },
            "type": "scattermapbox"
           }
          ],
          "scatterpolar": [
           {
            "marker": {
             "colorbar": {
              "outlinewidth": 0,
              "ticks": ""
             }
            },
            "type": "scatterpolar"
           }
          ],
          "scatterpolargl": [
           {
            "marker": {
             "colorbar": {
              "outlinewidth": 0,
              "ticks": ""
             }
            },
            "type": "scatterpolargl"
           }
          ],
          "scatterternary": [
           {
            "marker": {
             "colorbar": {
              "outlinewidth": 0,
              "ticks": ""
             }
            },
            "type": "scatterternary"
           }
          ],
          "surface": [
           {
            "colorbar": {
             "outlinewidth": 0,
             "ticks": ""
            },
            "colorscale": [
             [
              0,
              "#0d0887"
             ],
             [
              0.1111111111111111,
              "#46039f"
             ],
             [
              0.2222222222222222,
              "#7201a8"
             ],
             [
              0.3333333333333333,
              "#9c179e"
             ],
             [
              0.4444444444444444,
              "#bd3786"
             ],
             [
              0.5555555555555556,
              "#d8576b"
             ],
             [
              0.6666666666666666,
              "#ed7953"
             ],
             [
              0.7777777777777778,
              "#fb9f3a"
             ],
             [
              0.8888888888888888,
              "#fdca26"
             ],
             [
              1,
              "#f0f921"
             ]
            ],
            "type": "surface"
           }
          ],
          "table": [
           {
            "cells": {
             "fill": {
              "color": "#EBF0F8"
             },
             "line": {
              "color": "white"
             }
            },
            "header": {
             "fill": {
              "color": "#C8D4E3"
             },
             "line": {
              "color": "white"
             }
            },
            "type": "table"
           }
          ]
         },
         "layout": {
          "annotationdefaults": {
           "arrowcolor": "#2a3f5f",
           "arrowhead": 0,
           "arrowwidth": 1
          },
          "autotypenumbers": "strict",
          "coloraxis": {
           "colorbar": {
            "outlinewidth": 0,
            "ticks": ""
           }
          },
          "colorscale": {
           "diverging": [
            [
             0,
             "#8e0152"
            ],
            [
             0.1,
             "#c51b7d"
            ],
            [
             0.2,
             "#de77ae"
            ],
            [
             0.3,
             "#f1b6da"
            ],
            [
             0.4,
             "#fde0ef"
            ],
            [
             0.5,
             "#f7f7f7"
            ],
            [
             0.6,
             "#e6f5d0"
            ],
            [
             0.7,
             "#b8e186"
            ],
            [
             0.8,
             "#7fbc41"
            ],
            [
             0.9,
             "#4d9221"
            ],
            [
             1,
             "#276419"
            ]
           ],
           "sequential": [
            [
             0,
             "#0d0887"
            ],
            [
             0.1111111111111111,
             "#46039f"
            ],
            [
             0.2222222222222222,
             "#7201a8"
            ],
            [
             0.3333333333333333,
             "#9c179e"
            ],
            [
             0.4444444444444444,
             "#bd3786"
            ],
            [
             0.5555555555555556,
             "#d8576b"
            ],
            [
             0.6666666666666666,
             "#ed7953"
            ],
            [
             0.7777777777777778,
             "#fb9f3a"
            ],
            [
             0.8888888888888888,
             "#fdca26"
            ],
            [
             1,
             "#f0f921"
            ]
           ],
           "sequentialminus": [
            [
             0,
             "#0d0887"
            ],
            [
             0.1111111111111111,
             "#46039f"
            ],
            [
             0.2222222222222222,
             "#7201a8"
            ],
            [
             0.3333333333333333,
             "#9c179e"
            ],
            [
             0.4444444444444444,
             "#bd3786"
            ],
            [
             0.5555555555555556,
             "#d8576b"
            ],
            [
             0.6666666666666666,
             "#ed7953"
            ],
            [
             0.7777777777777778,
             "#fb9f3a"
            ],
            [
             0.8888888888888888,
             "#fdca26"
            ],
            [
             1,
             "#f0f921"
            ]
           ]
          },
          "colorway": [
           "#636efa",
           "#EF553B",
           "#00cc96",
           "#ab63fa",
           "#FFA15A",
           "#19d3f3",
           "#FF6692",
           "#B6E880",
           "#FF97FF",
           "#FECB52"
          ],
          "font": {
           "color": "#2a3f5f"
          },
          "geo": {
           "bgcolor": "white",
           "lakecolor": "white",
           "landcolor": "#E5ECF6",
           "showlakes": true,
           "showland": true,
           "subunitcolor": "white"
          },
          "hoverlabel": {
           "align": "left"
          },
          "hovermode": "closest",
          "mapbox": {
           "style": "light"
          },
          "paper_bgcolor": "white",
          "plot_bgcolor": "#E5ECF6",
          "polar": {
           "angularaxis": {
            "gridcolor": "white",
            "linecolor": "white",
            "ticks": ""
           },
           "bgcolor": "#E5ECF6",
           "radialaxis": {
            "gridcolor": "white",
            "linecolor": "white",
            "ticks": ""
           }
          },
          "scene": {
           "xaxis": {
            "backgroundcolor": "#E5ECF6",
            "gridcolor": "white",
            "gridwidth": 2,
            "linecolor": "white",
            "showbackground": true,
            "ticks": "",
            "zerolinecolor": "white"
           },
           "yaxis": {
            "backgroundcolor": "#E5ECF6",
            "gridcolor": "white",
            "gridwidth": 2,
            "linecolor": "white",
            "showbackground": true,
            "ticks": "",
            "zerolinecolor": "white"
           },
           "zaxis": {
            "backgroundcolor": "#E5ECF6",
            "gridcolor": "white",
            "gridwidth": 2,
            "linecolor": "white",
            "showbackground": true,
            "ticks": "",
            "zerolinecolor": "white"
           }
          },
          "shapedefaults": {
           "line": {
            "color": "#2a3f5f"
           }
          },
          "ternary": {
           "aaxis": {
            "gridcolor": "white",
            "linecolor": "white",
            "ticks": ""
           },
           "baxis": {
            "gridcolor": "white",
            "linecolor": "white",
            "ticks": ""
           },
           "bgcolor": "#E5ECF6",
           "caxis": {
            "gridcolor": "white",
            "linecolor": "white",
            "ticks": ""
           }
          },
          "title": {
           "x": 0.05
          },
          "xaxis": {
           "automargin": true,
           "gridcolor": "white",
           "linecolor": "white",
           "ticks": "",
           "title": {
            "standoff": 15
           },
           "zerolinecolor": "white",
           "zerolinewidth": 2
          },
          "yaxis": {
           "automargin": true,
           "gridcolor": "white",
           "linecolor": "white",
           "ticks": "",
           "title": {
            "standoff": 15
           },
           "zerolinecolor": "white",
           "zerolinewidth": 2
          }
         }
        },
        "xaxis": {
         "anchor": "y",
         "domain": [
          0,
          1
         ],
         "title": {
          "text": "MMAR"
         }
        },
        "yaxis": {
         "anchor": "x",
         "domain": [
          0,
          1
         ],
         "title": {
          "text": "sum of TOTAL"
         }
        }
       }
      },
      "text/html": [
       "<div>                            <div id=\"72f78fbc-60b0-4f7e-a46c-546b089738ad\" class=\"plotly-graph-div\" style=\"height:525px; width:100%;\"></div>            <script type=\"text/javascript\">                require([\"plotly\"], function(Plotly) {                    window.PLOTLYENV=window.PLOTLYENV || {};                                    if (document.getElementById(\"72f78fbc-60b0-4f7e-a46c-546b089738ad\")) {                    Plotly.newPlot(                        \"72f78fbc-60b0-4f7e-a46c-546b089738ad\",                        [{\"alignmentgroup\":\"True\",\"bingroup\":\"x\",\"histfunc\":\"sum\",\"hovertemplate\":\"MMAR=%{x}<br>sum of TOTAL=%{y}<extra></extra>\",\"legendgroup\":\"\",\"marker\":{\"color\":\"#636efa\",\"pattern\":{\"shape\":\"\"}},\"name\":\"\",\"offsetgroup\":\"\",\"orientation\":\"v\",\"showlegend\":false,\"x\":[\"01\",\"02\",\"03\",\"04\",\"05\",\"06\",\"07\",\"08\",\"09\",\"10\",\"11\",\"12\"],\"xaxis\":\"x\",\"y\":[0.0,64.0,143.0,0.0,242.0,364.0,380.0,356.0,277.0,142.0,82.0,0.0],\"yaxis\":\"y\",\"type\":\"histogram\"}],                        {\"template\":{\"data\":{\"bar\":[{\"error_x\":{\"color\":\"#2a3f5f\"},\"error_y\":{\"color\":\"#2a3f5f\"},\"marker\":{\"line\":{\"color\":\"#E5ECF6\",\"width\":0.5},\"pattern\":{\"fillmode\":\"overlay\",\"size\":10,\"solidity\":0.2}},\"type\":\"bar\"}],\"barpolar\":[{\"marker\":{\"line\":{\"color\":\"#E5ECF6\",\"width\":0.5},\"pattern\":{\"fillmode\":\"overlay\",\"size\":10,\"solidity\":0.2}},\"type\":\"barpolar\"}],\"carpet\":[{\"aaxis\":{\"endlinecolor\":\"#2a3f5f\",\"gridcolor\":\"white\",\"linecolor\":\"white\",\"minorgridcolor\":\"white\",\"startlinecolor\":\"#2a3f5f\"},\"baxis\":{\"endlinecolor\":\"#2a3f5f\",\"gridcolor\":\"white\",\"linecolor\":\"white\",\"minorgridcolor\":\"white\",\"startlinecolor\":\"#2a3f5f\"},\"type\":\"carpet\"}],\"choropleth\":[{\"colorbar\":{\"outlinewidth\":0,\"ticks\":\"\"},\"type\":\"choropleth\"}],\"contour\":[{\"colorbar\":{\"outlinewidth\":0,\"ticks\":\"\"},\"colorscale\":[[0.0,\"#0d0887\"],[0.1111111111111111,\"#46039f\"],[0.2222222222222222,\"#7201a8\"],[0.3333333333333333,\"#9c179e\"],[0.4444444444444444,\"#bd3786\"],[0.5555555555555556,\"#d8576b\"],[0.6666666666666666,\"#ed7953\"],[0.7777777777777778,\"#fb9f3a\"],[0.8888888888888888,\"#fdca26\"],[1.0,\"#f0f921\"]],\"type\":\"contour\"}],\"contourcarpet\":[{\"colorbar\":{\"outlinewidth\":0,\"ticks\":\"\"},\"type\":\"contourcarpet\"}],\"heatmap\":[{\"colorbar\":{\"outlinewidth\":0,\"ticks\":\"\"},\"colorscale\":[[0.0,\"#0d0887\"],[0.1111111111111111,\"#46039f\"],[0.2222222222222222,\"#7201a8\"],[0.3333333333333333,\"#9c179e\"],[0.4444444444444444,\"#bd3786\"],[0.5555555555555556,\"#d8576b\"],[0.6666666666666666,\"#ed7953\"],[0.7777777777777778,\"#fb9f3a\"],[0.8888888888888888,\"#fdca26\"],[1.0,\"#f0f921\"]],\"type\":\"heatmap\"}],\"heatmapgl\":[{\"colorbar\":{\"outlinewidth\":0,\"ticks\":\"\"},\"colorscale\":[[0.0,\"#0d0887\"],[0.1111111111111111,\"#46039f\"],[0.2222222222222222,\"#7201a8\"],[0.3333333333333333,\"#9c179e\"],[0.4444444444444444,\"#bd3786\"],[0.5555555555555556,\"#d8576b\"],[0.6666666666666666,\"#ed7953\"],[0.7777777777777778,\"#fb9f3a\"],[0.8888888888888888,\"#fdca26\"],[1.0,\"#f0f921\"]],\"type\":\"heatmapgl\"}],\"histogram\":[{\"marker\":{\"pattern\":{\"fillmode\":\"overlay\",\"size\":10,\"solidity\":0.2}},\"type\":\"histogram\"}],\"histogram2d\":[{\"colorbar\":{\"outlinewidth\":0,\"ticks\":\"\"},\"colorscale\":[[0.0,\"#0d0887\"],[0.1111111111111111,\"#46039f\"],[0.2222222222222222,\"#7201a8\"],[0.3333333333333333,\"#9c179e\"],[0.4444444444444444,\"#bd3786\"],[0.5555555555555556,\"#d8576b\"],[0.6666666666666666,\"#ed7953\"],[0.7777777777777778,\"#fb9f3a\"],[0.8888888888888888,\"#fdca26\"],[1.0,\"#f0f921\"]],\"type\":\"histogram2d\"}],\"histogram2dcontour\":[{\"colorbar\":{\"outlinewidth\":0,\"ticks\":\"\"},\"colorscale\":[[0.0,\"#0d0887\"],[0.1111111111111111,\"#46039f\"],[0.2222222222222222,\"#7201a8\"],[0.3333333333333333,\"#9c179e\"],[0.4444444444444444,\"#bd3786\"],[0.5555555555555556,\"#d8576b\"],[0.6666666666666666,\"#ed7953\"],[0.7777777777777778,\"#fb9f3a\"],[0.8888888888888888,\"#fdca26\"],[1.0,\"#f0f921\"]],\"type\":\"histogram2dcontour\"}],\"mesh3d\":[{\"colorbar\":{\"outlinewidth\":0,\"ticks\":\"\"},\"type\":\"mesh3d\"}],\"parcoords\":[{\"line\":{\"colorbar\":{\"outlinewidth\":0,\"ticks\":\"\"}},\"type\":\"parcoords\"}],\"pie\":[{\"automargin\":true,\"type\":\"pie\"}],\"scatter\":[{\"marker\":{\"colorbar\":{\"outlinewidth\":0,\"ticks\":\"\"}},\"type\":\"scatter\"}],\"scatter3d\":[{\"line\":{\"colorbar\":{\"outlinewidth\":0,\"ticks\":\"\"}},\"marker\":{\"colorbar\":{\"outlinewidth\":0,\"ticks\":\"\"}},\"type\":\"scatter3d\"}],\"scattercarpet\":[{\"marker\":{\"colorbar\":{\"outlinewidth\":0,\"ticks\":\"\"}},\"type\":\"scattercarpet\"}],\"scattergeo\":[{\"marker\":{\"colorbar\":{\"outlinewidth\":0,\"ticks\":\"\"}},\"type\":\"scattergeo\"}],\"scattergl\":[{\"marker\":{\"colorbar\":{\"outlinewidth\":0,\"ticks\":\"\"}},\"type\":\"scattergl\"}],\"scattermapbox\":[{\"marker\":{\"colorbar\":{\"outlinewidth\":0,\"ticks\":\"\"}},\"type\":\"scattermapbox\"}],\"scatterpolar\":[{\"marker\":{\"colorbar\":{\"outlinewidth\":0,\"ticks\":\"\"}},\"type\":\"scatterpolar\"}],\"scatterpolargl\":[{\"marker\":{\"colorbar\":{\"outlinewidth\":0,\"ticks\":\"\"}},\"type\":\"scatterpolargl\"}],\"scatterternary\":[{\"marker\":{\"colorbar\":{\"outlinewidth\":0,\"ticks\":\"\"}},\"type\":\"scatterternary\"}],\"surface\":[{\"colorbar\":{\"outlinewidth\":0,\"ticks\":\"\"},\"colorscale\":[[0.0,\"#0d0887\"],[0.1111111111111111,\"#46039f\"],[0.2222222222222222,\"#7201a8\"],[0.3333333333333333,\"#9c179e\"],[0.4444444444444444,\"#bd3786\"],[0.5555555555555556,\"#d8576b\"],[0.6666666666666666,\"#ed7953\"],[0.7777777777777778,\"#fb9f3a\"],[0.8888888888888888,\"#fdca26\"],[1.0,\"#f0f921\"]],\"type\":\"surface\"}],\"table\":[{\"cells\":{\"fill\":{\"color\":\"#EBF0F8\"},\"line\":{\"color\":\"white\"}},\"header\":{\"fill\":{\"color\":\"#C8D4E3\"},\"line\":{\"color\":\"white\"}},\"type\":\"table\"}]},\"layout\":{\"annotationdefaults\":{\"arrowcolor\":\"#2a3f5f\",\"arrowhead\":0,\"arrowwidth\":1},\"autotypenumbers\":\"strict\",\"coloraxis\":{\"colorbar\":{\"outlinewidth\":0,\"ticks\":\"\"}},\"colorscale\":{\"diverging\":[[0,\"#8e0152\"],[0.1,\"#c51b7d\"],[0.2,\"#de77ae\"],[0.3,\"#f1b6da\"],[0.4,\"#fde0ef\"],[0.5,\"#f7f7f7\"],[0.6,\"#e6f5d0\"],[0.7,\"#b8e186\"],[0.8,\"#7fbc41\"],[0.9,\"#4d9221\"],[1,\"#276419\"]],\"sequential\":[[0.0,\"#0d0887\"],[0.1111111111111111,\"#46039f\"],[0.2222222222222222,\"#7201a8\"],[0.3333333333333333,\"#9c179e\"],[0.4444444444444444,\"#bd3786\"],[0.5555555555555556,\"#d8576b\"],[0.6666666666666666,\"#ed7953\"],[0.7777777777777778,\"#fb9f3a\"],[0.8888888888888888,\"#fdca26\"],[1.0,\"#f0f921\"]],\"sequentialminus\":[[0.0,\"#0d0887\"],[0.1111111111111111,\"#46039f\"],[0.2222222222222222,\"#7201a8\"],[0.3333333333333333,\"#9c179e\"],[0.4444444444444444,\"#bd3786\"],[0.5555555555555556,\"#d8576b\"],[0.6666666666666666,\"#ed7953\"],[0.7777777777777778,\"#fb9f3a\"],[0.8888888888888888,\"#fdca26\"],[1.0,\"#f0f921\"]]},\"colorway\":[\"#636efa\",\"#EF553B\",\"#00cc96\",\"#ab63fa\",\"#FFA15A\",\"#19d3f3\",\"#FF6692\",\"#B6E880\",\"#FF97FF\",\"#FECB52\"],\"font\":{\"color\":\"#2a3f5f\"},\"geo\":{\"bgcolor\":\"white\",\"lakecolor\":\"white\",\"landcolor\":\"#E5ECF6\",\"showlakes\":true,\"showland\":true,\"subunitcolor\":\"white\"},\"hoverlabel\":{\"align\":\"left\"},\"hovermode\":\"closest\",\"mapbox\":{\"style\":\"light\"},\"paper_bgcolor\":\"white\",\"plot_bgcolor\":\"#E5ECF6\",\"polar\":{\"angularaxis\":{\"gridcolor\":\"white\",\"linecolor\":\"white\",\"ticks\":\"\"},\"bgcolor\":\"#E5ECF6\",\"radialaxis\":{\"gridcolor\":\"white\",\"linecolor\":\"white\",\"ticks\":\"\"}},\"scene\":{\"xaxis\":{\"backgroundcolor\":\"#E5ECF6\",\"gridcolor\":\"white\",\"gridwidth\":2,\"linecolor\":\"white\",\"showbackground\":true,\"ticks\":\"\",\"zerolinecolor\":\"white\"},\"yaxis\":{\"backgroundcolor\":\"#E5ECF6\",\"gridcolor\":\"white\",\"gridwidth\":2,\"linecolor\":\"white\",\"showbackground\":true,\"ticks\":\"\",\"zerolinecolor\":\"white\"},\"zaxis\":{\"backgroundcolor\":\"#E5ECF6\",\"gridcolor\":\"white\",\"gridwidth\":2,\"linecolor\":\"white\",\"showbackground\":true,\"ticks\":\"\",\"zerolinecolor\":\"white\"}},\"shapedefaults\":{\"line\":{\"color\":\"#2a3f5f\"}},\"ternary\":{\"aaxis\":{\"gridcolor\":\"white\",\"linecolor\":\"white\",\"ticks\":\"\"},\"baxis\":{\"gridcolor\":\"white\",\"linecolor\":\"white\",\"ticks\":\"\"},\"bgcolor\":\"#E5ECF6\",\"caxis\":{\"gridcolor\":\"white\",\"linecolor\":\"white\",\"ticks\":\"\"}},\"title\":{\"x\":0.05},\"xaxis\":{\"automargin\":true,\"gridcolor\":\"white\",\"linecolor\":\"white\",\"ticks\":\"\",\"title\":{\"standoff\":15},\"zerolinecolor\":\"white\",\"zerolinewidth\":2},\"yaxis\":{\"automargin\":true,\"gridcolor\":\"white\",\"linecolor\":\"white\",\"ticks\":\"\",\"title\":{\"standoff\":15},\"zerolinecolor\":\"white\",\"zerolinewidth\":2}}},\"xaxis\":{\"anchor\":\"y\",\"domain\":[0.0,1.0],\"title\":{\"text\":\"MMAR\"}},\"yaxis\":{\"anchor\":\"x\",\"domain\":[0.0,1.0],\"title\":{\"text\":\"sum of TOTAL\"}},\"legend\":{\"tracegroupgap\":0},\"margin\":{\"t\":60},\"barmode\":\"relative\"},                        {\"responsive\": true}                    ).then(function(){\n",
       "                            \n",
       "var gd = document.getElementById('72f78fbc-60b0-4f7e-a46c-546b089738ad');\n",
       "var x = new MutationObserver(function (mutations, observer) {{\n",
       "        var display = window.getComputedStyle(gd).display;\n",
       "        if (!display || display === 'none') {{\n",
       "            console.log([gd, 'removed!']);\n",
       "            Plotly.purge(gd);\n",
       "            observer.disconnect();\n",
       "        }}\n",
       "}});\n",
       "\n",
       "// Listen for the removal of the full notebook cells\n",
       "var notebookContainer = gd.closest('#notebook-container');\n",
       "if (notebookContainer) {{\n",
       "    x.observe(notebookContainer, {childList: true});\n",
       "}}\n",
       "\n",
       "// Listen for the clearing of the current output cell\n",
       "var outputEl = gd.closest('.output');\n",
       "if (outputEl) {{\n",
       "    x.observe(outputEl, {childList: true});\n",
       "}}\n",
       "\n",
       "                        })                };                });            </script>        </div>"
      ]
     },
     "metadata": {},
     "output_type": "display_data"
    }
   ],
   "source": [
    "fig = px.histogram(graph, x = 'MMAR', y = 'TOTAL')\n",
    "fig.show()"
   ]
  },
  {
   "cell_type": "code",
   "execution_count": 120,
   "metadata": {
    "scrolled": false
   },
   "outputs": [
    {
     "data": {
      "application/vnd.plotly.v1+json": {
       "config": {
        "plotlyServerURL": "https://plot.ly"
       },
       "data": [
        {
         "alignmentgroup": "True",
         "bingroup": "x",
         "histfunc": "sum",
         "hovertemplate": "variable=HH<br>MMAR=%{x}<br>sum of value=%{y}<extra></extra>",
         "legendgroup": "HH",
         "marker": {
          "color": "#636efa",
          "pattern": {
           "shape": ""
          }
         },
         "name": "HH",
         "offsetgroup": "HH",
         "orientation": "v",
         "showlegend": true,
         "type": "histogram",
         "x": [
          "01",
          "02",
          "03",
          "04",
          "05",
          "06",
          "07",
          "08",
          "09",
          "10",
          "11",
          "12"
         ],
         "xaxis": "x",
         "y": [
          0,
          2,
          5,
          0,
          2,
          4,
          6,
          6,
          2,
          3,
          5,
          0
         ],
         "yaxis": "y"
        },
        {
         "alignmentgroup": "True",
         "bingroup": "x",
         "histfunc": "sum",
         "hovertemplate": "variable=FF<br>MMAR=%{x}<br>sum of value=%{y}<extra></extra>",
         "legendgroup": "FF",
         "marker": {
          "color": "#EF553B",
          "pattern": {
           "shape": ""
          }
         },
         "name": "FF",
         "offsetgroup": "FF",
         "orientation": "v",
         "showlegend": true,
         "type": "histogram",
         "x": [
          "01",
          "02",
          "03",
          "04",
          "05",
          "06",
          "07",
          "08",
          "09",
          "10",
          "11",
          "12"
         ],
         "xaxis": "x",
         "y": [
          0,
          1,
          6,
          0,
          6,
          6,
          7,
          8,
          3,
          1,
          1,
          0
         ],
         "yaxis": "y"
        },
        {
         "alignmentgroup": "True",
         "bingroup": "x",
         "histfunc": "sum",
         "hovertemplate": "variable=HF<br>MMAR=%{x}<br>sum of value=%{y}<extra></extra>",
         "legendgroup": "HF",
         "marker": {
          "color": "#00cc96",
          "pattern": {
           "shape": ""
          }
         },
         "name": "HF",
         "offsetgroup": "HF",
         "orientation": "v",
         "showlegend": true,
         "type": "histogram",
         "x": [
          "01",
          "02",
          "03",
          "04",
          "05",
          "06",
          "07",
          "08",
          "09",
          "10",
          "11",
          "12"
         ],
         "xaxis": "x",
         "y": [
          0,
          61,
          132,
          0,
          234,
          354,
          367,
          342,
          272,
          138,
          76,
          0
         ],
         "yaxis": "y"
        }
       ],
       "layout": {
        "barmode": "relative",
        "legend": {
         "title": {
          "text": "variable"
         },
         "tracegroupgap": 0
        },
        "margin": {
         "t": 60
        },
        "template": {
         "data": {
          "bar": [
           {
            "error_x": {
             "color": "#2a3f5f"
            },
            "error_y": {
             "color": "#2a3f5f"
            },
            "marker": {
             "line": {
              "color": "#E5ECF6",
              "width": 0.5
             },
             "pattern": {
              "fillmode": "overlay",
              "size": 10,
              "solidity": 0.2
             }
            },
            "type": "bar"
           }
          ],
          "barpolar": [
           {
            "marker": {
             "line": {
              "color": "#E5ECF6",
              "width": 0.5
             },
             "pattern": {
              "fillmode": "overlay",
              "size": 10,
              "solidity": 0.2
             }
            },
            "type": "barpolar"
           }
          ],
          "carpet": [
           {
            "aaxis": {
             "endlinecolor": "#2a3f5f",
             "gridcolor": "white",
             "linecolor": "white",
             "minorgridcolor": "white",
             "startlinecolor": "#2a3f5f"
            },
            "baxis": {
             "endlinecolor": "#2a3f5f",
             "gridcolor": "white",
             "linecolor": "white",
             "minorgridcolor": "white",
             "startlinecolor": "#2a3f5f"
            },
            "type": "carpet"
           }
          ],
          "choropleth": [
           {
            "colorbar": {
             "outlinewidth": 0,
             "ticks": ""
            },
            "type": "choropleth"
           }
          ],
          "contour": [
           {
            "colorbar": {
             "outlinewidth": 0,
             "ticks": ""
            },
            "colorscale": [
             [
              0,
              "#0d0887"
             ],
             [
              0.1111111111111111,
              "#46039f"
             ],
             [
              0.2222222222222222,
              "#7201a8"
             ],
             [
              0.3333333333333333,
              "#9c179e"
             ],
             [
              0.4444444444444444,
              "#bd3786"
             ],
             [
              0.5555555555555556,
              "#d8576b"
             ],
             [
              0.6666666666666666,
              "#ed7953"
             ],
             [
              0.7777777777777778,
              "#fb9f3a"
             ],
             [
              0.8888888888888888,
              "#fdca26"
             ],
             [
              1,
              "#f0f921"
             ]
            ],
            "type": "contour"
           }
          ],
          "contourcarpet": [
           {
            "colorbar": {
             "outlinewidth": 0,
             "ticks": ""
            },
            "type": "contourcarpet"
           }
          ],
          "heatmap": [
           {
            "colorbar": {
             "outlinewidth": 0,
             "ticks": ""
            },
            "colorscale": [
             [
              0,
              "#0d0887"
             ],
             [
              0.1111111111111111,
              "#46039f"
             ],
             [
              0.2222222222222222,
              "#7201a8"
             ],
             [
              0.3333333333333333,
              "#9c179e"
             ],
             [
              0.4444444444444444,
              "#bd3786"
             ],
             [
              0.5555555555555556,
              "#d8576b"
             ],
             [
              0.6666666666666666,
              "#ed7953"
             ],
             [
              0.7777777777777778,
              "#fb9f3a"
             ],
             [
              0.8888888888888888,
              "#fdca26"
             ],
             [
              1,
              "#f0f921"
             ]
            ],
            "type": "heatmap"
           }
          ],
          "heatmapgl": [
           {
            "colorbar": {
             "outlinewidth": 0,
             "ticks": ""
            },
            "colorscale": [
             [
              0,
              "#0d0887"
             ],
             [
              0.1111111111111111,
              "#46039f"
             ],
             [
              0.2222222222222222,
              "#7201a8"
             ],
             [
              0.3333333333333333,
              "#9c179e"
             ],
             [
              0.4444444444444444,
              "#bd3786"
             ],
             [
              0.5555555555555556,
              "#d8576b"
             ],
             [
              0.6666666666666666,
              "#ed7953"
             ],
             [
              0.7777777777777778,
              "#fb9f3a"
             ],
             [
              0.8888888888888888,
              "#fdca26"
             ],
             [
              1,
              "#f0f921"
             ]
            ],
            "type": "heatmapgl"
           }
          ],
          "histogram": [
           {
            "marker": {
             "pattern": {
              "fillmode": "overlay",
              "size": 10,
              "solidity": 0.2
             }
            },
            "type": "histogram"
           }
          ],
          "histogram2d": [
           {
            "colorbar": {
             "outlinewidth": 0,
             "ticks": ""
            },
            "colorscale": [
             [
              0,
              "#0d0887"
             ],
             [
              0.1111111111111111,
              "#46039f"
             ],
             [
              0.2222222222222222,
              "#7201a8"
             ],
             [
              0.3333333333333333,
              "#9c179e"
             ],
             [
              0.4444444444444444,
              "#bd3786"
             ],
             [
              0.5555555555555556,
              "#d8576b"
             ],
             [
              0.6666666666666666,
              "#ed7953"
             ],
             [
              0.7777777777777778,
              "#fb9f3a"
             ],
             [
              0.8888888888888888,
              "#fdca26"
             ],
             [
              1,
              "#f0f921"
             ]
            ],
            "type": "histogram2d"
           }
          ],
          "histogram2dcontour": [
           {
            "colorbar": {
             "outlinewidth": 0,
             "ticks": ""
            },
            "colorscale": [
             [
              0,
              "#0d0887"
             ],
             [
              0.1111111111111111,
              "#46039f"
             ],
             [
              0.2222222222222222,
              "#7201a8"
             ],
             [
              0.3333333333333333,
              "#9c179e"
             ],
             [
              0.4444444444444444,
              "#bd3786"
             ],
             [
              0.5555555555555556,
              "#d8576b"
             ],
             [
              0.6666666666666666,
              "#ed7953"
             ],
             [
              0.7777777777777778,
              "#fb9f3a"
             ],
             [
              0.8888888888888888,
              "#fdca26"
             ],
             [
              1,
              "#f0f921"
             ]
            ],
            "type": "histogram2dcontour"
           }
          ],
          "mesh3d": [
           {
            "colorbar": {
             "outlinewidth": 0,
             "ticks": ""
            },
            "type": "mesh3d"
           }
          ],
          "parcoords": [
           {
            "line": {
             "colorbar": {
              "outlinewidth": 0,
              "ticks": ""
             }
            },
            "type": "parcoords"
           }
          ],
          "pie": [
           {
            "automargin": true,
            "type": "pie"
           }
          ],
          "scatter": [
           {
            "marker": {
             "colorbar": {
              "outlinewidth": 0,
              "ticks": ""
             }
            },
            "type": "scatter"
           }
          ],
          "scatter3d": [
           {
            "line": {
             "colorbar": {
              "outlinewidth": 0,
              "ticks": ""
             }
            },
            "marker": {
             "colorbar": {
              "outlinewidth": 0,
              "ticks": ""
             }
            },
            "type": "scatter3d"
           }
          ],
          "scattercarpet": [
           {
            "marker": {
             "colorbar": {
              "outlinewidth": 0,
              "ticks": ""
             }
            },
            "type": "scattercarpet"
           }
          ],
          "scattergeo": [
           {
            "marker": {
             "colorbar": {
              "outlinewidth": 0,
              "ticks": ""
             }
            },
            "type": "scattergeo"
           }
          ],
          "scattergl": [
           {
            "marker": {
             "colorbar": {
              "outlinewidth": 0,
              "ticks": ""
             }
            },
            "type": "scattergl"
           }
          ],
          "scattermapbox": [
           {
            "marker": {
             "colorbar": {
              "outlinewidth": 0,
              "ticks": ""
             }
            },
            "type": "scattermapbox"
           }
          ],
          "scatterpolar": [
           {
            "marker": {
             "colorbar": {
              "outlinewidth": 0,
              "ticks": ""
             }
            },
            "type": "scatterpolar"
           }
          ],
          "scatterpolargl": [
           {
            "marker": {
             "colorbar": {
              "outlinewidth": 0,
              "ticks": ""
             }
            },
            "type": "scatterpolargl"
           }
          ],
          "scatterternary": [
           {
            "marker": {
             "colorbar": {
              "outlinewidth": 0,
              "ticks": ""
             }
            },
            "type": "scatterternary"
           }
          ],
          "surface": [
           {
            "colorbar": {
             "outlinewidth": 0,
             "ticks": ""
            },
            "colorscale": [
             [
              0,
              "#0d0887"
             ],
             [
              0.1111111111111111,
              "#46039f"
             ],
             [
              0.2222222222222222,
              "#7201a8"
             ],
             [
              0.3333333333333333,
              "#9c179e"
             ],
             [
              0.4444444444444444,
              "#bd3786"
             ],
             [
              0.5555555555555556,
              "#d8576b"
             ],
             [
              0.6666666666666666,
              "#ed7953"
             ],
             [
              0.7777777777777778,
              "#fb9f3a"
             ],
             [
              0.8888888888888888,
              "#fdca26"
             ],
             [
              1,
              "#f0f921"
             ]
            ],
            "type": "surface"
           }
          ],
          "table": [
           {
            "cells": {
             "fill": {
              "color": "#EBF0F8"
             },
             "line": {
              "color": "white"
             }
            },
            "header": {
             "fill": {
              "color": "#C8D4E3"
             },
             "line": {
              "color": "white"
             }
            },
            "type": "table"
           }
          ]
         },
         "layout": {
          "annotationdefaults": {
           "arrowcolor": "#2a3f5f",
           "arrowhead": 0,
           "arrowwidth": 1
          },
          "autotypenumbers": "strict",
          "coloraxis": {
           "colorbar": {
            "outlinewidth": 0,
            "ticks": ""
           }
          },
          "colorscale": {
           "diverging": [
            [
             0,
             "#8e0152"
            ],
            [
             0.1,
             "#c51b7d"
            ],
            [
             0.2,
             "#de77ae"
            ],
            [
             0.3,
             "#f1b6da"
            ],
            [
             0.4,
             "#fde0ef"
            ],
            [
             0.5,
             "#f7f7f7"
            ],
            [
             0.6,
             "#e6f5d0"
            ],
            [
             0.7,
             "#b8e186"
            ],
            [
             0.8,
             "#7fbc41"
            ],
            [
             0.9,
             "#4d9221"
            ],
            [
             1,
             "#276419"
            ]
           ],
           "sequential": [
            [
             0,
             "#0d0887"
            ],
            [
             0.1111111111111111,
             "#46039f"
            ],
            [
             0.2222222222222222,
             "#7201a8"
            ],
            [
             0.3333333333333333,
             "#9c179e"
            ],
            [
             0.4444444444444444,
             "#bd3786"
            ],
            [
             0.5555555555555556,
             "#d8576b"
            ],
            [
             0.6666666666666666,
             "#ed7953"
            ],
            [
             0.7777777777777778,
             "#fb9f3a"
            ],
            [
             0.8888888888888888,
             "#fdca26"
            ],
            [
             1,
             "#f0f921"
            ]
           ],
           "sequentialminus": [
            [
             0,
             "#0d0887"
            ],
            [
             0.1111111111111111,
             "#46039f"
            ],
            [
             0.2222222222222222,
             "#7201a8"
            ],
            [
             0.3333333333333333,
             "#9c179e"
            ],
            [
             0.4444444444444444,
             "#bd3786"
            ],
            [
             0.5555555555555556,
             "#d8576b"
            ],
            [
             0.6666666666666666,
             "#ed7953"
            ],
            [
             0.7777777777777778,
             "#fb9f3a"
            ],
            [
             0.8888888888888888,
             "#fdca26"
            ],
            [
             1,
             "#f0f921"
            ]
           ]
          },
          "colorway": [
           "#636efa",
           "#EF553B",
           "#00cc96",
           "#ab63fa",
           "#FFA15A",
           "#19d3f3",
           "#FF6692",
           "#B6E880",
           "#FF97FF",
           "#FECB52"
          ],
          "font": {
           "color": "#2a3f5f"
          },
          "geo": {
           "bgcolor": "white",
           "lakecolor": "white",
           "landcolor": "#E5ECF6",
           "showlakes": true,
           "showland": true,
           "subunitcolor": "white"
          },
          "hoverlabel": {
           "align": "left"
          },
          "hovermode": "closest",
          "mapbox": {
           "style": "light"
          },
          "paper_bgcolor": "white",
          "plot_bgcolor": "#E5ECF6",
          "polar": {
           "angularaxis": {
            "gridcolor": "white",
            "linecolor": "white",
            "ticks": ""
           },
           "bgcolor": "#E5ECF6",
           "radialaxis": {
            "gridcolor": "white",
            "linecolor": "white",
            "ticks": ""
           }
          },
          "scene": {
           "xaxis": {
            "backgroundcolor": "#E5ECF6",
            "gridcolor": "white",
            "gridwidth": 2,
            "linecolor": "white",
            "showbackground": true,
            "ticks": "",
            "zerolinecolor": "white"
           },
           "yaxis": {
            "backgroundcolor": "#E5ECF6",
            "gridcolor": "white",
            "gridwidth": 2,
            "linecolor": "white",
            "showbackground": true,
            "ticks": "",
            "zerolinecolor": "white"
           },
           "zaxis": {
            "backgroundcolor": "#E5ECF6",
            "gridcolor": "white",
            "gridwidth": 2,
            "linecolor": "white",
            "showbackground": true,
            "ticks": "",
            "zerolinecolor": "white"
           }
          },
          "shapedefaults": {
           "line": {
            "color": "#2a3f5f"
           }
          },
          "ternary": {
           "aaxis": {
            "gridcolor": "white",
            "linecolor": "white",
            "ticks": ""
           },
           "baxis": {
            "gridcolor": "white",
            "linecolor": "white",
            "ticks": ""
           },
           "bgcolor": "#E5ECF6",
           "caxis": {
            "gridcolor": "white",
            "linecolor": "white",
            "ticks": ""
           }
          },
          "title": {
           "x": 0.05
          },
          "xaxis": {
           "automargin": true,
           "gridcolor": "white",
           "linecolor": "white",
           "ticks": "",
           "title": {
            "standoff": 15
           },
           "zerolinecolor": "white",
           "zerolinewidth": 2
          },
          "yaxis": {
           "automargin": true,
           "gridcolor": "white",
           "linecolor": "white",
           "ticks": "",
           "title": {
            "standoff": 15
           },
           "zerolinecolor": "white",
           "zerolinewidth": 2
          }
         }
        },
        "xaxis": {
         "anchor": "y",
         "domain": [
          0,
          1
         ],
         "title": {
          "text": "MMAR"
         }
        },
        "yaxis": {
         "anchor": "x",
         "domain": [
          0,
          1
         ],
         "title": {
          "text": "sum of value"
         }
        }
       }
      },
      "text/html": [
       "<div>                            <div id=\"88a7faff-fd89-482d-a4d6-b9f4d099f2e6\" class=\"plotly-graph-div\" style=\"height:525px; width:100%;\"></div>            <script type=\"text/javascript\">                require([\"plotly\"], function(Plotly) {                    window.PLOTLYENV=window.PLOTLYENV || {};                                    if (document.getElementById(\"88a7faff-fd89-482d-a4d6-b9f4d099f2e6\")) {                    Plotly.newPlot(                        \"88a7faff-fd89-482d-a4d6-b9f4d099f2e6\",                        [{\"alignmentgroup\":\"True\",\"bingroup\":\"x\",\"histfunc\":\"sum\",\"hovertemplate\":\"variable=HH<br>MMAR=%{x}<br>sum of value=%{y}<extra></extra>\",\"legendgroup\":\"HH\",\"marker\":{\"color\":\"#636efa\",\"pattern\":{\"shape\":\"\"}},\"name\":\"HH\",\"offsetgroup\":\"HH\",\"orientation\":\"v\",\"showlegend\":true,\"x\":[\"01\",\"02\",\"03\",\"04\",\"05\",\"06\",\"07\",\"08\",\"09\",\"10\",\"11\",\"12\"],\"xaxis\":\"x\",\"y\":[0.0,2.0,5.0,0.0,2.0,4.0,6.0,6.0,2.0,3.0,5.0,0.0],\"yaxis\":\"y\",\"type\":\"histogram\"},{\"alignmentgroup\":\"True\",\"bingroup\":\"x\",\"histfunc\":\"sum\",\"hovertemplate\":\"variable=FF<br>MMAR=%{x}<br>sum of value=%{y}<extra></extra>\",\"legendgroup\":\"FF\",\"marker\":{\"color\":\"#EF553B\",\"pattern\":{\"shape\":\"\"}},\"name\":\"FF\",\"offsetgroup\":\"FF\",\"orientation\":\"v\",\"showlegend\":true,\"x\":[\"01\",\"02\",\"03\",\"04\",\"05\",\"06\",\"07\",\"08\",\"09\",\"10\",\"11\",\"12\"],\"xaxis\":\"x\",\"y\":[0.0,1.0,6.0,0.0,6.0,6.0,7.0,8.0,3.0,1.0,1.0,0.0],\"yaxis\":\"y\",\"type\":\"histogram\"},{\"alignmentgroup\":\"True\",\"bingroup\":\"x\",\"histfunc\":\"sum\",\"hovertemplate\":\"variable=HF<br>MMAR=%{x}<br>sum of value=%{y}<extra></extra>\",\"legendgroup\":\"HF\",\"marker\":{\"color\":\"#00cc96\",\"pattern\":{\"shape\":\"\"}},\"name\":\"HF\",\"offsetgroup\":\"HF\",\"orientation\":\"v\",\"showlegend\":true,\"x\":[\"01\",\"02\",\"03\",\"04\",\"05\",\"06\",\"07\",\"08\",\"09\",\"10\",\"11\",\"12\"],\"xaxis\":\"x\",\"y\":[0.0,61.0,132.0,0.0,234.0,354.0,367.0,342.0,272.0,138.0,76.0,0.0],\"yaxis\":\"y\",\"type\":\"histogram\"}],                        {\"template\":{\"data\":{\"bar\":[{\"error_x\":{\"color\":\"#2a3f5f\"},\"error_y\":{\"color\":\"#2a3f5f\"},\"marker\":{\"line\":{\"color\":\"#E5ECF6\",\"width\":0.5},\"pattern\":{\"fillmode\":\"overlay\",\"size\":10,\"solidity\":0.2}},\"type\":\"bar\"}],\"barpolar\":[{\"marker\":{\"line\":{\"color\":\"#E5ECF6\",\"width\":0.5},\"pattern\":{\"fillmode\":\"overlay\",\"size\":10,\"solidity\":0.2}},\"type\":\"barpolar\"}],\"carpet\":[{\"aaxis\":{\"endlinecolor\":\"#2a3f5f\",\"gridcolor\":\"white\",\"linecolor\":\"white\",\"minorgridcolor\":\"white\",\"startlinecolor\":\"#2a3f5f\"},\"baxis\":{\"endlinecolor\":\"#2a3f5f\",\"gridcolor\":\"white\",\"linecolor\":\"white\",\"minorgridcolor\":\"white\",\"startlinecolor\":\"#2a3f5f\"},\"type\":\"carpet\"}],\"choropleth\":[{\"colorbar\":{\"outlinewidth\":0,\"ticks\":\"\"},\"type\":\"choropleth\"}],\"contour\":[{\"colorbar\":{\"outlinewidth\":0,\"ticks\":\"\"},\"colorscale\":[[0.0,\"#0d0887\"],[0.1111111111111111,\"#46039f\"],[0.2222222222222222,\"#7201a8\"],[0.3333333333333333,\"#9c179e\"],[0.4444444444444444,\"#bd3786\"],[0.5555555555555556,\"#d8576b\"],[0.6666666666666666,\"#ed7953\"],[0.7777777777777778,\"#fb9f3a\"],[0.8888888888888888,\"#fdca26\"],[1.0,\"#f0f921\"]],\"type\":\"contour\"}],\"contourcarpet\":[{\"colorbar\":{\"outlinewidth\":0,\"ticks\":\"\"},\"type\":\"contourcarpet\"}],\"heatmap\":[{\"colorbar\":{\"outlinewidth\":0,\"ticks\":\"\"},\"colorscale\":[[0.0,\"#0d0887\"],[0.1111111111111111,\"#46039f\"],[0.2222222222222222,\"#7201a8\"],[0.3333333333333333,\"#9c179e\"],[0.4444444444444444,\"#bd3786\"],[0.5555555555555556,\"#d8576b\"],[0.6666666666666666,\"#ed7953\"],[0.7777777777777778,\"#fb9f3a\"],[0.8888888888888888,\"#fdca26\"],[1.0,\"#f0f921\"]],\"type\":\"heatmap\"}],\"heatmapgl\":[{\"colorbar\":{\"outlinewidth\":0,\"ticks\":\"\"},\"colorscale\":[[0.0,\"#0d0887\"],[0.1111111111111111,\"#46039f\"],[0.2222222222222222,\"#7201a8\"],[0.3333333333333333,\"#9c179e\"],[0.4444444444444444,\"#bd3786\"],[0.5555555555555556,\"#d8576b\"],[0.6666666666666666,\"#ed7953\"],[0.7777777777777778,\"#fb9f3a\"],[0.8888888888888888,\"#fdca26\"],[1.0,\"#f0f921\"]],\"type\":\"heatmapgl\"}],\"histogram\":[{\"marker\":{\"pattern\":{\"fillmode\":\"overlay\",\"size\":10,\"solidity\":0.2}},\"type\":\"histogram\"}],\"histogram2d\":[{\"colorbar\":{\"outlinewidth\":0,\"ticks\":\"\"},\"colorscale\":[[0.0,\"#0d0887\"],[0.1111111111111111,\"#46039f\"],[0.2222222222222222,\"#7201a8\"],[0.3333333333333333,\"#9c179e\"],[0.4444444444444444,\"#bd3786\"],[0.5555555555555556,\"#d8576b\"],[0.6666666666666666,\"#ed7953\"],[0.7777777777777778,\"#fb9f3a\"],[0.8888888888888888,\"#fdca26\"],[1.0,\"#f0f921\"]],\"type\":\"histogram2d\"}],\"histogram2dcontour\":[{\"colorbar\":{\"outlinewidth\":0,\"ticks\":\"\"},\"colorscale\":[[0.0,\"#0d0887\"],[0.1111111111111111,\"#46039f\"],[0.2222222222222222,\"#7201a8\"],[0.3333333333333333,\"#9c179e\"],[0.4444444444444444,\"#bd3786\"],[0.5555555555555556,\"#d8576b\"],[0.6666666666666666,\"#ed7953\"],[0.7777777777777778,\"#fb9f3a\"],[0.8888888888888888,\"#fdca26\"],[1.0,\"#f0f921\"]],\"type\":\"histogram2dcontour\"}],\"mesh3d\":[{\"colorbar\":{\"outlinewidth\":0,\"ticks\":\"\"},\"type\":\"mesh3d\"}],\"parcoords\":[{\"line\":{\"colorbar\":{\"outlinewidth\":0,\"ticks\":\"\"}},\"type\":\"parcoords\"}],\"pie\":[{\"automargin\":true,\"type\":\"pie\"}],\"scatter\":[{\"marker\":{\"colorbar\":{\"outlinewidth\":0,\"ticks\":\"\"}},\"type\":\"scatter\"}],\"scatter3d\":[{\"line\":{\"colorbar\":{\"outlinewidth\":0,\"ticks\":\"\"}},\"marker\":{\"colorbar\":{\"outlinewidth\":0,\"ticks\":\"\"}},\"type\":\"scatter3d\"}],\"scattercarpet\":[{\"marker\":{\"colorbar\":{\"outlinewidth\":0,\"ticks\":\"\"}},\"type\":\"scattercarpet\"}],\"scattergeo\":[{\"marker\":{\"colorbar\":{\"outlinewidth\":0,\"ticks\":\"\"}},\"type\":\"scattergeo\"}],\"scattergl\":[{\"marker\":{\"colorbar\":{\"outlinewidth\":0,\"ticks\":\"\"}},\"type\":\"scattergl\"}],\"scattermapbox\":[{\"marker\":{\"colorbar\":{\"outlinewidth\":0,\"ticks\":\"\"}},\"type\":\"scattermapbox\"}],\"scatterpolar\":[{\"marker\":{\"colorbar\":{\"outlinewidth\":0,\"ticks\":\"\"}},\"type\":\"scatterpolar\"}],\"scatterpolargl\":[{\"marker\":{\"colorbar\":{\"outlinewidth\":0,\"ticks\":\"\"}},\"type\":\"scatterpolargl\"}],\"scatterternary\":[{\"marker\":{\"colorbar\":{\"outlinewidth\":0,\"ticks\":\"\"}},\"type\":\"scatterternary\"}],\"surface\":[{\"colorbar\":{\"outlinewidth\":0,\"ticks\":\"\"},\"colorscale\":[[0.0,\"#0d0887\"],[0.1111111111111111,\"#46039f\"],[0.2222222222222222,\"#7201a8\"],[0.3333333333333333,\"#9c179e\"],[0.4444444444444444,\"#bd3786\"],[0.5555555555555556,\"#d8576b\"],[0.6666666666666666,\"#ed7953\"],[0.7777777777777778,\"#fb9f3a\"],[0.8888888888888888,\"#fdca26\"],[1.0,\"#f0f921\"]],\"type\":\"surface\"}],\"table\":[{\"cells\":{\"fill\":{\"color\":\"#EBF0F8\"},\"line\":{\"color\":\"white\"}},\"header\":{\"fill\":{\"color\":\"#C8D4E3\"},\"line\":{\"color\":\"white\"}},\"type\":\"table\"}]},\"layout\":{\"annotationdefaults\":{\"arrowcolor\":\"#2a3f5f\",\"arrowhead\":0,\"arrowwidth\":1},\"autotypenumbers\":\"strict\",\"coloraxis\":{\"colorbar\":{\"outlinewidth\":0,\"ticks\":\"\"}},\"colorscale\":{\"diverging\":[[0,\"#8e0152\"],[0.1,\"#c51b7d\"],[0.2,\"#de77ae\"],[0.3,\"#f1b6da\"],[0.4,\"#fde0ef\"],[0.5,\"#f7f7f7\"],[0.6,\"#e6f5d0\"],[0.7,\"#b8e186\"],[0.8,\"#7fbc41\"],[0.9,\"#4d9221\"],[1,\"#276419\"]],\"sequential\":[[0.0,\"#0d0887\"],[0.1111111111111111,\"#46039f\"],[0.2222222222222222,\"#7201a8\"],[0.3333333333333333,\"#9c179e\"],[0.4444444444444444,\"#bd3786\"],[0.5555555555555556,\"#d8576b\"],[0.6666666666666666,\"#ed7953\"],[0.7777777777777778,\"#fb9f3a\"],[0.8888888888888888,\"#fdca26\"],[1.0,\"#f0f921\"]],\"sequentialminus\":[[0.0,\"#0d0887\"],[0.1111111111111111,\"#46039f\"],[0.2222222222222222,\"#7201a8\"],[0.3333333333333333,\"#9c179e\"],[0.4444444444444444,\"#bd3786\"],[0.5555555555555556,\"#d8576b\"],[0.6666666666666666,\"#ed7953\"],[0.7777777777777778,\"#fb9f3a\"],[0.8888888888888888,\"#fdca26\"],[1.0,\"#f0f921\"]]},\"colorway\":[\"#636efa\",\"#EF553B\",\"#00cc96\",\"#ab63fa\",\"#FFA15A\",\"#19d3f3\",\"#FF6692\",\"#B6E880\",\"#FF97FF\",\"#FECB52\"],\"font\":{\"color\":\"#2a3f5f\"},\"geo\":{\"bgcolor\":\"white\",\"lakecolor\":\"white\",\"landcolor\":\"#E5ECF6\",\"showlakes\":true,\"showland\":true,\"subunitcolor\":\"white\"},\"hoverlabel\":{\"align\":\"left\"},\"hovermode\":\"closest\",\"mapbox\":{\"style\":\"light\"},\"paper_bgcolor\":\"white\",\"plot_bgcolor\":\"#E5ECF6\",\"polar\":{\"angularaxis\":{\"gridcolor\":\"white\",\"linecolor\":\"white\",\"ticks\":\"\"},\"bgcolor\":\"#E5ECF6\",\"radialaxis\":{\"gridcolor\":\"white\",\"linecolor\":\"white\",\"ticks\":\"\"}},\"scene\":{\"xaxis\":{\"backgroundcolor\":\"#E5ECF6\",\"gridcolor\":\"white\",\"gridwidth\":2,\"linecolor\":\"white\",\"showbackground\":true,\"ticks\":\"\",\"zerolinecolor\":\"white\"},\"yaxis\":{\"backgroundcolor\":\"#E5ECF6\",\"gridcolor\":\"white\",\"gridwidth\":2,\"linecolor\":\"white\",\"showbackground\":true,\"ticks\":\"\",\"zerolinecolor\":\"white\"},\"zaxis\":{\"backgroundcolor\":\"#E5ECF6\",\"gridcolor\":\"white\",\"gridwidth\":2,\"linecolor\":\"white\",\"showbackground\":true,\"ticks\":\"\",\"zerolinecolor\":\"white\"}},\"shapedefaults\":{\"line\":{\"color\":\"#2a3f5f\"}},\"ternary\":{\"aaxis\":{\"gridcolor\":\"white\",\"linecolor\":\"white\",\"ticks\":\"\"},\"baxis\":{\"gridcolor\":\"white\",\"linecolor\":\"white\",\"ticks\":\"\"},\"bgcolor\":\"#E5ECF6\",\"caxis\":{\"gridcolor\":\"white\",\"linecolor\":\"white\",\"ticks\":\"\"}},\"title\":{\"x\":0.05},\"xaxis\":{\"automargin\":true,\"gridcolor\":\"white\",\"linecolor\":\"white\",\"ticks\":\"\",\"title\":{\"standoff\":15},\"zerolinecolor\":\"white\",\"zerolinewidth\":2},\"yaxis\":{\"automargin\":true,\"gridcolor\":\"white\",\"linecolor\":\"white\",\"ticks\":\"\",\"title\":{\"standoff\":15},\"zerolinecolor\":\"white\",\"zerolinewidth\":2}}},\"xaxis\":{\"anchor\":\"y\",\"domain\":[0.0,1.0],\"title\":{\"text\":\"MMAR\"}},\"yaxis\":{\"anchor\":\"x\",\"domain\":[0.0,1.0],\"title\":{\"text\":\"sum of value\"}},\"legend\":{\"title\":{\"text\":\"variable\"},\"tracegroupgap\":0},\"margin\":{\"t\":60},\"barmode\":\"relative\"},                        {\"responsive\": true}                    ).then(function(){\n",
       "                            \n",
       "var gd = document.getElementById('88a7faff-fd89-482d-a4d6-b9f4d099f2e6');\n",
       "var x = new MutationObserver(function (mutations, observer) {{\n",
       "        var display = window.getComputedStyle(gd).display;\n",
       "        if (!display || display === 'none') {{\n",
       "            console.log([gd, 'removed!']);\n",
       "            Plotly.purge(gd);\n",
       "            observer.disconnect();\n",
       "        }}\n",
       "}});\n",
       "\n",
       "// Listen for the removal of the full notebook cells\n",
       "var notebookContainer = gd.closest('#notebook-container');\n",
       "if (notebookContainer) {{\n",
       "    x.observe(notebookContainer, {childList: true});\n",
       "}}\n",
       "\n",
       "// Listen for the clearing of the current output cell\n",
       "var outputEl = gd.closest('.output');\n",
       "if (outputEl) {{\n",
       "    x.observe(outputEl, {childList: true});\n",
       "}}\n",
       "\n",
       "                        })                };                });            </script>        </div>"
      ]
     },
     "metadata": {},
     "output_type": "display_data"
    }
   ],
   "source": [
    "fig = px.histogram(graph, x = 'MMAR', y = ['HH', 'FF', 'HF'])\n",
    "fig.show()"
   ]
  },
  {
   "cell_type": "code",
   "execution_count": 97,
   "metadata": {},
   "outputs": [
    {
     "data": {
      "text/plain": [
       "<AxesSubplot:>"
      ]
     },
     "execution_count": 97,
     "metadata": {},
     "output_type": "execute_result"
    },
    {
     "data": {
      "image/png": "[encoded data removed]",
      "text/plain": [
       "<Figure size 432x288 with 1 Axes>"
      ]
     },
     "metadata": {
      "needs_background": "light"
     },
     "output_type": "display_data"
    }
   ],
   "source": [
    "graph.plot.bar(stacked=True)"
   ]
  },
  {
   "cell_type": "code",
   "execution_count": 117,
   "metadata": {
    "scrolled": false
   },
   "outputs": [
    {
     "data": {
      "text/html": [
       "<div>\n",
       "<style scoped>\n",
       "    .dataframe tbody tr th:only-of-type {\n",
       "        vertical-align: middle;\n",
       "    }\n",
       "\n",
       "    .dataframe tbody tr th {\n",
       "        vertical-align: top;\n",
       "    }\n",
       "\n",
       "    .dataframe thead th {\n",
       "        text-align: right;\n",
       "    }\n",
       "</style>\n",
       "<table border=\"1\" class=\"dataframe\">\n",
       "  <thead>\n",
       "    <tr style=\"text-align: right;\">\n",
       "      <th></th>\n",
       "      <th>MMAR</th>\n",
       "      <th>DEPMAR</th>\n",
       "      <th>Mariage</th>\n",
       "    </tr>\n",
       "  </thead>\n",
       "  <tbody>\n",
       "    <tr>\n",
       "      <th>0</th>\n",
       "      <td>fev</td>\n",
       "      <td>01</td>\n",
       "      <td>MF</td>\n",
       "    </tr>\n",
       "    <tr>\n",
       "      <th>1</th>\n",
       "      <td>aout</td>\n",
       "      <td>01</td>\n",
       "      <td>MF</td>\n",
       "    </tr>\n",
       "    <tr>\n",
       "      <th>2</th>\n",
       "      <td>aout</td>\n",
       "      <td>01</td>\n",
       "      <td>MF</td>\n",
       "    </tr>\n",
       "    <tr>\n",
       "      <th>3</th>\n",
       "      <td>aout</td>\n",
       "      <td>01</td>\n",
       "      <td>MF</td>\n",
       "    </tr>\n",
       "    <tr>\n",
       "      <th>4</th>\n",
       "      <td>mai</td>\n",
       "      <td>01</td>\n",
       "      <td>MF</td>\n",
       "    </tr>\n",
       "    <tr>\n",
       "      <th>...</th>\n",
       "      <td>...</td>\n",
       "      <td>...</td>\n",
       "      <td>...</td>\n",
       "    </tr>\n",
       "    <tr>\n",
       "      <th>241479</th>\n",
       "      <td>dec</td>\n",
       "      <td>84</td>\n",
       "      <td>MF</td>\n",
       "    </tr>\n",
       "    <tr>\n",
       "      <th>241480</th>\n",
       "      <td>juillet</td>\n",
       "      <td>85</td>\n",
       "      <td>MF</td>\n",
       "    </tr>\n",
       "    <tr>\n",
       "      <th>241481</th>\n",
       "      <td>mai</td>\n",
       "      <td>47</td>\n",
       "      <td>MF</td>\n",
       "    </tr>\n",
       "    <tr>\n",
       "      <th>241482</th>\n",
       "      <td>juin</td>\n",
       "      <td>47</td>\n",
       "      <td>MF</td>\n",
       "    </tr>\n",
       "    <tr>\n",
       "      <th>241483</th>\n",
       "      <td>juin</td>\n",
       "      <td>47</td>\n",
       "      <td>MF</td>\n",
       "    </tr>\n",
       "  </tbody>\n",
       "</table>\n",
       "<p>241484 rows × 3 columns</p>\n",
       "</div>"
      ],
      "text/plain": [
       "           MMAR DEPMAR Mariage\n",
       "0           fev     01      MF\n",
       "1          aout     01      MF\n",
       "2          aout     01      MF\n",
       "3          aout     01      MF\n",
       "4           mai     01      MF\n",
       "...         ...    ...     ...\n",
       "241479      dec     84      MF\n",
       "241480  juillet     85      MF\n",
       "241481      mai     47      MF\n",
       "241482     juin     47      MF\n",
       "241483     juin     47      MF\n",
       "\n",
       "[241484 rows x 3 columns]"
      ]
     },
     "execution_count": 117,
     "metadata": {},
     "output_type": "execute_result"
    }
   ],
   "source": [
    "#mar_14['Mariage'] = mar_14['SEXE1'] + mar_14['SEXE2']\n",
    "#mar = mar_14.drop(['AMAR', 'SEXE1', 'SEXE2'], axis=1)\n",
    "\n",
    "#def str_update(s):\n",
    " #   if s == 'FM':\n",
    "  #      return 'MF'\n",
    "   # return s\n",
    "\n",
    "#L = ['janv', 'fev', 'mars', 'avril', 'mai', 'juin', 'juillet', 'aout', 'sept', 'oct','nov','dec']\n",
    "#def update_month(s):\n",
    " #   if s not in L:\n",
    "  #      return L[int(s) - 1]\n",
    "   # return s\n",
    "\n",
    "#mar['Mariage'] =  mar['Mariage'].apply(str_update)\n",
    "#mar['MMAR'] =  mar['MMAR'].apply(update_month)\n",
    "\n",
    "#mar"
   ]
  },
  {
   "cell_type": "code",
   "execution_count": 118,
   "metadata": {
    "scrolled": true
   },
   "outputs": [
    {
     "data": {
      "text/html": [
       "<div>\n",
       "<style scoped>\n",
       "    .dataframe tbody tr th:only-of-type {\n",
       "        vertical-align: middle;\n",
       "    }\n",
       "\n",
       "    .dataframe tbody tr th {\n",
       "        vertical-align: top;\n",
       "    }\n",
       "\n",
       "    .dataframe thead th {\n",
       "        text-align: right;\n",
       "    }\n",
       "</style>\n",
       "<table border=\"1\" class=\"dataframe\">\n",
       "  <thead>\n",
       "    <tr style=\"text-align: right;\">\n",
       "      <th></th>\n",
       "      <th>MMAR</th>\n",
       "      <th>Mariage</th>\n",
       "    </tr>\n",
       "  </thead>\n",
       "  <tbody>\n",
       "    <tr>\n",
       "      <th>0</th>\n",
       "      <td>fev</td>\n",
       "      <td>MF</td>\n",
       "    </tr>\n",
       "    <tr>\n",
       "      <th>1</th>\n",
       "      <td>aout</td>\n",
       "      <td>MF</td>\n",
       "    </tr>\n",
       "    <tr>\n",
       "      <th>2</th>\n",
       "      <td>aout</td>\n",
       "      <td>MF</td>\n",
       "    </tr>\n",
       "    <tr>\n",
       "      <th>3</th>\n",
       "      <td>aout</td>\n",
       "      <td>MF</td>\n",
       "    </tr>\n",
       "    <tr>\n",
       "      <th>4</th>\n",
       "      <td>mai</td>\n",
       "      <td>MF</td>\n",
       "    </tr>\n",
       "    <tr>\n",
       "      <th>...</th>\n",
       "      <td>...</td>\n",
       "      <td>...</td>\n",
       "    </tr>\n",
       "    <tr>\n",
       "      <th>225570</th>\n",
       "      <td>juillet</td>\n",
       "      <td>MF</td>\n",
       "    </tr>\n",
       "    <tr>\n",
       "      <th>233183</th>\n",
       "      <td>oct</td>\n",
       "      <td>MF</td>\n",
       "    </tr>\n",
       "    <tr>\n",
       "      <th>233901</th>\n",
       "      <td>oct</td>\n",
       "      <td>MF</td>\n",
       "    </tr>\n",
       "    <tr>\n",
       "      <th>234592</th>\n",
       "      <td>juin</td>\n",
       "      <td>MF</td>\n",
       "    </tr>\n",
       "    <tr>\n",
       "      <th>241066</th>\n",
       "      <td>juillet</td>\n",
       "      <td>MF</td>\n",
       "    </tr>\n",
       "  </tbody>\n",
       "</table>\n",
       "<p>2340 rows × 2 columns</p>\n",
       "</div>"
      ],
      "text/plain": [
       "           MMAR Mariage\n",
       "0           fev      MF\n",
       "1          aout      MF\n",
       "2          aout      MF\n",
       "3          aout      MF\n",
       "4           mai      MF\n",
       "...         ...     ...\n",
       "225570  juillet      MF\n",
       "233183      oct      MF\n",
       "233901      oct      MF\n",
       "234592     juin      MF\n",
       "241066  juillet      MF\n",
       "\n",
       "[2340 rows x 2 columns]"
      ]
     },
     "execution_count": 118,
     "metadata": {},
     "output_type": "execute_result"
    }
   ],
   "source": [
    "#mar = mar.loc[mar['DEPMAR'] == '01']\n",
    "#mar = mar.drop('DEPMAR', axis=1)\n",
    "\n",
    "#mar\n"
   ]
  },
  {
   "cell_type": "code",
   "execution_count": 119,
   "metadata": {
    "scrolled": true
   },
   "outputs": [
    {
     "data": {
      "text/html": [
       "<div>\n",
       "<style scoped>\n",
       "    .dataframe tbody tr th:only-of-type {\n",
       "        vertical-align: middle;\n",
       "    }\n",
       "\n",
       "    .dataframe tbody tr th {\n",
       "        vertical-align: top;\n",
       "    }\n",
       "\n",
       "    .dataframe thead th {\n",
       "        text-align: right;\n",
       "    }\n",
       "</style>\n",
       "<table border=\"1\" class=\"dataframe\">\n",
       "  <thead>\n",
       "    <tr style=\"text-align: right;\">\n",
       "      <th></th>\n",
       "      <th>0</th>\n",
       "      <th>1</th>\n",
       "    </tr>\n",
       "  </thead>\n",
       "  <tbody>\n",
       "    <tr>\n",
       "      <th>0</th>\n",
       "      <td>aout</td>\n",
       "      <td>MMAR Mariage\n",
       "1       aout      MF\n",
       "2   ...</td>\n",
       "    </tr>\n",
       "    <tr>\n",
       "      <th>1</th>\n",
       "      <td>avril</td>\n",
       "      <td>MMAR Mariage\n",
       "23      avril      MF\n",
       "26...</td>\n",
       "    </tr>\n",
       "    <tr>\n",
       "      <th>2</th>\n",
       "      <td>dec</td>\n",
       "      <td>MMAR Mariage\n",
       "13      dec      MF\n",
       "2646  ...</td>\n",
       "    </tr>\n",
       "    <tr>\n",
       "      <th>3</th>\n",
       "      <td>fev</td>\n",
       "      <td>MMAR Mariage\n",
       "0       fev      MF\n",
       "9     ...</td>\n",
       "    </tr>\n",
       "    <tr>\n",
       "      <th>4</th>\n",
       "      <td>janv</td>\n",
       "      <td>MMAR Mariage\n",
       "11      janv      MF\n",
       "2595...</td>\n",
       "    </tr>\n",
       "    <tr>\n",
       "      <th>5</th>\n",
       "      <td>juillet</td>\n",
       "      <td>MMAR Mariage\n",
       "7       juillet      M...</td>\n",
       "    </tr>\n",
       "    <tr>\n",
       "      <th>6</th>\n",
       "      <td>juin</td>\n",
       "      <td>MMAR Mariage\n",
       "5       juin      MF\n",
       "8   ...</td>\n",
       "    </tr>\n",
       "    <tr>\n",
       "      <th>7</th>\n",
       "      <td>mai</td>\n",
       "      <td>MMAR Mariage\n",
       "4       mai      MF\n",
       "17    ...</td>\n",
       "    </tr>\n",
       "    <tr>\n",
       "      <th>8</th>\n",
       "      <td>mars</td>\n",
       "      <td>MMAR Mariage\n",
       "2592    mars      MF\n",
       "2605...</td>\n",
       "    </tr>\n",
       "    <tr>\n",
       "      <th>9</th>\n",
       "      <td>nov</td>\n",
       "      <td>MMAR Mariage\n",
       "2710    nov      MF\n",
       "2711  ...</td>\n",
       "    </tr>\n",
       "    <tr>\n",
       "      <th>10</th>\n",
       "      <td>oct</td>\n",
       "      <td>MMAR Mariage\n",
       "21      oct      MM\n",
       "2598  ...</td>\n",
       "    </tr>\n",
       "    <tr>\n",
       "      <th>11</th>\n",
       "      <td>sept</td>\n",
       "      <td>MMAR Mariage\n",
       "6       sept      MF\n",
       "16  ...</td>\n",
       "    </tr>\n",
       "  </tbody>\n",
       "</table>\n",
       "</div>"
      ],
      "text/plain": [
       "          0                                                  1\n",
       "0      aout          MMAR Mariage\n",
       "1       aout      MF\n",
       "2   ...\n",
       "1     avril           MMAR Mariage\n",
       "23      avril      MF\n",
       "26...\n",
       "2       dec         MMAR Mariage\n",
       "13      dec      MF\n",
       "2646  ...\n",
       "3       fev         MMAR Mariage\n",
       "0       fev      MF\n",
       "9     ...\n",
       "4      janv          MMAR Mariage\n",
       "11      janv      MF\n",
       "2595...\n",
       "5   juillet             MMAR Mariage\n",
       "7       juillet      M...\n",
       "6      juin          MMAR Mariage\n",
       "5       juin      MF\n",
       "8   ...\n",
       "7       mai         MMAR Mariage\n",
       "4       mai      MF\n",
       "17    ...\n",
       "8      mars          MMAR Mariage\n",
       "2592    mars      MF\n",
       "2605...\n",
       "9       nov         MMAR Mariage\n",
       "2710    nov      MF\n",
       "2711  ...\n",
       "10      oct         MMAR Mariage\n",
       "21      oct      MM\n",
       "2598  ...\n",
       "11     sept          MMAR Mariage\n",
       "6       sept      MF\n",
       "16  ..."
      ]
     },
     "execution_count": 119,
     "metadata": {},
     "output_type": "execute_result"
    }
   ],
   "source": [
    "#mar = mar.groupby('MMAR').mean()\n",
    "#mar\n",
    "\n",
    "\n",
    "\n",
    "\n"
   ]
  },
  {
   "cell_type": "code",
   "execution_count": null,
   "metadata": {},
   "outputs": [],
   "source": [
    "L = ['janv', 'fev', 'mars', 'avril', 'mai', 'juin', 'juillet', 'aout', 'sept', 'oct','nov','dec']\n",
    "def update_month(s):\n",
    "    if s not in L:\n",
    "        return L[int(s) - 1]\n",
    "    return s\n",
    "\n",
    "graph['MMAR'] =  graph['MMAR'].apply(update_month)\n",
    "graph"
   ]
  },
  {
   "cell_type": "code",
   "execution_count": null,
   "metadata": {},
   "outputs": [],
   "source": [
    "#fig = px.bar(mar, x=\"MMAR\", y=\"Mariage\", title=\"Bla\")\n",
    "#"
   ]
  },
  {
   "cell_type": "code",
   "execution_count": 109,
   "metadata": {},
   "outputs": [
    {
     "data": {
      "application/vnd.plotly.v1+json": {
       "config": {
        "plotlyServerURL": "https://plot.ly"
       },
       "data": [
        {
         "alignmentgroup": "True",
         "hovertemplate": "MMAR=%{x}<br>Mariage=%{y}<extra></extra>",
         "legendgroup": "",
         "marker": {
          "color": "#636efa",
          "pattern": {
           "shape": ""
          }
         },
         "name": "",
         "offsetgroup": "",
         "orientation": "v",
         "showlegend": false,
         "textposition": "auto",
         "type": "bar",
         "x": [
          "aout",
          "aout",
          "aout",
          "aout",
          "aout",
          "aout",
          "aout",
          "aout",
          "aout",
          "aout",
          "aout",
          "aout",
          "aout",
          "aout",
          "aout",
          "aout",
          "aout",
          "aout",
          "aout",
          "aout",
          "aout",
          "aout",
          "aout",
          "aout",
          "aout",
          "aout",
          "aout",
          "aout",
          "aout",
          "aout",
          "aout",
          "aout",
          "aout",
          "aout",
          "aout",
          "aout",
          "aout",
          "aout",
          "aout",
          "aout",
          "aout",
          "aout",
          "aout",
          "aout",
          "aout",
          "aout",
          "aout",
          "aout",
          "aout",
          "aout",
          "aout",
          "aout",
          "aout",
          "aout",
          "aout",
          "aout",
          "aout",
          "aout",
          "aout",
          "aout",
          "aout",
          "aout",
          "aout",
          "aout",
          "aout",
          "aout",
          "aout",
          "aout",
          "aout",
          "aout",
          "aout",
          "aout",
          "aout",
          "aout",
          "aout",
          "aout",
          "aout",
          "aout",
          "aout",
          "aout",
          "aout",
          "aout",
          "aout",
          "aout",
          "aout",
          "aout",
          "aout",
          "aout",
          "aout",
          "aout",
          "aout",
          "aout",
          "aout",
          "aout",
          "aout",
          "aout",
          "aout",
          "aout",
          "aout",
          "aout",
          "aout",
          "aout",
          "aout",
          "aout",
          "aout",
          "aout",
          "aout",
          "aout",
          "aout",
          "aout",
          "aout",
          "aout",
          "aout",
          "aout",
          "aout",
          "aout",
          "aout",
          "aout",
          "aout",
          "aout",
          "aout",
          "aout",
          "aout",
          "aout",
          "aout",
          "aout",
          "aout",
          "aout",
          "aout",
          "aout",
          "aout",
          "aout",
          "aout",
          "aout",
          "aout",
          "aout",
          "aout",
          "aout",
          "aout",
          "aout",
          "aout",
          "aout",
          "aout",
          "aout",
          "aout",
          "aout",
          "aout",
          "aout",
          "aout",
          "aout",
          "aout",
          "aout",
          "aout",
          "aout",
          "aout",
          "aout",
          "aout",
          "aout",
          "aout",
          "aout",
          "aout",
          "aout",
          "aout",
          "aout",
          "aout",
          "aout",
          "aout",
          "aout",
          "aout",
          "aout",
          "aout",
          "aout",
          "aout",
          "aout",
          "aout",
          "aout",
          "aout",
          "aout",
          "aout",
          "aout",
          "aout",
          "aout",
          "aout",
          "aout",
          "aout",
          "aout",
          "aout",
          "aout",
          "aout",
          "aout",
          "aout",
          "aout",
          "aout",
          "aout",
          "aout",
          "aout",
          "aout",
          "aout",
          "aout",
          "aout",
          "aout",
          "aout",
          "aout",
          "aout",
          "aout",
          "aout",
          "aout",
          "aout",
          "aout",
          "aout",
          "aout",
          "aout",
          "aout",
          "aout",
          "aout",
          "aout",
          "aout",
          "aout",
          "aout",
          "aout",
          "aout",
          "aout",
          "aout",
          "aout",
          "aout",
          "aout",
          "aout",
          "aout",
          "aout",
          "aout",
          "aout",
          "aout",
          "aout",
          "aout",
          "aout",
          "aout",
          "aout",
          "aout",
          "aout",
          "aout",
          "aout",
          "aout",
          "aout",
          "aout",
          "aout",
          "aout",
          "aout",
          "aout",
          "aout",
          "aout",
          "aout",
          "aout",
          "aout",
          "aout",
          "aout",
          "aout",
          "aout",
          "aout",
          "aout",
          "aout",
          "aout",
          "aout",
          "aout",
          "aout",
          "aout",
          "aout",
          "aout",
          "aout",
          "aout",
          "aout",
          "aout",
          "aout",
          "aout",
          "aout",
          "aout",
          "aout",
          "aout",
          "aout",
          "aout",
          "aout",
          "aout",
          "aout",
          "aout",
          "aout",
          "aout",
          "aout",
          "aout",
          "aout",
          "aout",
          "aout",
          "aout",
          "aout",
          "aout",
          "aout",
          "aout",
          "aout",
          "aout",
          "aout",
          "aout",
          "aout",
          "aout",
          "aout",
          "aout",
          "aout",
          "aout",
          "aout",
          "aout",
          "aout",
          "aout",
          "aout",
          "aout",
          "aout",
          "aout",
          "aout",
          "aout",
          "aout",
          "aout",
          "aout",
          "aout",
          "aout",
          "aout",
          "aout",
          "aout",
          "aout",
          "aout",
          "aout",
          "aout",
          "aout",
          "aout",
          "aout",
          "aout",
          "aout",
          "aout",
          "aout",
          "aout",
          "aout",
          "aout",
          "aout",
          "aout",
          "aout",
          "aout",
          "aout",
          "aout",
          "aout",
          "aout",
          "aout",
          "aout",
          "aout",
          "aout",
          "aout",
          "aout",
          "aout",
          "aout",
          "aout",
          "aout",
          "aout",
          "avril",
          "avril",
          "avril",
          "avril",
          "avril",
          "avril",
          "avril",
          "avril",
          "avril",
          "avril",
          "avril",
          "avril",
          "avril",
          "avril",
          "avril",
          "avril",
          "avril",
          "avril",
          "avril",
          "avril",
          "avril",
          "avril",
          "avril",
          "avril",
          "avril",
          "avril",
          "avril",
          "avril",
          "avril",
          "avril",
          "avril",
          "avril",
          "avril",
          "avril",
          "avril",
          "avril",
          "avril",
          "avril",
          "avril",
          "avril",
          "avril",
          "avril",
          "avril",
          "avril",
          "avril",
          "avril",
          "avril",
          "avril",
          "avril",
          "avril",
          "avril",
          "avril",
          "avril",
          "avril",
          "avril",
          "avril",
          "avril",
          "avril",
          "avril",
          "avril",
          "avril",
          "avril",
          "avril",
          "avril",
          "avril",
          "avril",
          "avril",
          "avril",
          "avril",
          "avril",
          "avril",
          "avril",
          "avril",
          "avril",
          "avril",
          "avril",
          "avril",
          "avril",
          "avril",
          "avril",
          "avril",
          "avril",
          "avril",
          "avril",
          "avril",
          "avril",
          "avril",
          "avril",
          "avril",
          "avril",
          "avril",
          "avril",
          "avril",
          "avril",
          "avril",
          "avril",
          "avril",
          "avril",
          "avril",
          "avril",
          "avril",
          "avril",
          "avril",
          "avril",
          "avril",
          "avril",
          "avril",
          "avril",
          "avril",
          "avril",
          "avril",
          "avril",
          "avril",
          "avril",
          "avril",
          "avril",
          "avril",
          "avril",
          "avril",
          "avril",
          "avril",
          "avril",
          "avril",
          "avril",
          "avril",
          "avril",
          "avril",
          "avril",
          "avril",
          "avril",
          "avril",
          "avril",
          "avril",
          "avril",
          "avril",
          "avril",
          "avril",
          "avril",
          "avril",
          "dec",
          "dec",
          "dec",
          "dec",
          "dec",
          "dec",
          "dec",
          "dec",
          "dec",
          "dec",
          "dec",
          "dec",
          "dec",
          "dec",
          "dec",
          "dec",
          "dec",
          "dec",
          "dec",
          "dec",
          "dec",
          "dec",
          "dec",
          "dec",
          "dec",
          "dec",
          "dec",
          "dec",
          "dec",
          "dec",
          "dec",
          "dec",
          "dec",
          "dec",
          "dec",
          "dec",
          "dec",
          "dec",
          "dec",
          "dec",
          "dec",
          "dec",
          "dec",
          "dec",
          "dec",
          "dec",
          "dec",
          "dec",
          "dec",
          "dec",
          "dec",
          "dec",
          "dec",
          "dec",
          "dec",
          "dec",
          "dec",
          "dec",
          "dec",
          "dec",
          "dec",
          "dec",
          "dec",
          "dec",
          "dec",
          "dec",
          "dec",
          "dec",
          "dec",
          "dec",
          "dec",
          "dec",
          "dec",
          "dec",
          "dec",
          "dec",
          "dec",
          "dec",
          "dec",
          "dec",
          "dec",
          "dec",
          "dec",
          "dec",
          "dec",
          "dec",
          "dec",
          "dec",
          "dec",
          "dec",
          "dec",
          "dec",
          "dec",
          "dec",
          "dec",
          "dec",
          "dec",
          "dec",
          "dec",
          "dec",
          "dec",
          "dec",
          "dec",
          "dec",
          "fev",
          "fev",
          "fev",
          "fev",
          "fev",
          "fev",
          "fev",
          "fev",
          "fev",
          "fev",
          "fev",
          "fev",
          "fev",
          "fev",
          "fev",
          "fev",
          "fev",
          "fev",
          "fev",
          "fev",
          "fev",
          "fev",
          "fev",
          "fev",
          "fev",
          "fev",
          "fev",
          "fev",
          "fev",
          "fev",
          "fev",
          "fev",
          "fev",
          "fev",
          "fev",
          "fev",
          "fev",
          "fev",
          "fev",
          "fev",
          "fev",
          "fev",
          "fev",
          "fev",
          "fev",
          "fev",
          "fev",
          "fev",
          "fev",
          "fev",
          "fev",
          "fev",
          "fev",
          "fev",
          "fev",
          "fev",
          "fev",
          "fev",
          "fev",
          "fev",
          "fev",
          "fev",
          "fev",
          "fev",
          "janv",
          "janv",
          "janv",
          "janv",
          "janv",
          "janv",
          "janv",
          "janv",
          "janv",
          "janv",
          "janv",
          "janv",
          "janv",
          "janv",
          "janv",
          "janv",
          "janv",
          "janv",
          "janv",
          "janv",
          "janv",
          "janv",
          "janv",
          "janv",
          "janv",
          "janv",
          "janv",
          "janv",
          "janv",
          "janv",
          "janv",
          "janv",
          "janv",
          "janv",
          "janv",
          "janv",
          "janv",
          "janv",
          "janv",
          "janv",
          "janv",
          "janv",
          "janv",
          "janv",
          "janv",
          "janv",
          "janv",
          "juillet",
          "juillet",
          "juillet",
          "juillet",
          "juillet",
          "juillet",
          "juillet",
          "juillet",
          "juillet",
          "juillet",
          "juillet",
          "juillet",
          "juillet",
          "juillet",
          "juillet",
          "juillet",
          "juillet",
          "juillet",
          "juillet",
          "juillet",
          "juillet",
          "juillet",
          "juillet",
          "juillet",
          "juillet",
          "juillet",
          "juillet",
          "juillet",
          "juillet",
          "juillet",
          "juillet",
          "juillet",
          "juillet",
          "juillet",
          "juillet",
          "juillet",
          "juillet",
          "juillet",
          "juillet",
          "juillet",
          "juillet",
          "juillet",
          "juillet",
          "juillet",
          "juillet",
          "juillet",
          "juillet",
          "juillet",
          "juillet",
          "juillet",
          "juillet",
          "juillet",
          "juillet",
          "juillet",
          "juillet",
          "juillet",
          "juillet",
          "juillet",
          "juillet",
          "juillet",
          "juillet",
          "juillet",
          "juillet",
          "juillet",
          "juillet",
          "juillet",
          "juillet",
          "juillet",
          "juillet",
          "juillet",
          "juillet",
          "juillet",
          "juillet",
          "juillet",
          "juillet",
          "juillet",
          "juillet",
          "juillet",
          "juillet",
          "juillet",
          "juillet",
          "juillet",
          "juillet",
          "juillet",
          "juillet",
          "juillet",
          "juillet",
          "juillet",
          "juillet",
          "juillet",
          "juillet",
          "juillet",
          "juillet",
          "juillet",
          "juillet",
          "juillet",
          "juillet",
          "juillet",
          "juillet",
          "juillet",
          "juillet",
          "juillet",
          "juillet",
          "juillet",
          "juillet",
          "juillet",
          "juillet",
          "juillet",
          "juillet",
          "juillet",
          "juillet",
          "juillet",
          "juillet",
          "juillet",
          "juillet",
          "juillet",
          "juillet",
          "juillet",
          "juillet",
          "juillet",
          "juillet",
          "juillet",
          "juillet",
          "juillet",
          "juillet",
          "juillet",
          "juillet",
          "juillet",
          "juillet",
          "juillet",
          "juillet",
          "juillet",
          "juillet",
          "juillet",
          "juillet",
          "juillet",
          "juillet",
          "juillet",
          "juillet",
          "juillet",
          "juillet",
          "juillet",
          "juillet",
          "juillet",
          "juillet",
          "juillet",
          "juillet",
          "juillet",
          "juillet",
          "juillet",
          "juillet",
          "juillet",
          "juillet",
          "juillet",
          "juillet",
          "juillet",
          "juillet",
          "juillet",
          "juillet",
          "juillet",
          "juillet",
          "juillet",
          "juillet",
          "juillet",
          "juillet",
          "juillet",
          "juillet",
          "juillet",
          "juillet",
          "juillet",
          "juillet",
          "juillet",
          "juillet",
          "juillet",
          "juillet",
          "juillet",
          "juillet",
          "juillet",
          "juillet",
          "juillet",
          "juillet",
          "juillet",
          "juillet",
          "juillet",
          "juillet",
          "juillet",
          "juillet",
          "juillet",
          "juillet",
          "juillet",
          "juillet",
          "juillet",
          "juillet",
          "juillet",
          "juillet",
          "juillet",
          "juillet",
          "juillet",
          "juillet",
          "juillet",
          "juillet",
          "juillet",
          "juillet",
          "juillet",
          "juillet",
          "juillet",
          "juillet",
          "juillet",
          "juillet",
          "juillet",
          "juillet",
          "juillet",
          "juillet",
          "juillet",
          "juillet",
          "juillet",
          "juillet",
          "juillet",
          "juillet",
          "juillet",
          "juillet",
          "juillet",
          "juillet",
          "juillet",
          "juillet",
          "juillet",
          "juillet",
          "juillet",
          "juillet",
          "juillet",
          "juillet",
          "juillet",
          "juillet",
          "juillet",
          "juillet",
          "juillet",
          "juillet",
          "juillet",
          "juillet",
          "juillet",
          "juillet",
          "juillet",
          "juillet",
          "juillet",
          "juillet",
          "juillet",
          "juillet",
          "juillet",
          "juillet",
          "juillet",
          "juillet",
          "juillet",
          "juillet",
          "juillet",
          "juillet",
          "juillet",
          "juillet",
          "juillet",
          "juillet",
          "juillet",
          "juillet",
          "juillet",
          "juillet",
          "juillet",
          "juillet",
          "juillet",
          "juillet",
          "juillet",
          "juillet",
          "juillet",
          "juillet",
          "juillet",
          "juillet",
          "juillet",
          "juillet",
          "juillet",
          "juillet",
          "juillet",
          "juillet",
          "juillet",
          "juillet",
          "juillet",
          "juillet",
          "juillet",
          "juillet",
          "juillet",
          "juillet",
          "juillet",
          "juillet",
          "juillet",
          "juillet",
          "juillet",
          "juillet",
          "juillet",
          "juillet",
          "juillet",
          "juillet",
          "juillet",
          "juillet",
          "juillet",
          "juillet",
          "juillet",
          "juillet",
          "juillet",
          "juillet",
          "juillet",
          "juillet",
          "juillet",
          "juillet",
          "juillet",
          "juillet",
          "juillet",
          "juillet",
          "juillet",
          "juillet",
          "juillet",
          "juillet",
          "juillet",
          "juillet",
          "juillet",
          "juillet",
          "juillet",
          "juillet",
          "juillet",
          "juillet",
          "juillet",
          "juillet",
          "juillet",
          "juillet",
          "juillet",
          "juillet",
          "juillet",
          "juillet",
          "juillet",
          "juillet",
          "juillet",
          "juillet",
          "juillet",
          "juillet",
          "juillet",
          "juillet",
          "juillet",
          "juillet",
          "juillet",
          "juillet",
          "juillet",
          "juillet",
          "juillet",
          "juillet",
          "juillet",
          "juillet",
          "juillet",
          "juillet",
          "juillet",
          "juillet",
          "juillet",
          "juillet",
          "juillet",
          "juillet",
          "juillet",
          "juillet",
          "juillet",
          "juillet",
          "juillet",
          "juillet",
          "juillet",
          "juillet",
          "juillet",
          "juillet",
          "juillet",
          "juillet",
          "juillet",
          "juillet",
          "juillet",
          "juillet",
          "juillet",
          "juillet",
          "juillet",
          "juillet",
          "juillet",
          "juin",
          "juin",
          "juin",
          "juin",
          "juin",
          "juin",
          "juin",
          "juin",
          "juin",
          "juin",
          "juin",
          "juin",
          "juin",
          "juin",
          "juin",
          "juin",
          "juin",
          "juin",
          "juin",
          "juin",
          "juin",
          "juin",
          "juin",
          "juin",
          "juin",
          "juin",
          "juin",
          "juin",
          "juin",
          "juin",
          "juin",
          "juin",
          "juin",
          "juin",
          "juin",
          "juin",
          "juin",
          "juin",
          "juin",
          "juin",
          "juin",
          "juin",
          "juin",
          "juin",
          "juin",
          "juin",
          "juin",
          "juin",
          "juin",
          "juin",
          "juin",
          "juin",
          "juin",
          "juin",
          "juin",
          "juin",
          "juin",
          "juin",
          "juin",
          "juin",
          "juin",
          "juin",
          "juin",
          "juin",
          "juin",
          "juin",
          "juin",
          "juin",
          "juin",
          "juin",
          "juin",
          "juin",
          "juin",
          "juin",
          "juin",
          "juin",
          "juin",
          "juin",
          "juin",
          "juin",
          "juin",
          "juin",
          "juin",
          "juin",
          "juin",
          "juin",
          "juin",
          "juin",
          "juin",
          "juin",
          "juin",
          "juin",
          "juin",
          "juin",
          "juin",
          "juin",
          "juin",
          "juin",
          "juin",
          "juin",
          "juin",
          "juin",
          "juin",
          "juin",
          "juin",
          "juin",
          "juin",
          "juin",
          "juin",
          "juin",
          "juin",
          "juin",
          "juin",
          "juin",
          "juin",
          "juin",
          "juin",
          "juin",
          "juin",
          "juin",
          "juin",
          "juin",
          "juin",
          "juin",
          "juin",
          "juin",
          "juin",
          "juin",
          "juin",
          "juin",
          "juin",
          "juin",
          "juin",
          "juin",
          "juin",
          "juin",
          "juin",
          "juin",
          "juin",
          "juin",
          "juin",
          "juin",
          "juin",
          "juin",
          "juin",
          "juin",
          "juin",
          "juin",
          "juin",
          "juin",
          "juin",
          "juin",
          "juin",
          "juin",
          "juin",
          "juin",
          "juin",
          "juin",
          "juin",
          "juin",
          "juin",
          "juin",
          "juin",
          "juin",
          "juin",
          "juin",
          "juin",
          "juin",
          "juin",
          "juin",
          "juin",
          "juin",
          "juin",
          "juin",
          "juin",
          "juin",
          "juin",
          "juin",
          "juin",
          "juin",
          "juin",
          "juin",
          "juin",
          "juin",
          "juin",
          "juin",
          "juin",
          "juin",
          "juin",
          "juin",
          "juin",
          "juin",
          "juin",
          "juin",
          "juin",
          "juin",
          "juin",
          "juin",
          "juin",
          "juin",
          "juin",
          "juin",
          "juin",
          "juin",
          "juin",
          "juin",
          "juin",
          "juin",
          "juin",
          "juin",
          "juin",
          "juin",
          "juin",
          "juin",
          "juin",
          "juin",
          "juin",
          "juin",
          "juin",
          "juin",
          "juin",
          "juin",
          "juin",
          "juin",
          "juin",
          "juin",
          "juin",
          "juin",
          "juin",
          "juin",
          "juin",
          "juin",
          "juin",
          "juin",
          "juin",
          "juin",
          "juin",
          "juin",
          "juin",
          "juin",
          "juin",
          "juin",
          "juin",
          "juin",
          "juin",
          "juin",
          "juin",
          "juin",
          "juin",
          "juin",
          "juin",
          "juin",
          "juin",
          "juin",
          "juin",
          "juin",
          "juin",
          "juin",
          "juin",
          "juin",
          "juin",
          "juin",
          "juin",
          "juin",
          "juin",
          "juin",
          "juin",
          "juin",
          "juin",
          "juin",
          "juin",
          "juin",
          "juin",
          "juin",
          "juin",
          "juin",
          "juin",
          "juin",
          "juin",
          "juin",
          "juin",
          "juin",
          "juin",
          "juin",
          "juin",
          "juin",
          "juin",
          "juin",
          "juin",
          "juin",
          "juin",
          "juin",
          "juin",
          "juin",
          "juin",
          "juin",
          "juin",
          "juin",
          "juin",
          "juin",
          "juin",
          "juin",
          "juin",
          "juin",
          "juin",
          "juin",
          "juin",
          "juin",
          "juin",
          "juin",
          "juin",
          "juin",
          "juin",
          "juin",
          "juin",
          "juin",
          "juin",
          "juin",
          "juin",
          "juin",
          "juin",
          "juin",
          "juin",
          "juin",
          "juin",
          "juin",
          "juin",
          "juin",
          "juin",
          "juin",
          "juin",
          "juin",
          "juin",
          "juin",
          "juin",
          "juin",
          "juin",
          "juin",
          "juin",
          "juin",
          "juin",
          "juin",
          "juin",
          "juin",
          "juin",
          "juin",
          "juin",
          "juin",
          "juin",
          "juin",
          "juin",
          "juin",
          "juin",
          "juin",
          "juin",
          "juin",
          "juin",
          "juin",
          "juin",
          "juin",
          "juin",
          "juin",
          "juin",
          "juin",
          "mai",
          "mai",
          "mai",
          "mai",
          "mai",
          "mai",
          "mai",
          "mai",
          "mai",
          "mai",
          "mai",
          "mai",
          "mai",
          "mai",
          "mai",
          "mai",
          "mai",
          "mai",
          "mai",
          "mai",
          "mai",
          "mai",
          "mai",
          "mai",
          "mai",
          "mai",
          "mai",
          "mai",
          "mai",
          "mai",
          "mai",
          "mai",
          "mai",
          "mai",
          "mai",
          "mai",
          "mai",
          "mai",
          "mai",
          "mai",
          "mai",
          "mai",
          "mai",
          "mai",
          "mai",
          "mai",
          "mai",
          "mai",
          "mai",
          "mai",
          "mai",
          "mai",
          "mai",
          "mai",
          "mai",
          "mai",
          "mai",
          "mai",
          "mai",
          "mai",
          "mai",
          "mai",
          "mai",
          "mai",
          "mai",
          "mai",
          "mai",
          "mai",
          "mai",
          "mai",
          "mai",
          "mai",
          "mai",
          "mai",
          "mai",
          "mai",
          "mai",
          "mai",
          "mai",
          "mai",
          "mai",
          "mai",
          "mai",
          "mai",
          "mai",
          "mai",
          "mai",
          "mai",
          "mai",
          "mai",
          "mai",
          "mai",
          "mai",
          "mai",
          "mai",
          "mai",
          "mai",
          "mai",
          "mai",
          "mai",
          "mai",
          "mai",
          "mai",
          "mai",
          "mai",
          "mai",
          "mai",
          "mai",
          "mai",
          "mai",
          "mai",
          "mai",
          "mai",
          "mai",
          "mai",
          "mai",
          "mai",
          "mai",
          "mai",
          "mai",
          "mai",
          "mai",
          "mai",
          "mai",
          "mai",
          "mai",
          "mai",
          "mai",
          "mai",
          "mai",
          "mai",
          "mai",
          "mai",
          "mai",
          "mai",
          "mai",
          "mai",
          "mai",
          "mai",
          "mai",
          "mai",
          "mai",
          "mai",
          "mai",
          "mai",
          "mai",
          "mai",
          "mai",
          "mai",
          "mai",
          "mai",
          "mai",
          "mai",
          "mai",
          "mai",
          "mai",
          "mai",
          "mai",
          "mai",
          "mai",
          "mai",
          "mai",
          "mai",
          "mai",
          "mai",
          "mai",
          "mai",
          "mai",
          "mai",
          "mai",
          "mai",
          "mai",
          "mai",
          "mai",
          "mai",
          "mai",
          "mai",
          "mai",
          "mai",
          "mai",
          "mai",
          "mai",
          "mai",
          "mai",
          "mai",
          "mai",
          "mai",
          "mai",
          "mai",
          "mai",
          "mai",
          "mai",
          "mai",
          "mai",
          "mai",
          "mai",
          "mai",
          "mai",
          "mai",
          "mai",
          "mai",
          "mai",
          "mai",
          "mai",
          "mai",
          "mai",
          "mai",
          "mai",
          "mai",
          "mai",
          "mai",
          "mai",
          "mai",
          "mai",
          "mai",
          "mai",
          "mai",
          "mai",
          "mai",
          "mai",
          "mai",
          "mai",
          "mai",
          "mai",
          "mai",
          "mai",
          "mai",
          "mai",
          "mai",
          "mai",
          "mai",
          "mai",
          "mai",
          "mai",
          "mai",
          "mai",
          "mai",
          "mai",
          "mai",
          "mai",
          "mai",
          "mai",
          "mars",
          "mars",
          "mars",
          "mars",
          "mars",
          "mars",
          "mars",
          "mars",
          "mars",
          "mars",
          "mars",
          "mars",
          "mars",
          "mars",
          "mars",
          "mars",
          "mars",
          "mars",
          "mars",
          "mars",
          "mars",
          "mars",
          "mars",
          "mars",
          "mars",
          "mars",
          "mars",
          "mars",
          "mars",
          "mars",
          "mars",
          "mars",
          "mars",
          "mars",
          "mars",
          "mars",
          "mars",
          "mars",
          "mars",
          "mars",
          "mars",
          "mars",
          "mars",
          "mars",
          "mars",
          "mars",
          "mars",
          "mars",
          "mars",
          "mars",
          "mars",
          "mars",
          "mars",
          "mars",
          "mars",
          "mars",
          "mars",
          "mars",
          "mars",
          "mars",
          "mars",
          "mars",
          "mars",
          "mars",
          "mars",
          "mars",
          "mars",
          "mars",
          "mars",
          "mars",
          "mars",
          "mars",
          "mars",
          "mars",
          "mars",
          "mars",
          "mars",
          "mars",
          "mars",
          "mars",
          "mars",
          "mars",
          "mars",
          "mars",
          "mars",
          "mars",
          "mars",
          "mars",
          "mars",
          "mars",
          "mars",
          "mars",
          "mars",
          "mars",
          "mars",
          "mars",
          "mars",
          "mars",
          "mars",
          "mars",
          "mars",
          "mars",
          "mars",
          "mars",
          "mars",
          "mars",
          "mars",
          "mars",
          "mars",
          "mars",
          "mars",
          "mars",
          "mars",
          "mars",
          "mars",
          "mars",
          "mars",
          "mars",
          "mars",
          "mars",
          "mars",
          "mars",
          "mars",
          "mars",
          "mars",
          "mars",
          "mars",
          "mars",
          "mars",
          "mars",
          "mars",
          "mars",
          "mars",
          "mars",
          "mars",
          "mars",
          "mars",
          "mars",
          "mars",
          "mars",
          "mars",
          "mars",
          "mars",
          "nov",
          "nov",
          "nov",
          "nov",
          "nov",
          "nov",
          "nov",
          "nov",
          "nov",
          "nov",
          "nov",
          "nov",
          "nov",
          "nov",
          "nov",
          "nov",
          "nov",
          "nov",
          "nov",
          "nov",
          "nov",
          "nov",
          "nov",
          "nov",
          "nov",
          "nov",
          "nov",
          "nov",
          "nov",
          "nov",
          "nov",
          "nov",
          "nov",
          "nov",
          "nov",
          "nov",
          "nov",
          "nov",
          "nov",
          "nov",
          "nov",
          "nov",
          "nov",
          "nov",
          "nov",
          "nov",
          "nov",
          "nov",
          "nov",
          "nov",
          "nov",
          "nov",
          "nov",
          "nov",
          "nov",
          "nov",
          "nov",
          "nov",
          "nov",
          "nov",
          "nov",
          "nov",
          "nov",
          "nov",
          "nov",
          "nov",
          "nov",
          "nov",
          "nov",
          "nov",
          "nov",
          "nov",
          "nov",
          "nov",
          "nov",
          "nov",
          "nov",
          "nov",
          "nov",
          "nov",
          "nov",
          "nov",
          "oct",
          "oct",
          "oct",
          "oct",
          "oct",
          "oct",
          "oct",
          "oct",
          "oct",
          "oct",
          "oct",
          "oct",
          "oct",
          "oct",
          "oct",
          "oct",
          "oct",
          "oct",
          "oct",
          "oct",
          "oct",
          "oct",
          "oct",
          "oct",
          "oct",
          "oct",
          "oct",
          "oct",
          "oct",
          "oct",
          "oct",
          "oct",
          "oct",
          "oct",
          "oct",
          "oct",
          "oct",
          "oct",
          "oct",
          "oct",
          "oct",
          "oct",
          "oct",
          "oct",
          "oct",
          "oct",
          "oct",
          "oct",
          "oct",
          "oct",
          "oct",
          "oct",
          "oct",
          "oct",
          "oct",
          "oct",
          "oct",
          "oct",
          "oct",
          "oct",
          "oct",
          "oct",
          "oct",
          "oct",
          "oct",
          "oct",
          "oct",
          "oct",
          "oct",
          "oct",
          "oct",
          "oct",
          "oct",
          "oct",
          "oct",
          "oct",
          "oct",
          "oct",
          "oct",
          "oct",
          "oct",
          "oct",
          "oct",
          "oct",
          "oct",
          "oct",
          "oct",
          "oct",
          "oct",
          "oct",
          "oct",
          "oct",
          "oct",
          "oct",
          "oct",
          "oct",
          "oct",
          "oct",
          "oct",
          "oct",
          "oct",
          "oct",
          "oct",
          "oct",
          "oct",
          "oct",
          "oct",
          "oct",
          "oct",
          "oct",
          "oct",
          "oct",
          "oct",
          "oct",
          "oct",
          "oct",
          "oct",
          "oct",
          "oct",
          "oct",
          "oct",
          "oct",
          "oct",
          "oct",
          "oct",
          "oct",
          "oct",
          "oct",
          "oct",
          "oct",
          "oct",
          "oct",
          "oct",
          "oct",
          "oct",
          "oct",
          "oct",
          "oct",
          "oct",
          "oct",
          "oct",
          "oct",
          "sept",
          "sept",
          "sept",
          "sept",
          "sept",
          "sept",
          "sept",
          "sept",
          "sept",
          "sept",
          "sept",
          "sept",
          "sept",
          "sept",
          "sept",
          "sept",
          "sept",
          "sept",
          "sept",
          "sept",
          "sept",
          "sept",
          "sept",
          "sept",
          "sept",
          "sept",
          "sept",
          "sept",
          "sept",
          "sept",
          "sept",
          "sept",
          "sept",
          "sept",
          "sept",
          "sept",
          "sept",
          "sept",
          "sept",
          "sept",
          "sept",
          "sept",
          "sept",
          "sept",
          "sept",
          "sept",
          "sept",
          "sept",
          "sept",
          "sept",
          "sept",
          "sept",
          "sept",
          "sept",
          "sept",
          "sept",
          "sept",
          "sept",
          "sept",
          "sept",
          "sept",
          "sept",
          "sept",
          "sept",
          "sept",
          "sept",
          "sept",
          "sept",
          "sept",
          "sept",
          "sept",
          "sept",
          "sept",
          "sept",
          "sept",
          "sept",
          "sept",
          "sept",
          "sept",
          "sept",
          "sept",
          "sept",
          "sept",
          "sept",
          "sept",
          "sept",
          "sept",
          "sept",
          "sept",
          "sept",
          "sept",
          "sept",
          "sept",
          "sept",
          "sept",
          "sept",
          "sept",
          "sept",
          "sept",
          "sept",
          "sept",
          "sept",
          "sept",
          "sept",
          "sept",
          "sept",
          "sept",
          "sept",
          "sept",
          "sept",
          "sept",
          "sept",
          "sept",
          "sept",
          "sept",
          "sept",
          "sept",
          "sept",
          "sept",
          "sept",
          "sept",
          "sept",
          "sept",
          "sept",
          "sept",
          "sept",
          "sept",
          "sept",
          "sept",
          "sept",
          "sept",
          "sept",
          "sept",
          "sept",
          "sept",
          "sept",
          "sept",
          "sept",
          "sept",
          "sept",
          "sept",
          "sept",
          "sept",
          "sept",
          "sept",
          "sept",
          "sept",
          "sept",
          "sept",
          "sept",
          "sept",
          "sept",
          "sept",
          "sept",
          "sept",
          "sept",
          "sept",
          "sept",
          "sept",
          "sept",
          "sept",
          "sept",
          "sept",
          "sept",
          "sept",
          "sept",
          "sept",
          "sept",
          "sept",
          "sept",
          "sept",
          "sept",
          "sept",
          "sept",
          "sept",
          "sept",
          "sept",
          "sept",
          "sept",
          "sept",
          "sept",
          "sept",
          "sept",
          "sept",
          "sept",
          "sept",
          "sept",
          "sept",
          "sept",
          "sept",
          "sept",
          "sept",
          "sept",
          "sept",
          "sept",
          "sept",
          "sept",
          "sept",
          "sept",
          "sept",
          "sept",
          "sept",
          "sept",
          "sept",
          "sept",
          "sept",
          "sept",
          "sept",
          "sept",
          "sept",
          "sept",
          "sept",
          "sept",
          "sept",
          "sept",
          "sept",
          "sept",
          "sept",
          "sept",
          "sept",
          "sept",
          "sept",
          "sept",
          "sept",
          "sept",
          "sept",
          "sept",
          "sept",
          "sept",
          "sept",
          "sept",
          "sept",
          "sept",
          "sept",
          "sept",
          "sept",
          "sept",
          "sept",
          "sept",
          "sept",
          "sept",
          "sept",
          "sept",
          "sept",
          "sept",
          "sept",
          "sept",
          "sept",
          "sept",
          "sept",
          "sept",
          "sept",
          "sept",
          "sept",
          "sept",
          "sept",
          "sept",
          "sept",
          "sept",
          "sept",
          "sept",
          "sept",
          "sept",
          "sept",
          "sept",
          "sept",
          "sept",
          "sept",
          "sept",
          "sept",
          "sept",
          "sept",
          "sept",
          "sept",
          "sept",
          "sept",
          "sept"
         ],
         "xaxis": "x",
         "y": [
          "FF",
          "FF",
          "FF",
          "FF",
          "FF",
          "FF",
          "FF",
          "FF",
          "MF",
          "MF",
          "MF",
          "MF",
          "MF",
          "MF",
          "MF",
          "MF",
          "MF",
          "MF",
          "MF",
          "MF",
          "MF",
          "MF",
          "MF",
          "MF",
          "MF",
          "MF",
          "MF",
          "MF",
          "MF",
          "MF",
          "MF",
          "MF",
          "MF",
          "MF",
          "MF",
          "MF",
          "MF",
          "MF",
          "MF",
          "MF",
          "MF",
          "MF",
          "MF",
          "MF",
          "MF",
          "MF",
          "MF",
          "MF",
          "MF",
          "MF",
          "MF",
          "MF",
          "MF",
          "MF",
          "MF",
          "MF",
          "MF",
          "MF",
          "MF",
          "MF",
          "MF",
          "MF",
          "MF",
          "MF",
          "MF",
          "MF",
          "MF",
          "MF",
          "MF",
          "MF",
          "MF",
          "MF",
          "MF",
          "MF",
          "MF",
          "MF",
          "MF",
          "MF",
          "MF",
          "MF",
          "MF",
          "MF",
          "MF",
          "MF",
          "MF",
          "MF",
          "MF",
          "MF",
          "MF",
          "MF",
          "MF",
          "MF",
          "MF",
          "MF",
          "MF",
          "MF",
          "MF",
          "MF",
          "MF",
          "MF",
          "MF",
          "MF",
          "MF",
          "MF",
          "MF",
          "MF",
          "MF",
          "MF",
          "MF",
          "MF",
          "MF",
          "MF",
          "MF",
          "MF",
          "MF",
          "MF",
          "MF",
          "MF",
          "MF",
          "MF",
          "MF",
          "MF",
          "MF",
          "MF",
          "MF",
          "MF",
          "MF",
          "MF",
          "MF",
          "MF",
          "MF",
          "MF",
          "MF",
          "MF",
          "MF",
          "MF",
          "MF",
          "MF",
          "MF",
          "MF",
          "MF",
          "MF",
          "MF",
          "MF",
          "MF",
          "MF",
          "MF",
          "MF",
          "MF",
          "MF",
          "MF",
          "MF",
          "MF",
          "MF",
          "MF",
          "MF",
          "MF",
          "MF",
          "MF",
          "MF",
          "MF",
          "MF",
          "MF",
          "MF",
          "MF",
          "MF",
          "MF",
          "MF",
          "MF",
          "MF",
          "MF",
          "MF",
          "MF",
          "MF",
          "MF",
          "MF",
          "MF",
          "MF",
          "MF",
          "MF",
          "MF",
          "MF",
          "MF",
          "MF",
          "MF",
          "MF",
          "MF",
          "MF",
          "MF",
          "MF",
          "MF",
          "MF",
          "MF",
          "MF",
          "MF",
          "MF",
          "MF",
          "MF",
          "MF",
          "MF",
          "MF",
          "MF",
          "MF",
          "MF",
          "MF",
          "MF",
          "MF",
          "MF",
          "MF",
          "MF",
          "MF",
          "MF",
          "MF",
          "MF",
          "MF",
          "MF",
          "MF",
          "MF",
          "MF",
          "MF",
          "MF",
          "MF",
          "MF",
          "MF",
          "MF",
          "MF",
          "MF",
          "MF",
          "MF",
          "MF",
          "MF",
          "MF",
          "MF",
          "MF",
          "MF",
          "MF",
          "MF",
          "MF",
          "MF",
          "MF",
          "MF",
          "MF",
          "MF",
          "MF",
          "MF",
          "MF",
          "MF",
          "MF",
          "MF",
          "MF",
          "MF",
          "MF",
          "MF",
          "MF",
          "MF",
          "MF",
          "MF",
          "MF",
          "MF",
          "MF",
          "MF",
          "MF",
          "MF",
          "MF",
          "MF",
          "MF",
          "MF",
          "MF",
          "MF",
          "MF",
          "MF",
          "MF",
          "MF",
          "MF",
          "MF",
          "MF",
          "MF",
          "MF",
          "MF",
          "MF",
          "MF",
          "MF",
          "MF",
          "MF",
          "MF",
          "MF",
          "MF",
          "MF",
          "MF",
          "MF",
          "MF",
          "MF",
          "MF",
          "MF",
          "MF",
          "MF",
          "MF",
          "MF",
          "MF",
          "MF",
          "MF",
          "MF",
          "MF",
          "MF",
          "MF",
          "MF",
          "MF",
          "MF",
          "MF",
          "MF",
          "MF",
          "MF",
          "MF",
          "MF",
          "MF",
          "MF",
          "MF",
          "MF",
          "MF",
          "MF",
          "MF",
          "MF",
          "MF",
          "MF",
          "MF",
          "MF",
          "MF",
          "MF",
          "MF",
          "MF",
          "MF",
          "MF",
          "MF",
          "MF",
          "MF",
          "MF",
          "MF",
          "MF",
          "MF",
          "MF",
          "MF",
          "MF",
          "MF",
          "MF",
          "MF",
          "MF",
          "MF",
          "MF",
          "MF",
          "MF",
          "MM",
          "MM",
          "MM",
          "MM",
          "MM",
          "MM",
          "FF",
          "MF",
          "MF",
          "MF",
          "MF",
          "MF",
          "MF",
          "MF",
          "MF",
          "MF",
          "MF",
          "MF",
          "MF",
          "MF",
          "MF",
          "MF",
          "MF",
          "MF",
          "MF",
          "MF",
          "MF",
          "MF",
          "MF",
          "MF",
          "MF",
          "MF",
          "MF",
          "MF",
          "MF",
          "MF",
          "MF",
          "MF",
          "MF",
          "MF",
          "MF",
          "MF",
          "MF",
          "MF",
          "MF",
          "MF",
          "MF",
          "MF",
          "MF",
          "MF",
          "MF",
          "MF",
          "MF",
          "MF",
          "MF",
          "MF",
          "MF",
          "MF",
          "MF",
          "MF",
          "MF",
          "MF",
          "MF",
          "MF",
          "MF",
          "MF",
          "MF",
          "MF",
          "MF",
          "MF",
          "MF",
          "MF",
          "MF",
          "MF",
          "MF",
          "MF",
          "MF",
          "MF",
          "MF",
          "MF",
          "MF",
          "MF",
          "MF",
          "MF",
          "MF",
          "MF",
          "MF",
          "MF",
          "MF",
          "MF",
          "MF",
          "MF",
          "MF",
          "MF",
          "MF",
          "MF",
          "MF",
          "MF",
          "MF",
          "MF",
          "MF",
          "MF",
          "MF",
          "MF",
          "MF",
          "MF",
          "MF",
          "MF",
          "MF",
          "MF",
          "MF",
          "MF",
          "MF",
          "MF",
          "MF",
          "MF",
          "MF",
          "MF",
          "MF",
          "MF",
          "MF",
          "MF",
          "MF",
          "MF",
          "MF",
          "MF",
          "MF",
          "MF",
          "MF",
          "MF",
          "MF",
          "MF",
          "MF",
          "MF",
          "MF",
          "MF",
          "MF",
          "MF",
          "MF",
          "MF",
          "MF",
          "MF",
          "MF",
          "MF",
          "MF",
          "MF",
          "MF",
          "MF",
          "MF",
          "MF",
          "MF",
          "MF",
          "MF",
          "MF",
          "MF",
          "MF",
          "MF",
          "MF",
          "MF",
          "MF",
          "MF",
          "MF",
          "MF",
          "MF",
          "MF",
          "MF",
          "MF",
          "MF",
          "MF",
          "MF",
          "MF",
          "MF",
          "MF",
          "MF",
          "MF",
          "MF",
          "MF",
          "MF",
          "MF",
          "MF",
          "MF",
          "MF",
          "MF",
          "MF",
          "MF",
          "MF",
          "MF",
          "MF",
          "MF",
          "MF",
          "MF",
          "MF",
          "MF",
          "MF",
          "MF",
          "MF",
          "MF",
          "MF",
          "MF",
          "MF",
          "MF",
          "MF",
          "MF",
          "MF",
          "MF",
          "MF",
          "MF",
          "MF",
          "MF",
          "MF",
          "MF",
          "MF",
          "MF",
          "MF",
          "MF",
          "MF",
          "MF",
          "MF",
          "MF",
          "MF",
          "MF",
          "MF",
          "MF",
          "MF",
          "MF",
          "MF",
          "MF",
          "MF",
          "MF",
          "MF",
          "MF",
          "MF",
          "MF",
          "MF",
          "MF",
          "MF",
          "MF",
          "MF",
          "MF",
          "MF",
          "MF",
          "MF",
          "MF",
          "MF",
          "MF",
          "MF",
          "MF",
          "MF",
          "MF",
          "FF",
          "MF",
          "MF",
          "MF",
          "MF",
          "MF",
          "MF",
          "MF",
          "MF",
          "MF",
          "MF",
          "MF",
          "MF",
          "MF",
          "MF",
          "MF",
          "MF",
          "MF",
          "MF",
          "MF",
          "MF",
          "MF",
          "MF",
          "MF",
          "MF",
          "MF",
          "MF",
          "MF",
          "MF",
          "MF",
          "MF",
          "MF",
          "MF",
          "MF",
          "MF",
          "MF",
          "MF",
          "MF",
          "MF",
          "MF",
          "MF",
          "MF",
          "MF",
          "MF",
          "MF",
          "MF",
          "MF",
          "MF",
          "MF",
          "MF",
          "MF",
          "MF",
          "MF",
          "MF",
          "MF",
          "MF",
          "MF",
          "MF",
          "MF",
          "MF",
          "MF",
          "MF",
          "MM",
          "MM",
          "MF",
          "MF",
          "MF",
          "MF",
          "MF",
          "MF",
          "MF",
          "MF",
          "MF",
          "MF",
          "MF",
          "MF",
          "MF",
          "MF",
          "MF",
          "MF",
          "MF",
          "MF",
          "MF",
          "MF",
          "MF",
          "MF",
          "MF",
          "MF",
          "MF",
          "MF",
          "MF",
          "MF",
          "MF",
          "MF",
          "MF",
          "MF",
          "MF",
          "MF",
          "MF",
          "MF",
          "MF",
          "MF",
          "MF",
          "MF",
          "MF",
          "MF",
          "MF",
          "MF",
          "MF",
          "MF",
          "MF",
          "FF",
          "FF",
          "FF",
          "FF",
          "FF",
          "FF",
          "FF",
          "MF",
          "MF",
          "MF",
          "MF",
          "MF",
          "MF",
          "MF",
          "MF",
          "MF",
          "MF",
          "MF",
          "MF",
          "MF",
          "MF",
          "MF",
          "MF",
          "MF",
          "MF",
          "MF",
          "MF",
          "MF",
          "MF",
          "MF",
          "MF",
          "MF",
          "MF",
          "MF",
          "MF",
          "MF",
          "MF",
          "MF",
          "MF",
          "MF",
          "MF",
          "MF",
          "MF",
          "MF",
          "MF",
          "MF",
          "MF",
          "MF",
          "MF",
          "MF",
          "MF",
          "MF",
          "MF",
          "MF",
          "MF",
          "MF",
          "MF",
          "MF",
          "MF",
          "MF",
          "MF",
          "MF",
          "MF",
          "MF",
          "MF",
          "MF",
          "MF",
          "MF",
          "MF",
          "MF",
          "MF",
          "MF",
          "MF",
          "MF",
          "MF",
          "MF",
          "MF",
          "MF",
          "MF",
          "MF",
          "MF",
          "MF",
          "MF",
          "MF",
          "MF",
          "MF",
          "MF",
          "MF",
          "MF",
          "MF",
          "MF",
          "MF",
          "MF",
          "MF",
          "MF",
          "MF",
          "MF",
          "MF",
          "MF",
          "MF",
          "MF",
          "MF",
          "MF",
          "MF",
          "MF",
          "MF",
          "MF",
          "MF",
          "MF",
          "MF",
          "MF",
          "MF",
          "MF",
          "MF",
          "MF",
          "MF",
          "MF",
          "MF",
          "MF",
          "MF",
          "MF",
          "MF",
          "MF",
          "MF",
          "MF",
          "MF",
          "MF",
          "MF",
          "MF",
          "MF",
          "MF",
          "MF",
          "MF",
          "MF",
          "MF",
          "MF",
          "MF",
          "MF",
          "MF",
          "MF",
          "MF",
          "MF",
          "MF",
          "MF",
          "MF",
          "MF",
          "MF",
          "MF",
          "MF",
          "MF",
          "MF",
          "MF",
          "MF",
          "MF",
          "MF",
          "MF",
          "MF",
          "MF",
          "MF",
          "MF",
          "MF",
          "MF",
          "MF",
          "MF",
          "MF",
          "MF",
          "MF",
          "MF",
          "MF",
          "MF",
          "MF",
          "MF",
          "MF",
          "MF",
          "MF",
          "MF",
          "MF",
          "MF",
          "MF",
          "MF",
          "MF",
          "MF",
          "MF",
          "MF",
          "MF",
          "MF",
          "MF",
          "MF",
          "MF",
          "MF",
          "MF",
          "MF",
          "MF",
          "MF",
          "MF",
          "MF",
          "MF",
          "MF",
          "MF",
          "MF",
          "MF",
          "MF",
          "MF",
          "MF",
          "MF",
          "MF",
          "MF",
          "MF",
          "MF",
          "MF",
          "MF",
          "MF",
          "MF",
          "MF",
          "MF",
          "MF",
          "MF",
          "MF",
          "MF",
          "MF",
          "MF",
          "MF",
          "MF",
          "MF",
          "MF",
          "MF",
          "MF",
          "MF",
          "MF",
          "MF",
          "MF",
          "MF",
          "MF",
          "MF",
          "MF",
          "MF",
          "MF",
          "MF",
          "MF",
          "MF",
          "MF",
          "MF",
          "MF",
          "MF",
          "MF",
          "MF",
          "MF",
          "MF",
          "MF",
          "MF",
          "MF",
          "MF",
          "MF",
          "MF",
          "MF",
          "MF",
          "MF",
          "MF",
          "MF",
          "MF",
          "MF",
          "MF",
          "MF",
          "MF",
          "MF",
          "MF",
          "MF",
          "MF",
          "MF",
          "MF",
          "MF",
          "MF",
          "MF",
          "MF",
          "MF",
          "MF",
          "MF",
          "MF",
          "MF",
          "MF",
          "MF",
          "MF",
          "MF",
          "MF",
          "MF",
          "MF",
          "MF",
          "MF",
          "MF",
          "MF",
          "MF",
          "MF",
          "MF",
          "MF",
          "MF",
          "MF",
          "MF",
          "MF",
          "MF",
          "MF",
          "MF",
          "MF",
          "MF",
          "MF",
          "MF",
          "MF",
          "MF",
          "MF",
          "MF",
          "MF",
          "MF",
          "MF",
          "MF",
          "MF",
          "MF",
          "MF",
          "MF",
          "MF",
          "MF",
          "MF",
          "MF",
          "MF",
          "MF",
          "MF",
          "MF",
          "MF",
          "MF",
          "MF",
          "MF",
          "MF",
          "MF",
          "MF",
          "MF",
          "MF",
          "MF",
          "MF",
          "MF",
          "MF",
          "MF",
          "MF",
          "MF",
          "MF",
          "MF",
          "MF",
          "MF",
          "MF",
          "MF",
          "MF",
          "MF",
          "MF",
          "MF",
          "MF",
          "MF",
          "MF",
          "MF",
          "MF",
          "MF",
          "MF",
          "MF",
          "MF",
          "MF",
          "MF",
          "MF",
          "MF",
          "MF",
          "MF",
          "MF",
          "MF",
          "MF",
          "MF",
          "MF",
          "MF",
          "MF",
          "MF",
          "MM",
          "MM",
          "MM",
          "MM",
          "MM",
          "MM",
          "FF",
          "FF",
          "FF",
          "FF",
          "FF",
          "FF",
          "MF",
          "MF",
          "MF",
          "MF",
          "MF",
          "MF",
          "MF",
          "MF",
          "MF",
          "MF",
          "MF",
          "MF",
          "MF",
          "MF",
          "MF",
          "MF",
          "MF",
          "MF",
          "MF",
          "MF",
          "MF",
          "MF",
          "MF",
          "MF",
          "MF",
          "MF",
          "MF",
          "MF",
          "MF",
          "MF",
          "MF",
          "MF",
          "MF",
          "MF",
          "MF",
          "MF",
          "MF",
          "MF",
          "MF",
          "MF",
          "MF",
          "MF",
          "MF",
          "MF",
          "MF",
          "MF",
          "MF",
          "MF",
          "MF",
          "MF",
          "MF",
          "MF",
          "MF",
          "MF",
          "MF",
          "MF",
          "MF",
          "MF",
          "MF",
          "MF",
          "MF",
          "MF",
          "MF",
          "MF",
          "MF",
          "MF",
          "MF",
          "MF",
          "MF",
          "MF",
          "MF",
          "MF",
          "MF",
          "MF",
          "MF",
          "MF",
          "MF",
          "MF",
          "MF",
          "MF",
          "MF",
          "MF",
          "MF",
          "MF",
          "MF",
          "MF",
          "MF",
          "MF",
          "MF",
          "MF",
          "MF",
          "MF",
          "MF",
          "MF",
          "MF",
          "MF",
          "MF",
          "MF",
          "MF",
          "MF",
          "MF",
          "MF",
          "MF",
          "MF",
          "MF",
          "MF",
          "MF",
          "MF",
          "MF",
          "MF",
          "MF",
          "MF",
          "MF",
          "MF",
          "MF",
          "MF",
          "MF",
          "MF",
          "MF",
          "MF",
          "MF",
          "MF",
          "MF",
          "MF",
          "MF",
          "MF",
          "MF",
          "MF",
          "MF",
          "MF",
          "MF",
          "MF",
          "MF",
          "MF",
          "MF",
          "MF",
          "MF",
          "MF",
          "MF",
          "MF",
          "MF",
          "MF",
          "MF",
          "MF",
          "MF",
          "MF",
          "MF",
          "MF",
          "MF",
          "MF",
          "MF",
          "MF",
          "MF",
          "MF",
          "MF",
          "MF",
          "MF",
          "MF",
          "MF",
          "MF",
          "MF",
          "MF",
          "MF",
          "MF",
          "MF",
          "MF",
          "MF",
          "MF",
          "MF",
          "MF",
          "MF",
          "MF",
          "MF",
          "MF",
          "MF",
          "MF",
          "MF",
          "MF",
          "MF",
          "MF",
          "MF",
          "MF",
          "MF",
          "MF",
          "MF",
          "MF",
          "MF",
          "MF",
          "MF",
          "MF",
          "MF",
          "MF",
          "MF",
          "MF",
          "MF",
          "MF",
          "MF",
          "MF",
          "MF",
          "MF",
          "MF",
          "MF",
          "MF",
          "MF",
          "MF",
          "MF",
          "MF",
          "MF",
          "MF",
          "MF",
          "MF",
          "MF",
          "MF",
          "MF",
          "MF",
          "MF",
          "MF",
          "MF",
          "MF",
          "MF",
          "MF",
          "MF",
          "MF",
          "MF",
          "MF",
          "MF",
          "MF",
          "MF",
          "MF",
          "MF",
          "MF",
          "MF",
          "MF",
          "MF",
          "MF",
          "MF",
          "MF",
          "MF",
          "MF",
          "MF",
          "MF",
          "MF",
          "MF",
          "MF",
          "MF",
          "MF",
          "MF",
          "MF",
          "MF",
          "MF",
          "MF",
          "MF",
          "MF",
          "MF",
          "MF",
          "MF",
          "MF",
          "MF",
          "MF",
          "MF",
          "MF",
          "MF",
          "MF",
          "MF",
          "MF",
          "MF",
          "MF",
          "MF",
          "MF",
          "MF",
          "MF",
          "MF",
          "MF",
          "MF",
          "MF",
          "MF",
          "MF",
          "MF",
          "MF",
          "MF",
          "MF",
          "MF",
          "MF",
          "MF",
          "MF",
          "MF",
          "MF",
          "MF",
          "MF",
          "MF",
          "MF",
          "MF",
          "MF",
          "MF",
          "MF",
          "MF",
          "MF",
          "MF",
          "MF",
          "MF",
          "MF",
          "MF",
          "MF",
          "MF",
          "MF",
          "MF",
          "MF",
          "MF",
          "MF",
          "MF",
          "MF",
          "MF",
          "MF",
          "MF",
          "MF",
          "MF",
          "MF",
          "MF",
          "MF",
          "MF",
          "MF",
          "MF",
          "MF",
          "MF",
          "MF",
          "MF",
          "MF",
          "MF",
          "MF",
          "MF",
          "MF",
          "MF",
          "MF",
          "MF",
          "MF",
          "MF",
          "MF",
          "MF",
          "MF",
          "MF",
          "MF",
          "MF",
          "MF",
          "MF",
          "MF",
          "MF",
          "MF",
          "MF",
          "MF",
          "MF",
          "MF",
          "MF",
          "MF",
          "MF",
          "MM",
          "MM",
          "MM",
          "MM",
          "FF",
          "FF",
          "FF",
          "FF",
          "FF",
          "FF",
          "MF",
          "MF",
          "MF",
          "MF",
          "MF",
          "MF",
          "MF",
          "MF",
          "MF",
          "MF",
          "MF",
          "MF",
          "MF",
          "MF",
          "MF",
          "MF",
          "MF",
          "MF",
          "MF",
          "MF",
          "MF",
          "MF",
          "MF",
          "MF",
          "MF",
          "MF",
          "MF",
          "MF",
          "MF",
          "MF",
          "MF",
          "MF",
          "MF",
          "MF",
          "MF",
          "MF",
          "MF",
          "MF",
          "MF",
          "MF",
          "MF",
          "MF",
          "MF",
          "MF",
          "MF",
          "MF",
          "MF",
          "MF",
          "MF",
          "MF",
          "MF",
          "MF",
          "MF",
          "MF",
          "MF",
          "MF",
          "MF",
          "MF",
          "MF",
          "MF",
          "MF",
          "MF",
          "MF",
          "MF",
          "MF",
          "MF",
          "MF",
          "MF",
          "MF",
          "MF",
          "MF",
          "MF",
          "MF",
          "MF",
          "MF",
          "MF",
          "MF",
          "MF",
          "MF",
          "MF",
          "MF",
          "MF",
          "MF",
          "MF",
          "MF",
          "MF",
          "MF",
          "MF",
          "MF",
          "MF",
          "MF",
          "MF",
          "MF",
          "MF",
          "MF",
          "MF",
          "MF",
          "MF",
          "MF",
          "MF",
          "MF",
          "MF",
          "MF",
          "MF",
          "MF",
          "MF",
          "MF",
          "MF",
          "MF",
          "MF",
          "MF",
          "MF",
          "MF",
          "MF",
          "MF",
          "MF",
          "MF",
          "MF",
          "MF",
          "MF",
          "MF",
          "MF",
          "MF",
          "MF",
          "MF",
          "MF",
          "MF",
          "MF",
          "MF",
          "MF",
          "MF",
          "MF",
          "MF",
          "MF",
          "MF",
          "MF",
          "MF",
          "MF",
          "MF",
          "MF",
          "MF",
          "MF",
          "MF",
          "MF",
          "MF",
          "MF",
          "MF",
          "MF",
          "MF",
          "MF",
          "MF",
          "MF",
          "MF",
          "MF",
          "MF",
          "MF",
          "MF",
          "MF",
          "MF",
          "MF",
          "MF",
          "MF",
          "MF",
          "MF",
          "MF",
          "MF",
          "MF",
          "MF",
          "MF",
          "MF",
          "MF",
          "MF",
          "MF",
          "MF",
          "MF",
          "MF",
          "MF",
          "MF",
          "MF",
          "MF",
          "MF",
          "MF",
          "MF",
          "MF",
          "MF",
          "MF",
          "MF",
          "MF",
          "MF",
          "MF",
          "MF",
          "MF",
          "MF",
          "MF",
          "MF",
          "MF",
          "MF",
          "MF",
          "MF",
          "MF",
          "MF",
          "MF",
          "MF",
          "MF",
          "MF",
          "MF",
          "MF",
          "MF",
          "MF",
          "MF",
          "MF",
          "MF",
          "MF",
          "MF",
          "MF",
          "MF",
          "MF",
          "MF",
          "MF",
          "MF",
          "MF",
          "MF",
          "MF",
          "MF",
          "MF",
          "MF",
          "MF",
          "MF",
          "MF",
          "MF",
          "MF",
          "MF",
          "MF",
          "MF",
          "MM",
          "MM",
          "FF",
          "FF",
          "FF",
          "FF",
          "FF",
          "FF",
          "MF",
          "MF",
          "MF",
          "MF",
          "MF",
          "MF",
          "MF",
          "MF",
          "MF",
          "MF",
          "MF",
          "MF",
          "MF",
          "MF",
          "MF",
          "MF",
          "MF",
          "MF",
          "MF",
          "MF",
          "MF",
          "MF",
          "MF",
          "MF",
          "MF",
          "MF",
          "MF",
          "MF",
          "MF",
          "MF",
          "MF",
          "MF",
          "MF",
          "MF",
          "MF",
          "MF",
          "MF",
          "MF",
          "MF",
          "MF",
          "MF",
          "MF",
          "MF",
          "MF",
          "MF",
          "MF",
          "MF",
          "MF",
          "MF",
          "MF",
          "MF",
          "MF",
          "MF",
          "MF",
          "MF",
          "MF",
          "MF",
          "MF",
          "MF",
          "MF",
          "MF",
          "MF",
          "MF",
          "MF",
          "MF",
          "MF",
          "MF",
          "MF",
          "MF",
          "MF",
          "MF",
          "MF",
          "MF",
          "MF",
          "MF",
          "MF",
          "MF",
          "MF",
          "MF",
          "MF",
          "MF",
          "MF",
          "MF",
          "MF",
          "MF",
          "MF",
          "MF",
          "MF",
          "MF",
          "MF",
          "MF",
          "MF",
          "MF",
          "MF",
          "MF",
          "MF",
          "MF",
          "MF",
          "MF",
          "MF",
          "MF",
          "MF",
          "MF",
          "MF",
          "MF",
          "MF",
          "MF",
          "MF",
          "MF",
          "MF",
          "MF",
          "MF",
          "MF",
          "MF",
          "MF",
          "MF",
          "MF",
          "MF",
          "MF",
          "MF",
          "MF",
          "MF",
          "MF",
          "MF",
          "MF",
          "MF",
          "MF",
          "MF",
          "MF",
          "MF",
          "MF",
          "MF",
          "MM",
          "MM",
          "MM",
          "MM",
          "MM",
          "FF",
          "MF",
          "MF",
          "MF",
          "MF",
          "MF",
          "MF",
          "MF",
          "MF",
          "MF",
          "MF",
          "MF",
          "MF",
          "MF",
          "MF",
          "MF",
          "MF",
          "MF",
          "MF",
          "MF",
          "MF",
          "MF",
          "MF",
          "MF",
          "MF",
          "MF",
          "MF",
          "MF",
          "MF",
          "MF",
          "MF",
          "MF",
          "MF",
          "MF",
          "MF",
          "MF",
          "MF",
          "MF",
          "MF",
          "MF",
          "MF",
          "MF",
          "MF",
          "MF",
          "MF",
          "MF",
          "MF",
          "MF",
          "MF",
          "MF",
          "MF",
          "MF",
          "MF",
          "MF",
          "MF",
          "MF",
          "MF",
          "MF",
          "MF",
          "MF",
          "MF",
          "MF",
          "MF",
          "MF",
          "MF",
          "MF",
          "MF",
          "MF",
          "MF",
          "MF",
          "MF",
          "MF",
          "MF",
          "MF",
          "MF",
          "MF",
          "MF",
          "MM",
          "MM",
          "MM",
          "MM",
          "MM",
          "FF",
          "MF",
          "MF",
          "MF",
          "MF",
          "MF",
          "MF",
          "MF",
          "MF",
          "MF",
          "MF",
          "MF",
          "MF",
          "MF",
          "MF",
          "MF",
          "MF",
          "MF",
          "MF",
          "MF",
          "MF",
          "MF",
          "MF",
          "MF",
          "MF",
          "MF",
          "MF",
          "MF",
          "MF",
          "MF",
          "MF",
          "MF",
          "MF",
          "MF",
          "MF",
          "MF",
          "MF",
          "MF",
          "MF",
          "MF",
          "MF",
          "MF",
          "MF",
          "MF",
          "MF",
          "MF",
          "MF",
          "MF",
          "MF",
          "MF",
          "MF",
          "MF",
          "MF",
          "MF",
          "MF",
          "MF",
          "MF",
          "MF",
          "MF",
          "MF",
          "MF",
          "MF",
          "MF",
          "MF",
          "MF",
          "MF",
          "MF",
          "MF",
          "MF",
          "MF",
          "MF",
          "MF",
          "MF",
          "MF",
          "MF",
          "MF",
          "MF",
          "MF",
          "MF",
          "MF",
          "MF",
          "MF",
          "MF",
          "MF",
          "MF",
          "MF",
          "MF",
          "MF",
          "MF",
          "MF",
          "MF",
          "MF",
          "MF",
          "MF",
          "MF",
          "MF",
          "MF",
          "MF",
          "MF",
          "MF",
          "MF",
          "MF",
          "MF",
          "MF",
          "MF",
          "MF",
          "MF",
          "MF",
          "MF",
          "MF",
          "MF",
          "MF",
          "MF",
          "MF",
          "MF",
          "MF",
          "MF",
          "MF",
          "MF",
          "MF",
          "MF",
          "MF",
          "MF",
          "MF",
          "MF",
          "MF",
          "MF",
          "MF",
          "MF",
          "MF",
          "MF",
          "MF",
          "MF",
          "MF",
          "MF",
          "MF",
          "MF",
          "MF",
          "MF",
          "MM",
          "MM",
          "MM",
          "FF",
          "FF",
          "FF",
          "MF",
          "MF",
          "MF",
          "MF",
          "MF",
          "MF",
          "MF",
          "MF",
          "MF",
          "MF",
          "MF",
          "MF",
          "MF",
          "MF",
          "MF",
          "MF",
          "MF",
          "MF",
          "MF",
          "MF",
          "MF",
          "MF",
          "MF",
          "MF",
          "MF",
          "MF",
          "MF",
          "MF",
          "MF",
          "MF",
          "MF",
          "MF",
          "MF",
          "MF",
          "MF",
          "MF",
          "MF",
          "MF",
          "MF",
          "MF",
          "MF",
          "MF",
          "MF",
          "MF",
          "MF",
          "MF",
          "MF",
          "MF",
          "MF",
          "MF",
          "MF",
          "MF",
          "MF",
          "MF",
          "MF",
          "MF",
          "MF",
          "MF",
          "MF",
          "MF",
          "MF",
          "MF",
          "MF",
          "MF",
          "MF",
          "MF",
          "MF",
          "MF",
          "MF",
          "MF",
          "MF",
          "MF",
          "MF",
          "MF",
          "MF",
          "MF",
          "MF",
          "MF",
          "MF",
          "MF",
          "MF",
          "MF",
          "MF",
          "MF",
          "MF",
          "MF",
          "MF",
          "MF",
          "MF",
          "MF",
          "MF",
          "MF",
          "MF",
          "MF",
          "MF",
          "MF",
          "MF",
          "MF",
          "MF",
          "MF",
          "MF",
          "MF",
          "MF",
          "MF",
          "MF",
          "MF",
          "MF",
          "MF",
          "MF",
          "MF",
          "MF",
          "MF",
          "MF",
          "MF",
          "MF",
          "MF",
          "MF",
          "MF",
          "MF",
          "MF",
          "MF",
          "MF",
          "MF",
          "MF",
          "MF",
          "MF",
          "MF",
          "MF",
          "MF",
          "MF",
          "MF",
          "MF",
          "MF",
          "MF",
          "MF",
          "MF",
          "MF",
          "MF",
          "MF",
          "MF",
          "MF",
          "MF",
          "MF",
          "MF",
          "MF",
          "MF",
          "MF",
          "MF",
          "MF",
          "MF",
          "MF",
          "MF",
          "MF",
          "MF",
          "MF",
          "MF",
          "MF",
          "MF",
          "MF",
          "MF",
          "MF",
          "MF",
          "MF",
          "MF",
          "MF",
          "MF",
          "MF",
          "MF",
          "MF",
          "MF",
          "MF",
          "MF",
          "MF",
          "MF",
          "MF",
          "MF",
          "MF",
          "MF",
          "MF",
          "MF",
          "MF",
          "MF",
          "MF",
          "MF",
          "MF",
          "MF",
          "MF",
          "MF",
          "MF",
          "MF",
          "MF",
          "MF",
          "MF",
          "MF",
          "MF",
          "MF",
          "MF",
          "MF",
          "MF",
          "MF",
          "MF",
          "MF",
          "MF",
          "MF",
          "MF",
          "MF",
          "MF",
          "MF",
          "MF",
          "MF",
          "MF",
          "MF",
          "MF",
          "MF",
          "MF",
          "MF",
          "MF",
          "MF",
          "MF",
          "MF",
          "MF",
          "MF",
          "MF",
          "MF",
          "MF",
          "MF",
          "MF",
          "MF",
          "MF",
          "MF",
          "MF",
          "MF",
          "MF",
          "MF",
          "MF",
          "MF",
          "MF",
          "MF",
          "MF",
          "MF",
          "MF",
          "MF",
          "MF",
          "MF",
          "MF",
          "MF",
          "MF",
          "MF",
          "MF",
          "MF",
          "MF",
          "MF",
          "MF",
          "MF",
          "MF",
          "MF",
          "MF",
          "MF",
          "MF",
          "MF",
          "MF",
          "MF",
          "MF",
          "MF",
          "MF",
          "MF",
          "MF",
          "MF",
          "MF",
          "MF",
          "MF",
          "MF",
          "MM",
          "MM"
         ],
         "yaxis": "y"
        }
       ],
       "layout": {
        "barmode": "relative",
        "legend": {
         "tracegroupgap": 0
        },
        "template": {
         "data": {
          "bar": [
           {
            "error_x": {
             "color": "#2a3f5f"
            },
            "error_y": {
             "color": "#2a3f5f"
            },
            "marker": {
             "line": {
              "color": "#E5ECF6",
              "width": 0.5
             },
             "pattern": {
              "fillmode": "overlay",
              "size": 10,
              "solidity": 0.2
             }
            },
            "type": "bar"
           }
          ],
          "barpolar": [
           {
            "marker": {
             "line": {
              "color": "#E5ECF6",
              "width": 0.5
             },
             "pattern": {
              "fillmode": "overlay",
              "size": 10,
              "solidity": 0.2
             }
            },
            "type": "barpolar"
           }
          ],
          "carpet": [
           {
            "aaxis": {
             "endlinecolor": "#2a3f5f",
             "gridcolor": "white",
             "linecolor": "white",
             "minorgridcolor": "white",
             "startlinecolor": "#2a3f5f"
            },
            "baxis": {
             "endlinecolor": "#2a3f5f",
             "gridcolor": "white",
             "linecolor": "white",
             "minorgridcolor": "white",
             "startlinecolor": "#2a3f5f"
            },
            "type": "carpet"
           }
          ],
          "choropleth": [
           {
            "colorbar": {
             "outlinewidth": 0,
             "ticks": ""
            },
            "type": "choropleth"
           }
          ],
          "contour": [
           {
            "colorbar": {
             "outlinewidth": 0,
             "ticks": ""
            },
            "colorscale": [
             [
              0,
              "#0d0887"
             ],
             [
              0.1111111111111111,
              "#46039f"
             ],
             [
              0.2222222222222222,
              "#7201a8"
             ],
             [
              0.3333333333333333,
              "#9c179e"
             ],
             [
              0.4444444444444444,
              "#bd3786"
             ],
             [
              0.5555555555555556,
              "#d8576b"
             ],
             [
              0.6666666666666666,
              "#ed7953"
             ],
             [
              0.7777777777777778,
              "#fb9f3a"
             ],
             [
              0.8888888888888888,
              "#fdca26"
             ],
             [
              1,
              "#f0f921"
             ]
            ],
            "type": "contour"
           }
          ],
          "contourcarpet": [
           {
            "colorbar": {
             "outlinewidth": 0,
             "ticks": ""
            },
            "type": "contourcarpet"
           }
          ],
          "heatmap": [
           {
            "colorbar": {
             "outlinewidth": 0,
             "ticks": ""
            },
            "colorscale": [
             [
              0,
              "#0d0887"
             ],
             [
              0.1111111111111111,
              "#46039f"
             ],
             [
              0.2222222222222222,
              "#7201a8"
             ],
             [
              0.3333333333333333,
              "#9c179e"
             ],
             [
              0.4444444444444444,
              "#bd3786"
             ],
             [
              0.5555555555555556,
              "#d8576b"
             ],
             [
              0.6666666666666666,
              "#ed7953"
             ],
             [
              0.7777777777777778,
              "#fb9f3a"
             ],
             [
              0.8888888888888888,
              "#fdca26"
             ],
             [
              1,
              "#f0f921"
             ]
            ],
            "type": "heatmap"
           }
          ],
          "heatmapgl": [
           {
            "colorbar": {
             "outlinewidth": 0,
             "ticks": ""
            },
            "colorscale": [
             [
              0,
              "#0d0887"
             ],
             [
              0.1111111111111111,
              "#46039f"
             ],
             [
              0.2222222222222222,
              "#7201a8"
             ],
             [
              0.3333333333333333,
              "#9c179e"
             ],
             [
              0.4444444444444444,
              "#bd3786"
             ],
             [
              0.5555555555555556,
              "#d8576b"
             ],
             [
              0.6666666666666666,
              "#ed7953"
             ],
             [
              0.7777777777777778,
              "#fb9f3a"
             ],
             [
              0.8888888888888888,
              "#fdca26"
             ],
             [
              1,
              "#f0f921"
             ]
            ],
            "type": "heatmapgl"
           }
          ],
          "histogram": [
           {
            "marker": {
             "pattern": {
              "fillmode": "overlay",
              "size": 10,
              "solidity": 0.2
             }
            },
            "type": "histogram"
           }
          ],
          "histogram2d": [
           {
            "colorbar": {
             "outlinewidth": 0,
             "ticks": ""
            },
            "colorscale": [
             [
              0,
              "#0d0887"
             ],
             [
              0.1111111111111111,
              "#46039f"
             ],
             [
              0.2222222222222222,
              "#7201a8"
             ],
             [
              0.3333333333333333,
              "#9c179e"
             ],
             [
              0.4444444444444444,
              "#bd3786"
             ],
             [
              0.5555555555555556,
              "#d8576b"
             ],
             [
              0.6666666666666666,
              "#ed7953"
             ],
             [
              0.7777777777777778,
              "#fb9f3a"
             ],
             [
              0.8888888888888888,
              "#fdca26"
             ],
             [
              1,
              "#f0f921"
             ]
            ],
            "type": "histogram2d"
           }
          ],
          "histogram2dcontour": [
           {
            "colorbar": {
             "outlinewidth": 0,
             "ticks": ""
            },
            "colorscale": [
             [
              0,
              "#0d0887"
             ],
             [
              0.1111111111111111,
              "#46039f"
             ],
             [
              0.2222222222222222,
              "#7201a8"
             ],
             [
              0.3333333333333333,
              "#9c179e"
             ],
             [
              0.4444444444444444,
              "#bd3786"
             ],
             [
              0.5555555555555556,
              "#d8576b"
             ],
             [
              0.6666666666666666,
              "#ed7953"
             ],
             [
              0.7777777777777778,
              "#fb9f3a"
             ],
             [
              0.8888888888888888,
              "#fdca26"
             ],
             [
              1,
              "#f0f921"
             ]
            ],
            "type": "histogram2dcontour"
           }
          ],
          "mesh3d": [
           {
            "colorbar": {
             "outlinewidth": 0,
             "ticks": ""
            },
            "type": "mesh3d"
           }
          ],
          "parcoords": [
           {
            "line": {
             "colorbar": {
              "outlinewidth": 0,
              "ticks": ""
             }
            },
            "type": "parcoords"
           }
          ],
          "pie": [
           {
            "automargin": true,
            "type": "pie"
           }
          ],
          "scatter": [
           {
            "marker": {
             "colorbar": {
              "outlinewidth": 0,
              "ticks": ""
             }
            },
            "type": "scatter"
           }
          ],
          "scatter3d": [
           {
            "line": {
             "colorbar": {
              "outlinewidth": 0,
              "ticks": ""
             }
            },
            "marker": {
             "colorbar": {
              "outlinewidth": 0,
              "ticks": ""
             }
            },
            "type": "scatter3d"
           }
          ],
          "scattercarpet": [
           {
            "marker": {
             "colorbar": {
              "outlinewidth": 0,
              "ticks": ""
             }
            },
            "type": "scattercarpet"
           }
          ],
          "scattergeo": [
           {
            "marker": {
             "colorbar": {
              "outlinewidth": 0,
              "ticks": ""
             }
            },
            "type": "scattergeo"
           }
          ],
          "scattergl": [
           {
            "marker": {
             "colorbar": {
              "outlinewidth": 0,
              "ticks": ""
             }
            },
            "type": "scattergl"
           }
          ],
          "scattermapbox": [
           {
            "marker": {
             "colorbar": {
              "outlinewidth": 0,
              "ticks": ""
             }
            },
            "type": "scattermapbox"
           }
          ],
          "scatterpolar": [
           {
            "marker": {
             "colorbar": {
              "outlinewidth": 0,
              "ticks": ""
             }
            },
            "type": "scatterpolar"
           }
          ],
          "scatterpolargl": [
           {
            "marker": {
             "colorbar": {
              "outlinewidth": 0,
              "ticks": ""
             }
            },
            "type": "scatterpolargl"
           }
          ],
          "scatterternary": [
           {
            "marker": {
             "colorbar": {
              "outlinewidth": 0,
              "ticks": ""
             }
            },
            "type": "scatterternary"
           }
          ],
          "surface": [
           {
            "colorbar": {
             "outlinewidth": 0,
             "ticks": ""
            },
            "colorscale": [
             [
              0,
              "#0d0887"
             ],
             [
              0.1111111111111111,
              "#46039f"
             ],
             [
              0.2222222222222222,
              "#7201a8"
             ],
             [
              0.3333333333333333,
              "#9c179e"
             ],
             [
              0.4444444444444444,
              "#bd3786"
             ],
             [
              0.5555555555555556,
              "#d8576b"
             ],
             [
              0.6666666666666666,
              "#ed7953"
             ],
             [
              0.7777777777777778,
              "#fb9f3a"
             ],
             [
              0.8888888888888888,
              "#fdca26"
             ],
             [
              1,
              "#f0f921"
             ]
            ],
            "type": "surface"
           }
          ],
          "table": [
           {
            "cells": {
             "fill": {
              "color": "#EBF0F8"
             },
             "line": {
              "color": "white"
             }
            },
            "header": {
             "fill": {
              "color": "#C8D4E3"
             },
             "line": {
              "color": "white"
             }
            },
            "type": "table"
           }
          ]
         },
         "layout": {
          "annotationdefaults": {
           "arrowcolor": "#2a3f5f",
           "arrowhead": 0,
           "arrowwidth": 1
          },
          "autotypenumbers": "strict",
          "coloraxis": {
           "colorbar": {
            "outlinewidth": 0,
            "ticks": ""
           }
          },
          "colorscale": {
           "diverging": [
            [
             0,
             "#8e0152"
            ],
            [
             0.1,
             "#c51b7d"
            ],
            [
             0.2,
             "#de77ae"
            ],
            [
             0.3,
             "#f1b6da"
            ],
            [
             0.4,
             "#fde0ef"
            ],
            [
             0.5,
             "#f7f7f7"
            ],
            [
             0.6,
             "#e6f5d0"
            ],
            [
             0.7,
             "#b8e186"
            ],
            [
             0.8,
             "#7fbc41"
            ],
            [
             0.9,
             "#4d9221"
            ],
            [
             1,
             "#276419"
            ]
           ],
           "sequential": [
            [
             0,
             "#0d0887"
            ],
            [
             0.1111111111111111,
             "#46039f"
            ],
            [
             0.2222222222222222,
             "#7201a8"
            ],
            [
             0.3333333333333333,
             "#9c179e"
            ],
            [
             0.4444444444444444,
             "#bd3786"
            ],
            [
             0.5555555555555556,
             "#d8576b"
            ],
            [
             0.6666666666666666,
             "#ed7953"
            ],
            [
             0.7777777777777778,
             "#fb9f3a"
            ],
            [
             0.8888888888888888,
             "#fdca26"
            ],
            [
             1,
             "#f0f921"
            ]
           ],
           "sequentialminus": [
            [
             0,
             "#0d0887"
            ],
            [
             0.1111111111111111,
             "#46039f"
            ],
            [
             0.2222222222222222,
             "#7201a8"
            ],
            [
             0.3333333333333333,
             "#9c179e"
            ],
            [
             0.4444444444444444,
             "#bd3786"
            ],
            [
             0.5555555555555556,
             "#d8576b"
            ],
            [
             0.6666666666666666,
             "#ed7953"
            ],
            [
             0.7777777777777778,
             "#fb9f3a"
            ],
            [
             0.8888888888888888,
             "#fdca26"
            ],
            [
             1,
             "#f0f921"
            ]
           ]
          },
          "colorway": [
           "#636efa",
           "#EF553B",
           "#00cc96",
           "#ab63fa",
           "#FFA15A",
           "#19d3f3",
           "#FF6692",
           "#B6E880",
           "#FF97FF",
           "#FECB52"
          ],
          "font": {
           "color": "#2a3f5f"
          },
          "geo": {
           "bgcolor": "white",
           "lakecolor": "white",
           "landcolor": "#E5ECF6",
           "showlakes": true,
           "showland": true,
           "subunitcolor": "white"
          },
          "hoverlabel": {
           "align": "left"
          },
          "hovermode": "closest",
          "mapbox": {
           "style": "light"
          },
          "paper_bgcolor": "white",
          "plot_bgcolor": "#E5ECF6",
          "polar": {
           "angularaxis": {
            "gridcolor": "white",
            "linecolor": "white",
            "ticks": ""
           },
           "bgcolor": "#E5ECF6",
           "radialaxis": {
            "gridcolor": "white",
            "linecolor": "white",
            "ticks": ""
           }
          },
          "scene": {
           "xaxis": {
            "backgroundcolor": "#E5ECF6",
            "gridcolor": "white",
            "gridwidth": 2,
            "linecolor": "white",
            "showbackground": true,
            "ticks": "",
            "zerolinecolor": "white"
           },
           "yaxis": {
            "backgroundcolor": "#E5ECF6",
            "gridcolor": "white",
            "gridwidth": 2,
            "linecolor": "white",
            "showbackground": true,
            "ticks": "",
            "zerolinecolor": "white"
           },
           "zaxis": {
            "backgroundcolor": "#E5ECF6",
            "gridcolor": "white",
            "gridwidth": 2,
            "linecolor": "white",
            "showbackground": true,
            "ticks": "",
            "zerolinecolor": "white"
           }
          },
          "shapedefaults": {
           "line": {
            "color": "#2a3f5f"
           }
          },
          "ternary": {
           "aaxis": {
            "gridcolor": "white",
            "linecolor": "white",
            "ticks": ""
           },
           "baxis": {
            "gridcolor": "white",
            "linecolor": "white",
            "ticks": ""
           },
           "bgcolor": "#E5ECF6",
           "caxis": {
            "gridcolor": "white",
            "linecolor": "white",
            "ticks": ""
           }
          },
          "title": {
           "x": 0.05
          },
          "xaxis": {
           "automargin": true,
           "gridcolor": "white",
           "linecolor": "white",
           "ticks": "",
           "title": {
            "standoff": 15
           },
           "zerolinecolor": "white",
           "zerolinewidth": 2
          },
          "yaxis": {
           "automargin": true,
           "gridcolor": "white",
           "linecolor": "white",
           "ticks": "",
           "title": {
            "standoff": 15
           },
           "zerolinecolor": "white",
           "zerolinewidth": 2
          }
         }
        },
        "title": {
         "text": "Bla"
        },
        "xaxis": {
         "anchor": "y",
         "domain": [
          0,
          1
         ],
         "title": {
          "text": "MMAR"
         }
        },
        "yaxis": {
         "anchor": "x",
         "domain": [
          0,
          1
         ],
         "title": {
          "text": "Mariage"
         }
        }
       }
      },
      "text/html": [
       "<div>                            <div id=\"42aceb17-631d-4c77-af61-0163ead584e8\" class=\"plotly-graph-div\" style=\"height:525px; width:100%;\"></div>            <script type=\"text/javascript\">                require([\"plotly\"], function(Plotly) {                    window.PLOTLYENV=window.PLOTLYENV || {};                                    if (document.getElementById(\"42aceb17-631d-4c77-af61-0163ead584e8\")) {                    Plotly.newPlot(                        \"42aceb17-631d-4c77-af61-0163ead584e8\",                        [{\"alignmentgroup\":\"True\",\"hovertemplate\":\"MMAR=%{x}<br>Mariage=%{y}<extra></extra>\",\"legendgroup\":\"\",\"marker\":{\"color\":\"#636efa\",\"pattern\":{\"shape\":\"\"}},\"name\":\"\",\"offsetgroup\":\"\",\"orientation\":\"v\",\"showlegend\":false,\"textposition\":\"auto\",\"x\":[\"aout\",\"aout\",\"aout\",\"aout\",\"aout\",\"aout\",\"aout\",\"aout\",\"aout\",\"aout\",\"aout\",\"aout\",\"aout\",\"aout\",\"aout\",\"aout\",\"aout\",\"aout\",\"aout\",\"aout\",\"aout\",\"aout\",\"aout\",\"aout\",\"aout\",\"aout\",\"aout\",\"aout\",\"aout\",\"aout\",\"aout\",\"aout\",\"aout\",\"aout\",\"aout\",\"aout\",\"aout\",\"aout\",\"aout\",\"aout\",\"aout\",\"aout\",\"aout\",\"aout\",\"aout\",\"aout\",\"aout\",\"aout\",\"aout\",\"aout\",\"aout\",\"aout\",\"aout\",\"aout\",\"aout\",\"aout\",\"aout\",\"aout\",\"aout\",\"aout\",\"aout\",\"aout\",\"aout\",\"aout\",\"aout\",\"aout\",\"aout\",\"aout\",\"aout\",\"aout\",\"aout\",\"aout\",\"aout\",\"aout\",\"aout\",\"aout\",\"aout\",\"aout\",\"aout\",\"aout\",\"aout\",\"aout\",\"aout\",\"aout\",\"aout\",\"aout\",\"aout\",\"aout\",\"aout\",\"aout\",\"aout\",\"aout\",\"aout\",\"aout\",\"aout\",\"aout\",\"aout\",\"aout\",\"aout\",\"aout\",\"aout\",\"aout\",\"aout\",\"aout\",\"aout\",\"aout\",\"aout\",\"aout\",\"aout\",\"aout\",\"aout\",\"aout\",\"aout\",\"aout\",\"aout\",\"aout\",\"aout\",\"aout\",\"aout\",\"aout\",\"aout\",\"aout\",\"aout\",\"aout\",\"aout\",\"aout\",\"aout\",\"aout\",\"aout\",\"aout\",\"aout\",\"aout\",\"aout\",\"aout\",\"aout\",\"aout\",\"aout\",\"aout\",\"aout\",\"aout\",\"aout\",\"aout\",\"aout\",\"aout\",\"aout\",\"aout\",\"aout\",\"aout\",\"aout\",\"aout\",\"aout\",\"aout\",\"aout\",\"aout\",\"aout\",\"aout\",\"aout\",\"aout\",\"aout\",\"aout\",\"aout\",\"aout\",\"aout\",\"aout\",\"aout\",\"aout\",\"aout\",\"aout\",\"aout\",\"aout\",\"aout\",\"aout\",\"aout\",\"aout\",\"aout\",\"aout\",\"aout\",\"aout\",\"aout\",\"aout\",\"aout\",\"aout\",\"aout\",\"aout\",\"aout\",\"aout\",\"aout\",\"aout\",\"aout\",\"aout\",\"aout\",\"aout\",\"aout\",\"aout\",\"aout\",\"aout\",\"aout\",\"aout\",\"aout\",\"aout\",\"aout\",\"aout\",\"aout\",\"aout\",\"aout\",\"aout\",\"aout\",\"aout\",\"aout\",\"aout\",\"aout\",\"aout\",\"aout\",\"aout\",\"aout\",\"aout\",\"aout\",\"aout\",\"aout\",\"aout\",\"aout\",\"aout\",\"aout\",\"aout\",\"aout\",\"aout\",\"aout\",\"aout\",\"aout\",\"aout\",\"aout\",\"aout\",\"aout\",\"aout\",\"aout\",\"aout\",\"aout\",\"aout\",\"aout\",\"aout\",\"aout\",\"aout\",\"aout\",\"aout\",\"aout\",\"aout\",\"aout\",\"aout\",\"aout\",\"aout\",\"aout\",\"aout\",\"aout\",\"aout\",\"aout\",\"aout\",\"aout\",\"aout\",\"aout\",\"aout\",\"aout\",\"aout\",\"aout\",\"aout\",\"aout\",\"aout\",\"aout\",\"aout\",\"aout\",\"aout\",\"aout\",\"aout\",\"aout\",\"aout\",\"aout\",\"aout\",\"aout\",\"aout\",\"aout\",\"aout\",\"aout\",\"aout\",\"aout\",\"aout\",\"aout\",\"aout\",\"aout\",\"aout\",\"aout\",\"aout\",\"aout\",\"aout\",\"aout\",\"aout\",\"aout\",\"aout\",\"aout\",\"aout\",\"aout\",\"aout\",\"aout\",\"aout\",\"aout\",\"aout\",\"aout\",\"aout\",\"aout\",\"aout\",\"aout\",\"aout\",\"aout\",\"aout\",\"aout\",\"aout\",\"aout\",\"aout\",\"aout\",\"aout\",\"aout\",\"aout\",\"aout\",\"aout\",\"aout\",\"aout\",\"aout\",\"aout\",\"aout\",\"aout\",\"aout\",\"aout\",\"aout\",\"aout\",\"aout\",\"aout\",\"aout\",\"aout\",\"aout\",\"aout\",\"aout\",\"aout\",\"aout\",\"aout\",\"aout\",\"aout\",\"aout\",\"aout\",\"aout\",\"aout\",\"aout\",\"aout\",\"aout\",\"aout\",\"aout\",\"aout\",\"aout\",\"aout\",\"avril\",\"avril\",\"avril\",\"avril\",\"avril\",\"avril\",\"avril\",\"avril\",\"avril\",\"avril\",\"avril\",\"avril\",\"avril\",\"avril\",\"avril\",\"avril\",\"avril\",\"avril\",\"avril\",\"avril\",\"avril\",\"avril\",\"avril\",\"avril\",\"avril\",\"avril\",\"avril\",\"avril\",\"avril\",\"avril\",\"avril\",\"avril\",\"avril\",\"avril\",\"avril\",\"avril\",\"avril\",\"avril\",\"avril\",\"avril\",\"avril\",\"avril\",\"avril\",\"avril\",\"avril\",\"avril\",\"avril\",\"avril\",\"avril\",\"avril\",\"avril\",\"avril\",\"avril\",\"avril\",\"avril\",\"avril\",\"avril\",\"avril\",\"avril\",\"avril\",\"avril\",\"avril\",\"avril\",\"avril\",\"avril\",\"avril\",\"avril\",\"avril\",\"avril\",\"avril\",\"avril\",\"avril\",\"avril\",\"avril\",\"avril\",\"avril\",\"avril\",\"avril\",\"avril\",\"avril\",\"avril\",\"avril\",\"avril\",\"avril\",\"avril\",\"avril\",\"avril\",\"avril\",\"avril\",\"avril\",\"avril\",\"avril\",\"avril\",\"avril\",\"avril\",\"avril\",\"avril\",\"avril\",\"avril\",\"avril\",\"avril\",\"avril\",\"avril\",\"avril\",\"avril\",\"avril\",\"avril\",\"avril\",\"avril\",\"avril\",\"avril\",\"avril\",\"avril\",\"avril\",\"avril\",\"avril\",\"avril\",\"avril\",\"avril\",\"avril\",\"avril\",\"avril\",\"avril\",\"avril\",\"avril\",\"avril\",\"avril\",\"avril\",\"avril\",\"avril\",\"avril\",\"avril\",\"avril\",\"avril\",\"avril\",\"avril\",\"avril\",\"avril\",\"avril\",\"dec\",\"dec\",\"dec\",\"dec\",\"dec\",\"dec\",\"dec\",\"dec\",\"dec\",\"dec\",\"dec\",\"dec\",\"dec\",\"dec\",\"dec\",\"dec\",\"dec\",\"dec\",\"dec\",\"dec\",\"dec\",\"dec\",\"dec\",\"dec\",\"dec\",\"dec\",\"dec\",\"dec\",\"dec\",\"dec\",\"dec\",\"dec\",\"dec\",\"dec\",\"dec\",\"dec\",\"dec\",\"dec\",\"dec\",\"dec\",\"dec\",\"dec\",\"dec\",\"dec\",\"dec\",\"dec\",\"dec\",\"dec\",\"dec\",\"dec\",\"dec\",\"dec\",\"dec\",\"dec\",\"dec\",\"dec\",\"dec\",\"dec\",\"dec\",\"dec\",\"dec\",\"dec\",\"dec\",\"dec\",\"dec\",\"dec\",\"dec\",\"dec\",\"dec\",\"dec\",\"dec\",\"dec\",\"dec\",\"dec\",\"dec\",\"dec\",\"dec\",\"dec\",\"dec\",\"dec\",\"dec\",\"dec\",\"dec\",\"dec\",\"dec\",\"dec\",\"dec\",\"dec\",\"dec\",\"dec\",\"dec\",\"dec\",\"dec\",\"dec\",\"dec\",\"dec\",\"dec\",\"dec\",\"dec\",\"dec\",\"dec\",\"dec\",\"dec\",\"dec\",\"fev\",\"fev\",\"fev\",\"fev\",\"fev\",\"fev\",\"fev\",\"fev\",\"fev\",\"fev\",\"fev\",\"fev\",\"fev\",\"fev\",\"fev\",\"fev\",\"fev\",\"fev\",\"fev\",\"fev\",\"fev\",\"fev\",\"fev\",\"fev\",\"fev\",\"fev\",\"fev\",\"fev\",\"fev\",\"fev\",\"fev\",\"fev\",\"fev\",\"fev\",\"fev\",\"fev\",\"fev\",\"fev\",\"fev\",\"fev\",\"fev\",\"fev\",\"fev\",\"fev\",\"fev\",\"fev\",\"fev\",\"fev\",\"fev\",\"fev\",\"fev\",\"fev\",\"fev\",\"fev\",\"fev\",\"fev\",\"fev\",\"fev\",\"fev\",\"fev\",\"fev\",\"fev\",\"fev\",\"fev\",\"janv\",\"janv\",\"janv\",\"janv\",\"janv\",\"janv\",\"janv\",\"janv\",\"janv\",\"janv\",\"janv\",\"janv\",\"janv\",\"janv\",\"janv\",\"janv\",\"janv\",\"janv\",\"janv\",\"janv\",\"janv\",\"janv\",\"janv\",\"janv\",\"janv\",\"janv\",\"janv\",\"janv\",\"janv\",\"janv\",\"janv\",\"janv\",\"janv\",\"janv\",\"janv\",\"janv\",\"janv\",\"janv\",\"janv\",\"janv\",\"janv\",\"janv\",\"janv\",\"janv\",\"janv\",\"janv\",\"janv\",\"juillet\",\"juillet\",\"juillet\",\"juillet\",\"juillet\",\"juillet\",\"juillet\",\"juillet\",\"juillet\",\"juillet\",\"juillet\",\"juillet\",\"juillet\",\"juillet\",\"juillet\",\"juillet\",\"juillet\",\"juillet\",\"juillet\",\"juillet\",\"juillet\",\"juillet\",\"juillet\",\"juillet\",\"juillet\",\"juillet\",\"juillet\",\"juillet\",\"juillet\",\"juillet\",\"juillet\",\"juillet\",\"juillet\",\"juillet\",\"juillet\",\"juillet\",\"juillet\",\"juillet\",\"juillet\",\"juillet\",\"juillet\",\"juillet\",\"juillet\",\"juillet\",\"juillet\",\"juillet\",\"juillet\",\"juillet\",\"juillet\",\"juillet\",\"juillet\",\"juillet\",\"juillet\",\"juillet\",\"juillet\",\"juillet\",\"juillet\",\"juillet\",\"juillet\",\"juillet\",\"juillet\",\"juillet\",\"juillet\",\"juillet\",\"juillet\",\"juillet\",\"juillet\",\"juillet\",\"juillet\",\"juillet\",\"juillet\",\"juillet\",\"juillet\",\"juillet\",\"juillet\",\"juillet\",\"juillet\",\"juillet\",\"juillet\",\"juillet\",\"juillet\",\"juillet\",\"juillet\",\"juillet\",\"juillet\",\"juillet\",\"juillet\",\"juillet\",\"juillet\",\"juillet\",\"juillet\",\"juillet\",\"juillet\",\"juillet\",\"juillet\",\"juillet\",\"juillet\",\"juillet\",\"juillet\",\"juillet\",\"juillet\",\"juillet\",\"juillet\",\"juillet\",\"juillet\",\"juillet\",\"juillet\",\"juillet\",\"juillet\",\"juillet\",\"juillet\",\"juillet\",\"juillet\",\"juillet\",\"juillet\",\"juillet\",\"juillet\",\"juillet\",\"juillet\",\"juillet\",\"juillet\",\"juillet\",\"juillet\",\"juillet\",\"juillet\",\"juillet\",\"juillet\",\"juillet\",\"juillet\",\"juillet\",\"juillet\",\"juillet\",\"juillet\",\"juillet\",\"juillet\",\"juillet\",\"juillet\",\"juillet\",\"juillet\",\"juillet\",\"juillet\",\"juillet\",\"juillet\",\"juillet\",\"juillet\",\"juillet\",\"juillet\",\"juillet\",\"juillet\",\"juillet\",\"juillet\",\"juillet\",\"juillet\",\"juillet\",\"juillet\",\"juillet\",\"juillet\",\"juillet\",\"juillet\",\"juillet\",\"juillet\",\"juillet\",\"juillet\",\"juillet\",\"juillet\",\"juillet\",\"juillet\",\"juillet\",\"juillet\",\"juillet\",\"juillet\",\"juillet\",\"juillet\",\"juillet\",\"juillet\",\"juillet\",\"juillet\",\"juillet\",\"juillet\",\"juillet\",\"juillet\",\"juillet\",\"juillet\",\"juillet\",\"juillet\",\"juillet\",\"juillet\",\"juillet\",\"juillet\",\"juillet\",\"juillet\",\"juillet\",\"juillet\",\"juillet\",\"juillet\",\"juillet\",\"juillet\",\"juillet\",\"juillet\",\"juillet\",\"juillet\",\"juillet\",\"juillet\",\"juillet\",\"juillet\",\"juillet\",\"juillet\",\"juillet\",\"juillet\",\"juillet\",\"juillet\",\"juillet\",\"juillet\",\"juillet\",\"juillet\",\"juillet\",\"juillet\",\"juillet\",\"juillet\",\"juillet\",\"juillet\",\"juillet\",\"juillet\",\"juillet\",\"juillet\",\"juillet\",\"juillet\",\"juillet\",\"juillet\",\"juillet\",\"juillet\",\"juillet\",\"juillet\",\"juillet\",\"juillet\",\"juillet\",\"juillet\",\"juillet\",\"juillet\",\"juillet\",\"juillet\",\"juillet\",\"juillet\",\"juillet\",\"juillet\",\"juillet\",\"juillet\",\"juillet\",\"juillet\",\"juillet\",\"juillet\",\"juillet\",\"juillet\",\"juillet\",\"juillet\",\"juillet\",\"juillet\",\"juillet\",\"juillet\",\"juillet\",\"juillet\",\"juillet\",\"juillet\",\"juillet\",\"juillet\",\"juillet\",\"juillet\",\"juillet\",\"juillet\",\"juillet\",\"juillet\",\"juillet\",\"juillet\",\"juillet\",\"juillet\",\"juillet\",\"juillet\",\"juillet\",\"juillet\",\"juillet\",\"juillet\",\"juillet\",\"juillet\",\"juillet\",\"juillet\",\"juillet\",\"juillet\",\"juillet\",\"juillet\",\"juillet\",\"juillet\",\"juillet\",\"juillet\",\"juillet\",\"juillet\",\"juillet\",\"juillet\",\"juillet\",\"juillet\",\"juillet\",\"juillet\",\"juillet\",\"juillet\",\"juillet\",\"juillet\",\"juillet\",\"juillet\",\"juillet\",\"juillet\",\"juillet\",\"juillet\",\"juillet\",\"juillet\",\"juillet\",\"juillet\",\"juillet\",\"juillet\",\"juillet\",\"juillet\",\"juillet\",\"juillet\",\"juillet\",\"juillet\",\"juillet\",\"juillet\",\"juillet\",\"juillet\",\"juillet\",\"juillet\",\"juillet\",\"juillet\",\"juillet\",\"juillet\",\"juillet\",\"juillet\",\"juillet\",\"juillet\",\"juillet\",\"juillet\",\"juillet\",\"juillet\",\"juillet\",\"juillet\",\"juillet\",\"juillet\",\"juillet\",\"juillet\",\"juillet\",\"juillet\",\"juillet\",\"juillet\",\"juillet\",\"juillet\",\"juillet\",\"juillet\",\"juillet\",\"juillet\",\"juillet\",\"juillet\",\"juillet\",\"juillet\",\"juillet\",\"juillet\",\"juillet\",\"juillet\",\"juillet\",\"juillet\",\"juillet\",\"juillet\",\"juillet\",\"juillet\",\"juillet\",\"juillet\",\"juillet\",\"juillet\",\"juillet\",\"juillet\",\"juillet\",\"juillet\",\"juillet\",\"juin\",\"juin\",\"juin\",\"juin\",\"juin\",\"juin\",\"juin\",\"juin\",\"juin\",\"juin\",\"juin\",\"juin\",\"juin\",\"juin\",\"juin\",\"juin\",\"juin\",\"juin\",\"juin\",\"juin\",\"juin\",\"juin\",\"juin\",\"juin\",\"juin\",\"juin\",\"juin\",\"juin\",\"juin\",\"juin\",\"juin\",\"juin\",\"juin\",\"juin\",\"juin\",\"juin\",\"juin\",\"juin\",\"juin\",\"juin\",\"juin\",\"juin\",\"juin\",\"juin\",\"juin\",\"juin\",\"juin\",\"juin\",\"juin\",\"juin\",\"juin\",\"juin\",\"juin\",\"juin\",\"juin\",\"juin\",\"juin\",\"juin\",\"juin\",\"juin\",\"juin\",\"juin\",\"juin\",\"juin\",\"juin\",\"juin\",\"juin\",\"juin\",\"juin\",\"juin\",\"juin\",\"juin\",\"juin\",\"juin\",\"juin\",\"juin\",\"juin\",\"juin\",\"juin\",\"juin\",\"juin\",\"juin\",\"juin\",\"juin\",\"juin\",\"juin\",\"juin\",\"juin\",\"juin\",\"juin\",\"juin\",\"juin\",\"juin\",\"juin\",\"juin\",\"juin\",\"juin\",\"juin\",\"juin\",\"juin\",\"juin\",\"juin\",\"juin\",\"juin\",\"juin\",\"juin\",\"juin\",\"juin\",\"juin\",\"juin\",\"juin\",\"juin\",\"juin\",\"juin\",\"juin\",\"juin\",\"juin\",\"juin\",\"juin\",\"juin\",\"juin\",\"juin\",\"juin\",\"juin\",\"juin\",\"juin\",\"juin\",\"juin\",\"juin\",\"juin\",\"juin\",\"juin\",\"juin\",\"juin\",\"juin\",\"juin\",\"juin\",\"juin\",\"juin\",\"juin\",\"juin\",\"juin\",\"juin\",\"juin\",\"juin\",\"juin\",\"juin\",\"juin\",\"juin\",\"juin\",\"juin\",\"juin\",\"juin\",\"juin\",\"juin\",\"juin\",\"juin\",\"juin\",\"juin\",\"juin\",\"juin\",\"juin\",\"juin\",\"juin\",\"juin\",\"juin\",\"juin\",\"juin\",\"juin\",\"juin\",\"juin\",\"juin\",\"juin\",\"juin\",\"juin\",\"juin\",\"juin\",\"juin\",\"juin\",\"juin\",\"juin\",\"juin\",\"juin\",\"juin\",\"juin\",\"juin\",\"juin\",\"juin\",\"juin\",\"juin\",\"juin\",\"juin\",\"juin\",\"juin\",\"juin\",\"juin\",\"juin\",\"juin\",\"juin\",\"juin\",\"juin\",\"juin\",\"juin\",\"juin\",\"juin\",\"juin\",\"juin\",\"juin\",\"juin\",\"juin\",\"juin\",\"juin\",\"juin\",\"juin\",\"juin\",\"juin\",\"juin\",\"juin\",\"juin\",\"juin\",\"juin\",\"juin\",\"juin\",\"juin\",\"juin\",\"juin\",\"juin\",\"juin\",\"juin\",\"juin\",\"juin\",\"juin\",\"juin\",\"juin\",\"juin\",\"juin\",\"juin\",\"juin\",\"juin\",\"juin\",\"juin\",\"juin\",\"juin\",\"juin\",\"juin\",\"juin\",\"juin\",\"juin\",\"juin\",\"juin\",\"juin\",\"juin\",\"juin\",\"juin\",\"juin\",\"juin\",\"juin\",\"juin\",\"juin\",\"juin\",\"juin\",\"juin\",\"juin\",\"juin\",\"juin\",\"juin\",\"juin\",\"juin\",\"juin\",\"juin\",\"juin\",\"juin\",\"juin\",\"juin\",\"juin\",\"juin\",\"juin\",\"juin\",\"juin\",\"juin\",\"juin\",\"juin\",\"juin\",\"juin\",\"juin\",\"juin\",\"juin\",\"juin\",\"juin\",\"juin\",\"juin\",\"juin\",\"juin\",\"juin\",\"juin\",\"juin\",\"juin\",\"juin\",\"juin\",\"juin\",\"juin\",\"juin\",\"juin\",\"juin\",\"juin\",\"juin\",\"juin\",\"juin\",\"juin\",\"juin\",\"juin\",\"juin\",\"juin\",\"juin\",\"juin\",\"juin\",\"juin\",\"juin\",\"juin\",\"juin\",\"juin\",\"juin\",\"juin\",\"juin\",\"juin\",\"juin\",\"juin\",\"juin\",\"juin\",\"juin\",\"juin\",\"juin\",\"juin\",\"juin\",\"juin\",\"juin\",\"juin\",\"juin\",\"juin\",\"juin\",\"juin\",\"juin\",\"juin\",\"juin\",\"juin\",\"juin\",\"juin\",\"juin\",\"juin\",\"juin\",\"juin\",\"juin\",\"juin\",\"juin\",\"juin\",\"juin\",\"juin\",\"juin\",\"juin\",\"juin\",\"juin\",\"juin\",\"juin\",\"juin\",\"mai\",\"mai\",\"mai\",\"mai\",\"mai\",\"mai\",\"mai\",\"mai\",\"mai\",\"mai\",\"mai\",\"mai\",\"mai\",\"mai\",\"mai\",\"mai\",\"mai\",\"mai\",\"mai\",\"mai\",\"mai\",\"mai\",\"mai\",\"mai\",\"mai\",\"mai\",\"mai\",\"mai\",\"mai\",\"mai\",\"mai\",\"mai\",\"mai\",\"mai\",\"mai\",\"mai\",\"mai\",\"mai\",\"mai\",\"mai\",\"mai\",\"mai\",\"mai\",\"mai\",\"mai\",\"mai\",\"mai\",\"mai\",\"mai\",\"mai\",\"mai\",\"mai\",\"mai\",\"mai\",\"mai\",\"mai\",\"mai\",\"mai\",\"mai\",\"mai\",\"mai\",\"mai\",\"mai\",\"mai\",\"mai\",\"mai\",\"mai\",\"mai\",\"mai\",\"mai\",\"mai\",\"mai\",\"mai\",\"mai\",\"mai\",\"mai\",\"mai\",\"mai\",\"mai\",\"mai\",\"mai\",\"mai\",\"mai\",\"mai\",\"mai\",\"mai\",\"mai\",\"mai\",\"mai\",\"mai\",\"mai\",\"mai\",\"mai\",\"mai\",\"mai\",\"mai\",\"mai\",\"mai\",\"mai\",\"mai\",\"mai\",\"mai\",\"mai\",\"mai\",\"mai\",\"mai\",\"mai\",\"mai\",\"mai\",\"mai\",\"mai\",\"mai\",\"mai\",\"mai\",\"mai\",\"mai\",\"mai\",\"mai\",\"mai\",\"mai\",\"mai\",\"mai\",\"mai\",\"mai\",\"mai\",\"mai\",\"mai\",\"mai\",\"mai\",\"mai\",\"mai\",\"mai\",\"mai\",\"mai\",\"mai\",\"mai\",\"mai\",\"mai\",\"mai\",\"mai\",\"mai\",\"mai\",\"mai\",\"mai\",\"mai\",\"mai\",\"mai\",\"mai\",\"mai\",\"mai\",\"mai\",\"mai\",\"mai\",\"mai\",\"mai\",\"mai\",\"mai\",\"mai\",\"mai\",\"mai\",\"mai\",\"mai\",\"mai\",\"mai\",\"mai\",\"mai\",\"mai\",\"mai\",\"mai\",\"mai\",\"mai\",\"mai\",\"mai\",\"mai\",\"mai\",\"mai\",\"mai\",\"mai\",\"mai\",\"mai\",\"mai\",\"mai\",\"mai\",\"mai\",\"mai\",\"mai\",\"mai\",\"mai\",\"mai\",\"mai\",\"mai\",\"mai\",\"mai\",\"mai\",\"mai\",\"mai\",\"mai\",\"mai\",\"mai\",\"mai\",\"mai\",\"mai\",\"mai\",\"mai\",\"mai\",\"mai\",\"mai\",\"mai\",\"mai\",\"mai\",\"mai\",\"mai\",\"mai\",\"mai\",\"mai\",\"mai\",\"mai\",\"mai\",\"mai\",\"mai\",\"mai\",\"mai\",\"mai\",\"mai\",\"mai\",\"mai\",\"mai\",\"mai\",\"mai\",\"mai\",\"mai\",\"mai\",\"mai\",\"mai\",\"mai\",\"mai\",\"mai\",\"mai\",\"mai\",\"mai\",\"mai\",\"mai\",\"mars\",\"mars\",\"mars\",\"mars\",\"mars\",\"mars\",\"mars\",\"mars\",\"mars\",\"mars\",\"mars\",\"mars\",\"mars\",\"mars\",\"mars\",\"mars\",\"mars\",\"mars\",\"mars\",\"mars\",\"mars\",\"mars\",\"mars\",\"mars\",\"mars\",\"mars\",\"mars\",\"mars\",\"mars\",\"mars\",\"mars\",\"mars\",\"mars\",\"mars\",\"mars\",\"mars\",\"mars\",\"mars\",\"mars\",\"mars\",\"mars\",\"mars\",\"mars\",\"mars\",\"mars\",\"mars\",\"mars\",\"mars\",\"mars\",\"mars\",\"mars\",\"mars\",\"mars\",\"mars\",\"mars\",\"mars\",\"mars\",\"mars\",\"mars\",\"mars\",\"mars\",\"mars\",\"mars\",\"mars\",\"mars\",\"mars\",\"mars\",\"mars\",\"mars\",\"mars\",\"mars\",\"mars\",\"mars\",\"mars\",\"mars\",\"mars\",\"mars\",\"mars\",\"mars\",\"mars\",\"mars\",\"mars\",\"mars\",\"mars\",\"mars\",\"mars\",\"mars\",\"mars\",\"mars\",\"mars\",\"mars\",\"mars\",\"mars\",\"mars\",\"mars\",\"mars\",\"mars\",\"mars\",\"mars\",\"mars\",\"mars\",\"mars\",\"mars\",\"mars\",\"mars\",\"mars\",\"mars\",\"mars\",\"mars\",\"mars\",\"mars\",\"mars\",\"mars\",\"mars\",\"mars\",\"mars\",\"mars\",\"mars\",\"mars\",\"mars\",\"mars\",\"mars\",\"mars\",\"mars\",\"mars\",\"mars\",\"mars\",\"mars\",\"mars\",\"mars\",\"mars\",\"mars\",\"mars\",\"mars\",\"mars\",\"mars\",\"mars\",\"mars\",\"mars\",\"mars\",\"mars\",\"mars\",\"mars\",\"nov\",\"nov\",\"nov\",\"nov\",\"nov\",\"nov\",\"nov\",\"nov\",\"nov\",\"nov\",\"nov\",\"nov\",\"nov\",\"nov\",\"nov\",\"nov\",\"nov\",\"nov\",\"nov\",\"nov\",\"nov\",\"nov\",\"nov\",\"nov\",\"nov\",\"nov\",\"nov\",\"nov\",\"nov\",\"nov\",\"nov\",\"nov\",\"nov\",\"nov\",\"nov\",\"nov\",\"nov\",\"nov\",\"nov\",\"nov\",\"nov\",\"nov\",\"nov\",\"nov\",\"nov\",\"nov\",\"nov\",\"nov\",\"nov\",\"nov\",\"nov\",\"nov\",\"nov\",\"nov\",\"nov\",\"nov\",\"nov\",\"nov\",\"nov\",\"nov\",\"nov\",\"nov\",\"nov\",\"nov\",\"nov\",\"nov\",\"nov\",\"nov\",\"nov\",\"nov\",\"nov\",\"nov\",\"nov\",\"nov\",\"nov\",\"nov\",\"nov\",\"nov\",\"nov\",\"nov\",\"nov\",\"nov\",\"oct\",\"oct\",\"oct\",\"oct\",\"oct\",\"oct\",\"oct\",\"oct\",\"oct\",\"oct\",\"oct\",\"oct\",\"oct\",\"oct\",\"oct\",\"oct\",\"oct\",\"oct\",\"oct\",\"oct\",\"oct\",\"oct\",\"oct\",\"oct\",\"oct\",\"oct\",\"oct\",\"oct\",\"oct\",\"oct\",\"oct\",\"oct\",\"oct\",\"oct\",\"oct\",\"oct\",\"oct\",\"oct\",\"oct\",\"oct\",\"oct\",\"oct\",\"oct\",\"oct\",\"oct\",\"oct\",\"oct\",\"oct\",\"oct\",\"oct\",\"oct\",\"oct\",\"oct\",\"oct\",\"oct\",\"oct\",\"oct\",\"oct\",\"oct\",\"oct\",\"oct\",\"oct\",\"oct\",\"oct\",\"oct\",\"oct\",\"oct\",\"oct\",\"oct\",\"oct\",\"oct\",\"oct\",\"oct\",\"oct\",\"oct\",\"oct\",\"oct\",\"oct\",\"oct\",\"oct\",\"oct\",\"oct\",\"oct\",\"oct\",\"oct\",\"oct\",\"oct\",\"oct\",\"oct\",\"oct\",\"oct\",\"oct\",\"oct\",\"oct\",\"oct\",\"oct\",\"oct\",\"oct\",\"oct\",\"oct\",\"oct\",\"oct\",\"oct\",\"oct\",\"oct\",\"oct\",\"oct\",\"oct\",\"oct\",\"oct\",\"oct\",\"oct\",\"oct\",\"oct\",\"oct\",\"oct\",\"oct\",\"oct\",\"oct\",\"oct\",\"oct\",\"oct\",\"oct\",\"oct\",\"oct\",\"oct\",\"oct\",\"oct\",\"oct\",\"oct\",\"oct\",\"oct\",\"oct\",\"oct\",\"oct\",\"oct\",\"oct\",\"oct\",\"oct\",\"oct\",\"oct\",\"oct\",\"sept\",\"sept\",\"sept\",\"sept\",\"sept\",\"sept\",\"sept\",\"sept\",\"sept\",\"sept\",\"sept\",\"sept\",\"sept\",\"sept\",\"sept\",\"sept\",\"sept\",\"sept\",\"sept\",\"sept\",\"sept\",\"sept\",\"sept\",\"sept\",\"sept\",\"sept\",\"sept\",\"sept\",\"sept\",\"sept\",\"sept\",\"sept\",\"sept\",\"sept\",\"sept\",\"sept\",\"sept\",\"sept\",\"sept\",\"sept\",\"sept\",\"sept\",\"sept\",\"sept\",\"sept\",\"sept\",\"sept\",\"sept\",\"sept\",\"sept\",\"sept\",\"sept\",\"sept\",\"sept\",\"sept\",\"sept\",\"sept\",\"sept\",\"sept\",\"sept\",\"sept\",\"sept\",\"sept\",\"sept\",\"sept\",\"sept\",\"sept\",\"sept\",\"sept\",\"sept\",\"sept\",\"sept\",\"sept\",\"sept\",\"sept\",\"sept\",\"sept\",\"sept\",\"sept\",\"sept\",\"sept\",\"sept\",\"sept\",\"sept\",\"sept\",\"sept\",\"sept\",\"sept\",\"sept\",\"sept\",\"sept\",\"sept\",\"sept\",\"sept\",\"sept\",\"sept\",\"sept\",\"sept\",\"sept\",\"sept\",\"sept\",\"sept\",\"sept\",\"sept\",\"sept\",\"sept\",\"sept\",\"sept\",\"sept\",\"sept\",\"sept\",\"sept\",\"sept\",\"sept\",\"sept\",\"sept\",\"sept\",\"sept\",\"sept\",\"sept\",\"sept\",\"sept\",\"sept\",\"sept\",\"sept\",\"sept\",\"sept\",\"sept\",\"sept\",\"sept\",\"sept\",\"sept\",\"sept\",\"sept\",\"sept\",\"sept\",\"sept\",\"sept\",\"sept\",\"sept\",\"sept\",\"sept\",\"sept\",\"sept\",\"sept\",\"sept\",\"sept\",\"sept\",\"sept\",\"sept\",\"sept\",\"sept\",\"sept\",\"sept\",\"sept\",\"sept\",\"sept\",\"sept\",\"sept\",\"sept\",\"sept\",\"sept\",\"sept\",\"sept\",\"sept\",\"sept\",\"sept\",\"sept\",\"sept\",\"sept\",\"sept\",\"sept\",\"sept\",\"sept\",\"sept\",\"sept\",\"sept\",\"sept\",\"sept\",\"sept\",\"sept\",\"sept\",\"sept\",\"sept\",\"sept\",\"sept\",\"sept\",\"sept\",\"sept\",\"sept\",\"sept\",\"sept\",\"sept\",\"sept\",\"sept\",\"sept\",\"sept\",\"sept\",\"sept\",\"sept\",\"sept\",\"sept\",\"sept\",\"sept\",\"sept\",\"sept\",\"sept\",\"sept\",\"sept\",\"sept\",\"sept\",\"sept\",\"sept\",\"sept\",\"sept\",\"sept\",\"sept\",\"sept\",\"sept\",\"sept\",\"sept\",\"sept\",\"sept\",\"sept\",\"sept\",\"sept\",\"sept\",\"sept\",\"sept\",\"sept\",\"sept\",\"sept\",\"sept\",\"sept\",\"sept\",\"sept\",\"sept\",\"sept\",\"sept\",\"sept\",\"sept\",\"sept\",\"sept\",\"sept\",\"sept\",\"sept\",\"sept\",\"sept\",\"sept\",\"sept\",\"sept\",\"sept\",\"sept\",\"sept\",\"sept\",\"sept\",\"sept\",\"sept\",\"sept\",\"sept\",\"sept\",\"sept\",\"sept\",\"sept\",\"sept\",\"sept\",\"sept\",\"sept\",\"sept\",\"sept\",\"sept\",\"sept\",\"sept\",\"sept\",\"sept\",\"sept\",\"sept\"],\"xaxis\":\"x\",\"y\":[\"FF\",\"FF\",\"FF\",\"FF\",\"FF\",\"FF\",\"FF\",\"FF\",\"MF\",\"MF\",\"MF\",\"MF\",\"MF\",\"MF\",\"MF\",\"MF\",\"MF\",\"MF\",\"MF\",\"MF\",\"MF\",\"MF\",\"MF\",\"MF\",\"MF\",\"MF\",\"MF\",\"MF\",\"MF\",\"MF\",\"MF\",\"MF\",\"MF\",\"MF\",\"MF\",\"MF\",\"MF\",\"MF\",\"MF\",\"MF\",\"MF\",\"MF\",\"MF\",\"MF\",\"MF\",\"MF\",\"MF\",\"MF\",\"MF\",\"MF\",\"MF\",\"MF\",\"MF\",\"MF\",\"MF\",\"MF\",\"MF\",\"MF\",\"MF\",\"MF\",\"MF\",\"MF\",\"MF\",\"MF\",\"MF\",\"MF\",\"MF\",\"MF\",\"MF\",\"MF\",\"MF\",\"MF\",\"MF\",\"MF\",\"MF\",\"MF\",\"MF\",\"MF\",\"MF\",\"MF\",\"MF\",\"MF\",\"MF\",\"MF\",\"MF\",\"MF\",\"MF\",\"MF\",\"MF\",\"MF\",\"MF\",\"MF\",\"MF\",\"MF\",\"MF\",\"MF\",\"MF\",\"MF\",\"MF\",\"MF\",\"MF\",\"MF\",\"MF\",\"MF\",\"MF\",\"MF\",\"MF\",\"MF\",\"MF\",\"MF\",\"MF\",\"MF\",\"MF\",\"MF\",\"MF\",\"MF\",\"MF\",\"MF\",\"MF\",\"MF\",\"MF\",\"MF\",\"MF\",\"MF\",\"MF\",\"MF\",\"MF\",\"MF\",\"MF\",\"MF\",\"MF\",\"MF\",\"MF\",\"MF\",\"MF\",\"MF\",\"MF\",\"MF\",\"MF\",\"MF\",\"MF\",\"MF\",\"MF\",\"MF\",\"MF\",\"MF\",\"MF\",\"MF\",\"MF\",\"MF\",\"MF\",\"MF\",\"MF\",\"MF\",\"MF\",\"MF\",\"MF\",\"MF\",\"MF\",\"MF\",\"MF\",\"MF\",\"MF\",\"MF\",\"MF\",\"MF\",\"MF\",\"MF\",\"MF\",\"MF\",\"MF\",\"MF\",\"MF\",\"MF\",\"MF\",\"MF\",\"MF\",\"MF\",\"MF\",\"MF\",\"MF\",\"MF\",\"MF\",\"MF\",\"MF\",\"MF\",\"MF\",\"MF\",\"MF\",\"MF\",\"MF\",\"MF\",\"MF\",\"MF\",\"MF\",\"MF\",\"MF\",\"MF\",\"MF\",\"MF\",\"MF\",\"MF\",\"MF\",\"MF\",\"MF\",\"MF\",\"MF\",\"MF\",\"MF\",\"MF\",\"MF\",\"MF\",\"MF\",\"MF\",\"MF\",\"MF\",\"MF\",\"MF\",\"MF\",\"MF\",\"MF\",\"MF\",\"MF\",\"MF\",\"MF\",\"MF\",\"MF\",\"MF\",\"MF\",\"MF\",\"MF\",\"MF\",\"MF\",\"MF\",\"MF\",\"MF\",\"MF\",\"MF\",\"MF\",\"MF\",\"MF\",\"MF\",\"MF\",\"MF\",\"MF\",\"MF\",\"MF\",\"MF\",\"MF\",\"MF\",\"MF\",\"MF\",\"MF\",\"MF\",\"MF\",\"MF\",\"MF\",\"MF\",\"MF\",\"MF\",\"MF\",\"MF\",\"MF\",\"MF\",\"MF\",\"MF\",\"MF\",\"MF\",\"MF\",\"MF\",\"MF\",\"MF\",\"MF\",\"MF\",\"MF\",\"MF\",\"MF\",\"MF\",\"MF\",\"MF\",\"MF\",\"MF\",\"MF\",\"MF\",\"MF\",\"MF\",\"MF\",\"MF\",\"MF\",\"MF\",\"MF\",\"MF\",\"MF\",\"MF\",\"MF\",\"MF\",\"MF\",\"MF\",\"MF\",\"MF\",\"MF\",\"MF\",\"MF\",\"MF\",\"MF\",\"MF\",\"MF\",\"MF\",\"MF\",\"MF\",\"MF\",\"MF\",\"MF\",\"MF\",\"MF\",\"MF\",\"MF\",\"MF\",\"MF\",\"MF\",\"MF\",\"MF\",\"MF\",\"MF\",\"MF\",\"MF\",\"MF\",\"MF\",\"MF\",\"MF\",\"MF\",\"MF\",\"MF\",\"MF\",\"MF\",\"MF\",\"MF\",\"MF\",\"MF\",\"MF\",\"MF\",\"MF\",\"MF\",\"MF\",\"MF\",\"MF\",\"MF\",\"MF\",\"MF\",\"MF\",\"MM\",\"MM\",\"MM\",\"MM\",\"MM\",\"MM\",\"FF\",\"MF\",\"MF\",\"MF\",\"MF\",\"MF\",\"MF\",\"MF\",\"MF\",\"MF\",\"MF\",\"MF\",\"MF\",\"MF\",\"MF\",\"MF\",\"MF\",\"MF\",\"MF\",\"MF\",\"MF\",\"MF\",\"MF\",\"MF\",\"MF\",\"MF\",\"MF\",\"MF\",\"MF\",\"MF\",\"MF\",\"MF\",\"MF\",\"MF\",\"MF\",\"MF\",\"MF\",\"MF\",\"MF\",\"MF\",\"MF\",\"MF\",\"MF\",\"MF\",\"MF\",\"MF\",\"MF\",\"MF\",\"MF\",\"MF\",\"MF\",\"MF\",\"MF\",\"MF\",\"MF\",\"MF\",\"MF\",\"MF\",\"MF\",\"MF\",\"MF\",\"MF\",\"MF\",\"MF\",\"MF\",\"MF\",\"MF\",\"MF\",\"MF\",\"MF\",\"MF\",\"MF\",\"MF\",\"MF\",\"MF\",\"MF\",\"MF\",\"MF\",\"MF\",\"MF\",\"MF\",\"MF\",\"MF\",\"MF\",\"MF\",\"MF\",\"MF\",\"MF\",\"MF\",\"MF\",\"MF\",\"MF\",\"MF\",\"MF\",\"MF\",\"MF\",\"MF\",\"MF\",\"MF\",\"MF\",\"MF\",\"MF\",\"MF\",\"MF\",\"MF\",\"MF\",\"MF\",\"MF\",\"MF\",\"MF\",\"MF\",\"MF\",\"MF\",\"MF\",\"MF\",\"MF\",\"MF\",\"MF\",\"MF\",\"MF\",\"MF\",\"MF\",\"MF\",\"MF\",\"MF\",\"MF\",\"MF\",\"MF\",\"MF\",\"MF\",\"MF\",\"MF\",\"MF\",\"MF\",\"MF\",\"MF\",\"MF\",\"MF\",\"MF\",\"MF\",\"MF\",\"MF\",\"MF\",\"MF\",\"MF\",\"MF\",\"MF\",\"MF\",\"MF\",\"MF\",\"MF\",\"MF\",\"MF\",\"MF\",\"MF\",\"MF\",\"MF\",\"MF\",\"MF\",\"MF\",\"MF\",\"MF\",\"MF\",\"MF\",\"MF\",\"MF\",\"MF\",\"MF\",\"MF\",\"MF\",\"MF\",\"MF\",\"MF\",\"MF\",\"MF\",\"MF\",\"MF\",\"MF\",\"MF\",\"MF\",\"MF\",\"MF\",\"MF\",\"MF\",\"MF\",\"MF\",\"MF\",\"MF\",\"MF\",\"MF\",\"MF\",\"MF\",\"MF\",\"MF\",\"MF\",\"MF\",\"MF\",\"MF\",\"MF\",\"MF\",\"MF\",\"MF\",\"MF\",\"MF\",\"MF\",\"MF\",\"MF\",\"MF\",\"MF\",\"MF\",\"MF\",\"MF\",\"MF\",\"MF\",\"MF\",\"MF\",\"MF\",\"MF\",\"MF\",\"MF\",\"MF\",\"MF\",\"MF\",\"MF\",\"MF\",\"MF\",\"MF\",\"MF\",\"MF\",\"MF\",\"MF\",\"MF\",\"MF\",\"MF\",\"MF\",\"MF\",\"MF\",\"MF\",\"MF\",\"MF\",\"MF\",\"MF\",\"MF\",\"FF\",\"MF\",\"MF\",\"MF\",\"MF\",\"MF\",\"MF\",\"MF\",\"MF\",\"MF\",\"MF\",\"MF\",\"MF\",\"MF\",\"MF\",\"MF\",\"MF\",\"MF\",\"MF\",\"MF\",\"MF\",\"MF\",\"MF\",\"MF\",\"MF\",\"MF\",\"MF\",\"MF\",\"MF\",\"MF\",\"MF\",\"MF\",\"MF\",\"MF\",\"MF\",\"MF\",\"MF\",\"MF\",\"MF\",\"MF\",\"MF\",\"MF\",\"MF\",\"MF\",\"MF\",\"MF\",\"MF\",\"MF\",\"MF\",\"MF\",\"MF\",\"MF\",\"MF\",\"MF\",\"MF\",\"MF\",\"MF\",\"MF\",\"MF\",\"MF\",\"MF\",\"MF\",\"MM\",\"MM\",\"MF\",\"MF\",\"MF\",\"MF\",\"MF\",\"MF\",\"MF\",\"MF\",\"MF\",\"MF\",\"MF\",\"MF\",\"MF\",\"MF\",\"MF\",\"MF\",\"MF\",\"MF\",\"MF\",\"MF\",\"MF\",\"MF\",\"MF\",\"MF\",\"MF\",\"MF\",\"MF\",\"MF\",\"MF\",\"MF\",\"MF\",\"MF\",\"MF\",\"MF\",\"MF\",\"MF\",\"MF\",\"MF\",\"MF\",\"MF\",\"MF\",\"MF\",\"MF\",\"MF\",\"MF\",\"MF\",\"MF\",\"FF\",\"FF\",\"FF\",\"FF\",\"FF\",\"FF\",\"FF\",\"MF\",\"MF\",\"MF\",\"MF\",\"MF\",\"MF\",\"MF\",\"MF\",\"MF\",\"MF\",\"MF\",\"MF\",\"MF\",\"MF\",\"MF\",\"MF\",\"MF\",\"MF\",\"MF\",\"MF\",\"MF\",\"MF\",\"MF\",\"MF\",\"MF\",\"MF\",\"MF\",\"MF\",\"MF\",\"MF\",\"MF\",\"MF\",\"MF\",\"MF\",\"MF\",\"MF\",\"MF\",\"MF\",\"MF\",\"MF\",\"MF\",\"MF\",\"MF\",\"MF\",\"MF\",\"MF\",\"MF\",\"MF\",\"MF\",\"MF\",\"MF\",\"MF\",\"MF\",\"MF\",\"MF\",\"MF\",\"MF\",\"MF\",\"MF\",\"MF\",\"MF\",\"MF\",\"MF\",\"MF\",\"MF\",\"MF\",\"MF\",\"MF\",\"MF\",\"MF\",\"MF\",\"MF\",\"MF\",\"MF\",\"MF\",\"MF\",\"MF\",\"MF\",\"MF\",\"MF\",\"MF\",\"MF\",\"MF\",\"MF\",\"MF\",\"MF\",\"MF\",\"MF\",\"MF\",\"MF\",\"MF\",\"MF\",\"MF\",\"MF\",\"MF\",\"MF\",\"MF\",\"MF\",\"MF\",\"MF\",\"MF\",\"MF\",\"MF\",\"MF\",\"MF\",\"MF\",\"MF\",\"MF\",\"MF\",\"MF\",\"MF\",\"MF\",\"MF\",\"MF\",\"MF\",\"MF\",\"MF\",\"MF\",\"MF\",\"MF\",\"MF\",\"MF\",\"MF\",\"MF\",\"MF\",\"MF\",\"MF\",\"MF\",\"MF\",\"MF\",\"MF\",\"MF\",\"MF\",\"MF\",\"MF\",\"MF\",\"MF\",\"MF\",\"MF\",\"MF\",\"MF\",\"MF\",\"MF\",\"MF\",\"MF\",\"MF\",\"MF\",\"MF\",\"MF\",\"MF\",\"MF\",\"MF\",\"MF\",\"MF\",\"MF\",\"MF\",\"MF\",\"MF\",\"MF\",\"MF\",\"MF\",\"MF\",\"MF\",\"MF\",\"MF\",\"MF\",\"MF\",\"MF\",\"MF\",\"MF\",\"MF\",\"MF\",\"MF\",\"MF\",\"MF\",\"MF\",\"MF\",\"MF\",\"MF\",\"MF\",\"MF\",\"MF\",\"MF\",\"MF\",\"MF\",\"MF\",\"MF\",\"MF\",\"MF\",\"MF\",\"MF\",\"MF\",\"MF\",\"MF\",\"MF\",\"MF\",\"MF\",\"MF\",\"MF\",\"MF\",\"MF\",\"MF\",\"MF\",\"MF\",\"MF\",\"MF\",\"MF\",\"MF\",\"MF\",\"MF\",\"MF\",\"MF\",\"MF\",\"MF\",\"MF\",\"MF\",\"MF\",\"MF\",\"MF\",\"MF\",\"MF\",\"MF\",\"MF\",\"MF\",\"MF\",\"MF\",\"MF\",\"MF\",\"MF\",\"MF\",\"MF\",\"MF\",\"MF\",\"MF\",\"MF\",\"MF\",\"MF\",\"MF\",\"MF\",\"MF\",\"MF\",\"MF\",\"MF\",\"MF\",\"MF\",\"MF\",\"MF\",\"MF\",\"MF\",\"MF\",\"MF\",\"MF\",\"MF\",\"MF\",\"MF\",\"MF\",\"MF\",\"MF\",\"MF\",\"MF\",\"MF\",\"MF\",\"MF\",\"MF\",\"MF\",\"MF\",\"MF\",\"MF\",\"MF\",\"MF\",\"MF\",\"MF\",\"MF\",\"MF\",\"MF\",\"MF\",\"MF\",\"MF\",\"MF\",\"MF\",\"MF\",\"MF\",\"MF\",\"MF\",\"MF\",\"MF\",\"MF\",\"MF\",\"MF\",\"MF\",\"MF\",\"MF\",\"MF\",\"MF\",\"MF\",\"MF\",\"MF\",\"MF\",\"MF\",\"MF\",\"MF\",\"MF\",\"MF\",\"MF\",\"MF\",\"MF\",\"MF\",\"MF\",\"MF\",\"MF\",\"MF\",\"MF\",\"MF\",\"MF\",\"MF\",\"MF\",\"MF\",\"MF\",\"MF\",\"MF\",\"MF\",\"MF\",\"MF\",\"MF\",\"MF\",\"MF\",\"MF\",\"MF\",\"MF\",\"MF\",\"MF\",\"MF\",\"MF\",\"MF\",\"MF\",\"MF\",\"MF\",\"MF\",\"MF\",\"MF\",\"MF\",\"MF\",\"MF\",\"MF\",\"MF\",\"MF\",\"MF\",\"MF\",\"MF\",\"MF\",\"MF\",\"MF\",\"MF\",\"MF\",\"MF\",\"MF\",\"MF\",\"MF\",\"MF\",\"MF\",\"MF\",\"MF\",\"MF\",\"MF\",\"MF\",\"MF\",\"MF\",\"MM\",\"MM\",\"MM\",\"MM\",\"MM\",\"MM\",\"FF\",\"FF\",\"FF\",\"FF\",\"FF\",\"FF\",\"MF\",\"MF\",\"MF\",\"MF\",\"MF\",\"MF\",\"MF\",\"MF\",\"MF\",\"MF\",\"MF\",\"MF\",\"MF\",\"MF\",\"MF\",\"MF\",\"MF\",\"MF\",\"MF\",\"MF\",\"MF\",\"MF\",\"MF\",\"MF\",\"MF\",\"MF\",\"MF\",\"MF\",\"MF\",\"MF\",\"MF\",\"MF\",\"MF\",\"MF\",\"MF\",\"MF\",\"MF\",\"MF\",\"MF\",\"MF\",\"MF\",\"MF\",\"MF\",\"MF\",\"MF\",\"MF\",\"MF\",\"MF\",\"MF\",\"MF\",\"MF\",\"MF\",\"MF\",\"MF\",\"MF\",\"MF\",\"MF\",\"MF\",\"MF\",\"MF\",\"MF\",\"MF\",\"MF\",\"MF\",\"MF\",\"MF\",\"MF\",\"MF\",\"MF\",\"MF\",\"MF\",\"MF\",\"MF\",\"MF\",\"MF\",\"MF\",\"MF\",\"MF\",\"MF\",\"MF\",\"MF\",\"MF\",\"MF\",\"MF\",\"MF\",\"MF\",\"MF\",\"MF\",\"MF\",\"MF\",\"MF\",\"MF\",\"MF\",\"MF\",\"MF\",\"MF\",\"MF\",\"MF\",\"MF\",\"MF\",\"MF\",\"MF\",\"MF\",\"MF\",\"MF\",\"MF\",\"MF\",\"MF\",\"MF\",\"MF\",\"MF\",\"MF\",\"MF\",\"MF\",\"MF\",\"MF\",\"MF\",\"MF\",\"MF\",\"MF\",\"MF\",\"MF\",\"MF\",\"MF\",\"MF\",\"MF\",\"MF\",\"MF\",\"MF\",\"MF\",\"MF\",\"MF\",\"MF\",\"MF\",\"MF\",\"MF\",\"MF\",\"MF\",\"MF\",\"MF\",\"MF\",\"MF\",\"MF\",\"MF\",\"MF\",\"MF\",\"MF\",\"MF\",\"MF\",\"MF\",\"MF\",\"MF\",\"MF\",\"MF\",\"MF\",\"MF\",\"MF\",\"MF\",\"MF\",\"MF\",\"MF\",\"MF\",\"MF\",\"MF\",\"MF\",\"MF\",\"MF\",\"MF\",\"MF\",\"MF\",\"MF\",\"MF\",\"MF\",\"MF\",\"MF\",\"MF\",\"MF\",\"MF\",\"MF\",\"MF\",\"MF\",\"MF\",\"MF\",\"MF\",\"MF\",\"MF\",\"MF\",\"MF\",\"MF\",\"MF\",\"MF\",\"MF\",\"MF\",\"MF\",\"MF\",\"MF\",\"MF\",\"MF\",\"MF\",\"MF\",\"MF\",\"MF\",\"MF\",\"MF\",\"MF\",\"MF\",\"MF\",\"MF\",\"MF\",\"MF\",\"MF\",\"MF\",\"MF\",\"MF\",\"MF\",\"MF\",\"MF\",\"MF\",\"MF\",\"MF\",\"MF\",\"MF\",\"MF\",\"MF\",\"MF\",\"MF\",\"MF\",\"MF\",\"MF\",\"MF\",\"MF\",\"MF\",\"MF\",\"MF\",\"MF\",\"MF\",\"MF\",\"MF\",\"MF\",\"MF\",\"MF\",\"MF\",\"MF\",\"MF\",\"MF\",\"MF\",\"MF\",\"MF\",\"MF\",\"MF\",\"MF\",\"MF\",\"MF\",\"MF\",\"MF\",\"MF\",\"MF\",\"MF\",\"MF\",\"MF\",\"MF\",\"MF\",\"MF\",\"MF\",\"MF\",\"MF\",\"MF\",\"MF\",\"MF\",\"MF\",\"MF\",\"MF\",\"MF\",\"MF\",\"MF\",\"MF\",\"MF\",\"MF\",\"MF\",\"MF\",\"MF\",\"MF\",\"MF\",\"MF\",\"MF\",\"MF\",\"MF\",\"MF\",\"MF\",\"MF\",\"MF\",\"MF\",\"MF\",\"MF\",\"MF\",\"MF\",\"MF\",\"MF\",\"MF\",\"MF\",\"MF\",\"MF\",\"MF\",\"MF\",\"MF\",\"MF\",\"MF\",\"MF\",\"MF\",\"MF\",\"MF\",\"MF\",\"MF\",\"MF\",\"MF\",\"MF\",\"MF\",\"MF\",\"MF\",\"MF\",\"MF\",\"MF\",\"MF\",\"MF\",\"MF\",\"MF\",\"MF\",\"MF\",\"MF\",\"MF\",\"MF\",\"MF\",\"MF\",\"MF\",\"MF\",\"MF\",\"MF\",\"MF\",\"MF\",\"MF\",\"MF\",\"MF\",\"MF\",\"MF\",\"MF\",\"MF\",\"MF\",\"MF\",\"MF\",\"MF\",\"MF\",\"MF\",\"MF\",\"MF\",\"MM\",\"MM\",\"MM\",\"MM\",\"FF\",\"FF\",\"FF\",\"FF\",\"FF\",\"FF\",\"MF\",\"MF\",\"MF\",\"MF\",\"MF\",\"MF\",\"MF\",\"MF\",\"MF\",\"MF\",\"MF\",\"MF\",\"MF\",\"MF\",\"MF\",\"MF\",\"MF\",\"MF\",\"MF\",\"MF\",\"MF\",\"MF\",\"MF\",\"MF\",\"MF\",\"MF\",\"MF\",\"MF\",\"MF\",\"MF\",\"MF\",\"MF\",\"MF\",\"MF\",\"MF\",\"MF\",\"MF\",\"MF\",\"MF\",\"MF\",\"MF\",\"MF\",\"MF\",\"MF\",\"MF\",\"MF\",\"MF\",\"MF\",\"MF\",\"MF\",\"MF\",\"MF\",\"MF\",\"MF\",\"MF\",\"MF\",\"MF\",\"MF\",\"MF\",\"MF\",\"MF\",\"MF\",\"MF\",\"MF\",\"MF\",\"MF\",\"MF\",\"MF\",\"MF\",\"MF\",\"MF\",\"MF\",\"MF\",\"MF\",\"MF\",\"MF\",\"MF\",\"MF\",\"MF\",\"MF\",\"MF\",\"MF\",\"MF\",\"MF\",\"MF\",\"MF\",\"MF\",\"MF\",\"MF\",\"MF\",\"MF\",\"MF\",\"MF\",\"MF\",\"MF\",\"MF\",\"MF\",\"MF\",\"MF\",\"MF\",\"MF\",\"MF\",\"MF\",\"MF\",\"MF\",\"MF\",\"MF\",\"MF\",\"MF\",\"MF\",\"MF\",\"MF\",\"MF\",\"MF\",\"MF\",\"MF\",\"MF\",\"MF\",\"MF\",\"MF\",\"MF\",\"MF\",\"MF\",\"MF\",\"MF\",\"MF\",\"MF\",\"MF\",\"MF\",\"MF\",\"MF\",\"MF\",\"MF\",\"MF\",\"MF\",\"MF\",\"MF\",\"MF\",\"MF\",\"MF\",\"MF\",\"MF\",\"MF\",\"MF\",\"MF\",\"MF\",\"MF\",\"MF\",\"MF\",\"MF\",\"MF\",\"MF\",\"MF\",\"MF\",\"MF\",\"MF\",\"MF\",\"MF\",\"MF\",\"MF\",\"MF\",\"MF\",\"MF\",\"MF\",\"MF\",\"MF\",\"MF\",\"MF\",\"MF\",\"MF\",\"MF\",\"MF\",\"MF\",\"MF\",\"MF\",\"MF\",\"MF\",\"MF\",\"MF\",\"MF\",\"MF\",\"MF\",\"MF\",\"MF\",\"MF\",\"MF\",\"MF\",\"MF\",\"MF\",\"MF\",\"MF\",\"MF\",\"MF\",\"MF\",\"MF\",\"MF\",\"MF\",\"MF\",\"MF\",\"MF\",\"MF\",\"MF\",\"MF\",\"MF\",\"MF\",\"MF\",\"MF\",\"MF\",\"MF\",\"MF\",\"MF\",\"MF\",\"MF\",\"MF\",\"MF\",\"MF\",\"MF\",\"MF\",\"MF\",\"MF\",\"MF\",\"MF\",\"MF\",\"MF\",\"MF\",\"MF\",\"MF\",\"MF\",\"MF\",\"MF\",\"MF\",\"MF\",\"MF\",\"MF\",\"MM\",\"MM\",\"FF\",\"FF\",\"FF\",\"FF\",\"FF\",\"FF\",\"MF\",\"MF\",\"MF\",\"MF\",\"MF\",\"MF\",\"MF\",\"MF\",\"MF\",\"MF\",\"MF\",\"MF\",\"MF\",\"MF\",\"MF\",\"MF\",\"MF\",\"MF\",\"MF\",\"MF\",\"MF\",\"MF\",\"MF\",\"MF\",\"MF\",\"MF\",\"MF\",\"MF\",\"MF\",\"MF\",\"MF\",\"MF\",\"MF\",\"MF\",\"MF\",\"MF\",\"MF\",\"MF\",\"MF\",\"MF\",\"MF\",\"MF\",\"MF\",\"MF\",\"MF\",\"MF\",\"MF\",\"MF\",\"MF\",\"MF\",\"MF\",\"MF\",\"MF\",\"MF\",\"MF\",\"MF\",\"MF\",\"MF\",\"MF\",\"MF\",\"MF\",\"MF\",\"MF\",\"MF\",\"MF\",\"MF\",\"MF\",\"MF\",\"MF\",\"MF\",\"MF\",\"MF\",\"MF\",\"MF\",\"MF\",\"MF\",\"MF\",\"MF\",\"MF\",\"MF\",\"MF\",\"MF\",\"MF\",\"MF\",\"MF\",\"MF\",\"MF\",\"MF\",\"MF\",\"MF\",\"MF\",\"MF\",\"MF\",\"MF\",\"MF\",\"MF\",\"MF\",\"MF\",\"MF\",\"MF\",\"MF\",\"MF\",\"MF\",\"MF\",\"MF\",\"MF\",\"MF\",\"MF\",\"MF\",\"MF\",\"MF\",\"MF\",\"MF\",\"MF\",\"MF\",\"MF\",\"MF\",\"MF\",\"MF\",\"MF\",\"MF\",\"MF\",\"MF\",\"MF\",\"MF\",\"MF\",\"MF\",\"MF\",\"MF\",\"MF\",\"MF\",\"MF\",\"MM\",\"MM\",\"MM\",\"MM\",\"MM\",\"FF\",\"MF\",\"MF\",\"MF\",\"MF\",\"MF\",\"MF\",\"MF\",\"MF\",\"MF\",\"MF\",\"MF\",\"MF\",\"MF\",\"MF\",\"MF\",\"MF\",\"MF\",\"MF\",\"MF\",\"MF\",\"MF\",\"MF\",\"MF\",\"MF\",\"MF\",\"MF\",\"MF\",\"MF\",\"MF\",\"MF\",\"MF\",\"MF\",\"MF\",\"MF\",\"MF\",\"MF\",\"MF\",\"MF\",\"MF\",\"MF\",\"MF\",\"MF\",\"MF\",\"MF\",\"MF\",\"MF\",\"MF\",\"MF\",\"MF\",\"MF\",\"MF\",\"MF\",\"MF\",\"MF\",\"MF\",\"MF\",\"MF\",\"MF\",\"MF\",\"MF\",\"MF\",\"MF\",\"MF\",\"MF\",\"MF\",\"MF\",\"MF\",\"MF\",\"MF\",\"MF\",\"MF\",\"MF\",\"MF\",\"MF\",\"MF\",\"MF\",\"MM\",\"MM\",\"MM\",\"MM\",\"MM\",\"FF\",\"MF\",\"MF\",\"MF\",\"MF\",\"MF\",\"MF\",\"MF\",\"MF\",\"MF\",\"MF\",\"MF\",\"MF\",\"MF\",\"MF\",\"MF\",\"MF\",\"MF\",\"MF\",\"MF\",\"MF\",\"MF\",\"MF\",\"MF\",\"MF\",\"MF\",\"MF\",\"MF\",\"MF\",\"MF\",\"MF\",\"MF\",\"MF\",\"MF\",\"MF\",\"MF\",\"MF\",\"MF\",\"MF\",\"MF\",\"MF\",\"MF\",\"MF\",\"MF\",\"MF\",\"MF\",\"MF\",\"MF\",\"MF\",\"MF\",\"MF\",\"MF\",\"MF\",\"MF\",\"MF\",\"MF\",\"MF\",\"MF\",\"MF\",\"MF\",\"MF\",\"MF\",\"MF\",\"MF\",\"MF\",\"MF\",\"MF\",\"MF\",\"MF\",\"MF\",\"MF\",\"MF\",\"MF\",\"MF\",\"MF\",\"MF\",\"MF\",\"MF\",\"MF\",\"MF\",\"MF\",\"MF\",\"MF\",\"MF\",\"MF\",\"MF\",\"MF\",\"MF\",\"MF\",\"MF\",\"MF\",\"MF\",\"MF\",\"MF\",\"MF\",\"MF\",\"MF\",\"MF\",\"MF\",\"MF\",\"MF\",\"MF\",\"MF\",\"MF\",\"MF\",\"MF\",\"MF\",\"MF\",\"MF\",\"MF\",\"MF\",\"MF\",\"MF\",\"MF\",\"MF\",\"MF\",\"MF\",\"MF\",\"MF\",\"MF\",\"MF\",\"MF\",\"MF\",\"MF\",\"MF\",\"MF\",\"MF\",\"MF\",\"MF\",\"MF\",\"MF\",\"MF\",\"MF\",\"MF\",\"MF\",\"MF\",\"MF\",\"MF\",\"MF\",\"MM\",\"MM\",\"MM\",\"FF\",\"FF\",\"FF\",\"MF\",\"MF\",\"MF\",\"MF\",\"MF\",\"MF\",\"MF\",\"MF\",\"MF\",\"MF\",\"MF\",\"MF\",\"MF\",\"MF\",\"MF\",\"MF\",\"MF\",\"MF\",\"MF\",\"MF\",\"MF\",\"MF\",\"MF\",\"MF\",\"MF\",\"MF\",\"MF\",\"MF\",\"MF\",\"MF\",\"MF\",\"MF\",\"MF\",\"MF\",\"MF\",\"MF\",\"MF\",\"MF\",\"MF\",\"MF\",\"MF\",\"MF\",\"MF\",\"MF\",\"MF\",\"MF\",\"MF\",\"MF\",\"MF\",\"MF\",\"MF\",\"MF\",\"MF\",\"MF\",\"MF\",\"MF\",\"MF\",\"MF\",\"MF\",\"MF\",\"MF\",\"MF\",\"MF\",\"MF\",\"MF\",\"MF\",\"MF\",\"MF\",\"MF\",\"MF\",\"MF\",\"MF\",\"MF\",\"MF\",\"MF\",\"MF\",\"MF\",\"MF\",\"MF\",\"MF\",\"MF\",\"MF\",\"MF\",\"MF\",\"MF\",\"MF\",\"MF\",\"MF\",\"MF\",\"MF\",\"MF\",\"MF\",\"MF\",\"MF\",\"MF\",\"MF\",\"MF\",\"MF\",\"MF\",\"MF\",\"MF\",\"MF\",\"MF\",\"MF\",\"MF\",\"MF\",\"MF\",\"MF\",\"MF\",\"MF\",\"MF\",\"MF\",\"MF\",\"MF\",\"MF\",\"MF\",\"MF\",\"MF\",\"MF\",\"MF\",\"MF\",\"MF\",\"MF\",\"MF\",\"MF\",\"MF\",\"MF\",\"MF\",\"MF\",\"MF\",\"MF\",\"MF\",\"MF\",\"MF\",\"MF\",\"MF\",\"MF\",\"MF\",\"MF\",\"MF\",\"MF\",\"MF\",\"MF\",\"MF\",\"MF\",\"MF\",\"MF\",\"MF\",\"MF\",\"MF\",\"MF\",\"MF\",\"MF\",\"MF\",\"MF\",\"MF\",\"MF\",\"MF\",\"MF\",\"MF\",\"MF\",\"MF\",\"MF\",\"MF\",\"MF\",\"MF\",\"MF\",\"MF\",\"MF\",\"MF\",\"MF\",\"MF\",\"MF\",\"MF\",\"MF\",\"MF\",\"MF\",\"MF\",\"MF\",\"MF\",\"MF\",\"MF\",\"MF\",\"MF\",\"MF\",\"MF\",\"MF\",\"MF\",\"MF\",\"MF\",\"MF\",\"MF\",\"MF\",\"MF\",\"MF\",\"MF\",\"MF\",\"MF\",\"MF\",\"MF\",\"MF\",\"MF\",\"MF\",\"MF\",\"MF\",\"MF\",\"MF\",\"MF\",\"MF\",\"MF\",\"MF\",\"MF\",\"MF\",\"MF\",\"MF\",\"MF\",\"MF\",\"MF\",\"MF\",\"MF\",\"MF\",\"MF\",\"MF\",\"MF\",\"MF\",\"MF\",\"MF\",\"MF\",\"MF\",\"MF\",\"MF\",\"MF\",\"MF\",\"MF\",\"MF\",\"MF\",\"MF\",\"MF\",\"MF\",\"MF\",\"MF\",\"MF\",\"MF\",\"MF\",\"MF\",\"MF\",\"MF\",\"MF\",\"MF\",\"MF\",\"MF\",\"MF\",\"MF\",\"MF\",\"MF\",\"MF\",\"MF\",\"MF\",\"MF\",\"MF\",\"MF\",\"MF\",\"MF\",\"MF\",\"MF\",\"MF\",\"MF\",\"MF\",\"MF\",\"MF\",\"MF\",\"MF\",\"MM\",\"MM\"],\"yaxis\":\"y\",\"type\":\"bar\"}],                        {\"template\":{\"data\":{\"bar\":[{\"error_x\":{\"color\":\"#2a3f5f\"},\"error_y\":{\"color\":\"#2a3f5f\"},\"marker\":{\"line\":{\"color\":\"#E5ECF6\",\"width\":0.5},\"pattern\":{\"fillmode\":\"overlay\",\"size\":10,\"solidity\":0.2}},\"type\":\"bar\"}],\"barpolar\":[{\"marker\":{\"line\":{\"color\":\"#E5ECF6\",\"width\":0.5},\"pattern\":{\"fillmode\":\"overlay\",\"size\":10,\"solidity\":0.2}},\"type\":\"barpolar\"}],\"carpet\":[{\"aaxis\":{\"endlinecolor\":\"#2a3f5f\",\"gridcolor\":\"white\",\"linecolor\":\"white\",\"minorgridcolor\":\"white\",\"startlinecolor\":\"#2a3f5f\"},\"baxis\":{\"endlinecolor\":\"#2a3f5f\",\"gridcolor\":\"white\",\"linecolor\":\"white\",\"minorgridcolor\":\"white\",\"startlinecolor\":\"#2a3f5f\"},\"type\":\"carpet\"}],\"choropleth\":[{\"colorbar\":{\"outlinewidth\":0,\"ticks\":\"\"},\"type\":\"choropleth\"}],\"contour\":[{\"colorbar\":{\"outlinewidth\":0,\"ticks\":\"\"},\"colorscale\":[[0.0,\"#0d0887\"],[0.1111111111111111,\"#46039f\"],[0.2222222222222222,\"#7201a8\"],[0.3333333333333333,\"#9c179e\"],[0.4444444444444444,\"#bd3786\"],[0.5555555555555556,\"#d8576b\"],[0.6666666666666666,\"#ed7953\"],[0.7777777777777778,\"#fb9f3a\"],[0.8888888888888888,\"#fdca26\"],[1.0,\"#f0f921\"]],\"type\":\"contour\"}],\"contourcarpet\":[{\"colorbar\":{\"outlinewidth\":0,\"ticks\":\"\"},\"type\":\"contourcarpet\"}],\"heatmap\":[{\"colorbar\":{\"outlinewidth\":0,\"ticks\":\"\"},\"colorscale\":[[0.0,\"#0d0887\"],[0.1111111111111111,\"#46039f\"],[0.2222222222222222,\"#7201a8\"],[0.3333333333333333,\"#9c179e\"],[0.4444444444444444,\"#bd3786\"],[0.5555555555555556,\"#d8576b\"],[0.6666666666666666,\"#ed7953\"],[0.7777777777777778,\"#fb9f3a\"],[0.8888888888888888,\"#fdca26\"],[1.0,\"#f0f921\"]],\"type\":\"heatmap\"}],\"heatmapgl\":[{\"colorbar\":{\"outlinewidth\":0,\"ticks\":\"\"},\"colorscale\":[[0.0,\"#0d0887\"],[0.1111111111111111,\"#46039f\"],[0.2222222222222222,\"#7201a8\"],[0.3333333333333333,\"#9c179e\"],[0.4444444444444444,\"#bd3786\"],[0.5555555555555556,\"#d8576b\"],[0.6666666666666666,\"#ed7953\"],[0.7777777777777778,\"#fb9f3a\"],[0.8888888888888888,\"#fdca26\"],[1.0,\"#f0f921\"]],\"type\":\"heatmapgl\"}],\"histogram\":[{\"marker\":{\"pattern\":{\"fillmode\":\"overlay\",\"size\":10,\"solidity\":0.2}},\"type\":\"histogram\"}],\"histogram2d\":[{\"colorbar\":{\"outlinewidth\":0,\"ticks\":\"\"},\"colorscale\":[[0.0,\"#0d0887\"],[0.1111111111111111,\"#46039f\"],[0.2222222222222222,\"#7201a8\"],[0.3333333333333333,\"#9c179e\"],[0.4444444444444444,\"#bd3786\"],[0.5555555555555556,\"#d8576b\"],[0.6666666666666666,\"#ed7953\"],[0.7777777777777778,\"#fb9f3a\"],[0.8888888888888888,\"#fdca26\"],[1.0,\"#f0f921\"]],\"type\":\"histogram2d\"}],\"histogram2dcontour\":[{\"colorbar\":{\"outlinewidth\":0,\"ticks\":\"\"},\"colorscale\":[[0.0,\"#0d0887\"],[0.1111111111111111,\"#46039f\"],[0.2222222222222222,\"#7201a8\"],[0.3333333333333333,\"#9c179e\"],[0.4444444444444444,\"#bd3786\"],[0.5555555555555556,\"#d8576b\"],[0.6666666666666666,\"#ed7953\"],[0.7777777777777778,\"#fb9f3a\"],[0.8888888888888888,\"#fdca26\"],[1.0,\"#f0f921\"]],\"type\":\"histogram2dcontour\"}],\"mesh3d\":[{\"colorbar\":{\"outlinewidth\":0,\"ticks\":\"\"},\"type\":\"mesh3d\"}],\"parcoords\":[{\"line\":{\"colorbar\":{\"outlinewidth\":0,\"ticks\":\"\"}},\"type\":\"parcoords\"}],\"pie\":[{\"automargin\":true,\"type\":\"pie\"}],\"scatter\":[{\"marker\":{\"colorbar\":{\"outlinewidth\":0,\"ticks\":\"\"}},\"type\":\"scatter\"}],\"scatter3d\":[{\"line\":{\"colorbar\":{\"outlinewidth\":0,\"ticks\":\"\"}},\"marker\":{\"colorbar\":{\"outlinewidth\":0,\"ticks\":\"\"}},\"type\":\"scatter3d\"}],\"scattercarpet\":[{\"marker\":{\"colorbar\":{\"outlinewidth\":0,\"ticks\":\"\"}},\"type\":\"scattercarpet\"}],\"scattergeo\":[{\"marker\":{\"colorbar\":{\"outlinewidth\":0,\"ticks\":\"\"}},\"type\":\"scattergeo\"}],\"scattergl\":[{\"marker\":{\"colorbar\":{\"outlinewidth\":0,\"ticks\":\"\"}},\"type\":\"scattergl\"}],\"scattermapbox\":[{\"marker\":{\"colorbar\":{\"outlinewidth\":0,\"ticks\":\"\"}},\"type\":\"scattermapbox\"}],\"scatterpolar\":[{\"marker\":{\"colorbar\":{\"outlinewidth\":0,\"ticks\":\"\"}},\"type\":\"scatterpolar\"}],\"scatterpolargl\":[{\"marker\":{\"colorbar\":{\"outlinewidth\":0,\"ticks\":\"\"}},\"type\":\"scatterpolargl\"}],\"scatterternary\":[{\"marker\":{\"colorbar\":{\"outlinewidth\":0,\"ticks\":\"\"}},\"type\":\"scatterternary\"}],\"surface\":[{\"colorbar\":{\"outlinewidth\":0,\"ticks\":\"\"},\"colorscale\":[[0.0,\"#0d0887\"],[0.1111111111111111,\"#46039f\"],[0.2222222222222222,\"#7201a8\"],[0.3333333333333333,\"#9c179e\"],[0.4444444444444444,\"#bd3786\"],[0.5555555555555556,\"#d8576b\"],[0.6666666666666666,\"#ed7953\"],[0.7777777777777778,\"#fb9f3a\"],[0.8888888888888888,\"#fdca26\"],[1.0,\"#f0f921\"]],\"type\":\"surface\"}],\"table\":[{\"cells\":{\"fill\":{\"color\":\"#EBF0F8\"},\"line\":{\"color\":\"white\"}},\"header\":{\"fill\":{\"color\":\"#C8D4E3\"},\"line\":{\"color\":\"white\"}},\"type\":\"table\"}]},\"layout\":{\"annotationdefaults\":{\"arrowcolor\":\"#2a3f5f\",\"arrowhead\":0,\"arrowwidth\":1},\"autotypenumbers\":\"strict\",\"coloraxis\":{\"colorbar\":{\"outlinewidth\":0,\"ticks\":\"\"}},\"colorscale\":{\"diverging\":[[0,\"#8e0152\"],[0.1,\"#c51b7d\"],[0.2,\"#de77ae\"],[0.3,\"#f1b6da\"],[0.4,\"#fde0ef\"],[0.5,\"#f7f7f7\"],[0.6,\"#e6f5d0\"],[0.7,\"#b8e186\"],[0.8,\"#7fbc41\"],[0.9,\"#4d9221\"],[1,\"#276419\"]],\"sequential\":[[0.0,\"#0d0887\"],[0.1111111111111111,\"#46039f\"],[0.2222222222222222,\"#7201a8\"],[0.3333333333333333,\"#9c179e\"],[0.4444444444444444,\"#bd3786\"],[0.5555555555555556,\"#d8576b\"],[0.6666666666666666,\"#ed7953\"],[0.7777777777777778,\"#fb9f3a\"],[0.8888888888888888,\"#fdca26\"],[1.0,\"#f0f921\"]],\"sequentialminus\":[[0.0,\"#0d0887\"],[0.1111111111111111,\"#46039f\"],[0.2222222222222222,\"#7201a8\"],[0.3333333333333333,\"#9c179e\"],[0.4444444444444444,\"#bd3786\"],[0.5555555555555556,\"#d8576b\"],[0.6666666666666666,\"#ed7953\"],[0.7777777777777778,\"#fb9f3a\"],[0.8888888888888888,\"#fdca26\"],[1.0,\"#f0f921\"]]},\"colorway\":[\"#636efa\",\"#EF553B\",\"#00cc96\",\"#ab63fa\",\"#FFA15A\",\"#19d3f3\",\"#FF6692\",\"#B6E880\",\"#FF97FF\",\"#FECB52\"],\"font\":{\"color\":\"#2a3f5f\"},\"geo\":{\"bgcolor\":\"white\",\"lakecolor\":\"white\",\"landcolor\":\"#E5ECF6\",\"showlakes\":true,\"showland\":true,\"subunitcolor\":\"white\"},\"hoverlabel\":{\"align\":\"left\"},\"hovermode\":\"closest\",\"mapbox\":{\"style\":\"light\"},\"paper_bgcolor\":\"white\",\"plot_bgcolor\":\"#E5ECF6\",\"polar\":{\"angularaxis\":{\"gridcolor\":\"white\",\"linecolor\":\"white\",\"ticks\":\"\"},\"bgcolor\":\"#E5ECF6\",\"radialaxis\":{\"gridcolor\":\"white\",\"linecolor\":\"white\",\"ticks\":\"\"}},\"scene\":{\"xaxis\":{\"backgroundcolor\":\"#E5ECF6\",\"gridcolor\":\"white\",\"gridwidth\":2,\"linecolor\":\"white\",\"showbackground\":true,\"ticks\":\"\",\"zerolinecolor\":\"white\"},\"yaxis\":{\"backgroundcolor\":\"#E5ECF6\",\"gridcolor\":\"white\",\"gridwidth\":2,\"linecolor\":\"white\",\"showbackground\":true,\"ticks\":\"\",\"zerolinecolor\":\"white\"},\"zaxis\":{\"backgroundcolor\":\"#E5ECF6\",\"gridcolor\":\"white\",\"gridwidth\":2,\"linecolor\":\"white\",\"showbackground\":true,\"ticks\":\"\",\"zerolinecolor\":\"white\"}},\"shapedefaults\":{\"line\":{\"color\":\"#2a3f5f\"}},\"ternary\":{\"aaxis\":{\"gridcolor\":\"white\",\"linecolor\":\"white\",\"ticks\":\"\"},\"baxis\":{\"gridcolor\":\"white\",\"linecolor\":\"white\",\"ticks\":\"\"},\"bgcolor\":\"#E5ECF6\",\"caxis\":{\"gridcolor\":\"white\",\"linecolor\":\"white\",\"ticks\":\"\"}},\"title\":{\"x\":0.05},\"xaxis\":{\"automargin\":true,\"gridcolor\":\"white\",\"linecolor\":\"white\",\"ticks\":\"\",\"title\":{\"standoff\":15},\"zerolinecolor\":\"white\",\"zerolinewidth\":2},\"yaxis\":{\"automargin\":true,\"gridcolor\":\"white\",\"linecolor\":\"white\",\"ticks\":\"\",\"title\":{\"standoff\":15},\"zerolinecolor\":\"white\",\"zerolinewidth\":2}}},\"xaxis\":{\"anchor\":\"y\",\"domain\":[0.0,1.0],\"title\":{\"text\":\"MMAR\"}},\"yaxis\":{\"anchor\":\"x\",\"domain\":[0.0,1.0],\"title\":{\"text\":\"Mariage\"}},\"legend\":{\"tracegroupgap\":0},\"title\":{\"text\":\"Bla\"},\"barmode\":\"relative\"},                        {\"responsive\": true}                    ).then(function(){\n",
       "                            \n",
       "var gd = document.getElementById('42aceb17-631d-4c77-af61-0163ead584e8');\n",
       "var x = new MutationObserver(function (mutations, observer) {{\n",
       "        var display = window.getComputedStyle(gd).display;\n",
       "        if (!display || display === 'none') {{\n",
       "            console.log([gd, 'removed!']);\n",
       "            Plotly.purge(gd);\n",
       "            observer.disconnect();\n",
       "        }}\n",
       "}});\n",
       "\n",
       "// Listen for the removal of the full notebook cells\n",
       "var notebookContainer = gd.closest('#notebook-container');\n",
       "if (notebookContainer) {{\n",
       "    x.observe(notebookContainer, {childList: true});\n",
       "}}\n",
       "\n",
       "// Listen for the clearing of the current output cell\n",
       "var outputEl = gd.closest('.output');\n",
       "if (outputEl) {{\n",
       "    x.observe(outputEl, {childList: true});\n",
       "}}\n",
       "\n",
       "                        })                };                });            </script>        </div>"
      ]
     },
     "metadata": {},
     "output_type": "display_data"
    }
   ],
   "source": [
    "fig.show()"
   ]
  },
  {
   "cell_type": "code",
   "execution_count": null,
   "metadata": {},
   "outputs": [],
   "source": []
  }
 ],
 "metadata": {
  "kernelspec": {
   "display_name": "Python 3",
   "language": "python",
   "name": "python3"
  },
  "language_info": {
   "codemirror_mode": {
    "name": "ipython",
    "version": 3
   },
   "file_extension": ".py",
   "mimetype": "text/x-python",
   "name": "python",
   "nbconvert_exporter": "python",
   "pygments_lexer": "ipython3",
   "version": "3.8.10"
  }
 },
 "nbformat": 4,
 "nbformat_minor": 4
}
