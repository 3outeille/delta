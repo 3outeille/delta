{
 "cells": [
  {
   "cell_type": "code",
   "execution_count": 36,
   "id": "f8614952",
   "metadata": {},
   "outputs": [],
   "source": [
    "import pandas as pd\n",
    "import numpy as np\n",
    "import dbf\n",
    "from simpledbf import Dbf5\n",
    "from dbfread import DBF\n"
   ]
  },
  {
   "cell_type": "code",
   "execution_count": 86,
   "id": "7780384c",
   "metadata": {},
   "outputs": [],
   "source": [
    "dbf = Dbf5('../data/data mariages 2014.dbf')\n",
    "mar_14 = dbf.to_dataframe()\n",
    "\n",
    "dbf = Dbf5('../data/data mariages 2015.dbf')\n",
    "mar_15 = dbf.to_dataframe()\n",
    "\n",
    "dbf = Dbf5('../data/data mariages 2016.dbf')\n",
    "mar_16 = dbf.to_dataframe()\n",
    "\n",
    "dbf = Dbf5('../data/data mariages 2017.dbf')\n",
    "mar_17 = dbf.to_dataframe()\n",
    "\n",
    "dbf = Dbf5('../data/data mariages 2018.dbf')\n",
    "mar_18 = dbf.to_dataframe()\n",
    "\n",
    "dbf = Dbf5('../data/data mariages 2019.dbf')\n",
    "mar_19 = dbf.to_dataframe()\n",
    "\n",
    "dbf = Dbf5('../data/data mariages 2020.dbf')\n",
    "mar_20 = dbf.to_dataframe()\n"
   ]
  },
  {
   "cell_type": "code",
   "execution_count": 80,
   "id": "69bb08e3",
   "metadata": {},
   "outputs": [],
   "source": [
    "def filter_df(df):\n",
    "    df.drop(columns = ['ANAIS1', 'DEPNAIS1', 'INDNAT1', 'ETAMAT1', 'ANAIS2', 'DEPNAIS2', 'INDNAT2','ETAMAT2', 'JSEMAINE', 'DEPDOM', 'TUDOM', 'TUCOM', 'NBENFCOM'], axis=1, inplace=True)"
   ]
  },
  {
   "cell_type": "code",
   "execution_count": 87,
   "id": "dc2b7c46",
   "metadata": {},
   "outputs": [],
   "source": [
    "filter_df(mar_14)\n",
    "filter_df(mar_15)\n",
    "filter_df(mar_16)\n",
    "filter_df(mar_17)\n",
    "filter_df(mar_18)\n",
    "filter_df(mar_19)\n",
    "filter_df(mar_20)"
   ]
  },
  {
   "cell_type": "code",
   "execution_count": 89,
   "id": "ba9be433",
   "metadata": {},
   "outputs": [],
   "source": [
    "df = pd.concat([mar_14, mar_15, mar_16, mar_17, mar_18, mar_19, mar_20])"
   ]
  },
  {
   "cell_type": "code",
   "execution_count": 90,
   "id": "cabb5e71",
   "metadata": {},
   "outputs": [
    {
     "data": {
      "text/html": [
       "<div>\n",
       "<style scoped>\n",
       "    .dataframe tbody tr th:only-of-type {\n",
       "        vertical-align: middle;\n",
       "    }\n",
       "\n",
       "    .dataframe tbody tr th {\n",
       "        vertical-align: top;\n",
       "    }\n",
       "\n",
       "    .dataframe thead th {\n",
       "        text-align: right;\n",
       "    }\n",
       "</style>\n",
       "<table border=\"1\" class=\"dataframe\">\n",
       "  <thead>\n",
       "    <tr style=\"text-align: right;\">\n",
       "      <th></th>\n",
       "      <th>SEXE1</th>\n",
       "      <th>SEXE2</th>\n",
       "      <th>AMAR</th>\n",
       "      <th>MMAR</th>\n",
       "      <th>DEPMAR</th>\n",
       "    </tr>\n",
       "  </thead>\n",
       "  <tbody>\n",
       "    <tr>\n",
       "      <th>0</th>\n",
       "      <td>F</td>\n",
       "      <td>M</td>\n",
       "      <td>2014</td>\n",
       "      <td>02</td>\n",
       "      <td>01</td>\n",
       "    </tr>\n",
       "    <tr>\n",
       "      <th>1</th>\n",
       "      <td>M</td>\n",
       "      <td>F</td>\n",
       "      <td>2014</td>\n",
       "      <td>08</td>\n",
       "      <td>01</td>\n",
       "    </tr>\n",
       "    <tr>\n",
       "      <th>2</th>\n",
       "      <td>M</td>\n",
       "      <td>F</td>\n",
       "      <td>2014</td>\n",
       "      <td>08</td>\n",
       "      <td>01</td>\n",
       "    </tr>\n",
       "    <tr>\n",
       "      <th>3</th>\n",
       "      <td>M</td>\n",
       "      <td>F</td>\n",
       "      <td>2014</td>\n",
       "      <td>08</td>\n",
       "      <td>01</td>\n",
       "    </tr>\n",
       "    <tr>\n",
       "      <th>4</th>\n",
       "      <td>M</td>\n",
       "      <td>F</td>\n",
       "      <td>2014</td>\n",
       "      <td>05</td>\n",
       "      <td>01</td>\n",
       "    </tr>\n",
       "    <tr>\n",
       "      <th>...</th>\n",
       "      <td>...</td>\n",
       "      <td>...</td>\n",
       "      <td>...</td>\n",
       "      <td>...</td>\n",
       "      <td>...</td>\n",
       "    </tr>\n",
       "    <tr>\n",
       "      <th>154576</th>\n",
       "      <td>M</td>\n",
       "      <td>F</td>\n",
       "      <td>2020</td>\n",
       "      <td>02</td>\n",
       "      <td>64</td>\n",
       "    </tr>\n",
       "    <tr>\n",
       "      <th>154577</th>\n",
       "      <td>M</td>\n",
       "      <td>F</td>\n",
       "      <td>2020</td>\n",
       "      <td>07</td>\n",
       "      <td>83</td>\n",
       "    </tr>\n",
       "    <tr>\n",
       "      <th>154578</th>\n",
       "      <td>M</td>\n",
       "      <td>F</td>\n",
       "      <td>2020</td>\n",
       "      <td>05</td>\n",
       "      <td>29</td>\n",
       "    </tr>\n",
       "    <tr>\n",
       "      <th>154579</th>\n",
       "      <td>M</td>\n",
       "      <td>F</td>\n",
       "      <td>2020</td>\n",
       "      <td>09</td>\n",
       "      <td>974</td>\n",
       "    </tr>\n",
       "    <tr>\n",
       "      <th>154580</th>\n",
       "      <td>M</td>\n",
       "      <td>F</td>\n",
       "      <td>2020</td>\n",
       "      <td>01</td>\n",
       "      <td>95</td>\n",
       "    </tr>\n",
       "  </tbody>\n",
       "</table>\n",
       "<p>1555919 rows × 5 columns</p>\n",
       "</div>"
      ],
      "text/plain": [
       "       SEXE1 SEXE2  AMAR MMAR DEPMAR\n",
       "0          F     M  2014   02     01\n",
       "1          M     F  2014   08     01\n",
       "2          M     F  2014   08     01\n",
       "3          M     F  2014   08     01\n",
       "4          M     F  2014   05     01\n",
       "...      ...   ...   ...  ...    ...\n",
       "154576     M     F  2020   02     64\n",
       "154577     M     F  2020   07     83\n",
       "154578     M     F  2020   05     29\n",
       "154579     M     F  2020   09    974\n",
       "154580     M     F  2020   01     95\n",
       "\n",
       "[1555919 rows x 5 columns]"
      ]
     },
     "execution_count": 90,
     "metadata": {},
     "output_type": "execute_result"
    }
   ],
   "source": [
    "df"
   ]
  },
  {
   "cell_type": "code",
   "execution_count": 91,
   "id": "7e6a476d",
   "metadata": {},
   "outputs": [
    {
     "data": {
      "text/plain": [
       "DEPMAR\n",
       "01     14911\n",
       "02     12636\n",
       "03      7290\n",
       "04      4110\n",
       "05      3269\n",
       "       ...  \n",
       "974    19265\n",
       "975       22\n",
       "976     2624\n",
       "977       37\n",
       "978      133\n",
       "Length: 104, dtype: int64"
      ]
     },
     "execution_count": 91,
     "metadata": {},
     "output_type": "execute_result"
    }
   ],
   "source": [
    "df.groupby(\"DEPMAR\").size()"
   ]
  },
  {
   "cell_type": "code",
   "execution_count": 92,
   "id": "fb0277ae",
   "metadata": {},
   "outputs": [
    {
     "data": {
      "text/plain": [
       "1555919"
      ]
     },
     "execution_count": 92,
     "metadata": {},
     "output_type": "execute_result"
    }
   ],
   "source": [
    "df.groupby(\"DEPMAR\").size().sum()  #to check"
   ]
  },
  {
   "cell_type": "code",
   "execution_count": null,
   "id": "84798b1e",
   "metadata": {},
   "outputs": [],
   "source": []
  }
 ],
 "metadata": {
  "kernelspec": {
   "display_name": "Python 3 (ipykernel)",
   "language": "python",
   "name": "python3"
  },
  "language_info": {
   "codemirror_mode": {
    "name": "ipython",
    "version": 3
   },
   "file_extension": ".py",
   "mimetype": "text/x-python",
   "name": "python",
   "nbconvert_exporter": "python",
   "pygments_lexer": "ipython3",
   "version": "3.9.7"
  }
 },
 "nbformat": 4,
 "nbformat_minor": 5
}
