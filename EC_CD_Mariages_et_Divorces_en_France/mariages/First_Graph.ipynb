{
 "cells": [
  {
   "cell_type": "code",
   "execution_count": 171,
   "metadata": {},
   "outputs": [],
   "source": [
    "import pandas as pd\n",
    "import pandas_datareader as pdr\n",
    "import numpy as np\n",
    "#import dbf\n",
    "from simpledbf import Dbf5"
   ]
  },
  {
   "cell_type": "code",
   "execution_count": 172,
   "metadata": {},
   "outputs": [],
   "source": [
    "mar_14 = Dbf5('../data/data mariages 2014.dbf').to_dataframe()\n",
    "\n",
    "mar_15 = Dbf5('../data/data mariages 2015.dbf').to_dataframe()\n",
    "\n",
    "mar_16  = Dbf5('../data/data mariages 2016.dbf').to_dataframe()\n",
    "\n",
    "mar_17 = Dbf5('../data/data mariages 2017.dbf').to_dataframe()\n",
    "\n",
    "mar_18 = Dbf5('../data/data mariages 2018.dbf').to_dataframe()\n",
    "\n",
    "mar_19 = Dbf5('../data/data mariages 2019.dbf').to_dataframe()\n",
    "\n",
    "mar_20 = Dbf5('../data/data mariages 2020.dbf').to_dataframe()"
   ]
  },
  {
   "cell_type": "code",
   "execution_count": 173,
   "metadata": {},
   "outputs": [],
   "source": [
    "def filter_df(df):\n",
    "    df.drop(columns = ['ANAIS1', 'DEPNAIS1', 'INDNAT1', 'ETAMAT1', 'ANAIS2', 'DEPNAIS2', 'INDNAT2','ETAMAT2', 'JSEMAINE', 'DEPDOM', 'TUDOM', 'TUCOM', 'NBENFCOM'], axis=1, inplace=True)"
   ]
  },
  {
   "cell_type": "code",
   "execution_count": 174,
   "metadata": {},
   "outputs": [],
   "source": [
    "filter_df(mar_14)\n",
    "filter_df(mar_15)\n",
    "filter_df(mar_16)\n",
    "filter_df(mar_17)\n",
    "filter_df(mar_18)\n",
    "filter_df(mar_19)\n",
    "filter_df(mar_20)"
   ]
  },
  {
   "cell_type": "code",
   "execution_count": 175,
   "metadata": {
    "scrolled": true
   },
   "outputs": [
    {
     "data": {
      "text/html": [
       "<div>\n",
       "<style scoped>\n",
       "    .dataframe tbody tr th:only-of-type {\n",
       "        vertical-align: middle;\n",
       "    }\n",
       "\n",
       "    .dataframe tbody tr th {\n",
       "        vertical-align: top;\n",
       "    }\n",
       "\n",
       "    .dataframe thead th {\n",
       "        text-align: right;\n",
       "    }\n",
       "</style>\n",
       "<table border=\"1\" class=\"dataframe\">\n",
       "  <thead>\n",
       "    <tr style=\"text-align: right;\">\n",
       "      <th></th>\n",
       "      <th>SEXE1</th>\n",
       "      <th>SEXE2</th>\n",
       "      <th>AMAR</th>\n",
       "      <th>MMAR</th>\n",
       "      <th>DEPMAR</th>\n",
       "    </tr>\n",
       "  </thead>\n",
       "  <tbody>\n",
       "    <tr>\n",
       "      <th>0</th>\n",
       "      <td>F</td>\n",
       "      <td>M</td>\n",
       "      <td>2014</td>\n",
       "      <td>02</td>\n",
       "      <td>01</td>\n",
       "    </tr>\n",
       "    <tr>\n",
       "      <th>1</th>\n",
       "      <td>M</td>\n",
       "      <td>F</td>\n",
       "      <td>2014</td>\n",
       "      <td>08</td>\n",
       "      <td>01</td>\n",
       "    </tr>\n",
       "    <tr>\n",
       "      <th>2</th>\n",
       "      <td>M</td>\n",
       "      <td>F</td>\n",
       "      <td>2014</td>\n",
       "      <td>08</td>\n",
       "      <td>01</td>\n",
       "    </tr>\n",
       "    <tr>\n",
       "      <th>3</th>\n",
       "      <td>M</td>\n",
       "      <td>F</td>\n",
       "      <td>2014</td>\n",
       "      <td>08</td>\n",
       "      <td>01</td>\n",
       "    </tr>\n",
       "    <tr>\n",
       "      <th>4</th>\n",
       "      <td>M</td>\n",
       "      <td>F</td>\n",
       "      <td>2014</td>\n",
       "      <td>05</td>\n",
       "      <td>01</td>\n",
       "    </tr>\n",
       "    <tr>\n",
       "      <th>...</th>\n",
       "      <td>...</td>\n",
       "      <td>...</td>\n",
       "      <td>...</td>\n",
       "      <td>...</td>\n",
       "      <td>...</td>\n",
       "    </tr>\n",
       "    <tr>\n",
       "      <th>154576</th>\n",
       "      <td>M</td>\n",
       "      <td>F</td>\n",
       "      <td>2020</td>\n",
       "      <td>02</td>\n",
       "      <td>64</td>\n",
       "    </tr>\n",
       "    <tr>\n",
       "      <th>154577</th>\n",
       "      <td>M</td>\n",
       "      <td>F</td>\n",
       "      <td>2020</td>\n",
       "      <td>07</td>\n",
       "      <td>83</td>\n",
       "    </tr>\n",
       "    <tr>\n",
       "      <th>154578</th>\n",
       "      <td>M</td>\n",
       "      <td>F</td>\n",
       "      <td>2020</td>\n",
       "      <td>05</td>\n",
       "      <td>29</td>\n",
       "    </tr>\n",
       "    <tr>\n",
       "      <th>154579</th>\n",
       "      <td>M</td>\n",
       "      <td>F</td>\n",
       "      <td>2020</td>\n",
       "      <td>09</td>\n",
       "      <td>974</td>\n",
       "    </tr>\n",
       "    <tr>\n",
       "      <th>154580</th>\n",
       "      <td>M</td>\n",
       "      <td>F</td>\n",
       "      <td>2020</td>\n",
       "      <td>01</td>\n",
       "      <td>95</td>\n",
       "    </tr>\n",
       "  </tbody>\n",
       "</table>\n",
       "<p>1555919 rows × 5 columns</p>\n",
       "</div>"
      ],
      "text/plain": [
       "       SEXE1 SEXE2  AMAR MMAR DEPMAR\n",
       "0          F     M  2014   02     01\n",
       "1          M     F  2014   08     01\n",
       "2          M     F  2014   08     01\n",
       "3          M     F  2014   08     01\n",
       "4          M     F  2014   05     01\n",
       "...      ...   ...   ...  ...    ...\n",
       "154576     M     F  2020   02     64\n",
       "154577     M     F  2020   07     83\n",
       "154578     M     F  2020   05     29\n",
       "154579     M     F  2020   09    974\n",
       "154580     M     F  2020   01     95\n",
       "\n",
       "[1555919 rows x 5 columns]"
      ]
     },
     "execution_count": 175,
     "metadata": {},
     "output_type": "execute_result"
    }
   ],
   "source": [
    "df = pd.concat([mar_14, mar_15, mar_16, mar_17, mar_18, mar_19, mar_20])\n",
    "df"
   ]
  },
  {
   "cell_type": "code",
   "execution_count": 176,
   "metadata": {},
   "outputs": [],
   "source": [
    "HH = df[(df['SEXE1'] == 'M') & (df['SEXE2'] == 'M')]\n",
    "graph = pd.DataFrame(HH.groupby('AMAR').size(), columns = ['Homme_Homme'])"
   ]
  },
  {
   "cell_type": "code",
   "execution_count": 177,
   "metadata": {},
   "outputs": [],
   "source": [
    "FF = df[(df['SEXE1'] == 'F') & (df['SEXE2'] == 'F')]\n",
    "graph = graph.assign(Femme_Femme = FF.groupby('AMAR').size())"
   ]
  },
  {
   "cell_type": "code",
   "execution_count": 178,
   "metadata": {},
   "outputs": [],
   "source": [
    "HF = df[((df['SEXE1'] == 'M') & (df['SEXE2'] == 'F')) | ((df['SEXE1'] == 'F') & (df['SEXE2'] == 'M'))]\n",
    "graph = graph.assign(Homme_Femme = HF.groupby('AMAR').size())"
   ]
  },
  {
   "cell_type": "code",
   "execution_count": 179,
   "metadata": {},
   "outputs": [
    {
     "data": {
      "text/html": [
       "<div>\n",
       "<style scoped>\n",
       "    .dataframe tbody tr th:only-of-type {\n",
       "        vertical-align: middle;\n",
       "    }\n",
       "\n",
       "    .dataframe tbody tr th {\n",
       "        vertical-align: top;\n",
       "    }\n",
       "\n",
       "    .dataframe thead th {\n",
       "        text-align: right;\n",
       "    }\n",
       "</style>\n",
       "<table border=\"1\" class=\"dataframe\">\n",
       "  <thead>\n",
       "    <tr style=\"text-align: right;\">\n",
       "      <th></th>\n",
       "      <th>Homme_Homme</th>\n",
       "      <th>Femme_Femme</th>\n",
       "      <th>Homme_Femme</th>\n",
       "      <th>TOTAL</th>\n",
       "    </tr>\n",
       "    <tr>\n",
       "      <th>AMAR</th>\n",
       "      <th></th>\n",
       "      <th></th>\n",
       "      <th></th>\n",
       "      <th></th>\n",
       "    </tr>\n",
       "  </thead>\n",
       "  <tbody>\n",
       "    <tr>\n",
       "      <th>2017</th>\n",
       "      <td>3565</td>\n",
       "      <td>3588</td>\n",
       "      <td>224185</td>\n",
       "      <td>231338</td>\n",
       "    </tr>\n",
       "    <tr>\n",
       "      <th>2014</th>\n",
       "      <td>5672</td>\n",
       "      <td>4858</td>\n",
       "      <td>230954</td>\n",
       "      <td>241484</td>\n",
       "    </tr>\n",
       "    <tr>\n",
       "      <th>2015</th>\n",
       "      <td>4085</td>\n",
       "      <td>3666</td>\n",
       "      <td>228565</td>\n",
       "      <td>236316</td>\n",
       "    </tr>\n",
       "    <tr>\n",
       "      <th>2016</th>\n",
       "      <td>3672</td>\n",
       "      <td>3441</td>\n",
       "      <td>225612</td>\n",
       "      <td>232725</td>\n",
       "    </tr>\n",
       "    <tr>\n",
       "      <th>2018</th>\n",
       "      <td>3268</td>\n",
       "      <td>3118</td>\n",
       "      <td>228349</td>\n",
       "      <td>234735</td>\n",
       "    </tr>\n",
       "    <tr>\n",
       "      <th>2019</th>\n",
       "      <td>3061</td>\n",
       "      <td>3211</td>\n",
       "      <td>218468</td>\n",
       "      <td>224740</td>\n",
       "    </tr>\n",
       "    <tr>\n",
       "      <th>2020</th>\n",
       "      <td>2241</td>\n",
       "      <td>2357</td>\n",
       "      <td>149983</td>\n",
       "      <td>154581</td>\n",
       "    </tr>\n",
       "  </tbody>\n",
       "</table>\n",
       "</div>"
      ],
      "text/plain": [
       "      Homme_Homme  Femme_Femme  Homme_Femme   TOTAL\n",
       "AMAR                                               \n",
       "2017         3565         3588       224185  231338\n",
       "2014         5672         4858       230954  241484\n",
       "2015         4085         3666       228565  236316\n",
       "2016         3672         3441       225612  232725\n",
       "2018         3268         3118       228349  234735\n",
       "2019         3061         3211       218468  224740\n",
       "2020         2241         2357       149983  154581"
      ]
     },
     "execution_count": 179,
     "metadata": {},
     "output_type": "execute_result"
    }
   ],
   "source": [
    "graph = graph.assign(TOTAL = df.groupby('AMAR').size().astype(int))\n",
    "graph"
   ]
  },
  {
   "cell_type": "code",
   "execution_count": 180,
   "metadata": {},
   "outputs": [],
   "source": [
    "pd.options.plotting.backend = \"plotly\""
   ]
  },
  {
   "cell_type": "code",
   "execution_count": 181,
   "metadata": {},
   "outputs": [],
   "source": [
    "import plotly.express as px   # PlotlyExpress is the simplified version of Plotly"
   ]
  },
  {
   "cell_type": "code",
   "execution_count": 182,
   "metadata": {},
   "outputs": [
    {
     "data": {
      "application/vnd.plotly.v1+json": {
       "config": {
        "plotlyServerURL": "https://plot.ly"
       },
       "data": [
        {
         "hovertemplate": "variable=Homme_Homme<br>AMAR=%{x}<br>value=%{y}<extra></extra>",
         "legendgroup": "Homme_Homme",
         "line": {
          "color": "#636efa",
          "dash": "solid"
         },
         "marker": {
          "symbol": "circle"
         },
         "mode": "lines",
         "name": "Homme_Homme",
         "orientation": "v",
         "showlegend": true,
         "type": "scatter",
         "x": [
          2017,
          "2014",
          "2015",
          "2016",
          "2018",
          "2019",
          "2020"
         ],
         "xaxis": "x",
         "y": [
          3565,
          5672,
          4085,
          3672,
          3268,
          3061,
          2241
         ],
         "yaxis": "y"
        },
        {
         "hovertemplate": "variable=Femme_Femme<br>AMAR=%{x}<br>value=%{y}<extra></extra>",
         "legendgroup": "Femme_Femme",
         "line": {
          "color": "#EF553B",
          "dash": "solid"
         },
         "marker": {
          "symbol": "circle"
         },
         "mode": "lines",
         "name": "Femme_Femme",
         "orientation": "v",
         "showlegend": true,
         "type": "scatter",
         "x": [
          2017,
          "2014",
          "2015",
          "2016",
          "2018",
          "2019",
          "2020"
         ],
         "xaxis": "x",
         "y": [
          3588,
          4858,
          3666,
          3441,
          3118,
          3211,
          2357
         ],
         "yaxis": "y"
        },
        {
         "hovertemplate": "variable=Homme_Femme<br>AMAR=%{x}<br>value=%{y}<extra></extra>",
         "legendgroup": "Homme_Femme",
         "line": {
          "color": "#00cc96",
          "dash": "solid"
         },
         "marker": {
          "symbol": "circle"
         },
         "mode": "lines",
         "name": "Homme_Femme",
         "orientation": "v",
         "showlegend": true,
         "type": "scatter",
         "x": [
          2017,
          "2014",
          "2015",
          "2016",
          "2018",
          "2019",
          "2020"
         ],
         "xaxis": "x",
         "y": [
          224185,
          230954,
          228565,
          225612,
          228349,
          218468,
          149983
         ],
         "yaxis": "y"
        },
        {
         "hovertemplate": "variable=TOTAL<br>AMAR=%{x}<br>value=%{y}<extra></extra>",
         "legendgroup": "TOTAL",
         "line": {
          "color": "#ab63fa",
          "dash": "solid"
         },
         "marker": {
          "symbol": "circle"
         },
         "mode": "lines",
         "name": "TOTAL",
         "orientation": "v",
         "showlegend": true,
         "type": "scatter",
         "x": [
          2017,
          "2014",
          "2015",
          "2016",
          "2018",
          "2019",
          "2020"
         ],
         "xaxis": "x",
         "y": [
          231338,
          241484,
          236316,
          232725,
          234735,
          224740,
          154581
         ],
         "yaxis": "y"
        }
       ],
       "layout": {
        "legend": {
         "title": {
          "text": "Type de mariage"
         },
         "tracegroupgap": 0
        },
        "margin": {
         "t": 60
        },
        "template": {
         "data": {
          "bar": [
           {
            "error_x": {
             "color": "#2a3f5f"
            },
            "error_y": {
             "color": "#2a3f5f"
            },
            "marker": {
             "line": {
              "color": "#E5ECF6",
              "width": 0.5
             },
             "pattern": {
              "fillmode": "overlay",
              "size": 10,
              "solidity": 0.2
             }
            },
            "type": "bar"
           }
          ],
          "barpolar": [
           {
            "marker": {
             "line": {
              "color": "#E5ECF6",
              "width": 0.5
             },
             "pattern": {
              "fillmode": "overlay",
              "size": 10,
              "solidity": 0.2
             }
            },
            "type": "barpolar"
           }
          ],
          "carpet": [
           {
            "aaxis": {
             "endlinecolor": "#2a3f5f",
             "gridcolor": "white",
             "linecolor": "white",
             "minorgridcolor": "white",
             "startlinecolor": "#2a3f5f"
            },
            "baxis": {
             "endlinecolor": "#2a3f5f",
             "gridcolor": "white",
             "linecolor": "white",
             "minorgridcolor": "white",
             "startlinecolor": "#2a3f5f"
            },
            "type": "carpet"
           }
          ],
          "choropleth": [
           {
            "colorbar": {
             "outlinewidth": 0,
             "ticks": ""
            },
            "type": "choropleth"
           }
          ],
          "contour": [
           {
            "colorbar": {
             "outlinewidth": 0,
             "ticks": ""
            },
            "colorscale": [
             [
              0,
              "#0d0887"
             ],
             [
              0.1111111111111111,
              "#46039f"
             ],
             [
              0.2222222222222222,
              "#7201a8"
             ],
             [
              0.3333333333333333,
              "#9c179e"
             ],
             [
              0.4444444444444444,
              "#bd3786"
             ],
             [
              0.5555555555555556,
              "#d8576b"
             ],
             [
              0.6666666666666666,
              "#ed7953"
             ],
             [
              0.7777777777777778,
              "#fb9f3a"
             ],
             [
              0.8888888888888888,
              "#fdca26"
             ],
             [
              1,
              "#f0f921"
             ]
            ],
            "type": "contour"
           }
          ],
          "contourcarpet": [
           {
            "colorbar": {
             "outlinewidth": 0,
             "ticks": ""
            },
            "type": "contourcarpet"
           }
          ],
          "heatmap": [
           {
            "colorbar": {
             "outlinewidth": 0,
             "ticks": ""
            },
            "colorscale": [
             [
              0,
              "#0d0887"
             ],
             [
              0.1111111111111111,
              "#46039f"
             ],
             [
              0.2222222222222222,
              "#7201a8"
             ],
             [
              0.3333333333333333,
              "#9c179e"
             ],
             [
              0.4444444444444444,
              "#bd3786"
             ],
             [
              0.5555555555555556,
              "#d8576b"
             ],
             [
              0.6666666666666666,
              "#ed7953"
             ],
             [
              0.7777777777777778,
              "#fb9f3a"
             ],
             [
              0.8888888888888888,
              "#fdca26"
             ],
             [
              1,
              "#f0f921"
             ]
            ],
            "type": "heatmap"
           }
          ],
          "heatmapgl": [
           {
            "colorbar": {
             "outlinewidth": 0,
             "ticks": ""
            },
            "colorscale": [
             [
              0,
              "#0d0887"
             ],
             [
              0.1111111111111111,
              "#46039f"
             ],
             [
              0.2222222222222222,
              "#7201a8"
             ],
             [
              0.3333333333333333,
              "#9c179e"
             ],
             [
              0.4444444444444444,
              "#bd3786"
             ],
             [
              0.5555555555555556,
              "#d8576b"
             ],
             [
              0.6666666666666666,
              "#ed7953"
             ],
             [
              0.7777777777777778,
              "#fb9f3a"
             ],
             [
              0.8888888888888888,
              "#fdca26"
             ],
             [
              1,
              "#f0f921"
             ]
            ],
            "type": "heatmapgl"
           }
          ],
          "histogram": [
           {
            "marker": {
             "pattern": {
              "fillmode": "overlay",
              "size": 10,
              "solidity": 0.2
             }
            },
            "type": "histogram"
           }
          ],
          "histogram2d": [
           {
            "colorbar": {
             "outlinewidth": 0,
             "ticks": ""
            },
            "colorscale": [
             [
              0,
              "#0d0887"
             ],
             [
              0.1111111111111111,
              "#46039f"
             ],
             [
              0.2222222222222222,
              "#7201a8"
             ],
             [
              0.3333333333333333,
              "#9c179e"
             ],
             [
              0.4444444444444444,
              "#bd3786"
             ],
             [
              0.5555555555555556,
              "#d8576b"
             ],
             [
              0.6666666666666666,
              "#ed7953"
             ],
             [
              0.7777777777777778,
              "#fb9f3a"
             ],
             [
              0.8888888888888888,
              "#fdca26"
             ],
             [
              1,
              "#f0f921"
             ]
            ],
            "type": "histogram2d"
           }
          ],
          "histogram2dcontour": [
           {
            "colorbar": {
             "outlinewidth": 0,
             "ticks": ""
            },
            "colorscale": [
             [
              0,
              "#0d0887"
             ],
             [
              0.1111111111111111,
              "#46039f"
             ],
             [
              0.2222222222222222,
              "#7201a8"
             ],
             [
              0.3333333333333333,
              "#9c179e"
             ],
             [
              0.4444444444444444,
              "#bd3786"
             ],
             [
              0.5555555555555556,
              "#d8576b"
             ],
             [
              0.6666666666666666,
              "#ed7953"
             ],
             [
              0.7777777777777778,
              "#fb9f3a"
             ],
             [
              0.8888888888888888,
              "#fdca26"
             ],
             [
              1,
              "#f0f921"
             ]
            ],
            "type": "histogram2dcontour"
           }
          ],
          "mesh3d": [
           {
            "colorbar": {
             "outlinewidth": 0,
             "ticks": ""
            },
            "type": "mesh3d"
           }
          ],
          "parcoords": [
           {
            "line": {
             "colorbar": {
              "outlinewidth": 0,
              "ticks": ""
             }
            },
            "type": "parcoords"
           }
          ],
          "pie": [
           {
            "automargin": true,
            "type": "pie"
           }
          ],
          "scatter": [
           {
            "marker": {
             "colorbar": {
              "outlinewidth": 0,
              "ticks": ""
             }
            },
            "type": "scatter"
           }
          ],
          "scatter3d": [
           {
            "line": {
             "colorbar": {
              "outlinewidth": 0,
              "ticks": ""
             }
            },
            "marker": {
             "colorbar": {
              "outlinewidth": 0,
              "ticks": ""
             }
            },
            "type": "scatter3d"
           }
          ],
          "scattercarpet": [
           {
            "marker": {
             "colorbar": {
              "outlinewidth": 0,
              "ticks": ""
             }
            },
            "type": "scattercarpet"
           }
          ],
          "scattergeo": [
           {
            "marker": {
             "colorbar": {
              "outlinewidth": 0,
              "ticks": ""
             }
            },
            "type": "scattergeo"
           }
          ],
          "scattergl": [
           {
            "marker": {
             "colorbar": {
              "outlinewidth": 0,
              "ticks": ""
             }
            },
            "type": "scattergl"
           }
          ],
          "scattermapbox": [
           {
            "marker": {
             "colorbar": {
              "outlinewidth": 0,
              "ticks": ""
             }
            },
            "type": "scattermapbox"
           }
          ],
          "scatterpolar": [
           {
            "marker": {
             "colorbar": {
              "outlinewidth": 0,
              "ticks": ""
             }
            },
            "type": "scatterpolar"
           }
          ],
          "scatterpolargl": [
           {
            "marker": {
             "colorbar": {
              "outlinewidth": 0,
              "ticks": ""
             }
            },
            "type": "scatterpolargl"
           }
          ],
          "scatterternary": [
           {
            "marker": {
             "colorbar": {
              "outlinewidth": 0,
              "ticks": ""
             }
            },
            "type": "scatterternary"
           }
          ],
          "surface": [
           {
            "colorbar": {
             "outlinewidth": 0,
             "ticks": ""
            },
            "colorscale": [
             [
              0,
              "#0d0887"
             ],
             [
              0.1111111111111111,
              "#46039f"
             ],
             [
              0.2222222222222222,
              "#7201a8"
             ],
             [
              0.3333333333333333,
              "#9c179e"
             ],
             [
              0.4444444444444444,
              "#bd3786"
             ],
             [
              0.5555555555555556,
              "#d8576b"
             ],
             [
              0.6666666666666666,
              "#ed7953"
             ],
             [
              0.7777777777777778,
              "#fb9f3a"
             ],
             [
              0.8888888888888888,
              "#fdca26"
             ],
             [
              1,
              "#f0f921"
             ]
            ],
            "type": "surface"
           }
          ],
          "table": [
           {
            "cells": {
             "fill": {
              "color": "#EBF0F8"
             },
             "line": {
              "color": "white"
             }
            },
            "header": {
             "fill": {
              "color": "#C8D4E3"
             },
             "line": {
              "color": "white"
             }
            },
            "type": "table"
           }
          ]
         },
         "layout": {
          "annotationdefaults": {
           "arrowcolor": "#2a3f5f",
           "arrowhead": 0,
           "arrowwidth": 1
          },
          "autotypenumbers": "strict",
          "coloraxis": {
           "colorbar": {
            "outlinewidth": 0,
            "ticks": ""
           }
          },
          "colorscale": {
           "diverging": [
            [
             0,
             "#8e0152"
            ],
            [
             0.1,
             "#c51b7d"
            ],
            [
             0.2,
             "#de77ae"
            ],
            [
             0.3,
             "#f1b6da"
            ],
            [
             0.4,
             "#fde0ef"
            ],
            [
             0.5,
             "#f7f7f7"
            ],
            [
             0.6,
             "#e6f5d0"
            ],
            [
             0.7,
             "#b8e186"
            ],
            [
             0.8,
             "#7fbc41"
            ],
            [
             0.9,
             "#4d9221"
            ],
            [
             1,
             "#276419"
            ]
           ],
           "sequential": [
            [
             0,
             "#0d0887"
            ],
            [
             0.1111111111111111,
             "#46039f"
            ],
            [
             0.2222222222222222,
             "#7201a8"
            ],
            [
             0.3333333333333333,
             "#9c179e"
            ],
            [
             0.4444444444444444,
             "#bd3786"
            ],
            [
             0.5555555555555556,
             "#d8576b"
            ],
            [
             0.6666666666666666,
             "#ed7953"
            ],
            [
             0.7777777777777778,
             "#fb9f3a"
            ],
            [
             0.8888888888888888,
             "#fdca26"
            ],
            [
             1,
             "#f0f921"
            ]
           ],
           "sequentialminus": [
            [
             0,
             "#0d0887"
            ],
            [
             0.1111111111111111,
             "#46039f"
            ],
            [
             0.2222222222222222,
             "#7201a8"
            ],
            [
             0.3333333333333333,
             "#9c179e"
            ],
            [
             0.4444444444444444,
             "#bd3786"
            ],
            [
             0.5555555555555556,
             "#d8576b"
            ],
            [
             0.6666666666666666,
             "#ed7953"
            ],
            [
             0.7777777777777778,
             "#fb9f3a"
            ],
            [
             0.8888888888888888,
             "#fdca26"
            ],
            [
             1,
             "#f0f921"
            ]
           ]
          },
          "colorway": [
           "#636efa",
           "#EF553B",
           "#00cc96",
           "#ab63fa",
           "#FFA15A",
           "#19d3f3",
           "#FF6692",
           "#B6E880",
           "#FF97FF",
           "#FECB52"
          ],
          "font": {
           "color": "#2a3f5f"
          },
          "geo": {
           "bgcolor": "white",
           "lakecolor": "white",
           "landcolor": "#E5ECF6",
           "showlakes": true,
           "showland": true,
           "subunitcolor": "white"
          },
          "hoverlabel": {
           "align": "left"
          },
          "hovermode": "closest",
          "mapbox": {
           "style": "light"
          },
          "paper_bgcolor": "white",
          "plot_bgcolor": "#E5ECF6",
          "polar": {
           "angularaxis": {
            "gridcolor": "white",
            "linecolor": "white",
            "ticks": ""
           },
           "bgcolor": "#E5ECF6",
           "radialaxis": {
            "gridcolor": "white",
            "linecolor": "white",
            "ticks": ""
           }
          },
          "scene": {
           "xaxis": {
            "backgroundcolor": "#E5ECF6",
            "gridcolor": "white",
            "gridwidth": 2,
            "linecolor": "white",
            "showbackground": true,
            "ticks": "",
            "zerolinecolor": "white"
           },
           "yaxis": {
            "backgroundcolor": "#E5ECF6",
            "gridcolor": "white",
            "gridwidth": 2,
            "linecolor": "white",
            "showbackground": true,
            "ticks": "",
            "zerolinecolor": "white"
           },
           "zaxis": {
            "backgroundcolor": "#E5ECF6",
            "gridcolor": "white",
            "gridwidth": 2,
            "linecolor": "white",
            "showbackground": true,
            "ticks": "",
            "zerolinecolor": "white"
           }
          },
          "shapedefaults": {
           "line": {
            "color": "#2a3f5f"
           }
          },
          "ternary": {
           "aaxis": {
            "gridcolor": "white",
            "linecolor": "white",
            "ticks": ""
           },
           "baxis": {
            "gridcolor": "white",
            "linecolor": "white",
            "ticks": ""
           },
           "bgcolor": "#E5ECF6",
           "caxis": {
            "gridcolor": "white",
            "linecolor": "white",
            "ticks": ""
           }
          },
          "title": {
           "x": 0.05
          },
          "xaxis": {
           "automargin": true,
           "gridcolor": "white",
           "linecolor": "white",
           "ticks": "",
           "title": {
            "standoff": 15
           },
           "zerolinecolor": "white",
           "zerolinewidth": 2
          },
          "yaxis": {
           "automargin": true,
           "gridcolor": "white",
           "linecolor": "white",
           "ticks": "",
           "title": {
            "standoff": 15
           },
           "zerolinecolor": "white",
           "zerolinewidth": 2
          }
         }
        },
        "title": {
         "text": "Mariages en France depuis 2014"
        },
        "xaxis": {
         "anchor": "y",
         "domain": [
          0,
          1
         ],
         "title": {
          "text": "Année du mariage"
         }
        },
        "yaxis": {
         "anchor": "x",
         "domain": [
          0,
          1
         ],
         "title": {
          "text": "Nombre de mariages"
         }
        }
       }
      },
      "text/html": [
       "<div>                            <div id=\"b96e2e2c-cad3-4656-abed-ac021215ecd3\" class=\"plotly-graph-div\" style=\"height:525px; width:100%;\"></div>            <script type=\"text/javascript\">                require([\"plotly\"], function(Plotly) {                    window.PLOTLYENV=window.PLOTLYENV || {};                                    if (document.getElementById(\"b96e2e2c-cad3-4656-abed-ac021215ecd3\")) {                    Plotly.newPlot(                        \"b96e2e2c-cad3-4656-abed-ac021215ecd3\",                        [{\"hovertemplate\":\"variable=Homme_Homme<br>AMAR=%{x}<br>value=%{y}<extra></extra>\",\"legendgroup\":\"Homme_Homme\",\"line\":{\"color\":\"#636efa\",\"dash\":\"solid\"},\"marker\":{\"symbol\":\"circle\"},\"mode\":\"lines\",\"name\":\"Homme_Homme\",\"orientation\":\"v\",\"showlegend\":true,\"x\":[2017,\"2014\",\"2015\",\"2016\",\"2018\",\"2019\",\"2020\"],\"xaxis\":\"x\",\"y\":[3565,5672,4085,3672,3268,3061,2241],\"yaxis\":\"y\",\"type\":\"scatter\"},{\"hovertemplate\":\"variable=Femme_Femme<br>AMAR=%{x}<br>value=%{y}<extra></extra>\",\"legendgroup\":\"Femme_Femme\",\"line\":{\"color\":\"#EF553B\",\"dash\":\"solid\"},\"marker\":{\"symbol\":\"circle\"},\"mode\":\"lines\",\"name\":\"Femme_Femme\",\"orientation\":\"v\",\"showlegend\":true,\"x\":[2017,\"2014\",\"2015\",\"2016\",\"2018\",\"2019\",\"2020\"],\"xaxis\":\"x\",\"y\":[3588,4858,3666,3441,3118,3211,2357],\"yaxis\":\"y\",\"type\":\"scatter\"},{\"hovertemplate\":\"variable=Homme_Femme<br>AMAR=%{x}<br>value=%{y}<extra></extra>\",\"legendgroup\":\"Homme_Femme\",\"line\":{\"color\":\"#00cc96\",\"dash\":\"solid\"},\"marker\":{\"symbol\":\"circle\"},\"mode\":\"lines\",\"name\":\"Homme_Femme\",\"orientation\":\"v\",\"showlegend\":true,\"x\":[2017,\"2014\",\"2015\",\"2016\",\"2018\",\"2019\",\"2020\"],\"xaxis\":\"x\",\"y\":[224185,230954,228565,225612,228349,218468,149983],\"yaxis\":\"y\",\"type\":\"scatter\"},{\"hovertemplate\":\"variable=TOTAL<br>AMAR=%{x}<br>value=%{y}<extra></extra>\",\"legendgroup\":\"TOTAL\",\"line\":{\"color\":\"#ab63fa\",\"dash\":\"solid\"},\"marker\":{\"symbol\":\"circle\"},\"mode\":\"lines\",\"name\":\"TOTAL\",\"orientation\":\"v\",\"showlegend\":true,\"x\":[2017,\"2014\",\"2015\",\"2016\",\"2018\",\"2019\",\"2020\"],\"xaxis\":\"x\",\"y\":[231338,241484,236316,232725,234735,224740,154581],\"yaxis\":\"y\",\"type\":\"scatter\"}],                        {\"template\":{\"data\":{\"bar\":[{\"error_x\":{\"color\":\"#2a3f5f\"},\"error_y\":{\"color\":\"#2a3f5f\"},\"marker\":{\"line\":{\"color\":\"#E5ECF6\",\"width\":0.5},\"pattern\":{\"fillmode\":\"overlay\",\"size\":10,\"solidity\":0.2}},\"type\":\"bar\"}],\"barpolar\":[{\"marker\":{\"line\":{\"color\":\"#E5ECF6\",\"width\":0.5},\"pattern\":{\"fillmode\":\"overlay\",\"size\":10,\"solidity\":0.2}},\"type\":\"barpolar\"}],\"carpet\":[{\"aaxis\":{\"endlinecolor\":\"#2a3f5f\",\"gridcolor\":\"white\",\"linecolor\":\"white\",\"minorgridcolor\":\"white\",\"startlinecolor\":\"#2a3f5f\"},\"baxis\":{\"endlinecolor\":\"#2a3f5f\",\"gridcolor\":\"white\",\"linecolor\":\"white\",\"minorgridcolor\":\"white\",\"startlinecolor\":\"#2a3f5f\"},\"type\":\"carpet\"}],\"choropleth\":[{\"colorbar\":{\"outlinewidth\":0,\"ticks\":\"\"},\"type\":\"choropleth\"}],\"contour\":[{\"colorbar\":{\"outlinewidth\":0,\"ticks\":\"\"},\"colorscale\":[[0.0,\"#0d0887\"],[0.1111111111111111,\"#46039f\"],[0.2222222222222222,\"#7201a8\"],[0.3333333333333333,\"#9c179e\"],[0.4444444444444444,\"#bd3786\"],[0.5555555555555556,\"#d8576b\"],[0.6666666666666666,\"#ed7953\"],[0.7777777777777778,\"#fb9f3a\"],[0.8888888888888888,\"#fdca26\"],[1.0,\"#f0f921\"]],\"type\":\"contour\"}],\"contourcarpet\":[{\"colorbar\":{\"outlinewidth\":0,\"ticks\":\"\"},\"type\":\"contourcarpet\"}],\"heatmap\":[{\"colorbar\":{\"outlinewidth\":0,\"ticks\":\"\"},\"colorscale\":[[0.0,\"#0d0887\"],[0.1111111111111111,\"#46039f\"],[0.2222222222222222,\"#7201a8\"],[0.3333333333333333,\"#9c179e\"],[0.4444444444444444,\"#bd3786\"],[0.5555555555555556,\"#d8576b\"],[0.6666666666666666,\"#ed7953\"],[0.7777777777777778,\"#fb9f3a\"],[0.8888888888888888,\"#fdca26\"],[1.0,\"#f0f921\"]],\"type\":\"heatmap\"}],\"heatmapgl\":[{\"colorbar\":{\"outlinewidth\":0,\"ticks\":\"\"},\"colorscale\":[[0.0,\"#0d0887\"],[0.1111111111111111,\"#46039f\"],[0.2222222222222222,\"#7201a8\"],[0.3333333333333333,\"#9c179e\"],[0.4444444444444444,\"#bd3786\"],[0.5555555555555556,\"#d8576b\"],[0.6666666666666666,\"#ed7953\"],[0.7777777777777778,\"#fb9f3a\"],[0.8888888888888888,\"#fdca26\"],[1.0,\"#f0f921\"]],\"type\":\"heatmapgl\"}],\"histogram\":[{\"marker\":{\"pattern\":{\"fillmode\":\"overlay\",\"size\":10,\"solidity\":0.2}},\"type\":\"histogram\"}],\"histogram2d\":[{\"colorbar\":{\"outlinewidth\":0,\"ticks\":\"\"},\"colorscale\":[[0.0,\"#0d0887\"],[0.1111111111111111,\"#46039f\"],[0.2222222222222222,\"#7201a8\"],[0.3333333333333333,\"#9c179e\"],[0.4444444444444444,\"#bd3786\"],[0.5555555555555556,\"#d8576b\"],[0.6666666666666666,\"#ed7953\"],[0.7777777777777778,\"#fb9f3a\"],[0.8888888888888888,\"#fdca26\"],[1.0,\"#f0f921\"]],\"type\":\"histogram2d\"}],\"histogram2dcontour\":[{\"colorbar\":{\"outlinewidth\":0,\"ticks\":\"\"},\"colorscale\":[[0.0,\"#0d0887\"],[0.1111111111111111,\"#46039f\"],[0.2222222222222222,\"#7201a8\"],[0.3333333333333333,\"#9c179e\"],[0.4444444444444444,\"#bd3786\"],[0.5555555555555556,\"#d8576b\"],[0.6666666666666666,\"#ed7953\"],[0.7777777777777778,\"#fb9f3a\"],[0.8888888888888888,\"#fdca26\"],[1.0,\"#f0f921\"]],\"type\":\"histogram2dcontour\"}],\"mesh3d\":[{\"colorbar\":{\"outlinewidth\":0,\"ticks\":\"\"},\"type\":\"mesh3d\"}],\"parcoords\":[{\"line\":{\"colorbar\":{\"outlinewidth\":0,\"ticks\":\"\"}},\"type\":\"parcoords\"}],\"pie\":[{\"automargin\":true,\"type\":\"pie\"}],\"scatter\":[{\"marker\":{\"colorbar\":{\"outlinewidth\":0,\"ticks\":\"\"}},\"type\":\"scatter\"}],\"scatter3d\":[{\"line\":{\"colorbar\":{\"outlinewidth\":0,\"ticks\":\"\"}},\"marker\":{\"colorbar\":{\"outlinewidth\":0,\"ticks\":\"\"}},\"type\":\"scatter3d\"}],\"scattercarpet\":[{\"marker\":{\"colorbar\":{\"outlinewidth\":0,\"ticks\":\"\"}},\"type\":\"scattercarpet\"}],\"scattergeo\":[{\"marker\":{\"colorbar\":{\"outlinewidth\":0,\"ticks\":\"\"}},\"type\":\"scattergeo\"}],\"scattergl\":[{\"marker\":{\"colorbar\":{\"outlinewidth\":0,\"ticks\":\"\"}},\"type\":\"scattergl\"}],\"scattermapbox\":[{\"marker\":{\"colorbar\":{\"outlinewidth\":0,\"ticks\":\"\"}},\"type\":\"scattermapbox\"}],\"scatterpolar\":[{\"marker\":{\"colorbar\":{\"outlinewidth\":0,\"ticks\":\"\"}},\"type\":\"scatterpolar\"}],\"scatterpolargl\":[{\"marker\":{\"colorbar\":{\"outlinewidth\":0,\"ticks\":\"\"}},\"type\":\"scatterpolargl\"}],\"scatterternary\":[{\"marker\":{\"colorbar\":{\"outlinewidth\":0,\"ticks\":\"\"}},\"type\":\"scatterternary\"}],\"surface\":[{\"colorbar\":{\"outlinewidth\":0,\"ticks\":\"\"},\"colorscale\":[[0.0,\"#0d0887\"],[0.1111111111111111,\"#46039f\"],[0.2222222222222222,\"#7201a8\"],[0.3333333333333333,\"#9c179e\"],[0.4444444444444444,\"#bd3786\"],[0.5555555555555556,\"#d8576b\"],[0.6666666666666666,\"#ed7953\"],[0.7777777777777778,\"#fb9f3a\"],[0.8888888888888888,\"#fdca26\"],[1.0,\"#f0f921\"]],\"type\":\"surface\"}],\"table\":[{\"cells\":{\"fill\":{\"color\":\"#EBF0F8\"},\"line\":{\"color\":\"white\"}},\"header\":{\"fill\":{\"color\":\"#C8D4E3\"},\"line\":{\"color\":\"white\"}},\"type\":\"table\"}]},\"layout\":{\"annotationdefaults\":{\"arrowcolor\":\"#2a3f5f\",\"arrowhead\":0,\"arrowwidth\":1},\"autotypenumbers\":\"strict\",\"coloraxis\":{\"colorbar\":{\"outlinewidth\":0,\"ticks\":\"\"}},\"colorscale\":{\"diverging\":[[0,\"#8e0152\"],[0.1,\"#c51b7d\"],[0.2,\"#de77ae\"],[0.3,\"#f1b6da\"],[0.4,\"#fde0ef\"],[0.5,\"#f7f7f7\"],[0.6,\"#e6f5d0\"],[0.7,\"#b8e186\"],[0.8,\"#7fbc41\"],[0.9,\"#4d9221\"],[1,\"#276419\"]],\"sequential\":[[0.0,\"#0d0887\"],[0.1111111111111111,\"#46039f\"],[0.2222222222222222,\"#7201a8\"],[0.3333333333333333,\"#9c179e\"],[0.4444444444444444,\"#bd3786\"],[0.5555555555555556,\"#d8576b\"],[0.6666666666666666,\"#ed7953\"],[0.7777777777777778,\"#fb9f3a\"],[0.8888888888888888,\"#fdca26\"],[1.0,\"#f0f921\"]],\"sequentialminus\":[[0.0,\"#0d0887\"],[0.1111111111111111,\"#46039f\"],[0.2222222222222222,\"#7201a8\"],[0.3333333333333333,\"#9c179e\"],[0.4444444444444444,\"#bd3786\"],[0.5555555555555556,\"#d8576b\"],[0.6666666666666666,\"#ed7953\"],[0.7777777777777778,\"#fb9f3a\"],[0.8888888888888888,\"#fdca26\"],[1.0,\"#f0f921\"]]},\"colorway\":[\"#636efa\",\"#EF553B\",\"#00cc96\",\"#ab63fa\",\"#FFA15A\",\"#19d3f3\",\"#FF6692\",\"#B6E880\",\"#FF97FF\",\"#FECB52\"],\"font\":{\"color\":\"#2a3f5f\"},\"geo\":{\"bgcolor\":\"white\",\"lakecolor\":\"white\",\"landcolor\":\"#E5ECF6\",\"showlakes\":true,\"showland\":true,\"subunitcolor\":\"white\"},\"hoverlabel\":{\"align\":\"left\"},\"hovermode\":\"closest\",\"mapbox\":{\"style\":\"light\"},\"paper_bgcolor\":\"white\",\"plot_bgcolor\":\"#E5ECF6\",\"polar\":{\"angularaxis\":{\"gridcolor\":\"white\",\"linecolor\":\"white\",\"ticks\":\"\"},\"bgcolor\":\"#E5ECF6\",\"radialaxis\":{\"gridcolor\":\"white\",\"linecolor\":\"white\",\"ticks\":\"\"}},\"scene\":{\"xaxis\":{\"backgroundcolor\":\"#E5ECF6\",\"gridcolor\":\"white\",\"gridwidth\":2,\"linecolor\":\"white\",\"showbackground\":true,\"ticks\":\"\",\"zerolinecolor\":\"white\"},\"yaxis\":{\"backgroundcolor\":\"#E5ECF6\",\"gridcolor\":\"white\",\"gridwidth\":2,\"linecolor\":\"white\",\"showbackground\":true,\"ticks\":\"\",\"zerolinecolor\":\"white\"},\"zaxis\":{\"backgroundcolor\":\"#E5ECF6\",\"gridcolor\":\"white\",\"gridwidth\":2,\"linecolor\":\"white\",\"showbackground\":true,\"ticks\":\"\",\"zerolinecolor\":\"white\"}},\"shapedefaults\":{\"line\":{\"color\":\"#2a3f5f\"}},\"ternary\":{\"aaxis\":{\"gridcolor\":\"white\",\"linecolor\":\"white\",\"ticks\":\"\"},\"baxis\":{\"gridcolor\":\"white\",\"linecolor\":\"white\",\"ticks\":\"\"},\"bgcolor\":\"#E5ECF6\",\"caxis\":{\"gridcolor\":\"white\",\"linecolor\":\"white\",\"ticks\":\"\"}},\"title\":{\"x\":0.05},\"xaxis\":{\"automargin\":true,\"gridcolor\":\"white\",\"linecolor\":\"white\",\"ticks\":\"\",\"title\":{\"standoff\":15},\"zerolinecolor\":\"white\",\"zerolinewidth\":2},\"yaxis\":{\"automargin\":true,\"gridcolor\":\"white\",\"linecolor\":\"white\",\"ticks\":\"\",\"title\":{\"standoff\":15},\"zerolinecolor\":\"white\",\"zerolinewidth\":2}}},\"xaxis\":{\"anchor\":\"y\",\"domain\":[0.0,1.0],\"title\":{\"text\":\"Ann\\u00e9e du mariage\"}},\"yaxis\":{\"anchor\":\"x\",\"domain\":[0.0,1.0],\"title\":{\"text\":\"Nombre de mariages\"}},\"legend\":{\"title\":{\"text\":\"Type de mariage\"},\"tracegroupgap\":0},\"margin\":{\"t\":60},\"title\":{\"text\":\"Mariages en France depuis 2014\"}},                        {\"responsive\": true}                    ).then(function(){\n",
       "                            \n",
       "var gd = document.getElementById('b96e2e2c-cad3-4656-abed-ac021215ecd3');\n",
       "var x = new MutationObserver(function (mutations, observer) {{\n",
       "        var display = window.getComputedStyle(gd).display;\n",
       "        if (!display || display === 'none') {{\n",
       "            console.log([gd, 'removed!']);\n",
       "            Plotly.purge(gd);\n",
       "            observer.disconnect();\n",
       "        }}\n",
       "}});\n",
       "\n",
       "// Listen for the removal of the full notebook cells\n",
       "var notebookContainer = gd.closest('#notebook-container');\n",
       "if (notebookContainer) {{\n",
       "    x.observe(notebookContainer, {childList: true});\n",
       "}}\n",
       "\n",
       "// Listen for the clearing of the current output cell\n",
       "var outputEl = gd.closest('.output');\n",
       "if (outputEl) {{\n",
       "    x.observe(outputEl, {childList: true});\n",
       "}}\n",
       "\n",
       "                        })                };                });            </script>        </div>"
      ]
     },
     "metadata": {},
     "output_type": "display_data"
    }
   ],
   "source": [
    "fig = px.line(graph)\n",
    "fig.update_layout(\n",
    "    title = 'Mariages en France depuis 2014',\n",
    "    xaxis = dict(title = 'Année du mariage'),\n",
    "    yaxis = dict(title = 'Nombre de mariages'), \n",
    "    legend = dict(title = 'Type de mariage')\n",
    "    \n",
    ")"
   ]
  },
  {
   "cell_type": "code",
   "execution_count": 183,
   "metadata": {},
   "outputs": [
    {
     "data": {
      "text/html": [
       "<div>\n",
       "<style scoped>\n",
       "    .dataframe tbody tr th:only-of-type {\n",
       "        vertical-align: middle;\n",
       "    }\n",
       "\n",
       "    .dataframe tbody tr th {\n",
       "        vertical-align: top;\n",
       "    }\n",
       "\n",
       "    .dataframe thead th {\n",
       "        text-align: right;\n",
       "    }\n",
       "</style>\n",
       "<table border=\"1\" class=\"dataframe\">\n",
       "  <thead>\n",
       "    <tr style=\"text-align: right;\">\n",
       "      <th></th>\n",
       "      <th>AMAR</th>\n",
       "      <th>Ensemble des mariages de l'année</th>\n",
       "      <th>Janvier</th>\n",
       "      <th>Février</th>\n",
       "      <th>Mars</th>\n",
       "      <th>Avril</th>\n",
       "      <th>Mai</th>\n",
       "      <th>Juin</th>\n",
       "      <th>Juillet</th>\n",
       "      <th>Août</th>\n",
       "      <th>Septembre</th>\n",
       "      <th>Octobre</th>\n",
       "      <th>Novembre</th>\n",
       "      <th>Décembre</th>\n",
       "    </tr>\n",
       "  </thead>\n",
       "  <tbody>\n",
       "    <tr>\n",
       "      <th>0</th>\n",
       "      <td>1946</td>\n",
       "      <td>516882</td>\n",
       "      <td>27260</td>\n",
       "      <td>32425</td>\n",
       "      <td>36387</td>\n",
       "      <td>62285</td>\n",
       "      <td>33341</td>\n",
       "      <td>55776</td>\n",
       "      <td>43187</td>\n",
       "      <td>48133</td>\n",
       "      <td>53865</td>\n",
       "      <td>52922</td>\n",
       "      <td>36648</td>\n",
       "      <td>34653</td>\n",
       "    </tr>\n",
       "    <tr>\n",
       "      <th>1</th>\n",
       "      <td>1947</td>\n",
       "      <td>427113</td>\n",
       "      <td>22627</td>\n",
       "      <td>26632</td>\n",
       "      <td>23632</td>\n",
       "      <td>62296</td>\n",
       "      <td>27973</td>\n",
       "      <td>41026</td>\n",
       "      <td>37695</td>\n",
       "      <td>39301</td>\n",
       "      <td>43481</td>\n",
       "      <td>43659</td>\n",
       "      <td>30187</td>\n",
       "      <td>28604</td>\n",
       "    </tr>\n",
       "    <tr>\n",
       "      <th>2</th>\n",
       "      <td>1948</td>\n",
       "      <td>370769</td>\n",
       "      <td>22179</td>\n",
       "      <td>21091</td>\n",
       "      <td>23226</td>\n",
       "      <td>51358</td>\n",
       "      <td>21962</td>\n",
       "      <td>35083</td>\n",
       "      <td>36842</td>\n",
       "      <td>30497</td>\n",
       "      <td>37675</td>\n",
       "      <td>39435</td>\n",
       "      <td>24611</td>\n",
       "      <td>26810</td>\n",
       "    </tr>\n",
       "    <tr>\n",
       "      <th>3</th>\n",
       "      <td>1949</td>\n",
       "      <td>341091</td>\n",
       "      <td>18568</td>\n",
       "      <td>23409</td>\n",
       "      <td>17038</td>\n",
       "      <td>45649</td>\n",
       "      <td>19004</td>\n",
       "      <td>32770</td>\n",
       "      <td>33512</td>\n",
       "      <td>29181</td>\n",
       "      <td>34261</td>\n",
       "      <td>37458</td>\n",
       "      <td>22765</td>\n",
       "      <td>27476</td>\n",
       "    </tr>\n",
       "    <tr>\n",
       "      <th>4</th>\n",
       "      <td>1950</td>\n",
       "      <td>331091</td>\n",
       "      <td>18002</td>\n",
       "      <td>21284</td>\n",
       "      <td>15813</td>\n",
       "      <td>46870</td>\n",
       "      <td>17569</td>\n",
       "      <td>30083</td>\n",
       "      <td>32933</td>\n",
       "      <td>28629</td>\n",
       "      <td>36509</td>\n",
       "      <td>33810</td>\n",
       "      <td>21015</td>\n",
       "      <td>28574</td>\n",
       "    </tr>\n",
       "    <tr>\n",
       "      <th>...</th>\n",
       "      <td>...</td>\n",
       "      <td>...</td>\n",
       "      <td>...</td>\n",
       "      <td>...</td>\n",
       "      <td>...</td>\n",
       "      <td>...</td>\n",
       "      <td>...</td>\n",
       "      <td>...</td>\n",
       "      <td>...</td>\n",
       "      <td>...</td>\n",
       "      <td>...</td>\n",
       "      <td>...</td>\n",
       "      <td>...</td>\n",
       "      <td>...</td>\n",
       "    </tr>\n",
       "    <tr>\n",
       "      <th>63</th>\n",
       "      <td>2009</td>\n",
       "      <td>245151</td>\n",
       "      <td>5822</td>\n",
       "      <td>8384</td>\n",
       "      <td>7618</td>\n",
       "      <td>13898</td>\n",
       "      <td>29179</td>\n",
       "      <td>42072</td>\n",
       "      <td>41855</td>\n",
       "      <td>35716</td>\n",
       "      <td>28928</td>\n",
       "      <td>15883</td>\n",
       "      <td>7475</td>\n",
       "      <td>8321</td>\n",
       "    </tr>\n",
       "    <tr>\n",
       "      <th>64</th>\n",
       "      <td>2010</td>\n",
       "      <td>245334</td>\n",
       "      <td>5755</td>\n",
       "      <td>6773</td>\n",
       "      <td>7434</td>\n",
       "      <td>15431</td>\n",
       "      <td>24890</td>\n",
       "      <td>43329</td>\n",
       "      <td>47729</td>\n",
       "      <td>31377</td>\n",
       "      <td>28773</td>\n",
       "      <td>16622</td>\n",
       "      <td>7947</td>\n",
       "      <td>9274</td>\n",
       "    </tr>\n",
       "    <tr>\n",
       "      <th>65</th>\n",
       "      <td>2011</td>\n",
       "      <td>231100</td>\n",
       "      <td>5303</td>\n",
       "      <td>6297</td>\n",
       "      <td>7345</td>\n",
       "      <td>15910</td>\n",
       "      <td>20146</td>\n",
       "      <td>41621</td>\n",
       "      <td>43287</td>\n",
       "      <td>29444</td>\n",
       "      <td>29327</td>\n",
       "      <td>15624</td>\n",
       "      <td>7739</td>\n",
       "      <td>9057</td>\n",
       "    </tr>\n",
       "    <tr>\n",
       "      <th>66</th>\n",
       "      <td>2012</td>\n",
       "      <td>239840</td>\n",
       "      <td>5713</td>\n",
       "      <td>6885</td>\n",
       "      <td>9656</td>\n",
       "      <td>16397</td>\n",
       "      <td>25988</td>\n",
       "      <td>42442</td>\n",
       "      <td>31694</td>\n",
       "      <td>30618</td>\n",
       "      <td>35743</td>\n",
       "      <td>13644</td>\n",
       "      <td>9061</td>\n",
       "      <td>11999</td>\n",
       "    </tr>\n",
       "    <tr>\n",
       "      <th>67</th>\n",
       "      <td>2013</td>\n",
       "      <td>225784</td>\n",
       "      <td>5297</td>\n",
       "      <td>6256</td>\n",
       "      <td>10030</td>\n",
       "      <td>14517</td>\n",
       "      <td>24251</td>\n",
       "      <td>38446</td>\n",
       "      <td>30312</td>\n",
       "      <td>34803</td>\n",
       "      <td>29015</td>\n",
       "      <td>13818</td>\n",
       "      <td>9522</td>\n",
       "      <td>9517</td>\n",
       "    </tr>\n",
       "  </tbody>\n",
       "</table>\n",
       "<p>68 rows × 14 columns</p>\n",
       "</div>"
      ],
      "text/plain": [
       "    AMAR  Ensemble des mariages de l'année  Janvier  Février   Mars  Avril  \\\n",
       "0   1946                            516882    27260    32425  36387  62285   \n",
       "1   1947                            427113    22627    26632  23632  62296   \n",
       "2   1948                            370769    22179    21091  23226  51358   \n",
       "3   1949                            341091    18568    23409  17038  45649   \n",
       "4   1950                            331091    18002    21284  15813  46870   \n",
       "..   ...                               ...      ...      ...    ...    ...   \n",
       "63  2009                            245151     5822     8384   7618  13898   \n",
       "64  2010                            245334     5755     6773   7434  15431   \n",
       "65  2011                            231100     5303     6297   7345  15910   \n",
       "66  2012                            239840     5713     6885   9656  16397   \n",
       "67  2013                            225784     5297     6256  10030  14517   \n",
       "\n",
       "      Mai   Juin  Juillet   Août  Septembre  Octobre  Novembre  Décembre  \n",
       "0   33341  55776    43187  48133      53865    52922     36648     34653  \n",
       "1   27973  41026    37695  39301      43481    43659     30187     28604  \n",
       "2   21962  35083    36842  30497      37675    39435     24611     26810  \n",
       "3   19004  32770    33512  29181      34261    37458     22765     27476  \n",
       "4   17569  30083    32933  28629      36509    33810     21015     28574  \n",
       "..    ...    ...      ...    ...        ...      ...       ...       ...  \n",
       "63  29179  42072    41855  35716      28928    15883      7475      8321  \n",
       "64  24890  43329    47729  31377      28773    16622      7947      9274  \n",
       "65  20146  41621    43287  29444      29327    15624      7739      9057  \n",
       "66  25988  42442    31694  30618      35743    13644      9061     11999  \n",
       "67  24251  38446    30312  34803      29015    13818      9522      9517  \n",
       "\n",
       "[68 rows x 14 columns]"
      ]
     },
     "execution_count": 183,
     "metadata": {},
     "output_type": "execute_result"
    }
   ],
   "source": [
    "mar = pd.read_excel('../data/mariages par mois.xls', skiprows = {0,1, 2, 3, 5, 6}, usecols = { 'Ensemble des mariages de l\\'année', 'Mois du mariage', 'Janvier', 'Février', 'Mars', 'Avril', 'Mai', 'Juin', 'Juillet', 'Août', 'Septembre', 'Octobre', 'Novembre', 'Décembre'}, skipfooter = 1, dtype=int)\n",
    "mar = mar.rename(columns={\"Mois du mariage\": \"AMAR\"})\n",
    "def convert(i):\n",
    "    return int(i)\n",
    "\n",
    "mar"
   ]
  },
  {
   "cell_type": "code",
   "execution_count": 184,
   "metadata": {},
   "outputs": [
    {
     "data": {
      "text/html": [
       "<div>\n",
       "<style scoped>\n",
       "    .dataframe tbody tr th:only-of-type {\n",
       "        vertical-align: middle;\n",
       "    }\n",
       "\n",
       "    .dataframe tbody tr th {\n",
       "        vertical-align: top;\n",
       "    }\n",
       "\n",
       "    .dataframe thead th {\n",
       "        text-align: right;\n",
       "    }\n",
       "</style>\n",
       "<table border=\"1\" class=\"dataframe\">\n",
       "  <thead>\n",
       "    <tr style=\"text-align: right;\">\n",
       "      <th></th>\n",
       "      <th>AMAR</th>\n",
       "      <th>Homme_Homme</th>\n",
       "      <th>Femme_Femme</th>\n",
       "      <th>Homme_Femme</th>\n",
       "      <th>TOTAL</th>\n",
       "    </tr>\n",
       "  </thead>\n",
       "  <tbody>\n",
       "    <tr>\n",
       "      <th>0</th>\n",
       "      <td>2017</td>\n",
       "      <td>3565</td>\n",
       "      <td>3588</td>\n",
       "      <td>224185</td>\n",
       "      <td>231338</td>\n",
       "    </tr>\n",
       "    <tr>\n",
       "      <th>1</th>\n",
       "      <td>2014</td>\n",
       "      <td>5672</td>\n",
       "      <td>4858</td>\n",
       "      <td>230954</td>\n",
       "      <td>241484</td>\n",
       "    </tr>\n",
       "    <tr>\n",
       "      <th>2</th>\n",
       "      <td>2015</td>\n",
       "      <td>4085</td>\n",
       "      <td>3666</td>\n",
       "      <td>228565</td>\n",
       "      <td>236316</td>\n",
       "    </tr>\n",
       "    <tr>\n",
       "      <th>3</th>\n",
       "      <td>2016</td>\n",
       "      <td>3672</td>\n",
       "      <td>3441</td>\n",
       "      <td>225612</td>\n",
       "      <td>232725</td>\n",
       "    </tr>\n",
       "    <tr>\n",
       "      <th>4</th>\n",
       "      <td>2018</td>\n",
       "      <td>3268</td>\n",
       "      <td>3118</td>\n",
       "      <td>228349</td>\n",
       "      <td>234735</td>\n",
       "    </tr>\n",
       "    <tr>\n",
       "      <th>5</th>\n",
       "      <td>2019</td>\n",
       "      <td>3061</td>\n",
       "      <td>3211</td>\n",
       "      <td>218468</td>\n",
       "      <td>224740</td>\n",
       "    </tr>\n",
       "    <tr>\n",
       "      <th>6</th>\n",
       "      <td>2020</td>\n",
       "      <td>2241</td>\n",
       "      <td>2357</td>\n",
       "      <td>149983</td>\n",
       "      <td>154581</td>\n",
       "    </tr>\n",
       "  </tbody>\n",
       "</table>\n",
       "</div>"
      ],
      "text/plain": [
       "   AMAR  Homme_Homme  Femme_Femme  Homme_Femme   TOTAL\n",
       "0  2017         3565         3588       224185  231338\n",
       "1  2014         5672         4858       230954  241484\n",
       "2  2015         4085         3666       228565  236316\n",
       "3  2016         3672         3441       225612  232725\n",
       "4  2018         3268         3118       228349  234735\n",
       "5  2019         3061         3211       218468  224740\n",
       "6  2020         2241         2357       149983  154581"
      ]
     },
     "execution_count": 184,
     "metadata": {},
     "output_type": "execute_result"
    }
   ],
   "source": [
    "graph = graph.reset_index()\n",
    "\n",
    "graph['AMAR'] =  graph['AMAR'].apply(convert)\n",
    "graph"
   ]
  },
  {
   "cell_type": "code",
   "execution_count": 185,
   "metadata": {
    "scrolled": true
   },
   "outputs": [
    {
     "data": {
      "text/html": [
       "<div>\n",
       "<style scoped>\n",
       "    .dataframe tbody tr th:only-of-type {\n",
       "        vertical-align: middle;\n",
       "    }\n",
       "\n",
       "    .dataframe tbody tr th {\n",
       "        vertical-align: top;\n",
       "    }\n",
       "\n",
       "    .dataframe thead th {\n",
       "        text-align: right;\n",
       "    }\n",
       "</style>\n",
       "<table border=\"1\" class=\"dataframe\">\n",
       "  <thead>\n",
       "    <tr style=\"text-align: right;\">\n",
       "      <th></th>\n",
       "      <th>AMAR</th>\n",
       "      <th>Homme_Homme</th>\n",
       "      <th>Femme_Femme</th>\n",
       "      <th>Homme_Femme</th>\n",
       "      <th>TOTAL</th>\n",
       "      <th>Ensemble des mariages de l'année</th>\n",
       "      <th>Janvier</th>\n",
       "      <th>Février</th>\n",
       "      <th>Mars</th>\n",
       "      <th>Avril</th>\n",
       "      <th>Mai</th>\n",
       "      <th>Juin</th>\n",
       "      <th>Juillet</th>\n",
       "      <th>Août</th>\n",
       "      <th>Septembre</th>\n",
       "      <th>Octobre</th>\n",
       "      <th>Novembre</th>\n",
       "      <th>Décembre</th>\n",
       "    </tr>\n",
       "  </thead>\n",
       "  <tbody>\n",
       "    <tr>\n",
       "      <th>0</th>\n",
       "      <td>2017</td>\n",
       "      <td>3565.0</td>\n",
       "      <td>3588.0</td>\n",
       "      <td>224185.0</td>\n",
       "      <td>231338.0</td>\n",
       "      <td>NaN</td>\n",
       "      <td>NaN</td>\n",
       "      <td>NaN</td>\n",
       "      <td>NaN</td>\n",
       "      <td>NaN</td>\n",
       "      <td>NaN</td>\n",
       "      <td>NaN</td>\n",
       "      <td>NaN</td>\n",
       "      <td>NaN</td>\n",
       "      <td>NaN</td>\n",
       "      <td>NaN</td>\n",
       "      <td>NaN</td>\n",
       "      <td>NaN</td>\n",
       "    </tr>\n",
       "    <tr>\n",
       "      <th>1</th>\n",
       "      <td>2014</td>\n",
       "      <td>5672.0</td>\n",
       "      <td>4858.0</td>\n",
       "      <td>230954.0</td>\n",
       "      <td>241484.0</td>\n",
       "      <td>NaN</td>\n",
       "      <td>NaN</td>\n",
       "      <td>NaN</td>\n",
       "      <td>NaN</td>\n",
       "      <td>NaN</td>\n",
       "      <td>NaN</td>\n",
       "      <td>NaN</td>\n",
       "      <td>NaN</td>\n",
       "      <td>NaN</td>\n",
       "      <td>NaN</td>\n",
       "      <td>NaN</td>\n",
       "      <td>NaN</td>\n",
       "      <td>NaN</td>\n",
       "    </tr>\n",
       "    <tr>\n",
       "      <th>2</th>\n",
       "      <td>2015</td>\n",
       "      <td>4085.0</td>\n",
       "      <td>3666.0</td>\n",
       "      <td>228565.0</td>\n",
       "      <td>236316.0</td>\n",
       "      <td>NaN</td>\n",
       "      <td>NaN</td>\n",
       "      <td>NaN</td>\n",
       "      <td>NaN</td>\n",
       "      <td>NaN</td>\n",
       "      <td>NaN</td>\n",
       "      <td>NaN</td>\n",
       "      <td>NaN</td>\n",
       "      <td>NaN</td>\n",
       "      <td>NaN</td>\n",
       "      <td>NaN</td>\n",
       "      <td>NaN</td>\n",
       "      <td>NaN</td>\n",
       "    </tr>\n",
       "    <tr>\n",
       "      <th>3</th>\n",
       "      <td>2016</td>\n",
       "      <td>3672.0</td>\n",
       "      <td>3441.0</td>\n",
       "      <td>225612.0</td>\n",
       "      <td>232725.0</td>\n",
       "      <td>NaN</td>\n",
       "      <td>NaN</td>\n",
       "      <td>NaN</td>\n",
       "      <td>NaN</td>\n",
       "      <td>NaN</td>\n",
       "      <td>NaN</td>\n",
       "      <td>NaN</td>\n",
       "      <td>NaN</td>\n",
       "      <td>NaN</td>\n",
       "      <td>NaN</td>\n",
       "      <td>NaN</td>\n",
       "      <td>NaN</td>\n",
       "      <td>NaN</td>\n",
       "    </tr>\n",
       "    <tr>\n",
       "      <th>4</th>\n",
       "      <td>2018</td>\n",
       "      <td>3268.0</td>\n",
       "      <td>3118.0</td>\n",
       "      <td>228349.0</td>\n",
       "      <td>234735.0</td>\n",
       "      <td>NaN</td>\n",
       "      <td>NaN</td>\n",
       "      <td>NaN</td>\n",
       "      <td>NaN</td>\n",
       "      <td>NaN</td>\n",
       "      <td>NaN</td>\n",
       "      <td>NaN</td>\n",
       "      <td>NaN</td>\n",
       "      <td>NaN</td>\n",
       "      <td>NaN</td>\n",
       "      <td>NaN</td>\n",
       "      <td>NaN</td>\n",
       "      <td>NaN</td>\n",
       "    </tr>\n",
       "    <tr>\n",
       "      <th>...</th>\n",
       "      <td>...</td>\n",
       "      <td>...</td>\n",
       "      <td>...</td>\n",
       "      <td>...</td>\n",
       "      <td>...</td>\n",
       "      <td>...</td>\n",
       "      <td>...</td>\n",
       "      <td>...</td>\n",
       "      <td>...</td>\n",
       "      <td>...</td>\n",
       "      <td>...</td>\n",
       "      <td>...</td>\n",
       "      <td>...</td>\n",
       "      <td>...</td>\n",
       "      <td>...</td>\n",
       "      <td>...</td>\n",
       "      <td>...</td>\n",
       "      <td>...</td>\n",
       "    </tr>\n",
       "    <tr>\n",
       "      <th>63</th>\n",
       "      <td>2009</td>\n",
       "      <td>NaN</td>\n",
       "      <td>NaN</td>\n",
       "      <td>NaN</td>\n",
       "      <td>NaN</td>\n",
       "      <td>245151.0</td>\n",
       "      <td>5822.0</td>\n",
       "      <td>8384.0</td>\n",
       "      <td>7618.0</td>\n",
       "      <td>13898.0</td>\n",
       "      <td>29179.0</td>\n",
       "      <td>42072.0</td>\n",
       "      <td>41855.0</td>\n",
       "      <td>35716.0</td>\n",
       "      <td>28928.0</td>\n",
       "      <td>15883.0</td>\n",
       "      <td>7475.0</td>\n",
       "      <td>8321.0</td>\n",
       "    </tr>\n",
       "    <tr>\n",
       "      <th>64</th>\n",
       "      <td>2010</td>\n",
       "      <td>NaN</td>\n",
       "      <td>NaN</td>\n",
       "      <td>NaN</td>\n",
       "      <td>NaN</td>\n",
       "      <td>245334.0</td>\n",
       "      <td>5755.0</td>\n",
       "      <td>6773.0</td>\n",
       "      <td>7434.0</td>\n",
       "      <td>15431.0</td>\n",
       "      <td>24890.0</td>\n",
       "      <td>43329.0</td>\n",
       "      <td>47729.0</td>\n",
       "      <td>31377.0</td>\n",
       "      <td>28773.0</td>\n",
       "      <td>16622.0</td>\n",
       "      <td>7947.0</td>\n",
       "      <td>9274.0</td>\n",
       "    </tr>\n",
       "    <tr>\n",
       "      <th>65</th>\n",
       "      <td>2011</td>\n",
       "      <td>NaN</td>\n",
       "      <td>NaN</td>\n",
       "      <td>NaN</td>\n",
       "      <td>NaN</td>\n",
       "      <td>231100.0</td>\n",
       "      <td>5303.0</td>\n",
       "      <td>6297.0</td>\n",
       "      <td>7345.0</td>\n",
       "      <td>15910.0</td>\n",
       "      <td>20146.0</td>\n",
       "      <td>41621.0</td>\n",
       "      <td>43287.0</td>\n",
       "      <td>29444.0</td>\n",
       "      <td>29327.0</td>\n",
       "      <td>15624.0</td>\n",
       "      <td>7739.0</td>\n",
       "      <td>9057.0</td>\n",
       "    </tr>\n",
       "    <tr>\n",
       "      <th>66</th>\n",
       "      <td>2012</td>\n",
       "      <td>NaN</td>\n",
       "      <td>NaN</td>\n",
       "      <td>NaN</td>\n",
       "      <td>NaN</td>\n",
       "      <td>239840.0</td>\n",
       "      <td>5713.0</td>\n",
       "      <td>6885.0</td>\n",
       "      <td>9656.0</td>\n",
       "      <td>16397.0</td>\n",
       "      <td>25988.0</td>\n",
       "      <td>42442.0</td>\n",
       "      <td>31694.0</td>\n",
       "      <td>30618.0</td>\n",
       "      <td>35743.0</td>\n",
       "      <td>13644.0</td>\n",
       "      <td>9061.0</td>\n",
       "      <td>11999.0</td>\n",
       "    </tr>\n",
       "    <tr>\n",
       "      <th>67</th>\n",
       "      <td>2013</td>\n",
       "      <td>NaN</td>\n",
       "      <td>NaN</td>\n",
       "      <td>NaN</td>\n",
       "      <td>NaN</td>\n",
       "      <td>225784.0</td>\n",
       "      <td>5297.0</td>\n",
       "      <td>6256.0</td>\n",
       "      <td>10030.0</td>\n",
       "      <td>14517.0</td>\n",
       "      <td>24251.0</td>\n",
       "      <td>38446.0</td>\n",
       "      <td>30312.0</td>\n",
       "      <td>34803.0</td>\n",
       "      <td>29015.0</td>\n",
       "      <td>13818.0</td>\n",
       "      <td>9522.0</td>\n",
       "      <td>9517.0</td>\n",
       "    </tr>\n",
       "  </tbody>\n",
       "</table>\n",
       "<p>75 rows × 18 columns</p>\n",
       "</div>"
      ],
      "text/plain": [
       "    AMAR  Homme_Homme  Femme_Femme  Homme_Femme     TOTAL  \\\n",
       "0   2017       3565.0       3588.0     224185.0  231338.0   \n",
       "1   2014       5672.0       4858.0     230954.0  241484.0   \n",
       "2   2015       4085.0       3666.0     228565.0  236316.0   \n",
       "3   2016       3672.0       3441.0     225612.0  232725.0   \n",
       "4   2018       3268.0       3118.0     228349.0  234735.0   \n",
       "..   ...          ...          ...          ...       ...   \n",
       "63  2009          NaN          NaN          NaN       NaN   \n",
       "64  2010          NaN          NaN          NaN       NaN   \n",
       "65  2011          NaN          NaN          NaN       NaN   \n",
       "66  2012          NaN          NaN          NaN       NaN   \n",
       "67  2013          NaN          NaN          NaN       NaN   \n",
       "\n",
       "    Ensemble des mariages de l'année  Janvier  Février     Mars    Avril  \\\n",
       "0                                NaN      NaN      NaN      NaN      NaN   \n",
       "1                                NaN      NaN      NaN      NaN      NaN   \n",
       "2                                NaN      NaN      NaN      NaN      NaN   \n",
       "3                                NaN      NaN      NaN      NaN      NaN   \n",
       "4                                NaN      NaN      NaN      NaN      NaN   \n",
       "..                               ...      ...      ...      ...      ...   \n",
       "63                          245151.0   5822.0   8384.0   7618.0  13898.0   \n",
       "64                          245334.0   5755.0   6773.0   7434.0  15431.0   \n",
       "65                          231100.0   5303.0   6297.0   7345.0  15910.0   \n",
       "66                          239840.0   5713.0   6885.0   9656.0  16397.0   \n",
       "67                          225784.0   5297.0   6256.0  10030.0  14517.0   \n",
       "\n",
       "        Mai     Juin  Juillet     Août  Septembre  Octobre  Novembre  Décembre  \n",
       "0       NaN      NaN      NaN      NaN        NaN      NaN       NaN       NaN  \n",
       "1       NaN      NaN      NaN      NaN        NaN      NaN       NaN       NaN  \n",
       "2       NaN      NaN      NaN      NaN        NaN      NaN       NaN       NaN  \n",
       "3       NaN      NaN      NaN      NaN        NaN      NaN       NaN       NaN  \n",
       "4       NaN      NaN      NaN      NaN        NaN      NaN       NaN       NaN  \n",
       "..      ...      ...      ...      ...        ...      ...       ...       ...  \n",
       "63  29179.0  42072.0  41855.0  35716.0    28928.0  15883.0    7475.0    8321.0  \n",
       "64  24890.0  43329.0  47729.0  31377.0    28773.0  16622.0    7947.0    9274.0  \n",
       "65  20146.0  41621.0  43287.0  29444.0    29327.0  15624.0    7739.0    9057.0  \n",
       "66  25988.0  42442.0  31694.0  30618.0    35743.0  13644.0    9061.0   11999.0  \n",
       "67  24251.0  38446.0  30312.0  34803.0    29015.0  13818.0    9522.0    9517.0  \n",
       "\n",
       "[75 rows x 18 columns]"
      ]
     },
     "execution_count": 185,
     "metadata": {},
     "output_type": "execute_result"
    }
   ],
   "source": [
    "df = pd.concat([graph, mar], axis=0)\n",
    "df"
   ]
  },
  {
   "cell_type": "code",
   "execution_count": 186,
   "metadata": {},
   "outputs": [
    {
     "data": {
      "text/html": [
       "<div>\n",
       "<style scoped>\n",
       "    .dataframe tbody tr th:only-of-type {\n",
       "        vertical-align: middle;\n",
       "    }\n",
       "\n",
       "    .dataframe tbody tr th {\n",
       "        vertical-align: top;\n",
       "    }\n",
       "\n",
       "    .dataframe thead th {\n",
       "        text-align: right;\n",
       "    }\n",
       "</style>\n",
       "<table border=\"1\" class=\"dataframe\">\n",
       "  <thead>\n",
       "    <tr style=\"text-align: right;\">\n",
       "      <th></th>\n",
       "      <th>AMAR</th>\n",
       "      <th>Homme_Homme</th>\n",
       "      <th>Femme_Femme</th>\n",
       "      <th>Homme_Femme</th>\n",
       "      <th>TOTAL</th>\n",
       "      <th>Ensemble des mariages de l'année</th>\n",
       "      <th>Janvier</th>\n",
       "      <th>Février</th>\n",
       "      <th>Mars</th>\n",
       "      <th>Avril</th>\n",
       "      <th>Mai</th>\n",
       "      <th>Juin</th>\n",
       "      <th>Juillet</th>\n",
       "      <th>Août</th>\n",
       "      <th>Septembre</th>\n",
       "      <th>Octobre</th>\n",
       "      <th>Novembre</th>\n",
       "      <th>Décembre</th>\n",
       "    </tr>\n",
       "  </thead>\n",
       "  <tbody>\n",
       "    <tr>\n",
       "      <th>0</th>\n",
       "      <td>1946</td>\n",
       "      <td>NaN</td>\n",
       "      <td>NaN</td>\n",
       "      <td>NaN</td>\n",
       "      <td>NaN</td>\n",
       "      <td>516882.0</td>\n",
       "      <td>27260.0</td>\n",
       "      <td>32425.0</td>\n",
       "      <td>36387.0</td>\n",
       "      <td>62285.0</td>\n",
       "      <td>33341.0</td>\n",
       "      <td>55776.0</td>\n",
       "      <td>43187.0</td>\n",
       "      <td>48133.0</td>\n",
       "      <td>53865.0</td>\n",
       "      <td>52922.0</td>\n",
       "      <td>36648.0</td>\n",
       "      <td>34653.0</td>\n",
       "    </tr>\n",
       "    <tr>\n",
       "      <th>1</th>\n",
       "      <td>1947</td>\n",
       "      <td>NaN</td>\n",
       "      <td>NaN</td>\n",
       "      <td>NaN</td>\n",
       "      <td>NaN</td>\n",
       "      <td>427113.0</td>\n",
       "      <td>22627.0</td>\n",
       "      <td>26632.0</td>\n",
       "      <td>23632.0</td>\n",
       "      <td>62296.0</td>\n",
       "      <td>27973.0</td>\n",
       "      <td>41026.0</td>\n",
       "      <td>37695.0</td>\n",
       "      <td>39301.0</td>\n",
       "      <td>43481.0</td>\n",
       "      <td>43659.0</td>\n",
       "      <td>30187.0</td>\n",
       "      <td>28604.0</td>\n",
       "    </tr>\n",
       "    <tr>\n",
       "      <th>2</th>\n",
       "      <td>1948</td>\n",
       "      <td>NaN</td>\n",
       "      <td>NaN</td>\n",
       "      <td>NaN</td>\n",
       "      <td>NaN</td>\n",
       "      <td>370769.0</td>\n",
       "      <td>22179.0</td>\n",
       "      <td>21091.0</td>\n",
       "      <td>23226.0</td>\n",
       "      <td>51358.0</td>\n",
       "      <td>21962.0</td>\n",
       "      <td>35083.0</td>\n",
       "      <td>36842.0</td>\n",
       "      <td>30497.0</td>\n",
       "      <td>37675.0</td>\n",
       "      <td>39435.0</td>\n",
       "      <td>24611.0</td>\n",
       "      <td>26810.0</td>\n",
       "    </tr>\n",
       "    <tr>\n",
       "      <th>3</th>\n",
       "      <td>1949</td>\n",
       "      <td>NaN</td>\n",
       "      <td>NaN</td>\n",
       "      <td>NaN</td>\n",
       "      <td>NaN</td>\n",
       "      <td>341091.0</td>\n",
       "      <td>18568.0</td>\n",
       "      <td>23409.0</td>\n",
       "      <td>17038.0</td>\n",
       "      <td>45649.0</td>\n",
       "      <td>19004.0</td>\n",
       "      <td>32770.0</td>\n",
       "      <td>33512.0</td>\n",
       "      <td>29181.0</td>\n",
       "      <td>34261.0</td>\n",
       "      <td>37458.0</td>\n",
       "      <td>22765.0</td>\n",
       "      <td>27476.0</td>\n",
       "    </tr>\n",
       "    <tr>\n",
       "      <th>4</th>\n",
       "      <td>1950</td>\n",
       "      <td>NaN</td>\n",
       "      <td>NaN</td>\n",
       "      <td>NaN</td>\n",
       "      <td>NaN</td>\n",
       "      <td>331091.0</td>\n",
       "      <td>18002.0</td>\n",
       "      <td>21284.0</td>\n",
       "      <td>15813.0</td>\n",
       "      <td>46870.0</td>\n",
       "      <td>17569.0</td>\n",
       "      <td>30083.0</td>\n",
       "      <td>32933.0</td>\n",
       "      <td>28629.0</td>\n",
       "      <td>36509.0</td>\n",
       "      <td>33810.0</td>\n",
       "      <td>21015.0</td>\n",
       "      <td>28574.0</td>\n",
       "    </tr>\n",
       "    <tr>\n",
       "      <th>...</th>\n",
       "      <td>...</td>\n",
       "      <td>...</td>\n",
       "      <td>...</td>\n",
       "      <td>...</td>\n",
       "      <td>...</td>\n",
       "      <td>...</td>\n",
       "      <td>...</td>\n",
       "      <td>...</td>\n",
       "      <td>...</td>\n",
       "      <td>...</td>\n",
       "      <td>...</td>\n",
       "      <td>...</td>\n",
       "      <td>...</td>\n",
       "      <td>...</td>\n",
       "      <td>...</td>\n",
       "      <td>...</td>\n",
       "      <td>...</td>\n",
       "      <td>...</td>\n",
       "    </tr>\n",
       "    <tr>\n",
       "      <th>3</th>\n",
       "      <td>2016</td>\n",
       "      <td>3672.0</td>\n",
       "      <td>3441.0</td>\n",
       "      <td>225612.0</td>\n",
       "      <td>232725.0</td>\n",
       "      <td>NaN</td>\n",
       "      <td>NaN</td>\n",
       "      <td>NaN</td>\n",
       "      <td>NaN</td>\n",
       "      <td>NaN</td>\n",
       "      <td>NaN</td>\n",
       "      <td>NaN</td>\n",
       "      <td>NaN</td>\n",
       "      <td>NaN</td>\n",
       "      <td>NaN</td>\n",
       "      <td>NaN</td>\n",
       "      <td>NaN</td>\n",
       "      <td>NaN</td>\n",
       "    </tr>\n",
       "    <tr>\n",
       "      <th>0</th>\n",
       "      <td>2017</td>\n",
       "      <td>3565.0</td>\n",
       "      <td>3588.0</td>\n",
       "      <td>224185.0</td>\n",
       "      <td>231338.0</td>\n",
       "      <td>NaN</td>\n",
       "      <td>NaN</td>\n",
       "      <td>NaN</td>\n",
       "      <td>NaN</td>\n",
       "      <td>NaN</td>\n",
       "      <td>NaN</td>\n",
       "      <td>NaN</td>\n",
       "      <td>NaN</td>\n",
       "      <td>NaN</td>\n",
       "      <td>NaN</td>\n",
       "      <td>NaN</td>\n",
       "      <td>NaN</td>\n",
       "      <td>NaN</td>\n",
       "    </tr>\n",
       "    <tr>\n",
       "      <th>4</th>\n",
       "      <td>2018</td>\n",
       "      <td>3268.0</td>\n",
       "      <td>3118.0</td>\n",
       "      <td>228349.0</td>\n",
       "      <td>234735.0</td>\n",
       "      <td>NaN</td>\n",
       "      <td>NaN</td>\n",
       "      <td>NaN</td>\n",
       "      <td>NaN</td>\n",
       "      <td>NaN</td>\n",
       "      <td>NaN</td>\n",
       "      <td>NaN</td>\n",
       "      <td>NaN</td>\n",
       "      <td>NaN</td>\n",
       "      <td>NaN</td>\n",
       "      <td>NaN</td>\n",
       "      <td>NaN</td>\n",
       "      <td>NaN</td>\n",
       "    </tr>\n",
       "    <tr>\n",
       "      <th>5</th>\n",
       "      <td>2019</td>\n",
       "      <td>3061.0</td>\n",
       "      <td>3211.0</td>\n",
       "      <td>218468.0</td>\n",
       "      <td>224740.0</td>\n",
       "      <td>NaN</td>\n",
       "      <td>NaN</td>\n",
       "      <td>NaN</td>\n",
       "      <td>NaN</td>\n",
       "      <td>NaN</td>\n",
       "      <td>NaN</td>\n",
       "      <td>NaN</td>\n",
       "      <td>NaN</td>\n",
       "      <td>NaN</td>\n",
       "      <td>NaN</td>\n",
       "      <td>NaN</td>\n",
       "      <td>NaN</td>\n",
       "      <td>NaN</td>\n",
       "    </tr>\n",
       "    <tr>\n",
       "      <th>6</th>\n",
       "      <td>2020</td>\n",
       "      <td>2241.0</td>\n",
       "      <td>2357.0</td>\n",
       "      <td>149983.0</td>\n",
       "      <td>154581.0</td>\n",
       "      <td>NaN</td>\n",
       "      <td>NaN</td>\n",
       "      <td>NaN</td>\n",
       "      <td>NaN</td>\n",
       "      <td>NaN</td>\n",
       "      <td>NaN</td>\n",
       "      <td>NaN</td>\n",
       "      <td>NaN</td>\n",
       "      <td>NaN</td>\n",
       "      <td>NaN</td>\n",
       "      <td>NaN</td>\n",
       "      <td>NaN</td>\n",
       "      <td>NaN</td>\n",
       "    </tr>\n",
       "  </tbody>\n",
       "</table>\n",
       "<p>75 rows × 18 columns</p>\n",
       "</div>"
      ],
      "text/plain": [
       "    AMAR  Homme_Homme  Femme_Femme  Homme_Femme     TOTAL  \\\n",
       "0   1946          NaN          NaN          NaN       NaN   \n",
       "1   1947          NaN          NaN          NaN       NaN   \n",
       "2   1948          NaN          NaN          NaN       NaN   \n",
       "3   1949          NaN          NaN          NaN       NaN   \n",
       "4   1950          NaN          NaN          NaN       NaN   \n",
       "..   ...          ...          ...          ...       ...   \n",
       "3   2016       3672.0       3441.0     225612.0  232725.0   \n",
       "0   2017       3565.0       3588.0     224185.0  231338.0   \n",
       "4   2018       3268.0       3118.0     228349.0  234735.0   \n",
       "5   2019       3061.0       3211.0     218468.0  224740.0   \n",
       "6   2020       2241.0       2357.0     149983.0  154581.0   \n",
       "\n",
       "    Ensemble des mariages de l'année  Janvier  Février     Mars    Avril  \\\n",
       "0                           516882.0  27260.0  32425.0  36387.0  62285.0   \n",
       "1                           427113.0  22627.0  26632.0  23632.0  62296.0   \n",
       "2                           370769.0  22179.0  21091.0  23226.0  51358.0   \n",
       "3                           341091.0  18568.0  23409.0  17038.0  45649.0   \n",
       "4                           331091.0  18002.0  21284.0  15813.0  46870.0   \n",
       "..                               ...      ...      ...      ...      ...   \n",
       "3                                NaN      NaN      NaN      NaN      NaN   \n",
       "0                                NaN      NaN      NaN      NaN      NaN   \n",
       "4                                NaN      NaN      NaN      NaN      NaN   \n",
       "5                                NaN      NaN      NaN      NaN      NaN   \n",
       "6                                NaN      NaN      NaN      NaN      NaN   \n",
       "\n",
       "        Mai     Juin  Juillet     Août  Septembre  Octobre  Novembre  Décembre  \n",
       "0   33341.0  55776.0  43187.0  48133.0    53865.0  52922.0   36648.0   34653.0  \n",
       "1   27973.0  41026.0  37695.0  39301.0    43481.0  43659.0   30187.0   28604.0  \n",
       "2   21962.0  35083.0  36842.0  30497.0    37675.0  39435.0   24611.0   26810.0  \n",
       "3   19004.0  32770.0  33512.0  29181.0    34261.0  37458.0   22765.0   27476.0  \n",
       "4   17569.0  30083.0  32933.0  28629.0    36509.0  33810.0   21015.0   28574.0  \n",
       "..      ...      ...      ...      ...        ...      ...       ...       ...  \n",
       "3       NaN      NaN      NaN      NaN        NaN      NaN       NaN       NaN  \n",
       "0       NaN      NaN      NaN      NaN        NaN      NaN       NaN       NaN  \n",
       "4       NaN      NaN      NaN      NaN        NaN      NaN       NaN       NaN  \n",
       "5       NaN      NaN      NaN      NaN        NaN      NaN       NaN       NaN  \n",
       "6       NaN      NaN      NaN      NaN        NaN      NaN       NaN       NaN  \n",
       "\n",
       "[75 rows x 18 columns]"
      ]
     },
     "execution_count": 186,
     "metadata": {},
     "output_type": "execute_result"
    }
   ],
   "source": [
    "df = df.sort_values(by=['AMAR'])\n",
    "df"
   ]
  },
  {
   "cell_type": "code",
   "execution_count": 187,
   "metadata": {},
   "outputs": [
    {
     "data": {
      "text/html": [
       "<div>\n",
       "<style scoped>\n",
       "    .dataframe tbody tr th:only-of-type {\n",
       "        vertical-align: middle;\n",
       "    }\n",
       "\n",
       "    .dataframe tbody tr th {\n",
       "        vertical-align: top;\n",
       "    }\n",
       "\n",
       "    .dataframe thead th {\n",
       "        text-align: right;\n",
       "    }\n",
       "</style>\n",
       "<table border=\"1\" class=\"dataframe\">\n",
       "  <thead>\n",
       "    <tr style=\"text-align: right;\">\n",
       "      <th></th>\n",
       "      <th>AMAR</th>\n",
       "      <th>Homme_Homme</th>\n",
       "      <th>Femme_Femme</th>\n",
       "      <th>Homme_Femme</th>\n",
       "      <th>TOTAL</th>\n",
       "      <th>Ensemble des mariages de l'année</th>\n",
       "      <th>Janvier</th>\n",
       "      <th>Février</th>\n",
       "      <th>Mars</th>\n",
       "      <th>Avril</th>\n",
       "      <th>Mai</th>\n",
       "      <th>Juin</th>\n",
       "      <th>Juillet</th>\n",
       "      <th>Août</th>\n",
       "      <th>Septembre</th>\n",
       "      <th>Octobre</th>\n",
       "      <th>Novembre</th>\n",
       "      <th>Décembre</th>\n",
       "    </tr>\n",
       "  </thead>\n",
       "  <tbody>\n",
       "    <tr>\n",
       "      <th>0</th>\n",
       "      <td>1946</td>\n",
       "      <td>NaN</td>\n",
       "      <td>NaN</td>\n",
       "      <td>NaN</td>\n",
       "      <td>516882.0</td>\n",
       "      <td>516882.0</td>\n",
       "      <td>27260.0</td>\n",
       "      <td>32425.0</td>\n",
       "      <td>36387.0</td>\n",
       "      <td>62285.0</td>\n",
       "      <td>33341.0</td>\n",
       "      <td>55776.0</td>\n",
       "      <td>43187.0</td>\n",
       "      <td>48133.0</td>\n",
       "      <td>53865.0</td>\n",
       "      <td>52922.0</td>\n",
       "      <td>36648.0</td>\n",
       "      <td>34653.0</td>\n",
       "    </tr>\n",
       "    <tr>\n",
       "      <th>1</th>\n",
       "      <td>1947</td>\n",
       "      <td>NaN</td>\n",
       "      <td>NaN</td>\n",
       "      <td>NaN</td>\n",
       "      <td>427113.0</td>\n",
       "      <td>427113.0</td>\n",
       "      <td>22627.0</td>\n",
       "      <td>26632.0</td>\n",
       "      <td>23632.0</td>\n",
       "      <td>62296.0</td>\n",
       "      <td>27973.0</td>\n",
       "      <td>41026.0</td>\n",
       "      <td>37695.0</td>\n",
       "      <td>39301.0</td>\n",
       "      <td>43481.0</td>\n",
       "      <td>43659.0</td>\n",
       "      <td>30187.0</td>\n",
       "      <td>28604.0</td>\n",
       "    </tr>\n",
       "    <tr>\n",
       "      <th>2</th>\n",
       "      <td>1948</td>\n",
       "      <td>NaN</td>\n",
       "      <td>NaN</td>\n",
       "      <td>NaN</td>\n",
       "      <td>370769.0</td>\n",
       "      <td>370769.0</td>\n",
       "      <td>22179.0</td>\n",
       "      <td>21091.0</td>\n",
       "      <td>23226.0</td>\n",
       "      <td>51358.0</td>\n",
       "      <td>21962.0</td>\n",
       "      <td>35083.0</td>\n",
       "      <td>36842.0</td>\n",
       "      <td>30497.0</td>\n",
       "      <td>37675.0</td>\n",
       "      <td>39435.0</td>\n",
       "      <td>24611.0</td>\n",
       "      <td>26810.0</td>\n",
       "    </tr>\n",
       "    <tr>\n",
       "      <th>3</th>\n",
       "      <td>1949</td>\n",
       "      <td>NaN</td>\n",
       "      <td>NaN</td>\n",
       "      <td>NaN</td>\n",
       "      <td>341091.0</td>\n",
       "      <td>341091.0</td>\n",
       "      <td>18568.0</td>\n",
       "      <td>23409.0</td>\n",
       "      <td>17038.0</td>\n",
       "      <td>45649.0</td>\n",
       "      <td>19004.0</td>\n",
       "      <td>32770.0</td>\n",
       "      <td>33512.0</td>\n",
       "      <td>29181.0</td>\n",
       "      <td>34261.0</td>\n",
       "      <td>37458.0</td>\n",
       "      <td>22765.0</td>\n",
       "      <td>27476.0</td>\n",
       "    </tr>\n",
       "    <tr>\n",
       "      <th>4</th>\n",
       "      <td>1950</td>\n",
       "      <td>NaN</td>\n",
       "      <td>NaN</td>\n",
       "      <td>NaN</td>\n",
       "      <td>331091.0</td>\n",
       "      <td>331091.0</td>\n",
       "      <td>18002.0</td>\n",
       "      <td>21284.0</td>\n",
       "      <td>15813.0</td>\n",
       "      <td>46870.0</td>\n",
       "      <td>17569.0</td>\n",
       "      <td>30083.0</td>\n",
       "      <td>32933.0</td>\n",
       "      <td>28629.0</td>\n",
       "      <td>36509.0</td>\n",
       "      <td>33810.0</td>\n",
       "      <td>21015.0</td>\n",
       "      <td>28574.0</td>\n",
       "    </tr>\n",
       "    <tr>\n",
       "      <th>...</th>\n",
       "      <td>...</td>\n",
       "      <td>...</td>\n",
       "      <td>...</td>\n",
       "      <td>...</td>\n",
       "      <td>...</td>\n",
       "      <td>...</td>\n",
       "      <td>...</td>\n",
       "      <td>...</td>\n",
       "      <td>...</td>\n",
       "      <td>...</td>\n",
       "      <td>...</td>\n",
       "      <td>...</td>\n",
       "      <td>...</td>\n",
       "      <td>...</td>\n",
       "      <td>...</td>\n",
       "      <td>...</td>\n",
       "      <td>...</td>\n",
       "      <td>...</td>\n",
       "    </tr>\n",
       "    <tr>\n",
       "      <th>3</th>\n",
       "      <td>2016</td>\n",
       "      <td>3672.0</td>\n",
       "      <td>3441.0</td>\n",
       "      <td>225612.0</td>\n",
       "      <td>232725.0</td>\n",
       "      <td>0.0</td>\n",
       "      <td>NaN</td>\n",
       "      <td>NaN</td>\n",
       "      <td>NaN</td>\n",
       "      <td>NaN</td>\n",
       "      <td>NaN</td>\n",
       "      <td>NaN</td>\n",
       "      <td>NaN</td>\n",
       "      <td>NaN</td>\n",
       "      <td>NaN</td>\n",
       "      <td>NaN</td>\n",
       "      <td>NaN</td>\n",
       "      <td>NaN</td>\n",
       "    </tr>\n",
       "    <tr>\n",
       "      <th>0</th>\n",
       "      <td>2017</td>\n",
       "      <td>3565.0</td>\n",
       "      <td>3588.0</td>\n",
       "      <td>224185.0</td>\n",
       "      <td>231338.0</td>\n",
       "      <td>0.0</td>\n",
       "      <td>NaN</td>\n",
       "      <td>NaN</td>\n",
       "      <td>NaN</td>\n",
       "      <td>NaN</td>\n",
       "      <td>NaN</td>\n",
       "      <td>NaN</td>\n",
       "      <td>NaN</td>\n",
       "      <td>NaN</td>\n",
       "      <td>NaN</td>\n",
       "      <td>NaN</td>\n",
       "      <td>NaN</td>\n",
       "      <td>NaN</td>\n",
       "    </tr>\n",
       "    <tr>\n",
       "      <th>4</th>\n",
       "      <td>2018</td>\n",
       "      <td>3268.0</td>\n",
       "      <td>3118.0</td>\n",
       "      <td>228349.0</td>\n",
       "      <td>234735.0</td>\n",
       "      <td>0.0</td>\n",
       "      <td>NaN</td>\n",
       "      <td>NaN</td>\n",
       "      <td>NaN</td>\n",
       "      <td>NaN</td>\n",
       "      <td>NaN</td>\n",
       "      <td>NaN</td>\n",
       "      <td>NaN</td>\n",
       "      <td>NaN</td>\n",
       "      <td>NaN</td>\n",
       "      <td>NaN</td>\n",
       "      <td>NaN</td>\n",
       "      <td>NaN</td>\n",
       "    </tr>\n",
       "    <tr>\n",
       "      <th>5</th>\n",
       "      <td>2019</td>\n",
       "      <td>3061.0</td>\n",
       "      <td>3211.0</td>\n",
       "      <td>218468.0</td>\n",
       "      <td>224740.0</td>\n",
       "      <td>0.0</td>\n",
       "      <td>NaN</td>\n",
       "      <td>NaN</td>\n",
       "      <td>NaN</td>\n",
       "      <td>NaN</td>\n",
       "      <td>NaN</td>\n",
       "      <td>NaN</td>\n",
       "      <td>NaN</td>\n",
       "      <td>NaN</td>\n",
       "      <td>NaN</td>\n",
       "      <td>NaN</td>\n",
       "      <td>NaN</td>\n",
       "      <td>NaN</td>\n",
       "    </tr>\n",
       "    <tr>\n",
       "      <th>6</th>\n",
       "      <td>2020</td>\n",
       "      <td>2241.0</td>\n",
       "      <td>2357.0</td>\n",
       "      <td>149983.0</td>\n",
       "      <td>154581.0</td>\n",
       "      <td>0.0</td>\n",
       "      <td>NaN</td>\n",
       "      <td>NaN</td>\n",
       "      <td>NaN</td>\n",
       "      <td>NaN</td>\n",
       "      <td>NaN</td>\n",
       "      <td>NaN</td>\n",
       "      <td>NaN</td>\n",
       "      <td>NaN</td>\n",
       "      <td>NaN</td>\n",
       "      <td>NaN</td>\n",
       "      <td>NaN</td>\n",
       "      <td>NaN</td>\n",
       "    </tr>\n",
       "  </tbody>\n",
       "</table>\n",
       "<p>75 rows × 18 columns</p>\n",
       "</div>"
      ],
      "text/plain": [
       "    AMAR  Homme_Homme  Femme_Femme  Homme_Femme     TOTAL  \\\n",
       "0   1946          NaN          NaN          NaN  516882.0   \n",
       "1   1947          NaN          NaN          NaN  427113.0   \n",
       "2   1948          NaN          NaN          NaN  370769.0   \n",
       "3   1949          NaN          NaN          NaN  341091.0   \n",
       "4   1950          NaN          NaN          NaN  331091.0   \n",
       "..   ...          ...          ...          ...       ...   \n",
       "3   2016       3672.0       3441.0     225612.0  232725.0   \n",
       "0   2017       3565.0       3588.0     224185.0  231338.0   \n",
       "4   2018       3268.0       3118.0     228349.0  234735.0   \n",
       "5   2019       3061.0       3211.0     218468.0  224740.0   \n",
       "6   2020       2241.0       2357.0     149983.0  154581.0   \n",
       "\n",
       "    Ensemble des mariages de l'année  Janvier  Février     Mars    Avril  \\\n",
       "0                           516882.0  27260.0  32425.0  36387.0  62285.0   \n",
       "1                           427113.0  22627.0  26632.0  23632.0  62296.0   \n",
       "2                           370769.0  22179.0  21091.0  23226.0  51358.0   \n",
       "3                           341091.0  18568.0  23409.0  17038.0  45649.0   \n",
       "4                           331091.0  18002.0  21284.0  15813.0  46870.0   \n",
       "..                               ...      ...      ...      ...      ...   \n",
       "3                                0.0      NaN      NaN      NaN      NaN   \n",
       "0                                0.0      NaN      NaN      NaN      NaN   \n",
       "4                                0.0      NaN      NaN      NaN      NaN   \n",
       "5                                0.0      NaN      NaN      NaN      NaN   \n",
       "6                                0.0      NaN      NaN      NaN      NaN   \n",
       "\n",
       "        Mai     Juin  Juillet     Août  Septembre  Octobre  Novembre  Décembre  \n",
       "0   33341.0  55776.0  43187.0  48133.0    53865.0  52922.0   36648.0   34653.0  \n",
       "1   27973.0  41026.0  37695.0  39301.0    43481.0  43659.0   30187.0   28604.0  \n",
       "2   21962.0  35083.0  36842.0  30497.0    37675.0  39435.0   24611.0   26810.0  \n",
       "3   19004.0  32770.0  33512.0  29181.0    34261.0  37458.0   22765.0   27476.0  \n",
       "4   17569.0  30083.0  32933.0  28629.0    36509.0  33810.0   21015.0   28574.0  \n",
       "..      ...      ...      ...      ...        ...      ...       ...       ...  \n",
       "3       NaN      NaN      NaN      NaN        NaN      NaN       NaN       NaN  \n",
       "0       NaN      NaN      NaN      NaN        NaN      NaN       NaN       NaN  \n",
       "4       NaN      NaN      NaN      NaN        NaN      NaN       NaN       NaN  \n",
       "5       NaN      NaN      NaN      NaN        NaN      NaN       NaN       NaN  \n",
       "6       NaN      NaN      NaN      NaN        NaN      NaN       NaN       NaN  \n",
       "\n",
       "[75 rows x 18 columns]"
      ]
     },
     "execution_count": 187,
     "metadata": {},
     "output_type": "execute_result"
    }
   ],
   "source": [
    "df['TOTAL'] = df['TOTAL'].fillna(0)\n",
    "df['Ensemble des mariages de l\\'année'] = df['Ensemble des mariages de l\\'année'].fillna(0)\n",
    "df['TOTAL'] = df['TOTAL'] + df['Ensemble des mariages de l\\'année']\n",
    "df"
   ]
  },
  {
   "cell_type": "code",
   "execution_count": 188,
   "metadata": {},
   "outputs": [
    {
     "data": {
      "application/vnd.plotly.v1+json": {
       "config": {
        "plotlyServerURL": "https://plot.ly"
       },
       "data": [
        {
         "hovertemplate": "variable=Homme_Homme<br>AMAR=%{x}<br>value=%{y}<extra></extra>",
         "legendgroup": "Homme_Homme",
         "line": {
          "color": "#636efa",
          "dash": "solid"
         },
         "marker": {
          "symbol": "circle"
         },
         "mode": "lines",
         "name": "Homme_Homme",
         "orientation": "v",
         "showlegend": true,
         "type": "scatter",
         "x": [
          1946,
          1947,
          1948,
          1949,
          1950,
          1951,
          1952,
          1953,
          1954,
          1955,
          1956,
          1957,
          1958,
          1959,
          1960,
          1961,
          1962,
          1963,
          1964,
          1965,
          1966,
          1967,
          1968,
          1969,
          1970,
          1971,
          1972,
          1973,
          1974,
          1975,
          1976,
          1977,
          1978,
          1979,
          1980,
          1981,
          1982,
          1983,
          1984,
          1985,
          1986,
          1987,
          1988,
          1989,
          1990,
          1991,
          1992,
          1993,
          1994,
          1995,
          1996,
          1997,
          1998,
          1999,
          2000,
          2001,
          2002,
          2003,
          2004,
          2005,
          2006,
          2007,
          2008,
          2009,
          2010,
          2011,
          2012,
          2013,
          2014,
          2015,
          2016,
          2017,
          2018,
          2019,
          2020
         ],
         "xaxis": "x",
         "y": [
          null,
          null,
          null,
          null,
          null,
          null,
          null,
          null,
          null,
          null,
          null,
          null,
          null,
          null,
          null,
          null,
          null,
          null,
          null,
          null,
          null,
          null,
          null,
          null,
          null,
          null,
          null,
          null,
          null,
          null,
          null,
          null,
          null,
          null,
          null,
          null,
          null,
          null,
          null,
          null,
          null,
          null,
          null,
          null,
          null,
          null,
          null,
          null,
          null,
          null,
          null,
          null,
          null,
          null,
          null,
          null,
          null,
          null,
          null,
          null,
          null,
          null,
          null,
          null,
          null,
          null,
          null,
          null,
          5672,
          4085,
          3672,
          3565,
          3268,
          3061,
          2241
         ],
         "yaxis": "y"
        },
        {
         "hovertemplate": "variable=Homme_Femme<br>AMAR=%{x}<br>value=%{y}<extra></extra>",
         "legendgroup": "Homme_Femme",
         "line": {
          "color": "#EF553B",
          "dash": "solid"
         },
         "marker": {
          "symbol": "circle"
         },
         "mode": "lines",
         "name": "Homme_Femme",
         "orientation": "v",
         "showlegend": true,
         "type": "scatter",
         "x": [
          1946,
          1947,
          1948,
          1949,
          1950,
          1951,
          1952,
          1953,
          1954,
          1955,
          1956,
          1957,
          1958,
          1959,
          1960,
          1961,
          1962,
          1963,
          1964,
          1965,
          1966,
          1967,
          1968,
          1969,
          1970,
          1971,
          1972,
          1973,
          1974,
          1975,
          1976,
          1977,
          1978,
          1979,
          1980,
          1981,
          1982,
          1983,
          1984,
          1985,
          1986,
          1987,
          1988,
          1989,
          1990,
          1991,
          1992,
          1993,
          1994,
          1995,
          1996,
          1997,
          1998,
          1999,
          2000,
          2001,
          2002,
          2003,
          2004,
          2005,
          2006,
          2007,
          2008,
          2009,
          2010,
          2011,
          2012,
          2013,
          2014,
          2015,
          2016,
          2017,
          2018,
          2019,
          2020
         ],
         "xaxis": "x",
         "y": [
          null,
          null,
          null,
          null,
          null,
          null,
          null,
          null,
          null,
          null,
          null,
          null,
          null,
          null,
          null,
          null,
          null,
          null,
          null,
          null,
          null,
          null,
          null,
          null,
          null,
          null,
          null,
          null,
          null,
          null,
          null,
          null,
          null,
          null,
          null,
          null,
          null,
          null,
          null,
          null,
          null,
          null,
          null,
          null,
          null,
          null,
          null,
          null,
          null,
          null,
          null,
          null,
          null,
          null,
          null,
          null,
          null,
          null,
          null,
          null,
          null,
          null,
          null,
          null,
          null,
          null,
          null,
          null,
          230954,
          228565,
          225612,
          224185,
          228349,
          218468,
          149983
         ],
         "yaxis": "y"
        },
        {
         "hovertemplate": "variable=Femme_Femme<br>AMAR=%{x}<br>value=%{y}<extra></extra>",
         "legendgroup": "Femme_Femme",
         "line": {
          "color": "#00cc96",
          "dash": "solid"
         },
         "marker": {
          "symbol": "circle"
         },
         "mode": "lines",
         "name": "Femme_Femme",
         "orientation": "v",
         "showlegend": true,
         "type": "scatter",
         "x": [
          1946,
          1947,
          1948,
          1949,
          1950,
          1951,
          1952,
          1953,
          1954,
          1955,
          1956,
          1957,
          1958,
          1959,
          1960,
          1961,
          1962,
          1963,
          1964,
          1965,
          1966,
          1967,
          1968,
          1969,
          1970,
          1971,
          1972,
          1973,
          1974,
          1975,
          1976,
          1977,
          1978,
          1979,
          1980,
          1981,
          1982,
          1983,
          1984,
          1985,
          1986,
          1987,
          1988,
          1989,
          1990,
          1991,
          1992,
          1993,
          1994,
          1995,
          1996,
          1997,
          1998,
          1999,
          2000,
          2001,
          2002,
          2003,
          2004,
          2005,
          2006,
          2007,
          2008,
          2009,
          2010,
          2011,
          2012,
          2013,
          2014,
          2015,
          2016,
          2017,
          2018,
          2019,
          2020
         ],
         "xaxis": "x",
         "y": [
          null,
          null,
          null,
          null,
          null,
          null,
          null,
          null,
          null,
          null,
          null,
          null,
          null,
          null,
          null,
          null,
          null,
          null,
          null,
          null,
          null,
          null,
          null,
          null,
          null,
          null,
          null,
          null,
          null,
          null,
          null,
          null,
          null,
          null,
          null,
          null,
          null,
          null,
          null,
          null,
          null,
          null,
          null,
          null,
          null,
          null,
          null,
          null,
          null,
          null,
          null,
          null,
          null,
          null,
          null,
          null,
          null,
          null,
          null,
          null,
          null,
          null,
          null,
          null,
          null,
          null,
          null,
          null,
          4858,
          3666,
          3441,
          3588,
          3118,
          3211,
          2357
         ],
         "yaxis": "y"
        },
        {
         "hovertemplate": "variable=TOTAL<br>AMAR=%{x}<br>value=%{y}<extra></extra>",
         "legendgroup": "TOTAL",
         "line": {
          "color": "#ab63fa",
          "dash": "solid"
         },
         "marker": {
          "symbol": "circle"
         },
         "mode": "lines",
         "name": "TOTAL",
         "orientation": "v",
         "showlegend": true,
         "type": "scatter",
         "x": [
          1946,
          1947,
          1948,
          1949,
          1950,
          1951,
          1952,
          1953,
          1954,
          1955,
          1956,
          1957,
          1958,
          1959,
          1960,
          1961,
          1962,
          1963,
          1964,
          1965,
          1966,
          1967,
          1968,
          1969,
          1970,
          1971,
          1972,
          1973,
          1974,
          1975,
          1976,
          1977,
          1978,
          1979,
          1980,
          1981,
          1982,
          1983,
          1984,
          1985,
          1986,
          1987,
          1988,
          1989,
          1990,
          1991,
          1992,
          1993,
          1994,
          1995,
          1996,
          1997,
          1998,
          1999,
          2000,
          2001,
          2002,
          2003,
          2004,
          2005,
          2006,
          2007,
          2008,
          2009,
          2010,
          2011,
          2012,
          2013,
          2014,
          2015,
          2016,
          2017,
          2018,
          2019,
          2020
         ],
         "xaxis": "x",
         "y": [
          516882,
          427113,
          370769,
          341091,
          331091,
          319651,
          313892,
          308426,
          314453,
          312703,
          293450,
          310509,
          312133,
          320821,
          319944,
          314841,
          316873,
          339463,
          347525,
          346308,
          339746,
          345578,
          356615,
          380829,
          393686,
          406416,
          416521,
          400740,
          394755,
          387379,
          374003,
          368166,
          354628,
          340405,
          334377,
          315117,
          312405,
          300513,
          281402,
          269419,
          265678,
          265177,
          271124,
          279900,
          287099,
          280175,
          271427,
          255190,
          253746,
          254651,
          280072,
          283984,
          271361,
          286191,
          297922,
          288255,
          279087,
          275963,
          271598,
          276303,
          267260,
          267194,
          258739,
          245151,
          245334,
          231100,
          239840,
          225784,
          241484,
          236316,
          232725,
          231338,
          234735,
          224740,
          154581
         ],
         "yaxis": "y"
        }
       ],
       "layout": {
        "legend": {
         "title": {
          "text": "Type de mariage"
         },
         "tracegroupgap": 0
        },
        "margin": {
         "t": 60
        },
        "template": {
         "data": {
          "bar": [
           {
            "error_x": {
             "color": "#2a3f5f"
            },
            "error_y": {
             "color": "#2a3f5f"
            },
            "marker": {
             "line": {
              "color": "#E5ECF6",
              "width": 0.5
             },
             "pattern": {
              "fillmode": "overlay",
              "size": 10,
              "solidity": 0.2
             }
            },
            "type": "bar"
           }
          ],
          "barpolar": [
           {
            "marker": {
             "line": {
              "color": "#E5ECF6",
              "width": 0.5
             },
             "pattern": {
              "fillmode": "overlay",
              "size": 10,
              "solidity": 0.2
             }
            },
            "type": "barpolar"
           }
          ],
          "carpet": [
           {
            "aaxis": {
             "endlinecolor": "#2a3f5f",
             "gridcolor": "white",
             "linecolor": "white",
             "minorgridcolor": "white",
             "startlinecolor": "#2a3f5f"
            },
            "baxis": {
             "endlinecolor": "#2a3f5f",
             "gridcolor": "white",
             "linecolor": "white",
             "minorgridcolor": "white",
             "startlinecolor": "#2a3f5f"
            },
            "type": "carpet"
           }
          ],
          "choropleth": [
           {
            "colorbar": {
             "outlinewidth": 0,
             "ticks": ""
            },
            "type": "choropleth"
           }
          ],
          "contour": [
           {
            "colorbar": {
             "outlinewidth": 0,
             "ticks": ""
            },
            "colorscale": [
             [
              0,
              "#0d0887"
             ],
             [
              0.1111111111111111,
              "#46039f"
             ],
             [
              0.2222222222222222,
              "#7201a8"
             ],
             [
              0.3333333333333333,
              "#9c179e"
             ],
             [
              0.4444444444444444,
              "#bd3786"
             ],
             [
              0.5555555555555556,
              "#d8576b"
             ],
             [
              0.6666666666666666,
              "#ed7953"
             ],
             [
              0.7777777777777778,
              "#fb9f3a"
             ],
             [
              0.8888888888888888,
              "#fdca26"
             ],
             [
              1,
              "#f0f921"
             ]
            ],
            "type": "contour"
           }
          ],
          "contourcarpet": [
           {
            "colorbar": {
             "outlinewidth": 0,
             "ticks": ""
            },
            "type": "contourcarpet"
           }
          ],
          "heatmap": [
           {
            "colorbar": {
             "outlinewidth": 0,
             "ticks": ""
            },
            "colorscale": [
             [
              0,
              "#0d0887"
             ],
             [
              0.1111111111111111,
              "#46039f"
             ],
             [
              0.2222222222222222,
              "#7201a8"
             ],
             [
              0.3333333333333333,
              "#9c179e"
             ],
             [
              0.4444444444444444,
              "#bd3786"
             ],
             [
              0.5555555555555556,
              "#d8576b"
             ],
             [
              0.6666666666666666,
              "#ed7953"
             ],
             [
              0.7777777777777778,
              "#fb9f3a"
             ],
             [
              0.8888888888888888,
              "#fdca26"
             ],
             [
              1,
              "#f0f921"
             ]
            ],
            "type": "heatmap"
           }
          ],
          "heatmapgl": [
           {
            "colorbar": {
             "outlinewidth": 0,
             "ticks": ""
            },
            "colorscale": [
             [
              0,
              "#0d0887"
             ],
             [
              0.1111111111111111,
              "#46039f"
             ],
             [
              0.2222222222222222,
              "#7201a8"
             ],
             [
              0.3333333333333333,
              "#9c179e"
             ],
             [
              0.4444444444444444,
              "#bd3786"
             ],
             [
              0.5555555555555556,
              "#d8576b"
             ],
             [
              0.6666666666666666,
              "#ed7953"
             ],
             [
              0.7777777777777778,
              "#fb9f3a"
             ],
             [
              0.8888888888888888,
              "#fdca26"
             ],
             [
              1,
              "#f0f921"
             ]
            ],
            "type": "heatmapgl"
           }
          ],
          "histogram": [
           {
            "marker": {
             "pattern": {
              "fillmode": "overlay",
              "size": 10,
              "solidity": 0.2
             }
            },
            "type": "histogram"
           }
          ],
          "histogram2d": [
           {
            "colorbar": {
             "outlinewidth": 0,
             "ticks": ""
            },
            "colorscale": [
             [
              0,
              "#0d0887"
             ],
             [
              0.1111111111111111,
              "#46039f"
             ],
             [
              0.2222222222222222,
              "#7201a8"
             ],
             [
              0.3333333333333333,
              "#9c179e"
             ],
             [
              0.4444444444444444,
              "#bd3786"
             ],
             [
              0.5555555555555556,
              "#d8576b"
             ],
             [
              0.6666666666666666,
              "#ed7953"
             ],
             [
              0.7777777777777778,
              "#fb9f3a"
             ],
             [
              0.8888888888888888,
              "#fdca26"
             ],
             [
              1,
              "#f0f921"
             ]
            ],
            "type": "histogram2d"
           }
          ],
          "histogram2dcontour": [
           {
            "colorbar": {
             "outlinewidth": 0,
             "ticks": ""
            },
            "colorscale": [
             [
              0,
              "#0d0887"
             ],
             [
              0.1111111111111111,
              "#46039f"
             ],
             [
              0.2222222222222222,
              "#7201a8"
             ],
             [
              0.3333333333333333,
              "#9c179e"
             ],
             [
              0.4444444444444444,
              "#bd3786"
             ],
             [
              0.5555555555555556,
              "#d8576b"
             ],
             [
              0.6666666666666666,
              "#ed7953"
             ],
             [
              0.7777777777777778,
              "#fb9f3a"
             ],
             [
              0.8888888888888888,
              "#fdca26"
             ],
             [
              1,
              "#f0f921"
             ]
            ],
            "type": "histogram2dcontour"
           }
          ],
          "mesh3d": [
           {
            "colorbar": {
             "outlinewidth": 0,
             "ticks": ""
            },
            "type": "mesh3d"
           }
          ],
          "parcoords": [
           {
            "line": {
             "colorbar": {
              "outlinewidth": 0,
              "ticks": ""
             }
            },
            "type": "parcoords"
           }
          ],
          "pie": [
           {
            "automargin": true,
            "type": "pie"
           }
          ],
          "scatter": [
           {
            "marker": {
             "colorbar": {
              "outlinewidth": 0,
              "ticks": ""
             }
            },
            "type": "scatter"
           }
          ],
          "scatter3d": [
           {
            "line": {
             "colorbar": {
              "outlinewidth": 0,
              "ticks": ""
             }
            },
            "marker": {
             "colorbar": {
              "outlinewidth": 0,
              "ticks": ""
             }
            },
            "type": "scatter3d"
           }
          ],
          "scattercarpet": [
           {
            "marker": {
             "colorbar": {
              "outlinewidth": 0,
              "ticks": ""
             }
            },
            "type": "scattercarpet"
           }
          ],
          "scattergeo": [
           {
            "marker": {
             "colorbar": {
              "outlinewidth": 0,
              "ticks": ""
             }
            },
            "type": "scattergeo"
           }
          ],
          "scattergl": [
           {
            "marker": {
             "colorbar": {
              "outlinewidth": 0,
              "ticks": ""
             }
            },
            "type": "scattergl"
           }
          ],
          "scattermapbox": [
           {
            "marker": {
             "colorbar": {
              "outlinewidth": 0,
              "ticks": ""
             }
            },
            "type": "scattermapbox"
           }
          ],
          "scatterpolar": [
           {
            "marker": {
             "colorbar": {
              "outlinewidth": 0,
              "ticks": ""
             }
            },
            "type": "scatterpolar"
           }
          ],
          "scatterpolargl": [
           {
            "marker": {
             "colorbar": {
              "outlinewidth": 0,
              "ticks": ""
             }
            },
            "type": "scatterpolargl"
           }
          ],
          "scatterternary": [
           {
            "marker": {
             "colorbar": {
              "outlinewidth": 0,
              "ticks": ""
             }
            },
            "type": "scatterternary"
           }
          ],
          "surface": [
           {
            "colorbar": {
             "outlinewidth": 0,
             "ticks": ""
            },
            "colorscale": [
             [
              0,
              "#0d0887"
             ],
             [
              0.1111111111111111,
              "#46039f"
             ],
             [
              0.2222222222222222,
              "#7201a8"
             ],
             [
              0.3333333333333333,
              "#9c179e"
             ],
             [
              0.4444444444444444,
              "#bd3786"
             ],
             [
              0.5555555555555556,
              "#d8576b"
             ],
             [
              0.6666666666666666,
              "#ed7953"
             ],
             [
              0.7777777777777778,
              "#fb9f3a"
             ],
             [
              0.8888888888888888,
              "#fdca26"
             ],
             [
              1,
              "#f0f921"
             ]
            ],
            "type": "surface"
           }
          ],
          "table": [
           {
            "cells": {
             "fill": {
              "color": "#EBF0F8"
             },
             "line": {
              "color": "white"
             }
            },
            "header": {
             "fill": {
              "color": "#C8D4E3"
             },
             "line": {
              "color": "white"
             }
            },
            "type": "table"
           }
          ]
         },
         "layout": {
          "annotationdefaults": {
           "arrowcolor": "#2a3f5f",
           "arrowhead": 0,
           "arrowwidth": 1
          },
          "autotypenumbers": "strict",
          "coloraxis": {
           "colorbar": {
            "outlinewidth": 0,
            "ticks": ""
           }
          },
          "colorscale": {
           "diverging": [
            [
             0,
             "#8e0152"
            ],
            [
             0.1,
             "#c51b7d"
            ],
            [
             0.2,
             "#de77ae"
            ],
            [
             0.3,
             "#f1b6da"
            ],
            [
             0.4,
             "#fde0ef"
            ],
            [
             0.5,
             "#f7f7f7"
            ],
            [
             0.6,
             "#e6f5d0"
            ],
            [
             0.7,
             "#b8e186"
            ],
            [
             0.8,
             "#7fbc41"
            ],
            [
             0.9,
             "#4d9221"
            ],
            [
             1,
             "#276419"
            ]
           ],
           "sequential": [
            [
             0,
             "#0d0887"
            ],
            [
             0.1111111111111111,
             "#46039f"
            ],
            [
             0.2222222222222222,
             "#7201a8"
            ],
            [
             0.3333333333333333,
             "#9c179e"
            ],
            [
             0.4444444444444444,
             "#bd3786"
            ],
            [
             0.5555555555555556,
             "#d8576b"
            ],
            [
             0.6666666666666666,
             "#ed7953"
            ],
            [
             0.7777777777777778,
             "#fb9f3a"
            ],
            [
             0.8888888888888888,
             "#fdca26"
            ],
            [
             1,
             "#f0f921"
            ]
           ],
           "sequentialminus": [
            [
             0,
             "#0d0887"
            ],
            [
             0.1111111111111111,
             "#46039f"
            ],
            [
             0.2222222222222222,
             "#7201a8"
            ],
            [
             0.3333333333333333,
             "#9c179e"
            ],
            [
             0.4444444444444444,
             "#bd3786"
            ],
            [
             0.5555555555555556,
             "#d8576b"
            ],
            [
             0.6666666666666666,
             "#ed7953"
            ],
            [
             0.7777777777777778,
             "#fb9f3a"
            ],
            [
             0.8888888888888888,
             "#fdca26"
            ],
            [
             1,
             "#f0f921"
            ]
           ]
          },
          "colorway": [
           "#636efa",
           "#EF553B",
           "#00cc96",
           "#ab63fa",
           "#FFA15A",
           "#19d3f3",
           "#FF6692",
           "#B6E880",
           "#FF97FF",
           "#FECB52"
          ],
          "font": {
           "color": "#2a3f5f"
          },
          "geo": {
           "bgcolor": "white",
           "lakecolor": "white",
           "landcolor": "#E5ECF6",
           "showlakes": true,
           "showland": true,
           "subunitcolor": "white"
          },
          "hoverlabel": {
           "align": "left"
          },
          "hovermode": "closest",
          "mapbox": {
           "style": "light"
          },
          "paper_bgcolor": "white",
          "plot_bgcolor": "#E5ECF6",
          "polar": {
           "angularaxis": {
            "gridcolor": "white",
            "linecolor": "white",
            "ticks": ""
           },
           "bgcolor": "#E5ECF6",
           "radialaxis": {
            "gridcolor": "white",
            "linecolor": "white",
            "ticks": ""
           }
          },
          "scene": {
           "xaxis": {
            "backgroundcolor": "#E5ECF6",
            "gridcolor": "white",
            "gridwidth": 2,
            "linecolor": "white",
            "showbackground": true,
            "ticks": "",
            "zerolinecolor": "white"
           },
           "yaxis": {
            "backgroundcolor": "#E5ECF6",
            "gridcolor": "white",
            "gridwidth": 2,
            "linecolor": "white",
            "showbackground": true,
            "ticks": "",
            "zerolinecolor": "white"
           },
           "zaxis": {
            "backgroundcolor": "#E5ECF6",
            "gridcolor": "white",
            "gridwidth": 2,
            "linecolor": "white",
            "showbackground": true,
            "ticks": "",
            "zerolinecolor": "white"
           }
          },
          "shapedefaults": {
           "line": {
            "color": "#2a3f5f"
           }
          },
          "ternary": {
           "aaxis": {
            "gridcolor": "white",
            "linecolor": "white",
            "ticks": ""
           },
           "baxis": {
            "gridcolor": "white",
            "linecolor": "white",
            "ticks": ""
           },
           "bgcolor": "#E5ECF6",
           "caxis": {
            "gridcolor": "white",
            "linecolor": "white",
            "ticks": ""
           }
          },
          "title": {
           "x": 0.05
          },
          "xaxis": {
           "automargin": true,
           "gridcolor": "white",
           "linecolor": "white",
           "ticks": "",
           "title": {
            "standoff": 15
           },
           "zerolinecolor": "white",
           "zerolinewidth": 2
          },
          "yaxis": {
           "automargin": true,
           "gridcolor": "white",
           "linecolor": "white",
           "ticks": "",
           "title": {
            "standoff": 15
           },
           "zerolinecolor": "white",
           "zerolinewidth": 2
          }
         }
        },
        "title": {
         "text": "Mariages en France depuis 2014"
        },
        "xaxis": {
         "anchor": "y",
         "domain": [
          0,
          1
         ],
         "title": {
          "text": "Année du mariage"
         }
        },
        "yaxis": {
         "anchor": "x",
         "domain": [
          0,
          1
         ],
         "title": {
          "text": "Nombre de mariages"
         }
        }
       }
      },
      "text/html": [
       "<div>                            <div id=\"3d6542e0-2560-44a4-8c4a-c85a9d220333\" class=\"plotly-graph-div\" style=\"height:525px; width:100%;\"></div>            <script type=\"text/javascript\">                require([\"plotly\"], function(Plotly) {                    window.PLOTLYENV=window.PLOTLYENV || {};                                    if (document.getElementById(\"3d6542e0-2560-44a4-8c4a-c85a9d220333\")) {                    Plotly.newPlot(                        \"3d6542e0-2560-44a4-8c4a-c85a9d220333\",                        [{\"hovertemplate\":\"variable=Homme_Homme<br>AMAR=%{x}<br>value=%{y}<extra></extra>\",\"legendgroup\":\"Homme_Homme\",\"line\":{\"color\":\"#636efa\",\"dash\":\"solid\"},\"marker\":{\"symbol\":\"circle\"},\"mode\":\"lines\",\"name\":\"Homme_Homme\",\"orientation\":\"v\",\"showlegend\":true,\"x\":[1946,1947,1948,1949,1950,1951,1952,1953,1954,1955,1956,1957,1958,1959,1960,1961,1962,1963,1964,1965,1966,1967,1968,1969,1970,1971,1972,1973,1974,1975,1976,1977,1978,1979,1980,1981,1982,1983,1984,1985,1986,1987,1988,1989,1990,1991,1992,1993,1994,1995,1996,1997,1998,1999,2000,2001,2002,2003,2004,2005,2006,2007,2008,2009,2010,2011,2012,2013,2014,2015,2016,2017,2018,2019,2020],\"xaxis\":\"x\",\"y\":[null,null,null,null,null,null,null,null,null,null,null,null,null,null,null,null,null,null,null,null,null,null,null,null,null,null,null,null,null,null,null,null,null,null,null,null,null,null,null,null,null,null,null,null,null,null,null,null,null,null,null,null,null,null,null,null,null,null,null,null,null,null,null,null,null,null,null,null,5672.0,4085.0,3672.0,3565.0,3268.0,3061.0,2241.0],\"yaxis\":\"y\",\"type\":\"scatter\"},{\"hovertemplate\":\"variable=Homme_Femme<br>AMAR=%{x}<br>value=%{y}<extra></extra>\",\"legendgroup\":\"Homme_Femme\",\"line\":{\"color\":\"#EF553B\",\"dash\":\"solid\"},\"marker\":{\"symbol\":\"circle\"},\"mode\":\"lines\",\"name\":\"Homme_Femme\",\"orientation\":\"v\",\"showlegend\":true,\"x\":[1946,1947,1948,1949,1950,1951,1952,1953,1954,1955,1956,1957,1958,1959,1960,1961,1962,1963,1964,1965,1966,1967,1968,1969,1970,1971,1972,1973,1974,1975,1976,1977,1978,1979,1980,1981,1982,1983,1984,1985,1986,1987,1988,1989,1990,1991,1992,1993,1994,1995,1996,1997,1998,1999,2000,2001,2002,2003,2004,2005,2006,2007,2008,2009,2010,2011,2012,2013,2014,2015,2016,2017,2018,2019,2020],\"xaxis\":\"x\",\"y\":[null,null,null,null,null,null,null,null,null,null,null,null,null,null,null,null,null,null,null,null,null,null,null,null,null,null,null,null,null,null,null,null,null,null,null,null,null,null,null,null,null,null,null,null,null,null,null,null,null,null,null,null,null,null,null,null,null,null,null,null,null,null,null,null,null,null,null,null,230954.0,228565.0,225612.0,224185.0,228349.0,218468.0,149983.0],\"yaxis\":\"y\",\"type\":\"scatter\"},{\"hovertemplate\":\"variable=Femme_Femme<br>AMAR=%{x}<br>value=%{y}<extra></extra>\",\"legendgroup\":\"Femme_Femme\",\"line\":{\"color\":\"#00cc96\",\"dash\":\"solid\"},\"marker\":{\"symbol\":\"circle\"},\"mode\":\"lines\",\"name\":\"Femme_Femme\",\"orientation\":\"v\",\"showlegend\":true,\"x\":[1946,1947,1948,1949,1950,1951,1952,1953,1954,1955,1956,1957,1958,1959,1960,1961,1962,1963,1964,1965,1966,1967,1968,1969,1970,1971,1972,1973,1974,1975,1976,1977,1978,1979,1980,1981,1982,1983,1984,1985,1986,1987,1988,1989,1990,1991,1992,1993,1994,1995,1996,1997,1998,1999,2000,2001,2002,2003,2004,2005,2006,2007,2008,2009,2010,2011,2012,2013,2014,2015,2016,2017,2018,2019,2020],\"xaxis\":\"x\",\"y\":[null,null,null,null,null,null,null,null,null,null,null,null,null,null,null,null,null,null,null,null,null,null,null,null,null,null,null,null,null,null,null,null,null,null,null,null,null,null,null,null,null,null,null,null,null,null,null,null,null,null,null,null,null,null,null,null,null,null,null,null,null,null,null,null,null,null,null,null,4858.0,3666.0,3441.0,3588.0,3118.0,3211.0,2357.0],\"yaxis\":\"y\",\"type\":\"scatter\"},{\"hovertemplate\":\"variable=TOTAL<br>AMAR=%{x}<br>value=%{y}<extra></extra>\",\"legendgroup\":\"TOTAL\",\"line\":{\"color\":\"#ab63fa\",\"dash\":\"solid\"},\"marker\":{\"symbol\":\"circle\"},\"mode\":\"lines\",\"name\":\"TOTAL\",\"orientation\":\"v\",\"showlegend\":true,\"x\":[1946,1947,1948,1949,1950,1951,1952,1953,1954,1955,1956,1957,1958,1959,1960,1961,1962,1963,1964,1965,1966,1967,1968,1969,1970,1971,1972,1973,1974,1975,1976,1977,1978,1979,1980,1981,1982,1983,1984,1985,1986,1987,1988,1989,1990,1991,1992,1993,1994,1995,1996,1997,1998,1999,2000,2001,2002,2003,2004,2005,2006,2007,2008,2009,2010,2011,2012,2013,2014,2015,2016,2017,2018,2019,2020],\"xaxis\":\"x\",\"y\":[516882.0,427113.0,370769.0,341091.0,331091.0,319651.0,313892.0,308426.0,314453.0,312703.0,293450.0,310509.0,312133.0,320821.0,319944.0,314841.0,316873.0,339463.0,347525.0,346308.0,339746.0,345578.0,356615.0,380829.0,393686.0,406416.0,416521.0,400740.0,394755.0,387379.0,374003.0,368166.0,354628.0,340405.0,334377.0,315117.0,312405.0,300513.0,281402.0,269419.0,265678.0,265177.0,271124.0,279900.0,287099.0,280175.0,271427.0,255190.0,253746.0,254651.0,280072.0,283984.0,271361.0,286191.0,297922.0,288255.0,279087.0,275963.0,271598.0,276303.0,267260.0,267194.0,258739.0,245151.0,245334.0,231100.0,239840.0,225784.0,241484.0,236316.0,232725.0,231338.0,234735.0,224740.0,154581.0],\"yaxis\":\"y\",\"type\":\"scatter\"}],                        {\"template\":{\"data\":{\"bar\":[{\"error_x\":{\"color\":\"#2a3f5f\"},\"error_y\":{\"color\":\"#2a3f5f\"},\"marker\":{\"line\":{\"color\":\"#E5ECF6\",\"width\":0.5},\"pattern\":{\"fillmode\":\"overlay\",\"size\":10,\"solidity\":0.2}},\"type\":\"bar\"}],\"barpolar\":[{\"marker\":{\"line\":{\"color\":\"#E5ECF6\",\"width\":0.5},\"pattern\":{\"fillmode\":\"overlay\",\"size\":10,\"solidity\":0.2}},\"type\":\"barpolar\"}],\"carpet\":[{\"aaxis\":{\"endlinecolor\":\"#2a3f5f\",\"gridcolor\":\"white\",\"linecolor\":\"white\",\"minorgridcolor\":\"white\",\"startlinecolor\":\"#2a3f5f\"},\"baxis\":{\"endlinecolor\":\"#2a3f5f\",\"gridcolor\":\"white\",\"linecolor\":\"white\",\"minorgridcolor\":\"white\",\"startlinecolor\":\"#2a3f5f\"},\"type\":\"carpet\"}],\"choropleth\":[{\"colorbar\":{\"outlinewidth\":0,\"ticks\":\"\"},\"type\":\"choropleth\"}],\"contour\":[{\"colorbar\":{\"outlinewidth\":0,\"ticks\":\"\"},\"colorscale\":[[0.0,\"#0d0887\"],[0.1111111111111111,\"#46039f\"],[0.2222222222222222,\"#7201a8\"],[0.3333333333333333,\"#9c179e\"],[0.4444444444444444,\"#bd3786\"],[0.5555555555555556,\"#d8576b\"],[0.6666666666666666,\"#ed7953\"],[0.7777777777777778,\"#fb9f3a\"],[0.8888888888888888,\"#fdca26\"],[1.0,\"#f0f921\"]],\"type\":\"contour\"}],\"contourcarpet\":[{\"colorbar\":{\"outlinewidth\":0,\"ticks\":\"\"},\"type\":\"contourcarpet\"}],\"heatmap\":[{\"colorbar\":{\"outlinewidth\":0,\"ticks\":\"\"},\"colorscale\":[[0.0,\"#0d0887\"],[0.1111111111111111,\"#46039f\"],[0.2222222222222222,\"#7201a8\"],[0.3333333333333333,\"#9c179e\"],[0.4444444444444444,\"#bd3786\"],[0.5555555555555556,\"#d8576b\"],[0.6666666666666666,\"#ed7953\"],[0.7777777777777778,\"#fb9f3a\"],[0.8888888888888888,\"#fdca26\"],[1.0,\"#f0f921\"]],\"type\":\"heatmap\"}],\"heatmapgl\":[{\"colorbar\":{\"outlinewidth\":0,\"ticks\":\"\"},\"colorscale\":[[0.0,\"#0d0887\"],[0.1111111111111111,\"#46039f\"],[0.2222222222222222,\"#7201a8\"],[0.3333333333333333,\"#9c179e\"],[0.4444444444444444,\"#bd3786\"],[0.5555555555555556,\"#d8576b\"],[0.6666666666666666,\"#ed7953\"],[0.7777777777777778,\"#fb9f3a\"],[0.8888888888888888,\"#fdca26\"],[1.0,\"#f0f921\"]],\"type\":\"heatmapgl\"}],\"histogram\":[{\"marker\":{\"pattern\":{\"fillmode\":\"overlay\",\"size\":10,\"solidity\":0.2}},\"type\":\"histogram\"}],\"histogram2d\":[{\"colorbar\":{\"outlinewidth\":0,\"ticks\":\"\"},\"colorscale\":[[0.0,\"#0d0887\"],[0.1111111111111111,\"#46039f\"],[0.2222222222222222,\"#7201a8\"],[0.3333333333333333,\"#9c179e\"],[0.4444444444444444,\"#bd3786\"],[0.5555555555555556,\"#d8576b\"],[0.6666666666666666,\"#ed7953\"],[0.7777777777777778,\"#fb9f3a\"],[0.8888888888888888,\"#fdca26\"],[1.0,\"#f0f921\"]],\"type\":\"histogram2d\"}],\"histogram2dcontour\":[{\"colorbar\":{\"outlinewidth\":0,\"ticks\":\"\"},\"colorscale\":[[0.0,\"#0d0887\"],[0.1111111111111111,\"#46039f\"],[0.2222222222222222,\"#7201a8\"],[0.3333333333333333,\"#9c179e\"],[0.4444444444444444,\"#bd3786\"],[0.5555555555555556,\"#d8576b\"],[0.6666666666666666,\"#ed7953\"],[0.7777777777777778,\"#fb9f3a\"],[0.8888888888888888,\"#fdca26\"],[1.0,\"#f0f921\"]],\"type\":\"histogram2dcontour\"}],\"mesh3d\":[{\"colorbar\":{\"outlinewidth\":0,\"ticks\":\"\"},\"type\":\"mesh3d\"}],\"parcoords\":[{\"line\":{\"colorbar\":{\"outlinewidth\":0,\"ticks\":\"\"}},\"type\":\"parcoords\"}],\"pie\":[{\"automargin\":true,\"type\":\"pie\"}],\"scatter\":[{\"marker\":{\"colorbar\":{\"outlinewidth\":0,\"ticks\":\"\"}},\"type\":\"scatter\"}],\"scatter3d\":[{\"line\":{\"colorbar\":{\"outlinewidth\":0,\"ticks\":\"\"}},\"marker\":{\"colorbar\":{\"outlinewidth\":0,\"ticks\":\"\"}},\"type\":\"scatter3d\"}],\"scattercarpet\":[{\"marker\":{\"colorbar\":{\"outlinewidth\":0,\"ticks\":\"\"}},\"type\":\"scattercarpet\"}],\"scattergeo\":[{\"marker\":{\"colorbar\":{\"outlinewidth\":0,\"ticks\":\"\"}},\"type\":\"scattergeo\"}],\"scattergl\":[{\"marker\":{\"colorbar\":{\"outlinewidth\":0,\"ticks\":\"\"}},\"type\":\"scattergl\"}],\"scattermapbox\":[{\"marker\":{\"colorbar\":{\"outlinewidth\":0,\"ticks\":\"\"}},\"type\":\"scattermapbox\"}],\"scatterpolar\":[{\"marker\":{\"colorbar\":{\"outlinewidth\":0,\"ticks\":\"\"}},\"type\":\"scatterpolar\"}],\"scatterpolargl\":[{\"marker\":{\"colorbar\":{\"outlinewidth\":0,\"ticks\":\"\"}},\"type\":\"scatterpolargl\"}],\"scatterternary\":[{\"marker\":{\"colorbar\":{\"outlinewidth\":0,\"ticks\":\"\"}},\"type\":\"scatterternary\"}],\"surface\":[{\"colorbar\":{\"outlinewidth\":0,\"ticks\":\"\"},\"colorscale\":[[0.0,\"#0d0887\"],[0.1111111111111111,\"#46039f\"],[0.2222222222222222,\"#7201a8\"],[0.3333333333333333,\"#9c179e\"],[0.4444444444444444,\"#bd3786\"],[0.5555555555555556,\"#d8576b\"],[0.6666666666666666,\"#ed7953\"],[0.7777777777777778,\"#fb9f3a\"],[0.8888888888888888,\"#fdca26\"],[1.0,\"#f0f921\"]],\"type\":\"surface\"}],\"table\":[{\"cells\":{\"fill\":{\"color\":\"#EBF0F8\"},\"line\":{\"color\":\"white\"}},\"header\":{\"fill\":{\"color\":\"#C8D4E3\"},\"line\":{\"color\":\"white\"}},\"type\":\"table\"}]},\"layout\":{\"annotationdefaults\":{\"arrowcolor\":\"#2a3f5f\",\"arrowhead\":0,\"arrowwidth\":1},\"autotypenumbers\":\"strict\",\"coloraxis\":{\"colorbar\":{\"outlinewidth\":0,\"ticks\":\"\"}},\"colorscale\":{\"diverging\":[[0,\"#8e0152\"],[0.1,\"#c51b7d\"],[0.2,\"#de77ae\"],[0.3,\"#f1b6da\"],[0.4,\"#fde0ef\"],[0.5,\"#f7f7f7\"],[0.6,\"#e6f5d0\"],[0.7,\"#b8e186\"],[0.8,\"#7fbc41\"],[0.9,\"#4d9221\"],[1,\"#276419\"]],\"sequential\":[[0.0,\"#0d0887\"],[0.1111111111111111,\"#46039f\"],[0.2222222222222222,\"#7201a8\"],[0.3333333333333333,\"#9c179e\"],[0.4444444444444444,\"#bd3786\"],[0.5555555555555556,\"#d8576b\"],[0.6666666666666666,\"#ed7953\"],[0.7777777777777778,\"#fb9f3a\"],[0.8888888888888888,\"#fdca26\"],[1.0,\"#f0f921\"]],\"sequentialminus\":[[0.0,\"#0d0887\"],[0.1111111111111111,\"#46039f\"],[0.2222222222222222,\"#7201a8\"],[0.3333333333333333,\"#9c179e\"],[0.4444444444444444,\"#bd3786\"],[0.5555555555555556,\"#d8576b\"],[0.6666666666666666,\"#ed7953\"],[0.7777777777777778,\"#fb9f3a\"],[0.8888888888888888,\"#fdca26\"],[1.0,\"#f0f921\"]]},\"colorway\":[\"#636efa\",\"#EF553B\",\"#00cc96\",\"#ab63fa\",\"#FFA15A\",\"#19d3f3\",\"#FF6692\",\"#B6E880\",\"#FF97FF\",\"#FECB52\"],\"font\":{\"color\":\"#2a3f5f\"},\"geo\":{\"bgcolor\":\"white\",\"lakecolor\":\"white\",\"landcolor\":\"#E5ECF6\",\"showlakes\":true,\"showland\":true,\"subunitcolor\":\"white\"},\"hoverlabel\":{\"align\":\"left\"},\"hovermode\":\"closest\",\"mapbox\":{\"style\":\"light\"},\"paper_bgcolor\":\"white\",\"plot_bgcolor\":\"#E5ECF6\",\"polar\":{\"angularaxis\":{\"gridcolor\":\"white\",\"linecolor\":\"white\",\"ticks\":\"\"},\"bgcolor\":\"#E5ECF6\",\"radialaxis\":{\"gridcolor\":\"white\",\"linecolor\":\"white\",\"ticks\":\"\"}},\"scene\":{\"xaxis\":{\"backgroundcolor\":\"#E5ECF6\",\"gridcolor\":\"white\",\"gridwidth\":2,\"linecolor\":\"white\",\"showbackground\":true,\"ticks\":\"\",\"zerolinecolor\":\"white\"},\"yaxis\":{\"backgroundcolor\":\"#E5ECF6\",\"gridcolor\":\"white\",\"gridwidth\":2,\"linecolor\":\"white\",\"showbackground\":true,\"ticks\":\"\",\"zerolinecolor\":\"white\"},\"zaxis\":{\"backgroundcolor\":\"#E5ECF6\",\"gridcolor\":\"white\",\"gridwidth\":2,\"linecolor\":\"white\",\"showbackground\":true,\"ticks\":\"\",\"zerolinecolor\":\"white\"}},\"shapedefaults\":{\"line\":{\"color\":\"#2a3f5f\"}},\"ternary\":{\"aaxis\":{\"gridcolor\":\"white\",\"linecolor\":\"white\",\"ticks\":\"\"},\"baxis\":{\"gridcolor\":\"white\",\"linecolor\":\"white\",\"ticks\":\"\"},\"bgcolor\":\"#E5ECF6\",\"caxis\":{\"gridcolor\":\"white\",\"linecolor\":\"white\",\"ticks\":\"\"}},\"title\":{\"x\":0.05},\"xaxis\":{\"automargin\":true,\"gridcolor\":\"white\",\"linecolor\":\"white\",\"ticks\":\"\",\"title\":{\"standoff\":15},\"zerolinecolor\":\"white\",\"zerolinewidth\":2},\"yaxis\":{\"automargin\":true,\"gridcolor\":\"white\",\"linecolor\":\"white\",\"ticks\":\"\",\"title\":{\"standoff\":15},\"zerolinecolor\":\"white\",\"zerolinewidth\":2}}},\"xaxis\":{\"anchor\":\"y\",\"domain\":[0.0,1.0],\"title\":{\"text\":\"Ann\\u00e9e du mariage\"}},\"yaxis\":{\"anchor\":\"x\",\"domain\":[0.0,1.0],\"title\":{\"text\":\"Nombre de mariages\"}},\"legend\":{\"title\":{\"text\":\"Type de mariage\"},\"tracegroupgap\":0},\"margin\":{\"t\":60},\"title\":{\"text\":\"Mariages en France depuis 2014\"}},                        {\"responsive\": true}                    ).then(function(){\n",
       "                            \n",
       "var gd = document.getElementById('3d6542e0-2560-44a4-8c4a-c85a9d220333');\n",
       "var x = new MutationObserver(function (mutations, observer) {{\n",
       "        var display = window.getComputedStyle(gd).display;\n",
       "        if (!display || display === 'none') {{\n",
       "            console.log([gd, 'removed!']);\n",
       "            Plotly.purge(gd);\n",
       "            observer.disconnect();\n",
       "        }}\n",
       "}});\n",
       "\n",
       "// Listen for the removal of the full notebook cells\n",
       "var notebookContainer = gd.closest('#notebook-container');\n",
       "if (notebookContainer) {{\n",
       "    x.observe(notebookContainer, {childList: true});\n",
       "}}\n",
       "\n",
       "// Listen for the clearing of the current output cell\n",
       "var outputEl = gd.closest('.output');\n",
       "if (outputEl) {{\n",
       "    x.observe(outputEl, {childList: true});\n",
       "}}\n",
       "\n",
       "                        })                };                });            </script>        </div>"
      ]
     },
     "metadata": {},
     "output_type": "display_data"
    }
   ],
   "source": [
    "fig = px.line(df, x='AMAR', y=['Homme_Homme', 'Homme_Femme', 'Femme_Femme','TOTAL'])\n",
    "fig.update_layout(\n",
    "    title = 'Mariages en France depuis 2014',\n",
    "    xaxis = dict(title = 'Année du mariage'),\n",
    "    yaxis = dict(title = 'Nombre de mariages'), \n",
    "    legend = dict(title = 'Type de mariage')\n",
    "    \n",
    ")"
   ]
  },
  {
   "cell_type": "code",
   "execution_count": 164,
   "metadata": {},
   "outputs": [
    {
     "data": {
      "text/html": [
       "<div>\n",
       "<style scoped>\n",
       "    .dataframe tbody tr th:only-of-type {\n",
       "        vertical-align: middle;\n",
       "    }\n",
       "\n",
       "    .dataframe tbody tr th {\n",
       "        vertical-align: top;\n",
       "    }\n",
       "\n",
       "    .dataframe thead th {\n",
       "        text-align: right;\n",
       "    }\n",
       "</style>\n",
       "<table border=\"1\" class=\"dataframe\">\n",
       "  <thead>\n",
       "    <tr style=\"text-align: right;\">\n",
       "      <th></th>\n",
       "      <th>AMAR</th>\n",
       "      <th>Pacs de personnes de sexe différent</th>\n",
       "      <th>Pacs de personnes de même sexe</th>\n",
       "      <th>Ensemble des Pacs</th>\n",
       "    </tr>\n",
       "  </thead>\n",
       "  <tbody>\n",
       "    <tr>\n",
       "      <th>1</th>\n",
       "      <td>2020</td>\n",
       "      <td>165911</td>\n",
       "      <td>7983</td>\n",
       "      <td>173894</td>\n",
       "    </tr>\n",
       "    <tr>\n",
       "      <th>2</th>\n",
       "      <td>2019</td>\n",
       "      <td>188014</td>\n",
       "      <td>8356</td>\n",
       "      <td>196370</td>\n",
       "    </tr>\n",
       "    <tr>\n",
       "      <th>3</th>\n",
       "      <td>2018</td>\n",
       "      <td>200282</td>\n",
       "      <td>8589</td>\n",
       "      <td>208871</td>\n",
       "    </tr>\n",
       "    <tr>\n",
       "      <th>4</th>\n",
       "      <td>2017</td>\n",
       "      <td>188233</td>\n",
       "      <td>7400</td>\n",
       "      <td>195633</td>\n",
       "    </tr>\n",
       "    <tr>\n",
       "      <th>5</th>\n",
       "      <td>2016</td>\n",
       "      <td>184425</td>\n",
       "      <td>7112</td>\n",
       "      <td>191537</td>\n",
       "    </tr>\n",
       "    <tr>\n",
       "      <th>6</th>\n",
       "      <td>2015</td>\n",
       "      <td>181930</td>\n",
       "      <td>7017</td>\n",
       "      <td>188947</td>\n",
       "    </tr>\n",
       "    <tr>\n",
       "      <th>7</th>\n",
       "      <td>2014</td>\n",
       "      <td>167469</td>\n",
       "      <td>6262</td>\n",
       "      <td>173731</td>\n",
       "    </tr>\n",
       "    <tr>\n",
       "      <th>8</th>\n",
       "      <td>2013</td>\n",
       "      <td>162609</td>\n",
       "      <td>6083</td>\n",
       "      <td>168692</td>\n",
       "    </tr>\n",
       "    <tr>\n",
       "      <th>9</th>\n",
       "      <td>2012</td>\n",
       "      <td>153715</td>\n",
       "      <td>6975</td>\n",
       "      <td>160690</td>\n",
       "    </tr>\n",
       "    <tr>\n",
       "      <th>10</th>\n",
       "      <td>2011</td>\n",
       "      <td>144714</td>\n",
       "      <td>7499</td>\n",
       "      <td>152213</td>\n",
       "    </tr>\n",
       "    <tr>\n",
       "      <th>11</th>\n",
       "      <td>2010</td>\n",
       "      <td>196405</td>\n",
       "      <td>9145</td>\n",
       "      <td>205550</td>\n",
       "    </tr>\n",
       "    <tr>\n",
       "      <th>12</th>\n",
       "      <td>2009</td>\n",
       "      <td>166192</td>\n",
       "      <td>8437</td>\n",
       "      <td>174629</td>\n",
       "    </tr>\n",
       "    <tr>\n",
       "      <th>13</th>\n",
       "      <td>2008</td>\n",
       "      <td>137766</td>\n",
       "      <td>8194</td>\n",
       "      <td>145960</td>\n",
       "    </tr>\n",
       "    <tr>\n",
       "      <th>14</th>\n",
       "      <td>2007</td>\n",
       "      <td>95772</td>\n",
       "      <td>6206</td>\n",
       "      <td>101978</td>\n",
       "    </tr>\n",
       "    <tr>\n",
       "      <th>15</th>\n",
       "      <td>2006</td>\n",
       "      <td>72276</td>\n",
       "      <td>5071</td>\n",
       "      <td>77347</td>\n",
       "    </tr>\n",
       "    <tr>\n",
       "      <th>16</th>\n",
       "      <td>2005</td>\n",
       "      <td>55597</td>\n",
       "      <td>4865</td>\n",
       "      <td>60462</td>\n",
       "    </tr>\n",
       "    <tr>\n",
       "      <th>17</th>\n",
       "      <td>2004</td>\n",
       "      <td>35057</td>\n",
       "      <td>5023</td>\n",
       "      <td>40080</td>\n",
       "    </tr>\n",
       "    <tr>\n",
       "      <th>18</th>\n",
       "      <td>2003</td>\n",
       "      <td>27276</td>\n",
       "      <td>4294</td>\n",
       "      <td>31570</td>\n",
       "    </tr>\n",
       "    <tr>\n",
       "      <th>19</th>\n",
       "      <td>2002</td>\n",
       "      <td>21683</td>\n",
       "      <td>3622</td>\n",
       "      <td>25305</td>\n",
       "    </tr>\n",
       "    <tr>\n",
       "      <th>20</th>\n",
       "      <td>2001</td>\n",
       "      <td>16306</td>\n",
       "      <td>3323</td>\n",
       "      <td>19629</td>\n",
       "    </tr>\n",
       "    <tr>\n",
       "      <th>21</th>\n",
       "      <td>2000</td>\n",
       "      <td>16859</td>\n",
       "      <td>5412</td>\n",
       "      <td>22271</td>\n",
       "    </tr>\n",
       "    <tr>\n",
       "      <th>22</th>\n",
       "      <td>1999</td>\n",
       "      <td>3551</td>\n",
       "      <td>2600</td>\n",
       "      <td>6151</td>\n",
       "    </tr>\n",
       "  </tbody>\n",
       "</table>\n",
       "</div>"
      ],
      "text/plain": [
       "    AMAR Pacs de personnes de sexe différent Pacs de personnes de même sexe  \\\n",
       "1   2020                              165911                           7983   \n",
       "2   2019                              188014                           8356   \n",
       "3   2018                              200282                           8589   \n",
       "4   2017                              188233                           7400   \n",
       "5   2016                              184425                           7112   \n",
       "6   2015                              181930                           7017   \n",
       "7   2014                              167469                           6262   \n",
       "8   2013                              162609                           6083   \n",
       "9   2012                              153715                           6975   \n",
       "10  2011                              144714                           7499   \n",
       "11  2010                              196405                           9145   \n",
       "12  2009                              166192                           8437   \n",
       "13  2008                              137766                           8194   \n",
       "14  2007                               95772                           6206   \n",
       "15  2006                               72276                           5071   \n",
       "16  2005                               55597                           4865   \n",
       "17  2004                               35057                           5023   \n",
       "18  2003                               27276                           4294   \n",
       "19  2002                               21683                           3622   \n",
       "20  2001                               16306                           3323   \n",
       "21  2000                               16859                           5412   \n",
       "22  1999                                3551                           2600   \n",
       "\n",
       "   Ensemble des Pacs  \n",
       "1             173894  \n",
       "2             196370  \n",
       "3             208871  \n",
       "4             195633  \n",
       "5             191537  \n",
       "6             188947  \n",
       "7             173731  \n",
       "8             168692  \n",
       "9             160690  \n",
       "10            152213  \n",
       "11            205550  \n",
       "12            174629  \n",
       "13            145960  \n",
       "14            101978  \n",
       "15             77347  \n",
       "16             60462  \n",
       "17             40080  \n",
       "18             31570  \n",
       "19             25305  \n",
       "20             19629  \n",
       "21             22271  \n",
       "22              6151  "
      ]
     },
     "execution_count": 164,
     "metadata": {},
     "output_type": "execute_result"
    }
   ],
   "source": [
    "m = pd.read_excel('../data/ensemble des pacs.xlsx', skiprows = {0, 1, 2},  skipfooter = 16,usecols = { 'Unnamed: 0','Pacs de personnes de sexe différent', 'Pacs de personnes de même sexe', 'Ensemble des Pacs'})\n",
    "m = m.rename(columns={\"Unnamed: 0\": \"AMAR\"})\n",
    "m = m.drop([0])\n",
    "m"
   ]
  },
  {
   "cell_type": "code",
   "execution_count": 168,
   "metadata": {},
   "outputs": [
    {
     "data": {
      "text/html": [
       "<div>\n",
       "<style scoped>\n",
       "    .dataframe tbody tr th:only-of-type {\n",
       "        vertical-align: middle;\n",
       "    }\n",
       "\n",
       "    .dataframe tbody tr th {\n",
       "        vertical-align: top;\n",
       "    }\n",
       "\n",
       "    .dataframe thead th {\n",
       "        text-align: right;\n",
       "    }\n",
       "</style>\n",
       "<table border=\"1\" class=\"dataframe\">\n",
       "  <thead>\n",
       "    <tr style=\"text-align: right;\">\n",
       "      <th></th>\n",
       "      <th>AMAR</th>\n",
       "      <th>Homme_Homme</th>\n",
       "      <th>Femme_Femme</th>\n",
       "      <th>Homme_Femme</th>\n",
       "      <th>TOTAL</th>\n",
       "      <th>Pacs de personnes de sexe différent</th>\n",
       "      <th>Pacs de personnes de même sexe</th>\n",
       "      <th>Ensemble des Pacs</th>\n",
       "      <th>Ensemble des mariages de l'année</th>\n",
       "      <th>Janvier</th>\n",
       "      <th>...</th>\n",
       "      <th>Mars</th>\n",
       "      <th>Avril</th>\n",
       "      <th>Mai</th>\n",
       "      <th>Juin</th>\n",
       "      <th>Juillet</th>\n",
       "      <th>Août</th>\n",
       "      <th>Septembre</th>\n",
       "      <th>Octobre</th>\n",
       "      <th>Novembre</th>\n",
       "      <th>Décembre</th>\n",
       "    </tr>\n",
       "  </thead>\n",
       "  <tbody>\n",
       "    <tr>\n",
       "      <th>0</th>\n",
       "      <td>1946</td>\n",
       "      <td>NaN</td>\n",
       "      <td>NaN</td>\n",
       "      <td>NaN</td>\n",
       "      <td>516882.0</td>\n",
       "      <td>NaN</td>\n",
       "      <td>NaN</td>\n",
       "      <td>0</td>\n",
       "      <td>516882.0</td>\n",
       "      <td>27260.0</td>\n",
       "      <td>...</td>\n",
       "      <td>36387.0</td>\n",
       "      <td>62285.0</td>\n",
       "      <td>33341.0</td>\n",
       "      <td>55776.0</td>\n",
       "      <td>43187.0</td>\n",
       "      <td>48133.0</td>\n",
       "      <td>53865.0</td>\n",
       "      <td>52922.0</td>\n",
       "      <td>36648.0</td>\n",
       "      <td>34653.0</td>\n",
       "    </tr>\n",
       "    <tr>\n",
       "      <th>1</th>\n",
       "      <td>1947</td>\n",
       "      <td>NaN</td>\n",
       "      <td>NaN</td>\n",
       "      <td>NaN</td>\n",
       "      <td>427113.0</td>\n",
       "      <td>NaN</td>\n",
       "      <td>NaN</td>\n",
       "      <td>0</td>\n",
       "      <td>427113.0</td>\n",
       "      <td>22627.0</td>\n",
       "      <td>...</td>\n",
       "      <td>23632.0</td>\n",
       "      <td>62296.0</td>\n",
       "      <td>27973.0</td>\n",
       "      <td>41026.0</td>\n",
       "      <td>37695.0</td>\n",
       "      <td>39301.0</td>\n",
       "      <td>43481.0</td>\n",
       "      <td>43659.0</td>\n",
       "      <td>30187.0</td>\n",
       "      <td>28604.0</td>\n",
       "    </tr>\n",
       "    <tr>\n",
       "      <th>2</th>\n",
       "      <td>1948</td>\n",
       "      <td>NaN</td>\n",
       "      <td>NaN</td>\n",
       "      <td>NaN</td>\n",
       "      <td>370769.0</td>\n",
       "      <td>NaN</td>\n",
       "      <td>NaN</td>\n",
       "      <td>0</td>\n",
       "      <td>370769.0</td>\n",
       "      <td>22179.0</td>\n",
       "      <td>...</td>\n",
       "      <td>23226.0</td>\n",
       "      <td>51358.0</td>\n",
       "      <td>21962.0</td>\n",
       "      <td>35083.0</td>\n",
       "      <td>36842.0</td>\n",
       "      <td>30497.0</td>\n",
       "      <td>37675.0</td>\n",
       "      <td>39435.0</td>\n",
       "      <td>24611.0</td>\n",
       "      <td>26810.0</td>\n",
       "    </tr>\n",
       "    <tr>\n",
       "      <th>3</th>\n",
       "      <td>1949</td>\n",
       "      <td>NaN</td>\n",
       "      <td>NaN</td>\n",
       "      <td>NaN</td>\n",
       "      <td>341091.0</td>\n",
       "      <td>NaN</td>\n",
       "      <td>NaN</td>\n",
       "      <td>0</td>\n",
       "      <td>341091.0</td>\n",
       "      <td>18568.0</td>\n",
       "      <td>...</td>\n",
       "      <td>17038.0</td>\n",
       "      <td>45649.0</td>\n",
       "      <td>19004.0</td>\n",
       "      <td>32770.0</td>\n",
       "      <td>33512.0</td>\n",
       "      <td>29181.0</td>\n",
       "      <td>34261.0</td>\n",
       "      <td>37458.0</td>\n",
       "      <td>22765.0</td>\n",
       "      <td>27476.0</td>\n",
       "    </tr>\n",
       "    <tr>\n",
       "      <th>4</th>\n",
       "      <td>1950</td>\n",
       "      <td>NaN</td>\n",
       "      <td>NaN</td>\n",
       "      <td>NaN</td>\n",
       "      <td>331091.0</td>\n",
       "      <td>NaN</td>\n",
       "      <td>NaN</td>\n",
       "      <td>0</td>\n",
       "      <td>331091.0</td>\n",
       "      <td>18002.0</td>\n",
       "      <td>...</td>\n",
       "      <td>15813.0</td>\n",
       "      <td>46870.0</td>\n",
       "      <td>17569.0</td>\n",
       "      <td>30083.0</td>\n",
       "      <td>32933.0</td>\n",
       "      <td>28629.0</td>\n",
       "      <td>36509.0</td>\n",
       "      <td>33810.0</td>\n",
       "      <td>21015.0</td>\n",
       "      <td>28574.0</td>\n",
       "    </tr>\n",
       "    <tr>\n",
       "      <th>...</th>\n",
       "      <td>...</td>\n",
       "      <td>...</td>\n",
       "      <td>...</td>\n",
       "      <td>...</td>\n",
       "      <td>...</td>\n",
       "      <td>...</td>\n",
       "      <td>...</td>\n",
       "      <td>...</td>\n",
       "      <td>...</td>\n",
       "      <td>...</td>\n",
       "      <td>...</td>\n",
       "      <td>...</td>\n",
       "      <td>...</td>\n",
       "      <td>...</td>\n",
       "      <td>...</td>\n",
       "      <td>...</td>\n",
       "      <td>...</td>\n",
       "      <td>...</td>\n",
       "      <td>...</td>\n",
       "      <td>...</td>\n",
       "      <td>...</td>\n",
       "    </tr>\n",
       "    <tr>\n",
       "      <th>4</th>\n",
       "      <td>2018</td>\n",
       "      <td>3268.0</td>\n",
       "      <td>3118.0</td>\n",
       "      <td>228349.0</td>\n",
       "      <td>234735.0</td>\n",
       "      <td>NaN</td>\n",
       "      <td>NaN</td>\n",
       "      <td>0</td>\n",
       "      <td>0.0</td>\n",
       "      <td>NaN</td>\n",
       "      <td>...</td>\n",
       "      <td>NaN</td>\n",
       "      <td>NaN</td>\n",
       "      <td>NaN</td>\n",
       "      <td>NaN</td>\n",
       "      <td>NaN</td>\n",
       "      <td>NaN</td>\n",
       "      <td>NaN</td>\n",
       "      <td>NaN</td>\n",
       "      <td>NaN</td>\n",
       "      <td>NaN</td>\n",
       "    </tr>\n",
       "    <tr>\n",
       "      <th>2</th>\n",
       "      <td>2019</td>\n",
       "      <td>NaN</td>\n",
       "      <td>NaN</td>\n",
       "      <td>NaN</td>\n",
       "      <td>0.0</td>\n",
       "      <td>188014</td>\n",
       "      <td>8356</td>\n",
       "      <td>196370</td>\n",
       "      <td>0.0</td>\n",
       "      <td>NaN</td>\n",
       "      <td>...</td>\n",
       "      <td>NaN</td>\n",
       "      <td>NaN</td>\n",
       "      <td>NaN</td>\n",
       "      <td>NaN</td>\n",
       "      <td>NaN</td>\n",
       "      <td>NaN</td>\n",
       "      <td>NaN</td>\n",
       "      <td>NaN</td>\n",
       "      <td>NaN</td>\n",
       "      <td>NaN</td>\n",
       "    </tr>\n",
       "    <tr>\n",
       "      <th>5</th>\n",
       "      <td>2019</td>\n",
       "      <td>3061.0</td>\n",
       "      <td>3211.0</td>\n",
       "      <td>218468.0</td>\n",
       "      <td>224740.0</td>\n",
       "      <td>NaN</td>\n",
       "      <td>NaN</td>\n",
       "      <td>0</td>\n",
       "      <td>0.0</td>\n",
       "      <td>NaN</td>\n",
       "      <td>...</td>\n",
       "      <td>NaN</td>\n",
       "      <td>NaN</td>\n",
       "      <td>NaN</td>\n",
       "      <td>NaN</td>\n",
       "      <td>NaN</td>\n",
       "      <td>NaN</td>\n",
       "      <td>NaN</td>\n",
       "      <td>NaN</td>\n",
       "      <td>NaN</td>\n",
       "      <td>NaN</td>\n",
       "    </tr>\n",
       "    <tr>\n",
       "      <th>1</th>\n",
       "      <td>2020</td>\n",
       "      <td>NaN</td>\n",
       "      <td>NaN</td>\n",
       "      <td>NaN</td>\n",
       "      <td>0.0</td>\n",
       "      <td>165911</td>\n",
       "      <td>7983</td>\n",
       "      <td>173894</td>\n",
       "      <td>0.0</td>\n",
       "      <td>NaN</td>\n",
       "      <td>...</td>\n",
       "      <td>NaN</td>\n",
       "      <td>NaN</td>\n",
       "      <td>NaN</td>\n",
       "      <td>NaN</td>\n",
       "      <td>NaN</td>\n",
       "      <td>NaN</td>\n",
       "      <td>NaN</td>\n",
       "      <td>NaN</td>\n",
       "      <td>NaN</td>\n",
       "      <td>NaN</td>\n",
       "    </tr>\n",
       "    <tr>\n",
       "      <th>6</th>\n",
       "      <td>2020</td>\n",
       "      <td>2241.0</td>\n",
       "      <td>2357.0</td>\n",
       "      <td>149983.0</td>\n",
       "      <td>154581.0</td>\n",
       "      <td>NaN</td>\n",
       "      <td>NaN</td>\n",
       "      <td>0</td>\n",
       "      <td>0.0</td>\n",
       "      <td>NaN</td>\n",
       "      <td>...</td>\n",
       "      <td>NaN</td>\n",
       "      <td>NaN</td>\n",
       "      <td>NaN</td>\n",
       "      <td>NaN</td>\n",
       "      <td>NaN</td>\n",
       "      <td>NaN</td>\n",
       "      <td>NaN</td>\n",
       "      <td>NaN</td>\n",
       "      <td>NaN</td>\n",
       "      <td>NaN</td>\n",
       "    </tr>\n",
       "  </tbody>\n",
       "</table>\n",
       "<p>97 rows × 21 columns</p>\n",
       "</div>"
      ],
      "text/plain": [
       "    AMAR  Homme_Homme  Femme_Femme  Homme_Femme     TOTAL  \\\n",
       "0   1946          NaN          NaN          NaN  516882.0   \n",
       "1   1947          NaN          NaN          NaN  427113.0   \n",
       "2   1948          NaN          NaN          NaN  370769.0   \n",
       "3   1949          NaN          NaN          NaN  341091.0   \n",
       "4   1950          NaN          NaN          NaN  331091.0   \n",
       "..   ...          ...          ...          ...       ...   \n",
       "4   2018       3268.0       3118.0     228349.0  234735.0   \n",
       "2   2019          NaN          NaN          NaN       0.0   \n",
       "5   2019       3061.0       3211.0     218468.0  224740.0   \n",
       "1   2020          NaN          NaN          NaN       0.0   \n",
       "6   2020       2241.0       2357.0     149983.0  154581.0   \n",
       "\n",
       "   Pacs de personnes de sexe différent Pacs de personnes de même sexe  \\\n",
       "0                                  NaN                            NaN   \n",
       "1                                  NaN                            NaN   \n",
       "2                                  NaN                            NaN   \n",
       "3                                  NaN                            NaN   \n",
       "4                                  NaN                            NaN   \n",
       "..                                 ...                            ...   \n",
       "4                                  NaN                            NaN   \n",
       "2                               188014                           8356   \n",
       "5                                  NaN                            NaN   \n",
       "1                               165911                           7983   \n",
       "6                                  NaN                            NaN   \n",
       "\n",
       "    Ensemble des Pacs  Ensemble des mariages de l'année  Janvier  ...  \\\n",
       "0                   0                          516882.0  27260.0  ...   \n",
       "1                   0                          427113.0  22627.0  ...   \n",
       "2                   0                          370769.0  22179.0  ...   \n",
       "3                   0                          341091.0  18568.0  ...   \n",
       "4                   0                          331091.0  18002.0  ...   \n",
       "..                ...                               ...      ...  ...   \n",
       "4                   0                               0.0      NaN  ...   \n",
       "2              196370                               0.0      NaN  ...   \n",
       "5                   0                               0.0      NaN  ...   \n",
       "1              173894                               0.0      NaN  ...   \n",
       "6                   0                               0.0      NaN  ...   \n",
       "\n",
       "       Mars    Avril      Mai     Juin  Juillet     Août  Septembre  Octobre  \\\n",
       "0   36387.0  62285.0  33341.0  55776.0  43187.0  48133.0    53865.0  52922.0   \n",
       "1   23632.0  62296.0  27973.0  41026.0  37695.0  39301.0    43481.0  43659.0   \n",
       "2   23226.0  51358.0  21962.0  35083.0  36842.0  30497.0    37675.0  39435.0   \n",
       "3   17038.0  45649.0  19004.0  32770.0  33512.0  29181.0    34261.0  37458.0   \n",
       "4   15813.0  46870.0  17569.0  30083.0  32933.0  28629.0    36509.0  33810.0   \n",
       "..      ...      ...      ...      ...      ...      ...        ...      ...   \n",
       "4       NaN      NaN      NaN      NaN      NaN      NaN        NaN      NaN   \n",
       "2       NaN      NaN      NaN      NaN      NaN      NaN        NaN      NaN   \n",
       "5       NaN      NaN      NaN      NaN      NaN      NaN        NaN      NaN   \n",
       "1       NaN      NaN      NaN      NaN      NaN      NaN        NaN      NaN   \n",
       "6       NaN      NaN      NaN      NaN      NaN      NaN        NaN      NaN   \n",
       "\n",
       "    Novembre  Décembre  \n",
       "0    36648.0   34653.0  \n",
       "1    30187.0   28604.0  \n",
       "2    24611.0   26810.0  \n",
       "3    22765.0   27476.0  \n",
       "4    21015.0   28574.0  \n",
       "..       ...       ...  \n",
       "4        NaN       NaN  \n",
       "2        NaN       NaN  \n",
       "5        NaN       NaN  \n",
       "1        NaN       NaN  \n",
       "6        NaN       NaN  \n",
       "\n",
       "[97 rows x 21 columns]"
      ]
     },
     "execution_count": 168,
     "metadata": {},
     "output_type": "execute_result"
    }
   ],
   "source": [
    "df = pd.concat([graph, m, mar], axis=0)\n",
    "df = df.sort_values(by=['AMAR'])\n",
    "df['TOTAL'] = df['TOTAL'].fillna(0)\n",
    "df['Ensemble des Pacs'] = df['Ensemble des Pacs'].fillna(0)\n",
    "df['Ensemble des mariages de l\\'année'] = df['Ensemble des mariages de l\\'année'].fillna(0)\n",
    "df['TOTAL'] = df['TOTAL'] + df['Ensemble des mariages de l\\'année']\n",
    "df"
   ]
  },
  {
   "cell_type": "code",
   "execution_count": null,
   "metadata": {},
   "outputs": [],
   "source": [
    "fig = px.line(df, x='AMAR', y=['Homme_Homme', 'Homme_Femme', 'Femme_Femme','TOTAL', 'Pacs de personnes de sexe différent', 'Pacs de personnes de même sexe ', ])\n",
    "fig.update_layout(\n",
    "    title = 'Mariages en France depuis 2014',\n",
    "    xaxis = dict(title = 'Année du mariage'),\n",
    "    yaxis = dict(title = 'Nombre de mariages'), \n",
    "    legend = dict(title = 'Type de mariage')\n",
    "    \n",
    ")"
   ]
  }
 ],
 "metadata": {
  "kernelspec": {
   "display_name": "Python 3",
   "language": "python",
   "name": "python3"
  },
  "language_info": {
   "codemirror_mode": {
    "name": "ipython",
    "version": 3
   },
   "file_extension": ".py",
   "mimetype": "text/x-python",
   "name": "python",
   "nbconvert_exporter": "python",
   "pygments_lexer": "ipython3",
   "version": "3.8.10"
  }
 },
 "nbformat": 4,
 "nbformat_minor": 5
}
