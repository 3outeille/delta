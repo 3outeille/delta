{
 "cells": [
  {
   "cell_type": "code",
   "execution_count": 1,
   "metadata": {},
   "outputs": [],
   "source": [
    "import numpy as np\n",
    "import pandas as pd"
   ]
  },
  {
   "cell_type": "markdown",
   "metadata": {},
   "source": [
    "# Loading and cleaning data\n",
    "\n",
    "We decided to reduce our dataset and begin it in 1918 due to several missing medals (gold, silver or bronze). Moreover, we kept in our dataset only columns that are essentials for us such as :\n",
    "1. Year\n",
    "2. Discipline\n",
    "3. Country\n",
    "4. Event\n",
    "5. Medal\n"
   ]
  },
  {
   "cell_type": "code",
   "execution_count": 49,
   "metadata": {},
   "outputs": [
    {
     "data": {
      "text/html": [
       "<div>\n",
       "<style scoped>\n",
       "    .dataframe tbody tr th:only-of-type {\n",
       "        vertical-align: middle;\n",
       "    }\n",
       "\n",
       "    .dataframe tbody tr th {\n",
       "        vertical-align: top;\n",
       "    }\n",
       "\n",
       "    .dataframe thead th {\n",
       "        text-align: right;\n",
       "    }\n",
       "</style>\n",
       "<table border=\"1\" class=\"dataframe\">\n",
       "  <thead>\n",
       "    <tr style=\"text-align: right;\">\n",
       "      <th></th>\n",
       "      <th>Year</th>\n",
       "      <th>Discipline</th>\n",
       "      <th>Country</th>\n",
       "      <th>Event</th>\n",
       "      <th>Medal</th>\n",
       "    </tr>\n",
       "  </thead>\n",
       "  <tbody>\n",
       "    <tr>\n",
       "      <th>1274</th>\n",
       "      <td>1920</td>\n",
       "      <td>Diving</td>\n",
       "      <td>DEN</td>\n",
       "      <td>10M Platform</td>\n",
       "      <td>Gold</td>\n",
       "    </tr>\n",
       "    <tr>\n",
       "      <th>1275</th>\n",
       "      <td>1920</td>\n",
       "      <td>Diving</td>\n",
       "      <td>GBR</td>\n",
       "      <td>10M Platform</td>\n",
       "      <td>Silver</td>\n",
       "    </tr>\n",
       "    <tr>\n",
       "      <th>1276</th>\n",
       "      <td>1920</td>\n",
       "      <td>Diving</td>\n",
       "      <td>SWE</td>\n",
       "      <td>10M Platform</td>\n",
       "      <td>Silver</td>\n",
       "    </tr>\n",
       "    <tr>\n",
       "      <th>1277</th>\n",
       "      <td>1920</td>\n",
       "      <td>Diving</td>\n",
       "      <td>SWE</td>\n",
       "      <td>Plain High Diving</td>\n",
       "      <td>Bronze</td>\n",
       "    </tr>\n",
       "    <tr>\n",
       "      <th>1278</th>\n",
       "      <td>1920</td>\n",
       "      <td>Diving</td>\n",
       "      <td>SWE</td>\n",
       "      <td>Plain High Diving</td>\n",
       "      <td>Gold</td>\n",
       "    </tr>\n",
       "    <tr>\n",
       "      <th>...</th>\n",
       "      <td>...</td>\n",
       "      <td>...</td>\n",
       "      <td>...</td>\n",
       "      <td>...</td>\n",
       "      <td>...</td>\n",
       "    </tr>\n",
       "    <tr>\n",
       "      <th>16797</th>\n",
       "      <td>2020</td>\n",
       "      <td>Wrestling</td>\n",
       "      <td>UKR</td>\n",
       "      <td>Light-Heavyweight, Freestyle</td>\n",
       "      <td>Bronze</td>\n",
       "    </tr>\n",
       "    <tr>\n",
       "      <th>16798</th>\n",
       "      <td>2020</td>\n",
       "      <td>Wrestling</td>\n",
       "      <td>GER</td>\n",
       "      <td>Heavyweight, Freestyle</td>\n",
       "      <td>Gold</td>\n",
       "    </tr>\n",
       "    <tr>\n",
       "      <th>16799</th>\n",
       "      <td>2020</td>\n",
       "      <td>Wrestling</td>\n",
       "      <td>USA</td>\n",
       "      <td>Heavyweight, Freestyle</td>\n",
       "      <td>Silver</td>\n",
       "    </tr>\n",
       "    <tr>\n",
       "      <th>16800</th>\n",
       "      <td>2020</td>\n",
       "      <td>Wrestling</td>\n",
       "      <td>CHN</td>\n",
       "      <td>Heavyweight, Freestyle</td>\n",
       "      <td>Bronze</td>\n",
       "    </tr>\n",
       "    <tr>\n",
       "      <th>16801</th>\n",
       "      <td>2020</td>\n",
       "      <td>Wrestling</td>\n",
       "      <td>TUR</td>\n",
       "      <td>Heavyweight, Freestyle</td>\n",
       "      <td>Bronze</td>\n",
       "    </tr>\n",
       "  </tbody>\n",
       "</table>\n",
       "<p>15528 rows × 5 columns</p>\n",
       "</div>"
      ],
      "text/plain": [
       "       Year Discipline Country                         Event   Medal\n",
       "1274   1920     Diving     DEN                  10M Platform    Gold\n",
       "1275   1920     Diving     GBR                  10M Platform  Silver\n",
       "1276   1920     Diving     SWE                  10M Platform  Silver\n",
       "1277   1920     Diving     SWE             Plain High Diving  Bronze\n",
       "1278   1920     Diving     SWE             Plain High Diving    Gold\n",
       "...     ...        ...     ...                           ...     ...\n",
       "16797  2020  Wrestling     UKR  Light-Heavyweight, Freestyle  Bronze\n",
       "16798  2020  Wrestling     GER        Heavyweight, Freestyle    Gold\n",
       "16799  2020  Wrestling     USA        Heavyweight, Freestyle  Silver\n",
       "16800  2020  Wrestling     CHN        Heavyweight, Freestyle  Bronze\n",
       "16801  2020  Wrestling     TUR        Heavyweight, Freestyle  Bronze\n",
       "\n",
       "[15528 rows x 5 columns]"
      ]
     },
     "execution_count": 49,
     "metadata": {},
     "output_type": "execute_result"
    }
   ],
   "source": [
    "df_sum = pd.read_csv('data/summer.csv')\n",
    "df_sum_reduced = df_sum.drop([\"City\", \"Sport\", \"Gender\", \"Athlete\"],  axis=1)\n",
    "df_sum_reduced = df_sum_reduced[df_sum_reduced[\"Year\"] >= 1918]\n",
    "\n",
    "df_sum_reduced"
   ]
  },
  {
   "cell_type": "code",
   "execution_count": 36,
   "metadata": {},
   "outputs": [
    {
     "name": "stdout",
     "output_type": "stream",
     "text": [
      "Is there Na values in our dataframe ? False\n"
     ]
    }
   ],
   "source": [
    "#Check if there is NA values to remove\n",
    "print(\"Is there Na values in our dataframe ?\", df.isnull().values.any())"
   ]
  },
  {
   "cell_type": "code",
   "execution_count": 93,
   "metadata": {},
   "outputs": [
    {
     "data": {
      "text/html": [
       "<div>\n",
       "<style scoped>\n",
       "    .dataframe tbody tr th:only-of-type {\n",
       "        vertical-align: middle;\n",
       "    }\n",
       "\n",
       "    .dataframe tbody tr th {\n",
       "        vertical-align: top;\n",
       "    }\n",
       "\n",
       "    .dataframe thead th {\n",
       "        text-align: right;\n",
       "    }\n",
       "</style>\n",
       "<table border=\"1\" class=\"dataframe\">\n",
       "  <thead>\n",
       "    <tr style=\"text-align: right;\">\n",
       "      <th></th>\n",
       "      <th>Year</th>\n",
       "      <th>Discipline</th>\n",
       "      <th>Country</th>\n",
       "      <th>Event</th>\n",
       "      <th>Medal</th>\n",
       "    </tr>\n",
       "  </thead>\n",
       "  <tbody>\n",
       "    <tr>\n",
       "      <th>9286</th>\n",
       "      <td>1992</td>\n",
       "      <td>Diving</td>\n",
       "      <td>EUN</td>\n",
       "      <td>3M Springboard</td>\n",
       "      <td>Bronze</td>\n",
       "    </tr>\n",
       "    <tr>\n",
       "      <th>9287</th>\n",
       "      <td>1992</td>\n",
       "      <td>Diving</td>\n",
       "      <td>EUN</td>\n",
       "      <td>10M Platform</td>\n",
       "      <td>Silver</td>\n",
       "    </tr>\n",
       "    <tr>\n",
       "      <th>9288</th>\n",
       "      <td>1992</td>\n",
       "      <td>Diving</td>\n",
       "      <td>EUN</td>\n",
       "      <td>3M Springboard</td>\n",
       "      <td>Silver</td>\n",
       "    </tr>\n",
       "    <tr>\n",
       "      <th>9313</th>\n",
       "      <td>1992</td>\n",
       "      <td>Swimming</td>\n",
       "      <td>EUN</td>\n",
       "      <td>100M Freestyle</td>\n",
       "      <td>Gold</td>\n",
       "    </tr>\n",
       "    <tr>\n",
       "      <th>9314</th>\n",
       "      <td>1992</td>\n",
       "      <td>Swimming</td>\n",
       "      <td>EUN</td>\n",
       "      <td>200M Backstroke</td>\n",
       "      <td>Silver</td>\n",
       "    </tr>\n",
       "    <tr>\n",
       "      <th>...</th>\n",
       "      <td>...</td>\n",
       "      <td>...</td>\n",
       "      <td>...</td>\n",
       "      <td>...</td>\n",
       "      <td>...</td>\n",
       "    </tr>\n",
       "    <tr>\n",
       "      <th>10026</th>\n",
       "      <td>1992</td>\n",
       "      <td>Weightlifting</td>\n",
       "      <td>EUN</td>\n",
       "      <td>90 - 100KG, Total (First-Heavyweight)</td>\n",
       "      <td>Silver</td>\n",
       "    </tr>\n",
       "    <tr>\n",
       "      <th>10043</th>\n",
       "      <td>1992</td>\n",
       "      <td>Wrestling Free.</td>\n",
       "      <td>EUN</td>\n",
       "      <td>- 48KG (Light-Flyweight)</td>\n",
       "      <td>Bronze</td>\n",
       "    </tr>\n",
       "    <tr>\n",
       "      <th>10044</th>\n",
       "      <td>1992</td>\n",
       "      <td>Wrestling Free.</td>\n",
       "      <td>EUN</td>\n",
       "      <td>100 - 130KG (Super Heavyweight)</td>\n",
       "      <td>Bronze</td>\n",
       "    </tr>\n",
       "    <tr>\n",
       "      <th>10045</th>\n",
       "      <td>1992</td>\n",
       "      <td>Wrestling Free.</td>\n",
       "      <td>EUN</td>\n",
       "      <td>52 - 57KG (Bantamweight)</td>\n",
       "      <td>Silver</td>\n",
       "    </tr>\n",
       "    <tr>\n",
       "      <th>10046</th>\n",
       "      <td>1992</td>\n",
       "      <td>Wrestling Free.</td>\n",
       "      <td>EUN</td>\n",
       "      <td>62 - 68KG (Lightweight)</td>\n",
       "      <td>Gold</td>\n",
       "    </tr>\n",
       "  </tbody>\n",
       "</table>\n",
       "<p>100 rows × 5 columns</p>\n",
       "</div>"
      ],
      "text/plain": [
       "       Year       Discipline Country                                  Event  \\\n",
       "9286   1992           Diving     EUN                         3M Springboard   \n",
       "9287   1992           Diving     EUN                           10M Platform   \n",
       "9288   1992           Diving     EUN                         3M Springboard   \n",
       "9313   1992         Swimming     EUN                         100M Freestyle   \n",
       "9314   1992         Swimming     EUN                        200M Backstroke   \n",
       "...     ...              ...     ...                                    ...   \n",
       "10026  1992    Weightlifting     EUN  90 - 100KG, Total (First-Heavyweight)   \n",
       "10043  1992  Wrestling Free.     EUN               - 48KG (Light-Flyweight)   \n",
       "10044  1992  Wrestling Free.     EUN        100 - 130KG (Super Heavyweight)   \n",
       "10045  1992  Wrestling Free.     EUN               52 - 57KG (Bantamweight)   \n",
       "10046  1992  Wrestling Free.     EUN                62 - 68KG (Lightweight)   \n",
       "\n",
       "        Medal  \n",
       "9286   Bronze  \n",
       "9287   Silver  \n",
       "9288   Silver  \n",
       "9313     Gold  \n",
       "9314   Silver  \n",
       "...       ...  \n",
       "10026  Silver  \n",
       "10043  Bronze  \n",
       "10044  Bronze  \n",
       "10045  Silver  \n",
       "10046    Gold  \n",
       "\n",
       "[100 rows x 5 columns]"
      ]
     },
     "execution_count": 93,
     "metadata": {},
     "output_type": "execute_result"
    }
   ],
   "source": [
    "df_sum_reduced[df_sum_reduced[\"Country\"] == \"EUN\"].head(100)"
   ]
  },
  {
   "cell_type": "markdown",
   "metadata": {},
   "source": [
    "## Problems with countries"
   ]
  },
  {
   "cell_type": "code",
   "execution_count": 52,
   "metadata": {},
   "outputs": [
    {
     "data": {
      "text/plain": [
       "USA    2235\n",
       "URS    1008\n",
       "GBR     701\n",
       "CHN     633\n",
       "FRA     604\n",
       "ITA     602\n",
       "GER     586\n",
       "AUS     538\n",
       "JPN     493\n",
       "HUN     478\n",
       "RUS     444\n",
       "SWE     410\n",
       "GDR     409\n",
       "NED     318\n",
       "ROU     307\n",
       "Name: Country, dtype: int64"
      ]
     },
     "execution_count": 52,
     "metadata": {},
     "output_type": "execute_result"
    }
   ],
   "source": [
    "df_sum_reduced[\"Country\"].value_counts().head(15)"
   ]
  },
  {
   "cell_type": "markdown",
   "metadata": {},
   "source": [
    "As we can see here, there is a problem in the medals's count due to URSS. This union no longer exists since 1991. There are also others \"countries\" which are in reality a regroupment of atheltes who represents the olympic flag. Weh have :\n",
    "- ROC\n",
    "- IOA \n",
    "- IOP\n",
    "- EUN\n"
   ]
  },
  {
   "cell_type": "code",
   "execution_count": 78,
   "metadata": {},
   "outputs": [
    {
     "data": {
      "text/plain": [
       "array(['AFG', 'AHO', 'ALG', 'ARG', 'ARM', 'AUS', 'AUT', 'AZE', 'BAH',\n",
       "       'BAR', 'BDI', 'BEL', 'BER', 'BLR', 'BOT', 'BRA', 'BRN', 'BUL',\n",
       "       'BUR', 'BWI', 'CAN', 'CHI', 'CHN', 'CIV', 'CMR', 'COL', 'CRC',\n",
       "       'CRO', 'CUB', 'CYP', 'CZE', 'DEN', 'DJI', 'DOM', 'ECU', 'EGY',\n",
       "       'ERI', 'ESP', 'EST', 'ETH', 'EUA', 'EUN', 'FIJ', 'FIN', 'FRA',\n",
       "       'FRG', 'GAB', 'GBR', 'GDR', 'GEO', 'GER', 'GHA', 'GRE', 'GRN',\n",
       "       'GUA', 'GUY', 'HAI', 'HKG', 'HUN', 'INA', 'IND', 'IOA', 'IOP',\n",
       "       'IRI', 'IRL', 'IRQ', 'ISL', 'ISR', 'ISV', 'ITA', 'JAM', 'JOR',\n",
       "       'JPN', 'KAZ', 'KEN', 'KGZ', 'KOR', 'KOS', 'KSA', 'KUW', 'LAT',\n",
       "       'LIB', 'LTU', 'LUX', 'MAR', 'MAS', 'MDA', 'MEX', 'MGL', 'MKD',\n",
       "       'MNE', 'MOZ', 'MRI', 'NAM', 'NED', 'NGR', 'NIG', 'NOR', 'NZL',\n",
       "       'PAK', 'PAN', 'PAR', 'PER', 'PHI', 'POL', 'POR', 'PRK', 'PUR',\n",
       "       'QAT', 'ROC', 'ROU', 'RSA', 'RUS', 'SCG', 'SEN', 'SGP', 'SIN',\n",
       "       'SLO', 'SMR', 'SRB', 'SRI', 'SUD', 'SUI', 'SUR', 'SVK', 'SWE',\n",
       "       'SYR', 'TAN', 'TCH', 'TGA', 'THA', 'TJK', 'TKM', 'TOG', 'TPE',\n",
       "       'TRI', 'TTO', 'TUN', 'TUR', 'UAE', 'UGA', 'UKR', 'URS', 'URU',\n",
       "       'USA', 'UZB', 'VEN', 'VIE', 'YUG', 'ZAM', 'ZIM'], dtype=object)"
      ]
     },
     "execution_count": 78,
     "metadata": {},
     "output_type": "execute_result"
    }
   ],
   "source": [
    "countries = df_sum_reduced[\"Country\"].unique()\n",
    "countries.sort()\n",
    "countries"
   ]
  },
  {
   "cell_type": "code",
   "execution_count": 82,
   "metadata": {},
   "outputs": [
    {
     "name": "stdout",
     "output_type": "stream",
     "text": [
      "Number of medals won by ROC : 71\n"
     ]
    }
   ],
   "source": [
    "print(\"Number of medals won by ROC :\", df_sum_reduced[df_sum_reduced[\"Country\"] == \"ROC\"].shape[0])"
   ]
  },
  {
   "cell_type": "code",
   "execution_count": 80,
   "metadata": {},
   "outputs": [
    {
     "name": "stdout",
     "output_type": "stream",
     "text": [
      "Number of medals won by EUN : 112\n"
     ]
    }
   ],
   "source": [
    "print(\"Number of medals won by EUN :\", df_sum_reduced[df_sum_reduced[\"Country\"] == \"EUN\"].shape[0])"
   ]
  },
  {
   "cell_type": "code",
   "execution_count": 84,
   "metadata": {},
   "outputs": [
    {
     "name": "stdout",
     "output_type": "stream",
     "text": [
      "Number of medals won by IOA : 2\n"
     ]
    }
   ],
   "source": [
    "print(\"Number of medals won by IOA :\", df_sum_reduced[df_sum_reduced[\"Country\"] == \"IOA\"].shape[0])"
   ]
  },
  {
   "cell_type": "code",
   "execution_count": 85,
   "metadata": {},
   "outputs": [
    {
     "name": "stdout",
     "output_type": "stream",
     "text": [
      "Number of medals won by IOP : 3\n"
     ]
    }
   ],
   "source": [
    "print(\"Number of medals won by IOP :\", df_sum_reduced[df_sum_reduced[\"Country\"] == \"IOP\"].shape[0])"
   ]
  },
  {
   "cell_type": "code",
   "execution_count": null,
   "metadata": {},
   "outputs": [],
   "source": []
  }
 ],
 "metadata": {
  "interpreter": {
   "hash": "916dbcbb3f70747c44a77c7bcd40155683ae19c65e1c03b4aa3499c5328201f1"
  },
  "kernelspec": {
   "display_name": "Python 3.8.10 64-bit",
   "language": "python",
   "name": "python3"
  },
  "language_info": {
   "codemirror_mode": {
    "name": "ipython",
    "version": 3
   },
   "file_extension": ".py",
   "mimetype": "text/x-python",
   "name": "python",
   "nbconvert_exporter": "python",
   "pygments_lexer": "ipython3",
   "version": "3.8.10"
  },
  "orig_nbformat": 4
 },
 "nbformat": 4,
 "nbformat_minor": 2
}
