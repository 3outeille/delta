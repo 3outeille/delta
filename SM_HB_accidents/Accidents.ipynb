{
 "cells": [
  {
   "cell_type": "code",
   "execution_count": 40,
   "id": "remarkable-optics",
   "metadata": {},
   "outputs": [],
   "source": [
    "import pandas as pd\n",
    "\n",
    "solver = {'voie' : 'O'}\n",
    "\n",
    "df_2015 = pd.read_csv(\"data/Lieux/lieux_2015.csv\")\n",
    "df_2016 = pd.read_csv(\"data/Lieux/lieux_2016.csv\", dtype=solver)\n",
    "df_2017 = pd.read_csv(\"data/Lieux/lieux_2017.csv\", dtype=solver)\n",
    "df_2018 = pd.read_csv(\"data/Lieux/lieux_2018.csv\", dtype=solver)\n",
    "df_2019 = pd.read_csv(\"data/Lieux/lieux_2019.csv\", sep=\";\")\n",
    "df_2020 = pd.read_csv(\"data/Lieux/lieux_2020.csv\", sep=\";\")\n",
    "\n",
    "a = pd.read_csv(\"data/Caracteristiques/caracteristiques_2015.csv\", encoding=\"latin-1\")\n",
    "b = pd.read_csv(\"data/Caracteristiques/caracteristiques_2016.csv\", encoding=\"latin-1\")\n",
    "c = pd.read_csv(\"data/Caracteristiques/caracteristiques_2017.csv\", encoding=\"latin-1\")\n",
    "d = pd.read_csv(\"data/Caracteristiques/caracteristiques_2018.csv\", encoding=\"latin-1\")\n",
    "e = pd.read_csv(\"data/Caracteristiques/caracteristiques_2019.csv\", sep=\";\")\n",
    "f = pd.read_csv(\"data/Caracteristiques/caracteristiques_2020.csv\", sep=\";\")\n"
   ]
  },
  {
   "cell_type": "code",
   "execution_count": null,
   "id": "fatty-failing",
   "metadata": {},
   "outputs": [],
   "source": []
  }
 ],
 "metadata": {
  "kernelspec": {
   "display_name": "Python 3",
   "language": "python",
   "name": "python3"
  },
  "language_info": {
   "codemirror_mode": {
    "name": "ipython",
    "version": 3
   },
   "file_extension": ".py",
   "mimetype": "text/x-python",
   "name": "python",
   "nbconvert_exporter": "python",
   "pygments_lexer": "ipython3",
   "version": "3.9.2"
  }
 },
 "nbformat": 4,
 "nbformat_minor": 5
}
