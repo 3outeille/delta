{
 "cells": [
  {
   "cell_type": "code",
   "execution_count": 11,
   "id": "mounted-attachment",
   "metadata": {},
   "outputs": [],
   "source": [
    "import pandas as pd\n",
    "import os\n",
    "from dash import html, Dash, dependencies, dcc\n",
    "import glob\n",
    "\n",
    "class Accidents():\n",
    "    def __init__(self, application = None):\n",
    "        df = pd.read_csv(\"data/final_df.csv\")\n",
    "        # Traitement affichage \n",
    "        \n",
    "        \n",
    "        #Dash integration\n",
    "        \n",
    "        self.main_layout = html.Div(children=[\n",
    "            html.H3(children=['Contextualisation des accidents de la route']),\n",
    "            html.Div([dcc.Graph(id='main-graph')], style={'width':'100%'}),\n",
    "            html.Div([dcc.RadioItems(id='line-to-histo',\n",
    "                                    options=[{'label' : \"Histogramme\", 'value':0},\n",
    "                                             {'label' : \"Ligne\", 'value':1}],\n",
    "                                     value=2,\n",
    "                                     labelStyle={'display':'block'})]),\n",
    "            html.Br()\n",
    "            dcc.Markdown(\"\"\"\n",
    "                Analyse\n",
    "            \n",
    "            #### A propos\n",
    "            \n",
    "            * Sources : https://www.data.gouv.fr/fr/datasets/bases-de-donnees-annuelles-des-accidents-corporels-de-la-circulation-routiere-annees-de-2005-a-2020/\n",
    "            \n",
    "            * (c) 2022 Hugo Boux & Stephane Mabille\n",
    "            \"\"\"\n",
    "            )], style = {\n",
    "                'backgroundColor' : 'white',\n",
    "                'padding': '10px 50px 10px 50px'\n",
    "            })\n",
    "        \n",
    "        if application:\n",
    "            self.app = application\n",
    "        else:\n",
    "            self.app = Dash(__name__)\n",
    "            self.app.layout = self.main_layout\n",
    "        \n",
    "        self.app.callback(\n",
    "            dependencies.Output('main-graph', 'figure'),\n",
    "            dependencies.Input('line-to-histo', 'value'))(self.update_graph)\n",
    "                        \n",
    "    def update_graph(self, value):\n",
    "        return \n",
    "            \n",
    "if __name__ == '__main__':\n",
    "    SMBH = Accidents()\n",
    "    #SMBH.app.run_server(debug=True, port=8051)\n"
   ]
  },
  {
   "cell_type": "code",
   "execution_count": null,
   "id": "respiratory-defeat",
   "metadata": {},
   "outputs": [],
   "source": []
  }
 ],
 "metadata": {
  "kernelspec": {
   "display_name": "Python 3",
   "language": "python",
   "name": "python3"
  },
  "language_info": {
   "codemirror_mode": {
    "name": "ipython",
    "version": 3
   },
   "file_extension": ".py",
   "mimetype": "text/x-python",
   "name": "python",
   "nbconvert_exporter": "python",
   "pygments_lexer": "ipython3",
   "version": "3.9.2"
  }
 },
 "nbformat": 4,
 "nbformat_minor": 5
}
