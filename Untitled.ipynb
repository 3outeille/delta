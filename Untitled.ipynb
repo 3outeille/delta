{
 "cells": [
  {
   "cell_type": "code",
   "execution_count": 43,
   "id": "60d67023-6234-477c-9d1b-86315ed9c5be",
   "metadata": {},
   "outputs": [],
   "source": [
    "from pathlib import Path\n",
    "\n",
    "import numpy as np\n",
    "import pandas as pd\n",
    "import matplotlib.pyplot as plt\n",
    "\n",
    "%config InlineBackend.figure_format='retina'"
   ]
  },
  {
   "cell_type": "code",
   "execution_count": 44,
   "id": "24ce7e9a-b88c-4f92-927c-757d31bdfaf0",
   "metadata": {},
   "outputs": [],
   "source": [
    "PATH_RESOURCES = Path(\"TBGT_population_vs_train_speed/data\")"
   ]
  },
  {
   "cell_type": "code",
   "execution_count": 45,
   "id": "4fbe96be-0e8a-427c-87db-9a0ee8597354",
   "metadata": {},
   "outputs": [
    {
     "data": {
      "text/html": [
       "<div>\n",
       "<style scoped>\n",
       "    .dataframe tbody tr th:only-of-type {\n",
       "        vertical-align: middle;\n",
       "    }\n",
       "\n",
       "    .dataframe tbody tr th {\n",
       "        vertical-align: top;\n",
       "    }\n",
       "\n",
       "    .dataframe thead th {\n",
       "        text-align: right;\n",
       "    }\n",
       "</style>\n",
       "<table border=\"1\" class=\"dataframe\">\n",
       "  <thead>\n",
       "    <tr style=\"text-align: right;\">\n",
       "      <th></th>\n",
       "      <th>Relations</th>\n",
       "      <th>Année</th>\n",
       "      <th>Temps estimé en minutes</th>\n",
       "    </tr>\n",
       "  </thead>\n",
       "  <tbody>\n",
       "    <tr>\n",
       "      <th>0</th>\n",
       "      <td>PARIS - ARRAS</td>\n",
       "      <td>1920</td>\n",
       "      <td>NaN</td>\n",
       "    </tr>\n",
       "    <tr>\n",
       "      <th>29</th>\n",
       "      <td>LYON - STRASBOURG</td>\n",
       "      <td>1920</td>\n",
       "      <td>NaN</td>\n",
       "    </tr>\n",
       "    <tr>\n",
       "      <th>30</th>\n",
       "      <td>PARIS - BOULOGNE</td>\n",
       "      <td>1920</td>\n",
       "      <td>NaN</td>\n",
       "    </tr>\n",
       "    <tr>\n",
       "      <th>32</th>\n",
       "      <td>PARIS - LA ROCHELLE</td>\n",
       "      <td>1920</td>\n",
       "      <td>NaN</td>\n",
       "    </tr>\n",
       "    <tr>\n",
       "      <th>34</th>\n",
       "      <td>PARIS - AMIENS</td>\n",
       "      <td>1920</td>\n",
       "      <td>NaN</td>\n",
       "    </tr>\n",
       "    <tr>\n",
       "      <th>...</th>\n",
       "      <td>...</td>\n",
       "      <td>...</td>\n",
       "      <td>...</td>\n",
       "    </tr>\n",
       "    <tr>\n",
       "      <th>3947</th>\n",
       "      <td>PARIS - TOULOUSE</td>\n",
       "      <td>2019</td>\n",
       "      <td>245.0</td>\n",
       "    </tr>\n",
       "    <tr>\n",
       "      <th>3948</th>\n",
       "      <td>PARIS - POITIERS</td>\n",
       "      <td>2019</td>\n",
       "      <td>76.0</td>\n",
       "    </tr>\n",
       "    <tr>\n",
       "      <th>3951</th>\n",
       "      <td>PARIS - TOURS</td>\n",
       "      <td>2019</td>\n",
       "      <td>64.0</td>\n",
       "    </tr>\n",
       "    <tr>\n",
       "      <th>3955</th>\n",
       "      <td>PARIS - ST ETIENNE</td>\n",
       "      <td>2019</td>\n",
       "      <td>168.0</td>\n",
       "    </tr>\n",
       "    <tr>\n",
       "      <th>3998</th>\n",
       "      <td>PARIS - RENNES</td>\n",
       "      <td>2019</td>\n",
       "      <td>85.0</td>\n",
       "    </tr>\n",
       "  </tbody>\n",
       "</table>\n",
       "<p>3999 rows × 3 columns</p>\n",
       "</div>"
      ],
      "text/plain": [
       "                Relations  Année  Temps estimé en minutes\n",
       "0           PARIS - ARRAS   1920                      NaN\n",
       "29      LYON - STRASBOURG   1920                      NaN\n",
       "30       PARIS - BOULOGNE   1920                      NaN\n",
       "32    PARIS - LA ROCHELLE   1920                      NaN\n",
       "34         PARIS - AMIENS   1920                      NaN\n",
       "...                   ...    ...                      ...\n",
       "3947     PARIS - TOULOUSE   2019                    245.0\n",
       "3948     PARIS - POITIERS   2019                     76.0\n",
       "3951        PARIS - TOURS   2019                     64.0\n",
       "3955   PARIS - ST ETIENNE   2019                    168.0\n",
       "3998       PARIS - RENNES   2019                     85.0\n",
       "\n",
       "[3999 rows x 3 columns]"
      ]
     },
     "execution_count": 45,
     "metadata": {},
     "output_type": "execute_result"
    }
   ],
   "source": [
    "train_df = pd.read_csv(PATH_RESOURCES / \"meilleurs-temps-des-parcours-des-trains.csv\", sep=\";\")\n",
    "train_df.sort_values(\"Année\", inplace=True)\n",
    "train_df"
   ]
  },
  {
   "cell_type": "code",
   "execution_count": 46,
   "id": "24263a51-df50-4e25-a8e6-fa2f9017d04d",
   "metadata": {},
   "outputs": [
    {
     "data": {
      "text/plain": [
       "43"
      ]
     },
     "execution_count": 46,
     "metadata": {},
     "output_type": "execute_result"
    }
   ],
   "source": [
    "len(pd.unique(train_df[\"Relations\"]))"
   ]
  },
  {
   "cell_type": "code",
   "execution_count": null,
   "id": "0638b968-40e2-4b6d-9cf0-45b50b2875d7",
   "metadata": {},
   "outputs": [],
   "source": []
  },
  {
   "cell_type": "code",
   "execution_count": null,
   "id": "120ac522-8f28-4874-a249-5a9cafaf713a",
   "metadata": {},
   "outputs": [],
   "source": []
  },
  {
   "cell_type": "code",
   "execution_count": 47,
   "id": "cdffd8bb-1cb9-4027-b178-1d3991f99435",
   "metadata": {},
   "outputs": [
    {
     "data": {
      "application/vnd.plotly.v1+json": {
       "config": {
        "plotlyServerURL": "https://plot.ly"
       },
       "data": [
        {
         "hovertemplate": "variable=Temps estimé en minutes<br>Année=%{x}<br>value=%{y}<extra></extra>",
         "legendgroup": "Temps estimé en minutes",
         "line": {
          "color": "#636efa",
          "dash": "solid"
         },
         "marker": {
          "symbol": "circle"
         },
         "mode": "lines",
         "name": "Temps estimé en minutes",
         "orientation": "v",
         "showlegend": true,
         "type": "scatter",
         "x": [
          1920,
          1928,
          1929,
          1930,
          1931,
          1932,
          1933,
          1934,
          1935,
          1936,
          1938,
          1948,
          1949,
          1950,
          1951,
          1952,
          1953,
          1954,
          1955,
          1956,
          1957,
          1958,
          1959,
          1960,
          1961,
          1962,
          1963,
          1964,
          1965,
          1966,
          1967,
          1968,
          1969,
          1970,
          1971,
          1972,
          1973,
          1974,
          1975,
          1976,
          1977,
          1978,
          1979,
          1980,
          1981,
          1982,
          1983,
          1984,
          1985,
          1986,
          1987,
          1988,
          1989,
          1990,
          1991,
          1992,
          1993,
          1994,
          1995,
          1996,
          1997,
          1998,
          1999,
          2000,
          2001,
          2002,
          2003,
          2004,
          2005,
          2006,
          2007,
          2008,
          2009,
          2010,
          2011,
          2012,
          2013,
          2014,
          2015,
          2016,
          2017,
          2018,
          2019
         ],
         "xaxis": "x",
         "y": [
          538,
          580,
          583,
          401,
          385,
          375,
          355,
          349,
          344,
          344,
          393,
          365,
          355,
          340,
          337,
          335,
          310,
          310,
          299,
          299,
          299,
          298,
          288,
          283,
          283,
          283,
          283,
          283,
          283,
          283,
          268,
          260,
          253,
          253,
          240,
          240,
          240,
          240,
          240,
          240,
          230,
          230,
          230,
          230,
          230,
          242,
          243,
          247,
          234,
          234,
          241,
          242,
          253,
          178,
          174,
          172,
          178,
          176,
          177,
          174,
          183,
          177,
          176,
          177,
          178,
          179,
          174,
          175,
          178,
          178,
          179,
          178,
          180,
          180,
          181,
          181,
          194,
          194,
          191,
          192,
          124,
          123,
          120
         ],
         "yaxis": "y"
        }
       ],
       "layout": {
        "legend": {
         "title": {
          "text": "variable"
         },
         "tracegroupgap": 0
        },
        "margin": {
         "t": 60
        },
        "template": {
         "data": {
          "bar": [
           {
            "error_x": {
             "color": "#2a3f5f"
            },
            "error_y": {
             "color": "#2a3f5f"
            },
            "marker": {
             "line": {
              "color": "#E5ECF6",
              "width": 0.5
             },
             "pattern": {
              "fillmode": "overlay",
              "size": 10,
              "solidity": 0.2
             }
            },
            "type": "bar"
           }
          ],
          "barpolar": [
           {
            "marker": {
             "line": {
              "color": "#E5ECF6",
              "width": 0.5
             },
             "pattern": {
              "fillmode": "overlay",
              "size": 10,
              "solidity": 0.2
             }
            },
            "type": "barpolar"
           }
          ],
          "carpet": [
           {
            "aaxis": {
             "endlinecolor": "#2a3f5f",
             "gridcolor": "white",
             "linecolor": "white",
             "minorgridcolor": "white",
             "startlinecolor": "#2a3f5f"
            },
            "baxis": {
             "endlinecolor": "#2a3f5f",
             "gridcolor": "white",
             "linecolor": "white",
             "minorgridcolor": "white",
             "startlinecolor": "#2a3f5f"
            },
            "type": "carpet"
           }
          ],
          "choropleth": [
           {
            "colorbar": {
             "outlinewidth": 0,
             "ticks": ""
            },
            "type": "choropleth"
           }
          ],
          "contour": [
           {
            "colorbar": {
             "outlinewidth": 0,
             "ticks": ""
            },
            "colorscale": [
             [
              0,
              "#0d0887"
             ],
             [
              0.1111111111111111,
              "#46039f"
             ],
             [
              0.2222222222222222,
              "#7201a8"
             ],
             [
              0.3333333333333333,
              "#9c179e"
             ],
             [
              0.4444444444444444,
              "#bd3786"
             ],
             [
              0.5555555555555556,
              "#d8576b"
             ],
             [
              0.6666666666666666,
              "#ed7953"
             ],
             [
              0.7777777777777778,
              "#fb9f3a"
             ],
             [
              0.8888888888888888,
              "#fdca26"
             ],
             [
              1,
              "#f0f921"
             ]
            ],
            "type": "contour"
           }
          ],
          "contourcarpet": [
           {
            "colorbar": {
             "outlinewidth": 0,
             "ticks": ""
            },
            "type": "contourcarpet"
           }
          ],
          "heatmap": [
           {
            "colorbar": {
             "outlinewidth": 0,
             "ticks": ""
            },
            "colorscale": [
             [
              0,
              "#0d0887"
             ],
             [
              0.1111111111111111,
              "#46039f"
             ],
             [
              0.2222222222222222,
              "#7201a8"
             ],
             [
              0.3333333333333333,
              "#9c179e"
             ],
             [
              0.4444444444444444,
              "#bd3786"
             ],
             [
              0.5555555555555556,
              "#d8576b"
             ],
             [
              0.6666666666666666,
              "#ed7953"
             ],
             [
              0.7777777777777778,
              "#fb9f3a"
             ],
             [
              0.8888888888888888,
              "#fdca26"
             ],
             [
              1,
              "#f0f921"
             ]
            ],
            "type": "heatmap"
           }
          ],
          "heatmapgl": [
           {
            "colorbar": {
             "outlinewidth": 0,
             "ticks": ""
            },
            "colorscale": [
             [
              0,
              "#0d0887"
             ],
             [
              0.1111111111111111,
              "#46039f"
             ],
             [
              0.2222222222222222,
              "#7201a8"
             ],
             [
              0.3333333333333333,
              "#9c179e"
             ],
             [
              0.4444444444444444,
              "#bd3786"
             ],
             [
              0.5555555555555556,
              "#d8576b"
             ],
             [
              0.6666666666666666,
              "#ed7953"
             ],
             [
              0.7777777777777778,
              "#fb9f3a"
             ],
             [
              0.8888888888888888,
              "#fdca26"
             ],
             [
              1,
              "#f0f921"
             ]
            ],
            "type": "heatmapgl"
           }
          ],
          "histogram": [
           {
            "marker": {
             "pattern": {
              "fillmode": "overlay",
              "size": 10,
              "solidity": 0.2
             }
            },
            "type": "histogram"
           }
          ],
          "histogram2d": [
           {
            "colorbar": {
             "outlinewidth": 0,
             "ticks": ""
            },
            "colorscale": [
             [
              0,
              "#0d0887"
             ],
             [
              0.1111111111111111,
              "#46039f"
             ],
             [
              0.2222222222222222,
              "#7201a8"
             ],
             [
              0.3333333333333333,
              "#9c179e"
             ],
             [
              0.4444444444444444,
              "#bd3786"
             ],
             [
              0.5555555555555556,
              "#d8576b"
             ],
             [
              0.6666666666666666,
              "#ed7953"
             ],
             [
              0.7777777777777778,
              "#fb9f3a"
             ],
             [
              0.8888888888888888,
              "#fdca26"
             ],
             [
              1,
              "#f0f921"
             ]
            ],
            "type": "histogram2d"
           }
          ],
          "histogram2dcontour": [
           {
            "colorbar": {
             "outlinewidth": 0,
             "ticks": ""
            },
            "colorscale": [
             [
              0,
              "#0d0887"
             ],
             [
              0.1111111111111111,
              "#46039f"
             ],
             [
              0.2222222222222222,
              "#7201a8"
             ],
             [
              0.3333333333333333,
              "#9c179e"
             ],
             [
              0.4444444444444444,
              "#bd3786"
             ],
             [
              0.5555555555555556,
              "#d8576b"
             ],
             [
              0.6666666666666666,
              "#ed7953"
             ],
             [
              0.7777777777777778,
              "#fb9f3a"
             ],
             [
              0.8888888888888888,
              "#fdca26"
             ],
             [
              1,
              "#f0f921"
             ]
            ],
            "type": "histogram2dcontour"
           }
          ],
          "mesh3d": [
           {
            "colorbar": {
             "outlinewidth": 0,
             "ticks": ""
            },
            "type": "mesh3d"
           }
          ],
          "parcoords": [
           {
            "line": {
             "colorbar": {
              "outlinewidth": 0,
              "ticks": ""
             }
            },
            "type": "parcoords"
           }
          ],
          "pie": [
           {
            "automargin": true,
            "type": "pie"
           }
          ],
          "scatter": [
           {
            "marker": {
             "colorbar": {
              "outlinewidth": 0,
              "ticks": ""
             }
            },
            "type": "scatter"
           }
          ],
          "scatter3d": [
           {
            "line": {
             "colorbar": {
              "outlinewidth": 0,
              "ticks": ""
             }
            },
            "marker": {
             "colorbar": {
              "outlinewidth": 0,
              "ticks": ""
             }
            },
            "type": "scatter3d"
           }
          ],
          "scattercarpet": [
           {
            "marker": {
             "colorbar": {
              "outlinewidth": 0,
              "ticks": ""
             }
            },
            "type": "scattercarpet"
           }
          ],
          "scattergeo": [
           {
            "marker": {
             "colorbar": {
              "outlinewidth": 0,
              "ticks": ""
             }
            },
            "type": "scattergeo"
           }
          ],
          "scattergl": [
           {
            "marker": {
             "colorbar": {
              "outlinewidth": 0,
              "ticks": ""
             }
            },
            "type": "scattergl"
           }
          ],
          "scattermapbox": [
           {
            "marker": {
             "colorbar": {
              "outlinewidth": 0,
              "ticks": ""
             }
            },
            "type": "scattermapbox"
           }
          ],
          "scatterpolar": [
           {
            "marker": {
             "colorbar": {
              "outlinewidth": 0,
              "ticks": ""
             }
            },
            "type": "scatterpolar"
           }
          ],
          "scatterpolargl": [
           {
            "marker": {
             "colorbar": {
              "outlinewidth": 0,
              "ticks": ""
             }
            },
            "type": "scatterpolargl"
           }
          ],
          "scatterternary": [
           {
            "marker": {
             "colorbar": {
              "outlinewidth": 0,
              "ticks": ""
             }
            },
            "type": "scatterternary"
           }
          ],
          "surface": [
           {
            "colorbar": {
             "outlinewidth": 0,
             "ticks": ""
            },
            "colorscale": [
             [
              0,
              "#0d0887"
             ],
             [
              0.1111111111111111,
              "#46039f"
             ],
             [
              0.2222222222222222,
              "#7201a8"
             ],
             [
              0.3333333333333333,
              "#9c179e"
             ],
             [
              0.4444444444444444,
              "#bd3786"
             ],
             [
              0.5555555555555556,
              "#d8576b"
             ],
             [
              0.6666666666666666,
              "#ed7953"
             ],
             [
              0.7777777777777778,
              "#fb9f3a"
             ],
             [
              0.8888888888888888,
              "#fdca26"
             ],
             [
              1,
              "#f0f921"
             ]
            ],
            "type": "surface"
           }
          ],
          "table": [
           {
            "cells": {
             "fill": {
              "color": "#EBF0F8"
             },
             "line": {
              "color": "white"
             }
            },
            "header": {
             "fill": {
              "color": "#C8D4E3"
             },
             "line": {
              "color": "white"
             }
            },
            "type": "table"
           }
          ]
         },
         "layout": {
          "annotationdefaults": {
           "arrowcolor": "#2a3f5f",
           "arrowhead": 0,
           "arrowwidth": 1
          },
          "autotypenumbers": "strict",
          "coloraxis": {
           "colorbar": {
            "outlinewidth": 0,
            "ticks": ""
           }
          },
          "colorscale": {
           "diverging": [
            [
             0,
             "#8e0152"
            ],
            [
             0.1,
             "#c51b7d"
            ],
            [
             0.2,
             "#de77ae"
            ],
            [
             0.3,
             "#f1b6da"
            ],
            [
             0.4,
             "#fde0ef"
            ],
            [
             0.5,
             "#f7f7f7"
            ],
            [
             0.6,
             "#e6f5d0"
            ],
            [
             0.7,
             "#b8e186"
            ],
            [
             0.8,
             "#7fbc41"
            ],
            [
             0.9,
             "#4d9221"
            ],
            [
             1,
             "#276419"
            ]
           ],
           "sequential": [
            [
             0,
             "#0d0887"
            ],
            [
             0.1111111111111111,
             "#46039f"
            ],
            [
             0.2222222222222222,
             "#7201a8"
            ],
            [
             0.3333333333333333,
             "#9c179e"
            ],
            [
             0.4444444444444444,
             "#bd3786"
            ],
            [
             0.5555555555555556,
             "#d8576b"
            ],
            [
             0.6666666666666666,
             "#ed7953"
            ],
            [
             0.7777777777777778,
             "#fb9f3a"
            ],
            [
             0.8888888888888888,
             "#fdca26"
            ],
            [
             1,
             "#f0f921"
            ]
           ],
           "sequentialminus": [
            [
             0,
             "#0d0887"
            ],
            [
             0.1111111111111111,
             "#46039f"
            ],
            [
             0.2222222222222222,
             "#7201a8"
            ],
            [
             0.3333333333333333,
             "#9c179e"
            ],
            [
             0.4444444444444444,
             "#bd3786"
            ],
            [
             0.5555555555555556,
             "#d8576b"
            ],
            [
             0.6666666666666666,
             "#ed7953"
            ],
            [
             0.7777777777777778,
             "#fb9f3a"
            ],
            [
             0.8888888888888888,
             "#fdca26"
            ],
            [
             1,
             "#f0f921"
            ]
           ]
          },
          "colorway": [
           "#636efa",
           "#EF553B",
           "#00cc96",
           "#ab63fa",
           "#FFA15A",
           "#19d3f3",
           "#FF6692",
           "#B6E880",
           "#FF97FF",
           "#FECB52"
          ],
          "font": {
           "color": "#2a3f5f"
          },
          "geo": {
           "bgcolor": "white",
           "lakecolor": "white",
           "landcolor": "#E5ECF6",
           "showlakes": true,
           "showland": true,
           "subunitcolor": "white"
          },
          "hoverlabel": {
           "align": "left"
          },
          "hovermode": "closest",
          "mapbox": {
           "style": "light"
          },
          "paper_bgcolor": "white",
          "plot_bgcolor": "#E5ECF6",
          "polar": {
           "angularaxis": {
            "gridcolor": "white",
            "linecolor": "white",
            "ticks": ""
           },
           "bgcolor": "#E5ECF6",
           "radialaxis": {
            "gridcolor": "white",
            "linecolor": "white",
            "ticks": ""
           }
          },
          "scene": {
           "xaxis": {
            "backgroundcolor": "#E5ECF6",
            "gridcolor": "white",
            "gridwidth": 2,
            "linecolor": "white",
            "showbackground": true,
            "ticks": "",
            "zerolinecolor": "white"
           },
           "yaxis": {
            "backgroundcolor": "#E5ECF6",
            "gridcolor": "white",
            "gridwidth": 2,
            "linecolor": "white",
            "showbackground": true,
            "ticks": "",
            "zerolinecolor": "white"
           },
           "zaxis": {
            "backgroundcolor": "#E5ECF6",
            "gridcolor": "white",
            "gridwidth": 2,
            "linecolor": "white",
            "showbackground": true,
            "ticks": "",
            "zerolinecolor": "white"
           }
          },
          "shapedefaults": {
           "line": {
            "color": "#2a3f5f"
           }
          },
          "ternary": {
           "aaxis": {
            "gridcolor": "white",
            "linecolor": "white",
            "ticks": ""
           },
           "baxis": {
            "gridcolor": "white",
            "linecolor": "white",
            "ticks": ""
           },
           "bgcolor": "#E5ECF6",
           "caxis": {
            "gridcolor": "white",
            "linecolor": "white",
            "ticks": ""
           }
          },
          "title": {
           "x": 0.05
          },
          "xaxis": {
           "automargin": true,
           "gridcolor": "white",
           "linecolor": "white",
           "ticks": "",
           "title": {
            "standoff": 15
           },
           "zerolinecolor": "white",
           "zerolinewidth": 2
          },
          "yaxis": {
           "automargin": true,
           "gridcolor": "white",
           "linecolor": "white",
           "ticks": "",
           "title": {
            "standoff": 15
           },
           "zerolinecolor": "white",
           "zerolinewidth": 2
          }
         }
        },
        "title": {
         "text": "PARIS - BORDEAUX"
        },
        "xaxis": {
         "anchor": "y",
         "domain": [
          0,
          1
         ],
         "title": {
          "text": "Années"
         }
        },
        "yaxis": {
         "anchor": "x",
         "domain": [
          0,
          1
         ],
         "title": {
          "text": "Minutes"
         }
        }
       }
      },
      "text/html": [
       "<div>                            <div id=\"7f97d73d-89f8-4e45-a7c9-0311c8f39833\" class=\"plotly-graph-div\" style=\"height:525px; width:100%;\"></div>            <script type=\"text/javascript\">                require([\"plotly\"], function(Plotly) {                    window.PLOTLYENV=window.PLOTLYENV || {};                                    if (document.getElementById(\"7f97d73d-89f8-4e45-a7c9-0311c8f39833\")) {                    Plotly.newPlot(                        \"7f97d73d-89f8-4e45-a7c9-0311c8f39833\",                        [{\"hovertemplate\":\"variable=Temps estim\\u00e9 en minutes<br>Ann\\u00e9e=%{x}<br>value=%{y}<extra></extra>\",\"legendgroup\":\"Temps estim\\u00e9 en minutes\",\"line\":{\"color\":\"#636efa\",\"dash\":\"solid\"},\"marker\":{\"symbol\":\"circle\"},\"mode\":\"lines\",\"name\":\"Temps estim\\u00e9 en minutes\",\"orientation\":\"v\",\"showlegend\":true,\"type\":\"scatter\",\"x\":[1920,1928,1929,1930,1931,1932,1933,1934,1935,1936,1938,1948,1949,1950,1951,1952,1953,1954,1955,1956,1957,1958,1959,1960,1961,1962,1963,1964,1965,1966,1967,1968,1969,1970,1971,1972,1973,1974,1975,1976,1977,1978,1979,1980,1981,1982,1983,1984,1985,1986,1987,1988,1989,1990,1991,1992,1993,1994,1995,1996,1997,1998,1999,2000,2001,2002,2003,2004,2005,2006,2007,2008,2009,2010,2011,2012,2013,2014,2015,2016,2017,2018,2019],\"xaxis\":\"x\",\"y\":[538.0,580.0,583.0,401.0,385.0,375.0,355.0,349.0,344.0,344.0,393.0,365.0,355.0,340.0,337.0,335.0,310.0,310.0,299.0,299.0,299.0,298.0,288.0,283.0,283.0,283.0,283.0,283.0,283.0,283.0,268.0,260.0,253.0,253.0,240.0,240.0,240.0,240.0,240.0,240.0,230.0,230.0,230.0,230.0,230.0,242.0,243.0,247.0,234.0,234.0,241.0,242.0,253.0,178.0,174.0,172.0,178.0,176.0,177.0,174.0,183.0,177.0,176.0,177.0,178.0,179.0,174.0,175.0,178.0,178.0,179.0,178.0,180.0,180.0,181.0,181.0,194.0,194.0,191.0,192.0,124.0,123.0,120.0],\"yaxis\":\"y\"}],                        {\"legend\":{\"title\":{\"text\":\"variable\"},\"tracegroupgap\":0},\"margin\":{\"t\":60},\"template\":{\"data\":{\"bar\":[{\"error_x\":{\"color\":\"#2a3f5f\"},\"error_y\":{\"color\":\"#2a3f5f\"},\"marker\":{\"line\":{\"color\":\"#E5ECF6\",\"width\":0.5},\"pattern\":{\"fillmode\":\"overlay\",\"size\":10,\"solidity\":0.2}},\"type\":\"bar\"}],\"barpolar\":[{\"marker\":{\"line\":{\"color\":\"#E5ECF6\",\"width\":0.5},\"pattern\":{\"fillmode\":\"overlay\",\"size\":10,\"solidity\":0.2}},\"type\":\"barpolar\"}],\"carpet\":[{\"aaxis\":{\"endlinecolor\":\"#2a3f5f\",\"gridcolor\":\"white\",\"linecolor\":\"white\",\"minorgridcolor\":\"white\",\"startlinecolor\":\"#2a3f5f\"},\"baxis\":{\"endlinecolor\":\"#2a3f5f\",\"gridcolor\":\"white\",\"linecolor\":\"white\",\"minorgridcolor\":\"white\",\"startlinecolor\":\"#2a3f5f\"},\"type\":\"carpet\"}],\"choropleth\":[{\"colorbar\":{\"outlinewidth\":0,\"ticks\":\"\"},\"type\":\"choropleth\"}],\"contour\":[{\"colorbar\":{\"outlinewidth\":0,\"ticks\":\"\"},\"colorscale\":[[0.0,\"#0d0887\"],[0.1111111111111111,\"#46039f\"],[0.2222222222222222,\"#7201a8\"],[0.3333333333333333,\"#9c179e\"],[0.4444444444444444,\"#bd3786\"],[0.5555555555555556,\"#d8576b\"],[0.6666666666666666,\"#ed7953\"],[0.7777777777777778,\"#fb9f3a\"],[0.8888888888888888,\"#fdca26\"],[1.0,\"#f0f921\"]],\"type\":\"contour\"}],\"contourcarpet\":[{\"colorbar\":{\"outlinewidth\":0,\"ticks\":\"\"},\"type\":\"contourcarpet\"}],\"heatmap\":[{\"colorbar\":{\"outlinewidth\":0,\"ticks\":\"\"},\"colorscale\":[[0.0,\"#0d0887\"],[0.1111111111111111,\"#46039f\"],[0.2222222222222222,\"#7201a8\"],[0.3333333333333333,\"#9c179e\"],[0.4444444444444444,\"#bd3786\"],[0.5555555555555556,\"#d8576b\"],[0.6666666666666666,\"#ed7953\"],[0.7777777777777778,\"#fb9f3a\"],[0.8888888888888888,\"#fdca26\"],[1.0,\"#f0f921\"]],\"type\":\"heatmap\"}],\"heatmapgl\":[{\"colorbar\":{\"outlinewidth\":0,\"ticks\":\"\"},\"colorscale\":[[0.0,\"#0d0887\"],[0.1111111111111111,\"#46039f\"],[0.2222222222222222,\"#7201a8\"],[0.3333333333333333,\"#9c179e\"],[0.4444444444444444,\"#bd3786\"],[0.5555555555555556,\"#d8576b\"],[0.6666666666666666,\"#ed7953\"],[0.7777777777777778,\"#fb9f3a\"],[0.8888888888888888,\"#fdca26\"],[1.0,\"#f0f921\"]],\"type\":\"heatmapgl\"}],\"histogram\":[{\"marker\":{\"pattern\":{\"fillmode\":\"overlay\",\"size\":10,\"solidity\":0.2}},\"type\":\"histogram\"}],\"histogram2d\":[{\"colorbar\":{\"outlinewidth\":0,\"ticks\":\"\"},\"colorscale\":[[0.0,\"#0d0887\"],[0.1111111111111111,\"#46039f\"],[0.2222222222222222,\"#7201a8\"],[0.3333333333333333,\"#9c179e\"],[0.4444444444444444,\"#bd3786\"],[0.5555555555555556,\"#d8576b\"],[0.6666666666666666,\"#ed7953\"],[0.7777777777777778,\"#fb9f3a\"],[0.8888888888888888,\"#fdca26\"],[1.0,\"#f0f921\"]],\"type\":\"histogram2d\"}],\"histogram2dcontour\":[{\"colorbar\":{\"outlinewidth\":0,\"ticks\":\"\"},\"colorscale\":[[0.0,\"#0d0887\"],[0.1111111111111111,\"#46039f\"],[0.2222222222222222,\"#7201a8\"],[0.3333333333333333,\"#9c179e\"],[0.4444444444444444,\"#bd3786\"],[0.5555555555555556,\"#d8576b\"],[0.6666666666666666,\"#ed7953\"],[0.7777777777777778,\"#fb9f3a\"],[0.8888888888888888,\"#fdca26\"],[1.0,\"#f0f921\"]],\"type\":\"histogram2dcontour\"}],\"mesh3d\":[{\"colorbar\":{\"outlinewidth\":0,\"ticks\":\"\"},\"type\":\"mesh3d\"}],\"parcoords\":[{\"line\":{\"colorbar\":{\"outlinewidth\":0,\"ticks\":\"\"}},\"type\":\"parcoords\"}],\"pie\":[{\"automargin\":true,\"type\":\"pie\"}],\"scatter\":[{\"marker\":{\"colorbar\":{\"outlinewidth\":0,\"ticks\":\"\"}},\"type\":\"scatter\"}],\"scatter3d\":[{\"line\":{\"colorbar\":{\"outlinewidth\":0,\"ticks\":\"\"}},\"marker\":{\"colorbar\":{\"outlinewidth\":0,\"ticks\":\"\"}},\"type\":\"scatter3d\"}],\"scattercarpet\":[{\"marker\":{\"colorbar\":{\"outlinewidth\":0,\"ticks\":\"\"}},\"type\":\"scattercarpet\"}],\"scattergeo\":[{\"marker\":{\"colorbar\":{\"outlinewidth\":0,\"ticks\":\"\"}},\"type\":\"scattergeo\"}],\"scattergl\":[{\"marker\":{\"colorbar\":{\"outlinewidth\":0,\"ticks\":\"\"}},\"type\":\"scattergl\"}],\"scattermapbox\":[{\"marker\":{\"colorbar\":{\"outlinewidth\":0,\"ticks\":\"\"}},\"type\":\"scattermapbox\"}],\"scatterpolar\":[{\"marker\":{\"colorbar\":{\"outlinewidth\":0,\"ticks\":\"\"}},\"type\":\"scatterpolar\"}],\"scatterpolargl\":[{\"marker\":{\"colorbar\":{\"outlinewidth\":0,\"ticks\":\"\"}},\"type\":\"scatterpolargl\"}],\"scatterternary\":[{\"marker\":{\"colorbar\":{\"outlinewidth\":0,\"ticks\":\"\"}},\"type\":\"scatterternary\"}],\"surface\":[{\"colorbar\":{\"outlinewidth\":0,\"ticks\":\"\"},\"colorscale\":[[0.0,\"#0d0887\"],[0.1111111111111111,\"#46039f\"],[0.2222222222222222,\"#7201a8\"],[0.3333333333333333,\"#9c179e\"],[0.4444444444444444,\"#bd3786\"],[0.5555555555555556,\"#d8576b\"],[0.6666666666666666,\"#ed7953\"],[0.7777777777777778,\"#fb9f3a\"],[0.8888888888888888,\"#fdca26\"],[1.0,\"#f0f921\"]],\"type\":\"surface\"}],\"table\":[{\"cells\":{\"fill\":{\"color\":\"#EBF0F8\"},\"line\":{\"color\":\"white\"}},\"header\":{\"fill\":{\"color\":\"#C8D4E3\"},\"line\":{\"color\":\"white\"}},\"type\":\"table\"}]},\"layout\":{\"annotationdefaults\":{\"arrowcolor\":\"#2a3f5f\",\"arrowhead\":0,\"arrowwidth\":1},\"autotypenumbers\":\"strict\",\"coloraxis\":{\"colorbar\":{\"outlinewidth\":0,\"ticks\":\"\"}},\"colorscale\":{\"diverging\":[[0,\"#8e0152\"],[0.1,\"#c51b7d\"],[0.2,\"#de77ae\"],[0.3,\"#f1b6da\"],[0.4,\"#fde0ef\"],[0.5,\"#f7f7f7\"],[0.6,\"#e6f5d0\"],[0.7,\"#b8e186\"],[0.8,\"#7fbc41\"],[0.9,\"#4d9221\"],[1,\"#276419\"]],\"sequential\":[[0.0,\"#0d0887\"],[0.1111111111111111,\"#46039f\"],[0.2222222222222222,\"#7201a8\"],[0.3333333333333333,\"#9c179e\"],[0.4444444444444444,\"#bd3786\"],[0.5555555555555556,\"#d8576b\"],[0.6666666666666666,\"#ed7953\"],[0.7777777777777778,\"#fb9f3a\"],[0.8888888888888888,\"#fdca26\"],[1.0,\"#f0f921\"]],\"sequentialminus\":[[0.0,\"#0d0887\"],[0.1111111111111111,\"#46039f\"],[0.2222222222222222,\"#7201a8\"],[0.3333333333333333,\"#9c179e\"],[0.4444444444444444,\"#bd3786\"],[0.5555555555555556,\"#d8576b\"],[0.6666666666666666,\"#ed7953\"],[0.7777777777777778,\"#fb9f3a\"],[0.8888888888888888,\"#fdca26\"],[1.0,\"#f0f921\"]]},\"colorway\":[\"#636efa\",\"#EF553B\",\"#00cc96\",\"#ab63fa\",\"#FFA15A\",\"#19d3f3\",\"#FF6692\",\"#B6E880\",\"#FF97FF\",\"#FECB52\"],\"font\":{\"color\":\"#2a3f5f\"},\"geo\":{\"bgcolor\":\"white\",\"lakecolor\":\"white\",\"landcolor\":\"#E5ECF6\",\"showlakes\":true,\"showland\":true,\"subunitcolor\":\"white\"},\"hoverlabel\":{\"align\":\"left\"},\"hovermode\":\"closest\",\"mapbox\":{\"style\":\"light\"},\"paper_bgcolor\":\"white\",\"plot_bgcolor\":\"#E5ECF6\",\"polar\":{\"angularaxis\":{\"gridcolor\":\"white\",\"linecolor\":\"white\",\"ticks\":\"\"},\"bgcolor\":\"#E5ECF6\",\"radialaxis\":{\"gridcolor\":\"white\",\"linecolor\":\"white\",\"ticks\":\"\"}},\"scene\":{\"xaxis\":{\"backgroundcolor\":\"#E5ECF6\",\"gridcolor\":\"white\",\"gridwidth\":2,\"linecolor\":\"white\",\"showbackground\":true,\"ticks\":\"\",\"zerolinecolor\":\"white\"},\"yaxis\":{\"backgroundcolor\":\"#E5ECF6\",\"gridcolor\":\"white\",\"gridwidth\":2,\"linecolor\":\"white\",\"showbackground\":true,\"ticks\":\"\",\"zerolinecolor\":\"white\"},\"zaxis\":{\"backgroundcolor\":\"#E5ECF6\",\"gridcolor\":\"white\",\"gridwidth\":2,\"linecolor\":\"white\",\"showbackground\":true,\"ticks\":\"\",\"zerolinecolor\":\"white\"}},\"shapedefaults\":{\"line\":{\"color\":\"#2a3f5f\"}},\"ternary\":{\"aaxis\":{\"gridcolor\":\"white\",\"linecolor\":\"white\",\"ticks\":\"\"},\"baxis\":{\"gridcolor\":\"white\",\"linecolor\":\"white\",\"ticks\":\"\"},\"bgcolor\":\"#E5ECF6\",\"caxis\":{\"gridcolor\":\"white\",\"linecolor\":\"white\",\"ticks\":\"\"}},\"title\":{\"x\":0.05},\"xaxis\":{\"automargin\":true,\"gridcolor\":\"white\",\"linecolor\":\"white\",\"ticks\":\"\",\"title\":{\"standoff\":15},\"zerolinecolor\":\"white\",\"zerolinewidth\":2},\"yaxis\":{\"automargin\":true,\"gridcolor\":\"white\",\"linecolor\":\"white\",\"ticks\":\"\",\"title\":{\"standoff\":15},\"zerolinecolor\":\"white\",\"zerolinewidth\":2}}},\"title\":{\"text\":\"PARIS - BORDEAUX\"},\"xaxis\":{\"anchor\":\"y\",\"domain\":[0.0,1.0],\"title\":{\"text\":\"Ann\\u00e9es\"}},\"yaxis\":{\"anchor\":\"x\",\"domain\":[0.0,1.0],\"title\":{\"text\":\"Minutes\"}}},                        {\"responsive\": true}                    ).then(function(){\n",
       "                            \n",
       "var gd = document.getElementById('7f97d73d-89f8-4e45-a7c9-0311c8f39833');\n",
       "var x = new MutationObserver(function (mutations, observer) {{\n",
       "        var display = window.getComputedStyle(gd).display;\n",
       "        if (!display || display === 'none') {{\n",
       "            console.log([gd, 'removed!']);\n",
       "            Plotly.purge(gd);\n",
       "            observer.disconnect();\n",
       "        }}\n",
       "}});\n",
       "\n",
       "// Listen for the removal of the full notebook cells\n",
       "var notebookContainer = gd.closest('#notebook-container');\n",
       "if (notebookContainer) {{\n",
       "    x.observe(notebookContainer, {childList: true});\n",
       "}}\n",
       "\n",
       "// Listen for the clearing of the current output cell\n",
       "var outputEl = gd.closest('.output');\n",
       "if (outputEl) {{\n",
       "    x.observe(outputEl, {childList: true});\n",
       "}}\n",
       "\n",
       "                        })                };                });            </script>        </div>"
      ]
     },
     "metadata": {},
     "output_type": "display_data"
    }
   ],
   "source": [
    "pd.options.plotting.backend = \"plotly\"\n",
    "relation_groups = train_df.groupby(\"Relations\")\n",
    "relations_list = list(relation_groups.groups.keys())\n",
    "relations_list[12] = \"PARIS - BOULOGNE-SUR-MER\"\n",
    "relations_list[15] = \"PARIS - CHERBOURG-EN-COTENTIN\"\n",
    "relations_list[16] = \"PARIS - CLERMONT-FERRAND\"\n",
    "relations_list[39] = \"PARIS - SAINT\"\n",
    "\n",
    "my_line = relations_list[11]\n",
    "my_line_df = relation_groups.get_group(my_line)\n",
    "my_line_df = my_line_df.set_index(\"Année\").drop(columns=\"Relations\").dropna().interpolate(method='spline', order = 3)\n",
    "my_line_df.plot().update_xaxes(title_text=\"Années\").update_yaxes(title_text=\"Minutes\").update_layout(title=my_line)"
   ]
  },
  {
   "cell_type": "code",
   "execution_count": 84,
   "id": "fe440be0-7bdc-4672-ae53-b6b990233c68",
   "metadata": {},
   "outputs": [
    {
     "data": {
      "text/plain": [
       "['BORDEAUX - LILLE',\n",
       " 'BORDEAUX - MARSEILLE',\n",
       " 'LYON - BORDEAUX',\n",
       " 'LYON - LILLE',\n",
       " 'LYON - NANTES',\n",
       " 'LYON - ROUEN',\n",
       " 'LYON - STRASBOURG',\n",
       " 'PARIS - AMIENS',\n",
       " 'PARIS - ANGERS',\n",
       " 'PARIS - ARRAS',\n",
       " 'PARIS - BAYONNE',\n",
       " 'PARIS - BORDEAUX',\n",
       " 'PARIS - BOULOGNE',\n",
       " 'PARIS - BREST',\n",
       " 'PARIS - CAEN',\n",
       " 'PARIS - CHERBOURG',\n",
       " 'PARIS - CLERMONT FERRAND',\n",
       " 'PARIS - DIJON',\n",
       " 'PARIS - GRENOBLE',\n",
       " 'PARIS - LA ROCHELLE',\n",
       " 'PARIS - LE HAVRE',\n",
       " 'PARIS - LE MANS',\n",
       " 'PARIS - LILLE',\n",
       " 'PARIS - LIMOGES',\n",
       " 'PARIS - LYON',\n",
       " 'PARIS - MARSEILLE',\n",
       " 'PARIS - METZ',\n",
       " 'PARIS - MONTPELLIER',\n",
       " 'PARIS - MULHOUSE',\n",
       " 'PARIS - NANCY',\n",
       " 'PARIS - NANTES',\n",
       " 'PARIS - NARBONNE',\n",
       " 'PARIS - NICE',\n",
       " 'PARIS - ORLEANS',\n",
       " 'PARIS - POITIERS',\n",
       " 'PARIS - QUIMPER',\n",
       " 'PARIS - REIMS',\n",
       " 'PARIS - RENNES',\n",
       " 'PARIS - ROUEN',\n",
       " 'PARIS - ST ETIENNE',\n",
       " 'PARIS - STRASBOURG',\n",
       " 'PARIS - TOULOUSE',\n",
       " 'PARIS - TOURS']"
      ]
     },
     "execution_count": 84,
     "metadata": {},
     "output_type": "execute_result"
    }
   ],
   "source": [
    "relations_list"
   ]
  },
  {
   "cell_type": "code",
   "execution_count": 48,
   "id": "cfb2dd3a-5b30-4cf8-a065-d570721b0834",
   "metadata": {},
   "outputs": [
    {
     "data": {
      "text/plain": [
       "<BarContainer object of 74 artists>"
      ]
     },
     "execution_count": 48,
     "metadata": {},
     "output_type": "execute_result"
    },
    {
     "data": {
      "image/png": "[encoded data removed]",
      "text/plain": [
       "<Figure size 1440x360 with 1 Axes>"
      ]
     },
     "metadata": {
      "image/png": {
       "height": 302,
       "width": 1150
      },
      "needs_background": "light"
     },
     "output_type": "display_data"
    }
   ],
   "source": [
    "na_size = train_df[train_df[\"Temps estimé en minutes\"].isna()].groupby(\"Année\").size()\n",
    "\n",
    "plt.rcParams[\"figure.figsize\"] = (20,5)\n",
    "plt.bar(na_size.index, na_size.tolist())"
   ]
  },
  {
   "cell_type": "code",
   "execution_count": 49,
   "id": "63c14230-6792-4cf5-8928-55db26a9a411",
   "metadata": {},
   "outputs": [
    {
     "ename": "TypeError",
     "evalue": "bar() missing 1 required positional argument: 'height'",
     "output_type": "error",
     "traceback": [
      "\u001b[0;31m---------------------------------------------------------------------------\u001b[0m",
      "\u001b[0;31mTypeError\u001b[0m                                 Traceback (most recent call last)",
      "\u001b[0;32m/tmp/ipykernel_1989/3625470262.py\u001b[0m in \u001b[0;36m<module>\u001b[0;34m\u001b[0m\n\u001b[1;32m      1\u001b[0m \u001b[0mtrain_nb\u001b[0m \u001b[0;34m=\u001b[0m \u001b[0mtrain_df\u001b[0m\u001b[0;34m.\u001b[0m\u001b[0mgroupby\u001b[0m\u001b[0;34m(\u001b[0m\u001b[0;34m\"Année\"\u001b[0m\u001b[0;34m)\u001b[0m\u001b[0;34m.\u001b[0m\u001b[0msize\u001b[0m\u001b[0;34m(\u001b[0m\u001b[0;34m)\u001b[0m\u001b[0;34m\u001b[0m\u001b[0;34m\u001b[0m\u001b[0m\n\u001b[0;32m----> 2\u001b[0;31m \u001b[0mplt\u001b[0m\u001b[0;34m.\u001b[0m\u001b[0mbar\u001b[0m\u001b[0;34m(\u001b[0m\u001b[0mtrain_nb\u001b[0m\u001b[0;34m.\u001b[0m\u001b[0mindex\u001b[0m\u001b[0;34m,\u001b[0m \u001b[0;34m)\u001b[0m\u001b[0;34m\u001b[0m\u001b[0;34m\u001b[0m\u001b[0m\n\u001b[0m",
      "\u001b[0;31mTypeError\u001b[0m: bar() missing 1 required positional argument: 'height'"
     ]
    }
   ],
   "source": [
    "train_nb = train_df.groupby(\"Année\").size()\n",
    "plt.bar(train_nb.index, )"
   ]
  },
  {
   "cell_type": "code",
   "execution_count": 58,
   "id": "34a180ea-1c02-4870-bf54-a5a7119646b2",
   "metadata": {},
   "outputs": [],
   "source": [
    "init = pd.read_excel(\"TBGT_population_vs_train_speed/data/base-pop-historiques-1876-2019.xlsx\")"
   ]
  },
  {
   "cell_type": "code",
   "execution_count": 66,
   "id": "d76ccadb",
   "metadata": {},
   "outputs": [],
   "source": [
    "pop_df = init\n",
    "pop_df = pop_df.drop(index=[0,1,2]).drop(columns=pop_df.columns[0:3])\n",
    "pop_df.columns = pop_df.iloc[0]\n",
    "pop_df.drop(index=[3,4], inplace=True)"
   ]
  },
  {
   "cell_type": "code",
   "execution_count": 67,
   "id": "fce79acf",
   "metadata": {},
   "outputs": [],
   "source": [
    "pop_df = pop_df.set_index(\"Libellé géographique\")\n"
   ]
  },
  {
   "cell_type": "code",
   "execution_count": 68,
   "id": "0f6c1048",
   "metadata": {},
   "outputs": [
    {
     "data": {
      "text/html": [
       "<div>\n",
       "<style scoped>\n",
       "    .dataframe tbody tr th:only-of-type {\n",
       "        vertical-align: middle;\n",
       "    }\n",
       "\n",
       "    .dataframe tbody tr th {\n",
       "        vertical-align: top;\n",
       "    }\n",
       "\n",
       "    .dataframe thead th {\n",
       "        text-align: right;\n",
       "    }\n",
       "</style>\n",
       "<table border=\"1\" class=\"dataframe\">\n",
       "  <thead>\n",
       "    <tr style=\"text-align: right;\">\n",
       "      <th>3</th>\n",
       "      <th>Population en 2019</th>\n",
       "      <th>Population en 2018</th>\n",
       "      <th>Population en 2017</th>\n",
       "      <th>Population en 2016</th>\n",
       "      <th>Population en 2015</th>\n",
       "      <th>Population en 2014</th>\n",
       "      <th>Population en 2013</th>\n",
       "      <th>Population en 2012</th>\n",
       "      <th>Population en 2011</th>\n",
       "      <th>Population en 2010</th>\n",
       "      <th>...</th>\n",
       "      <th>Population en 1926</th>\n",
       "      <th>Population en 1921</th>\n",
       "      <th>Population en 1911</th>\n",
       "      <th>Population en 1906</th>\n",
       "      <th>Population en 1901</th>\n",
       "      <th>Population en 1896</th>\n",
       "      <th>Population en 1891</th>\n",
       "      <th>Population en 1886</th>\n",
       "      <th>Population en 1881</th>\n",
       "      <th>Population en 1876</th>\n",
       "    </tr>\n",
       "    <tr>\n",
       "      <th>Libellé géographique</th>\n",
       "      <th></th>\n",
       "      <th></th>\n",
       "      <th></th>\n",
       "      <th></th>\n",
       "      <th></th>\n",
       "      <th></th>\n",
       "      <th></th>\n",
       "      <th></th>\n",
       "      <th></th>\n",
       "      <th></th>\n",
       "      <th></th>\n",
       "      <th></th>\n",
       "      <th></th>\n",
       "      <th></th>\n",
       "      <th></th>\n",
       "      <th></th>\n",
       "      <th></th>\n",
       "      <th></th>\n",
       "      <th></th>\n",
       "      <th></th>\n",
       "      <th></th>\n",
       "    </tr>\n",
       "  </thead>\n",
       "  <tbody>\n",
       "    <tr>\n",
       "      <th>L'Abergement-Clémenciat</th>\n",
       "      <td>779</td>\n",
       "      <td>771</td>\n",
       "      <td>776</td>\n",
       "      <td>767</td>\n",
       "      <td>767</td>\n",
       "      <td>767</td>\n",
       "      <td>767</td>\n",
       "      <td>777</td>\n",
       "      <td>780</td>\n",
       "      <td>784</td>\n",
       "      <td>...</td>\n",
       "      <td>543</td>\n",
       "      <td>566</td>\n",
       "      <td>560</td>\n",
       "      <td>629</td>\n",
       "      <td>637</td>\n",
       "      <td>572</td>\n",
       "      <td>594</td>\n",
       "      <td>622</td>\n",
       "      <td>605</td>\n",
       "      <td>604</td>\n",
       "    </tr>\n",
       "    <tr>\n",
       "      <th>L'Abergement-de-Varey</th>\n",
       "      <td>256</td>\n",
       "      <td>253</td>\n",
       "      <td>248</td>\n",
       "      <td>243</td>\n",
       "      <td>241</td>\n",
       "      <td>239</td>\n",
       "      <td>236</td>\n",
       "      <td>235</td>\n",
       "      <td>234</td>\n",
       "      <td>221</td>\n",
       "      <td>...</td>\n",
       "      <td>253</td>\n",
       "      <td>256</td>\n",
       "      <td>291</td>\n",
       "      <td>323</td>\n",
       "      <td>357</td>\n",
       "      <td>391</td>\n",
       "      <td>421</td>\n",
       "      <td>486</td>\n",
       "      <td>490</td>\n",
       "      <td>484</td>\n",
       "    </tr>\n",
       "    <tr>\n",
       "      <th>Ambérieu-en-Bugey</th>\n",
       "      <td>14134</td>\n",
       "      <td>14204</td>\n",
       "      <td>14035</td>\n",
       "      <td>14081</td>\n",
       "      <td>14127</td>\n",
       "      <td>14022</td>\n",
       "      <td>14359</td>\n",
       "      <td>14233</td>\n",
       "      <td>13839</td>\n",
       "      <td>13835</td>\n",
       "      <td>...</td>\n",
       "      <td>5705</td>\n",
       "      <td>4796</td>\n",
       "      <td>4334</td>\n",
       "      <td>4100</td>\n",
       "      <td>4023</td>\n",
       "      <td>3548</td>\n",
       "      <td>3635</td>\n",
       "      <td>3618</td>\n",
       "      <td>3396</td>\n",
       "      <td>3427</td>\n",
       "    </tr>\n",
       "    <tr>\n",
       "      <th>Ambérieux-en-Dombes</th>\n",
       "      <td>1751</td>\n",
       "      <td>1720</td>\n",
       "      <td>1689</td>\n",
       "      <td>1671</td>\n",
       "      <td>1619</td>\n",
       "      <td>1627</td>\n",
       "      <td>1635</td>\n",
       "      <td>1642</td>\n",
       "      <td>1600</td>\n",
       "      <td>1616</td>\n",
       "      <td>...</td>\n",
       "      <td>690</td>\n",
       "      <td>698</td>\n",
       "      <td>805</td>\n",
       "      <td>805</td>\n",
       "      <td>835</td>\n",
       "      <td>852</td>\n",
       "      <td>862</td>\n",
       "      <td>882</td>\n",
       "      <td>879</td>\n",
       "      <td>848</td>\n",
       "    </tr>\n",
       "    <tr>\n",
       "      <th>Ambléon</th>\n",
       "      <td>112</td>\n",
       "      <td>112</td>\n",
       "      <td>111</td>\n",
       "      <td>110</td>\n",
       "      <td>109</td>\n",
       "      <td>109</td>\n",
       "      <td>108</td>\n",
       "      <td>110</td>\n",
       "      <td>112</td>\n",
       "      <td>116</td>\n",
       "      <td>...</td>\n",
       "      <td>161</td>\n",
       "      <td>150</td>\n",
       "      <td>159</td>\n",
       "      <td>193</td>\n",
       "      <td>200</td>\n",
       "      <td>206</td>\n",
       "      <td>200</td>\n",
       "      <td>200</td>\n",
       "      <td>213</td>\n",
       "      <td>191</td>\n",
       "    </tr>\n",
       "    <tr>\n",
       "      <th>...</th>\n",
       "      <td>...</td>\n",
       "      <td>...</td>\n",
       "      <td>...</td>\n",
       "      <td>...</td>\n",
       "      <td>...</td>\n",
       "      <td>...</td>\n",
       "      <td>...</td>\n",
       "      <td>...</td>\n",
       "      <td>...</td>\n",
       "      <td>...</td>\n",
       "      <td>...</td>\n",
       "      <td>...</td>\n",
       "      <td>...</td>\n",
       "      <td>...</td>\n",
       "      <td>...</td>\n",
       "      <td>...</td>\n",
       "      <td>...</td>\n",
       "      <td>...</td>\n",
       "      <td>...</td>\n",
       "      <td>...</td>\n",
       "      <td>...</td>\n",
       "    </tr>\n",
       "    <tr>\n",
       "      <th>Sainte-Suzanne</th>\n",
       "      <td>24065</td>\n",
       "      <td>23718</td>\n",
       "      <td>23505</td>\n",
       "      <td>23224</td>\n",
       "      <td>23068</td>\n",
       "      <td>22406</td>\n",
       "      <td>22209</td>\n",
       "      <td>22388</td>\n",
       "      <td>22574</td>\n",
       "      <td>22421</td>\n",
       "      <td>...</td>\n",
       "      <td>NaN</td>\n",
       "      <td>NaN</td>\n",
       "      <td>NaN</td>\n",
       "      <td>NaN</td>\n",
       "      <td>NaN</td>\n",
       "      <td>NaN</td>\n",
       "      <td>NaN</td>\n",
       "      <td>NaN</td>\n",
       "      <td>NaN</td>\n",
       "      <td>NaN</td>\n",
       "    </tr>\n",
       "    <tr>\n",
       "      <th>Salazie</th>\n",
       "      <td>7136</td>\n",
       "      <td>7224</td>\n",
       "      <td>7312</td>\n",
       "      <td>7400</td>\n",
       "      <td>7384</td>\n",
       "      <td>7132</td>\n",
       "      <td>7226</td>\n",
       "      <td>7320</td>\n",
       "      <td>7418</td>\n",
       "      <td>7510</td>\n",
       "      <td>...</td>\n",
       "      <td>NaN</td>\n",
       "      <td>NaN</td>\n",
       "      <td>NaN</td>\n",
       "      <td>NaN</td>\n",
       "      <td>NaN</td>\n",
       "      <td>NaN</td>\n",
       "      <td>NaN</td>\n",
       "      <td>NaN</td>\n",
       "      <td>NaN</td>\n",
       "      <td>NaN</td>\n",
       "    </tr>\n",
       "    <tr>\n",
       "      <th>Le Tampon</th>\n",
       "      <td>79824</td>\n",
       "      <td>79385</td>\n",
       "      <td>78629</td>\n",
       "      <td>77283</td>\n",
       "      <td>76310</td>\n",
       "      <td>76796</td>\n",
       "      <td>76090</td>\n",
       "      <td>75631</td>\n",
       "      <td>74998</td>\n",
       "      <td>73365</td>\n",
       "      <td>...</td>\n",
       "      <td>NaN</td>\n",
       "      <td>NaN</td>\n",
       "      <td>NaN</td>\n",
       "      <td>NaN</td>\n",
       "      <td>NaN</td>\n",
       "      <td>NaN</td>\n",
       "      <td>NaN</td>\n",
       "      <td>NaN</td>\n",
       "      <td>NaN</td>\n",
       "      <td>NaN</td>\n",
       "    </tr>\n",
       "    <tr>\n",
       "      <th>Les Trois-Bassins</th>\n",
       "      <td>7015</td>\n",
       "      <td>7076</td>\n",
       "      <td>7139</td>\n",
       "      <td>7111</td>\n",
       "      <td>7127</td>\n",
       "      <td>7198</td>\n",
       "      <td>7268</td>\n",
       "      <td>7339</td>\n",
       "      <td>7226</td>\n",
       "      <td>7121</td>\n",
       "      <td>...</td>\n",
       "      <td>NaN</td>\n",
       "      <td>NaN</td>\n",
       "      <td>NaN</td>\n",
       "      <td>NaN</td>\n",
       "      <td>NaN</td>\n",
       "      <td>NaN</td>\n",
       "      <td>NaN</td>\n",
       "      <td>NaN</td>\n",
       "      <td>NaN</td>\n",
       "      <td>NaN</td>\n",
       "    </tr>\n",
       "    <tr>\n",
       "      <th>Cilaos</th>\n",
       "      <td>5538</td>\n",
       "      <td>5492</td>\n",
       "      <td>5456</td>\n",
       "      <td>5403</td>\n",
       "      <td>5350</td>\n",
       "      <td>5295</td>\n",
       "      <td>5386</td>\n",
       "      <td>5440</td>\n",
       "      <td>5623</td>\n",
       "      <td>5807</td>\n",
       "      <td>...</td>\n",
       "      <td>NaN</td>\n",
       "      <td>NaN</td>\n",
       "      <td>NaN</td>\n",
       "      <td>NaN</td>\n",
       "      <td>NaN</td>\n",
       "      <td>NaN</td>\n",
       "      <td>NaN</td>\n",
       "      <td>NaN</td>\n",
       "      <td>NaN</td>\n",
       "      <td>NaN</td>\n",
       "    </tr>\n",
       "  </tbody>\n",
       "</table>\n",
       "<p>34967 rows × 33 columns</p>\n",
       "</div>"
      ],
      "text/plain": [
       "3                       Population en 2019 Population en 2018  \\\n",
       "Libellé géographique                                            \n",
       "L'Abergement-Clémenciat                779                771   \n",
       "L'Abergement-de-Varey                  256                253   \n",
       "Ambérieu-en-Bugey                    14134              14204   \n",
       "Ambérieux-en-Dombes                   1751               1720   \n",
       "Ambléon                                112                112   \n",
       "...                                    ...                ...   \n",
       "Sainte-Suzanne                       24065              23718   \n",
       "Salazie                               7136               7224   \n",
       "Le Tampon                            79824              79385   \n",
       "Les Trois-Bassins                     7015               7076   \n",
       "Cilaos                                5538               5492   \n",
       "\n",
       "3                       Population en 2017 Population en 2016  \\\n",
       "Libellé géographique                                            \n",
       "L'Abergement-Clémenciat                776                767   \n",
       "L'Abergement-de-Varey                  248                243   \n",
       "Ambérieu-en-Bugey                    14035              14081   \n",
       "Ambérieux-en-Dombes                   1689               1671   \n",
       "Ambléon                                111                110   \n",
       "...                                    ...                ...   \n",
       "Sainte-Suzanne                       23505              23224   \n",
       "Salazie                               7312               7400   \n",
       "Le Tampon                            78629              77283   \n",
       "Les Trois-Bassins                     7139               7111   \n",
       "Cilaos                                5456               5403   \n",
       "\n",
       "3                       Population en 2015  Population en 2014  \\\n",
       "Libellé géographique                                             \n",
       "L'Abergement-Clémenciat                 767                767   \n",
       "L'Abergement-de-Varey                   241                239   \n",
       "Ambérieu-en-Bugey                     14127              14022   \n",
       "Ambérieux-en-Dombes                    1619               1627   \n",
       "Ambléon                                 109                109   \n",
       "...                                     ...                ...   \n",
       "Sainte-Suzanne                        23068              22406   \n",
       "Salazie                                7384               7132   \n",
       "Le Tampon                             76310              76796   \n",
       "Les Trois-Bassins                      7127               7198   \n",
       "Cilaos                                 5350               5295   \n",
       "\n",
       "3                       Population en 2013  Population en 2012  \\\n",
       "Libellé géographique                                             \n",
       "L'Abergement-Clémenciat                 767                777   \n",
       "L'Abergement-de-Varey                   236                235   \n",
       "Ambérieu-en-Bugey                     14359              14233   \n",
       "Ambérieux-en-Dombes                    1635               1642   \n",
       "Ambléon                                 108                110   \n",
       "...                                     ...                ...   \n",
       "Sainte-Suzanne                        22209              22388   \n",
       "Salazie                                7226               7320   \n",
       "Le Tampon                             76090              75631   \n",
       "Les Trois-Bassins                      7268               7339   \n",
       "Cilaos                                 5386               5440   \n",
       "\n",
       "3                       Population en 2011 Population en 2010  ...  \\\n",
       "Libellé géographique                                           ...   \n",
       "L'Abergement-Clémenciat                780                784  ...   \n",
       "L'Abergement-de-Varey                  234                221  ...   \n",
       "Ambérieu-en-Bugey                    13839              13835  ...   \n",
       "Ambérieux-en-Dombes                   1600               1616  ...   \n",
       "Ambléon                                112                116  ...   \n",
       "...                                    ...                ...  ...   \n",
       "Sainte-Suzanne                       22574              22421  ...   \n",
       "Salazie                               7418               7510  ...   \n",
       "Le Tampon                            74998              73365  ...   \n",
       "Les Trois-Bassins                     7226               7121  ...   \n",
       "Cilaos                                5623               5807  ...   \n",
       "\n",
       "3                       Population en 1926 Population en 1921  \\\n",
       "Libellé géographique                                            \n",
       "L'Abergement-Clémenciat                543                566   \n",
       "L'Abergement-de-Varey                  253                256   \n",
       "Ambérieu-en-Bugey                     5705               4796   \n",
       "Ambérieux-en-Dombes                    690                698   \n",
       "Ambléon                                161                150   \n",
       "...                                    ...                ...   \n",
       "Sainte-Suzanne                         NaN                NaN   \n",
       "Salazie                                NaN                NaN   \n",
       "Le Tampon                              NaN                NaN   \n",
       "Les Trois-Bassins                      NaN                NaN   \n",
       "Cilaos                                 NaN                NaN   \n",
       "\n",
       "3                       Population en 1911 Population en 1906  \\\n",
       "Libellé géographique                                            \n",
       "L'Abergement-Clémenciat                560                629   \n",
       "L'Abergement-de-Varey                  291                323   \n",
       "Ambérieu-en-Bugey                     4334               4100   \n",
       "Ambérieux-en-Dombes                    805                805   \n",
       "Ambléon                                159                193   \n",
       "...                                    ...                ...   \n",
       "Sainte-Suzanne                         NaN                NaN   \n",
       "Salazie                                NaN                NaN   \n",
       "Le Tampon                              NaN                NaN   \n",
       "Les Trois-Bassins                      NaN                NaN   \n",
       "Cilaos                                 NaN                NaN   \n",
       "\n",
       "3                       Population en 1901 Population en 1896  \\\n",
       "Libellé géographique                                            \n",
       "L'Abergement-Clémenciat                637                572   \n",
       "L'Abergement-de-Varey                  357                391   \n",
       "Ambérieu-en-Bugey                     4023               3548   \n",
       "Ambérieux-en-Dombes                    835                852   \n",
       "Ambléon                                200                206   \n",
       "...                                    ...                ...   \n",
       "Sainte-Suzanne                         NaN                NaN   \n",
       "Salazie                                NaN                NaN   \n",
       "Le Tampon                              NaN                NaN   \n",
       "Les Trois-Bassins                      NaN                NaN   \n",
       "Cilaos                                 NaN                NaN   \n",
       "\n",
       "3                       Population en 1891 Population en 1886  \\\n",
       "Libellé géographique                                            \n",
       "L'Abergement-Clémenciat                594                622   \n",
       "L'Abergement-de-Varey                  421                486   \n",
       "Ambérieu-en-Bugey                     3635               3618   \n",
       "Ambérieux-en-Dombes                    862                882   \n",
       "Ambléon                                200                200   \n",
       "...                                    ...                ...   \n",
       "Sainte-Suzanne                         NaN                NaN   \n",
       "Salazie                                NaN                NaN   \n",
       "Le Tampon                              NaN                NaN   \n",
       "Les Trois-Bassins                      NaN                NaN   \n",
       "Cilaos                                 NaN                NaN   \n",
       "\n",
       "3                       Population en 1881 Population en 1876  \n",
       "Libellé géographique                                           \n",
       "L'Abergement-Clémenciat                605                604  \n",
       "L'Abergement-de-Varey                  490                484  \n",
       "Ambérieu-en-Bugey                     3396               3427  \n",
       "Ambérieux-en-Dombes                    879                848  \n",
       "Ambléon                                213                191  \n",
       "...                                    ...                ...  \n",
       "Sainte-Suzanne                         NaN                NaN  \n",
       "Salazie                                NaN                NaN  \n",
       "Le Tampon                              NaN                NaN  \n",
       "Les Trois-Bassins                      NaN                NaN  \n",
       "Cilaos                                 NaN                NaN  \n",
       "\n",
       "[34967 rows x 33 columns]"
      ]
     },
     "execution_count": 68,
     "metadata": {},
     "output_type": "execute_result"
    }
   ],
   "source": [
    "pop_df"
   ]
  },
  {
   "cell_type": "code",
   "execution_count": 69,
   "id": "3aa7be99",
   "metadata": {},
   "outputs": [
    {
     "data": {
      "text/html": [
       "<div>\n",
       "<style scoped>\n",
       "    .dataframe tbody tr th:only-of-type {\n",
       "        vertical-align: middle;\n",
       "    }\n",
       "\n",
       "    .dataframe tbody tr th {\n",
       "        vertical-align: top;\n",
       "    }\n",
       "\n",
       "    .dataframe thead th {\n",
       "        text-align: right;\n",
       "    }\n",
       "</style>\n",
       "<table border=\"1\" class=\"dataframe\">\n",
       "  <thead>\n",
       "    <tr style=\"text-align: right;\">\n",
       "      <th></th>\n",
       "      <th>2019</th>\n",
       "      <th>2018</th>\n",
       "      <th>2017</th>\n",
       "      <th>2016</th>\n",
       "      <th>2015</th>\n",
       "      <th>2014</th>\n",
       "      <th>2013</th>\n",
       "      <th>2012</th>\n",
       "      <th>2011</th>\n",
       "      <th>2010</th>\n",
       "      <th>...</th>\n",
       "      <th>1926</th>\n",
       "      <th>1921</th>\n",
       "      <th>1911</th>\n",
       "      <th>1906</th>\n",
       "      <th>1901</th>\n",
       "      <th>1896</th>\n",
       "      <th>1891</th>\n",
       "      <th>1886</th>\n",
       "      <th>1881</th>\n",
       "      <th>1876</th>\n",
       "    </tr>\n",
       "    <tr>\n",
       "      <th>Libellé géographique</th>\n",
       "      <th></th>\n",
       "      <th></th>\n",
       "      <th></th>\n",
       "      <th></th>\n",
       "      <th></th>\n",
       "      <th></th>\n",
       "      <th></th>\n",
       "      <th></th>\n",
       "      <th></th>\n",
       "      <th></th>\n",
       "      <th></th>\n",
       "      <th></th>\n",
       "      <th></th>\n",
       "      <th></th>\n",
       "      <th></th>\n",
       "      <th></th>\n",
       "      <th></th>\n",
       "      <th></th>\n",
       "      <th></th>\n",
       "      <th></th>\n",
       "      <th></th>\n",
       "    </tr>\n",
       "  </thead>\n",
       "  <tbody>\n",
       "    <tr>\n",
       "      <th>L'Abergement-Clémenciat</th>\n",
       "      <td>779</td>\n",
       "      <td>771</td>\n",
       "      <td>776</td>\n",
       "      <td>767</td>\n",
       "      <td>767</td>\n",
       "      <td>767</td>\n",
       "      <td>767</td>\n",
       "      <td>777</td>\n",
       "      <td>780</td>\n",
       "      <td>784</td>\n",
       "      <td>...</td>\n",
       "      <td>543</td>\n",
       "      <td>566</td>\n",
       "      <td>560</td>\n",
       "      <td>629</td>\n",
       "      <td>637</td>\n",
       "      <td>572</td>\n",
       "      <td>594</td>\n",
       "      <td>622</td>\n",
       "      <td>605</td>\n",
       "      <td>604</td>\n",
       "    </tr>\n",
       "    <tr>\n",
       "      <th>L'Abergement-de-Varey</th>\n",
       "      <td>256</td>\n",
       "      <td>253</td>\n",
       "      <td>248</td>\n",
       "      <td>243</td>\n",
       "      <td>241</td>\n",
       "      <td>239</td>\n",
       "      <td>236</td>\n",
       "      <td>235</td>\n",
       "      <td>234</td>\n",
       "      <td>221</td>\n",
       "      <td>...</td>\n",
       "      <td>253</td>\n",
       "      <td>256</td>\n",
       "      <td>291</td>\n",
       "      <td>323</td>\n",
       "      <td>357</td>\n",
       "      <td>391</td>\n",
       "      <td>421</td>\n",
       "      <td>486</td>\n",
       "      <td>490</td>\n",
       "      <td>484</td>\n",
       "    </tr>\n",
       "    <tr>\n",
       "      <th>Ambérieu-en-Bugey</th>\n",
       "      <td>14134</td>\n",
       "      <td>14204</td>\n",
       "      <td>14035</td>\n",
       "      <td>14081</td>\n",
       "      <td>14127</td>\n",
       "      <td>14022</td>\n",
       "      <td>14359</td>\n",
       "      <td>14233</td>\n",
       "      <td>13839</td>\n",
       "      <td>13835</td>\n",
       "      <td>...</td>\n",
       "      <td>5705</td>\n",
       "      <td>4796</td>\n",
       "      <td>4334</td>\n",
       "      <td>4100</td>\n",
       "      <td>4023</td>\n",
       "      <td>3548</td>\n",
       "      <td>3635</td>\n",
       "      <td>3618</td>\n",
       "      <td>3396</td>\n",
       "      <td>3427</td>\n",
       "    </tr>\n",
       "    <tr>\n",
       "      <th>Ambérieux-en-Dombes</th>\n",
       "      <td>1751</td>\n",
       "      <td>1720</td>\n",
       "      <td>1689</td>\n",
       "      <td>1671</td>\n",
       "      <td>1619</td>\n",
       "      <td>1627</td>\n",
       "      <td>1635</td>\n",
       "      <td>1642</td>\n",
       "      <td>1600</td>\n",
       "      <td>1616</td>\n",
       "      <td>...</td>\n",
       "      <td>690</td>\n",
       "      <td>698</td>\n",
       "      <td>805</td>\n",
       "      <td>805</td>\n",
       "      <td>835</td>\n",
       "      <td>852</td>\n",
       "      <td>862</td>\n",
       "      <td>882</td>\n",
       "      <td>879</td>\n",
       "      <td>848</td>\n",
       "    </tr>\n",
       "    <tr>\n",
       "      <th>Ambléon</th>\n",
       "      <td>112</td>\n",
       "      <td>112</td>\n",
       "      <td>111</td>\n",
       "      <td>110</td>\n",
       "      <td>109</td>\n",
       "      <td>109</td>\n",
       "      <td>108</td>\n",
       "      <td>110</td>\n",
       "      <td>112</td>\n",
       "      <td>116</td>\n",
       "      <td>...</td>\n",
       "      <td>161</td>\n",
       "      <td>150</td>\n",
       "      <td>159</td>\n",
       "      <td>193</td>\n",
       "      <td>200</td>\n",
       "      <td>206</td>\n",
       "      <td>200</td>\n",
       "      <td>200</td>\n",
       "      <td>213</td>\n",
       "      <td>191</td>\n",
       "    </tr>\n",
       "    <tr>\n",
       "      <th>...</th>\n",
       "      <td>...</td>\n",
       "      <td>...</td>\n",
       "      <td>...</td>\n",
       "      <td>...</td>\n",
       "      <td>...</td>\n",
       "      <td>...</td>\n",
       "      <td>...</td>\n",
       "      <td>...</td>\n",
       "      <td>...</td>\n",
       "      <td>...</td>\n",
       "      <td>...</td>\n",
       "      <td>...</td>\n",
       "      <td>...</td>\n",
       "      <td>...</td>\n",
       "      <td>...</td>\n",
       "      <td>...</td>\n",
       "      <td>...</td>\n",
       "      <td>...</td>\n",
       "      <td>...</td>\n",
       "      <td>...</td>\n",
       "      <td>...</td>\n",
       "    </tr>\n",
       "    <tr>\n",
       "      <th>Sainte-Suzanne</th>\n",
       "      <td>24065</td>\n",
       "      <td>23718</td>\n",
       "      <td>23505</td>\n",
       "      <td>23224</td>\n",
       "      <td>23068</td>\n",
       "      <td>22406</td>\n",
       "      <td>22209</td>\n",
       "      <td>22388</td>\n",
       "      <td>22574</td>\n",
       "      <td>22421</td>\n",
       "      <td>...</td>\n",
       "      <td>NaN</td>\n",
       "      <td>NaN</td>\n",
       "      <td>NaN</td>\n",
       "      <td>NaN</td>\n",
       "      <td>NaN</td>\n",
       "      <td>NaN</td>\n",
       "      <td>NaN</td>\n",
       "      <td>NaN</td>\n",
       "      <td>NaN</td>\n",
       "      <td>NaN</td>\n",
       "    </tr>\n",
       "    <tr>\n",
       "      <th>Salazie</th>\n",
       "      <td>7136</td>\n",
       "      <td>7224</td>\n",
       "      <td>7312</td>\n",
       "      <td>7400</td>\n",
       "      <td>7384</td>\n",
       "      <td>7132</td>\n",
       "      <td>7226</td>\n",
       "      <td>7320</td>\n",
       "      <td>7418</td>\n",
       "      <td>7510</td>\n",
       "      <td>...</td>\n",
       "      <td>NaN</td>\n",
       "      <td>NaN</td>\n",
       "      <td>NaN</td>\n",
       "      <td>NaN</td>\n",
       "      <td>NaN</td>\n",
       "      <td>NaN</td>\n",
       "      <td>NaN</td>\n",
       "      <td>NaN</td>\n",
       "      <td>NaN</td>\n",
       "      <td>NaN</td>\n",
       "    </tr>\n",
       "    <tr>\n",
       "      <th>Le Tampon</th>\n",
       "      <td>79824</td>\n",
       "      <td>79385</td>\n",
       "      <td>78629</td>\n",
       "      <td>77283</td>\n",
       "      <td>76310</td>\n",
       "      <td>76796</td>\n",
       "      <td>76090</td>\n",
       "      <td>75631</td>\n",
       "      <td>74998</td>\n",
       "      <td>73365</td>\n",
       "      <td>...</td>\n",
       "      <td>NaN</td>\n",
       "      <td>NaN</td>\n",
       "      <td>NaN</td>\n",
       "      <td>NaN</td>\n",
       "      <td>NaN</td>\n",
       "      <td>NaN</td>\n",
       "      <td>NaN</td>\n",
       "      <td>NaN</td>\n",
       "      <td>NaN</td>\n",
       "      <td>NaN</td>\n",
       "    </tr>\n",
       "    <tr>\n",
       "      <th>Les Trois-Bassins</th>\n",
       "      <td>7015</td>\n",
       "      <td>7076</td>\n",
       "      <td>7139</td>\n",
       "      <td>7111</td>\n",
       "      <td>7127</td>\n",
       "      <td>7198</td>\n",
       "      <td>7268</td>\n",
       "      <td>7339</td>\n",
       "      <td>7226</td>\n",
       "      <td>7121</td>\n",
       "      <td>...</td>\n",
       "      <td>NaN</td>\n",
       "      <td>NaN</td>\n",
       "      <td>NaN</td>\n",
       "      <td>NaN</td>\n",
       "      <td>NaN</td>\n",
       "      <td>NaN</td>\n",
       "      <td>NaN</td>\n",
       "      <td>NaN</td>\n",
       "      <td>NaN</td>\n",
       "      <td>NaN</td>\n",
       "    </tr>\n",
       "    <tr>\n",
       "      <th>Cilaos</th>\n",
       "      <td>5538</td>\n",
       "      <td>5492</td>\n",
       "      <td>5456</td>\n",
       "      <td>5403</td>\n",
       "      <td>5350</td>\n",
       "      <td>5295</td>\n",
       "      <td>5386</td>\n",
       "      <td>5440</td>\n",
       "      <td>5623</td>\n",
       "      <td>5807</td>\n",
       "      <td>...</td>\n",
       "      <td>NaN</td>\n",
       "      <td>NaN</td>\n",
       "      <td>NaN</td>\n",
       "      <td>NaN</td>\n",
       "      <td>NaN</td>\n",
       "      <td>NaN</td>\n",
       "      <td>NaN</td>\n",
       "      <td>NaN</td>\n",
       "      <td>NaN</td>\n",
       "      <td>NaN</td>\n",
       "    </tr>\n",
       "  </tbody>\n",
       "</table>\n",
       "<p>34967 rows × 33 columns</p>\n",
       "</div>"
      ],
      "text/plain": [
       "                          2019   2018   2017   2016   2015   2014   2013  \\\n",
       "Libellé géographique                                                       \n",
       "L'Abergement-Clémenciat    779    771    776    767    767    767    767   \n",
       "L'Abergement-de-Varey      256    253    248    243    241    239    236   \n",
       "Ambérieu-en-Bugey        14134  14204  14035  14081  14127  14022  14359   \n",
       "Ambérieux-en-Dombes       1751   1720   1689   1671   1619   1627   1635   \n",
       "Ambléon                    112    112    111    110    109    109    108   \n",
       "...                        ...    ...    ...    ...    ...    ...    ...   \n",
       "Sainte-Suzanne           24065  23718  23505  23224  23068  22406  22209   \n",
       "Salazie                   7136   7224   7312   7400   7384   7132   7226   \n",
       "Le Tampon                79824  79385  78629  77283  76310  76796  76090   \n",
       "Les Trois-Bassins         7015   7076   7139   7111   7127   7198   7268   \n",
       "Cilaos                    5538   5492   5456   5403   5350   5295   5386   \n",
       "\n",
       "                          2012   2011   2010  ...  1926  1921  1911  1906  \\\n",
       "Libellé géographique                          ...                           \n",
       "L'Abergement-Clémenciat    777    780    784  ...   543   566   560   629   \n",
       "L'Abergement-de-Varey      235    234    221  ...   253   256   291   323   \n",
       "Ambérieu-en-Bugey        14233  13839  13835  ...  5705  4796  4334  4100   \n",
       "Ambérieux-en-Dombes       1642   1600   1616  ...   690   698   805   805   \n",
       "Ambléon                    110    112    116  ...   161   150   159   193   \n",
       "...                        ...    ...    ...  ...   ...   ...   ...   ...   \n",
       "Sainte-Suzanne           22388  22574  22421  ...   NaN   NaN   NaN   NaN   \n",
       "Salazie                   7320   7418   7510  ...   NaN   NaN   NaN   NaN   \n",
       "Le Tampon                75631  74998  73365  ...   NaN   NaN   NaN   NaN   \n",
       "Les Trois-Bassins         7339   7226   7121  ...   NaN   NaN   NaN   NaN   \n",
       "Cilaos                    5440   5623   5807  ...   NaN   NaN   NaN   NaN   \n",
       "\n",
       "                         1901  1896  1891  1886  1881  1876  \n",
       "Libellé géographique                                         \n",
       "L'Abergement-Clémenciat   637   572   594   622   605   604  \n",
       "L'Abergement-de-Varey     357   391   421   486   490   484  \n",
       "Ambérieu-en-Bugey        4023  3548  3635  3618  3396  3427  \n",
       "Ambérieux-en-Dombes       835   852   862   882   879   848  \n",
       "Ambléon                   200   206   200   200   213   191  \n",
       "...                       ...   ...   ...   ...   ...   ...  \n",
       "Sainte-Suzanne            NaN   NaN   NaN   NaN   NaN   NaN  \n",
       "Salazie                   NaN   NaN   NaN   NaN   NaN   NaN  \n",
       "Le Tampon                 NaN   NaN   NaN   NaN   NaN   NaN  \n",
       "Les Trois-Bassins         NaN   NaN   NaN   NaN   NaN   NaN  \n",
       "Cilaos                    NaN   NaN   NaN   NaN   NaN   NaN  \n",
       "\n",
       "[34967 rows x 33 columns]"
      ]
     },
     "execution_count": 69,
     "metadata": {},
     "output_type": "execute_result"
    }
   ],
   "source": [
    "pop_df.columns = [[int(s) for s in name.split() if s.isdigit()][0] for name in pop_df.columns]\n",
    "pop_df"
   ]
  },
  {
   "cell_type": "code",
   "execution_count": 70,
   "id": "35609c59",
   "metadata": {},
   "outputs": [
    {
     "data": {
      "text/html": [
       "<div>\n",
       "<style scoped>\n",
       "    .dataframe tbody tr th:only-of-type {\n",
       "        vertical-align: middle;\n",
       "    }\n",
       "\n",
       "    .dataframe tbody tr th {\n",
       "        vertical-align: top;\n",
       "    }\n",
       "\n",
       "    .dataframe thead th {\n",
       "        text-align: right;\n",
       "    }\n",
       "</style>\n",
       "<table border=\"1\" class=\"dataframe\">\n",
       "  <thead>\n",
       "    <tr style=\"text-align: right;\">\n",
       "      <th></th>\n",
       "      <th>2019</th>\n",
       "      <th>2018</th>\n",
       "      <th>2017</th>\n",
       "      <th>2016</th>\n",
       "      <th>2015</th>\n",
       "      <th>2014</th>\n",
       "      <th>2013</th>\n",
       "      <th>2012</th>\n",
       "      <th>2011</th>\n",
       "      <th>2010</th>\n",
       "      <th>...</th>\n",
       "      <th>1926</th>\n",
       "      <th>1921</th>\n",
       "      <th>1911</th>\n",
       "      <th>1906</th>\n",
       "      <th>1901</th>\n",
       "      <th>1896</th>\n",
       "      <th>1891</th>\n",
       "      <th>1886</th>\n",
       "      <th>1881</th>\n",
       "      <th>1876</th>\n",
       "    </tr>\n",
       "    <tr>\n",
       "      <th>Libellé géographique</th>\n",
       "      <th></th>\n",
       "      <th></th>\n",
       "      <th></th>\n",
       "      <th></th>\n",
       "      <th></th>\n",
       "      <th></th>\n",
       "      <th></th>\n",
       "      <th></th>\n",
       "      <th></th>\n",
       "      <th></th>\n",
       "      <th></th>\n",
       "      <th></th>\n",
       "      <th></th>\n",
       "      <th></th>\n",
       "      <th></th>\n",
       "      <th></th>\n",
       "      <th></th>\n",
       "      <th></th>\n",
       "      <th></th>\n",
       "      <th></th>\n",
       "      <th></th>\n",
       "    </tr>\n",
       "  </thead>\n",
       "  <tbody>\n",
       "    <tr>\n",
       "      <th>L'Abergement-Clémenciat</th>\n",
       "      <td>779</td>\n",
       "      <td>771</td>\n",
       "      <td>776</td>\n",
       "      <td>767</td>\n",
       "      <td>767</td>\n",
       "      <td>767</td>\n",
       "      <td>767</td>\n",
       "      <td>777</td>\n",
       "      <td>780</td>\n",
       "      <td>784</td>\n",
       "      <td>...</td>\n",
       "      <td>543</td>\n",
       "      <td>566</td>\n",
       "      <td>560</td>\n",
       "      <td>629</td>\n",
       "      <td>637</td>\n",
       "      <td>572</td>\n",
       "      <td>594</td>\n",
       "      <td>622</td>\n",
       "      <td>605</td>\n",
       "      <td>604</td>\n",
       "    </tr>\n",
       "    <tr>\n",
       "      <th>L'Abergement-de-Varey</th>\n",
       "      <td>256</td>\n",
       "      <td>253</td>\n",
       "      <td>248</td>\n",
       "      <td>243</td>\n",
       "      <td>241</td>\n",
       "      <td>239</td>\n",
       "      <td>236</td>\n",
       "      <td>235</td>\n",
       "      <td>234</td>\n",
       "      <td>221</td>\n",
       "      <td>...</td>\n",
       "      <td>253</td>\n",
       "      <td>256</td>\n",
       "      <td>291</td>\n",
       "      <td>323</td>\n",
       "      <td>357</td>\n",
       "      <td>391</td>\n",
       "      <td>421</td>\n",
       "      <td>486</td>\n",
       "      <td>490</td>\n",
       "      <td>484</td>\n",
       "    </tr>\n",
       "    <tr>\n",
       "      <th>Ambérieu-en-Bugey</th>\n",
       "      <td>14134</td>\n",
       "      <td>14204</td>\n",
       "      <td>14035</td>\n",
       "      <td>14081</td>\n",
       "      <td>14127</td>\n",
       "      <td>14022</td>\n",
       "      <td>14359</td>\n",
       "      <td>14233</td>\n",
       "      <td>13839</td>\n",
       "      <td>13835</td>\n",
       "      <td>...</td>\n",
       "      <td>5705</td>\n",
       "      <td>4796</td>\n",
       "      <td>4334</td>\n",
       "      <td>4100</td>\n",
       "      <td>4023</td>\n",
       "      <td>3548</td>\n",
       "      <td>3635</td>\n",
       "      <td>3618</td>\n",
       "      <td>3396</td>\n",
       "      <td>3427</td>\n",
       "    </tr>\n",
       "    <tr>\n",
       "      <th>Ambérieux-en-Dombes</th>\n",
       "      <td>1751</td>\n",
       "      <td>1720</td>\n",
       "      <td>1689</td>\n",
       "      <td>1671</td>\n",
       "      <td>1619</td>\n",
       "      <td>1627</td>\n",
       "      <td>1635</td>\n",
       "      <td>1642</td>\n",
       "      <td>1600</td>\n",
       "      <td>1616</td>\n",
       "      <td>...</td>\n",
       "      <td>690</td>\n",
       "      <td>698</td>\n",
       "      <td>805</td>\n",
       "      <td>805</td>\n",
       "      <td>835</td>\n",
       "      <td>852</td>\n",
       "      <td>862</td>\n",
       "      <td>882</td>\n",
       "      <td>879</td>\n",
       "      <td>848</td>\n",
       "    </tr>\n",
       "    <tr>\n",
       "      <th>Ambléon</th>\n",
       "      <td>112</td>\n",
       "      <td>112</td>\n",
       "      <td>111</td>\n",
       "      <td>110</td>\n",
       "      <td>109</td>\n",
       "      <td>109</td>\n",
       "      <td>108</td>\n",
       "      <td>110</td>\n",
       "      <td>112</td>\n",
       "      <td>116</td>\n",
       "      <td>...</td>\n",
       "      <td>161</td>\n",
       "      <td>150</td>\n",
       "      <td>159</td>\n",
       "      <td>193</td>\n",
       "      <td>200</td>\n",
       "      <td>206</td>\n",
       "      <td>200</td>\n",
       "      <td>200</td>\n",
       "      <td>213</td>\n",
       "      <td>191</td>\n",
       "    </tr>\n",
       "    <tr>\n",
       "      <th>...</th>\n",
       "      <td>...</td>\n",
       "      <td>...</td>\n",
       "      <td>...</td>\n",
       "      <td>...</td>\n",
       "      <td>...</td>\n",
       "      <td>...</td>\n",
       "      <td>...</td>\n",
       "      <td>...</td>\n",
       "      <td>...</td>\n",
       "      <td>...</td>\n",
       "      <td>...</td>\n",
       "      <td>...</td>\n",
       "      <td>...</td>\n",
       "      <td>...</td>\n",
       "      <td>...</td>\n",
       "      <td>...</td>\n",
       "      <td>...</td>\n",
       "      <td>...</td>\n",
       "      <td>...</td>\n",
       "      <td>...</td>\n",
       "      <td>...</td>\n",
       "    </tr>\n",
       "    <tr>\n",
       "      <th>Salazie</th>\n",
       "      <td>7136</td>\n",
       "      <td>7224</td>\n",
       "      <td>7312</td>\n",
       "      <td>7400</td>\n",
       "      <td>7384</td>\n",
       "      <td>7132</td>\n",
       "      <td>7226</td>\n",
       "      <td>7320</td>\n",
       "      <td>7418</td>\n",
       "      <td>7510</td>\n",
       "      <td>...</td>\n",
       "      <td>NaN</td>\n",
       "      <td>NaN</td>\n",
       "      <td>NaN</td>\n",
       "      <td>NaN</td>\n",
       "      <td>NaN</td>\n",
       "      <td>NaN</td>\n",
       "      <td>NaN</td>\n",
       "      <td>NaN</td>\n",
       "      <td>NaN</td>\n",
       "      <td>NaN</td>\n",
       "    </tr>\n",
       "    <tr>\n",
       "      <th>Le Tampon</th>\n",
       "      <td>79824</td>\n",
       "      <td>79385</td>\n",
       "      <td>78629</td>\n",
       "      <td>77283</td>\n",
       "      <td>76310</td>\n",
       "      <td>76796</td>\n",
       "      <td>76090</td>\n",
       "      <td>75631</td>\n",
       "      <td>74998</td>\n",
       "      <td>73365</td>\n",
       "      <td>...</td>\n",
       "      <td>NaN</td>\n",
       "      <td>NaN</td>\n",
       "      <td>NaN</td>\n",
       "      <td>NaN</td>\n",
       "      <td>NaN</td>\n",
       "      <td>NaN</td>\n",
       "      <td>NaN</td>\n",
       "      <td>NaN</td>\n",
       "      <td>NaN</td>\n",
       "      <td>NaN</td>\n",
       "    </tr>\n",
       "    <tr>\n",
       "      <th>Les Trois-Bassins</th>\n",
       "      <td>7015</td>\n",
       "      <td>7076</td>\n",
       "      <td>7139</td>\n",
       "      <td>7111</td>\n",
       "      <td>7127</td>\n",
       "      <td>7198</td>\n",
       "      <td>7268</td>\n",
       "      <td>7339</td>\n",
       "      <td>7226</td>\n",
       "      <td>7121</td>\n",
       "      <td>...</td>\n",
       "      <td>NaN</td>\n",
       "      <td>NaN</td>\n",
       "      <td>NaN</td>\n",
       "      <td>NaN</td>\n",
       "      <td>NaN</td>\n",
       "      <td>NaN</td>\n",
       "      <td>NaN</td>\n",
       "      <td>NaN</td>\n",
       "      <td>NaN</td>\n",
       "      <td>NaN</td>\n",
       "    </tr>\n",
       "    <tr>\n",
       "      <th>Cilaos</th>\n",
       "      <td>5538</td>\n",
       "      <td>5492</td>\n",
       "      <td>5456</td>\n",
       "      <td>5403</td>\n",
       "      <td>5350</td>\n",
       "      <td>5295</td>\n",
       "      <td>5386</td>\n",
       "      <td>5440</td>\n",
       "      <td>5623</td>\n",
       "      <td>5807</td>\n",
       "      <td>...</td>\n",
       "      <td>NaN</td>\n",
       "      <td>NaN</td>\n",
       "      <td>NaN</td>\n",
       "      <td>NaN</td>\n",
       "      <td>NaN</td>\n",
       "      <td>NaN</td>\n",
       "      <td>NaN</td>\n",
       "      <td>NaN</td>\n",
       "      <td>NaN</td>\n",
       "      <td>NaN</td>\n",
       "    </tr>\n",
       "    <tr>\n",
       "      <th>Paris</th>\n",
       "      <td>2165423</td>\n",
       "      <td>2175601</td>\n",
       "      <td>2187526</td>\n",
       "      <td>2190327</td>\n",
       "      <td>2206488</td>\n",
       "      <td>2220445</td>\n",
       "      <td>2229621</td>\n",
       "      <td>2240621</td>\n",
       "      <td>2249975</td>\n",
       "      <td>2243833</td>\n",
       "      <td>...</td>\n",
       "      <td>2871429</td>\n",
       "      <td>2906472</td>\n",
       "      <td>2888110</td>\n",
       "      <td>2763393</td>\n",
       "      <td>2714068</td>\n",
       "      <td>2536834</td>\n",
       "      <td>2447957</td>\n",
       "      <td>2344550</td>\n",
       "      <td>2269023</td>\n",
       "      <td>1990806</td>\n",
       "    </tr>\n",
       "  </tbody>\n",
       "</table>\n",
       "<p>34968 rows × 33 columns</p>\n",
       "</div>"
      ],
      "text/plain": [
       "                            2019     2018     2017     2016     2015     2014  \\\n",
       "Libellé géographique                                                            \n",
       "L'Abergement-Clémenciat      779      771      776      767      767      767   \n",
       "L'Abergement-de-Varey        256      253      248      243      241      239   \n",
       "Ambérieu-en-Bugey          14134    14204    14035    14081    14127    14022   \n",
       "Ambérieux-en-Dombes         1751     1720     1689     1671     1619     1627   \n",
       "Ambléon                      112      112      111      110      109      109   \n",
       "...                          ...      ...      ...      ...      ...      ...   \n",
       "Salazie                     7136     7224     7312     7400     7384     7132   \n",
       "Le Tampon                  79824    79385    78629    77283    76310    76796   \n",
       "Les Trois-Bassins           7015     7076     7139     7111     7127     7198   \n",
       "Cilaos                      5538     5492     5456     5403     5350     5295   \n",
       "Paris                    2165423  2175601  2187526  2190327  2206488  2220445   \n",
       "\n",
       "                            2013     2012     2011     2010  ...     1926  \\\n",
       "Libellé géographique                                         ...            \n",
       "L'Abergement-Clémenciat      767      777      780      784  ...      543   \n",
       "L'Abergement-de-Varey        236      235      234      221  ...      253   \n",
       "Ambérieu-en-Bugey          14359    14233    13839    13835  ...     5705   \n",
       "Ambérieux-en-Dombes         1635     1642     1600     1616  ...      690   \n",
       "Ambléon                      108      110      112      116  ...      161   \n",
       "...                          ...      ...      ...      ...  ...      ...   \n",
       "Salazie                     7226     7320     7418     7510  ...      NaN   \n",
       "Le Tampon                  76090    75631    74998    73365  ...      NaN   \n",
       "Les Trois-Bassins           7268     7339     7226     7121  ...      NaN   \n",
       "Cilaos                      5386     5440     5623     5807  ...      NaN   \n",
       "Paris                    2229621  2240621  2249975  2243833  ...  2871429   \n",
       "\n",
       "                            1921     1911     1906     1901     1896     1891  \\\n",
       "Libellé géographique                                                            \n",
       "L'Abergement-Clémenciat      566      560      629      637      572      594   \n",
       "L'Abergement-de-Varey        256      291      323      357      391      421   \n",
       "Ambérieu-en-Bugey           4796     4334     4100     4023     3548     3635   \n",
       "Ambérieux-en-Dombes          698      805      805      835      852      862   \n",
       "Ambléon                      150      159      193      200      206      200   \n",
       "...                          ...      ...      ...      ...      ...      ...   \n",
       "Salazie                      NaN      NaN      NaN      NaN      NaN      NaN   \n",
       "Le Tampon                    NaN      NaN      NaN      NaN      NaN      NaN   \n",
       "Les Trois-Bassins            NaN      NaN      NaN      NaN      NaN      NaN   \n",
       "Cilaos                       NaN      NaN      NaN      NaN      NaN      NaN   \n",
       "Paris                    2906472  2888110  2763393  2714068  2536834  2447957   \n",
       "\n",
       "                            1886     1881     1876  \n",
       "Libellé géographique                                \n",
       "L'Abergement-Clémenciat      622      605      604  \n",
       "L'Abergement-de-Varey        486      490      484  \n",
       "Ambérieu-en-Bugey           3618     3396     3427  \n",
       "Ambérieux-en-Dombes          882      879      848  \n",
       "Ambléon                      200      213      191  \n",
       "...                          ...      ...      ...  \n",
       "Salazie                      NaN      NaN      NaN  \n",
       "Le Tampon                    NaN      NaN      NaN  \n",
       "Les Trois-Bassins            NaN      NaN      NaN  \n",
       "Cilaos                       NaN      NaN      NaN  \n",
       "Paris                    2344550  2269023  1990806  \n",
       "\n",
       "[34968 rows x 33 columns]"
      ]
     },
     "execution_count": 70,
     "metadata": {},
     "output_type": "execute_result"
    }
   ],
   "source": [
    "paris = pop_df.loc[\"Paris 1er Arrondissement\":\"Paris 20e Arrondissement\"].sum()\n",
    "paris.name = \"Paris\"\n",
    "pop_df = pop_df.append(paris.transpose())\n",
    "pop_df"
   ]
  },
  {
   "cell_type": "code",
   "execution_count": 71,
   "id": "33cc3aa2",
   "metadata": {},
   "outputs": [
    {
     "data": {
      "text/html": [
       "<div>\n",
       "<style scoped>\n",
       "    .dataframe tbody tr th:only-of-type {\n",
       "        vertical-align: middle;\n",
       "    }\n",
       "\n",
       "    .dataframe tbody tr th {\n",
       "        vertical-align: top;\n",
       "    }\n",
       "\n",
       "    .dataframe thead th {\n",
       "        text-align: right;\n",
       "    }\n",
       "</style>\n",
       "<table border=\"1\" class=\"dataframe\">\n",
       "  <thead>\n",
       "    <tr style=\"text-align: right;\">\n",
       "      <th></th>\n",
       "      <th>2019</th>\n",
       "      <th>2018</th>\n",
       "      <th>2017</th>\n",
       "      <th>2016</th>\n",
       "      <th>2015</th>\n",
       "      <th>2014</th>\n",
       "      <th>2013</th>\n",
       "      <th>2012</th>\n",
       "      <th>2011</th>\n",
       "      <th>2010</th>\n",
       "      <th>...</th>\n",
       "      <th>1926</th>\n",
       "      <th>1921</th>\n",
       "      <th>1911</th>\n",
       "      <th>1906</th>\n",
       "      <th>1901</th>\n",
       "      <th>1896</th>\n",
       "      <th>1891</th>\n",
       "      <th>1886</th>\n",
       "      <th>1881</th>\n",
       "      <th>1876</th>\n",
       "    </tr>\n",
       "    <tr>\n",
       "      <th>Libellé géographique</th>\n",
       "      <th></th>\n",
       "      <th></th>\n",
       "      <th></th>\n",
       "      <th></th>\n",
       "      <th></th>\n",
       "      <th></th>\n",
       "      <th></th>\n",
       "      <th></th>\n",
       "      <th></th>\n",
       "      <th></th>\n",
       "      <th></th>\n",
       "      <th></th>\n",
       "      <th></th>\n",
       "      <th></th>\n",
       "      <th></th>\n",
       "      <th></th>\n",
       "      <th></th>\n",
       "      <th></th>\n",
       "      <th></th>\n",
       "      <th></th>\n",
       "      <th></th>\n",
       "    </tr>\n",
       "  </thead>\n",
       "  <tbody>\n",
       "    <tr>\n",
       "      <th>L'ABERGEMENT-CLEMENCIAT</th>\n",
       "      <td>779</td>\n",
       "      <td>771</td>\n",
       "      <td>776</td>\n",
       "      <td>767</td>\n",
       "      <td>767</td>\n",
       "      <td>767</td>\n",
       "      <td>767</td>\n",
       "      <td>777</td>\n",
       "      <td>780</td>\n",
       "      <td>784</td>\n",
       "      <td>...</td>\n",
       "      <td>543</td>\n",
       "      <td>566</td>\n",
       "      <td>560</td>\n",
       "      <td>629</td>\n",
       "      <td>637</td>\n",
       "      <td>572</td>\n",
       "      <td>594</td>\n",
       "      <td>622</td>\n",
       "      <td>605</td>\n",
       "      <td>604</td>\n",
       "    </tr>\n",
       "    <tr>\n",
       "      <th>L'ABERGEMENT-DE-VAREY</th>\n",
       "      <td>256</td>\n",
       "      <td>253</td>\n",
       "      <td>248</td>\n",
       "      <td>243</td>\n",
       "      <td>241</td>\n",
       "      <td>239</td>\n",
       "      <td>236</td>\n",
       "      <td>235</td>\n",
       "      <td>234</td>\n",
       "      <td>221</td>\n",
       "      <td>...</td>\n",
       "      <td>253</td>\n",
       "      <td>256</td>\n",
       "      <td>291</td>\n",
       "      <td>323</td>\n",
       "      <td>357</td>\n",
       "      <td>391</td>\n",
       "      <td>421</td>\n",
       "      <td>486</td>\n",
       "      <td>490</td>\n",
       "      <td>484</td>\n",
       "    </tr>\n",
       "    <tr>\n",
       "      <th>AMBERIEU-EN-BUGEY</th>\n",
       "      <td>14134</td>\n",
       "      <td>14204</td>\n",
       "      <td>14035</td>\n",
       "      <td>14081</td>\n",
       "      <td>14127</td>\n",
       "      <td>14022</td>\n",
       "      <td>14359</td>\n",
       "      <td>14233</td>\n",
       "      <td>13839</td>\n",
       "      <td>13835</td>\n",
       "      <td>...</td>\n",
       "      <td>5705</td>\n",
       "      <td>4796</td>\n",
       "      <td>4334</td>\n",
       "      <td>4100</td>\n",
       "      <td>4023</td>\n",
       "      <td>3548</td>\n",
       "      <td>3635</td>\n",
       "      <td>3618</td>\n",
       "      <td>3396</td>\n",
       "      <td>3427</td>\n",
       "    </tr>\n",
       "    <tr>\n",
       "      <th>AMBERIEUX-EN-DOMBES</th>\n",
       "      <td>1751</td>\n",
       "      <td>1720</td>\n",
       "      <td>1689</td>\n",
       "      <td>1671</td>\n",
       "      <td>1619</td>\n",
       "      <td>1627</td>\n",
       "      <td>1635</td>\n",
       "      <td>1642</td>\n",
       "      <td>1600</td>\n",
       "      <td>1616</td>\n",
       "      <td>...</td>\n",
       "      <td>690</td>\n",
       "      <td>698</td>\n",
       "      <td>805</td>\n",
       "      <td>805</td>\n",
       "      <td>835</td>\n",
       "      <td>852</td>\n",
       "      <td>862</td>\n",
       "      <td>882</td>\n",
       "      <td>879</td>\n",
       "      <td>848</td>\n",
       "    </tr>\n",
       "    <tr>\n",
       "      <th>AMBLEON</th>\n",
       "      <td>112</td>\n",
       "      <td>112</td>\n",
       "      <td>111</td>\n",
       "      <td>110</td>\n",
       "      <td>109</td>\n",
       "      <td>109</td>\n",
       "      <td>108</td>\n",
       "      <td>110</td>\n",
       "      <td>112</td>\n",
       "      <td>116</td>\n",
       "      <td>...</td>\n",
       "      <td>161</td>\n",
       "      <td>150</td>\n",
       "      <td>159</td>\n",
       "      <td>193</td>\n",
       "      <td>200</td>\n",
       "      <td>206</td>\n",
       "      <td>200</td>\n",
       "      <td>200</td>\n",
       "      <td>213</td>\n",
       "      <td>191</td>\n",
       "    </tr>\n",
       "    <tr>\n",
       "      <th>...</th>\n",
       "      <td>...</td>\n",
       "      <td>...</td>\n",
       "      <td>...</td>\n",
       "      <td>...</td>\n",
       "      <td>...</td>\n",
       "      <td>...</td>\n",
       "      <td>...</td>\n",
       "      <td>...</td>\n",
       "      <td>...</td>\n",
       "      <td>...</td>\n",
       "      <td>...</td>\n",
       "      <td>...</td>\n",
       "      <td>...</td>\n",
       "      <td>...</td>\n",
       "      <td>...</td>\n",
       "      <td>...</td>\n",
       "      <td>...</td>\n",
       "      <td>...</td>\n",
       "      <td>...</td>\n",
       "      <td>...</td>\n",
       "      <td>...</td>\n",
       "    </tr>\n",
       "    <tr>\n",
       "      <th>SALAZIE</th>\n",
       "      <td>7136</td>\n",
       "      <td>7224</td>\n",
       "      <td>7312</td>\n",
       "      <td>7400</td>\n",
       "      <td>7384</td>\n",
       "      <td>7132</td>\n",
       "      <td>7226</td>\n",
       "      <td>7320</td>\n",
       "      <td>7418</td>\n",
       "      <td>7510</td>\n",
       "      <td>...</td>\n",
       "      <td>NaN</td>\n",
       "      <td>NaN</td>\n",
       "      <td>NaN</td>\n",
       "      <td>NaN</td>\n",
       "      <td>NaN</td>\n",
       "      <td>NaN</td>\n",
       "      <td>NaN</td>\n",
       "      <td>NaN</td>\n",
       "      <td>NaN</td>\n",
       "      <td>NaN</td>\n",
       "    </tr>\n",
       "    <tr>\n",
       "      <th>LE TAMPON</th>\n",
       "      <td>79824</td>\n",
       "      <td>79385</td>\n",
       "      <td>78629</td>\n",
       "      <td>77283</td>\n",
       "      <td>76310</td>\n",
       "      <td>76796</td>\n",
       "      <td>76090</td>\n",
       "      <td>75631</td>\n",
       "      <td>74998</td>\n",
       "      <td>73365</td>\n",
       "      <td>...</td>\n",
       "      <td>NaN</td>\n",
       "      <td>NaN</td>\n",
       "      <td>NaN</td>\n",
       "      <td>NaN</td>\n",
       "      <td>NaN</td>\n",
       "      <td>NaN</td>\n",
       "      <td>NaN</td>\n",
       "      <td>NaN</td>\n",
       "      <td>NaN</td>\n",
       "      <td>NaN</td>\n",
       "    </tr>\n",
       "    <tr>\n",
       "      <th>LES TROIS-BASSINS</th>\n",
       "      <td>7015</td>\n",
       "      <td>7076</td>\n",
       "      <td>7139</td>\n",
       "      <td>7111</td>\n",
       "      <td>7127</td>\n",
       "      <td>7198</td>\n",
       "      <td>7268</td>\n",
       "      <td>7339</td>\n",
       "      <td>7226</td>\n",
       "      <td>7121</td>\n",
       "      <td>...</td>\n",
       "      <td>NaN</td>\n",
       "      <td>NaN</td>\n",
       "      <td>NaN</td>\n",
       "      <td>NaN</td>\n",
       "      <td>NaN</td>\n",
       "      <td>NaN</td>\n",
       "      <td>NaN</td>\n",
       "      <td>NaN</td>\n",
       "      <td>NaN</td>\n",
       "      <td>NaN</td>\n",
       "    </tr>\n",
       "    <tr>\n",
       "      <th>CILAOS</th>\n",
       "      <td>5538</td>\n",
       "      <td>5492</td>\n",
       "      <td>5456</td>\n",
       "      <td>5403</td>\n",
       "      <td>5350</td>\n",
       "      <td>5295</td>\n",
       "      <td>5386</td>\n",
       "      <td>5440</td>\n",
       "      <td>5623</td>\n",
       "      <td>5807</td>\n",
       "      <td>...</td>\n",
       "      <td>NaN</td>\n",
       "      <td>NaN</td>\n",
       "      <td>NaN</td>\n",
       "      <td>NaN</td>\n",
       "      <td>NaN</td>\n",
       "      <td>NaN</td>\n",
       "      <td>NaN</td>\n",
       "      <td>NaN</td>\n",
       "      <td>NaN</td>\n",
       "      <td>NaN</td>\n",
       "    </tr>\n",
       "    <tr>\n",
       "      <th>PARIS</th>\n",
       "      <td>2165423</td>\n",
       "      <td>2175601</td>\n",
       "      <td>2187526</td>\n",
       "      <td>2190327</td>\n",
       "      <td>2206488</td>\n",
       "      <td>2220445</td>\n",
       "      <td>2229621</td>\n",
       "      <td>2240621</td>\n",
       "      <td>2249975</td>\n",
       "      <td>2243833</td>\n",
       "      <td>...</td>\n",
       "      <td>2871429</td>\n",
       "      <td>2906472</td>\n",
       "      <td>2888110</td>\n",
       "      <td>2763393</td>\n",
       "      <td>2714068</td>\n",
       "      <td>2536834</td>\n",
       "      <td>2447957</td>\n",
       "      <td>2344550</td>\n",
       "      <td>2269023</td>\n",
       "      <td>1990806</td>\n",
       "    </tr>\n",
       "  </tbody>\n",
       "</table>\n",
       "<p>34968 rows × 33 columns</p>\n",
       "</div>"
      ],
      "text/plain": [
       "                            2019     2018     2017     2016     2015     2014  \\\n",
       "Libellé géographique                                                            \n",
       "L'ABERGEMENT-CLEMENCIAT      779      771      776      767      767      767   \n",
       "L'ABERGEMENT-DE-VAREY        256      253      248      243      241      239   \n",
       "AMBERIEU-EN-BUGEY          14134    14204    14035    14081    14127    14022   \n",
       "AMBERIEUX-EN-DOMBES         1751     1720     1689     1671     1619     1627   \n",
       "AMBLEON                      112      112      111      110      109      109   \n",
       "...                          ...      ...      ...      ...      ...      ...   \n",
       "SALAZIE                     7136     7224     7312     7400     7384     7132   \n",
       "LE TAMPON                  79824    79385    78629    77283    76310    76796   \n",
       "LES TROIS-BASSINS           7015     7076     7139     7111     7127     7198   \n",
       "CILAOS                      5538     5492     5456     5403     5350     5295   \n",
       "PARIS                    2165423  2175601  2187526  2190327  2206488  2220445   \n",
       "\n",
       "                            2013     2012     2011     2010  ...     1926  \\\n",
       "Libellé géographique                                         ...            \n",
       "L'ABERGEMENT-CLEMENCIAT      767      777      780      784  ...      543   \n",
       "L'ABERGEMENT-DE-VAREY        236      235      234      221  ...      253   \n",
       "AMBERIEU-EN-BUGEY          14359    14233    13839    13835  ...     5705   \n",
       "AMBERIEUX-EN-DOMBES         1635     1642     1600     1616  ...      690   \n",
       "AMBLEON                      108      110      112      116  ...      161   \n",
       "...                          ...      ...      ...      ...  ...      ...   \n",
       "SALAZIE                     7226     7320     7418     7510  ...      NaN   \n",
       "LE TAMPON                  76090    75631    74998    73365  ...      NaN   \n",
       "LES TROIS-BASSINS           7268     7339     7226     7121  ...      NaN   \n",
       "CILAOS                      5386     5440     5623     5807  ...      NaN   \n",
       "PARIS                    2229621  2240621  2249975  2243833  ...  2871429   \n",
       "\n",
       "                            1921     1911     1906     1901     1896     1891  \\\n",
       "Libellé géographique                                                            \n",
       "L'ABERGEMENT-CLEMENCIAT      566      560      629      637      572      594   \n",
       "L'ABERGEMENT-DE-VAREY        256      291      323      357      391      421   \n",
       "AMBERIEU-EN-BUGEY           4796     4334     4100     4023     3548     3635   \n",
       "AMBERIEUX-EN-DOMBES          698      805      805      835      852      862   \n",
       "AMBLEON                      150      159      193      200      206      200   \n",
       "...                          ...      ...      ...      ...      ...      ...   \n",
       "SALAZIE                      NaN      NaN      NaN      NaN      NaN      NaN   \n",
       "LE TAMPON                    NaN      NaN      NaN      NaN      NaN      NaN   \n",
       "LES TROIS-BASSINS            NaN      NaN      NaN      NaN      NaN      NaN   \n",
       "CILAOS                       NaN      NaN      NaN      NaN      NaN      NaN   \n",
       "PARIS                    2906472  2888110  2763393  2714068  2536834  2447957   \n",
       "\n",
       "                            1886     1881     1876  \n",
       "Libellé géographique                                \n",
       "L'ABERGEMENT-CLEMENCIAT      622      605      604  \n",
       "L'ABERGEMENT-DE-VAREY        486      490      484  \n",
       "AMBERIEU-EN-BUGEY           3618     3396     3427  \n",
       "AMBERIEUX-EN-DOMBES          882      879      848  \n",
       "AMBLEON                      200      213      191  \n",
       "...                          ...      ...      ...  \n",
       "SALAZIE                      NaN      NaN      NaN  \n",
       "LE TAMPON                    NaN      NaN      NaN  \n",
       "LES TROIS-BASSINS            NaN      NaN      NaN  \n",
       "CILAOS                       NaN      NaN      NaN  \n",
       "PARIS                    2344550  2269023  1990806  \n",
       "\n",
       "[34968 rows x 33 columns]"
      ]
     },
     "execution_count": 71,
     "metadata": {},
     "output_type": "execute_result"
    }
   ],
   "source": [
    "pop_df.index = pop_df.index.str.upper()\n",
    "pop_df.index = pop_df.index.str.replace(u\"É\",\"E\")\n",
    "pop_df"
   ]
  },
  {
   "cell_type": "code",
   "execution_count": 72,
   "id": "8d0d35f6",
   "metadata": {},
   "outputs": [],
   "source": [
    "pop_df = pop_df.transpose()"
   ]
  },
  {
   "cell_type": "code",
   "execution_count": 81,
   "id": "9a578c87",
   "metadata": {},
   "outputs": [
    {
     "data": {
      "application/vnd.plotly.v1+json": {
       "config": {
        "plotlyServerURL": "https://plot.ly"
       },
       "data": [
        {
         "hovertemplate": "variable=CHERBOURG-EN-COTENTIN<br>index=%{x}<br>value=%{y}<extra></extra>",
         "legendgroup": "CHERBOURG-EN-COTENTIN",
         "line": {
          "color": "#636efa",
          "dash": "solid"
         },
         "marker": {
          "symbol": "circle"
         },
         "mode": "lines",
         "name": "CHERBOURG-EN-COTENTIN",
         "orientation": "v",
         "showlegend": true,
         "type": "scatter",
         "x": [
          2019,
          2018,
          2017,
          2016,
          2015,
          2014,
          2013,
          2012,
          2011,
          2010,
          2009,
          2008,
          2007,
          2006,
          1999,
          1990,
          1982,
          1975,
          1968,
          1962,
          1954,
          1936,
          1931,
          1926,
          1921,
          1911,
          1906,
          1901,
          1896,
          1891,
          1886,
          1881,
          1876
         ],
         "xaxis": "x",
         "y": [
          78549,
          79144,
          79200,
          80076,
          80616,
          80959,
          80978,
          81103,
          81690,
          82427,
          83307,
          84330,
          85149,
          85588,
          88588,
          92045,
          85485,
          82539,
          79121,
          72165,
          67717,
          64787,
          61330,
          61123,
          62069,
          69003,
          68294,
          65379,
          61074,
          57471,
          54179,
          51408,
          51541
         ],
         "yaxis": "y"
        }
       ],
       "layout": {
        "legend": {
         "title": {
          "text": "variable"
         },
         "tracegroupgap": 0
        },
        "margin": {
         "t": 60
        },
        "template": {
         "data": {
          "bar": [
           {
            "error_x": {
             "color": "#2a3f5f"
            },
            "error_y": {
             "color": "#2a3f5f"
            },
            "marker": {
             "line": {
              "color": "#E5ECF6",
              "width": 0.5
             },
             "pattern": {
              "fillmode": "overlay",
              "size": 10,
              "solidity": 0.2
             }
            },
            "type": "bar"
           }
          ],
          "barpolar": [
           {
            "marker": {
             "line": {
              "color": "#E5ECF6",
              "width": 0.5
             },
             "pattern": {
              "fillmode": "overlay",
              "size": 10,
              "solidity": 0.2
             }
            },
            "type": "barpolar"
           }
          ],
          "carpet": [
           {
            "aaxis": {
             "endlinecolor": "#2a3f5f",
             "gridcolor": "white",
             "linecolor": "white",
             "minorgridcolor": "white",
             "startlinecolor": "#2a3f5f"
            },
            "baxis": {
             "endlinecolor": "#2a3f5f",
             "gridcolor": "white",
             "linecolor": "white",
             "minorgridcolor": "white",
             "startlinecolor": "#2a3f5f"
            },
            "type": "carpet"
           }
          ],
          "choropleth": [
           {
            "colorbar": {
             "outlinewidth": 0,
             "ticks": ""
            },
            "type": "choropleth"
           }
          ],
          "contour": [
           {
            "colorbar": {
             "outlinewidth": 0,
             "ticks": ""
            },
            "colorscale": [
             [
              0,
              "#0d0887"
             ],
             [
              0.1111111111111111,
              "#46039f"
             ],
             [
              0.2222222222222222,
              "#7201a8"
             ],
             [
              0.3333333333333333,
              "#9c179e"
             ],
             [
              0.4444444444444444,
              "#bd3786"
             ],
             [
              0.5555555555555556,
              "#d8576b"
             ],
             [
              0.6666666666666666,
              "#ed7953"
             ],
             [
              0.7777777777777778,
              "#fb9f3a"
             ],
             [
              0.8888888888888888,
              "#fdca26"
             ],
             [
              1,
              "#f0f921"
             ]
            ],
            "type": "contour"
           }
          ],
          "contourcarpet": [
           {
            "colorbar": {
             "outlinewidth": 0,
             "ticks": ""
            },
            "type": "contourcarpet"
           }
          ],
          "heatmap": [
           {
            "colorbar": {
             "outlinewidth": 0,
             "ticks": ""
            },
            "colorscale": [
             [
              0,
              "#0d0887"
             ],
             [
              0.1111111111111111,
              "#46039f"
             ],
             [
              0.2222222222222222,
              "#7201a8"
             ],
             [
              0.3333333333333333,
              "#9c179e"
             ],
             [
              0.4444444444444444,
              "#bd3786"
             ],
             [
              0.5555555555555556,
              "#d8576b"
             ],
             [
              0.6666666666666666,
              "#ed7953"
             ],
             [
              0.7777777777777778,
              "#fb9f3a"
             ],
             [
              0.8888888888888888,
              "#fdca26"
             ],
             [
              1,
              "#f0f921"
             ]
            ],
            "type": "heatmap"
           }
          ],
          "heatmapgl": [
           {
            "colorbar": {
             "outlinewidth": 0,
             "ticks": ""
            },
            "colorscale": [
             [
              0,
              "#0d0887"
             ],
             [
              0.1111111111111111,
              "#46039f"
             ],
             [
              0.2222222222222222,
              "#7201a8"
             ],
             [
              0.3333333333333333,
              "#9c179e"
             ],
             [
              0.4444444444444444,
              "#bd3786"
             ],
             [
              0.5555555555555556,
              "#d8576b"
             ],
             [
              0.6666666666666666,
              "#ed7953"
             ],
             [
              0.7777777777777778,
              "#fb9f3a"
             ],
             [
              0.8888888888888888,
              "#fdca26"
             ],
             [
              1,
              "#f0f921"
             ]
            ],
            "type": "heatmapgl"
           }
          ],
          "histogram": [
           {
            "marker": {
             "pattern": {
              "fillmode": "overlay",
              "size": 10,
              "solidity": 0.2
             }
            },
            "type": "histogram"
           }
          ],
          "histogram2d": [
           {
            "colorbar": {
             "outlinewidth": 0,
             "ticks": ""
            },
            "colorscale": [
             [
              0,
              "#0d0887"
             ],
             [
              0.1111111111111111,
              "#46039f"
             ],
             [
              0.2222222222222222,
              "#7201a8"
             ],
             [
              0.3333333333333333,
              "#9c179e"
             ],
             [
              0.4444444444444444,
              "#bd3786"
             ],
             [
              0.5555555555555556,
              "#d8576b"
             ],
             [
              0.6666666666666666,
              "#ed7953"
             ],
             [
              0.7777777777777778,
              "#fb9f3a"
             ],
             [
              0.8888888888888888,
              "#fdca26"
             ],
             [
              1,
              "#f0f921"
             ]
            ],
            "type": "histogram2d"
           }
          ],
          "histogram2dcontour": [
           {
            "colorbar": {
             "outlinewidth": 0,
             "ticks": ""
            },
            "colorscale": [
             [
              0,
              "#0d0887"
             ],
             [
              0.1111111111111111,
              "#46039f"
             ],
             [
              0.2222222222222222,
              "#7201a8"
             ],
             [
              0.3333333333333333,
              "#9c179e"
             ],
             [
              0.4444444444444444,
              "#bd3786"
             ],
             [
              0.5555555555555556,
              "#d8576b"
             ],
             [
              0.6666666666666666,
              "#ed7953"
             ],
             [
              0.7777777777777778,
              "#fb9f3a"
             ],
             [
              0.8888888888888888,
              "#fdca26"
             ],
             [
              1,
              "#f0f921"
             ]
            ],
            "type": "histogram2dcontour"
           }
          ],
          "mesh3d": [
           {
            "colorbar": {
             "outlinewidth": 0,
             "ticks": ""
            },
            "type": "mesh3d"
           }
          ],
          "parcoords": [
           {
            "line": {
             "colorbar": {
              "outlinewidth": 0,
              "ticks": ""
             }
            },
            "type": "parcoords"
           }
          ],
          "pie": [
           {
            "automargin": true,
            "type": "pie"
           }
          ],
          "scatter": [
           {
            "marker": {
             "colorbar": {
              "outlinewidth": 0,
              "ticks": ""
             }
            },
            "type": "scatter"
           }
          ],
          "scatter3d": [
           {
            "line": {
             "colorbar": {
              "outlinewidth": 0,
              "ticks": ""
             }
            },
            "marker": {
             "colorbar": {
              "outlinewidth": 0,
              "ticks": ""
             }
            },
            "type": "scatter3d"
           }
          ],
          "scattercarpet": [
           {
            "marker": {
             "colorbar": {
              "outlinewidth": 0,
              "ticks": ""
             }
            },
            "type": "scattercarpet"
           }
          ],
          "scattergeo": [
           {
            "marker": {
             "colorbar": {
              "outlinewidth": 0,
              "ticks": ""
             }
            },
            "type": "scattergeo"
           }
          ],
          "scattergl": [
           {
            "marker": {
             "colorbar": {
              "outlinewidth": 0,
              "ticks": ""
             }
            },
            "type": "scattergl"
           }
          ],
          "scattermapbox": [
           {
            "marker": {
             "colorbar": {
              "outlinewidth": 0,
              "ticks": ""
             }
            },
            "type": "scattermapbox"
           }
          ],
          "scatterpolar": [
           {
            "marker": {
             "colorbar": {
              "outlinewidth": 0,
              "ticks": ""
             }
            },
            "type": "scatterpolar"
           }
          ],
          "scatterpolargl": [
           {
            "marker": {
             "colorbar": {
              "outlinewidth": 0,
              "ticks": ""
             }
            },
            "type": "scatterpolargl"
           }
          ],
          "scatterternary": [
           {
            "marker": {
             "colorbar": {
              "outlinewidth": 0,
              "ticks": ""
             }
            },
            "type": "scatterternary"
           }
          ],
          "surface": [
           {
            "colorbar": {
             "outlinewidth": 0,
             "ticks": ""
            },
            "colorscale": [
             [
              0,
              "#0d0887"
             ],
             [
              0.1111111111111111,
              "#46039f"
             ],
             [
              0.2222222222222222,
              "#7201a8"
             ],
             [
              0.3333333333333333,
              "#9c179e"
             ],
             [
              0.4444444444444444,
              "#bd3786"
             ],
             [
              0.5555555555555556,
              "#d8576b"
             ],
             [
              0.6666666666666666,
              "#ed7953"
             ],
             [
              0.7777777777777778,
              "#fb9f3a"
             ],
             [
              0.8888888888888888,
              "#fdca26"
             ],
             [
              1,
              "#f0f921"
             ]
            ],
            "type": "surface"
           }
          ],
          "table": [
           {
            "cells": {
             "fill": {
              "color": "#EBF0F8"
             },
             "line": {
              "color": "white"
             }
            },
            "header": {
             "fill": {
              "color": "#C8D4E3"
             },
             "line": {
              "color": "white"
             }
            },
            "type": "table"
           }
          ]
         },
         "layout": {
          "annotationdefaults": {
           "arrowcolor": "#2a3f5f",
           "arrowhead": 0,
           "arrowwidth": 1
          },
          "autotypenumbers": "strict",
          "coloraxis": {
           "colorbar": {
            "outlinewidth": 0,
            "ticks": ""
           }
          },
          "colorscale": {
           "diverging": [
            [
             0,
             "#8e0152"
            ],
            [
             0.1,
             "#c51b7d"
            ],
            [
             0.2,
             "#de77ae"
            ],
            [
             0.3,
             "#f1b6da"
            ],
            [
             0.4,
             "#fde0ef"
            ],
            [
             0.5,
             "#f7f7f7"
            ],
            [
             0.6,
             "#e6f5d0"
            ],
            [
             0.7,
             "#b8e186"
            ],
            [
             0.8,
             "#7fbc41"
            ],
            [
             0.9,
             "#4d9221"
            ],
            [
             1,
             "#276419"
            ]
           ],
           "sequential": [
            [
             0,
             "#0d0887"
            ],
            [
             0.1111111111111111,
             "#46039f"
            ],
            [
             0.2222222222222222,
             "#7201a8"
            ],
            [
             0.3333333333333333,
             "#9c179e"
            ],
            [
             0.4444444444444444,
             "#bd3786"
            ],
            [
             0.5555555555555556,
             "#d8576b"
            ],
            [
             0.6666666666666666,
             "#ed7953"
            ],
            [
             0.7777777777777778,
             "#fb9f3a"
            ],
            [
             0.8888888888888888,
             "#fdca26"
            ],
            [
             1,
             "#f0f921"
            ]
           ],
           "sequentialminus": [
            [
             0,
             "#0d0887"
            ],
            [
             0.1111111111111111,
             "#46039f"
            ],
            [
             0.2222222222222222,
             "#7201a8"
            ],
            [
             0.3333333333333333,
             "#9c179e"
            ],
            [
             0.4444444444444444,
             "#bd3786"
            ],
            [
             0.5555555555555556,
             "#d8576b"
            ],
            [
             0.6666666666666666,
             "#ed7953"
            ],
            [
             0.7777777777777778,
             "#fb9f3a"
            ],
            [
             0.8888888888888888,
             "#fdca26"
            ],
            [
             1,
             "#f0f921"
            ]
           ]
          },
          "colorway": [
           "#636efa",
           "#EF553B",
           "#00cc96",
           "#ab63fa",
           "#FFA15A",
           "#19d3f3",
           "#FF6692",
           "#B6E880",
           "#FF97FF",
           "#FECB52"
          ],
          "font": {
           "color": "#2a3f5f"
          },
          "geo": {
           "bgcolor": "white",
           "lakecolor": "white",
           "landcolor": "#E5ECF6",
           "showlakes": true,
           "showland": true,
           "subunitcolor": "white"
          },
          "hoverlabel": {
           "align": "left"
          },
          "hovermode": "closest",
          "mapbox": {
           "style": "light"
          },
          "paper_bgcolor": "white",
          "plot_bgcolor": "#E5ECF6",
          "polar": {
           "angularaxis": {
            "gridcolor": "white",
            "linecolor": "white",
            "ticks": ""
           },
           "bgcolor": "#E5ECF6",
           "radialaxis": {
            "gridcolor": "white",
            "linecolor": "white",
            "ticks": ""
           }
          },
          "scene": {
           "xaxis": {
            "backgroundcolor": "#E5ECF6",
            "gridcolor": "white",
            "gridwidth": 2,
            "linecolor": "white",
            "showbackground": true,
            "ticks": "",
            "zerolinecolor": "white"
           },
           "yaxis": {
            "backgroundcolor": "#E5ECF6",
            "gridcolor": "white",
            "gridwidth": 2,
            "linecolor": "white",
            "showbackground": true,
            "ticks": "",
            "zerolinecolor": "white"
           },
           "zaxis": {
            "backgroundcolor": "#E5ECF6",
            "gridcolor": "white",
            "gridwidth": 2,
            "linecolor": "white",
            "showbackground": true,
            "ticks": "",
            "zerolinecolor": "white"
           }
          },
          "shapedefaults": {
           "line": {
            "color": "#2a3f5f"
           }
          },
          "ternary": {
           "aaxis": {
            "gridcolor": "white",
            "linecolor": "white",
            "ticks": ""
           },
           "baxis": {
            "gridcolor": "white",
            "linecolor": "white",
            "ticks": ""
           },
           "bgcolor": "#E5ECF6",
           "caxis": {
            "gridcolor": "white",
            "linecolor": "white",
            "ticks": ""
           }
          },
          "title": {
           "x": 0.05
          },
          "xaxis": {
           "automargin": true,
           "gridcolor": "white",
           "linecolor": "white",
           "ticks": "",
           "title": {
            "standoff": 15
           },
           "zerolinecolor": "white",
           "zerolinewidth": 2
          },
          "yaxis": {
           "automargin": true,
           "gridcolor": "white",
           "linecolor": "white",
           "ticks": "",
           "title": {
            "standoff": 15
           },
           "zerolinecolor": "white",
           "zerolinewidth": 2
          }
         }
        },
        "xaxis": {
         "anchor": "y",
         "domain": [
          0,
          1
         ],
         "title": {
          "text": "index"
         }
        },
        "yaxis": {
         "anchor": "x",
         "domain": [
          0,
          1
         ],
         "title": {
          "text": "value"
         }
        }
       }
      },
      "text/html": [
       "<div>                            <div id=\"a8796bc0-0cfd-4330-95cf-74ea5db7c63a\" class=\"plotly-graph-div\" style=\"height:525px; width:100%;\"></div>            <script type=\"text/javascript\">                require([\"plotly\"], function(Plotly) {                    window.PLOTLYENV=window.PLOTLYENV || {};                                    if (document.getElementById(\"a8796bc0-0cfd-4330-95cf-74ea5db7c63a\")) {                    Plotly.newPlot(                        \"a8796bc0-0cfd-4330-95cf-74ea5db7c63a\",                        [{\"hovertemplate\":\"variable=CHERBOURG-EN-COTENTIN<br>index=%{x}<br>value=%{y}<extra></extra>\",\"legendgroup\":\"CHERBOURG-EN-COTENTIN\",\"line\":{\"color\":\"#636efa\",\"dash\":\"solid\"},\"marker\":{\"symbol\":\"circle\"},\"mode\":\"lines\",\"name\":\"CHERBOURG-EN-COTENTIN\",\"orientation\":\"v\",\"showlegend\":true,\"type\":\"scatter\",\"x\":[2019,2018,2017,2016,2015,2014,2013,2012,2011,2010,2009,2008,2007,2006,1999,1990,1982,1975,1968,1962,1954,1936,1931,1926,1921,1911,1906,1901,1896,1891,1886,1881,1876],\"xaxis\":\"x\",\"y\":[78549,79144,79200,80076,80616,80959,80978,81103,81690,82427,83307,84330,85149,85588,88588,92045,85485,82539,79121,72165,67717,64787,61330,61123,62069,69003,68294,65379,61074,57471,54179,51408,51541],\"yaxis\":\"y\"}],                        {\"legend\":{\"title\":{\"text\":\"variable\"},\"tracegroupgap\":0},\"margin\":{\"t\":60},\"template\":{\"data\":{\"bar\":[{\"error_x\":{\"color\":\"#2a3f5f\"},\"error_y\":{\"color\":\"#2a3f5f\"},\"marker\":{\"line\":{\"color\":\"#E5ECF6\",\"width\":0.5},\"pattern\":{\"fillmode\":\"overlay\",\"size\":10,\"solidity\":0.2}},\"type\":\"bar\"}],\"barpolar\":[{\"marker\":{\"line\":{\"color\":\"#E5ECF6\",\"width\":0.5},\"pattern\":{\"fillmode\":\"overlay\",\"size\":10,\"solidity\":0.2}},\"type\":\"barpolar\"}],\"carpet\":[{\"aaxis\":{\"endlinecolor\":\"#2a3f5f\",\"gridcolor\":\"white\",\"linecolor\":\"white\",\"minorgridcolor\":\"white\",\"startlinecolor\":\"#2a3f5f\"},\"baxis\":{\"endlinecolor\":\"#2a3f5f\",\"gridcolor\":\"white\",\"linecolor\":\"white\",\"minorgridcolor\":\"white\",\"startlinecolor\":\"#2a3f5f\"},\"type\":\"carpet\"}],\"choropleth\":[{\"colorbar\":{\"outlinewidth\":0,\"ticks\":\"\"},\"type\":\"choropleth\"}],\"contour\":[{\"colorbar\":{\"outlinewidth\":0,\"ticks\":\"\"},\"colorscale\":[[0.0,\"#0d0887\"],[0.1111111111111111,\"#46039f\"],[0.2222222222222222,\"#7201a8\"],[0.3333333333333333,\"#9c179e\"],[0.4444444444444444,\"#bd3786\"],[0.5555555555555556,\"#d8576b\"],[0.6666666666666666,\"#ed7953\"],[0.7777777777777778,\"#fb9f3a\"],[0.8888888888888888,\"#fdca26\"],[1.0,\"#f0f921\"]],\"type\":\"contour\"}],\"contourcarpet\":[{\"colorbar\":{\"outlinewidth\":0,\"ticks\":\"\"},\"type\":\"contourcarpet\"}],\"heatmap\":[{\"colorbar\":{\"outlinewidth\":0,\"ticks\":\"\"},\"colorscale\":[[0.0,\"#0d0887\"],[0.1111111111111111,\"#46039f\"],[0.2222222222222222,\"#7201a8\"],[0.3333333333333333,\"#9c179e\"],[0.4444444444444444,\"#bd3786\"],[0.5555555555555556,\"#d8576b\"],[0.6666666666666666,\"#ed7953\"],[0.7777777777777778,\"#fb9f3a\"],[0.8888888888888888,\"#fdca26\"],[1.0,\"#f0f921\"]],\"type\":\"heatmap\"}],\"heatmapgl\":[{\"colorbar\":{\"outlinewidth\":0,\"ticks\":\"\"},\"colorscale\":[[0.0,\"#0d0887\"],[0.1111111111111111,\"#46039f\"],[0.2222222222222222,\"#7201a8\"],[0.3333333333333333,\"#9c179e\"],[0.4444444444444444,\"#bd3786\"],[0.5555555555555556,\"#d8576b\"],[0.6666666666666666,\"#ed7953\"],[0.7777777777777778,\"#fb9f3a\"],[0.8888888888888888,\"#fdca26\"],[1.0,\"#f0f921\"]],\"type\":\"heatmapgl\"}],\"histogram\":[{\"marker\":{\"pattern\":{\"fillmode\":\"overlay\",\"size\":10,\"solidity\":0.2}},\"type\":\"histogram\"}],\"histogram2d\":[{\"colorbar\":{\"outlinewidth\":0,\"ticks\":\"\"},\"colorscale\":[[0.0,\"#0d0887\"],[0.1111111111111111,\"#46039f\"],[0.2222222222222222,\"#7201a8\"],[0.3333333333333333,\"#9c179e\"],[0.4444444444444444,\"#bd3786\"],[0.5555555555555556,\"#d8576b\"],[0.6666666666666666,\"#ed7953\"],[0.7777777777777778,\"#fb9f3a\"],[0.8888888888888888,\"#fdca26\"],[1.0,\"#f0f921\"]],\"type\":\"histogram2d\"}],\"histogram2dcontour\":[{\"colorbar\":{\"outlinewidth\":0,\"ticks\":\"\"},\"colorscale\":[[0.0,\"#0d0887\"],[0.1111111111111111,\"#46039f\"],[0.2222222222222222,\"#7201a8\"],[0.3333333333333333,\"#9c179e\"],[0.4444444444444444,\"#bd3786\"],[0.5555555555555556,\"#d8576b\"],[0.6666666666666666,\"#ed7953\"],[0.7777777777777778,\"#fb9f3a\"],[0.8888888888888888,\"#fdca26\"],[1.0,\"#f0f921\"]],\"type\":\"histogram2dcontour\"}],\"mesh3d\":[{\"colorbar\":{\"outlinewidth\":0,\"ticks\":\"\"},\"type\":\"mesh3d\"}],\"parcoords\":[{\"line\":{\"colorbar\":{\"outlinewidth\":0,\"ticks\":\"\"}},\"type\":\"parcoords\"}],\"pie\":[{\"automargin\":true,\"type\":\"pie\"}],\"scatter\":[{\"marker\":{\"colorbar\":{\"outlinewidth\":0,\"ticks\":\"\"}},\"type\":\"scatter\"}],\"scatter3d\":[{\"line\":{\"colorbar\":{\"outlinewidth\":0,\"ticks\":\"\"}},\"marker\":{\"colorbar\":{\"outlinewidth\":0,\"ticks\":\"\"}},\"type\":\"scatter3d\"}],\"scattercarpet\":[{\"marker\":{\"colorbar\":{\"outlinewidth\":0,\"ticks\":\"\"}},\"type\":\"scattercarpet\"}],\"scattergeo\":[{\"marker\":{\"colorbar\":{\"outlinewidth\":0,\"ticks\":\"\"}},\"type\":\"scattergeo\"}],\"scattergl\":[{\"marker\":{\"colorbar\":{\"outlinewidth\":0,\"ticks\":\"\"}},\"type\":\"scattergl\"}],\"scattermapbox\":[{\"marker\":{\"colorbar\":{\"outlinewidth\":0,\"ticks\":\"\"}},\"type\":\"scattermapbox\"}],\"scatterpolar\":[{\"marker\":{\"colorbar\":{\"outlinewidth\":0,\"ticks\":\"\"}},\"type\":\"scatterpolar\"}],\"scatterpolargl\":[{\"marker\":{\"colorbar\":{\"outlinewidth\":0,\"ticks\":\"\"}},\"type\":\"scatterpolargl\"}],\"scatterternary\":[{\"marker\":{\"colorbar\":{\"outlinewidth\":0,\"ticks\":\"\"}},\"type\":\"scatterternary\"}],\"surface\":[{\"colorbar\":{\"outlinewidth\":0,\"ticks\":\"\"},\"colorscale\":[[0.0,\"#0d0887\"],[0.1111111111111111,\"#46039f\"],[0.2222222222222222,\"#7201a8\"],[0.3333333333333333,\"#9c179e\"],[0.4444444444444444,\"#bd3786\"],[0.5555555555555556,\"#d8576b\"],[0.6666666666666666,\"#ed7953\"],[0.7777777777777778,\"#fb9f3a\"],[0.8888888888888888,\"#fdca26\"],[1.0,\"#f0f921\"]],\"type\":\"surface\"}],\"table\":[{\"cells\":{\"fill\":{\"color\":\"#EBF0F8\"},\"line\":{\"color\":\"white\"}},\"header\":{\"fill\":{\"color\":\"#C8D4E3\"},\"line\":{\"color\":\"white\"}},\"type\":\"table\"}]},\"layout\":{\"annotationdefaults\":{\"arrowcolor\":\"#2a3f5f\",\"arrowhead\":0,\"arrowwidth\":1},\"autotypenumbers\":\"strict\",\"coloraxis\":{\"colorbar\":{\"outlinewidth\":0,\"ticks\":\"\"}},\"colorscale\":{\"diverging\":[[0,\"#8e0152\"],[0.1,\"#c51b7d\"],[0.2,\"#de77ae\"],[0.3,\"#f1b6da\"],[0.4,\"#fde0ef\"],[0.5,\"#f7f7f7\"],[0.6,\"#e6f5d0\"],[0.7,\"#b8e186\"],[0.8,\"#7fbc41\"],[0.9,\"#4d9221\"],[1,\"#276419\"]],\"sequential\":[[0.0,\"#0d0887\"],[0.1111111111111111,\"#46039f\"],[0.2222222222222222,\"#7201a8\"],[0.3333333333333333,\"#9c179e\"],[0.4444444444444444,\"#bd3786\"],[0.5555555555555556,\"#d8576b\"],[0.6666666666666666,\"#ed7953\"],[0.7777777777777778,\"#fb9f3a\"],[0.8888888888888888,\"#fdca26\"],[1.0,\"#f0f921\"]],\"sequentialminus\":[[0.0,\"#0d0887\"],[0.1111111111111111,\"#46039f\"],[0.2222222222222222,\"#7201a8\"],[0.3333333333333333,\"#9c179e\"],[0.4444444444444444,\"#bd3786\"],[0.5555555555555556,\"#d8576b\"],[0.6666666666666666,\"#ed7953\"],[0.7777777777777778,\"#fb9f3a\"],[0.8888888888888888,\"#fdca26\"],[1.0,\"#f0f921\"]]},\"colorway\":[\"#636efa\",\"#EF553B\",\"#00cc96\",\"#ab63fa\",\"#FFA15A\",\"#19d3f3\",\"#FF6692\",\"#B6E880\",\"#FF97FF\",\"#FECB52\"],\"font\":{\"color\":\"#2a3f5f\"},\"geo\":{\"bgcolor\":\"white\",\"lakecolor\":\"white\",\"landcolor\":\"#E5ECF6\",\"showlakes\":true,\"showland\":true,\"subunitcolor\":\"white\"},\"hoverlabel\":{\"align\":\"left\"},\"hovermode\":\"closest\",\"mapbox\":{\"style\":\"light\"},\"paper_bgcolor\":\"white\",\"plot_bgcolor\":\"#E5ECF6\",\"polar\":{\"angularaxis\":{\"gridcolor\":\"white\",\"linecolor\":\"white\",\"ticks\":\"\"},\"bgcolor\":\"#E5ECF6\",\"radialaxis\":{\"gridcolor\":\"white\",\"linecolor\":\"white\",\"ticks\":\"\"}},\"scene\":{\"xaxis\":{\"backgroundcolor\":\"#E5ECF6\",\"gridcolor\":\"white\",\"gridwidth\":2,\"linecolor\":\"white\",\"showbackground\":true,\"ticks\":\"\",\"zerolinecolor\":\"white\"},\"yaxis\":{\"backgroundcolor\":\"#E5ECF6\",\"gridcolor\":\"white\",\"gridwidth\":2,\"linecolor\":\"white\",\"showbackground\":true,\"ticks\":\"\",\"zerolinecolor\":\"white\"},\"zaxis\":{\"backgroundcolor\":\"#E5ECF6\",\"gridcolor\":\"white\",\"gridwidth\":2,\"linecolor\":\"white\",\"showbackground\":true,\"ticks\":\"\",\"zerolinecolor\":\"white\"}},\"shapedefaults\":{\"line\":{\"color\":\"#2a3f5f\"}},\"ternary\":{\"aaxis\":{\"gridcolor\":\"white\",\"linecolor\":\"white\",\"ticks\":\"\"},\"baxis\":{\"gridcolor\":\"white\",\"linecolor\":\"white\",\"ticks\":\"\"},\"bgcolor\":\"#E5ECF6\",\"caxis\":{\"gridcolor\":\"white\",\"linecolor\":\"white\",\"ticks\":\"\"}},\"title\":{\"x\":0.05},\"xaxis\":{\"automargin\":true,\"gridcolor\":\"white\",\"linecolor\":\"white\",\"ticks\":\"\",\"title\":{\"standoff\":15},\"zerolinecolor\":\"white\",\"zerolinewidth\":2},\"yaxis\":{\"automargin\":true,\"gridcolor\":\"white\",\"linecolor\":\"white\",\"ticks\":\"\",\"title\":{\"standoff\":15},\"zerolinecolor\":\"white\",\"zerolinewidth\":2}}},\"xaxis\":{\"anchor\":\"y\",\"domain\":[0.0,1.0],\"title\":{\"text\":\"index\"}},\"yaxis\":{\"anchor\":\"x\",\"domain\":[0.0,1.0],\"title\":{\"text\":\"value\"}}},                        {\"responsive\": true}                    ).then(function(){\n",
       "                            \n",
       "var gd = document.getElementById('a8796bc0-0cfd-4330-95cf-74ea5db7c63a');\n",
       "var x = new MutationObserver(function (mutations, observer) {{\n",
       "        var display = window.getComputedStyle(gd).display;\n",
       "        if (!display || display === 'none') {{\n",
       "            console.log([gd, 'removed!']);\n",
       "            Plotly.purge(gd);\n",
       "            observer.disconnect();\n",
       "        }}\n",
       "}});\n",
       "\n",
       "// Listen for the removal of the full notebook cells\n",
       "var notebookContainer = gd.closest('#notebook-container');\n",
       "if (notebookContainer) {{\n",
       "    x.observe(notebookContainer, {childList: true});\n",
       "}}\n",
       "\n",
       "// Listen for the clearing of the current output cell\n",
       "var outputEl = gd.closest('.output');\n",
       "if (outputEl) {{\n",
       "    x.observe(outputEl, {childList: true});\n",
       "}}\n",
       "\n",
       "                        })                };                });            </script>        </div>"
      ]
     },
     "metadata": {},
     "output_type": "display_data"
    }
   ],
   "source": [
    "pop_df[\"CHERBOURG-EN-COTENTIN\"].plot()"
   ]
  },
  {
   "cell_type": "code",
   "execution_count": 83,
   "id": "19c13c92",
   "metadata": {},
   "outputs": [],
   "source": [
    "villes = []\n",
    "for rel in relations_list:\n",
    "    a,b = rel.split(\" - \")\n",
    "    if not a in villes:\n",
    "        villes.append(a)\n",
    "    if not b in villes:\n",
    "        villes.append(b)\n",
    "villes.remove(\"BOULOGNE\")\n",
    "villes.remove(\"CHERBOURG\")\n",
    "villes.remove(\"CLERMONT FERRAND\")\n",
    "villes.remove(\"ST ETIENNE\")\n",
    "for ville in villes:\n",
    "    pop_df[ville]"
   ]
  },
  {
   "cell_type": "code",
   "execution_count": 180,
   "id": "c1e13e49",
   "metadata": {},
   "outputs": [
    {
     "ename": "ValueError",
     "evalue": "The truth value of a DataFrame is ambiguous. Use a.empty, a.bool(), a.item(), a.any() or a.all().",
     "output_type": "error",
     "traceback": [
      "\u001b[0;31m---------------------------------------------------------------------------\u001b[0m",
      "\u001b[0;31mValueError\u001b[0m                                Traceback (most recent call last)",
      "\u001b[0;32m/tmp/ipykernel_2837/362232471.py\u001b[0m in \u001b[0;36m<module>\u001b[0;34m\u001b[0m\n\u001b[0;32m----> 1\u001b[0;31m \u001b[0mpop_df\u001b[0m\u001b[0;34m.\u001b[0m\u001b[0mplot\u001b[0m\u001b[0;34m(\u001b[0m\u001b[0;34m)\u001b[0m\u001b[0;34m\u001b[0m\u001b[0;34m\u001b[0m\u001b[0m\n\u001b[0m",
      "\u001b[0;32m/nix/store/j457dckijv8ljsi8s0p3nnm1r5740p74-python3-3.9.11-env/lib/python3.9/site-packages/pandas/plotting/_core.py\u001b[0m in \u001b[0;36m__call__\u001b[0;34m(self, *args, **kwargs)\u001b[0m\n\u001b[1;32m    900\u001b[0m         \u001b[0;31m# when using another backend, get out of the way\u001b[0m\u001b[0;34m\u001b[0m\u001b[0;34m\u001b[0m\u001b[0m\n\u001b[1;32m    901\u001b[0m         \u001b[0;32mif\u001b[0m \u001b[0mplot_backend\u001b[0m\u001b[0;34m.\u001b[0m\u001b[0m__name__\u001b[0m \u001b[0;34m!=\u001b[0m \u001b[0;34m\"pandas.plotting._matplotlib\"\u001b[0m\u001b[0;34m:\u001b[0m\u001b[0;34m\u001b[0m\u001b[0;34m\u001b[0m\u001b[0m\n\u001b[0;32m--> 902\u001b[0;31m             \u001b[0;32mreturn\u001b[0m \u001b[0mplot_backend\u001b[0m\u001b[0;34m.\u001b[0m\u001b[0mplot\u001b[0m\u001b[0;34m(\u001b[0m\u001b[0mself\u001b[0m\u001b[0;34m.\u001b[0m\u001b[0m_parent\u001b[0m\u001b[0;34m,\u001b[0m \u001b[0mx\u001b[0m\u001b[0;34m=\u001b[0m\u001b[0mx\u001b[0m\u001b[0;34m,\u001b[0m \u001b[0my\u001b[0m\u001b[0;34m=\u001b[0m\u001b[0my\u001b[0m\u001b[0;34m,\u001b[0m \u001b[0mkind\u001b[0m\u001b[0;34m=\u001b[0m\u001b[0mkind\u001b[0m\u001b[0;34m,\u001b[0m \u001b[0;34m**\u001b[0m\u001b[0mkwargs\u001b[0m\u001b[0;34m)\u001b[0m\u001b[0;34m\u001b[0m\u001b[0;34m\u001b[0m\u001b[0m\n\u001b[0m\u001b[1;32m    903\u001b[0m \u001b[0;34m\u001b[0m\u001b[0m\n\u001b[1;32m    904\u001b[0m         \u001b[0;32mif\u001b[0m \u001b[0mkind\u001b[0m \u001b[0;32mnot\u001b[0m \u001b[0;32min\u001b[0m \u001b[0mself\u001b[0m\u001b[0;34m.\u001b[0m\u001b[0m_all_kinds\u001b[0m\u001b[0;34m:\u001b[0m\u001b[0;34m\u001b[0m\u001b[0;34m\u001b[0m\u001b[0m\n",
      "\u001b[0;32m/nix/store/j457dckijv8ljsi8s0p3nnm1r5740p74-python3-3.9.11-env/lib/python3.9/site-packages/plotly/__init__.py\u001b[0m in \u001b[0;36mplot\u001b[0;34m(data_frame, kind, **kwargs)\u001b[0m\n\u001b[1;32m    100\u001b[0m         \u001b[0;32mreturn\u001b[0m \u001b[0mscatter\u001b[0m\u001b[0;34m(\u001b[0m\u001b[0mdata_frame\u001b[0m\u001b[0;34m,\u001b[0m \u001b[0;34m**\u001b[0m\u001b[0mnew_kwargs\u001b[0m\u001b[0;34m)\u001b[0m\u001b[0;34m\u001b[0m\u001b[0;34m\u001b[0m\u001b[0m\n\u001b[1;32m    101\u001b[0m     \u001b[0;32mif\u001b[0m \u001b[0mkind\u001b[0m \u001b[0;34m==\u001b[0m \u001b[0;34m\"line\"\u001b[0m\u001b[0;34m:\u001b[0m\u001b[0;34m\u001b[0m\u001b[0;34m\u001b[0m\u001b[0m\n\u001b[0;32m--> 102\u001b[0;31m         \u001b[0;32mreturn\u001b[0m \u001b[0mline\u001b[0m\u001b[0;34m(\u001b[0m\u001b[0mdata_frame\u001b[0m\u001b[0;34m,\u001b[0m \u001b[0;34m**\u001b[0m\u001b[0mkwargs\u001b[0m\u001b[0;34m)\u001b[0m\u001b[0;34m\u001b[0m\u001b[0;34m\u001b[0m\u001b[0m\n\u001b[0m\u001b[1;32m    103\u001b[0m     \u001b[0;32mif\u001b[0m \u001b[0mkind\u001b[0m \u001b[0;34m==\u001b[0m \u001b[0;34m\"area\"\u001b[0m\u001b[0;34m:\u001b[0m\u001b[0;34m\u001b[0m\u001b[0;34m\u001b[0m\u001b[0m\n\u001b[1;32m    104\u001b[0m         \u001b[0;32mreturn\u001b[0m \u001b[0marea\u001b[0m\u001b[0;34m(\u001b[0m\u001b[0mdata_frame\u001b[0m\u001b[0;34m,\u001b[0m \u001b[0;34m**\u001b[0m\u001b[0mkwargs\u001b[0m\u001b[0;34m)\u001b[0m\u001b[0;34m\u001b[0m\u001b[0;34m\u001b[0m\u001b[0m\n",
      "\u001b[0;32m/nix/store/j457dckijv8ljsi8s0p3nnm1r5740p74-python3-3.9.11-env/lib/python3.9/site-packages/plotly/express/_chart_types.py\u001b[0m in \u001b[0;36mline\u001b[0;34m(data_frame, x, y, line_group, color, line_dash, symbol, hover_name, hover_data, custom_data, text, facet_row, facet_col, facet_col_wrap, facet_row_spacing, facet_col_spacing, error_x, error_x_minus, error_y, error_y_minus, animation_frame, animation_group, category_orders, labels, orientation, color_discrete_sequence, color_discrete_map, line_dash_sequence, line_dash_map, symbol_sequence, symbol_map, markers, log_x, log_y, range_x, range_y, line_shape, render_mode, title, template, width, height)\u001b[0m\n\u001b[1;32m    258\u001b[0m     \u001b[0ma\u001b[0m \u001b[0mpolyline\u001b[0m \u001b[0mmark\u001b[0m \u001b[0;32min\u001b[0m \u001b[0;36m2\u001b[0m\u001b[0mD\u001b[0m \u001b[0mspace\u001b[0m\u001b[0;34m.\u001b[0m\u001b[0;34m\u001b[0m\u001b[0;34m\u001b[0m\u001b[0m\n\u001b[1;32m    259\u001b[0m     \"\"\"\n\u001b[0;32m--> 260\u001b[0;31m     \u001b[0;32mreturn\u001b[0m \u001b[0mmake_figure\u001b[0m\u001b[0;34m(\u001b[0m\u001b[0margs\u001b[0m\u001b[0;34m=\u001b[0m\u001b[0mlocals\u001b[0m\u001b[0;34m(\u001b[0m\u001b[0;34m)\u001b[0m\u001b[0;34m,\u001b[0m \u001b[0mconstructor\u001b[0m\u001b[0;34m=\u001b[0m\u001b[0mgo\u001b[0m\u001b[0;34m.\u001b[0m\u001b[0mScatter\u001b[0m\u001b[0;34m)\u001b[0m\u001b[0;34m\u001b[0m\u001b[0;34m\u001b[0m\u001b[0m\n\u001b[0m\u001b[1;32m    261\u001b[0m \u001b[0;34m\u001b[0m\u001b[0m\n\u001b[1;32m    262\u001b[0m \u001b[0;34m\u001b[0m\u001b[0m\n",
      "\u001b[0;32m/nix/store/j457dckijv8ljsi8s0p3nnm1r5740p74-python3-3.9.11-env/lib/python3.9/site-packages/plotly/express/_core.py\u001b[0m in \u001b[0;36mmake_figure\u001b[0;34m(args, constructor, trace_patch, layout_patch)\u001b[0m\n\u001b[1;32m   1931\u001b[0m     \u001b[0mapply_default_cascade\u001b[0m\u001b[0;34m(\u001b[0m\u001b[0margs\u001b[0m\u001b[0;34m)\u001b[0m\u001b[0;34m\u001b[0m\u001b[0;34m\u001b[0m\u001b[0m\n\u001b[1;32m   1932\u001b[0m \u001b[0;34m\u001b[0m\u001b[0m\n\u001b[0;32m-> 1933\u001b[0;31m     \u001b[0margs\u001b[0m \u001b[0;34m=\u001b[0m \u001b[0mbuild_dataframe\u001b[0m\u001b[0;34m(\u001b[0m\u001b[0margs\u001b[0m\u001b[0;34m,\u001b[0m \u001b[0mconstructor\u001b[0m\u001b[0;34m)\u001b[0m\u001b[0;34m\u001b[0m\u001b[0;34m\u001b[0m\u001b[0m\n\u001b[0m\u001b[1;32m   1934\u001b[0m     \u001b[0;32mif\u001b[0m \u001b[0mconstructor\u001b[0m \u001b[0;32min\u001b[0m \u001b[0;34m[\u001b[0m\u001b[0mgo\u001b[0m\u001b[0;34m.\u001b[0m\u001b[0mTreemap\u001b[0m\u001b[0;34m,\u001b[0m \u001b[0mgo\u001b[0m\u001b[0;34m.\u001b[0m\u001b[0mSunburst\u001b[0m\u001b[0;34m,\u001b[0m \u001b[0mgo\u001b[0m\u001b[0;34m.\u001b[0m\u001b[0mIcicle\u001b[0m\u001b[0;34m]\u001b[0m \u001b[0;32mand\u001b[0m \u001b[0margs\u001b[0m\u001b[0;34m[\u001b[0m\u001b[0;34m\"path\"\u001b[0m\u001b[0;34m]\u001b[0m \u001b[0;32mis\u001b[0m \u001b[0;32mnot\u001b[0m \u001b[0;32mNone\u001b[0m\u001b[0;34m:\u001b[0m\u001b[0;34m\u001b[0m\u001b[0;34m\u001b[0m\u001b[0m\n\u001b[1;32m   1935\u001b[0m         \u001b[0margs\u001b[0m \u001b[0;34m=\u001b[0m \u001b[0mprocess_dataframe_hierarchy\u001b[0m\u001b[0;34m(\u001b[0m\u001b[0margs\u001b[0m\u001b[0;34m)\u001b[0m\u001b[0;34m\u001b[0m\u001b[0;34m\u001b[0m\u001b[0m\n",
      "\u001b[0;32m/nix/store/j457dckijv8ljsi8s0p3nnm1r5740p74-python3-3.9.11-env/lib/python3.9/site-packages/plotly/express/_core.py\u001b[0m in \u001b[0;36mbuild_dataframe\u001b[0;34m(args, constructor)\u001b[0m\n\u001b[1;32m   1403\u001b[0m     \u001b[0;31m# now that things have been prepped, we do the systematic rewriting of `args`\u001b[0m\u001b[0;34m\u001b[0m\u001b[0;34m\u001b[0m\u001b[0m\n\u001b[1;32m   1404\u001b[0m \u001b[0;34m\u001b[0m\u001b[0m\n\u001b[0;32m-> 1405\u001b[0;31m     df_output, wide_id_vars = process_args_into_dataframe(\n\u001b[0m\u001b[1;32m   1406\u001b[0m         \u001b[0margs\u001b[0m\u001b[0;34m,\u001b[0m \u001b[0mwide_mode\u001b[0m\u001b[0;34m,\u001b[0m \u001b[0mvar_name\u001b[0m\u001b[0;34m,\u001b[0m \u001b[0mvalue_name\u001b[0m\u001b[0;34m\u001b[0m\u001b[0;34m\u001b[0m\u001b[0m\n\u001b[1;32m   1407\u001b[0m     )\n",
      "\u001b[0;32m/nix/store/j457dckijv8ljsi8s0p3nnm1r5740p74-python3-3.9.11-env/lib/python3.9/site-packages/plotly/express/_core.py\u001b[0m in \u001b[0;36mprocess_args_into_dataframe\u001b[0;34m(args, wide_mode, var_name, value_name)\u001b[0m\n\u001b[1;32m   1220\u001b[0m                 \u001b[0;32melse\u001b[0m\u001b[0;34m:\u001b[0m\u001b[0;34m\u001b[0m\u001b[0;34m\u001b[0m\u001b[0m\n\u001b[1;32m   1221\u001b[0m                     \u001b[0mcol_name\u001b[0m \u001b[0;34m=\u001b[0m \u001b[0mstr\u001b[0m\u001b[0;34m(\u001b[0m\u001b[0margument\u001b[0m\u001b[0;34m)\u001b[0m\u001b[0;34m\u001b[0m\u001b[0;34m\u001b[0m\u001b[0m\n\u001b[0;32m-> 1222\u001b[0;31m                     \u001b[0mdf_output\u001b[0m\u001b[0;34m[\u001b[0m\u001b[0mcol_name\u001b[0m\u001b[0;34m]\u001b[0m \u001b[0;34m=\u001b[0m \u001b[0mto_unindexed_series\u001b[0m\u001b[0;34m(\u001b[0m\u001b[0mdf_input\u001b[0m\u001b[0;34m[\u001b[0m\u001b[0margument\u001b[0m\u001b[0;34m]\u001b[0m\u001b[0;34m)\u001b[0m\u001b[0;34m\u001b[0m\u001b[0;34m\u001b[0m\u001b[0m\n\u001b[0m\u001b[1;32m   1223\u001b[0m             \u001b[0;31m# ----------------- argument is likely a column / array / list.... -------\u001b[0m\u001b[0;34m\u001b[0m\u001b[0;34m\u001b[0m\u001b[0m\n\u001b[1;32m   1224\u001b[0m             \u001b[0;32melse\u001b[0m\u001b[0;34m:\u001b[0m\u001b[0;34m\u001b[0m\u001b[0;34m\u001b[0m\u001b[0m\n",
      "\u001b[0;32m/nix/store/j457dckijv8ljsi8s0p3nnm1r5740p74-python3-3.9.11-env/lib/python3.9/site-packages/plotly/express/_core.py\u001b[0m in \u001b[0;36mto_unindexed_series\u001b[0;34m(x)\u001b[0m\n\u001b[1;32m   1071\u001b[0m     \u001b[0mrequired\u001b[0m \u001b[0mto\u001b[0m \u001b[0mget\u001b[0m \u001b[0mthings\u001b[0m \u001b[0mto\u001b[0m \u001b[0mmatch\u001b[0m \u001b[0mup\u001b[0m \u001b[0mright\u001b[0m \u001b[0;32min\u001b[0m \u001b[0mthe\u001b[0m \u001b[0mnew\u001b[0m \u001b[0mDataFrame\u001b[0m \u001b[0mwe\u001b[0m\u001b[0;31m'\u001b[0m\u001b[0mre\u001b[0m \u001b[0mbuilding\u001b[0m\u001b[0;34m\u001b[0m\u001b[0;34m\u001b[0m\u001b[0m\n\u001b[1;32m   1072\u001b[0m     \"\"\"\n\u001b[0;32m-> 1073\u001b[0;31m     \u001b[0;32mreturn\u001b[0m \u001b[0mpd\u001b[0m\u001b[0;34m.\u001b[0m\u001b[0mSeries\u001b[0m\u001b[0;34m(\u001b[0m\u001b[0mx\u001b[0m\u001b[0;34m)\u001b[0m\u001b[0;34m.\u001b[0m\u001b[0mreset_index\u001b[0m\u001b[0;34m(\u001b[0m\u001b[0mdrop\u001b[0m\u001b[0;34m=\u001b[0m\u001b[0;32mTrue\u001b[0m\u001b[0;34m)\u001b[0m\u001b[0;34m\u001b[0m\u001b[0;34m\u001b[0m\u001b[0m\n\u001b[0m\u001b[1;32m   1074\u001b[0m \u001b[0;34m\u001b[0m\u001b[0m\n\u001b[1;32m   1075\u001b[0m \u001b[0;34m\u001b[0m\u001b[0m\n",
      "\u001b[0;32m/nix/store/j457dckijv8ljsi8s0p3nnm1r5740p74-python3-3.9.11-env/lib/python3.9/site-packages/pandas/core/series.py\u001b[0m in \u001b[0;36m__init__\u001b[0;34m(self, data, index, dtype, name, copy, fastpath)\u001b[0m\n\u001b[1;32m    353\u001b[0m             \u001b[0mname\u001b[0m \u001b[0;34m=\u001b[0m \u001b[0mibase\u001b[0m\u001b[0;34m.\u001b[0m\u001b[0mmaybe_extract_name\u001b[0m\u001b[0;34m(\u001b[0m\u001b[0mname\u001b[0m\u001b[0;34m,\u001b[0m \u001b[0mdata\u001b[0m\u001b[0;34m,\u001b[0m \u001b[0mtype\u001b[0m\u001b[0;34m(\u001b[0m\u001b[0mself\u001b[0m\u001b[0;34m)\u001b[0m\u001b[0;34m)\u001b[0m\u001b[0;34m\u001b[0m\u001b[0;34m\u001b[0m\u001b[0m\n\u001b[1;32m    354\u001b[0m \u001b[0;34m\u001b[0m\u001b[0m\n\u001b[0;32m--> 355\u001b[0;31m             \u001b[0;32mif\u001b[0m \u001b[0mis_empty_data\u001b[0m\u001b[0;34m(\u001b[0m\u001b[0mdata\u001b[0m\u001b[0;34m)\u001b[0m \u001b[0;32mand\u001b[0m \u001b[0mdtype\u001b[0m \u001b[0;32mis\u001b[0m \u001b[0;32mNone\u001b[0m\u001b[0;34m:\u001b[0m\u001b[0;34m\u001b[0m\u001b[0;34m\u001b[0m\u001b[0m\n\u001b[0m\u001b[1;32m    356\u001b[0m                 \u001b[0;31m# gh-17261\u001b[0m\u001b[0;34m\u001b[0m\u001b[0;34m\u001b[0m\u001b[0m\n\u001b[1;32m    357\u001b[0m                 warnings.warn(\n",
      "\u001b[0;32m/nix/store/j457dckijv8ljsi8s0p3nnm1r5740p74-python3-3.9.11-env/lib/python3.9/site-packages/pandas/core/construction.py\u001b[0m in \u001b[0;36mis_empty_data\u001b[0;34m(data)\u001b[0m\n\u001b[1;32m    794\u001b[0m     \u001b[0mis_none\u001b[0m \u001b[0;34m=\u001b[0m \u001b[0mdata\u001b[0m \u001b[0;32mis\u001b[0m \u001b[0;32mNone\u001b[0m\u001b[0;34m\u001b[0m\u001b[0;34m\u001b[0m\u001b[0m\n\u001b[1;32m    795\u001b[0m     \u001b[0mis_list_like_without_dtype\u001b[0m \u001b[0;34m=\u001b[0m \u001b[0mis_list_like\u001b[0m\u001b[0;34m(\u001b[0m\u001b[0mdata\u001b[0m\u001b[0;34m)\u001b[0m \u001b[0;32mand\u001b[0m \u001b[0;32mnot\u001b[0m \u001b[0mhasattr\u001b[0m\u001b[0;34m(\u001b[0m\u001b[0mdata\u001b[0m\u001b[0;34m,\u001b[0m \u001b[0;34m\"dtype\"\u001b[0m\u001b[0;34m)\u001b[0m\u001b[0;34m\u001b[0m\u001b[0;34m\u001b[0m\u001b[0m\n\u001b[0;32m--> 796\u001b[0;31m     \u001b[0mis_simple_empty\u001b[0m \u001b[0;34m=\u001b[0m \u001b[0mis_list_like_without_dtype\u001b[0m \u001b[0;32mand\u001b[0m \u001b[0;32mnot\u001b[0m \u001b[0mdata\u001b[0m\u001b[0;34m\u001b[0m\u001b[0;34m\u001b[0m\u001b[0m\n\u001b[0m\u001b[1;32m    797\u001b[0m     \u001b[0;32mreturn\u001b[0m \u001b[0mis_none\u001b[0m \u001b[0;32mor\u001b[0m \u001b[0mis_simple_empty\u001b[0m\u001b[0;34m\u001b[0m\u001b[0;34m\u001b[0m\u001b[0m\n\u001b[1;32m    798\u001b[0m \u001b[0;34m\u001b[0m\u001b[0m\n",
      "\u001b[0;32m/nix/store/j457dckijv8ljsi8s0p3nnm1r5740p74-python3-3.9.11-env/lib/python3.9/site-packages/pandas/core/generic.py\u001b[0m in \u001b[0;36m__nonzero__\u001b[0;34m(self)\u001b[0m\n\u001b[1;32m   1535\u001b[0m     \u001b[0;34m@\u001b[0m\u001b[0mfinal\u001b[0m\u001b[0;34m\u001b[0m\u001b[0;34m\u001b[0m\u001b[0m\n\u001b[1;32m   1536\u001b[0m     \u001b[0;32mdef\u001b[0m \u001b[0m__nonzero__\u001b[0m\u001b[0;34m(\u001b[0m\u001b[0mself\u001b[0m\u001b[0;34m)\u001b[0m\u001b[0;34m:\u001b[0m\u001b[0;34m\u001b[0m\u001b[0;34m\u001b[0m\u001b[0m\n\u001b[0;32m-> 1537\u001b[0;31m         raise ValueError(\n\u001b[0m\u001b[1;32m   1538\u001b[0m             \u001b[0;34mf\"The truth value of a {type(self).__name__} is ambiguous. \"\u001b[0m\u001b[0;34m\u001b[0m\u001b[0;34m\u001b[0m\u001b[0m\n\u001b[1;32m   1539\u001b[0m             \u001b[0;34m\"Use a.empty, a.bool(), a.item(), a.any() or a.all().\"\u001b[0m\u001b[0;34m\u001b[0m\u001b[0;34m\u001b[0m\u001b[0m\n",
      "\u001b[0;31mValueError\u001b[0m: The truth value of a DataFrame is ambiguous. Use a.empty, a.bool(), a.item(), a.any() or a.all()."
     ]
    }
   ],
   "source": [
    "pop_df.plot(x=)"
   ]
  },
  {
   "cell_type": "code",
   "execution_count": null,
   "id": "00627ccd",
   "metadata": {},
   "outputs": [],
   "source": []
  }
 ],
 "metadata": {
  "kernelspec": {
   "display_name": "Python 3 (ipykernel)",
   "language": "python",
   "name": "python3"
  },
  "language_info": {
   "codemirror_mode": {
    "name": "ipython",
    "version": 3
   },
   "file_extension": ".py",
   "mimetype": "text/x-python",
   "name": "python",
   "nbconvert_exporter": "python",
   "pygments_lexer": "ipython3",
   "version": "3.9.11"
  }
 },
 "nbformat": 4,
 "nbformat_minor": 5
}
