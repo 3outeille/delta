{
 "cells": [
  {
   "cell_type": "code",
   "execution_count": 3,
   "metadata": {
    "collapsed": true
   },
   "outputs": [
    {
     "data": {
      "text/plain": "       Code bassin 2015 Nom bassin 2015 Famille métier  \\\n0                 101.0     SAINTE-ROSE              Z   \n1                 101.0     SAINTE-ROSE              Z   \n2                 101.0     SAINTE-ROSE              Z   \n3                 101.0     SAINTE-ROSE              Z   \n4                 101.0     SAINTE-ROSE              O   \n...                 ...             ...            ...   \n46590               NaN             NaN            NaN   \n46591               NaN             NaN            NaN   \n46592               NaN             NaN            NaN   \n46593               NaN             NaN            NaN   \n46594               NaN             NaN            NaN   \n\n                           Libellé Famille métier Métier  \\\n0                                  Autres métiers  A0Z40   \n1                                  Autres métiers  A0Z43   \n2                                  Autres métiers  A1Z41   \n3                                  Autres métiers  A2Z70   \n4      Ouvriers de la construction et du bâtiment  B0Z21   \n...                                           ...    ...   \n46590                                         NaN    NaN   \n46591                                         NaN    NaN   \n46592                                         NaN    NaN   \n46593                                         NaN    NaN   \n46594                                         NaN    NaN   \n\n                                       Libellé du métier Code département  \\\n0              Agriculteurs salariés, ouvriers agricoles              971   \n1           Conducteurs d'engins agricoles ou forestiers              971   \n2                       Jardiniers salariés, paysagistes              971   \n3      Techniciens et agents d'encadrement d'exploita...              971   \n4       Ouvriers non qualifiés du gros œuvre du bâtiment              971   \n...                                                  ...              ...   \n46590                                                NaN              NaN   \n46591                                                NaN              NaN   \n46592                                                NaN              NaN   \n46593                                                NaN              NaN   \n46594                                                NaN              NaN   \n\n      Nom Departement  Projets de recrutement totaux  \\\n0          GUADELOUPE                      45.909687   \n1          GUADELOUPE                       8.636562   \n2          GUADELOUPE                       9.861437   \n3          GUADELOUPE                       8.636562   \n4          GUADELOUPE                      14.846788   \n...               ...                            ...   \n46590             NaN                            NaN   \n46591             NaN                            NaN   \n46592             NaN                            NaN   \n46593             NaN                            NaN   \n46594             NaN                            NaN   \n\n       Projets de recrutement difficiles  ...  nommetier  NOM_REG18 BE19  \\\n0                               0.000000  ...        NaN        NaN  NaN   \n1                               8.636562  ...        NaN        NaN  NaN   \n2                               9.861437  ...        NaN        NaN  NaN   \n3                               8.636562  ...        NaN        NaN  NaN   \n4                               7.423394  ...        NaN        NaN  NaN   \n...                                  ...  ...        ...        ...  ...   \n46590                                NaN  ...        NaN        NaN  NaN   \n46591                                NaN  ...        NaN        NaN  NaN   \n46592                                NaN  ...        NaN        NaN  NaN   \n46593                                NaN  ...        NaN        NaN  NaN   \n46594                                NaN  ...        NaN        NaN  NaN   \n\n       NOMBE19  BE20 NOMBE20 Code métier BMO Nom métier BMO    BE21  \\\n0          NaN   NaN     NaN             NaN            NaN     NaN   \n1          NaN   NaN     NaN             NaN            NaN     NaN   \n2          NaN   NaN     NaN             NaN            NaN     NaN   \n3          NaN   NaN     NaN             NaN            NaN     NaN   \n4          NaN   NaN     NaN             NaN            NaN     NaN   \n...        ...   ...     ...             ...            ...     ...   \n46590      NaN   NaN     NaN           W1Z80     Formateurs  9332.0   \n46591      NaN   NaN     NaN           W1Z80     Formateurs  9333.0   \n46592      NaN   NaN     NaN           W1Z80     Formateurs     NaN   \n46593      NaN   NaN     NaN           W1Z80     Formateurs     NaN   \n46594      NaN   NaN     NaN           W1Z80     Formateurs     NaN   \n\n                   NOMBE21  \n0                      NaN  \n1                      NaN  \n2                      NaN  \n3                      NaN  \n4                      NaN  \n...                    ...  \n46590             HAUT VAR  \n46591  AIX  GARDANNE SALON  \n46592                  NaN  \n46593                  NaN  \n46594                  NaN  \n\n[309285 rows x 47 columns]",
      "text/html": "<div>\n<style scoped>\n    .dataframe tbody tr th:only-of-type {\n        vertical-align: middle;\n    }\n\n    .dataframe tbody tr th {\n        vertical-align: top;\n    }\n\n    .dataframe thead th {\n        text-align: right;\n    }\n</style>\n<table border=\"1\" class=\"dataframe\">\n  <thead>\n    <tr style=\"text-align: right;\">\n      <th></th>\n      <th>Code bassin 2015</th>\n      <th>Nom bassin 2015</th>\n      <th>Famille métier</th>\n      <th>Libellé Famille métier</th>\n      <th>Métier</th>\n      <th>Libellé du métier</th>\n      <th>Code département</th>\n      <th>Nom Departement</th>\n      <th>Projets de recrutement totaux</th>\n      <th>Projets de recrutement difficiles</th>\n      <th>...</th>\n      <th>nommetier</th>\n      <th>NOM_REG18</th>\n      <th>BE19</th>\n      <th>NOMBE19</th>\n      <th>BE20</th>\n      <th>NOMBE20</th>\n      <th>Code métier BMO</th>\n      <th>Nom métier BMO</th>\n      <th>BE21</th>\n      <th>NOMBE21</th>\n    </tr>\n  </thead>\n  <tbody>\n    <tr>\n      <th>0</th>\n      <td>101.0</td>\n      <td>SAINTE-ROSE</td>\n      <td>Z</td>\n      <td>Autres métiers</td>\n      <td>A0Z40</td>\n      <td>Agriculteurs salariés, ouvriers agricoles</td>\n      <td>971</td>\n      <td>GUADELOUPE</td>\n      <td>45.909687</td>\n      <td>0.000000</td>\n      <td>...</td>\n      <td>NaN</td>\n      <td>NaN</td>\n      <td>NaN</td>\n      <td>NaN</td>\n      <td>NaN</td>\n      <td>NaN</td>\n      <td>NaN</td>\n      <td>NaN</td>\n      <td>NaN</td>\n      <td>NaN</td>\n    </tr>\n    <tr>\n      <th>1</th>\n      <td>101.0</td>\n      <td>SAINTE-ROSE</td>\n      <td>Z</td>\n      <td>Autres métiers</td>\n      <td>A0Z43</td>\n      <td>Conducteurs d'engins agricoles ou forestiers</td>\n      <td>971</td>\n      <td>GUADELOUPE</td>\n      <td>8.636562</td>\n      <td>8.636562</td>\n      <td>...</td>\n      <td>NaN</td>\n      <td>NaN</td>\n      <td>NaN</td>\n      <td>NaN</td>\n      <td>NaN</td>\n      <td>NaN</td>\n      <td>NaN</td>\n      <td>NaN</td>\n      <td>NaN</td>\n      <td>NaN</td>\n    </tr>\n    <tr>\n      <th>2</th>\n      <td>101.0</td>\n      <td>SAINTE-ROSE</td>\n      <td>Z</td>\n      <td>Autres métiers</td>\n      <td>A1Z41</td>\n      <td>Jardiniers salariés, paysagistes</td>\n      <td>971</td>\n      <td>GUADELOUPE</td>\n      <td>9.861437</td>\n      <td>9.861437</td>\n      <td>...</td>\n      <td>NaN</td>\n      <td>NaN</td>\n      <td>NaN</td>\n      <td>NaN</td>\n      <td>NaN</td>\n      <td>NaN</td>\n      <td>NaN</td>\n      <td>NaN</td>\n      <td>NaN</td>\n      <td>NaN</td>\n    </tr>\n    <tr>\n      <th>3</th>\n      <td>101.0</td>\n      <td>SAINTE-ROSE</td>\n      <td>Z</td>\n      <td>Autres métiers</td>\n      <td>A2Z70</td>\n      <td>Techniciens et agents d'encadrement d'exploita...</td>\n      <td>971</td>\n      <td>GUADELOUPE</td>\n      <td>8.636562</td>\n      <td>8.636562</td>\n      <td>...</td>\n      <td>NaN</td>\n      <td>NaN</td>\n      <td>NaN</td>\n      <td>NaN</td>\n      <td>NaN</td>\n      <td>NaN</td>\n      <td>NaN</td>\n      <td>NaN</td>\n      <td>NaN</td>\n      <td>NaN</td>\n    </tr>\n    <tr>\n      <th>4</th>\n      <td>101.0</td>\n      <td>SAINTE-ROSE</td>\n      <td>O</td>\n      <td>Ouvriers de la construction et du bâtiment</td>\n      <td>B0Z21</td>\n      <td>Ouvriers non qualifiés du gros œuvre du bâtiment</td>\n      <td>971</td>\n      <td>GUADELOUPE</td>\n      <td>14.846788</td>\n      <td>7.423394</td>\n      <td>...</td>\n      <td>NaN</td>\n      <td>NaN</td>\n      <td>NaN</td>\n      <td>NaN</td>\n      <td>NaN</td>\n      <td>NaN</td>\n      <td>NaN</td>\n      <td>NaN</td>\n      <td>NaN</td>\n      <td>NaN</td>\n    </tr>\n    <tr>\n      <th>...</th>\n      <td>...</td>\n      <td>...</td>\n      <td>...</td>\n      <td>...</td>\n      <td>...</td>\n      <td>...</td>\n      <td>...</td>\n      <td>...</td>\n      <td>...</td>\n      <td>...</td>\n      <td>...</td>\n      <td>...</td>\n      <td>...</td>\n      <td>...</td>\n      <td>...</td>\n      <td>...</td>\n      <td>...</td>\n      <td>...</td>\n      <td>...</td>\n      <td>...</td>\n      <td>...</td>\n    </tr>\n    <tr>\n      <th>46590</th>\n      <td>NaN</td>\n      <td>NaN</td>\n      <td>NaN</td>\n      <td>NaN</td>\n      <td>NaN</td>\n      <td>NaN</td>\n      <td>NaN</td>\n      <td>NaN</td>\n      <td>NaN</td>\n      <td>NaN</td>\n      <td>...</td>\n      <td>NaN</td>\n      <td>NaN</td>\n      <td>NaN</td>\n      <td>NaN</td>\n      <td>NaN</td>\n      <td>NaN</td>\n      <td>W1Z80</td>\n      <td>Formateurs</td>\n      <td>9332.0</td>\n      <td>HAUT VAR</td>\n    </tr>\n    <tr>\n      <th>46591</th>\n      <td>NaN</td>\n      <td>NaN</td>\n      <td>NaN</td>\n      <td>NaN</td>\n      <td>NaN</td>\n      <td>NaN</td>\n      <td>NaN</td>\n      <td>NaN</td>\n      <td>NaN</td>\n      <td>NaN</td>\n      <td>...</td>\n      <td>NaN</td>\n      <td>NaN</td>\n      <td>NaN</td>\n      <td>NaN</td>\n      <td>NaN</td>\n      <td>NaN</td>\n      <td>W1Z80</td>\n      <td>Formateurs</td>\n      <td>9333.0</td>\n      <td>AIX  GARDANNE SALON</td>\n    </tr>\n    <tr>\n      <th>46592</th>\n      <td>NaN</td>\n      <td>NaN</td>\n      <td>NaN</td>\n      <td>NaN</td>\n      <td>NaN</td>\n      <td>NaN</td>\n      <td>NaN</td>\n      <td>NaN</td>\n      <td>NaN</td>\n      <td>NaN</td>\n      <td>...</td>\n      <td>NaN</td>\n      <td>NaN</td>\n      <td>NaN</td>\n      <td>NaN</td>\n      <td>NaN</td>\n      <td>NaN</td>\n      <td>W1Z80</td>\n      <td>Formateurs</td>\n      <td>NaN</td>\n      <td>NaN</td>\n    </tr>\n    <tr>\n      <th>46593</th>\n      <td>NaN</td>\n      <td>NaN</td>\n      <td>NaN</td>\n      <td>NaN</td>\n      <td>NaN</td>\n      <td>NaN</td>\n      <td>NaN</td>\n      <td>NaN</td>\n      <td>NaN</td>\n      <td>NaN</td>\n      <td>...</td>\n      <td>NaN</td>\n      <td>NaN</td>\n      <td>NaN</td>\n      <td>NaN</td>\n      <td>NaN</td>\n      <td>NaN</td>\n      <td>W1Z80</td>\n      <td>Formateurs</td>\n      <td>NaN</td>\n      <td>NaN</td>\n    </tr>\n    <tr>\n      <th>46594</th>\n      <td>NaN</td>\n      <td>NaN</td>\n      <td>NaN</td>\n      <td>NaN</td>\n      <td>NaN</td>\n      <td>NaN</td>\n      <td>NaN</td>\n      <td>NaN</td>\n      <td>NaN</td>\n      <td>NaN</td>\n      <td>...</td>\n      <td>NaN</td>\n      <td>NaN</td>\n      <td>NaN</td>\n      <td>NaN</td>\n      <td>NaN</td>\n      <td>NaN</td>\n      <td>W1Z80</td>\n      <td>Formateurs</td>\n      <td>NaN</td>\n      <td>NaN</td>\n    </tr>\n  </tbody>\n</table>\n<p>309285 rows × 47 columns</p>\n</div>"
     },
     "execution_count": 3,
     "metadata": {},
     "output_type": "execute_result"
    }
   ],
   "source": [
    "import pandas as pd"
   ]
  },
  {
   "cell_type": "code",
   "execution_count": 35,
   "outputs": [
    {
     "data": {
      "text/plain": "       Année                      Libellé Famille métier  \\\n0       2015                              Autres métiers   \n1       2015                              Autres métiers   \n2       2015                              Autres métiers   \n3       2015                              Autres métiers   \n4       2015  Ouvriers de la construction et du bâtiment   \n...      ...                                         ...   \n46590   2021       Fonctions sociales et médico-sociales   \n46591   2021       Fonctions sociales et médico-sociales   \n46592   2021       Fonctions sociales et médico-sociales   \n46593   2021       Fonctions sociales et médico-sociales   \n46594   2021       Fonctions sociales et médico-sociales   \n\n                                       Libellé du métier   Nom Departement  \\\n0              Agriculteurs salariés, ouvriers agricoles        GUADELOUPE   \n1           Conducteurs d'engins agricoles ou forestiers        GUADELOUPE   \n2                       Jardiniers salariés, paysagistes        GUADELOUPE   \n3      Techniciens et agents d'encadrement d'exploita...        GUADELOUPE   \n4       Ouvriers non qualifiés du gros œuvre du bâtiment        GUADELOUPE   \n...                                                  ...               ...   \n46590                                         Formateurs               Var   \n46591                                         Formateurs  Bouches-du-Rhône   \n46592                                         Formateurs   Alpes-Maritimes   \n46593                                         Formateurs      Corse-du-Sud   \n46594                                         Formateurs       Haute-Corse   \n\n      Code département                  Nom Region  Code region  \\\n0                  971                  GUADELOUPE          1.0   \n1                  971                  GUADELOUPE          1.0   \n2                  971                  GUADELOUPE          1.0   \n3                  971                  GUADELOUPE          1.0   \n4                  971                  GUADELOUPE          1.0   \n...                ...                         ...          ...   \n46590               83  Provence-Alpes-Côte d'Azur         93.0   \n46591               13  Provence-Alpes-Côte d'Azur         93.0   \n46592               06  Provence-Alpes-Côte d'Azur         93.0   \n46593               2A                       Corse         94.0   \n46594               2B                       Corse         94.0   \n\n      Projets de recrutement totaux  \n0                         45.909687  \n1                          8.636562  \n2                          9.861437  \n3                          8.636562  \n4                         14.846788  \n...                             ...  \n46590                            37  \n46591                           189  \n46592                            10  \n46593                            12  \n46594                            20  \n\n[309285 rows x 8 columns]",
      "text/html": "<div>\n<style scoped>\n    .dataframe tbody tr th:only-of-type {\n        vertical-align: middle;\n    }\n\n    .dataframe tbody tr th {\n        vertical-align: top;\n    }\n\n    .dataframe thead th {\n        text-align: right;\n    }\n</style>\n<table border=\"1\" class=\"dataframe\">\n  <thead>\n    <tr style=\"text-align: right;\">\n      <th></th>\n      <th>Année</th>\n      <th>Libellé Famille métier</th>\n      <th>Libellé du métier</th>\n      <th>Nom Departement</th>\n      <th>Code département</th>\n      <th>Nom Region</th>\n      <th>Code region</th>\n      <th>Projets de recrutement totaux</th>\n    </tr>\n  </thead>\n  <tbody>\n    <tr>\n      <th>0</th>\n      <td>2015</td>\n      <td>Autres métiers</td>\n      <td>Agriculteurs salariés, ouvriers agricoles</td>\n      <td>GUADELOUPE</td>\n      <td>971</td>\n      <td>GUADELOUPE</td>\n      <td>1.0</td>\n      <td>45.909687</td>\n    </tr>\n    <tr>\n      <th>1</th>\n      <td>2015</td>\n      <td>Autres métiers</td>\n      <td>Conducteurs d'engins agricoles ou forestiers</td>\n      <td>GUADELOUPE</td>\n      <td>971</td>\n      <td>GUADELOUPE</td>\n      <td>1.0</td>\n      <td>8.636562</td>\n    </tr>\n    <tr>\n      <th>2</th>\n      <td>2015</td>\n      <td>Autres métiers</td>\n      <td>Jardiniers salariés, paysagistes</td>\n      <td>GUADELOUPE</td>\n      <td>971</td>\n      <td>GUADELOUPE</td>\n      <td>1.0</td>\n      <td>9.861437</td>\n    </tr>\n    <tr>\n      <th>3</th>\n      <td>2015</td>\n      <td>Autres métiers</td>\n      <td>Techniciens et agents d'encadrement d'exploita...</td>\n      <td>GUADELOUPE</td>\n      <td>971</td>\n      <td>GUADELOUPE</td>\n      <td>1.0</td>\n      <td>8.636562</td>\n    </tr>\n    <tr>\n      <th>4</th>\n      <td>2015</td>\n      <td>Ouvriers de la construction et du bâtiment</td>\n      <td>Ouvriers non qualifiés du gros œuvre du bâtiment</td>\n      <td>GUADELOUPE</td>\n      <td>971</td>\n      <td>GUADELOUPE</td>\n      <td>1.0</td>\n      <td>14.846788</td>\n    </tr>\n    <tr>\n      <th>...</th>\n      <td>...</td>\n      <td>...</td>\n      <td>...</td>\n      <td>...</td>\n      <td>...</td>\n      <td>...</td>\n      <td>...</td>\n      <td>...</td>\n    </tr>\n    <tr>\n      <th>46590</th>\n      <td>2021</td>\n      <td>Fonctions sociales et médico-sociales</td>\n      <td>Formateurs</td>\n      <td>Var</td>\n      <td>83</td>\n      <td>Provence-Alpes-Côte d'Azur</td>\n      <td>93.0</td>\n      <td>37</td>\n    </tr>\n    <tr>\n      <th>46591</th>\n      <td>2021</td>\n      <td>Fonctions sociales et médico-sociales</td>\n      <td>Formateurs</td>\n      <td>Bouches-du-Rhône</td>\n      <td>13</td>\n      <td>Provence-Alpes-Côte d'Azur</td>\n      <td>93.0</td>\n      <td>189</td>\n    </tr>\n    <tr>\n      <th>46592</th>\n      <td>2021</td>\n      <td>Fonctions sociales et médico-sociales</td>\n      <td>Formateurs</td>\n      <td>Alpes-Maritimes</td>\n      <td>06</td>\n      <td>Provence-Alpes-Côte d'Azur</td>\n      <td>93.0</td>\n      <td>10</td>\n    </tr>\n    <tr>\n      <th>46593</th>\n      <td>2021</td>\n      <td>Fonctions sociales et médico-sociales</td>\n      <td>Formateurs</td>\n      <td>Corse-du-Sud</td>\n      <td>2A</td>\n      <td>Corse</td>\n      <td>94.0</td>\n      <td>12</td>\n    </tr>\n    <tr>\n      <th>46594</th>\n      <td>2021</td>\n      <td>Fonctions sociales et médico-sociales</td>\n      <td>Formateurs</td>\n      <td>Haute-Corse</td>\n      <td>2B</td>\n      <td>Corse</td>\n      <td>94.0</td>\n      <td>20</td>\n    </tr>\n  </tbody>\n</table>\n<p>309285 rows × 8 columns</p>\n</div>"
     },
     "execution_count": 35,
     "metadata": {},
     "output_type": "execute_result"
    }
   ],
   "source": [
    "df15 = pd.read_excel(\"data/ResmetBE15.xls\", sheet_name=1)\n",
    "df15 = df15.iloc[:,[3 ,5 ,6 ,7 , 8, 11, 12]]\n",
    "df15['Année']=2015\n",
    "df15 = df15[['Année', 'Libellé Famille métier', 'Libellé du métier' ,'Nom Departement', 'Code département', 'Nom Region', 'Code region',   'Projets de recrutement totaux']]\n",
    "\n",
    "df16 = pd.read_excel(\"data/ResMetBE16.xlsx\", sheet_name=0)\n",
    "df16 = df16.iloc[:,[0 ,4 ,6 ,7 , 8, 9, 12, 13]]\n",
    "df16.columns = ['Année', 'Libellé Famille métier', 'Libellé du métier', 'Code département', 'Nom Departement', 'Projets de recrutement totaux', 'Code region', 'Nom Region']\n",
    "df16 = df16[['Année', 'Libellé Famille métier', 'Libellé du métier' ,'Nom Departement', 'Code département', 'Nom Region', 'Code region',   'Projets de recrutement totaux']]\n",
    "\n",
    "df17 = pd.read_excel(\"data/ResMetBE17.xlsx\", sheet_name=1)\n",
    "df17 = df17.iloc[:,[0 ,4 ,6 ,7 , 8, 9, 12, 13]]\n",
    "df17.columns = ['Année', 'Libellé Famille métier', 'Libellé du métier', 'Code département', 'Nom Departement', 'Projets de recrutement totaux', 'Code region', 'Nom Region']\n",
    "df17 = df17[['Année', 'Libellé Famille métier', 'Libellé du métier' ,'Nom Departement', 'Code département', 'Nom Region', 'Code region',   'Projets de recrutement totaux']]\n",
    "\n",
    "df18 = pd.read_excel(\"data/ResMetBE18.xlsx\", sheet_name=1)\n",
    "df18 = df18.iloc[:,[0 ,4 ,6 ,7 , 8, 9, 12, 13]]\n",
    "df18.columns = ['Année', 'Libellé Famille métier', 'Libellé du métier', 'Code département', 'Nom Departement', 'Projets de recrutement totaux', 'Code region', 'Nom Region']\n",
    "df18 = df18[['Année', 'Libellé Famille métier', 'Libellé du métier' ,'Nom Departement', 'Code département', 'Nom Region', 'Code region',   'Projets de recrutement totaux']]\n",
    "\n",
    "df19 = pd.read_excel(\"data/ResMetBE19.xlsx\", sheet_name=1)\n",
    "df19 = df19.iloc[:,[0 ,4 ,6 ,7 , 8, 9, 12, 13]]\n",
    "df19.columns = ['Année', 'Libellé Famille métier', 'Libellé du métier', 'Code département', 'Nom Departement', 'Projets de recrutement totaux', 'Code region', 'Nom Region']\n",
    "df19 = df19[['Année', 'Libellé Famille métier', 'Libellé du métier' ,'Nom Departement', 'Code département', 'Nom Region', 'Code region',   'Projets de recrutement totaux']]\n",
    "\n",
    "df20 = pd.read_excel(\"data/ResMetBE20.xlsx\", sheet_name=1)\n",
    "df20 = df20.iloc[:,[0 ,4 ,6 ,7 , 8, 9, 12, 13]]\n",
    "df20.columns = ['Année', 'Libellé Famille métier', 'Libellé du métier', 'Code département', 'Nom Departement', 'Projets de recrutement totaux', 'Code region', 'Nom Region']\n",
    "df20 = df20[['Année', 'Libellé Famille métier', 'Libellé du métier' ,'Nom Departement', 'Code département', 'Nom Region', 'Code region',   'Projets de recrutement totaux']]\n",
    "\n",
    "df21 = pd.read_excel(\"data/Base_open_data_21_def.xlsx\", sheet_name=1)\n",
    "df21 = df21.iloc[:,[0 ,2 ,4 ,7 , 8, 9, 10, 11]]\n",
    "df21.columns = ['Année', 'Libellé du métier', 'Libellé Famille métier', 'Code département', 'Nom Departement', 'Code region', 'Nom Region', 'Projets de recrutement totaux']\n",
    "df21 = df21[['Année', 'Libellé Famille métier', 'Libellé du métier' ,'Nom Departement', 'Code département', 'Nom Region', 'Code region',   'Projets de recrutement totaux']]\n",
    "\n",
    "df = pd.concat([df15, df16, df17, df18, df19, df20, df21])\n",
    "df"
   ],
   "metadata": {
    "collapsed": false,
    "pycharm": {
     "name": "#%%\n"
    }
   }
  },
  {
   "cell_type": "code",
   "execution_count": null,
   "outputs": [],
   "source": [],
   "metadata": {
    "collapsed": false,
    "pycharm": {
     "name": "#%%\n"
    }
   }
  }
 ],
 "metadata": {
  "kernelspec": {
   "display_name": "Python 3",
   "language": "python",
   "name": "python3"
  },
  "language_info": {
   "codemirror_mode": {
    "name": "ipython",
    "version": 2
   },
   "file_extension": ".py",
   "mimetype": "text/x-python",
   "name": "python",
   "nbconvert_exporter": "python",
   "pygments_lexer": "ipython2",
   "version": "2.7.6"
  }
 },
 "nbformat": 4,
 "nbformat_minor": 0
}