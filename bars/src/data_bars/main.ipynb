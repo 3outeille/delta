{
 "cells": [
  {
   "cell_type": "code",
   "execution_count": 1,
   "metadata": {
    "pycharm": {
     "name": "#%%\n"
    }
   },
   "outputs": [],
   "source": [
    "from IPython.display import display\n",
    "import numpy as np\n",
    "import pandas as pd\n",
    "import folium\n",
    "import plotly.express as px\n",
    "import seaborn as sns"
   ]
  },
  {
   "cell_type": "code",
   "execution_count": 2,
   "outputs": [
    {
     "data": {
      "text/plain": "                            Geo Point                    Nom Boissons  \\\n0                44.0549704,0.2603921           Au boin coin      NaN   \n1                47.9094426,1.9076031      Le Diabolo Menthe      NaN   \n2                 48.8020856,2.427514        Café de la Gare      NaN   \n3                41.6976671,9.0644945                    NaN      NaN   \n4                 43.788717,4.8299152  Brasserie du Commerce      yes   \n...                               ...                    ...      ...   \n17928            44.2761336,5.2758837           Les Glycines      NaN   \n17929            46.7227908,2.5037666             La Rotonde      NaN   \n17930            43.8339541,4.3534613              La Movida      NaN   \n17931            46.7776345,4.8488139         Nicéphore Café      NaN   \n17932  43.3685096,-1.7927453999999998                   Uxoa      NaN   \n\n      Site web          Téléphone Horaires Accessible PMR PMR (description)  \\\n0          NaN  +33 5 53 65 67 45      NaN            NaN               NaN   \n1          NaN                NaN      NaN            NaN               NaN   \n2          NaN                NaN      NaN            NaN               NaN   \n3          NaN                NaN      NaN            NaN               NaN   \n4          NaN                NaN      NaN            NaN               NaN   \n...        ...                ...      ...            ...               ...   \n17928      NaN                NaN      NaN            NaN               NaN   \n17929      NaN     +33 2 48961610      NaN            NaN               NaN   \n17930      NaN                NaN      NaN            NaN               NaN   \n17931      NaN                NaN      NaN            NaN               NaN   \n17932      NaN                NaN      NaN            NaN               NaN   \n\n      Toilettes PMR Id Wikidata Id Wikipédia Code postal  \\\n0               NaN         NaN          NaN         NaN   \n1               NaN         NaN          NaN         NaN   \n2               NaN         NaN          NaN         NaN   \n3               NaN         NaN          NaN         NaN   \n4               NaN         NaN          NaN       13210   \n...             ...         ...          ...         ...   \n17928           NaN         NaN          NaN         NaN   \n17929           NaN         NaN          NaN         NaN   \n17930           NaN         NaN          NaN         NaN   \n17931           NaN         NaN          NaN         NaN   \n17932           NaN         NaN          NaN         NaN   \n\n                                              other_tags  \n0      {\"cuisine\": \"tapas\", \"ref:FR:CRTA\": \"RESAQU047...  \n1                                   {\"source\": \"survey\"}  \n2                                                    NaN  \n3                                                    NaN  \n4      {\"addr:housenumber\": \"22\", \"addr:city\": \"Saint...  \n...                                                  ...  \n17928                                                NaN  \n17929                                                NaN  \n17930                                                NaN  \n17931                                                NaN  \n17932                                                NaN  \n\n[17933 rows x 13 columns]",
      "text/html": "<div>\n<style scoped>\n    .dataframe tbody tr th:only-of-type {\n        vertical-align: middle;\n    }\n\n    .dataframe tbody tr th {\n        vertical-align: top;\n    }\n\n    .dataframe thead th {\n        text-align: right;\n    }\n</style>\n<table border=\"1\" class=\"dataframe\">\n  <thead>\n    <tr style=\"text-align: right;\">\n      <th></th>\n      <th>Geo Point</th>\n      <th>Nom</th>\n      <th>Boissons</th>\n      <th>Site web</th>\n      <th>Téléphone</th>\n      <th>Horaires</th>\n      <th>Accessible PMR</th>\n      <th>PMR (description)</th>\n      <th>Toilettes PMR</th>\n      <th>Id Wikidata</th>\n      <th>Id Wikipédia</th>\n      <th>Code postal</th>\n      <th>other_tags</th>\n    </tr>\n  </thead>\n  <tbody>\n    <tr>\n      <th>0</th>\n      <td>44.0549704,0.2603921</td>\n      <td>Au boin coin</td>\n      <td>NaN</td>\n      <td>NaN</td>\n      <td>+33 5 53 65 67 45</td>\n      <td>NaN</td>\n      <td>NaN</td>\n      <td>NaN</td>\n      <td>NaN</td>\n      <td>NaN</td>\n      <td>NaN</td>\n      <td>NaN</td>\n      <td>{\"cuisine\": \"tapas\", \"ref:FR:CRTA\": \"RESAQU047...</td>\n    </tr>\n    <tr>\n      <th>1</th>\n      <td>47.9094426,1.9076031</td>\n      <td>Le Diabolo Menthe</td>\n      <td>NaN</td>\n      <td>NaN</td>\n      <td>NaN</td>\n      <td>NaN</td>\n      <td>NaN</td>\n      <td>NaN</td>\n      <td>NaN</td>\n      <td>NaN</td>\n      <td>NaN</td>\n      <td>NaN</td>\n      <td>{\"source\": \"survey\"}</td>\n    </tr>\n    <tr>\n      <th>2</th>\n      <td>48.8020856,2.427514</td>\n      <td>Café de la Gare</td>\n      <td>NaN</td>\n      <td>NaN</td>\n      <td>NaN</td>\n      <td>NaN</td>\n      <td>NaN</td>\n      <td>NaN</td>\n      <td>NaN</td>\n      <td>NaN</td>\n      <td>NaN</td>\n      <td>NaN</td>\n      <td>NaN</td>\n    </tr>\n    <tr>\n      <th>3</th>\n      <td>41.6976671,9.0644945</td>\n      <td>NaN</td>\n      <td>NaN</td>\n      <td>NaN</td>\n      <td>NaN</td>\n      <td>NaN</td>\n      <td>NaN</td>\n      <td>NaN</td>\n      <td>NaN</td>\n      <td>NaN</td>\n      <td>NaN</td>\n      <td>NaN</td>\n      <td>NaN</td>\n    </tr>\n    <tr>\n      <th>4</th>\n      <td>43.788717,4.8299152</td>\n      <td>Brasserie du Commerce</td>\n      <td>yes</td>\n      <td>NaN</td>\n      <td>NaN</td>\n      <td>NaN</td>\n      <td>NaN</td>\n      <td>NaN</td>\n      <td>NaN</td>\n      <td>NaN</td>\n      <td>NaN</td>\n      <td>13210</td>\n      <td>{\"addr:housenumber\": \"22\", \"addr:city\": \"Saint...</td>\n    </tr>\n    <tr>\n      <th>...</th>\n      <td>...</td>\n      <td>...</td>\n      <td>...</td>\n      <td>...</td>\n      <td>...</td>\n      <td>...</td>\n      <td>...</td>\n      <td>...</td>\n      <td>...</td>\n      <td>...</td>\n      <td>...</td>\n      <td>...</td>\n      <td>...</td>\n    </tr>\n    <tr>\n      <th>17928</th>\n      <td>44.2761336,5.2758837</td>\n      <td>Les Glycines</td>\n      <td>NaN</td>\n      <td>NaN</td>\n      <td>NaN</td>\n      <td>NaN</td>\n      <td>NaN</td>\n      <td>NaN</td>\n      <td>NaN</td>\n      <td>NaN</td>\n      <td>NaN</td>\n      <td>NaN</td>\n      <td>NaN</td>\n    </tr>\n    <tr>\n      <th>17929</th>\n      <td>46.7227908,2.5037666</td>\n      <td>La Rotonde</td>\n      <td>NaN</td>\n      <td>NaN</td>\n      <td>+33 2 48961610</td>\n      <td>NaN</td>\n      <td>NaN</td>\n      <td>NaN</td>\n      <td>NaN</td>\n      <td>NaN</td>\n      <td>NaN</td>\n      <td>NaN</td>\n      <td>NaN</td>\n    </tr>\n    <tr>\n      <th>17930</th>\n      <td>43.8339541,4.3534613</td>\n      <td>La Movida</td>\n      <td>NaN</td>\n      <td>NaN</td>\n      <td>NaN</td>\n      <td>NaN</td>\n      <td>NaN</td>\n      <td>NaN</td>\n      <td>NaN</td>\n      <td>NaN</td>\n      <td>NaN</td>\n      <td>NaN</td>\n      <td>NaN</td>\n    </tr>\n    <tr>\n      <th>17931</th>\n      <td>46.7776345,4.8488139</td>\n      <td>Nicéphore Café</td>\n      <td>NaN</td>\n      <td>NaN</td>\n      <td>NaN</td>\n      <td>NaN</td>\n      <td>NaN</td>\n      <td>NaN</td>\n      <td>NaN</td>\n      <td>NaN</td>\n      <td>NaN</td>\n      <td>NaN</td>\n      <td>NaN</td>\n    </tr>\n    <tr>\n      <th>17932</th>\n      <td>43.3685096,-1.7927453999999998</td>\n      <td>Uxoa</td>\n      <td>NaN</td>\n      <td>NaN</td>\n      <td>NaN</td>\n      <td>NaN</td>\n      <td>NaN</td>\n      <td>NaN</td>\n      <td>NaN</td>\n      <td>NaN</td>\n      <td>NaN</td>\n      <td>NaN</td>\n      <td>NaN</td>\n    </tr>\n  </tbody>\n</table>\n<p>17933 rows × 13 columns</p>\n</div>"
     },
     "metadata": {},
     "output_type": "display_data"
    }
   ],
   "source": [
    "data_bars = pd.read_csv('../../data/osm-fr-bars.csv', sep=';')\n",
    "\n",
    "display(data_bars)"
   ],
   "metadata": {
    "collapsed": false,
    "pycharm": {
     "name": "#%%\n"
    }
   }
  },
  {
   "cell_type": "code",
   "execution_count": 3,
   "outputs": [
    {
     "data": {
      "text/plain": "                            Geo Point Code postal                    Nom\n0                44.0549704,0.2603921         NaN           Au boin coin\n1                47.9094426,1.9076031         NaN      Le Diabolo Menthe\n2                 48.8020856,2.427514         NaN        Café de la Gare\n3                41.6976671,9.0644945         NaN                    NaN\n4                 43.788717,4.8299152       13210  Brasserie du Commerce\n...                               ...         ...                    ...\n17928            44.2761336,5.2758837         NaN           Les Glycines\n17929            46.7227908,2.5037666         NaN             La Rotonde\n17930            43.8339541,4.3534613         NaN              La Movida\n17931            46.7776345,4.8488139         NaN         Nicéphore Café\n17932  43.3685096,-1.7927453999999998         NaN                   Uxoa\n\n[17933 rows x 3 columns]",
      "text/html": "<div>\n<style scoped>\n    .dataframe tbody tr th:only-of-type {\n        vertical-align: middle;\n    }\n\n    .dataframe tbody tr th {\n        vertical-align: top;\n    }\n\n    .dataframe thead th {\n        text-align: right;\n    }\n</style>\n<table border=\"1\" class=\"dataframe\">\n  <thead>\n    <tr style=\"text-align: right;\">\n      <th></th>\n      <th>Geo Point</th>\n      <th>Code postal</th>\n      <th>Nom</th>\n    </tr>\n  </thead>\n  <tbody>\n    <tr>\n      <th>0</th>\n      <td>44.0549704,0.2603921</td>\n      <td>NaN</td>\n      <td>Au boin coin</td>\n    </tr>\n    <tr>\n      <th>1</th>\n      <td>47.9094426,1.9076031</td>\n      <td>NaN</td>\n      <td>Le Diabolo Menthe</td>\n    </tr>\n    <tr>\n      <th>2</th>\n      <td>48.8020856,2.427514</td>\n      <td>NaN</td>\n      <td>Café de la Gare</td>\n    </tr>\n    <tr>\n      <th>3</th>\n      <td>41.6976671,9.0644945</td>\n      <td>NaN</td>\n      <td>NaN</td>\n    </tr>\n    <tr>\n      <th>4</th>\n      <td>43.788717,4.8299152</td>\n      <td>13210</td>\n      <td>Brasserie du Commerce</td>\n    </tr>\n    <tr>\n      <th>...</th>\n      <td>...</td>\n      <td>...</td>\n      <td>...</td>\n    </tr>\n    <tr>\n      <th>17928</th>\n      <td>44.2761336,5.2758837</td>\n      <td>NaN</td>\n      <td>Les Glycines</td>\n    </tr>\n    <tr>\n      <th>17929</th>\n      <td>46.7227908,2.5037666</td>\n      <td>NaN</td>\n      <td>La Rotonde</td>\n    </tr>\n    <tr>\n      <th>17930</th>\n      <td>43.8339541,4.3534613</td>\n      <td>NaN</td>\n      <td>La Movida</td>\n    </tr>\n    <tr>\n      <th>17931</th>\n      <td>46.7776345,4.8488139</td>\n      <td>NaN</td>\n      <td>Nicéphore Café</td>\n    </tr>\n    <tr>\n      <th>17932</th>\n      <td>43.3685096,-1.7927453999999998</td>\n      <td>NaN</td>\n      <td>Uxoa</td>\n    </tr>\n  </tbody>\n</table>\n<p>17933 rows × 3 columns</p>\n</div>"
     },
     "metadata": {},
     "output_type": "display_data"
    },
    {
     "name": "stdout",
     "output_type": "stream",
     "text": [
      "Rate of undefined values: 0.8377850889421736\n"
     ]
    }
   ],
   "source": [
    "data_bars = data_bars[[\"Geo Point\", \"Code postal\", \"Nom\"]]\n",
    "\n",
    "display(data_bars)\n",
    "print(\"Rate of undefined values:\", data_bars[\"Code postal\"].isna().sum() / len(data_bars[\"Code postal\"]))"
   ],
   "metadata": {
    "collapsed": false,
    "pycharm": {
     "name": "#%%\n"
    }
   }
  },
  {
   "cell_type": "markdown",
   "source": [
    "Since the rate of undefined value is way higher than 0.5, and that GPS coordinates and postal code are a little redundant, we can reasonably delete Code postal column:"
   ],
   "metadata": {
    "collapsed": false,
    "pycharm": {
     "name": "#%% md\n"
    }
   }
  },
  {
   "cell_type": "code",
   "execution_count": 4,
   "outputs": [
    {
     "data": {
      "text/plain": "                            Geo Point                    Nom\n0                44.0549704,0.2603921           Au boin coin\n1                47.9094426,1.9076031      Le Diabolo Menthe\n2                 48.8020856,2.427514        Café de la Gare\n3                41.6976671,9.0644945                    NaN\n4                 43.788717,4.8299152  Brasserie du Commerce\n...                               ...                    ...\n17928            44.2761336,5.2758837           Les Glycines\n17929            46.7227908,2.5037666             La Rotonde\n17930            43.8339541,4.3534613              La Movida\n17931            46.7776345,4.8488139         Nicéphore Café\n17932  43.3685096,-1.7927453999999998                   Uxoa\n\n[17933 rows x 2 columns]",
      "text/html": "<div>\n<style scoped>\n    .dataframe tbody tr th:only-of-type {\n        vertical-align: middle;\n    }\n\n    .dataframe tbody tr th {\n        vertical-align: top;\n    }\n\n    .dataframe thead th {\n        text-align: right;\n    }\n</style>\n<table border=\"1\" class=\"dataframe\">\n  <thead>\n    <tr style=\"text-align: right;\">\n      <th></th>\n      <th>Geo Point</th>\n      <th>Nom</th>\n    </tr>\n  </thead>\n  <tbody>\n    <tr>\n      <th>0</th>\n      <td>44.0549704,0.2603921</td>\n      <td>Au boin coin</td>\n    </tr>\n    <tr>\n      <th>1</th>\n      <td>47.9094426,1.9076031</td>\n      <td>Le Diabolo Menthe</td>\n    </tr>\n    <tr>\n      <th>2</th>\n      <td>48.8020856,2.427514</td>\n      <td>Café de la Gare</td>\n    </tr>\n    <tr>\n      <th>3</th>\n      <td>41.6976671,9.0644945</td>\n      <td>NaN</td>\n    </tr>\n    <tr>\n      <th>4</th>\n      <td>43.788717,4.8299152</td>\n      <td>Brasserie du Commerce</td>\n    </tr>\n    <tr>\n      <th>...</th>\n      <td>...</td>\n      <td>...</td>\n    </tr>\n    <tr>\n      <th>17928</th>\n      <td>44.2761336,5.2758837</td>\n      <td>Les Glycines</td>\n    </tr>\n    <tr>\n      <th>17929</th>\n      <td>46.7227908,2.5037666</td>\n      <td>La Rotonde</td>\n    </tr>\n    <tr>\n      <th>17930</th>\n      <td>43.8339541,4.3534613</td>\n      <td>La Movida</td>\n    </tr>\n    <tr>\n      <th>17931</th>\n      <td>46.7776345,4.8488139</td>\n      <td>Nicéphore Café</td>\n    </tr>\n    <tr>\n      <th>17932</th>\n      <td>43.3685096,-1.7927453999999998</td>\n      <td>Uxoa</td>\n    </tr>\n  </tbody>\n</table>\n<p>17933 rows × 2 columns</p>\n</div>"
     },
     "execution_count": 4,
     "metadata": {},
     "output_type": "execute_result"
    }
   ],
   "source": [
    "data_bars.drop(\"Code postal\", axis=1, inplace=True)\n",
    "data_bars"
   ],
   "metadata": {
    "collapsed": false,
    "pycharm": {
     "name": "#%%\n"
    }
   }
  },
  {
   "cell_type": "code",
   "execution_count": 5,
   "outputs": [
    {
     "name": "stderr",
     "output_type": "stream",
     "text": [
      "/var/folders/97/y6ldl6694d978551pjfjtq8m0000gn/T/ipykernel_91746/1849365207.py:14: FutureWarning: In a future version of pandas all arguments of DataFrame.drop except for the argument 'labels' will be keyword-only.\n",
      "  data_bars.drop('Geo Point', 1)\n"
     ]
    },
    {
     "data": {
      "text/plain": "                         Nom    Latitude            Longitude\n0               Au boin coin  44.0549704            0.2603921\n1          Le Diabolo Menthe  47.9094426            1.9076031\n2            Café de la Gare  48.8020856             2.427514\n3                        NaN  41.6976671            9.0644945\n4      Brasserie du Commerce   43.788717            4.8299152\n...                      ...         ...                  ...\n17928           Les Glycines  44.2761336            5.2758837\n17929             La Rotonde  46.7227908            2.5037666\n17930              La Movida  43.8339541            4.3534613\n17931         Nicéphore Café  46.7776345            4.8488139\n17932                   Uxoa  43.3685096  -1.7927453999999998\n\n[17933 rows x 3 columns]",
      "text/html": "<div>\n<style scoped>\n    .dataframe tbody tr th:only-of-type {\n        vertical-align: middle;\n    }\n\n    .dataframe tbody tr th {\n        vertical-align: top;\n    }\n\n    .dataframe thead th {\n        text-align: right;\n    }\n</style>\n<table border=\"1\" class=\"dataframe\">\n  <thead>\n    <tr style=\"text-align: right;\">\n      <th></th>\n      <th>Nom</th>\n      <th>Latitude</th>\n      <th>Longitude</th>\n    </tr>\n  </thead>\n  <tbody>\n    <tr>\n      <th>0</th>\n      <td>Au boin coin</td>\n      <td>44.0549704</td>\n      <td>0.2603921</td>\n    </tr>\n    <tr>\n      <th>1</th>\n      <td>Le Diabolo Menthe</td>\n      <td>47.9094426</td>\n      <td>1.9076031</td>\n    </tr>\n    <tr>\n      <th>2</th>\n      <td>Café de la Gare</td>\n      <td>48.8020856</td>\n      <td>2.427514</td>\n    </tr>\n    <tr>\n      <th>3</th>\n      <td>NaN</td>\n      <td>41.6976671</td>\n      <td>9.0644945</td>\n    </tr>\n    <tr>\n      <th>4</th>\n      <td>Brasserie du Commerce</td>\n      <td>43.788717</td>\n      <td>4.8299152</td>\n    </tr>\n    <tr>\n      <th>...</th>\n      <td>...</td>\n      <td>...</td>\n      <td>...</td>\n    </tr>\n    <tr>\n      <th>17928</th>\n      <td>Les Glycines</td>\n      <td>44.2761336</td>\n      <td>5.2758837</td>\n    </tr>\n    <tr>\n      <th>17929</th>\n      <td>La Rotonde</td>\n      <td>46.7227908</td>\n      <td>2.5037666</td>\n    </tr>\n    <tr>\n      <th>17930</th>\n      <td>La Movida</td>\n      <td>43.8339541</td>\n      <td>4.3534613</td>\n    </tr>\n    <tr>\n      <th>17931</th>\n      <td>Nicéphore Café</td>\n      <td>46.7776345</td>\n      <td>4.8488139</td>\n    </tr>\n    <tr>\n      <th>17932</th>\n      <td>Uxoa</td>\n      <td>43.3685096</td>\n      <td>-1.7927453999999998</td>\n    </tr>\n  </tbody>\n</table>\n<p>17933 rows × 3 columns</p>\n</div>"
     },
     "execution_count": 5,
     "metadata": {},
     "output_type": "execute_result"
    }
   ],
   "source": [
    "latitudes = []\n",
    "longitudes = []\n",
    "\n",
    "for row in data_bars['Geo Point']:\n",
    "    try:\n",
    "        latitudes.append(row.split(',')[0])\n",
    "        longitudes.append(row.split(',')[1])\n",
    "    except:\n",
    "        latitudes.append(np.NaN)\n",
    "        longitudes.append(np.NaN)\n",
    "\n",
    "data_bars['Latitude'] = latitudes\n",
    "data_bars['Longitude'] = longitudes\n",
    "data_bars.drop('Geo Point', 1)"
   ],
   "metadata": {
    "collapsed": false,
    "pycharm": {
     "name": "#%%\n"
    }
   }
  },
  {
   "cell_type": "markdown",
   "source": [
    "Number of missing values"
   ],
   "metadata": {
    "collapsed": false,
    "pycharm": {
     "name": "#%% md\n"
    }
   }
  },
  {
   "cell_type": "code",
   "execution_count": 6,
   "outputs": [
    {
     "data": {
      "text/plain": "                            Geo Point                    Nom    Latitude  \\\n0                44.0549704,0.2603921           Au boin coin  44.0549704   \n1                47.9094426,1.9076031      Le Diabolo Menthe  47.9094426   \n2                 48.8020856,2.427514        Café de la Gare  48.8020856   \n3                41.6976671,9.0644945                    NaN  41.6976671   \n4                 43.788717,4.8299152  Brasserie du Commerce   43.788717   \n...                               ...                    ...         ...   \n17928            44.2761336,5.2758837           Les Glycines  44.2761336   \n17929            46.7227908,2.5037666             La Rotonde  46.7227908   \n17930            43.8339541,4.3534613              La Movida  43.8339541   \n17931            46.7776345,4.8488139         Nicéphore Café  46.7776345   \n17932  43.3685096,-1.7927453999999998                   Uxoa  43.3685096   \n\n                 Longitude  \n0                0.2603921  \n1                1.9076031  \n2                 2.427514  \n3                9.0644945  \n4                4.8299152  \n...                    ...  \n17928            5.2758837  \n17929            2.5037666  \n17930            4.3534613  \n17931            4.8488139  \n17932  -1.7927453999999998  \n\n[17933 rows x 4 columns]",
      "text/html": "<div>\n<style scoped>\n    .dataframe tbody tr th:only-of-type {\n        vertical-align: middle;\n    }\n\n    .dataframe tbody tr th {\n        vertical-align: top;\n    }\n\n    .dataframe thead th {\n        text-align: right;\n    }\n</style>\n<table border=\"1\" class=\"dataframe\">\n  <thead>\n    <tr style=\"text-align: right;\">\n      <th></th>\n      <th>Geo Point</th>\n      <th>Nom</th>\n      <th>Latitude</th>\n      <th>Longitude</th>\n    </tr>\n  </thead>\n  <tbody>\n    <tr>\n      <th>0</th>\n      <td>44.0549704,0.2603921</td>\n      <td>Au boin coin</td>\n      <td>44.0549704</td>\n      <td>0.2603921</td>\n    </tr>\n    <tr>\n      <th>1</th>\n      <td>47.9094426,1.9076031</td>\n      <td>Le Diabolo Menthe</td>\n      <td>47.9094426</td>\n      <td>1.9076031</td>\n    </tr>\n    <tr>\n      <th>2</th>\n      <td>48.8020856,2.427514</td>\n      <td>Café de la Gare</td>\n      <td>48.8020856</td>\n      <td>2.427514</td>\n    </tr>\n    <tr>\n      <th>3</th>\n      <td>41.6976671,9.0644945</td>\n      <td>NaN</td>\n      <td>41.6976671</td>\n      <td>9.0644945</td>\n    </tr>\n    <tr>\n      <th>4</th>\n      <td>43.788717,4.8299152</td>\n      <td>Brasserie du Commerce</td>\n      <td>43.788717</td>\n      <td>4.8299152</td>\n    </tr>\n    <tr>\n      <th>...</th>\n      <td>...</td>\n      <td>...</td>\n      <td>...</td>\n      <td>...</td>\n    </tr>\n    <tr>\n      <th>17928</th>\n      <td>44.2761336,5.2758837</td>\n      <td>Les Glycines</td>\n      <td>44.2761336</td>\n      <td>5.2758837</td>\n    </tr>\n    <tr>\n      <th>17929</th>\n      <td>46.7227908,2.5037666</td>\n      <td>La Rotonde</td>\n      <td>46.7227908</td>\n      <td>2.5037666</td>\n    </tr>\n    <tr>\n      <th>17930</th>\n      <td>43.8339541,4.3534613</td>\n      <td>La Movida</td>\n      <td>43.8339541</td>\n      <td>4.3534613</td>\n    </tr>\n    <tr>\n      <th>17931</th>\n      <td>46.7776345,4.8488139</td>\n      <td>Nicéphore Café</td>\n      <td>46.7776345</td>\n      <td>4.8488139</td>\n    </tr>\n    <tr>\n      <th>17932</th>\n      <td>43.3685096,-1.7927453999999998</td>\n      <td>Uxoa</td>\n      <td>43.3685096</td>\n      <td>-1.7927453999999998</td>\n    </tr>\n  </tbody>\n</table>\n<p>17933 rows × 4 columns</p>\n</div>"
     },
     "execution_count": 6,
     "metadata": {},
     "output_type": "execute_result"
    }
   ],
   "source": [
    "data_bars.isnull().sum().sum()\n",
    "# data_bars = data_bars.head(100)\n",
    "data_bars"
   ],
   "metadata": {
    "collapsed": false,
    "pycharm": {
     "name": "#%%\n"
    }
   }
  },
  {
   "cell_type": "markdown",
   "source": [
    "Let's just see that on a map"
   ],
   "metadata": {
    "collapsed": false,
    "pycharm": {
     "name": "#%% md\n"
    }
   }
  },
  {
   "cell_type": "code",
   "execution_count": 10,
   "outputs": [
    {
     "data": {
      "text/plain": "          01400  46.147624   4.923727\n0         01400  46.147812   4.924310\n1         01400  46.146756   4.924307\n2         01400  46.146907   4.924547\n3         01400  46.147154   4.924191\n4         01400  46.147307   4.924624\n...         ...        ...        ...\n22845076  97680 -12.790557  45.137112\n22845077  97680 -12.789817  45.132364\n22845078  97680 -12.788548  45.132566\n22845079  97680 -12.789423  45.103516\n22845080  97680 -12.788577  45.102423\n\n[22845081 rows x 3 columns]",
      "text/html": "<div>\n<style scoped>\n    .dataframe tbody tr th:only-of-type {\n        vertical-align: middle;\n    }\n\n    .dataframe tbody tr th {\n        vertical-align: top;\n    }\n\n    .dataframe thead th {\n        text-align: right;\n    }\n</style>\n<table border=\"1\" class=\"dataframe\">\n  <thead>\n    <tr style=\"text-align: right;\">\n      <th></th>\n      <th>01400</th>\n      <th>46.147624</th>\n      <th>4.923727</th>\n    </tr>\n  </thead>\n  <tbody>\n    <tr>\n      <th>0</th>\n      <td>01400</td>\n      <td>46.147812</td>\n      <td>4.924310</td>\n    </tr>\n    <tr>\n      <th>1</th>\n      <td>01400</td>\n      <td>46.146756</td>\n      <td>4.924307</td>\n    </tr>\n    <tr>\n      <th>2</th>\n      <td>01400</td>\n      <td>46.146907</td>\n      <td>4.924547</td>\n    </tr>\n    <tr>\n      <th>3</th>\n      <td>01400</td>\n      <td>46.147154</td>\n      <td>4.924191</td>\n    </tr>\n    <tr>\n      <th>4</th>\n      <td>01400</td>\n      <td>46.147307</td>\n      <td>4.924624</td>\n    </tr>\n    <tr>\n      <th>...</th>\n      <td>...</td>\n      <td>...</td>\n      <td>...</td>\n    </tr>\n    <tr>\n      <th>22845076</th>\n      <td>97680</td>\n      <td>-12.790557</td>\n      <td>45.137112</td>\n    </tr>\n    <tr>\n      <th>22845077</th>\n      <td>97680</td>\n      <td>-12.789817</td>\n      <td>45.132364</td>\n    </tr>\n    <tr>\n      <th>22845078</th>\n      <td>97680</td>\n      <td>-12.788548</td>\n      <td>45.132566</td>\n    </tr>\n    <tr>\n      <th>22845079</th>\n      <td>97680</td>\n      <td>-12.789423</td>\n      <td>45.103516</td>\n    </tr>\n    <tr>\n      <th>22845080</th>\n      <td>97680</td>\n      <td>-12.788577</td>\n      <td>45.102423</td>\n    </tr>\n  </tbody>\n</table>\n<p>22845081 rows × 3 columns</p>\n</div>"
     },
     "execution_count": 10,
     "metadata": {},
     "output_type": "execute_result"
    }
   ],
   "source": [
    "postalCodes = pd.read_csv('../../data/postal-code.csv', usecols=['01400', '46.147624', '4.923727'], dtype={'01400': str, '46.147624': np.float64, '4.923727': np.float64} )\n",
    "postalCodes"
   ],
   "metadata": {
    "collapsed": false,
    "pycharm": {
     "name": "#%%\n"
    }
   }
  },
  {
   "cell_type": "code",
   "execution_count": 11,
   "outputs": [
    {
     "data": {
      "text/plain": "         Postal code   Latitude  Longitude\n0              01400  46.147812   4.924310\n1              01400  46.146756   4.924307\n2              01400  46.146907   4.924547\n3              01400  46.147154   4.924191\n4              01400  46.147307   4.924624\n...              ...        ...        ...\n22845076       97680 -12.790557  45.137112\n22845077       97680 -12.789817  45.132364\n22845078       97680 -12.788548  45.132566\n22845079       97680 -12.789423  45.103516\n22845080       97680 -12.788577  45.102423\n\n[22845081 rows x 3 columns]",
      "text/html": "<div>\n<style scoped>\n    .dataframe tbody tr th:only-of-type {\n        vertical-align: middle;\n    }\n\n    .dataframe tbody tr th {\n        vertical-align: top;\n    }\n\n    .dataframe thead th {\n        text-align: right;\n    }\n</style>\n<table border=\"1\" class=\"dataframe\">\n  <thead>\n    <tr style=\"text-align: right;\">\n      <th></th>\n      <th>Postal code</th>\n      <th>Latitude</th>\n      <th>Longitude</th>\n    </tr>\n  </thead>\n  <tbody>\n    <tr>\n      <th>0</th>\n      <td>01400</td>\n      <td>46.147812</td>\n      <td>4.924310</td>\n    </tr>\n    <tr>\n      <th>1</th>\n      <td>01400</td>\n      <td>46.146756</td>\n      <td>4.924307</td>\n    </tr>\n    <tr>\n      <th>2</th>\n      <td>01400</td>\n      <td>46.146907</td>\n      <td>4.924547</td>\n    </tr>\n    <tr>\n      <th>3</th>\n      <td>01400</td>\n      <td>46.147154</td>\n      <td>4.924191</td>\n    </tr>\n    <tr>\n      <th>4</th>\n      <td>01400</td>\n      <td>46.147307</td>\n      <td>4.924624</td>\n    </tr>\n    <tr>\n      <th>...</th>\n      <td>...</td>\n      <td>...</td>\n      <td>...</td>\n    </tr>\n    <tr>\n      <th>22845076</th>\n      <td>97680</td>\n      <td>-12.790557</td>\n      <td>45.137112</td>\n    </tr>\n    <tr>\n      <th>22845077</th>\n      <td>97680</td>\n      <td>-12.789817</td>\n      <td>45.132364</td>\n    </tr>\n    <tr>\n      <th>22845078</th>\n      <td>97680</td>\n      <td>-12.788548</td>\n      <td>45.132566</td>\n    </tr>\n    <tr>\n      <th>22845079</th>\n      <td>97680</td>\n      <td>-12.789423</td>\n      <td>45.103516</td>\n    </tr>\n    <tr>\n      <th>22845080</th>\n      <td>97680</td>\n      <td>-12.788577</td>\n      <td>45.102423</td>\n    </tr>\n  </tbody>\n</table>\n<p>22845081 rows × 3 columns</p>\n</div>"
     },
     "execution_count": 11,
     "metadata": {},
     "output_type": "execute_result"
    }
   ],
   "source": [
    "postalCodes.columns = ['Postal code', 'Latitude', 'Longitude']\n",
    "postalCodes"
   ],
   "metadata": {
    "collapsed": false,
    "pycharm": {
     "name": "#%%\n"
    }
   }
  },
  {
   "cell_type": "markdown",
   "source": [
    "Le meilleur compromis d'arrondi des coordonnées GPS est de 3 car pour un arrondi de 4 nous obtenons 16749 valeurs non trouvées et en dessous de 3 la précision est trop faible : on peut obtenir un code postal erroné. Nous aurions pu faire un appel à une API pour avoir des valeurs exacte facilement, mais nous trouvions que c'était moins dans l'esprit du projet.\n",
    "9859; 1524; 617;"
   ],
   "metadata": {
    "collapsed": false,
    "pycharm": {
     "name": "#%% md\n"
    }
   }
  },
  {
   "cell_type": "code",
   "execution_count": 12,
   "outputs": [
    {
     "data": {
      "text/plain": "                             Geo Point                    Nom  Latitude  \\\n0                 44.0549704,0.2603921           Au boin coin    44.055   \n45                47.9094426,1.9076031      Le Diabolo Menthe    47.909   \n48                 48.8020856,2.427514        Café de la Gare    48.802   \n62                41.6976671,9.0644945                    NaN    41.698   \n63                 43.788717,4.8299152  Brasserie du Commerce    43.789   \n...                                ...                    ...       ...   \n385913            44.2761336,5.2758837           Les Glycines    44.276   \n385945            46.7227908,2.5037666             La Rotonde    46.723   \n385960            43.8339541,4.3534613              La Movida    43.834   \n386008            46.7776345,4.8488139         Nicéphore Café    46.778   \n386037  43.3685096,-1.7927453999999998                   Uxoa    43.369   \n\n        Longitude Postal code  \n0           0.260       47170  \n45          1.908       45000  \n48          2.428       94700  \n62          9.064         NaN  \n63          4.830       13210  \n...           ...         ...  \n385913      5.276       26170  \n385945      2.504       18200  \n385960      4.353       30900  \n386008      4.849       71100  \n386037     -1.793         NaN  \n\n[19898 rows x 5 columns]",
      "text/html": "<div>\n<style scoped>\n    .dataframe tbody tr th:only-of-type {\n        vertical-align: middle;\n    }\n\n    .dataframe tbody tr th {\n        vertical-align: top;\n    }\n\n    .dataframe thead th {\n        text-align: right;\n    }\n</style>\n<table border=\"1\" class=\"dataframe\">\n  <thead>\n    <tr style=\"text-align: right;\">\n      <th></th>\n      <th>Geo Point</th>\n      <th>Nom</th>\n      <th>Latitude</th>\n      <th>Longitude</th>\n      <th>Postal code</th>\n    </tr>\n  </thead>\n  <tbody>\n    <tr>\n      <th>0</th>\n      <td>44.0549704,0.2603921</td>\n      <td>Au boin coin</td>\n      <td>44.055</td>\n      <td>0.260</td>\n      <td>47170</td>\n    </tr>\n    <tr>\n      <th>45</th>\n      <td>47.9094426,1.9076031</td>\n      <td>Le Diabolo Menthe</td>\n      <td>47.909</td>\n      <td>1.908</td>\n      <td>45000</td>\n    </tr>\n    <tr>\n      <th>48</th>\n      <td>48.8020856,2.427514</td>\n      <td>Café de la Gare</td>\n      <td>48.802</td>\n      <td>2.428</td>\n      <td>94700</td>\n    </tr>\n    <tr>\n      <th>62</th>\n      <td>41.6976671,9.0644945</td>\n      <td>NaN</td>\n      <td>41.698</td>\n      <td>9.064</td>\n      <td>NaN</td>\n    </tr>\n    <tr>\n      <th>63</th>\n      <td>43.788717,4.8299152</td>\n      <td>Brasserie du Commerce</td>\n      <td>43.789</td>\n      <td>4.830</td>\n      <td>13210</td>\n    </tr>\n    <tr>\n      <th>...</th>\n      <td>...</td>\n      <td>...</td>\n      <td>...</td>\n      <td>...</td>\n      <td>...</td>\n    </tr>\n    <tr>\n      <th>385913</th>\n      <td>44.2761336,5.2758837</td>\n      <td>Les Glycines</td>\n      <td>44.276</td>\n      <td>5.276</td>\n      <td>26170</td>\n    </tr>\n    <tr>\n      <th>385945</th>\n      <td>46.7227908,2.5037666</td>\n      <td>La Rotonde</td>\n      <td>46.723</td>\n      <td>2.504</td>\n      <td>18200</td>\n    </tr>\n    <tr>\n      <th>385960</th>\n      <td>43.8339541,4.3534613</td>\n      <td>La Movida</td>\n      <td>43.834</td>\n      <td>4.353</td>\n      <td>30900</td>\n    </tr>\n    <tr>\n      <th>386008</th>\n      <td>46.7776345,4.8488139</td>\n      <td>Nicéphore Café</td>\n      <td>46.778</td>\n      <td>4.849</td>\n      <td>71100</td>\n    </tr>\n    <tr>\n      <th>386037</th>\n      <td>43.3685096,-1.7927453999999998</td>\n      <td>Uxoa</td>\n      <td>43.369</td>\n      <td>-1.793</td>\n      <td>NaN</td>\n    </tr>\n  </tbody>\n</table>\n<p>19898 rows × 5 columns</p>\n</div>"
     },
     "execution_count": 12,
     "metadata": {},
     "output_type": "execute_result"
    }
   ],
   "source": [
    "postalCodes['Latitude'] = postalCodes['Latitude'].apply(lambda lat: round(lat, 3))\n",
    "postalCodes['Longitude'] = postalCodes['Longitude'].apply(lambda long: round(long, 3))\n",
    "\n",
    "data_bars['Latitude'] = data_bars['Latitude'].astype(float)\n",
    "data_bars['Longitude'] = data_bars['Longitude'].astype(float)\n",
    "data_bars['Latitude'] = data_bars['Latitude'].apply(lambda lat: round(lat, 3))\n",
    "data_bars['Longitude'] = data_bars['Longitude'].apply(lambda long: round(long, 3))\n",
    "\n",
    "data_bars = pd.merge(data_bars, postalCodes, how='left', on=['Latitude', 'Longitude']).drop_duplicates()\n",
    "data_bars[\"Postal code\"] =data_bars[\"Postal code\"].str.strip()\n",
    "data_bars"
   ],
   "metadata": {
    "collapsed": false,
    "pycharm": {
     "name": "#%%\n"
    }
   }
  },
  {
   "cell_type": "code",
   "execution_count": 13,
   "outputs": [
    {
     "data": {
      "text/plain": "                   Geo Point                    Nom  Latitude  Longitude  \\\n0       44.0549704,0.2603921           Au boin coin    44.055      0.260   \n45      47.9094426,1.9076031      Le Diabolo Menthe    47.909      1.908   \n48       48.8020856,2.427514        Café de la Gare    48.802      2.428   \n63       43.788717,4.8299152  Brasserie du Commerce    43.789      4.830   \n101     45.5853255,5.2768205     L'atelier de Chico    45.585      5.277   \n...                      ...                    ...       ...        ...   \n385896  45.7546058,4.8420521           L'Angle d'Or    45.755      4.842   \n385913  44.2761336,5.2758837           Les Glycines    44.276      5.276   \n385945  46.7227908,2.5037666             La Rotonde    46.723      2.504   \n385960  43.8339541,4.3534613              La Movida    43.834      4.353   \n386008  46.7776345,4.8488139         Nicéphore Café    46.778      4.849   \n\n       Postal code Département  \n0            47170          47  \n45           45000          45  \n48           94700          94  \n63           13210          13  \n101          38300          38  \n...            ...         ...  \n385896       69007          69  \n385913       26170          26  \n385945       18200          18  \n385960       30900          30  \n386008       71100          71  \n\n[16407 rows x 6 columns]",
      "text/html": "<div>\n<style scoped>\n    .dataframe tbody tr th:only-of-type {\n        vertical-align: middle;\n    }\n\n    .dataframe tbody tr th {\n        vertical-align: top;\n    }\n\n    .dataframe thead th {\n        text-align: right;\n    }\n</style>\n<table border=\"1\" class=\"dataframe\">\n  <thead>\n    <tr style=\"text-align: right;\">\n      <th></th>\n      <th>Geo Point</th>\n      <th>Nom</th>\n      <th>Latitude</th>\n      <th>Longitude</th>\n      <th>Postal code</th>\n      <th>Département</th>\n    </tr>\n  </thead>\n  <tbody>\n    <tr>\n      <th>0</th>\n      <td>44.0549704,0.2603921</td>\n      <td>Au boin coin</td>\n      <td>44.055</td>\n      <td>0.260</td>\n      <td>47170</td>\n      <td>47</td>\n    </tr>\n    <tr>\n      <th>45</th>\n      <td>47.9094426,1.9076031</td>\n      <td>Le Diabolo Menthe</td>\n      <td>47.909</td>\n      <td>1.908</td>\n      <td>45000</td>\n      <td>45</td>\n    </tr>\n    <tr>\n      <th>48</th>\n      <td>48.8020856,2.427514</td>\n      <td>Café de la Gare</td>\n      <td>48.802</td>\n      <td>2.428</td>\n      <td>94700</td>\n      <td>94</td>\n    </tr>\n    <tr>\n      <th>63</th>\n      <td>43.788717,4.8299152</td>\n      <td>Brasserie du Commerce</td>\n      <td>43.789</td>\n      <td>4.830</td>\n      <td>13210</td>\n      <td>13</td>\n    </tr>\n    <tr>\n      <th>101</th>\n      <td>45.5853255,5.2768205</td>\n      <td>L'atelier de Chico</td>\n      <td>45.585</td>\n      <td>5.277</td>\n      <td>38300</td>\n      <td>38</td>\n    </tr>\n    <tr>\n      <th>...</th>\n      <td>...</td>\n      <td>...</td>\n      <td>...</td>\n      <td>...</td>\n      <td>...</td>\n      <td>...</td>\n    </tr>\n    <tr>\n      <th>385896</th>\n      <td>45.7546058,4.8420521</td>\n      <td>L'Angle d'Or</td>\n      <td>45.755</td>\n      <td>4.842</td>\n      <td>69007</td>\n      <td>69</td>\n    </tr>\n    <tr>\n      <th>385913</th>\n      <td>44.2761336,5.2758837</td>\n      <td>Les Glycines</td>\n      <td>44.276</td>\n      <td>5.276</td>\n      <td>26170</td>\n      <td>26</td>\n    </tr>\n    <tr>\n      <th>385945</th>\n      <td>46.7227908,2.5037666</td>\n      <td>La Rotonde</td>\n      <td>46.723</td>\n      <td>2.504</td>\n      <td>18200</td>\n      <td>18</td>\n    </tr>\n    <tr>\n      <th>385960</th>\n      <td>43.8339541,4.3534613</td>\n      <td>La Movida</td>\n      <td>43.834</td>\n      <td>4.353</td>\n      <td>30900</td>\n      <td>30</td>\n    </tr>\n    <tr>\n      <th>386008</th>\n      <td>46.7776345,4.8488139</td>\n      <td>Nicéphore Café</td>\n      <td>46.778</td>\n      <td>4.849</td>\n      <td>71100</td>\n      <td>71</td>\n    </tr>\n  </tbody>\n</table>\n<p>16407 rows × 6 columns</p>\n</div>"
     },
     "execution_count": 13,
     "metadata": {},
     "output_type": "execute_result"
    }
   ],
   "source": [
    "data_bars.dropna(subset=['Postal code'], inplace=True)\n",
    "data_bars['Département'] = data_bars['Postal code'].apply(lambda code: str(code)[0:2])\n",
    "data_bars.drop_duplicates(subset=['Geo Point'], inplace=True)\n",
    "data_bars"
   ],
   "metadata": {
    "collapsed": false,
    "pycharm": {
     "name": "#%%\n"
    }
   }
  },
  {
   "cell_type": "code",
   "execution_count": 14,
   "outputs": [
    {
     "data": {
      "text/plain": "   Département  Nombre de bars\n0           01             138\n1           02             107\n2           03              97\n3           04              70\n4           05             103\n..         ...             ...\n90          91              94\n91          92             293\n92          93             204\n93          94             168\n94          95              89\n\n[95 rows x 2 columns]",
      "text/html": "<div>\n<style scoped>\n    .dataframe tbody tr th:only-of-type {\n        vertical-align: middle;\n    }\n\n    .dataframe tbody tr th {\n        vertical-align: top;\n    }\n\n    .dataframe thead th {\n        text-align: right;\n    }\n</style>\n<table border=\"1\" class=\"dataframe\">\n  <thead>\n    <tr style=\"text-align: right;\">\n      <th></th>\n      <th>Département</th>\n      <th>Nombre de bars</th>\n    </tr>\n  </thead>\n  <tbody>\n    <tr>\n      <th>0</th>\n      <td>01</td>\n      <td>138</td>\n    </tr>\n    <tr>\n      <th>1</th>\n      <td>02</td>\n      <td>107</td>\n    </tr>\n    <tr>\n      <th>2</th>\n      <td>03</td>\n      <td>97</td>\n    </tr>\n    <tr>\n      <th>3</th>\n      <td>04</td>\n      <td>70</td>\n    </tr>\n    <tr>\n      <th>4</th>\n      <td>05</td>\n      <td>103</td>\n    </tr>\n    <tr>\n      <th>...</th>\n      <td>...</td>\n      <td>...</td>\n    </tr>\n    <tr>\n      <th>90</th>\n      <td>91</td>\n      <td>94</td>\n    </tr>\n    <tr>\n      <th>91</th>\n      <td>92</td>\n      <td>293</td>\n    </tr>\n    <tr>\n      <th>92</th>\n      <td>93</td>\n      <td>204</td>\n    </tr>\n    <tr>\n      <th>93</th>\n      <td>94</td>\n      <td>168</td>\n    </tr>\n    <tr>\n      <th>94</th>\n      <td>95</td>\n      <td>89</td>\n    </tr>\n  </tbody>\n</table>\n<p>95 rows × 2 columns</p>\n</div>"
     },
     "execution_count": 14,
     "metadata": {},
     "output_type": "execute_result"
    }
   ],
   "source": [
    "barNumber = data_bars.groupby(['Département'])['Département'].count().reset_index(name='Nombre de bars')\n",
    "barNumber"
   ],
   "metadata": {
    "collapsed": false,
    "pycharm": {
     "name": "#%%\n"
    }
   }
  },
  {
   "cell_type": "code",
   "execution_count": null,
   "outputs": [],
   "source": [
    "import plotly.express as px\n",
    "import json\n",
    "\n",
    "departements = json.load(open('../../data/departements-version-simplifiee.geojson'))\n",
    "\n",
    "fig = px.choropleth_mapbox(barNumber, geojson=departements,\n",
    "                           locations='Département', featureidkey='properties.code',  # join keys\n",
    "                           color='Nombre de bars', color_continuous_scale=px.colors.sequential.Cividis_r,\n",
    "                           mapbox_style=\"carto-positron\",\n",
    "                           range_color=(0, 1000),\n",
    "                           zoom=4.6, center={\"lat\": 47, \"lon\": 2},\n",
    "                           opacity=0.75,\n",
    "                           labels={'prix': 'Nombre de bars'}\n",
    "                           )\n",
    "fig.update_layout(margin={\"r\": 0, \"t\": 0, \"l\": 0, \"b\": 0})\n",
    "fig"
   ],
   "metadata": {
    "collapsed": false,
    "pycharm": {
     "name": "#%%\n"
    }
   }
  },
  {
   "cell_type": "markdown",
   "source": [
    "Clean data_revenus"
   ],
   "metadata": {
    "collapsed": false,
    "pycharm": {
     "name": "#%% md\n"
    }
   }
  },
  {
   "cell_type": "code",
   "execution_count": null,
   "outputs": [],
   "source": [
    "#DATA_REVENUS INITIALISATION\n",
    "data_revenus = pd.read_excel('../../data/revenus_communes_2019.xlsx')  #header=3\n",
    "data_revenus.drop(data_revenus.columns[[0, 3, 7, 8, 9, 10, 11, 12, 13]], axis=1, inplace=True)\n",
    "data_revenus.drop(data_revenus.tail(2).index, inplace=True)  # drop last 2 rows\n",
    "display(data_revenus)"
   ],
   "metadata": {
    "collapsed": false,
    "pycharm": {
     "name": "#%%\n"
    }
   }
  },
  {
   "cell_type": "code",
   "execution_count": null,
   "outputs": [],
   "source": [
    "# On peut clean ca et mettre direct dans le read du fichier (voir pb pour header=3)\n",
    "data_revenus.rename(columns=lambda n: data_revenus[n][2], inplace=True)\n",
    "data_revenus.drop(index=[0, 1, 2], inplace=True)\n",
    "data_revenus"
   ],
   "metadata": {
    "collapsed": false,
    "pycharm": {
     "name": "#%%\n"
    }
   }
  },
  {
   "cell_type": "markdown",
   "source": [],
   "metadata": {
    "collapsed": false,
    "pycharm": {
     "name": "#%% md\n"
    }
   }
  },
  {
   "cell_type": "code",
   "execution_count": null,
   "outputs": [],
   "source": [
    "data_revenus = data_revenus[data_revenus[\"Revenu fiscal de référence par tranche (en euros)\"].str.strip() == 'TOTAL']\n",
    "data_revenus"
   ],
   "metadata": {
    "collapsed": false,
    "pycharm": {
     "name": "#%%\n"
    }
   }
  },
  {
   "cell_type": "code",
   "execution_count": null,
   "outputs": [],
   "source": [
    "data_revenus = data_revenus[~data_revenus['Dép.'].str.startswith('B')]\n",
    "data_revenus"
   ],
   "metadata": {
    "collapsed": false,
    "pycharm": {
     "name": "#%%\n"
    }
   }
  },
  {
   "cell_type": "code",
   "execution_count": null,
   "outputs": [],
   "source": [
    "figure = px.density_mapbox(data_bars, lat='Latitude', lon='Longitude', z='Département', radius=5,\n",
    "                           zoom=4.6, center={\"lat\": 47, \"lon\": 2},\n",
    "                           mapbox_style=\"stamen-terrain\")\n",
    "figure.show()"
   ],
   "metadata": {
    "collapsed": false,
    "pycharm": {
     "name": "#%%\n"
    }
   }
  },
  {
   "cell_type": "code",
   "execution_count": null,
   "outputs": [],
   "source": [
    "data_revenus.insert(1, \"Code commune\", data_revenus['Dép.'].str.strip().apply(lambda dep: dep[:2]) + data_revenus['Commune'])\n",
    "data_revenus.drop([\"Dép.\", \"Commune\"], axis=1, inplace=True)\n",
    "data_revenus['Code commune'] = data_revenus['Code commune'].str.strip()\n",
    "# data_revenus"
   ],
   "metadata": {
    "collapsed": false,
    "pycharm": {
     "name": "#%%\n"
    }
   }
  },
  {
   "cell_type": "code",
   "execution_count": null,
   "outputs": [],
   "source": [
    "code_commune = pd.read_csv('../../data/code-commune.csv', sep=';')\n",
    "code_commune.drop(['Nom_commune', 'Ligne_5', 'Libellé_d_acheminement', 'coordonnees_gps'], axis=1, inplace=True)\n",
    "code_commune.columns = ['Code commune', 'Postal code']\n",
    "code_commune['Postal code'] = code_commune['Postal code'].astype(str)\n",
    "code_commune['Postal code'] = code_commune['Postal code'].apply(lambda postalCode: '0' + postalCode if (len(postalCode) < 5) else postalCode).str.strip()\n",
    "code_commune"
   ],
   "metadata": {
    "collapsed": false,
    "pycharm": {
     "name": "#%%\n"
    }
   }
  },
  {
   "cell_type": "code",
   "execution_count": null,
   "outputs": [],
   "source": [
    "data_revenus = pd.merge(data_revenus, code_commune, on=['Code commune'], how='left').drop(['Code commune', 'Revenu fiscal de référence par tranche (en euros)'], axis=1)\n",
    "data_revenus"
   ],
   "metadata": {
    "collapsed": false,
    "pycharm": {
     "name": "#%%\n"
    }
   }
  },
  {
   "cell_type": "code",
   "execution_count": null,
   "outputs": [],
   "source": [
    "data_bars_revenus = pd.merge(data_bars, data_revenus, on=['Postal code'], how='inner')\n",
    "\n",
    "data_bars_revenus"
   ],
   "metadata": {
    "collapsed": false,
    "pycharm": {
     "name": "#%%\n"
    }
   }
  },
  {
   "cell_type": "code",
   "execution_count": null,
   "outputs": [],
   "source": [
    "data_bars_revenus['Postal code'].value_counts()"
   ],
   "metadata": {
    "collapsed": false,
    "pycharm": {
     "name": "#%%\n"
    }
   }
  },
  {
   "cell_type": "code",
   "execution_count": null,
   "outputs": [],
   "source": [
    "g = sns.relplot(data=data_revenus, x='Revenu fiscal de référence des foyers fiscaux', y='')\n",
    "g.set(yscale='log') # same, without the log scale we cannot see anything"
   ],
   "metadata": {
    "collapsed": false,
    "pycharm": {
     "name": "#%%\n"
    }
   }
  },
  {
   "cell_type": "code",
   "execution_count": null,
   "outputs": [],
   "source": [
    "import plotly.express as px\n",
    "\n",
    "figure = px.density_mapbox(data_bars, lat='Latitude', lon='Longitude', z='Département', radius=10,\n",
    "                           zoom=4.6, center={\"lat\": 47, \"lon\": 2},\n",
    "                           mapbox_style=\"stamen-terrain\")\n",
    "figure.show()"
   ],
   "metadata": {
    "collapsed": false,
    "pycharm": {
     "name": "#%%\n"
    }
   }
  },
  {
   "cell_type": "code",
   "execution_count": null,
   "outputs": [],
   "source": [],
   "metadata": {
    "collapsed": false,
    "pycharm": {
     "name": "#%%\n"
    }
   }
  }
 ],
 "metadata": {
  "kernelspec": {
   "display_name": "Python 3 (ipykernel)",
   "language": "python",
   "name": "python3"
  },
  "language_info": {
   "codemirror_mode": {
    "name": "ipython",
    "version": 3
   },
   "file_extension": ".py",
   "mimetype": "text/x-python",
   "name": "python",
   "nbconvert_exporter": "python",
   "pygments_lexer": "ipython3",
   "version": "3.9.7"
  }
 },
 "nbformat": 4,
 "nbformat_minor": 4
}