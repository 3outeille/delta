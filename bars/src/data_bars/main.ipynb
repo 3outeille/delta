{
  "metadata": {
    "language_info": {
      "codemirror_mode": {
        "name": "python",
        "version": 3
      },
      "file_extension": ".py",
      "mimetype": "text/x-python",
      "name": "python",
      "nbconvert_exporter": "python",
      "pygments_lexer": "ipython3",
      "version": "3.8"
    },
    "kernelspec": {
      "name": "python",
      "display_name": "Pyolite",
      "language": "python"
    }
  },
  "nbformat_minor": 4,
  "nbformat": 4,
  "cells": [
    {
      "cell_type": "code",
      "execution_count": null,
      "source": [
        "from IPython.display import display\r\n",
        "import pandas as pd\r\n",
        "\r\n",
        "data_revenus = pd.read_excel('../../data/revenus_communes_2019.xlsx')\r\n",
        "data_bars = pd.read_excel('../../data/bars_communes.xlsx')\r\n",
        "display(data_revenus)"
      ],
      "outputs": [],
      "metadata": {}
    }
  ]
}