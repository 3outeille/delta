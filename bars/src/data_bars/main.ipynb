{
 "metadata": {
  "language_info": {
   "codemirror_mode": {
    "name": "python",
    "version": 3
   },
   "file_extension": ".py",
   "mimetype": "text/x-python",
   "name": "python",
   "nbconvert_exporter": "python",
   "pygments_lexer": "ipython3",
   "version": "3.8"
  },
  "kernelspec": {
   "name": "python3",
   "language": "python",
   "display_name": "Python 3 (ipykernel)"
  }
 },
 "nbformat_minor": 4,
 "nbformat": 4,
 "cells": [
  {
   "cell_type": "code",
   "execution_count": 23,
   "source": [
    "from IPython.display import display\n",
    "import numpy as np\n",
    "import pandas as pd\n",
    "import folium"
   ],
   "outputs": [],
   "metadata": {
    "pycharm": {
     "name": "#%%\n"
    }
   }
  },
  {
   "cell_type": "code",
   "execution_count": 24,
   "outputs": [
    {
     "data": {
      "text/plain": "       Unnamed: 0 DGFiP - Bureau des études statistiques en matière fiscale  \\\n0             NaN                                                NaN          \n1             NaN                                                NaN          \n2             NaN                                               Dép.          \n3             NaN                                                NaN          \n4             NaN                                               010           \n...           ...                                                ...          \n82930         NaN                                               B31           \n82931         NaN                                               B31           \n82932         NaN                                               B31           \n82933         NaN  * Impôt sur le revenu émis par voie de rôle, h...          \n82934         NaN   n.c.: cellule couverte par le secret statistique          \n\n      Unnamed: 2                Unnamed: 3  \\\n0            NaN                       NaN   \n1            NaN                       NaN   \n2        Commune     Libellé de la commune   \n3            NaN                       NaN   \n4           001   L'Abergement-Clémenciat    \n...          ...                       ...   \n82930       999                    Autres    \n82931       999                    Autres    \n82932       999                    Autres    \n82933        NaN                       NaN   \n82934        NaN                       NaN   \n\n                                              Unnamed: 4  \\\n0                                                    NaN   \n1                                                    NaN   \n2      Revenu fiscal de référence par tranche (en euros)   \n3                                                    NaN   \n4                                                 TOTAL    \n...                                                  ...   \n82930                                  50 001 à 100 000    \n82931                                   Plus de 100 000    \n82932                                             TOTAL    \n82933                                                NaN   \n82934                                                NaN   \n\n                     Unnamed: 5  \\\n0                           NaN   \n1                           NaN   \n2      Nombre de foyers fiscaux   \n3                           NaN   \n4                           447   \n...                         ...   \n82930                       443   \n82931                       586   \n82932                      3963   \n82933                       NaN   \n82934                       NaN   \n\n                                          Unnamed: 6          Unnamed: 7  \\\n0                                                NaN                 NaN   \n1                                                NaN                 NaN   \n2      Revenu fiscal de référence des foyers fiscaux  Impôt net (total)*   \n3                                                NaN                 NaN   \n4                                           13521.06             738.597   \n...                                              ...                 ...   \n82930                                      31302.071            7757.596   \n82931                                     108462.346           31927.764   \n82932                                     171885.111           45862.369   \n82933                                            NaN                 NaN   \n82934                                            NaN                 NaN   \n\n                             Unnamed: 8  \\\n0                                   NaN   \n1                                   NaN   \n2      Nombre de foyers fiscaux imposés   \n3                                   NaN   \n4                                   249   \n...                                 ...   \n82930                              n.c.   \n82931                              n.c.   \n82932                              2589   \n82933                               NaN   \n82934                               NaN   \n\n                                              Unnamed: 9  \\\n0                                                    NaN   \n1                                                    NaN   \n2      Revenu fiscal de référence des foyers fiscaux ...   \n3                                                    NaN   \n4                                               9873.482   \n...                                                  ...   \n82930                                               n.c.   \n82931                                               n.c.   \n82932                                         170115.095   \n82933                                                NaN   \n82934                                                NaN   \n\n                      Unnamed: 10 Unnamed: 11                 Unnamed: 12  \\\n0                             NaN         NaN                         NaN   \n1                             NaN         NaN                         NaN   \n2         Traitements et salaires         NaN       Retraites et pensions   \n3      Nombre de foyers concernés     Montant  Nombre de foyers concernés   \n4                             312    9535.029                         161   \n...                           ...         ...                         ...   \n82930                        n.c.        n.c.                        n.c.   \n82931                        n.c.        n.c.                        n.c.   \n82932                         162     3568.91                          31   \n82933                         NaN         NaN                         NaN   \n82934                         NaN         NaN                         NaN   \n\n                                             Unnamed: 13  \n0                                     IRCOM revenus 2019  \n1      Montants en milliers d'euros (exceptés ceux de...  \n2                                                    NaN  \n3                                                Montant  \n4                                               4017.749  \n...                                                  ...  \n82930                                               n.c.  \n82931                                               n.c.  \n82932                                            560.458  \n82933                                                NaN  \n82934                                                NaN  \n\n[82935 rows x 14 columns]",
      "text/html": "<div>\n<style scoped>\n    .dataframe tbody tr th:only-of-type {\n        vertical-align: middle;\n    }\n\n    .dataframe tbody tr th {\n        vertical-align: top;\n    }\n\n    .dataframe thead th {\n        text-align: right;\n    }\n</style>\n<table border=\"1\" class=\"dataframe\">\n  <thead>\n    <tr style=\"text-align: right;\">\n      <th></th>\n      <th>Unnamed: 0</th>\n      <th>DGFiP - Bureau des études statistiques en matière fiscale</th>\n      <th>Unnamed: 2</th>\n      <th>Unnamed: 3</th>\n      <th>Unnamed: 4</th>\n      <th>Unnamed: 5</th>\n      <th>Unnamed: 6</th>\n      <th>Unnamed: 7</th>\n      <th>Unnamed: 8</th>\n      <th>Unnamed: 9</th>\n      <th>Unnamed: 10</th>\n      <th>Unnamed: 11</th>\n      <th>Unnamed: 12</th>\n      <th>Unnamed: 13</th>\n    </tr>\n  </thead>\n  <tbody>\n    <tr>\n      <th>0</th>\n      <td>NaN</td>\n      <td>NaN</td>\n      <td>NaN</td>\n      <td>NaN</td>\n      <td>NaN</td>\n      <td>NaN</td>\n      <td>NaN</td>\n      <td>NaN</td>\n      <td>NaN</td>\n      <td>NaN</td>\n      <td>NaN</td>\n      <td>NaN</td>\n      <td>NaN</td>\n      <td>IRCOM revenus 2019</td>\n    </tr>\n    <tr>\n      <th>1</th>\n      <td>NaN</td>\n      <td>NaN</td>\n      <td>NaN</td>\n      <td>NaN</td>\n      <td>NaN</td>\n      <td>NaN</td>\n      <td>NaN</td>\n      <td>NaN</td>\n      <td>NaN</td>\n      <td>NaN</td>\n      <td>NaN</td>\n      <td>NaN</td>\n      <td>NaN</td>\n      <td>Montants en milliers d'euros (exceptés ceux de...</td>\n    </tr>\n    <tr>\n      <th>2</th>\n      <td>NaN</td>\n      <td>Dép.</td>\n      <td>Commune</td>\n      <td>Libellé de la commune</td>\n      <td>Revenu fiscal de référence par tranche (en euros)</td>\n      <td>Nombre de foyers fiscaux</td>\n      <td>Revenu fiscal de référence des foyers fiscaux</td>\n      <td>Impôt net (total)*</td>\n      <td>Nombre de foyers fiscaux imposés</td>\n      <td>Revenu fiscal de référence des foyers fiscaux ...</td>\n      <td>Traitements et salaires</td>\n      <td>NaN</td>\n      <td>Retraites et pensions</td>\n      <td>NaN</td>\n    </tr>\n    <tr>\n      <th>3</th>\n      <td>NaN</td>\n      <td>NaN</td>\n      <td>NaN</td>\n      <td>NaN</td>\n      <td>NaN</td>\n      <td>NaN</td>\n      <td>NaN</td>\n      <td>NaN</td>\n      <td>NaN</td>\n      <td>NaN</td>\n      <td>Nombre de foyers concernés</td>\n      <td>Montant</td>\n      <td>Nombre de foyers concernés</td>\n      <td>Montant</td>\n    </tr>\n    <tr>\n      <th>4</th>\n      <td>NaN</td>\n      <td>010</td>\n      <td>001</td>\n      <td>L'Abergement-Clémenciat</td>\n      <td>TOTAL</td>\n      <td>447</td>\n      <td>13521.06</td>\n      <td>738.597</td>\n      <td>249</td>\n      <td>9873.482</td>\n      <td>312</td>\n      <td>9535.029</td>\n      <td>161</td>\n      <td>4017.749</td>\n    </tr>\n    <tr>\n      <th>...</th>\n      <td>...</td>\n      <td>...</td>\n      <td>...</td>\n      <td>...</td>\n      <td>...</td>\n      <td>...</td>\n      <td>...</td>\n      <td>...</td>\n      <td>...</td>\n      <td>...</td>\n      <td>...</td>\n      <td>...</td>\n      <td>...</td>\n      <td>...</td>\n    </tr>\n    <tr>\n      <th>82930</th>\n      <td>NaN</td>\n      <td>B31</td>\n      <td>999</td>\n      <td>Autres</td>\n      <td>50 001 à 100 000</td>\n      <td>443</td>\n      <td>31302.071</td>\n      <td>7757.596</td>\n      <td>n.c.</td>\n      <td>n.c.</td>\n      <td>n.c.</td>\n      <td>n.c.</td>\n      <td>n.c.</td>\n      <td>n.c.</td>\n    </tr>\n    <tr>\n      <th>82931</th>\n      <td>NaN</td>\n      <td>B31</td>\n      <td>999</td>\n      <td>Autres</td>\n      <td>Plus de 100 000</td>\n      <td>586</td>\n      <td>108462.346</td>\n      <td>31927.764</td>\n      <td>n.c.</td>\n      <td>n.c.</td>\n      <td>n.c.</td>\n      <td>n.c.</td>\n      <td>n.c.</td>\n      <td>n.c.</td>\n    </tr>\n    <tr>\n      <th>82932</th>\n      <td>NaN</td>\n      <td>B31</td>\n      <td>999</td>\n      <td>Autres</td>\n      <td>TOTAL</td>\n      <td>3963</td>\n      <td>171885.111</td>\n      <td>45862.369</td>\n      <td>2589</td>\n      <td>170115.095</td>\n      <td>162</td>\n      <td>3568.91</td>\n      <td>31</td>\n      <td>560.458</td>\n    </tr>\n    <tr>\n      <th>82933</th>\n      <td>NaN</td>\n      <td>* Impôt sur le revenu émis par voie de rôle, h...</td>\n      <td>NaN</td>\n      <td>NaN</td>\n      <td>NaN</td>\n      <td>NaN</td>\n      <td>NaN</td>\n      <td>NaN</td>\n      <td>NaN</td>\n      <td>NaN</td>\n      <td>NaN</td>\n      <td>NaN</td>\n      <td>NaN</td>\n      <td>NaN</td>\n    </tr>\n    <tr>\n      <th>82934</th>\n      <td>NaN</td>\n      <td>n.c.: cellule couverte par le secret statistique</td>\n      <td>NaN</td>\n      <td>NaN</td>\n      <td>NaN</td>\n      <td>NaN</td>\n      <td>NaN</td>\n      <td>NaN</td>\n      <td>NaN</td>\n      <td>NaN</td>\n      <td>NaN</td>\n      <td>NaN</td>\n      <td>NaN</td>\n      <td>NaN</td>\n    </tr>\n  </tbody>\n</table>\n<p>82935 rows × 14 columns</p>\n</div>"
     },
     "metadata": {},
     "output_type": "display_data"
    },
    {
     "data": {
      "text/plain": "                            Geo Point                    Nom Boissons  \\\n0                44.0549704,0.2603921           Au boin coin      NaN   \n1                47.9094426,1.9076031      Le Diabolo Menthe      NaN   \n2                 48.8020856,2.427514        Café de la Gare      NaN   \n3                41.6976671,9.0644945                    NaN      NaN   \n4                 43.788717,4.8299152  Brasserie du Commerce      yes   \n...                               ...                    ...      ...   \n17928            44.2761336,5.2758837           Les Glycines      NaN   \n17929            46.7227908,2.5037666             La Rotonde      NaN   \n17930            43.8339541,4.3534613              La Movida      NaN   \n17931            46.7776345,4.8488139         Nicéphore Café      NaN   \n17932  43.3685096,-1.7927453999999998                   Uxoa      NaN   \n\n      Site web          Téléphone Horaires Accessible PMR PMR (description)  \\\n0          NaN  +33 5 53 65 67 45      NaN            NaN               NaN   \n1          NaN                NaN      NaN            NaN               NaN   \n2          NaN                NaN      NaN            NaN               NaN   \n3          NaN                NaN      NaN            NaN               NaN   \n4          NaN                NaN      NaN            NaN               NaN   \n...        ...                ...      ...            ...               ...   \n17928      NaN                NaN      NaN            NaN               NaN   \n17929      NaN     +33 2 48961610      NaN            NaN               NaN   \n17930      NaN                NaN      NaN            NaN               NaN   \n17931      NaN                NaN      NaN            NaN               NaN   \n17932      NaN                NaN      NaN            NaN               NaN   \n\n      Toilettes PMR Id Wikidata Id Wikipédia Code postal  \\\n0               NaN         NaN          NaN         NaN   \n1               NaN         NaN          NaN         NaN   \n2               NaN         NaN          NaN         NaN   \n3               NaN         NaN          NaN         NaN   \n4               NaN         NaN          NaN       13210   \n...             ...         ...          ...         ...   \n17928           NaN         NaN          NaN         NaN   \n17929           NaN         NaN          NaN         NaN   \n17930           NaN         NaN          NaN         NaN   \n17931           NaN         NaN          NaN         NaN   \n17932           NaN         NaN          NaN         NaN   \n\n                                              other_tags  \n0      {\"cuisine\": \"tapas\", \"ref:FR:CRTA\": \"RESAQU047...  \n1                                   {\"source\": \"survey\"}  \n2                                                    NaN  \n3                                                    NaN  \n4      {\"addr:housenumber\": \"22\", \"addr:city\": \"Saint...  \n...                                                  ...  \n17928                                                NaN  \n17929                                                NaN  \n17930                                                NaN  \n17931                                                NaN  \n17932                                                NaN  \n\n[17933 rows x 13 columns]",
      "text/html": "<div>\n<style scoped>\n    .dataframe tbody tr th:only-of-type {\n        vertical-align: middle;\n    }\n\n    .dataframe tbody tr th {\n        vertical-align: top;\n    }\n\n    .dataframe thead th {\n        text-align: right;\n    }\n</style>\n<table border=\"1\" class=\"dataframe\">\n  <thead>\n    <tr style=\"text-align: right;\">\n      <th></th>\n      <th>Geo Point</th>\n      <th>Nom</th>\n      <th>Boissons</th>\n      <th>Site web</th>\n      <th>Téléphone</th>\n      <th>Horaires</th>\n      <th>Accessible PMR</th>\n      <th>PMR (description)</th>\n      <th>Toilettes PMR</th>\n      <th>Id Wikidata</th>\n      <th>Id Wikipédia</th>\n      <th>Code postal</th>\n      <th>other_tags</th>\n    </tr>\n  </thead>\n  <tbody>\n    <tr>\n      <th>0</th>\n      <td>44.0549704,0.2603921</td>\n      <td>Au boin coin</td>\n      <td>NaN</td>\n      <td>NaN</td>\n      <td>+33 5 53 65 67 45</td>\n      <td>NaN</td>\n      <td>NaN</td>\n      <td>NaN</td>\n      <td>NaN</td>\n      <td>NaN</td>\n      <td>NaN</td>\n      <td>NaN</td>\n      <td>{\"cuisine\": \"tapas\", \"ref:FR:CRTA\": \"RESAQU047...</td>\n    </tr>\n    <tr>\n      <th>1</th>\n      <td>47.9094426,1.9076031</td>\n      <td>Le Diabolo Menthe</td>\n      <td>NaN</td>\n      <td>NaN</td>\n      <td>NaN</td>\n      <td>NaN</td>\n      <td>NaN</td>\n      <td>NaN</td>\n      <td>NaN</td>\n      <td>NaN</td>\n      <td>NaN</td>\n      <td>NaN</td>\n      <td>{\"source\": \"survey\"}</td>\n    </tr>\n    <tr>\n      <th>2</th>\n      <td>48.8020856,2.427514</td>\n      <td>Café de la Gare</td>\n      <td>NaN</td>\n      <td>NaN</td>\n      <td>NaN</td>\n      <td>NaN</td>\n      <td>NaN</td>\n      <td>NaN</td>\n      <td>NaN</td>\n      <td>NaN</td>\n      <td>NaN</td>\n      <td>NaN</td>\n      <td>NaN</td>\n    </tr>\n    <tr>\n      <th>3</th>\n      <td>41.6976671,9.0644945</td>\n      <td>NaN</td>\n      <td>NaN</td>\n      <td>NaN</td>\n      <td>NaN</td>\n      <td>NaN</td>\n      <td>NaN</td>\n      <td>NaN</td>\n      <td>NaN</td>\n      <td>NaN</td>\n      <td>NaN</td>\n      <td>NaN</td>\n      <td>NaN</td>\n    </tr>\n    <tr>\n      <th>4</th>\n      <td>43.788717,4.8299152</td>\n      <td>Brasserie du Commerce</td>\n      <td>yes</td>\n      <td>NaN</td>\n      <td>NaN</td>\n      <td>NaN</td>\n      <td>NaN</td>\n      <td>NaN</td>\n      <td>NaN</td>\n      <td>NaN</td>\n      <td>NaN</td>\n      <td>13210</td>\n      <td>{\"addr:housenumber\": \"22\", \"addr:city\": \"Saint...</td>\n    </tr>\n    <tr>\n      <th>...</th>\n      <td>...</td>\n      <td>...</td>\n      <td>...</td>\n      <td>...</td>\n      <td>...</td>\n      <td>...</td>\n      <td>...</td>\n      <td>...</td>\n      <td>...</td>\n      <td>...</td>\n      <td>...</td>\n      <td>...</td>\n      <td>...</td>\n    </tr>\n    <tr>\n      <th>17928</th>\n      <td>44.2761336,5.2758837</td>\n      <td>Les Glycines</td>\n      <td>NaN</td>\n      <td>NaN</td>\n      <td>NaN</td>\n      <td>NaN</td>\n      <td>NaN</td>\n      <td>NaN</td>\n      <td>NaN</td>\n      <td>NaN</td>\n      <td>NaN</td>\n      <td>NaN</td>\n      <td>NaN</td>\n    </tr>\n    <tr>\n      <th>17929</th>\n      <td>46.7227908,2.5037666</td>\n      <td>La Rotonde</td>\n      <td>NaN</td>\n      <td>NaN</td>\n      <td>+33 2 48961610</td>\n      <td>NaN</td>\n      <td>NaN</td>\n      <td>NaN</td>\n      <td>NaN</td>\n      <td>NaN</td>\n      <td>NaN</td>\n      <td>NaN</td>\n      <td>NaN</td>\n    </tr>\n    <tr>\n      <th>17930</th>\n      <td>43.8339541,4.3534613</td>\n      <td>La Movida</td>\n      <td>NaN</td>\n      <td>NaN</td>\n      <td>NaN</td>\n      <td>NaN</td>\n      <td>NaN</td>\n      <td>NaN</td>\n      <td>NaN</td>\n      <td>NaN</td>\n      <td>NaN</td>\n      <td>NaN</td>\n      <td>NaN</td>\n    </tr>\n    <tr>\n      <th>17931</th>\n      <td>46.7776345,4.8488139</td>\n      <td>Nicéphore Café</td>\n      <td>NaN</td>\n      <td>NaN</td>\n      <td>NaN</td>\n      <td>NaN</td>\n      <td>NaN</td>\n      <td>NaN</td>\n      <td>NaN</td>\n      <td>NaN</td>\n      <td>NaN</td>\n      <td>NaN</td>\n      <td>NaN</td>\n    </tr>\n    <tr>\n      <th>17932</th>\n      <td>43.3685096,-1.7927453999999998</td>\n      <td>Uxoa</td>\n      <td>NaN</td>\n      <td>NaN</td>\n      <td>NaN</td>\n      <td>NaN</td>\n      <td>NaN</td>\n      <td>NaN</td>\n      <td>NaN</td>\n      <td>NaN</td>\n      <td>NaN</td>\n      <td>NaN</td>\n      <td>NaN</td>\n    </tr>\n  </tbody>\n</table>\n<p>17933 rows × 13 columns</p>\n</div>"
     },
     "metadata": {},
     "output_type": "display_data"
    }
   ],
   "source": [
    "data_revenus = pd.read_excel('../../data/revenus_communes_2019.xlsx')\n",
    "data_bars = pd.read_csv('../../data/osm-fr-bars.csv', sep=';')\n",
    "\n",
    "display(data_revenus, data_bars)"
   ],
   "metadata": {
    "collapsed": false,
    "pycharm": {
     "name": "#%%\n"
    }
   }
  },
  {
   "cell_type": "code",
   "execution_count": 25,
   "outputs": [
    {
     "data": {
      "text/plain": "                            Geo Point Code postal                    Nom\n0                44.0549704,0.2603921         NaN           Au boin coin\n1                47.9094426,1.9076031         NaN      Le Diabolo Menthe\n2                 48.8020856,2.427514         NaN        Café de la Gare\n3                41.6976671,9.0644945         NaN                    NaN\n4                 43.788717,4.8299152       13210  Brasserie du Commerce\n...                               ...         ...                    ...\n17928            44.2761336,5.2758837         NaN           Les Glycines\n17929            46.7227908,2.5037666         NaN             La Rotonde\n17930            43.8339541,4.3534613         NaN              La Movida\n17931            46.7776345,4.8488139         NaN         Nicéphore Café\n17932  43.3685096,-1.7927453999999998         NaN                   Uxoa\n\n[17933 rows x 3 columns]",
      "text/html": "<div>\n<style scoped>\n    .dataframe tbody tr th:only-of-type {\n        vertical-align: middle;\n    }\n\n    .dataframe tbody tr th {\n        vertical-align: top;\n    }\n\n    .dataframe thead th {\n        text-align: right;\n    }\n</style>\n<table border=\"1\" class=\"dataframe\">\n  <thead>\n    <tr style=\"text-align: right;\">\n      <th></th>\n      <th>Geo Point</th>\n      <th>Code postal</th>\n      <th>Nom</th>\n    </tr>\n  </thead>\n  <tbody>\n    <tr>\n      <th>0</th>\n      <td>44.0549704,0.2603921</td>\n      <td>NaN</td>\n      <td>Au boin coin</td>\n    </tr>\n    <tr>\n      <th>1</th>\n      <td>47.9094426,1.9076031</td>\n      <td>NaN</td>\n      <td>Le Diabolo Menthe</td>\n    </tr>\n    <tr>\n      <th>2</th>\n      <td>48.8020856,2.427514</td>\n      <td>NaN</td>\n      <td>Café de la Gare</td>\n    </tr>\n    <tr>\n      <th>3</th>\n      <td>41.6976671,9.0644945</td>\n      <td>NaN</td>\n      <td>NaN</td>\n    </tr>\n    <tr>\n      <th>4</th>\n      <td>43.788717,4.8299152</td>\n      <td>13210</td>\n      <td>Brasserie du Commerce</td>\n    </tr>\n    <tr>\n      <th>...</th>\n      <td>...</td>\n      <td>...</td>\n      <td>...</td>\n    </tr>\n    <tr>\n      <th>17928</th>\n      <td>44.2761336,5.2758837</td>\n      <td>NaN</td>\n      <td>Les Glycines</td>\n    </tr>\n    <tr>\n      <th>17929</th>\n      <td>46.7227908,2.5037666</td>\n      <td>NaN</td>\n      <td>La Rotonde</td>\n    </tr>\n    <tr>\n      <th>17930</th>\n      <td>43.8339541,4.3534613</td>\n      <td>NaN</td>\n      <td>La Movida</td>\n    </tr>\n    <tr>\n      <th>17931</th>\n      <td>46.7776345,4.8488139</td>\n      <td>NaN</td>\n      <td>Nicéphore Café</td>\n    </tr>\n    <tr>\n      <th>17932</th>\n      <td>43.3685096,-1.7927453999999998</td>\n      <td>NaN</td>\n      <td>Uxoa</td>\n    </tr>\n  </tbody>\n</table>\n<p>17933 rows × 3 columns</p>\n</div>"
     },
     "metadata": {},
     "output_type": "display_data"
    },
    {
     "name": "stdout",
     "output_type": "stream",
     "text": [
      "Rate of undefined values: 0.8377850889421736\n"
     ]
    }
   ],
   "source": [
    "data_bars = data_bars[[\"Geo Point\", \"Code postal\", \"Nom\"]]\n",
    "\n",
    "\n",
    "display(data_bars)\n",
    "print(\"Rate of undefined values:\", data_bars[\"Code postal\"].isna().sum() / len(data_bars[\"Code postal\"]))"
   ],
   "metadata": {
    "collapsed": false,
    "pycharm": {
     "name": "#%%\n"
    }
   }
  },
  {
   "cell_type": "markdown",
   "source": [
    "Since the rate of undefined value is way higher than 0.5, and that GPS coordinates and postal code are a little redundant, we can reasonably delete Code postal column:"
   ],
   "metadata": {
    "collapsed": false,
    "pycharm": {
     "name": "#%% md\n"
    }
   }
  },
  {
   "cell_type": "code",
   "execution_count": 26,
   "outputs": [
    {
     "data": {
      "text/plain": "                            Geo Point                    Nom\n0                44.0549704,0.2603921           Au boin coin\n1                47.9094426,1.9076031      Le Diabolo Menthe\n2                 48.8020856,2.427514        Café de la Gare\n3                41.6976671,9.0644945                    NaN\n4                 43.788717,4.8299152  Brasserie du Commerce\n...                               ...                    ...\n17928            44.2761336,5.2758837           Les Glycines\n17929            46.7227908,2.5037666             La Rotonde\n17930            43.8339541,4.3534613              La Movida\n17931            46.7776345,4.8488139         Nicéphore Café\n17932  43.3685096,-1.7927453999999998                   Uxoa\n\n[17933 rows x 2 columns]",
      "text/html": "<div>\n<style scoped>\n    .dataframe tbody tr th:only-of-type {\n        vertical-align: middle;\n    }\n\n    .dataframe tbody tr th {\n        vertical-align: top;\n    }\n\n    .dataframe thead th {\n        text-align: right;\n    }\n</style>\n<table border=\"1\" class=\"dataframe\">\n  <thead>\n    <tr style=\"text-align: right;\">\n      <th></th>\n      <th>Geo Point</th>\n      <th>Nom</th>\n    </tr>\n  </thead>\n  <tbody>\n    <tr>\n      <th>0</th>\n      <td>44.0549704,0.2603921</td>\n      <td>Au boin coin</td>\n    </tr>\n    <tr>\n      <th>1</th>\n      <td>47.9094426,1.9076031</td>\n      <td>Le Diabolo Menthe</td>\n    </tr>\n    <tr>\n      <th>2</th>\n      <td>48.8020856,2.427514</td>\n      <td>Café de la Gare</td>\n    </tr>\n    <tr>\n      <th>3</th>\n      <td>41.6976671,9.0644945</td>\n      <td>NaN</td>\n    </tr>\n    <tr>\n      <th>4</th>\n      <td>43.788717,4.8299152</td>\n      <td>Brasserie du Commerce</td>\n    </tr>\n    <tr>\n      <th>...</th>\n      <td>...</td>\n      <td>...</td>\n    </tr>\n    <tr>\n      <th>17928</th>\n      <td>44.2761336,5.2758837</td>\n      <td>Les Glycines</td>\n    </tr>\n    <tr>\n      <th>17929</th>\n      <td>46.7227908,2.5037666</td>\n      <td>La Rotonde</td>\n    </tr>\n    <tr>\n      <th>17930</th>\n      <td>43.8339541,4.3534613</td>\n      <td>La Movida</td>\n    </tr>\n    <tr>\n      <th>17931</th>\n      <td>46.7776345,4.8488139</td>\n      <td>Nicéphore Café</td>\n    </tr>\n    <tr>\n      <th>17932</th>\n      <td>43.3685096,-1.7927453999999998</td>\n      <td>Uxoa</td>\n    </tr>\n  </tbody>\n</table>\n<p>17933 rows × 2 columns</p>\n</div>"
     },
     "execution_count": 26,
     "metadata": {},
     "output_type": "execute_result"
    }
   ],
   "source": [
    "data_bars.drop(\"Code postal\", axis=1,  inplace=True)\n",
    "data_bars"
   ],
   "metadata": {
    "collapsed": false,
    "pycharm": {
     "name": "#%%\n"
    }
   }
  },
  {
   "cell_type": "code",
   "execution_count": 27,
   "outputs": [
    {
     "name": "stderr",
     "output_type": "stream",
     "text": [
      "/var/folders/97/y6ldl6694d978551pjfjtq8m0000gn/T/ipykernel_10438/1849365207.py:14: FutureWarning: In a future version of pandas all arguments of DataFrame.drop except for the argument 'labels' will be keyword-only.\n",
      "  data_bars.drop('Geo Point', 1)\n"
     ]
    },
    {
     "data": {
      "text/plain": "                         Nom    Latitude            Longitude\n0               Au boin coin  44.0549704            0.2603921\n1          Le Diabolo Menthe  47.9094426            1.9076031\n2            Café de la Gare  48.8020856             2.427514\n3                        NaN  41.6976671            9.0644945\n4      Brasserie du Commerce   43.788717            4.8299152\n...                      ...         ...                  ...\n17928           Les Glycines  44.2761336            5.2758837\n17929             La Rotonde  46.7227908            2.5037666\n17930              La Movida  43.8339541            4.3534613\n17931         Nicéphore Café  46.7776345            4.8488139\n17932                   Uxoa  43.3685096  -1.7927453999999998\n\n[17933 rows x 3 columns]",
      "text/html": "<div>\n<style scoped>\n    .dataframe tbody tr th:only-of-type {\n        vertical-align: middle;\n    }\n\n    .dataframe tbody tr th {\n        vertical-align: top;\n    }\n\n    .dataframe thead th {\n        text-align: right;\n    }\n</style>\n<table border=\"1\" class=\"dataframe\">\n  <thead>\n    <tr style=\"text-align: right;\">\n      <th></th>\n      <th>Nom</th>\n      <th>Latitude</th>\n      <th>Longitude</th>\n    </tr>\n  </thead>\n  <tbody>\n    <tr>\n      <th>0</th>\n      <td>Au boin coin</td>\n      <td>44.0549704</td>\n      <td>0.2603921</td>\n    </tr>\n    <tr>\n      <th>1</th>\n      <td>Le Diabolo Menthe</td>\n      <td>47.9094426</td>\n      <td>1.9076031</td>\n    </tr>\n    <tr>\n      <th>2</th>\n      <td>Café de la Gare</td>\n      <td>48.8020856</td>\n      <td>2.427514</td>\n    </tr>\n    <tr>\n      <th>3</th>\n      <td>NaN</td>\n      <td>41.6976671</td>\n      <td>9.0644945</td>\n    </tr>\n    <tr>\n      <th>4</th>\n      <td>Brasserie du Commerce</td>\n      <td>43.788717</td>\n      <td>4.8299152</td>\n    </tr>\n    <tr>\n      <th>...</th>\n      <td>...</td>\n      <td>...</td>\n      <td>...</td>\n    </tr>\n    <tr>\n      <th>17928</th>\n      <td>Les Glycines</td>\n      <td>44.2761336</td>\n      <td>5.2758837</td>\n    </tr>\n    <tr>\n      <th>17929</th>\n      <td>La Rotonde</td>\n      <td>46.7227908</td>\n      <td>2.5037666</td>\n    </tr>\n    <tr>\n      <th>17930</th>\n      <td>La Movida</td>\n      <td>43.8339541</td>\n      <td>4.3534613</td>\n    </tr>\n    <tr>\n      <th>17931</th>\n      <td>Nicéphore Café</td>\n      <td>46.7776345</td>\n      <td>4.8488139</td>\n    </tr>\n    <tr>\n      <th>17932</th>\n      <td>Uxoa</td>\n      <td>43.3685096</td>\n      <td>-1.7927453999999998</td>\n    </tr>\n  </tbody>\n</table>\n<p>17933 rows × 3 columns</p>\n</div>"
     },
     "execution_count": 27,
     "metadata": {},
     "output_type": "execute_result"
    }
   ],
   "source": [
    "latitudes = []\n",
    "longitudes = []\n",
    "\n",
    "for row in data_bars['Geo Point']:\n",
    "    try:\n",
    "        latitudes.append(row.split(',')[0])\n",
    "        longitudes.append(row.split(',')[1])\n",
    "    except:\n",
    "        latitudes.append(np.NaN)\n",
    "        longitudes.append(np.NaN)\n",
    "\n",
    "data_bars['Latitude'] = latitudes\n",
    "data_bars['Longitude'] = longitudes\n",
    "data_bars.drop('Geo Point', 1)"
   ],
   "metadata": {
    "collapsed": false,
    "pycharm": {
     "name": "#%%\n"
    }
   }
  },
  {
   "cell_type": "markdown",
   "source": [
    "Number of missing values"
   ],
   "metadata": {
    "collapsed": false,
    "pycharm": {
     "name": "#%% md\n"
    }
   }
  },
  {
   "cell_type": "code",
   "execution_count": 28,
   "outputs": [
    {
     "data": {
      "text/plain": "                       Geo Point                    Nom    Latitude  \\\n0           44.0549704,0.2603921           Au boin coin  44.0549704   \n1           47.9094426,1.9076031      Le Diabolo Menthe  47.9094426   \n2            48.8020856,2.427514        Café de la Gare  48.8020856   \n3           41.6976671,9.0644945                    NaN  41.6976671   \n4            43.788717,4.8299152  Brasserie du Commerce   43.788717   \n..                           ...                    ...         ...   \n95           43.3081618,5.381486  salon de thé Sidi Bou  43.3081618   \n96          48.8375341,2.4005448     Le Royal Daumesnil  48.8375341   \n97          50.6361565,3.0693038        Les 3 Brasseurs  50.6361565   \n98         46.3253061,-0.4630548       Place des Halles  46.3253061   \n99  44.399935,0.6529739999999999                Travail   44.399935   \n\n             Longitude  \n0            0.2603921  \n1            1.9076031  \n2             2.427514  \n3            9.0644945  \n4            4.8299152  \n..                 ...  \n95            5.381486  \n96           2.4005448  \n97           3.0693038  \n98          -0.4630548  \n99  0.6529739999999999  \n\n[100 rows x 4 columns]",
      "text/html": "<div>\n<style scoped>\n    .dataframe tbody tr th:only-of-type {\n        vertical-align: middle;\n    }\n\n    .dataframe tbody tr th {\n        vertical-align: top;\n    }\n\n    .dataframe thead th {\n        text-align: right;\n    }\n</style>\n<table border=\"1\" class=\"dataframe\">\n  <thead>\n    <tr style=\"text-align: right;\">\n      <th></th>\n      <th>Geo Point</th>\n      <th>Nom</th>\n      <th>Latitude</th>\n      <th>Longitude</th>\n    </tr>\n  </thead>\n  <tbody>\n    <tr>\n      <th>0</th>\n      <td>44.0549704,0.2603921</td>\n      <td>Au boin coin</td>\n      <td>44.0549704</td>\n      <td>0.2603921</td>\n    </tr>\n    <tr>\n      <th>1</th>\n      <td>47.9094426,1.9076031</td>\n      <td>Le Diabolo Menthe</td>\n      <td>47.9094426</td>\n      <td>1.9076031</td>\n    </tr>\n    <tr>\n      <th>2</th>\n      <td>48.8020856,2.427514</td>\n      <td>Café de la Gare</td>\n      <td>48.8020856</td>\n      <td>2.427514</td>\n    </tr>\n    <tr>\n      <th>3</th>\n      <td>41.6976671,9.0644945</td>\n      <td>NaN</td>\n      <td>41.6976671</td>\n      <td>9.0644945</td>\n    </tr>\n    <tr>\n      <th>4</th>\n      <td>43.788717,4.8299152</td>\n      <td>Brasserie du Commerce</td>\n      <td>43.788717</td>\n      <td>4.8299152</td>\n    </tr>\n    <tr>\n      <th>...</th>\n      <td>...</td>\n      <td>...</td>\n      <td>...</td>\n      <td>...</td>\n    </tr>\n    <tr>\n      <th>95</th>\n      <td>43.3081618,5.381486</td>\n      <td>salon de thé Sidi Bou</td>\n      <td>43.3081618</td>\n      <td>5.381486</td>\n    </tr>\n    <tr>\n      <th>96</th>\n      <td>48.8375341,2.4005448</td>\n      <td>Le Royal Daumesnil</td>\n      <td>48.8375341</td>\n      <td>2.4005448</td>\n    </tr>\n    <tr>\n      <th>97</th>\n      <td>50.6361565,3.0693038</td>\n      <td>Les 3 Brasseurs</td>\n      <td>50.6361565</td>\n      <td>3.0693038</td>\n    </tr>\n    <tr>\n      <th>98</th>\n      <td>46.3253061,-0.4630548</td>\n      <td>Place des Halles</td>\n      <td>46.3253061</td>\n      <td>-0.4630548</td>\n    </tr>\n    <tr>\n      <th>99</th>\n      <td>44.399935,0.6529739999999999</td>\n      <td>Travail</td>\n      <td>44.399935</td>\n      <td>0.6529739999999999</td>\n    </tr>\n  </tbody>\n</table>\n<p>100 rows × 4 columns</p>\n</div>"
     },
     "execution_count": 28,
     "metadata": {},
     "output_type": "execute_result"
    }
   ],
   "source": [
    "data_bars.isnull().sum().sum()\n",
    "data_bars = data_bars.head(100)\n",
    "data_bars"
   ],
   "metadata": {
    "collapsed": false,
    "pycharm": {
     "name": "#%%\n"
    }
   }
  },
  {
   "cell_type": "markdown",
   "source": [
    "Let's just see that on a map"
   ],
   "metadata": {
    "collapsed": false
   }
  },
  {
   "cell_type": "code",
   "execution_count": 29,
   "outputs": [
    {
     "name": "stderr",
     "output_type": "stream",
     "text": [
      "/var/folders/97/y6ldl6694d978551pjfjtq8m0000gn/T/ipykernel_10438/1003043654.py:1: DtypeWarning: Columns (3) have mixed types. Specify dtype option on import or set low_memory=False.\n",
      "  postalCodes = pd.read_csv('../../data/postal-code.csv')\n"
     ]
    },
    {
     "data": {
      "text/plain": "           010010005Y-103   103  Impasse des Acacias  01400  \\\n0          010010005Y-104   104  Impasse des Acacias  01400   \n1           010010005Y-26    26  Impasse des Acacias  01400   \n2           010010005Y-30    30  Impasse des Acacias  01400   \n3           010010005Y-59    59  Impasse des Acacias  01400   \n4           010010005Y-64    64  Impasse des Acacias  01400   \n...                   ...   ...                  ...    ...   \n22845076  97617B740A-4504  4504  Village de Tsingoni  97680   \n22845077  97617B740A-4506  4506  Village de Tsingoni  97680   \n22845078  97617B740A-4524  4524  Village de Tsingoni  97680   \n22845079  97617B740A-5000  5000  Village de Tsingoni  97680   \n22845080  97617B750L-5000  5000             Zidakani  97680   \n\n          L'Abergement-Clémenciat  C+O  46.147624   4.923727  \n0         L'Abergement-Clémenciat  C+O  46.147812   4.924310  \n1         L'Abergement-Clémenciat  C+O  46.146756   4.924307  \n2         L'Abergement-Clémenciat  C+O  46.146907   4.924547  \n3         L'Abergement-Clémenciat  C+O  46.147154   4.924191  \n4         L'Abergement-Clémenciat  C+O  46.147307   4.924624  \n...                           ...  ...        ...        ...  \n22845076                 Tsingoni  CAD -12.790557  45.137112  \n22845077                 Tsingoni  CAD -12.789817  45.132364  \n22845078                 Tsingoni  CAD -12.788548  45.132566  \n22845079                 Tsingoni  CAD -12.789423  45.103516  \n22845080                 Tsingoni  CAD -12.788577  45.102423  \n\n[22845081 rows x 8 columns]",
      "text/html": "<div>\n<style scoped>\n    .dataframe tbody tr th:only-of-type {\n        vertical-align: middle;\n    }\n\n    .dataframe tbody tr th {\n        vertical-align: top;\n    }\n\n    .dataframe thead th {\n        text-align: right;\n    }\n</style>\n<table border=\"1\" class=\"dataframe\">\n  <thead>\n    <tr style=\"text-align: right;\">\n      <th></th>\n      <th>010010005Y-103</th>\n      <th>103</th>\n      <th>Impasse des Acacias</th>\n      <th>01400</th>\n      <th>L'Abergement-Clémenciat</th>\n      <th>C+O</th>\n      <th>46.147624</th>\n      <th>4.923727</th>\n    </tr>\n  </thead>\n  <tbody>\n    <tr>\n      <th>0</th>\n      <td>010010005Y-104</td>\n      <td>104</td>\n      <td>Impasse des Acacias</td>\n      <td>01400</td>\n      <td>L'Abergement-Clémenciat</td>\n      <td>C+O</td>\n      <td>46.147812</td>\n      <td>4.924310</td>\n    </tr>\n    <tr>\n      <th>1</th>\n      <td>010010005Y-26</td>\n      <td>26</td>\n      <td>Impasse des Acacias</td>\n      <td>01400</td>\n      <td>L'Abergement-Clémenciat</td>\n      <td>C+O</td>\n      <td>46.146756</td>\n      <td>4.924307</td>\n    </tr>\n    <tr>\n      <th>2</th>\n      <td>010010005Y-30</td>\n      <td>30</td>\n      <td>Impasse des Acacias</td>\n      <td>01400</td>\n      <td>L'Abergement-Clémenciat</td>\n      <td>C+O</td>\n      <td>46.146907</td>\n      <td>4.924547</td>\n    </tr>\n    <tr>\n      <th>3</th>\n      <td>010010005Y-59</td>\n      <td>59</td>\n      <td>Impasse des Acacias</td>\n      <td>01400</td>\n      <td>L'Abergement-Clémenciat</td>\n      <td>C+O</td>\n      <td>46.147154</td>\n      <td>4.924191</td>\n    </tr>\n    <tr>\n      <th>4</th>\n      <td>010010005Y-64</td>\n      <td>64</td>\n      <td>Impasse des Acacias</td>\n      <td>01400</td>\n      <td>L'Abergement-Clémenciat</td>\n      <td>C+O</td>\n      <td>46.147307</td>\n      <td>4.924624</td>\n    </tr>\n    <tr>\n      <th>...</th>\n      <td>...</td>\n      <td>...</td>\n      <td>...</td>\n      <td>...</td>\n      <td>...</td>\n      <td>...</td>\n      <td>...</td>\n      <td>...</td>\n    </tr>\n    <tr>\n      <th>22845076</th>\n      <td>97617B740A-4504</td>\n      <td>4504</td>\n      <td>Village de Tsingoni</td>\n      <td>97680</td>\n      <td>Tsingoni</td>\n      <td>CAD</td>\n      <td>-12.790557</td>\n      <td>45.137112</td>\n    </tr>\n    <tr>\n      <th>22845077</th>\n      <td>97617B740A-4506</td>\n      <td>4506</td>\n      <td>Village de Tsingoni</td>\n      <td>97680</td>\n      <td>Tsingoni</td>\n      <td>CAD</td>\n      <td>-12.789817</td>\n      <td>45.132364</td>\n    </tr>\n    <tr>\n      <th>22845078</th>\n      <td>97617B740A-4524</td>\n      <td>4524</td>\n      <td>Village de Tsingoni</td>\n      <td>97680</td>\n      <td>Tsingoni</td>\n      <td>CAD</td>\n      <td>-12.788548</td>\n      <td>45.132566</td>\n    </tr>\n    <tr>\n      <th>22845079</th>\n      <td>97617B740A-5000</td>\n      <td>5000</td>\n      <td>Village de Tsingoni</td>\n      <td>97680</td>\n      <td>Tsingoni</td>\n      <td>CAD</td>\n      <td>-12.789423</td>\n      <td>45.103516</td>\n    </tr>\n    <tr>\n      <th>22845080</th>\n      <td>97617B750L-5000</td>\n      <td>5000</td>\n      <td>Zidakani</td>\n      <td>97680</td>\n      <td>Tsingoni</td>\n      <td>CAD</td>\n      <td>-12.788577</td>\n      <td>45.102423</td>\n    </tr>\n  </tbody>\n</table>\n<p>22845081 rows × 8 columns</p>\n</div>"
     },
     "execution_count": 29,
     "metadata": {},
     "output_type": "execute_result"
    }
   ],
   "source": [
    "postalCodes = pd.read_csv('../../data/postal-code.csv')\n",
    "postalCodes"
   ],
   "metadata": {
    "collapsed": false,
    "pycharm": {
     "name": "#%%\n"
    }
   }
  },
  {
   "cell_type": "code",
   "execution_count": 30,
   "outputs": [
    {
     "name": "stderr",
     "output_type": "stream",
     "text": [
      "/var/folders/97/y6ldl6694d978551pjfjtq8m0000gn/T/ipykernel_10438/3129582374.py:1: FutureWarning: In a future version of pandas all arguments of DataFrame.drop except for the argument 'labels' will be keyword-only.\n",
      "  postalCodes.drop(postalCodes.columns[[0,1,2,4,5]], 1, inplace=True)\n"
     ]
    },
    {
     "data": {
      "text/plain": "         Postal code   Latitude  Longitude\n0              01400  46.147812   4.924310\n1              01400  46.146756   4.924307\n2              01400  46.146907   4.924547\n3              01400  46.147154   4.924191\n4              01400  46.147307   4.924624\n...              ...        ...        ...\n22845076       97680 -12.790557  45.137112\n22845077       97680 -12.789817  45.132364\n22845078       97680 -12.788548  45.132566\n22845079       97680 -12.789423  45.103516\n22845080       97680 -12.788577  45.102423\n\n[22845081 rows x 3 columns]",
      "text/html": "<div>\n<style scoped>\n    .dataframe tbody tr th:only-of-type {\n        vertical-align: middle;\n    }\n\n    .dataframe tbody tr th {\n        vertical-align: top;\n    }\n\n    .dataframe thead th {\n        text-align: right;\n    }\n</style>\n<table border=\"1\" class=\"dataframe\">\n  <thead>\n    <tr style=\"text-align: right;\">\n      <th></th>\n      <th>Postal code</th>\n      <th>Latitude</th>\n      <th>Longitude</th>\n    </tr>\n  </thead>\n  <tbody>\n    <tr>\n      <th>0</th>\n      <td>01400</td>\n      <td>46.147812</td>\n      <td>4.924310</td>\n    </tr>\n    <tr>\n      <th>1</th>\n      <td>01400</td>\n      <td>46.146756</td>\n      <td>4.924307</td>\n    </tr>\n    <tr>\n      <th>2</th>\n      <td>01400</td>\n      <td>46.146907</td>\n      <td>4.924547</td>\n    </tr>\n    <tr>\n      <th>3</th>\n      <td>01400</td>\n      <td>46.147154</td>\n      <td>4.924191</td>\n    </tr>\n    <tr>\n      <th>4</th>\n      <td>01400</td>\n      <td>46.147307</td>\n      <td>4.924624</td>\n    </tr>\n    <tr>\n      <th>...</th>\n      <td>...</td>\n      <td>...</td>\n      <td>...</td>\n    </tr>\n    <tr>\n      <th>22845076</th>\n      <td>97680</td>\n      <td>-12.790557</td>\n      <td>45.137112</td>\n    </tr>\n    <tr>\n      <th>22845077</th>\n      <td>97680</td>\n      <td>-12.789817</td>\n      <td>45.132364</td>\n    </tr>\n    <tr>\n      <th>22845078</th>\n      <td>97680</td>\n      <td>-12.788548</td>\n      <td>45.132566</td>\n    </tr>\n    <tr>\n      <th>22845079</th>\n      <td>97680</td>\n      <td>-12.789423</td>\n      <td>45.103516</td>\n    </tr>\n    <tr>\n      <th>22845080</th>\n      <td>97680</td>\n      <td>-12.788577</td>\n      <td>45.102423</td>\n    </tr>\n  </tbody>\n</table>\n<p>22845081 rows × 3 columns</p>\n</div>"
     },
     "execution_count": 30,
     "metadata": {},
     "output_type": "execute_result"
    }
   ],
   "source": [
    "postalCodes.drop(postalCodes.columns[[0,1,2,4,5]], 1, inplace=True)\n",
    "postalCodes.columns = ['Postal code', 'Latitude', 'Longitude']\n",
    "postalCodes"
   ],
   "metadata": {
    "collapsed": false,
    "pycharm": {
     "name": "#%%\n"
    }
   }
  },
  {
   "cell_type": "markdown",
   "source": [
    "Le meilleur compromis d'arrondi des coordonnées GPS est de 3 car pour un arrondi de 4 nous obtenons 16749 valeurs non trouvées et en dessous de 3 la précision est trop faible : on peut obtenir un code postal erroné. Nous aurions pu faire un appel à une API pour avoir des valeurs exacte facilement, mais nous trouvions que c'était moins dans l'esprit du projet.\n",
    "9859; 1524; 617;"
   ],
   "metadata": {
    "collapsed": false
   }
  },
  {
   "cell_type": "code",
   "execution_count": 31,
   "outputs": [
    {
     "name": "stderr",
     "output_type": "stream",
     "text": [
      "/var/folders/97/y6ldl6694d978551pjfjtq8m0000gn/T/ipykernel_10438/1994631245.py:4: SettingWithCopyWarning: \n",
      "A value is trying to be set on a copy of a slice from a DataFrame.\n",
      "Try using .loc[row_indexer,col_indexer] = value instead\n",
      "\n",
      "See the caveats in the documentation: https://pandas.pydata.org/pandas-docs/stable/user_guide/indexing.html#returning-a-view-versus-a-copy\n",
      "  data_bars['Latitude'] = data_bars['Latitude'].astype(float)\n",
      "/var/folders/97/y6ldl6694d978551pjfjtq8m0000gn/T/ipykernel_10438/1994631245.py:5: SettingWithCopyWarning: \n",
      "A value is trying to be set on a copy of a slice from a DataFrame.\n",
      "Try using .loc[row_indexer,col_indexer] = value instead\n",
      "\n",
      "See the caveats in the documentation: https://pandas.pydata.org/pandas-docs/stable/user_guide/indexing.html#returning-a-view-versus-a-copy\n",
      "  data_bars['Longitude'] = data_bars['Longitude'].astype(float)\n",
      "/var/folders/97/y6ldl6694d978551pjfjtq8m0000gn/T/ipykernel_10438/1994631245.py:6: SettingWithCopyWarning: \n",
      "A value is trying to be set on a copy of a slice from a DataFrame.\n",
      "Try using .loc[row_indexer,col_indexer] = value instead\n",
      "\n",
      "See the caveats in the documentation: https://pandas.pydata.org/pandas-docs/stable/user_guide/indexing.html#returning-a-view-versus-a-copy\n",
      "  data_bars['Latitude'] = data_bars['Latitude'].apply(lambda lat: round(lat, 3))\n",
      "/var/folders/97/y6ldl6694d978551pjfjtq8m0000gn/T/ipykernel_10438/1994631245.py:7: SettingWithCopyWarning: \n",
      "A value is trying to be set on a copy of a slice from a DataFrame.\n",
      "Try using .loc[row_indexer,col_indexer] = value instead\n",
      "\n",
      "See the caveats in the documentation: https://pandas.pydata.org/pandas-docs/stable/user_guide/indexing.html#returning-a-view-versus-a-copy\n",
      "  data_bars['Longitude'] = data_bars['Longitude'].apply(lambda long: round(long, 3))\n"
     ]
    },
    {
     "data": {
      "text/plain": "                         Geo Point                    Nom  Latitude  \\\n0             44.0549704,0.2603921           Au boin coin    44.055   \n45            47.9094426,1.9076031      Le Diabolo Menthe    47.909   \n48             48.8020856,2.427514        Café de la Gare    48.802   \n62            41.6976671,9.0644945                    NaN    41.698   \n63             43.788717,4.8299152  Brasserie du Commerce    43.789   \n...                            ...                    ...       ...   \n2003           43.3081618,5.381486  salon de thé Sidi Bou    43.308   \n2026          48.8375341,2.4005448     Le Royal Daumesnil    48.838   \n2039          50.6361565,3.0693038        Les 3 Brasseurs    50.636   \n2077         46.3253061,-0.4630548       Place des Halles    46.325   \n2145  44.399935,0.6529739999999999                Travail    44.400   \n\n      Longitude Postal code  \n0         0.260       47170  \n45        1.908       45000  \n48        2.428       94700  \n62        9.064         NaN  \n63        4.830       13210  \n...         ...         ...  \n2003      5.381       13003  \n2026      2.401       75012  \n2039      3.069       59800  \n2077     -0.463       79000  \n2145      0.653       47300  \n\n[110 rows x 5 columns]",
      "text/html": "<div>\n<style scoped>\n    .dataframe tbody tr th:only-of-type {\n        vertical-align: middle;\n    }\n\n    .dataframe tbody tr th {\n        vertical-align: top;\n    }\n\n    .dataframe thead th {\n        text-align: right;\n    }\n</style>\n<table border=\"1\" class=\"dataframe\">\n  <thead>\n    <tr style=\"text-align: right;\">\n      <th></th>\n      <th>Geo Point</th>\n      <th>Nom</th>\n      <th>Latitude</th>\n      <th>Longitude</th>\n      <th>Postal code</th>\n    </tr>\n  </thead>\n  <tbody>\n    <tr>\n      <th>0</th>\n      <td>44.0549704,0.2603921</td>\n      <td>Au boin coin</td>\n      <td>44.055</td>\n      <td>0.260</td>\n      <td>47170</td>\n    </tr>\n    <tr>\n      <th>45</th>\n      <td>47.9094426,1.9076031</td>\n      <td>Le Diabolo Menthe</td>\n      <td>47.909</td>\n      <td>1.908</td>\n      <td>45000</td>\n    </tr>\n    <tr>\n      <th>48</th>\n      <td>48.8020856,2.427514</td>\n      <td>Café de la Gare</td>\n      <td>48.802</td>\n      <td>2.428</td>\n      <td>94700</td>\n    </tr>\n    <tr>\n      <th>62</th>\n      <td>41.6976671,9.0644945</td>\n      <td>NaN</td>\n      <td>41.698</td>\n      <td>9.064</td>\n      <td>NaN</td>\n    </tr>\n    <tr>\n      <th>63</th>\n      <td>43.788717,4.8299152</td>\n      <td>Brasserie du Commerce</td>\n      <td>43.789</td>\n      <td>4.830</td>\n      <td>13210</td>\n    </tr>\n    <tr>\n      <th>...</th>\n      <td>...</td>\n      <td>...</td>\n      <td>...</td>\n      <td>...</td>\n      <td>...</td>\n    </tr>\n    <tr>\n      <th>2003</th>\n      <td>43.3081618,5.381486</td>\n      <td>salon de thé Sidi Bou</td>\n      <td>43.308</td>\n      <td>5.381</td>\n      <td>13003</td>\n    </tr>\n    <tr>\n      <th>2026</th>\n      <td>48.8375341,2.4005448</td>\n      <td>Le Royal Daumesnil</td>\n      <td>48.838</td>\n      <td>2.401</td>\n      <td>75012</td>\n    </tr>\n    <tr>\n      <th>2039</th>\n      <td>50.6361565,3.0693038</td>\n      <td>Les 3 Brasseurs</td>\n      <td>50.636</td>\n      <td>3.069</td>\n      <td>59800</td>\n    </tr>\n    <tr>\n      <th>2077</th>\n      <td>46.3253061,-0.4630548</td>\n      <td>Place des Halles</td>\n      <td>46.325</td>\n      <td>-0.463</td>\n      <td>79000</td>\n    </tr>\n    <tr>\n      <th>2145</th>\n      <td>44.399935,0.6529739999999999</td>\n      <td>Travail</td>\n      <td>44.400</td>\n      <td>0.653</td>\n      <td>47300</td>\n    </tr>\n  </tbody>\n</table>\n<p>110 rows × 5 columns</p>\n</div>"
     },
     "execution_count": 31,
     "metadata": {},
     "output_type": "execute_result"
    }
   ],
   "source": [
    "postalCodes['Latitude'] = postalCodes['Latitude'].apply(lambda lat: round(lat, 3))\n",
    "postalCodes['Longitude'] = postalCodes['Longitude'].apply(lambda long: round(long, 3))\n",
    "\n",
    "data_bars['Latitude'] = data_bars['Latitude'].astype(float)\n",
    "data_bars['Longitude'] = data_bars['Longitude'].astype(float)\n",
    "data_bars['Latitude'] = data_bars['Latitude'].apply(lambda lat: round(lat, 3))\n",
    "data_bars['Longitude'] = data_bars['Longitude'].apply(lambda long: round(long, 3))\n",
    "\n",
    "data_bars = pd.merge(data_bars, postalCodes, how='left', on=['Latitude', 'Longitude']).drop_duplicates()\n",
    "data_bars"
   ],
   "metadata": {
    "collapsed": false,
    "pycharm": {
     "name": "#%%\n"
    }
   }
  },
  {
   "cell_type": "code",
   "execution_count": 32,
   "outputs": [
    {
     "data": {
      "text/plain": "                         Geo Point                    Nom  Latitude  \\\n0             44.0549704,0.2603921           Au boin coin    44.055   \n45            47.9094426,1.9076031      Le Diabolo Menthe    47.909   \n48             48.8020856,2.427514        Café de la Gare    48.802   \n63             43.788717,4.8299152  Brasserie du Commerce    43.789   \n101           45.5853255,5.2768205     L'atelier de Chico    45.585   \n...                            ...                    ...       ...   \n2003           43.3081618,5.381486  salon de thé Sidi Bou    43.308   \n2026          48.8375341,2.4005448     Le Royal Daumesnil    48.838   \n2039          50.6361565,3.0693038        Les 3 Brasseurs    50.636   \n2077         46.3253061,-0.4630548       Place des Halles    46.325   \n2145  44.399935,0.6529739999999999                Travail    44.400   \n\n      Longitude Postal code  \n0         0.260       47170  \n45        1.908       45000  \n48        2.428       94700  \n63        4.830       13210  \n101       5.277       38300  \n...         ...         ...  \n2003      5.381       13003  \n2026      2.401       75012  \n2039      3.069       59800  \n2077     -0.463       79000  \n2145      0.653       47300  \n\n[99 rows x 5 columns]",
      "text/html": "<div>\n<style scoped>\n    .dataframe tbody tr th:only-of-type {\n        vertical-align: middle;\n    }\n\n    .dataframe tbody tr th {\n        vertical-align: top;\n    }\n\n    .dataframe thead th {\n        text-align: right;\n    }\n</style>\n<table border=\"1\" class=\"dataframe\">\n  <thead>\n    <tr style=\"text-align: right;\">\n      <th></th>\n      <th>Geo Point</th>\n      <th>Nom</th>\n      <th>Latitude</th>\n      <th>Longitude</th>\n      <th>Postal code</th>\n    </tr>\n  </thead>\n  <tbody>\n    <tr>\n      <th>0</th>\n      <td>44.0549704,0.2603921</td>\n      <td>Au boin coin</td>\n      <td>44.055</td>\n      <td>0.260</td>\n      <td>47170</td>\n    </tr>\n    <tr>\n      <th>45</th>\n      <td>47.9094426,1.9076031</td>\n      <td>Le Diabolo Menthe</td>\n      <td>47.909</td>\n      <td>1.908</td>\n      <td>45000</td>\n    </tr>\n    <tr>\n      <th>48</th>\n      <td>48.8020856,2.427514</td>\n      <td>Café de la Gare</td>\n      <td>48.802</td>\n      <td>2.428</td>\n      <td>94700</td>\n    </tr>\n    <tr>\n      <th>63</th>\n      <td>43.788717,4.8299152</td>\n      <td>Brasserie du Commerce</td>\n      <td>43.789</td>\n      <td>4.830</td>\n      <td>13210</td>\n    </tr>\n    <tr>\n      <th>101</th>\n      <td>45.5853255,5.2768205</td>\n      <td>L'atelier de Chico</td>\n      <td>45.585</td>\n      <td>5.277</td>\n      <td>38300</td>\n    </tr>\n    <tr>\n      <th>...</th>\n      <td>...</td>\n      <td>...</td>\n      <td>...</td>\n      <td>...</td>\n      <td>...</td>\n    </tr>\n    <tr>\n      <th>2003</th>\n      <td>43.3081618,5.381486</td>\n      <td>salon de thé Sidi Bou</td>\n      <td>43.308</td>\n      <td>5.381</td>\n      <td>13003</td>\n    </tr>\n    <tr>\n      <th>2026</th>\n      <td>48.8375341,2.4005448</td>\n      <td>Le Royal Daumesnil</td>\n      <td>48.838</td>\n      <td>2.401</td>\n      <td>75012</td>\n    </tr>\n    <tr>\n      <th>2039</th>\n      <td>50.6361565,3.0693038</td>\n      <td>Les 3 Brasseurs</td>\n      <td>50.636</td>\n      <td>3.069</td>\n      <td>59800</td>\n    </tr>\n    <tr>\n      <th>2077</th>\n      <td>46.3253061,-0.4630548</td>\n      <td>Place des Halles</td>\n      <td>46.325</td>\n      <td>-0.463</td>\n      <td>79000</td>\n    </tr>\n    <tr>\n      <th>2145</th>\n      <td>44.399935,0.6529739999999999</td>\n      <td>Travail</td>\n      <td>44.400</td>\n      <td>0.653</td>\n      <td>47300</td>\n    </tr>\n  </tbody>\n</table>\n<p>99 rows × 5 columns</p>\n</div>"
     },
     "metadata": {},
     "output_type": "display_data"
    }
   ],
   "source": [
    "data_bars.dropna(subset=['Postal code'], inplace=True)\n",
    "data_bars['Département'] = data_bars['Postal code'].apply(lambda code: str(code)[0:2])\n",
    "data_bars"
   ],
   "metadata": {
    "collapsed": false,
    "pycharm": {
     "name": "#%%\n"
    }
   }
  },
  {
   "cell_type": "code",
   "execution_count": 13,
   "outputs": [
    {
     "data": {
      "text/plain": "                             Geo Point                    Nom  Latitude  \\\n0                 44.0549704,0.2603921           Au boin coin    44.055   \n45                47.9094426,1.9076031      Le Diabolo Menthe    47.909   \n48                 48.8020856,2.427514        Café de la Gare    48.802   \n62                41.6976671,9.0644945                    NaN    41.698   \n63                 43.788717,4.8299152  Brasserie du Commerce    43.789   \n...                                ...                    ...       ...   \n385913            44.2761336,5.2758837           Les Glycines    44.276   \n385945            46.7227908,2.5037666             La Rotonde    46.723   \n385960            43.8339541,4.3534613              La Movida    43.834   \n386008            46.7776345,4.8488139         Nicéphore Café    46.778   \n386037  43.3685096,-1.7927453999999998                   Uxoa    43.369   \n\n        Longitude Postal code  \n0           0.260       47170  \n45          1.908       45000  \n48          2.428       94700  \n62          9.064         NaN  \n63          4.830       13210  \n...           ...         ...  \n385913      5.276       26170  \n385945      2.504       18200  \n385960      4.353       30900  \n386008      4.849       71100  \n386037     -1.793         NaN  \n\n[20052 rows x 5 columns]",
      "text/html": "<div>\n<style scoped>\n    .dataframe tbody tr th:only-of-type {\n        vertical-align: middle;\n    }\n\n    .dataframe tbody tr th {\n        vertical-align: top;\n    }\n\n    .dataframe thead th {\n        text-align: right;\n    }\n</style>\n<table border=\"1\" class=\"dataframe\">\n  <thead>\n    <tr style=\"text-align: right;\">\n      <th></th>\n      <th>Geo Point</th>\n      <th>Nom</th>\n      <th>Latitude</th>\n      <th>Longitude</th>\n      <th>Postal code</th>\n    </tr>\n  </thead>\n  <tbody>\n    <tr>\n      <th>0</th>\n      <td>44.0549704,0.2603921</td>\n      <td>Au boin coin</td>\n      <td>44.055</td>\n      <td>0.260</td>\n      <td>47170</td>\n    </tr>\n    <tr>\n      <th>45</th>\n      <td>47.9094426,1.9076031</td>\n      <td>Le Diabolo Menthe</td>\n      <td>47.909</td>\n      <td>1.908</td>\n      <td>45000</td>\n    </tr>\n    <tr>\n      <th>48</th>\n      <td>48.8020856,2.427514</td>\n      <td>Café de la Gare</td>\n      <td>48.802</td>\n      <td>2.428</td>\n      <td>94700</td>\n    </tr>\n    <tr>\n      <th>62</th>\n      <td>41.6976671,9.0644945</td>\n      <td>NaN</td>\n      <td>41.698</td>\n      <td>9.064</td>\n      <td>NaN</td>\n    </tr>\n    <tr>\n      <th>63</th>\n      <td>43.788717,4.8299152</td>\n      <td>Brasserie du Commerce</td>\n      <td>43.789</td>\n      <td>4.830</td>\n      <td>13210</td>\n    </tr>\n    <tr>\n      <th>...</th>\n      <td>...</td>\n      <td>...</td>\n      <td>...</td>\n      <td>...</td>\n      <td>...</td>\n    </tr>\n    <tr>\n      <th>385913</th>\n      <td>44.2761336,5.2758837</td>\n      <td>Les Glycines</td>\n      <td>44.276</td>\n      <td>5.276</td>\n      <td>26170</td>\n    </tr>\n    <tr>\n      <th>385945</th>\n      <td>46.7227908,2.5037666</td>\n      <td>La Rotonde</td>\n      <td>46.723</td>\n      <td>2.504</td>\n      <td>18200</td>\n    </tr>\n    <tr>\n      <th>385960</th>\n      <td>43.8339541,4.3534613</td>\n      <td>La Movida</td>\n      <td>43.834</td>\n      <td>4.353</td>\n      <td>30900</td>\n    </tr>\n    <tr>\n      <th>386008</th>\n      <td>46.7776345,4.8488139</td>\n      <td>Nicéphore Café</td>\n      <td>46.778</td>\n      <td>4.849</td>\n      <td>71100</td>\n    </tr>\n    <tr>\n      <th>386037</th>\n      <td>43.3685096,-1.7927453999999998</td>\n      <td>Uxoa</td>\n      <td>43.369</td>\n      <td>-1.793</td>\n      <td>NaN</td>\n    </tr>\n  </tbody>\n</table>\n<p>20052 rows × 5 columns</p>\n</div>"
     },
     "execution_count": 13,
     "metadata": {},
     "output_type": "execute_result"
    }
   ],
   "source": [
    "barNumber = data_bars['Département'].groupby('Département', as_index=False).sum()"
   ],
   "metadata": {
    "collapsed": false,
    "pycharm": {
     "name": "#%%\n"
    }
   }
  },
  {
   "cell_type": "code",
   "execution_count": null,
   "outputs": [],
   "source": [
    "import plotly.express as px\n",
    "import json\n",
    "\n",
    "departements = json.load(open('data/departements-version-simplifiee.geojson'))\n",
    "\n",
    "fig = px.choropleth_mapbox(barNumber, geojson=departements,\n",
    "                           locations='département', featureidkey = 'properties.code', # join keys\n",
    "                           color='prix', color_continuous_scale=\"Viridis\",\n",
    "                           mapbox_style=\"carto-positron\",\n",
    "                           zoom=4.6, center = {\"lat\": 47, \"lon\": 2},\n",
    "                           opacity=0.5,\n",
    "                           labels={'prix':'Nombre de bars'}\n",
    "                          )\n",
    "fig.update_layout(margin={\"r\":0,\"t\":0,\"l\":0,\"b\":0})\n",
    "fig"
   ],
   "metadata": {
    "collapsed": false,
    "pycharm": {
     "name": "#%%\n"
    }
   }
  },
  {
   "cell_type": "code",
   "execution_count": 52,
   "outputs": [
    {
     "data": {
      "text/plain": "<folium.folium.Map at 0x28bea6280>",
      "text/html": "<div style=\"width:100%;\"><div style=\"position:relative;width:100%;height:0;padding-bottom:60%;\"><span style=\"color:#565656\">Make this Notebook Trusted to load map: File -> Trust Notebook</span><iframe src=\"about:blank\" style=\"position:absolute;width:100%;height:100%;left:0;top:0;border:none !important;\" data-html=%3C%21DOCTYPE%20html%3E%0A%3Chead%3E%20%20%20%20%0A%20%20%20%20%3Cmeta%20http-equiv%3D%22content-type%22%20content%3D%22text/html%3B%20charset%3DUTF-8%22%20/%3E%0A%20%20%20%20%0A%20%20%20%20%20%20%20%20%3Cscript%3E%0A%20%20%20%20%20%20%20%20%20%20%20%20L_NO_TOUCH%20%3D%20false%3B%0A%20%20%20%20%20%20%20%20%20%20%20%20L_DISABLE_3D%20%3D%20false%3B%0A%20%20%20%20%20%20%20%20%3C/script%3E%0A%20%20%20%20%0A%20%20%20%20%3Cstyle%3Ehtml%2C%20body%20%7Bwidth%3A%20100%25%3Bheight%3A%20100%25%3Bmargin%3A%200%3Bpadding%3A%200%3B%7D%3C/style%3E%0A%20%20%20%20%3Cstyle%3E%23map%20%7Bposition%3Aabsolute%3Btop%3A0%3Bbottom%3A0%3Bright%3A0%3Bleft%3A0%3B%7D%3C/style%3E%0A%20%20%20%20%3Cscript%20src%3D%22https%3A//cdn.jsdelivr.net/npm/leaflet%401.6.0/dist/leaflet.js%22%3E%3C/script%3E%0A%20%20%20%20%3Cscript%20src%3D%22https%3A//code.jquery.com/jquery-1.12.4.min.js%22%3E%3C/script%3E%0A%20%20%20%20%3Cscript%20src%3D%22https%3A//maxcdn.bootstrapcdn.com/bootstrap/3.2.0/js/bootstrap.min.js%22%3E%3C/script%3E%0A%20%20%20%20%3Cscript%20src%3D%22https%3A//cdnjs.cloudflare.com/ajax/libs/Leaflet.awesome-markers/2.0.2/leaflet.awesome-markers.js%22%3E%3C/script%3E%0A%20%20%20%20%3Clink%20rel%3D%22stylesheet%22%20href%3D%22https%3A//cdn.jsdelivr.net/npm/leaflet%401.6.0/dist/leaflet.css%22/%3E%0A%20%20%20%20%3Clink%20rel%3D%22stylesheet%22%20href%3D%22https%3A//maxcdn.bootstrapcdn.com/bootstrap/3.2.0/css/bootstrap.min.css%22/%3E%0A%20%20%20%20%3Clink%20rel%3D%22stylesheet%22%20href%3D%22https%3A//maxcdn.bootstrapcdn.com/bootstrap/3.2.0/css/bootstrap-theme.min.css%22/%3E%0A%20%20%20%20%3Clink%20rel%3D%22stylesheet%22%20href%3D%22https%3A//maxcdn.bootstrapcdn.com/font-awesome/4.6.3/css/font-awesome.min.css%22/%3E%0A%20%20%20%20%3Clink%20rel%3D%22stylesheet%22%20href%3D%22https%3A//cdnjs.cloudflare.com/ajax/libs/Leaflet.awesome-markers/2.0.2/leaflet.awesome-markers.css%22/%3E%0A%20%20%20%20%3Clink%20rel%3D%22stylesheet%22%20href%3D%22https%3A//cdn.jsdelivr.net/gh/python-visualization/folium/folium/templates/leaflet.awesome.rotate.min.css%22/%3E%0A%20%20%20%20%0A%20%20%20%20%20%20%20%20%20%20%20%20%3Cmeta%20name%3D%22viewport%22%20content%3D%22width%3Ddevice-width%2C%0A%20%20%20%20%20%20%20%20%20%20%20%20%20%20%20%20initial-scale%3D1.0%2C%20maximum-scale%3D1.0%2C%20user-scalable%3Dno%22%20/%3E%0A%20%20%20%20%20%20%20%20%20%20%20%20%3Cstyle%3E%0A%20%20%20%20%20%20%20%20%20%20%20%20%20%20%20%20%23map_73cc60fe03974d5692c1bbbf97a40c69%20%7B%0A%20%20%20%20%20%20%20%20%20%20%20%20%20%20%20%20%20%20%20%20position%3A%20relative%3B%0A%20%20%20%20%20%20%20%20%20%20%20%20%20%20%20%20%20%20%20%20width%3A%20100.0%25%3B%0A%20%20%20%20%20%20%20%20%20%20%20%20%20%20%20%20%20%20%20%20height%3A%20100.0%25%3B%0A%20%20%20%20%20%20%20%20%20%20%20%20%20%20%20%20%20%20%20%20left%3A%200.0%25%3B%0A%20%20%20%20%20%20%20%20%20%20%20%20%20%20%20%20%20%20%20%20top%3A%200.0%25%3B%0A%20%20%20%20%20%20%20%20%20%20%20%20%20%20%20%20%7D%0A%20%20%20%20%20%20%20%20%20%20%20%20%3C/style%3E%0A%20%20%20%20%20%20%20%20%0A%3C/head%3E%0A%3Cbody%3E%20%20%20%20%0A%20%20%20%20%0A%20%20%20%20%20%20%20%20%20%20%20%20%3Cdiv%20class%3D%22folium-map%22%20id%3D%22map_73cc60fe03974d5692c1bbbf97a40c69%22%20%3E%3C/div%3E%0A%20%20%20%20%20%20%20%20%0A%3C/body%3E%0A%3Cscript%3E%20%20%20%20%0A%20%20%20%20%0A%20%20%20%20%20%20%20%20%20%20%20%20var%20map_73cc60fe03974d5692c1bbbf97a40c69%20%3D%20L.map%28%0A%20%20%20%20%20%20%20%20%20%20%20%20%20%20%20%20%22map_73cc60fe03974d5692c1bbbf97a40c69%22%2C%0A%20%20%20%20%20%20%20%20%20%20%20%20%20%20%20%20%7B%0A%20%20%20%20%20%20%20%20%20%20%20%20%20%20%20%20%20%20%20%20center%3A%20%5B46.8%2C%202.0%5D%2C%0A%20%20%20%20%20%20%20%20%20%20%20%20%20%20%20%20%20%20%20%20crs%3A%20L.CRS.EPSG3857%2C%0A%20%20%20%20%20%20%20%20%20%20%20%20%20%20%20%20%20%20%20%20zoom%3A%206%2C%0A%20%20%20%20%20%20%20%20%20%20%20%20%20%20%20%20%20%20%20%20zoomControl%3A%20true%2C%0A%20%20%20%20%20%20%20%20%20%20%20%20%20%20%20%20%20%20%20%20preferCanvas%3A%20false%2C%0A%20%20%20%20%20%20%20%20%20%20%20%20%20%20%20%20%7D%0A%20%20%20%20%20%20%20%20%20%20%20%20%29%3B%0A%0A%20%20%20%20%20%20%20%20%20%20%20%20%0A%0A%20%20%20%20%20%20%20%20%0A%20%20%20%20%0A%20%20%20%20%20%20%20%20%20%20%20%20var%20tile_layer_6405b16da603479d98b97edbfe7e90bc%20%3D%20L.tileLayer%28%0A%20%20%20%20%20%20%20%20%20%20%20%20%20%20%20%20%22https%3A//%7Bs%7D.tile.openstreetmap.org/%7Bz%7D/%7Bx%7D/%7By%7D.png%22%2C%0A%20%20%20%20%20%20%20%20%20%20%20%20%20%20%20%20%7B%22attribution%22%3A%20%22Data%20by%20%5Cu0026copy%3B%20%5Cu003ca%20href%3D%5C%22http%3A//openstreetmap.org%5C%22%5Cu003eOpenStreetMap%5Cu003c/a%5Cu003e%2C%20under%20%5Cu003ca%20href%3D%5C%22http%3A//www.openstreetmap.org/copyright%5C%22%5Cu003eODbL%5Cu003c/a%5Cu003e.%22%2C%20%22detectRetina%22%3A%20false%2C%20%22maxNativeZoom%22%3A%2018%2C%20%22maxZoom%22%3A%2018%2C%20%22minZoom%22%3A%200%2C%20%22noWrap%22%3A%20false%2C%20%22opacity%22%3A%201%2C%20%22subdomains%22%3A%20%22abc%22%2C%20%22tms%22%3A%20false%7D%0A%20%20%20%20%20%20%20%20%20%20%20%20%29.addTo%28map_73cc60fe03974d5692c1bbbf97a40c69%29%3B%0A%20%20%20%20%20%20%20%20%0A%20%20%20%20%0A%20%20%20%20%20%20%20%20%20%20%20%20var%20marker_88eeb5dcdc0b40e4ac1c9cd226bdc4e8%20%3D%20L.marker%28%0A%20%20%20%20%20%20%20%20%20%20%20%20%20%20%20%20%5B44.0549704%2C%200.2603921%5D%2C%0A%20%20%20%20%20%20%20%20%20%20%20%20%20%20%20%20%7B%7D%0A%20%20%20%20%20%20%20%20%20%20%20%20%29.addTo%28map_73cc60fe03974d5692c1bbbf97a40c69%29%3B%0A%20%20%20%20%20%20%20%20%0A%20%20%20%20%0A%20%20%20%20%20%20%20%20var%20popup_3cc149e65a9b44f3bcaaffbe08034407%20%3D%20L.popup%28%7B%22maxWidth%22%3A%20%22100%25%22%7D%29%3B%0A%0A%20%20%20%20%20%20%20%20%0A%20%20%20%20%20%20%20%20%20%20%20%20var%20html_fee29f8eab8548bcbfd9d00f3b510ac2%20%3D%20%24%28%60%3Cdiv%20id%3D%22html_fee29f8eab8548bcbfd9d00f3b510ac2%22%20style%3D%22width%3A%20100.0%25%3B%20height%3A%20100.0%25%3B%22%3EAu%20boin%20coin%3C/div%3E%60%29%5B0%5D%3B%0A%20%20%20%20%20%20%20%20%20%20%20%20popup_3cc149e65a9b44f3bcaaffbe08034407.setContent%28html_fee29f8eab8548bcbfd9d00f3b510ac2%29%3B%0A%20%20%20%20%20%20%20%20%0A%0A%20%20%20%20%20%20%20%20marker_88eeb5dcdc0b40e4ac1c9cd226bdc4e8.bindPopup%28popup_3cc149e65a9b44f3bcaaffbe08034407%29%0A%20%20%20%20%20%20%20%20%3B%0A%0A%20%20%20%20%20%20%20%20%0A%20%20%20%20%0A%20%20%20%20%0A%20%20%20%20%20%20%20%20%20%20%20%20var%20marker_3748748735554c4d93a90a3320b53216%20%3D%20L.marker%28%0A%20%20%20%20%20%20%20%20%20%20%20%20%20%20%20%20%5B47.9094426%2C%201.9076031%5D%2C%0A%20%20%20%20%20%20%20%20%20%20%20%20%20%20%20%20%7B%7D%0A%20%20%20%20%20%20%20%20%20%20%20%20%29.addTo%28map_73cc60fe03974d5692c1bbbf97a40c69%29%3B%0A%20%20%20%20%20%20%20%20%0A%20%20%20%20%0A%20%20%20%20%20%20%20%20var%20popup_c2aa1073bada4c9ebf3f36408eb6c4fb%20%3D%20L.popup%28%7B%22maxWidth%22%3A%20%22100%25%22%7D%29%3B%0A%0A%20%20%20%20%20%20%20%20%0A%20%20%20%20%20%20%20%20%20%20%20%20var%20html_0546692861674b7682741a90b04c21df%20%3D%20%24%28%60%3Cdiv%20id%3D%22html_0546692861674b7682741a90b04c21df%22%20style%3D%22width%3A%20100.0%25%3B%20height%3A%20100.0%25%3B%22%3ELe%20Diabolo%20Menthe%3C/div%3E%60%29%5B0%5D%3B%0A%20%20%20%20%20%20%20%20%20%20%20%20popup_c2aa1073bada4c9ebf3f36408eb6c4fb.setContent%28html_0546692861674b7682741a90b04c21df%29%3B%0A%20%20%20%20%20%20%20%20%0A%0A%20%20%20%20%20%20%20%20marker_3748748735554c4d93a90a3320b53216.bindPopup%28popup_c2aa1073bada4c9ebf3f36408eb6c4fb%29%0A%20%20%20%20%20%20%20%20%3B%0A%0A%20%20%20%20%20%20%20%20%0A%20%20%20%20%0A%20%20%20%20%0A%20%20%20%20%20%20%20%20%20%20%20%20var%20marker_e6c9f2fd242643e195f8f79c17d00298%20%3D%20L.marker%28%0A%20%20%20%20%20%20%20%20%20%20%20%20%20%20%20%20%5B48.8020856%2C%202.427514%5D%2C%0A%20%20%20%20%20%20%20%20%20%20%20%20%20%20%20%20%7B%7D%0A%20%20%20%20%20%20%20%20%20%20%20%20%29.addTo%28map_73cc60fe03974d5692c1bbbf97a40c69%29%3B%0A%20%20%20%20%20%20%20%20%0A%20%20%20%20%0A%20%20%20%20%20%20%20%20var%20popup_3d9152ec076b491abad64f91cccf84e5%20%3D%20L.popup%28%7B%22maxWidth%22%3A%20%22100%25%22%7D%29%3B%0A%0A%20%20%20%20%20%20%20%20%0A%20%20%20%20%20%20%20%20%20%20%20%20var%20html_03d8028f83934932a59a5210a6ab53af%20%3D%20%24%28%60%3Cdiv%20id%3D%22html_03d8028f83934932a59a5210a6ab53af%22%20style%3D%22width%3A%20100.0%25%3B%20height%3A%20100.0%25%3B%22%3ECaf%C3%A9%20de%20la%20Gare%3C/div%3E%60%29%5B0%5D%3B%0A%20%20%20%20%20%20%20%20%20%20%20%20popup_3d9152ec076b491abad64f91cccf84e5.setContent%28html_03d8028f83934932a59a5210a6ab53af%29%3B%0A%20%20%20%20%20%20%20%20%0A%0A%20%20%20%20%20%20%20%20marker_e6c9f2fd242643e195f8f79c17d00298.bindPopup%28popup_3d9152ec076b491abad64f91cccf84e5%29%0A%20%20%20%20%20%20%20%20%3B%0A%0A%20%20%20%20%20%20%20%20%0A%20%20%20%20%0A%20%20%20%20%0A%20%20%20%20%20%20%20%20%20%20%20%20var%20marker_78a939167e35448cb3fa8f766df7cd40%20%3D%20L.marker%28%0A%20%20%20%20%20%20%20%20%20%20%20%20%20%20%20%20%5B41.6976671%2C%209.0644945%5D%2C%0A%20%20%20%20%20%20%20%20%20%20%20%20%20%20%20%20%7B%7D%0A%20%20%20%20%20%20%20%20%20%20%20%20%29.addTo%28map_73cc60fe03974d5692c1bbbf97a40c69%29%3B%0A%20%20%20%20%20%20%20%20%0A%20%20%20%20%0A%20%20%20%20%20%20%20%20var%20popup_bdd873df17b24c2da4067ac962734119%20%3D%20L.popup%28%7B%22maxWidth%22%3A%20%22100%25%22%7D%29%3B%0A%0A%20%20%20%20%20%20%20%20%0A%20%20%20%20%20%20%20%20%20%20%20%20var%20html_eab6e60e3ff04a94a5bca4918aee6b05%20%3D%20%24%28%60%3Cdiv%20id%3D%22html_eab6e60e3ff04a94a5bca4918aee6b05%22%20style%3D%22width%3A%20100.0%25%3B%20height%3A%20100.0%25%3B%22%3Enan%3C/div%3E%60%29%5B0%5D%3B%0A%20%20%20%20%20%20%20%20%20%20%20%20popup_bdd873df17b24c2da4067ac962734119.setContent%28html_eab6e60e3ff04a94a5bca4918aee6b05%29%3B%0A%20%20%20%20%20%20%20%20%0A%0A%20%20%20%20%20%20%20%20marker_78a939167e35448cb3fa8f766df7cd40.bindPopup%28popup_bdd873df17b24c2da4067ac962734119%29%0A%20%20%20%20%20%20%20%20%3B%0A%0A%20%20%20%20%20%20%20%20%0A%20%20%20%20%0A%20%20%20%20%0A%20%20%20%20%20%20%20%20%20%20%20%20var%20marker_2867e2dc480e4304a41c32a245de2e29%20%3D%20L.marker%28%0A%20%20%20%20%20%20%20%20%20%20%20%20%20%20%20%20%5B43.788717%2C%204.8299152%5D%2C%0A%20%20%20%20%20%20%20%20%20%20%20%20%20%20%20%20%7B%7D%0A%20%20%20%20%20%20%20%20%20%20%20%20%29.addTo%28map_73cc60fe03974d5692c1bbbf97a40c69%29%3B%0A%20%20%20%20%20%20%20%20%0A%20%20%20%20%0A%20%20%20%20%20%20%20%20var%20popup_3ef893bdcef24075b70dc04071f0676f%20%3D%20L.popup%28%7B%22maxWidth%22%3A%20%22100%25%22%7D%29%3B%0A%0A%20%20%20%20%20%20%20%20%0A%20%20%20%20%20%20%20%20%20%20%20%20var%20html_a948a145700046c296cda14ff41af132%20%3D%20%24%28%60%3Cdiv%20id%3D%22html_a948a145700046c296cda14ff41af132%22%20style%3D%22width%3A%20100.0%25%3B%20height%3A%20100.0%25%3B%22%3EBrasserie%20du%20Commerce%3C/div%3E%60%29%5B0%5D%3B%0A%20%20%20%20%20%20%20%20%20%20%20%20popup_3ef893bdcef24075b70dc04071f0676f.setContent%28html_a948a145700046c296cda14ff41af132%29%3B%0A%20%20%20%20%20%20%20%20%0A%0A%20%20%20%20%20%20%20%20marker_2867e2dc480e4304a41c32a245de2e29.bindPopup%28popup_3ef893bdcef24075b70dc04071f0676f%29%0A%20%20%20%20%20%20%20%20%3B%0A%0A%20%20%20%20%20%20%20%20%0A%20%20%20%20%0A%20%20%20%20%0A%20%20%20%20%20%20%20%20%20%20%20%20var%20marker_52a09aab4b564814b17f6cc1488d3655%20%3D%20L.marker%28%0A%20%20%20%20%20%20%20%20%20%20%20%20%20%20%20%20%5B45.5853255%2C%205.2768205%5D%2C%0A%20%20%20%20%20%20%20%20%20%20%20%20%20%20%20%20%7B%7D%0A%20%20%20%20%20%20%20%20%20%20%20%20%29.addTo%28map_73cc60fe03974d5692c1bbbf97a40c69%29%3B%0A%20%20%20%20%20%20%20%20%0A%20%20%20%20%0A%20%20%20%20%20%20%20%20var%20popup_7201226c7dc2464d9fe4c3873ddbca50%20%3D%20L.popup%28%7B%22maxWidth%22%3A%20%22100%25%22%7D%29%3B%0A%0A%20%20%20%20%20%20%20%20%0A%20%20%20%20%20%20%20%20%20%20%20%20var%20html_0e40c91c9de94aef9525a9a6ee38197f%20%3D%20%24%28%60%3Cdiv%20id%3D%22html_0e40c91c9de94aef9525a9a6ee38197f%22%20style%3D%22width%3A%20100.0%25%3B%20height%3A%20100.0%25%3B%22%3EL%27atelier%20de%20Chico%3C/div%3E%60%29%5B0%5D%3B%0A%20%20%20%20%20%20%20%20%20%20%20%20popup_7201226c7dc2464d9fe4c3873ddbca50.setContent%28html_0e40c91c9de94aef9525a9a6ee38197f%29%3B%0A%20%20%20%20%20%20%20%20%0A%0A%20%20%20%20%20%20%20%20marker_52a09aab4b564814b17f6cc1488d3655.bindPopup%28popup_7201226c7dc2464d9fe4c3873ddbca50%29%0A%20%20%20%20%20%20%20%20%3B%0A%0A%20%20%20%20%20%20%20%20%0A%20%20%20%20%0A%20%20%20%20%0A%20%20%20%20%20%20%20%20%20%20%20%20var%20marker_d91c152287bd47448020fd339ada0445%20%3D%20L.marker%28%0A%20%20%20%20%20%20%20%20%20%20%20%20%20%20%20%20%5B45.7729836%2C%203.0815387%5D%2C%0A%20%20%20%20%20%20%20%20%20%20%20%20%20%20%20%20%7B%7D%0A%20%20%20%20%20%20%20%20%20%20%20%20%29.addTo%28map_73cc60fe03974d5692c1bbbf97a40c69%29%3B%0A%20%20%20%20%20%20%20%20%0A%20%20%20%20%0A%20%20%20%20%20%20%20%20var%20popup_0e353198688c4054a7473aec34cf3f18%20%3D%20L.popup%28%7B%22maxWidth%22%3A%20%22100%25%22%7D%29%3B%0A%0A%20%20%20%20%20%20%20%20%0A%20%20%20%20%20%20%20%20%20%20%20%20var%20html_d2f4ab5cc40940318b708cd232557371%20%3D%20%24%28%60%3Cdiv%20id%3D%22html_d2f4ab5cc40940318b708cd232557371%22%20style%3D%22width%3A%20100.0%25%3B%20height%3A%20100.0%25%3B%22%3ELes%20Libellules%3C/div%3E%60%29%5B0%5D%3B%0A%20%20%20%20%20%20%20%20%20%20%20%20popup_0e353198688c4054a7473aec34cf3f18.setContent%28html_d2f4ab5cc40940318b708cd232557371%29%3B%0A%20%20%20%20%20%20%20%20%0A%0A%20%20%20%20%20%20%20%20marker_d91c152287bd47448020fd339ada0445.bindPopup%28popup_0e353198688c4054a7473aec34cf3f18%29%0A%20%20%20%20%20%20%20%20%3B%0A%0A%20%20%20%20%20%20%20%20%0A%20%20%20%20%0A%20%20%20%20%0A%20%20%20%20%20%20%20%20%20%20%20%20var%20marker_731228f0f3cf43bfb8a9212a32aa4244%20%3D%20L.marker%28%0A%20%20%20%20%20%20%20%20%20%20%20%20%20%20%20%20%5B42.2572414%2C%208.7419293%5D%2C%0A%20%20%20%20%20%20%20%20%20%20%20%20%20%20%20%20%7B%7D%0A%20%20%20%20%20%20%20%20%20%20%20%20%29.addTo%28map_73cc60fe03974d5692c1bbbf97a40c69%29%3B%0A%20%20%20%20%20%20%20%20%0A%20%20%20%20%0A%20%20%20%20%20%20%20%20var%20popup_c990d66f48be464d90b81048001ddf1c%20%3D%20L.popup%28%7B%22maxWidth%22%3A%20%22100%25%22%7D%29%3B%0A%0A%20%20%20%20%20%20%20%20%0A%20%20%20%20%20%20%20%20%20%20%20%20var%20html_8cfe8b5d9f7b4df396a4379b9dae2a22%20%3D%20%24%28%60%3Cdiv%20id%3D%22html_8cfe8b5d9f7b4df396a4379b9dae2a22%22%20style%3D%22width%3A%20100.0%25%3B%20height%3A%20100.0%25%3B%22%3EBar%20des%20Chasseurs%3C/div%3E%60%29%5B0%5D%3B%0A%20%20%20%20%20%20%20%20%20%20%20%20popup_c990d66f48be464d90b81048001ddf1c.setContent%28html_8cfe8b5d9f7b4df396a4379b9dae2a22%29%3B%0A%20%20%20%20%20%20%20%20%0A%0A%20%20%20%20%20%20%20%20marker_731228f0f3cf43bfb8a9212a32aa4244.bindPopup%28popup_c990d66f48be464d90b81048001ddf1c%29%0A%20%20%20%20%20%20%20%20%3B%0A%0A%20%20%20%20%20%20%20%20%0A%20%20%20%20%0A%20%20%20%20%0A%20%20%20%20%20%20%20%20%20%20%20%20var%20marker_f0259ab699fe41039f9e8989001ec5cb%20%3D%20L.marker%28%0A%20%20%20%20%20%20%20%20%20%20%20%20%20%20%20%20%5B45.1861757%2C%204.3163635%5D%2C%0A%20%20%20%20%20%20%20%20%20%20%20%20%20%20%20%20%7B%7D%0A%20%20%20%20%20%20%20%20%20%20%20%20%29.addTo%28map_73cc60fe03974d5692c1bbbf97a40c69%29%3B%0A%20%20%20%20%20%20%20%20%0A%20%20%20%20%0A%20%20%20%20%20%20%20%20var%20popup_1fa1ccedd38443eaadff7a152c7334c7%20%3D%20L.popup%28%7B%22maxWidth%22%3A%20%22100%25%22%7D%29%3B%0A%0A%20%20%20%20%20%20%20%20%0A%20%20%20%20%20%20%20%20%20%20%20%20var%20html_722ab43380ca45f2ade23977407d553e%20%3D%20%24%28%60%3Cdiv%20id%3D%22html_722ab43380ca45f2ade23977407d553e%22%20style%3D%22width%3A%20100.0%25%3B%20height%3A%20100.0%25%3B%22%3EBar%20du%20Midi%3C/div%3E%60%29%5B0%5D%3B%0A%20%20%20%20%20%20%20%20%20%20%20%20popup_1fa1ccedd38443eaadff7a152c7334c7.setContent%28html_722ab43380ca45f2ade23977407d553e%29%3B%0A%20%20%20%20%20%20%20%20%0A%0A%20%20%20%20%20%20%20%20marker_f0259ab699fe41039f9e8989001ec5cb.bindPopup%28popup_1fa1ccedd38443eaadff7a152c7334c7%29%0A%20%20%20%20%20%20%20%20%3B%0A%0A%20%20%20%20%20%20%20%20%0A%20%20%20%20%0A%20%20%20%20%0A%20%20%20%20%20%20%20%20%20%20%20%20var%20marker_73c6f378be244da6bcf604c989f74ec6%20%3D%20L.marker%28%0A%20%20%20%20%20%20%20%20%20%20%20%20%20%20%20%20%5B47.5900819%2C%20-2.8025644%5D%2C%0A%20%20%20%20%20%20%20%20%20%20%20%20%20%20%20%20%7B%7D%0A%20%20%20%20%20%20%20%20%20%20%20%20%29.addTo%28map_73cc60fe03974d5692c1bbbf97a40c69%29%3B%0A%20%20%20%20%20%20%20%20%0A%20%20%20%20%0A%20%20%20%20%20%20%20%20var%20popup_3f59daea9cd04fb0b7f071087f4eb49d%20%3D%20L.popup%28%7B%22maxWidth%22%3A%20%22100%25%22%7D%29%3B%0A%0A%20%20%20%20%20%20%20%20%0A%20%20%20%20%20%20%20%20%20%20%20%20var%20html_e2e54128143848f7949bcd13dc86d8ae%20%3D%20%24%28%60%3Cdiv%20id%3D%22html_e2e54128143848f7949bcd13dc86d8ae%22%20style%3D%22width%3A%20100.0%25%3B%20height%3A%20100.0%25%3B%22%3ELe%20Triskel%3C/div%3E%60%29%5B0%5D%3B%0A%20%20%20%20%20%20%20%20%20%20%20%20popup_3f59daea9cd04fb0b7f071087f4eb49d.setContent%28html_e2e54128143848f7949bcd13dc86d8ae%29%3B%0A%20%20%20%20%20%20%20%20%0A%0A%20%20%20%20%20%20%20%20marker_73c6f378be244da6bcf604c989f74ec6.bindPopup%28popup_3f59daea9cd04fb0b7f071087f4eb49d%29%0A%20%20%20%20%20%20%20%20%3B%0A%0A%20%20%20%20%20%20%20%20%0A%20%20%20%20%0A%3C/script%3E onload=\"this.contentDocument.open();this.contentDocument.write(    decodeURIComponent(this.getAttribute('data-html')));this.contentDocument.close();\" allowfullscreen webkitallowfullscreen mozallowfullscreen></iframe></div></div>"
     },
     "execution_count": 52,
     "metadata": {},
     "output_type": "execute_result"
    }
   ],
   "source": [
    "# for lat,lon,name in zip(data_bars['Latitude'], data_bars['Longitude'], data_bars['Nom']):\n",
    "#     folium.Marker((lat,lon), popup=name).add_to(france)\n",
    "# vb = data_bars.iloc[0]\n",
    "# france\n",
    "\n",
    "# france = folium.Map(location=[46.5,2], zoom_start=5, tiles='Stamen Toner')\n",
    "#\n",
    "# colors = folium.Choropleth(geo_data = 'data/departements-version-simplifiee.geojson',\n",
    "#                            data = barNumber,\n",
    "#                            columns = ['département', 'prix'],\n",
    "#                            key_on = 'feature.properties.code',\n",
    "#                            fill_color = 'YlOrRd',\n",
    "#                            fill_opacity = 0.6,\n",
    "#                            line_opacity = 0.2,\n",
    "#                            legend_name = \"Prix de l\\\\'essence E10\"\n",
    "#                           )\n",
    "# colors.add_to(france)\n",
    "# folium.LayerControl().add_to(france)\n",
    "# france"
   ],
   "metadata": {
    "collapsed": false,
    "pycharm": {
     "name": "#%%\n"
    }
   }
  },
  {
   "cell_type": "code",
   "execution_count": null,
   "outputs": [],
   "source": [
    "data_revenus.rename(columns=lambda n : data_revenus[n][2], inplace= True)\n",
    "data_revenus.drop(index=[0, 1, 2], inplace=True)\n",
    "data_revenus"
   ],
   "metadata": {
    "collapsed": false,
    "pycharm": {
     "name": "#%%\n"
    }
   }
  },
  {
   "cell_type": "markdown",
   "source": [],
   "metadata": {
    "collapsed": false
   }
  },
  {
   "cell_type": "code",
   "execution_count": null,
   "outputs": [],
   "source": [
    "data_revenus[\"Revenu fiscal de référence par tranche (en euros)\"] = data_revenus[\"Revenu fiscal de référence par tranche (en euros)\"].str.strip()\n",
    "data_revenus = data_revenus[data_revenus[\"Revenu fiscal de référence par tranche (en euros)\"] == 'TOTAL']\n",
    "data_revenus"
   ],
   "metadata": {
    "collapsed": false,
    "pycharm": {
     "name": "#%%\n"
    }
   }
  }
 ]
}