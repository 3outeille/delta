{
 "cells": [
  {
   "cell_type": "code",
   "execution_count": 34,
   "id": "437f66b2",
   "metadata": {},
   "outputs": [
    {
     "data": {
      "application/vnd.plotly.v1+json": {
       "config": {
        "plotlyServerURL": "https://plot.ly"
       },
       "data": [
        {
         "hovertemplate": "<b>%{hovertext}</b><br><br>league=ligue1<br>Age=%{x}<br>Rk=%{y}<extra></extra>",
         "hovertext": [
          "AS Monaco",
          "Olympique Lyon",
          "FC Istres Ouest Provence",
          "SM Caen",
          "Ajaccio",
          "SC Bastia",
          "OGC Nice",
          "RC Strasbourg Alsace",
          "FC Metz",
          "Toulouse",
          "Saint-Etienne",
          "FC Nantes",
          "Auxerre",
          "FC Sochaux-Montbéliard",
          "RC Lens",
          "FC Girondins Bordeaux",
          "LOSC Lille",
          "Stade Rennais",
          "Olympique Marseille",
          "Paris Saint-Germain"
         ],
         "legendgroup": "ligue1",
         "marker": {
          "color": "#636efa",
          "symbol": "circle"
         },
         "mode": "markers",
         "name": "ligue1",
         "orientation": "v",
         "showlegend": true,
         "type": "scatter",
         "x": [
          23.780488,
          24.032258,
          25.365854,
          24.642857,
          27.142857,
          26.451613,
          25.295455,
          23.724138,
          23.021739,
          23.137931,
          23.515152,
          23.181818,
          22.791667,
          24,
          25.026316,
          23.53125,
          24.410256,
          24.354839,
          25.169811,
          24.85
         ],
         "xaxis": "x",
         "y": [
          3,
          1,
          20,
          18,
          14,
          19,
          12,
          11,
          16,
          13,
          6,
          17,
          8,
          10,
          7,
          15,
          2,
          4,
          5,
          9
         ],
         "yaxis": "y"
        },
        {
         "hovertemplate": "<b>%{hovertext}</b><br><br>league=PL<br>Age=%{x}<br>Rk=%{y}<extra></extra>",
         "hovertext": [
          "Birmingham City",
          "Newcastle United",
          "Tottenham Hotspur",
          "Liverpool FC",
          "Arsenal FC",
          "Manchester United",
          "Norwich City",
          "Chelsea FC FC",
          "Crystal Palace",
          "West Bromwich Albion",
          "Charlton Athletic",
          "Portsmouth FC",
          "Bolton Wanderers",
          "Fulham FC",
          "Blackburn Rovers",
          "Everton FC",
          "Aston Villa",
          "Southampton FC",
          "Middlesbrough",
          "Manchester City"
         ],
         "legendgroup": "PL",
         "marker": {
          "color": "#EF553B",
          "symbol": "circle"
         },
         "mode": "markers",
         "name": "PL",
         "orientation": "v",
         "showlegend": true,
         "type": "scatter",
         "x": [
          24.42,
          23.722222,
          23.485714,
          22.837209,
          22.829268,
          21.846154,
          25.424242,
          24.521739,
          24.818182,
          24.829268,
          24.527778,
          24.47619,
          25.66,
          23.021277,
          25.285714,
          25,
          22.290323,
          23.262295,
          24.069767,
          24.722222
         ],
         "xaxis": "x",
         "y": [
          12,
          14,
          9,
          5,
          2,
          3,
          19,
          1,
          18,
          17,
          11,
          16,
          6,
          13,
          15,
          4,
          10,
          20,
          7,
          8
         ],
         "yaxis": "y"
        },
        {
         "hovertemplate": "<b>%{hovertext}</b><br><br>league=serieA<br>Age=%{x}<br>Rk=%{y}<extra></extra>",
         "hovertext": [
          "Parma FC",
          "ACF Fiorentina",
          "AS Roma",
          "Cagliari Calcio",
          "Inter Milan",
          "AS Livorno",
          "AC Milan",
          "Reggina Calcio",
          "Bologna FC 1909",
          "Juventus FC",
          "FC Messina Peloro",
          "Atalanta BC",
          "US Lecce",
          "Brescia Calcio",
          "Chievo Verona",
          "UC Sampdoria",
          "AC Siena",
          "SS Lazio",
          "US Palermo",
          "Udinese Calcio"
         ],
         "legendgroup": "serieA",
         "marker": {
          "color": "#00cc96",
          "symbol": "circle"
         },
         "mode": "markers",
         "name": "serieA",
         "orientation": "v",
         "showlegend": true,
         "type": "scatter",
         "x": [
          24.693878,
          25.128205,
          22.5,
          24.409091,
          23.65625,
          24.090909,
          23.551724,
          25.285714,
          25.764706,
          23.4,
          24.810811,
          23.529412,
          23.3,
          23.742857,
          23.903846,
          24.947368,
          26.285714,
          26.823529,
          24.45,
          24.62069
         ],
         "xaxis": "x",
         "y": [
          17,
          16,
          8,
          12,
          3,
          9,
          2,
          10,
          18,
          1,
          7,
          20,
          11,
          19,
          15,
          5,
          14,
          13,
          6,
          4
         ],
         "yaxis": "y"
        },
        {
         "hovertemplate": "<b>%{hovertext}</b><br><br>league=liga<br>Age=%{x}<br>Rk=%{y}<extra></extra>",
         "hovertext": [
          "Atlético de Madrid",
          "CD Numancia",
          "Getafe CF",
          "Deportivo de La Coruña",
          "Valencia CF",
          "Albacete Balompié",
          "Levante UD",
          "CA Osasuna",
          "FC Barcelona",
          "Real Madrid",
          "Málaga CF",
          "Racing Santander",
          "RCD Mallorca",
          "RCD Espanyol Barcelona",
          "Real Zaragoza",
          "Athletic Bilbao",
          "Real Sociedad",
          "Villarreal CF",
          "Sevilla FC",
          "Real Betis Balompié"
         ],
         "legendgroup": "liga",
         "marker": {
          "color": "#ab63fa",
          "symbol": "circle"
         },
         "mode": "markers",
         "name": "liga",
         "orientation": "v",
         "showlegend": true,
         "type": "scatter",
         "x": [
          25.456522,
          26.235294,
          26.48,
          28.346154,
          23.828571,
          25.368421,
          27.217391,
          25.818182,
          27,
          24.952381,
          26.2,
          24.866667,
          26.315789,
          26.529412,
          26.92,
          22.222222,
          24.4,
          24.611111,
          24.111111,
          27.45
         ],
         "xaxis": "x",
         "y": [
          11,
          19,
          13,
          9,
          7,
          20,
          18,
          15,
          1,
          2,
          10,
          16,
          17,
          5,
          12,
          8,
          14,
          3,
          6,
          4
         ],
         "yaxis": "y"
        },
        {
         "hovertemplate": "<b>%{hovertext}</b><br><br>league=bundesliga<br>Age=%{x}<br>Rk=%{y}<extra></extra>",
         "hovertext": [
          "FSV Mainz 05",
          "Bayern Munich",
          "SC Freiburg",
          "Arminia Bielefeld",
          "Hansa Rostock",
          "VfL Bochum",
          "Kaiserslautern",
          "Nuremberg",
          "Hannover 96",
          "Borussia Mönchengladbach",
          "VfL Wolfsburg",
          "Hamburger SV",
          "Hertha BSC",
          "Borussia Dortmund",
          "VfB Stuttgart",
          "Schalke 04",
          "Bayer 04 Leverkusen",
          "SV Werder Bremen"
         ],
         "legendgroup": "bundesliga",
         "marker": {
          "color": "#FFA15A",
          "symbol": "circle"
         },
         "mode": "markers",
         "name": "bundesliga",
         "orientation": "v",
         "showlegend": true,
         "type": "scatter",
         "x": [
          25.380952,
          25.555556,
          23.4,
          23.785714,
          27.125,
          25.375,
          26.793103,
          26.733333,
          25.815789,
          28.194444,
          24.263158,
          23.903226,
          23.545455,
          24,
          23.6,
          25.64,
          24.076923,
          25.76
         ],
         "xaxis": "x",
         "y": [
          11,
          1,
          18,
          13,
          17,
          16,
          12,
          14,
          10,
          15,
          9,
          8,
          4,
          7,
          5,
          2,
          6,
          3
         ],
         "yaxis": "y"
        }
       ],
       "layout": {
        "legend": {
         "title": {
          "text": "league"
         },
         "tracegroupgap": 0
        },
        "margin": {
         "t": 60
        },
        "template": {
         "data": {
          "bar": [
           {
            "error_x": {
             "color": "#2a3f5f"
            },
            "error_y": {
             "color": "#2a3f5f"
            },
            "marker": {
             "line": {
              "color": "#E5ECF6",
              "width": 0.5
             },
             "pattern": {
              "fillmode": "overlay",
              "size": 10,
              "solidity": 0.2
             }
            },
            "type": "bar"
           }
          ],
          "barpolar": [
           {
            "marker": {
             "line": {
              "color": "#E5ECF6",
              "width": 0.5
             },
             "pattern": {
              "fillmode": "overlay",
              "size": 10,
              "solidity": 0.2
             }
            },
            "type": "barpolar"
           }
          ],
          "carpet": [
           {
            "aaxis": {
             "endlinecolor": "#2a3f5f",
             "gridcolor": "white",
             "linecolor": "white",
             "minorgridcolor": "white",
             "startlinecolor": "#2a3f5f"
            },
            "baxis": {
             "endlinecolor": "#2a3f5f",
             "gridcolor": "white",
             "linecolor": "white",
             "minorgridcolor": "white",
             "startlinecolor": "#2a3f5f"
            },
            "type": "carpet"
           }
          ],
          "choropleth": [
           {
            "colorbar": {
             "outlinewidth": 0,
             "ticks": ""
            },
            "type": "choropleth"
           }
          ],
          "contour": [
           {
            "colorbar": {
             "outlinewidth": 0,
             "ticks": ""
            },
            "colorscale": [
             [
              0,
              "#0d0887"
             ],
             [
              0.1111111111111111,
              "#46039f"
             ],
             [
              0.2222222222222222,
              "#7201a8"
             ],
             [
              0.3333333333333333,
              "#9c179e"
             ],
             [
              0.4444444444444444,
              "#bd3786"
             ],
             [
              0.5555555555555556,
              "#d8576b"
             ],
             [
              0.6666666666666666,
              "#ed7953"
             ],
             [
              0.7777777777777778,
              "#fb9f3a"
             ],
             [
              0.8888888888888888,
              "#fdca26"
             ],
             [
              1,
              "#f0f921"
             ]
            ],
            "type": "contour"
           }
          ],
          "contourcarpet": [
           {
            "colorbar": {
             "outlinewidth": 0,
             "ticks": ""
            },
            "type": "contourcarpet"
           }
          ],
          "heatmap": [
           {
            "colorbar": {
             "outlinewidth": 0,
             "ticks": ""
            },
            "colorscale": [
             [
              0,
              "#0d0887"
             ],
             [
              0.1111111111111111,
              "#46039f"
             ],
             [
              0.2222222222222222,
              "#7201a8"
             ],
             [
              0.3333333333333333,
              "#9c179e"
             ],
             [
              0.4444444444444444,
              "#bd3786"
             ],
             [
              0.5555555555555556,
              "#d8576b"
             ],
             [
              0.6666666666666666,
              "#ed7953"
             ],
             [
              0.7777777777777778,
              "#fb9f3a"
             ],
             [
              0.8888888888888888,
              "#fdca26"
             ],
             [
              1,
              "#f0f921"
             ]
            ],
            "type": "heatmap"
           }
          ],
          "heatmapgl": [
           {
            "colorbar": {
             "outlinewidth": 0,
             "ticks": ""
            },
            "colorscale": [
             [
              0,
              "#0d0887"
             ],
             [
              0.1111111111111111,
              "#46039f"
             ],
             [
              0.2222222222222222,
              "#7201a8"
             ],
             [
              0.3333333333333333,
              "#9c179e"
             ],
             [
              0.4444444444444444,
              "#bd3786"
             ],
             [
              0.5555555555555556,
              "#d8576b"
             ],
             [
              0.6666666666666666,
              "#ed7953"
             ],
             [
              0.7777777777777778,
              "#fb9f3a"
             ],
             [
              0.8888888888888888,
              "#fdca26"
             ],
             [
              1,
              "#f0f921"
             ]
            ],
            "type": "heatmapgl"
           }
          ],
          "histogram": [
           {
            "marker": {
             "pattern": {
              "fillmode": "overlay",
              "size": 10,
              "solidity": 0.2
             }
            },
            "type": "histogram"
           }
          ],
          "histogram2d": [
           {
            "colorbar": {
             "outlinewidth": 0,
             "ticks": ""
            },
            "colorscale": [
             [
              0,
              "#0d0887"
             ],
             [
              0.1111111111111111,
              "#46039f"
             ],
             [
              0.2222222222222222,
              "#7201a8"
             ],
             [
              0.3333333333333333,
              "#9c179e"
             ],
             [
              0.4444444444444444,
              "#bd3786"
             ],
             [
              0.5555555555555556,
              "#d8576b"
             ],
             [
              0.6666666666666666,
              "#ed7953"
             ],
             [
              0.7777777777777778,
              "#fb9f3a"
             ],
             [
              0.8888888888888888,
              "#fdca26"
             ],
             [
              1,
              "#f0f921"
             ]
            ],
            "type": "histogram2d"
           }
          ],
          "histogram2dcontour": [
           {
            "colorbar": {
             "outlinewidth": 0,
             "ticks": ""
            },
            "colorscale": [
             [
              0,
              "#0d0887"
             ],
             [
              0.1111111111111111,
              "#46039f"
             ],
             [
              0.2222222222222222,
              "#7201a8"
             ],
             [
              0.3333333333333333,
              "#9c179e"
             ],
             [
              0.4444444444444444,
              "#bd3786"
             ],
             [
              0.5555555555555556,
              "#d8576b"
             ],
             [
              0.6666666666666666,
              "#ed7953"
             ],
             [
              0.7777777777777778,
              "#fb9f3a"
             ],
             [
              0.8888888888888888,
              "#fdca26"
             ],
             [
              1,
              "#f0f921"
             ]
            ],
            "type": "histogram2dcontour"
           }
          ],
          "mesh3d": [
           {
            "colorbar": {
             "outlinewidth": 0,
             "ticks": ""
            },
            "type": "mesh3d"
           }
          ],
          "parcoords": [
           {
            "line": {
             "colorbar": {
              "outlinewidth": 0,
              "ticks": ""
             }
            },
            "type": "parcoords"
           }
          ],
          "pie": [
           {
            "automargin": true,
            "type": "pie"
           }
          ],
          "scatter": [
           {
            "marker": {
             "colorbar": {
              "outlinewidth": 0,
              "ticks": ""
             }
            },
            "type": "scatter"
           }
          ],
          "scatter3d": [
           {
            "line": {
             "colorbar": {
              "outlinewidth": 0,
              "ticks": ""
             }
            },
            "marker": {
             "colorbar": {
              "outlinewidth": 0,
              "ticks": ""
             }
            },
            "type": "scatter3d"
           }
          ],
          "scattercarpet": [
           {
            "marker": {
             "colorbar": {
              "outlinewidth": 0,
              "ticks": ""
             }
            },
            "type": "scattercarpet"
           }
          ],
          "scattergeo": [
           {
            "marker": {
             "colorbar": {
              "outlinewidth": 0,
              "ticks": ""
             }
            },
            "type": "scattergeo"
           }
          ],
          "scattergl": [
           {
            "marker": {
             "colorbar": {
              "outlinewidth": 0,
              "ticks": ""
             }
            },
            "type": "scattergl"
           }
          ],
          "scattermapbox": [
           {
            "marker": {
             "colorbar": {
              "outlinewidth": 0,
              "ticks": ""
             }
            },
            "type": "scattermapbox"
           }
          ],
          "scatterpolar": [
           {
            "marker": {
             "colorbar": {
              "outlinewidth": 0,
              "ticks": ""
             }
            },
            "type": "scatterpolar"
           }
          ],
          "scatterpolargl": [
           {
            "marker": {
             "colorbar": {
              "outlinewidth": 0,
              "ticks": ""
             }
            },
            "type": "scatterpolargl"
           }
          ],
          "scatterternary": [
           {
            "marker": {
             "colorbar": {
              "outlinewidth": 0,
              "ticks": ""
             }
            },
            "type": "scatterternary"
           }
          ],
          "surface": [
           {
            "colorbar": {
             "outlinewidth": 0,
             "ticks": ""
            },
            "colorscale": [
             [
              0,
              "#0d0887"
             ],
             [
              0.1111111111111111,
              "#46039f"
             ],
             [
              0.2222222222222222,
              "#7201a8"
             ],
             [
              0.3333333333333333,
              "#9c179e"
             ],
             [
              0.4444444444444444,
              "#bd3786"
             ],
             [
              0.5555555555555556,
              "#d8576b"
             ],
             [
              0.6666666666666666,
              "#ed7953"
             ],
             [
              0.7777777777777778,
              "#fb9f3a"
             ],
             [
              0.8888888888888888,
              "#fdca26"
             ],
             [
              1,
              "#f0f921"
             ]
            ],
            "type": "surface"
           }
          ],
          "table": [
           {
            "cells": {
             "fill": {
              "color": "#EBF0F8"
             },
             "line": {
              "color": "white"
             }
            },
            "header": {
             "fill": {
              "color": "#C8D4E3"
             },
             "line": {
              "color": "white"
             }
            },
            "type": "table"
           }
          ]
         },
         "layout": {
          "annotationdefaults": {
           "arrowcolor": "#2a3f5f",
           "arrowhead": 0,
           "arrowwidth": 1
          },
          "autotypenumbers": "strict",
          "coloraxis": {
           "colorbar": {
            "outlinewidth": 0,
            "ticks": ""
           }
          },
          "colorscale": {
           "diverging": [
            [
             0,
             "#8e0152"
            ],
            [
             0.1,
             "#c51b7d"
            ],
            [
             0.2,
             "#de77ae"
            ],
            [
             0.3,
             "#f1b6da"
            ],
            [
             0.4,
             "#fde0ef"
            ],
            [
             0.5,
             "#f7f7f7"
            ],
            [
             0.6,
             "#e6f5d0"
            ],
            [
             0.7,
             "#b8e186"
            ],
            [
             0.8,
             "#7fbc41"
            ],
            [
             0.9,
             "#4d9221"
            ],
            [
             1,
             "#276419"
            ]
           ],
           "sequential": [
            [
             0,
             "#0d0887"
            ],
            [
             0.1111111111111111,
             "#46039f"
            ],
            [
             0.2222222222222222,
             "#7201a8"
            ],
            [
             0.3333333333333333,
             "#9c179e"
            ],
            [
             0.4444444444444444,
             "#bd3786"
            ],
            [
             0.5555555555555556,
             "#d8576b"
            ],
            [
             0.6666666666666666,
             "#ed7953"
            ],
            [
             0.7777777777777778,
             "#fb9f3a"
            ],
            [
             0.8888888888888888,
             "#fdca26"
            ],
            [
             1,
             "#f0f921"
            ]
           ],
           "sequentialminus": [
            [
             0,
             "#0d0887"
            ],
            [
             0.1111111111111111,
             "#46039f"
            ],
            [
             0.2222222222222222,
             "#7201a8"
            ],
            [
             0.3333333333333333,
             "#9c179e"
            ],
            [
             0.4444444444444444,
             "#bd3786"
            ],
            [
             0.5555555555555556,
             "#d8576b"
            ],
            [
             0.6666666666666666,
             "#ed7953"
            ],
            [
             0.7777777777777778,
             "#fb9f3a"
            ],
            [
             0.8888888888888888,
             "#fdca26"
            ],
            [
             1,
             "#f0f921"
            ]
           ]
          },
          "colorway": [
           "#636efa",
           "#EF553B",
           "#00cc96",
           "#ab63fa",
           "#FFA15A",
           "#19d3f3",
           "#FF6692",
           "#B6E880",
           "#FF97FF",
           "#FECB52"
          ],
          "font": {
           "color": "#2a3f5f"
          },
          "geo": {
           "bgcolor": "white",
           "lakecolor": "white",
           "landcolor": "#E5ECF6",
           "showlakes": true,
           "showland": true,
           "subunitcolor": "white"
          },
          "hoverlabel": {
           "align": "left"
          },
          "hovermode": "closest",
          "mapbox": {
           "style": "light"
          },
          "paper_bgcolor": "white",
          "plot_bgcolor": "#E5ECF6",
          "polar": {
           "angularaxis": {
            "gridcolor": "white",
            "linecolor": "white",
            "ticks": ""
           },
           "bgcolor": "#E5ECF6",
           "radialaxis": {
            "gridcolor": "white",
            "linecolor": "white",
            "ticks": ""
           }
          },
          "scene": {
           "xaxis": {
            "backgroundcolor": "#E5ECF6",
            "gridcolor": "white",
            "gridwidth": 2,
            "linecolor": "white",
            "showbackground": true,
            "ticks": "",
            "zerolinecolor": "white"
           },
           "yaxis": {
            "backgroundcolor": "#E5ECF6",
            "gridcolor": "white",
            "gridwidth": 2,
            "linecolor": "white",
            "showbackground": true,
            "ticks": "",
            "zerolinecolor": "white"
           },
           "zaxis": {
            "backgroundcolor": "#E5ECF6",
            "gridcolor": "white",
            "gridwidth": 2,
            "linecolor": "white",
            "showbackground": true,
            "ticks": "",
            "zerolinecolor": "white"
           }
          },
          "shapedefaults": {
           "line": {
            "color": "#2a3f5f"
           }
          },
          "ternary": {
           "aaxis": {
            "gridcolor": "white",
            "linecolor": "white",
            "ticks": ""
           },
           "baxis": {
            "gridcolor": "white",
            "linecolor": "white",
            "ticks": ""
           },
           "bgcolor": "#E5ECF6",
           "caxis": {
            "gridcolor": "white",
            "linecolor": "white",
            "ticks": ""
           }
          },
          "title": {
           "x": 0.05
          },
          "xaxis": {
           "automargin": true,
           "gridcolor": "white",
           "linecolor": "white",
           "ticks": "",
           "title": {
            "standoff": 15
           },
           "zerolinecolor": "white",
           "zerolinewidth": 2
          },
          "yaxis": {
           "automargin": true,
           "gridcolor": "white",
           "linecolor": "white",
           "ticks": "",
           "title": {
            "standoff": 15
           },
           "zerolinecolor": "white",
           "zerolinewidth": 2
          }
         }
        },
        "xaxis": {
         "anchor": "y",
         "domain": [
          0,
          1
         ],
         "title": {
          "text": "Age"
         }
        },
        "yaxis": {
         "anchor": "x",
         "domain": [
          0,
          1
         ],
         "title": {
          "text": "Rk"
         }
        }
       }
      },
      "text/html": [
       "<div>                            <div id=\"44bdd711-6bd2-4942-80d8-67e9f404581b\" class=\"plotly-graph-div\" style=\"height:525px; width:100%;\"></div>            <script type=\"text/javascript\">                require([\"plotly\"], function(Plotly) {                    window.PLOTLYENV=window.PLOTLYENV || {};                                    if (document.getElementById(\"44bdd711-6bd2-4942-80d8-67e9f404581b\")) {                    Plotly.newPlot(                        \"44bdd711-6bd2-4942-80d8-67e9f404581b\",                        [{\"hovertemplate\":\"<b>%{hovertext}</b><br><br>league=ligue1<br>Age=%{x}<br>Rk=%{y}<extra></extra>\",\"hovertext\":[\"AS Monaco\",\"Olympique Lyon\",\"FC Istres Ouest Provence\",\"SM Caen\",\"Ajaccio\",\"SC Bastia\",\"OGC Nice\",\"RC Strasbourg Alsace\",\"FC Metz\",\"Toulouse\",\"Saint-Etienne\",\"FC Nantes\",\"Auxerre\",\"FC Sochaux-Montb\\u00e9liard\",\"RC Lens\",\"FC Girondins Bordeaux\",\"LOSC Lille\",\"Stade Rennais\",\"Olympique Marseille\",\"Paris Saint-Germain\"],\"legendgroup\":\"ligue1\",\"marker\":{\"color\":\"#636efa\",\"symbol\":\"circle\"},\"mode\":\"markers\",\"name\":\"ligue1\",\"orientation\":\"v\",\"showlegend\":true,\"x\":[23.780488,24.032258,25.365854,24.642857,27.142857,26.451613,25.295455,23.724138,23.021739,23.137931,23.515152,23.181818,22.791667,24.0,25.026316,23.53125,24.410256,24.354839,25.169811,24.85],\"xaxis\":\"x\",\"y\":[3,1,20,18,14,19,12,11,16,13,6,17,8,10,7,15,2,4,5,9],\"yaxis\":\"y\",\"type\":\"scatter\"},{\"hovertemplate\":\"<b>%{hovertext}</b><br><br>league=PL<br>Age=%{x}<br>Rk=%{y}<extra></extra>\",\"hovertext\":[\"Birmingham City\",\"Newcastle United\",\"Tottenham Hotspur\",\"Liverpool FC\",\"Arsenal FC\",\"Manchester United\",\"Norwich City\",\"Chelsea FC FC\",\"Crystal Palace\",\"West Bromwich Albion\",\"Charlton Athletic\",\"Portsmouth FC\",\"Bolton Wanderers\",\"Fulham FC\",\"Blackburn Rovers\",\"Everton FC\",\"Aston Villa\",\"Southampton FC\",\"Middlesbrough\",\"Manchester City\"],\"legendgroup\":\"PL\",\"marker\":{\"color\":\"#EF553B\",\"symbol\":\"circle\"},\"mode\":\"markers\",\"name\":\"PL\",\"orientation\":\"v\",\"showlegend\":true,\"x\":[24.42,23.722222,23.485714,22.837209,22.829268,21.846154,25.424242,24.521739,24.818182,24.829268,24.527778,24.47619,25.66,23.021277,25.285714,25.0,22.290323,23.262295,24.069767,24.722222],\"xaxis\":\"x\",\"y\":[12,14,9,5,2,3,19,1,18,17,11,16,6,13,15,4,10,20,7,8],\"yaxis\":\"y\",\"type\":\"scatter\"},{\"hovertemplate\":\"<b>%{hovertext}</b><br><br>league=serieA<br>Age=%{x}<br>Rk=%{y}<extra></extra>\",\"hovertext\":[\"Parma FC\",\"ACF Fiorentina\",\"AS Roma\",\"Cagliari Calcio\",\"Inter Milan\",\"AS Livorno\",\"AC Milan\",\"Reggina Calcio\",\"Bologna FC 1909\",\"Juventus FC\",\"FC Messina Peloro\",\"Atalanta BC\",\"US Lecce\",\"Brescia Calcio\",\"Chievo Verona\",\"UC Sampdoria\",\"AC Siena\",\"SS Lazio\",\"US Palermo\",\"Udinese Calcio\"],\"legendgroup\":\"serieA\",\"marker\":{\"color\":\"#00cc96\",\"symbol\":\"circle\"},\"mode\":\"markers\",\"name\":\"serieA\",\"orientation\":\"v\",\"showlegend\":true,\"x\":[24.693878,25.128205,22.5,24.409091,23.65625,24.090909,23.551724,25.285714,25.764706,23.4,24.810811,23.529412,23.3,23.742857,23.903846,24.947368,26.285714,26.823529,24.45,24.62069],\"xaxis\":\"x\",\"y\":[17,16,8,12,3,9,2,10,18,1,7,20,11,19,15,5,14,13,6,4],\"yaxis\":\"y\",\"type\":\"scatter\"},{\"hovertemplate\":\"<b>%{hovertext}</b><br><br>league=liga<br>Age=%{x}<br>Rk=%{y}<extra></extra>\",\"hovertext\":[\"Atl\\u00e9tico de Madrid\",\"CD Numancia\",\"Getafe CF\",\"Deportivo de La Coru\\u00f1a\",\"Valencia CF\",\"Albacete Balompi\\u00e9\",\"Levante UD\",\"CA Osasuna\",\"FC Barcelona\",\"Real Madrid\",\"M\\u00e1laga CF\",\"Racing Santander\",\"RCD Mallorca\",\"RCD Espanyol Barcelona\",\"Real Zaragoza\",\"Athletic Bilbao\",\"Real Sociedad\",\"Villarreal CF\",\"Sevilla FC\",\"Real Betis Balompi\\u00e9\"],\"legendgroup\":\"liga\",\"marker\":{\"color\":\"#ab63fa\",\"symbol\":\"circle\"},\"mode\":\"markers\",\"name\":\"liga\",\"orientation\":\"v\",\"showlegend\":true,\"x\":[25.456522,26.235294,26.48,28.346154,23.828571,25.368421,27.217391,25.818182,27.0,24.952381,26.2,24.866667,26.315789,26.529412,26.92,22.222222,24.4,24.611111,24.111111,27.45],\"xaxis\":\"x\",\"y\":[11,19,13,9,7,20,18,15,1,2,10,16,17,5,12,8,14,3,6,4],\"yaxis\":\"y\",\"type\":\"scatter\"},{\"hovertemplate\":\"<b>%{hovertext}</b><br><br>league=bundesliga<br>Age=%{x}<br>Rk=%{y}<extra></extra>\",\"hovertext\":[\"FSV Mainz 05\",\"Bayern Munich\",\"SC Freiburg\",\"Arminia Bielefeld\",\"Hansa Rostock\",\"VfL Bochum\",\"Kaiserslautern\",\"Nuremberg\",\"Hannover 96\",\"Borussia M\\u00f6nchengladbach\",\"VfL Wolfsburg\",\"Hamburger SV\",\"Hertha BSC\",\"Borussia Dortmund\",\"VfB Stuttgart\",\"Schalke 04\",\"Bayer 04 Leverkusen\",\"SV Werder Bremen\"],\"legendgroup\":\"bundesliga\",\"marker\":{\"color\":\"#FFA15A\",\"symbol\":\"circle\"},\"mode\":\"markers\",\"name\":\"bundesliga\",\"orientation\":\"v\",\"showlegend\":true,\"x\":[25.380952,25.555556,23.4,23.785714,27.125,25.375,26.793103,26.733333,25.815789,28.194444,24.263158,23.903226,23.545455,24.0,23.6,25.64,24.076923,25.76],\"xaxis\":\"x\",\"y\":[11,1,18,13,17,16,12,14,10,15,9,8,4,7,5,2,6,3],\"yaxis\":\"y\",\"type\":\"scatter\"}],                        {\"template\":{\"data\":{\"bar\":[{\"error_x\":{\"color\":\"#2a3f5f\"},\"error_y\":{\"color\":\"#2a3f5f\"},\"marker\":{\"line\":{\"color\":\"#E5ECF6\",\"width\":0.5},\"pattern\":{\"fillmode\":\"overlay\",\"size\":10,\"solidity\":0.2}},\"type\":\"bar\"}],\"barpolar\":[{\"marker\":{\"line\":{\"color\":\"#E5ECF6\",\"width\":0.5},\"pattern\":{\"fillmode\":\"overlay\",\"size\":10,\"solidity\":0.2}},\"type\":\"barpolar\"}],\"carpet\":[{\"aaxis\":{\"endlinecolor\":\"#2a3f5f\",\"gridcolor\":\"white\",\"linecolor\":\"white\",\"minorgridcolor\":\"white\",\"startlinecolor\":\"#2a3f5f\"},\"baxis\":{\"endlinecolor\":\"#2a3f5f\",\"gridcolor\":\"white\",\"linecolor\":\"white\",\"minorgridcolor\":\"white\",\"startlinecolor\":\"#2a3f5f\"},\"type\":\"carpet\"}],\"choropleth\":[{\"colorbar\":{\"outlinewidth\":0,\"ticks\":\"\"},\"type\":\"choropleth\"}],\"contour\":[{\"colorbar\":{\"outlinewidth\":0,\"ticks\":\"\"},\"colorscale\":[[0.0,\"#0d0887\"],[0.1111111111111111,\"#46039f\"],[0.2222222222222222,\"#7201a8\"],[0.3333333333333333,\"#9c179e\"],[0.4444444444444444,\"#bd3786\"],[0.5555555555555556,\"#d8576b\"],[0.6666666666666666,\"#ed7953\"],[0.7777777777777778,\"#fb9f3a\"],[0.8888888888888888,\"#fdca26\"],[1.0,\"#f0f921\"]],\"type\":\"contour\"}],\"contourcarpet\":[{\"colorbar\":{\"outlinewidth\":0,\"ticks\":\"\"},\"type\":\"contourcarpet\"}],\"heatmap\":[{\"colorbar\":{\"outlinewidth\":0,\"ticks\":\"\"},\"colorscale\":[[0.0,\"#0d0887\"],[0.1111111111111111,\"#46039f\"],[0.2222222222222222,\"#7201a8\"],[0.3333333333333333,\"#9c179e\"],[0.4444444444444444,\"#bd3786\"],[0.5555555555555556,\"#d8576b\"],[0.6666666666666666,\"#ed7953\"],[0.7777777777777778,\"#fb9f3a\"],[0.8888888888888888,\"#fdca26\"],[1.0,\"#f0f921\"]],\"type\":\"heatmap\"}],\"heatmapgl\":[{\"colorbar\":{\"outlinewidth\":0,\"ticks\":\"\"},\"colorscale\":[[0.0,\"#0d0887\"],[0.1111111111111111,\"#46039f\"],[0.2222222222222222,\"#7201a8\"],[0.3333333333333333,\"#9c179e\"],[0.4444444444444444,\"#bd3786\"],[0.5555555555555556,\"#d8576b\"],[0.6666666666666666,\"#ed7953\"],[0.7777777777777778,\"#fb9f3a\"],[0.8888888888888888,\"#fdca26\"],[1.0,\"#f0f921\"]],\"type\":\"heatmapgl\"}],\"histogram\":[{\"marker\":{\"pattern\":{\"fillmode\":\"overlay\",\"size\":10,\"solidity\":0.2}},\"type\":\"histogram\"}],\"histogram2d\":[{\"colorbar\":{\"outlinewidth\":0,\"ticks\":\"\"},\"colorscale\":[[0.0,\"#0d0887\"],[0.1111111111111111,\"#46039f\"],[0.2222222222222222,\"#7201a8\"],[0.3333333333333333,\"#9c179e\"],[0.4444444444444444,\"#bd3786\"],[0.5555555555555556,\"#d8576b\"],[0.6666666666666666,\"#ed7953\"],[0.7777777777777778,\"#fb9f3a\"],[0.8888888888888888,\"#fdca26\"],[1.0,\"#f0f921\"]],\"type\":\"histogram2d\"}],\"histogram2dcontour\":[{\"colorbar\":{\"outlinewidth\":0,\"ticks\":\"\"},\"colorscale\":[[0.0,\"#0d0887\"],[0.1111111111111111,\"#46039f\"],[0.2222222222222222,\"#7201a8\"],[0.3333333333333333,\"#9c179e\"],[0.4444444444444444,\"#bd3786\"],[0.5555555555555556,\"#d8576b\"],[0.6666666666666666,\"#ed7953\"],[0.7777777777777778,\"#fb9f3a\"],[0.8888888888888888,\"#fdca26\"],[1.0,\"#f0f921\"]],\"type\":\"histogram2dcontour\"}],\"mesh3d\":[{\"colorbar\":{\"outlinewidth\":0,\"ticks\":\"\"},\"type\":\"mesh3d\"}],\"parcoords\":[{\"line\":{\"colorbar\":{\"outlinewidth\":0,\"ticks\":\"\"}},\"type\":\"parcoords\"}],\"pie\":[{\"automargin\":true,\"type\":\"pie\"}],\"scatter\":[{\"marker\":{\"colorbar\":{\"outlinewidth\":0,\"ticks\":\"\"}},\"type\":\"scatter\"}],\"scatter3d\":[{\"line\":{\"colorbar\":{\"outlinewidth\":0,\"ticks\":\"\"}},\"marker\":{\"colorbar\":{\"outlinewidth\":0,\"ticks\":\"\"}},\"type\":\"scatter3d\"}],\"scattercarpet\":[{\"marker\":{\"colorbar\":{\"outlinewidth\":0,\"ticks\":\"\"}},\"type\":\"scattercarpet\"}],\"scattergeo\":[{\"marker\":{\"colorbar\":{\"outlinewidth\":0,\"ticks\":\"\"}},\"type\":\"scattergeo\"}],\"scattergl\":[{\"marker\":{\"colorbar\":{\"outlinewidth\":0,\"ticks\":\"\"}},\"type\":\"scattergl\"}],\"scattermapbox\":[{\"marker\":{\"colorbar\":{\"outlinewidth\":0,\"ticks\":\"\"}},\"type\":\"scattermapbox\"}],\"scatterpolar\":[{\"marker\":{\"colorbar\":{\"outlinewidth\":0,\"ticks\":\"\"}},\"type\":\"scatterpolar\"}],\"scatterpolargl\":[{\"marker\":{\"colorbar\":{\"outlinewidth\":0,\"ticks\":\"\"}},\"type\":\"scatterpolargl\"}],\"scatterternary\":[{\"marker\":{\"colorbar\":{\"outlinewidth\":0,\"ticks\":\"\"}},\"type\":\"scatterternary\"}],\"surface\":[{\"colorbar\":{\"outlinewidth\":0,\"ticks\":\"\"},\"colorscale\":[[0.0,\"#0d0887\"],[0.1111111111111111,\"#46039f\"],[0.2222222222222222,\"#7201a8\"],[0.3333333333333333,\"#9c179e\"],[0.4444444444444444,\"#bd3786\"],[0.5555555555555556,\"#d8576b\"],[0.6666666666666666,\"#ed7953\"],[0.7777777777777778,\"#fb9f3a\"],[0.8888888888888888,\"#fdca26\"],[1.0,\"#f0f921\"]],\"type\":\"surface\"}],\"table\":[{\"cells\":{\"fill\":{\"color\":\"#EBF0F8\"},\"line\":{\"color\":\"white\"}},\"header\":{\"fill\":{\"color\":\"#C8D4E3\"},\"line\":{\"color\":\"white\"}},\"type\":\"table\"}]},\"layout\":{\"annotationdefaults\":{\"arrowcolor\":\"#2a3f5f\",\"arrowhead\":0,\"arrowwidth\":1},\"autotypenumbers\":\"strict\",\"coloraxis\":{\"colorbar\":{\"outlinewidth\":0,\"ticks\":\"\"}},\"colorscale\":{\"diverging\":[[0,\"#8e0152\"],[0.1,\"#c51b7d\"],[0.2,\"#de77ae\"],[0.3,\"#f1b6da\"],[0.4,\"#fde0ef\"],[0.5,\"#f7f7f7\"],[0.6,\"#e6f5d0\"],[0.7,\"#b8e186\"],[0.8,\"#7fbc41\"],[0.9,\"#4d9221\"],[1,\"#276419\"]],\"sequential\":[[0.0,\"#0d0887\"],[0.1111111111111111,\"#46039f\"],[0.2222222222222222,\"#7201a8\"],[0.3333333333333333,\"#9c179e\"],[0.4444444444444444,\"#bd3786\"],[0.5555555555555556,\"#d8576b\"],[0.6666666666666666,\"#ed7953\"],[0.7777777777777778,\"#fb9f3a\"],[0.8888888888888888,\"#fdca26\"],[1.0,\"#f0f921\"]],\"sequentialminus\":[[0.0,\"#0d0887\"],[0.1111111111111111,\"#46039f\"],[0.2222222222222222,\"#7201a8\"],[0.3333333333333333,\"#9c179e\"],[0.4444444444444444,\"#bd3786\"],[0.5555555555555556,\"#d8576b\"],[0.6666666666666666,\"#ed7953\"],[0.7777777777777778,\"#fb9f3a\"],[0.8888888888888888,\"#fdca26\"],[1.0,\"#f0f921\"]]},\"colorway\":[\"#636efa\",\"#EF553B\",\"#00cc96\",\"#ab63fa\",\"#FFA15A\",\"#19d3f3\",\"#FF6692\",\"#B6E880\",\"#FF97FF\",\"#FECB52\"],\"font\":{\"color\":\"#2a3f5f\"},\"geo\":{\"bgcolor\":\"white\",\"lakecolor\":\"white\",\"landcolor\":\"#E5ECF6\",\"showlakes\":true,\"showland\":true,\"subunitcolor\":\"white\"},\"hoverlabel\":{\"align\":\"left\"},\"hovermode\":\"closest\",\"mapbox\":{\"style\":\"light\"},\"paper_bgcolor\":\"white\",\"plot_bgcolor\":\"#E5ECF6\",\"polar\":{\"angularaxis\":{\"gridcolor\":\"white\",\"linecolor\":\"white\",\"ticks\":\"\"},\"bgcolor\":\"#E5ECF6\",\"radialaxis\":{\"gridcolor\":\"white\",\"linecolor\":\"white\",\"ticks\":\"\"}},\"scene\":{\"xaxis\":{\"backgroundcolor\":\"#E5ECF6\",\"gridcolor\":\"white\",\"gridwidth\":2,\"linecolor\":\"white\",\"showbackground\":true,\"ticks\":\"\",\"zerolinecolor\":\"white\"},\"yaxis\":{\"backgroundcolor\":\"#E5ECF6\",\"gridcolor\":\"white\",\"gridwidth\":2,\"linecolor\":\"white\",\"showbackground\":true,\"ticks\":\"\",\"zerolinecolor\":\"white\"},\"zaxis\":{\"backgroundcolor\":\"#E5ECF6\",\"gridcolor\":\"white\",\"gridwidth\":2,\"linecolor\":\"white\",\"showbackground\":true,\"ticks\":\"\",\"zerolinecolor\":\"white\"}},\"shapedefaults\":{\"line\":{\"color\":\"#2a3f5f\"}},\"ternary\":{\"aaxis\":{\"gridcolor\":\"white\",\"linecolor\":\"white\",\"ticks\":\"\"},\"baxis\":{\"gridcolor\":\"white\",\"linecolor\":\"white\",\"ticks\":\"\"},\"bgcolor\":\"#E5ECF6\",\"caxis\":{\"gridcolor\":\"white\",\"linecolor\":\"white\",\"ticks\":\"\"}},\"title\":{\"x\":0.05},\"xaxis\":{\"automargin\":true,\"gridcolor\":\"white\",\"linecolor\":\"white\",\"ticks\":\"\",\"title\":{\"standoff\":15},\"zerolinecolor\":\"white\",\"zerolinewidth\":2},\"yaxis\":{\"automargin\":true,\"gridcolor\":\"white\",\"linecolor\":\"white\",\"ticks\":\"\",\"title\":{\"standoff\":15},\"zerolinecolor\":\"white\",\"zerolinewidth\":2}}},\"xaxis\":{\"anchor\":\"y\",\"domain\":[0.0,1.0],\"title\":{\"text\":\"Age\"}},\"yaxis\":{\"anchor\":\"x\",\"domain\":[0.0,1.0],\"title\":{\"text\":\"Rk\"}},\"legend\":{\"title\":{\"text\":\"league\"},\"tracegroupgap\":0},\"margin\":{\"t\":60}},                        {\"responsive\": true}                    ).then(function(){\n",
       "                            \n",
       "var gd = document.getElementById('44bdd711-6bd2-4942-80d8-67e9f404581b');\n",
       "var x = new MutationObserver(function (mutations, observer) {{\n",
       "        var display = window.getComputedStyle(gd).display;\n",
       "        if (!display || display === 'none') {{\n",
       "            console.log([gd, 'removed!']);\n",
       "            Plotly.purge(gd);\n",
       "            observer.disconnect();\n",
       "        }}\n",
       "}});\n",
       "\n",
       "// Listen for the removal of the full notebook cells\n",
       "var notebookContainer = gd.closest('#notebook-container');\n",
       "if (notebookContainer) {{\n",
       "    x.observe(notebookContainer, {childList: true});\n",
       "}}\n",
       "\n",
       "// Listen for the clearing of the current output cell\n",
       "var outputEl = gd.closest('.output');\n",
       "if (outputEl) {{\n",
       "    x.observe(outputEl, {childList: true});\n",
       "}}\n",
       "\n",
       "                        })                };                });            </script>        </div>"
      ]
     },
     "metadata": {},
     "output_type": "display_data"
    }
   ],
   "source": [
    "import numpy as np\n",
    "import pandas as pd\n",
    "import plotly.express as px \n",
    "\n",
    "pd.options.plotting.backend = \"plotly\"\n",
    "\n",
    "leagues = pd.read_csv(\"data/concat_leagues/leagues.csv\")\n",
    "\n",
    "px.scatter(leagues[leagues[\"Years\"] == \"2004-05\"], x='Age', y='Rk', \n",
    "           color=\"league\", hover_name=\"Squad\")\n",
    "\n",
    "#px.scatter(leagues[leagues[\"Years\"] == \"2004-05\"], x='Age', y='Rk', \n",
    "#           color=\"league\", hover_name=\"Squad\", color_discrete_map=, title=\"Age et Class\",\n",
    "#                 size='pop', size_max=50))\n"
   ]
  },
  {
   "cell_type": "code",
   "execution_count": null,
   "id": "442ea96d",
   "metadata": {},
   "outputs": [],
   "source": []
  },
  {
   "cell_type": "code",
   "execution_count": 36,
   "id": "37d63f41",
   "metadata": {},
   "outputs": [
    {
     "data": {
      "application/vnd.plotly.v1+json": {
       "config": {
        "plotlyServerURL": "https://plot.ly"
       },
       "data": [
        {
         "hovertemplate": "<b>%{hovertext}</b><br><br>league=ligue1<br>Market Value=%{x}<br>Rk=%{y}<extra></extra>",
         "hovertext": [
          "AS Monaco",
          "Olympique Lyon",
          "FC Istres Ouest Provence",
          "SM Caen",
          "Ajaccio",
          "SC Bastia",
          "OGC Nice",
          "RC Strasbourg Alsace",
          "FC Metz",
          "Toulouse",
          "Saint-Etienne",
          "FC Nantes",
          "Auxerre",
          "FC Sochaux-Montbéliard",
          "RC Lens",
          "FC Girondins Bordeaux",
          "LOSC Lille",
          "Stade Rennais",
          "Olympique Marseille",
          "Paris Saint-Germain"
         ],
         "legendgroup": "ligue1",
         "marker": {
          "color": "#636efa",
          "symbol": "circle"
         },
         "mode": "markers",
         "name": "ligue1",
         "orientation": "v",
         "showlegend": true,
         "type": "scatter",
         "x": [
          "103.8",
          "133.9",
          "18.5",
          "22.7",
          "24.55",
          "31.85",
          "34.1",
          "35.1",
          "35.7",
          "37.1",
          "37.5",
          "47.55",
          "47.85",
          "49.65",
          "52.5",
          "52.6",
          "56.25",
          "61.3",
          "77.7",
          "81.75"
         ],
         "xaxis": "x",
         "y": [
          3,
          1,
          20,
          18,
          14,
          19,
          12,
          11,
          16,
          13,
          6,
          17,
          8,
          10,
          7,
          15,
          2,
          4,
          5,
          9
         ],
         "yaxis": "y"
        },
        {
         "hovertemplate": "<b>%{hovertext}</b><br><br>league=PL<br>Market Value=%{x}<br>Rk=%{y}<extra></extra>",
         "hovertext": [
          "Birmingham City",
          "Newcastle United",
          "Tottenham Hotspur",
          "Liverpool FC",
          "Arsenal FC",
          "Manchester United",
          "Norwich City",
          "Chelsea FC FC",
          "Crystal Palace",
          "West Bromwich Albion",
          "Charlton Athletic",
          "Portsmouth FC",
          "Bolton Wanderers",
          "Fulham FC",
          "Blackburn Rovers",
          "Everton FC",
          "Aston Villa",
          "Southampton FC",
          "Middlesbrough",
          "Manchester City"
         ],
         "legendgroup": "PL",
         "marker": {
          "color": "#EF553B",
          "symbol": "circle"
         },
         "mode": "markers",
         "name": "PL",
         "orientation": "v",
         "showlegend": true,
         "type": "scatter",
         "x": [
          "105.98",
          "125.85",
          "127.25",
          "222.13",
          "247.0",
          "293.23",
          "30.95",
          "331.48",
          "38.53",
          "48.65",
          "57.8",
          "63.0",
          "63.58",
          "65.23",
          "73.88",
          "74.28",
          "84.18",
          "85.48",
          "88.83",
          "94.3"
         ],
         "xaxis": "x",
         "y": [
          12,
          14,
          9,
          5,
          2,
          3,
          19,
          1,
          18,
          17,
          11,
          16,
          6,
          13,
          15,
          4,
          10,
          20,
          7,
          8
         ],
         "yaxis": "y"
        },
        {
         "hovertemplate": "<b>%{hovertext}</b><br><br>league=serieA<br>Market Value=%{x}<br>Rk=%{y}<extra></extra>",
         "hovertext": [
          "Parma FC",
          "ACF Fiorentina",
          "AS Roma",
          "Cagliari Calcio",
          "Inter Milan",
          "AS Livorno",
          "AC Milan",
          "Reggina Calcio",
          "Bologna FC 1909",
          "Juventus FC",
          "FC Messina Peloro",
          "Atalanta BC",
          "US Lecce",
          "Brescia Calcio",
          "Chievo Verona",
          "UC Sampdoria",
          "AC Siena",
          "SS Lazio",
          "US Palermo",
          "Udinese Calcio"
         ],
         "legendgroup": "serieA",
         "marker": {
          "color": "#00cc96",
          "symbol": "circle"
         },
         "mode": "markers",
         "name": "serieA",
         "orientation": "v",
         "showlegend": true,
         "type": "scatter",
         "x": [
          "110.05",
          "111.83",
          "187.6",
          "23.9",
          "240.63",
          "25.0",
          "273.7",
          "29.3",
          "29.94",
          "304.9",
          "32.65",
          "41.7",
          "44.9",
          "45.25",
          "46.28",
          "51.0",
          "54.9",
          "77.05",
          "78.75",
          "83.95"
         ],
         "xaxis": "x",
         "y": [
          17,
          16,
          8,
          12,
          3,
          9,
          2,
          10,
          18,
          1,
          7,
          20,
          11,
          19,
          15,
          5,
          14,
          13,
          6,
          4
         ],
         "yaxis": "y"
        },
        {
         "hovertemplate": "<b>%{hovertext}</b><br><br>league=liga<br>Market Value=%{x}<br>Rk=%{y}<extra></extra>",
         "hovertext": [
          "Atlético de Madrid",
          "CD Numancia",
          "Getafe CF",
          "Deportivo de La Coruña",
          "Valencia CF",
          "Albacete Balompié",
          "Levante UD",
          "CA Osasuna",
          "FC Barcelona",
          "Real Madrid",
          "Málaga CF",
          "Racing Santander",
          "RCD Mallorca",
          "RCD Espanyol Barcelona",
          "Real Zaragoza",
          "Athletic Bilbao",
          "Real Sociedad",
          "Villarreal CF",
          "Sevilla FC",
          "Real Betis Balompié"
         ],
         "legendgroup": "liga",
         "marker": {
          "color": "#ab63fa",
          "symbol": "circle"
         },
         "mode": "markers",
         "name": "liga",
         "orientation": "v",
         "showlegend": true,
         "type": "scatter",
         "x": [
          "125.65",
          "13.4",
          "13.85",
          "144.45",
          "195.9",
          "20.25",
          "24.25",
          "26.65",
          "273.03",
          "303.7",
          "32.85",
          "32.9",
          "42.65",
          "45.15",
          "51.13",
          "53.05",
          "53.55",
          "66.25",
          "70.55",
          "85.15"
         ],
         "xaxis": "x",
         "y": [
          11,
          19,
          13,
          9,
          7,
          20,
          18,
          15,
          1,
          2,
          10,
          16,
          17,
          5,
          12,
          8,
          14,
          3,
          6,
          4
         ],
         "yaxis": "y"
        },
        {
         "hovertemplate": "<b>%{hovertext}</b><br><br>league=bundesliga<br>Market Value=%{x}<br>Rk=%{y}<extra></extra>",
         "hovertext": [
          "FSV Mainz 05",
          "Bayern Munich",
          "SC Freiburg",
          "Arminia Bielefeld",
          "Hansa Rostock",
          "VfL Bochum",
          "Kaiserslautern",
          "Nuremberg",
          "Hannover 96",
          "Borussia Mönchengladbach",
          "VfL Wolfsburg",
          "Hamburger SV",
          "Hertha BSC",
          "Borussia Dortmund",
          "VfB Stuttgart",
          "Schalke 04",
          "Bayer 04 Leverkusen",
          "SV Werder Bremen"
         ],
         "legendgroup": "bundesliga",
         "marker": {
          "color": "#FFA15A",
          "symbol": "circle"
         },
         "mode": "markers",
         "name": "bundesliga",
         "orientation": "v",
         "showlegend": true,
         "type": "scatter",
         "x": [
          "16.73",
          "175.3",
          "22.43",
          "24.65",
          "25.9",
          "31.4",
          "33.75",
          "34.9",
          "42.98",
          "49.43",
          "59.3",
          "65.6",
          "71.78",
          "78.33",
          "79.5",
          "86.33",
          "86.93",
          "99.23"
         ],
         "xaxis": "x",
         "y": [
          11,
          1,
          18,
          13,
          17,
          16,
          12,
          14,
          10,
          15,
          9,
          8,
          4,
          7,
          5,
          2,
          6,
          3
         ],
         "yaxis": "y"
        }
       ],
       "layout": {
        "legend": {
         "title": {
          "text": "league"
         },
         "tracegroupgap": 0
        },
        "margin": {
         "t": 60
        },
        "template": {
         "data": {
          "bar": [
           {
            "error_x": {
             "color": "#2a3f5f"
            },
            "error_y": {
             "color": "#2a3f5f"
            },
            "marker": {
             "line": {
              "color": "#E5ECF6",
              "width": 0.5
             },
             "pattern": {
              "fillmode": "overlay",
              "size": 10,
              "solidity": 0.2
             }
            },
            "type": "bar"
           }
          ],
          "barpolar": [
           {
            "marker": {
             "line": {
              "color": "#E5ECF6",
              "width": 0.5
             },
             "pattern": {
              "fillmode": "overlay",
              "size": 10,
              "solidity": 0.2
             }
            },
            "type": "barpolar"
           }
          ],
          "carpet": [
           {
            "aaxis": {
             "endlinecolor": "#2a3f5f",
             "gridcolor": "white",
             "linecolor": "white",
             "minorgridcolor": "white",
             "startlinecolor": "#2a3f5f"
            },
            "baxis": {
             "endlinecolor": "#2a3f5f",
             "gridcolor": "white",
             "linecolor": "white",
             "minorgridcolor": "white",
             "startlinecolor": "#2a3f5f"
            },
            "type": "carpet"
           }
          ],
          "choropleth": [
           {
            "colorbar": {
             "outlinewidth": 0,
             "ticks": ""
            },
            "type": "choropleth"
           }
          ],
          "contour": [
           {
            "colorbar": {
             "outlinewidth": 0,
             "ticks": ""
            },
            "colorscale": [
             [
              0,
              "#0d0887"
             ],
             [
              0.1111111111111111,
              "#46039f"
             ],
             [
              0.2222222222222222,
              "#7201a8"
             ],
             [
              0.3333333333333333,
              "#9c179e"
             ],
             [
              0.4444444444444444,
              "#bd3786"
             ],
             [
              0.5555555555555556,
              "#d8576b"
             ],
             [
              0.6666666666666666,
              "#ed7953"
             ],
             [
              0.7777777777777778,
              "#fb9f3a"
             ],
             [
              0.8888888888888888,
              "#fdca26"
             ],
             [
              1,
              "#f0f921"
             ]
            ],
            "type": "contour"
           }
          ],
          "contourcarpet": [
           {
            "colorbar": {
             "outlinewidth": 0,
             "ticks": ""
            },
            "type": "contourcarpet"
           }
          ],
          "heatmap": [
           {
            "colorbar": {
             "outlinewidth": 0,
             "ticks": ""
            },
            "colorscale": [
             [
              0,
              "#0d0887"
             ],
             [
              0.1111111111111111,
              "#46039f"
             ],
             [
              0.2222222222222222,
              "#7201a8"
             ],
             [
              0.3333333333333333,
              "#9c179e"
             ],
             [
              0.4444444444444444,
              "#bd3786"
             ],
             [
              0.5555555555555556,
              "#d8576b"
             ],
             [
              0.6666666666666666,
              "#ed7953"
             ],
             [
              0.7777777777777778,
              "#fb9f3a"
             ],
             [
              0.8888888888888888,
              "#fdca26"
             ],
             [
              1,
              "#f0f921"
             ]
            ],
            "type": "heatmap"
           }
          ],
          "heatmapgl": [
           {
            "colorbar": {
             "outlinewidth": 0,
             "ticks": ""
            },
            "colorscale": [
             [
              0,
              "#0d0887"
             ],
             [
              0.1111111111111111,
              "#46039f"
             ],
             [
              0.2222222222222222,
              "#7201a8"
             ],
             [
              0.3333333333333333,
              "#9c179e"
             ],
             [
              0.4444444444444444,
              "#bd3786"
             ],
             [
              0.5555555555555556,
              "#d8576b"
             ],
             [
              0.6666666666666666,
              "#ed7953"
             ],
             [
              0.7777777777777778,
              "#fb9f3a"
             ],
             [
              0.8888888888888888,
              "#fdca26"
             ],
             [
              1,
              "#f0f921"
             ]
            ],
            "type": "heatmapgl"
           }
          ],
          "histogram": [
           {
            "marker": {
             "pattern": {
              "fillmode": "overlay",
              "size": 10,
              "solidity": 0.2
             }
            },
            "type": "histogram"
           }
          ],
          "histogram2d": [
           {
            "colorbar": {
             "outlinewidth": 0,
             "ticks": ""
            },
            "colorscale": [
             [
              0,
              "#0d0887"
             ],
             [
              0.1111111111111111,
              "#46039f"
             ],
             [
              0.2222222222222222,
              "#7201a8"
             ],
             [
              0.3333333333333333,
              "#9c179e"
             ],
             [
              0.4444444444444444,
              "#bd3786"
             ],
             [
              0.5555555555555556,
              "#d8576b"
             ],
             [
              0.6666666666666666,
              "#ed7953"
             ],
             [
              0.7777777777777778,
              "#fb9f3a"
             ],
             [
              0.8888888888888888,
              "#fdca26"
             ],
             [
              1,
              "#f0f921"
             ]
            ],
            "type": "histogram2d"
           }
          ],
          "histogram2dcontour": [
           {
            "colorbar": {
             "outlinewidth": 0,
             "ticks": ""
            },
            "colorscale": [
             [
              0,
              "#0d0887"
             ],
             [
              0.1111111111111111,
              "#46039f"
             ],
             [
              0.2222222222222222,
              "#7201a8"
             ],
             [
              0.3333333333333333,
              "#9c179e"
             ],
             [
              0.4444444444444444,
              "#bd3786"
             ],
             [
              0.5555555555555556,
              "#d8576b"
             ],
             [
              0.6666666666666666,
              "#ed7953"
             ],
             [
              0.7777777777777778,
              "#fb9f3a"
             ],
             [
              0.8888888888888888,
              "#fdca26"
             ],
             [
              1,
              "#f0f921"
             ]
            ],
            "type": "histogram2dcontour"
           }
          ],
          "mesh3d": [
           {
            "colorbar": {
             "outlinewidth": 0,
             "ticks": ""
            },
            "type": "mesh3d"
           }
          ],
          "parcoords": [
           {
            "line": {
             "colorbar": {
              "outlinewidth": 0,
              "ticks": ""
             }
            },
            "type": "parcoords"
           }
          ],
          "pie": [
           {
            "automargin": true,
            "type": "pie"
           }
          ],
          "scatter": [
           {
            "marker": {
             "colorbar": {
              "outlinewidth": 0,
              "ticks": ""
             }
            },
            "type": "scatter"
           }
          ],
          "scatter3d": [
           {
            "line": {
             "colorbar": {
              "outlinewidth": 0,
              "ticks": ""
             }
            },
            "marker": {
             "colorbar": {
              "outlinewidth": 0,
              "ticks": ""
             }
            },
            "type": "scatter3d"
           }
          ],
          "scattercarpet": [
           {
            "marker": {
             "colorbar": {
              "outlinewidth": 0,
              "ticks": ""
             }
            },
            "type": "scattercarpet"
           }
          ],
          "scattergeo": [
           {
            "marker": {
             "colorbar": {
              "outlinewidth": 0,
              "ticks": ""
             }
            },
            "type": "scattergeo"
           }
          ],
          "scattergl": [
           {
            "marker": {
             "colorbar": {
              "outlinewidth": 0,
              "ticks": ""
             }
            },
            "type": "scattergl"
           }
          ],
          "scattermapbox": [
           {
            "marker": {
             "colorbar": {
              "outlinewidth": 0,
              "ticks": ""
             }
            },
            "type": "scattermapbox"
           }
          ],
          "scatterpolar": [
           {
            "marker": {
             "colorbar": {
              "outlinewidth": 0,
              "ticks": ""
             }
            },
            "type": "scatterpolar"
           }
          ],
          "scatterpolargl": [
           {
            "marker": {
             "colorbar": {
              "outlinewidth": 0,
              "ticks": ""
             }
            },
            "type": "scatterpolargl"
           }
          ],
          "scatterternary": [
           {
            "marker": {
             "colorbar": {
              "outlinewidth": 0,
              "ticks": ""
             }
            },
            "type": "scatterternary"
           }
          ],
          "surface": [
           {
            "colorbar": {
             "outlinewidth": 0,
             "ticks": ""
            },
            "colorscale": [
             [
              0,
              "#0d0887"
             ],
             [
              0.1111111111111111,
              "#46039f"
             ],
             [
              0.2222222222222222,
              "#7201a8"
             ],
             [
              0.3333333333333333,
              "#9c179e"
             ],
             [
              0.4444444444444444,
              "#bd3786"
             ],
             [
              0.5555555555555556,
              "#d8576b"
             ],
             [
              0.6666666666666666,
              "#ed7953"
             ],
             [
              0.7777777777777778,
              "#fb9f3a"
             ],
             [
              0.8888888888888888,
              "#fdca26"
             ],
             [
              1,
              "#f0f921"
             ]
            ],
            "type": "surface"
           }
          ],
          "table": [
           {
            "cells": {
             "fill": {
              "color": "#EBF0F8"
             },
             "line": {
              "color": "white"
             }
            },
            "header": {
             "fill": {
              "color": "#C8D4E3"
             },
             "line": {
              "color": "white"
             }
            },
            "type": "table"
           }
          ]
         },
         "layout": {
          "annotationdefaults": {
           "arrowcolor": "#2a3f5f",
           "arrowhead": 0,
           "arrowwidth": 1
          },
          "autotypenumbers": "strict",
          "coloraxis": {
           "colorbar": {
            "outlinewidth": 0,
            "ticks": ""
           }
          },
          "colorscale": {
           "diverging": [
            [
             0,
             "#8e0152"
            ],
            [
             0.1,
             "#c51b7d"
            ],
            [
             0.2,
             "#de77ae"
            ],
            [
             0.3,
             "#f1b6da"
            ],
            [
             0.4,
             "#fde0ef"
            ],
            [
             0.5,
             "#f7f7f7"
            ],
            [
             0.6,
             "#e6f5d0"
            ],
            [
             0.7,
             "#b8e186"
            ],
            [
             0.8,
             "#7fbc41"
            ],
            [
             0.9,
             "#4d9221"
            ],
            [
             1,
             "#276419"
            ]
           ],
           "sequential": [
            [
             0,
             "#0d0887"
            ],
            [
             0.1111111111111111,
             "#46039f"
            ],
            [
             0.2222222222222222,
             "#7201a8"
            ],
            [
             0.3333333333333333,
             "#9c179e"
            ],
            [
             0.4444444444444444,
             "#bd3786"
            ],
            [
             0.5555555555555556,
             "#d8576b"
            ],
            [
             0.6666666666666666,
             "#ed7953"
            ],
            [
             0.7777777777777778,
             "#fb9f3a"
            ],
            [
             0.8888888888888888,
             "#fdca26"
            ],
            [
             1,
             "#f0f921"
            ]
           ],
           "sequentialminus": [
            [
             0,
             "#0d0887"
            ],
            [
             0.1111111111111111,
             "#46039f"
            ],
            [
             0.2222222222222222,
             "#7201a8"
            ],
            [
             0.3333333333333333,
             "#9c179e"
            ],
            [
             0.4444444444444444,
             "#bd3786"
            ],
            [
             0.5555555555555556,
             "#d8576b"
            ],
            [
             0.6666666666666666,
             "#ed7953"
            ],
            [
             0.7777777777777778,
             "#fb9f3a"
            ],
            [
             0.8888888888888888,
             "#fdca26"
            ],
            [
             1,
             "#f0f921"
            ]
           ]
          },
          "colorway": [
           "#636efa",
           "#EF553B",
           "#00cc96",
           "#ab63fa",
           "#FFA15A",
           "#19d3f3",
           "#FF6692",
           "#B6E880",
           "#FF97FF",
           "#FECB52"
          ],
          "font": {
           "color": "#2a3f5f"
          },
          "geo": {
           "bgcolor": "white",
           "lakecolor": "white",
           "landcolor": "#E5ECF6",
           "showlakes": true,
           "showland": true,
           "subunitcolor": "white"
          },
          "hoverlabel": {
           "align": "left"
          },
          "hovermode": "closest",
          "mapbox": {
           "style": "light"
          },
          "paper_bgcolor": "white",
          "plot_bgcolor": "#E5ECF6",
          "polar": {
           "angularaxis": {
            "gridcolor": "white",
            "linecolor": "white",
            "ticks": ""
           },
           "bgcolor": "#E5ECF6",
           "radialaxis": {
            "gridcolor": "white",
            "linecolor": "white",
            "ticks": ""
           }
          },
          "scene": {
           "xaxis": {
            "backgroundcolor": "#E5ECF6",
            "gridcolor": "white",
            "gridwidth": 2,
            "linecolor": "white",
            "showbackground": true,
            "ticks": "",
            "zerolinecolor": "white"
           },
           "yaxis": {
            "backgroundcolor": "#E5ECF6",
            "gridcolor": "white",
            "gridwidth": 2,
            "linecolor": "white",
            "showbackground": true,
            "ticks": "",
            "zerolinecolor": "white"
           },
           "zaxis": {
            "backgroundcolor": "#E5ECF6",
            "gridcolor": "white",
            "gridwidth": 2,
            "linecolor": "white",
            "showbackground": true,
            "ticks": "",
            "zerolinecolor": "white"
           }
          },
          "shapedefaults": {
           "line": {
            "color": "#2a3f5f"
           }
          },
          "ternary": {
           "aaxis": {
            "gridcolor": "white",
            "linecolor": "white",
            "ticks": ""
           },
           "baxis": {
            "gridcolor": "white",
            "linecolor": "white",
            "ticks": ""
           },
           "bgcolor": "#E5ECF6",
           "caxis": {
            "gridcolor": "white",
            "linecolor": "white",
            "ticks": ""
           }
          },
          "title": {
           "x": 0.05
          },
          "xaxis": {
           "automargin": true,
           "gridcolor": "white",
           "linecolor": "white",
           "ticks": "",
           "title": {
            "standoff": 15
           },
           "zerolinecolor": "white",
           "zerolinewidth": 2
          },
          "yaxis": {
           "automargin": true,
           "gridcolor": "white",
           "linecolor": "white",
           "ticks": "",
           "title": {
            "standoff": 15
           },
           "zerolinecolor": "white",
           "zerolinewidth": 2
          }
         }
        },
        "xaxis": {
         "anchor": "y",
         "domain": [
          0,
          1
         ],
         "title": {
          "text": "Market Value"
         }
        },
        "yaxis": {
         "anchor": "x",
         "domain": [
          0,
          1
         ],
         "title": {
          "text": "Rk"
         }
        }
       }
      },
      "text/html": [
       "<div>                            <div id=\"965ff0eb-11bf-4d96-b75b-30b8b678fbd7\" class=\"plotly-graph-div\" style=\"height:525px; width:100%;\"></div>            <script type=\"text/javascript\">                require([\"plotly\"], function(Plotly) {                    window.PLOTLYENV=window.PLOTLYENV || {};                                    if (document.getElementById(\"965ff0eb-11bf-4d96-b75b-30b8b678fbd7\")) {                    Plotly.newPlot(                        \"965ff0eb-11bf-4d96-b75b-30b8b678fbd7\",                        [{\"hovertemplate\":\"<b>%{hovertext}</b><br><br>league=ligue1<br>Market Value=%{x}<br>Rk=%{y}<extra></extra>\",\"hovertext\":[\"AS Monaco\",\"Olympique Lyon\",\"FC Istres Ouest Provence\",\"SM Caen\",\"Ajaccio\",\"SC Bastia\",\"OGC Nice\",\"RC Strasbourg Alsace\",\"FC Metz\",\"Toulouse\",\"Saint-Etienne\",\"FC Nantes\",\"Auxerre\",\"FC Sochaux-Montb\\u00e9liard\",\"RC Lens\",\"FC Girondins Bordeaux\",\"LOSC Lille\",\"Stade Rennais\",\"Olympique Marseille\",\"Paris Saint-Germain\"],\"legendgroup\":\"ligue1\",\"marker\":{\"color\":\"#636efa\",\"symbol\":\"circle\"},\"mode\":\"markers\",\"name\":\"ligue1\",\"orientation\":\"v\",\"showlegend\":true,\"x\":[\"103.8\",\"133.9\",\"18.5\",\"22.7\",\"24.55\",\"31.85\",\"34.1\",\"35.1\",\"35.7\",\"37.1\",\"37.5\",\"47.55\",\"47.85\",\"49.65\",\"52.5\",\"52.6\",\"56.25\",\"61.3\",\"77.7\",\"81.75\"],\"xaxis\":\"x\",\"y\":[3,1,20,18,14,19,12,11,16,13,6,17,8,10,7,15,2,4,5,9],\"yaxis\":\"y\",\"type\":\"scatter\"},{\"hovertemplate\":\"<b>%{hovertext}</b><br><br>league=PL<br>Market Value=%{x}<br>Rk=%{y}<extra></extra>\",\"hovertext\":[\"Birmingham City\",\"Newcastle United\",\"Tottenham Hotspur\",\"Liverpool FC\",\"Arsenal FC\",\"Manchester United\",\"Norwich City\",\"Chelsea FC FC\",\"Crystal Palace\",\"West Bromwich Albion\",\"Charlton Athletic\",\"Portsmouth FC\",\"Bolton Wanderers\",\"Fulham FC\",\"Blackburn Rovers\",\"Everton FC\",\"Aston Villa\",\"Southampton FC\",\"Middlesbrough\",\"Manchester City\"],\"legendgroup\":\"PL\",\"marker\":{\"color\":\"#EF553B\",\"symbol\":\"circle\"},\"mode\":\"markers\",\"name\":\"PL\",\"orientation\":\"v\",\"showlegend\":true,\"x\":[\"105.98\",\"125.85\",\"127.25\",\"222.13\",\"247.0\",\"293.23\",\"30.95\",\"331.48\",\"38.53\",\"48.65\",\"57.8\",\"63.0\",\"63.58\",\"65.23\",\"73.88\",\"74.28\",\"84.18\",\"85.48\",\"88.83\",\"94.3\"],\"xaxis\":\"x\",\"y\":[12,14,9,5,2,3,19,1,18,17,11,16,6,13,15,4,10,20,7,8],\"yaxis\":\"y\",\"type\":\"scatter\"},{\"hovertemplate\":\"<b>%{hovertext}</b><br><br>league=serieA<br>Market Value=%{x}<br>Rk=%{y}<extra></extra>\",\"hovertext\":[\"Parma FC\",\"ACF Fiorentina\",\"AS Roma\",\"Cagliari Calcio\",\"Inter Milan\",\"AS Livorno\",\"AC Milan\",\"Reggina Calcio\",\"Bologna FC 1909\",\"Juventus FC\",\"FC Messina Peloro\",\"Atalanta BC\",\"US Lecce\",\"Brescia Calcio\",\"Chievo Verona\",\"UC Sampdoria\",\"AC Siena\",\"SS Lazio\",\"US Palermo\",\"Udinese Calcio\"],\"legendgroup\":\"serieA\",\"marker\":{\"color\":\"#00cc96\",\"symbol\":\"circle\"},\"mode\":\"markers\",\"name\":\"serieA\",\"orientation\":\"v\",\"showlegend\":true,\"x\":[\"110.05\",\"111.83\",\"187.6\",\"23.9\",\"240.63\",\"25.0\",\"273.7\",\"29.3\",\"29.94\",\"304.9\",\"32.65\",\"41.7\",\"44.9\",\"45.25\",\"46.28\",\"51.0\",\"54.9\",\"77.05\",\"78.75\",\"83.95\"],\"xaxis\":\"x\",\"y\":[17,16,8,12,3,9,2,10,18,1,7,20,11,19,15,5,14,13,6,4],\"yaxis\":\"y\",\"type\":\"scatter\"},{\"hovertemplate\":\"<b>%{hovertext}</b><br><br>league=liga<br>Market Value=%{x}<br>Rk=%{y}<extra></extra>\",\"hovertext\":[\"Atl\\u00e9tico de Madrid\",\"CD Numancia\",\"Getafe CF\",\"Deportivo de La Coru\\u00f1a\",\"Valencia CF\",\"Albacete Balompi\\u00e9\",\"Levante UD\",\"CA Osasuna\",\"FC Barcelona\",\"Real Madrid\",\"M\\u00e1laga CF\",\"Racing Santander\",\"RCD Mallorca\",\"RCD Espanyol Barcelona\",\"Real Zaragoza\",\"Athletic Bilbao\",\"Real Sociedad\",\"Villarreal CF\",\"Sevilla FC\",\"Real Betis Balompi\\u00e9\"],\"legendgroup\":\"liga\",\"marker\":{\"color\":\"#ab63fa\",\"symbol\":\"circle\"},\"mode\":\"markers\",\"name\":\"liga\",\"orientation\":\"v\",\"showlegend\":true,\"x\":[\"125.65\",\"13.4\",\"13.85\",\"144.45\",\"195.9\",\"20.25\",\"24.25\",\"26.65\",\"273.03\",\"303.7\",\"32.85\",\"32.9\",\"42.65\",\"45.15\",\"51.13\",\"53.05\",\"53.55\",\"66.25\",\"70.55\",\"85.15\"],\"xaxis\":\"x\",\"y\":[11,19,13,9,7,20,18,15,1,2,10,16,17,5,12,8,14,3,6,4],\"yaxis\":\"y\",\"type\":\"scatter\"},{\"hovertemplate\":\"<b>%{hovertext}</b><br><br>league=bundesliga<br>Market Value=%{x}<br>Rk=%{y}<extra></extra>\",\"hovertext\":[\"FSV Mainz 05\",\"Bayern Munich\",\"SC Freiburg\",\"Arminia Bielefeld\",\"Hansa Rostock\",\"VfL Bochum\",\"Kaiserslautern\",\"Nuremberg\",\"Hannover 96\",\"Borussia M\\u00f6nchengladbach\",\"VfL Wolfsburg\",\"Hamburger SV\",\"Hertha BSC\",\"Borussia Dortmund\",\"VfB Stuttgart\",\"Schalke 04\",\"Bayer 04 Leverkusen\",\"SV Werder Bremen\"],\"legendgroup\":\"bundesliga\",\"marker\":{\"color\":\"#FFA15A\",\"symbol\":\"circle\"},\"mode\":\"markers\",\"name\":\"bundesliga\",\"orientation\":\"v\",\"showlegend\":true,\"x\":[\"16.73\",\"175.3\",\"22.43\",\"24.65\",\"25.9\",\"31.4\",\"33.75\",\"34.9\",\"42.98\",\"49.43\",\"59.3\",\"65.6\",\"71.78\",\"78.33\",\"79.5\",\"86.33\",\"86.93\",\"99.23\"],\"xaxis\":\"x\",\"y\":[11,1,18,13,17,16,12,14,10,15,9,8,4,7,5,2,6,3],\"yaxis\":\"y\",\"type\":\"scatter\"}],                        {\"template\":{\"data\":{\"bar\":[{\"error_x\":{\"color\":\"#2a3f5f\"},\"error_y\":{\"color\":\"#2a3f5f\"},\"marker\":{\"line\":{\"color\":\"#E5ECF6\",\"width\":0.5},\"pattern\":{\"fillmode\":\"overlay\",\"size\":10,\"solidity\":0.2}},\"type\":\"bar\"}],\"barpolar\":[{\"marker\":{\"line\":{\"color\":\"#E5ECF6\",\"width\":0.5},\"pattern\":{\"fillmode\":\"overlay\",\"size\":10,\"solidity\":0.2}},\"type\":\"barpolar\"}],\"carpet\":[{\"aaxis\":{\"endlinecolor\":\"#2a3f5f\",\"gridcolor\":\"white\",\"linecolor\":\"white\",\"minorgridcolor\":\"white\",\"startlinecolor\":\"#2a3f5f\"},\"baxis\":{\"endlinecolor\":\"#2a3f5f\",\"gridcolor\":\"white\",\"linecolor\":\"white\",\"minorgridcolor\":\"white\",\"startlinecolor\":\"#2a3f5f\"},\"type\":\"carpet\"}],\"choropleth\":[{\"colorbar\":{\"outlinewidth\":0,\"ticks\":\"\"},\"type\":\"choropleth\"}],\"contour\":[{\"colorbar\":{\"outlinewidth\":0,\"ticks\":\"\"},\"colorscale\":[[0.0,\"#0d0887\"],[0.1111111111111111,\"#46039f\"],[0.2222222222222222,\"#7201a8\"],[0.3333333333333333,\"#9c179e\"],[0.4444444444444444,\"#bd3786\"],[0.5555555555555556,\"#d8576b\"],[0.6666666666666666,\"#ed7953\"],[0.7777777777777778,\"#fb9f3a\"],[0.8888888888888888,\"#fdca26\"],[1.0,\"#f0f921\"]],\"type\":\"contour\"}],\"contourcarpet\":[{\"colorbar\":{\"outlinewidth\":0,\"ticks\":\"\"},\"type\":\"contourcarpet\"}],\"heatmap\":[{\"colorbar\":{\"outlinewidth\":0,\"ticks\":\"\"},\"colorscale\":[[0.0,\"#0d0887\"],[0.1111111111111111,\"#46039f\"],[0.2222222222222222,\"#7201a8\"],[0.3333333333333333,\"#9c179e\"],[0.4444444444444444,\"#bd3786\"],[0.5555555555555556,\"#d8576b\"],[0.6666666666666666,\"#ed7953\"],[0.7777777777777778,\"#fb9f3a\"],[0.8888888888888888,\"#fdca26\"],[1.0,\"#f0f921\"]],\"type\":\"heatmap\"}],\"heatmapgl\":[{\"colorbar\":{\"outlinewidth\":0,\"ticks\":\"\"},\"colorscale\":[[0.0,\"#0d0887\"],[0.1111111111111111,\"#46039f\"],[0.2222222222222222,\"#7201a8\"],[0.3333333333333333,\"#9c179e\"],[0.4444444444444444,\"#bd3786\"],[0.5555555555555556,\"#d8576b\"],[0.6666666666666666,\"#ed7953\"],[0.7777777777777778,\"#fb9f3a\"],[0.8888888888888888,\"#fdca26\"],[1.0,\"#f0f921\"]],\"type\":\"heatmapgl\"}],\"histogram\":[{\"marker\":{\"pattern\":{\"fillmode\":\"overlay\",\"size\":10,\"solidity\":0.2}},\"type\":\"histogram\"}],\"histogram2d\":[{\"colorbar\":{\"outlinewidth\":0,\"ticks\":\"\"},\"colorscale\":[[0.0,\"#0d0887\"],[0.1111111111111111,\"#46039f\"],[0.2222222222222222,\"#7201a8\"],[0.3333333333333333,\"#9c179e\"],[0.4444444444444444,\"#bd3786\"],[0.5555555555555556,\"#d8576b\"],[0.6666666666666666,\"#ed7953\"],[0.7777777777777778,\"#fb9f3a\"],[0.8888888888888888,\"#fdca26\"],[1.0,\"#f0f921\"]],\"type\":\"histogram2d\"}],\"histogram2dcontour\":[{\"colorbar\":{\"outlinewidth\":0,\"ticks\":\"\"},\"colorscale\":[[0.0,\"#0d0887\"],[0.1111111111111111,\"#46039f\"],[0.2222222222222222,\"#7201a8\"],[0.3333333333333333,\"#9c179e\"],[0.4444444444444444,\"#bd3786\"],[0.5555555555555556,\"#d8576b\"],[0.6666666666666666,\"#ed7953\"],[0.7777777777777778,\"#fb9f3a\"],[0.8888888888888888,\"#fdca26\"],[1.0,\"#f0f921\"]],\"type\":\"histogram2dcontour\"}],\"mesh3d\":[{\"colorbar\":{\"outlinewidth\":0,\"ticks\":\"\"},\"type\":\"mesh3d\"}],\"parcoords\":[{\"line\":{\"colorbar\":{\"outlinewidth\":0,\"ticks\":\"\"}},\"type\":\"parcoords\"}],\"pie\":[{\"automargin\":true,\"type\":\"pie\"}],\"scatter\":[{\"marker\":{\"colorbar\":{\"outlinewidth\":0,\"ticks\":\"\"}},\"type\":\"scatter\"}],\"scatter3d\":[{\"line\":{\"colorbar\":{\"outlinewidth\":0,\"ticks\":\"\"}},\"marker\":{\"colorbar\":{\"outlinewidth\":0,\"ticks\":\"\"}},\"type\":\"scatter3d\"}],\"scattercarpet\":[{\"marker\":{\"colorbar\":{\"outlinewidth\":0,\"ticks\":\"\"}},\"type\":\"scattercarpet\"}],\"scattergeo\":[{\"marker\":{\"colorbar\":{\"outlinewidth\":0,\"ticks\":\"\"}},\"type\":\"scattergeo\"}],\"scattergl\":[{\"marker\":{\"colorbar\":{\"outlinewidth\":0,\"ticks\":\"\"}},\"type\":\"scattergl\"}],\"scattermapbox\":[{\"marker\":{\"colorbar\":{\"outlinewidth\":0,\"ticks\":\"\"}},\"type\":\"scattermapbox\"}],\"scatterpolar\":[{\"marker\":{\"colorbar\":{\"outlinewidth\":0,\"ticks\":\"\"}},\"type\":\"scatterpolar\"}],\"scatterpolargl\":[{\"marker\":{\"colorbar\":{\"outlinewidth\":0,\"ticks\":\"\"}},\"type\":\"scatterpolargl\"}],\"scatterternary\":[{\"marker\":{\"colorbar\":{\"outlinewidth\":0,\"ticks\":\"\"}},\"type\":\"scatterternary\"}],\"surface\":[{\"colorbar\":{\"outlinewidth\":0,\"ticks\":\"\"},\"colorscale\":[[0.0,\"#0d0887\"],[0.1111111111111111,\"#46039f\"],[0.2222222222222222,\"#7201a8\"],[0.3333333333333333,\"#9c179e\"],[0.4444444444444444,\"#bd3786\"],[0.5555555555555556,\"#d8576b\"],[0.6666666666666666,\"#ed7953\"],[0.7777777777777778,\"#fb9f3a\"],[0.8888888888888888,\"#fdca26\"],[1.0,\"#f0f921\"]],\"type\":\"surface\"}],\"table\":[{\"cells\":{\"fill\":{\"color\":\"#EBF0F8\"},\"line\":{\"color\":\"white\"}},\"header\":{\"fill\":{\"color\":\"#C8D4E3\"},\"line\":{\"color\":\"white\"}},\"type\":\"table\"}]},\"layout\":{\"annotationdefaults\":{\"arrowcolor\":\"#2a3f5f\",\"arrowhead\":0,\"arrowwidth\":1},\"autotypenumbers\":\"strict\",\"coloraxis\":{\"colorbar\":{\"outlinewidth\":0,\"ticks\":\"\"}},\"colorscale\":{\"diverging\":[[0,\"#8e0152\"],[0.1,\"#c51b7d\"],[0.2,\"#de77ae\"],[0.3,\"#f1b6da\"],[0.4,\"#fde0ef\"],[0.5,\"#f7f7f7\"],[0.6,\"#e6f5d0\"],[0.7,\"#b8e186\"],[0.8,\"#7fbc41\"],[0.9,\"#4d9221\"],[1,\"#276419\"]],\"sequential\":[[0.0,\"#0d0887\"],[0.1111111111111111,\"#46039f\"],[0.2222222222222222,\"#7201a8\"],[0.3333333333333333,\"#9c179e\"],[0.4444444444444444,\"#bd3786\"],[0.5555555555555556,\"#d8576b\"],[0.6666666666666666,\"#ed7953\"],[0.7777777777777778,\"#fb9f3a\"],[0.8888888888888888,\"#fdca26\"],[1.0,\"#f0f921\"]],\"sequentialminus\":[[0.0,\"#0d0887\"],[0.1111111111111111,\"#46039f\"],[0.2222222222222222,\"#7201a8\"],[0.3333333333333333,\"#9c179e\"],[0.4444444444444444,\"#bd3786\"],[0.5555555555555556,\"#d8576b\"],[0.6666666666666666,\"#ed7953\"],[0.7777777777777778,\"#fb9f3a\"],[0.8888888888888888,\"#fdca26\"],[1.0,\"#f0f921\"]]},\"colorway\":[\"#636efa\",\"#EF553B\",\"#00cc96\",\"#ab63fa\",\"#FFA15A\",\"#19d3f3\",\"#FF6692\",\"#B6E880\",\"#FF97FF\",\"#FECB52\"],\"font\":{\"color\":\"#2a3f5f\"},\"geo\":{\"bgcolor\":\"white\",\"lakecolor\":\"white\",\"landcolor\":\"#E5ECF6\",\"showlakes\":true,\"showland\":true,\"subunitcolor\":\"white\"},\"hoverlabel\":{\"align\":\"left\"},\"hovermode\":\"closest\",\"mapbox\":{\"style\":\"light\"},\"paper_bgcolor\":\"white\",\"plot_bgcolor\":\"#E5ECF6\",\"polar\":{\"angularaxis\":{\"gridcolor\":\"white\",\"linecolor\":\"white\",\"ticks\":\"\"},\"bgcolor\":\"#E5ECF6\",\"radialaxis\":{\"gridcolor\":\"white\",\"linecolor\":\"white\",\"ticks\":\"\"}},\"scene\":{\"xaxis\":{\"backgroundcolor\":\"#E5ECF6\",\"gridcolor\":\"white\",\"gridwidth\":2,\"linecolor\":\"white\",\"showbackground\":true,\"ticks\":\"\",\"zerolinecolor\":\"white\"},\"yaxis\":{\"backgroundcolor\":\"#E5ECF6\",\"gridcolor\":\"white\",\"gridwidth\":2,\"linecolor\":\"white\",\"showbackground\":true,\"ticks\":\"\",\"zerolinecolor\":\"white\"},\"zaxis\":{\"backgroundcolor\":\"#E5ECF6\",\"gridcolor\":\"white\",\"gridwidth\":2,\"linecolor\":\"white\",\"showbackground\":true,\"ticks\":\"\",\"zerolinecolor\":\"white\"}},\"shapedefaults\":{\"line\":{\"color\":\"#2a3f5f\"}},\"ternary\":{\"aaxis\":{\"gridcolor\":\"white\",\"linecolor\":\"white\",\"ticks\":\"\"},\"baxis\":{\"gridcolor\":\"white\",\"linecolor\":\"white\",\"ticks\":\"\"},\"bgcolor\":\"#E5ECF6\",\"caxis\":{\"gridcolor\":\"white\",\"linecolor\":\"white\",\"ticks\":\"\"}},\"title\":{\"x\":0.05},\"xaxis\":{\"automargin\":true,\"gridcolor\":\"white\",\"linecolor\":\"white\",\"ticks\":\"\",\"title\":{\"standoff\":15},\"zerolinecolor\":\"white\",\"zerolinewidth\":2},\"yaxis\":{\"automargin\":true,\"gridcolor\":\"white\",\"linecolor\":\"white\",\"ticks\":\"\",\"title\":{\"standoff\":15},\"zerolinecolor\":\"white\",\"zerolinewidth\":2}}},\"xaxis\":{\"anchor\":\"y\",\"domain\":[0.0,1.0],\"title\":{\"text\":\"Market Value\"}},\"yaxis\":{\"anchor\":\"x\",\"domain\":[0.0,1.0],\"title\":{\"text\":\"Rk\"}},\"legend\":{\"title\":{\"text\":\"league\"},\"tracegroupgap\":0},\"margin\":{\"t\":60}},                        {\"responsive\": true}                    ).then(function(){\n",
       "                            \n",
       "var gd = document.getElementById('965ff0eb-11bf-4d96-b75b-30b8b678fbd7');\n",
       "var x = new MutationObserver(function (mutations, observer) {{\n",
       "        var display = window.getComputedStyle(gd).display;\n",
       "        if (!display || display === 'none') {{\n",
       "            console.log([gd, 'removed!']);\n",
       "            Plotly.purge(gd);\n",
       "            observer.disconnect();\n",
       "        }}\n",
       "}});\n",
       "\n",
       "// Listen for the removal of the full notebook cells\n",
       "var notebookContainer = gd.closest('#notebook-container');\n",
       "if (notebookContainer) {{\n",
       "    x.observe(notebookContainer, {childList: true});\n",
       "}}\n",
       "\n",
       "// Listen for the clearing of the current output cell\n",
       "var outputEl = gd.closest('.output');\n",
       "if (outputEl) {{\n",
       "    x.observe(outputEl, {childList: true});\n",
       "}}\n",
       "\n",
       "                        })                };                });            </script>        </div>"
      ]
     },
     "metadata": {},
     "output_type": "display_data"
    }
   ],
   "source": [
    "season = \"2004-05\"\n",
    "\n",
    "df = leagues[leagues[\"Years\"] == season]\n",
    "\n",
    "px.scatter(df, x='Market Value', y='Rk', \n",
    "           color=\"league\", hover_name=\"Squad\")"
   ]
  },
  {
   "cell_type": "code",
   "execution_count": null,
   "id": "98d1c333",
   "metadata": {},
   "outputs": [],
   "source": []
  }
 ],
 "metadata": {
  "kernelspec": {
   "display_name": "Python 3 (ipykernel)",
   "language": "python",
   "name": "python3"
  },
  "language_info": {
   "codemirror_mode": {
    "name": "ipython",
    "version": 3
   },
   "file_extension": ".py",
   "mimetype": "text/x-python",
   "name": "python",
   "nbconvert_exporter": "python",
   "pygments_lexer": "ipython3",
   "version": "3.10.2"
  }
 },
 "nbformat": 4,
 "nbformat_minor": 5
}
