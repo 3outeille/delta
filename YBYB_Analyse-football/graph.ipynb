{
 "cells": [
  {
   "cell_type": "code",
   "execution_count": 56,
   "id": "569675c2",
   "metadata": {},
   "outputs": [
    {
     "data": {
      "application/vnd.plotly.v1+json": {
       "config": {
        "plotlyServerURL": "https://plot.ly"
       },
       "data": [
        {
         "hovertemplate": "<b>%{hovertext}</b><br><br>league=liga<br>Age=%{x}<br>Rk=%{y}<br>Market Value=%{marker.size}<extra></extra>",
         "hovertext": [
          "FC Barcelona",
          "Real Madrid",
          "Villarreal CF",
          "Real Betis Balompié",
          "RCD Espanyol Barcelona",
          "Sevilla FC",
          "Valencia CF",
          "Athletic Bilbao",
          "Deportivo de La Coruña",
          "Málaga CF",
          "Atlético de Madrid",
          "Real Zaragoza",
          "Getafe CF",
          "Real Sociedad",
          "CA Osasuna",
          "Racing Santander",
          "RCD Mallorca",
          "Levante UD",
          "CD Numancia",
          "Albacete Balompié"
         ],
         "legendgroup": "liga",
         "marker": {
          "color": "gold",
          "size": [
           273.03,
           303.7,
           66.25,
           85.15,
           45.15,
           70.55,
           195.9,
           53.05,
           144.45,
           32.85,
           125.65,
           51.13,
           13.85,
           53.55,
           26.65,
           32.9,
           42.65,
           24.25,
           13.4,
           20.25
          ],
          "sizemode": "area",
          "sizeref": 0.207175,
          "symbol": "circle"
         },
         "mode": "markers",
         "name": "liga",
         "orientation": "v",
         "showlegend": true,
         "type": "scatter",
         "x": [
          27,
          24.952381,
          24.611111,
          27.45,
          26.529412,
          24.111111,
          23.828571,
          22.222222,
          28.346154,
          26.2,
          25.456522,
          26.92,
          26.48,
          24.4,
          25.818182,
          24.866667,
          26.315789,
          27.217391,
          26.235294,
          25.368421
         ],
         "xaxis": "x",
         "y": [
          1,
          2,
          3,
          4,
          5,
          6,
          7,
          8,
          9,
          10,
          11,
          12,
          13,
          14,
          15,
          16,
          17,
          18,
          19,
          20
         ],
         "yaxis": "y"
        },
        {
         "hovertemplate": "<b>%{hovertext}</b><br><br>league=PL<br>Age=%{x}<br>Rk=%{y}<br>Market Value=%{marker.size}<extra></extra>",
         "hovertext": [
          "Chelsea FC FC",
          "Arsenal FC",
          "Manchester United",
          "Everton FC",
          "Liverpool FC",
          "Bolton Wanderers",
          "Middlesbrough",
          "Manchester City",
          "Tottenham Hotspur",
          "Aston Villa",
          "Charlton Athletic",
          "Birmingham City",
          "Fulham FC",
          "Newcastle United",
          "Blackburn Rovers",
          "Portsmouth FC",
          "West Bromwich Albion",
          "Crystal Palace",
          "Norwich City",
          "Southampton FC"
         ],
         "legendgroup": "PL",
         "marker": {
          "color": "blue",
          "size": [
           331.48,
           247,
           293.23,
           74.28,
           222.13,
           63.58,
           88.83,
           94.3,
           127.25,
           84.18,
           57.8,
           105.98,
           65.23,
           125.85,
           73.88,
           63,
           48.65,
           38.53,
           30.95,
           85.48
          ],
          "sizemode": "area",
          "sizeref": 0.207175,
          "symbol": "circle"
         },
         "mode": "markers",
         "name": "PL",
         "orientation": "v",
         "showlegend": true,
         "type": "scatter",
         "x": [
          24.521739,
          22.829268,
          21.846154,
          25,
          22.837209,
          25.66,
          24.069767,
          24.722222,
          23.485714,
          22.290323,
          24.527778,
          24.42,
          23.021277,
          23.722222,
          25.285714,
          24.47619,
          24.829268,
          24.818182,
          25.424242,
          23.262295
         ],
         "xaxis": "x",
         "y": [
          1,
          2,
          3,
          4,
          5,
          6,
          7,
          8,
          9,
          10,
          11,
          12,
          13,
          14,
          15,
          16,
          17,
          18,
          19,
          20
         ],
         "yaxis": "y"
        },
        {
         "hovertemplate": "<b>%{hovertext}</b><br><br>league=serieA<br>Age=%{x}<br>Rk=%{y}<br>Market Value=%{marker.size}<extra></extra>",
         "hovertext": [
          "Juventus FC",
          "AC Milan",
          "Inter Milan",
          "Udinese Calcio",
          "UC Sampdoria",
          "US Palermo",
          "FC Messina Peloro",
          "AS Roma",
          "AS Livorno",
          "Reggina Calcio",
          "US Lecce",
          "Cagliari Calcio",
          "SS Lazio",
          "AC Siena",
          "Chievo Verona",
          "ACF Fiorentina",
          "Parma FC",
          "Bologna FC 1909",
          "Brescia Calcio",
          "Atalanta BC"
         ],
         "legendgroup": "serieA",
         "marker": {
          "color": "green",
          "size": [
           304.9,
           273.7,
           240.63,
           83.95,
           51,
           78.75,
           32.65,
           187.6,
           25,
           29.3,
           44.9,
           23.9,
           77.05,
           54.9,
           46.28,
           111.83,
           110.05,
           29.94,
           45.25,
           41.7
          ],
          "sizemode": "area",
          "sizeref": 0.207175,
          "symbol": "circle"
         },
         "mode": "markers",
         "name": "serieA",
         "orientation": "v",
         "showlegend": true,
         "type": "scatter",
         "x": [
          23.4,
          23.551724,
          23.65625,
          24.62069,
          24.947368,
          24.45,
          24.810811,
          22.5,
          24.090909,
          25.285714,
          23.3,
          24.409091,
          26.823529,
          26.285714,
          23.903846,
          25.128205,
          24.693878,
          25.764706,
          23.742857,
          23.529412
         ],
         "xaxis": "x",
         "y": [
          1,
          2,
          3,
          4,
          5,
          6,
          7,
          8,
          9,
          10,
          11,
          12,
          13,
          14,
          15,
          16,
          17,
          18,
          19,
          20
         ],
         "yaxis": "y"
        },
        {
         "hovertemplate": "<b>%{hovertext}</b><br><br>league=ligue1<br>Age=%{x}<br>Rk=%{y}<br>Market Value=%{marker.size}<extra></extra>",
         "hovertext": [
          "Olympique Lyon",
          "LOSC Lille",
          "AS Monaco",
          "Stade Rennais",
          "Olympique Marseille",
          "Saint-Etienne",
          "RC Lens",
          "Auxerre",
          "Paris Saint-Germain",
          "FC Sochaux-Montbéliard",
          "RC Strasbourg Alsace",
          "OGC Nice",
          "Toulouse",
          "Ajaccio",
          "FC Girondins Bordeaux",
          "FC Metz",
          "FC Nantes",
          "SM Caen",
          "SC Bastia",
          "FC Istres Ouest Provence"
         ],
         "legendgroup": "ligue1",
         "marker": {
          "color": "black",
          "size": [
           133.9,
           56.25,
           103.8,
           61.3,
           77.7,
           37.5,
           52.5,
           47.85,
           81.75,
           49.65,
           35.1,
           34.1,
           37.1,
           24.55,
           52.6,
           35.7,
           47.55,
           22.7,
           31.85,
           18.5
          ],
          "sizemode": "area",
          "sizeref": 0.207175,
          "symbol": "circle"
         },
         "mode": "markers",
         "name": "ligue1",
         "orientation": "v",
         "showlegend": true,
         "type": "scatter",
         "x": [
          24.032258,
          24.410256,
          23.780488,
          24.354839,
          25.169811,
          23.515152,
          25.026316,
          22.791667,
          24.85,
          24,
          23.724138,
          25.295455,
          23.137931,
          27.142857,
          23.53125,
          23.021739,
          23.181818,
          24.642857,
          26.451613,
          25.365854
         ],
         "xaxis": "x",
         "y": [
          1,
          2,
          3,
          4,
          5,
          6,
          7,
          8,
          9,
          10,
          11,
          12,
          13,
          14,
          15,
          16,
          17,
          18,
          19,
          20
         ],
         "yaxis": "y"
        },
        {
         "hovertemplate": "<b>%{hovertext}</b><br><br>league=bundesliga<br>Age=%{x}<br>Rk=%{y}<br>Market Value=%{marker.size}<extra></extra>",
         "hovertext": [
          "Bayern Munich",
          "Schalke 04",
          "SV Werder Bremen",
          "Hertha BSC",
          "VfB Stuttgart",
          "Bayer 04 Leverkusen",
          "Borussia Dortmund",
          "Hamburger SV",
          "VfL Wolfsburg",
          "Hannover 96",
          "FSV Mainz 05",
          "Kaiserslautern",
          "Arminia Bielefeld",
          "Nuremberg",
          "Borussia Mönchengladbach",
          "VfL Bochum",
          "Hansa Rostock",
          "SC Freiburg"
         ],
         "legendgroup": "bundesliga",
         "marker": {
          "color": "red",
          "size": [
           175.3,
           86.33,
           99.23,
           71.78,
           79.5,
           86.93,
           78.33,
           65.6,
           59.3,
           42.98,
           16.73,
           33.75,
           24.65,
           34.9,
           49.43,
           31.4,
           25.9,
           22.43
          ],
          "sizemode": "area",
          "sizeref": 0.207175,
          "symbol": "circle"
         },
         "mode": "markers",
         "name": "bundesliga",
         "orientation": "v",
         "showlegend": true,
         "type": "scatter",
         "x": [
          25.555556,
          25.64,
          25.76,
          23.545455,
          23.6,
          24.076923,
          24,
          23.903226,
          24.263158,
          25.815789,
          25.380952,
          26.793103,
          23.785714,
          26.733333,
          28.194444,
          25.375,
          27.125,
          23.4
         ],
         "xaxis": "x",
         "y": [
          1,
          2,
          3,
          4,
          5,
          6,
          7,
          8,
          9,
          10,
          11,
          12,
          13,
          14,
          15,
          16,
          17,
          18
         ],
         "yaxis": "y"
        }
       ],
       "layout": {
        "legend": {
         "itemsizing": "constant",
         "title": {
          "text": "league"
         },
         "tracegroupgap": 0
        },
        "template": {
         "data": {
          "bar": [
           {
            "error_x": {
             "color": "#2a3f5f"
            },
            "error_y": {
             "color": "#2a3f5f"
            },
            "marker": {
             "line": {
              "color": "#E5ECF6",
              "width": 0.5
             },
             "pattern": {
              "fillmode": "overlay",
              "size": 10,
              "solidity": 0.2
             }
            },
            "type": "bar"
           }
          ],
          "barpolar": [
           {
            "marker": {
             "line": {
              "color": "#E5ECF6",
              "width": 0.5
             },
             "pattern": {
              "fillmode": "overlay",
              "size": 10,
              "solidity": 0.2
             }
            },
            "type": "barpolar"
           }
          ],
          "carpet": [
           {
            "aaxis": {
             "endlinecolor": "#2a3f5f",
             "gridcolor": "white",
             "linecolor": "white",
             "minorgridcolor": "white",
             "startlinecolor": "#2a3f5f"
            },
            "baxis": {
             "endlinecolor": "#2a3f5f",
             "gridcolor": "white",
             "linecolor": "white",
             "minorgridcolor": "white",
             "startlinecolor": "#2a3f5f"
            },
            "type": "carpet"
           }
          ],
          "choropleth": [
           {
            "colorbar": {
             "outlinewidth": 0,
             "ticks": ""
            },
            "type": "choropleth"
           }
          ],
          "contour": [
           {
            "colorbar": {
             "outlinewidth": 0,
             "ticks": ""
            },
            "colorscale": [
             [
              0,
              "#0d0887"
             ],
             [
              0.1111111111111111,
              "#46039f"
             ],
             [
              0.2222222222222222,
              "#7201a8"
             ],
             [
              0.3333333333333333,
              "#9c179e"
             ],
             [
              0.4444444444444444,
              "#bd3786"
             ],
             [
              0.5555555555555556,
              "#d8576b"
             ],
             [
              0.6666666666666666,
              "#ed7953"
             ],
             [
              0.7777777777777778,
              "#fb9f3a"
             ],
             [
              0.8888888888888888,
              "#fdca26"
             ],
             [
              1,
              "#f0f921"
             ]
            ],
            "type": "contour"
           }
          ],
          "contourcarpet": [
           {
            "colorbar": {
             "outlinewidth": 0,
             "ticks": ""
            },
            "type": "contourcarpet"
           }
          ],
          "heatmap": [
           {
            "colorbar": {
             "outlinewidth": 0,
             "ticks": ""
            },
            "colorscale": [
             [
              0,
              "#0d0887"
             ],
             [
              0.1111111111111111,
              "#46039f"
             ],
             [
              0.2222222222222222,
              "#7201a8"
             ],
             [
              0.3333333333333333,
              "#9c179e"
             ],
             [
              0.4444444444444444,
              "#bd3786"
             ],
             [
              0.5555555555555556,
              "#d8576b"
             ],
             [
              0.6666666666666666,
              "#ed7953"
             ],
             [
              0.7777777777777778,
              "#fb9f3a"
             ],
             [
              0.8888888888888888,
              "#fdca26"
             ],
             [
              1,
              "#f0f921"
             ]
            ],
            "type": "heatmap"
           }
          ],
          "heatmapgl": [
           {
            "colorbar": {
             "outlinewidth": 0,
             "ticks": ""
            },
            "colorscale": [
             [
              0,
              "#0d0887"
             ],
             [
              0.1111111111111111,
              "#46039f"
             ],
             [
              0.2222222222222222,
              "#7201a8"
             ],
             [
              0.3333333333333333,
              "#9c179e"
             ],
             [
              0.4444444444444444,
              "#bd3786"
             ],
             [
              0.5555555555555556,
              "#d8576b"
             ],
             [
              0.6666666666666666,
              "#ed7953"
             ],
             [
              0.7777777777777778,
              "#fb9f3a"
             ],
             [
              0.8888888888888888,
              "#fdca26"
             ],
             [
              1,
              "#f0f921"
             ]
            ],
            "type": "heatmapgl"
           }
          ],
          "histogram": [
           {
            "marker": {
             "pattern": {
              "fillmode": "overlay",
              "size": 10,
              "solidity": 0.2
             }
            },
            "type": "histogram"
           }
          ],
          "histogram2d": [
           {
            "colorbar": {
             "outlinewidth": 0,
             "ticks": ""
            },
            "colorscale": [
             [
              0,
              "#0d0887"
             ],
             [
              0.1111111111111111,
              "#46039f"
             ],
             [
              0.2222222222222222,
              "#7201a8"
             ],
             [
              0.3333333333333333,
              "#9c179e"
             ],
             [
              0.4444444444444444,
              "#bd3786"
             ],
             [
              0.5555555555555556,
              "#d8576b"
             ],
             [
              0.6666666666666666,
              "#ed7953"
             ],
             [
              0.7777777777777778,
              "#fb9f3a"
             ],
             [
              0.8888888888888888,
              "#fdca26"
             ],
             [
              1,
              "#f0f921"
             ]
            ],
            "type": "histogram2d"
           }
          ],
          "histogram2dcontour": [
           {
            "colorbar": {
             "outlinewidth": 0,
             "ticks": ""
            },
            "colorscale": [
             [
              0,
              "#0d0887"
             ],
             [
              0.1111111111111111,
              "#46039f"
             ],
             [
              0.2222222222222222,
              "#7201a8"
             ],
             [
              0.3333333333333333,
              "#9c179e"
             ],
             [
              0.4444444444444444,
              "#bd3786"
             ],
             [
              0.5555555555555556,
              "#d8576b"
             ],
             [
              0.6666666666666666,
              "#ed7953"
             ],
             [
              0.7777777777777778,
              "#fb9f3a"
             ],
             [
              0.8888888888888888,
              "#fdca26"
             ],
             [
              1,
              "#f0f921"
             ]
            ],
            "type": "histogram2dcontour"
           }
          ],
          "mesh3d": [
           {
            "colorbar": {
             "outlinewidth": 0,
             "ticks": ""
            },
            "type": "mesh3d"
           }
          ],
          "parcoords": [
           {
            "line": {
             "colorbar": {
              "outlinewidth": 0,
              "ticks": ""
             }
            },
            "type": "parcoords"
           }
          ],
          "pie": [
           {
            "automargin": true,
            "type": "pie"
           }
          ],
          "scatter": [
           {
            "marker": {
             "colorbar": {
              "outlinewidth": 0,
              "ticks": ""
             }
            },
            "type": "scatter"
           }
          ],
          "scatter3d": [
           {
            "line": {
             "colorbar": {
              "outlinewidth": 0,
              "ticks": ""
             }
            },
            "marker": {
             "colorbar": {
              "outlinewidth": 0,
              "ticks": ""
             }
            },
            "type": "scatter3d"
           }
          ],
          "scattercarpet": [
           {
            "marker": {
             "colorbar": {
              "outlinewidth": 0,
              "ticks": ""
             }
            },
            "type": "scattercarpet"
           }
          ],
          "scattergeo": [
           {
            "marker": {
             "colorbar": {
              "outlinewidth": 0,
              "ticks": ""
             }
            },
            "type": "scattergeo"
           }
          ],
          "scattergl": [
           {
            "marker": {
             "colorbar": {
              "outlinewidth": 0,
              "ticks": ""
             }
            },
            "type": "scattergl"
           }
          ],
          "scattermapbox": [
           {
            "marker": {
             "colorbar": {
              "outlinewidth": 0,
              "ticks": ""
             }
            },
            "type": "scattermapbox"
           }
          ],
          "scatterpolar": [
           {
            "marker": {
             "colorbar": {
              "outlinewidth": 0,
              "ticks": ""
             }
            },
            "type": "scatterpolar"
           }
          ],
          "scatterpolargl": [
           {
            "marker": {
             "colorbar": {
              "outlinewidth": 0,
              "ticks": ""
             }
            },
            "type": "scatterpolargl"
           }
          ],
          "scatterternary": [
           {
            "marker": {
             "colorbar": {
              "outlinewidth": 0,
              "ticks": ""
             }
            },
            "type": "scatterternary"
           }
          ],
          "surface": [
           {
            "colorbar": {
             "outlinewidth": 0,
             "ticks": ""
            },
            "colorscale": [
             [
              0,
              "#0d0887"
             ],
             [
              0.1111111111111111,
              "#46039f"
             ],
             [
              0.2222222222222222,
              "#7201a8"
             ],
             [
              0.3333333333333333,
              "#9c179e"
             ],
             [
              0.4444444444444444,
              "#bd3786"
             ],
             [
              0.5555555555555556,
              "#d8576b"
             ],
             [
              0.6666666666666666,
              "#ed7953"
             ],
             [
              0.7777777777777778,
              "#fb9f3a"
             ],
             [
              0.8888888888888888,
              "#fdca26"
             ],
             [
              1,
              "#f0f921"
             ]
            ],
            "type": "surface"
           }
          ],
          "table": [
           {
            "cells": {
             "fill": {
              "color": "#EBF0F8"
             },
             "line": {
              "color": "white"
             }
            },
            "header": {
             "fill": {
              "color": "#C8D4E3"
             },
             "line": {
              "color": "white"
             }
            },
            "type": "table"
           }
          ]
         },
         "layout": {
          "annotationdefaults": {
           "arrowcolor": "#2a3f5f",
           "arrowhead": 0,
           "arrowwidth": 1
          },
          "autotypenumbers": "strict",
          "coloraxis": {
           "colorbar": {
            "outlinewidth": 0,
            "ticks": ""
           }
          },
          "colorscale": {
           "diverging": [
            [
             0,
             "#8e0152"
            ],
            [
             0.1,
             "#c51b7d"
            ],
            [
             0.2,
             "#de77ae"
            ],
            [
             0.3,
             "#f1b6da"
            ],
            [
             0.4,
             "#fde0ef"
            ],
            [
             0.5,
             "#f7f7f7"
            ],
            [
             0.6,
             "#e6f5d0"
            ],
            [
             0.7,
             "#b8e186"
            ],
            [
             0.8,
             "#7fbc41"
            ],
            [
             0.9,
             "#4d9221"
            ],
            [
             1,
             "#276419"
            ]
           ],
           "sequential": [
            [
             0,
             "#0d0887"
            ],
            [
             0.1111111111111111,
             "#46039f"
            ],
            [
             0.2222222222222222,
             "#7201a8"
            ],
            [
             0.3333333333333333,
             "#9c179e"
            ],
            [
             0.4444444444444444,
             "#bd3786"
            ],
            [
             0.5555555555555556,
             "#d8576b"
            ],
            [
             0.6666666666666666,
             "#ed7953"
            ],
            [
             0.7777777777777778,
             "#fb9f3a"
            ],
            [
             0.8888888888888888,
             "#fdca26"
            ],
            [
             1,
             "#f0f921"
            ]
           ],
           "sequentialminus": [
            [
             0,
             "#0d0887"
            ],
            [
             0.1111111111111111,
             "#46039f"
            ],
            [
             0.2222222222222222,
             "#7201a8"
            ],
            [
             0.3333333333333333,
             "#9c179e"
            ],
            [
             0.4444444444444444,
             "#bd3786"
            ],
            [
             0.5555555555555556,
             "#d8576b"
            ],
            [
             0.6666666666666666,
             "#ed7953"
            ],
            [
             0.7777777777777778,
             "#fb9f3a"
            ],
            [
             0.8888888888888888,
             "#fdca26"
            ],
            [
             1,
             "#f0f921"
            ]
           ]
          },
          "colorway": [
           "#636efa",
           "#EF553B",
           "#00cc96",
           "#ab63fa",
           "#FFA15A",
           "#19d3f3",
           "#FF6692",
           "#B6E880",
           "#FF97FF",
           "#FECB52"
          ],
          "font": {
           "color": "#2a3f5f"
          },
          "geo": {
           "bgcolor": "white",
           "lakecolor": "white",
           "landcolor": "#E5ECF6",
           "showlakes": true,
           "showland": true,
           "subunitcolor": "white"
          },
          "hoverlabel": {
           "align": "left"
          },
          "hovermode": "closest",
          "mapbox": {
           "style": "light"
          },
          "paper_bgcolor": "white",
          "plot_bgcolor": "#E5ECF6",
          "polar": {
           "angularaxis": {
            "gridcolor": "white",
            "linecolor": "white",
            "ticks": ""
           },
           "bgcolor": "#E5ECF6",
           "radialaxis": {
            "gridcolor": "white",
            "linecolor": "white",
            "ticks": ""
           }
          },
          "scene": {
           "xaxis": {
            "backgroundcolor": "#E5ECF6",
            "gridcolor": "white",
            "gridwidth": 2,
            "linecolor": "white",
            "showbackground": true,
            "ticks": "",
            "zerolinecolor": "white"
           },
           "yaxis": {
            "backgroundcolor": "#E5ECF6",
            "gridcolor": "white",
            "gridwidth": 2,
            "linecolor": "white",
            "showbackground": true,
            "ticks": "",
            "zerolinecolor": "white"
           },
           "zaxis": {
            "backgroundcolor": "#E5ECF6",
            "gridcolor": "white",
            "gridwidth": 2,
            "linecolor": "white",
            "showbackground": true,
            "ticks": "",
            "zerolinecolor": "white"
           }
          },
          "shapedefaults": {
           "line": {
            "color": "#2a3f5f"
           }
          },
          "ternary": {
           "aaxis": {
            "gridcolor": "white",
            "linecolor": "white",
            "ticks": ""
           },
           "baxis": {
            "gridcolor": "white",
            "linecolor": "white",
            "ticks": ""
           },
           "bgcolor": "#E5ECF6",
           "caxis": {
            "gridcolor": "white",
            "linecolor": "white",
            "ticks": ""
           }
          },
          "title": {
           "x": 0.05
          },
          "xaxis": {
           "automargin": true,
           "gridcolor": "white",
           "linecolor": "white",
           "ticks": "",
           "title": {
            "standoff": 15
           },
           "zerolinecolor": "white",
           "zerolinewidth": 2
          },
          "yaxis": {
           "automargin": true,
           "gridcolor": "white",
           "linecolor": "white",
           "ticks": "",
           "title": {
            "standoff": 15
           },
           "zerolinecolor": "white",
           "zerolinewidth": 2
          }
         }
        },
        "title": {
         "text": "Classement en fonction de l'age et de la valeur marchande des clubs "
        },
        "xaxis": {
         "anchor": "y",
         "domain": [
          0,
          1
         ],
         "title": {
          "text": "Age"
         }
        },
        "yaxis": {
         "anchor": "x",
         "domain": [
          0,
          1
         ],
         "title": {
          "text": "Rk"
         }
        }
       }
      },
      "text/html": [
       "<div>                            <div id=\"68192367-9b1d-4a3b-8555-1c2a256381b4\" class=\"plotly-graph-div\" style=\"height:525px; width:100%;\"></div>            <script type=\"text/javascript\">                require([\"plotly\"], function(Plotly) {                    window.PLOTLYENV=window.PLOTLYENV || {};                                    if (document.getElementById(\"68192367-9b1d-4a3b-8555-1c2a256381b4\")) {                    Plotly.newPlot(                        \"68192367-9b1d-4a3b-8555-1c2a256381b4\",                        [{\"hovertemplate\":\"<b>%{hovertext}</b><br><br>league=liga<br>Age=%{x}<br>Rk=%{y}<br>Market Value=%{marker.size}<extra></extra>\",\"hovertext\":[\"FC Barcelona\",\"Real Madrid\",\"Villarreal CF\",\"Real Betis Balompi\\u00e9\",\"RCD Espanyol Barcelona\",\"Sevilla FC\",\"Valencia CF\",\"Athletic Bilbao\",\"Deportivo de La Coru\\u00f1a\",\"M\\u00e1laga CF\",\"Atl\\u00e9tico de Madrid\",\"Real Zaragoza\",\"Getafe CF\",\"Real Sociedad\",\"CA Osasuna\",\"Racing Santander\",\"RCD Mallorca\",\"Levante UD\",\"CD Numancia\",\"Albacete Balompi\\u00e9\"],\"legendgroup\":\"liga\",\"marker\":{\"color\":\"gold\",\"size\":[273.03,303.7,66.25,85.15,45.15,70.55,195.9,53.05,144.45,32.85,125.65,51.13,13.85,53.55,26.65,32.9,42.65,24.25,13.4,20.25],\"sizemode\":\"area\",\"sizeref\":0.207175,\"symbol\":\"circle\"},\"mode\":\"markers\",\"name\":\"liga\",\"orientation\":\"v\",\"showlegend\":true,\"x\":[27.0,24.952381,24.611111,27.45,26.529412,24.111111,23.828571,22.222222,28.346154,26.2,25.456522,26.92,26.48,24.4,25.818182,24.866667,26.315789,27.217391,26.235294,25.368421],\"xaxis\":\"x\",\"y\":[1,2,3,4,5,6,7,8,9,10,11,12,13,14,15,16,17,18,19,20],\"yaxis\":\"y\",\"type\":\"scatter\"},{\"hovertemplate\":\"<b>%{hovertext}</b><br><br>league=PL<br>Age=%{x}<br>Rk=%{y}<br>Market Value=%{marker.size}<extra></extra>\",\"hovertext\":[\"Chelsea FC FC\",\"Arsenal FC\",\"Manchester United\",\"Everton FC\",\"Liverpool FC\",\"Bolton Wanderers\",\"Middlesbrough\",\"Manchester City\",\"Tottenham Hotspur\",\"Aston Villa\",\"Charlton Athletic\",\"Birmingham City\",\"Fulham FC\",\"Newcastle United\",\"Blackburn Rovers\",\"Portsmouth FC\",\"West Bromwich Albion\",\"Crystal Palace\",\"Norwich City\",\"Southampton FC\"],\"legendgroup\":\"PL\",\"marker\":{\"color\":\"blue\",\"size\":[331.48,247.0,293.23,74.28,222.13,63.58,88.83,94.3,127.25,84.18,57.8,105.98,65.23,125.85,73.88,63.0,48.65,38.53,30.95,85.48],\"sizemode\":\"area\",\"sizeref\":0.207175,\"symbol\":\"circle\"},\"mode\":\"markers\",\"name\":\"PL\",\"orientation\":\"v\",\"showlegend\":true,\"x\":[24.521739,22.829268,21.846154,25.0,22.837209,25.66,24.069767,24.722222,23.485714,22.290323,24.527778,24.42,23.021277,23.722222,25.285714,24.47619,24.829268,24.818182,25.424242,23.262295],\"xaxis\":\"x\",\"y\":[1,2,3,4,5,6,7,8,9,10,11,12,13,14,15,16,17,18,19,20],\"yaxis\":\"y\",\"type\":\"scatter\"},{\"hovertemplate\":\"<b>%{hovertext}</b><br><br>league=serieA<br>Age=%{x}<br>Rk=%{y}<br>Market Value=%{marker.size}<extra></extra>\",\"hovertext\":[\"Juventus FC\",\"AC Milan\",\"Inter Milan\",\"Udinese Calcio\",\"UC Sampdoria\",\"US Palermo\",\"FC Messina Peloro\",\"AS Roma\",\"AS Livorno\",\"Reggina Calcio\",\"US Lecce\",\"Cagliari Calcio\",\"SS Lazio\",\"AC Siena\",\"Chievo Verona\",\"ACF Fiorentina\",\"Parma FC\",\"Bologna FC 1909\",\"Brescia Calcio\",\"Atalanta BC\"],\"legendgroup\":\"serieA\",\"marker\":{\"color\":\"green\",\"size\":[304.9,273.7,240.63,83.95,51.0,78.75,32.65,187.6,25.0,29.3,44.9,23.9,77.05,54.9,46.28,111.83,110.05,29.94,45.25,41.7],\"sizemode\":\"area\",\"sizeref\":0.207175,\"symbol\":\"circle\"},\"mode\":\"markers\",\"name\":\"serieA\",\"orientation\":\"v\",\"showlegend\":true,\"x\":[23.4,23.551724,23.65625,24.62069,24.947368,24.45,24.810811,22.5,24.090909,25.285714,23.3,24.409091,26.823529,26.285714,23.903846,25.128205,24.693878,25.764706,23.742857,23.529412],\"xaxis\":\"x\",\"y\":[1,2,3,4,5,6,7,8,9,10,11,12,13,14,15,16,17,18,19,20],\"yaxis\":\"y\",\"type\":\"scatter\"},{\"hovertemplate\":\"<b>%{hovertext}</b><br><br>league=ligue1<br>Age=%{x}<br>Rk=%{y}<br>Market Value=%{marker.size}<extra></extra>\",\"hovertext\":[\"Olympique Lyon\",\"LOSC Lille\",\"AS Monaco\",\"Stade Rennais\",\"Olympique Marseille\",\"Saint-Etienne\",\"RC Lens\",\"Auxerre\",\"Paris Saint-Germain\",\"FC Sochaux-Montb\\u00e9liard\",\"RC Strasbourg Alsace\",\"OGC Nice\",\"Toulouse\",\"Ajaccio\",\"FC Girondins Bordeaux\",\"FC Metz\",\"FC Nantes\",\"SM Caen\",\"SC Bastia\",\"FC Istres Ouest Provence\"],\"legendgroup\":\"ligue1\",\"marker\":{\"color\":\"black\",\"size\":[133.9,56.25,103.8,61.3,77.7,37.5,52.5,47.85,81.75,49.65,35.1,34.1,37.1,24.55,52.6,35.7,47.55,22.7,31.85,18.5],\"sizemode\":\"area\",\"sizeref\":0.207175,\"symbol\":\"circle\"},\"mode\":\"markers\",\"name\":\"ligue1\",\"orientation\":\"v\",\"showlegend\":true,\"x\":[24.032258,24.410256,23.780488,24.354839,25.169811,23.515152,25.026316,22.791667,24.85,24.0,23.724138,25.295455,23.137931,27.142857,23.53125,23.021739,23.181818,24.642857,26.451613,25.365854],\"xaxis\":\"x\",\"y\":[1,2,3,4,5,6,7,8,9,10,11,12,13,14,15,16,17,18,19,20],\"yaxis\":\"y\",\"type\":\"scatter\"},{\"hovertemplate\":\"<b>%{hovertext}</b><br><br>league=bundesliga<br>Age=%{x}<br>Rk=%{y}<br>Market Value=%{marker.size}<extra></extra>\",\"hovertext\":[\"Bayern Munich\",\"Schalke 04\",\"SV Werder Bremen\",\"Hertha BSC\",\"VfB Stuttgart\",\"Bayer 04 Leverkusen\",\"Borussia Dortmund\",\"Hamburger SV\",\"VfL Wolfsburg\",\"Hannover 96\",\"FSV Mainz 05\",\"Kaiserslautern\",\"Arminia Bielefeld\",\"Nuremberg\",\"Borussia M\\u00f6nchengladbach\",\"VfL Bochum\",\"Hansa Rostock\",\"SC Freiburg\"],\"legendgroup\":\"bundesliga\",\"marker\":{\"color\":\"red\",\"size\":[175.3,86.33,99.23,71.78,79.5,86.93,78.33,65.6,59.3,42.98,16.73,33.75,24.65,34.9,49.43,31.4,25.9,22.43],\"sizemode\":\"area\",\"sizeref\":0.207175,\"symbol\":\"circle\"},\"mode\":\"markers\",\"name\":\"bundesliga\",\"orientation\":\"v\",\"showlegend\":true,\"x\":[25.555556,25.64,25.76,23.545455,23.6,24.076923,24.0,23.903226,24.263158,25.815789,25.380952,26.793103,23.785714,26.733333,28.194444,25.375,27.125,23.4],\"xaxis\":\"x\",\"y\":[1,2,3,4,5,6,7,8,9,10,11,12,13,14,15,16,17,18],\"yaxis\":\"y\",\"type\":\"scatter\"}],                        {\"template\":{\"data\":{\"bar\":[{\"error_x\":{\"color\":\"#2a3f5f\"},\"error_y\":{\"color\":\"#2a3f5f\"},\"marker\":{\"line\":{\"color\":\"#E5ECF6\",\"width\":0.5},\"pattern\":{\"fillmode\":\"overlay\",\"size\":10,\"solidity\":0.2}},\"type\":\"bar\"}],\"barpolar\":[{\"marker\":{\"line\":{\"color\":\"#E5ECF6\",\"width\":0.5},\"pattern\":{\"fillmode\":\"overlay\",\"size\":10,\"solidity\":0.2}},\"type\":\"barpolar\"}],\"carpet\":[{\"aaxis\":{\"endlinecolor\":\"#2a3f5f\",\"gridcolor\":\"white\",\"linecolor\":\"white\",\"minorgridcolor\":\"white\",\"startlinecolor\":\"#2a3f5f\"},\"baxis\":{\"endlinecolor\":\"#2a3f5f\",\"gridcolor\":\"white\",\"linecolor\":\"white\",\"minorgridcolor\":\"white\",\"startlinecolor\":\"#2a3f5f\"},\"type\":\"carpet\"}],\"choropleth\":[{\"colorbar\":{\"outlinewidth\":0,\"ticks\":\"\"},\"type\":\"choropleth\"}],\"contour\":[{\"colorbar\":{\"outlinewidth\":0,\"ticks\":\"\"},\"colorscale\":[[0.0,\"#0d0887\"],[0.1111111111111111,\"#46039f\"],[0.2222222222222222,\"#7201a8\"],[0.3333333333333333,\"#9c179e\"],[0.4444444444444444,\"#bd3786\"],[0.5555555555555556,\"#d8576b\"],[0.6666666666666666,\"#ed7953\"],[0.7777777777777778,\"#fb9f3a\"],[0.8888888888888888,\"#fdca26\"],[1.0,\"#f0f921\"]],\"type\":\"contour\"}],\"contourcarpet\":[{\"colorbar\":{\"outlinewidth\":0,\"ticks\":\"\"},\"type\":\"contourcarpet\"}],\"heatmap\":[{\"colorbar\":{\"outlinewidth\":0,\"ticks\":\"\"},\"colorscale\":[[0.0,\"#0d0887\"],[0.1111111111111111,\"#46039f\"],[0.2222222222222222,\"#7201a8\"],[0.3333333333333333,\"#9c179e\"],[0.4444444444444444,\"#bd3786\"],[0.5555555555555556,\"#d8576b\"],[0.6666666666666666,\"#ed7953\"],[0.7777777777777778,\"#fb9f3a\"],[0.8888888888888888,\"#fdca26\"],[1.0,\"#f0f921\"]],\"type\":\"heatmap\"}],\"heatmapgl\":[{\"colorbar\":{\"outlinewidth\":0,\"ticks\":\"\"},\"colorscale\":[[0.0,\"#0d0887\"],[0.1111111111111111,\"#46039f\"],[0.2222222222222222,\"#7201a8\"],[0.3333333333333333,\"#9c179e\"],[0.4444444444444444,\"#bd3786\"],[0.5555555555555556,\"#d8576b\"],[0.6666666666666666,\"#ed7953\"],[0.7777777777777778,\"#fb9f3a\"],[0.8888888888888888,\"#fdca26\"],[1.0,\"#f0f921\"]],\"type\":\"heatmapgl\"}],\"histogram\":[{\"marker\":{\"pattern\":{\"fillmode\":\"overlay\",\"size\":10,\"solidity\":0.2}},\"type\":\"histogram\"}],\"histogram2d\":[{\"colorbar\":{\"outlinewidth\":0,\"ticks\":\"\"},\"colorscale\":[[0.0,\"#0d0887\"],[0.1111111111111111,\"#46039f\"],[0.2222222222222222,\"#7201a8\"],[0.3333333333333333,\"#9c179e\"],[0.4444444444444444,\"#bd3786\"],[0.5555555555555556,\"#d8576b\"],[0.6666666666666666,\"#ed7953\"],[0.7777777777777778,\"#fb9f3a\"],[0.8888888888888888,\"#fdca26\"],[1.0,\"#f0f921\"]],\"type\":\"histogram2d\"}],\"histogram2dcontour\":[{\"colorbar\":{\"outlinewidth\":0,\"ticks\":\"\"},\"colorscale\":[[0.0,\"#0d0887\"],[0.1111111111111111,\"#46039f\"],[0.2222222222222222,\"#7201a8\"],[0.3333333333333333,\"#9c179e\"],[0.4444444444444444,\"#bd3786\"],[0.5555555555555556,\"#d8576b\"],[0.6666666666666666,\"#ed7953\"],[0.7777777777777778,\"#fb9f3a\"],[0.8888888888888888,\"#fdca26\"],[1.0,\"#f0f921\"]],\"type\":\"histogram2dcontour\"}],\"mesh3d\":[{\"colorbar\":{\"outlinewidth\":0,\"ticks\":\"\"},\"type\":\"mesh3d\"}],\"parcoords\":[{\"line\":{\"colorbar\":{\"outlinewidth\":0,\"ticks\":\"\"}},\"type\":\"parcoords\"}],\"pie\":[{\"automargin\":true,\"type\":\"pie\"}],\"scatter\":[{\"marker\":{\"colorbar\":{\"outlinewidth\":0,\"ticks\":\"\"}},\"type\":\"scatter\"}],\"scatter3d\":[{\"line\":{\"colorbar\":{\"outlinewidth\":0,\"ticks\":\"\"}},\"marker\":{\"colorbar\":{\"outlinewidth\":0,\"ticks\":\"\"}},\"type\":\"scatter3d\"}],\"scattercarpet\":[{\"marker\":{\"colorbar\":{\"outlinewidth\":0,\"ticks\":\"\"}},\"type\":\"scattercarpet\"}],\"scattergeo\":[{\"marker\":{\"colorbar\":{\"outlinewidth\":0,\"ticks\":\"\"}},\"type\":\"scattergeo\"}],\"scattergl\":[{\"marker\":{\"colorbar\":{\"outlinewidth\":0,\"ticks\":\"\"}},\"type\":\"scattergl\"}],\"scattermapbox\":[{\"marker\":{\"colorbar\":{\"outlinewidth\":0,\"ticks\":\"\"}},\"type\":\"scattermapbox\"}],\"scatterpolar\":[{\"marker\":{\"colorbar\":{\"outlinewidth\":0,\"ticks\":\"\"}},\"type\":\"scatterpolar\"}],\"scatterpolargl\":[{\"marker\":{\"colorbar\":{\"outlinewidth\":0,\"ticks\":\"\"}},\"type\":\"scatterpolargl\"}],\"scatterternary\":[{\"marker\":{\"colorbar\":{\"outlinewidth\":0,\"ticks\":\"\"}},\"type\":\"scatterternary\"}],\"surface\":[{\"colorbar\":{\"outlinewidth\":0,\"ticks\":\"\"},\"colorscale\":[[0.0,\"#0d0887\"],[0.1111111111111111,\"#46039f\"],[0.2222222222222222,\"#7201a8\"],[0.3333333333333333,\"#9c179e\"],[0.4444444444444444,\"#bd3786\"],[0.5555555555555556,\"#d8576b\"],[0.6666666666666666,\"#ed7953\"],[0.7777777777777778,\"#fb9f3a\"],[0.8888888888888888,\"#fdca26\"],[1.0,\"#f0f921\"]],\"type\":\"surface\"}],\"table\":[{\"cells\":{\"fill\":{\"color\":\"#EBF0F8\"},\"line\":{\"color\":\"white\"}},\"header\":{\"fill\":{\"color\":\"#C8D4E3\"},\"line\":{\"color\":\"white\"}},\"type\":\"table\"}]},\"layout\":{\"annotationdefaults\":{\"arrowcolor\":\"#2a3f5f\",\"arrowhead\":0,\"arrowwidth\":1},\"autotypenumbers\":\"strict\",\"coloraxis\":{\"colorbar\":{\"outlinewidth\":0,\"ticks\":\"\"}},\"colorscale\":{\"diverging\":[[0,\"#8e0152\"],[0.1,\"#c51b7d\"],[0.2,\"#de77ae\"],[0.3,\"#f1b6da\"],[0.4,\"#fde0ef\"],[0.5,\"#f7f7f7\"],[0.6,\"#e6f5d0\"],[0.7,\"#b8e186\"],[0.8,\"#7fbc41\"],[0.9,\"#4d9221\"],[1,\"#276419\"]],\"sequential\":[[0.0,\"#0d0887\"],[0.1111111111111111,\"#46039f\"],[0.2222222222222222,\"#7201a8\"],[0.3333333333333333,\"#9c179e\"],[0.4444444444444444,\"#bd3786\"],[0.5555555555555556,\"#d8576b\"],[0.6666666666666666,\"#ed7953\"],[0.7777777777777778,\"#fb9f3a\"],[0.8888888888888888,\"#fdca26\"],[1.0,\"#f0f921\"]],\"sequentialminus\":[[0.0,\"#0d0887\"],[0.1111111111111111,\"#46039f\"],[0.2222222222222222,\"#7201a8\"],[0.3333333333333333,\"#9c179e\"],[0.4444444444444444,\"#bd3786\"],[0.5555555555555556,\"#d8576b\"],[0.6666666666666666,\"#ed7953\"],[0.7777777777777778,\"#fb9f3a\"],[0.8888888888888888,\"#fdca26\"],[1.0,\"#f0f921\"]]},\"colorway\":[\"#636efa\",\"#EF553B\",\"#00cc96\",\"#ab63fa\",\"#FFA15A\",\"#19d3f3\",\"#FF6692\",\"#B6E880\",\"#FF97FF\",\"#FECB52\"],\"font\":{\"color\":\"#2a3f5f\"},\"geo\":{\"bgcolor\":\"white\",\"lakecolor\":\"white\",\"landcolor\":\"#E5ECF6\",\"showlakes\":true,\"showland\":true,\"subunitcolor\":\"white\"},\"hoverlabel\":{\"align\":\"left\"},\"hovermode\":\"closest\",\"mapbox\":{\"style\":\"light\"},\"paper_bgcolor\":\"white\",\"plot_bgcolor\":\"#E5ECF6\",\"polar\":{\"angularaxis\":{\"gridcolor\":\"white\",\"linecolor\":\"white\",\"ticks\":\"\"},\"bgcolor\":\"#E5ECF6\",\"radialaxis\":{\"gridcolor\":\"white\",\"linecolor\":\"white\",\"ticks\":\"\"}},\"scene\":{\"xaxis\":{\"backgroundcolor\":\"#E5ECF6\",\"gridcolor\":\"white\",\"gridwidth\":2,\"linecolor\":\"white\",\"showbackground\":true,\"ticks\":\"\",\"zerolinecolor\":\"white\"},\"yaxis\":{\"backgroundcolor\":\"#E5ECF6\",\"gridcolor\":\"white\",\"gridwidth\":2,\"linecolor\":\"white\",\"showbackground\":true,\"ticks\":\"\",\"zerolinecolor\":\"white\"},\"zaxis\":{\"backgroundcolor\":\"#E5ECF6\",\"gridcolor\":\"white\",\"gridwidth\":2,\"linecolor\":\"white\",\"showbackground\":true,\"ticks\":\"\",\"zerolinecolor\":\"white\"}},\"shapedefaults\":{\"line\":{\"color\":\"#2a3f5f\"}},\"ternary\":{\"aaxis\":{\"gridcolor\":\"white\",\"linecolor\":\"white\",\"ticks\":\"\"},\"baxis\":{\"gridcolor\":\"white\",\"linecolor\":\"white\",\"ticks\":\"\"},\"bgcolor\":\"#E5ECF6\",\"caxis\":{\"gridcolor\":\"white\",\"linecolor\":\"white\",\"ticks\":\"\"}},\"title\":{\"x\":0.05},\"xaxis\":{\"automargin\":true,\"gridcolor\":\"white\",\"linecolor\":\"white\",\"ticks\":\"\",\"title\":{\"standoff\":15},\"zerolinecolor\":\"white\",\"zerolinewidth\":2},\"yaxis\":{\"automargin\":true,\"gridcolor\":\"white\",\"linecolor\":\"white\",\"ticks\":\"\",\"title\":{\"standoff\":15},\"zerolinecolor\":\"white\",\"zerolinewidth\":2}}},\"xaxis\":{\"anchor\":\"y\",\"domain\":[0.0,1.0],\"title\":{\"text\":\"Age\"}},\"yaxis\":{\"anchor\":\"x\",\"domain\":[0.0,1.0],\"title\":{\"text\":\"Rk\"}},\"legend\":{\"title\":{\"text\":\"league\"},\"tracegroupgap\":0,\"itemsizing\":\"constant\"},\"title\":{\"text\":\"Classement en fonction de l'age et de la valeur marchande des clubs \"}},                        {\"responsive\": true}                    ).then(function(){\n",
       "                            \n",
       "var gd = document.getElementById('68192367-9b1d-4a3b-8555-1c2a256381b4');\n",
       "var x = new MutationObserver(function (mutations, observer) {{\n",
       "        var display = window.getComputedStyle(gd).display;\n",
       "        if (!display || display === 'none') {{\n",
       "            console.log([gd, 'removed!']);\n",
       "            Plotly.purge(gd);\n",
       "            observer.disconnect();\n",
       "        }}\n",
       "}});\n",
       "\n",
       "// Listen for the removal of the full notebook cells\n",
       "var notebookContainer = gd.closest('#notebook-container');\n",
       "if (notebookContainer) {{\n",
       "    x.observe(notebookContainer, {childList: true});\n",
       "}}\n",
       "\n",
       "// Listen for the clearing of the current output cell\n",
       "var outputEl = gd.closest('.output');\n",
       "if (outputEl) {{\n",
       "    x.observe(outputEl, {childList: true});\n",
       "}}\n",
       "\n",
       "                        })                };                });            </script>        </div>"
      ]
     },
     "metadata": {},
     "output_type": "display_data"
    }
   ],
   "source": [
    "import numpy as np\n",
    "import pandas as pd\n",
    "import plotly.express as px \n",
    "\n",
    "pd.options.plotting.backend = \"plotly\"\n",
    "\n",
    "leagues = pd.read_csv(\"data/concat_leagues/leagues.csv\")\n",
    "\n",
    "\n",
    "#px.scatter(leagues[leagues[\"Years\"] == \"2004-05\"], x='Age', y='Rk', \n",
    "#           color=\"league\", hover_name=\"Squad\")\n",
    "\n",
    "league_colors = {'liga':'gold', 'PL':'blue', 'serieA':'green', 'ligue1':'black', 'bundesliga':'red'}\n",
    "\n",
    "px.scatter(leagues[leagues[\"Years\"] == \"2004-05\"], x='Age', y='Rk', \n",
    "           color=\"league\", hover_name=\"Squad\", color_discrete_map=league_colors, title=\"Classement en fonction de l'age et de la valeur marchande des clubs \",\n",
    "           size = 'Market Value', size_max=40)"
   ]
  },
  {
   "cell_type": "code",
   "execution_count": null,
   "id": "fd904743",
   "metadata": {},
   "outputs": [],
   "source": []
  },
  {
   "cell_type": "code",
   "execution_count": null,
   "id": "5af8becc",
   "metadata": {},
   "outputs": [],
   "source": []
  },
  {
   "cell_type": "code",
   "execution_count": null,
   "id": "25d0cf88",
   "metadata": {},
   "outputs": [],
   "source": []
  }
 ],
 "metadata": {
  "kernelspec": {
   "display_name": "Python 3 (ipykernel)",
   "language": "python",
   "name": "python3"
  },
  "language_info": {
   "codemirror_mode": {
    "name": "ipython",
    "version": 3
   },
   "file_extension": ".py",
   "mimetype": "text/x-python",
   "name": "python",
   "nbconvert_exporter": "python",
   "pygments_lexer": "ipython3",
   "version": "3.10.2"
  }
 },
 "nbformat": 4,
 "nbformat_minor": 5
}
