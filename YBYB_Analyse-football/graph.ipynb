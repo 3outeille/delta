{
 "cells": [
  {
   "cell_type": "code",
   "execution_count": 66,
   "id": "15bfcc00",
   "metadata": {},
   "outputs": [
    {
     "data": {
      "application/vnd.plotly.v1+json": {
       "config": {
        "plotlyServerURL": "https://plot.ly"
       },
       "data": [
        {
         "hovertemplate": "<b>%{hovertext}</b><br><br>league=liga<br>Age=%{x}<br>Rk=%{y}<br>Market Value=%{marker.size}<extra></extra>",
         "hovertext": [
          "FC Barcelona",
          "Real Madrid",
          "Villarreal CF",
          "Real Betis Balompié",
          "RCD Espanyol Barcelona",
          "Sevilla FC",
          "Valencia CF",
          "Athletic Bilbao",
          "Deportivo de La Coruña",
          "Málaga CF",
          "Atlético de Madrid",
          "Real Zaragoza",
          "Getafe CF",
          "Real Sociedad",
          "CA Osasuna",
          "Racing Santander",
          "RCD Mallorca",
          "Levante UD",
          "CD Numancia",
          "Albacete Balompié"
         ],
         "legendgroup": "liga",
         "marker": {
          "color": "gold",
          "size": [
           273.03,
           303.7,
           66.25,
           85.15,
           45.15,
           70.55,
           195.9,
           53.05,
           144.45,
           32.85,
           125.65,
           51.13,
           13.85,
           53.55,
           26.65,
           32.9,
           42.65,
           24.25,
           13.4,
           20.25
          ],
          "sizemode": "area",
          "sizeref": 0.207175,
          "symbol": "circle"
         },
         "mode": "markers",
         "name": "liga",
         "orientation": "v",
         "showlegend": true,
         "type": "scatter",
         "x": [
          27,
          24.952381,
          24.611111,
          27.45,
          26.529412,
          24.111111,
          23.828571,
          22.222222,
          28.346154,
          26.2,
          25.456522,
          26.92,
          26.48,
          24.4,
          25.818182,
          24.866667,
          26.315789,
          27.217391,
          26.235294,
          25.368421
         ],
         "xaxis": "x",
         "y": [
          1,
          2,
          3,
          4,
          5,
          6,
          7,
          8,
          9,
          10,
          11,
          12,
          13,
          14,
          15,
          16,
          17,
          18,
          19,
          20
         ],
         "yaxis": "y"
        },
        {
         "hovertemplate": "<b>%{hovertext}</b><br><br>league=PL<br>Age=%{x}<br>Rk=%{y}<br>Market Value=%{marker.size}<extra></extra>",
         "hovertext": [
          "Chelsea FC FC",
          "Arsenal FC",
          "Manchester United",
          "Everton FC",
          "Liverpool FC",
          "Bolton Wanderers",
          "Middlesbrough",
          "Manchester City",
          "Tottenham Hotspur",
          "Aston Villa",
          "Charlton Athletic",
          "Birmingham City",
          "Fulham FC",
          "Newcastle United",
          "Blackburn Rovers",
          "Portsmouth FC",
          "West Bromwich Albion",
          "Crystal Palace",
          "Norwich City",
          "Southampton FC"
         ],
         "legendgroup": "PL",
         "marker": {
          "color": "blue",
          "size": [
           331.48,
           247,
           293.23,
           74.28,
           222.13,
           63.58,
           88.83,
           94.3,
           127.25,
           84.18,
           57.8,
           105.98,
           65.23,
           125.85,
           73.88,
           63,
           48.65,
           38.53,
           30.95,
           85.48
          ],
          "sizemode": "area",
          "sizeref": 0.207175,
          "symbol": "circle"
         },
         "mode": "markers",
         "name": "PL",
         "orientation": "v",
         "showlegend": true,
         "type": "scatter",
         "x": [
          24.521739,
          22.829268,
          21.846154,
          25,
          22.837209,
          25.66,
          24.069767,
          24.722222,
          23.485714,
          22.290323,
          24.527778,
          24.42,
          23.021277,
          23.722222,
          25.285714,
          24.47619,
          24.829268,
          24.818182,
          25.424242,
          23.262295
         ],
         "xaxis": "x",
         "y": [
          1,
          2,
          3,
          4,
          5,
          6,
          7,
          8,
          9,
          10,
          11,
          12,
          13,
          14,
          15,
          16,
          17,
          18,
          19,
          20
         ],
         "yaxis": "y"
        },
        {
         "hovertemplate": "<b>%{hovertext}</b><br><br>league=serieA<br>Age=%{x}<br>Rk=%{y}<br>Market Value=%{marker.size}<extra></extra>",
         "hovertext": [
          "Juventus FC",
          "AC Milan",
          "Inter Milan",
          "Udinese Calcio",
          "UC Sampdoria",
          "US Palermo",
          "FC Messina Peloro",
          "AS Roma",
          "AS Livorno",
          "Reggina Calcio",
          "US Lecce",
          "Cagliari Calcio",
          "SS Lazio",
          "AC Siena",
          "Chievo Verona",
          "ACF Fiorentina",
          "Parma FC",
          "Bologna FC 1909",
          "Brescia Calcio",
          "Atalanta BC"
         ],
         "legendgroup": "serieA",
         "marker": {
          "color": "green",
          "size": [
           304.9,
           273.7,
           240.63,
           83.95,
           51,
           78.75,
           32.65,
           187.6,
           25,
           29.3,
           44.9,
           23.9,
           77.05,
           54.9,
           46.28,
           111.83,
           110.05,
           29.94,
           45.25,
           41.7
          ],
          "sizemode": "area",
          "sizeref": 0.207175,
          "symbol": "circle"
         },
         "mode": "markers",
         "name": "serieA",
         "orientation": "v",
         "showlegend": true,
         "type": "scatter",
         "x": [
          23.4,
          23.551724,
          23.65625,
          24.62069,
          24.947368,
          24.45,
          24.810811,
          22.5,
          24.090909,
          25.285714,
          23.3,
          24.409091,
          26.823529,
          26.285714,
          23.903846,
          25.128205,
          24.693878,
          25.764706,
          23.742857,
          23.529412
         ],
         "xaxis": "x",
         "y": [
          1,
          2,
          3,
          4,
          5,
          6,
          7,
          8,
          9,
          10,
          11,
          12,
          13,
          14,
          15,
          16,
          17,
          18,
          19,
          20
         ],
         "yaxis": "y"
        },
        {
         "hovertemplate": "<b>%{hovertext}</b><br><br>league=ligue1<br>Age=%{x}<br>Rk=%{y}<br>Market Value=%{marker.size}<extra></extra>",
         "hovertext": [
          "Olympique Lyon",
          "LOSC Lille",
          "AS Monaco",
          "Stade Rennais",
          "Olympique Marseille",
          "Saint-Etienne",
          "RC Lens",
          "Auxerre",
          "Paris Saint-Germain",
          "FC Sochaux-Montbéliard",
          "RC Strasbourg Alsace",
          "OGC Nice",
          "Toulouse",
          "Ajaccio",
          "FC Girondins Bordeaux",
          "FC Metz",
          "FC Nantes",
          "SM Caen",
          "SC Bastia",
          "FC Istres Ouest Provence"
         ],
         "legendgroup": "ligue1",
         "marker": {
          "color": "black",
          "size": [
           133.9,
           56.25,
           103.8,
           61.3,
           77.7,
           37.5,
           52.5,
           47.85,
           81.75,
           49.65,
           35.1,
           34.1,
           37.1,
           24.55,
           52.6,
           35.7,
           47.55,
           22.7,
           31.85,
           18.5
          ],
          "sizemode": "area",
          "sizeref": 0.207175,
          "symbol": "circle"
         },
         "mode": "markers",
         "name": "ligue1",
         "orientation": "v",
         "showlegend": true,
         "type": "scatter",
         "x": [
          24.032258,
          24.410256,
          23.780488,
          24.354839,
          25.169811,
          23.515152,
          25.026316,
          22.791667,
          24.85,
          24,
          23.724138,
          25.295455,
          23.137931,
          27.142857,
          23.53125,
          23.021739,
          23.181818,
          24.642857,
          26.451613,
          25.365854
         ],
         "xaxis": "x",
         "y": [
          1,
          2,
          3,
          4,
          5,
          6,
          7,
          8,
          9,
          10,
          11,
          12,
          13,
          14,
          15,
          16,
          17,
          18,
          19,
          20
         ],
         "yaxis": "y"
        },
        {
         "hovertemplate": "<b>%{hovertext}</b><br><br>league=bundesliga<br>Age=%{x}<br>Rk=%{y}<br>Market Value=%{marker.size}<extra></extra>",
         "hovertext": [
          "Bayern Munich",
          "Schalke 04",
          "SV Werder Bremen",
          "Hertha BSC",
          "VfB Stuttgart",
          "Bayer 04 Leverkusen",
          "Borussia Dortmund",
          "Hamburger SV",
          "VfL Wolfsburg",
          "Hannover 96",
          "FSV Mainz 05",
          "Kaiserslautern",
          "Arminia Bielefeld",
          "Nuremberg",
          "Borussia Mönchengladbach",
          "VfL Bochum",
          "Hansa Rostock",
          "SC Freiburg"
         ],
         "legendgroup": "bundesliga",
         "marker": {
          "color": "red",
          "size": [
           175.3,
           86.33,
           99.23,
           71.78,
           79.5,
           86.93,
           78.33,
           65.6,
           59.3,
           42.98,
           16.73,
           33.75,
           24.65,
           34.9,
           49.43,
           31.4,
           25.9,
           22.43
          ],
          "sizemode": "area",
          "sizeref": 0.207175,
          "symbol": "circle"
         },
         "mode": "markers",
         "name": "bundesliga",
         "orientation": "v",
         "showlegend": true,
         "type": "scatter",
         "x": [
          25.555556,
          25.64,
          25.76,
          23.545455,
          23.6,
          24.076923,
          24,
          23.903226,
          24.263158,
          25.815789,
          25.380952,
          26.793103,
          23.785714,
          26.733333,
          28.194444,
          25.375,
          27.125,
          23.4
         ],
         "xaxis": "x",
         "y": [
          1,
          2,
          3,
          4,
          5,
          6,
          7,
          8,
          9,
          10,
          11,
          12,
          13,
          14,
          15,
          16,
          17,
          18
         ],
         "yaxis": "y"
        }
       ],
       "layout": {
        "legend": {
         "itemsizing": "constant",
         "title": {
          "text": "league"
         },
         "tracegroupgap": 0
        },
        "template": {
         "data": {
          "bar": [
           {
            "error_x": {
             "color": "#2a3f5f"
            },
            "error_y": {
             "color": "#2a3f5f"
            },
            "marker": {
             "line": {
              "color": "#E5ECF6",
              "width": 0.5
             },
             "pattern": {
              "fillmode": "overlay",
              "size": 10,
              "solidity": 0.2
             }
            },
            "type": "bar"
           }
          ],
          "barpolar": [
           {
            "marker": {
             "line": {
              "color": "#E5ECF6",
              "width": 0.5
             },
             "pattern": {
              "fillmode": "overlay",
              "size": 10,
              "solidity": 0.2
             }
            },
            "type": "barpolar"
           }
          ],
          "carpet": [
           {
            "aaxis": {
             "endlinecolor": "#2a3f5f",
             "gridcolor": "white",
             "linecolor": "white",
             "minorgridcolor": "white",
             "startlinecolor": "#2a3f5f"
            },
            "baxis": {
             "endlinecolor": "#2a3f5f",
             "gridcolor": "white",
             "linecolor": "white",
             "minorgridcolor": "white",
             "startlinecolor": "#2a3f5f"
            },
            "type": "carpet"
           }
          ],
          "choropleth": [
           {
            "colorbar": {
             "outlinewidth": 0,
             "ticks": ""
            },
            "type": "choropleth"
           }
          ],
          "contour": [
           {
            "colorbar": {
             "outlinewidth": 0,
             "ticks": ""
            },
            "colorscale": [
             [
              0,
              "#0d0887"
             ],
             [
              0.1111111111111111,
              "#46039f"
             ],
             [
              0.2222222222222222,
              "#7201a8"
             ],
             [
              0.3333333333333333,
              "#9c179e"
             ],
             [
              0.4444444444444444,
              "#bd3786"
             ],
             [
              0.5555555555555556,
              "#d8576b"
             ],
             [
              0.6666666666666666,
              "#ed7953"
             ],
             [
              0.7777777777777778,
              "#fb9f3a"
             ],
             [
              0.8888888888888888,
              "#fdca26"
             ],
             [
              1,
              "#f0f921"
             ]
            ],
            "type": "contour"
           }
          ],
          "contourcarpet": [
           {
            "colorbar": {
             "outlinewidth": 0,
             "ticks": ""
            },
            "type": "contourcarpet"
           }
          ],
          "heatmap": [
           {
            "colorbar": {
             "outlinewidth": 0,
             "ticks": ""
            },
            "colorscale": [
             [
              0,
              "#0d0887"
             ],
             [
              0.1111111111111111,
              "#46039f"
             ],
             [
              0.2222222222222222,
              "#7201a8"
             ],
             [
              0.3333333333333333,
              "#9c179e"
             ],
             [
              0.4444444444444444,
              "#bd3786"
             ],
             [
              0.5555555555555556,
              "#d8576b"
             ],
             [
              0.6666666666666666,
              "#ed7953"
             ],
             [
              0.7777777777777778,
              "#fb9f3a"
             ],
             [
              0.8888888888888888,
              "#fdca26"
             ],
             [
              1,
              "#f0f921"
             ]
            ],
            "type": "heatmap"
           }
          ],
          "heatmapgl": [
           {
            "colorbar": {
             "outlinewidth": 0,
             "ticks": ""
            },
            "colorscale": [
             [
              0,
              "#0d0887"
             ],
             [
              0.1111111111111111,
              "#46039f"
             ],
             [
              0.2222222222222222,
              "#7201a8"
             ],
             [
              0.3333333333333333,
              "#9c179e"
             ],
             [
              0.4444444444444444,
              "#bd3786"
             ],
             [
              0.5555555555555556,
              "#d8576b"
             ],
             [
              0.6666666666666666,
              "#ed7953"
             ],
             [
              0.7777777777777778,
              "#fb9f3a"
             ],
             [
              0.8888888888888888,
              "#fdca26"
             ],
             [
              1,
              "#f0f921"
             ]
            ],
            "type": "heatmapgl"
           }
          ],
          "histogram": [
           {
            "marker": {
             "pattern": {
              "fillmode": "overlay",
              "size": 10,
              "solidity": 0.2
             }
            },
            "type": "histogram"
           }
          ],
          "histogram2d": [
           {
            "colorbar": {
             "outlinewidth": 0,
             "ticks": ""
            },
            "colorscale": [
             [
              0,
              "#0d0887"
             ],
             [
              0.1111111111111111,
              "#46039f"
             ],
             [
              0.2222222222222222,
              "#7201a8"
             ],
             [
              0.3333333333333333,
              "#9c179e"
             ],
             [
              0.4444444444444444,
              "#bd3786"
             ],
             [
              0.5555555555555556,
              "#d8576b"
             ],
             [
              0.6666666666666666,
              "#ed7953"
             ],
             [
              0.7777777777777778,
              "#fb9f3a"
             ],
             [
              0.8888888888888888,
              "#fdca26"
             ],
             [
              1,
              "#f0f921"
             ]
            ],
            "type": "histogram2d"
           }
          ],
          "histogram2dcontour": [
           {
            "colorbar": {
             "outlinewidth": 0,
             "ticks": ""
            },
            "colorscale": [
             [
              0,
              "#0d0887"
             ],
             [
              0.1111111111111111,
              "#46039f"
             ],
             [
              0.2222222222222222,
              "#7201a8"
             ],
             [
              0.3333333333333333,
              "#9c179e"
             ],
             [
              0.4444444444444444,
              "#bd3786"
             ],
             [
              0.5555555555555556,
              "#d8576b"
             ],
             [
              0.6666666666666666,
              "#ed7953"
             ],
             [
              0.7777777777777778,
              "#fb9f3a"
             ],
             [
              0.8888888888888888,
              "#fdca26"
             ],
             [
              1,
              "#f0f921"
             ]
            ],
            "type": "histogram2dcontour"
           }
          ],
          "mesh3d": [
           {
            "colorbar": {
             "outlinewidth": 0,
             "ticks": ""
            },
            "type": "mesh3d"
           }
          ],
          "parcoords": [
           {
            "line": {
             "colorbar": {
              "outlinewidth": 0,
              "ticks": ""
             }
            },
            "type": "parcoords"
           }
          ],
          "pie": [
           {
            "automargin": true,
            "type": "pie"
           }
          ],
          "scatter": [
           {
            "marker": {
             "colorbar": {
              "outlinewidth": 0,
              "ticks": ""
             }
            },
            "type": "scatter"
           }
          ],
          "scatter3d": [
           {
            "line": {
             "colorbar": {
              "outlinewidth": 0,
              "ticks": ""
             }
            },
            "marker": {
             "colorbar": {
              "outlinewidth": 0,
              "ticks": ""
             }
            },
            "type": "scatter3d"
           }
          ],
          "scattercarpet": [
           {
            "marker": {
             "colorbar": {
              "outlinewidth": 0,
              "ticks": ""
             }
            },
            "type": "scattercarpet"
           }
          ],
          "scattergeo": [
           {
            "marker": {
             "colorbar": {
              "outlinewidth": 0,
              "ticks": ""
             }
            },
            "type": "scattergeo"
           }
          ],
          "scattergl": [
           {
            "marker": {
             "colorbar": {
              "outlinewidth": 0,
              "ticks": ""
             }
            },
            "type": "scattergl"
           }
          ],
          "scattermapbox": [
           {
            "marker": {
             "colorbar": {
              "outlinewidth": 0,
              "ticks": ""
             }
            },
            "type": "scattermapbox"
           }
          ],
          "scatterpolar": [
           {
            "marker": {
             "colorbar": {
              "outlinewidth": 0,
              "ticks": ""
             }
            },
            "type": "scatterpolar"
           }
          ],
          "scatterpolargl": [
           {
            "marker": {
             "colorbar": {
              "outlinewidth": 0,
              "ticks": ""
             }
            },
            "type": "scatterpolargl"
           }
          ],
          "scatterternary": [
           {
            "marker": {
             "colorbar": {
              "outlinewidth": 0,
              "ticks": ""
             }
            },
            "type": "scatterternary"
           }
          ],
          "surface": [
           {
            "colorbar": {
             "outlinewidth": 0,
             "ticks": ""
            },
            "colorscale": [
             [
              0,
              "#0d0887"
             ],
             [
              0.1111111111111111,
              "#46039f"
             ],
             [
              0.2222222222222222,
              "#7201a8"
             ],
             [
              0.3333333333333333,
              "#9c179e"
             ],
             [
              0.4444444444444444,
              "#bd3786"
             ],
             [
              0.5555555555555556,
              "#d8576b"
             ],
             [
              0.6666666666666666,
              "#ed7953"
             ],
             [
              0.7777777777777778,
              "#fb9f3a"
             ],
             [
              0.8888888888888888,
              "#fdca26"
             ],
             [
              1,
              "#f0f921"
             ]
            ],
            "type": "surface"
           }
          ],
          "table": [
           {
            "cells": {
             "fill": {
              "color": "#EBF0F8"
             },
             "line": {
              "color": "white"
             }
            },
            "header": {
             "fill": {
              "color": "#C8D4E3"
             },
             "line": {
              "color": "white"
             }
            },
            "type": "table"
           }
          ]
         },
         "layout": {
          "annotationdefaults": {
           "arrowcolor": "#2a3f5f",
           "arrowhead": 0,
           "arrowwidth": 1
          },
          "autotypenumbers": "strict",
          "coloraxis": {
           "colorbar": {
            "outlinewidth": 0,
            "ticks": ""
           }
          },
          "colorscale": {
           "diverging": [
            [
             0,
             "#8e0152"
            ],
            [
             0.1,
             "#c51b7d"
            ],
            [
             0.2,
             "#de77ae"
            ],
            [
             0.3,
             "#f1b6da"
            ],
            [
             0.4,
             "#fde0ef"
            ],
            [
             0.5,
             "#f7f7f7"
            ],
            [
             0.6,
             "#e6f5d0"
            ],
            [
             0.7,
             "#b8e186"
            ],
            [
             0.8,
             "#7fbc41"
            ],
            [
             0.9,
             "#4d9221"
            ],
            [
             1,
             "#276419"
            ]
           ],
           "sequential": [
            [
             0,
             "#0d0887"
            ],
            [
             0.1111111111111111,
             "#46039f"
            ],
            [
             0.2222222222222222,
             "#7201a8"
            ],
            [
             0.3333333333333333,
             "#9c179e"
            ],
            [
             0.4444444444444444,
             "#bd3786"
            ],
            [
             0.5555555555555556,
             "#d8576b"
            ],
            [
             0.6666666666666666,
             "#ed7953"
            ],
            [
             0.7777777777777778,
             "#fb9f3a"
            ],
            [
             0.8888888888888888,
             "#fdca26"
            ],
            [
             1,
             "#f0f921"
            ]
           ],
           "sequentialminus": [
            [
             0,
             "#0d0887"
            ],
            [
             0.1111111111111111,
             "#46039f"
            ],
            [
             0.2222222222222222,
             "#7201a8"
            ],
            [
             0.3333333333333333,
             "#9c179e"
            ],
            [
             0.4444444444444444,
             "#bd3786"
            ],
            [
             0.5555555555555556,
             "#d8576b"
            ],
            [
             0.6666666666666666,
             "#ed7953"
            ],
            [
             0.7777777777777778,
             "#fb9f3a"
            ],
            [
             0.8888888888888888,
             "#fdca26"
            ],
            [
             1,
             "#f0f921"
            ]
           ]
          },
          "colorway": [
           "#636efa",
           "#EF553B",
           "#00cc96",
           "#ab63fa",
           "#FFA15A",
           "#19d3f3",
           "#FF6692",
           "#B6E880",
           "#FF97FF",
           "#FECB52"
          ],
          "font": {
           "color": "#2a3f5f"
          },
          "geo": {
           "bgcolor": "white",
           "lakecolor": "white",
           "landcolor": "#E5ECF6",
           "showlakes": true,
           "showland": true,
           "subunitcolor": "white"
          },
          "hoverlabel": {
           "align": "left"
          },
          "hovermode": "closest",
          "mapbox": {
           "style": "light"
          },
          "paper_bgcolor": "white",
          "plot_bgcolor": "#E5ECF6",
          "polar": {
           "angularaxis": {
            "gridcolor": "white",
            "linecolor": "white",
            "ticks": ""
           },
           "bgcolor": "#E5ECF6",
           "radialaxis": {
            "gridcolor": "white",
            "linecolor": "white",
            "ticks": ""
           }
          },
          "scene": {
           "xaxis": {
            "backgroundcolor": "#E5ECF6",
            "gridcolor": "white",
            "gridwidth": 2,
            "linecolor": "white",
            "showbackground": true,
            "ticks": "",
            "zerolinecolor": "white"
           },
           "yaxis": {
            "backgroundcolor": "#E5ECF6",
            "gridcolor": "white",
            "gridwidth": 2,
            "linecolor": "white",
            "showbackground": true,
            "ticks": "",
            "zerolinecolor": "white"
           },
           "zaxis": {
            "backgroundcolor": "#E5ECF6",
            "gridcolor": "white",
            "gridwidth": 2,
            "linecolor": "white",
            "showbackground": true,
            "ticks": "",
            "zerolinecolor": "white"
           }
          },
          "shapedefaults": {
           "line": {
            "color": "#2a3f5f"
           }
          },
          "ternary": {
           "aaxis": {
            "gridcolor": "white",
            "linecolor": "white",
            "ticks": ""
           },
           "baxis": {
            "gridcolor": "white",
            "linecolor": "white",
            "ticks": ""
           },
           "bgcolor": "#E5ECF6",
           "caxis": {
            "gridcolor": "white",
            "linecolor": "white",
            "ticks": ""
           }
          },
          "title": {
           "x": 0.05
          },
          "xaxis": {
           "automargin": true,
           "gridcolor": "white",
           "linecolor": "white",
           "ticks": "",
           "title": {
            "standoff": 15
           },
           "zerolinecolor": "white",
           "zerolinewidth": 2
          },
          "yaxis": {
           "automargin": true,
           "gridcolor": "white",
           "linecolor": "white",
           "ticks": "",
           "title": {
            "standoff": 15
           },
           "zerolinecolor": "white",
           "zerolinewidth": 2
          }
         }
        },
        "title": {
         "text": "Classement en fonction de l'age et de la valeur marchande des clubs "
        },
        "xaxis": {
         "anchor": "y",
         "domain": [
          0,
          1
         ],
         "title": {
          "text": "Age"
         }
        },
        "yaxis": {
         "anchor": "x",
         "domain": [
          0,
          1
         ],
         "title": {
          "text": "Rk"
         }
        }
       }
      },
      "text/html": [
       "<div>                            <div id=\"397b5df3-269b-4747-8538-fdc31c304ebf\" class=\"plotly-graph-div\" style=\"height:525px; width:100%;\"></div>            <script type=\"text/javascript\">                require([\"plotly\"], function(Plotly) {                    window.PLOTLYENV=window.PLOTLYENV || {};                                    if (document.getElementById(\"397b5df3-269b-4747-8538-fdc31c304ebf\")) {                    Plotly.newPlot(                        \"397b5df3-269b-4747-8538-fdc31c304ebf\",                        [{\"hovertemplate\":\"<b>%{hovertext}</b><br><br>league=liga<br>Age=%{x}<br>Rk=%{y}<br>Market Value=%{marker.size}<extra></extra>\",\"hovertext\":[\"FC Barcelona\",\"Real Madrid\",\"Villarreal CF\",\"Real Betis Balompi\\u00e9\",\"RCD Espanyol Barcelona\",\"Sevilla FC\",\"Valencia CF\",\"Athletic Bilbao\",\"Deportivo de La Coru\\u00f1a\",\"M\\u00e1laga CF\",\"Atl\\u00e9tico de Madrid\",\"Real Zaragoza\",\"Getafe CF\",\"Real Sociedad\",\"CA Osasuna\",\"Racing Santander\",\"RCD Mallorca\",\"Levante UD\",\"CD Numancia\",\"Albacete Balompi\\u00e9\"],\"legendgroup\":\"liga\",\"marker\":{\"color\":\"gold\",\"size\":[273.03,303.7,66.25,85.15,45.15,70.55,195.9,53.05,144.45,32.85,125.65,51.13,13.85,53.55,26.65,32.9,42.65,24.25,13.4,20.25],\"sizemode\":\"area\",\"sizeref\":0.207175,\"symbol\":\"circle\"},\"mode\":\"markers\",\"name\":\"liga\",\"orientation\":\"v\",\"showlegend\":true,\"x\":[27.0,24.952381,24.611111,27.45,26.529412,24.111111,23.828571,22.222222,28.346154,26.2,25.456522,26.92,26.48,24.4,25.818182,24.866667,26.315789,27.217391,26.235294,25.368421],\"xaxis\":\"x\",\"y\":[1,2,3,4,5,6,7,8,9,10,11,12,13,14,15,16,17,18,19,20],\"yaxis\":\"y\",\"type\":\"scatter\"},{\"hovertemplate\":\"<b>%{hovertext}</b><br><br>league=PL<br>Age=%{x}<br>Rk=%{y}<br>Market Value=%{marker.size}<extra></extra>\",\"hovertext\":[\"Chelsea FC FC\",\"Arsenal FC\",\"Manchester United\",\"Everton FC\",\"Liverpool FC\",\"Bolton Wanderers\",\"Middlesbrough\",\"Manchester City\",\"Tottenham Hotspur\",\"Aston Villa\",\"Charlton Athletic\",\"Birmingham City\",\"Fulham FC\",\"Newcastle United\",\"Blackburn Rovers\",\"Portsmouth FC\",\"West Bromwich Albion\",\"Crystal Palace\",\"Norwich City\",\"Southampton FC\"],\"legendgroup\":\"PL\",\"marker\":{\"color\":\"blue\",\"size\":[331.48,247.0,293.23,74.28,222.13,63.58,88.83,94.3,127.25,84.18,57.8,105.98,65.23,125.85,73.88,63.0,48.65,38.53,30.95,85.48],\"sizemode\":\"area\",\"sizeref\":0.207175,\"symbol\":\"circle\"},\"mode\":\"markers\",\"name\":\"PL\",\"orientation\":\"v\",\"showlegend\":true,\"x\":[24.521739,22.829268,21.846154,25.0,22.837209,25.66,24.069767,24.722222,23.485714,22.290323,24.527778,24.42,23.021277,23.722222,25.285714,24.47619,24.829268,24.818182,25.424242,23.262295],\"xaxis\":\"x\",\"y\":[1,2,3,4,5,6,7,8,9,10,11,12,13,14,15,16,17,18,19,20],\"yaxis\":\"y\",\"type\":\"scatter\"},{\"hovertemplate\":\"<b>%{hovertext}</b><br><br>league=serieA<br>Age=%{x}<br>Rk=%{y}<br>Market Value=%{marker.size}<extra></extra>\",\"hovertext\":[\"Juventus FC\",\"AC Milan\",\"Inter Milan\",\"Udinese Calcio\",\"UC Sampdoria\",\"US Palermo\",\"FC Messina Peloro\",\"AS Roma\",\"AS Livorno\",\"Reggina Calcio\",\"US Lecce\",\"Cagliari Calcio\",\"SS Lazio\",\"AC Siena\",\"Chievo Verona\",\"ACF Fiorentina\",\"Parma FC\",\"Bologna FC 1909\",\"Brescia Calcio\",\"Atalanta BC\"],\"legendgroup\":\"serieA\",\"marker\":{\"color\":\"green\",\"size\":[304.9,273.7,240.63,83.95,51.0,78.75,32.65,187.6,25.0,29.3,44.9,23.9,77.05,54.9,46.28,111.83,110.05,29.94,45.25,41.7],\"sizemode\":\"area\",\"sizeref\":0.207175,\"symbol\":\"circle\"},\"mode\":\"markers\",\"name\":\"serieA\",\"orientation\":\"v\",\"showlegend\":true,\"x\":[23.4,23.551724,23.65625,24.62069,24.947368,24.45,24.810811,22.5,24.090909,25.285714,23.3,24.409091,26.823529,26.285714,23.903846,25.128205,24.693878,25.764706,23.742857,23.529412],\"xaxis\":\"x\",\"y\":[1,2,3,4,5,6,7,8,9,10,11,12,13,14,15,16,17,18,19,20],\"yaxis\":\"y\",\"type\":\"scatter\"},{\"hovertemplate\":\"<b>%{hovertext}</b><br><br>league=ligue1<br>Age=%{x}<br>Rk=%{y}<br>Market Value=%{marker.size}<extra></extra>\",\"hovertext\":[\"Olympique Lyon\",\"LOSC Lille\",\"AS Monaco\",\"Stade Rennais\",\"Olympique Marseille\",\"Saint-Etienne\",\"RC Lens\",\"Auxerre\",\"Paris Saint-Germain\",\"FC Sochaux-Montb\\u00e9liard\",\"RC Strasbourg Alsace\",\"OGC Nice\",\"Toulouse\",\"Ajaccio\",\"FC Girondins Bordeaux\",\"FC Metz\",\"FC Nantes\",\"SM Caen\",\"SC Bastia\",\"FC Istres Ouest Provence\"],\"legendgroup\":\"ligue1\",\"marker\":{\"color\":\"black\",\"size\":[133.9,56.25,103.8,61.3,77.7,37.5,52.5,47.85,81.75,49.65,35.1,34.1,37.1,24.55,52.6,35.7,47.55,22.7,31.85,18.5],\"sizemode\":\"area\",\"sizeref\":0.207175,\"symbol\":\"circle\"},\"mode\":\"markers\",\"name\":\"ligue1\",\"orientation\":\"v\",\"showlegend\":true,\"x\":[24.032258,24.410256,23.780488,24.354839,25.169811,23.515152,25.026316,22.791667,24.85,24.0,23.724138,25.295455,23.137931,27.142857,23.53125,23.021739,23.181818,24.642857,26.451613,25.365854],\"xaxis\":\"x\",\"y\":[1,2,3,4,5,6,7,8,9,10,11,12,13,14,15,16,17,18,19,20],\"yaxis\":\"y\",\"type\":\"scatter\"},{\"hovertemplate\":\"<b>%{hovertext}</b><br><br>league=bundesliga<br>Age=%{x}<br>Rk=%{y}<br>Market Value=%{marker.size}<extra></extra>\",\"hovertext\":[\"Bayern Munich\",\"Schalke 04\",\"SV Werder Bremen\",\"Hertha BSC\",\"VfB Stuttgart\",\"Bayer 04 Leverkusen\",\"Borussia Dortmund\",\"Hamburger SV\",\"VfL Wolfsburg\",\"Hannover 96\",\"FSV Mainz 05\",\"Kaiserslautern\",\"Arminia Bielefeld\",\"Nuremberg\",\"Borussia M\\u00f6nchengladbach\",\"VfL Bochum\",\"Hansa Rostock\",\"SC Freiburg\"],\"legendgroup\":\"bundesliga\",\"marker\":{\"color\":\"red\",\"size\":[175.3,86.33,99.23,71.78,79.5,86.93,78.33,65.6,59.3,42.98,16.73,33.75,24.65,34.9,49.43,31.4,25.9,22.43],\"sizemode\":\"area\",\"sizeref\":0.207175,\"symbol\":\"circle\"},\"mode\":\"markers\",\"name\":\"bundesliga\",\"orientation\":\"v\",\"showlegend\":true,\"x\":[25.555556,25.64,25.76,23.545455,23.6,24.076923,24.0,23.903226,24.263158,25.815789,25.380952,26.793103,23.785714,26.733333,28.194444,25.375,27.125,23.4],\"xaxis\":\"x\",\"y\":[1,2,3,4,5,6,7,8,9,10,11,12,13,14,15,16,17,18],\"yaxis\":\"y\",\"type\":\"scatter\"}],                        {\"template\":{\"data\":{\"bar\":[{\"error_x\":{\"color\":\"#2a3f5f\"},\"error_y\":{\"color\":\"#2a3f5f\"},\"marker\":{\"line\":{\"color\":\"#E5ECF6\",\"width\":0.5},\"pattern\":{\"fillmode\":\"overlay\",\"size\":10,\"solidity\":0.2}},\"type\":\"bar\"}],\"barpolar\":[{\"marker\":{\"line\":{\"color\":\"#E5ECF6\",\"width\":0.5},\"pattern\":{\"fillmode\":\"overlay\",\"size\":10,\"solidity\":0.2}},\"type\":\"barpolar\"}],\"carpet\":[{\"aaxis\":{\"endlinecolor\":\"#2a3f5f\",\"gridcolor\":\"white\",\"linecolor\":\"white\",\"minorgridcolor\":\"white\",\"startlinecolor\":\"#2a3f5f\"},\"baxis\":{\"endlinecolor\":\"#2a3f5f\",\"gridcolor\":\"white\",\"linecolor\":\"white\",\"minorgridcolor\":\"white\",\"startlinecolor\":\"#2a3f5f\"},\"type\":\"carpet\"}],\"choropleth\":[{\"colorbar\":{\"outlinewidth\":0,\"ticks\":\"\"},\"type\":\"choropleth\"}],\"contour\":[{\"colorbar\":{\"outlinewidth\":0,\"ticks\":\"\"},\"colorscale\":[[0.0,\"#0d0887\"],[0.1111111111111111,\"#46039f\"],[0.2222222222222222,\"#7201a8\"],[0.3333333333333333,\"#9c179e\"],[0.4444444444444444,\"#bd3786\"],[0.5555555555555556,\"#d8576b\"],[0.6666666666666666,\"#ed7953\"],[0.7777777777777778,\"#fb9f3a\"],[0.8888888888888888,\"#fdca26\"],[1.0,\"#f0f921\"]],\"type\":\"contour\"}],\"contourcarpet\":[{\"colorbar\":{\"outlinewidth\":0,\"ticks\":\"\"},\"type\":\"contourcarpet\"}],\"heatmap\":[{\"colorbar\":{\"outlinewidth\":0,\"ticks\":\"\"},\"colorscale\":[[0.0,\"#0d0887\"],[0.1111111111111111,\"#46039f\"],[0.2222222222222222,\"#7201a8\"],[0.3333333333333333,\"#9c179e\"],[0.4444444444444444,\"#bd3786\"],[0.5555555555555556,\"#d8576b\"],[0.6666666666666666,\"#ed7953\"],[0.7777777777777778,\"#fb9f3a\"],[0.8888888888888888,\"#fdca26\"],[1.0,\"#f0f921\"]],\"type\":\"heatmap\"}],\"heatmapgl\":[{\"colorbar\":{\"outlinewidth\":0,\"ticks\":\"\"},\"colorscale\":[[0.0,\"#0d0887\"],[0.1111111111111111,\"#46039f\"],[0.2222222222222222,\"#7201a8\"],[0.3333333333333333,\"#9c179e\"],[0.4444444444444444,\"#bd3786\"],[0.5555555555555556,\"#d8576b\"],[0.6666666666666666,\"#ed7953\"],[0.7777777777777778,\"#fb9f3a\"],[0.8888888888888888,\"#fdca26\"],[1.0,\"#f0f921\"]],\"type\":\"heatmapgl\"}],\"histogram\":[{\"marker\":{\"pattern\":{\"fillmode\":\"overlay\",\"size\":10,\"solidity\":0.2}},\"type\":\"histogram\"}],\"histogram2d\":[{\"colorbar\":{\"outlinewidth\":0,\"ticks\":\"\"},\"colorscale\":[[0.0,\"#0d0887\"],[0.1111111111111111,\"#46039f\"],[0.2222222222222222,\"#7201a8\"],[0.3333333333333333,\"#9c179e\"],[0.4444444444444444,\"#bd3786\"],[0.5555555555555556,\"#d8576b\"],[0.6666666666666666,\"#ed7953\"],[0.7777777777777778,\"#fb9f3a\"],[0.8888888888888888,\"#fdca26\"],[1.0,\"#f0f921\"]],\"type\":\"histogram2d\"}],\"histogram2dcontour\":[{\"colorbar\":{\"outlinewidth\":0,\"ticks\":\"\"},\"colorscale\":[[0.0,\"#0d0887\"],[0.1111111111111111,\"#46039f\"],[0.2222222222222222,\"#7201a8\"],[0.3333333333333333,\"#9c179e\"],[0.4444444444444444,\"#bd3786\"],[0.5555555555555556,\"#d8576b\"],[0.6666666666666666,\"#ed7953\"],[0.7777777777777778,\"#fb9f3a\"],[0.8888888888888888,\"#fdca26\"],[1.0,\"#f0f921\"]],\"type\":\"histogram2dcontour\"}],\"mesh3d\":[{\"colorbar\":{\"outlinewidth\":0,\"ticks\":\"\"},\"type\":\"mesh3d\"}],\"parcoords\":[{\"line\":{\"colorbar\":{\"outlinewidth\":0,\"ticks\":\"\"}},\"type\":\"parcoords\"}],\"pie\":[{\"automargin\":true,\"type\":\"pie\"}],\"scatter\":[{\"marker\":{\"colorbar\":{\"outlinewidth\":0,\"ticks\":\"\"}},\"type\":\"scatter\"}],\"scatter3d\":[{\"line\":{\"colorbar\":{\"outlinewidth\":0,\"ticks\":\"\"}},\"marker\":{\"colorbar\":{\"outlinewidth\":0,\"ticks\":\"\"}},\"type\":\"scatter3d\"}],\"scattercarpet\":[{\"marker\":{\"colorbar\":{\"outlinewidth\":0,\"ticks\":\"\"}},\"type\":\"scattercarpet\"}],\"scattergeo\":[{\"marker\":{\"colorbar\":{\"outlinewidth\":0,\"ticks\":\"\"}},\"type\":\"scattergeo\"}],\"scattergl\":[{\"marker\":{\"colorbar\":{\"outlinewidth\":0,\"ticks\":\"\"}},\"type\":\"scattergl\"}],\"scattermapbox\":[{\"marker\":{\"colorbar\":{\"outlinewidth\":0,\"ticks\":\"\"}},\"type\":\"scattermapbox\"}],\"scatterpolar\":[{\"marker\":{\"colorbar\":{\"outlinewidth\":0,\"ticks\":\"\"}},\"type\":\"scatterpolar\"}],\"scatterpolargl\":[{\"marker\":{\"colorbar\":{\"outlinewidth\":0,\"ticks\":\"\"}},\"type\":\"scatterpolargl\"}],\"scatterternary\":[{\"marker\":{\"colorbar\":{\"outlinewidth\":0,\"ticks\":\"\"}},\"type\":\"scatterternary\"}],\"surface\":[{\"colorbar\":{\"outlinewidth\":0,\"ticks\":\"\"},\"colorscale\":[[0.0,\"#0d0887\"],[0.1111111111111111,\"#46039f\"],[0.2222222222222222,\"#7201a8\"],[0.3333333333333333,\"#9c179e\"],[0.4444444444444444,\"#bd3786\"],[0.5555555555555556,\"#d8576b\"],[0.6666666666666666,\"#ed7953\"],[0.7777777777777778,\"#fb9f3a\"],[0.8888888888888888,\"#fdca26\"],[1.0,\"#f0f921\"]],\"type\":\"surface\"}],\"table\":[{\"cells\":{\"fill\":{\"color\":\"#EBF0F8\"},\"line\":{\"color\":\"white\"}},\"header\":{\"fill\":{\"color\":\"#C8D4E3\"},\"line\":{\"color\":\"white\"}},\"type\":\"table\"}]},\"layout\":{\"annotationdefaults\":{\"arrowcolor\":\"#2a3f5f\",\"arrowhead\":0,\"arrowwidth\":1},\"autotypenumbers\":\"strict\",\"coloraxis\":{\"colorbar\":{\"outlinewidth\":0,\"ticks\":\"\"}},\"colorscale\":{\"diverging\":[[0,\"#8e0152\"],[0.1,\"#c51b7d\"],[0.2,\"#de77ae\"],[0.3,\"#f1b6da\"],[0.4,\"#fde0ef\"],[0.5,\"#f7f7f7\"],[0.6,\"#e6f5d0\"],[0.7,\"#b8e186\"],[0.8,\"#7fbc41\"],[0.9,\"#4d9221\"],[1,\"#276419\"]],\"sequential\":[[0.0,\"#0d0887\"],[0.1111111111111111,\"#46039f\"],[0.2222222222222222,\"#7201a8\"],[0.3333333333333333,\"#9c179e\"],[0.4444444444444444,\"#bd3786\"],[0.5555555555555556,\"#d8576b\"],[0.6666666666666666,\"#ed7953\"],[0.7777777777777778,\"#fb9f3a\"],[0.8888888888888888,\"#fdca26\"],[1.0,\"#f0f921\"]],\"sequentialminus\":[[0.0,\"#0d0887\"],[0.1111111111111111,\"#46039f\"],[0.2222222222222222,\"#7201a8\"],[0.3333333333333333,\"#9c179e\"],[0.4444444444444444,\"#bd3786\"],[0.5555555555555556,\"#d8576b\"],[0.6666666666666666,\"#ed7953\"],[0.7777777777777778,\"#fb9f3a\"],[0.8888888888888888,\"#fdca26\"],[1.0,\"#f0f921\"]]},\"colorway\":[\"#636efa\",\"#EF553B\",\"#00cc96\",\"#ab63fa\",\"#FFA15A\",\"#19d3f3\",\"#FF6692\",\"#B6E880\",\"#FF97FF\",\"#FECB52\"],\"font\":{\"color\":\"#2a3f5f\"},\"geo\":{\"bgcolor\":\"white\",\"lakecolor\":\"white\",\"landcolor\":\"#E5ECF6\",\"showlakes\":true,\"showland\":true,\"subunitcolor\":\"white\"},\"hoverlabel\":{\"align\":\"left\"},\"hovermode\":\"closest\",\"mapbox\":{\"style\":\"light\"},\"paper_bgcolor\":\"white\",\"plot_bgcolor\":\"#E5ECF6\",\"polar\":{\"angularaxis\":{\"gridcolor\":\"white\",\"linecolor\":\"white\",\"ticks\":\"\"},\"bgcolor\":\"#E5ECF6\",\"radialaxis\":{\"gridcolor\":\"white\",\"linecolor\":\"white\",\"ticks\":\"\"}},\"scene\":{\"xaxis\":{\"backgroundcolor\":\"#E5ECF6\",\"gridcolor\":\"white\",\"gridwidth\":2,\"linecolor\":\"white\",\"showbackground\":true,\"ticks\":\"\",\"zerolinecolor\":\"white\"},\"yaxis\":{\"backgroundcolor\":\"#E5ECF6\",\"gridcolor\":\"white\",\"gridwidth\":2,\"linecolor\":\"white\",\"showbackground\":true,\"ticks\":\"\",\"zerolinecolor\":\"white\"},\"zaxis\":{\"backgroundcolor\":\"#E5ECF6\",\"gridcolor\":\"white\",\"gridwidth\":2,\"linecolor\":\"white\",\"showbackground\":true,\"ticks\":\"\",\"zerolinecolor\":\"white\"}},\"shapedefaults\":{\"line\":{\"color\":\"#2a3f5f\"}},\"ternary\":{\"aaxis\":{\"gridcolor\":\"white\",\"linecolor\":\"white\",\"ticks\":\"\"},\"baxis\":{\"gridcolor\":\"white\",\"linecolor\":\"white\",\"ticks\":\"\"},\"bgcolor\":\"#E5ECF6\",\"caxis\":{\"gridcolor\":\"white\",\"linecolor\":\"white\",\"ticks\":\"\"}},\"title\":{\"x\":0.05},\"xaxis\":{\"automargin\":true,\"gridcolor\":\"white\",\"linecolor\":\"white\",\"ticks\":\"\",\"title\":{\"standoff\":15},\"zerolinecolor\":\"white\",\"zerolinewidth\":2},\"yaxis\":{\"automargin\":true,\"gridcolor\":\"white\",\"linecolor\":\"white\",\"ticks\":\"\",\"title\":{\"standoff\":15},\"zerolinecolor\":\"white\",\"zerolinewidth\":2}}},\"xaxis\":{\"anchor\":\"y\",\"domain\":[0.0,1.0],\"title\":{\"text\":\"Age\"}},\"yaxis\":{\"anchor\":\"x\",\"domain\":[0.0,1.0],\"title\":{\"text\":\"Rk\"}},\"legend\":{\"title\":{\"text\":\"league\"},\"tracegroupgap\":0,\"itemsizing\":\"constant\"},\"title\":{\"text\":\"Classement en fonction de l'age et de la valeur marchande des clubs \"}},                        {\"responsive\": true}                    ).then(function(){\n",
       "                            \n",
       "var gd = document.getElementById('397b5df3-269b-4747-8538-fdc31c304ebf');\n",
       "var x = new MutationObserver(function (mutations, observer) {{\n",
       "        var display = window.getComputedStyle(gd).display;\n",
       "        if (!display || display === 'none') {{\n",
       "            console.log([gd, 'removed!']);\n",
       "            Plotly.purge(gd);\n",
       "            observer.disconnect();\n",
       "        }}\n",
       "}});\n",
       "\n",
       "// Listen for the removal of the full notebook cells\n",
       "var notebookContainer = gd.closest('#notebook-container');\n",
       "if (notebookContainer) {{\n",
       "    x.observe(notebookContainer, {childList: true});\n",
       "}}\n",
       "\n",
       "// Listen for the clearing of the current output cell\n",
       "var outputEl = gd.closest('.output');\n",
       "if (outputEl) {{\n",
       "    x.observe(outputEl, {childList: true});\n",
       "}}\n",
       "\n",
       "                        })                };                });            </script>        </div>"
      ]
     },
     "metadata": {},
     "output_type": "display_data"
    }
   ],
   "source": [
    "import numpy as np\n",
    "import pandas as pd\n",
    "import plotly.express as px \n",
    "\n",
    "pd.options.plotting.backend = \"plotly\"\n",
    "\n",
    "leagues = pd.read_csv(\"data/concat_leagues/leagues.csv\")\n",
    "\n",
    "saison = \"2004-05\"\n",
    "league_colors = {'liga':'gold', 'PL':'blue', 'serieA':'green', 'ligue1':'black', 'bundesliga':'red'}\n",
    "\n",
    "px.scatter(leagues[leagues[\"Years\"] == saison], x='Age', y='Rk', \n",
    "           color=\"league\", hover_name=\"Squad\", color_discrete_map=league_colors, title=\"Classement en fonction de l'age et de la valeur marchande des clubs \",\n",
    "           size = 'Market Value', size_max=40)"
   ]
  },
  {
   "cell_type": "code",
   "execution_count": 70,
   "id": "27af8520",
   "metadata": {
    "scrolled": true
   },
   "outputs": [
    {
     "data": {
      "application/vnd.plotly.v1+json": {
       "config": {
        "plotlyServerURL": "https://plot.ly"
       },
       "data": [
        {
         "hovertemplate": "<b>%{hovertext}</b><br><br>league=liga<br>Years=2004-05<br>Age=%{x}<br>Rk=%{y}<extra></extra>",
         "hovertext": [
          "FC Barcelona",
          "Real Madrid",
          "Villarreal CF",
          "Real Betis Balompié",
          "RCD Espanyol Barcelona",
          "Sevilla FC",
          "Valencia CF",
          "Athletic Bilbao",
          "Deportivo de La Coruña",
          "Málaga CF",
          "Atlético de Madrid",
          "Real Zaragoza",
          "Getafe CF",
          "Real Sociedad",
          "CA Osasuna",
          "Racing Santander",
          "RCD Mallorca",
          "Levante UD",
          "CD Numancia",
          "Albacete Balompié"
         ],
         "ids": [
          "FC Barcelona",
          "Real Madrid",
          "Villarreal CF",
          "Real Betis Balompié",
          "RCD Espanyol Barcelona",
          "Sevilla FC",
          "Valencia CF",
          "Athletic Bilbao",
          "Deportivo de La Coruña",
          "Málaga CF",
          "Atlético de Madrid",
          "Real Zaragoza",
          "Getafe CF",
          "Real Sociedad",
          "CA Osasuna",
          "Racing Santander",
          "RCD Mallorca",
          "Levante UD",
          "CD Numancia",
          "Albacete Balompié"
         ],
         "legendgroup": "liga",
         "marker": {
          "color": "gold",
          "symbol": "circle"
         },
         "mode": "markers",
         "name": "liga",
         "orientation": "v",
         "showlegend": true,
         "type": "scatter",
         "x": [
          27,
          24.952381,
          24.611111,
          27.45,
          26.529412,
          24.111111,
          23.828571,
          22.222222,
          28.346154,
          26.2,
          25.456522,
          26.92,
          26.48,
          24.4,
          25.818182,
          24.866667,
          26.315789,
          27.217391,
          26.235294,
          25.368421
         ],
         "xaxis": "x",
         "y": [
          1,
          2,
          3,
          4,
          5,
          6,
          7,
          8,
          9,
          10,
          11,
          12,
          13,
          14,
          15,
          16,
          17,
          18,
          19,
          20
         ],
         "yaxis": "y"
        },
        {
         "hovertemplate": "<b>%{hovertext}</b><br><br>league=PL<br>Years=2004-05<br>Age=%{x}<br>Rk=%{y}<extra></extra>",
         "hovertext": [
          "Chelsea FC FC",
          "Arsenal FC",
          "Manchester United",
          "Everton FC",
          "Liverpool FC",
          "Bolton Wanderers",
          "Middlesbrough",
          "Manchester City",
          "Tottenham Hotspur",
          "Aston Villa",
          "Charlton Athletic",
          "Birmingham City",
          "Fulham FC",
          "Newcastle United",
          "Blackburn Rovers",
          "Portsmouth FC",
          "West Bromwich Albion",
          "Crystal Palace",
          "Norwich City",
          "Southampton FC"
         ],
         "ids": [
          "Chelsea FC FC",
          "Arsenal FC",
          "Manchester United",
          "Everton FC",
          "Liverpool FC",
          "Bolton Wanderers",
          "Middlesbrough",
          "Manchester City",
          "Tottenham Hotspur",
          "Aston Villa",
          "Charlton Athletic",
          "Birmingham City",
          "Fulham FC",
          "Newcastle United",
          "Blackburn Rovers",
          "Portsmouth FC",
          "West Bromwich Albion",
          "Crystal Palace",
          "Norwich City",
          "Southampton FC"
         ],
         "legendgroup": "PL",
         "marker": {
          "color": "blue",
          "symbol": "circle"
         },
         "mode": "markers",
         "name": "PL",
         "orientation": "v",
         "showlegend": true,
         "type": "scatter",
         "x": [
          24.521739,
          22.829268,
          21.846154,
          25,
          22.837209,
          25.66,
          24.069767,
          24.722222,
          23.485714,
          22.290323,
          24.527778,
          24.42,
          23.021277,
          23.722222,
          25.285714,
          24.47619,
          24.829268,
          24.818182,
          25.424242,
          23.262295
         ],
         "xaxis": "x",
         "y": [
          1,
          2,
          3,
          4,
          5,
          6,
          7,
          8,
          9,
          10,
          11,
          12,
          13,
          14,
          15,
          16,
          17,
          18,
          19,
          20
         ],
         "yaxis": "y"
        },
        {
         "hovertemplate": "<b>%{hovertext}</b><br><br>league=serieA<br>Years=2004-05<br>Age=%{x}<br>Rk=%{y}<extra></extra>",
         "hovertext": [
          "Juventus FC",
          "AC Milan",
          "Inter Milan",
          "Udinese Calcio",
          "UC Sampdoria",
          "US Palermo",
          "FC Messina Peloro",
          "AS Roma",
          "AS Livorno",
          "Reggina Calcio",
          "US Lecce",
          "Cagliari Calcio",
          "SS Lazio",
          "AC Siena",
          "Chievo Verona",
          "ACF Fiorentina",
          "Parma FC",
          "Bologna FC 1909",
          "Brescia Calcio",
          "Atalanta BC"
         ],
         "ids": [
          "Juventus FC",
          "AC Milan",
          "Inter Milan",
          "Udinese Calcio",
          "UC Sampdoria",
          "US Palermo",
          "FC Messina Peloro",
          "AS Roma",
          "AS Livorno",
          "Reggina Calcio",
          "US Lecce",
          "Cagliari Calcio",
          "SS Lazio",
          "AC Siena",
          "Chievo Verona",
          "ACF Fiorentina",
          "Parma FC",
          "Bologna FC 1909",
          "Brescia Calcio",
          "Atalanta BC"
         ],
         "legendgroup": "serieA",
         "marker": {
          "color": "green",
          "symbol": "circle"
         },
         "mode": "markers",
         "name": "serieA",
         "orientation": "v",
         "showlegend": true,
         "type": "scatter",
         "x": [
          23.4,
          23.551724,
          23.65625,
          24.62069,
          24.947368,
          24.45,
          24.810811,
          22.5,
          24.090909,
          25.285714,
          23.3,
          24.409091,
          26.823529,
          26.285714,
          23.903846,
          25.128205,
          24.693878,
          25.764706,
          23.742857,
          23.529412
         ],
         "xaxis": "x",
         "y": [
          1,
          2,
          3,
          4,
          5,
          6,
          7,
          8,
          9,
          10,
          11,
          12,
          13,
          14,
          15,
          16,
          17,
          18,
          19,
          20
         ],
         "yaxis": "y"
        },
        {
         "hovertemplate": "<b>%{hovertext}</b><br><br>league=ligue1<br>Years=2004-05<br>Age=%{x}<br>Rk=%{y}<extra></extra>",
         "hovertext": [
          "Olympique Lyon",
          "LOSC Lille",
          "AS Monaco",
          "Stade Rennais",
          "Olympique Marseille",
          "Saint-Etienne",
          "RC Lens",
          "Auxerre",
          "Paris Saint-Germain",
          "FC Sochaux-Montbéliard",
          "RC Strasbourg Alsace",
          "OGC Nice",
          "Toulouse",
          "Ajaccio",
          "FC Girondins Bordeaux",
          "FC Metz",
          "FC Nantes",
          "SM Caen",
          "SC Bastia",
          "FC Istres Ouest Provence"
         ],
         "ids": [
          "Olympique Lyon",
          "LOSC Lille",
          "AS Monaco",
          "Stade Rennais",
          "Olympique Marseille",
          "Saint-Etienne",
          "RC Lens",
          "Auxerre",
          "Paris Saint-Germain",
          "FC Sochaux-Montbéliard",
          "RC Strasbourg Alsace",
          "OGC Nice",
          "Toulouse",
          "Ajaccio",
          "FC Girondins Bordeaux",
          "FC Metz",
          "FC Nantes",
          "SM Caen",
          "SC Bastia",
          "FC Istres Ouest Provence"
         ],
         "legendgroup": "ligue1",
         "marker": {
          "color": "black",
          "symbol": "circle"
         },
         "mode": "markers",
         "name": "ligue1",
         "orientation": "v",
         "showlegend": true,
         "type": "scatter",
         "x": [
          24.032258,
          24.410256,
          23.780488,
          24.354839,
          25.169811,
          23.515152,
          25.026316,
          22.791667,
          24.85,
          24,
          23.724138,
          25.295455,
          23.137931,
          27.142857,
          23.53125,
          23.021739,
          23.181818,
          24.642857,
          26.451613,
          25.365854
         ],
         "xaxis": "x",
         "y": [
          1,
          2,
          3,
          4,
          5,
          6,
          7,
          8,
          9,
          10,
          11,
          12,
          13,
          14,
          15,
          16,
          17,
          18,
          19,
          20
         ],
         "yaxis": "y"
        },
        {
         "hovertemplate": "<b>%{hovertext}</b><br><br>league=bundesliga<br>Years=2004-05<br>Age=%{x}<br>Rk=%{y}<extra></extra>",
         "hovertext": [
          "Bayern Munich",
          "Schalke 04",
          "SV Werder Bremen",
          "Hertha BSC",
          "VfB Stuttgart",
          "Bayer 04 Leverkusen",
          "Borussia Dortmund",
          "Hamburger SV",
          "VfL Wolfsburg",
          "Hannover 96",
          "FSV Mainz 05",
          "Kaiserslautern",
          "Arminia Bielefeld",
          "Nuremberg",
          "Borussia Mönchengladbach",
          "VfL Bochum",
          "Hansa Rostock",
          "SC Freiburg"
         ],
         "ids": [
          "Bayern Munich",
          "Schalke 04",
          "SV Werder Bremen",
          "Hertha BSC",
          "VfB Stuttgart",
          "Bayer 04 Leverkusen",
          "Borussia Dortmund",
          "Hamburger SV",
          "VfL Wolfsburg",
          "Hannover 96",
          "FSV Mainz 05",
          "Kaiserslautern",
          "Arminia Bielefeld",
          "Nuremberg",
          "Borussia Mönchengladbach",
          "VfL Bochum",
          "Hansa Rostock",
          "SC Freiburg"
         ],
         "legendgroup": "bundesliga",
         "marker": {
          "color": "red",
          "symbol": "circle"
         },
         "mode": "markers",
         "name": "bundesliga",
         "orientation": "v",
         "showlegend": true,
         "type": "scatter",
         "x": [
          25.555556,
          25.64,
          25.76,
          23.545455,
          23.6,
          24.076923,
          24,
          23.903226,
          24.263158,
          25.815789,
          25.380952,
          26.793103,
          23.785714,
          26.733333,
          28.194444,
          25.375,
          27.125,
          23.4
         ],
         "xaxis": "x",
         "y": [
          1,
          2,
          3,
          4,
          5,
          6,
          7,
          8,
          9,
          10,
          11,
          12,
          13,
          14,
          15,
          16,
          17,
          18
         ],
         "yaxis": "y"
        }
       ],
       "frames": [
        {
         "data": [
          {
           "hovertemplate": "<b>%{hovertext}</b><br><br>league=liga<br>Years=2004-05<br>Age=%{x}<br>Rk=%{y}<extra></extra>",
           "hovertext": [
            "FC Barcelona",
            "Real Madrid",
            "Villarreal CF",
            "Real Betis Balompié",
            "RCD Espanyol Barcelona",
            "Sevilla FC",
            "Valencia CF",
            "Athletic Bilbao",
            "Deportivo de La Coruña",
            "Málaga CF",
            "Atlético de Madrid",
            "Real Zaragoza",
            "Getafe CF",
            "Real Sociedad",
            "CA Osasuna",
            "Racing Santander",
            "RCD Mallorca",
            "Levante UD",
            "CD Numancia",
            "Albacete Balompié"
           ],
           "ids": [
            "FC Barcelona",
            "Real Madrid",
            "Villarreal CF",
            "Real Betis Balompié",
            "RCD Espanyol Barcelona",
            "Sevilla FC",
            "Valencia CF",
            "Athletic Bilbao",
            "Deportivo de La Coruña",
            "Málaga CF",
            "Atlético de Madrid",
            "Real Zaragoza",
            "Getafe CF",
            "Real Sociedad",
            "CA Osasuna",
            "Racing Santander",
            "RCD Mallorca",
            "Levante UD",
            "CD Numancia",
            "Albacete Balompié"
           ],
           "legendgroup": "liga",
           "marker": {
            "color": "gold",
            "symbol": "circle"
           },
           "mode": "markers",
           "name": "liga",
           "orientation": "v",
           "showlegend": true,
           "type": "scatter",
           "x": [
            27,
            24.952381,
            24.611111,
            27.45,
            26.529412,
            24.111111,
            23.828571,
            22.222222,
            28.346154,
            26.2,
            25.456522,
            26.92,
            26.48,
            24.4,
            25.818182,
            24.866667,
            26.315789,
            27.217391,
            26.235294,
            25.368421
           ],
           "xaxis": "x",
           "y": [
            1,
            2,
            3,
            4,
            5,
            6,
            7,
            8,
            9,
            10,
            11,
            12,
            13,
            14,
            15,
            16,
            17,
            18,
            19,
            20
           ],
           "yaxis": "y"
          },
          {
           "hovertemplate": "<b>%{hovertext}</b><br><br>league=PL<br>Years=2004-05<br>Age=%{x}<br>Rk=%{y}<extra></extra>",
           "hovertext": [
            "Chelsea FC FC",
            "Arsenal FC",
            "Manchester United",
            "Everton FC",
            "Liverpool FC",
            "Bolton Wanderers",
            "Middlesbrough",
            "Manchester City",
            "Tottenham Hotspur",
            "Aston Villa",
            "Charlton Athletic",
            "Birmingham City",
            "Fulham FC",
            "Newcastle United",
            "Blackburn Rovers",
            "Portsmouth FC",
            "West Bromwich Albion",
            "Crystal Palace",
            "Norwich City",
            "Southampton FC"
           ],
           "ids": [
            "Chelsea FC FC",
            "Arsenal FC",
            "Manchester United",
            "Everton FC",
            "Liverpool FC",
            "Bolton Wanderers",
            "Middlesbrough",
            "Manchester City",
            "Tottenham Hotspur",
            "Aston Villa",
            "Charlton Athletic",
            "Birmingham City",
            "Fulham FC",
            "Newcastle United",
            "Blackburn Rovers",
            "Portsmouth FC",
            "West Bromwich Albion",
            "Crystal Palace",
            "Norwich City",
            "Southampton FC"
           ],
           "legendgroup": "PL",
           "marker": {
            "color": "blue",
            "symbol": "circle"
           },
           "mode": "markers",
           "name": "PL",
           "orientation": "v",
           "showlegend": true,
           "type": "scatter",
           "x": [
            24.521739,
            22.829268,
            21.846154,
            25,
            22.837209,
            25.66,
            24.069767,
            24.722222,
            23.485714,
            22.290323,
            24.527778,
            24.42,
            23.021277,
            23.722222,
            25.285714,
            24.47619,
            24.829268,
            24.818182,
            25.424242,
            23.262295
           ],
           "xaxis": "x",
           "y": [
            1,
            2,
            3,
            4,
            5,
            6,
            7,
            8,
            9,
            10,
            11,
            12,
            13,
            14,
            15,
            16,
            17,
            18,
            19,
            20
           ],
           "yaxis": "y"
          },
          {
           "hovertemplate": "<b>%{hovertext}</b><br><br>league=serieA<br>Years=2004-05<br>Age=%{x}<br>Rk=%{y}<extra></extra>",
           "hovertext": [
            "Juventus FC",
            "AC Milan",
            "Inter Milan",
            "Udinese Calcio",
            "UC Sampdoria",
            "US Palermo",
            "FC Messina Peloro",
            "AS Roma",
            "AS Livorno",
            "Reggina Calcio",
            "US Lecce",
            "Cagliari Calcio",
            "SS Lazio",
            "AC Siena",
            "Chievo Verona",
            "ACF Fiorentina",
            "Parma FC",
            "Bologna FC 1909",
            "Brescia Calcio",
            "Atalanta BC"
           ],
           "ids": [
            "Juventus FC",
            "AC Milan",
            "Inter Milan",
            "Udinese Calcio",
            "UC Sampdoria",
            "US Palermo",
            "FC Messina Peloro",
            "AS Roma",
            "AS Livorno",
            "Reggina Calcio",
            "US Lecce",
            "Cagliari Calcio",
            "SS Lazio",
            "AC Siena",
            "Chievo Verona",
            "ACF Fiorentina",
            "Parma FC",
            "Bologna FC 1909",
            "Brescia Calcio",
            "Atalanta BC"
           ],
           "legendgroup": "serieA",
           "marker": {
            "color": "green",
            "symbol": "circle"
           },
           "mode": "markers",
           "name": "serieA",
           "orientation": "v",
           "showlegend": true,
           "type": "scatter",
           "x": [
            23.4,
            23.551724,
            23.65625,
            24.62069,
            24.947368,
            24.45,
            24.810811,
            22.5,
            24.090909,
            25.285714,
            23.3,
            24.409091,
            26.823529,
            26.285714,
            23.903846,
            25.128205,
            24.693878,
            25.764706,
            23.742857,
            23.529412
           ],
           "xaxis": "x",
           "y": [
            1,
            2,
            3,
            4,
            5,
            6,
            7,
            8,
            9,
            10,
            11,
            12,
            13,
            14,
            15,
            16,
            17,
            18,
            19,
            20
           ],
           "yaxis": "y"
          },
          {
           "hovertemplate": "<b>%{hovertext}</b><br><br>league=ligue1<br>Years=2004-05<br>Age=%{x}<br>Rk=%{y}<extra></extra>",
           "hovertext": [
            "Olympique Lyon",
            "LOSC Lille",
            "AS Monaco",
            "Stade Rennais",
            "Olympique Marseille",
            "Saint-Etienne",
            "RC Lens",
            "Auxerre",
            "Paris Saint-Germain",
            "FC Sochaux-Montbéliard",
            "RC Strasbourg Alsace",
            "OGC Nice",
            "Toulouse",
            "Ajaccio",
            "FC Girondins Bordeaux",
            "FC Metz",
            "FC Nantes",
            "SM Caen",
            "SC Bastia",
            "FC Istres Ouest Provence"
           ],
           "ids": [
            "Olympique Lyon",
            "LOSC Lille",
            "AS Monaco",
            "Stade Rennais",
            "Olympique Marseille",
            "Saint-Etienne",
            "RC Lens",
            "Auxerre",
            "Paris Saint-Germain",
            "FC Sochaux-Montbéliard",
            "RC Strasbourg Alsace",
            "OGC Nice",
            "Toulouse",
            "Ajaccio",
            "FC Girondins Bordeaux",
            "FC Metz",
            "FC Nantes",
            "SM Caen",
            "SC Bastia",
            "FC Istres Ouest Provence"
           ],
           "legendgroup": "ligue1",
           "marker": {
            "color": "black",
            "symbol": "circle"
           },
           "mode": "markers",
           "name": "ligue1",
           "orientation": "v",
           "showlegend": true,
           "type": "scatter",
           "x": [
            24.032258,
            24.410256,
            23.780488,
            24.354839,
            25.169811,
            23.515152,
            25.026316,
            22.791667,
            24.85,
            24,
            23.724138,
            25.295455,
            23.137931,
            27.142857,
            23.53125,
            23.021739,
            23.181818,
            24.642857,
            26.451613,
            25.365854
           ],
           "xaxis": "x",
           "y": [
            1,
            2,
            3,
            4,
            5,
            6,
            7,
            8,
            9,
            10,
            11,
            12,
            13,
            14,
            15,
            16,
            17,
            18,
            19,
            20
           ],
           "yaxis": "y"
          },
          {
           "hovertemplate": "<b>%{hovertext}</b><br><br>league=bundesliga<br>Years=2004-05<br>Age=%{x}<br>Rk=%{y}<extra></extra>",
           "hovertext": [
            "Bayern Munich",
            "Schalke 04",
            "SV Werder Bremen",
            "Hertha BSC",
            "VfB Stuttgart",
            "Bayer 04 Leverkusen",
            "Borussia Dortmund",
            "Hamburger SV",
            "VfL Wolfsburg",
            "Hannover 96",
            "FSV Mainz 05",
            "Kaiserslautern",
            "Arminia Bielefeld",
            "Nuremberg",
            "Borussia Mönchengladbach",
            "VfL Bochum",
            "Hansa Rostock",
            "SC Freiburg"
           ],
           "ids": [
            "Bayern Munich",
            "Schalke 04",
            "SV Werder Bremen",
            "Hertha BSC",
            "VfB Stuttgart",
            "Bayer 04 Leverkusen",
            "Borussia Dortmund",
            "Hamburger SV",
            "VfL Wolfsburg",
            "Hannover 96",
            "FSV Mainz 05",
            "Kaiserslautern",
            "Arminia Bielefeld",
            "Nuremberg",
            "Borussia Mönchengladbach",
            "VfL Bochum",
            "Hansa Rostock",
            "SC Freiburg"
           ],
           "legendgroup": "bundesliga",
           "marker": {
            "color": "red",
            "symbol": "circle"
           },
           "mode": "markers",
           "name": "bundesliga",
           "orientation": "v",
           "showlegend": true,
           "type": "scatter",
           "x": [
            25.555556,
            25.64,
            25.76,
            23.545455,
            23.6,
            24.076923,
            24,
            23.903226,
            24.263158,
            25.815789,
            25.380952,
            26.793103,
            23.785714,
            26.733333,
            28.194444,
            25.375,
            27.125,
            23.4
           ],
           "xaxis": "x",
           "y": [
            1,
            2,
            3,
            4,
            5,
            6,
            7,
            8,
            9,
            10,
            11,
            12,
            13,
            14,
            15,
            16,
            17,
            18
           ],
           "yaxis": "y"
          }
         ],
         "name": "2004-05"
        },
        {
         "data": [
          {
           "hovertemplate": "<b>%{hovertext}</b><br><br>league=liga<br>Years=2005-06<br>Age=%{x}<br>Rk=%{y}<extra></extra>",
           "hovertext": [
            "FC Barcelona",
            "Real Madrid",
            "Valencia CF",
            "CA Osasuna",
            "Sevilla FC",
            "Celta de Vigo",
            "Villarreal CF",
            "Deportivo de La Coruña",
            "Getafe CF",
            "Atlético de Madrid",
            "Real Zaragoza",
            "Athletic Bilbao",
            "RCD Mallorca",
            "Real Betis Balompié",
            "RCD Espanyol Barcelona",
            "Real Sociedad",
            "Racing Santander",
            "Deportivo Alavés",
            "Cádiz CF",
            "Málaga CF"
           ],
           "ids": [
            "FC Barcelona",
            "Real Madrid",
            "Valencia CF",
            "CA Osasuna",
            "Sevilla FC",
            "Celta de Vigo",
            "Villarreal CF",
            "Deportivo de La Coruña",
            "Getafe CF",
            "Atlético de Madrid",
            "Real Zaragoza",
            "Athletic Bilbao",
            "RCD Mallorca",
            "Real Betis Balompié",
            "RCD Espanyol Barcelona",
            "Real Sociedad",
            "Racing Santander",
            "Deportivo Alavés",
            "Cádiz CF",
            "Málaga CF"
           ],
           "legendgroup": "liga",
           "marker": {
            "color": "gold",
            "symbol": "circle"
           },
           "mode": "markers",
           "name": "liga",
           "orientation": "v",
           "showlegend": true,
           "type": "scatter",
           "x": [
            24.647059,
            24.192308,
            23.928571,
            26.625,
            26.416667,
            25.612903,
            23.555556,
            26,
            25.592593,
            25.157895,
            25.541667,
            23.666667,
            26.069767,
            26.833333,
            25.625,
            25.36,
            25.078947,
            25.25,
            26.277778,
            25.033333
           ],
           "xaxis": "x",
           "y": [
            1,
            2,
            3,
            4,
            5,
            6,
            7,
            8,
            9,
            10,
            11,
            12,
            13,
            14,
            15,
            16,
            17,
            18,
            19,
            20
           ],
           "yaxis": "y"
          },
          {
           "hovertemplate": "<b>%{hovertext}</b><br><br>league=PL<br>Years=2005-06<br>Age=%{x}<br>Rk=%{y}<extra></extra>",
           "hovertext": [
            "Chelsea FC FC",
            "Manchester United",
            "Liverpool FC",
            "Arsenal FC",
            "Tottenham Hotspur",
            "Blackburn Rovers",
            "Newcastle United",
            "Bolton Wanderers",
            "West Ham United",
            "Wigan Athletic",
            "Everton FC",
            "Fulham FC",
            "Charlton Athletic",
            "Middlesbrough",
            "Manchester City",
            "Aston Villa",
            "Portsmouth FC",
            "Birmingham City",
            "West Bromwich Albion",
            "Sunderland AFC"
           ],
           "ids": [
            "Chelsea FC FC",
            "Manchester United",
            "Liverpool FC",
            "Arsenal FC",
            "Tottenham Hotspur",
            "Blackburn Rovers",
            "Newcastle United",
            "Bolton Wanderers",
            "West Ham United",
            "Wigan Athletic",
            "Everton FC",
            "Fulham FC",
            "Charlton Athletic",
            "Middlesbrough",
            "Manchester City",
            "Aston Villa",
            "Portsmouth FC",
            "Birmingham City",
            "West Bromwich Albion",
            "Sunderland AFC"
           ],
           "legendgroup": "PL",
           "marker": {
            "color": "blue",
            "symbol": "circle"
           },
           "mode": "markers",
           "name": "PL",
           "orientation": "v",
           "showlegend": true,
           "type": "scatter",
           "x": [
            23.333333,
            21.882353,
            22.711538,
            21.108108,
            22.215686,
            21.416667,
            24.28125,
            27.586207,
            23.032258,
            26.542857,
            23.827586,
            24.5625,
            23.188679,
            22.066667,
            23.44,
            22.645161,
            24.378378,
            22.241379,
            25.181818,
            23.55102
           ],
           "xaxis": "x",
           "y": [
            1,
            2,
            3,
            4,
            5,
            6,
            7,
            8,
            9,
            10,
            11,
            12,
            13,
            14,
            15,
            16,
            17,
            18,
            19,
            20
           ],
           "yaxis": "y"
          },
          {
           "hovertemplate": "<b>%{hovertext}</b><br><br>league=serieA<br>Years=2005-06<br>Age=%{x}<br>Rk=%{y}<extra></extra>",
           "hovertext": [
            "Inter Milan",
            "AS Roma",
            "AC Milan",
            "Chievo Verona",
            "US Palermo",
            "AS Livorno",
            "Parma FC",
            "Empoli FC",
            "ACF Fiorentina",
            "Ascoli Calcio 1898",
            "Udinese Calcio",
            "UC Sampdoria",
            "Reggina Calcio",
            "Cagliari Calcio",
            "AC Siena",
            "SS Lazio",
            "FC Messina Peloro",
            "US Lecce",
            "Treviso FBC 1993",
            "Juventus FC"
           ],
           "ids": [
            "Inter Milan",
            "AS Roma",
            "AC Milan",
            "Chievo Verona",
            "US Palermo",
            "AS Livorno",
            "Parma FC",
            "Empoli FC",
            "ACF Fiorentina",
            "Ascoli Calcio 1898",
            "Udinese Calcio",
            "UC Sampdoria",
            "Reggina Calcio",
            "Cagliari Calcio",
            "AC Siena",
            "SS Lazio",
            "FC Messina Peloro",
            "US Lecce",
            "Treviso FBC 1993",
            "Juventus FC"
           ],
           "legendgroup": "serieA",
           "marker": {
            "color": "green",
            "symbol": "circle"
           },
           "mode": "markers",
           "name": "serieA",
           "orientation": "v",
           "showlegend": true,
           "type": "scatter",
           "x": [
            24.283019,
            23.117647,
            24.888889,
            23.897436,
            24.055556,
            25.914286,
            23.736842,
            24.266667,
            26.272727,
            25.230769,
            23.459016,
            24.194444,
            24.245283,
            26.454545,
            25.977273,
            26.025641,
            23.878049,
            22.484848,
            25.036364,
            23.85
           ],
           "xaxis": "x",
           "y": [
            1,
            2,
            3,
            4,
            5,
            6,
            7,
            8,
            9,
            10,
            11,
            12,
            13,
            14,
            15,
            16,
            17,
            18,
            19,
            20
           ],
           "yaxis": "y"
          },
          {
           "hovertemplate": "<b>%{hovertext}</b><br><br>league=ligue1<br>Years=2005-06<br>Age=%{x}<br>Rk=%{y}<extra></extra>",
           "hovertext": [
            "Olympique Lyon",
            "FC Girondins Bordeaux",
            "LOSC Lille",
            "RC Lens",
            "Olympique Marseille",
            "Auxerre",
            "Stade Rennais",
            "OGC Nice",
            "Paris Saint-Germain",
            "AS Monaco",
            "Le Mans Union Club 72",
            "Nancy-Lorraine",
            "Saint-Etienne",
            "FC Nantes",
            "FC Sochaux-Montbéliard",
            "Toulouse",
            "ESTAC Troyes",
            "Ajaccio",
            "RC Strasbourg Alsace",
            "FC Metz"
           ],
           "ids": [
            "Olympique Lyon",
            "FC Girondins Bordeaux",
            "LOSC Lille",
            "RC Lens",
            "Olympique Marseille",
            "Auxerre",
            "Stade Rennais",
            "OGC Nice",
            "Paris Saint-Germain",
            "AS Monaco",
            "Le Mans Union Club 72",
            "Nancy-Lorraine",
            "Saint-Etienne",
            "FC Nantes",
            "FC Sochaux-Montbéliard",
            "Toulouse",
            "ESTAC Troyes",
            "Ajaccio",
            "RC Strasbourg Alsace",
            "FC Metz"
           ],
           "legendgroup": "ligue1",
           "marker": {
            "color": "black",
            "symbol": "circle"
           },
           "mode": "markers",
           "name": "ligue1",
           "orientation": "v",
           "showlegend": true,
           "type": "scatter",
           "x": [
            22.066667,
            23.69697,
            22.588235,
            23.75,
            24.885246,
            23.47619,
            23.12,
            24.685714,
            24.689655,
            23.785714,
            23.783784,
            24.846154,
            23.645161,
            23.818182,
            22.914286,
            24.315789,
            24.233333,
            25.516129,
            23.527778,
            23.346154
           ],
           "xaxis": "x",
           "y": [
            1,
            2,
            3,
            4,
            5,
            6,
            7,
            8,
            9,
            10,
            11,
            12,
            13,
            14,
            15,
            16,
            17,
            18,
            19,
            20
           ],
           "yaxis": "y"
          },
          {
           "hovertemplate": "<b>%{hovertext}</b><br><br>league=bundesliga<br>Years=2005-06<br>Age=%{x}<br>Rk=%{y}<extra></extra>",
           "hovertext": [
            "Bayern Munich",
            "SV Werder Bremen",
            "Hamburger SV",
            "Schalke 04",
            "Bayer 04 Leverkusen",
            "Hertha BSC",
            "Borussia Dortmund",
            "Nuremberg",
            "VfB Stuttgart",
            "Borussia Mönchengladbach",
            "FSV Mainz 05",
            "Hannover 96",
            "Arminia Bielefeld",
            "Eintracht Frankfurt",
            "VfL Wolfsburg",
            "Kaiserslautern",
            "FC FC Köln",
            "MSV Duisburg"
           ],
           "ids": [
            "Bayern Munich",
            "SV Werder Bremen",
            "Hamburger SV",
            "Schalke 04",
            "Bayer 04 Leverkusen",
            "Hertha BSC",
            "Borussia Dortmund",
            "Nuremberg",
            "VfB Stuttgart",
            "Borussia Mönchengladbach",
            "FSV Mainz 05",
            "Hannover 96",
            "Arminia Bielefeld",
            "Eintracht Frankfurt",
            "VfL Wolfsburg",
            "Kaiserslautern",
            "FC FC Köln",
            "MSV Duisburg"
           ],
           "legendgroup": "bundesliga",
           "marker": {
            "color": "red",
            "symbol": "circle"
           },
           "mode": "markers",
           "name": "bundesliga",
           "orientation": "v",
           "showlegend": true,
           "type": "scatter",
           "x": [
            27.692308,
            24,
            23.387097,
            23.857143,
            22.5,
            24.578947,
            25.08,
            25.428571,
            24.62963,
            26.756757,
            26.6,
            24.516129,
            24.96875,
            26.178571,
            26.36,
            25.2,
            25.606061,
            26.555556
           ],
           "xaxis": "x",
           "y": [
            1,
            2,
            3,
            4,
            5,
            6,
            7,
            8,
            9,
            10,
            11,
            12,
            13,
            14,
            15,
            16,
            17,
            18
           ],
           "yaxis": "y"
          }
         ],
         "name": "2005-06"
        },
        {
         "data": [
          {
           "hovertemplate": "<b>%{hovertext}</b><br><br>league=liga<br>Years=2006-07<br>Age=%{x}<br>Rk=%{y}<extra></extra>",
           "hovertext": [
            "Real Madrid",
            "FC Barcelona",
            "Sevilla FC",
            "Valencia CF",
            "Villarreal CF",
            "Real Zaragoza",
            "Atlético de Madrid",
            "Recreativo Huelva",
            "Getafe CF",
            "Racing Santander",
            "RCD Espanyol Barcelona",
            "RCD Mallorca",
            "Deportivo de La Coruña",
            "CA Osasuna",
            "Levante UD",
            "Real Betis Balompié",
            "Athletic Bilbao",
            "Celta de Vigo",
            "Real Sociedad",
            "Gimnàstic de Tarragona"
           ],
           "ids": [
            "Real Madrid",
            "FC Barcelona",
            "Sevilla FC",
            "Valencia CF",
            "Villarreal CF",
            "Real Zaragoza",
            "Atlético de Madrid",
            "Recreativo Huelva",
            "Getafe CF",
            "Racing Santander",
            "RCD Espanyol Barcelona",
            "RCD Mallorca",
            "Deportivo de La Coruña",
            "CA Osasuna",
            "Levante UD",
            "Real Betis Balompié",
            "Athletic Bilbao",
            "Celta de Vigo",
            "Real Sociedad",
            "Gimnàstic de Tarragona"
           ],
           "legendgroup": "liga",
           "marker": {
            "color": "gold",
            "symbol": "circle"
           },
           "mode": "markers",
           "name": "liga",
           "orientation": "v",
           "showlegend": true,
           "type": "scatter",
           "x": [
            24.733333,
            27.5,
            25.115385,
            25.944444,
            25.115385,
            26.333333,
            24.926829,
            26.323529,
            26.192308,
            25.6875,
            25.541667,
            25.088235,
            25.456522,
            24.307692,
            28.206897,
            26,
            24.272727,
            25.48,
            25.931034,
            26.976744
           ],
           "xaxis": "x",
           "y": [
            1,
            2,
            3,
            4,
            5,
            6,
            7,
            8,
            9,
            10,
            11,
            12,
            13,
            14,
            15,
            16,
            17,
            18,
            19,
            20
           ],
           "yaxis": "y"
          },
          {
           "hovertemplate": "<b>%{hovertext}</b><br><br>league=PL<br>Years=2006-07<br>Age=%{x}<br>Rk=%{y}<extra></extra>",
           "hovertext": [
            "Manchester United",
            "Chelsea FC FC",
            "Liverpool FC",
            "Arsenal FC",
            "Tottenham Hotspur",
            "Everton FC",
            "Bolton Wanderers",
            "Reading FC",
            "Portsmouth FC",
            "Blackburn Rovers",
            "Aston Villa",
            "Middlesbrough",
            "Newcastle United",
            "Manchester City",
            "West Ham United",
            "Fulham FC",
            "Wigan Athletic",
            "Sheffield United",
            "Charlton Athletic",
            "Watford FC"
           ],
           "ids": [
            "Manchester United",
            "Chelsea FC FC",
            "Liverpool FC",
            "Arsenal FC",
            "Tottenham Hotspur",
            "Everton FC",
            "Bolton Wanderers",
            "Reading FC",
            "Portsmouth FC",
            "Blackburn Rovers",
            "Aston Villa",
            "Middlesbrough",
            "Newcastle United",
            "Manchester City",
            "West Ham United",
            "Fulham FC",
            "Wigan Athletic",
            "Sheffield United",
            "Charlton Athletic",
            "Watford FC"
           ],
           "legendgroup": "PL",
           "marker": {
            "color": "blue",
            "symbol": "circle"
           },
           "mode": "markers",
           "name": "PL",
           "orientation": "v",
           "showlegend": true,
           "type": "scatter",
           "x": [
            21.244898,
            23.714286,
            22.055556,
            22.085714,
            23.27907,
            23.464286,
            24.555556,
            21,
            24.762712,
            23.627451,
            25.888889,
            24.522727,
            25.208333,
            24.97619,
            24.136364,
            25.214286,
            26.510638,
            24.434211,
            22.764706,
            21.636364
           ],
           "xaxis": "x",
           "y": [
            1,
            2,
            3,
            4,
            5,
            6,
            7,
            8,
            9,
            10,
            11,
            12,
            13,
            14,
            15,
            16,
            17,
            18,
            19,
            20
           ],
           "yaxis": "y"
          },
          {
           "hovertemplate": "<b>%{hovertext}</b><br><br>league=serieA<br>Years=2006-07<br>Age=%{x}<br>Rk=%{y}<extra></extra>",
           "hovertext": [
            "Inter Milan",
            "AS Roma",
            "SS Lazio",
            "AC Milan",
            "US Palermo",
            "ACF Fiorentina",
            "Empoli FC",
            "Atalanta BC",
            "UC Sampdoria",
            "Udinese Calcio",
            "AS Livorno",
            "Parma FC",
            "Calcio Catania",
            "Reggina Calcio",
            "AC Siena",
            "Torino FC",
            "Cagliari Calcio",
            "Chievo Verona",
            "Ascoli Calcio 1898",
            "FC Messina Peloro"
           ],
           "ids": [
            "Inter Milan",
            "AS Roma",
            "SS Lazio",
            "AC Milan",
            "US Palermo",
            "ACF Fiorentina",
            "Empoli FC",
            "Atalanta BC",
            "UC Sampdoria",
            "Udinese Calcio",
            "AS Livorno",
            "Parma FC",
            "Calcio Catania",
            "Reggina Calcio",
            "AC Siena",
            "Torino FC",
            "Cagliari Calcio",
            "Chievo Verona",
            "Ascoli Calcio 1898",
            "FC Messina Peloro"
           ],
           "legendgroup": "serieA",
           "marker": {
            "color": "green",
            "symbol": "circle"
           },
           "mode": "markers",
           "name": "serieA",
           "orientation": "v",
           "showlegend": true,
           "type": "scatter",
           "x": [
            23.980392,
            24.888889,
            23.918919,
            24.472222,
            24.906977,
            26.09375,
            23.206897,
            24.030303,
            25.22449,
            22.698113,
            26.473684,
            24.451613,
            25.361111,
            24.714286,
            24.787234,
            26.909091,
            24.5,
            24.947368,
            25.890625,
            26.46
           ],
           "xaxis": "x",
           "y": [
            1,
            2,
            3,
            4,
            5,
            6,
            7,
            8,
            9,
            10,
            11,
            12,
            13,
            14,
            15,
            16,
            17,
            18,
            19,
            20
           ],
           "yaxis": "y"
          },
          {
           "hovertemplate": "<b>%{hovertext}</b><br><br>league=ligue1<br>Years=2006-07<br>Age=%{x}<br>Rk=%{y}<extra></extra>",
           "hovertext": [
            "Olympique Lyon",
            "Olympique Marseille",
            "Toulouse",
            "Stade Rennais",
            "RC Lens",
            "FC Girondins Bordeaux",
            "FC Sochaux-Montbéliard",
            "Auxerre",
            "AS Monaco",
            "LOSC Lille",
            "Saint-Etienne",
            "Le Mans Union Club 72",
            "Nancy-Lorraine",
            "Lorient",
            "Paris Saint-Germain",
            "OGC Nice",
            "Valenciennes",
            "ESTAC Troyes",
            "CS Sedan-Ardennes",
            "FC Nantes"
           ],
           "ids": [
            "Olympique Lyon",
            "Olympique Marseille",
            "Toulouse",
            "Stade Rennais",
            "RC Lens",
            "FC Girondins Bordeaux",
            "FC Sochaux-Montbéliard",
            "Auxerre",
            "AS Monaco",
            "LOSC Lille",
            "Saint-Etienne",
            "Le Mans Union Club 72",
            "Nancy-Lorraine",
            "Lorient",
            "Paris Saint-Germain",
            "OGC Nice",
            "Valenciennes",
            "ESTAC Troyes",
            "CS Sedan-Ardennes",
            "FC Nantes"
           ],
           "legendgroup": "ligue1",
           "marker": {
            "color": "black",
            "symbol": "circle"
           },
           "mode": "markers",
           "name": "ligue1",
           "orientation": "v",
           "showlegend": true,
           "type": "scatter",
           "x": [
            23.296296,
            25.115385,
            25.315789,
            23.235294,
            22.90625,
            23.576923,
            22.421053,
            24.862069,
            24.581395,
            22.4,
            24.1875,
            22.652174,
            22.941176,
            23.789474,
            24.848485,
            25.103448,
            25.6,
            26.470588,
            26.466667,
            24.673913
           ],
           "xaxis": "x",
           "y": [
            1,
            2,
            3,
            4,
            5,
            6,
            7,
            8,
            9,
            10,
            11,
            12,
            13,
            14,
            15,
            16,
            17,
            18,
            19,
            20
           ],
           "yaxis": "y"
          },
          {
           "hovertemplate": "<b>%{hovertext}</b><br><br>league=bundesliga<br>Years=2006-07<br>Age=%{x}<br>Rk=%{y}<extra></extra>",
           "hovertext": [
            "VfB Stuttgart",
            "Schalke 04",
            "SV Werder Bremen",
            "Bayern Munich",
            "Bayer 04 Leverkusen",
            "Nuremberg",
            "Hamburger SV",
            "VfL Bochum",
            "Borussia Dortmund",
            "Hertha BSC",
            "Hannover 96",
            "Arminia Bielefeld",
            "FC Energie Cottbus",
            "Eintracht Frankfurt",
            "VfL Wolfsburg",
            "FSV Mainz 05",
            "Alemannia Aachen",
            "Borussia Mönchengladbach"
           ],
           "ids": [
            "VfB Stuttgart",
            "Schalke 04",
            "SV Werder Bremen",
            "Bayern Munich",
            "Bayer 04 Leverkusen",
            "Nuremberg",
            "Hamburger SV",
            "VfL Bochum",
            "Borussia Dortmund",
            "Hertha BSC",
            "Hannover 96",
            "Arminia Bielefeld",
            "FC Energie Cottbus",
            "Eintracht Frankfurt",
            "VfL Wolfsburg",
            "FSV Mainz 05",
            "Alemannia Aachen",
            "Borussia Mönchengladbach"
           ],
           "legendgroup": "bundesliga",
           "marker": {
            "color": "red",
            "symbol": "circle"
           },
           "mode": "markers",
           "name": "bundesliga",
           "orientation": "v",
           "showlegend": true,
           "type": "scatter",
           "x": [
            24.794118,
            24.6,
            23.333333,
            25.571429,
            23.8,
            23.741935,
            24.75,
            25.4,
            23.35,
            23.230769,
            24.791667,
            24.681818,
            25.083333,
            24.941176,
            25.136364,
            25,
            26.285714,
            25.454545
           ],
           "xaxis": "x",
           "y": [
            1,
            2,
            3,
            4,
            5,
            6,
            7,
            8,
            9,
            10,
            11,
            12,
            13,
            14,
            15,
            16,
            17,
            18
           ],
           "yaxis": "y"
          }
         ],
         "name": "2006-07"
        },
        {
         "data": [
          {
           "hovertemplate": "<b>%{hovertext}</b><br><br>league=liga<br>Years=2007-08<br>Age=%{x}<br>Rk=%{y}<extra></extra>",
           "hovertext": [
            "Real Madrid",
            "Villarreal CF",
            "FC Barcelona",
            "Atlético de Madrid",
            "Sevilla FC",
            "Racing Santander",
            "RCD Mallorca",
            "UD Almería",
            "Deportivo de La Coruña",
            "Valencia CF",
            "Athletic Bilbao",
            "RCD Espanyol Barcelona",
            "Real Betis Balompié",
            "Getafe CF",
            "Real Valladolid CF",
            "Recreativo Huelva",
            "CA Osasuna",
            "Real Zaragoza",
            "Real Murcia CF",
            "Levante UD"
           ],
           "ids": [
            "Real Madrid",
            "Villarreal CF",
            "FC Barcelona",
            "Atlético de Madrid",
            "Sevilla FC",
            "Racing Santander",
            "RCD Mallorca",
            "UD Almería",
            "Deportivo de La Coruña",
            "Valencia CF",
            "Athletic Bilbao",
            "RCD Espanyol Barcelona",
            "Real Betis Balompié",
            "Getafe CF",
            "Real Valladolid CF",
            "Recreativo Huelva",
            "CA Osasuna",
            "Real Zaragoza",
            "Real Murcia CF",
            "Levante UD"
           ],
           "legendgroup": "liga",
           "marker": {
            "color": "gold",
            "symbol": "circle"
           },
           "mode": "markers",
           "name": "liga",
           "orientation": "v",
           "showlegend": true,
           "type": "scatter",
           "x": [
            24.973684,
            24.043478,
            24.166667,
            24.029412,
            25.371429,
            23.871795,
            24.416667,
            25.774194,
            23.642857,
            23.906977,
            26.6,
            25.04,
            27.192308,
            23.68,
            25.4,
            26.25641,
            23.53125,
            25.903226,
            26.771429,
            28.377778
           ],
           "xaxis": "x",
           "y": [
            1,
            2,
            3,
            4,
            5,
            6,
            7,
            8,
            9,
            10,
            11,
            12,
            13,
            14,
            15,
            16,
            17,
            18,
            19,
            20
           ],
           "yaxis": "y"
          },
          {
           "hovertemplate": "<b>%{hovertext}</b><br><br>league=PL<br>Years=2007-08<br>Age=%{x}<br>Rk=%{y}<extra></extra>",
           "hovertext": [
            "Manchester United",
            "Chelsea FC FC",
            "Arsenal FC",
            "Liverpool FC",
            "Everton FC",
            "Aston Villa",
            "Blackburn Rovers",
            "Portsmouth FC",
            "Manchester City",
            "West Ham United",
            "Tottenham Hotspur",
            "Newcastle United",
            "Middlesbrough",
            "Wigan Athletic",
            "Sunderland AFC",
            "Bolton Wanderers",
            "Fulham FC",
            "Reading FC",
            "Birmingham City",
            "Derby County"
           ],
           "ids": [
            "Manchester United",
            "Chelsea FC FC",
            "Arsenal FC",
            "Liverpool FC",
            "Everton FC",
            "Aston Villa",
            "Blackburn Rovers",
            "Portsmouth FC",
            "Manchester City",
            "West Ham United",
            "Tottenham Hotspur",
            "Newcastle United",
            "Middlesbrough",
            "Wigan Athletic",
            "Sunderland AFC",
            "Bolton Wanderers",
            "Fulham FC",
            "Reading FC",
            "Birmingham City",
            "Derby County"
           ],
           "legendgroup": "PL",
           "marker": {
            "color": "blue",
            "symbol": "circle"
           },
           "mode": "markers",
           "name": "PL",
           "orientation": "v",
           "showlegend": true,
           "type": "scatter",
           "x": [
            21.553191,
            21.388889,
            20.828571,
            21.563636,
            24.4375,
            23.814815,
            22.081081,
            23.173077,
            23.666667,
            24.925,
            21.75,
            24.972222,
            23,
            25.891304,
            25.886792,
            24.208333,
            25.878788,
            20.826667,
            22.241379,
            26.413793
           ],
           "xaxis": "x",
           "y": [
            1,
            2,
            3,
            4,
            5,
            6,
            7,
            8,
            9,
            10,
            11,
            12,
            13,
            14,
            15,
            16,
            17,
            18,
            19,
            20
           ],
           "yaxis": "y"
          },
          {
           "hovertemplate": "<b>%{hovertext}</b><br><br>league=serieA<br>Years=2007-08<br>Age=%{x}<br>Rk=%{y}<extra></extra>",
           "hovertext": [
            "Inter Milan",
            "AS Roma",
            "Juventus FC",
            "ACF Fiorentina",
            "AC Milan",
            "UC Sampdoria",
            "Udinese Calcio",
            "SSC Napoli",
            "Atalanta BC",
            "Genoa CFC",
            "US Palermo",
            "SS Lazio",
            "AC Siena",
            "Cagliari Calcio",
            "Torino FC",
            "Reggina Calcio",
            "Calcio Catania",
            "Empoli FC",
            "Parma FC",
            "AS Livorno"
           ],
           "ids": [
            "Inter Milan",
            "AS Roma",
            "Juventus FC",
            "ACF Fiorentina",
            "AC Milan",
            "UC Sampdoria",
            "Udinese Calcio",
            "SSC Napoli",
            "Atalanta BC",
            "Genoa CFC",
            "US Palermo",
            "SS Lazio",
            "AC Siena",
            "Cagliari Calcio",
            "Torino FC",
            "Reggina Calcio",
            "Calcio Catania",
            "Empoli FC",
            "Parma FC",
            "AS Livorno"
           ],
           "legendgroup": "serieA",
           "marker": {
            "color": "green",
            "symbol": "circle"
           },
           "mode": "markers",
           "name": "serieA",
           "orientation": "v",
           "showlegend": true,
           "type": "scatter",
           "x": [
            22.133333,
            23.421053,
            23.62069,
            22,
            24.034483,
            23.891304,
            22.470588,
            23.9375,
            24.958333,
            24.294118,
            24.147059,
            24.709677,
            24.054545,
            24.826087,
            27.853659,
            23.48,
            25.4,
            22.904762,
            24.326531,
            27.382353
           ],
           "xaxis": "x",
           "y": [
            1,
            2,
            3,
            4,
            5,
            6,
            7,
            8,
            9,
            10,
            11,
            12,
            13,
            14,
            15,
            16,
            17,
            18,
            19,
            20
           ],
           "yaxis": "y"
          },
          {
           "hovertemplate": "<b>%{hovertext}</b><br><br>league=ligue1<br>Years=2007-08<br>Age=%{x}<br>Rk=%{y}<extra></extra>",
           "hovertext": [
            "Olympique Lyon",
            "FC Girondins Bordeaux",
            "Olympique Marseille",
            "Nancy-Lorraine",
            "Saint-Etienne",
            "Stade Rennais",
            "LOSC Lille",
            "OGC Nice",
            "Le Mans Union Club 72",
            "Lorient",
            "SM Caen",
            "AS Monaco",
            "Valenciennes",
            "FC Sochaux-Montbéliard",
            "Auxerre",
            "Paris Saint-Germain",
            "Toulouse",
            "RC Lens",
            "RC Strasbourg Alsace",
            "FC Metz"
           ],
           "ids": [
            "Olympique Lyon",
            "FC Girondins Bordeaux",
            "Olympique Marseille",
            "Nancy-Lorraine",
            "Saint-Etienne",
            "Stade Rennais",
            "LOSC Lille",
            "OGC Nice",
            "Le Mans Union Club 72",
            "Lorient",
            "SM Caen",
            "AS Monaco",
            "Valenciennes",
            "FC Sochaux-Montbéliard",
            "Auxerre",
            "Paris Saint-Germain",
            "Toulouse",
            "RC Lens",
            "RC Strasbourg Alsace",
            "FC Metz"
           ],
           "legendgroup": "ligue1",
           "marker": {
            "color": "black",
            "symbol": "circle"
           },
           "mode": "markers",
           "name": "ligue1",
           "orientation": "v",
           "showlegend": true,
           "type": "scatter",
           "x": [
            24.212121,
            22.969697,
            23.773585,
            23.3125,
            24.333333,
            25.457143,
            23.297297,
            24.571429,
            23.111111,
            23.75,
            24.833333,
            23.487805,
            27.842105,
            23.513514,
            24.40625,
            23.1,
            22.137931,
            24.756098,
            23.642857,
            23.314286
           ],
           "xaxis": "x",
           "y": [
            1,
            2,
            3,
            4,
            5,
            6,
            7,
            8,
            9,
            10,
            11,
            12,
            13,
            14,
            15,
            16,
            17,
            18,
            19,
            20
           ],
           "yaxis": "y"
          },
          {
           "hovertemplate": "<b>%{hovertext}</b><br><br>league=bundesliga<br>Years=2007-08<br>Age=%{x}<br>Rk=%{y}<extra></extra>",
           "hovertext": [
            "Bayern Munich",
            "SV Werder Bremen",
            "Schalke 04",
            "Hamburger SV",
            "VfL Wolfsburg",
            "VfB Stuttgart",
            "Bayer 04 Leverkusen",
            "Hannover 96",
            "Eintracht Frankfurt",
            "Hertha BSC",
            "Karlsruher",
            "VfL Bochum",
            "Borussia Dortmund",
            "FC Energie Cottbus",
            "Arminia Bielefeld",
            "Nuremberg",
            "Hansa Rostock",
            "MSV Duisburg"
           ],
           "ids": [
            "Bayern Munich",
            "SV Werder Bremen",
            "Schalke 04",
            "Hamburger SV",
            "VfL Wolfsburg",
            "VfB Stuttgart",
            "Bayer 04 Leverkusen",
            "Hannover 96",
            "Eintracht Frankfurt",
            "Hertha BSC",
            "Karlsruher",
            "VfL Bochum",
            "Borussia Dortmund",
            "FC Energie Cottbus",
            "Arminia Bielefeld",
            "Nuremberg",
            "Hansa Rostock",
            "MSV Duisburg"
           ],
           "legendgroup": "bundesliga",
           "marker": {
            "color": "red",
            "symbol": "circle"
           },
           "mode": "markers",
           "name": "bundesliga",
           "orientation": "v",
           "showlegend": true,
           "type": "scatter",
           "x": [
            25.44,
            22.5,
            24.2,
            22.551724,
            25.125,
            25.333333,
            24.826087,
            24.44,
            25.3125,
            23.833333,
            24.941176,
            26.323529,
            26.142857,
            25.1875,
            25.666667,
            26.37037,
            25.217391,
            27.060606
           ],
           "xaxis": "x",
           "y": [
            1,
            2,
            3,
            4,
            5,
            6,
            7,
            8,
            9,
            10,
            11,
            12,
            13,
            14,
            15,
            16,
            17,
            18
           ],
           "yaxis": "y"
          }
         ],
         "name": "2007-08"
        },
        {
         "data": [
          {
           "hovertemplate": "<b>%{hovertext}</b><br><br>league=liga<br>Years=2008-09<br>Age=%{x}<br>Rk=%{y}<extra></extra>",
           "hovertext": [
            "FC Barcelona",
            "Real Madrid",
            "Sevilla FC",
            "Atlético de Madrid",
            "Villarreal CF",
            "Valencia CF",
            "Deportivo de La Coruña",
            "Málaga CF",
            "RCD Mallorca",
            "RCD Espanyol Barcelona",
            "UD Almería",
            "Racing Santander",
            "Athletic Bilbao",
            "Sporting Gijón",
            "CA Osasuna",
            "Real Valladolid CF",
            "Getafe CF",
            "Real Betis Balompié",
            "CD Numancia",
            "Recreativo Huelva"
           ],
           "ids": [
            "FC Barcelona",
            "Real Madrid",
            "Sevilla FC",
            "Atlético de Madrid",
            "Villarreal CF",
            "Valencia CF",
            "Deportivo de La Coruña",
            "Málaga CF",
            "RCD Mallorca",
            "RCD Espanyol Barcelona",
            "UD Almería",
            "Racing Santander",
            "Athletic Bilbao",
            "Sporting Gijón",
            "CA Osasuna",
            "Real Valladolid CF",
            "Getafe CF",
            "Real Betis Balompié",
            "CD Numancia",
            "Recreativo Huelva"
           ],
           "legendgroup": "liga",
           "marker": {
            "color": "gold",
            "symbol": "circle"
           },
           "mode": "markers",
           "name": "liga",
           "orientation": "v",
           "showlegend": true,
           "type": "scatter",
           "x": [
            25.714286,
            23.217391,
            25.6,
            24.206897,
            23.823529,
            24.488372,
            24.285714,
            26.935484,
            25.675676,
            25,
            25.608696,
            24.057143,
            26.909091,
            24.833333,
            24.178571,
            25.423077,
            24.5,
            27.259259,
            26.52,
            24.633333
           ],
           "xaxis": "x",
           "y": [
            1,
            2,
            3,
            4,
            5,
            6,
            7,
            8,
            9,
            10,
            11,
            12,
            13,
            14,
            15,
            16,
            17,
            18,
            19,
            20
           ],
           "yaxis": "y"
          },
          {
           "hovertemplate": "<b>%{hovertext}</b><br><br>league=PL<br>Years=2008-09<br>Age=%{x}<br>Rk=%{y}<extra></extra>",
           "hovertext": [
            "Manchester United",
            "Liverpool FC",
            "Chelsea FC FC",
            "Arsenal FC",
            "Everton FC",
            "Aston Villa",
            "Fulham FC",
            "Tottenham Hotspur",
            "West Ham United",
            "Manchester City",
            "Wigan Athletic",
            "Stoke City",
            "Bolton Wanderers",
            "Portsmouth FC",
            "Blackburn Rovers",
            "Sunderland AFC",
            "Hull City",
            "Newcastle United",
            "Middlesbrough",
            "West Bromwich Albion"
           ],
           "ids": [
            "Manchester United",
            "Liverpool FC",
            "Chelsea FC FC",
            "Arsenal FC",
            "Everton FC",
            "Aston Villa",
            "Fulham FC",
            "Tottenham Hotspur",
            "West Ham United",
            "Manchester City",
            "Wigan Athletic",
            "Stoke City",
            "Bolton Wanderers",
            "Portsmouth FC",
            "Blackburn Rovers",
            "Sunderland AFC",
            "Hull City",
            "Newcastle United",
            "Middlesbrough",
            "West Bromwich Albion"
           ],
           "legendgroup": "PL",
           "marker": {
            "color": "blue",
            "symbol": "circle"
           },
           "mode": "markers",
           "name": "PL",
           "orientation": "v",
           "showlegend": true,
           "type": "scatter",
           "x": [
            21.289474,
            21.561404,
            24.25,
            21.285714,
            23.625,
            24.676471,
            25.455882,
            22.458333,
            24.25,
            23.454545,
            24.163265,
            23.647059,
            25.3,
            22.886792,
            22.960784,
            24.544118,
            27.75,
            22.216216,
            22.416667,
            23.878049
           ],
           "xaxis": "x",
           "y": [
            1,
            2,
            3,
            4,
            5,
            6,
            7,
            8,
            9,
            10,
            11,
            12,
            13,
            14,
            15,
            16,
            17,
            18,
            19,
            20
           ],
           "yaxis": "y"
          },
          {
           "hovertemplate": "<b>%{hovertext}</b><br><br>league=serieA<br>Years=2008-09<br>Age=%{x}<br>Rk=%{y}<extra></extra>",
           "hovertext": [
            "Inter Milan",
            "Juventus FC",
            "AC Milan",
            "ACF Fiorentina",
            "Genoa CFC",
            "AS Roma",
            "Udinese Calcio",
            "US Palermo",
            "Cagliari Calcio",
            "SS Lazio",
            "Atalanta BC",
            "SSC Napoli",
            "UC Sampdoria",
            "AC Siena",
            "Calcio Catania",
            "Chievo Verona",
            "Bologna FC 1909",
            "Torino FC",
            "Reggina Calcio",
            "US Lecce"
           ],
           "ids": [
            "Inter Milan",
            "Juventus FC",
            "AC Milan",
            "ACF Fiorentina",
            "Genoa CFC",
            "AS Roma",
            "Udinese Calcio",
            "US Palermo",
            "Cagliari Calcio",
            "SS Lazio",
            "Atalanta BC",
            "SSC Napoli",
            "UC Sampdoria",
            "AC Siena",
            "Calcio Catania",
            "Chievo Verona",
            "Bologna FC 1909",
            "Torino FC",
            "Reggina Calcio",
            "US Lecce"
           ],
           "legendgroup": "serieA",
           "marker": {
            "color": "green",
            "symbol": "circle"
           },
           "mode": "markers",
           "name": "serieA",
           "orientation": "v",
           "showlegend": true,
           "type": "scatter",
           "x": [
            22.76087,
            22.612245,
            25.076923,
            23.486486,
            23.013699,
            21.696429,
            22.932432,
            23.25,
            23.482759,
            24.794872,
            23.520833,
            25.896552,
            22.389831,
            23.7,
            24.552632,
            24.54,
            25.633333,
            26.363636,
            23.77551,
            23.186047
           ],
           "xaxis": "x",
           "y": [
            1,
            2,
            3,
            4,
            5,
            6,
            7,
            8,
            9,
            10,
            11,
            12,
            13,
            14,
            15,
            16,
            17,
            18,
            19,
            20
           ],
           "yaxis": "y"
          },
          {
           "hovertemplate": "<b>%{hovertext}</b><br><br>league=ligue1<br>Years=2008-09<br>Age=%{x}<br>Rk=%{y}<extra></extra>",
           "hovertext": [
            "FC Girondins Bordeaux",
            "Olympique Marseille",
            "Olympique Lyon",
            "Toulouse",
            "LOSC Lille",
            "Paris Saint-Germain",
            "Stade Rennais",
            "Auxerre",
            "OGC Nice",
            "Lorient",
            "AS Monaco",
            "Valenciennes",
            "Grenoble Foot 38",
            "FC Sochaux-Montbéliard",
            "Nancy-Lorraine",
            "Le Mans Union Club 72",
            "Saint-Etienne",
            "SM Caen",
            "FC Nantes",
            "Le Havre"
           ],
           "ids": [
            "FC Girondins Bordeaux",
            "Olympique Marseille",
            "Olympique Lyon",
            "Toulouse",
            "LOSC Lille",
            "Paris Saint-Germain",
            "Stade Rennais",
            "Auxerre",
            "OGC Nice",
            "Lorient",
            "AS Monaco",
            "Valenciennes",
            "Grenoble Foot 38",
            "FC Sochaux-Montbéliard",
            "Nancy-Lorraine",
            "Le Mans Union Club 72",
            "Saint-Etienne",
            "SM Caen",
            "FC Nantes",
            "Le Havre"
           ],
           "legendgroup": "ligue1",
           "marker": {
            "color": "black",
            "symbol": "circle"
           },
           "mode": "markers",
           "name": "ligue1",
           "orientation": "v",
           "showlegend": true,
           "type": "scatter",
           "x": [
            21.884615,
            24.28,
            25.068966,
            25.078947,
            23.166667,
            24.451613,
            23.166667,
            23.333333,
            24.25,
            23.517241,
            22.934783,
            26,
            24.608696,
            23.888889,
            24.241379,
            22.857143,
            23.806452,
            23.375,
            25.157895,
            23.783784
           ],
           "xaxis": "x",
           "y": [
            1,
            2,
            3,
            4,
            5,
            6,
            7,
            8,
            9,
            10,
            11,
            12,
            13,
            14,
            15,
            16,
            17,
            18,
            19,
            20
           ],
           "yaxis": "y"
          },
          {
           "hovertemplate": "<b>%{hovertext}</b><br><br>league=bundesliga<br>Years=2008-09<br>Age=%{x}<br>Rk=%{y}<extra></extra>",
           "hovertext": [
            "VfL Wolfsburg",
            "Bayern Munich",
            "VfB Stuttgart",
            "Hertha BSC",
            "Hamburger SV",
            "Borussia Dortmund",
            "TSG 1899 Hoffenheim",
            "Schalke 04",
            "Bayer 04 Leverkusen",
            "SV Werder Bremen",
            "Hannover 96",
            "FC FC Köln",
            "Eintracht Frankfurt",
            "VfL Bochum",
            "Borussia Mönchengladbach",
            "FC Energie Cottbus",
            "Karlsruher",
            "Arminia Bielefeld"
           ],
           "ids": [
            "VfL Wolfsburg",
            "Bayern Munich",
            "VfB Stuttgart",
            "Hertha BSC",
            "Hamburger SV",
            "Borussia Dortmund",
            "TSG 1899 Hoffenheim",
            "Schalke 04",
            "Bayer 04 Leverkusen",
            "SV Werder Bremen",
            "Hannover 96",
            "FC FC Köln",
            "Eintracht Frankfurt",
            "VfL Bochum",
            "Borussia Mönchengladbach",
            "FC Energie Cottbus",
            "Karlsruher",
            "Arminia Bielefeld"
           ],
           "legendgroup": "bundesliga",
           "marker": {
            "color": "red",
            "symbol": "circle"
           },
           "mode": "markers",
           "name": "bundesliga",
           "orientation": "v",
           "showlegend": true,
           "type": "scatter",
           "x": [
            26.073171,
            26.444444,
            24.392857,
            23,
            23.275862,
            25.5,
            24.5,
            24,
            23.785714,
            22.842105,
            26.380952,
            24.653846,
            24.785714,
            26.272727,
            26.166667,
            23.83871,
            25.636364,
            26.096774
           ],
           "xaxis": "x",
           "y": [
            1,
            2,
            3,
            4,
            5,
            6,
            7,
            8,
            9,
            10,
            11,
            12,
            13,
            14,
            15,
            16,
            17,
            18
           ],
           "yaxis": "y"
          }
         ],
         "name": "2008-09"
        },
        {
         "data": [
          {
           "hovertemplate": "<b>%{hovertext}</b><br><br>league=liga<br>Years=2009-10<br>Age=%{x}<br>Rk=%{y}<extra></extra>",
           "hovertext": [
            "FC Barcelona",
            "Real Madrid",
            "Valencia CF",
            "Sevilla FC",
            "RCD Mallorca",
            "Getafe CF",
            "Villarreal CF",
            "Athletic Bilbao",
            "Atlético de Madrid",
            "Deportivo de La Coruña",
            "RCD Espanyol Barcelona",
            "CA Osasuna",
            "UD Almería",
            "Real Zaragoza",
            "Sporting Gijón",
            "Racing Santander",
            "Málaga CF",
            "Real Valladolid CF",
            "CD Tenerife",
            "Xerez CD"
           ],
           "ids": [
            "FC Barcelona",
            "Real Madrid",
            "Valencia CF",
            "Sevilla FC",
            "RCD Mallorca",
            "Getafe CF",
            "Villarreal CF",
            "Athletic Bilbao",
            "Atlético de Madrid",
            "Deportivo de La Coruña",
            "RCD Espanyol Barcelona",
            "CA Osasuna",
            "UD Almería",
            "Real Zaragoza",
            "Sporting Gijón",
            "Racing Santander",
            "Málaga CF",
            "Real Valladolid CF",
            "CD Tenerife",
            "Xerez CD"
           ],
           "legendgroup": "liga",
           "marker": {
            "color": "gold",
            "symbol": "circle"
           },
           "mode": "markers",
           "name": "liga",
           "orientation": "v",
           "showlegend": true,
           "type": "scatter",
           "x": [
            24.333333,
            25.5,
            24.823529,
            26.428571,
            24.344828,
            25.791667,
            24.653846,
            25.611111,
            24.733333,
            25.692308,
            24.285714,
            24.88,
            25.157895,
            26.722222,
            25.631579,
            23.871795,
            25.804878,
            24.789474,
            24.428571,
            24.222222
           ],
           "xaxis": "x",
           "y": [
            1,
            2,
            3,
            4,
            5,
            6,
            7,
            8,
            9,
            10,
            11,
            12,
            13,
            14,
            15,
            16,
            17,
            18,
            19,
            20
           ],
           "yaxis": "y"
          },
          {
           "hovertemplate": "<b>%{hovertext}</b><br><br>league=PL<br>Years=2009-10<br>Age=%{x}<br>Rk=%{y}<extra></extra>",
           "hovertext": [
            "Chelsea FC FC",
            "Manchester United",
            "Arsenal FC",
            "Tottenham Hotspur",
            "Manchester City",
            "Aston Villa",
            "Liverpool FC",
            "Everton FC",
            "Birmingham City",
            "Blackburn Rovers",
            "Stoke City",
            "Fulham FC",
            "Sunderland AFC",
            "Bolton Wanderers",
            "Wolverhampton Wanderers",
            "Wigan Athletic",
            "West Ham United",
            "Burnley FC",
            "Hull City",
            "Portsmouth FC"
           ],
           "ids": [
            "Chelsea FC FC",
            "Manchester United",
            "Arsenal FC",
            "Tottenham Hotspur",
            "Manchester City",
            "Aston Villa",
            "Liverpool FC",
            "Everton FC",
            "Birmingham City",
            "Blackburn Rovers",
            "Stoke City",
            "Fulham FC",
            "Sunderland AFC",
            "Bolton Wanderers",
            "Wolverhampton Wanderers",
            "Wigan Athletic",
            "West Ham United",
            "Burnley FC",
            "Hull City",
            "Portsmouth FC"
           ],
           "legendgroup": "PL",
           "marker": {
            "color": "blue",
            "symbol": "circle"
           },
           "mode": "markers",
           "name": "PL",
           "orientation": "v",
           "showlegend": true,
           "type": "scatter",
           "x": [
            22.178571,
            21.219512,
            21.074074,
            21.378788,
            24.22,
            24.081081,
            22.543478,
            23.935484,
            23.851852,
            22.635135,
            23.916667,
            24.215686,
            25.25,
            22.205128,
            23,
            24.75,
            24.24,
            22.115385,
            24.377778,
            24.268657
           ],
           "xaxis": "x",
           "y": [
            1,
            2,
            3,
            4,
            5,
            6,
            7,
            8,
            9,
            10,
            11,
            12,
            13,
            14,
            15,
            16,
            17,
            18,
            19,
            20
           ],
           "yaxis": "y"
          },
          {
           "hovertemplate": "<b>%{hovertext}</b><br><br>league=serieA<br>Years=2009-10<br>Age=%{x}<br>Rk=%{y}<extra></extra>",
           "hovertext": [
            "Inter Milan",
            "AS Roma",
            "AC Milan",
            "UC Sampdoria",
            "US Palermo",
            "SSC Napoli",
            "Juventus FC",
            "Parma FC",
            "Genoa CFC",
            "AS Bari",
            "ACF Fiorentina",
            "SS Lazio",
            "Calcio Catania",
            "Chievo Verona",
            "Udinese Calcio",
            "Cagliari Calcio",
            "Bologna FC 1909",
            "Atalanta BC",
            "AC Siena",
            "AS Livorno"
           ],
           "ids": [
            "Inter Milan",
            "AS Roma",
            "AC Milan",
            "UC Sampdoria",
            "US Palermo",
            "SSC Napoli",
            "Juventus FC",
            "Parma FC",
            "Genoa CFC",
            "AS Bari",
            "ACF Fiorentina",
            "SS Lazio",
            "Calcio Catania",
            "Chievo Verona",
            "Udinese Calcio",
            "Cagliari Calcio",
            "Bologna FC 1909",
            "Atalanta BC",
            "AC Siena",
            "AS Livorno"
           ],
           "legendgroup": "serieA",
           "marker": {
            "color": "green",
            "symbol": "circle"
           },
           "mode": "markers",
           "name": "serieA",
           "orientation": "v",
           "showlegend": true,
           "type": "scatter",
           "x": [
            23.590164,
            23.651163,
            24.588235,
            23.846154,
            23.08,
            25.40625,
            23.325,
            24.027027,
            22.977778,
            24.264706,
            23.291667,
            23.820513,
            25.241379,
            24.491525,
            22.644737,
            23.04,
            27.545455,
            23.612245,
            23.907692,
            24.844444
           ],
           "xaxis": "x",
           "y": [
            1,
            2,
            3,
            4,
            5,
            6,
            7,
            8,
            9,
            10,
            11,
            12,
            13,
            14,
            15,
            16,
            17,
            18,
            19,
            20
           ],
           "yaxis": "y"
          },
          {
           "hovertemplate": "<b>%{hovertext}</b><br><br>league=ligue1<br>Years=2009-10<br>Age=%{x}<br>Rk=%{y}<extra></extra>",
           "hovertext": [
            "Olympique Marseille",
            "Olympique Lyon",
            "Auxerre",
            "LOSC Lille",
            "Montpellier",
            "FC Girondins Bordeaux",
            "Lorient",
            "AS Monaco",
            "Stade Rennais",
            "Valenciennes",
            "RC Lens",
            "Nancy-Lorraine",
            "Paris Saint-Germain",
            "Toulouse",
            "OGC Nice",
            "FC Sochaux-Montbéliard",
            "Saint-Etienne",
            "Le Mans Union Club 72",
            "Boulogne",
            "Grenoble Foot 38"
           ],
           "ids": [
            "Olympique Marseille",
            "Olympique Lyon",
            "Auxerre",
            "LOSC Lille",
            "Montpellier",
            "FC Girondins Bordeaux",
            "Lorient",
            "AS Monaco",
            "Stade Rennais",
            "Valenciennes",
            "RC Lens",
            "Nancy-Lorraine",
            "Paris Saint-Germain",
            "Toulouse",
            "OGC Nice",
            "FC Sochaux-Montbéliard",
            "Saint-Etienne",
            "Le Mans Union Club 72",
            "Boulogne",
            "Grenoble Foot 38"
           ],
           "legendgroup": "ligue1",
           "marker": {
            "color": "black",
            "symbol": "circle"
           },
           "mode": "markers",
           "name": "ligue1",
           "orientation": "v",
           "showlegend": true,
           "type": "scatter",
           "x": [
            24.395833,
            22.538462,
            22.814815,
            24.225806,
            25.055556,
            21.655172,
            25.277778,
            24.384615,
            22.820513,
            26.863636,
            22.884615,
            23.785714,
            25.78125,
            25.043478,
            26.391304,
            24.970588,
            24.576923,
            22.9,
            24.733333,
            26.482759
           ],
           "xaxis": "x",
           "y": [
            1,
            2,
            3,
            4,
            5,
            6,
            7,
            8,
            9,
            10,
            11,
            12,
            13,
            14,
            15,
            16,
            17,
            18,
            19,
            20
           ],
           "yaxis": "y"
          },
          {
           "hovertemplate": "<b>%{hovertext}</b><br><br>league=bundesliga<br>Years=2009-10<br>Age=%{x}<br>Rk=%{y}<extra></extra>",
           "hovertext": [
            "Bayern Munich",
            "Schalke 04",
            "SV Werder Bremen",
            "Bayer 04 Leverkusen",
            "Borussia Dortmund",
            "VfB Stuttgart",
            "Hamburger SV",
            "VfL Wolfsburg",
            "FSV Mainz 05",
            "Eintracht Frankfurt",
            "TSG 1899 Hoffenheim",
            "Borussia Mönchengladbach",
            "FC FC Köln",
            "SC Freiburg",
            "Hannover 96",
            "Nuremberg",
            "VfL Bochum",
            "Hertha BSC"
           ],
           "ids": [
            "Bayern Munich",
            "Schalke 04",
            "SV Werder Bremen",
            "Bayer 04 Leverkusen",
            "Borussia Dortmund",
            "VfB Stuttgart",
            "Hamburger SV",
            "VfL Wolfsburg",
            "FSV Mainz 05",
            "Eintracht Frankfurt",
            "TSG 1899 Hoffenheim",
            "Borussia Mönchengladbach",
            "FC FC Köln",
            "SC Freiburg",
            "Hannover 96",
            "Nuremberg",
            "VfL Bochum",
            "Hertha BSC"
           ],
           "legendgroup": "bundesliga",
           "marker": {
            "color": "red",
            "symbol": "circle"
           },
           "mode": "markers",
           "name": "bundesliga",
           "orientation": "v",
           "showlegend": true,
           "type": "scatter",
           "x": [
            25,
            23.242424,
            23.1875,
            23.7,
            23.772727,
            23.75,
            24.083333,
            26.172414,
            25.8,
            23.26087,
            22.15,
            25.272727,
            23.9,
            23.136364,
            26.315789,
            23.166667,
            25.761905,
            26.064516
           ],
           "xaxis": "x",
           "y": [
            1,
            2,
            3,
            4,
            5,
            6,
            7,
            8,
            9,
            10,
            11,
            12,
            13,
            14,
            15,
            16,
            17,
            18
           ],
           "yaxis": "y"
          }
         ],
         "name": "2009-10"
        },
        {
         "data": [
          {
           "hovertemplate": "<b>%{hovertext}</b><br><br>league=liga<br>Years=2010-11<br>Age=%{x}<br>Rk=%{y}<extra></extra>",
           "hovertext": [
            "FC Barcelona",
            "Real Madrid",
            "Valencia CF",
            "Villarreal CF",
            "Sevilla FC",
            "Athletic Bilbao",
            "Atlético de Madrid",
            "RCD Espanyol Barcelona",
            "CA Osasuna",
            "Sporting Gijón",
            "Málaga CF",
            "Racing Santander",
            "Real Zaragoza",
            "Levante UD",
            "Real Sociedad",
            "Getafe CF",
            "RCD Mallorca",
            "Deportivo de La Coruña",
            "Hércules CF",
            "UD Almería"
           ],
           "ids": [
            "FC Barcelona",
            "Real Madrid",
            "Valencia CF",
            "Villarreal CF",
            "Sevilla FC",
            "Athletic Bilbao",
            "Atlético de Madrid",
            "RCD Espanyol Barcelona",
            "CA Osasuna",
            "Sporting Gijón",
            "Málaga CF",
            "Racing Santander",
            "Real Zaragoza",
            "Levante UD",
            "Real Sociedad",
            "Getafe CF",
            "RCD Mallorca",
            "Deportivo de La Coruña",
            "Hércules CF",
            "UD Almería"
           ],
           "legendgroup": "liga",
           "marker": {
            "color": "gold",
            "symbol": "circle"
           },
           "mode": "markers",
           "name": "liga",
           "orientation": "v",
           "showlegend": true,
           "type": "scatter",
           "x": [
            25.277778,
            26.153846,
            25.5625,
            25.25,
            24.78125,
            25.047619,
            23.681818,
            24.918919,
            25.227273,
            25.833333,
            24.851064,
            24.774194,
            26.235294,
            27.214286,
            24.842105,
            26.05,
            24.621622,
            26.033333,
            26.833333,
            24.115385
           ],
           "xaxis": "x",
           "y": [
            1,
            2,
            3,
            4,
            5,
            6,
            7,
            8,
            9,
            10,
            11,
            12,
            13,
            14,
            15,
            16,
            17,
            18,
            19,
            20
           ],
           "yaxis": "y"
          },
          {
           "hovertemplate": "<b>%{hovertext}</b><br><br>league=PL<br>Years=2010-11<br>Age=%{x}<br>Rk=%{y}<extra></extra>",
           "hovertext": [
            "Manchester United",
            "Chelsea FC FC",
            "Manchester City",
            "Arsenal FC",
            "Tottenham Hotspur",
            "Liverpool FC",
            "Everton FC",
            "Fulham FC",
            "Aston Villa",
            "Sunderland AFC",
            "West Bromwich Albion",
            "Newcastle United",
            "Stoke City",
            "Bolton Wanderers",
            "Blackburn Rovers",
            "Wigan Athletic",
            "Wolverhampton Wanderers",
            "Birmingham City",
            "Blackpool",
            "West Ham United"
           ],
           "ids": [
            "Manchester United",
            "Chelsea FC FC",
            "Manchester City",
            "Arsenal FC",
            "Tottenham Hotspur",
            "Liverpool FC",
            "Everton FC",
            "Fulham FC",
            "Aston Villa",
            "Sunderland AFC",
            "West Bromwich Albion",
            "Newcastle United",
            "Stoke City",
            "Bolton Wanderers",
            "Blackburn Rovers",
            "Wigan Athletic",
            "Wolverhampton Wanderers",
            "Birmingham City",
            "Blackpool",
            "West Ham United"
           ],
           "legendgroup": "PL",
           "marker": {
            "color": "blue",
            "symbol": "circle"
           },
           "mode": "markers",
           "name": "PL",
           "orientation": "v",
           "showlegend": true,
           "type": "scatter",
           "x": [
            21.045455,
            21.725,
            23.084746,
            22.238095,
            21.422535,
            23.571429,
            23.346154,
            24.842105,
            23.9,
            24.096774,
            24,
            23.142857,
            25.595745,
            24.027778,
            23.017241,
            24.636364,
            22.928571,
            24.466667,
            24.62,
            24.459459
           ],
           "xaxis": "x",
           "y": [
            1,
            2,
            3,
            4,
            5,
            6,
            7,
            8,
            9,
            10,
            11,
            12,
            13,
            14,
            15,
            16,
            17,
            18,
            19,
            20
           ],
           "yaxis": "y"
          },
          {
           "hovertemplate": "<b>%{hovertext}</b><br><br>league=serieA<br>Years=2010-11<br>Age=%{x}<br>Rk=%{y}<extra></extra>",
           "hovertext": [
            "AC Milan",
            "Inter Milan",
            "SSC Napoli",
            "Udinese Calcio",
            "SS Lazio",
            "AS Roma",
            "Juventus FC",
            "US Palermo",
            "ACF Fiorentina",
            "Genoa CFC",
            "Chievo Verona",
            "Parma FC",
            "Calcio Catania",
            "Cagliari Calcio",
            "AC Cesena",
            "Bologna FC 1909",
            "US Lecce",
            "UC Sampdoria",
            "Brescia Calcio",
            "AS Bari"
           ],
           "ids": [
            "AC Milan",
            "Inter Milan",
            "SSC Napoli",
            "Udinese Calcio",
            "SS Lazio",
            "AS Roma",
            "Juventus FC",
            "US Palermo",
            "ACF Fiorentina",
            "Genoa CFC",
            "Chievo Verona",
            "Parma FC",
            "Calcio Catania",
            "Cagliari Calcio",
            "AC Cesena",
            "Bologna FC 1909",
            "US Lecce",
            "UC Sampdoria",
            "Brescia Calcio",
            "AS Bari"
           ],
           "legendgroup": "serieA",
           "marker": {
            "color": "green",
            "symbol": "circle"
           },
           "mode": "markers",
           "name": "serieA",
           "orientation": "v",
           "showlegend": true,
           "type": "scatter",
           "x": [
            24.305085,
            22.45098,
            25.027027,
            22.662162,
            26.413793,
            25.230769,
            24.333333,
            23.583333,
            22.606061,
            22.6,
            24.139241,
            23.349398,
            23.7,
            25.516129,
            24.473684,
            25.404762,
            24.510204,
            24.06,
            24.405405,
            24.131148
           ],
           "xaxis": "x",
           "y": [
            1,
            2,
            3,
            4,
            5,
            6,
            7,
            8,
            9,
            10,
            11,
            12,
            13,
            14,
            15,
            16,
            17,
            18,
            19,
            20
           ],
           "yaxis": "y"
          },
          {
           "hovertemplate": "<b>%{hovertext}</b><br><br>league=ligue1<br>Years=2010-11<br>Age=%{x}<br>Rk=%{y}<extra></extra>",
           "hovertext": [
            "LOSC Lille",
            "Olympique Marseille",
            "Olympique Lyon",
            "Paris Saint-Germain",
            "FC Sochaux-Montbéliard",
            "Stade Rennais",
            "FC Girondins Bordeaux",
            "Toulouse",
            "Auxerre",
            "Saint-Etienne",
            "Lorient",
            "Valenciennes",
            "Nancy-Lorraine",
            "Montpellier",
            "SM Caen",
            "Stade Brestois 29",
            "OGC Nice",
            "AS Monaco",
            "RC Lens",
            "Athlétic Club Arlésien"
           ],
           "ids": [
            "LOSC Lille",
            "Olympique Marseille",
            "Olympique Lyon",
            "Paris Saint-Germain",
            "FC Sochaux-Montbéliard",
            "Stade Rennais",
            "FC Girondins Bordeaux",
            "Toulouse",
            "Auxerre",
            "Saint-Etienne",
            "Lorient",
            "Valenciennes",
            "Nancy-Lorraine",
            "Montpellier",
            "SM Caen",
            "Stade Brestois 29",
            "OGC Nice",
            "AS Monaco",
            "RC Lens",
            "Athlétic Club Arlésien"
           ],
           "legendgroup": "ligue1",
           "marker": {
            "color": "black",
            "symbol": "circle"
           },
           "mode": "markers",
           "name": "ligue1",
           "orientation": "v",
           "showlegend": true,
           "type": "scatter",
           "x": [
            24.5625,
            24.121212,
            24.777778,
            24.818182,
            24.3,
            23.162162,
            23.166667,
            22.85,
            23.521739,
            25,
            23.428571,
            25.047619,
            24.354839,
            24.2,
            25.055556,
            25.72,
            24.115385,
            24.410714,
            23.695652,
            25.877551
           ],
           "xaxis": "x",
           "y": [
            1,
            2,
            3,
            4,
            5,
            6,
            7,
            8,
            9,
            10,
            11,
            12,
            13,
            14,
            15,
            16,
            17,
            18,
            19,
            20
           ],
           "yaxis": "y"
          },
          {
           "hovertemplate": "<b>%{hovertext}</b><br><br>league=bundesliga<br>Years=2010-11<br>Age=%{x}<br>Rk=%{y}<extra></extra>",
           "hovertext": [
            "Borussia Dortmund",
            "Bayer 04 Leverkusen",
            "Bayern Munich",
            "Hannover 96",
            "FSV Mainz 05",
            "Nuremberg",
            "Kaiserslautern",
            "Hamburger SV",
            "SC Freiburg",
            "FC FC Köln",
            "TSG 1899 Hoffenheim",
            "VfB Stuttgart",
            "SV Werder Bremen",
            "Schalke 04",
            "VfL Wolfsburg",
            "Borussia Mönchengladbach",
            "Eintracht Frankfurt",
            "FC St. Pauli"
           ],
           "ids": [
            "Borussia Dortmund",
            "Bayer 04 Leverkusen",
            "Bayern Munich",
            "Hannover 96",
            "FSV Mainz 05",
            "Nuremberg",
            "Kaiserslautern",
            "Hamburger SV",
            "SC Freiburg",
            "FC FC Köln",
            "TSG 1899 Hoffenheim",
            "VfB Stuttgart",
            "SV Werder Bremen",
            "Schalke 04",
            "VfL Wolfsburg",
            "Borussia Mönchengladbach",
            "Eintracht Frankfurt",
            "FC St. Pauli"
           ],
           "legendgroup": "bundesliga",
           "marker": {
            "color": "red",
            "symbol": "circle"
           },
           "mode": "markers",
           "name": "bundesliga",
           "orientation": "v",
           "showlegend": true,
           "type": "scatter",
           "x": [
            23.375,
            23.310345,
            25.333333,
            25.62963,
            23.621622,
            22.815789,
            23.384615,
            22,
            23.076923,
            23.451613,
            22.419355,
            25.821429,
            22.962963,
            24.375,
            24.323529,
            25.681818,
            23.84,
            26.5
           ],
           "xaxis": "x",
           "y": [
            1,
            2,
            3,
            4,
            5,
            6,
            7,
            8,
            9,
            10,
            11,
            12,
            13,
            14,
            15,
            16,
            17,
            18
           ],
           "yaxis": "y"
          }
         ],
         "name": "2010-11"
        },
        {
         "data": [
          {
           "hovertemplate": "<b>%{hovertext}</b><br><br>league=liga<br>Years=2011-12<br>Age=%{x}<br>Rk=%{y}<extra></extra>",
           "hovertext": [
            "Real Madrid",
            "FC Barcelona",
            "Valencia CF",
            "Málaga CF",
            "Atlético de Madrid",
            "Levante UD",
            "CA Osasuna",
            "RCD Mallorca",
            "Sevilla FC",
            "Athletic Bilbao",
            "Getafe CF",
            "Real Sociedad",
            "Real Betis Balompié",
            "RCD Espanyol Barcelona",
            "Rayo Vallecano",
            "Real Zaragoza",
            "Granada CF",
            "Villarreal CF",
            "Sporting Gijón",
            "Racing Santander"
           ],
           "ids": [
            "Real Madrid",
            "FC Barcelona",
            "Valencia CF",
            "Málaga CF",
            "Atlético de Madrid",
            "Levante UD",
            "CA Osasuna",
            "RCD Mallorca",
            "Sevilla FC",
            "Athletic Bilbao",
            "Getafe CF",
            "Real Sociedad",
            "Real Betis Balompié",
            "RCD Espanyol Barcelona",
            "Rayo Vallecano",
            "Real Zaragoza",
            "Granada CF",
            "Villarreal CF",
            "Sporting Gijón",
            "Racing Santander"
           ],
           "legendgroup": "liga",
           "marker": {
            "color": "gold",
            "symbol": "circle"
           },
           "mode": "markers",
           "name": "liga",
           "orientation": "v",
           "showlegend": true,
           "type": "scatter",
           "x": [
            24.692308,
            24.958333,
            25.129032,
            25.375,
            23.195122,
            26.388889,
            25.766667,
            25.625,
            24.394737,
            24.846154,
            25.088235,
            24.666667,
            26.62069,
            24.921053,
            25.294118,
            26.292683,
            24.606061,
            25.666667,
            25.6875,
            23.857143
           ],
           "xaxis": "x",
           "y": [
            1,
            2,
            3,
            4,
            5,
            6,
            7,
            8,
            9,
            10,
            11,
            12,
            13,
            14,
            15,
            16,
            17,
            18,
            19,
            20
           ],
           "yaxis": "y"
          },
          {
           "hovertemplate": "<b>%{hovertext}</b><br><br>league=PL<br>Years=2011-12<br>Age=%{x}<br>Rk=%{y}<extra></extra>",
           "hovertext": [
            "Manchester City",
            "Manchester United",
            "Arsenal FC",
            "Tottenham Hotspur",
            "Newcastle United",
            "Chelsea FC FC",
            "Everton FC",
            "Liverpool FC",
            "Fulham FC",
            "West Bromwich Albion",
            "Swansea City",
            "Norwich City",
            "Sunderland AFC",
            "Stoke City",
            "Wigan Athletic",
            "Aston Villa",
            "Queens Park Rangers",
            "Bolton Wanderers",
            "Blackburn Rovers",
            "Wolverhampton Wanderers"
           ],
           "ids": [
            "Manchester City",
            "Manchester United",
            "Arsenal FC",
            "Tottenham Hotspur",
            "Newcastle United",
            "Chelsea FC FC",
            "Everton FC",
            "Liverpool FC",
            "Fulham FC",
            "West Bromwich Albion",
            "Swansea City",
            "Norwich City",
            "Sunderland AFC",
            "Stoke City",
            "Wigan Athletic",
            "Aston Villa",
            "Queens Park Rangers",
            "Bolton Wanderers",
            "Blackburn Rovers",
            "Wolverhampton Wanderers"
           ],
           "legendgroup": "PL",
           "marker": {
            "color": "blue",
            "symbol": "circle"
           },
           "mode": "markers",
           "name": "PL",
           "orientation": "v",
           "showlegend": true,
           "type": "scatter",
           "x": [
            23.171875,
            22.914286,
            23.118644,
            23.479452,
            22.381818,
            21.522727,
            23.972222,
            23.675,
            25.5,
            24.254902,
            24.813953,
            22.315789,
            23.462687,
            24.615385,
            22.973684,
            24.73913,
            25.057471,
            23.326087,
            23.181818,
            22.854839
           ],
           "xaxis": "x",
           "y": [
            1,
            2,
            3,
            4,
            5,
            6,
            7,
            8,
            9,
            10,
            11,
            12,
            13,
            14,
            15,
            16,
            17,
            18,
            19,
            20
           ],
           "yaxis": "y"
          },
          {
           "hovertemplate": "<b>%{hovertext}</b><br><br>league=serieA<br>Years=2011-12<br>Age=%{x}<br>Rk=%{y}<extra></extra>",
           "hovertext": [
            "Juventus FC",
            "AC Milan",
            "Udinese Calcio",
            "SS Lazio",
            "SSC Napoli",
            "Inter Milan",
            "AS Roma",
            "Parma FC",
            "Bologna FC 1909",
            "Chievo Verona",
            "Calcio Catania",
            "Atalanta BC",
            "ACF Fiorentina",
            "AC Siena",
            "Cagliari Calcio",
            "US Palermo",
            "Genoa CFC",
            "US Lecce",
            "Novara Calcio",
            "AC Cesena"
           ],
           "ids": [
            "Juventus FC",
            "AC Milan",
            "Udinese Calcio",
            "SS Lazio",
            "SSC Napoli",
            "Inter Milan",
            "AS Roma",
            "Parma FC",
            "Bologna FC 1909",
            "Chievo Verona",
            "Calcio Catania",
            "Atalanta BC",
            "ACF Fiorentina",
            "AC Siena",
            "Cagliari Calcio",
            "US Palermo",
            "Genoa CFC",
            "US Lecce",
            "Novara Calcio",
            "AC Cesena"
           ],
           "legendgroup": "serieA",
           "marker": {
            "color": "green",
            "symbol": "circle"
           },
           "mode": "markers",
           "name": "serieA",
           "orientation": "v",
           "showlegend": true,
           "type": "scatter",
           "x": [
            24.2,
            23.365079,
            23.486842,
            25.153846,
            25.172414,
            23.44,
            23.5,
            23.176471,
            24.466667,
            23.743902,
            25,
            25.413043,
            23.759259,
            24.175676,
            23.676471,
            24.333333,
            23.424242,
            25.413043,
            25.553191,
            24.329114
           ],
           "xaxis": "x",
           "y": [
            1,
            2,
            3,
            4,
            5,
            6,
            7,
            8,
            9,
            10,
            11,
            12,
            13,
            14,
            15,
            16,
            17,
            18,
            19,
            20
           ],
           "yaxis": "y"
          },
          {
           "hovertemplate": "<b>%{hovertext}</b><br><br>league=ligue1<br>Years=2011-12<br>Age=%{x}<br>Rk=%{y}<extra></extra>",
           "hovertext": [
            "Montpellier",
            "Paris Saint-Germain",
            "LOSC Lille",
            "Olympique Lyon",
            "FC Girondins Bordeaux",
            "Stade Rennais",
            "Saint-Etienne",
            "Toulouse",
            "FC Évian Thonon Gaillard",
            "Olympique Marseille",
            "Nancy-Lorraine",
            "Valenciennes",
            "OGC Nice",
            "FC Sochaux-Montbéliard",
            "Stade Brestois 29",
            "Ajaccio",
            "Lorient",
            "SM Caen",
            "Dijon FCO",
            "Auxerre"
           ],
           "ids": [
            "Montpellier",
            "Paris Saint-Germain",
            "LOSC Lille",
            "Olympique Lyon",
            "FC Girondins Bordeaux",
            "Stade Rennais",
            "Saint-Etienne",
            "Toulouse",
            "FC Évian Thonon Gaillard",
            "Olympique Marseille",
            "Nancy-Lorraine",
            "Valenciennes",
            "OGC Nice",
            "FC Sochaux-Montbéliard",
            "Stade Brestois 29",
            "Ajaccio",
            "Lorient",
            "SM Caen",
            "Dijon FCO",
            "Auxerre"
           ],
           "legendgroup": "ligue1",
           "marker": {
            "color": "black",
            "symbol": "circle"
           },
           "mode": "markers",
           "name": "ligue1",
           "orientation": "v",
           "showlegend": true,
           "type": "scatter",
           "x": [
            24.619048,
            26.090909,
            25.108108,
            22.238095,
            23.774194,
            24.086957,
            25.47619,
            23.608696,
            25.866667,
            25.65625,
            25.314286,
            24.75,
            25.666667,
            23.84,
            25.730769,
            25.190476,
            24.571429,
            22.875,
            24.026316,
            23.2
           ],
           "xaxis": "x",
           "y": [
            1,
            2,
            3,
            4,
            5,
            6,
            7,
            8,
            9,
            10,
            11,
            12,
            13,
            14,
            15,
            16,
            17,
            18,
            19,
            20
           ],
           "yaxis": "y"
          },
          {
           "hovertemplate": "<b>%{hovertext}</b><br><br>league=bundesliga<br>Years=2011-12<br>Age=%{x}<br>Rk=%{y}<extra></extra>",
           "hovertext": [
            "Borussia Dortmund",
            "Bayern Munich",
            "Schalke 04",
            "Borussia Mönchengladbach",
            "Bayer 04 Leverkusen",
            "VfB Stuttgart",
            "Hannover 96",
            "VfL Wolfsburg",
            "SV Werder Bremen",
            "Nuremberg",
            "TSG 1899 Hoffenheim",
            "SC Freiburg",
            "FSV Mainz 05",
            "Augsburg",
            "Hamburger SV",
            "Hertha BSC",
            "FC FC Köln",
            "Kaiserslautern"
           ],
           "ids": [
            "Borussia Dortmund",
            "Bayern Munich",
            "Schalke 04",
            "Borussia Mönchengladbach",
            "Bayer 04 Leverkusen",
            "VfB Stuttgart",
            "Hannover 96",
            "VfL Wolfsburg",
            "SV Werder Bremen",
            "Nuremberg",
            "TSG 1899 Hoffenheim",
            "SC Freiburg",
            "FSV Mainz 05",
            "Augsburg",
            "Hamburger SV",
            "Hertha BSC",
            "FC FC Köln",
            "Kaiserslautern"
           ],
           "legendgroup": "bundesliga",
           "marker": {
            "color": "red",
            "symbol": "circle"
           },
           "mode": "markers",
           "name": "bundesliga",
           "orientation": "v",
           "showlegend": true,
           "type": "scatter",
           "x": [
            23.894737,
            23.538462,
            25.241379,
            23.342105,
            22.612903,
            23.954545,
            22.6875,
            24.804348,
            23.694444,
            23.09375,
            22.033333,
            24.5,
            24.324324,
            23.72,
            24.692308,
            24.217391,
            23.138889,
            23.966667
           ],
           "xaxis": "x",
           "y": [
            1,
            2,
            3,
            4,
            5,
            6,
            7,
            8,
            9,
            10,
            11,
            12,
            13,
            14,
            15,
            16,
            17,
            18
           ],
           "yaxis": "y"
          }
         ],
         "name": "2011-12"
        },
        {
         "data": [
          {
           "hovertemplate": "<b>%{hovertext}</b><br><br>league=liga<br>Years=2012-13<br>Age=%{x}<br>Rk=%{y}<extra></extra>",
           "hovertext": [
            "FC Barcelona",
            "Real Madrid",
            "Atlético de Madrid",
            "Real Sociedad",
            "Valencia CF",
            "Málaga CF",
            "Real Betis Balompié",
            "Rayo Vallecano",
            "Sevilla FC",
            "Getafe CF",
            "Levante UD",
            "Athletic Bilbao",
            "RCD Espanyol Barcelona",
            "Real Valladolid CF",
            "Granada CF",
            "CA Osasuna",
            "Celta de Vigo",
            "RCD Mallorca",
            "Deportivo de La Coruña",
            "Real Zaragoza"
           ],
           "ids": [
            "FC Barcelona",
            "Real Madrid",
            "Atlético de Madrid",
            "Real Sociedad",
            "Valencia CF",
            "Málaga CF",
            "Real Betis Balompié",
            "Rayo Vallecano",
            "Sevilla FC",
            "Getafe CF",
            "Levante UD",
            "Athletic Bilbao",
            "RCD Espanyol Barcelona",
            "Real Valladolid CF",
            "Granada CF",
            "CA Osasuna",
            "Celta de Vigo",
            "RCD Mallorca",
            "Deportivo de La Coruña",
            "Real Zaragoza"
           ],
           "legendgroup": "liga",
           "marker": {
            "color": "gold",
            "symbol": "circle"
           },
           "mode": "markers",
           "name": "liga",
           "orientation": "v",
           "showlegend": true,
           "type": "scatter",
           "x": [
            23.5,
            25.466667,
            24.766667,
            24.75,
            26.04,
            26.96875,
            24.866667,
            25.625,
            25.933333,
            25.566667,
            26.926829,
            27,
            24.16129,
            26.086957,
            24.917647,
            26.588235,
            26.347826,
            24.724138,
            26.846154,
            25.906977
           ],
           "xaxis": "x",
           "y": [
            1,
            2,
            3,
            4,
            5,
            6,
            7,
            8,
            9,
            10,
            11,
            12,
            13,
            14,
            15,
            16,
            17,
            18,
            19,
            20
           ],
           "yaxis": "y"
          },
          {
           "hovertemplate": "<b>%{hovertext}</b><br><br>league=PL<br>Years=2012-13<br>Age=%{x}<br>Rk=%{y}<extra></extra>",
           "hovertext": [
            "Manchester United",
            "Manchester City",
            "Chelsea FC FC",
            "Arsenal FC",
            "Tottenham Hotspur",
            "Everton FC",
            "Liverpool FC",
            "West Bromwich Albion",
            "Swansea City",
            "West Ham United",
            "Norwich City",
            "Fulham FC",
            "Stoke City",
            "Southampton FC",
            "Aston Villa",
            "Newcastle United",
            "Sunderland AFC",
            "Wigan Athletic",
            "Reading FC",
            "Queens Park Rangers"
           ],
           "ids": [
            "Manchester United",
            "Manchester City",
            "Chelsea FC FC",
            "Arsenal FC",
            "Tottenham Hotspur",
            "Everton FC",
            "Liverpool FC",
            "West Bromwich Albion",
            "Swansea City",
            "West Ham United",
            "Norwich City",
            "Fulham FC",
            "Stoke City",
            "Southampton FC",
            "Aston Villa",
            "Newcastle United",
            "Sunderland AFC",
            "Wigan Athletic",
            "Reading FC",
            "Queens Park Rangers"
           ],
           "legendgroup": "PL",
           "marker": {
            "color": "blue",
            "symbol": "circle"
           },
           "mode": "markers",
           "name": "PL",
           "orientation": "v",
           "showlegend": true,
           "type": "scatter",
           "x": [
            22.424242,
            22.98,
            21.105263,
            22.972973,
            24,
            23.461538,
            23.108108,
            23.647059,
            24.738095,
            25.115385,
            24.272727,
            24.517857,
            26.531915,
            25,
            24.419355,
            22.095238,
            23.75,
            22.613636,
            22.816667,
            25.364706
           ],
           "xaxis": "x",
           "y": [
            1,
            2,
            3,
            4,
            5,
            6,
            7,
            8,
            9,
            10,
            11,
            12,
            13,
            14,
            15,
            16,
            17,
            18,
            19,
            20
           ],
           "yaxis": "y"
          },
          {
           "hovertemplate": "<b>%{hovertext}</b><br><br>league=serieA<br>Years=2012-13<br>Age=%{x}<br>Rk=%{y}<extra></extra>",
           "hovertext": [
            "Juventus FC",
            "SSC Napoli",
            "AC Milan",
            "ACF Fiorentina",
            "Udinese Calcio",
            "AS Roma",
            "SS Lazio",
            "Calcio Catania",
            "Inter Milan",
            "Parma FC",
            "Cagliari Calcio",
            "Chievo Verona",
            "Bologna FC 1909",
            "UC Sampdoria",
            "Atalanta BC",
            "Torino FC",
            "Genoa CFC",
            "US Palermo",
            "AC Siena",
            "Delfino Pescara 1936"
           ],
           "ids": [
            "Juventus FC",
            "SSC Napoli",
            "AC Milan",
            "ACF Fiorentina",
            "Udinese Calcio",
            "AS Roma",
            "SS Lazio",
            "Calcio Catania",
            "Inter Milan",
            "Parma FC",
            "Cagliari Calcio",
            "Chievo Verona",
            "Bologna FC 1909",
            "UC Sampdoria",
            "Atalanta BC",
            "Torino FC",
            "Genoa CFC",
            "US Palermo",
            "AC Siena",
            "Delfino Pescara 1936"
           ],
           "legendgroup": "serieA",
           "marker": {
            "color": "green",
            "symbol": "circle"
           },
           "mode": "markers",
           "name": "serieA",
           "orientation": "v",
           "showlegend": true,
           "type": "scatter",
           "x": [
            23.65625,
            24.146341,
            24.732394,
            25.444444,
            24.013333,
            23.046154,
            24.846154,
            23.44898,
            23.647059,
            22.949367,
            24.028571,
            24.706667,
            24.62963,
            24.203125,
            25.78,
            25.90566,
            24.490566,
            24.796875,
            25.03125,
            23.924242
           ],
           "xaxis": "x",
           "y": [
            1,
            2,
            3,
            4,
            5,
            6,
            7,
            8,
            9,
            10,
            11,
            12,
            13,
            14,
            15,
            16,
            17,
            18,
            19,
            20
           ],
           "yaxis": "y"
          },
          {
           "hovertemplate": "<b>%{hovertext}</b><br><br>league=ligue1<br>Years=2012-13<br>Age=%{x}<br>Rk=%{y}<extra></extra>",
           "hovertext": [
            "Paris Saint-Germain",
            "Olympique Marseille",
            "Olympique Lyon",
            "OGC Nice",
            "Saint-Etienne",
            "LOSC Lille",
            "FC Girondins Bordeaux",
            "Lorient",
            "Montpellier",
            "Toulouse",
            "Valenciennes",
            "SC Bastia",
            "Stade Rennais",
            "Stade Reims",
            "FC Sochaux-Montbéliard",
            "FC Évian Thonon Gaillard",
            "Ajaccio",
            "Nancy-Lorraine",
            "ESTAC Troyes",
            "Stade Brestois 29"
           ],
           "ids": [
            "Paris Saint-Germain",
            "Olympique Marseille",
            "Olympique Lyon",
            "OGC Nice",
            "Saint-Etienne",
            "LOSC Lille",
            "FC Girondins Bordeaux",
            "Lorient",
            "Montpellier",
            "Toulouse",
            "Valenciennes",
            "SC Bastia",
            "Stade Rennais",
            "Stade Reims",
            "FC Sochaux-Montbéliard",
            "FC Évian Thonon Gaillard",
            "Ajaccio",
            "Nancy-Lorraine",
            "ESTAC Troyes",
            "Stade Brestois 29"
           ],
           "legendgroup": "ligue1",
           "marker": {
            "color": "black",
            "symbol": "circle"
           },
           "mode": "markers",
           "name": "ligue1",
           "orientation": "v",
           "showlegend": true,
           "type": "scatter",
           "x": [
            25.538462,
            24.517241,
            23,
            23.305556,
            26.205882,
            23.3,
            22.777778,
            24.038462,
            23.529412,
            24.428571,
            23.631579,
            25.481481,
            25,
            25,
            25.083333,
            26.5,
            26.08,
            24.361702,
            24.25,
            27
           ],
           "xaxis": "x",
           "y": [
            1,
            2,
            3,
            4,
            5,
            6,
            7,
            8,
            9,
            10,
            11,
            12,
            13,
            14,
            15,
            16,
            17,
            18,
            19,
            20
           ],
           "yaxis": "y"
          },
          {
           "hovertemplate": "<b>%{hovertext}</b><br><br>league=bundesliga<br>Years=2012-13<br>Age=%{x}<br>Rk=%{y}<extra></extra>",
           "hovertext": [
            "Bayern Munich",
            "Borussia Dortmund",
            "Bayer 04 Leverkusen",
            "Schalke 04",
            "SC Freiburg",
            "Eintracht Frankfurt",
            "Hamburger SV",
            "Borussia Mönchengladbach",
            "Hannover 96",
            "Nuremberg",
            "VfL Wolfsburg",
            "VfB Stuttgart",
            "FSV Mainz 05",
            "SV Werder Bremen",
            "Augsburg",
            "TSG 1899 Hoffenheim",
            "Fortuna Düsseldorf",
            "SpVgg Greuther Fürth"
           ],
           "ids": [
            "Bayern Munich",
            "Borussia Dortmund",
            "Bayer 04 Leverkusen",
            "Schalke 04",
            "SC Freiburg",
            "Eintracht Frankfurt",
            "Hamburger SV",
            "Borussia Mönchengladbach",
            "Hannover 96",
            "Nuremberg",
            "VfL Wolfsburg",
            "VfB Stuttgart",
            "FSV Mainz 05",
            "SV Werder Bremen",
            "Augsburg",
            "TSG 1899 Hoffenheim",
            "Fortuna Düsseldorf",
            "SpVgg Greuther Fürth"
           ],
           "legendgroup": "bundesliga",
           "marker": {
            "color": "red",
            "symbol": "circle"
           },
           "mode": "markers",
           "name": "bundesliga",
           "orientation": "v",
           "showlegend": true,
           "type": "scatter",
           "x": [
            24.470588,
            23.416667,
            21.810811,
            25.282051,
            23.473684,
            25.05,
            23.857143,
            22.32,
            23.826087,
            22.321429,
            25.469388,
            23.368421,
            24.521739,
            24.392857,
            25.969697,
            23.530612,
            24.622222,
            23.894737
           ],
           "xaxis": "x",
           "y": [
            1,
            2,
            3,
            4,
            5,
            6,
            7,
            8,
            9,
            10,
            11,
            12,
            13,
            14,
            15,
            16,
            17,
            18
           ],
           "yaxis": "y"
          }
         ],
         "name": "2012-13"
        },
        {
         "data": [
          {
           "hovertemplate": "<b>%{hovertext}</b><br><br>league=liga<br>Years=2013-14<br>Age=%{x}<br>Rk=%{y}<extra></extra>",
           "hovertext": [
            "Atlético de Madrid",
            "FC Barcelona",
            "Real Madrid",
            "Athletic Bilbao",
            "Sevilla FC",
            "Villarreal CF",
            "Real Sociedad",
            "Valencia CF",
            "Celta de Vigo",
            "Levante UD",
            "Málaga CF",
            "Rayo Vallecano",
            "Getafe CF",
            "RCD Espanyol Barcelona",
            "Granada CF",
            "Elche CF",
            "UD Almería",
            "CA Osasuna",
            "Real Valladolid CF",
            "Real Betis Balompié"
           ],
           "ids": [
            "Atlético de Madrid",
            "FC Barcelona",
            "Real Madrid",
            "Athletic Bilbao",
            "Sevilla FC",
            "Villarreal CF",
            "Real Sociedad",
            "Valencia CF",
            "Celta de Vigo",
            "Levante UD",
            "Málaga CF",
            "Rayo Vallecano",
            "Getafe CF",
            "RCD Espanyol Barcelona",
            "Granada CF",
            "Elche CF",
            "UD Almería",
            "CA Osasuna",
            "Real Valladolid CF",
            "Real Betis Balompié"
           ],
           "legendgroup": "liga",
           "marker": {
            "color": "gold",
            "symbol": "circle"
           },
           "mode": "markers",
           "name": "liga",
           "orientation": "v",
           "showlegend": true,
           "type": "scatter",
           "x": [
            24.289474,
            23,
            24.666667,
            24.583333,
            24.854545,
            26.741935,
            25.833333,
            25.965517,
            25.852941,
            28,
            25.536585,
            25.837838,
            25.875,
            23.62069,
            24.611111,
            26.090909,
            26.066667,
            27.074074,
            24.736842,
            24.767442
           ],
           "xaxis": "x",
           "y": [
            1,
            2,
            3,
            4,
            5,
            6,
            7,
            8,
            9,
            10,
            11,
            12,
            13,
            14,
            15,
            16,
            17,
            18,
            19,
            20
           ],
           "yaxis": "y"
          },
          {
           "hovertemplate": "<b>%{hovertext}</b><br><br>league=PL<br>Years=2013-14<br>Age=%{x}<br>Rk=%{y}<extra></extra>",
           "hovertext": [
            "Manchester City",
            "Liverpool FC",
            "Chelsea FC FC",
            "Arsenal FC",
            "Everton FC",
            "Tottenham Hotspur",
            "Manchester United",
            "Southampton FC",
            "Stoke City",
            "Newcastle United",
            "Crystal Palace",
            "Swansea City",
            "West Ham United",
            "Sunderland AFC",
            "Aston Villa",
            "Hull City",
            "West Bromwich Albion",
            "Norwich City",
            "Fulham FC",
            "Cardiff City"
           ],
           "ids": [
            "Manchester City",
            "Liverpool FC",
            "Chelsea FC FC",
            "Arsenal FC",
            "Everton FC",
            "Tottenham Hotspur",
            "Manchester United",
            "Southampton FC",
            "Stoke City",
            "Newcastle United",
            "Crystal Palace",
            "Swansea City",
            "West Ham United",
            "Sunderland AFC",
            "Aston Villa",
            "Hull City",
            "West Bromwich Albion",
            "Norwich City",
            "Fulham FC",
            "Cardiff City"
           ],
           "legendgroup": "PL",
           "marker": {
            "color": "blue",
            "symbol": "circle"
           },
           "mode": "markers",
           "name": "PL",
           "orientation": "v",
           "showlegend": true,
           "type": "scatter",
           "x": [
            24.5,
            22.146341,
            21.918919,
            23.454545,
            23.526316,
            23.719298,
            21.736842,
            24.512195,
            25.525,
            22.30303,
            24.037975,
            24.073171,
            25,
            23.072464,
            24.016129,
            24.723077,
            26.032258,
            24.232558,
            24.796875,
            23.564516
           ],
           "xaxis": "x",
           "y": [
            1,
            2,
            3,
            4,
            5,
            6,
            7,
            8,
            9,
            10,
            11,
            12,
            13,
            14,
            15,
            16,
            17,
            18,
            19,
            20
           ],
           "yaxis": "y"
          },
          {
           "hovertemplate": "<b>%{hovertext}</b><br><br>league=serieA<br>Years=2013-14<br>Age=%{x}<br>Rk=%{y}<extra></extra>",
           "hovertext": [
            "Juventus FC",
            "AS Roma",
            "SSC Napoli",
            "ACF Fiorentina",
            "Inter Milan",
            "Parma FC",
            "Torino FC",
            "AC Milan",
            "SS Lazio",
            "Hellas Verona",
            "Atalanta BC",
            "UC Sampdoria",
            "Udinese Calcio",
            "Genoa CFC",
            "Cagliari Calcio",
            "Chievo Verona",
            "US Sassuolo",
            "Calcio Catania",
            "Bologna FC 1909",
            "AS Livorno"
           ],
           "ids": [
            "Juventus FC",
            "AS Roma",
            "SSC Napoli",
            "ACF Fiorentina",
            "Inter Milan",
            "Parma FC",
            "Torino FC",
            "AC Milan",
            "SS Lazio",
            "Hellas Verona",
            "Atalanta BC",
            "UC Sampdoria",
            "Udinese Calcio",
            "Genoa CFC",
            "Cagliari Calcio",
            "Chievo Verona",
            "US Sassuolo",
            "Calcio Catania",
            "Bologna FC 1909",
            "AS Livorno"
           ],
           "legendgroup": "serieA",
           "marker": {
            "color": "green",
            "symbol": "circle"
           },
           "mode": "markers",
           "name": "serieA",
           "orientation": "v",
           "showlegend": true,
           "type": "scatter",
           "x": [
            22.967213,
            23.166667,
            26.054545,
            24.8125,
            22.967742,
            22.647564,
            25.042553,
            23.5,
            24.394737,
            24.618421,
            24.169811,
            23.128571,
            22.974359,
            25.010417,
            22.655172,
            23.849462,
            24.305085,
            23.844828,
            23.202899,
            23.722222
           ],
           "xaxis": "x",
           "y": [
            1,
            2,
            3,
            4,
            5,
            6,
            7,
            8,
            9,
            10,
            11,
            12,
            13,
            14,
            15,
            16,
            17,
            18,
            19,
            20
           ],
           "yaxis": "y"
          },
          {
           "hovertemplate": "<b>%{hovertext}</b><br><br>league=ligue1<br>Years=2013-14<br>Age=%{x}<br>Rk=%{y}<extra></extra>",
           "hovertext": [
            "Paris Saint-Germain",
            "AS Monaco",
            "LOSC Lille",
            "Saint-Etienne",
            "Olympique Lyon",
            "Olympique Marseille",
            "FC Girondins Bordeaux",
            "Lorient",
            "Toulouse",
            "SC Bastia",
            "Stade Reims",
            "Stade Rennais",
            "FC Nantes",
            "FC Évian Thonon Gaillard",
            "Montpellier",
            "Guingamp",
            "OGC Nice",
            "FC Sochaux-Montbéliard",
            "Valenciennes",
            "Ajaccio"
           ],
           "ids": [
            "Paris Saint-Germain",
            "AS Monaco",
            "LOSC Lille",
            "Saint-Etienne",
            "Olympique Lyon",
            "Olympique Marseille",
            "FC Girondins Bordeaux",
            "Lorient",
            "Toulouse",
            "SC Bastia",
            "Stade Reims",
            "Stade Rennais",
            "FC Nantes",
            "FC Évian Thonon Gaillard",
            "Montpellier",
            "Guingamp",
            "OGC Nice",
            "FC Sochaux-Montbéliard",
            "Valenciennes",
            "Ajaccio"
           ],
           "legendgroup": "ligue1",
           "marker": {
            "color": "black",
            "symbol": "circle"
           },
           "mode": "markers",
           "name": "ligue1",
           "orientation": "v",
           "showlegend": true,
           "type": "scatter",
           "x": [
            24.314286,
            23.465517,
            23,
            23.085714,
            23.590909,
            22.964286,
            25.045455,
            22.678571,
            24.269231,
            26.027027,
            23.684211,
            23.684211,
            26.35,
            24.470588,
            24.56,
            24.857143,
            23.2,
            24.033333,
            24.863636,
            26.25641
           ],
           "xaxis": "x",
           "y": [
            1,
            2,
            3,
            4,
            5,
            6,
            7,
            8,
            9,
            10,
            11,
            12,
            13,
            14,
            15,
            16,
            17,
            18,
            19,
            20
           ],
           "yaxis": "y"
          },
          {
           "hovertemplate": "<b>%{hovertext}</b><br><br>league=bundesliga<br>Years=2013-14<br>Age=%{x}<br>Rk=%{y}<extra></extra>",
           "hovertext": [
            "Bayern Munich",
            "Borussia Dortmund",
            "Schalke 04",
            "Bayer 04 Leverkusen",
            "VfL Wolfsburg",
            "Borussia Mönchengladbach",
            "FSV Mainz 05",
            "Augsburg",
            "TSG 1899 Hoffenheim",
            "Hannover 96",
            "Hertha BSC",
            "SV Werder Bremen",
            "Eintracht Frankfurt",
            "SC Freiburg",
            "VfB Stuttgart",
            "Hamburger SV",
            "Nuremberg",
            "Eintracht Braunschweig"
           ],
           "ids": [
            "Bayern Munich",
            "Borussia Dortmund",
            "Schalke 04",
            "Bayer 04 Leverkusen",
            "VfL Wolfsburg",
            "Borussia Mönchengladbach",
            "FSV Mainz 05",
            "Augsburg",
            "TSG 1899 Hoffenheim",
            "Hannover 96",
            "Hertha BSC",
            "SV Werder Bremen",
            "Eintracht Frankfurt",
            "SC Freiburg",
            "VfB Stuttgart",
            "Hamburger SV",
            "Nuremberg",
            "Eintracht Braunschweig"
           ],
           "legendgroup": "bundesliga",
           "marker": {
            "color": "red",
            "symbol": "circle"
           },
           "mode": "markers",
           "name": "bundesliga",
           "orientation": "v",
           "showlegend": true,
           "type": "scatter",
           "x": [
            22.733333,
            22.541667,
            24.777778,
            22.941176,
            23.982759,
            22.888889,
            25.392857,
            24.103448,
            23.604167,
            23.588235,
            24.304348,
            23.545455,
            26.730769,
            23.7,
            24.090909,
            23.090909,
            22.171429,
            24.05
           ],
           "xaxis": "x",
           "y": [
            1,
            2,
            3,
            4,
            5,
            6,
            7,
            8,
            9,
            10,
            11,
            12,
            13,
            14,
            15,
            16,
            17,
            18
           ],
           "yaxis": "y"
          }
         ],
         "name": "2013-14"
        },
        {
         "data": [
          {
           "hovertemplate": "<b>%{hovertext}</b><br><br>league=liga<br>Years=2014-15<br>Age=%{x}<br>Rk=%{y}<extra></extra>",
           "hovertext": [
            "FC Barcelona",
            "Real Madrid",
            "Atlético de Madrid",
            "Valencia CF",
            "Sevilla FC",
            "Villarreal CF",
            "Athletic Bilbao",
            "Celta de Vigo",
            "Málaga CF",
            "RCD Espanyol Barcelona",
            "Rayo Vallecano",
            "Real Sociedad",
            "Elche CF",
            "Levante UD",
            "Getafe CF",
            "Deportivo de La Coruña",
            "Granada CF",
            "SD Eibar",
            "UD Almería",
            "Córdoba CF"
           ],
           "ids": [
            "FC Barcelona",
            "Real Madrid",
            "Atlético de Madrid",
            "Valencia CF",
            "Sevilla FC",
            "Villarreal CF",
            "Athletic Bilbao",
            "Celta de Vigo",
            "Málaga CF",
            "RCD Espanyol Barcelona",
            "Rayo Vallecano",
            "Real Sociedad",
            "Elche CF",
            "Levante UD",
            "Getafe CF",
            "Deportivo de La Coruña",
            "Granada CF",
            "SD Eibar",
            "UD Almería",
            "Córdoba CF"
           ],
           "legendgroup": "liga",
           "marker": {
            "color": "gold",
            "symbol": "circle"
           },
           "mode": "markers",
           "name": "liga",
           "orientation": "v",
           "showlegend": true,
           "type": "scatter",
           "x": [
            25.535714,
            24.875,
            25.040816,
            25.125,
            25,
            24.137931,
            22.45,
            26,
            25.888889,
            24.5625,
            25.130435,
            24.75,
            25.939394,
            27.071429,
            26.681818,
            24.833333,
            24.810127,
            26.461538,
            25.484848,
            25.319149
           ],
           "xaxis": "x",
           "y": [
            1,
            2,
            3,
            4,
            5,
            6,
            7,
            8,
            9,
            10,
            11,
            12,
            13,
            14,
            15,
            16,
            17,
            18,
            19,
            20
           ],
           "yaxis": "y"
          },
          {
           "hovertemplate": "<b>%{hovertext}</b><br><br>league=PL<br>Years=2014-15<br>Age=%{x}<br>Rk=%{y}<extra></extra>",
           "hovertext": [
            "Chelsea FC FC",
            "Manchester City",
            "Arsenal FC",
            "Manchester United",
            "Tottenham Hotspur",
            "Liverpool FC",
            "Southampton FC",
            "Swansea City",
            "Stoke City",
            "Crystal Palace",
            "Everton FC",
            "West Ham United",
            "West Bromwich Albion",
            "Leicester City",
            "Newcastle United",
            "Sunderland AFC",
            "Aston Villa",
            "Hull City",
            "Burnley FC",
            "Queens Park Rangers"
           ],
           "ids": [
            "Chelsea FC FC",
            "Manchester City",
            "Arsenal FC",
            "Manchester United",
            "Tottenham Hotspur",
            "Liverpool FC",
            "Southampton FC",
            "Swansea City",
            "Stoke City",
            "Crystal Palace",
            "Everton FC",
            "West Ham United",
            "West Bromwich Albion",
            "Leicester City",
            "Newcastle United",
            "Sunderland AFC",
            "Aston Villa",
            "Hull City",
            "Burnley FC",
            "Queens Park Rangers"
           ],
           "legendgroup": "PL",
           "marker": {
            "color": "blue",
            "symbol": "circle"
           },
           "mode": "markers",
           "name": "PL",
           "orientation": "v",
           "showlegend": true,
           "type": "scatter",
           "x": [
            22.977778,
            24.275862,
            23.35,
            23.660377,
            23.25,
            22.456522,
            25.326531,
            24.313725,
            24.225,
            25.345238,
            22.46875,
            23.339286,
            26.342857,
            25.232143,
            22.653061,
            24.519231,
            23.459016,
            23.3,
            23.553191,
            23.929577
           ],
           "xaxis": "x",
           "y": [
            1,
            2,
            3,
            4,
            5,
            6,
            7,
            8,
            9,
            10,
            11,
            12,
            13,
            14,
            15,
            16,
            17,
            18,
            19,
            20
           ],
           "yaxis": "y"
          },
          {
           "hovertemplate": "<b>%{hovertext}</b><br><br>league=serieA<br>Years=2014-15<br>Age=%{x}<br>Rk=%{y}<extra></extra>",
           "hovertext": [
            "Juventus FC",
            "AS Roma",
            "SS Lazio",
            "ACF Fiorentina",
            "SSC Napoli",
            "Genoa CFC",
            "UC Sampdoria",
            "Inter Milan",
            "Torino FC",
            "AC Milan",
            "US Palermo",
            "US Sassuolo",
            "Hellas Verona",
            "Chievo Verona",
            "Empoli FC",
            "Udinese Calcio",
            "Atalanta BC",
            "Cagliari Calcio",
            "AC Cesena",
            "Parma FC"
           ],
           "ids": [
            "Juventus FC",
            "AS Roma",
            "SS Lazio",
            "ACF Fiorentina",
            "SSC Napoli",
            "Genoa CFC",
            "UC Sampdoria",
            "Inter Milan",
            "Torino FC",
            "AC Milan",
            "US Palermo",
            "US Sassuolo",
            "Hellas Verona",
            "Chievo Verona",
            "Empoli FC",
            "Udinese Calcio",
            "Atalanta BC",
            "Cagliari Calcio",
            "AC Cesena",
            "Parma FC"
           ],
           "legendgroup": "serieA",
           "marker": {
            "color": "green",
            "symbol": "circle"
           },
           "mode": "markers",
           "name": "serieA",
           "orientation": "v",
           "showlegend": true,
           "type": "scatter",
           "x": [
            22.356322,
            23.015385,
            22.977778,
            23.886792,
            24.851064,
            24.761364,
            23.756757,
            23.384615,
            24.677419,
            24.253165,
            23.457627,
            24.568182,
            24.465909,
            24.179245,
            22.982759,
            23.443038,
            23.57971,
            23,
            24.390244,
            23.678431
           ],
           "xaxis": "x",
           "y": [
            1,
            2,
            3,
            4,
            5,
            6,
            7,
            8,
            9,
            10,
            11,
            12,
            13,
            14,
            15,
            16,
            17,
            18,
            19,
            20
           ],
           "yaxis": "y"
          },
          {
           "hovertemplate": "<b>%{hovertext}</b><br><br>league=ligue1<br>Years=2014-15<br>Age=%{x}<br>Rk=%{y}<extra></extra>",
           "hovertext": [
            "Paris Saint-Germain",
            "Olympique Lyon",
            "AS Monaco",
            "Olympique Marseille",
            "Saint-Etienne",
            "FC Girondins Bordeaux",
            "Montpellier",
            "LOSC Lille",
            "Stade Rennais",
            "Guingamp",
            "OGC Nice",
            "SC Bastia",
            "SM Caen",
            "FC Nantes",
            "Stade Reims",
            "Lorient",
            "Toulouse",
            "FC Évian Thonon Gaillard",
            "FC Metz",
            "RC Lens"
           ],
           "ids": [
            "Paris Saint-Germain",
            "Olympique Lyon",
            "AS Monaco",
            "Olympique Marseille",
            "Saint-Etienne",
            "FC Girondins Bordeaux",
            "Montpellier",
            "LOSC Lille",
            "Stade Rennais",
            "Guingamp",
            "OGC Nice",
            "SC Bastia",
            "SM Caen",
            "FC Nantes",
            "Stade Reims",
            "Lorient",
            "Toulouse",
            "FC Évian Thonon Gaillard",
            "FC Metz",
            "RC Lens"
           ],
           "legendgroup": "ligue1",
           "marker": {
            "color": "black",
            "symbol": "circle"
           },
           "mode": "markers",
           "name": "ligue1",
           "orientation": "v",
           "showlegend": true,
           "type": "scatter",
           "x": [
            22.764706,
            24.0625,
            23.37037,
            24.5625,
            25.05,
            23.939394,
            23.48,
            22.583333,
            24.809524,
            27,
            24.923077,
            24.270833,
            25.96,
            24.25,
            24.809524,
            23.657895,
            23.95,
            25.818182,
            23.289474,
            22.823529
           ],
           "xaxis": "x",
           "y": [
            1,
            2,
            3,
            4,
            5,
            6,
            7,
            8,
            9,
            10,
            11,
            12,
            13,
            14,
            15,
            16,
            17,
            18,
            19,
            20
           ],
           "yaxis": "y"
          },
          {
           "hovertemplate": "<b>%{hovertext}</b><br><br>league=bundesliga<br>Years=2014-15<br>Age=%{x}<br>Rk=%{y}<extra></extra>",
           "hovertext": [
            "Bayern Munich",
            "VfL Wolfsburg",
            "Borussia Mönchengladbach",
            "Bayer 04 Leverkusen",
            "Augsburg",
            "Schalke 04",
            "Borussia Dortmund",
            "TSG 1899 Hoffenheim",
            "Eintracht Frankfurt",
            "SV Werder Bremen",
            "FSV Mainz 05",
            "FC FC Köln",
            "Hannover 96",
            "VfB Stuttgart",
            "Hertha BSC",
            "Hamburger SV",
            "SC Freiburg",
            "SC Paderborn 07"
           ],
           "ids": [
            "Bayern Munich",
            "VfL Wolfsburg",
            "Borussia Mönchengladbach",
            "Bayer 04 Leverkusen",
            "Augsburg",
            "Schalke 04",
            "Borussia Dortmund",
            "TSG 1899 Hoffenheim",
            "Eintracht Frankfurt",
            "SV Werder Bremen",
            "FSV Mainz 05",
            "FC FC Köln",
            "Hannover 96",
            "VfB Stuttgart",
            "Hertha BSC",
            "Hamburger SV",
            "SC Freiburg",
            "SC Paderborn 07"
           ],
           "legendgroup": "bundesliga",
           "marker": {
            "color": "red",
            "symbol": "circle"
           },
           "mode": "markers",
           "name": "bundesliga",
           "orientation": "v",
           "showlegend": true,
           "type": "scatter",
           "x": [
            23.473684,
            24.25,
            22.894737,
            21.888889,
            23.827586,
            24.04,
            23.647059,
            22.565217,
            24.617647,
            22.942857,
            25,
            23.703704,
            24,
            24.347826,
            25.038462,
            24.102564,
            23.5625,
            24.12
           ],
           "xaxis": "x",
           "y": [
            1,
            2,
            3,
            4,
            5,
            6,
            7,
            8,
            9,
            10,
            11,
            12,
            13,
            14,
            15,
            16,
            17,
            18
           ],
           "yaxis": "y"
          }
         ],
         "name": "2014-15"
        },
        {
         "data": [
          {
           "hovertemplate": "<b>%{hovertext}</b><br><br>league=liga<br>Years=2015-16<br>Age=%{x}<br>Rk=%{y}<extra></extra>",
           "hovertext": [
            "FC Barcelona",
            "Real Madrid",
            "Atlético de Madrid",
            "Villarreal CF",
            "Athletic Bilbao",
            "Celta de Vigo",
            "Sevilla FC",
            "Málaga CF",
            "Real Sociedad",
            "Real Betis Balompié",
            "UD Las Palmas",
            "Valencia CF",
            "RCD Espanyol Barcelona",
            "SD Eibar",
            "Deportivo de La Coruña",
            "Granada CF",
            "Sporting Gijón",
            "Rayo Vallecano",
            "Getafe CF",
            "Levante UD"
           ],
           "ids": [
            "FC Barcelona",
            "Real Madrid",
            "Atlético de Madrid",
            "Villarreal CF",
            "Athletic Bilbao",
            "Celta de Vigo",
            "Sevilla FC",
            "Málaga CF",
            "Real Sociedad",
            "Real Betis Balompié",
            "UD Las Palmas",
            "Valencia CF",
            "RCD Espanyol Barcelona",
            "SD Eibar",
            "Deportivo de La Coruña",
            "Granada CF",
            "Sporting Gijón",
            "Rayo Vallecano",
            "Getafe CF",
            "Levante UD"
           ],
           "legendgroup": "liga",
           "marker": {
            "color": "gold",
            "symbol": "circle"
           },
           "mode": "markers",
           "name": "liga",
           "orientation": "v",
           "showlegend": true,
           "type": "scatter",
           "x": [
            24.190476,
            23.272727,
            24.244444,
            25.324324,
            23.862069,
            25.818182,
            26.295455,
            25.325,
            24.866667,
            25.05,
            26.242424,
            23.888889,
            24.813953,
            25.777778,
            25.947368,
            24.65,
            23.6875,
            26.142857,
            26.076923,
            27.225806
           ],
           "xaxis": "x",
           "y": [
            1,
            2,
            3,
            4,
            5,
            6,
            7,
            8,
            9,
            10,
            11,
            12,
            13,
            14,
            15,
            16,
            17,
            18,
            19,
            20
           ],
           "yaxis": "y"
          },
          {
           "hovertemplate": "<b>%{hovertext}</b><br><br>league=PL<br>Years=2015-16<br>Age=%{x}<br>Rk=%{y}<extra></extra>",
           "hovertext": [
            "Leicester City",
            "Arsenal FC",
            "Tottenham Hotspur",
            "Manchester City",
            "Manchester United",
            "Southampton FC",
            "West Ham United",
            "Liverpool FC",
            "Stoke City",
            "Chelsea FC FC",
            "Everton FC",
            "Swansea City",
            "Watford FC",
            "West Bromwich Albion",
            "Crystal Palace",
            "AFC Bournemouth",
            "Sunderland AFC",
            "Newcastle United",
            "Norwich City",
            "Aston Villa"
           ],
           "ids": [
            "Leicester City",
            "Arsenal FC",
            "Tottenham Hotspur",
            "Manchester City",
            "Manchester United",
            "Southampton FC",
            "West Ham United",
            "Liverpool FC",
            "Stoke City",
            "Chelsea FC FC",
            "Everton FC",
            "Swansea City",
            "Watford FC",
            "West Bromwich Albion",
            "Crystal Palace",
            "AFC Bournemouth",
            "Sunderland AFC",
            "Newcastle United",
            "Norwich City",
            "Aston Villa"
           ],
           "legendgroup": "PL",
           "marker": {
            "color": "blue",
            "symbol": "circle"
           },
           "mode": "markers",
           "name": "PL",
           "orientation": "v",
           "showlegend": true,
           "type": "scatter",
           "x": [
            25.068966,
            23.296296,
            24.625,
            23,
            23.642857,
            24.5,
            24.218182,
            22.895833,
            26.096774,
            22.973684,
            24.028571,
            23.659091,
            25.444444,
            27.08,
            24.522727,
            24.318841,
            25.666667,
            23.163265,
            24.619048,
            25.032787
           ],
           "xaxis": "x",
           "y": [
            1,
            2,
            3,
            4,
            5,
            6,
            7,
            8,
            9,
            10,
            11,
            12,
            13,
            14,
            15,
            16,
            17,
            18,
            19,
            20
           ],
           "yaxis": "y"
          },
          {
           "hovertemplate": "<b>%{hovertext}</b><br><br>league=serieA<br>Years=2015-16<br>Age=%{x}<br>Rk=%{y}<extra></extra>",
           "hovertext": [
            "Juventus FC",
            "SSC Napoli",
            "AS Roma",
            "Inter Milan",
            "ACF Fiorentina",
            "US Sassuolo",
            "AC Milan",
            "SS Lazio",
            "Chievo Verona",
            "Empoli FC",
            "Genoa CFC",
            "Torino FC",
            "Atalanta BC",
            "Bologna FC 1909",
            "UC Sampdoria",
            "US Palermo",
            "Udinese Calcio",
            "Carpi FC 1909",
            "Frosinone Calcio",
            "Hellas Verona"
           ],
           "ids": [
            "Juventus FC",
            "SSC Napoli",
            "AS Roma",
            "Inter Milan",
            "ACF Fiorentina",
            "US Sassuolo",
            "AC Milan",
            "SS Lazio",
            "Chievo Verona",
            "Empoli FC",
            "Genoa CFC",
            "Torino FC",
            "Atalanta BC",
            "Bologna FC 1909",
            "UC Sampdoria",
            "US Palermo",
            "Udinese Calcio",
            "Carpi FC 1909",
            "Frosinone Calcio",
            "Hellas Verona"
           ],
           "legendgroup": "serieA",
           "marker": {
            "color": "green",
            "symbol": "circle"
           },
           "mode": "markers",
           "name": "serieA",
           "orientation": "v",
           "showlegend": true,
           "type": "scatter",
           "x": [
            22.280374,
            24.12,
            22.804598,
            23.206522,
            24.871429,
            23.794872,
            24.041667,
            23.903846,
            23.835165,
            22.897959,
            24.534247,
            23.163636,
            23.989247,
            25.264706,
            24.318182,
            23.046875,
            23.512821,
            24.378378,
            24.162162,
            25.103896
           ],
           "xaxis": "x",
           "y": [
            1,
            2,
            3,
            4,
            5,
            6,
            7,
            8,
            9,
            10,
            11,
            12,
            13,
            14,
            15,
            16,
            17,
            18,
            19,
            20
           ],
           "yaxis": "y"
          },
          {
           "hovertemplate": "<b>%{hovertext}</b><br><br>league=ligue1<br>Years=2015-16<br>Age=%{x}<br>Rk=%{y}<extra></extra>",
           "hovertext": [
            "Paris Saint-Germain",
            "Olympique Lyon",
            "AS Monaco",
            "OGC Nice",
            "LOSC Lille",
            "Saint-Etienne",
            "SM Caen",
            "Stade Rennais",
            "SCO Angers",
            "SC Bastia",
            "FC Girondins Bordeaux",
            "Montpellier",
            "Olympique Marseille",
            "FC Nantes",
            "Lorient",
            "Guingamp",
            "Toulouse",
            "Stade Reims",
            "GFC Ajaccio",
            "ESTAC Troyes"
           ],
           "ids": [
            "Paris Saint-Germain",
            "Olympique Lyon",
            "AS Monaco",
            "OGC Nice",
            "LOSC Lille",
            "Saint-Etienne",
            "SM Caen",
            "Stade Rennais",
            "SCO Angers",
            "SC Bastia",
            "FC Girondins Bordeaux",
            "Montpellier",
            "Olympique Marseille",
            "FC Nantes",
            "Lorient",
            "Guingamp",
            "Toulouse",
            "Stade Reims",
            "GFC Ajaccio",
            "ESTAC Troyes"
           ],
           "legendgroup": "ligue1",
           "marker": {
            "color": "black",
            "symbol": "circle"
           },
           "mode": "markers",
           "name": "ligue1",
           "orientation": "v",
           "showlegend": true,
           "type": "scatter",
           "x": [
            23.45,
            23.625,
            22.389831,
            22.738095,
            22.926829,
            23.566667,
            24.621622,
            24.26087,
            26.333333,
            23.433333,
            22.538462,
            23.894737,
            24.341463,
            24.785714,
            24.103448,
            24.357143,
            23.521739,
            24.26087,
            26.473684,
            25.088235
           ],
           "xaxis": "x",
           "y": [
            1,
            2,
            3,
            4,
            5,
            6,
            7,
            8,
            9,
            10,
            11,
            12,
            13,
            14,
            15,
            16,
            17,
            18,
            19,
            20
           ],
           "yaxis": "y"
          },
          {
           "hovertemplate": "<b>%{hovertext}</b><br><br>league=bundesliga<br>Years=2015-16<br>Age=%{x}<br>Rk=%{y}<extra></extra>",
           "hovertext": [
            "Bayern Munich",
            "Borussia Dortmund",
            "Bayer 04 Leverkusen",
            "Borussia Mönchengladbach",
            "Schalke 04",
            "FSV Mainz 05",
            "Hertha BSC",
            "VfL Wolfsburg",
            "FC FC Köln",
            "Hamburger SV",
            "FC Ingolstadt 04",
            "Augsburg",
            "SV Werder Bremen",
            "SV Darmstadt 98",
            "TSG 1899 Hoffenheim",
            "Eintracht Frankfurt",
            "VfB Stuttgart",
            "Hannover 96"
           ],
           "ids": [
            "Bayern Munich",
            "Borussia Dortmund",
            "Bayer 04 Leverkusen",
            "Borussia Mönchengladbach",
            "Schalke 04",
            "FSV Mainz 05",
            "Hertha BSC",
            "VfL Wolfsburg",
            "FC FC Köln",
            "Hamburger SV",
            "FC Ingolstadt 04",
            "Augsburg",
            "SV Werder Bremen",
            "SV Darmstadt 98",
            "TSG 1899 Hoffenheim",
            "Eintracht Frankfurt",
            "VfB Stuttgart",
            "Hannover 96"
           ],
           "legendgroup": "bundesliga",
           "marker": {
            "color": "red",
            "symbol": "circle"
           },
           "mode": "markers",
           "name": "bundesliga",
           "orientation": "v",
           "showlegend": true,
           "type": "scatter",
           "x": [
            24.35,
            23.428571,
            22.219512,
            23.904762,
            23.909091,
            24.826087,
            24.041667,
            23.92,
            25.111111,
            23.894737,
            26.333333,
            24.625,
            24.307692,
            24.703704,
            22.288136,
            25.142857,
            23.605263,
            24.684211
           ],
           "xaxis": "x",
           "y": [
            1,
            2,
            3,
            4,
            5,
            6,
            7,
            8,
            9,
            10,
            11,
            12,
            13,
            14,
            15,
            16,
            17,
            18
           ],
           "yaxis": "y"
          }
         ],
         "name": "2015-16"
        },
        {
         "data": [
          {
           "hovertemplate": "<b>%{hovertext}</b><br><br>league=liga<br>Years=2016-17<br>Age=%{x}<br>Rk=%{y}<extra></extra>",
           "hovertext": [
            "Real Madrid",
            "FC Barcelona",
            "Atlético de Madrid",
            "Sevilla FC",
            "Villarreal CF",
            "Real Sociedad",
            "Athletic Bilbao",
            "RCD Espanyol Barcelona",
            "Deportivo Alavés",
            "SD Eibar",
            "Málaga CF",
            "Valencia CF",
            "Celta de Vigo",
            "UD Las Palmas",
            "Real Betis Balompié",
            "Deportivo de La Coruña",
            "CD Leganés",
            "Sporting Gijón",
            "CA Osasuna",
            "Granada CF"
           ],
           "ids": [
            "Real Madrid",
            "FC Barcelona",
            "Atlético de Madrid",
            "Sevilla FC",
            "Villarreal CF",
            "Real Sociedad",
            "Athletic Bilbao",
            "RCD Espanyol Barcelona",
            "Deportivo Alavés",
            "SD Eibar",
            "Málaga CF",
            "Valencia CF",
            "Celta de Vigo",
            "UD Las Palmas",
            "Real Betis Balompié",
            "Deportivo de La Coruña",
            "CD Leganés",
            "Sporting Gijón",
            "CA Osasuna",
            "Granada CF"
           ],
           "legendgroup": "liga",
           "marker": {
            "color": "gold",
            "symbol": "circle"
           },
           "mode": "markers",
           "name": "liga",
           "orientation": "v",
           "showlegend": true,
           "type": "scatter",
           "x": [
            22.192308,
            24.708333,
            23.325581,
            25.972222,
            23.4,
            23.96,
            24.5,
            25.595238,
            26.405405,
            24.906977,
            25.514286,
            24.970588,
            23.666667,
            26.032258,
            25.777778,
            26.106383,
            25.731707,
            25.1,
            26.833333,
            24.792208
           ],
           "xaxis": "x",
           "y": [
            1,
            2,
            3,
            4,
            5,
            6,
            7,
            8,
            9,
            10,
            11,
            12,
            13,
            14,
            15,
            16,
            17,
            18,
            19,
            20
           ],
           "yaxis": "y"
          },
          {
           "hovertemplate": "<b>%{hovertext}</b><br><br>league=PL<br>Years=2016-17<br>Age=%{x}<br>Rk=%{y}<extra></extra>",
           "hovertext": [
            "Chelsea FC FC",
            "Tottenham Hotspur",
            "Manchester City",
            "Liverpool FC",
            "Arsenal FC",
            "Manchester United",
            "Everton FC",
            "Southampton FC",
            "AFC Bournemouth",
            "West Bromwich Albion",
            "West Ham United",
            "Leicester City",
            "Stoke City",
            "Crystal Palace",
            "Swansea City",
            "Burnley FC",
            "Watford FC",
            "Hull City",
            "Middlesbrough",
            "Sunderland AFC"
           ],
           "ids": [
            "Chelsea FC FC",
            "Tottenham Hotspur",
            "Manchester City",
            "Liverpool FC",
            "Arsenal FC",
            "Manchester United",
            "Everton FC",
            "Southampton FC",
            "AFC Bournemouth",
            "West Bromwich Albion",
            "West Ham United",
            "Leicester City",
            "Stoke City",
            "Crystal Palace",
            "Swansea City",
            "Burnley FC",
            "Watford FC",
            "Hull City",
            "Middlesbrough",
            "Sunderland AFC"
           ],
           "legendgroup": "PL",
           "marker": {
            "color": "blue",
            "symbol": "circle"
           },
           "mode": "markers",
           "name": "PL",
           "orientation": "v",
           "showlegend": true,
           "type": "scatter",
           "x": [
            23.912281,
            23.625,
            23.666667,
            23.9,
            23.791667,
            23.478261,
            25.675676,
            25.285714,
            23.836735,
            26.074074,
            23.789474,
            25.028571,
            25.538462,
            24.934783,
            25.473684,
            24.339623,
            24.672131,
            25.121951,
            25.842105,
            26.229167
           ],
           "xaxis": "x",
           "y": [
            1,
            2,
            3,
            4,
            5,
            6,
            7,
            8,
            9,
            10,
            11,
            12,
            13,
            14,
            15,
            16,
            17,
            18,
            19,
            20
           ],
           "yaxis": "y"
          },
          {
           "hovertemplate": "<b>%{hovertext}</b><br><br>league=serieA<br>Years=2016-17<br>Age=%{x}<br>Rk=%{y}<extra></extra>",
           "hovertext": [
            "Juventus FC",
            "AS Roma",
            "SSC Napoli",
            "Atalanta BC",
            "SS Lazio",
            "AC Milan",
            "Inter Milan",
            "ACF Fiorentina",
            "Torino FC",
            "UC Sampdoria",
            "Cagliari Calcio",
            "US Sassuolo",
            "Udinese Calcio",
            "Chievo Verona",
            "Bologna FC 1909",
            "Genoa CFC",
            "FC Crotone",
            "Empoli FC",
            "US Palermo",
            "Delfino Pescara 1936"
           ],
           "ids": [
            "Juventus FC",
            "AS Roma",
            "SSC Napoli",
            "Atalanta BC",
            "SS Lazio",
            "AC Milan",
            "Inter Milan",
            "ACF Fiorentina",
            "Torino FC",
            "UC Sampdoria",
            "Cagliari Calcio",
            "US Sassuolo",
            "Udinese Calcio",
            "Chievo Verona",
            "Bologna FC 1909",
            "Genoa CFC",
            "FC Crotone",
            "Empoli FC",
            "US Palermo",
            "Delfino Pescara 1936"
           ],
           "legendgroup": "serieA",
           "marker": {
            "color": "green",
            "symbol": "circle"
           },
           "mode": "markers",
           "name": "serieA",
           "orientation": "v",
           "showlegend": true,
           "type": "scatter",
           "x": [
            23.053191,
            23.683544,
            22.978723,
            24.126437,
            24.045455,
            25.365854,
            22.84,
            23.566667,
            23.867647,
            24.486842,
            23.803922,
            23.5,
            23.723684,
            23.875,
            24.328125,
            23.714286,
            23.538462,
            22.977778,
            23.490909,
            23.514851
           ],
           "xaxis": "x",
           "y": [
            1,
            2,
            3,
            4,
            5,
            6,
            7,
            8,
            9,
            10,
            11,
            12,
            13,
            14,
            15,
            16,
            17,
            18,
            19,
            20
           ],
           "yaxis": "y"
          },
          {
           "hovertemplate": "<b>%{hovertext}</b><br><br>league=ligue1<br>Years=2016-17<br>Age=%{x}<br>Rk=%{y}<extra></extra>",
           "hovertext": [
            "AS Monaco",
            "Paris Saint-Germain",
            "OGC Nice",
            "Olympique Lyon",
            "Olympique Marseille",
            "FC Girondins Bordeaux",
            "FC Nantes",
            "Saint-Etienne",
            "Stade Rennais",
            "Guingamp",
            "LOSC Lille",
            "SCO Angers",
            "Toulouse",
            "FC Metz",
            "Montpellier",
            "Dijon FCO",
            "SM Caen",
            "Lorient",
            "Nancy-Lorraine",
            "SC Bastia"
           ],
           "ids": [
            "AS Monaco",
            "Paris Saint-Germain",
            "OGC Nice",
            "Olympique Lyon",
            "Olympique Marseille",
            "FC Girondins Bordeaux",
            "FC Nantes",
            "Saint-Etienne",
            "Stade Rennais",
            "Guingamp",
            "LOSC Lille",
            "SCO Angers",
            "Toulouse",
            "FC Metz",
            "Montpellier",
            "Dijon FCO",
            "SM Caen",
            "Lorient",
            "Nancy-Lorraine",
            "SC Bastia"
           ],
           "legendgroup": "ligue1",
           "marker": {
            "color": "black",
            "symbol": "circle"
           },
           "mode": "markers",
           "name": "ligue1",
           "orientation": "v",
           "showlegend": true,
           "type": "scatter",
           "x": [
            23.471698,
            23.903226,
            23.7,
            23.038462,
            24.843137,
            24.535714,
            24.64,
            24.333333,
            23.913043,
            26.424242,
            24.369565,
            26.282051,
            23,
            24.415094,
            23.9,
            24.62069,
            25.090909,
            23.422222,
            23.173913,
            24.342857
           ],
           "xaxis": "x",
           "y": [
            1,
            2,
            3,
            4,
            5,
            6,
            7,
            8,
            9,
            10,
            11,
            12,
            13,
            14,
            15,
            16,
            17,
            18,
            19,
            20
           ],
           "yaxis": "y"
          },
          {
           "hovertemplate": "<b>%{hovertext}</b><br><br>league=bundesliga<br>Years=2016-17<br>Age=%{x}<br>Rk=%{y}<extra></extra>",
           "hovertext": [
            "Bayern Munich",
            "RB Leipzig",
            "Borussia Dortmund",
            "TSG 1899 Hoffenheim",
            "FC FC Köln",
            "Hertha BSC",
            "SC Freiburg",
            "SV Werder Bremen",
            "Borussia Mönchengladbach",
            "Schalke 04",
            "Eintracht Frankfurt",
            "Bayer 04 Leverkusen",
            "Augsburg",
            "Hamburger SV",
            "FSV Mainz 05",
            "VfL Wolfsburg",
            "FC Ingolstadt 04",
            "SV Darmstadt 98"
           ],
           "ids": [
            "Bayern Munich",
            "RB Leipzig",
            "Borussia Dortmund",
            "TSG 1899 Hoffenheim",
            "FC FC Köln",
            "Hertha BSC",
            "SC Freiburg",
            "SV Werder Bremen",
            "Borussia Mönchengladbach",
            "Schalke 04",
            "Eintracht Frankfurt",
            "Bayer 04 Leverkusen",
            "Augsburg",
            "Hamburger SV",
            "FSV Mainz 05",
            "VfL Wolfsburg",
            "FC Ingolstadt 04",
            "SV Darmstadt 98"
           ],
           "legendgroup": "bundesliga",
           "marker": {
            "color": "red",
            "symbol": "circle"
           },
           "mode": "markers",
           "name": "bundesliga",
           "orientation": "v",
           "showlegend": true,
           "type": "scatter",
           "x": [
            22.846154,
            22.576923,
            23.9,
            22.979592,
            24.157895,
            25.529412,
            23.323529,
            24.461538,
            22.875,
            23.705882,
            23,
            22.447368,
            25.903226,
            24.057143,
            24.71875,
            23.846154,
            23.55,
            25.708333
           ],
           "xaxis": "x",
           "y": [
            1,
            2,
            3,
            4,
            5,
            6,
            7,
            8,
            9,
            10,
            11,
            12,
            13,
            14,
            15,
            16,
            17,
            18
           ],
           "yaxis": "y"
          }
         ],
         "name": "2016-17"
        },
        {
         "data": [
          {
           "hovertemplate": "<b>%{hovertext}</b><br><br>league=liga<br>Years=2017-18<br>Age=%{x}<br>Rk=%{y}<extra></extra>",
           "hovertext": [
            "FC Barcelona",
            "Atlético de Madrid",
            "Real Madrid",
            "Valencia CF",
            "Villarreal CF",
            "Real Betis Balompié",
            "Sevilla FC",
            "Getafe CF",
            "SD Eibar",
            "Girona FC",
            "RCD Espanyol Barcelona",
            "Real Sociedad",
            "Celta de Vigo",
            "Deportivo Alavés",
            "Levante UD",
            "Athletic Bilbao",
            "CD Leganés",
            "Deportivo de La Coruña",
            "UD Las Palmas",
            "Málaga CF"
           ],
           "ids": [
            "FC Barcelona",
            "Atlético de Madrid",
            "Real Madrid",
            "Valencia CF",
            "Villarreal CF",
            "Real Betis Balompié",
            "Sevilla FC",
            "Getafe CF",
            "SD Eibar",
            "Girona FC",
            "RCD Espanyol Barcelona",
            "Real Sociedad",
            "Celta de Vigo",
            "Deportivo Alavés",
            "Levante UD",
            "Athletic Bilbao",
            "CD Leganés",
            "Deportivo de La Coruña",
            "UD Las Palmas",
            "Málaga CF"
           ],
           "legendgroup": "liga",
           "marker": {
            "color": "gold",
            "symbol": "circle"
           },
           "mode": "markers",
           "name": "liga",
           "orientation": "v",
           "showlegend": true,
           "type": "scatter",
           "x": [
            25,
            24.210526,
            22.947368,
            25.782609,
            24.090909,
            26.604651,
            26.4375,
            27.14,
            24.833333,
            25.357143,
            27.323529,
            25.107143,
            24.228571,
            23.904762,
            25.1,
            25,
            25.511628,
            26.725,
            26.088889,
            26.2
           ],
           "xaxis": "x",
           "y": [
            1,
            2,
            3,
            4,
            5,
            6,
            7,
            8,
            9,
            10,
            11,
            12,
            13,
            14,
            15,
            16,
            17,
            18,
            19,
            20
           ],
           "yaxis": "y"
          },
          {
           "hovertemplate": "<b>%{hovertext}</b><br><br>league=PL<br>Years=2017-18<br>Age=%{x}<br>Rk=%{y}<extra></extra>",
           "hovertext": [
            "Manchester City",
            "Manchester United",
            "Tottenham Hotspur",
            "Liverpool FC",
            "Chelsea FC FC",
            "Arsenal FC",
            "Burnley FC",
            "Everton FC",
            "Leicester City",
            "Newcastle United",
            "Crystal Palace",
            "AFC Bournemouth",
            "West Ham United",
            "Watford FC",
            "Brighton & Hove Albion",
            "Huddersfield Town",
            "Southampton FC",
            "Swansea City",
            "Stoke City",
            "West Bromwich Albion"
           ],
           "ids": [
            "Manchester City",
            "Manchester United",
            "Tottenham Hotspur",
            "Liverpool FC",
            "Chelsea FC FC",
            "Arsenal FC",
            "Burnley FC",
            "Everton FC",
            "Leicester City",
            "Newcastle United",
            "Crystal Palace",
            "AFC Bournemouth",
            "West Ham United",
            "Watford FC",
            "Brighton & Hove Albion",
            "Huddersfield Town",
            "Southampton FC",
            "Swansea City",
            "Stoke City",
            "West Bromwich Albion"
           ],
           "legendgroup": "PL",
           "marker": {
            "color": "blue",
            "symbol": "circle"
           },
           "mode": "markers",
           "name": "PL",
           "orientation": "v",
           "showlegend": true,
           "type": "scatter",
           "x": [
            23.828125,
            23.5,
            23.08,
            23.551724,
            23.267606,
            25.178571,
            25.410256,
            24.302326,
            25.851852,
            24.410714,
            23.787879,
            25.275862,
            24.658537,
            25.33871,
            25.133333,
            24.512195,
            23.615385,
            24.555556,
            24.888889,
            24.535714
           ],
           "xaxis": "x",
           "y": [
            1,
            2,
            3,
            4,
            5,
            6,
            7,
            8,
            9,
            10,
            11,
            12,
            13,
            14,
            15,
            16,
            17,
            18,
            19,
            20
           ],
           "yaxis": "y"
          },
          {
           "hovertemplate": "<b>%{hovertext}</b><br><br>league=serieA<br>Years=2017-18<br>Age=%{x}<br>Rk=%{y}<extra></extra>",
           "hovertext": [
            "Juventus FC",
            "SSC Napoli",
            "AS Roma",
            "Inter Milan",
            "SS Lazio",
            "AC Milan",
            "Atalanta BC",
            "ACF Fiorentina",
            "Torino FC",
            "UC Sampdoria",
            "US Sassuolo",
            "Genoa CFC",
            "Chievo Verona",
            "Udinese Calcio",
            "Bologna FC 1909",
            "Cagliari Calcio",
            "SPAL 2013",
            "FC Crotone",
            "Hellas Verona",
            "Benevento Calcio"
           ],
           "ids": [
            "Juventus FC",
            "SSC Napoli",
            "AS Roma",
            "Inter Milan",
            "SS Lazio",
            "AC Milan",
            "Atalanta BC",
            "ACF Fiorentina",
            "Torino FC",
            "UC Sampdoria",
            "US Sassuolo",
            "Genoa CFC",
            "Chievo Verona",
            "Udinese Calcio",
            "Bologna FC 1909",
            "Cagliari Calcio",
            "SPAL 2013",
            "FC Crotone",
            "Hellas Verona",
            "Benevento Calcio"
           ],
           "legendgroup": "serieA",
           "marker": {
            "color": "green",
            "symbol": "circle"
           },
           "mode": "markers",
           "name": "serieA",
           "orientation": "v",
           "showlegend": true,
           "type": "scatter",
           "x": [
            22.940476,
            23.761905,
            23.821918,
            23.141026,
            23.085714,
            24.468085,
            23.27551,
            23.876923,
            23.442308,
            23.272727,
            22.744681,
            23.653846,
            23.779221,
            24.115385,
            24.081633,
            24.9375,
            24.118644,
            23.673077,
            24.872727,
            25.061538
           ],
           "xaxis": "x",
           "y": [
            1,
            2,
            3,
            4,
            5,
            6,
            7,
            8,
            9,
            10,
            11,
            12,
            13,
            14,
            15,
            16,
            17,
            18,
            19,
            20
           ],
           "yaxis": "y"
          },
          {
           "hovertemplate": "<b>%{hovertext}</b><br><br>league=ligue1<br>Years=2017-18<br>Age=%{x}<br>Rk=%{y}<extra></extra>",
           "hovertext": [
            "Paris Saint-Germain",
            "AS Monaco",
            "Olympique Lyon",
            "Olympique Marseille",
            "Stade Rennais",
            "FC Girondins Bordeaux",
            "Saint-Etienne",
            "OGC Nice",
            "FC Nantes",
            "Montpellier",
            "Dijon FCO",
            "Guingamp",
            "Amiens SC",
            "SCO Angers",
            "RC Strasbourg Alsace",
            "SM Caen",
            "LOSC Lille",
            "Toulouse",
            "ESTAC Troyes",
            "FC Metz"
           ],
           "ids": [
            "Paris Saint-Germain",
            "AS Monaco",
            "Olympique Lyon",
            "Olympique Marseille",
            "Stade Rennais",
            "FC Girondins Bordeaux",
            "Saint-Etienne",
            "OGC Nice",
            "FC Nantes",
            "Montpellier",
            "Dijon FCO",
            "Guingamp",
            "Amiens SC",
            "SCO Angers",
            "RC Strasbourg Alsace",
            "SM Caen",
            "LOSC Lille",
            "Toulouse",
            "ESTAC Troyes",
            "FC Metz"
           ],
           "legendgroup": "ligue1",
           "marker": {
            "color": "black",
            "symbol": "circle"
           },
           "mode": "markers",
           "name": "ligue1",
           "orientation": "v",
           "showlegend": true,
           "type": "scatter",
           "x": [
            24.8,
            22.959184,
            22.45,
            24.842105,
            23.926829,
            23.458333,
            24.243902,
            23.735294,
            25.16,
            24.366667,
            24.44,
            25.096774,
            25.294118,
            25.230769,
            25.4,
            24.15625,
            23.213115,
            25.384615,
            26.25,
            24.068182
           ],
           "xaxis": "x",
           "y": [
            1,
            2,
            3,
            4,
            5,
            6,
            7,
            8,
            9,
            10,
            11,
            12,
            13,
            14,
            15,
            16,
            17,
            18,
            19,
            20
           ],
           "yaxis": "y"
          },
          {
           "hovertemplate": "<b>%{hovertext}</b><br><br>league=bundesliga<br>Years=2017-18<br>Age=%{x}<br>Rk=%{y}<extra></extra>",
           "hovertext": [
            "Bayern Munich",
            "Schalke 04",
            "TSG 1899 Hoffenheim",
            "Borussia Dortmund",
            "Bayer 04 Leverkusen",
            "RB Leipzig",
            "VfB Stuttgart",
            "Eintracht Frankfurt",
            "Borussia Mönchengladbach",
            "Hertha BSC",
            "SV Werder Bremen",
            "Augsburg",
            "Hannover 96",
            "FSV Mainz 05",
            "SC Freiburg",
            "VfL Wolfsburg",
            "Hamburger SV",
            "FC FC Köln"
           ],
           "ids": [
            "Bayern Munich",
            "Schalke 04",
            "TSG 1899 Hoffenheim",
            "Borussia Dortmund",
            "Bayer 04 Leverkusen",
            "RB Leipzig",
            "VfB Stuttgart",
            "Eintracht Frankfurt",
            "Borussia Mönchengladbach",
            "Hertha BSC",
            "SV Werder Bremen",
            "Augsburg",
            "Hannover 96",
            "FSV Mainz 05",
            "SC Freiburg",
            "VfL Wolfsburg",
            "Hamburger SV",
            "FC FC Köln"
           ],
           "legendgroup": "bundesliga",
           "marker": {
            "color": "red",
            "symbol": "circle"
           },
           "mode": "markers",
           "name": "bundesliga",
           "orientation": "v",
           "showlegend": true,
           "type": "scatter",
           "x": [
            25.08,
            24.238095,
            22.487179,
            23.166667,
            22.875,
            21.724138,
            24.25,
            23.166667,
            21.913043,
            22.789474,
            24.647059,
            25.064516,
            23.571429,
            24.575758,
            23.16129,
            23.585366,
            22.935484,
            24.066667
           ],
           "xaxis": "x",
           "y": [
            1,
            2,
            3,
            4,
            5,
            6,
            7,
            8,
            9,
            10,
            11,
            12,
            13,
            14,
            15,
            16,
            17,
            18
           ],
           "yaxis": "y"
          }
         ],
         "name": "2017-18"
        },
        {
         "data": [
          {
           "hovertemplate": "<b>%{hovertext}</b><br><br>league=liga<br>Years=2018-19<br>Age=%{x}<br>Rk=%{y}<extra></extra>",
           "hovertext": [
            "FC Barcelona",
            "Atlético de Madrid",
            "Real Madrid",
            "Valencia CF",
            "Getafe CF",
            "Sevilla FC",
            "RCD Espanyol Barcelona",
            "Athletic Bilbao",
            "Real Sociedad",
            "Real Betis Balompié",
            "Deportivo Alavés",
            "SD Eibar",
            "CD Leganés",
            "Villarreal CF",
            "Levante UD",
            "Real Valladolid CF",
            "Celta de Vigo",
            "Girona FC",
            "SD Huesca",
            "Rayo Vallecano"
           ],
           "ids": [
            "FC Barcelona",
            "Atlético de Madrid",
            "Real Madrid",
            "Valencia CF",
            "Getafe CF",
            "Sevilla FC",
            "RCD Espanyol Barcelona",
            "Athletic Bilbao",
            "Real Sociedad",
            "Real Betis Balompié",
            "Deportivo Alavés",
            "SD Eibar",
            "CD Leganés",
            "Villarreal CF",
            "Levante UD",
            "Real Valladolid CF",
            "Celta de Vigo",
            "Girona FC",
            "SD Huesca",
            "Rayo Vallecano"
           ],
           "legendgroup": "liga",
           "marker": {
            "color": "gold",
            "symbol": "circle"
           },
           "mode": "markers",
           "name": "liga",
           "orientation": "v",
           "showlegend": true,
           "type": "scatter",
           "x": [
            24.236842,
            23.75,
            22.633333,
            24.659091,
            26.25,
            24.714286,
            26,
            25.3,
            25.615385,
            25.820513,
            24.52,
            26,
            24.754386,
            25,
            25.410256,
            24.069767,
            24.512195,
            24.909091,
            26.044444,
            26.127273
           ],
           "xaxis": "x",
           "y": [
            1,
            2,
            3,
            4,
            5,
            6,
            7,
            8,
            9,
            10,
            11,
            12,
            13,
            14,
            15,
            16,
            17,
            18,
            19,
            20
           ],
           "yaxis": "y"
          },
          {
           "hovertemplate": "<b>%{hovertext}</b><br><br>league=PL<br>Years=2018-19<br>Age=%{x}<br>Rk=%{y}<extra></extra>",
           "hovertext": [
            "Manchester City",
            "Liverpool FC",
            "Chelsea FC FC",
            "Tottenham Hotspur",
            "Arsenal FC",
            "Manchester United",
            "Wolverhampton Wanderers",
            "Everton FC",
            "Leicester City",
            "West Ham United",
            "Watford FC",
            "Crystal Palace",
            "Newcastle United",
            "AFC Bournemouth",
            "Burnley FC",
            "Southampton FC",
            "Brighton & Hove Albion",
            "Cardiff City",
            "Fulham FC",
            "Huddersfield Town"
           ],
           "ids": [
            "Manchester City",
            "Liverpool FC",
            "Chelsea FC FC",
            "Tottenham Hotspur",
            "Arsenal FC",
            "Manchester United",
            "Wolverhampton Wanderers",
            "Everton FC",
            "Leicester City",
            "West Ham United",
            "Watford FC",
            "Crystal Palace",
            "Newcastle United",
            "AFC Bournemouth",
            "Burnley FC",
            "Southampton FC",
            "Brighton & Hove Albion",
            "Cardiff City",
            "Fulham FC",
            "Huddersfield Town"
           ],
           "legendgroup": "PL",
           "marker": {
            "color": "blue",
            "symbol": "circle"
           },
           "mode": "markers",
           "name": "PL",
           "orientation": "v",
           "showlegend": true,
           "type": "scatter",
           "x": [
            22,
            23.184211,
            23.885246,
            22.375,
            25.206897,
            24.052632,
            24.024691,
            25.119048,
            24.911765,
            24.6875,
            23.830189,
            26.333333,
            25,
            25.866667,
            27.473684,
            25.117647,
            24.666667,
            26.114286,
            25.068966,
            25.125
           ],
           "xaxis": "x",
           "y": [
            1,
            2,
            3,
            4,
            5,
            6,
            7,
            8,
            9,
            10,
            11,
            12,
            13,
            14,
            15,
            16,
            17,
            18,
            19,
            20
           ],
           "yaxis": "y"
          },
          {
           "hovertemplate": "<b>%{hovertext}</b><br><br>league=serieA<br>Years=2018-19<br>Age=%{x}<br>Rk=%{y}<extra></extra>",
           "hovertext": [
            "Juventus FC",
            "SSC Napoli",
            "Atalanta BC",
            "Inter Milan",
            "AC Milan",
            "AS Roma",
            "Torino FC",
            "SS Lazio",
            "UC Sampdoria",
            "Bologna FC 1909",
            "US Sassuolo",
            "Udinese Calcio",
            "SPAL 2013",
            "Parma FC",
            "Cagliari Calcio",
            "ACF Fiorentina",
            "Genoa CFC",
            "Empoli FC",
            "Frosinone Calcio",
            "Chievo Verona"
           ],
           "ids": [
            "Juventus FC",
            "SSC Napoli",
            "Atalanta BC",
            "Inter Milan",
            "AC Milan",
            "AS Roma",
            "Torino FC",
            "SS Lazio",
            "UC Sampdoria",
            "Bologna FC 1909",
            "US Sassuolo",
            "Udinese Calcio",
            "SPAL 2013",
            "Parma FC",
            "Cagliari Calcio",
            "ACF Fiorentina",
            "Genoa CFC",
            "Empoli FC",
            "Frosinone Calcio",
            "Chievo Verona"
           ],
           "legendgroup": "serieA",
           "marker": {
            "color": "green",
            "symbol": "circle"
           },
           "mode": "markers",
           "name": "serieA",
           "orientation": "v",
           "showlegend": true,
           "type": "scatter",
           "x": [
            25.590909,
            24.522727,
            22.578947,
            22.469697,
            25.45,
            23.606557,
            23.15873,
            24.95122,
            23.936508,
            24.169811,
            22.947368,
            24.754098,
            24.46875,
            25,
            25.06383,
            23.380952,
            24.114286,
            23.134328,
            25.857143,
            24.84507
           ],
           "xaxis": "x",
           "y": [
            1,
            2,
            3,
            4,
            5,
            6,
            7,
            8,
            9,
            10,
            11,
            12,
            13,
            14,
            15,
            16,
            17,
            18,
            19,
            20
           ],
           "yaxis": "y"
          },
          {
           "hovertemplate": "<b>%{hovertext}</b><br><br>league=ligue1<br>Years=2018-19<br>Age=%{x}<br>Rk=%{y}<extra></extra>",
           "hovertext": [
            "Paris Saint-Germain",
            "LOSC Lille",
            "Olympique Lyon",
            "Saint-Etienne",
            "Olympique Marseille",
            "Montpellier",
            "OGC Nice",
            "Stade Reims",
            "Nîmes Olympique",
            "Stade Rennais",
            "RC Strasbourg Alsace",
            "FC Nantes",
            "SCO Angers",
            "FC Girondins Bordeaux",
            "Amiens SC",
            "Toulouse",
            "AS Monaco",
            "Dijon FCO",
            "SM Caen",
            "Guingamp"
           ],
           "ids": [
            "Paris Saint-Germain",
            "LOSC Lille",
            "Olympique Lyon",
            "Saint-Etienne",
            "Olympique Marseille",
            "Montpellier",
            "OGC Nice",
            "Stade Reims",
            "Nîmes Olympique",
            "Stade Rennais",
            "RC Strasbourg Alsace",
            "FC Nantes",
            "SCO Angers",
            "FC Girondins Bordeaux",
            "Amiens SC",
            "Toulouse",
            "AS Monaco",
            "Dijon FCO",
            "SM Caen",
            "Guingamp"
           ],
           "legendgroup": "ligue1",
           "marker": {
            "color": "black",
            "symbol": "circle"
           },
           "mode": "markers",
           "name": "ligue1",
           "orientation": "v",
           "showlegend": true,
           "type": "scatter",
           "x": [
            23.307692,
            24.371429,
            21.558824,
            22.9,
            24.347826,
            24.26087,
            22.52,
            24.344828,
            24.666667,
            24.344828,
            25.892857,
            25.060606,
            25.205128,
            22.594595,
            25.458333,
            23.432432,
            22.712121,
            25.3,
            24.862745,
            25.84
           ],
           "xaxis": "x",
           "y": [
            1,
            2,
            3,
            4,
            5,
            6,
            7,
            8,
            9,
            10,
            11,
            12,
            13,
            14,
            15,
            16,
            17,
            18,
            19,
            20
           ],
           "yaxis": "y"
          },
          {
           "hovertemplate": "<b>%{hovertext}</b><br><br>league=bundesliga<br>Years=2018-19<br>Age=%{x}<br>Rk=%{y}<extra></extra>",
           "hovertext": [
            "Bayern Munich",
            "Borussia Dortmund",
            "RB Leipzig",
            "Bayer 04 Leverkusen",
            "Borussia Mönchengladbach",
            "VfL Wolfsburg",
            "Eintracht Frankfurt",
            "SV Werder Bremen",
            "TSG 1899 Hoffenheim",
            "Fortuna Düsseldorf",
            "Hertha BSC",
            "FSV Mainz 05",
            "SC Freiburg",
            "Schalke 04",
            "Augsburg",
            "VfB Stuttgart",
            "Hannover 96",
            "Nuremberg"
           ],
           "ids": [
            "Bayern Munich",
            "Borussia Dortmund",
            "RB Leipzig",
            "Bayer 04 Leverkusen",
            "Borussia Mönchengladbach",
            "VfL Wolfsburg",
            "Eintracht Frankfurt",
            "SV Werder Bremen",
            "TSG 1899 Hoffenheim",
            "Fortuna Düsseldorf",
            "Hertha BSC",
            "FSV Mainz 05",
            "SC Freiburg",
            "Schalke 04",
            "Augsburg",
            "VfB Stuttgart",
            "Hannover 96",
            "Nuremberg"
           ],
           "legendgroup": "bundesliga",
           "marker": {
            "color": "red",
            "symbol": "circle"
           },
           "mode": "markers",
           "name": "bundesliga",
           "orientation": "v",
           "showlegend": true,
           "type": "scatter",
           "x": [
            24.533333,
            24.193548,
            22,
            23.222222,
            23.238095,
            23.678571,
            23.319149,
            24.926829,
            23,
            24.05,
            21.961538,
            23.290323,
            24.567568,
            23.878788,
            24.928571,
            22.971429,
            24.702703,
            25.85
           ],
           "xaxis": "x",
           "y": [
            1,
            2,
            3,
            4,
            5,
            6,
            7,
            8,
            9,
            10,
            11,
            12,
            13,
            14,
            15,
            16,
            17,
            18
           ],
           "yaxis": "y"
          }
         ],
         "name": "2018-19"
        },
        {
         "data": [
          {
           "hovertemplate": "<b>%{hovertext}</b><br><br>league=liga<br>Years=2019-20<br>Age=%{x}<br>Rk=%{y}<extra></extra>",
           "hovertext": [
            "Real Madrid",
            "FC Barcelona",
            "Atlético de Madrid",
            "Sevilla FC",
            "Villarreal CF",
            "Real Sociedad",
            "Granada CF",
            "Getafe CF",
            "Valencia CF",
            "CA Osasuna",
            "Athletic Bilbao",
            "Levante UD",
            "Real Valladolid CF",
            "SD Eibar",
            "Real Betis Balompié",
            "Deportivo Alavés",
            "Celta de Vigo",
            "CD Leganés",
            "RCD Mallorca",
            "RCD Espanyol Barcelona"
           ],
           "ids": [
            "Real Madrid",
            "FC Barcelona",
            "Atlético de Madrid",
            "Sevilla FC",
            "Villarreal CF",
            "Real Sociedad",
            "Granada CF",
            "Getafe CF",
            "Valencia CF",
            "CA Osasuna",
            "Athletic Bilbao",
            "Levante UD",
            "Real Valladolid CF",
            "SD Eibar",
            "Real Betis Balompié",
            "Deportivo Alavés",
            "Celta de Vigo",
            "CD Leganés",
            "RCD Mallorca",
            "RCD Espanyol Barcelona"
           ],
           "legendgroup": "liga",
           "marker": {
            "color": "gold",
            "symbol": "circle"
           },
           "mode": "markers",
           "name": "liga",
           "orientation": "v",
           "showlegend": true,
           "type": "scatter",
           "x": [
            22.222222,
            23.727273,
            24.325,
            25.269841,
            26,
            23.888889,
            25.567568,
            26.5,
            24.422222,
            25.459459,
            25.818182,
            25.595238,
            24.209302,
            25.222222,
            24.775,
            24.740741,
            25.657143,
            24.2,
            24.533333,
            25.878788
           ],
           "xaxis": "x",
           "y": [
            1,
            2,
            3,
            4,
            5,
            6,
            7,
            8,
            9,
            10,
            11,
            12,
            13,
            14,
            15,
            16,
            17,
            18,
            19,
            20
           ],
           "yaxis": "y"
          },
          {
           "hovertemplate": "<b>%{hovertext}</b><br><br>league=PL<br>Years=2019-20<br>Age=%{x}<br>Rk=%{y}<extra></extra>",
           "hovertext": [
            "Liverpool FC",
            "Manchester City",
            "Manchester United",
            "Chelsea FC FC",
            "Leicester City",
            "Tottenham Hotspur",
            "Wolverhampton Wanderers",
            "Arsenal FC",
            "Sheffield United",
            "Burnley FC",
            "Southampton FC",
            "Everton FC",
            "Newcastle United",
            "Crystal Palace",
            "Brighton & Hove Albion",
            "West Ham United",
            "Aston Villa",
            "AFC Bournemouth",
            "Watford FC",
            "Norwich City"
           ],
           "ids": [
            "Liverpool FC",
            "Manchester City",
            "Manchester United",
            "Chelsea FC FC",
            "Leicester City",
            "Tottenham Hotspur",
            "Wolverhampton Wanderers",
            "Arsenal FC",
            "Sheffield United",
            "Burnley FC",
            "Southampton FC",
            "Everton FC",
            "Newcastle United",
            "Crystal Palace",
            "Brighton & Hove Albion",
            "West Ham United",
            "Aston Villa",
            "AFC Bournemouth",
            "Watford FC",
            "Norwich City"
           ],
           "legendgroup": "PL",
           "marker": {
            "color": "blue",
            "symbol": "circle"
           },
           "mode": "markers",
           "name": "PL",
           "orientation": "v",
           "showlegend": true,
           "type": "scatter",
           "x": [
            23.827586,
            22.914894,
            24.875,
            25.55102,
            25.72,
            23.807692,
            23.306122,
            24.916667,
            26.295455,
            27.578947,
            25.433333,
            25.522727,
            24.88,
            26.214286,
            24.357143,
            26.555556,
            26.52,
            24.576923,
            22.97561,
            23.862745
           ],
           "xaxis": "x",
           "y": [
            1,
            2,
            3,
            4,
            5,
            6,
            7,
            8,
            9,
            10,
            11,
            12,
            13,
            14,
            15,
            16,
            17,
            18,
            19,
            20
           ],
           "yaxis": "y"
          },
          {
           "hovertemplate": "<b>%{hovertext}</b><br><br>league=serieA<br>Years=2019-20<br>Age=%{x}<br>Rk=%{y}<extra></extra>",
           "hovertext": [
            "Juventus FC",
            "Inter Milan",
            "Atalanta BC",
            "SS Lazio",
            "AS Roma",
            "AC Milan",
            "SSC Napoli",
            "US Sassuolo",
            "Hellas Verona",
            "ACF Fiorentina",
            "Parma FC",
            "Bologna FC 1909",
            "Udinese Calcio",
            "Cagliari Calcio",
            "UC Sampdoria",
            "Torino FC",
            "Genoa CFC",
            "US Lecce",
            "Brescia Calcio",
            "SPAL 2013"
           ],
           "ids": [
            "Juventus FC",
            "Inter Milan",
            "Atalanta BC",
            "SS Lazio",
            "AS Roma",
            "AC Milan",
            "SSC Napoli",
            "US Sassuolo",
            "Hellas Verona",
            "ACF Fiorentina",
            "Parma FC",
            "Bologna FC 1909",
            "Udinese Calcio",
            "Cagliari Calcio",
            "UC Sampdoria",
            "Torino FC",
            "Genoa CFC",
            "US Lecce",
            "Brescia Calcio",
            "SPAL 2013"
           ],
           "legendgroup": "serieA",
           "marker": {
            "color": "green",
            "symbol": "circle"
           },
           "mode": "markers",
           "name": "serieA",
           "orientation": "v",
           "showlegend": true,
           "type": "scatter",
           "x": [
            24.647059,
            23.121212,
            22.935484,
            22.886792,
            23.660377,
            24.871795,
            23.935484,
            22.746479,
            24.577778,
            23.791045,
            24.039604,
            23.508197,
            25.603774,
            24.88,
            24.21875,
            23.403846,
            23.560748,
            25.37931,
            25.216216,
            24.913793
           ],
           "xaxis": "x",
           "y": [
            1,
            2,
            3,
            4,
            5,
            6,
            7,
            8,
            9,
            10,
            11,
            12,
            13,
            14,
            15,
            16,
            17,
            18,
            19,
            20
           ],
           "yaxis": "y"
          },
          {
           "hovertemplate": "<b>%{hovertext}</b><br><br>league=ligue1<br>Years=2019-20<br>Age=%{x}<br>Rk=%{y}<extra></extra>",
           "hovertext": [
            "Paris Saint-Germain",
            "Olympique Marseille",
            "Stade Rennais",
            "LOSC Lille",
            "OGC Nice",
            "Stade Reims",
            "Olympique Lyon",
            "Montpellier",
            "AS Monaco",
            "RC Strasbourg Alsace",
            "SCO Angers",
            "FC Girondins Bordeaux",
            "FC Nantes",
            "Stade Brestois 29",
            "FC Metz",
            "Dijon FCO",
            "Saint-Etienne",
            "Nîmes Olympique",
            "Amiens SC",
            "Toulouse"
           ],
           "ids": [
            "Paris Saint-Germain",
            "Olympique Marseille",
            "Stade Rennais",
            "LOSC Lille",
            "OGC Nice",
            "Stade Reims",
            "Olympique Lyon",
            "Montpellier",
            "AS Monaco",
            "RC Strasbourg Alsace",
            "SCO Angers",
            "FC Girondins Bordeaux",
            "FC Nantes",
            "Stade Brestois 29",
            "FC Metz",
            "Dijon FCO",
            "Saint-Etienne",
            "Nîmes Olympique",
            "Amiens SC",
            "Toulouse"
           ],
           "legendgroup": "ligue1",
           "marker": {
            "color": "black",
            "symbol": "circle"
           },
           "mode": "markers",
           "name": "ligue1",
           "orientation": "v",
           "showlegend": true,
           "type": "scatter",
           "x": [
            23.794872,
            25.136364,
            22.897436,
            23.27027,
            21.935484,
            22.897436,
            23.5,
            23.939394,
            23.111111,
            25.285714,
            25.911765,
            24.432432,
            24.333333,
            24.576923,
            23.342857,
            23.580645,
            22.976744,
            24.970588,
            24.065217,
            24.146341
           ],
           "xaxis": "x",
           "y": [
            1,
            2,
            3,
            4,
            5,
            6,
            7,
            8,
            9,
            10,
            11,
            12,
            13,
            14,
            15,
            16,
            17,
            18,
            19,
            20
           ],
           "yaxis": "y"
          },
          {
           "hovertemplate": "<b>%{hovertext}</b><br><br>league=bundesliga<br>Years=2019-20<br>Age=%{x}<br>Rk=%{y}<extra></extra>",
           "hovertext": [
            "Bayern Munich",
            "Borussia Dortmund",
            "RB Leipzig",
            "Borussia Mönchengladbach",
            "Bayer 04 Leverkusen",
            "TSG 1899 Hoffenheim",
            "VfL Wolfsburg",
            "SC Freiburg",
            "Eintracht Frankfurt",
            "Hertha BSC",
            "FC Union Berlin",
            "Schalke 04",
            "FSV Mainz 05",
            "Fc FC Köln",
            "Augsburg",
            "SV Werder Bremen",
            "Fortuna Düsseldorf",
            "SC Paderborn 07"
           ],
           "ids": [
            "Bayern Munich",
            "Borussia Dortmund",
            "RB Leipzig",
            "Borussia Mönchengladbach",
            "Bayer 04 Leverkusen",
            "TSG 1899 Hoffenheim",
            "VfL Wolfsburg",
            "SC Freiburg",
            "Eintracht Frankfurt",
            "Hertha BSC",
            "FC Union Berlin",
            "Schalke 04",
            "FSV Mainz 05",
            "Fc FC Köln",
            "Augsburg",
            "SV Werder Bremen",
            "Fortuna Düsseldorf",
            "SC Paderborn 07"
           ],
           "legendgroup": "bundesliga",
           "marker": {
            "color": "red",
            "symbol": "circle"
           },
           "mode": "markers",
           "name": "bundesliga",
           "orientation": "v",
           "showlegend": true,
           "type": "scatter",
           "x": [
            25,
            23.757576,
            21.535714,
            23.2,
            22.526316,
            24.659574,
            23.413793,
            23.466667,
            23.918367,
            22.290323,
            23.717949,
            24.166667,
            24.129032,
            22.277778,
            24.974359,
            23.40625,
            24.4,
            23.046512
           ],
           "xaxis": "x",
           "y": [
            1,
            2,
            3,
            4,
            5,
            6,
            7,
            8,
            9,
            10,
            11,
            12,
            13,
            14,
            15,
            16,
            17,
            18
           ],
           "yaxis": "y"
          }
         ],
         "name": "2019-20"
        },
        {
         "data": [
          {
           "hovertemplate": "<b>%{hovertext}</b><br><br>league=liga<br>Years=2020-21<br>Age=%{x}<br>Rk=%{y}<extra></extra>",
           "hovertext": [
            "Atlético de Madrid",
            "Real Madrid",
            "FC Barcelona",
            "Sevilla FC",
            "Real Sociedad",
            "Real Betis Balompié",
            "Villarreal CF",
            "Celta de Vigo",
            "Granada CF",
            "Athletic Bilbao",
            "CA Osasuna",
            "Cádiz CF",
            "Valencia CF",
            "Levante UD",
            "Getafe CF",
            "Deportivo Alavés",
            "Elche CF",
            "SD Huesca",
            "Real Valladolid CF",
            "SD Eibar"
           ],
           "ids": [
            "Atlético de Madrid",
            "Real Madrid",
            "FC Barcelona",
            "Sevilla FC",
            "Real Sociedad",
            "Real Betis Balompié",
            "Villarreal CF",
            "Celta de Vigo",
            "Granada CF",
            "Athletic Bilbao",
            "CA Osasuna",
            "Cádiz CF",
            "Valencia CF",
            "Levante UD",
            "Getafe CF",
            "Deportivo Alavés",
            "Elche CF",
            "SD Huesca",
            "Real Valladolid CF",
            "SD Eibar"
           ],
           "legendgroup": "liga",
           "marker": {
            "color": "gold",
            "symbol": "circle"
           },
           "mode": "markers",
           "name": "liga",
           "orientation": "v",
           "showlegend": true,
           "type": "scatter",
           "x": [
            24.777778,
            22.294118,
            23.117647,
            25.487805,
            26.5,
            24.733333,
            24.818182,
            25.863636,
            25.653846,
            23.857143,
            26.366667,
            25.983607,
            24.62963,
            24.965517,
            25.222222,
            24.622222,
            27.684211,
            24.923077,
            25.269231,
            26.5
           ],
           "xaxis": "x",
           "y": [
            1,
            2,
            3,
            4,
            5,
            6,
            7,
            8,
            9,
            10,
            11,
            12,
            13,
            14,
            15,
            16,
            17,
            18,
            19,
            20
           ],
           "yaxis": "y"
          },
          {
           "hovertemplate": "<b>%{hovertext}</b><br><br>league=PL<br>Years=2020-21<br>Age=%{x}<br>Rk=%{y}<extra></extra>",
           "hovertext": [
            "Manchester City",
            "Manchester United",
            "Liverpool FC",
            "Chelsea FC FC",
            "Leicester City",
            "West Ham United",
            "Tottenham Hotspur",
            "Arsenal FC",
            "Leeds United",
            "Everton FC",
            "Aston Villa",
            "Newcastle United",
            "Wolverhampton Wanderers",
            "Crystal Palace",
            "Southampton FC",
            "Brighton & Hove Albion",
            "Burnley FC",
            "Fulham FC",
            "West Bromwich Albion",
            "Sheffield United"
           ],
           "ids": [
            "Manchester City",
            "Manchester United",
            "Liverpool FC",
            "Chelsea FC FC",
            "Leicester City",
            "West Ham United",
            "Tottenham Hotspur",
            "Arsenal FC",
            "Leeds United",
            "Everton FC",
            "Aston Villa",
            "Newcastle United",
            "Wolverhampton Wanderers",
            "Crystal Palace",
            "Southampton FC",
            "Brighton & Hove Albion",
            "Burnley FC",
            "Fulham FC",
            "West Bromwich Albion",
            "Sheffield United"
           ],
           "legendgroup": "PL",
           "marker": {
            "color": "blue",
            "symbol": "circle"
           },
           "mode": "markers",
           "name": "PL",
           "orientation": "v",
           "showlegend": true,
           "type": "scatter",
           "x": [
            22.64,
            25.24,
            24.034483,
            25.333333,
            25.9,
            27.28125,
            24.538462,
            25.46875,
            23.322581,
            26.15,
            26.655172,
            25.5,
            23.625,
            24.45,
            25.707317,
            24.823529,
            26,
            26.046512,
            25.952381,
            24.6
           ],
           "xaxis": "x",
           "y": [
            1,
            2,
            3,
            4,
            5,
            6,
            7,
            8,
            9,
            10,
            11,
            12,
            13,
            14,
            15,
            16,
            17,
            18,
            19,
            20
           ],
           "yaxis": "y"
          },
          {
           "hovertemplate": "<b>%{hovertext}</b><br><br>league=serieA<br>Years=2020-21<br>Age=%{x}<br>Rk=%{y}<extra></extra>",
           "hovertext": [
            "Inter Milan",
            "AC Milan",
            "Atalanta BC",
            "Juventus FC",
            "SSC Napoli",
            "SS Lazio",
            "AS Roma",
            "US Sassuolo",
            "UC Sampdoria",
            "Hellas Verona",
            "Genoa CFC",
            "Bologna FC 1909",
            "ACF Fiorentina",
            "Udinese Calcio",
            "Spezia Calcio",
            "Cagliari Calcio",
            "Torino FC",
            "Benevento Calcio",
            "FC Crotone",
            "Parma FC"
           ],
           "ids": [
            "Inter Milan",
            "AC Milan",
            "Atalanta BC",
            "Juventus FC",
            "SSC Napoli",
            "SS Lazio",
            "AS Roma",
            "US Sassuolo",
            "UC Sampdoria",
            "Hellas Verona",
            "Genoa CFC",
            "Bologna FC 1909",
            "ACF Fiorentina",
            "Udinese Calcio",
            "Spezia Calcio",
            "Cagliari Calcio",
            "Torino FC",
            "Benevento Calcio",
            "FC Crotone",
            "Parma FC"
           ],
           "legendgroup": "serieA",
           "marker": {
            "color": "green",
            "symbol": "circle"
           },
           "mode": "markers",
           "name": "serieA",
           "orientation": "v",
           "showlegend": true,
           "type": "scatter",
           "x": [
            24.294118,
            24.585366,
            22.464789,
            24.193548,
            24.55814,
            25.459459,
            25.232558,
            22.862745,
            23.903846,
            24.917808,
            23.505618,
            23.194444,
            24.614035,
            24.465116,
            24.458333,
            26.06383,
            23.820513,
            25.794118,
            24.607843,
            24.246753
           ],
           "xaxis": "x",
           "y": [
            1,
            2,
            3,
            4,
            5,
            6,
            7,
            8,
            9,
            10,
            11,
            12,
            13,
            14,
            15,
            16,
            17,
            18,
            19,
            20
           ],
           "yaxis": "y"
          },
          {
           "hovertemplate": "<b>%{hovertext}</b><br><br>league=ligue1<br>Years=2020-21<br>Age=%{x}<br>Rk=%{y}<extra></extra>",
           "hovertext": [
            "LOSC Lille",
            "Paris Saint-Germain",
            "AS Monaco",
            "Olympique Lyon",
            "Olympique Marseille",
            "Stade Rennais",
            "RC Lens",
            "Montpellier",
            "OGC Nice",
            "FC Metz",
            "Saint-Etienne",
            "FC Girondins Bordeaux",
            "SCO Angers",
            "Stade Reims",
            "RC Strasbourg Alsace",
            "Lorient",
            "Stade Brestois 29",
            "FC Nantes",
            "Nîmes Olympique"
           ],
           "ids": [
            "LOSC Lille",
            "Paris Saint-Germain",
            "AS Monaco",
            "Olympique Lyon",
            "Olympique Marseille",
            "Stade Rennais",
            "RC Lens",
            "Montpellier",
            "OGC Nice",
            "FC Metz",
            "Saint-Etienne",
            "FC Girondins Bordeaux",
            "SCO Angers",
            "Stade Reims",
            "RC Strasbourg Alsace",
            "Lorient",
            "Stade Brestois 29",
            "FC Nantes",
            "Nîmes Olympique"
           ],
           "legendgroup": "ligue1",
           "marker": {
            "color": "black",
            "symbol": "circle"
           },
           "mode": "markers",
           "name": "ligue1",
           "orientation": "v",
           "showlegend": true,
           "type": "scatter",
           "x": [
            23.666667,
            23.419355,
            23.546875,
            24.2,
            24.833333,
            23.043478,
            24.193548,
            23.5,
            21.6,
            23.181818,
            23.510638,
            22.62963,
            24.322581,
            23.043478,
            25.933333,
            24.425,
            24.096774,
            24.375,
            23.210526
           ],
           "xaxis": "x",
           "y": [
            1,
            2,
            3,
            4,
            5,
            6,
            7,
            8,
            9,
            10,
            11,
            12,
            13,
            14,
            15,
            16,
            17,
            18,
            19
           ],
           "yaxis": "y"
          },
          {
           "hovertemplate": "<b>%{hovertext}</b><br><br>league=bundesliga<br>Years=2020-21<br>Age=%{x}<br>Rk=%{y}<extra></extra>",
           "hovertext": [
            "Bayern Munich",
            "RB Leipzig",
            "Borussia Dortmund",
            "VfL Wolfsburg",
            "Eintracht Frankfurt",
            "Bayer 04 Leverkusen",
            "FC Union Berlin",
            "Borussia Mönchengladbach",
            "VfB Stuttgart",
            "SC Freiburg",
            "TSG 1899 Hoffenheim",
            "FSV Mainz 05",
            "Augsburg",
            "Hertha BSC",
            "Arminia Bielefeld",
            "FC FC Köln",
            "SV Werder Bremen",
            "Schalke 04"
           ],
           "ids": [
            "Bayern Munich",
            "RB Leipzig",
            "Borussia Dortmund",
            "VfL Wolfsburg",
            "Eintracht Frankfurt",
            "Bayer 04 Leverkusen",
            "FC Union Berlin",
            "Borussia Mönchengladbach",
            "VfB Stuttgart",
            "SC Freiburg",
            "TSG 1899 Hoffenheim",
            "FSV Mainz 05",
            "Augsburg",
            "Hertha BSC",
            "Arminia Bielefeld",
            "FC FC Köln",
            "SV Werder Bremen",
            "Schalke 04"
           ],
           "legendgroup": "bundesliga",
           "marker": {
            "color": "red",
            "symbol": "circle"
           },
           "mode": "markers",
           "name": "bundesliga",
           "orientation": "v",
           "showlegend": true,
           "type": "scatter",
           "x": [
            23.52,
            20.833333,
            23.590909,
            23.72,
            24.404762,
            22.65,
            24.340426,
            22.333333,
            23.172414,
            24.935484,
            23.83871,
            23.586207,
            25.178571,
            23.861111,
            23.580645,
            24.825,
            24.974359,
            24.697674
           ],
           "xaxis": "x",
           "y": [
            1,
            2,
            3,
            4,
            5,
            6,
            7,
            8,
            9,
            10,
            11,
            12,
            13,
            14,
            15,
            16,
            17,
            18
           ],
           "yaxis": "y"
          }
         ],
         "name": "2020-21"
        },
        {
         "data": [
          {
           "hovertemplate": "<b>%{hovertext}</b><br><br>league=ligue1<br>Years=2020-21410256<br>Age=%{x}<br>Rk=%{y}<extra></extra>",
           "hovertext": [
            "Dijon FCO"
           ],
           "ids": [
            "Dijon FCO"
           ],
           "legendgroup": "ligue1",
           "marker": {
            "color": "black",
            "symbol": "circle"
           },
           "mode": "markers",
           "name": "ligue1",
           "orientation": "v",
           "showlegend": true,
           "type": "scatter",
           "x": [
            23.242424
           ],
           "xaxis": "x",
           "y": [
            20
           ],
           "yaxis": "y"
          }
         ],
         "name": "2020-21410256"
        }
       ],
       "layout": {
        "legend": {
         "title": {
          "text": "league"
         },
         "tracegroupgap": 0
        },
        "sliders": [
         {
          "active": 0,
          "currentvalue": {
           "prefix": "Years="
          },
          "len": 0.9,
          "pad": {
           "b": 10,
           "t": 60
          },
          "steps": [
           {
            "args": [
             [
              "2004-05"
             ],
             {
              "frame": {
               "duration": 0,
               "redraw": false
              },
              "fromcurrent": true,
              "mode": "immediate",
              "transition": {
               "duration": 0,
               "easing": "linear"
              }
             }
            ],
            "label": "2004-05",
            "method": "animate"
           },
           {
            "args": [
             [
              "2005-06"
             ],
             {
              "frame": {
               "duration": 0,
               "redraw": false
              },
              "fromcurrent": true,
              "mode": "immediate",
              "transition": {
               "duration": 0,
               "easing": "linear"
              }
             }
            ],
            "label": "2005-06",
            "method": "animate"
           },
           {
            "args": [
             [
              "2006-07"
             ],
             {
              "frame": {
               "duration": 0,
               "redraw": false
              },
              "fromcurrent": true,
              "mode": "immediate",
              "transition": {
               "duration": 0,
               "easing": "linear"
              }
             }
            ],
            "label": "2006-07",
            "method": "animate"
           },
           {
            "args": [
             [
              "2007-08"
             ],
             {
              "frame": {
               "duration": 0,
               "redraw": false
              },
              "fromcurrent": true,
              "mode": "immediate",
              "transition": {
               "duration": 0,
               "easing": "linear"
              }
             }
            ],
            "label": "2007-08",
            "method": "animate"
           },
           {
            "args": [
             [
              "2008-09"
             ],
             {
              "frame": {
               "duration": 0,
               "redraw": false
              },
              "fromcurrent": true,
              "mode": "immediate",
              "transition": {
               "duration": 0,
               "easing": "linear"
              }
             }
            ],
            "label": "2008-09",
            "method": "animate"
           },
           {
            "args": [
             [
              "2009-10"
             ],
             {
              "frame": {
               "duration": 0,
               "redraw": false
              },
              "fromcurrent": true,
              "mode": "immediate",
              "transition": {
               "duration": 0,
               "easing": "linear"
              }
             }
            ],
            "label": "2009-10",
            "method": "animate"
           },
           {
            "args": [
             [
              "2010-11"
             ],
             {
              "frame": {
               "duration": 0,
               "redraw": false
              },
              "fromcurrent": true,
              "mode": "immediate",
              "transition": {
               "duration": 0,
               "easing": "linear"
              }
             }
            ],
            "label": "2010-11",
            "method": "animate"
           },
           {
            "args": [
             [
              "2011-12"
             ],
             {
              "frame": {
               "duration": 0,
               "redraw": false
              },
              "fromcurrent": true,
              "mode": "immediate",
              "transition": {
               "duration": 0,
               "easing": "linear"
              }
             }
            ],
            "label": "2011-12",
            "method": "animate"
           },
           {
            "args": [
             [
              "2012-13"
             ],
             {
              "frame": {
               "duration": 0,
               "redraw": false
              },
              "fromcurrent": true,
              "mode": "immediate",
              "transition": {
               "duration": 0,
               "easing": "linear"
              }
             }
            ],
            "label": "2012-13",
            "method": "animate"
           },
           {
            "args": [
             [
              "2013-14"
             ],
             {
              "frame": {
               "duration": 0,
               "redraw": false
              },
              "fromcurrent": true,
              "mode": "immediate",
              "transition": {
               "duration": 0,
               "easing": "linear"
              }
             }
            ],
            "label": "2013-14",
            "method": "animate"
           },
           {
            "args": [
             [
              "2014-15"
             ],
             {
              "frame": {
               "duration": 0,
               "redraw": false
              },
              "fromcurrent": true,
              "mode": "immediate",
              "transition": {
               "duration": 0,
               "easing": "linear"
              }
             }
            ],
            "label": "2014-15",
            "method": "animate"
           },
           {
            "args": [
             [
              "2015-16"
             ],
             {
              "frame": {
               "duration": 0,
               "redraw": false
              },
              "fromcurrent": true,
              "mode": "immediate",
              "transition": {
               "duration": 0,
               "easing": "linear"
              }
             }
            ],
            "label": "2015-16",
            "method": "animate"
           },
           {
            "args": [
             [
              "2016-17"
             ],
             {
              "frame": {
               "duration": 0,
               "redraw": false
              },
              "fromcurrent": true,
              "mode": "immediate",
              "transition": {
               "duration": 0,
               "easing": "linear"
              }
             }
            ],
            "label": "2016-17",
            "method": "animate"
           },
           {
            "args": [
             [
              "2017-18"
             ],
             {
              "frame": {
               "duration": 0,
               "redraw": false
              },
              "fromcurrent": true,
              "mode": "immediate",
              "transition": {
               "duration": 0,
               "easing": "linear"
              }
             }
            ],
            "label": "2017-18",
            "method": "animate"
           },
           {
            "args": [
             [
              "2018-19"
             ],
             {
              "frame": {
               "duration": 0,
               "redraw": false
              },
              "fromcurrent": true,
              "mode": "immediate",
              "transition": {
               "duration": 0,
               "easing": "linear"
              }
             }
            ],
            "label": "2018-19",
            "method": "animate"
           },
           {
            "args": [
             [
              "2019-20"
             ],
             {
              "frame": {
               "duration": 0,
               "redraw": false
              },
              "fromcurrent": true,
              "mode": "immediate",
              "transition": {
               "duration": 0,
               "easing": "linear"
              }
             }
            ],
            "label": "2019-20",
            "method": "animate"
           },
           {
            "args": [
             [
              "2020-21"
             ],
             {
              "frame": {
               "duration": 0,
               "redraw": false
              },
              "fromcurrent": true,
              "mode": "immediate",
              "transition": {
               "duration": 0,
               "easing": "linear"
              }
             }
            ],
            "label": "2020-21",
            "method": "animate"
           },
           {
            "args": [
             [
              "2020-21410256"
             ],
             {
              "frame": {
               "duration": 0,
               "redraw": false
              },
              "fromcurrent": true,
              "mode": "immediate",
              "transition": {
               "duration": 0,
               "easing": "linear"
              }
             }
            ],
            "label": "2020-21410256",
            "method": "animate"
           }
          ],
          "x": 0.1,
          "xanchor": "left",
          "y": 0,
          "yanchor": "top"
         }
        ],
        "template": {
         "data": {
          "bar": [
           {
            "error_x": {
             "color": "#2a3f5f"
            },
            "error_y": {
             "color": "#2a3f5f"
            },
            "marker": {
             "line": {
              "color": "#E5ECF6",
              "width": 0.5
             },
             "pattern": {
              "fillmode": "overlay",
              "size": 10,
              "solidity": 0.2
             }
            },
            "type": "bar"
           }
          ],
          "barpolar": [
           {
            "marker": {
             "line": {
              "color": "#E5ECF6",
              "width": 0.5
             },
             "pattern": {
              "fillmode": "overlay",
              "size": 10,
              "solidity": 0.2
             }
            },
            "type": "barpolar"
           }
          ],
          "carpet": [
           {
            "aaxis": {
             "endlinecolor": "#2a3f5f",
             "gridcolor": "white",
             "linecolor": "white",
             "minorgridcolor": "white",
             "startlinecolor": "#2a3f5f"
            },
            "baxis": {
             "endlinecolor": "#2a3f5f",
             "gridcolor": "white",
             "linecolor": "white",
             "minorgridcolor": "white",
             "startlinecolor": "#2a3f5f"
            },
            "type": "carpet"
           }
          ],
          "choropleth": [
           {
            "colorbar": {
             "outlinewidth": 0,
             "ticks": ""
            },
            "type": "choropleth"
           }
          ],
          "contour": [
           {
            "colorbar": {
             "outlinewidth": 0,
             "ticks": ""
            },
            "colorscale": [
             [
              0,
              "#0d0887"
             ],
             [
              0.1111111111111111,
              "#46039f"
             ],
             [
              0.2222222222222222,
              "#7201a8"
             ],
             [
              0.3333333333333333,
              "#9c179e"
             ],
             [
              0.4444444444444444,
              "#bd3786"
             ],
             [
              0.5555555555555556,
              "#d8576b"
             ],
             [
              0.6666666666666666,
              "#ed7953"
             ],
             [
              0.7777777777777778,
              "#fb9f3a"
             ],
             [
              0.8888888888888888,
              "#fdca26"
             ],
             [
              1,
              "#f0f921"
             ]
            ],
            "type": "contour"
           }
          ],
          "contourcarpet": [
           {
            "colorbar": {
             "outlinewidth": 0,
             "ticks": ""
            },
            "type": "contourcarpet"
           }
          ],
          "heatmap": [
           {
            "colorbar": {
             "outlinewidth": 0,
             "ticks": ""
            },
            "colorscale": [
             [
              0,
              "#0d0887"
             ],
             [
              0.1111111111111111,
              "#46039f"
             ],
             [
              0.2222222222222222,
              "#7201a8"
             ],
             [
              0.3333333333333333,
              "#9c179e"
             ],
             [
              0.4444444444444444,
              "#bd3786"
             ],
             [
              0.5555555555555556,
              "#d8576b"
             ],
             [
              0.6666666666666666,
              "#ed7953"
             ],
             [
              0.7777777777777778,
              "#fb9f3a"
             ],
             [
              0.8888888888888888,
              "#fdca26"
             ],
             [
              1,
              "#f0f921"
             ]
            ],
            "type": "heatmap"
           }
          ],
          "heatmapgl": [
           {
            "colorbar": {
             "outlinewidth": 0,
             "ticks": ""
            },
            "colorscale": [
             [
              0,
              "#0d0887"
             ],
             [
              0.1111111111111111,
              "#46039f"
             ],
             [
              0.2222222222222222,
              "#7201a8"
             ],
             [
              0.3333333333333333,
              "#9c179e"
             ],
             [
              0.4444444444444444,
              "#bd3786"
             ],
             [
              0.5555555555555556,
              "#d8576b"
             ],
             [
              0.6666666666666666,
              "#ed7953"
             ],
             [
              0.7777777777777778,
              "#fb9f3a"
             ],
             [
              0.8888888888888888,
              "#fdca26"
             ],
             [
              1,
              "#f0f921"
             ]
            ],
            "type": "heatmapgl"
           }
          ],
          "histogram": [
           {
            "marker": {
             "pattern": {
              "fillmode": "overlay",
              "size": 10,
              "solidity": 0.2
             }
            },
            "type": "histogram"
           }
          ],
          "histogram2d": [
           {
            "colorbar": {
             "outlinewidth": 0,
             "ticks": ""
            },
            "colorscale": [
             [
              0,
              "#0d0887"
             ],
             [
              0.1111111111111111,
              "#46039f"
             ],
             [
              0.2222222222222222,
              "#7201a8"
             ],
             [
              0.3333333333333333,
              "#9c179e"
             ],
             [
              0.4444444444444444,
              "#bd3786"
             ],
             [
              0.5555555555555556,
              "#d8576b"
             ],
             [
              0.6666666666666666,
              "#ed7953"
             ],
             [
              0.7777777777777778,
              "#fb9f3a"
             ],
             [
              0.8888888888888888,
              "#fdca26"
             ],
             [
              1,
              "#f0f921"
             ]
            ],
            "type": "histogram2d"
           }
          ],
          "histogram2dcontour": [
           {
            "colorbar": {
             "outlinewidth": 0,
             "ticks": ""
            },
            "colorscale": [
             [
              0,
              "#0d0887"
             ],
             [
              0.1111111111111111,
              "#46039f"
             ],
             [
              0.2222222222222222,
              "#7201a8"
             ],
             [
              0.3333333333333333,
              "#9c179e"
             ],
             [
              0.4444444444444444,
              "#bd3786"
             ],
             [
              0.5555555555555556,
              "#d8576b"
             ],
             [
              0.6666666666666666,
              "#ed7953"
             ],
             [
              0.7777777777777778,
              "#fb9f3a"
             ],
             [
              0.8888888888888888,
              "#fdca26"
             ],
             [
              1,
              "#f0f921"
             ]
            ],
            "type": "histogram2dcontour"
           }
          ],
          "mesh3d": [
           {
            "colorbar": {
             "outlinewidth": 0,
             "ticks": ""
            },
            "type": "mesh3d"
           }
          ],
          "parcoords": [
           {
            "line": {
             "colorbar": {
              "outlinewidth": 0,
              "ticks": ""
             }
            },
            "type": "parcoords"
           }
          ],
          "pie": [
           {
            "automargin": true,
            "type": "pie"
           }
          ],
          "scatter": [
           {
            "marker": {
             "colorbar": {
              "outlinewidth": 0,
              "ticks": ""
             }
            },
            "type": "scatter"
           }
          ],
          "scatter3d": [
           {
            "line": {
             "colorbar": {
              "outlinewidth": 0,
              "ticks": ""
             }
            },
            "marker": {
             "colorbar": {
              "outlinewidth": 0,
              "ticks": ""
             }
            },
            "type": "scatter3d"
           }
          ],
          "scattercarpet": [
           {
            "marker": {
             "colorbar": {
              "outlinewidth": 0,
              "ticks": ""
             }
            },
            "type": "scattercarpet"
           }
          ],
          "scattergeo": [
           {
            "marker": {
             "colorbar": {
              "outlinewidth": 0,
              "ticks": ""
             }
            },
            "type": "scattergeo"
           }
          ],
          "scattergl": [
           {
            "marker": {
             "colorbar": {
              "outlinewidth": 0,
              "ticks": ""
             }
            },
            "type": "scattergl"
           }
          ],
          "scattermapbox": [
           {
            "marker": {
             "colorbar": {
              "outlinewidth": 0,
              "ticks": ""
             }
            },
            "type": "scattermapbox"
           }
          ],
          "scatterpolar": [
           {
            "marker": {
             "colorbar": {
              "outlinewidth": 0,
              "ticks": ""
             }
            },
            "type": "scatterpolar"
           }
          ],
          "scatterpolargl": [
           {
            "marker": {
             "colorbar": {
              "outlinewidth": 0,
              "ticks": ""
             }
            },
            "type": "scatterpolargl"
           }
          ],
          "scatterternary": [
           {
            "marker": {
             "colorbar": {
              "outlinewidth": 0,
              "ticks": ""
             }
            },
            "type": "scatterternary"
           }
          ],
          "surface": [
           {
            "colorbar": {
             "outlinewidth": 0,
             "ticks": ""
            },
            "colorscale": [
             [
              0,
              "#0d0887"
             ],
             [
              0.1111111111111111,
              "#46039f"
             ],
             [
              0.2222222222222222,
              "#7201a8"
             ],
             [
              0.3333333333333333,
              "#9c179e"
             ],
             [
              0.4444444444444444,
              "#bd3786"
             ],
             [
              0.5555555555555556,
              "#d8576b"
             ],
             [
              0.6666666666666666,
              "#ed7953"
             ],
             [
              0.7777777777777778,
              "#fb9f3a"
             ],
             [
              0.8888888888888888,
              "#fdca26"
             ],
             [
              1,
              "#f0f921"
             ]
            ],
            "type": "surface"
           }
          ],
          "table": [
           {
            "cells": {
             "fill": {
              "color": "#EBF0F8"
             },
             "line": {
              "color": "white"
             }
            },
            "header": {
             "fill": {
              "color": "#C8D4E3"
             },
             "line": {
              "color": "white"
             }
            },
            "type": "table"
           }
          ]
         },
         "layout": {
          "annotationdefaults": {
           "arrowcolor": "#2a3f5f",
           "arrowhead": 0,
           "arrowwidth": 1
          },
          "autotypenumbers": "strict",
          "coloraxis": {
           "colorbar": {
            "outlinewidth": 0,
            "ticks": ""
           }
          },
          "colorscale": {
           "diverging": [
            [
             0,
             "#8e0152"
            ],
            [
             0.1,
             "#c51b7d"
            ],
            [
             0.2,
             "#de77ae"
            ],
            [
             0.3,
             "#f1b6da"
            ],
            [
             0.4,
             "#fde0ef"
            ],
            [
             0.5,
             "#f7f7f7"
            ],
            [
             0.6,
             "#e6f5d0"
            ],
            [
             0.7,
             "#b8e186"
            ],
            [
             0.8,
             "#7fbc41"
            ],
            [
             0.9,
             "#4d9221"
            ],
            [
             1,
             "#276419"
            ]
           ],
           "sequential": [
            [
             0,
             "#0d0887"
            ],
            [
             0.1111111111111111,
             "#46039f"
            ],
            [
             0.2222222222222222,
             "#7201a8"
            ],
            [
             0.3333333333333333,
             "#9c179e"
            ],
            [
             0.4444444444444444,
             "#bd3786"
            ],
            [
             0.5555555555555556,
             "#d8576b"
            ],
            [
             0.6666666666666666,
             "#ed7953"
            ],
            [
             0.7777777777777778,
             "#fb9f3a"
            ],
            [
             0.8888888888888888,
             "#fdca26"
            ],
            [
             1,
             "#f0f921"
            ]
           ],
           "sequentialminus": [
            [
             0,
             "#0d0887"
            ],
            [
             0.1111111111111111,
             "#46039f"
            ],
            [
             0.2222222222222222,
             "#7201a8"
            ],
            [
             0.3333333333333333,
             "#9c179e"
            ],
            [
             0.4444444444444444,
             "#bd3786"
            ],
            [
             0.5555555555555556,
             "#d8576b"
            ],
            [
             0.6666666666666666,
             "#ed7953"
            ],
            [
             0.7777777777777778,
             "#fb9f3a"
            ],
            [
             0.8888888888888888,
             "#fdca26"
            ],
            [
             1,
             "#f0f921"
            ]
           ]
          },
          "colorway": [
           "#636efa",
           "#EF553B",
           "#00cc96",
           "#ab63fa",
           "#FFA15A",
           "#19d3f3",
           "#FF6692",
           "#B6E880",
           "#FF97FF",
           "#FECB52"
          ],
          "font": {
           "color": "#2a3f5f"
          },
          "geo": {
           "bgcolor": "white",
           "lakecolor": "white",
           "landcolor": "#E5ECF6",
           "showlakes": true,
           "showland": true,
           "subunitcolor": "white"
          },
          "hoverlabel": {
           "align": "left"
          },
          "hovermode": "closest",
          "mapbox": {
           "style": "light"
          },
          "paper_bgcolor": "white",
          "plot_bgcolor": "#E5ECF6",
          "polar": {
           "angularaxis": {
            "gridcolor": "white",
            "linecolor": "white",
            "ticks": ""
           },
           "bgcolor": "#E5ECF6",
           "radialaxis": {
            "gridcolor": "white",
            "linecolor": "white",
            "ticks": ""
           }
          },
          "scene": {
           "xaxis": {
            "backgroundcolor": "#E5ECF6",
            "gridcolor": "white",
            "gridwidth": 2,
            "linecolor": "white",
            "showbackground": true,
            "ticks": "",
            "zerolinecolor": "white"
           },
           "yaxis": {
            "backgroundcolor": "#E5ECF6",
            "gridcolor": "white",
            "gridwidth": 2,
            "linecolor": "white",
            "showbackground": true,
            "ticks": "",
            "zerolinecolor": "white"
           },
           "zaxis": {
            "backgroundcolor": "#E5ECF6",
            "gridcolor": "white",
            "gridwidth": 2,
            "linecolor": "white",
            "showbackground": true,
            "ticks": "",
            "zerolinecolor": "white"
           }
          },
          "shapedefaults": {
           "line": {
            "color": "#2a3f5f"
           }
          },
          "ternary": {
           "aaxis": {
            "gridcolor": "white",
            "linecolor": "white",
            "ticks": ""
           },
           "baxis": {
            "gridcolor": "white",
            "linecolor": "white",
            "ticks": ""
           },
           "bgcolor": "#E5ECF6",
           "caxis": {
            "gridcolor": "white",
            "linecolor": "white",
            "ticks": ""
           }
          },
          "title": {
           "x": 0.05
          },
          "xaxis": {
           "automargin": true,
           "gridcolor": "white",
           "linecolor": "white",
           "ticks": "",
           "title": {
            "standoff": 15
           },
           "zerolinecolor": "white",
           "zerolinewidth": 2
          },
          "yaxis": {
           "automargin": true,
           "gridcolor": "white",
           "linecolor": "white",
           "ticks": "",
           "title": {
            "standoff": 15
           },
           "zerolinecolor": "white",
           "zerolinewidth": 2
          }
         }
        },
        "title": {
         "text": "Classement en fonction de l'age et de la valeur marchande des clubs "
        },
        "updatemenus": [
         {
          "buttons": [
           {
            "args": [
             null,
             {
              "frame": {
               "duration": 500,
               "redraw": false
              },
              "fromcurrent": true,
              "mode": "immediate",
              "transition": {
               "duration": 500,
               "easing": "linear"
              }
             }
            ],
            "label": "&#9654;",
            "method": "animate"
           },
           {
            "args": [
             [
              null
             ],
             {
              "frame": {
               "duration": 0,
               "redraw": false
              },
              "fromcurrent": true,
              "mode": "immediate",
              "transition": {
               "duration": 0,
               "easing": "linear"
              }
             }
            ],
            "label": "&#9724;",
            "method": "animate"
           }
          ],
          "direction": "left",
          "pad": {
           "r": 10,
           "t": 70
          },
          "showactive": false,
          "type": "buttons",
          "x": 0.1,
          "xanchor": "right",
          "y": 0,
          "yanchor": "top"
         }
        ],
        "xaxis": {
         "anchor": "y",
         "domain": [
          0,
          1
         ],
         "range": [
          15,
          35
         ],
         "title": {
          "text": "Age"
         }
        },
        "yaxis": {
         "anchor": "x",
         "domain": [
          0,
          1
         ],
         "range": [
          1,
          20
         ],
         "title": {
          "text": "Rk"
         }
        }
       }
      },
      "text/html": [
       "<div>                            <div id=\"e5c6ec2e-0904-4d9e-b48e-c97cee23e6e6\" class=\"plotly-graph-div\" style=\"height:525px; width:100%;\"></div>            <script type=\"text/javascript\">                require([\"plotly\"], function(Plotly) {                    window.PLOTLYENV=window.PLOTLYENV || {};                                    if (document.getElementById(\"e5c6ec2e-0904-4d9e-b48e-c97cee23e6e6\")) {                    Plotly.newPlot(                        \"e5c6ec2e-0904-4d9e-b48e-c97cee23e6e6\",                        [{\"hovertemplate\":\"<b>%{hovertext}</b><br><br>league=liga<br>Years=2004-05<br>Age=%{x}<br>Rk=%{y}<extra></extra>\",\"hovertext\":[\"FC Barcelona\",\"Real Madrid\",\"Villarreal CF\",\"Real Betis Balompi\\u00e9\",\"RCD Espanyol Barcelona\",\"Sevilla FC\",\"Valencia CF\",\"Athletic Bilbao\",\"Deportivo de La Coru\\u00f1a\",\"M\\u00e1laga CF\",\"Atl\\u00e9tico de Madrid\",\"Real Zaragoza\",\"Getafe CF\",\"Real Sociedad\",\"CA Osasuna\",\"Racing Santander\",\"RCD Mallorca\",\"Levante UD\",\"CD Numancia\",\"Albacete Balompi\\u00e9\"],\"ids\":[\"FC Barcelona\",\"Real Madrid\",\"Villarreal CF\",\"Real Betis Balompi\\u00e9\",\"RCD Espanyol Barcelona\",\"Sevilla FC\",\"Valencia CF\",\"Athletic Bilbao\",\"Deportivo de La Coru\\u00f1a\",\"M\\u00e1laga CF\",\"Atl\\u00e9tico de Madrid\",\"Real Zaragoza\",\"Getafe CF\",\"Real Sociedad\",\"CA Osasuna\",\"Racing Santander\",\"RCD Mallorca\",\"Levante UD\",\"CD Numancia\",\"Albacete Balompi\\u00e9\"],\"legendgroup\":\"liga\",\"marker\":{\"color\":\"gold\",\"symbol\":\"circle\"},\"mode\":\"markers\",\"name\":\"liga\",\"orientation\":\"v\",\"showlegend\":true,\"x\":[27.0,24.952381,24.611111,27.45,26.529412,24.111111,23.828571,22.222222,28.346154,26.2,25.456522,26.92,26.48,24.4,25.818182,24.866667,26.315789,27.217391,26.235294,25.368421],\"xaxis\":\"x\",\"y\":[1,2,3,4,5,6,7,8,9,10,11,12,13,14,15,16,17,18,19,20],\"yaxis\":\"y\",\"type\":\"scatter\"},{\"hovertemplate\":\"<b>%{hovertext}</b><br><br>league=PL<br>Years=2004-05<br>Age=%{x}<br>Rk=%{y}<extra></extra>\",\"hovertext\":[\"Chelsea FC FC\",\"Arsenal FC\",\"Manchester United\",\"Everton FC\",\"Liverpool FC\",\"Bolton Wanderers\",\"Middlesbrough\",\"Manchester City\",\"Tottenham Hotspur\",\"Aston Villa\",\"Charlton Athletic\",\"Birmingham City\",\"Fulham FC\",\"Newcastle United\",\"Blackburn Rovers\",\"Portsmouth FC\",\"West Bromwich Albion\",\"Crystal Palace\",\"Norwich City\",\"Southampton FC\"],\"ids\":[\"Chelsea FC FC\",\"Arsenal FC\",\"Manchester United\",\"Everton FC\",\"Liverpool FC\",\"Bolton Wanderers\",\"Middlesbrough\",\"Manchester City\",\"Tottenham Hotspur\",\"Aston Villa\",\"Charlton Athletic\",\"Birmingham City\",\"Fulham FC\",\"Newcastle United\",\"Blackburn Rovers\",\"Portsmouth FC\",\"West Bromwich Albion\",\"Crystal Palace\",\"Norwich City\",\"Southampton FC\"],\"legendgroup\":\"PL\",\"marker\":{\"color\":\"blue\",\"symbol\":\"circle\"},\"mode\":\"markers\",\"name\":\"PL\",\"orientation\":\"v\",\"showlegend\":true,\"x\":[24.521739,22.829268,21.846154,25.0,22.837209,25.66,24.069767,24.722222,23.485714,22.290323,24.527778,24.42,23.021277,23.722222,25.285714,24.47619,24.829268,24.818182,25.424242,23.262295],\"xaxis\":\"x\",\"y\":[1,2,3,4,5,6,7,8,9,10,11,12,13,14,15,16,17,18,19,20],\"yaxis\":\"y\",\"type\":\"scatter\"},{\"hovertemplate\":\"<b>%{hovertext}</b><br><br>league=serieA<br>Years=2004-05<br>Age=%{x}<br>Rk=%{y}<extra></extra>\",\"hovertext\":[\"Juventus FC\",\"AC Milan\",\"Inter Milan\",\"Udinese Calcio\",\"UC Sampdoria\",\"US Palermo\",\"FC Messina Peloro\",\"AS Roma\",\"AS Livorno\",\"Reggina Calcio\",\"US Lecce\",\"Cagliari Calcio\",\"SS Lazio\",\"AC Siena\",\"Chievo Verona\",\"ACF Fiorentina\",\"Parma FC\",\"Bologna FC 1909\",\"Brescia Calcio\",\"Atalanta BC\"],\"ids\":[\"Juventus FC\",\"AC Milan\",\"Inter Milan\",\"Udinese Calcio\",\"UC Sampdoria\",\"US Palermo\",\"FC Messina Peloro\",\"AS Roma\",\"AS Livorno\",\"Reggina Calcio\",\"US Lecce\",\"Cagliari Calcio\",\"SS Lazio\",\"AC Siena\",\"Chievo Verona\",\"ACF Fiorentina\",\"Parma FC\",\"Bologna FC 1909\",\"Brescia Calcio\",\"Atalanta BC\"],\"legendgroup\":\"serieA\",\"marker\":{\"color\":\"green\",\"symbol\":\"circle\"},\"mode\":\"markers\",\"name\":\"serieA\",\"orientation\":\"v\",\"showlegend\":true,\"x\":[23.4,23.551724,23.65625,24.62069,24.947368,24.45,24.810811,22.5,24.090909,25.285714,23.3,24.409091,26.823529,26.285714,23.903846,25.128205,24.693878,25.764706,23.742857,23.529412],\"xaxis\":\"x\",\"y\":[1,2,3,4,5,6,7,8,9,10,11,12,13,14,15,16,17,18,19,20],\"yaxis\":\"y\",\"type\":\"scatter\"},{\"hovertemplate\":\"<b>%{hovertext}</b><br><br>league=ligue1<br>Years=2004-05<br>Age=%{x}<br>Rk=%{y}<extra></extra>\",\"hovertext\":[\"Olympique Lyon\",\"LOSC Lille\",\"AS Monaco\",\"Stade Rennais\",\"Olympique Marseille\",\"Saint-Etienne\",\"RC Lens\",\"Auxerre\",\"Paris Saint-Germain\",\"FC Sochaux-Montb\\u00e9liard\",\"RC Strasbourg Alsace\",\"OGC Nice\",\"Toulouse\",\"Ajaccio\",\"FC Girondins Bordeaux\",\"FC Metz\",\"FC Nantes\",\"SM Caen\",\"SC Bastia\",\"FC Istres Ouest Provence\"],\"ids\":[\"Olympique Lyon\",\"LOSC Lille\",\"AS Monaco\",\"Stade Rennais\",\"Olympique Marseille\",\"Saint-Etienne\",\"RC Lens\",\"Auxerre\",\"Paris Saint-Germain\",\"FC Sochaux-Montb\\u00e9liard\",\"RC Strasbourg Alsace\",\"OGC Nice\",\"Toulouse\",\"Ajaccio\",\"FC Girondins Bordeaux\",\"FC Metz\",\"FC Nantes\",\"SM Caen\",\"SC Bastia\",\"FC Istres Ouest Provence\"],\"legendgroup\":\"ligue1\",\"marker\":{\"color\":\"black\",\"symbol\":\"circle\"},\"mode\":\"markers\",\"name\":\"ligue1\",\"orientation\":\"v\",\"showlegend\":true,\"x\":[24.032258,24.410256,23.780488,24.354839,25.169811,23.515152,25.026316,22.791667,24.85,24.0,23.724138,25.295455,23.137931,27.142857,23.53125,23.021739,23.181818,24.642857,26.451613,25.365854],\"xaxis\":\"x\",\"y\":[1,2,3,4,5,6,7,8,9,10,11,12,13,14,15,16,17,18,19,20],\"yaxis\":\"y\",\"type\":\"scatter\"},{\"hovertemplate\":\"<b>%{hovertext}</b><br><br>league=bundesliga<br>Years=2004-05<br>Age=%{x}<br>Rk=%{y}<extra></extra>\",\"hovertext\":[\"Bayern Munich\",\"Schalke 04\",\"SV Werder Bremen\",\"Hertha BSC\",\"VfB Stuttgart\",\"Bayer 04 Leverkusen\",\"Borussia Dortmund\",\"Hamburger SV\",\"VfL Wolfsburg\",\"Hannover 96\",\"FSV Mainz 05\",\"Kaiserslautern\",\"Arminia Bielefeld\",\"Nuremberg\",\"Borussia M\\u00f6nchengladbach\",\"VfL Bochum\",\"Hansa Rostock\",\"SC Freiburg\"],\"ids\":[\"Bayern Munich\",\"Schalke 04\",\"SV Werder Bremen\",\"Hertha BSC\",\"VfB Stuttgart\",\"Bayer 04 Leverkusen\",\"Borussia Dortmund\",\"Hamburger SV\",\"VfL Wolfsburg\",\"Hannover 96\",\"FSV Mainz 05\",\"Kaiserslautern\",\"Arminia Bielefeld\",\"Nuremberg\",\"Borussia M\\u00f6nchengladbach\",\"VfL Bochum\",\"Hansa Rostock\",\"SC Freiburg\"],\"legendgroup\":\"bundesliga\",\"marker\":{\"color\":\"red\",\"symbol\":\"circle\"},\"mode\":\"markers\",\"name\":\"bundesliga\",\"orientation\":\"v\",\"showlegend\":true,\"x\":[25.555556,25.64,25.76,23.545455,23.6,24.076923,24.0,23.903226,24.263158,25.815789,25.380952,26.793103,23.785714,26.733333,28.194444,25.375,27.125,23.4],\"xaxis\":\"x\",\"y\":[1,2,3,4,5,6,7,8,9,10,11,12,13,14,15,16,17,18],\"yaxis\":\"y\",\"type\":\"scatter\"}],                        {\"template\":{\"data\":{\"bar\":[{\"error_x\":{\"color\":\"#2a3f5f\"},\"error_y\":{\"color\":\"#2a3f5f\"},\"marker\":{\"line\":{\"color\":\"#E5ECF6\",\"width\":0.5},\"pattern\":{\"fillmode\":\"overlay\",\"size\":10,\"solidity\":0.2}},\"type\":\"bar\"}],\"barpolar\":[{\"marker\":{\"line\":{\"color\":\"#E5ECF6\",\"width\":0.5},\"pattern\":{\"fillmode\":\"overlay\",\"size\":10,\"solidity\":0.2}},\"type\":\"barpolar\"}],\"carpet\":[{\"aaxis\":{\"endlinecolor\":\"#2a3f5f\",\"gridcolor\":\"white\",\"linecolor\":\"white\",\"minorgridcolor\":\"white\",\"startlinecolor\":\"#2a3f5f\"},\"baxis\":{\"endlinecolor\":\"#2a3f5f\",\"gridcolor\":\"white\",\"linecolor\":\"white\",\"minorgridcolor\":\"white\",\"startlinecolor\":\"#2a3f5f\"},\"type\":\"carpet\"}],\"choropleth\":[{\"colorbar\":{\"outlinewidth\":0,\"ticks\":\"\"},\"type\":\"choropleth\"}],\"contour\":[{\"colorbar\":{\"outlinewidth\":0,\"ticks\":\"\"},\"colorscale\":[[0.0,\"#0d0887\"],[0.1111111111111111,\"#46039f\"],[0.2222222222222222,\"#7201a8\"],[0.3333333333333333,\"#9c179e\"],[0.4444444444444444,\"#bd3786\"],[0.5555555555555556,\"#d8576b\"],[0.6666666666666666,\"#ed7953\"],[0.7777777777777778,\"#fb9f3a\"],[0.8888888888888888,\"#fdca26\"],[1.0,\"#f0f921\"]],\"type\":\"contour\"}],\"contourcarpet\":[{\"colorbar\":{\"outlinewidth\":0,\"ticks\":\"\"},\"type\":\"contourcarpet\"}],\"heatmap\":[{\"colorbar\":{\"outlinewidth\":0,\"ticks\":\"\"},\"colorscale\":[[0.0,\"#0d0887\"],[0.1111111111111111,\"#46039f\"],[0.2222222222222222,\"#7201a8\"],[0.3333333333333333,\"#9c179e\"],[0.4444444444444444,\"#bd3786\"],[0.5555555555555556,\"#d8576b\"],[0.6666666666666666,\"#ed7953\"],[0.7777777777777778,\"#fb9f3a\"],[0.8888888888888888,\"#fdca26\"],[1.0,\"#f0f921\"]],\"type\":\"heatmap\"}],\"heatmapgl\":[{\"colorbar\":{\"outlinewidth\":0,\"ticks\":\"\"},\"colorscale\":[[0.0,\"#0d0887\"],[0.1111111111111111,\"#46039f\"],[0.2222222222222222,\"#7201a8\"],[0.3333333333333333,\"#9c179e\"],[0.4444444444444444,\"#bd3786\"],[0.5555555555555556,\"#d8576b\"],[0.6666666666666666,\"#ed7953\"],[0.7777777777777778,\"#fb9f3a\"],[0.8888888888888888,\"#fdca26\"],[1.0,\"#f0f921\"]],\"type\":\"heatmapgl\"}],\"histogram\":[{\"marker\":{\"pattern\":{\"fillmode\":\"overlay\",\"size\":10,\"solidity\":0.2}},\"type\":\"histogram\"}],\"histogram2d\":[{\"colorbar\":{\"outlinewidth\":0,\"ticks\":\"\"},\"colorscale\":[[0.0,\"#0d0887\"],[0.1111111111111111,\"#46039f\"],[0.2222222222222222,\"#7201a8\"],[0.3333333333333333,\"#9c179e\"],[0.4444444444444444,\"#bd3786\"],[0.5555555555555556,\"#d8576b\"],[0.6666666666666666,\"#ed7953\"],[0.7777777777777778,\"#fb9f3a\"],[0.8888888888888888,\"#fdca26\"],[1.0,\"#f0f921\"]],\"type\":\"histogram2d\"}],\"histogram2dcontour\":[{\"colorbar\":{\"outlinewidth\":0,\"ticks\":\"\"},\"colorscale\":[[0.0,\"#0d0887\"],[0.1111111111111111,\"#46039f\"],[0.2222222222222222,\"#7201a8\"],[0.3333333333333333,\"#9c179e\"],[0.4444444444444444,\"#bd3786\"],[0.5555555555555556,\"#d8576b\"],[0.6666666666666666,\"#ed7953\"],[0.7777777777777778,\"#fb9f3a\"],[0.8888888888888888,\"#fdca26\"],[1.0,\"#f0f921\"]],\"type\":\"histogram2dcontour\"}],\"mesh3d\":[{\"colorbar\":{\"outlinewidth\":0,\"ticks\":\"\"},\"type\":\"mesh3d\"}],\"parcoords\":[{\"line\":{\"colorbar\":{\"outlinewidth\":0,\"ticks\":\"\"}},\"type\":\"parcoords\"}],\"pie\":[{\"automargin\":true,\"type\":\"pie\"}],\"scatter\":[{\"marker\":{\"colorbar\":{\"outlinewidth\":0,\"ticks\":\"\"}},\"type\":\"scatter\"}],\"scatter3d\":[{\"line\":{\"colorbar\":{\"outlinewidth\":0,\"ticks\":\"\"}},\"marker\":{\"colorbar\":{\"outlinewidth\":0,\"ticks\":\"\"}},\"type\":\"scatter3d\"}],\"scattercarpet\":[{\"marker\":{\"colorbar\":{\"outlinewidth\":0,\"ticks\":\"\"}},\"type\":\"scattercarpet\"}],\"scattergeo\":[{\"marker\":{\"colorbar\":{\"outlinewidth\":0,\"ticks\":\"\"}},\"type\":\"scattergeo\"}],\"scattergl\":[{\"marker\":{\"colorbar\":{\"outlinewidth\":0,\"ticks\":\"\"}},\"type\":\"scattergl\"}],\"scattermapbox\":[{\"marker\":{\"colorbar\":{\"outlinewidth\":0,\"ticks\":\"\"}},\"type\":\"scattermapbox\"}],\"scatterpolar\":[{\"marker\":{\"colorbar\":{\"outlinewidth\":0,\"ticks\":\"\"}},\"type\":\"scatterpolar\"}],\"scatterpolargl\":[{\"marker\":{\"colorbar\":{\"outlinewidth\":0,\"ticks\":\"\"}},\"type\":\"scatterpolargl\"}],\"scatterternary\":[{\"marker\":{\"colorbar\":{\"outlinewidth\":0,\"ticks\":\"\"}},\"type\":\"scatterternary\"}],\"surface\":[{\"colorbar\":{\"outlinewidth\":0,\"ticks\":\"\"},\"colorscale\":[[0.0,\"#0d0887\"],[0.1111111111111111,\"#46039f\"],[0.2222222222222222,\"#7201a8\"],[0.3333333333333333,\"#9c179e\"],[0.4444444444444444,\"#bd3786\"],[0.5555555555555556,\"#d8576b\"],[0.6666666666666666,\"#ed7953\"],[0.7777777777777778,\"#fb9f3a\"],[0.8888888888888888,\"#fdca26\"],[1.0,\"#f0f921\"]],\"type\":\"surface\"}],\"table\":[{\"cells\":{\"fill\":{\"color\":\"#EBF0F8\"},\"line\":{\"color\":\"white\"}},\"header\":{\"fill\":{\"color\":\"#C8D4E3\"},\"line\":{\"color\":\"white\"}},\"type\":\"table\"}]},\"layout\":{\"annotationdefaults\":{\"arrowcolor\":\"#2a3f5f\",\"arrowhead\":0,\"arrowwidth\":1},\"autotypenumbers\":\"strict\",\"coloraxis\":{\"colorbar\":{\"outlinewidth\":0,\"ticks\":\"\"}},\"colorscale\":{\"diverging\":[[0,\"#8e0152\"],[0.1,\"#c51b7d\"],[0.2,\"#de77ae\"],[0.3,\"#f1b6da\"],[0.4,\"#fde0ef\"],[0.5,\"#f7f7f7\"],[0.6,\"#e6f5d0\"],[0.7,\"#b8e186\"],[0.8,\"#7fbc41\"],[0.9,\"#4d9221\"],[1,\"#276419\"]],\"sequential\":[[0.0,\"#0d0887\"],[0.1111111111111111,\"#46039f\"],[0.2222222222222222,\"#7201a8\"],[0.3333333333333333,\"#9c179e\"],[0.4444444444444444,\"#bd3786\"],[0.5555555555555556,\"#d8576b\"],[0.6666666666666666,\"#ed7953\"],[0.7777777777777778,\"#fb9f3a\"],[0.8888888888888888,\"#fdca26\"],[1.0,\"#f0f921\"]],\"sequentialminus\":[[0.0,\"#0d0887\"],[0.1111111111111111,\"#46039f\"],[0.2222222222222222,\"#7201a8\"],[0.3333333333333333,\"#9c179e\"],[0.4444444444444444,\"#bd3786\"],[0.5555555555555556,\"#d8576b\"],[0.6666666666666666,\"#ed7953\"],[0.7777777777777778,\"#fb9f3a\"],[0.8888888888888888,\"#fdca26\"],[1.0,\"#f0f921\"]]},\"colorway\":[\"#636efa\",\"#EF553B\",\"#00cc96\",\"#ab63fa\",\"#FFA15A\",\"#19d3f3\",\"#FF6692\",\"#B6E880\",\"#FF97FF\",\"#FECB52\"],\"font\":{\"color\":\"#2a3f5f\"},\"geo\":{\"bgcolor\":\"white\",\"lakecolor\":\"white\",\"landcolor\":\"#E5ECF6\",\"showlakes\":true,\"showland\":true,\"subunitcolor\":\"white\"},\"hoverlabel\":{\"align\":\"left\"},\"hovermode\":\"closest\",\"mapbox\":{\"style\":\"light\"},\"paper_bgcolor\":\"white\",\"plot_bgcolor\":\"#E5ECF6\",\"polar\":{\"angularaxis\":{\"gridcolor\":\"white\",\"linecolor\":\"white\",\"ticks\":\"\"},\"bgcolor\":\"#E5ECF6\",\"radialaxis\":{\"gridcolor\":\"white\",\"linecolor\":\"white\",\"ticks\":\"\"}},\"scene\":{\"xaxis\":{\"backgroundcolor\":\"#E5ECF6\",\"gridcolor\":\"white\",\"gridwidth\":2,\"linecolor\":\"white\",\"showbackground\":true,\"ticks\":\"\",\"zerolinecolor\":\"white\"},\"yaxis\":{\"backgroundcolor\":\"#E5ECF6\",\"gridcolor\":\"white\",\"gridwidth\":2,\"linecolor\":\"white\",\"showbackground\":true,\"ticks\":\"\",\"zerolinecolor\":\"white\"},\"zaxis\":{\"backgroundcolor\":\"#E5ECF6\",\"gridcolor\":\"white\",\"gridwidth\":2,\"linecolor\":\"white\",\"showbackground\":true,\"ticks\":\"\",\"zerolinecolor\":\"white\"}},\"shapedefaults\":{\"line\":{\"color\":\"#2a3f5f\"}},\"ternary\":{\"aaxis\":{\"gridcolor\":\"white\",\"linecolor\":\"white\",\"ticks\":\"\"},\"baxis\":{\"gridcolor\":\"white\",\"linecolor\":\"white\",\"ticks\":\"\"},\"bgcolor\":\"#E5ECF6\",\"caxis\":{\"gridcolor\":\"white\",\"linecolor\":\"white\",\"ticks\":\"\"}},\"title\":{\"x\":0.05},\"xaxis\":{\"automargin\":true,\"gridcolor\":\"white\",\"linecolor\":\"white\",\"ticks\":\"\",\"title\":{\"standoff\":15},\"zerolinecolor\":\"white\",\"zerolinewidth\":2},\"yaxis\":{\"automargin\":true,\"gridcolor\":\"white\",\"linecolor\":\"white\",\"ticks\":\"\",\"title\":{\"standoff\":15},\"zerolinecolor\":\"white\",\"zerolinewidth\":2}}},\"xaxis\":{\"anchor\":\"y\",\"domain\":[0.0,1.0],\"title\":{\"text\":\"Age\"},\"range\":[15,35]},\"yaxis\":{\"anchor\":\"x\",\"domain\":[0.0,1.0],\"title\":{\"text\":\"Rk\"},\"range\":[1,20]},\"legend\":{\"title\":{\"text\":\"league\"},\"tracegroupgap\":0},\"title\":{\"text\":\"Classement en fonction de l'age et de la valeur marchande des clubs \"},\"updatemenus\":[{\"buttons\":[{\"args\":[null,{\"frame\":{\"duration\":500,\"redraw\":false},\"mode\":\"immediate\",\"fromcurrent\":true,\"transition\":{\"duration\":500,\"easing\":\"linear\"}}],\"label\":\"&#9654;\",\"method\":\"animate\"},{\"args\":[[null],{\"frame\":{\"duration\":0,\"redraw\":false},\"mode\":\"immediate\",\"fromcurrent\":true,\"transition\":{\"duration\":0,\"easing\":\"linear\"}}],\"label\":\"&#9724;\",\"method\":\"animate\"}],\"direction\":\"left\",\"pad\":{\"r\":10,\"t\":70},\"showactive\":false,\"type\":\"buttons\",\"x\":0.1,\"xanchor\":\"right\",\"y\":0,\"yanchor\":\"top\"}],\"sliders\":[{\"active\":0,\"currentvalue\":{\"prefix\":\"Years=\"},\"len\":0.9,\"pad\":{\"b\":10,\"t\":60},\"steps\":[{\"args\":[[\"2004-05\"],{\"frame\":{\"duration\":0,\"redraw\":false},\"mode\":\"immediate\",\"fromcurrent\":true,\"transition\":{\"duration\":0,\"easing\":\"linear\"}}],\"label\":\"2004-05\",\"method\":\"animate\"},{\"args\":[[\"2005-06\"],{\"frame\":{\"duration\":0,\"redraw\":false},\"mode\":\"immediate\",\"fromcurrent\":true,\"transition\":{\"duration\":0,\"easing\":\"linear\"}}],\"label\":\"2005-06\",\"method\":\"animate\"},{\"args\":[[\"2006-07\"],{\"frame\":{\"duration\":0,\"redraw\":false},\"mode\":\"immediate\",\"fromcurrent\":true,\"transition\":{\"duration\":0,\"easing\":\"linear\"}}],\"label\":\"2006-07\",\"method\":\"animate\"},{\"args\":[[\"2007-08\"],{\"frame\":{\"duration\":0,\"redraw\":false},\"mode\":\"immediate\",\"fromcurrent\":true,\"transition\":{\"duration\":0,\"easing\":\"linear\"}}],\"label\":\"2007-08\",\"method\":\"animate\"},{\"args\":[[\"2008-09\"],{\"frame\":{\"duration\":0,\"redraw\":false},\"mode\":\"immediate\",\"fromcurrent\":true,\"transition\":{\"duration\":0,\"easing\":\"linear\"}}],\"label\":\"2008-09\",\"method\":\"animate\"},{\"args\":[[\"2009-10\"],{\"frame\":{\"duration\":0,\"redraw\":false},\"mode\":\"immediate\",\"fromcurrent\":true,\"transition\":{\"duration\":0,\"easing\":\"linear\"}}],\"label\":\"2009-10\",\"method\":\"animate\"},{\"args\":[[\"2010-11\"],{\"frame\":{\"duration\":0,\"redraw\":false},\"mode\":\"immediate\",\"fromcurrent\":true,\"transition\":{\"duration\":0,\"easing\":\"linear\"}}],\"label\":\"2010-11\",\"method\":\"animate\"},{\"args\":[[\"2011-12\"],{\"frame\":{\"duration\":0,\"redraw\":false},\"mode\":\"immediate\",\"fromcurrent\":true,\"transition\":{\"duration\":0,\"easing\":\"linear\"}}],\"label\":\"2011-12\",\"method\":\"animate\"},{\"args\":[[\"2012-13\"],{\"frame\":{\"duration\":0,\"redraw\":false},\"mode\":\"immediate\",\"fromcurrent\":true,\"transition\":{\"duration\":0,\"easing\":\"linear\"}}],\"label\":\"2012-13\",\"method\":\"animate\"},{\"args\":[[\"2013-14\"],{\"frame\":{\"duration\":0,\"redraw\":false},\"mode\":\"immediate\",\"fromcurrent\":true,\"transition\":{\"duration\":0,\"easing\":\"linear\"}}],\"label\":\"2013-14\",\"method\":\"animate\"},{\"args\":[[\"2014-15\"],{\"frame\":{\"duration\":0,\"redraw\":false},\"mode\":\"immediate\",\"fromcurrent\":true,\"transition\":{\"duration\":0,\"easing\":\"linear\"}}],\"label\":\"2014-15\",\"method\":\"animate\"},{\"args\":[[\"2015-16\"],{\"frame\":{\"duration\":0,\"redraw\":false},\"mode\":\"immediate\",\"fromcurrent\":true,\"transition\":{\"duration\":0,\"easing\":\"linear\"}}],\"label\":\"2015-16\",\"method\":\"animate\"},{\"args\":[[\"2016-17\"],{\"frame\":{\"duration\":0,\"redraw\":false},\"mode\":\"immediate\",\"fromcurrent\":true,\"transition\":{\"duration\":0,\"easing\":\"linear\"}}],\"label\":\"2016-17\",\"method\":\"animate\"},{\"args\":[[\"2017-18\"],{\"frame\":{\"duration\":0,\"redraw\":false},\"mode\":\"immediate\",\"fromcurrent\":true,\"transition\":{\"duration\":0,\"easing\":\"linear\"}}],\"label\":\"2017-18\",\"method\":\"animate\"},{\"args\":[[\"2018-19\"],{\"frame\":{\"duration\":0,\"redraw\":false},\"mode\":\"immediate\",\"fromcurrent\":true,\"transition\":{\"duration\":0,\"easing\":\"linear\"}}],\"label\":\"2018-19\",\"method\":\"animate\"},{\"args\":[[\"2019-20\"],{\"frame\":{\"duration\":0,\"redraw\":false},\"mode\":\"immediate\",\"fromcurrent\":true,\"transition\":{\"duration\":0,\"easing\":\"linear\"}}],\"label\":\"2019-20\",\"method\":\"animate\"},{\"args\":[[\"2020-21\"],{\"frame\":{\"duration\":0,\"redraw\":false},\"mode\":\"immediate\",\"fromcurrent\":true,\"transition\":{\"duration\":0,\"easing\":\"linear\"}}],\"label\":\"2020-21\",\"method\":\"animate\"},{\"args\":[[\"2020-21410256\"],{\"frame\":{\"duration\":0,\"redraw\":false},\"mode\":\"immediate\",\"fromcurrent\":true,\"transition\":{\"duration\":0,\"easing\":\"linear\"}}],\"label\":\"2020-21410256\",\"method\":\"animate\"}],\"x\":0.1,\"xanchor\":\"left\",\"y\":0,\"yanchor\":\"top\"}]},                        {\"responsive\": true}                    ).then(function(){\n",
       "                            Plotly.addFrames('e5c6ec2e-0904-4d9e-b48e-c97cee23e6e6', [{\"data\":[{\"hovertemplate\":\"<b>%{hovertext}</b><br><br>league=liga<br>Years=2004-05<br>Age=%{x}<br>Rk=%{y}<extra></extra>\",\"hovertext\":[\"FC Barcelona\",\"Real Madrid\",\"Villarreal CF\",\"Real Betis Balompi\\u00e9\",\"RCD Espanyol Barcelona\",\"Sevilla FC\",\"Valencia CF\",\"Athletic Bilbao\",\"Deportivo de La Coru\\u00f1a\",\"M\\u00e1laga CF\",\"Atl\\u00e9tico de Madrid\",\"Real Zaragoza\",\"Getafe CF\",\"Real Sociedad\",\"CA Osasuna\",\"Racing Santander\",\"RCD Mallorca\",\"Levante UD\",\"CD Numancia\",\"Albacete Balompi\\u00e9\"],\"ids\":[\"FC Barcelona\",\"Real Madrid\",\"Villarreal CF\",\"Real Betis Balompi\\u00e9\",\"RCD Espanyol Barcelona\",\"Sevilla FC\",\"Valencia CF\",\"Athletic Bilbao\",\"Deportivo de La Coru\\u00f1a\",\"M\\u00e1laga CF\",\"Atl\\u00e9tico de Madrid\",\"Real Zaragoza\",\"Getafe CF\",\"Real Sociedad\",\"CA Osasuna\",\"Racing Santander\",\"RCD Mallorca\",\"Levante UD\",\"CD Numancia\",\"Albacete Balompi\\u00e9\"],\"legendgroup\":\"liga\",\"marker\":{\"color\":\"gold\",\"symbol\":\"circle\"},\"mode\":\"markers\",\"name\":\"liga\",\"orientation\":\"v\",\"showlegend\":true,\"x\":[27.0,24.952381,24.611111,27.45,26.529412,24.111111,23.828571,22.222222,28.346154,26.2,25.456522,26.92,26.48,24.4,25.818182,24.866667,26.315789,27.217391,26.235294,25.368421],\"xaxis\":\"x\",\"y\":[1,2,3,4,5,6,7,8,9,10,11,12,13,14,15,16,17,18,19,20],\"yaxis\":\"y\",\"type\":\"scatter\"},{\"hovertemplate\":\"<b>%{hovertext}</b><br><br>league=PL<br>Years=2004-05<br>Age=%{x}<br>Rk=%{y}<extra></extra>\",\"hovertext\":[\"Chelsea FC FC\",\"Arsenal FC\",\"Manchester United\",\"Everton FC\",\"Liverpool FC\",\"Bolton Wanderers\",\"Middlesbrough\",\"Manchester City\",\"Tottenham Hotspur\",\"Aston Villa\",\"Charlton Athletic\",\"Birmingham City\",\"Fulham FC\",\"Newcastle United\",\"Blackburn Rovers\",\"Portsmouth FC\",\"West Bromwich Albion\",\"Crystal Palace\",\"Norwich City\",\"Southampton FC\"],\"ids\":[\"Chelsea FC FC\",\"Arsenal FC\",\"Manchester United\",\"Everton FC\",\"Liverpool FC\",\"Bolton Wanderers\",\"Middlesbrough\",\"Manchester City\",\"Tottenham Hotspur\",\"Aston Villa\",\"Charlton Athletic\",\"Birmingham City\",\"Fulham FC\",\"Newcastle United\",\"Blackburn Rovers\",\"Portsmouth FC\",\"West Bromwich Albion\",\"Crystal Palace\",\"Norwich City\",\"Southampton FC\"],\"legendgroup\":\"PL\",\"marker\":{\"color\":\"blue\",\"symbol\":\"circle\"},\"mode\":\"markers\",\"name\":\"PL\",\"orientation\":\"v\",\"showlegend\":true,\"x\":[24.521739,22.829268,21.846154,25.0,22.837209,25.66,24.069767,24.722222,23.485714,22.290323,24.527778,24.42,23.021277,23.722222,25.285714,24.47619,24.829268,24.818182,25.424242,23.262295],\"xaxis\":\"x\",\"y\":[1,2,3,4,5,6,7,8,9,10,11,12,13,14,15,16,17,18,19,20],\"yaxis\":\"y\",\"type\":\"scatter\"},{\"hovertemplate\":\"<b>%{hovertext}</b><br><br>league=serieA<br>Years=2004-05<br>Age=%{x}<br>Rk=%{y}<extra></extra>\",\"hovertext\":[\"Juventus FC\",\"AC Milan\",\"Inter Milan\",\"Udinese Calcio\",\"UC Sampdoria\",\"US Palermo\",\"FC Messina Peloro\",\"AS Roma\",\"AS Livorno\",\"Reggina Calcio\",\"US Lecce\",\"Cagliari Calcio\",\"SS Lazio\",\"AC Siena\",\"Chievo Verona\",\"ACF Fiorentina\",\"Parma FC\",\"Bologna FC 1909\",\"Brescia Calcio\",\"Atalanta BC\"],\"ids\":[\"Juventus FC\",\"AC Milan\",\"Inter Milan\",\"Udinese Calcio\",\"UC Sampdoria\",\"US Palermo\",\"FC Messina Peloro\",\"AS Roma\",\"AS Livorno\",\"Reggina Calcio\",\"US Lecce\",\"Cagliari Calcio\",\"SS Lazio\",\"AC Siena\",\"Chievo Verona\",\"ACF Fiorentina\",\"Parma FC\",\"Bologna FC 1909\",\"Brescia Calcio\",\"Atalanta BC\"],\"legendgroup\":\"serieA\",\"marker\":{\"color\":\"green\",\"symbol\":\"circle\"},\"mode\":\"markers\",\"name\":\"serieA\",\"orientation\":\"v\",\"showlegend\":true,\"x\":[23.4,23.551724,23.65625,24.62069,24.947368,24.45,24.810811,22.5,24.090909,25.285714,23.3,24.409091,26.823529,26.285714,23.903846,25.128205,24.693878,25.764706,23.742857,23.529412],\"xaxis\":\"x\",\"y\":[1,2,3,4,5,6,7,8,9,10,11,12,13,14,15,16,17,18,19,20],\"yaxis\":\"y\",\"type\":\"scatter\"},{\"hovertemplate\":\"<b>%{hovertext}</b><br><br>league=ligue1<br>Years=2004-05<br>Age=%{x}<br>Rk=%{y}<extra></extra>\",\"hovertext\":[\"Olympique Lyon\",\"LOSC Lille\",\"AS Monaco\",\"Stade Rennais\",\"Olympique Marseille\",\"Saint-Etienne\",\"RC Lens\",\"Auxerre\",\"Paris Saint-Germain\",\"FC Sochaux-Montb\\u00e9liard\",\"RC Strasbourg Alsace\",\"OGC Nice\",\"Toulouse\",\"Ajaccio\",\"FC Girondins Bordeaux\",\"FC Metz\",\"FC Nantes\",\"SM Caen\",\"SC Bastia\",\"FC Istres Ouest Provence\"],\"ids\":[\"Olympique Lyon\",\"LOSC Lille\",\"AS Monaco\",\"Stade Rennais\",\"Olympique Marseille\",\"Saint-Etienne\",\"RC Lens\",\"Auxerre\",\"Paris Saint-Germain\",\"FC Sochaux-Montb\\u00e9liard\",\"RC Strasbourg Alsace\",\"OGC Nice\",\"Toulouse\",\"Ajaccio\",\"FC Girondins Bordeaux\",\"FC Metz\",\"FC Nantes\",\"SM Caen\",\"SC Bastia\",\"FC Istres Ouest Provence\"],\"legendgroup\":\"ligue1\",\"marker\":{\"color\":\"black\",\"symbol\":\"circle\"},\"mode\":\"markers\",\"name\":\"ligue1\",\"orientation\":\"v\",\"showlegend\":true,\"x\":[24.032258,24.410256,23.780488,24.354839,25.169811,23.515152,25.026316,22.791667,24.85,24.0,23.724138,25.295455,23.137931,27.142857,23.53125,23.021739,23.181818,24.642857,26.451613,25.365854],\"xaxis\":\"x\",\"y\":[1,2,3,4,5,6,7,8,9,10,11,12,13,14,15,16,17,18,19,20],\"yaxis\":\"y\",\"type\":\"scatter\"},{\"hovertemplate\":\"<b>%{hovertext}</b><br><br>league=bundesliga<br>Years=2004-05<br>Age=%{x}<br>Rk=%{y}<extra></extra>\",\"hovertext\":[\"Bayern Munich\",\"Schalke 04\",\"SV Werder Bremen\",\"Hertha BSC\",\"VfB Stuttgart\",\"Bayer 04 Leverkusen\",\"Borussia Dortmund\",\"Hamburger SV\",\"VfL Wolfsburg\",\"Hannover 96\",\"FSV Mainz 05\",\"Kaiserslautern\",\"Arminia Bielefeld\",\"Nuremberg\",\"Borussia M\\u00f6nchengladbach\",\"VfL Bochum\",\"Hansa Rostock\",\"SC Freiburg\"],\"ids\":[\"Bayern Munich\",\"Schalke 04\",\"SV Werder Bremen\",\"Hertha BSC\",\"VfB Stuttgart\",\"Bayer 04 Leverkusen\",\"Borussia Dortmund\",\"Hamburger SV\",\"VfL Wolfsburg\",\"Hannover 96\",\"FSV Mainz 05\",\"Kaiserslautern\",\"Arminia Bielefeld\",\"Nuremberg\",\"Borussia M\\u00f6nchengladbach\",\"VfL Bochum\",\"Hansa Rostock\",\"SC Freiburg\"],\"legendgroup\":\"bundesliga\",\"marker\":{\"color\":\"red\",\"symbol\":\"circle\"},\"mode\":\"markers\",\"name\":\"bundesliga\",\"orientation\":\"v\",\"showlegend\":true,\"x\":[25.555556,25.64,25.76,23.545455,23.6,24.076923,24.0,23.903226,24.263158,25.815789,25.380952,26.793103,23.785714,26.733333,28.194444,25.375,27.125,23.4],\"xaxis\":\"x\",\"y\":[1,2,3,4,5,6,7,8,9,10,11,12,13,14,15,16,17,18],\"yaxis\":\"y\",\"type\":\"scatter\"}],\"name\":\"2004-05\"},{\"data\":[{\"hovertemplate\":\"<b>%{hovertext}</b><br><br>league=liga<br>Years=2005-06<br>Age=%{x}<br>Rk=%{y}<extra></extra>\",\"hovertext\":[\"FC Barcelona\",\"Real Madrid\",\"Valencia CF\",\"CA Osasuna\",\"Sevilla FC\",\"Celta de Vigo\",\"Villarreal CF\",\"Deportivo de La Coru\\u00f1a\",\"Getafe CF\",\"Atl\\u00e9tico de Madrid\",\"Real Zaragoza\",\"Athletic Bilbao\",\"RCD Mallorca\",\"Real Betis Balompi\\u00e9\",\"RCD Espanyol Barcelona\",\"Real Sociedad\",\"Racing Santander\",\"Deportivo Alav\\u00e9s\",\"C\\u00e1diz CF\",\"M\\u00e1laga CF\"],\"ids\":[\"FC Barcelona\",\"Real Madrid\",\"Valencia CF\",\"CA Osasuna\",\"Sevilla FC\",\"Celta de Vigo\",\"Villarreal CF\",\"Deportivo de La Coru\\u00f1a\",\"Getafe CF\",\"Atl\\u00e9tico de Madrid\",\"Real Zaragoza\",\"Athletic Bilbao\",\"RCD Mallorca\",\"Real Betis Balompi\\u00e9\",\"RCD Espanyol Barcelona\",\"Real Sociedad\",\"Racing Santander\",\"Deportivo Alav\\u00e9s\",\"C\\u00e1diz CF\",\"M\\u00e1laga CF\"],\"legendgroup\":\"liga\",\"marker\":{\"color\":\"gold\",\"symbol\":\"circle\"},\"mode\":\"markers\",\"name\":\"liga\",\"orientation\":\"v\",\"showlegend\":true,\"x\":[24.647059,24.192308,23.928571,26.625,26.416667,25.612903,23.555556,26.0,25.592593,25.157895,25.541667,23.666667,26.069767,26.833333,25.625,25.36,25.078947,25.25,26.277778,25.033333],\"xaxis\":\"x\",\"y\":[1,2,3,4,5,6,7,8,9,10,11,12,13,14,15,16,17,18,19,20],\"yaxis\":\"y\",\"type\":\"scatter\"},{\"hovertemplate\":\"<b>%{hovertext}</b><br><br>league=PL<br>Years=2005-06<br>Age=%{x}<br>Rk=%{y}<extra></extra>\",\"hovertext\":[\"Chelsea FC FC\",\"Manchester United\",\"Liverpool FC\",\"Arsenal FC\",\"Tottenham Hotspur\",\"Blackburn Rovers\",\"Newcastle United\",\"Bolton Wanderers\",\"West Ham United\",\"Wigan Athletic\",\"Everton FC\",\"Fulham FC\",\"Charlton Athletic\",\"Middlesbrough\",\"Manchester City\",\"Aston Villa\",\"Portsmouth FC\",\"Birmingham City\",\"West Bromwich Albion\",\"Sunderland AFC\"],\"ids\":[\"Chelsea FC FC\",\"Manchester United\",\"Liverpool FC\",\"Arsenal FC\",\"Tottenham Hotspur\",\"Blackburn Rovers\",\"Newcastle United\",\"Bolton Wanderers\",\"West Ham United\",\"Wigan Athletic\",\"Everton FC\",\"Fulham FC\",\"Charlton Athletic\",\"Middlesbrough\",\"Manchester City\",\"Aston Villa\",\"Portsmouth FC\",\"Birmingham City\",\"West Bromwich Albion\",\"Sunderland AFC\"],\"legendgroup\":\"PL\",\"marker\":{\"color\":\"blue\",\"symbol\":\"circle\"},\"mode\":\"markers\",\"name\":\"PL\",\"orientation\":\"v\",\"showlegend\":true,\"x\":[23.333333,21.882353,22.711538,21.108108,22.215686,21.416667,24.28125,27.586207,23.032258,26.542857,23.827586,24.5625,23.188679,22.066667,23.44,22.645161,24.378378,22.241379,25.181818,23.55102],\"xaxis\":\"x\",\"y\":[1,2,3,4,5,6,7,8,9,10,11,12,13,14,15,16,17,18,19,20],\"yaxis\":\"y\",\"type\":\"scatter\"},{\"hovertemplate\":\"<b>%{hovertext}</b><br><br>league=serieA<br>Years=2005-06<br>Age=%{x}<br>Rk=%{y}<extra></extra>\",\"hovertext\":[\"Inter Milan\",\"AS Roma\",\"AC Milan\",\"Chievo Verona\",\"US Palermo\",\"AS Livorno\",\"Parma FC\",\"Empoli FC\",\"ACF Fiorentina\",\"Ascoli Calcio 1898\",\"Udinese Calcio\",\"UC Sampdoria\",\"Reggina Calcio\",\"Cagliari Calcio\",\"AC Siena\",\"SS Lazio\",\"FC Messina Peloro\",\"US Lecce\",\"Treviso FBC 1993\",\"Juventus FC\"],\"ids\":[\"Inter Milan\",\"AS Roma\",\"AC Milan\",\"Chievo Verona\",\"US Palermo\",\"AS Livorno\",\"Parma FC\",\"Empoli FC\",\"ACF Fiorentina\",\"Ascoli Calcio 1898\",\"Udinese Calcio\",\"UC Sampdoria\",\"Reggina Calcio\",\"Cagliari Calcio\",\"AC Siena\",\"SS Lazio\",\"FC Messina Peloro\",\"US Lecce\",\"Treviso FBC 1993\",\"Juventus FC\"],\"legendgroup\":\"serieA\",\"marker\":{\"color\":\"green\",\"symbol\":\"circle\"},\"mode\":\"markers\",\"name\":\"serieA\",\"orientation\":\"v\",\"showlegend\":true,\"x\":[24.283019,23.117647,24.888889,23.897436,24.055556,25.914286,23.736842,24.266667,26.272727,25.230769,23.459016,24.194444,24.245283,26.454545,25.977273,26.025641,23.878049,22.484848,25.036364,23.85],\"xaxis\":\"x\",\"y\":[1,2,3,4,5,6,7,8,9,10,11,12,13,14,15,16,17,18,19,20],\"yaxis\":\"y\",\"type\":\"scatter\"},{\"hovertemplate\":\"<b>%{hovertext}</b><br><br>league=ligue1<br>Years=2005-06<br>Age=%{x}<br>Rk=%{y}<extra></extra>\",\"hovertext\":[\"Olympique Lyon\",\"FC Girondins Bordeaux\",\"LOSC Lille\",\"RC Lens\",\"Olympique Marseille\",\"Auxerre\",\"Stade Rennais\",\"OGC Nice\",\"Paris Saint-Germain\",\"AS Monaco\",\"Le Mans Union Club 72\",\"Nancy-Lorraine\",\"Saint-Etienne\",\"FC Nantes\",\"FC Sochaux-Montb\\u00e9liard\",\"Toulouse\",\"ESTAC Troyes\",\"Ajaccio\",\"RC Strasbourg Alsace\",\"FC Metz\"],\"ids\":[\"Olympique Lyon\",\"FC Girondins Bordeaux\",\"LOSC Lille\",\"RC Lens\",\"Olympique Marseille\",\"Auxerre\",\"Stade Rennais\",\"OGC Nice\",\"Paris Saint-Germain\",\"AS Monaco\",\"Le Mans Union Club 72\",\"Nancy-Lorraine\",\"Saint-Etienne\",\"FC Nantes\",\"FC Sochaux-Montb\\u00e9liard\",\"Toulouse\",\"ESTAC Troyes\",\"Ajaccio\",\"RC Strasbourg Alsace\",\"FC Metz\"],\"legendgroup\":\"ligue1\",\"marker\":{\"color\":\"black\",\"symbol\":\"circle\"},\"mode\":\"markers\",\"name\":\"ligue1\",\"orientation\":\"v\",\"showlegend\":true,\"x\":[22.066667,23.69697,22.588235,23.75,24.885246,23.47619,23.12,24.685714,24.689655,23.785714,23.783784,24.846154,23.645161,23.818182,22.914286,24.315789,24.233333,25.516129,23.527778,23.346154],\"xaxis\":\"x\",\"y\":[1,2,3,4,5,6,7,8,9,10,11,12,13,14,15,16,17,18,19,20],\"yaxis\":\"y\",\"type\":\"scatter\"},{\"hovertemplate\":\"<b>%{hovertext}</b><br><br>league=bundesliga<br>Years=2005-06<br>Age=%{x}<br>Rk=%{y}<extra></extra>\",\"hovertext\":[\"Bayern Munich\",\"SV Werder Bremen\",\"Hamburger SV\",\"Schalke 04\",\"Bayer 04 Leverkusen\",\"Hertha BSC\",\"Borussia Dortmund\",\"Nuremberg\",\"VfB Stuttgart\",\"Borussia M\\u00f6nchengladbach\",\"FSV Mainz 05\",\"Hannover 96\",\"Arminia Bielefeld\",\"Eintracht Frankfurt\",\"VfL Wolfsburg\",\"Kaiserslautern\",\"FC FC K\\u00f6ln\",\"MSV Duisburg\"],\"ids\":[\"Bayern Munich\",\"SV Werder Bremen\",\"Hamburger SV\",\"Schalke 04\",\"Bayer 04 Leverkusen\",\"Hertha BSC\",\"Borussia Dortmund\",\"Nuremberg\",\"VfB Stuttgart\",\"Borussia M\\u00f6nchengladbach\",\"FSV Mainz 05\",\"Hannover 96\",\"Arminia Bielefeld\",\"Eintracht Frankfurt\",\"VfL Wolfsburg\",\"Kaiserslautern\",\"FC FC K\\u00f6ln\",\"MSV Duisburg\"],\"legendgroup\":\"bundesliga\",\"marker\":{\"color\":\"red\",\"symbol\":\"circle\"},\"mode\":\"markers\",\"name\":\"bundesliga\",\"orientation\":\"v\",\"showlegend\":true,\"x\":[27.692308,24.0,23.387097,23.857143,22.5,24.578947,25.08,25.428571,24.62963,26.756757,26.6,24.516129,24.96875,26.178571,26.36,25.2,25.606061,26.555556],\"xaxis\":\"x\",\"y\":[1,2,3,4,5,6,7,8,9,10,11,12,13,14,15,16,17,18],\"yaxis\":\"y\",\"type\":\"scatter\"}],\"name\":\"2005-06\"},{\"data\":[{\"hovertemplate\":\"<b>%{hovertext}</b><br><br>league=liga<br>Years=2006-07<br>Age=%{x}<br>Rk=%{y}<extra></extra>\",\"hovertext\":[\"Real Madrid\",\"FC Barcelona\",\"Sevilla FC\",\"Valencia CF\",\"Villarreal CF\",\"Real Zaragoza\",\"Atl\\u00e9tico de Madrid\",\"Recreativo Huelva\",\"Getafe CF\",\"Racing Santander\",\"RCD Espanyol Barcelona\",\"RCD Mallorca\",\"Deportivo de La Coru\\u00f1a\",\"CA Osasuna\",\"Levante UD\",\"Real Betis Balompi\\u00e9\",\"Athletic Bilbao\",\"Celta de Vigo\",\"Real Sociedad\",\"Gimn\\u00e0stic de Tarragona\"],\"ids\":[\"Real Madrid\",\"FC Barcelona\",\"Sevilla FC\",\"Valencia CF\",\"Villarreal CF\",\"Real Zaragoza\",\"Atl\\u00e9tico de Madrid\",\"Recreativo Huelva\",\"Getafe CF\",\"Racing Santander\",\"RCD Espanyol Barcelona\",\"RCD Mallorca\",\"Deportivo de La Coru\\u00f1a\",\"CA Osasuna\",\"Levante UD\",\"Real Betis Balompi\\u00e9\",\"Athletic Bilbao\",\"Celta de Vigo\",\"Real Sociedad\",\"Gimn\\u00e0stic de Tarragona\"],\"legendgroup\":\"liga\",\"marker\":{\"color\":\"gold\",\"symbol\":\"circle\"},\"mode\":\"markers\",\"name\":\"liga\",\"orientation\":\"v\",\"showlegend\":true,\"x\":[24.733333,27.5,25.115385,25.944444,25.115385,26.333333,24.926829,26.323529,26.192308,25.6875,25.541667,25.088235,25.456522,24.307692,28.206897,26.0,24.272727,25.48,25.931034,26.976744],\"xaxis\":\"x\",\"y\":[1,2,3,4,5,6,7,8,9,10,11,12,13,14,15,16,17,18,19,20],\"yaxis\":\"y\",\"type\":\"scatter\"},{\"hovertemplate\":\"<b>%{hovertext}</b><br><br>league=PL<br>Years=2006-07<br>Age=%{x}<br>Rk=%{y}<extra></extra>\",\"hovertext\":[\"Manchester United\",\"Chelsea FC FC\",\"Liverpool FC\",\"Arsenal FC\",\"Tottenham Hotspur\",\"Everton FC\",\"Bolton Wanderers\",\"Reading FC\",\"Portsmouth FC\",\"Blackburn Rovers\",\"Aston Villa\",\"Middlesbrough\",\"Newcastle United\",\"Manchester City\",\"West Ham United\",\"Fulham FC\",\"Wigan Athletic\",\"Sheffield United\",\"Charlton Athletic\",\"Watford FC\"],\"ids\":[\"Manchester United\",\"Chelsea FC FC\",\"Liverpool FC\",\"Arsenal FC\",\"Tottenham Hotspur\",\"Everton FC\",\"Bolton Wanderers\",\"Reading FC\",\"Portsmouth FC\",\"Blackburn Rovers\",\"Aston Villa\",\"Middlesbrough\",\"Newcastle United\",\"Manchester City\",\"West Ham United\",\"Fulham FC\",\"Wigan Athletic\",\"Sheffield United\",\"Charlton Athletic\",\"Watford FC\"],\"legendgroup\":\"PL\",\"marker\":{\"color\":\"blue\",\"symbol\":\"circle\"},\"mode\":\"markers\",\"name\":\"PL\",\"orientation\":\"v\",\"showlegend\":true,\"x\":[21.244898,23.714286,22.055556,22.085714,23.27907,23.464286,24.555556,21.0,24.762712,23.627451,25.888889,24.522727,25.208333,24.97619,24.136364,25.214286,26.510638,24.434211,22.764706,21.636364],\"xaxis\":\"x\",\"y\":[1,2,3,4,5,6,7,8,9,10,11,12,13,14,15,16,17,18,19,20],\"yaxis\":\"y\",\"type\":\"scatter\"},{\"hovertemplate\":\"<b>%{hovertext}</b><br><br>league=serieA<br>Years=2006-07<br>Age=%{x}<br>Rk=%{y}<extra></extra>\",\"hovertext\":[\"Inter Milan\",\"AS Roma\",\"SS Lazio\",\"AC Milan\",\"US Palermo\",\"ACF Fiorentina\",\"Empoli FC\",\"Atalanta BC\",\"UC Sampdoria\",\"Udinese Calcio\",\"AS Livorno\",\"Parma FC\",\"Calcio Catania\",\"Reggina Calcio\",\"AC Siena\",\"Torino FC\",\"Cagliari Calcio\",\"Chievo Verona\",\"Ascoli Calcio 1898\",\"FC Messina Peloro\"],\"ids\":[\"Inter Milan\",\"AS Roma\",\"SS Lazio\",\"AC Milan\",\"US Palermo\",\"ACF Fiorentina\",\"Empoli FC\",\"Atalanta BC\",\"UC Sampdoria\",\"Udinese Calcio\",\"AS Livorno\",\"Parma FC\",\"Calcio Catania\",\"Reggina Calcio\",\"AC Siena\",\"Torino FC\",\"Cagliari Calcio\",\"Chievo Verona\",\"Ascoli Calcio 1898\",\"FC Messina Peloro\"],\"legendgroup\":\"serieA\",\"marker\":{\"color\":\"green\",\"symbol\":\"circle\"},\"mode\":\"markers\",\"name\":\"serieA\",\"orientation\":\"v\",\"showlegend\":true,\"x\":[23.980392,24.888889,23.918919,24.472222,24.906977,26.09375,23.206897,24.030303,25.22449,22.698113,26.473684,24.451613,25.361111,24.714286,24.787234,26.909091,24.5,24.947368,25.890625,26.46],\"xaxis\":\"x\",\"y\":[1,2,3,4,5,6,7,8,9,10,11,12,13,14,15,16,17,18,19,20],\"yaxis\":\"y\",\"type\":\"scatter\"},{\"hovertemplate\":\"<b>%{hovertext}</b><br><br>league=ligue1<br>Years=2006-07<br>Age=%{x}<br>Rk=%{y}<extra></extra>\",\"hovertext\":[\"Olympique Lyon\",\"Olympique Marseille\",\"Toulouse\",\"Stade Rennais\",\"RC Lens\",\"FC Girondins Bordeaux\",\"FC Sochaux-Montb\\u00e9liard\",\"Auxerre\",\"AS Monaco\",\"LOSC Lille\",\"Saint-Etienne\",\"Le Mans Union Club 72\",\"Nancy-Lorraine\",\"Lorient\",\"Paris Saint-Germain\",\"OGC Nice\",\"Valenciennes\",\"ESTAC Troyes\",\"CS Sedan-Ardennes\",\"FC Nantes\"],\"ids\":[\"Olympique Lyon\",\"Olympique Marseille\",\"Toulouse\",\"Stade Rennais\",\"RC Lens\",\"FC Girondins Bordeaux\",\"FC Sochaux-Montb\\u00e9liard\",\"Auxerre\",\"AS Monaco\",\"LOSC Lille\",\"Saint-Etienne\",\"Le Mans Union Club 72\",\"Nancy-Lorraine\",\"Lorient\",\"Paris Saint-Germain\",\"OGC Nice\",\"Valenciennes\",\"ESTAC Troyes\",\"CS Sedan-Ardennes\",\"FC Nantes\"],\"legendgroup\":\"ligue1\",\"marker\":{\"color\":\"black\",\"symbol\":\"circle\"},\"mode\":\"markers\",\"name\":\"ligue1\",\"orientation\":\"v\",\"showlegend\":true,\"x\":[23.296296,25.115385,25.315789,23.235294,22.90625,23.576923,22.421053,24.862069,24.581395,22.4,24.1875,22.652174,22.941176,23.789474,24.848485,25.103448,25.6,26.470588,26.466667,24.673913],\"xaxis\":\"x\",\"y\":[1,2,3,4,5,6,7,8,9,10,11,12,13,14,15,16,17,18,19,20],\"yaxis\":\"y\",\"type\":\"scatter\"},{\"hovertemplate\":\"<b>%{hovertext}</b><br><br>league=bundesliga<br>Years=2006-07<br>Age=%{x}<br>Rk=%{y}<extra></extra>\",\"hovertext\":[\"VfB Stuttgart\",\"Schalke 04\",\"SV Werder Bremen\",\"Bayern Munich\",\"Bayer 04 Leverkusen\",\"Nuremberg\",\"Hamburger SV\",\"VfL Bochum\",\"Borussia Dortmund\",\"Hertha BSC\",\"Hannover 96\",\"Arminia Bielefeld\",\"FC Energie Cottbus\",\"Eintracht Frankfurt\",\"VfL Wolfsburg\",\"FSV Mainz 05\",\"Alemannia Aachen\",\"Borussia M\\u00f6nchengladbach\"],\"ids\":[\"VfB Stuttgart\",\"Schalke 04\",\"SV Werder Bremen\",\"Bayern Munich\",\"Bayer 04 Leverkusen\",\"Nuremberg\",\"Hamburger SV\",\"VfL Bochum\",\"Borussia Dortmund\",\"Hertha BSC\",\"Hannover 96\",\"Arminia Bielefeld\",\"FC Energie Cottbus\",\"Eintracht Frankfurt\",\"VfL Wolfsburg\",\"FSV Mainz 05\",\"Alemannia Aachen\",\"Borussia M\\u00f6nchengladbach\"],\"legendgroup\":\"bundesliga\",\"marker\":{\"color\":\"red\",\"symbol\":\"circle\"},\"mode\":\"markers\",\"name\":\"bundesliga\",\"orientation\":\"v\",\"showlegend\":true,\"x\":[24.794118,24.6,23.333333,25.571429,23.8,23.741935,24.75,25.4,23.35,23.230769,24.791667,24.681818,25.083333,24.941176,25.136364,25.0,26.285714,25.454545],\"xaxis\":\"x\",\"y\":[1,2,3,4,5,6,7,8,9,10,11,12,13,14,15,16,17,18],\"yaxis\":\"y\",\"type\":\"scatter\"}],\"name\":\"2006-07\"},{\"data\":[{\"hovertemplate\":\"<b>%{hovertext}</b><br><br>league=liga<br>Years=2007-08<br>Age=%{x}<br>Rk=%{y}<extra></extra>\",\"hovertext\":[\"Real Madrid\",\"Villarreal CF\",\"FC Barcelona\",\"Atl\\u00e9tico de Madrid\",\"Sevilla FC\",\"Racing Santander\",\"RCD Mallorca\",\"UD Almer\\u00eda\",\"Deportivo de La Coru\\u00f1a\",\"Valencia CF\",\"Athletic Bilbao\",\"RCD Espanyol Barcelona\",\"Real Betis Balompi\\u00e9\",\"Getafe CF\",\"Real Valladolid CF\",\"Recreativo Huelva\",\"CA Osasuna\",\"Real Zaragoza\",\"Real Murcia CF\",\"Levante UD\"],\"ids\":[\"Real Madrid\",\"Villarreal CF\",\"FC Barcelona\",\"Atl\\u00e9tico de Madrid\",\"Sevilla FC\",\"Racing Santander\",\"RCD Mallorca\",\"UD Almer\\u00eda\",\"Deportivo de La Coru\\u00f1a\",\"Valencia CF\",\"Athletic Bilbao\",\"RCD Espanyol Barcelona\",\"Real Betis Balompi\\u00e9\",\"Getafe CF\",\"Real Valladolid CF\",\"Recreativo Huelva\",\"CA Osasuna\",\"Real Zaragoza\",\"Real Murcia CF\",\"Levante UD\"],\"legendgroup\":\"liga\",\"marker\":{\"color\":\"gold\",\"symbol\":\"circle\"},\"mode\":\"markers\",\"name\":\"liga\",\"orientation\":\"v\",\"showlegend\":true,\"x\":[24.973684,24.043478,24.166667,24.029412,25.371429,23.871795,24.416667,25.774194,23.642857,23.906977,26.6,25.04,27.192308,23.68,25.4,26.25641,23.53125,25.903226,26.771429,28.377778],\"xaxis\":\"x\",\"y\":[1,2,3,4,5,6,7,8,9,10,11,12,13,14,15,16,17,18,19,20],\"yaxis\":\"y\",\"type\":\"scatter\"},{\"hovertemplate\":\"<b>%{hovertext}</b><br><br>league=PL<br>Years=2007-08<br>Age=%{x}<br>Rk=%{y}<extra></extra>\",\"hovertext\":[\"Manchester United\",\"Chelsea FC FC\",\"Arsenal FC\",\"Liverpool FC\",\"Everton FC\",\"Aston Villa\",\"Blackburn Rovers\",\"Portsmouth FC\",\"Manchester City\",\"West Ham United\",\"Tottenham Hotspur\",\"Newcastle United\",\"Middlesbrough\",\"Wigan Athletic\",\"Sunderland AFC\",\"Bolton Wanderers\",\"Fulham FC\",\"Reading FC\",\"Birmingham City\",\"Derby County\"],\"ids\":[\"Manchester United\",\"Chelsea FC FC\",\"Arsenal FC\",\"Liverpool FC\",\"Everton FC\",\"Aston Villa\",\"Blackburn Rovers\",\"Portsmouth FC\",\"Manchester City\",\"West Ham United\",\"Tottenham Hotspur\",\"Newcastle United\",\"Middlesbrough\",\"Wigan Athletic\",\"Sunderland AFC\",\"Bolton Wanderers\",\"Fulham FC\",\"Reading FC\",\"Birmingham City\",\"Derby County\"],\"legendgroup\":\"PL\",\"marker\":{\"color\":\"blue\",\"symbol\":\"circle\"},\"mode\":\"markers\",\"name\":\"PL\",\"orientation\":\"v\",\"showlegend\":true,\"x\":[21.553191,21.388889,20.828571,21.563636,24.4375,23.814815,22.081081,23.173077,23.666667,24.925,21.75,24.972222,23.0,25.891304,25.886792,24.208333,25.878788,20.826667,22.241379,26.413793],\"xaxis\":\"x\",\"y\":[1,2,3,4,5,6,7,8,9,10,11,12,13,14,15,16,17,18,19,20],\"yaxis\":\"y\",\"type\":\"scatter\"},{\"hovertemplate\":\"<b>%{hovertext}</b><br><br>league=serieA<br>Years=2007-08<br>Age=%{x}<br>Rk=%{y}<extra></extra>\",\"hovertext\":[\"Inter Milan\",\"AS Roma\",\"Juventus FC\",\"ACF Fiorentina\",\"AC Milan\",\"UC Sampdoria\",\"Udinese Calcio\",\"SSC Napoli\",\"Atalanta BC\",\"Genoa CFC\",\"US Palermo\",\"SS Lazio\",\"AC Siena\",\"Cagliari Calcio\",\"Torino FC\",\"Reggina Calcio\",\"Calcio Catania\",\"Empoli FC\",\"Parma FC\",\"AS Livorno\"],\"ids\":[\"Inter Milan\",\"AS Roma\",\"Juventus FC\",\"ACF Fiorentina\",\"AC Milan\",\"UC Sampdoria\",\"Udinese Calcio\",\"SSC Napoli\",\"Atalanta BC\",\"Genoa CFC\",\"US Palermo\",\"SS Lazio\",\"AC Siena\",\"Cagliari Calcio\",\"Torino FC\",\"Reggina Calcio\",\"Calcio Catania\",\"Empoli FC\",\"Parma FC\",\"AS Livorno\"],\"legendgroup\":\"serieA\",\"marker\":{\"color\":\"green\",\"symbol\":\"circle\"},\"mode\":\"markers\",\"name\":\"serieA\",\"orientation\":\"v\",\"showlegend\":true,\"x\":[22.133333,23.421053,23.62069,22.0,24.034483,23.891304,22.470588,23.9375,24.958333,24.294118,24.147059,24.709677,24.054545,24.826087,27.853659,23.48,25.4,22.904762,24.326531,27.382353],\"xaxis\":\"x\",\"y\":[1,2,3,4,5,6,7,8,9,10,11,12,13,14,15,16,17,18,19,20],\"yaxis\":\"y\",\"type\":\"scatter\"},{\"hovertemplate\":\"<b>%{hovertext}</b><br><br>league=ligue1<br>Years=2007-08<br>Age=%{x}<br>Rk=%{y}<extra></extra>\",\"hovertext\":[\"Olympique Lyon\",\"FC Girondins Bordeaux\",\"Olympique Marseille\",\"Nancy-Lorraine\",\"Saint-Etienne\",\"Stade Rennais\",\"LOSC Lille\",\"OGC Nice\",\"Le Mans Union Club 72\",\"Lorient\",\"SM Caen\",\"AS Monaco\",\"Valenciennes\",\"FC Sochaux-Montb\\u00e9liard\",\"Auxerre\",\"Paris Saint-Germain\",\"Toulouse\",\"RC Lens\",\"RC Strasbourg Alsace\",\"FC Metz\"],\"ids\":[\"Olympique Lyon\",\"FC Girondins Bordeaux\",\"Olympique Marseille\",\"Nancy-Lorraine\",\"Saint-Etienne\",\"Stade Rennais\",\"LOSC Lille\",\"OGC Nice\",\"Le Mans Union Club 72\",\"Lorient\",\"SM Caen\",\"AS Monaco\",\"Valenciennes\",\"FC Sochaux-Montb\\u00e9liard\",\"Auxerre\",\"Paris Saint-Germain\",\"Toulouse\",\"RC Lens\",\"RC Strasbourg Alsace\",\"FC Metz\"],\"legendgroup\":\"ligue1\",\"marker\":{\"color\":\"black\",\"symbol\":\"circle\"},\"mode\":\"markers\",\"name\":\"ligue1\",\"orientation\":\"v\",\"showlegend\":true,\"x\":[24.212121,22.969697,23.773585,23.3125,24.333333,25.457143,23.297297,24.571429,23.111111,23.75,24.833333,23.487805,27.842105,23.513514,24.40625,23.1,22.137931,24.756098,23.642857,23.314286],\"xaxis\":\"x\",\"y\":[1,2,3,4,5,6,7,8,9,10,11,12,13,14,15,16,17,18,19,20],\"yaxis\":\"y\",\"type\":\"scatter\"},{\"hovertemplate\":\"<b>%{hovertext}</b><br><br>league=bundesliga<br>Years=2007-08<br>Age=%{x}<br>Rk=%{y}<extra></extra>\",\"hovertext\":[\"Bayern Munich\",\"SV Werder Bremen\",\"Schalke 04\",\"Hamburger SV\",\"VfL Wolfsburg\",\"VfB Stuttgart\",\"Bayer 04 Leverkusen\",\"Hannover 96\",\"Eintracht Frankfurt\",\"Hertha BSC\",\"Karlsruher\",\"VfL Bochum\",\"Borussia Dortmund\",\"FC Energie Cottbus\",\"Arminia Bielefeld\",\"Nuremberg\",\"Hansa Rostock\",\"MSV Duisburg\"],\"ids\":[\"Bayern Munich\",\"SV Werder Bremen\",\"Schalke 04\",\"Hamburger SV\",\"VfL Wolfsburg\",\"VfB Stuttgart\",\"Bayer 04 Leverkusen\",\"Hannover 96\",\"Eintracht Frankfurt\",\"Hertha BSC\",\"Karlsruher\",\"VfL Bochum\",\"Borussia Dortmund\",\"FC Energie Cottbus\",\"Arminia Bielefeld\",\"Nuremberg\",\"Hansa Rostock\",\"MSV Duisburg\"],\"legendgroup\":\"bundesliga\",\"marker\":{\"color\":\"red\",\"symbol\":\"circle\"},\"mode\":\"markers\",\"name\":\"bundesliga\",\"orientation\":\"v\",\"showlegend\":true,\"x\":[25.44,22.5,24.2,22.551724,25.125,25.333333,24.826087,24.44,25.3125,23.833333,24.941176,26.323529,26.142857,25.1875,25.666667,26.37037,25.217391,27.060606],\"xaxis\":\"x\",\"y\":[1,2,3,4,5,6,7,8,9,10,11,12,13,14,15,16,17,18],\"yaxis\":\"y\",\"type\":\"scatter\"}],\"name\":\"2007-08\"},{\"data\":[{\"hovertemplate\":\"<b>%{hovertext}</b><br><br>league=liga<br>Years=2008-09<br>Age=%{x}<br>Rk=%{y}<extra></extra>\",\"hovertext\":[\"FC Barcelona\",\"Real Madrid\",\"Sevilla FC\",\"Atl\\u00e9tico de Madrid\",\"Villarreal CF\",\"Valencia CF\",\"Deportivo de La Coru\\u00f1a\",\"M\\u00e1laga CF\",\"RCD Mallorca\",\"RCD Espanyol Barcelona\",\"UD Almer\\u00eda\",\"Racing Santander\",\"Athletic Bilbao\",\"Sporting Gij\\u00f3n\",\"CA Osasuna\",\"Real Valladolid CF\",\"Getafe CF\",\"Real Betis Balompi\\u00e9\",\"CD Numancia\",\"Recreativo Huelva\"],\"ids\":[\"FC Barcelona\",\"Real Madrid\",\"Sevilla FC\",\"Atl\\u00e9tico de Madrid\",\"Villarreal CF\",\"Valencia CF\",\"Deportivo de La Coru\\u00f1a\",\"M\\u00e1laga CF\",\"RCD Mallorca\",\"RCD Espanyol Barcelona\",\"UD Almer\\u00eda\",\"Racing Santander\",\"Athletic Bilbao\",\"Sporting Gij\\u00f3n\",\"CA Osasuna\",\"Real Valladolid CF\",\"Getafe CF\",\"Real Betis Balompi\\u00e9\",\"CD Numancia\",\"Recreativo Huelva\"],\"legendgroup\":\"liga\",\"marker\":{\"color\":\"gold\",\"symbol\":\"circle\"},\"mode\":\"markers\",\"name\":\"liga\",\"orientation\":\"v\",\"showlegend\":true,\"x\":[25.714286,23.217391,25.6,24.206897,23.823529,24.488372,24.285714,26.935484,25.675676,25.0,25.608696,24.057143,26.909091,24.833333,24.178571,25.423077,24.5,27.259259,26.52,24.633333],\"xaxis\":\"x\",\"y\":[1,2,3,4,5,6,7,8,9,10,11,12,13,14,15,16,17,18,19,20],\"yaxis\":\"y\",\"type\":\"scatter\"},{\"hovertemplate\":\"<b>%{hovertext}</b><br><br>league=PL<br>Years=2008-09<br>Age=%{x}<br>Rk=%{y}<extra></extra>\",\"hovertext\":[\"Manchester United\",\"Liverpool FC\",\"Chelsea FC FC\",\"Arsenal FC\",\"Everton FC\",\"Aston Villa\",\"Fulham FC\",\"Tottenham Hotspur\",\"West Ham United\",\"Manchester City\",\"Wigan Athletic\",\"Stoke City\",\"Bolton Wanderers\",\"Portsmouth FC\",\"Blackburn Rovers\",\"Sunderland AFC\",\"Hull City\",\"Newcastle United\",\"Middlesbrough\",\"West Bromwich Albion\"],\"ids\":[\"Manchester United\",\"Liverpool FC\",\"Chelsea FC FC\",\"Arsenal FC\",\"Everton FC\",\"Aston Villa\",\"Fulham FC\",\"Tottenham Hotspur\",\"West Ham United\",\"Manchester City\",\"Wigan Athletic\",\"Stoke City\",\"Bolton Wanderers\",\"Portsmouth FC\",\"Blackburn Rovers\",\"Sunderland AFC\",\"Hull City\",\"Newcastle United\",\"Middlesbrough\",\"West Bromwich Albion\"],\"legendgroup\":\"PL\",\"marker\":{\"color\":\"blue\",\"symbol\":\"circle\"},\"mode\":\"markers\",\"name\":\"PL\",\"orientation\":\"v\",\"showlegend\":true,\"x\":[21.289474,21.561404,24.25,21.285714,23.625,24.676471,25.455882,22.458333,24.25,23.454545,24.163265,23.647059,25.3,22.886792,22.960784,24.544118,27.75,22.216216,22.416667,23.878049],\"xaxis\":\"x\",\"y\":[1,2,3,4,5,6,7,8,9,10,11,12,13,14,15,16,17,18,19,20],\"yaxis\":\"y\",\"type\":\"scatter\"},{\"hovertemplate\":\"<b>%{hovertext}</b><br><br>league=serieA<br>Years=2008-09<br>Age=%{x}<br>Rk=%{y}<extra></extra>\",\"hovertext\":[\"Inter Milan\",\"Juventus FC\",\"AC Milan\",\"ACF Fiorentina\",\"Genoa CFC\",\"AS Roma\",\"Udinese Calcio\",\"US Palermo\",\"Cagliari Calcio\",\"SS Lazio\",\"Atalanta BC\",\"SSC Napoli\",\"UC Sampdoria\",\"AC Siena\",\"Calcio Catania\",\"Chievo Verona\",\"Bologna FC 1909\",\"Torino FC\",\"Reggina Calcio\",\"US Lecce\"],\"ids\":[\"Inter Milan\",\"Juventus FC\",\"AC Milan\",\"ACF Fiorentina\",\"Genoa CFC\",\"AS Roma\",\"Udinese Calcio\",\"US Palermo\",\"Cagliari Calcio\",\"SS Lazio\",\"Atalanta BC\",\"SSC Napoli\",\"UC Sampdoria\",\"AC Siena\",\"Calcio Catania\",\"Chievo Verona\",\"Bologna FC 1909\",\"Torino FC\",\"Reggina Calcio\",\"US Lecce\"],\"legendgroup\":\"serieA\",\"marker\":{\"color\":\"green\",\"symbol\":\"circle\"},\"mode\":\"markers\",\"name\":\"serieA\",\"orientation\":\"v\",\"showlegend\":true,\"x\":[22.76087,22.612245,25.076923,23.486486,23.013699,21.696429,22.932432,23.25,23.482759,24.794872,23.520833,25.896552,22.389831,23.7,24.552632,24.54,25.633333,26.363636,23.77551,23.186047],\"xaxis\":\"x\",\"y\":[1,2,3,4,5,6,7,8,9,10,11,12,13,14,15,16,17,18,19,20],\"yaxis\":\"y\",\"type\":\"scatter\"},{\"hovertemplate\":\"<b>%{hovertext}</b><br><br>league=ligue1<br>Years=2008-09<br>Age=%{x}<br>Rk=%{y}<extra></extra>\",\"hovertext\":[\"FC Girondins Bordeaux\",\"Olympique Marseille\",\"Olympique Lyon\",\"Toulouse\",\"LOSC Lille\",\"Paris Saint-Germain\",\"Stade Rennais\",\"Auxerre\",\"OGC Nice\",\"Lorient\",\"AS Monaco\",\"Valenciennes\",\"Grenoble Foot 38\",\"FC Sochaux-Montb\\u00e9liard\",\"Nancy-Lorraine\",\"Le Mans Union Club 72\",\"Saint-Etienne\",\"SM Caen\",\"FC Nantes\",\"Le Havre\"],\"ids\":[\"FC Girondins Bordeaux\",\"Olympique Marseille\",\"Olympique Lyon\",\"Toulouse\",\"LOSC Lille\",\"Paris Saint-Germain\",\"Stade Rennais\",\"Auxerre\",\"OGC Nice\",\"Lorient\",\"AS Monaco\",\"Valenciennes\",\"Grenoble Foot 38\",\"FC Sochaux-Montb\\u00e9liard\",\"Nancy-Lorraine\",\"Le Mans Union Club 72\",\"Saint-Etienne\",\"SM Caen\",\"FC Nantes\",\"Le Havre\"],\"legendgroup\":\"ligue1\",\"marker\":{\"color\":\"black\",\"symbol\":\"circle\"},\"mode\":\"markers\",\"name\":\"ligue1\",\"orientation\":\"v\",\"showlegend\":true,\"x\":[21.884615,24.28,25.068966,25.078947,23.166667,24.451613,23.166667,23.333333,24.25,23.517241,22.934783,26.0,24.608696,23.888889,24.241379,22.857143,23.806452,23.375,25.157895,23.783784],\"xaxis\":\"x\",\"y\":[1,2,3,4,5,6,7,8,9,10,11,12,13,14,15,16,17,18,19,20],\"yaxis\":\"y\",\"type\":\"scatter\"},{\"hovertemplate\":\"<b>%{hovertext}</b><br><br>league=bundesliga<br>Years=2008-09<br>Age=%{x}<br>Rk=%{y}<extra></extra>\",\"hovertext\":[\"VfL Wolfsburg\",\"Bayern Munich\",\"VfB Stuttgart\",\"Hertha BSC\",\"Hamburger SV\",\"Borussia Dortmund\",\"TSG 1899 Hoffenheim\",\"Schalke 04\",\"Bayer 04 Leverkusen\",\"SV Werder Bremen\",\"Hannover 96\",\"FC FC K\\u00f6ln\",\"Eintracht Frankfurt\",\"VfL Bochum\",\"Borussia M\\u00f6nchengladbach\",\"FC Energie Cottbus\",\"Karlsruher\",\"Arminia Bielefeld\"],\"ids\":[\"VfL Wolfsburg\",\"Bayern Munich\",\"VfB Stuttgart\",\"Hertha BSC\",\"Hamburger SV\",\"Borussia Dortmund\",\"TSG 1899 Hoffenheim\",\"Schalke 04\",\"Bayer 04 Leverkusen\",\"SV Werder Bremen\",\"Hannover 96\",\"FC FC K\\u00f6ln\",\"Eintracht Frankfurt\",\"VfL Bochum\",\"Borussia M\\u00f6nchengladbach\",\"FC Energie Cottbus\",\"Karlsruher\",\"Arminia Bielefeld\"],\"legendgroup\":\"bundesliga\",\"marker\":{\"color\":\"red\",\"symbol\":\"circle\"},\"mode\":\"markers\",\"name\":\"bundesliga\",\"orientation\":\"v\",\"showlegend\":true,\"x\":[26.073171,26.444444,24.392857,23.0,23.275862,25.5,24.5,24.0,23.785714,22.842105,26.380952,24.653846,24.785714,26.272727,26.166667,23.83871,25.636364,26.096774],\"xaxis\":\"x\",\"y\":[1,2,3,4,5,6,7,8,9,10,11,12,13,14,15,16,17,18],\"yaxis\":\"y\",\"type\":\"scatter\"}],\"name\":\"2008-09\"},{\"data\":[{\"hovertemplate\":\"<b>%{hovertext}</b><br><br>league=liga<br>Years=2009-10<br>Age=%{x}<br>Rk=%{y}<extra></extra>\",\"hovertext\":[\"FC Barcelona\",\"Real Madrid\",\"Valencia CF\",\"Sevilla FC\",\"RCD Mallorca\",\"Getafe CF\",\"Villarreal CF\",\"Athletic Bilbao\",\"Atl\\u00e9tico de Madrid\",\"Deportivo de La Coru\\u00f1a\",\"RCD Espanyol Barcelona\",\"CA Osasuna\",\"UD Almer\\u00eda\",\"Real Zaragoza\",\"Sporting Gij\\u00f3n\",\"Racing Santander\",\"M\\u00e1laga CF\",\"Real Valladolid CF\",\"CD Tenerife\",\"Xerez CD\"],\"ids\":[\"FC Barcelona\",\"Real Madrid\",\"Valencia CF\",\"Sevilla FC\",\"RCD Mallorca\",\"Getafe CF\",\"Villarreal CF\",\"Athletic Bilbao\",\"Atl\\u00e9tico de Madrid\",\"Deportivo de La Coru\\u00f1a\",\"RCD Espanyol Barcelona\",\"CA Osasuna\",\"UD Almer\\u00eda\",\"Real Zaragoza\",\"Sporting Gij\\u00f3n\",\"Racing Santander\",\"M\\u00e1laga CF\",\"Real Valladolid CF\",\"CD Tenerife\",\"Xerez CD\"],\"legendgroup\":\"liga\",\"marker\":{\"color\":\"gold\",\"symbol\":\"circle\"},\"mode\":\"markers\",\"name\":\"liga\",\"orientation\":\"v\",\"showlegend\":true,\"x\":[24.333333,25.5,24.823529,26.428571,24.344828,25.791667,24.653846,25.611111,24.733333,25.692308,24.285714,24.88,25.157895,26.722222,25.631579,23.871795,25.804878,24.789474,24.428571,24.222222],\"xaxis\":\"x\",\"y\":[1,2,3,4,5,6,7,8,9,10,11,12,13,14,15,16,17,18,19,20],\"yaxis\":\"y\",\"type\":\"scatter\"},{\"hovertemplate\":\"<b>%{hovertext}</b><br><br>league=PL<br>Years=2009-10<br>Age=%{x}<br>Rk=%{y}<extra></extra>\",\"hovertext\":[\"Chelsea FC FC\",\"Manchester United\",\"Arsenal FC\",\"Tottenham Hotspur\",\"Manchester City\",\"Aston Villa\",\"Liverpool FC\",\"Everton FC\",\"Birmingham City\",\"Blackburn Rovers\",\"Stoke City\",\"Fulham FC\",\"Sunderland AFC\",\"Bolton Wanderers\",\"Wolverhampton Wanderers\",\"Wigan Athletic\",\"West Ham United\",\"Burnley FC\",\"Hull City\",\"Portsmouth FC\"],\"ids\":[\"Chelsea FC FC\",\"Manchester United\",\"Arsenal FC\",\"Tottenham Hotspur\",\"Manchester City\",\"Aston Villa\",\"Liverpool FC\",\"Everton FC\",\"Birmingham City\",\"Blackburn Rovers\",\"Stoke City\",\"Fulham FC\",\"Sunderland AFC\",\"Bolton Wanderers\",\"Wolverhampton Wanderers\",\"Wigan Athletic\",\"West Ham United\",\"Burnley FC\",\"Hull City\",\"Portsmouth FC\"],\"legendgroup\":\"PL\",\"marker\":{\"color\":\"blue\",\"symbol\":\"circle\"},\"mode\":\"markers\",\"name\":\"PL\",\"orientation\":\"v\",\"showlegend\":true,\"x\":[22.178571,21.219512,21.074074,21.378788,24.22,24.081081,22.543478,23.935484,23.851852,22.635135,23.916667,24.215686,25.25,22.205128,23.0,24.75,24.24,22.115385,24.377778,24.268657],\"xaxis\":\"x\",\"y\":[1,2,3,4,5,6,7,8,9,10,11,12,13,14,15,16,17,18,19,20],\"yaxis\":\"y\",\"type\":\"scatter\"},{\"hovertemplate\":\"<b>%{hovertext}</b><br><br>league=serieA<br>Years=2009-10<br>Age=%{x}<br>Rk=%{y}<extra></extra>\",\"hovertext\":[\"Inter Milan\",\"AS Roma\",\"AC Milan\",\"UC Sampdoria\",\"US Palermo\",\"SSC Napoli\",\"Juventus FC\",\"Parma FC\",\"Genoa CFC\",\"AS Bari\",\"ACF Fiorentina\",\"SS Lazio\",\"Calcio Catania\",\"Chievo Verona\",\"Udinese Calcio\",\"Cagliari Calcio\",\"Bologna FC 1909\",\"Atalanta BC\",\"AC Siena\",\"AS Livorno\"],\"ids\":[\"Inter Milan\",\"AS Roma\",\"AC Milan\",\"UC Sampdoria\",\"US Palermo\",\"SSC Napoli\",\"Juventus FC\",\"Parma FC\",\"Genoa CFC\",\"AS Bari\",\"ACF Fiorentina\",\"SS Lazio\",\"Calcio Catania\",\"Chievo Verona\",\"Udinese Calcio\",\"Cagliari Calcio\",\"Bologna FC 1909\",\"Atalanta BC\",\"AC Siena\",\"AS Livorno\"],\"legendgroup\":\"serieA\",\"marker\":{\"color\":\"green\",\"symbol\":\"circle\"},\"mode\":\"markers\",\"name\":\"serieA\",\"orientation\":\"v\",\"showlegend\":true,\"x\":[23.590164,23.651163,24.588235,23.846154,23.08,25.40625,23.325,24.027027,22.977778,24.264706,23.291667,23.820513,25.241379,24.491525,22.644737,23.04,27.545455,23.612245,23.907692,24.844444],\"xaxis\":\"x\",\"y\":[1,2,3,4,5,6,7,8,9,10,11,12,13,14,15,16,17,18,19,20],\"yaxis\":\"y\",\"type\":\"scatter\"},{\"hovertemplate\":\"<b>%{hovertext}</b><br><br>league=ligue1<br>Years=2009-10<br>Age=%{x}<br>Rk=%{y}<extra></extra>\",\"hovertext\":[\"Olympique Marseille\",\"Olympique Lyon\",\"Auxerre\",\"LOSC Lille\",\"Montpellier\",\"FC Girondins Bordeaux\",\"Lorient\",\"AS Monaco\",\"Stade Rennais\",\"Valenciennes\",\"RC Lens\",\"Nancy-Lorraine\",\"Paris Saint-Germain\",\"Toulouse\",\"OGC Nice\",\"FC Sochaux-Montb\\u00e9liard\",\"Saint-Etienne\",\"Le Mans Union Club 72\",\"Boulogne\",\"Grenoble Foot 38\"],\"ids\":[\"Olympique Marseille\",\"Olympique Lyon\",\"Auxerre\",\"LOSC Lille\",\"Montpellier\",\"FC Girondins Bordeaux\",\"Lorient\",\"AS Monaco\",\"Stade Rennais\",\"Valenciennes\",\"RC Lens\",\"Nancy-Lorraine\",\"Paris Saint-Germain\",\"Toulouse\",\"OGC Nice\",\"FC Sochaux-Montb\\u00e9liard\",\"Saint-Etienne\",\"Le Mans Union Club 72\",\"Boulogne\",\"Grenoble Foot 38\"],\"legendgroup\":\"ligue1\",\"marker\":{\"color\":\"black\",\"symbol\":\"circle\"},\"mode\":\"markers\",\"name\":\"ligue1\",\"orientation\":\"v\",\"showlegend\":true,\"x\":[24.395833,22.538462,22.814815,24.225806,25.055556,21.655172,25.277778,24.384615,22.820513,26.863636,22.884615,23.785714,25.78125,25.043478,26.391304,24.970588,24.576923,22.9,24.733333,26.482759],\"xaxis\":\"x\",\"y\":[1,2,3,4,5,6,7,8,9,10,11,12,13,14,15,16,17,18,19,20],\"yaxis\":\"y\",\"type\":\"scatter\"},{\"hovertemplate\":\"<b>%{hovertext}</b><br><br>league=bundesliga<br>Years=2009-10<br>Age=%{x}<br>Rk=%{y}<extra></extra>\",\"hovertext\":[\"Bayern Munich\",\"Schalke 04\",\"SV Werder Bremen\",\"Bayer 04 Leverkusen\",\"Borussia Dortmund\",\"VfB Stuttgart\",\"Hamburger SV\",\"VfL Wolfsburg\",\"FSV Mainz 05\",\"Eintracht Frankfurt\",\"TSG 1899 Hoffenheim\",\"Borussia M\\u00f6nchengladbach\",\"FC FC K\\u00f6ln\",\"SC Freiburg\",\"Hannover 96\",\"Nuremberg\",\"VfL Bochum\",\"Hertha BSC\"],\"ids\":[\"Bayern Munich\",\"Schalke 04\",\"SV Werder Bremen\",\"Bayer 04 Leverkusen\",\"Borussia Dortmund\",\"VfB Stuttgart\",\"Hamburger SV\",\"VfL Wolfsburg\",\"FSV Mainz 05\",\"Eintracht Frankfurt\",\"TSG 1899 Hoffenheim\",\"Borussia M\\u00f6nchengladbach\",\"FC FC K\\u00f6ln\",\"SC Freiburg\",\"Hannover 96\",\"Nuremberg\",\"VfL Bochum\",\"Hertha BSC\"],\"legendgroup\":\"bundesliga\",\"marker\":{\"color\":\"red\",\"symbol\":\"circle\"},\"mode\":\"markers\",\"name\":\"bundesliga\",\"orientation\":\"v\",\"showlegend\":true,\"x\":[25.0,23.242424,23.1875,23.7,23.772727,23.75,24.083333,26.172414,25.8,23.26087,22.15,25.272727,23.9,23.136364,26.315789,23.166667,25.761905,26.064516],\"xaxis\":\"x\",\"y\":[1,2,3,4,5,6,7,8,9,10,11,12,13,14,15,16,17,18],\"yaxis\":\"y\",\"type\":\"scatter\"}],\"name\":\"2009-10\"},{\"data\":[{\"hovertemplate\":\"<b>%{hovertext}</b><br><br>league=liga<br>Years=2010-11<br>Age=%{x}<br>Rk=%{y}<extra></extra>\",\"hovertext\":[\"FC Barcelona\",\"Real Madrid\",\"Valencia CF\",\"Villarreal CF\",\"Sevilla FC\",\"Athletic Bilbao\",\"Atl\\u00e9tico de Madrid\",\"RCD Espanyol Barcelona\",\"CA Osasuna\",\"Sporting Gij\\u00f3n\",\"M\\u00e1laga CF\",\"Racing Santander\",\"Real Zaragoza\",\"Levante UD\",\"Real Sociedad\",\"Getafe CF\",\"RCD Mallorca\",\"Deportivo de La Coru\\u00f1a\",\"H\\u00e9rcules CF\",\"UD Almer\\u00eda\"],\"ids\":[\"FC Barcelona\",\"Real Madrid\",\"Valencia CF\",\"Villarreal CF\",\"Sevilla FC\",\"Athletic Bilbao\",\"Atl\\u00e9tico de Madrid\",\"RCD Espanyol Barcelona\",\"CA Osasuna\",\"Sporting Gij\\u00f3n\",\"M\\u00e1laga CF\",\"Racing Santander\",\"Real Zaragoza\",\"Levante UD\",\"Real Sociedad\",\"Getafe CF\",\"RCD Mallorca\",\"Deportivo de La Coru\\u00f1a\",\"H\\u00e9rcules CF\",\"UD Almer\\u00eda\"],\"legendgroup\":\"liga\",\"marker\":{\"color\":\"gold\",\"symbol\":\"circle\"},\"mode\":\"markers\",\"name\":\"liga\",\"orientation\":\"v\",\"showlegend\":true,\"x\":[25.277778,26.153846,25.5625,25.25,24.78125,25.047619,23.681818,24.918919,25.227273,25.833333,24.851064,24.774194,26.235294,27.214286,24.842105,26.05,24.621622,26.033333,26.833333,24.115385],\"xaxis\":\"x\",\"y\":[1,2,3,4,5,6,7,8,9,10,11,12,13,14,15,16,17,18,19,20],\"yaxis\":\"y\",\"type\":\"scatter\"},{\"hovertemplate\":\"<b>%{hovertext}</b><br><br>league=PL<br>Years=2010-11<br>Age=%{x}<br>Rk=%{y}<extra></extra>\",\"hovertext\":[\"Manchester United\",\"Chelsea FC FC\",\"Manchester City\",\"Arsenal FC\",\"Tottenham Hotspur\",\"Liverpool FC\",\"Everton FC\",\"Fulham FC\",\"Aston Villa\",\"Sunderland AFC\",\"West Bromwich Albion\",\"Newcastle United\",\"Stoke City\",\"Bolton Wanderers\",\"Blackburn Rovers\",\"Wigan Athletic\",\"Wolverhampton Wanderers\",\"Birmingham City\",\"Blackpool\",\"West Ham United\"],\"ids\":[\"Manchester United\",\"Chelsea FC FC\",\"Manchester City\",\"Arsenal FC\",\"Tottenham Hotspur\",\"Liverpool FC\",\"Everton FC\",\"Fulham FC\",\"Aston Villa\",\"Sunderland AFC\",\"West Bromwich Albion\",\"Newcastle United\",\"Stoke City\",\"Bolton Wanderers\",\"Blackburn Rovers\",\"Wigan Athletic\",\"Wolverhampton Wanderers\",\"Birmingham City\",\"Blackpool\",\"West Ham United\"],\"legendgroup\":\"PL\",\"marker\":{\"color\":\"blue\",\"symbol\":\"circle\"},\"mode\":\"markers\",\"name\":\"PL\",\"orientation\":\"v\",\"showlegend\":true,\"x\":[21.045455,21.725,23.084746,22.238095,21.422535,23.571429,23.346154,24.842105,23.9,24.096774,24.0,23.142857,25.595745,24.027778,23.017241,24.636364,22.928571,24.466667,24.62,24.459459],\"xaxis\":\"x\",\"y\":[1,2,3,4,5,6,7,8,9,10,11,12,13,14,15,16,17,18,19,20],\"yaxis\":\"y\",\"type\":\"scatter\"},{\"hovertemplate\":\"<b>%{hovertext}</b><br><br>league=serieA<br>Years=2010-11<br>Age=%{x}<br>Rk=%{y}<extra></extra>\",\"hovertext\":[\"AC Milan\",\"Inter Milan\",\"SSC Napoli\",\"Udinese Calcio\",\"SS Lazio\",\"AS Roma\",\"Juventus FC\",\"US Palermo\",\"ACF Fiorentina\",\"Genoa CFC\",\"Chievo Verona\",\"Parma FC\",\"Calcio Catania\",\"Cagliari Calcio\",\"AC Cesena\",\"Bologna FC 1909\",\"US Lecce\",\"UC Sampdoria\",\"Brescia Calcio\",\"AS Bari\"],\"ids\":[\"AC Milan\",\"Inter Milan\",\"SSC Napoli\",\"Udinese Calcio\",\"SS Lazio\",\"AS Roma\",\"Juventus FC\",\"US Palermo\",\"ACF Fiorentina\",\"Genoa CFC\",\"Chievo Verona\",\"Parma FC\",\"Calcio Catania\",\"Cagliari Calcio\",\"AC Cesena\",\"Bologna FC 1909\",\"US Lecce\",\"UC Sampdoria\",\"Brescia Calcio\",\"AS Bari\"],\"legendgroup\":\"serieA\",\"marker\":{\"color\":\"green\",\"symbol\":\"circle\"},\"mode\":\"markers\",\"name\":\"serieA\",\"orientation\":\"v\",\"showlegend\":true,\"x\":[24.305085,22.45098,25.027027,22.662162,26.413793,25.230769,24.333333,23.583333,22.606061,22.6,24.139241,23.349398,23.7,25.516129,24.473684,25.404762,24.510204,24.06,24.405405,24.131148],\"xaxis\":\"x\",\"y\":[1,2,3,4,5,6,7,8,9,10,11,12,13,14,15,16,17,18,19,20],\"yaxis\":\"y\",\"type\":\"scatter\"},{\"hovertemplate\":\"<b>%{hovertext}</b><br><br>league=ligue1<br>Years=2010-11<br>Age=%{x}<br>Rk=%{y}<extra></extra>\",\"hovertext\":[\"LOSC Lille\",\"Olympique Marseille\",\"Olympique Lyon\",\"Paris Saint-Germain\",\"FC Sochaux-Montb\\u00e9liard\",\"Stade Rennais\",\"FC Girondins Bordeaux\",\"Toulouse\",\"Auxerre\",\"Saint-Etienne\",\"Lorient\",\"Valenciennes\",\"Nancy-Lorraine\",\"Montpellier\",\"SM Caen\",\"Stade Brestois 29\",\"OGC Nice\",\"AS Monaco\",\"RC Lens\",\"Athl\\u00e9tic Club Arl\\u00e9sien\"],\"ids\":[\"LOSC Lille\",\"Olympique Marseille\",\"Olympique Lyon\",\"Paris Saint-Germain\",\"FC Sochaux-Montb\\u00e9liard\",\"Stade Rennais\",\"FC Girondins Bordeaux\",\"Toulouse\",\"Auxerre\",\"Saint-Etienne\",\"Lorient\",\"Valenciennes\",\"Nancy-Lorraine\",\"Montpellier\",\"SM Caen\",\"Stade Brestois 29\",\"OGC Nice\",\"AS Monaco\",\"RC Lens\",\"Athl\\u00e9tic Club Arl\\u00e9sien\"],\"legendgroup\":\"ligue1\",\"marker\":{\"color\":\"black\",\"symbol\":\"circle\"},\"mode\":\"markers\",\"name\":\"ligue1\",\"orientation\":\"v\",\"showlegend\":true,\"x\":[24.5625,24.121212,24.777778,24.818182,24.3,23.162162,23.166667,22.85,23.521739,25.0,23.428571,25.047619,24.354839,24.2,25.055556,25.72,24.115385,24.410714,23.695652,25.877551],\"xaxis\":\"x\",\"y\":[1,2,3,4,5,6,7,8,9,10,11,12,13,14,15,16,17,18,19,20],\"yaxis\":\"y\",\"type\":\"scatter\"},{\"hovertemplate\":\"<b>%{hovertext}</b><br><br>league=bundesliga<br>Years=2010-11<br>Age=%{x}<br>Rk=%{y}<extra></extra>\",\"hovertext\":[\"Borussia Dortmund\",\"Bayer 04 Leverkusen\",\"Bayern Munich\",\"Hannover 96\",\"FSV Mainz 05\",\"Nuremberg\",\"Kaiserslautern\",\"Hamburger SV\",\"SC Freiburg\",\"FC FC K\\u00f6ln\",\"TSG 1899 Hoffenheim\",\"VfB Stuttgart\",\"SV Werder Bremen\",\"Schalke 04\",\"VfL Wolfsburg\",\"Borussia M\\u00f6nchengladbach\",\"Eintracht Frankfurt\",\"FC St. Pauli\"],\"ids\":[\"Borussia Dortmund\",\"Bayer 04 Leverkusen\",\"Bayern Munich\",\"Hannover 96\",\"FSV Mainz 05\",\"Nuremberg\",\"Kaiserslautern\",\"Hamburger SV\",\"SC Freiburg\",\"FC FC K\\u00f6ln\",\"TSG 1899 Hoffenheim\",\"VfB Stuttgart\",\"SV Werder Bremen\",\"Schalke 04\",\"VfL Wolfsburg\",\"Borussia M\\u00f6nchengladbach\",\"Eintracht Frankfurt\",\"FC St. Pauli\"],\"legendgroup\":\"bundesliga\",\"marker\":{\"color\":\"red\",\"symbol\":\"circle\"},\"mode\":\"markers\",\"name\":\"bundesliga\",\"orientation\":\"v\",\"showlegend\":true,\"x\":[23.375,23.310345,25.333333,25.62963,23.621622,22.815789,23.384615,22.0,23.076923,23.451613,22.419355,25.821429,22.962963,24.375,24.323529,25.681818,23.84,26.5],\"xaxis\":\"x\",\"y\":[1,2,3,4,5,6,7,8,9,10,11,12,13,14,15,16,17,18],\"yaxis\":\"y\",\"type\":\"scatter\"}],\"name\":\"2010-11\"},{\"data\":[{\"hovertemplate\":\"<b>%{hovertext}</b><br><br>league=liga<br>Years=2011-12<br>Age=%{x}<br>Rk=%{y}<extra></extra>\",\"hovertext\":[\"Real Madrid\",\"FC Barcelona\",\"Valencia CF\",\"M\\u00e1laga CF\",\"Atl\\u00e9tico de Madrid\",\"Levante UD\",\"CA Osasuna\",\"RCD Mallorca\",\"Sevilla FC\",\"Athletic Bilbao\",\"Getafe CF\",\"Real Sociedad\",\"Real Betis Balompi\\u00e9\",\"RCD Espanyol Barcelona\",\"Rayo Vallecano\",\"Real Zaragoza\",\"Granada CF\",\"Villarreal CF\",\"Sporting Gij\\u00f3n\",\"Racing Santander\"],\"ids\":[\"Real Madrid\",\"FC Barcelona\",\"Valencia CF\",\"M\\u00e1laga CF\",\"Atl\\u00e9tico de Madrid\",\"Levante UD\",\"CA Osasuna\",\"RCD Mallorca\",\"Sevilla FC\",\"Athletic Bilbao\",\"Getafe CF\",\"Real Sociedad\",\"Real Betis Balompi\\u00e9\",\"RCD Espanyol Barcelona\",\"Rayo Vallecano\",\"Real Zaragoza\",\"Granada CF\",\"Villarreal CF\",\"Sporting Gij\\u00f3n\",\"Racing Santander\"],\"legendgroup\":\"liga\",\"marker\":{\"color\":\"gold\",\"symbol\":\"circle\"},\"mode\":\"markers\",\"name\":\"liga\",\"orientation\":\"v\",\"showlegend\":true,\"x\":[24.692308,24.958333,25.129032,25.375,23.195122,26.388889,25.766667,25.625,24.394737,24.846154,25.088235,24.666667,26.62069,24.921053,25.294118,26.292683,24.606061,25.666667,25.6875,23.857143],\"xaxis\":\"x\",\"y\":[1,2,3,4,5,6,7,8,9,10,11,12,13,14,15,16,17,18,19,20],\"yaxis\":\"y\",\"type\":\"scatter\"},{\"hovertemplate\":\"<b>%{hovertext}</b><br><br>league=PL<br>Years=2011-12<br>Age=%{x}<br>Rk=%{y}<extra></extra>\",\"hovertext\":[\"Manchester City\",\"Manchester United\",\"Arsenal FC\",\"Tottenham Hotspur\",\"Newcastle United\",\"Chelsea FC FC\",\"Everton FC\",\"Liverpool FC\",\"Fulham FC\",\"West Bromwich Albion\",\"Swansea City\",\"Norwich City\",\"Sunderland AFC\",\"Stoke City\",\"Wigan Athletic\",\"Aston Villa\",\"Queens Park Rangers\",\"Bolton Wanderers\",\"Blackburn Rovers\",\"Wolverhampton Wanderers\"],\"ids\":[\"Manchester City\",\"Manchester United\",\"Arsenal FC\",\"Tottenham Hotspur\",\"Newcastle United\",\"Chelsea FC FC\",\"Everton FC\",\"Liverpool FC\",\"Fulham FC\",\"West Bromwich Albion\",\"Swansea City\",\"Norwich City\",\"Sunderland AFC\",\"Stoke City\",\"Wigan Athletic\",\"Aston Villa\",\"Queens Park Rangers\",\"Bolton Wanderers\",\"Blackburn Rovers\",\"Wolverhampton Wanderers\"],\"legendgroup\":\"PL\",\"marker\":{\"color\":\"blue\",\"symbol\":\"circle\"},\"mode\":\"markers\",\"name\":\"PL\",\"orientation\":\"v\",\"showlegend\":true,\"x\":[23.171875,22.914286,23.118644,23.479452,22.381818,21.522727,23.972222,23.675,25.5,24.254902,24.813953,22.315789,23.462687,24.615385,22.973684,24.73913,25.057471,23.326087,23.181818,22.854839],\"xaxis\":\"x\",\"y\":[1,2,3,4,5,6,7,8,9,10,11,12,13,14,15,16,17,18,19,20],\"yaxis\":\"y\",\"type\":\"scatter\"},{\"hovertemplate\":\"<b>%{hovertext}</b><br><br>league=serieA<br>Years=2011-12<br>Age=%{x}<br>Rk=%{y}<extra></extra>\",\"hovertext\":[\"Juventus FC\",\"AC Milan\",\"Udinese Calcio\",\"SS Lazio\",\"SSC Napoli\",\"Inter Milan\",\"AS Roma\",\"Parma FC\",\"Bologna FC 1909\",\"Chievo Verona\",\"Calcio Catania\",\"Atalanta BC\",\"ACF Fiorentina\",\"AC Siena\",\"Cagliari Calcio\",\"US Palermo\",\"Genoa CFC\",\"US Lecce\",\"Novara Calcio\",\"AC Cesena\"],\"ids\":[\"Juventus FC\",\"AC Milan\",\"Udinese Calcio\",\"SS Lazio\",\"SSC Napoli\",\"Inter Milan\",\"AS Roma\",\"Parma FC\",\"Bologna FC 1909\",\"Chievo Verona\",\"Calcio Catania\",\"Atalanta BC\",\"ACF Fiorentina\",\"AC Siena\",\"Cagliari Calcio\",\"US Palermo\",\"Genoa CFC\",\"US Lecce\",\"Novara Calcio\",\"AC Cesena\"],\"legendgroup\":\"serieA\",\"marker\":{\"color\":\"green\",\"symbol\":\"circle\"},\"mode\":\"markers\",\"name\":\"serieA\",\"orientation\":\"v\",\"showlegend\":true,\"x\":[24.2,23.365079,23.486842,25.153846,25.172414,23.44,23.5,23.176471,24.466667,23.743902,25.0,25.413043,23.759259,24.175676,23.676471,24.333333,23.424242,25.413043,25.553191,24.329114],\"xaxis\":\"x\",\"y\":[1,2,3,4,5,6,7,8,9,10,11,12,13,14,15,16,17,18,19,20],\"yaxis\":\"y\",\"type\":\"scatter\"},{\"hovertemplate\":\"<b>%{hovertext}</b><br><br>league=ligue1<br>Years=2011-12<br>Age=%{x}<br>Rk=%{y}<extra></extra>\",\"hovertext\":[\"Montpellier\",\"Paris Saint-Germain\",\"LOSC Lille\",\"Olympique Lyon\",\"FC Girondins Bordeaux\",\"Stade Rennais\",\"Saint-Etienne\",\"Toulouse\",\"FC \\u00c9vian Thonon Gaillard\",\"Olympique Marseille\",\"Nancy-Lorraine\",\"Valenciennes\",\"OGC Nice\",\"FC Sochaux-Montb\\u00e9liard\",\"Stade Brestois 29\",\"Ajaccio\",\"Lorient\",\"SM Caen\",\"Dijon FCO\",\"Auxerre\"],\"ids\":[\"Montpellier\",\"Paris Saint-Germain\",\"LOSC Lille\",\"Olympique Lyon\",\"FC Girondins Bordeaux\",\"Stade Rennais\",\"Saint-Etienne\",\"Toulouse\",\"FC \\u00c9vian Thonon Gaillard\",\"Olympique Marseille\",\"Nancy-Lorraine\",\"Valenciennes\",\"OGC Nice\",\"FC Sochaux-Montb\\u00e9liard\",\"Stade Brestois 29\",\"Ajaccio\",\"Lorient\",\"SM Caen\",\"Dijon FCO\",\"Auxerre\"],\"legendgroup\":\"ligue1\",\"marker\":{\"color\":\"black\",\"symbol\":\"circle\"},\"mode\":\"markers\",\"name\":\"ligue1\",\"orientation\":\"v\",\"showlegend\":true,\"x\":[24.619048,26.090909,25.108108,22.238095,23.774194,24.086957,25.47619,23.608696,25.866667,25.65625,25.314286,24.75,25.666667,23.84,25.730769,25.190476,24.571429,22.875,24.026316,23.2],\"xaxis\":\"x\",\"y\":[1,2,3,4,5,6,7,8,9,10,11,12,13,14,15,16,17,18,19,20],\"yaxis\":\"y\",\"type\":\"scatter\"},{\"hovertemplate\":\"<b>%{hovertext}</b><br><br>league=bundesliga<br>Years=2011-12<br>Age=%{x}<br>Rk=%{y}<extra></extra>\",\"hovertext\":[\"Borussia Dortmund\",\"Bayern Munich\",\"Schalke 04\",\"Borussia M\\u00f6nchengladbach\",\"Bayer 04 Leverkusen\",\"VfB Stuttgart\",\"Hannover 96\",\"VfL Wolfsburg\",\"SV Werder Bremen\",\"Nuremberg\",\"TSG 1899 Hoffenheim\",\"SC Freiburg\",\"FSV Mainz 05\",\"Augsburg\",\"Hamburger SV\",\"Hertha BSC\",\"FC FC K\\u00f6ln\",\"Kaiserslautern\"],\"ids\":[\"Borussia Dortmund\",\"Bayern Munich\",\"Schalke 04\",\"Borussia M\\u00f6nchengladbach\",\"Bayer 04 Leverkusen\",\"VfB Stuttgart\",\"Hannover 96\",\"VfL Wolfsburg\",\"SV Werder Bremen\",\"Nuremberg\",\"TSG 1899 Hoffenheim\",\"SC Freiburg\",\"FSV Mainz 05\",\"Augsburg\",\"Hamburger SV\",\"Hertha BSC\",\"FC FC K\\u00f6ln\",\"Kaiserslautern\"],\"legendgroup\":\"bundesliga\",\"marker\":{\"color\":\"red\",\"symbol\":\"circle\"},\"mode\":\"markers\",\"name\":\"bundesliga\",\"orientation\":\"v\",\"showlegend\":true,\"x\":[23.894737,23.538462,25.241379,23.342105,22.612903,23.954545,22.6875,24.804348,23.694444,23.09375,22.033333,24.5,24.324324,23.72,24.692308,24.217391,23.138889,23.966667],\"xaxis\":\"x\",\"y\":[1,2,3,4,5,6,7,8,9,10,11,12,13,14,15,16,17,18],\"yaxis\":\"y\",\"type\":\"scatter\"}],\"name\":\"2011-12\"},{\"data\":[{\"hovertemplate\":\"<b>%{hovertext}</b><br><br>league=liga<br>Years=2012-13<br>Age=%{x}<br>Rk=%{y}<extra></extra>\",\"hovertext\":[\"FC Barcelona\",\"Real Madrid\",\"Atl\\u00e9tico de Madrid\",\"Real Sociedad\",\"Valencia CF\",\"M\\u00e1laga CF\",\"Real Betis Balompi\\u00e9\",\"Rayo Vallecano\",\"Sevilla FC\",\"Getafe CF\",\"Levante UD\",\"Athletic Bilbao\",\"RCD Espanyol Barcelona\",\"Real Valladolid CF\",\"Granada CF\",\"CA Osasuna\",\"Celta de Vigo\",\"RCD Mallorca\",\"Deportivo de La Coru\\u00f1a\",\"Real Zaragoza\"],\"ids\":[\"FC Barcelona\",\"Real Madrid\",\"Atl\\u00e9tico de Madrid\",\"Real Sociedad\",\"Valencia CF\",\"M\\u00e1laga CF\",\"Real Betis Balompi\\u00e9\",\"Rayo Vallecano\",\"Sevilla FC\",\"Getafe CF\",\"Levante UD\",\"Athletic Bilbao\",\"RCD Espanyol Barcelona\",\"Real Valladolid CF\",\"Granada CF\",\"CA Osasuna\",\"Celta de Vigo\",\"RCD Mallorca\",\"Deportivo de La Coru\\u00f1a\",\"Real Zaragoza\"],\"legendgroup\":\"liga\",\"marker\":{\"color\":\"gold\",\"symbol\":\"circle\"},\"mode\":\"markers\",\"name\":\"liga\",\"orientation\":\"v\",\"showlegend\":true,\"x\":[23.5,25.466667,24.766667,24.75,26.04,26.96875,24.866667,25.625,25.933333,25.566667,26.926829,27.0,24.16129,26.086957,24.917647,26.588235,26.347826,24.724138,26.846154,25.906977],\"xaxis\":\"x\",\"y\":[1,2,3,4,5,6,7,8,9,10,11,12,13,14,15,16,17,18,19,20],\"yaxis\":\"y\",\"type\":\"scatter\"},{\"hovertemplate\":\"<b>%{hovertext}</b><br><br>league=PL<br>Years=2012-13<br>Age=%{x}<br>Rk=%{y}<extra></extra>\",\"hovertext\":[\"Manchester United\",\"Manchester City\",\"Chelsea FC FC\",\"Arsenal FC\",\"Tottenham Hotspur\",\"Everton FC\",\"Liverpool FC\",\"West Bromwich Albion\",\"Swansea City\",\"West Ham United\",\"Norwich City\",\"Fulham FC\",\"Stoke City\",\"Southampton FC\",\"Aston Villa\",\"Newcastle United\",\"Sunderland AFC\",\"Wigan Athletic\",\"Reading FC\",\"Queens Park Rangers\"],\"ids\":[\"Manchester United\",\"Manchester City\",\"Chelsea FC FC\",\"Arsenal FC\",\"Tottenham Hotspur\",\"Everton FC\",\"Liverpool FC\",\"West Bromwich Albion\",\"Swansea City\",\"West Ham United\",\"Norwich City\",\"Fulham FC\",\"Stoke City\",\"Southampton FC\",\"Aston Villa\",\"Newcastle United\",\"Sunderland AFC\",\"Wigan Athletic\",\"Reading FC\",\"Queens Park Rangers\"],\"legendgroup\":\"PL\",\"marker\":{\"color\":\"blue\",\"symbol\":\"circle\"},\"mode\":\"markers\",\"name\":\"PL\",\"orientation\":\"v\",\"showlegend\":true,\"x\":[22.424242,22.98,21.105263,22.972973,24.0,23.461538,23.108108,23.647059,24.738095,25.115385,24.272727,24.517857,26.531915,25.0,24.419355,22.095238,23.75,22.613636,22.816667,25.364706],\"xaxis\":\"x\",\"y\":[1,2,3,4,5,6,7,8,9,10,11,12,13,14,15,16,17,18,19,20],\"yaxis\":\"y\",\"type\":\"scatter\"},{\"hovertemplate\":\"<b>%{hovertext}</b><br><br>league=serieA<br>Years=2012-13<br>Age=%{x}<br>Rk=%{y}<extra></extra>\",\"hovertext\":[\"Juventus FC\",\"SSC Napoli\",\"AC Milan\",\"ACF Fiorentina\",\"Udinese Calcio\",\"AS Roma\",\"SS Lazio\",\"Calcio Catania\",\"Inter Milan\",\"Parma FC\",\"Cagliari Calcio\",\"Chievo Verona\",\"Bologna FC 1909\",\"UC Sampdoria\",\"Atalanta BC\",\"Torino FC\",\"Genoa CFC\",\"US Palermo\",\"AC Siena\",\"Delfino Pescara 1936\"],\"ids\":[\"Juventus FC\",\"SSC Napoli\",\"AC Milan\",\"ACF Fiorentina\",\"Udinese Calcio\",\"AS Roma\",\"SS Lazio\",\"Calcio Catania\",\"Inter Milan\",\"Parma FC\",\"Cagliari Calcio\",\"Chievo Verona\",\"Bologna FC 1909\",\"UC Sampdoria\",\"Atalanta BC\",\"Torino FC\",\"Genoa CFC\",\"US Palermo\",\"AC Siena\",\"Delfino Pescara 1936\"],\"legendgroup\":\"serieA\",\"marker\":{\"color\":\"green\",\"symbol\":\"circle\"},\"mode\":\"markers\",\"name\":\"serieA\",\"orientation\":\"v\",\"showlegend\":true,\"x\":[23.65625,24.146341,24.732394,25.444444,24.013333,23.046154,24.846154,23.44898,23.647059,22.949367,24.028571,24.706667,24.62963,24.203125,25.78,25.90566,24.490566,24.796875,25.03125,23.924242],\"xaxis\":\"x\",\"y\":[1,2,3,4,5,6,7,8,9,10,11,12,13,14,15,16,17,18,19,20],\"yaxis\":\"y\",\"type\":\"scatter\"},{\"hovertemplate\":\"<b>%{hovertext}</b><br><br>league=ligue1<br>Years=2012-13<br>Age=%{x}<br>Rk=%{y}<extra></extra>\",\"hovertext\":[\"Paris Saint-Germain\",\"Olympique Marseille\",\"Olympique Lyon\",\"OGC Nice\",\"Saint-Etienne\",\"LOSC Lille\",\"FC Girondins Bordeaux\",\"Lorient\",\"Montpellier\",\"Toulouse\",\"Valenciennes\",\"SC Bastia\",\"Stade Rennais\",\"Stade Reims\",\"FC Sochaux-Montb\\u00e9liard\",\"FC \\u00c9vian Thonon Gaillard\",\"Ajaccio\",\"Nancy-Lorraine\",\"ESTAC Troyes\",\"Stade Brestois 29\"],\"ids\":[\"Paris Saint-Germain\",\"Olympique Marseille\",\"Olympique Lyon\",\"OGC Nice\",\"Saint-Etienne\",\"LOSC Lille\",\"FC Girondins Bordeaux\",\"Lorient\",\"Montpellier\",\"Toulouse\",\"Valenciennes\",\"SC Bastia\",\"Stade Rennais\",\"Stade Reims\",\"FC Sochaux-Montb\\u00e9liard\",\"FC \\u00c9vian Thonon Gaillard\",\"Ajaccio\",\"Nancy-Lorraine\",\"ESTAC Troyes\",\"Stade Brestois 29\"],\"legendgroup\":\"ligue1\",\"marker\":{\"color\":\"black\",\"symbol\":\"circle\"},\"mode\":\"markers\",\"name\":\"ligue1\",\"orientation\":\"v\",\"showlegend\":true,\"x\":[25.538462,24.517241,23.0,23.305556,26.205882,23.3,22.777778,24.038462,23.529412,24.428571,23.631579,25.481481,25.0,25.0,25.083333,26.5,26.08,24.361702,24.25,27.0],\"xaxis\":\"x\",\"y\":[1,2,3,4,5,6,7,8,9,10,11,12,13,14,15,16,17,18,19,20],\"yaxis\":\"y\",\"type\":\"scatter\"},{\"hovertemplate\":\"<b>%{hovertext}</b><br><br>league=bundesliga<br>Years=2012-13<br>Age=%{x}<br>Rk=%{y}<extra></extra>\",\"hovertext\":[\"Bayern Munich\",\"Borussia Dortmund\",\"Bayer 04 Leverkusen\",\"Schalke 04\",\"SC Freiburg\",\"Eintracht Frankfurt\",\"Hamburger SV\",\"Borussia M\\u00f6nchengladbach\",\"Hannover 96\",\"Nuremberg\",\"VfL Wolfsburg\",\"VfB Stuttgart\",\"FSV Mainz 05\",\"SV Werder Bremen\",\"Augsburg\",\"TSG 1899 Hoffenheim\",\"Fortuna D\\u00fcsseldorf\",\"SpVgg Greuther F\\u00fcrth\"],\"ids\":[\"Bayern Munich\",\"Borussia Dortmund\",\"Bayer 04 Leverkusen\",\"Schalke 04\",\"SC Freiburg\",\"Eintracht Frankfurt\",\"Hamburger SV\",\"Borussia M\\u00f6nchengladbach\",\"Hannover 96\",\"Nuremberg\",\"VfL Wolfsburg\",\"VfB Stuttgart\",\"FSV Mainz 05\",\"SV Werder Bremen\",\"Augsburg\",\"TSG 1899 Hoffenheim\",\"Fortuna D\\u00fcsseldorf\",\"SpVgg Greuther F\\u00fcrth\"],\"legendgroup\":\"bundesliga\",\"marker\":{\"color\":\"red\",\"symbol\":\"circle\"},\"mode\":\"markers\",\"name\":\"bundesliga\",\"orientation\":\"v\",\"showlegend\":true,\"x\":[24.470588,23.416667,21.810811,25.282051,23.473684,25.05,23.857143,22.32,23.826087,22.321429,25.469388,23.368421,24.521739,24.392857,25.969697,23.530612,24.622222,23.894737],\"xaxis\":\"x\",\"y\":[1,2,3,4,5,6,7,8,9,10,11,12,13,14,15,16,17,18],\"yaxis\":\"y\",\"type\":\"scatter\"}],\"name\":\"2012-13\"},{\"data\":[{\"hovertemplate\":\"<b>%{hovertext}</b><br><br>league=liga<br>Years=2013-14<br>Age=%{x}<br>Rk=%{y}<extra></extra>\",\"hovertext\":[\"Atl\\u00e9tico de Madrid\",\"FC Barcelona\",\"Real Madrid\",\"Athletic Bilbao\",\"Sevilla FC\",\"Villarreal CF\",\"Real Sociedad\",\"Valencia CF\",\"Celta de Vigo\",\"Levante UD\",\"M\\u00e1laga CF\",\"Rayo Vallecano\",\"Getafe CF\",\"RCD Espanyol Barcelona\",\"Granada CF\",\"Elche CF\",\"UD Almer\\u00eda\",\"CA Osasuna\",\"Real Valladolid CF\",\"Real Betis Balompi\\u00e9\"],\"ids\":[\"Atl\\u00e9tico de Madrid\",\"FC Barcelona\",\"Real Madrid\",\"Athletic Bilbao\",\"Sevilla FC\",\"Villarreal CF\",\"Real Sociedad\",\"Valencia CF\",\"Celta de Vigo\",\"Levante UD\",\"M\\u00e1laga CF\",\"Rayo Vallecano\",\"Getafe CF\",\"RCD Espanyol Barcelona\",\"Granada CF\",\"Elche CF\",\"UD Almer\\u00eda\",\"CA Osasuna\",\"Real Valladolid CF\",\"Real Betis Balompi\\u00e9\"],\"legendgroup\":\"liga\",\"marker\":{\"color\":\"gold\",\"symbol\":\"circle\"},\"mode\":\"markers\",\"name\":\"liga\",\"orientation\":\"v\",\"showlegend\":true,\"x\":[24.289474,23.0,24.666667,24.583333,24.854545,26.741935,25.833333,25.965517,25.852941,28.0,25.536585,25.837838,25.875,23.62069,24.611111,26.090909,26.066667,27.074074,24.736842,24.767442],\"xaxis\":\"x\",\"y\":[1,2,3,4,5,6,7,8,9,10,11,12,13,14,15,16,17,18,19,20],\"yaxis\":\"y\",\"type\":\"scatter\"},{\"hovertemplate\":\"<b>%{hovertext}</b><br><br>league=PL<br>Years=2013-14<br>Age=%{x}<br>Rk=%{y}<extra></extra>\",\"hovertext\":[\"Manchester City\",\"Liverpool FC\",\"Chelsea FC FC\",\"Arsenal FC\",\"Everton FC\",\"Tottenham Hotspur\",\"Manchester United\",\"Southampton FC\",\"Stoke City\",\"Newcastle United\",\"Crystal Palace\",\"Swansea City\",\"West Ham United\",\"Sunderland AFC\",\"Aston Villa\",\"Hull City\",\"West Bromwich Albion\",\"Norwich City\",\"Fulham FC\",\"Cardiff City\"],\"ids\":[\"Manchester City\",\"Liverpool FC\",\"Chelsea FC FC\",\"Arsenal FC\",\"Everton FC\",\"Tottenham Hotspur\",\"Manchester United\",\"Southampton FC\",\"Stoke City\",\"Newcastle United\",\"Crystal Palace\",\"Swansea City\",\"West Ham United\",\"Sunderland AFC\",\"Aston Villa\",\"Hull City\",\"West Bromwich Albion\",\"Norwich City\",\"Fulham FC\",\"Cardiff City\"],\"legendgroup\":\"PL\",\"marker\":{\"color\":\"blue\",\"symbol\":\"circle\"},\"mode\":\"markers\",\"name\":\"PL\",\"orientation\":\"v\",\"showlegend\":true,\"x\":[24.5,22.146341,21.918919,23.454545,23.526316,23.719298,21.736842,24.512195,25.525,22.30303,24.037975,24.073171,25.0,23.072464,24.016129,24.723077,26.032258,24.232558,24.796875,23.564516],\"xaxis\":\"x\",\"y\":[1,2,3,4,5,6,7,8,9,10,11,12,13,14,15,16,17,18,19,20],\"yaxis\":\"y\",\"type\":\"scatter\"},{\"hovertemplate\":\"<b>%{hovertext}</b><br><br>league=serieA<br>Years=2013-14<br>Age=%{x}<br>Rk=%{y}<extra></extra>\",\"hovertext\":[\"Juventus FC\",\"AS Roma\",\"SSC Napoli\",\"ACF Fiorentina\",\"Inter Milan\",\"Parma FC\",\"Torino FC\",\"AC Milan\",\"SS Lazio\",\"Hellas Verona\",\"Atalanta BC\",\"UC Sampdoria\",\"Udinese Calcio\",\"Genoa CFC\",\"Cagliari Calcio\",\"Chievo Verona\",\"US Sassuolo\",\"Calcio Catania\",\"Bologna FC 1909\",\"AS Livorno\"],\"ids\":[\"Juventus FC\",\"AS Roma\",\"SSC Napoli\",\"ACF Fiorentina\",\"Inter Milan\",\"Parma FC\",\"Torino FC\",\"AC Milan\",\"SS Lazio\",\"Hellas Verona\",\"Atalanta BC\",\"UC Sampdoria\",\"Udinese Calcio\",\"Genoa CFC\",\"Cagliari Calcio\",\"Chievo Verona\",\"US Sassuolo\",\"Calcio Catania\",\"Bologna FC 1909\",\"AS Livorno\"],\"legendgroup\":\"serieA\",\"marker\":{\"color\":\"green\",\"symbol\":\"circle\"},\"mode\":\"markers\",\"name\":\"serieA\",\"orientation\":\"v\",\"showlegend\":true,\"x\":[22.967213,23.166667,26.054545,24.8125,22.967742,22.647564,25.042553,23.5,24.394737,24.618421,24.169811,23.128571,22.974359,25.010417,22.655172,23.849462,24.305085,23.844828,23.202899,23.722222],\"xaxis\":\"x\",\"y\":[1,2,3,4,5,6,7,8,9,10,11,12,13,14,15,16,17,18,19,20],\"yaxis\":\"y\",\"type\":\"scatter\"},{\"hovertemplate\":\"<b>%{hovertext}</b><br><br>league=ligue1<br>Years=2013-14<br>Age=%{x}<br>Rk=%{y}<extra></extra>\",\"hovertext\":[\"Paris Saint-Germain\",\"AS Monaco\",\"LOSC Lille\",\"Saint-Etienne\",\"Olympique Lyon\",\"Olympique Marseille\",\"FC Girondins Bordeaux\",\"Lorient\",\"Toulouse\",\"SC Bastia\",\"Stade Reims\",\"Stade Rennais\",\"FC Nantes\",\"FC \\u00c9vian Thonon Gaillard\",\"Montpellier\",\"Guingamp\",\"OGC Nice\",\"FC Sochaux-Montb\\u00e9liard\",\"Valenciennes\",\"Ajaccio\"],\"ids\":[\"Paris Saint-Germain\",\"AS Monaco\",\"LOSC Lille\",\"Saint-Etienne\",\"Olympique Lyon\",\"Olympique Marseille\",\"FC Girondins Bordeaux\",\"Lorient\",\"Toulouse\",\"SC Bastia\",\"Stade Reims\",\"Stade Rennais\",\"FC Nantes\",\"FC \\u00c9vian Thonon Gaillard\",\"Montpellier\",\"Guingamp\",\"OGC Nice\",\"FC Sochaux-Montb\\u00e9liard\",\"Valenciennes\",\"Ajaccio\"],\"legendgroup\":\"ligue1\",\"marker\":{\"color\":\"black\",\"symbol\":\"circle\"},\"mode\":\"markers\",\"name\":\"ligue1\",\"orientation\":\"v\",\"showlegend\":true,\"x\":[24.314286,23.465517,23.0,23.085714,23.590909,22.964286,25.045455,22.678571,24.269231,26.027027,23.684211,23.684211,26.35,24.470588,24.56,24.857143,23.2,24.033333,24.863636,26.25641],\"xaxis\":\"x\",\"y\":[1,2,3,4,5,6,7,8,9,10,11,12,13,14,15,16,17,18,19,20],\"yaxis\":\"y\",\"type\":\"scatter\"},{\"hovertemplate\":\"<b>%{hovertext}</b><br><br>league=bundesliga<br>Years=2013-14<br>Age=%{x}<br>Rk=%{y}<extra></extra>\",\"hovertext\":[\"Bayern Munich\",\"Borussia Dortmund\",\"Schalke 04\",\"Bayer 04 Leverkusen\",\"VfL Wolfsburg\",\"Borussia M\\u00f6nchengladbach\",\"FSV Mainz 05\",\"Augsburg\",\"TSG 1899 Hoffenheim\",\"Hannover 96\",\"Hertha BSC\",\"SV Werder Bremen\",\"Eintracht Frankfurt\",\"SC Freiburg\",\"VfB Stuttgart\",\"Hamburger SV\",\"Nuremberg\",\"Eintracht Braunschweig\"],\"ids\":[\"Bayern Munich\",\"Borussia Dortmund\",\"Schalke 04\",\"Bayer 04 Leverkusen\",\"VfL Wolfsburg\",\"Borussia M\\u00f6nchengladbach\",\"FSV Mainz 05\",\"Augsburg\",\"TSG 1899 Hoffenheim\",\"Hannover 96\",\"Hertha BSC\",\"SV Werder Bremen\",\"Eintracht Frankfurt\",\"SC Freiburg\",\"VfB Stuttgart\",\"Hamburger SV\",\"Nuremberg\",\"Eintracht Braunschweig\"],\"legendgroup\":\"bundesliga\",\"marker\":{\"color\":\"red\",\"symbol\":\"circle\"},\"mode\":\"markers\",\"name\":\"bundesliga\",\"orientation\":\"v\",\"showlegend\":true,\"x\":[22.733333,22.541667,24.777778,22.941176,23.982759,22.888889,25.392857,24.103448,23.604167,23.588235,24.304348,23.545455,26.730769,23.7,24.090909,23.090909,22.171429,24.05],\"xaxis\":\"x\",\"y\":[1,2,3,4,5,6,7,8,9,10,11,12,13,14,15,16,17,18],\"yaxis\":\"y\",\"type\":\"scatter\"}],\"name\":\"2013-14\"},{\"data\":[{\"hovertemplate\":\"<b>%{hovertext}</b><br><br>league=liga<br>Years=2014-15<br>Age=%{x}<br>Rk=%{y}<extra></extra>\",\"hovertext\":[\"FC Barcelona\",\"Real Madrid\",\"Atl\\u00e9tico de Madrid\",\"Valencia CF\",\"Sevilla FC\",\"Villarreal CF\",\"Athletic Bilbao\",\"Celta de Vigo\",\"M\\u00e1laga CF\",\"RCD Espanyol Barcelona\",\"Rayo Vallecano\",\"Real Sociedad\",\"Elche CF\",\"Levante UD\",\"Getafe CF\",\"Deportivo de La Coru\\u00f1a\",\"Granada CF\",\"SD Eibar\",\"UD Almer\\u00eda\",\"C\\u00f3rdoba CF\"],\"ids\":[\"FC Barcelona\",\"Real Madrid\",\"Atl\\u00e9tico de Madrid\",\"Valencia CF\",\"Sevilla FC\",\"Villarreal CF\",\"Athletic Bilbao\",\"Celta de Vigo\",\"M\\u00e1laga CF\",\"RCD Espanyol Barcelona\",\"Rayo Vallecano\",\"Real Sociedad\",\"Elche CF\",\"Levante UD\",\"Getafe CF\",\"Deportivo de La Coru\\u00f1a\",\"Granada CF\",\"SD Eibar\",\"UD Almer\\u00eda\",\"C\\u00f3rdoba CF\"],\"legendgroup\":\"liga\",\"marker\":{\"color\":\"gold\",\"symbol\":\"circle\"},\"mode\":\"markers\",\"name\":\"liga\",\"orientation\":\"v\",\"showlegend\":true,\"x\":[25.535714,24.875,25.040816,25.125,25.0,24.137931,22.45,26.0,25.888889,24.5625,25.130435,24.75,25.939394,27.071429,26.681818,24.833333,24.810127,26.461538,25.484848,25.319149],\"xaxis\":\"x\",\"y\":[1,2,3,4,5,6,7,8,9,10,11,12,13,14,15,16,17,18,19,20],\"yaxis\":\"y\",\"type\":\"scatter\"},{\"hovertemplate\":\"<b>%{hovertext}</b><br><br>league=PL<br>Years=2014-15<br>Age=%{x}<br>Rk=%{y}<extra></extra>\",\"hovertext\":[\"Chelsea FC FC\",\"Manchester City\",\"Arsenal FC\",\"Manchester United\",\"Tottenham Hotspur\",\"Liverpool FC\",\"Southampton FC\",\"Swansea City\",\"Stoke City\",\"Crystal Palace\",\"Everton FC\",\"West Ham United\",\"West Bromwich Albion\",\"Leicester City\",\"Newcastle United\",\"Sunderland AFC\",\"Aston Villa\",\"Hull City\",\"Burnley FC\",\"Queens Park Rangers\"],\"ids\":[\"Chelsea FC FC\",\"Manchester City\",\"Arsenal FC\",\"Manchester United\",\"Tottenham Hotspur\",\"Liverpool FC\",\"Southampton FC\",\"Swansea City\",\"Stoke City\",\"Crystal Palace\",\"Everton FC\",\"West Ham United\",\"West Bromwich Albion\",\"Leicester City\",\"Newcastle United\",\"Sunderland AFC\",\"Aston Villa\",\"Hull City\",\"Burnley FC\",\"Queens Park Rangers\"],\"legendgroup\":\"PL\",\"marker\":{\"color\":\"blue\",\"symbol\":\"circle\"},\"mode\":\"markers\",\"name\":\"PL\",\"orientation\":\"v\",\"showlegend\":true,\"x\":[22.977778,24.275862,23.35,23.660377,23.25,22.456522,25.326531,24.313725,24.225,25.345238,22.46875,23.339286,26.342857,25.232143,22.653061,24.519231,23.459016,23.3,23.553191,23.929577],\"xaxis\":\"x\",\"y\":[1,2,3,4,5,6,7,8,9,10,11,12,13,14,15,16,17,18,19,20],\"yaxis\":\"y\",\"type\":\"scatter\"},{\"hovertemplate\":\"<b>%{hovertext}</b><br><br>league=serieA<br>Years=2014-15<br>Age=%{x}<br>Rk=%{y}<extra></extra>\",\"hovertext\":[\"Juventus FC\",\"AS Roma\",\"SS Lazio\",\"ACF Fiorentina\",\"SSC Napoli\",\"Genoa CFC\",\"UC Sampdoria\",\"Inter Milan\",\"Torino FC\",\"AC Milan\",\"US Palermo\",\"US Sassuolo\",\"Hellas Verona\",\"Chievo Verona\",\"Empoli FC\",\"Udinese Calcio\",\"Atalanta BC\",\"Cagliari Calcio\",\"AC Cesena\",\"Parma FC\"],\"ids\":[\"Juventus FC\",\"AS Roma\",\"SS Lazio\",\"ACF Fiorentina\",\"SSC Napoli\",\"Genoa CFC\",\"UC Sampdoria\",\"Inter Milan\",\"Torino FC\",\"AC Milan\",\"US Palermo\",\"US Sassuolo\",\"Hellas Verona\",\"Chievo Verona\",\"Empoli FC\",\"Udinese Calcio\",\"Atalanta BC\",\"Cagliari Calcio\",\"AC Cesena\",\"Parma FC\"],\"legendgroup\":\"serieA\",\"marker\":{\"color\":\"green\",\"symbol\":\"circle\"},\"mode\":\"markers\",\"name\":\"serieA\",\"orientation\":\"v\",\"showlegend\":true,\"x\":[22.356322,23.015385,22.977778,23.886792,24.851064,24.761364,23.756757,23.384615,24.677419,24.253165,23.457627,24.568182,24.465909,24.179245,22.982759,23.443038,23.57971,23.0,24.390244,23.678431],\"xaxis\":\"x\",\"y\":[1,2,3,4,5,6,7,8,9,10,11,12,13,14,15,16,17,18,19,20],\"yaxis\":\"y\",\"type\":\"scatter\"},{\"hovertemplate\":\"<b>%{hovertext}</b><br><br>league=ligue1<br>Years=2014-15<br>Age=%{x}<br>Rk=%{y}<extra></extra>\",\"hovertext\":[\"Paris Saint-Germain\",\"Olympique Lyon\",\"AS Monaco\",\"Olympique Marseille\",\"Saint-Etienne\",\"FC Girondins Bordeaux\",\"Montpellier\",\"LOSC Lille\",\"Stade Rennais\",\"Guingamp\",\"OGC Nice\",\"SC Bastia\",\"SM Caen\",\"FC Nantes\",\"Stade Reims\",\"Lorient\",\"Toulouse\",\"FC \\u00c9vian Thonon Gaillard\",\"FC Metz\",\"RC Lens\"],\"ids\":[\"Paris Saint-Germain\",\"Olympique Lyon\",\"AS Monaco\",\"Olympique Marseille\",\"Saint-Etienne\",\"FC Girondins Bordeaux\",\"Montpellier\",\"LOSC Lille\",\"Stade Rennais\",\"Guingamp\",\"OGC Nice\",\"SC Bastia\",\"SM Caen\",\"FC Nantes\",\"Stade Reims\",\"Lorient\",\"Toulouse\",\"FC \\u00c9vian Thonon Gaillard\",\"FC Metz\",\"RC Lens\"],\"legendgroup\":\"ligue1\",\"marker\":{\"color\":\"black\",\"symbol\":\"circle\"},\"mode\":\"markers\",\"name\":\"ligue1\",\"orientation\":\"v\",\"showlegend\":true,\"x\":[22.764706,24.0625,23.37037,24.5625,25.05,23.939394,23.48,22.583333,24.809524,27.0,24.923077,24.270833,25.96,24.25,24.809524,23.657895,23.95,25.818182,23.289474,22.823529],\"xaxis\":\"x\",\"y\":[1,2,3,4,5,6,7,8,9,10,11,12,13,14,15,16,17,18,19,20],\"yaxis\":\"y\",\"type\":\"scatter\"},{\"hovertemplate\":\"<b>%{hovertext}</b><br><br>league=bundesliga<br>Years=2014-15<br>Age=%{x}<br>Rk=%{y}<extra></extra>\",\"hovertext\":[\"Bayern Munich\",\"VfL Wolfsburg\",\"Borussia M\\u00f6nchengladbach\",\"Bayer 04 Leverkusen\",\"Augsburg\",\"Schalke 04\",\"Borussia Dortmund\",\"TSG 1899 Hoffenheim\",\"Eintracht Frankfurt\",\"SV Werder Bremen\",\"FSV Mainz 05\",\"FC FC K\\u00f6ln\",\"Hannover 96\",\"VfB Stuttgart\",\"Hertha BSC\",\"Hamburger SV\",\"SC Freiburg\",\"SC Paderborn 07\"],\"ids\":[\"Bayern Munich\",\"VfL Wolfsburg\",\"Borussia M\\u00f6nchengladbach\",\"Bayer 04 Leverkusen\",\"Augsburg\",\"Schalke 04\",\"Borussia Dortmund\",\"TSG 1899 Hoffenheim\",\"Eintracht Frankfurt\",\"SV Werder Bremen\",\"FSV Mainz 05\",\"FC FC K\\u00f6ln\",\"Hannover 96\",\"VfB Stuttgart\",\"Hertha BSC\",\"Hamburger SV\",\"SC Freiburg\",\"SC Paderborn 07\"],\"legendgroup\":\"bundesliga\",\"marker\":{\"color\":\"red\",\"symbol\":\"circle\"},\"mode\":\"markers\",\"name\":\"bundesliga\",\"orientation\":\"v\",\"showlegend\":true,\"x\":[23.473684,24.25,22.894737,21.888889,23.827586,24.04,23.647059,22.565217,24.617647,22.942857,25.0,23.703704,24.0,24.347826,25.038462,24.102564,23.5625,24.12],\"xaxis\":\"x\",\"y\":[1,2,3,4,5,6,7,8,9,10,11,12,13,14,15,16,17,18],\"yaxis\":\"y\",\"type\":\"scatter\"}],\"name\":\"2014-15\"},{\"data\":[{\"hovertemplate\":\"<b>%{hovertext}</b><br><br>league=liga<br>Years=2015-16<br>Age=%{x}<br>Rk=%{y}<extra></extra>\",\"hovertext\":[\"FC Barcelona\",\"Real Madrid\",\"Atl\\u00e9tico de Madrid\",\"Villarreal CF\",\"Athletic Bilbao\",\"Celta de Vigo\",\"Sevilla FC\",\"M\\u00e1laga CF\",\"Real Sociedad\",\"Real Betis Balompi\\u00e9\",\"UD Las Palmas\",\"Valencia CF\",\"RCD Espanyol Barcelona\",\"SD Eibar\",\"Deportivo de La Coru\\u00f1a\",\"Granada CF\",\"Sporting Gij\\u00f3n\",\"Rayo Vallecano\",\"Getafe CF\",\"Levante UD\"],\"ids\":[\"FC Barcelona\",\"Real Madrid\",\"Atl\\u00e9tico de Madrid\",\"Villarreal CF\",\"Athletic Bilbao\",\"Celta de Vigo\",\"Sevilla FC\",\"M\\u00e1laga CF\",\"Real Sociedad\",\"Real Betis Balompi\\u00e9\",\"UD Las Palmas\",\"Valencia CF\",\"RCD Espanyol Barcelona\",\"SD Eibar\",\"Deportivo de La Coru\\u00f1a\",\"Granada CF\",\"Sporting Gij\\u00f3n\",\"Rayo Vallecano\",\"Getafe CF\",\"Levante UD\"],\"legendgroup\":\"liga\",\"marker\":{\"color\":\"gold\",\"symbol\":\"circle\"},\"mode\":\"markers\",\"name\":\"liga\",\"orientation\":\"v\",\"showlegend\":true,\"x\":[24.190476,23.272727,24.244444,25.324324,23.862069,25.818182,26.295455,25.325,24.866667,25.05,26.242424,23.888889,24.813953,25.777778,25.947368,24.65,23.6875,26.142857,26.076923,27.225806],\"xaxis\":\"x\",\"y\":[1,2,3,4,5,6,7,8,9,10,11,12,13,14,15,16,17,18,19,20],\"yaxis\":\"y\",\"type\":\"scatter\"},{\"hovertemplate\":\"<b>%{hovertext}</b><br><br>league=PL<br>Years=2015-16<br>Age=%{x}<br>Rk=%{y}<extra></extra>\",\"hovertext\":[\"Leicester City\",\"Arsenal FC\",\"Tottenham Hotspur\",\"Manchester City\",\"Manchester United\",\"Southampton FC\",\"West Ham United\",\"Liverpool FC\",\"Stoke City\",\"Chelsea FC FC\",\"Everton FC\",\"Swansea City\",\"Watford FC\",\"West Bromwich Albion\",\"Crystal Palace\",\"AFC Bournemouth\",\"Sunderland AFC\",\"Newcastle United\",\"Norwich City\",\"Aston Villa\"],\"ids\":[\"Leicester City\",\"Arsenal FC\",\"Tottenham Hotspur\",\"Manchester City\",\"Manchester United\",\"Southampton FC\",\"West Ham United\",\"Liverpool FC\",\"Stoke City\",\"Chelsea FC FC\",\"Everton FC\",\"Swansea City\",\"Watford FC\",\"West Bromwich Albion\",\"Crystal Palace\",\"AFC Bournemouth\",\"Sunderland AFC\",\"Newcastle United\",\"Norwich City\",\"Aston Villa\"],\"legendgroup\":\"PL\",\"marker\":{\"color\":\"blue\",\"symbol\":\"circle\"},\"mode\":\"markers\",\"name\":\"PL\",\"orientation\":\"v\",\"showlegend\":true,\"x\":[25.068966,23.296296,24.625,23.0,23.642857,24.5,24.218182,22.895833,26.096774,22.973684,24.028571,23.659091,25.444444,27.08,24.522727,24.318841,25.666667,23.163265,24.619048,25.032787],\"xaxis\":\"x\",\"y\":[1,2,3,4,5,6,7,8,9,10,11,12,13,14,15,16,17,18,19,20],\"yaxis\":\"y\",\"type\":\"scatter\"},{\"hovertemplate\":\"<b>%{hovertext}</b><br><br>league=serieA<br>Years=2015-16<br>Age=%{x}<br>Rk=%{y}<extra></extra>\",\"hovertext\":[\"Juventus FC\",\"SSC Napoli\",\"AS Roma\",\"Inter Milan\",\"ACF Fiorentina\",\"US Sassuolo\",\"AC Milan\",\"SS Lazio\",\"Chievo Verona\",\"Empoli FC\",\"Genoa CFC\",\"Torino FC\",\"Atalanta BC\",\"Bologna FC 1909\",\"UC Sampdoria\",\"US Palermo\",\"Udinese Calcio\",\"Carpi FC 1909\",\"Frosinone Calcio\",\"Hellas Verona\"],\"ids\":[\"Juventus FC\",\"SSC Napoli\",\"AS Roma\",\"Inter Milan\",\"ACF Fiorentina\",\"US Sassuolo\",\"AC Milan\",\"SS Lazio\",\"Chievo Verona\",\"Empoli FC\",\"Genoa CFC\",\"Torino FC\",\"Atalanta BC\",\"Bologna FC 1909\",\"UC Sampdoria\",\"US Palermo\",\"Udinese Calcio\",\"Carpi FC 1909\",\"Frosinone Calcio\",\"Hellas Verona\"],\"legendgroup\":\"serieA\",\"marker\":{\"color\":\"green\",\"symbol\":\"circle\"},\"mode\":\"markers\",\"name\":\"serieA\",\"orientation\":\"v\",\"showlegend\":true,\"x\":[22.280374,24.12,22.804598,23.206522,24.871429,23.794872,24.041667,23.903846,23.835165,22.897959,24.534247,23.163636,23.989247,25.264706,24.318182,23.046875,23.512821,24.378378,24.162162,25.103896],\"xaxis\":\"x\",\"y\":[1,2,3,4,5,6,7,8,9,10,11,12,13,14,15,16,17,18,19,20],\"yaxis\":\"y\",\"type\":\"scatter\"},{\"hovertemplate\":\"<b>%{hovertext}</b><br><br>league=ligue1<br>Years=2015-16<br>Age=%{x}<br>Rk=%{y}<extra></extra>\",\"hovertext\":[\"Paris Saint-Germain\",\"Olympique Lyon\",\"AS Monaco\",\"OGC Nice\",\"LOSC Lille\",\"Saint-Etienne\",\"SM Caen\",\"Stade Rennais\",\"SCO Angers\",\"SC Bastia\",\"FC Girondins Bordeaux\",\"Montpellier\",\"Olympique Marseille\",\"FC Nantes\",\"Lorient\",\"Guingamp\",\"Toulouse\",\"Stade Reims\",\"GFC Ajaccio\",\"ESTAC Troyes\"],\"ids\":[\"Paris Saint-Germain\",\"Olympique Lyon\",\"AS Monaco\",\"OGC Nice\",\"LOSC Lille\",\"Saint-Etienne\",\"SM Caen\",\"Stade Rennais\",\"SCO Angers\",\"SC Bastia\",\"FC Girondins Bordeaux\",\"Montpellier\",\"Olympique Marseille\",\"FC Nantes\",\"Lorient\",\"Guingamp\",\"Toulouse\",\"Stade Reims\",\"GFC Ajaccio\",\"ESTAC Troyes\"],\"legendgroup\":\"ligue1\",\"marker\":{\"color\":\"black\",\"symbol\":\"circle\"},\"mode\":\"markers\",\"name\":\"ligue1\",\"orientation\":\"v\",\"showlegend\":true,\"x\":[23.45,23.625,22.389831,22.738095,22.926829,23.566667,24.621622,24.26087,26.333333,23.433333,22.538462,23.894737,24.341463,24.785714,24.103448,24.357143,23.521739,24.26087,26.473684,25.088235],\"xaxis\":\"x\",\"y\":[1,2,3,4,5,6,7,8,9,10,11,12,13,14,15,16,17,18,19,20],\"yaxis\":\"y\",\"type\":\"scatter\"},{\"hovertemplate\":\"<b>%{hovertext}</b><br><br>league=bundesliga<br>Years=2015-16<br>Age=%{x}<br>Rk=%{y}<extra></extra>\",\"hovertext\":[\"Bayern Munich\",\"Borussia Dortmund\",\"Bayer 04 Leverkusen\",\"Borussia M\\u00f6nchengladbach\",\"Schalke 04\",\"FSV Mainz 05\",\"Hertha BSC\",\"VfL Wolfsburg\",\"FC FC K\\u00f6ln\",\"Hamburger SV\",\"FC Ingolstadt 04\",\"Augsburg\",\"SV Werder Bremen\",\"SV Darmstadt 98\",\"TSG 1899 Hoffenheim\",\"Eintracht Frankfurt\",\"VfB Stuttgart\",\"Hannover 96\"],\"ids\":[\"Bayern Munich\",\"Borussia Dortmund\",\"Bayer 04 Leverkusen\",\"Borussia M\\u00f6nchengladbach\",\"Schalke 04\",\"FSV Mainz 05\",\"Hertha BSC\",\"VfL Wolfsburg\",\"FC FC K\\u00f6ln\",\"Hamburger SV\",\"FC Ingolstadt 04\",\"Augsburg\",\"SV Werder Bremen\",\"SV Darmstadt 98\",\"TSG 1899 Hoffenheim\",\"Eintracht Frankfurt\",\"VfB Stuttgart\",\"Hannover 96\"],\"legendgroup\":\"bundesliga\",\"marker\":{\"color\":\"red\",\"symbol\":\"circle\"},\"mode\":\"markers\",\"name\":\"bundesliga\",\"orientation\":\"v\",\"showlegend\":true,\"x\":[24.35,23.428571,22.219512,23.904762,23.909091,24.826087,24.041667,23.92,25.111111,23.894737,26.333333,24.625,24.307692,24.703704,22.288136,25.142857,23.605263,24.684211],\"xaxis\":\"x\",\"y\":[1,2,3,4,5,6,7,8,9,10,11,12,13,14,15,16,17,18],\"yaxis\":\"y\",\"type\":\"scatter\"}],\"name\":\"2015-16\"},{\"data\":[{\"hovertemplate\":\"<b>%{hovertext}</b><br><br>league=liga<br>Years=2016-17<br>Age=%{x}<br>Rk=%{y}<extra></extra>\",\"hovertext\":[\"Real Madrid\",\"FC Barcelona\",\"Atl\\u00e9tico de Madrid\",\"Sevilla FC\",\"Villarreal CF\",\"Real Sociedad\",\"Athletic Bilbao\",\"RCD Espanyol Barcelona\",\"Deportivo Alav\\u00e9s\",\"SD Eibar\",\"M\\u00e1laga CF\",\"Valencia CF\",\"Celta de Vigo\",\"UD Las Palmas\",\"Real Betis Balompi\\u00e9\",\"Deportivo de La Coru\\u00f1a\",\"CD Legan\\u00e9s\",\"Sporting Gij\\u00f3n\",\"CA Osasuna\",\"Granada CF\"],\"ids\":[\"Real Madrid\",\"FC Barcelona\",\"Atl\\u00e9tico de Madrid\",\"Sevilla FC\",\"Villarreal CF\",\"Real Sociedad\",\"Athletic Bilbao\",\"RCD Espanyol Barcelona\",\"Deportivo Alav\\u00e9s\",\"SD Eibar\",\"M\\u00e1laga CF\",\"Valencia CF\",\"Celta de Vigo\",\"UD Las Palmas\",\"Real Betis Balompi\\u00e9\",\"Deportivo de La Coru\\u00f1a\",\"CD Legan\\u00e9s\",\"Sporting Gij\\u00f3n\",\"CA Osasuna\",\"Granada CF\"],\"legendgroup\":\"liga\",\"marker\":{\"color\":\"gold\",\"symbol\":\"circle\"},\"mode\":\"markers\",\"name\":\"liga\",\"orientation\":\"v\",\"showlegend\":true,\"x\":[22.192308,24.708333,23.325581,25.972222,23.4,23.96,24.5,25.595238,26.405405,24.906977,25.514286,24.970588,23.666667,26.032258,25.777778,26.106383,25.731707,25.1,26.833333,24.792208],\"xaxis\":\"x\",\"y\":[1,2,3,4,5,6,7,8,9,10,11,12,13,14,15,16,17,18,19,20],\"yaxis\":\"y\",\"type\":\"scatter\"},{\"hovertemplate\":\"<b>%{hovertext}</b><br><br>league=PL<br>Years=2016-17<br>Age=%{x}<br>Rk=%{y}<extra></extra>\",\"hovertext\":[\"Chelsea FC FC\",\"Tottenham Hotspur\",\"Manchester City\",\"Liverpool FC\",\"Arsenal FC\",\"Manchester United\",\"Everton FC\",\"Southampton FC\",\"AFC Bournemouth\",\"West Bromwich Albion\",\"West Ham United\",\"Leicester City\",\"Stoke City\",\"Crystal Palace\",\"Swansea City\",\"Burnley FC\",\"Watford FC\",\"Hull City\",\"Middlesbrough\",\"Sunderland AFC\"],\"ids\":[\"Chelsea FC FC\",\"Tottenham Hotspur\",\"Manchester City\",\"Liverpool FC\",\"Arsenal FC\",\"Manchester United\",\"Everton FC\",\"Southampton FC\",\"AFC Bournemouth\",\"West Bromwich Albion\",\"West Ham United\",\"Leicester City\",\"Stoke City\",\"Crystal Palace\",\"Swansea City\",\"Burnley FC\",\"Watford FC\",\"Hull City\",\"Middlesbrough\",\"Sunderland AFC\"],\"legendgroup\":\"PL\",\"marker\":{\"color\":\"blue\",\"symbol\":\"circle\"},\"mode\":\"markers\",\"name\":\"PL\",\"orientation\":\"v\",\"showlegend\":true,\"x\":[23.912281,23.625,23.666667,23.9,23.791667,23.478261,25.675676,25.285714,23.836735,26.074074,23.789474,25.028571,25.538462,24.934783,25.473684,24.339623,24.672131,25.121951,25.842105,26.229167],\"xaxis\":\"x\",\"y\":[1,2,3,4,5,6,7,8,9,10,11,12,13,14,15,16,17,18,19,20],\"yaxis\":\"y\",\"type\":\"scatter\"},{\"hovertemplate\":\"<b>%{hovertext}</b><br><br>league=serieA<br>Years=2016-17<br>Age=%{x}<br>Rk=%{y}<extra></extra>\",\"hovertext\":[\"Juventus FC\",\"AS Roma\",\"SSC Napoli\",\"Atalanta BC\",\"SS Lazio\",\"AC Milan\",\"Inter Milan\",\"ACF Fiorentina\",\"Torino FC\",\"UC Sampdoria\",\"Cagliari Calcio\",\"US Sassuolo\",\"Udinese Calcio\",\"Chievo Verona\",\"Bologna FC 1909\",\"Genoa CFC\",\"FC Crotone\",\"Empoli FC\",\"US Palermo\",\"Delfino Pescara 1936\"],\"ids\":[\"Juventus FC\",\"AS Roma\",\"SSC Napoli\",\"Atalanta BC\",\"SS Lazio\",\"AC Milan\",\"Inter Milan\",\"ACF Fiorentina\",\"Torino FC\",\"UC Sampdoria\",\"Cagliari Calcio\",\"US Sassuolo\",\"Udinese Calcio\",\"Chievo Verona\",\"Bologna FC 1909\",\"Genoa CFC\",\"FC Crotone\",\"Empoli FC\",\"US Palermo\",\"Delfino Pescara 1936\"],\"legendgroup\":\"serieA\",\"marker\":{\"color\":\"green\",\"symbol\":\"circle\"},\"mode\":\"markers\",\"name\":\"serieA\",\"orientation\":\"v\",\"showlegend\":true,\"x\":[23.053191,23.683544,22.978723,24.126437,24.045455,25.365854,22.84,23.566667,23.867647,24.486842,23.803922,23.5,23.723684,23.875,24.328125,23.714286,23.538462,22.977778,23.490909,23.514851],\"xaxis\":\"x\",\"y\":[1,2,3,4,5,6,7,8,9,10,11,12,13,14,15,16,17,18,19,20],\"yaxis\":\"y\",\"type\":\"scatter\"},{\"hovertemplate\":\"<b>%{hovertext}</b><br><br>league=ligue1<br>Years=2016-17<br>Age=%{x}<br>Rk=%{y}<extra></extra>\",\"hovertext\":[\"AS Monaco\",\"Paris Saint-Germain\",\"OGC Nice\",\"Olympique Lyon\",\"Olympique Marseille\",\"FC Girondins Bordeaux\",\"FC Nantes\",\"Saint-Etienne\",\"Stade Rennais\",\"Guingamp\",\"LOSC Lille\",\"SCO Angers\",\"Toulouse\",\"FC Metz\",\"Montpellier\",\"Dijon FCO\",\"SM Caen\",\"Lorient\",\"Nancy-Lorraine\",\"SC Bastia\"],\"ids\":[\"AS Monaco\",\"Paris Saint-Germain\",\"OGC Nice\",\"Olympique Lyon\",\"Olympique Marseille\",\"FC Girondins Bordeaux\",\"FC Nantes\",\"Saint-Etienne\",\"Stade Rennais\",\"Guingamp\",\"LOSC Lille\",\"SCO Angers\",\"Toulouse\",\"FC Metz\",\"Montpellier\",\"Dijon FCO\",\"SM Caen\",\"Lorient\",\"Nancy-Lorraine\",\"SC Bastia\"],\"legendgroup\":\"ligue1\",\"marker\":{\"color\":\"black\",\"symbol\":\"circle\"},\"mode\":\"markers\",\"name\":\"ligue1\",\"orientation\":\"v\",\"showlegend\":true,\"x\":[23.471698,23.903226,23.7,23.038462,24.843137,24.535714,24.64,24.333333,23.913043,26.424242,24.369565,26.282051,23.0,24.415094,23.9,24.62069,25.090909,23.422222,23.173913,24.342857],\"xaxis\":\"x\",\"y\":[1,2,3,4,5,6,7,8,9,10,11,12,13,14,15,16,17,18,19,20],\"yaxis\":\"y\",\"type\":\"scatter\"},{\"hovertemplate\":\"<b>%{hovertext}</b><br><br>league=bundesliga<br>Years=2016-17<br>Age=%{x}<br>Rk=%{y}<extra></extra>\",\"hovertext\":[\"Bayern Munich\",\"RB Leipzig\",\"Borussia Dortmund\",\"TSG 1899 Hoffenheim\",\"FC FC K\\u00f6ln\",\"Hertha BSC\",\"SC Freiburg\",\"SV Werder Bremen\",\"Borussia M\\u00f6nchengladbach\",\"Schalke 04\",\"Eintracht Frankfurt\",\"Bayer 04 Leverkusen\",\"Augsburg\",\"Hamburger SV\",\"FSV Mainz 05\",\"VfL Wolfsburg\",\"FC Ingolstadt 04\",\"SV Darmstadt 98\"],\"ids\":[\"Bayern Munich\",\"RB Leipzig\",\"Borussia Dortmund\",\"TSG 1899 Hoffenheim\",\"FC FC K\\u00f6ln\",\"Hertha BSC\",\"SC Freiburg\",\"SV Werder Bremen\",\"Borussia M\\u00f6nchengladbach\",\"Schalke 04\",\"Eintracht Frankfurt\",\"Bayer 04 Leverkusen\",\"Augsburg\",\"Hamburger SV\",\"FSV Mainz 05\",\"VfL Wolfsburg\",\"FC Ingolstadt 04\",\"SV Darmstadt 98\"],\"legendgroup\":\"bundesliga\",\"marker\":{\"color\":\"red\",\"symbol\":\"circle\"},\"mode\":\"markers\",\"name\":\"bundesliga\",\"orientation\":\"v\",\"showlegend\":true,\"x\":[22.846154,22.576923,23.9,22.979592,24.157895,25.529412,23.323529,24.461538,22.875,23.705882,23.0,22.447368,25.903226,24.057143,24.71875,23.846154,23.55,25.708333],\"xaxis\":\"x\",\"y\":[1,2,3,4,5,6,7,8,9,10,11,12,13,14,15,16,17,18],\"yaxis\":\"y\",\"type\":\"scatter\"}],\"name\":\"2016-17\"},{\"data\":[{\"hovertemplate\":\"<b>%{hovertext}</b><br><br>league=liga<br>Years=2017-18<br>Age=%{x}<br>Rk=%{y}<extra></extra>\",\"hovertext\":[\"FC Barcelona\",\"Atl\\u00e9tico de Madrid\",\"Real Madrid\",\"Valencia CF\",\"Villarreal CF\",\"Real Betis Balompi\\u00e9\",\"Sevilla FC\",\"Getafe CF\",\"SD Eibar\",\"Girona FC\",\"RCD Espanyol Barcelona\",\"Real Sociedad\",\"Celta de Vigo\",\"Deportivo Alav\\u00e9s\",\"Levante UD\",\"Athletic Bilbao\",\"CD Legan\\u00e9s\",\"Deportivo de La Coru\\u00f1a\",\"UD Las Palmas\",\"M\\u00e1laga CF\"],\"ids\":[\"FC Barcelona\",\"Atl\\u00e9tico de Madrid\",\"Real Madrid\",\"Valencia CF\",\"Villarreal CF\",\"Real Betis Balompi\\u00e9\",\"Sevilla FC\",\"Getafe CF\",\"SD Eibar\",\"Girona FC\",\"RCD Espanyol Barcelona\",\"Real Sociedad\",\"Celta de Vigo\",\"Deportivo Alav\\u00e9s\",\"Levante UD\",\"Athletic Bilbao\",\"CD Legan\\u00e9s\",\"Deportivo de La Coru\\u00f1a\",\"UD Las Palmas\",\"M\\u00e1laga CF\"],\"legendgroup\":\"liga\",\"marker\":{\"color\":\"gold\",\"symbol\":\"circle\"},\"mode\":\"markers\",\"name\":\"liga\",\"orientation\":\"v\",\"showlegend\":true,\"x\":[25.0,24.210526,22.947368,25.782609,24.090909,26.604651,26.4375,27.14,24.833333,25.357143,27.323529,25.107143,24.228571,23.904762,25.1,25.0,25.511628,26.725,26.088889,26.2],\"xaxis\":\"x\",\"y\":[1,2,3,4,5,6,7,8,9,10,11,12,13,14,15,16,17,18,19,20],\"yaxis\":\"y\",\"type\":\"scatter\"},{\"hovertemplate\":\"<b>%{hovertext}</b><br><br>league=PL<br>Years=2017-18<br>Age=%{x}<br>Rk=%{y}<extra></extra>\",\"hovertext\":[\"Manchester City\",\"Manchester United\",\"Tottenham Hotspur\",\"Liverpool FC\",\"Chelsea FC FC\",\"Arsenal FC\",\"Burnley FC\",\"Everton FC\",\"Leicester City\",\"Newcastle United\",\"Crystal Palace\",\"AFC Bournemouth\",\"West Ham United\",\"Watford FC\",\"Brighton & Hove Albion\",\"Huddersfield Town\",\"Southampton FC\",\"Swansea City\",\"Stoke City\",\"West Bromwich Albion\"],\"ids\":[\"Manchester City\",\"Manchester United\",\"Tottenham Hotspur\",\"Liverpool FC\",\"Chelsea FC FC\",\"Arsenal FC\",\"Burnley FC\",\"Everton FC\",\"Leicester City\",\"Newcastle United\",\"Crystal Palace\",\"AFC Bournemouth\",\"West Ham United\",\"Watford FC\",\"Brighton & Hove Albion\",\"Huddersfield Town\",\"Southampton FC\",\"Swansea City\",\"Stoke City\",\"West Bromwich Albion\"],\"legendgroup\":\"PL\",\"marker\":{\"color\":\"blue\",\"symbol\":\"circle\"},\"mode\":\"markers\",\"name\":\"PL\",\"orientation\":\"v\",\"showlegend\":true,\"x\":[23.828125,23.5,23.08,23.551724,23.267606,25.178571,25.410256,24.302326,25.851852,24.410714,23.787879,25.275862,24.658537,25.33871,25.133333,24.512195,23.615385,24.555556,24.888889,24.535714],\"xaxis\":\"x\",\"y\":[1,2,3,4,5,6,7,8,9,10,11,12,13,14,15,16,17,18,19,20],\"yaxis\":\"y\",\"type\":\"scatter\"},{\"hovertemplate\":\"<b>%{hovertext}</b><br><br>league=serieA<br>Years=2017-18<br>Age=%{x}<br>Rk=%{y}<extra></extra>\",\"hovertext\":[\"Juventus FC\",\"SSC Napoli\",\"AS Roma\",\"Inter Milan\",\"SS Lazio\",\"AC Milan\",\"Atalanta BC\",\"ACF Fiorentina\",\"Torino FC\",\"UC Sampdoria\",\"US Sassuolo\",\"Genoa CFC\",\"Chievo Verona\",\"Udinese Calcio\",\"Bologna FC 1909\",\"Cagliari Calcio\",\"SPAL 2013\",\"FC Crotone\",\"Hellas Verona\",\"Benevento Calcio\"],\"ids\":[\"Juventus FC\",\"SSC Napoli\",\"AS Roma\",\"Inter Milan\",\"SS Lazio\",\"AC Milan\",\"Atalanta BC\",\"ACF Fiorentina\",\"Torino FC\",\"UC Sampdoria\",\"US Sassuolo\",\"Genoa CFC\",\"Chievo Verona\",\"Udinese Calcio\",\"Bologna FC 1909\",\"Cagliari Calcio\",\"SPAL 2013\",\"FC Crotone\",\"Hellas Verona\",\"Benevento Calcio\"],\"legendgroup\":\"serieA\",\"marker\":{\"color\":\"green\",\"symbol\":\"circle\"},\"mode\":\"markers\",\"name\":\"serieA\",\"orientation\":\"v\",\"showlegend\":true,\"x\":[22.940476,23.761905,23.821918,23.141026,23.085714,24.468085,23.27551,23.876923,23.442308,23.272727,22.744681,23.653846,23.779221,24.115385,24.081633,24.9375,24.118644,23.673077,24.872727,25.061538],\"xaxis\":\"x\",\"y\":[1,2,3,4,5,6,7,8,9,10,11,12,13,14,15,16,17,18,19,20],\"yaxis\":\"y\",\"type\":\"scatter\"},{\"hovertemplate\":\"<b>%{hovertext}</b><br><br>league=ligue1<br>Years=2017-18<br>Age=%{x}<br>Rk=%{y}<extra></extra>\",\"hovertext\":[\"Paris Saint-Germain\",\"AS Monaco\",\"Olympique Lyon\",\"Olympique Marseille\",\"Stade Rennais\",\"FC Girondins Bordeaux\",\"Saint-Etienne\",\"OGC Nice\",\"FC Nantes\",\"Montpellier\",\"Dijon FCO\",\"Guingamp\",\"Amiens SC\",\"SCO Angers\",\"RC Strasbourg Alsace\",\"SM Caen\",\"LOSC Lille\",\"Toulouse\",\"ESTAC Troyes\",\"FC Metz\"],\"ids\":[\"Paris Saint-Germain\",\"AS Monaco\",\"Olympique Lyon\",\"Olympique Marseille\",\"Stade Rennais\",\"FC Girondins Bordeaux\",\"Saint-Etienne\",\"OGC Nice\",\"FC Nantes\",\"Montpellier\",\"Dijon FCO\",\"Guingamp\",\"Amiens SC\",\"SCO Angers\",\"RC Strasbourg Alsace\",\"SM Caen\",\"LOSC Lille\",\"Toulouse\",\"ESTAC Troyes\",\"FC Metz\"],\"legendgroup\":\"ligue1\",\"marker\":{\"color\":\"black\",\"symbol\":\"circle\"},\"mode\":\"markers\",\"name\":\"ligue1\",\"orientation\":\"v\",\"showlegend\":true,\"x\":[24.8,22.959184,22.45,24.842105,23.926829,23.458333,24.243902,23.735294,25.16,24.366667,24.44,25.096774,25.294118,25.230769,25.4,24.15625,23.213115,25.384615,26.25,24.068182],\"xaxis\":\"x\",\"y\":[1,2,3,4,5,6,7,8,9,10,11,12,13,14,15,16,17,18,19,20],\"yaxis\":\"y\",\"type\":\"scatter\"},{\"hovertemplate\":\"<b>%{hovertext}</b><br><br>league=bundesliga<br>Years=2017-18<br>Age=%{x}<br>Rk=%{y}<extra></extra>\",\"hovertext\":[\"Bayern Munich\",\"Schalke 04\",\"TSG 1899 Hoffenheim\",\"Borussia Dortmund\",\"Bayer 04 Leverkusen\",\"RB Leipzig\",\"VfB Stuttgart\",\"Eintracht Frankfurt\",\"Borussia M\\u00f6nchengladbach\",\"Hertha BSC\",\"SV Werder Bremen\",\"Augsburg\",\"Hannover 96\",\"FSV Mainz 05\",\"SC Freiburg\",\"VfL Wolfsburg\",\"Hamburger SV\",\"FC FC K\\u00f6ln\"],\"ids\":[\"Bayern Munich\",\"Schalke 04\",\"TSG 1899 Hoffenheim\",\"Borussia Dortmund\",\"Bayer 04 Leverkusen\",\"RB Leipzig\",\"VfB Stuttgart\",\"Eintracht Frankfurt\",\"Borussia M\\u00f6nchengladbach\",\"Hertha BSC\",\"SV Werder Bremen\",\"Augsburg\",\"Hannover 96\",\"FSV Mainz 05\",\"SC Freiburg\",\"VfL Wolfsburg\",\"Hamburger SV\",\"FC FC K\\u00f6ln\"],\"legendgroup\":\"bundesliga\",\"marker\":{\"color\":\"red\",\"symbol\":\"circle\"},\"mode\":\"markers\",\"name\":\"bundesliga\",\"orientation\":\"v\",\"showlegend\":true,\"x\":[25.08,24.238095,22.487179,23.166667,22.875,21.724138,24.25,23.166667,21.913043,22.789474,24.647059,25.064516,23.571429,24.575758,23.16129,23.585366,22.935484,24.066667],\"xaxis\":\"x\",\"y\":[1,2,3,4,5,6,7,8,9,10,11,12,13,14,15,16,17,18],\"yaxis\":\"y\",\"type\":\"scatter\"}],\"name\":\"2017-18\"},{\"data\":[{\"hovertemplate\":\"<b>%{hovertext}</b><br><br>league=liga<br>Years=2018-19<br>Age=%{x}<br>Rk=%{y}<extra></extra>\",\"hovertext\":[\"FC Barcelona\",\"Atl\\u00e9tico de Madrid\",\"Real Madrid\",\"Valencia CF\",\"Getafe CF\",\"Sevilla FC\",\"RCD Espanyol Barcelona\",\"Athletic Bilbao\",\"Real Sociedad\",\"Real Betis Balompi\\u00e9\",\"Deportivo Alav\\u00e9s\",\"SD Eibar\",\"CD Legan\\u00e9s\",\"Villarreal CF\",\"Levante UD\",\"Real Valladolid CF\",\"Celta de Vigo\",\"Girona FC\",\"SD Huesca\",\"Rayo Vallecano\"],\"ids\":[\"FC Barcelona\",\"Atl\\u00e9tico de Madrid\",\"Real Madrid\",\"Valencia CF\",\"Getafe CF\",\"Sevilla FC\",\"RCD Espanyol Barcelona\",\"Athletic Bilbao\",\"Real Sociedad\",\"Real Betis Balompi\\u00e9\",\"Deportivo Alav\\u00e9s\",\"SD Eibar\",\"CD Legan\\u00e9s\",\"Villarreal CF\",\"Levante UD\",\"Real Valladolid CF\",\"Celta de Vigo\",\"Girona FC\",\"SD Huesca\",\"Rayo Vallecano\"],\"legendgroup\":\"liga\",\"marker\":{\"color\":\"gold\",\"symbol\":\"circle\"},\"mode\":\"markers\",\"name\":\"liga\",\"orientation\":\"v\",\"showlegend\":true,\"x\":[24.236842,23.75,22.633333,24.659091,26.25,24.714286,26.0,25.3,25.615385,25.820513,24.52,26.0,24.754386,25.0,25.410256,24.069767,24.512195,24.909091,26.044444,26.127273],\"xaxis\":\"x\",\"y\":[1,2,3,4,5,6,7,8,9,10,11,12,13,14,15,16,17,18,19,20],\"yaxis\":\"y\",\"type\":\"scatter\"},{\"hovertemplate\":\"<b>%{hovertext}</b><br><br>league=PL<br>Years=2018-19<br>Age=%{x}<br>Rk=%{y}<extra></extra>\",\"hovertext\":[\"Manchester City\",\"Liverpool FC\",\"Chelsea FC FC\",\"Tottenham Hotspur\",\"Arsenal FC\",\"Manchester United\",\"Wolverhampton Wanderers\",\"Everton FC\",\"Leicester City\",\"West Ham United\",\"Watford FC\",\"Crystal Palace\",\"Newcastle United\",\"AFC Bournemouth\",\"Burnley FC\",\"Southampton FC\",\"Brighton & Hove Albion\",\"Cardiff City\",\"Fulham FC\",\"Huddersfield Town\"],\"ids\":[\"Manchester City\",\"Liverpool FC\",\"Chelsea FC FC\",\"Tottenham Hotspur\",\"Arsenal FC\",\"Manchester United\",\"Wolverhampton Wanderers\",\"Everton FC\",\"Leicester City\",\"West Ham United\",\"Watford FC\",\"Crystal Palace\",\"Newcastle United\",\"AFC Bournemouth\",\"Burnley FC\",\"Southampton FC\",\"Brighton & Hove Albion\",\"Cardiff City\",\"Fulham FC\",\"Huddersfield Town\"],\"legendgroup\":\"PL\",\"marker\":{\"color\":\"blue\",\"symbol\":\"circle\"},\"mode\":\"markers\",\"name\":\"PL\",\"orientation\":\"v\",\"showlegend\":true,\"x\":[22.0,23.184211,23.885246,22.375,25.206897,24.052632,24.024691,25.119048,24.911765,24.6875,23.830189,26.333333,25.0,25.866667,27.473684,25.117647,24.666667,26.114286,25.068966,25.125],\"xaxis\":\"x\",\"y\":[1,2,3,4,5,6,7,8,9,10,11,12,13,14,15,16,17,18,19,20],\"yaxis\":\"y\",\"type\":\"scatter\"},{\"hovertemplate\":\"<b>%{hovertext}</b><br><br>league=serieA<br>Years=2018-19<br>Age=%{x}<br>Rk=%{y}<extra></extra>\",\"hovertext\":[\"Juventus FC\",\"SSC Napoli\",\"Atalanta BC\",\"Inter Milan\",\"AC Milan\",\"AS Roma\",\"Torino FC\",\"SS Lazio\",\"UC Sampdoria\",\"Bologna FC 1909\",\"US Sassuolo\",\"Udinese Calcio\",\"SPAL 2013\",\"Parma FC\",\"Cagliari Calcio\",\"ACF Fiorentina\",\"Genoa CFC\",\"Empoli FC\",\"Frosinone Calcio\",\"Chievo Verona\"],\"ids\":[\"Juventus FC\",\"SSC Napoli\",\"Atalanta BC\",\"Inter Milan\",\"AC Milan\",\"AS Roma\",\"Torino FC\",\"SS Lazio\",\"UC Sampdoria\",\"Bologna FC 1909\",\"US Sassuolo\",\"Udinese Calcio\",\"SPAL 2013\",\"Parma FC\",\"Cagliari Calcio\",\"ACF Fiorentina\",\"Genoa CFC\",\"Empoli FC\",\"Frosinone Calcio\",\"Chievo Verona\"],\"legendgroup\":\"serieA\",\"marker\":{\"color\":\"green\",\"symbol\":\"circle\"},\"mode\":\"markers\",\"name\":\"serieA\",\"orientation\":\"v\",\"showlegend\":true,\"x\":[25.590909,24.522727,22.578947,22.469697,25.45,23.606557,23.15873,24.95122,23.936508,24.169811,22.947368,24.754098,24.46875,25.0,25.06383,23.380952,24.114286,23.134328,25.857143,24.84507],\"xaxis\":\"x\",\"y\":[1,2,3,4,5,6,7,8,9,10,11,12,13,14,15,16,17,18,19,20],\"yaxis\":\"y\",\"type\":\"scatter\"},{\"hovertemplate\":\"<b>%{hovertext}</b><br><br>league=ligue1<br>Years=2018-19<br>Age=%{x}<br>Rk=%{y}<extra></extra>\",\"hovertext\":[\"Paris Saint-Germain\",\"LOSC Lille\",\"Olympique Lyon\",\"Saint-Etienne\",\"Olympique Marseille\",\"Montpellier\",\"OGC Nice\",\"Stade Reims\",\"N\\u00eemes Olympique\",\"Stade Rennais\",\"RC Strasbourg Alsace\",\"FC Nantes\",\"SCO Angers\",\"FC Girondins Bordeaux\",\"Amiens SC\",\"Toulouse\",\"AS Monaco\",\"Dijon FCO\",\"SM Caen\",\"Guingamp\"],\"ids\":[\"Paris Saint-Germain\",\"LOSC Lille\",\"Olympique Lyon\",\"Saint-Etienne\",\"Olympique Marseille\",\"Montpellier\",\"OGC Nice\",\"Stade Reims\",\"N\\u00eemes Olympique\",\"Stade Rennais\",\"RC Strasbourg Alsace\",\"FC Nantes\",\"SCO Angers\",\"FC Girondins Bordeaux\",\"Amiens SC\",\"Toulouse\",\"AS Monaco\",\"Dijon FCO\",\"SM Caen\",\"Guingamp\"],\"legendgroup\":\"ligue1\",\"marker\":{\"color\":\"black\",\"symbol\":\"circle\"},\"mode\":\"markers\",\"name\":\"ligue1\",\"orientation\":\"v\",\"showlegend\":true,\"x\":[23.307692,24.371429,21.558824,22.9,24.347826,24.26087,22.52,24.344828,24.666667,24.344828,25.892857,25.060606,25.205128,22.594595,25.458333,23.432432,22.712121,25.3,24.862745,25.84],\"xaxis\":\"x\",\"y\":[1,2,3,4,5,6,7,8,9,10,11,12,13,14,15,16,17,18,19,20],\"yaxis\":\"y\",\"type\":\"scatter\"},{\"hovertemplate\":\"<b>%{hovertext}</b><br><br>league=bundesliga<br>Years=2018-19<br>Age=%{x}<br>Rk=%{y}<extra></extra>\",\"hovertext\":[\"Bayern Munich\",\"Borussia Dortmund\",\"RB Leipzig\",\"Bayer 04 Leverkusen\",\"Borussia M\\u00f6nchengladbach\",\"VfL Wolfsburg\",\"Eintracht Frankfurt\",\"SV Werder Bremen\",\"TSG 1899 Hoffenheim\",\"Fortuna D\\u00fcsseldorf\",\"Hertha BSC\",\"FSV Mainz 05\",\"SC Freiburg\",\"Schalke 04\",\"Augsburg\",\"VfB Stuttgart\",\"Hannover 96\",\"Nuremberg\"],\"ids\":[\"Bayern Munich\",\"Borussia Dortmund\",\"RB Leipzig\",\"Bayer 04 Leverkusen\",\"Borussia M\\u00f6nchengladbach\",\"VfL Wolfsburg\",\"Eintracht Frankfurt\",\"SV Werder Bremen\",\"TSG 1899 Hoffenheim\",\"Fortuna D\\u00fcsseldorf\",\"Hertha BSC\",\"FSV Mainz 05\",\"SC Freiburg\",\"Schalke 04\",\"Augsburg\",\"VfB Stuttgart\",\"Hannover 96\",\"Nuremberg\"],\"legendgroup\":\"bundesliga\",\"marker\":{\"color\":\"red\",\"symbol\":\"circle\"},\"mode\":\"markers\",\"name\":\"bundesliga\",\"orientation\":\"v\",\"showlegend\":true,\"x\":[24.533333,24.193548,22.0,23.222222,23.238095,23.678571,23.319149,24.926829,23.0,24.05,21.961538,23.290323,24.567568,23.878788,24.928571,22.971429,24.702703,25.85],\"xaxis\":\"x\",\"y\":[1,2,3,4,5,6,7,8,9,10,11,12,13,14,15,16,17,18],\"yaxis\":\"y\",\"type\":\"scatter\"}],\"name\":\"2018-19\"},{\"data\":[{\"hovertemplate\":\"<b>%{hovertext}</b><br><br>league=liga<br>Years=2019-20<br>Age=%{x}<br>Rk=%{y}<extra></extra>\",\"hovertext\":[\"Real Madrid\",\"FC Barcelona\",\"Atl\\u00e9tico de Madrid\",\"Sevilla FC\",\"Villarreal CF\",\"Real Sociedad\",\"Granada CF\",\"Getafe CF\",\"Valencia CF\",\"CA Osasuna\",\"Athletic Bilbao\",\"Levante UD\",\"Real Valladolid CF\",\"SD Eibar\",\"Real Betis Balompi\\u00e9\",\"Deportivo Alav\\u00e9s\",\"Celta de Vigo\",\"CD Legan\\u00e9s\",\"RCD Mallorca\",\"RCD Espanyol Barcelona\"],\"ids\":[\"Real Madrid\",\"FC Barcelona\",\"Atl\\u00e9tico de Madrid\",\"Sevilla FC\",\"Villarreal CF\",\"Real Sociedad\",\"Granada CF\",\"Getafe CF\",\"Valencia CF\",\"CA Osasuna\",\"Athletic Bilbao\",\"Levante UD\",\"Real Valladolid CF\",\"SD Eibar\",\"Real Betis Balompi\\u00e9\",\"Deportivo Alav\\u00e9s\",\"Celta de Vigo\",\"CD Legan\\u00e9s\",\"RCD Mallorca\",\"RCD Espanyol Barcelona\"],\"legendgroup\":\"liga\",\"marker\":{\"color\":\"gold\",\"symbol\":\"circle\"},\"mode\":\"markers\",\"name\":\"liga\",\"orientation\":\"v\",\"showlegend\":true,\"x\":[22.222222,23.727273,24.325,25.269841,26.0,23.888889,25.567568,26.5,24.422222,25.459459,25.818182,25.595238,24.209302,25.222222,24.775,24.740741,25.657143,24.2,24.533333,25.878788],\"xaxis\":\"x\",\"y\":[1,2,3,4,5,6,7,8,9,10,11,12,13,14,15,16,17,18,19,20],\"yaxis\":\"y\",\"type\":\"scatter\"},{\"hovertemplate\":\"<b>%{hovertext}</b><br><br>league=PL<br>Years=2019-20<br>Age=%{x}<br>Rk=%{y}<extra></extra>\",\"hovertext\":[\"Liverpool FC\",\"Manchester City\",\"Manchester United\",\"Chelsea FC FC\",\"Leicester City\",\"Tottenham Hotspur\",\"Wolverhampton Wanderers\",\"Arsenal FC\",\"Sheffield United\",\"Burnley FC\",\"Southampton FC\",\"Everton FC\",\"Newcastle United\",\"Crystal Palace\",\"Brighton & Hove Albion\",\"West Ham United\",\"Aston Villa\",\"AFC Bournemouth\",\"Watford FC\",\"Norwich City\"],\"ids\":[\"Liverpool FC\",\"Manchester City\",\"Manchester United\",\"Chelsea FC FC\",\"Leicester City\",\"Tottenham Hotspur\",\"Wolverhampton Wanderers\",\"Arsenal FC\",\"Sheffield United\",\"Burnley FC\",\"Southampton FC\",\"Everton FC\",\"Newcastle United\",\"Crystal Palace\",\"Brighton & Hove Albion\",\"West Ham United\",\"Aston Villa\",\"AFC Bournemouth\",\"Watford FC\",\"Norwich City\"],\"legendgroup\":\"PL\",\"marker\":{\"color\":\"blue\",\"symbol\":\"circle\"},\"mode\":\"markers\",\"name\":\"PL\",\"orientation\":\"v\",\"showlegend\":true,\"x\":[23.827586,22.914894,24.875,25.55102,25.72,23.807692,23.306122,24.916667,26.295455,27.578947,25.433333,25.522727,24.88,26.214286,24.357143,26.555556,26.52,24.576923,22.97561,23.862745],\"xaxis\":\"x\",\"y\":[1,2,3,4,5,6,7,8,9,10,11,12,13,14,15,16,17,18,19,20],\"yaxis\":\"y\",\"type\":\"scatter\"},{\"hovertemplate\":\"<b>%{hovertext}</b><br><br>league=serieA<br>Years=2019-20<br>Age=%{x}<br>Rk=%{y}<extra></extra>\",\"hovertext\":[\"Juventus FC\",\"Inter Milan\",\"Atalanta BC\",\"SS Lazio\",\"AS Roma\",\"AC Milan\",\"SSC Napoli\",\"US Sassuolo\",\"Hellas Verona\",\"ACF Fiorentina\",\"Parma FC\",\"Bologna FC 1909\",\"Udinese Calcio\",\"Cagliari Calcio\",\"UC Sampdoria\",\"Torino FC\",\"Genoa CFC\",\"US Lecce\",\"Brescia Calcio\",\"SPAL 2013\"],\"ids\":[\"Juventus FC\",\"Inter Milan\",\"Atalanta BC\",\"SS Lazio\",\"AS Roma\",\"AC Milan\",\"SSC Napoli\",\"US Sassuolo\",\"Hellas Verona\",\"ACF Fiorentina\",\"Parma FC\",\"Bologna FC 1909\",\"Udinese Calcio\",\"Cagliari Calcio\",\"UC Sampdoria\",\"Torino FC\",\"Genoa CFC\",\"US Lecce\",\"Brescia Calcio\",\"SPAL 2013\"],\"legendgroup\":\"serieA\",\"marker\":{\"color\":\"green\",\"symbol\":\"circle\"},\"mode\":\"markers\",\"name\":\"serieA\",\"orientation\":\"v\",\"showlegend\":true,\"x\":[24.647059,23.121212,22.935484,22.886792,23.660377,24.871795,23.935484,22.746479,24.577778,23.791045,24.039604,23.508197,25.603774,24.88,24.21875,23.403846,23.560748,25.37931,25.216216,24.913793],\"xaxis\":\"x\",\"y\":[1,2,3,4,5,6,7,8,9,10,11,12,13,14,15,16,17,18,19,20],\"yaxis\":\"y\",\"type\":\"scatter\"},{\"hovertemplate\":\"<b>%{hovertext}</b><br><br>league=ligue1<br>Years=2019-20<br>Age=%{x}<br>Rk=%{y}<extra></extra>\",\"hovertext\":[\"Paris Saint-Germain\",\"Olympique Marseille\",\"Stade Rennais\",\"LOSC Lille\",\"OGC Nice\",\"Stade Reims\",\"Olympique Lyon\",\"Montpellier\",\"AS Monaco\",\"RC Strasbourg Alsace\",\"SCO Angers\",\"FC Girondins Bordeaux\",\"FC Nantes\",\"Stade Brestois 29\",\"FC Metz\",\"Dijon FCO\",\"Saint-Etienne\",\"N\\u00eemes Olympique\",\"Amiens SC\",\"Toulouse\"],\"ids\":[\"Paris Saint-Germain\",\"Olympique Marseille\",\"Stade Rennais\",\"LOSC Lille\",\"OGC Nice\",\"Stade Reims\",\"Olympique Lyon\",\"Montpellier\",\"AS Monaco\",\"RC Strasbourg Alsace\",\"SCO Angers\",\"FC Girondins Bordeaux\",\"FC Nantes\",\"Stade Brestois 29\",\"FC Metz\",\"Dijon FCO\",\"Saint-Etienne\",\"N\\u00eemes Olympique\",\"Amiens SC\",\"Toulouse\"],\"legendgroup\":\"ligue1\",\"marker\":{\"color\":\"black\",\"symbol\":\"circle\"},\"mode\":\"markers\",\"name\":\"ligue1\",\"orientation\":\"v\",\"showlegend\":true,\"x\":[23.794872,25.136364,22.897436,23.27027,21.935484,22.897436,23.5,23.939394,23.111111,25.285714,25.911765,24.432432,24.333333,24.576923,23.342857,23.580645,22.976744,24.970588,24.065217,24.146341],\"xaxis\":\"x\",\"y\":[1,2,3,4,5,6,7,8,9,10,11,12,13,14,15,16,17,18,19,20],\"yaxis\":\"y\",\"type\":\"scatter\"},{\"hovertemplate\":\"<b>%{hovertext}</b><br><br>league=bundesliga<br>Years=2019-20<br>Age=%{x}<br>Rk=%{y}<extra></extra>\",\"hovertext\":[\"Bayern Munich\",\"Borussia Dortmund\",\"RB Leipzig\",\"Borussia M\\u00f6nchengladbach\",\"Bayer 04 Leverkusen\",\"TSG 1899 Hoffenheim\",\"VfL Wolfsburg\",\"SC Freiburg\",\"Eintracht Frankfurt\",\"Hertha BSC\",\"FC Union Berlin\",\"Schalke 04\",\"FSV Mainz 05\",\"Fc FC K\\u00f6ln\",\"Augsburg\",\"SV Werder Bremen\",\"Fortuna D\\u00fcsseldorf\",\"SC Paderborn 07\"],\"ids\":[\"Bayern Munich\",\"Borussia Dortmund\",\"RB Leipzig\",\"Borussia M\\u00f6nchengladbach\",\"Bayer 04 Leverkusen\",\"TSG 1899 Hoffenheim\",\"VfL Wolfsburg\",\"SC Freiburg\",\"Eintracht Frankfurt\",\"Hertha BSC\",\"FC Union Berlin\",\"Schalke 04\",\"FSV Mainz 05\",\"Fc FC K\\u00f6ln\",\"Augsburg\",\"SV Werder Bremen\",\"Fortuna D\\u00fcsseldorf\",\"SC Paderborn 07\"],\"legendgroup\":\"bundesliga\",\"marker\":{\"color\":\"red\",\"symbol\":\"circle\"},\"mode\":\"markers\",\"name\":\"bundesliga\",\"orientation\":\"v\",\"showlegend\":true,\"x\":[25.0,23.757576,21.535714,23.2,22.526316,24.659574,23.413793,23.466667,23.918367,22.290323,23.717949,24.166667,24.129032,22.277778,24.974359,23.40625,24.4,23.046512],\"xaxis\":\"x\",\"y\":[1,2,3,4,5,6,7,8,9,10,11,12,13,14,15,16,17,18],\"yaxis\":\"y\",\"type\":\"scatter\"}],\"name\":\"2019-20\"},{\"data\":[{\"hovertemplate\":\"<b>%{hovertext}</b><br><br>league=liga<br>Years=2020-21<br>Age=%{x}<br>Rk=%{y}<extra></extra>\",\"hovertext\":[\"Atl\\u00e9tico de Madrid\",\"Real Madrid\",\"FC Barcelona\",\"Sevilla FC\",\"Real Sociedad\",\"Real Betis Balompi\\u00e9\",\"Villarreal CF\",\"Celta de Vigo\",\"Granada CF\",\"Athletic Bilbao\",\"CA Osasuna\",\"C\\u00e1diz CF\",\"Valencia CF\",\"Levante UD\",\"Getafe CF\",\"Deportivo Alav\\u00e9s\",\"Elche CF\",\"SD Huesca\",\"Real Valladolid CF\",\"SD Eibar\"],\"ids\":[\"Atl\\u00e9tico de Madrid\",\"Real Madrid\",\"FC Barcelona\",\"Sevilla FC\",\"Real Sociedad\",\"Real Betis Balompi\\u00e9\",\"Villarreal CF\",\"Celta de Vigo\",\"Granada CF\",\"Athletic Bilbao\",\"CA Osasuna\",\"C\\u00e1diz CF\",\"Valencia CF\",\"Levante UD\",\"Getafe CF\",\"Deportivo Alav\\u00e9s\",\"Elche CF\",\"SD Huesca\",\"Real Valladolid CF\",\"SD Eibar\"],\"legendgroup\":\"liga\",\"marker\":{\"color\":\"gold\",\"symbol\":\"circle\"},\"mode\":\"markers\",\"name\":\"liga\",\"orientation\":\"v\",\"showlegend\":true,\"x\":[24.777778,22.294118,23.117647,25.487805,26.5,24.733333,24.818182,25.863636,25.653846,23.857143,26.366667,25.983607,24.62963,24.965517,25.222222,24.622222,27.684211,24.923077,25.269231,26.5],\"xaxis\":\"x\",\"y\":[1,2,3,4,5,6,7,8,9,10,11,12,13,14,15,16,17,18,19,20],\"yaxis\":\"y\",\"type\":\"scatter\"},{\"hovertemplate\":\"<b>%{hovertext}</b><br><br>league=PL<br>Years=2020-21<br>Age=%{x}<br>Rk=%{y}<extra></extra>\",\"hovertext\":[\"Manchester City\",\"Manchester United\",\"Liverpool FC\",\"Chelsea FC FC\",\"Leicester City\",\"West Ham United\",\"Tottenham Hotspur\",\"Arsenal FC\",\"Leeds United\",\"Everton FC\",\"Aston Villa\",\"Newcastle United\",\"Wolverhampton Wanderers\",\"Crystal Palace\",\"Southampton FC\",\"Brighton & Hove Albion\",\"Burnley FC\",\"Fulham FC\",\"West Bromwich Albion\",\"Sheffield United\"],\"ids\":[\"Manchester City\",\"Manchester United\",\"Liverpool FC\",\"Chelsea FC FC\",\"Leicester City\",\"West Ham United\",\"Tottenham Hotspur\",\"Arsenal FC\",\"Leeds United\",\"Everton FC\",\"Aston Villa\",\"Newcastle United\",\"Wolverhampton Wanderers\",\"Crystal Palace\",\"Southampton FC\",\"Brighton & Hove Albion\",\"Burnley FC\",\"Fulham FC\",\"West Bromwich Albion\",\"Sheffield United\"],\"legendgroup\":\"PL\",\"marker\":{\"color\":\"blue\",\"symbol\":\"circle\"},\"mode\":\"markers\",\"name\":\"PL\",\"orientation\":\"v\",\"showlegend\":true,\"x\":[22.64,25.24,24.034483,25.333333,25.9,27.28125,24.538462,25.46875,23.322581,26.15,26.655172,25.5,23.625,24.45,25.707317,24.823529,26.0,26.046512,25.952381,24.6],\"xaxis\":\"x\",\"y\":[1,2,3,4,5,6,7,8,9,10,11,12,13,14,15,16,17,18,19,20],\"yaxis\":\"y\",\"type\":\"scatter\"},{\"hovertemplate\":\"<b>%{hovertext}</b><br><br>league=serieA<br>Years=2020-21<br>Age=%{x}<br>Rk=%{y}<extra></extra>\",\"hovertext\":[\"Inter Milan\",\"AC Milan\",\"Atalanta BC\",\"Juventus FC\",\"SSC Napoli\",\"SS Lazio\",\"AS Roma\",\"US Sassuolo\",\"UC Sampdoria\",\"Hellas Verona\",\"Genoa CFC\",\"Bologna FC 1909\",\"ACF Fiorentina\",\"Udinese Calcio\",\"Spezia Calcio\",\"Cagliari Calcio\",\"Torino FC\",\"Benevento Calcio\",\"FC Crotone\",\"Parma FC\"],\"ids\":[\"Inter Milan\",\"AC Milan\",\"Atalanta BC\",\"Juventus FC\",\"SSC Napoli\",\"SS Lazio\",\"AS Roma\",\"US Sassuolo\",\"UC Sampdoria\",\"Hellas Verona\",\"Genoa CFC\",\"Bologna FC 1909\",\"ACF Fiorentina\",\"Udinese Calcio\",\"Spezia Calcio\",\"Cagliari Calcio\",\"Torino FC\",\"Benevento Calcio\",\"FC Crotone\",\"Parma FC\"],\"legendgroup\":\"serieA\",\"marker\":{\"color\":\"green\",\"symbol\":\"circle\"},\"mode\":\"markers\",\"name\":\"serieA\",\"orientation\":\"v\",\"showlegend\":true,\"x\":[24.294118,24.585366,22.464789,24.193548,24.55814,25.459459,25.232558,22.862745,23.903846,24.917808,23.505618,23.194444,24.614035,24.465116,24.458333,26.06383,23.820513,25.794118,24.607843,24.246753],\"xaxis\":\"x\",\"y\":[1,2,3,4,5,6,7,8,9,10,11,12,13,14,15,16,17,18,19,20],\"yaxis\":\"y\",\"type\":\"scatter\"},{\"hovertemplate\":\"<b>%{hovertext}</b><br><br>league=ligue1<br>Years=2020-21<br>Age=%{x}<br>Rk=%{y}<extra></extra>\",\"hovertext\":[\"LOSC Lille\",\"Paris Saint-Germain\",\"AS Monaco\",\"Olympique Lyon\",\"Olympique Marseille\",\"Stade Rennais\",\"RC Lens\",\"Montpellier\",\"OGC Nice\",\"FC Metz\",\"Saint-Etienne\",\"FC Girondins Bordeaux\",\"SCO Angers\",\"Stade Reims\",\"RC Strasbourg Alsace\",\"Lorient\",\"Stade Brestois 29\",\"FC Nantes\",\"N\\u00eemes Olympique\"],\"ids\":[\"LOSC Lille\",\"Paris Saint-Germain\",\"AS Monaco\",\"Olympique Lyon\",\"Olympique Marseille\",\"Stade Rennais\",\"RC Lens\",\"Montpellier\",\"OGC Nice\",\"FC Metz\",\"Saint-Etienne\",\"FC Girondins Bordeaux\",\"SCO Angers\",\"Stade Reims\",\"RC Strasbourg Alsace\",\"Lorient\",\"Stade Brestois 29\",\"FC Nantes\",\"N\\u00eemes Olympique\"],\"legendgroup\":\"ligue1\",\"marker\":{\"color\":\"black\",\"symbol\":\"circle\"},\"mode\":\"markers\",\"name\":\"ligue1\",\"orientation\":\"v\",\"showlegend\":true,\"x\":[23.666667,23.419355,23.546875,24.2,24.833333,23.043478,24.193548,23.5,21.6,23.181818,23.510638,22.62963,24.322581,23.043478,25.933333,24.425,24.096774,24.375,23.210526],\"xaxis\":\"x\",\"y\":[1,2,3,4,5,6,7,8,9,10,11,12,13,14,15,16,17,18,19],\"yaxis\":\"y\",\"type\":\"scatter\"},{\"hovertemplate\":\"<b>%{hovertext}</b><br><br>league=bundesliga<br>Years=2020-21<br>Age=%{x}<br>Rk=%{y}<extra></extra>\",\"hovertext\":[\"Bayern Munich\",\"RB Leipzig\",\"Borussia Dortmund\",\"VfL Wolfsburg\",\"Eintracht Frankfurt\",\"Bayer 04 Leverkusen\",\"FC Union Berlin\",\"Borussia M\\u00f6nchengladbach\",\"VfB Stuttgart\",\"SC Freiburg\",\"TSG 1899 Hoffenheim\",\"FSV Mainz 05\",\"Augsburg\",\"Hertha BSC\",\"Arminia Bielefeld\",\"FC FC K\\u00f6ln\",\"SV Werder Bremen\",\"Schalke 04\"],\"ids\":[\"Bayern Munich\",\"RB Leipzig\",\"Borussia Dortmund\",\"VfL Wolfsburg\",\"Eintracht Frankfurt\",\"Bayer 04 Leverkusen\",\"FC Union Berlin\",\"Borussia M\\u00f6nchengladbach\",\"VfB Stuttgart\",\"SC Freiburg\",\"TSG 1899 Hoffenheim\",\"FSV Mainz 05\",\"Augsburg\",\"Hertha BSC\",\"Arminia Bielefeld\",\"FC FC K\\u00f6ln\",\"SV Werder Bremen\",\"Schalke 04\"],\"legendgroup\":\"bundesliga\",\"marker\":{\"color\":\"red\",\"symbol\":\"circle\"},\"mode\":\"markers\",\"name\":\"bundesliga\",\"orientation\":\"v\",\"showlegend\":true,\"x\":[23.52,20.833333,23.590909,23.72,24.404762,22.65,24.340426,22.333333,23.172414,24.935484,23.83871,23.586207,25.178571,23.861111,23.580645,24.825,24.974359,24.697674],\"xaxis\":\"x\",\"y\":[1,2,3,4,5,6,7,8,9,10,11,12,13,14,15,16,17,18],\"yaxis\":\"y\",\"type\":\"scatter\"}],\"name\":\"2020-21\"},{\"data\":[{\"hovertemplate\":\"<b>%{hovertext}</b><br><br>league=ligue1<br>Years=2020-21410256<br>Age=%{x}<br>Rk=%{y}<extra></extra>\",\"hovertext\":[\"Dijon FCO\"],\"ids\":[\"Dijon FCO\"],\"legendgroup\":\"ligue1\",\"marker\":{\"color\":\"black\",\"symbol\":\"circle\"},\"mode\":\"markers\",\"name\":\"ligue1\",\"orientation\":\"v\",\"showlegend\":true,\"x\":[23.242424],\"xaxis\":\"x\",\"y\":[20],\"yaxis\":\"y\",\"type\":\"scatter\"}],\"name\":\"2020-21410256\"}]);\n",
       "                        }).then(function(){\n",
       "                            \n",
       "var gd = document.getElementById('e5c6ec2e-0904-4d9e-b48e-c97cee23e6e6');\n",
       "var x = new MutationObserver(function (mutations, observer) {{\n",
       "        var display = window.getComputedStyle(gd).display;\n",
       "        if (!display || display === 'none') {{\n",
       "            console.log([gd, 'removed!']);\n",
       "            Plotly.purge(gd);\n",
       "            observer.disconnect();\n",
       "        }}\n",
       "}});\n",
       "\n",
       "// Listen for the removal of the full notebook cells\n",
       "var notebookContainer = gd.closest('#notebook-container');\n",
       "if (notebookContainer) {{\n",
       "    x.observe(notebookContainer, {childList: true});\n",
       "}}\n",
       "\n",
       "// Listen for the clearing of the current output cell\n",
       "var outputEl = gd.closest('.output');\n",
       "if (outputEl) {{\n",
       "    x.observe(outputEl, {childList: true});\n",
       "}}\n",
       "\n",
       "                        })                };                });            </script>        </div>"
      ]
     },
     "metadata": {},
     "output_type": "display_data"
    }
   ],
   "source": [
    "\n",
    "#[leagues[\"Years\"] == saison]\n",
    "px.scatter(leagues, x='Age', y='Rk', color=\"league\", \n",
    "           hover_name=\"Squad\", \n",
    "           color_discrete_map=league_colors, title=\"Classement en fonction de l'age et de la valeur marchande des clubs \",\n",
    "           #size = 'Market Value', size_max=40, \n",
    "           animation_frame=leagues[\"Years\"], animation_group=\"Squad\", range_x=[15,35], range_y=[1,20])"
   ]
  }
 ],
 "metadata": {
  "kernelspec": {
   "display_name": "Python 3 (ipykernel)",
   "language": "python",
   "name": "python3"
  },
  "language_info": {
   "codemirror_mode": {
    "name": "ipython",
    "version": 3
   },
   "file_extension": ".py",
   "mimetype": "text/x-python",
   "name": "python",
   "nbconvert_exporter": "python",
   "pygments_lexer": "ipython3",
   "version": "3.10.2"
  }
 },
 "nbformat": 4,
 "nbformat_minor": 5
}
