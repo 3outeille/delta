{
 "cells": [
  {
   "cell_type": "code",
   "execution_count": 2,
   "id": "a958e27c",
   "metadata": {},
   "outputs": [
    {
     "name": "stderr",
     "output_type": "stream",
     "text": [
      "/tmp/ipykernel_152342/582654789.py:12: DtypeWarning: Columns (10,11) have mixed types. Specify dtype option on import or set low_memory=False.\n",
      "  test.append(pd.read_csv(zd, delimiter=';'))\n"
     ]
    },
    {
     "data": {
      "text/plain": [
       "[        ANAIS ACCOUCHR  AGEMERE  AGEPERE  AGEXACTM  AGEXACTP  AMAR  ARECC  \\\n",
       " 0        2019       ES       33       33        32        32     0      0   \n",
       " 1        2019       ES       36       40        35        39     0      0   \n",
       " 2        2019       ES       37       41        37        41  2010      0   \n",
       " 3        2019       ES       26       29        26        29     0      0   \n",
       " 4        2019       AU       27       31        26        31     0      0   \n",
       " ...       ...      ...      ...      ...       ...       ...   ...    ...   \n",
       " 753378   2019       ES       27       25        26        25     0      0   \n",
       " 753379   2019       ES       25       24        25        24     0   2019   \n",
       " 753380   2019       ES       32       26        32        26     0      0   \n",
       " 753381   2019       ES       30       28        30        28     0   2019   \n",
       " 753382   2019       ES       40       42        40        41     0   2019   \n",
       " \n",
       "         ARECM  ARECP  ... MRECC MRECM  MRECP  NBENF  ORIGINOM  SEXE  SITUATMR  \\\n",
       " 0        2019   2019  ...     0     1      1      1       1.0     2         S   \n",
       " 1        2019   2019  ...     0     7      7      1       1.0     2         S   \n",
       " 2           0      0  ...     0     0      0      1       1.0     1       NaN   \n",
       " 3        2019      0  ...     0    12      0      1       2.0     2         S   \n",
       " 4        2019      0  ...     0     4      0      1       1.0     1       NaN   \n",
       " ...       ...    ...  ...   ...   ...    ...    ...       ...   ...       ...   \n",
       " 753378   2019   2019  ...     0     5      5      1       1.0     1        ND   \n",
       " 753379      0      0  ...     2     0      0      1       1.0     1       NaN   \n",
       " 753380   2019   2019  ...     0     6      3      1       1.0     1         S   \n",
       " 753381      0      0  ...     9     0      0      1       3.0     2         S   \n",
       " 753382      0      0  ...     8     0      0      1       1.0     2         S   \n",
       " \n",
       "         SITUATPR  TUCOM  TUDOM  \n",
       " 0              S    NaN      9  \n",
       " 1              S    NaN      9  \n",
       " 2             NS    NaN      9  \n",
       " 3             ND    NaN      9  \n",
       " 4            NaN    NaN      9  \n",
       " ...          ...    ...    ...  \n",
       " 753378        ND      P      9  \n",
       " 753379         S      P      9  \n",
       " 753380         S      P      9  \n",
       " 753381       NaN      M      9  \n",
       " 753382         S      P      9  \n",
       " \n",
       " [753383 rows x 32 columns],\n",
       "       COD_VAR                                            LIB_VAR COD_MOD  \\\n",
       " 0       ANAIS                     Année de naissance de l'enfant    2019   \n",
       " 1    ACCOUCHR                       Conditions de l’accouchement     NaN   \n",
       " 2    ACCOUCHR                       Conditions de l’accouchement      ES   \n",
       " 3    ACCOUCHR                       Conditions de l’accouchement      AU   \n",
       " 4     AGEMERE  Age de la mère dans l’année de naissance de l’...      17   \n",
       " ..        ...                                                ...     ...   \n",
       " 605     TUDOM  Tranche d’unité urbaine 2010 du lieu de domici...       5   \n",
       " 606     TUDOM  Tranche d’unité urbaine 2010 du lieu de domici...       6   \n",
       " 607     TUDOM  Tranche d’unité urbaine 2010 du lieu de domici...       7   \n",
       " 608     TUDOM  Tranche d’unité urbaine 2010 du lieu de domici...       8   \n",
       " 609     TUDOM  Tranche d’unité urbaine 2010 du lieu de domici...       9   \n",
       " \n",
       "                                             LIB_MOD TYPE_VAR  LONG_VAR  \n",
       " 0                        Fichier naissances de 2019     CHAR         4  \n",
       " 1                  Jugement déclaratif de naissance     CHAR         2  \n",
       " 2                  Dans un établissement spécialisé     CHAR         2  \n",
       " 3                                             Autre     CHAR         2  \n",
       " 4                                   17 ans ou moins     CHAR         2  \n",
       " ..                                              ...      ...       ...  \n",
       " 605      Unité urbaine de 50 000 à 99 999 habitants     CHAR         1  \n",
       " 606    Unité urbaine de 100 000 à 199 999 habitants     CHAR         1  \n",
       " 607  Unité urbaine de 200 000 à 1 999 999 habitants     CHAR         1  \n",
       " 608                          Agglomération de Paris     CHAR         1  \n",
       " 609                                 COM ou étranger     CHAR         1  \n",
       " \n",
       " [610 rows x 6 columns]]"
      ]
     },
     "execution_count": 2,
     "metadata": {},
     "output_type": "execute_result"
    }
   ],
   "source": [
    "import pandas as pd\n",
    "from zipfile import ZipFile\n",
    "from io import BytesIO\n",
    "from urllib.request import urlopen\n",
    "\n",
    "data = urlopen('https://www.insee.fr/fr/statistiques/fichier/4768335/etatcivil2019_nais2019_csv.zip')\n",
    "zipfile = ZipFile(BytesIO(data.read()))\n",
    "test = []\n",
    "with zipfile as f:\n",
    "    for name in f.namelist():\n",
    "        with f.open(name) as zd:\n",
    "            test.append(pd.read_csv(zd, delimiter=';'))\n",
    "test[:5]"
   ]
  },
  {
   "cell_type": "code",
   "execution_count": 27,
   "id": "4fb501a8",
   "metadata": {},
   "outputs": [
    {
     "data": {
      "text/plain": [
       "6.592485549132948"
      ]
     },
     "execution_count": 27,
     "metadata": {},
     "output_type": "execute_result"
    }
   ],
   "source": [
    "4562/692"
   ]
  },
  {
   "cell_type": "code",
   "execution_count": 3,
   "id": "b91b856d",
   "metadata": {},
   "outputs": [
    {
     "name": "stderr",
     "output_type": "stream",
     "text": [
      "/tmp/ipykernel_152342/907650445.py:1: DtypeWarning: Columns (10,11) have mixed types. Specify dtype option on import or set low_memory=False.\n",
      "  df = pd.read_csv('data/FD_NAIS_2019.csv', delimiter=';')\n"
     ]
    }
   ],
   "source": [
    "\n",
    "df = pd.read_csv('data/FD_NAIS_2019.csv', delimiter=';')"
   ]
  },
  {
   "cell_type": "code",
   "execution_count": null,
   "id": "9056ad10",
   "metadata": {},
   "outputs": [],
   "source": []
  }
 ],
 "metadata": {
  "kernelspec": {
   "display_name": "Python 3 (ipykernel)",
   "language": "python",
   "name": "python3"
  },
  "language_info": {
   "codemirror_mode": {
    "name": "ipython",
    "version": 3
   },
   "file_extension": ".py",
   "mimetype": "text/x-python",
   "name": "python",
   "nbconvert_exporter": "python",
   "pygments_lexer": "ipython3",
   "version": "3.8.10"
  }
 },
 "nbformat": 4,
 "nbformat_minor": 5
}
