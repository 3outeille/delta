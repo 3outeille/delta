{
 "cells": [
  {
   "cell_type": "code",
   "execution_count": 128,
   "id": "475f01db",
   "metadata": {},
   "outputs": [],
   "source": [
    "import pandas as pd\n",
    "from zipfile import ZipFile\n",
    "from io import BytesIO\n",
    "from urllib.request import urlopen\n",
    "import matplotlib as plt"
   ]
  },
  {
   "cell_type": "code",
   "execution_count": 161,
   "id": "a958e27c",
   "metadata": {},
   "outputs": [
    {
     "name": "stderr",
     "output_type": "stream",
     "text": [
      "/home/turtlesmoke/.local/lib/python3.8/site-packages/IPython/core/interactiveshell.py:3169: DtypeWarning: Columns (10,11) have mixed types.Specify dtype option on import or set low_memory=False.\n",
      "  has_raised = await self.run_ast_nodes(code_ast.body, cell_name,\n"
     ]
    }
   ],
   "source": [
    "data = urlopen('https://www.insee.fr/fr/statistiques/fichier/4768335/etatcivil2019_nais2019_csv.zip')\n",
    "zipfile = ZipFile(BytesIO(data.read()))\n",
    "test = []\n",
    "with zipfile as f:\n",
    "    for name in f.namelist():\n",
    "        with f.open(name) as zd:\n",
    "            test.append(pd.read_csv(zd, delimiter=';'))"
   ]
  },
  {
   "cell_type": "code",
   "execution_count": 3,
   "id": "957b405c",
   "metadata": {
    "scrolled": true
   },
   "outputs": [],
   "source": [
    "db, varmod = test\n",
    "df = db#.head(50).copy()"
   ]
  },
  {
   "cell_type": "code",
   "execution_count": 4,
   "id": "b5f7b302",
   "metadata": {},
   "outputs": [
    {
     "data": {
      "text/html": [
       "<div>\n",
       "<style scoped>\n",
       "    .dataframe tbody tr th:only-of-type {\n",
       "        vertical-align: middle;\n",
       "    }\n",
       "\n",
       "    .dataframe tbody tr th {\n",
       "        vertical-align: top;\n",
       "    }\n",
       "\n",
       "    .dataframe thead th {\n",
       "        text-align: right;\n",
       "    }\n",
       "</style>\n",
       "<table border=\"1\" class=\"dataframe\">\n",
       "  <thead>\n",
       "    <tr style=\"text-align: right;\">\n",
       "      <th></th>\n",
       "      <th>ANAIS</th>\n",
       "      <th>ACCOUCHR</th>\n",
       "      <th>AGEMERE</th>\n",
       "      <th>AGEPERE</th>\n",
       "      <th>AGEXACTM</th>\n",
       "      <th>AGEXACTP</th>\n",
       "      <th>AMAR</th>\n",
       "      <th>ARECC</th>\n",
       "      <th>ARECM</th>\n",
       "      <th>ARECP</th>\n",
       "      <th>...</th>\n",
       "      <th>MRECC</th>\n",
       "      <th>MRECM</th>\n",
       "      <th>MRECP</th>\n",
       "      <th>NBENF</th>\n",
       "      <th>ORIGINOM</th>\n",
       "      <th>SEXE</th>\n",
       "      <th>SITUATMR</th>\n",
       "      <th>SITUATPR</th>\n",
       "      <th>TUCOM</th>\n",
       "      <th>TUDOM</th>\n",
       "    </tr>\n",
       "  </thead>\n",
       "  <tbody>\n",
       "    <tr>\n",
       "      <th>0</th>\n",
       "      <td>2019</td>\n",
       "      <td>ES</td>\n",
       "      <td>33</td>\n",
       "      <td>33</td>\n",
       "      <td>32</td>\n",
       "      <td>32</td>\n",
       "      <td>0</td>\n",
       "      <td>0</td>\n",
       "      <td>2019</td>\n",
       "      <td>2019</td>\n",
       "      <td>...</td>\n",
       "      <td>0</td>\n",
       "      <td>1</td>\n",
       "      <td>1</td>\n",
       "      <td>1</td>\n",
       "      <td>1.0</td>\n",
       "      <td>2</td>\n",
       "      <td>S</td>\n",
       "      <td>S</td>\n",
       "      <td>NaN</td>\n",
       "      <td>9</td>\n",
       "    </tr>\n",
       "    <tr>\n",
       "      <th>1</th>\n",
       "      <td>2019</td>\n",
       "      <td>ES</td>\n",
       "      <td>36</td>\n",
       "      <td>40</td>\n",
       "      <td>35</td>\n",
       "      <td>39</td>\n",
       "      <td>0</td>\n",
       "      <td>0</td>\n",
       "      <td>2019</td>\n",
       "      <td>2019</td>\n",
       "      <td>...</td>\n",
       "      <td>0</td>\n",
       "      <td>7</td>\n",
       "      <td>7</td>\n",
       "      <td>1</td>\n",
       "      <td>1.0</td>\n",
       "      <td>2</td>\n",
       "      <td>S</td>\n",
       "      <td>S</td>\n",
       "      <td>NaN</td>\n",
       "      <td>9</td>\n",
       "    </tr>\n",
       "    <tr>\n",
       "      <th>2</th>\n",
       "      <td>2019</td>\n",
       "      <td>ES</td>\n",
       "      <td>37</td>\n",
       "      <td>41</td>\n",
       "      <td>37</td>\n",
       "      <td>41</td>\n",
       "      <td>2010</td>\n",
       "      <td>0</td>\n",
       "      <td>0</td>\n",
       "      <td>0</td>\n",
       "      <td>...</td>\n",
       "      <td>0</td>\n",
       "      <td>0</td>\n",
       "      <td>0</td>\n",
       "      <td>1</td>\n",
       "      <td>1.0</td>\n",
       "      <td>1</td>\n",
       "      <td>NaN</td>\n",
       "      <td>NS</td>\n",
       "      <td>NaN</td>\n",
       "      <td>9</td>\n",
       "    </tr>\n",
       "    <tr>\n",
       "      <th>3</th>\n",
       "      <td>2019</td>\n",
       "      <td>ES</td>\n",
       "      <td>26</td>\n",
       "      <td>29</td>\n",
       "      <td>26</td>\n",
       "      <td>29</td>\n",
       "      <td>0</td>\n",
       "      <td>0</td>\n",
       "      <td>2019</td>\n",
       "      <td>0</td>\n",
       "      <td>...</td>\n",
       "      <td>0</td>\n",
       "      <td>12</td>\n",
       "      <td>0</td>\n",
       "      <td>1</td>\n",
       "      <td>2.0</td>\n",
       "      <td>2</td>\n",
       "      <td>S</td>\n",
       "      <td>ND</td>\n",
       "      <td>NaN</td>\n",
       "      <td>9</td>\n",
       "    </tr>\n",
       "    <tr>\n",
       "      <th>4</th>\n",
       "      <td>2019</td>\n",
       "      <td>AU</td>\n",
       "      <td>27</td>\n",
       "      <td>31</td>\n",
       "      <td>26</td>\n",
       "      <td>31</td>\n",
       "      <td>0</td>\n",
       "      <td>0</td>\n",
       "      <td>2019</td>\n",
       "      <td>0</td>\n",
       "      <td>...</td>\n",
       "      <td>0</td>\n",
       "      <td>4</td>\n",
       "      <td>0</td>\n",
       "      <td>1</td>\n",
       "      <td>1.0</td>\n",
       "      <td>1</td>\n",
       "      <td>NaN</td>\n",
       "      <td>NaN</td>\n",
       "      <td>NaN</td>\n",
       "      <td>9</td>\n",
       "    </tr>\n",
       "    <tr>\n",
       "      <th>...</th>\n",
       "      <td>...</td>\n",
       "      <td>...</td>\n",
       "      <td>...</td>\n",
       "      <td>...</td>\n",
       "      <td>...</td>\n",
       "      <td>...</td>\n",
       "      <td>...</td>\n",
       "      <td>...</td>\n",
       "      <td>...</td>\n",
       "      <td>...</td>\n",
       "      <td>...</td>\n",
       "      <td>...</td>\n",
       "      <td>...</td>\n",
       "      <td>...</td>\n",
       "      <td>...</td>\n",
       "      <td>...</td>\n",
       "      <td>...</td>\n",
       "      <td>...</td>\n",
       "      <td>...</td>\n",
       "      <td>...</td>\n",
       "      <td>...</td>\n",
       "    </tr>\n",
       "    <tr>\n",
       "      <th>753378</th>\n",
       "      <td>2019</td>\n",
       "      <td>ES</td>\n",
       "      <td>27</td>\n",
       "      <td>25</td>\n",
       "      <td>26</td>\n",
       "      <td>25</td>\n",
       "      <td>0</td>\n",
       "      <td>0</td>\n",
       "      <td>2019</td>\n",
       "      <td>2019</td>\n",
       "      <td>...</td>\n",
       "      <td>0</td>\n",
       "      <td>5</td>\n",
       "      <td>5</td>\n",
       "      <td>1</td>\n",
       "      <td>1.0</td>\n",
       "      <td>1</td>\n",
       "      <td>ND</td>\n",
       "      <td>ND</td>\n",
       "      <td>P</td>\n",
       "      <td>9</td>\n",
       "    </tr>\n",
       "    <tr>\n",
       "      <th>753379</th>\n",
       "      <td>2019</td>\n",
       "      <td>ES</td>\n",
       "      <td>25</td>\n",
       "      <td>24</td>\n",
       "      <td>25</td>\n",
       "      <td>24</td>\n",
       "      <td>0</td>\n",
       "      <td>2019</td>\n",
       "      <td>0</td>\n",
       "      <td>0</td>\n",
       "      <td>...</td>\n",
       "      <td>2</td>\n",
       "      <td>0</td>\n",
       "      <td>0</td>\n",
       "      <td>1</td>\n",
       "      <td>1.0</td>\n",
       "      <td>1</td>\n",
       "      <td>NaN</td>\n",
       "      <td>S</td>\n",
       "      <td>P</td>\n",
       "      <td>9</td>\n",
       "    </tr>\n",
       "    <tr>\n",
       "      <th>753380</th>\n",
       "      <td>2019</td>\n",
       "      <td>ES</td>\n",
       "      <td>32</td>\n",
       "      <td>26</td>\n",
       "      <td>32</td>\n",
       "      <td>26</td>\n",
       "      <td>0</td>\n",
       "      <td>0</td>\n",
       "      <td>2019</td>\n",
       "      <td>2019</td>\n",
       "      <td>...</td>\n",
       "      <td>0</td>\n",
       "      <td>6</td>\n",
       "      <td>3</td>\n",
       "      <td>1</td>\n",
       "      <td>1.0</td>\n",
       "      <td>1</td>\n",
       "      <td>S</td>\n",
       "      <td>S</td>\n",
       "      <td>P</td>\n",
       "      <td>9</td>\n",
       "    </tr>\n",
       "    <tr>\n",
       "      <th>753381</th>\n",
       "      <td>2019</td>\n",
       "      <td>ES</td>\n",
       "      <td>30</td>\n",
       "      <td>28</td>\n",
       "      <td>30</td>\n",
       "      <td>28</td>\n",
       "      <td>0</td>\n",
       "      <td>2019</td>\n",
       "      <td>0</td>\n",
       "      <td>0</td>\n",
       "      <td>...</td>\n",
       "      <td>9</td>\n",
       "      <td>0</td>\n",
       "      <td>0</td>\n",
       "      <td>1</td>\n",
       "      <td>3.0</td>\n",
       "      <td>2</td>\n",
       "      <td>S</td>\n",
       "      <td>NaN</td>\n",
       "      <td>M</td>\n",
       "      <td>9</td>\n",
       "    </tr>\n",
       "    <tr>\n",
       "      <th>753382</th>\n",
       "      <td>2019</td>\n",
       "      <td>ES</td>\n",
       "      <td>40</td>\n",
       "      <td>42</td>\n",
       "      <td>40</td>\n",
       "      <td>41</td>\n",
       "      <td>0</td>\n",
       "      <td>2019</td>\n",
       "      <td>0</td>\n",
       "      <td>0</td>\n",
       "      <td>...</td>\n",
       "      <td>8</td>\n",
       "      <td>0</td>\n",
       "      <td>0</td>\n",
       "      <td>1</td>\n",
       "      <td>1.0</td>\n",
       "      <td>2</td>\n",
       "      <td>S</td>\n",
       "      <td>S</td>\n",
       "      <td>P</td>\n",
       "      <td>9</td>\n",
       "    </tr>\n",
       "  </tbody>\n",
       "</table>\n",
       "<p>753383 rows × 32 columns</p>\n",
       "</div>"
      ],
      "text/plain": [
       "        ANAIS ACCOUCHR  AGEMERE  AGEPERE  AGEXACTM  AGEXACTP  AMAR  ARECC  \\\n",
       "0        2019       ES       33       33        32        32     0      0   \n",
       "1        2019       ES       36       40        35        39     0      0   \n",
       "2        2019       ES       37       41        37        41  2010      0   \n",
       "3        2019       ES       26       29        26        29     0      0   \n",
       "4        2019       AU       27       31        26        31     0      0   \n",
       "...       ...      ...      ...      ...       ...       ...   ...    ...   \n",
       "753378   2019       ES       27       25        26        25     0      0   \n",
       "753379   2019       ES       25       24        25        24     0   2019   \n",
       "753380   2019       ES       32       26        32        26     0      0   \n",
       "753381   2019       ES       30       28        30        28     0   2019   \n",
       "753382   2019       ES       40       42        40        41     0   2019   \n",
       "\n",
       "        ARECM  ARECP  ... MRECC MRECM  MRECP  NBENF  ORIGINOM  SEXE  SITUATMR  \\\n",
       "0        2019   2019  ...     0     1      1      1       1.0     2         S   \n",
       "1        2019   2019  ...     0     7      7      1       1.0     2         S   \n",
       "2           0      0  ...     0     0      0      1       1.0     1       NaN   \n",
       "3        2019      0  ...     0    12      0      1       2.0     2         S   \n",
       "4        2019      0  ...     0     4      0      1       1.0     1       NaN   \n",
       "...       ...    ...  ...   ...   ...    ...    ...       ...   ...       ...   \n",
       "753378   2019   2019  ...     0     5      5      1       1.0     1        ND   \n",
       "753379      0      0  ...     2     0      0      1       1.0     1       NaN   \n",
       "753380   2019   2019  ...     0     6      3      1       1.0     1         S   \n",
       "753381      0      0  ...     9     0      0      1       3.0     2         S   \n",
       "753382      0      0  ...     8     0      0      1       1.0     2         S   \n",
       "\n",
       "        SITUATPR  TUCOM  TUDOM  \n",
       "0              S    NaN      9  \n",
       "1              S    NaN      9  \n",
       "2             NS    NaN      9  \n",
       "3             ND    NaN      9  \n",
       "4            NaN    NaN      9  \n",
       "...          ...    ...    ...  \n",
       "753378        ND      P      9  \n",
       "753379         S      P      9  \n",
       "753380         S      P      9  \n",
       "753381       NaN      M      9  \n",
       "753382         S      P      9  \n",
       "\n",
       "[753383 rows x 32 columns]"
      ]
     },
     "execution_count": 4,
     "metadata": {},
     "output_type": "execute_result"
    }
   ],
   "source": [
    "df"
   ]
  },
  {
   "cell_type": "code",
   "execution_count": 5,
   "id": "1a422b4e",
   "metadata": {
    "scrolled": true
   },
   "outputs": [
    {
     "data": {
      "text/plain": [
       "42174"
      ]
     },
     "execution_count": 5,
     "metadata": {},
     "output_type": "execute_result"
    }
   ],
   "source": [
    "sum(df['AGEPERE'] == 46)"
   ]
  },
  {
   "cell_type": "code",
   "execution_count": 6,
   "id": "61ddc0b1",
   "metadata": {},
   "outputs": [],
   "source": [
    "import dateutil as du\n",
    "\n",
    "def convert_date(y, m):\n",
    "    return du.parser.parse(f\"15-{m}-{y}\")\n",
    "\n",
    "# df.groupby(['ANAIS', 'MNAIS']).mean()\n",
    "df['date'] = df.apply(lambda x: convert_date(x.ANAIS, x.MNAIS), axis=1)\n",
    "df = df.set_index('date')"
   ]
  },
  {
   "cell_type": "code",
   "execution_count": 7,
   "id": "e2450c12",
   "metadata": {},
   "outputs": [
    {
     "data": {
      "text/plain": [
       "<AxesSubplot:xlabel='date'>"
      ]
     },
     "execution_count": 7,
     "metadata": {},
     "output_type": "execute_result"
    },
    {
     "data": {
      "image/png": "[encoded data removed]",
      "text/plain": [
       "<Figure size 432x288 with 1 Axes>"
      ]
     },
     "metadata": {
      "needs_background": "light"
     },
     "output_type": "display_data"
    }
   ],
   "source": [
    "d_date = df.groupby('date').mean()\n",
    "# print(d_date[['AGEMERE', 'AGEPERE']])\n",
    "d_date[['AGEMERE', 'AGEPERE']].plot()"
   ]
  },
  {
   "cell_type": "code",
   "execution_count": 181,
   "id": "243fcd19",
   "metadata": {},
   "outputs": [
    {
     "name": "stdout",
     "output_type": "stream",
     "text": [
      "date\n",
      "2019-01-15    63179\n",
      "2019-02-15    54876\n",
      "2019-03-15    60025\n",
      "2019-04-15    59142\n",
      "2019-05-15    63647\n",
      "2019-06-15    62938\n",
      "2019-07-15    67855\n",
      "2019-08-15    66243\n",
      "2019-09-15    64774\n",
      "2019-10-15    65872\n",
      "2019-11-15    61855\n",
      "2019-12-15    62977\n",
      "dtype: int64\n"
     ]
    },
    {
     "data": {
      "text/plain": [
       "<AxesSubplot:xlabel='date'>"
      ]
     },
     "execution_count": 181,
     "metadata": {},
     "output_type": "execute_result"
    },
    {
     "data": {
      "image/png": "[encoded data removed]",
      "text/plain": [
       "<Figure size 432x288 with 1 Axes>"
      ]
     },
     "metadata": {
      "needs_background": "light"
     },
     "output_type": "display_data"
    }
   ],
   "source": [
    "d_nai = df.groupby('date').size()\n",
    "print(d_nai)\n",
    "d_nai.plot()"
   ]
  },
  {
   "cell_type": "code",
   "execution_count": 178,
   "id": "6a125d15",
   "metadata": {},
   "outputs": [
    {
     "name": "stdout",
     "output_type": "stream",
     "text": [
      "    AGEMERE  AGEPERE\n",
      "17     2713      374\n",
      "18     2969      717\n",
      "19     5752     1628\n",
      "20     8790     2907\n",
      "21    11851     4763\n",
      "22    15171     7018\n",
      "23    19482     9669\n",
      "24    24026    13262\n",
      "25    28782    17374\n",
      "26    34443    22019\n",
      "27    41717    28612\n",
      "28    47120    36229\n",
      "29    52450    42760\n",
      "30    55460    45900\n",
      "31    56708    49803\n",
      "32    54511    50691\n",
      "33    50989    51157\n",
      "34    46049    47981\n",
      "35    40796    44128\n",
      "36    34866    41249\n",
      "37    30516    36862\n",
      "38    24677    32548\n",
      "39    20220    28592\n",
      "40    15033    23423\n",
      "41    10490    19889\n",
      "42     7349    16901\n",
      "43     4500    13630\n",
      "44     2653    11522\n",
      "45     1512     9601\n",
      "46     1788    42174\n",
      "753383 753383\n"
     ]
    },
    {
     "data": {
      "text/plain": [
       "<AxesSubplot:>"
      ]
     },
     "execution_count": 178,
     "metadata": {},
     "output_type": "execute_result"
    },
    {
     "data": {
      "image/png": "[encoded data removed]",
      "text/plain": [
       "<Figure size 432x288 with 1 Axes>"
      ]
     },
     "metadata": {
      "needs_background": "light"
     },
     "output_type": "display_data"
    }
   ],
   "source": [
    "d_mere = df.groupby('AGEMERE').size().rename('AGEMERE')\n",
    "d_pere = df.groupby('AGEPERE').size().rename('AGEPERE')\n",
    "# print(d_date[['AGEMERE', 'AGEPERE']])\n",
    "# plt.plot(d_pere)\n",
    "\n",
    "db_mere_pere = pd.concat([d_mere, d_pere], axis=1)\n",
    "print(db_mere_pere)\n",
    "print(sum(d_mere), sum(d_pere))\n",
    "db_mere_pere.plot()"
   ]
  },
  {
   "cell_type": "code",
   "execution_count": null,
   "id": "148eb79b",
   "metadata": {},
   "outputs": [],
   "source": []
  },
  {
   "cell_type": "code",
   "execution_count": null,
   "id": "60f6128f",
   "metadata": {},
   "outputs": [],
   "source": []
  }
 ],
 "metadata": {
  "kernelspec": {
   "display_name": "Python 3",
   "language": "python",
   "name": "python3"
  },
  "language_info": {
   "codemirror_mode": {
    "name": "ipython",
    "version": 3
   },
   "file_extension": ".py",
   "mimetype": "text/x-python",
   "name": "python",
   "nbconvert_exporter": "python",
   "pygments_lexer": "ipython3",
   "version": "3.8.10"
  }
 },
 "nbformat": 4,
 "nbformat_minor": 5
}