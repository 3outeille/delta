{
 "cells": [
  {
   "cell_type": "code",
   "execution_count": 1,
   "id": "597de7b3-0379-44b2-bc76-26c8f5538e80",
   "metadata": {},
   "outputs": [],
   "source": [
    "import pandas as pd\n",
    "import seaborn as sns\n",
    "import numpy as np\n",
    "import matplotlib.pyplot as plt"
   ]
  },
  {
   "cell_type": "code",
   "execution_count": 2,
   "id": "90705020-64c6-47b6-92fb-c5ef4993e55b",
   "metadata": {},
   "outputs": [],
   "source": [
    "df_global = pd.read_csv('2020.csv',sep=';')\n",
    "df_places = pd.read_csv('lieux-2020.csv',sep=';')\n",
    "df_vehicles = pd.read_csv('vehicules-2020.csv',sep=';')\n",
    "df_carac = pd.read_csv('caracteristiques-2020.csv',sep=';')\n",
    "df_users = pd.read_csv('usagers-2020.csv',sep=';')"
   ]
  },
  {
   "cell_type": "code",
   "execution_count": null,
   "id": "c0600832-48ec-4827-8539-ab644990321c",
   "metadata": {},
   "outputs": [],
   "source": []
  },
  {
   "cell_type": "code",
   "execution_count": 3,
   "id": "47409e28-9d14-4bc7-a9aa-8891925ab65e",
   "metadata": {},
   "outputs": [],
   "source": [
    "df_global = pd.read_csv('2020.csv',sep=';')"
   ]
  },
  {
   "cell_type": "code",
   "execution_count": 4,
   "id": "55a74c80-030e-4657-909d-47f5ed1159ae",
   "metadata": {},
   "outputs": [
    {
     "name": "stdout",
     "output_type": "stream",
     "text": [
      "0    66 505 400\n",
      "Name: Id_accident, dtype: object\n"
     ]
    }
   ],
   "source": [
    "print(df_global[df_global['Id_accident']=='66\\xa0505\\xa0400'].Id_accident)"
   ]
  },
  {
   "cell_type": "code",
   "execution_count": 5,
   "id": "23ef465e-b3e2-44eb-9fe6-9f3398b86eaf",
   "metadata": {
    "tags": []
   },
   "outputs": [],
   "source": [
    "df_global['Id_accident'] = df_global['Id_accident'].str.replace('\\xa0','')"
   ]
  },
  {
   "cell_type": "code",
   "execution_count": 6,
   "id": "dc22987f-5f22-44ae-a504-54e79bee5ec6",
   "metadata": {},
   "outputs": [],
   "source": [
    "df_global['Id_accident'] = df_global['Id_accident'].astype('int64')"
   ]
  },
  {
   "cell_type": "code",
   "execution_count": 7,
   "id": "4af249bc-a2c8-4597-8e10-6db7c9937a90",
   "metadata": {},
   "outputs": [
    {
     "data": {
      "text/html": [
       "<div>\n",
       "<style scoped>\n",
       "    .dataframe tbody tr th:only-of-type {\n",
       "        vertical-align: middle;\n",
       "    }\n",
       "\n",
       "    .dataframe tbody tr th {\n",
       "        vertical-align: top;\n",
       "    }\n",
       "\n",
       "    .dataframe thead th {\n",
       "        text-align: right;\n",
       "    }\n",
       "</style>\n",
       "<table border=\"1\" class=\"dataframe\">\n",
       "  <thead>\n",
       "    <tr style=\"text-align: right;\">\n",
       "      <th></th>\n",
       "      <th>Id_accident</th>\n",
       "      <th>Lettre Conventionnelle Véhicule</th>\n",
       "      <th>Année</th>\n",
       "      <th>Lieu Admin Actuel - Territoire Nom</th>\n",
       "      <th>Type Accident - Libellé</th>\n",
       "      <th>CNIT</th>\n",
       "      <th>Catégorie véhicule</th>\n",
       "      <th>Age véhicule</th>\n",
       "    </tr>\n",
       "  </thead>\n",
       "  <tbody>\n",
       "    <tr>\n",
       "      <th>0</th>\n",
       "      <td>66505400</td>\n",
       "      <td>A</td>\n",
       "      <td>2020</td>\n",
       "      <td>Métropole</td>\n",
       "      <td>Accident Léger</td>\n",
       "      <td>LJH12E20H030</td>\n",
       "      <td>Moto légère</td>\n",
       "      <td>18.0</td>\n",
       "    </tr>\n",
       "    <tr>\n",
       "      <th>1</th>\n",
       "      <td>66505401</td>\n",
       "      <td>A</td>\n",
       "      <td>2020</td>\n",
       "      <td>Métropole</td>\n",
       "      <td>Accident Léger</td>\n",
       "      <td>M10PGTVP0448882</td>\n",
       "      <td>VT</td>\n",
       "      <td>3.0</td>\n",
       "    </tr>\n",
       "  </tbody>\n",
       "</table>\n",
       "</div>"
      ],
      "text/plain": [
       "   Id_accident Lettre Conventionnelle Véhicule  Année  \\\n",
       "0     66505400                               A   2020   \n",
       "1     66505401                               A   2020   \n",
       "\n",
       "  Lieu Admin Actuel - Territoire Nom Type Accident - Libellé             CNIT  \\\n",
       "0                          Métropole          Accident Léger     LJH12E20H030   \n",
       "1                          Métropole          Accident Léger  M10PGTVP0448882   \n",
       "\n",
       "  Catégorie véhicule  Age véhicule  \n",
       "0        Moto légère          18.0  \n",
       "1                 VT           3.0  "
      ]
     },
     "execution_count": 7,
     "metadata": {},
     "output_type": "execute_result"
    }
   ],
   "source": [
    "df_global.head(2)"
   ]
  },
  {
   "cell_type": "code",
   "execution_count": 8,
   "id": "c97e8379-bd23-4ef6-8e2e-98c5b877fe8c",
   "metadata": {},
   "outputs": [
    {
     "data": {
      "text/plain": [
       "count    4.774400e+04\n",
       "mean     2.020000e+11\n",
       "std      1.378265e+04\n",
       "min      2.020000e+11\n",
       "25%      2.020000e+11\n",
       "50%      2.020000e+11\n",
       "75%      2.020000e+11\n",
       "max      2.020000e+11\n",
       "Name: Num_Acc, dtype: float64"
      ]
     },
     "execution_count": 8,
     "metadata": {},
     "output_type": "execute_result"
    }
   ],
   "source": [
    "df_places.Num_Acc.describe()"
   ]
  },
  {
   "cell_type": "code",
   "execution_count": 9,
   "id": "a323a189-ecfd-4ffa-b381-eaedcc696660",
   "metadata": {},
   "outputs": [
    {
     "data": {
      "text/plain": [
       "Index(['Num_Acc', 'id_vehicule', 'num_veh', 'senc', 'catv', 'obs', 'obsm',\n",
       "       'choc', 'manv', 'motor', 'occutc'],\n",
       "      dtype='object')"
      ]
     },
     "execution_count": 9,
     "metadata": {},
     "output_type": "execute_result"
    }
   ],
   "source": [
    "df_vehicles.columns"
   ]
  },
  {
   "cell_type": "code",
   "execution_count": 10,
   "id": "a96a190b-f9cf-473a-9a7c-6b06fcdb4409",
   "metadata": {},
   "outputs": [
    {
     "data": {
      "text/plain": [
       "Index(['Num_Acc', 'jour', 'mois', 'an', 'hrmn', 'lum', 'dep', 'com', 'agg',\n",
       "       'int', 'atm', 'col', 'adr', 'lat', 'long'],\n",
       "      dtype='object')"
      ]
     },
     "execution_count": 10,
     "metadata": {},
     "output_type": "execute_result"
    }
   ],
   "source": [
    "df_carac.columns"
   ]
  },
  {
   "cell_type": "code",
   "execution_count": 11,
   "id": "450e69f1-9b53-4a18-81f8-e5339672ba05",
   "metadata": {},
   "outputs": [
    {
     "data": {
      "text/plain": [
       "Index(['Num_Acc', 'id_vehicule', 'num_veh', 'place', 'catu', 'grav', 'sexe',\n",
       "       'an_nais', 'trajet', 'secu1', 'secu2', 'secu3', 'locp', 'actp',\n",
       "       'etatp'],\n",
       "      dtype='object')"
      ]
     },
     "execution_count": 11,
     "metadata": {},
     "output_type": "execute_result"
    }
   ],
   "source": [
    "df_users.columns"
   ]
  },
  {
   "cell_type": "code",
   "execution_count": 12,
   "id": "f7fa6969-1963-43e7-80d4-b5981a6afc62",
   "metadata": {},
   "outputs": [],
   "source": []
  },
  {
   "cell_type": "code",
   "execution_count": 27,
   "id": "dd2a7aee-fd67-4a23-85a3-62c87f357d0d",
   "metadata": {},
   "outputs": [
    {
     "data": {
      "text/plain": [
       "Index(['Lettre Conventionnelle Véhicule', 'Lieu Admin Actuel - Territoire Nom',\n",
       "       'Type Accident - Libellé', 'CNIT', 'Catégorie véhicule'],\n",
       "      dtype='object')"
      ]
     },
     "execution_count": 27,
     "metadata": {},
     "output_type": "execute_result"
    }
   ],
   "source": [
    "df_global.select_dtypes('object').columns"
   ]
  },
  {
   "cell_type": "code",
   "execution_count": 37,
   "id": "99deeb98-ccde-45e7-93dc-c3df28e21adb",
   "metadata": {},
   "outputs": [],
   "source": [
    "sns.set(rc={'figure.figsize':(11.7,8.27)})"
   ]
  },
  {
   "cell_type": "code",
   "execution_count": 39,
   "id": "326e39cf-dc08-4781-b1d8-bfad975b1697",
   "metadata": {},
   "outputs": [
    {
     "data": {
      "text/plain": [
       "<AxesSubplot:xlabel='Lettre Conventionnelle Véhicule', ylabel='count'>"
      ]
     },
     "execution_count": 39,
     "metadata": {},
     "output_type": "execute_result"
    },
    {
     "data": {
      "image/png": "[encoded data removed]",
      "text/plain": [
       "<Figure size 842.4x595.44 with 1 Axes>"
      ]
     },
     "metadata": {},
     "output_type": "display_data"
    }
   ],
   "source": [
    "sns.countplot(x='Lettre Conventionnelle Véhicule', data=df_global)"
   ]
  },
  {
   "cell_type": "code",
   "execution_count": 40,
   "id": "25bc858d-3a4a-4fd9-b7b0-5e90f91e1bdd",
   "metadata": {},
   "outputs": [
    {
     "data": {
      "text/plain": [
       "<AxesSubplot:xlabel='Lieu Admin Actuel - Territoire Nom', ylabel='count'>"
      ]
     },
     "execution_count": 40,
     "metadata": {},
     "output_type": "execute_result"
    },
    {
     "data": {
      "image/png": "[encoded data removed]",
      "text/plain": [
       "<Figure size 842.4x595.44 with 1 Axes>"
      ]
     },
     "metadata": {},
     "output_type": "display_data"
    }
   ],
   "source": [
    "sns.countplot(x='Lieu Admin Actuel - Territoire Nom', data=df_global)"
   ]
  },
  {
   "cell_type": "code",
   "execution_count": 41,
   "id": "2af33d9b-e503-4e00-988d-d63e6f72e56b",
   "metadata": {},
   "outputs": [
    {
     "data": {
      "text/plain": [
       "<AxesSubplot:xlabel='Type Accident - Libellé', ylabel='count'>"
      ]
     },
     "execution_count": 41,
     "metadata": {},
     "output_type": "execute_result"
    },
    {
     "data": {
      "image/png": "[encoded data removed]",
      "text/plain": [
       "<Figure size 842.4x595.44 with 1 Axes>"
      ]
     },
     "metadata": {},
     "output_type": "display_data"
    }
   ],
   "source": [
    "sns.countplot(x='Type Accident - Libellé', data=df_global)"
   ]
  },
  {
   "cell_type": "code",
   "execution_count": 42,
   "id": "c473c635-afdd-4b2e-b8bc-d35916a944a6",
   "metadata": {},
   "outputs": [
    {
     "data": {
      "text/plain": [
       "<AxesSubplot:xlabel='Catégorie véhicule', ylabel='count'>"
      ]
     },
     "execution_count": 42,
     "metadata": {},
     "output_type": "execute_result"
    },
    {
     "data": {
      "image/png": "[encoded data removed]",
      "text/plain": [
       "<Figure size 842.4x595.44 with 1 Axes>"
      ]
     },
     "metadata": {},
     "output_type": "display_data"
    }
   ],
   "source": [
    "sns.countplot(x='Catégorie véhicule', data=df_global)"
   ]
  },
  {
   "cell_type": "code",
   "execution_count": null,
   "id": "e3e751ea-0ea6-42b1-aa93-2ca4a9af076b",
   "metadata": {},
   "outputs": [],
   "source": []
  }
 ],
 "metadata": {
  "kernelspec": {
   "display_name": "Python 3",
   "language": "python",
   "name": "python3"
  },
  "language_info": {
   "codemirror_mode": {
    "name": "ipython",
    "version": 3
   },
   "file_extension": ".py",
   "mimetype": "text/x-python",
   "name": "python",
   "nbconvert_exporter": "python",
   "pygments_lexer": "ipython3",
   "version": "3.8.0"
  }
 },
 "nbformat": 4,
 "nbformat_minor": 5
}
