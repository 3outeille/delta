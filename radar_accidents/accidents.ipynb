{
 "cells": [
  {
   "cell_type": "code",
   "execution_count": null,
   "id": "597de7b3-0379-44b2-bc76-26c8f5538e80",
   "metadata": {},
   "outputs": [],
   "source": [
    "import pandas as pd\n",
    "import seaborn as sns\n",
    "import numpy as np\n",
    "import matplotlib.pyplot as plt"
   ]
  },
  {
   "cell_type": "code",
   "execution_count": null,
   "id": "90705020-64c6-47b6-92fb-c5ef4993e55b",
   "metadata": {},
   "outputs": [],
   "source": [
    "df_global = pd.read_csv('2020.csv',sep=';')\n",
    "df_places = pd.read_csv('lieux-2020.csv',sep=';')\n",
    "df_vehicles = pd.read_csv('vehicules-2020.csv',sep=';')\n",
    "df_carac = pd.read_csv('caracteristiques-2020.csv',sep=';')\n",
    "df_users = pd.read_csv('usagers-2020.csv',sep=';')"
   ]
  },
  {
   "cell_type": "code",
   "execution_count": null,
   "id": "c0600832-48ec-4827-8539-ab644990321c",
   "metadata": {},
   "outputs": [],
   "source": []
  },
  {
   "cell_type": "code",
   "execution_count": null,
   "id": "47409e28-9d14-4bc7-a9aa-8891925ab65e",
   "metadata": {},
   "outputs": [],
   "source": [
    "df_global = pd.read_csv('2020.csv',sep=';')"
   ]
  },
  {
   "cell_type": "code",
   "execution_count": null,
   "id": "55a74c80-030e-4657-909d-47f5ed1159ae",
   "metadata": {},
   "outputs": [],
   "source": [
    "print(df_global[df_global['Id_accident']=='66\\xa0505\\xa0400'].Id_accident)"
   ]
  },
  {
   "cell_type": "code",
   "execution_count": null,
   "id": "23ef465e-b3e2-44eb-9fe6-9f3398b86eaf",
   "metadata": {
    "tags": []
   },
   "outputs": [],
   "source": [
    "df_global['Id_accident'] = df_global['Id_accident'].str.replace('\\xa0','')"
   ]
  },
  {
   "cell_type": "code",
   "execution_count": null,
   "id": "dc22987f-5f22-44ae-a504-54e79bee5ec6",
   "metadata": {},
   "outputs": [],
   "source": [
    "df_global['Id_accident'] = df_global['Id_accident'].astype('int64')"
   ]
  },
  {
   "cell_type": "code",
   "execution_count": null,
   "id": "4af249bc-a2c8-4597-8e10-6db7c9937a90",
   "metadata": {},
   "outputs": [],
   "source": [
    "df_global.head(2)"
   ]
  },
  {
   "cell_type": "code",
   "execution_count": null,
   "id": "c97e8379-bd23-4ef6-8e2e-98c5b877fe8c",
   "metadata": {},
   "outputs": [],
   "source": [
    "df_places.Num_Acc.describe()"
   ]
  },
  {
   "cell_type": "code",
   "execution_count": null,
   "id": "a323a189-ecfd-4ffa-b381-eaedcc696660",
   "metadata": {},
   "outputs": [],
   "source": [
    "df_vehicles.columns"
   ]
  },
  {
   "cell_type": "code",
   "execution_count": null,
   "id": "a96a190b-f9cf-473a-9a7c-6b06fcdb4409",
   "metadata": {},
   "outputs": [],
   "source": [
    "df_carac.columns"
   ]
  },
  {
   "cell_type": "code",
   "execution_count": null,
   "id": "450e69f1-9b53-4a18-81f8-e5339672ba05",
   "metadata": {},
   "outputs": [],
   "source": [
    "df_users.columns"
   ]
  },
  {
   "cell_type": "code",
   "execution_count": null,
   "id": "f7fa6969-1963-43e7-80d4-b5981a6afc62",
   "metadata": {},
   "outputs": [],
   "source": []
  },
  {
   "cell_type": "code",
   "execution_count": null,
   "id": "dd2a7aee-fd67-4a23-85a3-62c87f357d0d",
   "metadata": {},
   "outputs": [],
   "source": [
    "df_global.select_dtypes('object').columns"
   ]
  },
  {
   "cell_type": "code",
   "execution_count": null,
   "id": "99deeb98-ccde-45e7-93dc-c3df28e21adb",
   "metadata": {},
   "outputs": [],
   "source": [
    "sns.set(rc={'figure.figsize':(11.7,8.27)})"
   ]
  },
  {
   "cell_type": "code",
   "execution_count": null,
   "id": "326e39cf-dc08-4781-b1d8-bfad975b1697",
   "metadata": {},
   "outputs": [],
   "source": [
    "sns.countplot(x='Lettre Conventionnelle Véhicule', data=df_global)"
   ]
  },
  {
   "cell_type": "code",
   "execution_count": null,
   "id": "25bc858d-3a4a-4fd9-b7b0-5e90f91e1bdd",
   "metadata": {},
   "outputs": [],
   "source": [
    "sns.countplot(x='Lieu Admin Actuel - Territoire Nom', data=df_global)"
   ]
  },
  {
   "cell_type": "code",
   "execution_count": null,
   "id": "2af33d9b-e503-4e00-988d-d63e6f72e56b",
   "metadata": {},
   "outputs": [],
   "source": [
    "sns.countplot(x='Type Accident - Libellé', data=df_global)"
   ]
  },
  {
   "cell_type": "code",
   "execution_count": null,
   "id": "c473c635-afdd-4b2e-b8bc-d35916a944a6",
   "metadata": {},
   "outputs": [],
   "source": [
    "sns.countplot(x='Catégorie véhicule', data=df_global)"
   ]
  },
  {
   "cell_type": "code",
   "execution_count": null,
   "id": "737adeb4-4668-4e9f-9dbe-b700805f42b3",
   "metadata": {},
   "outputs": [],
   "source": []
  }
 ],
 "metadata": {
  "kernelspec": {
   "display_name": "PYBD",
   "language": "python",
   "name": "pybd"
  },
  "language_info": {
   "codemirror_mode": {
    "name": "ipython",
    "version": 3
   },
   "file_extension": ".py",
   "mimetype": "text/x-python",
   "name": "python",
   "nbconvert_exporter": "python",
   "pygments_lexer": "ipython3",
   "version": "3.10.1"
  }
 },
 "nbformat": 4,
 "nbformat_minor": 5
}
