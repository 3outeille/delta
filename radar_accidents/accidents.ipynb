{
 "cells": [
  {
   "cell_type": "code",
   "execution_count": null,
   "id": "597de7b3-0379-44b2-bc76-26c8f5538e80",
   "metadata": {},
   "outputs": [],
   "source": [
    "import pandas as pd\n",
    "import seaborn as sns\n",
    "import numpy as np\n",
    "import matplotlib.pyplot as plt"
   ]
  },
  {
   "cell_type": "code",
   "execution_count": null,
   "id": "90705020-64c6-47b6-92fb-c5ef4993e55b",
   "metadata": {},
   "outputs": [],
   "source": [
    "df_global = pd.read_csv('2020.csv',sep=';')\n",
    "df_places = pd.read_csv('lieux-2020.csv',sep=';')\n",
    "df_vehicles = pd.read_csv('vehicules-2020.csv',sep=';')\n",
    "df_carac = pd.read_csv('caracteristiques-2020.csv',sep=';')\n",
    "df_users = pd.read_csv('usagers-2020.csv',sep=';')"
   ]
  },
  {
   "cell_type": "code",
   "execution_count": null,
   "id": "c0600832-48ec-4827-8539-ab644990321c",
   "metadata": {},
   "outputs": [],
   "source": []
  },
  {
   "cell_type": "code",
   "execution_count": null,
   "id": "47409e28-9d14-4bc7-a9aa-8891925ab65e",
   "metadata": {},
   "outputs": [],
   "source": [
    "df_global = pd.read_csv('2020.csv',sep=';')"
   ]
  },
  {
   "cell_type": "code",
   "execution_count": null,
   "id": "55a74c80-030e-4657-909d-47f5ed1159ae",
   "metadata": {},
   "outputs": [],
   "source": [
    "print(df_global[df_global['Id_accident']=='66\\xa0505\\xa0400'].Id_accident)"
   ]
  },
  {
   "cell_type": "code",
   "execution_count": null,
   "id": "23ef465e-b3e2-44eb-9fe6-9f3398b86eaf",
   "metadata": {
    "tags": []
   },
   "outputs": [],
   "source": [
    "df_global['Id_accident'] = df_global['Id_accident'].str.replace('\\xa0','')"
   ]
  },
  {
   "cell_type": "code",
   "execution_count": null,
   "id": "dc22987f-5f22-44ae-a504-54e79bee5ec6",
   "metadata": {},
   "outputs": [],
   "source": [
    "df_global['Id_accident'] = df_global['Id_accident'].astype('int64')"
   ]
  },
  {
   "cell_type": "code",
   "execution_count": null,
   "id": "4af249bc-a2c8-4597-8e10-6db7c9937a90",
   "metadata": {},
   "outputs": [],
   "source": [
    "df_global.head(2)"
   ]
  },
  {
   "cell_type": "code",
   "execution_count": null,
   "id": "c97e8379-bd23-4ef6-8e2e-98c5b877fe8c",
   "metadata": {},
   "outputs": [],
   "source": [
    "df_places.Num_Acc.describe()"
   ]
  },
  {
   "cell_type": "code",
   "execution_count": null,
   "id": "a323a189-ecfd-4ffa-b381-eaedcc696660",
   "metadata": {},
   "outputs": [],
   "source": [
    "df_vehicles.columns"
   ]
  },
  {
   "cell_type": "code",
   "execution_count": null,
   "id": "a96a190b-f9cf-473a-9a7c-6b06fcdb4409",
   "metadata": {},
   "outputs": [],
   "source": [
    "df_carac.columns"
   ]
  },
  {
   "cell_type": "code",
   "execution_count": null,
   "id": "450e69f1-9b53-4a18-81f8-e5339672ba05",
   "metadata": {},
   "outputs": [],
   "source": [
    "df_users.columns"
   ]
  },
  {
   "cell_type": "code",
   "execution_count": null,
   "id": "f7fa6969-1963-43e7-80d4-b5981a6afc62",
   "metadata": {},
   "outputs": [],
   "source": []
  },
  {
   "cell_type": "code",
   "execution_count": null,
   "id": "dd2a7aee-fd67-4a23-85a3-62c87f357d0d",
   "metadata": {},
   "outputs": [],
   "source": [
    "df_global.select_dtypes('object').columns"
   ]
  },
  {
   "cell_type": "code",
   "execution_count": null,
   "id": "99deeb98-ccde-45e7-93dc-c3df28e21adb",
   "metadata": {},
   "outputs": [],
   "source": [
    "sns.set(rc={'figure.figsize':(11.7,8.27)})"
   ]
  },
  {
   "cell_type": "code",
   "execution_count": null,
   "id": "326e39cf-dc08-4781-b1d8-bfad975b1697",
   "metadata": {},
   "outputs": [],
   "source": [
    "sns.countplot(x='Lettre Conventionnelle Véhicule', data=df_global)"
   ]
  },
  {
   "cell_type": "code",
   "execution_count": null,
   "id": "25bc858d-3a4a-4fd9-b7b0-5e90f91e1bdd",
   "metadata": {},
   "outputs": [],
   "source": [
    "sns.countplot(x='Lieu Admin Actuel - Territoire Nom', data=df_global)"
   ]
  },
  {
   "cell_type": "code",
   "execution_count": null,
   "id": "2af33d9b-e503-4e00-988d-d63e6f72e56b",
   "metadata": {},
   "outputs": [],
   "source": [
    "sns.countplot(x='Type Accident - Libellé', data=df_global)"
   ]
  },
  {
   "cell_type": "code",
   "execution_count": null,
   "id": "c473c635-afdd-4b2e-b8bc-d35916a944a6",
   "metadata": {},
   "outputs": [],
   "source": [
    "sns.countplot(x='Catégorie véhicule', data=df_global)"
   ]
  },
  {
   "cell_type": "markdown",
   "id": "bdad62fe-5a63-44b3-a5a0-77951687ebb3",
   "metadata": {},
   "source": [
    "## Localisation\n",
    "\n",
    "On s'intéresse au coordonées GPS des accidents, qui sont dans les fichier **caractéristiques**"
   ]
  },
  {
   "cell_type": "code",
   "execution_count": null,
   "id": "d5a0220f-84af-47a1-a157-3f2c4f9a0881",
   "metadata": {},
   "outputs": [],
   "source": [
    "df_carac = pd.read_csv('caracteristiques-2020.csv',sep=';',encoding='latin')"
   ]
  },
  {
   "cell_type": "code",
   "execution_count": null,
   "id": "1db9423b-4ac6-46e5-83ff-17d12995a75c",
   "metadata": {},
   "outputs": [],
   "source": [
    "df_carac.columns"
   ]
  },
  {
   "cell_type": "code",
   "execution_count": null,
   "id": "a226329b-9908-4dbf-a5f9-2fb8440319f0",
   "metadata": {},
   "outputs": [],
   "source": [
    "seps = {x:',' for x in range(2005,2009)}\\\n",
    "        | {2009:'\\t'}\\\n",
    "        | {x:',' for x in range(2010,2019)}\\\n",
    "#        | {x:';' for x in range(2019,2021)}\n",
    "dtype = {'lat':str,'long':str,'an':int}\n",
    "df_carac = pd.concat([pd.read_csv('data/caracteristiques_' + str(year) + '.csv',sep=sep, dtype=dtype,\n",
    "                             encoding='latin',on_bad_lines='skip') for (year,sep) in seps.items()])"
   ]
  },
  {
   "cell_type": "code",
   "execution_count": null,
   "id": "c7ae1556-c98a-4ef9-a5c9-5adc1482af28",
   "metadata": {},
   "outputs": [],
   "source": [
    "df_carac.head()"
   ]
  },
  {
   "cell_type": "code",
   "execution_count": null,
   "id": "b3d2df76-0d7c-4482-b795-4b063c1d12d4",
   "metadata": {},
   "outputs": [],
   "source": [
    "df_carac['an'].describe()"
   ]
  },
  {
   "cell_type": "markdown",
   "id": "f5fe5755-5ae1-41c2-9bca-948bdfd6d66a",
   "metadata": {},
   "source": [
    "On doit corriger les années numérotées de 5 à 17 pour les ramener après 2000"
   ]
  },
  {
   "cell_type": "code",
   "execution_count": null,
   "id": "ccf705ff-ddb5-4ab5-ae86-91c1764225a9",
   "metadata": {},
   "outputs": [],
   "source": [
    "df_carac.loc[df_carac['an'] < 2000,'an'] += 2000"
   ]
  },
  {
   "cell_type": "code",
   "execution_count": null,
   "id": "cf48e3f9-54ef-494c-9765-168805ce7b84",
   "metadata": {},
   "outputs": [],
   "source": [
    "df_carac['an']"
   ]
  },
  {
   "cell_type": "code",
   "execution_count": null,
   "id": "a35b6668-c118-4152-978b-d7d3ab1219b7",
   "metadata": {},
   "outputs": [],
   "source": [
    "df_carac.columns"
   ]
  },
  {
   "cell_type": "code",
   "execution_count": null,
   "id": "3fcc5cfc-37e9-424b-ad81-e9997640a581",
   "metadata": {},
   "outputs": [],
   "source": [
    "df_carac.dtypes"
   ]
  },
  {
   "cell_type": "code",
   "execution_count": null,
   "id": "06e68a39-beb1-4a55-bbeb-ace62af83582",
   "metadata": {},
   "outputs": [],
   "source": [
    "df_carac = df_carac[(df_carac['long']=='-') == False]\n",
    "df_carac = df_carac[(df_carac['long']=='0') == False]"
   ]
  },
  {
   "cell_type": "code",
   "execution_count": null,
   "id": "ffd60521-6f4e-4895-a87f-fe5cbc0de666",
   "metadata": {
    "tags": []
   },
   "outputs": [],
   "source": [
    "df_carac[['long','lat']].describe()"
   ]
  },
  {
   "cell_type": "code",
   "execution_count": null,
   "id": "eb63eb3a-f53e-4889-a52d-388f0d1298e6",
   "metadata": {},
   "outputs": [],
   "source": [
    "def convert_deg(x):\n",
    "    if not isinstance(x, str) or x == '-':\n",
    "        return np.nan\n",
    "    if (x[0] == '-'):\n",
    "        return float(x[:2]+'.'+ x[2:])\n",
    "    else:\n",
    "        return float(x[:2]+'.'+ x[2:])\n",
    "\n",
    "def safe_convert(x):\n",
    "    try:\n",
    "        r = convert_deg(x)\n",
    "        return r\n",
    "    except:\n",
    "        return np.nan"
   ]
  },
  {
   "cell_type": "code",
   "execution_count": null,
   "id": "6dde451e-1e6a-4e5a-a891-821e9abeb7df",
   "metadata": {
    "tags": []
   },
   "outputs": [],
   "source": [
    "tmp = df_carac.copy()\n",
    "tmp.loc[:,'long'] = tmp['long'].apply(safe_convert)\n",
    "tmp.loc[:,'lat'] = tmp['lat'].apply(safe_convert)\n",
    "tmp['long'].dropna().count()\n",
    "tmp.head()"
   ]
  },
  {
   "cell_type": "code",
   "execution_count": null,
   "id": "7beae4e9-846f-4e06-940c-b111356ccf49",
   "metadata": {},
   "outputs": [],
   "source": [
    "df_carac.loc[:,'long'] = df_carac['long'].apply(convert_deg)\n",
    "df_carac.loc[:,'lat'] = df_carac['lat'].apply(convert_deg)\n"
   ]
  },
  {
   "cell_type": "code",
   "execution_count": null,
   "id": "7edd4ae1-3dbf-45c2-8627-48fb1041c949",
   "metadata": {
    "tags": []
   },
   "outputs": [],
   "source": [
    "import plotly.express as px\n",
    "\n",
    "#print(df_carac[df_carac['lat'] > 30]['long'].dropna().count())\n",
    "#tmp = df_carac.iloc[0:500000].copy()\n",
    "tmp = df_carac.copy()\n",
    "tmp = tmp[tmp['lat'] > 30]\n",
    "tmp = tmp.dropna().copy()\n",
    "print(tmp.shape)\n",
    "tmp = tmp[tmp['an']==2016].copy()"
   ]
  },
  {
   "cell_type": "code",
   "execution_count": null,
   "id": "c2ecb4eb-927d-4f46-b825-0a674fc9f927",
   "metadata": {
    "tags": []
   },
   "outputs": [],
   "source": [
    "fig = px.scatter_mapbox(tmp, lat=\"lat\", lon=\"long\",\n",
    "                        hover_name=\"Num_Acc\", color_discrete_sequence=[\"blue\"], zoom=5, height=850, width=850,\n",
    "                        center={'lat':46,'lon':2},mapbox_style='open-street-map')\n",
    "\n",
    "fig.update_layout(mapbox_style=\"open-street-map\")\n",
    "fig.show()"
   ]
  },
  {
   "cell_type": "code",
   "execution_count": null,
   "id": "c9079674-b45b-478a-aa86-8f661a25d7d2",
   "metadata": {
    "tags": []
   },
   "outputs": [],
   "source": [
    "plt.figure(figsize=(120,120))\n",
    "plt.scatter(df_carac['lat'], df_carac['long'])\n",
    "plt.title('Location of the accident (Metropole)')\n",
    "plt.show()"
   ]
  }
 ],
 "metadata": {
  "kernelspec": {
   "display_name": "PYBD",
   "language": "python",
   "name": "pybd"
  },
  "language_info": {
   "codemirror_mode": {
    "name": "ipython",
    "version": 3
   },
   "file_extension": ".py",
   "mimetype": "text/x-python",
   "name": "python",
   "nbconvert_exporter": "python",
   "pygments_lexer": "ipython3",
   "version": "3.10.1"
  }
 },
 "nbformat": 4,
 "nbformat_minor": 5
}
