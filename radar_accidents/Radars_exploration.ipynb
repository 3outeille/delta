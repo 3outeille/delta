{
 "cells": [
  {
   "cell_type": "code",
   "execution_count": null,
   "metadata": {},
   "outputs": [],
   "source": [
    "import pandas as pd\n",
    "import numpy as np\n",
    "import matplotlib.pyplot as plt"
   ]
  },
  {
   "cell_type": "code",
   "execution_count": null,
   "metadata": {},
   "outputs": [],
   "source": [
    "df_radars = pd.read_csv(\"radars.csv\")\n",
    "df_radars"
   ]
  },
  {
   "cell_type": "code",
   "execution_count": null,
   "metadata": {},
   "outputs": [],
   "source": [
    "import plotly.express as px\n",
    "\n",
    "fig = px.scatter_mapbox(df_radars, lat=\"latitude\", lon=\"longitude\", hover_name=\"emplacement\", color_discrete_sequence=[\"blue\"], zoom=5, height=850, width=850)\n",
    "\n",
    "fig.update_layout(mapbox_style=\"open-street-map\")\n",
    "fig.show()"
   ]
  },
  {
   "cell_type": "code",
   "execution_count": null,
   "metadata": {},
   "outputs": [],
   "source": [
    "temp = df_radars.groupby([\"emplacement\"])\n",
    "radars_dep = temp[[\"id\"]].count()\n",
    "radars_dep['latitude'] = temp[['latitude']].mean()\n",
    "radars_dep['longitude'] = temp[['longitude']].mean()\n",
    "radars_dep"
   ]
  },
  {
   "cell_type": "code",
   "execution_count": null,
   "metadata": {},
   "outputs": [],
   "source": [
    "dep = px.scatter_mapbox(radars_dep,\n",
    "                        lat=\"latitude\",\n",
    "                        lon=\"longitude\",\n",
    "                        color_discrete_sequence=[\"blue\"],\n",
    "                        zoom=5, height=850, width=850,\n",
    "                        size=\"id\", color=\"id\", hover_name=radars_dep.index,\n",
    "                        color_continuous_scale=px.colors.carto.Purpor_r)\n",
    "\n",
    "dep.update_layout(mapbox_style=\"open-street-map\")\n",
    "dep.show()"
   ]
  },
  {
   "cell_type": "code",
   "execution_count": null,
   "metadata": {},
   "outputs": [],
   "source": [
    "radars_year = df_radars[[\"date_installation\", \"emplacement\", \"latitude\", \"longitude\", \"id\"]]"
   ]
  },
  {
   "cell_type": "code",
   "execution_count": null,
   "metadata": {},
   "outputs": [],
   "source": []
  }
 ],
 "metadata": {
  "kernelspec": {
   "display_name": "Python 3 (ipykernel)",
   "language": "python",
   "name": "python3"
  },
  "language_info": {
   "codemirror_mode": {
    "name": "ipython",
    "version": 3
   },
   "file_extension": ".py",
   "mimetype": "text/x-python",
   "name": "python",
   "nbconvert_exporter": "python",
   "pygments_lexer": "ipython3",
   "version": "3.8.13"
  }
 },
 "nbformat": 4,
 "nbformat_minor": 4
}
